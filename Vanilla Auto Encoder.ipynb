{
 "cells": [
  {
   "cell_type": "code",
   "execution_count": 1,
   "id": "5e382a99",
   "metadata": {},
   "outputs": [],
   "source": [
    "import numpy as np\n",
    "from keras.models import *\n",
    "from keras.layers import *\n",
    "from keras.optimizers import *\n",
    "from keras.callbacks import *\n",
    "from keras.datasets import mnist\n",
    "import keras.backend as K\n",
    "import matplotlib.pyplot as plt\n",
    "\n",
    "K.set_image_data_format('channels_last')"
   ]
  },
  {
   "cell_type": "code",
   "execution_count": 2,
   "id": "0f88b02c",
   "metadata": {},
   "outputs": [
    {
     "name": "stdout",
     "output_type": "stream",
     "text": [
      "x_train.shape :  (60000, 28, 28)\n",
      "x_test.shape :  (10000, 28, 28)\n",
      "x_train.reshape :  (60000, 784)\n",
      "x_test.reshape :  (10000, 784)\n"
     ]
    }
   ],
   "source": [
    "# Load MNIST dataset\n",
    "(x_train, y_train), (x_test, y_test) = mnist.load_data()\n",
    "x_train = x_train.astype('float32') / 255.0\n",
    "x_test = x_test.astype('float32') / 255.0\n",
    "print('x_train.shape : ', x_train.shape)\n",
    "print('x_test.shape : ', x_test.shape)\n",
    "\n",
    "x_train = x_train.reshape(-1, 784)\n",
    "x_test = x_test.reshape(-1, 784)\n",
    "print('x_train.reshape : ', x_train.shape)\n",
    "print('x_test.reshape : ', x_test.shape)"
   ]
  },
  {
   "cell_type": "code",
   "execution_count": 3,
   "id": "c3fa81f9",
   "metadata": {},
   "outputs": [
    {
     "name": "stdout",
     "output_type": "stream",
     "text": [
      "Model: \"Vanilla-Auto-Encoder\"\n",
      "_________________________________________________________________\n",
      " Layer (type)                Output Shape              Param #   \n",
      "=================================================================\n",
      " dense (Dense)               (None, 256)               200960    \n",
      "                                                                 \n",
      " activation (Activation)     (None, 256)               0         \n",
      "                                                                 \n",
      " dense_1 (Dense)             (None, 784)               201488    \n",
      "                                                                 \n",
      "=================================================================\n",
      "Total params: 402,448\n",
      "Trainable params: 402,448\n",
      "Non-trainable params: 0\n",
      "_________________________________________________________________\n"
     ]
    }
   ],
   "source": [
    "AE = Sequential(name = 'Vanilla-Auto-Encoder')\n",
    "\n",
    "# input layer\n",
    "AE.add(Input(784))\n",
    "\n",
    "# Latent layer. (Encoding)\n",
    "AE.add(Dense(256))\n",
    "AE.add(Activation('relu'))\n",
    "\n",
    "# output layer. (Decoding)\n",
    "AE.add(Dense(784))\n",
    "       \n",
    "AE.summary()"
   ]
  },
  {
   "cell_type": "code",
   "execution_count": 4,
   "id": "deedbc24",
   "metadata": {
    "scrolled": true
   },
   "outputs": [
    {
     "name": "stdout",
     "output_type": "stream",
     "text": [
      "Epoch 1/50\n",
      "480/480 [==============================] - 1s 2ms/step - loss: 0.0201 - val_loss: 0.0081\n",
      "Epoch 2/50\n",
      "480/480 [==============================] - 1s 1ms/step - loss: 0.0066 - val_loss: 0.0056\n",
      "Epoch 3/50\n",
      "480/480 [==============================] - 1s 1ms/step - loss: 0.0051 - val_loss: 0.0047\n",
      "Epoch 4/50\n",
      "480/480 [==============================] - 1s 1ms/step - loss: 0.0045 - val_loss: 0.0043\n",
      "Epoch 5/50\n",
      "480/480 [==============================] - 1s 1ms/step - loss: 0.0041 - val_loss: 0.0040\n",
      "Epoch 6/50\n",
      "480/480 [==============================] - 1s 1ms/step - loss: 0.0039 - val_loss: 0.0039\n",
      "Epoch 7/50\n",
      "480/480 [==============================] - 1s 1ms/step - loss: 0.0038 - val_loss: 0.0038\n",
      "Epoch 8/50\n",
      "480/480 [==============================] - 1s 1ms/step - loss: 0.0037 - val_loss: 0.0037\n",
      "Epoch 9/50\n",
      "480/480 [==============================] - 1s 2ms/step - loss: 0.0036 - val_loss: 0.0036\n",
      "Epoch 10/50\n",
      "480/480 [==============================] - 1s 1ms/step - loss: 0.0035 - val_loss: 0.0035\n",
      "Epoch 11/50\n",
      "480/480 [==============================] - 1s 1ms/step - loss: 0.0034 - val_loss: 0.0034\n",
      "Epoch 12/50\n",
      "480/480 [==============================] - 1s 1ms/step - loss: 0.0033 - val_loss: 0.0033\n",
      "Epoch 13/50\n",
      "480/480 [==============================] - 1s 1ms/step - loss: 0.0032 - val_loss: 0.0033\n",
      "Epoch 14/50\n",
      "480/480 [==============================] - 1s 1ms/step - loss: 0.0032 - val_loss: 0.0031\n",
      "Epoch 15/50\n",
      "480/480 [==============================] - 1s 1ms/step - loss: 0.0031 - val_loss: 0.0031\n",
      "Epoch 16/50\n",
      "480/480 [==============================] - 1s 1ms/step - loss: 0.0030 - val_loss: 0.0030\n",
      "Epoch 17/50\n",
      "480/480 [==============================] - 1s 1ms/step - loss: 0.0029 - val_loss: 0.0029\n",
      "Epoch 18/50\n",
      "480/480 [==============================] - 1s 1ms/step - loss: 0.0029 - val_loss: 0.0029\n",
      "Epoch 19/50\n",
      "480/480 [==============================] - 1s 1ms/step - loss: 0.0028 - val_loss: 0.0028\n",
      "Epoch 20/50\n",
      "480/480 [==============================] - 1s 1ms/step - loss: 0.0028 - val_loss: 0.0028\n",
      "Epoch 21/50\n",
      "480/480 [==============================] - 1s 1ms/step - loss: 0.0027 - val_loss: 0.0027\n",
      "Epoch 22/50\n",
      "480/480 [==============================] - 1s 1ms/step - loss: 0.0027 - val_loss: 0.0027\n",
      "Epoch 23/50\n",
      "480/480 [==============================] - 1s 1ms/step - loss: 0.0026 - val_loss: 0.0026\n",
      "Epoch 24/50\n",
      "480/480 [==============================] - 1s 2ms/step - loss: 0.0026 - val_loss: 0.0026\n",
      "Epoch 25/50\n",
      "480/480 [==============================] - 1s 2ms/step - loss: 0.0026 - val_loss: 0.0026\n",
      "Epoch 26/50\n",
      "480/480 [==============================] - 1s 1ms/step - loss: 0.0025 - val_loss: 0.0025\n",
      "Epoch 27/50\n",
      "480/480 [==============================] - 1s 1ms/step - loss: 0.0025 - val_loss: 0.0025\n",
      "Epoch 28/50\n",
      "480/480 [==============================] - 1s 1ms/step - loss: 0.0025 - val_loss: 0.0025\n",
      "Epoch 29/50\n",
      "480/480 [==============================] - 1s 1ms/step - loss: 0.0025 - val_loss: 0.0025\n",
      "Epoch 30/50\n",
      "480/480 [==============================] - 1s 1ms/step - loss: 0.0025 - val_loss: 0.0025\n",
      "Epoch 31/50\n",
      "480/480 [==============================] - 1s 1ms/step - loss: 0.0025 - val_loss: 0.0025\n",
      "Epoch 32/50\n",
      "480/480 [==============================] - 1s 2ms/step - loss: 0.0025 - val_loss: 0.0025\n",
      "Epoch 33/50\n",
      "480/480 [==============================] - 1s 1ms/step - loss: 0.0025 - val_loss: 0.0025\n",
      "Epoch 34/50\n",
      "480/480 [==============================] - 1s 1ms/step - loss: 0.0025 - val_loss: 0.0025\n",
      "Epoch 35/50\n",
      "480/480 [==============================] - 1s 1ms/step - loss: 0.0025 - val_loss: 0.0025\n",
      "Epoch 36/50\n",
      "480/480 [==============================] - 1s 2ms/step - loss: 0.0025 - val_loss: 0.0025\n",
      "Epoch 37/50\n",
      "480/480 [==============================] - 1s 1ms/step - loss: 0.0025 - val_loss: 0.0024\n",
      "Epoch 38/50\n",
      "480/480 [==============================] - 1s 2ms/step - loss: 0.0024 - val_loss: 0.0025\n",
      "Epoch 39/50\n",
      "480/480 [==============================] - 1s 1ms/step - loss: 0.0024 - val_loss: 0.0024\n",
      "Epoch 40/50\n",
      "480/480 [==============================] - 1s 2ms/step - loss: 0.0024 - val_loss: 0.0025\n",
      "Epoch 41/50\n",
      "480/480 [==============================] - 1s 1ms/step - loss: 0.0024 - val_loss: 0.0025\n",
      "Epoch 42/50\n",
      "480/480 [==============================] - 1s 1ms/step - loss: 0.0024 - val_loss: 0.0024\n",
      "Epoch 43/50\n",
      "480/480 [==============================] - 1s 1ms/step - loss: 0.0024 - val_loss: 0.0024\n",
      "Epoch 44/50\n",
      "480/480 [==============================] - 1s 2ms/step - loss: 0.0024 - val_loss: 0.0024\n",
      "Epoch 45/50\n",
      "480/480 [==============================] - 1s 1ms/step - loss: 0.0024 - val_loss: 0.0024\n",
      "Epoch 46/50\n",
      "480/480 [==============================] - 1s 1ms/step - loss: 0.0024 - val_loss: 0.0024\n",
      "Epoch 47/50\n",
      "480/480 [==============================] - 1s 1ms/step - loss: 0.0024 - val_loss: 0.0024\n",
      "Epoch 48/50\n",
      "480/480 [==============================] - 1s 2ms/step - loss: 0.0024 - val_loss: 0.0025\n",
      "Epoch 49/50\n",
      "480/480 [==============================] - 1s 2ms/step - loss: 0.0024 - val_loss: 0.0025\n",
      "Epoch 50/50\n",
      "480/480 [==============================] - 1s 1ms/step - loss: 0.0024 - val_loss: 0.0024\n"
     ]
    }
   ],
   "source": [
    "AE.compile(optimizer='adam', loss='mse')\n",
    "history = AE.fit(x_train, x_train, validation_split=0.2 ,batch_size=100, epochs=50, verbose=1)"
   ]
  },
  {
   "cell_type": "code",
   "execution_count": 5,
   "id": "c2779c4e",
   "metadata": {},
   "outputs": [
    {
     "data": {
      "text/plain": [
       "<matplotlib.legend.Legend at 0x2bd227737f0>"
      ]
     },
     "execution_count": 5,
     "metadata": {},
     "output_type": "execute_result"
    },
    {
     "data": {
      "image/png": "[encoded data removed]",
      "text/plain": [
       "<Figure size 432x288 with 1 Axes>"
      ]
     },
     "metadata": {
      "needs_background": "light"
     },
     "output_type": "display_data"
    }
   ],
   "source": [
    "plt.plot(history.history['loss'])\n",
    "plt.plot(history.history['val_loss'])\n",
    "plt.title('Train Loss')\n",
    "plt.xlabel('Epoch')\n",
    "plt.ylabel('Loss')\n",
    "plt.legend(['Train', 'Val'], loc='upper right')"
   ]
  },
  {
   "cell_type": "code",
   "execution_count": 6,
   "id": "7d063af3",
   "metadata": {
    "scrolled": false
   },
   "outputs": [
    {
     "name": "stdout",
     "output_type": "stream",
     "text": [
      "[47850 57939 34910 ... 43238 18452 52145]\n",
      "313/313 [==============================] - 0s 537us/step\n"
     ]
    },
    {
     "data": {
      "image/png": "[encoded data removed]",
      "text/plain": [
       "<Figure size 1080x288 with 5 Axes>"
      ]
     },
     "metadata": {
      "needs_background": "light"
     },
     "output_type": "display_data"
    }
   ],
   "source": [
    "idx = np.random.choice(60000, 10000)\n",
    "print(idx)\n",
    "preds = AE.predict(x_train[idx])\n",
    "\n",
    "f, ax = plt.subplots(1,5)\n",
    "f.set_size_inches(15, 4)\n",
    "f.tight_layout()\n",
    "\n",
    "for i in range(5):\n",
    "   ax[i].imshow(preds[i].reshape(28, 28), cmap='gray')\n",
    "    \n",
    "plt.show()"
   ]
  },
  {
   "cell_type": "code",
   "execution_count": null,
   "id": "940f9cd4",
   "metadata": {},
   "outputs": [],
   "source": []
  },
  {
   "cell_type": "markdown",
   "id": "84561ecb",
   "metadata": {},
   "source": [
    "# Early Stopping and Model Check Point"
   ]
  },
  {
   "cell_type": "code",
   "execution_count": 7,
   "id": "80ad38c7",
   "metadata": {},
   "outputs": [
    {
     "name": "stdout",
     "output_type": "stream",
     "text": [
      "Epoch 1/50\n",
      "480/480 [==============================] - 1s 2ms/step - loss: 0.0192 - val_loss: 0.0078\n",
      "Epoch 2/50\n",
      "480/480 [==============================] - 1s 1ms/step - loss: 0.0063 - val_loss: 0.0053\n",
      "Epoch 3/50\n",
      "480/480 [==============================] - 1s 2ms/step - loss: 0.0048 - val_loss: 0.0045\n",
      "Epoch 4/50\n",
      "480/480 [==============================] - 1s 1ms/step - loss: 0.0043 - val_loss: 0.0041\n",
      "Epoch 5/50\n",
      "480/480 [==============================] - 1s 1ms/step - loss: 0.0040 - val_loss: 0.0038\n",
      "Epoch 6/50\n",
      "480/480 [==============================] - 1s 1ms/step - loss: 0.0038 - val_loss: 0.0038\n",
      "Epoch 7/50\n",
      "480/480 [==============================] - 1s 1ms/step - loss: 0.0036 - val_loss: 0.0036\n",
      "Epoch 8/50\n",
      "480/480 [==============================] - 1s 1ms/step - loss: 0.0035 - val_loss: 0.0035\n",
      "Epoch 9/50\n",
      "480/480 [==============================] - 1s 2ms/step - loss: 0.0034 - val_loss: 0.0034\n",
      "Epoch 10/50\n",
      "480/480 [==============================] - 1s 1ms/step - loss: 0.0033 - val_loss: 0.0033\n",
      "Epoch 11/50\n",
      "480/480 [==============================] - 1s 1ms/step - loss: 0.0033 - val_loss: 0.0032\n",
      "Epoch 12/50\n",
      "480/480 [==============================] - 1s 1ms/step - loss: 0.0032 - val_loss: 0.0032\n",
      "Epoch 13/50\n",
      "480/480 [==============================] - 1s 2ms/step - loss: 0.0031 - val_loss: 0.0031\n",
      "Epoch 14/50\n",
      "480/480 [==============================] - 1s 1ms/step - loss: 0.0031 - val_loss: 0.0031\n",
      "Epoch 15/50\n",
      "480/480 [==============================] - 1s 1ms/step - loss: 0.0030 - val_loss: 0.0030\n",
      "Epoch 16/50\n",
      "480/480 [==============================] - 1s 1ms/step - loss: 0.0029 - val_loss: 0.0029\n",
      "Epoch 17/50\n",
      "480/480 [==============================] - 1s 1ms/step - loss: 0.0028 - val_loss: 0.0029\n",
      "Epoch 18/50\n",
      "480/480 [==============================] - 1s 1ms/step - loss: 0.0028 - val_loss: 0.0028\n",
      "Epoch 19/50\n",
      "480/480 [==============================] - 1s 2ms/step - loss: 0.0028 - val_loss: 0.0028\n",
      "Epoch 20/50\n",
      "480/480 [==============================] - 1s 1ms/step - loss: 0.0027 - val_loss: 0.0027\n",
      "Epoch 21/50\n",
      "480/480 [==============================] - 1s 1ms/step - loss: 0.0027 - val_loss: 0.0027\n",
      "Epoch 22/50\n",
      "480/480 [==============================] - 1s 2ms/step - loss: 0.0027 - val_loss: 0.0026\n",
      "Epoch 23/50\n",
      "480/480 [==============================] - 1s 1ms/step - loss: 0.0026 - val_loss: 0.0026\n",
      "Epoch 24/50\n",
      "480/480 [==============================] - 1s 1ms/step - loss: 0.0025 - val_loss: 0.0026\n",
      "Epoch 25/50\n",
      "480/480 [==============================] - 1s 2ms/step - loss: 0.0025 - val_loss: 0.0025\n",
      "Epoch 26/50\n",
      "480/480 [==============================] - 1s 2ms/step - loss: 0.0025 - val_loss: 0.0025\n",
      "Epoch 27/50\n",
      "480/480 [==============================] - 1s 2ms/step - loss: 0.0025 - val_loss: 0.0025\n",
      "Epoch 28/50\n",
      "480/480 [==============================] - 1s 2ms/step - loss: 0.0024 - val_loss: 0.0024\n",
      "Epoch 29/50\n",
      "480/480 [==============================] - 1s 2ms/step - loss: 0.0024 - val_loss: 0.0024\n",
      "Epoch 30/50\n",
      "480/480 [==============================] - 1s 2ms/step - loss: 0.0024 - val_loss: 0.0024\n",
      "Epoch 31/50\n",
      "480/480 [==============================] - 1s 2ms/step - loss: 0.0024 - val_loss: 0.0024\n",
      "Epoch 32/50\n",
      "480/480 [==============================] - 1s 1ms/step - loss: 0.0024 - val_loss: 0.0023\n",
      "Epoch 33/50\n",
      "480/480 [==============================] - 1s 1ms/step - loss: 0.0023 - val_loss: 0.0024\n",
      "Epoch 34/50\n",
      "480/480 [==============================] - 1s 2ms/step - loss: 0.0023 - val_loss: 0.0023\n",
      "Epoch 34: early stopping\n"
     ]
    }
   ],
   "source": [
    "AE.compile(optimizer='adam', loss='mse')\n",
    "\n",
    "early_stopping = EarlyStopping(monitor='val_loss',patience=2, verbose=1)\n",
    "model_checkpoint = ModelCheckpoint(filepath='best_model.h5', monitor='val_loss', save_best_only=True)\n",
    "history = AE.fit(x_train, x_train, validation_split=0.2 ,batch_size=100, epochs=50, verbose=1, \n",
    "                 callbacks=[early_stopping, model_checkpoint])"
   ]
  },
  {
   "cell_type": "code",
   "execution_count": 8,
   "id": "1e5b3c97",
   "metadata": {},
   "outputs": [
    {
     "data": {
      "text/plain": [
       "<matplotlib.legend.Legend at 0x267ac12d760>"
      ]
     },
     "execution_count": 8,
     "metadata": {},
     "output_type": "execute_result"
    },
    {
     "data": {
      "image/png": "[encoded data removed]",
      "text/plain": [
       "<Figure size 432x288 with 1 Axes>"
      ]
     },
     "metadata": {
      "needs_background": "light"
     },
     "output_type": "display_data"
    }
   ],
   "source": [
    "plt.plot(history.history['loss'])\n",
    "plt.plot(history.history['val_loss'])\n",
    "plt.title('Train Loss')\n",
    "plt.xlabel('Epoch')\n",
    "plt.ylabel('Loss')\n",
    "plt.legend(['Train', 'Val'], loc='upper right')"
   ]
  },
  {
   "cell_type": "code",
   "execution_count": 14,
   "id": "dabc650a",
   "metadata": {},
   "outputs": [
    {
     "name": "stdout",
     "output_type": "stream",
     "text": [
      "[5109 9840 1948 ... 8651 1636 6393]\n",
      "125/125 [==============================] - 0s 1ms/step\n"
     ]
    },
    {
     "data": {
      "image/png": "[encoded data removed]",
      "text/plain": [
       "<Figure size 1080x288 with 5 Axes>"
      ]
     },
     "metadata": {
      "needs_background": "light"
     },
     "output_type": "display_data"
    }
   ],
   "source": [
    "idx = np.random.choice(10000, 4000)\n",
    "print(idx)\n",
    "\n",
    "best_AE =load_model('best_model.h5')\n",
    "preds = best_AE.predict(x_test[idx])\n",
    "\n",
    "f, ax = plt.subplots(1,5)\n",
    "f.set_size_inches(15, 4)\n",
    "f.tight_layout()\n",
    "\n",
    "for i in range(5):\n",
    "    ax[i].imshow(preds[i].reshape(28, 28), cmap='gray')\n",
    "    \n",
    "plt.show()"
   ]
  },
  {
   "cell_type": "code",
   "execution_count": null,
   "id": "473a9187",
   "metadata": {},
   "outputs": [],
   "source": []
  }
 ],
 "metadata": {
  "kernelspec": {
   "display_name": "Python 3 (ipykernel)",
   "language": "python",
   "name": "python3"
  },
  "language_info": {
   "codemirror_mode": {
    "name": "ipython",
    "version": 3
   },
   "file_extension": ".py",
   "mimetype": "text/x-python",
   "name": "python",
   "nbconvert_exporter": "python",
   "pygments_lexer": "ipython3",
   "version": "3.9.12"
  }
 },
 "nbformat": 4,
 "nbformat_minor": 5
}
