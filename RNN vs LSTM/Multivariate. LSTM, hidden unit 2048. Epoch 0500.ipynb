{
 "cells": [
  {
   "cell_type": "code",
   "execution_count": 1,
   "id": "e1b93b0a",
   "metadata": {},
   "outputs": [
    {
     "name": "stderr",
     "output_type": "stream",
     "text": [
      "\u001b[34m\u001b[1mwandb\u001b[0m: Currently logged in as: \u001b[33mjintae\u001b[0m. Use \u001b[1m`wandb login --relogin`\u001b[0m to force relogin\n"
     ]
    },
    {
     "data": {
      "text/html": [
       "Tracking run with wandb version 0.13.4"
      ],
      "text/plain": [
       "<IPython.core.display.HTML object>"
      ]
     },
     "metadata": {},
     "output_type": "display_data"
    },
    {
     "data": {
      "text/html": [
       "Run data is saved locally in <code>C:\\Users\\PARK\\Documents\\LAB\\RNN vs LSTM\\FInal Example\\wandb\\run-20221018_161515-kreh8kmi</code>"
      ],
      "text/plain": [
       "<IPython.core.display.HTML object>"
      ]
     },
     "metadata": {},
     "output_type": "display_data"
    },
    {
     "data": {
      "text/html": [
       "Syncing run <strong><a href=\"https://wandb.ai/jintae/LSTM%20seq%202048./runs/kreh8kmi\" target=\"_blank\">epoch 500</a></strong> to <a href=\"https://wandb.ai/jintae/LSTM%20seq%202048.\" target=\"_blank\">Weights & Biases</a> (<a href=\"https://wandb.me/run\" target=\"_blank\">docs</a>)<br/>"
      ],
      "text/plain": [
       "<IPython.core.display.HTML object>"
      ]
     },
     "metadata": {},
     "output_type": "display_data"
    },
    {
     "data": {
      "text/html": [
       "<button onClick=\"this.nextSibling.style.display='block';this.style.display='none';\">Display W&B run</button><iframe src=\"https://wandb.ai/jintae/LSTM%20seq%202048./runs/kreh8kmi?jupyter=true\" style=\"border:none;width:100%;height:420px;display:none;\"></iframe>"
      ],
      "text/plain": [
       "<wandb.sdk.wandb_run.Run at 0x1f8aaeef580>"
      ]
     },
     "execution_count": 1,
     "metadata": {},
     "output_type": "execute_result"
    }
   ],
   "source": [
    "import wandb\n",
    "from wandb.keras import WandbCallback\n",
    "wandb.init(project=\"LSTM seq 2048.\", name=\"epoch 500\")"
   ]
  },
  {
   "cell_type": "code",
   "execution_count": 2,
   "id": "650bae84",
   "metadata": {},
   "outputs": [
    {
     "name": "stdout",
     "output_type": "stream",
     "text": [
      "   DATE  Sales\n",
      "0     0   3459\n",
      "1     1   3458\n",
      "2     2   4002\n",
      "3     3   4564\n",
      "4     4   4221\n"
     ]
    }
   ],
   "source": [
    "import pandas as pd\n",
    "\n",
    "df = pd.read_csv('C:/Users/PARK/Desktop/Alcohol_Sales.csv')\n",
    "print(df.head())"
   ]
  },
  {
   "cell_type": "code",
   "execution_count": 3,
   "id": "71e18e17",
   "metadata": {},
   "outputs": [
    {
     "data": {
      "text/plain": [
       "(325, 2)"
      ]
     },
     "execution_count": 3,
     "metadata": {},
     "output_type": "execute_result"
    }
   ],
   "source": [
    "df.shape"
   ]
  },
  {
   "cell_type": "code",
   "execution_count": 4,
   "id": "5f4f8fb7",
   "metadata": {},
   "outputs": [],
   "source": [
    "import numpy as np\n",
    "\n",
    "data = df.to_numpy()"
   ]
  },
  {
   "cell_type": "code",
   "execution_count": 5,
   "id": "c6063052",
   "metadata": {},
   "outputs": [
    {
     "data": {
      "text/plain": [
       "(325, 2)"
      ]
     },
     "execution_count": 5,
     "metadata": {},
     "output_type": "execute_result"
    }
   ],
   "source": [
    "data.shape"
   ]
  },
  {
   "cell_type": "code",
   "execution_count": 6,
   "id": "01930485",
   "metadata": {},
   "outputs": [
    {
     "data": {
      "text/plain": [
       "array([[   0, 3459],\n",
       "       [   1, 3458],\n",
       "       [   2, 4002],\n",
       "       [   3, 4564],\n",
       "       [   4, 4221]], dtype=int64)"
      ]
     },
     "execution_count": 6,
     "metadata": {},
     "output_type": "execute_result"
    }
   ],
   "source": [
    "data[0:5]"
   ]
  },
  {
   "cell_type": "code",
   "execution_count": 7,
   "id": "ad83b404",
   "metadata": {},
   "outputs": [],
   "source": [
    "# from sklearn.preprocessing import MinMaxScaler\n",
    "\n",
    "# scaler = MinMaxScaler()\n",
    "\n",
    "# data = scaler.fit_transform(data)"
   ]
  },
  {
   "cell_type": "code",
   "execution_count": 8,
   "id": "17aef2ea",
   "metadata": {},
   "outputs": [],
   "source": [
    "data_mean = data.mean()\n",
    "data_std = data.std()\n",
    "\n",
    "data = (data - data_mean)/data_std"
   ]
  },
  {
   "cell_type": "code",
   "execution_count": 9,
   "id": "63fe0032",
   "metadata": {},
   "outputs": [
    {
     "data": {
      "text/plain": [
       "array([[-0.9194862 , -0.12914209],\n",
       "       [-0.91925771, -0.12937058],\n",
       "       [-0.91902922, -0.00507246],\n",
       "       [-0.91880073,  0.12333846],\n",
       "       [-0.91857224,  0.04496667]])"
      ]
     },
     "execution_count": 9,
     "metadata": {},
     "output_type": "execute_result"
    }
   ],
   "source": [
    "data[0:5]"
   ]
  },
  {
   "cell_type": "code",
   "execution_count": 10,
   "id": "87ac24ef",
   "metadata": {
    "scrolled": true
   },
   "outputs": [],
   "source": [
    "train_input = []\n",
    "train_label = []\n",
    "\n",
    "data_len = 325\n",
    "time_step = 100\n",
    "out_dim = 25\n",
    "\n",
    "for i in range(176):\n",
    "    _input = data[i:i+time_step]\n",
    "    _label = data[i+time_step:i+time_step+out_dim]\n",
    "    \n",
    "    train_input.append(_input)\n",
    "    train_label.append(_label)\n",
    "    \n",
    "\n",
    "train_input = np.array(train_input)\n",
    "train_label = np.array(train_label)\n",
    "train_label = np.delete(train_label, 0, axis=2)\n",
    "\n",
    "\n",
    "test_input = np.array(data[data_len-out_dim-time_step:data_len-out_dim])\n",
    "test_label =np.array(data[300:325])\n",
    "test_label = np.delete(test_label, 0, axis=1)"
   ]
  },
  {
   "cell_type": "code",
   "execution_count": 11,
   "id": "41975dc7",
   "metadata": {},
   "outputs": [
    {
     "data": {
      "text/plain": [
       "(176, 100, 2)"
      ]
     },
     "execution_count": 11,
     "metadata": {},
     "output_type": "execute_result"
    }
   ],
   "source": [
    "train_input.shape"
   ]
  },
  {
   "cell_type": "code",
   "execution_count": 12,
   "id": "b762c3ba",
   "metadata": {},
   "outputs": [
    {
     "data": {
      "text/plain": [
       "(176, 25, 1)"
      ]
     },
     "execution_count": 12,
     "metadata": {},
     "output_type": "execute_result"
    }
   ],
   "source": [
    "train_label.shape"
   ]
  },
  {
   "cell_type": "code",
   "execution_count": 13,
   "id": "127c63a2",
   "metadata": {},
   "outputs": [
    {
     "data": {
      "text/plain": [
       "(100, 2)"
      ]
     },
     "execution_count": 13,
     "metadata": {},
     "output_type": "execute_result"
    }
   ],
   "source": [
    "test_input.shape"
   ]
  },
  {
   "cell_type": "code",
   "execution_count": 14,
   "id": "6647472d",
   "metadata": {},
   "outputs": [
    {
     "data": {
      "text/plain": [
       "(25, 1)"
      ]
     },
     "execution_count": 14,
     "metadata": {},
     "output_type": "execute_result"
    }
   ],
   "source": [
    "test_label.shape"
   ]
  },
  {
   "cell_type": "code",
   "execution_count": 15,
   "id": "5d83c07f",
   "metadata": {},
   "outputs": [],
   "source": [
    "np.random.seed(10)\n",
    "shuffled_indices = np.random.permutation(np.arange(train_input.shape[0]))\n",
    "train_input = train_input[shuffled_indices, :, :]\n",
    "train_label = train_label[shuffled_indices, :]"
   ]
  },
  {
   "cell_type": "code",
   "execution_count": null,
   "id": "a183926e",
   "metadata": {
    "scrolled": true
   },
   "outputs": [
    {
     "name": "stdout",
     "output_type": "stream",
     "text": [
      "Model: \"sequential\"\n",
      "_________________________________________________________________\n",
      " Layer (type)                Output Shape              Param #   \n",
      "=================================================================\n",
      " lstm (LSTM)                 (None, 2048)              16801792  \n",
      "                                                                 \n",
      " dense (Dense)               (None, 25)                51225     \n",
      "                                                                 \n",
      "=================================================================\n",
      "Total params: 16,853,017\n",
      "Trainable params: 16,853,017\n",
      "Non-trainable params: 0\n",
      "_________________________________________________________________\n"
     ]
    },
    {
     "name": "stderr",
     "output_type": "stream",
     "text": [
      "\u001b[34m\u001b[1mwandb\u001b[0m: \u001b[33mWARNING\u001b[0m The save_model argument by default saves the model in the HDF5 format that cannot save custom objects like subclassed models and custom layers. This behavior will be deprecated in a future release in favor of the SavedModel format. Meanwhile, the HDF5 model is saved as W&B files and the SavedModel as W&B Artifacts.\n"
     ]
    },
    {
     "name": "stdout",
     "output_type": "stream",
     "text": [
      "Epoch 1/500\n",
      "5/5 [==============================] - ETA: 0s - loss: 5.4173 - mae: 1.8370"
     ]
    },
    {
     "name": "stderr",
     "output_type": "stream",
     "text": [
      "WARNING:absl:Found untraced functions such as lstm_cell_layer_call_fn, lstm_cell_layer_call_and_return_conditional_losses while saving (showing 2 of 2). These functions will not be directly callable after loading.\n"
     ]
    },
    {
     "name": "stdout",
     "output_type": "stream",
     "text": [
      "INFO:tensorflow:Assets written to: C:\\Users\\PARK\\Documents\\LAB\\RNN vs LSTM\\FInal Example\\wandb\\run-20221018_161515-kreh8kmi\\files\\model-best\\assets\n"
     ]
    },
    {
     "name": "stderr",
     "output_type": "stream",
     "text": [
      "INFO:tensorflow:Assets written to: C:\\Users\\PARK\\Documents\\LAB\\RNN vs LSTM\\FInal Example\\wandb\\run-20221018_161515-kreh8kmi\\files\\model-best\\assets\n",
      "\u001b[34m\u001b[1mwandb\u001b[0m: Adding directory to artifact (C:\\Users\\PARK\\Documents\\LAB\\RNN vs LSTM\\FInal Example\\wandb\\run-20221018_161515-kreh8kmi\\files\\model-best)... Done. 0.4s\n"
     ]
    },
    {
     "name": "stdout",
     "output_type": "stream",
     "text": [
      "5/5 [==============================] - 9s 2s/step - loss: 5.4173 - mae: 1.8370 - val_loss: 0.7543 - val_mae: 0.7429\n",
      "Epoch 2/500\n",
      "5/5 [==============================] - ETA: 0s - loss: 0.9581 - mae: 0.8624"
     ]
    },
    {
     "name": "stderr",
     "output_type": "stream",
     "text": [
      "WARNING:absl:Found untraced functions such as lstm_cell_layer_call_fn, lstm_cell_layer_call_and_return_conditional_losses while saving (showing 2 of 2). These functions will not be directly callable after loading.\n"
     ]
    },
    {
     "name": "stdout",
     "output_type": "stream",
     "text": [
      "INFO:tensorflow:Assets written to: C:\\Users\\PARK\\Documents\\LAB\\RNN vs LSTM\\FInal Example\\wandb\\run-20221018_161515-kreh8kmi\\files\\model-best\\assets\n"
     ]
    },
    {
     "name": "stderr",
     "output_type": "stream",
     "text": [
      "INFO:tensorflow:Assets written to: C:\\Users\\PARK\\Documents\\LAB\\RNN vs LSTM\\FInal Example\\wandb\\run-20221018_161515-kreh8kmi\\files\\model-best\\assets\n",
      "\u001b[34m\u001b[1mwandb\u001b[0m: Adding directory to artifact (C:\\Users\\PARK\\Documents\\LAB\\RNN vs LSTM\\FInal Example\\wandb\\run-20221018_161515-kreh8kmi\\files\\model-best)... Done. 0.4s\n"
     ]
    },
    {
     "name": "stdout",
     "output_type": "stream",
     "text": [
      "5/5 [==============================] - 6s 1s/step - loss: 0.9581 - mae: 0.8624 - val_loss: 0.4778 - val_mae: 0.5691\n",
      "Epoch 3/500\n",
      "5/5 [==============================] - ETA: 0s - loss: 0.2974 - mae: 0.4373"
     ]
    },
    {
     "name": "stderr",
     "output_type": "stream",
     "text": [
      "WARNING:absl:Found untraced functions such as lstm_cell_layer_call_fn, lstm_cell_layer_call_and_return_conditional_losses while saving (showing 2 of 2). These functions will not be directly callable after loading.\n"
     ]
    },
    {
     "name": "stdout",
     "output_type": "stream",
     "text": [
      "INFO:tensorflow:Assets written to: C:\\Users\\PARK\\Documents\\LAB\\RNN vs LSTM\\FInal Example\\wandb\\run-20221018_161515-kreh8kmi\\files\\model-best\\assets\n"
     ]
    },
    {
     "name": "stderr",
     "output_type": "stream",
     "text": [
      "INFO:tensorflow:Assets written to: C:\\Users\\PARK\\Documents\\LAB\\RNN vs LSTM\\FInal Example\\wandb\\run-20221018_161515-kreh8kmi\\files\\model-best\\assets\n",
      "\u001b[34m\u001b[1mwandb\u001b[0m: Adding directory to artifact (C:\\Users\\PARK\\Documents\\LAB\\RNN vs LSTM\\FInal Example\\wandb\\run-20221018_161515-kreh8kmi\\files\\model-best)... Done. 0.4s\n"
     ]
    },
    {
     "name": "stdout",
     "output_type": "stream",
     "text": [
      "5/5 [==============================] - 6s 1s/step - loss: 0.2974 - mae: 0.4373 - val_loss: 0.2247 - val_mae: 0.3874\n",
      "Epoch 4/500\n",
      "4/5 [=======================>......] - ETA: 0s - loss: 0.2459 - mae: 0.4085"
     ]
    },
    {
     "name": "stderr",
     "output_type": "stream",
     "text": [
      "WARNING:absl:Found untraced functions such as lstm_cell_layer_call_fn, lstm_cell_layer_call_and_return_conditional_losses while saving (showing 2 of 2). These functions will not be directly callable after loading.\n"
     ]
    },
    {
     "name": "stdout",
     "output_type": "stream",
     "text": [
      "INFO:tensorflow:Assets written to: C:\\Users\\PARK\\Documents\\LAB\\RNN vs LSTM\\FInal Example\\wandb\\run-20221018_161515-kreh8kmi\\files\\model-best\\assets\n"
     ]
    },
    {
     "name": "stderr",
     "output_type": "stream",
     "text": [
      "INFO:tensorflow:Assets written to: C:\\Users\\PARK\\Documents\\LAB\\RNN vs LSTM\\FInal Example\\wandb\\run-20221018_161515-kreh8kmi\\files\\model-best\\assets\n",
      "\u001b[34m\u001b[1mwandb\u001b[0m: Adding directory to artifact (C:\\Users\\PARK\\Documents\\LAB\\RNN vs LSTM\\FInal Example\\wandb\\run-20221018_161515-kreh8kmi\\files\\model-best)... Done. 0.4s\n"
     ]
    },
    {
     "name": "stdout",
     "output_type": "stream",
     "text": [
      "5/5 [==============================] - 6s 1s/step - loss: 0.2446 - mae: 0.4089 - val_loss: 0.1966 - val_mae: 0.3667\n",
      "Epoch 5/500\n",
      "4/5 [=======================>......] - ETA: 0s - loss: 0.1892 - mae: 0.3618"
     ]
    },
    {
     "name": "stderr",
     "output_type": "stream",
     "text": [
      "WARNING:absl:Found untraced functions such as lstm_cell_layer_call_fn, lstm_cell_layer_call_and_return_conditional_losses while saving (showing 2 of 2). These functions will not be directly callable after loading.\n"
     ]
    },
    {
     "name": "stdout",
     "output_type": "stream",
     "text": [
      "INFO:tensorflow:Assets written to: C:\\Users\\PARK\\Documents\\LAB\\RNN vs LSTM\\FInal Example\\wandb\\run-20221018_161515-kreh8kmi\\files\\model-best\\assets\n"
     ]
    },
    {
     "name": "stderr",
     "output_type": "stream",
     "text": [
      "INFO:tensorflow:Assets written to: C:\\Users\\PARK\\Documents\\LAB\\RNN vs LSTM\\FInal Example\\wandb\\run-20221018_161515-kreh8kmi\\files\\model-best\\assets\n",
      "\u001b[34m\u001b[1mwandb\u001b[0m: Adding directory to artifact (C:\\Users\\PARK\\Documents\\LAB\\RNN vs LSTM\\FInal Example\\wandb\\run-20221018_161515-kreh8kmi\\files\\model-best)... Done. 0.4s\n"
     ]
    },
    {
     "name": "stdout",
     "output_type": "stream",
     "text": [
      "5/5 [==============================] - 6s 1s/step - loss: 0.1854 - mae: 0.3579 - val_loss: 0.1898 - val_mae: 0.3650\n",
      "Epoch 6/500\n",
      "5/5 [==============================] - 1s 225ms/step - loss: 0.1935 - mae: 0.3639 - val_loss: 0.1913 - val_mae: 0.3679\n",
      "Epoch 7/500\n",
      "5/5 [==============================] - ETA: 0s - loss: 0.1913 - mae: 0.3617"
     ]
    },
    {
     "name": "stderr",
     "output_type": "stream",
     "text": [
      "WARNING:absl:Found untraced functions such as lstm_cell_layer_call_fn, lstm_cell_layer_call_and_return_conditional_losses while saving (showing 2 of 2). These functions will not be directly callable after loading.\n"
     ]
    },
    {
     "name": "stdout",
     "output_type": "stream",
     "text": [
      "INFO:tensorflow:Assets written to: C:\\Users\\PARK\\Documents\\LAB\\RNN vs LSTM\\FInal Example\\wandb\\run-20221018_161515-kreh8kmi\\files\\model-best\\assets\n"
     ]
    },
    {
     "name": "stderr",
     "output_type": "stream",
     "text": [
      "INFO:tensorflow:Assets written to: C:\\Users\\PARK\\Documents\\LAB\\RNN vs LSTM\\FInal Example\\wandb\\run-20221018_161515-kreh8kmi\\files\\model-best\\assets\n",
      "\u001b[34m\u001b[1mwandb\u001b[0m: Adding directory to artifact (C:\\Users\\PARK\\Documents\\LAB\\RNN vs LSTM\\FInal Example\\wandb\\run-20221018_161515-kreh8kmi\\files\\model-best)... Done. 0.4s\n"
     ]
    },
    {
     "name": "stdout",
     "output_type": "stream",
     "text": [
      "5/5 [==============================] - 5s 1s/step - loss: 0.1913 - mae: 0.3617 - val_loss: 0.1817 - val_mae: 0.3587\n",
      "Epoch 8/500\n",
      "5/5 [==============================] - ETA: 0s - loss: 0.1820 - mae: 0.3542"
     ]
    },
    {
     "name": "stderr",
     "output_type": "stream",
     "text": [
      "WARNING:absl:Found untraced functions such as lstm_cell_layer_call_fn, lstm_cell_layer_call_and_return_conditional_losses while saving (showing 2 of 2). These functions will not be directly callable after loading.\n"
     ]
    },
    {
     "name": "stdout",
     "output_type": "stream",
     "text": [
      "INFO:tensorflow:Assets written to: C:\\Users\\PARK\\Documents\\LAB\\RNN vs LSTM\\FInal Example\\wandb\\run-20221018_161515-kreh8kmi\\files\\model-best\\assets\n"
     ]
    },
    {
     "name": "stderr",
     "output_type": "stream",
     "text": [
      "INFO:tensorflow:Assets written to: C:\\Users\\PARK\\Documents\\LAB\\RNN vs LSTM\\FInal Example\\wandb\\run-20221018_161515-kreh8kmi\\files\\model-best\\assets\n",
      "\u001b[34m\u001b[1mwandb\u001b[0m: Adding directory to artifact (C:\\Users\\PARK\\Documents\\LAB\\RNN vs LSTM\\FInal Example\\wandb\\run-20221018_161515-kreh8kmi\\files\\model-best)... Done. 0.4s\n"
     ]
    },
    {
     "name": "stdout",
     "output_type": "stream",
     "text": [
      "5/5 [==============================] - 6s 1s/step - loss: 0.1820 - mae: 0.3542 - val_loss: 0.1795 - val_mae: 0.3529\n",
      "Epoch 9/500\n",
      "5/5 [==============================] - 1s 224ms/step - loss: 0.1806 - mae: 0.3531 - val_loss: 0.1811 - val_mae: 0.3533\n",
      "Epoch 10/500\n",
      "5/5 [==============================] - ETA: 0s - loss: 0.1800 - mae: 0.3526"
     ]
    },
    {
     "name": "stderr",
     "output_type": "stream",
     "text": [
      "WARNING:absl:Found untraced functions such as lstm_cell_layer_call_fn, lstm_cell_layer_call_and_return_conditional_losses while saving (showing 2 of 2). These functions will not be directly callable after loading.\n"
     ]
    },
    {
     "name": "stdout",
     "output_type": "stream",
     "text": [
      "INFO:tensorflow:Assets written to: C:\\Users\\PARK\\Documents\\LAB\\RNN vs LSTM\\FInal Example\\wandb\\run-20221018_161515-kreh8kmi\\files\\model-best\\assets\n"
     ]
    },
    {
     "name": "stderr",
     "output_type": "stream",
     "text": [
      "INFO:tensorflow:Assets written to: C:\\Users\\PARK\\Documents\\LAB\\RNN vs LSTM\\FInal Example\\wandb\\run-20221018_161515-kreh8kmi\\files\\model-best\\assets\n",
      "\u001b[34m\u001b[1mwandb\u001b[0m: Adding directory to artifact (C:\\Users\\PARK\\Documents\\LAB\\RNN vs LSTM\\FInal Example\\wandb\\run-20221018_161515-kreh8kmi\\files\\model-best)... Done. 0.4s\n"
     ]
    },
    {
     "name": "stdout",
     "output_type": "stream",
     "text": [
      "5/5 [==============================] - 6s 1s/step - loss: 0.1800 - mae: 0.3526 - val_loss: 0.1790 - val_mae: 0.3524\n",
      "Epoch 11/500\n",
      "4/5 [=======================>......] - ETA: 0s - loss: 0.1772 - mae: 0.3504"
     ]
    },
    {
     "name": "stderr",
     "output_type": "stream",
     "text": [
      "WARNING:absl:Found untraced functions such as lstm_cell_layer_call_fn, lstm_cell_layer_call_and_return_conditional_losses while saving (showing 2 of 2). These functions will not be directly callable after loading.\n"
     ]
    },
    {
     "name": "stdout",
     "output_type": "stream",
     "text": [
      "INFO:tensorflow:Assets written to: C:\\Users\\PARK\\Documents\\LAB\\RNN vs LSTM\\FInal Example\\wandb\\run-20221018_161515-kreh8kmi\\files\\model-best\\assets\n"
     ]
    },
    {
     "name": "stderr",
     "output_type": "stream",
     "text": [
      "INFO:tensorflow:Assets written to: C:\\Users\\PARK\\Documents\\LAB\\RNN vs LSTM\\FInal Example\\wandb\\run-20221018_161515-kreh8kmi\\files\\model-best\\assets\n",
      "\u001b[34m\u001b[1mwandb\u001b[0m: Adding directory to artifact (C:\\Users\\PARK\\Documents\\LAB\\RNN vs LSTM\\FInal Example\\wandb\\run-20221018_161515-kreh8kmi\\files\\model-best)... Done. 0.4s\n"
     ]
    },
    {
     "name": "stdout",
     "output_type": "stream",
     "text": [
      "5/5 [==============================] - 6s 1s/step - loss: 0.1793 - mae: 0.3518 - val_loss: 0.1785 - val_mae: 0.3535\n",
      "Epoch 12/500\n",
      "5/5 [==============================] - ETA: 0s - loss: 0.1785 - mae: 0.3510"
     ]
    },
    {
     "name": "stderr",
     "output_type": "stream",
     "text": [
      "WARNING:absl:Found untraced functions such as lstm_cell_layer_call_fn, lstm_cell_layer_call_and_return_conditional_losses while saving (showing 2 of 2). These functions will not be directly callable after loading.\n"
     ]
    },
    {
     "name": "stdout",
     "output_type": "stream",
     "text": [
      "INFO:tensorflow:Assets written to: C:\\Users\\PARK\\Documents\\LAB\\RNN vs LSTM\\FInal Example\\wandb\\run-20221018_161515-kreh8kmi\\files\\model-best\\assets\n"
     ]
    },
    {
     "name": "stderr",
     "output_type": "stream",
     "text": [
      "INFO:tensorflow:Assets written to: C:\\Users\\PARK\\Documents\\LAB\\RNN vs LSTM\\FInal Example\\wandb\\run-20221018_161515-kreh8kmi\\files\\model-best\\assets\n",
      "\u001b[34m\u001b[1mwandb\u001b[0m: Adding directory to artifact (C:\\Users\\PARK\\Documents\\LAB\\RNN vs LSTM\\FInal Example\\wandb\\run-20221018_161515-kreh8kmi\\files\\model-best)... Done. 0.4s\n"
     ]
    },
    {
     "name": "stdout",
     "output_type": "stream",
     "text": [
      "5/5 [==============================] - 6s 1s/step - loss: 0.1785 - mae: 0.3510 - val_loss: 0.1775 - val_mae: 0.3523\n",
      "Epoch 13/500\n",
      "4/5 [=======================>......] - ETA: 0s - loss: 0.1747 - mae: 0.3462"
     ]
    },
    {
     "name": "stderr",
     "output_type": "stream",
     "text": [
      "WARNING:absl:Found untraced functions such as lstm_cell_layer_call_fn, lstm_cell_layer_call_and_return_conditional_losses while saving (showing 2 of 2). These functions will not be directly callable after loading.\n"
     ]
    },
    {
     "name": "stdout",
     "output_type": "stream",
     "text": [
      "INFO:tensorflow:Assets written to: C:\\Users\\PARK\\Documents\\LAB\\RNN vs LSTM\\FInal Example\\wandb\\run-20221018_161515-kreh8kmi\\files\\model-best\\assets\n"
     ]
    },
    {
     "name": "stderr",
     "output_type": "stream",
     "text": [
      "INFO:tensorflow:Assets written to: C:\\Users\\PARK\\Documents\\LAB\\RNN vs LSTM\\FInal Example\\wandb\\run-20221018_161515-kreh8kmi\\files\\model-best\\assets\n",
      "\u001b[34m\u001b[1mwandb\u001b[0m: Adding directory to artifact (C:\\Users\\PARK\\Documents\\LAB\\RNN vs LSTM\\FInal Example\\wandb\\run-20221018_161515-kreh8kmi\\files\\model-best)... Done. 0.4s\n"
     ]
    },
    {
     "name": "stdout",
     "output_type": "stream",
     "text": [
      "5/5 [==============================] - 6s 1s/step - loss: 0.1783 - mae: 0.3508 - val_loss: 0.1767 - val_mae: 0.3518\n",
      "Epoch 14/500\n",
      "5/5 [==============================] - 1s 237ms/step - loss: 0.1780 - mae: 0.3507 - val_loss: 0.1773 - val_mae: 0.3523\n",
      "Epoch 15/500\n",
      "5/5 [==============================] - ETA: 0s - loss: 0.1783 - mae: 0.3515"
     ]
    },
    {
     "name": "stderr",
     "output_type": "stream",
     "text": [
      "WARNING:absl:Found untraced functions such as lstm_cell_layer_call_fn, lstm_cell_layer_call_and_return_conditional_losses while saving (showing 2 of 2). These functions will not be directly callable after loading.\n"
     ]
    },
    {
     "name": "stdout",
     "output_type": "stream",
     "text": [
      "INFO:tensorflow:Assets written to: C:\\Users\\PARK\\Documents\\LAB\\RNN vs LSTM\\FInal Example\\wandb\\run-20221018_161515-kreh8kmi\\files\\model-best\\assets\n"
     ]
    },
    {
     "name": "stderr",
     "output_type": "stream",
     "text": [
      "INFO:tensorflow:Assets written to: C:\\Users\\PARK\\Documents\\LAB\\RNN vs LSTM\\FInal Example\\wandb\\run-20221018_161515-kreh8kmi\\files\\model-best\\assets\n",
      "\u001b[34m\u001b[1mwandb\u001b[0m: Adding directory to artifact (C:\\Users\\PARK\\Documents\\LAB\\RNN vs LSTM\\FInal Example\\wandb\\run-20221018_161515-kreh8kmi\\files\\model-best)... Done. 0.4s\n"
     ]
    },
    {
     "name": "stdout",
     "output_type": "stream",
     "text": [
      "5/5 [==============================] - 6s 1s/step - loss: 0.1783 - mae: 0.3515 - val_loss: 0.1765 - val_mae: 0.3521\n",
      "Epoch 16/500\n",
      "5/5 [==============================] - 1s 228ms/step - loss: 0.1770 - mae: 0.3501 - val_loss: 0.1766 - val_mae: 0.3509\n",
      "Epoch 17/500\n",
      "5/5 [==============================] - ETA: 0s - loss: 0.1775 - mae: 0.3500"
     ]
    },
    {
     "name": "stderr",
     "output_type": "stream",
     "text": [
      "WARNING:absl:Found untraced functions such as lstm_cell_layer_call_fn, lstm_cell_layer_call_and_return_conditional_losses while saving (showing 2 of 2). These functions will not be directly callable after loading.\n"
     ]
    },
    {
     "name": "stdout",
     "output_type": "stream",
     "text": [
      "INFO:tensorflow:Assets written to: C:\\Users\\PARK\\Documents\\LAB\\RNN vs LSTM\\FInal Example\\wandb\\run-20221018_161515-kreh8kmi\\files\\model-best\\assets\n"
     ]
    },
    {
     "name": "stderr",
     "output_type": "stream",
     "text": [
      "INFO:tensorflow:Assets written to: C:\\Users\\PARK\\Documents\\LAB\\RNN vs LSTM\\FInal Example\\wandb\\run-20221018_161515-kreh8kmi\\files\\model-best\\assets\n",
      "\u001b[34m\u001b[1mwandb\u001b[0m: Adding directory to artifact (C:\\Users\\PARK\\Documents\\LAB\\RNN vs LSTM\\FInal Example\\wandb\\run-20221018_161515-kreh8kmi\\files\\model-best)... Done. 0.4s\n"
     ]
    },
    {
     "name": "stdout",
     "output_type": "stream",
     "text": [
      "5/5 [==============================] - 6s 1s/step - loss: 0.1775 - mae: 0.3500 - val_loss: 0.1757 - val_mae: 0.3503\n",
      "Epoch 18/500\n",
      "5/5 [==============================] - 1s 224ms/step - loss: 0.1768 - mae: 0.3495 - val_loss: 0.1763 - val_mae: 0.3502\n",
      "Epoch 19/500\n",
      "5/5 [==============================] - 1s 224ms/step - loss: 0.1768 - mae: 0.3490 - val_loss: 0.1770 - val_mae: 0.3499\n",
      "Epoch 20/500\n",
      "5/5 [==============================] - ETA: 0s - loss: 0.1773 - mae: 0.3497"
     ]
    },
    {
     "name": "stderr",
     "output_type": "stream",
     "text": [
      "WARNING:absl:Found untraced functions such as lstm_cell_layer_call_fn, lstm_cell_layer_call_and_return_conditional_losses while saving (showing 2 of 2). These functions will not be directly callable after loading.\n"
     ]
    },
    {
     "name": "stdout",
     "output_type": "stream",
     "text": [
      "INFO:tensorflow:Assets written to: C:\\Users\\PARK\\Documents\\LAB\\RNN vs LSTM\\FInal Example\\wandb\\run-20221018_161515-kreh8kmi\\files\\model-best\\assets\n"
     ]
    },
    {
     "name": "stderr",
     "output_type": "stream",
     "text": [
      "INFO:tensorflow:Assets written to: C:\\Users\\PARK\\Documents\\LAB\\RNN vs LSTM\\FInal Example\\wandb\\run-20221018_161515-kreh8kmi\\files\\model-best\\assets\n",
      "\u001b[34m\u001b[1mwandb\u001b[0m: Adding directory to artifact (C:\\Users\\PARK\\Documents\\LAB\\RNN vs LSTM\\FInal Example\\wandb\\run-20221018_161515-kreh8kmi\\files\\model-best)... Done. 0.4s\n"
     ]
    },
    {
     "name": "stdout",
     "output_type": "stream",
     "text": [
      "5/5 [==============================] - 6s 1s/step - loss: 0.1773 - mae: 0.3497 - val_loss: 0.1750 - val_mae: 0.3495\n",
      "Epoch 21/500\n",
      "5/5 [==============================] - ETA: 0s - loss: 0.1759 - mae: 0.3486"
     ]
    },
    {
     "name": "stderr",
     "output_type": "stream",
     "text": [
      "WARNING:absl:Found untraced functions such as lstm_cell_layer_call_fn, lstm_cell_layer_call_and_return_conditional_losses while saving (showing 2 of 2). These functions will not be directly callable after loading.\n"
     ]
    },
    {
     "name": "stdout",
     "output_type": "stream",
     "text": [
      "INFO:tensorflow:Assets written to: C:\\Users\\PARK\\Documents\\LAB\\RNN vs LSTM\\FInal Example\\wandb\\run-20221018_161515-kreh8kmi\\files\\model-best\\assets\n"
     ]
    },
    {
     "name": "stderr",
     "output_type": "stream",
     "text": [
      "INFO:tensorflow:Assets written to: C:\\Users\\PARK\\Documents\\LAB\\RNN vs LSTM\\FInal Example\\wandb\\run-20221018_161515-kreh8kmi\\files\\model-best\\assets\n",
      "\u001b[34m\u001b[1mwandb\u001b[0m: Adding directory to artifact (C:\\Users\\PARK\\Documents\\LAB\\RNN vs LSTM\\FInal Example\\wandb\\run-20221018_161515-kreh8kmi\\files\\model-best)... Done. 0.4s\n"
     ]
    },
    {
     "name": "stdout",
     "output_type": "stream",
     "text": [
      "5/5 [==============================] - 6s 1s/step - loss: 0.1759 - mae: 0.3486 - val_loss: 0.1748 - val_mae: 0.3485\n",
      "Epoch 22/500\n",
      "5/5 [==============================] - 1s 275ms/step - loss: 0.1781 - mae: 0.3498 - val_loss: 0.1762 - val_mae: 0.3493\n",
      "Epoch 23/500\n",
      "5/5 [==============================] - ETA: 0s - loss: 0.1770 - mae: 0.3497"
     ]
    },
    {
     "name": "stderr",
     "output_type": "stream",
     "text": [
      "WARNING:absl:Found untraced functions such as lstm_cell_layer_call_fn, lstm_cell_layer_call_and_return_conditional_losses while saving (showing 2 of 2). These functions will not be directly callable after loading.\n"
     ]
    },
    {
     "name": "stdout",
     "output_type": "stream",
     "text": [
      "INFO:tensorflow:Assets written to: C:\\Users\\PARK\\Documents\\LAB\\RNN vs LSTM\\FInal Example\\wandb\\run-20221018_161515-kreh8kmi\\files\\model-best\\assets\n"
     ]
    },
    {
     "name": "stderr",
     "output_type": "stream",
     "text": [
      "INFO:tensorflow:Assets written to: C:\\Users\\PARK\\Documents\\LAB\\RNN vs LSTM\\FInal Example\\wandb\\run-20221018_161515-kreh8kmi\\files\\model-best\\assets\n",
      "\u001b[34m\u001b[1mwandb\u001b[0m: Adding directory to artifact (C:\\Users\\PARK\\Documents\\LAB\\RNN vs LSTM\\FInal Example\\wandb\\run-20221018_161515-kreh8kmi\\files\\model-best)... Done. 0.4s\n"
     ]
    },
    {
     "name": "stdout",
     "output_type": "stream",
     "text": [
      "5/5 [==============================] - 5s 1s/step - loss: 0.1770 - mae: 0.3497 - val_loss: 0.1745 - val_mae: 0.3500\n",
      "Epoch 24/500\n",
      "5/5 [==============================] - 1s 255ms/step - loss: 0.1758 - mae: 0.3484 - val_loss: 0.1755 - val_mae: 0.3478\n",
      "Epoch 25/500\n",
      "5/5 [==============================] - ETA: 0s - loss: 0.1755 - mae: 0.3476"
     ]
    },
    {
     "name": "stderr",
     "output_type": "stream",
     "text": [
      "WARNING:absl:Found untraced functions such as lstm_cell_layer_call_fn, lstm_cell_layer_call_and_return_conditional_losses while saving (showing 2 of 2). These functions will not be directly callable after loading.\n"
     ]
    },
    {
     "name": "stdout",
     "output_type": "stream",
     "text": [
      "INFO:tensorflow:Assets written to: C:\\Users\\PARK\\Documents\\LAB\\RNN vs LSTM\\FInal Example\\wandb\\run-20221018_161515-kreh8kmi\\files\\model-best\\assets\n"
     ]
    },
    {
     "name": "stderr",
     "output_type": "stream",
     "text": [
      "INFO:tensorflow:Assets written to: C:\\Users\\PARK\\Documents\\LAB\\RNN vs LSTM\\FInal Example\\wandb\\run-20221018_161515-kreh8kmi\\files\\model-best\\assets\n",
      "\u001b[34m\u001b[1mwandb\u001b[0m: Adding directory to artifact (C:\\Users\\PARK\\Documents\\LAB\\RNN vs LSTM\\FInal Example\\wandb\\run-20221018_161515-kreh8kmi\\files\\model-best)... Done. 0.4s\n"
     ]
    },
    {
     "name": "stdout",
     "output_type": "stream",
     "text": [
      "5/5 [==============================] - 5s 1s/step - loss: 0.1755 - mae: 0.3476 - val_loss: 0.1733 - val_mae: 0.3478\n",
      "Epoch 26/500\n",
      "4/5 [=======================>......] - ETA: 0s - loss: 0.1773 - mae: 0.3511"
     ]
    },
    {
     "name": "stderr",
     "output_type": "stream",
     "text": [
      "WARNING:absl:Found untraced functions such as lstm_cell_layer_call_fn, lstm_cell_layer_call_and_return_conditional_losses while saving (showing 2 of 2). These functions will not be directly callable after loading.\n"
     ]
    },
    {
     "name": "stdout",
     "output_type": "stream",
     "text": [
      "INFO:tensorflow:Assets written to: C:\\Users\\PARK\\Documents\\LAB\\RNN vs LSTM\\FInal Example\\wandb\\run-20221018_161515-kreh8kmi\\files\\model-best\\assets\n"
     ]
    },
    {
     "name": "stderr",
     "output_type": "stream",
     "text": [
      "INFO:tensorflow:Assets written to: C:\\Users\\PARK\\Documents\\LAB\\RNN vs LSTM\\FInal Example\\wandb\\run-20221018_161515-kreh8kmi\\files\\model-best\\assets\n",
      "\u001b[34m\u001b[1mwandb\u001b[0m: Adding directory to artifact (C:\\Users\\PARK\\Documents\\LAB\\RNN vs LSTM\\FInal Example\\wandb\\run-20221018_161515-kreh8kmi\\files\\model-best)... Done. 0.5s\n"
     ]
    },
    {
     "name": "stdout",
     "output_type": "stream",
     "text": [
      "5/5 [==============================] - 6s 1s/step - loss: 0.1748 - mae: 0.3474 - val_loss: 0.1732 - val_mae: 0.3489\n",
      "Epoch 27/500\n",
      "5/5 [==============================] - ETA: 0s - loss: 0.1743 - mae: 0.3470"
     ]
    },
    {
     "name": "stderr",
     "output_type": "stream",
     "text": [
      "WARNING:absl:Found untraced functions such as lstm_cell_layer_call_fn, lstm_cell_layer_call_and_return_conditional_losses while saving (showing 2 of 2). These functions will not be directly callable after loading.\n"
     ]
    },
    {
     "name": "stdout",
     "output_type": "stream",
     "text": [
      "INFO:tensorflow:Assets written to: C:\\Users\\PARK\\Documents\\LAB\\RNN vs LSTM\\FInal Example\\wandb\\run-20221018_161515-kreh8kmi\\files\\model-best\\assets\n"
     ]
    },
    {
     "name": "stderr",
     "output_type": "stream",
     "text": [
      "INFO:tensorflow:Assets written to: C:\\Users\\PARK\\Documents\\LAB\\RNN vs LSTM\\FInal Example\\wandb\\run-20221018_161515-kreh8kmi\\files\\model-best\\assets\n",
      "\u001b[34m\u001b[1mwandb\u001b[0m: Adding directory to artifact (C:\\Users\\PARK\\Documents\\LAB\\RNN vs LSTM\\FInal Example\\wandb\\run-20221018_161515-kreh8kmi\\files\\model-best)... Done. 0.4s\n"
     ]
    },
    {
     "name": "stdout",
     "output_type": "stream",
     "text": [
      "5/5 [==============================] - 6s 1s/step - loss: 0.1743 - mae: 0.3470 - val_loss: 0.1731 - val_mae: 0.3478\n",
      "Epoch 28/500\n",
      "4/5 [=======================>......] - ETA: 0s - loss: 0.1797 - mae: 0.3525"
     ]
    },
    {
     "name": "stderr",
     "output_type": "stream",
     "text": [
      "WARNING:absl:Found untraced functions such as lstm_cell_layer_call_fn, lstm_cell_layer_call_and_return_conditional_losses while saving (showing 2 of 2). These functions will not be directly callable after loading.\n"
     ]
    },
    {
     "name": "stdout",
     "output_type": "stream",
     "text": [
      "INFO:tensorflow:Assets written to: C:\\Users\\PARK\\Documents\\LAB\\RNN vs LSTM\\FInal Example\\wandb\\run-20221018_161515-kreh8kmi\\files\\model-best\\assets\n"
     ]
    },
    {
     "name": "stderr",
     "output_type": "stream",
     "text": [
      "INFO:tensorflow:Assets written to: C:\\Users\\PARK\\Documents\\LAB\\RNN vs LSTM\\FInal Example\\wandb\\run-20221018_161515-kreh8kmi\\files\\model-best\\assets\n",
      "\u001b[34m\u001b[1mwandb\u001b[0m: Adding directory to artifact (C:\\Users\\PARK\\Documents\\LAB\\RNN vs LSTM\\FInal Example\\wandb\\run-20221018_161515-kreh8kmi\\files\\model-best)... Done. 0.4s\n"
     ]
    },
    {
     "name": "stdout",
     "output_type": "stream",
     "text": [
      "5/5 [==============================] - 6s 1s/step - loss: 0.1751 - mae: 0.3473 - val_loss: 0.1729 - val_mae: 0.3457\n",
      "Epoch 29/500\n",
      "5/5 [==============================] - ETA: 0s - loss: 0.1733 - mae: 0.3463"
     ]
    },
    {
     "name": "stderr",
     "output_type": "stream",
     "text": [
      "WARNING:absl:Found untraced functions such as lstm_cell_layer_call_fn, lstm_cell_layer_call_and_return_conditional_losses while saving (showing 2 of 2). These functions will not be directly callable after loading.\n"
     ]
    },
    {
     "name": "stdout",
     "output_type": "stream",
     "text": [
      "INFO:tensorflow:Assets written to: C:\\Users\\PARK\\Documents\\LAB\\RNN vs LSTM\\FInal Example\\wandb\\run-20221018_161515-kreh8kmi\\files\\model-best\\assets\n"
     ]
    },
    {
     "name": "stderr",
     "output_type": "stream",
     "text": [
      "INFO:tensorflow:Assets written to: C:\\Users\\PARK\\Documents\\LAB\\RNN vs LSTM\\FInal Example\\wandb\\run-20221018_161515-kreh8kmi\\files\\model-best\\assets\n",
      "\u001b[34m\u001b[1mwandb\u001b[0m: Adding directory to artifact (C:\\Users\\PARK\\Documents\\LAB\\RNN vs LSTM\\FInal Example\\wandb\\run-20221018_161515-kreh8kmi\\files\\model-best)... Done. 0.4s\n"
     ]
    },
    {
     "name": "stdout",
     "output_type": "stream",
     "text": [
      "5/5 [==============================] - 6s 1s/step - loss: 0.1733 - mae: 0.3463 - val_loss: 0.1723 - val_mae: 0.3476\n",
      "Epoch 30/500\n",
      "4/5 [=======================>......] - ETA: 0s - loss: 0.1698 - mae: 0.3418"
     ]
    },
    {
     "name": "stderr",
     "output_type": "stream",
     "text": [
      "WARNING:absl:Found untraced functions such as lstm_cell_layer_call_fn, lstm_cell_layer_call_and_return_conditional_losses while saving (showing 2 of 2). These functions will not be directly callable after loading.\n"
     ]
    },
    {
     "name": "stdout",
     "output_type": "stream",
     "text": [
      "INFO:tensorflow:Assets written to: C:\\Users\\PARK\\Documents\\LAB\\RNN vs LSTM\\FInal Example\\wandb\\run-20221018_161515-kreh8kmi\\files\\model-best\\assets\n"
     ]
    },
    {
     "name": "stderr",
     "output_type": "stream",
     "text": [
      "INFO:tensorflow:Assets written to: C:\\Users\\PARK\\Documents\\LAB\\RNN vs LSTM\\FInal Example\\wandb\\run-20221018_161515-kreh8kmi\\files\\model-best\\assets\n",
      "\u001b[34m\u001b[1mwandb\u001b[0m: Adding directory to artifact (C:\\Users\\PARK\\Documents\\LAB\\RNN vs LSTM\\FInal Example\\wandb\\run-20221018_161515-kreh8kmi\\files\\model-best)... Done. 0.4s\n"
     ]
    },
    {
     "name": "stdout",
     "output_type": "stream",
     "text": [
      "5/5 [==============================] - 6s 1s/step - loss: 0.1733 - mae: 0.3462 - val_loss: 0.1721 - val_mae: 0.3468\n",
      "Epoch 31/500\n",
      "5/5 [==============================] - ETA: 0s - loss: 0.1721 - mae: 0.3446"
     ]
    },
    {
     "name": "stderr",
     "output_type": "stream",
     "text": [
      "WARNING:absl:Found untraced functions such as lstm_cell_layer_call_fn, lstm_cell_layer_call_and_return_conditional_losses while saving (showing 2 of 2). These functions will not be directly callable after loading.\n"
     ]
    },
    {
     "name": "stdout",
     "output_type": "stream",
     "text": [
      "INFO:tensorflow:Assets written to: C:\\Users\\PARK\\Documents\\LAB\\RNN vs LSTM\\FInal Example\\wandb\\run-20221018_161515-kreh8kmi\\files\\model-best\\assets\n"
     ]
    },
    {
     "name": "stderr",
     "output_type": "stream",
     "text": [
      "INFO:tensorflow:Assets written to: C:\\Users\\PARK\\Documents\\LAB\\RNN vs LSTM\\FInal Example\\wandb\\run-20221018_161515-kreh8kmi\\files\\model-best\\assets\n",
      "\u001b[34m\u001b[1mwandb\u001b[0m: Adding directory to artifact (C:\\Users\\PARK\\Documents\\LAB\\RNN vs LSTM\\FInal Example\\wandb\\run-20221018_161515-kreh8kmi\\files\\model-best)... Done. 0.4s\n"
     ]
    },
    {
     "name": "stdout",
     "output_type": "stream",
     "text": [
      "5/5 [==============================] - 6s 1s/step - loss: 0.1721 - mae: 0.3446 - val_loss: 0.1698 - val_mae: 0.3440\n",
      "Epoch 32/500\n",
      "4/5 [=======================>......] - ETA: 0s - loss: 0.1714 - mae: 0.3435"
     ]
    },
    {
     "name": "stderr",
     "output_type": "stream",
     "text": [
      "WARNING:absl:Found untraced functions such as lstm_cell_layer_call_fn, lstm_cell_layer_call_and_return_conditional_losses while saving (showing 2 of 2). These functions will not be directly callable after loading.\n"
     ]
    },
    {
     "name": "stdout",
     "output_type": "stream",
     "text": [
      "INFO:tensorflow:Assets written to: C:\\Users\\PARK\\Documents\\LAB\\RNN vs LSTM\\FInal Example\\wandb\\run-20221018_161515-kreh8kmi\\files\\model-best\\assets\n"
     ]
    },
    {
     "name": "stderr",
     "output_type": "stream",
     "text": [
      "INFO:tensorflow:Assets written to: C:\\Users\\PARK\\Documents\\LAB\\RNN vs LSTM\\FInal Example\\wandb\\run-20221018_161515-kreh8kmi\\files\\model-best\\assets\n",
      "\u001b[34m\u001b[1mwandb\u001b[0m: Adding directory to artifact (C:\\Users\\PARK\\Documents\\LAB\\RNN vs LSTM\\FInal Example\\wandb\\run-20221018_161515-kreh8kmi\\files\\model-best)... Done. 0.4s\n"
     ]
    },
    {
     "name": "stdout",
     "output_type": "stream",
     "text": [
      "5/5 [==============================] - 6s 1s/step - loss: 0.1724 - mae: 0.3452 - val_loss: 0.1690 - val_mae: 0.3436\n",
      "Epoch 33/500\n",
      "5/5 [==============================] - 1s 230ms/step - loss: 0.1701 - mae: 0.3424 - val_loss: 0.1708 - val_mae: 0.3436\n",
      "Epoch 34/500\n",
      "5/5 [==============================] - ETA: 0s - loss: 0.1701 - mae: 0.3420"
     ]
    },
    {
     "name": "stderr",
     "output_type": "stream",
     "text": [
      "WARNING:absl:Found untraced functions such as lstm_cell_layer_call_fn, lstm_cell_layer_call_and_return_conditional_losses while saving (showing 2 of 2). These functions will not be directly callable after loading.\n"
     ]
    },
    {
     "name": "stdout",
     "output_type": "stream",
     "text": [
      "INFO:tensorflow:Assets written to: C:\\Users\\PARK\\Documents\\LAB\\RNN vs LSTM\\FInal Example\\wandb\\run-20221018_161515-kreh8kmi\\files\\model-best\\assets\n"
     ]
    },
    {
     "name": "stderr",
     "output_type": "stream",
     "text": [
      "INFO:tensorflow:Assets written to: C:\\Users\\PARK\\Documents\\LAB\\RNN vs LSTM\\FInal Example\\wandb\\run-20221018_161515-kreh8kmi\\files\\model-best\\assets\n",
      "\u001b[34m\u001b[1mwandb\u001b[0m: Adding directory to artifact (C:\\Users\\PARK\\Documents\\LAB\\RNN vs LSTM\\FInal Example\\wandb\\run-20221018_161515-kreh8kmi\\files\\model-best)... Done. 0.4s\n"
     ]
    },
    {
     "name": "stdout",
     "output_type": "stream",
     "text": [
      "5/5 [==============================] - 5s 1s/step - loss: 0.1701 - mae: 0.3420 - val_loss: 0.1679 - val_mae: 0.3416\n",
      "Epoch 35/500\n",
      "4/5 [=======================>......] - ETA: 0s - loss: 0.1718 - mae: 0.3448"
     ]
    },
    {
     "name": "stderr",
     "output_type": "stream",
     "text": [
      "WARNING:absl:Found untraced functions such as lstm_cell_layer_call_fn, lstm_cell_layer_call_and_return_conditional_losses while saving (showing 2 of 2). These functions will not be directly callable after loading.\n"
     ]
    },
    {
     "name": "stdout",
     "output_type": "stream",
     "text": [
      "INFO:tensorflow:Assets written to: C:\\Users\\PARK\\Documents\\LAB\\RNN vs LSTM\\FInal Example\\wandb\\run-20221018_161515-kreh8kmi\\files\\model-best\\assets\n"
     ]
    },
    {
     "name": "stderr",
     "output_type": "stream",
     "text": [
      "INFO:tensorflow:Assets written to: C:\\Users\\PARK\\Documents\\LAB\\RNN vs LSTM\\FInal Example\\wandb\\run-20221018_161515-kreh8kmi\\files\\model-best\\assets\n",
      "\u001b[34m\u001b[1mwandb\u001b[0m: Adding directory to artifact (C:\\Users\\PARK\\Documents\\LAB\\RNN vs LSTM\\FInal Example\\wandb\\run-20221018_161515-kreh8kmi\\files\\model-best)... Done. 0.4s\n"
     ]
    },
    {
     "name": "stdout",
     "output_type": "stream",
     "text": [
      "5/5 [==============================] - 6s 1s/step - loss: 0.1714 - mae: 0.3432 - val_loss: 0.1663 - val_mae: 0.3410\n",
      "Epoch 36/500\n",
      "5/5 [==============================] - ETA: 0s - loss: 0.1692 - mae: 0.3420"
     ]
    },
    {
     "name": "stderr",
     "output_type": "stream",
     "text": [
      "WARNING:absl:Found untraced functions such as lstm_cell_layer_call_fn, lstm_cell_layer_call_and_return_conditional_losses while saving (showing 2 of 2). These functions will not be directly callable after loading.\n"
     ]
    },
    {
     "name": "stdout",
     "output_type": "stream",
     "text": [
      "INFO:tensorflow:Assets written to: C:\\Users\\PARK\\Documents\\LAB\\RNN vs LSTM\\FInal Example\\wandb\\run-20221018_161515-kreh8kmi\\files\\model-best\\assets\n"
     ]
    },
    {
     "name": "stderr",
     "output_type": "stream",
     "text": [
      "INFO:tensorflow:Assets written to: C:\\Users\\PARK\\Documents\\LAB\\RNN vs LSTM\\FInal Example\\wandb\\run-20221018_161515-kreh8kmi\\files\\model-best\\assets\n",
      "\u001b[34m\u001b[1mwandb\u001b[0m: Adding directory to artifact (C:\\Users\\PARK\\Documents\\LAB\\RNN vs LSTM\\FInal Example\\wandb\\run-20221018_161515-kreh8kmi\\files\\model-best)... Done. 0.4s\n"
     ]
    },
    {
     "name": "stdout",
     "output_type": "stream",
     "text": [
      "5/5 [==============================] - 6s 1s/step - loss: 0.1692 - mae: 0.3420 - val_loss: 0.1653 - val_mae: 0.3398\n",
      "Epoch 37/500\n",
      "5/5 [==============================] - ETA: 0s - loss: 0.1684 - mae: 0.3398"
     ]
    },
    {
     "name": "stderr",
     "output_type": "stream",
     "text": [
      "WARNING:absl:Found untraced functions such as lstm_cell_layer_call_fn, lstm_cell_layer_call_and_return_conditional_losses while saving (showing 2 of 2). These functions will not be directly callable after loading.\n"
     ]
    },
    {
     "name": "stdout",
     "output_type": "stream",
     "text": [
      "INFO:tensorflow:Assets written to: C:\\Users\\PARK\\Documents\\LAB\\RNN vs LSTM\\FInal Example\\wandb\\run-20221018_161515-kreh8kmi\\files\\model-best\\assets\n"
     ]
    },
    {
     "name": "stderr",
     "output_type": "stream",
     "text": [
      "INFO:tensorflow:Assets written to: C:\\Users\\PARK\\Documents\\LAB\\RNN vs LSTM\\FInal Example\\wandb\\run-20221018_161515-kreh8kmi\\files\\model-best\\assets\n",
      "\u001b[34m\u001b[1mwandb\u001b[0m: Adding directory to artifact (C:\\Users\\PARK\\Documents\\LAB\\RNN vs LSTM\\FInal Example\\wandb\\run-20221018_161515-kreh8kmi\\files\\model-best)... Done. 0.4s\n"
     ]
    },
    {
     "name": "stdout",
     "output_type": "stream",
     "text": [
      "5/5 [==============================] - 6s 1s/step - loss: 0.1684 - mae: 0.3398 - val_loss: 0.1630 - val_mae: 0.3370\n",
      "Epoch 38/500\n",
      "5/5 [==============================] - ETA: 0s - loss: 0.1651 - mae: 0.3375"
     ]
    },
    {
     "name": "stderr",
     "output_type": "stream",
     "text": [
      "WARNING:absl:Found untraced functions such as lstm_cell_layer_call_fn, lstm_cell_layer_call_and_return_conditional_losses while saving (showing 2 of 2). These functions will not be directly callable after loading.\n"
     ]
    },
    {
     "name": "stdout",
     "output_type": "stream",
     "text": [
      "INFO:tensorflow:Assets written to: C:\\Users\\PARK\\Documents\\LAB\\RNN vs LSTM\\FInal Example\\wandb\\run-20221018_161515-kreh8kmi\\files\\model-best\\assets\n"
     ]
    },
    {
     "name": "stderr",
     "output_type": "stream",
     "text": [
      "INFO:tensorflow:Assets written to: C:\\Users\\PARK\\Documents\\LAB\\RNN vs LSTM\\FInal Example\\wandb\\run-20221018_161515-kreh8kmi\\files\\model-best\\assets\n",
      "\u001b[34m\u001b[1mwandb\u001b[0m: Adding directory to artifact (C:\\Users\\PARK\\Documents\\LAB\\RNN vs LSTM\\FInal Example\\wandb\\run-20221018_161515-kreh8kmi\\files\\model-best)... Done. 0.4s\n"
     ]
    },
    {
     "name": "stdout",
     "output_type": "stream",
     "text": [
      "5/5 [==============================] - 6s 1s/step - loss: 0.1651 - mae: 0.3375 - val_loss: 0.1613 - val_mae: 0.3346\n",
      "Epoch 39/500\n",
      "5/5 [==============================] - 1s 249ms/step - loss: 0.1623 - mae: 0.3331 - val_loss: 0.1624 - val_mae: 0.3376\n",
      "Epoch 40/500\n",
      "5/5 [==============================] - 1s 224ms/step - loss: 0.1624 - mae: 0.3336 - val_loss: 0.1813 - val_mae: 0.3503\n",
      "Epoch 41/500\n",
      "5/5 [==============================] - ETA: 0s - loss: 0.1699 - mae: 0.3400"
     ]
    },
    {
     "name": "stderr",
     "output_type": "stream",
     "text": [
      "WARNING:absl:Found untraced functions such as lstm_cell_layer_call_fn, lstm_cell_layer_call_and_return_conditional_losses while saving (showing 2 of 2). These functions will not be directly callable after loading.\n"
     ]
    },
    {
     "name": "stdout",
     "output_type": "stream",
     "text": [
      "INFO:tensorflow:Assets written to: C:\\Users\\PARK\\Documents\\LAB\\RNN vs LSTM\\FInal Example\\wandb\\run-20221018_161515-kreh8kmi\\files\\model-best\\assets\n"
     ]
    },
    {
     "name": "stderr",
     "output_type": "stream",
     "text": [
      "INFO:tensorflow:Assets written to: C:\\Users\\PARK\\Documents\\LAB\\RNN vs LSTM\\FInal Example\\wandb\\run-20221018_161515-kreh8kmi\\files\\model-best\\assets\n",
      "\u001b[34m\u001b[1mwandb\u001b[0m: Adding directory to artifact (C:\\Users\\PARK\\Documents\\LAB\\RNN vs LSTM\\FInal Example\\wandb\\run-20221018_161515-kreh8kmi\\files\\model-best)... Done. 0.4s\n"
     ]
    },
    {
     "name": "stdout",
     "output_type": "stream",
     "text": [
      "5/5 [==============================] - 5s 1s/step - loss: 0.1699 - mae: 0.3400 - val_loss: 0.1517 - val_mae: 0.3240\n",
      "Epoch 42/500\n",
      "5/5 [==============================] - 1s 219ms/step - loss: 0.1632 - mae: 0.3341 - val_loss: 0.1718 - val_mae: 0.3453\n",
      "Epoch 43/500\n",
      "5/5 [==============================] - 1s 218ms/step - loss: 0.1773 - mae: 0.3444 - val_loss: 0.1743 - val_mae: 0.3436\n",
      "Epoch 44/500\n",
      "5/5 [==============================] - 1s 213ms/step - loss: 0.1654 - mae: 0.3358 - val_loss: 0.1536 - val_mae: 0.3276\n",
      "Epoch 45/500\n",
      "5/5 [==============================] - ETA: 0s - loss: 0.1566 - mae: 0.3281"
     ]
    },
    {
     "name": "stderr",
     "output_type": "stream",
     "text": [
      "WARNING:absl:Found untraced functions such as lstm_cell_layer_call_fn, lstm_cell_layer_call_and_return_conditional_losses while saving (showing 2 of 2). These functions will not be directly callable after loading.\n"
     ]
    },
    {
     "name": "stdout",
     "output_type": "stream",
     "text": [
      "INFO:tensorflow:Assets written to: C:\\Users\\PARK\\Documents\\LAB\\RNN vs LSTM\\FInal Example\\wandb\\run-20221018_161515-kreh8kmi\\files\\model-best\\assets\n"
     ]
    },
    {
     "name": "stderr",
     "output_type": "stream",
     "text": [
      "INFO:tensorflow:Assets written to: C:\\Users\\PARK\\Documents\\LAB\\RNN vs LSTM\\FInal Example\\wandb\\run-20221018_161515-kreh8kmi\\files\\model-best\\assets\n",
      "\u001b[34m\u001b[1mwandb\u001b[0m: Adding directory to artifact (C:\\Users\\PARK\\Documents\\LAB\\RNN vs LSTM\\FInal Example\\wandb\\run-20221018_161515-kreh8kmi\\files\\model-best)... Done. 0.4s\n"
     ]
    },
    {
     "name": "stdout",
     "output_type": "stream",
     "text": [
      "5/5 [==============================] - 5s 1s/step - loss: 0.1566 - mae: 0.3281 - val_loss: 0.1485 - val_mae: 0.3185\n",
      "Epoch 46/500\n",
      "4/5 [=======================>......] - ETA: 0s - loss: 0.1477 - mae: 0.3177"
     ]
    },
    {
     "name": "stderr",
     "output_type": "stream",
     "text": [
      "WARNING:absl:Found untraced functions such as lstm_cell_layer_call_fn, lstm_cell_layer_call_and_return_conditional_losses while saving (showing 2 of 2). These functions will not be directly callable after loading.\n"
     ]
    },
    {
     "name": "stdout",
     "output_type": "stream",
     "text": [
      "INFO:tensorflow:Assets written to: C:\\Users\\PARK\\Documents\\LAB\\RNN vs LSTM\\FInal Example\\wandb\\run-20221018_161515-kreh8kmi\\files\\model-best\\assets\n"
     ]
    },
    {
     "name": "stderr",
     "output_type": "stream",
     "text": [
      "INFO:tensorflow:Assets written to: C:\\Users\\PARK\\Documents\\LAB\\RNN vs LSTM\\FInal Example\\wandb\\run-20221018_161515-kreh8kmi\\files\\model-best\\assets\n",
      "\u001b[34m\u001b[1mwandb\u001b[0m: Adding directory to artifact (C:\\Users\\PARK\\Documents\\LAB\\RNN vs LSTM\\FInal Example\\wandb\\run-20221018_161515-kreh8kmi\\files\\model-best)... Done. 0.4s\n"
     ]
    },
    {
     "name": "stdout",
     "output_type": "stream",
     "text": [
      "5/5 [==============================] - 6s 1s/step - loss: 0.1495 - mae: 0.3196 - val_loss: 0.1422 - val_mae: 0.3166\n",
      "Epoch 47/500\n",
      "5/5 [==============================] - ETA: 0s - loss: 0.1410 - mae: 0.3110"
     ]
    },
    {
     "name": "stderr",
     "output_type": "stream",
     "text": [
      "WARNING:absl:Found untraced functions such as lstm_cell_layer_call_fn, lstm_cell_layer_call_and_return_conditional_losses while saving (showing 2 of 2). These functions will not be directly callable after loading.\n"
     ]
    },
    {
     "name": "stdout",
     "output_type": "stream",
     "text": [
      "INFO:tensorflow:Assets written to: C:\\Users\\PARK\\Documents\\LAB\\RNN vs LSTM\\FInal Example\\wandb\\run-20221018_161515-kreh8kmi\\files\\model-best\\assets\n"
     ]
    },
    {
     "name": "stderr",
     "output_type": "stream",
     "text": [
      "INFO:tensorflow:Assets written to: C:\\Users\\PARK\\Documents\\LAB\\RNN vs LSTM\\FInal Example\\wandb\\run-20221018_161515-kreh8kmi\\files\\model-best\\assets\n",
      "\u001b[34m\u001b[1mwandb\u001b[0m: Adding directory to artifact (C:\\Users\\PARK\\Documents\\LAB\\RNN vs LSTM\\FInal Example\\wandb\\run-20221018_161515-kreh8kmi\\files\\model-best)... Done. 0.4s\n"
     ]
    },
    {
     "name": "stdout",
     "output_type": "stream",
     "text": [
      "5/5 [==============================] - 6s 1s/step - loss: 0.1410 - mae: 0.3110 - val_loss: 0.1200 - val_mae: 0.2868\n",
      "Epoch 48/500\n",
      "5/5 [==============================] - 1s 228ms/step - loss: 0.1144 - mae: 0.2810 - val_loss: 0.1646 - val_mae: 0.3420\n",
      "Epoch 49/500\n",
      "5/5 [==============================] - 1s 222ms/step - loss: 0.2507 - mae: 0.4027 - val_loss: 0.2147 - val_mae: 0.3797\n",
      "Epoch 50/500\n",
      "5/5 [==============================] - 1s 225ms/step - loss: 0.1965 - mae: 0.3632 - val_loss: 0.2086 - val_mae: 0.3746\n",
      "Epoch 51/500\n",
      "5/5 [==============================] - 1s 223ms/step - loss: 0.1780 - mae: 0.3487 - val_loss: 0.1669 - val_mae: 0.3387\n",
      "Epoch 52/500\n",
      "5/5 [==============================] - 1s 223ms/step - loss: 0.1705 - mae: 0.3411 - val_loss: 0.1628 - val_mae: 0.3387\n",
      "Epoch 53/500\n",
      "5/5 [==============================] - 1s 223ms/step - loss: 0.1642 - mae: 0.3361 - val_loss: 0.1636 - val_mae: 0.3379\n",
      "Epoch 54/500\n",
      "5/5 [==============================] - 1s 225ms/step - loss: 0.1633 - mae: 0.3342 - val_loss: 0.1598 - val_mae: 0.3322\n",
      "Epoch 55/500\n",
      "5/5 [==============================] - 1s 229ms/step - loss: 0.1614 - mae: 0.3331 - val_loss: 0.1596 - val_mae: 0.3302\n",
      "Epoch 56/500\n",
      "5/5 [==============================] - 1s 227ms/step - loss: 0.1576 - mae: 0.3296 - val_loss: 0.1508 - val_mae: 0.3229\n",
      "Epoch 57/500\n",
      "5/5 [==============================] - 1s 223ms/step - loss: 0.1485 - mae: 0.3198 - val_loss: 0.1419 - val_mae: 0.3125\n",
      "Epoch 58/500\n",
      "5/5 [==============================] - 1s 225ms/step - loss: 0.1397 - mae: 0.3084 - val_loss: 0.1260 - val_mae: 0.2966\n",
      "Epoch 59/500\n",
      "5/5 [==============================] - ETA: 0s - loss: 0.1230 - mae: 0.2907"
     ]
    },
    {
     "name": "stderr",
     "output_type": "stream",
     "text": [
      "WARNING:absl:Found untraced functions such as lstm_cell_layer_call_fn, lstm_cell_layer_call_and_return_conditional_losses while saving (showing 2 of 2). These functions will not be directly callable after loading.\n"
     ]
    },
    {
     "name": "stdout",
     "output_type": "stream",
     "text": [
      "INFO:tensorflow:Assets written to: C:\\Users\\PARK\\Documents\\LAB\\RNN vs LSTM\\FInal Example\\wandb\\run-20221018_161515-kreh8kmi\\files\\model-best\\assets\n"
     ]
    },
    {
     "name": "stderr",
     "output_type": "stream",
     "text": [
      "INFO:tensorflow:Assets written to: C:\\Users\\PARK\\Documents\\LAB\\RNN vs LSTM\\FInal Example\\wandb\\run-20221018_161515-kreh8kmi\\files\\model-best\\assets\n",
      "\u001b[34m\u001b[1mwandb\u001b[0m: Adding directory to artifact (C:\\Users\\PARK\\Documents\\LAB\\RNN vs LSTM\\FInal Example\\wandb\\run-20221018_161515-kreh8kmi\\files\\model-best)... Done. 0.4s\n"
     ]
    },
    {
     "name": "stdout",
     "output_type": "stream",
     "text": [
      "5/5 [==============================] - 5s 1s/step - loss: 0.1230 - mae: 0.2907 - val_loss: 0.1040 - val_mae: 0.2650\n",
      "Epoch 60/500\n",
      "4/5 [=======================>......] - ETA: 0s - loss: 0.0954 - mae: 0.2544"
     ]
    },
    {
     "name": "stderr",
     "output_type": "stream",
     "text": [
      "WARNING:absl:Found untraced functions such as lstm_cell_layer_call_fn, lstm_cell_layer_call_and_return_conditional_losses while saving (showing 2 of 2). These functions will not be directly callable after loading.\n"
     ]
    },
    {
     "name": "stdout",
     "output_type": "stream",
     "text": [
      "INFO:tensorflow:Assets written to: C:\\Users\\PARK\\Documents\\LAB\\RNN vs LSTM\\FInal Example\\wandb\\run-20221018_161515-kreh8kmi\\files\\model-best\\assets\n"
     ]
    },
    {
     "name": "stderr",
     "output_type": "stream",
     "text": [
      "INFO:tensorflow:Assets written to: C:\\Users\\PARK\\Documents\\LAB\\RNN vs LSTM\\FInal Example\\wandb\\run-20221018_161515-kreh8kmi\\files\\model-best\\assets\n",
      "\u001b[34m\u001b[1mwandb\u001b[0m: Adding directory to artifact (C:\\Users\\PARK\\Documents\\LAB\\RNN vs LSTM\\FInal Example\\wandb\\run-20221018_161515-kreh8kmi\\files\\model-best)... Done. 0.4s\n"
     ]
    },
    {
     "name": "stdout",
     "output_type": "stream",
     "text": [
      "5/5 [==============================] - 6s 1s/step - loss: 0.0939 - mae: 0.2518 - val_loss: 0.0946 - val_mae: 0.2576\n",
      "Epoch 61/500\n",
      "5/5 [==============================] - 1s 231ms/step - loss: 0.1012 - mae: 0.2556 - val_loss: 0.2920 - val_mae: 0.4687\n",
      "Epoch 62/500\n",
      "5/5 [==============================] - 1s 227ms/step - loss: 0.1830 - mae: 0.3487 - val_loss: 0.1529 - val_mae: 0.3209\n",
      "Epoch 63/500\n",
      "5/5 [==============================] - 1s 227ms/step - loss: 0.1284 - mae: 0.2933 - val_loss: 0.1377 - val_mae: 0.3043\n",
      "Epoch 64/500\n",
      "5/5 [==============================] - 1s 224ms/step - loss: 0.1284 - mae: 0.2907 - val_loss: 0.1280 - val_mae: 0.2933\n",
      "Epoch 65/500\n",
      "5/5 [==============================] - ETA: 0s - loss: 0.1088 - mae: 0.2703"
     ]
    },
    {
     "name": "stderr",
     "output_type": "stream",
     "text": [
      "WARNING:absl:Found untraced functions such as lstm_cell_layer_call_fn, lstm_cell_layer_call_and_return_conditional_losses while saving (showing 2 of 2). These functions will not be directly callable after loading.\n"
     ]
    },
    {
     "name": "stdout",
     "output_type": "stream",
     "text": [
      "INFO:tensorflow:Assets written to: C:\\Users\\PARK\\Documents\\LAB\\RNN vs LSTM\\FInal Example\\wandb\\run-20221018_161515-kreh8kmi\\files\\model-best\\assets\n"
     ]
    },
    {
     "name": "stderr",
     "output_type": "stream",
     "text": [
      "INFO:tensorflow:Assets written to: C:\\Users\\PARK\\Documents\\LAB\\RNN vs LSTM\\FInal Example\\wandb\\run-20221018_161515-kreh8kmi\\files\\model-best\\assets\n",
      "\u001b[34m\u001b[1mwandb\u001b[0m: Adding directory to artifact (C:\\Users\\PARK\\Documents\\LAB\\RNN vs LSTM\\FInal Example\\wandb\\run-20221018_161515-kreh8kmi\\files\\model-best)... Done. 0.4s\n"
     ]
    },
    {
     "name": "stdout",
     "output_type": "stream",
     "text": [
      "5/5 [==============================] - 6s 2s/step - loss: 0.1088 - mae: 0.2703 - val_loss: 0.0894 - val_mae: 0.2454\n",
      "Epoch 66/500\n",
      "5/5 [==============================] - 1s 229ms/step - loss: 0.0872 - mae: 0.2400 - val_loss: 0.0918 - val_mae: 0.2529\n",
      "Epoch 67/500\n",
      "5/5 [==============================] - ETA: 0s - loss: 0.0844 - mae: 0.2344"
     ]
    },
    {
     "name": "stderr",
     "output_type": "stream",
     "text": [
      "WARNING:absl:Found untraced functions such as lstm_cell_layer_call_fn, lstm_cell_layer_call_and_return_conditional_losses while saving (showing 2 of 2). These functions will not be directly callable after loading.\n"
     ]
    },
    {
     "name": "stdout",
     "output_type": "stream",
     "text": [
      "INFO:tensorflow:Assets written to: C:\\Users\\PARK\\Documents\\LAB\\RNN vs LSTM\\FInal Example\\wandb\\run-20221018_161515-kreh8kmi\\files\\model-best\\assets\n"
     ]
    },
    {
     "name": "stderr",
     "output_type": "stream",
     "text": [
      "INFO:tensorflow:Assets written to: C:\\Users\\PARK\\Documents\\LAB\\RNN vs LSTM\\FInal Example\\wandb\\run-20221018_161515-kreh8kmi\\files\\model-best\\assets\n",
      "\u001b[34m\u001b[1mwandb\u001b[0m: Adding directory to artifact (C:\\Users\\PARK\\Documents\\LAB\\RNN vs LSTM\\FInal Example\\wandb\\run-20221018_161515-kreh8kmi\\files\\model-best)... Done. 0.4s\n"
     ]
    },
    {
     "name": "stdout",
     "output_type": "stream",
     "text": [
      "5/5 [==============================] - 5s 1s/step - loss: 0.0844 - mae: 0.2344 - val_loss: 0.0645 - val_mae: 0.2022\n",
      "Epoch 68/500\n",
      "5/5 [==============================] - 1s 251ms/step - loss: 0.0706 - mae: 0.2094 - val_loss: 0.0694 - val_mae: 0.2039\n",
      "Epoch 69/500\n",
      "5/5 [==============================] - 1s 221ms/step - loss: 0.0676 - mae: 0.2028 - val_loss: 0.0680 - val_mae: 0.1998\n",
      "Epoch 70/500\n",
      "5/5 [==============================] - 1s 230ms/step - loss: 0.0689 - mae: 0.2060 - val_loss: 0.0791 - val_mae: 0.2194\n",
      "Epoch 71/500\n",
      "5/5 [==============================] - 1s 223ms/step - loss: 0.0716 - mae: 0.2118 - val_loss: 0.0647 - val_mae: 0.1998\n",
      "Epoch 72/500\n",
      "5/5 [==============================] - ETA: 0s - loss: 0.0690 - mae: 0.2056"
     ]
    },
    {
     "name": "stderr",
     "output_type": "stream",
     "text": [
      "WARNING:absl:Found untraced functions such as lstm_cell_layer_call_fn, lstm_cell_layer_call_and_return_conditional_losses while saving (showing 2 of 2). These functions will not be directly callable after loading.\n"
     ]
    },
    {
     "name": "stdout",
     "output_type": "stream",
     "text": [
      "INFO:tensorflow:Assets written to: C:\\Users\\PARK\\Documents\\LAB\\RNN vs LSTM\\FInal Example\\wandb\\run-20221018_161515-kreh8kmi\\files\\model-best\\assets\n"
     ]
    },
    {
     "name": "stderr",
     "output_type": "stream",
     "text": [
      "INFO:tensorflow:Assets written to: C:\\Users\\PARK\\Documents\\LAB\\RNN vs LSTM\\FInal Example\\wandb\\run-20221018_161515-kreh8kmi\\files\\model-best\\assets\n",
      "\u001b[34m\u001b[1mwandb\u001b[0m: Adding directory to artifact (C:\\Users\\PARK\\Documents\\LAB\\RNN vs LSTM\\FInal Example\\wandb\\run-20221018_161515-kreh8kmi\\files\\model-best)... Done. 0.4s\n"
     ]
    },
    {
     "name": "stdout",
     "output_type": "stream",
     "text": [
      "5/5 [==============================] - 6s 2s/step - loss: 0.0690 - mae: 0.2056 - val_loss: 0.0612 - val_mae: 0.1934\n",
      "Epoch 73/500\n",
      "5/5 [==============================] - 1s 233ms/step - loss: 0.0652 - mae: 0.1996 - val_loss: 0.0659 - val_mae: 0.2037\n",
      "Epoch 74/500\n",
      "5/5 [==============================] - ETA: 0s - loss: 0.0657 - mae: 0.1996"
     ]
    },
    {
     "name": "stderr",
     "output_type": "stream",
     "text": [
      "WARNING:absl:Found untraced functions such as lstm_cell_layer_call_fn, lstm_cell_layer_call_and_return_conditional_losses while saving (showing 2 of 2). These functions will not be directly callable after loading.\n"
     ]
    },
    {
     "name": "stdout",
     "output_type": "stream",
     "text": [
      "INFO:tensorflow:Assets written to: C:\\Users\\PARK\\Documents\\LAB\\RNN vs LSTM\\FInal Example\\wandb\\run-20221018_161515-kreh8kmi\\files\\model-best\\assets\n"
     ]
    },
    {
     "name": "stderr",
     "output_type": "stream",
     "text": [
      "INFO:tensorflow:Assets written to: C:\\Users\\PARK\\Documents\\LAB\\RNN vs LSTM\\FInal Example\\wandb\\run-20221018_161515-kreh8kmi\\files\\model-best\\assets\n",
      "\u001b[34m\u001b[1mwandb\u001b[0m: Adding directory to artifact (C:\\Users\\PARK\\Documents\\LAB\\RNN vs LSTM\\FInal Example\\wandb\\run-20221018_161515-kreh8kmi\\files\\model-best)... Done. 0.4s\n"
     ]
    },
    {
     "name": "stdout",
     "output_type": "stream",
     "text": [
      "5/5 [==============================] - 6s 1s/step - loss: 0.0657 - mae: 0.1996 - val_loss: 0.0606 - val_mae: 0.1901\n",
      "Epoch 75/500\n",
      "5/5 [==============================] - 1s 222ms/step - loss: 0.0647 - mae: 0.1982 - val_loss: 0.0673 - val_mae: 0.1987\n",
      "Epoch 76/500\n",
      "5/5 [==============================] - 1s 222ms/step - loss: 0.0625 - mae: 0.1925 - val_loss: 0.0690 - val_mae: 0.2021\n",
      "Epoch 77/500\n",
      "5/5 [==============================] - ETA: 0s - loss: 0.0606 - mae: 0.1893"
     ]
    },
    {
     "name": "stderr",
     "output_type": "stream",
     "text": [
      "WARNING:absl:Found untraced functions such as lstm_cell_layer_call_fn, lstm_cell_layer_call_and_return_conditional_losses while saving (showing 2 of 2). These functions will not be directly callable after loading.\n"
     ]
    },
    {
     "name": "stdout",
     "output_type": "stream",
     "text": [
      "INFO:tensorflow:Assets written to: C:\\Users\\PARK\\Documents\\LAB\\RNN vs LSTM\\FInal Example\\wandb\\run-20221018_161515-kreh8kmi\\files\\model-best\\assets\n"
     ]
    },
    {
     "name": "stderr",
     "output_type": "stream",
     "text": [
      "INFO:tensorflow:Assets written to: C:\\Users\\PARK\\Documents\\LAB\\RNN vs LSTM\\FInal Example\\wandb\\run-20221018_161515-kreh8kmi\\files\\model-best\\assets\n",
      "\u001b[34m\u001b[1mwandb\u001b[0m: Adding directory to artifact (C:\\Users\\PARK\\Documents\\LAB\\RNN vs LSTM\\FInal Example\\wandb\\run-20221018_161515-kreh8kmi\\files\\model-best)... Done. 0.4s\n"
     ]
    },
    {
     "name": "stdout",
     "output_type": "stream",
     "text": [
      "5/5 [==============================] - 5s 1s/step - loss: 0.0606 - mae: 0.1893 - val_loss: 0.0581 - val_mae: 0.1856\n",
      "Epoch 78/500\n",
      "4/5 [=======================>......] - ETA: 0s - loss: 0.0601 - mae: 0.1891"
     ]
    },
    {
     "name": "stderr",
     "output_type": "stream",
     "text": [
      "WARNING:absl:Found untraced functions such as lstm_cell_layer_call_fn, lstm_cell_layer_call_and_return_conditional_losses while saving (showing 2 of 2). These functions will not be directly callable after loading.\n"
     ]
    },
    {
     "name": "stdout",
     "output_type": "stream",
     "text": [
      "INFO:tensorflow:Assets written to: C:\\Users\\PARK\\Documents\\LAB\\RNN vs LSTM\\FInal Example\\wandb\\run-20221018_161515-kreh8kmi\\files\\model-best\\assets\n"
     ]
    },
    {
     "name": "stderr",
     "output_type": "stream",
     "text": [
      "INFO:tensorflow:Assets written to: C:\\Users\\PARK\\Documents\\LAB\\RNN vs LSTM\\FInal Example\\wandb\\run-20221018_161515-kreh8kmi\\files\\model-best\\assets\n",
      "\u001b[34m\u001b[1mwandb\u001b[0m: Adding directory to artifact (C:\\Users\\PARK\\Documents\\LAB\\RNN vs LSTM\\FInal Example\\wandb\\run-20221018_161515-kreh8kmi\\files\\model-best)... Done. 0.4s\n"
     ]
    },
    {
     "name": "stdout",
     "output_type": "stream",
     "text": [
      "5/5 [==============================] - 6s 1s/step - loss: 0.0600 - mae: 0.1887 - val_loss: 0.0579 - val_mae: 0.1861\n",
      "Epoch 79/500\n",
      "5/5 [==============================] - ETA: 0s - loss: 0.0593 - mae: 0.1875"
     ]
    },
    {
     "name": "stderr",
     "output_type": "stream",
     "text": [
      "WARNING:absl:Found untraced functions such as lstm_cell_layer_call_fn, lstm_cell_layer_call_and_return_conditional_losses while saving (showing 2 of 2). These functions will not be directly callable after loading.\n"
     ]
    },
    {
     "name": "stdout",
     "output_type": "stream",
     "text": [
      "INFO:tensorflow:Assets written to: C:\\Users\\PARK\\Documents\\LAB\\RNN vs LSTM\\FInal Example\\wandb\\run-20221018_161515-kreh8kmi\\files\\model-best\\assets\n"
     ]
    },
    {
     "name": "stderr",
     "output_type": "stream",
     "text": [
      "INFO:tensorflow:Assets written to: C:\\Users\\PARK\\Documents\\LAB\\RNN vs LSTM\\FInal Example\\wandb\\run-20221018_161515-kreh8kmi\\files\\model-best\\assets\n",
      "\u001b[34m\u001b[1mwandb\u001b[0m: Adding directory to artifact (C:\\Users\\PARK\\Documents\\LAB\\RNN vs LSTM\\FInal Example\\wandb\\run-20221018_161515-kreh8kmi\\files\\model-best)... Done. 0.4s\n"
     ]
    },
    {
     "name": "stdout",
     "output_type": "stream",
     "text": [
      "5/5 [==============================] - 6s 1s/step - loss: 0.0593 - mae: 0.1875 - val_loss: 0.0565 - val_mae: 0.1806\n",
      "Epoch 80/500\n",
      "5/5 [==============================] - 1s 253ms/step - loss: 0.0577 - mae: 0.1835 - val_loss: 0.0607 - val_mae: 0.1924\n",
      "Epoch 81/500\n",
      "5/5 [==============================] - 1s 228ms/step - loss: 0.0593 - mae: 0.1871 - val_loss: 0.0571 - val_mae: 0.1807\n",
      "Epoch 82/500\n",
      "5/5 [==============================] - 1s 226ms/step - loss: 0.0587 - mae: 0.1852 - val_loss: 0.0579 - val_mae: 0.1832\n",
      "Epoch 83/500\n",
      "5/5 [==============================] - ETA: 0s - loss: 0.0569 - mae: 0.1820"
     ]
    },
    {
     "name": "stderr",
     "output_type": "stream",
     "text": [
      "WARNING:absl:Found untraced functions such as lstm_cell_layer_call_fn, lstm_cell_layer_call_and_return_conditional_losses while saving (showing 2 of 2). These functions will not be directly callable after loading.\n"
     ]
    },
    {
     "name": "stdout",
     "output_type": "stream",
     "text": [
      "INFO:tensorflow:Assets written to: C:\\Users\\PARK\\Documents\\LAB\\RNN vs LSTM\\FInal Example\\wandb\\run-20221018_161515-kreh8kmi\\files\\model-best\\assets\n"
     ]
    },
    {
     "name": "stderr",
     "output_type": "stream",
     "text": [
      "INFO:tensorflow:Assets written to: C:\\Users\\PARK\\Documents\\LAB\\RNN vs LSTM\\FInal Example\\wandb\\run-20221018_161515-kreh8kmi\\files\\model-best\\assets\n",
      "\u001b[34m\u001b[1mwandb\u001b[0m: Adding directory to artifact (C:\\Users\\PARK\\Documents\\LAB\\RNN vs LSTM\\FInal Example\\wandb\\run-20221018_161515-kreh8kmi\\files\\model-best)... Done. 0.4s\n"
     ]
    },
    {
     "name": "stdout",
     "output_type": "stream",
     "text": [
      "5/5 [==============================] - 6s 1s/step - loss: 0.0569 - mae: 0.1820 - val_loss: 0.0561 - val_mae: 0.1811\n",
      "Epoch 84/500\n",
      "5/5 [==============================] - 1s 240ms/step - loss: 0.0595 - mae: 0.1878 - val_loss: 0.0590 - val_mae: 0.1846\n",
      "Epoch 85/500\n",
      "5/5 [==============================] - 1s 234ms/step - loss: 0.0589 - mae: 0.1861 - val_loss: 0.0608 - val_mae: 0.1950\n",
      "Epoch 86/500\n",
      "5/5 [==============================] - 1s 229ms/step - loss: 0.0597 - mae: 0.1901 - val_loss: 0.0564 - val_mae: 0.1824\n",
      "Epoch 87/500\n",
      "5/5 [==============================] - 1s 227ms/step - loss: 0.0583 - mae: 0.1851 - val_loss: 0.0562 - val_mae: 0.1811\n",
      "Epoch 88/500\n",
      "5/5 [==============================] - ETA: 0s - loss: 0.0570 - mae: 0.1823"
     ]
    },
    {
     "name": "stderr",
     "output_type": "stream",
     "text": [
      "WARNING:absl:Found untraced functions such as lstm_cell_layer_call_fn, lstm_cell_layer_call_and_return_conditional_losses while saving (showing 2 of 2). These functions will not be directly callable after loading.\n"
     ]
    },
    {
     "name": "stdout",
     "output_type": "stream",
     "text": [
      "INFO:tensorflow:Assets written to: C:\\Users\\PARK\\Documents\\LAB\\RNN vs LSTM\\FInal Example\\wandb\\run-20221018_161515-kreh8kmi\\files\\model-best\\assets\n"
     ]
    },
    {
     "name": "stderr",
     "output_type": "stream",
     "text": [
      "INFO:tensorflow:Assets written to: C:\\Users\\PARK\\Documents\\LAB\\RNN vs LSTM\\FInal Example\\wandb\\run-20221018_161515-kreh8kmi\\files\\model-best\\assets\n",
      "\u001b[34m\u001b[1mwandb\u001b[0m: Adding directory to artifact (C:\\Users\\PARK\\Documents\\LAB\\RNN vs LSTM\\FInal Example\\wandb\\run-20221018_161515-kreh8kmi\\files\\model-best)... Done. 0.4s\n"
     ]
    },
    {
     "name": "stdout",
     "output_type": "stream",
     "text": [
      "5/5 [==============================] - 5s 1s/step - loss: 0.0570 - mae: 0.1823 - val_loss: 0.0554 - val_mae: 0.1803\n",
      "Epoch 89/500\n",
      "5/5 [==============================] - 1s 257ms/step - loss: 0.0576 - mae: 0.1843 - val_loss: 0.0560 - val_mae: 0.1801\n",
      "Epoch 90/500\n",
      "5/5 [==============================] - 1s 228ms/step - loss: 0.0573 - mae: 0.1836 - val_loss: 0.0714 - val_mae: 0.2013\n",
      "Epoch 91/500\n",
      "5/5 [==============================] - 1s 224ms/step - loss: 0.0629 - mae: 0.1943 - val_loss: 0.0562 - val_mae: 0.1806\n",
      "Epoch 92/500\n",
      "5/5 [==============================] - ETA: 0s - loss: 0.0593 - mae: 0.1876"
     ]
    },
    {
     "name": "stderr",
     "output_type": "stream",
     "text": [
      "WARNING:absl:Found untraced functions such as lstm_cell_layer_call_fn, lstm_cell_layer_call_and_return_conditional_losses while saving (showing 2 of 2). These functions will not be directly callable after loading.\n"
     ]
    },
    {
     "name": "stdout",
     "output_type": "stream",
     "text": [
      "INFO:tensorflow:Assets written to: C:\\Users\\PARK\\Documents\\LAB\\RNN vs LSTM\\FInal Example\\wandb\\run-20221018_161515-kreh8kmi\\files\\model-best\\assets\n"
     ]
    },
    {
     "name": "stderr",
     "output_type": "stream",
     "text": [
      "INFO:tensorflow:Assets written to: C:\\Users\\PARK\\Documents\\LAB\\RNN vs LSTM\\FInal Example\\wandb\\run-20221018_161515-kreh8kmi\\files\\model-best\\assets\n",
      "\u001b[34m\u001b[1mwandb\u001b[0m: Adding directory to artifact (C:\\Users\\PARK\\Documents\\LAB\\RNN vs LSTM\\FInal Example\\wandb\\run-20221018_161515-kreh8kmi\\files\\model-best)... Done. 0.4s\n"
     ]
    },
    {
     "name": "stdout",
     "output_type": "stream",
     "text": [
      "5/5 [==============================] - 6s 1s/step - loss: 0.0593 - mae: 0.1876 - val_loss: 0.0554 - val_mae: 0.1799\n",
      "Epoch 93/500\n",
      "5/5 [==============================] - 1s 223ms/step - loss: 0.0585 - mae: 0.1856 - val_loss: 0.0559 - val_mae: 0.1793\n",
      "Epoch 94/500\n",
      "5/5 [==============================] - 1s 217ms/step - loss: 0.0562 - mae: 0.1814 - val_loss: 0.0607 - val_mae: 0.1947\n",
      "Epoch 95/500\n",
      "5/5 [==============================] - 1s 218ms/step - loss: 0.0601 - mae: 0.1903 - val_loss: 0.0619 - val_mae: 0.1878\n",
      "Epoch 96/500\n",
      "5/5 [==============================] - 1s 220ms/step - loss: 0.0603 - mae: 0.1896 - val_loss: 0.0602 - val_mae: 0.1919\n",
      "Epoch 97/500\n",
      "5/5 [==============================] - 1s 221ms/step - loss: 0.0602 - mae: 0.1897 - val_loss: 0.0562 - val_mae: 0.1826\n",
      "Epoch 98/500\n",
      "5/5 [==============================] - 1s 220ms/step - loss: 0.0629 - mae: 0.1952 - val_loss: 0.0596 - val_mae: 0.1845\n",
      "Epoch 99/500\n",
      "5/5 [==============================] - 1s 221ms/step - loss: 0.0567 - mae: 0.1828 - val_loss: 0.0584 - val_mae: 0.1826\n",
      "Epoch 100/500\n",
      "5/5 [==============================] - 1s 221ms/step - loss: 0.0562 - mae: 0.1815 - val_loss: 0.0560 - val_mae: 0.1790\n",
      "Epoch 101/500\n",
      "5/5 [==============================] - 1s 223ms/step - loss: 0.0584 - mae: 0.1854 - val_loss: 0.0559 - val_mae: 0.1822\n",
      "Epoch 102/500\n",
      "5/5 [==============================] - 1s 221ms/step - loss: 0.0588 - mae: 0.1878 - val_loss: 0.0584 - val_mae: 0.1821\n",
      "Epoch 103/500\n",
      "5/5 [==============================] - 1s 220ms/step - loss: 0.0559 - mae: 0.1810 - val_loss: 0.0583 - val_mae: 0.1811\n",
      "Epoch 104/500\n",
      "5/5 [==============================] - 1s 222ms/step - loss: 0.0560 - mae: 0.1805 - val_loss: 0.0561 - val_mae: 0.1805\n",
      "Epoch 105/500\n",
      "5/5 [==============================] - ETA: 0s - loss: 0.0565 - mae: 0.1819"
     ]
    },
    {
     "name": "stderr",
     "output_type": "stream",
     "text": [
      "WARNING:absl:Found untraced functions such as lstm_cell_layer_call_fn, lstm_cell_layer_call_and_return_conditional_losses while saving (showing 2 of 2). These functions will not be directly callable after loading.\n"
     ]
    },
    {
     "name": "stdout",
     "output_type": "stream",
     "text": [
      "INFO:tensorflow:Assets written to: C:\\Users\\PARK\\Documents\\LAB\\RNN vs LSTM\\FInal Example\\wandb\\run-20221018_161515-kreh8kmi\\files\\model-best\\assets\n"
     ]
    },
    {
     "name": "stderr",
     "output_type": "stream",
     "text": [
      "INFO:tensorflow:Assets written to: C:\\Users\\PARK\\Documents\\LAB\\RNN vs LSTM\\FInal Example\\wandb\\run-20221018_161515-kreh8kmi\\files\\model-best\\assets\n",
      "\u001b[34m\u001b[1mwandb\u001b[0m: Adding directory to artifact (C:\\Users\\PARK\\Documents\\LAB\\RNN vs LSTM\\FInal Example\\wandb\\run-20221018_161515-kreh8kmi\\files\\model-best)... Done. 0.4s\n"
     ]
    },
    {
     "name": "stdout",
     "output_type": "stream",
     "text": [
      "5/5 [==============================] - 5s 1s/step - loss: 0.0565 - mae: 0.1819 - val_loss: 0.0550 - val_mae: 0.1795\n",
      "Epoch 106/500\n",
      "5/5 [==============================] - 1s 222ms/step - loss: 0.0556 - mae: 0.1803 - val_loss: 0.0579 - val_mae: 0.1869\n",
      "Epoch 107/500\n",
      "5/5 [==============================] - 1s 221ms/step - loss: 0.0576 - mae: 0.1851 - val_loss: 0.0644 - val_mae: 0.1923\n",
      "Epoch 108/500\n",
      "5/5 [==============================] - 1s 223ms/step - loss: 0.0590 - mae: 0.1877 - val_loss: 0.0586 - val_mae: 0.1825\n",
      "Epoch 109/500\n",
      "5/5 [==============================] - 1s 221ms/step - loss: 0.0597 - mae: 0.1884 - val_loss: 0.0593 - val_mae: 0.1906\n",
      "Epoch 110/500\n",
      "5/5 [==============================] - ETA: 0s - loss: 0.0571 - mae: 0.1835"
     ]
    },
    {
     "name": "stderr",
     "output_type": "stream",
     "text": [
      "WARNING:absl:Found untraced functions such as lstm_cell_layer_call_fn, lstm_cell_layer_call_and_return_conditional_losses while saving (showing 2 of 2). These functions will not be directly callable after loading.\n"
     ]
    },
    {
     "name": "stdout",
     "output_type": "stream",
     "text": [
      "INFO:tensorflow:Assets written to: C:\\Users\\PARK\\Documents\\LAB\\RNN vs LSTM\\FInal Example\\wandb\\run-20221018_161515-kreh8kmi\\files\\model-best\\assets\n"
     ]
    },
    {
     "name": "stderr",
     "output_type": "stream",
     "text": [
      "INFO:tensorflow:Assets written to: C:\\Users\\PARK\\Documents\\LAB\\RNN vs LSTM\\FInal Example\\wandb\\run-20221018_161515-kreh8kmi\\files\\model-best\\assets\n",
      "\u001b[34m\u001b[1mwandb\u001b[0m: Adding directory to artifact (C:\\Users\\PARK\\Documents\\LAB\\RNN vs LSTM\\FInal Example\\wandb\\run-20221018_161515-kreh8kmi\\files\\model-best)... Done. 0.4s\n"
     ]
    },
    {
     "name": "stdout",
     "output_type": "stream",
     "text": [
      "5/5 [==============================] - 5s 1s/step - loss: 0.0571 - mae: 0.1835 - val_loss: 0.0541 - val_mae: 0.1777\n",
      "Epoch 111/500\n",
      "5/5 [==============================] - 1s 228ms/step - loss: 0.0551 - mae: 0.1796 - val_loss: 0.0552 - val_mae: 0.1797\n",
      "Epoch 112/500\n",
      "5/5 [==============================] - 1s 226ms/step - loss: 0.0564 - mae: 0.1823 - val_loss: 0.0579 - val_mae: 0.1814\n",
      "Epoch 113/500\n",
      "5/5 [==============================] - 1s 222ms/step - loss: 0.0568 - mae: 0.1819 - val_loss: 0.0571 - val_mae: 0.1865\n",
      "Epoch 114/500\n",
      "5/5 [==============================] - 1s 221ms/step - loss: 0.0594 - mae: 0.1891 - val_loss: 0.0574 - val_mae: 0.1823\n",
      "Epoch 115/500\n",
      "5/5 [==============================] - 1s 220ms/step - loss: 0.0594 - mae: 0.1878 - val_loss: 0.0564 - val_mae: 0.1791\n",
      "Epoch 116/500\n",
      "5/5 [==============================] - 1s 221ms/step - loss: 0.0559 - mae: 0.1817 - val_loss: 0.0564 - val_mae: 0.1817\n",
      "Epoch 117/500\n",
      "5/5 [==============================] - 1s 224ms/step - loss: 0.0554 - mae: 0.1803 - val_loss: 0.0568 - val_mae: 0.1825\n",
      "Epoch 118/500\n",
      "5/5 [==============================] - 1s 222ms/step - loss: 0.0578 - mae: 0.1845 - val_loss: 0.0642 - val_mae: 0.1925\n",
      "Epoch 119/500\n",
      "5/5 [==============================] - 1s 223ms/step - loss: 0.0604 - mae: 0.1890 - val_loss: 0.0592 - val_mae: 0.1922\n",
      "Epoch 120/500\n",
      "5/5 [==============================] - 1s 221ms/step - loss: 0.0598 - mae: 0.1890 - val_loss: 0.0657 - val_mae: 0.2080\n",
      "Epoch 121/500\n",
      "5/5 [==============================] - 1s 220ms/step - loss: 0.0661 - mae: 0.2003 - val_loss: 0.0666 - val_mae: 0.1992\n",
      "Epoch 122/500\n",
      "5/5 [==============================] - 1s 221ms/step - loss: 0.0628 - mae: 0.1954 - val_loss: 0.0708 - val_mae: 0.2009\n",
      "Epoch 123/500\n",
      "5/5 [==============================] - 1s 219ms/step - loss: 0.0628 - mae: 0.1953 - val_loss: 0.0581 - val_mae: 0.1857\n",
      "Epoch 124/500\n",
      "5/5 [==============================] - 1s 221ms/step - loss: 0.0599 - mae: 0.1894 - val_loss: 0.0621 - val_mae: 0.1990\n",
      "Epoch 125/500\n",
      "5/5 [==============================] - 1s 221ms/step - loss: 0.0617 - mae: 0.1924 - val_loss: 0.0556 - val_mae: 0.1794\n",
      "Epoch 126/500\n",
      "5/5 [==============================] - 1s 223ms/step - loss: 0.0576 - mae: 0.1847 - val_loss: 0.0672 - val_mae: 0.1955\n",
      "Epoch 127/500\n",
      "5/5 [==============================] - 1s 223ms/step - loss: 0.0631 - mae: 0.1955 - val_loss: 0.0562 - val_mae: 0.1829\n",
      "Epoch 128/500\n",
      "5/5 [==============================] - 1s 220ms/step - loss: 0.0576 - mae: 0.1855 - val_loss: 0.0577 - val_mae: 0.1864\n",
      "Epoch 129/500\n",
      "5/5 [==============================] - 1s 220ms/step - loss: 0.0604 - mae: 0.1912 - val_loss: 0.0640 - val_mae: 0.1901\n",
      "Epoch 130/500\n",
      "5/5 [==============================] - 1s 223ms/step - loss: 0.0612 - mae: 0.1908 - val_loss: 0.0634 - val_mae: 0.1906\n",
      "Epoch 131/500\n",
      "5/5 [==============================] - 1s 223ms/step - loss: 0.0575 - mae: 0.1855 - val_loss: 0.0558 - val_mae: 0.1782\n",
      "Epoch 132/500\n",
      "5/5 [==============================] - 1s 223ms/step - loss: 0.0572 - mae: 0.1840 - val_loss: 0.0603 - val_mae: 0.1922\n",
      "Epoch 133/500\n",
      "5/5 [==============================] - 1s 219ms/step - loss: 0.0572 - mae: 0.1841 - val_loss: 0.0551 - val_mae: 0.1782\n",
      "Epoch 134/500\n",
      "5/5 [==============================] - 1s 220ms/step - loss: 0.0549 - mae: 0.1788 - val_loss: 0.0542 - val_mae: 0.1780\n",
      "Epoch 135/500\n",
      "5/5 [==============================] - 1s 221ms/step - loss: 0.0547 - mae: 0.1782 - val_loss: 0.0556 - val_mae: 0.1781\n",
      "Epoch 136/500\n",
      "5/5 [==============================] - 1s 222ms/step - loss: 0.0548 - mae: 0.1781 - val_loss: 0.0559 - val_mae: 0.1787\n",
      "Epoch 137/500\n",
      "5/5 [==============================] - 1s 225ms/step - loss: 0.0535 - mae: 0.1758 - val_loss: 0.0543 - val_mae: 0.1772\n",
      "Epoch 138/500\n",
      "5/5 [==============================] - 1s 222ms/step - loss: 0.0540 - mae: 0.1768 - val_loss: 0.0550 - val_mae: 0.1775\n",
      "Epoch 139/500\n",
      "5/5 [==============================] - 1s 222ms/step - loss: 0.0537 - mae: 0.1762 - val_loss: 0.0550 - val_mae: 0.1792\n",
      "Epoch 140/500\n",
      "5/5 [==============================] - 1s 221ms/step - loss: 0.0551 - mae: 0.1798 - val_loss: 0.0543 - val_mae: 0.1764\n",
      "Epoch 141/500\n",
      "5/5 [==============================] - 1s 224ms/step - loss: 0.0540 - mae: 0.1771 - val_loss: 0.0547 - val_mae: 0.1790\n",
      "Epoch 142/500\n",
      "5/5 [==============================] - 1s 220ms/step - loss: 0.0540 - mae: 0.1777 - val_loss: 0.0553 - val_mae: 0.1804\n",
      "Epoch 143/500\n",
      "5/5 [==============================] - 1s 226ms/step - loss: 0.0564 - mae: 0.1824 - val_loss: 0.0721 - val_mae: 0.2057\n",
      "Epoch 144/500\n",
      "5/5 [==============================] - 1s 228ms/step - loss: 0.0633 - mae: 0.1952 - val_loss: 0.0577 - val_mae: 0.1810\n",
      "Epoch 145/500\n",
      "5/5 [==============================] - 1s 226ms/step - loss: 0.0581 - mae: 0.1860 - val_loss: 0.0570 - val_mae: 0.1857\n",
      "Epoch 146/500\n",
      "5/5 [==============================] - 1s 222ms/step - loss: 0.0546 - mae: 0.1798 - val_loss: 0.0560 - val_mae: 0.1834\n",
      "Epoch 147/500\n",
      "5/5 [==============================] - 1s 220ms/step - loss: 0.0552 - mae: 0.1811 - val_loss: 0.0554 - val_mae: 0.1777\n",
      "Epoch 148/500\n",
      "5/5 [==============================] - 1s 223ms/step - loss: 0.0549 - mae: 0.1788 - val_loss: 0.0553 - val_mae: 0.1787\n",
      "Epoch 149/500\n",
      "5/5 [==============================] - 1s 222ms/step - loss: 0.0540 - mae: 0.1784 - val_loss: 0.0576 - val_mae: 0.1811\n",
      "Epoch 150/500\n",
      "5/5 [==============================] - 1s 223ms/step - loss: 0.0538 - mae: 0.1771 - val_loss: 0.0557 - val_mae: 0.1771\n",
      "Epoch 151/500\n",
      "5/5 [==============================] - 1s 223ms/step - loss: 0.0530 - mae: 0.1752 - val_loss: 0.0558 - val_mae: 0.1788\n",
      "Epoch 152/500\n",
      "5/5 [==============================] - 1s 222ms/step - loss: 0.0540 - mae: 0.1768 - val_loss: 0.0605 - val_mae: 0.1965\n",
      "Epoch 153/500\n",
      "5/5 [==============================] - 1s 223ms/step - loss: 0.0580 - mae: 0.1880 - val_loss: 0.0572 - val_mae: 0.1798\n",
      "Epoch 154/500\n",
      "5/5 [==============================] - 1s 222ms/step - loss: 0.0614 - mae: 0.1922 - val_loss: 0.0751 - val_mae: 0.2077\n",
      "Epoch 155/500\n",
      "5/5 [==============================] - 1s 223ms/step - loss: 0.0650 - mae: 0.2006 - val_loss: 0.0555 - val_mae: 0.1773\n",
      "Epoch 156/500\n",
      "5/5 [==============================] - 1s 225ms/step - loss: 0.0620 - mae: 0.1945 - val_loss: 0.0577 - val_mae: 0.1850\n",
      "Epoch 157/500\n",
      "5/5 [==============================] - 1s 223ms/step - loss: 0.0584 - mae: 0.1866 - val_loss: 0.0579 - val_mae: 0.1902\n",
      "Epoch 158/500\n",
      "5/5 [==============================] - 1s 221ms/step - loss: 0.0573 - mae: 0.1858 - val_loss: 0.0560 - val_mae: 0.1812\n",
      "Epoch 159/500\n",
      "5/5 [==============================] - 1s 223ms/step - loss: 0.0564 - mae: 0.1828 - val_loss: 0.0554 - val_mae: 0.1796\n",
      "Epoch 160/500\n",
      "5/5 [==============================] - 1s 224ms/step - loss: 0.0559 - mae: 0.1824 - val_loss: 0.0560 - val_mae: 0.1771\n",
      "Epoch 161/500\n",
      "5/5 [==============================] - 1s 222ms/step - loss: 0.0543 - mae: 0.1778 - val_loss: 0.0564 - val_mae: 0.1797\n",
      "Epoch 162/500\n",
      "5/5 [==============================] - 1s 223ms/step - loss: 0.0533 - mae: 0.1768 - val_loss: 0.0575 - val_mae: 0.1793\n",
      "Epoch 163/500\n",
      "5/5 [==============================] - 1s 221ms/step - loss: 0.0535 - mae: 0.1754 - val_loss: 0.0563 - val_mae: 0.1791\n",
      "Epoch 164/500\n",
      "5/5 [==============================] - 1s 223ms/step - loss: 0.0530 - mae: 0.1748 - val_loss: 0.0581 - val_mae: 0.1904\n",
      "Epoch 165/500\n",
      "5/5 [==============================] - 1s 224ms/step - loss: 0.0563 - mae: 0.1843 - val_loss: 0.0543 - val_mae: 0.1781\n",
      "Epoch 166/500\n",
      "5/5 [==============================] - 1s 221ms/step - loss: 0.0535 - mae: 0.1763 - val_loss: 0.0546 - val_mae: 0.1780\n",
      "Epoch 167/500\n",
      "5/5 [==============================] - 1s 221ms/step - loss: 0.0539 - mae: 0.1773 - val_loss: 0.0647 - val_mae: 0.1909\n",
      "Epoch 168/500\n",
      "5/5 [==============================] - 1s 222ms/step - loss: 0.0555 - mae: 0.1792 - val_loss: 0.0554 - val_mae: 0.1782\n",
      "Epoch 169/500\n",
      "5/5 [==============================] - ETA: 0s - loss: 0.0530 - mae: 0.1745"
     ]
    },
    {
     "name": "stderr",
     "output_type": "stream",
     "text": [
      "WARNING:absl:Found untraced functions such as lstm_cell_layer_call_fn, lstm_cell_layer_call_and_return_conditional_losses while saving (showing 2 of 2). These functions will not be directly callable after loading.\n"
     ]
    },
    {
     "name": "stdout",
     "output_type": "stream",
     "text": [
      "INFO:tensorflow:Assets written to: C:\\Users\\PARK\\Documents\\LAB\\RNN vs LSTM\\FInal Example\\wandb\\run-20221018_161515-kreh8kmi\\files\\model-best\\assets\n"
     ]
    },
    {
     "name": "stderr",
     "output_type": "stream",
     "text": [
      "INFO:tensorflow:Assets written to: C:\\Users\\PARK\\Documents\\LAB\\RNN vs LSTM\\FInal Example\\wandb\\run-20221018_161515-kreh8kmi\\files\\model-best\\assets\n",
      "\u001b[34m\u001b[1mwandb\u001b[0m: Adding directory to artifact (C:\\Users\\PARK\\Documents\\LAB\\RNN vs LSTM\\FInal Example\\wandb\\run-20221018_161515-kreh8kmi\\files\\model-best)... Done. 0.4s\n"
     ]
    },
    {
     "name": "stdout",
     "output_type": "stream",
     "text": [
      "5/5 [==============================] - 6s 1s/step - loss: 0.0530 - mae: 0.1745 - val_loss: 0.0540 - val_mae: 0.1778\n",
      "Epoch 170/500\n",
      "5/5 [==============================] - 1s 251ms/step - loss: 0.0522 - mae: 0.1751 - val_loss: 0.0552 - val_mae: 0.1783\n",
      "Epoch 171/500\n",
      "5/5 [==============================] - 1s 222ms/step - loss: 0.0535 - mae: 0.1777 - val_loss: 0.0544 - val_mae: 0.1756\n",
      "Epoch 172/500\n",
      "5/5 [==============================] - 1s 225ms/step - loss: 0.0523 - mae: 0.1753 - val_loss: 0.0557 - val_mae: 0.1841\n",
      "Epoch 173/500\n",
      "5/5 [==============================] - 1s 230ms/step - loss: 0.0530 - mae: 0.1761 - val_loss: 0.0562 - val_mae: 0.1772\n",
      "Epoch 174/500\n",
      "5/5 [==============================] - 1s 228ms/step - loss: 0.0540 - mae: 0.1782 - val_loss: 0.0579 - val_mae: 0.1805\n",
      "Epoch 175/500\n",
      "5/5 [==============================] - 1s 225ms/step - loss: 0.0563 - mae: 0.1832 - val_loss: 0.0541 - val_mae: 0.1757\n",
      "Epoch 176/500\n",
      "5/5 [==============================] - 1s 227ms/step - loss: 0.0542 - mae: 0.1795 - val_loss: 0.0574 - val_mae: 0.1894\n",
      "Epoch 177/500\n",
      "5/5 [==============================] - 1s 223ms/step - loss: 0.0536 - mae: 0.1778 - val_loss: 0.0552 - val_mae: 0.1834\n",
      "Epoch 178/500\n",
      "5/5 [==============================] - 1s 223ms/step - loss: 0.0546 - mae: 0.1801 - val_loss: 0.0550 - val_mae: 0.1765\n",
      "Epoch 179/500\n",
      "5/5 [==============================] - 1s 228ms/step - loss: 0.0556 - mae: 0.1812 - val_loss: 0.0597 - val_mae: 0.1840\n",
      "Epoch 180/500\n",
      "5/5 [==============================] - ETA: 0s - loss: 0.0526 - mae: 0.1752"
     ]
    },
    {
     "name": "stderr",
     "output_type": "stream",
     "text": [
      "WARNING:absl:Found untraced functions such as lstm_cell_layer_call_fn, lstm_cell_layer_call_and_return_conditional_losses while saving (showing 2 of 2). These functions will not be directly callable after loading.\n"
     ]
    },
    {
     "name": "stdout",
     "output_type": "stream",
     "text": [
      "INFO:tensorflow:Assets written to: C:\\Users\\PARK\\Documents\\LAB\\RNN vs LSTM\\FInal Example\\wandb\\run-20221018_161515-kreh8kmi\\files\\model-best\\assets\n"
     ]
    },
    {
     "name": "stderr",
     "output_type": "stream",
     "text": [
      "INFO:tensorflow:Assets written to: C:\\Users\\PARK\\Documents\\LAB\\RNN vs LSTM\\FInal Example\\wandb\\run-20221018_161515-kreh8kmi\\files\\model-best\\assets\n",
      "\u001b[34m\u001b[1mwandb\u001b[0m: Adding directory to artifact (C:\\Users\\PARK\\Documents\\LAB\\RNN vs LSTM\\FInal Example\\wandb\\run-20221018_161515-kreh8kmi\\files\\model-best)... Done. 0.4s\n"
     ]
    },
    {
     "name": "stdout",
     "output_type": "stream",
     "text": [
      "5/5 [==============================] - 6s 1s/step - loss: 0.0526 - mae: 0.1752 - val_loss: 0.0538 - val_mae: 0.1738\n",
      "Epoch 181/500\n",
      "5/5 [==============================] - ETA: 0s - loss: 0.0527 - mae: 0.1754"
     ]
    },
    {
     "name": "stderr",
     "output_type": "stream",
     "text": [
      "WARNING:absl:Found untraced functions such as lstm_cell_layer_call_fn, lstm_cell_layer_call_and_return_conditional_losses while saving (showing 2 of 2). These functions will not be directly callable after loading.\n"
     ]
    },
    {
     "name": "stdout",
     "output_type": "stream",
     "text": [
      "INFO:tensorflow:Assets written to: C:\\Users\\PARK\\Documents\\LAB\\RNN vs LSTM\\FInal Example\\wandb\\run-20221018_161515-kreh8kmi\\files\\model-best\\assets\n"
     ]
    },
    {
     "name": "stderr",
     "output_type": "stream",
     "text": [
      "INFO:tensorflow:Assets written to: C:\\Users\\PARK\\Documents\\LAB\\RNN vs LSTM\\FInal Example\\wandb\\run-20221018_161515-kreh8kmi\\files\\model-best\\assets\n",
      "\u001b[34m\u001b[1mwandb\u001b[0m: Adding directory to artifact (C:\\Users\\PARK\\Documents\\LAB\\RNN vs LSTM\\FInal Example\\wandb\\run-20221018_161515-kreh8kmi\\files\\model-best)... Done. 0.4s\n"
     ]
    },
    {
     "name": "stdout",
     "output_type": "stream",
     "text": [
      "5/5 [==============================] - 5s 1s/step - loss: 0.0527 - mae: 0.1754 - val_loss: 0.0532 - val_mae: 0.1763\n",
      "Epoch 182/500\n",
      "5/5 [==============================] - 1s 220ms/step - loss: 0.0513 - mae: 0.1732 - val_loss: 0.0566 - val_mae: 0.1876\n",
      "Epoch 183/500\n",
      "5/5 [==============================] - 1s 221ms/step - loss: 0.0542 - mae: 0.1806 - val_loss: 0.0578 - val_mae: 0.1882\n",
      "Epoch 184/500\n",
      "5/5 [==============================] - 1s 220ms/step - loss: 0.0538 - mae: 0.1783 - val_loss: 0.0640 - val_mae: 0.1880\n",
      "Epoch 185/500\n",
      "5/5 [==============================] - 1s 217ms/step - loss: 0.0551 - mae: 0.1814 - val_loss: 0.0651 - val_mae: 0.1938\n",
      "Epoch 186/500\n",
      "5/5 [==============================] - 1s 218ms/step - loss: 0.0533 - mae: 0.1765 - val_loss: 0.0564 - val_mae: 0.1787\n",
      "Epoch 187/500\n",
      "5/5 [==============================] - 1s 220ms/step - loss: 0.0502 - mae: 0.1718 - val_loss: 0.0537 - val_mae: 0.1747\n",
      "Epoch 188/500\n",
      "5/5 [==============================] - ETA: 0s - loss: 0.0483 - mae: 0.1682"
     ]
    },
    {
     "name": "stderr",
     "output_type": "stream",
     "text": [
      "WARNING:absl:Found untraced functions such as lstm_cell_layer_call_fn, lstm_cell_layer_call_and_return_conditional_losses while saving (showing 2 of 2). These functions will not be directly callable after loading.\n"
     ]
    },
    {
     "name": "stdout",
     "output_type": "stream",
     "text": [
      "INFO:tensorflow:Assets written to: C:\\Users\\PARK\\Documents\\LAB\\RNN vs LSTM\\FInal Example\\wandb\\run-20221018_161515-kreh8kmi\\files\\model-best\\assets\n"
     ]
    },
    {
     "name": "stderr",
     "output_type": "stream",
     "text": [
      "INFO:tensorflow:Assets written to: C:\\Users\\PARK\\Documents\\LAB\\RNN vs LSTM\\FInal Example\\wandb\\run-20221018_161515-kreh8kmi\\files\\model-best\\assets\n",
      "\u001b[34m\u001b[1mwandb\u001b[0m: Adding directory to artifact (C:\\Users\\PARK\\Documents\\LAB\\RNN vs LSTM\\FInal Example\\wandb\\run-20221018_161515-kreh8kmi\\files\\model-best)... Done. 0.4s\n"
     ]
    },
    {
     "name": "stdout",
     "output_type": "stream",
     "text": [
      "5/5 [==============================] - 5s 1s/step - loss: 0.0483 - mae: 0.1682 - val_loss: 0.0509 - val_mae: 0.1716\n",
      "Epoch 189/500\n",
      "5/5 [==============================] - ETA: 0s - loss: 0.0463 - mae: 0.1630"
     ]
    },
    {
     "name": "stderr",
     "output_type": "stream",
     "text": [
      "WARNING:absl:Found untraced functions such as lstm_cell_layer_call_fn, lstm_cell_layer_call_and_return_conditional_losses while saving (showing 2 of 2). These functions will not be directly callable after loading.\n"
     ]
    },
    {
     "name": "stdout",
     "output_type": "stream",
     "text": [
      "INFO:tensorflow:Assets written to: C:\\Users\\PARK\\Documents\\LAB\\RNN vs LSTM\\FInal Example\\wandb\\run-20221018_161515-kreh8kmi\\files\\model-best\\assets\n"
     ]
    },
    {
     "name": "stderr",
     "output_type": "stream",
     "text": [
      "INFO:tensorflow:Assets written to: C:\\Users\\PARK\\Documents\\LAB\\RNN vs LSTM\\FInal Example\\wandb\\run-20221018_161515-kreh8kmi\\files\\model-best\\assets\n",
      "\u001b[34m\u001b[1mwandb\u001b[0m: Adding directory to artifact (C:\\Users\\PARK\\Documents\\LAB\\RNN vs LSTM\\FInal Example\\wandb\\run-20221018_161515-kreh8kmi\\files\\model-best)... Done. 0.4s\n"
     ]
    },
    {
     "name": "stdout",
     "output_type": "stream",
     "text": [
      "5/5 [==============================] - 6s 1s/step - loss: 0.0463 - mae: 0.1630 - val_loss: 0.0500 - val_mae: 0.1742\n",
      "Epoch 190/500\n",
      "5/5 [==============================] - 1s 225ms/step - loss: 0.0463 - mae: 0.1647 - val_loss: 0.0547 - val_mae: 0.1788\n",
      "Epoch 191/500\n",
      "5/5 [==============================] - ETA: 0s - loss: 0.0465 - mae: 0.1674"
     ]
    },
    {
     "name": "stderr",
     "output_type": "stream",
     "text": [
      "WARNING:absl:Found untraced functions such as lstm_cell_layer_call_fn, lstm_cell_layer_call_and_return_conditional_losses while saving (showing 2 of 2). These functions will not be directly callable after loading.\n"
     ]
    },
    {
     "name": "stdout",
     "output_type": "stream",
     "text": [
      "INFO:tensorflow:Assets written to: C:\\Users\\PARK\\Documents\\LAB\\RNN vs LSTM\\FInal Example\\wandb\\run-20221018_161515-kreh8kmi\\files\\model-best\\assets\n"
     ]
    },
    {
     "name": "stderr",
     "output_type": "stream",
     "text": [
      "INFO:tensorflow:Assets written to: C:\\Users\\PARK\\Documents\\LAB\\RNN vs LSTM\\FInal Example\\wandb\\run-20221018_161515-kreh8kmi\\files\\model-best\\assets\n",
      "\u001b[34m\u001b[1mwandb\u001b[0m: Adding directory to artifact (C:\\Users\\PARK\\Documents\\LAB\\RNN vs LSTM\\FInal Example\\wandb\\run-20221018_161515-kreh8kmi\\files\\model-best)... Done. 0.4s\n"
     ]
    },
    {
     "name": "stdout",
     "output_type": "stream",
     "text": [
      "5/5 [==============================] - 5s 1s/step - loss: 0.0465 - mae: 0.1674 - val_loss: 0.0494 - val_mae: 0.1692\n",
      "Epoch 192/500\n",
      "5/5 [==============================] - ETA: 0s - loss: 0.0451 - mae: 0.1640"
     ]
    },
    {
     "name": "stderr",
     "output_type": "stream",
     "text": [
      "WARNING:absl:Found untraced functions such as lstm_cell_layer_call_fn, lstm_cell_layer_call_and_return_conditional_losses while saving (showing 2 of 2). These functions will not be directly callable after loading.\n"
     ]
    },
    {
     "name": "stdout",
     "output_type": "stream",
     "text": [
      "INFO:tensorflow:Assets written to: C:\\Users\\PARK\\Documents\\LAB\\RNN vs LSTM\\FInal Example\\wandb\\run-20221018_161515-kreh8kmi\\files\\model-best\\assets\n"
     ]
    },
    {
     "name": "stderr",
     "output_type": "stream",
     "text": [
      "INFO:tensorflow:Assets written to: C:\\Users\\PARK\\Documents\\LAB\\RNN vs LSTM\\FInal Example\\wandb\\run-20221018_161515-kreh8kmi\\files\\model-best\\assets\n",
      "\u001b[34m\u001b[1mwandb\u001b[0m: Adding directory to artifact (C:\\Users\\PARK\\Documents\\LAB\\RNN vs LSTM\\FInal Example\\wandb\\run-20221018_161515-kreh8kmi\\files\\model-best)... Done. 0.4s\n"
     ]
    },
    {
     "name": "stdout",
     "output_type": "stream",
     "text": [
      "5/5 [==============================] - 6s 1s/step - loss: 0.0451 - mae: 0.1640 - val_loss: 0.0467 - val_mae: 0.1704\n",
      "Epoch 193/500\n",
      "5/5 [==============================] - ETA: 0s - loss: 0.0425 - mae: 0.1587"
     ]
    },
    {
     "name": "stderr",
     "output_type": "stream",
     "text": [
      "WARNING:absl:Found untraced functions such as lstm_cell_layer_call_fn, lstm_cell_layer_call_and_return_conditional_losses while saving (showing 2 of 2). These functions will not be directly callable after loading.\n"
     ]
    },
    {
     "name": "stdout",
     "output_type": "stream",
     "text": [
      "INFO:tensorflow:Assets written to: C:\\Users\\PARK\\Documents\\LAB\\RNN vs LSTM\\FInal Example\\wandb\\run-20221018_161515-kreh8kmi\\files\\model-best\\assets\n"
     ]
    },
    {
     "name": "stderr",
     "output_type": "stream",
     "text": [
      "INFO:tensorflow:Assets written to: C:\\Users\\PARK\\Documents\\LAB\\RNN vs LSTM\\FInal Example\\wandb\\run-20221018_161515-kreh8kmi\\files\\model-best\\assets\n",
      "\u001b[34m\u001b[1mwandb\u001b[0m: Adding directory to artifact (C:\\Users\\PARK\\Documents\\LAB\\RNN vs LSTM\\FInal Example\\wandb\\run-20221018_161515-kreh8kmi\\files\\model-best)... Done. 0.4s\n"
     ]
    },
    {
     "name": "stdout",
     "output_type": "stream",
     "text": [
      "5/5 [==============================] - 6s 1s/step - loss: 0.0425 - mae: 0.1587 - val_loss: 0.0460 - val_mae: 0.1654\n",
      "Epoch 194/500\n",
      "5/5 [==============================] - 1s 218ms/step - loss: 0.0412 - mae: 0.1563 - val_loss: 0.0465 - val_mae: 0.1642\n",
      "Epoch 195/500\n",
      "5/5 [==============================] - ETA: 0s - loss: 0.0415 - mae: 0.1560"
     ]
    },
    {
     "name": "stderr",
     "output_type": "stream",
     "text": [
      "WARNING:absl:Found untraced functions such as lstm_cell_layer_call_fn, lstm_cell_layer_call_and_return_conditional_losses while saving (showing 2 of 2). These functions will not be directly callable after loading.\n"
     ]
    },
    {
     "name": "stdout",
     "output_type": "stream",
     "text": [
      "INFO:tensorflow:Assets written to: C:\\Users\\PARK\\Documents\\LAB\\RNN vs LSTM\\FInal Example\\wandb\\run-20221018_161515-kreh8kmi\\files\\model-best\\assets\n"
     ]
    },
    {
     "name": "stderr",
     "output_type": "stream",
     "text": [
      "INFO:tensorflow:Assets written to: C:\\Users\\PARK\\Documents\\LAB\\RNN vs LSTM\\FInal Example\\wandb\\run-20221018_161515-kreh8kmi\\files\\model-best\\assets\n",
      "\u001b[34m\u001b[1mwandb\u001b[0m: Adding directory to artifact (C:\\Users\\PARK\\Documents\\LAB\\RNN vs LSTM\\FInal Example\\wandb\\run-20221018_161515-kreh8kmi\\files\\model-best)... Done. 0.4s\n"
     ]
    },
    {
     "name": "stdout",
     "output_type": "stream",
     "text": [
      "5/5 [==============================] - 5s 1s/step - loss: 0.0415 - mae: 0.1560 - val_loss: 0.0454 - val_mae: 0.1617\n",
      "Epoch 196/500\n",
      "5/5 [==============================] - ETA: 0s - loss: 0.0400 - mae: 0.1533"
     ]
    },
    {
     "name": "stderr",
     "output_type": "stream",
     "text": [
      "WARNING:absl:Found untraced functions such as lstm_cell_layer_call_fn, lstm_cell_layer_call_and_return_conditional_losses while saving (showing 2 of 2). These functions will not be directly callable after loading.\n"
     ]
    },
    {
     "name": "stdout",
     "output_type": "stream",
     "text": [
      "INFO:tensorflow:Assets written to: C:\\Users\\PARK\\Documents\\LAB\\RNN vs LSTM\\FInal Example\\wandb\\run-20221018_161515-kreh8kmi\\files\\model-best\\assets\n"
     ]
    },
    {
     "name": "stderr",
     "output_type": "stream",
     "text": [
      "INFO:tensorflow:Assets written to: C:\\Users\\PARK\\Documents\\LAB\\RNN vs LSTM\\FInal Example\\wandb\\run-20221018_161515-kreh8kmi\\files\\model-best\\assets\n",
      "\u001b[34m\u001b[1mwandb\u001b[0m: Adding directory to artifact (C:\\Users\\PARK\\Documents\\LAB\\RNN vs LSTM\\FInal Example\\wandb\\run-20221018_161515-kreh8kmi\\files\\model-best)... Done. 0.4s\n"
     ]
    },
    {
     "name": "stdout",
     "output_type": "stream",
     "text": [
      "5/5 [==============================] - 6s 1s/step - loss: 0.0400 - mae: 0.1533 - val_loss: 0.0414 - val_mae: 0.1567\n",
      "Epoch 197/500\n",
      "5/5 [==============================] - 1s 217ms/step - loss: 0.0403 - mae: 0.1559 - val_loss: 0.0436 - val_mae: 0.1603\n",
      "Epoch 198/500\n",
      "5/5 [==============================] - 1s 219ms/step - loss: 0.0408 - mae: 0.1556 - val_loss: 0.0435 - val_mae: 0.1578\n",
      "Epoch 199/500\n",
      "5/5 [==============================] - 1s 216ms/step - loss: 0.0389 - mae: 0.1535 - val_loss: 0.0420 - val_mae: 0.1562\n",
      "Epoch 200/500\n",
      "5/5 [==============================] - 1s 217ms/step - loss: 0.0393 - mae: 0.1536 - val_loss: 0.0450 - val_mae: 0.1670\n",
      "Epoch 201/500\n",
      "5/5 [==============================] - 1s 219ms/step - loss: 0.0408 - mae: 0.1580 - val_loss: 0.0416 - val_mae: 0.1543\n",
      "Epoch 202/500\n",
      "5/5 [==============================] - 1s 217ms/step - loss: 0.0404 - mae: 0.1535 - val_loss: 0.0445 - val_mae: 0.1615\n",
      "Epoch 203/500\n",
      "5/5 [==============================] - 1s 219ms/step - loss: 0.0397 - mae: 0.1554 - val_loss: 0.0437 - val_mae: 0.1607\n",
      "Epoch 204/500\n",
      "5/5 [==============================] - 1s 221ms/step - loss: 0.0389 - mae: 0.1513 - val_loss: 0.0435 - val_mae: 0.1570\n",
      "Epoch 205/500\n",
      "5/5 [==============================] - ETA: 0s - loss: 0.0386 - mae: 0.1518"
     ]
    },
    {
     "name": "stderr",
     "output_type": "stream",
     "text": [
      "WARNING:absl:Found untraced functions such as lstm_cell_layer_call_fn, lstm_cell_layer_call_and_return_conditional_losses while saving (showing 2 of 2). These functions will not be directly callable after loading.\n"
     ]
    },
    {
     "name": "stdout",
     "output_type": "stream",
     "text": [
      "INFO:tensorflow:Assets written to: C:\\Users\\PARK\\Documents\\LAB\\RNN vs LSTM\\FInal Example\\wandb\\run-20221018_161515-kreh8kmi\\files\\model-best\\assets\n"
     ]
    },
    {
     "name": "stderr",
     "output_type": "stream",
     "text": [
      "INFO:tensorflow:Assets written to: C:\\Users\\PARK\\Documents\\LAB\\RNN vs LSTM\\FInal Example\\wandb\\run-20221018_161515-kreh8kmi\\files\\model-best\\assets\n",
      "\u001b[34m\u001b[1mwandb\u001b[0m: Adding directory to artifact (C:\\Users\\PARK\\Documents\\LAB\\RNN vs LSTM\\FInal Example\\wandb\\run-20221018_161515-kreh8kmi\\files\\model-best)... Done. 0.4s\n"
     ]
    },
    {
     "name": "stdout",
     "output_type": "stream",
     "text": [
      "5/5 [==============================] - 6s 1s/step - loss: 0.0386 - mae: 0.1518 - val_loss: 0.0404 - val_mae: 0.1542\n",
      "Epoch 206/500\n",
      "5/5 [==============================] - 1s 223ms/step - loss: 0.0395 - mae: 0.1547 - val_loss: 0.0420 - val_mae: 0.1548\n",
      "Epoch 207/500\n",
      "5/5 [==============================] - 1s 216ms/step - loss: 0.0374 - mae: 0.1484 - val_loss: 0.0416 - val_mae: 0.1570\n",
      "Epoch 208/500\n",
      "5/5 [==============================] - ETA: 0s - loss: 0.0369 - mae: 0.1486"
     ]
    },
    {
     "name": "stderr",
     "output_type": "stream",
     "text": [
      "WARNING:absl:Found untraced functions such as lstm_cell_layer_call_fn, lstm_cell_layer_call_and_return_conditional_losses while saving (showing 2 of 2). These functions will not be directly callable after loading.\n"
     ]
    },
    {
     "name": "stdout",
     "output_type": "stream",
     "text": [
      "INFO:tensorflow:Assets written to: C:\\Users\\PARK\\Documents\\LAB\\RNN vs LSTM\\FInal Example\\wandb\\run-20221018_161515-kreh8kmi\\files\\model-best\\assets\n"
     ]
    },
    {
     "name": "stderr",
     "output_type": "stream",
     "text": [
      "INFO:tensorflow:Assets written to: C:\\Users\\PARK\\Documents\\LAB\\RNN vs LSTM\\FInal Example\\wandb\\run-20221018_161515-kreh8kmi\\files\\model-best\\assets\n",
      "\u001b[34m\u001b[1mwandb\u001b[0m: Adding directory to artifact (C:\\Users\\PARK\\Documents\\LAB\\RNN vs LSTM\\FInal Example\\wandb\\run-20221018_161515-kreh8kmi\\files\\model-best)... Done. 0.4s\n"
     ]
    },
    {
     "name": "stdout",
     "output_type": "stream",
     "text": [
      "5/5 [==============================] - 5s 1s/step - loss: 0.0369 - mae: 0.1486 - val_loss: 0.0397 - val_mae: 0.1543\n",
      "Epoch 209/500\n",
      "5/5 [==============================] - 1s 247ms/step - loss: 0.0367 - mae: 0.1475 - val_loss: 0.0410 - val_mae: 0.1518\n",
      "Epoch 210/500\n",
      "5/5 [==============================] - 1s 217ms/step - loss: 0.0368 - mae: 0.1482 - val_loss: 0.0418 - val_mae: 0.1503\n",
      "Epoch 211/500\n",
      "5/5 [==============================] - 1s 216ms/step - loss: 0.0370 - mae: 0.1473 - val_loss: 0.0415 - val_mae: 0.1589\n",
      "Epoch 212/500\n",
      "5/5 [==============================] - 1s 217ms/step - loss: 0.0365 - mae: 0.1472 - val_loss: 0.0420 - val_mae: 0.1547\n",
      "Epoch 213/500\n",
      "5/5 [==============================] - ETA: 0s - loss: 0.0363 - mae: 0.1463"
     ]
    },
    {
     "name": "stderr",
     "output_type": "stream",
     "text": [
      "WARNING:absl:Found untraced functions such as lstm_cell_layer_call_fn, lstm_cell_layer_call_and_return_conditional_losses while saving (showing 2 of 2). These functions will not be directly callable after loading.\n"
     ]
    },
    {
     "name": "stdout",
     "output_type": "stream",
     "text": [
      "INFO:tensorflow:Assets written to: C:\\Users\\PARK\\Documents\\LAB\\RNN vs LSTM\\FInal Example\\wandb\\run-20221018_161515-kreh8kmi\\files\\model-best\\assets\n"
     ]
    },
    {
     "name": "stderr",
     "output_type": "stream",
     "text": [
      "INFO:tensorflow:Assets written to: C:\\Users\\PARK\\Documents\\LAB\\RNN vs LSTM\\FInal Example\\wandb\\run-20221018_161515-kreh8kmi\\files\\model-best\\assets\n",
      "\u001b[34m\u001b[1mwandb\u001b[0m: Adding directory to artifact (C:\\Users\\PARK\\Documents\\LAB\\RNN vs LSTM\\FInal Example\\wandb\\run-20221018_161515-kreh8kmi\\files\\model-best)... Done. 0.4s\n"
     ]
    },
    {
     "name": "stdout",
     "output_type": "stream",
     "text": [
      "5/5 [==============================] - 5s 1s/step - loss: 0.0363 - mae: 0.1463 - val_loss: 0.0397 - val_mae: 0.1507\n",
      "Epoch 214/500\n",
      "5/5 [==============================] - 1s 247ms/step - loss: 0.0363 - mae: 0.1465 - val_loss: 0.0399 - val_mae: 0.1530\n",
      "Epoch 215/500\n",
      "5/5 [==============================] - 1s 217ms/step - loss: 0.0370 - mae: 0.1485 - val_loss: 0.0440 - val_mae: 0.1615\n",
      "Epoch 216/500\n",
      "5/5 [==============================] - 1s 219ms/step - loss: 0.0372 - mae: 0.1497 - val_loss: 0.0422 - val_mae: 0.1609\n",
      "Epoch 217/500\n",
      "5/5 [==============================] - ETA: 0s - loss: 0.0370 - mae: 0.1492"
     ]
    },
    {
     "name": "stderr",
     "output_type": "stream",
     "text": [
      "WARNING:absl:Found untraced functions such as lstm_cell_layer_call_fn, lstm_cell_layer_call_and_return_conditional_losses while saving (showing 2 of 2). These functions will not be directly callable after loading.\n"
     ]
    },
    {
     "name": "stdout",
     "output_type": "stream",
     "text": [
      "INFO:tensorflow:Assets written to: C:\\Users\\PARK\\Documents\\LAB\\RNN vs LSTM\\FInal Example\\wandb\\run-20221018_161515-kreh8kmi\\files\\model-best\\assets\n"
     ]
    },
    {
     "name": "stderr",
     "output_type": "stream",
     "text": [
      "INFO:tensorflow:Assets written to: C:\\Users\\PARK\\Documents\\LAB\\RNN vs LSTM\\FInal Example\\wandb\\run-20221018_161515-kreh8kmi\\files\\model-best\\assets\n",
      "\u001b[34m\u001b[1mwandb\u001b[0m: Adding directory to artifact (C:\\Users\\PARK\\Documents\\LAB\\RNN vs LSTM\\FInal Example\\wandb\\run-20221018_161515-kreh8kmi\\files\\model-best)... Done. 0.4s\n"
     ]
    },
    {
     "name": "stdout",
     "output_type": "stream",
     "text": [
      "5/5 [==============================] - 6s 1s/step - loss: 0.0370 - mae: 0.1492 - val_loss: 0.0388 - val_mae: 0.1544\n",
      "Epoch 218/500\n",
      "5/5 [==============================] - 1s 236ms/step - loss: 0.0352 - mae: 0.1443 - val_loss: 0.0390 - val_mae: 0.1517\n",
      "Epoch 219/500\n",
      "5/5 [==============================] - ETA: 0s - loss: 0.0351 - mae: 0.1456"
     ]
    },
    {
     "name": "stderr",
     "output_type": "stream",
     "text": [
      "WARNING:absl:Found untraced functions such as lstm_cell_layer_call_fn, lstm_cell_layer_call_and_return_conditional_losses while saving (showing 2 of 2). These functions will not be directly callable after loading.\n"
     ]
    },
    {
     "name": "stdout",
     "output_type": "stream",
     "text": [
      "INFO:tensorflow:Assets written to: C:\\Users\\PARK\\Documents\\LAB\\RNN vs LSTM\\FInal Example\\wandb\\run-20221018_161515-kreh8kmi\\files\\model-best\\assets\n"
     ]
    },
    {
     "name": "stderr",
     "output_type": "stream",
     "text": [
      "INFO:tensorflow:Assets written to: C:\\Users\\PARK\\Documents\\LAB\\RNN vs LSTM\\FInal Example\\wandb\\run-20221018_161515-kreh8kmi\\files\\model-best\\assets\n",
      "\u001b[34m\u001b[1mwandb\u001b[0m: Adding directory to artifact (C:\\Users\\PARK\\Documents\\LAB\\RNN vs LSTM\\FInal Example\\wandb\\run-20221018_161515-kreh8kmi\\files\\model-best)... Done. 0.4s\n"
     ]
    },
    {
     "name": "stdout",
     "output_type": "stream",
     "text": [
      "5/5 [==============================] - 5s 1s/step - loss: 0.0351 - mae: 0.1456 - val_loss: 0.0376 - val_mae: 0.1469\n",
      "Epoch 220/500\n",
      "4/5 [=======================>......] - ETA: 0s - loss: 0.0319 - mae: 0.1374"
     ]
    },
    {
     "name": "stderr",
     "output_type": "stream",
     "text": [
      "WARNING:absl:Found untraced functions such as lstm_cell_layer_call_fn, lstm_cell_layer_call_and_return_conditional_losses while saving (showing 2 of 2). These functions will not be directly callable after loading.\n"
     ]
    },
    {
     "name": "stdout",
     "output_type": "stream",
     "text": [
      "INFO:tensorflow:Assets written to: C:\\Users\\PARK\\Documents\\LAB\\RNN vs LSTM\\FInal Example\\wandb\\run-20221018_161515-kreh8kmi\\files\\model-best\\assets\n"
     ]
    },
    {
     "name": "stderr",
     "output_type": "stream",
     "text": [
      "INFO:tensorflow:Assets written to: C:\\Users\\PARK\\Documents\\LAB\\RNN vs LSTM\\FInal Example\\wandb\\run-20221018_161515-kreh8kmi\\files\\model-best\\assets\n",
      "\u001b[34m\u001b[1mwandb\u001b[0m: Adding directory to artifact (C:\\Users\\PARK\\Documents\\LAB\\RNN vs LSTM\\FInal Example\\wandb\\run-20221018_161515-kreh8kmi\\files\\model-best)... Done. 0.4s\n"
     ]
    },
    {
     "name": "stdout",
     "output_type": "stream",
     "text": [
      "5/5 [==============================] - 6s 1s/step - loss: 0.0325 - mae: 0.1387 - val_loss: 0.0369 - val_mae: 0.1486\n",
      "Epoch 221/500\n",
      "4/5 [=======================>......] - ETA: 0s - loss: 0.0331 - mae: 0.1391"
     ]
    },
    {
     "name": "stderr",
     "output_type": "stream",
     "text": [
      "WARNING:absl:Found untraced functions such as lstm_cell_layer_call_fn, lstm_cell_layer_call_and_return_conditional_losses while saving (showing 2 of 2). These functions will not be directly callable after loading.\n"
     ]
    },
    {
     "name": "stdout",
     "output_type": "stream",
     "text": [
      "INFO:tensorflow:Assets written to: C:\\Users\\PARK\\Documents\\LAB\\RNN vs LSTM\\FInal Example\\wandb\\run-20221018_161515-kreh8kmi\\files\\model-best\\assets\n"
     ]
    },
    {
     "name": "stderr",
     "output_type": "stream",
     "text": [
      "INFO:tensorflow:Assets written to: C:\\Users\\PARK\\Documents\\LAB\\RNN vs LSTM\\FInal Example\\wandb\\run-20221018_161515-kreh8kmi\\files\\model-best\\assets\n",
      "\u001b[34m\u001b[1mwandb\u001b[0m: Adding directory to artifact (C:\\Users\\PARK\\Documents\\LAB\\RNN vs LSTM\\FInal Example\\wandb\\run-20221018_161515-kreh8kmi\\files\\model-best)... Done. 0.4s\n"
     ]
    },
    {
     "name": "stdout",
     "output_type": "stream",
     "text": [
      "5/5 [==============================] - 6s 1s/step - loss: 0.0337 - mae: 0.1403 - val_loss: 0.0359 - val_mae: 0.1468\n",
      "Epoch 222/500\n",
      "5/5 [==============================] - 1s 241ms/step - loss: 0.0336 - mae: 0.1411 - val_loss: 0.0361 - val_mae: 0.1492\n",
      "Epoch 223/500\n",
      "5/5 [==============================] - ETA: 0s - loss: 0.0318 - mae: 0.1364"
     ]
    },
    {
     "name": "stderr",
     "output_type": "stream",
     "text": [
      "WARNING:absl:Found untraced functions such as lstm_cell_layer_call_fn, lstm_cell_layer_call_and_return_conditional_losses while saving (showing 2 of 2). These functions will not be directly callable after loading.\n"
     ]
    },
    {
     "name": "stdout",
     "output_type": "stream",
     "text": [
      "INFO:tensorflow:Assets written to: C:\\Users\\PARK\\Documents\\LAB\\RNN vs LSTM\\FInal Example\\wandb\\run-20221018_161515-kreh8kmi\\files\\model-best\\assets\n"
     ]
    },
    {
     "name": "stderr",
     "output_type": "stream",
     "text": [
      "INFO:tensorflow:Assets written to: C:\\Users\\PARK\\Documents\\LAB\\RNN vs LSTM\\FInal Example\\wandb\\run-20221018_161515-kreh8kmi\\files\\model-best\\assets\n",
      "\u001b[34m\u001b[1mwandb\u001b[0m: Adding directory to artifact (C:\\Users\\PARK\\Documents\\LAB\\RNN vs LSTM\\FInal Example\\wandb\\run-20221018_161515-kreh8kmi\\files\\model-best)... Done. 0.4s\n"
     ]
    },
    {
     "name": "stdout",
     "output_type": "stream",
     "text": [
      "5/5 [==============================] - 5s 1s/step - loss: 0.0318 - mae: 0.1364 - val_loss: 0.0351 - val_mae: 0.1464\n",
      "Epoch 224/500\n",
      "5/5 [==============================] - 1s 226ms/step - loss: 0.0313 - mae: 0.1368 - val_loss: 0.0356 - val_mae: 0.1451\n",
      "Epoch 225/500\n",
      "5/5 [==============================] - ETA: 0s - loss: 0.0315 - mae: 0.1393"
     ]
    },
    {
     "name": "stderr",
     "output_type": "stream",
     "text": [
      "WARNING:absl:Found untraced functions such as lstm_cell_layer_call_fn, lstm_cell_layer_call_and_return_conditional_losses while saving (showing 2 of 2). These functions will not be directly callable after loading.\n"
     ]
    },
    {
     "name": "stdout",
     "output_type": "stream",
     "text": [
      "INFO:tensorflow:Assets written to: C:\\Users\\PARK\\Documents\\LAB\\RNN vs LSTM\\FInal Example\\wandb\\run-20221018_161515-kreh8kmi\\files\\model-best\\assets\n"
     ]
    },
    {
     "name": "stderr",
     "output_type": "stream",
     "text": [
      "INFO:tensorflow:Assets written to: C:\\Users\\PARK\\Documents\\LAB\\RNN vs LSTM\\FInal Example\\wandb\\run-20221018_161515-kreh8kmi\\files\\model-best\\assets\n",
      "\u001b[34m\u001b[1mwandb\u001b[0m: Adding directory to artifact (C:\\Users\\PARK\\Documents\\LAB\\RNN vs LSTM\\FInal Example\\wandb\\run-20221018_161515-kreh8kmi\\files\\model-best)... Done. 0.4s\n"
     ]
    },
    {
     "name": "stdout",
     "output_type": "stream",
     "text": [
      "5/5 [==============================] - 5s 1s/step - loss: 0.0315 - mae: 0.1393 - val_loss: 0.0342 - val_mae: 0.1394\n",
      "Epoch 226/500\n",
      "5/5 [==============================] - ETA: 0s - loss: 0.0305 - mae: 0.1339"
     ]
    },
    {
     "name": "stderr",
     "output_type": "stream",
     "text": [
      "WARNING:absl:Found untraced functions such as lstm_cell_layer_call_fn, lstm_cell_layer_call_and_return_conditional_losses while saving (showing 2 of 2). These functions will not be directly callable after loading.\n"
     ]
    },
    {
     "name": "stdout",
     "output_type": "stream",
     "text": [
      "INFO:tensorflow:Assets written to: C:\\Users\\PARK\\Documents\\LAB\\RNN vs LSTM\\FInal Example\\wandb\\run-20221018_161515-kreh8kmi\\files\\model-best\\assets\n"
     ]
    },
    {
     "name": "stderr",
     "output_type": "stream",
     "text": [
      "INFO:tensorflow:Assets written to: C:\\Users\\PARK\\Documents\\LAB\\RNN vs LSTM\\FInal Example\\wandb\\run-20221018_161515-kreh8kmi\\files\\model-best\\assets\n",
      "\u001b[34m\u001b[1mwandb\u001b[0m: Adding directory to artifact (C:\\Users\\PARK\\Documents\\LAB\\RNN vs LSTM\\FInal Example\\wandb\\run-20221018_161515-kreh8kmi\\files\\model-best)... Done. 0.4s\n"
     ]
    },
    {
     "name": "stdout",
     "output_type": "stream",
     "text": [
      "5/5 [==============================] - 6s 1s/step - loss: 0.0305 - mae: 0.1339 - val_loss: 0.0321 - val_mae: 0.1387\n",
      "Epoch 227/500\n",
      "5/5 [==============================] - 1s 228ms/step - loss: 0.0308 - mae: 0.1363 - val_loss: 0.0363 - val_mae: 0.1468\n",
      "Epoch 228/500\n",
      "5/5 [==============================] - 1s 226ms/step - loss: 0.0324 - mae: 0.1397 - val_loss: 0.0421 - val_mae: 0.1660\n",
      "Epoch 229/500\n",
      "5/5 [==============================] - 1s 227ms/step - loss: 0.0345 - mae: 0.1461 - val_loss: 0.0365 - val_mae: 0.1510\n",
      "Epoch 230/500\n",
      "5/5 [==============================] - 1s 225ms/step - loss: 0.0329 - mae: 0.1431 - val_loss: 0.0338 - val_mae: 0.1449\n",
      "Epoch 231/500\n",
      "5/5 [==============================] - 1s 223ms/step - loss: 0.0321 - mae: 0.1428 - val_loss: 0.0353 - val_mae: 0.1474\n",
      "Epoch 232/500\n",
      "5/5 [==============================] - 1s 222ms/step - loss: 0.0308 - mae: 0.1393 - val_loss: 0.0331 - val_mae: 0.1389\n",
      "Epoch 233/500\n",
      "5/5 [==============================] - ETA: 0s - loss: 0.0280 - mae: 0.1298"
     ]
    },
    {
     "name": "stderr",
     "output_type": "stream",
     "text": [
      "WARNING:absl:Found untraced functions such as lstm_cell_layer_call_fn, lstm_cell_layer_call_and_return_conditional_losses while saving (showing 2 of 2). These functions will not be directly callable after loading.\n"
     ]
    },
    {
     "name": "stdout",
     "output_type": "stream",
     "text": [
      "INFO:tensorflow:Assets written to: C:\\Users\\PARK\\Documents\\LAB\\RNN vs LSTM\\FInal Example\\wandb\\run-20221018_161515-kreh8kmi\\files\\model-best\\assets\n"
     ]
    },
    {
     "name": "stderr",
     "output_type": "stream",
     "text": [
      "INFO:tensorflow:Assets written to: C:\\Users\\PARK\\Documents\\LAB\\RNN vs LSTM\\FInal Example\\wandb\\run-20221018_161515-kreh8kmi\\files\\model-best\\assets\n",
      "\u001b[34m\u001b[1mwandb\u001b[0m: Adding directory to artifact (C:\\Users\\PARK\\Documents\\LAB\\RNN vs LSTM\\FInal Example\\wandb\\run-20221018_161515-kreh8kmi\\files\\model-best)... Done. 0.4s\n"
     ]
    },
    {
     "name": "stdout",
     "output_type": "stream",
     "text": [
      "5/5 [==============================] - 6s 1s/step - loss: 0.0280 - mae: 0.1298 - val_loss: 0.0315 - val_mae: 0.1383\n",
      "Epoch 234/500\n",
      "4/5 [=======================>......] - ETA: 0s - loss: 0.0284 - mae: 0.1320"
     ]
    },
    {
     "name": "stderr",
     "output_type": "stream",
     "text": [
      "WARNING:absl:Found untraced functions such as lstm_cell_layer_call_fn, lstm_cell_layer_call_and_return_conditional_losses while saving (showing 2 of 2). These functions will not be directly callable after loading.\n"
     ]
    },
    {
     "name": "stdout",
     "output_type": "stream",
     "text": [
      "INFO:tensorflow:Assets written to: C:\\Users\\PARK\\Documents\\LAB\\RNN vs LSTM\\FInal Example\\wandb\\run-20221018_161515-kreh8kmi\\files\\model-best\\assets\n"
     ]
    },
    {
     "name": "stderr",
     "output_type": "stream",
     "text": [
      "INFO:tensorflow:Assets written to: C:\\Users\\PARK\\Documents\\LAB\\RNN vs LSTM\\FInal Example\\wandb\\run-20221018_161515-kreh8kmi\\files\\model-best\\assets\n",
      "\u001b[34m\u001b[1mwandb\u001b[0m: Adding directory to artifact (C:\\Users\\PARK\\Documents\\LAB\\RNN vs LSTM\\FInal Example\\wandb\\run-20221018_161515-kreh8kmi\\files\\model-best)... Done. 0.4s\n"
     ]
    },
    {
     "name": "stdout",
     "output_type": "stream",
     "text": [
      "5/5 [==============================] - 6s 1s/step - loss: 0.0285 - mae: 0.1324 - val_loss: 0.0300 - val_mae: 0.1355\n",
      "Epoch 235/500\n",
      "5/5 [==============================] - 1s 234ms/step - loss: 0.0289 - mae: 0.1338 - val_loss: 0.0347 - val_mae: 0.1538\n",
      "Epoch 236/500\n",
      "5/5 [==============================] - ETA: 0s - loss: 0.0266 - mae: 0.1297"
     ]
    },
    {
     "name": "stderr",
     "output_type": "stream",
     "text": [
      "WARNING:absl:Found untraced functions such as lstm_cell_layer_call_fn, lstm_cell_layer_call_and_return_conditional_losses while saving (showing 2 of 2). These functions will not be directly callable after loading.\n"
     ]
    },
    {
     "name": "stdout",
     "output_type": "stream",
     "text": [
      "INFO:tensorflow:Assets written to: C:\\Users\\PARK\\Documents\\LAB\\RNN vs LSTM\\FInal Example\\wandb\\run-20221018_161515-kreh8kmi\\files\\model-best\\assets\n"
     ]
    },
    {
     "name": "stderr",
     "output_type": "stream",
     "text": [
      "INFO:tensorflow:Assets written to: C:\\Users\\PARK\\Documents\\LAB\\RNN vs LSTM\\FInal Example\\wandb\\run-20221018_161515-kreh8kmi\\files\\model-best\\assets\n",
      "\u001b[34m\u001b[1mwandb\u001b[0m: Adding directory to artifact (C:\\Users\\PARK\\Documents\\LAB\\RNN vs LSTM\\FInal Example\\wandb\\run-20221018_161515-kreh8kmi\\files\\model-best)... Done. 0.4s\n"
     ]
    },
    {
     "name": "stdout",
     "output_type": "stream",
     "text": [
      "5/5 [==============================] - 6s 1s/step - loss: 0.0266 - mae: 0.1297 - val_loss: 0.0262 - val_mae: 0.1287\n",
      "Epoch 237/500\n",
      "5/5 [==============================] - 1s 229ms/step - loss: 0.0253 - mae: 0.1250 - val_loss: 0.0271 - val_mae: 0.1292\n",
      "Epoch 238/500\n",
      "5/5 [==============================] - 1s 227ms/step - loss: 0.0241 - mae: 0.1217 - val_loss: 0.0269 - val_mae: 0.1304\n",
      "Epoch 239/500\n",
      "5/5 [==============================] - ETA: 0s - loss: 0.0234 - mae: 0.1214"
     ]
    },
    {
     "name": "stderr",
     "output_type": "stream",
     "text": [
      "WARNING:absl:Found untraced functions such as lstm_cell_layer_call_fn, lstm_cell_layer_call_and_return_conditional_losses while saving (showing 2 of 2). These functions will not be directly callable after loading.\n"
     ]
    },
    {
     "name": "stdout",
     "output_type": "stream",
     "text": [
      "INFO:tensorflow:Assets written to: C:\\Users\\PARK\\Documents\\LAB\\RNN vs LSTM\\FInal Example\\wandb\\run-20221018_161515-kreh8kmi\\files\\model-best\\assets\n"
     ]
    },
    {
     "name": "stderr",
     "output_type": "stream",
     "text": [
      "INFO:tensorflow:Assets written to: C:\\Users\\PARK\\Documents\\LAB\\RNN vs LSTM\\FInal Example\\wandb\\run-20221018_161515-kreh8kmi\\files\\model-best\\assets\n",
      "\u001b[34m\u001b[1mwandb\u001b[0m: Adding directory to artifact (C:\\Users\\PARK\\Documents\\LAB\\RNN vs LSTM\\FInal Example\\wandb\\run-20221018_161515-kreh8kmi\\files\\model-best)... Done. 0.4s\n"
     ]
    },
    {
     "name": "stdout",
     "output_type": "stream",
     "text": [
      "5/5 [==============================] - 5s 1s/step - loss: 0.0234 - mae: 0.1214 - val_loss: 0.0248 - val_mae: 0.1272\n",
      "Epoch 240/500\n",
      "4/5 [=======================>......] - ETA: 0s - loss: 0.0223 - mae: 0.1183"
     ]
    },
    {
     "name": "stderr",
     "output_type": "stream",
     "text": [
      "WARNING:absl:Found untraced functions such as lstm_cell_layer_call_fn, lstm_cell_layer_call_and_return_conditional_losses while saving (showing 2 of 2). These functions will not be directly callable after loading.\n"
     ]
    },
    {
     "name": "stdout",
     "output_type": "stream",
     "text": [
      "INFO:tensorflow:Assets written to: C:\\Users\\PARK\\Documents\\LAB\\RNN vs LSTM\\FInal Example\\wandb\\run-20221018_161515-kreh8kmi\\files\\model-best\\assets\n"
     ]
    },
    {
     "name": "stderr",
     "output_type": "stream",
     "text": [
      "INFO:tensorflow:Assets written to: C:\\Users\\PARK\\Documents\\LAB\\RNN vs LSTM\\FInal Example\\wandb\\run-20221018_161515-kreh8kmi\\files\\model-best\\assets\n",
      "\u001b[34m\u001b[1mwandb\u001b[0m: Adding directory to artifact (C:\\Users\\PARK\\Documents\\LAB\\RNN vs LSTM\\FInal Example\\wandb\\run-20221018_161515-kreh8kmi\\files\\model-best)... Done. 0.4s\n"
     ]
    },
    {
     "name": "stdout",
     "output_type": "stream",
     "text": [
      "5/5 [==============================] - 6s 1s/step - loss: 0.0220 - mae: 0.1172 - val_loss: 0.0246 - val_mae: 0.1277\n",
      "Epoch 241/500\n",
      "5/5 [==============================] - 1s 230ms/step - loss: 0.0456 - mae: 0.1618 - val_loss: 0.0534 - val_mae: 0.1792\n",
      "Epoch 242/500\n",
      "5/5 [==============================] - 1s 222ms/step - loss: 0.0551 - mae: 0.1813 - val_loss: 0.0580 - val_mae: 0.1833\n",
      "Epoch 243/500\n",
      "5/5 [==============================] - 1s 223ms/step - loss: 0.0608 - mae: 0.1923 - val_loss: 0.0552 - val_mae: 0.1842\n",
      "Epoch 244/500\n",
      "5/5 [==============================] - 1s 228ms/step - loss: 0.0521 - mae: 0.1745 - val_loss: 0.0490 - val_mae: 0.1685\n",
      "Epoch 245/500\n",
      "5/5 [==============================] - 1s 229ms/step - loss: 0.0477 - mae: 0.1677 - val_loss: 0.0508 - val_mae: 0.1692\n",
      "Epoch 246/500\n",
      "5/5 [==============================] - 1s 223ms/step - loss: 0.0460 - mae: 0.1646 - val_loss: 0.0473 - val_mae: 0.1664\n",
      "Epoch 247/500\n",
      "5/5 [==============================] - 1s 223ms/step - loss: 0.0450 - mae: 0.1629 - val_loss: 0.0454 - val_mae: 0.1620\n",
      "Epoch 248/500\n",
      "5/5 [==============================] - 1s 222ms/step - loss: 0.0437 - mae: 0.1611 - val_loss: 0.0468 - val_mae: 0.1651\n",
      "Epoch 249/500\n",
      "5/5 [==============================] - 1s 222ms/step - loss: 0.0434 - mae: 0.1600 - val_loss: 0.0463 - val_mae: 0.1645\n",
      "Epoch 250/500\n",
      "5/5 [==============================] - 1s 222ms/step - loss: 0.0442 - mae: 0.1610 - val_loss: 0.0476 - val_mae: 0.1707\n",
      "Epoch 251/500\n",
      "5/5 [==============================] - 1s 221ms/step - loss: 0.0462 - mae: 0.1660 - val_loss: 0.0478 - val_mae: 0.1669\n",
      "Epoch 252/500\n",
      "5/5 [==============================] - 1s 220ms/step - loss: 0.0444 - mae: 0.1627 - val_loss: 0.0488 - val_mae: 0.1667\n",
      "Epoch 253/500\n",
      "5/5 [==============================] - 1s 220ms/step - loss: 0.0442 - mae: 0.1620 - val_loss: 0.0472 - val_mae: 0.1676\n",
      "Epoch 254/500\n",
      "5/5 [==============================] - 1s 220ms/step - loss: 0.0466 - mae: 0.1665 - val_loss: 0.0553 - val_mae: 0.1872\n",
      "Epoch 255/500\n",
      "5/5 [==============================] - 1s 223ms/step - loss: 0.0480 - mae: 0.1695 - val_loss: 0.0459 - val_mae: 0.1637\n",
      "Epoch 256/500\n",
      "5/5 [==============================] - 1s 224ms/step - loss: 0.0421 - mae: 0.1566 - val_loss: 0.0448 - val_mae: 0.1648\n",
      "Epoch 257/500\n",
      "5/5 [==============================] - 1s 225ms/step - loss: 0.0419 - mae: 0.1568 - val_loss: 0.0458 - val_mae: 0.1633\n",
      "Epoch 258/500\n",
      "5/5 [==============================] - 1s 221ms/step - loss: 0.0415 - mae: 0.1578 - val_loss: 0.0514 - val_mae: 0.1749\n",
      "Epoch 259/500\n",
      "5/5 [==============================] - 1s 222ms/step - loss: 0.0438 - mae: 0.1602 - val_loss: 0.0466 - val_mae: 0.1677\n",
      "Epoch 260/500\n",
      "5/5 [==============================] - 1s 221ms/step - loss: 0.0447 - mae: 0.1632 - val_loss: 0.0434 - val_mae: 0.1616\n",
      "Epoch 261/500\n",
      "5/5 [==============================] - 1s 221ms/step - loss: 0.0407 - mae: 0.1536 - val_loss: 0.0412 - val_mae: 0.1541\n",
      "Epoch 262/500\n",
      "5/5 [==============================] - 1s 224ms/step - loss: 0.0384 - mae: 0.1505 - val_loss: 0.0413 - val_mae: 0.1567\n",
      "Epoch 263/500\n",
      "5/5 [==============================] - 1s 224ms/step - loss: 0.0374 - mae: 0.1491 - val_loss: 0.0420 - val_mae: 0.1578\n",
      "Epoch 264/500\n",
      "5/5 [==============================] - 1s 224ms/step - loss: 0.0382 - mae: 0.1486 - val_loss: 0.0404 - val_mae: 0.1561\n",
      "Epoch 265/500\n",
      "5/5 [==============================] - 1s 222ms/step - loss: 0.0385 - mae: 0.1508 - val_loss: 0.0431 - val_mae: 0.1622\n",
      "Epoch 266/500\n",
      "5/5 [==============================] - 1s 222ms/step - loss: 0.0406 - mae: 0.1560 - val_loss: 0.0508 - val_mae: 0.1780\n",
      "Epoch 267/500\n",
      "5/5 [==============================] - 1s 226ms/step - loss: 0.0411 - mae: 0.1578 - val_loss: 0.0405 - val_mae: 0.1546\n",
      "Epoch 268/500\n",
      "5/5 [==============================] - 1s 228ms/step - loss: 0.0364 - mae: 0.1462 - val_loss: 0.0384 - val_mae: 0.1519\n",
      "Epoch 269/500\n",
      "5/5 [==============================] - 1s 225ms/step - loss: 0.0343 - mae: 0.1435 - val_loss: 0.0340 - val_mae: 0.1419\n",
      "Epoch 270/500\n",
      "5/5 [==============================] - 1s 224ms/step - loss: 0.0310 - mae: 0.1353 - val_loss: 0.0333 - val_mae: 0.1396\n",
      "Epoch 271/500\n",
      "5/5 [==============================] - 1s 225ms/step - loss: 0.0290 - mae: 0.1315 - val_loss: 0.0316 - val_mae: 0.1386\n",
      "Epoch 272/500\n",
      "5/5 [==============================] - 1s 224ms/step - loss: 0.0280 - mae: 0.1286 - val_loss: 0.0302 - val_mae: 0.1352\n",
      "Epoch 273/500\n",
      "5/5 [==============================] - 1s 221ms/step - loss: 0.0276 - mae: 0.1274 - val_loss: 0.0284 - val_mae: 0.1311\n",
      "Epoch 274/500\n",
      "5/5 [==============================] - 1s 222ms/step - loss: 0.0255 - mae: 0.1230 - val_loss: 0.0272 - val_mae: 0.1271\n",
      "Epoch 275/500\n",
      "5/5 [==============================] - 1s 227ms/step - loss: 0.0234 - mae: 0.1191 - val_loss: 0.0279 - val_mae: 0.1304\n",
      "Epoch 276/500\n",
      "5/5 [==============================] - ETA: 0s - loss: 0.0232 - mae: 0.1187"
     ]
    },
    {
     "name": "stderr",
     "output_type": "stream",
     "text": [
      "WARNING:absl:Found untraced functions such as lstm_cell_layer_call_fn, lstm_cell_layer_call_and_return_conditional_losses while saving (showing 2 of 2). These functions will not be directly callable after loading.\n"
     ]
    },
    {
     "name": "stdout",
     "output_type": "stream",
     "text": [
      "INFO:tensorflow:Assets written to: C:\\Users\\PARK\\Documents\\LAB\\RNN vs LSTM\\FInal Example\\wandb\\run-20221018_161515-kreh8kmi\\files\\model-best\\assets\n"
     ]
    },
    {
     "name": "stderr",
     "output_type": "stream",
     "text": [
      "INFO:tensorflow:Assets written to: C:\\Users\\PARK\\Documents\\LAB\\RNN vs LSTM\\FInal Example\\wandb\\run-20221018_161515-kreh8kmi\\files\\model-best\\assets\n",
      "\u001b[34m\u001b[1mwandb\u001b[0m: Adding directory to artifact (C:\\Users\\PARK\\Documents\\LAB\\RNN vs LSTM\\FInal Example\\wandb\\run-20221018_161515-kreh8kmi\\files\\model-best)... Done. 0.4s\n"
     ]
    },
    {
     "name": "stdout",
     "output_type": "stream",
     "text": [
      "5/5 [==============================] - 5s 1s/step - loss: 0.0232 - mae: 0.1187 - val_loss: 0.0241 - val_mae: 0.1216\n",
      "Epoch 277/500\n",
      "5/5 [==============================] - ETA: 0s - loss: 0.0234 - mae: 0.1197"
     ]
    },
    {
     "name": "stderr",
     "output_type": "stream",
     "text": [
      "WARNING:absl:Found untraced functions such as lstm_cell_layer_call_fn, lstm_cell_layer_call_and_return_conditional_losses while saving (showing 2 of 2). These functions will not be directly callable after loading.\n"
     ]
    },
    {
     "name": "stdout",
     "output_type": "stream",
     "text": [
      "INFO:tensorflow:Assets written to: C:\\Users\\PARK\\Documents\\LAB\\RNN vs LSTM\\FInal Example\\wandb\\run-20221018_161515-kreh8kmi\\files\\model-best\\assets\n"
     ]
    },
    {
     "name": "stderr",
     "output_type": "stream",
     "text": [
      "INFO:tensorflow:Assets written to: C:\\Users\\PARK\\Documents\\LAB\\RNN vs LSTM\\FInal Example\\wandb\\run-20221018_161515-kreh8kmi\\files\\model-best\\assets\n",
      "\u001b[34m\u001b[1mwandb\u001b[0m: Adding directory to artifact (C:\\Users\\PARK\\Documents\\LAB\\RNN vs LSTM\\FInal Example\\wandb\\run-20221018_161515-kreh8kmi\\files\\model-best)... Done. 0.4s\n"
     ]
    },
    {
     "name": "stdout",
     "output_type": "stream",
     "text": [
      "5/5 [==============================] - 7s 2s/step - loss: 0.0234 - mae: 0.1197 - val_loss: 0.0238 - val_mae: 0.1217\n",
      "Epoch 278/500\n",
      "5/5 [==============================] - ETA: 0s - loss: 0.0214 - mae: 0.1152"
     ]
    },
    {
     "name": "stderr",
     "output_type": "stream",
     "text": [
      "WARNING:absl:Found untraced functions such as lstm_cell_layer_call_fn, lstm_cell_layer_call_and_return_conditional_losses while saving (showing 2 of 2). These functions will not be directly callable after loading.\n"
     ]
    },
    {
     "name": "stdout",
     "output_type": "stream",
     "text": [
      "INFO:tensorflow:Assets written to: C:\\Users\\PARK\\Documents\\LAB\\RNN vs LSTM\\FInal Example\\wandb\\run-20221018_161515-kreh8kmi\\files\\model-best\\assets\n"
     ]
    },
    {
     "name": "stderr",
     "output_type": "stream",
     "text": [
      "INFO:tensorflow:Assets written to: C:\\Users\\PARK\\Documents\\LAB\\RNN vs LSTM\\FInal Example\\wandb\\run-20221018_161515-kreh8kmi\\files\\model-best\\assets\n",
      "\u001b[34m\u001b[1mwandb\u001b[0m: Adding directory to artifact (C:\\Users\\PARK\\Documents\\LAB\\RNN vs LSTM\\FInal Example\\wandb\\run-20221018_161515-kreh8kmi\\files\\model-best)... Done. 0.4s\n"
     ]
    },
    {
     "name": "stdout",
     "output_type": "stream",
     "text": [
      "5/5 [==============================] - 5s 1s/step - loss: 0.0214 - mae: 0.1152 - val_loss: 0.0237 - val_mae: 0.1199\n",
      "Epoch 279/500\n",
      "5/5 [==============================] - 1s 245ms/step - loss: 0.0212 - mae: 0.1150 - val_loss: 0.0243 - val_mae: 0.1231\n",
      "Epoch 280/500\n",
      "5/5 [==============================] - ETA: 0s - loss: 0.0201 - mae: 0.1119"
     ]
    },
    {
     "name": "stderr",
     "output_type": "stream",
     "text": [
      "WARNING:absl:Found untraced functions such as lstm_cell_layer_call_fn, lstm_cell_layer_call_and_return_conditional_losses while saving (showing 2 of 2). These functions will not be directly callable after loading.\n"
     ]
    },
    {
     "name": "stdout",
     "output_type": "stream",
     "text": [
      "INFO:tensorflow:Assets written to: C:\\Users\\PARK\\Documents\\LAB\\RNN vs LSTM\\FInal Example\\wandb\\run-20221018_161515-kreh8kmi\\files\\model-best\\assets\n"
     ]
    },
    {
     "name": "stderr",
     "output_type": "stream",
     "text": [
      "INFO:tensorflow:Assets written to: C:\\Users\\PARK\\Documents\\LAB\\RNN vs LSTM\\FInal Example\\wandb\\run-20221018_161515-kreh8kmi\\files\\model-best\\assets\n",
      "\u001b[34m\u001b[1mwandb\u001b[0m: Adding directory to artifact (C:\\Users\\PARK\\Documents\\LAB\\RNN vs LSTM\\FInal Example\\wandb\\run-20221018_161515-kreh8kmi\\files\\model-best)... Done. 0.4s\n"
     ]
    },
    {
     "name": "stdout",
     "output_type": "stream",
     "text": [
      "5/5 [==============================] - 6s 1s/step - loss: 0.0201 - mae: 0.1119 - val_loss: 0.0218 - val_mae: 0.1170\n",
      "Epoch 281/500\n",
      "5/5 [==============================] - ETA: 0s - loss: 0.0189 - mae: 0.1102"
     ]
    },
    {
     "name": "stderr",
     "output_type": "stream",
     "text": [
      "WARNING:absl:Found untraced functions such as lstm_cell_layer_call_fn, lstm_cell_layer_call_and_return_conditional_losses while saving (showing 2 of 2). These functions will not be directly callable after loading.\n"
     ]
    },
    {
     "name": "stdout",
     "output_type": "stream",
     "text": [
      "INFO:tensorflow:Assets written to: C:\\Users\\PARK\\Documents\\LAB\\RNN vs LSTM\\FInal Example\\wandb\\run-20221018_161515-kreh8kmi\\files\\model-best\\assets\n"
     ]
    },
    {
     "name": "stderr",
     "output_type": "stream",
     "text": [
      "INFO:tensorflow:Assets written to: C:\\Users\\PARK\\Documents\\LAB\\RNN vs LSTM\\FInal Example\\wandb\\run-20221018_161515-kreh8kmi\\files\\model-best\\assets\n",
      "\u001b[34m\u001b[1mwandb\u001b[0m: Adding directory to artifact (C:\\Users\\PARK\\Documents\\LAB\\RNN vs LSTM\\FInal Example\\wandb\\run-20221018_161515-kreh8kmi\\files\\model-best)... Done. 0.4s\n"
     ]
    },
    {
     "name": "stdout",
     "output_type": "stream",
     "text": [
      "5/5 [==============================] - 6s 1s/step - loss: 0.0189 - mae: 0.1102 - val_loss: 0.0210 - val_mae: 0.1146\n",
      "Epoch 282/500\n",
      "5/5 [==============================] - 1s 223ms/step - loss: 0.0187 - mae: 0.1080 - val_loss: 0.0212 - val_mae: 0.1128\n",
      "Epoch 283/500\n",
      "5/5 [==============================] - 1s 218ms/step - loss: 0.0182 - mae: 0.1069 - val_loss: 0.0230 - val_mae: 0.1155\n",
      "Epoch 284/500\n",
      "5/5 [==============================] - 1s 219ms/step - loss: 0.0197 - mae: 0.1107 - val_loss: 0.0273 - val_mae: 0.1353\n",
      "Epoch 285/500\n",
      "5/5 [==============================] - ETA: 0s - loss: 0.0210 - mae: 0.1153"
     ]
    },
    {
     "name": "stderr",
     "output_type": "stream",
     "text": [
      "WARNING:absl:Found untraced functions such as lstm_cell_layer_call_fn, lstm_cell_layer_call_and_return_conditional_losses while saving (showing 2 of 2). These functions will not be directly callable after loading.\n"
     ]
    },
    {
     "name": "stdout",
     "output_type": "stream",
     "text": [
      "INFO:tensorflow:Assets written to: C:\\Users\\PARK\\Documents\\LAB\\RNN vs LSTM\\FInal Example\\wandb\\run-20221018_161515-kreh8kmi\\files\\model-best\\assets\n"
     ]
    },
    {
     "name": "stderr",
     "output_type": "stream",
     "text": [
      "INFO:tensorflow:Assets written to: C:\\Users\\PARK\\Documents\\LAB\\RNN vs LSTM\\FInal Example\\wandb\\run-20221018_161515-kreh8kmi\\files\\model-best\\assets\n",
      "\u001b[34m\u001b[1mwandb\u001b[0m: Adding directory to artifact (C:\\Users\\PARK\\Documents\\LAB\\RNN vs LSTM\\FInal Example\\wandb\\run-20221018_161515-kreh8kmi\\files\\model-best)... Done. 0.4s\n"
     ]
    },
    {
     "name": "stdout",
     "output_type": "stream",
     "text": [
      "5/5 [==============================] - 5s 1s/step - loss: 0.0210 - mae: 0.1153 - val_loss: 0.0202 - val_mae: 0.1136\n",
      "Epoch 286/500\n",
      "5/5 [==============================] - ETA: 0s - loss: 0.0179 - mae: 0.1062"
     ]
    },
    {
     "name": "stderr",
     "output_type": "stream",
     "text": [
      "WARNING:absl:Found untraced functions such as lstm_cell_layer_call_fn, lstm_cell_layer_call_and_return_conditional_losses while saving (showing 2 of 2). These functions will not be directly callable after loading.\n"
     ]
    },
    {
     "name": "stdout",
     "output_type": "stream",
     "text": [
      "INFO:tensorflow:Assets written to: C:\\Users\\PARK\\Documents\\LAB\\RNN vs LSTM\\FInal Example\\wandb\\run-20221018_161515-kreh8kmi\\files\\model-best\\assets\n"
     ]
    },
    {
     "name": "stderr",
     "output_type": "stream",
     "text": [
      "INFO:tensorflow:Assets written to: C:\\Users\\PARK\\Documents\\LAB\\RNN vs LSTM\\FInal Example\\wandb\\run-20221018_161515-kreh8kmi\\files\\model-best\\assets\n",
      "\u001b[34m\u001b[1mwandb\u001b[0m: Adding directory to artifact (C:\\Users\\PARK\\Documents\\LAB\\RNN vs LSTM\\FInal Example\\wandb\\run-20221018_161515-kreh8kmi\\files\\model-best)... Done. 0.4s\n"
     ]
    },
    {
     "name": "stdout",
     "output_type": "stream",
     "text": [
      "5/5 [==============================] - 5s 1s/step - loss: 0.0179 - mae: 0.1062 - val_loss: 0.0198 - val_mae: 0.1110\n",
      "Epoch 287/500\n",
      "5/5 [==============================] - ETA: 0s - loss: 0.0168 - mae: 0.1028"
     ]
    },
    {
     "name": "stderr",
     "output_type": "stream",
     "text": [
      "WARNING:absl:Found untraced functions such as lstm_cell_layer_call_fn, lstm_cell_layer_call_and_return_conditional_losses while saving (showing 2 of 2). These functions will not be directly callable after loading.\n"
     ]
    },
    {
     "name": "stdout",
     "output_type": "stream",
     "text": [
      "INFO:tensorflow:Assets written to: C:\\Users\\PARK\\Documents\\LAB\\RNN vs LSTM\\FInal Example\\wandb\\run-20221018_161515-kreh8kmi\\files\\model-best\\assets\n"
     ]
    },
    {
     "name": "stderr",
     "output_type": "stream",
     "text": [
      "INFO:tensorflow:Assets written to: C:\\Users\\PARK\\Documents\\LAB\\RNN vs LSTM\\FInal Example\\wandb\\run-20221018_161515-kreh8kmi\\files\\model-best\\assets\n",
      "\u001b[34m\u001b[1mwandb\u001b[0m: Adding directory to artifact (C:\\Users\\PARK\\Documents\\LAB\\RNN vs LSTM\\FInal Example\\wandb\\run-20221018_161515-kreh8kmi\\files\\model-best)... Done. 0.4s\n"
     ]
    },
    {
     "name": "stdout",
     "output_type": "stream",
     "text": [
      "5/5 [==============================] - 6s 1s/step - loss: 0.0168 - mae: 0.1028 - val_loss: 0.0179 - val_mae: 0.1068\n",
      "Epoch 288/500\n",
      "5/5 [==============================] - ETA: 0s - loss: 0.0151 - mae: 0.0977"
     ]
    },
    {
     "name": "stderr",
     "output_type": "stream",
     "text": [
      "WARNING:absl:Found untraced functions such as lstm_cell_layer_call_fn, lstm_cell_layer_call_and_return_conditional_losses while saving (showing 2 of 2). These functions will not be directly callable after loading.\n"
     ]
    },
    {
     "name": "stdout",
     "output_type": "stream",
     "text": [
      "INFO:tensorflow:Assets written to: C:\\Users\\PARK\\Documents\\LAB\\RNN vs LSTM\\FInal Example\\wandb\\run-20221018_161515-kreh8kmi\\files\\model-best\\assets\n"
     ]
    },
    {
     "name": "stderr",
     "output_type": "stream",
     "text": [
      "INFO:tensorflow:Assets written to: C:\\Users\\PARK\\Documents\\LAB\\RNN vs LSTM\\FInal Example\\wandb\\run-20221018_161515-kreh8kmi\\files\\model-best\\assets\n",
      "\u001b[34m\u001b[1mwandb\u001b[0m: Adding directory to artifact (C:\\Users\\PARK\\Documents\\LAB\\RNN vs LSTM\\FInal Example\\wandb\\run-20221018_161515-kreh8kmi\\files\\model-best)... Done. 0.4s\n"
     ]
    },
    {
     "name": "stdout",
     "output_type": "stream",
     "text": [
      "5/5 [==============================] - 5s 1s/step - loss: 0.0151 - mae: 0.0977 - val_loss: 0.0173 - val_mae: 0.1047\n",
      "Epoch 289/500\n",
      "4/5 [=======================>......] - ETA: 0s - loss: 0.0154 - mae: 0.1004"
     ]
    },
    {
     "name": "stderr",
     "output_type": "stream",
     "text": [
      "WARNING:absl:Found untraced functions such as lstm_cell_layer_call_fn, lstm_cell_layer_call_and_return_conditional_losses while saving (showing 2 of 2). These functions will not be directly callable after loading.\n"
     ]
    },
    {
     "name": "stdout",
     "output_type": "stream",
     "text": [
      "INFO:tensorflow:Assets written to: C:\\Users\\PARK\\Documents\\LAB\\RNN vs LSTM\\FInal Example\\wandb\\run-20221018_161515-kreh8kmi\\files\\model-best\\assets\n"
     ]
    },
    {
     "name": "stderr",
     "output_type": "stream",
     "text": [
      "INFO:tensorflow:Assets written to: C:\\Users\\PARK\\Documents\\LAB\\RNN vs LSTM\\FInal Example\\wandb\\run-20221018_161515-kreh8kmi\\files\\model-best\\assets\n",
      "\u001b[34m\u001b[1mwandb\u001b[0m: Adding directory to artifact (C:\\Users\\PARK\\Documents\\LAB\\RNN vs LSTM\\FInal Example\\wandb\\run-20221018_161515-kreh8kmi\\files\\model-best)... Done. 0.4s\n"
     ]
    },
    {
     "name": "stdout",
     "output_type": "stream",
     "text": [
      "5/5 [==============================] - 6s 1s/step - loss: 0.0154 - mae: 0.1002 - val_loss: 0.0169 - val_mae: 0.1044\n",
      "Epoch 290/500\n",
      "4/5 [=======================>......] - ETA: 0s - loss: 0.0143 - mae: 0.0948"
     ]
    },
    {
     "name": "stderr",
     "output_type": "stream",
     "text": [
      "WARNING:absl:Found untraced functions such as lstm_cell_layer_call_fn, lstm_cell_layer_call_and_return_conditional_losses while saving (showing 2 of 2). These functions will not be directly callable after loading.\n"
     ]
    },
    {
     "name": "stdout",
     "output_type": "stream",
     "text": [
      "INFO:tensorflow:Assets written to: C:\\Users\\PARK\\Documents\\LAB\\RNN vs LSTM\\FInal Example\\wandb\\run-20221018_161515-kreh8kmi\\files\\model-best\\assets\n"
     ]
    },
    {
     "name": "stderr",
     "output_type": "stream",
     "text": [
      "INFO:tensorflow:Assets written to: C:\\Users\\PARK\\Documents\\LAB\\RNN vs LSTM\\FInal Example\\wandb\\run-20221018_161515-kreh8kmi\\files\\model-best\\assets\n",
      "\u001b[34m\u001b[1mwandb\u001b[0m: Adding directory to artifact (C:\\Users\\PARK\\Documents\\LAB\\RNN vs LSTM\\FInal Example\\wandb\\run-20221018_161515-kreh8kmi\\files\\model-best)... Done. 0.4s\n"
     ]
    },
    {
     "name": "stdout",
     "output_type": "stream",
     "text": [
      "5/5 [==============================] - 5s 1s/step - loss: 0.0143 - mae: 0.0946 - val_loss: 0.0155 - val_mae: 0.0991\n",
      "Epoch 291/500\n",
      "5/5 [==============================] - ETA: 0s - loss: 0.0135 - mae: 0.0933"
     ]
    },
    {
     "name": "stderr",
     "output_type": "stream",
     "text": [
      "WARNING:absl:Found untraced functions such as lstm_cell_layer_call_fn, lstm_cell_layer_call_and_return_conditional_losses while saving (showing 2 of 2). These functions will not be directly callable after loading.\n"
     ]
    },
    {
     "name": "stdout",
     "output_type": "stream",
     "text": [
      "INFO:tensorflow:Assets written to: C:\\Users\\PARK\\Documents\\LAB\\RNN vs LSTM\\FInal Example\\wandb\\run-20221018_161515-kreh8kmi\\files\\model-best\\assets\n"
     ]
    },
    {
     "name": "stderr",
     "output_type": "stream",
     "text": [
      "INFO:tensorflow:Assets written to: C:\\Users\\PARK\\Documents\\LAB\\RNN vs LSTM\\FInal Example\\wandb\\run-20221018_161515-kreh8kmi\\files\\model-best\\assets\n",
      "\u001b[34m\u001b[1mwandb\u001b[0m: Adding directory to artifact (C:\\Users\\PARK\\Documents\\LAB\\RNN vs LSTM\\FInal Example\\wandb\\run-20221018_161515-kreh8kmi\\files\\model-best)... Done. 0.4s\n"
     ]
    },
    {
     "name": "stdout",
     "output_type": "stream",
     "text": [
      "5/5 [==============================] - 6s 1s/step - loss: 0.0135 - mae: 0.0933 - val_loss: 0.0146 - val_mae: 0.0961\n",
      "Epoch 292/500\n",
      "5/5 [==============================] - 1s 230ms/step - loss: 0.0134 - mae: 0.0923 - val_loss: 0.0156 - val_mae: 0.1007\n",
      "Epoch 293/500\n",
      "5/5 [==============================] - 1s 216ms/step - loss: 0.0125 - mae: 0.0897 - val_loss: 0.0149 - val_mae: 0.0958\n",
      "Epoch 294/500\n",
      "5/5 [==============================] - ETA: 0s - loss: 0.0118 - mae: 0.0863"
     ]
    },
    {
     "name": "stderr",
     "output_type": "stream",
     "text": [
      "WARNING:absl:Found untraced functions such as lstm_cell_layer_call_fn, lstm_cell_layer_call_and_return_conditional_losses while saving (showing 2 of 2). These functions will not be directly callable after loading.\n"
     ]
    },
    {
     "name": "stdout",
     "output_type": "stream",
     "text": [
      "INFO:tensorflow:Assets written to: C:\\Users\\PARK\\Documents\\LAB\\RNN vs LSTM\\FInal Example\\wandb\\run-20221018_161515-kreh8kmi\\files\\model-best\\assets\n"
     ]
    },
    {
     "name": "stderr",
     "output_type": "stream",
     "text": [
      "INFO:tensorflow:Assets written to: C:\\Users\\PARK\\Documents\\LAB\\RNN vs LSTM\\FInal Example\\wandb\\run-20221018_161515-kreh8kmi\\files\\model-best\\assets\n",
      "\u001b[34m\u001b[1mwandb\u001b[0m: Adding directory to artifact (C:\\Users\\PARK\\Documents\\LAB\\RNN vs LSTM\\FInal Example\\wandb\\run-20221018_161515-kreh8kmi\\files\\model-best)... Done. 0.4s\n"
     ]
    },
    {
     "name": "stdout",
     "output_type": "stream",
     "text": [
      "5/5 [==============================] - 6s 1s/step - loss: 0.0118 - mae: 0.0863 - val_loss: 0.0135 - val_mae: 0.0920\n",
      "Epoch 295/500\n",
      "5/5 [==============================] - ETA: 0s - loss: 0.0116 - mae: 0.0862"
     ]
    },
    {
     "name": "stderr",
     "output_type": "stream",
     "text": [
      "WARNING:absl:Found untraced functions such as lstm_cell_layer_call_fn, lstm_cell_layer_call_and_return_conditional_losses while saving (showing 2 of 2). These functions will not be directly callable after loading.\n"
     ]
    },
    {
     "name": "stdout",
     "output_type": "stream",
     "text": [
      "INFO:tensorflow:Assets written to: C:\\Users\\PARK\\Documents\\LAB\\RNN vs LSTM\\FInal Example\\wandb\\run-20221018_161515-kreh8kmi\\files\\model-best\\assets\n"
     ]
    },
    {
     "name": "stderr",
     "output_type": "stream",
     "text": [
      "INFO:tensorflow:Assets written to: C:\\Users\\PARK\\Documents\\LAB\\RNN vs LSTM\\FInal Example\\wandb\\run-20221018_161515-kreh8kmi\\files\\model-best\\assets\n",
      "\u001b[34m\u001b[1mwandb\u001b[0m: Adding directory to artifact (C:\\Users\\PARK\\Documents\\LAB\\RNN vs LSTM\\FInal Example\\wandb\\run-20221018_161515-kreh8kmi\\files\\model-best)... Done. 0.4s\n"
     ]
    },
    {
     "name": "stdout",
     "output_type": "stream",
     "text": [
      "5/5 [==============================] - 6s 1s/step - loss: 0.0116 - mae: 0.0862 - val_loss: 0.0134 - val_mae: 0.0908\n",
      "Epoch 296/500\n",
      "5/5 [==============================] - ETA: 0s - loss: 0.0108 - mae: 0.0825"
     ]
    },
    {
     "name": "stderr",
     "output_type": "stream",
     "text": [
      "WARNING:absl:Found untraced functions such as lstm_cell_layer_call_fn, lstm_cell_layer_call_and_return_conditional_losses while saving (showing 2 of 2). These functions will not be directly callable after loading.\n"
     ]
    },
    {
     "name": "stdout",
     "output_type": "stream",
     "text": [
      "INFO:tensorflow:Assets written to: C:\\Users\\PARK\\Documents\\LAB\\RNN vs LSTM\\FInal Example\\wandb\\run-20221018_161515-kreh8kmi\\files\\model-best\\assets\n"
     ]
    },
    {
     "name": "stderr",
     "output_type": "stream",
     "text": [
      "INFO:tensorflow:Assets written to: C:\\Users\\PARK\\Documents\\LAB\\RNN vs LSTM\\FInal Example\\wandb\\run-20221018_161515-kreh8kmi\\files\\model-best\\assets\n",
      "\u001b[34m\u001b[1mwandb\u001b[0m: Adding directory to artifact (C:\\Users\\PARK\\Documents\\LAB\\RNN vs LSTM\\FInal Example\\wandb\\run-20221018_161515-kreh8kmi\\files\\model-best)... Done. 0.4s\n"
     ]
    },
    {
     "name": "stdout",
     "output_type": "stream",
     "text": [
      "5/5 [==============================] - 6s 1s/step - loss: 0.0108 - mae: 0.0825 - val_loss: 0.0131 - val_mae: 0.0907\n",
      "Epoch 297/500\n",
      "5/5 [==============================] - 1s 222ms/step - loss: 0.0103 - mae: 0.0803 - val_loss: 0.0131 - val_mae: 0.0907\n",
      "Epoch 298/500\n",
      "5/5 [==============================] - ETA: 0s - loss: 0.0103 - mae: 0.0806"
     ]
    },
    {
     "name": "stderr",
     "output_type": "stream",
     "text": [
      "WARNING:absl:Found untraced functions such as lstm_cell_layer_call_fn, lstm_cell_layer_call_and_return_conditional_losses while saving (showing 2 of 2). These functions will not be directly callable after loading.\n"
     ]
    },
    {
     "name": "stdout",
     "output_type": "stream",
     "text": [
      "INFO:tensorflow:Assets written to: C:\\Users\\PARK\\Documents\\LAB\\RNN vs LSTM\\FInal Example\\wandb\\run-20221018_161515-kreh8kmi\\files\\model-best\\assets\n"
     ]
    },
    {
     "name": "stderr",
     "output_type": "stream",
     "text": [
      "INFO:tensorflow:Assets written to: C:\\Users\\PARK\\Documents\\LAB\\RNN vs LSTM\\FInal Example\\wandb\\run-20221018_161515-kreh8kmi\\files\\model-best\\assets\n",
      "\u001b[34m\u001b[1mwandb\u001b[0m: Adding directory to artifact (C:\\Users\\PARK\\Documents\\LAB\\RNN vs LSTM\\FInal Example\\wandb\\run-20221018_161515-kreh8kmi\\files\\model-best)... Done. 0.4s\n"
     ]
    },
    {
     "name": "stdout",
     "output_type": "stream",
     "text": [
      "5/5 [==============================] - 6s 1s/step - loss: 0.0103 - mae: 0.0806 - val_loss: 0.0124 - val_mae: 0.0883\n",
      "Epoch 299/500\n",
      "4/5 [=======================>......] - ETA: 0s - loss: 0.0092 - mae: 0.0765"
     ]
    },
    {
     "name": "stderr",
     "output_type": "stream",
     "text": [
      "WARNING:absl:Found untraced functions such as lstm_cell_layer_call_fn, lstm_cell_layer_call_and_return_conditional_losses while saving (showing 2 of 2). These functions will not be directly callable after loading.\n"
     ]
    },
    {
     "name": "stdout",
     "output_type": "stream",
     "text": [
      "INFO:tensorflow:Assets written to: C:\\Users\\PARK\\Documents\\LAB\\RNN vs LSTM\\FInal Example\\wandb\\run-20221018_161515-kreh8kmi\\files\\model-best\\assets\n"
     ]
    },
    {
     "name": "stderr",
     "output_type": "stream",
     "text": [
      "INFO:tensorflow:Assets written to: C:\\Users\\PARK\\Documents\\LAB\\RNN vs LSTM\\FInal Example\\wandb\\run-20221018_161515-kreh8kmi\\files\\model-best\\assets\n",
      "\u001b[34m\u001b[1mwandb\u001b[0m: Adding directory to artifact (C:\\Users\\PARK\\Documents\\LAB\\RNN vs LSTM\\FInal Example\\wandb\\run-20221018_161515-kreh8kmi\\files\\model-best)... Done. 0.4s\n"
     ]
    },
    {
     "name": "stdout",
     "output_type": "stream",
     "text": [
      "5/5 [==============================] - 6s 1s/step - loss: 0.0096 - mae: 0.0779 - val_loss: 0.0117 - val_mae: 0.0841\n",
      "Epoch 300/500\n",
      "5/5 [==============================] - 1s 229ms/step - loss: 0.0198 - mae: 0.1070 - val_loss: 0.0339 - val_mae: 0.1445\n",
      "Epoch 301/500\n",
      "5/5 [==============================] - 1s 220ms/step - loss: 0.0212 - mae: 0.1147 - val_loss: 0.0194 - val_mae: 0.1125\n",
      "Epoch 302/500\n",
      "5/5 [==============================] - 1s 218ms/step - loss: 0.0152 - mae: 0.0978 - val_loss: 0.0160 - val_mae: 0.0998\n",
      "Epoch 303/500\n",
      "5/5 [==============================] - 1s 219ms/step - loss: 0.0127 - mae: 0.0896 - val_loss: 0.0150 - val_mae: 0.0964\n",
      "Epoch 304/500\n",
      "5/5 [==============================] - 1s 221ms/step - loss: 0.0116 - mae: 0.0865 - val_loss: 0.0142 - val_mae: 0.0941\n",
      "Epoch 305/500\n",
      "5/5 [==============================] - 1s 221ms/step - loss: 0.0110 - mae: 0.0832 - val_loss: 0.0133 - val_mae: 0.0891\n",
      "Epoch 306/500\n",
      "5/5 [==============================] - ETA: 0s - loss: 0.0104 - mae: 0.0820"
     ]
    },
    {
     "name": "stderr",
     "output_type": "stream",
     "text": [
      "WARNING:absl:Found untraced functions such as lstm_cell_layer_call_fn, lstm_cell_layer_call_and_return_conditional_losses while saving (showing 2 of 2). These functions will not be directly callable after loading.\n"
     ]
    },
    {
     "name": "stdout",
     "output_type": "stream",
     "text": [
      "INFO:tensorflow:Assets written to: C:\\Users\\PARK\\Documents\\LAB\\RNN vs LSTM\\FInal Example\\wandb\\run-20221018_161515-kreh8kmi\\files\\model-best\\assets\n"
     ]
    },
    {
     "name": "stderr",
     "output_type": "stream",
     "text": [
      "INFO:tensorflow:Assets written to: C:\\Users\\PARK\\Documents\\LAB\\RNN vs LSTM\\FInal Example\\wandb\\run-20221018_161515-kreh8kmi\\files\\model-best\\assets\n",
      "\u001b[34m\u001b[1mwandb\u001b[0m: Adding directory to artifact (C:\\Users\\PARK\\Documents\\LAB\\RNN vs LSTM\\FInal Example\\wandb\\run-20221018_161515-kreh8kmi\\files\\model-best)... Done. 0.4s\n"
     ]
    },
    {
     "name": "stdout",
     "output_type": "stream",
     "text": [
      "5/5 [==============================] - 6s 1s/step - loss: 0.0104 - mae: 0.0820 - val_loss: 0.0112 - val_mae: 0.0837\n",
      "Epoch 307/500\n",
      "5/5 [==============================] - ETA: 0s - loss: 0.0098 - mae: 0.0784"
     ]
    },
    {
     "name": "stderr",
     "output_type": "stream",
     "text": [
      "WARNING:absl:Found untraced functions such as lstm_cell_layer_call_fn, lstm_cell_layer_call_and_return_conditional_losses while saving (showing 2 of 2). These functions will not be directly callable after loading.\n"
     ]
    },
    {
     "name": "stdout",
     "output_type": "stream",
     "text": [
      "INFO:tensorflow:Assets written to: C:\\Users\\PARK\\Documents\\LAB\\RNN vs LSTM\\FInal Example\\wandb\\run-20221018_161515-kreh8kmi\\files\\model-best\\assets\n"
     ]
    },
    {
     "name": "stderr",
     "output_type": "stream",
     "text": [
      "INFO:tensorflow:Assets written to: C:\\Users\\PARK\\Documents\\LAB\\RNN vs LSTM\\FInal Example\\wandb\\run-20221018_161515-kreh8kmi\\files\\model-best\\assets\n",
      "\u001b[34m\u001b[1mwandb\u001b[0m: Adding directory to artifact (C:\\Users\\PARK\\Documents\\LAB\\RNN vs LSTM\\FInal Example\\wandb\\run-20221018_161515-kreh8kmi\\files\\model-best)... Done. 0.4s\n"
     ]
    },
    {
     "name": "stdout",
     "output_type": "stream",
     "text": [
      "5/5 [==============================] - 6s 1s/step - loss: 0.0098 - mae: 0.0784 - val_loss: 0.0102 - val_mae: 0.0787\n",
      "Epoch 308/500\n",
      "5/5 [==============================] - 1s 248ms/step - loss: 0.0084 - mae: 0.0736 - val_loss: 0.0107 - val_mae: 0.0804\n",
      "Epoch 309/500\n",
      "5/5 [==============================] - 1s 218ms/step - loss: 0.0089 - mae: 0.0751 - val_loss: 0.0102 - val_mae: 0.0791\n",
      "Epoch 310/500\n",
      "5/5 [==============================] - 1s 220ms/step - loss: 0.0092 - mae: 0.0770 - val_loss: 0.0124 - val_mae: 0.0879\n",
      "Epoch 311/500\n",
      "5/5 [==============================] - ETA: 0s - loss: 0.0088 - mae: 0.0751"
     ]
    },
    {
     "name": "stderr",
     "output_type": "stream",
     "text": [
      "WARNING:absl:Found untraced functions such as lstm_cell_layer_call_fn, lstm_cell_layer_call_and_return_conditional_losses while saving (showing 2 of 2). These functions will not be directly callable after loading.\n"
     ]
    },
    {
     "name": "stdout",
     "output_type": "stream",
     "text": [
      "INFO:tensorflow:Assets written to: C:\\Users\\PARK\\Documents\\LAB\\RNN vs LSTM\\FInal Example\\wandb\\run-20221018_161515-kreh8kmi\\files\\model-best\\assets\n"
     ]
    },
    {
     "name": "stderr",
     "output_type": "stream",
     "text": [
      "INFO:tensorflow:Assets written to: C:\\Users\\PARK\\Documents\\LAB\\RNN vs LSTM\\FInal Example\\wandb\\run-20221018_161515-kreh8kmi\\files\\model-best\\assets\n",
      "\u001b[34m\u001b[1mwandb\u001b[0m: Adding directory to artifact (C:\\Users\\PARK\\Documents\\LAB\\RNN vs LSTM\\FInal Example\\wandb\\run-20221018_161515-kreh8kmi\\files\\model-best)... Done. 0.4s\n"
     ]
    },
    {
     "name": "stdout",
     "output_type": "stream",
     "text": [
      "5/5 [==============================] - 5s 1s/step - loss: 0.0088 - mae: 0.0751 - val_loss: 0.0099 - val_mae: 0.0784\n",
      "Epoch 312/500\n",
      "4/5 [=======================>......] - ETA: 0s - loss: 0.0083 - mae: 0.0731"
     ]
    },
    {
     "name": "stderr",
     "output_type": "stream",
     "text": [
      "WARNING:absl:Found untraced functions such as lstm_cell_layer_call_fn, lstm_cell_layer_call_and_return_conditional_losses while saving (showing 2 of 2). These functions will not be directly callable after loading.\n"
     ]
    },
    {
     "name": "stdout",
     "output_type": "stream",
     "text": [
      "INFO:tensorflow:Assets written to: C:\\Users\\PARK\\Documents\\LAB\\RNN vs LSTM\\FInal Example\\wandb\\run-20221018_161515-kreh8kmi\\files\\model-best\\assets\n"
     ]
    },
    {
     "name": "stderr",
     "output_type": "stream",
     "text": [
      "INFO:tensorflow:Assets written to: C:\\Users\\PARK\\Documents\\LAB\\RNN vs LSTM\\FInal Example\\wandb\\run-20221018_161515-kreh8kmi\\files\\model-best\\assets\n",
      "\u001b[34m\u001b[1mwandb\u001b[0m: Adding directory to artifact (C:\\Users\\PARK\\Documents\\LAB\\RNN vs LSTM\\FInal Example\\wandb\\run-20221018_161515-kreh8kmi\\files\\model-best)... Done. 0.4s\n"
     ]
    },
    {
     "name": "stdout",
     "output_type": "stream",
     "text": [
      "5/5 [==============================] - 6s 1s/step - loss: 0.0083 - mae: 0.0730 - val_loss: 0.0098 - val_mae: 0.0773\n",
      "Epoch 313/500\n",
      "4/5 [=======================>......] - ETA: 0s - loss: 0.0077 - mae: 0.0699"
     ]
    },
    {
     "name": "stderr",
     "output_type": "stream",
     "text": [
      "WARNING:absl:Found untraced functions such as lstm_cell_layer_call_fn, lstm_cell_layer_call_and_return_conditional_losses while saving (showing 2 of 2). These functions will not be directly callable after loading.\n"
     ]
    },
    {
     "name": "stdout",
     "output_type": "stream",
     "text": [
      "INFO:tensorflow:Assets written to: C:\\Users\\PARK\\Documents\\LAB\\RNN vs LSTM\\FInal Example\\wandb\\run-20221018_161515-kreh8kmi\\files\\model-best\\assets\n"
     ]
    },
    {
     "name": "stderr",
     "output_type": "stream",
     "text": [
      "INFO:tensorflow:Assets written to: C:\\Users\\PARK\\Documents\\LAB\\RNN vs LSTM\\FInal Example\\wandb\\run-20221018_161515-kreh8kmi\\files\\model-best\\assets\n",
      "\u001b[34m\u001b[1mwandb\u001b[0m: Adding directory to artifact (C:\\Users\\PARK\\Documents\\LAB\\RNN vs LSTM\\FInal Example\\wandb\\run-20221018_161515-kreh8kmi\\files\\model-best)... Done. 0.4s\n"
     ]
    },
    {
     "name": "stdout",
     "output_type": "stream",
     "text": [
      "5/5 [==============================] - 6s 1s/step - loss: 0.0078 - mae: 0.0705 - val_loss: 0.0096 - val_mae: 0.0784\n",
      "Epoch 314/500\n",
      "5/5 [==============================] - 1s 228ms/step - loss: 0.0076 - mae: 0.0697 - val_loss: 0.0101 - val_mae: 0.0777\n",
      "Epoch 315/500\n",
      "5/5 [==============================] - ETA: 0s - loss: 0.0080 - mae: 0.0715"
     ]
    },
    {
     "name": "stderr",
     "output_type": "stream",
     "text": [
      "WARNING:absl:Found untraced functions such as lstm_cell_layer_call_fn, lstm_cell_layer_call_and_return_conditional_losses while saving (showing 2 of 2). These functions will not be directly callable after loading.\n"
     ]
    },
    {
     "name": "stdout",
     "output_type": "stream",
     "text": [
      "INFO:tensorflow:Assets written to: C:\\Users\\PARK\\Documents\\LAB\\RNN vs LSTM\\FInal Example\\wandb\\run-20221018_161515-kreh8kmi\\files\\model-best\\assets\n"
     ]
    },
    {
     "name": "stderr",
     "output_type": "stream",
     "text": [
      "INFO:tensorflow:Assets written to: C:\\Users\\PARK\\Documents\\LAB\\RNN vs LSTM\\FInal Example\\wandb\\run-20221018_161515-kreh8kmi\\files\\model-best\\assets\n",
      "\u001b[34m\u001b[1mwandb\u001b[0m: Adding directory to artifact (C:\\Users\\PARK\\Documents\\LAB\\RNN vs LSTM\\FInal Example\\wandb\\run-20221018_161515-kreh8kmi\\files\\model-best)... Done. 0.4s\n"
     ]
    },
    {
     "name": "stdout",
     "output_type": "stream",
     "text": [
      "5/5 [==============================] - 6s 1s/step - loss: 0.0080 - mae: 0.0715 - val_loss: 0.0089 - val_mae: 0.0749\n",
      "Epoch 316/500\n",
      "5/5 [==============================] - 1s 230ms/step - loss: 0.0070 - mae: 0.0672 - val_loss: 0.0090 - val_mae: 0.0751\n",
      "Epoch 317/500\n",
      "5/5 [==============================] - ETA: 0s - loss: 0.0069 - mae: 0.0664"
     ]
    },
    {
     "name": "stderr",
     "output_type": "stream",
     "text": [
      "WARNING:absl:Found untraced functions such as lstm_cell_layer_call_fn, lstm_cell_layer_call_and_return_conditional_losses while saving (showing 2 of 2). These functions will not be directly callable after loading.\n"
     ]
    },
    {
     "name": "stdout",
     "output_type": "stream",
     "text": [
      "INFO:tensorflow:Assets written to: C:\\Users\\PARK\\Documents\\LAB\\RNN vs LSTM\\FInal Example\\wandb\\run-20221018_161515-kreh8kmi\\files\\model-best\\assets\n"
     ]
    },
    {
     "name": "stderr",
     "output_type": "stream",
     "text": [
      "INFO:tensorflow:Assets written to: C:\\Users\\PARK\\Documents\\LAB\\RNN vs LSTM\\FInal Example\\wandb\\run-20221018_161515-kreh8kmi\\files\\model-best\\assets\n",
      "\u001b[34m\u001b[1mwandb\u001b[0m: Adding directory to artifact (C:\\Users\\PARK\\Documents\\LAB\\RNN vs LSTM\\FInal Example\\wandb\\run-20221018_161515-kreh8kmi\\files\\model-best)... Done. 0.4s\n"
     ]
    },
    {
     "name": "stdout",
     "output_type": "stream",
     "text": [
      "5/5 [==============================] - 5s 1s/step - loss: 0.0069 - mae: 0.0664 - val_loss: 0.0089 - val_mae: 0.0754\n",
      "Epoch 318/500\n",
      "4/5 [=======================>......] - ETA: 0s - loss: 0.0068 - mae: 0.0667"
     ]
    },
    {
     "name": "stderr",
     "output_type": "stream",
     "text": [
      "WARNING:absl:Found untraced functions such as lstm_cell_layer_call_fn, lstm_cell_layer_call_and_return_conditional_losses while saving (showing 2 of 2). These functions will not be directly callable after loading.\n"
     ]
    },
    {
     "name": "stdout",
     "output_type": "stream",
     "text": [
      "INFO:tensorflow:Assets written to: C:\\Users\\PARK\\Documents\\LAB\\RNN vs LSTM\\FInal Example\\wandb\\run-20221018_161515-kreh8kmi\\files\\model-best\\assets\n"
     ]
    },
    {
     "name": "stderr",
     "output_type": "stream",
     "text": [
      "INFO:tensorflow:Assets written to: C:\\Users\\PARK\\Documents\\LAB\\RNN vs LSTM\\FInal Example\\wandb\\run-20221018_161515-kreh8kmi\\files\\model-best\\assets\n",
      "\u001b[34m\u001b[1mwandb\u001b[0m: Adding directory to artifact (C:\\Users\\PARK\\Documents\\LAB\\RNN vs LSTM\\FInal Example\\wandb\\run-20221018_161515-kreh8kmi\\files\\model-best)... Done. 0.4s\n"
     ]
    },
    {
     "name": "stdout",
     "output_type": "stream",
     "text": [
      "5/5 [==============================] - 6s 1s/step - loss: 0.0067 - mae: 0.0665 - val_loss: 0.0084 - val_mae: 0.0735\n",
      "Epoch 319/500\n",
      "5/5 [==============================] - ETA: 0s - loss: 0.0065 - mae: 0.0653"
     ]
    },
    {
     "name": "stderr",
     "output_type": "stream",
     "text": [
      "WARNING:absl:Found untraced functions such as lstm_cell_layer_call_fn, lstm_cell_layer_call_and_return_conditional_losses while saving (showing 2 of 2). These functions will not be directly callable after loading.\n"
     ]
    },
    {
     "name": "stdout",
     "output_type": "stream",
     "text": [
      "INFO:tensorflow:Assets written to: C:\\Users\\PARK\\Documents\\LAB\\RNN vs LSTM\\FInal Example\\wandb\\run-20221018_161515-kreh8kmi\\files\\model-best\\assets\n"
     ]
    },
    {
     "name": "stderr",
     "output_type": "stream",
     "text": [
      "INFO:tensorflow:Assets written to: C:\\Users\\PARK\\Documents\\LAB\\RNN vs LSTM\\FInal Example\\wandb\\run-20221018_161515-kreh8kmi\\files\\model-best\\assets\n",
      "\u001b[34m\u001b[1mwandb\u001b[0m: Adding directory to artifact (C:\\Users\\PARK\\Documents\\LAB\\RNN vs LSTM\\FInal Example\\wandb\\run-20221018_161515-kreh8kmi\\files\\model-best)... Done. 0.4s\n"
     ]
    },
    {
     "name": "stdout",
     "output_type": "stream",
     "text": [
      "5/5 [==============================] - 6s 1s/step - loss: 0.0065 - mae: 0.0653 - val_loss: 0.0084 - val_mae: 0.0728\n",
      "Epoch 320/500\n",
      "5/5 [==============================] - 1s 228ms/step - loss: 0.0066 - mae: 0.0653 - val_loss: 0.0084 - val_mae: 0.0727\n",
      "Epoch 321/500\n",
      "5/5 [==============================] - 1s 229ms/step - loss: 0.0065 - mae: 0.0648 - val_loss: 0.0084 - val_mae: 0.0733\n",
      "Epoch 322/500\n",
      "5/5 [==============================] - 1s 227ms/step - loss: 0.0066 - mae: 0.0651 - val_loss: 0.0098 - val_mae: 0.0779\n",
      "Epoch 323/500\n",
      "5/5 [==============================] - ETA: 0s - loss: 0.0070 - mae: 0.0671"
     ]
    },
    {
     "name": "stderr",
     "output_type": "stream",
     "text": [
      "WARNING:absl:Found untraced functions such as lstm_cell_layer_call_fn, lstm_cell_layer_call_and_return_conditional_losses while saving (showing 2 of 2). These functions will not be directly callable after loading.\n"
     ]
    },
    {
     "name": "stdout",
     "output_type": "stream",
     "text": [
      "INFO:tensorflow:Assets written to: C:\\Users\\PARK\\Documents\\LAB\\RNN vs LSTM\\FInal Example\\wandb\\run-20221018_161515-kreh8kmi\\files\\model-best\\assets\n"
     ]
    },
    {
     "name": "stderr",
     "output_type": "stream",
     "text": [
      "INFO:tensorflow:Assets written to: C:\\Users\\PARK\\Documents\\LAB\\RNN vs LSTM\\FInal Example\\wandb\\run-20221018_161515-kreh8kmi\\files\\model-best\\assets\n",
      "\u001b[34m\u001b[1mwandb\u001b[0m: Adding directory to artifact (C:\\Users\\PARK\\Documents\\LAB\\RNN vs LSTM\\FInal Example\\wandb\\run-20221018_161515-kreh8kmi\\files\\model-best)... Done. 0.4s\n"
     ]
    },
    {
     "name": "stdout",
     "output_type": "stream",
     "text": [
      "5/5 [==============================] - 6s 1s/step - loss: 0.0070 - mae: 0.0671 - val_loss: 0.0080 - val_mae: 0.0714\n",
      "Epoch 324/500\n",
      "5/5 [==============================] - 1s 237ms/step - loss: 0.0065 - mae: 0.0643 - val_loss: 0.0084 - val_mae: 0.0727\n",
      "Epoch 325/500\n",
      "5/5 [==============================] - 1s 235ms/step - loss: 0.0061 - mae: 0.0631 - val_loss: 0.0091 - val_mae: 0.0764\n",
      "Epoch 326/500\n",
      "5/5 [==============================] - 1s 231ms/step - loss: 0.0069 - mae: 0.0667 - val_loss: 0.0099 - val_mae: 0.0792\n",
      "Epoch 327/500\n",
      "5/5 [==============================] - 1s 228ms/step - loss: 0.0074 - mae: 0.0686 - val_loss: 0.0089 - val_mae: 0.0760\n",
      "Epoch 328/500\n",
      "5/5 [==============================] - 1s 227ms/step - loss: 0.0084 - mae: 0.0740 - val_loss: 0.0093 - val_mae: 0.0755\n",
      "Epoch 329/500\n",
      "5/5 [==============================] - 1s 227ms/step - loss: 0.0082 - mae: 0.0723 - val_loss: 0.0089 - val_mae: 0.0740\n",
      "Epoch 330/500\n",
      "5/5 [==============================] - ETA: 0s - loss: 0.0062 - mae: 0.0627"
     ]
    },
    {
     "name": "stderr",
     "output_type": "stream",
     "text": [
      "WARNING:absl:Found untraced functions such as lstm_cell_layer_call_fn, lstm_cell_layer_call_and_return_conditional_losses while saving (showing 2 of 2). These functions will not be directly callable after loading.\n"
     ]
    },
    {
     "name": "stdout",
     "output_type": "stream",
     "text": [
      "INFO:tensorflow:Assets written to: C:\\Users\\PARK\\Documents\\LAB\\RNN vs LSTM\\FInal Example\\wandb\\run-20221018_161515-kreh8kmi\\files\\model-best\\assets\n"
     ]
    },
    {
     "name": "stderr",
     "output_type": "stream",
     "text": [
      "INFO:tensorflow:Assets written to: C:\\Users\\PARK\\Documents\\LAB\\RNN vs LSTM\\FInal Example\\wandb\\run-20221018_161515-kreh8kmi\\files\\model-best\\assets\n",
      "\u001b[34m\u001b[1mwandb\u001b[0m: Adding directory to artifact (C:\\Users\\PARK\\Documents\\LAB\\RNN vs LSTM\\FInal Example\\wandb\\run-20221018_161515-kreh8kmi\\files\\model-best)... Done. 0.4s\n"
     ]
    },
    {
     "name": "stdout",
     "output_type": "stream",
     "text": [
      "5/5 [==============================] - 6s 1s/step - loss: 0.0062 - mae: 0.0627 - val_loss: 0.0079 - val_mae: 0.0700\n",
      "Epoch 331/500\n",
      "4/5 [=======================>......] - ETA: 0s - loss: 0.0057 - mae: 0.0605"
     ]
    },
    {
     "name": "stderr",
     "output_type": "stream",
     "text": [
      "WARNING:absl:Found untraced functions such as lstm_cell_layer_call_fn, lstm_cell_layer_call_and_return_conditional_losses while saving (showing 2 of 2). These functions will not be directly callable after loading.\n"
     ]
    },
    {
     "name": "stdout",
     "output_type": "stream",
     "text": [
      "INFO:tensorflow:Assets written to: C:\\Users\\PARK\\Documents\\LAB\\RNN vs LSTM\\FInal Example\\wandb\\run-20221018_161515-kreh8kmi\\files\\model-best\\assets\n"
     ]
    },
    {
     "name": "stderr",
     "output_type": "stream",
     "text": [
      "INFO:tensorflow:Assets written to: C:\\Users\\PARK\\Documents\\LAB\\RNN vs LSTM\\FInal Example\\wandb\\run-20221018_161515-kreh8kmi\\files\\model-best\\assets\n",
      "\u001b[34m\u001b[1mwandb\u001b[0m: Adding directory to artifact (C:\\Users\\PARK\\Documents\\LAB\\RNN vs LSTM\\FInal Example\\wandb\\run-20221018_161515-kreh8kmi\\files\\model-best)... Done. 0.4s\n"
     ]
    },
    {
     "name": "stdout",
     "output_type": "stream",
     "text": [
      "5/5 [==============================] - 6s 1s/step - loss: 0.0057 - mae: 0.0604 - val_loss: 0.0075 - val_mae: 0.0695\n",
      "Epoch 332/500\n",
      "5/5 [==============================] - 1s 239ms/step - loss: 0.0057 - mae: 0.0604 - val_loss: 0.0078 - val_mae: 0.0698\n",
      "Epoch 333/500\n",
      "5/5 [==============================] - 1s 229ms/step - loss: 0.0057 - mae: 0.0602 - val_loss: 0.0089 - val_mae: 0.0753\n",
      "Epoch 334/500\n",
      "5/5 [==============================] - 1s 227ms/step - loss: 0.0062 - mae: 0.0621 - val_loss: 0.0078 - val_mae: 0.0700\n",
      "Epoch 335/500\n",
      "5/5 [==============================] - 1s 228ms/step - loss: 0.0057 - mae: 0.0601 - val_loss: 0.0081 - val_mae: 0.0718\n",
      "Epoch 336/500\n",
      "5/5 [==============================] - 1s 227ms/step - loss: 0.0062 - mae: 0.0626 - val_loss: 0.0091 - val_mae: 0.0750\n",
      "Epoch 337/500\n",
      "5/5 [==============================] - ETA: 0s - loss: 0.0065 - mae: 0.0645"
     ]
    },
    {
     "name": "stderr",
     "output_type": "stream",
     "text": [
      "WARNING:absl:Found untraced functions such as lstm_cell_layer_call_fn, lstm_cell_layer_call_and_return_conditional_losses while saving (showing 2 of 2). These functions will not be directly callable after loading.\n"
     ]
    },
    {
     "name": "stdout",
     "output_type": "stream",
     "text": [
      "INFO:tensorflow:Assets written to: C:\\Users\\PARK\\Documents\\LAB\\RNN vs LSTM\\FInal Example\\wandb\\run-20221018_161515-kreh8kmi\\files\\model-best\\assets\n"
     ]
    },
    {
     "name": "stderr",
     "output_type": "stream",
     "text": [
      "INFO:tensorflow:Assets written to: C:\\Users\\PARK\\Documents\\LAB\\RNN vs LSTM\\FInal Example\\wandb\\run-20221018_161515-kreh8kmi\\files\\model-best\\assets\n",
      "\u001b[34m\u001b[1mwandb\u001b[0m: Adding directory to artifact (C:\\Users\\PARK\\Documents\\LAB\\RNN vs LSTM\\FInal Example\\wandb\\run-20221018_161515-kreh8kmi\\files\\model-best)... Done. 0.4s\n"
     ]
    },
    {
     "name": "stdout",
     "output_type": "stream",
     "text": [
      "5/5 [==============================] - 5s 1s/step - loss: 0.0065 - mae: 0.0645 - val_loss: 0.0074 - val_mae: 0.0684\n",
      "Epoch 338/500\n",
      "5/5 [==============================] - 1s 228ms/step - loss: 0.0057 - mae: 0.0605 - val_loss: 0.0075 - val_mae: 0.0690\n",
      "Epoch 339/500\n",
      "5/5 [==============================] - 1s 228ms/step - loss: 0.0055 - mae: 0.0589 - val_loss: 0.0075 - val_mae: 0.0686\n",
      "Epoch 340/500\n",
      "5/5 [==============================] - 1s 228ms/step - loss: 0.0053 - mae: 0.0579 - val_loss: 0.0076 - val_mae: 0.0696\n",
      "Epoch 341/500\n",
      "5/5 [==============================] - 1s 228ms/step - loss: 0.0053 - mae: 0.0587 - val_loss: 0.0075 - val_mae: 0.0692\n",
      "Epoch 342/500\n",
      "5/5 [==============================] - 1s 228ms/step - loss: 0.0052 - mae: 0.0574 - val_loss: 0.0075 - val_mae: 0.0678\n",
      "Epoch 343/500\n",
      "5/5 [==============================] - ETA: 0s - loss: 0.0051 - mae: 0.0570"
     ]
    },
    {
     "name": "stderr",
     "output_type": "stream",
     "text": [
      "WARNING:absl:Found untraced functions such as lstm_cell_layer_call_fn, lstm_cell_layer_call_and_return_conditional_losses while saving (showing 2 of 2). These functions will not be directly callable after loading.\n"
     ]
    },
    {
     "name": "stdout",
     "output_type": "stream",
     "text": [
      "INFO:tensorflow:Assets written to: C:\\Users\\PARK\\Documents\\LAB\\RNN vs LSTM\\FInal Example\\wandb\\run-20221018_161515-kreh8kmi\\files\\model-best\\assets\n"
     ]
    },
    {
     "name": "stderr",
     "output_type": "stream",
     "text": [
      "INFO:tensorflow:Assets written to: C:\\Users\\PARK\\Documents\\LAB\\RNN vs LSTM\\FInal Example\\wandb\\run-20221018_161515-kreh8kmi\\files\\model-best\\assets\n",
      "\u001b[34m\u001b[1mwandb\u001b[0m: Adding directory to artifact (C:\\Users\\PARK\\Documents\\LAB\\RNN vs LSTM\\FInal Example\\wandb\\run-20221018_161515-kreh8kmi\\files\\model-best)... Done. 0.4s\n"
     ]
    },
    {
     "name": "stdout",
     "output_type": "stream",
     "text": [
      "5/5 [==============================] - 5s 1s/step - loss: 0.0051 - mae: 0.0570 - val_loss: 0.0072 - val_mae: 0.0671\n",
      "Epoch 344/500\n",
      "5/5 [==============================] - 1s 229ms/step - loss: 0.0053 - mae: 0.0576 - val_loss: 0.0081 - val_mae: 0.0714\n",
      "Epoch 345/500\n",
      "5/5 [==============================] - 1s 226ms/step - loss: 0.0052 - mae: 0.0574 - val_loss: 0.0073 - val_mae: 0.0676\n",
      "Epoch 346/500\n",
      "5/5 [==============================] - 1s 225ms/step - loss: 0.0048 - mae: 0.0555 - val_loss: 0.0083 - val_mae: 0.0721\n",
      "Epoch 347/500\n",
      "5/5 [==============================] - 1s 229ms/step - loss: 0.0057 - mae: 0.0601 - val_loss: 0.0075 - val_mae: 0.0684\n",
      "Epoch 348/500\n",
      "5/5 [==============================] - ETA: 0s - loss: 0.0054 - mae: 0.0582"
     ]
    },
    {
     "name": "stderr",
     "output_type": "stream",
     "text": [
      "WARNING:absl:Found untraced functions such as lstm_cell_layer_call_fn, lstm_cell_layer_call_and_return_conditional_losses while saving (showing 2 of 2). These functions will not be directly callable after loading.\n"
     ]
    },
    {
     "name": "stdout",
     "output_type": "stream",
     "text": [
      "INFO:tensorflow:Assets written to: C:\\Users\\PARK\\Documents\\LAB\\RNN vs LSTM\\FInal Example\\wandb\\run-20221018_161515-kreh8kmi\\files\\model-best\\assets\n"
     ]
    },
    {
     "name": "stderr",
     "output_type": "stream",
     "text": [
      "INFO:tensorflow:Assets written to: C:\\Users\\PARK\\Documents\\LAB\\RNN vs LSTM\\FInal Example\\wandb\\run-20221018_161515-kreh8kmi\\files\\model-best\\assets\n",
      "\u001b[34m\u001b[1mwandb\u001b[0m: Adding directory to artifact (C:\\Users\\PARK\\Documents\\LAB\\RNN vs LSTM\\FInal Example\\wandb\\run-20221018_161515-kreh8kmi\\files\\model-best)... Done. 0.4s\n"
     ]
    },
    {
     "name": "stdout",
     "output_type": "stream",
     "text": [
      "5/5 [==============================] - 5s 1s/step - loss: 0.0054 - mae: 0.0582 - val_loss: 0.0072 - val_mae: 0.0685\n",
      "Epoch 349/500\n",
      "5/5 [==============================] - 1s 228ms/step - loss: 0.0053 - mae: 0.0580 - val_loss: 0.0081 - val_mae: 0.0725\n",
      "Epoch 350/500\n",
      "5/5 [==============================] - 1s 226ms/step - loss: 0.0055 - mae: 0.0583 - val_loss: 0.0097 - val_mae: 0.0778\n",
      "Epoch 351/500\n",
      "5/5 [==============================] - 1s 225ms/step - loss: 0.0068 - mae: 0.0653 - val_loss: 0.0076 - val_mae: 0.0697\n",
      "Epoch 352/500\n",
      "5/5 [==============================] - 1s 232ms/step - loss: 0.0055 - mae: 0.0595 - val_loss: 0.0086 - val_mae: 0.0729\n",
      "Epoch 353/500\n",
      "5/5 [==============================] - ETA: 0s - loss: 0.0049 - mae: 0.0558"
     ]
    },
    {
     "name": "stderr",
     "output_type": "stream",
     "text": [
      "WARNING:absl:Found untraced functions such as lstm_cell_layer_call_fn, lstm_cell_layer_call_and_return_conditional_losses while saving (showing 2 of 2). These functions will not be directly callable after loading.\n"
     ]
    },
    {
     "name": "stdout",
     "output_type": "stream",
     "text": [
      "INFO:tensorflow:Assets written to: C:\\Users\\PARK\\Documents\\LAB\\RNN vs LSTM\\FInal Example\\wandb\\run-20221018_161515-kreh8kmi\\files\\model-best\\assets\n"
     ]
    },
    {
     "name": "stderr",
     "output_type": "stream",
     "text": [
      "INFO:tensorflow:Assets written to: C:\\Users\\PARK\\Documents\\LAB\\RNN vs LSTM\\FInal Example\\wandb\\run-20221018_161515-kreh8kmi\\files\\model-best\\assets\n",
      "\u001b[34m\u001b[1mwandb\u001b[0m: Adding directory to artifact (C:\\Users\\PARK\\Documents\\LAB\\RNN vs LSTM\\FInal Example\\wandb\\run-20221018_161515-kreh8kmi\\files\\model-best)... Done. 0.4s\n"
     ]
    },
    {
     "name": "stdout",
     "output_type": "stream",
     "text": [
      "5/5 [==============================] - 5s 1s/step - loss: 0.0049 - mae: 0.0558 - val_loss: 0.0066 - val_mae: 0.0646\n",
      "Epoch 354/500\n",
      "5/5 [==============================] - ETA: 0s - loss: 0.0047 - mae: 0.0541"
     ]
    },
    {
     "name": "stderr",
     "output_type": "stream",
     "text": [
      "WARNING:absl:Found untraced functions such as lstm_cell_layer_call_fn, lstm_cell_layer_call_and_return_conditional_losses while saving (showing 2 of 2). These functions will not be directly callable after loading.\n"
     ]
    },
    {
     "name": "stdout",
     "output_type": "stream",
     "text": [
      "INFO:tensorflow:Assets written to: C:\\Users\\PARK\\Documents\\LAB\\RNN vs LSTM\\FInal Example\\wandb\\run-20221018_161515-kreh8kmi\\files\\model-best\\assets\n"
     ]
    },
    {
     "name": "stderr",
     "output_type": "stream",
     "text": [
      "INFO:tensorflow:Assets written to: C:\\Users\\PARK\\Documents\\LAB\\RNN vs LSTM\\FInal Example\\wandb\\run-20221018_161515-kreh8kmi\\files\\model-best\\assets\n",
      "\u001b[34m\u001b[1mwandb\u001b[0m: Adding directory to artifact (C:\\Users\\PARK\\Documents\\LAB\\RNN vs LSTM\\FInal Example\\wandb\\run-20221018_161515-kreh8kmi\\files\\model-best)... Done. 0.4s\n"
     ]
    },
    {
     "name": "stdout",
     "output_type": "stream",
     "text": [
      "5/5 [==============================] - 6s 1s/step - loss: 0.0047 - mae: 0.0541 - val_loss: 0.0065 - val_mae: 0.0640\n",
      "Epoch 355/500\n",
      "5/5 [==============================] - 1s 242ms/step - loss: 0.0046 - mae: 0.0533 - val_loss: 0.0069 - val_mae: 0.0667\n",
      "Epoch 356/500\n",
      "5/5 [==============================] - ETA: 0s - loss: 0.0044 - mae: 0.0532"
     ]
    },
    {
     "name": "stderr",
     "output_type": "stream",
     "text": [
      "WARNING:absl:Found untraced functions such as lstm_cell_layer_call_fn, lstm_cell_layer_call_and_return_conditional_losses while saving (showing 2 of 2). These functions will not be directly callable after loading.\n"
     ]
    },
    {
     "name": "stdout",
     "output_type": "stream",
     "text": [
      "INFO:tensorflow:Assets written to: C:\\Users\\PARK\\Documents\\LAB\\RNN vs LSTM\\FInal Example\\wandb\\run-20221018_161515-kreh8kmi\\files\\model-best\\assets\n"
     ]
    },
    {
     "name": "stderr",
     "output_type": "stream",
     "text": [
      "INFO:tensorflow:Assets written to: C:\\Users\\PARK\\Documents\\LAB\\RNN vs LSTM\\FInal Example\\wandb\\run-20221018_161515-kreh8kmi\\files\\model-best\\assets\n",
      "\u001b[34m\u001b[1mwandb\u001b[0m: Adding directory to artifact (C:\\Users\\PARK\\Documents\\LAB\\RNN vs LSTM\\FInal Example\\wandb\\run-20221018_161515-kreh8kmi\\files\\model-best)... Done. 0.4s\n"
     ]
    },
    {
     "name": "stdout",
     "output_type": "stream",
     "text": [
      "5/5 [==============================] - 6s 1s/step - loss: 0.0044 - mae: 0.0532 - val_loss: 0.0061 - val_mae: 0.0621\n",
      "Epoch 357/500\n",
      "5/5 [==============================] - 1s 225ms/step - loss: 0.0041 - mae: 0.0507 - val_loss: 0.0062 - val_mae: 0.0620\n",
      "Epoch 358/500\n",
      "5/5 [==============================] - 1s 225ms/step - loss: 0.0040 - mae: 0.0504 - val_loss: 0.0062 - val_mae: 0.0627\n",
      "Epoch 359/500\n",
      "5/5 [==============================] - ETA: 0s - loss: 0.0039 - mae: 0.0500"
     ]
    },
    {
     "name": "stderr",
     "output_type": "stream",
     "text": [
      "WARNING:absl:Found untraced functions such as lstm_cell_layer_call_fn, lstm_cell_layer_call_and_return_conditional_losses while saving (showing 2 of 2). These functions will not be directly callable after loading.\n"
     ]
    },
    {
     "name": "stdout",
     "output_type": "stream",
     "text": [
      "INFO:tensorflow:Assets written to: C:\\Users\\PARK\\Documents\\LAB\\RNN vs LSTM\\FInal Example\\wandb\\run-20221018_161515-kreh8kmi\\files\\model-best\\assets\n"
     ]
    },
    {
     "name": "stderr",
     "output_type": "stream",
     "text": [
      "INFO:tensorflow:Assets written to: C:\\Users\\PARK\\Documents\\LAB\\RNN vs LSTM\\FInal Example\\wandb\\run-20221018_161515-kreh8kmi\\files\\model-best\\assets\n",
      "\u001b[34m\u001b[1mwandb\u001b[0m: Adding directory to artifact (C:\\Users\\PARK\\Documents\\LAB\\RNN vs LSTM\\FInal Example\\wandb\\run-20221018_161515-kreh8kmi\\files\\model-best)... Done. 0.4s\n"
     ]
    },
    {
     "name": "stdout",
     "output_type": "stream",
     "text": [
      "5/5 [==============================] - 5s 1s/step - loss: 0.0039 - mae: 0.0500 - val_loss: 0.0058 - val_mae: 0.0597\n",
      "Epoch 360/500\n",
      "5/5 [==============================] - 1s 232ms/step - loss: 0.0037 - mae: 0.0483 - val_loss: 0.0063 - val_mae: 0.0629\n",
      "Epoch 361/500\n",
      "5/5 [==============================] - 1s 226ms/step - loss: 0.0037 - mae: 0.0483 - val_loss: 0.0058 - val_mae: 0.0605\n",
      "Epoch 362/500\n",
      "5/5 [==============================] - 1s 227ms/step - loss: 0.0036 - mae: 0.0475 - val_loss: 0.0063 - val_mae: 0.0630\n",
      "Epoch 363/500\n",
      "5/5 [==============================] - ETA: 0s - loss: 0.0038 - mae: 0.0488"
     ]
    },
    {
     "name": "stderr",
     "output_type": "stream",
     "text": [
      "WARNING:absl:Found untraced functions such as lstm_cell_layer_call_fn, lstm_cell_layer_call_and_return_conditional_losses while saving (showing 2 of 2). These functions will not be directly callable after loading.\n"
     ]
    },
    {
     "name": "stdout",
     "output_type": "stream",
     "text": [
      "INFO:tensorflow:Assets written to: C:\\Users\\PARK\\Documents\\LAB\\RNN vs LSTM\\FInal Example\\wandb\\run-20221018_161515-kreh8kmi\\files\\model-best\\assets\n"
     ]
    },
    {
     "name": "stderr",
     "output_type": "stream",
     "text": [
      "INFO:tensorflow:Assets written to: C:\\Users\\PARK\\Documents\\LAB\\RNN vs LSTM\\FInal Example\\wandb\\run-20221018_161515-kreh8kmi\\files\\model-best\\assets\n",
      "\u001b[34m\u001b[1mwandb\u001b[0m: Adding directory to artifact (C:\\Users\\PARK\\Documents\\LAB\\RNN vs LSTM\\FInal Example\\wandb\\run-20221018_161515-kreh8kmi\\files\\model-best)... Done. 0.4s\n"
     ]
    },
    {
     "name": "stdout",
     "output_type": "stream",
     "text": [
      "5/5 [==============================] - 6s 1s/step - loss: 0.0038 - mae: 0.0488 - val_loss: 0.0056 - val_mae: 0.0594\n",
      "Epoch 364/500\n",
      "5/5 [==============================] - ETA: 0s - loss: 0.0034 - mae: 0.0463"
     ]
    },
    {
     "name": "stderr",
     "output_type": "stream",
     "text": [
      "WARNING:absl:Found untraced functions such as lstm_cell_layer_call_fn, lstm_cell_layer_call_and_return_conditional_losses while saving (showing 2 of 2). These functions will not be directly callable after loading.\n"
     ]
    },
    {
     "name": "stdout",
     "output_type": "stream",
     "text": [
      "INFO:tensorflow:Assets written to: C:\\Users\\PARK\\Documents\\LAB\\RNN vs LSTM\\FInal Example\\wandb\\run-20221018_161515-kreh8kmi\\files\\model-best\\assets\n"
     ]
    },
    {
     "name": "stderr",
     "output_type": "stream",
     "text": [
      "INFO:tensorflow:Assets written to: C:\\Users\\PARK\\Documents\\LAB\\RNN vs LSTM\\FInal Example\\wandb\\run-20221018_161515-kreh8kmi\\files\\model-best\\assets\n",
      "\u001b[34m\u001b[1mwandb\u001b[0m: Adding directory to artifact (C:\\Users\\PARK\\Documents\\LAB\\RNN vs LSTM\\FInal Example\\wandb\\run-20221018_161515-kreh8kmi\\files\\model-best)... Done. 0.4s\n"
     ]
    },
    {
     "name": "stdout",
     "output_type": "stream",
     "text": [
      "5/5 [==============================] - 6s 1s/step - loss: 0.0034 - mae: 0.0463 - val_loss: 0.0055 - val_mae: 0.0590\n",
      "Epoch 365/500\n",
      "5/5 [==============================] - ETA: 0s - loss: 0.0034 - mae: 0.0461"
     ]
    },
    {
     "name": "stderr",
     "output_type": "stream",
     "text": [
      "WARNING:absl:Found untraced functions such as lstm_cell_layer_call_fn, lstm_cell_layer_call_and_return_conditional_losses while saving (showing 2 of 2). These functions will not be directly callable after loading.\n"
     ]
    },
    {
     "name": "stdout",
     "output_type": "stream",
     "text": [
      "INFO:tensorflow:Assets written to: C:\\Users\\PARK\\Documents\\LAB\\RNN vs LSTM\\FInal Example\\wandb\\run-20221018_161515-kreh8kmi\\files\\model-best\\assets\n"
     ]
    },
    {
     "name": "stderr",
     "output_type": "stream",
     "text": [
      "INFO:tensorflow:Assets written to: C:\\Users\\PARK\\Documents\\LAB\\RNN vs LSTM\\FInal Example\\wandb\\run-20221018_161515-kreh8kmi\\files\\model-best\\assets\n",
      "\u001b[34m\u001b[1mwandb\u001b[0m: Adding directory to artifact (C:\\Users\\PARK\\Documents\\LAB\\RNN vs LSTM\\FInal Example\\wandb\\run-20221018_161515-kreh8kmi\\files\\model-best)... Done. 0.4s\n"
     ]
    },
    {
     "name": "stdout",
     "output_type": "stream",
     "text": [
      "5/5 [==============================] - 6s 1s/step - loss: 0.0034 - mae: 0.0461 - val_loss: 0.0053 - val_mae: 0.0573\n",
      "Epoch 366/500\n",
      "5/5 [==============================] - 1s 231ms/step - loss: 0.0034 - mae: 0.0457 - val_loss: 0.0054 - val_mae: 0.0581\n",
      "Epoch 367/500\n",
      "5/5 [==============================] - 1s 228ms/step - loss: 0.0034 - mae: 0.0460 - val_loss: 0.0055 - val_mae: 0.0577\n",
      "Epoch 368/500\n",
      "5/5 [==============================] - 1s 228ms/step - loss: 0.0033 - mae: 0.0457 - val_loss: 0.0054 - val_mae: 0.0582\n",
      "Epoch 369/500\n",
      "5/5 [==============================] - 1s 232ms/step - loss: 0.0033 - mae: 0.0452 - val_loss: 0.0056 - val_mae: 0.0592\n",
      "Epoch 370/500\n",
      "5/5 [==============================] - ETA: 0s - loss: 0.0033 - mae: 0.0453"
     ]
    },
    {
     "name": "stderr",
     "output_type": "stream",
     "text": [
      "WARNING:absl:Found untraced functions such as lstm_cell_layer_call_fn, lstm_cell_layer_call_and_return_conditional_losses while saving (showing 2 of 2). These functions will not be directly callable after loading.\n"
     ]
    },
    {
     "name": "stdout",
     "output_type": "stream",
     "text": [
      "INFO:tensorflow:Assets written to: C:\\Users\\PARK\\Documents\\LAB\\RNN vs LSTM\\FInal Example\\wandb\\run-20221018_161515-kreh8kmi\\files\\model-best\\assets\n"
     ]
    },
    {
     "name": "stderr",
     "output_type": "stream",
     "text": [
      "INFO:tensorflow:Assets written to: C:\\Users\\PARK\\Documents\\LAB\\RNN vs LSTM\\FInal Example\\wandb\\run-20221018_161515-kreh8kmi\\files\\model-best\\assets\n",
      "\u001b[34m\u001b[1mwandb\u001b[0m: Adding directory to artifact (C:\\Users\\PARK\\Documents\\LAB\\RNN vs LSTM\\FInal Example\\wandb\\run-20221018_161515-kreh8kmi\\files\\model-best)... Done. 0.4s\n"
     ]
    },
    {
     "name": "stdout",
     "output_type": "stream",
     "text": [
      "5/5 [==============================] - 5s 1s/step - loss: 0.0033 - mae: 0.0453 - val_loss: 0.0052 - val_mae: 0.0564\n",
      "Epoch 371/500\n",
      "5/5 [==============================] - 1s 264ms/step - loss: 0.0031 - mae: 0.0443 - val_loss: 0.0052 - val_mae: 0.0572\n",
      "Epoch 372/500\n",
      "5/5 [==============================] - 1s 235ms/step - loss: 0.0032 - mae: 0.0448 - val_loss: 0.0056 - val_mae: 0.0582\n",
      "Epoch 373/500\n",
      "5/5 [==============================] - ETA: 0s - loss: 0.0035 - mae: 0.0465"
     ]
    },
    {
     "name": "stderr",
     "output_type": "stream",
     "text": [
      "WARNING:absl:Found untraced functions such as lstm_cell_layer_call_fn, lstm_cell_layer_call_and_return_conditional_losses while saving (showing 2 of 2). These functions will not be directly callable after loading.\n"
     ]
    },
    {
     "name": "stdout",
     "output_type": "stream",
     "text": [
      "INFO:tensorflow:Assets written to: C:\\Users\\PARK\\Documents\\LAB\\RNN vs LSTM\\FInal Example\\wandb\\run-20221018_161515-kreh8kmi\\files\\model-best\\assets\n"
     ]
    },
    {
     "name": "stderr",
     "output_type": "stream",
     "text": [
      "INFO:tensorflow:Assets written to: C:\\Users\\PARK\\Documents\\LAB\\RNN vs LSTM\\FInal Example\\wandb\\run-20221018_161515-kreh8kmi\\files\\model-best\\assets\n",
      "\u001b[34m\u001b[1mwandb\u001b[0m: Adding directory to artifact (C:\\Users\\PARK\\Documents\\LAB\\RNN vs LSTM\\FInal Example\\wandb\\run-20221018_161515-kreh8kmi\\files\\model-best)... Done. 0.4s\n"
     ]
    },
    {
     "name": "stdout",
     "output_type": "stream",
     "text": [
      "5/5 [==============================] - 5s 1s/step - loss: 0.0035 - mae: 0.0465 - val_loss: 0.0051 - val_mae: 0.0568\n",
      "Epoch 374/500\n",
      "5/5 [==============================] - ETA: 0s - loss: 0.0034 - mae: 0.0460"
     ]
    },
    {
     "name": "stderr",
     "output_type": "stream",
     "text": [
      "WARNING:absl:Found untraced functions such as lstm_cell_layer_call_fn, lstm_cell_layer_call_and_return_conditional_losses while saving (showing 2 of 2). These functions will not be directly callable after loading.\n"
     ]
    },
    {
     "name": "stdout",
     "output_type": "stream",
     "text": [
      "INFO:tensorflow:Assets written to: C:\\Users\\PARK\\Documents\\LAB\\RNN vs LSTM\\FInal Example\\wandb\\run-20221018_161515-kreh8kmi\\files\\model-best\\assets\n"
     ]
    },
    {
     "name": "stderr",
     "output_type": "stream",
     "text": [
      "INFO:tensorflow:Assets written to: C:\\Users\\PARK\\Documents\\LAB\\RNN vs LSTM\\FInal Example\\wandb\\run-20221018_161515-kreh8kmi\\files\\model-best\\assets\n",
      "\u001b[34m\u001b[1mwandb\u001b[0m: Adding directory to artifact (C:\\Users\\PARK\\Documents\\LAB\\RNN vs LSTM\\FInal Example\\wandb\\run-20221018_161515-kreh8kmi\\files\\model-best)... Done. 0.4s\n"
     ]
    },
    {
     "name": "stdout",
     "output_type": "stream",
     "text": [
      "5/5 [==============================] - 6s 1s/step - loss: 0.0034 - mae: 0.0460 - val_loss: 0.0050 - val_mae: 0.0547\n",
      "Epoch 375/500\n",
      "5/5 [==============================] - ETA: 0s - loss: 0.0031 - mae: 0.0441"
     ]
    },
    {
     "name": "stderr",
     "output_type": "stream",
     "text": [
      "WARNING:absl:Found untraced functions such as lstm_cell_layer_call_fn, lstm_cell_layer_call_and_return_conditional_losses while saving (showing 2 of 2). These functions will not be directly callable after loading.\n"
     ]
    },
    {
     "name": "stdout",
     "output_type": "stream",
     "text": [
      "INFO:tensorflow:Assets written to: C:\\Users\\PARK\\Documents\\LAB\\RNN vs LSTM\\FInal Example\\wandb\\run-20221018_161515-kreh8kmi\\files\\model-best\\assets\n"
     ]
    },
    {
     "name": "stderr",
     "output_type": "stream",
     "text": [
      "INFO:tensorflow:Assets written to: C:\\Users\\PARK\\Documents\\LAB\\RNN vs LSTM\\FInal Example\\wandb\\run-20221018_161515-kreh8kmi\\files\\model-best\\assets\n",
      "\u001b[34m\u001b[1mwandb\u001b[0m: Adding directory to artifact (C:\\Users\\PARK\\Documents\\LAB\\RNN vs LSTM\\FInal Example\\wandb\\run-20221018_161515-kreh8kmi\\files\\model-best)... Done. 0.4s\n"
     ]
    },
    {
     "name": "stdout",
     "output_type": "stream",
     "text": [
      "5/5 [==============================] - 6s 1s/step - loss: 0.0031 - mae: 0.0441 - val_loss: 0.0048 - val_mae: 0.0545\n",
      "Epoch 376/500\n",
      "5/5 [==============================] - 1s 255ms/step - loss: 0.0029 - mae: 0.0425 - val_loss: 0.0050 - val_mae: 0.0557\n",
      "Epoch 377/500\n",
      "5/5 [==============================] - 1s 225ms/step - loss: 0.0029 - mae: 0.0425 - val_loss: 0.0054 - val_mae: 0.0580\n",
      "Epoch 378/500\n",
      "5/5 [==============================] - 1s 227ms/step - loss: 0.0034 - mae: 0.0461 - val_loss: 0.0069 - val_mae: 0.0669\n",
      "Epoch 379/500\n",
      "5/5 [==============================] - 1s 231ms/step - loss: 0.0037 - mae: 0.0483 - val_loss: 0.0059 - val_mae: 0.0610\n",
      "Epoch 380/500\n",
      "5/5 [==============================] - 1s 228ms/step - loss: 0.0034 - mae: 0.0461 - val_loss: 0.0072 - val_mae: 0.0681\n",
      "Epoch 381/500\n",
      "5/5 [==============================] - 1s 228ms/step - loss: 0.0042 - mae: 0.0516 - val_loss: 0.0060 - val_mae: 0.0615\n",
      "Epoch 382/500\n",
      "5/5 [==============================] - 1s 225ms/step - loss: 0.0041 - mae: 0.0511 - val_loss: 0.0096 - val_mae: 0.0820\n",
      "Epoch 383/500\n",
      "5/5 [==============================] - ETA: 0s - loss: 0.0048 - mae: 0.0558"
     ]
    },
    {
     "name": "stderr",
     "output_type": "stream",
     "text": [
      "WARNING:absl:Found untraced functions such as lstm_cell_layer_call_fn, lstm_cell_layer_call_and_return_conditional_losses while saving (showing 2 of 2). These functions will not be directly callable after loading.\n"
     ]
    },
    {
     "name": "stdout",
     "output_type": "stream",
     "text": [
      "INFO:tensorflow:Assets written to: C:\\Users\\PARK\\Documents\\LAB\\RNN vs LSTM\\FInal Example\\wandb\\run-20221018_161515-kreh8kmi\\files\\model-best\\assets\n"
     ]
    },
    {
     "name": "stderr",
     "output_type": "stream",
     "text": [
      "INFO:tensorflow:Assets written to: C:\\Users\\PARK\\Documents\\LAB\\RNN vs LSTM\\FInal Example\\wandb\\run-20221018_161515-kreh8kmi\\files\\model-best\\assets\n",
      "\u001b[34m\u001b[1mwandb\u001b[0m: Adding directory to artifact (C:\\Users\\PARK\\Documents\\LAB\\RNN vs LSTM\\FInal Example\\wandb\\run-20221018_161515-kreh8kmi\\files\\model-best)... Done. 0.4s\n"
     ]
    },
    {
     "name": "stdout",
     "output_type": "stream",
     "text": [
      "5/5 [==============================] - 5s 1s/step - loss: 0.0048 - mae: 0.0558 - val_loss: 0.0048 - val_mae: 0.0540\n",
      "Epoch 384/500\n",
      "5/5 [==============================] - ETA: 0s - loss: 0.0036 - mae: 0.0476"
     ]
    },
    {
     "name": "stderr",
     "output_type": "stream",
     "text": [
      "WARNING:absl:Found untraced functions such as lstm_cell_layer_call_fn, lstm_cell_layer_call_and_return_conditional_losses while saving (showing 2 of 2). These functions will not be directly callable after loading.\n"
     ]
    },
    {
     "name": "stdout",
     "output_type": "stream",
     "text": [
      "INFO:tensorflow:Assets written to: C:\\Users\\PARK\\Documents\\LAB\\RNN vs LSTM\\FInal Example\\wandb\\run-20221018_161515-kreh8kmi\\files\\model-best\\assets\n"
     ]
    },
    {
     "name": "stderr",
     "output_type": "stream",
     "text": [
      "INFO:tensorflow:Assets written to: C:\\Users\\PARK\\Documents\\LAB\\RNN vs LSTM\\FInal Example\\wandb\\run-20221018_161515-kreh8kmi\\files\\model-best\\assets\n",
      "\u001b[34m\u001b[1mwandb\u001b[0m: Adding directory to artifact (C:\\Users\\PARK\\Documents\\LAB\\RNN vs LSTM\\FInal Example\\wandb\\run-20221018_161515-kreh8kmi\\files\\model-best)... Done. 0.4s\n"
     ]
    },
    {
     "name": "stdout",
     "output_type": "stream",
     "text": [
      "5/5 [==============================] - 6s 1s/step - loss: 0.0036 - mae: 0.0476 - val_loss: 0.0045 - val_mae: 0.0528\n",
      "Epoch 385/500\n",
      "5/5 [==============================] - 1s 229ms/step - loss: 0.0035 - mae: 0.0469 - val_loss: 0.0074 - val_mae: 0.0702\n",
      "Epoch 386/500\n",
      "5/5 [==============================] - 1s 227ms/step - loss: 0.0046 - mae: 0.0550 - val_loss: 0.0090 - val_mae: 0.0754\n",
      "Epoch 387/500\n",
      "5/5 [==============================] - 1s 227ms/step - loss: 0.0051 - mae: 0.0572 - val_loss: 0.0051 - val_mae: 0.0549\n",
      "Epoch 388/500\n",
      "5/5 [==============================] - 1s 227ms/step - loss: 0.0044 - mae: 0.0520 - val_loss: 0.0080 - val_mae: 0.0742\n",
      "Epoch 389/500\n",
      "5/5 [==============================] - 1s 225ms/step - loss: 0.0047 - mae: 0.0549 - val_loss: 0.0077 - val_mae: 0.0708\n",
      "Epoch 390/500\n",
      "5/5 [==============================] - 1s 226ms/step - loss: 0.0049 - mae: 0.0567 - val_loss: 0.0072 - val_mae: 0.0678\n",
      "Epoch 391/500\n",
      "5/5 [==============================] - 1s 226ms/step - loss: 0.0071 - mae: 0.0655 - val_loss: 0.0401 - val_mae: 0.1625\n",
      "Epoch 392/500\n",
      "5/5 [==============================] - 1s 224ms/step - loss: 0.0332 - mae: 0.1466 - val_loss: 0.0374 - val_mae: 0.1561\n",
      "Epoch 393/500\n",
      "5/5 [==============================] - 1s 224ms/step - loss: 0.0292 - mae: 0.1350 - val_loss: 0.0368 - val_mae: 0.1594\n",
      "Epoch 394/500\n",
      "5/5 [==============================] - 1s 225ms/step - loss: 0.0270 - mae: 0.1309 - val_loss: 0.0192 - val_mae: 0.1093\n",
      "Epoch 395/500\n",
      "5/5 [==============================] - 1s 225ms/step - loss: 0.0164 - mae: 0.1028 - val_loss: 0.0159 - val_mae: 0.0995\n",
      "Epoch 396/500\n",
      "5/5 [==============================] - 1s 223ms/step - loss: 0.0141 - mae: 0.0941 - val_loss: 0.0145 - val_mae: 0.0956\n",
      "Epoch 397/500\n",
      "5/5 [==============================] - 1s 227ms/step - loss: 0.0129 - mae: 0.0914 - val_loss: 0.0209 - val_mae: 0.1182\n",
      "Epoch 398/500\n",
      "5/5 [==============================] - 1s 223ms/step - loss: 0.0140 - mae: 0.0961 - val_loss: 0.0098 - val_mae: 0.0786\n",
      "Epoch 399/500\n",
      "5/5 [==============================] - 1s 225ms/step - loss: 0.0102 - mae: 0.0811 - val_loss: 0.0089 - val_mae: 0.0750\n",
      "Epoch 400/500\n",
      "5/5 [==============================] - 1s 225ms/step - loss: 0.0076 - mae: 0.0693 - val_loss: 0.0091 - val_mae: 0.0765\n",
      "Epoch 401/500\n",
      "5/5 [==============================] - 1s 227ms/step - loss: 0.0076 - mae: 0.0703 - val_loss: 0.0080 - val_mae: 0.0717\n",
      "Epoch 402/500\n",
      "5/5 [==============================] - 1s 226ms/step - loss: 0.0076 - mae: 0.0694 - val_loss: 0.0086 - val_mae: 0.0746\n",
      "Epoch 403/500\n",
      "5/5 [==============================] - 1s 226ms/step - loss: 0.0062 - mae: 0.0621 - val_loss: 0.0072 - val_mae: 0.0668\n",
      "Epoch 404/500\n",
      "5/5 [==============================] - 1s 227ms/step - loss: 0.0059 - mae: 0.0605 - val_loss: 0.0107 - val_mae: 0.0832\n",
      "Epoch 405/500\n",
      "5/5 [==============================] - 1s 224ms/step - loss: 0.0068 - mae: 0.0659 - val_loss: 0.0078 - val_mae: 0.0707\n",
      "Epoch 406/500\n",
      "5/5 [==============================] - 1s 225ms/step - loss: 0.0057 - mae: 0.0603 - val_loss: 0.0073 - val_mae: 0.0670\n",
      "Epoch 407/500\n",
      "5/5 [==============================] - 1s 229ms/step - loss: 0.0052 - mae: 0.0573 - val_loss: 0.0065 - val_mae: 0.0637\n",
      "Epoch 408/500\n",
      "5/5 [==============================] - 1s 229ms/step - loss: 0.0049 - mae: 0.0557 - val_loss: 0.0065 - val_mae: 0.0632\n",
      "Epoch 409/500\n",
      "5/5 [==============================] - 1s 227ms/step - loss: 0.0045 - mae: 0.0530 - val_loss: 0.0058 - val_mae: 0.0593\n",
      "Epoch 410/500\n",
      "5/5 [==============================] - 1s 223ms/step - loss: 0.0039 - mae: 0.0501 - val_loss: 0.0058 - val_mae: 0.0592\n",
      "Epoch 411/500\n",
      "5/5 [==============================] - 1s 227ms/step - loss: 0.0036 - mae: 0.0476 - val_loss: 0.0058 - val_mae: 0.0591\n",
      "Epoch 412/500\n",
      "5/5 [==============================] - 1s 233ms/step - loss: 0.0037 - mae: 0.0481 - val_loss: 0.0055 - val_mae: 0.0574\n",
      "Epoch 413/500\n",
      "5/5 [==============================] - 1s 232ms/step - loss: 0.0034 - mae: 0.0462 - val_loss: 0.0054 - val_mae: 0.0566\n",
      "Epoch 414/500\n",
      "5/5 [==============================] - 1s 227ms/step - loss: 0.0032 - mae: 0.0442 - val_loss: 0.0052 - val_mae: 0.0553\n",
      "Epoch 415/500\n",
      "5/5 [==============================] - 1s 227ms/step - loss: 0.0031 - mae: 0.0437 - val_loss: 0.0050 - val_mae: 0.0547\n",
      "Epoch 416/500\n",
      "5/5 [==============================] - 1s 228ms/step - loss: 0.0031 - mae: 0.0438 - val_loss: 0.0055 - val_mae: 0.0582\n",
      "Epoch 417/500\n",
      "5/5 [==============================] - 1s 225ms/step - loss: 0.0031 - mae: 0.0442 - val_loss: 0.0049 - val_mae: 0.0538\n",
      "Epoch 418/500\n",
      "5/5 [==============================] - 1s 226ms/step - loss: 0.0029 - mae: 0.0428 - val_loss: 0.0049 - val_mae: 0.0544\n",
      "Epoch 419/500\n",
      "5/5 [==============================] - 1s 225ms/step - loss: 0.0028 - mae: 0.0415 - val_loss: 0.0049 - val_mae: 0.0540\n",
      "Epoch 420/500\n",
      "5/5 [==============================] - 1s 227ms/step - loss: 0.0028 - mae: 0.0414 - val_loss: 0.0048 - val_mae: 0.0535\n",
      "Epoch 421/500\n",
      "5/5 [==============================] - 1s 229ms/step - loss: 0.0027 - mae: 0.0414 - val_loss: 0.0046 - val_mae: 0.0528\n",
      "Epoch 422/500\n",
      "5/5 [==============================] - 1s 230ms/step - loss: 0.0026 - mae: 0.0400 - val_loss: 0.0049 - val_mae: 0.0542\n",
      "Epoch 423/500\n",
      "5/5 [==============================] - 1s 227ms/step - loss: 0.0026 - mae: 0.0398 - val_loss: 0.0046 - val_mae: 0.0527\n",
      "Epoch 424/500\n",
      "5/5 [==============================] - ETA: 0s - loss: 0.0025 - mae: 0.0399"
     ]
    },
    {
     "name": "stderr",
     "output_type": "stream",
     "text": [
      "WARNING:absl:Found untraced functions such as lstm_cell_layer_call_fn, lstm_cell_layer_call_and_return_conditional_losses while saving (showing 2 of 2). These functions will not be directly callable after loading.\n"
     ]
    },
    {
     "name": "stdout",
     "output_type": "stream",
     "text": [
      "INFO:tensorflow:Assets written to: C:\\Users\\PARK\\Documents\\LAB\\RNN vs LSTM\\FInal Example\\wandb\\run-20221018_161515-kreh8kmi\\files\\model-best\\assets\n"
     ]
    },
    {
     "name": "stderr",
     "output_type": "stream",
     "text": [
      "INFO:tensorflow:Assets written to: C:\\Users\\PARK\\Documents\\LAB\\RNN vs LSTM\\FInal Example\\wandb\\run-20221018_161515-kreh8kmi\\files\\model-best\\assets\n",
      "\u001b[34m\u001b[1mwandb\u001b[0m: Adding directory to artifact (C:\\Users\\PARK\\Documents\\LAB\\RNN vs LSTM\\FInal Example\\wandb\\run-20221018_161515-kreh8kmi\\files\\model-best)... Done. 0.4s\n"
     ]
    },
    {
     "name": "stdout",
     "output_type": "stream",
     "text": [
      "5/5 [==============================] - 6s 1s/step - loss: 0.0025 - mae: 0.0399 - val_loss: 0.0044 - val_mae: 0.0517\n",
      "Epoch 425/500\n",
      "5/5 [==============================] - ETA: 0s - loss: 0.0025 - mae: 0.0392"
     ]
    },
    {
     "name": "stderr",
     "output_type": "stream",
     "text": [
      "WARNING:absl:Found untraced functions such as lstm_cell_layer_call_fn, lstm_cell_layer_call_and_return_conditional_losses while saving (showing 2 of 2). These functions will not be directly callable after loading.\n"
     ]
    },
    {
     "name": "stdout",
     "output_type": "stream",
     "text": [
      "INFO:tensorflow:Assets written to: C:\\Users\\PARK\\Documents\\LAB\\RNN vs LSTM\\FInal Example\\wandb\\run-20221018_161515-kreh8kmi\\files\\model-best\\assets\n"
     ]
    },
    {
     "name": "stderr",
     "output_type": "stream",
     "text": [
      "INFO:tensorflow:Assets written to: C:\\Users\\PARK\\Documents\\LAB\\RNN vs LSTM\\FInal Example\\wandb\\run-20221018_161515-kreh8kmi\\files\\model-best\\assets\n",
      "\u001b[34m\u001b[1mwandb\u001b[0m: Adding directory to artifact (C:\\Users\\PARK\\Documents\\LAB\\RNN vs LSTM\\FInal Example\\wandb\\run-20221018_161515-kreh8kmi\\files\\model-best)... Done. 0.4s\n"
     ]
    },
    {
     "name": "stdout",
     "output_type": "stream",
     "text": [
      "5/5 [==============================] - 6s 1s/step - loss: 0.0025 - mae: 0.0392 - val_loss: 0.0044 - val_mae: 0.0511\n",
      "Epoch 426/500\n",
      "5/5 [==============================] - 1s 249ms/step - loss: 0.0027 - mae: 0.0408 - val_loss: 0.0046 - val_mae: 0.0527\n",
      "Epoch 427/500\n",
      "5/5 [==============================] - 1s 225ms/step - loss: 0.0025 - mae: 0.0394 - val_loss: 0.0049 - val_mae: 0.0544\n",
      "Epoch 428/500\n",
      "5/5 [==============================] - 1s 224ms/step - loss: 0.0026 - mae: 0.0407 - val_loss: 0.0044 - val_mae: 0.0511\n",
      "Epoch 429/500\n",
      "5/5 [==============================] - ETA: 0s - loss: 0.0028 - mae: 0.0415"
     ]
    },
    {
     "name": "stderr",
     "output_type": "stream",
     "text": [
      "WARNING:absl:Found untraced functions such as lstm_cell_layer_call_fn, lstm_cell_layer_call_and_return_conditional_losses while saving (showing 2 of 2). These functions will not be directly callable after loading.\n"
     ]
    },
    {
     "name": "stdout",
     "output_type": "stream",
     "text": [
      "INFO:tensorflow:Assets written to: C:\\Users\\PARK\\Documents\\LAB\\RNN vs LSTM\\FInal Example\\wandb\\run-20221018_161515-kreh8kmi\\files\\model-best\\assets\n"
     ]
    },
    {
     "name": "stderr",
     "output_type": "stream",
     "text": [
      "INFO:tensorflow:Assets written to: C:\\Users\\PARK\\Documents\\LAB\\RNN vs LSTM\\FInal Example\\wandb\\run-20221018_161515-kreh8kmi\\files\\model-best\\assets\n",
      "\u001b[34m\u001b[1mwandb\u001b[0m: Adding directory to artifact (C:\\Users\\PARK\\Documents\\LAB\\RNN vs LSTM\\FInal Example\\wandb\\run-20221018_161515-kreh8kmi\\files\\model-best)... Done. 0.4s\n"
     ]
    },
    {
     "name": "stdout",
     "output_type": "stream",
     "text": [
      "5/5 [==============================] - 5s 1s/step - loss: 0.0028 - mae: 0.0415 - val_loss: 0.0044 - val_mae: 0.0514\n",
      "Epoch 430/500\n",
      "4/5 [=======================>......] - ETA: 0s - loss: 0.0024 - mae: 0.0385"
     ]
    },
    {
     "name": "stderr",
     "output_type": "stream",
     "text": [
      "WARNING:absl:Found untraced functions such as lstm_cell_layer_call_fn, lstm_cell_layer_call_and_return_conditional_losses while saving (showing 2 of 2). These functions will not be directly callable after loading.\n"
     ]
    },
    {
     "name": "stdout",
     "output_type": "stream",
     "text": [
      "INFO:tensorflow:Assets written to: C:\\Users\\PARK\\Documents\\LAB\\RNN vs LSTM\\FInal Example\\wandb\\run-20221018_161515-kreh8kmi\\files\\model-best\\assets\n"
     ]
    },
    {
     "name": "stderr",
     "output_type": "stream",
     "text": [
      "INFO:tensorflow:Assets written to: C:\\Users\\PARK\\Documents\\LAB\\RNN vs LSTM\\FInal Example\\wandb\\run-20221018_161515-kreh8kmi\\files\\model-best\\assets\n",
      "\u001b[34m\u001b[1mwandb\u001b[0m: Adding directory to artifact (C:\\Users\\PARK\\Documents\\LAB\\RNN vs LSTM\\FInal Example\\wandb\\run-20221018_161515-kreh8kmi\\files\\model-best)... Done. 0.4s\n"
     ]
    },
    {
     "name": "stdout",
     "output_type": "stream",
     "text": [
      "5/5 [==============================] - 6s 1s/step - loss: 0.0025 - mae: 0.0390 - val_loss: 0.0043 - val_mae: 0.0512\n",
      "Epoch 431/500\n",
      "5/5 [==============================] - 1s 228ms/step - loss: 0.0025 - mae: 0.0392 - val_loss: 0.0045 - val_mae: 0.0524\n",
      "Epoch 432/500\n",
      "5/5 [==============================] - 1s 228ms/step - loss: 0.0026 - mae: 0.0399 - val_loss: 0.0045 - val_mae: 0.0525\n",
      "Epoch 433/500\n",
      "5/5 [==============================] - 1s 224ms/step - loss: 0.0024 - mae: 0.0384 - val_loss: 0.0043 - val_mae: 0.0511\n",
      "Epoch 434/500\n",
      "5/5 [==============================] - 1s 226ms/step - loss: 0.0022 - mae: 0.0364 - val_loss: 0.0047 - val_mae: 0.0537\n",
      "Epoch 435/500\n",
      "5/5 [==============================] - 1s 225ms/step - loss: 0.0023 - mae: 0.0376 - val_loss: 0.0047 - val_mae: 0.0532\n",
      "Epoch 436/500\n",
      "5/5 [==============================] - ETA: 0s - loss: 0.0026 - mae: 0.0400"
     ]
    },
    {
     "name": "stderr",
     "output_type": "stream",
     "text": [
      "WARNING:absl:Found untraced functions such as lstm_cell_layer_call_fn, lstm_cell_layer_call_and_return_conditional_losses while saving (showing 2 of 2). These functions will not be directly callable after loading.\n"
     ]
    },
    {
     "name": "stdout",
     "output_type": "stream",
     "text": [
      "INFO:tensorflow:Assets written to: C:\\Users\\PARK\\Documents\\LAB\\RNN vs LSTM\\FInal Example\\wandb\\run-20221018_161515-kreh8kmi\\files\\model-best\\assets\n"
     ]
    },
    {
     "name": "stderr",
     "output_type": "stream",
     "text": [
      "INFO:tensorflow:Assets written to: C:\\Users\\PARK\\Documents\\LAB\\RNN vs LSTM\\FInal Example\\wandb\\run-20221018_161515-kreh8kmi\\files\\model-best\\assets\n",
      "\u001b[34m\u001b[1mwandb\u001b[0m: Adding directory to artifact (C:\\Users\\PARK\\Documents\\LAB\\RNN vs LSTM\\FInal Example\\wandb\\run-20221018_161515-kreh8kmi\\files\\model-best)... Done. 0.4s\n"
     ]
    },
    {
     "name": "stdout",
     "output_type": "stream",
     "text": [
      "5/5 [==============================] - 6s 1s/step - loss: 0.0026 - mae: 0.0400 - val_loss: 0.0043 - val_mae: 0.0508\n",
      "Epoch 437/500\n",
      "5/5 [==============================] - 1s 258ms/step - loss: 0.0026 - mae: 0.0405 - val_loss: 0.0044 - val_mae: 0.0514\n",
      "Epoch 438/500\n",
      "5/5 [==============================] - 1s 225ms/step - loss: 0.0025 - mae: 0.0393 - val_loss: 0.0048 - val_mae: 0.0542\n",
      "Epoch 439/500\n",
      "5/5 [==============================] - 1s 227ms/step - loss: 0.0026 - mae: 0.0408 - val_loss: 0.0056 - val_mae: 0.0586\n",
      "Epoch 440/500\n",
      "5/5 [==============================] - 1s 230ms/step - loss: 0.0028 - mae: 0.0421 - val_loss: 0.0057 - val_mae: 0.0588\n",
      "Epoch 441/500\n",
      "5/5 [==============================] - 1s 229ms/step - loss: 0.0031 - mae: 0.0436 - val_loss: 0.0064 - val_mae: 0.0650\n",
      "Epoch 442/500\n",
      "5/5 [==============================] - 1s 227ms/step - loss: 0.0034 - mae: 0.0468 - val_loss: 0.0046 - val_mae: 0.0535\n",
      "Epoch 443/500\n",
      "5/5 [==============================] - 1s 224ms/step - loss: 0.0034 - mae: 0.0472 - val_loss: 0.0051 - val_mae: 0.0556\n",
      "Epoch 444/500\n",
      "5/5 [==============================] - 1s 227ms/step - loss: 0.0038 - mae: 0.0490 - val_loss: 0.0064 - val_mae: 0.0634\n",
      "Epoch 445/500\n",
      "5/5 [==============================] - 1s 227ms/step - loss: 0.0033 - mae: 0.0458 - val_loss: 0.0046 - val_mae: 0.0544\n",
      "Epoch 446/500\n",
      "5/5 [==============================] - 1s 226ms/step - loss: 0.0037 - mae: 0.0482 - val_loss: 0.0059 - val_mae: 0.0603\n",
      "Epoch 447/500\n",
      "5/5 [==============================] - 1s 227ms/step - loss: 0.0039 - mae: 0.0500 - val_loss: 0.0044 - val_mae: 0.0527\n",
      "Epoch 448/500\n",
      "5/5 [==============================] - 1s 230ms/step - loss: 0.0039 - mae: 0.0497 - val_loss: 0.0057 - val_mae: 0.0601\n",
      "Epoch 449/500\n",
      "5/5 [==============================] - 1s 226ms/step - loss: 0.0026 - mae: 0.0403 - val_loss: 0.0043 - val_mae: 0.0516\n",
      "Epoch 450/500\n",
      "5/5 [==============================] - 1s 225ms/step - loss: 0.0024 - mae: 0.0391 - val_loss: 0.0044 - val_mae: 0.0516\n",
      "Epoch 451/500\n",
      "5/5 [==============================] - ETA: 0s - loss: 0.0027 - mae: 0.0409"
     ]
    },
    {
     "name": "stderr",
     "output_type": "stream",
     "text": [
      "WARNING:absl:Found untraced functions such as lstm_cell_layer_call_fn, lstm_cell_layer_call_and_return_conditional_losses while saving (showing 2 of 2). These functions will not be directly callable after loading.\n"
     ]
    },
    {
     "name": "stdout",
     "output_type": "stream",
     "text": [
      "INFO:tensorflow:Assets written to: C:\\Users\\PARK\\Documents\\LAB\\RNN vs LSTM\\FInal Example\\wandb\\run-20221018_161515-kreh8kmi\\files\\model-best\\assets\n"
     ]
    },
    {
     "name": "stderr",
     "output_type": "stream",
     "text": [
      "INFO:tensorflow:Assets written to: C:\\Users\\PARK\\Documents\\LAB\\RNN vs LSTM\\FInal Example\\wandb\\run-20221018_161515-kreh8kmi\\files\\model-best\\assets\n",
      "\u001b[34m\u001b[1mwandb\u001b[0m: Adding directory to artifact (C:\\Users\\PARK\\Documents\\LAB\\RNN vs LSTM\\FInal Example\\wandb\\run-20221018_161515-kreh8kmi\\files\\model-best)... Done. 0.4s\n"
     ]
    },
    {
     "name": "stdout",
     "output_type": "stream",
     "text": [
      "5/5 [==============================] - 5s 1s/step - loss: 0.0027 - mae: 0.0409 - val_loss: 0.0041 - val_mae: 0.0505\n",
      "Epoch 452/500\n",
      "5/5 [==============================] - 1s 246ms/step - loss: 0.0022 - mae: 0.0375 - val_loss: 0.0042 - val_mae: 0.0505\n",
      "Epoch 453/500\n",
      "5/5 [==============================] - ETA: 0s - loss: 0.0021 - mae: 0.0359"
     ]
    },
    {
     "name": "stderr",
     "output_type": "stream",
     "text": [
      "WARNING:absl:Found untraced functions such as lstm_cell_layer_call_fn, lstm_cell_layer_call_and_return_conditional_losses while saving (showing 2 of 2). These functions will not be directly callable after loading.\n"
     ]
    },
    {
     "name": "stdout",
     "output_type": "stream",
     "text": [
      "INFO:tensorflow:Assets written to: C:\\Users\\PARK\\Documents\\LAB\\RNN vs LSTM\\FInal Example\\wandb\\run-20221018_161515-kreh8kmi\\files\\model-best\\assets\n"
     ]
    },
    {
     "name": "stderr",
     "output_type": "stream",
     "text": [
      "INFO:tensorflow:Assets written to: C:\\Users\\PARK\\Documents\\LAB\\RNN vs LSTM\\FInal Example\\wandb\\run-20221018_161515-kreh8kmi\\files\\model-best\\assets\n",
      "\u001b[34m\u001b[1mwandb\u001b[0m: Adding directory to artifact (C:\\Users\\PARK\\Documents\\LAB\\RNN vs LSTM\\FInal Example\\wandb\\run-20221018_161515-kreh8kmi\\files\\model-best)... Done. 0.4s\n"
     ]
    },
    {
     "name": "stdout",
     "output_type": "stream",
     "text": [
      "5/5 [==============================] - 6s 1s/step - loss: 0.0021 - mae: 0.0359 - val_loss: 0.0039 - val_mae: 0.0489\n",
      "Epoch 454/500\n",
      "5/5 [==============================] - 1s 254ms/step - loss: 0.0021 - mae: 0.0359 - val_loss: 0.0039 - val_mae: 0.0481\n",
      "Epoch 455/500\n",
      "5/5 [==============================] - 1s 225ms/step - loss: 0.0020 - mae: 0.0353 - val_loss: 0.0040 - val_mae: 0.0492\n",
      "Epoch 456/500\n",
      "5/5 [==============================] - 1s 223ms/step - loss: 0.0020 - mae: 0.0355 - val_loss: 0.0041 - val_mae: 0.0489\n",
      "Epoch 457/500\n",
      "5/5 [==============================] - 1s 224ms/step - loss: 0.0023 - mae: 0.0375 - val_loss: 0.0041 - val_mae: 0.0505\n",
      "Epoch 458/500\n",
      "5/5 [==============================] - 1s 225ms/step - loss: 0.0023 - mae: 0.0374 - val_loss: 0.0043 - val_mae: 0.0508\n",
      "Epoch 459/500\n",
      "5/5 [==============================] - 1s 225ms/step - loss: 0.0025 - mae: 0.0397 - val_loss: 0.0052 - val_mae: 0.0578\n",
      "Epoch 460/500\n",
      "5/5 [==============================] - 1s 224ms/step - loss: 0.0026 - mae: 0.0403 - val_loss: 0.0048 - val_mae: 0.0545\n",
      "Epoch 461/500\n",
      "5/5 [==============================] - 1s 225ms/step - loss: 0.0030 - mae: 0.0438 - val_loss: 0.0045 - val_mae: 0.0518\n",
      "Epoch 462/500\n",
      "5/5 [==============================] - 1s 225ms/step - loss: 0.0036 - mae: 0.0479 - val_loss: 0.0060 - val_mae: 0.0616\n",
      "Epoch 463/500\n",
      "5/5 [==============================] - 1s 227ms/step - loss: 0.0026 - mae: 0.0410 - val_loss: 0.0042 - val_mae: 0.0506\n",
      "Epoch 464/500\n",
      "5/5 [==============================] - 1s 224ms/step - loss: 0.0024 - mae: 0.0382 - val_loss: 0.0041 - val_mae: 0.0492\n",
      "Epoch 465/500\n",
      "5/5 [==============================] - 1s 223ms/step - loss: 0.0021 - mae: 0.0366 - val_loss: 0.0041 - val_mae: 0.0503\n",
      "Epoch 466/500\n",
      "5/5 [==============================] - 1s 223ms/step - loss: 0.0019 - mae: 0.0340 - val_loss: 0.0039 - val_mae: 0.0483\n",
      "Epoch 467/500\n",
      "5/5 [==============================] - 1s 222ms/step - loss: 0.0018 - mae: 0.0340 - val_loss: 0.0040 - val_mae: 0.0491\n",
      "Epoch 468/500\n",
      "5/5 [==============================] - 1s 225ms/step - loss: 0.0019 - mae: 0.0340 - val_loss: 0.0041 - val_mae: 0.0494\n",
      "Epoch 469/500\n",
      "5/5 [==============================] - ETA: 0s - loss: 0.0018 - mae: 0.0335"
     ]
    },
    {
     "name": "stderr",
     "output_type": "stream",
     "text": [
      "WARNING:absl:Found untraced functions such as lstm_cell_layer_call_fn, lstm_cell_layer_call_and_return_conditional_losses while saving (showing 2 of 2). These functions will not be directly callable after loading.\n"
     ]
    },
    {
     "name": "stdout",
     "output_type": "stream",
     "text": [
      "INFO:tensorflow:Assets written to: C:\\Users\\PARK\\Documents\\LAB\\RNN vs LSTM\\FInal Example\\wandb\\run-20221018_161515-kreh8kmi\\files\\model-best\\assets\n"
     ]
    },
    {
     "name": "stderr",
     "output_type": "stream",
     "text": [
      "INFO:tensorflow:Assets written to: C:\\Users\\PARK\\Documents\\LAB\\RNN vs LSTM\\FInal Example\\wandb\\run-20221018_161515-kreh8kmi\\files\\model-best\\assets\n",
      "\u001b[34m\u001b[1mwandb\u001b[0m: Adding directory to artifact (C:\\Users\\PARK\\Documents\\LAB\\RNN vs LSTM\\FInal Example\\wandb\\run-20221018_161515-kreh8kmi\\files\\model-best)... Done. 0.4s\n"
     ]
    },
    {
     "name": "stdout",
     "output_type": "stream",
     "text": [
      "5/5 [==============================] - 6s 1s/step - loss: 0.0018 - mae: 0.0335 - val_loss: 0.0038 - val_mae: 0.0483\n",
      "Epoch 470/500\n",
      "5/5 [==============================] - 1s 230ms/step - loss: 0.0020 - mae: 0.0350 - val_loss: 0.0045 - val_mae: 0.0524\n",
      "Epoch 471/500\n",
      "5/5 [==============================] - ETA: 0s - loss: 0.0023 - mae: 0.0377"
     ]
    }
   ],
   "source": [
    "from tensorflow.keras import datasets, layers, models\n",
    "from tensorflow import keras\n",
    "from tensorflow.keras import layers\n",
    "\n",
    "model = models.Sequential()\n",
    "model.add(layers.LSTM(2048, input_shape=(time_step,2)))\n",
    "model.add(layers.Dense(25))\n",
    "\n",
    "model.summary()\n",
    "\n",
    "model.compile(optimizer='adam', loss='mse', metrics=['mae'])\n",
    "\n",
    "history = model.fit(train_input, train_label, epochs=500, verbose=1, shuffle=True, validation_split=0.20,\n",
    "                   callbacks=[WandbCallback(log_weights=True, log_gradients=True, training_data=(train_input, train_label))])"
   ]
  },
  {
   "cell_type": "code",
   "execution_count": null,
   "id": "f2977e3d",
   "metadata": {},
   "outputs": [],
   "source": [
    "test_input = test_input.reshape(1, test_input.shape[0], test_input.shape[1])\n",
    "\n",
    "y_hat = model.predict(test_input)"
   ]
  },
  {
   "cell_type": "code",
   "execution_count": null,
   "id": "569d2b27",
   "metadata": {},
   "outputs": [],
   "source": [
    "test_input.shape"
   ]
  },
  {
   "cell_type": "code",
   "execution_count": null,
   "id": "6b083de8",
   "metadata": {},
   "outputs": [],
   "source": [
    "test_label = test_label.reshape(1, test_label.shape[0], test_label.shape[1])"
   ]
  },
  {
   "cell_type": "code",
   "execution_count": null,
   "id": "54e7a073",
   "metadata": {},
   "outputs": [],
   "source": [
    "test_label.shape"
   ]
  },
  {
   "cell_type": "code",
   "execution_count": null,
   "id": "b3e0c133",
   "metadata": {},
   "outputs": [],
   "source": [
    "y_hat"
   ]
  },
  {
   "cell_type": "code",
   "execution_count": null,
   "id": "e37311d1",
   "metadata": {},
   "outputs": [],
   "source": [
    "y_hat.shape"
   ]
  },
  {
   "cell_type": "code",
   "execution_count": null,
   "id": "ad0f0285",
   "metadata": {},
   "outputs": [],
   "source": [
    "y_hat = y_hat.reshape(y_hat.shape[1], 1)"
   ]
  },
  {
   "cell_type": "code",
   "execution_count": null,
   "id": "69ea1f6f",
   "metadata": {},
   "outputs": [],
   "source": [
    "y_hat = (y_hat*data_std)+data_mean"
   ]
  },
  {
   "cell_type": "code",
   "execution_count": null,
   "id": "702f2214",
   "metadata": {},
   "outputs": [],
   "source": [
    "#print(scaler.data_max_)"
   ]
  },
  {
   "cell_type": "code",
   "execution_count": null,
   "id": "1ca1a387",
   "metadata": {},
   "outputs": [],
   "source": [
    "#print(scaler.data_min_)"
   ]
  },
  {
   "cell_type": "code",
   "execution_count": null,
   "id": "5e40982b",
   "metadata": {},
   "outputs": [],
   "source": [
    "#y_hat = y_hat * (scaler.data_max_[1]-scaler.data_min_[1]) + scaler.data_min_[1]"
   ]
  },
  {
   "cell_type": "code",
   "execution_count": null,
   "id": "902bb0d7",
   "metadata": {},
   "outputs": [],
   "source": [
    "import matplotlib.pyplot as plt\n",
    "\n",
    "x = range(325)\n",
    "plt.figure(figsize=(14,8))\n",
    "plt.plot(df[300:325]['Sales'], label='original')\n",
    "plt.plot(x[300:325], y_hat, label='prediction')\n",
    "plt.legend()\n",
    "plt.xlabel('Sequence', fontsize=20)\n",
    "plt.ylabel('Sales', fontsize=20)\n",
    "plt.title('LSTM prediction', fontsize=25)"
   ]
  },
  {
   "cell_type": "code",
   "execution_count": null,
   "id": "051887d3",
   "metadata": {
    "scrolled": true
   },
   "outputs": [],
   "source": [
    "model.evaluate(test_input, test_label)"
   ]
  },
  {
   "cell_type": "code",
   "execution_count": null,
   "id": "2819448e",
   "metadata": {},
   "outputs": [],
   "source": []
  }
 ],
 "metadata": {
  "kernelspec": {
   "display_name": "Python 3 (ipykernel)",
   "language": "python",
   "name": "python3"
  },
  "language_info": {
   "codemirror_mode": {
    "name": "ipython",
    "version": 3
   },
   "file_extension": ".py",
   "mimetype": "text/x-python",
   "name": "python",
   "nbconvert_exporter": "python",
   "pygments_lexer": "ipython3",
   "version": "3.9.12"
  }
 },
 "nbformat": 4,
 "nbformat_minor": 5
}
