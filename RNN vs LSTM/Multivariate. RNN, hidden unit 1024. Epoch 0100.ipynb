{
 "cells": [
  {
   "cell_type": "code",
   "execution_count": 1,
   "id": "6222c752",
   "metadata": {},
   "outputs": [
    {
     "name": "stderr",
     "output_type": "stream",
     "text": [
      "\u001b[34m\u001b[1mwandb\u001b[0m: Currently logged in as: \u001b[33mjintae\u001b[0m. Use \u001b[1m`wandb login --relogin`\u001b[0m to force relogin\n"
     ]
    },
    {
     "data": {
      "text/html": [
       "Tracking run with wandb version 0.13.4"
      ],
      "text/plain": [
       "<IPython.core.display.HTML object>"
      ]
     },
     "metadata": {},
     "output_type": "display_data"
    },
    {
     "data": {
      "text/html": [
       "Run data is saved locally in <code>C:\\Users\\PARK\\Documents\\LAB\\RNN vs LSTM\\FInal Example\\wandb\\run-20221015_202811-2o8y3n5r</code>"
      ],
      "text/plain": [
       "<IPython.core.display.HTML object>"
      ]
     },
     "metadata": {},
     "output_type": "display_data"
    },
    {
     "data": {
      "text/html": [
       "Syncing run <strong><a href=\"https://wandb.ai/jintae/RNN%20seq%201024./runs/2o8y3n5r\" target=\"_blank\">epoch 100</a></strong> to <a href=\"https://wandb.ai/jintae/RNN%20seq%201024.\" target=\"_blank\">Weights & Biases</a> (<a href=\"https://wandb.me/run\" target=\"_blank\">docs</a>)<br/>"
      ],
      "text/plain": [
       "<IPython.core.display.HTML object>"
      ]
     },
     "metadata": {},
     "output_type": "display_data"
    },
    {
     "data": {
      "text/html": [
       "<button onClick=\"this.nextSibling.style.display='block';this.style.display='none';\">Display W&B run</button><iframe src=\"https://wandb.ai/jintae/RNN%20seq%201024./runs/2o8y3n5r?jupyter=true\" style=\"border:none;width:100%;height:420px;display:none;\"></iframe>"
      ],
      "text/plain": [
       "<wandb.sdk.wandb_run.Run at 0x27bc9ed16a0>"
      ]
     },
     "execution_count": 1,
     "metadata": {},
     "output_type": "execute_result"
    }
   ],
   "source": [
    "import wandb\n",
    "from wandb.keras import WandbCallback\n",
    "wandb.init(project=\"RNN seq 1024.\", name=\"epoch 100\")"
   ]
  },
  {
   "cell_type": "code",
   "execution_count": 2,
   "id": "650bae84",
   "metadata": {},
   "outputs": [
    {
     "name": "stdout",
     "output_type": "stream",
     "text": [
      "   DATE  Sales\n",
      "0     0   3459\n",
      "1     1   3458\n",
      "2     2   4002\n",
      "3     3   4564\n",
      "4     4   4221\n"
     ]
    }
   ],
   "source": [
    "import pandas as pd\n",
    "\n",
    "df = pd.read_csv('C:/Users/PARK/Desktop/Alcohol_Sales.csv')\n",
    "print(df.head())"
   ]
  },
  {
   "cell_type": "code",
   "execution_count": 3,
   "id": "71e18e17",
   "metadata": {},
   "outputs": [
    {
     "data": {
      "text/plain": [
       "(325, 2)"
      ]
     },
     "execution_count": 3,
     "metadata": {},
     "output_type": "execute_result"
    }
   ],
   "source": [
    "df.shape"
   ]
  },
  {
   "cell_type": "code",
   "execution_count": 4,
   "id": "5f4f8fb7",
   "metadata": {},
   "outputs": [],
   "source": [
    "import numpy as np\n",
    "\n",
    "data = df.to_numpy()"
   ]
  },
  {
   "cell_type": "code",
   "execution_count": 5,
   "id": "c6063052",
   "metadata": {},
   "outputs": [
    {
     "data": {
      "text/plain": [
       "(325, 2)"
      ]
     },
     "execution_count": 5,
     "metadata": {},
     "output_type": "execute_result"
    }
   ],
   "source": [
    "data.shape"
   ]
  },
  {
   "cell_type": "code",
   "execution_count": 6,
   "id": "01930485",
   "metadata": {},
   "outputs": [
    {
     "data": {
      "text/plain": [
       "array([[   0, 3459],\n",
       "       [   1, 3458],\n",
       "       [   2, 4002],\n",
       "       [   3, 4564],\n",
       "       [   4, 4221]], dtype=int64)"
      ]
     },
     "execution_count": 6,
     "metadata": {},
     "output_type": "execute_result"
    }
   ],
   "source": [
    "data[0:5]"
   ]
  },
  {
   "cell_type": "code",
   "execution_count": 7,
   "id": "ad83b404",
   "metadata": {},
   "outputs": [],
   "source": [
    "# from sklearn.preprocessing import MinMaxScaler\n",
    "\n",
    "# scaler = MinMaxScaler()\n",
    "\n",
    "# data = scaler.fit_transform(data)"
   ]
  },
  {
   "cell_type": "code",
   "execution_count": 8,
   "id": "17aef2ea",
   "metadata": {},
   "outputs": [],
   "source": [
    "data_mean = data.mean()\n",
    "data_std = data.std()\n",
    "\n",
    "data = (data - data_mean)/data_std"
   ]
  },
  {
   "cell_type": "code",
   "execution_count": 9,
   "id": "63fe0032",
   "metadata": {},
   "outputs": [
    {
     "data": {
      "text/plain": [
       "array([[-0.9194862 , -0.12914209],\n",
       "       [-0.91925771, -0.12937058],\n",
       "       [-0.91902922, -0.00507246],\n",
       "       [-0.91880073,  0.12333846],\n",
       "       [-0.91857224,  0.04496667]])"
      ]
     },
     "execution_count": 9,
     "metadata": {},
     "output_type": "execute_result"
    }
   ],
   "source": [
    "data[0:5]"
   ]
  },
  {
   "cell_type": "code",
   "execution_count": 10,
   "id": "87ac24ef",
   "metadata": {
    "scrolled": true
   },
   "outputs": [],
   "source": [
    "train_input = []\n",
    "train_label = []\n",
    "\n",
    "data_len = 325\n",
    "time_step = 100\n",
    "out_dim = 25\n",
    "\n",
    "for i in range(176):\n",
    "    _input = data[i:i+time_step]\n",
    "    _label = data[i+time_step:i+time_step+out_dim]\n",
    "    \n",
    "    train_input.append(_input)\n",
    "    train_label.append(_label)\n",
    "    \n",
    "\n",
    "train_input = np.array(train_input)\n",
    "train_label = np.array(train_label)\n",
    "train_label = np.delete(train_label, 0, axis=2)\n",
    "\n",
    "\n",
    "test_input = np.array(data[data_len-out_dim-time_step:data_len-out_dim])\n",
    "test_label =np.array(data[300:325])\n",
    "test_label = np.delete(test_label, 0, axis=1)"
   ]
  },
  {
   "cell_type": "code",
   "execution_count": 11,
   "id": "41975dc7",
   "metadata": {},
   "outputs": [
    {
     "data": {
      "text/plain": [
       "(176, 100, 2)"
      ]
     },
     "execution_count": 11,
     "metadata": {},
     "output_type": "execute_result"
    }
   ],
   "source": [
    "train_input.shape"
   ]
  },
  {
   "cell_type": "code",
   "execution_count": 12,
   "id": "b762c3ba",
   "metadata": {},
   "outputs": [
    {
     "data": {
      "text/plain": [
       "(176, 25, 1)"
      ]
     },
     "execution_count": 12,
     "metadata": {},
     "output_type": "execute_result"
    }
   ],
   "source": [
    "train_label.shape"
   ]
  },
  {
   "cell_type": "code",
   "execution_count": 13,
   "id": "127c63a2",
   "metadata": {},
   "outputs": [
    {
     "data": {
      "text/plain": [
       "(100, 2)"
      ]
     },
     "execution_count": 13,
     "metadata": {},
     "output_type": "execute_result"
    }
   ],
   "source": [
    "test_input.shape"
   ]
  },
  {
   "cell_type": "code",
   "execution_count": 14,
   "id": "6647472d",
   "metadata": {},
   "outputs": [
    {
     "data": {
      "text/plain": [
       "(25, 1)"
      ]
     },
     "execution_count": 14,
     "metadata": {},
     "output_type": "execute_result"
    }
   ],
   "source": [
    "test_label.shape"
   ]
  },
  {
   "cell_type": "code",
   "execution_count": 15,
   "id": "5d83c07f",
   "metadata": {},
   "outputs": [],
   "source": [
    "np.random.seed(10)\n",
    "shuffled_indices = np.random.permutation(np.arange(train_input.shape[0]))\n",
    "train_input = train_input[shuffled_indices, :, :]\n",
    "train_label = train_label[shuffled_indices, :]"
   ]
  },
  {
   "cell_type": "code",
   "execution_count": 16,
   "id": "a183926e",
   "metadata": {
    "scrolled": true
   },
   "outputs": [
    {
     "name": "stdout",
     "output_type": "stream",
     "text": [
      "Model: \"sequential\"\n",
      "_________________________________________________________________\n",
      " Layer (type)                Output Shape              Param #   \n",
      "=================================================================\n",
      " simple_rnn (SimpleRNN)      (None, 1024)              1051648   \n",
      "                                                                 \n",
      " dense (Dense)               (None, 25)                25625     \n",
      "                                                                 \n",
      "=================================================================\n",
      "Total params: 1,077,273\n",
      "Trainable params: 1,077,273\n",
      "Non-trainable params: 0\n",
      "_________________________________________________________________\n"
     ]
    },
    {
     "name": "stderr",
     "output_type": "stream",
     "text": [
      "\u001b[34m\u001b[1mwandb\u001b[0m: \u001b[33mWARNING\u001b[0m The save_model argument by default saves the model in the HDF5 format that cannot save custom objects like subclassed models and custom layers. This behavior will be deprecated in a future release in favor of the SavedModel format. Meanwhile, the HDF5 model is saved as W&B files and the SavedModel as W&B Artifacts.\n"
     ]
    },
    {
     "name": "stdout",
     "output_type": "stream",
     "text": [
      "Epoch 1/100\n",
      "4/5 [=======================>......] - ETA: 0s - loss: 0.8657 - mae: 0.7647INFO:tensorflow:Assets written to: C:\\Users\\PARK\\Documents\\LAB\\RNN vs LSTM\\FInal Example\\wandb\\run-20221015_202811-2o8y3n5r\\files\\model-best\\assets\n"
     ]
    },
    {
     "name": "stderr",
     "output_type": "stream",
     "text": [
      "\u001b[34m\u001b[1mwandb\u001b[0m: Adding directory to artifact (C:\\Users\\PARK\\Documents\\LAB\\RNN vs LSTM\\FInal Example\\wandb\\run-20221015_202811-2o8y3n5r\\files\\model-best)... Done. 0.0s\n"
     ]
    },
    {
     "name": "stdout",
     "output_type": "stream",
     "text": [
      "5/5 [==============================] - 4s 652ms/step - loss: 1.1360 - mae: 0.8628 - val_loss: 5.9229 - val_mae: 2.3162\n",
      "Epoch 2/100\n",
      "4/5 [=======================>......] - ETA: 0s - loss: 5.0288 - mae: 1.9621INFO:tensorflow:Assets written to: C:\\Users\\PARK\\Documents\\LAB\\RNN vs LSTM\\FInal Example\\wandb\\run-20221015_202811-2o8y3n5r\\files\\model-best\\assets\n"
     ]
    },
    {
     "name": "stderr",
     "output_type": "stream",
     "text": [
      "\u001b[34m\u001b[1mwandb\u001b[0m: Adding directory to artifact (C:\\Users\\PARK\\Documents\\LAB\\RNN vs LSTM\\FInal Example\\wandb\\run-20221015_202811-2o8y3n5r\\files\\model-best)... Done. 0.1s\n"
     ]
    },
    {
     "name": "stdout",
     "output_type": "stream",
     "text": [
      "5/5 [==============================] - 2s 537ms/step - loss: 4.7110 - mae: 1.8773 - val_loss: 1.3797 - val_mae: 0.9749\n",
      "Epoch 3/100\n",
      "5/5 [==============================] - 1s 172ms/step - loss: 1.6022 - mae: 1.1044 - val_loss: 2.8650 - val_mae: 1.6126\n",
      "Epoch 4/100\n",
      "5/5 [==============================] - 1s 147ms/step - loss: 1.8708 - mae: 1.1582 - val_loss: 1.6099 - val_mae: 1.1814\n",
      "Epoch 5/100\n",
      "5/5 [==============================] - ETA: 0s - loss: 1.5560 - mae: 1.0736INFO:tensorflow:Assets written to: C:\\Users\\PARK\\Documents\\LAB\\RNN vs LSTM\\FInal Example\\wandb\\run-20221015_202811-2o8y3n5r\\files\\model-best\\assets\n"
     ]
    },
    {
     "name": "stderr",
     "output_type": "stream",
     "text": [
      "\u001b[34m\u001b[1mwandb\u001b[0m: Adding directory to artifact (C:\\Users\\PARK\\Documents\\LAB\\RNN vs LSTM\\FInal Example\\wandb\\run-20221015_202811-2o8y3n5r\\files\\model-best)... Done. 0.0s\n"
     ]
    },
    {
     "name": "stdout",
     "output_type": "stream",
     "text": [
      "5/5 [==============================] - 2s 522ms/step - loss: 1.5560 - mae: 1.0736 - val_loss: 0.2777 - val_mae: 0.4309\n",
      "Epoch 6/100\n",
      "5/5 [==============================] - 1s 168ms/step - loss: 0.9047 - mae: 0.7359 - val_loss: 3.6871 - val_mae: 1.8399\n",
      "Epoch 7/100\n",
      "5/5 [==============================] - 1s 150ms/step - loss: 3.0366 - mae: 1.5321 - val_loss: 0.3723 - val_mae: 0.4983\n",
      "Epoch 8/100\n",
      "5/5 [==============================] - 1s 148ms/step - loss: 1.4788 - mae: 0.9312 - val_loss: 7.3525 - val_mae: 2.6469\n",
      "Epoch 9/100\n",
      "5/5 [==============================] - 1s 150ms/step - loss: 3.3679 - mae: 1.5947 - val_loss: 3.0050 - val_mae: 1.6339\n",
      "Epoch 10/100\n",
      "5/5 [==============================] - 1s 150ms/step - loss: 1.9643 - mae: 1.1788 - val_loss: 1.5453 - val_mae: 1.0862\n",
      "Epoch 11/100\n",
      "5/5 [==============================] - 1s 157ms/step - loss: 1.3424 - mae: 0.8432 - val_loss: 6.5711 - val_mae: 2.5257\n",
      "Epoch 12/100\n",
      "5/5 [==============================] - 1s 158ms/step - loss: 3.9197 - mae: 1.7633 - val_loss: 0.9039 - val_mae: 0.8184\n",
      "Epoch 13/100\n",
      "5/5 [==============================] - 1s 154ms/step - loss: 1.7814 - mae: 1.1838 - val_loss: 0.7644 - val_mae: 0.7243\n",
      "Epoch 14/100\n",
      "5/5 [==============================] - 1s 150ms/step - loss: 1.7622 - mae: 1.1350 - val_loss: 0.3688 - val_mae: 0.4928\n",
      "Epoch 15/100\n",
      "4/5 [=======================>......] - ETA: 0s - loss: 0.5947 - mae: 0.6333INFO:tensorflow:Assets written to: C:\\Users\\PARK\\Documents\\LAB\\RNN vs LSTM\\FInal Example\\wandb\\run-20221015_202811-2o8y3n5r\\files\\model-best\\assets\n"
     ]
    },
    {
     "name": "stderr",
     "output_type": "stream",
     "text": [
      "\u001b[34m\u001b[1mwandb\u001b[0m: Adding directory to artifact (C:\\Users\\PARK\\Documents\\LAB\\RNN vs LSTM\\FInal Example\\wandb\\run-20221015_202811-2o8y3n5r\\files\\model-best)... Done. 0.0s\n"
     ]
    },
    {
     "name": "stdout",
     "output_type": "stream",
     "text": [
      "5/5 [==============================] - 2s 512ms/step - loss: 0.5772 - mae: 0.6216 - val_loss: 0.2111 - val_mae: 0.3787\n",
      "Epoch 16/100\n",
      "5/5 [==============================] - 1s 166ms/step - loss: 0.4232 - mae: 0.5244 - val_loss: 0.4126 - val_mae: 0.5348\n",
      "Epoch 17/100\n",
      "5/5 [==============================] - ETA: 0s - loss: 0.2405 - mae: 0.3940INFO:tensorflow:Assets written to: C:\\Users\\PARK\\Documents\\LAB\\RNN vs LSTM\\FInal Example\\wandb\\run-20221015_202811-2o8y3n5r\\files\\model-best\\assets\n"
     ]
    },
    {
     "name": "stderr",
     "output_type": "stream",
     "text": [
      "\u001b[34m\u001b[1mwandb\u001b[0m: Adding directory to artifact (C:\\Users\\PARK\\Documents\\LAB\\RNN vs LSTM\\FInal Example\\wandb\\run-20221015_202811-2o8y3n5r\\files\\model-best)... Done. 0.1s\n"
     ]
    },
    {
     "name": "stdout",
     "output_type": "stream",
     "text": [
      "5/5 [==============================] - 2s 504ms/step - loss: 0.2405 - mae: 0.3940 - val_loss: 0.1875 - val_mae: 0.3605\n",
      "Epoch 18/100\n",
      "5/5 [==============================] - ETA: 0s - loss: 0.2020 - mae: 0.3614INFO:tensorflow:Assets written to: C:\\Users\\PARK\\Documents\\LAB\\RNN vs LSTM\\FInal Example\\wandb\\run-20221015_202811-2o8y3n5r\\files\\model-best\\assets\n"
     ]
    },
    {
     "name": "stderr",
     "output_type": "stream",
     "text": [
      "\u001b[34m\u001b[1mwandb\u001b[0m: Adding directory to artifact (C:\\Users\\PARK\\Documents\\LAB\\RNN vs LSTM\\FInal Example\\wandb\\run-20221015_202811-2o8y3n5r\\files\\model-best)... Done. 0.0s\n"
     ]
    },
    {
     "name": "stdout",
     "output_type": "stream",
     "text": [
      "5/5 [==============================] - 2s 526ms/step - loss: 0.2020 - mae: 0.3614 - val_loss: 0.1871 - val_mae: 0.3548\n",
      "Epoch 19/100\n",
      "5/5 [==============================] - 1s 187ms/step - loss: 0.1829 - mae: 0.3450 - val_loss: 0.3894 - val_mae: 0.5081\n",
      "Epoch 20/100\n",
      "5/5 [==============================] - 1s 158ms/step - loss: 0.4153 - mae: 0.5161 - val_loss: 0.2336 - val_mae: 0.3906\n",
      "Epoch 21/100\n",
      "5/5 [==============================] - 1s 155ms/step - loss: 0.4924 - mae: 0.5525 - val_loss: 0.2765 - val_mae: 0.4335\n",
      "Epoch 22/100\n",
      "5/5 [==============================] - 1s 157ms/step - loss: 0.4287 - mae: 0.5275 - val_loss: 0.3044 - val_mae: 0.4461\n",
      "Epoch 23/100\n",
      "5/5 [==============================] - 1s 151ms/step - loss: 0.3012 - mae: 0.4411 - val_loss: 0.3191 - val_mae: 0.4557\n",
      "Epoch 24/100\n",
      "5/5 [==============================] - 1s 147ms/step - loss: 0.2984 - mae: 0.4424 - val_loss: 0.2012 - val_mae: 0.3674\n",
      "Epoch 25/100\n",
      "5/5 [==============================] - ETA: 0s - loss: 0.1985 - mae: 0.3669INFO:tensorflow:Assets written to: C:\\Users\\PARK\\Documents\\LAB\\RNN vs LSTM\\FInal Example\\wandb\\run-20221015_202811-2o8y3n5r\\files\\model-best\\assets\n"
     ]
    },
    {
     "name": "stderr",
     "output_type": "stream",
     "text": [
      "\u001b[34m\u001b[1mwandb\u001b[0m: Adding directory to artifact (C:\\Users\\PARK\\Documents\\LAB\\RNN vs LSTM\\FInal Example\\wandb\\run-20221015_202811-2o8y3n5r\\files\\model-best)... Done. 0.1s\n"
     ]
    },
    {
     "name": "stdout",
     "output_type": "stream",
     "text": [
      "5/5 [==============================] - 2s 520ms/step - loss: 0.1985 - mae: 0.3669 - val_loss: 0.1809 - val_mae: 0.3511\n",
      "Epoch 26/100\n",
      "5/5 [==============================] - ETA: 0s - loss: 0.1647 - mae: 0.3319INFO:tensorflow:Assets written to: C:\\Users\\PARK\\Documents\\LAB\\RNN vs LSTM\\FInal Example\\wandb\\run-20221015_202811-2o8y3n5r\\files\\model-best\\assets\n"
     ]
    },
    {
     "name": "stderr",
     "output_type": "stream",
     "text": [
      "\u001b[34m\u001b[1mwandb\u001b[0m: Adding directory to artifact (C:\\Users\\PARK\\Documents\\LAB\\RNN vs LSTM\\FInal Example\\wandb\\run-20221015_202811-2o8y3n5r\\files\\model-best)... Done. 0.0s\n"
     ]
    },
    {
     "name": "stdout",
     "output_type": "stream",
     "text": [
      "5/5 [==============================] - 2s 525ms/step - loss: 0.1647 - mae: 0.3319 - val_loss: 0.1548 - val_mae: 0.3268\n",
      "Epoch 27/100\n",
      "5/5 [==============================] - 1s 183ms/step - loss: 0.1569 - mae: 0.3234 - val_loss: 0.1866 - val_mae: 0.3553\n",
      "Epoch 28/100\n",
      "5/5 [==============================] - 1s 152ms/step - loss: 0.1878 - mae: 0.3578 - val_loss: 0.2341 - val_mae: 0.3996\n",
      "Epoch 29/100\n",
      "4/5 [=======================>......] - ETA: 0s - loss: 0.1914 - mae: 0.3594INFO:tensorflow:Assets written to: C:\\Users\\PARK\\Documents\\LAB\\RNN vs LSTM\\FInal Example\\wandb\\run-20221015_202811-2o8y3n5r\\files\\model-best\\assets\n"
     ]
    },
    {
     "name": "stderr",
     "output_type": "stream",
     "text": [
      "\u001b[34m\u001b[1mwandb\u001b[0m: Adding directory to artifact (C:\\Users\\PARK\\Documents\\LAB\\RNN vs LSTM\\FInal Example\\wandb\\run-20221015_202811-2o8y3n5r\\files\\model-best)... Done. 0.0s\n"
     ]
    },
    {
     "name": "stdout",
     "output_type": "stream",
     "text": [
      "5/5 [==============================] - 2s 528ms/step - loss: 0.1858 - mae: 0.3533 - val_loss: 0.1541 - val_mae: 0.3195\n",
      "Epoch 30/100\n",
      "5/5 [==============================] - ETA: 0s - loss: 0.1478 - mae: 0.3143INFO:tensorflow:Assets written to: C:\\Users\\PARK\\Documents\\LAB\\RNN vs LSTM\\FInal Example\\wandb\\run-20221015_202811-2o8y3n5r\\files\\model-best\\assets\n"
     ]
    },
    {
     "name": "stderr",
     "output_type": "stream",
     "text": [
      "\u001b[34m\u001b[1mwandb\u001b[0m: Adding directory to artifact (C:\\Users\\PARK\\Documents\\LAB\\RNN vs LSTM\\FInal Example\\wandb\\run-20221015_202811-2o8y3n5r\\files\\model-best)... Done. 0.0s\n"
     ]
    },
    {
     "name": "stdout",
     "output_type": "stream",
     "text": [
      "5/5 [==============================] - 2s 523ms/step - loss: 0.1478 - mae: 0.3143 - val_loss: 0.1318 - val_mae: 0.2996\n",
      "Epoch 31/100\n",
      "5/5 [==============================] - ETA: 0s - loss: 0.1477 - mae: 0.3140INFO:tensorflow:Assets written to: C:\\Users\\PARK\\Documents\\LAB\\RNN vs LSTM\\FInal Example\\wandb\\run-20221015_202811-2o8y3n5r\\files\\model-best\\assets\n"
     ]
    },
    {
     "name": "stderr",
     "output_type": "stream",
     "text": [
      "\u001b[34m\u001b[1mwandb\u001b[0m: Adding directory to artifact (C:\\Users\\PARK\\Documents\\LAB\\RNN vs LSTM\\FInal Example\\wandb\\run-20221015_202811-2o8y3n5r\\files\\model-best)... Done. 0.1s\n"
     ]
    },
    {
     "name": "stdout",
     "output_type": "stream",
     "text": [
      "5/5 [==============================] - 2s 541ms/step - loss: 0.1477 - mae: 0.3140 - val_loss: 0.1159 - val_mae: 0.2806\n",
      "Epoch 32/100\n",
      "5/5 [==============================] - 1s 159ms/step - loss: 0.1461 - mae: 0.3121 - val_loss: 0.1198 - val_mae: 0.2757\n",
      "Epoch 33/100\n",
      "5/5 [==============================] - 1s 155ms/step - loss: 0.1489 - mae: 0.3180 - val_loss: 0.1236 - val_mae: 0.2813\n",
      "Epoch 34/100\n",
      "5/5 [==============================] - 1s 154ms/step - loss: 0.1213 - mae: 0.2827 - val_loss: 0.1924 - val_mae: 0.3659\n",
      "Epoch 35/100\n",
      "5/5 [==============================] - 1s 151ms/step - loss: 0.1825 - mae: 0.3534 - val_loss: 0.1615 - val_mae: 0.3263\n",
      "Epoch 36/100\n",
      "5/5 [==============================] - 1s 152ms/step - loss: 0.1528 - mae: 0.3179 - val_loss: 0.1908 - val_mae: 0.3585\n",
      "Epoch 37/100\n",
      "5/5 [==============================] - 1s 151ms/step - loss: 0.1718 - mae: 0.3440 - val_loss: 0.1270 - val_mae: 0.2928\n",
      "Epoch 38/100\n",
      "5/5 [==============================] - 1s 151ms/step - loss: 0.1285 - mae: 0.2942 - val_loss: 0.1360 - val_mae: 0.3000\n",
      "Epoch 39/100\n",
      "4/5 [=======================>......] - ETA: 0s - loss: 0.1279 - mae: 0.2919INFO:tensorflow:Assets written to: C:\\Users\\PARK\\Documents\\LAB\\RNN vs LSTM\\FInal Example\\wandb\\run-20221015_202811-2o8y3n5r\\files\\model-best\\assets\n"
     ]
    },
    {
     "name": "stderr",
     "output_type": "stream",
     "text": [
      "\u001b[34m\u001b[1mwandb\u001b[0m: Adding directory to artifact (C:\\Users\\PARK\\Documents\\LAB\\RNN vs LSTM\\FInal Example\\wandb\\run-20221015_202811-2o8y3n5r\\files\\model-best)... Done. 0.1s\n"
     ]
    },
    {
     "name": "stdout",
     "output_type": "stream",
     "text": [
      "5/5 [==============================] - 2s 528ms/step - loss: 0.1310 - mae: 0.2946 - val_loss: 0.1090 - val_mae: 0.2700\n",
      "Epoch 40/100\n",
      "5/5 [==============================] - ETA: 0s - loss: 0.1188 - mae: 0.2834INFO:tensorflow:Assets written to: C:\\Users\\PARK\\Documents\\LAB\\RNN vs LSTM\\FInal Example\\wandb\\run-20221015_202811-2o8y3n5r\\files\\model-best\\assets\n"
     ]
    },
    {
     "name": "stderr",
     "output_type": "stream",
     "text": [
      "\u001b[34m\u001b[1mwandb\u001b[0m: Adding directory to artifact (C:\\Users\\PARK\\Documents\\LAB\\RNN vs LSTM\\FInal Example\\wandb\\run-20221015_202811-2o8y3n5r\\files\\model-best)... Done. 0.1s\n"
     ]
    },
    {
     "name": "stdout",
     "output_type": "stream",
     "text": [
      "5/5 [==============================] - 2s 528ms/step - loss: 0.1188 - mae: 0.2834 - val_loss: 0.0921 - val_mae: 0.2447\n",
      "Epoch 41/100\n",
      "5/5 [==============================] - ETA: 0s - loss: 0.0900 - mae: 0.2436INFO:tensorflow:Assets written to: C:\\Users\\PARK\\Documents\\LAB\\RNN vs LSTM\\FInal Example\\wandb\\run-20221015_202811-2o8y3n5r\\files\\model-best\\assets\n"
     ]
    },
    {
     "name": "stderr",
     "output_type": "stream",
     "text": [
      "\u001b[34m\u001b[1mwandb\u001b[0m: Adding directory to artifact (C:\\Users\\PARK\\Documents\\LAB\\RNN vs LSTM\\FInal Example\\wandb\\run-20221015_202811-2o8y3n5r\\files\\model-best)... Done. 0.1s\n"
     ]
    },
    {
     "name": "stdout",
     "output_type": "stream",
     "text": [
      "5/5 [==============================] - 2s 570ms/step - loss: 0.0900 - mae: 0.2436 - val_loss: 0.0803 - val_mae: 0.2257\n",
      "Epoch 42/100\n",
      "5/5 [==============================] - ETA: 0s - loss: 0.0830 - mae: 0.2315INFO:tensorflow:Assets written to: C:\\Users\\PARK\\Documents\\LAB\\RNN vs LSTM\\FInal Example\\wandb\\run-20221015_202811-2o8y3n5r\\files\\model-best\\assets\n"
     ]
    },
    {
     "name": "stderr",
     "output_type": "stream",
     "text": [
      "\u001b[34m\u001b[1mwandb\u001b[0m: Adding directory to artifact (C:\\Users\\PARK\\Documents\\LAB\\RNN vs LSTM\\FInal Example\\wandb\\run-20221015_202811-2o8y3n5r\\files\\model-best)... Done. 0.0s\n"
     ]
    },
    {
     "name": "stdout",
     "output_type": "stream",
     "text": [
      "5/5 [==============================] - 2s 540ms/step - loss: 0.0830 - mae: 0.2315 - val_loss: 0.0777 - val_mae: 0.2209\n",
      "Epoch 43/100\n",
      "5/5 [==============================] - ETA: 0s - loss: 0.0777 - mae: 0.2220INFO:tensorflow:Assets written to: C:\\Users\\PARK\\Documents\\LAB\\RNN vs LSTM\\FInal Example\\wandb\\run-20221015_202811-2o8y3n5r\\files\\model-best\\assets\n"
     ]
    },
    {
     "name": "stderr",
     "output_type": "stream",
     "text": [
      "\u001b[34m\u001b[1mwandb\u001b[0m: Adding directory to artifact (C:\\Users\\PARK\\Documents\\LAB\\RNN vs LSTM\\FInal Example\\wandb\\run-20221015_202811-2o8y3n5r\\files\\model-best)... Done. 0.1s\n"
     ]
    },
    {
     "name": "stdout",
     "output_type": "stream",
     "text": [
      "5/5 [==============================] - 2s 544ms/step - loss: 0.0777 - mae: 0.2220 - val_loss: 0.0737 - val_mae: 0.2109\n",
      "Epoch 44/100\n",
      "5/5 [==============================] - ETA: 0s - loss: 0.0868 - mae: 0.2328INFO:tensorflow:Assets written to: C:\\Users\\PARK\\Documents\\LAB\\RNN vs LSTM\\FInal Example\\wandb\\run-20221015_202811-2o8y3n5r\\files\\model-best\\assets\n"
     ]
    },
    {
     "name": "stderr",
     "output_type": "stream",
     "text": [
      "\u001b[34m\u001b[1mwandb\u001b[0m: Adding directory to artifact (C:\\Users\\PARK\\Documents\\LAB\\RNN vs LSTM\\FInal Example\\wandb\\run-20221015_202811-2o8y3n5r\\files\\model-best)... Done. 0.1s\n"
     ]
    },
    {
     "name": "stdout",
     "output_type": "stream",
     "text": [
      "5/5 [==============================] - 2s 536ms/step - loss: 0.0868 - mae: 0.2328 - val_loss: 0.0734 - val_mae: 0.2094\n",
      "Epoch 45/100\n",
      "5/5 [==============================] - 1s 155ms/step - loss: 0.0846 - mae: 0.2313 - val_loss: 0.0784 - val_mae: 0.2179\n",
      "Epoch 46/100\n",
      "5/5 [==============================] - 1s 152ms/step - loss: 0.0768 - mae: 0.2193 - val_loss: 0.0885 - val_mae: 0.2342\n",
      "Epoch 47/100\n",
      "5/5 [==============================] - 1s 151ms/step - loss: 0.0826 - mae: 0.2292 - val_loss: 0.1281 - val_mae: 0.2952\n",
      "Epoch 48/100\n",
      "5/5 [==============================] - 1s 150ms/step - loss: 0.0946 - mae: 0.2467 - val_loss: 0.0785 - val_mae: 0.2227\n",
      "Epoch 49/100\n",
      "5/5 [==============================] - ETA: 0s - loss: 0.0831 - mae: 0.2277INFO:tensorflow:Assets written to: C:\\Users\\PARK\\Documents\\LAB\\RNN vs LSTM\\FInal Example\\wandb\\run-20221015_202811-2o8y3n5r\\files\\model-best\\assets\n"
     ]
    },
    {
     "name": "stderr",
     "output_type": "stream",
     "text": [
      "\u001b[34m\u001b[1mwandb\u001b[0m: Adding directory to artifact (C:\\Users\\PARK\\Documents\\LAB\\RNN vs LSTM\\FInal Example\\wandb\\run-20221015_202811-2o8y3n5r\\files\\model-best)... Done. 0.0s\n"
     ]
    },
    {
     "name": "stdout",
     "output_type": "stream",
     "text": [
      "5/5 [==============================] - 2s 517ms/step - loss: 0.0831 - mae: 0.2277 - val_loss: 0.0731 - val_mae: 0.2121\n",
      "Epoch 50/100\n",
      "5/5 [==============================] - 1s 174ms/step - loss: 0.0885 - mae: 0.2389 - val_loss: 0.1153 - val_mae: 0.2777\n",
      "Epoch 51/100\n",
      "5/5 [==============================] - 1s 154ms/step - loss: 0.1042 - mae: 0.2588 - val_loss: 0.0896 - val_mae: 0.2376\n",
      "Epoch 52/100\n",
      "5/5 [==============================] - 1s 152ms/step - loss: 0.1010 - mae: 0.2560 - val_loss: 0.1039 - val_mae: 0.2622\n",
      "Epoch 53/100\n",
      "5/5 [==============================] - 1s 157ms/step - loss: 0.0840 - mae: 0.2350 - val_loss: 0.0779 - val_mae: 0.2239\n",
      "Epoch 54/100\n",
      "5/5 [==============================] - 1s 155ms/step - loss: 0.0819 - mae: 0.2298 - val_loss: 0.0743 - val_mae: 0.2148\n",
      "Epoch 55/100\n",
      "5/5 [==============================] - 1s 147ms/step - loss: 0.0780 - mae: 0.2217 - val_loss: 0.0855 - val_mae: 0.2307\n",
      "Epoch 56/100\n",
      "5/5 [==============================] - 1s 147ms/step - loss: 0.0880 - mae: 0.2380 - val_loss: 0.0913 - val_mae: 0.2418\n",
      "Epoch 57/100\n",
      "5/5 [==============================] - 1s 150ms/step - loss: 0.0798 - mae: 0.2235 - val_loss: 0.0898 - val_mae: 0.2389\n",
      "Epoch 58/100\n",
      "5/5 [==============================] - 1s 149ms/step - loss: 0.0800 - mae: 0.2240 - val_loss: 0.0777 - val_mae: 0.2166\n",
      "Epoch 59/100\n",
      "5/5 [==============================] - ETA: 0s - loss: 0.0827 - mae: 0.2290INFO:tensorflow:Assets written to: C:\\Users\\PARK\\Documents\\LAB\\RNN vs LSTM\\FInal Example\\wandb\\run-20221015_202811-2o8y3n5r\\files\\model-best\\assets\n"
     ]
    },
    {
     "name": "stderr",
     "output_type": "stream",
     "text": [
      "\u001b[34m\u001b[1mwandb\u001b[0m: Adding directory to artifact (C:\\Users\\PARK\\Documents\\LAB\\RNN vs LSTM\\FInal Example\\wandb\\run-20221015_202811-2o8y3n5r\\files\\model-best)... Done. 0.1s\n"
     ]
    },
    {
     "name": "stdout",
     "output_type": "stream",
     "text": [
      "5/5 [==============================] - 2s 498ms/step - loss: 0.0827 - mae: 0.2290 - val_loss: 0.0728 - val_mae: 0.2111\n",
      "Epoch 60/100\n",
      "5/5 [==============================] - 1s 177ms/step - loss: 0.0892 - mae: 0.2381 - val_loss: 0.0881 - val_mae: 0.2368\n",
      "Epoch 61/100\n",
      "5/5 [==============================] - 1s 150ms/step - loss: 0.0791 - mae: 0.2229 - val_loss: 0.0734 - val_mae: 0.2105\n",
      "Epoch 62/100\n",
      "5/5 [==============================] - 1s 153ms/step - loss: 0.0748 - mae: 0.2167 - val_loss: 0.0751 - val_mae: 0.2130\n",
      "Epoch 63/100\n",
      "5/5 [==============================] - 1s 150ms/step - loss: 0.0771 - mae: 0.2209 - val_loss: 0.0769 - val_mae: 0.2154\n",
      "Epoch 64/100\n",
      "5/5 [==============================] - 1s 151ms/step - loss: 0.0931 - mae: 0.2459 - val_loss: 0.1383 - val_mae: 0.3104\n",
      "Epoch 65/100\n",
      "5/5 [==============================] - 1s 151ms/step - loss: 0.1099 - mae: 0.2667 - val_loss: 0.1122 - val_mae: 0.2722\n",
      "Epoch 66/100\n",
      "5/5 [==============================] - 1s 149ms/step - loss: 0.1077 - mae: 0.2663 - val_loss: 0.0804 - val_mae: 0.2247\n",
      "Epoch 67/100\n",
      "5/5 [==============================] - 1s 149ms/step - loss: 0.0980 - mae: 0.2555 - val_loss: 0.1006 - val_mae: 0.2586\n",
      "Epoch 68/100\n",
      "5/5 [==============================] - 1s 154ms/step - loss: 0.0910 - mae: 0.2447 - val_loss: 0.0788 - val_mae: 0.2245\n",
      "Epoch 69/100\n",
      "5/5 [==============================] - 1s 151ms/step - loss: 0.0792 - mae: 0.2268 - val_loss: 0.0764 - val_mae: 0.2177\n",
      "Epoch 70/100\n",
      "5/5 [==============================] - 1s 147ms/step - loss: 0.0795 - mae: 0.2259 - val_loss: 0.0756 - val_mae: 0.2158\n",
      "Epoch 71/100\n",
      "5/5 [==============================] - 1s 145ms/step - loss: 0.0795 - mae: 0.2233 - val_loss: 0.0795 - val_mae: 0.2217\n",
      "Epoch 72/100\n",
      "5/5 [==============================] - 1s 149ms/step - loss: 0.0780 - mae: 0.2216 - val_loss: 0.0841 - val_mae: 0.2283\n",
      "Epoch 73/100\n",
      "5/5 [==============================] - 1s 151ms/step - loss: 0.0804 - mae: 0.2253 - val_loss: 0.0820 - val_mae: 0.2241\n",
      "Epoch 74/100\n",
      "5/5 [==============================] - 1s 150ms/step - loss: 0.0808 - mae: 0.2256 - val_loss: 0.0787 - val_mae: 0.2203\n",
      "Epoch 75/100\n",
      "5/5 [==============================] - 1s 151ms/step - loss: 0.0738 - mae: 0.2147 - val_loss: 0.0734 - val_mae: 0.2119\n",
      "Epoch 76/100\n",
      "5/5 [==============================] - 1s 151ms/step - loss: 0.0727 - mae: 0.2132 - val_loss: 0.0746 - val_mae: 0.2126\n",
      "Epoch 77/100\n",
      "5/5 [==============================] - 1s 150ms/step - loss: 0.0752 - mae: 0.2148 - val_loss: 0.0736 - val_mae: 0.2099\n",
      "Epoch 78/100\n",
      "5/5 [==============================] - 1s 150ms/step - loss: 0.0761 - mae: 0.2174 - val_loss: 0.0875 - val_mae: 0.2324\n",
      "Epoch 79/100\n",
      "5/5 [==============================] - 1s 151ms/step - loss: 0.0759 - mae: 0.2155 - val_loss: 0.0743 - val_mae: 0.2117\n",
      "Epoch 80/100\n",
      "5/5 [==============================] - 1s 151ms/step - loss: 0.0765 - mae: 0.2172 - val_loss: 0.0819 - val_mae: 0.2241\n",
      "Epoch 81/100\n",
      "5/5 [==============================] - ETA: 0s - loss: 0.0809 - mae: 0.2246INFO:tensorflow:Assets written to: C:\\Users\\PARK\\Documents\\LAB\\RNN vs LSTM\\FInal Example\\wandb\\run-20221015_202811-2o8y3n5r\\files\\model-best\\assets\n"
     ]
    },
    {
     "name": "stderr",
     "output_type": "stream",
     "text": [
      "\u001b[34m\u001b[1mwandb\u001b[0m: Adding directory to artifact (C:\\Users\\PARK\\Documents\\LAB\\RNN vs LSTM\\FInal Example\\wandb\\run-20221015_202811-2o8y3n5r\\files\\model-best)... Done. 0.1s\n"
     ]
    },
    {
     "name": "stdout",
     "output_type": "stream",
     "text": [
      "5/5 [==============================] - 2s 501ms/step - loss: 0.0809 - mae: 0.2246 - val_loss: 0.0716 - val_mae: 0.2078\n",
      "Epoch 82/100\n",
      "5/5 [==============================] - 1s 186ms/step - loss: 0.0717 - mae: 0.2099 - val_loss: 0.0741 - val_mae: 0.2124\n",
      "Epoch 83/100\n",
      "5/5 [==============================] - 1s 158ms/step - loss: 0.0883 - mae: 0.2371 - val_loss: 0.1742 - val_mae: 0.3478\n",
      "Epoch 84/100\n",
      "5/5 [==============================] - 1s 150ms/step - loss: 0.1262 - mae: 0.2851 - val_loss: 0.1016 - val_mae: 0.2565\n",
      "Epoch 85/100\n",
      "5/5 [==============================] - 1s 149ms/step - loss: 0.1141 - mae: 0.2766 - val_loss: 0.0896 - val_mae: 0.2432\n",
      "Epoch 86/100\n",
      "5/5 [==============================] - 1s 151ms/step - loss: 0.1057 - mae: 0.2663 - val_loss: 0.0903 - val_mae: 0.2444\n",
      "Epoch 87/100\n",
      "5/5 [==============================] - 1s 151ms/step - loss: 0.0918 - mae: 0.2458 - val_loss: 0.0816 - val_mae: 0.2317\n",
      "Epoch 88/100\n",
      "5/5 [==============================] - 1s 151ms/step - loss: 0.0835 - mae: 0.2326 - val_loss: 0.0764 - val_mae: 0.2173\n",
      "Epoch 89/100\n",
      "5/5 [==============================] - 1s 150ms/step - loss: 0.0767 - mae: 0.2204 - val_loss: 0.0743 - val_mae: 0.2136\n",
      "Epoch 90/100\n",
      "5/5 [==============================] - 1s 150ms/step - loss: 0.0762 - mae: 0.2179 - val_loss: 0.0809 - val_mae: 0.2231\n",
      "Epoch 91/100\n",
      "5/5 [==============================] - 1s 151ms/step - loss: 0.0802 - mae: 0.2243 - val_loss: 0.0872 - val_mae: 0.2336\n",
      "Epoch 92/100\n",
      "5/5 [==============================] - 1s 150ms/step - loss: 0.0778 - mae: 0.2210 - val_loss: 0.0742 - val_mae: 0.2129\n",
      "Epoch 93/100\n",
      "5/5 [==============================] - 1s 152ms/step - loss: 0.0752 - mae: 0.2148 - val_loss: 0.0732 - val_mae: 0.2109\n",
      "Epoch 94/100\n",
      "5/5 [==============================] - 1s 150ms/step - loss: 0.0787 - mae: 0.2220 - val_loss: 0.0768 - val_mae: 0.2177\n",
      "Epoch 95/100\n",
      "5/5 [==============================] - 1s 152ms/step - loss: 0.0723 - mae: 0.2105 - val_loss: 0.0733 - val_mae: 0.2098\n",
      "Epoch 96/100\n",
      "5/5 [==============================] - 1s 150ms/step - loss: 0.0764 - mae: 0.2161 - val_loss: 0.0752 - val_mae: 0.2141\n",
      "Epoch 97/100\n",
      "5/5 [==============================] - 1s 156ms/step - loss: 0.0799 - mae: 0.2219 - val_loss: 0.0868 - val_mae: 0.2318\n",
      "Epoch 98/100\n",
      "5/5 [==============================] - 1s 158ms/step - loss: 0.0777 - mae: 0.2192 - val_loss: 0.0722 - val_mae: 0.2072\n",
      "Epoch 99/100\n",
      "5/5 [==============================] - ETA: 0s - loss: 0.0786 - mae: 0.2207INFO:tensorflow:Assets written to: C:\\Users\\PARK\\Documents\\LAB\\RNN vs LSTM\\FInal Example\\wandb\\run-20221015_202811-2o8y3n5r\\files\\model-best\\assets\n"
     ]
    },
    {
     "name": "stderr",
     "output_type": "stream",
     "text": [
      "\u001b[34m\u001b[1mwandb\u001b[0m: Adding directory to artifact (C:\\Users\\PARK\\Documents\\LAB\\RNN vs LSTM\\FInal Example\\wandb\\run-20221015_202811-2o8y3n5r\\files\\model-best)... Done. 0.1s\n"
     ]
    },
    {
     "name": "stdout",
     "output_type": "stream",
     "text": [
      "5/5 [==============================] - 2s 524ms/step - loss: 0.0786 - mae: 0.2207 - val_loss: 0.0715 - val_mae: 0.2055\n",
      "Epoch 100/100\n",
      "5/5 [==============================] - 1s 199ms/step - loss: 0.0762 - mae: 0.2167 - val_loss: 0.1043 - val_mae: 0.2605\n"
     ]
    }
   ],
   "source": [
    "from tensorflow.keras import datasets, layers, models\n",
    "from tensorflow import keras\n",
    "from tensorflow.keras import layers\n",
    "\n",
    "model = models.Sequential()\n",
    "model.add(layers.SimpleRNN(1024, input_shape=(time_step,2)))\n",
    "model.add(layers.Dense(25))\n",
    "\n",
    "model.summary()\n",
    "\n",
    "model.compile(optimizer='adam', loss='mse', metrics=['mae'])\n",
    "\n",
    "history = model.fit(train_input, train_label, epochs=100, verbose=1, shuffle=True, validation_split=0.20,\n",
    "                   callbacks=[WandbCallback(log_weights=True, log_gradients=True, training_data=(train_input, train_label))])"
   ]
  },
  {
   "cell_type": "code",
   "execution_count": 17,
   "id": "f2977e3d",
   "metadata": {},
   "outputs": [
    {
     "name": "stdout",
     "output_type": "stream",
     "text": [
      "1/1 [==============================] - 0s 96ms/step\n"
     ]
    }
   ],
   "source": [
    "test_input = test_input.reshape(1, test_input.shape[0], test_input.shape[1])\n",
    "\n",
    "y_hat = model.predict(test_input)"
   ]
  },
  {
   "cell_type": "code",
   "execution_count": 18,
   "id": "569d2b27",
   "metadata": {},
   "outputs": [
    {
     "data": {
      "text/plain": [
       "(1, 100, 2)"
      ]
     },
     "execution_count": 18,
     "metadata": {},
     "output_type": "execute_result"
    }
   ],
   "source": [
    "test_input.shape"
   ]
  },
  {
   "cell_type": "code",
   "execution_count": 19,
   "id": "6b083de8",
   "metadata": {},
   "outputs": [],
   "source": [
    "test_label = test_label.reshape(1, test_label.shape[0], test_label.shape[1])"
   ]
  },
  {
   "cell_type": "code",
   "execution_count": 20,
   "id": "54e7a073",
   "metadata": {},
   "outputs": [
    {
     "data": {
      "text/plain": [
       "(1, 25, 1)"
      ]
     },
     "execution_count": 20,
     "metadata": {},
     "output_type": "execute_result"
    }
   ],
   "source": [
    "test_label.shape"
   ]
  },
  {
   "cell_type": "code",
   "execution_count": 21,
   "id": "b3e0c133",
   "metadata": {},
   "outputs": [
    {
     "data": {
      "text/plain": [
       "array([[1.477371 , 1.5985202, 1.2865431, 1.6060822, 1.5490266, 1.3621948,\n",
       "        1.3209684, 1.6158724, 1.7872568, 1.9201516, 1.3815604, 1.3517988,\n",
       "        1.3557148, 1.2300427, 1.4558803, 1.7703522, 1.4786557, 1.8651628,\n",
       "        1.6602042, 1.9084238, 1.5671488, 1.964677 , 1.3264045, 1.6011597,\n",
       "        1.7797229]], dtype=float32)"
      ]
     },
     "execution_count": 21,
     "metadata": {},
     "output_type": "execute_result"
    }
   ],
   "source": [
    "y_hat"
   ]
  },
  {
   "cell_type": "code",
   "execution_count": 22,
   "id": "e37311d1",
   "metadata": {},
   "outputs": [
    {
     "data": {
      "text/plain": [
       "(1, 25)"
      ]
     },
     "execution_count": 22,
     "metadata": {},
     "output_type": "execute_result"
    }
   ],
   "source": [
    "y_hat.shape"
   ]
  },
  {
   "cell_type": "code",
   "execution_count": 23,
   "id": "ad0f0285",
   "metadata": {},
   "outputs": [],
   "source": [
    "y_hat = y_hat.reshape(y_hat.shape[1], 1)"
   ]
  },
  {
   "cell_type": "code",
   "execution_count": 24,
   "id": "69ea1f6f",
   "metadata": {},
   "outputs": [],
   "source": [
    "y_hat = (y_hat*data_std)+data_mean"
   ]
  },
  {
   "cell_type": "code",
   "execution_count": 25,
   "id": "702f2214",
   "metadata": {},
   "outputs": [],
   "source": [
    "#print(scaler.data_max_)"
   ]
  },
  {
   "cell_type": "code",
   "execution_count": 26,
   "id": "1ca1a387",
   "metadata": {},
   "outputs": [],
   "source": [
    "#print(scaler.data_min_)"
   ]
  },
  {
   "cell_type": "code",
   "execution_count": 27,
   "id": "5e40982b",
   "metadata": {},
   "outputs": [],
   "source": [
    "#y_hat = y_hat * (scaler.data_max_[1]-scaler.data_min_[1]) + scaler.data_min_[1]"
   ]
  },
  {
   "cell_type": "code",
   "execution_count": 28,
   "id": "902bb0d7",
   "metadata": {},
   "outputs": [
    {
     "data": {
      "text/plain": [
       "Text(0.5, 1.0, 'RNN prediction')"
      ]
     },
     "execution_count": 28,
     "metadata": {},
     "output_type": "execute_result"
    },
    {
     "data": {
      "image/png": "[encoded data removed]",
      "text/plain": [
       "<Figure size 1008x576 with 1 Axes>"
      ]
     },
     "metadata": {
      "needs_background": "light"
     },
     "output_type": "display_data"
    }
   ],
   "source": [
    "import matplotlib.pyplot as plt\n",
    "\n",
    "x = range(325)\n",
    "plt.figure(figsize=(14,8))\n",
    "plt.plot(df[300:325]['Sales'], label='original')\n",
    "plt.plot(x[300:325], y_hat, label='prediction')\n",
    "plt.legend()\n",
    "plt.xlabel('Sequence', fontsize=20)\n",
    "plt.ylabel('Sales', fontsize=20)\n",
    "plt.title('RNN prediction', fontsize=25)"
   ]
  },
  {
   "cell_type": "code",
   "execution_count": 29,
   "id": "051887d3",
   "metadata": {
    "scrolled": true
   },
   "outputs": [
    {
     "name": "stdout",
     "output_type": "stream",
     "text": [
      "1/1 [==============================] - 0s 28ms/step - loss: 0.3181 - mae: 0.4603\n"
     ]
    },
    {
     "data": {
      "text/plain": [
       "[0.318068265914917, 0.4602605104446411]"
      ]
     },
     "execution_count": 29,
     "metadata": {},
     "output_type": "execute_result"
    }
   ],
   "source": [
    "model.evaluate(test_input, test_label)"
   ]
  },
  {
   "cell_type": "code",
   "execution_count": null,
   "id": "2819448e",
   "metadata": {},
   "outputs": [],
   "source": []
  }
 ],
 "metadata": {
  "kernelspec": {
   "display_name": "Python 3 (ipykernel)",
   "language": "python",
   "name": "python3"
  },
  "language_info": {
   "codemirror_mode": {
    "name": "ipython",
    "version": 3
   },
   "file_extension": ".py",
   "mimetype": "text/x-python",
   "name": "python",
   "nbconvert_exporter": "python",
   "pygments_lexer": "ipython3",
   "version": "3.9.12"
  }
 },
 "nbformat": 4,
 "nbformat_minor": 5
}
