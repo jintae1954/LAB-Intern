{
 "cells": [
  {
   "cell_type": "code",
   "execution_count": 1,
   "id": "aea75d66",
   "metadata": {},
   "outputs": [
    {
     "name": "stderr",
     "output_type": "stream",
     "text": [
      "\u001b[34m\u001b[1mwandb\u001b[0m: Currently logged in as: \u001b[33mjintae\u001b[0m. Use \u001b[1m`wandb login --relogin`\u001b[0m to force relogin\n"
     ]
    },
    {
     "data": {
      "text/html": [
       "Tracking run with wandb version 0.13.4"
      ],
      "text/plain": [
       "<IPython.core.display.HTML object>"
      ]
     },
     "metadata": {},
     "output_type": "display_data"
    },
    {
     "data": {
      "text/html": [
       "Run data is saved locally in <code>C:\\Users\\PARK\\Documents\\LAB\\RNN vs LSTM\\FInal Example\\wandb\\run-20221016_102433-155iu2s1</code>"
      ],
      "text/plain": [
       "<IPython.core.display.HTML object>"
      ]
     },
     "metadata": {},
     "output_type": "display_data"
    },
    {
     "data": {
      "text/html": [
       "Syncing run <strong><a href=\"https://wandb.ai/jintae/LSTM%20seq%20128./runs/155iu2s1\" target=\"_blank\">epoch 1000</a></strong> to <a href=\"https://wandb.ai/jintae/LSTM%20seq%20128.\" target=\"_blank\">Weights & Biases</a> (<a href=\"https://wandb.me/run\" target=\"_blank\">docs</a>)<br/>"
      ],
      "text/plain": [
       "<IPython.core.display.HTML object>"
      ]
     },
     "metadata": {},
     "output_type": "display_data"
    },
    {
     "data": {
      "text/html": [
       "<button onClick=\"this.nextSibling.style.display='block';this.style.display='none';\">Display W&B run</button><iframe src=\"https://wandb.ai/jintae/LSTM%20seq%20128./runs/155iu2s1?jupyter=true\" style=\"border:none;width:100%;height:420px;display:none;\"></iframe>"
      ],
      "text/plain": [
       "<wandb.sdk.wandb_run.Run at 0x1aec0b816a0>"
      ]
     },
     "execution_count": 1,
     "metadata": {},
     "output_type": "execute_result"
    }
   ],
   "source": [
    "import wandb\n",
    "from wandb.keras import WandbCallback\n",
    "wandb.init(project=\"LSTM seq 128.\", name=\"epoch 1000\")"
   ]
  },
  {
   "cell_type": "code",
   "execution_count": 2,
   "id": "650bae84",
   "metadata": {},
   "outputs": [
    {
     "name": "stdout",
     "output_type": "stream",
     "text": [
      "   DATE  Sales\n",
      "0     0   3459\n",
      "1     1   3458\n",
      "2     2   4002\n",
      "3     3   4564\n",
      "4     4   4221\n"
     ]
    }
   ],
   "source": [
    "import pandas as pd\n",
    "\n",
    "df = pd.read_csv('C:/Users/PARK/Desktop/Alcohol_Sales.csv')\n",
    "print(df.head())"
   ]
  },
  {
   "cell_type": "code",
   "execution_count": 3,
   "id": "71e18e17",
   "metadata": {},
   "outputs": [
    {
     "data": {
      "text/plain": [
       "(325, 2)"
      ]
     },
     "execution_count": 3,
     "metadata": {},
     "output_type": "execute_result"
    }
   ],
   "source": [
    "df.shape"
   ]
  },
  {
   "cell_type": "code",
   "execution_count": 4,
   "id": "5f4f8fb7",
   "metadata": {},
   "outputs": [],
   "source": [
    "import numpy as np\n",
    "\n",
    "data = df.to_numpy()"
   ]
  },
  {
   "cell_type": "code",
   "execution_count": 5,
   "id": "c6063052",
   "metadata": {},
   "outputs": [
    {
     "data": {
      "text/plain": [
       "(325, 2)"
      ]
     },
     "execution_count": 5,
     "metadata": {},
     "output_type": "execute_result"
    }
   ],
   "source": [
    "data.shape"
   ]
  },
  {
   "cell_type": "code",
   "execution_count": 6,
   "id": "01930485",
   "metadata": {},
   "outputs": [
    {
     "data": {
      "text/plain": [
       "array([[   0, 3459],\n",
       "       [   1, 3458],\n",
       "       [   2, 4002],\n",
       "       [   3, 4564],\n",
       "       [   4, 4221]], dtype=int64)"
      ]
     },
     "execution_count": 6,
     "metadata": {},
     "output_type": "execute_result"
    }
   ],
   "source": [
    "data[0:5]"
   ]
  },
  {
   "cell_type": "code",
   "execution_count": 7,
   "id": "ad83b404",
   "metadata": {},
   "outputs": [],
   "source": [
    "# from sklearn.preprocessing import MinMaxScaler\n",
    "\n",
    "# scaler = MinMaxScaler()\n",
    "\n",
    "# data = scaler.fit_transform(data)"
   ]
  },
  {
   "cell_type": "code",
   "execution_count": 8,
   "id": "17aef2ea",
   "metadata": {},
   "outputs": [],
   "source": [
    "data_mean = data.mean()\n",
    "data_std = data.std()\n",
    "\n",
    "data = (data - data_mean)/data_std"
   ]
  },
  {
   "cell_type": "code",
   "execution_count": 9,
   "id": "63fe0032",
   "metadata": {},
   "outputs": [
    {
     "data": {
      "text/plain": [
       "array([[-0.9194862 , -0.12914209],\n",
       "       [-0.91925771, -0.12937058],\n",
       "       [-0.91902922, -0.00507246],\n",
       "       [-0.91880073,  0.12333846],\n",
       "       [-0.91857224,  0.04496667]])"
      ]
     },
     "execution_count": 9,
     "metadata": {},
     "output_type": "execute_result"
    }
   ],
   "source": [
    "data[0:5]"
   ]
  },
  {
   "cell_type": "code",
   "execution_count": 10,
   "id": "87ac24ef",
   "metadata": {
    "scrolled": true
   },
   "outputs": [],
   "source": [
    "train_input = []\n",
    "train_label = []\n",
    "\n",
    "data_len = 325\n",
    "time_step = 100\n",
    "out_dim = 25\n",
    "\n",
    "for i in range(176):\n",
    "    _input = data[i:i+time_step]\n",
    "    _label = data[i+time_step:i+time_step+out_dim]\n",
    "    \n",
    "    train_input.append(_input)\n",
    "    train_label.append(_label)\n",
    "    \n",
    "\n",
    "train_input = np.array(train_input)\n",
    "train_label = np.array(train_label)\n",
    "train_label = np.delete(train_label, 0, axis=2)\n",
    "\n",
    "\n",
    "test_input = np.array(data[data_len-out_dim-time_step:data_len-out_dim])\n",
    "test_label =np.array(data[300:325])\n",
    "test_label = np.delete(test_label, 0, axis=1)"
   ]
  },
  {
   "cell_type": "code",
   "execution_count": 11,
   "id": "41975dc7",
   "metadata": {},
   "outputs": [
    {
     "data": {
      "text/plain": [
       "(176, 100, 2)"
      ]
     },
     "execution_count": 11,
     "metadata": {},
     "output_type": "execute_result"
    }
   ],
   "source": [
    "train_input.shape"
   ]
  },
  {
   "cell_type": "code",
   "execution_count": 12,
   "id": "b762c3ba",
   "metadata": {},
   "outputs": [
    {
     "data": {
      "text/plain": [
       "(176, 25, 1)"
      ]
     },
     "execution_count": 12,
     "metadata": {},
     "output_type": "execute_result"
    }
   ],
   "source": [
    "train_label.shape"
   ]
  },
  {
   "cell_type": "code",
   "execution_count": 13,
   "id": "127c63a2",
   "metadata": {},
   "outputs": [
    {
     "data": {
      "text/plain": [
       "(100, 2)"
      ]
     },
     "execution_count": 13,
     "metadata": {},
     "output_type": "execute_result"
    }
   ],
   "source": [
    "test_input.shape"
   ]
  },
  {
   "cell_type": "code",
   "execution_count": 14,
   "id": "6647472d",
   "metadata": {},
   "outputs": [
    {
     "data": {
      "text/plain": [
       "(25, 1)"
      ]
     },
     "execution_count": 14,
     "metadata": {},
     "output_type": "execute_result"
    }
   ],
   "source": [
    "test_label.shape"
   ]
  },
  {
   "cell_type": "code",
   "execution_count": 15,
   "id": "5d83c07f",
   "metadata": {},
   "outputs": [],
   "source": [
    "np.random.seed(10)\n",
    "shuffled_indices = np.random.permutation(np.arange(train_input.shape[0]))\n",
    "train_input = train_input[shuffled_indices, :, :]\n",
    "train_label = train_label[shuffled_indices, :]"
   ]
  },
  {
   "cell_type": "code",
   "execution_count": 16,
   "id": "a183926e",
   "metadata": {
    "scrolled": true
   },
   "outputs": [
    {
     "name": "stdout",
     "output_type": "stream",
     "text": [
      "Model: \"sequential\"\n",
      "_________________________________________________________________\n",
      " Layer (type)                Output Shape              Param #   \n",
      "=================================================================\n",
      " lstm (LSTM)                 (None, 128)               67072     \n",
      "                                                                 \n",
      " dense (Dense)               (None, 25)                3225      \n",
      "                                                                 \n",
      "=================================================================\n",
      "Total params: 70,297\n",
      "Trainable params: 70,297\n",
      "Non-trainable params: 0\n",
      "_________________________________________________________________\n"
     ]
    },
    {
     "name": "stderr",
     "output_type": "stream",
     "text": [
      "\u001b[34m\u001b[1mwandb\u001b[0m: \u001b[33mWARNING\u001b[0m The save_model argument by default saves the model in the HDF5 format that cannot save custom objects like subclassed models and custom layers. This behavior will be deprecated in a future release in favor of the SavedModel format. Meanwhile, the HDF5 model is saved as W&B files and the SavedModel as W&B Artifacts.\n"
     ]
    },
    {
     "name": "stdout",
     "output_type": "stream",
     "text": [
      "Epoch 1/1000\n",
      "1/5 [=====>........................] - ETA: 6s - loss: 1.3146 - mae: 1.0715"
     ]
    },
    {
     "name": "stderr",
     "output_type": "stream",
     "text": [
      "WARNING:absl:Found untraced functions such as lstm_cell_layer_call_fn, lstm_cell_layer_call_and_return_conditional_losses while saving (showing 2 of 2). These functions will not be directly callable after loading.\n"
     ]
    },
    {
     "name": "stdout",
     "output_type": "stream",
     "text": [
      "INFO:tensorflow:Assets written to: C:\\Users\\PARK\\Documents\\LAB\\RNN vs LSTM\\FInal Example\\wandb\\run-20221016_102433-155iu2s1\\files\\model-best\\assets\n"
     ]
    },
    {
     "name": "stderr",
     "output_type": "stream",
     "text": [
      "INFO:tensorflow:Assets written to: C:\\Users\\PARK\\Documents\\LAB\\RNN vs LSTM\\FInal Example\\wandb\\run-20221016_102433-155iu2s1\\files\\model-best\\assets\n",
      "\u001b[34m\u001b[1mwandb\u001b[0m: Adding directory to artifact (C:\\Users\\PARK\\Documents\\LAB\\RNN vs LSTM\\FInal Example\\wandb\\run-20221016_102433-155iu2s1\\files\\model-best)... Done. 0.0s\n"
     ]
    },
    {
     "name": "stdout",
     "output_type": "stream",
     "text": [
      "5/5 [==============================] - 6s 1s/step - loss: 1.2980 - mae: 1.0561 - val_loss: 0.9381 - val_mae: 0.8819\n",
      "Epoch 2/1000\n",
      "3/5 [=================>............] - ETA: 0s - loss: 0.8285 - mae: 0.8100"
     ]
    },
    {
     "name": "stderr",
     "output_type": "stream",
     "text": [
      "WARNING:absl:Found untraced functions such as lstm_cell_layer_call_fn, lstm_cell_layer_call_and_return_conditional_losses while saving (showing 2 of 2). These functions will not be directly callable after loading.\n"
     ]
    },
    {
     "name": "stdout",
     "output_type": "stream",
     "text": [
      "INFO:tensorflow:Assets written to: C:\\Users\\PARK\\Documents\\LAB\\RNN vs LSTM\\FInal Example\\wandb\\run-20221016_102433-155iu2s1\\files\\model-best\\assets\n"
     ]
    },
    {
     "name": "stderr",
     "output_type": "stream",
     "text": [
      "INFO:tensorflow:Assets written to: C:\\Users\\PARK\\Documents\\LAB\\RNN vs LSTM\\FInal Example\\wandb\\run-20221016_102433-155iu2s1\\files\\model-best\\assets\n",
      "\u001b[34m\u001b[1mwandb\u001b[0m: Adding directory to artifact (C:\\Users\\PARK\\Documents\\LAB\\RNN vs LSTM\\FInal Example\\wandb\\run-20221016_102433-155iu2s1\\files\\model-best)... Done. 0.0s\n"
     ]
    },
    {
     "name": "stdout",
     "output_type": "stream",
     "text": [
      "5/5 [==============================] - 4s 977ms/step - loss: 0.6993 - mae: 0.7185 - val_loss: 0.3100 - val_mae: 0.4441\n",
      "Epoch 3/1000\n",
      "5/5 [==============================] - ETA: 0s - loss: 0.3025 - mae: 0.4452"
     ]
    },
    {
     "name": "stderr",
     "output_type": "stream",
     "text": [
      "WARNING:absl:Found untraced functions such as lstm_cell_layer_call_fn, lstm_cell_layer_call_and_return_conditional_losses while saving (showing 2 of 2). These functions will not be directly callable after loading.\n"
     ]
    },
    {
     "name": "stdout",
     "output_type": "stream",
     "text": [
      "INFO:tensorflow:Assets written to: C:\\Users\\PARK\\Documents\\LAB\\RNN vs LSTM\\FInal Example\\wandb\\run-20221016_102433-155iu2s1\\files\\model-best\\assets\n"
     ]
    },
    {
     "name": "stderr",
     "output_type": "stream",
     "text": [
      "INFO:tensorflow:Assets written to: C:\\Users\\PARK\\Documents\\LAB\\RNN vs LSTM\\FInal Example\\wandb\\run-20221016_102433-155iu2s1\\files\\model-best\\assets\n",
      "\u001b[34m\u001b[1mwandb\u001b[0m: Adding directory to artifact (C:\\Users\\PARK\\Documents\\LAB\\RNN vs LSTM\\FInal Example\\wandb\\run-20221016_102433-155iu2s1\\files\\model-best)... Done. 0.0s\n"
     ]
    },
    {
     "name": "stdout",
     "output_type": "stream",
     "text": [
      "5/5 [==============================] - 4s 892ms/step - loss: 0.3025 - mae: 0.4452 - val_loss: 0.1967 - val_mae: 0.3633\n",
      "Epoch 4/1000\n",
      "5/5 [==============================] - ETA: 0s - loss: 0.1737 - mae: 0.3438"
     ]
    },
    {
     "name": "stderr",
     "output_type": "stream",
     "text": [
      "WARNING:absl:Found untraced functions such as lstm_cell_layer_call_fn, lstm_cell_layer_call_and_return_conditional_losses while saving (showing 2 of 2). These functions will not be directly callable after loading.\n"
     ]
    },
    {
     "name": "stdout",
     "output_type": "stream",
     "text": [
      "INFO:tensorflow:Assets written to: C:\\Users\\PARK\\Documents\\LAB\\RNN vs LSTM\\FInal Example\\wandb\\run-20221016_102433-155iu2s1\\files\\model-best\\assets\n"
     ]
    },
    {
     "name": "stderr",
     "output_type": "stream",
     "text": [
      "INFO:tensorflow:Assets written to: C:\\Users\\PARK\\Documents\\LAB\\RNN vs LSTM\\FInal Example\\wandb\\run-20221016_102433-155iu2s1\\files\\model-best\\assets\n",
      "\u001b[34m\u001b[1mwandb\u001b[0m: Adding directory to artifact (C:\\Users\\PARK\\Documents\\LAB\\RNN vs LSTM\\FInal Example\\wandb\\run-20221016_102433-155iu2s1\\files\\model-best)... Done. 0.0s\n"
     ]
    },
    {
     "name": "stdout",
     "output_type": "stream",
     "text": [
      "5/5 [==============================] - 4s 960ms/step - loss: 0.1737 - mae: 0.3438 - val_loss: 0.1769 - val_mae: 0.3487\n",
      "Epoch 5/1000\n",
      "5/5 [==============================] - ETA: 0s - loss: 0.1758 - mae: 0.3408"
     ]
    },
    {
     "name": "stderr",
     "output_type": "stream",
     "text": [
      "WARNING:absl:Found untraced functions such as lstm_cell_layer_call_fn, lstm_cell_layer_call_and_return_conditional_losses while saving (showing 2 of 2). These functions will not be directly callable after loading.\n"
     ]
    },
    {
     "name": "stdout",
     "output_type": "stream",
     "text": [
      "INFO:tensorflow:Assets written to: C:\\Users\\PARK\\Documents\\LAB\\RNN vs LSTM\\FInal Example\\wandb\\run-20221016_102433-155iu2s1\\files\\model-best\\assets\n"
     ]
    },
    {
     "name": "stderr",
     "output_type": "stream",
     "text": [
      "INFO:tensorflow:Assets written to: C:\\Users\\PARK\\Documents\\LAB\\RNN vs LSTM\\FInal Example\\wandb\\run-20221016_102433-155iu2s1\\files\\model-best\\assets\n",
      "\u001b[34m\u001b[1mwandb\u001b[0m: Adding directory to artifact (C:\\Users\\PARK\\Documents\\LAB\\RNN vs LSTM\\FInal Example\\wandb\\run-20221016_102433-155iu2s1\\files\\model-best)... Done. 0.0s\n"
     ]
    },
    {
     "name": "stdout",
     "output_type": "stream",
     "text": [
      "5/5 [==============================] - 4s 939ms/step - loss: 0.1758 - mae: 0.3408 - val_loss: 0.1667 - val_mae: 0.3372\n",
      "Epoch 6/1000\n",
      "5/5 [==============================] - ETA: 0s - loss: 0.1573 - mae: 0.3243"
     ]
    },
    {
     "name": "stderr",
     "output_type": "stream",
     "text": [
      "WARNING:absl:Found untraced functions such as lstm_cell_layer_call_fn, lstm_cell_layer_call_and_return_conditional_losses while saving (showing 2 of 2). These functions will not be directly callable after loading.\n"
     ]
    },
    {
     "name": "stdout",
     "output_type": "stream",
     "text": [
      "INFO:tensorflow:Assets written to: C:\\Users\\PARK\\Documents\\LAB\\RNN vs LSTM\\FInal Example\\wandb\\run-20221016_102433-155iu2s1\\files\\model-best\\assets\n"
     ]
    },
    {
     "name": "stderr",
     "output_type": "stream",
     "text": [
      "INFO:tensorflow:Assets written to: C:\\Users\\PARK\\Documents\\LAB\\RNN vs LSTM\\FInal Example\\wandb\\run-20221016_102433-155iu2s1\\files\\model-best\\assets\n",
      "\u001b[34m\u001b[1mwandb\u001b[0m: Adding directory to artifact (C:\\Users\\PARK\\Documents\\LAB\\RNN vs LSTM\\FInal Example\\wandb\\run-20221016_102433-155iu2s1\\files\\model-best)... Done. 0.0s\n"
     ]
    },
    {
     "name": "stdout",
     "output_type": "stream",
     "text": [
      "5/5 [==============================] - 4s 931ms/step - loss: 0.1573 - mae: 0.3243 - val_loss: 0.1410 - val_mae: 0.3111\n",
      "Epoch 7/1000\n",
      "4/5 [=======================>......] - ETA: 0s - loss: 0.1340 - mae: 0.2998"
     ]
    },
    {
     "name": "stderr",
     "output_type": "stream",
     "text": [
      "WARNING:absl:Found untraced functions such as lstm_cell_layer_call_fn, lstm_cell_layer_call_and_return_conditional_losses while saving (showing 2 of 2). These functions will not be directly callable after loading.\n"
     ]
    },
    {
     "name": "stdout",
     "output_type": "stream",
     "text": [
      "INFO:tensorflow:Assets written to: C:\\Users\\PARK\\Documents\\LAB\\RNN vs LSTM\\FInal Example\\wandb\\run-20221016_102433-155iu2s1\\files\\model-best\\assets\n"
     ]
    },
    {
     "name": "stderr",
     "output_type": "stream",
     "text": [
      "INFO:tensorflow:Assets written to: C:\\Users\\PARK\\Documents\\LAB\\RNN vs LSTM\\FInal Example\\wandb\\run-20221016_102433-155iu2s1\\files\\model-best\\assets\n",
      "\u001b[34m\u001b[1mwandb\u001b[0m: Adding directory to artifact (C:\\Users\\PARK\\Documents\\LAB\\RNN vs LSTM\\FInal Example\\wandb\\run-20221016_102433-155iu2s1\\files\\model-best)... Done. 0.0s\n"
     ]
    },
    {
     "name": "stdout",
     "output_type": "stream",
     "text": [
      "5/5 [==============================] - 4s 880ms/step - loss: 0.1325 - mae: 0.2990 - val_loss: 0.1133 - val_mae: 0.2768\n",
      "Epoch 8/1000\n",
      "5/5 [==============================] - ETA: 0s - loss: 0.1103 - mae: 0.2663"
     ]
    },
    {
     "name": "stderr",
     "output_type": "stream",
     "text": [
      "WARNING:absl:Found untraced functions such as lstm_cell_layer_call_fn, lstm_cell_layer_call_and_return_conditional_losses while saving (showing 2 of 2). These functions will not be directly callable after loading.\n"
     ]
    },
    {
     "name": "stdout",
     "output_type": "stream",
     "text": [
      "INFO:tensorflow:Assets written to: C:\\Users\\PARK\\Documents\\LAB\\RNN vs LSTM\\FInal Example\\wandb\\run-20221016_102433-155iu2s1\\files\\model-best\\assets\n"
     ]
    },
    {
     "name": "stderr",
     "output_type": "stream",
     "text": [
      "INFO:tensorflow:Assets written to: C:\\Users\\PARK\\Documents\\LAB\\RNN vs LSTM\\FInal Example\\wandb\\run-20221016_102433-155iu2s1\\files\\model-best\\assets\n",
      "\u001b[34m\u001b[1mwandb\u001b[0m: Adding directory to artifact (C:\\Users\\PARK\\Documents\\LAB\\RNN vs LSTM\\FInal Example\\wandb\\run-20221016_102433-155iu2s1\\files\\model-best)... Done. 0.0s\n"
     ]
    },
    {
     "name": "stdout",
     "output_type": "stream",
     "text": [
      "5/5 [==============================] - 4s 954ms/step - loss: 0.1103 - mae: 0.2663 - val_loss: 0.1035 - val_mae: 0.2615\n",
      "Epoch 9/1000\n",
      "5/5 [==============================] - ETA: 0s - loss: 0.0953 - mae: 0.2468"
     ]
    },
    {
     "name": "stderr",
     "output_type": "stream",
     "text": [
      "WARNING:absl:Found untraced functions such as lstm_cell_layer_call_fn, lstm_cell_layer_call_and_return_conditional_losses while saving (showing 2 of 2). These functions will not be directly callable after loading.\n"
     ]
    },
    {
     "name": "stdout",
     "output_type": "stream",
     "text": [
      "INFO:tensorflow:Assets written to: C:\\Users\\PARK\\Documents\\LAB\\RNN vs LSTM\\FInal Example\\wandb\\run-20221016_102433-155iu2s1\\files\\model-best\\assets\n"
     ]
    },
    {
     "name": "stderr",
     "output_type": "stream",
     "text": [
      "INFO:tensorflow:Assets written to: C:\\Users\\PARK\\Documents\\LAB\\RNN vs LSTM\\FInal Example\\wandb\\run-20221016_102433-155iu2s1\\files\\model-best\\assets\n",
      "\u001b[34m\u001b[1mwandb\u001b[0m: Adding directory to artifact (C:\\Users\\PARK\\Documents\\LAB\\RNN vs LSTM\\FInal Example\\wandb\\run-20221016_102433-155iu2s1\\files\\model-best)... Done. 0.0s\n"
     ]
    },
    {
     "name": "stdout",
     "output_type": "stream",
     "text": [
      "5/5 [==============================] - 4s 940ms/step - loss: 0.0953 - mae: 0.2468 - val_loss: 0.0886 - val_mae: 0.2433\n",
      "Epoch 10/1000\n",
      "5/5 [==============================] - ETA: 0s - loss: 0.0790 - mae: 0.2212"
     ]
    },
    {
     "name": "stderr",
     "output_type": "stream",
     "text": [
      "WARNING:absl:Found untraced functions such as lstm_cell_layer_call_fn, lstm_cell_layer_call_and_return_conditional_losses while saving (showing 2 of 2). These functions will not be directly callable after loading.\n"
     ]
    },
    {
     "name": "stdout",
     "output_type": "stream",
     "text": [
      "INFO:tensorflow:Assets written to: C:\\Users\\PARK\\Documents\\LAB\\RNN vs LSTM\\FInal Example\\wandb\\run-20221016_102433-155iu2s1\\files\\model-best\\assets\n"
     ]
    },
    {
     "name": "stderr",
     "output_type": "stream",
     "text": [
      "INFO:tensorflow:Assets written to: C:\\Users\\PARK\\Documents\\LAB\\RNN vs LSTM\\FInal Example\\wandb\\run-20221016_102433-155iu2s1\\files\\model-best\\assets\n",
      "\u001b[34m\u001b[1mwandb\u001b[0m: Adding directory to artifact (C:\\Users\\PARK\\Documents\\LAB\\RNN vs LSTM\\FInal Example\\wandb\\run-20221016_102433-155iu2s1\\files\\model-best)... Done. 0.0s\n"
     ]
    },
    {
     "name": "stdout",
     "output_type": "stream",
     "text": [
      "5/5 [==============================] - 4s 954ms/step - loss: 0.0790 - mae: 0.2212 - val_loss: 0.0625 - val_mae: 0.1928\n",
      "Epoch 11/1000\n",
      "5/5 [==============================] - 0s 75ms/step - loss: 0.0669 - mae: 0.2060 - val_loss: 0.0657 - val_mae: 0.1971\n",
      "Epoch 12/1000\n",
      "5/5 [==============================] - 0s 53ms/step - loss: 0.0678 - mae: 0.1985 - val_loss: 0.0681 - val_mae: 0.2109\n",
      "Epoch 13/1000\n",
      "5/5 [==============================] - ETA: 0s - loss: 0.0651 - mae: 0.2018"
     ]
    },
    {
     "name": "stderr",
     "output_type": "stream",
     "text": [
      "WARNING:absl:Found untraced functions such as lstm_cell_layer_call_fn, lstm_cell_layer_call_and_return_conditional_losses while saving (showing 2 of 2). These functions will not be directly callable after loading.\n"
     ]
    },
    {
     "name": "stdout",
     "output_type": "stream",
     "text": [
      "INFO:tensorflow:Assets written to: C:\\Users\\PARK\\Documents\\LAB\\RNN vs LSTM\\FInal Example\\wandb\\run-20221016_102433-155iu2s1\\files\\model-best\\assets\n"
     ]
    },
    {
     "name": "stderr",
     "output_type": "stream",
     "text": [
      "INFO:tensorflow:Assets written to: C:\\Users\\PARK\\Documents\\LAB\\RNN vs LSTM\\FInal Example\\wandb\\run-20221016_102433-155iu2s1\\files\\model-best\\assets\n",
      "\u001b[34m\u001b[1mwandb\u001b[0m: Adding directory to artifact (C:\\Users\\PARK\\Documents\\LAB\\RNN vs LSTM\\FInal Example\\wandb\\run-20221016_102433-155iu2s1\\files\\model-best)... Done. 0.0s\n"
     ]
    },
    {
     "name": "stdout",
     "output_type": "stream",
     "text": [
      "5/5 [==============================] - 4s 904ms/step - loss: 0.0651 - mae: 0.2018 - val_loss: 0.0608 - val_mae: 0.1899\n",
      "Epoch 14/1000\n",
      "5/5 [==============================] - ETA: 0s - loss: 0.0607 - mae: 0.1910"
     ]
    },
    {
     "name": "stderr",
     "output_type": "stream",
     "text": [
      "WARNING:absl:Found untraced functions such as lstm_cell_layer_call_fn, lstm_cell_layer_call_and_return_conditional_losses while saving (showing 2 of 2). These functions will not be directly callable after loading.\n"
     ]
    },
    {
     "name": "stdout",
     "output_type": "stream",
     "text": [
      "INFO:tensorflow:Assets written to: C:\\Users\\PARK\\Documents\\LAB\\RNN vs LSTM\\FInal Example\\wandb\\run-20221016_102433-155iu2s1\\files\\model-best\\assets\n"
     ]
    },
    {
     "name": "stderr",
     "output_type": "stream",
     "text": [
      "INFO:tensorflow:Assets written to: C:\\Users\\PARK\\Documents\\LAB\\RNN vs LSTM\\FInal Example\\wandb\\run-20221016_102433-155iu2s1\\files\\model-best\\assets\n",
      "\u001b[34m\u001b[1mwandb\u001b[0m: Adding directory to artifact (C:\\Users\\PARK\\Documents\\LAB\\RNN vs LSTM\\FInal Example\\wandb\\run-20221016_102433-155iu2s1\\files\\model-best)... Done. 0.0s\n"
     ]
    },
    {
     "name": "stdout",
     "output_type": "stream",
     "text": [
      "5/5 [==============================] - 4s 936ms/step - loss: 0.0607 - mae: 0.1910 - val_loss: 0.0578 - val_mae: 0.1853\n",
      "Epoch 15/1000\n",
      "5/5 [==============================] - ETA: 0s - loss: 0.0586 - mae: 0.1856"
     ]
    },
    {
     "name": "stderr",
     "output_type": "stream",
     "text": [
      "WARNING:absl:Found untraced functions such as lstm_cell_layer_call_fn, lstm_cell_layer_call_and_return_conditional_losses while saving (showing 2 of 2). These functions will not be directly callable after loading.\n"
     ]
    },
    {
     "name": "stdout",
     "output_type": "stream",
     "text": [
      "INFO:tensorflow:Assets written to: C:\\Users\\PARK\\Documents\\LAB\\RNN vs LSTM\\FInal Example\\wandb\\run-20221016_102433-155iu2s1\\files\\model-best\\assets\n"
     ]
    },
    {
     "name": "stderr",
     "output_type": "stream",
     "text": [
      "INFO:tensorflow:Assets written to: C:\\Users\\PARK\\Documents\\LAB\\RNN vs LSTM\\FInal Example\\wandb\\run-20221016_102433-155iu2s1\\files\\model-best\\assets\n",
      "\u001b[34m\u001b[1mwandb\u001b[0m: Adding directory to artifact (C:\\Users\\PARK\\Documents\\LAB\\RNN vs LSTM\\FInal Example\\wandb\\run-20221016_102433-155iu2s1\\files\\model-best)... Done. 0.0s\n"
     ]
    },
    {
     "name": "stdout",
     "output_type": "stream",
     "text": [
      "5/5 [==============================] - 4s 936ms/step - loss: 0.0586 - mae: 0.1856 - val_loss: 0.0573 - val_mae: 0.1847\n",
      "Epoch 16/1000\n",
      "5/5 [==============================] - 0s 73ms/step - loss: 0.0580 - mae: 0.1859 - val_loss: 0.0584 - val_mae: 0.1858\n",
      "Epoch 17/1000\n",
      "3/5 [=================>............] - ETA: 0s - loss: 0.0590 - mae: 0.1854"
     ]
    },
    {
     "name": "stderr",
     "output_type": "stream",
     "text": [
      "WARNING:absl:Found untraced functions such as lstm_cell_layer_call_fn, lstm_cell_layer_call_and_return_conditional_losses while saving (showing 2 of 2). These functions will not be directly callable after loading.\n"
     ]
    },
    {
     "name": "stdout",
     "output_type": "stream",
     "text": [
      "INFO:tensorflow:Assets written to: C:\\Users\\PARK\\Documents\\LAB\\RNN vs LSTM\\FInal Example\\wandb\\run-20221016_102433-155iu2s1\\files\\model-best\\assets\n"
     ]
    },
    {
     "name": "stderr",
     "output_type": "stream",
     "text": [
      "INFO:tensorflow:Assets written to: C:\\Users\\PARK\\Documents\\LAB\\RNN vs LSTM\\FInal Example\\wandb\\run-20221016_102433-155iu2s1\\files\\model-best\\assets\n",
      "\u001b[34m\u001b[1mwandb\u001b[0m: Adding directory to artifact (C:\\Users\\PARK\\Documents\\LAB\\RNN vs LSTM\\FInal Example\\wandb\\run-20221016_102433-155iu2s1\\files\\model-best)... Done. 0.0s\n"
     ]
    },
    {
     "name": "stdout",
     "output_type": "stream",
     "text": [
      "5/5 [==============================] - 4s 920ms/step - loss: 0.0579 - mae: 0.1846 - val_loss: 0.0567 - val_mae: 0.1834\n",
      "Epoch 18/1000\n",
      "5/5 [==============================] - 0s 69ms/step - loss: 0.0573 - mae: 0.1830 - val_loss: 0.0569 - val_mae: 0.1835\n",
      "Epoch 19/1000\n",
      "5/5 [==============================] - 0s 54ms/step - loss: 0.0567 - mae: 0.1826 - val_loss: 0.0582 - val_mae: 0.1842\n",
      "Epoch 20/1000\n",
      "5/5 [==============================] - 0s 41ms/step - loss: 0.0567 - mae: 0.1815 - val_loss: 0.0582 - val_mae: 0.1875\n",
      "Epoch 21/1000\n",
      "5/5 [==============================] - 0s 35ms/step - loss: 0.0573 - mae: 0.1834 - val_loss: 0.0611 - val_mae: 0.1879\n",
      "Epoch 22/1000\n",
      "5/5 [==============================] - 0s 30ms/step - loss: 0.0585 - mae: 0.1855 - val_loss: 0.0571 - val_mae: 0.1825\n",
      "Epoch 23/1000\n",
      "5/5 [==============================] - 0s 30ms/step - loss: 0.0566 - mae: 0.1809 - val_loss: 0.0571 - val_mae: 0.1840\n",
      "Epoch 24/1000\n",
      "5/5 [==============================] - 0s 30ms/step - loss: 0.0563 - mae: 0.1810 - val_loss: 0.0570 - val_mae: 0.1815\n",
      "Epoch 25/1000\n",
      "5/5 [==============================] - 0s 30ms/step - loss: 0.0565 - mae: 0.1819 - val_loss: 0.0584 - val_mae: 0.1836\n",
      "Epoch 26/1000\n",
      "1/5 [=====>........................] - ETA: 0s - loss: 0.0538 - mae: 0.1767"
     ]
    },
    {
     "name": "stderr",
     "output_type": "stream",
     "text": [
      "WARNING:absl:Found untraced functions such as lstm_cell_layer_call_fn, lstm_cell_layer_call_and_return_conditional_losses while saving (showing 2 of 2). These functions will not be directly callable after loading.\n"
     ]
    },
    {
     "name": "stdout",
     "output_type": "stream",
     "text": [
      "INFO:tensorflow:Assets written to: C:\\Users\\PARK\\Documents\\LAB\\RNN vs LSTM\\FInal Example\\wandb\\run-20221016_102433-155iu2s1\\files\\model-best\\assets\n"
     ]
    },
    {
     "name": "stderr",
     "output_type": "stream",
     "text": [
      "INFO:tensorflow:Assets written to: C:\\Users\\PARK\\Documents\\LAB\\RNN vs LSTM\\FInal Example\\wandb\\run-20221016_102433-155iu2s1\\files\\model-best\\assets\n",
      "\u001b[34m\u001b[1mwandb\u001b[0m: Adding directory to artifact (C:\\Users\\PARK\\Documents\\LAB\\RNN vs LSTM\\FInal Example\\wandb\\run-20221016_102433-155iu2s1\\files\\model-best)... Done. 0.0s\n"
     ]
    },
    {
     "name": "stdout",
     "output_type": "stream",
     "text": [
      "5/5 [==============================] - 4s 889ms/step - loss: 0.0574 - mae: 0.1829 - val_loss: 0.0565 - val_mae: 0.1818\n",
      "Epoch 27/1000\n",
      "5/5 [==============================] - 0s 60ms/step - loss: 0.0565 - mae: 0.1807 - val_loss: 0.0569 - val_mae: 0.1834\n",
      "Epoch 28/1000\n",
      "5/5 [==============================] - 0s 26ms/step - loss: 0.0565 - mae: 0.1816 - val_loss: 0.0567 - val_mae: 0.1816\n",
      "Epoch 29/1000\n",
      "5/5 [==============================] - 0s 26ms/step - loss: 0.0571 - mae: 0.1835 - val_loss: 0.0594 - val_mae: 0.1852\n",
      "Epoch 30/1000\n",
      "1/5 [=====>........................] - ETA: 0s - loss: 0.0616 - mae: 0.1886"
     ]
    },
    {
     "name": "stderr",
     "output_type": "stream",
     "text": [
      "WARNING:absl:Found untraced functions such as lstm_cell_layer_call_fn, lstm_cell_layer_call_and_return_conditional_losses while saving (showing 2 of 2). These functions will not be directly callable after loading.\n"
     ]
    },
    {
     "name": "stdout",
     "output_type": "stream",
     "text": [
      "INFO:tensorflow:Assets written to: C:\\Users\\PARK\\Documents\\LAB\\RNN vs LSTM\\FInal Example\\wandb\\run-20221016_102433-155iu2s1\\files\\model-best\\assets\n"
     ]
    },
    {
     "name": "stderr",
     "output_type": "stream",
     "text": [
      "INFO:tensorflow:Assets written to: C:\\Users\\PARK\\Documents\\LAB\\RNN vs LSTM\\FInal Example\\wandb\\run-20221016_102433-155iu2s1\\files\\model-best\\assets\n",
      "\u001b[34m\u001b[1mwandb\u001b[0m: Adding directory to artifact (C:\\Users\\PARK\\Documents\\LAB\\RNN vs LSTM\\FInal Example\\wandb\\run-20221016_102433-155iu2s1\\files\\model-best)... Done. 0.0s\n"
     ]
    },
    {
     "name": "stdout",
     "output_type": "stream",
     "text": [
      "5/5 [==============================] - 4s 919ms/step - loss: 0.0572 - mae: 0.1826 - val_loss: 0.0563 - val_mae: 0.1815\n",
      "Epoch 31/1000\n",
      "3/5 [=================>............] - ETA: 0s - loss: 0.0537 - mae: 0.1771"
     ]
    },
    {
     "name": "stderr",
     "output_type": "stream",
     "text": [
      "WARNING:absl:Found untraced functions such as lstm_cell_layer_call_fn, lstm_cell_layer_call_and_return_conditional_losses while saving (showing 2 of 2). These functions will not be directly callable after loading.\n"
     ]
    },
    {
     "name": "stdout",
     "output_type": "stream",
     "text": [
      "INFO:tensorflow:Assets written to: C:\\Users\\PARK\\Documents\\LAB\\RNN vs LSTM\\FInal Example\\wandb\\run-20221016_102433-155iu2s1\\files\\model-best\\assets\n"
     ]
    },
    {
     "name": "stderr",
     "output_type": "stream",
     "text": [
      "INFO:tensorflow:Assets written to: C:\\Users\\PARK\\Documents\\LAB\\RNN vs LSTM\\FInal Example\\wandb\\run-20221016_102433-155iu2s1\\files\\model-best\\assets\n",
      "\u001b[34m\u001b[1mwandb\u001b[0m: Adding directory to artifact (C:\\Users\\PARK\\Documents\\LAB\\RNN vs LSTM\\FInal Example\\wandb\\run-20221016_102433-155iu2s1\\files\\model-best)... Done. 0.0s\n"
     ]
    },
    {
     "name": "stdout",
     "output_type": "stream",
     "text": [
      "5/5 [==============================] - 4s 930ms/step - loss: 0.0561 - mae: 0.1802 - val_loss: 0.0563 - val_mae: 0.1817\n",
      "Epoch 32/1000\n",
      "5/5 [==============================] - 0s 78ms/step - loss: 0.0561 - mae: 0.1807 - val_loss: 0.0568 - val_mae: 0.1834\n",
      "Epoch 33/1000\n",
      "5/5 [==============================] - 0s 45ms/step - loss: 0.0562 - mae: 0.1811 - val_loss: 0.0572 - val_mae: 0.1835\n",
      "Epoch 34/1000\n",
      "5/5 [==============================] - 0s 26ms/step - loss: 0.0562 - mae: 0.1808 - val_loss: 0.0574 - val_mae: 0.1824\n",
      "Epoch 35/1000\n",
      "5/5 [==============================] - 0s 25ms/step - loss: 0.0560 - mae: 0.1805 - val_loss: 0.0565 - val_mae: 0.1813\n",
      "Epoch 36/1000\n",
      "5/5 [==============================] - 0s 26ms/step - loss: 0.0565 - mae: 0.1816 - val_loss: 0.0568 - val_mae: 0.1838\n",
      "Epoch 37/1000\n",
      "5/5 [==============================] - 0s 25ms/step - loss: 0.0561 - mae: 0.1807 - val_loss: 0.0567 - val_mae: 0.1825\n",
      "Epoch 38/1000\n",
      "5/5 [==============================] - 0s 26ms/step - loss: 0.0561 - mae: 0.1808 - val_loss: 0.0565 - val_mae: 0.1809\n",
      "Epoch 39/1000\n",
      "5/5 [==============================] - 0s 25ms/step - loss: 0.0559 - mae: 0.1800 - val_loss: 0.0564 - val_mae: 0.1806\n",
      "Epoch 40/1000\n",
      "5/5 [==============================] - 0s 26ms/step - loss: 0.0555 - mae: 0.1791 - val_loss: 0.0566 - val_mae: 0.1812\n",
      "Epoch 41/1000\n",
      "5/5 [==============================] - 0s 26ms/step - loss: 0.0556 - mae: 0.1796 - val_loss: 0.0565 - val_mae: 0.1807\n",
      "Epoch 42/1000\n",
      "5/5 [==============================] - 0s 26ms/step - loss: 0.0558 - mae: 0.1797 - val_loss: 0.0572 - val_mae: 0.1836\n",
      "Epoch 43/1000\n",
      "5/5 [==============================] - 0s 26ms/step - loss: 0.0561 - mae: 0.1806 - val_loss: 0.0574 - val_mae: 0.1837\n",
      "Epoch 44/1000\n",
      "5/5 [==============================] - 0s 26ms/step - loss: 0.0560 - mae: 0.1807 - val_loss: 0.0564 - val_mae: 0.1807\n",
      "Epoch 45/1000\n",
      "1/5 [=====>........................] - ETA: 0s - loss: 0.0553 - mae: 0.1805"
     ]
    },
    {
     "name": "stderr",
     "output_type": "stream",
     "text": [
      "WARNING:absl:Found untraced functions such as lstm_cell_layer_call_fn, lstm_cell_layer_call_and_return_conditional_losses while saving (showing 2 of 2). These functions will not be directly callable after loading.\n"
     ]
    },
    {
     "name": "stdout",
     "output_type": "stream",
     "text": [
      "INFO:tensorflow:Assets written to: C:\\Users\\PARK\\Documents\\LAB\\RNN vs LSTM\\FInal Example\\wandb\\run-20221016_102433-155iu2s1\\files\\model-best\\assets\n"
     ]
    },
    {
     "name": "stderr",
     "output_type": "stream",
     "text": [
      "INFO:tensorflow:Assets written to: C:\\Users\\PARK\\Documents\\LAB\\RNN vs LSTM\\FInal Example\\wandb\\run-20221016_102433-155iu2s1\\files\\model-best\\assets\n",
      "\u001b[34m\u001b[1mwandb\u001b[0m: Adding directory to artifact (C:\\Users\\PARK\\Documents\\LAB\\RNN vs LSTM\\FInal Example\\wandb\\run-20221016_102433-155iu2s1\\files\\model-best)... Done. 0.0s\n"
     ]
    },
    {
     "name": "stdout",
     "output_type": "stream",
     "text": [
      "5/5 [==============================] - 3s 872ms/step - loss: 0.0554 - mae: 0.1792 - val_loss: 0.0560 - val_mae: 0.1802\n",
      "Epoch 46/1000\n",
      "5/5 [==============================] - 0s 58ms/step - loss: 0.0552 - mae: 0.1787 - val_loss: 0.0561 - val_mae: 0.1813\n",
      "Epoch 47/1000\n",
      "5/5 [==============================] - 0s 44ms/step - loss: 0.0557 - mae: 0.1800 - val_loss: 0.0567 - val_mae: 0.1822\n",
      "Epoch 48/1000\n",
      "5/5 [==============================] - 0s 38ms/step - loss: 0.0553 - mae: 0.1793 - val_loss: 0.0569 - val_mae: 0.1814\n",
      "Epoch 49/1000\n",
      "5/5 [==============================] - 0s 36ms/step - loss: 0.0554 - mae: 0.1794 - val_loss: 0.0562 - val_mae: 0.1808\n",
      "Epoch 50/1000\n",
      "5/5 [==============================] - 0s 30ms/step - loss: 0.0553 - mae: 0.1793 - val_loss: 0.0570 - val_mae: 0.1819\n",
      "Epoch 51/1000\n",
      "5/5 [==============================] - 0s 29ms/step - loss: 0.0550 - mae: 0.1789 - val_loss: 0.0569 - val_mae: 0.1828\n",
      "Epoch 52/1000\n",
      "5/5 [==============================] - 0s 28ms/step - loss: 0.0560 - mae: 0.1804 - val_loss: 0.0578 - val_mae: 0.1858\n",
      "Epoch 53/1000\n",
      "5/5 [==============================] - 0s 28ms/step - loss: 0.0561 - mae: 0.1817 - val_loss: 0.0568 - val_mae: 0.1821\n",
      "Epoch 54/1000\n",
      "5/5 [==============================] - 0s 29ms/step - loss: 0.0558 - mae: 0.1804 - val_loss: 0.0570 - val_mae: 0.1829\n",
      "Epoch 55/1000\n",
      "1/5 [=====>........................] - ETA: 0s - loss: 0.0502 - mae: 0.1721"
     ]
    },
    {
     "name": "stderr",
     "output_type": "stream",
     "text": [
      "WARNING:absl:Found untraced functions such as lstm_cell_layer_call_fn, lstm_cell_layer_call_and_return_conditional_losses while saving (showing 2 of 2). These functions will not be directly callable after loading.\n"
     ]
    },
    {
     "name": "stdout",
     "output_type": "stream",
     "text": [
      "INFO:tensorflow:Assets written to: C:\\Users\\PARK\\Documents\\LAB\\RNN vs LSTM\\FInal Example\\wandb\\run-20221016_102433-155iu2s1\\files\\model-best\\assets\n"
     ]
    },
    {
     "name": "stderr",
     "output_type": "stream",
     "text": [
      "INFO:tensorflow:Assets written to: C:\\Users\\PARK\\Documents\\LAB\\RNN vs LSTM\\FInal Example\\wandb\\run-20221016_102433-155iu2s1\\files\\model-best\\assets\n",
      "\u001b[34m\u001b[1mwandb\u001b[0m: Adding directory to artifact (C:\\Users\\PARK\\Documents\\LAB\\RNN vs LSTM\\FInal Example\\wandb\\run-20221016_102433-155iu2s1\\files\\model-best)... Done. 0.0s\n"
     ]
    },
    {
     "name": "stdout",
     "output_type": "stream",
     "text": [
      "5/5 [==============================] - 3s 836ms/step - loss: 0.0565 - mae: 0.1829 - val_loss: 0.0557 - val_mae: 0.1801\n",
      "Epoch 56/1000\n",
      "5/5 [==============================] - 0s 69ms/step - loss: 0.0561 - mae: 0.1819 - val_loss: 0.0576 - val_mae: 0.1821\n",
      "Epoch 57/1000\n",
      "5/5 [==============================] - 0s 48ms/step - loss: 0.0555 - mae: 0.1798 - val_loss: 0.0570 - val_mae: 0.1817\n",
      "Epoch 58/1000\n",
      "5/5 [==============================] - 0s 39ms/step - loss: 0.0550 - mae: 0.1787 - val_loss: 0.0573 - val_mae: 0.1838\n",
      "Epoch 59/1000\n",
      "5/5 [==============================] - 0s 38ms/step - loss: 0.0554 - mae: 0.1803 - val_loss: 0.0568 - val_mae: 0.1836\n",
      "Epoch 60/1000\n",
      "5/5 [==============================] - 0s 37ms/step - loss: 0.0556 - mae: 0.1808 - val_loss: 0.0559 - val_mae: 0.1802\n",
      "Epoch 61/1000\n",
      "5/5 [==============================] - 0s 30ms/step - loss: 0.0548 - mae: 0.1786 - val_loss: 0.0597 - val_mae: 0.1855\n",
      "Epoch 62/1000\n",
      "5/5 [==============================] - 0s 67ms/step - loss: 0.0557 - mae: 0.1798 - val_loss: 0.0565 - val_mae: 0.1810\n",
      "Epoch 63/1000\n",
      "5/5 [==============================] - 0s 30ms/step - loss: 0.0548 - mae: 0.1785 - val_loss: 0.0567 - val_mae: 0.1838\n",
      "Epoch 64/1000\n",
      "5/5 [==============================] - 0s 30ms/step - loss: 0.0556 - mae: 0.1807 - val_loss: 0.0562 - val_mae: 0.1816\n",
      "Epoch 65/1000\n",
      "5/5 [==============================] - 0s 30ms/step - loss: 0.0549 - mae: 0.1793 - val_loss: 0.0572 - val_mae: 0.1827\n",
      "Epoch 66/1000\n",
      "5/5 [==============================] - 0s 29ms/step - loss: 0.0547 - mae: 0.1784 - val_loss: 0.0565 - val_mae: 0.1808\n",
      "Epoch 67/1000\n",
      "5/5 [==============================] - 0s 30ms/step - loss: 0.0547 - mae: 0.1785 - val_loss: 0.0565 - val_mae: 0.1810\n",
      "Epoch 68/1000\n",
      "5/5 [==============================] - 0s 29ms/step - loss: 0.0552 - mae: 0.1793 - val_loss: 0.0568 - val_mae: 0.1823\n",
      "Epoch 69/1000\n",
      "5/5 [==============================] - 0s 29ms/step - loss: 0.0554 - mae: 0.1792 - val_loss: 0.0602 - val_mae: 0.1923\n",
      "Epoch 70/1000\n",
      "1/5 [=====>........................] - ETA: 0s - loss: 0.0564 - mae: 0.1815"
     ]
    },
    {
     "name": "stderr",
     "output_type": "stream",
     "text": [
      "WARNING:absl:Found untraced functions such as lstm_cell_layer_call_fn, lstm_cell_layer_call_and_return_conditional_losses while saving (showing 2 of 2). These functions will not be directly callable after loading.\n"
     ]
    },
    {
     "name": "stdout",
     "output_type": "stream",
     "text": [
      "INFO:tensorflow:Assets written to: C:\\Users\\PARK\\Documents\\LAB\\RNN vs LSTM\\FInal Example\\wandb\\run-20221016_102433-155iu2s1\\files\\model-best\\assets\n"
     ]
    },
    {
     "name": "stderr",
     "output_type": "stream",
     "text": [
      "INFO:tensorflow:Assets written to: C:\\Users\\PARK\\Documents\\LAB\\RNN vs LSTM\\FInal Example\\wandb\\run-20221016_102433-155iu2s1\\files\\model-best\\assets\n",
      "\u001b[34m\u001b[1mwandb\u001b[0m: Adding directory to artifact (C:\\Users\\PARK\\Documents\\LAB\\RNN vs LSTM\\FInal Example\\wandb\\run-20221016_102433-155iu2s1\\files\\model-best)... Done. 0.0s\n"
     ]
    },
    {
     "name": "stdout",
     "output_type": "stream",
     "text": [
      "5/5 [==============================] - 4s 876ms/step - loss: 0.0560 - mae: 0.1818 - val_loss: 0.0554 - val_mae: 0.1793\n",
      "Epoch 71/1000\n",
      "5/5 [==============================] - 0s 76ms/step - loss: 0.0553 - mae: 0.1803 - val_loss: 0.0563 - val_mae: 0.1809\n",
      "Epoch 72/1000\n",
      "5/5 [==============================] - 0s 50ms/step - loss: 0.0546 - mae: 0.1785 - val_loss: 0.0566 - val_mae: 0.1820\n",
      "Epoch 73/1000\n",
      "5/5 [==============================] - 0s 41ms/step - loss: 0.0545 - mae: 0.1782 - val_loss: 0.0557 - val_mae: 0.1807\n",
      "Epoch 74/1000\n",
      "5/5 [==============================] - 0s 33ms/step - loss: 0.0545 - mae: 0.1782 - val_loss: 0.0558 - val_mae: 0.1807\n",
      "Epoch 75/1000\n",
      "5/5 [==============================] - 0s 31ms/step - loss: 0.0546 - mae: 0.1782 - val_loss: 0.0560 - val_mae: 0.1813\n",
      "Epoch 76/1000\n",
      "5/5 [==============================] - 0s 30ms/step - loss: 0.0543 - mae: 0.1779 - val_loss: 0.0566 - val_mae: 0.1805\n",
      "Epoch 77/1000\n",
      "5/5 [==============================] - 0s 31ms/step - loss: 0.0541 - mae: 0.1776 - val_loss: 0.0573 - val_mae: 0.1818\n",
      "Epoch 78/1000\n",
      "5/5 [==============================] - 0s 31ms/step - loss: 0.0545 - mae: 0.1785 - val_loss: 0.0554 - val_mae: 0.1800\n",
      "Epoch 79/1000\n",
      "5/5 [==============================] - 0s 29ms/step - loss: 0.0541 - mae: 0.1773 - val_loss: 0.0566 - val_mae: 0.1827\n",
      "Epoch 80/1000\n",
      "5/5 [==============================] - 0s 30ms/step - loss: 0.0541 - mae: 0.1773 - val_loss: 0.0564 - val_mae: 0.1807\n",
      "Epoch 81/1000\n",
      "5/5 [==============================] - 0s 30ms/step - loss: 0.0535 - mae: 0.1764 - val_loss: 0.0564 - val_mae: 0.1810\n",
      "Epoch 82/1000\n",
      "5/5 [==============================] - 0s 30ms/step - loss: 0.0537 - mae: 0.1768 - val_loss: 0.0560 - val_mae: 0.1817\n",
      "Epoch 83/1000\n",
      "5/5 [==============================] - 0s 31ms/step - loss: 0.0539 - mae: 0.1770 - val_loss: 0.0562 - val_mae: 0.1810\n",
      "Epoch 84/1000\n",
      "5/5 [==============================] - 0s 29ms/step - loss: 0.0535 - mae: 0.1769 - val_loss: 0.0556 - val_mae: 0.1797\n",
      "Epoch 85/1000\n",
      "5/5 [==============================] - 0s 29ms/step - loss: 0.0535 - mae: 0.1767 - val_loss: 0.0565 - val_mae: 0.1808\n",
      "Epoch 86/1000\n",
      "5/5 [==============================] - 0s 30ms/step - loss: 0.0535 - mae: 0.1769 - val_loss: 0.0560 - val_mae: 0.1794\n",
      "Epoch 87/1000\n",
      "5/5 [==============================] - 0s 29ms/step - loss: 0.0536 - mae: 0.1769 - val_loss: 0.0554 - val_mae: 0.1785\n",
      "Epoch 88/1000\n",
      "5/5 [==============================] - 0s 29ms/step - loss: 0.0537 - mae: 0.1764 - val_loss: 0.0566 - val_mae: 0.1813\n",
      "Epoch 89/1000\n",
      "1/5 [=====>........................] - ETA: 0s - loss: 0.0570 - mae: 0.1844"
     ]
    },
    {
     "name": "stderr",
     "output_type": "stream",
     "text": [
      "WARNING:absl:Found untraced functions such as lstm_cell_layer_call_fn, lstm_cell_layer_call_and_return_conditional_losses while saving (showing 2 of 2). These functions will not be directly callable after loading.\n"
     ]
    },
    {
     "name": "stdout",
     "output_type": "stream",
     "text": [
      "INFO:tensorflow:Assets written to: C:\\Users\\PARK\\Documents\\LAB\\RNN vs LSTM\\FInal Example\\wandb\\run-20221016_102433-155iu2s1\\files\\model-best\\assets\n"
     ]
    },
    {
     "name": "stderr",
     "output_type": "stream",
     "text": [
      "INFO:tensorflow:Assets written to: C:\\Users\\PARK\\Documents\\LAB\\RNN vs LSTM\\FInal Example\\wandb\\run-20221016_102433-155iu2s1\\files\\model-best\\assets\n",
      "\u001b[34m\u001b[1mwandb\u001b[0m: Adding directory to artifact (C:\\Users\\PARK\\Documents\\LAB\\RNN vs LSTM\\FInal Example\\wandb\\run-20221016_102433-155iu2s1\\files\\model-best)... Done. 0.0s\n"
     ]
    },
    {
     "name": "stdout",
     "output_type": "stream",
     "text": [
      "5/5 [==============================] - 3s 864ms/step - loss: 0.0530 - mae: 0.1759 - val_loss: 0.0548 - val_mae: 0.1792\n",
      "Epoch 90/1000\n",
      "5/5 [==============================] - 0s 78ms/step - loss: 0.0529 - mae: 0.1755 - val_loss: 0.0560 - val_mae: 0.1826\n",
      "Epoch 91/1000\n",
      "5/5 [==============================] - 0s 49ms/step - loss: 0.0538 - mae: 0.1780 - val_loss: 0.0554 - val_mae: 0.1792\n",
      "Epoch 92/1000\n",
      "5/5 [==============================] - 0s 41ms/step - loss: 0.0533 - mae: 0.1767 - val_loss: 0.0589 - val_mae: 0.1833\n",
      "Epoch 93/1000\n",
      "5/5 [==============================] - 0s 38ms/step - loss: 0.0546 - mae: 0.1803 - val_loss: 0.0613 - val_mae: 0.1880\n",
      "Epoch 94/1000\n",
      "5/5 [==============================] - 0s 33ms/step - loss: 0.0550 - mae: 0.1799 - val_loss: 0.0553 - val_mae: 0.1789\n",
      "Epoch 95/1000\n",
      "1/5 [=====>........................] - ETA: 0s - loss: 0.0483 - mae: 0.1654"
     ]
    },
    {
     "name": "stderr",
     "output_type": "stream",
     "text": [
      "WARNING:absl:Found untraced functions such as lstm_cell_layer_call_fn, lstm_cell_layer_call_and_return_conditional_losses while saving (showing 2 of 2). These functions will not be directly callable after loading.\n"
     ]
    },
    {
     "name": "stdout",
     "output_type": "stream",
     "text": [
      "INFO:tensorflow:Assets written to: C:\\Users\\PARK\\Documents\\LAB\\RNN vs LSTM\\FInal Example\\wandb\\run-20221016_102433-155iu2s1\\files\\model-best\\assets\n"
     ]
    },
    {
     "name": "stderr",
     "output_type": "stream",
     "text": [
      "INFO:tensorflow:Assets written to: C:\\Users\\PARK\\Documents\\LAB\\RNN vs LSTM\\FInal Example\\wandb\\run-20221016_102433-155iu2s1\\files\\model-best\\assets\n",
      "\u001b[34m\u001b[1mwandb\u001b[0m: Adding directory to artifact (C:\\Users\\PARK\\Documents\\LAB\\RNN vs LSTM\\FInal Example\\wandb\\run-20221016_102433-155iu2s1\\files\\model-best)... Done. 0.0s\n"
     ]
    },
    {
     "name": "stdout",
     "output_type": "stream",
     "text": [
      "5/5 [==============================] - 4s 907ms/step - loss: 0.0530 - mae: 0.1759 - val_loss: 0.0545 - val_mae: 0.1786\n",
      "Epoch 96/1000\n",
      "5/5 [==============================] - 0s 74ms/step - loss: 0.0522 - mae: 0.1739 - val_loss: 0.0580 - val_mae: 0.1889\n",
      "Epoch 97/1000\n",
      "5/5 [==============================] - 0s 54ms/step - loss: 0.0544 - mae: 0.1787 - val_loss: 0.0557 - val_mae: 0.1822\n",
      "Epoch 98/1000\n",
      "5/5 [==============================] - 0s 40ms/step - loss: 0.0537 - mae: 0.1778 - val_loss: 0.0546 - val_mae: 0.1777\n",
      "Epoch 99/1000\n",
      "5/5 [==============================] - 0s 34ms/step - loss: 0.0520 - mae: 0.1740 - val_loss: 0.0545 - val_mae: 0.1779\n",
      "Epoch 100/1000\n",
      "5/5 [==============================] - 0s 29ms/step - loss: 0.0517 - mae: 0.1742 - val_loss: 0.0574 - val_mae: 0.1811\n",
      "Epoch 101/1000\n",
      "1/5 [=====>........................] - ETA: 0s - loss: 0.0577 - mae: 0.1829"
     ]
    },
    {
     "name": "stderr",
     "output_type": "stream",
     "text": [
      "WARNING:absl:Found untraced functions such as lstm_cell_layer_call_fn, lstm_cell_layer_call_and_return_conditional_losses while saving (showing 2 of 2). These functions will not be directly callable after loading.\n"
     ]
    },
    {
     "name": "stdout",
     "output_type": "stream",
     "text": [
      "INFO:tensorflow:Assets written to: C:\\Users\\PARK\\Documents\\LAB\\RNN vs LSTM\\FInal Example\\wandb\\run-20221016_102433-155iu2s1\\files\\model-best\\assets\n"
     ]
    },
    {
     "name": "stderr",
     "output_type": "stream",
     "text": [
      "INFO:tensorflow:Assets written to: C:\\Users\\PARK\\Documents\\LAB\\RNN vs LSTM\\FInal Example\\wandb\\run-20221016_102433-155iu2s1\\files\\model-best\\assets\n",
      "\u001b[34m\u001b[1mwandb\u001b[0m: Adding directory to artifact (C:\\Users\\PARK\\Documents\\LAB\\RNN vs LSTM\\FInal Example\\wandb\\run-20221016_102433-155iu2s1\\files\\model-best)... Done. 0.0s\n"
     ]
    },
    {
     "name": "stdout",
     "output_type": "stream",
     "text": [
      "5/5 [==============================] - 4s 889ms/step - loss: 0.0530 - mae: 0.1760 - val_loss: 0.0545 - val_mae: 0.1774\n",
      "Epoch 102/1000\n",
      "5/5 [==============================] - 0s 72ms/step - loss: 0.0526 - mae: 0.1756 - val_loss: 0.0555 - val_mae: 0.1825\n",
      "Epoch 103/1000\n",
      "5/5 [==============================] - 0s 57ms/step - loss: 0.0533 - mae: 0.1772 - val_loss: 0.0558 - val_mae: 0.1832\n",
      "Epoch 104/1000\n",
      "5/5 [==============================] - 0s 37ms/step - loss: 0.0532 - mae: 0.1760 - val_loss: 0.0564 - val_mae: 0.1863\n",
      "Epoch 105/1000\n",
      "1/5 [=====>........................] - ETA: 0s - loss: 0.0505 - mae: 0.1732"
     ]
    },
    {
     "name": "stderr",
     "output_type": "stream",
     "text": [
      "WARNING:absl:Found untraced functions such as lstm_cell_layer_call_fn, lstm_cell_layer_call_and_return_conditional_losses while saving (showing 2 of 2). These functions will not be directly callable after loading.\n"
     ]
    },
    {
     "name": "stdout",
     "output_type": "stream",
     "text": [
      "INFO:tensorflow:Assets written to: C:\\Users\\PARK\\Documents\\LAB\\RNN vs LSTM\\FInal Example\\wandb\\run-20221016_102433-155iu2s1\\files\\model-best\\assets\n"
     ]
    },
    {
     "name": "stderr",
     "output_type": "stream",
     "text": [
      "INFO:tensorflow:Assets written to: C:\\Users\\PARK\\Documents\\LAB\\RNN vs LSTM\\FInal Example\\wandb\\run-20221016_102433-155iu2s1\\files\\model-best\\assets\n",
      "\u001b[34m\u001b[1mwandb\u001b[0m: Adding directory to artifact (C:\\Users\\PARK\\Documents\\LAB\\RNN vs LSTM\\FInal Example\\wandb\\run-20221016_102433-155iu2s1\\files\\model-best)... Done. 0.0s\n"
     ]
    },
    {
     "name": "stdout",
     "output_type": "stream",
     "text": [
      "5/5 [==============================] - 4s 911ms/step - loss: 0.0543 - mae: 0.1809 - val_loss: 0.0534 - val_mae: 0.1766\n",
      "Epoch 106/1000\n",
      "5/5 [==============================] - 0s 72ms/step - loss: 0.0524 - mae: 0.1763 - val_loss: 0.0558 - val_mae: 0.1798\n",
      "Epoch 107/1000\n",
      "5/5 [==============================] - 0s 50ms/step - loss: 0.0516 - mae: 0.1741 - val_loss: 0.0542 - val_mae: 0.1769\n",
      "Epoch 108/1000\n",
      "5/5 [==============================] - 0s 39ms/step - loss: 0.0515 - mae: 0.1735 - val_loss: 0.0536 - val_mae: 0.1764\n",
      "Epoch 109/1000\n",
      "5/5 [==============================] - 0s 34ms/step - loss: 0.0509 - mae: 0.1724 - val_loss: 0.0552 - val_mae: 0.1842\n",
      "Epoch 110/1000\n",
      "5/5 [==============================] - 0s 32ms/step - loss: 0.0518 - mae: 0.1745 - val_loss: 0.0550 - val_mae: 0.1844\n",
      "Epoch 111/1000\n",
      "1/5 [=====>........................] - ETA: 0s - loss: 0.0524 - mae: 0.1769"
     ]
    },
    {
     "name": "stderr",
     "output_type": "stream",
     "text": [
      "WARNING:absl:Found untraced functions such as lstm_cell_layer_call_fn, lstm_cell_layer_call_and_return_conditional_losses while saving (showing 2 of 2). These functions will not be directly callable after loading.\n"
     ]
    },
    {
     "name": "stdout",
     "output_type": "stream",
     "text": [
      "INFO:tensorflow:Assets written to: C:\\Users\\PARK\\Documents\\LAB\\RNN vs LSTM\\FInal Example\\wandb\\run-20221016_102433-155iu2s1\\files\\model-best\\assets\n"
     ]
    },
    {
     "name": "stderr",
     "output_type": "stream",
     "text": [
      "INFO:tensorflow:Assets written to: C:\\Users\\PARK\\Documents\\LAB\\RNN vs LSTM\\FInal Example\\wandb\\run-20221016_102433-155iu2s1\\files\\model-best\\assets\n",
      "\u001b[34m\u001b[1mwandb\u001b[0m: Adding directory to artifact (C:\\Users\\PARK\\Documents\\LAB\\RNN vs LSTM\\FInal Example\\wandb\\run-20221016_102433-155iu2s1\\files\\model-best)... Done. 0.0s\n"
     ]
    },
    {
     "name": "stdout",
     "output_type": "stream",
     "text": [
      "5/5 [==============================] - 3s 849ms/step - loss: 0.0507 - mae: 0.1737 - val_loss: 0.0530 - val_mae: 0.1761\n",
      "Epoch 112/1000\n",
      "5/5 [==============================] - 0s 73ms/step - loss: 0.0487 - mae: 0.1699 - val_loss: 0.0536 - val_mae: 0.1770\n",
      "Epoch 113/1000\n",
      "4/5 [=======================>......] - ETA: 0s - loss: 0.0496 - mae: 0.1711"
     ]
    },
    {
     "name": "stderr",
     "output_type": "stream",
     "text": [
      "WARNING:absl:Found untraced functions such as lstm_cell_layer_call_fn, lstm_cell_layer_call_and_return_conditional_losses while saving (showing 2 of 2). These functions will not be directly callable after loading.\n"
     ]
    },
    {
     "name": "stdout",
     "output_type": "stream",
     "text": [
      "INFO:tensorflow:Assets written to: C:\\Users\\PARK\\Documents\\LAB\\RNN vs LSTM\\FInal Example\\wandb\\run-20221016_102433-155iu2s1\\files\\model-best\\assets\n"
     ]
    },
    {
     "name": "stderr",
     "output_type": "stream",
     "text": [
      "INFO:tensorflow:Assets written to: C:\\Users\\PARK\\Documents\\LAB\\RNN vs LSTM\\FInal Example\\wandb\\run-20221016_102433-155iu2s1\\files\\model-best\\assets\n",
      "\u001b[34m\u001b[1mwandb\u001b[0m: Adding directory to artifact (C:\\Users\\PARK\\Documents\\LAB\\RNN vs LSTM\\FInal Example\\wandb\\run-20221016_102433-155iu2s1\\files\\model-best)... Done. 0.0s\n"
     ]
    },
    {
     "name": "stdout",
     "output_type": "stream",
     "text": [
      "5/5 [==============================] - 4s 947ms/step - loss: 0.0496 - mae: 0.1710 - val_loss: 0.0521 - val_mae: 0.1768\n",
      "Epoch 114/1000\n",
      "5/5 [==============================] - ETA: 0s - loss: 0.0483 - mae: 0.1695"
     ]
    },
    {
     "name": "stderr",
     "output_type": "stream",
     "text": [
      "WARNING:absl:Found untraced functions such as lstm_cell_layer_call_fn, lstm_cell_layer_call_and_return_conditional_losses while saving (showing 2 of 2). These functions will not be directly callable after loading.\n"
     ]
    },
    {
     "name": "stdout",
     "output_type": "stream",
     "text": [
      "INFO:tensorflow:Assets written to: C:\\Users\\PARK\\Documents\\LAB\\RNN vs LSTM\\FInal Example\\wandb\\run-20221016_102433-155iu2s1\\files\\model-best\\assets\n"
     ]
    },
    {
     "name": "stderr",
     "output_type": "stream",
     "text": [
      "INFO:tensorflow:Assets written to: C:\\Users\\PARK\\Documents\\LAB\\RNN vs LSTM\\FInal Example\\wandb\\run-20221016_102433-155iu2s1\\files\\model-best\\assets\n",
      "\u001b[34m\u001b[1mwandb\u001b[0m: Adding directory to artifact (C:\\Users\\PARK\\Documents\\LAB\\RNN vs LSTM\\FInal Example\\wandb\\run-20221016_102433-155iu2s1\\files\\model-best)... Done. 0.0s\n"
     ]
    },
    {
     "name": "stdout",
     "output_type": "stream",
     "text": [
      "5/5 [==============================] - 4s 902ms/step - loss: 0.0483 - mae: 0.1695 - val_loss: 0.0513 - val_mae: 0.1765\n",
      "Epoch 115/1000\n",
      "5/5 [==============================] - 0s 79ms/step - loss: 0.0474 - mae: 0.1678 - val_loss: 0.0515 - val_mae: 0.1772\n",
      "Epoch 116/1000\n",
      "4/5 [=======================>......] - ETA: 0s - loss: 0.0468 - mae: 0.1661"
     ]
    },
    {
     "name": "stderr",
     "output_type": "stream",
     "text": [
      "WARNING:absl:Found untraced functions such as lstm_cell_layer_call_fn, lstm_cell_layer_call_and_return_conditional_losses while saving (showing 2 of 2). These functions will not be directly callable after loading.\n"
     ]
    },
    {
     "name": "stdout",
     "output_type": "stream",
     "text": [
      "INFO:tensorflow:Assets written to: C:\\Users\\PARK\\Documents\\LAB\\RNN vs LSTM\\FInal Example\\wandb\\run-20221016_102433-155iu2s1\\files\\model-best\\assets\n"
     ]
    },
    {
     "name": "stderr",
     "output_type": "stream",
     "text": [
      "INFO:tensorflow:Assets written to: C:\\Users\\PARK\\Documents\\LAB\\RNN vs LSTM\\FInal Example\\wandb\\run-20221016_102433-155iu2s1\\files\\model-best\\assets\n",
      "\u001b[34m\u001b[1mwandb\u001b[0m: Adding directory to artifact (C:\\Users\\PARK\\Documents\\LAB\\RNN vs LSTM\\FInal Example\\wandb\\run-20221016_102433-155iu2s1\\files\\model-best)... Done. 0.0s\n"
     ]
    },
    {
     "name": "stdout",
     "output_type": "stream",
     "text": [
      "5/5 [==============================] - 4s 913ms/step - loss: 0.0468 - mae: 0.1665 - val_loss: 0.0511 - val_mae: 0.1746\n",
      "Epoch 117/1000\n",
      "5/5 [==============================] - ETA: 0s - loss: 0.0469 - mae: 0.1666"
     ]
    },
    {
     "name": "stderr",
     "output_type": "stream",
     "text": [
      "WARNING:absl:Found untraced functions such as lstm_cell_layer_call_fn, lstm_cell_layer_call_and_return_conditional_losses while saving (showing 2 of 2). These functions will not be directly callable after loading.\n"
     ]
    },
    {
     "name": "stdout",
     "output_type": "stream",
     "text": [
      "INFO:tensorflow:Assets written to: C:\\Users\\PARK\\Documents\\LAB\\RNN vs LSTM\\FInal Example\\wandb\\run-20221016_102433-155iu2s1\\files\\model-best\\assets\n"
     ]
    },
    {
     "name": "stderr",
     "output_type": "stream",
     "text": [
      "INFO:tensorflow:Assets written to: C:\\Users\\PARK\\Documents\\LAB\\RNN vs LSTM\\FInal Example\\wandb\\run-20221016_102433-155iu2s1\\files\\model-best\\assets\n",
      "\u001b[34m\u001b[1mwandb\u001b[0m: Adding directory to artifact (C:\\Users\\PARK\\Documents\\LAB\\RNN vs LSTM\\FInal Example\\wandb\\run-20221016_102433-155iu2s1\\files\\model-best)... Done. 0.0s\n"
     ]
    },
    {
     "name": "stdout",
     "output_type": "stream",
     "text": [
      "5/5 [==============================] - 4s 938ms/step - loss: 0.0469 - mae: 0.1666 - val_loss: 0.0505 - val_mae: 0.1730\n",
      "Epoch 118/1000\n",
      "5/5 [==============================] - 0s 76ms/step - loss: 0.0470 - mae: 0.1673 - val_loss: 0.0521 - val_mae: 0.1749\n",
      "Epoch 119/1000\n",
      "4/5 [=======================>......] - ETA: 0s - loss: 0.0466 - mae: 0.1668"
     ]
    },
    {
     "name": "stderr",
     "output_type": "stream",
     "text": [
      "WARNING:absl:Found untraced functions such as lstm_cell_layer_call_fn, lstm_cell_layer_call_and_return_conditional_losses while saving (showing 2 of 2). These functions will not be directly callable after loading.\n"
     ]
    },
    {
     "name": "stdout",
     "output_type": "stream",
     "text": [
      "INFO:tensorflow:Assets written to: C:\\Users\\PARK\\Documents\\LAB\\RNN vs LSTM\\FInal Example\\wandb\\run-20221016_102433-155iu2s1\\files\\model-best\\assets\n"
     ]
    },
    {
     "name": "stderr",
     "output_type": "stream",
     "text": [
      "INFO:tensorflow:Assets written to: C:\\Users\\PARK\\Documents\\LAB\\RNN vs LSTM\\FInal Example\\wandb\\run-20221016_102433-155iu2s1\\files\\model-best\\assets\n",
      "\u001b[34m\u001b[1mwandb\u001b[0m: Adding directory to artifact (C:\\Users\\PARK\\Documents\\LAB\\RNN vs LSTM\\FInal Example\\wandb\\run-20221016_102433-155iu2s1\\files\\model-best)... Done. 0.0s\n"
     ]
    },
    {
     "name": "stdout",
     "output_type": "stream",
     "text": [
      "5/5 [==============================] - 4s 916ms/step - loss: 0.0469 - mae: 0.1674 - val_loss: 0.0495 - val_mae: 0.1722\n",
      "Epoch 120/1000\n",
      "4/5 [=======================>......] - ETA: 0s - loss: 0.0466 - mae: 0.1666"
     ]
    },
    {
     "name": "stderr",
     "output_type": "stream",
     "text": [
      "WARNING:absl:Found untraced functions such as lstm_cell_layer_call_fn, lstm_cell_layer_call_and_return_conditional_losses while saving (showing 2 of 2). These functions will not be directly callable after loading.\n"
     ]
    },
    {
     "name": "stdout",
     "output_type": "stream",
     "text": [
      "INFO:tensorflow:Assets written to: C:\\Users\\PARK\\Documents\\LAB\\RNN vs LSTM\\FInal Example\\wandb\\run-20221016_102433-155iu2s1\\files\\model-best\\assets\n"
     ]
    },
    {
     "name": "stderr",
     "output_type": "stream",
     "text": [
      "INFO:tensorflow:Assets written to: C:\\Users\\PARK\\Documents\\LAB\\RNN vs LSTM\\FInal Example\\wandb\\run-20221016_102433-155iu2s1\\files\\model-best\\assets\n",
      "\u001b[34m\u001b[1mwandb\u001b[0m: Adding directory to artifact (C:\\Users\\PARK\\Documents\\LAB\\RNN vs LSTM\\FInal Example\\wandb\\run-20221016_102433-155iu2s1\\files\\model-best)... Done. 0.0s\n"
     ]
    },
    {
     "name": "stdout",
     "output_type": "stream",
     "text": [
      "5/5 [==============================] - 4s 883ms/step - loss: 0.0465 - mae: 0.1663 - val_loss: 0.0490 - val_mae: 0.1720\n",
      "Epoch 121/1000\n",
      "5/5 [==============================] - 0s 76ms/step - loss: 0.0470 - mae: 0.1680 - val_loss: 0.0535 - val_mae: 0.1815\n",
      "Epoch 122/1000\n",
      "5/5 [==============================] - 0s 51ms/step - loss: 0.0475 - mae: 0.1684 - val_loss: 0.0507 - val_mae: 0.1744\n",
      "Epoch 123/1000\n",
      "5/5 [==============================] - ETA: 0s - loss: 0.0457 - mae: 0.1647"
     ]
    },
    {
     "name": "stderr",
     "output_type": "stream",
     "text": [
      "WARNING:absl:Found untraced functions such as lstm_cell_layer_call_fn, lstm_cell_layer_call_and_return_conditional_losses while saving (showing 2 of 2). These functions will not be directly callable after loading.\n"
     ]
    },
    {
     "name": "stdout",
     "output_type": "stream",
     "text": [
      "INFO:tensorflow:Assets written to: C:\\Users\\PARK\\Documents\\LAB\\RNN vs LSTM\\FInal Example\\wandb\\run-20221016_102433-155iu2s1\\files\\model-best\\assets\n"
     ]
    },
    {
     "name": "stderr",
     "output_type": "stream",
     "text": [
      "INFO:tensorflow:Assets written to: C:\\Users\\PARK\\Documents\\LAB\\RNN vs LSTM\\FInal Example\\wandb\\run-20221016_102433-155iu2s1\\files\\model-best\\assets\n",
      "\u001b[34m\u001b[1mwandb\u001b[0m: Adding directory to artifact (C:\\Users\\PARK\\Documents\\LAB\\RNN vs LSTM\\FInal Example\\wandb\\run-20221016_102433-155iu2s1\\files\\model-best)... Done. 0.0s\n"
     ]
    },
    {
     "name": "stdout",
     "output_type": "stream",
     "text": [
      "5/5 [==============================] - 4s 918ms/step - loss: 0.0457 - mae: 0.1647 - val_loss: 0.0486 - val_mae: 0.1700\n",
      "Epoch 124/1000\n",
      "5/5 [==============================] - 0s 71ms/step - loss: 0.0450 - mae: 0.1629 - val_loss: 0.0489 - val_mae: 0.1695\n",
      "Epoch 125/1000\n",
      "5/5 [==============================] - ETA: 0s - loss: 0.0452 - mae: 0.1631"
     ]
    },
    {
     "name": "stderr",
     "output_type": "stream",
     "text": [
      "WARNING:absl:Found untraced functions such as lstm_cell_layer_call_fn, lstm_cell_layer_call_and_return_conditional_losses while saving (showing 2 of 2). These functions will not be directly callable after loading.\n"
     ]
    },
    {
     "name": "stdout",
     "output_type": "stream",
     "text": [
      "INFO:tensorflow:Assets written to: C:\\Users\\PARK\\Documents\\LAB\\RNN vs LSTM\\FInal Example\\wandb\\run-20221016_102433-155iu2s1\\files\\model-best\\assets\n"
     ]
    },
    {
     "name": "stderr",
     "output_type": "stream",
     "text": [
      "INFO:tensorflow:Assets written to: C:\\Users\\PARK\\Documents\\LAB\\RNN vs LSTM\\FInal Example\\wandb\\run-20221016_102433-155iu2s1\\files\\model-best\\assets\n",
      "\u001b[34m\u001b[1mwandb\u001b[0m: Adding directory to artifact (C:\\Users\\PARK\\Documents\\LAB\\RNN vs LSTM\\FInal Example\\wandb\\run-20221016_102433-155iu2s1\\files\\model-best)... Done. 0.0s\n"
     ]
    },
    {
     "name": "stdout",
     "output_type": "stream",
     "text": [
      "5/5 [==============================] - 4s 905ms/step - loss: 0.0452 - mae: 0.1631 - val_loss: 0.0485 - val_mae: 0.1693\n",
      "Epoch 126/1000\n",
      "3/5 [=================>............] - ETA: 0s - loss: 0.0458 - mae: 0.1639"
     ]
    },
    {
     "name": "stderr",
     "output_type": "stream",
     "text": [
      "WARNING:absl:Found untraced functions such as lstm_cell_layer_call_fn, lstm_cell_layer_call_and_return_conditional_losses while saving (showing 2 of 2). These functions will not be directly callable after loading.\n"
     ]
    },
    {
     "name": "stdout",
     "output_type": "stream",
     "text": [
      "INFO:tensorflow:Assets written to: C:\\Users\\PARK\\Documents\\LAB\\RNN vs LSTM\\FInal Example\\wandb\\run-20221016_102433-155iu2s1\\files\\model-best\\assets\n"
     ]
    },
    {
     "name": "stderr",
     "output_type": "stream",
     "text": [
      "INFO:tensorflow:Assets written to: C:\\Users\\PARK\\Documents\\LAB\\RNN vs LSTM\\FInal Example\\wandb\\run-20221016_102433-155iu2s1\\files\\model-best\\assets\n",
      "\u001b[34m\u001b[1mwandb\u001b[0m: Adding directory to artifact (C:\\Users\\PARK\\Documents\\LAB\\RNN vs LSTM\\FInal Example\\wandb\\run-20221016_102433-155iu2s1\\files\\model-best)... Done. 0.0s\n"
     ]
    },
    {
     "name": "stdout",
     "output_type": "stream",
     "text": [
      "5/5 [==============================] - 4s 947ms/step - loss: 0.0445 - mae: 0.1623 - val_loss: 0.0478 - val_mae: 0.1690\n",
      "Epoch 127/1000\n",
      "5/5 [==============================] - 0s 72ms/step - loss: 0.0439 - mae: 0.1606 - val_loss: 0.0482 - val_mae: 0.1697\n",
      "Epoch 128/1000\n",
      "4/5 [=======================>......] - ETA: 0s - loss: 0.0438 - mae: 0.1606"
     ]
    },
    {
     "name": "stderr",
     "output_type": "stream",
     "text": [
      "WARNING:absl:Found untraced functions such as lstm_cell_layer_call_fn, lstm_cell_layer_call_and_return_conditional_losses while saving (showing 2 of 2). These functions will not be directly callable after loading.\n"
     ]
    },
    {
     "name": "stdout",
     "output_type": "stream",
     "text": [
      "INFO:tensorflow:Assets written to: C:\\Users\\PARK\\Documents\\LAB\\RNN vs LSTM\\FInal Example\\wandb\\run-20221016_102433-155iu2s1\\files\\model-best\\assets\n"
     ]
    },
    {
     "name": "stderr",
     "output_type": "stream",
     "text": [
      "INFO:tensorflow:Assets written to: C:\\Users\\PARK\\Documents\\LAB\\RNN vs LSTM\\FInal Example\\wandb\\run-20221016_102433-155iu2s1\\files\\model-best\\assets\n",
      "\u001b[34m\u001b[1mwandb\u001b[0m: Adding directory to artifact (C:\\Users\\PARK\\Documents\\LAB\\RNN vs LSTM\\FInal Example\\wandb\\run-20221016_102433-155iu2s1\\files\\model-best)... Done. 0.0s\n"
     ]
    },
    {
     "name": "stdout",
     "output_type": "stream",
     "text": [
      "5/5 [==============================] - 4s 902ms/step - loss: 0.0439 - mae: 0.1612 - val_loss: 0.0472 - val_mae: 0.1687\n",
      "Epoch 129/1000\n",
      "5/5 [==============================] - 0s 74ms/step - loss: 0.0435 - mae: 0.1609 - val_loss: 0.0473 - val_mae: 0.1687\n",
      "Epoch 130/1000\n",
      "1/5 [=====>........................] - ETA: 0s - loss: 0.0458 - mae: 0.1644"
     ]
    },
    {
     "name": "stderr",
     "output_type": "stream",
     "text": [
      "WARNING:absl:Found untraced functions such as lstm_cell_layer_call_fn, lstm_cell_layer_call_and_return_conditional_losses while saving (showing 2 of 2). These functions will not be directly callable after loading.\n"
     ]
    },
    {
     "name": "stdout",
     "output_type": "stream",
     "text": [
      "INFO:tensorflow:Assets written to: C:\\Users\\PARK\\Documents\\LAB\\RNN vs LSTM\\FInal Example\\wandb\\run-20221016_102433-155iu2s1\\files\\model-best\\assets\n"
     ]
    },
    {
     "name": "stderr",
     "output_type": "stream",
     "text": [
      "INFO:tensorflow:Assets written to: C:\\Users\\PARK\\Documents\\LAB\\RNN vs LSTM\\FInal Example\\wandb\\run-20221016_102433-155iu2s1\\files\\model-best\\assets\n",
      "\u001b[34m\u001b[1mwandb\u001b[0m: Adding directory to artifact (C:\\Users\\PARK\\Documents\\LAB\\RNN vs LSTM\\FInal Example\\wandb\\run-20221016_102433-155iu2s1\\files\\model-best)... Done. 0.0s\n"
     ]
    },
    {
     "name": "stdout",
     "output_type": "stream",
     "text": [
      "5/5 [==============================] - 4s 916ms/step - loss: 0.0440 - mae: 0.1612 - val_loss: 0.0468 - val_mae: 0.1656\n",
      "Epoch 131/1000\n",
      "5/5 [==============================] - 0s 75ms/step - loss: 0.0432 - mae: 0.1594 - val_loss: 0.0469 - val_mae: 0.1671\n",
      "Epoch 132/1000\n",
      "4/5 [=======================>......] - ETA: 0s - loss: 0.0423 - mae: 0.1576"
     ]
    },
    {
     "name": "stderr",
     "output_type": "stream",
     "text": [
      "WARNING:absl:Found untraced functions such as lstm_cell_layer_call_fn, lstm_cell_layer_call_and_return_conditional_losses while saving (showing 2 of 2). These functions will not be directly callable after loading.\n"
     ]
    },
    {
     "name": "stdout",
     "output_type": "stream",
     "text": [
      "INFO:tensorflow:Assets written to: C:\\Users\\PARK\\Documents\\LAB\\RNN vs LSTM\\FInal Example\\wandb\\run-20221016_102433-155iu2s1\\files\\model-best\\assets\n"
     ]
    },
    {
     "name": "stderr",
     "output_type": "stream",
     "text": [
      "INFO:tensorflow:Assets written to: C:\\Users\\PARK\\Documents\\LAB\\RNN vs LSTM\\FInal Example\\wandb\\run-20221016_102433-155iu2s1\\files\\model-best\\assets\n",
      "\u001b[34m\u001b[1mwandb\u001b[0m: Adding directory to artifact (C:\\Users\\PARK\\Documents\\LAB\\RNN vs LSTM\\FInal Example\\wandb\\run-20221016_102433-155iu2s1\\files\\model-best)... Done. 0.0s\n"
     ]
    },
    {
     "name": "stdout",
     "output_type": "stream",
     "text": [
      "5/5 [==============================] - 4s 871ms/step - loss: 0.0430 - mae: 0.1589 - val_loss: 0.0463 - val_mae: 0.1654\n",
      "Epoch 133/1000\n",
      "5/5 [==============================] - 0s 74ms/step - loss: 0.0430 - mae: 0.1593 - val_loss: 0.0465 - val_mae: 0.1656\n",
      "Epoch 134/1000\n",
      "5/5 [==============================] - 0s 45ms/step - loss: 0.0428 - mae: 0.1593 - val_loss: 0.0465 - val_mae: 0.1649\n",
      "Epoch 135/1000\n",
      "5/5 [==============================] - 0s 26ms/step - loss: 0.0425 - mae: 0.1575 - val_loss: 0.0465 - val_mae: 0.1662\n",
      "Epoch 136/1000\n",
      "1/5 [=====>........................] - ETA: 0s - loss: 0.0451 - mae: 0.1629"
     ]
    },
    {
     "name": "stderr",
     "output_type": "stream",
     "text": [
      "WARNING:absl:Found untraced functions such as lstm_cell_layer_call_fn, lstm_cell_layer_call_and_return_conditional_losses while saving (showing 2 of 2). These functions will not be directly callable after loading.\n"
     ]
    },
    {
     "name": "stdout",
     "output_type": "stream",
     "text": [
      "INFO:tensorflow:Assets written to: C:\\Users\\PARK\\Documents\\LAB\\RNN vs LSTM\\FInal Example\\wandb\\run-20221016_102433-155iu2s1\\files\\model-best\\assets\n"
     ]
    },
    {
     "name": "stderr",
     "output_type": "stream",
     "text": [
      "INFO:tensorflow:Assets written to: C:\\Users\\PARK\\Documents\\LAB\\RNN vs LSTM\\FInal Example\\wandb\\run-20221016_102433-155iu2s1\\files\\model-best\\assets\n",
      "\u001b[34m\u001b[1mwandb\u001b[0m: Adding directory to artifact (C:\\Users\\PARK\\Documents\\LAB\\RNN vs LSTM\\FInal Example\\wandb\\run-20221016_102433-155iu2s1\\files\\model-best)... Done. 0.0s\n"
     ]
    },
    {
     "name": "stdout",
     "output_type": "stream",
     "text": [
      "5/5 [==============================] - 4s 911ms/step - loss: 0.0426 - mae: 0.1580 - val_loss: 0.0462 - val_mae: 0.1658\n",
      "Epoch 137/1000\n",
      "3/5 [=================>............] - ETA: 0s - loss: 0.0422 - mae: 0.1575"
     ]
    },
    {
     "name": "stderr",
     "output_type": "stream",
     "text": [
      "WARNING:absl:Found untraced functions such as lstm_cell_layer_call_fn, lstm_cell_layer_call_and_return_conditional_losses while saving (showing 2 of 2). These functions will not be directly callable after loading.\n"
     ]
    },
    {
     "name": "stdout",
     "output_type": "stream",
     "text": [
      "INFO:tensorflow:Assets written to: C:\\Users\\PARK\\Documents\\LAB\\RNN vs LSTM\\FInal Example\\wandb\\run-20221016_102433-155iu2s1\\files\\model-best\\assets\n"
     ]
    },
    {
     "name": "stderr",
     "output_type": "stream",
     "text": [
      "INFO:tensorflow:Assets written to: C:\\Users\\PARK\\Documents\\LAB\\RNN vs LSTM\\FInal Example\\wandb\\run-20221016_102433-155iu2s1\\files\\model-best\\assets\n",
      "\u001b[34m\u001b[1mwandb\u001b[0m: Adding directory to artifact (C:\\Users\\PARK\\Documents\\LAB\\RNN vs LSTM\\FInal Example\\wandb\\run-20221016_102433-155iu2s1\\files\\model-best)... Done. 0.0s\n"
     ]
    },
    {
     "name": "stdout",
     "output_type": "stream",
     "text": [
      "5/5 [==============================] - 4s 937ms/step - loss: 0.0426 - mae: 0.1586 - val_loss: 0.0457 - val_mae: 0.1637\n",
      "Epoch 138/1000\n",
      "5/5 [==============================] - 0s 72ms/step - loss: 0.0425 - mae: 0.1579 - val_loss: 0.0458 - val_mae: 0.1630\n",
      "Epoch 139/1000\n",
      "5/5 [==============================] - ETA: 0s - loss: 0.0425 - mae: 0.1569"
     ]
    },
    {
     "name": "stderr",
     "output_type": "stream",
     "text": [
      "WARNING:absl:Found untraced functions such as lstm_cell_layer_call_fn, lstm_cell_layer_call_and_return_conditional_losses while saving (showing 2 of 2). These functions will not be directly callable after loading.\n"
     ]
    },
    {
     "name": "stdout",
     "output_type": "stream",
     "text": [
      "INFO:tensorflow:Assets written to: C:\\Users\\PARK\\Documents\\LAB\\RNN vs LSTM\\FInal Example\\wandb\\run-20221016_102433-155iu2s1\\files\\model-best\\assets\n"
     ]
    },
    {
     "name": "stderr",
     "output_type": "stream",
     "text": [
      "INFO:tensorflow:Assets written to: C:\\Users\\PARK\\Documents\\LAB\\RNN vs LSTM\\FInal Example\\wandb\\run-20221016_102433-155iu2s1\\files\\model-best\\assets\n",
      "\u001b[34m\u001b[1mwandb\u001b[0m: Adding directory to artifact (C:\\Users\\PARK\\Documents\\LAB\\RNN vs LSTM\\FInal Example\\wandb\\run-20221016_102433-155iu2s1\\files\\model-best)... Done. 0.0s\n"
     ]
    },
    {
     "name": "stdout",
     "output_type": "stream",
     "text": [
      "5/5 [==============================] - 4s 934ms/step - loss: 0.0425 - mae: 0.1569 - val_loss: 0.0456 - val_mae: 0.1635\n",
      "Epoch 140/1000\n",
      "5/5 [==============================] - 0s 72ms/step - loss: 0.0421 - mae: 0.1570 - val_loss: 0.0459 - val_mae: 0.1635\n",
      "Epoch 141/1000\n",
      "5/5 [==============================] - 0s 45ms/step - loss: 0.0423 - mae: 0.1575 - val_loss: 0.0456 - val_mae: 0.1634\n",
      "Epoch 142/1000\n",
      "1/5 [=====>........................] - ETA: 0s - loss: 0.0422 - mae: 0.1552"
     ]
    },
    {
     "name": "stderr",
     "output_type": "stream",
     "text": [
      "WARNING:absl:Found untraced functions such as lstm_cell_layer_call_fn, lstm_cell_layer_call_and_return_conditional_losses while saving (showing 2 of 2). These functions will not be directly callable after loading.\n"
     ]
    },
    {
     "name": "stdout",
     "output_type": "stream",
     "text": [
      "INFO:tensorflow:Assets written to: C:\\Users\\PARK\\Documents\\LAB\\RNN vs LSTM\\FInal Example\\wandb\\run-20221016_102433-155iu2s1\\files\\model-best\\assets\n"
     ]
    },
    {
     "name": "stderr",
     "output_type": "stream",
     "text": [
      "INFO:tensorflow:Assets written to: C:\\Users\\PARK\\Documents\\LAB\\RNN vs LSTM\\FInal Example\\wandb\\run-20221016_102433-155iu2s1\\files\\model-best\\assets\n",
      "\u001b[34m\u001b[1mwandb\u001b[0m: Adding directory to artifact (C:\\Users\\PARK\\Documents\\LAB\\RNN vs LSTM\\FInal Example\\wandb\\run-20221016_102433-155iu2s1\\files\\model-best)... Done. 0.0s\n"
     ]
    },
    {
     "name": "stdout",
     "output_type": "stream",
     "text": [
      "5/5 [==============================] - 4s 887ms/step - loss: 0.0422 - mae: 0.1570 - val_loss: 0.0449 - val_mae: 0.1611\n",
      "Epoch 143/1000\n",
      "5/5 [==============================] - 0s 70ms/step - loss: 0.0419 - mae: 0.1561 - val_loss: 0.0456 - val_mae: 0.1632\n",
      "Epoch 144/1000\n",
      "5/5 [==============================] - 0s 48ms/step - loss: 0.0424 - mae: 0.1578 - val_loss: 0.0453 - val_mae: 0.1625\n",
      "Epoch 145/1000\n",
      "5/5 [==============================] - 0s 39ms/step - loss: 0.0417 - mae: 0.1555 - val_loss: 0.0450 - val_mae: 0.1609\n",
      "Epoch 146/1000\n",
      "5/5 [==============================] - 0s 37ms/step - loss: 0.0415 - mae: 0.1551 - val_loss: 0.0449 - val_mae: 0.1614\n",
      "Epoch 147/1000\n",
      "1/5 [=====>........................] - ETA: 0s - loss: 0.0427 - mae: 0.1573"
     ]
    },
    {
     "name": "stderr",
     "output_type": "stream",
     "text": [
      "WARNING:absl:Found untraced functions such as lstm_cell_layer_call_fn, lstm_cell_layer_call_and_return_conditional_losses while saving (showing 2 of 2). These functions will not be directly callable after loading.\n"
     ]
    },
    {
     "name": "stdout",
     "output_type": "stream",
     "text": [
      "INFO:tensorflow:Assets written to: C:\\Users\\PARK\\Documents\\LAB\\RNN vs LSTM\\FInal Example\\wandb\\run-20221016_102433-155iu2s1\\files\\model-best\\assets\n"
     ]
    },
    {
     "name": "stderr",
     "output_type": "stream",
     "text": [
      "INFO:tensorflow:Assets written to: C:\\Users\\PARK\\Documents\\LAB\\RNN vs LSTM\\FInal Example\\wandb\\run-20221016_102433-155iu2s1\\files\\model-best\\assets\n",
      "\u001b[34m\u001b[1mwandb\u001b[0m: Adding directory to artifact (C:\\Users\\PARK\\Documents\\LAB\\RNN vs LSTM\\FInal Example\\wandb\\run-20221016_102433-155iu2s1\\files\\model-best)... Done. 0.0s\n"
     ]
    },
    {
     "name": "stdout",
     "output_type": "stream",
     "text": [
      "5/5 [==============================] - 3s 854ms/step - loss: 0.0414 - mae: 0.1559 - val_loss: 0.0448 - val_mae: 0.1618\n",
      "Epoch 148/1000\n",
      "5/5 [==============================] - ETA: 0s - loss: 0.0417 - mae: 0.1556"
     ]
    },
    {
     "name": "stderr",
     "output_type": "stream",
     "text": [
      "WARNING:absl:Found untraced functions such as lstm_cell_layer_call_fn, lstm_cell_layer_call_and_return_conditional_losses while saving (showing 2 of 2). These functions will not be directly callable after loading.\n"
     ]
    },
    {
     "name": "stdout",
     "output_type": "stream",
     "text": [
      "INFO:tensorflow:Assets written to: C:\\Users\\PARK\\Documents\\LAB\\RNN vs LSTM\\FInal Example\\wandb\\run-20221016_102433-155iu2s1\\files\\model-best\\assets\n"
     ]
    },
    {
     "name": "stderr",
     "output_type": "stream",
     "text": [
      "INFO:tensorflow:Assets written to: C:\\Users\\PARK\\Documents\\LAB\\RNN vs LSTM\\FInal Example\\wandb\\run-20221016_102433-155iu2s1\\files\\model-best\\assets\n",
      "\u001b[34m\u001b[1mwandb\u001b[0m: Adding directory to artifact (C:\\Users\\PARK\\Documents\\LAB\\RNN vs LSTM\\FInal Example\\wandb\\run-20221016_102433-155iu2s1\\files\\model-best)... Done. 0.0s\n"
     ]
    },
    {
     "name": "stdout",
     "output_type": "stream",
     "text": [
      "5/5 [==============================] - 4s 963ms/step - loss: 0.0417 - mae: 0.1556 - val_loss: 0.0442 - val_mae: 0.1601\n",
      "Epoch 149/1000\n",
      "5/5 [==============================] - 0s 81ms/step - loss: 0.0411 - mae: 0.1544 - val_loss: 0.0443 - val_mae: 0.1610\n",
      "Epoch 150/1000\n",
      "5/5 [==============================] - 0s 51ms/step - loss: 0.0412 - mae: 0.1549 - val_loss: 0.0453 - val_mae: 0.1618\n",
      "Epoch 151/1000\n",
      "5/5 [==============================] - 0s 43ms/step - loss: 0.0426 - mae: 0.1567 - val_loss: 0.0449 - val_mae: 0.1610\n",
      "Epoch 152/1000\n",
      "1/5 [=====>........................] - ETA: 0s - loss: 0.0442 - mae: 0.1634"
     ]
    },
    {
     "name": "stderr",
     "output_type": "stream",
     "text": [
      "WARNING:absl:Found untraced functions such as lstm_cell_layer_call_fn, lstm_cell_layer_call_and_return_conditional_losses while saving (showing 2 of 2). These functions will not be directly callable after loading.\n"
     ]
    },
    {
     "name": "stdout",
     "output_type": "stream",
     "text": [
      "INFO:tensorflow:Assets written to: C:\\Users\\PARK\\Documents\\LAB\\RNN vs LSTM\\FInal Example\\wandb\\run-20221016_102433-155iu2s1\\files\\model-best\\assets\n"
     ]
    },
    {
     "name": "stderr",
     "output_type": "stream",
     "text": [
      "INFO:tensorflow:Assets written to: C:\\Users\\PARK\\Documents\\LAB\\RNN vs LSTM\\FInal Example\\wandb\\run-20221016_102433-155iu2s1\\files\\model-best\\assets\n",
      "\u001b[34m\u001b[1mwandb\u001b[0m: Adding directory to artifact (C:\\Users\\PARK\\Documents\\LAB\\RNN vs LSTM\\FInal Example\\wandb\\run-20221016_102433-155iu2s1\\files\\model-best)... Done. 0.0s\n"
     ]
    },
    {
     "name": "stdout",
     "output_type": "stream",
     "text": [
      "5/5 [==============================] - 4s 893ms/step - loss: 0.0421 - mae: 0.1564 - val_loss: 0.0442 - val_mae: 0.1599\n",
      "Epoch 153/1000\n",
      "5/5 [==============================] - 0s 70ms/step - loss: 0.0417 - mae: 0.1557 - val_loss: 0.0443 - val_mae: 0.1611\n",
      "Epoch 154/1000\n",
      "5/5 [==============================] - 0s 49ms/step - loss: 0.0418 - mae: 0.1554 - val_loss: 0.0444 - val_mae: 0.1601\n",
      "Epoch 155/1000\n",
      "5/5 [==============================] - 0s 39ms/step - loss: 0.0409 - mae: 0.1536 - val_loss: 0.0444 - val_mae: 0.1614\n",
      "Epoch 156/1000\n",
      "5/5 [==============================] - 0s 34ms/step - loss: 0.0411 - mae: 0.1542 - val_loss: 0.0455 - val_mae: 0.1644\n",
      "Epoch 157/1000\n",
      "1/5 [=====>........................] - ETA: 0s - loss: 0.0468 - mae: 0.1660"
     ]
    },
    {
     "name": "stderr",
     "output_type": "stream",
     "text": [
      "WARNING:absl:Found untraced functions such as lstm_cell_layer_call_fn, lstm_cell_layer_call_and_return_conditional_losses while saving (showing 2 of 2). These functions will not be directly callable after loading.\n"
     ]
    },
    {
     "name": "stdout",
     "output_type": "stream",
     "text": [
      "INFO:tensorflow:Assets written to: C:\\Users\\PARK\\Documents\\LAB\\RNN vs LSTM\\FInal Example\\wandb\\run-20221016_102433-155iu2s1\\files\\model-best\\assets\n"
     ]
    },
    {
     "name": "stderr",
     "output_type": "stream",
     "text": [
      "INFO:tensorflow:Assets written to: C:\\Users\\PARK\\Documents\\LAB\\RNN vs LSTM\\FInal Example\\wandb\\run-20221016_102433-155iu2s1\\files\\model-best\\assets\n",
      "\u001b[34m\u001b[1mwandb\u001b[0m: Adding directory to artifact (C:\\Users\\PARK\\Documents\\LAB\\RNN vs LSTM\\FInal Example\\wandb\\run-20221016_102433-155iu2s1\\files\\model-best)... Done. 0.0s\n"
     ]
    },
    {
     "name": "stdout",
     "output_type": "stream",
     "text": [
      "5/5 [==============================] - 3s 844ms/step - loss: 0.0416 - mae: 0.1559 - val_loss: 0.0439 - val_mae: 0.1594\n",
      "Epoch 158/1000\n",
      "5/5 [==============================] - 0s 77ms/step - loss: 0.0406 - mae: 0.1532 - val_loss: 0.0440 - val_mae: 0.1592\n",
      "Epoch 159/1000\n",
      "3/5 [=================>............] - ETA: 0s - loss: 0.0416 - mae: 0.1549"
     ]
    },
    {
     "name": "stderr",
     "output_type": "stream",
     "text": [
      "WARNING:absl:Found untraced functions such as lstm_cell_layer_call_fn, lstm_cell_layer_call_and_return_conditional_losses while saving (showing 2 of 2). These functions will not be directly callable after loading.\n"
     ]
    },
    {
     "name": "stdout",
     "output_type": "stream",
     "text": [
      "INFO:tensorflow:Assets written to: C:\\Users\\PARK\\Documents\\LAB\\RNN vs LSTM\\FInal Example\\wandb\\run-20221016_102433-155iu2s1\\files\\model-best\\assets\n"
     ]
    },
    {
     "name": "stderr",
     "output_type": "stream",
     "text": [
      "INFO:tensorflow:Assets written to: C:\\Users\\PARK\\Documents\\LAB\\RNN vs LSTM\\FInal Example\\wandb\\run-20221016_102433-155iu2s1\\files\\model-best\\assets\n",
      "\u001b[34m\u001b[1mwandb\u001b[0m: Adding directory to artifact (C:\\Users\\PARK\\Documents\\LAB\\RNN vs LSTM\\FInal Example\\wandb\\run-20221016_102433-155iu2s1\\files\\model-best)... Done. 0.0s\n"
     ]
    },
    {
     "name": "stdout",
     "output_type": "stream",
     "text": [
      "5/5 [==============================] - 4s 943ms/step - loss: 0.0404 - mae: 0.1526 - val_loss: 0.0437 - val_mae: 0.1588\n",
      "Epoch 160/1000\n",
      "5/5 [==============================] - ETA: 0s - loss: 0.0399 - mae: 0.1517"
     ]
    },
    {
     "name": "stderr",
     "output_type": "stream",
     "text": [
      "WARNING:absl:Found untraced functions such as lstm_cell_layer_call_fn, lstm_cell_layer_call_and_return_conditional_losses while saving (showing 2 of 2). These functions will not be directly callable after loading.\n"
     ]
    },
    {
     "name": "stdout",
     "output_type": "stream",
     "text": [
      "INFO:tensorflow:Assets written to: C:\\Users\\PARK\\Documents\\LAB\\RNN vs LSTM\\FInal Example\\wandb\\run-20221016_102433-155iu2s1\\files\\model-best\\assets\n"
     ]
    },
    {
     "name": "stderr",
     "output_type": "stream",
     "text": [
      "INFO:tensorflow:Assets written to: C:\\Users\\PARK\\Documents\\LAB\\RNN vs LSTM\\FInal Example\\wandb\\run-20221016_102433-155iu2s1\\files\\model-best\\assets\n",
      "\u001b[34m\u001b[1mwandb\u001b[0m: Adding directory to artifact (C:\\Users\\PARK\\Documents\\LAB\\RNN vs LSTM\\FInal Example\\wandb\\run-20221016_102433-155iu2s1\\files\\model-best)... Done. 0.0s\n"
     ]
    },
    {
     "name": "stdout",
     "output_type": "stream",
     "text": [
      "5/5 [==============================] - 4s 933ms/step - loss: 0.0399 - mae: 0.1517 - val_loss: 0.0436 - val_mae: 0.1578\n",
      "Epoch 161/1000\n",
      "5/5 [==============================] - ETA: 0s - loss: 0.0400 - mae: 0.1515"
     ]
    },
    {
     "name": "stderr",
     "output_type": "stream",
     "text": [
      "WARNING:absl:Found untraced functions such as lstm_cell_layer_call_fn, lstm_cell_layer_call_and_return_conditional_losses while saving (showing 2 of 2). These functions will not be directly callable after loading.\n"
     ]
    },
    {
     "name": "stdout",
     "output_type": "stream",
     "text": [
      "INFO:tensorflow:Assets written to: C:\\Users\\PARK\\Documents\\LAB\\RNN vs LSTM\\FInal Example\\wandb\\run-20221016_102433-155iu2s1\\files\\model-best\\assets\n"
     ]
    },
    {
     "name": "stderr",
     "output_type": "stream",
     "text": [
      "INFO:tensorflow:Assets written to: C:\\Users\\PARK\\Documents\\LAB\\RNN vs LSTM\\FInal Example\\wandb\\run-20221016_102433-155iu2s1\\files\\model-best\\assets\n",
      "\u001b[34m\u001b[1mwandb\u001b[0m: Adding directory to artifact (C:\\Users\\PARK\\Documents\\LAB\\RNN vs LSTM\\FInal Example\\wandb\\run-20221016_102433-155iu2s1\\files\\model-best)... Done. 0.0s\n"
     ]
    },
    {
     "name": "stdout",
     "output_type": "stream",
     "text": [
      "5/5 [==============================] - 4s 910ms/step - loss: 0.0400 - mae: 0.1515 - val_loss: 0.0433 - val_mae: 0.1576\n",
      "Epoch 162/1000\n",
      "5/5 [==============================] - ETA: 0s - loss: 0.0403 - mae: 0.1521"
     ]
    },
    {
     "name": "stderr",
     "output_type": "stream",
     "text": [
      "WARNING:absl:Found untraced functions such as lstm_cell_layer_call_fn, lstm_cell_layer_call_and_return_conditional_losses while saving (showing 2 of 2). These functions will not be directly callable after loading.\n"
     ]
    },
    {
     "name": "stdout",
     "output_type": "stream",
     "text": [
      "INFO:tensorflow:Assets written to: C:\\Users\\PARK\\Documents\\LAB\\RNN vs LSTM\\FInal Example\\wandb\\run-20221016_102433-155iu2s1\\files\\model-best\\assets\n"
     ]
    },
    {
     "name": "stderr",
     "output_type": "stream",
     "text": [
      "INFO:tensorflow:Assets written to: C:\\Users\\PARK\\Documents\\LAB\\RNN vs LSTM\\FInal Example\\wandb\\run-20221016_102433-155iu2s1\\files\\model-best\\assets\n",
      "\u001b[34m\u001b[1mwandb\u001b[0m: Adding directory to artifact (C:\\Users\\PARK\\Documents\\LAB\\RNN vs LSTM\\FInal Example\\wandb\\run-20221016_102433-155iu2s1\\files\\model-best)... Done. 0.0s\n"
     ]
    },
    {
     "name": "stdout",
     "output_type": "stream",
     "text": [
      "5/5 [==============================] - 4s 966ms/step - loss: 0.0403 - mae: 0.1521 - val_loss: 0.0431 - val_mae: 0.1572\n",
      "Epoch 163/1000\n",
      "3/5 [=================>............] - ETA: 0s - loss: 0.0380 - mae: 0.1479"
     ]
    },
    {
     "name": "stderr",
     "output_type": "stream",
     "text": [
      "WARNING:absl:Found untraced functions such as lstm_cell_layer_call_fn, lstm_cell_layer_call_and_return_conditional_losses while saving (showing 2 of 2). These functions will not be directly callable after loading.\n"
     ]
    },
    {
     "name": "stdout",
     "output_type": "stream",
     "text": [
      "INFO:tensorflow:Assets written to: C:\\Users\\PARK\\Documents\\LAB\\RNN vs LSTM\\FInal Example\\wandb\\run-20221016_102433-155iu2s1\\files\\model-best\\assets\n"
     ]
    },
    {
     "name": "stderr",
     "output_type": "stream",
     "text": [
      "INFO:tensorflow:Assets written to: C:\\Users\\PARK\\Documents\\LAB\\RNN vs LSTM\\FInal Example\\wandb\\run-20221016_102433-155iu2s1\\files\\model-best\\assets\n",
      "\u001b[34m\u001b[1mwandb\u001b[0m: Adding directory to artifact (C:\\Users\\PARK\\Documents\\LAB\\RNN vs LSTM\\FInal Example\\wandb\\run-20221016_102433-155iu2s1\\files\\model-best)... Done. 0.0s\n"
     ]
    },
    {
     "name": "stdout",
     "output_type": "stream",
     "text": [
      "5/5 [==============================] - 4s 923ms/step - loss: 0.0394 - mae: 0.1501 - val_loss: 0.0424 - val_mae: 0.1560\n",
      "Epoch 164/1000\n",
      "5/5 [==============================] - ETA: 0s - loss: 0.0395 - mae: 0.1500"
     ]
    },
    {
     "name": "stderr",
     "output_type": "stream",
     "text": [
      "WARNING:absl:Found untraced functions such as lstm_cell_layer_call_fn, lstm_cell_layer_call_and_return_conditional_losses while saving (showing 2 of 2). These functions will not be directly callable after loading.\n"
     ]
    },
    {
     "name": "stdout",
     "output_type": "stream",
     "text": [
      "INFO:tensorflow:Assets written to: C:\\Users\\PARK\\Documents\\LAB\\RNN vs LSTM\\FInal Example\\wandb\\run-20221016_102433-155iu2s1\\files\\model-best\\assets\n"
     ]
    },
    {
     "name": "stderr",
     "output_type": "stream",
     "text": [
      "INFO:tensorflow:Assets written to: C:\\Users\\PARK\\Documents\\LAB\\RNN vs LSTM\\FInal Example\\wandb\\run-20221016_102433-155iu2s1\\files\\model-best\\assets\n",
      "\u001b[34m\u001b[1mwandb\u001b[0m: Adding directory to artifact (C:\\Users\\PARK\\Documents\\LAB\\RNN vs LSTM\\FInal Example\\wandb\\run-20221016_102433-155iu2s1\\files\\model-best)... Done. 0.0s\n"
     ]
    },
    {
     "name": "stdout",
     "output_type": "stream",
     "text": [
      "5/5 [==============================] - 4s 947ms/step - loss: 0.0395 - mae: 0.1500 - val_loss: 0.0422 - val_mae: 0.1551\n",
      "Epoch 165/1000\n",
      "5/5 [==============================] - ETA: 0s - loss: 0.0389 - mae: 0.1496"
     ]
    },
    {
     "name": "stderr",
     "output_type": "stream",
     "text": [
      "WARNING:absl:Found untraced functions such as lstm_cell_layer_call_fn, lstm_cell_layer_call_and_return_conditional_losses while saving (showing 2 of 2). These functions will not be directly callable after loading.\n"
     ]
    },
    {
     "name": "stdout",
     "output_type": "stream",
     "text": [
      "INFO:tensorflow:Assets written to: C:\\Users\\PARK\\Documents\\LAB\\RNN vs LSTM\\FInal Example\\wandb\\run-20221016_102433-155iu2s1\\files\\model-best\\assets\n"
     ]
    },
    {
     "name": "stderr",
     "output_type": "stream",
     "text": [
      "INFO:tensorflow:Assets written to: C:\\Users\\PARK\\Documents\\LAB\\RNN vs LSTM\\FInal Example\\wandb\\run-20221016_102433-155iu2s1\\files\\model-best\\assets\n",
      "\u001b[34m\u001b[1mwandb\u001b[0m: Adding directory to artifact (C:\\Users\\PARK\\Documents\\LAB\\RNN vs LSTM\\FInal Example\\wandb\\run-20221016_102433-155iu2s1\\files\\model-best)... Done. 0.0s\n"
     ]
    },
    {
     "name": "stdout",
     "output_type": "stream",
     "text": [
      "5/5 [==============================] - 4s 924ms/step - loss: 0.0389 - mae: 0.1496 - val_loss: 0.0420 - val_mae: 0.1557\n",
      "Epoch 166/1000\n",
      "5/5 [==============================] - ETA: 0s - loss: 0.0389 - mae: 0.1490"
     ]
    },
    {
     "name": "stderr",
     "output_type": "stream",
     "text": [
      "WARNING:absl:Found untraced functions such as lstm_cell_layer_call_fn, lstm_cell_layer_call_and_return_conditional_losses while saving (showing 2 of 2). These functions will not be directly callable after loading.\n"
     ]
    },
    {
     "name": "stdout",
     "output_type": "stream",
     "text": [
      "INFO:tensorflow:Assets written to: C:\\Users\\PARK\\Documents\\LAB\\RNN vs LSTM\\FInal Example\\wandb\\run-20221016_102433-155iu2s1\\files\\model-best\\assets\n"
     ]
    },
    {
     "name": "stderr",
     "output_type": "stream",
     "text": [
      "INFO:tensorflow:Assets written to: C:\\Users\\PARK\\Documents\\LAB\\RNN vs LSTM\\FInal Example\\wandb\\run-20221016_102433-155iu2s1\\files\\model-best\\assets\n",
      "\u001b[34m\u001b[1mwandb\u001b[0m: Adding directory to artifact (C:\\Users\\PARK\\Documents\\LAB\\RNN vs LSTM\\FInal Example\\wandb\\run-20221016_102433-155iu2s1\\files\\model-best)... Done. 0.0s\n"
     ]
    },
    {
     "name": "stdout",
     "output_type": "stream",
     "text": [
      "5/5 [==============================] - 4s 955ms/step - loss: 0.0389 - mae: 0.1490 - val_loss: 0.0416 - val_mae: 0.1537\n",
      "Epoch 167/1000\n",
      "5/5 [==============================] - 0s 69ms/step - loss: 0.0386 - mae: 0.1478 - val_loss: 0.0418 - val_mae: 0.1546\n",
      "Epoch 168/1000\n",
      "5/5 [==============================] - 0s 47ms/step - loss: 0.0388 - mae: 0.1490 - val_loss: 0.0417 - val_mae: 0.1550\n",
      "Epoch 169/1000\n",
      "1/5 [=====>........................] - ETA: 0s - loss: 0.0421 - mae: 0.1547"
     ]
    },
    {
     "name": "stderr",
     "output_type": "stream",
     "text": [
      "WARNING:absl:Found untraced functions such as lstm_cell_layer_call_fn, lstm_cell_layer_call_and_return_conditional_losses while saving (showing 2 of 2). These functions will not be directly callable after loading.\n"
     ]
    },
    {
     "name": "stdout",
     "output_type": "stream",
     "text": [
      "INFO:tensorflow:Assets written to: C:\\Users\\PARK\\Documents\\LAB\\RNN vs LSTM\\FInal Example\\wandb\\run-20221016_102433-155iu2s1\\files\\model-best\\assets\n"
     ]
    },
    {
     "name": "stderr",
     "output_type": "stream",
     "text": [
      "INFO:tensorflow:Assets written to: C:\\Users\\PARK\\Documents\\LAB\\RNN vs LSTM\\FInal Example\\wandb\\run-20221016_102433-155iu2s1\\files\\model-best\\assets\n",
      "\u001b[34m\u001b[1mwandb\u001b[0m: Adding directory to artifact (C:\\Users\\PARK\\Documents\\LAB\\RNN vs LSTM\\FInal Example\\wandb\\run-20221016_102433-155iu2s1\\files\\model-best)... Done. 0.0s\n"
     ]
    },
    {
     "name": "stdout",
     "output_type": "stream",
     "text": [
      "5/5 [==============================] - 3s 862ms/step - loss: 0.0385 - mae: 0.1481 - val_loss: 0.0416 - val_mae: 0.1537\n",
      "Epoch 170/1000\n",
      "3/5 [=================>............] - ETA: 0s - loss: 0.0350 - mae: 0.1409"
     ]
    },
    {
     "name": "stderr",
     "output_type": "stream",
     "text": [
      "WARNING:absl:Found untraced functions such as lstm_cell_layer_call_fn, lstm_cell_layer_call_and_return_conditional_losses while saving (showing 2 of 2). These functions will not be directly callable after loading.\n"
     ]
    },
    {
     "name": "stdout",
     "output_type": "stream",
     "text": [
      "INFO:tensorflow:Assets written to: C:\\Users\\PARK\\Documents\\LAB\\RNN vs LSTM\\FInal Example\\wandb\\run-20221016_102433-155iu2s1\\files\\model-best\\assets\n"
     ]
    },
    {
     "name": "stderr",
     "output_type": "stream",
     "text": [
      "INFO:tensorflow:Assets written to: C:\\Users\\PARK\\Documents\\LAB\\RNN vs LSTM\\FInal Example\\wandb\\run-20221016_102433-155iu2s1\\files\\model-best\\assets\n",
      "\u001b[34m\u001b[1mwandb\u001b[0m: Adding directory to artifact (C:\\Users\\PARK\\Documents\\LAB\\RNN vs LSTM\\FInal Example\\wandb\\run-20221016_102433-155iu2s1\\files\\model-best)... Done. 0.0s\n"
     ]
    },
    {
     "name": "stdout",
     "output_type": "stream",
     "text": [
      "5/5 [==============================] - 4s 977ms/step - loss: 0.0379 - mae: 0.1463 - val_loss: 0.0405 - val_mae: 0.1523\n",
      "Epoch 171/1000\n",
      "5/5 [==============================] - ETA: 0s - loss: 0.0380 - mae: 0.1466"
     ]
    },
    {
     "name": "stderr",
     "output_type": "stream",
     "text": [
      "WARNING:absl:Found untraced functions such as lstm_cell_layer_call_fn, lstm_cell_layer_call_and_return_conditional_losses while saving (showing 2 of 2). These functions will not be directly callable after loading.\n"
     ]
    },
    {
     "name": "stdout",
     "output_type": "stream",
     "text": [
      "INFO:tensorflow:Assets written to: C:\\Users\\PARK\\Documents\\LAB\\RNN vs LSTM\\FInal Example\\wandb\\run-20221016_102433-155iu2s1\\files\\model-best\\assets\n"
     ]
    },
    {
     "name": "stderr",
     "output_type": "stream",
     "text": [
      "INFO:tensorflow:Assets written to: C:\\Users\\PARK\\Documents\\LAB\\RNN vs LSTM\\FInal Example\\wandb\\run-20221016_102433-155iu2s1\\files\\model-best\\assets\n",
      "\u001b[34m\u001b[1mwandb\u001b[0m: Adding directory to artifact (C:\\Users\\PARK\\Documents\\LAB\\RNN vs LSTM\\FInal Example\\wandb\\run-20221016_102433-155iu2s1\\files\\model-best)... Done. 0.0s\n"
     ]
    },
    {
     "name": "stdout",
     "output_type": "stream",
     "text": [
      "5/5 [==============================] - 4s 930ms/step - loss: 0.0380 - mae: 0.1466 - val_loss: 0.0403 - val_mae: 0.1525\n",
      "Epoch 172/1000\n",
      "3/5 [=================>............] - ETA: 0s - loss: 0.0357 - mae: 0.1447"
     ]
    },
    {
     "name": "stderr",
     "output_type": "stream",
     "text": [
      "WARNING:absl:Found untraced functions such as lstm_cell_layer_call_fn, lstm_cell_layer_call_and_return_conditional_losses while saving (showing 2 of 2). These functions will not be directly callable after loading.\n"
     ]
    },
    {
     "name": "stdout",
     "output_type": "stream",
     "text": [
      "INFO:tensorflow:Assets written to: C:\\Users\\PARK\\Documents\\LAB\\RNN vs LSTM\\FInal Example\\wandb\\run-20221016_102433-155iu2s1\\files\\model-best\\assets\n"
     ]
    },
    {
     "name": "stderr",
     "output_type": "stream",
     "text": [
      "INFO:tensorflow:Assets written to: C:\\Users\\PARK\\Documents\\LAB\\RNN vs LSTM\\FInal Example\\wandb\\run-20221016_102433-155iu2s1\\files\\model-best\\assets\n",
      "\u001b[34m\u001b[1mwandb\u001b[0m: Adding directory to artifact (C:\\Users\\PARK\\Documents\\LAB\\RNN vs LSTM\\FInal Example\\wandb\\run-20221016_102433-155iu2s1\\files\\model-best)... Done. 0.0s\n"
     ]
    },
    {
     "name": "stdout",
     "output_type": "stream",
     "text": [
      "5/5 [==============================] - 4s 926ms/step - loss: 0.0375 - mae: 0.1469 - val_loss: 0.0397 - val_mae: 0.1507\n",
      "Epoch 173/1000\n",
      "5/5 [==============================] - ETA: 0s - loss: 0.0370 - mae: 0.1443"
     ]
    },
    {
     "name": "stderr",
     "output_type": "stream",
     "text": [
      "WARNING:absl:Found untraced functions such as lstm_cell_layer_call_fn, lstm_cell_layer_call_and_return_conditional_losses while saving (showing 2 of 2). These functions will not be directly callable after loading.\n"
     ]
    },
    {
     "name": "stdout",
     "output_type": "stream",
     "text": [
      "INFO:tensorflow:Assets written to: C:\\Users\\PARK\\Documents\\LAB\\RNN vs LSTM\\FInal Example\\wandb\\run-20221016_102433-155iu2s1\\files\\model-best\\assets\n"
     ]
    },
    {
     "name": "stderr",
     "output_type": "stream",
     "text": [
      "INFO:tensorflow:Assets written to: C:\\Users\\PARK\\Documents\\LAB\\RNN vs LSTM\\FInal Example\\wandb\\run-20221016_102433-155iu2s1\\files\\model-best\\assets\n",
      "\u001b[34m\u001b[1mwandb\u001b[0m: Adding directory to artifact (C:\\Users\\PARK\\Documents\\LAB\\RNN vs LSTM\\FInal Example\\wandb\\run-20221016_102433-155iu2s1\\files\\model-best)... Done. 0.0s\n"
     ]
    },
    {
     "name": "stdout",
     "output_type": "stream",
     "text": [
      "5/5 [==============================] - 4s 938ms/step - loss: 0.0370 - mae: 0.1443 - val_loss: 0.0390 - val_mae: 0.1485\n",
      "Epoch 174/1000\n",
      "3/5 [=================>............] - ETA: 0s - loss: 0.0375 - mae: 0.1459"
     ]
    },
    {
     "name": "stderr",
     "output_type": "stream",
     "text": [
      "WARNING:absl:Found untraced functions such as lstm_cell_layer_call_fn, lstm_cell_layer_call_and_return_conditional_losses while saving (showing 2 of 2). These functions will not be directly callable after loading.\n"
     ]
    },
    {
     "name": "stdout",
     "output_type": "stream",
     "text": [
      "INFO:tensorflow:Assets written to: C:\\Users\\PARK\\Documents\\LAB\\RNN vs LSTM\\FInal Example\\wandb\\run-20221016_102433-155iu2s1\\files\\model-best\\assets\n"
     ]
    },
    {
     "name": "stderr",
     "output_type": "stream",
     "text": [
      "INFO:tensorflow:Assets written to: C:\\Users\\PARK\\Documents\\LAB\\RNN vs LSTM\\FInal Example\\wandb\\run-20221016_102433-155iu2s1\\files\\model-best\\assets\n",
      "\u001b[34m\u001b[1mwandb\u001b[0m: Adding directory to artifact (C:\\Users\\PARK\\Documents\\LAB\\RNN vs LSTM\\FInal Example\\wandb\\run-20221016_102433-155iu2s1\\files\\model-best)... Done. 0.0s\n"
     ]
    },
    {
     "name": "stdout",
     "output_type": "stream",
     "text": [
      "5/5 [==============================] - 4s 896ms/step - loss: 0.0364 - mae: 0.1440 - val_loss: 0.0385 - val_mae: 0.1482\n",
      "Epoch 175/1000\n",
      "5/5 [==============================] - ETA: 0s - loss: 0.0361 - mae: 0.1423"
     ]
    },
    {
     "name": "stderr",
     "output_type": "stream",
     "text": [
      "WARNING:absl:Found untraced functions such as lstm_cell_layer_call_fn, lstm_cell_layer_call_and_return_conditional_losses while saving (showing 2 of 2). These functions will not be directly callable after loading.\n"
     ]
    },
    {
     "name": "stdout",
     "output_type": "stream",
     "text": [
      "INFO:tensorflow:Assets written to: C:\\Users\\PARK\\Documents\\LAB\\RNN vs LSTM\\FInal Example\\wandb\\run-20221016_102433-155iu2s1\\files\\model-best\\assets\n"
     ]
    },
    {
     "name": "stderr",
     "output_type": "stream",
     "text": [
      "INFO:tensorflow:Assets written to: C:\\Users\\PARK\\Documents\\LAB\\RNN vs LSTM\\FInal Example\\wandb\\run-20221016_102433-155iu2s1\\files\\model-best\\assets\n",
      "\u001b[34m\u001b[1mwandb\u001b[0m: Adding directory to artifact (C:\\Users\\PARK\\Documents\\LAB\\RNN vs LSTM\\FInal Example\\wandb\\run-20221016_102433-155iu2s1\\files\\model-best)... Done. 0.0s\n"
     ]
    },
    {
     "name": "stdout",
     "output_type": "stream",
     "text": [
      "5/5 [==============================] - 4s 982ms/step - loss: 0.0361 - mae: 0.1423 - val_loss: 0.0378 - val_mae: 0.1471\n",
      "Epoch 176/1000\n",
      "3/5 [=================>............] - ETA: 0s - loss: 0.0349 - mae: 0.1414"
     ]
    },
    {
     "name": "stderr",
     "output_type": "stream",
     "text": [
      "WARNING:absl:Found untraced functions such as lstm_cell_layer_call_fn, lstm_cell_layer_call_and_return_conditional_losses while saving (showing 2 of 2). These functions will not be directly callable after loading.\n"
     ]
    },
    {
     "name": "stdout",
     "output_type": "stream",
     "text": [
      "INFO:tensorflow:Assets written to: C:\\Users\\PARK\\Documents\\LAB\\RNN vs LSTM\\FInal Example\\wandb\\run-20221016_102433-155iu2s1\\files\\model-best\\assets\n"
     ]
    },
    {
     "name": "stderr",
     "output_type": "stream",
     "text": [
      "INFO:tensorflow:Assets written to: C:\\Users\\PARK\\Documents\\LAB\\RNN vs LSTM\\FInal Example\\wandb\\run-20221016_102433-155iu2s1\\files\\model-best\\assets\n",
      "\u001b[34m\u001b[1mwandb\u001b[0m: Adding directory to artifact (C:\\Users\\PARK\\Documents\\LAB\\RNN vs LSTM\\FInal Example\\wandb\\run-20221016_102433-155iu2s1\\files\\model-best)... Done. 0.0s\n"
     ]
    },
    {
     "name": "stdout",
     "output_type": "stream",
     "text": [
      "5/5 [==============================] - 4s 927ms/step - loss: 0.0355 - mae: 0.1417 - val_loss: 0.0374 - val_mae: 0.1465\n",
      "Epoch 177/1000\n",
      "5/5 [==============================] - ETA: 0s - loss: 0.0349 - mae: 0.1406"
     ]
    },
    {
     "name": "stderr",
     "output_type": "stream",
     "text": [
      "WARNING:absl:Found untraced functions such as lstm_cell_layer_call_fn, lstm_cell_layer_call_and_return_conditional_losses while saving (showing 2 of 2). These functions will not be directly callable after loading.\n"
     ]
    },
    {
     "name": "stdout",
     "output_type": "stream",
     "text": [
      "INFO:tensorflow:Assets written to: C:\\Users\\PARK\\Documents\\LAB\\RNN vs LSTM\\FInal Example\\wandb\\run-20221016_102433-155iu2s1\\files\\model-best\\assets\n"
     ]
    },
    {
     "name": "stderr",
     "output_type": "stream",
     "text": [
      "INFO:tensorflow:Assets written to: C:\\Users\\PARK\\Documents\\LAB\\RNN vs LSTM\\FInal Example\\wandb\\run-20221016_102433-155iu2s1\\files\\model-best\\assets\n",
      "\u001b[34m\u001b[1mwandb\u001b[0m: Adding directory to artifact (C:\\Users\\PARK\\Documents\\LAB\\RNN vs LSTM\\FInal Example\\wandb\\run-20221016_102433-155iu2s1\\files\\model-best)... Done. 0.0s\n"
     ]
    },
    {
     "name": "stdout",
     "output_type": "stream",
     "text": [
      "5/5 [==============================] - 4s 892ms/step - loss: 0.0349 - mae: 0.1406 - val_loss: 0.0367 - val_mae: 0.1441\n",
      "Epoch 178/1000\n",
      "5/5 [==============================] - 0s 70ms/step - loss: 0.0345 - mae: 0.1401 - val_loss: 0.0377 - val_mae: 0.1465\n",
      "Epoch 179/1000\n",
      "5/5 [==============================] - ETA: 0s - loss: 0.0343 - mae: 0.1394"
     ]
    },
    {
     "name": "stderr",
     "output_type": "stream",
     "text": [
      "WARNING:absl:Found untraced functions such as lstm_cell_layer_call_fn, lstm_cell_layer_call_and_return_conditional_losses while saving (showing 2 of 2). These functions will not be directly callable after loading.\n"
     ]
    },
    {
     "name": "stdout",
     "output_type": "stream",
     "text": [
      "INFO:tensorflow:Assets written to: C:\\Users\\PARK\\Documents\\LAB\\RNN vs LSTM\\FInal Example\\wandb\\run-20221016_102433-155iu2s1\\files\\model-best\\assets\n"
     ]
    },
    {
     "name": "stderr",
     "output_type": "stream",
     "text": [
      "INFO:tensorflow:Assets written to: C:\\Users\\PARK\\Documents\\LAB\\RNN vs LSTM\\FInal Example\\wandb\\run-20221016_102433-155iu2s1\\files\\model-best\\assets\n",
      "\u001b[34m\u001b[1mwandb\u001b[0m: Adding directory to artifact (C:\\Users\\PARK\\Documents\\LAB\\RNN vs LSTM\\FInal Example\\wandb\\run-20221016_102433-155iu2s1\\files\\model-best)... Done. 0.0s\n"
     ]
    },
    {
     "name": "stdout",
     "output_type": "stream",
     "text": [
      "5/5 [==============================] - 4s 949ms/step - loss: 0.0343 - mae: 0.1394 - val_loss: 0.0361 - val_mae: 0.1444\n",
      "Epoch 180/1000\n",
      "5/5 [==============================] - 0s 65ms/step - loss: 0.0343 - mae: 0.1389 - val_loss: 0.0369 - val_mae: 0.1449\n",
      "Epoch 181/1000\n",
      "4/5 [=======================>......] - ETA: 0s - loss: 0.0331 - mae: 0.1375"
     ]
    },
    {
     "name": "stderr",
     "output_type": "stream",
     "text": [
      "WARNING:absl:Found untraced functions such as lstm_cell_layer_call_fn, lstm_cell_layer_call_and_return_conditional_losses while saving (showing 2 of 2). These functions will not be directly callable after loading.\n"
     ]
    },
    {
     "name": "stdout",
     "output_type": "stream",
     "text": [
      "INFO:tensorflow:Assets written to: C:\\Users\\PARK\\Documents\\LAB\\RNN vs LSTM\\FInal Example\\wandb\\run-20221016_102433-155iu2s1\\files\\model-best\\assets\n"
     ]
    },
    {
     "name": "stderr",
     "output_type": "stream",
     "text": [
      "INFO:tensorflow:Assets written to: C:\\Users\\PARK\\Documents\\LAB\\RNN vs LSTM\\FInal Example\\wandb\\run-20221016_102433-155iu2s1\\files\\model-best\\assets\n",
      "\u001b[34m\u001b[1mwandb\u001b[0m: Adding directory to artifact (C:\\Users\\PARK\\Documents\\LAB\\RNN vs LSTM\\FInal Example\\wandb\\run-20221016_102433-155iu2s1\\files\\model-best)... Done. 0.0s\n"
     ]
    },
    {
     "name": "stdout",
     "output_type": "stream",
     "text": [
      "5/5 [==============================] - 4s 907ms/step - loss: 0.0335 - mae: 0.1384 - val_loss: 0.0354 - val_mae: 0.1417\n",
      "Epoch 182/1000\n",
      "5/5 [==============================] - ETA: 0s - loss: 0.0326 - mae: 0.1358"
     ]
    },
    {
     "name": "stderr",
     "output_type": "stream",
     "text": [
      "WARNING:absl:Found untraced functions such as lstm_cell_layer_call_fn, lstm_cell_layer_call_and_return_conditional_losses while saving (showing 2 of 2). These functions will not be directly callable after loading.\n"
     ]
    },
    {
     "name": "stdout",
     "output_type": "stream",
     "text": [
      "INFO:tensorflow:Assets written to: C:\\Users\\PARK\\Documents\\LAB\\RNN vs LSTM\\FInal Example\\wandb\\run-20221016_102433-155iu2s1\\files\\model-best\\assets\n"
     ]
    },
    {
     "name": "stderr",
     "output_type": "stream",
     "text": [
      "INFO:tensorflow:Assets written to: C:\\Users\\PARK\\Documents\\LAB\\RNN vs LSTM\\FInal Example\\wandb\\run-20221016_102433-155iu2s1\\files\\model-best\\assets\n",
      "\u001b[34m\u001b[1mwandb\u001b[0m: Adding directory to artifact (C:\\Users\\PARK\\Documents\\LAB\\RNN vs LSTM\\FInal Example\\wandb\\run-20221016_102433-155iu2s1\\files\\model-best)... Done. 0.0s\n"
     ]
    },
    {
     "name": "stdout",
     "output_type": "stream",
     "text": [
      "5/5 [==============================] - 4s 900ms/step - loss: 0.0326 - mae: 0.1358 - val_loss: 0.0344 - val_mae: 0.1405\n",
      "Epoch 183/1000\n",
      "5/5 [==============================] - ETA: 0s - loss: 0.0321 - mae: 0.1348"
     ]
    },
    {
     "name": "stderr",
     "output_type": "stream",
     "text": [
      "WARNING:absl:Found untraced functions such as lstm_cell_layer_call_fn, lstm_cell_layer_call_and_return_conditional_losses while saving (showing 2 of 2). These functions will not be directly callable after loading.\n"
     ]
    },
    {
     "name": "stdout",
     "output_type": "stream",
     "text": [
      "INFO:tensorflow:Assets written to: C:\\Users\\PARK\\Documents\\LAB\\RNN vs LSTM\\FInal Example\\wandb\\run-20221016_102433-155iu2s1\\files\\model-best\\assets\n"
     ]
    },
    {
     "name": "stderr",
     "output_type": "stream",
     "text": [
      "INFO:tensorflow:Assets written to: C:\\Users\\PARK\\Documents\\LAB\\RNN vs LSTM\\FInal Example\\wandb\\run-20221016_102433-155iu2s1\\files\\model-best\\assets\n",
      "\u001b[34m\u001b[1mwandb\u001b[0m: Adding directory to artifact (C:\\Users\\PARK\\Documents\\LAB\\RNN vs LSTM\\FInal Example\\wandb\\run-20221016_102433-155iu2s1\\files\\model-best)... Done. 0.0s\n"
     ]
    },
    {
     "name": "stdout",
     "output_type": "stream",
     "text": [
      "5/5 [==============================] - 4s 972ms/step - loss: 0.0321 - mae: 0.1348 - val_loss: 0.0339 - val_mae: 0.1401\n",
      "Epoch 184/1000\n",
      "3/5 [=================>............] - ETA: 0s - loss: 0.0316 - mae: 0.1344"
     ]
    },
    {
     "name": "stderr",
     "output_type": "stream",
     "text": [
      "WARNING:absl:Found untraced functions such as lstm_cell_layer_call_fn, lstm_cell_layer_call_and_return_conditional_losses while saving (showing 2 of 2). These functions will not be directly callable after loading.\n"
     ]
    },
    {
     "name": "stdout",
     "output_type": "stream",
     "text": [
      "INFO:tensorflow:Assets written to: C:\\Users\\PARK\\Documents\\LAB\\RNN vs LSTM\\FInal Example\\wandb\\run-20221016_102433-155iu2s1\\files\\model-best\\assets\n"
     ]
    },
    {
     "name": "stderr",
     "output_type": "stream",
     "text": [
      "INFO:tensorflow:Assets written to: C:\\Users\\PARK\\Documents\\LAB\\RNN vs LSTM\\FInal Example\\wandb\\run-20221016_102433-155iu2s1\\files\\model-best\\assets\n",
      "\u001b[34m\u001b[1mwandb\u001b[0m: Adding directory to artifact (C:\\Users\\PARK\\Documents\\LAB\\RNN vs LSTM\\FInal Example\\wandb\\run-20221016_102433-155iu2s1\\files\\model-best)... Done. 0.0s\n"
     ]
    },
    {
     "name": "stdout",
     "output_type": "stream",
     "text": [
      "5/5 [==============================] - 4s 938ms/step - loss: 0.0313 - mae: 0.1335 - val_loss: 0.0331 - val_mae: 0.1379\n",
      "Epoch 185/1000\n",
      "5/5 [==============================] - ETA: 0s - loss: 0.0310 - mae: 0.1326"
     ]
    },
    {
     "name": "stderr",
     "output_type": "stream",
     "text": [
      "WARNING:absl:Found untraced functions such as lstm_cell_layer_call_fn, lstm_cell_layer_call_and_return_conditional_losses while saving (showing 2 of 2). These functions will not be directly callable after loading.\n"
     ]
    },
    {
     "name": "stdout",
     "output_type": "stream",
     "text": [
      "INFO:tensorflow:Assets written to: C:\\Users\\PARK\\Documents\\LAB\\RNN vs LSTM\\FInal Example\\wandb\\run-20221016_102433-155iu2s1\\files\\model-best\\assets\n"
     ]
    },
    {
     "name": "stderr",
     "output_type": "stream",
     "text": [
      "INFO:tensorflow:Assets written to: C:\\Users\\PARK\\Documents\\LAB\\RNN vs LSTM\\FInal Example\\wandb\\run-20221016_102433-155iu2s1\\files\\model-best\\assets\n",
      "\u001b[34m\u001b[1mwandb\u001b[0m: Adding directory to artifact (C:\\Users\\PARK\\Documents\\LAB\\RNN vs LSTM\\FInal Example\\wandb\\run-20221016_102433-155iu2s1\\files\\model-best)... Done. 0.0s\n"
     ]
    },
    {
     "name": "stdout",
     "output_type": "stream",
     "text": [
      "5/5 [==============================] - 4s 944ms/step - loss: 0.0310 - mae: 0.1326 - val_loss: 0.0331 - val_mae: 0.1380\n",
      "Epoch 186/1000\n",
      "5/5 [==============================] - ETA: 0s - loss: 0.0306 - mae: 0.1321"
     ]
    },
    {
     "name": "stderr",
     "output_type": "stream",
     "text": [
      "WARNING:absl:Found untraced functions such as lstm_cell_layer_call_fn, lstm_cell_layer_call_and_return_conditional_losses while saving (showing 2 of 2). These functions will not be directly callable after loading.\n"
     ]
    },
    {
     "name": "stdout",
     "output_type": "stream",
     "text": [
      "INFO:tensorflow:Assets written to: C:\\Users\\PARK\\Documents\\LAB\\RNN vs LSTM\\FInal Example\\wandb\\run-20221016_102433-155iu2s1\\files\\model-best\\assets\n"
     ]
    },
    {
     "name": "stderr",
     "output_type": "stream",
     "text": [
      "INFO:tensorflow:Assets written to: C:\\Users\\PARK\\Documents\\LAB\\RNN vs LSTM\\FInal Example\\wandb\\run-20221016_102433-155iu2s1\\files\\model-best\\assets\n",
      "\u001b[34m\u001b[1mwandb\u001b[0m: Adding directory to artifact (C:\\Users\\PARK\\Documents\\LAB\\RNN vs LSTM\\FInal Example\\wandb\\run-20221016_102433-155iu2s1\\files\\model-best)... Done. 0.0s\n"
     ]
    },
    {
     "name": "stdout",
     "output_type": "stream",
     "text": [
      "5/5 [==============================] - 4s 940ms/step - loss: 0.0306 - mae: 0.1321 - val_loss: 0.0326 - val_mae: 0.1371\n",
      "Epoch 187/1000\n",
      "5/5 [==============================] - 0s 72ms/step - loss: 0.0301 - mae: 0.1305 - val_loss: 0.0327 - val_mae: 0.1374\n",
      "Epoch 188/1000\n",
      "5/5 [==============================] - 0s 52ms/step - loss: 0.0299 - mae: 0.1301 - val_loss: 0.0332 - val_mae: 0.1403\n",
      "Epoch 189/1000\n",
      "5/5 [==============================] - 0s 42ms/step - loss: 0.0308 - mae: 0.1320 - val_loss: 0.0336 - val_mae: 0.1429\n",
      "Epoch 190/1000\n",
      "1/5 [=====>........................] - ETA: 0s - loss: 0.0310 - mae: 0.1364"
     ]
    },
    {
     "name": "stderr",
     "output_type": "stream",
     "text": [
      "WARNING:absl:Found untraced functions such as lstm_cell_layer_call_fn, lstm_cell_layer_call_and_return_conditional_losses while saving (showing 2 of 2). These functions will not be directly callable after loading.\n"
     ]
    },
    {
     "name": "stdout",
     "output_type": "stream",
     "text": [
      "INFO:tensorflow:Assets written to: C:\\Users\\PARK\\Documents\\LAB\\RNN vs LSTM\\FInal Example\\wandb\\run-20221016_102433-155iu2s1\\files\\model-best\\assets\n"
     ]
    },
    {
     "name": "stderr",
     "output_type": "stream",
     "text": [
      "INFO:tensorflow:Assets written to: C:\\Users\\PARK\\Documents\\LAB\\RNN vs LSTM\\FInal Example\\wandb\\run-20221016_102433-155iu2s1\\files\\model-best\\assets\n",
      "\u001b[34m\u001b[1mwandb\u001b[0m: Adding directory to artifact (C:\\Users\\PARK\\Documents\\LAB\\RNN vs LSTM\\FInal Example\\wandb\\run-20221016_102433-155iu2s1\\files\\model-best)... Done. 0.0s\n"
     ]
    },
    {
     "name": "stdout",
     "output_type": "stream",
     "text": [
      "5/5 [==============================] - 4s 892ms/step - loss: 0.0304 - mae: 0.1324 - val_loss: 0.0326 - val_mae: 0.1396\n",
      "Epoch 191/1000\n",
      "3/5 [=================>............] - ETA: 0s - loss: 0.0306 - mae: 0.1324"
     ]
    },
    {
     "name": "stderr",
     "output_type": "stream",
     "text": [
      "WARNING:absl:Found untraced functions such as lstm_cell_layer_call_fn, lstm_cell_layer_call_and_return_conditional_losses while saving (showing 2 of 2). These functions will not be directly callable after loading.\n"
     ]
    },
    {
     "name": "stdout",
     "output_type": "stream",
     "text": [
      "INFO:tensorflow:Assets written to: C:\\Users\\PARK\\Documents\\LAB\\RNN vs LSTM\\FInal Example\\wandb\\run-20221016_102433-155iu2s1\\files\\model-best\\assets\n"
     ]
    },
    {
     "name": "stderr",
     "output_type": "stream",
     "text": [
      "INFO:tensorflow:Assets written to: C:\\Users\\PARK\\Documents\\LAB\\RNN vs LSTM\\FInal Example\\wandb\\run-20221016_102433-155iu2s1\\files\\model-best\\assets\n",
      "\u001b[34m\u001b[1mwandb\u001b[0m: Adding directory to artifact (C:\\Users\\PARK\\Documents\\LAB\\RNN vs LSTM\\FInal Example\\wandb\\run-20221016_102433-155iu2s1\\files\\model-best)... Done. 0.0s\n"
     ]
    },
    {
     "name": "stdout",
     "output_type": "stream",
     "text": [
      "5/5 [==============================] - 4s 933ms/step - loss: 0.0305 - mae: 0.1320 - val_loss: 0.0323 - val_mae: 0.1393\n",
      "Epoch 192/1000\n",
      "5/5 [==============================] - ETA: 0s - loss: 0.0296 - mae: 0.1297"
     ]
    },
    {
     "name": "stderr",
     "output_type": "stream",
     "text": [
      "WARNING:absl:Found untraced functions such as lstm_cell_layer_call_fn, lstm_cell_layer_call_and_return_conditional_losses while saving (showing 2 of 2). These functions will not be directly callable after loading.\n"
     ]
    },
    {
     "name": "stdout",
     "output_type": "stream",
     "text": [
      "INFO:tensorflow:Assets written to: C:\\Users\\PARK\\Documents\\LAB\\RNN vs LSTM\\FInal Example\\wandb\\run-20221016_102433-155iu2s1\\files\\model-best\\assets\n"
     ]
    },
    {
     "name": "stderr",
     "output_type": "stream",
     "text": [
      "INFO:tensorflow:Assets written to: C:\\Users\\PARK\\Documents\\LAB\\RNN vs LSTM\\FInal Example\\wandb\\run-20221016_102433-155iu2s1\\files\\model-best\\assets\n",
      "\u001b[34m\u001b[1mwandb\u001b[0m: Adding directory to artifact (C:\\Users\\PARK\\Documents\\LAB\\RNN vs LSTM\\FInal Example\\wandb\\run-20221016_102433-155iu2s1\\files\\model-best)... Done. 0.0s\n"
     ]
    },
    {
     "name": "stdout",
     "output_type": "stream",
     "text": [
      "5/5 [==============================] - 4s 941ms/step - loss: 0.0296 - mae: 0.1297 - val_loss: 0.0323 - val_mae: 0.1384\n",
      "Epoch 193/1000\n",
      "5/5 [==============================] - 0s 75ms/step - loss: 0.0300 - mae: 0.1316 - val_loss: 0.0327 - val_mae: 0.1398\n",
      "Epoch 194/1000\n",
      "4/5 [=======================>......] - ETA: 0s - loss: 0.0291 - mae: 0.1280"
     ]
    },
    {
     "name": "stderr",
     "output_type": "stream",
     "text": [
      "WARNING:absl:Found untraced functions such as lstm_cell_layer_call_fn, lstm_cell_layer_call_and_return_conditional_losses while saving (showing 2 of 2). These functions will not be directly callable after loading.\n"
     ]
    },
    {
     "name": "stdout",
     "output_type": "stream",
     "text": [
      "INFO:tensorflow:Assets written to: C:\\Users\\PARK\\Documents\\LAB\\RNN vs LSTM\\FInal Example\\wandb\\run-20221016_102433-155iu2s1\\files\\model-best\\assets\n"
     ]
    },
    {
     "name": "stderr",
     "output_type": "stream",
     "text": [
      "INFO:tensorflow:Assets written to: C:\\Users\\PARK\\Documents\\LAB\\RNN vs LSTM\\FInal Example\\wandb\\run-20221016_102433-155iu2s1\\files\\model-best\\assets\n",
      "\u001b[34m\u001b[1mwandb\u001b[0m: Adding directory to artifact (C:\\Users\\PARK\\Documents\\LAB\\RNN vs LSTM\\FInal Example\\wandb\\run-20221016_102433-155iu2s1\\files\\model-best)... Done. 0.0s\n"
     ]
    },
    {
     "name": "stdout",
     "output_type": "stream",
     "text": [
      "5/5 [==============================] - 4s 909ms/step - loss: 0.0293 - mae: 0.1288 - val_loss: 0.0322 - val_mae: 0.1389\n",
      "Epoch 195/1000\n",
      "5/5 [==============================] - ETA: 0s - loss: 0.0293 - mae: 0.1300"
     ]
    },
    {
     "name": "stderr",
     "output_type": "stream",
     "text": [
      "WARNING:absl:Found untraced functions such as lstm_cell_layer_call_fn, lstm_cell_layer_call_and_return_conditional_losses while saving (showing 2 of 2). These functions will not be directly callable after loading.\n"
     ]
    },
    {
     "name": "stdout",
     "output_type": "stream",
     "text": [
      "INFO:tensorflow:Assets written to: C:\\Users\\PARK\\Documents\\LAB\\RNN vs LSTM\\FInal Example\\wandb\\run-20221016_102433-155iu2s1\\files\\model-best\\assets\n"
     ]
    },
    {
     "name": "stderr",
     "output_type": "stream",
     "text": [
      "INFO:tensorflow:Assets written to: C:\\Users\\PARK\\Documents\\LAB\\RNN vs LSTM\\FInal Example\\wandb\\run-20221016_102433-155iu2s1\\files\\model-best\\assets\n",
      "\u001b[34m\u001b[1mwandb\u001b[0m: Adding directory to artifact (C:\\Users\\PARK\\Documents\\LAB\\RNN vs LSTM\\FInal Example\\wandb\\run-20221016_102433-155iu2s1\\files\\model-best)... Done. 0.0s\n"
     ]
    },
    {
     "name": "stdout",
     "output_type": "stream",
     "text": [
      "5/5 [==============================] - 4s 942ms/step - loss: 0.0293 - mae: 0.1300 - val_loss: 0.0318 - val_mae: 0.1377\n",
      "Epoch 196/1000\n",
      "3/5 [=================>............] - ETA: 0s - loss: 0.0299 - mae: 0.1327"
     ]
    },
    {
     "name": "stderr",
     "output_type": "stream",
     "text": [
      "WARNING:absl:Found untraced functions such as lstm_cell_layer_call_fn, lstm_cell_layer_call_and_return_conditional_losses while saving (showing 2 of 2). These functions will not be directly callable after loading.\n"
     ]
    },
    {
     "name": "stdout",
     "output_type": "stream",
     "text": [
      "INFO:tensorflow:Assets written to: C:\\Users\\PARK\\Documents\\LAB\\RNN vs LSTM\\FInal Example\\wandb\\run-20221016_102433-155iu2s1\\files\\model-best\\assets\n"
     ]
    },
    {
     "name": "stderr",
     "output_type": "stream",
     "text": [
      "INFO:tensorflow:Assets written to: C:\\Users\\PARK\\Documents\\LAB\\RNN vs LSTM\\FInal Example\\wandb\\run-20221016_102433-155iu2s1\\files\\model-best\\assets\n",
      "\u001b[34m\u001b[1mwandb\u001b[0m: Adding directory to artifact (C:\\Users\\PARK\\Documents\\LAB\\RNN vs LSTM\\FInal Example\\wandb\\run-20221016_102433-155iu2s1\\files\\model-best)... Done. 0.0s\n"
     ]
    },
    {
     "name": "stdout",
     "output_type": "stream",
     "text": [
      "5/5 [==============================] - 4s 900ms/step - loss: 0.0291 - mae: 0.1300 - val_loss: 0.0311 - val_mae: 0.1348\n",
      "Epoch 197/1000\n",
      "3/5 [=================>............] - ETA: 0s - loss: 0.0295 - mae: 0.1300"
     ]
    },
    {
     "name": "stderr",
     "output_type": "stream",
     "text": [
      "WARNING:absl:Found untraced functions such as lstm_cell_layer_call_fn, lstm_cell_layer_call_and_return_conditional_losses while saving (showing 2 of 2). These functions will not be directly callable after loading.\n"
     ]
    },
    {
     "name": "stdout",
     "output_type": "stream",
     "text": [
      "INFO:tensorflow:Assets written to: C:\\Users\\PARK\\Documents\\LAB\\RNN vs LSTM\\FInal Example\\wandb\\run-20221016_102433-155iu2s1\\files\\model-best\\assets\n"
     ]
    },
    {
     "name": "stderr",
     "output_type": "stream",
     "text": [
      "INFO:tensorflow:Assets written to: C:\\Users\\PARK\\Documents\\LAB\\RNN vs LSTM\\FInal Example\\wandb\\run-20221016_102433-155iu2s1\\files\\model-best\\assets\n",
      "\u001b[34m\u001b[1mwandb\u001b[0m: Adding directory to artifact (C:\\Users\\PARK\\Documents\\LAB\\RNN vs LSTM\\FInal Example\\wandb\\run-20221016_102433-155iu2s1\\files\\model-best)... Done. 0.0s\n"
     ]
    },
    {
     "name": "stdout",
     "output_type": "stream",
     "text": [
      "5/5 [==============================] - 4s 952ms/step - loss: 0.0288 - mae: 0.1282 - val_loss: 0.0307 - val_mae: 0.1328\n",
      "Epoch 198/1000\n",
      "4/5 [=======================>......] - ETA: 0s - loss: 0.0288 - mae: 0.1281"
     ]
    },
    {
     "name": "stderr",
     "output_type": "stream",
     "text": [
      "WARNING:absl:Found untraced functions such as lstm_cell_layer_call_fn, lstm_cell_layer_call_and_return_conditional_losses while saving (showing 2 of 2). These functions will not be directly callable after loading.\n"
     ]
    },
    {
     "name": "stdout",
     "output_type": "stream",
     "text": [
      "INFO:tensorflow:Assets written to: C:\\Users\\PARK\\Documents\\LAB\\RNN vs LSTM\\FInal Example\\wandb\\run-20221016_102433-155iu2s1\\files\\model-best\\assets\n"
     ]
    },
    {
     "name": "stderr",
     "output_type": "stream",
     "text": [
      "INFO:tensorflow:Assets written to: C:\\Users\\PARK\\Documents\\LAB\\RNN vs LSTM\\FInal Example\\wandb\\run-20221016_102433-155iu2s1\\files\\model-best\\assets\n",
      "\u001b[34m\u001b[1mwandb\u001b[0m: Adding directory to artifact (C:\\Users\\PARK\\Documents\\LAB\\RNN vs LSTM\\FInal Example\\wandb\\run-20221016_102433-155iu2s1\\files\\model-best)... Done. 0.0s\n"
     ]
    },
    {
     "name": "stdout",
     "output_type": "stream",
     "text": [
      "5/5 [==============================] - 4s 921ms/step - loss: 0.0284 - mae: 0.1274 - val_loss: 0.0307 - val_mae: 0.1334\n",
      "Epoch 199/1000\n",
      "5/5 [==============================] - 0s 83ms/step - loss: 0.0284 - mae: 0.1271 - val_loss: 0.0307 - val_mae: 0.1341\n",
      "Epoch 200/1000\n",
      "4/5 [=======================>......] - ETA: 0s - loss: 0.0286 - mae: 0.1280"
     ]
    },
    {
     "name": "stderr",
     "output_type": "stream",
     "text": [
      "WARNING:absl:Found untraced functions such as lstm_cell_layer_call_fn, lstm_cell_layer_call_and_return_conditional_losses while saving (showing 2 of 2). These functions will not be directly callable after loading.\n"
     ]
    },
    {
     "name": "stdout",
     "output_type": "stream",
     "text": [
      "INFO:tensorflow:Assets written to: C:\\Users\\PARK\\Documents\\LAB\\RNN vs LSTM\\FInal Example\\wandb\\run-20221016_102433-155iu2s1\\files\\model-best\\assets\n"
     ]
    },
    {
     "name": "stderr",
     "output_type": "stream",
     "text": [
      "INFO:tensorflow:Assets written to: C:\\Users\\PARK\\Documents\\LAB\\RNN vs LSTM\\FInal Example\\wandb\\run-20221016_102433-155iu2s1\\files\\model-best\\assets\n",
      "\u001b[34m\u001b[1mwandb\u001b[0m: Adding directory to artifact (C:\\Users\\PARK\\Documents\\LAB\\RNN vs LSTM\\FInal Example\\wandb\\run-20221016_102433-155iu2s1\\files\\model-best)... Done. 0.0s\n"
     ]
    },
    {
     "name": "stdout",
     "output_type": "stream",
     "text": [
      "5/5 [==============================] - 4s 912ms/step - loss: 0.0283 - mae: 0.1274 - val_loss: 0.0307 - val_mae: 0.1326\n",
      "Epoch 201/1000\n",
      "5/5 [==============================] - ETA: 0s - loss: 0.0282 - mae: 0.1267"
     ]
    },
    {
     "name": "stderr",
     "output_type": "stream",
     "text": [
      "WARNING:absl:Found untraced functions such as lstm_cell_layer_call_fn, lstm_cell_layer_call_and_return_conditional_losses while saving (showing 2 of 2). These functions will not be directly callable after loading.\n"
     ]
    },
    {
     "name": "stdout",
     "output_type": "stream",
     "text": [
      "INFO:tensorflow:Assets written to: C:\\Users\\PARK\\Documents\\LAB\\RNN vs LSTM\\FInal Example\\wandb\\run-20221016_102433-155iu2s1\\files\\model-best\\assets\n"
     ]
    },
    {
     "name": "stderr",
     "output_type": "stream",
     "text": [
      "INFO:tensorflow:Assets written to: C:\\Users\\PARK\\Documents\\LAB\\RNN vs LSTM\\FInal Example\\wandb\\run-20221016_102433-155iu2s1\\files\\model-best\\assets\n",
      "\u001b[34m\u001b[1mwandb\u001b[0m: Adding directory to artifact (C:\\Users\\PARK\\Documents\\LAB\\RNN vs LSTM\\FInal Example\\wandb\\run-20221016_102433-155iu2s1\\files\\model-best)... Done. 0.0s\n"
     ]
    },
    {
     "name": "stdout",
     "output_type": "stream",
     "text": [
      "5/5 [==============================] - 4s 935ms/step - loss: 0.0282 - mae: 0.1267 - val_loss: 0.0301 - val_mae: 0.1324\n",
      "Epoch 202/1000\n",
      "3/5 [=================>............] - ETA: 0s - loss: 0.0276 - mae: 0.1246"
     ]
    },
    {
     "name": "stderr",
     "output_type": "stream",
     "text": [
      "WARNING:absl:Found untraced functions such as lstm_cell_layer_call_fn, lstm_cell_layer_call_and_return_conditional_losses while saving (showing 2 of 2). These functions will not be directly callable after loading.\n"
     ]
    },
    {
     "name": "stdout",
     "output_type": "stream",
     "text": [
      "INFO:tensorflow:Assets written to: C:\\Users\\PARK\\Documents\\LAB\\RNN vs LSTM\\FInal Example\\wandb\\run-20221016_102433-155iu2s1\\files\\model-best\\assets\n"
     ]
    },
    {
     "name": "stderr",
     "output_type": "stream",
     "text": [
      "INFO:tensorflow:Assets written to: C:\\Users\\PARK\\Documents\\LAB\\RNN vs LSTM\\FInal Example\\wandb\\run-20221016_102433-155iu2s1\\files\\model-best\\assets\n",
      "\u001b[34m\u001b[1mwandb\u001b[0m: Adding directory to artifact (C:\\Users\\PARK\\Documents\\LAB\\RNN vs LSTM\\FInal Example\\wandb\\run-20221016_102433-155iu2s1\\files\\model-best)... Done. 0.0s\n"
     ]
    },
    {
     "name": "stdout",
     "output_type": "stream",
     "text": [
      "5/5 [==============================] - 4s 940ms/step - loss: 0.0278 - mae: 0.1254 - val_loss: 0.0299 - val_mae: 0.1317\n",
      "Epoch 203/1000\n",
      "5/5 [==============================] - 0s 71ms/step - loss: 0.0278 - mae: 0.1260 - val_loss: 0.0301 - val_mae: 0.1317\n",
      "Epoch 204/1000\n",
      "5/5 [==============================] - 0s 42ms/step - loss: 0.0278 - mae: 0.1258 - val_loss: 0.0305 - val_mae: 0.1317\n",
      "Epoch 205/1000\n",
      "5/5 [==============================] - 0s 26ms/step - loss: 0.0276 - mae: 0.1254 - val_loss: 0.0299 - val_mae: 0.1316\n",
      "Epoch 206/1000\n",
      "5/5 [==============================] - 0s 27ms/step - loss: 0.0276 - mae: 0.1252 - val_loss: 0.0299 - val_mae: 0.1322\n",
      "Epoch 207/1000\n",
      "1/5 [=====>........................] - ETA: 0s - loss: 0.0286 - mae: 0.1291"
     ]
    },
    {
     "name": "stderr",
     "output_type": "stream",
     "text": [
      "WARNING:absl:Found untraced functions such as lstm_cell_layer_call_fn, lstm_cell_layer_call_and_return_conditional_losses while saving (showing 2 of 2). These functions will not be directly callable after loading.\n"
     ]
    },
    {
     "name": "stdout",
     "output_type": "stream",
     "text": [
      "INFO:tensorflow:Assets written to: C:\\Users\\PARK\\Documents\\LAB\\RNN vs LSTM\\FInal Example\\wandb\\run-20221016_102433-155iu2s1\\files\\model-best\\assets\n"
     ]
    },
    {
     "name": "stderr",
     "output_type": "stream",
     "text": [
      "INFO:tensorflow:Assets written to: C:\\Users\\PARK\\Documents\\LAB\\RNN vs LSTM\\FInal Example\\wandb\\run-20221016_102433-155iu2s1\\files\\model-best\\assets\n",
      "\u001b[34m\u001b[1mwandb\u001b[0m: Adding directory to artifact (C:\\Users\\PARK\\Documents\\LAB\\RNN vs LSTM\\FInal Example\\wandb\\run-20221016_102433-155iu2s1\\files\\model-best)... Done. 0.0s\n"
     ]
    },
    {
     "name": "stdout",
     "output_type": "stream",
     "text": [
      "5/5 [==============================] - 4s 877ms/step - loss: 0.0277 - mae: 0.1259 - val_loss: 0.0296 - val_mae: 0.1314\n",
      "Epoch 208/1000\n",
      "5/5 [==============================] - 0s 66ms/step - loss: 0.0275 - mae: 0.1255 - val_loss: 0.0299 - val_mae: 0.1319\n",
      "Epoch 209/1000\n",
      "5/5 [==============================] - 0s 52ms/step - loss: 0.0277 - mae: 0.1260 - val_loss: 0.0304 - val_mae: 0.1316\n",
      "Epoch 210/1000\n",
      "5/5 [==============================] - 0s 38ms/step - loss: 0.0278 - mae: 0.1262 - val_loss: 0.0297 - val_mae: 0.1321\n",
      "Epoch 211/1000\n",
      "5/5 [==============================] - 0s 34ms/step - loss: 0.0280 - mae: 0.1262 - val_loss: 0.0311 - val_mae: 0.1370\n",
      "Epoch 212/1000\n",
      "5/5 [==============================] - 0s 30ms/step - loss: 0.0280 - mae: 0.1267 - val_loss: 0.0302 - val_mae: 0.1345\n",
      "Epoch 213/1000\n",
      "1/5 [=====>........................] - ETA: 0s - loss: 0.0295 - mae: 0.1323"
     ]
    },
    {
     "name": "stderr",
     "output_type": "stream",
     "text": [
      "WARNING:absl:Found untraced functions such as lstm_cell_layer_call_fn, lstm_cell_layer_call_and_return_conditional_losses while saving (showing 2 of 2). These functions will not be directly callable after loading.\n"
     ]
    },
    {
     "name": "stdout",
     "output_type": "stream",
     "text": [
      "INFO:tensorflow:Assets written to: C:\\Users\\PARK\\Documents\\LAB\\RNN vs LSTM\\FInal Example\\wandb\\run-20221016_102433-155iu2s1\\files\\model-best\\assets\n"
     ]
    },
    {
     "name": "stderr",
     "output_type": "stream",
     "text": [
      "INFO:tensorflow:Assets written to: C:\\Users\\PARK\\Documents\\LAB\\RNN vs LSTM\\FInal Example\\wandb\\run-20221016_102433-155iu2s1\\files\\model-best\\assets\n",
      "\u001b[34m\u001b[1mwandb\u001b[0m: Adding directory to artifact (C:\\Users\\PARK\\Documents\\LAB\\RNN vs LSTM\\FInal Example\\wandb\\run-20221016_102433-155iu2s1\\files\\model-best)... Done. 0.0s\n"
     ]
    },
    {
     "name": "stdout",
     "output_type": "stream",
     "text": [
      "5/5 [==============================] - 4s 900ms/step - loss: 0.0275 - mae: 0.1258 - val_loss: 0.0291 - val_mae: 0.1318\n",
      "Epoch 214/1000\n",
      "3/5 [=================>............] - ETA: 0s - loss: 0.0269 - mae: 0.1245"
     ]
    },
    {
     "name": "stderr",
     "output_type": "stream",
     "text": [
      "WARNING:absl:Found untraced functions such as lstm_cell_layer_call_fn, lstm_cell_layer_call_and_return_conditional_losses while saving (showing 2 of 2). These functions will not be directly callable after loading.\n"
     ]
    },
    {
     "name": "stdout",
     "output_type": "stream",
     "text": [
      "INFO:tensorflow:Assets written to: C:\\Users\\PARK\\Documents\\LAB\\RNN vs LSTM\\FInal Example\\wandb\\run-20221016_102433-155iu2s1\\files\\model-best\\assets\n"
     ]
    },
    {
     "name": "stderr",
     "output_type": "stream",
     "text": [
      "INFO:tensorflow:Assets written to: C:\\Users\\PARK\\Documents\\LAB\\RNN vs LSTM\\FInal Example\\wandb\\run-20221016_102433-155iu2s1\\files\\model-best\\assets\n",
      "\u001b[34m\u001b[1mwandb\u001b[0m: Adding directory to artifact (C:\\Users\\PARK\\Documents\\LAB\\RNN vs LSTM\\FInal Example\\wandb\\run-20221016_102433-155iu2s1\\files\\model-best)... Done. 0.0s\n"
     ]
    },
    {
     "name": "stdout",
     "output_type": "stream",
     "text": [
      "5/5 [==============================] - 4s 889ms/step - loss: 0.0273 - mae: 0.1247 - val_loss: 0.0290 - val_mae: 0.1307\n",
      "Epoch 215/1000\n",
      "5/5 [==============================] - 0s 67ms/step - loss: 0.0269 - mae: 0.1244 - val_loss: 0.0301 - val_mae: 0.1348\n",
      "Epoch 216/1000\n",
      "5/5 [==============================] - 0s 49ms/step - loss: 0.0273 - mae: 0.1256 - val_loss: 0.0291 - val_mae: 0.1309\n",
      "Epoch 217/1000\n",
      "5/5 [==============================] - 0s 40ms/step - loss: 0.0277 - mae: 0.1265 - val_loss: 0.0292 - val_mae: 0.1320\n",
      "Epoch 218/1000\n",
      "1/5 [=====>........................] - ETA: 0s - loss: 0.0277 - mae: 0.1267"
     ]
    },
    {
     "name": "stderr",
     "output_type": "stream",
     "text": [
      "WARNING:absl:Found untraced functions such as lstm_cell_layer_call_fn, lstm_cell_layer_call_and_return_conditional_losses while saving (showing 2 of 2). These functions will not be directly callable after loading.\n"
     ]
    },
    {
     "name": "stdout",
     "output_type": "stream",
     "text": [
      "INFO:tensorflow:Assets written to: C:\\Users\\PARK\\Documents\\LAB\\RNN vs LSTM\\FInal Example\\wandb\\run-20221016_102433-155iu2s1\\files\\model-best\\assets\n"
     ]
    },
    {
     "name": "stderr",
     "output_type": "stream",
     "text": [
      "INFO:tensorflow:Assets written to: C:\\Users\\PARK\\Documents\\LAB\\RNN vs LSTM\\FInal Example\\wandb\\run-20221016_102433-155iu2s1\\files\\model-best\\assets\n",
      "\u001b[34m\u001b[1mwandb\u001b[0m: Adding directory to artifact (C:\\Users\\PARK\\Documents\\LAB\\RNN vs LSTM\\FInal Example\\wandb\\run-20221016_102433-155iu2s1\\files\\model-best)... Done. 0.0s\n"
     ]
    },
    {
     "name": "stdout",
     "output_type": "stream",
     "text": [
      "5/5 [==============================] - 4s 925ms/step - loss: 0.0274 - mae: 0.1257 - val_loss: 0.0287 - val_mae: 0.1291\n",
      "Epoch 219/1000\n",
      "5/5 [==============================] - 0s 72ms/step - loss: 0.0270 - mae: 0.1251 - val_loss: 0.0289 - val_mae: 0.1288\n",
      "Epoch 220/1000\n",
      "5/5 [==============================] - 0s 49ms/step - loss: 0.0272 - mae: 0.1245 - val_loss: 0.0294 - val_mae: 0.1304\n",
      "Epoch 221/1000\n",
      "5/5 [==============================] - 0s 45ms/step - loss: 0.0270 - mae: 0.1250 - val_loss: 0.0298 - val_mae: 0.1303\n",
      "Epoch 222/1000\n",
      "5/5 [==============================] - 0s 39ms/step - loss: 0.0272 - mae: 0.1254 - val_loss: 0.0293 - val_mae: 0.1298\n",
      "Epoch 223/1000\n",
      "5/5 [==============================] - 0s 31ms/step - loss: 0.0274 - mae: 0.1255 - val_loss: 0.0294 - val_mae: 0.1309\n",
      "Epoch 224/1000\n",
      "5/5 [==============================] - 0s 31ms/step - loss: 0.0268 - mae: 0.1242 - val_loss: 0.0291 - val_mae: 0.1309\n",
      "Epoch 225/1000\n",
      "5/5 [==============================] - 0s 30ms/step - loss: 0.0265 - mae: 0.1239 - val_loss: 0.0292 - val_mae: 0.1293\n",
      "Epoch 226/1000\n",
      "5/5 [==============================] - 0s 30ms/step - loss: 0.0268 - mae: 0.1235 - val_loss: 0.0296 - val_mae: 0.1312\n",
      "Epoch 227/1000\n",
      "5/5 [==============================] - 0s 30ms/step - loss: 0.0264 - mae: 0.1231 - val_loss: 0.0290 - val_mae: 0.1309\n",
      "Epoch 228/1000\n",
      "5/5 [==============================] - 0s 29ms/step - loss: 0.0263 - mae: 0.1233 - val_loss: 0.0294 - val_mae: 0.1341\n",
      "Epoch 229/1000\n",
      "1/5 [=====>........................] - ETA: 0s - loss: 0.0261 - mae: 0.1245"
     ]
    },
    {
     "name": "stderr",
     "output_type": "stream",
     "text": [
      "WARNING:absl:Found untraced functions such as lstm_cell_layer_call_fn, lstm_cell_layer_call_and_return_conditional_losses while saving (showing 2 of 2). These functions will not be directly callable after loading.\n"
     ]
    },
    {
     "name": "stdout",
     "output_type": "stream",
     "text": [
      "INFO:tensorflow:Assets written to: C:\\Users\\PARK\\Documents\\LAB\\RNN vs LSTM\\FInal Example\\wandb\\run-20221016_102433-155iu2s1\\files\\model-best\\assets\n"
     ]
    },
    {
     "name": "stderr",
     "output_type": "stream",
     "text": [
      "INFO:tensorflow:Assets written to: C:\\Users\\PARK\\Documents\\LAB\\RNN vs LSTM\\FInal Example\\wandb\\run-20221016_102433-155iu2s1\\files\\model-best\\assets\n",
      "\u001b[34m\u001b[1mwandb\u001b[0m: Adding directory to artifact (C:\\Users\\PARK\\Documents\\LAB\\RNN vs LSTM\\FInal Example\\wandb\\run-20221016_102433-155iu2s1\\files\\model-best)... Done. 0.0s\n"
     ]
    },
    {
     "name": "stdout",
     "output_type": "stream",
     "text": [
      "5/5 [==============================] - 4s 900ms/step - loss: 0.0264 - mae: 0.1236 - val_loss: 0.0283 - val_mae: 0.1290\n",
      "Epoch 230/1000\n",
      "5/5 [==============================] - 0s 74ms/step - loss: 0.0265 - mae: 0.1227 - val_loss: 0.0290 - val_mae: 0.1315\n",
      "Epoch 231/1000\n",
      "5/5 [==============================] - ETA: 0s - loss: 0.0263 - mae: 0.1232"
     ]
    },
    {
     "name": "stderr",
     "output_type": "stream",
     "text": [
      "WARNING:absl:Found untraced functions such as lstm_cell_layer_call_fn, lstm_cell_layer_call_and_return_conditional_losses while saving (showing 2 of 2). These functions will not be directly callable after loading.\n"
     ]
    },
    {
     "name": "stdout",
     "output_type": "stream",
     "text": [
      "INFO:tensorflow:Assets written to: C:\\Users\\PARK\\Documents\\LAB\\RNN vs LSTM\\FInal Example\\wandb\\run-20221016_102433-155iu2s1\\files\\model-best\\assets\n"
     ]
    },
    {
     "name": "stderr",
     "output_type": "stream",
     "text": [
      "INFO:tensorflow:Assets written to: C:\\Users\\PARK\\Documents\\LAB\\RNN vs LSTM\\FInal Example\\wandb\\run-20221016_102433-155iu2s1\\files\\model-best\\assets\n",
      "\u001b[34m\u001b[1mwandb\u001b[0m: Adding directory to artifact (C:\\Users\\PARK\\Documents\\LAB\\RNN vs LSTM\\FInal Example\\wandb\\run-20221016_102433-155iu2s1\\files\\model-best)... Done. 0.0s\n"
     ]
    },
    {
     "name": "stdout",
     "output_type": "stream",
     "text": [
      "5/5 [==============================] - 4s 912ms/step - loss: 0.0263 - mae: 0.1232 - val_loss: 0.0280 - val_mae: 0.1279\n",
      "Epoch 232/1000\n",
      "5/5 [==============================] - 0s 68ms/step - loss: 0.0258 - mae: 0.1214 - val_loss: 0.0283 - val_mae: 0.1305\n",
      "Epoch 233/1000\n",
      "5/5 [==============================] - 0s 47ms/step - loss: 0.0257 - mae: 0.1215 - val_loss: 0.0281 - val_mae: 0.1296\n",
      "Epoch 234/1000\n",
      "5/5 [==============================] - 0s 44ms/step - loss: 0.0260 - mae: 0.1222 - val_loss: 0.0282 - val_mae: 0.1303\n",
      "Epoch 235/1000\n",
      "5/5 [==============================] - 0s 31ms/step - loss: 0.0256 - mae: 0.1221 - val_loss: 0.0290 - val_mae: 0.1329\n",
      "Epoch 236/1000\n",
      "5/5 [==============================] - 0s 31ms/step - loss: 0.0262 - mae: 0.1234 - val_loss: 0.0294 - val_mae: 0.1350\n",
      "Epoch 237/1000\n",
      "5/5 [==============================] - 0s 30ms/step - loss: 0.0258 - mae: 0.1229 - val_loss: 0.0281 - val_mae: 0.1298\n",
      "Epoch 238/1000\n",
      "5/5 [==============================] - 0s 30ms/step - loss: 0.0255 - mae: 0.1218 - val_loss: 0.0284 - val_mae: 0.1322\n",
      "Epoch 239/1000\n",
      "5/5 [==============================] - 0s 30ms/step - loss: 0.0257 - mae: 0.1227 - val_loss: 0.0285 - val_mae: 0.1312\n",
      "Epoch 240/1000\n",
      "1/5 [=====>........................] - ETA: 0s - loss: 0.0243 - mae: 0.1212"
     ]
    },
    {
     "name": "stderr",
     "output_type": "stream",
     "text": [
      "WARNING:absl:Found untraced functions such as lstm_cell_layer_call_fn, lstm_cell_layer_call_and_return_conditional_losses while saving (showing 2 of 2). These functions will not be directly callable after loading.\n"
     ]
    },
    {
     "name": "stdout",
     "output_type": "stream",
     "text": [
      "INFO:tensorflow:Assets written to: C:\\Users\\PARK\\Documents\\LAB\\RNN vs LSTM\\FInal Example\\wandb\\run-20221016_102433-155iu2s1\\files\\model-best\\assets\n"
     ]
    },
    {
     "name": "stderr",
     "output_type": "stream",
     "text": [
      "INFO:tensorflow:Assets written to: C:\\Users\\PARK\\Documents\\LAB\\RNN vs LSTM\\FInal Example\\wandb\\run-20221016_102433-155iu2s1\\files\\model-best\\assets\n",
      "\u001b[34m\u001b[1mwandb\u001b[0m: Adding directory to artifact (C:\\Users\\PARK\\Documents\\LAB\\RNN vs LSTM\\FInal Example\\wandb\\run-20221016_102433-155iu2s1\\files\\model-best)... Done. 0.0s\n"
     ]
    },
    {
     "name": "stdout",
     "output_type": "stream",
     "text": [
      "5/5 [==============================] - 4s 892ms/step - loss: 0.0256 - mae: 0.1224 - val_loss: 0.0272 - val_mae: 0.1276\n",
      "Epoch 241/1000\n",
      "5/5 [==============================] - 0s 70ms/step - loss: 0.0250 - mae: 0.1200 - val_loss: 0.0273 - val_mae: 0.1280\n",
      "Epoch 242/1000\n",
      "4/5 [=======================>......] - ETA: 0s - loss: 0.0248 - mae: 0.1203"
     ]
    },
    {
     "name": "stderr",
     "output_type": "stream",
     "text": [
      "WARNING:absl:Found untraced functions such as lstm_cell_layer_call_fn, lstm_cell_layer_call_and_return_conditional_losses while saving (showing 2 of 2). These functions will not be directly callable after loading.\n"
     ]
    },
    {
     "name": "stdout",
     "output_type": "stream",
     "text": [
      "INFO:tensorflow:Assets written to: C:\\Users\\PARK\\Documents\\LAB\\RNN vs LSTM\\FInal Example\\wandb\\run-20221016_102433-155iu2s1\\files\\model-best\\assets\n"
     ]
    },
    {
     "name": "stderr",
     "output_type": "stream",
     "text": [
      "INFO:tensorflow:Assets written to: C:\\Users\\PARK\\Documents\\LAB\\RNN vs LSTM\\FInal Example\\wandb\\run-20221016_102433-155iu2s1\\files\\model-best\\assets\n",
      "\u001b[34m\u001b[1mwandb\u001b[0m: Adding directory to artifact (C:\\Users\\PARK\\Documents\\LAB\\RNN vs LSTM\\FInal Example\\wandb\\run-20221016_102433-155iu2s1\\files\\model-best)... Done. 0.0s\n"
     ]
    },
    {
     "name": "stdout",
     "output_type": "stream",
     "text": [
      "5/5 [==============================] - 4s 936ms/step - loss: 0.0247 - mae: 0.1202 - val_loss: 0.0269 - val_mae: 0.1272\n",
      "Epoch 243/1000\n",
      "5/5 [==============================] - 0s 76ms/step - loss: 0.0245 - mae: 0.1191 - val_loss: 0.0274 - val_mae: 0.1289\n",
      "Epoch 244/1000\n",
      "5/5 [==============================] - 0s 50ms/step - loss: 0.0248 - mae: 0.1204 - val_loss: 0.0272 - val_mae: 0.1281\n",
      "Epoch 245/1000\n",
      "1/5 [=====>........................] - ETA: 0s - loss: 0.0259 - mae: 0.1228"
     ]
    },
    {
     "name": "stderr",
     "output_type": "stream",
     "text": [
      "WARNING:absl:Found untraced functions such as lstm_cell_layer_call_fn, lstm_cell_layer_call_and_return_conditional_losses while saving (showing 2 of 2). These functions will not be directly callable after loading.\n"
     ]
    },
    {
     "name": "stdout",
     "output_type": "stream",
     "text": [
      "INFO:tensorflow:Assets written to: C:\\Users\\PARK\\Documents\\LAB\\RNN vs LSTM\\FInal Example\\wandb\\run-20221016_102433-155iu2s1\\files\\model-best\\assets\n"
     ]
    },
    {
     "name": "stderr",
     "output_type": "stream",
     "text": [
      "INFO:tensorflow:Assets written to: C:\\Users\\PARK\\Documents\\LAB\\RNN vs LSTM\\FInal Example\\wandb\\run-20221016_102433-155iu2s1\\files\\model-best\\assets\n",
      "\u001b[34m\u001b[1mwandb\u001b[0m: Adding directory to artifact (C:\\Users\\PARK\\Documents\\LAB\\RNN vs LSTM\\FInal Example\\wandb\\run-20221016_102433-155iu2s1\\files\\model-best)... Done. 0.0s\n"
     ]
    },
    {
     "name": "stdout",
     "output_type": "stream",
     "text": [
      "5/5 [==============================] - 4s 877ms/step - loss: 0.0244 - mae: 0.1193 - val_loss: 0.0268 - val_mae: 0.1278\n",
      "Epoch 246/1000\n",
      "5/5 [==============================] - 0s 72ms/step - loss: 0.0243 - mae: 0.1189 - val_loss: 0.0269 - val_mae: 0.1271\n",
      "Epoch 247/1000\n",
      "5/5 [==============================] - 0s 51ms/step - loss: 0.0245 - mae: 0.1196 - val_loss: 0.0269 - val_mae: 0.1274\n",
      "Epoch 248/1000\n",
      "1/5 [=====>........................] - ETA: 0s - loss: 0.0224 - mae: 0.1154"
     ]
    },
    {
     "name": "stderr",
     "output_type": "stream",
     "text": [
      "WARNING:absl:Found untraced functions such as lstm_cell_layer_call_fn, lstm_cell_layer_call_and_return_conditional_losses while saving (showing 2 of 2). These functions will not be directly callable after loading.\n"
     ]
    },
    {
     "name": "stdout",
     "output_type": "stream",
     "text": [
      "INFO:tensorflow:Assets written to: C:\\Users\\PARK\\Documents\\LAB\\RNN vs LSTM\\FInal Example\\wandb\\run-20221016_102433-155iu2s1\\files\\model-best\\assets\n"
     ]
    },
    {
     "name": "stderr",
     "output_type": "stream",
     "text": [
      "INFO:tensorflow:Assets written to: C:\\Users\\PARK\\Documents\\LAB\\RNN vs LSTM\\FInal Example\\wandb\\run-20221016_102433-155iu2s1\\files\\model-best\\assets\n",
      "\u001b[34m\u001b[1mwandb\u001b[0m: Adding directory to artifact (C:\\Users\\PARK\\Documents\\LAB\\RNN vs LSTM\\FInal Example\\wandb\\run-20221016_102433-155iu2s1\\files\\model-best)... Done. 0.0s\n"
     ]
    },
    {
     "name": "stdout",
     "output_type": "stream",
     "text": [
      "5/5 [==============================] - 4s 935ms/step - loss: 0.0246 - mae: 0.1195 - val_loss: 0.0265 - val_mae: 0.1259\n",
      "Epoch 249/1000\n",
      "5/5 [==============================] - 0s 54ms/step - loss: 0.0242 - mae: 0.1191 - val_loss: 0.0265 - val_mae: 0.1264\n",
      "Epoch 250/1000\n",
      "1/5 [=====>........................] - ETA: 0s - loss: 0.0252 - mae: 0.1217"
     ]
    },
    {
     "name": "stderr",
     "output_type": "stream",
     "text": [
      "WARNING:absl:Found untraced functions such as lstm_cell_layer_call_fn, lstm_cell_layer_call_and_return_conditional_losses while saving (showing 2 of 2). These functions will not be directly callable after loading.\n"
     ]
    },
    {
     "name": "stdout",
     "output_type": "stream",
     "text": [
      "INFO:tensorflow:Assets written to: C:\\Users\\PARK\\Documents\\LAB\\RNN vs LSTM\\FInal Example\\wandb\\run-20221016_102433-155iu2s1\\files\\model-best\\assets\n"
     ]
    },
    {
     "name": "stderr",
     "output_type": "stream",
     "text": [
      "INFO:tensorflow:Assets written to: C:\\Users\\PARK\\Documents\\LAB\\RNN vs LSTM\\FInal Example\\wandb\\run-20221016_102433-155iu2s1\\files\\model-best\\assets\n",
      "\u001b[34m\u001b[1mwandb\u001b[0m: Adding directory to artifact (C:\\Users\\PARK\\Documents\\LAB\\RNN vs LSTM\\FInal Example\\wandb\\run-20221016_102433-155iu2s1\\files\\model-best)... Done. 0.0s\n"
     ]
    },
    {
     "name": "stdout",
     "output_type": "stream",
     "text": [
      "5/5 [==============================] - 4s 897ms/step - loss: 0.0241 - mae: 0.1189 - val_loss: 0.0263 - val_mae: 0.1258\n",
      "Epoch 251/1000\n",
      "5/5 [==============================] - ETA: 0s - loss: 0.0238 - mae: 0.1183"
     ]
    },
    {
     "name": "stderr",
     "output_type": "stream",
     "text": [
      "WARNING:absl:Found untraced functions such as lstm_cell_layer_call_fn, lstm_cell_layer_call_and_return_conditional_losses while saving (showing 2 of 2). These functions will not be directly callable after loading.\n"
     ]
    },
    {
     "name": "stdout",
     "output_type": "stream",
     "text": [
      "INFO:tensorflow:Assets written to: C:\\Users\\PARK\\Documents\\LAB\\RNN vs LSTM\\FInal Example\\wandb\\run-20221016_102433-155iu2s1\\files\\model-best\\assets\n"
     ]
    },
    {
     "name": "stderr",
     "output_type": "stream",
     "text": [
      "INFO:tensorflow:Assets written to: C:\\Users\\PARK\\Documents\\LAB\\RNN vs LSTM\\FInal Example\\wandb\\run-20221016_102433-155iu2s1\\files\\model-best\\assets\n",
      "\u001b[34m\u001b[1mwandb\u001b[0m: Adding directory to artifact (C:\\Users\\PARK\\Documents\\LAB\\RNN vs LSTM\\FInal Example\\wandb\\run-20221016_102433-155iu2s1\\files\\model-best)... Done. 0.0s\n"
     ]
    },
    {
     "name": "stdout",
     "output_type": "stream",
     "text": [
      "5/5 [==============================] - 4s 933ms/step - loss: 0.0238 - mae: 0.1183 - val_loss: 0.0263 - val_mae: 0.1260\n",
      "Epoch 252/1000\n",
      "3/5 [=================>............] - ETA: 0s - loss: 0.0233 - mae: 0.1176"
     ]
    },
    {
     "name": "stderr",
     "output_type": "stream",
     "text": [
      "WARNING:absl:Found untraced functions such as lstm_cell_layer_call_fn, lstm_cell_layer_call_and_return_conditional_losses while saving (showing 2 of 2). These functions will not be directly callable after loading.\n"
     ]
    },
    {
     "name": "stdout",
     "output_type": "stream",
     "text": [
      "INFO:tensorflow:Assets written to: C:\\Users\\PARK\\Documents\\LAB\\RNN vs LSTM\\FInal Example\\wandb\\run-20221016_102433-155iu2s1\\files\\model-best\\assets\n"
     ]
    },
    {
     "name": "stderr",
     "output_type": "stream",
     "text": [
      "INFO:tensorflow:Assets written to: C:\\Users\\PARK\\Documents\\LAB\\RNN vs LSTM\\FInal Example\\wandb\\run-20221016_102433-155iu2s1\\files\\model-best\\assets\n",
      "\u001b[34m\u001b[1mwandb\u001b[0m: Adding directory to artifact (C:\\Users\\PARK\\Documents\\LAB\\RNN vs LSTM\\FInal Example\\wandb\\run-20221016_102433-155iu2s1\\files\\model-best)... Done. 0.0s\n"
     ]
    },
    {
     "name": "stdout",
     "output_type": "stream",
     "text": [
      "5/5 [==============================] - 4s 924ms/step - loss: 0.0237 - mae: 0.1181 - val_loss: 0.0260 - val_mae: 0.1257\n",
      "Epoch 253/1000\n",
      "5/5 [==============================] - 0s 53ms/step - loss: 0.0241 - mae: 0.1192 - val_loss: 0.0261 - val_mae: 0.1242\n",
      "Epoch 254/1000\n",
      "5/5 [==============================] - 0s 25ms/step - loss: 0.0238 - mae: 0.1180 - val_loss: 0.0269 - val_mae: 0.1280\n",
      "Epoch 255/1000\n",
      "5/5 [==============================] - 0s 26ms/step - loss: 0.0239 - mae: 0.1187 - val_loss: 0.0262 - val_mae: 0.1254\n",
      "Epoch 256/1000\n",
      "5/5 [==============================] - 0s 27ms/step - loss: 0.0236 - mae: 0.1179 - val_loss: 0.0262 - val_mae: 0.1264\n",
      "Epoch 257/1000\n",
      "1/5 [=====>........................] - ETA: 0s - loss: 0.0258 - mae: 0.1256"
     ]
    },
    {
     "name": "stderr",
     "output_type": "stream",
     "text": [
      "WARNING:absl:Found untraced functions such as lstm_cell_layer_call_fn, lstm_cell_layer_call_and_return_conditional_losses while saving (showing 2 of 2). These functions will not be directly callable after loading.\n"
     ]
    },
    {
     "name": "stdout",
     "output_type": "stream",
     "text": [
      "INFO:tensorflow:Assets written to: C:\\Users\\PARK\\Documents\\LAB\\RNN vs LSTM\\FInal Example\\wandb\\run-20221016_102433-155iu2s1\\files\\model-best\\assets\n"
     ]
    },
    {
     "name": "stderr",
     "output_type": "stream",
     "text": [
      "INFO:tensorflow:Assets written to: C:\\Users\\PARK\\Documents\\LAB\\RNN vs LSTM\\FInal Example\\wandb\\run-20221016_102433-155iu2s1\\files\\model-best\\assets\n",
      "\u001b[34m\u001b[1mwandb\u001b[0m: Adding directory to artifact (C:\\Users\\PARK\\Documents\\LAB\\RNN vs LSTM\\FInal Example\\wandb\\run-20221016_102433-155iu2s1\\files\\model-best)... Done. 0.0s\n"
     ]
    },
    {
     "name": "stdout",
     "output_type": "stream",
     "text": [
      "5/5 [==============================] - 3s 837ms/step - loss: 0.0233 - mae: 0.1176 - val_loss: 0.0259 - val_mae: 0.1246\n",
      "Epoch 258/1000\n",
      "5/5 [==============================] - 0s 64ms/step - loss: 0.0230 - mae: 0.1165 - val_loss: 0.0259 - val_mae: 0.1266\n",
      "Epoch 259/1000\n",
      "5/5 [==============================] - 0s 50ms/step - loss: 0.0232 - mae: 0.1173 - val_loss: 0.0259 - val_mae: 0.1254\n",
      "Epoch 260/1000\n",
      "5/5 [==============================] - 0s 43ms/step - loss: 0.0236 - mae: 0.1186 - val_loss: 0.0261 - val_mae: 0.1251\n",
      "Epoch 261/1000\n",
      "1/5 [=====>........................] - ETA: 0s - loss: 0.0244 - mae: 0.1181"
     ]
    },
    {
     "name": "stderr",
     "output_type": "stream",
     "text": [
      "WARNING:absl:Found untraced functions such as lstm_cell_layer_call_fn, lstm_cell_layer_call_and_return_conditional_losses while saving (showing 2 of 2). These functions will not be directly callable after loading.\n"
     ]
    },
    {
     "name": "stdout",
     "output_type": "stream",
     "text": [
      "INFO:tensorflow:Assets written to: C:\\Users\\PARK\\Documents\\LAB\\RNN vs LSTM\\FInal Example\\wandb\\run-20221016_102433-155iu2s1\\files\\model-best\\assets\n"
     ]
    },
    {
     "name": "stderr",
     "output_type": "stream",
     "text": [
      "INFO:tensorflow:Assets written to: C:\\Users\\PARK\\Documents\\LAB\\RNN vs LSTM\\FInal Example\\wandb\\run-20221016_102433-155iu2s1\\files\\model-best\\assets\n",
      "\u001b[34m\u001b[1mwandb\u001b[0m: Adding directory to artifact (C:\\Users\\PARK\\Documents\\LAB\\RNN vs LSTM\\FInal Example\\wandb\\run-20221016_102433-155iu2s1\\files\\model-best)... Done. 0.0s\n"
     ]
    },
    {
     "name": "stdout",
     "output_type": "stream",
     "text": [
      "5/5 [==============================] - 4s 948ms/step - loss: 0.0230 - mae: 0.1163 - val_loss: 0.0258 - val_mae: 0.1256\n",
      "Epoch 262/1000\n",
      "5/5 [==============================] - 0s 73ms/step - loss: 0.0230 - mae: 0.1175 - val_loss: 0.0263 - val_mae: 0.1272\n",
      "Epoch 263/1000\n",
      "5/5 [==============================] - ETA: 0s - loss: 0.0228 - mae: 0.1165"
     ]
    },
    {
     "name": "stderr",
     "output_type": "stream",
     "text": [
      "WARNING:absl:Found untraced functions such as lstm_cell_layer_call_fn, lstm_cell_layer_call_and_return_conditional_losses while saving (showing 2 of 2). These functions will not be directly callable after loading.\n"
     ]
    },
    {
     "name": "stdout",
     "output_type": "stream",
     "text": [
      "INFO:tensorflow:Assets written to: C:\\Users\\PARK\\Documents\\LAB\\RNN vs LSTM\\FInal Example\\wandb\\run-20221016_102433-155iu2s1\\files\\model-best\\assets\n"
     ]
    },
    {
     "name": "stderr",
     "output_type": "stream",
     "text": [
      "INFO:tensorflow:Assets written to: C:\\Users\\PARK\\Documents\\LAB\\RNN vs LSTM\\FInal Example\\wandb\\run-20221016_102433-155iu2s1\\files\\model-best\\assets\n",
      "\u001b[34m\u001b[1mwandb\u001b[0m: Adding directory to artifact (C:\\Users\\PARK\\Documents\\LAB\\RNN vs LSTM\\FInal Example\\wandb\\run-20221016_102433-155iu2s1\\files\\model-best)... Done. 0.0s\n"
     ]
    },
    {
     "name": "stdout",
     "output_type": "stream",
     "text": [
      "5/5 [==============================] - 4s 915ms/step - loss: 0.0228 - mae: 0.1165 - val_loss: 0.0251 - val_mae: 0.1230\n",
      "Epoch 264/1000\n",
      "5/5 [==============================] - ETA: 0s - loss: 0.0221 - mae: 0.1151"
     ]
    },
    {
     "name": "stderr",
     "output_type": "stream",
     "text": [
      "WARNING:absl:Found untraced functions such as lstm_cell_layer_call_fn, lstm_cell_layer_call_and_return_conditional_losses while saving (showing 2 of 2). These functions will not be directly callable after loading.\n"
     ]
    },
    {
     "name": "stdout",
     "output_type": "stream",
     "text": [
      "INFO:tensorflow:Assets written to: C:\\Users\\PARK\\Documents\\LAB\\RNN vs LSTM\\FInal Example\\wandb\\run-20221016_102433-155iu2s1\\files\\model-best\\assets\n"
     ]
    },
    {
     "name": "stderr",
     "output_type": "stream",
     "text": [
      "INFO:tensorflow:Assets written to: C:\\Users\\PARK\\Documents\\LAB\\RNN vs LSTM\\FInal Example\\wandb\\run-20221016_102433-155iu2s1\\files\\model-best\\assets\n",
      "\u001b[34m\u001b[1mwandb\u001b[0m: Adding directory to artifact (C:\\Users\\PARK\\Documents\\LAB\\RNN vs LSTM\\FInal Example\\wandb\\run-20221016_102433-155iu2s1\\files\\model-best)... Done. 0.0s\n"
     ]
    },
    {
     "name": "stdout",
     "output_type": "stream",
     "text": [
      "5/5 [==============================] - 4s 919ms/step - loss: 0.0221 - mae: 0.1151 - val_loss: 0.0248 - val_mae: 0.1228\n",
      "Epoch 265/1000\n",
      "5/5 [==============================] - ETA: 0s - loss: 0.0219 - mae: 0.1145"
     ]
    },
    {
     "name": "stderr",
     "output_type": "stream",
     "text": [
      "WARNING:absl:Found untraced functions such as lstm_cell_layer_call_fn, lstm_cell_layer_call_and_return_conditional_losses while saving (showing 2 of 2). These functions will not be directly callable after loading.\n"
     ]
    },
    {
     "name": "stdout",
     "output_type": "stream",
     "text": [
      "INFO:tensorflow:Assets written to: C:\\Users\\PARK\\Documents\\LAB\\RNN vs LSTM\\FInal Example\\wandb\\run-20221016_102433-155iu2s1\\files\\model-best\\assets\n"
     ]
    },
    {
     "name": "stderr",
     "output_type": "stream",
     "text": [
      "INFO:tensorflow:Assets written to: C:\\Users\\PARK\\Documents\\LAB\\RNN vs LSTM\\FInal Example\\wandb\\run-20221016_102433-155iu2s1\\files\\model-best\\assets\n",
      "\u001b[34m\u001b[1mwandb\u001b[0m: Adding directory to artifact (C:\\Users\\PARK\\Documents\\LAB\\RNN vs LSTM\\FInal Example\\wandb\\run-20221016_102433-155iu2s1\\files\\model-best)... Done. 0.0s\n"
     ]
    },
    {
     "name": "stdout",
     "output_type": "stream",
     "text": [
      "5/5 [==============================] - 4s 950ms/step - loss: 0.0219 - mae: 0.1145 - val_loss: 0.0246 - val_mae: 0.1221\n",
      "Epoch 266/1000\n",
      "5/5 [==============================] - 0s 73ms/step - loss: 0.0220 - mae: 0.1143 - val_loss: 0.0252 - val_mae: 0.1245\n",
      "Epoch 267/1000\n",
      "5/5 [==============================] - 0s 49ms/step - loss: 0.0218 - mae: 0.1144 - val_loss: 0.0250 - val_mae: 0.1230\n",
      "Epoch 268/1000\n",
      "5/5 [==============================] - 0s 43ms/step - loss: 0.0221 - mae: 0.1143 - val_loss: 0.0253 - val_mae: 0.1250\n",
      "Epoch 269/1000\n",
      "5/5 [==============================] - 0s 32ms/step - loss: 0.0224 - mae: 0.1154 - val_loss: 0.0253 - val_mae: 0.1231\n",
      "Epoch 270/1000\n",
      "1/5 [=====>........................] - ETA: 0s - loss: 0.0232 - mae: 0.1177"
     ]
    },
    {
     "name": "stderr",
     "output_type": "stream",
     "text": [
      "WARNING:absl:Found untraced functions such as lstm_cell_layer_call_fn, lstm_cell_layer_call_and_return_conditional_losses while saving (showing 2 of 2). These functions will not be directly callable after loading.\n"
     ]
    },
    {
     "name": "stdout",
     "output_type": "stream",
     "text": [
      "INFO:tensorflow:Assets written to: C:\\Users\\PARK\\Documents\\LAB\\RNN vs LSTM\\FInal Example\\wandb\\run-20221016_102433-155iu2s1\\files\\model-best\\assets\n"
     ]
    },
    {
     "name": "stderr",
     "output_type": "stream",
     "text": [
      "INFO:tensorflow:Assets written to: C:\\Users\\PARK\\Documents\\LAB\\RNN vs LSTM\\FInal Example\\wandb\\run-20221016_102433-155iu2s1\\files\\model-best\\assets\n",
      "\u001b[34m\u001b[1mwandb\u001b[0m: Adding directory to artifact (C:\\Users\\PARK\\Documents\\LAB\\RNN vs LSTM\\FInal Example\\wandb\\run-20221016_102433-155iu2s1\\files\\model-best)... Done. 0.0s\n"
     ]
    },
    {
     "name": "stdout",
     "output_type": "stream",
     "text": [
      "5/5 [==============================] - 4s 887ms/step - loss: 0.0222 - mae: 0.1156 - val_loss: 0.0244 - val_mae: 0.1232\n",
      "Epoch 271/1000\n",
      "5/5 [==============================] - 0s 76ms/step - loss: 0.0220 - mae: 0.1156 - val_loss: 0.0257 - val_mae: 0.1242\n",
      "Epoch 272/1000\n",
      "5/5 [==============================] - 0s 55ms/step - loss: 0.0227 - mae: 0.1174 - val_loss: 0.0256 - val_mae: 0.1269\n",
      "Epoch 273/1000\n",
      "5/5 [==============================] - ETA: 0s - loss: 0.0237 - mae: 0.1187"
     ]
    },
    {
     "name": "stderr",
     "output_type": "stream",
     "text": [
      "WARNING:absl:Found untraced functions such as lstm_cell_layer_call_fn, lstm_cell_layer_call_and_return_conditional_losses while saving (showing 2 of 2). These functions will not be directly callable after loading.\n"
     ]
    },
    {
     "name": "stdout",
     "output_type": "stream",
     "text": [
      "INFO:tensorflow:Assets written to: C:\\Users\\PARK\\Documents\\LAB\\RNN vs LSTM\\FInal Example\\wandb\\run-20221016_102433-155iu2s1\\files\\model-best\\assets\n"
     ]
    },
    {
     "name": "stderr",
     "output_type": "stream",
     "text": [
      "INFO:tensorflow:Assets written to: C:\\Users\\PARK\\Documents\\LAB\\RNN vs LSTM\\FInal Example\\wandb\\run-20221016_102433-155iu2s1\\files\\model-best\\assets\n",
      "\u001b[34m\u001b[1mwandb\u001b[0m: Adding directory to artifact (C:\\Users\\PARK\\Documents\\LAB\\RNN vs LSTM\\FInal Example\\wandb\\run-20221016_102433-155iu2s1\\files\\model-best)... Done. 0.0s\n"
     ]
    },
    {
     "name": "stdout",
     "output_type": "stream",
     "text": [
      "5/5 [==============================] - 4s 901ms/step - loss: 0.0237 - mae: 0.1187 - val_loss: 0.0234 - val_mae: 0.1188\n",
      "Epoch 274/1000\n",
      "5/5 [==============================] - 0s 70ms/step - loss: 0.0227 - mae: 0.1155 - val_loss: 0.0235 - val_mae: 0.1202\n",
      "Epoch 275/1000\n",
      "5/5 [==============================] - 0s 54ms/step - loss: 0.0216 - mae: 0.1130 - val_loss: 0.0263 - val_mae: 0.1244\n",
      "Epoch 276/1000\n",
      "5/5 [==============================] - 0s 43ms/step - loss: 0.0219 - mae: 0.1133 - val_loss: 0.0248 - val_mae: 0.1250\n",
      "Epoch 277/1000\n",
      "5/5 [==============================] - 0s 37ms/step - loss: 0.0218 - mae: 0.1150 - val_loss: 0.0238 - val_mae: 0.1196\n",
      "Epoch 278/1000\n",
      "5/5 [==============================] - 0s 30ms/step - loss: 0.0209 - mae: 0.1118 - val_loss: 0.0236 - val_mae: 0.1208\n",
      "Epoch 279/1000\n",
      "5/5 [==============================] - 0s 30ms/step - loss: 0.0208 - mae: 0.1115 - val_loss: 0.0241 - val_mae: 0.1218\n",
      "Epoch 280/1000\n",
      "1/5 [=====>........................] - ETA: 0s - loss: 0.0206 - mae: 0.1143"
     ]
    },
    {
     "name": "stderr",
     "output_type": "stream",
     "text": [
      "WARNING:absl:Found untraced functions such as lstm_cell_layer_call_fn, lstm_cell_layer_call_and_return_conditional_losses while saving (showing 2 of 2). These functions will not be directly callable after loading.\n"
     ]
    },
    {
     "name": "stdout",
     "output_type": "stream",
     "text": [
      "INFO:tensorflow:Assets written to: C:\\Users\\PARK\\Documents\\LAB\\RNN vs LSTM\\FInal Example\\wandb\\run-20221016_102433-155iu2s1\\files\\model-best\\assets\n"
     ]
    },
    {
     "name": "stderr",
     "output_type": "stream",
     "text": [
      "INFO:tensorflow:Assets written to: C:\\Users\\PARK\\Documents\\LAB\\RNN vs LSTM\\FInal Example\\wandb\\run-20221016_102433-155iu2s1\\files\\model-best\\assets\n",
      "\u001b[34m\u001b[1mwandb\u001b[0m: Adding directory to artifact (C:\\Users\\PARK\\Documents\\LAB\\RNN vs LSTM\\FInal Example\\wandb\\run-20221016_102433-155iu2s1\\files\\model-best)... Done. 0.0s\n"
     ]
    },
    {
     "name": "stdout",
     "output_type": "stream",
     "text": [
      "5/5 [==============================] - 4s 907ms/step - loss: 0.0201 - mae: 0.1107 - val_loss: 0.0227 - val_mae: 0.1174\n",
      "Epoch 281/1000\n",
      "5/5 [==============================] - ETA: 0s - loss: 0.0199 - mae: 0.1101"
     ]
    },
    {
     "name": "stderr",
     "output_type": "stream",
     "text": [
      "WARNING:absl:Found untraced functions such as lstm_cell_layer_call_fn, lstm_cell_layer_call_and_return_conditional_losses while saving (showing 2 of 2). These functions will not be directly callable after loading.\n"
     ]
    },
    {
     "name": "stdout",
     "output_type": "stream",
     "text": [
      "INFO:tensorflow:Assets written to: C:\\Users\\PARK\\Documents\\LAB\\RNN vs LSTM\\FInal Example\\wandb\\run-20221016_102433-155iu2s1\\files\\model-best\\assets\n"
     ]
    },
    {
     "name": "stderr",
     "output_type": "stream",
     "text": [
      "INFO:tensorflow:Assets written to: C:\\Users\\PARK\\Documents\\LAB\\RNN vs LSTM\\FInal Example\\wandb\\run-20221016_102433-155iu2s1\\files\\model-best\\assets\n",
      "\u001b[34m\u001b[1mwandb\u001b[0m: Adding directory to artifact (C:\\Users\\PARK\\Documents\\LAB\\RNN vs LSTM\\FInal Example\\wandb\\run-20221016_102433-155iu2s1\\files\\model-best)... Done. 0.0s\n"
     ]
    },
    {
     "name": "stdout",
     "output_type": "stream",
     "text": [
      "5/5 [==============================] - 4s 900ms/step - loss: 0.0199 - mae: 0.1101 - val_loss: 0.0226 - val_mae: 0.1169\n",
      "Epoch 282/1000\n",
      "5/5 [==============================] - ETA: 0s - loss: 0.0198 - mae: 0.1098"
     ]
    },
    {
     "name": "stderr",
     "output_type": "stream",
     "text": [
      "WARNING:absl:Found untraced functions such as lstm_cell_layer_call_fn, lstm_cell_layer_call_and_return_conditional_losses while saving (showing 2 of 2). These functions will not be directly callable after loading.\n"
     ]
    },
    {
     "name": "stdout",
     "output_type": "stream",
     "text": [
      "INFO:tensorflow:Assets written to: C:\\Users\\PARK\\Documents\\LAB\\RNN vs LSTM\\FInal Example\\wandb\\run-20221016_102433-155iu2s1\\files\\model-best\\assets\n"
     ]
    },
    {
     "name": "stderr",
     "output_type": "stream",
     "text": [
      "INFO:tensorflow:Assets written to: C:\\Users\\PARK\\Documents\\LAB\\RNN vs LSTM\\FInal Example\\wandb\\run-20221016_102433-155iu2s1\\files\\model-best\\assets\n",
      "\u001b[34m\u001b[1mwandb\u001b[0m: Adding directory to artifact (C:\\Users\\PARK\\Documents\\LAB\\RNN vs LSTM\\FInal Example\\wandb\\run-20221016_102433-155iu2s1\\files\\model-best)... Done. 0.0s\n"
     ]
    },
    {
     "name": "stdout",
     "output_type": "stream",
     "text": [
      "5/5 [==============================] - 4s 932ms/step - loss: 0.0198 - mae: 0.1098 - val_loss: 0.0220 - val_mae: 0.1169\n",
      "Epoch 283/1000\n",
      "5/5 [==============================] - ETA: 0s - loss: 0.0194 - mae: 0.1087"
     ]
    },
    {
     "name": "stderr",
     "output_type": "stream",
     "text": [
      "WARNING:absl:Found untraced functions such as lstm_cell_layer_call_fn, lstm_cell_layer_call_and_return_conditional_losses while saving (showing 2 of 2). These functions will not be directly callable after loading.\n"
     ]
    },
    {
     "name": "stdout",
     "output_type": "stream",
     "text": [
      "INFO:tensorflow:Assets written to: C:\\Users\\PARK\\Documents\\LAB\\RNN vs LSTM\\FInal Example\\wandb\\run-20221016_102433-155iu2s1\\files\\model-best\\assets\n"
     ]
    },
    {
     "name": "stderr",
     "output_type": "stream",
     "text": [
      "INFO:tensorflow:Assets written to: C:\\Users\\PARK\\Documents\\LAB\\RNN vs LSTM\\FInal Example\\wandb\\run-20221016_102433-155iu2s1\\files\\model-best\\assets\n",
      "\u001b[34m\u001b[1mwandb\u001b[0m: Adding directory to artifact (C:\\Users\\PARK\\Documents\\LAB\\RNN vs LSTM\\FInal Example\\wandb\\run-20221016_102433-155iu2s1\\files\\model-best)... Done. 0.0s\n"
     ]
    },
    {
     "name": "stdout",
     "output_type": "stream",
     "text": [
      "5/5 [==============================] - 4s 931ms/step - loss: 0.0194 - mae: 0.1087 - val_loss: 0.0217 - val_mae: 0.1158\n",
      "Epoch 284/1000\n",
      "5/5 [==============================] - ETA: 0s - loss: 0.0193 - mae: 0.1080"
     ]
    },
    {
     "name": "stderr",
     "output_type": "stream",
     "text": [
      "WARNING:absl:Found untraced functions such as lstm_cell_layer_call_fn, lstm_cell_layer_call_and_return_conditional_losses while saving (showing 2 of 2). These functions will not be directly callable after loading.\n"
     ]
    },
    {
     "name": "stdout",
     "output_type": "stream",
     "text": [
      "INFO:tensorflow:Assets written to: C:\\Users\\PARK\\Documents\\LAB\\RNN vs LSTM\\FInal Example\\wandb\\run-20221016_102433-155iu2s1\\files\\model-best\\assets\n"
     ]
    },
    {
     "name": "stderr",
     "output_type": "stream",
     "text": [
      "INFO:tensorflow:Assets written to: C:\\Users\\PARK\\Documents\\LAB\\RNN vs LSTM\\FInal Example\\wandb\\run-20221016_102433-155iu2s1\\files\\model-best\\assets\n",
      "\u001b[34m\u001b[1mwandb\u001b[0m: Adding directory to artifact (C:\\Users\\PARK\\Documents\\LAB\\RNN vs LSTM\\FInal Example\\wandb\\run-20221016_102433-155iu2s1\\files\\model-best)... Done. 0.0s\n"
     ]
    },
    {
     "name": "stdout",
     "output_type": "stream",
     "text": [
      "5/5 [==============================] - 4s 932ms/step - loss: 0.0193 - mae: 0.1080 - val_loss: 0.0214 - val_mae: 0.1150\n",
      "Epoch 285/1000\n",
      "5/5 [==============================] - 0s 79ms/step - loss: 0.0192 - mae: 0.1078 - val_loss: 0.0219 - val_mae: 0.1150\n",
      "Epoch 286/1000\n",
      "4/5 [=======================>......] - ETA: 0s - loss: 0.0193 - mae: 0.1083"
     ]
    },
    {
     "name": "stderr",
     "output_type": "stream",
     "text": [
      "WARNING:absl:Found untraced functions such as lstm_cell_layer_call_fn, lstm_cell_layer_call_and_return_conditional_losses while saving (showing 2 of 2). These functions will not be directly callable after loading.\n"
     ]
    },
    {
     "name": "stdout",
     "output_type": "stream",
     "text": [
      "INFO:tensorflow:Assets written to: C:\\Users\\PARK\\Documents\\LAB\\RNN vs LSTM\\FInal Example\\wandb\\run-20221016_102433-155iu2s1\\files\\model-best\\assets\n"
     ]
    },
    {
     "name": "stderr",
     "output_type": "stream",
     "text": [
      "INFO:tensorflow:Assets written to: C:\\Users\\PARK\\Documents\\LAB\\RNN vs LSTM\\FInal Example\\wandb\\run-20221016_102433-155iu2s1\\files\\model-best\\assets\n",
      "\u001b[34m\u001b[1mwandb\u001b[0m: Adding directory to artifact (C:\\Users\\PARK\\Documents\\LAB\\RNN vs LSTM\\FInal Example\\wandb\\run-20221016_102433-155iu2s1\\files\\model-best)... Done. 0.0s\n"
     ]
    },
    {
     "name": "stdout",
     "output_type": "stream",
     "text": [
      "5/5 [==============================] - 4s 893ms/step - loss: 0.0194 - mae: 0.1082 - val_loss: 0.0213 - val_mae: 0.1149\n",
      "Epoch 287/1000\n",
      "3/5 [=================>............] - ETA: 0s - loss: 0.0182 - mae: 0.1062"
     ]
    },
    {
     "name": "stderr",
     "output_type": "stream",
     "text": [
      "WARNING:absl:Found untraced functions such as lstm_cell_layer_call_fn, lstm_cell_layer_call_and_return_conditional_losses while saving (showing 2 of 2). These functions will not be directly callable after loading.\n"
     ]
    },
    {
     "name": "stdout",
     "output_type": "stream",
     "text": [
      "INFO:tensorflow:Assets written to: C:\\Users\\PARK\\Documents\\LAB\\RNN vs LSTM\\FInal Example\\wandb\\run-20221016_102433-155iu2s1\\files\\model-best\\assets\n"
     ]
    },
    {
     "name": "stderr",
     "output_type": "stream",
     "text": [
      "INFO:tensorflow:Assets written to: C:\\Users\\PARK\\Documents\\LAB\\RNN vs LSTM\\FInal Example\\wandb\\run-20221016_102433-155iu2s1\\files\\model-best\\assets\n",
      "\u001b[34m\u001b[1mwandb\u001b[0m: Adding directory to artifact (C:\\Users\\PARK\\Documents\\LAB\\RNN vs LSTM\\FInal Example\\wandb\\run-20221016_102433-155iu2s1\\files\\model-best)... Done. 0.0s\n"
     ]
    },
    {
     "name": "stdout",
     "output_type": "stream",
     "text": [
      "5/5 [==============================] - 4s 941ms/step - loss: 0.0190 - mae: 0.1076 - val_loss: 0.0211 - val_mae: 0.1121\n",
      "Epoch 288/1000\n",
      "5/5 [==============================] - ETA: 0s - loss: 0.0185 - mae: 0.1060"
     ]
    },
    {
     "name": "stderr",
     "output_type": "stream",
     "text": [
      "WARNING:absl:Found untraced functions such as lstm_cell_layer_call_fn, lstm_cell_layer_call_and_return_conditional_losses while saving (showing 2 of 2). These functions will not be directly callable after loading.\n"
     ]
    },
    {
     "name": "stdout",
     "output_type": "stream",
     "text": [
      "INFO:tensorflow:Assets written to: C:\\Users\\PARK\\Documents\\LAB\\RNN vs LSTM\\FInal Example\\wandb\\run-20221016_102433-155iu2s1\\files\\model-best\\assets\n"
     ]
    },
    {
     "name": "stderr",
     "output_type": "stream",
     "text": [
      "INFO:tensorflow:Assets written to: C:\\Users\\PARK\\Documents\\LAB\\RNN vs LSTM\\FInal Example\\wandb\\run-20221016_102433-155iu2s1\\files\\model-best\\assets\n",
      "\u001b[34m\u001b[1mwandb\u001b[0m: Adding directory to artifact (C:\\Users\\PARK\\Documents\\LAB\\RNN vs LSTM\\FInal Example\\wandb\\run-20221016_102433-155iu2s1\\files\\model-best)... Done. 0.0s\n"
     ]
    },
    {
     "name": "stdout",
     "output_type": "stream",
     "text": [
      "5/5 [==============================] - 4s 942ms/step - loss: 0.0185 - mae: 0.1060 - val_loss: 0.0208 - val_mae: 0.1134\n",
      "Epoch 289/1000\n",
      "5/5 [==============================] - ETA: 0s - loss: 0.0183 - mae: 0.1058"
     ]
    },
    {
     "name": "stderr",
     "output_type": "stream",
     "text": [
      "WARNING:absl:Found untraced functions such as lstm_cell_layer_call_fn, lstm_cell_layer_call_and_return_conditional_losses while saving (showing 2 of 2). These functions will not be directly callable after loading.\n"
     ]
    },
    {
     "name": "stdout",
     "output_type": "stream",
     "text": [
      "INFO:tensorflow:Assets written to: C:\\Users\\PARK\\Documents\\LAB\\RNN vs LSTM\\FInal Example\\wandb\\run-20221016_102433-155iu2s1\\files\\model-best\\assets\n"
     ]
    },
    {
     "name": "stderr",
     "output_type": "stream",
     "text": [
      "INFO:tensorflow:Assets written to: C:\\Users\\PARK\\Documents\\LAB\\RNN vs LSTM\\FInal Example\\wandb\\run-20221016_102433-155iu2s1\\files\\model-best\\assets\n",
      "\u001b[34m\u001b[1mwandb\u001b[0m: Adding directory to artifact (C:\\Users\\PARK\\Documents\\LAB\\RNN vs LSTM\\FInal Example\\wandb\\run-20221016_102433-155iu2s1\\files\\model-best)... Done. 0.0s\n"
     ]
    },
    {
     "name": "stdout",
     "output_type": "stream",
     "text": [
      "5/5 [==============================] - 4s 927ms/step - loss: 0.0183 - mae: 0.1058 - val_loss: 0.0204 - val_mae: 0.1127\n",
      "Epoch 290/1000\n",
      "5/5 [==============================] - 0s 78ms/step - loss: 0.0182 - mae: 0.1056 - val_loss: 0.0206 - val_mae: 0.1132\n",
      "Epoch 291/1000\n",
      "4/5 [=======================>......] - ETA: 0s - loss: 0.0182 - mae: 0.1056"
     ]
    },
    {
     "name": "stderr",
     "output_type": "stream",
     "text": [
      "WARNING:absl:Found untraced functions such as lstm_cell_layer_call_fn, lstm_cell_layer_call_and_return_conditional_losses while saving (showing 2 of 2). These functions will not be directly callable after loading.\n"
     ]
    },
    {
     "name": "stdout",
     "output_type": "stream",
     "text": [
      "INFO:tensorflow:Assets written to: C:\\Users\\PARK\\Documents\\LAB\\RNN vs LSTM\\FInal Example\\wandb\\run-20221016_102433-155iu2s1\\files\\model-best\\assets\n"
     ]
    },
    {
     "name": "stderr",
     "output_type": "stream",
     "text": [
      "INFO:tensorflow:Assets written to: C:\\Users\\PARK\\Documents\\LAB\\RNN vs LSTM\\FInal Example\\wandb\\run-20221016_102433-155iu2s1\\files\\model-best\\assets\n",
      "\u001b[34m\u001b[1mwandb\u001b[0m: Adding directory to artifact (C:\\Users\\PARK\\Documents\\LAB\\RNN vs LSTM\\FInal Example\\wandb\\run-20221016_102433-155iu2s1\\files\\model-best)... Done. 0.0s\n"
     ]
    },
    {
     "name": "stdout",
     "output_type": "stream",
     "text": [
      "5/5 [==============================] - 4s 874ms/step - loss: 0.0180 - mae: 0.1051 - val_loss: 0.0201 - val_mae: 0.1120\n",
      "Epoch 292/1000\n",
      "5/5 [==============================] - ETA: 0s - loss: 0.0175 - mae: 0.1039"
     ]
    },
    {
     "name": "stderr",
     "output_type": "stream",
     "text": [
      "WARNING:absl:Found untraced functions such as lstm_cell_layer_call_fn, lstm_cell_layer_call_and_return_conditional_losses while saving (showing 2 of 2). These functions will not be directly callable after loading.\n"
     ]
    },
    {
     "name": "stdout",
     "output_type": "stream",
     "text": [
      "INFO:tensorflow:Assets written to: C:\\Users\\PARK\\Documents\\LAB\\RNN vs LSTM\\FInal Example\\wandb\\run-20221016_102433-155iu2s1\\files\\model-best\\assets\n"
     ]
    },
    {
     "name": "stderr",
     "output_type": "stream",
     "text": [
      "INFO:tensorflow:Assets written to: C:\\Users\\PARK\\Documents\\LAB\\RNN vs LSTM\\FInal Example\\wandb\\run-20221016_102433-155iu2s1\\files\\model-best\\assets\n",
      "\u001b[34m\u001b[1mwandb\u001b[0m: Adding directory to artifact (C:\\Users\\PARK\\Documents\\LAB\\RNN vs LSTM\\FInal Example\\wandb\\run-20221016_102433-155iu2s1\\files\\model-best)... Done. 0.0s\n"
     ]
    },
    {
     "name": "stdout",
     "output_type": "stream",
     "text": [
      "5/5 [==============================] - 4s 977ms/step - loss: 0.0175 - mae: 0.1039 - val_loss: 0.0196 - val_mae: 0.1110\n",
      "Epoch 293/1000\n",
      "5/5 [==============================] - 0s 74ms/step - loss: 0.0174 - mae: 0.1031 - val_loss: 0.0204 - val_mae: 0.1130\n",
      "Epoch 294/1000\n",
      "4/5 [=======================>......] - ETA: 0s - loss: 0.0170 - mae: 0.1025"
     ]
    },
    {
     "name": "stderr",
     "output_type": "stream",
     "text": [
      "WARNING:absl:Found untraced functions such as lstm_cell_layer_call_fn, lstm_cell_layer_call_and_return_conditional_losses while saving (showing 2 of 2). These functions will not be directly callable after loading.\n"
     ]
    },
    {
     "name": "stdout",
     "output_type": "stream",
     "text": [
      "INFO:tensorflow:Assets written to: C:\\Users\\PARK\\Documents\\LAB\\RNN vs LSTM\\FInal Example\\wandb\\run-20221016_102433-155iu2s1\\files\\model-best\\assets\n"
     ]
    },
    {
     "name": "stderr",
     "output_type": "stream",
     "text": [
      "INFO:tensorflow:Assets written to: C:\\Users\\PARK\\Documents\\LAB\\RNN vs LSTM\\FInal Example\\wandb\\run-20221016_102433-155iu2s1\\files\\model-best\\assets\n",
      "\u001b[34m\u001b[1mwandb\u001b[0m: Adding directory to artifact (C:\\Users\\PARK\\Documents\\LAB\\RNN vs LSTM\\FInal Example\\wandb\\run-20221016_102433-155iu2s1\\files\\model-best)... Done. 0.0s\n"
     ]
    },
    {
     "name": "stdout",
     "output_type": "stream",
     "text": [
      "5/5 [==============================] - 4s 893ms/step - loss: 0.0172 - mae: 0.1030 - val_loss: 0.0192 - val_mae: 0.1091\n",
      "Epoch 295/1000\n",
      "5/5 [==============================] - 0s 76ms/step - loss: 0.0176 - mae: 0.1039 - val_loss: 0.0197 - val_mae: 0.1097\n",
      "Epoch 296/1000\n",
      "5/5 [==============================] - 0s 47ms/step - loss: 0.0171 - mae: 0.1020 - val_loss: 0.0192 - val_mae: 0.1091\n",
      "Epoch 297/1000\n",
      "1/5 [=====>........................] - ETA: 0s - loss: 0.0164 - mae: 0.1014"
     ]
    },
    {
     "name": "stderr",
     "output_type": "stream",
     "text": [
      "WARNING:absl:Found untraced functions such as lstm_cell_layer_call_fn, lstm_cell_layer_call_and_return_conditional_losses while saving (showing 2 of 2). These functions will not be directly callable after loading.\n"
     ]
    },
    {
     "name": "stdout",
     "output_type": "stream",
     "text": [
      "INFO:tensorflow:Assets written to: C:\\Users\\PARK\\Documents\\LAB\\RNN vs LSTM\\FInal Example\\wandb\\run-20221016_102433-155iu2s1\\files\\model-best\\assets\n"
     ]
    },
    {
     "name": "stderr",
     "output_type": "stream",
     "text": [
      "INFO:tensorflow:Assets written to: C:\\Users\\PARK\\Documents\\LAB\\RNN vs LSTM\\FInal Example\\wandb\\run-20221016_102433-155iu2s1\\files\\model-best\\assets\n",
      "\u001b[34m\u001b[1mwandb\u001b[0m: Adding directory to artifact (C:\\Users\\PARK\\Documents\\LAB\\RNN vs LSTM\\FInal Example\\wandb\\run-20221016_102433-155iu2s1\\files\\model-best)... Done. 0.0s\n"
     ]
    },
    {
     "name": "stdout",
     "output_type": "stream",
     "text": [
      "5/5 [==============================] - 3s 865ms/step - loss: 0.0166 - mae: 0.1006 - val_loss: 0.0190 - val_mae: 0.1088\n",
      "Epoch 298/1000\n",
      "4/5 [=======================>......] - ETA: 0s - loss: 0.0162 - mae: 0.0998"
     ]
    },
    {
     "name": "stderr",
     "output_type": "stream",
     "text": [
      "WARNING:absl:Found untraced functions such as lstm_cell_layer_call_fn, lstm_cell_layer_call_and_return_conditional_losses while saving (showing 2 of 2). These functions will not be directly callable after loading.\n"
     ]
    },
    {
     "name": "stdout",
     "output_type": "stream",
     "text": [
      "INFO:tensorflow:Assets written to: C:\\Users\\PARK\\Documents\\LAB\\RNN vs LSTM\\FInal Example\\wandb\\run-20221016_102433-155iu2s1\\files\\model-best\\assets\n"
     ]
    },
    {
     "name": "stderr",
     "output_type": "stream",
     "text": [
      "INFO:tensorflow:Assets written to: C:\\Users\\PARK\\Documents\\LAB\\RNN vs LSTM\\FInal Example\\wandb\\run-20221016_102433-155iu2s1\\files\\model-best\\assets\n",
      "\u001b[34m\u001b[1mwandb\u001b[0m: Adding directory to artifact (C:\\Users\\PARK\\Documents\\LAB\\RNN vs LSTM\\FInal Example\\wandb\\run-20221016_102433-155iu2s1\\files\\model-best)... Done. 0.0s\n"
     ]
    },
    {
     "name": "stdout",
     "output_type": "stream",
     "text": [
      "5/5 [==============================] - 4s 975ms/step - loss: 0.0163 - mae: 0.1004 - val_loss: 0.0187 - val_mae: 0.1087\n",
      "Epoch 299/1000\n",
      "5/5 [==============================] - ETA: 0s - loss: 0.0160 - mae: 0.0995"
     ]
    },
    {
     "name": "stderr",
     "output_type": "stream",
     "text": [
      "WARNING:absl:Found untraced functions such as lstm_cell_layer_call_fn, lstm_cell_layer_call_and_return_conditional_losses while saving (showing 2 of 2). These functions will not be directly callable after loading.\n"
     ]
    },
    {
     "name": "stdout",
     "output_type": "stream",
     "text": [
      "INFO:tensorflow:Assets written to: C:\\Users\\PARK\\Documents\\LAB\\RNN vs LSTM\\FInal Example\\wandb\\run-20221016_102433-155iu2s1\\files\\model-best\\assets\n"
     ]
    },
    {
     "name": "stderr",
     "output_type": "stream",
     "text": [
      "INFO:tensorflow:Assets written to: C:\\Users\\PARK\\Documents\\LAB\\RNN vs LSTM\\FInal Example\\wandb\\run-20221016_102433-155iu2s1\\files\\model-best\\assets\n",
      "\u001b[34m\u001b[1mwandb\u001b[0m: Adding directory to artifact (C:\\Users\\PARK\\Documents\\LAB\\RNN vs LSTM\\FInal Example\\wandb\\run-20221016_102433-155iu2s1\\files\\model-best)... Done. 0.0s\n"
     ]
    },
    {
     "name": "stdout",
     "output_type": "stream",
     "text": [
      "5/5 [==============================] - 4s 937ms/step - loss: 0.0160 - mae: 0.0995 - val_loss: 0.0183 - val_mae: 0.1072\n",
      "Epoch 300/1000\n",
      "5/5 [==============================] - ETA: 0s - loss: 0.0160 - mae: 0.0997"
     ]
    },
    {
     "name": "stderr",
     "output_type": "stream",
     "text": [
      "WARNING:absl:Found untraced functions such as lstm_cell_layer_call_fn, lstm_cell_layer_call_and_return_conditional_losses while saving (showing 2 of 2). These functions will not be directly callable after loading.\n"
     ]
    },
    {
     "name": "stdout",
     "output_type": "stream",
     "text": [
      "INFO:tensorflow:Assets written to: C:\\Users\\PARK\\Documents\\LAB\\RNN vs LSTM\\FInal Example\\wandb\\run-20221016_102433-155iu2s1\\files\\model-best\\assets\n"
     ]
    },
    {
     "name": "stderr",
     "output_type": "stream",
     "text": [
      "INFO:tensorflow:Assets written to: C:\\Users\\PARK\\Documents\\LAB\\RNN vs LSTM\\FInal Example\\wandb\\run-20221016_102433-155iu2s1\\files\\model-best\\assets\n",
      "\u001b[34m\u001b[1mwandb\u001b[0m: Adding directory to artifact (C:\\Users\\PARK\\Documents\\LAB\\RNN vs LSTM\\FInal Example\\wandb\\run-20221016_102433-155iu2s1\\files\\model-best)... Done. 0.0s\n"
     ]
    },
    {
     "name": "stdout",
     "output_type": "stream",
     "text": [
      "5/5 [==============================] - 4s 933ms/step - loss: 0.0160 - mae: 0.0997 - val_loss: 0.0178 - val_mae: 0.1052\n",
      "Epoch 301/1000\n",
      "3/5 [=================>............] - ETA: 0s - loss: 0.0149 - mae: 0.0967"
     ]
    },
    {
     "name": "stderr",
     "output_type": "stream",
     "text": [
      "WARNING:absl:Found untraced functions such as lstm_cell_layer_call_fn, lstm_cell_layer_call_and_return_conditional_losses while saving (showing 2 of 2). These functions will not be directly callable after loading.\n"
     ]
    },
    {
     "name": "stdout",
     "output_type": "stream",
     "text": [
      "INFO:tensorflow:Assets written to: C:\\Users\\PARK\\Documents\\LAB\\RNN vs LSTM\\FInal Example\\wandb\\run-20221016_102433-155iu2s1\\files\\model-best\\assets\n"
     ]
    },
    {
     "name": "stderr",
     "output_type": "stream",
     "text": [
      "INFO:tensorflow:Assets written to: C:\\Users\\PARK\\Documents\\LAB\\RNN vs LSTM\\FInal Example\\wandb\\run-20221016_102433-155iu2s1\\files\\model-best\\assets\n",
      "\u001b[34m\u001b[1mwandb\u001b[0m: Adding directory to artifact (C:\\Users\\PARK\\Documents\\LAB\\RNN vs LSTM\\FInal Example\\wandb\\run-20221016_102433-155iu2s1\\files\\model-best)... Done. 0.0s\n"
     ]
    },
    {
     "name": "stdout",
     "output_type": "stream",
     "text": [
      "5/5 [==============================] - 4s 914ms/step - loss: 0.0158 - mae: 0.0988 - val_loss: 0.0178 - val_mae: 0.1047\n",
      "Epoch 302/1000\n",
      "5/5 [==============================] - 0s 77ms/step - loss: 0.0155 - mae: 0.0978 - val_loss: 0.0180 - val_mae: 0.1064\n",
      "Epoch 303/1000\n",
      "4/5 [=======================>......] - ETA: 0s - loss: 0.0147 - mae: 0.0954"
     ]
    },
    {
     "name": "stderr",
     "output_type": "stream",
     "text": [
      "WARNING:absl:Found untraced functions such as lstm_cell_layer_call_fn, lstm_cell_layer_call_and_return_conditional_losses while saving (showing 2 of 2). These functions will not be directly callable after loading.\n"
     ]
    },
    {
     "name": "stdout",
     "output_type": "stream",
     "text": [
      "INFO:tensorflow:Assets written to: C:\\Users\\PARK\\Documents\\LAB\\RNN vs LSTM\\FInal Example\\wandb\\run-20221016_102433-155iu2s1\\files\\model-best\\assets\n"
     ]
    },
    {
     "name": "stderr",
     "output_type": "stream",
     "text": [
      "INFO:tensorflow:Assets written to: C:\\Users\\PARK\\Documents\\LAB\\RNN vs LSTM\\FInal Example\\wandb\\run-20221016_102433-155iu2s1\\files\\model-best\\assets\n",
      "\u001b[34m\u001b[1mwandb\u001b[0m: Adding directory to artifact (C:\\Users\\PARK\\Documents\\LAB\\RNN vs LSTM\\FInal Example\\wandb\\run-20221016_102433-155iu2s1\\files\\model-best)... Done. 0.0s\n"
     ]
    },
    {
     "name": "stdout",
     "output_type": "stream",
     "text": [
      "5/5 [==============================] - 4s 869ms/step - loss: 0.0151 - mae: 0.0966 - val_loss: 0.0172 - val_mae: 0.1042\n",
      "Epoch 304/1000\n",
      "5/5 [==============================] - ETA: 0s - loss: 0.0148 - mae: 0.0960"
     ]
    },
    {
     "name": "stderr",
     "output_type": "stream",
     "text": [
      "WARNING:absl:Found untraced functions such as lstm_cell_layer_call_fn, lstm_cell_layer_call_and_return_conditional_losses while saving (showing 2 of 2). These functions will not be directly callable after loading.\n"
     ]
    },
    {
     "name": "stdout",
     "output_type": "stream",
     "text": [
      "INFO:tensorflow:Assets written to: C:\\Users\\PARK\\Documents\\LAB\\RNN vs LSTM\\FInal Example\\wandb\\run-20221016_102433-155iu2s1\\files\\model-best\\assets\n"
     ]
    },
    {
     "name": "stderr",
     "output_type": "stream",
     "text": [
      "INFO:tensorflow:Assets written to: C:\\Users\\PARK\\Documents\\LAB\\RNN vs LSTM\\FInal Example\\wandb\\run-20221016_102433-155iu2s1\\files\\model-best\\assets\n",
      "\u001b[34m\u001b[1mwandb\u001b[0m: Adding directory to artifact (C:\\Users\\PARK\\Documents\\LAB\\RNN vs LSTM\\FInal Example\\wandb\\run-20221016_102433-155iu2s1\\files\\model-best)... Done. 0.0s\n"
     ]
    },
    {
     "name": "stdout",
     "output_type": "stream",
     "text": [
      "5/5 [==============================] - 4s 960ms/step - loss: 0.0148 - mae: 0.0960 - val_loss: 0.0171 - val_mae: 0.1031\n",
      "Epoch 305/1000\n",
      "4/5 [=======================>......] - ETA: 0s - loss: 0.0149 - mae: 0.0956"
     ]
    },
    {
     "name": "stderr",
     "output_type": "stream",
     "text": [
      "WARNING:absl:Found untraced functions such as lstm_cell_layer_call_fn, lstm_cell_layer_call_and_return_conditional_losses while saving (showing 2 of 2). These functions will not be directly callable after loading.\n"
     ]
    },
    {
     "name": "stdout",
     "output_type": "stream",
     "text": [
      "INFO:tensorflow:Assets written to: C:\\Users\\PARK\\Documents\\LAB\\RNN vs LSTM\\FInal Example\\wandb\\run-20221016_102433-155iu2s1\\files\\model-best\\assets\n"
     ]
    },
    {
     "name": "stderr",
     "output_type": "stream",
     "text": [
      "INFO:tensorflow:Assets written to: C:\\Users\\PARK\\Documents\\LAB\\RNN vs LSTM\\FInal Example\\wandb\\run-20221016_102433-155iu2s1\\files\\model-best\\assets\n",
      "\u001b[34m\u001b[1mwandb\u001b[0m: Adding directory to artifact (C:\\Users\\PARK\\Documents\\LAB\\RNN vs LSTM\\FInal Example\\wandb\\run-20221016_102433-155iu2s1\\files\\model-best)... Done. 0.0s\n"
     ]
    },
    {
     "name": "stdout",
     "output_type": "stream",
     "text": [
      "5/5 [==============================] - 4s 929ms/step - loss: 0.0147 - mae: 0.0949 - val_loss: 0.0171 - val_mae: 0.1025\n",
      "Epoch 306/1000\n",
      "3/5 [=================>............] - ETA: 0s - loss: 0.0143 - mae: 0.0936"
     ]
    },
    {
     "name": "stderr",
     "output_type": "stream",
     "text": [
      "WARNING:absl:Found untraced functions such as lstm_cell_layer_call_fn, lstm_cell_layer_call_and_return_conditional_losses while saving (showing 2 of 2). These functions will not be directly callable after loading.\n"
     ]
    },
    {
     "name": "stdout",
     "output_type": "stream",
     "text": [
      "INFO:tensorflow:Assets written to: C:\\Users\\PARK\\Documents\\LAB\\RNN vs LSTM\\FInal Example\\wandb\\run-20221016_102433-155iu2s1\\files\\model-best\\assets\n"
     ]
    },
    {
     "name": "stderr",
     "output_type": "stream",
     "text": [
      "INFO:tensorflow:Assets written to: C:\\Users\\PARK\\Documents\\LAB\\RNN vs LSTM\\FInal Example\\wandb\\run-20221016_102433-155iu2s1\\files\\model-best\\assets\n",
      "\u001b[34m\u001b[1mwandb\u001b[0m: Adding directory to artifact (C:\\Users\\PARK\\Documents\\LAB\\RNN vs LSTM\\FInal Example\\wandb\\run-20221016_102433-155iu2s1\\files\\model-best)... Done. 0.0s\n"
     ]
    },
    {
     "name": "stdout",
     "output_type": "stream",
     "text": [
      "5/5 [==============================] - 4s 964ms/step - loss: 0.0145 - mae: 0.0947 - val_loss: 0.0170 - val_mae: 0.1028\n",
      "Epoch 307/1000\n",
      "5/5 [==============================] - ETA: 0s - loss: 0.0144 - mae: 0.0944"
     ]
    },
    {
     "name": "stderr",
     "output_type": "stream",
     "text": [
      "WARNING:absl:Found untraced functions such as lstm_cell_layer_call_fn, lstm_cell_layer_call_and_return_conditional_losses while saving (showing 2 of 2). These functions will not be directly callable after loading.\n"
     ]
    },
    {
     "name": "stdout",
     "output_type": "stream",
     "text": [
      "INFO:tensorflow:Assets written to: C:\\Users\\PARK\\Documents\\LAB\\RNN vs LSTM\\FInal Example\\wandb\\run-20221016_102433-155iu2s1\\files\\model-best\\assets\n"
     ]
    },
    {
     "name": "stderr",
     "output_type": "stream",
     "text": [
      "INFO:tensorflow:Assets written to: C:\\Users\\PARK\\Documents\\LAB\\RNN vs LSTM\\FInal Example\\wandb\\run-20221016_102433-155iu2s1\\files\\model-best\\assets\n",
      "\u001b[34m\u001b[1mwandb\u001b[0m: Adding directory to artifact (C:\\Users\\PARK\\Documents\\LAB\\RNN vs LSTM\\FInal Example\\wandb\\run-20221016_102433-155iu2s1\\files\\model-best)... Done. 0.0s\n"
     ]
    },
    {
     "name": "stdout",
     "output_type": "stream",
     "text": [
      "5/5 [==============================] - 4s 933ms/step - loss: 0.0144 - mae: 0.0944 - val_loss: 0.0169 - val_mae: 0.1025\n",
      "Epoch 308/1000\n",
      "5/5 [==============================] - 0s 76ms/step - loss: 0.0142 - mae: 0.0937 - val_loss: 0.0171 - val_mae: 0.1036\n",
      "Epoch 309/1000\n",
      "5/5 [==============================] - 0s 51ms/step - loss: 0.0142 - mae: 0.0939 - val_loss: 0.0169 - val_mae: 0.1022\n",
      "Epoch 310/1000\n",
      "5/5 [==============================] - 0s 44ms/step - loss: 0.0141 - mae: 0.0933 - val_loss: 0.0176 - val_mae: 0.1027\n",
      "Epoch 311/1000\n",
      "1/5 [=====>........................] - ETA: 0s - loss: 0.0131 - mae: 0.0890"
     ]
    },
    {
     "name": "stderr",
     "output_type": "stream",
     "text": [
      "WARNING:absl:Found untraced functions such as lstm_cell_layer_call_fn, lstm_cell_layer_call_and_return_conditional_losses while saving (showing 2 of 2). These functions will not be directly callable after loading.\n"
     ]
    },
    {
     "name": "stdout",
     "output_type": "stream",
     "text": [
      "INFO:tensorflow:Assets written to: C:\\Users\\PARK\\Documents\\LAB\\RNN vs LSTM\\FInal Example\\wandb\\run-20221016_102433-155iu2s1\\files\\model-best\\assets\n"
     ]
    },
    {
     "name": "stderr",
     "output_type": "stream",
     "text": [
      "INFO:tensorflow:Assets written to: C:\\Users\\PARK\\Documents\\LAB\\RNN vs LSTM\\FInal Example\\wandb\\run-20221016_102433-155iu2s1\\files\\model-best\\assets\n",
      "\u001b[34m\u001b[1mwandb\u001b[0m: Adding directory to artifact (C:\\Users\\PARK\\Documents\\LAB\\RNN vs LSTM\\FInal Example\\wandb\\run-20221016_102433-155iu2s1\\files\\model-best)... Done. 0.0s\n"
     ]
    },
    {
     "name": "stdout",
     "output_type": "stream",
     "text": [
      "5/5 [==============================] - 3s 861ms/step - loss: 0.0142 - mae: 0.0939 - val_loss: 0.0168 - val_mae: 0.1023\n",
      "Epoch 312/1000\n",
      "4/5 [=======================>......] - ETA: 0s - loss: 0.0141 - mae: 0.0933"
     ]
    },
    {
     "name": "stderr",
     "output_type": "stream",
     "text": [
      "WARNING:absl:Found untraced functions such as lstm_cell_layer_call_fn, lstm_cell_layer_call_and_return_conditional_losses while saving (showing 2 of 2). These functions will not be directly callable after loading.\n"
     ]
    },
    {
     "name": "stdout",
     "output_type": "stream",
     "text": [
      "INFO:tensorflow:Assets written to: C:\\Users\\PARK\\Documents\\LAB\\RNN vs LSTM\\FInal Example\\wandb\\run-20221016_102433-155iu2s1\\files\\model-best\\assets\n"
     ]
    },
    {
     "name": "stderr",
     "output_type": "stream",
     "text": [
      "INFO:tensorflow:Assets written to: C:\\Users\\PARK\\Documents\\LAB\\RNN vs LSTM\\FInal Example\\wandb\\run-20221016_102433-155iu2s1\\files\\model-best\\assets\n",
      "\u001b[34m\u001b[1mwandb\u001b[0m: Adding directory to artifact (C:\\Users\\PARK\\Documents\\LAB\\RNN vs LSTM\\FInal Example\\wandb\\run-20221016_102433-155iu2s1\\files\\model-best)... Done. 0.0s\n"
     ]
    },
    {
     "name": "stdout",
     "output_type": "stream",
     "text": [
      "5/5 [==============================] - 4s 967ms/step - loss: 0.0141 - mae: 0.0931 - val_loss: 0.0168 - val_mae: 0.1020\n",
      "Epoch 313/1000\n",
      "3/5 [=================>............] - ETA: 0s - loss: 0.0136 - mae: 0.0922"
     ]
    },
    {
     "name": "stderr",
     "output_type": "stream",
     "text": [
      "WARNING:absl:Found untraced functions such as lstm_cell_layer_call_fn, lstm_cell_layer_call_and_return_conditional_losses while saving (showing 2 of 2). These functions will not be directly callable after loading.\n"
     ]
    },
    {
     "name": "stdout",
     "output_type": "stream",
     "text": [
      "INFO:tensorflow:Assets written to: C:\\Users\\PARK\\Documents\\LAB\\RNN vs LSTM\\FInal Example\\wandb\\run-20221016_102433-155iu2s1\\files\\model-best\\assets\n"
     ]
    },
    {
     "name": "stderr",
     "output_type": "stream",
     "text": [
      "INFO:tensorflow:Assets written to: C:\\Users\\PARK\\Documents\\LAB\\RNN vs LSTM\\FInal Example\\wandb\\run-20221016_102433-155iu2s1\\files\\model-best\\assets\n",
      "\u001b[34m\u001b[1mwandb\u001b[0m: Adding directory to artifact (C:\\Users\\PARK\\Documents\\LAB\\RNN vs LSTM\\FInal Example\\wandb\\run-20221016_102433-155iu2s1\\files\\model-best)... Done. 0.0s\n"
     ]
    },
    {
     "name": "stdout",
     "output_type": "stream",
     "text": [
      "5/5 [==============================] - 4s 936ms/step - loss: 0.0136 - mae: 0.0917 - val_loss: 0.0165 - val_mae: 0.1018\n",
      "Epoch 314/1000\n",
      "3/5 [=================>............] - ETA: 0s - loss: 0.0132 - mae: 0.0904"
     ]
    },
    {
     "name": "stderr",
     "output_type": "stream",
     "text": [
      "WARNING:absl:Found untraced functions such as lstm_cell_layer_call_fn, lstm_cell_layer_call_and_return_conditional_losses while saving (showing 2 of 2). These functions will not be directly callable after loading.\n"
     ]
    },
    {
     "name": "stdout",
     "output_type": "stream",
     "text": [
      "INFO:tensorflow:Assets written to: C:\\Users\\PARK\\Documents\\LAB\\RNN vs LSTM\\FInal Example\\wandb\\run-20221016_102433-155iu2s1\\files\\model-best\\assets\n"
     ]
    },
    {
     "name": "stderr",
     "output_type": "stream",
     "text": [
      "INFO:tensorflow:Assets written to: C:\\Users\\PARK\\Documents\\LAB\\RNN vs LSTM\\FInal Example\\wandb\\run-20221016_102433-155iu2s1\\files\\model-best\\assets\n",
      "\u001b[34m\u001b[1mwandb\u001b[0m: Adding directory to artifact (C:\\Users\\PARK\\Documents\\LAB\\RNN vs LSTM\\FInal Example\\wandb\\run-20221016_102433-155iu2s1\\files\\model-best)... Done. 0.0s\n"
     ]
    },
    {
     "name": "stdout",
     "output_type": "stream",
     "text": [
      "5/5 [==============================] - 4s 937ms/step - loss: 0.0135 - mae: 0.0913 - val_loss: 0.0162 - val_mae: 0.1017\n",
      "Epoch 315/1000\n",
      "5/5 [==============================] - ETA: 0s - loss: 0.0134 - mae: 0.0914"
     ]
    },
    {
     "name": "stderr",
     "output_type": "stream",
     "text": [
      "WARNING:absl:Found untraced functions such as lstm_cell_layer_call_fn, lstm_cell_layer_call_and_return_conditional_losses while saving (showing 2 of 2). These functions will not be directly callable after loading.\n"
     ]
    },
    {
     "name": "stdout",
     "output_type": "stream",
     "text": [
      "INFO:tensorflow:Assets written to: C:\\Users\\PARK\\Documents\\LAB\\RNN vs LSTM\\FInal Example\\wandb\\run-20221016_102433-155iu2s1\\files\\model-best\\assets\n"
     ]
    },
    {
     "name": "stderr",
     "output_type": "stream",
     "text": [
      "INFO:tensorflow:Assets written to: C:\\Users\\PARK\\Documents\\LAB\\RNN vs LSTM\\FInal Example\\wandb\\run-20221016_102433-155iu2s1\\files\\model-best\\assets\n",
      "\u001b[34m\u001b[1mwandb\u001b[0m: Adding directory to artifact (C:\\Users\\PARK\\Documents\\LAB\\RNN vs LSTM\\FInal Example\\wandb\\run-20221016_102433-155iu2s1\\files\\model-best)... Done. 0.0s\n"
     ]
    },
    {
     "name": "stdout",
     "output_type": "stream",
     "text": [
      "5/5 [==============================] - 4s 931ms/step - loss: 0.0134 - mae: 0.0914 - val_loss: 0.0161 - val_mae: 0.1004\n",
      "Epoch 316/1000\n",
      "3/5 [=================>............] - ETA: 0s - loss: 0.0135 - mae: 0.0913"
     ]
    },
    {
     "name": "stderr",
     "output_type": "stream",
     "text": [
      "WARNING:absl:Found untraced functions such as lstm_cell_layer_call_fn, lstm_cell_layer_call_and_return_conditional_losses while saving (showing 2 of 2). These functions will not be directly callable after loading.\n"
     ]
    },
    {
     "name": "stdout",
     "output_type": "stream",
     "text": [
      "INFO:tensorflow:Assets written to: C:\\Users\\PARK\\Documents\\LAB\\RNN vs LSTM\\FInal Example\\wandb\\run-20221016_102433-155iu2s1\\files\\model-best\\assets\n"
     ]
    },
    {
     "name": "stderr",
     "output_type": "stream",
     "text": [
      "INFO:tensorflow:Assets written to: C:\\Users\\PARK\\Documents\\LAB\\RNN vs LSTM\\FInal Example\\wandb\\run-20221016_102433-155iu2s1\\files\\model-best\\assets\n",
      "\u001b[34m\u001b[1mwandb\u001b[0m: Adding directory to artifact (C:\\Users\\PARK\\Documents\\LAB\\RNN vs LSTM\\FInal Example\\wandb\\run-20221016_102433-155iu2s1\\files\\model-best)... Done. 0.0s\n"
     ]
    },
    {
     "name": "stdout",
     "output_type": "stream",
     "text": [
      "5/5 [==============================] - 4s 926ms/step - loss: 0.0133 - mae: 0.0909 - val_loss: 0.0161 - val_mae: 0.1011\n",
      "Epoch 317/1000\n",
      "5/5 [==============================] - 0s 73ms/step - loss: 0.0133 - mae: 0.0902 - val_loss: 0.0165 - val_mae: 0.1023\n",
      "Epoch 318/1000\n",
      "5/5 [==============================] - 0s 40ms/step - loss: 0.0136 - mae: 0.0916 - val_loss: 0.0176 - val_mae: 0.1031\n",
      "Epoch 319/1000\n",
      "5/5 [==============================] - 0s 26ms/step - loss: 0.0151 - mae: 0.0954 - val_loss: 0.0177 - val_mae: 0.1028\n",
      "Epoch 320/1000\n",
      "5/5 [==============================] - 0s 26ms/step - loss: 0.0143 - mae: 0.0929 - val_loss: 0.0169 - val_mae: 0.1012\n",
      "Epoch 321/1000\n",
      "5/5 [==============================] - 0s 25ms/step - loss: 0.0138 - mae: 0.0921 - val_loss: 0.0166 - val_mae: 0.1025\n",
      "Epoch 322/1000\n",
      "1/5 [=====>........................] - ETA: 0s - loss: 0.0150 - mae: 0.0979"
     ]
    },
    {
     "name": "stderr",
     "output_type": "stream",
     "text": [
      "WARNING:absl:Found untraced functions such as lstm_cell_layer_call_fn, lstm_cell_layer_call_and_return_conditional_losses while saving (showing 2 of 2). These functions will not be directly callable after loading.\n"
     ]
    },
    {
     "name": "stdout",
     "output_type": "stream",
     "text": [
      "INFO:tensorflow:Assets written to: C:\\Users\\PARK\\Documents\\LAB\\RNN vs LSTM\\FInal Example\\wandb\\run-20221016_102433-155iu2s1\\files\\model-best\\assets\n"
     ]
    },
    {
     "name": "stderr",
     "output_type": "stream",
     "text": [
      "INFO:tensorflow:Assets written to: C:\\Users\\PARK\\Documents\\LAB\\RNN vs LSTM\\FInal Example\\wandb\\run-20221016_102433-155iu2s1\\files\\model-best\\assets\n",
      "\u001b[34m\u001b[1mwandb\u001b[0m: Adding directory to artifact (C:\\Users\\PARK\\Documents\\LAB\\RNN vs LSTM\\FInal Example\\wandb\\run-20221016_102433-155iu2s1\\files\\model-best)... Done. 0.0s\n"
     ]
    },
    {
     "name": "stdout",
     "output_type": "stream",
     "text": [
      "5/5 [==============================] - 4s 885ms/step - loss: 0.0137 - mae: 0.0918 - val_loss: 0.0160 - val_mae: 0.1000\n",
      "Epoch 323/1000\n",
      "3/5 [=================>............] - ETA: 0s - loss: 0.0134 - mae: 0.0912"
     ]
    },
    {
     "name": "stderr",
     "output_type": "stream",
     "text": [
      "WARNING:absl:Found untraced functions such as lstm_cell_layer_call_fn, lstm_cell_layer_call_and_return_conditional_losses while saving (showing 2 of 2). These functions will not be directly callable after loading.\n"
     ]
    },
    {
     "name": "stdout",
     "output_type": "stream",
     "text": [
      "INFO:tensorflow:Assets written to: C:\\Users\\PARK\\Documents\\LAB\\RNN vs LSTM\\FInal Example\\wandb\\run-20221016_102433-155iu2s1\\files\\model-best\\assets\n"
     ]
    },
    {
     "name": "stderr",
     "output_type": "stream",
     "text": [
      "INFO:tensorflow:Assets written to: C:\\Users\\PARK\\Documents\\LAB\\RNN vs LSTM\\FInal Example\\wandb\\run-20221016_102433-155iu2s1\\files\\model-best\\assets\n",
      "\u001b[34m\u001b[1mwandb\u001b[0m: Adding directory to artifact (C:\\Users\\PARK\\Documents\\LAB\\RNN vs LSTM\\FInal Example\\wandb\\run-20221016_102433-155iu2s1\\files\\model-best)... Done. 0.0s\n"
     ]
    },
    {
     "name": "stdout",
     "output_type": "stream",
     "text": [
      "5/5 [==============================] - 4s 954ms/step - loss: 0.0133 - mae: 0.0906 - val_loss: 0.0159 - val_mae: 0.0995\n",
      "Epoch 324/1000\n",
      "5/5 [==============================] - 0s 78ms/step - loss: 0.0128 - mae: 0.0888 - val_loss: 0.0162 - val_mae: 0.1009\n",
      "Epoch 325/1000\n",
      "5/5 [==============================] - ETA: 0s - loss: 0.0126 - mae: 0.0890"
     ]
    },
    {
     "name": "stderr",
     "output_type": "stream",
     "text": [
      "WARNING:absl:Found untraced functions such as lstm_cell_layer_call_fn, lstm_cell_layer_call_and_return_conditional_losses while saving (showing 2 of 2). These functions will not be directly callable after loading.\n"
     ]
    },
    {
     "name": "stdout",
     "output_type": "stream",
     "text": [
      "INFO:tensorflow:Assets written to: C:\\Users\\PARK\\Documents\\LAB\\RNN vs LSTM\\FInal Example\\wandb\\run-20221016_102433-155iu2s1\\files\\model-best\\assets\n"
     ]
    },
    {
     "name": "stderr",
     "output_type": "stream",
     "text": [
      "INFO:tensorflow:Assets written to: C:\\Users\\PARK\\Documents\\LAB\\RNN vs LSTM\\FInal Example\\wandb\\run-20221016_102433-155iu2s1\\files\\model-best\\assets\n",
      "\u001b[34m\u001b[1mwandb\u001b[0m: Adding directory to artifact (C:\\Users\\PARK\\Documents\\LAB\\RNN vs LSTM\\FInal Example\\wandb\\run-20221016_102433-155iu2s1\\files\\model-best)... Done. 0.0s\n"
     ]
    },
    {
     "name": "stdout",
     "output_type": "stream",
     "text": [
      "5/5 [==============================] - 4s 912ms/step - loss: 0.0126 - mae: 0.0890 - val_loss: 0.0157 - val_mae: 0.0979\n",
      "Epoch 326/1000\n",
      "3/5 [=================>............] - ETA: 0s - loss: 0.0129 - mae: 0.0899"
     ]
    },
    {
     "name": "stderr",
     "output_type": "stream",
     "text": [
      "WARNING:absl:Found untraced functions such as lstm_cell_layer_call_fn, lstm_cell_layer_call_and_return_conditional_losses while saving (showing 2 of 2). These functions will not be directly callable after loading.\n"
     ]
    },
    {
     "name": "stdout",
     "output_type": "stream",
     "text": [
      "INFO:tensorflow:Assets written to: C:\\Users\\PARK\\Documents\\LAB\\RNN vs LSTM\\FInal Example\\wandb\\run-20221016_102433-155iu2s1\\files\\model-best\\assets\n"
     ]
    },
    {
     "name": "stderr",
     "output_type": "stream",
     "text": [
      "INFO:tensorflow:Assets written to: C:\\Users\\PARK\\Documents\\LAB\\RNN vs LSTM\\FInal Example\\wandb\\run-20221016_102433-155iu2s1\\files\\model-best\\assets\n",
      "\u001b[34m\u001b[1mwandb\u001b[0m: Adding directory to artifact (C:\\Users\\PARK\\Documents\\LAB\\RNN vs LSTM\\FInal Example\\wandb\\run-20221016_102433-155iu2s1\\files\\model-best)... Done. 0.0s\n"
     ]
    },
    {
     "name": "stdout",
     "output_type": "stream",
     "text": [
      "5/5 [==============================] - 4s 947ms/step - loss: 0.0125 - mae: 0.0879 - val_loss: 0.0155 - val_mae: 0.0985\n",
      "Epoch 327/1000\n",
      "5/5 [==============================] - 0s 75ms/step - loss: 0.0123 - mae: 0.0876 - val_loss: 0.0156 - val_mae: 0.0984\n",
      "Epoch 328/1000\n",
      "4/5 [=======================>......] - ETA: 0s - loss: 0.0123 - mae: 0.0874"
     ]
    },
    {
     "name": "stderr",
     "output_type": "stream",
     "text": [
      "WARNING:absl:Found untraced functions such as lstm_cell_layer_call_fn, lstm_cell_layer_call_and_return_conditional_losses while saving (showing 2 of 2). These functions will not be directly callable after loading.\n"
     ]
    },
    {
     "name": "stdout",
     "output_type": "stream",
     "text": [
      "INFO:tensorflow:Assets written to: C:\\Users\\PARK\\Documents\\LAB\\RNN vs LSTM\\FInal Example\\wandb\\run-20221016_102433-155iu2s1\\files\\model-best\\assets\n"
     ]
    },
    {
     "name": "stderr",
     "output_type": "stream",
     "text": [
      "INFO:tensorflow:Assets written to: C:\\Users\\PARK\\Documents\\LAB\\RNN vs LSTM\\FInal Example\\wandb\\run-20221016_102433-155iu2s1\\files\\model-best\\assets\n",
      "\u001b[34m\u001b[1mwandb\u001b[0m: Adding directory to artifact (C:\\Users\\PARK\\Documents\\LAB\\RNN vs LSTM\\FInal Example\\wandb\\run-20221016_102433-155iu2s1\\files\\model-best)... Done. 0.0s\n"
     ]
    },
    {
     "name": "stdout",
     "output_type": "stream",
     "text": [
      "5/5 [==============================] - 4s 913ms/step - loss: 0.0122 - mae: 0.0870 - val_loss: 0.0150 - val_mae: 0.0970\n",
      "Epoch 329/1000\n",
      "5/5 [==============================] - 0s 73ms/step - loss: 0.0121 - mae: 0.0866 - val_loss: 0.0150 - val_mae: 0.0972\n",
      "Epoch 330/1000\n",
      "3/5 [=================>............] - ETA: 0s - loss: 0.0115 - mae: 0.0850"
     ]
    },
    {
     "name": "stderr",
     "output_type": "stream",
     "text": [
      "WARNING:absl:Found untraced functions such as lstm_cell_layer_call_fn, lstm_cell_layer_call_and_return_conditional_losses while saving (showing 2 of 2). These functions will not be directly callable after loading.\n"
     ]
    },
    {
     "name": "stdout",
     "output_type": "stream",
     "text": [
      "INFO:tensorflow:Assets written to: C:\\Users\\PARK\\Documents\\LAB\\RNN vs LSTM\\FInal Example\\wandb\\run-20221016_102433-155iu2s1\\files\\model-best\\assets\n"
     ]
    },
    {
     "name": "stderr",
     "output_type": "stream",
     "text": [
      "INFO:tensorflow:Assets written to: C:\\Users\\PARK\\Documents\\LAB\\RNN vs LSTM\\FInal Example\\wandb\\run-20221016_102433-155iu2s1\\files\\model-best\\assets\n",
      "\u001b[34m\u001b[1mwandb\u001b[0m: Adding directory to artifact (C:\\Users\\PARK\\Documents\\LAB\\RNN vs LSTM\\FInal Example\\wandb\\run-20221016_102433-155iu2s1\\files\\model-best)... Done. 0.0s\n"
     ]
    },
    {
     "name": "stdout",
     "output_type": "stream",
     "text": [
      "5/5 [==============================] - 4s 932ms/step - loss: 0.0118 - mae: 0.0861 - val_loss: 0.0148 - val_mae: 0.0960\n",
      "Epoch 331/1000\n",
      "3/5 [=================>............] - ETA: 0s - loss: 0.0112 - mae: 0.0826"
     ]
    },
    {
     "name": "stderr",
     "output_type": "stream",
     "text": [
      "WARNING:absl:Found untraced functions such as lstm_cell_layer_call_fn, lstm_cell_layer_call_and_return_conditional_losses while saving (showing 2 of 2). These functions will not be directly callable after loading.\n"
     ]
    },
    {
     "name": "stdout",
     "output_type": "stream",
     "text": [
      "INFO:tensorflow:Assets written to: C:\\Users\\PARK\\Documents\\LAB\\RNN vs LSTM\\FInal Example\\wandb\\run-20221016_102433-155iu2s1\\files\\model-best\\assets\n"
     ]
    },
    {
     "name": "stderr",
     "output_type": "stream",
     "text": [
      "INFO:tensorflow:Assets written to: C:\\Users\\PARK\\Documents\\LAB\\RNN vs LSTM\\FInal Example\\wandb\\run-20221016_102433-155iu2s1\\files\\model-best\\assets\n",
      "\u001b[34m\u001b[1mwandb\u001b[0m: Adding directory to artifact (C:\\Users\\PARK\\Documents\\LAB\\RNN vs LSTM\\FInal Example\\wandb\\run-20221016_102433-155iu2s1\\files\\model-best)... Done. 0.0s\n"
     ]
    },
    {
     "name": "stdout",
     "output_type": "stream",
     "text": [
      "5/5 [==============================] - 4s 909ms/step - loss: 0.0116 - mae: 0.0849 - val_loss: 0.0143 - val_mae: 0.0955\n",
      "Epoch 332/1000\n",
      "5/5 [==============================] - 0s 70ms/step - loss: 0.0114 - mae: 0.0845 - val_loss: 0.0148 - val_mae: 0.0954\n",
      "Epoch 333/1000\n",
      "5/5 [==============================] - 0s 53ms/step - loss: 0.0114 - mae: 0.0840 - val_loss: 0.0143 - val_mae: 0.0950\n",
      "Epoch 334/1000\n",
      "5/5 [==============================] - 0s 41ms/step - loss: 0.0113 - mae: 0.0835 - val_loss: 0.0143 - val_mae: 0.0949\n",
      "Epoch 335/1000\n",
      "5/5 [==============================] - 0s 38ms/step - loss: 0.0113 - mae: 0.0843 - val_loss: 0.0145 - val_mae: 0.0955\n",
      "Epoch 336/1000\n",
      "5/5 [==============================] - 0s 32ms/step - loss: 0.0112 - mae: 0.0832 - val_loss: 0.0144 - val_mae: 0.0953\n",
      "Epoch 337/1000\n",
      "1/5 [=====>........................] - ETA: 0s - loss: 0.0111 - mae: 0.0835"
     ]
    },
    {
     "name": "stderr",
     "output_type": "stream",
     "text": [
      "WARNING:absl:Found untraced functions such as lstm_cell_layer_call_fn, lstm_cell_layer_call_and_return_conditional_losses while saving (showing 2 of 2). These functions will not be directly callable after loading.\n"
     ]
    },
    {
     "name": "stdout",
     "output_type": "stream",
     "text": [
      "INFO:tensorflow:Assets written to: C:\\Users\\PARK\\Documents\\LAB\\RNN vs LSTM\\FInal Example\\wandb\\run-20221016_102433-155iu2s1\\files\\model-best\\assets\n"
     ]
    },
    {
     "name": "stderr",
     "output_type": "stream",
     "text": [
      "INFO:tensorflow:Assets written to: C:\\Users\\PARK\\Documents\\LAB\\RNN vs LSTM\\FInal Example\\wandb\\run-20221016_102433-155iu2s1\\files\\model-best\\assets\n",
      "\u001b[34m\u001b[1mwandb\u001b[0m: Adding directory to artifact (C:\\Users\\PARK\\Documents\\LAB\\RNN vs LSTM\\FInal Example\\wandb\\run-20221016_102433-155iu2s1\\files\\model-best)... Done. 0.0s\n"
     ]
    },
    {
     "name": "stdout",
     "output_type": "stream",
     "text": [
      "5/5 [==============================] - 4s 941ms/step - loss: 0.0111 - mae: 0.0829 - val_loss: 0.0140 - val_mae: 0.0940\n",
      "Epoch 338/1000\n",
      "5/5 [==============================] - 0s 70ms/step - loss: 0.0110 - mae: 0.0827 - val_loss: 0.0141 - val_mae: 0.0944\n",
      "Epoch 339/1000\n",
      "4/5 [=======================>......] - ETA: 0s - loss: 0.0108 - mae: 0.0819"
     ]
    },
    {
     "name": "stderr",
     "output_type": "stream",
     "text": [
      "WARNING:absl:Found untraced functions such as lstm_cell_layer_call_fn, lstm_cell_layer_call_and_return_conditional_losses while saving (showing 2 of 2). These functions will not be directly callable after loading.\n"
     ]
    },
    {
     "name": "stdout",
     "output_type": "stream",
     "text": [
      "INFO:tensorflow:Assets written to: C:\\Users\\PARK\\Documents\\LAB\\RNN vs LSTM\\FInal Example\\wandb\\run-20221016_102433-155iu2s1\\files\\model-best\\assets\n"
     ]
    },
    {
     "name": "stderr",
     "output_type": "stream",
     "text": [
      "INFO:tensorflow:Assets written to: C:\\Users\\PARK\\Documents\\LAB\\RNN vs LSTM\\FInal Example\\wandb\\run-20221016_102433-155iu2s1\\files\\model-best\\assets\n",
      "\u001b[34m\u001b[1mwandb\u001b[0m: Adding directory to artifact (C:\\Users\\PARK\\Documents\\LAB\\RNN vs LSTM\\FInal Example\\wandb\\run-20221016_102433-155iu2s1\\files\\model-best)... Done. 0.0s\n"
     ]
    },
    {
     "name": "stdout",
     "output_type": "stream",
     "text": [
      "5/5 [==============================] - 4s 878ms/step - loss: 0.0109 - mae: 0.0822 - val_loss: 0.0137 - val_mae: 0.0934\n",
      "Epoch 340/1000\n",
      "5/5 [==============================] - 0s 75ms/step - loss: 0.0105 - mae: 0.0810 - val_loss: 0.0139 - val_mae: 0.0933\n",
      "Epoch 341/1000\n",
      "5/5 [==============================] - ETA: 0s - loss: 0.0109 - mae: 0.0818"
     ]
    },
    {
     "name": "stderr",
     "output_type": "stream",
     "text": [
      "WARNING:absl:Found untraced functions such as lstm_cell_layer_call_fn, lstm_cell_layer_call_and_return_conditional_losses while saving (showing 2 of 2). These functions will not be directly callable after loading.\n"
     ]
    },
    {
     "name": "stdout",
     "output_type": "stream",
     "text": [
      "INFO:tensorflow:Assets written to: C:\\Users\\PARK\\Documents\\LAB\\RNN vs LSTM\\FInal Example\\wandb\\run-20221016_102433-155iu2s1\\files\\model-best\\assets\n"
     ]
    },
    {
     "name": "stderr",
     "output_type": "stream",
     "text": [
      "INFO:tensorflow:Assets written to: C:\\Users\\PARK\\Documents\\LAB\\RNN vs LSTM\\FInal Example\\wandb\\run-20221016_102433-155iu2s1\\files\\model-best\\assets\n",
      "\u001b[34m\u001b[1mwandb\u001b[0m: Adding directory to artifact (C:\\Users\\PARK\\Documents\\LAB\\RNN vs LSTM\\FInal Example\\wandb\\run-20221016_102433-155iu2s1\\files\\model-best)... Done. 0.0s\n"
     ]
    },
    {
     "name": "stdout",
     "output_type": "stream",
     "text": [
      "5/5 [==============================] - 4s 935ms/step - loss: 0.0109 - mae: 0.0818 - val_loss: 0.0132 - val_mae: 0.0917\n",
      "Epoch 342/1000\n",
      "5/5 [==============================] - 0s 72ms/step - loss: 0.0104 - mae: 0.0804 - val_loss: 0.0136 - val_mae: 0.0925\n",
      "Epoch 343/1000\n",
      "5/5 [==============================] - 0s 53ms/step - loss: 0.0105 - mae: 0.0810 - val_loss: 0.0134 - val_mae: 0.0917\n",
      "Epoch 344/1000\n",
      "1/5 [=====>........................] - ETA: 0s - loss: 0.0099 - mae: 0.0796"
     ]
    },
    {
     "name": "stderr",
     "output_type": "stream",
     "text": [
      "WARNING:absl:Found untraced functions such as lstm_cell_layer_call_fn, lstm_cell_layer_call_and_return_conditional_losses while saving (showing 2 of 2). These functions will not be directly callable after loading.\n"
     ]
    },
    {
     "name": "stdout",
     "output_type": "stream",
     "text": [
      "INFO:tensorflow:Assets written to: C:\\Users\\PARK\\Documents\\LAB\\RNN vs LSTM\\FInal Example\\wandb\\run-20221016_102433-155iu2s1\\files\\model-best\\assets\n"
     ]
    },
    {
     "name": "stderr",
     "output_type": "stream",
     "text": [
      "INFO:tensorflow:Assets written to: C:\\Users\\PARK\\Documents\\LAB\\RNN vs LSTM\\FInal Example\\wandb\\run-20221016_102433-155iu2s1\\files\\model-best\\assets\n",
      "\u001b[34m\u001b[1mwandb\u001b[0m: Adding directory to artifact (C:\\Users\\PARK\\Documents\\LAB\\RNN vs LSTM\\FInal Example\\wandb\\run-20221016_102433-155iu2s1\\files\\model-best)... Done. 0.0s\n"
     ]
    },
    {
     "name": "stdout",
     "output_type": "stream",
     "text": [
      "5/5 [==============================] - 3s 870ms/step - loss: 0.0104 - mae: 0.0805 - val_loss: 0.0130 - val_mae: 0.0911\n",
      "Epoch 345/1000\n",
      "5/5 [==============================] - 0s 70ms/step - loss: 0.0102 - mae: 0.0801 - val_loss: 0.0131 - val_mae: 0.0901\n",
      "Epoch 346/1000\n",
      "4/5 [=======================>......] - ETA: 0s - loss: 0.0099 - mae: 0.0783"
     ]
    },
    {
     "name": "stderr",
     "output_type": "stream",
     "text": [
      "WARNING:absl:Found untraced functions such as lstm_cell_layer_call_fn, lstm_cell_layer_call_and_return_conditional_losses while saving (showing 2 of 2). These functions will not be directly callable after loading.\n"
     ]
    },
    {
     "name": "stdout",
     "output_type": "stream",
     "text": [
      "INFO:tensorflow:Assets written to: C:\\Users\\PARK\\Documents\\LAB\\RNN vs LSTM\\FInal Example\\wandb\\run-20221016_102433-155iu2s1\\files\\model-best\\assets\n"
     ]
    },
    {
     "name": "stderr",
     "output_type": "stream",
     "text": [
      "INFO:tensorflow:Assets written to: C:\\Users\\PARK\\Documents\\LAB\\RNN vs LSTM\\FInal Example\\wandb\\run-20221016_102433-155iu2s1\\files\\model-best\\assets\n",
      "\u001b[34m\u001b[1mwandb\u001b[0m: Adding directory to artifact (C:\\Users\\PARK\\Documents\\LAB\\RNN vs LSTM\\FInal Example\\wandb\\run-20221016_102433-155iu2s1\\files\\model-best)... Done. 0.0s\n"
     ]
    },
    {
     "name": "stdout",
     "output_type": "stream",
     "text": [
      "5/5 [==============================] - 4s 931ms/step - loss: 0.0101 - mae: 0.0791 - val_loss: 0.0128 - val_mae: 0.0898\n",
      "Epoch 347/1000\n",
      "5/5 [==============================] - ETA: 0s - loss: 0.0099 - mae: 0.0785"
     ]
    },
    {
     "name": "stderr",
     "output_type": "stream",
     "text": [
      "WARNING:absl:Found untraced functions such as lstm_cell_layer_call_fn, lstm_cell_layer_call_and_return_conditional_losses while saving (showing 2 of 2). These functions will not be directly callable after loading.\n"
     ]
    },
    {
     "name": "stdout",
     "output_type": "stream",
     "text": [
      "INFO:tensorflow:Assets written to: C:\\Users\\PARK\\Documents\\LAB\\RNN vs LSTM\\FInal Example\\wandb\\run-20221016_102433-155iu2s1\\files\\model-best\\assets\n"
     ]
    },
    {
     "name": "stderr",
     "output_type": "stream",
     "text": [
      "INFO:tensorflow:Assets written to: C:\\Users\\PARK\\Documents\\LAB\\RNN vs LSTM\\FInal Example\\wandb\\run-20221016_102433-155iu2s1\\files\\model-best\\assets\n",
      "\u001b[34m\u001b[1mwandb\u001b[0m: Adding directory to artifact (C:\\Users\\PARK\\Documents\\LAB\\RNN vs LSTM\\FInal Example\\wandb\\run-20221016_102433-155iu2s1\\files\\model-best)... Done. 0.0s\n"
     ]
    },
    {
     "name": "stdout",
     "output_type": "stream",
     "text": [
      "5/5 [==============================] - 4s 898ms/step - loss: 0.0099 - mae: 0.0785 - val_loss: 0.0126 - val_mae: 0.0895\n",
      "Epoch 348/1000\n",
      "5/5 [==============================] - ETA: 0s - loss: 0.0099 - mae: 0.0786"
     ]
    },
    {
     "name": "stderr",
     "output_type": "stream",
     "text": [
      "WARNING:absl:Found untraced functions such as lstm_cell_layer_call_fn, lstm_cell_layer_call_and_return_conditional_losses while saving (showing 2 of 2). These functions will not be directly callable after loading.\n"
     ]
    },
    {
     "name": "stdout",
     "output_type": "stream",
     "text": [
      "INFO:tensorflow:Assets written to: C:\\Users\\PARK\\Documents\\LAB\\RNN vs LSTM\\FInal Example\\wandb\\run-20221016_102433-155iu2s1\\files\\model-best\\assets\n"
     ]
    },
    {
     "name": "stderr",
     "output_type": "stream",
     "text": [
      "INFO:tensorflow:Assets written to: C:\\Users\\PARK\\Documents\\LAB\\RNN vs LSTM\\FInal Example\\wandb\\run-20221016_102433-155iu2s1\\files\\model-best\\assets\n",
      "\u001b[34m\u001b[1mwandb\u001b[0m: Adding directory to artifact (C:\\Users\\PARK\\Documents\\LAB\\RNN vs LSTM\\FInal Example\\wandb\\run-20221016_102433-155iu2s1\\files\\model-best)... Done. 0.0s\n"
     ]
    },
    {
     "name": "stdout",
     "output_type": "stream",
     "text": [
      "5/5 [==============================] - 4s 971ms/step - loss: 0.0099 - mae: 0.0786 - val_loss: 0.0124 - val_mae: 0.0884\n",
      "Epoch 349/1000\n",
      "4/5 [=======================>......] - ETA: 0s - loss: 0.0099 - mae: 0.0783"
     ]
    },
    {
     "name": "stderr",
     "output_type": "stream",
     "text": [
      "WARNING:absl:Found untraced functions such as lstm_cell_layer_call_fn, lstm_cell_layer_call_and_return_conditional_losses while saving (showing 2 of 2). These functions will not be directly callable after loading.\n"
     ]
    },
    {
     "name": "stdout",
     "output_type": "stream",
     "text": [
      "INFO:tensorflow:Assets written to: C:\\Users\\PARK\\Documents\\LAB\\RNN vs LSTM\\FInal Example\\wandb\\run-20221016_102433-155iu2s1\\files\\model-best\\assets\n"
     ]
    },
    {
     "name": "stderr",
     "output_type": "stream",
     "text": [
      "INFO:tensorflow:Assets written to: C:\\Users\\PARK\\Documents\\LAB\\RNN vs LSTM\\FInal Example\\wandb\\run-20221016_102433-155iu2s1\\files\\model-best\\assets\n",
      "\u001b[34m\u001b[1mwandb\u001b[0m: Adding directory to artifact (C:\\Users\\PARK\\Documents\\LAB\\RNN vs LSTM\\FInal Example\\wandb\\run-20221016_102433-155iu2s1\\files\\model-best)... Done. 0.0s\n"
     ]
    },
    {
     "name": "stdout",
     "output_type": "stream",
     "text": [
      "5/5 [==============================] - 4s 898ms/step - loss: 0.0097 - mae: 0.0776 - val_loss: 0.0122 - val_mae: 0.0883\n",
      "Epoch 350/1000\n",
      "5/5 [==============================] - 0s 74ms/step - loss: 0.0096 - mae: 0.0769 - val_loss: 0.0123 - val_mae: 0.0873\n",
      "Epoch 351/1000\n",
      "4/5 [=======================>......] - ETA: 0s - loss: 0.0092 - mae: 0.0760"
     ]
    },
    {
     "name": "stderr",
     "output_type": "stream",
     "text": [
      "WARNING:absl:Found untraced functions such as lstm_cell_layer_call_fn, lstm_cell_layer_call_and_return_conditional_losses while saving (showing 2 of 2). These functions will not be directly callable after loading.\n"
     ]
    },
    {
     "name": "stdout",
     "output_type": "stream",
     "text": [
      "INFO:tensorflow:Assets written to: C:\\Users\\PARK\\Documents\\LAB\\RNN vs LSTM\\FInal Example\\wandb\\run-20221016_102433-155iu2s1\\files\\model-best\\assets\n"
     ]
    },
    {
     "name": "stderr",
     "output_type": "stream",
     "text": [
      "INFO:tensorflow:Assets written to: C:\\Users\\PARK\\Documents\\LAB\\RNN vs LSTM\\FInal Example\\wandb\\run-20221016_102433-155iu2s1\\files\\model-best\\assets\n",
      "\u001b[34m\u001b[1mwandb\u001b[0m: Adding directory to artifact (C:\\Users\\PARK\\Documents\\LAB\\RNN vs LSTM\\FInal Example\\wandb\\run-20221016_102433-155iu2s1\\files\\model-best)... Done. 0.0s\n"
     ]
    },
    {
     "name": "stdout",
     "output_type": "stream",
     "text": [
      "5/5 [==============================] - 4s 946ms/step - loss: 0.0094 - mae: 0.0763 - val_loss: 0.0120 - val_mae: 0.0874\n",
      "Epoch 352/1000\n",
      "5/5 [==============================] - 0s 72ms/step - loss: 0.0094 - mae: 0.0760 - val_loss: 0.0122 - val_mae: 0.0865\n",
      "Epoch 353/1000\n",
      "5/5 [==============================] - 0s 51ms/step - loss: 0.0095 - mae: 0.0766 - val_loss: 0.0120 - val_mae: 0.0866\n",
      "Epoch 354/1000\n",
      "5/5 [==============================] - ETA: 0s - loss: 0.0094 - mae: 0.0762"
     ]
    },
    {
     "name": "stderr",
     "output_type": "stream",
     "text": [
      "WARNING:absl:Found untraced functions such as lstm_cell_layer_call_fn, lstm_cell_layer_call_and_return_conditional_losses while saving (showing 2 of 2). These functions will not be directly callable after loading.\n"
     ]
    },
    {
     "name": "stdout",
     "output_type": "stream",
     "text": [
      "INFO:tensorflow:Assets written to: C:\\Users\\PARK\\Documents\\LAB\\RNN vs LSTM\\FInal Example\\wandb\\run-20221016_102433-155iu2s1\\files\\model-best\\assets\n"
     ]
    },
    {
     "name": "stderr",
     "output_type": "stream",
     "text": [
      "INFO:tensorflow:Assets written to: C:\\Users\\PARK\\Documents\\LAB\\RNN vs LSTM\\FInal Example\\wandb\\run-20221016_102433-155iu2s1\\files\\model-best\\assets\n",
      "\u001b[34m\u001b[1mwandb\u001b[0m: Adding directory to artifact (C:\\Users\\PARK\\Documents\\LAB\\RNN vs LSTM\\FInal Example\\wandb\\run-20221016_102433-155iu2s1\\files\\model-best)... Done. 0.0s\n"
     ]
    },
    {
     "name": "stdout",
     "output_type": "stream",
     "text": [
      "5/5 [==============================] - 4s 900ms/step - loss: 0.0094 - mae: 0.0762 - val_loss: 0.0116 - val_mae: 0.0861\n",
      "Epoch 355/1000\n",
      "3/5 [=================>............] - ETA: 0s - loss: 0.0092 - mae: 0.0764"
     ]
    },
    {
     "name": "stderr",
     "output_type": "stream",
     "text": [
      "WARNING:absl:Found untraced functions such as lstm_cell_layer_call_fn, lstm_cell_layer_call_and_return_conditional_losses while saving (showing 2 of 2). These functions will not be directly callable after loading.\n"
     ]
    },
    {
     "name": "stdout",
     "output_type": "stream",
     "text": [
      "INFO:tensorflow:Assets written to: C:\\Users\\PARK\\Documents\\LAB\\RNN vs LSTM\\FInal Example\\wandb\\run-20221016_102433-155iu2s1\\files\\model-best\\assets\n"
     ]
    },
    {
     "name": "stderr",
     "output_type": "stream",
     "text": [
      "INFO:tensorflow:Assets written to: C:\\Users\\PARK\\Documents\\LAB\\RNN vs LSTM\\FInal Example\\wandb\\run-20221016_102433-155iu2s1\\files\\model-best\\assets\n",
      "\u001b[34m\u001b[1mwandb\u001b[0m: Adding directory to artifact (C:\\Users\\PARK\\Documents\\LAB\\RNN vs LSTM\\FInal Example\\wandb\\run-20221016_102433-155iu2s1\\files\\model-best)... Done. 0.0s\n"
     ]
    },
    {
     "name": "stdout",
     "output_type": "stream",
     "text": [
      "5/5 [==============================] - 4s 902ms/step - loss: 0.0092 - mae: 0.0757 - val_loss: 0.0114 - val_mae: 0.0844\n",
      "Epoch 356/1000\n",
      "5/5 [==============================] - 0s 74ms/step - loss: 0.0090 - mae: 0.0748 - val_loss: 0.0115 - val_mae: 0.0838\n",
      "Epoch 357/1000\n",
      "4/5 [=======================>......] - ETA: 0s - loss: 0.0085 - mae: 0.0729"
     ]
    },
    {
     "name": "stderr",
     "output_type": "stream",
     "text": [
      "WARNING:absl:Found untraced functions such as lstm_cell_layer_call_fn, lstm_cell_layer_call_and_return_conditional_losses while saving (showing 2 of 2). These functions will not be directly callable after loading.\n"
     ]
    },
    {
     "name": "stdout",
     "output_type": "stream",
     "text": [
      "INFO:tensorflow:Assets written to: C:\\Users\\PARK\\Documents\\LAB\\RNN vs LSTM\\FInal Example\\wandb\\run-20221016_102433-155iu2s1\\files\\model-best\\assets\n"
     ]
    },
    {
     "name": "stderr",
     "output_type": "stream",
     "text": [
      "INFO:tensorflow:Assets written to: C:\\Users\\PARK\\Documents\\LAB\\RNN vs LSTM\\FInal Example\\wandb\\run-20221016_102433-155iu2s1\\files\\model-best\\assets\n",
      "\u001b[34m\u001b[1mwandb\u001b[0m: Adding directory to artifact (C:\\Users\\PARK\\Documents\\LAB\\RNN vs LSTM\\FInal Example\\wandb\\run-20221016_102433-155iu2s1\\files\\model-best)... Done. 0.0s\n"
     ]
    },
    {
     "name": "stdout",
     "output_type": "stream",
     "text": [
      "5/5 [==============================] - 4s 933ms/step - loss: 0.0088 - mae: 0.0738 - val_loss: 0.0112 - val_mae: 0.0839\n",
      "Epoch 358/1000\n",
      "5/5 [==============================] - 0s 70ms/step - loss: 0.0086 - mae: 0.0735 - val_loss: 0.0116 - val_mae: 0.0853\n",
      "Epoch 359/1000\n",
      "4/5 [=======================>......] - ETA: 0s - loss: 0.0086 - mae: 0.0733"
     ]
    },
    {
     "name": "stderr",
     "output_type": "stream",
     "text": [
      "WARNING:absl:Found untraced functions such as lstm_cell_layer_call_fn, lstm_cell_layer_call_and_return_conditional_losses while saving (showing 2 of 2). These functions will not be directly callable after loading.\n"
     ]
    },
    {
     "name": "stdout",
     "output_type": "stream",
     "text": [
      "INFO:tensorflow:Assets written to: C:\\Users\\PARK\\Documents\\LAB\\RNN vs LSTM\\FInal Example\\wandb\\run-20221016_102433-155iu2s1\\files\\model-best\\assets\n"
     ]
    },
    {
     "name": "stderr",
     "output_type": "stream",
     "text": [
      "INFO:tensorflow:Assets written to: C:\\Users\\PARK\\Documents\\LAB\\RNN vs LSTM\\FInal Example\\wandb\\run-20221016_102433-155iu2s1\\files\\model-best\\assets\n",
      "\u001b[34m\u001b[1mwandb\u001b[0m: Adding directory to artifact (C:\\Users\\PARK\\Documents\\LAB\\RNN vs LSTM\\FInal Example\\wandb\\run-20221016_102433-155iu2s1\\files\\model-best)... Done. 0.0s\n"
     ]
    },
    {
     "name": "stdout",
     "output_type": "stream",
     "text": [
      "5/5 [==============================] - 4s 903ms/step - loss: 0.0087 - mae: 0.0736 - val_loss: 0.0111 - val_mae: 0.0835\n",
      "Epoch 360/1000\n",
      "3/5 [=================>............] - ETA: 0s - loss: 0.0086 - mae: 0.0734"
     ]
    },
    {
     "name": "stderr",
     "output_type": "stream",
     "text": [
      "WARNING:absl:Found untraced functions such as lstm_cell_layer_call_fn, lstm_cell_layer_call_and_return_conditional_losses while saving (showing 2 of 2). These functions will not be directly callable after loading.\n"
     ]
    },
    {
     "name": "stdout",
     "output_type": "stream",
     "text": [
      "INFO:tensorflow:Assets written to: C:\\Users\\PARK\\Documents\\LAB\\RNN vs LSTM\\FInal Example\\wandb\\run-20221016_102433-155iu2s1\\files\\model-best\\assets\n"
     ]
    },
    {
     "name": "stderr",
     "output_type": "stream",
     "text": [
      "INFO:tensorflow:Assets written to: C:\\Users\\PARK\\Documents\\LAB\\RNN vs LSTM\\FInal Example\\wandb\\run-20221016_102433-155iu2s1\\files\\model-best\\assets\n",
      "\u001b[34m\u001b[1mwandb\u001b[0m: Adding directory to artifact (C:\\Users\\PARK\\Documents\\LAB\\RNN vs LSTM\\FInal Example\\wandb\\run-20221016_102433-155iu2s1\\files\\model-best)... Done. 0.0s\n"
     ]
    },
    {
     "name": "stdout",
     "output_type": "stream",
     "text": [
      "5/5 [==============================] - 4s 895ms/step - loss: 0.0085 - mae: 0.0733 - val_loss: 0.0109 - val_mae: 0.0824\n",
      "Epoch 361/1000\n",
      "5/5 [==============================] - 0s 58ms/step - loss: 0.0087 - mae: 0.0734 - val_loss: 0.0112 - val_mae: 0.0845\n",
      "Epoch 362/1000\n",
      "1/5 [=====>........................] - ETA: 0s - loss: 0.0089 - mae: 0.0763"
     ]
    },
    {
     "name": "stderr",
     "output_type": "stream",
     "text": [
      "WARNING:absl:Found untraced functions such as lstm_cell_layer_call_fn, lstm_cell_layer_call_and_return_conditional_losses while saving (showing 2 of 2). These functions will not be directly callable after loading.\n"
     ]
    },
    {
     "name": "stdout",
     "output_type": "stream",
     "text": [
      "INFO:tensorflow:Assets written to: C:\\Users\\PARK\\Documents\\LAB\\RNN vs LSTM\\FInal Example\\wandb\\run-20221016_102433-155iu2s1\\files\\model-best\\assets\n"
     ]
    },
    {
     "name": "stderr",
     "output_type": "stream",
     "text": [
      "INFO:tensorflow:Assets written to: C:\\Users\\PARK\\Documents\\LAB\\RNN vs LSTM\\FInal Example\\wandb\\run-20221016_102433-155iu2s1\\files\\model-best\\assets\n",
      "\u001b[34m\u001b[1mwandb\u001b[0m: Adding directory to artifact (C:\\Users\\PARK\\Documents\\LAB\\RNN vs LSTM\\FInal Example\\wandb\\run-20221016_102433-155iu2s1\\files\\model-best)... Done. 0.0s\n"
     ]
    },
    {
     "name": "stdout",
     "output_type": "stream",
     "text": [
      "5/5 [==============================] - 4s 923ms/step - loss: 0.0087 - mae: 0.0737 - val_loss: 0.0107 - val_mae: 0.0816\n",
      "Epoch 363/1000\n",
      "5/5 [==============================] - ETA: 0s - loss: 0.0084 - mae: 0.0725"
     ]
    },
    {
     "name": "stderr",
     "output_type": "stream",
     "text": [
      "WARNING:absl:Found untraced functions such as lstm_cell_layer_call_fn, lstm_cell_layer_call_and_return_conditional_losses while saving (showing 2 of 2). These functions will not be directly callable after loading.\n"
     ]
    },
    {
     "name": "stdout",
     "output_type": "stream",
     "text": [
      "INFO:tensorflow:Assets written to: C:\\Users\\PARK\\Documents\\LAB\\RNN vs LSTM\\FInal Example\\wandb\\run-20221016_102433-155iu2s1\\files\\model-best\\assets\n"
     ]
    },
    {
     "name": "stderr",
     "output_type": "stream",
     "text": [
      "INFO:tensorflow:Assets written to: C:\\Users\\PARK\\Documents\\LAB\\RNN vs LSTM\\FInal Example\\wandb\\run-20221016_102433-155iu2s1\\files\\model-best\\assets\n",
      "\u001b[34m\u001b[1mwandb\u001b[0m: Adding directory to artifact (C:\\Users\\PARK\\Documents\\LAB\\RNN vs LSTM\\FInal Example\\wandb\\run-20221016_102433-155iu2s1\\files\\model-best)... Done. 0.0s\n"
     ]
    },
    {
     "name": "stdout",
     "output_type": "stream",
     "text": [
      "5/5 [==============================] - 4s 932ms/step - loss: 0.0084 - mae: 0.0725 - val_loss: 0.0107 - val_mae: 0.0815\n",
      "Epoch 364/1000\n",
      "5/5 [==============================] - ETA: 0s - loss: 0.0083 - mae: 0.0720"
     ]
    },
    {
     "name": "stderr",
     "output_type": "stream",
     "text": [
      "WARNING:absl:Found untraced functions such as lstm_cell_layer_call_fn, lstm_cell_layer_call_and_return_conditional_losses while saving (showing 2 of 2). These functions will not be directly callable after loading.\n"
     ]
    },
    {
     "name": "stdout",
     "output_type": "stream",
     "text": [
      "INFO:tensorflow:Assets written to: C:\\Users\\PARK\\Documents\\LAB\\RNN vs LSTM\\FInal Example\\wandb\\run-20221016_102433-155iu2s1\\files\\model-best\\assets\n"
     ]
    },
    {
     "name": "stderr",
     "output_type": "stream",
     "text": [
      "INFO:tensorflow:Assets written to: C:\\Users\\PARK\\Documents\\LAB\\RNN vs LSTM\\FInal Example\\wandb\\run-20221016_102433-155iu2s1\\files\\model-best\\assets\n",
      "\u001b[34m\u001b[1mwandb\u001b[0m: Adding directory to artifact (C:\\Users\\PARK\\Documents\\LAB\\RNN vs LSTM\\FInal Example\\wandb\\run-20221016_102433-155iu2s1\\files\\model-best)... Done. 0.0s\n"
     ]
    },
    {
     "name": "stdout",
     "output_type": "stream",
     "text": [
      "5/5 [==============================] - 4s 894ms/step - loss: 0.0083 - mae: 0.0720 - val_loss: 0.0106 - val_mae: 0.0823\n",
      "Epoch 365/1000\n",
      "4/5 [=======================>......] - ETA: 0s - loss: 0.0086 - mae: 0.0739"
     ]
    },
    {
     "name": "stderr",
     "output_type": "stream",
     "text": [
      "WARNING:absl:Found untraced functions such as lstm_cell_layer_call_fn, lstm_cell_layer_call_and_return_conditional_losses while saving (showing 2 of 2). These functions will not be directly callable after loading.\n"
     ]
    },
    {
     "name": "stdout",
     "output_type": "stream",
     "text": [
      "INFO:tensorflow:Assets written to: C:\\Users\\PARK\\Documents\\LAB\\RNN vs LSTM\\FInal Example\\wandb\\run-20221016_102433-155iu2s1\\files\\model-best\\assets\n"
     ]
    },
    {
     "name": "stderr",
     "output_type": "stream",
     "text": [
      "INFO:tensorflow:Assets written to: C:\\Users\\PARK\\Documents\\LAB\\RNN vs LSTM\\FInal Example\\wandb\\run-20221016_102433-155iu2s1\\files\\model-best\\assets\n",
      "\u001b[34m\u001b[1mwandb\u001b[0m: Adding directory to artifact (C:\\Users\\PARK\\Documents\\LAB\\RNN vs LSTM\\FInal Example\\wandb\\run-20221016_102433-155iu2s1\\files\\model-best)... Done. 0.0s\n"
     ]
    },
    {
     "name": "stdout",
     "output_type": "stream",
     "text": [
      "5/5 [==============================] - 4s 953ms/step - loss: 0.0086 - mae: 0.0742 - val_loss: 0.0102 - val_mae: 0.0799\n",
      "Epoch 366/1000\n",
      "5/5 [==============================] - 0s 70ms/step - loss: 0.0084 - mae: 0.0727 - val_loss: 0.0112 - val_mae: 0.0832\n",
      "Epoch 367/1000\n",
      "5/5 [==============================] - 0s 54ms/step - loss: 0.0085 - mae: 0.0733 - val_loss: 0.0106 - val_mae: 0.0819\n",
      "Epoch 368/1000\n",
      "5/5 [==============================] - 0s 39ms/step - loss: 0.0082 - mae: 0.0724 - val_loss: 0.0103 - val_mae: 0.0801\n",
      "Epoch 369/1000\n",
      "5/5 [==============================] - 0s 33ms/step - loss: 0.0079 - mae: 0.0705 - val_loss: 0.0105 - val_mae: 0.0817\n",
      "Epoch 370/1000\n",
      "1/5 [=====>........................] - ETA: 0s - loss: 0.0077 - mae: 0.0689"
     ]
    },
    {
     "name": "stderr",
     "output_type": "stream",
     "text": [
      "WARNING:absl:Found untraced functions such as lstm_cell_layer_call_fn, lstm_cell_layer_call_and_return_conditional_losses while saving (showing 2 of 2). These functions will not be directly callable after loading.\n"
     ]
    },
    {
     "name": "stdout",
     "output_type": "stream",
     "text": [
      "INFO:tensorflow:Assets written to: C:\\Users\\PARK\\Documents\\LAB\\RNN vs LSTM\\FInal Example\\wandb\\run-20221016_102433-155iu2s1\\files\\model-best\\assets\n"
     ]
    },
    {
     "name": "stderr",
     "output_type": "stream",
     "text": [
      "INFO:tensorflow:Assets written to: C:\\Users\\PARK\\Documents\\LAB\\RNN vs LSTM\\FInal Example\\wandb\\run-20221016_102433-155iu2s1\\files\\model-best\\assets\n",
      "\u001b[34m\u001b[1mwandb\u001b[0m: Adding directory to artifact (C:\\Users\\PARK\\Documents\\LAB\\RNN vs LSTM\\FInal Example\\wandb\\run-20221016_102433-155iu2s1\\files\\model-best)... Done. 0.0s\n"
     ]
    },
    {
     "name": "stdout",
     "output_type": "stream",
     "text": [
      "5/5 [==============================] - 4s 894ms/step - loss: 0.0080 - mae: 0.0711 - val_loss: 0.0100 - val_mae: 0.0801\n",
      "Epoch 371/1000\n",
      "5/5 [==============================] - 0s 76ms/step - loss: 0.0077 - mae: 0.0696 - val_loss: 0.0104 - val_mae: 0.0806\n",
      "Epoch 372/1000\n",
      "3/5 [=================>............] - ETA: 0s - loss: 0.0080 - mae: 0.0706"
     ]
    },
    {
     "name": "stderr",
     "output_type": "stream",
     "text": [
      "WARNING:absl:Found untraced functions such as lstm_cell_layer_call_fn, lstm_cell_layer_call_and_return_conditional_losses while saving (showing 2 of 2). These functions will not be directly callable after loading.\n"
     ]
    },
    {
     "name": "stdout",
     "output_type": "stream",
     "text": [
      "INFO:tensorflow:Assets written to: C:\\Users\\PARK\\Documents\\LAB\\RNN vs LSTM\\FInal Example\\wandb\\run-20221016_102433-155iu2s1\\files\\model-best\\assets\n"
     ]
    },
    {
     "name": "stderr",
     "output_type": "stream",
     "text": [
      "INFO:tensorflow:Assets written to: C:\\Users\\PARK\\Documents\\LAB\\RNN vs LSTM\\FInal Example\\wandb\\run-20221016_102433-155iu2s1\\files\\model-best\\assets\n",
      "\u001b[34m\u001b[1mwandb\u001b[0m: Adding directory to artifact (C:\\Users\\PARK\\Documents\\LAB\\RNN vs LSTM\\FInal Example\\wandb\\run-20221016_102433-155iu2s1\\files\\model-best)... Done. 0.0s\n"
     ]
    },
    {
     "name": "stdout",
     "output_type": "stream",
     "text": [
      "5/5 [==============================] - 4s 911ms/step - loss: 0.0079 - mae: 0.0703 - val_loss: 0.0096 - val_mae: 0.0785\n",
      "Epoch 373/1000\n",
      "3/5 [=================>............] - ETA: 0s - loss: 0.0074 - mae: 0.0686"
     ]
    },
    {
     "name": "stderr",
     "output_type": "stream",
     "text": [
      "WARNING:absl:Found untraced functions such as lstm_cell_layer_call_fn, lstm_cell_layer_call_and_return_conditional_losses while saving (showing 2 of 2). These functions will not be directly callable after loading.\n"
     ]
    },
    {
     "name": "stdout",
     "output_type": "stream",
     "text": [
      "INFO:tensorflow:Assets written to: C:\\Users\\PARK\\Documents\\LAB\\RNN vs LSTM\\FInal Example\\wandb\\run-20221016_102433-155iu2s1\\files\\model-best\\assets\n"
     ]
    },
    {
     "name": "stderr",
     "output_type": "stream",
     "text": [
      "INFO:tensorflow:Assets written to: C:\\Users\\PARK\\Documents\\LAB\\RNN vs LSTM\\FInal Example\\wandb\\run-20221016_102433-155iu2s1\\files\\model-best\\assets\n",
      "\u001b[34m\u001b[1mwandb\u001b[0m: Adding directory to artifact (C:\\Users\\PARK\\Documents\\LAB\\RNN vs LSTM\\FInal Example\\wandb\\run-20221016_102433-155iu2s1\\files\\model-best)... Done. 0.0s\n"
     ]
    },
    {
     "name": "stdout",
     "output_type": "stream",
     "text": [
      "5/5 [==============================] - 4s 916ms/step - loss: 0.0075 - mae: 0.0691 - val_loss: 0.0095 - val_mae: 0.0777\n",
      "Epoch 374/1000\n",
      "3/5 [=================>............] - ETA: 0s - loss: 0.0077 - mae: 0.0698"
     ]
    },
    {
     "name": "stderr",
     "output_type": "stream",
     "text": [
      "WARNING:absl:Found untraced functions such as lstm_cell_layer_call_fn, lstm_cell_layer_call_and_return_conditional_losses while saving (showing 2 of 2). These functions will not be directly callable after loading.\n"
     ]
    },
    {
     "name": "stdout",
     "output_type": "stream",
     "text": [
      "INFO:tensorflow:Assets written to: C:\\Users\\PARK\\Documents\\LAB\\RNN vs LSTM\\FInal Example\\wandb\\run-20221016_102433-155iu2s1\\files\\model-best\\assets\n"
     ]
    },
    {
     "name": "stderr",
     "output_type": "stream",
     "text": [
      "INFO:tensorflow:Assets written to: C:\\Users\\PARK\\Documents\\LAB\\RNN vs LSTM\\FInal Example\\wandb\\run-20221016_102433-155iu2s1\\files\\model-best\\assets\n",
      "\u001b[34m\u001b[1mwandb\u001b[0m: Adding directory to artifact (C:\\Users\\PARK\\Documents\\LAB\\RNN vs LSTM\\FInal Example\\wandb\\run-20221016_102433-155iu2s1\\files\\model-best)... Done. 0.0s\n"
     ]
    },
    {
     "name": "stdout",
     "output_type": "stream",
     "text": [
      "5/5 [==============================] - 4s 965ms/step - loss: 0.0074 - mae: 0.0688 - val_loss: 0.0095 - val_mae: 0.0783\n",
      "Epoch 375/1000\n",
      "5/5 [==============================] - ETA: 0s - loss: 0.0074 - mae: 0.0689"
     ]
    },
    {
     "name": "stderr",
     "output_type": "stream",
     "text": [
      "WARNING:absl:Found untraced functions such as lstm_cell_layer_call_fn, lstm_cell_layer_call_and_return_conditional_losses while saving (showing 2 of 2). These functions will not be directly callable after loading.\n"
     ]
    },
    {
     "name": "stdout",
     "output_type": "stream",
     "text": [
      "INFO:tensorflow:Assets written to: C:\\Users\\PARK\\Documents\\LAB\\RNN vs LSTM\\FInal Example\\wandb\\run-20221016_102433-155iu2s1\\files\\model-best\\assets\n"
     ]
    },
    {
     "name": "stderr",
     "output_type": "stream",
     "text": [
      "INFO:tensorflow:Assets written to: C:\\Users\\PARK\\Documents\\LAB\\RNN vs LSTM\\FInal Example\\wandb\\run-20221016_102433-155iu2s1\\files\\model-best\\assets\n",
      "\u001b[34m\u001b[1mwandb\u001b[0m: Adding directory to artifact (C:\\Users\\PARK\\Documents\\LAB\\RNN vs LSTM\\FInal Example\\wandb\\run-20221016_102433-155iu2s1\\files\\model-best)... Done. 0.0s\n"
     ]
    },
    {
     "name": "stdout",
     "output_type": "stream",
     "text": [
      "5/5 [==============================] - 4s 922ms/step - loss: 0.0074 - mae: 0.0689 - val_loss: 0.0095 - val_mae: 0.0782\n",
      "Epoch 376/1000\n",
      "5/5 [==============================] - 0s 79ms/step - loss: 0.0076 - mae: 0.0695 - val_loss: 0.0096 - val_mae: 0.0780\n",
      "Epoch 377/1000\n",
      "5/5 [==============================] - 0s 41ms/step - loss: 0.0075 - mae: 0.0692 - val_loss: 0.0100 - val_mae: 0.0795\n",
      "Epoch 378/1000\n",
      "1/5 [=====>........................] - ETA: 0s - loss: 0.0087 - mae: 0.0727"
     ]
    },
    {
     "name": "stderr",
     "output_type": "stream",
     "text": [
      "WARNING:absl:Found untraced functions such as lstm_cell_layer_call_fn, lstm_cell_layer_call_and_return_conditional_losses while saving (showing 2 of 2). These functions will not be directly callable after loading.\n"
     ]
    },
    {
     "name": "stdout",
     "output_type": "stream",
     "text": [
      "INFO:tensorflow:Assets written to: C:\\Users\\PARK\\Documents\\LAB\\RNN vs LSTM\\FInal Example\\wandb\\run-20221016_102433-155iu2s1\\files\\model-best\\assets\n"
     ]
    },
    {
     "name": "stderr",
     "output_type": "stream",
     "text": [
      "INFO:tensorflow:Assets written to: C:\\Users\\PARK\\Documents\\LAB\\RNN vs LSTM\\FInal Example\\wandb\\run-20221016_102433-155iu2s1\\files\\model-best\\assets\n",
      "\u001b[34m\u001b[1mwandb\u001b[0m: Adding directory to artifact (C:\\Users\\PARK\\Documents\\LAB\\RNN vs LSTM\\FInal Example\\wandb\\run-20221016_102433-155iu2s1\\files\\model-best)... Done. 0.0s\n"
     ]
    },
    {
     "name": "stdout",
     "output_type": "stream",
     "text": [
      "5/5 [==============================] - 4s 898ms/step - loss: 0.0074 - mae: 0.0685 - val_loss: 0.0091 - val_mae: 0.0766\n",
      "Epoch 379/1000\n",
      "5/5 [==============================] - 0s 71ms/step - loss: 0.0071 - mae: 0.0673 - val_loss: 0.0093 - val_mae: 0.0763\n",
      "Epoch 380/1000\n",
      "5/5 [==============================] - 0s 56ms/step - loss: 0.0070 - mae: 0.0668 - val_loss: 0.0092 - val_mae: 0.0764\n",
      "Epoch 381/1000\n",
      "5/5 [==============================] - 0s 47ms/step - loss: 0.0069 - mae: 0.0668 - val_loss: 0.0093 - val_mae: 0.0764\n",
      "Epoch 382/1000\n",
      "1/5 [=====>........................] - ETA: 0s - loss: 0.0070 - mae: 0.0672"
     ]
    },
    {
     "name": "stderr",
     "output_type": "stream",
     "text": [
      "WARNING:absl:Found untraced functions such as lstm_cell_layer_call_fn, lstm_cell_layer_call_and_return_conditional_losses while saving (showing 2 of 2). These functions will not be directly callable after loading.\n"
     ]
    },
    {
     "name": "stdout",
     "output_type": "stream",
     "text": [
      "INFO:tensorflow:Assets written to: C:\\Users\\PARK\\Documents\\LAB\\RNN vs LSTM\\FInal Example\\wandb\\run-20221016_102433-155iu2s1\\files\\model-best\\assets\n"
     ]
    },
    {
     "name": "stderr",
     "output_type": "stream",
     "text": [
      "INFO:tensorflow:Assets written to: C:\\Users\\PARK\\Documents\\LAB\\RNN vs LSTM\\FInal Example\\wandb\\run-20221016_102433-155iu2s1\\files\\model-best\\assets\n",
      "\u001b[34m\u001b[1mwandb\u001b[0m: Adding directory to artifact (C:\\Users\\PARK\\Documents\\LAB\\RNN vs LSTM\\FInal Example\\wandb\\run-20221016_102433-155iu2s1\\files\\model-best)... Done. 0.0s\n"
     ]
    },
    {
     "name": "stdout",
     "output_type": "stream",
     "text": [
      "5/5 [==============================] - 4s 897ms/step - loss: 0.0070 - mae: 0.0673 - val_loss: 0.0090 - val_mae: 0.0760\n",
      "Epoch 383/1000\n",
      "5/5 [==============================] - 0s 75ms/step - loss: 0.0069 - mae: 0.0663 - val_loss: 0.0092 - val_mae: 0.0770\n",
      "Epoch 384/1000\n",
      "5/5 [==============================] - 0s 53ms/step - loss: 0.0068 - mae: 0.0660 - val_loss: 0.0091 - val_mae: 0.0760\n",
      "Epoch 385/1000\n",
      "5/5 [==============================] - 0s 42ms/step - loss: 0.0067 - mae: 0.0656 - val_loss: 0.0092 - val_mae: 0.0770\n",
      "Epoch 386/1000\n",
      "1/5 [=====>........................] - ETA: 0s - loss: 0.0063 - mae: 0.0642"
     ]
    },
    {
     "name": "stderr",
     "output_type": "stream",
     "text": [
      "WARNING:absl:Found untraced functions such as lstm_cell_layer_call_fn, lstm_cell_layer_call_and_return_conditional_losses while saving (showing 2 of 2). These functions will not be directly callable after loading.\n"
     ]
    },
    {
     "name": "stdout",
     "output_type": "stream",
     "text": [
      "INFO:tensorflow:Assets written to: C:\\Users\\PARK\\Documents\\LAB\\RNN vs LSTM\\FInal Example\\wandb\\run-20221016_102433-155iu2s1\\files\\model-best\\assets\n"
     ]
    },
    {
     "name": "stderr",
     "output_type": "stream",
     "text": [
      "INFO:tensorflow:Assets written to: C:\\Users\\PARK\\Documents\\LAB\\RNN vs LSTM\\FInal Example\\wandb\\run-20221016_102433-155iu2s1\\files\\model-best\\assets\n",
      "\u001b[34m\u001b[1mwandb\u001b[0m: Adding directory to artifact (C:\\Users\\PARK\\Documents\\LAB\\RNN vs LSTM\\FInal Example\\wandb\\run-20221016_102433-155iu2s1\\files\\model-best)... Done. 0.0s\n"
     ]
    },
    {
     "name": "stdout",
     "output_type": "stream",
     "text": [
      "5/5 [==============================] - 4s 892ms/step - loss: 0.0066 - mae: 0.0651 - val_loss: 0.0089 - val_mae: 0.0756\n",
      "Epoch 387/1000\n",
      "5/5 [==============================] - ETA: 0s - loss: 0.0067 - mae: 0.0656"
     ]
    },
    {
     "name": "stderr",
     "output_type": "stream",
     "text": [
      "WARNING:absl:Found untraced functions such as lstm_cell_layer_call_fn, lstm_cell_layer_call_and_return_conditional_losses while saving (showing 2 of 2). These functions will not be directly callable after loading.\n"
     ]
    },
    {
     "name": "stdout",
     "output_type": "stream",
     "text": [
      "INFO:tensorflow:Assets written to: C:\\Users\\PARK\\Documents\\LAB\\RNN vs LSTM\\FInal Example\\wandb\\run-20221016_102433-155iu2s1\\files\\model-best\\assets\n"
     ]
    },
    {
     "name": "stderr",
     "output_type": "stream",
     "text": [
      "INFO:tensorflow:Assets written to: C:\\Users\\PARK\\Documents\\LAB\\RNN vs LSTM\\FInal Example\\wandb\\run-20221016_102433-155iu2s1\\files\\model-best\\assets\n",
      "\u001b[34m\u001b[1mwandb\u001b[0m: Adding directory to artifact (C:\\Users\\PARK\\Documents\\LAB\\RNN vs LSTM\\FInal Example\\wandb\\run-20221016_102433-155iu2s1\\files\\model-best)... Done. 0.0s\n"
     ]
    },
    {
     "name": "stdout",
     "output_type": "stream",
     "text": [
      "5/5 [==============================] - 4s 939ms/step - loss: 0.0067 - mae: 0.0656 - val_loss: 0.0089 - val_mae: 0.0758\n",
      "Epoch 388/1000\n",
      "5/5 [==============================] - 0s 76ms/step - loss: 0.0065 - mae: 0.0648 - val_loss: 0.0090 - val_mae: 0.0757\n",
      "Epoch 389/1000\n",
      "4/5 [=======================>......] - ETA: 0s - loss: 0.0065 - mae: 0.0649"
     ]
    },
    {
     "name": "stderr",
     "output_type": "stream",
     "text": [
      "WARNING:absl:Found untraced functions such as lstm_cell_layer_call_fn, lstm_cell_layer_call_and_return_conditional_losses while saving (showing 2 of 2). These functions will not be directly callable after loading.\n"
     ]
    },
    {
     "name": "stdout",
     "output_type": "stream",
     "text": [
      "INFO:tensorflow:Assets written to: C:\\Users\\PARK\\Documents\\LAB\\RNN vs LSTM\\FInal Example\\wandb\\run-20221016_102433-155iu2s1\\files\\model-best\\assets\n"
     ]
    },
    {
     "name": "stderr",
     "output_type": "stream",
     "text": [
      "INFO:tensorflow:Assets written to: C:\\Users\\PARK\\Documents\\LAB\\RNN vs LSTM\\FInal Example\\wandb\\run-20221016_102433-155iu2s1\\files\\model-best\\assets\n",
      "\u001b[34m\u001b[1mwandb\u001b[0m: Adding directory to artifact (C:\\Users\\PARK\\Documents\\LAB\\RNN vs LSTM\\FInal Example\\wandb\\run-20221016_102433-155iu2s1\\files\\model-best)... Done. 0.0s\n"
     ]
    },
    {
     "name": "stdout",
     "output_type": "stream",
     "text": [
      "5/5 [==============================] - 4s 880ms/step - loss: 0.0065 - mae: 0.0647 - val_loss: 0.0088 - val_mae: 0.0749\n",
      "Epoch 390/1000\n",
      "5/5 [==============================] - 0s 77ms/step - loss: 0.0065 - mae: 0.0652 - val_loss: 0.0090 - val_mae: 0.0760\n",
      "Epoch 391/1000\n",
      "4/5 [=======================>......] - ETA: 0s - loss: 0.0065 - mae: 0.0650"
     ]
    },
    {
     "name": "stderr",
     "output_type": "stream",
     "text": [
      "WARNING:absl:Found untraced functions such as lstm_cell_layer_call_fn, lstm_cell_layer_call_and_return_conditional_losses while saving (showing 2 of 2). These functions will not be directly callable after loading.\n"
     ]
    },
    {
     "name": "stdout",
     "output_type": "stream",
     "text": [
      "INFO:tensorflow:Assets written to: C:\\Users\\PARK\\Documents\\LAB\\RNN vs LSTM\\FInal Example\\wandb\\run-20221016_102433-155iu2s1\\files\\model-best\\assets\n"
     ]
    },
    {
     "name": "stderr",
     "output_type": "stream",
     "text": [
      "INFO:tensorflow:Assets written to: C:\\Users\\PARK\\Documents\\LAB\\RNN vs LSTM\\FInal Example\\wandb\\run-20221016_102433-155iu2s1\\files\\model-best\\assets\n",
      "\u001b[34m\u001b[1mwandb\u001b[0m: Adding directory to artifact (C:\\Users\\PARK\\Documents\\LAB\\RNN vs LSTM\\FInal Example\\wandb\\run-20221016_102433-155iu2s1\\files\\model-best)... Done. 0.0s\n"
     ]
    },
    {
     "name": "stdout",
     "output_type": "stream",
     "text": [
      "5/5 [==============================] - 4s 925ms/step - loss: 0.0064 - mae: 0.0645 - val_loss: 0.0087 - val_mae: 0.0746\n",
      "Epoch 392/1000\n",
      "5/5 [==============================] - 0s 69ms/step - loss: 0.0063 - mae: 0.0638 - val_loss: 0.0090 - val_mae: 0.0760\n",
      "Epoch 393/1000\n",
      "4/5 [=======================>......] - ETA: 0s - loss: 0.0065 - mae: 0.0653"
     ]
    },
    {
     "name": "stderr",
     "output_type": "stream",
     "text": [
      "WARNING:absl:Found untraced functions such as lstm_cell_layer_call_fn, lstm_cell_layer_call_and_return_conditional_losses while saving (showing 2 of 2). These functions will not be directly callable after loading.\n"
     ]
    },
    {
     "name": "stdout",
     "output_type": "stream",
     "text": [
      "INFO:tensorflow:Assets written to: C:\\Users\\PARK\\Documents\\LAB\\RNN vs LSTM\\FInal Example\\wandb\\run-20221016_102433-155iu2s1\\files\\model-best\\assets\n"
     ]
    },
    {
     "name": "stderr",
     "output_type": "stream",
     "text": [
      "INFO:tensorflow:Assets written to: C:\\Users\\PARK\\Documents\\LAB\\RNN vs LSTM\\FInal Example\\wandb\\run-20221016_102433-155iu2s1\\files\\model-best\\assets\n",
      "\u001b[34m\u001b[1mwandb\u001b[0m: Adding directory to artifact (C:\\Users\\PARK\\Documents\\LAB\\RNN vs LSTM\\FInal Example\\wandb\\run-20221016_102433-155iu2s1\\files\\model-best)... Done. 0.0s\n"
     ]
    },
    {
     "name": "stdout",
     "output_type": "stream",
     "text": [
      "5/5 [==============================] - 4s 875ms/step - loss: 0.0064 - mae: 0.0649 - val_loss: 0.0086 - val_mae: 0.0745\n",
      "Epoch 394/1000\n",
      "5/5 [==============================] - 0s 75ms/step - loss: 0.0064 - mae: 0.0650 - val_loss: 0.0086 - val_mae: 0.0743\n",
      "Epoch 395/1000\n",
      "5/5 [==============================] - 0s 50ms/step - loss: 0.0063 - mae: 0.0641 - val_loss: 0.0087 - val_mae: 0.0748\n",
      "Epoch 396/1000\n",
      "5/5 [==============================] - 0s 42ms/step - loss: 0.0062 - mae: 0.0639 - val_loss: 0.0087 - val_mae: 0.0749\n",
      "Epoch 397/1000\n",
      "5/5 [==============================] - 0s 33ms/step - loss: 0.0064 - mae: 0.0647 - val_loss: 0.0089 - val_mae: 0.0752\n",
      "Epoch 398/1000\n",
      "5/5 [==============================] - 0s 32ms/step - loss: 0.0062 - mae: 0.0635 - val_loss: 0.0089 - val_mae: 0.0769\n",
      "Epoch 399/1000\n",
      "5/5 [==============================] - 0s 31ms/step - loss: 0.0062 - mae: 0.0635 - val_loss: 0.0091 - val_mae: 0.0756\n",
      "Epoch 400/1000\n",
      "1/5 [=====>........................] - ETA: 0s - loss: 0.0061 - mae: 0.0625"
     ]
    },
    {
     "name": "stderr",
     "output_type": "stream",
     "text": [
      "WARNING:absl:Found untraced functions such as lstm_cell_layer_call_fn, lstm_cell_layer_call_and_return_conditional_losses while saving (showing 2 of 2). These functions will not be directly callable after loading.\n"
     ]
    },
    {
     "name": "stdout",
     "output_type": "stream",
     "text": [
      "INFO:tensorflow:Assets written to: C:\\Users\\PARK\\Documents\\LAB\\RNN vs LSTM\\FInal Example\\wandb\\run-20221016_102433-155iu2s1\\files\\model-best\\assets\n"
     ]
    },
    {
     "name": "stderr",
     "output_type": "stream",
     "text": [
      "INFO:tensorflow:Assets written to: C:\\Users\\PARK\\Documents\\LAB\\RNN vs LSTM\\FInal Example\\wandb\\run-20221016_102433-155iu2s1\\files\\model-best\\assets\n",
      "\u001b[34m\u001b[1mwandb\u001b[0m: Adding directory to artifact (C:\\Users\\PARK\\Documents\\LAB\\RNN vs LSTM\\FInal Example\\wandb\\run-20221016_102433-155iu2s1\\files\\model-best)... Done. 0.0s\n"
     ]
    },
    {
     "name": "stdout",
     "output_type": "stream",
     "text": [
      "5/5 [==============================] - 4s 921ms/step - loss: 0.0065 - mae: 0.0646 - val_loss: 0.0083 - val_mae: 0.0737\n",
      "Epoch 401/1000\n",
      "5/5 [==============================] - 0s 67ms/step - loss: 0.0062 - mae: 0.0638 - val_loss: 0.0084 - val_mae: 0.0737\n",
      "Epoch 402/1000\n",
      "5/5 [==============================] - ETA: 0s - loss: 0.0061 - mae: 0.0632"
     ]
    },
    {
     "name": "stderr",
     "output_type": "stream",
     "text": [
      "WARNING:absl:Found untraced functions such as lstm_cell_layer_call_fn, lstm_cell_layer_call_and_return_conditional_losses while saving (showing 2 of 2). These functions will not be directly callable after loading.\n"
     ]
    },
    {
     "name": "stdout",
     "output_type": "stream",
     "text": [
      "INFO:tensorflow:Assets written to: C:\\Users\\PARK\\Documents\\LAB\\RNN vs LSTM\\FInal Example\\wandb\\run-20221016_102433-155iu2s1\\files\\model-best\\assets\n"
     ]
    },
    {
     "name": "stderr",
     "output_type": "stream",
     "text": [
      "INFO:tensorflow:Assets written to: C:\\Users\\PARK\\Documents\\LAB\\RNN vs LSTM\\FInal Example\\wandb\\run-20221016_102433-155iu2s1\\files\\model-best\\assets\n",
      "\u001b[34m\u001b[1mwandb\u001b[0m: Adding directory to artifact (C:\\Users\\PARK\\Documents\\LAB\\RNN vs LSTM\\FInal Example\\wandb\\run-20221016_102433-155iu2s1\\files\\model-best)... Done. 0.0s\n"
     ]
    },
    {
     "name": "stdout",
     "output_type": "stream",
     "text": [
      "5/5 [==============================] - 4s 919ms/step - loss: 0.0061 - mae: 0.0632 - val_loss: 0.0083 - val_mae: 0.0731\n",
      "Epoch 403/1000\n",
      "5/5 [==============================] - 0s 76ms/step - loss: 0.0062 - mae: 0.0637 - val_loss: 0.0087 - val_mae: 0.0748\n",
      "Epoch 404/1000\n",
      "3/5 [=================>............] - ETA: 0s - loss: 0.0060 - mae: 0.0623"
     ]
    },
    {
     "name": "stderr",
     "output_type": "stream",
     "text": [
      "WARNING:absl:Found untraced functions such as lstm_cell_layer_call_fn, lstm_cell_layer_call_and_return_conditional_losses while saving (showing 2 of 2). These functions will not be directly callable after loading.\n"
     ]
    },
    {
     "name": "stdout",
     "output_type": "stream",
     "text": [
      "INFO:tensorflow:Assets written to: C:\\Users\\PARK\\Documents\\LAB\\RNN vs LSTM\\FInal Example\\wandb\\run-20221016_102433-155iu2s1\\files\\model-best\\assets\n"
     ]
    },
    {
     "name": "stderr",
     "output_type": "stream",
     "text": [
      "INFO:tensorflow:Assets written to: C:\\Users\\PARK\\Documents\\LAB\\RNN vs LSTM\\FInal Example\\wandb\\run-20221016_102433-155iu2s1\\files\\model-best\\assets\n",
      "\u001b[34m\u001b[1mwandb\u001b[0m: Adding directory to artifact (C:\\Users\\PARK\\Documents\\LAB\\RNN vs LSTM\\FInal Example\\wandb\\run-20221016_102433-155iu2s1\\files\\model-best)... Done. 0.0s\n"
     ]
    },
    {
     "name": "stdout",
     "output_type": "stream",
     "text": [
      "5/5 [==============================] - 4s 920ms/step - loss: 0.0059 - mae: 0.0622 - val_loss: 0.0082 - val_mae: 0.0733\n",
      "Epoch 405/1000\n",
      "5/5 [==============================] - 0s 67ms/step - loss: 0.0059 - mae: 0.0623 - val_loss: 0.0085 - val_mae: 0.0734\n",
      "Epoch 406/1000\n",
      "4/5 [=======================>......] - ETA: 0s - loss: 0.0061 - mae: 0.0631"
     ]
    },
    {
     "name": "stderr",
     "output_type": "stream",
     "text": [
      "WARNING:absl:Found untraced functions such as lstm_cell_layer_call_fn, lstm_cell_layer_call_and_return_conditional_losses while saving (showing 2 of 2). These functions will not be directly callable after loading.\n"
     ]
    },
    {
     "name": "stdout",
     "output_type": "stream",
     "text": [
      "INFO:tensorflow:Assets written to: C:\\Users\\PARK\\Documents\\LAB\\RNN vs LSTM\\FInal Example\\wandb\\run-20221016_102433-155iu2s1\\files\\model-best\\assets\n"
     ]
    },
    {
     "name": "stderr",
     "output_type": "stream",
     "text": [
      "INFO:tensorflow:Assets written to: C:\\Users\\PARK\\Documents\\LAB\\RNN vs LSTM\\FInal Example\\wandb\\run-20221016_102433-155iu2s1\\files\\model-best\\assets\n",
      "\u001b[34m\u001b[1mwandb\u001b[0m: Adding directory to artifact (C:\\Users\\PARK\\Documents\\LAB\\RNN vs LSTM\\FInal Example\\wandb\\run-20221016_102433-155iu2s1\\files\\model-best)... Done. 0.0s\n"
     ]
    },
    {
     "name": "stdout",
     "output_type": "stream",
     "text": [
      "5/5 [==============================] - 4s 910ms/step - loss: 0.0060 - mae: 0.0628 - val_loss: 0.0081 - val_mae: 0.0725\n",
      "Epoch 407/1000\n",
      "5/5 [==============================] - 0s 68ms/step - loss: 0.0058 - mae: 0.0619 - val_loss: 0.0085 - val_mae: 0.0737\n",
      "Epoch 408/1000\n",
      "5/5 [==============================] - 0s 49ms/step - loss: 0.0059 - mae: 0.0626 - val_loss: 0.0085 - val_mae: 0.0740\n",
      "Epoch 409/1000\n",
      "5/5 [==============================] - 0s 42ms/step - loss: 0.0060 - mae: 0.0630 - val_loss: 0.0086 - val_mae: 0.0738\n",
      "Epoch 410/1000\n",
      "1/5 [=====>........................] - ETA: 0s - loss: 0.0062 - mae: 0.0619"
     ]
    },
    {
     "name": "stderr",
     "output_type": "stream",
     "text": [
      "WARNING:absl:Found untraced functions such as lstm_cell_layer_call_fn, lstm_cell_layer_call_and_return_conditional_losses while saving (showing 2 of 2). These functions will not be directly callable after loading.\n"
     ]
    },
    {
     "name": "stdout",
     "output_type": "stream",
     "text": [
      "INFO:tensorflow:Assets written to: C:\\Users\\PARK\\Documents\\LAB\\RNN vs LSTM\\FInal Example\\wandb\\run-20221016_102433-155iu2s1\\files\\model-best\\assets\n"
     ]
    },
    {
     "name": "stderr",
     "output_type": "stream",
     "text": [
      "INFO:tensorflow:Assets written to: C:\\Users\\PARK\\Documents\\LAB\\RNN vs LSTM\\FInal Example\\wandb\\run-20221016_102433-155iu2s1\\files\\model-best\\assets\n",
      "\u001b[34m\u001b[1mwandb\u001b[0m: Adding directory to artifact (C:\\Users\\PARK\\Documents\\LAB\\RNN vs LSTM\\FInal Example\\wandb\\run-20221016_102433-155iu2s1\\files\\model-best)... Done. 0.0s\n"
     ]
    },
    {
     "name": "stdout",
     "output_type": "stream",
     "text": [
      "5/5 [==============================] - 3s 871ms/step - loss: 0.0059 - mae: 0.0621 - val_loss: 0.0080 - val_mae: 0.0728\n",
      "Epoch 411/1000\n",
      "5/5 [==============================] - 0s 65ms/step - loss: 0.0058 - mae: 0.0621 - val_loss: 0.0084 - val_mae: 0.0735\n",
      "Epoch 412/1000\n",
      "5/5 [==============================] - 0s 48ms/step - loss: 0.0057 - mae: 0.0616 - val_loss: 0.0081 - val_mae: 0.0724\n",
      "Epoch 413/1000\n",
      "5/5 [==============================] - 0s 41ms/step - loss: 0.0058 - mae: 0.0619 - val_loss: 0.0084 - val_mae: 0.0739\n",
      "Epoch 414/1000\n",
      "5/5 [==============================] - 0s 36ms/step - loss: 0.0058 - mae: 0.0619 - val_loss: 0.0083 - val_mae: 0.0729\n",
      "Epoch 415/1000\n",
      "5/5 [==============================] - 0s 30ms/step - loss: 0.0057 - mae: 0.0615 - val_loss: 0.0083 - val_mae: 0.0734\n",
      "Epoch 416/1000\n",
      "5/5 [==============================] - 0s 31ms/step - loss: 0.0058 - mae: 0.0620 - val_loss: 0.0083 - val_mae: 0.0733\n",
      "Epoch 417/1000\n",
      "5/5 [==============================] - 0s 29ms/step - loss: 0.0057 - mae: 0.0615 - val_loss: 0.0081 - val_mae: 0.0720\n",
      "Epoch 418/1000\n",
      "5/5 [==============================] - 0s 29ms/step - loss: 0.0055 - mae: 0.0607 - val_loss: 0.0081 - val_mae: 0.0723\n",
      "Epoch 419/1000\n",
      "5/5 [==============================] - 0s 28ms/step - loss: 0.0056 - mae: 0.0610 - val_loss: 0.0084 - val_mae: 0.0734\n",
      "Epoch 420/1000\n",
      "1/5 [=====>........................] - ETA: 0s - loss: 0.0061 - mae: 0.0648"
     ]
    },
    {
     "name": "stderr",
     "output_type": "stream",
     "text": [
      "WARNING:absl:Found untraced functions such as lstm_cell_layer_call_fn, lstm_cell_layer_call_and_return_conditional_losses while saving (showing 2 of 2). These functions will not be directly callable after loading.\n"
     ]
    },
    {
     "name": "stdout",
     "output_type": "stream",
     "text": [
      "INFO:tensorflow:Assets written to: C:\\Users\\PARK\\Documents\\LAB\\RNN vs LSTM\\FInal Example\\wandb\\run-20221016_102433-155iu2s1\\files\\model-best\\assets\n"
     ]
    },
    {
     "name": "stderr",
     "output_type": "stream",
     "text": [
      "INFO:tensorflow:Assets written to: C:\\Users\\PARK\\Documents\\LAB\\RNN vs LSTM\\FInal Example\\wandb\\run-20221016_102433-155iu2s1\\files\\model-best\\assets\n",
      "\u001b[34m\u001b[1mwandb\u001b[0m: Adding directory to artifact (C:\\Users\\PARK\\Documents\\LAB\\RNN vs LSTM\\FInal Example\\wandb\\run-20221016_102433-155iu2s1\\files\\model-best)... Done. 0.0s\n"
     ]
    },
    {
     "name": "stdout",
     "output_type": "stream",
     "text": [
      "5/5 [==============================] - 4s 913ms/step - loss: 0.0056 - mae: 0.0610 - val_loss: 0.0079 - val_mae: 0.0717\n",
      "Epoch 421/1000\n",
      "5/5 [==============================] - 0s 53ms/step - loss: 0.0054 - mae: 0.0603 - val_loss: 0.0084 - val_mae: 0.0733\n",
      "Epoch 422/1000\n",
      "5/5 [==============================] - 0s 26ms/step - loss: 0.0055 - mae: 0.0605 - val_loss: 0.0081 - val_mae: 0.0722\n",
      "Epoch 423/1000\n",
      "5/5 [==============================] - 0s 25ms/step - loss: 0.0054 - mae: 0.0600 - val_loss: 0.0083 - val_mae: 0.0730\n",
      "Epoch 424/1000\n",
      "5/5 [==============================] - 0s 27ms/step - loss: 0.0056 - mae: 0.0607 - val_loss: 0.0080 - val_mae: 0.0719\n",
      "Epoch 425/1000\n",
      "5/5 [==============================] - 0s 26ms/step - loss: 0.0055 - mae: 0.0605 - val_loss: 0.0081 - val_mae: 0.0724\n",
      "Epoch 426/1000\n",
      "5/5 [==============================] - 0s 26ms/step - loss: 0.0054 - mae: 0.0599 - val_loss: 0.0080 - val_mae: 0.0725\n",
      "Epoch 427/1000\n",
      "5/5 [==============================] - 0s 26ms/step - loss: 0.0054 - mae: 0.0599 - val_loss: 0.0082 - val_mae: 0.0722\n",
      "Epoch 428/1000\n",
      "1/5 [=====>........................] - ETA: 0s - loss: 0.0058 - mae: 0.0618"
     ]
    },
    {
     "name": "stderr",
     "output_type": "stream",
     "text": [
      "WARNING:absl:Found untraced functions such as lstm_cell_layer_call_fn, lstm_cell_layer_call_and_return_conditional_losses while saving (showing 2 of 2). These functions will not be directly callable after loading.\n"
     ]
    },
    {
     "name": "stdout",
     "output_type": "stream",
     "text": [
      "INFO:tensorflow:Assets written to: C:\\Users\\PARK\\Documents\\LAB\\RNN vs LSTM\\FInal Example\\wandb\\run-20221016_102433-155iu2s1\\files\\model-best\\assets\n"
     ]
    },
    {
     "name": "stderr",
     "output_type": "stream",
     "text": [
      "INFO:tensorflow:Assets written to: C:\\Users\\PARK\\Documents\\LAB\\RNN vs LSTM\\FInal Example\\wandb\\run-20221016_102433-155iu2s1\\files\\model-best\\assets\n",
      "\u001b[34m\u001b[1mwandb\u001b[0m: Adding directory to artifact (C:\\Users\\PARK\\Documents\\LAB\\RNN vs LSTM\\FInal Example\\wandb\\run-20221016_102433-155iu2s1\\files\\model-best)... Done. 0.0s\n"
     ]
    },
    {
     "name": "stdout",
     "output_type": "stream",
     "text": [
      "5/5 [==============================] - 3s 840ms/step - loss: 0.0054 - mae: 0.0597 - val_loss: 0.0078 - val_mae: 0.0713\n",
      "Epoch 429/1000\n",
      "5/5 [==============================] - 0s 69ms/step - loss: 0.0052 - mae: 0.0594 - val_loss: 0.0081 - val_mae: 0.0724\n",
      "Epoch 430/1000\n",
      "5/5 [==============================] - 0s 49ms/step - loss: 0.0053 - mae: 0.0594 - val_loss: 0.0078 - val_mae: 0.0710\n",
      "Epoch 431/1000\n",
      "5/5 [==============================] - 0s 41ms/step - loss: 0.0053 - mae: 0.0597 - val_loss: 0.0079 - val_mae: 0.0717\n",
      "Epoch 432/1000\n",
      "5/5 [==============================] - 0s 37ms/step - loss: 0.0053 - mae: 0.0598 - val_loss: 0.0082 - val_mae: 0.0727\n",
      "Epoch 433/1000\n",
      "5/5 [==============================] - 0s 31ms/step - loss: 0.0054 - mae: 0.0602 - val_loss: 0.0082 - val_mae: 0.0728\n",
      "Epoch 434/1000\n",
      "5/5 [==============================] - 0s 30ms/step - loss: 0.0054 - mae: 0.0597 - val_loss: 0.0083 - val_mae: 0.0727\n",
      "Epoch 435/1000\n",
      "5/5 [==============================] - 0s 30ms/step - loss: 0.0053 - mae: 0.0597 - val_loss: 0.0081 - val_mae: 0.0719\n",
      "Epoch 436/1000\n",
      "5/5 [==============================] - 0s 31ms/step - loss: 0.0053 - mae: 0.0595 - val_loss: 0.0084 - val_mae: 0.0735\n",
      "Epoch 437/1000\n",
      "5/5 [==============================] - 0s 30ms/step - loss: 0.0055 - mae: 0.0604 - val_loss: 0.0085 - val_mae: 0.0737\n",
      "Epoch 438/1000\n",
      "5/5 [==============================] - 0s 30ms/step - loss: 0.0057 - mae: 0.0615 - val_loss: 0.0086 - val_mae: 0.0750\n",
      "Epoch 439/1000\n",
      "5/5 [==============================] - 0s 30ms/step - loss: 0.0058 - mae: 0.0619 - val_loss: 0.0084 - val_mae: 0.0731\n",
      "Epoch 440/1000\n",
      "5/5 [==============================] - 0s 29ms/step - loss: 0.0058 - mae: 0.0615 - val_loss: 0.0086 - val_mae: 0.0748\n",
      "Epoch 441/1000\n",
      "5/5 [==============================] - 0s 30ms/step - loss: 0.0058 - mae: 0.0616 - val_loss: 0.0083 - val_mae: 0.0733\n",
      "Epoch 442/1000\n",
      "5/5 [==============================] - 0s 28ms/step - loss: 0.0058 - mae: 0.0618 - val_loss: 0.0081 - val_mae: 0.0716\n",
      "Epoch 443/1000\n",
      "5/5 [==============================] - 0s 29ms/step - loss: 0.0056 - mae: 0.0606 - val_loss: 0.0084 - val_mae: 0.0741\n",
      "Epoch 444/1000\n",
      "5/5 [==============================] - 0s 29ms/step - loss: 0.0054 - mae: 0.0596 - val_loss: 0.0078 - val_mae: 0.0709\n",
      "Epoch 445/1000\n",
      "5/5 [==============================] - 0s 29ms/step - loss: 0.0053 - mae: 0.0592 - val_loss: 0.0082 - val_mae: 0.0728\n",
      "Epoch 446/1000\n",
      "1/5 [=====>........................] - ETA: 0s - loss: 0.0057 - mae: 0.0618"
     ]
    },
    {
     "name": "stderr",
     "output_type": "stream",
     "text": [
      "WARNING:absl:Found untraced functions such as lstm_cell_layer_call_fn, lstm_cell_layer_call_and_return_conditional_losses while saving (showing 2 of 2). These functions will not be directly callable after loading.\n"
     ]
    },
    {
     "name": "stdout",
     "output_type": "stream",
     "text": [
      "INFO:tensorflow:Assets written to: C:\\Users\\PARK\\Documents\\LAB\\RNN vs LSTM\\FInal Example\\wandb\\run-20221016_102433-155iu2s1\\files\\model-best\\assets\n"
     ]
    },
    {
     "name": "stderr",
     "output_type": "stream",
     "text": [
      "INFO:tensorflow:Assets written to: C:\\Users\\PARK\\Documents\\LAB\\RNN vs LSTM\\FInal Example\\wandb\\run-20221016_102433-155iu2s1\\files\\model-best\\assets\n",
      "\u001b[34m\u001b[1mwandb\u001b[0m: Adding directory to artifact (C:\\Users\\PARK\\Documents\\LAB\\RNN vs LSTM\\FInal Example\\wandb\\run-20221016_102433-155iu2s1\\files\\model-best)... Done. 0.0s\n"
     ]
    },
    {
     "name": "stdout",
     "output_type": "stream",
     "text": [
      "5/5 [==============================] - 4s 919ms/step - loss: 0.0054 - mae: 0.0600 - val_loss: 0.0078 - val_mae: 0.0709\n",
      "Epoch 447/1000\n",
      "5/5 [==============================] - 0s 75ms/step - loss: 0.0053 - mae: 0.0594 - val_loss: 0.0078 - val_mae: 0.0713\n",
      "Epoch 448/1000\n",
      "5/5 [==============================] - 0s 54ms/step - loss: 0.0053 - mae: 0.0597 - val_loss: 0.0080 - val_mae: 0.0718\n",
      "Epoch 449/1000\n",
      "1/5 [=====>........................] - ETA: 0s - loss: 0.0050 - mae: 0.0574"
     ]
    },
    {
     "name": "stderr",
     "output_type": "stream",
     "text": [
      "WARNING:absl:Found untraced functions such as lstm_cell_layer_call_fn, lstm_cell_layer_call_and_return_conditional_losses while saving (showing 2 of 2). These functions will not be directly callable after loading.\n"
     ]
    },
    {
     "name": "stdout",
     "output_type": "stream",
     "text": [
      "INFO:tensorflow:Assets written to: C:\\Users\\PARK\\Documents\\LAB\\RNN vs LSTM\\FInal Example\\wandb\\run-20221016_102433-155iu2s1\\files\\model-best\\assets\n"
     ]
    },
    {
     "name": "stderr",
     "output_type": "stream",
     "text": [
      "INFO:tensorflow:Assets written to: C:\\Users\\PARK\\Documents\\LAB\\RNN vs LSTM\\FInal Example\\wandb\\run-20221016_102433-155iu2s1\\files\\model-best\\assets\n",
      "\u001b[34m\u001b[1mwandb\u001b[0m: Adding directory to artifact (C:\\Users\\PARK\\Documents\\LAB\\RNN vs LSTM\\FInal Example\\wandb\\run-20221016_102433-155iu2s1\\files\\model-best)... Done. 0.0s\n"
     ]
    },
    {
     "name": "stdout",
     "output_type": "stream",
     "text": [
      "5/5 [==============================] - 4s 917ms/step - loss: 0.0051 - mae: 0.0582 - val_loss: 0.0078 - val_mae: 0.0709\n",
      "Epoch 450/1000\n",
      "5/5 [==============================] - 0s 68ms/step - loss: 0.0052 - mae: 0.0593 - val_loss: 0.0079 - val_mae: 0.0711\n",
      "Epoch 451/1000\n",
      "4/5 [=======================>......] - ETA: 0s - loss: 0.0052 - mae: 0.0583"
     ]
    },
    {
     "name": "stderr",
     "output_type": "stream",
     "text": [
      "WARNING:absl:Found untraced functions such as lstm_cell_layer_call_fn, lstm_cell_layer_call_and_return_conditional_losses while saving (showing 2 of 2). These functions will not be directly callable after loading.\n"
     ]
    },
    {
     "name": "stdout",
     "output_type": "stream",
     "text": [
      "INFO:tensorflow:Assets written to: C:\\Users\\PARK\\Documents\\LAB\\RNN vs LSTM\\FInal Example\\wandb\\run-20221016_102433-155iu2s1\\files\\model-best\\assets\n"
     ]
    },
    {
     "name": "stderr",
     "output_type": "stream",
     "text": [
      "INFO:tensorflow:Assets written to: C:\\Users\\PARK\\Documents\\LAB\\RNN vs LSTM\\FInal Example\\wandb\\run-20221016_102433-155iu2s1\\files\\model-best\\assets\n",
      "\u001b[34m\u001b[1mwandb\u001b[0m: Adding directory to artifact (C:\\Users\\PARK\\Documents\\LAB\\RNN vs LSTM\\FInal Example\\wandb\\run-20221016_102433-155iu2s1\\files\\model-best)... Done. 0.0s\n"
     ]
    },
    {
     "name": "stdout",
     "output_type": "stream",
     "text": [
      "5/5 [==============================] - 4s 907ms/step - loss: 0.0051 - mae: 0.0583 - val_loss: 0.0077 - val_mae: 0.0705\n",
      "Epoch 452/1000\n",
      "5/5 [==============================] - 0s 53ms/step - loss: 0.0050 - mae: 0.0581 - val_loss: 0.0079 - val_mae: 0.0708\n",
      "Epoch 453/1000\n",
      "5/5 [==============================] - 0s 26ms/step - loss: 0.0051 - mae: 0.0581 - val_loss: 0.0077 - val_mae: 0.0706\n",
      "Epoch 454/1000\n",
      "5/5 [==============================] - 0s 26ms/step - loss: 0.0050 - mae: 0.0579 - val_loss: 0.0080 - val_mae: 0.0715\n",
      "Epoch 455/1000\n",
      "5/5 [==============================] - 0s 25ms/step - loss: 0.0051 - mae: 0.0580 - val_loss: 0.0082 - val_mae: 0.0727\n",
      "Epoch 456/1000\n",
      "5/5 [==============================] - 0s 27ms/step - loss: 0.0051 - mae: 0.0584 - val_loss: 0.0081 - val_mae: 0.0715\n",
      "Epoch 457/1000\n",
      "5/5 [==============================] - 0s 26ms/step - loss: 0.0051 - mae: 0.0583 - val_loss: 0.0078 - val_mae: 0.0707\n",
      "Epoch 458/1000\n",
      "1/5 [=====>........................] - ETA: 0s - loss: 0.0042 - mae: 0.0528"
     ]
    },
    {
     "name": "stderr",
     "output_type": "stream",
     "text": [
      "WARNING:absl:Found untraced functions such as lstm_cell_layer_call_fn, lstm_cell_layer_call_and_return_conditional_losses while saving (showing 2 of 2). These functions will not be directly callable after loading.\n"
     ]
    },
    {
     "name": "stdout",
     "output_type": "stream",
     "text": [
      "INFO:tensorflow:Assets written to: C:\\Users\\PARK\\Documents\\LAB\\RNN vs LSTM\\FInal Example\\wandb\\run-20221016_102433-155iu2s1\\files\\model-best\\assets\n"
     ]
    },
    {
     "name": "stderr",
     "output_type": "stream",
     "text": [
      "INFO:tensorflow:Assets written to: C:\\Users\\PARK\\Documents\\LAB\\RNN vs LSTM\\FInal Example\\wandb\\run-20221016_102433-155iu2s1\\files\\model-best\\assets\n",
      "\u001b[34m\u001b[1mwandb\u001b[0m: Adding directory to artifact (C:\\Users\\PARK\\Documents\\LAB\\RNN vs LSTM\\FInal Example\\wandb\\run-20221016_102433-155iu2s1\\files\\model-best)... Done. 0.0s\n"
     ]
    },
    {
     "name": "stdout",
     "output_type": "stream",
     "text": [
      "5/5 [==============================] - 4s 895ms/step - loss: 0.0050 - mae: 0.0582 - val_loss: 0.0076 - val_mae: 0.0703\n",
      "Epoch 459/1000\n",
      "5/5 [==============================] - 0s 62ms/step - loss: 0.0051 - mae: 0.0580 - val_loss: 0.0082 - val_mae: 0.0720\n",
      "Epoch 460/1000\n",
      "5/5 [==============================] - 0s 45ms/step - loss: 0.0052 - mae: 0.0586 - val_loss: 0.0077 - val_mae: 0.0705\n",
      "Epoch 461/1000\n",
      "5/5 [==============================] - 0s 40ms/step - loss: 0.0050 - mae: 0.0575 - val_loss: 0.0082 - val_mae: 0.0728\n",
      "Epoch 462/1000\n",
      "5/5 [==============================] - 0s 33ms/step - loss: 0.0052 - mae: 0.0587 - val_loss: 0.0079 - val_mae: 0.0713\n",
      "Epoch 463/1000\n",
      "5/5 [==============================] - 0s 31ms/step - loss: 0.0052 - mae: 0.0585 - val_loss: 0.0085 - val_mae: 0.0736\n",
      "Epoch 464/1000\n",
      "5/5 [==============================] - 0s 31ms/step - loss: 0.0053 - mae: 0.0587 - val_loss: 0.0079 - val_mae: 0.0715\n",
      "Epoch 465/1000\n",
      "5/5 [==============================] - 0s 30ms/step - loss: 0.0050 - mae: 0.0577 - val_loss: 0.0078 - val_mae: 0.0703\n",
      "Epoch 466/1000\n",
      "5/5 [==============================] - 0s 30ms/step - loss: 0.0049 - mae: 0.0570 - val_loss: 0.0078 - val_mae: 0.0710\n",
      "Epoch 467/1000\n",
      "5/5 [==============================] - 0s 29ms/step - loss: 0.0049 - mae: 0.0572 - val_loss: 0.0078 - val_mae: 0.0709\n",
      "Epoch 468/1000\n",
      "5/5 [==============================] - 0s 29ms/step - loss: 0.0048 - mae: 0.0566 - val_loss: 0.0078 - val_mae: 0.0705\n",
      "Epoch 469/1000\n",
      "1/5 [=====>........................] - ETA: 0s - loss: 0.0045 - mae: 0.0560"
     ]
    },
    {
     "name": "stderr",
     "output_type": "stream",
     "text": [
      "WARNING:absl:Found untraced functions such as lstm_cell_layer_call_fn, lstm_cell_layer_call_and_return_conditional_losses while saving (showing 2 of 2). These functions will not be directly callable after loading.\n"
     ]
    },
    {
     "name": "stdout",
     "output_type": "stream",
     "text": [
      "INFO:tensorflow:Assets written to: C:\\Users\\PARK\\Documents\\LAB\\RNN vs LSTM\\FInal Example\\wandb\\run-20221016_102433-155iu2s1\\files\\model-best\\assets\n"
     ]
    },
    {
     "name": "stderr",
     "output_type": "stream",
     "text": [
      "INFO:tensorflow:Assets written to: C:\\Users\\PARK\\Documents\\LAB\\RNN vs LSTM\\FInal Example\\wandb\\run-20221016_102433-155iu2s1\\files\\model-best\\assets\n",
      "\u001b[34m\u001b[1mwandb\u001b[0m: Adding directory to artifact (C:\\Users\\PARK\\Documents\\LAB\\RNN vs LSTM\\FInal Example\\wandb\\run-20221016_102433-155iu2s1\\files\\model-best)... Done. 0.0s\n"
     ]
    },
    {
     "name": "stdout",
     "output_type": "stream",
     "text": [
      "5/5 [==============================] - 4s 912ms/step - loss: 0.0048 - mae: 0.0571 - val_loss: 0.0076 - val_mae: 0.0693\n",
      "Epoch 470/1000\n",
      "5/5 [==============================] - 0s 75ms/step - loss: 0.0048 - mae: 0.0563 - val_loss: 0.0078 - val_mae: 0.0709\n",
      "Epoch 471/1000\n",
      "5/5 [==============================] - ETA: 0s - loss: 0.0048 - mae: 0.0566"
     ]
    },
    {
     "name": "stderr",
     "output_type": "stream",
     "text": [
      "WARNING:absl:Found untraced functions such as lstm_cell_layer_call_fn, lstm_cell_layer_call_and_return_conditional_losses while saving (showing 2 of 2). These functions will not be directly callable after loading.\n"
     ]
    },
    {
     "name": "stdout",
     "output_type": "stream",
     "text": [
      "INFO:tensorflow:Assets written to: C:\\Users\\PARK\\Documents\\LAB\\RNN vs LSTM\\FInal Example\\wandb\\run-20221016_102433-155iu2s1\\files\\model-best\\assets\n"
     ]
    },
    {
     "name": "stderr",
     "output_type": "stream",
     "text": [
      "INFO:tensorflow:Assets written to: C:\\Users\\PARK\\Documents\\LAB\\RNN vs LSTM\\FInal Example\\wandb\\run-20221016_102433-155iu2s1\\files\\model-best\\assets\n",
      "\u001b[34m\u001b[1mwandb\u001b[0m: Adding directory to artifact (C:\\Users\\PARK\\Documents\\LAB\\RNN vs LSTM\\FInal Example\\wandb\\run-20221016_102433-155iu2s1\\files\\model-best)... Done. 0.0s\n"
     ]
    },
    {
     "name": "stdout",
     "output_type": "stream",
     "text": [
      "5/5 [==============================] - 4s 885ms/step - loss: 0.0048 - mae: 0.0566 - val_loss: 0.0074 - val_mae: 0.0690\n",
      "Epoch 472/1000\n",
      "5/5 [==============================] - 0s 74ms/step - loss: 0.0048 - mae: 0.0563 - val_loss: 0.0082 - val_mae: 0.0727\n",
      "Epoch 473/1000\n",
      "5/5 [==============================] - 0s 52ms/step - loss: 0.0051 - mae: 0.0580 - val_loss: 0.0080 - val_mae: 0.0709\n",
      "Epoch 474/1000\n",
      "5/5 [==============================] - 0s 36ms/step - loss: 0.0054 - mae: 0.0596 - val_loss: 0.0079 - val_mae: 0.0706\n",
      "Epoch 475/1000\n",
      "5/5 [==============================] - 0s 31ms/step - loss: 0.0067 - mae: 0.0629 - val_loss: 0.0761 - val_mae: 0.2049\n",
      "Epoch 476/1000\n",
      "5/5 [==============================] - 0s 32ms/step - loss: 0.0729 - mae: 0.2090 - val_loss: 0.0907 - val_mae: 0.2340\n",
      "Epoch 477/1000\n",
      "5/5 [==============================] - 0s 31ms/step - loss: 0.0852 - mae: 0.2311 - val_loss: 0.1164 - val_mae: 0.2777\n",
      "Epoch 478/1000\n",
      "5/5 [==============================] - 0s 30ms/step - loss: 0.1066 - mae: 0.2626 - val_loss: 0.1118 - val_mae: 0.2706\n",
      "Epoch 479/1000\n",
      "5/5 [==============================] - 0s 31ms/step - loss: 0.0901 - mae: 0.2397 - val_loss: 0.0598 - val_mae: 0.1880\n",
      "Epoch 480/1000\n",
      "5/5 [==============================] - 0s 30ms/step - loss: 0.0631 - mae: 0.1999 - val_loss: 0.0648 - val_mae: 0.1927\n",
      "Epoch 481/1000\n",
      "5/5 [==============================] - 0s 30ms/step - loss: 0.0570 - mae: 0.1878 - val_loss: 0.0690 - val_mae: 0.2031\n",
      "Epoch 482/1000\n",
      "5/5 [==============================] - 0s 29ms/step - loss: 0.0568 - mae: 0.1851 - val_loss: 0.0575 - val_mae: 0.1883\n",
      "Epoch 483/1000\n",
      "5/5 [==============================] - 0s 29ms/step - loss: 0.0510 - mae: 0.1758 - val_loss: 0.0556 - val_mae: 0.1823\n",
      "Epoch 484/1000\n",
      "5/5 [==============================] - 0s 28ms/step - loss: 0.0507 - mae: 0.1750 - val_loss: 0.0553 - val_mae: 0.1804\n",
      "Epoch 485/1000\n",
      "5/5 [==============================] - 0s 29ms/step - loss: 0.0491 - mae: 0.1710 - val_loss: 0.0542 - val_mae: 0.1792\n",
      "Epoch 486/1000\n",
      "5/5 [==============================] - 0s 28ms/step - loss: 0.0480 - mae: 0.1686 - val_loss: 0.0532 - val_mae: 0.1799\n",
      "Epoch 487/1000\n",
      "5/5 [==============================] - 0s 29ms/step - loss: 0.0473 - mae: 0.1687 - val_loss: 0.0519 - val_mae: 0.1757\n",
      "Epoch 488/1000\n",
      "5/5 [==============================] - 0s 28ms/step - loss: 0.0471 - mae: 0.1685 - val_loss: 0.0541 - val_mae: 0.1790\n",
      "Epoch 489/1000\n",
      "5/5 [==============================] - 0s 28ms/step - loss: 0.0465 - mae: 0.1662 - val_loss: 0.0515 - val_mae: 0.1758\n",
      "Epoch 490/1000\n",
      "5/5 [==============================] - 0s 29ms/step - loss: 0.0451 - mae: 0.1630 - val_loss: 0.0511 - val_mae: 0.1754\n",
      "Epoch 491/1000\n",
      "5/5 [==============================] - 0s 28ms/step - loss: 0.0440 - mae: 0.1639 - val_loss: 0.0543 - val_mae: 0.1798\n",
      "Epoch 492/1000\n",
      "5/5 [==============================] - 0s 29ms/step - loss: 0.0453 - mae: 0.1642 - val_loss: 0.0510 - val_mae: 0.1771\n",
      "Epoch 493/1000\n",
      "5/5 [==============================] - 0s 29ms/step - loss: 0.0434 - mae: 0.1604 - val_loss: 0.0483 - val_mae: 0.1717\n",
      "Epoch 494/1000\n",
      "5/5 [==============================] - 0s 29ms/step - loss: 0.0412 - mae: 0.1573 - val_loss: 0.0478 - val_mae: 0.1712\n",
      "Epoch 495/1000\n",
      "5/5 [==============================] - 0s 29ms/step - loss: 0.0401 - mae: 0.1551 - val_loss: 0.0483 - val_mae: 0.1742\n",
      "Epoch 496/1000\n",
      "5/5 [==============================] - 0s 28ms/step - loss: 0.0391 - mae: 0.1539 - val_loss: 0.0467 - val_mae: 0.1697\n",
      "Epoch 497/1000\n",
      "5/5 [==============================] - 0s 29ms/step - loss: 0.0387 - mae: 0.1527 - val_loss: 0.0446 - val_mae: 0.1677\n",
      "Epoch 498/1000\n",
      "5/5 [==============================] - 0s 28ms/step - loss: 0.0377 - mae: 0.1509 - val_loss: 0.0462 - val_mae: 0.1720\n",
      "Epoch 499/1000\n",
      "5/5 [==============================] - 0s 29ms/step - loss: 0.0379 - mae: 0.1518 - val_loss: 0.0445 - val_mae: 0.1668\n",
      "Epoch 500/1000\n",
      "5/5 [==============================] - 0s 28ms/step - loss: 0.0352 - mae: 0.1456 - val_loss: 0.0431 - val_mae: 0.1647\n",
      "Epoch 501/1000\n",
      "5/5 [==============================] - 0s 28ms/step - loss: 0.0348 - mae: 0.1441 - val_loss: 0.0410 - val_mae: 0.1616\n",
      "Epoch 502/1000\n",
      "5/5 [==============================] - 0s 29ms/step - loss: 0.0338 - mae: 0.1425 - val_loss: 0.0417 - val_mae: 0.1615\n",
      "Epoch 503/1000\n",
      "5/5 [==============================] - 0s 28ms/step - loss: 0.0335 - mae: 0.1413 - val_loss: 0.0401 - val_mae: 0.1594\n",
      "Epoch 504/1000\n",
      "5/5 [==============================] - 0s 28ms/step - loss: 0.0325 - mae: 0.1395 - val_loss: 0.0385 - val_mae: 0.1559\n",
      "Epoch 505/1000\n",
      "5/5 [==============================] - 0s 29ms/step - loss: 0.0311 - mae: 0.1360 - val_loss: 0.0377 - val_mae: 0.1528\n",
      "Epoch 506/1000\n",
      "5/5 [==============================] - 0s 29ms/step - loss: 0.0301 - mae: 0.1332 - val_loss: 0.0369 - val_mae: 0.1518\n",
      "Epoch 507/1000\n",
      "5/5 [==============================] - 0s 28ms/step - loss: 0.0296 - mae: 0.1319 - val_loss: 0.0361 - val_mae: 0.1498\n",
      "Epoch 508/1000\n",
      "5/5 [==============================] - 0s 29ms/step - loss: 0.0283 - mae: 0.1290 - val_loss: 0.0348 - val_mae: 0.1463\n",
      "Epoch 509/1000\n",
      "5/5 [==============================] - 0s 29ms/step - loss: 0.0278 - mae: 0.1281 - val_loss: 0.0344 - val_mae: 0.1451\n",
      "Epoch 510/1000\n",
      "5/5 [==============================] - 0s 29ms/step - loss: 0.0274 - mae: 0.1268 - val_loss: 0.0341 - val_mae: 0.1443\n",
      "Epoch 511/1000\n",
      "5/5 [==============================] - 0s 29ms/step - loss: 0.0267 - mae: 0.1253 - val_loss: 0.0333 - val_mae: 0.1433\n",
      "Epoch 512/1000\n",
      "5/5 [==============================] - 0s 29ms/step - loss: 0.0260 - mae: 0.1237 - val_loss: 0.0328 - val_mae: 0.1420\n",
      "Epoch 513/1000\n",
      "5/5 [==============================] - 0s 30ms/step - loss: 0.0261 - mae: 0.1243 - val_loss: 0.0313 - val_mae: 0.1383\n",
      "Epoch 514/1000\n",
      "5/5 [==============================] - 0s 29ms/step - loss: 0.0257 - mae: 0.1226 - val_loss: 0.0323 - val_mae: 0.1409\n",
      "Epoch 515/1000\n",
      "5/5 [==============================] - 0s 28ms/step - loss: 0.0252 - mae: 0.1227 - val_loss: 0.0304 - val_mae: 0.1363\n",
      "Epoch 516/1000\n",
      "5/5 [==============================] - 0s 28ms/step - loss: 0.0241 - mae: 0.1199 - val_loss: 0.0294 - val_mae: 0.1342\n",
      "Epoch 517/1000\n",
      "5/5 [==============================] - 0s 29ms/step - loss: 0.0242 - mae: 0.1204 - val_loss: 0.0304 - val_mae: 0.1374\n",
      "Epoch 518/1000\n",
      "5/5 [==============================] - 0s 28ms/step - loss: 0.0233 - mae: 0.1184 - val_loss: 0.0287 - val_mae: 0.1335\n",
      "Epoch 519/1000\n",
      "5/5 [==============================] - 0s 28ms/step - loss: 0.0228 - mae: 0.1175 - val_loss: 0.0277 - val_mae: 0.1306\n",
      "Epoch 520/1000\n",
      "5/5 [==============================] - 0s 29ms/step - loss: 0.0219 - mae: 0.1151 - val_loss: 0.0265 - val_mae: 0.1279\n",
      "Epoch 521/1000\n",
      "5/5 [==============================] - 0s 29ms/step - loss: 0.0210 - mae: 0.1125 - val_loss: 0.0262 - val_mae: 0.1274\n",
      "Epoch 522/1000\n",
      "5/5 [==============================] - 0s 28ms/step - loss: 0.0206 - mae: 0.1121 - val_loss: 0.0255 - val_mae: 0.1263\n",
      "Epoch 523/1000\n",
      "5/5 [==============================] - 0s 29ms/step - loss: 0.0203 - mae: 0.1112 - val_loss: 0.0248 - val_mae: 0.1243\n",
      "Epoch 524/1000\n",
      "5/5 [==============================] - 0s 29ms/step - loss: 0.0197 - mae: 0.1096 - val_loss: 0.0242 - val_mae: 0.1236\n",
      "Epoch 525/1000\n",
      "5/5 [==============================] - 0s 29ms/step - loss: 0.0192 - mae: 0.1087 - val_loss: 0.0236 - val_mae: 0.1212\n",
      "Epoch 526/1000\n",
      "5/5 [==============================] - 0s 29ms/step - loss: 0.0192 - mae: 0.1087 - val_loss: 0.0229 - val_mae: 0.1203\n",
      "Epoch 527/1000\n",
      "5/5 [==============================] - 0s 29ms/step - loss: 0.0183 - mae: 0.1069 - val_loss: 0.0223 - val_mae: 0.1189\n",
      "Epoch 528/1000\n",
      "5/5 [==============================] - 0s 28ms/step - loss: 0.0179 - mae: 0.1058 - val_loss: 0.0219 - val_mae: 0.1188\n",
      "Epoch 529/1000\n",
      "5/5 [==============================] - 0s 29ms/step - loss: 0.0175 - mae: 0.1049 - val_loss: 0.0211 - val_mae: 0.1161\n",
      "Epoch 530/1000\n",
      "5/5 [==============================] - 0s 29ms/step - loss: 0.0172 - mae: 0.1038 - val_loss: 0.0214 - val_mae: 0.1161\n",
      "Epoch 531/1000\n",
      "5/5 [==============================] - 0s 28ms/step - loss: 0.0172 - mae: 0.1038 - val_loss: 0.0206 - val_mae: 0.1144\n",
      "Epoch 532/1000\n",
      "5/5 [==============================] - 0s 28ms/step - loss: 0.0167 - mae: 0.1025 - val_loss: 0.0199 - val_mae: 0.1127\n"
     ]
    },
    {
     "name": "stdout",
     "output_type": "stream",
     "text": [
      "Epoch 533/1000\n",
      "5/5 [==============================] - 0s 29ms/step - loss: 0.0162 - mae: 0.1020 - val_loss: 0.0200 - val_mae: 0.1123\n",
      "Epoch 534/1000\n",
      "5/5 [==============================] - 0s 28ms/step - loss: 0.0165 - mae: 0.1020 - val_loss: 0.0190 - val_mae: 0.1094\n",
      "Epoch 535/1000\n",
      "5/5 [==============================] - 0s 28ms/step - loss: 0.0159 - mae: 0.0999 - val_loss: 0.0191 - val_mae: 0.1111\n",
      "Epoch 536/1000\n",
      "5/5 [==============================] - 0s 28ms/step - loss: 0.0155 - mae: 0.0999 - val_loss: 0.0184 - val_mae: 0.1090\n",
      "Epoch 537/1000\n",
      "5/5 [==============================] - 0s 29ms/step - loss: 0.0153 - mae: 0.0989 - val_loss: 0.0176 - val_mae: 0.1060\n",
      "Epoch 538/1000\n",
      "5/5 [==============================] - 0s 29ms/step - loss: 0.0151 - mae: 0.0984 - val_loss: 0.0182 - val_mae: 0.1084\n",
      "Epoch 539/1000\n",
      "5/5 [==============================] - 0s 28ms/step - loss: 0.0146 - mae: 0.0969 - val_loss: 0.0173 - val_mae: 0.1054\n",
      "Epoch 540/1000\n",
      "5/5 [==============================] - 0s 28ms/step - loss: 0.0142 - mae: 0.0952 - val_loss: 0.0172 - val_mae: 0.1056\n",
      "Epoch 541/1000\n",
      "5/5 [==============================] - 0s 28ms/step - loss: 0.0145 - mae: 0.0963 - val_loss: 0.0166 - val_mae: 0.1031\n",
      "Epoch 542/1000\n",
      "5/5 [==============================] - 0s 28ms/step - loss: 0.0137 - mae: 0.0937 - val_loss: 0.0165 - val_mae: 0.1021\n",
      "Epoch 543/1000\n",
      "5/5 [==============================] - 0s 28ms/step - loss: 0.0138 - mae: 0.0941 - val_loss: 0.0168 - val_mae: 0.1035\n",
      "Epoch 544/1000\n",
      "5/5 [==============================] - 0s 28ms/step - loss: 0.0140 - mae: 0.0951 - val_loss: 0.0160 - val_mae: 0.1015\n",
      "Epoch 545/1000\n",
      "5/5 [==============================] - 0s 28ms/step - loss: 0.0135 - mae: 0.0931 - val_loss: 0.0158 - val_mae: 0.1001\n",
      "Epoch 546/1000\n",
      "5/5 [==============================] - 0s 29ms/step - loss: 0.0129 - mae: 0.0910 - val_loss: 0.0149 - val_mae: 0.0974\n",
      "Epoch 547/1000\n",
      "5/5 [==============================] - 0s 28ms/step - loss: 0.0127 - mae: 0.0905 - val_loss: 0.0149 - val_mae: 0.0974\n",
      "Epoch 548/1000\n",
      "5/5 [==============================] - 0s 29ms/step - loss: 0.0124 - mae: 0.0894 - val_loss: 0.0147 - val_mae: 0.0968\n",
      "Epoch 549/1000\n",
      "5/5 [==============================] - 0s 28ms/step - loss: 0.0125 - mae: 0.0899 - val_loss: 0.0160 - val_mae: 0.1007\n",
      "Epoch 550/1000\n",
      "5/5 [==============================] - 0s 29ms/step - loss: 0.0134 - mae: 0.0925 - val_loss: 0.0138 - val_mae: 0.0937\n",
      "Epoch 551/1000\n",
      "5/5 [==============================] - 0s 28ms/step - loss: 0.0127 - mae: 0.0904 - val_loss: 0.0158 - val_mae: 0.0994\n",
      "Epoch 552/1000\n",
      "5/5 [==============================] - 0s 29ms/step - loss: 0.0130 - mae: 0.0916 - val_loss: 0.0139 - val_mae: 0.0931\n",
      "Epoch 553/1000\n",
      "5/5 [==============================] - 0s 28ms/step - loss: 0.0116 - mae: 0.0867 - val_loss: 0.0135 - val_mae: 0.0917\n",
      "Epoch 554/1000\n",
      "5/5 [==============================] - 0s 29ms/step - loss: 0.0117 - mae: 0.0869 - val_loss: 0.0134 - val_mae: 0.0918\n",
      "Epoch 555/1000\n",
      "5/5 [==============================] - 0s 29ms/step - loss: 0.0116 - mae: 0.0864 - val_loss: 0.0129 - val_mae: 0.0900\n",
      "Epoch 556/1000\n",
      "5/5 [==============================] - 0s 28ms/step - loss: 0.0111 - mae: 0.0845 - val_loss: 0.0126 - val_mae: 0.0893\n",
      "Epoch 557/1000\n",
      "5/5 [==============================] - 0s 29ms/step - loss: 0.0106 - mae: 0.0828 - val_loss: 0.0123 - val_mae: 0.0880\n",
      "Epoch 558/1000\n",
      "5/5 [==============================] - 0s 28ms/step - loss: 0.0104 - mae: 0.0821 - val_loss: 0.0122 - val_mae: 0.0880\n",
      "Epoch 559/1000\n",
      "5/5 [==============================] - 0s 29ms/step - loss: 0.0104 - mae: 0.0822 - val_loss: 0.0120 - val_mae: 0.0871\n",
      "Epoch 560/1000\n",
      "5/5 [==============================] - 0s 28ms/step - loss: 0.0099 - mae: 0.0799 - val_loss: 0.0122 - val_mae: 0.0873\n",
      "Epoch 561/1000\n",
      "5/5 [==============================] - 0s 29ms/step - loss: 0.0098 - mae: 0.0795 - val_loss: 0.0116 - val_mae: 0.0859\n",
      "Epoch 562/1000\n",
      "5/5 [==============================] - 0s 29ms/step - loss: 0.0097 - mae: 0.0793 - val_loss: 0.0112 - val_mae: 0.0841\n",
      "Epoch 563/1000\n",
      "5/5 [==============================] - 0s 28ms/step - loss: 0.0093 - mae: 0.0776 - val_loss: 0.0113 - val_mae: 0.0850\n",
      "Epoch 564/1000\n",
      "5/5 [==============================] - 0s 28ms/step - loss: 0.0093 - mae: 0.0774 - val_loss: 0.0112 - val_mae: 0.0846\n",
      "Epoch 565/1000\n",
      "5/5 [==============================] - 0s 29ms/step - loss: 0.0094 - mae: 0.0779 - val_loss: 0.0118 - val_mae: 0.0869\n",
      "Epoch 566/1000\n",
      "5/5 [==============================] - 0s 29ms/step - loss: 0.0098 - mae: 0.0796 - val_loss: 0.0105 - val_mae: 0.0814\n",
      "Epoch 567/1000\n",
      "5/5 [==============================] - 0s 27ms/step - loss: 0.0091 - mae: 0.0769 - val_loss: 0.0154 - val_mae: 0.0960\n",
      "Epoch 568/1000\n",
      "5/5 [==============================] - 0s 28ms/step - loss: 0.0110 - mae: 0.0833 - val_loss: 0.0120 - val_mae: 0.0863\n",
      "Epoch 569/1000\n",
      "5/5 [==============================] - 0s 28ms/step - loss: 0.0104 - mae: 0.0813 - val_loss: 0.0124 - val_mae: 0.0893\n",
      "Epoch 570/1000\n",
      "5/5 [==============================] - 0s 27ms/step - loss: 0.0104 - mae: 0.0816 - val_loss: 0.0112 - val_mae: 0.0842\n",
      "Epoch 571/1000\n",
      "5/5 [==============================] - 0s 28ms/step - loss: 0.0097 - mae: 0.0790 - val_loss: 0.0115 - val_mae: 0.0841\n",
      "Epoch 572/1000\n",
      "5/5 [==============================] - 0s 28ms/step - loss: 0.0091 - mae: 0.0761 - val_loss: 0.0105 - val_mae: 0.0824\n",
      "Epoch 573/1000\n",
      "5/5 [==============================] - 0s 28ms/step - loss: 0.0086 - mae: 0.0744 - val_loss: 0.0102 - val_mae: 0.0800\n",
      "Epoch 574/1000\n",
      "5/5 [==============================] - 0s 28ms/step - loss: 0.0083 - mae: 0.0730 - val_loss: 0.0108 - val_mae: 0.0829\n",
      "Epoch 575/1000\n",
      "5/5 [==============================] - 0s 28ms/step - loss: 0.0085 - mae: 0.0737 - val_loss: 0.0097 - val_mae: 0.0786\n",
      "Epoch 576/1000\n",
      "5/5 [==============================] - 0s 28ms/step - loss: 0.0081 - mae: 0.0722 - val_loss: 0.0098 - val_mae: 0.0789\n",
      "Epoch 577/1000\n",
      "5/5 [==============================] - 0s 28ms/step - loss: 0.0079 - mae: 0.0710 - val_loss: 0.0093 - val_mae: 0.0773\n",
      "Epoch 578/1000\n",
      "5/5 [==============================] - 0s 29ms/step - loss: 0.0076 - mae: 0.0702 - val_loss: 0.0094 - val_mae: 0.0778\n",
      "Epoch 579/1000\n",
      "5/5 [==============================] - 0s 28ms/step - loss: 0.0076 - mae: 0.0702 - val_loss: 0.0095 - val_mae: 0.0780\n",
      "Epoch 580/1000\n",
      "5/5 [==============================] - 0s 28ms/step - loss: 0.0074 - mae: 0.0689 - val_loss: 0.0091 - val_mae: 0.0756\n",
      "Epoch 581/1000\n",
      "5/5 [==============================] - 0s 28ms/step - loss: 0.0074 - mae: 0.0692 - val_loss: 0.0091 - val_mae: 0.0761\n",
      "Epoch 582/1000\n",
      "5/5 [==============================] - 0s 29ms/step - loss: 0.0073 - mae: 0.0683 - val_loss: 0.0088 - val_mae: 0.0747\n",
      "Epoch 583/1000\n",
      "5/5 [==============================] - 0s 28ms/step - loss: 0.0073 - mae: 0.0686 - val_loss: 0.0091 - val_mae: 0.0756\n",
      "Epoch 584/1000\n",
      "5/5 [==============================] - 0s 28ms/step - loss: 0.0073 - mae: 0.0684 - val_loss: 0.0092 - val_mae: 0.0756\n",
      "Epoch 585/1000\n",
      "5/5 [==============================] - 0s 29ms/step - loss: 0.0074 - mae: 0.0688 - val_loss: 0.0090 - val_mae: 0.0753\n",
      "Epoch 586/1000\n",
      "5/5 [==============================] - 0s 28ms/step - loss: 0.0071 - mae: 0.0673 - val_loss: 0.0087 - val_mae: 0.0742\n",
      "Epoch 587/1000\n",
      "5/5 [==============================] - 0s 29ms/step - loss: 0.0071 - mae: 0.0679 - val_loss: 0.0093 - val_mae: 0.0772\n",
      "Epoch 588/1000\n",
      "5/5 [==============================] - 0s 28ms/step - loss: 0.0069 - mae: 0.0664 - val_loss: 0.0089 - val_mae: 0.0746\n",
      "Epoch 589/1000\n",
      "5/5 [==============================] - 0s 29ms/step - loss: 0.0068 - mae: 0.0664 - val_loss: 0.0104 - val_mae: 0.0803\n",
      "Epoch 590/1000\n",
      "5/5 [==============================] - 0s 29ms/step - loss: 0.0074 - mae: 0.0681 - val_loss: 0.0093 - val_mae: 0.0773\n",
      "Epoch 591/1000\n",
      "5/5 [==============================] - 0s 29ms/step - loss: 0.0073 - mae: 0.0688 - val_loss: 0.0093 - val_mae: 0.0770\n",
      "Epoch 592/1000\n",
      "5/5 [==============================] - 0s 29ms/step - loss: 0.0069 - mae: 0.0666 - val_loss: 0.0087 - val_mae: 0.0737\n",
      "Epoch 593/1000\n",
      "5/5 [==============================] - 0s 29ms/step - loss: 0.0069 - mae: 0.0664 - val_loss: 0.0087 - val_mae: 0.0739\n",
      "Epoch 594/1000\n"
     ]
    },
    {
     "name": "stdout",
     "output_type": "stream",
     "text": [
      "5/5 [==============================] - 0s 29ms/step - loss: 0.0070 - mae: 0.0669 - val_loss: 0.0084 - val_mae: 0.0733\n",
      "Epoch 595/1000\n",
      "5/5 [==============================] - 0s 29ms/step - loss: 0.0067 - mae: 0.0655 - val_loss: 0.0092 - val_mae: 0.0760\n",
      "Epoch 596/1000\n",
      "5/5 [==============================] - 0s 29ms/step - loss: 0.0065 - mae: 0.0648 - val_loss: 0.0083 - val_mae: 0.0720\n",
      "Epoch 597/1000\n",
      "5/5 [==============================] - 0s 29ms/step - loss: 0.0064 - mae: 0.0641 - val_loss: 0.0086 - val_mae: 0.0733\n",
      "Epoch 598/1000\n",
      "5/5 [==============================] - 0s 29ms/step - loss: 0.0065 - mae: 0.0641 - val_loss: 0.0083 - val_mae: 0.0724\n",
      "Epoch 599/1000\n",
      "5/5 [==============================] - 0s 28ms/step - loss: 0.0066 - mae: 0.0652 - val_loss: 0.0083 - val_mae: 0.0720\n",
      "Epoch 600/1000\n",
      "5/5 [==============================] - 0s 28ms/step - loss: 0.0064 - mae: 0.0640 - val_loss: 0.0088 - val_mae: 0.0741\n",
      "Epoch 601/1000\n",
      "5/5 [==============================] - 0s 29ms/step - loss: 0.0064 - mae: 0.0638 - val_loss: 0.0086 - val_mae: 0.0738\n",
      "Epoch 602/1000\n",
      "5/5 [==============================] - 0s 29ms/step - loss: 0.0063 - mae: 0.0635 - val_loss: 0.0083 - val_mae: 0.0724\n",
      "Epoch 603/1000\n",
      "5/5 [==============================] - 0s 29ms/step - loss: 0.0061 - mae: 0.0625 - val_loss: 0.0085 - val_mae: 0.0727\n",
      "Epoch 604/1000\n",
      "5/5 [==============================] - 0s 29ms/step - loss: 0.0063 - mae: 0.0633 - val_loss: 0.0081 - val_mae: 0.0717\n",
      "Epoch 605/1000\n",
      "5/5 [==============================] - 0s 28ms/step - loss: 0.0061 - mae: 0.0627 - val_loss: 0.0081 - val_mae: 0.0712\n",
      "Epoch 606/1000\n",
      "5/5 [==============================] - 0s 28ms/step - loss: 0.0060 - mae: 0.0620 - val_loss: 0.0081 - val_mae: 0.0716\n",
      "Epoch 607/1000\n",
      "5/5 [==============================] - 0s 29ms/step - loss: 0.0061 - mae: 0.0624 - val_loss: 0.0082 - val_mae: 0.0722\n",
      "Epoch 608/1000\n",
      "5/5 [==============================] - 0s 29ms/step - loss: 0.0062 - mae: 0.0631 - val_loss: 0.0079 - val_mae: 0.0705\n",
      "Epoch 609/1000\n",
      "5/5 [==============================] - 0s 29ms/step - loss: 0.0059 - mae: 0.0612 - val_loss: 0.0079 - val_mae: 0.0705\n",
      "Epoch 610/1000\n",
      "5/5 [==============================] - 0s 28ms/step - loss: 0.0059 - mae: 0.0614 - val_loss: 0.0081 - val_mae: 0.0714\n",
      "Epoch 611/1000\n",
      "5/5 [==============================] - 0s 29ms/step - loss: 0.0057 - mae: 0.0603 - val_loss: 0.0077 - val_mae: 0.0697\n",
      "Epoch 612/1000\n",
      "5/5 [==============================] - 0s 28ms/step - loss: 0.0057 - mae: 0.0603 - val_loss: 0.0079 - val_mae: 0.0709\n",
      "Epoch 613/1000\n",
      "5/5 [==============================] - 0s 29ms/step - loss: 0.0057 - mae: 0.0599 - val_loss: 0.0076 - val_mae: 0.0697\n",
      "Epoch 614/1000\n",
      "5/5 [==============================] - 0s 27ms/step - loss: 0.0057 - mae: 0.0604 - val_loss: 0.0078 - val_mae: 0.0701\n",
      "Epoch 615/1000\n",
      "5/5 [==============================] - 0s 27ms/step - loss: 0.0056 - mae: 0.0601 - val_loss: 0.0080 - val_mae: 0.0709\n",
      "Epoch 616/1000\n",
      "5/5 [==============================] - 0s 27ms/step - loss: 0.0057 - mae: 0.0606 - val_loss: 0.0080 - val_mae: 0.0713\n",
      "Epoch 617/1000\n",
      "5/5 [==============================] - 0s 28ms/step - loss: 0.0058 - mae: 0.0602 - val_loss: 0.0079 - val_mae: 0.0710\n",
      "Epoch 618/1000\n",
      "5/5 [==============================] - 0s 27ms/step - loss: 0.0056 - mae: 0.0598 - val_loss: 0.0082 - val_mae: 0.0724\n",
      "Epoch 619/1000\n",
      "5/5 [==============================] - 0s 28ms/step - loss: 0.0056 - mae: 0.0596 - val_loss: 0.0077 - val_mae: 0.0704\n",
      "Epoch 620/1000\n",
      "5/5 [==============================] - 0s 28ms/step - loss: 0.0057 - mae: 0.0603 - val_loss: 0.0080 - val_mae: 0.0711\n",
      "Epoch 621/1000\n",
      "5/5 [==============================] - 0s 28ms/step - loss: 0.0055 - mae: 0.0594 - val_loss: 0.0078 - val_mae: 0.0707\n",
      "Epoch 622/1000\n",
      "1/5 [=====>........................] - ETA: 0s - loss: 0.0058 - mae: 0.0617"
     ]
    },
    {
     "name": "stderr",
     "output_type": "stream",
     "text": [
      "WARNING:absl:Found untraced functions such as lstm_cell_layer_call_fn, lstm_cell_layer_call_and_return_conditional_losses while saving (showing 2 of 2). These functions will not be directly callable after loading.\n"
     ]
    },
    {
     "name": "stdout",
     "output_type": "stream",
     "text": [
      "INFO:tensorflow:Assets written to: C:\\Users\\PARK\\Documents\\LAB\\RNN vs LSTM\\FInal Example\\wandb\\run-20221016_102433-155iu2s1\\files\\model-best\\assets\n"
     ]
    },
    {
     "name": "stderr",
     "output_type": "stream",
     "text": [
      "INFO:tensorflow:Assets written to: C:\\Users\\PARK\\Documents\\LAB\\RNN vs LSTM\\FInal Example\\wandb\\run-20221016_102433-155iu2s1\\files\\model-best\\assets\n",
      "\u001b[34m\u001b[1mwandb\u001b[0m: Adding directory to artifact (C:\\Users\\PARK\\Documents\\LAB\\RNN vs LSTM\\FInal Example\\wandb\\run-20221016_102433-155iu2s1\\files\\model-best)... Done. 0.0s\n"
     ]
    },
    {
     "name": "stdout",
     "output_type": "stream",
     "text": [
      "5/5 [==============================] - 4s 929ms/step - loss: 0.0055 - mae: 0.0595 - val_loss: 0.0074 - val_mae: 0.0684\n",
      "Epoch 623/1000\n",
      "5/5 [==============================] - 0s 81ms/step - loss: 0.0056 - mae: 0.0598 - val_loss: 0.0075 - val_mae: 0.0684\n",
      "Epoch 624/1000\n",
      "5/5 [==============================] - 0s 44ms/step - loss: 0.0056 - mae: 0.0602 - val_loss: 0.0078 - val_mae: 0.0704\n",
      "Epoch 625/1000\n",
      "5/5 [==============================] - 0s 26ms/step - loss: 0.0058 - mae: 0.0613 - val_loss: 0.0075 - val_mae: 0.0691\n",
      "Epoch 626/1000\n",
      "5/5 [==============================] - 0s 26ms/step - loss: 0.0055 - mae: 0.0593 - val_loss: 0.0081 - val_mae: 0.0715\n",
      "Epoch 627/1000\n",
      "5/5 [==============================] - 0s 26ms/step - loss: 0.0056 - mae: 0.0600 - val_loss: 0.0077 - val_mae: 0.0702\n",
      "Epoch 628/1000\n",
      "1/5 [=====>........................] - ETA: 0s - loss: 0.0055 - mae: 0.0592"
     ]
    },
    {
     "name": "stderr",
     "output_type": "stream",
     "text": [
      "WARNING:absl:Found untraced functions such as lstm_cell_layer_call_fn, lstm_cell_layer_call_and_return_conditional_losses while saving (showing 2 of 2). These functions will not be directly callable after loading.\n"
     ]
    },
    {
     "name": "stdout",
     "output_type": "stream",
     "text": [
      "INFO:tensorflow:Assets written to: C:\\Users\\PARK\\Documents\\LAB\\RNN vs LSTM\\FInal Example\\wandb\\run-20221016_102433-155iu2s1\\files\\model-best\\assets\n"
     ]
    },
    {
     "name": "stderr",
     "output_type": "stream",
     "text": [
      "INFO:tensorflow:Assets written to: C:\\Users\\PARK\\Documents\\LAB\\RNN vs LSTM\\FInal Example\\wandb\\run-20221016_102433-155iu2s1\\files\\model-best\\assets\n",
      "\u001b[34m\u001b[1mwandb\u001b[0m: Adding directory to artifact (C:\\Users\\PARK\\Documents\\LAB\\RNN vs LSTM\\FInal Example\\wandb\\run-20221016_102433-155iu2s1\\files\\model-best)... Done. 0.0s\n"
     ]
    },
    {
     "name": "stdout",
     "output_type": "stream",
     "text": [
      "5/5 [==============================] - 4s 908ms/step - loss: 0.0055 - mae: 0.0589 - val_loss: 0.0073 - val_mae: 0.0686\n",
      "Epoch 629/1000\n",
      "5/5 [==============================] - 0s 69ms/step - loss: 0.0053 - mae: 0.0586 - val_loss: 0.0076 - val_mae: 0.0694\n",
      "Epoch 630/1000\n",
      "4/5 [=======================>......] - ETA: 0s - loss: 0.0053 - mae: 0.0581"
     ]
    },
    {
     "name": "stderr",
     "output_type": "stream",
     "text": [
      "WARNING:absl:Found untraced functions such as lstm_cell_layer_call_fn, lstm_cell_layer_call_and_return_conditional_losses while saving (showing 2 of 2). These functions will not be directly callable after loading.\n"
     ]
    },
    {
     "name": "stdout",
     "output_type": "stream",
     "text": [
      "INFO:tensorflow:Assets written to: C:\\Users\\PARK\\Documents\\LAB\\RNN vs LSTM\\FInal Example\\wandb\\run-20221016_102433-155iu2s1\\files\\model-best\\assets\n"
     ]
    },
    {
     "name": "stderr",
     "output_type": "stream",
     "text": [
      "INFO:tensorflow:Assets written to: C:\\Users\\PARK\\Documents\\LAB\\RNN vs LSTM\\FInal Example\\wandb\\run-20221016_102433-155iu2s1\\files\\model-best\\assets\n",
      "\u001b[34m\u001b[1mwandb\u001b[0m: Adding directory to artifact (C:\\Users\\PARK\\Documents\\LAB\\RNN vs LSTM\\FInal Example\\wandb\\run-20221016_102433-155iu2s1\\files\\model-best)... Done. 0.0s\n"
     ]
    },
    {
     "name": "stdout",
     "output_type": "stream",
     "text": [
      "5/5 [==============================] - 4s 921ms/step - loss: 0.0053 - mae: 0.0581 - val_loss: 0.0073 - val_mae: 0.0673\n",
      "Epoch 631/1000\n",
      "5/5 [==============================] - 0s 75ms/step - loss: 0.0052 - mae: 0.0575 - val_loss: 0.0073 - val_mae: 0.0681\n",
      "Epoch 632/1000\n",
      "4/5 [=======================>......] - ETA: 0s - loss: 0.0051 - mae: 0.0573"
     ]
    },
    {
     "name": "stderr",
     "output_type": "stream",
     "text": [
      "WARNING:absl:Found untraced functions such as lstm_cell_layer_call_fn, lstm_cell_layer_call_and_return_conditional_losses while saving (showing 2 of 2). These functions will not be directly callable after loading.\n"
     ]
    },
    {
     "name": "stdout",
     "output_type": "stream",
     "text": [
      "INFO:tensorflow:Assets written to: C:\\Users\\PARK\\Documents\\LAB\\RNN vs LSTM\\FInal Example\\wandb\\run-20221016_102433-155iu2s1\\files\\model-best\\assets\n"
     ]
    },
    {
     "name": "stderr",
     "output_type": "stream",
     "text": [
      "INFO:tensorflow:Assets written to: C:\\Users\\PARK\\Documents\\LAB\\RNN vs LSTM\\FInal Example\\wandb\\run-20221016_102433-155iu2s1\\files\\model-best\\assets\n",
      "\u001b[34m\u001b[1mwandb\u001b[0m: Adding directory to artifact (C:\\Users\\PARK\\Documents\\LAB\\RNN vs LSTM\\FInal Example\\wandb\\run-20221016_102433-155iu2s1\\files\\model-best)... Done. 0.0s\n"
     ]
    },
    {
     "name": "stdout",
     "output_type": "stream",
     "text": [
      "5/5 [==============================] - 4s 920ms/step - loss: 0.0051 - mae: 0.0574 - val_loss: 0.0072 - val_mae: 0.0675\n",
      "Epoch 633/1000\n",
      "5/5 [==============================] - ETA: 0s - loss: 0.0051 - mae: 0.0570"
     ]
    },
    {
     "name": "stderr",
     "output_type": "stream",
     "text": [
      "WARNING:absl:Found untraced functions such as lstm_cell_layer_call_fn, lstm_cell_layer_call_and_return_conditional_losses while saving (showing 2 of 2). These functions will not be directly callable after loading.\n"
     ]
    },
    {
     "name": "stdout",
     "output_type": "stream",
     "text": [
      "INFO:tensorflow:Assets written to: C:\\Users\\PARK\\Documents\\LAB\\RNN vs LSTM\\FInal Example\\wandb\\run-20221016_102433-155iu2s1\\files\\model-best\\assets\n"
     ]
    },
    {
     "name": "stderr",
     "output_type": "stream",
     "text": [
      "INFO:tensorflow:Assets written to: C:\\Users\\PARK\\Documents\\LAB\\RNN vs LSTM\\FInal Example\\wandb\\run-20221016_102433-155iu2s1\\files\\model-best\\assets\n",
      "\u001b[34m\u001b[1mwandb\u001b[0m: Adding directory to artifact (C:\\Users\\PARK\\Documents\\LAB\\RNN vs LSTM\\FInal Example\\wandb\\run-20221016_102433-155iu2s1\\files\\model-best)... Done. 0.0s\n"
     ]
    },
    {
     "name": "stdout",
     "output_type": "stream",
     "text": [
      "5/5 [==============================] - 4s 892ms/step - loss: 0.0051 - mae: 0.0570 - val_loss: 0.0072 - val_mae: 0.0677\n",
      "Epoch 634/1000\n",
      "5/5 [==============================] - 0s 59ms/step - loss: 0.0052 - mae: 0.0574 - val_loss: 0.0072 - val_mae: 0.0678\n",
      "Epoch 635/1000\n",
      "5/5 [==============================] - 0s 26ms/step - loss: 0.0051 - mae: 0.0571 - val_loss: 0.0073 - val_mae: 0.0676\n",
      "Epoch 636/1000\n",
      "1/5 [=====>........................] - ETA: 0s - loss: 0.0048 - mae: 0.0556"
     ]
    },
    {
     "name": "stderr",
     "output_type": "stream",
     "text": [
      "WARNING:absl:Found untraced functions such as lstm_cell_layer_call_fn, lstm_cell_layer_call_and_return_conditional_losses while saving (showing 2 of 2). These functions will not be directly callable after loading.\n"
     ]
    },
    {
     "name": "stdout",
     "output_type": "stream",
     "text": [
      "INFO:tensorflow:Assets written to: C:\\Users\\PARK\\Documents\\LAB\\RNN vs LSTM\\FInal Example\\wandb\\run-20221016_102433-155iu2s1\\files\\model-best\\assets\n"
     ]
    },
    {
     "name": "stderr",
     "output_type": "stream",
     "text": [
      "INFO:tensorflow:Assets written to: C:\\Users\\PARK\\Documents\\LAB\\RNN vs LSTM\\FInal Example\\wandb\\run-20221016_102433-155iu2s1\\files\\model-best\\assets\n",
      "\u001b[34m\u001b[1mwandb\u001b[0m: Adding directory to artifact (C:\\Users\\PARK\\Documents\\LAB\\RNN vs LSTM\\FInal Example\\wandb\\run-20221016_102433-155iu2s1\\files\\model-best)... Done. 0.0s\n"
     ]
    },
    {
     "name": "stdout",
     "output_type": "stream",
     "text": [
      "5/5 [==============================] - 4s 922ms/step - loss: 0.0051 - mae: 0.0568 - val_loss: 0.0071 - val_mae: 0.0672\n",
      "Epoch 637/1000\n",
      "5/5 [==============================] - 0s 73ms/step - loss: 0.0050 - mae: 0.0565 - val_loss: 0.0072 - val_mae: 0.0676\n",
      "Epoch 638/1000\n",
      "5/5 [==============================] - 0s 52ms/step - loss: 0.0050 - mae: 0.0562 - val_loss: 0.0073 - val_mae: 0.0683\n",
      "Epoch 639/1000\n",
      "5/5 [==============================] - 0s 45ms/step - loss: 0.0051 - mae: 0.0568 - val_loss: 0.0072 - val_mae: 0.0681\n",
      "Epoch 640/1000\n",
      "5/5 [==============================] - 0s 38ms/step - loss: 0.0050 - mae: 0.0562 - val_loss: 0.0074 - val_mae: 0.0682\n",
      "Epoch 641/1000\n",
      "5/5 [==============================] - 0s 32ms/step - loss: 0.0051 - mae: 0.0575 - val_loss: 0.0073 - val_mae: 0.0684\n",
      "Epoch 642/1000\n",
      "5/5 [==============================] - 0s 30ms/step - loss: 0.0051 - mae: 0.0570 - val_loss: 0.0073 - val_mae: 0.0684\n",
      "Epoch 643/1000\n",
      "5/5 [==============================] - 0s 30ms/step - loss: 0.0050 - mae: 0.0566 - val_loss: 0.0072 - val_mae: 0.0679\n",
      "Epoch 644/1000\n",
      "1/5 [=====>........................] - ETA: 0s - loss: 0.0047 - mae: 0.0554"
     ]
    },
    {
     "name": "stderr",
     "output_type": "stream",
     "text": [
      "WARNING:absl:Found untraced functions such as lstm_cell_layer_call_fn, lstm_cell_layer_call_and_return_conditional_losses while saving (showing 2 of 2). These functions will not be directly callable after loading.\n"
     ]
    },
    {
     "name": "stdout",
     "output_type": "stream",
     "text": [
      "INFO:tensorflow:Assets written to: C:\\Users\\PARK\\Documents\\LAB\\RNN vs LSTM\\FInal Example\\wandb\\run-20221016_102433-155iu2s1\\files\\model-best\\assets\n"
     ]
    },
    {
     "name": "stderr",
     "output_type": "stream",
     "text": [
      "INFO:tensorflow:Assets written to: C:\\Users\\PARK\\Documents\\LAB\\RNN vs LSTM\\FInal Example\\wandb\\run-20221016_102433-155iu2s1\\files\\model-best\\assets\n",
      "\u001b[34m\u001b[1mwandb\u001b[0m: Adding directory to artifact (C:\\Users\\PARK\\Documents\\LAB\\RNN vs LSTM\\FInal Example\\wandb\\run-20221016_102433-155iu2s1\\files\\model-best)... Done. 0.0s\n"
     ]
    },
    {
     "name": "stdout",
     "output_type": "stream",
     "text": [
      "5/5 [==============================] - 4s 897ms/step - loss: 0.0049 - mae: 0.0560 - val_loss: 0.0071 - val_mae: 0.0670\n",
      "Epoch 645/1000\n",
      "5/5 [==============================] - ETA: 0s - loss: 0.0048 - mae: 0.0555"
     ]
    },
    {
     "name": "stderr",
     "output_type": "stream",
     "text": [
      "WARNING:absl:Found untraced functions such as lstm_cell_layer_call_fn, lstm_cell_layer_call_and_return_conditional_losses while saving (showing 2 of 2). These functions will not be directly callable after loading.\n"
     ]
    },
    {
     "name": "stdout",
     "output_type": "stream",
     "text": [
      "INFO:tensorflow:Assets written to: C:\\Users\\PARK\\Documents\\LAB\\RNN vs LSTM\\FInal Example\\wandb\\run-20221016_102433-155iu2s1\\files\\model-best\\assets\n"
     ]
    },
    {
     "name": "stderr",
     "output_type": "stream",
     "text": [
      "INFO:tensorflow:Assets written to: C:\\Users\\PARK\\Documents\\LAB\\RNN vs LSTM\\FInal Example\\wandb\\run-20221016_102433-155iu2s1\\files\\model-best\\assets\n",
      "\u001b[34m\u001b[1mwandb\u001b[0m: Adding directory to artifact (C:\\Users\\PARK\\Documents\\LAB\\RNN vs LSTM\\FInal Example\\wandb\\run-20221016_102433-155iu2s1\\files\\model-best)... Done. 0.0s\n"
     ]
    },
    {
     "name": "stdout",
     "output_type": "stream",
     "text": [
      "5/5 [==============================] - 4s 929ms/step - loss: 0.0048 - mae: 0.0555 - val_loss: 0.0070 - val_mae: 0.0670\n",
      "Epoch 646/1000\n",
      "5/5 [==============================] - ETA: 0s - loss: 0.0049 - mae: 0.0557"
     ]
    },
    {
     "name": "stderr",
     "output_type": "stream",
     "text": [
      "WARNING:absl:Found untraced functions such as lstm_cell_layer_call_fn, lstm_cell_layer_call_and_return_conditional_losses while saving (showing 2 of 2). These functions will not be directly callable after loading.\n"
     ]
    },
    {
     "name": "stdout",
     "output_type": "stream",
     "text": [
      "INFO:tensorflow:Assets written to: C:\\Users\\PARK\\Documents\\LAB\\RNN vs LSTM\\FInal Example\\wandb\\run-20221016_102433-155iu2s1\\files\\model-best\\assets\n"
     ]
    },
    {
     "name": "stderr",
     "output_type": "stream",
     "text": [
      "INFO:tensorflow:Assets written to: C:\\Users\\PARK\\Documents\\LAB\\RNN vs LSTM\\FInal Example\\wandb\\run-20221016_102433-155iu2s1\\files\\model-best\\assets\n",
      "\u001b[34m\u001b[1mwandb\u001b[0m: Adding directory to artifact (C:\\Users\\PARK\\Documents\\LAB\\RNN vs LSTM\\FInal Example\\wandb\\run-20221016_102433-155iu2s1\\files\\model-best)... Done. 0.0s\n"
     ]
    },
    {
     "name": "stdout",
     "output_type": "stream",
     "text": [
      "5/5 [==============================] - 4s 940ms/step - loss: 0.0049 - mae: 0.0557 - val_loss: 0.0069 - val_mae: 0.0663\n",
      "Epoch 647/1000\n",
      "5/5 [==============================] - 0s 58ms/step - loss: 0.0048 - mae: 0.0552 - val_loss: 0.0069 - val_mae: 0.0665\n",
      "Epoch 648/1000\n",
      "5/5 [==============================] - 0s 28ms/step - loss: 0.0048 - mae: 0.0556 - val_loss: 0.0071 - val_mae: 0.0680\n",
      "Epoch 649/1000\n",
      "5/5 [==============================] - 0s 28ms/step - loss: 0.0049 - mae: 0.0560 - val_loss: 0.0072 - val_mae: 0.0677\n",
      "Epoch 650/1000\n",
      "5/5 [==============================] - 0s 28ms/step - loss: 0.0050 - mae: 0.0564 - val_loss: 0.0070 - val_mae: 0.0669\n",
      "Epoch 651/1000\n",
      "1/5 [=====>........................] - ETA: 0s - loss: 0.0041 - mae: 0.0518"
     ]
    },
    {
     "name": "stderr",
     "output_type": "stream",
     "text": [
      "WARNING:absl:Found untraced functions such as lstm_cell_layer_call_fn, lstm_cell_layer_call_and_return_conditional_losses while saving (showing 2 of 2). These functions will not be directly callable after loading.\n"
     ]
    },
    {
     "name": "stdout",
     "output_type": "stream",
     "text": [
      "INFO:tensorflow:Assets written to: C:\\Users\\PARK\\Documents\\LAB\\RNN vs LSTM\\FInal Example\\wandb\\run-20221016_102433-155iu2s1\\files\\model-best\\assets\n"
     ]
    },
    {
     "name": "stderr",
     "output_type": "stream",
     "text": [
      "INFO:tensorflow:Assets written to: C:\\Users\\PARK\\Documents\\LAB\\RNN vs LSTM\\FInal Example\\wandb\\run-20221016_102433-155iu2s1\\files\\model-best\\assets\n",
      "\u001b[34m\u001b[1mwandb\u001b[0m: Adding directory to artifact (C:\\Users\\PARK\\Documents\\LAB\\RNN vs LSTM\\FInal Example\\wandb\\run-20221016_102433-155iu2s1\\files\\model-best)... Done. 0.0s\n"
     ]
    },
    {
     "name": "stdout",
     "output_type": "stream",
     "text": [
      "5/5 [==============================] - 3s 867ms/step - loss: 0.0047 - mae: 0.0550 - val_loss: 0.0068 - val_mae: 0.0660\n",
      "Epoch 652/1000\n",
      "5/5 [==============================] - 0s 71ms/step - loss: 0.0047 - mae: 0.0549 - val_loss: 0.0069 - val_mae: 0.0666\n",
      "Epoch 653/1000\n",
      "5/5 [==============================] - 0s 50ms/step - loss: 0.0047 - mae: 0.0550 - val_loss: 0.0070 - val_mae: 0.0667\n",
      "Epoch 654/1000\n",
      "5/5 [==============================] - ETA: 0s - loss: 0.0048 - mae: 0.0555"
     ]
    },
    {
     "name": "stderr",
     "output_type": "stream",
     "text": [
      "WARNING:absl:Found untraced functions such as lstm_cell_layer_call_fn, lstm_cell_layer_call_and_return_conditional_losses while saving (showing 2 of 2). These functions will not be directly callable after loading.\n"
     ]
    },
    {
     "name": "stdout",
     "output_type": "stream",
     "text": [
      "INFO:tensorflow:Assets written to: C:\\Users\\PARK\\Documents\\LAB\\RNN vs LSTM\\FInal Example\\wandb\\run-20221016_102433-155iu2s1\\files\\model-best\\assets\n"
     ]
    },
    {
     "name": "stderr",
     "output_type": "stream",
     "text": [
      "INFO:tensorflow:Assets written to: C:\\Users\\PARK\\Documents\\LAB\\RNN vs LSTM\\FInal Example\\wandb\\run-20221016_102433-155iu2s1\\files\\model-best\\assets\n",
      "\u001b[34m\u001b[1mwandb\u001b[0m: Adding directory to artifact (C:\\Users\\PARK\\Documents\\LAB\\RNN vs LSTM\\FInal Example\\wandb\\run-20221016_102433-155iu2s1\\files\\model-best)... Done. 0.0s\n"
     ]
    },
    {
     "name": "stdout",
     "output_type": "stream",
     "text": [
      "5/5 [==============================] - 4s 932ms/step - loss: 0.0048 - mae: 0.0555 - val_loss: 0.0067 - val_mae: 0.0660\n",
      "Epoch 655/1000\n",
      "5/5 [==============================] - 0s 75ms/step - loss: 0.0047 - mae: 0.0550 - val_loss: 0.0069 - val_mae: 0.0662\n",
      "Epoch 656/1000\n",
      "5/5 [==============================] - 0s 52ms/step - loss: 0.0047 - mae: 0.0552 - val_loss: 0.0072 - val_mae: 0.0676\n",
      "Epoch 657/1000\n",
      "5/5 [==============================] - 0s 41ms/step - loss: 0.0047 - mae: 0.0546 - val_loss: 0.0068 - val_mae: 0.0666\n",
      "Epoch 658/1000\n",
      "5/5 [==============================] - 0s 35ms/step - loss: 0.0046 - mae: 0.0543 - val_loss: 0.0068 - val_mae: 0.0661\n",
      "Epoch 659/1000\n",
      "5/5 [==============================] - 0s 32ms/step - loss: 0.0046 - mae: 0.0548 - val_loss: 0.0069 - val_mae: 0.0662\n",
      "Epoch 660/1000\n",
      "5/5 [==============================] - 0s 31ms/step - loss: 0.0046 - mae: 0.0540 - val_loss: 0.0067 - val_mae: 0.0661\n",
      "Epoch 661/1000\n",
      "1/5 [=====>........................] - ETA: 0s - loss: 0.0049 - mae: 0.0562"
     ]
    },
    {
     "name": "stderr",
     "output_type": "stream",
     "text": [
      "WARNING:absl:Found untraced functions such as lstm_cell_layer_call_fn, lstm_cell_layer_call_and_return_conditional_losses while saving (showing 2 of 2). These functions will not be directly callable after loading.\n"
     ]
    },
    {
     "name": "stdout",
     "output_type": "stream",
     "text": [
      "INFO:tensorflow:Assets written to: C:\\Users\\PARK\\Documents\\LAB\\RNN vs LSTM\\FInal Example\\wandb\\run-20221016_102433-155iu2s1\\files\\model-best\\assets\n"
     ]
    },
    {
     "name": "stderr",
     "output_type": "stream",
     "text": [
      "INFO:tensorflow:Assets written to: C:\\Users\\PARK\\Documents\\LAB\\RNN vs LSTM\\FInal Example\\wandb\\run-20221016_102433-155iu2s1\\files\\model-best\\assets\n",
      "\u001b[34m\u001b[1mwandb\u001b[0m: Adding directory to artifact (C:\\Users\\PARK\\Documents\\LAB\\RNN vs LSTM\\FInal Example\\wandb\\run-20221016_102433-155iu2s1\\files\\model-best)... Done. 0.0s\n"
     ]
    },
    {
     "name": "stdout",
     "output_type": "stream",
     "text": [
      "5/5 [==============================] - 3s 846ms/step - loss: 0.0046 - mae: 0.0544 - val_loss: 0.0066 - val_mae: 0.0652\n",
      "Epoch 662/1000\n",
      "5/5 [==============================] - 0s 56ms/step - loss: 0.0046 - mae: 0.0545 - val_loss: 0.0070 - val_mae: 0.0665\n",
      "Epoch 663/1000\n",
      "5/5 [==============================] - 0s 27ms/step - loss: 0.0047 - mae: 0.0546 - val_loss: 0.0067 - val_mae: 0.0657\n",
      "Epoch 664/1000\n",
      "5/5 [==============================] - 0s 26ms/step - loss: 0.0047 - mae: 0.0544 - val_loss: 0.0069 - val_mae: 0.0673\n",
      "Epoch 665/1000\n",
      "5/5 [==============================] - 0s 25ms/step - loss: 0.0048 - mae: 0.0560 - val_loss: 0.0082 - val_mae: 0.0712\n",
      "Epoch 666/1000\n",
      "5/5 [==============================] - 0s 26ms/step - loss: 0.0050 - mae: 0.0559 - val_loss: 0.0068 - val_mae: 0.0661\n",
      "Epoch 667/1000\n",
      "5/5 [==============================] - 0s 26ms/step - loss: 0.0046 - mae: 0.0537 - val_loss: 0.0068 - val_mae: 0.0662\n",
      "Epoch 668/1000\n",
      "5/5 [==============================] - 0s 26ms/step - loss: 0.0045 - mae: 0.0538 - val_loss: 0.0069 - val_mae: 0.0661\n",
      "Epoch 669/1000\n",
      "5/5 [==============================] - 0s 26ms/step - loss: 0.0045 - mae: 0.0530 - val_loss: 0.0068 - val_mae: 0.0664\n",
      "Epoch 670/1000\n",
      "1/5 [=====>........................] - ETA: 0s - loss: 0.0047 - mae: 0.0562"
     ]
    },
    {
     "name": "stderr",
     "output_type": "stream",
     "text": [
      "WARNING:absl:Found untraced functions such as lstm_cell_layer_call_fn, lstm_cell_layer_call_and_return_conditional_losses while saving (showing 2 of 2). These functions will not be directly callable after loading.\n"
     ]
    },
    {
     "name": "stdout",
     "output_type": "stream",
     "text": [
      "INFO:tensorflow:Assets written to: C:\\Users\\PARK\\Documents\\LAB\\RNN vs LSTM\\FInal Example\\wandb\\run-20221016_102433-155iu2s1\\files\\model-best\\assets\n"
     ]
    },
    {
     "name": "stderr",
     "output_type": "stream",
     "text": [
      "INFO:tensorflow:Assets written to: C:\\Users\\PARK\\Documents\\LAB\\RNN vs LSTM\\FInal Example\\wandb\\run-20221016_102433-155iu2s1\\files\\model-best\\assets\n",
      "\u001b[34m\u001b[1mwandb\u001b[0m: Adding directory to artifact (C:\\Users\\PARK\\Documents\\LAB\\RNN vs LSTM\\FInal Example\\wandb\\run-20221016_102433-155iu2s1\\files\\model-best)... Done. 0.0s\n"
     ]
    },
    {
     "name": "stdout",
     "output_type": "stream",
     "text": [
      "5/5 [==============================] - 4s 924ms/step - loss: 0.0045 - mae: 0.0537 - val_loss: 0.0065 - val_mae: 0.0648\n",
      "Epoch 671/1000\n",
      "5/5 [==============================] - 0s 72ms/step - loss: 0.0044 - mae: 0.0530 - val_loss: 0.0068 - val_mae: 0.0656\n",
      "Epoch 672/1000\n",
      "5/5 [==============================] - 0s 48ms/step - loss: 0.0045 - mae: 0.0528 - val_loss: 0.0066 - val_mae: 0.0656\n",
      "Epoch 673/1000\n",
      "5/5 [==============================] - 0s 40ms/step - loss: 0.0045 - mae: 0.0536 - val_loss: 0.0070 - val_mae: 0.0664\n",
      "Epoch 674/1000\n",
      "5/5 [==============================] - 0s 37ms/step - loss: 0.0045 - mae: 0.0534 - val_loss: 0.0066 - val_mae: 0.0652\n",
      "Epoch 675/1000\n",
      "1/5 [=====>........................] - ETA: 0s - loss: 0.0041 - mae: 0.0518"
     ]
    },
    {
     "name": "stderr",
     "output_type": "stream",
     "text": [
      "WARNING:absl:Found untraced functions such as lstm_cell_layer_call_fn, lstm_cell_layer_call_and_return_conditional_losses while saving (showing 2 of 2). These functions will not be directly callable after loading.\n"
     ]
    },
    {
     "name": "stdout",
     "output_type": "stream",
     "text": [
      "INFO:tensorflow:Assets written to: C:\\Users\\PARK\\Documents\\LAB\\RNN vs LSTM\\FInal Example\\wandb\\run-20221016_102433-155iu2s1\\files\\model-best\\assets\n"
     ]
    },
    {
     "name": "stderr",
     "output_type": "stream",
     "text": [
      "INFO:tensorflow:Assets written to: C:\\Users\\PARK\\Documents\\LAB\\RNN vs LSTM\\FInal Example\\wandb\\run-20221016_102433-155iu2s1\\files\\model-best\\assets\n",
      "\u001b[34m\u001b[1mwandb\u001b[0m: Adding directory to artifact (C:\\Users\\PARK\\Documents\\LAB\\RNN vs LSTM\\FInal Example\\wandb\\run-20221016_102433-155iu2s1\\files\\model-best)... Done. 0.0s\n"
     ]
    },
    {
     "name": "stdout",
     "output_type": "stream",
     "text": [
      "5/5 [==============================] - 4s 909ms/step - loss: 0.0044 - mae: 0.0532 - val_loss: 0.0065 - val_mae: 0.0646\n",
      "Epoch 676/1000\n",
      "5/5 [==============================] - ETA: 0s - loss: 0.0043 - mae: 0.0528"
     ]
    },
    {
     "name": "stderr",
     "output_type": "stream",
     "text": [
      "WARNING:absl:Found untraced functions such as lstm_cell_layer_call_fn, lstm_cell_layer_call_and_return_conditional_losses while saving (showing 2 of 2). These functions will not be directly callable after loading.\n"
     ]
    },
    {
     "name": "stdout",
     "output_type": "stream",
     "text": [
      "INFO:tensorflow:Assets written to: C:\\Users\\PARK\\Documents\\LAB\\RNN vs LSTM\\FInal Example\\wandb\\run-20221016_102433-155iu2s1\\files\\model-best\\assets\n"
     ]
    },
    {
     "name": "stderr",
     "output_type": "stream",
     "text": [
      "INFO:tensorflow:Assets written to: C:\\Users\\PARK\\Documents\\LAB\\RNN vs LSTM\\FInal Example\\wandb\\run-20221016_102433-155iu2s1\\files\\model-best\\assets\n",
      "\u001b[34m\u001b[1mwandb\u001b[0m: Adding directory to artifact (C:\\Users\\PARK\\Documents\\LAB\\RNN vs LSTM\\FInal Example\\wandb\\run-20221016_102433-155iu2s1\\files\\model-best)... Done. 0.0s\n"
     ]
    },
    {
     "name": "stdout",
     "output_type": "stream",
     "text": [
      "5/5 [==============================] - 4s 934ms/step - loss: 0.0043 - mae: 0.0528 - val_loss: 0.0063 - val_mae: 0.0640\n",
      "Epoch 677/1000\n",
      "5/5 [==============================] - 0s 74ms/step - loss: 0.0043 - mae: 0.0525 - val_loss: 0.0064 - val_mae: 0.0646\n",
      "Epoch 678/1000\n",
      "4/5 [=======================>......] - ETA: 0s - loss: 0.0044 - mae: 0.0532"
     ]
    },
    {
     "name": "stderr",
     "output_type": "stream",
     "text": [
      "WARNING:absl:Found untraced functions such as lstm_cell_layer_call_fn, lstm_cell_layer_call_and_return_conditional_losses while saving (showing 2 of 2). These functions will not be directly callable after loading.\n"
     ]
    },
    {
     "name": "stdout",
     "output_type": "stream",
     "text": [
      "INFO:tensorflow:Assets written to: C:\\Users\\PARK\\Documents\\LAB\\RNN vs LSTM\\FInal Example\\wandb\\run-20221016_102433-155iu2s1\\files\\model-best\\assets\n"
     ]
    },
    {
     "name": "stderr",
     "output_type": "stream",
     "text": [
      "INFO:tensorflow:Assets written to: C:\\Users\\PARK\\Documents\\LAB\\RNN vs LSTM\\FInal Example\\wandb\\run-20221016_102433-155iu2s1\\files\\model-best\\assets\n",
      "\u001b[34m\u001b[1mwandb\u001b[0m: Adding directory to artifact (C:\\Users\\PARK\\Documents\\LAB\\RNN vs LSTM\\FInal Example\\wandb\\run-20221016_102433-155iu2s1\\files\\model-best)... Done. 0.0s\n"
     ]
    },
    {
     "name": "stdout",
     "output_type": "stream",
     "text": [
      "5/5 [==============================] - 4s 871ms/step - loss: 0.0043 - mae: 0.0529 - val_loss: 0.0063 - val_mae: 0.0639\n",
      "Epoch 679/1000\n",
      "5/5 [==============================] - 0s 75ms/step - loss: 0.0043 - mae: 0.0521 - val_loss: 0.0067 - val_mae: 0.0649\n",
      "Epoch 680/1000\n",
      "5/5 [==============================] - 0s 53ms/step - loss: 0.0042 - mae: 0.0519 - val_loss: 0.0065 - val_mae: 0.0644\n",
      "Epoch 681/1000\n",
      "5/5 [==============================] - 0s 39ms/step - loss: 0.0042 - mae: 0.0521 - val_loss: 0.0066 - val_mae: 0.0647\n",
      "Epoch 682/1000\n",
      "1/5 [=====>........................] - ETA: 0s - loss: 0.0043 - mae: 0.0527"
     ]
    },
    {
     "name": "stderr",
     "output_type": "stream",
     "text": [
      "WARNING:absl:Found untraced functions such as lstm_cell_layer_call_fn, lstm_cell_layer_call_and_return_conditional_losses while saving (showing 2 of 2). These functions will not be directly callable after loading.\n"
     ]
    },
    {
     "name": "stdout",
     "output_type": "stream",
     "text": [
      "INFO:tensorflow:Assets written to: C:\\Users\\PARK\\Documents\\LAB\\RNN vs LSTM\\FInal Example\\wandb\\run-20221016_102433-155iu2s1\\files\\model-best\\assets\n"
     ]
    },
    {
     "name": "stderr",
     "output_type": "stream",
     "text": [
      "INFO:tensorflow:Assets written to: C:\\Users\\PARK\\Documents\\LAB\\RNN vs LSTM\\FInal Example\\wandb\\run-20221016_102433-155iu2s1\\files\\model-best\\assets\n",
      "\u001b[34m\u001b[1mwandb\u001b[0m: Adding directory to artifact (C:\\Users\\PARK\\Documents\\LAB\\RNN vs LSTM\\FInal Example\\wandb\\run-20221016_102433-155iu2s1\\files\\model-best)... Done. 0.0s\n"
     ]
    },
    {
     "name": "stdout",
     "output_type": "stream",
     "text": [
      "5/5 [==============================] - 4s 928ms/step - loss: 0.0042 - mae: 0.0519 - val_loss: 0.0062 - val_mae: 0.0634\n",
      "Epoch 683/1000\n",
      "5/5 [==============================] - ETA: 0s - loss: 0.0041 - mae: 0.0508"
     ]
    },
    {
     "name": "stderr",
     "output_type": "stream",
     "text": [
      "WARNING:absl:Found untraced functions such as lstm_cell_layer_call_fn, lstm_cell_layer_call_and_return_conditional_losses while saving (showing 2 of 2). These functions will not be directly callable after loading.\n"
     ]
    },
    {
     "name": "stdout",
     "output_type": "stream",
     "text": [
      "INFO:tensorflow:Assets written to: C:\\Users\\PARK\\Documents\\LAB\\RNN vs LSTM\\FInal Example\\wandb\\run-20221016_102433-155iu2s1\\files\\model-best\\assets\n"
     ]
    },
    {
     "name": "stderr",
     "output_type": "stream",
     "text": [
      "INFO:tensorflow:Assets written to: C:\\Users\\PARK\\Documents\\LAB\\RNN vs LSTM\\FInal Example\\wandb\\run-20221016_102433-155iu2s1\\files\\model-best\\assets\n",
      "\u001b[34m\u001b[1mwandb\u001b[0m: Adding directory to artifact (C:\\Users\\PARK\\Documents\\LAB\\RNN vs LSTM\\FInal Example\\wandb\\run-20221016_102433-155iu2s1\\files\\model-best)... Done. 0.0s\n"
     ]
    },
    {
     "name": "stdout",
     "output_type": "stream",
     "text": [
      "5/5 [==============================] - 4s 939ms/step - loss: 0.0041 - mae: 0.0508 - val_loss: 0.0062 - val_mae: 0.0631\n",
      "Epoch 684/1000\n",
      "5/5 [==============================] - 0s 72ms/step - loss: 0.0041 - mae: 0.0514 - val_loss: 0.0066 - val_mae: 0.0648\n",
      "Epoch 685/1000\n",
      "5/5 [==============================] - 0s 48ms/step - loss: 0.0042 - mae: 0.0521 - val_loss: 0.0062 - val_mae: 0.0636\n",
      "Epoch 686/1000\n",
      "5/5 [==============================] - 0s 41ms/step - loss: 0.0042 - mae: 0.0519 - val_loss: 0.0066 - val_mae: 0.0652\n",
      "Epoch 687/1000\n",
      "5/5 [==============================] - 0s 35ms/step - loss: 0.0045 - mae: 0.0538 - val_loss: 0.0063 - val_mae: 0.0637\n",
      "Epoch 688/1000\n",
      "5/5 [==============================] - 0s 31ms/step - loss: 0.0044 - mae: 0.0534 - val_loss: 0.0063 - val_mae: 0.0632\n",
      "Epoch 689/1000\n",
      "1/5 [=====>........................] - ETA: 0s - loss: 0.0037 - mae: 0.0485"
     ]
    },
    {
     "name": "stderr",
     "output_type": "stream",
     "text": [
      "WARNING:absl:Found untraced functions such as lstm_cell_layer_call_fn, lstm_cell_layer_call_and_return_conditional_losses while saving (showing 2 of 2). These functions will not be directly callable after loading.\n"
     ]
    },
    {
     "name": "stdout",
     "output_type": "stream",
     "text": [
      "INFO:tensorflow:Assets written to: C:\\Users\\PARK\\Documents\\LAB\\RNN vs LSTM\\FInal Example\\wandb\\run-20221016_102433-155iu2s1\\files\\model-best\\assets\n"
     ]
    },
    {
     "name": "stderr",
     "output_type": "stream",
     "text": [
      "INFO:tensorflow:Assets written to: C:\\Users\\PARK\\Documents\\LAB\\RNN vs LSTM\\FInal Example\\wandb\\run-20221016_102433-155iu2s1\\files\\model-best\\assets\n",
      "\u001b[34m\u001b[1mwandb\u001b[0m: Adding directory to artifact (C:\\Users\\PARK\\Documents\\LAB\\RNN vs LSTM\\FInal Example\\wandb\\run-20221016_102433-155iu2s1\\files\\model-best)... Done. 0.0s\n"
     ]
    },
    {
     "name": "stdout",
     "output_type": "stream",
     "text": [
      "5/5 [==============================] - 4s 912ms/step - loss: 0.0043 - mae: 0.0523 - val_loss: 0.0062 - val_mae: 0.0633\n",
      "Epoch 690/1000\n",
      "5/5 [==============================] - ETA: 0s - loss: 0.0040 - mae: 0.0506"
     ]
    },
    {
     "name": "stderr",
     "output_type": "stream",
     "text": [
      "WARNING:absl:Found untraced functions such as lstm_cell_layer_call_fn, lstm_cell_layer_call_and_return_conditional_losses while saving (showing 2 of 2). These functions will not be directly callable after loading.\n"
     ]
    },
    {
     "name": "stdout",
     "output_type": "stream",
     "text": [
      "INFO:tensorflow:Assets written to: C:\\Users\\PARK\\Documents\\LAB\\RNN vs LSTM\\FInal Example\\wandb\\run-20221016_102433-155iu2s1\\files\\model-best\\assets\n"
     ]
    },
    {
     "name": "stderr",
     "output_type": "stream",
     "text": [
      "INFO:tensorflow:Assets written to: C:\\Users\\PARK\\Documents\\LAB\\RNN vs LSTM\\FInal Example\\wandb\\run-20221016_102433-155iu2s1\\files\\model-best\\assets\n",
      "\u001b[34m\u001b[1mwandb\u001b[0m: Adding directory to artifact (C:\\Users\\PARK\\Documents\\LAB\\RNN vs LSTM\\FInal Example\\wandb\\run-20221016_102433-155iu2s1\\files\\model-best)... Done. 0.0s\n"
     ]
    },
    {
     "name": "stdout",
     "output_type": "stream",
     "text": [
      "5/5 [==============================] - 4s 951ms/step - loss: 0.0040 - mae: 0.0506 - val_loss: 0.0061 - val_mae: 0.0629\n",
      "Epoch 691/1000\n",
      "5/5 [==============================] - ETA: 0s - loss: 0.0040 - mae: 0.0506"
     ]
    },
    {
     "name": "stderr",
     "output_type": "stream",
     "text": [
      "WARNING:absl:Found untraced functions such as lstm_cell_layer_call_fn, lstm_cell_layer_call_and_return_conditional_losses while saving (showing 2 of 2). These functions will not be directly callable after loading.\n"
     ]
    },
    {
     "name": "stdout",
     "output_type": "stream",
     "text": [
      "INFO:tensorflow:Assets written to: C:\\Users\\PARK\\Documents\\LAB\\RNN vs LSTM\\FInal Example\\wandb\\run-20221016_102433-155iu2s1\\files\\model-best\\assets\n"
     ]
    },
    {
     "name": "stderr",
     "output_type": "stream",
     "text": [
      "INFO:tensorflow:Assets written to: C:\\Users\\PARK\\Documents\\LAB\\RNN vs LSTM\\FInal Example\\wandb\\run-20221016_102433-155iu2s1\\files\\model-best\\assets\n",
      "\u001b[34m\u001b[1mwandb\u001b[0m: Adding directory to artifact (C:\\Users\\PARK\\Documents\\LAB\\RNN vs LSTM\\FInal Example\\wandb\\run-20221016_102433-155iu2s1\\files\\model-best)... Done. 0.0s\n"
     ]
    },
    {
     "name": "stdout",
     "output_type": "stream",
     "text": [
      "5/5 [==============================] - 4s 948ms/step - loss: 0.0040 - mae: 0.0506 - val_loss: 0.0061 - val_mae: 0.0622\n",
      "Epoch 692/1000\n",
      "5/5 [==============================] - 0s 55ms/step - loss: 0.0040 - mae: 0.0504 - val_loss: 0.0064 - val_mae: 0.0635\n",
      "Epoch 693/1000\n",
      "5/5 [==============================] - 0s 26ms/step - loss: 0.0040 - mae: 0.0506 - val_loss: 0.0062 - val_mae: 0.0634\n",
      "Epoch 694/1000\n",
      "1/5 [=====>........................] - ETA: 0s - loss: 0.0036 - mae: 0.0485"
     ]
    },
    {
     "name": "stderr",
     "output_type": "stream",
     "text": [
      "WARNING:absl:Found untraced functions such as lstm_cell_layer_call_fn, lstm_cell_layer_call_and_return_conditional_losses while saving (showing 2 of 2). These functions will not be directly callable after loading.\n"
     ]
    },
    {
     "name": "stdout",
     "output_type": "stream",
     "text": [
      "INFO:tensorflow:Assets written to: C:\\Users\\PARK\\Documents\\LAB\\RNN vs LSTM\\FInal Example\\wandb\\run-20221016_102433-155iu2s1\\files\\model-best\\assets\n"
     ]
    },
    {
     "name": "stderr",
     "output_type": "stream",
     "text": [
      "INFO:tensorflow:Assets written to: C:\\Users\\PARK\\Documents\\LAB\\RNN vs LSTM\\FInal Example\\wandb\\run-20221016_102433-155iu2s1\\files\\model-best\\assets\n",
      "\u001b[34m\u001b[1mwandb\u001b[0m: Adding directory to artifact (C:\\Users\\PARK\\Documents\\LAB\\RNN vs LSTM\\FInal Example\\wandb\\run-20221016_102433-155iu2s1\\files\\model-best)... Done. 0.0s\n"
     ]
    },
    {
     "name": "stdout",
     "output_type": "stream",
     "text": [
      "5/5 [==============================] - 4s 886ms/step - loss: 0.0040 - mae: 0.0502 - val_loss: 0.0059 - val_mae: 0.0618\n",
      "Epoch 695/1000\n",
      "5/5 [==============================] - 0s 78ms/step - loss: 0.0039 - mae: 0.0500 - val_loss: 0.0064 - val_mae: 0.0635\n",
      "Epoch 696/1000\n",
      "5/5 [==============================] - 0s 51ms/step - loss: 0.0039 - mae: 0.0500 - val_loss: 0.0063 - val_mae: 0.0637\n",
      "Epoch 697/1000\n",
      "5/5 [==============================] - 0s 40ms/step - loss: 0.0039 - mae: 0.0499 - val_loss: 0.0061 - val_mae: 0.0627\n",
      "Epoch 698/1000\n",
      "5/5 [==============================] - 0s 36ms/step - loss: 0.0038 - mae: 0.0499 - val_loss: 0.0060 - val_mae: 0.0623\n",
      "Epoch 699/1000\n",
      "5/5 [==============================] - 0s 32ms/step - loss: 0.0038 - mae: 0.0494 - val_loss: 0.0061 - val_mae: 0.0619\n",
      "Epoch 700/1000\n",
      "5/5 [==============================] - 0s 29ms/step - loss: 0.0039 - mae: 0.0495 - val_loss: 0.0061 - val_mae: 0.0623\n",
      "Epoch 701/1000\n",
      "5/5 [==============================] - 0s 31ms/step - loss: 0.0038 - mae: 0.0495 - val_loss: 0.0059 - val_mae: 0.0617\n",
      "Epoch 702/1000\n",
      "1/5 [=====>........................] - ETA: 0s - loss: 0.0038 - mae: 0.0498"
     ]
    },
    {
     "name": "stderr",
     "output_type": "stream",
     "text": [
      "WARNING:absl:Found untraced functions such as lstm_cell_layer_call_fn, lstm_cell_layer_call_and_return_conditional_losses while saving (showing 2 of 2). These functions will not be directly callable after loading.\n"
     ]
    },
    {
     "name": "stdout",
     "output_type": "stream",
     "text": [
      "INFO:tensorflow:Assets written to: C:\\Users\\PARK\\Documents\\LAB\\RNN vs LSTM\\FInal Example\\wandb\\run-20221016_102433-155iu2s1\\files\\model-best\\assets\n"
     ]
    },
    {
     "name": "stderr",
     "output_type": "stream",
     "text": [
      "INFO:tensorflow:Assets written to: C:\\Users\\PARK\\Documents\\LAB\\RNN vs LSTM\\FInal Example\\wandb\\run-20221016_102433-155iu2s1\\files\\model-best\\assets\n",
      "\u001b[34m\u001b[1mwandb\u001b[0m: Adding directory to artifact (C:\\Users\\PARK\\Documents\\LAB\\RNN vs LSTM\\FInal Example\\wandb\\run-20221016_102433-155iu2s1\\files\\model-best)... Done. 0.0s\n"
     ]
    },
    {
     "name": "stdout",
     "output_type": "stream",
     "text": [
      "5/5 [==============================] - 4s 938ms/step - loss: 0.0039 - mae: 0.0497 - val_loss: 0.0059 - val_mae: 0.0613\n",
      "Epoch 703/1000\n",
      "5/5 [==============================] - 0s 73ms/step - loss: 0.0037 - mae: 0.0486 - val_loss: 0.0061 - val_mae: 0.0626\n",
      "Epoch 704/1000\n",
      "5/5 [==============================] - 0s 50ms/step - loss: 0.0038 - mae: 0.0493 - val_loss: 0.0060 - val_mae: 0.0615\n",
      "Epoch 705/1000\n",
      "1/5 [=====>........................] - ETA: 0s - loss: 0.0035 - mae: 0.0474"
     ]
    },
    {
     "name": "stderr",
     "output_type": "stream",
     "text": [
      "WARNING:absl:Found untraced functions such as lstm_cell_layer_call_fn, lstm_cell_layer_call_and_return_conditional_losses while saving (showing 2 of 2). These functions will not be directly callable after loading.\n"
     ]
    },
    {
     "name": "stdout",
     "output_type": "stream",
     "text": [
      "INFO:tensorflow:Assets written to: C:\\Users\\PARK\\Documents\\LAB\\RNN vs LSTM\\FInal Example\\wandb\\run-20221016_102433-155iu2s1\\files\\model-best\\assets\n"
     ]
    },
    {
     "name": "stderr",
     "output_type": "stream",
     "text": [
      "INFO:tensorflow:Assets written to: C:\\Users\\PARK\\Documents\\LAB\\RNN vs LSTM\\FInal Example\\wandb\\run-20221016_102433-155iu2s1\\files\\model-best\\assets\n",
      "\u001b[34m\u001b[1mwandb\u001b[0m: Adding directory to artifact (C:\\Users\\PARK\\Documents\\LAB\\RNN vs LSTM\\FInal Example\\wandb\\run-20221016_102433-155iu2s1\\files\\model-best)... Done. 0.0s\n"
     ]
    },
    {
     "name": "stdout",
     "output_type": "stream",
     "text": [
      "5/5 [==============================] - 4s 895ms/step - loss: 0.0038 - mae: 0.0493 - val_loss: 0.0059 - val_mae: 0.0614\n",
      "Epoch 706/1000\n",
      "5/5 [==============================] - 0s 55ms/step - loss: 0.0037 - mae: 0.0484 - val_loss: 0.0059 - val_mae: 0.0616\n",
      "Epoch 707/1000\n",
      "5/5 [==============================] - 0s 29ms/step - loss: 0.0038 - mae: 0.0497 - val_loss: 0.0062 - val_mae: 0.0629\n",
      "Epoch 708/1000\n",
      "5/5 [==============================] - 0s 27ms/step - loss: 0.0039 - mae: 0.0500 - val_loss: 0.0061 - val_mae: 0.0620\n",
      "Epoch 709/1000\n",
      "5/5 [==============================] - 0s 29ms/step - loss: 0.0039 - mae: 0.0499 - val_loss: 0.0062 - val_mae: 0.0632\n",
      "Epoch 710/1000\n",
      "1/5 [=====>........................] - ETA: 0s - loss: 0.0040 - mae: 0.0510"
     ]
    },
    {
     "name": "stderr",
     "output_type": "stream",
     "text": [
      "WARNING:absl:Found untraced functions such as lstm_cell_layer_call_fn, lstm_cell_layer_call_and_return_conditional_losses while saving (showing 2 of 2). These functions will not be directly callable after loading.\n"
     ]
    },
    {
     "name": "stdout",
     "output_type": "stream",
     "text": [
      "INFO:tensorflow:Assets written to: C:\\Users\\PARK\\Documents\\LAB\\RNN vs LSTM\\FInal Example\\wandb\\run-20221016_102433-155iu2s1\\files\\model-best\\assets\n"
     ]
    },
    {
     "name": "stderr",
     "output_type": "stream",
     "text": [
      "INFO:tensorflow:Assets written to: C:\\Users\\PARK\\Documents\\LAB\\RNN vs LSTM\\FInal Example\\wandb\\run-20221016_102433-155iu2s1\\files\\model-best\\assets\n",
      "\u001b[34m\u001b[1mwandb\u001b[0m: Adding directory to artifact (C:\\Users\\PARK\\Documents\\LAB\\RNN vs LSTM\\FInal Example\\wandb\\run-20221016_102433-155iu2s1\\files\\model-best)... Done. 0.0s\n"
     ]
    },
    {
     "name": "stdout",
     "output_type": "stream",
     "text": [
      "5/5 [==============================] - 3s 843ms/step - loss: 0.0038 - mae: 0.0492 - val_loss: 0.0057 - val_mae: 0.0606\n",
      "Epoch 711/1000\n",
      "5/5 [==============================] - 0s 62ms/step - loss: 0.0037 - mae: 0.0486 - val_loss: 0.0059 - val_mae: 0.0610\n",
      "Epoch 712/1000\n",
      "5/5 [==============================] - 0s 48ms/step - loss: 0.0036 - mae: 0.0481 - val_loss: 0.0058 - val_mae: 0.0601\n",
      "Epoch 713/1000\n",
      "1/5 [=====>........................] - ETA: 0s - loss: 0.0036 - mae: 0.0477"
     ]
    },
    {
     "name": "stderr",
     "output_type": "stream",
     "text": [
      "WARNING:absl:Found untraced functions such as lstm_cell_layer_call_fn, lstm_cell_layer_call_and_return_conditional_losses while saving (showing 2 of 2). These functions will not be directly callable after loading.\n"
     ]
    },
    {
     "name": "stdout",
     "output_type": "stream",
     "text": [
      "INFO:tensorflow:Assets written to: C:\\Users\\PARK\\Documents\\LAB\\RNN vs LSTM\\FInal Example\\wandb\\run-20221016_102433-155iu2s1\\files\\model-best\\assets\n"
     ]
    },
    {
     "name": "stderr",
     "output_type": "stream",
     "text": [
      "INFO:tensorflow:Assets written to: C:\\Users\\PARK\\Documents\\LAB\\RNN vs LSTM\\FInal Example\\wandb\\run-20221016_102433-155iu2s1\\files\\model-best\\assets\n",
      "\u001b[34m\u001b[1mwandb\u001b[0m: Adding directory to artifact (C:\\Users\\PARK\\Documents\\LAB\\RNN vs LSTM\\FInal Example\\wandb\\run-20221016_102433-155iu2s1\\files\\model-best)... Done. 0.0s\n"
     ]
    },
    {
     "name": "stdout",
     "output_type": "stream",
     "text": [
      "5/5 [==============================] - 4s 945ms/step - loss: 0.0037 - mae: 0.0484 - val_loss: 0.0057 - val_mae: 0.0600\n",
      "Epoch 714/1000\n",
      "5/5 [==============================] - 0s 78ms/step - loss: 0.0036 - mae: 0.0482 - val_loss: 0.0059 - val_mae: 0.0616\n",
      "Epoch 715/1000\n",
      "5/5 [==============================] - 0s 52ms/step - loss: 0.0037 - mae: 0.0492 - val_loss: 0.0058 - val_mae: 0.0605\n",
      "Epoch 716/1000\n",
      "5/5 [==============================] - ETA: 0s - loss: 0.0036 - mae: 0.0479"
     ]
    },
    {
     "name": "stderr",
     "output_type": "stream",
     "text": [
      "WARNING:absl:Found untraced functions such as lstm_cell_layer_call_fn, lstm_cell_layer_call_and_return_conditional_losses while saving (showing 2 of 2). These functions will not be directly callable after loading.\n"
     ]
    },
    {
     "name": "stdout",
     "output_type": "stream",
     "text": [
      "INFO:tensorflow:Assets written to: C:\\Users\\PARK\\Documents\\LAB\\RNN vs LSTM\\FInal Example\\wandb\\run-20221016_102433-155iu2s1\\files\\model-best\\assets\n"
     ]
    },
    {
     "name": "stderr",
     "output_type": "stream",
     "text": [
      "INFO:tensorflow:Assets written to: C:\\Users\\PARK\\Documents\\LAB\\RNN vs LSTM\\FInal Example\\wandb\\run-20221016_102433-155iu2s1\\files\\model-best\\assets\n",
      "\u001b[34m\u001b[1mwandb\u001b[0m: Adding directory to artifact (C:\\Users\\PARK\\Documents\\LAB\\RNN vs LSTM\\FInal Example\\wandb\\run-20221016_102433-155iu2s1\\files\\model-best)... Done. 0.0s\n"
     ]
    },
    {
     "name": "stdout",
     "output_type": "stream",
     "text": [
      "5/5 [==============================] - 4s 915ms/step - loss: 0.0036 - mae: 0.0479 - val_loss: 0.0057 - val_mae: 0.0601\n",
      "Epoch 717/1000\n",
      "5/5 [==============================] - 0s 60ms/step - loss: 0.0036 - mae: 0.0483 - val_loss: 0.0057 - val_mae: 0.0605\n",
      "Epoch 718/1000\n",
      "5/5 [==============================] - 0s 26ms/step - loss: 0.0036 - mae: 0.0476 - val_loss: 0.0057 - val_mae: 0.0601\n",
      "Epoch 719/1000\n",
      "1/5 [=====>........................] - ETA: 0s - loss: 0.0034 - mae: 0.0468"
     ]
    },
    {
     "name": "stderr",
     "output_type": "stream",
     "text": [
      "WARNING:absl:Found untraced functions such as lstm_cell_layer_call_fn, lstm_cell_layer_call_and_return_conditional_losses while saving (showing 2 of 2). These functions will not be directly callable after loading.\n"
     ]
    },
    {
     "name": "stdout",
     "output_type": "stream",
     "text": [
      "INFO:tensorflow:Assets written to: C:\\Users\\PARK\\Documents\\LAB\\RNN vs LSTM\\FInal Example\\wandb\\run-20221016_102433-155iu2s1\\files\\model-best\\assets\n"
     ]
    },
    {
     "name": "stderr",
     "output_type": "stream",
     "text": [
      "INFO:tensorflow:Assets written to: C:\\Users\\PARK\\Documents\\LAB\\RNN vs LSTM\\FInal Example\\wandb\\run-20221016_102433-155iu2s1\\files\\model-best\\assets\n",
      "\u001b[34m\u001b[1mwandb\u001b[0m: Adding directory to artifact (C:\\Users\\PARK\\Documents\\LAB\\RNN vs LSTM\\FInal Example\\wandb\\run-20221016_102433-155iu2s1\\files\\model-best)... Done. 0.0s\n"
     ]
    },
    {
     "name": "stdout",
     "output_type": "stream",
     "text": [
      "5/5 [==============================] - 4s 900ms/step - loss: 0.0035 - mae: 0.0477 - val_loss: 0.0056 - val_mae: 0.0596\n",
      "Epoch 720/1000\n",
      "5/5 [==============================] - 0s 57ms/step - loss: 0.0036 - mae: 0.0476 - val_loss: 0.0059 - val_mae: 0.0613\n",
      "Epoch 721/1000\n",
      "1/5 [=====>........................] - ETA: 0s - loss: 0.0034 - mae: 0.0467"
     ]
    },
    {
     "name": "stderr",
     "output_type": "stream",
     "text": [
      "WARNING:absl:Found untraced functions such as lstm_cell_layer_call_fn, lstm_cell_layer_call_and_return_conditional_losses while saving (showing 2 of 2). These functions will not be directly callable after loading.\n"
     ]
    },
    {
     "name": "stdout",
     "output_type": "stream",
     "text": [
      "INFO:tensorflow:Assets written to: C:\\Users\\PARK\\Documents\\LAB\\RNN vs LSTM\\FInal Example\\wandb\\run-20221016_102433-155iu2s1\\files\\model-best\\assets\n"
     ]
    },
    {
     "name": "stderr",
     "output_type": "stream",
     "text": [
      "INFO:tensorflow:Assets written to: C:\\Users\\PARK\\Documents\\LAB\\RNN vs LSTM\\FInal Example\\wandb\\run-20221016_102433-155iu2s1\\files\\model-best\\assets\n",
      "\u001b[34m\u001b[1mwandb\u001b[0m: Adding directory to artifact (C:\\Users\\PARK\\Documents\\LAB\\RNN vs LSTM\\FInal Example\\wandb\\run-20221016_102433-155iu2s1\\files\\model-best)... Done. 0.0s\n"
     ]
    },
    {
     "name": "stdout",
     "output_type": "stream",
     "text": [
      "5/5 [==============================] - 3s 845ms/step - loss: 0.0036 - mae: 0.0476 - val_loss: 0.0056 - val_mae: 0.0596\n",
      "Epoch 722/1000\n",
      "3/5 [=================>............] - ETA: 0s - loss: 0.0035 - mae: 0.0475"
     ]
    },
    {
     "name": "stderr",
     "output_type": "stream",
     "text": [
      "WARNING:absl:Found untraced functions such as lstm_cell_layer_call_fn, lstm_cell_layer_call_and_return_conditional_losses while saving (showing 2 of 2). These functions will not be directly callable after loading.\n"
     ]
    },
    {
     "name": "stdout",
     "output_type": "stream",
     "text": [
      "INFO:tensorflow:Assets written to: C:\\Users\\PARK\\Documents\\LAB\\RNN vs LSTM\\FInal Example\\wandb\\run-20221016_102433-155iu2s1\\files\\model-best\\assets\n"
     ]
    },
    {
     "name": "stderr",
     "output_type": "stream",
     "text": [
      "INFO:tensorflow:Assets written to: C:\\Users\\PARK\\Documents\\LAB\\RNN vs LSTM\\FInal Example\\wandb\\run-20221016_102433-155iu2s1\\files\\model-best\\assets\n",
      "\u001b[34m\u001b[1mwandb\u001b[0m: Adding directory to artifact (C:\\Users\\PARK\\Documents\\LAB\\RNN vs LSTM\\FInal Example\\wandb\\run-20221016_102433-155iu2s1\\files\\model-best)... Done. 0.0s\n"
     ]
    },
    {
     "name": "stdout",
     "output_type": "stream",
     "text": [
      "5/5 [==============================] - 4s 976ms/step - loss: 0.0035 - mae: 0.0473 - val_loss: 0.0055 - val_mae: 0.0593\n",
      "Epoch 723/1000\n",
      "5/5 [==============================] - 0s 70ms/step - loss: 0.0034 - mae: 0.0468 - val_loss: 0.0057 - val_mae: 0.0599\n",
      "Epoch 724/1000\n",
      "5/5 [==============================] - 0s 47ms/step - loss: 0.0035 - mae: 0.0475 - val_loss: 0.0055 - val_mae: 0.0594\n",
      "Epoch 725/1000\n",
      "5/5 [==============================] - 0s 39ms/step - loss: 0.0035 - mae: 0.0478 - val_loss: 0.0056 - val_mae: 0.0600\n",
      "Epoch 726/1000\n",
      "5/5 [==============================] - 0s 33ms/step - loss: 0.0035 - mae: 0.0474 - val_loss: 0.0057 - val_mae: 0.0594\n",
      "Epoch 727/1000\n",
      "1/5 [=====>........................] - ETA: 0s - loss: 0.0033 - mae: 0.0462"
     ]
    },
    {
     "name": "stderr",
     "output_type": "stream",
     "text": [
      "WARNING:absl:Found untraced functions such as lstm_cell_layer_call_fn, lstm_cell_layer_call_and_return_conditional_losses while saving (showing 2 of 2). These functions will not be directly callable after loading.\n"
     ]
    },
    {
     "name": "stdout",
     "output_type": "stream",
     "text": [
      "INFO:tensorflow:Assets written to: C:\\Users\\PARK\\Documents\\LAB\\RNN vs LSTM\\FInal Example\\wandb\\run-20221016_102433-155iu2s1\\files\\model-best\\assets\n"
     ]
    },
    {
     "name": "stderr",
     "output_type": "stream",
     "text": [
      "INFO:tensorflow:Assets written to: C:\\Users\\PARK\\Documents\\LAB\\RNN vs LSTM\\FInal Example\\wandb\\run-20221016_102433-155iu2s1\\files\\model-best\\assets\n",
      "\u001b[34m\u001b[1mwandb\u001b[0m: Adding directory to artifact (C:\\Users\\PARK\\Documents\\LAB\\RNN vs LSTM\\FInal Example\\wandb\\run-20221016_102433-155iu2s1\\files\\model-best)... Done. 0.0s\n"
     ]
    },
    {
     "name": "stdout",
     "output_type": "stream",
     "text": [
      "5/5 [==============================] - 4s 907ms/step - loss: 0.0035 - mae: 0.0472 - val_loss: 0.0054 - val_mae: 0.0591\n",
      "Epoch 728/1000\n",
      "5/5 [==============================] - 0s 72ms/step - loss: 0.0034 - mae: 0.0470 - val_loss: 0.0057 - val_mae: 0.0600\n",
      "Epoch 729/1000\n",
      "3/5 [=================>............] - ETA: 0s - loss: 0.0034 - mae: 0.0467"
     ]
    },
    {
     "name": "stderr",
     "output_type": "stream",
     "text": [
      "WARNING:absl:Found untraced functions such as lstm_cell_layer_call_fn, lstm_cell_layer_call_and_return_conditional_losses while saving (showing 2 of 2). These functions will not be directly callable after loading.\n"
     ]
    },
    {
     "name": "stdout",
     "output_type": "stream",
     "text": [
      "INFO:tensorflow:Assets written to: C:\\Users\\PARK\\Documents\\LAB\\RNN vs LSTM\\FInal Example\\wandb\\run-20221016_102433-155iu2s1\\files\\model-best\\assets\n"
     ]
    },
    {
     "name": "stderr",
     "output_type": "stream",
     "text": [
      "INFO:tensorflow:Assets written to: C:\\Users\\PARK\\Documents\\LAB\\RNN vs LSTM\\FInal Example\\wandb\\run-20221016_102433-155iu2s1\\files\\model-best\\assets\n",
      "\u001b[34m\u001b[1mwandb\u001b[0m: Adding directory to artifact (C:\\Users\\PARK\\Documents\\LAB\\RNN vs LSTM\\FInal Example\\wandb\\run-20221016_102433-155iu2s1\\files\\model-best)... Done. 0.0s\n"
     ]
    },
    {
     "name": "stdout",
     "output_type": "stream",
     "text": [
      "5/5 [==============================] - 4s 904ms/step - loss: 0.0034 - mae: 0.0467 - val_loss: 0.0054 - val_mae: 0.0586\n",
      "Epoch 730/1000\n",
      "5/5 [==============================] - 0s 75ms/step - loss: 0.0034 - mae: 0.0469 - val_loss: 0.0054 - val_mae: 0.0583\n",
      "Epoch 731/1000\n",
      "4/5 [=======================>......] - ETA: 0s - loss: 0.0034 - mae: 0.0464"
     ]
    },
    {
     "name": "stderr",
     "output_type": "stream",
     "text": [
      "WARNING:absl:Found untraced functions such as lstm_cell_layer_call_fn, lstm_cell_layer_call_and_return_conditional_losses while saving (showing 2 of 2). These functions will not be directly callable after loading.\n"
     ]
    },
    {
     "name": "stdout",
     "output_type": "stream",
     "text": [
      "INFO:tensorflow:Assets written to: C:\\Users\\PARK\\Documents\\LAB\\RNN vs LSTM\\FInal Example\\wandb\\run-20221016_102433-155iu2s1\\files\\model-best\\assets\n"
     ]
    },
    {
     "name": "stderr",
     "output_type": "stream",
     "text": [
      "INFO:tensorflow:Assets written to: C:\\Users\\PARK\\Documents\\LAB\\RNN vs LSTM\\FInal Example\\wandb\\run-20221016_102433-155iu2s1\\files\\model-best\\assets\n",
      "\u001b[34m\u001b[1mwandb\u001b[0m: Adding directory to artifact (C:\\Users\\PARK\\Documents\\LAB\\RNN vs LSTM\\FInal Example\\wandb\\run-20221016_102433-155iu2s1\\files\\model-best)... Done. 0.0s\n"
     ]
    },
    {
     "name": "stdout",
     "output_type": "stream",
     "text": [
      "5/5 [==============================] - 4s 877ms/step - loss: 0.0034 - mae: 0.0466 - val_loss: 0.0054 - val_mae: 0.0586\n",
      "Epoch 732/1000\n",
      "3/5 [=================>............] - ETA: 0s - loss: 0.0032 - mae: 0.0454"
     ]
    },
    {
     "name": "stderr",
     "output_type": "stream",
     "text": [
      "WARNING:absl:Found untraced functions such as lstm_cell_layer_call_fn, lstm_cell_layer_call_and_return_conditional_losses while saving (showing 2 of 2). These functions will not be directly callable after loading.\n"
     ]
    },
    {
     "name": "stdout",
     "output_type": "stream",
     "text": [
      "INFO:tensorflow:Assets written to: C:\\Users\\PARK\\Documents\\LAB\\RNN vs LSTM\\FInal Example\\wandb\\run-20221016_102433-155iu2s1\\files\\model-best\\assets\n"
     ]
    },
    {
     "name": "stderr",
     "output_type": "stream",
     "text": [
      "INFO:tensorflow:Assets written to: C:\\Users\\PARK\\Documents\\LAB\\RNN vs LSTM\\FInal Example\\wandb\\run-20221016_102433-155iu2s1\\files\\model-best\\assets\n",
      "\u001b[34m\u001b[1mwandb\u001b[0m: Adding directory to artifact (C:\\Users\\PARK\\Documents\\LAB\\RNN vs LSTM\\FInal Example\\wandb\\run-20221016_102433-155iu2s1\\files\\model-best)... Done. 0.0s\n"
     ]
    },
    {
     "name": "stdout",
     "output_type": "stream",
     "text": [
      "5/5 [==============================] - 4s 1s/step - loss: 0.0034 - mae: 0.0463 - val_loss: 0.0053 - val_mae: 0.0579\n",
      "Epoch 733/1000\n",
      "5/5 [==============================] - 0s 87ms/step - loss: 0.0034 - mae: 0.0465 - val_loss: 0.0055 - val_mae: 0.0591\n",
      "Epoch 734/1000\n",
      "5/5 [==============================] - 0s 51ms/step - loss: 0.0034 - mae: 0.0464 - val_loss: 0.0056 - val_mae: 0.0596\n",
      "Epoch 735/1000\n",
      "5/5 [==============================] - 0s 42ms/step - loss: 0.0034 - mae: 0.0467 - val_loss: 0.0053 - val_mae: 0.0577\n",
      "Epoch 736/1000\n",
      "5/5 [==============================] - 0s 37ms/step - loss: 0.0033 - mae: 0.0463 - val_loss: 0.0054 - val_mae: 0.0586\n",
      "Epoch 737/1000\n",
      "5/5 [==============================] - 0s 33ms/step - loss: 0.0033 - mae: 0.0459 - val_loss: 0.0054 - val_mae: 0.0585\n",
      "Epoch 738/1000\n",
      "1/5 [=====>........................] - ETA: 0s - loss: 0.0030 - mae: 0.0437"
     ]
    },
    {
     "name": "stderr",
     "output_type": "stream",
     "text": [
      "WARNING:absl:Found untraced functions such as lstm_cell_layer_call_fn, lstm_cell_layer_call_and_return_conditional_losses while saving (showing 2 of 2). These functions will not be directly callable after loading.\n"
     ]
    },
    {
     "name": "stdout",
     "output_type": "stream",
     "text": [
      "INFO:tensorflow:Assets written to: C:\\Users\\PARK\\Documents\\LAB\\RNN vs LSTM\\FInal Example\\wandb\\run-20221016_102433-155iu2s1\\files\\model-best\\assets\n"
     ]
    },
    {
     "name": "stderr",
     "output_type": "stream",
     "text": [
      "INFO:tensorflow:Assets written to: C:\\Users\\PARK\\Documents\\LAB\\RNN vs LSTM\\FInal Example\\wandb\\run-20221016_102433-155iu2s1\\files\\model-best\\assets\n",
      "\u001b[34m\u001b[1mwandb\u001b[0m: Adding directory to artifact (C:\\Users\\PARK\\Documents\\LAB\\RNN vs LSTM\\FInal Example\\wandb\\run-20221016_102433-155iu2s1\\files\\model-best)... Done. 0.0s\n"
     ]
    },
    {
     "name": "stdout",
     "output_type": "stream",
     "text": [
      "5/5 [==============================] - 4s 951ms/step - loss: 0.0032 - mae: 0.0451 - val_loss: 0.0052 - val_mae: 0.0575\n",
      "Epoch 739/1000\n",
      "5/5 [==============================] - 0s 74ms/step - loss: 0.0032 - mae: 0.0457 - val_loss: 0.0055 - val_mae: 0.0583\n",
      "Epoch 740/1000\n",
      "5/5 [==============================] - 0s 48ms/step - loss: 0.0033 - mae: 0.0456 - val_loss: 0.0053 - val_mae: 0.0581\n",
      "Epoch 741/1000\n",
      "5/5 [==============================] - 0s 40ms/step - loss: 0.0031 - mae: 0.0449 - val_loss: 0.0053 - val_mae: 0.0579\n",
      "Epoch 742/1000\n",
      "1/5 [=====>........................] - ETA: 0s - loss: 0.0033 - mae: 0.0447"
     ]
    },
    {
     "name": "stderr",
     "output_type": "stream",
     "text": [
      "WARNING:absl:Found untraced functions such as lstm_cell_layer_call_fn, lstm_cell_layer_call_and_return_conditional_losses while saving (showing 2 of 2). These functions will not be directly callable after loading.\n"
     ]
    },
    {
     "name": "stdout",
     "output_type": "stream",
     "text": [
      "INFO:tensorflow:Assets written to: C:\\Users\\PARK\\Documents\\LAB\\RNN vs LSTM\\FInal Example\\wandb\\run-20221016_102433-155iu2s1\\files\\model-best\\assets\n"
     ]
    },
    {
     "name": "stderr",
     "output_type": "stream",
     "text": [
      "INFO:tensorflow:Assets written to: C:\\Users\\PARK\\Documents\\LAB\\RNN vs LSTM\\FInal Example\\wandb\\run-20221016_102433-155iu2s1\\files\\model-best\\assets\n",
      "\u001b[34m\u001b[1mwandb\u001b[0m: Adding directory to artifact (C:\\Users\\PARK\\Documents\\LAB\\RNN vs LSTM\\FInal Example\\wandb\\run-20221016_102433-155iu2s1\\files\\model-best)... Done. 0.0s\n"
     ]
    },
    {
     "name": "stdout",
     "output_type": "stream",
     "text": [
      "5/5 [==============================] - 4s 917ms/step - loss: 0.0032 - mae: 0.0455 - val_loss: 0.0052 - val_mae: 0.0570\n",
      "Epoch 743/1000\n",
      "5/5 [==============================] - 0s 77ms/step - loss: 0.0032 - mae: 0.0448 - val_loss: 0.0053 - val_mae: 0.0581\n",
      "Epoch 744/1000\n",
      "5/5 [==============================] - 0s 55ms/step - loss: 0.0032 - mae: 0.0455 - val_loss: 0.0052 - val_mae: 0.0575\n",
      "Epoch 745/1000\n",
      "5/5 [==============================] - 0s 41ms/step - loss: 0.0031 - mae: 0.0449 - val_loss: 0.0053 - val_mae: 0.0577\n",
      "Epoch 746/1000\n",
      "1/5 [=====>........................] - ETA: 0s - loss: 0.0031 - mae: 0.0445"
     ]
    },
    {
     "name": "stderr",
     "output_type": "stream",
     "text": [
      "WARNING:absl:Found untraced functions such as lstm_cell_layer_call_fn, lstm_cell_layer_call_and_return_conditional_losses while saving (showing 2 of 2). These functions will not be directly callable after loading.\n"
     ]
    },
    {
     "name": "stdout",
     "output_type": "stream",
     "text": [
      "INFO:tensorflow:Assets written to: C:\\Users\\PARK\\Documents\\LAB\\RNN vs LSTM\\FInal Example\\wandb\\run-20221016_102433-155iu2s1\\files\\model-best\\assets\n"
     ]
    },
    {
     "name": "stderr",
     "output_type": "stream",
     "text": [
      "INFO:tensorflow:Assets written to: C:\\Users\\PARK\\Documents\\LAB\\RNN vs LSTM\\FInal Example\\wandb\\run-20221016_102433-155iu2s1\\files\\model-best\\assets\n",
      "\u001b[34m\u001b[1mwandb\u001b[0m: Adding directory to artifact (C:\\Users\\PARK\\Documents\\LAB\\RNN vs LSTM\\FInal Example\\wandb\\run-20221016_102433-155iu2s1\\files\\model-best)... Done. 0.0s\n"
     ]
    },
    {
     "name": "stdout",
     "output_type": "stream",
     "text": [
      "5/5 [==============================] - 4s 903ms/step - loss: 0.0031 - mae: 0.0448 - val_loss: 0.0051 - val_mae: 0.0566\n",
      "Epoch 747/1000\n",
      "5/5 [==============================] - 0s 75ms/step - loss: 0.0031 - mae: 0.0442 - val_loss: 0.0054 - val_mae: 0.0584\n",
      "Epoch 748/1000\n",
      "5/5 [==============================] - 0s 47ms/step - loss: 0.0032 - mae: 0.0451 - val_loss: 0.0051 - val_mae: 0.0568\n",
      "Epoch 749/1000\n",
      "1/5 [=====>........................] - ETA: 0s - loss: 0.0029 - mae: 0.0427"
     ]
    },
    {
     "name": "stderr",
     "output_type": "stream",
     "text": [
      "WARNING:absl:Found untraced functions such as lstm_cell_layer_call_fn, lstm_cell_layer_call_and_return_conditional_losses while saving (showing 2 of 2). These functions will not be directly callable after loading.\n"
     ]
    },
    {
     "name": "stdout",
     "output_type": "stream",
     "text": [
      "INFO:tensorflow:Assets written to: C:\\Users\\PARK\\Documents\\LAB\\RNN vs LSTM\\FInal Example\\wandb\\run-20221016_102433-155iu2s1\\files\\model-best\\assets\n"
     ]
    },
    {
     "name": "stderr",
     "output_type": "stream",
     "text": [
      "INFO:tensorflow:Assets written to: C:\\Users\\PARK\\Documents\\LAB\\RNN vs LSTM\\FInal Example\\wandb\\run-20221016_102433-155iu2s1\\files\\model-best\\assets\n",
      "\u001b[34m\u001b[1mwandb\u001b[0m: Adding directory to artifact (C:\\Users\\PARK\\Documents\\LAB\\RNN vs LSTM\\FInal Example\\wandb\\run-20221016_102433-155iu2s1\\files\\model-best)... Done. 0.0s\n"
     ]
    },
    {
     "name": "stdout",
     "output_type": "stream",
     "text": [
      "5/5 [==============================] - 4s 885ms/step - loss: 0.0032 - mae: 0.0453 - val_loss: 0.0050 - val_mae: 0.0564\n",
      "Epoch 750/1000\n",
      "5/5 [==============================] - 0s 71ms/step - loss: 0.0033 - mae: 0.0458 - val_loss: 0.0053 - val_mae: 0.0578\n",
      "Epoch 751/1000\n",
      "5/5 [==============================] - 0s 49ms/step - loss: 0.0031 - mae: 0.0447 - val_loss: 0.0051 - val_mae: 0.0568\n",
      "Epoch 752/1000\n",
      "5/5 [==============================] - 0s 42ms/step - loss: 0.0030 - mae: 0.0441 - val_loss: 0.0053 - val_mae: 0.0576\n",
      "Epoch 753/1000\n",
      "5/5 [==============================] - 0s 33ms/step - loss: 0.0031 - mae: 0.0444 - val_loss: 0.0051 - val_mae: 0.0569\n",
      "Epoch 754/1000\n",
      "5/5 [==============================] - 0s 31ms/step - loss: 0.0031 - mae: 0.0444 - val_loss: 0.0051 - val_mae: 0.0568\n",
      "Epoch 755/1000\n",
      "1/5 [=====>........................] - ETA: 0s - loss: 0.0030 - mae: 0.0441"
     ]
    },
    {
     "name": "stderr",
     "output_type": "stream",
     "text": [
      "WARNING:absl:Found untraced functions such as lstm_cell_layer_call_fn, lstm_cell_layer_call_and_return_conditional_losses while saving (showing 2 of 2). These functions will not be directly callable after loading.\n"
     ]
    },
    {
     "name": "stdout",
     "output_type": "stream",
     "text": [
      "INFO:tensorflow:Assets written to: C:\\Users\\PARK\\Documents\\LAB\\RNN vs LSTM\\FInal Example\\wandb\\run-20221016_102433-155iu2s1\\files\\model-best\\assets\n"
     ]
    },
    {
     "name": "stderr",
     "output_type": "stream",
     "text": [
      "INFO:tensorflow:Assets written to: C:\\Users\\PARK\\Documents\\LAB\\RNN vs LSTM\\FInal Example\\wandb\\run-20221016_102433-155iu2s1\\files\\model-best\\assets\n",
      "\u001b[34m\u001b[1mwandb\u001b[0m: Adding directory to artifact (C:\\Users\\PARK\\Documents\\LAB\\RNN vs LSTM\\FInal Example\\wandb\\run-20221016_102433-155iu2s1\\files\\model-best)... Done. 0.0s\n"
     ]
    },
    {
     "name": "stdout",
     "output_type": "stream",
     "text": [
      "5/5 [==============================] - 4s 896ms/step - loss: 0.0031 - mae: 0.0445 - val_loss: 0.0049 - val_mae: 0.0561\n",
      "Epoch 756/1000\n",
      "5/5 [==============================] - 0s 76ms/step - loss: 0.0030 - mae: 0.0438 - val_loss: 0.0050 - val_mae: 0.0563\n",
      "Epoch 757/1000\n",
      "5/5 [==============================] - ETA: 0s - loss: 0.0030 - mae: 0.0433"
     ]
    },
    {
     "name": "stderr",
     "output_type": "stream",
     "text": [
      "WARNING:absl:Found untraced functions such as lstm_cell_layer_call_fn, lstm_cell_layer_call_and_return_conditional_losses while saving (showing 2 of 2). These functions will not be directly callable after loading.\n"
     ]
    },
    {
     "name": "stdout",
     "output_type": "stream",
     "text": [
      "INFO:tensorflow:Assets written to: C:\\Users\\PARK\\Documents\\LAB\\RNN vs LSTM\\FInal Example\\wandb\\run-20221016_102433-155iu2s1\\files\\model-best\\assets\n"
     ]
    },
    {
     "name": "stderr",
     "output_type": "stream",
     "text": [
      "INFO:tensorflow:Assets written to: C:\\Users\\PARK\\Documents\\LAB\\RNN vs LSTM\\FInal Example\\wandb\\run-20221016_102433-155iu2s1\\files\\model-best\\assets\n",
      "\u001b[34m\u001b[1mwandb\u001b[0m: Adding directory to artifact (C:\\Users\\PARK\\Documents\\LAB\\RNN vs LSTM\\FInal Example\\wandb\\run-20221016_102433-155iu2s1\\files\\model-best)... Done. 0.0s\n"
     ]
    },
    {
     "name": "stdout",
     "output_type": "stream",
     "text": [
      "5/5 [==============================] - 4s 877ms/step - loss: 0.0030 - mae: 0.0433 - val_loss: 0.0049 - val_mae: 0.0558\n",
      "Epoch 758/1000\n",
      "3/5 [=================>............] - ETA: 0s - loss: 0.0028 - mae: 0.0430"
     ]
    },
    {
     "name": "stderr",
     "output_type": "stream",
     "text": [
      "WARNING:absl:Found untraced functions such as lstm_cell_layer_call_fn, lstm_cell_layer_call_and_return_conditional_losses while saving (showing 2 of 2). These functions will not be directly callable after loading.\n"
     ]
    },
    {
     "name": "stdout",
     "output_type": "stream",
     "text": [
      "INFO:tensorflow:Assets written to: C:\\Users\\PARK\\Documents\\LAB\\RNN vs LSTM\\FInal Example\\wandb\\run-20221016_102433-155iu2s1\\files\\model-best\\assets\n"
     ]
    },
    {
     "name": "stderr",
     "output_type": "stream",
     "text": [
      "INFO:tensorflow:Assets written to: C:\\Users\\PARK\\Documents\\LAB\\RNN vs LSTM\\FInal Example\\wandb\\run-20221016_102433-155iu2s1\\files\\model-best\\assets\n",
      "\u001b[34m\u001b[1mwandb\u001b[0m: Adding directory to artifact (C:\\Users\\PARK\\Documents\\LAB\\RNN vs LSTM\\FInal Example\\wandb\\run-20221016_102433-155iu2s1\\files\\model-best)... Done. 0.0s\n"
     ]
    },
    {
     "name": "stdout",
     "output_type": "stream",
     "text": [
      "5/5 [==============================] - 4s 988ms/step - loss: 0.0029 - mae: 0.0437 - val_loss: 0.0049 - val_mae: 0.0557\n",
      "Epoch 759/1000\n",
      "5/5 [==============================] - 0s 82ms/step - loss: 0.0029 - mae: 0.0434 - val_loss: 0.0049 - val_mae: 0.0559\n",
      "Epoch 760/1000\n",
      "5/5 [==============================] - 0s 53ms/step - loss: 0.0029 - mae: 0.0435 - val_loss: 0.0049 - val_mae: 0.0557\n",
      "Epoch 761/1000\n",
      "5/5 [==============================] - ETA: 0s - loss: 0.0030 - mae: 0.0438"
     ]
    },
    {
     "name": "stderr",
     "output_type": "stream",
     "text": [
      "WARNING:absl:Found untraced functions such as lstm_cell_layer_call_fn, lstm_cell_layer_call_and_return_conditional_losses while saving (showing 2 of 2). These functions will not be directly callable after loading.\n"
     ]
    },
    {
     "name": "stdout",
     "output_type": "stream",
     "text": [
      "INFO:tensorflow:Assets written to: C:\\Users\\PARK\\Documents\\LAB\\RNN vs LSTM\\FInal Example\\wandb\\run-20221016_102433-155iu2s1\\files\\model-best\\assets\n"
     ]
    },
    {
     "name": "stderr",
     "output_type": "stream",
     "text": [
      "INFO:tensorflow:Assets written to: C:\\Users\\PARK\\Documents\\LAB\\RNN vs LSTM\\FInal Example\\wandb\\run-20221016_102433-155iu2s1\\files\\model-best\\assets\n",
      "\u001b[34m\u001b[1mwandb\u001b[0m: Adding directory to artifact (C:\\Users\\PARK\\Documents\\LAB\\RNN vs LSTM\\FInal Example\\wandb\\run-20221016_102433-155iu2s1\\files\\model-best)... Done. 0.0s\n"
     ]
    },
    {
     "name": "stdout",
     "output_type": "stream",
     "text": [
      "5/5 [==============================] - 4s 873ms/step - loss: 0.0030 - mae: 0.0438 - val_loss: 0.0049 - val_mae: 0.0551\n",
      "Epoch 762/1000\n",
      "5/5 [==============================] - 0s 72ms/step - loss: 0.0029 - mae: 0.0430 - val_loss: 0.0050 - val_mae: 0.0562\n",
      "Epoch 763/1000\n",
      "5/5 [==============================] - 0s 49ms/step - loss: 0.0029 - mae: 0.0433 - val_loss: 0.0050 - val_mae: 0.0559\n",
      "Epoch 764/1000\n",
      "5/5 [==============================] - 0s 42ms/step - loss: 0.0030 - mae: 0.0438 - val_loss: 0.0050 - val_mae: 0.0567\n",
      "Epoch 765/1000\n",
      "5/5 [==============================] - 0s 34ms/step - loss: 0.0030 - mae: 0.0437 - val_loss: 0.0051 - val_mae: 0.0565\n",
      "Epoch 766/1000\n",
      "5/5 [==============================] - 0s 33ms/step - loss: 0.0030 - mae: 0.0435 - val_loss: 0.0053 - val_mae: 0.0580\n",
      "Epoch 767/1000\n",
      "5/5 [==============================] - 0s 30ms/step - loss: 0.0032 - mae: 0.0450 - val_loss: 0.0052 - val_mae: 0.0578\n",
      "Epoch 768/1000\n",
      "5/5 [==============================] - 0s 30ms/step - loss: 0.0033 - mae: 0.0461 - val_loss: 0.0058 - val_mae: 0.0609\n",
      "Epoch 769/1000\n",
      "5/5 [==============================] - 0s 30ms/step - loss: 0.0036 - mae: 0.0478 - val_loss: 0.0052 - val_mae: 0.0568\n",
      "Epoch 770/1000\n",
      "5/5 [==============================] - 0s 31ms/step - loss: 0.0034 - mae: 0.0467 - val_loss: 0.0054 - val_mae: 0.0591\n",
      "Epoch 771/1000\n",
      "5/5 [==============================] - 0s 30ms/step - loss: 0.0034 - mae: 0.0462 - val_loss: 0.0052 - val_mae: 0.0570\n",
      "Epoch 772/1000\n",
      "5/5 [==============================] - 0s 30ms/step - loss: 0.0030 - mae: 0.0440 - val_loss: 0.0050 - val_mae: 0.0562\n",
      "Epoch 773/1000\n",
      "5/5 [==============================] - 0s 30ms/step - loss: 0.0030 - mae: 0.0436 - val_loss: 0.0050 - val_mae: 0.0561\n",
      "Epoch 774/1000\n",
      "5/5 [==============================] - 0s 30ms/step - loss: 0.0031 - mae: 0.0445 - val_loss: 0.0052 - val_mae: 0.0571\n",
      "Epoch 775/1000\n",
      "5/5 [==============================] - 0s 30ms/step - loss: 0.0030 - mae: 0.0440 - val_loss: 0.0050 - val_mae: 0.0560\n",
      "Epoch 776/1000\n",
      "1/5 [=====>........................] - ETA: 0s - loss: 0.0029 - mae: 0.0430"
     ]
    },
    {
     "name": "stderr",
     "output_type": "stream",
     "text": [
      "WARNING:absl:Found untraced functions such as lstm_cell_layer_call_fn, lstm_cell_layer_call_and_return_conditional_losses while saving (showing 2 of 2). These functions will not be directly callable after loading.\n"
     ]
    },
    {
     "name": "stdout",
     "output_type": "stream",
     "text": [
      "INFO:tensorflow:Assets written to: C:\\Users\\PARK\\Documents\\LAB\\RNN vs LSTM\\FInal Example\\wandb\\run-20221016_102433-155iu2s1\\files\\model-best\\assets\n"
     ]
    },
    {
     "name": "stderr",
     "output_type": "stream",
     "text": [
      "INFO:tensorflow:Assets written to: C:\\Users\\PARK\\Documents\\LAB\\RNN vs LSTM\\FInal Example\\wandb\\run-20221016_102433-155iu2s1\\files\\model-best\\assets\n",
      "\u001b[34m\u001b[1mwandb\u001b[0m: Adding directory to artifact (C:\\Users\\PARK\\Documents\\LAB\\RNN vs LSTM\\FInal Example\\wandb\\run-20221016_102433-155iu2s1\\files\\model-best)... Done. 0.0s\n"
     ]
    },
    {
     "name": "stdout",
     "output_type": "stream",
     "text": [
      "5/5 [==============================] - 4s 922ms/step - loss: 0.0029 - mae: 0.0431 - val_loss: 0.0048 - val_mae: 0.0552\n",
      "Epoch 777/1000\n",
      "5/5 [==============================] - 0s 74ms/step - loss: 0.0029 - mae: 0.0429 - val_loss: 0.0050 - val_mae: 0.0563\n",
      "Epoch 778/1000\n",
      "5/5 [==============================] - 0s 52ms/step - loss: 0.0029 - mae: 0.0431 - val_loss: 0.0050 - val_mae: 0.0555\n",
      "Epoch 779/1000\n",
      "5/5 [==============================] - 0s 40ms/step - loss: 0.0030 - mae: 0.0437 - val_loss: 0.0049 - val_mae: 0.0563\n",
      "Epoch 780/1000\n",
      "1/5 [=====>........................] - ETA: 0s - loss: 0.0028 - mae: 0.0424"
     ]
    },
    {
     "name": "stderr",
     "output_type": "stream",
     "text": [
      "WARNING:absl:Found untraced functions such as lstm_cell_layer_call_fn, lstm_cell_layer_call_and_return_conditional_losses while saving (showing 2 of 2). These functions will not be directly callable after loading.\n"
     ]
    },
    {
     "name": "stdout",
     "output_type": "stream",
     "text": [
      "INFO:tensorflow:Assets written to: C:\\Users\\PARK\\Documents\\LAB\\RNN vs LSTM\\FInal Example\\wandb\\run-20221016_102433-155iu2s1\\files\\model-best\\assets\n"
     ]
    },
    {
     "name": "stderr",
     "output_type": "stream",
     "text": [
      "INFO:tensorflow:Assets written to: C:\\Users\\PARK\\Documents\\LAB\\RNN vs LSTM\\FInal Example\\wandb\\run-20221016_102433-155iu2s1\\files\\model-best\\assets\n",
      "\u001b[34m\u001b[1mwandb\u001b[0m: Adding directory to artifact (C:\\Users\\PARK\\Documents\\LAB\\RNN vs LSTM\\FInal Example\\wandb\\run-20221016_102433-155iu2s1\\files\\model-best)... Done. 0.0s\n"
     ]
    },
    {
     "name": "stdout",
     "output_type": "stream",
     "text": [
      "5/5 [==============================] - 4s 899ms/step - loss: 0.0029 - mae: 0.0433 - val_loss: 0.0048 - val_mae: 0.0548\n",
      "Epoch 781/1000\n",
      "3/5 [=================>............] - ETA: 0s - loss: 0.0029 - mae: 0.0433"
     ]
    },
    {
     "name": "stderr",
     "output_type": "stream",
     "text": [
      "WARNING:absl:Found untraced functions such as lstm_cell_layer_call_fn, lstm_cell_layer_call_and_return_conditional_losses while saving (showing 2 of 2). These functions will not be directly callable after loading.\n"
     ]
    },
    {
     "name": "stdout",
     "output_type": "stream",
     "text": [
      "INFO:tensorflow:Assets written to: C:\\Users\\PARK\\Documents\\LAB\\RNN vs LSTM\\FInal Example\\wandb\\run-20221016_102433-155iu2s1\\files\\model-best\\assets\n"
     ]
    },
    {
     "name": "stderr",
     "output_type": "stream",
     "text": [
      "INFO:tensorflow:Assets written to: C:\\Users\\PARK\\Documents\\LAB\\RNN vs LSTM\\FInal Example\\wandb\\run-20221016_102433-155iu2s1\\files\\model-best\\assets\n",
      "\u001b[34m\u001b[1mwandb\u001b[0m: Adding directory to artifact (C:\\Users\\PARK\\Documents\\LAB\\RNN vs LSTM\\FInal Example\\wandb\\run-20221016_102433-155iu2s1\\files\\model-best)... Done. 0.0s\n"
     ]
    },
    {
     "name": "stdout",
     "output_type": "stream",
     "text": [
      "5/5 [==============================] - 4s 939ms/step - loss: 0.0028 - mae: 0.0423 - val_loss: 0.0048 - val_mae: 0.0549\n",
      "Epoch 782/1000\n",
      "5/5 [==============================] - ETA: 0s - loss: 0.0027 - mae: 0.0418"
     ]
    },
    {
     "name": "stderr",
     "output_type": "stream",
     "text": [
      "WARNING:absl:Found untraced functions such as lstm_cell_layer_call_fn, lstm_cell_layer_call_and_return_conditional_losses while saving (showing 2 of 2). These functions will not be directly callable after loading.\n"
     ]
    },
    {
     "name": "stdout",
     "output_type": "stream",
     "text": [
      "INFO:tensorflow:Assets written to: C:\\Users\\PARK\\Documents\\LAB\\RNN vs LSTM\\FInal Example\\wandb\\run-20221016_102433-155iu2s1\\files\\model-best\\assets\n"
     ]
    },
    {
     "name": "stderr",
     "output_type": "stream",
     "text": [
      "INFO:tensorflow:Assets written to: C:\\Users\\PARK\\Documents\\LAB\\RNN vs LSTM\\FInal Example\\wandb\\run-20221016_102433-155iu2s1\\files\\model-best\\assets\n",
      "\u001b[34m\u001b[1mwandb\u001b[0m: Adding directory to artifact (C:\\Users\\PARK\\Documents\\LAB\\RNN vs LSTM\\FInal Example\\wandb\\run-20221016_102433-155iu2s1\\files\\model-best)... Done. 0.0s\n"
     ]
    },
    {
     "name": "stdout",
     "output_type": "stream",
     "text": [
      "5/5 [==============================] - 4s 917ms/step - loss: 0.0027 - mae: 0.0418 - val_loss: 0.0047 - val_mae: 0.0545\n",
      "Epoch 783/1000\n",
      "5/5 [==============================] - ETA: 0s - loss: 0.0028 - mae: 0.0422"
     ]
    },
    {
     "name": "stderr",
     "output_type": "stream",
     "text": [
      "WARNING:absl:Found untraced functions such as lstm_cell_layer_call_fn, lstm_cell_layer_call_and_return_conditional_losses while saving (showing 2 of 2). These functions will not be directly callable after loading.\n"
     ]
    },
    {
     "name": "stdout",
     "output_type": "stream",
     "text": [
      "INFO:tensorflow:Assets written to: C:\\Users\\PARK\\Documents\\LAB\\RNN vs LSTM\\FInal Example\\wandb\\run-20221016_102433-155iu2s1\\files\\model-best\\assets\n"
     ]
    },
    {
     "name": "stderr",
     "output_type": "stream",
     "text": [
      "INFO:tensorflow:Assets written to: C:\\Users\\PARK\\Documents\\LAB\\RNN vs LSTM\\FInal Example\\wandb\\run-20221016_102433-155iu2s1\\files\\model-best\\assets\n",
      "\u001b[34m\u001b[1mwandb\u001b[0m: Adding directory to artifact (C:\\Users\\PARK\\Documents\\LAB\\RNN vs LSTM\\FInal Example\\wandb\\run-20221016_102433-155iu2s1\\files\\model-best)... Done. 0.0s\n"
     ]
    },
    {
     "name": "stdout",
     "output_type": "stream",
     "text": [
      "5/5 [==============================] - 4s 968ms/step - loss: 0.0028 - mae: 0.0422 - val_loss: 0.0047 - val_mae: 0.0545\n",
      "Epoch 784/1000\n",
      "5/5 [==============================] - 0s 72ms/step - loss: 0.0027 - mae: 0.0416 - val_loss: 0.0048 - val_mae: 0.0553\n",
      "Epoch 785/1000\n",
      "5/5 [==============================] - 0s 54ms/step - loss: 0.0027 - mae: 0.0415 - val_loss: 0.0047 - val_mae: 0.0547\n",
      "Epoch 786/1000\n",
      "5/5 [==============================] - 0s 48ms/step - loss: 0.0027 - mae: 0.0419 - val_loss: 0.0049 - val_mae: 0.0553\n",
      "Epoch 787/1000\n",
      "1/5 [=====>........................] - ETA: 0s - loss: 0.0026 - mae: 0.0401"
     ]
    },
    {
     "name": "stderr",
     "output_type": "stream",
     "text": [
      "WARNING:absl:Found untraced functions such as lstm_cell_layer_call_fn, lstm_cell_layer_call_and_return_conditional_losses while saving (showing 2 of 2). These functions will not be directly callable after loading.\n"
     ]
    },
    {
     "name": "stdout",
     "output_type": "stream",
     "text": [
      "INFO:tensorflow:Assets written to: C:\\Users\\PARK\\Documents\\LAB\\RNN vs LSTM\\FInal Example\\wandb\\run-20221016_102433-155iu2s1\\files\\model-best\\assets\n"
     ]
    },
    {
     "name": "stderr",
     "output_type": "stream",
     "text": [
      "INFO:tensorflow:Assets written to: C:\\Users\\PARK\\Documents\\LAB\\RNN vs LSTM\\FInal Example\\wandb\\run-20221016_102433-155iu2s1\\files\\model-best\\assets\n",
      "\u001b[34m\u001b[1mwandb\u001b[0m: Adding directory to artifact (C:\\Users\\PARK\\Documents\\LAB\\RNN vs LSTM\\FInal Example\\wandb\\run-20221016_102433-155iu2s1\\files\\model-best)... Done. 0.0s\n"
     ]
    },
    {
     "name": "stdout",
     "output_type": "stream",
     "text": [
      "5/5 [==============================] - 4s 908ms/step - loss: 0.0027 - mae: 0.0414 - val_loss: 0.0046 - val_mae: 0.0537\n",
      "Epoch 788/1000\n",
      "5/5 [==============================] - ETA: 0s - loss: 0.0027 - mae: 0.0411"
     ]
    },
    {
     "name": "stderr",
     "output_type": "stream",
     "text": [
      "WARNING:absl:Found untraced functions such as lstm_cell_layer_call_fn, lstm_cell_layer_call_and_return_conditional_losses while saving (showing 2 of 2). These functions will not be directly callable after loading.\n"
     ]
    },
    {
     "name": "stdout",
     "output_type": "stream",
     "text": [
      "INFO:tensorflow:Assets written to: C:\\Users\\PARK\\Documents\\LAB\\RNN vs LSTM\\FInal Example\\wandb\\run-20221016_102433-155iu2s1\\files\\model-best\\assets\n"
     ]
    },
    {
     "name": "stderr",
     "output_type": "stream",
     "text": [
      "INFO:tensorflow:Assets written to: C:\\Users\\PARK\\Documents\\LAB\\RNN vs LSTM\\FInal Example\\wandb\\run-20221016_102433-155iu2s1\\files\\model-best\\assets\n",
      "\u001b[34m\u001b[1mwandb\u001b[0m: Adding directory to artifact (C:\\Users\\PARK\\Documents\\LAB\\RNN vs LSTM\\FInal Example\\wandb\\run-20221016_102433-155iu2s1\\files\\model-best)... Done. 0.0s\n"
     ]
    },
    {
     "name": "stdout",
     "output_type": "stream",
     "text": [
      "5/5 [==============================] - 4s 886ms/step - loss: 0.0027 - mae: 0.0411 - val_loss: 0.0045 - val_mae: 0.0536\n",
      "Epoch 789/1000\n",
      "5/5 [==============================] - 0s 69ms/step - loss: 0.0026 - mae: 0.0413 - val_loss: 0.0047 - val_mae: 0.0546\n",
      "Epoch 790/1000\n",
      "5/5 [==============================] - 0s 52ms/step - loss: 0.0027 - mae: 0.0414 - val_loss: 0.0045 - val_mae: 0.0534\n",
      "Epoch 791/1000\n",
      "5/5 [==============================] - 0s 41ms/step - loss: 0.0026 - mae: 0.0409 - val_loss: 0.0047 - val_mae: 0.0541\n",
      "Epoch 792/1000\n",
      "5/5 [==============================] - 0s 36ms/step - loss: 0.0027 - mae: 0.0414 - val_loss: 0.0047 - val_mae: 0.0547\n",
      "Epoch 793/1000\n",
      "5/5 [==============================] - 0s 31ms/step - loss: 0.0026 - mae: 0.0415 - val_loss: 0.0047 - val_mae: 0.0539\n",
      "Epoch 794/1000\n",
      "5/5 [==============================] - 0s 31ms/step - loss: 0.0026 - mae: 0.0410 - val_loss: 0.0045 - val_mae: 0.0533\n",
      "Epoch 795/1000\n",
      "5/5 [==============================] - 0s 31ms/step - loss: 0.0026 - mae: 0.0406 - val_loss: 0.0048 - val_mae: 0.0548\n",
      "Epoch 796/1000\n",
      "1/5 [=====>........................] - ETA: 0s - loss: 0.0026 - mae: 0.0404"
     ]
    },
    {
     "name": "stderr",
     "output_type": "stream",
     "text": [
      "WARNING:absl:Found untraced functions such as lstm_cell_layer_call_fn, lstm_cell_layer_call_and_return_conditional_losses while saving (showing 2 of 2). These functions will not be directly callable after loading.\n"
     ]
    },
    {
     "name": "stdout",
     "output_type": "stream",
     "text": [
      "INFO:tensorflow:Assets written to: C:\\Users\\PARK\\Documents\\LAB\\RNN vs LSTM\\FInal Example\\wandb\\run-20221016_102433-155iu2s1\\files\\model-best\\assets\n"
     ]
    },
    {
     "name": "stderr",
     "output_type": "stream",
     "text": [
      "INFO:tensorflow:Assets written to: C:\\Users\\PARK\\Documents\\LAB\\RNN vs LSTM\\FInal Example\\wandb\\run-20221016_102433-155iu2s1\\files\\model-best\\assets\n",
      "\u001b[34m\u001b[1mwandb\u001b[0m: Adding directory to artifact (C:\\Users\\PARK\\Documents\\LAB\\RNN vs LSTM\\FInal Example\\wandb\\run-20221016_102433-155iu2s1\\files\\model-best)... Done. 0.0s\n"
     ]
    },
    {
     "name": "stdout",
     "output_type": "stream",
     "text": [
      "5/5 [==============================] - 4s 927ms/step - loss: 0.0026 - mae: 0.0408 - val_loss: 0.0045 - val_mae: 0.0530\n",
      "Epoch 797/1000\n",
      "5/5 [==============================] - 0s 71ms/step - loss: 0.0026 - mae: 0.0407 - val_loss: 0.0047 - val_mae: 0.0543\n",
      "Epoch 798/1000\n",
      "5/5 [==============================] - 0s 50ms/step - loss: 0.0026 - mae: 0.0408 - val_loss: 0.0045 - val_mae: 0.0538\n",
      "Epoch 799/1000\n",
      "5/5 [==============================] - 0s 42ms/step - loss: 0.0026 - mae: 0.0405 - val_loss: 0.0046 - val_mae: 0.0538\n",
      "Epoch 800/1000\n",
      "5/5 [==============================] - 0s 38ms/step - loss: 0.0026 - mae: 0.0408 - val_loss: 0.0048 - val_mae: 0.0546\n",
      "Epoch 801/1000\n",
      "5/5 [==============================] - 0s 32ms/step - loss: 0.0027 - mae: 0.0417 - val_loss: 0.0046 - val_mae: 0.0537\n",
      "Epoch 802/1000\n",
      "5/5 [==============================] - 0s 31ms/step - loss: 0.0027 - mae: 0.0418 - val_loss: 0.0051 - val_mae: 0.0560\n",
      "Epoch 803/1000\n",
      "5/5 [==============================] - 0s 30ms/step - loss: 0.0029 - mae: 0.0429 - val_loss: 0.0046 - val_mae: 0.0539\n",
      "Epoch 804/1000\n",
      "5/5 [==============================] - 0s 30ms/step - loss: 0.0027 - mae: 0.0417 - val_loss: 0.0046 - val_mae: 0.0545\n",
      "Epoch 805/1000\n",
      "5/5 [==============================] - 0s 30ms/step - loss: 0.0027 - mae: 0.0418 - val_loss: 0.0045 - val_mae: 0.0534\n",
      "Epoch 806/1000\n",
      "5/5 [==============================] - 0s 30ms/step - loss: 0.0025 - mae: 0.0404 - val_loss: 0.0045 - val_mae: 0.0533\n",
      "Epoch 807/1000\n",
      "5/5 [==============================] - 0s 30ms/step - loss: 0.0025 - mae: 0.0404 - val_loss: 0.0045 - val_mae: 0.0536\n",
      "Epoch 808/1000\n",
      "1/5 [=====>........................] - ETA: 0s - loss: 0.0024 - mae: 0.0395"
     ]
    },
    {
     "name": "stderr",
     "output_type": "stream",
     "text": [
      "WARNING:absl:Found untraced functions such as lstm_cell_layer_call_fn, lstm_cell_layer_call_and_return_conditional_losses while saving (showing 2 of 2). These functions will not be directly callable after loading.\n"
     ]
    },
    {
     "name": "stdout",
     "output_type": "stream",
     "text": [
      "INFO:tensorflow:Assets written to: C:\\Users\\PARK\\Documents\\LAB\\RNN vs LSTM\\FInal Example\\wandb\\run-20221016_102433-155iu2s1\\files\\model-best\\assets\n"
     ]
    },
    {
     "name": "stderr",
     "output_type": "stream",
     "text": [
      "INFO:tensorflow:Assets written to: C:\\Users\\PARK\\Documents\\LAB\\RNN vs LSTM\\FInal Example\\wandb\\run-20221016_102433-155iu2s1\\files\\model-best\\assets\n",
      "\u001b[34m\u001b[1mwandb\u001b[0m: Adding directory to artifact (C:\\Users\\PARK\\Documents\\LAB\\RNN vs LSTM\\FInal Example\\wandb\\run-20221016_102433-155iu2s1\\files\\model-best)... Done. 0.0s\n"
     ]
    },
    {
     "name": "stdout",
     "output_type": "stream",
     "text": [
      "5/5 [==============================] - 3s 847ms/step - loss: 0.0026 - mae: 0.0409 - val_loss: 0.0044 - val_mae: 0.0532\n",
      "Epoch 809/1000\n",
      "5/5 [==============================] - 0s 53ms/step - loss: 0.0027 - mae: 0.0415 - val_loss: 0.0045 - val_mae: 0.0533\n",
      "Epoch 810/1000\n",
      "5/5 [==============================] - 0s 26ms/step - loss: 0.0025 - mae: 0.0405 - val_loss: 0.0045 - val_mae: 0.0531\n",
      "Epoch 811/1000\n",
      "5/5 [==============================] - 0s 26ms/step - loss: 0.0025 - mae: 0.0401 - val_loss: 0.0046 - val_mae: 0.0534\n",
      "Epoch 812/1000\n",
      "1/5 [=====>........................] - ETA: 0s - loss: 0.0024 - mae: 0.0397"
     ]
    },
    {
     "name": "stderr",
     "output_type": "stream",
     "text": [
      "WARNING:absl:Found untraced functions such as lstm_cell_layer_call_fn, lstm_cell_layer_call_and_return_conditional_losses while saving (showing 2 of 2). These functions will not be directly callable after loading.\n"
     ]
    },
    {
     "name": "stdout",
     "output_type": "stream",
     "text": [
      "INFO:tensorflow:Assets written to: C:\\Users\\PARK\\Documents\\LAB\\RNN vs LSTM\\FInal Example\\wandb\\run-20221016_102433-155iu2s1\\files\\model-best\\assets\n"
     ]
    },
    {
     "name": "stderr",
     "output_type": "stream",
     "text": [
      "INFO:tensorflow:Assets written to: C:\\Users\\PARK\\Documents\\LAB\\RNN vs LSTM\\FInal Example\\wandb\\run-20221016_102433-155iu2s1\\files\\model-best\\assets\n",
      "\u001b[34m\u001b[1mwandb\u001b[0m: Adding directory to artifact (C:\\Users\\PARK\\Documents\\LAB\\RNN vs LSTM\\FInal Example\\wandb\\run-20221016_102433-155iu2s1\\files\\model-best)... Done. 0.0s\n"
     ]
    },
    {
     "name": "stdout",
     "output_type": "stream",
     "text": [
      "5/5 [==============================] - 4s 928ms/step - loss: 0.0024 - mae: 0.0392 - val_loss: 0.0042 - val_mae: 0.0513\n",
      "Epoch 813/1000\n",
      "5/5 [==============================] - 0s 57ms/step - loss: 0.0024 - mae: 0.0396 - val_loss: 0.0046 - val_mae: 0.0543\n",
      "Epoch 814/1000\n",
      "5/5 [==============================] - 0s 26ms/step - loss: 0.0025 - mae: 0.0399 - val_loss: 0.0044 - val_mae: 0.0524\n",
      "Epoch 815/1000\n",
      "5/5 [==============================] - 0s 26ms/step - loss: 0.0024 - mae: 0.0393 - val_loss: 0.0044 - val_mae: 0.0528\n",
      "Epoch 816/1000\n",
      "5/5 [==============================] - 0s 27ms/step - loss: 0.0024 - mae: 0.0398 - val_loss: 0.0043 - val_mae: 0.0524\n",
      "Epoch 817/1000\n",
      "5/5 [==============================] - 0s 26ms/step - loss: 0.0025 - mae: 0.0398 - val_loss: 0.0044 - val_mae: 0.0523\n",
      "Epoch 818/1000\n",
      "5/5 [==============================] - 0s 26ms/step - loss: 0.0024 - mae: 0.0393 - val_loss: 0.0043 - val_mae: 0.0519\n",
      "Epoch 819/1000\n",
      "5/5 [==============================] - 0s 26ms/step - loss: 0.0023 - mae: 0.0389 - val_loss: 0.0044 - val_mae: 0.0525\n",
      "Epoch 820/1000\n",
      "5/5 [==============================] - 0s 27ms/step - loss: 0.0024 - mae: 0.0392 - val_loss: 0.0044 - val_mae: 0.0529\n",
      "Epoch 821/1000\n",
      "5/5 [==============================] - 0s 27ms/step - loss: 0.0025 - mae: 0.0396 - val_loss: 0.0043 - val_mae: 0.0519\n",
      "Epoch 822/1000\n",
      "5/5 [==============================] - 0s 26ms/step - loss: 0.0024 - mae: 0.0396 - val_loss: 0.0043 - val_mae: 0.0520\n",
      "Epoch 823/1000\n",
      "5/5 [==============================] - 0s 27ms/step - loss: 0.0024 - mae: 0.0390 - val_loss: 0.0043 - val_mae: 0.0521\n",
      "Epoch 824/1000\n",
      "5/5 [==============================] - 0s 26ms/step - loss: 0.0025 - mae: 0.0397 - val_loss: 0.0044 - val_mae: 0.0524\n",
      "Epoch 825/1000\n",
      "5/5 [==============================] - 0s 27ms/step - loss: 0.0023 - mae: 0.0386 - val_loss: 0.0042 - val_mae: 0.0516\n",
      "Epoch 826/1000\n",
      "5/5 [==============================] - 0s 25ms/step - loss: 0.0023 - mae: 0.0388 - val_loss: 0.0044 - val_mae: 0.0525\n",
      "Epoch 827/1000\n",
      "5/5 [==============================] - 0s 26ms/step - loss: 0.0024 - mae: 0.0389 - val_loss: 0.0043 - val_mae: 0.0523\n",
      "Epoch 828/1000\n",
      "5/5 [==============================] - 0s 26ms/step - loss: 0.0023 - mae: 0.0387 - val_loss: 0.0043 - val_mae: 0.0518\n",
      "Epoch 829/1000\n",
      "5/5 [==============================] - 0s 27ms/step - loss: 0.0024 - mae: 0.0392 - val_loss: 0.0046 - val_mae: 0.0537\n",
      "Epoch 830/1000\n",
      "1/5 [=====>........................] - ETA: 0s - loss: 0.0026 - mae: 0.0400"
     ]
    },
    {
     "name": "stderr",
     "output_type": "stream",
     "text": [
      "WARNING:absl:Found untraced functions such as lstm_cell_layer_call_fn, lstm_cell_layer_call_and_return_conditional_losses while saving (showing 2 of 2). These functions will not be directly callable after loading.\n"
     ]
    },
    {
     "name": "stdout",
     "output_type": "stream",
     "text": [
      "INFO:tensorflow:Assets written to: C:\\Users\\PARK\\Documents\\LAB\\RNN vs LSTM\\FInal Example\\wandb\\run-20221016_102433-155iu2s1\\files\\model-best\\assets\n"
     ]
    },
    {
     "name": "stderr",
     "output_type": "stream",
     "text": [
      "INFO:tensorflow:Assets written to: C:\\Users\\PARK\\Documents\\LAB\\RNN vs LSTM\\FInal Example\\wandb\\run-20221016_102433-155iu2s1\\files\\model-best\\assets\n",
      "\u001b[34m\u001b[1mwandb\u001b[0m: Adding directory to artifact (C:\\Users\\PARK\\Documents\\LAB\\RNN vs LSTM\\FInal Example\\wandb\\run-20221016_102433-155iu2s1\\files\\model-best)... Done. 0.0s\n"
     ]
    },
    {
     "name": "stdout",
     "output_type": "stream",
     "text": [
      "5/5 [==============================] - 4s 901ms/step - loss: 0.0024 - mae: 0.0391 - val_loss: 0.0041 - val_mae: 0.0512\n",
      "Epoch 831/1000\n",
      "5/5 [==============================] - 0s 68ms/step - loss: 0.0023 - mae: 0.0386 - val_loss: 0.0043 - val_mae: 0.0518\n",
      "Epoch 832/1000\n",
      "5/5 [==============================] - 0s 49ms/step - loss: 0.0023 - mae: 0.0382 - val_loss: 0.0043 - val_mae: 0.0525\n",
      "Epoch 833/1000\n",
      "5/5 [==============================] - 0s 40ms/step - loss: 0.0023 - mae: 0.0384 - val_loss: 0.0041 - val_mae: 0.0514\n",
      "Epoch 834/1000\n",
      "5/5 [==============================] - 0s 37ms/step - loss: 0.0022 - mae: 0.0381 - val_loss: 0.0042 - val_mae: 0.0518\n",
      "Epoch 835/1000\n",
      "5/5 [==============================] - 0s 33ms/step - loss: 0.0022 - mae: 0.0380 - val_loss: 0.0042 - val_mae: 0.0518\n",
      "Epoch 836/1000\n",
      "5/5 [==============================] - 0s 30ms/step - loss: 0.0022 - mae: 0.0376 - val_loss: 0.0042 - val_mae: 0.0515\n",
      "Epoch 837/1000\n",
      "5/5 [==============================] - 0s 29ms/step - loss: 0.0022 - mae: 0.0378 - val_loss: 0.0042 - val_mae: 0.0512\n",
      "Epoch 838/1000\n",
      "5/5 [==============================] - 0s 30ms/step - loss: 0.0022 - mae: 0.0373 - val_loss: 0.0042 - val_mae: 0.0513\n",
      "Epoch 839/1000\n",
      "1/5 [=====>........................] - ETA: 0s - loss: 0.0020 - mae: 0.0362"
     ]
    },
    {
     "name": "stderr",
     "output_type": "stream",
     "text": [
      "WARNING:absl:Found untraced functions such as lstm_cell_layer_call_fn, lstm_cell_layer_call_and_return_conditional_losses while saving (showing 2 of 2). These functions will not be directly callable after loading.\n"
     ]
    },
    {
     "name": "stdout",
     "output_type": "stream",
     "text": [
      "INFO:tensorflow:Assets written to: C:\\Users\\PARK\\Documents\\LAB\\RNN vs LSTM\\FInal Example\\wandb\\run-20221016_102433-155iu2s1\\files\\model-best\\assets\n"
     ]
    },
    {
     "name": "stderr",
     "output_type": "stream",
     "text": [
      "INFO:tensorflow:Assets written to: C:\\Users\\PARK\\Documents\\LAB\\RNN vs LSTM\\FInal Example\\wandb\\run-20221016_102433-155iu2s1\\files\\model-best\\assets\n",
      "\u001b[34m\u001b[1mwandb\u001b[0m: Adding directory to artifact (C:\\Users\\PARK\\Documents\\LAB\\RNN vs LSTM\\FInal Example\\wandb\\run-20221016_102433-155iu2s1\\files\\model-best)... Done. 0.0s\n"
     ]
    },
    {
     "name": "stdout",
     "output_type": "stream",
     "text": [
      "5/5 [==============================] - 4s 896ms/step - loss: 0.0022 - mae: 0.0374 - val_loss: 0.0041 - val_mae: 0.0509\n",
      "Epoch 840/1000\n",
      "5/5 [==============================] - 0s 80ms/step - loss: 0.0022 - mae: 0.0379 - val_loss: 0.0043 - val_mae: 0.0521\n",
      "Epoch 841/1000\n",
      "4/5 [=======================>......] - ETA: 0s - loss: 0.0022 - mae: 0.0376"
     ]
    },
    {
     "name": "stderr",
     "output_type": "stream",
     "text": [
      "WARNING:absl:Found untraced functions such as lstm_cell_layer_call_fn, lstm_cell_layer_call_and_return_conditional_losses while saving (showing 2 of 2). These functions will not be directly callable after loading.\n"
     ]
    },
    {
     "name": "stdout",
     "output_type": "stream",
     "text": [
      "INFO:tensorflow:Assets written to: C:\\Users\\PARK\\Documents\\LAB\\RNN vs LSTM\\FInal Example\\wandb\\run-20221016_102433-155iu2s1\\files\\model-best\\assets\n"
     ]
    },
    {
     "name": "stderr",
     "output_type": "stream",
     "text": [
      "INFO:tensorflow:Assets written to: C:\\Users\\PARK\\Documents\\LAB\\RNN vs LSTM\\FInal Example\\wandb\\run-20221016_102433-155iu2s1\\files\\model-best\\assets\n",
      "\u001b[34m\u001b[1mwandb\u001b[0m: Adding directory to artifact (C:\\Users\\PARK\\Documents\\LAB\\RNN vs LSTM\\FInal Example\\wandb\\run-20221016_102433-155iu2s1\\files\\model-best)... Done. 0.0s\n"
     ]
    },
    {
     "name": "stdout",
     "output_type": "stream",
     "text": [
      "5/5 [==============================] - 4s 927ms/step - loss: 0.0022 - mae: 0.0375 - val_loss: 0.0040 - val_mae: 0.0507\n",
      "Epoch 842/1000\n",
      "5/5 [==============================] - ETA: 0s - loss: 0.0021 - mae: 0.0370"
     ]
    },
    {
     "name": "stderr",
     "output_type": "stream",
     "text": [
      "WARNING:absl:Found untraced functions such as lstm_cell_layer_call_fn, lstm_cell_layer_call_and_return_conditional_losses while saving (showing 2 of 2). These functions will not be directly callable after loading.\n"
     ]
    },
    {
     "name": "stdout",
     "output_type": "stream",
     "text": [
      "INFO:tensorflow:Assets written to: C:\\Users\\PARK\\Documents\\LAB\\RNN vs LSTM\\FInal Example\\wandb\\run-20221016_102433-155iu2s1\\files\\model-best\\assets\n"
     ]
    },
    {
     "name": "stderr",
     "output_type": "stream",
     "text": [
      "INFO:tensorflow:Assets written to: C:\\Users\\PARK\\Documents\\LAB\\RNN vs LSTM\\FInal Example\\wandb\\run-20221016_102433-155iu2s1\\files\\model-best\\assets\n",
      "\u001b[34m\u001b[1mwandb\u001b[0m: Adding directory to artifact (C:\\Users\\PARK\\Documents\\LAB\\RNN vs LSTM\\FInal Example\\wandb\\run-20221016_102433-155iu2s1\\files\\model-best)... Done. 0.0s\n"
     ]
    },
    {
     "name": "stdout",
     "output_type": "stream",
     "text": [
      "5/5 [==============================] - 4s 937ms/step - loss: 0.0021 - mae: 0.0370 - val_loss: 0.0040 - val_mae: 0.0504\n",
      "Epoch 843/1000\n",
      "5/5 [==============================] - 0s 78ms/step - loss: 0.0021 - mae: 0.0371 - val_loss: 0.0041 - val_mae: 0.0510\n",
      "Epoch 844/1000\n",
      "5/5 [==============================] - 0s 51ms/step - loss: 0.0021 - mae: 0.0369 - val_loss: 0.0041 - val_mae: 0.0508\n",
      "Epoch 845/1000\n",
      "5/5 [==============================] - 0s 39ms/step - loss: 0.0021 - mae: 0.0370 - val_loss: 0.0042 - val_mae: 0.0516\n",
      "Epoch 846/1000\n",
      "5/5 [==============================] - 0s 34ms/step - loss: 0.0022 - mae: 0.0374 - val_loss: 0.0041 - val_mae: 0.0510\n",
      "Epoch 847/1000\n",
      "5/5 [==============================] - 0s 31ms/step - loss: 0.0023 - mae: 0.0383 - val_loss: 0.0041 - val_mae: 0.0511\n",
      "Epoch 848/1000\n",
      "5/5 [==============================] - 0s 32ms/step - loss: 0.0022 - mae: 0.0379 - val_loss: 0.0044 - val_mae: 0.0522\n",
      "Epoch 849/1000\n",
      "5/5 [==============================] - 0s 30ms/step - loss: 0.0022 - mae: 0.0378 - val_loss: 0.0040 - val_mae: 0.0503\n",
      "Epoch 850/1000\n",
      "5/5 [==============================] - 0s 30ms/step - loss: 0.0022 - mae: 0.0374 - val_loss: 0.0041 - val_mae: 0.0510\n",
      "Epoch 851/1000\n",
      "5/5 [==============================] - 0s 29ms/step - loss: 0.0022 - mae: 0.0372 - val_loss: 0.0042 - val_mae: 0.0512\n",
      "Epoch 852/1000\n",
      "5/5 [==============================] - 0s 30ms/step - loss: 0.0022 - mae: 0.0378 - val_loss: 0.0041 - val_mae: 0.0514\n",
      "Epoch 853/1000\n",
      "5/5 [==============================] - 0s 29ms/step - loss: 0.0021 - mae: 0.0367 - val_loss: 0.0041 - val_mae: 0.0511\n",
      "Epoch 854/1000\n",
      "5/5 [==============================] - 0s 29ms/step - loss: 0.0022 - mae: 0.0372 - val_loss: 0.0041 - val_mae: 0.0505\n",
      "Epoch 855/1000\n",
      "5/5 [==============================] - 0s 29ms/step - loss: 0.0021 - mae: 0.0368 - val_loss: 0.0040 - val_mae: 0.0503\n",
      "Epoch 856/1000\n",
      "5/5 [==============================] - 0s 30ms/step - loss: 0.0021 - mae: 0.0367 - val_loss: 0.0042 - val_mae: 0.0515\n",
      "Epoch 857/1000\n",
      "5/5 [==============================] - 0s 30ms/step - loss: 0.0022 - mae: 0.0376 - val_loss: 0.0041 - val_mae: 0.0512\n",
      "Epoch 858/1000\n",
      "5/5 [==============================] - 0s 30ms/step - loss: 0.0023 - mae: 0.0381 - val_loss: 0.0042 - val_mae: 0.0517\n",
      "Epoch 859/1000\n",
      "5/5 [==============================] - 0s 29ms/step - loss: 0.0023 - mae: 0.0385 - val_loss: 0.0042 - val_mae: 0.0517\n",
      "Epoch 860/1000\n",
      "5/5 [==============================] - 0s 30ms/step - loss: 0.0022 - mae: 0.0378 - val_loss: 0.0042 - val_mae: 0.0509\n",
      "Epoch 861/1000\n",
      "5/5 [==============================] - 0s 28ms/step - loss: 0.0021 - mae: 0.0370 - val_loss: 0.0040 - val_mae: 0.0504\n",
      "Epoch 862/1000\n",
      "5/5 [==============================] - 0s 29ms/step - loss: 0.0020 - mae: 0.0361 - val_loss: 0.0041 - val_mae: 0.0508\n",
      "Epoch 863/1000\n",
      "1/5 [=====>........................] - ETA: 0s - loss: 0.0019 - mae: 0.0348"
     ]
    },
    {
     "name": "stderr",
     "output_type": "stream",
     "text": [
      "WARNING:absl:Found untraced functions such as lstm_cell_layer_call_fn, lstm_cell_layer_call_and_return_conditional_losses while saving (showing 2 of 2). These functions will not be directly callable after loading.\n"
     ]
    },
    {
     "name": "stdout",
     "output_type": "stream",
     "text": [
      "INFO:tensorflow:Assets written to: C:\\Users\\PARK\\Documents\\LAB\\RNN vs LSTM\\FInal Example\\wandb\\run-20221016_102433-155iu2s1\\files\\model-best\\assets\n"
     ]
    },
    {
     "name": "stderr",
     "output_type": "stream",
     "text": [
      "INFO:tensorflow:Assets written to: C:\\Users\\PARK\\Documents\\LAB\\RNN vs LSTM\\FInal Example\\wandb\\run-20221016_102433-155iu2s1\\files\\model-best\\assets\n",
      "\u001b[34m\u001b[1mwandb\u001b[0m: Adding directory to artifact (C:\\Users\\PARK\\Documents\\LAB\\RNN vs LSTM\\FInal Example\\wandb\\run-20221016_102433-155iu2s1\\files\\model-best)... Done. 0.0s\n"
     ]
    },
    {
     "name": "stdout",
     "output_type": "stream",
     "text": [
      "5/5 [==============================] - 4s 918ms/step - loss: 0.0021 - mae: 0.0367 - val_loss: 0.0039 - val_mae: 0.0498\n",
      "Epoch 864/1000\n",
      "5/5 [==============================] - 0s 72ms/step - loss: 0.0021 - mae: 0.0366 - val_loss: 0.0040 - val_mae: 0.0501\n",
      "Epoch 865/1000\n",
      "5/5 [==============================] - 0s 51ms/step - loss: 0.0020 - mae: 0.0360 - val_loss: 0.0040 - val_mae: 0.0502\n",
      "Epoch 866/1000\n",
      "1/5 [=====>........................] - ETA: 0s - loss: 0.0020 - mae: 0.0357"
     ]
    },
    {
     "name": "stderr",
     "output_type": "stream",
     "text": [
      "WARNING:absl:Found untraced functions such as lstm_cell_layer_call_fn, lstm_cell_layer_call_and_return_conditional_losses while saving (showing 2 of 2). These functions will not be directly callable after loading.\n"
     ]
    },
    {
     "name": "stdout",
     "output_type": "stream",
     "text": [
      "INFO:tensorflow:Assets written to: C:\\Users\\PARK\\Documents\\LAB\\RNN vs LSTM\\FInal Example\\wandb\\run-20221016_102433-155iu2s1\\files\\model-best\\assets\n"
     ]
    },
    {
     "name": "stderr",
     "output_type": "stream",
     "text": [
      "INFO:tensorflow:Assets written to: C:\\Users\\PARK\\Documents\\LAB\\RNN vs LSTM\\FInal Example\\wandb\\run-20221016_102433-155iu2s1\\files\\model-best\\assets\n",
      "\u001b[34m\u001b[1mwandb\u001b[0m: Adding directory to artifact (C:\\Users\\PARK\\Documents\\LAB\\RNN vs LSTM\\FInal Example\\wandb\\run-20221016_102433-155iu2s1\\files\\model-best)... Done. 0.0s\n"
     ]
    },
    {
     "name": "stdout",
     "output_type": "stream",
     "text": [
      "5/5 [==============================] - 3s 871ms/step - loss: 0.0020 - mae: 0.0358 - val_loss: 0.0039 - val_mae: 0.0500\n",
      "Epoch 867/1000\n",
      "5/5 [==============================] - 0s 77ms/step - loss: 0.0020 - mae: 0.0358 - val_loss: 0.0041 - val_mae: 0.0506\n",
      "Epoch 868/1000\n",
      "5/5 [==============================] - 0s 52ms/step - loss: 0.0021 - mae: 0.0367 - val_loss: 0.0040 - val_mae: 0.0502\n",
      "Epoch 869/1000\n",
      "5/5 [==============================] - ETA: 0s - loss: 0.0020 - mae: 0.0357"
     ]
    },
    {
     "name": "stderr",
     "output_type": "stream",
     "text": [
      "WARNING:absl:Found untraced functions such as lstm_cell_layer_call_fn, lstm_cell_layer_call_and_return_conditional_losses while saving (showing 2 of 2). These functions will not be directly callable after loading.\n"
     ]
    },
    {
     "name": "stdout",
     "output_type": "stream",
     "text": [
      "INFO:tensorflow:Assets written to: C:\\Users\\PARK\\Documents\\LAB\\RNN vs LSTM\\FInal Example\\wandb\\run-20221016_102433-155iu2s1\\files\\model-best\\assets\n"
     ]
    },
    {
     "name": "stderr",
     "output_type": "stream",
     "text": [
      "INFO:tensorflow:Assets written to: C:\\Users\\PARK\\Documents\\LAB\\RNN vs LSTM\\FInal Example\\wandb\\run-20221016_102433-155iu2s1\\files\\model-best\\assets\n",
      "\u001b[34m\u001b[1mwandb\u001b[0m: Adding directory to artifact (C:\\Users\\PARK\\Documents\\LAB\\RNN vs LSTM\\FInal Example\\wandb\\run-20221016_102433-155iu2s1\\files\\model-best)... Done. 0.0s\n"
     ]
    },
    {
     "name": "stdout",
     "output_type": "stream",
     "text": [
      "5/5 [==============================] - 4s 930ms/step - loss: 0.0020 - mae: 0.0357 - val_loss: 0.0039 - val_mae: 0.0497\n",
      "Epoch 870/1000\n",
      "5/5 [==============================] - 0s 71ms/step - loss: 0.0020 - mae: 0.0360 - val_loss: 0.0042 - val_mae: 0.0514\n",
      "Epoch 871/1000\n",
      "4/5 [=======================>......] - ETA: 0s - loss: 0.0020 - mae: 0.0358"
     ]
    },
    {
     "name": "stderr",
     "output_type": "stream",
     "text": [
      "WARNING:absl:Found untraced functions such as lstm_cell_layer_call_fn, lstm_cell_layer_call_and_return_conditional_losses while saving (showing 2 of 2). These functions will not be directly callable after loading.\n"
     ]
    },
    {
     "name": "stdout",
     "output_type": "stream",
     "text": [
      "INFO:tensorflow:Assets written to: C:\\Users\\PARK\\Documents\\LAB\\RNN vs LSTM\\FInal Example\\wandb\\run-20221016_102433-155iu2s1\\files\\model-best\\assets\n"
     ]
    },
    {
     "name": "stderr",
     "output_type": "stream",
     "text": [
      "INFO:tensorflow:Assets written to: C:\\Users\\PARK\\Documents\\LAB\\RNN vs LSTM\\FInal Example\\wandb\\run-20221016_102433-155iu2s1\\files\\model-best\\assets\n",
      "\u001b[34m\u001b[1mwandb\u001b[0m: Adding directory to artifact (C:\\Users\\PARK\\Documents\\LAB\\RNN vs LSTM\\FInal Example\\wandb\\run-20221016_102433-155iu2s1\\files\\model-best)... Done. 0.0s\n"
     ]
    },
    {
     "name": "stdout",
     "output_type": "stream",
     "text": [
      "5/5 [==============================] - 4s 888ms/step - loss: 0.0020 - mae: 0.0360 - val_loss: 0.0039 - val_mae: 0.0491\n",
      "Epoch 872/1000\n",
      "5/5 [==============================] - 0s 71ms/step - loss: 0.0020 - mae: 0.0358 - val_loss: 0.0039 - val_mae: 0.0496\n",
      "Epoch 873/1000\n",
      "5/5 [==============================] - 0s 53ms/step - loss: 0.0019 - mae: 0.0354 - val_loss: 0.0041 - val_mae: 0.0510\n",
      "Epoch 874/1000\n",
      "5/5 [==============================] - 0s 43ms/step - loss: 0.0020 - mae: 0.0361 - val_loss: 0.0040 - val_mae: 0.0501\n",
      "Epoch 875/1000\n",
      "5/5 [==============================] - 0s 34ms/step - loss: 0.0020 - mae: 0.0362 - val_loss: 0.0042 - val_mae: 0.0513\n",
      "Epoch 876/1000\n",
      "5/5 [==============================] - 0s 30ms/step - loss: 0.0021 - mae: 0.0369 - val_loss: 0.0043 - val_mae: 0.0519\n",
      "Epoch 877/1000\n",
      "5/5 [==============================] - 0s 32ms/step - loss: 0.0020 - mae: 0.0362 - val_loss: 0.0040 - val_mae: 0.0501\n",
      "Epoch 878/1000\n",
      "5/5 [==============================] - 0s 30ms/step - loss: 0.0020 - mae: 0.0354 - val_loss: 0.0039 - val_mae: 0.0497\n",
      "Epoch 879/1000\n",
      "5/5 [==============================] - 0s 29ms/step - loss: 0.0019 - mae: 0.0352 - val_loss: 0.0039 - val_mae: 0.0499\n",
      "Epoch 880/1000\n",
      "5/5 [==============================] - 0s 29ms/step - loss: 0.0020 - mae: 0.0358 - val_loss: 0.0040 - val_mae: 0.0505\n",
      "Epoch 881/1000\n",
      "5/5 [==============================] - 0s 29ms/step - loss: 0.0020 - mae: 0.0358 - val_loss: 0.0041 - val_mae: 0.0507\n",
      "Epoch 882/1000\n",
      "5/5 [==============================] - 0s 29ms/step - loss: 0.0022 - mae: 0.0371 - val_loss: 0.0045 - val_mae: 0.0538\n",
      "Epoch 883/1000\n",
      "5/5 [==============================] - 0s 29ms/step - loss: 0.0023 - mae: 0.0384 - val_loss: 0.0042 - val_mae: 0.0517\n",
      "Epoch 884/1000\n",
      "5/5 [==============================] - 0s 29ms/step - loss: 0.0024 - mae: 0.0393 - val_loss: 0.0046 - val_mae: 0.0534\n",
      "Epoch 885/1000\n",
      "5/5 [==============================] - 0s 29ms/step - loss: 0.0022 - mae: 0.0378 - val_loss: 0.0041 - val_mae: 0.0510\n",
      "Epoch 886/1000\n",
      "5/5 [==============================] - 0s 29ms/step - loss: 0.0024 - mae: 0.0387 - val_loss: 0.0041 - val_mae: 0.0509\n",
      "Epoch 887/1000\n",
      "5/5 [==============================] - 0s 28ms/step - loss: 0.0023 - mae: 0.0384 - val_loss: 0.0042 - val_mae: 0.0507\n",
      "Epoch 888/1000\n",
      "5/5 [==============================] - 0s 29ms/step - loss: 0.0023 - mae: 0.0384 - val_loss: 0.0047 - val_mae: 0.0546\n",
      "Epoch 889/1000\n",
      "5/5 [==============================] - 0s 28ms/step - loss: 0.0025 - mae: 0.0396 - val_loss: 0.0041 - val_mae: 0.0504\n",
      "Epoch 890/1000\n",
      "5/5 [==============================] - 0s 29ms/step - loss: 0.0024 - mae: 0.0391 - val_loss: 0.0050 - val_mae: 0.0566\n",
      "Epoch 891/1000\n",
      "5/5 [==============================] - 0s 28ms/step - loss: 0.0026 - mae: 0.0404 - val_loss: 0.0041 - val_mae: 0.0504\n",
      "Epoch 892/1000\n",
      "5/5 [==============================] - 0s 29ms/step - loss: 0.0022 - mae: 0.0379 - val_loss: 0.0045 - val_mae: 0.0533\n",
      "Epoch 893/1000\n",
      "5/5 [==============================] - 0s 29ms/step - loss: 0.0024 - mae: 0.0389 - val_loss: 0.0049 - val_mae: 0.0556\n",
      "Epoch 894/1000\n",
      "5/5 [==============================] - 0s 30ms/step - loss: 0.0028 - mae: 0.0420 - val_loss: 0.0040 - val_mae: 0.0498\n",
      "Epoch 895/1000\n",
      "5/5 [==============================] - 0s 28ms/step - loss: 0.0023 - mae: 0.0381 - val_loss: 0.0042 - val_mae: 0.0515\n",
      "Epoch 896/1000\n",
      "5/5 [==============================] - 0s 29ms/step - loss: 0.0021 - mae: 0.0367 - val_loss: 0.0039 - val_mae: 0.0495\n",
      "Epoch 897/1000\n",
      "5/5 [==============================] - 0s 28ms/step - loss: 0.0019 - mae: 0.0349 - val_loss: 0.0039 - val_mae: 0.0490\n",
      "Epoch 898/1000\n",
      "5/5 [==============================] - 0s 29ms/step - loss: 0.0019 - mae: 0.0348 - val_loss: 0.0040 - val_mae: 0.0501\n",
      "Epoch 899/1000\n",
      "5/5 [==============================] - 0s 28ms/step - loss: 0.0019 - mae: 0.0353 - val_loss: 0.0040 - val_mae: 0.0498\n",
      "Epoch 900/1000\n",
      "5/5 [==============================] - 0s 28ms/step - loss: 0.0019 - mae: 0.0353 - val_loss: 0.0039 - val_mae: 0.0497\n",
      "Epoch 901/1000\n",
      "1/5 [=====>........................] - ETA: 0s - loss: 0.0019 - mae: 0.0348"
     ]
    },
    {
     "name": "stderr",
     "output_type": "stream",
     "text": [
      "WARNING:absl:Found untraced functions such as lstm_cell_layer_call_fn, lstm_cell_layer_call_and_return_conditional_losses while saving (showing 2 of 2). These functions will not be directly callable after loading.\n"
     ]
    },
    {
     "name": "stdout",
     "output_type": "stream",
     "text": [
      "INFO:tensorflow:Assets written to: C:\\Users\\PARK\\Documents\\LAB\\RNN vs LSTM\\FInal Example\\wandb\\run-20221016_102433-155iu2s1\\files\\model-best\\assets\n"
     ]
    },
    {
     "name": "stderr",
     "output_type": "stream",
     "text": [
      "INFO:tensorflow:Assets written to: C:\\Users\\PARK\\Documents\\LAB\\RNN vs LSTM\\FInal Example\\wandb\\run-20221016_102433-155iu2s1\\files\\model-best\\assets\n",
      "\u001b[34m\u001b[1mwandb\u001b[0m: Adding directory to artifact (C:\\Users\\PARK\\Documents\\LAB\\RNN vs LSTM\\FInal Example\\wandb\\run-20221016_102433-155iu2s1\\files\\model-best)... Done. 0.0s\n"
     ]
    },
    {
     "name": "stdout",
     "output_type": "stream",
     "text": [
      "5/5 [==============================] - 4s 942ms/step - loss: 0.0019 - mae: 0.0348 - val_loss: 0.0038 - val_mae: 0.0488\n",
      "Epoch 902/1000\n",
      "5/5 [==============================] - 0s 52ms/step - loss: 0.0019 - mae: 0.0346 - val_loss: 0.0039 - val_mae: 0.0491\n",
      "Epoch 903/1000\n",
      "5/5 [==============================] - 0s 26ms/step - loss: 0.0018 - mae: 0.0339 - val_loss: 0.0038 - val_mae: 0.0488\n",
      "Epoch 904/1000\n",
      "5/5 [==============================] - 0s 27ms/step - loss: 0.0018 - mae: 0.0344 - val_loss: 0.0039 - val_mae: 0.0495\n",
      "Epoch 905/1000\n",
      "1/5 [=====>........................] - ETA: 0s - loss: 0.0018 - mae: 0.0343"
     ]
    },
    {
     "name": "stderr",
     "output_type": "stream",
     "text": [
      "WARNING:absl:Found untraced functions such as lstm_cell_layer_call_fn, lstm_cell_layer_call_and_return_conditional_losses while saving (showing 2 of 2). These functions will not be directly callable after loading.\n"
     ]
    },
    {
     "name": "stdout",
     "output_type": "stream",
     "text": [
      "INFO:tensorflow:Assets written to: C:\\Users\\PARK\\Documents\\LAB\\RNN vs LSTM\\FInal Example\\wandb\\run-20221016_102433-155iu2s1\\files\\model-best\\assets\n"
     ]
    },
    {
     "name": "stderr",
     "output_type": "stream",
     "text": [
      "INFO:tensorflow:Assets written to: C:\\Users\\PARK\\Documents\\LAB\\RNN vs LSTM\\FInal Example\\wandb\\run-20221016_102433-155iu2s1\\files\\model-best\\assets\n",
      "\u001b[34m\u001b[1mwandb\u001b[0m: Adding directory to artifact (C:\\Users\\PARK\\Documents\\LAB\\RNN vs LSTM\\FInal Example\\wandb\\run-20221016_102433-155iu2s1\\files\\model-best)... Done. 0.0s\n"
     ]
    },
    {
     "name": "stdout",
     "output_type": "stream",
     "text": [
      "5/5 [==============================] - 3s 841ms/step - loss: 0.0018 - mae: 0.0340 - val_loss: 0.0037 - val_mae: 0.0484\n",
      "Epoch 906/1000\n",
      "5/5 [==============================] - 0s 68ms/step - loss: 0.0018 - mae: 0.0340 - val_loss: 0.0039 - val_mae: 0.0493\n",
      "Epoch 907/1000\n",
      "5/5 [==============================] - 0s 50ms/step - loss: 0.0018 - mae: 0.0341 - val_loss: 0.0039 - val_mae: 0.0493\n",
      "Epoch 908/1000\n",
      "5/5 [==============================] - 0s 42ms/step - loss: 0.0018 - mae: 0.0342 - val_loss: 0.0038 - val_mae: 0.0486\n",
      "Epoch 909/1000\n",
      "5/5 [==============================] - 0s 33ms/step - loss: 0.0018 - mae: 0.0345 - val_loss: 0.0039 - val_mae: 0.0494\n",
      "Epoch 910/1000\n",
      "5/5 [==============================] - 0s 33ms/step - loss: 0.0018 - mae: 0.0343 - val_loss: 0.0039 - val_mae: 0.0497\n",
      "Epoch 911/1000\n",
      "5/5 [==============================] - 0s 30ms/step - loss: 0.0019 - mae: 0.0348 - val_loss: 0.0041 - val_mae: 0.0503\n",
      "Epoch 912/1000\n",
      "5/5 [==============================] - 0s 30ms/step - loss: 0.0019 - mae: 0.0353 - val_loss: 0.0038 - val_mae: 0.0490\n",
      "Epoch 913/1000\n",
      "5/5 [==============================] - 0s 30ms/step - loss: 0.0019 - mae: 0.0350 - val_loss: 0.0040 - val_mae: 0.0505\n",
      "Epoch 914/1000\n",
      "5/5 [==============================] - 0s 30ms/step - loss: 0.0019 - mae: 0.0346 - val_loss: 0.0038 - val_mae: 0.0485\n",
      "Epoch 915/1000\n",
      "5/5 [==============================] - 0s 30ms/step - loss: 0.0018 - mae: 0.0346 - val_loss: 0.0039 - val_mae: 0.0495\n",
      "Epoch 916/1000\n",
      "5/5 [==============================] - 0s 30ms/step - loss: 0.0018 - mae: 0.0338 - val_loss: 0.0038 - val_mae: 0.0487\n",
      "Epoch 917/1000\n",
      "5/5 [==============================] - 0s 30ms/step - loss: 0.0018 - mae: 0.0338 - val_loss: 0.0038 - val_mae: 0.0487\n",
      "Epoch 918/1000\n",
      "5/5 [==============================] - 0s 30ms/step - loss: 0.0018 - mae: 0.0338 - val_loss: 0.0042 - val_mae: 0.0516\n",
      "Epoch 919/1000\n",
      "5/5 [==============================] - 0s 31ms/step - loss: 0.0019 - mae: 0.0350 - val_loss: 0.0038 - val_mae: 0.0492\n",
      "Epoch 920/1000\n",
      "1/5 [=====>........................] - ETA: 0s - loss: 0.0018 - mae: 0.0341"
     ]
    },
    {
     "name": "stderr",
     "output_type": "stream",
     "text": [
      "WARNING:absl:Found untraced functions such as lstm_cell_layer_call_fn, lstm_cell_layer_call_and_return_conditional_losses while saving (showing 2 of 2). These functions will not be directly callable after loading.\n"
     ]
    },
    {
     "name": "stdout",
     "output_type": "stream",
     "text": [
      "INFO:tensorflow:Assets written to: C:\\Users\\PARK\\Documents\\LAB\\RNN vs LSTM\\FInal Example\\wandb\\run-20221016_102433-155iu2s1\\files\\model-best\\assets\n"
     ]
    },
    {
     "name": "stderr",
     "output_type": "stream",
     "text": [
      "INFO:tensorflow:Assets written to: C:\\Users\\PARK\\Documents\\LAB\\RNN vs LSTM\\FInal Example\\wandb\\run-20221016_102433-155iu2s1\\files\\model-best\\assets\n",
      "\u001b[34m\u001b[1mwandb\u001b[0m: Adding directory to artifact (C:\\Users\\PARK\\Documents\\LAB\\RNN vs LSTM\\FInal Example\\wandb\\run-20221016_102433-155iu2s1\\files\\model-best)... Done. 0.0s\n"
     ]
    },
    {
     "name": "stdout",
     "output_type": "stream",
     "text": [
      "5/5 [==============================] - 4s 930ms/step - loss: 0.0018 - mae: 0.0344 - val_loss: 0.0037 - val_mae: 0.0482\n",
      "Epoch 921/1000\n",
      "5/5 [==============================] - 0s 62ms/step - loss: 0.0018 - mae: 0.0342 - val_loss: 0.0039 - val_mae: 0.0496\n",
      "Epoch 922/1000\n",
      "5/5 [==============================] - 0s 27ms/step - loss: 0.0019 - mae: 0.0350 - val_loss: 0.0038 - val_mae: 0.0488\n",
      "Epoch 923/1000\n",
      "5/5 [==============================] - 0s 28ms/step - loss: 0.0018 - mae: 0.0343 - val_loss: 0.0039 - val_mae: 0.0495\n",
      "Epoch 924/1000\n",
      "5/5 [==============================] - 0s 28ms/step - loss: 0.0019 - mae: 0.0346 - val_loss: 0.0039 - val_mae: 0.0493\n",
      "Epoch 925/1000\n",
      "5/5 [==============================] - 0s 28ms/step - loss: 0.0018 - mae: 0.0338 - val_loss: 0.0037 - val_mae: 0.0484\n",
      "Epoch 926/1000\n",
      "5/5 [==============================] - 0s 27ms/step - loss: 0.0018 - mae: 0.0339 - val_loss: 0.0040 - val_mae: 0.0505\n",
      "Epoch 927/1000\n",
      "5/5 [==============================] - 0s 27ms/step - loss: 0.0018 - mae: 0.0341 - val_loss: 0.0037 - val_mae: 0.0482\n",
      "Epoch 928/1000\n",
      "5/5 [==============================] - 0s 28ms/step - loss: 0.0018 - mae: 0.0339 - val_loss: 0.0041 - val_mae: 0.0505\n",
      "Epoch 929/1000\n",
      "5/5 [==============================] - 0s 26ms/step - loss: 0.0019 - mae: 0.0348 - val_loss: 0.0038 - val_mae: 0.0489\n",
      "Epoch 930/1000\n",
      "5/5 [==============================] - 0s 26ms/step - loss: 0.0020 - mae: 0.0358 - val_loss: 0.0039 - val_mae: 0.0496\n",
      "Epoch 931/1000\n",
      "5/5 [==============================] - 0s 26ms/step - loss: 0.0018 - mae: 0.0344 - val_loss: 0.0038 - val_mae: 0.0492\n",
      "Epoch 932/1000\n",
      "5/5 [==============================] - 0s 26ms/step - loss: 0.0018 - mae: 0.0338 - val_loss: 0.0039 - val_mae: 0.0495\n",
      "Epoch 933/1000\n",
      "5/5 [==============================] - 0s 26ms/step - loss: 0.0017 - mae: 0.0335 - val_loss: 0.0038 - val_mae: 0.0485\n",
      "Epoch 934/1000\n",
      "5/5 [==============================] - 0s 26ms/step - loss: 0.0018 - mae: 0.0337 - val_loss: 0.0037 - val_mae: 0.0483\n",
      "Epoch 935/1000\n",
      "5/5 [==============================] - 0s 26ms/step - loss: 0.0017 - mae: 0.0332 - val_loss: 0.0039 - val_mae: 0.0495\n",
      "Epoch 936/1000\n",
      "5/5 [==============================] - 0s 27ms/step - loss: 0.0018 - mae: 0.0343 - val_loss: 0.0038 - val_mae: 0.0482\n",
      "Epoch 937/1000\n",
      "5/5 [==============================] - 0s 28ms/step - loss: 0.0018 - mae: 0.0338 - val_loss: 0.0040 - val_mae: 0.0496\n",
      "Epoch 938/1000\n",
      "1/5 [=====>........................] - ETA: 0s - loss: 0.0019 - mae: 0.0347"
     ]
    },
    {
     "name": "stderr",
     "output_type": "stream",
     "text": [
      "WARNING:absl:Found untraced functions such as lstm_cell_layer_call_fn, lstm_cell_layer_call_and_return_conditional_losses while saving (showing 2 of 2). These functions will not be directly callable after loading.\n"
     ]
    },
    {
     "name": "stdout",
     "output_type": "stream",
     "text": [
      "INFO:tensorflow:Assets written to: C:\\Users\\PARK\\Documents\\LAB\\RNN vs LSTM\\FInal Example\\wandb\\run-20221016_102433-155iu2s1\\files\\model-best\\assets\n"
     ]
    },
    {
     "name": "stderr",
     "output_type": "stream",
     "text": [
      "INFO:tensorflow:Assets written to: C:\\Users\\PARK\\Documents\\LAB\\RNN vs LSTM\\FInal Example\\wandb\\run-20221016_102433-155iu2s1\\files\\model-best\\assets\n",
      "\u001b[34m\u001b[1mwandb\u001b[0m: Adding directory to artifact (C:\\Users\\PARK\\Documents\\LAB\\RNN vs LSTM\\FInal Example\\wandb\\run-20221016_102433-155iu2s1\\files\\model-best)... Done. 0.0s\n"
     ]
    },
    {
     "name": "stdout",
     "output_type": "stream",
     "text": [
      "5/5 [==============================] - 4s 895ms/step - loss: 0.0018 - mae: 0.0339 - val_loss: 0.0037 - val_mae: 0.0481\n",
      "Epoch 939/1000\n",
      "5/5 [==============================] - 0s 68ms/step - loss: 0.0018 - mae: 0.0337 - val_loss: 0.0038 - val_mae: 0.0490\n",
      "Epoch 940/1000\n",
      "5/5 [==============================] - 0s 50ms/step - loss: 0.0017 - mae: 0.0334 - val_loss: 0.0038 - val_mae: 0.0483\n",
      "Epoch 941/1000\n",
      "5/5 [==============================] - 0s 41ms/step - loss: 0.0017 - mae: 0.0331 - val_loss: 0.0040 - val_mae: 0.0495\n",
      "Epoch 942/1000\n",
      "5/5 [==============================] - 0s 38ms/step - loss: 0.0018 - mae: 0.0342 - val_loss: 0.0038 - val_mae: 0.0491\n",
      "Epoch 943/1000\n",
      "5/5 [==============================] - 0s 30ms/step - loss: 0.0018 - mae: 0.0336 - val_loss: 0.0038 - val_mae: 0.0492\n",
      "Epoch 944/1000\n",
      "5/5 [==============================] - 0s 30ms/step - loss: 0.0018 - mae: 0.0338 - val_loss: 0.0038 - val_mae: 0.0482\n",
      "Epoch 945/1000\n",
      "1/5 [=====>........................] - ETA: 0s - loss: 0.0016 - mae: 0.0323"
     ]
    },
    {
     "name": "stderr",
     "output_type": "stream",
     "text": [
      "WARNING:absl:Found untraced functions such as lstm_cell_layer_call_fn, lstm_cell_layer_call_and_return_conditional_losses while saving (showing 2 of 2). These functions will not be directly callable after loading.\n"
     ]
    },
    {
     "name": "stdout",
     "output_type": "stream",
     "text": [
      "INFO:tensorflow:Assets written to: C:\\Users\\PARK\\Documents\\LAB\\RNN vs LSTM\\FInal Example\\wandb\\run-20221016_102433-155iu2s1\\files\\model-best\\assets\n"
     ]
    },
    {
     "name": "stderr",
     "output_type": "stream",
     "text": [
      "INFO:tensorflow:Assets written to: C:\\Users\\PARK\\Documents\\LAB\\RNN vs LSTM\\FInal Example\\wandb\\run-20221016_102433-155iu2s1\\files\\model-best\\assets\n",
      "\u001b[34m\u001b[1mwandb\u001b[0m: Adding directory to artifact (C:\\Users\\PARK\\Documents\\LAB\\RNN vs LSTM\\FInal Example\\wandb\\run-20221016_102433-155iu2s1\\files\\model-best)... Done. 0.0s\n"
     ]
    },
    {
     "name": "stdout",
     "output_type": "stream",
     "text": [
      "5/5 [==============================] - 4s 899ms/step - loss: 0.0017 - mae: 0.0334 - val_loss: 0.0037 - val_mae: 0.0477\n",
      "Epoch 946/1000\n",
      "5/5 [==============================] - 0s 73ms/step - loss: 0.0017 - mae: 0.0332 - val_loss: 0.0038 - val_mae: 0.0491\n",
      "Epoch 947/1000\n",
      "5/5 [==============================] - 0s 49ms/step - loss: 0.0017 - mae: 0.0331 - val_loss: 0.0038 - val_mae: 0.0495\n",
      "Epoch 948/1000\n",
      "5/5 [==============================] - 0s 44ms/step - loss: 0.0018 - mae: 0.0336 - val_loss: 0.0038 - val_mae: 0.0489\n",
      "Epoch 949/1000\n",
      "5/5 [==============================] - 0s 38ms/step - loss: 0.0018 - mae: 0.0337 - val_loss: 0.0037 - val_mae: 0.0480\n",
      "Epoch 950/1000\n",
      "5/5 [==============================] - 0s 31ms/step - loss: 0.0017 - mae: 0.0328 - val_loss: 0.0039 - val_mae: 0.0498\n",
      "Epoch 951/1000\n",
      "5/5 [==============================] - 0s 29ms/step - loss: 0.0017 - mae: 0.0334 - val_loss: 0.0038 - val_mae: 0.0489\n",
      "Epoch 952/1000\n",
      "5/5 [==============================] - 0s 30ms/step - loss: 0.0017 - mae: 0.0337 - val_loss: 0.0037 - val_mae: 0.0479\n",
      "Epoch 953/1000\n",
      "5/5 [==============================] - 0s 30ms/step - loss: 0.0017 - mae: 0.0327 - val_loss: 0.0037 - val_mae: 0.0484\n",
      "Epoch 954/1000\n",
      "1/5 [=====>........................] - ETA: 0s - loss: 0.0015 - mae: 0.0304"
     ]
    },
    {
     "name": "stderr",
     "output_type": "stream",
     "text": [
      "WARNING:absl:Found untraced functions such as lstm_cell_layer_call_fn, lstm_cell_layer_call_and_return_conditional_losses while saving (showing 2 of 2). These functions will not be directly callable after loading.\n"
     ]
    },
    {
     "name": "stdout",
     "output_type": "stream",
     "text": [
      "INFO:tensorflow:Assets written to: C:\\Users\\PARK\\Documents\\LAB\\RNN vs LSTM\\FInal Example\\wandb\\run-20221016_102433-155iu2s1\\files\\model-best\\assets\n"
     ]
    },
    {
     "name": "stderr",
     "output_type": "stream",
     "text": [
      "INFO:tensorflow:Assets written to: C:\\Users\\PARK\\Documents\\LAB\\RNN vs LSTM\\FInal Example\\wandb\\run-20221016_102433-155iu2s1\\files\\model-best\\assets\n",
      "\u001b[34m\u001b[1mwandb\u001b[0m: Adding directory to artifact (C:\\Users\\PARK\\Documents\\LAB\\RNN vs LSTM\\FInal Example\\wandb\\run-20221016_102433-155iu2s1\\files\\model-best)... Done. 0.0s\n"
     ]
    },
    {
     "name": "stdout",
     "output_type": "stream",
     "text": [
      "5/5 [==============================] - 4s 900ms/step - loss: 0.0017 - mae: 0.0324 - val_loss: 0.0036 - val_mae: 0.0476\n",
      "Epoch 955/1000\n",
      "5/5 [==============================] - 0s 77ms/step - loss: 0.0017 - mae: 0.0330 - val_loss: 0.0037 - val_mae: 0.0486\n",
      "Epoch 956/1000\n",
      "5/5 [==============================] - 0s 55ms/step - loss: 0.0017 - mae: 0.0332 - val_loss: 0.0038 - val_mae: 0.0493\n",
      "Epoch 957/1000\n",
      "5/5 [==============================] - 0s 47ms/step - loss: 0.0017 - mae: 0.0334 - val_loss: 0.0037 - val_mae: 0.0479\n",
      "Epoch 958/1000\n",
      "5/5 [==============================] - 0s 37ms/step - loss: 0.0017 - mae: 0.0328 - val_loss: 0.0039 - val_mae: 0.0490\n",
      "Epoch 959/1000\n",
      "5/5 [==============================] - 0s 33ms/step - loss: 0.0017 - mae: 0.0336 - val_loss: 0.0039 - val_mae: 0.0494\n",
      "Epoch 960/1000\n",
      "5/5 [==============================] - 0s 31ms/step - loss: 0.0017 - mae: 0.0334 - val_loss: 0.0037 - val_mae: 0.0483\n",
      "Epoch 961/1000\n",
      "5/5 [==============================] - 0s 31ms/step - loss: 0.0017 - mae: 0.0328 - val_loss: 0.0037 - val_mae: 0.0475\n",
      "Epoch 962/1000\n",
      "5/5 [==============================] - 0s 30ms/step - loss: 0.0017 - mae: 0.0330 - val_loss: 0.0038 - val_mae: 0.0482\n",
      "Epoch 963/1000\n",
      "5/5 [==============================] - 0s 30ms/step - loss: 0.0017 - mae: 0.0335 - val_loss: 0.0036 - val_mae: 0.0475\n",
      "Epoch 964/1000\n",
      "5/5 [==============================] - 0s 31ms/step - loss: 0.0016 - mae: 0.0326 - val_loss: 0.0037 - val_mae: 0.0483\n",
      "Epoch 965/1000\n",
      "5/5 [==============================] - 0s 31ms/step - loss: 0.0016 - mae: 0.0323 - val_loss: 0.0037 - val_mae: 0.0479\n",
      "Epoch 966/1000\n",
      "5/5 [==============================] - 0s 30ms/step - loss: 0.0016 - mae: 0.0325 - val_loss: 0.0037 - val_mae: 0.0476\n",
      "Epoch 967/1000\n",
      "1/5 [=====>........................] - ETA: 0s - loss: 0.0015 - mae: 0.0319"
     ]
    },
    {
     "name": "stderr",
     "output_type": "stream",
     "text": [
      "WARNING:absl:Found untraced functions such as lstm_cell_layer_call_fn, lstm_cell_layer_call_and_return_conditional_losses while saving (showing 2 of 2). These functions will not be directly callable after loading.\n"
     ]
    },
    {
     "name": "stdout",
     "output_type": "stream",
     "text": [
      "INFO:tensorflow:Assets written to: C:\\Users\\PARK\\Documents\\LAB\\RNN vs LSTM\\FInal Example\\wandb\\run-20221016_102433-155iu2s1\\files\\model-best\\assets\n"
     ]
    },
    {
     "name": "stderr",
     "output_type": "stream",
     "text": [
      "INFO:tensorflow:Assets written to: C:\\Users\\PARK\\Documents\\LAB\\RNN vs LSTM\\FInal Example\\wandb\\run-20221016_102433-155iu2s1\\files\\model-best\\assets\n",
      "\u001b[34m\u001b[1mwandb\u001b[0m: Adding directory to artifact (C:\\Users\\PARK\\Documents\\LAB\\RNN vs LSTM\\FInal Example\\wandb\\run-20221016_102433-155iu2s1\\files\\model-best)... Done. 0.0s\n"
     ]
    },
    {
     "name": "stdout",
     "output_type": "stream",
     "text": [
      "5/5 [==============================] - 4s 921ms/step - loss: 0.0016 - mae: 0.0321 - val_loss: 0.0036 - val_mae: 0.0476\n",
      "Epoch 968/1000\n",
      "5/5 [==============================] - 0s 71ms/step - loss: 0.0016 - mae: 0.0319 - val_loss: 0.0037 - val_mae: 0.0480\n",
      "Epoch 969/1000\n",
      "5/5 [==============================] - 0s 52ms/step - loss: 0.0016 - mae: 0.0319 - val_loss: 0.0036 - val_mae: 0.0475\n",
      "Epoch 970/1000\n",
      "5/5 [==============================] - ETA: 0s - loss: 0.0016 - mae: 0.0318"
     ]
    },
    {
     "name": "stderr",
     "output_type": "stream",
     "text": [
      "WARNING:absl:Found untraced functions such as lstm_cell_layer_call_fn, lstm_cell_layer_call_and_return_conditional_losses while saving (showing 2 of 2). These functions will not be directly callable after loading.\n"
     ]
    },
    {
     "name": "stdout",
     "output_type": "stream",
     "text": [
      "INFO:tensorflow:Assets written to: C:\\Users\\PARK\\Documents\\LAB\\RNN vs LSTM\\FInal Example\\wandb\\run-20221016_102433-155iu2s1\\files\\model-best\\assets\n"
     ]
    },
    {
     "name": "stderr",
     "output_type": "stream",
     "text": [
      "INFO:tensorflow:Assets written to: C:\\Users\\PARK\\Documents\\LAB\\RNN vs LSTM\\FInal Example\\wandb\\run-20221016_102433-155iu2s1\\files\\model-best\\assets\n",
      "\u001b[34m\u001b[1mwandb\u001b[0m: Adding directory to artifact (C:\\Users\\PARK\\Documents\\LAB\\RNN vs LSTM\\FInal Example\\wandb\\run-20221016_102433-155iu2s1\\files\\model-best)... Done. 0.0s\n"
     ]
    },
    {
     "name": "stdout",
     "output_type": "stream",
     "text": [
      "5/5 [==============================] - 4s 882ms/step - loss: 0.0016 - mae: 0.0318 - val_loss: 0.0036 - val_mae: 0.0472\n",
      "Epoch 971/1000\n",
      "5/5 [==============================] - 0s 56ms/step - loss: 0.0016 - mae: 0.0320 - val_loss: 0.0037 - val_mae: 0.0481\n",
      "Epoch 972/1000\n",
      "1/5 [=====>........................] - ETA: 0s - loss: 0.0014 - mae: 0.0300"
     ]
    },
    {
     "name": "stderr",
     "output_type": "stream",
     "text": [
      "WARNING:absl:Found untraced functions such as lstm_cell_layer_call_fn, lstm_cell_layer_call_and_return_conditional_losses while saving (showing 2 of 2). These functions will not be directly callable after loading.\n"
     ]
    },
    {
     "name": "stdout",
     "output_type": "stream",
     "text": [
      "INFO:tensorflow:Assets written to: C:\\Users\\PARK\\Documents\\LAB\\RNN vs LSTM\\FInal Example\\wandb\\run-20221016_102433-155iu2s1\\files\\model-best\\assets\n"
     ]
    },
    {
     "name": "stderr",
     "output_type": "stream",
     "text": [
      "INFO:tensorflow:Assets written to: C:\\Users\\PARK\\Documents\\LAB\\RNN vs LSTM\\FInal Example\\wandb\\run-20221016_102433-155iu2s1\\files\\model-best\\assets\n",
      "\u001b[34m\u001b[1mwandb\u001b[0m: Adding directory to artifact (C:\\Users\\PARK\\Documents\\LAB\\RNN vs LSTM\\FInal Example\\wandb\\run-20221016_102433-155iu2s1\\files\\model-best)... Done. 0.0s\n"
     ]
    },
    {
     "name": "stdout",
     "output_type": "stream",
     "text": [
      "5/5 [==============================] - 4s 939ms/step - loss: 0.0015 - mae: 0.0315 - val_loss: 0.0036 - val_mae: 0.0472\n",
      "Epoch 973/1000\n",
      "5/5 [==============================] - 0s 69ms/step - loss: 0.0015 - mae: 0.0317 - val_loss: 0.0036 - val_mae: 0.0477\n",
      "Epoch 974/1000\n",
      "5/5 [==============================] - 0s 50ms/step - loss: 0.0015 - mae: 0.0311 - val_loss: 0.0037 - val_mae: 0.0479\n",
      "Epoch 975/1000\n",
      "1/5 [=====>........................] - ETA: 0s - loss: 0.0015 - mae: 0.0312"
     ]
    },
    {
     "name": "stderr",
     "output_type": "stream",
     "text": [
      "WARNING:absl:Found untraced functions such as lstm_cell_layer_call_fn, lstm_cell_layer_call_and_return_conditional_losses while saving (showing 2 of 2). These functions will not be directly callable after loading.\n"
     ]
    },
    {
     "name": "stdout",
     "output_type": "stream",
     "text": [
      "INFO:tensorflow:Assets written to: C:\\Users\\PARK\\Documents\\LAB\\RNN vs LSTM\\FInal Example\\wandb\\run-20221016_102433-155iu2s1\\files\\model-best\\assets\n"
     ]
    },
    {
     "name": "stderr",
     "output_type": "stream",
     "text": [
      "INFO:tensorflow:Assets written to: C:\\Users\\PARK\\Documents\\LAB\\RNN vs LSTM\\FInal Example\\wandb\\run-20221016_102433-155iu2s1\\files\\model-best\\assets\n",
      "\u001b[34m\u001b[1mwandb\u001b[0m: Adding directory to artifact (C:\\Users\\PARK\\Documents\\LAB\\RNN vs LSTM\\FInal Example\\wandb\\run-20221016_102433-155iu2s1\\files\\model-best)... Done. 0.0s\n"
     ]
    },
    {
     "name": "stdout",
     "output_type": "stream",
     "text": [
      "5/5 [==============================] - 4s 910ms/step - loss: 0.0015 - mae: 0.0315 - val_loss: 0.0036 - val_mae: 0.0471\n",
      "Epoch 976/1000\n",
      "5/5 [==============================] - 0s 71ms/step - loss: 0.0015 - mae: 0.0316 - val_loss: 0.0037 - val_mae: 0.0485\n",
      "Epoch 977/1000\n",
      "5/5 [==============================] - 0s 51ms/step - loss: 0.0016 - mae: 0.0321 - val_loss: 0.0036 - val_mae: 0.0476\n",
      "Epoch 978/1000\n",
      "5/5 [==============================] - ETA: 0s - loss: 0.0016 - mae: 0.0325"
     ]
    },
    {
     "name": "stderr",
     "output_type": "stream",
     "text": [
      "WARNING:absl:Found untraced functions such as lstm_cell_layer_call_fn, lstm_cell_layer_call_and_return_conditional_losses while saving (showing 2 of 2). These functions will not be directly callable after loading.\n"
     ]
    },
    {
     "name": "stdout",
     "output_type": "stream",
     "text": [
      "INFO:tensorflow:Assets written to: C:\\Users\\PARK\\Documents\\LAB\\RNN vs LSTM\\FInal Example\\wandb\\run-20221016_102433-155iu2s1\\files\\model-best\\assets\n"
     ]
    },
    {
     "name": "stderr",
     "output_type": "stream",
     "text": [
      "INFO:tensorflow:Assets written to: C:\\Users\\PARK\\Documents\\LAB\\RNN vs LSTM\\FInal Example\\wandb\\run-20221016_102433-155iu2s1\\files\\model-best\\assets\n",
      "\u001b[34m\u001b[1mwandb\u001b[0m: Adding directory to artifact (C:\\Users\\PARK\\Documents\\LAB\\RNN vs LSTM\\FInal Example\\wandb\\run-20221016_102433-155iu2s1\\files\\model-best)... Done. 0.0s\n"
     ]
    },
    {
     "name": "stdout",
     "output_type": "stream",
     "text": [
      "5/5 [==============================] - 4s 884ms/step - loss: 0.0016 - mae: 0.0325 - val_loss: 0.0035 - val_mae: 0.0470\n",
      "Epoch 979/1000\n",
      "5/5 [==============================] - 0s 57ms/step - loss: 0.0015 - mae: 0.0315 - val_loss: 0.0037 - val_mae: 0.0474\n",
      "Epoch 980/1000\n",
      "1/5 [=====>........................] - ETA: 0s - loss: 0.0015 - mae: 0.0318"
     ]
    },
    {
     "name": "stderr",
     "output_type": "stream",
     "text": [
      "WARNING:absl:Found untraced functions such as lstm_cell_layer_call_fn, lstm_cell_layer_call_and_return_conditional_losses while saving (showing 2 of 2). These functions will not be directly callable after loading.\n"
     ]
    },
    {
     "name": "stdout",
     "output_type": "stream",
     "text": [
      "INFO:tensorflow:Assets written to: C:\\Users\\PARK\\Documents\\LAB\\RNN vs LSTM\\FInal Example\\wandb\\run-20221016_102433-155iu2s1\\files\\model-best\\assets\n"
     ]
    },
    {
     "name": "stderr",
     "output_type": "stream",
     "text": [
      "INFO:tensorflow:Assets written to: C:\\Users\\PARK\\Documents\\LAB\\RNN vs LSTM\\FInal Example\\wandb\\run-20221016_102433-155iu2s1\\files\\model-best\\assets\n",
      "\u001b[34m\u001b[1mwandb\u001b[0m: Adding directory to artifact (C:\\Users\\PARK\\Documents\\LAB\\RNN vs LSTM\\FInal Example\\wandb\\run-20221016_102433-155iu2s1\\files\\model-best)... Done. 0.0s\n"
     ]
    },
    {
     "name": "stdout",
     "output_type": "stream",
     "text": [
      "5/5 [==============================] - 4s 931ms/step - loss: 0.0015 - mae: 0.0311 - val_loss: 0.0035 - val_mae: 0.0469\n",
      "Epoch 981/1000\n",
      "5/5 [==============================] - 0s 60ms/step - loss: 0.0015 - mae: 0.0311 - val_loss: 0.0036 - val_mae: 0.0475\n",
      "Epoch 982/1000\n",
      "5/5 [==============================] - 0s 26ms/step - loss: 0.0015 - mae: 0.0315 - val_loss: 0.0036 - val_mae: 0.0477\n",
      "Epoch 983/1000\n",
      "5/5 [==============================] - 0s 26ms/step - loss: 0.0016 - mae: 0.0320 - val_loss: 0.0037 - val_mae: 0.0470\n",
      "Epoch 984/1000\n",
      "5/5 [==============================] - 0s 26ms/step - loss: 0.0016 - mae: 0.0320 - val_loss: 0.0037 - val_mae: 0.0480\n",
      "Epoch 985/1000\n",
      "5/5 [==============================] - 0s 26ms/step - loss: 0.0017 - mae: 0.0330 - val_loss: 0.0036 - val_mae: 0.0473\n",
      "Epoch 986/1000\n",
      "5/5 [==============================] - 0s 26ms/step - loss: 0.0016 - mae: 0.0316 - val_loss: 0.0036 - val_mae: 0.0469\n",
      "Epoch 987/1000\n",
      "5/5 [==============================] - 0s 26ms/step - loss: 0.0016 - mae: 0.0317 - val_loss: 0.0037 - val_mae: 0.0482\n",
      "Epoch 988/1000\n",
      "5/5 [==============================] - 0s 27ms/step - loss: 0.0015 - mae: 0.0312 - val_loss: 0.0037 - val_mae: 0.0476\n",
      "Epoch 989/1000\n",
      "5/5 [==============================] - 0s 26ms/step - loss: 0.0015 - mae: 0.0312 - val_loss: 0.0036 - val_mae: 0.0477\n",
      "Epoch 990/1000\n",
      "5/5 [==============================] - 0s 26ms/step - loss: 0.0015 - mae: 0.0313 - val_loss: 0.0036 - val_mae: 0.0471\n",
      "Epoch 991/1000\n",
      "5/5 [==============================] - 0s 27ms/step - loss: 0.0015 - mae: 0.0317 - val_loss: 0.0036 - val_mae: 0.0478\n",
      "Epoch 992/1000\n",
      "5/5 [==============================] - 0s 27ms/step - loss: 0.0015 - mae: 0.0309 - val_loss: 0.0035 - val_mae: 0.0463\n",
      "Epoch 993/1000\n",
      "5/5 [==============================] - 0s 26ms/step - loss: 0.0015 - mae: 0.0310 - val_loss: 0.0035 - val_mae: 0.0470\n",
      "Epoch 994/1000\n",
      "5/5 [==============================] - 0s 26ms/step - loss: 0.0015 - mae: 0.0308 - val_loss: 0.0036 - val_mae: 0.0474\n",
      "Epoch 995/1000\n",
      "5/5 [==============================] - 0s 26ms/step - loss: 0.0015 - mae: 0.0309 - val_loss: 0.0036 - val_mae: 0.0473\n",
      "Epoch 996/1000\n",
      "5/5 [==============================] - 0s 26ms/step - loss: 0.0016 - mae: 0.0322 - val_loss: 0.0040 - val_mae: 0.0486\n",
      "Epoch 997/1000\n",
      "5/5 [==============================] - 0s 29ms/step - loss: 0.0017 - mae: 0.0324 - val_loss: 0.0035 - val_mae: 0.0468\n",
      "Epoch 998/1000\n",
      "5/5 [==============================] - 0s 29ms/step - loss: 0.0016 - mae: 0.0318 - val_loss: 0.0041 - val_mae: 0.0511\n",
      "Epoch 999/1000\n",
      "5/5 [==============================] - 0s 28ms/step - loss: 0.0017 - mae: 0.0333 - val_loss: 0.0036 - val_mae: 0.0467\n",
      "Epoch 1000/1000\n",
      "5/5 [==============================] - 0s 28ms/step - loss: 0.0016 - mae: 0.0326 - val_loss: 0.0037 - val_mae: 0.0476\n"
     ]
    }
   ],
   "source": [
    "from tensorflow.keras import datasets, layers, models\n",
    "from tensorflow import keras\n",
    "from tensorflow.keras import layers\n",
    "\n",
    "model = models.Sequential()\n",
    "model.add(layers.LSTM(128, input_shape=(time_step,2)))\n",
    "model.add(layers.Dense(25))\n",
    "\n",
    "model.summary()\n",
    "\n",
    "model.compile(optimizer='adam', loss='mse', metrics=['mae'])\n",
    "\n",
    "history = model.fit(train_input, train_label, epochs=1000, verbose=1, shuffle=True, validation_split=0.20,\n",
    "                   callbacks=[WandbCallback(log_weights=True, log_gradients=True, training_data=(train_input, train_label))])"
   ]
  },
  {
   "cell_type": "code",
   "execution_count": 17,
   "id": "f2977e3d",
   "metadata": {},
   "outputs": [
    {
     "name": "stdout",
     "output_type": "stream",
     "text": [
      "1/1 [==============================] - 0s 206ms/step\n"
     ]
    }
   ],
   "source": [
    "test_input = test_input.reshape(1, test_input.shape[0], test_input.shape[1])\n",
    "\n",
    "y_hat = model.predict(test_input)"
   ]
  },
  {
   "cell_type": "code",
   "execution_count": 18,
   "id": "569d2b27",
   "metadata": {},
   "outputs": [
    {
     "data": {
      "text/plain": [
       "(1, 100, 2)"
      ]
     },
     "execution_count": 18,
     "metadata": {},
     "output_type": "execute_result"
    }
   ],
   "source": [
    "test_input.shape"
   ]
  },
  {
   "cell_type": "code",
   "execution_count": 19,
   "id": "6b083de8",
   "metadata": {},
   "outputs": [],
   "source": [
    "test_label = test_label.reshape(1, test_label.shape[0], test_label.shape[1])"
   ]
  },
  {
   "cell_type": "code",
   "execution_count": 20,
   "id": "54e7a073",
   "metadata": {},
   "outputs": [
    {
     "data": {
      "text/plain": [
       "(1, 25, 1)"
      ]
     },
     "execution_count": 20,
     "metadata": {},
     "output_type": "execute_result"
    }
   ],
   "source": [
    "test_label.shape"
   ]
  },
  {
   "cell_type": "code",
   "execution_count": 21,
   "id": "b3e0c133",
   "metadata": {},
   "outputs": [
    {
     "data": {
      "text/plain": [
       "array([[1.0467528, 1.0844146, 1.7150682, 1.7529649, 1.7228864, 1.9675739,\n",
       "        1.5565822, 1.7414303, 1.7954341, 1.6983678, 1.8038535, 2.2162194,\n",
       "        1.030061 , 1.2268265, 1.6955736, 1.7323401, 1.8646849, 2.240835 ,\n",
       "        1.6810235, 1.9839102, 1.9648559, 1.7742708, 2.0626116, 2.246688 ,\n",
       "        1.123475 ]], dtype=float32)"
      ]
     },
     "execution_count": 21,
     "metadata": {},
     "output_type": "execute_result"
    }
   ],
   "source": [
    "y_hat"
   ]
  },
  {
   "cell_type": "code",
   "execution_count": 22,
   "id": "e37311d1",
   "metadata": {},
   "outputs": [
    {
     "data": {
      "text/plain": [
       "(1, 25)"
      ]
     },
     "execution_count": 22,
     "metadata": {},
     "output_type": "execute_result"
    }
   ],
   "source": [
    "y_hat.shape"
   ]
  },
  {
   "cell_type": "code",
   "execution_count": 23,
   "id": "ad0f0285",
   "metadata": {},
   "outputs": [],
   "source": [
    "y_hat = y_hat.reshape(y_hat.shape[1], 1)"
   ]
  },
  {
   "cell_type": "code",
   "execution_count": 24,
   "id": "69ea1f6f",
   "metadata": {},
   "outputs": [],
   "source": [
    "y_hat = (y_hat*data_std)+data_mean"
   ]
  },
  {
   "cell_type": "code",
   "execution_count": 25,
   "id": "702f2214",
   "metadata": {},
   "outputs": [],
   "source": [
    "#print(scaler.data_max_)"
   ]
  },
  {
   "cell_type": "code",
   "execution_count": 26,
   "id": "1ca1a387",
   "metadata": {},
   "outputs": [],
   "source": [
    "#print(scaler.data_min_)"
   ]
  },
  {
   "cell_type": "code",
   "execution_count": 27,
   "id": "5e40982b",
   "metadata": {},
   "outputs": [],
   "source": [
    "#y_hat = y_hat * (scaler.data_max_[1]-scaler.data_min_[1]) + scaler.data_min_[1]"
   ]
  },
  {
   "cell_type": "code",
   "execution_count": 28,
   "id": "902bb0d7",
   "metadata": {},
   "outputs": [
    {
     "data": {
      "text/plain": [
       "Text(0.5, 1.0, 'LSTM prediction')"
      ]
     },
     "execution_count": 28,
     "metadata": {},
     "output_type": "execute_result"
    },
    {
     "data": {
      "image/png": "[encoded data removed]",
      "text/plain": [
       "<Figure size 1008x576 with 1 Axes>"
      ]
     },
     "metadata": {
      "needs_background": "light"
     },
     "output_type": "display_data"
    }
   ],
   "source": [
    "import matplotlib.pyplot as plt\n",
    "\n",
    "x = range(325)\n",
    "plt.figure(figsize=(14,8))\n",
    "plt.plot(df[300:325]['Sales'], label='original')\n",
    "plt.plot(x[300:325], y_hat, label='prediction')\n",
    "plt.legend()\n",
    "plt.xlabel('Sequence', fontsize=20)\n",
    "plt.ylabel('Sales', fontsize=20)\n",
    "plt.title('LSTM prediction', fontsize=25)"
   ]
  },
  {
   "cell_type": "code",
   "execution_count": 29,
   "id": "051887d3",
   "metadata": {
    "scrolled": true
   },
   "outputs": [
    {
     "name": "stdout",
     "output_type": "stream",
     "text": [
      "1/1 [==============================] - 0s 13ms/step - loss: 0.0901 - mae: 0.2638\n"
     ]
    },
    {
     "data": {
      "text/plain": [
       "[0.09013458341360092, 0.26380518078804016]"
      ]
     },
     "execution_count": 29,
     "metadata": {},
     "output_type": "execute_result"
    }
   ],
   "source": [
    "model.evaluate(test_input, test_label)"
   ]
  },
  {
   "cell_type": "code",
   "execution_count": null,
   "id": "2819448e",
   "metadata": {},
   "outputs": [],
   "source": []
  }
 ],
 "metadata": {
  "kernelspec": {
   "display_name": "Python 3 (ipykernel)",
   "language": "python",
   "name": "python3"
  },
  "language_info": {
   "codemirror_mode": {
    "name": "ipython",
    "version": 3
   },
   "file_extension": ".py",
   "mimetype": "text/x-python",
   "name": "python",
   "nbconvert_exporter": "python",
   "pygments_lexer": "ipython3",
   "version": "3.9.12"
  }
 },
 "nbformat": 4,
 "nbformat_minor": 5
}
