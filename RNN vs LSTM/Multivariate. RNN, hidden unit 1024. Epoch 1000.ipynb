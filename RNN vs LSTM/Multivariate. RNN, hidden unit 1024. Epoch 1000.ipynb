{
 "cells": [
  {
   "cell_type": "code",
   "execution_count": 1,
   "id": "096c1eb9",
   "metadata": {},
   "outputs": [
    {
     "name": "stderr",
     "output_type": "stream",
     "text": [
      "\u001b[34m\u001b[1mwandb\u001b[0m: Currently logged in as: \u001b[33mjintae\u001b[0m. Use \u001b[1m`wandb login --relogin`\u001b[0m to force relogin\n"
     ]
    },
    {
     "data": {
      "text/html": [
       "Tracking run with wandb version 0.13.4"
      ],
      "text/plain": [
       "<IPython.core.display.HTML object>"
      ]
     },
     "metadata": {},
     "output_type": "display_data"
    },
    {
     "data": {
      "text/html": [
       "Run data is saved locally in <code>C:\\Users\\PARK\\Documents\\LAB\\RNN vs LSTM\\FInal Example\\wandb\\run-20221015_200538-5remc85i</code>"
      ],
      "text/plain": [
       "<IPython.core.display.HTML object>"
      ]
     },
     "metadata": {},
     "output_type": "display_data"
    },
    {
     "data": {
      "text/html": [
       "Syncing run <strong><a href=\"https://wandb.ai/jintae/RNN%20seq%201024./runs/5remc85i\" target=\"_blank\">epoch 1000</a></strong> to <a href=\"https://wandb.ai/jintae/RNN%20seq%201024.\" target=\"_blank\">Weights & Biases</a> (<a href=\"https://wandb.me/run\" target=\"_blank\">docs</a>)<br/>"
      ],
      "text/plain": [
       "<IPython.core.display.HTML object>"
      ]
     },
     "metadata": {},
     "output_type": "display_data"
    },
    {
     "data": {
      "text/html": [
       "<button onClick=\"this.nextSibling.style.display='block';this.style.display='none';\">Display W&B run</button><iframe src=\"https://wandb.ai/jintae/RNN%20seq%201024./runs/5remc85i?jupyter=true\" style=\"border:none;width:100%;height:420px;display:none;\"></iframe>"
      ],
      "text/plain": [
       "<wandb.sdk.wandb_run.Run at 0x286c4b43af0>"
      ]
     },
     "execution_count": 1,
     "metadata": {},
     "output_type": "execute_result"
    }
   ],
   "source": [
    "import wandb\n",
    "from wandb.keras import WandbCallback\n",
    "wandb.init(project=\"RNN seq 1024.\", name=\"epoch 1000\")"
   ]
  },
  {
   "cell_type": "code",
   "execution_count": 2,
   "id": "650bae84",
   "metadata": {},
   "outputs": [
    {
     "name": "stdout",
     "output_type": "stream",
     "text": [
      "   DATE  Sales\n",
      "0     0   3459\n",
      "1     1   3458\n",
      "2     2   4002\n",
      "3     3   4564\n",
      "4     4   4221\n"
     ]
    }
   ],
   "source": [
    "import pandas as pd\n",
    "\n",
    "df = pd.read_csv('C:/Users/PARK/Desktop/Alcohol_Sales.csv')\n",
    "print(df.head())"
   ]
  },
  {
   "cell_type": "code",
   "execution_count": 3,
   "id": "71e18e17",
   "metadata": {},
   "outputs": [
    {
     "data": {
      "text/plain": [
       "(325, 2)"
      ]
     },
     "execution_count": 3,
     "metadata": {},
     "output_type": "execute_result"
    }
   ],
   "source": [
    "df.shape"
   ]
  },
  {
   "cell_type": "code",
   "execution_count": 4,
   "id": "5f4f8fb7",
   "metadata": {},
   "outputs": [],
   "source": [
    "import numpy as np\n",
    "\n",
    "data = df.to_numpy()"
   ]
  },
  {
   "cell_type": "code",
   "execution_count": 5,
   "id": "c6063052",
   "metadata": {},
   "outputs": [
    {
     "data": {
      "text/plain": [
       "(325, 2)"
      ]
     },
     "execution_count": 5,
     "metadata": {},
     "output_type": "execute_result"
    }
   ],
   "source": [
    "data.shape"
   ]
  },
  {
   "cell_type": "code",
   "execution_count": 6,
   "id": "01930485",
   "metadata": {},
   "outputs": [
    {
     "data": {
      "text/plain": [
       "array([[   0, 3459],\n",
       "       [   1, 3458],\n",
       "       [   2, 4002],\n",
       "       [   3, 4564],\n",
       "       [   4, 4221]], dtype=int64)"
      ]
     },
     "execution_count": 6,
     "metadata": {},
     "output_type": "execute_result"
    }
   ],
   "source": [
    "data[0:5]"
   ]
  },
  {
   "cell_type": "code",
   "execution_count": 7,
   "id": "ad83b404",
   "metadata": {},
   "outputs": [],
   "source": [
    "# from sklearn.preprocessing import MinMaxScaler\n",
    "\n",
    "# scaler = MinMaxScaler()\n",
    "\n",
    "# data = scaler.fit_transform(data)"
   ]
  },
  {
   "cell_type": "code",
   "execution_count": 8,
   "id": "17aef2ea",
   "metadata": {},
   "outputs": [],
   "source": [
    "data_mean = data.mean()\n",
    "data_std = data.std()\n",
    "\n",
    "data = (data - data_mean)/data_std"
   ]
  },
  {
   "cell_type": "code",
   "execution_count": 9,
   "id": "63fe0032",
   "metadata": {},
   "outputs": [
    {
     "data": {
      "text/plain": [
       "array([[-0.9194862 , -0.12914209],\n",
       "       [-0.91925771, -0.12937058],\n",
       "       [-0.91902922, -0.00507246],\n",
       "       [-0.91880073,  0.12333846],\n",
       "       [-0.91857224,  0.04496667]])"
      ]
     },
     "execution_count": 9,
     "metadata": {},
     "output_type": "execute_result"
    }
   ],
   "source": [
    "data[0:5]"
   ]
  },
  {
   "cell_type": "code",
   "execution_count": 10,
   "id": "87ac24ef",
   "metadata": {
    "scrolled": true
   },
   "outputs": [],
   "source": [
    "train_input = []\n",
    "train_label = []\n",
    "\n",
    "data_len = 325\n",
    "time_step = 100\n",
    "out_dim = 25\n",
    "\n",
    "for i in range(176):\n",
    "    _input = data[i:i+time_step]\n",
    "    _label = data[i+time_step:i+time_step+out_dim]\n",
    "    \n",
    "    train_input.append(_input)\n",
    "    train_label.append(_label)\n",
    "    \n",
    "\n",
    "train_input = np.array(train_input)\n",
    "train_label = np.array(train_label)\n",
    "train_label = np.delete(train_label, 0, axis=2)\n",
    "\n",
    "\n",
    "test_input = np.array(data[data_len-out_dim-time_step:data_len-out_dim])\n",
    "test_label =np.array(data[300:325])\n",
    "test_label = np.delete(test_label, 0, axis=1)"
   ]
  },
  {
   "cell_type": "code",
   "execution_count": 11,
   "id": "41975dc7",
   "metadata": {},
   "outputs": [
    {
     "data": {
      "text/plain": [
       "(176, 100, 2)"
      ]
     },
     "execution_count": 11,
     "metadata": {},
     "output_type": "execute_result"
    }
   ],
   "source": [
    "train_input.shape"
   ]
  },
  {
   "cell_type": "code",
   "execution_count": 12,
   "id": "b762c3ba",
   "metadata": {},
   "outputs": [
    {
     "data": {
      "text/plain": [
       "(176, 25, 1)"
      ]
     },
     "execution_count": 12,
     "metadata": {},
     "output_type": "execute_result"
    }
   ],
   "source": [
    "train_label.shape"
   ]
  },
  {
   "cell_type": "code",
   "execution_count": 13,
   "id": "127c63a2",
   "metadata": {},
   "outputs": [
    {
     "data": {
      "text/plain": [
       "(100, 2)"
      ]
     },
     "execution_count": 13,
     "metadata": {},
     "output_type": "execute_result"
    }
   ],
   "source": [
    "test_input.shape"
   ]
  },
  {
   "cell_type": "code",
   "execution_count": 14,
   "id": "6647472d",
   "metadata": {},
   "outputs": [
    {
     "data": {
      "text/plain": [
       "(25, 1)"
      ]
     },
     "execution_count": 14,
     "metadata": {},
     "output_type": "execute_result"
    }
   ],
   "source": [
    "test_label.shape"
   ]
  },
  {
   "cell_type": "code",
   "execution_count": 15,
   "id": "5d83c07f",
   "metadata": {},
   "outputs": [],
   "source": [
    "np.random.seed(10)\n",
    "shuffled_indices = np.random.permutation(np.arange(train_input.shape[0]))\n",
    "train_input = train_input[shuffled_indices, :, :]\n",
    "train_label = train_label[shuffled_indices, :]"
   ]
  },
  {
   "cell_type": "code",
   "execution_count": 16,
   "id": "a183926e",
   "metadata": {
    "scrolled": true
   },
   "outputs": [
    {
     "name": "stdout",
     "output_type": "stream",
     "text": [
      "Model: \"sequential\"\n",
      "_________________________________________________________________\n",
      " Layer (type)                Output Shape              Param #   \n",
      "=================================================================\n",
      " simple_rnn (SimpleRNN)      (None, 1024)              1051648   \n",
      "                                                                 \n",
      " dense (Dense)               (None, 25)                25625     \n",
      "                                                                 \n",
      "=================================================================\n",
      "Total params: 1,077,273\n",
      "Trainable params: 1,077,273\n",
      "Non-trainable params: 0\n",
      "_________________________________________________________________\n"
     ]
    },
    {
     "name": "stderr",
     "output_type": "stream",
     "text": [
      "\u001b[34m\u001b[1mwandb\u001b[0m: \u001b[33mWARNING\u001b[0m The save_model argument by default saves the model in the HDF5 format that cannot save custom objects like subclassed models and custom layers. This behavior will be deprecated in a future release in favor of the SavedModel format. Meanwhile, the HDF5 model is saved as W&B files and the SavedModel as W&B Artifacts.\n"
     ]
    },
    {
     "name": "stdout",
     "output_type": "stream",
     "text": [
      "Epoch 1/1000\n",
      "4/5 [=======================>......] - ETA: 0s - loss: 1.5992 - mae: 1.0278INFO:tensorflow:Assets written to: C:\\Users\\PARK\\Documents\\LAB\\RNN vs LSTM\\FInal Example\\wandb\\run-20221015_200538-5remc85i\\files\\model-best\\assets\n"
     ]
    },
    {
     "name": "stderr",
     "output_type": "stream",
     "text": [
      "\u001b[34m\u001b[1mwandb\u001b[0m: Adding directory to artifact (C:\\Users\\PARK\\Documents\\LAB\\RNN vs LSTM\\FInal Example\\wandb\\run-20221015_200538-5remc85i\\files\\model-best)... Done. 0.1s\n"
     ]
    },
    {
     "name": "stdout",
     "output_type": "stream",
     "text": [
      "5/5 [==============================] - 4s 689ms/step - loss: 1.7997 - mae: 1.0925 - val_loss: 2.2796 - val_mae: 1.2486\n",
      "Epoch 2/1000\n",
      "5/5 [==============================] - 1s 146ms/step - loss: 3.0782 - mae: 1.4142 - val_loss: 3.4510 - val_mae: 1.6681\n",
      "Epoch 3/1000\n",
      "5/5 [==============================] - ETA: 0s - loss: 1.7261 - mae: 1.1030INFO:tensorflow:Assets written to: C:\\Users\\PARK\\Documents\\LAB\\RNN vs LSTM\\FInal Example\\wandb\\run-20221015_200538-5remc85i\\files\\model-best\\assets\n"
     ]
    },
    {
     "name": "stderr",
     "output_type": "stream",
     "text": [
      "\u001b[34m\u001b[1mwandb\u001b[0m: Adding directory to artifact (C:\\Users\\PARK\\Documents\\LAB\\RNN vs LSTM\\FInal Example\\wandb\\run-20221015_200538-5remc85i\\files\\model-best)... Done. 0.1s\n"
     ]
    },
    {
     "name": "stdout",
     "output_type": "stream",
     "text": [
      "5/5 [==============================] - 2s 540ms/step - loss: 1.7261 - mae: 1.1030 - val_loss: 0.4300 - val_mae: 0.5336\n",
      "Epoch 4/1000\n",
      "4/5 [=======================>......] - ETA: 0s - loss: 0.9942 - mae: 0.8352INFO:tensorflow:Assets written to: C:\\Users\\PARK\\Documents\\LAB\\RNN vs LSTM\\FInal Example\\wandb\\run-20221015_200538-5remc85i\\files\\model-best\\assets\n"
     ]
    },
    {
     "name": "stderr",
     "output_type": "stream",
     "text": [
      "\u001b[34m\u001b[1mwandb\u001b[0m: Adding directory to artifact (C:\\Users\\PARK\\Documents\\LAB\\RNN vs LSTM\\FInal Example\\wandb\\run-20221015_200538-5remc85i\\files\\model-best)... Done. 0.1s\n"
     ]
    },
    {
     "name": "stdout",
     "output_type": "stream",
     "text": [
      "5/5 [==============================] - 2s 527ms/step - loss: 0.9886 - mae: 0.8374 - val_loss: 0.3718 - val_mae: 0.4933\n",
      "Epoch 5/1000\n",
      "5/5 [==============================] - 1s 196ms/step - loss: 5.9287 - mae: 1.9185 - val_loss: 4.6993 - val_mae: 2.0313\n",
      "Epoch 6/1000\n",
      "5/5 [==============================] - 1s 149ms/step - loss: 1.8703 - mae: 1.1098 - val_loss: 1.7793 - val_mae: 1.2283\n",
      "Epoch 7/1000\n",
      "5/5 [==============================] - 1s 150ms/step - loss: 2.5741 - mae: 1.5032 - val_loss: 2.1084 - val_mae: 1.3080\n",
      "Epoch 8/1000\n",
      "5/5 [==============================] - 1s 152ms/step - loss: 1.1683 - mae: 0.8906 - val_loss: 0.4230 - val_mae: 0.5285\n",
      "Epoch 9/1000\n",
      "5/5 [==============================] - 1s 150ms/step - loss: 0.7107 - mae: 0.7176 - val_loss: 0.9013 - val_mae: 0.8196\n",
      "Epoch 10/1000\n",
      "5/5 [==============================] - ETA: 0s - loss: 0.6939 - mae: 0.6855INFO:tensorflow:Assets written to: C:\\Users\\PARK\\Documents\\LAB\\RNN vs LSTM\\FInal Example\\wandb\\run-20221015_200538-5remc85i\\files\\model-best\\assets\n"
     ]
    },
    {
     "name": "stderr",
     "output_type": "stream",
     "text": [
      "\u001b[34m\u001b[1mwandb\u001b[0m: Adding directory to artifact (C:\\Users\\PARK\\Documents\\LAB\\RNN vs LSTM\\FInal Example\\wandb\\run-20221015_200538-5remc85i\\files\\model-best)... Done. 0.0s\n"
     ]
    },
    {
     "name": "stdout",
     "output_type": "stream",
     "text": [
      "5/5 [==============================] - 2s 513ms/step - loss: 0.6939 - mae: 0.6855 - val_loss: 0.3122 - val_mae: 0.4543\n",
      "Epoch 11/1000\n",
      "5/5 [==============================] - 1s 182ms/step - loss: 0.3314 - mae: 0.4717 - val_loss: 0.4022 - val_mae: 0.5252\n",
      "Epoch 12/1000\n",
      "5/5 [==============================] - ETA: 0s - loss: 0.3594 - mae: 0.4915INFO:tensorflow:Assets written to: C:\\Users\\PARK\\Documents\\LAB\\RNN vs LSTM\\FInal Example\\wandb\\run-20221015_200538-5remc85i\\files\\model-best\\assets\n"
     ]
    },
    {
     "name": "stderr",
     "output_type": "stream",
     "text": [
      "\u001b[34m\u001b[1mwandb\u001b[0m: Adding directory to artifact (C:\\Users\\PARK\\Documents\\LAB\\RNN vs LSTM\\FInal Example\\wandb\\run-20221015_200538-5remc85i\\files\\model-best)... Done. 0.1s\n"
     ]
    },
    {
     "name": "stdout",
     "output_type": "stream",
     "text": [
      "5/5 [==============================] - 2s 519ms/step - loss: 0.3594 - mae: 0.4915 - val_loss: 0.2516 - val_mae: 0.4062\n",
      "Epoch 13/1000\n",
      "5/5 [==============================] - ETA: 0s - loss: 0.2313 - mae: 0.3924INFO:tensorflow:Assets written to: C:\\Users\\PARK\\Documents\\LAB\\RNN vs LSTM\\FInal Example\\wandb\\run-20221015_200538-5remc85i\\files\\model-best\\assets\n"
     ]
    },
    {
     "name": "stderr",
     "output_type": "stream",
     "text": [
      "\u001b[34m\u001b[1mwandb\u001b[0m: Adding directory to artifact (C:\\Users\\PARK\\Documents\\LAB\\RNN vs LSTM\\FInal Example\\wandb\\run-20221015_200538-5remc85i\\files\\model-best)... Done. 0.0s\n"
     ]
    },
    {
     "name": "stdout",
     "output_type": "stream",
     "text": [
      "5/5 [==============================] - 2s 546ms/step - loss: 0.2313 - mae: 0.3924 - val_loss: 0.2311 - val_mae: 0.3955\n",
      "Epoch 14/1000\n",
      "5/5 [==============================] - ETA: 0s - loss: 0.2346 - mae: 0.3927INFO:tensorflow:Assets written to: C:\\Users\\PARK\\Documents\\LAB\\RNN vs LSTM\\FInal Example\\wandb\\run-20221015_200538-5remc85i\\files\\model-best\\assets\n"
     ]
    },
    {
     "name": "stderr",
     "output_type": "stream",
     "text": [
      "\u001b[34m\u001b[1mwandb\u001b[0m: Adding directory to artifact (C:\\Users\\PARK\\Documents\\LAB\\RNN vs LSTM\\FInal Example\\wandb\\run-20221015_200538-5remc85i\\files\\model-best)... Done. 0.1s\n"
     ]
    },
    {
     "name": "stdout",
     "output_type": "stream",
     "text": [
      "5/5 [==============================] - 2s 507ms/step - loss: 0.2346 - mae: 0.3927 - val_loss: 0.2158 - val_mae: 0.3837\n",
      "Epoch 15/1000\n",
      "5/5 [==============================] - ETA: 0s - loss: 0.2000 - mae: 0.3675INFO:tensorflow:Assets written to: C:\\Users\\PARK\\Documents\\LAB\\RNN vs LSTM\\FInal Example\\wandb\\run-20221015_200538-5remc85i\\files\\model-best\\assets\n"
     ]
    },
    {
     "name": "stderr",
     "output_type": "stream",
     "text": [
      "\u001b[34m\u001b[1mwandb\u001b[0m: Adding directory to artifact (C:\\Users\\PARK\\Documents\\LAB\\RNN vs LSTM\\FInal Example\\wandb\\run-20221015_200538-5remc85i\\files\\model-best)... Done. 0.1s\n"
     ]
    },
    {
     "name": "stdout",
     "output_type": "stream",
     "text": [
      "5/5 [==============================] - 2s 506ms/step - loss: 0.2000 - mae: 0.3675 - val_loss: 0.1931 - val_mae: 0.3641\n",
      "Epoch 16/1000\n",
      "5/5 [==============================] - ETA: 0s - loss: 0.2002 - mae: 0.3705INFO:tensorflow:Assets written to: C:\\Users\\PARK\\Documents\\LAB\\RNN vs LSTM\\FInal Example\\wandb\\run-20221015_200538-5remc85i\\files\\model-best\\assets\n"
     ]
    },
    {
     "name": "stderr",
     "output_type": "stream",
     "text": [
      "\u001b[34m\u001b[1mwandb\u001b[0m: Adding directory to artifact (C:\\Users\\PARK\\Documents\\LAB\\RNN vs LSTM\\FInal Example\\wandb\\run-20221015_200538-5remc85i\\files\\model-best)... Done. 0.1s\n"
     ]
    },
    {
     "name": "stdout",
     "output_type": "stream",
     "text": [
      "5/5 [==============================] - 2s 579ms/step - loss: 0.2002 - mae: 0.3705 - val_loss: 0.1929 - val_mae: 0.3617\n",
      "Epoch 17/1000\n",
      "5/5 [==============================] - ETA: 0s - loss: 0.1922 - mae: 0.3635INFO:tensorflow:Assets written to: C:\\Users\\PARK\\Documents\\LAB\\RNN vs LSTM\\FInal Example\\wandb\\run-20221015_200538-5remc85i\\files\\model-best\\assets\n"
     ]
    },
    {
     "name": "stderr",
     "output_type": "stream",
     "text": [
      "\u001b[34m\u001b[1mwandb\u001b[0m: Adding directory to artifact (C:\\Users\\PARK\\Documents\\LAB\\RNN vs LSTM\\FInal Example\\wandb\\run-20221015_200538-5remc85i\\files\\model-best)... Done. 0.1s\n"
     ]
    },
    {
     "name": "stdout",
     "output_type": "stream",
     "text": [
      "5/5 [==============================] - 2s 528ms/step - loss: 0.1922 - mae: 0.3635 - val_loss: 0.1821 - val_mae: 0.3583\n",
      "Epoch 18/1000\n",
      "5/5 [==============================] - 1s 179ms/step - loss: 0.1837 - mae: 0.3551 - val_loss: 0.1840 - val_mae: 0.3581\n",
      "Epoch 19/1000\n",
      "5/5 [==============================] - ETA: 0s - loss: 0.1829 - mae: 0.3541INFO:tensorflow:Assets written to: C:\\Users\\PARK\\Documents\\LAB\\RNN vs LSTM\\FInal Example\\wandb\\run-20221015_200538-5remc85i\\files\\model-best\\assets\n"
     ]
    },
    {
     "name": "stderr",
     "output_type": "stream",
     "text": [
      "\u001b[34m\u001b[1mwandb\u001b[0m: Adding directory to artifact (C:\\Users\\PARK\\Documents\\LAB\\RNN vs LSTM\\FInal Example\\wandb\\run-20221015_200538-5remc85i\\files\\model-best)... Done. 0.1s\n"
     ]
    },
    {
     "name": "stdout",
     "output_type": "stream",
     "text": [
      "5/5 [==============================] - 2s 504ms/step - loss: 0.1829 - mae: 0.3541 - val_loss: 0.1797 - val_mae: 0.3534\n",
      "Epoch 20/1000\n",
      "5/5 [==============================] - ETA: 0s - loss: 0.1804 - mae: 0.3526INFO:tensorflow:Assets written to: C:\\Users\\PARK\\Documents\\LAB\\RNN vs LSTM\\FInal Example\\wandb\\run-20221015_200538-5remc85i\\files\\model-best\\assets\n"
     ]
    },
    {
     "name": "stderr",
     "output_type": "stream",
     "text": [
      "\u001b[34m\u001b[1mwandb\u001b[0m: Adding directory to artifact (C:\\Users\\PARK\\Documents\\LAB\\RNN vs LSTM\\FInal Example\\wandb\\run-20221015_200538-5remc85i\\files\\model-best)... Done. 0.1s\n"
     ]
    },
    {
     "name": "stdout",
     "output_type": "stream",
     "text": [
      "5/5 [==============================] - 2s 555ms/step - loss: 0.1804 - mae: 0.3526 - val_loss: 0.1785 - val_mae: 0.3524\n",
      "Epoch 21/1000\n",
      "5/5 [==============================] - ETA: 0s - loss: 0.1812 - mae: 0.3534INFO:tensorflow:Assets written to: C:\\Users\\PARK\\Documents\\LAB\\RNN vs LSTM\\FInal Example\\wandb\\run-20221015_200538-5remc85i\\files\\model-best\\assets\n"
     ]
    },
    {
     "name": "stderr",
     "output_type": "stream",
     "text": [
      "\u001b[34m\u001b[1mwandb\u001b[0m: Adding directory to artifact (C:\\Users\\PARK\\Documents\\LAB\\RNN vs LSTM\\FInal Example\\wandb\\run-20221015_200538-5remc85i\\files\\model-best)... Done. 0.1s\n"
     ]
    },
    {
     "name": "stdout",
     "output_type": "stream",
     "text": [
      "5/5 [==============================] - 2s 527ms/step - loss: 0.1812 - mae: 0.3534 - val_loss: 0.1782 - val_mae: 0.3546\n",
      "Epoch 22/1000\n",
      "5/5 [==============================] - 1s 178ms/step - loss: 0.1804 - mae: 0.3524 - val_loss: 0.1821 - val_mae: 0.3551\n",
      "Epoch 23/1000\n",
      "5/5 [==============================] - 1s 149ms/step - loss: 0.1817 - mae: 0.3535 - val_loss: 0.1783 - val_mae: 0.3517\n",
      "Epoch 24/1000\n",
      "4/5 [=======================>......] - ETA: 0s - loss: 0.1760 - mae: 0.3473INFO:tensorflow:Assets written to: C:\\Users\\PARK\\Documents\\LAB\\RNN vs LSTM\\FInal Example\\wandb\\run-20221015_200538-5remc85i\\files\\model-best\\assets\n"
     ]
    },
    {
     "name": "stderr",
     "output_type": "stream",
     "text": [
      "\u001b[34m\u001b[1mwandb\u001b[0m: Adding directory to artifact (C:\\Users\\PARK\\Documents\\LAB\\RNN vs LSTM\\FInal Example\\wandb\\run-20221015_200538-5remc85i\\files\\model-best)... Done. 0.1s\n"
     ]
    },
    {
     "name": "stdout",
     "output_type": "stream",
     "text": [
      "5/5 [==============================] - 2s 523ms/step - loss: 0.1804 - mae: 0.3527 - val_loss: 0.1771 - val_mae: 0.3525\n",
      "Epoch 25/1000\n",
      "5/5 [==============================] - 1s 175ms/step - loss: 0.1791 - mae: 0.3517 - val_loss: 0.1799 - val_mae: 0.3541\n",
      "Epoch 26/1000\n",
      "5/5 [==============================] - 1s 150ms/step - loss: 0.1796 - mae: 0.3519 - val_loss: 0.1778 - val_mae: 0.3534\n",
      "Epoch 27/1000\n",
      "5/5 [==============================] - 1s 143ms/step - loss: 0.1805 - mae: 0.3529 - val_loss: 0.1775 - val_mae: 0.3533\n",
      "Epoch 28/1000\n",
      "5/5 [==============================] - 1s 144ms/step - loss: 0.1789 - mae: 0.3516 - val_loss: 0.1790 - val_mae: 0.3519\n",
      "Epoch 29/1000\n",
      "5/5 [==============================] - 1s 150ms/step - loss: 0.1797 - mae: 0.3519 - val_loss: 0.1780 - val_mae: 0.3511\n",
      "Epoch 30/1000\n",
      "5/5 [==============================] - 1s 149ms/step - loss: 0.1810 - mae: 0.3534 - val_loss: 0.1782 - val_mae: 0.3543\n",
      "Epoch 31/1000\n",
      "5/5 [==============================] - 1s 151ms/step - loss: 0.1795 - mae: 0.3527 - val_loss: 0.1796 - val_mae: 0.3518\n",
      "Epoch 32/1000\n",
      "5/5 [==============================] - 1s 152ms/step - loss: 0.1824 - mae: 0.3537 - val_loss: 0.1786 - val_mae: 0.3523\n",
      "Epoch 33/1000\n",
      "5/5 [==============================] - ETA: 0s - loss: 0.1788 - mae: 0.3521INFO:tensorflow:Assets written to: C:\\Users\\PARK\\Documents\\LAB\\RNN vs LSTM\\FInal Example\\wandb\\run-20221015_200538-5remc85i\\files\\model-best\\assets\n"
     ]
    },
    {
     "name": "stderr",
     "output_type": "stream",
     "text": [
      "\u001b[34m\u001b[1mwandb\u001b[0m: Adding directory to artifact (C:\\Users\\PARK\\Documents\\LAB\\RNN vs LSTM\\FInal Example\\wandb\\run-20221015_200538-5remc85i\\files\\model-best)... Done. 0.1s\n"
     ]
    },
    {
     "name": "stdout",
     "output_type": "stream",
     "text": [
      "5/5 [==============================] - 2s 509ms/step - loss: 0.1788 - mae: 0.3521 - val_loss: 0.1770 - val_mae: 0.3524\n",
      "Epoch 34/1000\n",
      "5/5 [==============================] - ETA: 0s - loss: 0.1791 - mae: 0.3520INFO:tensorflow:Assets written to: C:\\Users\\PARK\\Documents\\LAB\\RNN vs LSTM\\FInal Example\\wandb\\run-20221015_200538-5remc85i\\files\\model-best\\assets\n"
     ]
    },
    {
     "name": "stderr",
     "output_type": "stream",
     "text": [
      "\u001b[34m\u001b[1mwandb\u001b[0m: Adding directory to artifact (C:\\Users\\PARK\\Documents\\LAB\\RNN vs LSTM\\FInal Example\\wandb\\run-20221015_200538-5remc85i\\files\\model-best)... Done. 0.0s\n"
     ]
    },
    {
     "name": "stdout",
     "output_type": "stream",
     "text": [
      "5/5 [==============================] - 2s 533ms/step - loss: 0.1791 - mae: 0.3520 - val_loss: 0.1765 - val_mae: 0.3512\n",
      "Epoch 35/1000\n",
      "5/5 [==============================] - 1s 160ms/step - loss: 0.1802 - mae: 0.3520 - val_loss: 0.1766 - val_mae: 0.3509\n",
      "Epoch 36/1000\n",
      "5/5 [==============================] - 1s 153ms/step - loss: 0.1799 - mae: 0.3523 - val_loss: 0.1784 - val_mae: 0.3510\n",
      "Epoch 37/1000\n",
      "5/5 [==============================] - 1s 155ms/step - loss: 0.1793 - mae: 0.3518 - val_loss: 0.1783 - val_mae: 0.3553\n",
      "Epoch 38/1000\n",
      "5/5 [==============================] - 1s 151ms/step - loss: 0.1816 - mae: 0.3541 - val_loss: 0.1773 - val_mae: 0.3517\n",
      "Epoch 39/1000\n",
      "5/5 [==============================] - 1s 149ms/step - loss: 0.1792 - mae: 0.3509 - val_loss: 0.1798 - val_mae: 0.3527\n",
      "Epoch 40/1000\n",
      "5/5 [==============================] - ETA: 0s - loss: 0.1789 - mae: 0.3508INFO:tensorflow:Assets written to: C:\\Users\\PARK\\Documents\\LAB\\RNN vs LSTM\\FInal Example\\wandb\\run-20221015_200538-5remc85i\\files\\model-best\\assets\n"
     ]
    },
    {
     "name": "stderr",
     "output_type": "stream",
     "text": [
      "\u001b[34m\u001b[1mwandb\u001b[0m: Adding directory to artifact (C:\\Users\\PARK\\Documents\\LAB\\RNN vs LSTM\\FInal Example\\wandb\\run-20221015_200538-5remc85i\\files\\model-best)... Done. 0.1s\n"
     ]
    },
    {
     "name": "stdout",
     "output_type": "stream",
     "text": [
      "5/5 [==============================] - 2s 499ms/step - loss: 0.1789 - mae: 0.3508 - val_loss: 0.1757 - val_mae: 0.3508\n",
      "Epoch 41/1000\n",
      "5/5 [==============================] - 1s 181ms/step - loss: 0.1809 - mae: 0.3542 - val_loss: 0.1773 - val_mae: 0.3533\n",
      "Epoch 42/1000\n",
      "5/5 [==============================] - ETA: 0s - loss: 0.1803 - mae: 0.3532INFO:tensorflow:Assets written to: C:\\Users\\PARK\\Documents\\LAB\\RNN vs LSTM\\FInal Example\\wandb\\run-20221015_200538-5remc85i\\files\\model-best\\assets\n"
     ]
    },
    {
     "name": "stderr",
     "output_type": "stream",
     "text": [
      "\u001b[34m\u001b[1mwandb\u001b[0m: Adding directory to artifact (C:\\Users\\PARK\\Documents\\LAB\\RNN vs LSTM\\FInal Example\\wandb\\run-20221015_200538-5remc85i\\files\\model-best)... Done. 0.1s\n"
     ]
    },
    {
     "name": "stdout",
     "output_type": "stream",
     "text": [
      "5/5 [==============================] - 2s 515ms/step - loss: 0.1803 - mae: 0.3532 - val_loss: 0.1756 - val_mae: 0.3521\n",
      "Epoch 43/1000\n",
      "5/5 [==============================] - 1s 167ms/step - loss: 0.1783 - mae: 0.3509 - val_loss: 0.1760 - val_mae: 0.3505\n",
      "Epoch 44/1000\n",
      "5/5 [==============================] - 1s 153ms/step - loss: 0.1789 - mae: 0.3515 - val_loss: 0.1767 - val_mae: 0.3495\n",
      "Epoch 45/1000\n",
      "5/5 [==============================] - 1s 151ms/step - loss: 0.1785 - mae: 0.3502 - val_loss: 0.1766 - val_mae: 0.3501\n",
      "Epoch 46/1000\n",
      "5/5 [==============================] - 1s 150ms/step - loss: 0.1803 - mae: 0.3530 - val_loss: 0.1758 - val_mae: 0.3507\n",
      "Epoch 47/1000\n",
      "5/5 [==============================] - 1s 151ms/step - loss: 0.1767 - mae: 0.3494 - val_loss: 0.1779 - val_mae: 0.3512\n",
      "Epoch 48/1000\n",
      "5/5 [==============================] - ETA: 0s - loss: 0.1806 - mae: 0.3532INFO:tensorflow:Assets written to: C:\\Users\\PARK\\Documents\\LAB\\RNN vs LSTM\\FInal Example\\wandb\\run-20221015_200538-5remc85i\\files\\model-best\\assets\n"
     ]
    },
    {
     "name": "stderr",
     "output_type": "stream",
     "text": [
      "\u001b[34m\u001b[1mwandb\u001b[0m: Adding directory to artifact (C:\\Users\\PARK\\Documents\\LAB\\RNN vs LSTM\\FInal Example\\wandb\\run-20221015_200538-5remc85i\\files\\model-best)... Done. 0.1s\n"
     ]
    },
    {
     "name": "stdout",
     "output_type": "stream",
     "text": [
      "5/5 [==============================] - 2s 531ms/step - loss: 0.1806 - mae: 0.3532 - val_loss: 0.1742 - val_mae: 0.3489\n",
      "Epoch 49/1000\n",
      "5/5 [==============================] - 1s 185ms/step - loss: 0.1844 - mae: 0.3549 - val_loss: 0.1770 - val_mae: 0.3502\n",
      "Epoch 50/1000\n",
      "5/5 [==============================] - 1s 145ms/step - loss: 0.1789 - mae: 0.3494 - val_loss: 0.1803 - val_mae: 0.3570\n",
      "Epoch 51/1000\n",
      "5/5 [==============================] - 1s 147ms/step - loss: 0.1825 - mae: 0.3555 - val_loss: 0.1786 - val_mae: 0.3511\n",
      "Epoch 52/1000\n",
      "5/5 [==============================] - 1s 154ms/step - loss: 0.1792 - mae: 0.3503 - val_loss: 0.1749 - val_mae: 0.3487\n",
      "Epoch 53/1000\n",
      "5/5 [==============================] - 1s 153ms/step - loss: 0.1827 - mae: 0.3554 - val_loss: 0.1752 - val_mae: 0.3508\n",
      "Epoch 54/1000\n",
      "5/5 [==============================] - 1s 157ms/step - loss: 0.1781 - mae: 0.3508 - val_loss: 0.1757 - val_mae: 0.3494\n",
      "Epoch 55/1000\n",
      "5/5 [==============================] - 1s 164ms/step - loss: 0.1790 - mae: 0.3503 - val_loss: 0.1743 - val_mae: 0.3489\n",
      "Epoch 56/1000\n",
      "5/5 [==============================] - 1s 159ms/step - loss: 0.1805 - mae: 0.3530 - val_loss: 0.1759 - val_mae: 0.3523\n",
      "Epoch 57/1000\n",
      "5/5 [==============================] - 1s 150ms/step - loss: 0.1805 - mae: 0.3535 - val_loss: 0.1758 - val_mae: 0.3488\n",
      "Epoch 58/1000\n",
      "5/5 [==============================] - 1s 146ms/step - loss: 0.1777 - mae: 0.3487 - val_loss: 0.1762 - val_mae: 0.3525\n",
      "Epoch 59/1000\n",
      "5/5 [==============================] - ETA: 0s - loss: 0.1790 - mae: 0.3516INFO:tensorflow:Assets written to: C:\\Users\\PARK\\Documents\\LAB\\RNN vs LSTM\\FInal Example\\wandb\\run-20221015_200538-5remc85i\\files\\model-best\\assets\n"
     ]
    },
    {
     "name": "stderr",
     "output_type": "stream",
     "text": [
      "\u001b[34m\u001b[1mwandb\u001b[0m: Adding directory to artifact (C:\\Users\\PARK\\Documents\\LAB\\RNN vs LSTM\\FInal Example\\wandb\\run-20221015_200538-5remc85i\\files\\model-best)... Done. 0.0s\n"
     ]
    },
    {
     "name": "stdout",
     "output_type": "stream",
     "text": [
      "5/5 [==============================] - 2s 509ms/step - loss: 0.1790 - mae: 0.3516 - val_loss: 0.1738 - val_mae: 0.3507\n",
      "Epoch 60/1000\n",
      "5/5 [==============================] - ETA: 0s - loss: 0.1766 - mae: 0.3490INFO:tensorflow:Assets written to: C:\\Users\\PARK\\Documents\\LAB\\RNN vs LSTM\\FInal Example\\wandb\\run-20221015_200538-5remc85i\\files\\model-best\\assets\n"
     ]
    },
    {
     "name": "stderr",
     "output_type": "stream",
     "text": [
      "\u001b[34m\u001b[1mwandb\u001b[0m: Adding directory to artifact (C:\\Users\\PARK\\Documents\\LAB\\RNN vs LSTM\\FInal Example\\wandb\\run-20221015_200538-5remc85i\\files\\model-best)... Done. 0.1s\n"
     ]
    },
    {
     "name": "stdout",
     "output_type": "stream",
     "text": [
      "5/5 [==============================] - 2s 508ms/step - loss: 0.1766 - mae: 0.3490 - val_loss: 0.1730 - val_mae: 0.3466\n",
      "Epoch 61/1000\n",
      "5/5 [==============================] - ETA: 0s - loss: 0.1755 - mae: 0.3480INFO:tensorflow:Assets written to: C:\\Users\\PARK\\Documents\\LAB\\RNN vs LSTM\\FInal Example\\wandb\\run-20221015_200538-5remc85i\\files\\model-best\\assets\n"
     ]
    },
    {
     "name": "stderr",
     "output_type": "stream",
     "text": [
      "\u001b[34m\u001b[1mwandb\u001b[0m: Adding directory to artifact (C:\\Users\\PARK\\Documents\\LAB\\RNN vs LSTM\\FInal Example\\wandb\\run-20221015_200538-5remc85i\\files\\model-best)... Done. 0.1s\n"
     ]
    },
    {
     "name": "stdout",
     "output_type": "stream",
     "text": [
      "5/5 [==============================] - 2s 575ms/step - loss: 0.1755 - mae: 0.3480 - val_loss: 0.1717 - val_mae: 0.3473\n",
      "Epoch 62/1000\n",
      "5/5 [==============================] - 1s 191ms/step - loss: 0.1758 - mae: 0.3484 - val_loss: 0.1730 - val_mae: 0.3482\n",
      "Epoch 63/1000\n",
      "5/5 [==============================] - 1s 166ms/step - loss: 0.1758 - mae: 0.3480 - val_loss: 0.1729 - val_mae: 0.3477\n",
      "Epoch 64/1000\n",
      "5/5 [==============================] - 1s 153ms/step - loss: 0.1779 - mae: 0.3494 - val_loss: 0.1739 - val_mae: 0.3477\n",
      "Epoch 65/1000\n",
      "5/5 [==============================] - 1s 154ms/step - loss: 0.1771 - mae: 0.3486 - val_loss: 0.1724 - val_mae: 0.3450\n",
      "Epoch 66/1000\n",
      "5/5 [==============================] - 1s 153ms/step - loss: 0.1776 - mae: 0.3493 - val_loss: 0.1723 - val_mae: 0.3487\n",
      "Epoch 67/1000\n",
      "5/5 [==============================] - ETA: 0s - loss: 0.1754 - mae: 0.3477INFO:tensorflow:Assets written to: C:\\Users\\PARK\\Documents\\LAB\\RNN vs LSTM\\FInal Example\\wandb\\run-20221015_200538-5remc85i\\files\\model-best\\assets\n"
     ]
    },
    {
     "name": "stderr",
     "output_type": "stream",
     "text": [
      "\u001b[34m\u001b[1mwandb\u001b[0m: Adding directory to artifact (C:\\Users\\PARK\\Documents\\LAB\\RNN vs LSTM\\FInal Example\\wandb\\run-20221015_200538-5remc85i\\files\\model-best)... Done. 0.1s\n"
     ]
    },
    {
     "name": "stdout",
     "output_type": "stream",
     "text": [
      "5/5 [==============================] - 2s 503ms/step - loss: 0.1754 - mae: 0.3477 - val_loss: 0.1711 - val_mae: 0.3476\n",
      "Epoch 68/1000\n",
      "5/5 [==============================] - 1s 178ms/step - loss: 0.1734 - mae: 0.3458 - val_loss: 0.1730 - val_mae: 0.3459\n",
      "Epoch 69/1000\n",
      "5/5 [==============================] - 1s 161ms/step - loss: 0.1815 - mae: 0.3526 - val_loss: 0.1713 - val_mae: 0.3472\n",
      "Epoch 70/1000\n",
      "5/5 [==============================] - 1s 147ms/step - loss: 0.1809 - mae: 0.3521 - val_loss: 0.1798 - val_mae: 0.3540\n",
      "Epoch 71/1000\n",
      "5/5 [==============================] - 1s 148ms/step - loss: 0.1793 - mae: 0.3503 - val_loss: 0.1758 - val_mae: 0.3503\n",
      "Epoch 72/1000\n",
      "5/5 [==============================] - 1s 141ms/step - loss: 0.1811 - mae: 0.3527 - val_loss: 0.1824 - val_mae: 0.3560\n",
      "Epoch 73/1000\n",
      "5/5 [==============================] - 1s 144ms/step - loss: 0.1801 - mae: 0.3511 - val_loss: 0.1798 - val_mae: 0.3532\n",
      "Epoch 74/1000\n",
      "5/5 [==============================] - 1s 150ms/step - loss: 0.1926 - mae: 0.3618 - val_loss: 0.1855 - val_mae: 0.3585\n",
      "Epoch 75/1000\n",
      "5/5 [==============================] - 1s 151ms/step - loss: 0.1806 - mae: 0.3520 - val_loss: 0.1727 - val_mae: 0.3455\n",
      "Epoch 76/1000\n",
      "5/5 [==============================] - ETA: 0s - loss: 0.1749 - mae: 0.3453INFO:tensorflow:Assets written to: C:\\Users\\PARK\\Documents\\LAB\\RNN vs LSTM\\FInal Example\\wandb\\run-20221015_200538-5remc85i\\files\\model-best\\assets\n"
     ]
    },
    {
     "name": "stderr",
     "output_type": "stream",
     "text": [
      "\u001b[34m\u001b[1mwandb\u001b[0m: Adding directory to artifact (C:\\Users\\PARK\\Documents\\LAB\\RNN vs LSTM\\FInal Example\\wandb\\run-20221015_200538-5remc85i\\files\\model-best)... Done. 0.1s\n"
     ]
    },
    {
     "name": "stdout",
     "output_type": "stream",
     "text": [
      "5/5 [==============================] - 2s 545ms/step - loss: 0.1749 - mae: 0.3453 - val_loss: 0.1696 - val_mae: 0.3448\n",
      "Epoch 77/1000\n",
      "5/5 [==============================] - ETA: 0s - loss: 0.1731 - mae: 0.3453INFO:tensorflow:Assets written to: C:\\Users\\PARK\\Documents\\LAB\\RNN vs LSTM\\FInal Example\\wandb\\run-20221015_200538-5remc85i\\files\\model-best\\assets\n"
     ]
    },
    {
     "name": "stderr",
     "output_type": "stream",
     "text": [
      "\u001b[34m\u001b[1mwandb\u001b[0m: Adding directory to artifact (C:\\Users\\PARK\\Documents\\LAB\\RNN vs LSTM\\FInal Example\\wandb\\run-20221015_200538-5remc85i\\files\\model-best)... Done. 0.1s\n"
     ]
    },
    {
     "name": "stdout",
     "output_type": "stream",
     "text": [
      "5/5 [==============================] - 2s 532ms/step - loss: 0.1731 - mae: 0.3453 - val_loss: 0.1666 - val_mae: 0.3425\n",
      "Epoch 78/1000\n",
      "5/5 [==============================] - 1s 195ms/step - loss: 0.1701 - mae: 0.3422 - val_loss: 0.1681 - val_mae: 0.3424\n",
      "Epoch 79/1000\n",
      "5/5 [==============================] - ETA: 0s - loss: 0.1721 - mae: 0.3448INFO:tensorflow:Assets written to: C:\\Users\\PARK\\Documents\\LAB\\RNN vs LSTM\\FInal Example\\wandb\\run-20221015_200538-5remc85i\\files\\model-best\\assets\n"
     ]
    },
    {
     "name": "stderr",
     "output_type": "stream",
     "text": [
      "\u001b[34m\u001b[1mwandb\u001b[0m: Adding directory to artifact (C:\\Users\\PARK\\Documents\\LAB\\RNN vs LSTM\\FInal Example\\wandb\\run-20221015_200538-5remc85i\\files\\model-best)... Done. 0.1s\n"
     ]
    },
    {
     "name": "stdout",
     "output_type": "stream",
     "text": [
      "5/5 [==============================] - 2s 502ms/step - loss: 0.1721 - mae: 0.3448 - val_loss: 0.1652 - val_mae: 0.3402\n",
      "Epoch 80/1000\n",
      "5/5 [==============================] - 1s 177ms/step - loss: 0.1719 - mae: 0.3440 - val_loss: 0.1677 - val_mae: 0.3419\n",
      "Epoch 81/1000\n",
      "5/5 [==============================] - 1s 153ms/step - loss: 0.1682 - mae: 0.3398 - val_loss: 0.1660 - val_mae: 0.3422\n",
      "Epoch 82/1000\n",
      "5/5 [==============================] - ETA: 0s - loss: 0.1755 - mae: 0.3467INFO:tensorflow:Assets written to: C:\\Users\\PARK\\Documents\\LAB\\RNN vs LSTM\\FInal Example\\wandb\\run-20221015_200538-5remc85i\\files\\model-best\\assets\n"
     ]
    },
    {
     "name": "stderr",
     "output_type": "stream",
     "text": [
      "\u001b[34m\u001b[1mwandb\u001b[0m: Adding directory to artifact (C:\\Users\\PARK\\Documents\\LAB\\RNN vs LSTM\\FInal Example\\wandb\\run-20221015_200538-5remc85i\\files\\model-best)... Done. 0.1s\n"
     ]
    },
    {
     "name": "stdout",
     "output_type": "stream",
     "text": [
      "5/5 [==============================] - 2s 530ms/step - loss: 0.1755 - mae: 0.3467 - val_loss: 0.1649 - val_mae: 0.3392\n",
      "Epoch 83/1000\n",
      "5/5 [==============================] - 1s 191ms/step - loss: 0.1716 - mae: 0.3442 - val_loss: 0.1696 - val_mae: 0.3410\n",
      "Epoch 84/1000\n",
      "5/5 [==============================] - 1s 153ms/step - loss: 0.1864 - mae: 0.3563 - val_loss: 0.1753 - val_mae: 0.3500\n",
      "Epoch 85/1000\n",
      "5/5 [==============================] - 1s 150ms/step - loss: 0.1836 - mae: 0.3518 - val_loss: 0.1742 - val_mae: 0.3482\n",
      "Epoch 86/1000\n",
      "5/5 [==============================] - 1s 146ms/step - loss: 0.1744 - mae: 0.3450 - val_loss: 0.1676 - val_mae: 0.3416\n",
      "Epoch 87/1000\n",
      "5/5 [==============================] - ETA: 0s - loss: 0.1722 - mae: 0.3435INFO:tensorflow:Assets written to: C:\\Users\\PARK\\Documents\\LAB\\RNN vs LSTM\\FInal Example\\wandb\\run-20221015_200538-5remc85i\\files\\model-best\\assets\n"
     ]
    },
    {
     "name": "stderr",
     "output_type": "stream",
     "text": [
      "\u001b[34m\u001b[1mwandb\u001b[0m: Adding directory to artifact (C:\\Users\\PARK\\Documents\\LAB\\RNN vs LSTM\\FInal Example\\wandb\\run-20221015_200538-5remc85i\\files\\model-best)... Done. 0.0s\n"
     ]
    },
    {
     "name": "stdout",
     "output_type": "stream",
     "text": [
      "5/5 [==============================] - 2s 487ms/step - loss: 0.1722 - mae: 0.3435 - val_loss: 0.1639 - val_mae: 0.3383\n",
      "Epoch 88/1000\n",
      "4/5 [=======================>......] - ETA: 0s - loss: 0.1658 - mae: 0.3384INFO:tensorflow:Assets written to: C:\\Users\\PARK\\Documents\\LAB\\RNN vs LSTM\\FInal Example\\wandb\\run-20221015_200538-5remc85i\\files\\model-best\\assets\n"
     ]
    },
    {
     "name": "stderr",
     "output_type": "stream",
     "text": [
      "\u001b[34m\u001b[1mwandb\u001b[0m: Adding directory to artifact (C:\\Users\\PARK\\Documents\\LAB\\RNN vs LSTM\\FInal Example\\wandb\\run-20221015_200538-5remc85i\\files\\model-best)... Done. 0.0s\n"
     ]
    },
    {
     "name": "stdout",
     "output_type": "stream",
     "text": [
      "5/5 [==============================] - 2s 534ms/step - loss: 0.1665 - mae: 0.3384 - val_loss: 0.1631 - val_mae: 0.3353\n",
      "Epoch 89/1000\n",
      "5/5 [==============================] - 1s 157ms/step - loss: 0.1740 - mae: 0.3444 - val_loss: 0.1743 - val_mae: 0.3484\n",
      "Epoch 90/1000\n",
      "5/5 [==============================] - 1s 153ms/step - loss: 0.1888 - mae: 0.3575 - val_loss: 0.1833 - val_mae: 0.3534\n",
      "Epoch 91/1000\n",
      "5/5 [==============================] - 1s 152ms/step - loss: 0.1701 - mae: 0.3395 - val_loss: 0.1720 - val_mae: 0.3461\n",
      "Epoch 92/1000\n",
      "5/5 [==============================] - 1s 155ms/step - loss: 0.1701 - mae: 0.3405 - val_loss: 0.1695 - val_mae: 0.3406\n",
      "Epoch 93/1000\n",
      "5/5 [==============================] - ETA: 0s - loss: 0.1716 - mae: 0.3421INFO:tensorflow:Assets written to: C:\\Users\\PARK\\Documents\\LAB\\RNN vs LSTM\\FInal Example\\wandb\\run-20221015_200538-5remc85i\\files\\model-best\\assets\n"
     ]
    },
    {
     "name": "stderr",
     "output_type": "stream",
     "text": [
      "\u001b[34m\u001b[1mwandb\u001b[0m: Adding directory to artifact (C:\\Users\\PARK\\Documents\\LAB\\RNN vs LSTM\\FInal Example\\wandb\\run-20221015_200538-5remc85i\\files\\model-best)... Done. 0.1s\n"
     ]
    },
    {
     "name": "stdout",
     "output_type": "stream",
     "text": [
      "5/5 [==============================] - 2s 548ms/step - loss: 0.1716 - mae: 0.3421 - val_loss: 0.1631 - val_mae: 0.3350\n",
      "Epoch 94/1000\n",
      "5/5 [==============================] - ETA: 0s - loss: 0.1642 - mae: 0.3353INFO:tensorflow:Assets written to: C:\\Users\\PARK\\Documents\\LAB\\RNN vs LSTM\\FInal Example\\wandb\\run-20221015_200538-5remc85i\\files\\model-best\\assets\n"
     ]
    },
    {
     "name": "stderr",
     "output_type": "stream",
     "text": [
      "\u001b[34m\u001b[1mwandb\u001b[0m: Adding directory to artifact (C:\\Users\\PARK\\Documents\\LAB\\RNN vs LSTM\\FInal Example\\wandb\\run-20221015_200538-5remc85i\\files\\model-best)... Done. 0.1s\n"
     ]
    },
    {
     "name": "stdout",
     "output_type": "stream",
     "text": [
      "5/5 [==============================] - 2s 533ms/step - loss: 0.1642 - mae: 0.3353 - val_loss: 0.1560 - val_mae: 0.3293\n",
      "Epoch 95/1000\n",
      "5/5 [==============================] - ETA: 0s - loss: 0.1604 - mae: 0.3316INFO:tensorflow:Assets written to: C:\\Users\\PARK\\Documents\\LAB\\RNN vs LSTM\\FInal Example\\wandb\\run-20221015_200538-5remc85i\\files\\model-best\\assets\n"
     ]
    },
    {
     "name": "stderr",
     "output_type": "stream",
     "text": [
      "\u001b[34m\u001b[1mwandb\u001b[0m: Adding directory to artifact (C:\\Users\\PARK\\Documents\\LAB\\RNN vs LSTM\\FInal Example\\wandb\\run-20221015_200538-5remc85i\\files\\model-best)... Done. 0.1s\n"
     ]
    },
    {
     "name": "stdout",
     "output_type": "stream",
     "text": [
      "5/5 [==============================] - 2s 546ms/step - loss: 0.1604 - mae: 0.3316 - val_loss: 0.1549 - val_mae: 0.3292\n",
      "Epoch 96/1000\n",
      "4/5 [=======================>......] - ETA: 0s - loss: 0.1597 - mae: 0.3310INFO:tensorflow:Assets written to: C:\\Users\\PARK\\Documents\\LAB\\RNN vs LSTM\\FInal Example\\wandb\\run-20221015_200538-5remc85i\\files\\model-best\\assets\n"
     ]
    },
    {
     "name": "stderr",
     "output_type": "stream",
     "text": [
      "\u001b[34m\u001b[1mwandb\u001b[0m: Adding directory to artifact (C:\\Users\\PARK\\Documents\\LAB\\RNN vs LSTM\\FInal Example\\wandb\\run-20221015_200538-5remc85i\\files\\model-best)... Done. 0.0s\n"
     ]
    },
    {
     "name": "stdout",
     "output_type": "stream",
     "text": [
      "5/5 [==============================] - 2s 537ms/step - loss: 0.1609 - mae: 0.3328 - val_loss: 0.1532 - val_mae: 0.3271\n",
      "Epoch 97/1000\n",
      "5/5 [==============================] - 1s 168ms/step - loss: 0.1599 - mae: 0.3314 - val_loss: 0.1654 - val_mae: 0.3364\n",
      "Epoch 98/1000\n",
      "5/5 [==============================] - 1s 155ms/step - loss: 0.1641 - mae: 0.3353 - val_loss: 0.1616 - val_mae: 0.3306\n",
      "Epoch 99/1000\n",
      "5/5 [==============================] - 1s 161ms/step - loss: 0.1635 - mae: 0.3344 - val_loss: 0.1628 - val_mae: 0.3351\n",
      "Epoch 100/1000\n",
      "5/5 [==============================] - ETA: 0s - loss: 0.1708 - mae: 0.3407INFO:tensorflow:Assets written to: C:\\Users\\PARK\\Documents\\LAB\\RNN vs LSTM\\FInal Example\\wandb\\run-20221015_200538-5remc85i\\files\\model-best\\assets\n"
     ]
    },
    {
     "name": "stderr",
     "output_type": "stream",
     "text": [
      "\u001b[34m\u001b[1mwandb\u001b[0m: Adding directory to artifact (C:\\Users\\PARK\\Documents\\LAB\\RNN vs LSTM\\FInal Example\\wandb\\run-20221015_200538-5remc85i\\files\\model-best)... Done. 0.1s\n"
     ]
    },
    {
     "name": "stdout",
     "output_type": "stream",
     "text": [
      "5/5 [==============================] - 2s 522ms/step - loss: 0.1708 - mae: 0.3407 - val_loss: 0.1513 - val_mae: 0.3215\n",
      "Epoch 101/1000\n",
      "5/5 [==============================] - ETA: 0s - loss: 0.1570 - mae: 0.3272INFO:tensorflow:Assets written to: C:\\Users\\PARK\\Documents\\LAB\\RNN vs LSTM\\FInal Example\\wandb\\run-20221015_200538-5remc85i\\files\\model-best\\assets\n"
     ]
    },
    {
     "name": "stderr",
     "output_type": "stream",
     "text": [
      "\u001b[34m\u001b[1mwandb\u001b[0m: Adding directory to artifact (C:\\Users\\PARK\\Documents\\LAB\\RNN vs LSTM\\FInal Example\\wandb\\run-20221015_200538-5remc85i\\files\\model-best)... Done. 0.1s\n"
     ]
    },
    {
     "name": "stdout",
     "output_type": "stream",
     "text": [
      "5/5 [==============================] - 2s 554ms/step - loss: 0.1570 - mae: 0.3272 - val_loss: 0.1486 - val_mae: 0.3206\n",
      "Epoch 102/1000\n",
      "5/5 [==============================] - ETA: 0s - loss: 0.1517 - mae: 0.3218INFO:tensorflow:Assets written to: C:\\Users\\PARK\\Documents\\LAB\\RNN vs LSTM\\FInal Example\\wandb\\run-20221015_200538-5remc85i\\files\\model-best\\assets\n"
     ]
    },
    {
     "name": "stderr",
     "output_type": "stream",
     "text": [
      "\u001b[34m\u001b[1mwandb\u001b[0m: Adding directory to artifact (C:\\Users\\PARK\\Documents\\LAB\\RNN vs LSTM\\FInal Example\\wandb\\run-20221015_200538-5remc85i\\files\\model-best)... Done. 0.1s\n"
     ]
    },
    {
     "name": "stdout",
     "output_type": "stream",
     "text": [
      "5/5 [==============================] - 2s 560ms/step - loss: 0.1517 - mae: 0.3218 - val_loss: 0.1467 - val_mae: 0.3208\n",
      "Epoch 103/1000\n",
      "5/5 [==============================] - 1s 184ms/step - loss: 0.1495 - mae: 0.3186 - val_loss: 0.1532 - val_mae: 0.3234\n",
      "Epoch 104/1000\n",
      "5/5 [==============================] - ETA: 0s - loss: 0.1535 - mae: 0.3244INFO:tensorflow:Assets written to: C:\\Users\\PARK\\Documents\\LAB\\RNN vs LSTM\\FInal Example\\wandb\\run-20221015_200538-5remc85i\\files\\model-best\\assets\n"
     ]
    },
    {
     "name": "stderr",
     "output_type": "stream",
     "text": [
      "\u001b[34m\u001b[1mwandb\u001b[0m: Adding directory to artifact (C:\\Users\\PARK\\Documents\\LAB\\RNN vs LSTM\\FInal Example\\wandb\\run-20221015_200538-5remc85i\\files\\model-best)... Done. 0.1s\n"
     ]
    },
    {
     "name": "stdout",
     "output_type": "stream",
     "text": [
      "5/5 [==============================] - 2s 511ms/step - loss: 0.1535 - mae: 0.3244 - val_loss: 0.1416 - val_mae: 0.3141\n",
      "Epoch 105/1000\n",
      "5/5 [==============================] - ETA: 0s - loss: 0.1466 - mae: 0.3167INFO:tensorflow:Assets written to: C:\\Users\\PARK\\Documents\\LAB\\RNN vs LSTM\\FInal Example\\wandb\\run-20221015_200538-5remc85i\\files\\model-best\\assets\n"
     ]
    },
    {
     "name": "stderr",
     "output_type": "stream",
     "text": [
      "\u001b[34m\u001b[1mwandb\u001b[0m: Adding directory to artifact (C:\\Users\\PARK\\Documents\\LAB\\RNN vs LSTM\\FInal Example\\wandb\\run-20221015_200538-5remc85i\\files\\model-best)... Done. 0.1s\n"
     ]
    },
    {
     "name": "stdout",
     "output_type": "stream",
     "text": [
      "5/5 [==============================] - 2s 560ms/step - loss: 0.1466 - mae: 0.3167 - val_loss: 0.1387 - val_mae: 0.3107\n",
      "Epoch 106/1000\n",
      "5/5 [==============================] - 1s 203ms/step - loss: 0.1497 - mae: 0.3182 - val_loss: 0.1414 - val_mae: 0.3117\n",
      "Epoch 107/1000\n",
      "5/5 [==============================] - 1s 151ms/step - loss: 0.1451 - mae: 0.3137 - val_loss: 0.1399 - val_mae: 0.3093\n",
      "Epoch 108/1000\n",
      "5/5 [==============================] - ETA: 0s - loss: 0.1406 - mae: 0.3104INFO:tensorflow:Assets written to: C:\\Users\\PARK\\Documents\\LAB\\RNN vs LSTM\\FInal Example\\wandb\\run-20221015_200538-5remc85i\\files\\model-best\\assets\n"
     ]
    },
    {
     "name": "stderr",
     "output_type": "stream",
     "text": [
      "\u001b[34m\u001b[1mwandb\u001b[0m: Adding directory to artifact (C:\\Users\\PARK\\Documents\\LAB\\RNN vs LSTM\\FInal Example\\wandb\\run-20221015_200538-5remc85i\\files\\model-best)... Done. 0.0s\n"
     ]
    },
    {
     "name": "stdout",
     "output_type": "stream",
     "text": [
      "5/5 [==============================] - 2s 492ms/step - loss: 0.1406 - mae: 0.3104 - val_loss: 0.1329 - val_mae: 0.3026\n",
      "Epoch 109/1000\n",
      "5/5 [==============================] - ETA: 0s - loss: 0.1347 - mae: 0.3034INFO:tensorflow:Assets written to: C:\\Users\\PARK\\Documents\\LAB\\RNN vs LSTM\\FInal Example\\wandb\\run-20221015_200538-5remc85i\\files\\model-best\\assets\n"
     ]
    },
    {
     "name": "stderr",
     "output_type": "stream",
     "text": [
      "\u001b[34m\u001b[1mwandb\u001b[0m: Adding directory to artifact (C:\\Users\\PARK\\Documents\\LAB\\RNN vs LSTM\\FInal Example\\wandb\\run-20221015_200538-5remc85i\\files\\model-best)... Done. 0.0s\n"
     ]
    },
    {
     "name": "stdout",
     "output_type": "stream",
     "text": [
      "5/5 [==============================] - 2s 557ms/step - loss: 0.1347 - mae: 0.3034 - val_loss: 0.1288 - val_mae: 0.2994\n",
      "Epoch 110/1000\n",
      "5/5 [==============================] - ETA: 0s - loss: 0.1380 - mae: 0.3048INFO:tensorflow:Assets written to: C:\\Users\\PARK\\Documents\\LAB\\RNN vs LSTM\\FInal Example\\wandb\\run-20221015_200538-5remc85i\\files\\model-best\\assets\n"
     ]
    },
    {
     "name": "stderr",
     "output_type": "stream",
     "text": [
      "\u001b[34m\u001b[1mwandb\u001b[0m: Adding directory to artifact (C:\\Users\\PARK\\Documents\\LAB\\RNN vs LSTM\\FInal Example\\wandb\\run-20221015_200538-5remc85i\\files\\model-best)... Done. 0.1s\n"
     ]
    },
    {
     "name": "stdout",
     "output_type": "stream",
     "text": [
      "5/5 [==============================] - 2s 571ms/step - loss: 0.1380 - mae: 0.3048 - val_loss: 0.1237 - val_mae: 0.2927\n",
      "Epoch 111/1000\n",
      "5/5 [==============================] - 1s 161ms/step - loss: 0.1330 - mae: 0.2994 - val_loss: 0.1512 - val_mae: 0.3182\n",
      "Epoch 112/1000\n",
      "5/5 [==============================] - 1s 159ms/step - loss: 0.1324 - mae: 0.2965 - val_loss: 0.1310 - val_mae: 0.2953\n",
      "Epoch 113/1000\n",
      "5/5 [==============================] - ETA: 0s - loss: 0.1380 - mae: 0.3025INFO:tensorflow:Assets written to: C:\\Users\\PARK\\Documents\\LAB\\RNN vs LSTM\\FInal Example\\wandb\\run-20221015_200538-5remc85i\\files\\model-best\\assets\n"
     ]
    },
    {
     "name": "stderr",
     "output_type": "stream",
     "text": [
      "\u001b[34m\u001b[1mwandb\u001b[0m: Adding directory to artifact (C:\\Users\\PARK\\Documents\\LAB\\RNN vs LSTM\\FInal Example\\wandb\\run-20221015_200538-5remc85i\\files\\model-best)... Done. 0.0s\n"
     ]
    },
    {
     "name": "stdout",
     "output_type": "stream",
     "text": [
      "5/5 [==============================] - 2s 538ms/step - loss: 0.1380 - mae: 0.3025 - val_loss: 0.1165 - val_mae: 0.2833\n",
      "Epoch 114/1000\n",
      "5/5 [==============================] - ETA: 0s - loss: 0.1208 - mae: 0.2839INFO:tensorflow:Assets written to: C:\\Users\\PARK\\Documents\\LAB\\RNN vs LSTM\\FInal Example\\wandb\\run-20221015_200538-5remc85i\\files\\model-best\\assets\n"
     ]
    },
    {
     "name": "stderr",
     "output_type": "stream",
     "text": [
      "\u001b[34m\u001b[1mwandb\u001b[0m: Adding directory to artifact (C:\\Users\\PARK\\Documents\\LAB\\RNN vs LSTM\\FInal Example\\wandb\\run-20221015_200538-5remc85i\\files\\model-best)... Done. 0.0s\n"
     ]
    },
    {
     "name": "stdout",
     "output_type": "stream",
     "text": [
      "5/5 [==============================] - 2s 524ms/step - loss: 0.1208 - mae: 0.2839 - val_loss: 0.1131 - val_mae: 0.2789\n",
      "Epoch 115/1000\n",
      "5/5 [==============================] - 1s 166ms/step - loss: 0.1165 - mae: 0.2787 - val_loss: 0.1260 - val_mae: 0.2894\n",
      "Epoch 116/1000\n",
      "5/5 [==============================] - ETA: 0s - loss: 0.1236 - mae: 0.2873INFO:tensorflow:Assets written to: C:\\Users\\PARK\\Documents\\LAB\\RNN vs LSTM\\FInal Example\\wandb\\run-20221015_200538-5remc85i\\files\\model-best\\assets\n"
     ]
    },
    {
     "name": "stderr",
     "output_type": "stream",
     "text": [
      "\u001b[34m\u001b[1mwandb\u001b[0m: Adding directory to artifact (C:\\Users\\PARK\\Documents\\LAB\\RNN vs LSTM\\FInal Example\\wandb\\run-20221015_200538-5remc85i\\files\\model-best)... Done. 0.1s\n"
     ]
    },
    {
     "name": "stdout",
     "output_type": "stream",
     "text": [
      "5/5 [==============================] - 2s 530ms/step - loss: 0.1236 - mae: 0.2873 - val_loss: 0.1104 - val_mae: 0.2708\n",
      "Epoch 117/1000\n",
      "5/5 [==============================] - ETA: 0s - loss: 0.1177 - mae: 0.2809INFO:tensorflow:Assets written to: C:\\Users\\PARK\\Documents\\LAB\\RNN vs LSTM\\FInal Example\\wandb\\run-20221015_200538-5remc85i\\files\\model-best\\assets\n"
     ]
    },
    {
     "name": "stderr",
     "output_type": "stream",
     "text": [
      "\u001b[34m\u001b[1mwandb\u001b[0m: Adding directory to artifact (C:\\Users\\PARK\\Documents\\LAB\\RNN vs LSTM\\FInal Example\\wandb\\run-20221015_200538-5remc85i\\files\\model-best)... Done. 0.1s\n"
     ]
    },
    {
     "name": "stdout",
     "output_type": "stream",
     "text": [
      "5/5 [==============================] - 2s 548ms/step - loss: 0.1177 - mae: 0.2809 - val_loss: 0.0996 - val_mae: 0.2590\n",
      "Epoch 118/1000\n",
      "5/5 [==============================] - 1s 214ms/step - loss: 0.1036 - mae: 0.2616 - val_loss: 0.1012 - val_mae: 0.2591\n",
      "Epoch 119/1000\n",
      "5/5 [==============================] - 1s 161ms/step - loss: 0.1092 - mae: 0.2690 - val_loss: 0.1201 - val_mae: 0.2829\n",
      "Epoch 120/1000\n",
      "5/5 [==============================] - 1s 154ms/step - loss: 0.1121 - mae: 0.2715 - val_loss: 0.1114 - val_mae: 0.2708\n",
      "Epoch 121/1000\n",
      "5/5 [==============================] - ETA: 0s - loss: 0.0981 - mae: 0.2509INFO:tensorflow:Assets written to: C:\\Users\\PARK\\Documents\\LAB\\RNN vs LSTM\\FInal Example\\wandb\\run-20221015_200538-5remc85i\\files\\model-best\\assets\n"
     ]
    },
    {
     "name": "stderr",
     "output_type": "stream",
     "text": [
      "\u001b[34m\u001b[1mwandb\u001b[0m: Adding directory to artifact (C:\\Users\\PARK\\Documents\\LAB\\RNN vs LSTM\\FInal Example\\wandb\\run-20221015_200538-5remc85i\\files\\model-best)... Done. 0.0s\n"
     ]
    },
    {
     "name": "stdout",
     "output_type": "stream",
     "text": [
      "5/5 [==============================] - 2s 482ms/step - loss: 0.0981 - mae: 0.2509 - val_loss: 0.0894 - val_mae: 0.2433\n",
      "Epoch 122/1000\n",
      "5/5 [==============================] - 1s 183ms/step - loss: 0.0986 - mae: 0.2524 - val_loss: 0.0920 - val_mae: 0.2435\n",
      "Epoch 123/1000\n",
      "5/5 [==============================] - 1s 151ms/step - loss: 0.0931 - mae: 0.2451 - val_loss: 0.1059 - val_mae: 0.2621\n",
      "Epoch 124/1000\n",
      "5/5 [==============================] - ETA: 0s - loss: 0.1026 - mae: 0.2558INFO:tensorflow:Assets written to: C:\\Users\\PARK\\Documents\\LAB\\RNN vs LSTM\\FInal Example\\wandb\\run-20221015_200538-5remc85i\\files\\model-best\\assets\n"
     ]
    },
    {
     "name": "stderr",
     "output_type": "stream",
     "text": [
      "\u001b[34m\u001b[1mwandb\u001b[0m: Adding directory to artifact (C:\\Users\\PARK\\Documents\\LAB\\RNN vs LSTM\\FInal Example\\wandb\\run-20221015_200538-5remc85i\\files\\model-best)... Done. 0.1s\n"
     ]
    },
    {
     "name": "stdout",
     "output_type": "stream",
     "text": [
      "5/5 [==============================] - 2s 500ms/step - loss: 0.1026 - mae: 0.2558 - val_loss: 0.0805 - val_mae: 0.2262\n",
      "Epoch 125/1000\n",
      "5/5 [==============================] - ETA: 0s - loss: 0.0945 - mae: 0.2448INFO:tensorflow:Assets written to: C:\\Users\\PARK\\Documents\\LAB\\RNN vs LSTM\\FInal Example\\wandb\\run-20221015_200538-5remc85i\\files\\model-best\\assets\n"
     ]
    },
    {
     "name": "stderr",
     "output_type": "stream",
     "text": [
      "\u001b[34m\u001b[1mwandb\u001b[0m: Adding directory to artifact (C:\\Users\\PARK\\Documents\\LAB\\RNN vs LSTM\\FInal Example\\wandb\\run-20221015_200538-5remc85i\\files\\model-best)... Done. 0.1s\n"
     ]
    },
    {
     "name": "stdout",
     "output_type": "stream",
     "text": [
      "5/5 [==============================] - 2s 541ms/step - loss: 0.0945 - mae: 0.2448 - val_loss: 0.0783 - val_mae: 0.2229\n",
      "Epoch 126/1000\n",
      "5/5 [==============================] - ETA: 0s - loss: 0.0877 - mae: 0.2360INFO:tensorflow:Assets written to: C:\\Users\\PARK\\Documents\\LAB\\RNN vs LSTM\\FInal Example\\wandb\\run-20221015_200538-5remc85i\\files\\model-best\\assets\n"
     ]
    },
    {
     "name": "stderr",
     "output_type": "stream",
     "text": [
      "\u001b[34m\u001b[1mwandb\u001b[0m: Adding directory to artifact (C:\\Users\\PARK\\Documents\\LAB\\RNN vs LSTM\\FInal Example\\wandb\\run-20221015_200538-5remc85i\\files\\model-best)... Done. 0.0s\n"
     ]
    },
    {
     "name": "stdout",
     "output_type": "stream",
     "text": [
      "5/5 [==============================] - 2s 543ms/step - loss: 0.0877 - mae: 0.2360 - val_loss: 0.0711 - val_mae: 0.2107\n",
      "Epoch 127/1000\n",
      "5/5 [==============================] - ETA: 0s - loss: 0.0804 - mae: 0.2236INFO:tensorflow:Assets written to: C:\\Users\\PARK\\Documents\\LAB\\RNN vs LSTM\\FInal Example\\wandb\\run-20221015_200538-5remc85i\\files\\model-best\\assets\n"
     ]
    },
    {
     "name": "stderr",
     "output_type": "stream",
     "text": [
      "\u001b[34m\u001b[1mwandb\u001b[0m: Adding directory to artifact (C:\\Users\\PARK\\Documents\\LAB\\RNN vs LSTM\\FInal Example\\wandb\\run-20221015_200538-5remc85i\\files\\model-best)... Done. 0.1s\n"
     ]
    },
    {
     "name": "stdout",
     "output_type": "stream",
     "text": [
      "5/5 [==============================] - 2s 556ms/step - loss: 0.0804 - mae: 0.2236 - val_loss: 0.0693 - val_mae: 0.2096\n",
      "Epoch 128/1000\n",
      "5/5 [==============================] - 1s 195ms/step - loss: 0.0755 - mae: 0.2161 - val_loss: 0.0747 - val_mae: 0.2193\n",
      "Epoch 129/1000\n",
      "5/5 [==============================] - 1s 146ms/step - loss: 0.0799 - mae: 0.2215 - val_loss: 0.0834 - val_mae: 0.2362\n",
      "Epoch 130/1000\n",
      "5/5 [==============================] - ETA: 0s - loss: 0.0826 - mae: 0.2281INFO:tensorflow:Assets written to: C:\\Users\\PARK\\Documents\\LAB\\RNN vs LSTM\\FInal Example\\wandb\\run-20221015_200538-5remc85i\\files\\model-best\\assets\n"
     ]
    },
    {
     "name": "stderr",
     "output_type": "stream",
     "text": [
      "\u001b[34m\u001b[1mwandb\u001b[0m: Adding directory to artifact (C:\\Users\\PARK\\Documents\\LAB\\RNN vs LSTM\\FInal Example\\wandb\\run-20221015_200538-5remc85i\\files\\model-best)... Done. 0.1s\n"
     ]
    },
    {
     "name": "stdout",
     "output_type": "stream",
     "text": [
      "5/5 [==============================] - 2s 500ms/step - loss: 0.0826 - mae: 0.2281 - val_loss: 0.0682 - val_mae: 0.2042\n",
      "Epoch 131/1000\n",
      "5/5 [==============================] - ETA: 0s - loss: 0.0694 - mae: 0.2046INFO:tensorflow:Assets written to: C:\\Users\\PARK\\Documents\\LAB\\RNN vs LSTM\\FInal Example\\wandb\\run-20221015_200538-5remc85i\\files\\model-best\\assets\n"
     ]
    },
    {
     "name": "stderr",
     "output_type": "stream",
     "text": [
      "\u001b[34m\u001b[1mwandb\u001b[0m: Adding directory to artifact (C:\\Users\\PARK\\Documents\\LAB\\RNN vs LSTM\\FInal Example\\wandb\\run-20221015_200538-5remc85i\\files\\model-best)... Done. 0.1s\n"
     ]
    },
    {
     "name": "stdout",
     "output_type": "stream",
     "text": [
      "5/5 [==============================] - 2s 533ms/step - loss: 0.0694 - mae: 0.2046 - val_loss: 0.0618 - val_mae: 0.1949\n",
      "Epoch 132/1000\n",
      "5/5 [==============================] - 1s 191ms/step - loss: 0.0688 - mae: 0.2053 - val_loss: 0.0651 - val_mae: 0.1955\n",
      "Epoch 133/1000\n",
      "5/5 [==============================] - 1s 153ms/step - loss: 0.0722 - mae: 0.2085 - val_loss: 0.0646 - val_mae: 0.1967\n",
      "Epoch 134/1000\n",
      "5/5 [==============================] - 1s 147ms/step - loss: 0.0713 - mae: 0.2085 - val_loss: 0.0723 - val_mae: 0.2040\n",
      "Epoch 135/1000\n",
      "5/5 [==============================] - 1s 149ms/step - loss: 0.0703 - mae: 0.2050 - val_loss: 0.0744 - val_mae: 0.2081\n",
      "Epoch 136/1000\n",
      "5/5 [==============================] - 1s 148ms/step - loss: 0.0684 - mae: 0.2039 - val_loss: 0.0861 - val_mae: 0.2229\n",
      "Epoch 137/1000\n",
      "5/5 [==============================] - 1s 148ms/step - loss: 0.0745 - mae: 0.2130 - val_loss: 0.0843 - val_mae: 0.2223\n",
      "Epoch 138/1000\n",
      "5/5 [==============================] - 1s 155ms/step - loss: 0.0751 - mae: 0.2149 - val_loss: 0.0960 - val_mae: 0.2398\n",
      "Epoch 139/1000\n",
      "5/5 [==============================] - 1s 150ms/step - loss: 0.0760 - mae: 0.2164 - val_loss: 0.0662 - val_mae: 0.1968\n",
      "Epoch 140/1000\n",
      "5/5 [==============================] - 1s 149ms/step - loss: 0.0689 - mae: 0.2034 - val_loss: 0.0636 - val_mae: 0.1961\n",
      "Epoch 141/1000\n",
      "5/5 [==============================] - ETA: 0s - loss: 0.0674 - mae: 0.2010INFO:tensorflow:Assets written to: C:\\Users\\PARK\\Documents\\LAB\\RNN vs LSTM\\FInal Example\\wandb\\run-20221015_200538-5remc85i\\files\\model-best\\assets\n"
     ]
    },
    {
     "name": "stderr",
     "output_type": "stream",
     "text": [
      "\u001b[34m\u001b[1mwandb\u001b[0m: Adding directory to artifact (C:\\Users\\PARK\\Documents\\LAB\\RNN vs LSTM\\FInal Example\\wandb\\run-20221015_200538-5remc85i\\files\\model-best)... Done. 0.1s\n"
     ]
    },
    {
     "name": "stdout",
     "output_type": "stream",
     "text": [
      "5/5 [==============================] - 2s 518ms/step - loss: 0.0674 - mae: 0.2010 - val_loss: 0.0614 - val_mae: 0.1920\n",
      "Epoch 142/1000\n",
      "5/5 [==============================] - 1s 169ms/step - loss: 0.0646 - mae: 0.1957 - val_loss: 0.0632 - val_mae: 0.1947\n",
      "Epoch 143/1000\n",
      "5/5 [==============================] - ETA: 0s - loss: 0.0634 - mae: 0.1949INFO:tensorflow:Assets written to: C:\\Users\\PARK\\Documents\\LAB\\RNN vs LSTM\\FInal Example\\wandb\\run-20221015_200538-5remc85i\\files\\model-best\\assets\n"
     ]
    },
    {
     "name": "stderr",
     "output_type": "stream",
     "text": [
      "\u001b[34m\u001b[1mwandb\u001b[0m: Adding directory to artifact (C:\\Users\\PARK\\Documents\\LAB\\RNN vs LSTM\\FInal Example\\wandb\\run-20221015_200538-5remc85i\\files\\model-best)... Done. 0.0s\n"
     ]
    },
    {
     "name": "stdout",
     "output_type": "stream",
     "text": [
      "5/5 [==============================] - 2s 510ms/step - loss: 0.0634 - mae: 0.1949 - val_loss: 0.0590 - val_mae: 0.1884\n",
      "Epoch 144/1000\n",
      "5/5 [==============================] - 1s 186ms/step - loss: 0.0635 - mae: 0.1955 - val_loss: 0.0634 - val_mae: 0.1966\n",
      "Epoch 145/1000\n",
      "5/5 [==============================] - 1s 154ms/step - loss: 0.0661 - mae: 0.1984 - val_loss: 0.0597 - val_mae: 0.1893\n",
      "Epoch 146/1000\n",
      "5/5 [==============================] - 1s 149ms/step - loss: 0.0645 - mae: 0.1958 - val_loss: 0.0630 - val_mae: 0.1998\n",
      "Epoch 147/1000\n",
      "5/5 [==============================] - ETA: 0s - loss: 0.0658 - mae: 0.2000INFO:tensorflow:Assets written to: C:\\Users\\PARK\\Documents\\LAB\\RNN vs LSTM\\FInal Example\\wandb\\run-20221015_200538-5remc85i\\files\\model-best\\assets\n"
     ]
    },
    {
     "name": "stderr",
     "output_type": "stream",
     "text": [
      "\u001b[34m\u001b[1mwandb\u001b[0m: Adding directory to artifact (C:\\Users\\PARK\\Documents\\LAB\\RNN vs LSTM\\FInal Example\\wandb\\run-20221015_200538-5remc85i\\files\\model-best)... Done. 0.1s\n"
     ]
    },
    {
     "name": "stdout",
     "output_type": "stream",
     "text": [
      "5/5 [==============================] - 2s 524ms/step - loss: 0.0658 - mae: 0.2000 - val_loss: 0.0588 - val_mae: 0.1872\n",
      "Epoch 148/1000\n",
      "5/5 [==============================] - 1s 182ms/step - loss: 0.0675 - mae: 0.2032 - val_loss: 0.0649 - val_mae: 0.1976\n",
      "Epoch 149/1000\n",
      "5/5 [==============================] - 1s 142ms/step - loss: 0.0679 - mae: 0.2033 - val_loss: 0.0690 - val_mae: 0.2010\n",
      "Epoch 150/1000\n",
      "5/5 [==============================] - 1s 145ms/step - loss: 0.0705 - mae: 0.2093 - val_loss: 0.0787 - val_mae: 0.2136\n",
      "Epoch 151/1000\n",
      "5/5 [==============================] - 1s 152ms/step - loss: 0.0664 - mae: 0.1986 - val_loss: 0.0632 - val_mae: 0.1935\n",
      "Epoch 152/1000\n",
      "5/5 [==============================] - 1s 150ms/step - loss: 0.0684 - mae: 0.2026 - val_loss: 0.0692 - val_mae: 0.2119\n",
      "Epoch 153/1000\n",
      "5/5 [==============================] - 1s 154ms/step - loss: 0.0689 - mae: 0.2025 - val_loss: 0.0609 - val_mae: 0.1913\n",
      "Epoch 154/1000\n",
      "5/5 [==============================] - 1s 150ms/step - loss: 0.0643 - mae: 0.1966 - val_loss: 0.0604 - val_mae: 0.1910\n",
      "Epoch 155/1000\n",
      "5/5 [==============================] - 1s 160ms/step - loss: 0.0636 - mae: 0.1968 - val_loss: 0.0686 - val_mae: 0.2007\n",
      "Epoch 156/1000\n",
      "5/5 [==============================] - 1s 157ms/step - loss: 0.0665 - mae: 0.2023 - val_loss: 0.0701 - val_mae: 0.2003\n",
      "Epoch 157/1000\n",
      "5/5 [==============================] - 1s 153ms/step - loss: 0.0677 - mae: 0.1989 - val_loss: 0.0628 - val_mae: 0.1971\n",
      "Epoch 158/1000\n",
      "5/5 [==============================] - 1s 152ms/step - loss: 0.0640 - mae: 0.1955 - val_loss: 0.0649 - val_mae: 0.1964\n",
      "Epoch 159/1000\n",
      "5/5 [==============================] - 1s 150ms/step - loss: 0.0652 - mae: 0.2002 - val_loss: 0.0680 - val_mae: 0.1983\n",
      "Epoch 160/1000\n",
      "5/5 [==============================] - 1s 153ms/step - loss: 0.0662 - mae: 0.1978 - val_loss: 0.0669 - val_mae: 0.2048\n",
      "Epoch 161/1000\n",
      "5/5 [==============================] - 1s 150ms/step - loss: 0.0644 - mae: 0.1989 - val_loss: 0.0608 - val_mae: 0.1902\n",
      "Epoch 162/1000\n",
      "5/5 [==============================] - 1s 153ms/step - loss: 0.0648 - mae: 0.1987 - val_loss: 0.0746 - val_mae: 0.2130\n",
      "Epoch 163/1000\n",
      "5/5 [==============================] - 1s 153ms/step - loss: 0.0668 - mae: 0.2026 - val_loss: 0.0676 - val_mae: 0.2002\n",
      "Epoch 164/1000\n",
      "5/5 [==============================] - 1s 153ms/step - loss: 0.0678 - mae: 0.2025 - val_loss: 0.0650 - val_mae: 0.1974\n",
      "Epoch 165/1000\n",
      "5/5 [==============================] - 1s 151ms/step - loss: 0.0643 - mae: 0.1960 - val_loss: 0.0609 - val_mae: 0.1920\n",
      "Epoch 166/1000\n",
      "5/5 [==============================] - 1s 151ms/step - loss: 0.0635 - mae: 0.1962 - val_loss: 0.0647 - val_mae: 0.2003\n",
      "Epoch 167/1000\n",
      "5/5 [==============================] - 1s 153ms/step - loss: 0.0666 - mae: 0.2004 - val_loss: 0.0622 - val_mae: 0.1907\n",
      "Epoch 168/1000\n",
      "5/5 [==============================] - 1s 149ms/step - loss: 0.0642 - mae: 0.1956 - val_loss: 0.0593 - val_mae: 0.1896\n",
      "Epoch 169/1000\n",
      "5/5 [==============================] - 1s 155ms/step - loss: 0.0641 - mae: 0.1974 - val_loss: 0.0628 - val_mae: 0.1904\n",
      "Epoch 170/1000\n",
      "5/5 [==============================] - 1s 159ms/step - loss: 0.0634 - mae: 0.1941 - val_loss: 0.0616 - val_mae: 0.1931\n",
      "Epoch 171/1000\n",
      "5/5 [==============================] - 1s 157ms/step - loss: 0.0631 - mae: 0.1942 - val_loss: 0.0600 - val_mae: 0.1881\n",
      "Epoch 172/1000\n",
      "5/5 [==============================] - 1s 154ms/step - loss: 0.0619 - mae: 0.1927 - val_loss: 0.0619 - val_mae: 0.1924\n",
      "Epoch 173/1000\n",
      "5/5 [==============================] - 1s 151ms/step - loss: 0.0619 - mae: 0.1926 - val_loss: 0.0656 - val_mae: 0.1951\n",
      "Epoch 174/1000\n",
      "5/5 [==============================] - 1s 147ms/step - loss: 0.0642 - mae: 0.1960 - val_loss: 0.0649 - val_mae: 0.1954\n",
      "Epoch 175/1000\n",
      "5/5 [==============================] - ETA: 0s - loss: 0.0651 - mae: 0.1974INFO:tensorflow:Assets written to: C:\\Users\\PARK\\Documents\\LAB\\RNN vs LSTM\\FInal Example\\wandb\\run-20221015_200538-5remc85i\\files\\model-best\\assets\n"
     ]
    },
    {
     "name": "stderr",
     "output_type": "stream",
     "text": [
      "\u001b[34m\u001b[1mwandb\u001b[0m: Adding directory to artifact (C:\\Users\\PARK\\Documents\\LAB\\RNN vs LSTM\\FInal Example\\wandb\\run-20221015_200538-5remc85i\\files\\model-best)... Done. 0.1s\n"
     ]
    },
    {
     "name": "stdout",
     "output_type": "stream",
     "text": [
      "5/5 [==============================] - 2s 498ms/step - loss: 0.0651 - mae: 0.1974 - val_loss: 0.0585 - val_mae: 0.1876\n",
      "Epoch 176/1000\n",
      "5/5 [==============================] - 1s 174ms/step - loss: 0.0638 - mae: 0.1955 - val_loss: 0.0660 - val_mae: 0.2055\n",
      "Epoch 177/1000\n",
      "5/5 [==============================] - 1s 153ms/step - loss: 0.0649 - mae: 0.1998 - val_loss: 0.0675 - val_mae: 0.1966\n",
      "Epoch 178/1000\n",
      "5/5 [==============================] - 1s 150ms/step - loss: 0.0668 - mae: 0.2030 - val_loss: 0.0638 - val_mae: 0.1954\n",
      "Epoch 179/1000\n",
      "5/5 [==============================] - 1s 148ms/step - loss: 0.0660 - mae: 0.1987 - val_loss: 0.0617 - val_mae: 0.1911\n",
      "Epoch 180/1000\n",
      "5/5 [==============================] - 1s 149ms/step - loss: 0.0654 - mae: 0.1981 - val_loss: 0.0604 - val_mae: 0.1926\n",
      "Epoch 181/1000\n",
      "5/5 [==============================] - 1s 159ms/step - loss: 0.0625 - mae: 0.1953 - val_loss: 0.0663 - val_mae: 0.1967\n",
      "Epoch 182/1000\n",
      "5/5 [==============================] - 1s 150ms/step - loss: 0.0628 - mae: 0.1946 - val_loss: 0.0597 - val_mae: 0.1907\n",
      "Epoch 183/1000\n",
      "5/5 [==============================] - 1s 154ms/step - loss: 0.0642 - mae: 0.1951 - val_loss: 0.0657 - val_mae: 0.2006\n",
      "Epoch 184/1000\n",
      "5/5 [==============================] - 1s 158ms/step - loss: 0.0659 - mae: 0.1988 - val_loss: 0.0587 - val_mae: 0.1869\n",
      "Epoch 185/1000\n",
      "5/5 [==============================] - 1s 152ms/step - loss: 0.0632 - mae: 0.1959 - val_loss: 0.0649 - val_mae: 0.1938\n",
      "Epoch 186/1000\n",
      "4/5 [=======================>......] - ETA: 0s - loss: 0.0621 - mae: 0.1923INFO:tensorflow:Assets written to: C:\\Users\\PARK\\Documents\\LAB\\RNN vs LSTM\\FInal Example\\wandb\\run-20221015_200538-5remc85i\\files\\model-best\\assets\n"
     ]
    },
    {
     "name": "stderr",
     "output_type": "stream",
     "text": [
      "\u001b[34m\u001b[1mwandb\u001b[0m: Adding directory to artifact (C:\\Users\\PARK\\Documents\\LAB\\RNN vs LSTM\\FInal Example\\wandb\\run-20221015_200538-5remc85i\\files\\model-best)... Done. 0.0s\n"
     ]
    },
    {
     "name": "stdout",
     "output_type": "stream",
     "text": [
      "5/5 [==============================] - 2s 490ms/step - loss: 0.0624 - mae: 0.1934 - val_loss: 0.0582 - val_mae: 0.1855\n",
      "Epoch 187/1000\n",
      "5/5 [==============================] - 1s 174ms/step - loss: 0.0613 - mae: 0.1909 - val_loss: 0.0621 - val_mae: 0.1967\n",
      "Epoch 188/1000\n",
      "5/5 [==============================] - 1s 152ms/step - loss: 0.0637 - mae: 0.1972 - val_loss: 0.0645 - val_mae: 0.1971\n",
      "Epoch 189/1000\n",
      "5/5 [==============================] - 1s 150ms/step - loss: 0.0641 - mae: 0.1970 - val_loss: 0.0645 - val_mae: 0.1955\n",
      "Epoch 190/1000\n",
      "5/5 [==============================] - 1s 150ms/step - loss: 0.0619 - mae: 0.1923 - val_loss: 0.0614 - val_mae: 0.1896\n",
      "Epoch 191/1000\n",
      "5/5 [==============================] - 1s 148ms/step - loss: 0.0626 - mae: 0.1920 - val_loss: 0.0598 - val_mae: 0.1932\n",
      "Epoch 192/1000\n",
      "5/5 [==============================] - 1s 151ms/step - loss: 0.0631 - mae: 0.1957 - val_loss: 0.0685 - val_mae: 0.2040\n",
      "Epoch 193/1000\n",
      "5/5 [==============================] - 1s 152ms/step - loss: 0.0682 - mae: 0.2048 - val_loss: 0.0713 - val_mae: 0.2065\n",
      "Epoch 194/1000\n",
      "5/5 [==============================] - 1s 151ms/step - loss: 0.0694 - mae: 0.2066 - val_loss: 0.0734 - val_mae: 0.2078\n",
      "Epoch 195/1000\n",
      "5/5 [==============================] - 1s 150ms/step - loss: 0.0677 - mae: 0.2028 - val_loss: 0.0679 - val_mae: 0.2017\n",
      "Epoch 196/1000\n",
      "5/5 [==============================] - 1s 152ms/step - loss: 0.0650 - mae: 0.1977 - val_loss: 0.0686 - val_mae: 0.2078\n",
      "Epoch 197/1000\n",
      "5/5 [==============================] - 1s 155ms/step - loss: 0.0641 - mae: 0.1967 - val_loss: 0.0618 - val_mae: 0.1918\n",
      "Epoch 198/1000\n",
      "5/5 [==============================] - 1s 162ms/step - loss: 0.0639 - mae: 0.1987 - val_loss: 0.0639 - val_mae: 0.1941\n",
      "Epoch 199/1000\n",
      "5/5 [==============================] - 1s 152ms/step - loss: 0.0640 - mae: 0.1971 - val_loss: 0.0615 - val_mae: 0.1922\n",
      "Epoch 200/1000\n",
      "5/5 [==============================] - 1s 148ms/step - loss: 0.0621 - mae: 0.1924 - val_loss: 0.0597 - val_mae: 0.1905\n",
      "Epoch 201/1000\n",
      "5/5 [==============================] - 1s 150ms/step - loss: 0.0630 - mae: 0.1951 - val_loss: 0.0634 - val_mae: 0.1925\n",
      "Epoch 202/1000\n",
      "5/5 [==============================] - 1s 150ms/step - loss: 0.0623 - mae: 0.1929 - val_loss: 0.0618 - val_mae: 0.1932\n",
      "Epoch 203/1000\n",
      "5/5 [==============================] - 1s 150ms/step - loss: 0.0601 - mae: 0.1893 - val_loss: 0.0619 - val_mae: 0.1899\n",
      "Epoch 204/1000\n",
      "5/5 [==============================] - 1s 147ms/step - loss: 0.0608 - mae: 0.1901 - val_loss: 0.0606 - val_mae: 0.1910\n",
      "Epoch 205/1000\n",
      "4/5 [=======================>......] - ETA: 0s - loss: 0.0606 - mae: 0.1901INFO:tensorflow:Assets written to: C:\\Users\\PARK\\Documents\\LAB\\RNN vs LSTM\\FInal Example\\wandb\\run-20221015_200538-5remc85i\\files\\model-best\\assets\n"
     ]
    },
    {
     "name": "stderr",
     "output_type": "stream",
     "text": [
      "\u001b[34m\u001b[1mwandb\u001b[0m: Adding directory to artifact (C:\\Users\\PARK\\Documents\\LAB\\RNN vs LSTM\\FInal Example\\wandb\\run-20221015_200538-5remc85i\\files\\model-best)... Done. 0.1s\n"
     ]
    },
    {
     "name": "stdout",
     "output_type": "stream",
     "text": [
      "5/5 [==============================] - 2s 521ms/step - loss: 0.0607 - mae: 0.1905 - val_loss: 0.0579 - val_mae: 0.1825\n",
      "Epoch 206/1000\n",
      "5/5 [==============================] - 1s 199ms/step - loss: 0.0591 - mae: 0.1872 - val_loss: 0.0602 - val_mae: 0.1908\n",
      "Epoch 207/1000\n",
      "5/5 [==============================] - 1s 147ms/step - loss: 0.0593 - mae: 0.1882 - val_loss: 0.0588 - val_mae: 0.1888\n",
      "Epoch 208/1000\n",
      "5/5 [==============================] - 1s 147ms/step - loss: 0.0613 - mae: 0.1923 - val_loss: 0.0639 - val_mae: 0.1918\n",
      "Epoch 209/1000\n",
      "5/5 [==============================] - 1s 153ms/step - loss: 0.0614 - mae: 0.1907 - val_loss: 0.0608 - val_mae: 0.1918\n",
      "Epoch 210/1000\n",
      "5/5 [==============================] - 1s 156ms/step - loss: 0.0620 - mae: 0.1927 - val_loss: 0.0589 - val_mae: 0.1904\n",
      "Epoch 211/1000\n",
      "5/5 [==============================] - 1s 161ms/step - loss: 0.0615 - mae: 0.1919 - val_loss: 0.0590 - val_mae: 0.1876\n",
      "Epoch 212/1000\n",
      "5/5 [==============================] - 1s 155ms/step - loss: 0.0616 - mae: 0.1916 - val_loss: 0.0685 - val_mae: 0.2040\n",
      "Epoch 213/1000\n",
      "5/5 [==============================] - 1s 152ms/step - loss: 0.0638 - mae: 0.1981 - val_loss: 0.0620 - val_mae: 0.1913\n",
      "Epoch 214/1000\n",
      "5/5 [==============================] - 1s 149ms/step - loss: 0.0641 - mae: 0.1963 - val_loss: 0.0625 - val_mae: 0.1941\n",
      "Epoch 215/1000\n",
      "5/5 [==============================] - 1s 146ms/step - loss: 0.0623 - mae: 0.1932 - val_loss: 0.0693 - val_mae: 0.2015\n",
      "Epoch 216/1000\n",
      "5/5 [==============================] - 1s 149ms/step - loss: 0.0635 - mae: 0.1964 - val_loss: 0.0662 - val_mae: 0.1971\n",
      "Epoch 217/1000\n",
      "5/5 [==============================] - 1s 148ms/step - loss: 0.0643 - mae: 0.1968 - val_loss: 0.0705 - val_mae: 0.2037\n",
      "Epoch 218/1000\n",
      "5/5 [==============================] - 1s 150ms/step - loss: 0.0680 - mae: 0.2030 - val_loss: 0.0726 - val_mae: 0.2059\n",
      "Epoch 219/1000\n",
      "5/5 [==============================] - 1s 151ms/step - loss: 0.0679 - mae: 0.2027 - val_loss: 0.0704 - val_mae: 0.2086\n",
      "Epoch 220/1000\n",
      "5/5 [==============================] - 1s 150ms/step - loss: 0.0682 - mae: 0.2036 - val_loss: 0.0678 - val_mae: 0.2081\n",
      "Epoch 221/1000\n",
      "5/5 [==============================] - 1s 153ms/step - loss: 0.0681 - mae: 0.2049 - val_loss: 0.0663 - val_mae: 0.2009\n",
      "Epoch 222/1000\n",
      "5/5 [==============================] - 1s 146ms/step - loss: 0.0666 - mae: 0.2022 - val_loss: 0.0665 - val_mae: 0.2017\n",
      "Epoch 223/1000\n",
      "5/5 [==============================] - 1s 151ms/step - loss: 0.0668 - mae: 0.2032 - val_loss: 0.0651 - val_mae: 0.1961\n",
      "Epoch 224/1000\n",
      "5/5 [==============================] - 1s 148ms/step - loss: 0.0661 - mae: 0.1997 - val_loss: 0.0673 - val_mae: 0.1989\n",
      "Epoch 225/1000\n",
      "5/5 [==============================] - 1s 149ms/step - loss: 0.0642 - mae: 0.1969 - val_loss: 0.0670 - val_mae: 0.2014\n",
      "Epoch 226/1000\n",
      "5/5 [==============================] - 1s 147ms/step - loss: 0.0661 - mae: 0.1992 - val_loss: 0.0616 - val_mae: 0.1921\n",
      "Epoch 227/1000\n",
      "5/5 [==============================] - 1s 150ms/step - loss: 0.0657 - mae: 0.1991 - val_loss: 0.0664 - val_mae: 0.1980\n",
      "Epoch 228/1000\n",
      "5/5 [==============================] - 1s 154ms/step - loss: 0.0654 - mae: 0.2002 - val_loss: 0.0709 - val_mae: 0.2036\n",
      "Epoch 229/1000\n",
      "5/5 [==============================] - 1s 156ms/step - loss: 0.0677 - mae: 0.2006 - val_loss: 0.0631 - val_mae: 0.1934\n",
      "Epoch 230/1000\n",
      "5/5 [==============================] - 1s 151ms/step - loss: 0.0640 - mae: 0.1964 - val_loss: 0.0705 - val_mae: 0.2027\n",
      "Epoch 231/1000\n",
      "5/5 [==============================] - 1s 151ms/step - loss: 0.0662 - mae: 0.1989 - val_loss: 0.0614 - val_mae: 0.1921\n",
      "Epoch 232/1000\n",
      "5/5 [==============================] - 1s 150ms/step - loss: 0.0626 - mae: 0.1931 - val_loss: 0.0624 - val_mae: 0.1936\n",
      "Epoch 233/1000\n",
      "5/5 [==============================] - 1s 150ms/step - loss: 0.0632 - mae: 0.1956 - val_loss: 0.0638 - val_mae: 0.1940\n",
      "Epoch 234/1000\n",
      "5/5 [==============================] - 1s 153ms/step - loss: 0.0644 - mae: 0.1958 - val_loss: 0.0642 - val_mae: 0.1955\n",
      "Epoch 235/1000\n",
      "5/5 [==============================] - 1s 152ms/step - loss: 0.0664 - mae: 0.1988 - val_loss: 0.0635 - val_mae: 0.1977\n",
      "Epoch 236/1000\n",
      "5/5 [==============================] - 1s 154ms/step - loss: 0.0626 - mae: 0.1944 - val_loss: 0.0605 - val_mae: 0.1909\n",
      "Epoch 237/1000\n",
      "5/5 [==============================] - 1s 155ms/step - loss: 0.0627 - mae: 0.1947 - val_loss: 0.0670 - val_mae: 0.1984\n",
      "Epoch 238/1000\n",
      "5/5 [==============================] - 1s 151ms/step - loss: 0.0646 - mae: 0.1962 - val_loss: 0.0585 - val_mae: 0.1871\n",
      "Epoch 239/1000\n",
      "5/5 [==============================] - 1s 154ms/step - loss: 0.0624 - mae: 0.1924 - val_loss: 0.0642 - val_mae: 0.1959\n",
      "Epoch 240/1000\n",
      "5/5 [==============================] - 1s 154ms/step - loss: 0.0627 - mae: 0.1942 - val_loss: 0.0616 - val_mae: 0.1921\n",
      "Epoch 241/1000\n",
      "5/5 [==============================] - ETA: 0s - loss: 0.0615 - mae: 0.1916INFO:tensorflow:Assets written to: C:\\Users\\PARK\\Documents\\LAB\\RNN vs LSTM\\FInal Example\\wandb\\run-20221015_200538-5remc85i\\files\\model-best\\assets\n"
     ]
    },
    {
     "name": "stderr",
     "output_type": "stream",
     "text": [
      "\u001b[34m\u001b[1mwandb\u001b[0m: Adding directory to artifact (C:\\Users\\PARK\\Documents\\LAB\\RNN vs LSTM\\FInal Example\\wandb\\run-20221015_200538-5remc85i\\files\\model-best)... Done. 0.0s\n"
     ]
    },
    {
     "name": "stdout",
     "output_type": "stream",
     "text": [
      "5/5 [==============================] - 2s 513ms/step - loss: 0.0615 - mae: 0.1916 - val_loss: 0.0578 - val_mae: 0.1850\n",
      "Epoch 242/1000\n",
      "5/5 [==============================] - 1s 156ms/step - loss: 0.0627 - mae: 0.1953 - val_loss: 0.0634 - val_mae: 0.1965\n",
      "Epoch 243/1000\n",
      "5/5 [==============================] - 1s 150ms/step - loss: 0.0629 - mae: 0.1945 - val_loss: 0.0628 - val_mae: 0.1964\n",
      "Epoch 244/1000\n",
      "5/5 [==============================] - 1s 151ms/step - loss: 0.0661 - mae: 0.2007 - val_loss: 0.0728 - val_mae: 0.2076\n",
      "Epoch 245/1000\n",
      "5/5 [==============================] - 1s 154ms/step - loss: 0.0658 - mae: 0.2020 - val_loss: 0.0664 - val_mae: 0.2010\n",
      "Epoch 246/1000\n",
      "5/5 [==============================] - 1s 153ms/step - loss: 0.0639 - mae: 0.1981 - val_loss: 0.0671 - val_mae: 0.2008\n",
      "Epoch 247/1000\n",
      "5/5 [==============================] - 1s 150ms/step - loss: 0.0672 - mae: 0.2031 - val_loss: 0.0630 - val_mae: 0.1968\n",
      "Epoch 248/1000\n",
      "5/5 [==============================] - 1s 153ms/step - loss: 0.0666 - mae: 0.2023 - val_loss: 0.0658 - val_mae: 0.1970\n",
      "Epoch 249/1000\n",
      "5/5 [==============================] - 1s 152ms/step - loss: 0.0668 - mae: 0.2031 - val_loss: 0.0728 - val_mae: 0.2080\n",
      "Epoch 250/1000\n",
      "5/5 [==============================] - 1s 149ms/step - loss: 0.0656 - mae: 0.2002 - val_loss: 0.0630 - val_mae: 0.1934\n",
      "Epoch 251/1000\n",
      "5/5 [==============================] - 1s 150ms/step - loss: 0.0638 - mae: 0.1969 - val_loss: 0.0612 - val_mae: 0.1903\n",
      "Epoch 252/1000\n",
      "5/5 [==============================] - 1s 156ms/step - loss: 0.0641 - mae: 0.1975 - val_loss: 0.0648 - val_mae: 0.1967\n",
      "Epoch 253/1000\n",
      "5/5 [==============================] - 1s 149ms/step - loss: 0.0642 - mae: 0.1980 - val_loss: 0.0633 - val_mae: 0.1952\n",
      "Epoch 254/1000\n",
      "5/5 [==============================] - 1s 152ms/step - loss: 0.0641 - mae: 0.1958 - val_loss: 0.0617 - val_mae: 0.1936\n",
      "Epoch 255/1000\n",
      "5/5 [==============================] - 1s 159ms/step - loss: 0.0641 - mae: 0.1962 - val_loss: 0.0648 - val_mae: 0.1983\n",
      "Epoch 256/1000\n",
      "5/5 [==============================] - 1s 157ms/step - loss: 0.0632 - mae: 0.1946 - val_loss: 0.0645 - val_mae: 0.1976\n",
      "Epoch 257/1000\n",
      "5/5 [==============================] - 1s 155ms/step - loss: 0.0619 - mae: 0.1932 - val_loss: 0.0604 - val_mae: 0.1876\n",
      "Epoch 258/1000\n",
      "5/5 [==============================] - 1s 148ms/step - loss: 0.0609 - mae: 0.1900 - val_loss: 0.0611 - val_mae: 0.1901\n",
      "Epoch 259/1000\n",
      "5/5 [==============================] - 1s 148ms/step - loss: 0.0616 - mae: 0.1935 - val_loss: 0.0676 - val_mae: 0.1977\n",
      "Epoch 260/1000\n",
      "5/5 [==============================] - 1s 151ms/step - loss: 0.0616 - mae: 0.1925 - val_loss: 0.0616 - val_mae: 0.1912\n",
      "Epoch 261/1000\n",
      "5/5 [==============================] - 1s 150ms/step - loss: 0.0627 - mae: 0.1956 - val_loss: 0.0697 - val_mae: 0.2069\n",
      "Epoch 262/1000\n",
      "5/5 [==============================] - 1s 148ms/step - loss: 0.0672 - mae: 0.2012 - val_loss: 0.0593 - val_mae: 0.1870\n",
      "Epoch 263/1000\n",
      "5/5 [==============================] - 1s 150ms/step - loss: 0.0613 - mae: 0.1906 - val_loss: 0.0649 - val_mae: 0.1972\n",
      "Epoch 264/1000\n",
      "5/5 [==============================] - 1s 152ms/step - loss: 0.0635 - mae: 0.1962 - val_loss: 0.0660 - val_mae: 0.1986\n",
      "Epoch 265/1000\n",
      "5/5 [==============================] - 1s 150ms/step - loss: 0.0629 - mae: 0.1937 - val_loss: 0.0654 - val_mae: 0.2019\n",
      "Epoch 266/1000\n",
      "5/5 [==============================] - 1s 151ms/step - loss: 0.0636 - mae: 0.1968 - val_loss: 0.0768 - val_mae: 0.2142\n",
      "Epoch 267/1000\n",
      "5/5 [==============================] - 1s 151ms/step - loss: 0.0679 - mae: 0.2039 - val_loss: 0.0645 - val_mae: 0.1982\n",
      "Epoch 268/1000\n",
      "5/5 [==============================] - 1s 150ms/step - loss: 0.0652 - mae: 0.1986 - val_loss: 0.0694 - val_mae: 0.2025\n",
      "Epoch 269/1000\n",
      "5/5 [==============================] - 1s 149ms/step - loss: 0.0657 - mae: 0.1985 - val_loss: 0.0671 - val_mae: 0.2000\n",
      "Epoch 270/1000\n",
      "5/5 [==============================] - 1s 155ms/step - loss: 0.0641 - mae: 0.1949 - val_loss: 0.0614 - val_mae: 0.1918\n",
      "Epoch 271/1000\n",
      "5/5 [==============================] - 1s 159ms/step - loss: 0.0654 - mae: 0.1993 - val_loss: 0.0669 - val_mae: 0.2049\n",
      "Epoch 272/1000\n",
      "5/5 [==============================] - 1s 154ms/step - loss: 0.0642 - mae: 0.1988 - val_loss: 0.0622 - val_mae: 0.1941\n",
      "Epoch 273/1000\n",
      "5/5 [==============================] - 1s 149ms/step - loss: 0.0652 - mae: 0.1998 - val_loss: 0.0638 - val_mae: 0.1957\n",
      "Epoch 274/1000\n",
      "5/5 [==============================] - 1s 149ms/step - loss: 0.0641 - mae: 0.1979 - val_loss: 0.0651 - val_mae: 0.1980\n",
      "Epoch 275/1000\n",
      "5/5 [==============================] - 1s 149ms/step - loss: 0.0625 - mae: 0.1947 - val_loss: 0.0749 - val_mae: 0.2139\n",
      "Epoch 276/1000\n",
      "5/5 [==============================] - 1s 151ms/step - loss: 0.0694 - mae: 0.2059 - val_loss: 0.0786 - val_mae: 0.2196\n",
      "Epoch 277/1000\n",
      "5/5 [==============================] - 1s 149ms/step - loss: 0.0695 - mae: 0.2056 - val_loss: 0.0635 - val_mae: 0.1940\n",
      "Epoch 278/1000\n",
      "5/5 [==============================] - 1s 147ms/step - loss: 0.0652 - mae: 0.1997 - val_loss: 0.0668 - val_mae: 0.2001\n",
      "Epoch 279/1000\n",
      "5/5 [==============================] - 1s 149ms/step - loss: 0.0617 - mae: 0.1932 - val_loss: 0.0632 - val_mae: 0.1966\n",
      "Epoch 280/1000\n",
      "5/5 [==============================] - 1s 148ms/step - loss: 0.0618 - mae: 0.1927 - val_loss: 0.0607 - val_mae: 0.1938\n",
      "Epoch 281/1000\n",
      "5/5 [==============================] - 1s 149ms/step - loss: 0.0643 - mae: 0.1982 - val_loss: 0.0696 - val_mae: 0.2054\n",
      "Epoch 282/1000\n",
      "5/5 [==============================] - 1s 148ms/step - loss: 0.0650 - mae: 0.1977 - val_loss: 0.0778 - val_mae: 0.2213\n",
      "Epoch 283/1000\n",
      "5/5 [==============================] - 1s 152ms/step - loss: 0.0717 - mae: 0.2108 - val_loss: 0.0644 - val_mae: 0.1949\n",
      "Epoch 284/1000\n",
      "5/5 [==============================] - 1s 149ms/step - loss: 0.0674 - mae: 0.2039 - val_loss: 0.0864 - val_mae: 0.2313\n",
      "Epoch 285/1000\n",
      "5/5 [==============================] - 1s 149ms/step - loss: 0.0782 - mae: 0.2205 - val_loss: 0.0661 - val_mae: 0.2040\n",
      "Epoch 286/1000\n",
      "5/5 [==============================] - 1s 154ms/step - loss: 0.0698 - mae: 0.2063 - val_loss: 0.0671 - val_mae: 0.2064\n",
      "Epoch 287/1000\n",
      "5/5 [==============================] - 1s 158ms/step - loss: 0.0687 - mae: 0.2045 - val_loss: 0.0676 - val_mae: 0.2034\n",
      "Epoch 288/1000\n",
      "5/5 [==============================] - 1s 153ms/step - loss: 0.0683 - mae: 0.2052 - val_loss: 0.0659 - val_mae: 0.2021\n",
      "Epoch 289/1000\n",
      "5/5 [==============================] - 1s 147ms/step - loss: 0.0670 - mae: 0.2018 - val_loss: 0.0729 - val_mae: 0.2145\n",
      "Epoch 290/1000\n",
      "5/5 [==============================] - 1s 148ms/step - loss: 0.0679 - mae: 0.2029 - val_loss: 0.0671 - val_mae: 0.2051\n",
      "Epoch 291/1000\n",
      "5/5 [==============================] - 1s 150ms/step - loss: 0.0644 - mae: 0.1991 - val_loss: 0.0661 - val_mae: 0.1979\n",
      "Epoch 292/1000\n",
      "5/5 [==============================] - 1s 184ms/step - loss: 0.0671 - mae: 0.2012 - val_loss: 0.0693 - val_mae: 0.2025\n",
      "Epoch 293/1000\n",
      "5/5 [==============================] - 1s 149ms/step - loss: 0.0650 - mae: 0.1983 - val_loss: 0.0618 - val_mae: 0.1915\n",
      "Epoch 294/1000\n",
      "5/5 [==============================] - 1s 148ms/step - loss: 0.0613 - mae: 0.1903 - val_loss: 0.0589 - val_mae: 0.1859\n",
      "Epoch 295/1000\n",
      "5/5 [==============================] - 1s 148ms/step - loss: 0.0610 - mae: 0.1903 - val_loss: 0.0632 - val_mae: 0.1945\n",
      "Epoch 296/1000\n",
      "5/5 [==============================] - 1s 148ms/step - loss: 0.0603 - mae: 0.1904 - val_loss: 0.0614 - val_mae: 0.1917\n",
      "Epoch 297/1000\n",
      "5/5 [==============================] - 1s 150ms/step - loss: 0.0625 - mae: 0.1938 - val_loss: 0.0627 - val_mae: 0.1907\n",
      "Epoch 298/1000\n",
      "5/5 [==============================] - 1s 152ms/step - loss: 0.0624 - mae: 0.1935 - val_loss: 0.0609 - val_mae: 0.1908\n",
      "Epoch 299/1000\n",
      "5/5 [==============================] - 1s 148ms/step - loss: 0.0627 - mae: 0.1945 - val_loss: 0.0597 - val_mae: 0.1910\n",
      "Epoch 300/1000\n",
      "5/5 [==============================] - 1s 150ms/step - loss: 0.0625 - mae: 0.1947 - val_loss: 0.0606 - val_mae: 0.1882\n",
      "Epoch 301/1000\n",
      "5/5 [==============================] - 1s 152ms/step - loss: 0.0604 - mae: 0.1894 - val_loss: 0.0642 - val_mae: 0.1977\n",
      "Epoch 302/1000\n"
     ]
    },
    {
     "name": "stdout",
     "output_type": "stream",
     "text": [
      "5/5 [==============================] - 1s 169ms/step - loss: 0.0628 - mae: 0.1936 - val_loss: 0.0705 - val_mae: 0.2103\n",
      "Epoch 303/1000\n",
      "5/5 [==============================] - 1s 156ms/step - loss: 0.0685 - mae: 0.2043 - val_loss: 0.0622 - val_mae: 0.1914\n",
      "Epoch 304/1000\n",
      "5/5 [==============================] - 1s 151ms/step - loss: 0.0657 - mae: 0.1990 - val_loss: 0.0639 - val_mae: 0.1963\n",
      "Epoch 305/1000\n",
      "5/5 [==============================] - 1s 149ms/step - loss: 0.0631 - mae: 0.1957 - val_loss: 0.0615 - val_mae: 0.1896\n",
      "Epoch 306/1000\n",
      "5/5 [==============================] - 1s 149ms/step - loss: 0.0627 - mae: 0.1939 - val_loss: 0.0638 - val_mae: 0.1936\n",
      "Epoch 307/1000\n",
      "5/5 [==============================] - 1s 147ms/step - loss: 0.0625 - mae: 0.1925 - val_loss: 0.0646 - val_mae: 0.2009\n",
      "Epoch 308/1000\n",
      "5/5 [==============================] - 1s 150ms/step - loss: 0.0623 - mae: 0.1926 - val_loss: 0.0599 - val_mae: 0.1887\n",
      "Epoch 309/1000\n",
      "5/5 [==============================] - 1s 152ms/step - loss: 0.0639 - mae: 0.1963 - val_loss: 0.0654 - val_mae: 0.1968\n",
      "Epoch 310/1000\n",
      "5/5 [==============================] - 1s 153ms/step - loss: 0.0619 - mae: 0.1942 - val_loss: 0.0719 - val_mae: 0.2117\n",
      "Epoch 311/1000\n",
      "5/5 [==============================] - 1s 150ms/step - loss: 0.0655 - mae: 0.1988 - val_loss: 0.0673 - val_mae: 0.1998\n",
      "Epoch 312/1000\n",
      "5/5 [==============================] - 1s 154ms/step - loss: 0.0656 - mae: 0.2004 - val_loss: 0.0669 - val_mae: 0.1999\n",
      "Epoch 313/1000\n",
      "5/5 [==============================] - 1s 158ms/step - loss: 0.0623 - mae: 0.1927 - val_loss: 0.0645 - val_mae: 0.1965\n",
      "Epoch 314/1000\n",
      "5/5 [==============================] - 1s 149ms/step - loss: 0.0641 - mae: 0.1971 - val_loss: 0.0667 - val_mae: 0.1955\n",
      "Epoch 315/1000\n",
      "5/5 [==============================] - 1s 150ms/step - loss: 0.0641 - mae: 0.1963 - val_loss: 0.0613 - val_mae: 0.1924\n",
      "Epoch 316/1000\n",
      "5/5 [==============================] - 1s 150ms/step - loss: 0.0639 - mae: 0.1960 - val_loss: 0.0653 - val_mae: 0.1990\n",
      "Epoch 317/1000\n",
      "5/5 [==============================] - 1s 153ms/step - loss: 0.0619 - mae: 0.1938 - val_loss: 0.0604 - val_mae: 0.1909\n",
      "Epoch 318/1000\n",
      "5/5 [==============================] - 1s 149ms/step - loss: 0.0623 - mae: 0.1931 - val_loss: 0.0707 - val_mae: 0.2086\n",
      "Epoch 319/1000\n",
      "5/5 [==============================] - 1s 152ms/step - loss: 0.0663 - mae: 0.2015 - val_loss: 0.0658 - val_mae: 0.2031\n",
      "Epoch 320/1000\n",
      "5/5 [==============================] - 1s 157ms/step - loss: 0.0660 - mae: 0.2009 - val_loss: 0.0667 - val_mae: 0.2010\n",
      "Epoch 321/1000\n",
      "5/5 [==============================] - 1s 153ms/step - loss: 0.0668 - mae: 0.2031 - val_loss: 0.0649 - val_mae: 0.2000\n",
      "Epoch 322/1000\n",
      "5/5 [==============================] - 1s 152ms/step - loss: 0.0661 - mae: 0.2015 - val_loss: 0.0634 - val_mae: 0.1928\n",
      "Epoch 323/1000\n",
      "5/5 [==============================] - 1s 151ms/step - loss: 0.0652 - mae: 0.1985 - val_loss: 0.0654 - val_mae: 0.1945\n",
      "Epoch 324/1000\n",
      "5/5 [==============================] - 1s 152ms/step - loss: 0.0676 - mae: 0.2019 - val_loss: 0.0682 - val_mae: 0.2065\n",
      "Epoch 325/1000\n",
      "5/5 [==============================] - 1s 152ms/step - loss: 0.0675 - mae: 0.2041 - val_loss: 0.0652 - val_mae: 0.2002\n",
      "Epoch 326/1000\n",
      "5/5 [==============================] - 1s 148ms/step - loss: 0.0649 - mae: 0.1980 - val_loss: 0.0654 - val_mae: 0.1982\n",
      "Epoch 327/1000\n",
      "5/5 [==============================] - 1s 149ms/step - loss: 0.0641 - mae: 0.1956 - val_loss: 0.0644 - val_mae: 0.1966\n",
      "Epoch 328/1000\n",
      "5/5 [==============================] - 1s 152ms/step - loss: 0.0619 - mae: 0.1932 - val_loss: 0.0658 - val_mae: 0.1987\n",
      "Epoch 329/1000\n",
      "5/5 [==============================] - 1s 150ms/step - loss: 0.0634 - mae: 0.1964 - val_loss: 0.0694 - val_mae: 0.2060\n",
      "Epoch 330/1000\n",
      "5/5 [==============================] - 1s 147ms/step - loss: 0.0656 - mae: 0.2015 - val_loss: 0.0634 - val_mae: 0.1929\n",
      "Epoch 331/1000\n",
      "5/5 [==============================] - 1s 149ms/step - loss: 0.0637 - mae: 0.1949 - val_loss: 0.0602 - val_mae: 0.1900\n",
      "Epoch 332/1000\n",
      "5/5 [==============================] - 1s 152ms/step - loss: 0.0622 - mae: 0.1929 - val_loss: 0.0649 - val_mae: 0.1988\n",
      "Epoch 333/1000\n",
      "5/5 [==============================] - 1s 148ms/step - loss: 0.0614 - mae: 0.1936 - val_loss: 0.0614 - val_mae: 0.1889\n",
      "Epoch 334/1000\n",
      "5/5 [==============================] - 1s 148ms/step - loss: 0.0625 - mae: 0.1945 - val_loss: 0.0671 - val_mae: 0.2019\n",
      "Epoch 335/1000\n",
      "5/5 [==============================] - 1s 150ms/step - loss: 0.0645 - mae: 0.1983 - val_loss: 0.0676 - val_mae: 0.1987\n",
      "Epoch 336/1000\n",
      "5/5 [==============================] - 1s 152ms/step - loss: 0.0624 - mae: 0.1941 - val_loss: 0.0627 - val_mae: 0.1924\n",
      "Epoch 337/1000\n",
      "5/5 [==============================] - 1s 150ms/step - loss: 0.0625 - mae: 0.1932 - val_loss: 0.0622 - val_mae: 0.1939\n",
      "Epoch 338/1000\n",
      "5/5 [==============================] - 1s 149ms/step - loss: 0.0607 - mae: 0.1908 - val_loss: 0.0635 - val_mae: 0.1966\n",
      "Epoch 339/1000\n",
      "5/5 [==============================] - 1s 145ms/step - loss: 0.0633 - mae: 0.1941 - val_loss: 0.0715 - val_mae: 0.2141\n",
      "Epoch 340/1000\n",
      "5/5 [==============================] - 1s 149ms/step - loss: 0.0649 - mae: 0.1988 - val_loss: 0.0635 - val_mae: 0.1959\n",
      "Epoch 341/1000\n",
      "5/5 [==============================] - 1s 149ms/step - loss: 0.0631 - mae: 0.1956 - val_loss: 0.0746 - val_mae: 0.2110\n",
      "Epoch 342/1000\n",
      "5/5 [==============================] - 1s 147ms/step - loss: 0.0677 - mae: 0.2033 - val_loss: 0.0742 - val_mae: 0.2095\n",
      "Epoch 343/1000\n",
      "5/5 [==============================] - 1s 149ms/step - loss: 0.0687 - mae: 0.2037 - val_loss: 0.0588 - val_mae: 0.1847\n",
      "Epoch 344/1000\n",
      "5/5 [==============================] - 1s 152ms/step - loss: 0.0654 - mae: 0.1986 - val_loss: 0.0811 - val_mae: 0.2217\n",
      "Epoch 345/1000\n",
      "5/5 [==============================] - 1s 151ms/step - loss: 0.0675 - mae: 0.2026 - val_loss: 0.0617 - val_mae: 0.1906\n",
      "Epoch 346/1000\n",
      "5/5 [==============================] - 1s 149ms/step - loss: 0.0652 - mae: 0.1989 - val_loss: 0.0677 - val_mae: 0.2013\n",
      "Epoch 347/1000\n",
      "5/5 [==============================] - 1s 148ms/step - loss: 0.0665 - mae: 0.2008 - val_loss: 0.0760 - val_mae: 0.2147\n",
      "Epoch 348/1000\n",
      "5/5 [==============================] - 1s 152ms/step - loss: 0.0683 - mae: 0.2047 - val_loss: 0.0671 - val_mae: 0.2026\n",
      "Epoch 349/1000\n",
      "5/5 [==============================] - 1s 152ms/step - loss: 0.0681 - mae: 0.2039 - val_loss: 0.0644 - val_mae: 0.1986\n",
      "Epoch 350/1000\n",
      "5/5 [==============================] - 1s 150ms/step - loss: 0.0663 - mae: 0.2006 - val_loss: 0.0629 - val_mae: 0.1957\n",
      "Epoch 351/1000\n",
      "5/5 [==============================] - 1s 154ms/step - loss: 0.0619 - mae: 0.1924 - val_loss: 0.0658 - val_mae: 0.2023\n",
      "Epoch 352/1000\n",
      "5/5 [==============================] - 1s 151ms/step - loss: 0.0676 - mae: 0.2036 - val_loss: 0.0662 - val_mae: 0.2021\n",
      "Epoch 353/1000\n",
      "5/5 [==============================] - 1s 154ms/step - loss: 0.0646 - mae: 0.1990 - val_loss: 0.0673 - val_mae: 0.1980\n",
      "Epoch 354/1000\n",
      "5/5 [==============================] - 1s 152ms/step - loss: 0.0652 - mae: 0.1985 - val_loss: 0.0628 - val_mae: 0.1973\n",
      "Epoch 355/1000\n",
      "5/5 [==============================] - 1s 154ms/step - loss: 0.0666 - mae: 0.2009 - val_loss: 0.0658 - val_mae: 0.2006\n",
      "Epoch 356/1000\n",
      "5/5 [==============================] - 1s 152ms/step - loss: 0.0641 - mae: 0.1970 - val_loss: 0.0595 - val_mae: 0.1886\n",
      "Epoch 357/1000\n",
      "5/5 [==============================] - 1s 153ms/step - loss: 0.0600 - mae: 0.1889 - val_loss: 0.0677 - val_mae: 0.2053\n",
      "Epoch 358/1000\n",
      "5/5 [==============================] - 1s 151ms/step - loss: 0.0663 - mae: 0.2005 - val_loss: 0.0675 - val_mae: 0.2073\n",
      "Epoch 359/1000\n",
      "5/5 [==============================] - 1s 151ms/step - loss: 0.0656 - mae: 0.2013 - val_loss: 0.0717 - val_mae: 0.2081\n",
      "Epoch 360/1000\n",
      "5/5 [==============================] - 1s 158ms/step - loss: 0.0662 - mae: 0.1995 - val_loss: 0.0612 - val_mae: 0.1901\n",
      "Epoch 361/1000\n",
      "5/5 [==============================] - 1s 152ms/step - loss: 0.0618 - mae: 0.1947 - val_loss: 0.0665 - val_mae: 0.2019\n",
      "Epoch 362/1000\n",
      "5/5 [==============================] - 1s 151ms/step - loss: 0.0643 - mae: 0.1974 - val_loss: 0.0669 - val_mae: 0.2070\n",
      "Epoch 363/1000\n"
     ]
    },
    {
     "name": "stdout",
     "output_type": "stream",
     "text": [
      "5/5 [==============================] - 1s 152ms/step - loss: 0.0662 - mae: 0.2012 - val_loss: 0.0744 - val_mae: 0.2120\n",
      "Epoch 364/1000\n",
      "5/5 [==============================] - 1s 151ms/step - loss: 0.0711 - mae: 0.2096 - val_loss: 0.0731 - val_mae: 0.2105\n",
      "Epoch 365/1000\n",
      "5/5 [==============================] - 1s 150ms/step - loss: 0.0725 - mae: 0.2096 - val_loss: 0.0765 - val_mae: 0.2172\n",
      "Epoch 366/1000\n",
      "5/5 [==============================] - 1s 151ms/step - loss: 0.0684 - mae: 0.2043 - val_loss: 0.0637 - val_mae: 0.1961\n",
      "Epoch 367/1000\n",
      "5/5 [==============================] - 1s 150ms/step - loss: 0.0652 - mae: 0.1990 - val_loss: 0.0627 - val_mae: 0.1948\n",
      "Epoch 368/1000\n",
      "5/5 [==============================] - 1s 154ms/step - loss: 0.0628 - mae: 0.1962 - val_loss: 0.0621 - val_mae: 0.1928\n",
      "Epoch 369/1000\n",
      "5/5 [==============================] - 1s 150ms/step - loss: 0.0648 - mae: 0.1987 - val_loss: 0.0662 - val_mae: 0.2011\n",
      "Epoch 370/1000\n",
      "5/5 [==============================] - 1s 149ms/step - loss: 0.0641 - mae: 0.1991 - val_loss: 0.0706 - val_mae: 0.2060\n",
      "Epoch 371/1000\n",
      "5/5 [==============================] - 1s 150ms/step - loss: 0.0657 - mae: 0.2016 - val_loss: 0.0685 - val_mae: 0.2047\n",
      "Epoch 372/1000\n",
      "5/5 [==============================] - 1s 150ms/step - loss: 0.0649 - mae: 0.1998 - val_loss: 0.0712 - val_mae: 0.2046\n",
      "Epoch 373/1000\n",
      "5/5 [==============================] - 1s 150ms/step - loss: 0.0667 - mae: 0.2012 - val_loss: 0.0652 - val_mae: 0.1974\n",
      "Epoch 374/1000\n",
      "5/5 [==============================] - 1s 152ms/step - loss: 0.0683 - mae: 0.2041 - val_loss: 0.0740 - val_mae: 0.2109\n",
      "Epoch 375/1000\n",
      "5/5 [==============================] - 1s 151ms/step - loss: 0.0694 - mae: 0.2054 - val_loss: 0.0632 - val_mae: 0.1968\n",
      "Epoch 376/1000\n",
      "5/5 [==============================] - 1s 150ms/step - loss: 0.0644 - mae: 0.1982 - val_loss: 0.0642 - val_mae: 0.1961\n",
      "Epoch 377/1000\n",
      "5/5 [==============================] - 1s 149ms/step - loss: 0.0628 - mae: 0.1962 - val_loss: 0.0638 - val_mae: 0.1966\n",
      "Epoch 378/1000\n",
      "5/5 [==============================] - 1s 151ms/step - loss: 0.0634 - mae: 0.1963 - val_loss: 0.0636 - val_mae: 0.1972\n",
      "Epoch 379/1000\n",
      "5/5 [==============================] - 1s 148ms/step - loss: 0.0634 - mae: 0.1975 - val_loss: 0.0781 - val_mae: 0.2203\n",
      "Epoch 380/1000\n",
      "5/5 [==============================] - 1s 151ms/step - loss: 0.0658 - mae: 0.2021 - val_loss: 0.0710 - val_mae: 0.2090\n",
      "Epoch 381/1000\n",
      "5/5 [==============================] - 1s 147ms/step - loss: 0.0682 - mae: 0.2032 - val_loss: 0.0629 - val_mae: 0.1953\n",
      "Epoch 382/1000\n",
      "5/5 [==============================] - 1s 155ms/step - loss: 0.0660 - mae: 0.2017 - val_loss: 0.0692 - val_mae: 0.2005\n",
      "Epoch 383/1000\n",
      "5/5 [==============================] - 1s 158ms/step - loss: 0.0612 - mae: 0.1932 - val_loss: 0.0662 - val_mae: 0.1961\n",
      "Epoch 384/1000\n",
      "5/5 [==============================] - 1s 152ms/step - loss: 0.0640 - mae: 0.1976 - val_loss: 0.0652 - val_mae: 0.1997\n",
      "Epoch 385/1000\n",
      "5/5 [==============================] - 1s 148ms/step - loss: 0.0647 - mae: 0.1985 - val_loss: 0.0708 - val_mae: 0.2090\n",
      "Epoch 386/1000\n",
      "5/5 [==============================] - 1s 147ms/step - loss: 0.0662 - mae: 0.2019 - val_loss: 0.0713 - val_mae: 0.2070\n",
      "Epoch 387/1000\n",
      "5/5 [==============================] - 1s 146ms/step - loss: 0.0696 - mae: 0.2063 - val_loss: 0.0725 - val_mae: 0.2107\n",
      "Epoch 388/1000\n",
      "5/5 [==============================] - 1s 153ms/step - loss: 0.0694 - mae: 0.2069 - val_loss: 0.0720 - val_mae: 0.2067\n",
      "Epoch 389/1000\n",
      "5/5 [==============================] - 1s 151ms/step - loss: 0.0677 - mae: 0.2027 - val_loss: 0.0654 - val_mae: 0.1990\n",
      "Epoch 390/1000\n",
      "5/5 [==============================] - 1s 148ms/step - loss: 0.0632 - mae: 0.1956 - val_loss: 0.0642 - val_mae: 0.1980\n",
      "Epoch 391/1000\n",
      "5/5 [==============================] - 1s 150ms/step - loss: 0.0652 - mae: 0.1999 - val_loss: 0.0611 - val_mae: 0.1928\n",
      "Epoch 392/1000\n",
      "5/5 [==============================] - 1s 149ms/step - loss: 0.0636 - mae: 0.1976 - val_loss: 0.0675 - val_mae: 0.2016\n",
      "Epoch 393/1000\n",
      "5/5 [==============================] - 1s 151ms/step - loss: 0.0622 - mae: 0.1943 - val_loss: 0.0682 - val_mae: 0.2017\n",
      "Epoch 394/1000\n",
      "5/5 [==============================] - 1s 152ms/step - loss: 0.0636 - mae: 0.1962 - val_loss: 0.0668 - val_mae: 0.2030\n",
      "Epoch 395/1000\n",
      "5/5 [==============================] - 1s 150ms/step - loss: 0.0621 - mae: 0.1926 - val_loss: 0.0704 - val_mae: 0.2086\n",
      "Epoch 396/1000\n",
      "5/5 [==============================] - 1s 150ms/step - loss: 0.0676 - mae: 0.2063 - val_loss: 0.0674 - val_mae: 0.2045\n",
      "Epoch 397/1000\n",
      "5/5 [==============================] - 1s 150ms/step - loss: 0.0696 - mae: 0.2070 - val_loss: 0.0756 - val_mae: 0.2158\n",
      "Epoch 398/1000\n",
      "5/5 [==============================] - 1s 151ms/step - loss: 0.0692 - mae: 0.2078 - val_loss: 0.0762 - val_mae: 0.2121\n",
      "Epoch 399/1000\n",
      "5/5 [==============================] - 1s 150ms/step - loss: 0.0678 - mae: 0.2013 - val_loss: 0.0712 - val_mae: 0.2064\n",
      "Epoch 400/1000\n",
      "5/5 [==============================] - 1s 153ms/step - loss: 0.0635 - mae: 0.1966 - val_loss: 0.0645 - val_mae: 0.1963\n",
      "Epoch 401/1000\n",
      "5/5 [==============================] - 1s 155ms/step - loss: 0.0632 - mae: 0.1955 - val_loss: 0.0653 - val_mae: 0.2005\n",
      "Epoch 402/1000\n",
      "5/5 [==============================] - 1s 152ms/step - loss: 0.0625 - mae: 0.1939 - val_loss: 0.0644 - val_mae: 0.1983\n",
      "Epoch 403/1000\n",
      "5/5 [==============================] - 1s 152ms/step - loss: 0.0647 - mae: 0.1990 - val_loss: 0.0719 - val_mae: 0.2093\n",
      "Epoch 404/1000\n",
      "5/5 [==============================] - 1s 153ms/step - loss: 0.0653 - mae: 0.1988 - val_loss: 0.0720 - val_mae: 0.2119\n",
      "Epoch 405/1000\n",
      "5/5 [==============================] - 1s 151ms/step - loss: 0.0723 - mae: 0.2118 - val_loss: 0.0673 - val_mae: 0.2036\n",
      "Epoch 406/1000\n",
      "5/5 [==============================] - 1s 151ms/step - loss: 0.0640 - mae: 0.1973 - val_loss: 0.0648 - val_mae: 0.2017\n",
      "Epoch 407/1000\n",
      "5/5 [==============================] - 1s 152ms/step - loss: 0.0653 - mae: 0.2004 - val_loss: 0.0712 - val_mae: 0.2066\n",
      "Epoch 408/1000\n",
      "5/5 [==============================] - 1s 155ms/step - loss: 0.0688 - mae: 0.2073 - val_loss: 0.0713 - val_mae: 0.2052\n",
      "Epoch 409/1000\n",
      "5/5 [==============================] - 1s 145ms/step - loss: 0.0657 - mae: 0.2021 - val_loss: 0.0722 - val_mae: 0.2094\n",
      "Epoch 410/1000\n",
      "5/5 [==============================] - 1s 149ms/step - loss: 0.0661 - mae: 0.2022 - val_loss: 0.0741 - val_mae: 0.2065\n",
      "Epoch 411/1000\n",
      "5/5 [==============================] - 1s 154ms/step - loss: 0.0658 - mae: 0.2006 - val_loss: 0.0728 - val_mae: 0.2059\n",
      "Epoch 412/1000\n",
      "5/5 [==============================] - 1s 151ms/step - loss: 0.0639 - mae: 0.1986 - val_loss: 0.0621 - val_mae: 0.1886\n",
      "Epoch 413/1000\n",
      "5/5 [==============================] - 1s 150ms/step - loss: 0.0621 - mae: 0.1924 - val_loss: 0.0626 - val_mae: 0.1946\n",
      "Epoch 414/1000\n",
      "5/5 [==============================] - 1s 151ms/step - loss: 0.0607 - mae: 0.1909 - val_loss: 0.0613 - val_mae: 0.1942\n",
      "Epoch 415/1000\n",
      "5/5 [==============================] - 1s 150ms/step - loss: 0.0645 - mae: 0.1979 - val_loss: 0.0613 - val_mae: 0.1941\n",
      "Epoch 416/1000\n",
      "5/5 [==============================] - 1s 152ms/step - loss: 0.0635 - mae: 0.1967 - val_loss: 0.0721 - val_mae: 0.2093\n",
      "Epoch 417/1000\n",
      "5/5 [==============================] - 1s 149ms/step - loss: 0.0642 - mae: 0.1971 - val_loss: 0.0666 - val_mae: 0.2030\n",
      "Epoch 418/1000\n",
      "5/5 [==============================] - 1s 151ms/step - loss: 0.0609 - mae: 0.1917 - val_loss: 0.0681 - val_mae: 0.2066\n",
      "Epoch 419/1000\n",
      "5/5 [==============================] - 1s 147ms/step - loss: 0.0625 - mae: 0.1953 - val_loss: 0.0580 - val_mae: 0.1848\n",
      "Epoch 420/1000\n",
      "5/5 [==============================] - 1s 153ms/step - loss: 0.0599 - mae: 0.1905 - val_loss: 0.0645 - val_mae: 0.1961\n",
      "Epoch 421/1000\n",
      "5/5 [==============================] - 1s 148ms/step - loss: 0.0643 - mae: 0.1964 - val_loss: 0.0646 - val_mae: 0.1998\n",
      "Epoch 422/1000\n",
      "5/5 [==============================] - 1s 149ms/step - loss: 0.0645 - mae: 0.1975 - val_loss: 0.0698 - val_mae: 0.2073\n",
      "Epoch 423/1000\n",
      "5/5 [==============================] - 1s 151ms/step - loss: 0.0661 - mae: 0.1996 - val_loss: 0.0623 - val_mae: 0.1906\n",
      "Epoch 424/1000\n"
     ]
    },
    {
     "name": "stdout",
     "output_type": "stream",
     "text": [
      "5/5 [==============================] - 1s 152ms/step - loss: 0.0630 - mae: 0.1941 - val_loss: 0.0679 - val_mae: 0.2012\n",
      "Epoch 425/1000\n",
      "5/5 [==============================] - 1s 150ms/step - loss: 0.0650 - mae: 0.1995 - val_loss: 0.0702 - val_mae: 0.2127\n",
      "Epoch 426/1000\n",
      "5/5 [==============================] - 1s 149ms/step - loss: 0.0644 - mae: 0.1993 - val_loss: 0.0737 - val_mae: 0.2220\n",
      "Epoch 427/1000\n",
      "5/5 [==============================] - 1s 150ms/step - loss: 0.0684 - mae: 0.2054 - val_loss: 0.0759 - val_mae: 0.2187\n",
      "Epoch 428/1000\n",
      "5/5 [==============================] - 1s 151ms/step - loss: 0.0686 - mae: 0.2046 - val_loss: 0.0688 - val_mae: 0.2055\n",
      "Epoch 429/1000\n",
      "5/5 [==============================] - 1s 157ms/step - loss: 0.0649 - mae: 0.2014 - val_loss: 0.0773 - val_mae: 0.2166\n",
      "Epoch 430/1000\n",
      "5/5 [==============================] - 1s 157ms/step - loss: 0.0648 - mae: 0.2006 - val_loss: 0.0717 - val_mae: 0.2097\n",
      "Epoch 431/1000\n",
      "5/5 [==============================] - 1s 152ms/step - loss: 0.0696 - mae: 0.2060 - val_loss: 0.0738 - val_mae: 0.2152\n",
      "Epoch 432/1000\n",
      "5/5 [==============================] - 1s 150ms/step - loss: 0.0671 - mae: 0.2029 - val_loss: 0.0657 - val_mae: 0.1967\n",
      "Epoch 433/1000\n",
      "5/5 [==============================] - 1s 147ms/step - loss: 0.0617 - mae: 0.1941 - val_loss: 0.0621 - val_mae: 0.1935\n",
      "Epoch 434/1000\n",
      "5/5 [==============================] - 1s 150ms/step - loss: 0.0608 - mae: 0.1916 - val_loss: 0.0658 - val_mae: 0.1984\n",
      "Epoch 435/1000\n",
      "5/5 [==============================] - 1s 148ms/step - loss: 0.0655 - mae: 0.1992 - val_loss: 0.0718 - val_mae: 0.2029\n",
      "Epoch 436/1000\n",
      "5/5 [==============================] - 1s 150ms/step - loss: 0.0660 - mae: 0.1998 - val_loss: 0.0689 - val_mae: 0.2058\n",
      "Epoch 437/1000\n",
      "5/5 [==============================] - 1s 152ms/step - loss: 0.0600 - mae: 0.1889 - val_loss: 0.0770 - val_mae: 0.2099\n",
      "Epoch 438/1000\n",
      "5/5 [==============================] - 1s 142ms/step - loss: 0.0647 - mae: 0.1995 - val_loss: 0.0664 - val_mae: 0.1976\n",
      "Epoch 439/1000\n",
      "5/5 [==============================] - 1s 147ms/step - loss: 0.0633 - mae: 0.1965 - val_loss: 0.0694 - val_mae: 0.2025\n",
      "Epoch 440/1000\n",
      "5/5 [==============================] - 1s 154ms/step - loss: 0.0644 - mae: 0.1968 - val_loss: 0.0679 - val_mae: 0.2027\n",
      "Epoch 441/1000\n",
      "5/5 [==============================] - 1s 146ms/step - loss: 0.0616 - mae: 0.1953 - val_loss: 0.0710 - val_mae: 0.2037\n",
      "Epoch 442/1000\n",
      "5/5 [==============================] - 1s 149ms/step - loss: 0.0624 - mae: 0.1942 - val_loss: 0.0622 - val_mae: 0.1948\n",
      "Epoch 443/1000\n",
      "5/5 [==============================] - 1s 151ms/step - loss: 0.0627 - mae: 0.1942 - val_loss: 0.0747 - val_mae: 0.2156\n",
      "Epoch 444/1000\n",
      "5/5 [==============================] - 1s 151ms/step - loss: 0.0646 - mae: 0.1988 - val_loss: 0.0719 - val_mae: 0.2072\n",
      "Epoch 445/1000\n",
      "5/5 [==============================] - 1s 149ms/step - loss: 0.0633 - mae: 0.1958 - val_loss: 0.0676 - val_mae: 0.1983\n",
      "Epoch 446/1000\n",
      "5/5 [==============================] - 1s 150ms/step - loss: 0.0630 - mae: 0.1946 - val_loss: 0.0640 - val_mae: 0.1984\n",
      "Epoch 447/1000\n",
      "5/5 [==============================] - 1s 148ms/step - loss: 0.0630 - mae: 0.1949 - val_loss: 0.0647 - val_mae: 0.1991\n",
      "Epoch 448/1000\n",
      "5/5 [==============================] - 1s 147ms/step - loss: 0.0626 - mae: 0.1961 - val_loss: 0.0664 - val_mae: 0.1998\n",
      "Epoch 449/1000\n",
      "5/5 [==============================] - 1s 151ms/step - loss: 0.0669 - mae: 0.2034 - val_loss: 0.0712 - val_mae: 0.2102\n",
      "Epoch 450/1000\n",
      "5/5 [==============================] - 1s 148ms/step - loss: 0.0684 - mae: 0.2049 - val_loss: 0.0743 - val_mae: 0.2170\n",
      "Epoch 451/1000\n",
      "5/5 [==============================] - 1s 148ms/step - loss: 0.0688 - mae: 0.2065 - val_loss: 0.0739 - val_mae: 0.2157\n",
      "Epoch 452/1000\n",
      "5/5 [==============================] - 1s 151ms/step - loss: 0.0687 - mae: 0.2075 - val_loss: 0.0831 - val_mae: 0.2289\n",
      "Epoch 453/1000\n",
      "5/5 [==============================] - 1s 149ms/step - loss: 0.0682 - mae: 0.2055 - val_loss: 0.0719 - val_mae: 0.2140\n",
      "Epoch 454/1000\n",
      "5/5 [==============================] - 1s 152ms/step - loss: 0.0657 - mae: 0.2001 - val_loss: 0.0690 - val_mae: 0.2055\n",
      "Epoch 455/1000\n",
      "5/5 [==============================] - 1s 151ms/step - loss: 0.0617 - mae: 0.1937 - val_loss: 0.0642 - val_mae: 0.1997\n",
      "Epoch 456/1000\n",
      "5/5 [==============================] - 1s 150ms/step - loss: 0.0605 - mae: 0.1922 - val_loss: 0.0656 - val_mae: 0.2069\n",
      "Epoch 457/1000\n",
      "5/5 [==============================] - 1s 152ms/step - loss: 0.0626 - mae: 0.1951 - val_loss: 0.0613 - val_mae: 0.1939\n",
      "Epoch 458/1000\n",
      "5/5 [==============================] - 1s 150ms/step - loss: 0.0593 - mae: 0.1892 - val_loss: 0.0604 - val_mae: 0.1893\n",
      "Epoch 459/1000\n",
      "5/5 [==============================] - 1s 150ms/step - loss: 0.0588 - mae: 0.1873 - val_loss: 0.0582 - val_mae: 0.1864\n",
      "Epoch 460/1000\n",
      "5/5 [==============================] - 1s 149ms/step - loss: 0.0567 - mae: 0.1842 - val_loss: 0.0606 - val_mae: 0.1877\n",
      "Epoch 461/1000\n",
      "5/5 [==============================] - 1s 152ms/step - loss: 0.0573 - mae: 0.1855 - val_loss: 0.0736 - val_mae: 0.2163\n",
      "Epoch 462/1000\n",
      "5/5 [==============================] - 1s 151ms/step - loss: 0.0672 - mae: 0.2023 - val_loss: 0.0617 - val_mae: 0.1935\n",
      "Epoch 463/1000\n",
      "5/5 [==============================] - 1s 149ms/step - loss: 0.0600 - mae: 0.1900 - val_loss: 0.0664 - val_mae: 0.2040\n",
      "Epoch 464/1000\n",
      "5/5 [==============================] - 1s 150ms/step - loss: 0.0647 - mae: 0.1986 - val_loss: 0.0599 - val_mae: 0.1903\n",
      "Epoch 465/1000\n",
      "5/5 [==============================] - 1s 152ms/step - loss: 0.0621 - mae: 0.1943 - val_loss: 0.0695 - val_mae: 0.2008\n",
      "Epoch 466/1000\n",
      "5/5 [==============================] - 1s 150ms/step - loss: 0.0596 - mae: 0.1888 - val_loss: 0.0644 - val_mae: 0.1967\n",
      "Epoch 467/1000\n",
      "5/5 [==============================] - 1s 150ms/step - loss: 0.0603 - mae: 0.1896 - val_loss: 0.0627 - val_mae: 0.1940\n",
      "Epoch 468/1000\n",
      "5/5 [==============================] - 1s 153ms/step - loss: 0.0640 - mae: 0.1960 - val_loss: 0.0622 - val_mae: 0.1905\n",
      "Epoch 469/1000\n",
      "5/5 [==============================] - 1s 150ms/step - loss: 0.0587 - mae: 0.1871 - val_loss: 0.0643 - val_mae: 0.1956\n",
      "Epoch 470/1000\n",
      "5/5 [==============================] - 1s 149ms/step - loss: 0.0595 - mae: 0.1904 - val_loss: 0.0762 - val_mae: 0.2169\n",
      "Epoch 471/1000\n",
      "5/5 [==============================] - 1s 151ms/step - loss: 0.0649 - mae: 0.2015 - val_loss: 0.0640 - val_mae: 0.1917\n",
      "Epoch 472/1000\n",
      "5/5 [==============================] - 1s 150ms/step - loss: 0.0609 - mae: 0.1913 - val_loss: 0.0688 - val_mae: 0.2039\n",
      "Epoch 473/1000\n",
      "5/5 [==============================] - 1s 149ms/step - loss: 0.0641 - mae: 0.1968 - val_loss: 0.0703 - val_mae: 0.2098\n",
      "Epoch 474/1000\n",
      "5/5 [==============================] - 1s 149ms/step - loss: 0.0649 - mae: 0.1992 - val_loss: 0.0652 - val_mae: 0.2045\n",
      "Epoch 475/1000\n",
      "5/5 [==============================] - 1s 154ms/step - loss: 0.0603 - mae: 0.1900 - val_loss: 0.0593 - val_mae: 0.1871\n",
      "Epoch 476/1000\n",
      "5/5 [==============================] - 1s 146ms/step - loss: 0.0582 - mae: 0.1869 - val_loss: 0.0644 - val_mae: 0.1967\n",
      "Epoch 477/1000\n",
      "5/5 [==============================] - 1s 144ms/step - loss: 0.0589 - mae: 0.1893 - val_loss: 0.0730 - val_mae: 0.2071\n",
      "Epoch 478/1000\n",
      "5/5 [==============================] - 1s 153ms/step - loss: 0.0592 - mae: 0.1893 - val_loss: 0.0641 - val_mae: 0.1977\n",
      "Epoch 479/1000\n",
      "5/5 [==============================] - 1s 150ms/step - loss: 0.0615 - mae: 0.1930 - val_loss: 0.0652 - val_mae: 0.1984\n",
      "Epoch 480/1000\n",
      "5/5 [==============================] - 1s 147ms/step - loss: 0.0607 - mae: 0.1936 - val_loss: 0.0626 - val_mae: 0.1920\n",
      "Epoch 481/1000\n",
      "5/5 [==============================] - 1s 158ms/step - loss: 0.0606 - mae: 0.1918 - val_loss: 0.0719 - val_mae: 0.2101\n",
      "Epoch 482/1000\n",
      "5/5 [==============================] - 1s 156ms/step - loss: 0.0643 - mae: 0.1960 - val_loss: 0.0632 - val_mae: 0.1957\n",
      "Epoch 483/1000\n",
      "5/5 [==============================] - 1s 151ms/step - loss: 0.0591 - mae: 0.1889 - val_loss: 0.0615 - val_mae: 0.1934\n",
      "Epoch 484/1000\n",
      "5/5 [==============================] - 1s 149ms/step - loss: 0.0601 - mae: 0.1902 - val_loss: 0.0633 - val_mae: 0.1979\n",
      "Epoch 485/1000\n"
     ]
    },
    {
     "name": "stdout",
     "output_type": "stream",
     "text": [
      "5/5 [==============================] - 1s 145ms/step - loss: 0.0594 - mae: 0.1902 - val_loss: 0.0656 - val_mae: 0.2055\n",
      "Epoch 486/1000\n",
      "5/5 [==============================] - 1s 147ms/step - loss: 0.0626 - mae: 0.1964 - val_loss: 0.0648 - val_mae: 0.2033\n",
      "Epoch 487/1000\n",
      "5/5 [==============================] - 1s 149ms/step - loss: 0.0654 - mae: 0.1997 - val_loss: 0.0739 - val_mae: 0.2164\n",
      "Epoch 488/1000\n",
      "5/5 [==============================] - 1s 150ms/step - loss: 0.0655 - mae: 0.2023 - val_loss: 0.0615 - val_mae: 0.1954\n",
      "Epoch 489/1000\n",
      "5/5 [==============================] - 1s 148ms/step - loss: 0.0705 - mae: 0.2103 - val_loss: 0.0857 - val_mae: 0.2243\n",
      "Epoch 490/1000\n",
      "5/5 [==============================] - 1s 150ms/step - loss: 0.0705 - mae: 0.2082 - val_loss: 0.0654 - val_mae: 0.2008\n",
      "Epoch 491/1000\n",
      "5/5 [==============================] - 1s 148ms/step - loss: 0.0619 - mae: 0.1943 - val_loss: 0.0746 - val_mae: 0.2209\n",
      "Epoch 492/1000\n",
      "5/5 [==============================] - 1s 147ms/step - loss: 0.0655 - mae: 0.2013 - val_loss: 0.0685 - val_mae: 0.2065\n",
      "Epoch 493/1000\n",
      "5/5 [==============================] - 1s 149ms/step - loss: 0.0657 - mae: 0.1990 - val_loss: 0.0711 - val_mae: 0.2128\n",
      "Epoch 494/1000\n",
      "5/5 [==============================] - 1s 151ms/step - loss: 0.0661 - mae: 0.2003 - val_loss: 0.0813 - val_mae: 0.2287\n",
      "Epoch 495/1000\n",
      "5/5 [==============================] - 1s 148ms/step - loss: 0.0724 - mae: 0.2113 - val_loss: 0.0701 - val_mae: 0.2105\n",
      "Epoch 496/1000\n",
      "5/5 [==============================] - 1s 147ms/step - loss: 0.0660 - mae: 0.1996 - val_loss: 0.0684 - val_mae: 0.2069\n",
      "Epoch 497/1000\n",
      "5/5 [==============================] - 1s 149ms/step - loss: 0.0648 - mae: 0.1983 - val_loss: 0.0684 - val_mae: 0.2066\n",
      "Epoch 498/1000\n",
      "5/5 [==============================] - 1s 152ms/step - loss: 0.0635 - mae: 0.1966 - val_loss: 0.0698 - val_mae: 0.2048\n",
      "Epoch 499/1000\n",
      "5/5 [==============================] - 1s 151ms/step - loss: 0.0629 - mae: 0.1967 - val_loss: 0.0686 - val_mae: 0.2076\n",
      "Epoch 500/1000\n",
      "5/5 [==============================] - 1s 149ms/step - loss: 0.0633 - mae: 0.1971 - val_loss: 0.0706 - val_mae: 0.2124\n",
      "Epoch 501/1000\n",
      "5/5 [==============================] - 1s 150ms/step - loss: 0.0632 - mae: 0.1962 - val_loss: 0.0752 - val_mae: 0.2154\n",
      "Epoch 502/1000\n",
      "5/5 [==============================] - 1s 151ms/step - loss: 0.0650 - mae: 0.1992 - val_loss: 0.0764 - val_mae: 0.2212\n",
      "Epoch 503/1000\n",
      "5/5 [==============================] - 1s 151ms/step - loss: 0.0662 - mae: 0.2000 - val_loss: 0.0844 - val_mae: 0.2373\n",
      "Epoch 504/1000\n",
      "5/5 [==============================] - 1s 152ms/step - loss: 0.0662 - mae: 0.2027 - val_loss: 0.0709 - val_mae: 0.2096\n",
      "Epoch 505/1000\n",
      "5/5 [==============================] - 1s 157ms/step - loss: 0.0626 - mae: 0.1971 - val_loss: 0.0663 - val_mae: 0.2000\n",
      "Epoch 506/1000\n",
      "5/5 [==============================] - 1s 150ms/step - loss: 0.0632 - mae: 0.1968 - val_loss: 0.0753 - val_mae: 0.2205\n",
      "Epoch 507/1000\n",
      "5/5 [==============================] - 1s 149ms/step - loss: 0.0657 - mae: 0.1997 - val_loss: 0.0717 - val_mae: 0.2128\n",
      "Epoch 508/1000\n",
      "5/5 [==============================] - 1s 152ms/step - loss: 0.0663 - mae: 0.2030 - val_loss: 0.0662 - val_mae: 0.1987\n",
      "Epoch 509/1000\n",
      "5/5 [==============================] - 1s 150ms/step - loss: 0.0617 - mae: 0.1929 - val_loss: 0.0653 - val_mae: 0.2006\n",
      "Epoch 510/1000\n",
      "5/5 [==============================] - 1s 150ms/step - loss: 0.0637 - mae: 0.1963 - val_loss: 0.0638 - val_mae: 0.1966\n",
      "Epoch 511/1000\n",
      "5/5 [==============================] - 1s 150ms/step - loss: 0.0570 - mae: 0.1844 - val_loss: 0.0657 - val_mae: 0.1995\n",
      "Epoch 512/1000\n",
      "5/5 [==============================] - 1s 152ms/step - loss: 0.0608 - mae: 0.1909 - val_loss: 0.0649 - val_mae: 0.1990\n",
      "Epoch 513/1000\n",
      "5/5 [==============================] - 1s 149ms/step - loss: 0.0611 - mae: 0.1924 - val_loss: 0.0621 - val_mae: 0.1935\n",
      "Epoch 514/1000\n",
      "5/5 [==============================] - 1s 152ms/step - loss: 0.0596 - mae: 0.1915 - val_loss: 0.0659 - val_mae: 0.2013\n",
      "Epoch 515/1000\n",
      "5/5 [==============================] - 1s 153ms/step - loss: 0.0575 - mae: 0.1851 - val_loss: 0.0664 - val_mae: 0.2007\n",
      "Epoch 516/1000\n",
      "5/5 [==============================] - 1s 152ms/step - loss: 0.0582 - mae: 0.1870 - val_loss: 0.0638 - val_mae: 0.1960\n",
      "Epoch 517/1000\n",
      "5/5 [==============================] - 1s 152ms/step - loss: 0.0588 - mae: 0.1874 - val_loss: 0.0620 - val_mae: 0.1925\n",
      "Epoch 518/1000\n",
      "5/5 [==============================] - 1s 152ms/step - loss: 0.0569 - mae: 0.1853 - val_loss: 0.0673 - val_mae: 0.2013\n",
      "Epoch 519/1000\n",
      "5/5 [==============================] - 1s 152ms/step - loss: 0.0611 - mae: 0.1933 - val_loss: 0.0664 - val_mae: 0.1954\n",
      "Epoch 520/1000\n",
      "5/5 [==============================] - 1s 151ms/step - loss: 0.0590 - mae: 0.1904 - val_loss: 0.0704 - val_mae: 0.2054\n",
      "Epoch 521/1000\n",
      "5/5 [==============================] - ETA: 0s - loss: 0.0593 - mae: 0.1885INFO:tensorflow:Assets written to: C:\\Users\\PARK\\Documents\\LAB\\RNN vs LSTM\\FInal Example\\wandb\\run-20221015_200538-5remc85i\\files\\model-best\\assets\n"
     ]
    },
    {
     "name": "stderr",
     "output_type": "stream",
     "text": [
      "\u001b[34m\u001b[1mwandb\u001b[0m: Adding directory to artifact (C:\\Users\\PARK\\Documents\\LAB\\RNN vs LSTM\\FInal Example\\wandb\\run-20221015_200538-5remc85i\\files\\model-best)... Done. 0.1s\n"
     ]
    },
    {
     "name": "stdout",
     "output_type": "stream",
     "text": [
      "5/5 [==============================] - 2s 529ms/step - loss: 0.0593 - mae: 0.1885 - val_loss: 0.0571 - val_mae: 0.1848\n",
      "Epoch 522/1000\n",
      "5/5 [==============================] - 1s 202ms/step - loss: 0.0584 - mae: 0.1876 - val_loss: 0.0668 - val_mae: 0.2016\n",
      "Epoch 523/1000\n",
      "5/5 [==============================] - 1s 146ms/step - loss: 0.0586 - mae: 0.1867 - val_loss: 0.0620 - val_mae: 0.1975\n",
      "Epoch 524/1000\n",
      "5/5 [==============================] - 1s 144ms/step - loss: 0.0613 - mae: 0.1926 - val_loss: 0.0687 - val_mae: 0.2047\n",
      "Epoch 525/1000\n",
      "5/5 [==============================] - 1s 150ms/step - loss: 0.0596 - mae: 0.1903 - val_loss: 0.0673 - val_mae: 0.2048\n",
      "Epoch 526/1000\n",
      "5/5 [==============================] - 1s 151ms/step - loss: 0.0605 - mae: 0.1916 - val_loss: 0.0608 - val_mae: 0.1896\n",
      "Epoch 527/1000\n",
      "5/5 [==============================] - 1s 149ms/step - loss: 0.0578 - mae: 0.1874 - val_loss: 0.0691 - val_mae: 0.2061\n",
      "Epoch 528/1000\n",
      "5/5 [==============================] - 1s 154ms/step - loss: 0.0570 - mae: 0.1860 - val_loss: 0.0645 - val_mae: 0.1976\n",
      "Epoch 529/1000\n",
      "5/5 [==============================] - 1s 153ms/step - loss: 0.0613 - mae: 0.1904 - val_loss: 0.0610 - val_mae: 0.1928\n",
      "Epoch 530/1000\n",
      "5/5 [==============================] - 1s 151ms/step - loss: 0.0587 - mae: 0.1892 - val_loss: 0.0705 - val_mae: 0.2108\n",
      "Epoch 531/1000\n",
      "5/5 [==============================] - 1s 149ms/step - loss: 0.0684 - mae: 0.2052 - val_loss: 0.0708 - val_mae: 0.2112\n",
      "Epoch 532/1000\n",
      "5/5 [==============================] - 1s 152ms/step - loss: 0.0652 - mae: 0.2020 - val_loss: 0.0777 - val_mae: 0.2185\n",
      "Epoch 533/1000\n",
      "5/5 [==============================] - 1s 151ms/step - loss: 0.0660 - mae: 0.2014 - val_loss: 0.0775 - val_mae: 0.2261\n",
      "Epoch 534/1000\n",
      "5/5 [==============================] - 1s 148ms/step - loss: 0.0703 - mae: 0.2077 - val_loss: 0.0775 - val_mae: 0.2242\n",
      "Epoch 535/1000\n",
      "5/5 [==============================] - 1s 148ms/step - loss: 0.0707 - mae: 0.2105 - val_loss: 0.0734 - val_mae: 0.2164\n",
      "Epoch 536/1000\n",
      "5/5 [==============================] - 1s 150ms/step - loss: 0.0706 - mae: 0.2088 - val_loss: 0.0767 - val_mae: 0.2192\n",
      "Epoch 537/1000\n",
      "5/5 [==============================] - 1s 150ms/step - loss: 0.0642 - mae: 0.1978 - val_loss: 0.0704 - val_mae: 0.2116\n",
      "Epoch 538/1000\n",
      "5/5 [==============================] - 1s 147ms/step - loss: 0.0624 - mae: 0.1931 - val_loss: 0.0799 - val_mae: 0.2322\n",
      "Epoch 539/1000\n",
      "5/5 [==============================] - 1s 148ms/step - loss: 0.0670 - mae: 0.2004 - val_loss: 0.0777 - val_mae: 0.2175\n",
      "Epoch 540/1000\n",
      "5/5 [==============================] - 1s 151ms/step - loss: 0.0674 - mae: 0.2039 - val_loss: 0.0735 - val_mae: 0.2128\n",
      "Epoch 541/1000\n",
      "5/5 [==============================] - 1s 151ms/step - loss: 0.0704 - mae: 0.2088 - val_loss: 0.0725 - val_mae: 0.2159\n",
      "Epoch 542/1000\n",
      "5/5 [==============================] - 1s 147ms/step - loss: 0.0670 - mae: 0.2041 - val_loss: 0.0680 - val_mae: 0.2101\n",
      "Epoch 543/1000\n",
      "5/5 [==============================] - 1s 153ms/step - loss: 0.0620 - mae: 0.1963 - val_loss: 0.0720 - val_mae: 0.2088\n",
      "Epoch 544/1000\n",
      "5/5 [==============================] - 1s 149ms/step - loss: 0.0627 - mae: 0.1955 - val_loss: 0.0693 - val_mae: 0.2078\n",
      "Epoch 545/1000\n",
      "5/5 [==============================] - 1s 149ms/step - loss: 0.0600 - mae: 0.1919 - val_loss: 0.0651 - val_mae: 0.1994\n",
      "Epoch 546/1000\n",
      "5/5 [==============================] - 1s 151ms/step - loss: 0.0622 - mae: 0.1952 - val_loss: 0.0616 - val_mae: 0.1924\n",
      "Epoch 547/1000\n",
      "5/5 [==============================] - 1s 151ms/step - loss: 0.0571 - mae: 0.1834 - val_loss: 0.0616 - val_mae: 0.1925\n",
      "Epoch 548/1000\n",
      "5/5 [==============================] - 1s 149ms/step - loss: 0.0561 - mae: 0.1855 - val_loss: 0.0668 - val_mae: 0.1983\n",
      "Epoch 549/1000\n",
      "5/5 [==============================] - 1s 149ms/step - loss: 0.0606 - mae: 0.1926 - val_loss: 0.0721 - val_mae: 0.2068\n",
      "Epoch 550/1000\n",
      "5/5 [==============================] - 1s 150ms/step - loss: 0.0643 - mae: 0.1993 - val_loss: 0.0791 - val_mae: 0.2189\n",
      "Epoch 551/1000\n",
      "5/5 [==============================] - 1s 149ms/step - loss: 0.0652 - mae: 0.2001 - val_loss: 0.0762 - val_mae: 0.2102\n",
      "Epoch 552/1000\n",
      "5/5 [==============================] - 1s 150ms/step - loss: 0.0660 - mae: 0.1991 - val_loss: 0.0657 - val_mae: 0.1991\n",
      "Epoch 553/1000\n",
      "5/5 [==============================] - 1s 150ms/step - loss: 0.0584 - mae: 0.1889 - val_loss: 0.0733 - val_mae: 0.2136\n",
      "Epoch 554/1000\n",
      "5/5 [==============================] - 1s 150ms/step - loss: 0.0647 - mae: 0.1979 - val_loss: 0.0731 - val_mae: 0.2127\n",
      "Epoch 555/1000\n",
      "5/5 [==============================] - 1s 149ms/step - loss: 0.0584 - mae: 0.1884 - val_loss: 0.0640 - val_mae: 0.2014\n",
      "Epoch 556/1000\n",
      "5/5 [==============================] - 1s 150ms/step - loss: 0.0611 - mae: 0.1927 - val_loss: 0.0692 - val_mae: 0.2070\n",
      "Epoch 557/1000\n",
      "5/5 [==============================] - 1s 151ms/step - loss: 0.0629 - mae: 0.1943 - val_loss: 0.0722 - val_mae: 0.2144\n",
      "Epoch 558/1000\n",
      "5/5 [==============================] - 1s 151ms/step - loss: 0.0616 - mae: 0.1933 - val_loss: 0.0802 - val_mae: 0.2275\n",
      "Epoch 559/1000\n",
      "5/5 [==============================] - 1s 150ms/step - loss: 0.0651 - mae: 0.1989 - val_loss: 0.0764 - val_mae: 0.2191\n",
      "Epoch 560/1000\n",
      "5/5 [==============================] - 1s 151ms/step - loss: 0.0640 - mae: 0.1956 - val_loss: 0.0607 - val_mae: 0.1932\n",
      "Epoch 561/1000\n",
      "5/5 [==============================] - 1s 151ms/step - loss: 0.0590 - mae: 0.1877 - val_loss: 0.0701 - val_mae: 0.2119\n",
      "Epoch 562/1000\n",
      "5/5 [==============================] - 1s 151ms/step - loss: 0.0579 - mae: 0.1874 - val_loss: 0.0614 - val_mae: 0.1955\n",
      "Epoch 563/1000\n",
      "5/5 [==============================] - 1s 150ms/step - loss: 0.0561 - mae: 0.1847 - val_loss: 0.0668 - val_mae: 0.2023\n",
      "Epoch 564/1000\n",
      "5/5 [==============================] - 1s 149ms/step - loss: 0.0589 - mae: 0.1882 - val_loss: 0.0594 - val_mae: 0.1913\n",
      "Epoch 565/1000\n",
      "5/5 [==============================] - 1s 150ms/step - loss: 0.0587 - mae: 0.1852 - val_loss: 0.0650 - val_mae: 0.1996\n",
      "Epoch 566/1000\n",
      "5/5 [==============================] - 1s 150ms/step - loss: 0.0594 - mae: 0.1890 - val_loss: 0.0623 - val_mae: 0.1970\n",
      "Epoch 567/1000\n",
      "5/5 [==============================] - 1s 149ms/step - loss: 0.0603 - mae: 0.1910 - val_loss: 0.0704 - val_mae: 0.2101\n",
      "Epoch 568/1000\n",
      "5/5 [==============================] - 1s 158ms/step - loss: 0.0646 - mae: 0.1994 - val_loss: 0.0623 - val_mae: 0.1916\n",
      "Epoch 569/1000\n",
      "5/5 [==============================] - 1s 159ms/step - loss: 0.0570 - mae: 0.1851 - val_loss: 0.0692 - val_mae: 0.2076\n",
      "Epoch 570/1000\n",
      "5/5 [==============================] - 1s 152ms/step - loss: 0.0633 - mae: 0.1976 - val_loss: 0.0739 - val_mae: 0.2149\n",
      "Epoch 571/1000\n",
      "5/5 [==============================] - 1s 151ms/step - loss: 0.0721 - mae: 0.2113 - val_loss: 0.0740 - val_mae: 0.2126\n",
      "Epoch 572/1000\n",
      "5/5 [==============================] - 1s 150ms/step - loss: 0.0696 - mae: 0.2078 - val_loss: 0.0763 - val_mae: 0.2171\n",
      "Epoch 573/1000\n",
      "5/5 [==============================] - 1s 146ms/step - loss: 0.0697 - mae: 0.2067 - val_loss: 0.0667 - val_mae: 0.2005\n",
      "Epoch 574/1000\n",
      "5/5 [==============================] - 1s 150ms/step - loss: 0.0663 - mae: 0.2010 - val_loss: 0.0674 - val_mae: 0.2018\n",
      "Epoch 575/1000\n",
      "5/5 [==============================] - 1s 149ms/step - loss: 0.0627 - mae: 0.1963 - val_loss: 0.0741 - val_mae: 0.2156\n",
      "Epoch 576/1000\n",
      "5/5 [==============================] - 1s 150ms/step - loss: 0.0626 - mae: 0.1966 - val_loss: 0.0653 - val_mae: 0.1976\n",
      "Epoch 577/1000\n",
      "5/5 [==============================] - 1s 151ms/step - loss: 0.0606 - mae: 0.1928 - val_loss: 0.0644 - val_mae: 0.1931\n",
      "Epoch 578/1000\n",
      "5/5 [==============================] - 1s 151ms/step - loss: 0.0584 - mae: 0.1882 - val_loss: 0.0693 - val_mae: 0.2074\n",
      "Epoch 579/1000\n",
      "5/5 [==============================] - 1s 149ms/step - loss: 0.0592 - mae: 0.1895 - val_loss: 0.0646 - val_mae: 0.1948\n",
      "Epoch 580/1000\n",
      "5/5 [==============================] - 1s 149ms/step - loss: 0.0589 - mae: 0.1885 - val_loss: 0.0600 - val_mae: 0.1893\n",
      "Epoch 581/1000\n",
      "5/5 [==============================] - 1s 147ms/step - loss: 0.0542 - mae: 0.1803 - val_loss: 0.0594 - val_mae: 0.1873\n",
      "Epoch 582/1000\n"
     ]
    },
    {
     "name": "stdout",
     "output_type": "stream",
     "text": [
      "5/5 [==============================] - 1s 151ms/step - loss: 0.0544 - mae: 0.1809 - val_loss: 0.0606 - val_mae: 0.1904\n",
      "Epoch 583/1000\n",
      "5/5 [==============================] - 1s 148ms/step - loss: 0.0542 - mae: 0.1795 - val_loss: 0.0609 - val_mae: 0.1890\n",
      "Epoch 584/1000\n",
      "5/5 [==============================] - 1s 149ms/step - loss: 0.0541 - mae: 0.1788 - val_loss: 0.0637 - val_mae: 0.2013\n",
      "Epoch 585/1000\n",
      "5/5 [==============================] - 1s 147ms/step - loss: 0.0551 - mae: 0.1826 - val_loss: 0.0631 - val_mae: 0.1976\n",
      "Epoch 586/1000\n",
      "5/5 [==============================] - 1s 150ms/step - loss: 0.0544 - mae: 0.1819 - val_loss: 0.0642 - val_mae: 0.1982\n",
      "Epoch 587/1000\n",
      "5/5 [==============================] - 1s 150ms/step - loss: 0.0578 - mae: 0.1885 - val_loss: 0.0633 - val_mae: 0.1976\n",
      "Epoch 588/1000\n",
      "5/5 [==============================] - 1s 152ms/step - loss: 0.0613 - mae: 0.1916 - val_loss: 0.0599 - val_mae: 0.1886\n",
      "Epoch 589/1000\n",
      "5/5 [==============================] - 1s 148ms/step - loss: 0.0608 - mae: 0.1917 - val_loss: 0.0740 - val_mae: 0.2200\n",
      "Epoch 590/1000\n",
      "5/5 [==============================] - 1s 148ms/step - loss: 0.0592 - mae: 0.1900 - val_loss: 0.0654 - val_mae: 0.2033\n",
      "Epoch 591/1000\n",
      "5/5 [==============================] - 1s 150ms/step - loss: 0.0593 - mae: 0.1903 - val_loss: 0.0643 - val_mae: 0.2027\n",
      "Epoch 592/1000\n",
      "5/5 [==============================] - 1s 149ms/step - loss: 0.0580 - mae: 0.1888 - val_loss: 0.0725 - val_mae: 0.2152\n",
      "Epoch 593/1000\n",
      "5/5 [==============================] - 1s 149ms/step - loss: 0.0642 - mae: 0.1998 - val_loss: 0.0709 - val_mae: 0.2112\n",
      "Epoch 594/1000\n",
      "5/5 [==============================] - 1s 154ms/step - loss: 0.0593 - mae: 0.1902 - val_loss: 0.0635 - val_mae: 0.1968\n",
      "Epoch 595/1000\n",
      "5/5 [==============================] - 1s 154ms/step - loss: 0.0550 - mae: 0.1820 - val_loss: 0.0601 - val_mae: 0.1931\n",
      "Epoch 596/1000\n",
      "5/5 [==============================] - 1s 149ms/step - loss: 0.0540 - mae: 0.1804 - val_loss: 0.0668 - val_mae: 0.2006\n",
      "Epoch 597/1000\n",
      "5/5 [==============================] - 1s 154ms/step - loss: 0.0583 - mae: 0.1873 - val_loss: 0.0630 - val_mae: 0.1952\n",
      "Epoch 598/1000\n",
      "5/5 [==============================] - 1s 153ms/step - loss: 0.0554 - mae: 0.1829 - val_loss: 0.0591 - val_mae: 0.1881\n",
      "Epoch 599/1000\n",
      "5/5 [==============================] - 1s 149ms/step - loss: 0.0529 - mae: 0.1782 - val_loss: 0.0588 - val_mae: 0.1899\n",
      "Epoch 600/1000\n",
      "5/5 [==============================] - 1s 154ms/step - loss: 0.0562 - mae: 0.1834 - val_loss: 0.0589 - val_mae: 0.1882\n",
      "Epoch 601/1000\n",
      "5/5 [==============================] - 1s 150ms/step - loss: 0.0546 - mae: 0.1800 - val_loss: 0.0649 - val_mae: 0.1992\n",
      "Epoch 602/1000\n",
      "5/5 [==============================] - 1s 146ms/step - loss: 0.0559 - mae: 0.1814 - val_loss: 0.0663 - val_mae: 0.2000\n",
      "Epoch 603/1000\n",
      "5/5 [==============================] - 1s 148ms/step - loss: 0.0608 - mae: 0.1924 - val_loss: 0.0671 - val_mae: 0.1957\n",
      "Epoch 604/1000\n",
      "5/5 [==============================] - 1s 150ms/step - loss: 0.0553 - mae: 0.1823 - val_loss: 0.0643 - val_mae: 0.1946\n",
      "Epoch 605/1000\n",
      "5/5 [==============================] - 1s 147ms/step - loss: 0.0584 - mae: 0.1897 - val_loss: 0.0616 - val_mae: 0.1961\n",
      "Epoch 606/1000\n",
      "5/5 [==============================] - 1s 149ms/step - loss: 0.0580 - mae: 0.1897 - val_loss: 0.0708 - val_mae: 0.2098\n",
      "Epoch 607/1000\n",
      "5/5 [==============================] - 1s 152ms/step - loss: 0.0591 - mae: 0.1888 - val_loss: 0.0628 - val_mae: 0.1968\n",
      "Epoch 608/1000\n",
      "5/5 [==============================] - 1s 152ms/step - loss: 0.0548 - mae: 0.1829 - val_loss: 0.0624 - val_mae: 0.1943\n",
      "Epoch 609/1000\n",
      "5/5 [==============================] - 1s 150ms/step - loss: 0.0560 - mae: 0.1844 - val_loss: 0.0674 - val_mae: 0.2056\n",
      "Epoch 610/1000\n",
      "5/5 [==============================] - 1s 151ms/step - loss: 0.0595 - mae: 0.1907 - val_loss: 0.0742 - val_mae: 0.2112\n",
      "Epoch 611/1000\n",
      "5/5 [==============================] - 1s 152ms/step - loss: 0.0614 - mae: 0.1947 - val_loss: 0.0600 - val_mae: 0.1908\n",
      "Epoch 612/1000\n",
      "5/5 [==============================] - 1s 151ms/step - loss: 0.0562 - mae: 0.1852 - val_loss: 0.0635 - val_mae: 0.1997\n",
      "Epoch 613/1000\n",
      "5/5 [==============================] - 1s 155ms/step - loss: 0.0558 - mae: 0.1853 - val_loss: 0.0660 - val_mae: 0.2003\n",
      "Epoch 614/1000\n",
      "5/5 [==============================] - 1s 153ms/step - loss: 0.0556 - mae: 0.1832 - val_loss: 0.0600 - val_mae: 0.1886\n",
      "Epoch 615/1000\n",
      "5/5 [==============================] - 1s 153ms/step - loss: 0.0546 - mae: 0.1822 - val_loss: 0.0651 - val_mae: 0.2021\n",
      "Epoch 616/1000\n",
      "5/5 [==============================] - ETA: 0s - loss: 0.0564 - mae: 0.1858INFO:tensorflow:Assets written to: C:\\Users\\PARK\\Documents\\LAB\\RNN vs LSTM\\FInal Example\\wandb\\run-20221015_200538-5remc85i\\files\\model-best\\assets\n"
     ]
    },
    {
     "name": "stderr",
     "output_type": "stream",
     "text": [
      "\u001b[34m\u001b[1mwandb\u001b[0m: Adding directory to artifact (C:\\Users\\PARK\\Documents\\LAB\\RNN vs LSTM\\FInal Example\\wandb\\run-20221015_200538-5remc85i\\files\\model-best)... Done. 0.1s\n"
     ]
    },
    {
     "name": "stdout",
     "output_type": "stream",
     "text": [
      "5/5 [==============================] - 2s 517ms/step - loss: 0.0564 - mae: 0.1858 - val_loss: 0.0559 - val_mae: 0.1850\n",
      "Epoch 617/1000\n",
      "5/5 [==============================] - 1s 170ms/step - loss: 0.0531 - mae: 0.1782 - val_loss: 0.0618 - val_mae: 0.1930\n",
      "Epoch 618/1000\n",
      "5/5 [==============================] - 1s 153ms/step - loss: 0.0553 - mae: 0.1831 - val_loss: 0.0613 - val_mae: 0.1954\n",
      "Epoch 619/1000\n",
      "5/5 [==============================] - 1s 150ms/step - loss: 0.0550 - mae: 0.1836 - val_loss: 0.0681 - val_mae: 0.2075\n",
      "Epoch 620/1000\n",
      "5/5 [==============================] - 1s 151ms/step - loss: 0.0555 - mae: 0.1846 - val_loss: 0.0697 - val_mae: 0.2097\n",
      "Epoch 621/1000\n",
      "5/5 [==============================] - 1s 150ms/step - loss: 0.0572 - mae: 0.1874 - val_loss: 0.0724 - val_mae: 0.2153\n",
      "Epoch 622/1000\n",
      "5/5 [==============================] - 1s 151ms/step - loss: 0.0604 - mae: 0.1919 - val_loss: 0.0652 - val_mae: 0.2032\n",
      "Epoch 623/1000\n",
      "5/5 [==============================] - 1s 152ms/step - loss: 0.0595 - mae: 0.1918 - val_loss: 0.0664 - val_mae: 0.2035\n",
      "Epoch 624/1000\n",
      "5/5 [==============================] - 1s 153ms/step - loss: 0.0573 - mae: 0.1866 - val_loss: 0.0636 - val_mae: 0.1964\n",
      "Epoch 625/1000\n",
      "5/5 [==============================] - 1s 150ms/step - loss: 0.0593 - mae: 0.1886 - val_loss: 0.0625 - val_mae: 0.1986\n",
      "Epoch 626/1000\n",
      "5/5 [==============================] - 1s 150ms/step - loss: 0.0590 - mae: 0.1908 - val_loss: 0.0767 - val_mae: 0.2213\n",
      "Epoch 627/1000\n",
      "5/5 [==============================] - 1s 157ms/step - loss: 0.0618 - mae: 0.1947 - val_loss: 0.0683 - val_mae: 0.2057\n",
      "Epoch 628/1000\n",
      "5/5 [==============================] - 1s 153ms/step - loss: 0.0535 - mae: 0.1808 - val_loss: 0.0636 - val_mae: 0.1966\n",
      "Epoch 629/1000\n",
      "5/5 [==============================] - 1s 152ms/step - loss: 0.0555 - mae: 0.1823 - val_loss: 0.0572 - val_mae: 0.1867\n",
      "Epoch 630/1000\n",
      "5/5 [==============================] - 1s 151ms/step - loss: 0.0521 - mae: 0.1782 - val_loss: 0.0639 - val_mae: 0.1995\n",
      "Epoch 631/1000\n",
      "5/5 [==============================] - 1s 153ms/step - loss: 0.0556 - mae: 0.1837 - val_loss: 0.0705 - val_mae: 0.2087\n",
      "Epoch 632/1000\n",
      "5/5 [==============================] - 1s 151ms/step - loss: 0.0598 - mae: 0.1919 - val_loss: 0.0626 - val_mae: 0.1986\n",
      "Epoch 633/1000\n",
      "5/5 [==============================] - 1s 151ms/step - loss: 0.0567 - mae: 0.1839 - val_loss: 0.0774 - val_mae: 0.2190\n",
      "Epoch 634/1000\n",
      "5/5 [==============================] - 1s 156ms/step - loss: 0.0611 - mae: 0.1925 - val_loss: 0.0705 - val_mae: 0.2119\n",
      "Epoch 635/1000\n",
      "5/5 [==============================] - 1s 156ms/step - loss: 0.0581 - mae: 0.1882 - val_loss: 0.0619 - val_mae: 0.1976\n",
      "Epoch 636/1000\n",
      "5/5 [==============================] - 1s 150ms/step - loss: 0.0566 - mae: 0.1843 - val_loss: 0.0616 - val_mae: 0.1969\n",
      "Epoch 637/1000\n",
      "5/5 [==============================] - 1s 152ms/step - loss: 0.0605 - mae: 0.1923 - val_loss: 0.0650 - val_mae: 0.2045\n",
      "Epoch 638/1000\n",
      "5/5 [==============================] - 1s 149ms/step - loss: 0.0590 - mae: 0.1911 - val_loss: 0.0676 - val_mae: 0.2080\n",
      "Epoch 639/1000\n",
      "5/5 [==============================] - 1s 153ms/step - loss: 0.0573 - mae: 0.1874 - val_loss: 0.0607 - val_mae: 0.1928\n",
      "Epoch 640/1000\n",
      "5/5 [==============================] - 1s 149ms/step - loss: 0.0512 - mae: 0.1757 - val_loss: 0.0601 - val_mae: 0.1865\n",
      "Epoch 641/1000\n",
      "5/5 [==============================] - 1s 147ms/step - loss: 0.0546 - mae: 0.1821 - val_loss: 0.0657 - val_mae: 0.1980\n",
      "Epoch 642/1000\n",
      "5/5 [==============================] - 1s 150ms/step - loss: 0.0577 - mae: 0.1864 - val_loss: 0.0623 - val_mae: 0.1961\n",
      "Epoch 643/1000\n",
      "5/5 [==============================] - 1s 150ms/step - loss: 0.0556 - mae: 0.1837 - val_loss: 0.0598 - val_mae: 0.1878\n",
      "Epoch 644/1000\n",
      "5/5 [==============================] - 1s 149ms/step - loss: 0.0519 - mae: 0.1765 - val_loss: 0.0625 - val_mae: 0.1917\n",
      "Epoch 645/1000\n",
      "5/5 [==============================] - 1s 151ms/step - loss: 0.0530 - mae: 0.1759 - val_loss: 0.0569 - val_mae: 0.1856\n",
      "Epoch 646/1000\n",
      "5/5 [==============================] - 1s 149ms/step - loss: 0.0529 - mae: 0.1796 - val_loss: 0.0570 - val_mae: 0.1860\n",
      "Epoch 647/1000\n",
      "5/5 [==============================] - 1s 152ms/step - loss: 0.0508 - mae: 0.1737 - val_loss: 0.0583 - val_mae: 0.1892\n",
      "Epoch 648/1000\n",
      "5/5 [==============================] - 1s 149ms/step - loss: 0.0494 - mae: 0.1723 - val_loss: 0.0588 - val_mae: 0.1895\n",
      "Epoch 649/1000\n",
      "5/5 [==============================] - 1s 151ms/step - loss: 0.0502 - mae: 0.1728 - val_loss: 0.0676 - val_mae: 0.2074\n",
      "Epoch 650/1000\n",
      "5/5 [==============================] - 1s 151ms/step - loss: 0.0565 - mae: 0.1858 - val_loss: 0.0611 - val_mae: 0.1913\n",
      "Epoch 651/1000\n",
      "5/5 [==============================] - 1s 150ms/step - loss: 0.0540 - mae: 0.1832 - val_loss: 0.0561 - val_mae: 0.1845\n",
      "Epoch 652/1000\n",
      "5/5 [==============================] - 1s 147ms/step - loss: 0.0519 - mae: 0.1779 - val_loss: 0.0603 - val_mae: 0.1918\n",
      "Epoch 653/1000\n",
      "5/5 [==============================] - 1s 149ms/step - loss: 0.0541 - mae: 0.1814 - val_loss: 0.0593 - val_mae: 0.1922\n",
      "Epoch 654/1000\n",
      "5/5 [==============================] - 1s 152ms/step - loss: 0.0569 - mae: 0.1872 - val_loss: 0.0649 - val_mae: 0.2012\n",
      "Epoch 655/1000\n",
      "5/5 [==============================] - 1s 150ms/step - loss: 0.0566 - mae: 0.1852 - val_loss: 0.0586 - val_mae: 0.1857\n",
      "Epoch 656/1000\n",
      "5/5 [==============================] - 1s 150ms/step - loss: 0.0536 - mae: 0.1790 - val_loss: 0.0667 - val_mae: 0.2013\n",
      "Epoch 657/1000\n",
      "5/5 [==============================] - 1s 150ms/step - loss: 0.0556 - mae: 0.1826 - val_loss: 0.0613 - val_mae: 0.1948\n",
      "Epoch 658/1000\n",
      "5/5 [==============================] - 1s 150ms/step - loss: 0.0544 - mae: 0.1807 - val_loss: 0.0665 - val_mae: 0.2071\n",
      "Epoch 659/1000\n",
      "5/5 [==============================] - 1s 149ms/step - loss: 0.0564 - mae: 0.1848 - val_loss: 0.0666 - val_mae: 0.2019\n",
      "Epoch 660/1000\n",
      "5/5 [==============================] - 1s 150ms/step - loss: 0.0544 - mae: 0.1834 - val_loss: 0.0650 - val_mae: 0.2052\n",
      "Epoch 661/1000\n",
      "5/5 [==============================] - 1s 159ms/step - loss: 0.0559 - mae: 0.1857 - val_loss: 0.0616 - val_mae: 0.1917\n",
      "Epoch 662/1000\n",
      "5/5 [==============================] - 1s 158ms/step - loss: 0.0542 - mae: 0.1813 - val_loss: 0.0613 - val_mae: 0.1924\n",
      "Epoch 663/1000\n",
      "5/5 [==============================] - 1s 153ms/step - loss: 0.0520 - mae: 0.1763 - val_loss: 0.0582 - val_mae: 0.1873\n",
      "Epoch 664/1000\n",
      "5/5 [==============================] - 1s 150ms/step - loss: 0.0503 - mae: 0.1733 - val_loss: 0.0565 - val_mae: 0.1853\n",
      "Epoch 665/1000\n",
      "5/5 [==============================] - 1s 149ms/step - loss: 0.0493 - mae: 0.1712 - val_loss: 0.0564 - val_mae: 0.1867\n",
      "Epoch 666/1000\n",
      "5/5 [==============================] - 1s 153ms/step - loss: 0.0508 - mae: 0.1735 - val_loss: 0.0569 - val_mae: 0.1870\n",
      "Epoch 667/1000\n",
      "5/5 [==============================] - 1s 152ms/step - loss: 0.0503 - mae: 0.1727 - val_loss: 0.0596 - val_mae: 0.1917\n",
      "Epoch 668/1000\n",
      "5/5 [==============================] - ETA: 0s - loss: 0.0494 - mae: 0.1714INFO:tensorflow:Assets written to: C:\\Users\\PARK\\Documents\\LAB\\RNN vs LSTM\\FInal Example\\wandb\\run-20221015_200538-5remc85i\\files\\model-best\\assets\n"
     ]
    },
    {
     "name": "stderr",
     "output_type": "stream",
     "text": [
      "\u001b[34m\u001b[1mwandb\u001b[0m: Adding directory to artifact (C:\\Users\\PARK\\Documents\\LAB\\RNN vs LSTM\\FInal Example\\wandb\\run-20221015_200538-5remc85i\\files\\model-best)... Done. 0.1s\n"
     ]
    },
    {
     "name": "stdout",
     "output_type": "stream",
     "text": [
      "5/5 [==============================] - 2s 528ms/step - loss: 0.0494 - mae: 0.1714 - val_loss: 0.0544 - val_mae: 0.1833\n",
      "Epoch 669/1000\n",
      "5/5 [==============================] - 1s 168ms/step - loss: 0.0473 - mae: 0.1672 - val_loss: 0.0566 - val_mae: 0.1825\n",
      "Epoch 670/1000\n",
      "5/5 [==============================] - 1s 153ms/step - loss: 0.0503 - mae: 0.1738 - val_loss: 0.0594 - val_mae: 0.1932\n",
      "Epoch 671/1000\n",
      "5/5 [==============================] - 1s 151ms/step - loss: 0.0486 - mae: 0.1717 - val_loss: 0.0576 - val_mae: 0.1890\n",
      "Epoch 672/1000\n",
      "5/5 [==============================] - 1s 152ms/step - loss: 0.0508 - mae: 0.1761 - val_loss: 0.0545 - val_mae: 0.1808\n",
      "Epoch 673/1000\n",
      "5/5 [==============================] - 1s 153ms/step - loss: 0.0517 - mae: 0.1769 - val_loss: 0.0572 - val_mae: 0.1853\n",
      "Epoch 674/1000\n",
      "5/5 [==============================] - 1s 154ms/step - loss: 0.0506 - mae: 0.1741 - val_loss: 0.0605 - val_mae: 0.1941\n",
      "Epoch 675/1000\n",
      "5/5 [==============================] - 1s 151ms/step - loss: 0.0544 - mae: 0.1815 - val_loss: 0.0771 - val_mae: 0.2211\n",
      "Epoch 676/1000\n",
      "5/5 [==============================] - 1s 153ms/step - loss: 0.0580 - mae: 0.1887 - val_loss: 0.0665 - val_mae: 0.2029\n",
      "Epoch 677/1000\n",
      "5/5 [==============================] - 1s 151ms/step - loss: 0.0546 - mae: 0.1822 - val_loss: 0.0624 - val_mae: 0.1976\n",
      "Epoch 678/1000\n",
      "5/5 [==============================] - 1s 151ms/step - loss: 0.0580 - mae: 0.1883 - val_loss: 0.0692 - val_mae: 0.2129\n",
      "Epoch 679/1000\n",
      "5/5 [==============================] - 1s 156ms/step - loss: 0.0580 - mae: 0.1882 - val_loss: 0.0695 - val_mae: 0.2083\n",
      "Epoch 680/1000\n",
      "5/5 [==============================] - 1s 150ms/step - loss: 0.0580 - mae: 0.1884 - val_loss: 0.0567 - val_mae: 0.1842\n",
      "Epoch 681/1000\n",
      "5/5 [==============================] - 1s 149ms/step - loss: 0.0511 - mae: 0.1760 - val_loss: 0.0584 - val_mae: 0.1903\n",
      "Epoch 682/1000\n",
      "5/5 [==============================] - 1s 157ms/step - loss: 0.0523 - mae: 0.1795 - val_loss: 0.0626 - val_mae: 0.1980\n",
      "Epoch 683/1000\n",
      "5/5 [==============================] - 1s 151ms/step - loss: 0.0511 - mae: 0.1751 - val_loss: 0.0591 - val_mae: 0.1918\n",
      "Epoch 684/1000\n",
      "5/5 [==============================] - 1s 151ms/step - loss: 0.0507 - mae: 0.1743 - val_loss: 0.0545 - val_mae: 0.1815\n",
      "Epoch 685/1000\n",
      "5/5 [==============================] - 1s 150ms/step - loss: 0.0492 - mae: 0.1712 - val_loss: 0.0598 - val_mae: 0.1920\n",
      "Epoch 686/1000\n",
      "5/5 [==============================] - 1s 148ms/step - loss: 0.0505 - mae: 0.1753 - val_loss: 0.0594 - val_mae: 0.1918\n",
      "Epoch 687/1000\n",
      "5/5 [==============================] - 1s 148ms/step - loss: 0.0518 - mae: 0.1767 - val_loss: 0.0615 - val_mae: 0.1931\n",
      "Epoch 688/1000\n",
      "5/5 [==============================] - 1s 145ms/step - loss: 0.0513 - mae: 0.1743 - val_loss: 0.0547 - val_mae: 0.1852\n",
      "Epoch 689/1000\n",
      "5/5 [==============================] - ETA: 0s - loss: 0.0480 - mae: 0.1706INFO:tensorflow:Assets written to: C:\\Users\\PARK\\Documents\\LAB\\RNN vs LSTM\\FInal Example\\wandb\\run-20221015_200538-5remc85i\\files\\model-best\\assets\n"
     ]
    },
    {
     "name": "stderr",
     "output_type": "stream",
     "text": [
      "\u001b[34m\u001b[1mwandb\u001b[0m: Adding directory to artifact (C:\\Users\\PARK\\Documents\\LAB\\RNN vs LSTM\\FInal Example\\wandb\\run-20221015_200538-5remc85i\\files\\model-best)... Done. 0.1s\n"
     ]
    },
    {
     "name": "stdout",
     "output_type": "stream",
     "text": [
      "5/5 [==============================] - 2s 503ms/step - loss: 0.0480 - mae: 0.1706 - val_loss: 0.0509 - val_mae: 0.1725\n",
      "Epoch 690/1000\n",
      "5/5 [==============================] - 1s 183ms/step - loss: 0.0477 - mae: 0.1695 - val_loss: 0.0606 - val_mae: 0.1914\n",
      "Epoch 691/1000\n",
      "5/5 [==============================] - 1s 147ms/step - loss: 0.0523 - mae: 0.1768 - val_loss: 0.0647 - val_mae: 0.1972\n",
      "Epoch 692/1000\n",
      "5/5 [==============================] - 1s 146ms/step - loss: 0.0525 - mae: 0.1780 - val_loss: 0.0638 - val_mae: 0.1994\n",
      "Epoch 693/1000\n",
      "5/5 [==============================] - 1s 146ms/step - loss: 0.0526 - mae: 0.1803 - val_loss: 0.0589 - val_mae: 0.1886\n",
      "Epoch 694/1000\n",
      "5/5 [==============================] - 1s 149ms/step - loss: 0.0517 - mae: 0.1773 - val_loss: 0.0676 - val_mae: 0.2052\n",
      "Epoch 695/1000\n",
      "5/5 [==============================] - 1s 147ms/step - loss: 0.0575 - mae: 0.1869 - val_loss: 0.0609 - val_mae: 0.1955\n",
      "Epoch 696/1000\n",
      "5/5 [==============================] - 1s 149ms/step - loss: 0.0553 - mae: 0.1844 - val_loss: 0.0559 - val_mae: 0.1811\n",
      "Epoch 697/1000\n",
      "5/5 [==============================] - 1s 148ms/step - loss: 0.0498 - mae: 0.1730 - val_loss: 0.0523 - val_mae: 0.1783\n",
      "Epoch 698/1000\n",
      "4/5 [=======================>......] - ETA: 0s - loss: 0.0498 - mae: 0.1734INFO:tensorflow:Assets written to: C:\\Users\\PARK\\Documents\\LAB\\RNN vs LSTM\\FInal Example\\wandb\\run-20221015_200538-5remc85i\\files\\model-best\\assets\n"
     ]
    },
    {
     "name": "stderr",
     "output_type": "stream",
     "text": [
      "\u001b[34m\u001b[1mwandb\u001b[0m: Adding directory to artifact (C:\\Users\\PARK\\Documents\\LAB\\RNN vs LSTM\\FInal Example\\wandb\\run-20221015_200538-5remc85i\\files\\model-best)... Done. 0.1s\n"
     ]
    },
    {
     "name": "stdout",
     "output_type": "stream",
     "text": [
      "5/5 [==============================] - 2s 495ms/step - loss: 0.0496 - mae: 0.1732 - val_loss: 0.0504 - val_mae: 0.1745\n",
      "Epoch 699/1000\n",
      "5/5 [==============================] - 1s 189ms/step - loss: 0.0453 - mae: 0.1654 - val_loss: 0.0542 - val_mae: 0.1810\n",
      "Epoch 700/1000\n",
      "5/5 [==============================] - 1s 144ms/step - loss: 0.0492 - mae: 0.1725 - val_loss: 0.0509 - val_mae: 0.1756\n",
      "Epoch 701/1000\n",
      "5/5 [==============================] - 1s 149ms/step - loss: 0.0480 - mae: 0.1700 - val_loss: 0.0565 - val_mae: 0.1842\n",
      "Epoch 702/1000\n",
      "5/5 [==============================] - 1s 157ms/step - loss: 0.0452 - mae: 0.1638 - val_loss: 0.0558 - val_mae: 0.1870\n",
      "Epoch 703/1000\n",
      "5/5 [==============================] - 1s 151ms/step - loss: 0.0487 - mae: 0.1711 - val_loss: 0.0576 - val_mae: 0.1888\n",
      "Epoch 704/1000\n",
      "5/5 [==============================] - 1s 148ms/step - loss: 0.0474 - mae: 0.1682 - val_loss: 0.0512 - val_mae: 0.1768\n",
      "Epoch 705/1000\n",
      "5/5 [==============================] - 1s 153ms/step - loss: 0.0508 - mae: 0.1769 - val_loss: 0.0593 - val_mae: 0.1908\n",
      "Epoch 706/1000\n",
      "5/5 [==============================] - 1s 143ms/step - loss: 0.0470 - mae: 0.1678 - val_loss: 0.0518 - val_mae: 0.1776\n",
      "Epoch 707/1000\n",
      "5/5 [==============================] - 1s 148ms/step - loss: 0.0471 - mae: 0.1684 - val_loss: 0.0623 - val_mae: 0.1940\n",
      "Epoch 708/1000\n",
      "5/5 [==============================] - 1s 146ms/step - loss: 0.0501 - mae: 0.1732 - val_loss: 0.0598 - val_mae: 0.1928\n",
      "Epoch 709/1000\n",
      "5/5 [==============================] - 1s 152ms/step - loss: 0.0521 - mae: 0.1781 - val_loss: 0.0590 - val_mae: 0.1922\n",
      "Epoch 710/1000\n",
      "5/5 [==============================] - 1s 151ms/step - loss: 0.0480 - mae: 0.1700 - val_loss: 0.0506 - val_mae: 0.1709\n",
      "Epoch 711/1000\n",
      "5/5 [==============================] - 1s 150ms/step - loss: 0.0462 - mae: 0.1670 - val_loss: 0.0621 - val_mae: 0.1939\n",
      "Epoch 712/1000\n",
      "5/5 [==============================] - ETA: 0s - loss: 0.0509 - mae: 0.1749INFO:tensorflow:Assets written to: C:\\Users\\PARK\\Documents\\LAB\\RNN vs LSTM\\FInal Example\\wandb\\run-20221015_200538-5remc85i\\files\\model-best\\assets\n"
     ]
    },
    {
     "name": "stderr",
     "output_type": "stream",
     "text": [
      "\u001b[34m\u001b[1mwandb\u001b[0m: Adding directory to artifact (C:\\Users\\PARK\\Documents\\LAB\\RNN vs LSTM\\FInal Example\\wandb\\run-20221015_200538-5remc85i\\files\\model-best)... Done. 0.1s\n"
     ]
    },
    {
     "name": "stdout",
     "output_type": "stream",
     "text": [
      "5/5 [==============================] - 2s 522ms/step - loss: 0.0509 - mae: 0.1749 - val_loss: 0.0485 - val_mae: 0.1708\n",
      "Epoch 713/1000\n",
      "5/5 [==============================] - 1s 184ms/step - loss: 0.0485 - mae: 0.1706 - val_loss: 0.0504 - val_mae: 0.1739\n",
      "Epoch 714/1000\n",
      "5/5 [==============================] - 1s 148ms/step - loss: 0.0424 - mae: 0.1581 - val_loss: 0.0503 - val_mae: 0.1734\n",
      "Epoch 715/1000\n",
      "5/5 [==============================] - 1s 146ms/step - loss: 0.0480 - mae: 0.1691 - val_loss: 0.0535 - val_mae: 0.1804\n",
      "Epoch 716/1000\n",
      "5/5 [==============================] - 1s 149ms/step - loss: 0.0467 - mae: 0.1703 - val_loss: 0.0599 - val_mae: 0.1930\n",
      "Epoch 717/1000\n",
      "5/5 [==============================] - 1s 154ms/step - loss: 0.0461 - mae: 0.1660 - val_loss: 0.0508 - val_mae: 0.1744\n",
      "Epoch 718/1000\n",
      "5/5 [==============================] - 1s 152ms/step - loss: 0.0445 - mae: 0.1626 - val_loss: 0.0616 - val_mae: 0.1983\n",
      "Epoch 719/1000\n",
      "5/5 [==============================] - 1s 151ms/step - loss: 0.0468 - mae: 0.1689 - val_loss: 0.0490 - val_mae: 0.1723\n",
      "Epoch 720/1000\n",
      "5/5 [==============================] - 1s 152ms/step - loss: 0.0463 - mae: 0.1684 - val_loss: 0.0517 - val_mae: 0.1768\n",
      "Epoch 721/1000\n",
      "5/5 [==============================] - 1s 149ms/step - loss: 0.0473 - mae: 0.1699 - val_loss: 0.0494 - val_mae: 0.1719\n",
      "Epoch 722/1000\n",
      "5/5 [==============================] - ETA: 0s - loss: 0.0460 - mae: 0.1673INFO:tensorflow:Assets written to: C:\\Users\\PARK\\Documents\\LAB\\RNN vs LSTM\\FInal Example\\wandb\\run-20221015_200538-5remc85i\\files\\model-best\\assets\n"
     ]
    },
    {
     "name": "stderr",
     "output_type": "stream",
     "text": [
      "\u001b[34m\u001b[1mwandb\u001b[0m: Adding directory to artifact (C:\\Users\\PARK\\Documents\\LAB\\RNN vs LSTM\\FInal Example\\wandb\\run-20221015_200538-5remc85i\\files\\model-best)... Done. 0.1s\n"
     ]
    },
    {
     "name": "stdout",
     "output_type": "stream",
     "text": [
      "5/5 [==============================] - 2s 498ms/step - loss: 0.0460 - mae: 0.1673 - val_loss: 0.0470 - val_mae: 0.1694\n",
      "Epoch 723/1000\n",
      "5/5 [==============================] - 1s 172ms/step - loss: 0.0431 - mae: 0.1615 - val_loss: 0.0550 - val_mae: 0.1846\n",
      "Epoch 724/1000\n",
      "5/5 [==============================] - 1s 155ms/step - loss: 0.0466 - mae: 0.1676 - val_loss: 0.0489 - val_mae: 0.1719\n",
      "Epoch 725/1000\n",
      "5/5 [==============================] - 1s 153ms/step - loss: 0.0470 - mae: 0.1696 - val_loss: 0.0503 - val_mae: 0.1739\n",
      "Epoch 726/1000\n",
      "5/5 [==============================] - 1s 150ms/step - loss: 0.0452 - mae: 0.1652 - val_loss: 0.0483 - val_mae: 0.1680\n",
      "Epoch 727/1000\n",
      "5/5 [==============================] - 1s 153ms/step - loss: 0.0469 - mae: 0.1688 - val_loss: 0.0542 - val_mae: 0.1834\n",
      "Epoch 728/1000\n",
      "5/5 [==============================] - 1s 153ms/step - loss: 0.0461 - mae: 0.1688 - val_loss: 0.0548 - val_mae: 0.1839\n",
      "Epoch 729/1000\n",
      "5/5 [==============================] - 1s 155ms/step - loss: 0.0502 - mae: 0.1753 - val_loss: 0.0493 - val_mae: 0.1726\n",
      "Epoch 730/1000\n",
      "5/5 [==============================] - 1s 151ms/step - loss: 0.0443 - mae: 0.1631 - val_loss: 0.0546 - val_mae: 0.1810\n",
      "Epoch 731/1000\n",
      "5/5 [==============================] - ETA: 0s - loss: 0.0463 - mae: 0.1674INFO:tensorflow:Assets written to: C:\\Users\\PARK\\Documents\\LAB\\RNN vs LSTM\\FInal Example\\wandb\\run-20221015_200538-5remc85i\\files\\model-best\\assets\n"
     ]
    },
    {
     "name": "stderr",
     "output_type": "stream",
     "text": [
      "\u001b[34m\u001b[1mwandb\u001b[0m: Adding directory to artifact (C:\\Users\\PARK\\Documents\\LAB\\RNN vs LSTM\\FInal Example\\wandb\\run-20221015_200538-5remc85i\\files\\model-best)... Done. 0.0s\n"
     ]
    },
    {
     "name": "stdout",
     "output_type": "stream",
     "text": [
      "5/5 [==============================] - 2s 522ms/step - loss: 0.0463 - mae: 0.1674 - val_loss: 0.0465 - val_mae: 0.1667\n",
      "Epoch 732/1000\n",
      "5/5 [==============================] - 1s 169ms/step - loss: 0.0464 - mae: 0.1681 - val_loss: 0.0514 - val_mae: 0.1766\n",
      "Epoch 733/1000\n",
      "5/5 [==============================] - 1s 155ms/step - loss: 0.0448 - mae: 0.1651 - val_loss: 0.0514 - val_mae: 0.1792\n",
      "Epoch 734/1000\n",
      "5/5 [==============================] - 1s 158ms/step - loss: 0.0433 - mae: 0.1611 - val_loss: 0.0499 - val_mae: 0.1735\n",
      "Epoch 735/1000\n",
      "5/5 [==============================] - 1s 150ms/step - loss: 0.0409 - mae: 0.1571 - val_loss: 0.0488 - val_mae: 0.1713\n",
      "Epoch 736/1000\n",
      "5/5 [==============================] - 1s 149ms/step - loss: 0.0433 - mae: 0.1616 - val_loss: 0.0520 - val_mae: 0.1830\n",
      "Epoch 737/1000\n",
      "5/5 [==============================] - 1s 151ms/step - loss: 0.0448 - mae: 0.1663 - val_loss: 0.0517 - val_mae: 0.1738\n",
      "Epoch 738/1000\n",
      "4/5 [=======================>......] - ETA: 0s - loss: 0.0434 - mae: 0.1627INFO:tensorflow:Assets written to: C:\\Users\\PARK\\Documents\\LAB\\RNN vs LSTM\\FInal Example\\wandb\\run-20221015_200538-5remc85i\\files\\model-best\\assets\n"
     ]
    },
    {
     "name": "stderr",
     "output_type": "stream",
     "text": [
      "\u001b[34m\u001b[1mwandb\u001b[0m: Adding directory to artifact (C:\\Users\\PARK\\Documents\\LAB\\RNN vs LSTM\\FInal Example\\wandb\\run-20221015_200538-5remc85i\\files\\model-best)... Done. 0.0s\n"
     ]
    },
    {
     "name": "stdout",
     "output_type": "stream",
     "text": [
      "5/5 [==============================] - 2s 486ms/step - loss: 0.0442 - mae: 0.1636 - val_loss: 0.0448 - val_mae: 0.1645\n",
      "Epoch 739/1000\n",
      "5/5 [==============================] - 1s 188ms/step - loss: 0.0433 - mae: 0.1617 - val_loss: 0.0502 - val_mae: 0.1749\n",
      "Epoch 740/1000\n",
      "5/5 [==============================] - ETA: 0s - loss: 0.0455 - mae: 0.1666INFO:tensorflow:Assets written to: C:\\Users\\PARK\\Documents\\LAB\\RNN vs LSTM\\FInal Example\\wandb\\run-20221015_200538-5remc85i\\files\\model-best\\assets\n"
     ]
    },
    {
     "name": "stderr",
     "output_type": "stream",
     "text": [
      "\u001b[34m\u001b[1mwandb\u001b[0m: Adding directory to artifact (C:\\Users\\PARK\\Documents\\LAB\\RNN vs LSTM\\FInal Example\\wandb\\run-20221015_200538-5remc85i\\files\\model-best)... Done. 0.0s\n"
     ]
    },
    {
     "name": "stdout",
     "output_type": "stream",
     "text": [
      "5/5 [==============================] - 2s 531ms/step - loss: 0.0455 - mae: 0.1666 - val_loss: 0.0437 - val_mae: 0.1636\n",
      "Epoch 741/1000\n",
      "5/5 [==============================] - 1s 193ms/step - loss: 0.0420 - mae: 0.1607 - val_loss: 0.0495 - val_mae: 0.1759\n",
      "Epoch 742/1000\n",
      "5/5 [==============================] - ETA: 0s - loss: 0.0428 - mae: 0.1621INFO:tensorflow:Assets written to: C:\\Users\\PARK\\Documents\\LAB\\RNN vs LSTM\\FInal Example\\wandb\\run-20221015_200538-5remc85i\\files\\model-best\\assets\n"
     ]
    },
    {
     "name": "stderr",
     "output_type": "stream",
     "text": [
      "\u001b[34m\u001b[1mwandb\u001b[0m: Adding directory to artifact (C:\\Users\\PARK\\Documents\\LAB\\RNN vs LSTM\\FInal Example\\wandb\\run-20221015_200538-5remc85i\\files\\model-best)... Done. 0.0s\n"
     ]
    },
    {
     "name": "stdout",
     "output_type": "stream",
     "text": [
      "5/5 [==============================] - 2s 503ms/step - loss: 0.0428 - mae: 0.1621 - val_loss: 0.0422 - val_mae: 0.1590\n",
      "Epoch 743/1000\n",
      "5/5 [==============================] - 1s 164ms/step - loss: 0.0418 - mae: 0.1582 - val_loss: 0.0451 - val_mae: 0.1642\n",
      "Epoch 744/1000\n",
      "5/5 [==============================] - 1s 152ms/step - loss: 0.0423 - mae: 0.1612 - val_loss: 0.0508 - val_mae: 0.1803\n",
      "Epoch 745/1000\n",
      "5/5 [==============================] - 1s 154ms/step - loss: 0.0409 - mae: 0.1580 - val_loss: 0.0453 - val_mae: 0.1697\n",
      "Epoch 746/1000\n",
      "5/5 [==============================] - 1s 152ms/step - loss: 0.0411 - mae: 0.1579 - val_loss: 0.0469 - val_mae: 0.1706\n",
      "Epoch 747/1000\n",
      "5/5 [==============================] - 1s 152ms/step - loss: 0.0420 - mae: 0.1603 - val_loss: 0.0448 - val_mae: 0.1665\n",
      "Epoch 748/1000\n",
      "5/5 [==============================] - 1s 153ms/step - loss: 0.0436 - mae: 0.1633 - val_loss: 0.0575 - val_mae: 0.1920\n",
      "Epoch 749/1000\n",
      "5/5 [==============================] - 1s 150ms/step - loss: 0.0497 - mae: 0.1763 - val_loss: 0.0479 - val_mae: 0.1721\n",
      "Epoch 750/1000\n",
      "5/5 [==============================] - 1s 151ms/step - loss: 0.0446 - mae: 0.1646 - val_loss: 0.0520 - val_mae: 0.1803\n",
      "Epoch 751/1000\n",
      "5/5 [==============================] - 1s 152ms/step - loss: 0.0479 - mae: 0.1703 - val_loss: 0.0478 - val_mae: 0.1719\n",
      "Epoch 752/1000\n",
      "5/5 [==============================] - 1s 152ms/step - loss: 0.0441 - mae: 0.1636 - val_loss: 0.0558 - val_mae: 0.1915\n",
      "Epoch 753/1000\n",
      "5/5 [==============================] - 1s 151ms/step - loss: 0.0450 - mae: 0.1662 - val_loss: 0.0428 - val_mae: 0.1615\n",
      "Epoch 754/1000\n",
      "5/5 [==============================] - 1s 145ms/step - loss: 0.0417 - mae: 0.1586 - val_loss: 0.0481 - val_mae: 0.1684\n",
      "Epoch 755/1000\n",
      "5/5 [==============================] - 1s 149ms/step - loss: 0.0481 - mae: 0.1701 - val_loss: 0.0524 - val_mae: 0.1835\n",
      "Epoch 756/1000\n",
      "5/5 [==============================] - 1s 150ms/step - loss: 0.0462 - mae: 0.1672 - val_loss: 0.0440 - val_mae: 0.1645\n",
      "Epoch 757/1000\n",
      "5/5 [==============================] - 1s 150ms/step - loss: 0.0418 - mae: 0.1589 - val_loss: 0.0543 - val_mae: 0.1823\n",
      "Epoch 758/1000\n",
      "5/5 [==============================] - 1s 151ms/step - loss: 0.0419 - mae: 0.1598 - val_loss: 0.0512 - val_mae: 0.1719\n",
      "Epoch 759/1000\n",
      "5/5 [==============================] - ETA: 0s - loss: 0.0428 - mae: 0.1604INFO:tensorflow:Assets written to: C:\\Users\\PARK\\Documents\\LAB\\RNN vs LSTM\\FInal Example\\wandb\\run-20221015_200538-5remc85i\\files\\model-best\\assets\n"
     ]
    },
    {
     "name": "stderr",
     "output_type": "stream",
     "text": [
      "\u001b[34m\u001b[1mwandb\u001b[0m: Adding directory to artifact (C:\\Users\\PARK\\Documents\\LAB\\RNN vs LSTM\\FInal Example\\wandb\\run-20221015_200538-5remc85i\\files\\model-best)... Done. 0.0s\n"
     ]
    },
    {
     "name": "stdout",
     "output_type": "stream",
     "text": [
      "5/5 [==============================] - 2s 489ms/step - loss: 0.0428 - mae: 0.1604 - val_loss: 0.0397 - val_mae: 0.1555\n",
      "Epoch 760/1000\n",
      "5/5 [==============================] - 1s 178ms/step - loss: 0.0402 - mae: 0.1560 - val_loss: 0.0509 - val_mae: 0.1761\n",
      "Epoch 761/1000\n",
      "5/5 [==============================] - 1s 154ms/step - loss: 0.0424 - mae: 0.1598 - val_loss: 0.0404 - val_mae: 0.1583\n",
      "Epoch 762/1000\n",
      "5/5 [==============================] - 1s 156ms/step - loss: 0.0403 - mae: 0.1586 - val_loss: 0.0429 - val_mae: 0.1598\n",
      "Epoch 763/1000\n",
      "5/5 [==============================] - 1s 150ms/step - loss: 0.0394 - mae: 0.1536 - val_loss: 0.0466 - val_mae: 0.1685\n",
      "Epoch 764/1000\n",
      "5/5 [==============================] - 1s 156ms/step - loss: 0.0414 - mae: 0.1582 - val_loss: 0.0473 - val_mae: 0.1708\n",
      "Epoch 765/1000\n",
      "5/5 [==============================] - 1s 150ms/step - loss: 0.0405 - mae: 0.1579 - val_loss: 0.0534 - val_mae: 0.1811\n",
      "Epoch 766/1000\n",
      "5/5 [==============================] - 1s 150ms/step - loss: 0.0437 - mae: 0.1645 - val_loss: 0.0502 - val_mae: 0.1754\n",
      "Epoch 767/1000\n",
      "5/5 [==============================] - 1s 151ms/step - loss: 0.0423 - mae: 0.1614 - val_loss: 0.0413 - val_mae: 0.1575\n",
      "Epoch 768/1000\n",
      "5/5 [==============================] - 1s 151ms/step - loss: 0.0400 - mae: 0.1556 - val_loss: 0.0436 - val_mae: 0.1641\n",
      "Epoch 769/1000\n",
      "5/5 [==============================] - 1s 150ms/step - loss: 0.0376 - mae: 0.1514 - val_loss: 0.0459 - val_mae: 0.1688\n",
      "Epoch 770/1000\n",
      "5/5 [==============================] - 1s 151ms/step - loss: 0.0411 - mae: 0.1585 - val_loss: 0.0429 - val_mae: 0.1608\n",
      "Epoch 771/1000\n",
      "5/5 [==============================] - ETA: 0s - loss: 0.0374 - mae: 0.1502INFO:tensorflow:Assets written to: C:\\Users\\PARK\\Documents\\LAB\\RNN vs LSTM\\FInal Example\\wandb\\run-20221015_200538-5remc85i\\files\\model-best\\assets\n"
     ]
    },
    {
     "name": "stderr",
     "output_type": "stream",
     "text": [
      "\u001b[34m\u001b[1mwandb\u001b[0m: Adding directory to artifact (C:\\Users\\PARK\\Documents\\LAB\\RNN vs LSTM\\FInal Example\\wandb\\run-20221015_200538-5remc85i\\files\\model-best)... Done. 0.1s\n"
     ]
    },
    {
     "name": "stdout",
     "output_type": "stream",
     "text": [
      "5/5 [==============================] - 2s 519ms/step - loss: 0.0374 - mae: 0.1502 - val_loss: 0.0391 - val_mae: 0.1525\n",
      "Epoch 772/1000\n",
      "5/5 [==============================] - 1s 187ms/step - loss: 0.0356 - mae: 0.1471 - val_loss: 0.0395 - val_mae: 0.1541\n",
      "Epoch 773/1000\n",
      "5/5 [==============================] - 1s 154ms/step - loss: 0.0378 - mae: 0.1505 - val_loss: 0.0431 - val_mae: 0.1624\n",
      "Epoch 774/1000\n",
      "5/5 [==============================] - 1s 152ms/step - loss: 0.0374 - mae: 0.1498 - val_loss: 0.0419 - val_mae: 0.1613\n",
      "Epoch 775/1000\n",
      "5/5 [==============================] - 1s 152ms/step - loss: 0.0368 - mae: 0.1491 - val_loss: 0.0438 - val_mae: 0.1639\n",
      "Epoch 776/1000\n",
      "5/5 [==============================] - 1s 153ms/step - loss: 0.0377 - mae: 0.1516 - val_loss: 0.0397 - val_mae: 0.1547\n",
      "Epoch 777/1000\n",
      "5/5 [==============================] - 1s 155ms/step - loss: 0.0365 - mae: 0.1482 - val_loss: 0.0490 - val_mae: 0.1763\n",
      "Epoch 778/1000\n",
      "5/5 [==============================] - 1s 161ms/step - loss: 0.0403 - mae: 0.1568 - val_loss: 0.0420 - val_mae: 0.1608\n",
      "Epoch 779/1000\n",
      "5/5 [==============================] - ETA: 0s - loss: 0.0382 - mae: 0.1511INFO:tensorflow:Assets written to: C:\\Users\\PARK\\Documents\\LAB\\RNN vs LSTM\\FInal Example\\wandb\\run-20221015_200538-5remc85i\\files\\model-best\\assets\n"
     ]
    },
    {
     "name": "stderr",
     "output_type": "stream",
     "text": [
      "\u001b[34m\u001b[1mwandb\u001b[0m: Adding directory to artifact (C:\\Users\\PARK\\Documents\\LAB\\RNN vs LSTM\\FInal Example\\wandb\\run-20221015_200538-5remc85i\\files\\model-best)... Done. 0.0s\n"
     ]
    },
    {
     "name": "stdout",
     "output_type": "stream",
     "text": [
      "5/5 [==============================] - 2s 498ms/step - loss: 0.0382 - mae: 0.1511 - val_loss: 0.0345 - val_mae: 0.1425\n",
      "Epoch 780/1000\n",
      "5/5 [==============================] - 1s 184ms/step - loss: 0.0346 - mae: 0.1454 - val_loss: 0.0382 - val_mae: 0.1536\n",
      "Epoch 781/1000\n",
      "5/5 [==============================] - 1s 150ms/step - loss: 0.0335 - mae: 0.1409 - val_loss: 0.0367 - val_mae: 0.1510\n",
      "Epoch 782/1000\n",
      "5/5 [==============================] - 1s 150ms/step - loss: 0.0340 - mae: 0.1434 - val_loss: 0.0535 - val_mae: 0.1841\n",
      "Epoch 783/1000\n",
      "5/5 [==============================] - 1s 151ms/step - loss: 0.0398 - mae: 0.1559 - val_loss: 0.0421 - val_mae: 0.1631\n",
      "Epoch 784/1000\n",
      "5/5 [==============================] - 1s 149ms/step - loss: 0.0361 - mae: 0.1484 - val_loss: 0.0385 - val_mae: 0.1528\n",
      "Epoch 785/1000\n",
      "5/5 [==============================] - 1s 149ms/step - loss: 0.0352 - mae: 0.1448 - val_loss: 0.0443 - val_mae: 0.1653\n",
      "Epoch 786/1000\n",
      "5/5 [==============================] - 1s 148ms/step - loss: 0.0406 - mae: 0.1573 - val_loss: 0.0402 - val_mae: 0.1577\n",
      "Epoch 787/1000\n",
      "5/5 [==============================] - 1s 149ms/step - loss: 0.0371 - mae: 0.1520 - val_loss: 0.0392 - val_mae: 0.1554\n",
      "Epoch 788/1000\n",
      "5/5 [==============================] - 1s 150ms/step - loss: 0.0364 - mae: 0.1507 - val_loss: 0.0418 - val_mae: 0.1600\n",
      "Epoch 789/1000\n",
      "5/5 [==============================] - 1s 152ms/step - loss: 0.0385 - mae: 0.1550 - val_loss: 0.0496 - val_mae: 0.1770\n",
      "Epoch 790/1000\n",
      "5/5 [==============================] - 1s 150ms/step - loss: 0.0434 - mae: 0.1635 - val_loss: 0.0418 - val_mae: 0.1589\n",
      "Epoch 791/1000\n",
      "5/5 [==============================] - 1s 150ms/step - loss: 0.0387 - mae: 0.1554 - val_loss: 0.0414 - val_mae: 0.1566\n",
      "Epoch 792/1000\n",
      "5/5 [==============================] - 1s 148ms/step - loss: 0.0391 - mae: 0.1554 - val_loss: 0.0396 - val_mae: 0.1565\n",
      "Epoch 793/1000\n",
      "5/5 [==============================] - 1s 153ms/step - loss: 0.0365 - mae: 0.1508 - val_loss: 0.0485 - val_mae: 0.1737\n",
      "Epoch 794/1000\n",
      "5/5 [==============================] - 1s 150ms/step - loss: 0.0387 - mae: 0.1538 - val_loss: 0.0408 - val_mae: 0.1607\n",
      "Epoch 795/1000\n",
      "5/5 [==============================] - 1s 147ms/step - loss: 0.0394 - mae: 0.1559 - val_loss: 0.0409 - val_mae: 0.1582\n",
      "Epoch 796/1000\n",
      "5/5 [==============================] - 1s 151ms/step - loss: 0.0377 - mae: 0.1535 - val_loss: 0.0403 - val_mae: 0.1549\n",
      "Epoch 797/1000\n",
      "5/5 [==============================] - 1s 149ms/step - loss: 0.0358 - mae: 0.1476 - val_loss: 0.0411 - val_mae: 0.1590\n",
      "Epoch 798/1000\n",
      "5/5 [==============================] - 1s 150ms/step - loss: 0.0349 - mae: 0.1466 - val_loss: 0.0389 - val_mae: 0.1531\n",
      "Epoch 799/1000\n",
      "5/5 [==============================] - 1s 148ms/step - loss: 0.0311 - mae: 0.1366 - val_loss: 0.0429 - val_mae: 0.1634\n",
      "Epoch 800/1000\n",
      "5/5 [==============================] - 1s 152ms/step - loss: 0.0323 - mae: 0.1410 - val_loss: 0.0362 - val_mae: 0.1468\n",
      "Epoch 801/1000\n",
      "5/5 [==============================] - ETA: 0s - loss: 0.0317 - mae: 0.1388INFO:tensorflow:Assets written to: C:\\Users\\PARK\\Documents\\LAB\\RNN vs LSTM\\FInal Example\\wandb\\run-20221015_200538-5remc85i\\files\\model-best\\assets\n"
     ]
    },
    {
     "name": "stderr",
     "output_type": "stream",
     "text": [
      "\u001b[34m\u001b[1mwandb\u001b[0m: Adding directory to artifact (C:\\Users\\PARK\\Documents\\LAB\\RNN vs LSTM\\FInal Example\\wandb\\run-20221015_200538-5remc85i\\files\\model-best)... Done. 0.1s\n"
     ]
    },
    {
     "name": "stdout",
     "output_type": "stream",
     "text": [
      "5/5 [==============================] - 2s 523ms/step - loss: 0.0317 - mae: 0.1388 - val_loss: 0.0338 - val_mae: 0.1432\n",
      "Epoch 802/1000\n",
      "5/5 [==============================] - ETA: 0s - loss: 0.0311 - mae: 0.1389INFO:tensorflow:Assets written to: C:\\Users\\PARK\\Documents\\LAB\\RNN vs LSTM\\FInal Example\\wandb\\run-20221015_200538-5remc85i\\files\\model-best\\assets\n"
     ]
    },
    {
     "name": "stderr",
     "output_type": "stream",
     "text": [
      "\u001b[34m\u001b[1mwandb\u001b[0m: Adding directory to artifact (C:\\Users\\PARK\\Documents\\LAB\\RNN vs LSTM\\FInal Example\\wandb\\run-20221015_200538-5remc85i\\files\\model-best)... Done. 0.1s\n"
     ]
    },
    {
     "name": "stdout",
     "output_type": "stream",
     "text": [
      "5/5 [==============================] - 2s 550ms/step - loss: 0.0311 - mae: 0.1389 - val_loss: 0.0333 - val_mae: 0.1422\n",
      "Epoch 803/1000\n",
      "5/5 [==============================] - ETA: 0s - loss: 0.0300 - mae: 0.1348INFO:tensorflow:Assets written to: C:\\Users\\PARK\\Documents\\LAB\\RNN vs LSTM\\FInal Example\\wandb\\run-20221015_200538-5remc85i\\files\\model-best\\assets\n"
     ]
    },
    {
     "name": "stderr",
     "output_type": "stream",
     "text": [
      "\u001b[34m\u001b[1mwandb\u001b[0m: Adding directory to artifact (C:\\Users\\PARK\\Documents\\LAB\\RNN vs LSTM\\FInal Example\\wandb\\run-20221015_200538-5remc85i\\files\\model-best)... Done. 0.1s\n"
     ]
    },
    {
     "name": "stdout",
     "output_type": "stream",
     "text": [
      "5/5 [==============================] - 2s 547ms/step - loss: 0.0300 - mae: 0.1348 - val_loss: 0.0321 - val_mae: 0.1366\n",
      "Epoch 804/1000\n",
      "5/5 [==============================] - ETA: 0s - loss: 0.0312 - mae: 0.1380INFO:tensorflow:Assets written to: C:\\Users\\PARK\\Documents\\LAB\\RNN vs LSTM\\FInal Example\\wandb\\run-20221015_200538-5remc85i\\files\\model-best\\assets\n"
     ]
    },
    {
     "name": "stderr",
     "output_type": "stream",
     "text": [
      "\u001b[34m\u001b[1mwandb\u001b[0m: Adding directory to artifact (C:\\Users\\PARK\\Documents\\LAB\\RNN vs LSTM\\FInal Example\\wandb\\run-20221015_200538-5remc85i\\files\\model-best)... Done. 0.1s\n"
     ]
    },
    {
     "name": "stdout",
     "output_type": "stream",
     "text": [
      "5/5 [==============================] - 2s 529ms/step - loss: 0.0312 - mae: 0.1380 - val_loss: 0.0318 - val_mae: 0.1357\n",
      "Epoch 805/1000\n",
      "5/5 [==============================] - 1s 186ms/step - loss: 0.0296 - mae: 0.1329 - val_loss: 0.0360 - val_mae: 0.1489\n",
      "Epoch 806/1000\n",
      "5/5 [==============================] - 1s 145ms/step - loss: 0.0314 - mae: 0.1381 - val_loss: 0.0339 - val_mae: 0.1458\n",
      "Epoch 807/1000\n",
      "5/5 [==============================] - ETA: 0s - loss: 0.0297 - mae: 0.1337INFO:tensorflow:Assets written to: C:\\Users\\PARK\\Documents\\LAB\\RNN vs LSTM\\FInal Example\\wandb\\run-20221015_200538-5remc85i\\files\\model-best\\assets\n"
     ]
    },
    {
     "name": "stderr",
     "output_type": "stream",
     "text": [
      "\u001b[34m\u001b[1mwandb\u001b[0m: Adding directory to artifact (C:\\Users\\PARK\\Documents\\LAB\\RNN vs LSTM\\FInal Example\\wandb\\run-20221015_200538-5remc85i\\files\\model-best)... Done. 0.1s\n"
     ]
    },
    {
     "name": "stdout",
     "output_type": "stream",
     "text": [
      "5/5 [==============================] - 2s 493ms/step - loss: 0.0297 - mae: 0.1337 - val_loss: 0.0312 - val_mae: 0.1371\n",
      "Epoch 808/1000\n",
      "5/5 [==============================] - 1s 178ms/step - loss: 0.0277 - mae: 0.1297 - val_loss: 0.0344 - val_mae: 0.1442\n",
      "Epoch 809/1000\n",
      "5/5 [==============================] - 1s 152ms/step - loss: 0.0294 - mae: 0.1337 - val_loss: 0.0342 - val_mae: 0.1474\n",
      "Epoch 810/1000\n",
      "5/5 [==============================] - 1s 150ms/step - loss: 0.0291 - mae: 0.1331 - val_loss: 0.0332 - val_mae: 0.1460\n",
      "Epoch 811/1000\n",
      "5/5 [==============================] - 1s 151ms/step - loss: 0.0281 - mae: 0.1323 - val_loss: 0.0339 - val_mae: 0.1462\n",
      "Epoch 812/1000\n",
      "5/5 [==============================] - ETA: 0s - loss: 0.0298 - mae: 0.1369INFO:tensorflow:Assets written to: C:\\Users\\PARK\\Documents\\LAB\\RNN vs LSTM\\FInal Example\\wandb\\run-20221015_200538-5remc85i\\files\\model-best\\assets\n"
     ]
    },
    {
     "name": "stderr",
     "output_type": "stream",
     "text": [
      "\u001b[34m\u001b[1mwandb\u001b[0m: Adding directory to artifact (C:\\Users\\PARK\\Documents\\LAB\\RNN vs LSTM\\FInal Example\\wandb\\run-20221015_200538-5remc85i\\files\\model-best)... Done. 0.0s\n"
     ]
    },
    {
     "name": "stdout",
     "output_type": "stream",
     "text": [
      "5/5 [==============================] - 2s 490ms/step - loss: 0.0298 - mae: 0.1369 - val_loss: 0.0293 - val_mae: 0.1336\n",
      "Epoch 813/1000\n",
      "5/5 [==============================] - 1s 175ms/step - loss: 0.0284 - mae: 0.1324 - val_loss: 0.0303 - val_mae: 0.1358\n",
      "Epoch 814/1000\n",
      "5/5 [==============================] - ETA: 0s - loss: 0.0281 - mae: 0.1325INFO:tensorflow:Assets written to: C:\\Users\\PARK\\Documents\\LAB\\RNN vs LSTM\\FInal Example\\wandb\\run-20221015_200538-5remc85i\\files\\model-best\\assets\n"
     ]
    },
    {
     "name": "stderr",
     "output_type": "stream",
     "text": [
      "\u001b[34m\u001b[1mwandb\u001b[0m: Adding directory to artifact (C:\\Users\\PARK\\Documents\\LAB\\RNN vs LSTM\\FInal Example\\wandb\\run-20221015_200538-5remc85i\\files\\model-best)... Done. 0.1s\n"
     ]
    },
    {
     "name": "stdout",
     "output_type": "stream",
     "text": [
      "5/5 [==============================] - 2s 535ms/step - loss: 0.0281 - mae: 0.1325 - val_loss: 0.0290 - val_mae: 0.1310\n",
      "Epoch 815/1000\n",
      "5/5 [==============================] - 1s 199ms/step - loss: 0.0261 - mae: 0.1262 - val_loss: 0.0305 - val_mae: 0.1376\n",
      "Epoch 816/1000\n",
      "5/5 [==============================] - 1s 151ms/step - loss: 0.0265 - mae: 0.1280 - val_loss: 0.0319 - val_mae: 0.1392\n",
      "Epoch 817/1000\n",
      "4/5 [=======================>......] - ETA: 0s - loss: 0.0252 - mae: 0.1248INFO:tensorflow:Assets written to: C:\\Users\\PARK\\Documents\\LAB\\RNN vs LSTM\\FInal Example\\wandb\\run-20221015_200538-5remc85i\\files\\model-best\\assets\n"
     ]
    },
    {
     "name": "stderr",
     "output_type": "stream",
     "text": [
      "\u001b[34m\u001b[1mwandb\u001b[0m: Adding directory to artifact (C:\\Users\\PARK\\Documents\\LAB\\RNN vs LSTM\\FInal Example\\wandb\\run-20221015_200538-5remc85i\\files\\model-best)... Done. 0.1s\n"
     ]
    },
    {
     "name": "stdout",
     "output_type": "stream",
     "text": [
      "5/5 [==============================] - 2s 502ms/step - loss: 0.0258 - mae: 0.1260 - val_loss: 0.0272 - val_mae: 0.1289\n",
      "Epoch 818/1000\n",
      "5/5 [==============================] - 1s 176ms/step - loss: 0.0251 - mae: 0.1234 - val_loss: 0.0290 - val_mae: 0.1334\n",
      "Epoch 819/1000\n",
      "5/5 [==============================] - 1s 154ms/step - loss: 0.0249 - mae: 0.1225 - val_loss: 0.0330 - val_mae: 0.1409\n",
      "Epoch 820/1000\n",
      "5/5 [==============================] - 1s 150ms/step - loss: 0.0260 - mae: 0.1252 - val_loss: 0.0286 - val_mae: 0.1343\n",
      "Epoch 821/1000\n",
      "5/5 [==============================] - 1s 150ms/step - loss: 0.0245 - mae: 0.1226 - val_loss: 0.0318 - val_mae: 0.1403\n",
      "Epoch 822/1000\n",
      "5/5 [==============================] - ETA: 0s - loss: 0.0257 - mae: 0.1269INFO:tensorflow:Assets written to: C:\\Users\\PARK\\Documents\\LAB\\RNN vs LSTM\\FInal Example\\wandb\\run-20221015_200538-5remc85i\\files\\model-best\\assets\n"
     ]
    },
    {
     "name": "stderr",
     "output_type": "stream",
     "text": [
      "\u001b[34m\u001b[1mwandb\u001b[0m: Adding directory to artifact (C:\\Users\\PARK\\Documents\\LAB\\RNN vs LSTM\\FInal Example\\wandb\\run-20221015_200538-5remc85i\\files\\model-best)... Done. 0.1s\n"
     ]
    },
    {
     "name": "stdout",
     "output_type": "stream",
     "text": [
      "5/5 [==============================] - 2s 516ms/step - loss: 0.0257 - mae: 0.1269 - val_loss: 0.0270 - val_mae: 0.1317\n",
      "Epoch 823/1000\n",
      "5/5 [==============================] - ETA: 0s - loss: 0.0249 - mae: 0.1242INFO:tensorflow:Assets written to: C:\\Users\\PARK\\Documents\\LAB\\RNN vs LSTM\\FInal Example\\wandb\\run-20221015_200538-5remc85i\\files\\model-best\\assets\n"
     ]
    },
    {
     "name": "stderr",
     "output_type": "stream",
     "text": [
      "\u001b[34m\u001b[1mwandb\u001b[0m: Adding directory to artifact (C:\\Users\\PARK\\Documents\\LAB\\RNN vs LSTM\\FInal Example\\wandb\\run-20221015_200538-5remc85i\\files\\model-best)... Done. 0.1s\n"
     ]
    },
    {
     "name": "stdout",
     "output_type": "stream",
     "text": [
      "5/5 [==============================] - 2s 562ms/step - loss: 0.0249 - mae: 0.1242 - val_loss: 0.0252 - val_mae: 0.1249\n",
      "Epoch 824/1000\n",
      "5/5 [==============================] - ETA: 0s - loss: 0.0223 - mae: 0.1166INFO:tensorflow:Assets written to: C:\\Users\\PARK\\Documents\\LAB\\RNN vs LSTM\\FInal Example\\wandb\\run-20221015_200538-5remc85i\\files\\model-best\\assets\n"
     ]
    },
    {
     "name": "stderr",
     "output_type": "stream",
     "text": [
      "\u001b[34m\u001b[1mwandb\u001b[0m: Adding directory to artifact (C:\\Users\\PARK\\Documents\\LAB\\RNN vs LSTM\\FInal Example\\wandb\\run-20221015_200538-5remc85i\\files\\model-best)... Done. 0.0s\n"
     ]
    },
    {
     "name": "stdout",
     "output_type": "stream",
     "text": [
      "5/5 [==============================] - 2s 526ms/step - loss: 0.0223 - mae: 0.1166 - val_loss: 0.0242 - val_mae: 0.1231\n",
      "Epoch 825/1000\n",
      "5/5 [==============================] - ETA: 0s - loss: 0.0220 - mae: 0.1160INFO:tensorflow:Assets written to: C:\\Users\\PARK\\Documents\\LAB\\RNN vs LSTM\\FInal Example\\wandb\\run-20221015_200538-5remc85i\\files\\model-best\\assets\n"
     ]
    },
    {
     "name": "stderr",
     "output_type": "stream",
     "text": [
      "\u001b[34m\u001b[1mwandb\u001b[0m: Adding directory to artifact (C:\\Users\\PARK\\Documents\\LAB\\RNN vs LSTM\\FInal Example\\wandb\\run-20221015_200538-5remc85i\\files\\model-best)... Done. 0.1s\n"
     ]
    },
    {
     "name": "stdout",
     "output_type": "stream",
     "text": [
      "5/5 [==============================] - 3s 596ms/step - loss: 0.0220 - mae: 0.1160 - val_loss: 0.0234 - val_mae: 0.1209\n",
      "Epoch 826/1000\n",
      "5/5 [==============================] - 1s 172ms/step - loss: 0.0213 - mae: 0.1148 - val_loss: 0.0287 - val_mae: 0.1329\n",
      "Epoch 827/1000\n",
      "5/5 [==============================] - 1s 140ms/step - loss: 0.0235 - mae: 0.1203 - val_loss: 0.0248 - val_mae: 0.1257\n",
      "Epoch 828/1000\n",
      "5/5 [==============================] - 1s 148ms/step - loss: 0.0221 - mae: 0.1159 - val_loss: 0.0317 - val_mae: 0.1431\n",
      "Epoch 829/1000\n",
      "5/5 [==============================] - 1s 159ms/step - loss: 0.0259 - mae: 0.1264 - val_loss: 0.0278 - val_mae: 0.1323\n",
      "Epoch 830/1000\n",
      "5/5 [==============================] - 1s 160ms/step - loss: 0.0250 - mae: 0.1244 - val_loss: 0.0303 - val_mae: 0.1381\n",
      "Epoch 831/1000\n",
      "5/5 [==============================] - 1s 153ms/step - loss: 0.0253 - mae: 0.1260 - val_loss: 0.0387 - val_mae: 0.1528\n",
      "Epoch 832/1000\n",
      "5/5 [==============================] - 1s 146ms/step - loss: 0.0365 - mae: 0.1483 - val_loss: 0.0413 - val_mae: 0.1598\n",
      "Epoch 833/1000\n",
      "5/5 [==============================] - 1s 156ms/step - loss: 0.0370 - mae: 0.1488 - val_loss: 0.0396 - val_mae: 0.1603\n",
      "Epoch 834/1000\n",
      "5/5 [==============================] - 1s 147ms/step - loss: 0.0331 - mae: 0.1433 - val_loss: 0.0367 - val_mae: 0.1509\n",
      "Epoch 835/1000\n",
      "5/5 [==============================] - 1s 149ms/step - loss: 0.0345 - mae: 0.1453 - val_loss: 0.0376 - val_mae: 0.1531\n",
      "Epoch 836/1000\n",
      "5/5 [==============================] - 1s 151ms/step - loss: 0.0312 - mae: 0.1390 - val_loss: 0.0327 - val_mae: 0.1411\n",
      "Epoch 837/1000\n",
      "5/5 [==============================] - 1s 150ms/step - loss: 0.0293 - mae: 0.1354 - val_loss: 0.0317 - val_mae: 0.1406\n",
      "Epoch 838/1000\n",
      "5/5 [==============================] - 1s 150ms/step - loss: 0.0273 - mae: 0.1292 - val_loss: 0.0300 - val_mae: 0.1372\n",
      "Epoch 839/1000\n",
      "5/5 [==============================] - 1s 150ms/step - loss: 0.0246 - mae: 0.1232 - val_loss: 0.0276 - val_mae: 0.1322\n",
      "Epoch 840/1000\n",
      "5/5 [==============================] - 1s 151ms/step - loss: 0.0226 - mae: 0.1191 - val_loss: 0.0265 - val_mae: 0.1309\n",
      "Epoch 841/1000\n",
      "5/5 [==============================] - 1s 148ms/step - loss: 0.0223 - mae: 0.1177 - val_loss: 0.0282 - val_mae: 0.1336\n",
      "Epoch 842/1000\n",
      "5/5 [==============================] - 1s 151ms/step - loss: 0.0223 - mae: 0.1187 - val_loss: 0.0285 - val_mae: 0.1342\n",
      "Epoch 843/1000\n",
      "5/5 [==============================] - 1s 150ms/step - loss: 0.0221 - mae: 0.1191 - val_loss: 0.0244 - val_mae: 0.1239\n",
      "Epoch 844/1000\n",
      "5/5 [==============================] - 1s 150ms/step - loss: 0.0215 - mae: 0.1171 - val_loss: 0.0246 - val_mae: 0.1259\n",
      "Epoch 845/1000\n",
      "5/5 [==============================] - ETA: 0s - loss: 0.0201 - mae: 0.1127INFO:tensorflow:Assets written to: C:\\Users\\PARK\\Documents\\LAB\\RNN vs LSTM\\FInal Example\\wandb\\run-20221015_200538-5remc85i\\files\\model-best\\assets\n"
     ]
    },
    {
     "name": "stderr",
     "output_type": "stream",
     "text": [
      "\u001b[34m\u001b[1mwandb\u001b[0m: Adding directory to artifact (C:\\Users\\PARK\\Documents\\LAB\\RNN vs LSTM\\FInal Example\\wandb\\run-20221015_200538-5remc85i\\files\\model-best)... Done. 0.1s\n"
     ]
    },
    {
     "name": "stdout",
     "output_type": "stream",
     "text": [
      "5/5 [==============================] - 2s 539ms/step - loss: 0.0201 - mae: 0.1127 - val_loss: 0.0209 - val_mae: 0.1150\n",
      "Epoch 846/1000\n",
      "5/5 [==============================] - 1s 188ms/step - loss: 0.0193 - mae: 0.1098 - val_loss: 0.0255 - val_mae: 0.1297\n",
      "Epoch 847/1000\n",
      "5/5 [==============================] - 1s 148ms/step - loss: 0.0203 - mae: 0.1136 - val_loss: 0.0295 - val_mae: 0.1375\n",
      "Epoch 848/1000\n",
      "5/5 [==============================] - 1s 148ms/step - loss: 0.0217 - mae: 0.1182 - val_loss: 0.0269 - val_mae: 0.1291\n",
      "Epoch 849/1000\n",
      "5/5 [==============================] - 1s 150ms/step - loss: 0.0220 - mae: 0.1175 - val_loss: 0.0241 - val_mae: 0.1252\n",
      "Epoch 850/1000\n",
      "5/5 [==============================] - 1s 152ms/step - loss: 0.0209 - mae: 0.1160 - val_loss: 0.0288 - val_mae: 0.1340\n",
      "Epoch 851/1000\n",
      "5/5 [==============================] - 1s 150ms/step - loss: 0.0215 - mae: 0.1176 - val_loss: 0.0297 - val_mae: 0.1386\n",
      "Epoch 852/1000\n",
      "5/5 [==============================] - 1s 149ms/step - loss: 0.0258 - mae: 0.1273 - val_loss: 0.0404 - val_mae: 0.1607\n",
      "Epoch 853/1000\n",
      "5/5 [==============================] - 1s 150ms/step - loss: 0.0352 - mae: 0.1502 - val_loss: 0.0441 - val_mae: 0.1643\n",
      "Epoch 854/1000\n",
      "5/5 [==============================] - 1s 151ms/step - loss: 0.0356 - mae: 0.1485 - val_loss: 0.0298 - val_mae: 0.1380\n",
      "Epoch 855/1000\n",
      "5/5 [==============================] - 1s 150ms/step - loss: 0.0274 - mae: 0.1322 - val_loss: 0.0347 - val_mae: 0.1497\n",
      "Epoch 856/1000\n",
      "5/5 [==============================] - 1s 147ms/step - loss: 0.0249 - mae: 0.1263 - val_loss: 0.0277 - val_mae: 0.1330\n",
      "Epoch 857/1000\n",
      "5/5 [==============================] - 1s 151ms/step - loss: 0.0228 - mae: 0.1191 - val_loss: 0.0246 - val_mae: 0.1232\n",
      "Epoch 858/1000\n",
      "5/5 [==============================] - 1s 151ms/step - loss: 0.0225 - mae: 0.1171 - val_loss: 0.0387 - val_mae: 0.1542\n",
      "Epoch 859/1000\n",
      "5/5 [==============================] - 1s 146ms/step - loss: 0.0296 - mae: 0.1361 - val_loss: 0.0335 - val_mae: 0.1439\n",
      "Epoch 860/1000\n",
      "5/5 [==============================] - 1s 152ms/step - loss: 0.0290 - mae: 0.1352 - val_loss: 0.0285 - val_mae: 0.1367\n",
      "Epoch 861/1000\n",
      "5/5 [==============================] - 1s 151ms/step - loss: 0.0263 - mae: 0.1284 - val_loss: 0.0293 - val_mae: 0.1361\n",
      "Epoch 862/1000\n",
      "5/5 [==============================] - 1s 149ms/step - loss: 0.0240 - mae: 0.1236 - val_loss: 0.0278 - val_mae: 0.1326\n",
      "Epoch 863/1000\n",
      "5/5 [==============================] - 1s 150ms/step - loss: 0.0237 - mae: 0.1233 - val_loss: 0.0293 - val_mae: 0.1359\n",
      "Epoch 864/1000\n",
      "5/5 [==============================] - 1s 151ms/step - loss: 0.0230 - mae: 0.1228 - val_loss: 0.0241 - val_mae: 0.1247\n",
      "Epoch 865/1000\n",
      "5/5 [==============================] - 1s 152ms/step - loss: 0.0223 - mae: 0.1187 - val_loss: 0.0210 - val_mae: 0.1159\n",
      "Epoch 866/1000\n",
      "5/5 [==============================] - 1s 152ms/step - loss: 0.0186 - mae: 0.1084 - val_loss: 0.0225 - val_mae: 0.1197\n",
      "Epoch 867/1000\n",
      "5/5 [==============================] - 1s 151ms/step - loss: 0.0176 - mae: 0.1061 - val_loss: 0.0232 - val_mae: 0.1217\n",
      "Epoch 868/1000\n",
      "5/5 [==============================] - ETA: 0s - loss: 0.0180 - mae: 0.1062INFO:tensorflow:Assets written to: C:\\Users\\PARK\\Documents\\LAB\\RNN vs LSTM\\FInal Example\\wandb\\run-20221015_200538-5remc85i\\files\\model-best\\assets\n"
     ]
    },
    {
     "name": "stderr",
     "output_type": "stream",
     "text": [
      "\u001b[34m\u001b[1mwandb\u001b[0m: Adding directory to artifact (C:\\Users\\PARK\\Documents\\LAB\\RNN vs LSTM\\FInal Example\\wandb\\run-20221015_200538-5remc85i\\files\\model-best)... Done. 0.0s\n"
     ]
    },
    {
     "name": "stdout",
     "output_type": "stream",
     "text": [
      "5/5 [==============================] - 2s 495ms/step - loss: 0.0180 - mae: 0.1062 - val_loss: 0.0208 - val_mae: 0.1145\n",
      "Epoch 869/1000\n",
      "5/5 [==============================] - ETA: 0s - loss: 0.0166 - mae: 0.1023INFO:tensorflow:Assets written to: C:\\Users\\PARK\\Documents\\LAB\\RNN vs LSTM\\FInal Example\\wandb\\run-20221015_200538-5remc85i\\files\\model-best\\assets\n"
     ]
    },
    {
     "name": "stderr",
     "output_type": "stream",
     "text": [
      "\u001b[34m\u001b[1mwandb\u001b[0m: Adding directory to artifact (C:\\Users\\PARK\\Documents\\LAB\\RNN vs LSTM\\FInal Example\\wandb\\run-20221015_200538-5remc85i\\files\\model-best)... Done. 0.1s\n"
     ]
    },
    {
     "name": "stdout",
     "output_type": "stream",
     "text": [
      "5/5 [==============================] - 2s 560ms/step - loss: 0.0166 - mae: 0.1023 - val_loss: 0.0197 - val_mae: 0.1129\n",
      "Epoch 870/1000\n",
      "5/5 [==============================] - ETA: 0s - loss: 0.0147 - mae: 0.0965INFO:tensorflow:Assets written to: C:\\Users\\PARK\\Documents\\LAB\\RNN vs LSTM\\FInal Example\\wandb\\run-20221015_200538-5remc85i\\files\\model-best\\assets\n"
     ]
    },
    {
     "name": "stderr",
     "output_type": "stream",
     "text": [
      "\u001b[34m\u001b[1mwandb\u001b[0m: Adding directory to artifact (C:\\Users\\PARK\\Documents\\LAB\\RNN vs LSTM\\FInal Example\\wandb\\run-20221015_200538-5remc85i\\files\\model-best)... Done. 0.0s\n"
     ]
    },
    {
     "name": "stdout",
     "output_type": "stream",
     "text": [
      "5/5 [==============================] - 2s 539ms/step - loss: 0.0147 - mae: 0.0965 - val_loss: 0.0188 - val_mae: 0.1102\n",
      "Epoch 871/1000\n",
      "5/5 [==============================] - ETA: 0s - loss: 0.0142 - mae: 0.0947INFO:tensorflow:Assets written to: C:\\Users\\PARK\\Documents\\LAB\\RNN vs LSTM\\FInal Example\\wandb\\run-20221015_200538-5remc85i\\files\\model-best\\assets\n"
     ]
    },
    {
     "name": "stderr",
     "output_type": "stream",
     "text": [
      "\u001b[34m\u001b[1mwandb\u001b[0m: Adding directory to artifact (C:\\Users\\PARK\\Documents\\LAB\\RNN vs LSTM\\FInal Example\\wandb\\run-20221015_200538-5remc85i\\files\\model-best)... Done. 0.1s\n"
     ]
    },
    {
     "name": "stdout",
     "output_type": "stream",
     "text": [
      "5/5 [==============================] - 2s 545ms/step - loss: 0.0142 - mae: 0.0947 - val_loss: 0.0186 - val_mae: 0.1099\n",
      "Epoch 872/1000\n",
      "5/5 [==============================] - 1s 156ms/step - loss: 0.0141 - mae: 0.0938 - val_loss: 0.0214 - val_mae: 0.1183\n",
      "Epoch 873/1000\n",
      "5/5 [==============================] - ETA: 0s - loss: 0.0150 - mae: 0.0973INFO:tensorflow:Assets written to: C:\\Users\\PARK\\Documents\\LAB\\RNN vs LSTM\\FInal Example\\wandb\\run-20221015_200538-5remc85i\\files\\model-best\\assets\n"
     ]
    },
    {
     "name": "stderr",
     "output_type": "stream",
     "text": [
      "\u001b[34m\u001b[1mwandb\u001b[0m: Adding directory to artifact (C:\\Users\\PARK\\Documents\\LAB\\RNN vs LSTM\\FInal Example\\wandb\\run-20221015_200538-5remc85i\\files\\model-best)... Done. 0.0s\n"
     ]
    },
    {
     "name": "stdout",
     "output_type": "stream",
     "text": [
      "5/5 [==============================] - 2s 521ms/step - loss: 0.0150 - mae: 0.0973 - val_loss: 0.0168 - val_mae: 0.1034\n",
      "Epoch 874/1000\n",
      "5/5 [==============================] - 1s 180ms/step - loss: 0.0151 - mae: 0.0977 - val_loss: 0.0175 - val_mae: 0.1061\n",
      "Epoch 875/1000\n",
      "5/5 [==============================] - 1s 142ms/step - loss: 0.0149 - mae: 0.0970 - val_loss: 0.0200 - val_mae: 0.1138\n",
      "Epoch 876/1000\n",
      "5/5 [==============================] - 1s 142ms/step - loss: 0.0146 - mae: 0.0960 - val_loss: 0.0194 - val_mae: 0.1102\n",
      "Epoch 877/1000\n",
      "5/5 [==============================] - 1s 149ms/step - loss: 0.0142 - mae: 0.0952 - val_loss: 0.0172 - val_mae: 0.1020\n",
      "Epoch 878/1000\n",
      "5/5 [==============================] - 1s 151ms/step - loss: 0.0131 - mae: 0.0917 - val_loss: 0.0181 - val_mae: 0.1075\n",
      "Epoch 879/1000\n",
      "4/5 [=======================>......] - ETA: 0s - loss: 0.0141 - mae: 0.0945INFO:tensorflow:Assets written to: C:\\Users\\PARK\\Documents\\LAB\\RNN vs LSTM\\FInal Example\\wandb\\run-20221015_200538-5remc85i\\files\\model-best\\assets\n"
     ]
    },
    {
     "name": "stderr",
     "output_type": "stream",
     "text": [
      "\u001b[34m\u001b[1mwandb\u001b[0m: Adding directory to artifact (C:\\Users\\PARK\\Documents\\LAB\\RNN vs LSTM\\FInal Example\\wandb\\run-20221015_200538-5remc85i\\files\\model-best)... Done. 0.0s\n"
     ]
    },
    {
     "name": "stdout",
     "output_type": "stream",
     "text": [
      "5/5 [==============================] - 2s 503ms/step - loss: 0.0142 - mae: 0.0948 - val_loss: 0.0158 - val_mae: 0.0981\n",
      "Epoch 880/1000\n",
      "5/5 [==============================] - 1s 182ms/step - loss: 0.0134 - mae: 0.0918 - val_loss: 0.0173 - val_mae: 0.1040\n",
      "Epoch 881/1000\n",
      "5/5 [==============================] - ETA: 0s - loss: 0.0138 - mae: 0.0934INFO:tensorflow:Assets written to: C:\\Users\\PARK\\Documents\\LAB\\RNN vs LSTM\\FInal Example\\wandb\\run-20221015_200538-5remc85i\\files\\model-best\\assets\n"
     ]
    },
    {
     "name": "stderr",
     "output_type": "stream",
     "text": [
      "\u001b[34m\u001b[1mwandb\u001b[0m: Adding directory to artifact (C:\\Users\\PARK\\Documents\\LAB\\RNN vs LSTM\\FInal Example\\wandb\\run-20221015_200538-5remc85i\\files\\model-best)... Done. 0.1s\n"
     ]
    },
    {
     "name": "stdout",
     "output_type": "stream",
     "text": [
      "5/5 [==============================] - 2s 507ms/step - loss: 0.0138 - mae: 0.0934 - val_loss: 0.0151 - val_mae: 0.0962\n",
      "Epoch 882/1000\n",
      "5/5 [==============================] - 1s 186ms/step - loss: 0.0133 - mae: 0.0917 - val_loss: 0.0159 - val_mae: 0.0991\n",
      "Epoch 883/1000\n",
      "5/5 [==============================] - 1s 148ms/step - loss: 0.0134 - mae: 0.0916 - val_loss: 0.0180 - val_mae: 0.1062\n",
      "Epoch 884/1000\n",
      "5/5 [==============================] - 1s 148ms/step - loss: 0.0147 - mae: 0.0959 - val_loss: 0.0195 - val_mae: 0.1112\n",
      "Epoch 885/1000\n",
      "5/5 [==============================] - 1s 152ms/step - loss: 0.0157 - mae: 0.1004 - val_loss: 0.0202 - val_mae: 0.1087\n",
      "Epoch 886/1000\n",
      "5/5 [==============================] - 1s 152ms/step - loss: 0.0142 - mae: 0.0940 - val_loss: 0.0200 - val_mae: 0.1106\n",
      "Epoch 887/1000\n",
      "5/5 [==============================] - 1s 149ms/step - loss: 0.0143 - mae: 0.0946 - val_loss: 0.0169 - val_mae: 0.1032\n",
      "Epoch 888/1000\n",
      "5/5 [==============================] - 1s 151ms/step - loss: 0.0129 - mae: 0.0921 - val_loss: 0.0172 - val_mae: 0.1051\n",
      "Epoch 889/1000\n",
      "5/5 [==============================] - 1s 150ms/step - loss: 0.0130 - mae: 0.0908 - val_loss: 0.0184 - val_mae: 0.1063\n",
      "Epoch 890/1000\n",
      "5/5 [==============================] - 1s 150ms/step - loss: 0.0145 - mae: 0.0957 - val_loss: 0.0188 - val_mae: 0.1085\n",
      "Epoch 891/1000\n",
      "5/5 [==============================] - 1s 148ms/step - loss: 0.0162 - mae: 0.1023 - val_loss: 0.0184 - val_mae: 0.1080\n",
      "Epoch 892/1000\n",
      "5/5 [==============================] - 1s 153ms/step - loss: 0.0151 - mae: 0.0983 - val_loss: 0.0174 - val_mae: 0.1043\n",
      "Epoch 893/1000\n",
      "5/5 [==============================] - 1s 150ms/step - loss: 0.0198 - mae: 0.1084 - val_loss: 0.0214 - val_mae: 0.1173\n",
      "Epoch 894/1000\n",
      "5/5 [==============================] - 1s 149ms/step - loss: 0.0198 - mae: 0.1111 - val_loss: 0.0222 - val_mae: 0.1175\n",
      "Epoch 895/1000\n",
      "5/5 [==============================] - 1s 150ms/step - loss: 0.0178 - mae: 0.1071 - val_loss: 0.0192 - val_mae: 0.1108\n",
      "Epoch 896/1000\n",
      "5/5 [==============================] - 1s 152ms/step - loss: 0.0151 - mae: 0.0983 - val_loss: 0.0190 - val_mae: 0.1112\n",
      "Epoch 897/1000\n",
      "5/5 [==============================] - 1s 149ms/step - loss: 0.0153 - mae: 0.0994 - val_loss: 0.0174 - val_mae: 0.1056\n",
      "Epoch 898/1000\n",
      "5/5 [==============================] - 1s 149ms/step - loss: 0.0151 - mae: 0.0974 - val_loss: 0.0183 - val_mae: 0.1086\n",
      "Epoch 899/1000\n",
      "5/5 [==============================] - 1s 150ms/step - loss: 0.0144 - mae: 0.0966 - val_loss: 0.0217 - val_mae: 0.1138\n",
      "Epoch 900/1000\n",
      "5/5 [==============================] - 1s 150ms/step - loss: 0.0167 - mae: 0.1015 - val_loss: 0.0225 - val_mae: 0.1185\n",
      "Epoch 901/1000\n",
      "5/5 [==============================] - 1s 149ms/step - loss: 0.0176 - mae: 0.1054 - val_loss: 0.0221 - val_mae: 0.1191\n",
      "Epoch 902/1000\n",
      "5/5 [==============================] - 1s 150ms/step - loss: 0.0167 - mae: 0.1042 - val_loss: 0.0194 - val_mae: 0.1102\n",
      "Epoch 903/1000\n",
      "5/5 [==============================] - 1s 150ms/step - loss: 0.0188 - mae: 0.1075 - val_loss: 0.0325 - val_mae: 0.1422\n",
      "Epoch 904/1000\n",
      "5/5 [==============================] - 1s 148ms/step - loss: 0.0325 - mae: 0.1394 - val_loss: 0.0489 - val_mae: 0.1776\n",
      "Epoch 905/1000\n",
      "5/5 [==============================] - 1s 148ms/step - loss: 0.0370 - mae: 0.1503 - val_loss: 0.0341 - val_mae: 0.1464\n",
      "Epoch 906/1000\n",
      "5/5 [==============================] - 1s 149ms/step - loss: 0.0277 - mae: 0.1307 - val_loss: 0.0288 - val_mae: 0.1353\n",
      "Epoch 907/1000\n",
      "5/5 [==============================] - 1s 152ms/step - loss: 0.0234 - mae: 0.1208 - val_loss: 0.0334 - val_mae: 0.1485\n",
      "Epoch 908/1000\n",
      "5/5 [==============================] - 1s 150ms/step - loss: 0.0254 - mae: 0.1273 - val_loss: 0.0275 - val_mae: 0.1319\n",
      "Epoch 909/1000\n",
      "5/5 [==============================] - 1s 149ms/step - loss: 0.0203 - mae: 0.1140 - val_loss: 0.0201 - val_mae: 0.1133\n",
      "Epoch 910/1000\n",
      "5/5 [==============================] - 1s 162ms/step - loss: 0.0174 - mae: 0.1053 - val_loss: 0.0232 - val_mae: 0.1222\n",
      "Epoch 911/1000\n",
      "5/5 [==============================] - 1s 158ms/step - loss: 0.0177 - mae: 0.1065 - val_loss: 0.0186 - val_mae: 0.1069\n",
      "Epoch 912/1000\n",
      "5/5 [==============================] - 1s 152ms/step - loss: 0.0152 - mae: 0.0971 - val_loss: 0.0177 - val_mae: 0.1051\n",
      "Epoch 913/1000\n",
      "5/5 [==============================] - 1s 148ms/step - loss: 0.0147 - mae: 0.0954 - val_loss: 0.0186 - val_mae: 0.1102\n",
      "Epoch 914/1000\n",
      "5/5 [==============================] - 1s 151ms/step - loss: 0.0146 - mae: 0.0968 - val_loss: 0.0178 - val_mae: 0.1064\n",
      "Epoch 915/1000\n",
      "5/5 [==============================] - 1s 151ms/step - loss: 0.0134 - mae: 0.0913 - val_loss: 0.0170 - val_mae: 0.1043\n",
      "Epoch 916/1000\n",
      "5/5 [==============================] - 1s 151ms/step - loss: 0.0130 - mae: 0.0907 - val_loss: 0.0197 - val_mae: 0.1127\n",
      "Epoch 917/1000\n",
      "5/5 [==============================] - 1s 152ms/step - loss: 0.0142 - mae: 0.0947 - val_loss: 0.0181 - val_mae: 0.1065\n",
      "Epoch 918/1000\n",
      "5/5 [==============================] - 1s 155ms/step - loss: 0.0171 - mae: 0.1024 - val_loss: 0.0185 - val_mae: 0.1073\n",
      "Epoch 919/1000\n",
      "5/5 [==============================] - 1s 150ms/step - loss: 0.0156 - mae: 0.0998 - val_loss: 0.0153 - val_mae: 0.0988\n",
      "Epoch 920/1000\n",
      "4/5 [=======================>......] - ETA: 0s - loss: 0.0142 - mae: 0.0953INFO:tensorflow:Assets written to: C:\\Users\\PARK\\Documents\\LAB\\RNN vs LSTM\\FInal Example\\wandb\\run-20221015_200538-5remc85i\\files\\model-best\\assets\n"
     ]
    },
    {
     "name": "stderr",
     "output_type": "stream",
     "text": [
      "\u001b[34m\u001b[1mwandb\u001b[0m: Adding directory to artifact (C:\\Users\\PARK\\Documents\\LAB\\RNN vs LSTM\\FInal Example\\wandb\\run-20221015_200538-5remc85i\\files\\model-best)... Done. 0.1s\n"
     ]
    },
    {
     "name": "stdout",
     "output_type": "stream",
     "text": [
      "5/5 [==============================] - 2s 536ms/step - loss: 0.0142 - mae: 0.0949 - val_loss: 0.0140 - val_mae: 0.0945\n",
      "Epoch 921/1000\n",
      "5/5 [==============================] - 1s 182ms/step - loss: 0.0116 - mae: 0.0864 - val_loss: 0.0194 - val_mae: 0.1091\n",
      "Epoch 922/1000\n",
      "5/5 [==============================] - 1s 150ms/step - loss: 0.0128 - mae: 0.0912 - val_loss: 0.0149 - val_mae: 0.0973\n",
      "Epoch 923/1000\n",
      "5/5 [==============================] - 1s 148ms/step - loss: 0.0120 - mae: 0.0875 - val_loss: 0.0175 - val_mae: 0.1060\n",
      "Epoch 924/1000\n",
      "5/5 [==============================] - 1s 149ms/step - loss: 0.0133 - mae: 0.0920 - val_loss: 0.0169 - val_mae: 0.1035\n",
      "Epoch 925/1000\n",
      "5/5 [==============================] - ETA: 0s - loss: 0.0118 - mae: 0.0869INFO:tensorflow:Assets written to: C:\\Users\\PARK\\Documents\\LAB\\RNN vs LSTM\\FInal Example\\wandb\\run-20221015_200538-5remc85i\\files\\model-best\\assets\n"
     ]
    },
    {
     "name": "stderr",
     "output_type": "stream",
     "text": [
      "\u001b[34m\u001b[1mwandb\u001b[0m: Adding directory to artifact (C:\\Users\\PARK\\Documents\\LAB\\RNN vs LSTM\\FInal Example\\wandb\\run-20221015_200538-5remc85i\\files\\model-best)... Done. 0.1s\n"
     ]
    },
    {
     "name": "stdout",
     "output_type": "stream",
     "text": [
      "5/5 [==============================] - 2s 502ms/step - loss: 0.0118 - mae: 0.0869 - val_loss: 0.0139 - val_mae: 0.0925\n",
      "Epoch 926/1000\n",
      "5/5 [==============================] - 1s 177ms/step - loss: 0.0109 - mae: 0.0832 - val_loss: 0.0151 - val_mae: 0.0979\n",
      "Epoch 927/1000\n",
      "5/5 [==============================] - 1s 153ms/step - loss: 0.0125 - mae: 0.0891 - val_loss: 0.0147 - val_mae: 0.0956\n",
      "Epoch 928/1000\n",
      "5/5 [==============================] - 1s 153ms/step - loss: 0.0118 - mae: 0.0874 - val_loss: 0.0147 - val_mae: 0.0951\n",
      "Epoch 929/1000\n",
      "5/5 [==============================] - 1s 151ms/step - loss: 0.0160 - mae: 0.0956 - val_loss: 0.0304 - val_mae: 0.1380\n",
      "Epoch 930/1000\n",
      "5/5 [==============================] - 1s 152ms/step - loss: 0.0219 - mae: 0.1172 - val_loss: 0.0225 - val_mae: 0.1189\n",
      "Epoch 931/1000\n",
      "5/5 [==============================] - 1s 150ms/step - loss: 0.0474 - mae: 0.1689 - val_loss: 0.0873 - val_mae: 0.2340\n",
      "Epoch 932/1000\n",
      "5/5 [==============================] - 1s 148ms/step - loss: 0.0685 - mae: 0.2068 - val_loss: 0.0666 - val_mae: 0.2121\n",
      "Epoch 933/1000\n",
      "5/5 [==============================] - 1s 149ms/step - loss: 0.0595 - mae: 0.1977 - val_loss: 0.2761 - val_mae: 0.2809\n",
      "Epoch 934/1000\n",
      "5/5 [==============================] - 1s 151ms/step - loss: 0.1020 - mae: 0.2015 - val_loss: 0.0943 - val_mae: 0.2312\n",
      "Epoch 935/1000\n",
      "5/5 [==============================] - 1s 150ms/step - loss: 0.0722 - mae: 0.2045 - val_loss: 0.0615 - val_mae: 0.1913\n",
      "Epoch 936/1000\n",
      "5/5 [==============================] - 1s 150ms/step - loss: 0.0683 - mae: 0.1974 - val_loss: 0.0789 - val_mae: 0.2125\n",
      "Epoch 937/1000\n",
      "5/5 [==============================] - 1s 158ms/step - loss: 0.3798 - mae: 0.4682 - val_loss: 0.2625 - val_mae: 0.4046\n",
      "Epoch 938/1000\n",
      "5/5 [==============================] - 1s 154ms/step - loss: 0.2343 - mae: 0.3851 - val_loss: 0.1483 - val_mae: 0.3031\n",
      "Epoch 939/1000\n",
      "5/5 [==============================] - 1s 152ms/step - loss: 0.1425 - mae: 0.2975 - val_loss: 0.1182 - val_mae: 0.2724\n",
      "Epoch 940/1000\n",
      "5/5 [==============================] - 1s 150ms/step - loss: 0.1104 - mae: 0.2633 - val_loss: 0.1038 - val_mae: 0.2612\n",
      "Epoch 941/1000\n",
      "5/5 [==============================] - 1s 150ms/step - loss: 0.0943 - mae: 0.2435 - val_loss: 0.1137 - val_mae: 0.2737\n",
      "Epoch 942/1000\n",
      "5/5 [==============================] - 1s 150ms/step - loss: 0.1050 - mae: 0.2574 - val_loss: 0.1205 - val_mae: 0.2793\n",
      "Epoch 943/1000\n",
      "5/5 [==============================] - 1s 149ms/step - loss: 0.1060 - mae: 0.2572 - val_loss: 0.0950 - val_mae: 0.2495\n",
      "Epoch 944/1000\n",
      "5/5 [==============================] - 1s 150ms/step - loss: 0.0982 - mae: 0.2500 - val_loss: 0.1076 - val_mae: 0.2606\n",
      "Epoch 945/1000\n",
      "5/5 [==============================] - 1s 151ms/step - loss: 0.1010 - mae: 0.2528 - val_loss: 0.0960 - val_mae: 0.2468\n",
      "Epoch 946/1000\n",
      "5/5 [==============================] - 1s 149ms/step - loss: 0.0839 - mae: 0.2298 - val_loss: 0.0830 - val_mae: 0.2286\n",
      "Epoch 947/1000\n",
      "5/5 [==============================] - 1s 150ms/step - loss: 0.0881 - mae: 0.2353 - val_loss: 0.1097 - val_mae: 0.2684\n",
      "Epoch 948/1000\n",
      "5/5 [==============================] - 1s 151ms/step - loss: 0.0935 - mae: 0.2433 - val_loss: 0.1051 - val_mae: 0.2638\n",
      "Epoch 949/1000\n",
      "5/5 [==============================] - 1s 145ms/step - loss: 0.0892 - mae: 0.2365 - val_loss: 0.0817 - val_mae: 0.2302\n",
      "Epoch 950/1000\n",
      "5/5 [==============================] - 1s 148ms/step - loss: 0.0937 - mae: 0.2435 - val_loss: 0.0823 - val_mae: 0.2252\n",
      "Epoch 951/1000\n",
      "5/5 [==============================] - 1s 149ms/step - loss: 0.0839 - mae: 0.2307 - val_loss: 0.0773 - val_mae: 0.2214\n",
      "Epoch 952/1000\n",
      "5/5 [==============================] - 1s 149ms/step - loss: 0.0765 - mae: 0.2180 - val_loss: 0.0755 - val_mae: 0.2151\n",
      "Epoch 953/1000\n",
      "5/5 [==============================] - 1s 148ms/step - loss: 0.0729 - mae: 0.2133 - val_loss: 0.0696 - val_mae: 0.2094\n",
      "Epoch 954/1000\n",
      "5/5 [==============================] - 1s 149ms/step - loss: 0.0768 - mae: 0.2164 - val_loss: 0.0765 - val_mae: 0.2213\n",
      "Epoch 955/1000\n",
      "5/5 [==============================] - 1s 151ms/step - loss: 0.0743 - mae: 0.2149 - val_loss: 0.0797 - val_mae: 0.2222\n",
      "Epoch 956/1000\n",
      "5/5 [==============================] - 1s 151ms/step - loss: 0.0803 - mae: 0.2231 - val_loss: 0.0918 - val_mae: 0.2430\n",
      "Epoch 957/1000\n",
      "5/5 [==============================] - 1s 149ms/step - loss: 0.0833 - mae: 0.2288 - val_loss: 0.0770 - val_mae: 0.2183\n",
      "Epoch 958/1000\n",
      "5/5 [==============================] - 1s 150ms/step - loss: 0.0802 - mae: 0.2229 - val_loss: 0.0844 - val_mae: 0.2209\n",
      "Epoch 959/1000\n",
      "5/5 [==============================] - 1s 150ms/step - loss: 0.0792 - mae: 0.2201 - val_loss: 0.0913 - val_mae: 0.2377\n",
      "Epoch 960/1000\n",
      "5/5 [==============================] - 1s 149ms/step - loss: 0.0782 - mae: 0.2183 - val_loss: 0.0776 - val_mae: 0.2264\n",
      "Epoch 961/1000\n",
      "5/5 [==============================] - 1s 148ms/step - loss: 0.0750 - mae: 0.2179 - val_loss: 0.0810 - val_mae: 0.2320\n",
      "Epoch 962/1000\n",
      "5/5 [==============================] - 1s 153ms/step - loss: 0.0722 - mae: 0.2122 - val_loss: 0.0789 - val_mae: 0.2222\n",
      "Epoch 963/1000\n",
      "5/5 [==============================] - 1s 158ms/step - loss: 0.0789 - mae: 0.2216 - val_loss: 0.0799 - val_mae: 0.2209\n",
      "Epoch 964/1000\n",
      "5/5 [==============================] - 1s 146ms/step - loss: 0.0725 - mae: 0.2123 - val_loss: 0.0765 - val_mae: 0.2171\n",
      "Epoch 965/1000\n",
      "5/5 [==============================] - 1s 149ms/step - loss: 0.0761 - mae: 0.2149 - val_loss: 0.0774 - val_mae: 0.2216\n",
      "Epoch 966/1000\n",
      "5/5 [==============================] - 1s 152ms/step - loss: 0.0703 - mae: 0.2094 - val_loss: 0.0772 - val_mae: 0.2206\n",
      "Epoch 967/1000\n",
      "5/5 [==============================] - 1s 148ms/step - loss: 0.0678 - mae: 0.2034 - val_loss: 0.0830 - val_mae: 0.2286\n",
      "Epoch 968/1000\n",
      "5/5 [==============================] - 1s 148ms/step - loss: 0.0721 - mae: 0.2127 - val_loss: 0.0729 - val_mae: 0.2111\n",
      "Epoch 969/1000\n",
      "5/5 [==============================] - 1s 151ms/step - loss: 0.0683 - mae: 0.2057 - val_loss: 0.0722 - val_mae: 0.2113\n",
      "Epoch 970/1000\n",
      "5/5 [==============================] - 1s 150ms/step - loss: 0.0670 - mae: 0.2028 - val_loss: 0.0699 - val_mae: 0.2094\n",
      "Epoch 971/1000\n",
      "5/5 [==============================] - 1s 149ms/step - loss: 0.0655 - mae: 0.2029 - val_loss: 0.0657 - val_mae: 0.2006\n",
      "Epoch 972/1000\n",
      "5/5 [==============================] - 1s 150ms/step - loss: 0.0615 - mae: 0.1939 - val_loss: 0.0656 - val_mae: 0.2014\n",
      "Epoch 973/1000\n",
      "5/5 [==============================] - 1s 153ms/step - loss: 0.0613 - mae: 0.1935 - val_loss: 0.0728 - val_mae: 0.2191\n",
      "Epoch 974/1000\n",
      "5/5 [==============================] - 1s 153ms/step - loss: 0.0646 - mae: 0.1987 - val_loss: 0.0701 - val_mae: 0.2053\n",
      "Epoch 975/1000\n",
      "5/5 [==============================] - 1s 151ms/step - loss: 0.0681 - mae: 0.2037 - val_loss: 0.0693 - val_mae: 0.2086\n",
      "Epoch 976/1000\n",
      "5/5 [==============================] - 1s 151ms/step - loss: 0.0695 - mae: 0.2087 - val_loss: 0.0786 - val_mae: 0.2237\n",
      "Epoch 977/1000\n",
      "5/5 [==============================] - 1s 152ms/step - loss: 0.0706 - mae: 0.2100 - val_loss: 0.0783 - val_mae: 0.2213\n",
      "Epoch 978/1000\n",
      "5/5 [==============================] - 1s 151ms/step - loss: 0.0789 - mae: 0.2230 - val_loss: 0.0980 - val_mae: 0.2491\n",
      "Epoch 979/1000\n",
      "5/5 [==============================] - 1s 152ms/step - loss: 0.0771 - mae: 0.2159 - val_loss: 0.0656 - val_mae: 0.2010\n",
      "Epoch 980/1000\n",
      "5/5 [==============================] - 1s 152ms/step - loss: 0.0668 - mae: 0.2013 - val_loss: 0.0688 - val_mae: 0.2059\n",
      "Epoch 981/1000\n",
      "5/5 [==============================] - 1s 151ms/step - loss: 0.0620 - mae: 0.1933 - val_loss: 0.0658 - val_mae: 0.2017\n",
      "Epoch 982/1000\n",
      "5/5 [==============================] - 1s 151ms/step - loss: 0.0624 - mae: 0.1961 - val_loss: 0.0652 - val_mae: 0.2050\n",
      "Epoch 983/1000\n",
      "5/5 [==============================] - 1s 153ms/step - loss: 0.0607 - mae: 0.1925 - val_loss: 0.0718 - val_mae: 0.2145\n",
      "Epoch 984/1000\n",
      "5/5 [==============================] - 1s 151ms/step - loss: 0.0686 - mae: 0.2076 - val_loss: 0.0814 - val_mae: 0.2216\n",
      "Epoch 985/1000\n",
      "5/5 [==============================] - 1s 162ms/step - loss: 0.0699 - mae: 0.2077 - val_loss: 0.0727 - val_mae: 0.2100\n",
      "Epoch 986/1000\n"
     ]
    },
    {
     "name": "stdout",
     "output_type": "stream",
     "text": [
      "5/5 [==============================] - 1s 160ms/step - loss: 0.0711 - mae: 0.2101 - val_loss: 0.0681 - val_mae: 0.2072\n",
      "Epoch 987/1000\n",
      "5/5 [==============================] - 1s 157ms/step - loss: 0.0707 - mae: 0.2070 - val_loss: 0.0692 - val_mae: 0.2086\n",
      "Epoch 988/1000\n",
      "5/5 [==============================] - 1s 152ms/step - loss: 0.0676 - mae: 0.2031 - val_loss: 0.0729 - val_mae: 0.2103\n",
      "Epoch 989/1000\n",
      "5/5 [==============================] - 1s 148ms/step - loss: 0.0663 - mae: 0.2024 - val_loss: 0.0694 - val_mae: 0.2080\n",
      "Epoch 990/1000\n",
      "5/5 [==============================] - 1s 150ms/step - loss: 0.0626 - mae: 0.1954 - val_loss: 0.0820 - val_mae: 0.2284\n",
      "Epoch 991/1000\n",
      "5/5 [==============================] - 1s 152ms/step - loss: 0.0669 - mae: 0.2035 - val_loss: 0.0729 - val_mae: 0.2123\n",
      "Epoch 992/1000\n",
      "5/5 [==============================] - 1s 148ms/step - loss: 0.0651 - mae: 0.2013 - val_loss: 0.0618 - val_mae: 0.1963\n",
      "Epoch 993/1000\n",
      "5/5 [==============================] - 1s 150ms/step - loss: 0.0603 - mae: 0.1918 - val_loss: 0.0627 - val_mae: 0.1925\n",
      "Epoch 994/1000\n",
      "5/5 [==============================] - 1s 152ms/step - loss: 0.0573 - mae: 0.1864 - val_loss: 0.0647 - val_mae: 0.1986\n",
      "Epoch 995/1000\n",
      "5/5 [==============================] - 1s 149ms/step - loss: 0.0601 - mae: 0.1916 - val_loss: 0.0642 - val_mae: 0.1976\n",
      "Epoch 996/1000\n",
      "5/5 [==============================] - 1s 149ms/step - loss: 0.0587 - mae: 0.1897 - val_loss: 0.0582 - val_mae: 0.1873\n",
      "Epoch 997/1000\n",
      "5/5 [==============================] - 1s 145ms/step - loss: 0.0581 - mae: 0.1876 - val_loss: 0.0600 - val_mae: 0.1864\n",
      "Epoch 998/1000\n",
      "5/5 [==============================] - 1s 146ms/step - loss: 0.0596 - mae: 0.1897 - val_loss: 0.0777 - val_mae: 0.2163\n",
      "Epoch 999/1000\n",
      "5/5 [==============================] - 1s 151ms/step - loss: 0.0649 - mae: 0.1990 - val_loss: 0.0688 - val_mae: 0.2051\n",
      "Epoch 1000/1000\n",
      "5/5 [==============================] - 1s 152ms/step - loss: 0.0618 - mae: 0.1958 - val_loss: 0.0723 - val_mae: 0.2168\n"
     ]
    }
   ],
   "source": [
    "from tensorflow.keras import datasets, layers, models\n",
    "from tensorflow import keras\n",
    "from tensorflow.keras import layers\n",
    "\n",
    "model = models.Sequential()\n",
    "model.add(layers.SimpleRNN(1024, input_shape=(time_step,2)))\n",
    "model.add(layers.Dense(25))\n",
    "\n",
    "model.summary()\n",
    "\n",
    "model.compile(optimizer='adam', loss='mse', metrics=['mae'])\n",
    "\n",
    "history = model.fit(train_input, train_label, epochs=1000, verbose=1, shuffle=True, validation_split=0.20,\n",
    "                   callbacks=[WandbCallback(log_weights=True, log_gradients=True, training_data=(train_input, train_label))])"
   ]
  },
  {
   "cell_type": "code",
   "execution_count": 17,
   "id": "f2977e3d",
   "metadata": {},
   "outputs": [
    {
     "name": "stdout",
     "output_type": "stream",
     "text": [
      "1/1 [==============================] - 0s 95ms/step\n"
     ]
    }
   ],
   "source": [
    "test_input = test_input.reshape(1, test_input.shape[0], test_input.shape[1])\n",
    "\n",
    "y_hat = model.predict(test_input)"
   ]
  },
  {
   "cell_type": "code",
   "execution_count": 18,
   "id": "569d2b27",
   "metadata": {},
   "outputs": [
    {
     "data": {
      "text/plain": [
       "(1, 100, 2)"
      ]
     },
     "execution_count": 18,
     "metadata": {},
     "output_type": "execute_result"
    }
   ],
   "source": [
    "test_input.shape"
   ]
  },
  {
   "cell_type": "code",
   "execution_count": 19,
   "id": "6b083de8",
   "metadata": {},
   "outputs": [],
   "source": [
    "test_label = test_label.reshape(1, test_label.shape[0], test_label.shape[1])"
   ]
  },
  {
   "cell_type": "code",
   "execution_count": 20,
   "id": "54e7a073",
   "metadata": {},
   "outputs": [
    {
     "data": {
      "text/plain": [
       "(1, 25, 1)"
      ]
     },
     "execution_count": 20,
     "metadata": {},
     "output_type": "execute_result"
    }
   ],
   "source": [
    "test_label.shape"
   ]
  },
  {
   "cell_type": "code",
   "execution_count": 21,
   "id": "b3e0c133",
   "metadata": {},
   "outputs": [
    {
     "data": {
      "text/plain": [
       "array([[1.6958709, 1.4455787, 1.6495146, 1.4400731, 1.72121  , 2.0339603,\n",
       "        1.9958619, 1.7556216, 1.8484486, 1.6700791, 1.8184459, 2.0040357,\n",
       "        1.6006836, 1.4488708, 1.7243868, 1.4663203, 1.757881 , 2.0679777,\n",
       "        2.0011191, 1.740362 , 1.9378673, 1.6982139, 2.0376568, 2.09937  ,\n",
       "        1.7476265]], dtype=float32)"
      ]
     },
     "execution_count": 21,
     "metadata": {},
     "output_type": "execute_result"
    }
   ],
   "source": [
    "y_hat"
   ]
  },
  {
   "cell_type": "code",
   "execution_count": 22,
   "id": "e37311d1",
   "metadata": {},
   "outputs": [
    {
     "data": {
      "text/plain": [
       "(1, 25)"
      ]
     },
     "execution_count": 22,
     "metadata": {},
     "output_type": "execute_result"
    }
   ],
   "source": [
    "y_hat.shape"
   ]
  },
  {
   "cell_type": "code",
   "execution_count": 23,
   "id": "ad0f0285",
   "metadata": {},
   "outputs": [],
   "source": [
    "y_hat = y_hat.reshape(y_hat.shape[1], 1)"
   ]
  },
  {
   "cell_type": "code",
   "execution_count": 24,
   "id": "69ea1f6f",
   "metadata": {},
   "outputs": [],
   "source": [
    "y_hat = (y_hat*data_std)+data_mean"
   ]
  },
  {
   "cell_type": "code",
   "execution_count": 25,
   "id": "702f2214",
   "metadata": {},
   "outputs": [],
   "source": [
    "#print(scaler.data_max_)"
   ]
  },
  {
   "cell_type": "code",
   "execution_count": 26,
   "id": "1ca1a387",
   "metadata": {},
   "outputs": [],
   "source": [
    "#print(scaler.data_min_)"
   ]
  },
  {
   "cell_type": "code",
   "execution_count": 27,
   "id": "5e40982b",
   "metadata": {},
   "outputs": [],
   "source": [
    "#y_hat = y_hat * (scaler.data_max_[1]-scaler.data_min_[1]) + scaler.data_min_[1]"
   ]
  },
  {
   "cell_type": "code",
   "execution_count": 28,
   "id": "902bb0d7",
   "metadata": {},
   "outputs": [
    {
     "data": {
      "text/plain": [
       "Text(0.5, 1.0, 'RNN prediction')"
      ]
     },
     "execution_count": 28,
     "metadata": {},
     "output_type": "execute_result"
    },
    {
     "data": {
      "image/png": "[encoded data removed]",
      "text/plain": [
       "<Figure size 1008x576 with 1 Axes>"
      ]
     },
     "metadata": {
      "needs_background": "light"
     },
     "output_type": "display_data"
    }
   ],
   "source": [
    "import matplotlib.pyplot as plt\n",
    "\n",
    "x = range(325)\n",
    "plt.figure(figsize=(14,8))\n",
    "plt.plot(df[300:325]['Sales'], label='original')\n",
    "plt.plot(x[300:325], y_hat, label='prediction')\n",
    "plt.legend()\n",
    "plt.xlabel('Sequence', fontsize=20)\n",
    "plt.ylabel('Sales', fontsize=20)\n",
    "plt.title('RNN prediction', fontsize=25)"
   ]
  },
  {
   "cell_type": "code",
   "execution_count": 29,
   "id": "051887d3",
   "metadata": {
    "scrolled": true
   },
   "outputs": [
    {
     "name": "stdout",
     "output_type": "stream",
     "text": [
      "1/1 [==============================] - 0s 23ms/step - loss: 0.1265 - mae: 0.3099\n"
     ]
    },
    {
     "data": {
      "text/plain": [
       "[0.126522496342659, 0.30987632274627686]"
      ]
     },
     "execution_count": 29,
     "metadata": {},
     "output_type": "execute_result"
    }
   ],
   "source": [
    "model.evaluate(test_input, test_label)"
   ]
  },
  {
   "cell_type": "code",
   "execution_count": null,
   "id": "009da222",
   "metadata": {},
   "outputs": [],
   "source": []
  }
 ],
 "metadata": {
  "kernelspec": {
   "display_name": "Python 3 (ipykernel)",
   "language": "python",
   "name": "python3"
  },
  "language_info": {
   "codemirror_mode": {
    "name": "ipython",
    "version": 3
   },
   "file_extension": ".py",
   "mimetype": "text/x-python",
   "name": "python",
   "nbconvert_exporter": "python",
   "pygments_lexer": "ipython3",
   "version": "3.9.12"
  }
 },
 "nbformat": 4,
 "nbformat_minor": 5
}
