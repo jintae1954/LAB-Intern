{
 "cells": [
  {
   "cell_type": "code",
   "execution_count": 1,
   "id": "475bb5e3",
   "metadata": {},
   "outputs": [
    {
     "name": "stderr",
     "output_type": "stream",
     "text": [
      "\u001b[34m\u001b[1mwandb\u001b[0m: Currently logged in as: \u001b[33mjintae\u001b[0m. Use \u001b[1m`wandb login --relogin`\u001b[0m to force relogin\n"
     ]
    },
    {
     "data": {
      "text/html": [
       "Tracking run with wandb version 0.13.4"
      ],
      "text/plain": [
       "<IPython.core.display.HTML object>"
      ]
     },
     "metadata": {},
     "output_type": "display_data"
    },
    {
     "data": {
      "text/html": [
       "Run data is saved locally in <code>C:\\Users\\PARK\\Documents\\LAB\\RNN vs LSTM\\FInal Example\\wandb\\run-20221018_160447-3k76sywi</code>"
      ],
      "text/plain": [
       "<IPython.core.display.HTML object>"
      ]
     },
     "metadata": {},
     "output_type": "display_data"
    },
    {
     "data": {
      "text/html": [
       "Syncing run <strong><a href=\"https://wandb.ai/jintae/LSTM%20seq%201024./runs/3k76sywi\" target=\"_blank\">epoch 100</a></strong> to <a href=\"https://wandb.ai/jintae/LSTM%20seq%201024.\" target=\"_blank\">Weights & Biases</a> (<a href=\"https://wandb.me/run\" target=\"_blank\">docs</a>)<br/>"
      ],
      "text/plain": [
       "<IPython.core.display.HTML object>"
      ]
     },
     "metadata": {},
     "output_type": "display_data"
    },
    {
     "data": {
      "text/html": [
       "<button onClick=\"this.nextSibling.style.display='block';this.style.display='none';\">Display W&B run</button><iframe src=\"https://wandb.ai/jintae/LSTM%20seq%201024./runs/3k76sywi?jupyter=true\" style=\"border:none;width:100%;height:420px;display:none;\"></iframe>"
      ],
      "text/plain": [
       "<wandb.sdk.wandb_run.Run at 0x1e91c3da4c0>"
      ]
     },
     "execution_count": 1,
     "metadata": {},
     "output_type": "execute_result"
    }
   ],
   "source": [
    "import wandb\n",
    "from wandb.keras import WandbCallback\n",
    "wandb.init(project=\"LSTM seq 1024.\", name=\"epoch 100\")"
   ]
  },
  {
   "cell_type": "code",
   "execution_count": 2,
   "id": "650bae84",
   "metadata": {},
   "outputs": [
    {
     "name": "stdout",
     "output_type": "stream",
     "text": [
      "   DATE  Sales\n",
      "0     0   3459\n",
      "1     1   3458\n",
      "2     2   4002\n",
      "3     3   4564\n",
      "4     4   4221\n"
     ]
    }
   ],
   "source": [
    "import pandas as pd\n",
    "\n",
    "df = pd.read_csv('C:/Users/PARK/Desktop/Alcohol_Sales.csv')\n",
    "print(df.head())"
   ]
  },
  {
   "cell_type": "code",
   "execution_count": 3,
   "id": "71e18e17",
   "metadata": {},
   "outputs": [
    {
     "data": {
      "text/plain": [
       "(325, 2)"
      ]
     },
     "execution_count": 3,
     "metadata": {},
     "output_type": "execute_result"
    }
   ],
   "source": [
    "df.shape"
   ]
  },
  {
   "cell_type": "code",
   "execution_count": 4,
   "id": "5f4f8fb7",
   "metadata": {},
   "outputs": [],
   "source": [
    "import numpy as np\n",
    "\n",
    "data = df.to_numpy()"
   ]
  },
  {
   "cell_type": "code",
   "execution_count": 5,
   "id": "c6063052",
   "metadata": {},
   "outputs": [
    {
     "data": {
      "text/plain": [
       "(325, 2)"
      ]
     },
     "execution_count": 5,
     "metadata": {},
     "output_type": "execute_result"
    }
   ],
   "source": [
    "data.shape"
   ]
  },
  {
   "cell_type": "code",
   "execution_count": 6,
   "id": "01930485",
   "metadata": {},
   "outputs": [
    {
     "data": {
      "text/plain": [
       "array([[   0, 3459],\n",
       "       [   1, 3458],\n",
       "       [   2, 4002],\n",
       "       [   3, 4564],\n",
       "       [   4, 4221]], dtype=int64)"
      ]
     },
     "execution_count": 6,
     "metadata": {},
     "output_type": "execute_result"
    }
   ],
   "source": [
    "data[0:5]"
   ]
  },
  {
   "cell_type": "code",
   "execution_count": 7,
   "id": "ad83b404",
   "metadata": {},
   "outputs": [],
   "source": [
    "# from sklearn.preprocessing import MinMaxScaler\n",
    "\n",
    "# scaler = MinMaxScaler()\n",
    "\n",
    "# data = scaler.fit_transform(data)"
   ]
  },
  {
   "cell_type": "code",
   "execution_count": 8,
   "id": "17aef2ea",
   "metadata": {},
   "outputs": [],
   "source": [
    "data_mean = data.mean()\n",
    "data_std = data.std()\n",
    "\n",
    "data = (data - data_mean)/data_std"
   ]
  },
  {
   "cell_type": "code",
   "execution_count": 9,
   "id": "63fe0032",
   "metadata": {},
   "outputs": [
    {
     "data": {
      "text/plain": [
       "array([[-0.9194862 , -0.12914209],\n",
       "       [-0.91925771, -0.12937058],\n",
       "       [-0.91902922, -0.00507246],\n",
       "       [-0.91880073,  0.12333846],\n",
       "       [-0.91857224,  0.04496667]])"
      ]
     },
     "execution_count": 9,
     "metadata": {},
     "output_type": "execute_result"
    }
   ],
   "source": [
    "data[0:5]"
   ]
  },
  {
   "cell_type": "code",
   "execution_count": 10,
   "id": "87ac24ef",
   "metadata": {
    "scrolled": true
   },
   "outputs": [],
   "source": [
    "train_input = []\n",
    "train_label = []\n",
    "\n",
    "data_len = 325\n",
    "time_step = 100\n",
    "out_dim = 25\n",
    "\n",
    "for i in range(176):\n",
    "    _input = data[i:i+time_step]\n",
    "    _label = data[i+time_step:i+time_step+out_dim]\n",
    "    \n",
    "    train_input.append(_input)\n",
    "    train_label.append(_label)\n",
    "    \n",
    "\n",
    "train_input = np.array(train_input)\n",
    "train_label = np.array(train_label)\n",
    "train_label = np.delete(train_label, 0, axis=2)\n",
    "\n",
    "\n",
    "test_input = np.array(data[data_len-out_dim-time_step:data_len-out_dim])\n",
    "test_label =np.array(data[300:325])\n",
    "test_label = np.delete(test_label, 0, axis=1)"
   ]
  },
  {
   "cell_type": "code",
   "execution_count": 11,
   "id": "41975dc7",
   "metadata": {},
   "outputs": [
    {
     "data": {
      "text/plain": [
       "(176, 100, 2)"
      ]
     },
     "execution_count": 11,
     "metadata": {},
     "output_type": "execute_result"
    }
   ],
   "source": [
    "train_input.shape"
   ]
  },
  {
   "cell_type": "code",
   "execution_count": 12,
   "id": "b762c3ba",
   "metadata": {},
   "outputs": [
    {
     "data": {
      "text/plain": [
       "(176, 25, 1)"
      ]
     },
     "execution_count": 12,
     "metadata": {},
     "output_type": "execute_result"
    }
   ],
   "source": [
    "train_label.shape"
   ]
  },
  {
   "cell_type": "code",
   "execution_count": 13,
   "id": "127c63a2",
   "metadata": {},
   "outputs": [
    {
     "data": {
      "text/plain": [
       "(100, 2)"
      ]
     },
     "execution_count": 13,
     "metadata": {},
     "output_type": "execute_result"
    }
   ],
   "source": [
    "test_input.shape"
   ]
  },
  {
   "cell_type": "code",
   "execution_count": 14,
   "id": "6647472d",
   "metadata": {},
   "outputs": [
    {
     "data": {
      "text/plain": [
       "(25, 1)"
      ]
     },
     "execution_count": 14,
     "metadata": {},
     "output_type": "execute_result"
    }
   ],
   "source": [
    "test_label.shape"
   ]
  },
  {
   "cell_type": "code",
   "execution_count": 15,
   "id": "5d83c07f",
   "metadata": {},
   "outputs": [],
   "source": [
    "np.random.seed(10)\n",
    "shuffled_indices = np.random.permutation(np.arange(train_input.shape[0]))\n",
    "train_input = train_input[shuffled_indices, :, :]\n",
    "train_label = train_label[shuffled_indices, :]"
   ]
  },
  {
   "cell_type": "code",
   "execution_count": 16,
   "id": "a183926e",
   "metadata": {
    "scrolled": true
   },
   "outputs": [
    {
     "name": "stdout",
     "output_type": "stream",
     "text": [
      "Model: \"sequential\"\n",
      "_________________________________________________________________\n",
      " Layer (type)                Output Shape              Param #   \n",
      "=================================================================\n",
      " lstm (LSTM)                 (None, 1024)              4206592   \n",
      "                                                                 \n",
      " dense (Dense)               (None, 25)                25625     \n",
      "                                                                 \n",
      "=================================================================\n",
      "Total params: 4,232,217\n",
      "Trainable params: 4,232,217\n",
      "Non-trainable params: 0\n",
      "_________________________________________________________________\n"
     ]
    },
    {
     "name": "stderr",
     "output_type": "stream",
     "text": [
      "\u001b[34m\u001b[1mwandb\u001b[0m: \u001b[33mWARNING\u001b[0m The save_model argument by default saves the model in the HDF5 format that cannot save custom objects like subclassed models and custom layers. This behavior will be deprecated in a future release in favor of the SavedModel format. Meanwhile, the HDF5 model is saved as W&B files and the SavedModel as W&B Artifacts.\n"
     ]
    },
    {
     "name": "stdout",
     "output_type": "stream",
     "text": [
      "Epoch 1/100\n",
      "1/5 [=====>........................] - ETA: 6s - loss: 1.4544 - mae: 1.1396"
     ]
    },
    {
     "name": "stderr",
     "output_type": "stream",
     "text": [
      "WARNING:absl:Found untraced functions such as lstm_cell_layer_call_fn, lstm_cell_layer_call_and_return_conditional_losses while saving (showing 2 of 2). These functions will not be directly callable after loading.\n"
     ]
    },
    {
     "name": "stdout",
     "output_type": "stream",
     "text": [
      "INFO:tensorflow:Assets written to: C:\\Users\\PARK\\Documents\\LAB\\RNN vs LSTM\\FInal Example\\wandb\\run-20221018_160447-3k76sywi\\files\\model-best\\assets\n"
     ]
    },
    {
     "name": "stderr",
     "output_type": "stream",
     "text": [
      "INFO:tensorflow:Assets written to: C:\\Users\\PARK\\Documents\\LAB\\RNN vs LSTM\\FInal Example\\wandb\\run-20221018_160447-3k76sywi\\files\\model-best\\assets\n",
      "\u001b[34m\u001b[1mwandb\u001b[0m: Adding directory to artifact (C:\\Users\\PARK\\Documents\\LAB\\RNN vs LSTM\\FInal Example\\wandb\\run-20221018_160447-3k76sywi\\files\\model-best)... Done. 0.1s\n"
     ]
    },
    {
     "name": "stdout",
     "output_type": "stream",
     "text": [
      "5/5 [==============================] - 7s 1s/step - loss: 1.2546 - mae: 1.0012 - val_loss: 0.6044 - val_mae: 0.6777\n",
      "Epoch 2/100\n",
      "4/5 [=======================>......] - ETA: 0s - loss: 0.3736 - mae: 0.5028"
     ]
    },
    {
     "name": "stderr",
     "output_type": "stream",
     "text": [
      "WARNING:absl:Found untraced functions such as lstm_cell_layer_call_fn, lstm_cell_layer_call_and_return_conditional_losses while saving (showing 2 of 2). These functions will not be directly callable after loading.\n"
     ]
    },
    {
     "name": "stdout",
     "output_type": "stream",
     "text": [
      "INFO:tensorflow:Assets written to: C:\\Users\\PARK\\Documents\\LAB\\RNN vs LSTM\\FInal Example\\wandb\\run-20221018_160447-3k76sywi\\files\\model-best\\assets\n"
     ]
    },
    {
     "name": "stderr",
     "output_type": "stream",
     "text": [
      "INFO:tensorflow:Assets written to: C:\\Users\\PARK\\Documents\\LAB\\RNN vs LSTM\\FInal Example\\wandb\\run-20221018_160447-3k76sywi\\files\\model-best\\assets\n",
      "\u001b[34m\u001b[1mwandb\u001b[0m: Adding directory to artifact (C:\\Users\\PARK\\Documents\\LAB\\RNN vs LSTM\\FInal Example\\wandb\\run-20221018_160447-3k76sywi\\files\\model-best)... Done. 0.1s\n"
     ]
    },
    {
     "name": "stdout",
     "output_type": "stream",
     "text": [
      "5/5 [==============================] - 5s 1s/step - loss: 0.3628 - mae: 0.4957 - val_loss: 0.2004 - val_mae: 0.3667\n",
      "Epoch 3/100\n",
      "4/5 [=======================>......] - ETA: 0s - loss: 0.1923 - mae: 0.3636"
     ]
    },
    {
     "name": "stderr",
     "output_type": "stream",
     "text": [
      "WARNING:absl:Found untraced functions such as lstm_cell_layer_call_fn, lstm_cell_layer_call_and_return_conditional_losses while saving (showing 2 of 2). These functions will not be directly callable after loading.\n"
     ]
    },
    {
     "name": "stdout",
     "output_type": "stream",
     "text": [
      "INFO:tensorflow:Assets written to: C:\\Users\\PARK\\Documents\\LAB\\RNN vs LSTM\\FInal Example\\wandb\\run-20221018_160447-3k76sywi\\files\\model-best\\assets\n"
     ]
    },
    {
     "name": "stderr",
     "output_type": "stream",
     "text": [
      "INFO:tensorflow:Assets written to: C:\\Users\\PARK\\Documents\\LAB\\RNN vs LSTM\\FInal Example\\wandb\\run-20221018_160447-3k76sywi\\files\\model-best\\assets\n",
      "\u001b[34m\u001b[1mwandb\u001b[0m: Adding directory to artifact (C:\\Users\\PARK\\Documents\\LAB\\RNN vs LSTM\\FInal Example\\wandb\\run-20221018_160447-3k76sywi\\files\\model-best)... Done. 0.1s\n"
     ]
    },
    {
     "name": "stdout",
     "output_type": "stream",
     "text": [
      "5/5 [==============================] - 5s 1s/step - loss: 0.1902 - mae: 0.3615 - val_loss: 0.1945 - val_mae: 0.3712\n",
      "Epoch 4/100\n",
      "5/5 [==============================] - ETA: 0s - loss: 0.1928 - mae: 0.3615"
     ]
    },
    {
     "name": "stderr",
     "output_type": "stream",
     "text": [
      "WARNING:absl:Found untraced functions such as lstm_cell_layer_call_fn, lstm_cell_layer_call_and_return_conditional_losses while saving (showing 2 of 2). These functions will not be directly callable after loading.\n"
     ]
    },
    {
     "name": "stdout",
     "output_type": "stream",
     "text": [
      "INFO:tensorflow:Assets written to: C:\\Users\\PARK\\Documents\\LAB\\RNN vs LSTM\\FInal Example\\wandb\\run-20221018_160447-3k76sywi\\files\\model-best\\assets\n"
     ]
    },
    {
     "name": "stderr",
     "output_type": "stream",
     "text": [
      "INFO:tensorflow:Assets written to: C:\\Users\\PARK\\Documents\\LAB\\RNN vs LSTM\\FInal Example\\wandb\\run-20221018_160447-3k76sywi\\files\\model-best\\assets\n",
      "\u001b[34m\u001b[1mwandb\u001b[0m: Adding directory to artifact (C:\\Users\\PARK\\Documents\\LAB\\RNN vs LSTM\\FInal Example\\wandb\\run-20221018_160447-3k76sywi\\files\\model-best)... Done. 0.1s\n"
     ]
    },
    {
     "name": "stdout",
     "output_type": "stream",
     "text": [
      "5/5 [==============================] - 4s 1s/step - loss: 0.1928 - mae: 0.3615 - val_loss: 0.1748 - val_mae: 0.3492\n",
      "Epoch 5/100\n",
      "5/5 [==============================] - 1s 129ms/step - loss: 0.1825 - mae: 0.3546 - val_loss: 0.1777 - val_mae: 0.3499\n",
      "Epoch 6/100\n",
      "5/5 [==============================] - 0s 93ms/step - loss: 0.1757 - mae: 0.3481 - val_loss: 0.1757 - val_mae: 0.3529\n",
      "Epoch 7/100\n",
      "5/5 [==============================] - 0s 79ms/step - loss: 0.1836 - mae: 0.3548 - val_loss: 0.1761 - val_mae: 0.3528\n",
      "Epoch 8/100\n",
      "1/5 [=====>........................] - ETA: 0s - loss: 0.1688 - mae: 0.3301"
     ]
    },
    {
     "name": "stderr",
     "output_type": "stream",
     "text": [
      "WARNING:absl:Found untraced functions such as lstm_cell_layer_call_fn, lstm_cell_layer_call_and_return_conditional_losses while saving (showing 2 of 2). These functions will not be directly callable after loading.\n"
     ]
    },
    {
     "name": "stdout",
     "output_type": "stream",
     "text": [
      "INFO:tensorflow:Assets written to: C:\\Users\\PARK\\Documents\\LAB\\RNN vs LSTM\\FInal Example\\wandb\\run-20221018_160447-3k76sywi\\files\\model-best\\assets\n"
     ]
    },
    {
     "name": "stderr",
     "output_type": "stream",
     "text": [
      "INFO:tensorflow:Assets written to: C:\\Users\\PARK\\Documents\\LAB\\RNN vs LSTM\\FInal Example\\wandb\\run-20221018_160447-3k76sywi\\files\\model-best\\assets\n",
      "\u001b[34m\u001b[1mwandb\u001b[0m: Adding directory to artifact (C:\\Users\\PARK\\Documents\\LAB\\RNN vs LSTM\\FInal Example\\wandb\\run-20221018_160447-3k76sywi\\files\\model-best)... Done. 0.1s\n"
     ]
    },
    {
     "name": "stdout",
     "output_type": "stream",
     "text": [
      "5/5 [==============================] - 4s 1s/step - loss: 0.1725 - mae: 0.3447 - val_loss: 0.1735 - val_mae: 0.3452\n",
      "Epoch 9/100\n",
      "4/5 [=======================>......] - ETA: 0s - loss: 0.1836 - mae: 0.3548"
     ]
    },
    {
     "name": "stderr",
     "output_type": "stream",
     "text": [
      "WARNING:absl:Found untraced functions such as lstm_cell_layer_call_fn, lstm_cell_layer_call_and_return_conditional_losses while saving (showing 2 of 2). These functions will not be directly callable after loading.\n"
     ]
    },
    {
     "name": "stdout",
     "output_type": "stream",
     "text": [
      "INFO:tensorflow:Assets written to: C:\\Users\\PARK\\Documents\\LAB\\RNN vs LSTM\\FInal Example\\wandb\\run-20221018_160447-3k76sywi\\files\\model-best\\assets\n"
     ]
    },
    {
     "name": "stderr",
     "output_type": "stream",
     "text": [
      "INFO:tensorflow:Assets written to: C:\\Users\\PARK\\Documents\\LAB\\RNN vs LSTM\\FInal Example\\wandb\\run-20221018_160447-3k76sywi\\files\\model-best\\assets\n",
      "\u001b[34m\u001b[1mwandb\u001b[0m: Adding directory to artifact (C:\\Users\\PARK\\Documents\\LAB\\RNN vs LSTM\\FInal Example\\wandb\\run-20221018_160447-3k76sywi\\files\\model-best)... Done. 0.1s\n"
     ]
    },
    {
     "name": "stdout",
     "output_type": "stream",
     "text": [
      "5/5 [==============================] - 4s 1s/step - loss: 0.1813 - mae: 0.3518 - val_loss: 0.1701 - val_mae: 0.3423\n",
      "Epoch 10/100\n",
      "2/5 [===========>..................] - ETA: 0s - loss: 0.1609 - mae: 0.3318"
     ]
    },
    {
     "name": "stderr",
     "output_type": "stream",
     "text": [
      "WARNING:absl:Found untraced functions such as lstm_cell_layer_call_fn, lstm_cell_layer_call_and_return_conditional_losses while saving (showing 2 of 2). These functions will not be directly callable after loading.\n"
     ]
    },
    {
     "name": "stdout",
     "output_type": "stream",
     "text": [
      "INFO:tensorflow:Assets written to: C:\\Users\\PARK\\Documents\\LAB\\RNN vs LSTM\\FInal Example\\wandb\\run-20221018_160447-3k76sywi\\files\\model-best\\assets\n"
     ]
    },
    {
     "name": "stderr",
     "output_type": "stream",
     "text": [
      "INFO:tensorflow:Assets written to: C:\\Users\\PARK\\Documents\\LAB\\RNN vs LSTM\\FInal Example\\wandb\\run-20221018_160447-3k76sywi\\files\\model-best\\assets\n",
      "\u001b[34m\u001b[1mwandb\u001b[0m: Adding directory to artifact (C:\\Users\\PARK\\Documents\\LAB\\RNN vs LSTM\\FInal Example\\wandb\\run-20221018_160447-3k76sywi\\files\\model-best)... Done. 0.1s\n"
     ]
    },
    {
     "name": "stdout",
     "output_type": "stream",
     "text": [
      "5/5 [==============================] - 4s 1s/step - loss: 0.1684 - mae: 0.3409 - val_loss: 0.1670 - val_mae: 0.3435\n",
      "Epoch 11/100\n",
      "4/5 [=======================>......] - ETA: 0s - loss: 0.1697 - mae: 0.3415"
     ]
    },
    {
     "name": "stderr",
     "output_type": "stream",
     "text": [
      "WARNING:absl:Found untraced functions such as lstm_cell_layer_call_fn, lstm_cell_layer_call_and_return_conditional_losses while saving (showing 2 of 2). These functions will not be directly callable after loading.\n"
     ]
    },
    {
     "name": "stdout",
     "output_type": "stream",
     "text": [
      "INFO:tensorflow:Assets written to: C:\\Users\\PARK\\Documents\\LAB\\RNN vs LSTM\\FInal Example\\wandb\\run-20221018_160447-3k76sywi\\files\\model-best\\assets\n"
     ]
    },
    {
     "name": "stderr",
     "output_type": "stream",
     "text": [
      "INFO:tensorflow:Assets written to: C:\\Users\\PARK\\Documents\\LAB\\RNN vs LSTM\\FInal Example\\wandb\\run-20221018_160447-3k76sywi\\files\\model-best\\assets\n",
      "\u001b[34m\u001b[1mwandb\u001b[0m: Adding directory to artifact (C:\\Users\\PARK\\Documents\\LAB\\RNN vs LSTM\\FInal Example\\wandb\\run-20221018_160447-3k76sywi\\files\\model-best)... Done. 0.1s\n"
     ]
    },
    {
     "name": "stdout",
     "output_type": "stream",
     "text": [
      "5/5 [==============================] - 4s 1s/step - loss: 0.1676 - mae: 0.3394 - val_loss: 0.1569 - val_mae: 0.3310\n",
      "Epoch 12/100\n",
      "5/5 [==============================] - 1s 120ms/step - loss: 0.1525 - mae: 0.3214 - val_loss: 0.1594 - val_mae: 0.3324\n",
      "Epoch 13/100\n",
      "1/5 [=====>........................] - ETA: 0s - loss: 0.1254 - mae: 0.2851"
     ]
    },
    {
     "name": "stderr",
     "output_type": "stream",
     "text": [
      "WARNING:absl:Found untraced functions such as lstm_cell_layer_call_fn, lstm_cell_layer_call_and_return_conditional_losses while saving (showing 2 of 2). These functions will not be directly callable after loading.\n"
     ]
    },
    {
     "name": "stdout",
     "output_type": "stream",
     "text": [
      "INFO:tensorflow:Assets written to: C:\\Users\\PARK\\Documents\\LAB\\RNN vs LSTM\\FInal Example\\wandb\\run-20221018_160447-3k76sywi\\files\\model-best\\assets\n"
     ]
    },
    {
     "name": "stderr",
     "output_type": "stream",
     "text": [
      "INFO:tensorflow:Assets written to: C:\\Users\\PARK\\Documents\\LAB\\RNN vs LSTM\\FInal Example\\wandb\\run-20221018_160447-3k76sywi\\files\\model-best\\assets\n",
      "\u001b[34m\u001b[1mwandb\u001b[0m: Adding directory to artifact (C:\\Users\\PARK\\Documents\\LAB\\RNN vs LSTM\\FInal Example\\wandb\\run-20221018_160447-3k76sywi\\files\\model-best)... Done. 0.1s\n"
     ]
    },
    {
     "name": "stdout",
     "output_type": "stream",
     "text": [
      "5/5 [==============================] - 4s 1s/step - loss: 0.1480 - mae: 0.3150 - val_loss: 0.1388 - val_mae: 0.3100\n",
      "Epoch 14/100\n",
      "5/5 [==============================] - 1s 117ms/step - loss: 0.1730 - mae: 0.3374 - val_loss: 0.1492 - val_mae: 0.3234\n",
      "Epoch 15/100\n",
      "5/5 [==============================] - 0s 72ms/step - loss: 0.1532 - mae: 0.3232 - val_loss: 0.1462 - val_mae: 0.3175\n",
      "Epoch 16/100\n",
      "1/5 [=====>........................] - ETA: 0s - loss: 0.1322 - mae: 0.2974"
     ]
    },
    {
     "name": "stderr",
     "output_type": "stream",
     "text": [
      "WARNING:absl:Found untraced functions such as lstm_cell_layer_call_fn, lstm_cell_layer_call_and_return_conditional_losses while saving (showing 2 of 2). These functions will not be directly callable after loading.\n"
     ]
    },
    {
     "name": "stdout",
     "output_type": "stream",
     "text": [
      "INFO:tensorflow:Assets written to: C:\\Users\\PARK\\Documents\\LAB\\RNN vs LSTM\\FInal Example\\wandb\\run-20221018_160447-3k76sywi\\files\\model-best\\assets\n"
     ]
    },
    {
     "name": "stderr",
     "output_type": "stream",
     "text": [
      "INFO:tensorflow:Assets written to: C:\\Users\\PARK\\Documents\\LAB\\RNN vs LSTM\\FInal Example\\wandb\\run-20221018_160447-3k76sywi\\files\\model-best\\assets\n",
      "\u001b[34m\u001b[1mwandb\u001b[0m: Adding directory to artifact (C:\\Users\\PARK\\Documents\\LAB\\RNN vs LSTM\\FInal Example\\wandb\\run-20221018_160447-3k76sywi\\files\\model-best)... Done. 0.1s\n"
     ]
    },
    {
     "name": "stdout",
     "output_type": "stream",
     "text": [
      "5/5 [==============================] - 4s 1s/step - loss: 0.1447 - mae: 0.3153 - val_loss: 0.1334 - val_mae: 0.3046\n",
      "Epoch 17/100\n",
      "5/5 [==============================] - 0s 95ms/step - loss: 0.1408 - mae: 0.3110 - val_loss: 0.1376 - val_mae: 0.3042\n",
      "Epoch 18/100\n",
      "1/5 [=====>........................] - ETA: 0s - loss: 0.1505 - mae: 0.3172"
     ]
    },
    {
     "name": "stderr",
     "output_type": "stream",
     "text": [
      "WARNING:absl:Found untraced functions such as lstm_cell_layer_call_fn, lstm_cell_layer_call_and_return_conditional_losses while saving (showing 2 of 2). These functions will not be directly callable after loading.\n"
     ]
    },
    {
     "name": "stdout",
     "output_type": "stream",
     "text": [
      "INFO:tensorflow:Assets written to: C:\\Users\\PARK\\Documents\\LAB\\RNN vs LSTM\\FInal Example\\wandb\\run-20221018_160447-3k76sywi\\files\\model-best\\assets\n"
     ]
    },
    {
     "name": "stderr",
     "output_type": "stream",
     "text": [
      "INFO:tensorflow:Assets written to: C:\\Users\\PARK\\Documents\\LAB\\RNN vs LSTM\\FInal Example\\wandb\\run-20221018_160447-3k76sywi\\files\\model-best\\assets\n",
      "\u001b[34m\u001b[1mwandb\u001b[0m: Adding directory to artifact (C:\\Users\\PARK\\Documents\\LAB\\RNN vs LSTM\\FInal Example\\wandb\\run-20221018_160447-3k76sywi\\files\\model-best)... Done. 0.1s\n"
     ]
    },
    {
     "name": "stdout",
     "output_type": "stream",
     "text": [
      "5/5 [==============================] - 4s 1s/step - loss: 0.1170 - mae: 0.2793 - val_loss: 0.0931 - val_mae: 0.2458\n",
      "Epoch 19/100\n",
      "2/5 [===========>..................] - ETA: 0s - loss: 0.0808 - mae: 0.2258"
     ]
    },
    {
     "name": "stderr",
     "output_type": "stream",
     "text": [
      "WARNING:absl:Found untraced functions such as lstm_cell_layer_call_fn, lstm_cell_layer_call_and_return_conditional_losses while saving (showing 2 of 2). These functions will not be directly callable after loading.\n"
     ]
    },
    {
     "name": "stdout",
     "output_type": "stream",
     "text": [
      "INFO:tensorflow:Assets written to: C:\\Users\\PARK\\Documents\\LAB\\RNN vs LSTM\\FInal Example\\wandb\\run-20221018_160447-3k76sywi\\files\\model-best\\assets\n"
     ]
    },
    {
     "name": "stderr",
     "output_type": "stream",
     "text": [
      "INFO:tensorflow:Assets written to: C:\\Users\\PARK\\Documents\\LAB\\RNN vs LSTM\\FInal Example\\wandb\\run-20221018_160447-3k76sywi\\files\\model-best\\assets\n",
      "\u001b[34m\u001b[1mwandb\u001b[0m: Adding directory to artifact (C:\\Users\\PARK\\Documents\\LAB\\RNN vs LSTM\\FInal Example\\wandb\\run-20221018_160447-3k76sywi\\files\\model-best)... Done. 0.1s\n"
     ]
    },
    {
     "name": "stdout",
     "output_type": "stream",
     "text": [
      "5/5 [==============================] - 4s 1s/step - loss: 0.1093 - mae: 0.2669 - val_loss: 0.0829 - val_mae: 0.2334\n",
      "Epoch 20/100\n",
      "4/5 [=======================>......] - ETA: 0s - loss: 0.0817 - mae: 0.2288"
     ]
    },
    {
     "name": "stderr",
     "output_type": "stream",
     "text": [
      "WARNING:absl:Found untraced functions such as lstm_cell_layer_call_fn, lstm_cell_layer_call_and_return_conditional_losses while saving (showing 2 of 2). These functions will not be directly callable after loading.\n"
     ]
    },
    {
     "name": "stdout",
     "output_type": "stream",
     "text": [
      "INFO:tensorflow:Assets written to: C:\\Users\\PARK\\Documents\\LAB\\RNN vs LSTM\\FInal Example\\wandb\\run-20221018_160447-3k76sywi\\files\\model-best\\assets\n"
     ]
    },
    {
     "name": "stderr",
     "output_type": "stream",
     "text": [
      "INFO:tensorflow:Assets written to: C:\\Users\\PARK\\Documents\\LAB\\RNN vs LSTM\\FInal Example\\wandb\\run-20221018_160447-3k76sywi\\files\\model-best\\assets\n",
      "\u001b[34m\u001b[1mwandb\u001b[0m: Adding directory to artifact (C:\\Users\\PARK\\Documents\\LAB\\RNN vs LSTM\\FInal Example\\wandb\\run-20221018_160447-3k76sywi\\files\\model-best)... Done. 0.1s\n"
     ]
    },
    {
     "name": "stdout",
     "output_type": "stream",
     "text": [
      "5/5 [==============================] - 4s 1s/step - loss: 0.0831 - mae: 0.2311 - val_loss: 0.0698 - val_mae: 0.2094\n",
      "Epoch 21/100\n",
      "5/5 [==============================] - 1s 116ms/step - loss: 0.0724 - mae: 0.2126 - val_loss: 0.0798 - val_mae: 0.2148\n",
      "Epoch 22/100\n",
      "5/5 [==============================] - 0s 75ms/step - loss: 0.0680 - mae: 0.2026 - val_loss: 0.0771 - val_mae: 0.2191\n",
      "Epoch 23/100\n",
      "1/5 [=====>........................] - ETA: 0s - loss: 0.0730 - mae: 0.2136"
     ]
    },
    {
     "name": "stderr",
     "output_type": "stream",
     "text": [
      "WARNING:absl:Found untraced functions such as lstm_cell_layer_call_fn, lstm_cell_layer_call_and_return_conditional_losses while saving (showing 2 of 2). These functions will not be directly callable after loading.\n"
     ]
    },
    {
     "name": "stdout",
     "output_type": "stream",
     "text": [
      "INFO:tensorflow:Assets written to: C:\\Users\\PARK\\Documents\\LAB\\RNN vs LSTM\\FInal Example\\wandb\\run-20221018_160447-3k76sywi\\files\\model-best\\assets\n"
     ]
    },
    {
     "name": "stderr",
     "output_type": "stream",
     "text": [
      "INFO:tensorflow:Assets written to: C:\\Users\\PARK\\Documents\\LAB\\RNN vs LSTM\\FInal Example\\wandb\\run-20221018_160447-3k76sywi\\files\\model-best\\assets\n",
      "\u001b[34m\u001b[1mwandb\u001b[0m: Adding directory to artifact (C:\\Users\\PARK\\Documents\\LAB\\RNN vs LSTM\\FInal Example\\wandb\\run-20221018_160447-3k76sywi\\files\\model-best)... Done. 0.1s\n"
     ]
    },
    {
     "name": "stdout",
     "output_type": "stream",
     "text": [
      "5/5 [==============================] - 4s 1s/step - loss: 0.0677 - mae: 0.2039 - val_loss: 0.0604 - val_mae: 0.1884\n",
      "Epoch 24/100\n",
      "5/5 [==============================] - 1s 121ms/step - loss: 0.0618 - mae: 0.1915 - val_loss: 0.0614 - val_mae: 0.1933\n",
      "Epoch 25/100\n",
      "1/5 [=====>........................] - ETA: 0s - loss: 0.0625 - mae: 0.1908"
     ]
    },
    {
     "name": "stderr",
     "output_type": "stream",
     "text": [
      "WARNING:absl:Found untraced functions such as lstm_cell_layer_call_fn, lstm_cell_layer_call_and_return_conditional_losses while saving (showing 2 of 2). These functions will not be directly callable after loading.\n"
     ]
    },
    {
     "name": "stdout",
     "output_type": "stream",
     "text": [
      "INFO:tensorflow:Assets written to: C:\\Users\\PARK\\Documents\\LAB\\RNN vs LSTM\\FInal Example\\wandb\\run-20221018_160447-3k76sywi\\files\\model-best\\assets\n"
     ]
    },
    {
     "name": "stderr",
     "output_type": "stream",
     "text": [
      "INFO:tensorflow:Assets written to: C:\\Users\\PARK\\Documents\\LAB\\RNN vs LSTM\\FInal Example\\wandb\\run-20221018_160447-3k76sywi\\files\\model-best\\assets\n",
      "\u001b[34m\u001b[1mwandb\u001b[0m: Adding directory to artifact (C:\\Users\\PARK\\Documents\\LAB\\RNN vs LSTM\\FInal Example\\wandb\\run-20221018_160447-3k76sywi\\files\\model-best)... Done. 0.1s\n"
     ]
    },
    {
     "name": "stdout",
     "output_type": "stream",
     "text": [
      "5/5 [==============================] - 4s 1s/step - loss: 0.0605 - mae: 0.1892 - val_loss: 0.0586 - val_mae: 0.1852\n",
      "Epoch 26/100\n",
      "3/5 [=================>............] - ETA: 0s - loss: 0.0589 - mae: 0.1853"
     ]
    },
    {
     "name": "stderr",
     "output_type": "stream",
     "text": [
      "WARNING:absl:Found untraced functions such as lstm_cell_layer_call_fn, lstm_cell_layer_call_and_return_conditional_losses while saving (showing 2 of 2). These functions will not be directly callable after loading.\n"
     ]
    },
    {
     "name": "stdout",
     "output_type": "stream",
     "text": [
      "INFO:tensorflow:Assets written to: C:\\Users\\PARK\\Documents\\LAB\\RNN vs LSTM\\FInal Example\\wandb\\run-20221018_160447-3k76sywi\\files\\model-best\\assets\n"
     ]
    },
    {
     "name": "stderr",
     "output_type": "stream",
     "text": [
      "INFO:tensorflow:Assets written to: C:\\Users\\PARK\\Documents\\LAB\\RNN vs LSTM\\FInal Example\\wandb\\run-20221018_160447-3k76sywi\\files\\model-best\\assets\n",
      "\u001b[34m\u001b[1mwandb\u001b[0m: Adding directory to artifact (C:\\Users\\PARK\\Documents\\LAB\\RNN vs LSTM\\FInal Example\\wandb\\run-20221018_160447-3k76sywi\\files\\model-best)... Done. 0.1s\n"
     ]
    },
    {
     "name": "stdout",
     "output_type": "stream",
     "text": [
      "5/5 [==============================] - 5s 1s/step - loss: 0.0590 - mae: 0.1858 - val_loss: 0.0579 - val_mae: 0.1848\n",
      "Epoch 27/100\n",
      "5/5 [==============================] - 1s 94ms/step - loss: 0.0580 - mae: 0.1839 - val_loss: 0.0583 - val_mae: 0.1846\n",
      "Epoch 28/100\n",
      "5/5 [==============================] - 0s 75ms/step - loss: 0.0583 - mae: 0.1844 - val_loss: 0.0612 - val_mae: 0.1879\n",
      "Epoch 29/100\n",
      "1/5 [=====>........................] - ETA: 0s - loss: 0.0662 - mae: 0.1962"
     ]
    },
    {
     "name": "stderr",
     "output_type": "stream",
     "text": [
      "WARNING:absl:Found untraced functions such as lstm_cell_layer_call_fn, lstm_cell_layer_call_and_return_conditional_losses while saving (showing 2 of 2). These functions will not be directly callable after loading.\n"
     ]
    },
    {
     "name": "stdout",
     "output_type": "stream",
     "text": [
      "INFO:tensorflow:Assets written to: C:\\Users\\PARK\\Documents\\LAB\\RNN vs LSTM\\FInal Example\\wandb\\run-20221018_160447-3k76sywi\\files\\model-best\\assets\n"
     ]
    },
    {
     "name": "stderr",
     "output_type": "stream",
     "text": [
      "INFO:tensorflow:Assets written to: C:\\Users\\PARK\\Documents\\LAB\\RNN vs LSTM\\FInal Example\\wandb\\run-20221018_160447-3k76sywi\\files\\model-best\\assets\n",
      "\u001b[34m\u001b[1mwandb\u001b[0m: Adding directory to artifact (C:\\Users\\PARK\\Documents\\LAB\\RNN vs LSTM\\FInal Example\\wandb\\run-20221018_160447-3k76sywi\\files\\model-best)... Done. 0.1s\n"
     ]
    },
    {
     "name": "stdout",
     "output_type": "stream",
     "text": [
      "5/5 [==============================] - 4s 1s/step - loss: 0.0586 - mae: 0.1848 - val_loss: 0.0573 - val_mae: 0.1820\n",
      "Epoch 30/100\n",
      "4/5 [=======================>......] - ETA: 0s - loss: 0.0563 - mae: 0.1818"
     ]
    },
    {
     "name": "stderr",
     "output_type": "stream",
     "text": [
      "WARNING:absl:Found untraced functions such as lstm_cell_layer_call_fn, lstm_cell_layer_call_and_return_conditional_losses while saving (showing 2 of 2). These functions will not be directly callable after loading.\n"
     ]
    },
    {
     "name": "stdout",
     "output_type": "stream",
     "text": [
      "INFO:tensorflow:Assets written to: C:\\Users\\PARK\\Documents\\LAB\\RNN vs LSTM\\FInal Example\\wandb\\run-20221018_160447-3k76sywi\\files\\model-best\\assets\n"
     ]
    },
    {
     "name": "stderr",
     "output_type": "stream",
     "text": [
      "INFO:tensorflow:Assets written to: C:\\Users\\PARK\\Documents\\LAB\\RNN vs LSTM\\FInal Example\\wandb\\run-20221018_160447-3k76sywi\\files\\model-best\\assets\n",
      "\u001b[34m\u001b[1mwandb\u001b[0m: Adding directory to artifact (C:\\Users\\PARK\\Documents\\LAB\\RNN vs LSTM\\FInal Example\\wandb\\run-20221018_160447-3k76sywi\\files\\model-best)... Done. 0.1s\n"
     ]
    },
    {
     "name": "stdout",
     "output_type": "stream",
     "text": [
      "5/5 [==============================] - 4s 1s/step - loss: 0.0571 - mae: 0.1824 - val_loss: 0.0563 - val_mae: 0.1820\n",
      "Epoch 31/100\n",
      "5/5 [==============================] - ETA: 0s - loss: 0.0569 - mae: 0.1822"
     ]
    },
    {
     "name": "stderr",
     "output_type": "stream",
     "text": [
      "WARNING:absl:Found untraced functions such as lstm_cell_layer_call_fn, lstm_cell_layer_call_and_return_conditional_losses while saving (showing 2 of 2). These functions will not be directly callable after loading.\n"
     ]
    },
    {
     "name": "stdout",
     "output_type": "stream",
     "text": [
      "INFO:tensorflow:Assets written to: C:\\Users\\PARK\\Documents\\LAB\\RNN vs LSTM\\FInal Example\\wandb\\run-20221018_160447-3k76sywi\\files\\model-best\\assets\n"
     ]
    },
    {
     "name": "stderr",
     "output_type": "stream",
     "text": [
      "INFO:tensorflow:Assets written to: C:\\Users\\PARK\\Documents\\LAB\\RNN vs LSTM\\FInal Example\\wandb\\run-20221018_160447-3k76sywi\\files\\model-best\\assets\n",
      "\u001b[34m\u001b[1mwandb\u001b[0m: Adding directory to artifact (C:\\Users\\PARK\\Documents\\LAB\\RNN vs LSTM\\FInal Example\\wandb\\run-20221018_160447-3k76sywi\\files\\model-best)... Done. 0.1s\n"
     ]
    },
    {
     "name": "stdout",
     "output_type": "stream",
     "text": [
      "5/5 [==============================] - 4s 1s/step - loss: 0.0569 - mae: 0.1822 - val_loss: 0.0562 - val_mae: 0.1808\n",
      "Epoch 32/100\n",
      "5/5 [==============================] - 1s 121ms/step - loss: 0.0571 - mae: 0.1831 - val_loss: 0.0571 - val_mae: 0.1829\n",
      "Epoch 33/100\n",
      "5/5 [==============================] - 0s 75ms/step - loss: 0.0570 - mae: 0.1829 - val_loss: 0.0808 - val_mae: 0.2054\n",
      "Epoch 34/100\n",
      "5/5 [==============================] - 0s 75ms/step - loss: 0.0792 - mae: 0.2224 - val_loss: 0.0837 - val_mae: 0.2370\n",
      "Epoch 35/100\n",
      "5/5 [==============================] - 0s 77ms/step - loss: 0.0840 - mae: 0.2358 - val_loss: 0.0656 - val_mae: 0.2031\n",
      "Epoch 36/100\n",
      "5/5 [==============================] - 0s 73ms/step - loss: 0.0690 - mae: 0.2054 - val_loss: 0.0722 - val_mae: 0.2047\n",
      "Epoch 37/100\n",
      "5/5 [==============================] - 0s 73ms/step - loss: 0.0615 - mae: 0.1916 - val_loss: 0.0678 - val_mae: 0.2031\n",
      "Epoch 38/100\n",
      "5/5 [==============================] - 0s 73ms/step - loss: 0.0645 - mae: 0.1969 - val_loss: 0.0669 - val_mae: 0.2087\n",
      "Epoch 39/100\n",
      "5/5 [==============================] - 0s 72ms/step - loss: 0.0682 - mae: 0.2073 - val_loss: 0.0617 - val_mae: 0.1933\n",
      "Epoch 40/100\n",
      "5/5 [==============================] - 0s 73ms/step - loss: 0.0613 - mae: 0.1907 - val_loss: 0.0610 - val_mae: 0.1862\n",
      "Epoch 41/100\n",
      "5/5 [==============================] - 0s 73ms/step - loss: 0.0594 - mae: 0.1870 - val_loss: 0.0647 - val_mae: 0.1988\n",
      "Epoch 42/100\n",
      "5/5 [==============================] - 0s 72ms/step - loss: 0.0629 - mae: 0.1946 - val_loss: 0.0595 - val_mae: 0.1898\n",
      "Epoch 43/100\n",
      "5/5 [==============================] - 0s 72ms/step - loss: 0.0611 - mae: 0.1901 - val_loss: 0.0650 - val_mae: 0.1939\n",
      "Epoch 44/100\n",
      "5/5 [==============================] - 0s 72ms/step - loss: 0.0641 - mae: 0.1962 - val_loss: 0.0592 - val_mae: 0.1879\n",
      "Epoch 45/100\n",
      "5/5 [==============================] - 0s 75ms/step - loss: 0.0686 - mae: 0.2053 - val_loss: 0.0587 - val_mae: 0.1864\n",
      "Epoch 46/100\n",
      "5/5 [==============================] - 0s 75ms/step - loss: 0.0613 - mae: 0.1913 - val_loss: 0.0602 - val_mae: 0.1935\n",
      "Epoch 47/100\n",
      "5/5 [==============================] - 0s 75ms/step - loss: 0.0615 - mae: 0.1940 - val_loss: 0.0628 - val_mae: 0.1953\n",
      "Epoch 48/100\n",
      "5/5 [==============================] - 0s 75ms/step - loss: 0.0610 - mae: 0.1907 - val_loss: 0.0586 - val_mae: 0.1890\n",
      "Epoch 49/100\n",
      "5/5 [==============================] - 0s 73ms/step - loss: 0.0582 - mae: 0.1861 - val_loss: 0.0569 - val_mae: 0.1823\n",
      "Epoch 50/100\n",
      "5/5 [==============================] - 0s 73ms/step - loss: 0.0568 - mae: 0.1820 - val_loss: 0.0578 - val_mae: 0.1823\n",
      "Epoch 51/100\n",
      "5/5 [==============================] - 0s 74ms/step - loss: 0.0580 - mae: 0.1848 - val_loss: 0.0614 - val_mae: 0.1896\n",
      "Epoch 52/100\n",
      "5/5 [==============================] - 0s 72ms/step - loss: 0.0614 - mae: 0.1912 - val_loss: 0.0598 - val_mae: 0.1924\n",
      "Epoch 53/100\n",
      "5/5 [==============================] - 0s 73ms/step - loss: 0.0623 - mae: 0.1937 - val_loss: 0.0698 - val_mae: 0.2148\n",
      "Epoch 54/100\n",
      "5/5 [==============================] - 0s 72ms/step - loss: 0.0679 - mae: 0.2042 - val_loss: 0.0637 - val_mae: 0.2004\n",
      "Epoch 55/100\n",
      "5/5 [==============================] - 0s 72ms/step - loss: 0.0667 - mae: 0.2006 - val_loss: 0.0575 - val_mae: 0.1859\n",
      "Epoch 56/100\n",
      "1/5 [=====>........................] - ETA: 0s - loss: 0.0593 - mae: 0.1839"
     ]
    },
    {
     "name": "stderr",
     "output_type": "stream",
     "text": [
      "WARNING:absl:Found untraced functions such as lstm_cell_layer_call_fn, lstm_cell_layer_call_and_return_conditional_losses while saving (showing 2 of 2). These functions will not be directly callable after loading.\n"
     ]
    },
    {
     "name": "stdout",
     "output_type": "stream",
     "text": [
      "INFO:tensorflow:Assets written to: C:\\Users\\PARK\\Documents\\LAB\\RNN vs LSTM\\FInal Example\\wandb\\run-20221018_160447-3k76sywi\\files\\model-best\\assets\n"
     ]
    },
    {
     "name": "stderr",
     "output_type": "stream",
     "text": [
      "INFO:tensorflow:Assets written to: C:\\Users\\PARK\\Documents\\LAB\\RNN vs LSTM\\FInal Example\\wandb\\run-20221018_160447-3k76sywi\\files\\model-best\\assets\n",
      "\u001b[34m\u001b[1mwandb\u001b[0m: Adding directory to artifact (C:\\Users\\PARK\\Documents\\LAB\\RNN vs LSTM\\FInal Example\\wandb\\run-20221018_160447-3k76sywi\\files\\model-best)... Done. 0.1s\n"
     ]
    },
    {
     "name": "stdout",
     "output_type": "stream",
     "text": [
      "5/5 [==============================] - 4s 1s/step - loss: 0.0597 - mae: 0.1878 - val_loss: 0.0560 - val_mae: 0.1801\n",
      "Epoch 57/100\n",
      "5/5 [==============================] - 1s 112ms/step - loss: 0.0590 - mae: 0.1869 - val_loss: 0.0569 - val_mae: 0.1814\n",
      "Epoch 58/100\n",
      "5/5 [==============================] - 0s 75ms/step - loss: 0.0579 - mae: 0.1847 - val_loss: 0.0592 - val_mae: 0.1861\n",
      "Epoch 59/100\n",
      "5/5 [==============================] - 0s 73ms/step - loss: 0.0568 - mae: 0.1820 - val_loss: 0.0566 - val_mae: 0.1809\n",
      "Epoch 60/100\n",
      "5/5 [==============================] - 0s 72ms/step - loss: 0.0560 - mae: 0.1813 - val_loss: 0.0578 - val_mae: 0.1826\n",
      "Epoch 61/100\n",
      "5/5 [==============================] - 0s 73ms/step - loss: 0.0567 - mae: 0.1820 - val_loss: 0.0579 - val_mae: 0.1831\n",
      "Epoch 62/100\n",
      "1/5 [=====>........................] - ETA: 0s - loss: 0.0530 - mae: 0.1730"
     ]
    },
    {
     "name": "stderr",
     "output_type": "stream",
     "text": [
      "WARNING:absl:Found untraced functions such as lstm_cell_layer_call_fn, lstm_cell_layer_call_and_return_conditional_losses while saving (showing 2 of 2). These functions will not be directly callable after loading.\n"
     ]
    },
    {
     "name": "stdout",
     "output_type": "stream",
     "text": [
      "INFO:tensorflow:Assets written to: C:\\Users\\PARK\\Documents\\LAB\\RNN vs LSTM\\FInal Example\\wandb\\run-20221018_160447-3k76sywi\\files\\model-best\\assets\n"
     ]
    },
    {
     "name": "stderr",
     "output_type": "stream",
     "text": [
      "INFO:tensorflow:Assets written to: C:\\Users\\PARK\\Documents\\LAB\\RNN vs LSTM\\FInal Example\\wandb\\run-20221018_160447-3k76sywi\\files\\model-best\\assets\n",
      "\u001b[34m\u001b[1mwandb\u001b[0m: Adding directory to artifact (C:\\Users\\PARK\\Documents\\LAB\\RNN vs LSTM\\FInal Example\\wandb\\run-20221018_160447-3k76sywi\\files\\model-best)... Done. 0.1s\n"
     ]
    },
    {
     "name": "stdout",
     "output_type": "stream",
     "text": [
      "5/5 [==============================] - 4s 1s/step - loss: 0.0570 - mae: 0.1835 - val_loss: 0.0558 - val_mae: 0.1793\n",
      "Epoch 63/100\n",
      "5/5 [==============================] - 1s 123ms/step - loss: 0.0560 - mae: 0.1801 - val_loss: 0.0573 - val_mae: 0.1851\n",
      "Epoch 64/100\n",
      "5/5 [==============================] - 0s 94ms/step - loss: 0.0585 - mae: 0.1860 - val_loss: 0.0574 - val_mae: 0.1859\n",
      "Epoch 65/100\n",
      "5/5 [==============================] - 0s 81ms/step - loss: 0.0573 - mae: 0.1838 - val_loss: 0.0563 - val_mae: 0.1829\n",
      "Epoch 66/100\n",
      "5/5 [==============================] - 0s 71ms/step - loss: 0.0567 - mae: 0.1836 - val_loss: 0.0623 - val_mae: 0.1896\n",
      "Epoch 67/100\n",
      "5/5 [==============================] - 0s 72ms/step - loss: 0.0573 - mae: 0.1850 - val_loss: 0.0583 - val_mae: 0.1828\n",
      "Epoch 68/100\n",
      "5/5 [==============================] - 0s 70ms/step - loss: 0.0564 - mae: 0.1820 - val_loss: 0.0559 - val_mae: 0.1809\n",
      "Epoch 69/100\n",
      "5/5 [==============================] - 0s 71ms/step - loss: 0.0551 - mae: 0.1792 - val_loss: 0.0575 - val_mae: 0.1817\n",
      "Epoch 70/100\n",
      "5/5 [==============================] - 0s 71ms/step - loss: 0.0556 - mae: 0.1800 - val_loss: 0.0580 - val_mae: 0.1829\n",
      "Epoch 71/100\n",
      "1/5 [=====>........................] - ETA: 0s - loss: 0.0562 - mae: 0.1785"
     ]
    },
    {
     "name": "stderr",
     "output_type": "stream",
     "text": [
      "WARNING:absl:Found untraced functions such as lstm_cell_layer_call_fn, lstm_cell_layer_call_and_return_conditional_losses while saving (showing 2 of 2). These functions will not be directly callable after loading.\n"
     ]
    },
    {
     "name": "stdout",
     "output_type": "stream",
     "text": [
      "INFO:tensorflow:Assets written to: C:\\Users\\PARK\\Documents\\LAB\\RNN vs LSTM\\FInal Example\\wandb\\run-20221018_160447-3k76sywi\\files\\model-best\\assets\n"
     ]
    },
    {
     "name": "stderr",
     "output_type": "stream",
     "text": [
      "INFO:tensorflow:Assets written to: C:\\Users\\PARK\\Documents\\LAB\\RNN vs LSTM\\FInal Example\\wandb\\run-20221018_160447-3k76sywi\\files\\model-best\\assets\n",
      "\u001b[34m\u001b[1mwandb\u001b[0m: Adding directory to artifact (C:\\Users\\PARK\\Documents\\LAB\\RNN vs LSTM\\FInal Example\\wandb\\run-20221018_160447-3k76sywi\\files\\model-best)... Done. 0.1s\n"
     ]
    },
    {
     "name": "stdout",
     "output_type": "stream",
     "text": [
      "5/5 [==============================] - 4s 1s/step - loss: 0.0561 - mae: 0.1811 - val_loss: 0.0555 - val_mae: 0.1815\n",
      "Epoch 72/100\n",
      "5/5 [==============================] - 1s 129ms/step - loss: 0.0559 - mae: 0.1820 - val_loss: 0.0558 - val_mae: 0.1831\n",
      "Epoch 73/100\n",
      "5/5 [==============================] - 0s 95ms/step - loss: 0.0570 - mae: 0.1832 - val_loss: 0.0573 - val_mae: 0.1828\n",
      "Epoch 74/100\n",
      "5/5 [==============================] - 0s 84ms/step - loss: 0.0553 - mae: 0.1803 - val_loss: 0.0556 - val_mae: 0.1814\n",
      "Epoch 75/100\n",
      "5/5 [==============================] - 0s 75ms/step - loss: 0.0565 - mae: 0.1828 - val_loss: 0.0612 - val_mae: 0.1885\n",
      "Epoch 76/100\n",
      "5/5 [==============================] - 0s 74ms/step - loss: 0.0571 - mae: 0.1838 - val_loss: 0.0601 - val_mae: 0.1844\n",
      "Epoch 77/100\n",
      "1/5 [=====>........................] - ETA: 0s - loss: 0.0548 - mae: 0.1757"
     ]
    },
    {
     "name": "stderr",
     "output_type": "stream",
     "text": [
      "WARNING:absl:Found untraced functions such as lstm_cell_layer_call_fn, lstm_cell_layer_call_and_return_conditional_losses while saving (showing 2 of 2). These functions will not be directly callable after loading.\n"
     ]
    },
    {
     "name": "stdout",
     "output_type": "stream",
     "text": [
      "INFO:tensorflow:Assets written to: C:\\Users\\PARK\\Documents\\LAB\\RNN vs LSTM\\FInal Example\\wandb\\run-20221018_160447-3k76sywi\\files\\model-best\\assets\n"
     ]
    },
    {
     "name": "stderr",
     "output_type": "stream",
     "text": [
      "INFO:tensorflow:Assets written to: C:\\Users\\PARK\\Documents\\LAB\\RNN vs LSTM\\FInal Example\\wandb\\run-20221018_160447-3k76sywi\\files\\model-best\\assets\n",
      "\u001b[34m\u001b[1mwandb\u001b[0m: Adding directory to artifact (C:\\Users\\PARK\\Documents\\LAB\\RNN vs LSTM\\FInal Example\\wandb\\run-20221018_160447-3k76sywi\\files\\model-best)... Done. 0.1s\n"
     ]
    },
    {
     "name": "stdout",
     "output_type": "stream",
     "text": [
      "5/5 [==============================] - 4s 1s/step - loss: 0.0564 - mae: 0.1824 - val_loss: 0.0554 - val_mae: 0.1798\n",
      "Epoch 78/100\n",
      "5/5 [==============================] - 0s 109ms/step - loss: 0.0572 - mae: 0.1832 - val_loss: 0.0568 - val_mae: 0.1838\n",
      "Epoch 79/100\n",
      "5/5 [==============================] - 0s 75ms/step - loss: 0.0550 - mae: 0.1797 - val_loss: 0.0556 - val_mae: 0.1830\n",
      "Epoch 80/100\n",
      "5/5 [==============================] - 0s 75ms/step - loss: 0.0552 - mae: 0.1799 - val_loss: 0.0560 - val_mae: 0.1802\n",
      "Epoch 81/100\n",
      "5/5 [==============================] - 0s 72ms/step - loss: 0.0545 - mae: 0.1785 - val_loss: 0.0557 - val_mae: 0.1809\n",
      "Epoch 82/100\n",
      "1/5 [=====>........................] - ETA: 0s - loss: 0.0589 - mae: 0.1873"
     ]
    },
    {
     "name": "stderr",
     "output_type": "stream",
     "text": [
      "WARNING:absl:Found untraced functions such as lstm_cell_layer_call_fn, lstm_cell_layer_call_and_return_conditional_losses while saving (showing 2 of 2). These functions will not be directly callable after loading.\n"
     ]
    },
    {
     "name": "stdout",
     "output_type": "stream",
     "text": [
      "INFO:tensorflow:Assets written to: C:\\Users\\PARK\\Documents\\LAB\\RNN vs LSTM\\FInal Example\\wandb\\run-20221018_160447-3k76sywi\\files\\model-best\\assets\n"
     ]
    },
    {
     "name": "stderr",
     "output_type": "stream",
     "text": [
      "INFO:tensorflow:Assets written to: C:\\Users\\PARK\\Documents\\LAB\\RNN vs LSTM\\FInal Example\\wandb\\run-20221018_160447-3k76sywi\\files\\model-best\\assets\n",
      "\u001b[34m\u001b[1mwandb\u001b[0m: Adding directory to artifact (C:\\Users\\PARK\\Documents\\LAB\\RNN vs LSTM\\FInal Example\\wandb\\run-20221018_160447-3k76sywi\\files\\model-best)... Done. 0.1s\n"
     ]
    },
    {
     "name": "stdout",
     "output_type": "stream",
     "text": [
      "5/5 [==============================] - 4s 1s/step - loss: 0.0546 - mae: 0.1787 - val_loss: 0.0548 - val_mae: 0.1785\n",
      "Epoch 83/100\n",
      "5/5 [==============================] - 1s 118ms/step - loss: 0.0557 - mae: 0.1804 - val_loss: 0.0557 - val_mae: 0.1792\n",
      "Epoch 84/100\n",
      "5/5 [==============================] - 0s 76ms/step - loss: 0.0548 - mae: 0.1797 - val_loss: 0.0567 - val_mae: 0.1816\n",
      "Epoch 85/100\n",
      "5/5 [==============================] - 0s 75ms/step - loss: 0.0544 - mae: 0.1786 - val_loss: 0.0567 - val_mae: 0.1811\n",
      "Epoch 86/100\n",
      "5/5 [==============================] - 0s 73ms/step - loss: 0.0552 - mae: 0.1803 - val_loss: 0.0560 - val_mae: 0.1825\n",
      "Epoch 87/100\n",
      "5/5 [==============================] - 0s 73ms/step - loss: 0.0548 - mae: 0.1792 - val_loss: 0.0598 - val_mae: 0.1939\n",
      "Epoch 88/100\n",
      "5/5 [==============================] - 0s 73ms/step - loss: 0.0564 - mae: 0.1830 - val_loss: 0.0559 - val_mae: 0.1817\n",
      "Epoch 89/100\n",
      "5/5 [==============================] - 0s 72ms/step - loss: 0.0555 - mae: 0.1810 - val_loss: 0.0575 - val_mae: 0.1810\n",
      "Epoch 90/100\n",
      "5/5 [==============================] - 0s 72ms/step - loss: 0.0549 - mae: 0.1800 - val_loss: 0.0588 - val_mae: 0.1839\n",
      "Epoch 91/100\n",
      "5/5 [==============================] - 0s 73ms/step - loss: 0.0555 - mae: 0.1819 - val_loss: 0.0588 - val_mae: 0.1840\n",
      "Epoch 92/100\n",
      "1/5 [=====>........................] - ETA: 0s - loss: 0.0540 - mae: 0.1755"
     ]
    },
    {
     "name": "stderr",
     "output_type": "stream",
     "text": [
      "WARNING:absl:Found untraced functions such as lstm_cell_layer_call_fn, lstm_cell_layer_call_and_return_conditional_losses while saving (showing 2 of 2). These functions will not be directly callable after loading.\n"
     ]
    },
    {
     "name": "stdout",
     "output_type": "stream",
     "text": [
      "INFO:tensorflow:Assets written to: C:\\Users\\PARK\\Documents\\LAB\\RNN vs LSTM\\FInal Example\\wandb\\run-20221018_160447-3k76sywi\\files\\model-best\\assets\n"
     ]
    },
    {
     "name": "stderr",
     "output_type": "stream",
     "text": [
      "INFO:tensorflow:Assets written to: C:\\Users\\PARK\\Documents\\LAB\\RNN vs LSTM\\FInal Example\\wandb\\run-20221018_160447-3k76sywi\\files\\model-best\\assets\n",
      "\u001b[34m\u001b[1mwandb\u001b[0m: Adding directory to artifact (C:\\Users\\PARK\\Documents\\LAB\\RNN vs LSTM\\FInal Example\\wandb\\run-20221018_160447-3k76sywi\\files\\model-best)... Done. 0.1s\n"
     ]
    },
    {
     "name": "stdout",
     "output_type": "stream",
     "text": [
      "5/5 [==============================] - 4s 995ms/step - loss: 0.0551 - mae: 0.1797 - val_loss: 0.0543 - val_mae: 0.1776\n",
      "Epoch 93/100\n",
      "5/5 [==============================] - 1s 115ms/step - loss: 0.0558 - mae: 0.1813 - val_loss: 0.0610 - val_mae: 0.1953\n",
      "Epoch 94/100\n",
      "5/5 [==============================] - 0s 75ms/step - loss: 0.0578 - mae: 0.1870 - val_loss: 0.0558 - val_mae: 0.1806\n",
      "Epoch 95/100\n",
      "5/5 [==============================] - 0s 74ms/step - loss: 0.0547 - mae: 0.1798 - val_loss: 0.0575 - val_mae: 0.1829\n",
      "Epoch 96/100\n",
      "5/5 [==============================] - 0s 72ms/step - loss: 0.0581 - mae: 0.1869 - val_loss: 0.0608 - val_mae: 0.1873\n",
      "Epoch 97/100\n",
      "5/5 [==============================] - 0s 72ms/step - loss: 0.0553 - mae: 0.1807 - val_loss: 0.0580 - val_mae: 0.1823\n",
      "Epoch 98/100\n",
      "1/5 [=====>........................] - ETA: 0s - loss: 0.0514 - mae: 0.1704"
     ]
    },
    {
     "name": "stderr",
     "output_type": "stream",
     "text": [
      "WARNING:absl:Found untraced functions such as lstm_cell_layer_call_fn, lstm_cell_layer_call_and_return_conditional_losses while saving (showing 2 of 2). These functions will not be directly callable after loading.\n"
     ]
    },
    {
     "name": "stdout",
     "output_type": "stream",
     "text": [
      "INFO:tensorflow:Assets written to: C:\\Users\\PARK\\Documents\\LAB\\RNN vs LSTM\\FInal Example\\wandb\\run-20221018_160447-3k76sywi\\files\\model-best\\assets\n"
     ]
    },
    {
     "name": "stderr",
     "output_type": "stream",
     "text": [
      "INFO:tensorflow:Assets written to: C:\\Users\\PARK\\Documents\\LAB\\RNN vs LSTM\\FInal Example\\wandb\\run-20221018_160447-3k76sywi\\files\\model-best\\assets\n",
      "\u001b[34m\u001b[1mwandb\u001b[0m: Adding directory to artifact (C:\\Users\\PARK\\Documents\\LAB\\RNN vs LSTM\\FInal Example\\wandb\\run-20221018_160447-3k76sywi\\files\\model-best)... Done. 0.1s\n"
     ]
    },
    {
     "name": "stdout",
     "output_type": "stream",
     "text": [
      "5/5 [==============================] - 4s 1s/step - loss: 0.0537 - mae: 0.1772 - val_loss: 0.0538 - val_mae: 0.1763\n",
      "Epoch 99/100\n",
      "5/5 [==============================] - 1s 111ms/step - loss: 0.0526 - mae: 0.1765 - val_loss: 0.0553 - val_mae: 0.1808\n",
      "Epoch 100/100\n",
      "1/5 [=====>........................] - ETA: 0s - loss: 0.0529 - mae: 0.1769"
     ]
    },
    {
     "name": "stderr",
     "output_type": "stream",
     "text": [
      "WARNING:absl:Found untraced functions such as lstm_cell_layer_call_fn, lstm_cell_layer_call_and_return_conditional_losses while saving (showing 2 of 2). These functions will not be directly callable after loading.\n"
     ]
    },
    {
     "name": "stdout",
     "output_type": "stream",
     "text": [
      "INFO:tensorflow:Assets written to: C:\\Users\\PARK\\Documents\\LAB\\RNN vs LSTM\\FInal Example\\wandb\\run-20221018_160447-3k76sywi\\files\\model-best\\assets\n"
     ]
    },
    {
     "name": "stderr",
     "output_type": "stream",
     "text": [
      "INFO:tensorflow:Assets written to: C:\\Users\\PARK\\Documents\\LAB\\RNN vs LSTM\\FInal Example\\wandb\\run-20221018_160447-3k76sywi\\files\\model-best\\assets\n",
      "\u001b[34m\u001b[1mwandb\u001b[0m: Adding directory to artifact (C:\\Users\\PARK\\Documents\\LAB\\RNN vs LSTM\\FInal Example\\wandb\\run-20221018_160447-3k76sywi\\files\\model-best)... Done. 0.1s\n"
     ]
    },
    {
     "name": "stdout",
     "output_type": "stream",
     "text": [
      "\b\b\b\b\b\b\b\b\b\b\b\b\b\b\b\b\b\b\b\b\b\b\b\b\b\b\b\b\b\b\b\b\b\b\b\b\b\b\b\b\b\b\b\b\b\b\b\b\b\b\b\b\b\b\b\b\b\b\b\b\b\b\b\b\b\b\b\b\b\b\b\b\b\b\b\r",
      "5/5 [==============================] - 4s 995ms/step - loss: 0.0507 - mae: 0.1738 - val_loss: 0.0513 - val_mae: 0.1734\n"
     ]
    }
   ],
   "source": [
    "from tensorflow.keras import datasets, layers, models\n",
    "from tensorflow import keras\n",
    "from tensorflow.keras import layers\n",
    "\n",
    "model = models.Sequential()\n",
    "model.add(layers.LSTM(1024, input_shape=(time_step,2)))\n",
    "model.add(layers.Dense(25))\n",
    "\n",
    "model.summary()\n",
    "\n",
    "model.compile(optimizer='adam', loss='mse', metrics=['mae'])\n",
    "\n",
    "history = model.fit(train_input, train_label, epochs=100, verbose=1, shuffle=True, validation_split=0.20,\n",
    "                   callbacks=[WandbCallback(log_weights=True, log_gradients=True, training_data=(train_input, train_label))])"
   ]
  },
  {
   "cell_type": "code",
   "execution_count": 17,
   "id": "f2977e3d",
   "metadata": {},
   "outputs": [
    {
     "name": "stdout",
     "output_type": "stream",
     "text": [
      "1/1 [==============================] - 0s 214ms/step\n"
     ]
    }
   ],
   "source": [
    "test_input = test_input.reshape(1, test_input.shape[0], test_input.shape[1])\n",
    "\n",
    "y_hat = model.predict(test_input)"
   ]
  },
  {
   "cell_type": "code",
   "execution_count": 18,
   "id": "569d2b27",
   "metadata": {},
   "outputs": [
    {
     "data": {
      "text/plain": [
       "(1, 100, 2)"
      ]
     },
     "execution_count": 18,
     "metadata": {},
     "output_type": "execute_result"
    }
   ],
   "source": [
    "test_input.shape"
   ]
  },
  {
   "cell_type": "code",
   "execution_count": 19,
   "id": "6b083de8",
   "metadata": {},
   "outputs": [],
   "source": [
    "test_label = test_label.reshape(1, test_label.shape[0], test_label.shape[1])"
   ]
  },
  {
   "cell_type": "code",
   "execution_count": 20,
   "id": "54e7a073",
   "metadata": {},
   "outputs": [
    {
     "data": {
      "text/plain": [
       "(1, 25, 1)"
      ]
     },
     "execution_count": 20,
     "metadata": {},
     "output_type": "execute_result"
    }
   ],
   "source": [
    "test_label.shape"
   ]
  },
  {
   "cell_type": "code",
   "execution_count": 21,
   "id": "b3e0c133",
   "metadata": {},
   "outputs": [
    {
     "data": {
      "text/plain": [
       "array([[1.6479677, 1.5842699, 1.5490075, 1.4860902, 1.6522056, 1.7263751,\n",
       "        1.7042243, 1.8291502, 2.0048933, 2.0483663, 2.1257725, 2.0325851,\n",
       "        1.7861878, 1.5669935, 1.5344939, 1.6609273, 1.8324095, 1.8389392,\n",
       "        1.9013555, 1.9323572, 2.1448748, 2.2281811, 2.2422612, 2.1615655,\n",
       "        1.8617542]], dtype=float32)"
      ]
     },
     "execution_count": 21,
     "metadata": {},
     "output_type": "execute_result"
    }
   ],
   "source": [
    "y_hat"
   ]
  },
  {
   "cell_type": "code",
   "execution_count": 22,
   "id": "e37311d1",
   "metadata": {},
   "outputs": [
    {
     "data": {
      "text/plain": [
       "(1, 25)"
      ]
     },
     "execution_count": 22,
     "metadata": {},
     "output_type": "execute_result"
    }
   ],
   "source": [
    "y_hat.shape"
   ]
  },
  {
   "cell_type": "code",
   "execution_count": 23,
   "id": "ad0f0285",
   "metadata": {},
   "outputs": [],
   "source": [
    "y_hat = y_hat.reshape(y_hat.shape[1], 1)"
   ]
  },
  {
   "cell_type": "code",
   "execution_count": 24,
   "id": "69ea1f6f",
   "metadata": {},
   "outputs": [],
   "source": [
    "y_hat = (y_hat*data_std)+data_mean"
   ]
  },
  {
   "cell_type": "code",
   "execution_count": 25,
   "id": "702f2214",
   "metadata": {},
   "outputs": [],
   "source": [
    "#print(scaler.data_max_)"
   ]
  },
  {
   "cell_type": "code",
   "execution_count": 26,
   "id": "1ca1a387",
   "metadata": {},
   "outputs": [],
   "source": [
    "#print(scaler.data_min_)"
   ]
  },
  {
   "cell_type": "code",
   "execution_count": 27,
   "id": "5e40982b",
   "metadata": {},
   "outputs": [],
   "source": [
    "#y_hat = y_hat * (scaler.data_max_[1]-scaler.data_min_[1]) + scaler.data_min_[1]"
   ]
  },
  {
   "cell_type": "code",
   "execution_count": 28,
   "id": "902bb0d7",
   "metadata": {},
   "outputs": [
    {
     "data": {
      "text/plain": [
       "Text(0.5, 1.0, 'LSTM prediction')"
      ]
     },
     "execution_count": 28,
     "metadata": {},
     "output_type": "execute_result"
    },
    {
     "data": {
      "image/png": "[encoded data removed]",
      "text/plain": [
       "<Figure size 1008x576 with 1 Axes>"
      ]
     },
     "metadata": {
      "needs_background": "light"
     },
     "output_type": "display_data"
    }
   ],
   "source": [
    "import matplotlib.pyplot as plt\n",
    "\n",
    "x = range(325)\n",
    "plt.figure(figsize=(14,8))\n",
    "plt.plot(df[300:325]['Sales'], label='original')\n",
    "plt.plot(x[300:325], y_hat, label='prediction')\n",
    "plt.legend()\n",
    "plt.xlabel('Sequence', fontsize=20)\n",
    "plt.ylabel('Sales', fontsize=20)\n",
    "plt.title('LSTM prediction', fontsize=25)"
   ]
  },
  {
   "cell_type": "code",
   "execution_count": 29,
   "id": "051887d3",
   "metadata": {
    "scrolled": true
   },
   "outputs": [
    {
     "name": "stdout",
     "output_type": "stream",
     "text": [
      "1/1 [==============================] - 0s 66ms/step - loss: 0.1241 - mae: 0.2902\n"
     ]
    },
    {
     "data": {
      "text/plain": [
       "[0.12405888736248016, 0.29020407795906067]"
      ]
     },
     "execution_count": 29,
     "metadata": {},
     "output_type": "execute_result"
    }
   ],
   "source": [
    "model.evaluate(test_input, test_label)"
   ]
  },
  {
   "cell_type": "code",
   "execution_count": null,
   "id": "2819448e",
   "metadata": {},
   "outputs": [],
   "source": []
  }
 ],
 "metadata": {
  "kernelspec": {
   "display_name": "Python 3 (ipykernel)",
   "language": "python",
   "name": "python3"
  },
  "language_info": {
   "codemirror_mode": {
    "name": "ipython",
    "version": 3
   },
   "file_extension": ".py",
   "mimetype": "text/x-python",
   "name": "python",
   "nbconvert_exporter": "python",
   "pygments_lexer": "ipython3",
   "version": "3.9.12"
  }
 },
 "nbformat": 4,
 "nbformat_minor": 5
}
