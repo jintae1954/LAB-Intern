{
 "cells": [
  {
   "cell_type": "code",
   "execution_count": 1,
   "id": "650bae84",
   "metadata": {},
   "outputs": [
    {
     "name": "stderr",
     "output_type": "stream",
     "text": [
      "\u001b[34m\u001b[1mwandb\u001b[0m: Currently logged in as: \u001b[33mjintae\u001b[0m. Use \u001b[1m`wandb login --relogin`\u001b[0m to force relogin\n"
     ]
    },
    {
     "data": {
      "text/html": [
       "Tracking run with wandb version 0.13.4"
      ],
      "text/plain": [
       "<IPython.core.display.HTML object>"
      ]
     },
     "metadata": {},
     "output_type": "display_data"
    },
    {
     "data": {
      "text/html": [
       "Run data is saved locally in <code>C:\\Users\\PARK\\Documents\\LAB\\RNN vs LSTM\\FInal Example\\wandb\\run-20221015_232458-2o28d6uf</code>"
      ],
      "text/plain": [
       "<IPython.core.display.HTML object>"
      ]
     },
     "metadata": {},
     "output_type": "display_data"
    },
    {
     "data": {
      "text/html": [
       "Syncing run <strong><a href=\"https://wandb.ai/jintae/RNN%20seq%202048./runs/2o28d6uf\" target=\"_blank\">epoch 50</a></strong> to <a href=\"https://wandb.ai/jintae/RNN%20seq%202048.\" target=\"_blank\">Weights & Biases</a> (<a href=\"https://wandb.me/run\" target=\"_blank\">docs</a>)<br/>"
      ],
      "text/plain": [
       "<IPython.core.display.HTML object>"
      ]
     },
     "metadata": {},
     "output_type": "display_data"
    },
    {
     "data": {
      "text/html": [
       "<button onClick=\"this.nextSibling.style.display='block';this.style.display='none';\">Display W&B run</button><iframe src=\"https://wandb.ai/jintae/RNN%20seq%202048./runs/2o28d6uf?jupyter=true\" style=\"border:none;width:100%;height:420px;display:none;\"></iframe>"
      ],
      "text/plain": [
       "<wandb.sdk.wandb_run.Run at 0x11a749c2520>"
      ]
     },
     "execution_count": 1,
     "metadata": {},
     "output_type": "execute_result"
    }
   ],
   "source": [
    "import wandb\n",
    "from wandb.keras import WandbCallback\n",
    "wandb.init(project=\"RNN seq 2048.\", name=\"epoch 50\")"
   ]
  },
  {
   "cell_type": "code",
   "execution_count": 2,
   "id": "7ae35e1f",
   "metadata": {},
   "outputs": [
    {
     "name": "stdout",
     "output_type": "stream",
     "text": [
      "   DATE  Sales\n",
      "0     0   3459\n",
      "1     1   3458\n",
      "2     2   4002\n",
      "3     3   4564\n",
      "4     4   4221\n"
     ]
    }
   ],
   "source": [
    "import pandas as pd\n",
    "\n",
    "df = pd.read_csv('C:/Users/PARK/Desktop/Alcohol_Sales.csv')\n",
    "print(df.head())"
   ]
  },
  {
   "cell_type": "code",
   "execution_count": 3,
   "id": "71e18e17",
   "metadata": {},
   "outputs": [
    {
     "data": {
      "text/plain": [
       "(325, 2)"
      ]
     },
     "execution_count": 3,
     "metadata": {},
     "output_type": "execute_result"
    }
   ],
   "source": [
    "df.shape"
   ]
  },
  {
   "cell_type": "code",
   "execution_count": 4,
   "id": "5f4f8fb7",
   "metadata": {},
   "outputs": [],
   "source": [
    "import numpy as np\n",
    "\n",
    "data = df.to_numpy()"
   ]
  },
  {
   "cell_type": "code",
   "execution_count": 5,
   "id": "c6063052",
   "metadata": {},
   "outputs": [
    {
     "data": {
      "text/plain": [
       "(325, 2)"
      ]
     },
     "execution_count": 5,
     "metadata": {},
     "output_type": "execute_result"
    }
   ],
   "source": [
    "data.shape"
   ]
  },
  {
   "cell_type": "code",
   "execution_count": 6,
   "id": "01930485",
   "metadata": {},
   "outputs": [
    {
     "data": {
      "text/plain": [
       "array([[   0, 3459],\n",
       "       [   1, 3458],\n",
       "       [   2, 4002],\n",
       "       [   3, 4564],\n",
       "       [   4, 4221]], dtype=int64)"
      ]
     },
     "execution_count": 6,
     "metadata": {},
     "output_type": "execute_result"
    }
   ],
   "source": [
    "data[0:5]"
   ]
  },
  {
   "cell_type": "code",
   "execution_count": 7,
   "id": "ad83b404",
   "metadata": {},
   "outputs": [],
   "source": [
    "# from sklearn.preprocessing import MinMaxScaler\n",
    "\n",
    "# scaler = MinMaxScaler()\n",
    "\n",
    "# data = scaler.fit_transform(data)"
   ]
  },
  {
   "cell_type": "code",
   "execution_count": 8,
   "id": "17aef2ea",
   "metadata": {},
   "outputs": [],
   "source": [
    "data_mean = data.mean()\n",
    "data_std = data.std()\n",
    "\n",
    "data = (data - data_mean)/data_std"
   ]
  },
  {
   "cell_type": "code",
   "execution_count": 9,
   "id": "63fe0032",
   "metadata": {},
   "outputs": [
    {
     "data": {
      "text/plain": [
       "array([[-0.9194862 , -0.12914209],\n",
       "       [-0.91925771, -0.12937058],\n",
       "       [-0.91902922, -0.00507246],\n",
       "       [-0.91880073,  0.12333846],\n",
       "       [-0.91857224,  0.04496667]])"
      ]
     },
     "execution_count": 9,
     "metadata": {},
     "output_type": "execute_result"
    }
   ],
   "source": [
    "data[0:5]"
   ]
  },
  {
   "cell_type": "code",
   "execution_count": 10,
   "id": "87ac24ef",
   "metadata": {
    "scrolled": true
   },
   "outputs": [],
   "source": [
    "train_input = []\n",
    "train_label = []\n",
    "\n",
    "data_len = 325\n",
    "time_step = 100\n",
    "out_dim = 25\n",
    "\n",
    "for i in range(176):\n",
    "    _input = data[i:i+time_step]\n",
    "    _label = data[i+time_step:i+time_step+out_dim]\n",
    "    \n",
    "    train_input.append(_input)\n",
    "    train_label.append(_label)\n",
    "    \n",
    "\n",
    "train_input = np.array(train_input)\n",
    "train_label = np.array(train_label)\n",
    "train_label = np.delete(train_label, 0, axis=2)\n",
    "\n",
    "\n",
    "test_input = np.array(data[data_len-out_dim-time_step:data_len-out_dim])\n",
    "test_label =np.array(data[300:325])\n",
    "test_label = np.delete(test_label, 0, axis=1)"
   ]
  },
  {
   "cell_type": "code",
   "execution_count": 11,
   "id": "41975dc7",
   "metadata": {},
   "outputs": [
    {
     "data": {
      "text/plain": [
       "(176, 100, 2)"
      ]
     },
     "execution_count": 11,
     "metadata": {},
     "output_type": "execute_result"
    }
   ],
   "source": [
    "train_input.shape"
   ]
  },
  {
   "cell_type": "code",
   "execution_count": 12,
   "id": "b762c3ba",
   "metadata": {},
   "outputs": [
    {
     "data": {
      "text/plain": [
       "(176, 25, 1)"
      ]
     },
     "execution_count": 12,
     "metadata": {},
     "output_type": "execute_result"
    }
   ],
   "source": [
    "train_label.shape"
   ]
  },
  {
   "cell_type": "code",
   "execution_count": 13,
   "id": "127c63a2",
   "metadata": {},
   "outputs": [
    {
     "data": {
      "text/plain": [
       "(100, 2)"
      ]
     },
     "execution_count": 13,
     "metadata": {},
     "output_type": "execute_result"
    }
   ],
   "source": [
    "test_input.shape"
   ]
  },
  {
   "cell_type": "code",
   "execution_count": 14,
   "id": "6647472d",
   "metadata": {},
   "outputs": [
    {
     "data": {
      "text/plain": [
       "(25, 1)"
      ]
     },
     "execution_count": 14,
     "metadata": {},
     "output_type": "execute_result"
    }
   ],
   "source": [
    "test_label.shape"
   ]
  },
  {
   "cell_type": "code",
   "execution_count": 15,
   "id": "5d83c07f",
   "metadata": {},
   "outputs": [],
   "source": [
    "np.random.seed(10)\n",
    "shuffled_indices = np.random.permutation(np.arange(train_input.shape[0]))\n",
    "train_input = train_input[shuffled_indices, :, :]\n",
    "train_label = train_label[shuffled_indices, :]"
   ]
  },
  {
   "cell_type": "code",
   "execution_count": 16,
   "id": "164e14f4",
   "metadata": {},
   "outputs": [],
   "source": [
    "import torch\n",
    "import torch.nn as nn"
   ]
  },
  {
   "cell_type": "code",
   "execution_count": 17,
   "id": "a183926e",
   "metadata": {
    "scrolled": true
   },
   "outputs": [
    {
     "name": "stdout",
     "output_type": "stream",
     "text": [
      "Model: \"sequential\"\n",
      "_________________________________________________________________\n",
      " Layer (type)                Output Shape              Param #   \n",
      "=================================================================\n",
      " simple_rnn (SimpleRNN)      (None, 2048)              4200448   \n",
      "                                                                 \n",
      " dense (Dense)               (None, 25)                51225     \n",
      "                                                                 \n",
      "=================================================================\n",
      "Total params: 4,251,673\n",
      "Trainable params: 4,251,673\n",
      "Non-trainable params: 0\n",
      "_________________________________________________________________\n"
     ]
    },
    {
     "name": "stderr",
     "output_type": "stream",
     "text": [
      "\u001b[34m\u001b[1mwandb\u001b[0m: \u001b[33mWARNING\u001b[0m The save_model argument by default saves the model in the HDF5 format that cannot save custom objects like subclassed models and custom layers. This behavior will be deprecated in a future release in favor of the SavedModel format. Meanwhile, the HDF5 model is saved as W&B files and the SavedModel as W&B Artifacts.\n"
     ]
    },
    {
     "name": "stdout",
     "output_type": "stream",
     "text": [
      "Epoch 1/50\n",
      "5/5 [==============================] - ETA: 0s - loss: 3.3626 - mae: 1.3144INFO:tensorflow:Assets written to: C:\\Users\\PARK\\Documents\\LAB\\RNN vs LSTM\\FInal Example\\wandb\\run-20221015_232458-2o28d6uf\\files\\model-best\\assets\n"
     ]
    },
    {
     "name": "stderr",
     "output_type": "stream",
     "text": [
      "\u001b[34m\u001b[1mwandb\u001b[0m: Adding directory to artifact (C:\\Users\\PARK\\Documents\\LAB\\RNN vs LSTM\\FInal Example\\wandb\\run-20221015_232458-2o28d6uf\\files\\model-best)... Done. 0.1s\n"
     ]
    },
    {
     "name": "stdout",
     "output_type": "stream",
     "text": [
      "5/5 [==============================] - 5s 859ms/step - loss: 3.3626 - mae: 1.3144 - val_loss: 1.6797 - val_mae: 1.0170\n",
      "Epoch 2/50\n",
      "5/5 [==============================] - 1s 195ms/step - loss: 1.0671 - mae: 0.8264 - val_loss: 4.5027 - val_mae: 1.9664\n",
      "Epoch 3/50\n",
      "5/5 [==============================] - ETA: 0s - loss: 4.0127 - mae: 1.6159INFO:tensorflow:Assets written to: C:\\Users\\PARK\\Documents\\LAB\\RNN vs LSTM\\FInal Example\\wandb\\run-20221015_232458-2o28d6uf\\files\\model-best\\assets\n"
     ]
    },
    {
     "name": "stderr",
     "output_type": "stream",
     "text": [
      "\u001b[34m\u001b[1mwandb\u001b[0m: Adding directory to artifact (C:\\Users\\PARK\\Documents\\LAB\\RNN vs LSTM\\FInal Example\\wandb\\run-20221015_232458-2o28d6uf\\files\\model-best)... Done. 0.1s\n"
     ]
    },
    {
     "name": "stdout",
     "output_type": "stream",
     "text": [
      "5/5 [==============================] - 3s 707ms/step - loss: 4.0127 - mae: 1.6159 - val_loss: 0.8174 - val_mae: 0.7352\n",
      "Epoch 4/50\n",
      "5/5 [==============================] - 1s 227ms/step - loss: 2.0072 - mae: 1.1053 - val_loss: 0.8256 - val_mae: 0.7259\n",
      "Epoch 5/50\n",
      "5/5 [==============================] - 1s 184ms/step - loss: 1.3001 - mae: 0.9762 - val_loss: 1.9295 - val_mae: 1.2842\n",
      "Epoch 6/50\n",
      "5/5 [==============================] - 1s 184ms/step - loss: 0.9523 - mae: 0.8044 - val_loss: 1.0157 - val_mae: 0.8979\n",
      "Epoch 7/50\n",
      "5/5 [==============================] - ETA: 0s - loss: 0.8860 - mae: 0.8084INFO:tensorflow:Assets written to: C:\\Users\\PARK\\Documents\\LAB\\RNN vs LSTM\\FInal Example\\wandb\\run-20221015_232458-2o28d6uf\\files\\model-best\\assets\n"
     ]
    },
    {
     "name": "stderr",
     "output_type": "stream",
     "text": [
      "\u001b[34m\u001b[1mwandb\u001b[0m: Adding directory to artifact (C:\\Users\\PARK\\Documents\\LAB\\RNN vs LSTM\\FInal Example\\wandb\\run-20221015_232458-2o28d6uf\\files\\model-best)... Done. 0.1s\n"
     ]
    },
    {
     "name": "stdout",
     "output_type": "stream",
     "text": [
      "5/5 [==============================] - 2s 563ms/step - loss: 0.8860 - mae: 0.8084 - val_loss: 0.3725 - val_mae: 0.4964\n",
      "Epoch 8/50\n",
      "5/5 [==============================] - 1s 225ms/step - loss: 0.5155 - mae: 0.6028 - val_loss: 0.4735 - val_mae: 0.5548\n",
      "Epoch 9/50\n",
      "5/5 [==============================] - ETA: 0s - loss: 0.3824 - mae: 0.4990INFO:tensorflow:Assets written to: C:\\Users\\PARK\\Documents\\LAB\\RNN vs LSTM\\FInal Example\\wandb\\run-20221015_232458-2o28d6uf\\files\\model-best\\assets\n"
     ]
    },
    {
     "name": "stderr",
     "output_type": "stream",
     "text": [
      "\u001b[34m\u001b[1mwandb\u001b[0m: Adding directory to artifact (C:\\Users\\PARK\\Documents\\LAB\\RNN vs LSTM\\FInal Example\\wandb\\run-20221015_232458-2o28d6uf\\files\\model-best)... Done. 0.1s\n"
     ]
    },
    {
     "name": "stdout",
     "output_type": "stream",
     "text": [
      "5/5 [==============================] - 3s 613ms/step - loss: 0.3824 - mae: 0.4990 - val_loss: 0.3576 - val_mae: 0.4858\n",
      "Epoch 10/50\n",
      "5/5 [==============================] - ETA: 0s - loss: 0.3289 - mae: 0.4615INFO:tensorflow:Assets written to: C:\\Users\\PARK\\Documents\\LAB\\RNN vs LSTM\\FInal Example\\wandb\\run-20221015_232458-2o28d6uf\\files\\model-best\\assets\n"
     ]
    },
    {
     "name": "stderr",
     "output_type": "stream",
     "text": [
      "\u001b[34m\u001b[1mwandb\u001b[0m: Adding directory to artifact (C:\\Users\\PARK\\Documents\\LAB\\RNN vs LSTM\\FInal Example\\wandb\\run-20221015_232458-2o28d6uf\\files\\model-best)... Done. 0.1s\n"
     ]
    },
    {
     "name": "stdout",
     "output_type": "stream",
     "text": [
      "5/5 [==============================] - 3s 610ms/step - loss: 0.3289 - mae: 0.4615 - val_loss: 0.2735 - val_mae: 0.4281\n",
      "Epoch 11/50\n",
      "5/5 [==============================] - ETA: 0s - loss: 0.2700 - mae: 0.4269INFO:tensorflow:Assets written to: C:\\Users\\PARK\\Documents\\LAB\\RNN vs LSTM\\FInal Example\\wandb\\run-20221015_232458-2o28d6uf\\files\\model-best\\assets\n"
     ]
    },
    {
     "name": "stderr",
     "output_type": "stream",
     "text": [
      "\u001b[34m\u001b[1mwandb\u001b[0m: Adding directory to artifact (C:\\Users\\PARK\\Documents\\LAB\\RNN vs LSTM\\FInal Example\\wandb\\run-20221015_232458-2o28d6uf\\files\\model-best)... Done. 0.1s\n"
     ]
    },
    {
     "name": "stdout",
     "output_type": "stream",
     "text": [
      "5/5 [==============================] - 3s 626ms/step - loss: 0.2700 - mae: 0.4269 - val_loss: 0.2499 - val_mae: 0.4122\n",
      "Epoch 12/50\n",
      "5/5 [==============================] - ETA: 0s - loss: 0.2417 - mae: 0.4017INFO:tensorflow:Assets written to: C:\\Users\\PARK\\Documents\\LAB\\RNN vs LSTM\\FInal Example\\wandb\\run-20221015_232458-2o28d6uf\\files\\model-best\\assets\n"
     ]
    },
    {
     "name": "stderr",
     "output_type": "stream",
     "text": [
      "\u001b[34m\u001b[1mwandb\u001b[0m: Adding directory to artifact (C:\\Users\\PARK\\Documents\\LAB\\RNN vs LSTM\\FInal Example\\wandb\\run-20221015_232458-2o28d6uf\\files\\model-best)... Done. 0.1s\n"
     ]
    },
    {
     "name": "stdout",
     "output_type": "stream",
     "text": [
      "5/5 [==============================] - 3s 662ms/step - loss: 0.2417 - mae: 0.4017 - val_loss: 0.2263 - val_mae: 0.3873\n",
      "Epoch 13/50\n",
      "5/5 [==============================] - ETA: 0s - loss: 0.2189 - mae: 0.3833INFO:tensorflow:Assets written to: C:\\Users\\PARK\\Documents\\LAB\\RNN vs LSTM\\FInal Example\\wandb\\run-20221015_232458-2o28d6uf\\files\\model-best\\assets\n"
     ]
    },
    {
     "name": "stderr",
     "output_type": "stream",
     "text": [
      "\u001b[34m\u001b[1mwandb\u001b[0m: Adding directory to artifact (C:\\Users\\PARK\\Documents\\LAB\\RNN vs LSTM\\FInal Example\\wandb\\run-20221015_232458-2o28d6uf\\files\\model-best)... Done. 0.1s\n"
     ]
    },
    {
     "name": "stdout",
     "output_type": "stream",
     "text": [
      "5/5 [==============================] - 3s 619ms/step - loss: 0.2189 - mae: 0.3833 - val_loss: 0.2077 - val_mae: 0.3751\n",
      "Epoch 14/50\n",
      "5/5 [==============================] - ETA: 0s - loss: 0.2158 - mae: 0.3838INFO:tensorflow:Assets written to: C:\\Users\\PARK\\Documents\\LAB\\RNN vs LSTM\\FInal Example\\wandb\\run-20221015_232458-2o28d6uf\\files\\model-best\\assets\n"
     ]
    },
    {
     "name": "stderr",
     "output_type": "stream",
     "text": [
      "\u001b[34m\u001b[1mwandb\u001b[0m: Adding directory to artifact (C:\\Users\\PARK\\Documents\\LAB\\RNN vs LSTM\\FInal Example\\wandb\\run-20221015_232458-2o28d6uf\\files\\model-best)... Done. 0.1s\n"
     ]
    },
    {
     "name": "stdout",
     "output_type": "stream",
     "text": [
      "5/5 [==============================] - 3s 621ms/step - loss: 0.2158 - mae: 0.3838 - val_loss: 0.1886 - val_mae: 0.3637\n",
      "Epoch 15/50\n",
      "5/5 [==============================] - ETA: 0s - loss: 0.1938 - mae: 0.3644INFO:tensorflow:Assets written to: C:\\Users\\PARK\\Documents\\LAB\\RNN vs LSTM\\FInal Example\\wandb\\run-20221015_232458-2o28d6uf\\files\\model-best\\assets\n"
     ]
    },
    {
     "name": "stderr",
     "output_type": "stream",
     "text": [
      "\u001b[34m\u001b[1mwandb\u001b[0m: Adding directory to artifact (C:\\Users\\PARK\\Documents\\LAB\\RNN vs LSTM\\FInal Example\\wandb\\run-20221015_232458-2o28d6uf\\files\\model-best)... Done. 0.1s\n"
     ]
    },
    {
     "name": "stdout",
     "output_type": "stream",
     "text": [
      "5/5 [==============================] - 3s 607ms/step - loss: 0.1938 - mae: 0.3644 - val_loss: 0.1883 - val_mae: 0.3590\n",
      "Epoch 16/50\n",
      "5/5 [==============================] - ETA: 0s - loss: 0.1904 - mae: 0.3608INFO:tensorflow:Assets written to: C:\\Users\\PARK\\Documents\\LAB\\RNN vs LSTM\\FInal Example\\wandb\\run-20221015_232458-2o28d6uf\\files\\model-best\\assets\n"
     ]
    },
    {
     "name": "stderr",
     "output_type": "stream",
     "text": [
      "\u001b[34m\u001b[1mwandb\u001b[0m: Adding directory to artifact (C:\\Users\\PARK\\Documents\\LAB\\RNN vs LSTM\\FInal Example\\wandb\\run-20221015_232458-2o28d6uf\\files\\model-best)... Done. 0.1s\n"
     ]
    },
    {
     "name": "stdout",
     "output_type": "stream",
     "text": [
      "5/5 [==============================] - 3s 638ms/step - loss: 0.1904 - mae: 0.3608 - val_loss: 0.1844 - val_mae: 0.3596\n",
      "Epoch 17/50\n",
      "5/5 [==============================] - ETA: 0s - loss: 0.1845 - mae: 0.3573INFO:tensorflow:Assets written to: C:\\Users\\PARK\\Documents\\LAB\\RNN vs LSTM\\FInal Example\\wandb\\run-20221015_232458-2o28d6uf\\files\\model-best\\assets\n"
     ]
    },
    {
     "name": "stderr",
     "output_type": "stream",
     "text": [
      "\u001b[34m\u001b[1mwandb\u001b[0m: Adding directory to artifact (C:\\Users\\PARK\\Documents\\LAB\\RNN vs LSTM\\FInal Example\\wandb\\run-20221015_232458-2o28d6uf\\files\\model-best)... Done. 0.1s\n"
     ]
    },
    {
     "name": "stdout",
     "output_type": "stream",
     "text": [
      "5/5 [==============================] - 3s 650ms/step - loss: 0.1845 - mae: 0.3573 - val_loss: 0.1827 - val_mae: 0.3552\n",
      "Epoch 18/50\n",
      "5/5 [==============================] - 1s 228ms/step - loss: 0.1848 - mae: 0.3556 - val_loss: 0.1845 - val_mae: 0.3595\n",
      "Epoch 19/50\n",
      "5/5 [==============================] - ETA: 0s - loss: 0.1881 - mae: 0.3591INFO:tensorflow:Assets written to: C:\\Users\\PARK\\Documents\\LAB\\RNN vs LSTM\\FInal Example\\wandb\\run-20221015_232458-2o28d6uf\\files\\model-best\\assets\n"
     ]
    },
    {
     "name": "stderr",
     "output_type": "stream",
     "text": [
      "\u001b[34m\u001b[1mwandb\u001b[0m: Adding directory to artifact (C:\\Users\\PARK\\Documents\\LAB\\RNN vs LSTM\\FInal Example\\wandb\\run-20221015_232458-2o28d6uf\\files\\model-best)... Done. 0.1s\n"
     ]
    },
    {
     "name": "stdout",
     "output_type": "stream",
     "text": [
      "5/5 [==============================] - 2s 591ms/step - loss: 0.1881 - mae: 0.3591 - val_loss: 0.1797 - val_mae: 0.3541\n",
      "Epoch 20/50\n",
      "5/5 [==============================] - 1s 217ms/step - loss: 0.1861 - mae: 0.3571 - val_loss: 0.1825 - val_mae: 0.3561\n",
      "Epoch 21/50\n",
      "5/5 [==============================] - ETA: 0s - loss: 0.1832 - mae: 0.3554INFO:tensorflow:Assets written to: C:\\Users\\PARK\\Documents\\LAB\\RNN vs LSTM\\FInal Example\\wandb\\run-20221015_232458-2o28d6uf\\files\\model-best\\assets\n"
     ]
    },
    {
     "name": "stderr",
     "output_type": "stream",
     "text": [
      "\u001b[34m\u001b[1mwandb\u001b[0m: Adding directory to artifact (C:\\Users\\PARK\\Documents\\LAB\\RNN vs LSTM\\FInal Example\\wandb\\run-20221015_232458-2o28d6uf\\files\\model-best)... Done. 0.1s\n"
     ]
    },
    {
     "name": "stdout",
     "output_type": "stream",
     "text": [
      "5/5 [==============================] - 2s 573ms/step - loss: 0.1832 - mae: 0.3554 - val_loss: 0.1784 - val_mae: 0.3541\n",
      "Epoch 22/50\n",
      "5/5 [==============================] - 1s 205ms/step - loss: 0.1852 - mae: 0.3575 - val_loss: 0.1791 - val_mae: 0.3545\n",
      "Epoch 23/50\n",
      "5/5 [==============================] - 1s 185ms/step - loss: 0.1953 - mae: 0.3662 - val_loss: 0.1819 - val_mae: 0.3545\n",
      "Epoch 24/50\n",
      "5/5 [==============================] - 1s 186ms/step - loss: 0.1909 - mae: 0.3603 - val_loss: 0.1827 - val_mae: 0.3550\n",
      "Epoch 25/50\n",
      "5/5 [==============================] - 1s 185ms/step - loss: 0.1963 - mae: 0.3639 - val_loss: 0.1857 - val_mae: 0.3590\n",
      "Epoch 26/50\n",
      "5/5 [==============================] - 1s 184ms/step - loss: 0.1935 - mae: 0.3638 - val_loss: 0.1870 - val_mae: 0.3573\n",
      "Epoch 27/50\n",
      "5/5 [==============================] - 1s 184ms/step - loss: 0.1981 - mae: 0.3667 - val_loss: 0.1830 - val_mae: 0.3584\n",
      "Epoch 28/50\n",
      "5/5 [==============================] - 1s 183ms/step - loss: 0.1844 - mae: 0.3567 - val_loss: 0.1950 - val_mae: 0.3633\n",
      "Epoch 29/50\n",
      "5/5 [==============================] - 1s 188ms/step - loss: 0.1926 - mae: 0.3631 - val_loss: 0.1855 - val_mae: 0.3629\n",
      "Epoch 30/50\n",
      "5/5 [==============================] - 1s 192ms/step - loss: 0.1921 - mae: 0.3621 - val_loss: 0.1901 - val_mae: 0.3596\n",
      "Epoch 31/50\n",
      "5/5 [==============================] - 1s 186ms/step - loss: 0.1883 - mae: 0.3611 - val_loss: 0.1818 - val_mae: 0.3545\n",
      "Epoch 32/50\n",
      "5/5 [==============================] - 1s 185ms/step - loss: 0.1869 - mae: 0.3579 - val_loss: 0.1821 - val_mae: 0.3572\n",
      "Epoch 33/50\n",
      "5/5 [==============================] - 1s 185ms/step - loss: 0.1862 - mae: 0.3583 - val_loss: 0.1925 - val_mae: 0.3616\n",
      "Epoch 34/50\n",
      "5/5 [==============================] - 1s 184ms/step - loss: 0.2022 - mae: 0.3727 - val_loss: 0.2050 - val_mae: 0.3750\n",
      "Epoch 35/50\n",
      "5/5 [==============================] - 1s 184ms/step - loss: 0.2188 - mae: 0.3860 - val_loss: 0.1800 - val_mae: 0.3542\n",
      "Epoch 36/50\n",
      "5/5 [==============================] - 1s 183ms/step - loss: 0.1962 - mae: 0.3663 - val_loss: 0.1923 - val_mae: 0.3654\n",
      "Epoch 37/50\n",
      "5/5 [==============================] - 1s 185ms/step - loss: 0.1942 - mae: 0.3659 - val_loss: 0.1897 - val_mae: 0.3610\n",
      "Epoch 38/50\n",
      "5/5 [==============================] - 1s 185ms/step - loss: 0.1936 - mae: 0.3648 - val_loss: 0.1808 - val_mae: 0.3550\n",
      "Epoch 39/50\n",
      "5/5 [==============================] - 1s 185ms/step - loss: 0.1804 - mae: 0.3531 - val_loss: 0.1827 - val_mae: 0.3597\n",
      "Epoch 40/50\n",
      "5/5 [==============================] - 1s 186ms/step - loss: 0.1838 - mae: 0.3560 - val_loss: 0.1898 - val_mae: 0.3593\n",
      "Epoch 41/50\n",
      "5/5 [==============================] - 1s 184ms/step - loss: 0.1922 - mae: 0.3630 - val_loss: 0.1851 - val_mae: 0.3610\n",
      "Epoch 42/50\n",
      "5/5 [==============================] - 1s 186ms/step - loss: 0.1869 - mae: 0.3559 - val_loss: 0.1898 - val_mae: 0.3587\n",
      "Epoch 43/50\n",
      "5/5 [==============================] - 1s 196ms/step - loss: 0.1846 - mae: 0.3556 - val_loss: 0.1860 - val_mae: 0.3609\n",
      "Epoch 44/50\n",
      "5/5 [==============================] - 1s 195ms/step - loss: 0.1902 - mae: 0.3601 - val_loss: 0.1902 - val_mae: 0.3607\n",
      "Epoch 45/50\n",
      "5/5 [==============================] - 1s 188ms/step - loss: 0.1861 - mae: 0.3569 - val_loss: 0.1853 - val_mae: 0.3585\n",
      "Epoch 46/50\n",
      "5/5 [==============================] - 1s 189ms/step - loss: 0.1867 - mae: 0.3573 - val_loss: 0.1906 - val_mae: 0.3621\n",
      "Epoch 47/50\n",
      "5/5 [==============================] - 1s 186ms/step - loss: 0.2026 - mae: 0.3713 - val_loss: 0.2208 - val_mae: 0.3863\n",
      "Epoch 48/50\n",
      "5/5 [==============================] - 1s 188ms/step - loss: 0.2105 - mae: 0.3783 - val_loss: 0.1912 - val_mae: 0.3638\n",
      "Epoch 49/50\n",
      "5/5 [==============================] - 1s 189ms/step - loss: 0.1871 - mae: 0.3571 - val_loss: 0.1941 - val_mae: 0.3625\n",
      "Epoch 50/50\n",
      "5/5 [==============================] - 1s 191ms/step - loss: 0.1915 - mae: 0.3622 - val_loss: 0.1811 - val_mae: 0.3568\n"
     ]
    }
   ],
   "source": [
    "from tensorflow.keras import datasets, layers, models\n",
    "from tensorflow import keras\n",
    "from tensorflow.keras import layers\n",
    "\n",
    "model = models.Sequential()\n",
    "model.add(layers.SimpleRNN(2048, input_shape=(time_step,2)))\n",
    "model.add(layers.Dense(25))\n",
    "\n",
    "model.summary()\n",
    "\n",
    "model.compile(optimizer='adam', loss='mse', metrics=['mae'])\n",
    "\n",
    "history = model.fit(train_input, train_label, epochs=50, verbose=1, shuffle=True, validation_split=0.20,\n",
    "                   callbacks=[WandbCallback(log_weights=True, log_gradients=True, training_data=(train_input, train_label))])"
   ]
  },
  {
   "cell_type": "code",
   "execution_count": 18,
   "id": "f2977e3d",
   "metadata": {},
   "outputs": [
    {
     "name": "stdout",
     "output_type": "stream",
     "text": [
      "1/1 [==============================] - 0s 93ms/step\n"
     ]
    }
   ],
   "source": [
    "test_input = test_input.reshape(1, test_input.shape[0], test_input.shape[1])\n",
    "\n",
    "y_hat = model.predict(test_input)"
   ]
  },
  {
   "cell_type": "code",
   "execution_count": 19,
   "id": "569d2b27",
   "metadata": {},
   "outputs": [
    {
     "data": {
      "text/plain": [
       "(1, 100, 2)"
      ]
     },
     "execution_count": 19,
     "metadata": {},
     "output_type": "execute_result"
    }
   ],
   "source": [
    "test_input.shape"
   ]
  },
  {
   "cell_type": "code",
   "execution_count": 20,
   "id": "6b083de8",
   "metadata": {},
   "outputs": [],
   "source": [
    "test_label = test_label.reshape(1, test_label.shape[0], test_label.shape[1])"
   ]
  },
  {
   "cell_type": "code",
   "execution_count": 21,
   "id": "54e7a073",
   "metadata": {},
   "outputs": [
    {
     "data": {
      "text/plain": [
       "(1, 25, 1)"
      ]
     },
     "execution_count": 21,
     "metadata": {},
     "output_type": "execute_result"
    }
   ],
   "source": [
    "test_label.shape"
   ]
  },
  {
   "cell_type": "code",
   "execution_count": 22,
   "id": "b3e0c133",
   "metadata": {},
   "outputs": [
    {
     "data": {
      "text/plain": [
       "array([[0.92417973, 0.9592589 , 0.99223197, 1.1458434 , 1.0929892 ,\n",
       "        1.1576185 , 0.90679073, 1.133164  , 0.9812966 , 1.0397028 ,\n",
       "        1.172875  , 1.0963377 , 1.0127796 , 1.1494775 , 1.0801206 ,\n",
       "        1.1873107 , 1.2090213 , 1.105811  , 1.1909436 , 1.0525184 ,\n",
       "        1.0855495 , 1.1822559 , 1.2546408 , 1.1797376 , 0.99333584]],\n",
       "      dtype=float32)"
      ]
     },
     "execution_count": 22,
     "metadata": {},
     "output_type": "execute_result"
    }
   ],
   "source": [
    "y_hat"
   ]
  },
  {
   "cell_type": "code",
   "execution_count": 23,
   "id": "e37311d1",
   "metadata": {},
   "outputs": [
    {
     "data": {
      "text/plain": [
       "(1, 25)"
      ]
     },
     "execution_count": 23,
     "metadata": {},
     "output_type": "execute_result"
    }
   ],
   "source": [
    "y_hat.shape"
   ]
  },
  {
   "cell_type": "code",
   "execution_count": 24,
   "id": "ad0f0285",
   "metadata": {},
   "outputs": [],
   "source": [
    "y_hat = y_hat.reshape(y_hat.shape[1], 1)"
   ]
  },
  {
   "cell_type": "code",
   "execution_count": 25,
   "id": "69ea1f6f",
   "metadata": {},
   "outputs": [],
   "source": [
    "y_hat = (y_hat*data_std)+data_mean"
   ]
  },
  {
   "cell_type": "code",
   "execution_count": 26,
   "id": "702f2214",
   "metadata": {},
   "outputs": [],
   "source": [
    "#print(scaler.data_max_)"
   ]
  },
  {
   "cell_type": "code",
   "execution_count": 27,
   "id": "1ca1a387",
   "metadata": {},
   "outputs": [],
   "source": [
    "#print(scaler.data_min_)"
   ]
  },
  {
   "cell_type": "code",
   "execution_count": 28,
   "id": "5e40982b",
   "metadata": {},
   "outputs": [],
   "source": [
    "#y_hat = y_hat * (scaler.data_max_[1]-scaler.data_min_[1]) + scaler.data_min_[1]"
   ]
  },
  {
   "cell_type": "code",
   "execution_count": 29,
   "id": "902bb0d7",
   "metadata": {},
   "outputs": [
    {
     "data": {
      "text/plain": [
       "Text(0.5, 1.0, 'RNN prediction')"
      ]
     },
     "execution_count": 29,
     "metadata": {},
     "output_type": "execute_result"
    },
    {
     "data": {
      "image/png": "[encoded data removed]",
      "text/plain": [
       "<Figure size 1008x576 with 1 Axes>"
      ]
     },
     "metadata": {
      "needs_background": "light"
     },
     "output_type": "display_data"
    }
   ],
   "source": [
    "import matplotlib.pyplot as plt\n",
    "\n",
    "x = range(325)\n",
    "plt.figure(figsize=(14,8))\n",
    "plt.plot(df[300:325]['Sales'], label='original')\n",
    "plt.plot(x[300:325], y_hat, label='prediction')\n",
    "plt.legend()\n",
    "plt.xlabel('Sequence', fontsize=20)\n",
    "plt.ylabel('Sales', fontsize=20)\n",
    "plt.title('RNN prediction', fontsize=25)"
   ]
  },
  {
   "cell_type": "code",
   "execution_count": 30,
   "id": "051887d3",
   "metadata": {
    "scrolled": true
   },
   "outputs": [
    {
     "name": "stdout",
     "output_type": "stream",
     "text": [
      "1/1 [==============================] - 0s 27ms/step - loss: 0.8735 - mae: 0.8736\n"
     ]
    },
    {
     "data": {
      "text/plain": [
       "[0.8734586834907532, 0.8736119866371155]"
      ]
     },
     "execution_count": 30,
     "metadata": {},
     "output_type": "execute_result"
    }
   ],
   "source": [
    "model.evaluate(test_input, test_label)"
   ]
  },
  {
   "cell_type": "code",
   "execution_count": null,
   "id": "2819448e",
   "metadata": {},
   "outputs": [],
   "source": []
  }
 ],
 "metadata": {
  "kernelspec": {
   "display_name": "Python 3 (ipykernel)",
   "language": "python",
   "name": "python3"
  },
  "language_info": {
   "codemirror_mode": {
    "name": "ipython",
    "version": 3
   },
   "file_extension": ".py",
   "mimetype": "text/x-python",
   "name": "python",
   "nbconvert_exporter": "python",
   "pygments_lexer": "ipython3",
   "version": "3.9.12"
  }
 },
 "nbformat": 4,
 "nbformat_minor": 5
}
