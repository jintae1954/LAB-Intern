{
 "cells": [
  {
   "cell_type": "code",
   "execution_count": 1,
   "id": "650bae84",
   "metadata": {},
   "outputs": [
    {
     "name": "stderr",
     "output_type": "stream",
     "text": [
      "\u001b[34m\u001b[1mwandb\u001b[0m: Currently logged in as: \u001b[33mjintae\u001b[0m. Use \u001b[1m`wandb login --relogin`\u001b[0m to force relogin\n"
     ]
    },
    {
     "data": {
      "text/html": [
       "Tracking run with wandb version 0.13.4"
      ],
      "text/plain": [
       "<IPython.core.display.HTML object>"
      ]
     },
     "metadata": {},
     "output_type": "display_data"
    },
    {
     "data": {
      "text/html": [
       "Run data is saved locally in <code>C:\\Users\\PARK\\Documents\\LAB\\RNN vs LSTM\\FInal Example\\wandb\\run-20221015_231004-2ry430gk</code>"
      ],
      "text/plain": [
       "<IPython.core.display.HTML object>"
      ]
     },
     "metadata": {},
     "output_type": "display_data"
    },
    {
     "data": {
      "text/html": [
       "Syncing run <strong><a href=\"https://wandb.ai/jintae/RNN%20seq%202048./runs/2ry430gk\" target=\"_blank\">epoch 100</a></strong> to <a href=\"https://wandb.ai/jintae/RNN%20seq%202048.\" target=\"_blank\">Weights & Biases</a> (<a href=\"https://wandb.me/run\" target=\"_blank\">docs</a>)<br/>"
      ],
      "text/plain": [
       "<IPython.core.display.HTML object>"
      ]
     },
     "metadata": {},
     "output_type": "display_data"
    },
    {
     "data": {
      "text/html": [
       "<button onClick=\"this.nextSibling.style.display='block';this.style.display='none';\">Display W&B run</button><iframe src=\"https://wandb.ai/jintae/RNN%20seq%202048./runs/2ry430gk?jupyter=true\" style=\"border:none;width:100%;height:420px;display:none;\"></iframe>"
      ],
      "text/plain": [
       "<wandb.sdk.wandb_run.Run at 0x19e29df2430>"
      ]
     },
     "execution_count": 1,
     "metadata": {},
     "output_type": "execute_result"
    }
   ],
   "source": [
    "import wandb\n",
    "from wandb.keras import WandbCallback\n",
    "wandb.init(project=\"RNN seq 2048.\", name=\"epoch 100\")"
   ]
  },
  {
   "cell_type": "code",
   "execution_count": 2,
   "id": "ad5934aa",
   "metadata": {},
   "outputs": [
    {
     "name": "stdout",
     "output_type": "stream",
     "text": [
      "   DATE  Sales\n",
      "0     0   3459\n",
      "1     1   3458\n",
      "2     2   4002\n",
      "3     3   4564\n",
      "4     4   4221\n"
     ]
    }
   ],
   "source": [
    "import pandas as pd\n",
    "\n",
    "df = pd.read_csv('C:/Users/PARK/Desktop/Alcohol_Sales.csv')\n",
    "print(df.head())"
   ]
  },
  {
   "cell_type": "code",
   "execution_count": 3,
   "id": "71e18e17",
   "metadata": {},
   "outputs": [
    {
     "data": {
      "text/plain": [
       "(325, 2)"
      ]
     },
     "execution_count": 3,
     "metadata": {},
     "output_type": "execute_result"
    }
   ],
   "source": [
    "df.shape"
   ]
  },
  {
   "cell_type": "code",
   "execution_count": 4,
   "id": "5f4f8fb7",
   "metadata": {},
   "outputs": [],
   "source": [
    "import numpy as np\n",
    "\n",
    "data = df.to_numpy()"
   ]
  },
  {
   "cell_type": "code",
   "execution_count": 5,
   "id": "c6063052",
   "metadata": {},
   "outputs": [
    {
     "data": {
      "text/plain": [
       "(325, 2)"
      ]
     },
     "execution_count": 5,
     "metadata": {},
     "output_type": "execute_result"
    }
   ],
   "source": [
    "data.shape"
   ]
  },
  {
   "cell_type": "code",
   "execution_count": 6,
   "id": "01930485",
   "metadata": {},
   "outputs": [
    {
     "data": {
      "text/plain": [
       "array([[   0, 3459],\n",
       "       [   1, 3458],\n",
       "       [   2, 4002],\n",
       "       [   3, 4564],\n",
       "       [   4, 4221]], dtype=int64)"
      ]
     },
     "execution_count": 6,
     "metadata": {},
     "output_type": "execute_result"
    }
   ],
   "source": [
    "data[0:5]"
   ]
  },
  {
   "cell_type": "code",
   "execution_count": 7,
   "id": "ad83b404",
   "metadata": {},
   "outputs": [],
   "source": [
    "# from sklearn.preprocessing import MinMaxScaler\n",
    "\n",
    "# scaler = MinMaxScaler()\n",
    "\n",
    "# data = scaler.fit_transform(data)"
   ]
  },
  {
   "cell_type": "code",
   "execution_count": 8,
   "id": "17aef2ea",
   "metadata": {},
   "outputs": [],
   "source": [
    "data_mean = data.mean()\n",
    "data_std = data.std()\n",
    "\n",
    "data = (data - data_mean)/data_std"
   ]
  },
  {
   "cell_type": "code",
   "execution_count": 9,
   "id": "63fe0032",
   "metadata": {},
   "outputs": [
    {
     "data": {
      "text/plain": [
       "array([[-0.9194862 , -0.12914209],\n",
       "       [-0.91925771, -0.12937058],\n",
       "       [-0.91902922, -0.00507246],\n",
       "       [-0.91880073,  0.12333846],\n",
       "       [-0.91857224,  0.04496667]])"
      ]
     },
     "execution_count": 9,
     "metadata": {},
     "output_type": "execute_result"
    }
   ],
   "source": [
    "data[0:5]"
   ]
  },
  {
   "cell_type": "code",
   "execution_count": 10,
   "id": "87ac24ef",
   "metadata": {
    "scrolled": true
   },
   "outputs": [],
   "source": [
    "train_input = []\n",
    "train_label = []\n",
    "\n",
    "data_len = 325\n",
    "time_step = 100\n",
    "out_dim = 25\n",
    "\n",
    "for i in range(176):\n",
    "    _input = data[i:i+time_step]\n",
    "    _label = data[i+time_step:i+time_step+out_dim]\n",
    "    \n",
    "    train_input.append(_input)\n",
    "    train_label.append(_label)\n",
    "    \n",
    "\n",
    "train_input = np.array(train_input)\n",
    "train_label = np.array(train_label)\n",
    "train_label = np.delete(train_label, 0, axis=2)\n",
    "\n",
    "\n",
    "test_input = np.array(data[data_len-out_dim-time_step:data_len-out_dim])\n",
    "test_label =np.array(data[300:325])\n",
    "test_label = np.delete(test_label, 0, axis=1)"
   ]
  },
  {
   "cell_type": "code",
   "execution_count": 11,
   "id": "41975dc7",
   "metadata": {},
   "outputs": [
    {
     "data": {
      "text/plain": [
       "(176, 100, 2)"
      ]
     },
     "execution_count": 11,
     "metadata": {},
     "output_type": "execute_result"
    }
   ],
   "source": [
    "train_input.shape"
   ]
  },
  {
   "cell_type": "code",
   "execution_count": 12,
   "id": "b762c3ba",
   "metadata": {},
   "outputs": [
    {
     "data": {
      "text/plain": [
       "(176, 25, 1)"
      ]
     },
     "execution_count": 12,
     "metadata": {},
     "output_type": "execute_result"
    }
   ],
   "source": [
    "train_label.shape"
   ]
  },
  {
   "cell_type": "code",
   "execution_count": 13,
   "id": "127c63a2",
   "metadata": {},
   "outputs": [
    {
     "data": {
      "text/plain": [
       "(100, 2)"
      ]
     },
     "execution_count": 13,
     "metadata": {},
     "output_type": "execute_result"
    }
   ],
   "source": [
    "test_input.shape"
   ]
  },
  {
   "cell_type": "code",
   "execution_count": 14,
   "id": "6647472d",
   "metadata": {},
   "outputs": [
    {
     "data": {
      "text/plain": [
       "(25, 1)"
      ]
     },
     "execution_count": 14,
     "metadata": {},
     "output_type": "execute_result"
    }
   ],
   "source": [
    "test_label.shape"
   ]
  },
  {
   "cell_type": "code",
   "execution_count": 15,
   "id": "5d83c07f",
   "metadata": {},
   "outputs": [],
   "source": [
    "np.random.seed(10)\n",
    "shuffled_indices = np.random.permutation(np.arange(train_input.shape[0]))\n",
    "train_input = train_input[shuffled_indices, :, :]\n",
    "train_label = train_label[shuffled_indices, :]"
   ]
  },
  {
   "cell_type": "code",
   "execution_count": 16,
   "id": "a183926e",
   "metadata": {
    "scrolled": true
   },
   "outputs": [
    {
     "name": "stdout",
     "output_type": "stream",
     "text": [
      "Model: \"sequential\"\n",
      "_________________________________________________________________\n",
      " Layer (type)                Output Shape              Param #   \n",
      "=================================================================\n",
      " simple_rnn (SimpleRNN)      (None, 2048)              4200448   \n",
      "                                                                 \n",
      " dense (Dense)               (None, 25)                51225     \n",
      "                                                                 \n",
      "=================================================================\n",
      "Total params: 4,251,673\n",
      "Trainable params: 4,251,673\n",
      "Non-trainable params: 0\n",
      "_________________________________________________________________\n"
     ]
    },
    {
     "name": "stderr",
     "output_type": "stream",
     "text": [
      "\u001b[34m\u001b[1mwandb\u001b[0m: \u001b[33mWARNING\u001b[0m The save_model argument by default saves the model in the HDF5 format that cannot save custom objects like subclassed models and custom layers. This behavior will be deprecated in a future release in favor of the SavedModel format. Meanwhile, the HDF5 model is saved as W&B files and the SavedModel as W&B Artifacts.\n"
     ]
    },
    {
     "name": "stdout",
     "output_type": "stream",
     "text": [
      "Epoch 1/100\n",
      "5/5 [==============================] - ETA: 0s - loss: 2.4446 - mae: 1.2823INFO:tensorflow:Assets written to: C:\\Users\\PARK\\Documents\\LAB\\RNN vs LSTM\\FInal Example\\wandb\\run-20221015_231004-2ry430gk\\files\\model-best\\assets\n"
     ]
    },
    {
     "name": "stderr",
     "output_type": "stream",
     "text": [
      "\u001b[34m\u001b[1mwandb\u001b[0m: Adding directory to artifact (C:\\Users\\PARK\\Documents\\LAB\\RNN vs LSTM\\FInal Example\\wandb\\run-20221015_231004-2ry430gk\\files\\model-best)... Done. 0.1s\n"
     ]
    },
    {
     "name": "stdout",
     "output_type": "stream",
     "text": [
      "5/5 [==============================] - 4s 766ms/step - loss: 2.4446 - mae: 1.2823 - val_loss: 1.8352 - val_mae: 1.1657\n",
      "Epoch 2/100\n",
      "5/5 [==============================] - ETA: 0s - loss: 3.6923 - mae: 1.5975INFO:tensorflow:Assets written to: C:\\Users\\PARK\\Documents\\LAB\\RNN vs LSTM\\FInal Example\\wandb\\run-20221015_231004-2ry430gk\\files\\model-best\\assets\n"
     ]
    },
    {
     "name": "stderr",
     "output_type": "stream",
     "text": [
      "\u001b[34m\u001b[1mwandb\u001b[0m: Adding directory to artifact (C:\\Users\\PARK\\Documents\\LAB\\RNN vs LSTM\\FInal Example\\wandb\\run-20221015_231004-2ry430gk\\files\\model-best)... Done. 0.1s\n"
     ]
    },
    {
     "name": "stdout",
     "output_type": "stream",
     "text": [
      "5/5 [==============================] - 3s 620ms/step - loss: 3.6923 - mae: 1.5975 - val_loss: 0.7413 - val_mae: 0.6788\n",
      "Epoch 3/100\n",
      "5/5 [==============================] - 1s 215ms/step - loss: 5.3395 - mae: 2.0549 - val_loss: 3.0552 - val_mae: 1.5436\n",
      "Epoch 4/100\n",
      "5/5 [==============================] - 1s 184ms/step - loss: 4.8500 - mae: 1.8532 - val_loss: 6.9719 - val_mae: 2.5804\n",
      "Epoch 5/100\n",
      "5/5 [==============================] - 1s 187ms/step - loss: 5.7821 - mae: 1.9869 - val_loss: 7.1734 - val_mae: 2.5102\n",
      "Epoch 6/100\n",
      "5/5 [==============================] - 1s 184ms/step - loss: 3.4019 - mae: 1.5066 - val_loss: 6.9438 - val_mae: 2.4947\n",
      "Epoch 7/100\n",
      "5/5 [==============================] - 1s 184ms/step - loss: 5.2813 - mae: 2.1248 - val_loss: 2.7756 - val_mae: 1.5005\n",
      "Epoch 8/100\n",
      "5/5 [==============================] - 1s 191ms/step - loss: 2.1241 - mae: 1.1911 - val_loss: 4.0200 - val_mae: 1.8669\n",
      "Epoch 9/100\n",
      "5/5 [==============================] - 1s 189ms/step - loss: 5.6515 - mae: 2.2069 - val_loss: 2.9265 - val_mae: 1.6109\n",
      "Epoch 10/100\n",
      "5/5 [==============================] - 1s 190ms/step - loss: 3.2104 - mae: 1.5628 - val_loss: 5.7533 - val_mae: 2.2996\n",
      "Epoch 11/100\n",
      "5/5 [==============================] - ETA: 0s - loss: 2.7884 - mae: 1.4312INFO:tensorflow:Assets written to: C:\\Users\\PARK\\Documents\\LAB\\RNN vs LSTM\\FInal Example\\wandb\\run-20221015_231004-2ry430gk\\files\\model-best\\assets\n"
     ]
    },
    {
     "name": "stderr",
     "output_type": "stream",
     "text": [
      "\u001b[34m\u001b[1mwandb\u001b[0m: Adding directory to artifact (C:\\Users\\PARK\\Documents\\LAB\\RNN vs LSTM\\FInal Example\\wandb\\run-20221015_231004-2ry430gk\\files\\model-best)... Done. 0.1s\n"
     ]
    },
    {
     "name": "stdout",
     "output_type": "stream",
     "text": [
      "5/5 [==============================] - 3s 653ms/step - loss: 2.7884 - mae: 1.4312 - val_loss: 0.7187 - val_mae: 0.6908\n",
      "Epoch 12/100\n",
      "5/5 [==============================] - 1s 216ms/step - loss: 1.0803 - mae: 0.8573 - val_loss: 2.9429 - val_mae: 1.6274\n",
      "Epoch 13/100\n",
      "5/5 [==============================] - ETA: 0s - loss: 2.8131 - mae: 1.4195INFO:tensorflow:Assets written to: C:\\Users\\PARK\\Documents\\LAB\\RNN vs LSTM\\FInal Example\\wandb\\run-20221015_231004-2ry430gk\\files\\model-best\\assets\n"
     ]
    },
    {
     "name": "stderr",
     "output_type": "stream",
     "text": [
      "\u001b[34m\u001b[1mwandb\u001b[0m: Adding directory to artifact (C:\\Users\\PARK\\Documents\\LAB\\RNN vs LSTM\\FInal Example\\wandb\\run-20221015_231004-2ry430gk\\files\\model-best)... Done. 0.1s\n"
     ]
    },
    {
     "name": "stdout",
     "output_type": "stream",
     "text": [
      "5/5 [==============================] - 3s 633ms/step - loss: 2.8131 - mae: 1.4195 - val_loss: 0.2879 - val_mae: 0.4392\n",
      "Epoch 14/100\n",
      "5/5 [==============================] - 1s 208ms/step - loss: 2.6334 - mae: 1.2297 - val_loss: 0.4124 - val_mae: 0.5076\n",
      "Epoch 15/100\n",
      "5/5 [==============================] - 1s 188ms/step - loss: 1.4395 - mae: 0.9522 - val_loss: 2.1802 - val_mae: 1.3437\n",
      "Epoch 16/100\n",
      "5/5 [==============================] - 1s 193ms/step - loss: 1.5830 - mae: 0.9682 - val_loss: 4.2925 - val_mae: 2.0044\n",
      "Epoch 17/100\n",
      "5/5 [==============================] - 1s 196ms/step - loss: 1.3966 - mae: 0.8955 - val_loss: 2.0235 - val_mae: 1.2944\n",
      "Epoch 18/100\n",
      "5/5 [==============================] - 1s 188ms/step - loss: 1.4770 - mae: 1.0190 - val_loss: 0.5192 - val_mae: 0.5869\n",
      "Epoch 19/100\n",
      "5/5 [==============================] - 1s 184ms/step - loss: 4.5084 - mae: 1.8418 - val_loss: 0.6896 - val_mae: 0.6776\n",
      "Epoch 20/100\n",
      "5/5 [==============================] - 1s 207ms/step - loss: 1.0030 - mae: 0.8406 - val_loss: 8.0884 - val_mae: 2.7509\n",
      "Epoch 21/100\n",
      "5/5 [==============================] - 1s 190ms/step - loss: 4.6846 - mae: 1.9388 - val_loss: 0.3699 - val_mae: 0.4935\n",
      "Epoch 22/100\n",
      "5/5 [==============================] - 1s 191ms/step - loss: 2.2250 - mae: 1.2198 - val_loss: 0.7672 - val_mae: 0.7321\n",
      "Epoch 23/100\n",
      "5/5 [==============================] - 1s 184ms/step - loss: 1.9936 - mae: 1.1842 - val_loss: 0.5264 - val_mae: 0.5849\n",
      "Epoch 24/100\n",
      "5/5 [==============================] - 1s 183ms/step - loss: 2.9531 - mae: 1.5192 - val_loss: 0.7035 - val_mae: 0.7064\n",
      "Epoch 25/100\n",
      "5/5 [==============================] - 1s 190ms/step - loss: 0.5134 - mae: 0.5842 - val_loss: 0.8679 - val_mae: 0.8017\n",
      "Epoch 26/100\n",
      "5/5 [==============================] - ETA: 0s - loss: 0.6156 - mae: 0.6643INFO:tensorflow:Assets written to: C:\\Users\\PARK\\Documents\\LAB\\RNN vs LSTM\\FInal Example\\wandb\\run-20221015_231004-2ry430gk\\files\\model-best\\assets\n"
     ]
    },
    {
     "name": "stderr",
     "output_type": "stream",
     "text": [
      "\u001b[34m\u001b[1mwandb\u001b[0m: Adding directory to artifact (C:\\Users\\PARK\\Documents\\LAB\\RNN vs LSTM\\FInal Example\\wandb\\run-20221015_231004-2ry430gk\\files\\model-best)... Done. 0.1s\n"
     ]
    },
    {
     "name": "stdout",
     "output_type": "stream",
     "text": [
      "5/5 [==============================] - 2s 586ms/step - loss: 0.6156 - mae: 0.6643 - val_loss: 0.2126 - val_mae: 0.3734\n",
      "Epoch 27/100\n",
      "5/5 [==============================] - 1s 213ms/step - loss: 0.2407 - mae: 0.3905 - val_loss: 1.6914 - val_mae: 1.2313\n",
      "Epoch 28/100\n",
      "5/5 [==============================] - 1s 192ms/step - loss: 1.8188 - mae: 1.1941 - val_loss: 1.9682 - val_mae: 1.3102\n",
      "Epoch 29/100\n",
      "5/5 [==============================] - 1s 187ms/step - loss: 1.1211 - mae: 0.8708 - val_loss: 0.2146 - val_mae: 0.3775\n",
      "Epoch 30/100\n",
      "5/5 [==============================] - 1s 189ms/step - loss: 0.1941 - mae: 0.3560 - val_loss: 0.2202 - val_mae: 0.3798\n",
      "Epoch 31/100\n",
      "5/5 [==============================] - ETA: 0s - loss: 0.1854 - mae: 0.3451INFO:tensorflow:Assets written to: C:\\Users\\PARK\\Documents\\LAB\\RNN vs LSTM\\FInal Example\\wandb\\run-20221015_231004-2ry430gk\\files\\model-best\\assets\n"
     ]
    },
    {
     "name": "stderr",
     "output_type": "stream",
     "text": [
      "\u001b[34m\u001b[1mwandb\u001b[0m: Adding directory to artifact (C:\\Users\\PARK\\Documents\\LAB\\RNN vs LSTM\\FInal Example\\wandb\\run-20221015_231004-2ry430gk\\files\\model-best)... Done. 0.1s\n"
     ]
    },
    {
     "name": "stdout",
     "output_type": "stream",
     "text": [
      "5/5 [==============================] - 2s 588ms/step - loss: 0.1854 - mae: 0.3451 - val_loss: 0.1468 - val_mae: 0.3138\n",
      "Epoch 32/100\n",
      "5/5 [==============================] - 1s 218ms/step - loss: 0.1793 - mae: 0.3490 - val_loss: 0.2364 - val_mae: 0.3905\n",
      "Epoch 33/100\n",
      "5/5 [==============================] - 1s 184ms/step - loss: 0.1713 - mae: 0.3379 - val_loss: 0.1565 - val_mae: 0.3213\n",
      "Epoch 34/100\n",
      "5/5 [==============================] - ETA: 0s - loss: 0.1523 - mae: 0.3143INFO:tensorflow:Assets written to: C:\\Users\\PARK\\Documents\\LAB\\RNN vs LSTM\\FInal Example\\wandb\\run-20221015_231004-2ry430gk\\files\\model-best\\assets\n"
     ]
    },
    {
     "name": "stderr",
     "output_type": "stream",
     "text": [
      "\u001b[34m\u001b[1mwandb\u001b[0m: Adding directory to artifact (C:\\Users\\PARK\\Documents\\LAB\\RNN vs LSTM\\FInal Example\\wandb\\run-20221015_231004-2ry430gk\\files\\model-best)... Done. 0.1s\n"
     ]
    },
    {
     "name": "stdout",
     "output_type": "stream",
     "text": [
      "5/5 [==============================] - 3s 667ms/step - loss: 0.1523 - mae: 0.3143 - val_loss: 0.1105 - val_mae: 0.2709\n",
      "Epoch 35/100\n",
      "5/5 [==============================] - ETA: 0s - loss: 0.1136 - mae: 0.2762INFO:tensorflow:Assets written to: C:\\Users\\PARK\\Documents\\LAB\\RNN vs LSTM\\FInal Example\\wandb\\run-20221015_231004-2ry430gk\\files\\model-best\\assets\n"
     ]
    },
    {
     "name": "stderr",
     "output_type": "stream",
     "text": [
      "\u001b[34m\u001b[1mwandb\u001b[0m: Adding directory to artifact (C:\\Users\\PARK\\Documents\\LAB\\RNN vs LSTM\\FInal Example\\wandb\\run-20221015_231004-2ry430gk\\files\\model-best)... Done. 0.1s\n"
     ]
    },
    {
     "name": "stdout",
     "output_type": "stream",
     "text": [
      "5/5 [==============================] - 3s 619ms/step - loss: 0.1136 - mae: 0.2762 - val_loss: 0.1096 - val_mae: 0.2679\n",
      "Epoch 36/100\n",
      "5/5 [==============================] - 1s 210ms/step - loss: 0.1167 - mae: 0.2793 - val_loss: 0.1596 - val_mae: 0.3363\n",
      "Epoch 37/100\n",
      "5/5 [==============================] - 1s 194ms/step - loss: 0.1256 - mae: 0.2887 - val_loss: 0.2020 - val_mae: 0.3786\n",
      "Epoch 38/100\n",
      "5/5 [==============================] - 1s 186ms/step - loss: 0.2919 - mae: 0.4303 - val_loss: 0.7199 - val_mae: 0.7043\n",
      "Epoch 39/100\n",
      "5/5 [==============================] - 1s 182ms/step - loss: 0.5606 - mae: 0.6122 - val_loss: 0.3814 - val_mae: 0.5035\n",
      "Epoch 40/100\n",
      "5/5 [==============================] - 1s 182ms/step - loss: 1.6890 - mae: 1.0747 - val_loss: 0.2554 - val_mae: 0.4104\n",
      "Epoch 41/100\n",
      "5/5 [==============================] - 1s 188ms/step - loss: 0.3548 - mae: 0.4730 - val_loss: 0.5036 - val_mae: 0.5824\n",
      "Epoch 42/100\n",
      "5/5 [==============================] - 1s 188ms/step - loss: 0.4785 - mae: 0.5651 - val_loss: 1.1383 - val_mae: 0.9068\n",
      "Epoch 43/100\n",
      "5/5 [==============================] - 1s 190ms/step - loss: 0.5526 - mae: 0.5899 - val_loss: 0.2934 - val_mae: 0.4375\n",
      "Epoch 44/100\n",
      "5/5 [==============================] - 1s 187ms/step - loss: 0.2554 - mae: 0.4072 - val_loss: 0.3268 - val_mae: 0.4594\n",
      "Epoch 45/100\n",
      "5/5 [==============================] - 1s 183ms/step - loss: 0.2660 - mae: 0.4104 - val_loss: 0.1910 - val_mae: 0.3570\n",
      "Epoch 46/100\n",
      "5/5 [==============================] - 1s 187ms/step - loss: 0.2007 - mae: 0.3633 - val_loss: 0.1877 - val_mae: 0.3568\n",
      "Epoch 47/100\n",
      "5/5 [==============================] - 1s 193ms/step - loss: 0.1667 - mae: 0.3309 - val_loss: 0.1830 - val_mae: 0.3528\n",
      "Epoch 48/100\n",
      "5/5 [==============================] - 1s 188ms/step - loss: 0.1495 - mae: 0.3142 - val_loss: 0.1491 - val_mae: 0.3216\n",
      "Epoch 49/100\n",
      "5/5 [==============================] - 1s 189ms/step - loss: 0.1363 - mae: 0.3038 - val_loss: 0.1500 - val_mae: 0.3229\n",
      "Epoch 50/100\n",
      "5/5 [==============================] - 1s 184ms/step - loss: 0.1262 - mae: 0.2928 - val_loss: 0.1491 - val_mae: 0.3250\n",
      "Epoch 51/100\n",
      "5/5 [==============================] - 1s 180ms/step - loss: 0.1255 - mae: 0.2931 - val_loss: 0.1451 - val_mae: 0.3194\n",
      "Epoch 52/100\n",
      "5/5 [==============================] - 1s 183ms/step - loss: 0.1237 - mae: 0.2917 - val_loss: 0.1429 - val_mae: 0.3172\n",
      "Epoch 53/100\n",
      "5/5 [==============================] - 1s 187ms/step - loss: 0.1229 - mae: 0.2911 - val_loss: 0.1455 - val_mae: 0.3210\n",
      "Epoch 54/100\n",
      "5/5 [==============================] - 1s 190ms/step - loss: 0.1231 - mae: 0.2911 - val_loss: 0.1452 - val_mae: 0.3215\n",
      "Epoch 55/100\n",
      "5/5 [==============================] - 1s 183ms/step - loss: 0.1229 - mae: 0.2917 - val_loss: 0.1430 - val_mae: 0.3169\n",
      "Epoch 56/100\n",
      "5/5 [==============================] - 1s 180ms/step - loss: 0.1236 - mae: 0.2917 - val_loss: 0.1433 - val_mae: 0.3187\n",
      "Epoch 57/100\n",
      "5/5 [==============================] - 1s 184ms/step - loss: 0.1224 - mae: 0.2901 - val_loss: 0.1431 - val_mae: 0.3177\n",
      "Epoch 58/100\n",
      "5/5 [==============================] - 1s 185ms/step - loss: 0.1232 - mae: 0.2911 - val_loss: 0.1438 - val_mae: 0.3194\n",
      "Epoch 59/100\n",
      "5/5 [==============================] - 1s 182ms/step - loss: 0.1228 - mae: 0.2898 - val_loss: 0.1443 - val_mae: 0.3192\n",
      "Epoch 60/100\n",
      "5/5 [==============================] - 1s 191ms/step - loss: 0.1225 - mae: 0.2895 - val_loss: 0.1445 - val_mae: 0.3194\n",
      "Epoch 61/100\n",
      "5/5 [==============================] - 1s 184ms/step - loss: 0.1231 - mae: 0.2912 - val_loss: 0.1432 - val_mae: 0.3180\n",
      "Epoch 62/100\n",
      "5/5 [==============================] - 1s 183ms/step - loss: 0.1226 - mae: 0.2904 - val_loss: 0.1440 - val_mae: 0.3202\n",
      "Epoch 63/100\n",
      "5/5 [==============================] - 1s 182ms/step - loss: 0.1226 - mae: 0.2907 - val_loss: 0.1435 - val_mae: 0.3172\n",
      "Epoch 64/100\n",
      "5/5 [==============================] - 1s 180ms/step - loss: 0.1250 - mae: 0.2931 - val_loss: 0.1459 - val_mae: 0.3210\n",
      "Epoch 65/100\n",
      "5/5 [==============================] - 1s 182ms/step - loss: 0.1253 - mae: 0.2921 - val_loss: 0.1423 - val_mae: 0.3169\n",
      "Epoch 66/100\n",
      "5/5 [==============================] - 1s 182ms/step - loss: 0.1208 - mae: 0.2882 - val_loss: 0.1500 - val_mae: 0.3232\n",
      "Epoch 67/100\n",
      "5/5 [==============================] - 1s 187ms/step - loss: 0.1263 - mae: 0.2924 - val_loss: 0.1461 - val_mae: 0.3220\n",
      "Epoch 68/100\n",
      "5/5 [==============================] - 1s 184ms/step - loss: 0.1259 - mae: 0.2912 - val_loss: 0.1441 - val_mae: 0.3170\n",
      "Epoch 69/100\n",
      "5/5 [==============================] - 1s 183ms/step - loss: 0.1232 - mae: 0.2913 - val_loss: 0.1507 - val_mae: 0.3246\n",
      "Epoch 70/100\n",
      "5/5 [==============================] - 1s 183ms/step - loss: 0.1270 - mae: 0.2932 - val_loss: 0.1437 - val_mae: 0.3189\n",
      "Epoch 71/100\n",
      "5/5 [==============================] - 1s 181ms/step - loss: 0.1313 - mae: 0.2976 - val_loss: 0.1445 - val_mae: 0.3176\n",
      "Epoch 72/100\n",
      "5/5 [==============================] - 1s 186ms/step - loss: 0.1253 - mae: 0.2921 - val_loss: 0.1484 - val_mae: 0.3225\n",
      "Epoch 73/100\n",
      "5/5 [==============================] - 1s 186ms/step - loss: 0.1265 - mae: 0.2941 - val_loss: 0.1455 - val_mae: 0.3205\n",
      "Epoch 74/100\n",
      "5/5 [==============================] - 1s 195ms/step - loss: 0.1252 - mae: 0.2939 - val_loss: 0.1427 - val_mae: 0.3165\n",
      "Epoch 75/100\n",
      "5/5 [==============================] - 1s 190ms/step - loss: 0.1247 - mae: 0.2933 - val_loss: 0.1447 - val_mae: 0.3215\n",
      "Epoch 76/100\n",
      "5/5 [==============================] - 1s 184ms/step - loss: 0.1259 - mae: 0.2926 - val_loss: 0.1414 - val_mae: 0.3154\n",
      "Epoch 77/100\n",
      "5/5 [==============================] - 1s 180ms/step - loss: 0.1240 - mae: 0.2917 - val_loss: 0.1479 - val_mae: 0.3232\n",
      "Epoch 78/100\n",
      "5/5 [==============================] - 1s 179ms/step - loss: 0.1261 - mae: 0.2935 - val_loss: 0.1426 - val_mae: 0.3183\n",
      "Epoch 79/100\n",
      "5/5 [==============================] - 1s 182ms/step - loss: 0.1282 - mae: 0.2957 - val_loss: 0.1416 - val_mae: 0.3155\n",
      "Epoch 80/100\n",
      "5/5 [==============================] - 1s 182ms/step - loss: 0.1258 - mae: 0.2922 - val_loss: 0.1481 - val_mae: 0.3240\n",
      "Epoch 81/100\n",
      "5/5 [==============================] - 1s 181ms/step - loss: 0.1261 - mae: 0.2938 - val_loss: 0.1427 - val_mae: 0.3166\n",
      "Epoch 82/100\n",
      "5/5 [==============================] - 1s 180ms/step - loss: 0.1285 - mae: 0.2952 - val_loss: 0.1436 - val_mae: 0.3190\n",
      "Epoch 83/100\n",
      "5/5 [==============================] - 1s 179ms/step - loss: 0.1287 - mae: 0.2969 - val_loss: 0.1517 - val_mae: 0.3250\n",
      "Epoch 84/100\n",
      "5/5 [==============================] - 1s 178ms/step - loss: 0.1250 - mae: 0.2933 - val_loss: 0.1435 - val_mae: 0.3181\n",
      "Epoch 85/100\n",
      "5/5 [==============================] - 1s 176ms/step - loss: 0.1297 - mae: 0.2951 - val_loss: 0.1444 - val_mae: 0.3194\n",
      "Epoch 86/100\n",
      "5/5 [==============================] - 1s 179ms/step - loss: 0.1331 - mae: 0.3007 - val_loss: 0.1452 - val_mae: 0.3199\n",
      "Epoch 87/100\n",
      "5/5 [==============================] - 1s 189ms/step - loss: 0.1303 - mae: 0.2962 - val_loss: 0.1441 - val_mae: 0.3171\n",
      "Epoch 88/100\n",
      "5/5 [==============================] - 1s 186ms/step - loss: 0.1286 - mae: 0.2954 - val_loss: 0.1474 - val_mae: 0.3229\n",
      "Epoch 89/100\n",
      "5/5 [==============================] - 1s 179ms/step - loss: 0.1262 - mae: 0.2946 - val_loss: 0.1450 - val_mae: 0.3191\n",
      "Epoch 90/100\n",
      "5/5 [==============================] - 1s 177ms/step - loss: 0.1251 - mae: 0.2928 - val_loss: 0.1481 - val_mae: 0.3221\n",
      "Epoch 91/100\n",
      "5/5 [==============================] - 1s 180ms/step - loss: 0.1297 - mae: 0.2969 - val_loss: 0.1438 - val_mae: 0.3185\n",
      "Epoch 92/100\n",
      "5/5 [==============================] - 1s 178ms/step - loss: 0.1254 - mae: 0.2932 - val_loss: 0.1444 - val_mae: 0.3194\n",
      "Epoch 93/100\n",
      "5/5 [==============================] - 1s 179ms/step - loss: 0.1247 - mae: 0.2923 - val_loss: 0.1431 - val_mae: 0.3174\n",
      "Epoch 94/100\n",
      "5/5 [==============================] - 1s 178ms/step - loss: 0.1241 - mae: 0.2923 - val_loss: 0.1449 - val_mae: 0.3192\n",
      "Epoch 95/100\n",
      "5/5 [==============================] - 1s 179ms/step - loss: 0.1258 - mae: 0.2936 - val_loss: 0.1417 - val_mae: 0.3165\n",
      "Epoch 96/100\n",
      "5/5 [==============================] - 1s 181ms/step - loss: 0.1246 - mae: 0.2918 - val_loss: 0.1436 - val_mae: 0.3184\n",
      "Epoch 97/100\n"
     ]
    },
    {
     "name": "stdout",
     "output_type": "stream",
     "text": [
      "5/5 [==============================] - 1s 180ms/step - loss: 0.1235 - mae: 0.2913 - val_loss: 0.1440 - val_mae: 0.3191\n",
      "Epoch 98/100\n",
      "5/5 [==============================] - 1s 180ms/step - loss: 0.1262 - mae: 0.2927 - val_loss: 0.1428 - val_mae: 0.3168\n",
      "Epoch 99/100\n",
      "5/5 [==============================] - 1s 180ms/step - loss: 0.1259 - mae: 0.2947 - val_loss: 0.1450 - val_mae: 0.3204\n",
      "Epoch 100/100\n",
      "5/5 [==============================] - 1s 189ms/step - loss: 0.1268 - mae: 0.2938 - val_loss: 0.1433 - val_mae: 0.3167\n"
     ]
    }
   ],
   "source": [
    "from tensorflow.keras import datasets, layers, models\n",
    "from tensorflow import keras\n",
    "from tensorflow.keras import layers\n",
    "\n",
    "model = models.Sequential()\n",
    "model.add(layers.SimpleRNN(2048, input_shape=(time_step,2)))\n",
    "model.add(layers.Dense(25))\n",
    "\n",
    "model.summary()\n",
    "\n",
    "model.compile(optimizer='adam', loss='mse', metrics=['mae'])\n",
    "\n",
    "history = model.fit(train_input, train_label, epochs=100, verbose=1, shuffle=True, validation_split=0.20,\n",
    "                   callbacks=[WandbCallback(log_weights=True, log_gradients=True, training_data=(train_input, train_label))])"
   ]
  },
  {
   "cell_type": "code",
   "execution_count": 17,
   "id": "f2977e3d",
   "metadata": {},
   "outputs": [
    {
     "name": "stdout",
     "output_type": "stream",
     "text": [
      "1/1 [==============================] - 0s 131ms/step\n"
     ]
    }
   ],
   "source": [
    "test_input = test_input.reshape(1, test_input.shape[0], test_input.shape[1])\n",
    "\n",
    "y_hat = model.predict(test_input)"
   ]
  },
  {
   "cell_type": "code",
   "execution_count": 18,
   "id": "569d2b27",
   "metadata": {},
   "outputs": [
    {
     "data": {
      "text/plain": [
       "(1, 100, 2)"
      ]
     },
     "execution_count": 18,
     "metadata": {},
     "output_type": "execute_result"
    }
   ],
   "source": [
    "test_input.shape"
   ]
  },
  {
   "cell_type": "code",
   "execution_count": 19,
   "id": "6b083de8",
   "metadata": {},
   "outputs": [],
   "source": [
    "test_label = test_label.reshape(1, test_label.shape[0], test_label.shape[1])"
   ]
  },
  {
   "cell_type": "code",
   "execution_count": 20,
   "id": "54e7a073",
   "metadata": {},
   "outputs": [
    {
     "data": {
      "text/plain": [
       "(1, 25, 1)"
      ]
     },
     "execution_count": 20,
     "metadata": {},
     "output_type": "execute_result"
    }
   ],
   "source": [
    "test_label.shape"
   ]
  },
  {
   "cell_type": "code",
   "execution_count": 21,
   "id": "b3e0c133",
   "metadata": {},
   "outputs": [
    {
     "data": {
      "text/plain": [
       "array([[1.4696184, 1.5317069, 1.5160173, 1.5026342, 1.4962959, 1.4943103,\n",
       "        1.5746893, 1.6425495, 1.6915462, 1.6494635, 1.6130501, 1.5822511,\n",
       "        1.5839232, 1.6037053, 1.6377269, 1.6144403, 1.5884837, 1.6429718,\n",
       "        1.6594456, 1.7211884, 1.834098 , 1.6910588, 1.6799492, 1.7285326,\n",
       "        1.6592981]], dtype=float32)"
      ]
     },
     "execution_count": 21,
     "metadata": {},
     "output_type": "execute_result"
    }
   ],
   "source": [
    "y_hat"
   ]
  },
  {
   "cell_type": "code",
   "execution_count": 22,
   "id": "e37311d1",
   "metadata": {},
   "outputs": [
    {
     "data": {
      "text/plain": [
       "(1, 25)"
      ]
     },
     "execution_count": 22,
     "metadata": {},
     "output_type": "execute_result"
    }
   ],
   "source": [
    "y_hat.shape"
   ]
  },
  {
   "cell_type": "code",
   "execution_count": 23,
   "id": "ad0f0285",
   "metadata": {},
   "outputs": [],
   "source": [
    "y_hat = y_hat.reshape(y_hat.shape[1], 1)"
   ]
  },
  {
   "cell_type": "code",
   "execution_count": 24,
   "id": "69ea1f6f",
   "metadata": {},
   "outputs": [],
   "source": [
    "y_hat = (y_hat*data_std)+data_mean"
   ]
  },
  {
   "cell_type": "code",
   "execution_count": 25,
   "id": "702f2214",
   "metadata": {},
   "outputs": [],
   "source": [
    "#print(scaler.data_max_)"
   ]
  },
  {
   "cell_type": "code",
   "execution_count": 26,
   "id": "1ca1a387",
   "metadata": {},
   "outputs": [],
   "source": [
    "#print(scaler.data_min_)"
   ]
  },
  {
   "cell_type": "code",
   "execution_count": 27,
   "id": "5e40982b",
   "metadata": {},
   "outputs": [],
   "source": [
    "#y_hat = y_hat * (scaler.data_max_[1]-scaler.data_min_[1]) + scaler.data_min_[1]"
   ]
  },
  {
   "cell_type": "code",
   "execution_count": 28,
   "id": "902bb0d7",
   "metadata": {},
   "outputs": [
    {
     "data": {
      "text/plain": [
       "Text(0.5, 1.0, 'RNN prediction')"
      ]
     },
     "execution_count": 28,
     "metadata": {},
     "output_type": "execute_result"
    },
    {
     "data": {
      "image/png": "[encoded data removed]",
      "text/plain": [
       "<Figure size 1008x576 with 1 Axes>"
      ]
     },
     "metadata": {
      "needs_background": "light"
     },
     "output_type": "display_data"
    }
   ],
   "source": [
    "import matplotlib.pyplot as plt\n",
    "\n",
    "x = range(325)\n",
    "plt.figure(figsize=(14,8))\n",
    "plt.plot(df[300:325]['Sales'], label='original')\n",
    "plt.plot(x[300:325], y_hat, label='prediction')\n",
    "plt.legend()\n",
    "plt.xlabel('Sequence', fontsize=20)\n",
    "plt.ylabel('Sales', fontsize=20)\n",
    "plt.title('RNN prediction', fontsize=25)"
   ]
  },
  {
   "cell_type": "code",
   "execution_count": 29,
   "id": "051887d3",
   "metadata": {
    "scrolled": true
   },
   "outputs": [
    {
     "name": "stdout",
     "output_type": "stream",
     "text": [
      "1/1 [==============================] - 0s 22ms/step - loss: 0.2527 - mae: 0.4269\n"
     ]
    },
    {
     "data": {
      "text/plain": [
       "[0.2527385354042053, 0.42687371373176575]"
      ]
     },
     "execution_count": 29,
     "metadata": {},
     "output_type": "execute_result"
    }
   ],
   "source": [
    "model.evaluate(test_input, test_label)"
   ]
  },
  {
   "cell_type": "code",
   "execution_count": null,
   "id": "2819448e",
   "metadata": {},
   "outputs": [],
   "source": []
  }
 ],
 "metadata": {
  "kernelspec": {
   "display_name": "Python 3 (ipykernel)",
   "language": "python",
   "name": "python3"
  },
  "language_info": {
   "codemirror_mode": {
    "name": "ipython",
    "version": 3
   },
   "file_extension": ".py",
   "mimetype": "text/x-python",
   "name": "python",
   "nbconvert_exporter": "python",
   "pygments_lexer": "ipython3",
   "version": "3.9.12"
  }
 },
 "nbformat": 4,
 "nbformat_minor": 5
}
