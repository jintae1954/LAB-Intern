{
 "cells": [
  {
   "cell_type": "code",
   "execution_count": 1,
   "id": "97fcf186",
   "metadata": {},
   "outputs": [
    {
     "name": "stderr",
     "output_type": "stream",
     "text": [
      "\u001b[34m\u001b[1mwandb\u001b[0m: Currently logged in as: \u001b[33mjintae\u001b[0m. Use \u001b[1m`wandb login --relogin`\u001b[0m to force relogin\n"
     ]
    },
    {
     "data": {
      "text/html": [
       "Tracking run with wandb version 0.13.4"
      ],
      "text/plain": [
       "<IPython.core.display.HTML object>"
      ]
     },
     "metadata": {},
     "output_type": "display_data"
    },
    {
     "data": {
      "text/html": [
       "Run data is saved locally in <code>C:\\Users\\PARK\\Documents\\LAB\\RNN vs LSTM\\FInal Example\\wandb\\run-20221016_021922-3ugkxw4r</code>"
      ],
      "text/plain": [
       "<IPython.core.display.HTML object>"
      ]
     },
     "metadata": {},
     "output_type": "display_data"
    },
    {
     "data": {
      "text/html": [
       "Syncing run <strong><a href=\"https://wandb.ai/jintae/LSTM%20seq%201024./runs/3ugkxw4r\" target=\"_blank\">epoch 1000</a></strong> to <a href=\"https://wandb.ai/jintae/LSTM%20seq%201024.\" target=\"_blank\">Weights & Biases</a> (<a href=\"https://wandb.me/run\" target=\"_blank\">docs</a>)<br/>"
      ],
      "text/plain": [
       "<IPython.core.display.HTML object>"
      ]
     },
     "metadata": {},
     "output_type": "display_data"
    },
    {
     "data": {
      "text/html": [
       "<button onClick=\"this.nextSibling.style.display='block';this.style.display='none';\">Display W&B run</button><iframe src=\"https://wandb.ai/jintae/LSTM%20seq%201024./runs/3ugkxw4r?jupyter=true\" style=\"border:none;width:100%;height:420px;display:none;\"></iframe>"
      ],
      "text/plain": [
       "<wandb.sdk.wandb_run.Run at 0x1cd07771520>"
      ]
     },
     "execution_count": 1,
     "metadata": {},
     "output_type": "execute_result"
    }
   ],
   "source": [
    "import wandb\n",
    "from wandb.keras import WandbCallback\n",
    "wandb.init(project=\"LSTM seq 1024.\", name=\"epoch 1000\")"
   ]
  },
  {
   "cell_type": "code",
   "execution_count": 2,
   "id": "650bae84",
   "metadata": {},
   "outputs": [
    {
     "name": "stdout",
     "output_type": "stream",
     "text": [
      "   DATE  Sales\n",
      "0     0   3459\n",
      "1     1   3458\n",
      "2     2   4002\n",
      "3     3   4564\n",
      "4     4   4221\n"
     ]
    }
   ],
   "source": [
    "import pandas as pd\n",
    "\n",
    "df = pd.read_csv('C:/Users/PARK/Desktop/Alcohol_Sales.csv')\n",
    "print(df.head())"
   ]
  },
  {
   "cell_type": "code",
   "execution_count": 3,
   "id": "71e18e17",
   "metadata": {},
   "outputs": [
    {
     "data": {
      "text/plain": [
       "(325, 2)"
      ]
     },
     "execution_count": 3,
     "metadata": {},
     "output_type": "execute_result"
    }
   ],
   "source": [
    "df.shape"
   ]
  },
  {
   "cell_type": "code",
   "execution_count": 4,
   "id": "5f4f8fb7",
   "metadata": {},
   "outputs": [],
   "source": [
    "import numpy as np\n",
    "\n",
    "data = df.to_numpy()"
   ]
  },
  {
   "cell_type": "code",
   "execution_count": 5,
   "id": "c6063052",
   "metadata": {},
   "outputs": [
    {
     "data": {
      "text/plain": [
       "(325, 2)"
      ]
     },
     "execution_count": 5,
     "metadata": {},
     "output_type": "execute_result"
    }
   ],
   "source": [
    "data.shape"
   ]
  },
  {
   "cell_type": "code",
   "execution_count": 6,
   "id": "01930485",
   "metadata": {},
   "outputs": [
    {
     "data": {
      "text/plain": [
       "array([[   0, 3459],\n",
       "       [   1, 3458],\n",
       "       [   2, 4002],\n",
       "       [   3, 4564],\n",
       "       [   4, 4221]], dtype=int64)"
      ]
     },
     "execution_count": 6,
     "metadata": {},
     "output_type": "execute_result"
    }
   ],
   "source": [
    "data[0:5]"
   ]
  },
  {
   "cell_type": "code",
   "execution_count": 7,
   "id": "ad83b404",
   "metadata": {},
   "outputs": [],
   "source": [
    "# from sklearn.preprocessing import MinMaxScaler\n",
    "\n",
    "# scaler = MinMaxScaler()\n",
    "\n",
    "# data = scaler.fit_transform(data)"
   ]
  },
  {
   "cell_type": "code",
   "execution_count": 8,
   "id": "17aef2ea",
   "metadata": {},
   "outputs": [],
   "source": [
    "data_mean = data.mean()\n",
    "data_std = data.std()\n",
    "\n",
    "data = (data - data_mean)/data_std"
   ]
  },
  {
   "cell_type": "code",
   "execution_count": 9,
   "id": "63fe0032",
   "metadata": {},
   "outputs": [
    {
     "data": {
      "text/plain": [
       "array([[-0.9194862 , -0.12914209],\n",
       "       [-0.91925771, -0.12937058],\n",
       "       [-0.91902922, -0.00507246],\n",
       "       [-0.91880073,  0.12333846],\n",
       "       [-0.91857224,  0.04496667]])"
      ]
     },
     "execution_count": 9,
     "metadata": {},
     "output_type": "execute_result"
    }
   ],
   "source": [
    "data[0:5]"
   ]
  },
  {
   "cell_type": "code",
   "execution_count": 10,
   "id": "87ac24ef",
   "metadata": {
    "scrolled": true
   },
   "outputs": [],
   "source": [
    "train_input = []\n",
    "train_label = []\n",
    "\n",
    "data_len = 325\n",
    "time_step = 100\n",
    "out_dim = 25\n",
    "\n",
    "for i in range(176):\n",
    "    _input = data[i:i+time_step]\n",
    "    _label = data[i+time_step:i+time_step+out_dim]\n",
    "    \n",
    "    train_input.append(_input)\n",
    "    train_label.append(_label)\n",
    "    \n",
    "\n",
    "train_input = np.array(train_input)\n",
    "train_label = np.array(train_label)\n",
    "train_label = np.delete(train_label, 0, axis=2)\n",
    "\n",
    "\n",
    "test_input = np.array(data[data_len-out_dim-time_step:data_len-out_dim])\n",
    "test_label =np.array(data[300:325])\n",
    "test_label = np.delete(test_label, 0, axis=1)"
   ]
  },
  {
   "cell_type": "code",
   "execution_count": 11,
   "id": "41975dc7",
   "metadata": {},
   "outputs": [
    {
     "data": {
      "text/plain": [
       "(176, 100, 2)"
      ]
     },
     "execution_count": 11,
     "metadata": {},
     "output_type": "execute_result"
    }
   ],
   "source": [
    "train_input.shape"
   ]
  },
  {
   "cell_type": "code",
   "execution_count": 12,
   "id": "b762c3ba",
   "metadata": {},
   "outputs": [
    {
     "data": {
      "text/plain": [
       "(176, 25, 1)"
      ]
     },
     "execution_count": 12,
     "metadata": {},
     "output_type": "execute_result"
    }
   ],
   "source": [
    "train_label.shape"
   ]
  },
  {
   "cell_type": "code",
   "execution_count": 13,
   "id": "127c63a2",
   "metadata": {},
   "outputs": [
    {
     "data": {
      "text/plain": [
       "(100, 2)"
      ]
     },
     "execution_count": 13,
     "metadata": {},
     "output_type": "execute_result"
    }
   ],
   "source": [
    "test_input.shape"
   ]
  },
  {
   "cell_type": "code",
   "execution_count": 14,
   "id": "6647472d",
   "metadata": {},
   "outputs": [
    {
     "data": {
      "text/plain": [
       "(25, 1)"
      ]
     },
     "execution_count": 14,
     "metadata": {},
     "output_type": "execute_result"
    }
   ],
   "source": [
    "test_label.shape"
   ]
  },
  {
   "cell_type": "code",
   "execution_count": 15,
   "id": "5d83c07f",
   "metadata": {},
   "outputs": [],
   "source": [
    "np.random.seed(10)\n",
    "shuffled_indices = np.random.permutation(np.arange(train_input.shape[0]))\n",
    "train_input = train_input[shuffled_indices, :, :]\n",
    "train_label = train_label[shuffled_indices, :]"
   ]
  },
  {
   "cell_type": "code",
   "execution_count": 16,
   "id": "a183926e",
   "metadata": {
    "scrolled": true
   },
   "outputs": [
    {
     "name": "stdout",
     "output_type": "stream",
     "text": [
      "Model: \"sequential\"\n",
      "_________________________________________________________________\n",
      " Layer (type)                Output Shape              Param #   \n",
      "=================================================================\n",
      " lstm (LSTM)                 (None, 1024)              4206592   \n",
      "                                                                 \n",
      " dense (Dense)               (None, 25)                25625     \n",
      "                                                                 \n",
      "=================================================================\n",
      "Total params: 4,232,217\n",
      "Trainable params: 4,232,217\n",
      "Non-trainable params: 0\n",
      "_________________________________________________________________\n"
     ]
    },
    {
     "name": "stderr",
     "output_type": "stream",
     "text": [
      "\u001b[34m\u001b[1mwandb\u001b[0m: \u001b[33mWARNING\u001b[0m The save_model argument by default saves the model in the HDF5 format that cannot save custom objects like subclassed models and custom layers. This behavior will be deprecated in a future release in favor of the SavedModel format. Meanwhile, the HDF5 model is saved as W&B files and the SavedModel as W&B Artifacts.\n"
     ]
    },
    {
     "name": "stdout",
     "output_type": "stream",
     "text": [
      "Epoch 1/1000\n",
      "2/5 [===========>..................] - ETA: 0s - loss: 1.1090 - mae: 0.9739 "
     ]
    },
    {
     "name": "stderr",
     "output_type": "stream",
     "text": [
      "WARNING:absl:Found untraced functions such as lstm_cell_layer_call_fn, lstm_cell_layer_call_and_return_conditional_losses while saving (showing 2 of 2). These functions will not be directly callable after loading.\n"
     ]
    },
    {
     "name": "stdout",
     "output_type": "stream",
     "text": [
      "INFO:tensorflow:Assets written to: C:\\Users\\PARK\\Documents\\LAB\\RNN vs LSTM\\FInal Example\\wandb\\run-20221016_021922-3ugkxw4r\\files\\model-best\\assets\n"
     ]
    },
    {
     "name": "stderr",
     "output_type": "stream",
     "text": [
      "INFO:tensorflow:Assets written to: C:\\Users\\PARK\\Documents\\LAB\\RNN vs LSTM\\FInal Example\\wandb\\run-20221016_021922-3ugkxw4r\\files\\model-best\\assets\n",
      "\u001b[34m\u001b[1mwandb\u001b[0m: Adding directory to artifact (C:\\Users\\PARK\\Documents\\LAB\\RNN vs LSTM\\FInal Example\\wandb\\run-20221016_021922-3ugkxw4r\\files\\model-best)... Done. 0.1s\n"
     ]
    },
    {
     "name": "stdout",
     "output_type": "stream",
     "text": [
      "5/5 [==============================] - 13s 1s/step - loss: 0.9683 - mae: 0.8965 - val_loss: 0.9686 - val_mae: 0.9002\n",
      "Epoch 2/1000\n",
      "3/5 [=================>............] - ETA: 0s - loss: 0.9490 - mae: 0.8889"
     ]
    },
    {
     "name": "stderr",
     "output_type": "stream",
     "text": [
      "WARNING:absl:Found untraced functions such as lstm_cell_layer_call_fn, lstm_cell_layer_call_and_return_conditional_losses while saving (showing 2 of 2). These functions will not be directly callable after loading.\n"
     ]
    },
    {
     "name": "stdout",
     "output_type": "stream",
     "text": [
      "INFO:tensorflow:Assets written to: C:\\Users\\PARK\\Documents\\LAB\\RNN vs LSTM\\FInal Example\\wandb\\run-20221016_021922-3ugkxw4r\\files\\model-best\\assets\n"
     ]
    },
    {
     "name": "stderr",
     "output_type": "stream",
     "text": [
      "INFO:tensorflow:Assets written to: C:\\Users\\PARK\\Documents\\LAB\\RNN vs LSTM\\FInal Example\\wandb\\run-20221016_021922-3ugkxw4r\\files\\model-best\\assets\n",
      "\u001b[34m\u001b[1mwandb\u001b[0m: Adding directory to artifact (C:\\Users\\PARK\\Documents\\LAB\\RNN vs LSTM\\FInal Example\\wandb\\run-20221016_021922-3ugkxw4r\\files\\model-best)... Done. 0.1s\n"
     ]
    },
    {
     "name": "stdout",
     "output_type": "stream",
     "text": [
      "5/5 [==============================] - 5s 1s/step - loss: 0.7750 - mae: 0.7689 - val_loss: 0.2404 - val_mae: 0.4000\n",
      "Epoch 3/1000\n",
      "1/5 [=====>........................] - ETA: 0s - loss: 0.2703 - mae: 0.4342"
     ]
    },
    {
     "name": "stderr",
     "output_type": "stream",
     "text": [
      "WARNING:absl:Found untraced functions such as lstm_cell_layer_call_fn, lstm_cell_layer_call_and_return_conditional_losses while saving (showing 2 of 2). These functions will not be directly callable after loading.\n"
     ]
    },
    {
     "name": "stdout",
     "output_type": "stream",
     "text": [
      "INFO:tensorflow:Assets written to: C:\\Users\\PARK\\Documents\\LAB\\RNN vs LSTM\\FInal Example\\wandb\\run-20221016_021922-3ugkxw4r\\files\\model-best\\assets\n"
     ]
    },
    {
     "name": "stderr",
     "output_type": "stream",
     "text": [
      "INFO:tensorflow:Assets written to: C:\\Users\\PARK\\Documents\\LAB\\RNN vs LSTM\\FInal Example\\wandb\\run-20221016_021922-3ugkxw4r\\files\\model-best\\assets\n",
      "\u001b[34m\u001b[1mwandb\u001b[0m: Adding directory to artifact (C:\\Users\\PARK\\Documents\\LAB\\RNN vs LSTM\\FInal Example\\wandb\\run-20221016_021922-3ugkxw4r\\files\\model-best)... Done. 0.1s\n"
     ]
    },
    {
     "name": "stdout",
     "output_type": "stream",
     "text": [
      "5/5 [==============================] - 4s 1s/step - loss: 0.2250 - mae: 0.3866 - val_loss: 0.2197 - val_mae: 0.3842\n",
      "Epoch 4/1000\n",
      "1/5 [=====>........................] - ETA: 0s - loss: 0.2159 - mae: 0.3731"
     ]
    },
    {
     "name": "stderr",
     "output_type": "stream",
     "text": [
      "WARNING:absl:Found untraced functions such as lstm_cell_layer_call_fn, lstm_cell_layer_call_and_return_conditional_losses while saving (showing 2 of 2). These functions will not be directly callable after loading.\n"
     ]
    },
    {
     "name": "stdout",
     "output_type": "stream",
     "text": [
      "INFO:tensorflow:Assets written to: C:\\Users\\PARK\\Documents\\LAB\\RNN vs LSTM\\FInal Example\\wandb\\run-20221016_021922-3ugkxw4r\\files\\model-best\\assets\n"
     ]
    },
    {
     "name": "stderr",
     "output_type": "stream",
     "text": [
      "INFO:tensorflow:Assets written to: C:\\Users\\PARK\\Documents\\LAB\\RNN vs LSTM\\FInal Example\\wandb\\run-20221016_021922-3ugkxw4r\\files\\model-best\\assets\n",
      "\u001b[34m\u001b[1mwandb\u001b[0m: Adding directory to artifact (C:\\Users\\PARK\\Documents\\LAB\\RNN vs LSTM\\FInal Example\\wandb\\run-20221016_021922-3ugkxw4r\\files\\model-best)... Done. 0.1s\n"
     ]
    },
    {
     "name": "stdout",
     "output_type": "stream",
     "text": [
      "5/5 [==============================] - 4s 1s/step - loss: 0.1860 - mae: 0.3546 - val_loss: 0.1867 - val_mae: 0.3565\n",
      "Epoch 5/1000\n",
      "4/5 [=======================>......] - ETA: 0s - loss: 0.1911 - mae: 0.3608"
     ]
    },
    {
     "name": "stderr",
     "output_type": "stream",
     "text": [
      "WARNING:absl:Found untraced functions such as lstm_cell_layer_call_fn, lstm_cell_layer_call_and_return_conditional_losses while saving (showing 2 of 2). These functions will not be directly callable after loading.\n"
     ]
    },
    {
     "name": "stdout",
     "output_type": "stream",
     "text": [
      "INFO:tensorflow:Assets written to: C:\\Users\\PARK\\Documents\\LAB\\RNN vs LSTM\\FInal Example\\wandb\\run-20221016_021922-3ugkxw4r\\files\\model-best\\assets\n"
     ]
    },
    {
     "name": "stderr",
     "output_type": "stream",
     "text": [
      "INFO:tensorflow:Assets written to: C:\\Users\\PARK\\Documents\\LAB\\RNN vs LSTM\\FInal Example\\wandb\\run-20221016_021922-3ugkxw4r\\files\\model-best\\assets\n",
      "\u001b[34m\u001b[1mwandb\u001b[0m: Adding directory to artifact (C:\\Users\\PARK\\Documents\\LAB\\RNN vs LSTM\\FInal Example\\wandb\\run-20221016_021922-3ugkxw4r\\files\\model-best)... Done. 0.1s\n"
     ]
    },
    {
     "name": "stdout",
     "output_type": "stream",
     "text": [
      "5/5 [==============================] - 5s 1s/step - loss: 0.1895 - mae: 0.3593 - val_loss: 0.1662 - val_mae: 0.3391\n",
      "Epoch 6/1000\n",
      "5/5 [==============================] - 0s 103ms/step - loss: 0.1724 - mae: 0.3442 - val_loss: 0.1745 - val_mae: 0.3502\n",
      "Epoch 7/1000\n",
      "5/5 [==============================] - 0s 84ms/step - loss: 0.1728 - mae: 0.3428 - val_loss: 0.1676 - val_mae: 0.3416\n",
      "Epoch 8/1000\n",
      "1/5 [=====>........................] - ETA: 0s - loss: 0.1542 - mae: 0.3296"
     ]
    },
    {
     "name": "stderr",
     "output_type": "stream",
     "text": [
      "WARNING:absl:Found untraced functions such as lstm_cell_layer_call_fn, lstm_cell_layer_call_and_return_conditional_losses while saving (showing 2 of 2). These functions will not be directly callable after loading.\n"
     ]
    },
    {
     "name": "stdout",
     "output_type": "stream",
     "text": [
      "INFO:tensorflow:Assets written to: C:\\Users\\PARK\\Documents\\LAB\\RNN vs LSTM\\FInal Example\\wandb\\run-20221016_021922-3ugkxw4r\\files\\model-best\\assets\n"
     ]
    },
    {
     "name": "stderr",
     "output_type": "stream",
     "text": [
      "INFO:tensorflow:Assets written to: C:\\Users\\PARK\\Documents\\LAB\\RNN vs LSTM\\FInal Example\\wandb\\run-20221016_021922-3ugkxw4r\\files\\model-best\\assets\n",
      "\u001b[34m\u001b[1mwandb\u001b[0m: Adding directory to artifact (C:\\Users\\PARK\\Documents\\LAB\\RNN vs LSTM\\FInal Example\\wandb\\run-20221016_021922-3ugkxw4r\\files\\model-best)... Done. 0.1s\n"
     ]
    },
    {
     "name": "stdout",
     "output_type": "stream",
     "text": [
      "5/5 [==============================] - 4s 1s/step - loss: 0.1640 - mae: 0.3358 - val_loss: 0.1585 - val_mae: 0.3312\n",
      "Epoch 9/1000\n",
      "3/5 [=================>............] - ETA: 0s - loss: 0.1613 - mae: 0.3320"
     ]
    },
    {
     "name": "stderr",
     "output_type": "stream",
     "text": [
      "WARNING:absl:Found untraced functions such as lstm_cell_layer_call_fn, lstm_cell_layer_call_and_return_conditional_losses while saving (showing 2 of 2). These functions will not be directly callable after loading.\n"
     ]
    },
    {
     "name": "stdout",
     "output_type": "stream",
     "text": [
      "INFO:tensorflow:Assets written to: C:\\Users\\PARK\\Documents\\LAB\\RNN vs LSTM\\FInal Example\\wandb\\run-20221016_021922-3ugkxw4r\\files\\model-best\\assets\n"
     ]
    },
    {
     "name": "stderr",
     "output_type": "stream",
     "text": [
      "INFO:tensorflow:Assets written to: C:\\Users\\PARK\\Documents\\LAB\\RNN vs LSTM\\FInal Example\\wandb\\run-20221016_021922-3ugkxw4r\\files\\model-best\\assets\n",
      "\u001b[34m\u001b[1mwandb\u001b[0m: Adding directory to artifact (C:\\Users\\PARK\\Documents\\LAB\\RNN vs LSTM\\FInal Example\\wandb\\run-20221016_021922-3ugkxw4r\\files\\model-best)... Done. 0.1s\n"
     ]
    },
    {
     "name": "stdout",
     "output_type": "stream",
     "text": [
      "5/5 [==============================] - 4s 1s/step - loss: 0.1599 - mae: 0.3316 - val_loss: 0.1526 - val_mae: 0.3275\n",
      "Epoch 10/1000\n",
      "5/5 [==============================] - 1s 118ms/step - loss: 0.1532 - mae: 0.3243 - val_loss: 0.1534 - val_mae: 0.3236\n",
      "Epoch 11/1000\n",
      "5/5 [==============================] - ETA: 0s - loss: 0.1484 - mae: 0.3177"
     ]
    },
    {
     "name": "stderr",
     "output_type": "stream",
     "text": [
      "WARNING:absl:Found untraced functions such as lstm_cell_layer_call_fn, lstm_cell_layer_call_and_return_conditional_losses while saving (showing 2 of 2). These functions will not be directly callable after loading.\n"
     ]
    },
    {
     "name": "stdout",
     "output_type": "stream",
     "text": [
      "INFO:tensorflow:Assets written to: C:\\Users\\PARK\\Documents\\LAB\\RNN vs LSTM\\FInal Example\\wandb\\run-20221016_021922-3ugkxw4r\\files\\model-best\\assets\n"
     ]
    },
    {
     "name": "stderr",
     "output_type": "stream",
     "text": [
      "INFO:tensorflow:Assets written to: C:\\Users\\PARK\\Documents\\LAB\\RNN vs LSTM\\FInal Example\\wandb\\run-20221016_021922-3ugkxw4r\\files\\model-best\\assets\n",
      "\u001b[34m\u001b[1mwandb\u001b[0m: Adding directory to artifact (C:\\Users\\PARK\\Documents\\LAB\\RNN vs LSTM\\FInal Example\\wandb\\run-20221016_021922-3ugkxw4r\\files\\model-best)... Done. 0.1s\n"
     ]
    },
    {
     "name": "stdout",
     "output_type": "stream",
     "text": [
      "5/5 [==============================] - 4s 1s/step - loss: 0.1484 - mae: 0.3177 - val_loss: 0.1384 - val_mae: 0.3078\n",
      "Epoch 12/1000\n",
      "3/5 [=================>............] - ETA: 0s - loss: 0.1316 - mae: 0.2994"
     ]
    },
    {
     "name": "stderr",
     "output_type": "stream",
     "text": [
      "WARNING:absl:Found untraced functions such as lstm_cell_layer_call_fn, lstm_cell_layer_call_and_return_conditional_losses while saving (showing 2 of 2). These functions will not be directly callable after loading.\n"
     ]
    },
    {
     "name": "stdout",
     "output_type": "stream",
     "text": [
      "INFO:tensorflow:Assets written to: C:\\Users\\PARK\\Documents\\LAB\\RNN vs LSTM\\FInal Example\\wandb\\run-20221016_021922-3ugkxw4r\\files\\model-best\\assets\n"
     ]
    },
    {
     "name": "stderr",
     "output_type": "stream",
     "text": [
      "INFO:tensorflow:Assets written to: C:\\Users\\PARK\\Documents\\LAB\\RNN vs LSTM\\FInal Example\\wandb\\run-20221016_021922-3ugkxw4r\\files\\model-best\\assets\n",
      "\u001b[34m\u001b[1mwandb\u001b[0m: Adding directory to artifact (C:\\Users\\PARK\\Documents\\LAB\\RNN vs LSTM\\FInal Example\\wandb\\run-20221016_021922-3ugkxw4r\\files\\model-best)... Done. 0.1s\n"
     ]
    },
    {
     "name": "stdout",
     "output_type": "stream",
     "text": [
      "5/5 [==============================] - 4s 1s/step - loss: 0.1238 - mae: 0.2890 - val_loss: 0.1036 - val_mae: 0.2629\n",
      "Epoch 13/1000\n",
      "3/5 [=================>............] - ETA: 0s - loss: 0.1963 - mae: 0.3744"
     ]
    },
    {
     "name": "stderr",
     "output_type": "stream",
     "text": [
      "WARNING:absl:Found untraced functions such as lstm_cell_layer_call_fn, lstm_cell_layer_call_and_return_conditional_losses while saving (showing 2 of 2). These functions will not be directly callable after loading.\n"
     ]
    },
    {
     "name": "stdout",
     "output_type": "stream",
     "text": [
      "INFO:tensorflow:Assets written to: C:\\Users\\PARK\\Documents\\LAB\\RNN vs LSTM\\FInal Example\\wandb\\run-20221016_021922-3ugkxw4r\\files\\model-best\\assets\n"
     ]
    },
    {
     "name": "stderr",
     "output_type": "stream",
     "text": [
      "INFO:tensorflow:Assets written to: C:\\Users\\PARK\\Documents\\LAB\\RNN vs LSTM\\FInal Example\\wandb\\run-20221016_021922-3ugkxw4r\\files\\model-best\\assets\n",
      "\u001b[34m\u001b[1mwandb\u001b[0m: Adding directory to artifact (C:\\Users\\PARK\\Documents\\LAB\\RNN vs LSTM\\FInal Example\\wandb\\run-20221016_021922-3ugkxw4r\\files\\model-best)... Done. 0.2s\n"
     ]
    },
    {
     "name": "stdout",
     "output_type": "stream",
     "text": [
      "5/5 [==============================] - 4s 1s/step - loss: 0.2028 - mae: 0.3763 - val_loss: 0.1009 - val_mae: 0.2614\n",
      "Epoch 14/1000\n",
      "5/5 [==============================] - 1s 133ms/step - loss: 0.1258 - mae: 0.2917 - val_loss: 0.1181 - val_mae: 0.2855\n",
      "Epoch 15/1000\n",
      "5/5 [==============================] - 0s 95ms/step - loss: 0.1317 - mae: 0.2935 - val_loss: 0.1089 - val_mae: 0.2741\n",
      "Epoch 16/1000\n",
      "4/5 [=======================>......] - ETA: 0s - loss: 0.1154 - mae: 0.2778"
     ]
    },
    {
     "name": "stderr",
     "output_type": "stream",
     "text": [
      "WARNING:absl:Found untraced functions such as lstm_cell_layer_call_fn, lstm_cell_layer_call_and_return_conditional_losses while saving (showing 2 of 2). These functions will not be directly callable after loading.\n"
     ]
    },
    {
     "name": "stdout",
     "output_type": "stream",
     "text": [
      "INFO:tensorflow:Assets written to: C:\\Users\\PARK\\Documents\\LAB\\RNN vs LSTM\\FInal Example\\wandb\\run-20221016_021922-3ugkxw4r\\files\\model-best\\assets\n"
     ]
    },
    {
     "name": "stderr",
     "output_type": "stream",
     "text": [
      "INFO:tensorflow:Assets written to: C:\\Users\\PARK\\Documents\\LAB\\RNN vs LSTM\\FInal Example\\wandb\\run-20221016_021922-3ugkxw4r\\files\\model-best\\assets\n",
      "\u001b[34m\u001b[1mwandb\u001b[0m: Adding directory to artifact (C:\\Users\\PARK\\Documents\\LAB\\RNN vs LSTM\\FInal Example\\wandb\\run-20221016_021922-3ugkxw4r\\files\\model-best)... Done. 0.1s\n"
     ]
    },
    {
     "name": "stdout",
     "output_type": "stream",
     "text": [
      "5/5 [==============================] - 4s 1s/step - loss: 0.1169 - mae: 0.2801 - val_loss: 0.0973 - val_mae: 0.2572\n",
      "Epoch 17/1000\n",
      "3/5 [=================>............] - ETA: 0s - loss: 0.0965 - mae: 0.2545"
     ]
    },
    {
     "name": "stderr",
     "output_type": "stream",
     "text": [
      "WARNING:absl:Found untraced functions such as lstm_cell_layer_call_fn, lstm_cell_layer_call_and_return_conditional_losses while saving (showing 2 of 2). These functions will not be directly callable after loading.\n"
     ]
    },
    {
     "name": "stdout",
     "output_type": "stream",
     "text": [
      "INFO:tensorflow:Assets written to: C:\\Users\\PARK\\Documents\\LAB\\RNN vs LSTM\\FInal Example\\wandb\\run-20221016_021922-3ugkxw4r\\files\\model-best\\assets\n"
     ]
    },
    {
     "name": "stderr",
     "output_type": "stream",
     "text": [
      "INFO:tensorflow:Assets written to: C:\\Users\\PARK\\Documents\\LAB\\RNN vs LSTM\\FInal Example\\wandb\\run-20221016_021922-3ugkxw4r\\files\\model-best\\assets\n",
      "\u001b[34m\u001b[1mwandb\u001b[0m: Adding directory to artifact (C:\\Users\\PARK\\Documents\\LAB\\RNN vs LSTM\\FInal Example\\wandb\\run-20221016_021922-3ugkxw4r\\files\\model-best)... Done. 0.1s\n"
     ]
    },
    {
     "name": "stdout",
     "output_type": "stream",
     "text": [
      "5/5 [==============================] - 5s 1s/step - loss: 0.0906 - mae: 0.2447 - val_loss: 0.0703 - val_mae: 0.2113\n",
      "Epoch 18/1000\n",
      "5/5 [==============================] - ETA: 0s - loss: 0.0661 - mae: 0.2015"
     ]
    },
    {
     "name": "stderr",
     "output_type": "stream",
     "text": [
      "WARNING:absl:Found untraced functions such as lstm_cell_layer_call_fn, lstm_cell_layer_call_and_return_conditional_losses while saving (showing 2 of 2). These functions will not be directly callable after loading.\n"
     ]
    },
    {
     "name": "stdout",
     "output_type": "stream",
     "text": [
      "INFO:tensorflow:Assets written to: C:\\Users\\PARK\\Documents\\LAB\\RNN vs LSTM\\FInal Example\\wandb\\run-20221016_021922-3ugkxw4r\\files\\model-best\\assets\n"
     ]
    },
    {
     "name": "stderr",
     "output_type": "stream",
     "text": [
      "INFO:tensorflow:Assets written to: C:\\Users\\PARK\\Documents\\LAB\\RNN vs LSTM\\FInal Example\\wandb\\run-20221016_021922-3ugkxw4r\\files\\model-best\\assets\n",
      "\u001b[34m\u001b[1mwandb\u001b[0m: Adding directory to artifact (C:\\Users\\PARK\\Documents\\LAB\\RNN vs LSTM\\FInal Example\\wandb\\run-20221016_021922-3ugkxw4r\\files\\model-best)... Done. 0.1s\n"
     ]
    },
    {
     "name": "stdout",
     "output_type": "stream",
     "text": [
      "5/5 [==============================] - 4s 1s/step - loss: 0.0661 - mae: 0.2015 - val_loss: 0.0578 - val_mae: 0.1854\n",
      "Epoch 19/1000\n",
      "5/5 [==============================] - 1s 115ms/step - loss: 0.0648 - mae: 0.1985 - val_loss: 0.0621 - val_mae: 0.1889\n",
      "Epoch 20/1000\n",
      "1/5 [=====>........................] - ETA: 0s - loss: 0.0660 - mae: 0.1990"
     ]
    },
    {
     "name": "stderr",
     "output_type": "stream",
     "text": [
      "WARNING:absl:Found untraced functions such as lstm_cell_layer_call_fn, lstm_cell_layer_call_and_return_conditional_losses while saving (showing 2 of 2). These functions will not be directly callable after loading.\n"
     ]
    },
    {
     "name": "stdout",
     "output_type": "stream",
     "text": [
      "INFO:tensorflow:Assets written to: C:\\Users\\PARK\\Documents\\LAB\\RNN vs LSTM\\FInal Example\\wandb\\run-20221016_021922-3ugkxw4r\\files\\model-best\\assets\n"
     ]
    },
    {
     "name": "stderr",
     "output_type": "stream",
     "text": [
      "INFO:tensorflow:Assets written to: C:\\Users\\PARK\\Documents\\LAB\\RNN vs LSTM\\FInal Example\\wandb\\run-20221016_021922-3ugkxw4r\\files\\model-best\\assets\n",
      "\u001b[34m\u001b[1mwandb\u001b[0m: Adding directory to artifact (C:\\Users\\PARK\\Documents\\LAB\\RNN vs LSTM\\FInal Example\\wandb\\run-20221016_021922-3ugkxw4r\\files\\model-best)... Done. 0.1s\n"
     ]
    },
    {
     "name": "stdout",
     "output_type": "stream",
     "text": [
      "5/5 [==============================] - 4s 1s/step - loss: 0.0603 - mae: 0.1890 - val_loss: 0.0568 - val_mae: 0.1817\n",
      "Epoch 21/1000\n",
      "5/5 [==============================] - 1s 113ms/step - loss: 0.0597 - mae: 0.1877 - val_loss: 0.0578 - val_mae: 0.1847\n",
      "Epoch 22/1000\n",
      "1/5 [=====>........................] - ETA: 0s - loss: 0.0570 - mae: 0.1841"
     ]
    },
    {
     "name": "stderr",
     "output_type": "stream",
     "text": [
      "WARNING:absl:Found untraced functions such as lstm_cell_layer_call_fn, lstm_cell_layer_call_and_return_conditional_losses while saving (showing 2 of 2). These functions will not be directly callable after loading.\n"
     ]
    },
    {
     "name": "stdout",
     "output_type": "stream",
     "text": [
      "INFO:tensorflow:Assets written to: C:\\Users\\PARK\\Documents\\LAB\\RNN vs LSTM\\FInal Example\\wandb\\run-20221016_021922-3ugkxw4r\\files\\model-best\\assets\n"
     ]
    },
    {
     "name": "stderr",
     "output_type": "stream",
     "text": [
      "INFO:tensorflow:Assets written to: C:\\Users\\PARK\\Documents\\LAB\\RNN vs LSTM\\FInal Example\\wandb\\run-20221016_021922-3ugkxw4r\\files\\model-best\\assets\n",
      "\u001b[34m\u001b[1mwandb\u001b[0m: Adding directory to artifact (C:\\Users\\PARK\\Documents\\LAB\\RNN vs LSTM\\FInal Example\\wandb\\run-20221016_021922-3ugkxw4r\\files\\model-best)... Done. 0.1s\n"
     ]
    },
    {
     "name": "stdout",
     "output_type": "stream",
     "text": [
      "5/5 [==============================] - 4s 1s/step - loss: 0.0590 - mae: 0.1866 - val_loss: 0.0560 - val_mae: 0.1806\n",
      "Epoch 23/1000\n",
      "5/5 [==============================] - 1s 119ms/step - loss: 0.0570 - mae: 0.1834 - val_loss: 0.0569 - val_mae: 0.1816\n",
      "Epoch 24/1000\n",
      "5/5 [==============================] - 0s 75ms/step - loss: 0.0573 - mae: 0.1837 - val_loss: 0.0562 - val_mae: 0.1817\n",
      "Epoch 25/1000\n",
      "1/5 [=====>........................] - ETA: 0s - loss: 0.0568 - mae: 0.1812"
     ]
    },
    {
     "name": "stderr",
     "output_type": "stream",
     "text": [
      "WARNING:absl:Found untraced functions such as lstm_cell_layer_call_fn, lstm_cell_layer_call_and_return_conditional_losses while saving (showing 2 of 2). These functions will not be directly callable after loading.\n"
     ]
    },
    {
     "name": "stdout",
     "output_type": "stream",
     "text": [
      "INFO:tensorflow:Assets written to: C:\\Users\\PARK\\Documents\\LAB\\RNN vs LSTM\\FInal Example\\wandb\\run-20221016_021922-3ugkxw4r\\files\\model-best\\assets\n"
     ]
    },
    {
     "name": "stderr",
     "output_type": "stream",
     "text": [
      "INFO:tensorflow:Assets written to: C:\\Users\\PARK\\Documents\\LAB\\RNN vs LSTM\\FInal Example\\wandb\\run-20221016_021922-3ugkxw4r\\files\\model-best\\assets\n",
      "\u001b[34m\u001b[1mwandb\u001b[0m: Adding directory to artifact (C:\\Users\\PARK\\Documents\\LAB\\RNN vs LSTM\\FInal Example\\wandb\\run-20221016_021922-3ugkxw4r\\files\\model-best)... Done. 0.1s\n"
     ]
    },
    {
     "name": "stdout",
     "output_type": "stream",
     "text": [
      "5/5 [==============================] - 4s 1s/step - loss: 0.0569 - mae: 0.1829 - val_loss: 0.0557 - val_mae: 0.1793\n",
      "Epoch 26/1000\n",
      "5/5 [==============================] - 0s 97ms/step - loss: 0.0572 - mae: 0.1830 - val_loss: 0.0558 - val_mae: 0.1813\n",
      "Epoch 27/1000\n",
      "5/5 [==============================] - 0s 74ms/step - loss: 0.0566 - mae: 0.1819 - val_loss: 0.0563 - val_mae: 0.1821\n",
      "Epoch 28/1000\n",
      "1/5 [=====>........................] - ETA: 0s - loss: 0.0532 - mae: 0.1774"
     ]
    },
    {
     "name": "stderr",
     "output_type": "stream",
     "text": [
      "WARNING:absl:Found untraced functions such as lstm_cell_layer_call_fn, lstm_cell_layer_call_and_return_conditional_losses while saving (showing 2 of 2). These functions will not be directly callable after loading.\n"
     ]
    },
    {
     "name": "stdout",
     "output_type": "stream",
     "text": [
      "INFO:tensorflow:Assets written to: C:\\Users\\PARK\\Documents\\LAB\\RNN vs LSTM\\FInal Example\\wandb\\run-20221016_021922-3ugkxw4r\\files\\model-best\\assets\n"
     ]
    },
    {
     "name": "stderr",
     "output_type": "stream",
     "text": [
      "INFO:tensorflow:Assets written to: C:\\Users\\PARK\\Documents\\LAB\\RNN vs LSTM\\FInal Example\\wandb\\run-20221016_021922-3ugkxw4r\\files\\model-best\\assets\n",
      "\u001b[34m\u001b[1mwandb\u001b[0m: Adding directory to artifact (C:\\Users\\PARK\\Documents\\LAB\\RNN vs LSTM\\FInal Example\\wandb\\run-20221016_021922-3ugkxw4r\\files\\model-best)... Done. 0.1s\n"
     ]
    },
    {
     "name": "stdout",
     "output_type": "stream",
     "text": [
      "5/5 [==============================] - 4s 1s/step - loss: 0.0578 - mae: 0.1844 - val_loss: 0.0556 - val_mae: 0.1797\n",
      "Epoch 29/1000\n",
      "5/5 [==============================] - 1s 117ms/step - loss: 0.0569 - mae: 0.1823 - val_loss: 0.0559 - val_mae: 0.1824\n",
      "Epoch 30/1000\n",
      "5/5 [==============================] - 0s 75ms/step - loss: 0.0577 - mae: 0.1842 - val_loss: 0.0560 - val_mae: 0.1819\n",
      "Epoch 31/1000\n",
      "5/5 [==============================] - 0s 74ms/step - loss: 0.0572 - mae: 0.1825 - val_loss: 0.0585 - val_mae: 0.1884\n",
      "Epoch 32/1000\n",
      "5/5 [==============================] - 0s 75ms/step - loss: 0.0575 - mae: 0.1833 - val_loss: 0.0573 - val_mae: 0.1847\n",
      "Epoch 33/1000\n",
      "1/5 [=====>........................] - ETA: 0s - loss: 0.0555 - mae: 0.1826"
     ]
    },
    {
     "name": "stderr",
     "output_type": "stream",
     "text": [
      "WARNING:absl:Found untraced functions such as lstm_cell_layer_call_fn, lstm_cell_layer_call_and_return_conditional_losses while saving (showing 2 of 2). These functions will not be directly callable after loading.\n"
     ]
    },
    {
     "name": "stdout",
     "output_type": "stream",
     "text": [
      "INFO:tensorflow:Assets written to: C:\\Users\\PARK\\Documents\\LAB\\RNN vs LSTM\\FInal Example\\wandb\\run-20221016_021922-3ugkxw4r\\files\\model-best\\assets\n"
     ]
    },
    {
     "name": "stderr",
     "output_type": "stream",
     "text": [
      "INFO:tensorflow:Assets written to: C:\\Users\\PARK\\Documents\\LAB\\RNN vs LSTM\\FInal Example\\wandb\\run-20221016_021922-3ugkxw4r\\files\\model-best\\assets\n",
      "\u001b[34m\u001b[1mwandb\u001b[0m: Adding directory to artifact (C:\\Users\\PARK\\Documents\\LAB\\RNN vs LSTM\\FInal Example\\wandb\\run-20221016_021922-3ugkxw4r\\files\\model-best)... Done. 0.1s\n"
     ]
    },
    {
     "name": "stdout",
     "output_type": "stream",
     "text": [
      "5/5 [==============================] - 4s 1s/step - loss: 0.0578 - mae: 0.1837 - val_loss: 0.0556 - val_mae: 0.1804\n",
      "Epoch 34/1000\n",
      "5/5 [==============================] - 1s 115ms/step - loss: 0.0570 - mae: 0.1830 - val_loss: 0.0563 - val_mae: 0.1810\n",
      "Epoch 35/1000\n",
      "5/5 [==============================] - 0s 77ms/step - loss: 0.0574 - mae: 0.1834 - val_loss: 0.0582 - val_mae: 0.1830\n",
      "Epoch 36/1000\n",
      "5/5 [==============================] - 0s 75ms/step - loss: 0.0592 - mae: 0.1869 - val_loss: 0.0638 - val_mae: 0.1922\n",
      "Epoch 37/1000\n",
      "5/5 [==============================] - 0s 73ms/step - loss: 0.0638 - mae: 0.1952 - val_loss: 0.0582 - val_mae: 0.1845\n",
      "Epoch 38/1000\n",
      "5/5 [==============================] - 0s 73ms/step - loss: 0.0604 - mae: 0.1887 - val_loss: 0.0581 - val_mae: 0.1849\n",
      "Epoch 39/1000\n",
      "1/5 [=====>........................] - ETA: 0s - loss: 0.0519 - mae: 0.1753"
     ]
    },
    {
     "name": "stderr",
     "output_type": "stream",
     "text": [
      "WARNING:absl:Found untraced functions such as lstm_cell_layer_call_fn, lstm_cell_layer_call_and_return_conditional_losses while saving (showing 2 of 2). These functions will not be directly callable after loading.\n"
     ]
    },
    {
     "name": "stdout",
     "output_type": "stream",
     "text": [
      "INFO:tensorflow:Assets written to: C:\\Users\\PARK\\Documents\\LAB\\RNN vs LSTM\\FInal Example\\wandb\\run-20221016_021922-3ugkxw4r\\files\\model-best\\assets\n"
     ]
    },
    {
     "name": "stderr",
     "output_type": "stream",
     "text": [
      "INFO:tensorflow:Assets written to: C:\\Users\\PARK\\Documents\\LAB\\RNN vs LSTM\\FInal Example\\wandb\\run-20221016_021922-3ugkxw4r\\files\\model-best\\assets\n",
      "\u001b[34m\u001b[1mwandb\u001b[0m: Adding directory to artifact (C:\\Users\\PARK\\Documents\\LAB\\RNN vs LSTM\\FInal Example\\wandb\\run-20221016_021922-3ugkxw4r\\files\\model-best)... Done. 0.1s\n"
     ]
    },
    {
     "name": "stdout",
     "output_type": "stream",
     "text": [
      "5/5 [==============================] - 4s 1s/step - loss: 0.0614 - mae: 0.1906 - val_loss: 0.0555 - val_mae: 0.1797\n",
      "Epoch 40/1000\n",
      "5/5 [==============================] - 0s 100ms/step - loss: 0.0625 - mae: 0.1928 - val_loss: 0.0556 - val_mae: 0.1803\n",
      "Epoch 41/1000\n",
      "5/5 [==============================] - 0s 72ms/step - loss: 0.0620 - mae: 0.1918 - val_loss: 0.0585 - val_mae: 0.1877\n",
      "Epoch 42/1000\n",
      "5/5 [==============================] - 0s 73ms/step - loss: 0.0617 - mae: 0.1913 - val_loss: 0.0586 - val_mae: 0.1877\n",
      "Epoch 43/1000\n",
      "5/5 [==============================] - 0s 73ms/step - loss: 0.0582 - mae: 0.1848 - val_loss: 0.0586 - val_mae: 0.1894\n",
      "Epoch 44/1000\n",
      "5/5 [==============================] - 0s 72ms/step - loss: 0.0582 - mae: 0.1855 - val_loss: 0.0566 - val_mae: 0.1847\n",
      "Epoch 45/1000\n",
      "5/5 [==============================] - 0s 70ms/step - loss: 0.0569 - mae: 0.1832 - val_loss: 0.0584 - val_mae: 0.1888\n",
      "Epoch 46/1000\n",
      "5/5 [==============================] - 0s 73ms/step - loss: 0.0576 - mae: 0.1839 - val_loss: 0.0606 - val_mae: 0.1942\n",
      "Epoch 47/1000\n",
      "5/5 [==============================] - 0s 71ms/step - loss: 0.0595 - mae: 0.1884 - val_loss: 0.0566 - val_mae: 0.1840\n",
      "Epoch 48/1000\n",
      "5/5 [==============================] - 0s 70ms/step - loss: 0.0577 - mae: 0.1846 - val_loss: 0.0570 - val_mae: 0.1845\n",
      "Epoch 49/1000\n",
      "5/5 [==============================] - 0s 75ms/step - loss: 0.0572 - mae: 0.1833 - val_loss: 0.0566 - val_mae: 0.1842\n",
      "Epoch 50/1000\n",
      "5/5 [==============================] - 0s 71ms/step - loss: 0.0565 - mae: 0.1825 - val_loss: 0.0558 - val_mae: 0.1814\n",
      "Epoch 51/1000\n",
      "5/5 [==============================] - 0s 69ms/step - loss: 0.0559 - mae: 0.1810 - val_loss: 0.0556 - val_mae: 0.1803\n",
      "Epoch 52/1000\n",
      "5/5 [==============================] - 0s 70ms/step - loss: 0.0557 - mae: 0.1805 - val_loss: 0.0570 - val_mae: 0.1820\n",
      "Epoch 53/1000\n",
      "5/5 [==============================] - 0s 71ms/step - loss: 0.0560 - mae: 0.1808 - val_loss: 0.0570 - val_mae: 0.1820\n",
      "Epoch 54/1000\n",
      "5/5 [==============================] - 0s 70ms/step - loss: 0.0558 - mae: 0.1808 - val_loss: 0.0560 - val_mae: 0.1799\n",
      "Epoch 55/1000\n",
      "5/5 [==============================] - 0s 70ms/step - loss: 0.0562 - mae: 0.1812 - val_loss: 0.0576 - val_mae: 0.1815\n",
      "Epoch 56/1000\n",
      "5/5 [==============================] - 0s 74ms/step - loss: 0.0560 - mae: 0.1812 - val_loss: 0.0576 - val_mae: 0.1826\n",
      "Epoch 57/1000\n",
      "5/5 [==============================] - 0s 72ms/step - loss: 0.0566 - mae: 0.1821 - val_loss: 0.0559 - val_mae: 0.1811\n",
      "Epoch 58/1000\n",
      "5/5 [==============================] - 0s 72ms/step - loss: 0.0557 - mae: 0.1806 - val_loss: 0.0556 - val_mae: 0.1794\n",
      "Epoch 59/1000\n",
      "5/5 [==============================] - 0s 76ms/step - loss: 0.0563 - mae: 0.1811 - val_loss: 0.0569 - val_mae: 0.1805\n",
      "Epoch 60/1000\n",
      "5/5 [==============================] - 0s 71ms/step - loss: 0.0557 - mae: 0.1806 - val_loss: 0.0556 - val_mae: 0.1802\n",
      "Epoch 61/1000\n",
      "5/5 [==============================] - 0s 70ms/step - loss: 0.0558 - mae: 0.1807 - val_loss: 0.0558 - val_mae: 0.1826\n",
      "Epoch 62/1000\n",
      "5/5 [==============================] - 0s 71ms/step - loss: 0.0559 - mae: 0.1814 - val_loss: 0.0563 - val_mae: 0.1807\n",
      "Epoch 63/1000\n",
      "1/5 [=====>........................] - ETA: 0s - loss: 0.0604 - mae: 0.1868"
     ]
    },
    {
     "name": "stderr",
     "output_type": "stream",
     "text": [
      "WARNING:absl:Found untraced functions such as lstm_cell_layer_call_fn, lstm_cell_layer_call_and_return_conditional_losses while saving (showing 2 of 2). These functions will not be directly callable after loading.\n"
     ]
    },
    {
     "name": "stdout",
     "output_type": "stream",
     "text": [
      "INFO:tensorflow:Assets written to: C:\\Users\\PARK\\Documents\\LAB\\RNN vs LSTM\\FInal Example\\wandb\\run-20221016_021922-3ugkxw4r\\files\\model-best\\assets\n"
     ]
    },
    {
     "name": "stderr",
     "output_type": "stream",
     "text": [
      "INFO:tensorflow:Assets written to: C:\\Users\\PARK\\Documents\\LAB\\RNN vs LSTM\\FInal Example\\wandb\\run-20221016_021922-3ugkxw4r\\files\\model-best\\assets\n",
      "\u001b[34m\u001b[1mwandb\u001b[0m: Adding directory to artifact (C:\\Users\\PARK\\Documents\\LAB\\RNN vs LSTM\\FInal Example\\wandb\\run-20221016_021922-3ugkxw4r\\files\\model-best)... Done. 0.1s\n"
     ]
    },
    {
     "name": "stdout",
     "output_type": "stream",
     "text": [
      "5/5 [==============================] - 4s 1s/step - loss: 0.0552 - mae: 0.1791 - val_loss: 0.0550 - val_mae: 0.1806\n",
      "Epoch 64/1000\n",
      "5/5 [==============================] - 1s 115ms/step - loss: 0.0562 - mae: 0.1813 - val_loss: 0.0557 - val_mae: 0.1803\n",
      "Epoch 65/1000\n",
      "5/5 [==============================] - 0s 73ms/step - loss: 0.0555 - mae: 0.1800 - val_loss: 0.0578 - val_mae: 0.1863\n",
      "Epoch 66/1000\n",
      "5/5 [==============================] - 0s 77ms/step - loss: 0.0570 - mae: 0.1832 - val_loss: 0.0589 - val_mae: 0.1899\n",
      "Epoch 67/1000\n",
      "5/5 [==============================] - 0s 74ms/step - loss: 0.0592 - mae: 0.1879 - val_loss: 0.0587 - val_mae: 0.1886\n",
      "Epoch 68/1000\n",
      "5/5 [==============================] - 0s 72ms/step - loss: 0.0580 - mae: 0.1850 - val_loss: 0.0565 - val_mae: 0.1831\n",
      "Epoch 69/1000\n",
      "1/5 [=====>........................] - ETA: 0s - loss: 0.0554 - mae: 0.1794"
     ]
    },
    {
     "name": "stderr",
     "output_type": "stream",
     "text": [
      "WARNING:absl:Found untraced functions such as lstm_cell_layer_call_fn, lstm_cell_layer_call_and_return_conditional_losses while saving (showing 2 of 2). These functions will not be directly callable after loading.\n"
     ]
    },
    {
     "name": "stdout",
     "output_type": "stream",
     "text": [
      "INFO:tensorflow:Assets written to: C:\\Users\\PARK\\Documents\\LAB\\RNN vs LSTM\\FInal Example\\wandb\\run-20221016_021922-3ugkxw4r\\files\\model-best\\assets\n"
     ]
    },
    {
     "name": "stderr",
     "output_type": "stream",
     "text": [
      "INFO:tensorflow:Assets written to: C:\\Users\\PARK\\Documents\\LAB\\RNN vs LSTM\\FInal Example\\wandb\\run-20221016_021922-3ugkxw4r\\files\\model-best\\assets\n",
      "\u001b[34m\u001b[1mwandb\u001b[0m: Adding directory to artifact (C:\\Users\\PARK\\Documents\\LAB\\RNN vs LSTM\\FInal Example\\wandb\\run-20221016_021922-3ugkxw4r\\files\\model-best)... Done. 0.1s\n"
     ]
    },
    {
     "name": "stdout",
     "output_type": "stream",
     "text": [
      "5/5 [==============================] - 4s 1s/step - loss: 0.0571 - mae: 0.1829 - val_loss: 0.0545 - val_mae: 0.1776\n",
      "Epoch 70/1000\n",
      "5/5 [==============================] - 1s 106ms/step - loss: 0.0560 - mae: 0.1812 - val_loss: 0.0566 - val_mae: 0.1815\n",
      "Epoch 71/1000\n",
      "5/5 [==============================] - 0s 74ms/step - loss: 0.0556 - mae: 0.1813 - val_loss: 0.0550 - val_mae: 0.1786\n",
      "Epoch 72/1000\n",
      "5/5 [==============================] - 0s 74ms/step - loss: 0.0552 - mae: 0.1800 - val_loss: 0.0559 - val_mae: 0.1802\n",
      "Epoch 73/1000\n",
      "5/5 [==============================] - 0s 77ms/step - loss: 0.0551 - mae: 0.1799 - val_loss: 0.0631 - val_mae: 0.1893\n",
      "Epoch 74/1000\n",
      "5/5 [==============================] - 0s 74ms/step - loss: 0.0602 - mae: 0.1900 - val_loss: 0.0568 - val_mae: 0.1812\n",
      "Epoch 75/1000\n",
      "5/5 [==============================] - 0s 71ms/step - loss: 0.0570 - mae: 0.1833 - val_loss: 0.0575 - val_mae: 0.1816\n",
      "Epoch 76/1000\n",
      "5/5 [==============================] - 0s 75ms/step - loss: 0.0572 - mae: 0.1837 - val_loss: 0.0588 - val_mae: 0.1839\n",
      "Epoch 77/1000\n",
      "5/5 [==============================] - 0s 72ms/step - loss: 0.0557 - mae: 0.1810 - val_loss: 0.0593 - val_mae: 0.1835\n",
      "Epoch 78/1000\n",
      "5/5 [==============================] - 0s 73ms/step - loss: 0.0582 - mae: 0.1862 - val_loss: 0.0586 - val_mae: 0.1848\n",
      "Epoch 79/1000\n",
      "5/5 [==============================] - 0s 73ms/step - loss: 0.0581 - mae: 0.1852 - val_loss: 0.0595 - val_mae: 0.1854\n",
      "Epoch 80/1000\n",
      "5/5 [==============================] - 0s 72ms/step - loss: 0.0562 - mae: 0.1817 - val_loss: 0.0560 - val_mae: 0.1799\n",
      "Epoch 81/1000\n",
      "5/5 [==============================] - 0s 73ms/step - loss: 0.0545 - mae: 0.1791 - val_loss: 0.0575 - val_mae: 0.1819\n",
      "Epoch 82/1000\n",
      "5/5 [==============================] - 0s 73ms/step - loss: 0.0554 - mae: 0.1807 - val_loss: 0.0599 - val_mae: 0.1854\n",
      "Epoch 83/1000\n",
      "5/5 [==============================] - 0s 75ms/step - loss: 0.0574 - mae: 0.1846 - val_loss: 0.0597 - val_mae: 0.1856\n",
      "Epoch 84/1000\n",
      "5/5 [==============================] - 0s 71ms/step - loss: 0.0564 - mae: 0.1827 - val_loss: 0.0624 - val_mae: 0.1894\n",
      "Epoch 85/1000\n",
      "5/5 [==============================] - 0s 71ms/step - loss: 0.0578 - mae: 0.1847 - val_loss: 0.0554 - val_mae: 0.1788\n",
      "Epoch 86/1000\n",
      "5/5 [==============================] - 0s 73ms/step - loss: 0.0561 - mae: 0.1818 - val_loss: 0.0567 - val_mae: 0.1806\n",
      "Epoch 87/1000\n",
      "5/5 [==============================] - 0s 71ms/step - loss: 0.0596 - mae: 0.1885 - val_loss: 0.0568 - val_mae: 0.1806\n",
      "Epoch 88/1000\n",
      "5/5 [==============================] - 0s 71ms/step - loss: 0.0571 - mae: 0.1831 - val_loss: 0.0552 - val_mae: 0.1794\n",
      "Epoch 89/1000\n",
      "5/5 [==============================] - 0s 75ms/step - loss: 0.0559 - mae: 0.1814 - val_loss: 0.0550 - val_mae: 0.1804\n",
      "Epoch 90/1000\n",
      "5/5 [==============================] - 0s 72ms/step - loss: 0.0548 - mae: 0.1783 - val_loss: 0.0567 - val_mae: 0.1854\n",
      "Epoch 91/1000\n",
      "5/5 [==============================] - 0s 71ms/step - loss: 0.0550 - mae: 0.1802 - val_loss: 0.0551 - val_mae: 0.1801\n",
      "Epoch 92/1000\n",
      "1/5 [=====>........................] - ETA: 0s - loss: 0.0583 - mae: 0.1853"
     ]
    },
    {
     "name": "stderr",
     "output_type": "stream",
     "text": [
      "WARNING:absl:Found untraced functions such as lstm_cell_layer_call_fn, lstm_cell_layer_call_and_return_conditional_losses while saving (showing 2 of 2). These functions will not be directly callable after loading.\n"
     ]
    },
    {
     "name": "stdout",
     "output_type": "stream",
     "text": [
      "INFO:tensorflow:Assets written to: C:\\Users\\PARK\\Documents\\LAB\\RNN vs LSTM\\FInal Example\\wandb\\run-20221016_021922-3ugkxw4r\\files\\model-best\\assets\n"
     ]
    },
    {
     "name": "stderr",
     "output_type": "stream",
     "text": [
      "INFO:tensorflow:Assets written to: C:\\Users\\PARK\\Documents\\LAB\\RNN vs LSTM\\FInal Example\\wandb\\run-20221016_021922-3ugkxw4r\\files\\model-best\\assets\n",
      "\u001b[34m\u001b[1mwandb\u001b[0m: Adding directory to artifact (C:\\Users\\PARK\\Documents\\LAB\\RNN vs LSTM\\FInal Example\\wandb\\run-20221016_021922-3ugkxw4r\\files\\model-best)... Done. 0.1s\n"
     ]
    },
    {
     "name": "stdout",
     "output_type": "stream",
     "text": [
      "5/5 [==============================] - 4s 1s/step - loss: 0.0537 - mae: 0.1774 - val_loss: 0.0538 - val_mae: 0.1782\n",
      "Epoch 93/1000\n",
      "5/5 [==============================] - 1s 109ms/step - loss: 0.0532 - mae: 0.1769 - val_loss: 0.0545 - val_mae: 0.1796\n",
      "Epoch 94/1000\n",
      "5/5 [==============================] - 0s 73ms/step - loss: 0.0532 - mae: 0.1766 - val_loss: 0.0543 - val_mae: 0.1783\n",
      "Epoch 95/1000\n",
      "1/5 [=====>........................] - ETA: 0s - loss: 0.0506 - mae: 0.1723"
     ]
    },
    {
     "name": "stderr",
     "output_type": "stream",
     "text": [
      "WARNING:absl:Found untraced functions such as lstm_cell_layer_call_fn, lstm_cell_layer_call_and_return_conditional_losses while saving (showing 2 of 2). These functions will not be directly callable after loading.\n"
     ]
    },
    {
     "name": "stdout",
     "output_type": "stream",
     "text": [
      "INFO:tensorflow:Assets written to: C:\\Users\\PARK\\Documents\\LAB\\RNN vs LSTM\\FInal Example\\wandb\\run-20221016_021922-3ugkxw4r\\files\\model-best\\assets\n"
     ]
    },
    {
     "name": "stderr",
     "output_type": "stream",
     "text": [
      "INFO:tensorflow:Assets written to: C:\\Users\\PARK\\Documents\\LAB\\RNN vs LSTM\\FInal Example\\wandb\\run-20221016_021922-3ugkxw4r\\files\\model-best\\assets\n",
      "\u001b[34m\u001b[1mwandb\u001b[0m: Adding directory to artifact (C:\\Users\\PARK\\Documents\\LAB\\RNN vs LSTM\\FInal Example\\wandb\\run-20221016_021922-3ugkxw4r\\files\\model-best)... Done. 0.1s\n"
     ]
    },
    {
     "name": "stdout",
     "output_type": "stream",
     "text": [
      "5/5 [==============================] - 4s 1s/step - loss: 0.0531 - mae: 0.1759 - val_loss: 0.0537 - val_mae: 0.1770\n",
      "Epoch 96/1000\n",
      "5/5 [==============================] - 1s 112ms/step - loss: 0.0526 - mae: 0.1750 - val_loss: 0.0544 - val_mae: 0.1795\n",
      "Epoch 97/1000\n",
      "5/5 [==============================] - 0s 74ms/step - loss: 0.0529 - mae: 0.1759 - val_loss: 0.0561 - val_mae: 0.1849\n",
      "Epoch 98/1000\n",
      "5/5 [==============================] - 0s 72ms/step - loss: 0.0555 - mae: 0.1810 - val_loss: 0.0609 - val_mae: 0.1955\n",
      "Epoch 99/1000\n",
      "5/5 [==============================] - 0s 71ms/step - loss: 0.0570 - mae: 0.1852 - val_loss: 0.0581 - val_mae: 0.1891\n",
      "Epoch 100/1000\n",
      "1/5 [=====>........................] - ETA: 0s - loss: 0.0599 - mae: 0.1921"
     ]
    },
    {
     "name": "stderr",
     "output_type": "stream",
     "text": [
      "WARNING:absl:Found untraced functions such as lstm_cell_layer_call_fn, lstm_cell_layer_call_and_return_conditional_losses while saving (showing 2 of 2). These functions will not be directly callable after loading.\n"
     ]
    },
    {
     "name": "stdout",
     "output_type": "stream",
     "text": [
      "INFO:tensorflow:Assets written to: C:\\Users\\PARK\\Documents\\LAB\\RNN vs LSTM\\FInal Example\\wandb\\run-20221016_021922-3ugkxw4r\\files\\model-best\\assets\n"
     ]
    },
    {
     "name": "stderr",
     "output_type": "stream",
     "text": [
      "INFO:tensorflow:Assets written to: C:\\Users\\PARK\\Documents\\LAB\\RNN vs LSTM\\FInal Example\\wandb\\run-20221016_021922-3ugkxw4r\\files\\model-best\\assets\n",
      "\u001b[34m\u001b[1mwandb\u001b[0m: Adding directory to artifact (C:\\Users\\PARK\\Documents\\LAB\\RNN vs LSTM\\FInal Example\\wandb\\run-20221016_021922-3ugkxw4r\\files\\model-best)... Done. 0.1s\n"
     ]
    },
    {
     "name": "stdout",
     "output_type": "stream",
     "text": [
      "5/5 [==============================] - 4s 1s/step - loss: 0.0546 - mae: 0.1793 - val_loss: 0.0530 - val_mae: 0.1768\n",
      "Epoch 101/1000\n",
      "5/5 [==============================] - 0s 99ms/step - loss: 0.0524 - mae: 0.1756 - val_loss: 0.0531 - val_mae: 0.1772\n",
      "Epoch 102/1000\n",
      "5/5 [==============================] - ETA: 0s - loss: 0.0511 - mae: 0.1739"
     ]
    },
    {
     "name": "stderr",
     "output_type": "stream",
     "text": [
      "WARNING:absl:Found untraced functions such as lstm_cell_layer_call_fn, lstm_cell_layer_call_and_return_conditional_losses while saving (showing 2 of 2). These functions will not be directly callable after loading.\n"
     ]
    },
    {
     "name": "stdout",
     "output_type": "stream",
     "text": [
      "INFO:tensorflow:Assets written to: C:\\Users\\PARK\\Documents\\LAB\\RNN vs LSTM\\FInal Example\\wandb\\run-20221016_021922-3ugkxw4r\\files\\model-best\\assets\n"
     ]
    },
    {
     "name": "stderr",
     "output_type": "stream",
     "text": [
      "INFO:tensorflow:Assets written to: C:\\Users\\PARK\\Documents\\LAB\\RNN vs LSTM\\FInal Example\\wandb\\run-20221016_021922-3ugkxw4r\\files\\model-best\\assets\n",
      "\u001b[34m\u001b[1mwandb\u001b[0m: Adding directory to artifact (C:\\Users\\PARK\\Documents\\LAB\\RNN vs LSTM\\FInal Example\\wandb\\run-20221016_021922-3ugkxw4r\\files\\model-best)... Done. 0.1s\n"
     ]
    },
    {
     "name": "stdout",
     "output_type": "stream",
     "text": [
      "5/5 [==============================] - 4s 1s/step - loss: 0.0511 - mae: 0.1739 - val_loss: 0.0529 - val_mae: 0.1756\n",
      "Epoch 103/1000\n",
      "3/5 [=================>............] - ETA: 0s - loss: 0.0504 - mae: 0.1731"
     ]
    },
    {
     "name": "stderr",
     "output_type": "stream",
     "text": [
      "WARNING:absl:Found untraced functions such as lstm_cell_layer_call_fn, lstm_cell_layer_call_and_return_conditional_losses while saving (showing 2 of 2). These functions will not be directly callable after loading.\n"
     ]
    },
    {
     "name": "stdout",
     "output_type": "stream",
     "text": [
      "INFO:tensorflow:Assets written to: C:\\Users\\PARK\\Documents\\LAB\\RNN vs LSTM\\FInal Example\\wandb\\run-20221016_021922-3ugkxw4r\\files\\model-best\\assets\n"
     ]
    },
    {
     "name": "stderr",
     "output_type": "stream",
     "text": [
      "INFO:tensorflow:Assets written to: C:\\Users\\PARK\\Documents\\LAB\\RNN vs LSTM\\FInal Example\\wandb\\run-20221016_021922-3ugkxw4r\\files\\model-best\\assets\n",
      "\u001b[34m\u001b[1mwandb\u001b[0m: Adding directory to artifact (C:\\Users\\PARK\\Documents\\LAB\\RNN vs LSTM\\FInal Example\\wandb\\run-20221016_021922-3ugkxw4r\\files\\model-best)... Done. 0.1s\n"
     ]
    },
    {
     "name": "stdout",
     "output_type": "stream",
     "text": [
      "5/5 [==============================] - 4s 1s/step - loss: 0.0517 - mae: 0.1749 - val_loss: 0.0528 - val_mae: 0.1762\n",
      "Epoch 104/1000\n",
      "3/5 [=================>............] - ETA: 0s - loss: 0.0503 - mae: 0.1717"
     ]
    },
    {
     "name": "stderr",
     "output_type": "stream",
     "text": [
      "WARNING:absl:Found untraced functions such as lstm_cell_layer_call_fn, lstm_cell_layer_call_and_return_conditional_losses while saving (showing 2 of 2). These functions will not be directly callable after loading.\n"
     ]
    },
    {
     "name": "stdout",
     "output_type": "stream",
     "text": [
      "INFO:tensorflow:Assets written to: C:\\Users\\PARK\\Documents\\LAB\\RNN vs LSTM\\FInal Example\\wandb\\run-20221016_021922-3ugkxw4r\\files\\model-best\\assets\n"
     ]
    },
    {
     "name": "stderr",
     "output_type": "stream",
     "text": [
      "INFO:tensorflow:Assets written to: C:\\Users\\PARK\\Documents\\LAB\\RNN vs LSTM\\FInal Example\\wandb\\run-20221016_021922-3ugkxw4r\\files\\model-best\\assets\n",
      "\u001b[34m\u001b[1mwandb\u001b[0m: Adding directory to artifact (C:\\Users\\PARK\\Documents\\LAB\\RNN vs LSTM\\FInal Example\\wandb\\run-20221016_021922-3ugkxw4r\\files\\model-best)... Done. 0.1s\n"
     ]
    },
    {
     "name": "stdout",
     "output_type": "stream",
     "text": [
      "5/5 [==============================] - 4s 1s/step - loss: 0.0511 - mae: 0.1735 - val_loss: 0.0516 - val_mae: 0.1742\n",
      "Epoch 105/1000\n",
      "5/5 [==============================] - 1s 101ms/step - loss: 0.0501 - mae: 0.1725 - val_loss: 0.0529 - val_mae: 0.1750\n",
      "Epoch 106/1000\n",
      "5/5 [==============================] - 0s 74ms/step - loss: 0.0498 - mae: 0.1722 - val_loss: 0.0526 - val_mae: 0.1754\n",
      "Epoch 107/1000\n",
      "5/5 [==============================] - 0s 74ms/step - loss: 0.0514 - mae: 0.1755 - val_loss: 0.0520 - val_mae: 0.1756\n",
      "Epoch 108/1000\n",
      "1/5 [=====>........................] - ETA: 0s - loss: 0.0547 - mae: 0.1779"
     ]
    },
    {
     "name": "stderr",
     "output_type": "stream",
     "text": [
      "WARNING:absl:Found untraced functions such as lstm_cell_layer_call_fn, lstm_cell_layer_call_and_return_conditional_losses while saving (showing 2 of 2). These functions will not be directly callable after loading.\n"
     ]
    },
    {
     "name": "stdout",
     "output_type": "stream",
     "text": [
      "INFO:tensorflow:Assets written to: C:\\Users\\PARK\\Documents\\LAB\\RNN vs LSTM\\FInal Example\\wandb\\run-20221016_021922-3ugkxw4r\\files\\model-best\\assets\n"
     ]
    },
    {
     "name": "stderr",
     "output_type": "stream",
     "text": [
      "INFO:tensorflow:Assets written to: C:\\Users\\PARK\\Documents\\LAB\\RNN vs LSTM\\FInal Example\\wandb\\run-20221016_021922-3ugkxw4r\\files\\model-best\\assets\n",
      "\u001b[34m\u001b[1mwandb\u001b[0m: Adding directory to artifact (C:\\Users\\PARK\\Documents\\LAB\\RNN vs LSTM\\FInal Example\\wandb\\run-20221016_021922-3ugkxw4r\\files\\model-best)... Done. 0.1s\n"
     ]
    },
    {
     "name": "stdout",
     "output_type": "stream",
     "text": [
      "5/5 [==============================] - 4s 1s/step - loss: 0.0491 - mae: 0.1714 - val_loss: 0.0508 - val_mae: 0.1732\n",
      "Epoch 109/1000\n",
      "5/5 [==============================] - 1s 107ms/step - loss: 0.0505 - mae: 0.1739 - val_loss: 0.0515 - val_mae: 0.1753\n",
      "Epoch 110/1000\n",
      "5/5 [==============================] - 0s 72ms/step - loss: 0.0490 - mae: 0.1717 - val_loss: 0.0508 - val_mae: 0.1750\n",
      "Epoch 111/1000\n",
      "5/5 [==============================] - 0s 75ms/step - loss: 0.0481 - mae: 0.1694 - val_loss: 0.0539 - val_mae: 0.1832\n",
      "Epoch 112/1000\n",
      "5/5 [==============================] - 0s 72ms/step - loss: 0.0501 - mae: 0.1748 - val_loss: 0.0556 - val_mae: 0.1852\n",
      "Epoch 113/1000\n",
      "1/5 [=====>........................] - ETA: 0s - loss: 0.0538 - mae: 0.1786"
     ]
    },
    {
     "name": "stderr",
     "output_type": "stream",
     "text": [
      "WARNING:absl:Found untraced functions such as lstm_cell_layer_call_fn, lstm_cell_layer_call_and_return_conditional_losses while saving (showing 2 of 2). These functions will not be directly callable after loading.\n"
     ]
    },
    {
     "name": "stdout",
     "output_type": "stream",
     "text": [
      "INFO:tensorflow:Assets written to: C:\\Users\\PARK\\Documents\\LAB\\RNN vs LSTM\\FInal Example\\wandb\\run-20221016_021922-3ugkxw4r\\files\\model-best\\assets\n"
     ]
    },
    {
     "name": "stderr",
     "output_type": "stream",
     "text": [
      "INFO:tensorflow:Assets written to: C:\\Users\\PARK\\Documents\\LAB\\RNN vs LSTM\\FInal Example\\wandb\\run-20221016_021922-3ugkxw4r\\files\\model-best\\assets\n",
      "\u001b[34m\u001b[1mwandb\u001b[0m: Adding directory to artifact (C:\\Users\\PARK\\Documents\\LAB\\RNN vs LSTM\\FInal Example\\wandb\\run-20221016_021922-3ugkxw4r\\files\\model-best)... Done. 0.1s\n"
     ]
    },
    {
     "name": "stdout",
     "output_type": "stream",
     "text": [
      "5/5 [==============================] - 4s 1s/step - loss: 0.0556 - mae: 0.1827 - val_loss: 0.0492 - val_mae: 0.1728\n",
      "Epoch 114/1000\n",
      "5/5 [==============================] - 1s 112ms/step - loss: 0.0497 - mae: 0.1709 - val_loss: 0.0511 - val_mae: 0.1755\n",
      "Epoch 115/1000\n",
      "5/5 [==============================] - 0s 74ms/step - loss: 0.0481 - mae: 0.1690 - val_loss: 0.0533 - val_mae: 0.1778\n",
      "Epoch 116/1000\n",
      "1/5 [=====>........................] - ETA: 0s - loss: 0.0419 - mae: 0.1582"
     ]
    },
    {
     "name": "stderr",
     "output_type": "stream",
     "text": [
      "WARNING:absl:Found untraced functions such as lstm_cell_layer_call_fn, lstm_cell_layer_call_and_return_conditional_losses while saving (showing 2 of 2). These functions will not be directly callable after loading.\n"
     ]
    },
    {
     "name": "stdout",
     "output_type": "stream",
     "text": [
      "INFO:tensorflow:Assets written to: C:\\Users\\PARK\\Documents\\LAB\\RNN vs LSTM\\FInal Example\\wandb\\run-20221016_021922-3ugkxw4r\\files\\model-best\\assets\n"
     ]
    },
    {
     "name": "stderr",
     "output_type": "stream",
     "text": [
      "INFO:tensorflow:Assets written to: C:\\Users\\PARK\\Documents\\LAB\\RNN vs LSTM\\FInal Example\\wandb\\run-20221016_021922-3ugkxw4r\\files\\model-best\\assets\n",
      "\u001b[34m\u001b[1mwandb\u001b[0m: Adding directory to artifact (C:\\Users\\PARK\\Documents\\LAB\\RNN vs LSTM\\FInal Example\\wandb\\run-20221016_021922-3ugkxw4r\\files\\model-best)... Done. 0.1s\n"
     ]
    },
    {
     "name": "stdout",
     "output_type": "stream",
     "text": [
      "5/5 [==============================] - 4s 1s/step - loss: 0.0515 - mae: 0.1752 - val_loss: 0.0477 - val_mae: 0.1674\n",
      "Epoch 117/1000\n",
      "5/5 [==============================] - 1s 121ms/step - loss: 0.0475 - mae: 0.1679 - val_loss: 0.0500 - val_mae: 0.1731\n",
      "Epoch 118/1000\n",
      "1/5 [=====>........................] - ETA: 0s - loss: 0.0489 - mae: 0.1698"
     ]
    },
    {
     "name": "stderr",
     "output_type": "stream",
     "text": [
      "WARNING:absl:Found untraced functions such as lstm_cell_layer_call_fn, lstm_cell_layer_call_and_return_conditional_losses while saving (showing 2 of 2). These functions will not be directly callable after loading.\n"
     ]
    },
    {
     "name": "stdout",
     "output_type": "stream",
     "text": [
      "INFO:tensorflow:Assets written to: C:\\Users\\PARK\\Documents\\LAB\\RNN vs LSTM\\FInal Example\\wandb\\run-20221016_021922-3ugkxw4r\\files\\model-best\\assets\n"
     ]
    },
    {
     "name": "stderr",
     "output_type": "stream",
     "text": [
      "INFO:tensorflow:Assets written to: C:\\Users\\PARK\\Documents\\LAB\\RNN vs LSTM\\FInal Example\\wandb\\run-20221016_021922-3ugkxw4r\\files\\model-best\\assets\n",
      "\u001b[34m\u001b[1mwandb\u001b[0m: Adding directory to artifact (C:\\Users\\PARK\\Documents\\LAB\\RNN vs LSTM\\FInal Example\\wandb\\run-20221016_021922-3ugkxw4r\\files\\model-best)... Done. 0.1s\n"
     ]
    },
    {
     "name": "stdout",
     "output_type": "stream",
     "text": [
      "5/5 [==============================] - 4s 1s/step - loss: 0.0465 - mae: 0.1660 - val_loss: 0.0462 - val_mae: 0.1648\n",
      "Epoch 119/1000\n",
      "3/5 [=================>............] - ETA: 0s - loss: 0.0463 - mae: 0.1665"
     ]
    },
    {
     "name": "stderr",
     "output_type": "stream",
     "text": [
      "WARNING:absl:Found untraced functions such as lstm_cell_layer_call_fn, lstm_cell_layer_call_and_return_conditional_losses while saving (showing 2 of 2). These functions will not be directly callable after loading.\n"
     ]
    },
    {
     "name": "stdout",
     "output_type": "stream",
     "text": [
      "INFO:tensorflow:Assets written to: C:\\Users\\PARK\\Documents\\LAB\\RNN vs LSTM\\FInal Example\\wandb\\run-20221016_021922-3ugkxw4r\\files\\model-best\\assets\n"
     ]
    },
    {
     "name": "stderr",
     "output_type": "stream",
     "text": [
      "INFO:tensorflow:Assets written to: C:\\Users\\PARK\\Documents\\LAB\\RNN vs LSTM\\FInal Example\\wandb\\run-20221016_021922-3ugkxw4r\\files\\model-best\\assets\n",
      "\u001b[34m\u001b[1mwandb\u001b[0m: Adding directory to artifact (C:\\Users\\PARK\\Documents\\LAB\\RNN vs LSTM\\FInal Example\\wandb\\run-20221016_021922-3ugkxw4r\\files\\model-best)... Done. 0.1s\n"
     ]
    },
    {
     "name": "stdout",
     "output_type": "stream",
     "text": [
      "5/5 [==============================] - 4s 1s/step - loss: 0.0458 - mae: 0.1647 - val_loss: 0.0459 - val_mae: 0.1660\n",
      "Epoch 120/1000\n",
      "5/5 [==============================] - 1s 120ms/step - loss: 0.0446 - mae: 0.1631 - val_loss: 0.0466 - val_mae: 0.1673\n",
      "Epoch 121/1000\n",
      "1/5 [=====>........................] - ETA: 0s - loss: 0.0443 - mae: 0.1672"
     ]
    },
    {
     "name": "stderr",
     "output_type": "stream",
     "text": [
      "WARNING:absl:Found untraced functions such as lstm_cell_layer_call_fn, lstm_cell_layer_call_and_return_conditional_losses while saving (showing 2 of 2). These functions will not be directly callable after loading.\n"
     ]
    },
    {
     "name": "stdout",
     "output_type": "stream",
     "text": [
      "INFO:tensorflow:Assets written to: C:\\Users\\PARK\\Documents\\LAB\\RNN vs LSTM\\FInal Example\\wandb\\run-20221016_021922-3ugkxw4r\\files\\model-best\\assets\n"
     ]
    },
    {
     "name": "stderr",
     "output_type": "stream",
     "text": [
      "INFO:tensorflow:Assets written to: C:\\Users\\PARK\\Documents\\LAB\\RNN vs LSTM\\FInal Example\\wandb\\run-20221016_021922-3ugkxw4r\\files\\model-best\\assets\n",
      "\u001b[34m\u001b[1mwandb\u001b[0m: Adding directory to artifact (C:\\Users\\PARK\\Documents\\LAB\\RNN vs LSTM\\FInal Example\\wandb\\run-20221016_021922-3ugkxw4r\\files\\model-best)... Done. 0.1s\n"
     ]
    },
    {
     "name": "stdout",
     "output_type": "stream",
     "text": [
      "5/5 [==============================] - 4s 1s/step - loss: 0.0451 - mae: 0.1634 - val_loss: 0.0454 - val_mae: 0.1645\n",
      "Epoch 122/1000\n",
      "5/5 [==============================] - 0s 89ms/step - loss: 0.0455 - mae: 0.1639 - val_loss: 0.0462 - val_mae: 0.1661\n",
      "Epoch 123/1000\n",
      "5/5 [==============================] - 0s 72ms/step - loss: 0.0446 - mae: 0.1628 - val_loss: 0.0462 - val_mae: 0.1654\n",
      "Epoch 124/1000\n",
      "5/5 [==============================] - 0s 71ms/step - loss: 0.0443 - mae: 0.1611 - val_loss: 0.0456 - val_mae: 0.1641\n",
      "Epoch 125/1000\n",
      "1/5 [=====>........................] - ETA: 0s - loss: 0.0419 - mae: 0.1549"
     ]
    },
    {
     "name": "stderr",
     "output_type": "stream",
     "text": [
      "WARNING:absl:Found untraced functions such as lstm_cell_layer_call_fn, lstm_cell_layer_call_and_return_conditional_losses while saving (showing 2 of 2). These functions will not be directly callable after loading.\n"
     ]
    },
    {
     "name": "stdout",
     "output_type": "stream",
     "text": [
      "INFO:tensorflow:Assets written to: C:\\Users\\PARK\\Documents\\LAB\\RNN vs LSTM\\FInal Example\\wandb\\run-20221016_021922-3ugkxw4r\\files\\model-best\\assets\n"
     ]
    },
    {
     "name": "stderr",
     "output_type": "stream",
     "text": [
      "INFO:tensorflow:Assets written to: C:\\Users\\PARK\\Documents\\LAB\\RNN vs LSTM\\FInal Example\\wandb\\run-20221016_021922-3ugkxw4r\\files\\model-best\\assets\n",
      "\u001b[34m\u001b[1mwandb\u001b[0m: Adding directory to artifact (C:\\Users\\PARK\\Documents\\LAB\\RNN vs LSTM\\FInal Example\\wandb\\run-20221016_021922-3ugkxw4r\\files\\model-best)... Done. 0.1s\n"
     ]
    },
    {
     "name": "stdout",
     "output_type": "stream",
     "text": [
      "5/5 [==============================] - 4s 970ms/step - loss: 0.0441 - mae: 0.1618 - val_loss: 0.0450 - val_mae: 0.1644\n",
      "Epoch 126/1000\n",
      "5/5 [==============================] - 0s 100ms/step - loss: 0.0437 - mae: 0.1603 - val_loss: 0.0475 - val_mae: 0.1663\n",
      "Epoch 127/1000\n",
      "5/5 [==============================] - 0s 74ms/step - loss: 0.0458 - mae: 0.1647 - val_loss: 0.0465 - val_mae: 0.1672\n",
      "Epoch 128/1000\n",
      "5/5 [==============================] - 0s 76ms/step - loss: 0.0451 - mae: 0.1635 - val_loss: 0.0462 - val_mae: 0.1664\n",
      "Epoch 129/1000\n",
      "5/5 [==============================] - 0s 76ms/step - loss: 0.0447 - mae: 0.1632 - val_loss: 0.0459 - val_mae: 0.1650\n",
      "Epoch 130/1000\n",
      "1/5 [=====>........................] - ETA: 0s - loss: 0.0457 - mae: 0.1645"
     ]
    },
    {
     "name": "stderr",
     "output_type": "stream",
     "text": [
      "WARNING:absl:Found untraced functions such as lstm_cell_layer_call_fn, lstm_cell_layer_call_and_return_conditional_losses while saving (showing 2 of 2). These functions will not be directly callable after loading.\n"
     ]
    },
    {
     "name": "stdout",
     "output_type": "stream",
     "text": [
      "INFO:tensorflow:Assets written to: C:\\Users\\PARK\\Documents\\LAB\\RNN vs LSTM\\FInal Example\\wandb\\run-20221016_021922-3ugkxw4r\\files\\model-best\\assets\n"
     ]
    },
    {
     "name": "stderr",
     "output_type": "stream",
     "text": [
      "INFO:tensorflow:Assets written to: C:\\Users\\PARK\\Documents\\LAB\\RNN vs LSTM\\FInal Example\\wandb\\run-20221016_021922-3ugkxw4r\\files\\model-best\\assets\n",
      "\u001b[34m\u001b[1mwandb\u001b[0m: Adding directory to artifact (C:\\Users\\PARK\\Documents\\LAB\\RNN vs LSTM\\FInal Example\\wandb\\run-20221016_021922-3ugkxw4r\\files\\model-best)... Done. 0.1s\n"
     ]
    },
    {
     "name": "stdout",
     "output_type": "stream",
     "text": [
      "5/5 [==============================] - 4s 1s/step - loss: 0.0429 - mae: 0.1589 - val_loss: 0.0437 - val_mae: 0.1617\n",
      "Epoch 131/1000\n",
      "3/5 [=================>............] - ETA: 0s - loss: 0.0432 - mae: 0.1606"
     ]
    },
    {
     "name": "stderr",
     "output_type": "stream",
     "text": [
      "WARNING:absl:Found untraced functions such as lstm_cell_layer_call_fn, lstm_cell_layer_call_and_return_conditional_losses while saving (showing 2 of 2). These functions will not be directly callable after loading.\n"
     ]
    },
    {
     "name": "stdout",
     "output_type": "stream",
     "text": [
      "INFO:tensorflow:Assets written to: C:\\Users\\PARK\\Documents\\LAB\\RNN vs LSTM\\FInal Example\\wandb\\run-20221016_021922-3ugkxw4r\\files\\model-best\\assets\n"
     ]
    },
    {
     "name": "stderr",
     "output_type": "stream",
     "text": [
      "INFO:tensorflow:Assets written to: C:\\Users\\PARK\\Documents\\LAB\\RNN vs LSTM\\FInal Example\\wandb\\run-20221016_021922-3ugkxw4r\\files\\model-best\\assets\n",
      "\u001b[34m\u001b[1mwandb\u001b[0m: Adding directory to artifact (C:\\Users\\PARK\\Documents\\LAB\\RNN vs LSTM\\FInal Example\\wandb\\run-20221016_021922-3ugkxw4r\\files\\model-best)... Done. 0.1s\n"
     ]
    },
    {
     "name": "stdout",
     "output_type": "stream",
     "text": [
      "5/5 [==============================] - 4s 1s/step - loss: 0.0430 - mae: 0.1595 - val_loss: 0.0436 - val_mae: 0.1621\n",
      "Epoch 132/1000\n",
      "5/5 [==============================] - 0s 93ms/step - loss: 0.0423 - mae: 0.1584 - val_loss: 0.0438 - val_mae: 0.1608\n",
      "Epoch 133/1000\n",
      "1/5 [=====>........................] - ETA: 0s - loss: 0.0409 - mae: 0.1547"
     ]
    },
    {
     "name": "stderr",
     "output_type": "stream",
     "text": [
      "WARNING:absl:Found untraced functions such as lstm_cell_layer_call_fn, lstm_cell_layer_call_and_return_conditional_losses while saving (showing 2 of 2). These functions will not be directly callable after loading.\n"
     ]
    },
    {
     "name": "stdout",
     "output_type": "stream",
     "text": [
      "INFO:tensorflow:Assets written to: C:\\Users\\PARK\\Documents\\LAB\\RNN vs LSTM\\FInal Example\\wandb\\run-20221016_021922-3ugkxw4r\\files\\model-best\\assets\n"
     ]
    },
    {
     "name": "stderr",
     "output_type": "stream",
     "text": [
      "INFO:tensorflow:Assets written to: C:\\Users\\PARK\\Documents\\LAB\\RNN vs LSTM\\FInal Example\\wandb\\run-20221016_021922-3ugkxw4r\\files\\model-best\\assets\n",
      "\u001b[34m\u001b[1mwandb\u001b[0m: Adding directory to artifact (C:\\Users\\PARK\\Documents\\LAB\\RNN vs LSTM\\FInal Example\\wandb\\run-20221016_021922-3ugkxw4r\\files\\model-best)... Done. 0.1s\n"
     ]
    },
    {
     "name": "stdout",
     "output_type": "stream",
     "text": [
      "5/5 [==============================] - 4s 968ms/step - loss: 0.0418 - mae: 0.1571 - val_loss: 0.0428 - val_mae: 0.1601\n",
      "Epoch 134/1000\n",
      "5/5 [==============================] - 0s 100ms/step - loss: 0.0419 - mae: 0.1570 - val_loss: 0.0443 - val_mae: 0.1636\n",
      "Epoch 135/1000\n",
      "5/5 [==============================] - 0s 75ms/step - loss: 0.0422 - mae: 0.1584 - val_loss: 0.0440 - val_mae: 0.1626\n",
      "Epoch 136/1000\n",
      "1/5 [=====>........................] - ETA: 0s - loss: 0.0425 - mae: 0.1583"
     ]
    },
    {
     "name": "stderr",
     "output_type": "stream",
     "text": [
      "WARNING:absl:Found untraced functions such as lstm_cell_layer_call_fn, lstm_cell_layer_call_and_return_conditional_losses while saving (showing 2 of 2). These functions will not be directly callable after loading.\n"
     ]
    },
    {
     "name": "stdout",
     "output_type": "stream",
     "text": [
      "INFO:tensorflow:Assets written to: C:\\Users\\PARK\\Documents\\LAB\\RNN vs LSTM\\FInal Example\\wandb\\run-20221016_021922-3ugkxw4r\\files\\model-best\\assets\n"
     ]
    },
    {
     "name": "stderr",
     "output_type": "stream",
     "text": [
      "INFO:tensorflow:Assets written to: C:\\Users\\PARK\\Documents\\LAB\\RNN vs LSTM\\FInal Example\\wandb\\run-20221016_021922-3ugkxw4r\\files\\model-best\\assets\n",
      "\u001b[34m\u001b[1mwandb\u001b[0m: Adding directory to artifact (C:\\Users\\PARK\\Documents\\LAB\\RNN vs LSTM\\FInal Example\\wandb\\run-20221016_021922-3ugkxw4r\\files\\model-best)... Done. 0.1s\n"
     ]
    },
    {
     "name": "stdout",
     "output_type": "stream",
     "text": [
      "5/5 [==============================] - 4s 1s/step - loss: 0.0406 - mae: 0.1539 - val_loss: 0.0401 - val_mae: 0.1552\n",
      "Epoch 137/1000\n",
      "3/5 [=================>............] - ETA: 0s - loss: 0.0385 - mae: 0.1510"
     ]
    },
    {
     "name": "stderr",
     "output_type": "stream",
     "text": [
      "WARNING:absl:Found untraced functions such as lstm_cell_layer_call_fn, lstm_cell_layer_call_and_return_conditional_losses while saving (showing 2 of 2). These functions will not be directly callable after loading.\n"
     ]
    },
    {
     "name": "stdout",
     "output_type": "stream",
     "text": [
      "INFO:tensorflow:Assets written to: C:\\Users\\PARK\\Documents\\LAB\\RNN vs LSTM\\FInal Example\\wandb\\run-20221016_021922-3ugkxw4r\\files\\model-best\\assets\n"
     ]
    },
    {
     "name": "stderr",
     "output_type": "stream",
     "text": [
      "INFO:tensorflow:Assets written to: C:\\Users\\PARK\\Documents\\LAB\\RNN vs LSTM\\FInal Example\\wandb\\run-20221016_021922-3ugkxw4r\\files\\model-best\\assets\n",
      "\u001b[34m\u001b[1mwandb\u001b[0m: Adding directory to artifact (C:\\Users\\PARK\\Documents\\LAB\\RNN vs LSTM\\FInal Example\\wandb\\run-20221016_021922-3ugkxw4r\\files\\model-best)... Done. 0.1s\n"
     ]
    },
    {
     "name": "stdout",
     "output_type": "stream",
     "text": [
      "5/5 [==============================] - 4s 1s/step - loss: 0.0396 - mae: 0.1524 - val_loss: 0.0381 - val_mae: 0.1510\n",
      "Epoch 138/1000\n",
      "5/5 [==============================] - 1s 128ms/step - loss: 0.0388 - mae: 0.1521 - val_loss: 0.0394 - val_mae: 0.1489\n",
      "Epoch 139/1000\n",
      "1/5 [=====>........................] - ETA: 0s - loss: 0.0409 - mae: 0.1526"
     ]
    },
    {
     "name": "stderr",
     "output_type": "stream",
     "text": [
      "WARNING:absl:Found untraced functions such as lstm_cell_layer_call_fn, lstm_cell_layer_call_and_return_conditional_losses while saving (showing 2 of 2). These functions will not be directly callable after loading.\n"
     ]
    },
    {
     "name": "stdout",
     "output_type": "stream",
     "text": [
      "INFO:tensorflow:Assets written to: C:\\Users\\PARK\\Documents\\LAB\\RNN vs LSTM\\FInal Example\\wandb\\run-20221016_021922-3ugkxw4r\\files\\model-best\\assets\n"
     ]
    },
    {
     "name": "stderr",
     "output_type": "stream",
     "text": [
      "INFO:tensorflow:Assets written to: C:\\Users\\PARK\\Documents\\LAB\\RNN vs LSTM\\FInal Example\\wandb\\run-20221016_021922-3ugkxw4r\\files\\model-best\\assets\n",
      "\u001b[34m\u001b[1mwandb\u001b[0m: Adding directory to artifact (C:\\Users\\PARK\\Documents\\LAB\\RNN vs LSTM\\FInal Example\\wandb\\run-20221016_021922-3ugkxw4r\\files\\model-best)... Done. 0.1s\n"
     ]
    },
    {
     "name": "stdout",
     "output_type": "stream",
     "text": [
      "5/5 [==============================] - 4s 1s/step - loss: 0.0376 - mae: 0.1493 - val_loss: 0.0368 - val_mae: 0.1458\n",
      "Epoch 140/1000\n",
      "5/5 [==============================] - ETA: 0s - loss: 0.0361 - mae: 0.1460"
     ]
    },
    {
     "name": "stderr",
     "output_type": "stream",
     "text": [
      "WARNING:absl:Found untraced functions such as lstm_cell_layer_call_fn, lstm_cell_layer_call_and_return_conditional_losses while saving (showing 2 of 2). These functions will not be directly callable after loading.\n"
     ]
    },
    {
     "name": "stdout",
     "output_type": "stream",
     "text": [
      "INFO:tensorflow:Assets written to: C:\\Users\\PARK\\Documents\\LAB\\RNN vs LSTM\\FInal Example\\wandb\\run-20221016_021922-3ugkxw4r\\files\\model-best\\assets\n"
     ]
    },
    {
     "name": "stderr",
     "output_type": "stream",
     "text": [
      "INFO:tensorflow:Assets written to: C:\\Users\\PARK\\Documents\\LAB\\RNN vs LSTM\\FInal Example\\wandb\\run-20221016_021922-3ugkxw4r\\files\\model-best\\assets\n",
      "\u001b[34m\u001b[1mwandb\u001b[0m: Adding directory to artifact (C:\\Users\\PARK\\Documents\\LAB\\RNN vs LSTM\\FInal Example\\wandb\\run-20221016_021922-3ugkxw4r\\files\\model-best)... Done. 0.1s\n"
     ]
    },
    {
     "name": "stdout",
     "output_type": "stream",
     "text": [
      "5/5 [==============================] - 4s 1s/step - loss: 0.0361 - mae: 0.1460 - val_loss: 0.0356 - val_mae: 0.1436\n",
      "Epoch 141/1000\n",
      "5/5 [==============================] - 1s 126ms/step - loss: 0.0352 - mae: 0.1435 - val_loss: 0.0390 - val_mae: 0.1528\n",
      "Epoch 142/1000\n",
      "1/5 [=====>........................] - ETA: 0s - loss: 0.0335 - mae: 0.1407"
     ]
    },
    {
     "name": "stderr",
     "output_type": "stream",
     "text": [
      "WARNING:absl:Found untraced functions such as lstm_cell_layer_call_fn, lstm_cell_layer_call_and_return_conditional_losses while saving (showing 2 of 2). These functions will not be directly callable after loading.\n"
     ]
    },
    {
     "name": "stdout",
     "output_type": "stream",
     "text": [
      "INFO:tensorflow:Assets written to: C:\\Users\\PARK\\Documents\\LAB\\RNN vs LSTM\\FInal Example\\wandb\\run-20221016_021922-3ugkxw4r\\files\\model-best\\assets\n"
     ]
    },
    {
     "name": "stderr",
     "output_type": "stream",
     "text": [
      "INFO:tensorflow:Assets written to: C:\\Users\\PARK\\Documents\\LAB\\RNN vs LSTM\\FInal Example\\wandb\\run-20221016_021922-3ugkxw4r\\files\\model-best\\assets\n",
      "\u001b[34m\u001b[1mwandb\u001b[0m: Adding directory to artifact (C:\\Users\\PARK\\Documents\\LAB\\RNN vs LSTM\\FInal Example\\wandb\\run-20221016_021922-3ugkxw4r\\files\\model-best)... Done. 0.1s\n"
     ]
    },
    {
     "name": "stdout",
     "output_type": "stream",
     "text": [
      "5/5 [==============================] - 4s 1s/step - loss: 0.0359 - mae: 0.1461 - val_loss: 0.0350 - val_mae: 0.1431\n",
      "Epoch 143/1000\n",
      "5/5 [==============================] - 0s 100ms/step - loss: 0.0333 - mae: 0.1396 - val_loss: 0.0351 - val_mae: 0.1453\n",
      "Epoch 144/1000\n",
      "5/5 [==============================] - 0s 75ms/step - loss: 0.0326 - mae: 0.1377 - val_loss: 0.0355 - val_mae: 0.1436\n",
      "Epoch 145/1000\n",
      "1/5 [=====>........................] - ETA: 0s - loss: 0.0353 - mae: 0.1460"
     ]
    },
    {
     "name": "stderr",
     "output_type": "stream",
     "text": [
      "WARNING:absl:Found untraced functions such as lstm_cell_layer_call_fn, lstm_cell_layer_call_and_return_conditional_losses while saving (showing 2 of 2). These functions will not be directly callable after loading.\n"
     ]
    },
    {
     "name": "stdout",
     "output_type": "stream",
     "text": [
      "INFO:tensorflow:Assets written to: C:\\Users\\PARK\\Documents\\LAB\\RNN vs LSTM\\FInal Example\\wandb\\run-20221016_021922-3ugkxw4r\\files\\model-best\\assets\n"
     ]
    },
    {
     "name": "stderr",
     "output_type": "stream",
     "text": [
      "INFO:tensorflow:Assets written to: C:\\Users\\PARK\\Documents\\LAB\\RNN vs LSTM\\FInal Example\\wandb\\run-20221016_021922-3ugkxw4r\\files\\model-best\\assets\n",
      "\u001b[34m\u001b[1mwandb\u001b[0m: Adding directory to artifact (C:\\Users\\PARK\\Documents\\LAB\\RNN vs LSTM\\FInal Example\\wandb\\run-20221016_021922-3ugkxw4r\\files\\model-best)... Done. 0.1s\n"
     ]
    },
    {
     "name": "stdout",
     "output_type": "stream",
     "text": [
      "5/5 [==============================] - 4s 958ms/step - loss: 0.0328 - mae: 0.1386 - val_loss: 0.0329 - val_mae: 0.1400\n",
      "Epoch 146/1000\n",
      "4/5 [=======================>......] - ETA: 0s - loss: 0.0320 - mae: 0.1381"
     ]
    },
    {
     "name": "stderr",
     "output_type": "stream",
     "text": [
      "WARNING:absl:Found untraced functions such as lstm_cell_layer_call_fn, lstm_cell_layer_call_and_return_conditional_losses while saving (showing 2 of 2). These functions will not be directly callable after loading.\n"
     ]
    },
    {
     "name": "stdout",
     "output_type": "stream",
     "text": [
      "INFO:tensorflow:Assets written to: C:\\Users\\PARK\\Documents\\LAB\\RNN vs LSTM\\FInal Example\\wandb\\run-20221016_021922-3ugkxw4r\\files\\model-best\\assets\n"
     ]
    },
    {
     "name": "stderr",
     "output_type": "stream",
     "text": [
      "INFO:tensorflow:Assets written to: C:\\Users\\PARK\\Documents\\LAB\\RNN vs LSTM\\FInal Example\\wandb\\run-20221016_021922-3ugkxw4r\\files\\model-best\\assets\n",
      "\u001b[34m\u001b[1mwandb\u001b[0m: Adding directory to artifact (C:\\Users\\PARK\\Documents\\LAB\\RNN vs LSTM\\FInal Example\\wandb\\run-20221016_021922-3ugkxw4r\\files\\model-best)... Done. 0.1s\n"
     ]
    },
    {
     "name": "stdout",
     "output_type": "stream",
     "text": [
      "5/5 [==============================] - 4s 1s/step - loss: 0.0318 - mae: 0.1380 - val_loss: 0.0317 - val_mae: 0.1351\n",
      "Epoch 147/1000\n",
      "5/5 [==============================] - 1s 75ms/step - loss: 0.0319 - mae: 0.1353 - val_loss: 0.0319 - val_mae: 0.1364\n",
      "Epoch 148/1000\n",
      "1/5 [=====>........................] - ETA: 0s - loss: 0.0274 - mae: 0.1256"
     ]
    },
    {
     "name": "stderr",
     "output_type": "stream",
     "text": [
      "WARNING:absl:Found untraced functions such as lstm_cell_layer_call_fn, lstm_cell_layer_call_and_return_conditional_losses while saving (showing 2 of 2). These functions will not be directly callable after loading.\n"
     ]
    },
    {
     "name": "stdout",
     "output_type": "stream",
     "text": [
      "INFO:tensorflow:Assets written to: C:\\Users\\PARK\\Documents\\LAB\\RNN vs LSTM\\FInal Example\\wandb\\run-20221016_021922-3ugkxw4r\\files\\model-best\\assets\n"
     ]
    },
    {
     "name": "stderr",
     "output_type": "stream",
     "text": [
      "INFO:tensorflow:Assets written to: C:\\Users\\PARK\\Documents\\LAB\\RNN vs LSTM\\FInal Example\\wandb\\run-20221016_021922-3ugkxw4r\\files\\model-best\\assets\n",
      "\u001b[34m\u001b[1mwandb\u001b[0m: Adding directory to artifact (C:\\Users\\PARK\\Documents\\LAB\\RNN vs LSTM\\FInal Example\\wandb\\run-20221016_021922-3ugkxw4r\\files\\model-best)... Done. 0.1s\n"
     ]
    },
    {
     "name": "stdout",
     "output_type": "stream",
     "text": [
      "5/5 [==============================] - 4s 1s/step - loss: 0.0308 - mae: 0.1330 - val_loss: 0.0311 - val_mae: 0.1356\n",
      "Epoch 149/1000\n",
      "5/5 [==============================] - 1s 119ms/step - loss: 0.0304 - mae: 0.1329 - val_loss: 0.0312 - val_mae: 0.1335\n",
      "Epoch 150/1000\n",
      "5/5 [==============================] - 0s 73ms/step - loss: 0.0304 - mae: 0.1323 - val_loss: 0.0318 - val_mae: 0.1347\n",
      "Epoch 151/1000\n",
      "1/5 [=====>........................] - ETA: 0s - loss: 0.0309 - mae: 0.1325"
     ]
    },
    {
     "name": "stderr",
     "output_type": "stream",
     "text": [
      "WARNING:absl:Found untraced functions such as lstm_cell_layer_call_fn, lstm_cell_layer_call_and_return_conditional_losses while saving (showing 2 of 2). These functions will not be directly callable after loading.\n"
     ]
    },
    {
     "name": "stdout",
     "output_type": "stream",
     "text": [
      "INFO:tensorflow:Assets written to: C:\\Users\\PARK\\Documents\\LAB\\RNN vs LSTM\\FInal Example\\wandb\\run-20221016_021922-3ugkxw4r\\files\\model-best\\assets\n"
     ]
    },
    {
     "name": "stderr",
     "output_type": "stream",
     "text": [
      "INFO:tensorflow:Assets written to: C:\\Users\\PARK\\Documents\\LAB\\RNN vs LSTM\\FInal Example\\wandb\\run-20221016_021922-3ugkxw4r\\files\\model-best\\assets\n",
      "\u001b[34m\u001b[1mwandb\u001b[0m: Adding directory to artifact (C:\\Users\\PARK\\Documents\\LAB\\RNN vs LSTM\\FInal Example\\wandb\\run-20221016_021922-3ugkxw4r\\files\\model-best)... Done. 0.1s\n"
     ]
    },
    {
     "name": "stdout",
     "output_type": "stream",
     "text": [
      "5/5 [==============================] - 4s 1s/step - loss: 0.0300 - mae: 0.1311 - val_loss: 0.0308 - val_mae: 0.1333\n",
      "Epoch 152/1000\n",
      "5/5 [==============================] - 1s 121ms/step - loss: 0.0296 - mae: 0.1305 - val_loss: 0.0309 - val_mae: 0.1318\n",
      "Epoch 153/1000\n",
      "5/5 [==============================] - 0s 74ms/step - loss: 0.0302 - mae: 0.1322 - val_loss: 0.0312 - val_mae: 0.1349\n",
      "Epoch 154/1000\n",
      "1/5 [=====>........................] - ETA: 0s - loss: 0.0299 - mae: 0.1324"
     ]
    },
    {
     "name": "stderr",
     "output_type": "stream",
     "text": [
      "WARNING:absl:Found untraced functions such as lstm_cell_layer_call_fn, lstm_cell_layer_call_and_return_conditional_losses while saving (showing 2 of 2). These functions will not be directly callable after loading.\n"
     ]
    },
    {
     "name": "stdout",
     "output_type": "stream",
     "text": [
      "INFO:tensorflow:Assets written to: C:\\Users\\PARK\\Documents\\LAB\\RNN vs LSTM\\FInal Example\\wandb\\run-20221016_021922-3ugkxw4r\\files\\model-best\\assets\n"
     ]
    },
    {
     "name": "stderr",
     "output_type": "stream",
     "text": [
      "INFO:tensorflow:Assets written to: C:\\Users\\PARK\\Documents\\LAB\\RNN vs LSTM\\FInal Example\\wandb\\run-20221016_021922-3ugkxw4r\\files\\model-best\\assets\n",
      "\u001b[34m\u001b[1mwandb\u001b[0m: Adding directory to artifact (C:\\Users\\PARK\\Documents\\LAB\\RNN vs LSTM\\FInal Example\\wandb\\run-20221016_021922-3ugkxw4r\\files\\model-best)... Done. 0.1s\n"
     ]
    },
    {
     "name": "stdout",
     "output_type": "stream",
     "text": [
      "5/5 [==============================] - 4s 968ms/step - loss: 0.0299 - mae: 0.1324 - val_loss: 0.0300 - val_mae: 0.1316\n",
      "Epoch 155/1000\n",
      "5/5 [==============================] - 1s 121ms/step - loss: 0.0293 - mae: 0.1296 - val_loss: 0.0308 - val_mae: 0.1355\n",
      "Epoch 156/1000\n",
      "5/5 [==============================] - 0s 76ms/step - loss: 0.0297 - mae: 0.1304 - val_loss: 0.0312 - val_mae: 0.1364\n",
      "Epoch 157/1000\n",
      "5/5 [==============================] - 0s 74ms/step - loss: 0.0297 - mae: 0.1301 - val_loss: 0.0314 - val_mae: 0.1364\n",
      "Epoch 158/1000\n",
      "5/5 [==============================] - 0s 77ms/step - loss: 0.0294 - mae: 0.1297 - val_loss: 0.0307 - val_mae: 0.1356\n",
      "Epoch 159/1000\n",
      "5/5 [==============================] - 0s 73ms/step - loss: 0.0298 - mae: 0.1316 - val_loss: 0.0300 - val_mae: 0.1334\n",
      "Epoch 160/1000\n",
      "1/5 [=====>........................] - ETA: 0s - loss: 0.0272 - mae: 0.1256"
     ]
    },
    {
     "name": "stderr",
     "output_type": "stream",
     "text": [
      "WARNING:absl:Found untraced functions such as lstm_cell_layer_call_fn, lstm_cell_layer_call_and_return_conditional_losses while saving (showing 2 of 2). These functions will not be directly callable after loading.\n"
     ]
    },
    {
     "name": "stdout",
     "output_type": "stream",
     "text": [
      "INFO:tensorflow:Assets written to: C:\\Users\\PARK\\Documents\\LAB\\RNN vs LSTM\\FInal Example\\wandb\\run-20221016_021922-3ugkxw4r\\files\\model-best\\assets\n"
     ]
    },
    {
     "name": "stderr",
     "output_type": "stream",
     "text": [
      "INFO:tensorflow:Assets written to: C:\\Users\\PARK\\Documents\\LAB\\RNN vs LSTM\\FInal Example\\wandb\\run-20221016_021922-3ugkxw4r\\files\\model-best\\assets\n",
      "\u001b[34m\u001b[1mwandb\u001b[0m: Adding directory to artifact (C:\\Users\\PARK\\Documents\\LAB\\RNN vs LSTM\\FInal Example\\wandb\\run-20221016_021922-3ugkxw4r\\files\\model-best)... Done. 0.1s\n"
     ]
    },
    {
     "name": "stdout",
     "output_type": "stream",
     "text": [
      "5/5 [==============================] - 4s 1s/step - loss: 0.0301 - mae: 0.1333 - val_loss: 0.0295 - val_mae: 0.1322\n",
      "Epoch 161/1000\n",
      "5/5 [==============================] - 1s 133ms/step - loss: 0.0301 - mae: 0.1333 - val_loss: 0.0311 - val_mae: 0.1365\n",
      "Epoch 162/1000\n",
      "5/5 [==============================] - 0s 95ms/step - loss: 0.0300 - mae: 0.1322 - val_loss: 0.0317 - val_mae: 0.1414\n",
      "Epoch 163/1000\n",
      "5/5 [==============================] - 0s 80ms/step - loss: 0.0302 - mae: 0.1333 - val_loss: 0.0312 - val_mae: 0.1375\n",
      "Epoch 164/1000\n",
      "5/5 [==============================] - 0s 75ms/step - loss: 0.0297 - mae: 0.1307 - val_loss: 0.0328 - val_mae: 0.1417\n",
      "Epoch 165/1000\n",
      "1/5 [=====>........................] - ETA: 0s - loss: 0.0295 - mae: 0.1343"
     ]
    },
    {
     "name": "stderr",
     "output_type": "stream",
     "text": [
      "WARNING:absl:Found untraced functions such as lstm_cell_layer_call_fn, lstm_cell_layer_call_and_return_conditional_losses while saving (showing 2 of 2). These functions will not be directly callable after loading.\n"
     ]
    },
    {
     "name": "stdout",
     "output_type": "stream",
     "text": [
      "INFO:tensorflow:Assets written to: C:\\Users\\PARK\\Documents\\LAB\\RNN vs LSTM\\FInal Example\\wandb\\run-20221016_021922-3ugkxw4r\\files\\model-best\\assets\n"
     ]
    },
    {
     "name": "stderr",
     "output_type": "stream",
     "text": [
      "INFO:tensorflow:Assets written to: C:\\Users\\PARK\\Documents\\LAB\\RNN vs LSTM\\FInal Example\\wandb\\run-20221016_021922-3ugkxw4r\\files\\model-best\\assets\n",
      "\u001b[34m\u001b[1mwandb\u001b[0m: Adding directory to artifact (C:\\Users\\PARK\\Documents\\LAB\\RNN vs LSTM\\FInal Example\\wandb\\run-20221016_021922-3ugkxw4r\\files\\model-best)... Done. 0.1s\n"
     ]
    },
    {
     "name": "stdout",
     "output_type": "stream",
     "text": [
      "5/5 [==============================] - 4s 1s/step - loss: 0.0304 - mae: 0.1324 - val_loss: 0.0285 - val_mae: 0.1305\n",
      "Epoch 166/1000\n",
      "5/5 [==============================] - 0s 105ms/step - loss: 0.0281 - mae: 0.1283 - val_loss: 0.0295 - val_mae: 0.1303\n",
      "Epoch 167/1000\n",
      "5/5 [==============================] - 0s 75ms/step - loss: 0.0281 - mae: 0.1291 - val_loss: 0.0287 - val_mae: 0.1286\n",
      "Epoch 168/1000\n",
      "5/5 [==============================] - 0s 78ms/step - loss: 0.0285 - mae: 0.1296 - val_loss: 0.0298 - val_mae: 0.1312\n",
      "Epoch 169/1000\n",
      "1/5 [=====>........................] - ETA: 0s - loss: 0.0301 - mae: 0.1292"
     ]
    },
    {
     "name": "stderr",
     "output_type": "stream",
     "text": [
      "WARNING:absl:Found untraced functions such as lstm_cell_layer_call_fn, lstm_cell_layer_call_and_return_conditional_losses while saving (showing 2 of 2). These functions will not be directly callable after loading.\n"
     ]
    },
    {
     "name": "stdout",
     "output_type": "stream",
     "text": [
      "INFO:tensorflow:Assets written to: C:\\Users\\PARK\\Documents\\LAB\\RNN vs LSTM\\FInal Example\\wandb\\run-20221016_021922-3ugkxw4r\\files\\model-best\\assets\n"
     ]
    },
    {
     "name": "stderr",
     "output_type": "stream",
     "text": [
      "INFO:tensorflow:Assets written to: C:\\Users\\PARK\\Documents\\LAB\\RNN vs LSTM\\FInal Example\\wandb\\run-20221016_021922-3ugkxw4r\\files\\model-best\\assets\n",
      "\u001b[34m\u001b[1mwandb\u001b[0m: Adding directory to artifact (C:\\Users\\PARK\\Documents\\LAB\\RNN vs LSTM\\FInal Example\\wandb\\run-20221016_021922-3ugkxw4r\\files\\model-best)... Done. 0.1s\n"
     ]
    },
    {
     "name": "stdout",
     "output_type": "stream",
     "text": [
      "5/5 [==============================] - 4s 1s/step - loss: 0.0279 - mae: 0.1282 - val_loss: 0.0280 - val_mae: 0.1261\n",
      "Epoch 170/1000\n",
      "4/5 [=======================>......] - ETA: 0s - loss: 0.0266 - mae: 0.1239"
     ]
    },
    {
     "name": "stderr",
     "output_type": "stream",
     "text": [
      "WARNING:absl:Found untraced functions such as lstm_cell_layer_call_fn, lstm_cell_layer_call_and_return_conditional_losses while saving (showing 2 of 2). These functions will not be directly callable after loading.\n"
     ]
    },
    {
     "name": "stdout",
     "output_type": "stream",
     "text": [
      "INFO:tensorflow:Assets written to: C:\\Users\\PARK\\Documents\\LAB\\RNN vs LSTM\\FInal Example\\wandb\\run-20221016_021922-3ugkxw4r\\files\\model-best\\assets\n"
     ]
    },
    {
     "name": "stderr",
     "output_type": "stream",
     "text": [
      "INFO:tensorflow:Assets written to: C:\\Users\\PARK\\Documents\\LAB\\RNN vs LSTM\\FInal Example\\wandb\\run-20221016_021922-3ugkxw4r\\files\\model-best\\assets\n",
      "\u001b[34m\u001b[1mwandb\u001b[0m: Adding directory to artifact (C:\\Users\\PARK\\Documents\\LAB\\RNN vs LSTM\\FInal Example\\wandb\\run-20221016_021922-3ugkxw4r\\files\\model-best)... Done. 0.1s\n"
     ]
    },
    {
     "name": "stdout",
     "output_type": "stream",
     "text": [
      "5/5 [==============================] - 4s 1s/step - loss: 0.0271 - mae: 0.1252 - val_loss: 0.0264 - val_mae: 0.1248\n",
      "Epoch 171/1000\n",
      "5/5 [==============================] - 1s 109ms/step - loss: 0.0264 - mae: 0.1251 - val_loss: 0.0268 - val_mae: 0.1246\n",
      "Epoch 172/1000\n",
      "1/5 [=====>........................] - ETA: 0s - loss: 0.0265 - mae: 0.1242"
     ]
    },
    {
     "name": "stderr",
     "output_type": "stream",
     "text": [
      "WARNING:absl:Found untraced functions such as lstm_cell_layer_call_fn, lstm_cell_layer_call_and_return_conditional_losses while saving (showing 2 of 2). These functions will not be directly callable after loading.\n"
     ]
    },
    {
     "name": "stdout",
     "output_type": "stream",
     "text": [
      "INFO:tensorflow:Assets written to: C:\\Users\\PARK\\Documents\\LAB\\RNN vs LSTM\\FInal Example\\wandb\\run-20221016_021922-3ugkxw4r\\files\\model-best\\assets\n"
     ]
    },
    {
     "name": "stderr",
     "output_type": "stream",
     "text": [
      "INFO:tensorflow:Assets written to: C:\\Users\\PARK\\Documents\\LAB\\RNN vs LSTM\\FInal Example\\wandb\\run-20221016_021922-3ugkxw4r\\files\\model-best\\assets\n",
      "\u001b[34m\u001b[1mwandb\u001b[0m: Adding directory to artifact (C:\\Users\\PARK\\Documents\\LAB\\RNN vs LSTM\\FInal Example\\wandb\\run-20221016_021922-3ugkxw4r\\files\\model-best)... Done. 0.1s\n"
     ]
    },
    {
     "name": "stdout",
     "output_type": "stream",
     "text": [
      "5/5 [==============================] - 4s 960ms/step - loss: 0.0256 - mae: 0.1231 - val_loss: 0.0262 - val_mae: 0.1235\n",
      "Epoch 173/1000\n",
      "4/5 [=======================>......] - ETA: 0s - loss: 0.0254 - mae: 0.1236"
     ]
    },
    {
     "name": "stderr",
     "output_type": "stream",
     "text": [
      "WARNING:absl:Found untraced functions such as lstm_cell_layer_call_fn, lstm_cell_layer_call_and_return_conditional_losses while saving (showing 2 of 2). These functions will not be directly callable after loading.\n"
     ]
    },
    {
     "name": "stdout",
     "output_type": "stream",
     "text": [
      "INFO:tensorflow:Assets written to: C:\\Users\\PARK\\Documents\\LAB\\RNN vs LSTM\\FInal Example\\wandb\\run-20221016_021922-3ugkxw4r\\files\\model-best\\assets\n"
     ]
    },
    {
     "name": "stderr",
     "output_type": "stream",
     "text": [
      "INFO:tensorflow:Assets written to: C:\\Users\\PARK\\Documents\\LAB\\RNN vs LSTM\\FInal Example\\wandb\\run-20221016_021922-3ugkxw4r\\files\\model-best\\assets\n",
      "\u001b[34m\u001b[1mwandb\u001b[0m: Adding directory to artifact (C:\\Users\\PARK\\Documents\\LAB\\RNN vs LSTM\\FInal Example\\wandb\\run-20221016_021922-3ugkxw4r\\files\\model-best)... Done. 0.1s\n"
     ]
    },
    {
     "name": "stdout",
     "output_type": "stream",
     "text": [
      "5/5 [==============================] - 4s 1s/step - loss: 0.0251 - mae: 0.1226 - val_loss: 0.0254 - val_mae: 0.1214\n",
      "Epoch 174/1000\n",
      "3/5 [=================>............] - ETA: 0s - loss: 0.0241 - mae: 0.1199"
     ]
    },
    {
     "name": "stderr",
     "output_type": "stream",
     "text": [
      "WARNING:absl:Found untraced functions such as lstm_cell_layer_call_fn, lstm_cell_layer_call_and_return_conditional_losses while saving (showing 2 of 2). These functions will not be directly callable after loading.\n"
     ]
    },
    {
     "name": "stdout",
     "output_type": "stream",
     "text": [
      "INFO:tensorflow:Assets written to: C:\\Users\\PARK\\Documents\\LAB\\RNN vs LSTM\\FInal Example\\wandb\\run-20221016_021922-3ugkxw4r\\files\\model-best\\assets\n"
     ]
    },
    {
     "name": "stderr",
     "output_type": "stream",
     "text": [
      "INFO:tensorflow:Assets written to: C:\\Users\\PARK\\Documents\\LAB\\RNN vs LSTM\\FInal Example\\wandb\\run-20221016_021922-3ugkxw4r\\files\\model-best\\assets\n",
      "\u001b[34m\u001b[1mwandb\u001b[0m: Adding directory to artifact (C:\\Users\\PARK\\Documents\\LAB\\RNN vs LSTM\\FInal Example\\wandb\\run-20221016_021922-3ugkxw4r\\files\\model-best)... Done. 0.1s\n"
     ]
    },
    {
     "name": "stdout",
     "output_type": "stream",
     "text": [
      "5/5 [==============================] - 4s 1s/step - loss: 0.0244 - mae: 0.1210 - val_loss: 0.0252 - val_mae: 0.1199\n",
      "Epoch 175/1000\n",
      "3/5 [=================>............] - ETA: 0s - loss: 0.0241 - mae: 0.1186"
     ]
    },
    {
     "name": "stderr",
     "output_type": "stream",
     "text": [
      "WARNING:absl:Found untraced functions such as lstm_cell_layer_call_fn, lstm_cell_layer_call_and_return_conditional_losses while saving (showing 2 of 2). These functions will not be directly callable after loading.\n"
     ]
    },
    {
     "name": "stdout",
     "output_type": "stream",
     "text": [
      "INFO:tensorflow:Assets written to: C:\\Users\\PARK\\Documents\\LAB\\RNN vs LSTM\\FInal Example\\wandb\\run-20221016_021922-3ugkxw4r\\files\\model-best\\assets\n"
     ]
    },
    {
     "name": "stderr",
     "output_type": "stream",
     "text": [
      "INFO:tensorflow:Assets written to: C:\\Users\\PARK\\Documents\\LAB\\RNN vs LSTM\\FInal Example\\wandb\\run-20221016_021922-3ugkxw4r\\files\\model-best\\assets\n",
      "\u001b[34m\u001b[1mwandb\u001b[0m: Adding directory to artifact (C:\\Users\\PARK\\Documents\\LAB\\RNN vs LSTM\\FInal Example\\wandb\\run-20221016_021922-3ugkxw4r\\files\\model-best)... Done. 0.1s\n"
     ]
    },
    {
     "name": "stdout",
     "output_type": "stream",
     "text": [
      "5/5 [==============================] - 4s 1s/step - loss: 0.0243 - mae: 0.1198 - val_loss: 0.0242 - val_mae: 0.1210\n",
      "Epoch 176/1000\n",
      "5/5 [==============================] - 1s 123ms/step - loss: 0.0238 - mae: 0.1197 - val_loss: 0.0265 - val_mae: 0.1279\n",
      "Epoch 177/1000\n",
      "5/5 [==============================] - 0s 75ms/step - loss: 0.0255 - mae: 0.1240 - val_loss: 0.0271 - val_mae: 0.1229\n",
      "Epoch 178/1000\n",
      "5/5 [==============================] - 0s 74ms/step - loss: 0.0249 - mae: 0.1213 - val_loss: 0.0262 - val_mae: 0.1201\n",
      "Epoch 179/1000\n",
      "1/5 [=====>........................] - ETA: 0s - loss: 0.0241 - mae: 0.1147"
     ]
    },
    {
     "name": "stderr",
     "output_type": "stream",
     "text": [
      "WARNING:absl:Found untraced functions such as lstm_cell_layer_call_fn, lstm_cell_layer_call_and_return_conditional_losses while saving (showing 2 of 2). These functions will not be directly callable after loading.\n"
     ]
    },
    {
     "name": "stdout",
     "output_type": "stream",
     "text": [
      "INFO:tensorflow:Assets written to: C:\\Users\\PARK\\Documents\\LAB\\RNN vs LSTM\\FInal Example\\wandb\\run-20221016_021922-3ugkxw4r\\files\\model-best\\assets\n"
     ]
    },
    {
     "name": "stderr",
     "output_type": "stream",
     "text": [
      "INFO:tensorflow:Assets written to: C:\\Users\\PARK\\Documents\\LAB\\RNN vs LSTM\\FInal Example\\wandb\\run-20221016_021922-3ugkxw4r\\files\\model-best\\assets\n",
      "\u001b[34m\u001b[1mwandb\u001b[0m: Adding directory to artifact (C:\\Users\\PARK\\Documents\\LAB\\RNN vs LSTM\\FInal Example\\wandb\\run-20221016_021922-3ugkxw4r\\files\\model-best)... Done. 0.1s\n"
     ]
    },
    {
     "name": "stdout",
     "output_type": "stream",
     "text": [
      "5/5 [==============================] - 4s 1s/step - loss: 0.0239 - mae: 0.1190 - val_loss: 0.0225 - val_mae: 0.1164\n",
      "Epoch 180/1000\n",
      "5/5 [==============================] - 0s 101ms/step - loss: 0.0226 - mae: 0.1162 - val_loss: 0.0235 - val_mae: 0.1194\n",
      "Epoch 181/1000\n",
      "5/5 [==============================] - 0s 75ms/step - loss: 0.0227 - mae: 0.1178 - val_loss: 0.0236 - val_mae: 0.1148\n",
      "Epoch 182/1000\n",
      "5/5 [==============================] - 0s 72ms/step - loss: 0.0221 - mae: 0.1148 - val_loss: 0.0380 - val_mae: 0.1414\n",
      "Epoch 183/1000\n",
      "5/5 [==============================] - 0s 74ms/step - loss: 0.0531 - mae: 0.1711 - val_loss: 0.1162 - val_mae: 0.2724\n",
      "Epoch 184/1000\n",
      "5/5 [==============================] - 0s 71ms/step - loss: 0.1014 - mae: 0.2531 - val_loss: 0.0818 - val_mae: 0.2225\n",
      "Epoch 185/1000\n",
      "5/5 [==============================] - 0s 71ms/step - loss: 0.0797 - mae: 0.2177 - val_loss: 0.0936 - val_mae: 0.2473\n",
      "Epoch 186/1000\n",
      "5/5 [==============================] - 0s 73ms/step - loss: 0.0813 - mae: 0.2212 - val_loss: 0.0785 - val_mae: 0.2264\n",
      "Epoch 187/1000\n",
      "5/5 [==============================] - 0s 74ms/step - loss: 0.0753 - mae: 0.2158 - val_loss: 0.0668 - val_mae: 0.1996\n",
      "Epoch 188/1000\n",
      "5/5 [==============================] - 0s 73ms/step - loss: 0.0684 - mae: 0.2038 - val_loss: 0.0601 - val_mae: 0.1903\n",
      "Epoch 189/1000\n",
      "5/5 [==============================] - 0s 72ms/step - loss: 0.0627 - mae: 0.1928 - val_loss: 0.0640 - val_mae: 0.2036\n",
      "Epoch 190/1000\n",
      "5/5 [==============================] - 0s 75ms/step - loss: 0.0600 - mae: 0.1902 - val_loss: 0.0655 - val_mae: 0.2027\n",
      "Epoch 191/1000\n",
      "5/5 [==============================] - 0s 71ms/step - loss: 0.0618 - mae: 0.1923 - val_loss: 0.0704 - val_mae: 0.2162\n",
      "Epoch 192/1000\n",
      "5/5 [==============================] - 0s 72ms/step - loss: 0.0660 - mae: 0.2014 - val_loss: 0.0547 - val_mae: 0.1809\n",
      "Epoch 193/1000\n",
      "5/5 [==============================] - 0s 78ms/step - loss: 0.0577 - mae: 0.1870 - val_loss: 0.0618 - val_mae: 0.1875\n",
      "Epoch 194/1000\n",
      "5/5 [==============================] - 0s 70ms/step - loss: 0.0557 - mae: 0.1821 - val_loss: 0.0548 - val_mae: 0.1798\n",
      "Epoch 195/1000\n",
      "5/5 [==============================] - 0s 72ms/step - loss: 0.0543 - mae: 0.1777 - val_loss: 0.0559 - val_mae: 0.1833\n",
      "Epoch 196/1000\n",
      "5/5 [==============================] - 0s 71ms/step - loss: 0.0537 - mae: 0.1777 - val_loss: 0.0537 - val_mae: 0.1768\n",
      "Epoch 197/1000\n",
      "5/5 [==============================] - 0s 73ms/step - loss: 0.0525 - mae: 0.1762 - val_loss: 0.0579 - val_mae: 0.1814\n",
      "Epoch 198/1000\n",
      "5/5 [==============================] - 0s 72ms/step - loss: 0.0532 - mae: 0.1774 - val_loss: 0.0551 - val_mae: 0.1777\n",
      "Epoch 199/1000\n",
      "5/5 [==============================] - 0s 71ms/step - loss: 0.0508 - mae: 0.1722 - val_loss: 0.0518 - val_mae: 0.1741\n",
      "Epoch 200/1000\n",
      "5/5 [==============================] - 0s 73ms/step - loss: 0.0488 - mae: 0.1689 - val_loss: 0.0506 - val_mae: 0.1723\n",
      "Epoch 201/1000\n",
      "5/5 [==============================] - 0s 71ms/step - loss: 0.0476 - mae: 0.1674 - val_loss: 0.0494 - val_mae: 0.1693\n",
      "Epoch 202/1000\n",
      "5/5 [==============================] - 0s 71ms/step - loss: 0.0456 - mae: 0.1636 - val_loss: 0.0483 - val_mae: 0.1680\n",
      "Epoch 203/1000\n",
      "5/5 [==============================] - 0s 75ms/step - loss: 0.0447 - mae: 0.1614 - val_loss: 0.0467 - val_mae: 0.1649\n",
      "Epoch 204/1000\n",
      "5/5 [==============================] - 0s 71ms/step - loss: 0.0440 - mae: 0.1605 - val_loss: 0.0457 - val_mae: 0.1622\n",
      "Epoch 205/1000\n",
      "5/5 [==============================] - 0s 70ms/step - loss: 0.0431 - mae: 0.1577 - val_loss: 0.0450 - val_mae: 0.1607\n",
      "Epoch 206/1000\n",
      "5/5 [==============================] - 0s 70ms/step - loss: 0.0420 - mae: 0.1570 - val_loss: 0.0449 - val_mae: 0.1615\n",
      "Epoch 207/1000\n",
      "5/5 [==============================] - 0s 72ms/step - loss: 0.0423 - mae: 0.1575 - val_loss: 0.0441 - val_mae: 0.1601\n",
      "Epoch 208/1000\n",
      "5/5 [==============================] - 0s 71ms/step - loss: 0.0421 - mae: 0.1570 - val_loss: 0.0438 - val_mae: 0.1608\n",
      "Epoch 209/1000\n",
      "5/5 [==============================] - 0s 71ms/step - loss: 0.0416 - mae: 0.1558 - val_loss: 0.0436 - val_mae: 0.1565\n",
      "Epoch 210/1000\n",
      "5/5 [==============================] - 0s 75ms/step - loss: 0.0414 - mae: 0.1549 - val_loss: 0.0427 - val_mae: 0.1580\n",
      "Epoch 211/1000\n",
      "5/5 [==============================] - 0s 70ms/step - loss: 0.0407 - mae: 0.1530 - val_loss: 0.0423 - val_mae: 0.1564\n",
      "Epoch 212/1000\n",
      "5/5 [==============================] - 0s 72ms/step - loss: 0.0411 - mae: 0.1543 - val_loss: 0.0417 - val_mae: 0.1542\n",
      "Epoch 213/1000\n",
      "5/5 [==============================] - 0s 76ms/step - loss: 0.0406 - mae: 0.1543 - val_loss: 0.0430 - val_mae: 0.1556\n",
      "Epoch 214/1000\n",
      "5/5 [==============================] - 0s 71ms/step - loss: 0.0405 - mae: 0.1529 - val_loss: 0.0410 - val_mae: 0.1547\n",
      "Epoch 215/1000\n",
      "5/5 [==============================] - 0s 71ms/step - loss: 0.0388 - mae: 0.1502 - val_loss: 0.0416 - val_mae: 0.1562\n",
      "Epoch 216/1000\n",
      "5/5 [==============================] - 0s 72ms/step - loss: 0.0391 - mae: 0.1515 - val_loss: 0.0405 - val_mae: 0.1531\n",
      "Epoch 217/1000\n",
      "5/5 [==============================] - 0s 73ms/step - loss: 0.0382 - mae: 0.1491 - val_loss: 0.0394 - val_mae: 0.1499\n",
      "Epoch 218/1000\n",
      "5/5 [==============================] - 0s 72ms/step - loss: 0.0371 - mae: 0.1464 - val_loss: 0.0392 - val_mae: 0.1497\n",
      "Epoch 219/1000\n",
      "5/5 [==============================] - 0s 72ms/step - loss: 0.0363 - mae: 0.1450 - val_loss: 0.0381 - val_mae: 0.1489\n",
      "Epoch 220/1000\n",
      "5/5 [==============================] - 0s 76ms/step - loss: 0.0355 - mae: 0.1427 - val_loss: 0.0371 - val_mae: 0.1459\n",
      "Epoch 221/1000\n",
      "5/5 [==============================] - 0s 72ms/step - loss: 0.0350 - mae: 0.1421 - val_loss: 0.0427 - val_mae: 0.1526\n",
      "Epoch 222/1000\n",
      "5/5 [==============================] - 0s 70ms/step - loss: 0.0356 - mae: 0.1423 - val_loss: 0.0362 - val_mae: 0.1452\n",
      "Epoch 223/1000\n",
      "5/5 [==============================] - 0s 73ms/step - loss: 0.0341 - mae: 0.1399 - val_loss: 0.0349 - val_mae: 0.1421\n",
      "Epoch 224/1000\n",
      "5/5 [==============================] - 0s 71ms/step - loss: 0.0326 - mae: 0.1374 - val_loss: 0.0351 - val_mae: 0.1419\n",
      "Epoch 225/1000\n",
      "5/5 [==============================] - 0s 71ms/step - loss: 0.0318 - mae: 0.1354 - val_loss: 0.0333 - val_mae: 0.1390\n",
      "Epoch 226/1000\n",
      "5/5 [==============================] - 0s 70ms/step - loss: 0.0319 - mae: 0.1342 - val_loss: 0.0358 - val_mae: 0.1443\n",
      "Epoch 227/1000\n",
      "5/5 [==============================] - 0s 72ms/step - loss: 0.0334 - mae: 0.1394 - val_loss: 0.0345 - val_mae: 0.1408\n",
      "Epoch 228/1000\n",
      "5/5 [==============================] - 0s 71ms/step - loss: 0.0316 - mae: 0.1346 - val_loss: 0.0392 - val_mae: 0.1459\n",
      "Epoch 229/1000\n",
      "5/5 [==============================] - 0s 72ms/step - loss: 0.0336 - mae: 0.1378 - val_loss: 0.0360 - val_mae: 0.1416\n",
      "Epoch 230/1000\n",
      "5/5 [==============================] - 0s 73ms/step - loss: 0.0322 - mae: 0.1359 - val_loss: 0.0372 - val_mae: 0.1439\n",
      "Epoch 231/1000\n",
      "5/5 [==============================] - 0s 71ms/step - loss: 0.0318 - mae: 0.1362 - val_loss: 0.0371 - val_mae: 0.1465\n",
      "Epoch 232/1000\n",
      "5/5 [==============================] - 0s 72ms/step - loss: 0.0325 - mae: 0.1374 - val_loss: 0.0323 - val_mae: 0.1365\n",
      "Epoch 233/1000\n",
      "5/5 [==============================] - 0s 77ms/step - loss: 0.0303 - mae: 0.1328 - val_loss: 0.0321 - val_mae: 0.1361\n",
      "Epoch 234/1000\n",
      "5/5 [==============================] - 0s 70ms/step - loss: 0.0298 - mae: 0.1314 - val_loss: 0.0334 - val_mae: 0.1389\n",
      "Epoch 235/1000\n",
      "5/5 [==============================] - 0s 70ms/step - loss: 0.0302 - mae: 0.1317 - val_loss: 0.0312 - val_mae: 0.1350\n",
      "Epoch 236/1000\n",
      "5/5 [==============================] - 0s 70ms/step - loss: 0.0291 - mae: 0.1293 - val_loss: 0.0336 - val_mae: 0.1425\n",
      "Epoch 237/1000\n",
      "5/5 [==============================] - 0s 74ms/step - loss: 0.0290 - mae: 0.1302 - val_loss: 0.0304 - val_mae: 0.1342\n",
      "Epoch 238/1000\n",
      "5/5 [==============================] - 0s 71ms/step - loss: 0.0282 - mae: 0.1273 - val_loss: 0.0303 - val_mae: 0.1332\n",
      "Epoch 239/1000\n",
      "5/5 [==============================] - 0s 70ms/step - loss: 0.0273 - mae: 0.1256 - val_loss: 0.0314 - val_mae: 0.1339\n",
      "Epoch 240/1000\n",
      "5/5 [==============================] - 0s 74ms/step - loss: 0.0276 - mae: 0.1270 - val_loss: 0.0298 - val_mae: 0.1320\n"
     ]
    },
    {
     "name": "stdout",
     "output_type": "stream",
     "text": [
      "Epoch 241/1000\n",
      "5/5 [==============================] - 0s 71ms/step - loss: 0.0268 - mae: 0.1242 - val_loss: 0.0299 - val_mae: 0.1320\n",
      "Epoch 242/1000\n",
      "5/5 [==============================] - 0s 71ms/step - loss: 0.0266 - mae: 0.1232 - val_loss: 0.0293 - val_mae: 0.1294\n",
      "Epoch 243/1000\n",
      "5/5 [==============================] - 0s 76ms/step - loss: 0.0266 - mae: 0.1233 - val_loss: 0.0293 - val_mae: 0.1325\n",
      "Epoch 244/1000\n",
      "5/5 [==============================] - 0s 71ms/step - loss: 0.0273 - mae: 0.1246 - val_loss: 0.0294 - val_mae: 0.1322\n",
      "Epoch 245/1000\n",
      "5/5 [==============================] - 0s 72ms/step - loss: 0.0272 - mae: 0.1246 - val_loss: 0.0293 - val_mae: 0.1310\n",
      "Epoch 246/1000\n",
      "5/5 [==============================] - 0s 74ms/step - loss: 0.0266 - mae: 0.1240 - val_loss: 0.0289 - val_mae: 0.1300\n",
      "Epoch 247/1000\n",
      "5/5 [==============================] - 0s 71ms/step - loss: 0.0262 - mae: 0.1227 - val_loss: 0.0282 - val_mae: 0.1271\n",
      "Epoch 248/1000\n",
      "5/5 [==============================] - 0s 72ms/step - loss: 0.0263 - mae: 0.1229 - val_loss: 0.0280 - val_mae: 0.1260\n",
      "Epoch 249/1000\n",
      "5/5 [==============================] - 0s 72ms/step - loss: 0.0259 - mae: 0.1213 - val_loss: 0.0297 - val_mae: 0.1279\n",
      "Epoch 250/1000\n",
      "5/5 [==============================] - 0s 74ms/step - loss: 0.0254 - mae: 0.1205 - val_loss: 0.0298 - val_mae: 0.1283\n",
      "Epoch 251/1000\n",
      "5/5 [==============================] - 0s 72ms/step - loss: 0.0265 - mae: 0.1225 - val_loss: 0.0341 - val_mae: 0.1354\n",
      "Epoch 252/1000\n",
      "5/5 [==============================] - 0s 71ms/step - loss: 0.0275 - mae: 0.1253 - val_loss: 0.0288 - val_mae: 0.1277\n",
      "Epoch 253/1000\n",
      "5/5 [==============================] - 0s 75ms/step - loss: 0.0252 - mae: 0.1206 - val_loss: 0.0280 - val_mae: 0.1280\n",
      "Epoch 254/1000\n",
      "5/5 [==============================] - 0s 71ms/step - loss: 0.0244 - mae: 0.1195 - val_loss: 0.0278 - val_mae: 0.1269\n",
      "Epoch 255/1000\n",
      "5/5 [==============================] - 0s 70ms/step - loss: 0.0239 - mae: 0.1186 - val_loss: 0.0275 - val_mae: 0.1258\n",
      "Epoch 256/1000\n",
      "5/5 [==============================] - 0s 75ms/step - loss: 0.0240 - mae: 0.1182 - val_loss: 0.0273 - val_mae: 0.1267\n",
      "Epoch 257/1000\n",
      "5/5 [==============================] - 0s 71ms/step - loss: 0.0237 - mae: 0.1180 - val_loss: 0.0277 - val_mae: 0.1260\n",
      "Epoch 258/1000\n",
      "5/5 [==============================] - 0s 72ms/step - loss: 0.0240 - mae: 0.1173 - val_loss: 0.0275 - val_mae: 0.1278\n",
      "Epoch 259/1000\n",
      "5/5 [==============================] - 0s 72ms/step - loss: 0.0229 - mae: 0.1159 - val_loss: 0.0264 - val_mae: 0.1257\n",
      "Epoch 260/1000\n",
      "5/5 [==============================] - 0s 71ms/step - loss: 0.0232 - mae: 0.1170 - val_loss: 0.0257 - val_mae: 0.1242\n",
      "Epoch 261/1000\n",
      "5/5 [==============================] - 0s 70ms/step - loss: 0.0224 - mae: 0.1158 - val_loss: 0.0273 - val_mae: 0.1245\n",
      "Epoch 262/1000\n",
      "5/5 [==============================] - 0s 69ms/step - loss: 0.0217 - mae: 0.1135 - val_loss: 0.0242 - val_mae: 0.1214\n",
      "Epoch 263/1000\n",
      "5/5 [==============================] - 0s 74ms/step - loss: 0.0207 - mae: 0.1126 - val_loss: 0.0256 - val_mae: 0.1227\n",
      "Epoch 264/1000\n",
      "5/5 [==============================] - 0s 71ms/step - loss: 0.0216 - mae: 0.1134 - val_loss: 0.0242 - val_mae: 0.1203\n",
      "Epoch 265/1000\n",
      "5/5 [==============================] - 0s 72ms/step - loss: 0.0208 - mae: 0.1125 - val_loss: 0.0252 - val_mae: 0.1236\n",
      "Epoch 266/1000\n",
      "5/5 [==============================] - 0s 73ms/step - loss: 0.0288 - mae: 0.1288 - val_loss: 0.0384 - val_mae: 0.1567\n",
      "Epoch 267/1000\n",
      "5/5 [==============================] - 0s 70ms/step - loss: 0.0280 - mae: 0.1291 - val_loss: 0.0286 - val_mae: 0.1322\n",
      "Epoch 268/1000\n",
      "5/5 [==============================] - 0s 73ms/step - loss: 0.0239 - mae: 0.1211 - val_loss: 0.0236 - val_mae: 0.1207\n",
      "Epoch 269/1000\n",
      "5/5 [==============================] - 0s 71ms/step - loss: 0.0215 - mae: 0.1141 - val_loss: 0.0251 - val_mae: 0.1218\n",
      "Epoch 270/1000\n",
      "5/5 [==============================] - 0s 73ms/step - loss: 0.0224 - mae: 0.1144 - val_loss: 0.0239 - val_mae: 0.1192\n",
      "Epoch 271/1000\n",
      "5/5 [==============================] - 0s 71ms/step - loss: 0.0212 - mae: 0.1120 - val_loss: 0.0239 - val_mae: 0.1202\n",
      "Epoch 272/1000\n",
      "5/5 [==============================] - 0s 71ms/step - loss: 0.0194 - mae: 0.1080 - val_loss: 0.0226 - val_mae: 0.1188\n",
      "Epoch 273/1000\n",
      "1/5 [=====>........................] - ETA: 0s - loss: 0.0193 - mae: 0.1091"
     ]
    },
    {
     "name": "stderr",
     "output_type": "stream",
     "text": [
      "WARNING:absl:Found untraced functions such as lstm_cell_layer_call_fn, lstm_cell_layer_call_and_return_conditional_losses while saving (showing 2 of 2). These functions will not be directly callable after loading.\n"
     ]
    },
    {
     "name": "stdout",
     "output_type": "stream",
     "text": [
      "INFO:tensorflow:Assets written to: C:\\Users\\PARK\\Documents\\LAB\\RNN vs LSTM\\FInal Example\\wandb\\run-20221016_021922-3ugkxw4r\\files\\model-best\\assets\n"
     ]
    },
    {
     "name": "stderr",
     "output_type": "stream",
     "text": [
      "INFO:tensorflow:Assets written to: C:\\Users\\PARK\\Documents\\LAB\\RNN vs LSTM\\FInal Example\\wandb\\run-20221016_021922-3ugkxw4r\\files\\model-best\\assets\n",
      "\u001b[34m\u001b[1mwandb\u001b[0m: Adding directory to artifact (C:\\Users\\PARK\\Documents\\LAB\\RNN vs LSTM\\FInal Example\\wandb\\run-20221016_021922-3ugkxw4r\\files\\model-best)... Done. 0.1s\n"
     ]
    },
    {
     "name": "stdout",
     "output_type": "stream",
     "text": [
      "5/5 [==============================] - 4s 1s/step - loss: 0.0191 - mae: 0.1074 - val_loss: 0.0214 - val_mae: 0.1154\n",
      "Epoch 274/1000\n",
      "5/5 [==============================] - 1s 126ms/step - loss: 0.0180 - mae: 0.1050 - val_loss: 0.0219 - val_mae: 0.1168\n",
      "Epoch 275/1000\n",
      "4/5 [=======================>......] - ETA: 0s - loss: 0.0178 - mae: 0.1043"
     ]
    },
    {
     "name": "stderr",
     "output_type": "stream",
     "text": [
      "WARNING:absl:Found untraced functions such as lstm_cell_layer_call_fn, lstm_cell_layer_call_and_return_conditional_losses while saving (showing 2 of 2). These functions will not be directly callable after loading.\n"
     ]
    },
    {
     "name": "stdout",
     "output_type": "stream",
     "text": [
      "INFO:tensorflow:Assets written to: C:\\Users\\PARK\\Documents\\LAB\\RNN vs LSTM\\FInal Example\\wandb\\run-20221016_021922-3ugkxw4r\\files\\model-best\\assets\n"
     ]
    },
    {
     "name": "stderr",
     "output_type": "stream",
     "text": [
      "INFO:tensorflow:Assets written to: C:\\Users\\PARK\\Documents\\LAB\\RNN vs LSTM\\FInal Example\\wandb\\run-20221016_021922-3ugkxw4r\\files\\model-best\\assets\n",
      "\u001b[34m\u001b[1mwandb\u001b[0m: Adding directory to artifact (C:\\Users\\PARK\\Documents\\LAB\\RNN vs LSTM\\FInal Example\\wandb\\run-20221016_021922-3ugkxw4r\\files\\model-best)... Done. 0.1s\n"
     ]
    },
    {
     "name": "stdout",
     "output_type": "stream",
     "text": [
      "5/5 [==============================] - 4s 1s/step - loss: 0.0176 - mae: 0.1038 - val_loss: 0.0205 - val_mae: 0.1123\n",
      "Epoch 276/1000\n",
      "2/5 [===========>..................] - ETA: 0s - loss: 0.0164 - mae: 0.1000"
     ]
    },
    {
     "name": "stderr",
     "output_type": "stream",
     "text": [
      "WARNING:absl:Found untraced functions such as lstm_cell_layer_call_fn, lstm_cell_layer_call_and_return_conditional_losses while saving (showing 2 of 2). These functions will not be directly callable after loading.\n"
     ]
    },
    {
     "name": "stdout",
     "output_type": "stream",
     "text": [
      "INFO:tensorflow:Assets written to: C:\\Users\\PARK\\Documents\\LAB\\RNN vs LSTM\\FInal Example\\wandb\\run-20221016_021922-3ugkxw4r\\files\\model-best\\assets\n"
     ]
    },
    {
     "name": "stderr",
     "output_type": "stream",
     "text": [
      "INFO:tensorflow:Assets written to: C:\\Users\\PARK\\Documents\\LAB\\RNN vs LSTM\\FInal Example\\wandb\\run-20221016_021922-3ugkxw4r\\files\\model-best\\assets\n",
      "\u001b[34m\u001b[1mwandb\u001b[0m: Adding directory to artifact (C:\\Users\\PARK\\Documents\\LAB\\RNN vs LSTM\\FInal Example\\wandb\\run-20221016_021922-3ugkxw4r\\files\\model-best)... Done. 0.1s\n"
     ]
    },
    {
     "name": "stdout",
     "output_type": "stream",
     "text": [
      "5/5 [==============================] - 4s 1s/step - loss: 0.0163 - mae: 0.1003 - val_loss: 0.0196 - val_mae: 0.1105\n",
      "Epoch 277/1000\n",
      "3/5 [=================>............] - ETA: 0s - loss: 0.0154 - mae: 0.0969"
     ]
    },
    {
     "name": "stderr",
     "output_type": "stream",
     "text": [
      "WARNING:absl:Found untraced functions such as lstm_cell_layer_call_fn, lstm_cell_layer_call_and_return_conditional_losses while saving (showing 2 of 2). These functions will not be directly callable after loading.\n"
     ]
    },
    {
     "name": "stdout",
     "output_type": "stream",
     "text": [
      "INFO:tensorflow:Assets written to: C:\\Users\\PARK\\Documents\\LAB\\RNN vs LSTM\\FInal Example\\wandb\\run-20221016_021922-3ugkxw4r\\files\\model-best\\assets\n"
     ]
    },
    {
     "name": "stderr",
     "output_type": "stream",
     "text": [
      "INFO:tensorflow:Assets written to: C:\\Users\\PARK\\Documents\\LAB\\RNN vs LSTM\\FInal Example\\wandb\\run-20221016_021922-3ugkxw4r\\files\\model-best\\assets\n",
      "\u001b[34m\u001b[1mwandb\u001b[0m: Adding directory to artifact (C:\\Users\\PARK\\Documents\\LAB\\RNN vs LSTM\\FInal Example\\wandb\\run-20221016_021922-3ugkxw4r\\files\\model-best)... Done. 0.1s\n"
     ]
    },
    {
     "name": "stdout",
     "output_type": "stream",
     "text": [
      "5/5 [==============================] - 4s 1s/step - loss: 0.0157 - mae: 0.0988 - val_loss: 0.0181 - val_mae: 0.1056\n",
      "Epoch 278/1000\n",
      "2/5 [===========>..................] - ETA: 0s - loss: 0.0155 - mae: 0.0990"
     ]
    },
    {
     "name": "stderr",
     "output_type": "stream",
     "text": [
      "WARNING:absl:Found untraced functions such as lstm_cell_layer_call_fn, lstm_cell_layer_call_and_return_conditional_losses while saving (showing 2 of 2). These functions will not be directly callable after loading.\n"
     ]
    },
    {
     "name": "stdout",
     "output_type": "stream",
     "text": [
      "INFO:tensorflow:Assets written to: C:\\Users\\PARK\\Documents\\LAB\\RNN vs LSTM\\FInal Example\\wandb\\run-20221016_021922-3ugkxw4r\\files\\model-best\\assets\n"
     ]
    },
    {
     "name": "stderr",
     "output_type": "stream",
     "text": [
      "INFO:tensorflow:Assets written to: C:\\Users\\PARK\\Documents\\LAB\\RNN vs LSTM\\FInal Example\\wandb\\run-20221016_021922-3ugkxw4r\\files\\model-best\\assets\n",
      "\u001b[34m\u001b[1mwandb\u001b[0m: Adding directory to artifact (C:\\Users\\PARK\\Documents\\LAB\\RNN vs LSTM\\FInal Example\\wandb\\run-20221016_021922-3ugkxw4r\\files\\model-best)... Done. 0.1s\n"
     ]
    },
    {
     "name": "stdout",
     "output_type": "stream",
     "text": [
      "5/5 [==============================] - 4s 1s/step - loss: 0.0151 - mae: 0.0973 - val_loss: 0.0180 - val_mae: 0.1062\n",
      "Epoch 279/1000\n",
      "5/5 [==============================] - 1s 120ms/step - loss: 0.0146 - mae: 0.0954 - val_loss: 0.0181 - val_mae: 0.1058\n",
      "Epoch 280/1000\n",
      "1/5 [=====>........................] - ETA: 0s - loss: 0.0161 - mae: 0.0999"
     ]
    },
    {
     "name": "stderr",
     "output_type": "stream",
     "text": [
      "WARNING:absl:Found untraced functions such as lstm_cell_layer_call_fn, lstm_cell_layer_call_and_return_conditional_losses while saving (showing 2 of 2). These functions will not be directly callable after loading.\n"
     ]
    },
    {
     "name": "stdout",
     "output_type": "stream",
     "text": [
      "INFO:tensorflow:Assets written to: C:\\Users\\PARK\\Documents\\LAB\\RNN vs LSTM\\FInal Example\\wandb\\run-20221016_021922-3ugkxw4r\\files\\model-best\\assets\n"
     ]
    },
    {
     "name": "stderr",
     "output_type": "stream",
     "text": [
      "INFO:tensorflow:Assets written to: C:\\Users\\PARK\\Documents\\LAB\\RNN vs LSTM\\FInal Example\\wandb\\run-20221016_021922-3ugkxw4r\\files\\model-best\\assets\n",
      "\u001b[34m\u001b[1mwandb\u001b[0m: Adding directory to artifact (C:\\Users\\PARK\\Documents\\LAB\\RNN vs LSTM\\FInal Example\\wandb\\run-20221016_021922-3ugkxw4r\\files\\model-best)... Done. 0.1s\n"
     ]
    },
    {
     "name": "stdout",
     "output_type": "stream",
     "text": [
      "5/5 [==============================] - 4s 1s/step - loss: 0.0147 - mae: 0.0952 - val_loss: 0.0179 - val_mae: 0.1044\n",
      "Epoch 281/1000\n",
      "5/5 [==============================] - 0s 87ms/step - loss: 0.0145 - mae: 0.0950 - val_loss: 0.0189 - val_mae: 0.1060\n",
      "Epoch 282/1000\n",
      "5/5 [==============================] - 0s 75ms/step - loss: 0.0144 - mae: 0.0941 - val_loss: 0.0180 - val_mae: 0.1043\n",
      "Epoch 283/1000\n",
      "1/5 [=====>........................] - ETA: 0s - loss: 0.0114 - mae: 0.0833"
     ]
    },
    {
     "name": "stderr",
     "output_type": "stream",
     "text": [
      "WARNING:absl:Found untraced functions such as lstm_cell_layer_call_fn, lstm_cell_layer_call_and_return_conditional_losses while saving (showing 2 of 2). These functions will not be directly callable after loading.\n"
     ]
    },
    {
     "name": "stdout",
     "output_type": "stream",
     "text": [
      "INFO:tensorflow:Assets written to: C:\\Users\\PARK\\Documents\\LAB\\RNN vs LSTM\\FInal Example\\wandb\\run-20221016_021922-3ugkxw4r\\files\\model-best\\assets\n"
     ]
    },
    {
     "name": "stderr",
     "output_type": "stream",
     "text": [
      "INFO:tensorflow:Assets written to: C:\\Users\\PARK\\Documents\\LAB\\RNN vs LSTM\\FInal Example\\wandb\\run-20221016_021922-3ugkxw4r\\files\\model-best\\assets\n",
      "\u001b[34m\u001b[1mwandb\u001b[0m: Adding directory to artifact (C:\\Users\\PARK\\Documents\\LAB\\RNN vs LSTM\\FInal Example\\wandb\\run-20221016_021922-3ugkxw4r\\files\\model-best)... Done. 0.1s\n"
     ]
    },
    {
     "name": "stdout",
     "output_type": "stream",
     "text": [
      "5/5 [==============================] - 4s 997ms/step - loss: 0.0136 - mae: 0.0918 - val_loss: 0.0163 - val_mae: 0.1004\n",
      "Epoch 284/1000\n",
      "5/5 [==============================] - 0s 99ms/step - loss: 0.0135 - mae: 0.0921 - val_loss: 0.0173 - val_mae: 0.1040\n",
      "Epoch 285/1000\n",
      "5/5 [==============================] - 0s 74ms/step - loss: 0.0134 - mae: 0.0914 - val_loss: 0.0176 - val_mae: 0.1039\n",
      "Epoch 286/1000\n",
      "1/5 [=====>........................] - ETA: 0s - loss: 0.0131 - mae: 0.0902"
     ]
    },
    {
     "name": "stderr",
     "output_type": "stream",
     "text": [
      "WARNING:absl:Found untraced functions such as lstm_cell_layer_call_fn, lstm_cell_layer_call_and_return_conditional_losses while saving (showing 2 of 2). These functions will not be directly callable after loading.\n"
     ]
    },
    {
     "name": "stdout",
     "output_type": "stream",
     "text": [
      "INFO:tensorflow:Assets written to: C:\\Users\\PARK\\Documents\\LAB\\RNN vs LSTM\\FInal Example\\wandb\\run-20221016_021922-3ugkxw4r\\files\\model-best\\assets\n"
     ]
    },
    {
     "name": "stderr",
     "output_type": "stream",
     "text": [
      "INFO:tensorflow:Assets written to: C:\\Users\\PARK\\Documents\\LAB\\RNN vs LSTM\\FInal Example\\wandb\\run-20221016_021922-3ugkxw4r\\files\\model-best\\assets\n",
      "\u001b[34m\u001b[1mwandb\u001b[0m: Adding directory to artifact (C:\\Users\\PARK\\Documents\\LAB\\RNN vs LSTM\\FInal Example\\wandb\\run-20221016_021922-3ugkxw4r\\files\\model-best)... Done. 0.1s\n"
     ]
    },
    {
     "name": "stdout",
     "output_type": "stream",
     "text": [
      "5/5 [==============================] - 4s 960ms/step - loss: 0.0136 - mae: 0.0915 - val_loss: 0.0159 - val_mae: 0.0996\n",
      "Epoch 287/1000\n",
      "4/5 [=======================>......] - ETA: 0s - loss: 0.0128 - mae: 0.0898"
     ]
    },
    {
     "name": "stderr",
     "output_type": "stream",
     "text": [
      "WARNING:absl:Found untraced functions such as lstm_cell_layer_call_fn, lstm_cell_layer_call_and_return_conditional_losses while saving (showing 2 of 2). These functions will not be directly callable after loading.\n"
     ]
    },
    {
     "name": "stdout",
     "output_type": "stream",
     "text": [
      "INFO:tensorflow:Assets written to: C:\\Users\\PARK\\Documents\\LAB\\RNN vs LSTM\\FInal Example\\wandb\\run-20221016_021922-3ugkxw4r\\files\\model-best\\assets\n"
     ]
    },
    {
     "name": "stderr",
     "output_type": "stream",
     "text": [
      "INFO:tensorflow:Assets written to: C:\\Users\\PARK\\Documents\\LAB\\RNN vs LSTM\\FInal Example\\wandb\\run-20221016_021922-3ugkxw4r\\files\\model-best\\assets\n",
      "\u001b[34m\u001b[1mwandb\u001b[0m: Adding directory to artifact (C:\\Users\\PARK\\Documents\\LAB\\RNN vs LSTM\\FInal Example\\wandb\\run-20221016_021922-3ugkxw4r\\files\\model-best)... Done. 0.1s\n"
     ]
    },
    {
     "name": "stdout",
     "output_type": "stream",
     "text": [
      "5/5 [==============================] - 4s 1s/step - loss: 0.0130 - mae: 0.0901 - val_loss: 0.0155 - val_mae: 0.0970\n",
      "Epoch 288/1000\n",
      "5/5 [==============================] - 1s 127ms/step - loss: 0.0129 - mae: 0.0891 - val_loss: 0.0192 - val_mae: 0.1037\n",
      "Epoch 289/1000\n",
      "5/5 [==============================] - 0s 74ms/step - loss: 0.0143 - mae: 0.0930 - val_loss: 0.0169 - val_mae: 0.1025\n",
      "Epoch 290/1000\n",
      "5/5 [==============================] - 0s 78ms/step - loss: 0.0171 - mae: 0.0999 - val_loss: 0.0205 - val_mae: 0.1110\n",
      "Epoch 291/1000\n",
      "5/5 [==============================] - 0s 72ms/step - loss: 0.0161 - mae: 0.0987 - val_loss: 0.0205 - val_mae: 0.1094\n",
      "Epoch 292/1000\n",
      "5/5 [==============================] - 0s 73ms/step - loss: 0.0160 - mae: 0.0991 - val_loss: 0.0227 - val_mae: 0.1207\n",
      "Epoch 293/1000\n",
      "5/5 [==============================] - 0s 74ms/step - loss: 0.0163 - mae: 0.1003 - val_loss: 0.0172 - val_mae: 0.1057\n",
      "Epoch 294/1000\n",
      "5/5 [==============================] - 0s 73ms/step - loss: 0.0155 - mae: 0.0997 - val_loss: 0.0194 - val_mae: 0.1099\n",
      "Epoch 295/1000\n",
      "5/5 [==============================] - 0s 73ms/step - loss: 0.0149 - mae: 0.0965 - val_loss: 0.0213 - val_mae: 0.1123\n",
      "Epoch 296/1000\n",
      "1/5 [=====>........................] - ETA: 0s - loss: 0.0165 - mae: 0.0986"
     ]
    },
    {
     "name": "stderr",
     "output_type": "stream",
     "text": [
      "WARNING:absl:Found untraced functions such as lstm_cell_layer_call_fn, lstm_cell_layer_call_and_return_conditional_losses while saving (showing 2 of 2). These functions will not be directly callable after loading.\n"
     ]
    },
    {
     "name": "stdout",
     "output_type": "stream",
     "text": [
      "INFO:tensorflow:Assets written to: C:\\Users\\PARK\\Documents\\LAB\\RNN vs LSTM\\FInal Example\\wandb\\run-20221016_021922-3ugkxw4r\\files\\model-best\\assets\n"
     ]
    },
    {
     "name": "stderr",
     "output_type": "stream",
     "text": [
      "INFO:tensorflow:Assets written to: C:\\Users\\PARK\\Documents\\LAB\\RNN vs LSTM\\FInal Example\\wandb\\run-20221016_021922-3ugkxw4r\\files\\model-best\\assets\n",
      "\u001b[34m\u001b[1mwandb\u001b[0m: Adding directory to artifact (C:\\Users\\PARK\\Documents\\LAB\\RNN vs LSTM\\FInal Example\\wandb\\run-20221016_021922-3ugkxw4r\\files\\model-best)... Done. 0.1s\n"
     ]
    },
    {
     "name": "stdout",
     "output_type": "stream",
     "text": [
      "5/5 [==============================] - 4s 994ms/step - loss: 0.0165 - mae: 0.1004 - val_loss: 0.0144 - val_mae: 0.0935\n",
      "Epoch 297/1000\n",
      "5/5 [==============================] - 1s 123ms/step - loss: 0.0147 - mae: 0.0955 - val_loss: 0.0193 - val_mae: 0.1088\n",
      "Epoch 298/1000\n",
      "5/5 [==============================] - 0s 96ms/step - loss: 0.0132 - mae: 0.0903 - val_loss: 0.0159 - val_mae: 0.0998\n",
      "Epoch 299/1000\n",
      "4/5 [=======================>......] - ETA: 0s - loss: 0.0122 - mae: 0.0878"
     ]
    },
    {
     "name": "stderr",
     "output_type": "stream",
     "text": [
      "WARNING:absl:Found untraced functions such as lstm_cell_layer_call_fn, lstm_cell_layer_call_and_return_conditional_losses while saving (showing 2 of 2). These functions will not be directly callable after loading.\n"
     ]
    },
    {
     "name": "stdout",
     "output_type": "stream",
     "text": [
      "INFO:tensorflow:Assets written to: C:\\Users\\PARK\\Documents\\LAB\\RNN vs LSTM\\FInal Example\\wandb\\run-20221016_021922-3ugkxw4r\\files\\model-best\\assets\n"
     ]
    },
    {
     "name": "stderr",
     "output_type": "stream",
     "text": [
      "INFO:tensorflow:Assets written to: C:\\Users\\PARK\\Documents\\LAB\\RNN vs LSTM\\FInal Example\\wandb\\run-20221016_021922-3ugkxw4r\\files\\model-best\\assets\n",
      "\u001b[34m\u001b[1mwandb\u001b[0m: Adding directory to artifact (C:\\Users\\PARK\\Documents\\LAB\\RNN vs LSTM\\FInal Example\\wandb\\run-20221016_021922-3ugkxw4r\\files\\model-best)... Done. 0.1s\n"
     ]
    },
    {
     "name": "stdout",
     "output_type": "stream",
     "text": [
      "5/5 [==============================] - 4s 1s/step - loss: 0.0120 - mae: 0.0871 - val_loss: 0.0128 - val_mae: 0.0895\n",
      "Epoch 300/1000\n",
      "4/5 [=======================>......] - ETA: 0s - loss: 0.0107 - mae: 0.0824"
     ]
    },
    {
     "name": "stderr",
     "output_type": "stream",
     "text": [
      "WARNING:absl:Found untraced functions such as lstm_cell_layer_call_fn, lstm_cell_layer_call_and_return_conditional_losses while saving (showing 2 of 2). These functions will not be directly callable after loading.\n"
     ]
    },
    {
     "name": "stdout",
     "output_type": "stream",
     "text": [
      "INFO:tensorflow:Assets written to: C:\\Users\\PARK\\Documents\\LAB\\RNN vs LSTM\\FInal Example\\wandb\\run-20221016_021922-3ugkxw4r\\files\\model-best\\assets\n"
     ]
    },
    {
     "name": "stderr",
     "output_type": "stream",
     "text": [
      "INFO:tensorflow:Assets written to: C:\\Users\\PARK\\Documents\\LAB\\RNN vs LSTM\\FInal Example\\wandb\\run-20221016_021922-3ugkxw4r\\files\\model-best\\assets\n",
      "\u001b[34m\u001b[1mwandb\u001b[0m: Adding directory to artifact (C:\\Users\\PARK\\Documents\\LAB\\RNN vs LSTM\\FInal Example\\wandb\\run-20221016_021922-3ugkxw4r\\files\\model-best)... Done. 0.1s\n"
     ]
    },
    {
     "name": "stdout",
     "output_type": "stream",
     "text": [
      "5/5 [==============================] - 5s 1s/step - loss: 0.0106 - mae: 0.0823 - val_loss: 0.0126 - val_mae: 0.0882\n",
      "Epoch 301/1000\n",
      "5/5 [==============================] - 1s 121ms/step - loss: 0.0103 - mae: 0.0802 - val_loss: 0.0134 - val_mae: 0.0915\n",
      "Epoch 302/1000\n",
      "1/5 [=====>........................] - ETA: 0s - loss: 0.0099 - mae: 0.0792"
     ]
    },
    {
     "name": "stderr",
     "output_type": "stream",
     "text": [
      "WARNING:absl:Found untraced functions such as lstm_cell_layer_call_fn, lstm_cell_layer_call_and_return_conditional_losses while saving (showing 2 of 2). These functions will not be directly callable after loading.\n"
     ]
    },
    {
     "name": "stdout",
     "output_type": "stream",
     "text": [
      "INFO:tensorflow:Assets written to: C:\\Users\\PARK\\Documents\\LAB\\RNN vs LSTM\\FInal Example\\wandb\\run-20221016_021922-3ugkxw4r\\files\\model-best\\assets\n"
     ]
    },
    {
     "name": "stderr",
     "output_type": "stream",
     "text": [
      "INFO:tensorflow:Assets written to: C:\\Users\\PARK\\Documents\\LAB\\RNN vs LSTM\\FInal Example\\wandb\\run-20221016_021922-3ugkxw4r\\files\\model-best\\assets\n",
      "\u001b[34m\u001b[1mwandb\u001b[0m: Adding directory to artifact (C:\\Users\\PARK\\Documents\\LAB\\RNN vs LSTM\\FInal Example\\wandb\\run-20221016_021922-3ugkxw4r\\files\\model-best)... Done. 0.1s\n"
     ]
    },
    {
     "name": "stdout",
     "output_type": "stream",
     "text": [
      "5/5 [==============================] - 4s 1s/step - loss: 0.0099 - mae: 0.0779 - val_loss: 0.0120 - val_mae: 0.0867\n",
      "Epoch 303/1000\n",
      "5/5 [==============================] - 1s 116ms/step - loss: 0.0092 - mae: 0.0765 - val_loss: 0.0122 - val_mae: 0.0866\n",
      "Epoch 304/1000\n",
      "1/5 [=====>........................] - ETA: 0s - loss: 0.0089 - mae: 0.0766"
     ]
    },
    {
     "name": "stderr",
     "output_type": "stream",
     "text": [
      "WARNING:absl:Found untraced functions such as lstm_cell_layer_call_fn, lstm_cell_layer_call_and_return_conditional_losses while saving (showing 2 of 2). These functions will not be directly callable after loading.\n"
     ]
    },
    {
     "name": "stdout",
     "output_type": "stream",
     "text": [
      "INFO:tensorflow:Assets written to: C:\\Users\\PARK\\Documents\\LAB\\RNN vs LSTM\\FInal Example\\wandb\\run-20221016_021922-3ugkxw4r\\files\\model-best\\assets\n"
     ]
    },
    {
     "name": "stderr",
     "output_type": "stream",
     "text": [
      "INFO:tensorflow:Assets written to: C:\\Users\\PARK\\Documents\\LAB\\RNN vs LSTM\\FInal Example\\wandb\\run-20221016_021922-3ugkxw4r\\files\\model-best\\assets\n",
      "\u001b[34m\u001b[1mwandb\u001b[0m: Adding directory to artifact (C:\\Users\\PARK\\Documents\\LAB\\RNN vs LSTM\\FInal Example\\wandb\\run-20221016_021922-3ugkxw4r\\files\\model-best)... Done. 0.1s\n"
     ]
    },
    {
     "name": "stdout",
     "output_type": "stream",
     "text": [
      "5/5 [==============================] - 4s 1s/step - loss: 0.0088 - mae: 0.0740 - val_loss: 0.0116 - val_mae: 0.0859\n",
      "Epoch 305/1000\n",
      "3/5 [=================>............] - ETA: 0s - loss: 0.0080 - mae: 0.0710"
     ]
    },
    {
     "name": "stderr",
     "output_type": "stream",
     "text": [
      "WARNING:absl:Found untraced functions such as lstm_cell_layer_call_fn, lstm_cell_layer_call_and_return_conditional_losses while saving (showing 2 of 2). These functions will not be directly callable after loading.\n"
     ]
    },
    {
     "name": "stdout",
     "output_type": "stream",
     "text": [
      "INFO:tensorflow:Assets written to: C:\\Users\\PARK\\Documents\\LAB\\RNN vs LSTM\\FInal Example\\wandb\\run-20221016_021922-3ugkxw4r\\files\\model-best\\assets\n"
     ]
    },
    {
     "name": "stderr",
     "output_type": "stream",
     "text": [
      "INFO:tensorflow:Assets written to: C:\\Users\\PARK\\Documents\\LAB\\RNN vs LSTM\\FInal Example\\wandb\\run-20221016_021922-3ugkxw4r\\files\\model-best\\assets\n",
      "\u001b[34m\u001b[1mwandb\u001b[0m: Adding directory to artifact (C:\\Users\\PARK\\Documents\\LAB\\RNN vs LSTM\\FInal Example\\wandb\\run-20221016_021922-3ugkxw4r\\files\\model-best)... Done. 0.1s\n"
     ]
    },
    {
     "name": "stdout",
     "output_type": "stream",
     "text": [
      "5/5 [==============================] - 4s 1s/step - loss: 0.0083 - mae: 0.0728 - val_loss: 0.0106 - val_mae: 0.0817\n",
      "Epoch 306/1000\n",
      "5/5 [==============================] - 1s 98ms/step - loss: 0.0079 - mae: 0.0712 - val_loss: 0.0106 - val_mae: 0.0819\n",
      "Epoch 307/1000\n",
      "5/5 [==============================] - 0s 73ms/step - loss: 0.0078 - mae: 0.0700 - val_loss: 0.0108 - val_mae: 0.0827\n",
      "Epoch 308/1000\n",
      "1/5 [=====>........................] - ETA: 0s - loss: 0.0067 - mae: 0.0656"
     ]
    },
    {
     "name": "stderr",
     "output_type": "stream",
     "text": [
      "WARNING:absl:Found untraced functions such as lstm_cell_layer_call_fn, lstm_cell_layer_call_and_return_conditional_losses while saving (showing 2 of 2). These functions will not be directly callable after loading.\n"
     ]
    },
    {
     "name": "stdout",
     "output_type": "stream",
     "text": [
      "INFO:tensorflow:Assets written to: C:\\Users\\PARK\\Documents\\LAB\\RNN vs LSTM\\FInal Example\\wandb\\run-20221016_021922-3ugkxw4r\\files\\model-best\\assets\n"
     ]
    },
    {
     "name": "stderr",
     "output_type": "stream",
     "text": [
      "INFO:tensorflow:Assets written to: C:\\Users\\PARK\\Documents\\LAB\\RNN vs LSTM\\FInal Example\\wandb\\run-20221016_021922-3ugkxw4r\\files\\model-best\\assets\n",
      "\u001b[34m\u001b[1mwandb\u001b[0m: Adding directory to artifact (C:\\Users\\PARK\\Documents\\LAB\\RNN vs LSTM\\FInal Example\\wandb\\run-20221016_021922-3ugkxw4r\\files\\model-best)... Done. 0.1s\n"
     ]
    },
    {
     "name": "stdout",
     "output_type": "stream",
     "text": [
      "5/5 [==============================] - 4s 1s/step - loss: 0.0076 - mae: 0.0697 - val_loss: 0.0104 - val_mae: 0.0813\n",
      "Epoch 309/1000\n",
      "4/5 [=======================>......] - ETA: 0s - loss: 0.0072 - mae: 0.0680"
     ]
    },
    {
     "name": "stderr",
     "output_type": "stream",
     "text": [
      "WARNING:absl:Found untraced functions such as lstm_cell_layer_call_fn, lstm_cell_layer_call_and_return_conditional_losses while saving (showing 2 of 2). These functions will not be directly callable after loading.\n"
     ]
    },
    {
     "name": "stdout",
     "output_type": "stream",
     "text": [
      "INFO:tensorflow:Assets written to: C:\\Users\\PARK\\Documents\\LAB\\RNN vs LSTM\\FInal Example\\wandb\\run-20221016_021922-3ugkxw4r\\files\\model-best\\assets\n"
     ]
    },
    {
     "name": "stderr",
     "output_type": "stream",
     "text": [
      "INFO:tensorflow:Assets written to: C:\\Users\\PARK\\Documents\\LAB\\RNN vs LSTM\\FInal Example\\wandb\\run-20221016_021922-3ugkxw4r\\files\\model-best\\assets\n",
      "\u001b[34m\u001b[1mwandb\u001b[0m: Adding directory to artifact (C:\\Users\\PARK\\Documents\\LAB\\RNN vs LSTM\\FInal Example\\wandb\\run-20221016_021922-3ugkxw4r\\files\\model-best)... Done. 0.1s\n"
     ]
    },
    {
     "name": "stdout",
     "output_type": "stream",
     "text": [
      "5/5 [==============================] - 4s 1s/step - loss: 0.0073 - mae: 0.0684 - val_loss: 0.0097 - val_mae: 0.0780\n",
      "Epoch 310/1000\n",
      "5/5 [==============================] - 1s 116ms/step - loss: 0.0072 - mae: 0.0675 - val_loss: 0.0099 - val_mae: 0.0797\n",
      "Epoch 311/1000\n",
      "5/5 [==============================] - 0s 74ms/step - loss: 0.0072 - mae: 0.0684 - val_loss: 0.0099 - val_mae: 0.0788\n",
      "Epoch 312/1000\n",
      "1/5 [=====>........................] - ETA: 0s - loss: 0.0069 - mae: 0.0670"
     ]
    },
    {
     "name": "stderr",
     "output_type": "stream",
     "text": [
      "WARNING:absl:Found untraced functions such as lstm_cell_layer_call_fn, lstm_cell_layer_call_and_return_conditional_losses while saving (showing 2 of 2). These functions will not be directly callable after loading.\n"
     ]
    },
    {
     "name": "stdout",
     "output_type": "stream",
     "text": [
      "INFO:tensorflow:Assets written to: C:\\Users\\PARK\\Documents\\LAB\\RNN vs LSTM\\FInal Example\\wandb\\run-20221016_021922-3ugkxw4r\\files\\model-best\\assets\n"
     ]
    },
    {
     "name": "stderr",
     "output_type": "stream",
     "text": [
      "INFO:tensorflow:Assets written to: C:\\Users\\PARK\\Documents\\LAB\\RNN vs LSTM\\FInal Example\\wandb\\run-20221016_021922-3ugkxw4r\\files\\model-best\\assets\n",
      "\u001b[34m\u001b[1mwandb\u001b[0m: Adding directory to artifact (C:\\Users\\PARK\\Documents\\LAB\\RNN vs LSTM\\FInal Example\\wandb\\run-20221016_021922-3ugkxw4r\\files\\model-best)... Done. 0.1s\n"
     ]
    },
    {
     "name": "stdout",
     "output_type": "stream",
     "text": [
      "5/5 [==============================] - 4s 1s/step - loss: 0.0068 - mae: 0.0667 - val_loss: 0.0092 - val_mae: 0.0770\n",
      "Epoch 313/1000\n",
      "5/5 [==============================] - 1s 129ms/step - loss: 0.0065 - mae: 0.0653 - val_loss: 0.0094 - val_mae: 0.0780\n",
      "Epoch 314/1000\n",
      "5/5 [==============================] - 0s 92ms/step - loss: 0.0067 - mae: 0.0661 - val_loss: 0.0094 - val_mae: 0.0767\n",
      "Epoch 315/1000\n",
      "4/5 [=======================>......] - ETA: 0s - loss: 0.0065 - mae: 0.0654"
     ]
    },
    {
     "name": "stderr",
     "output_type": "stream",
     "text": [
      "WARNING:absl:Found untraced functions such as lstm_cell_layer_call_fn, lstm_cell_layer_call_and_return_conditional_losses while saving (showing 2 of 2). These functions will not be directly callable after loading.\n"
     ]
    },
    {
     "name": "stdout",
     "output_type": "stream",
     "text": [
      "INFO:tensorflow:Assets written to: C:\\Users\\PARK\\Documents\\LAB\\RNN vs LSTM\\FInal Example\\wandb\\run-20221016_021922-3ugkxw4r\\files\\model-best\\assets\n"
     ]
    },
    {
     "name": "stderr",
     "output_type": "stream",
     "text": [
      "INFO:tensorflow:Assets written to: C:\\Users\\PARK\\Documents\\LAB\\RNN vs LSTM\\FInal Example\\wandb\\run-20221016_021922-3ugkxw4r\\files\\model-best\\assets\n",
      "\u001b[34m\u001b[1mwandb\u001b[0m: Adding directory to artifact (C:\\Users\\PARK\\Documents\\LAB\\RNN vs LSTM\\FInal Example\\wandb\\run-20221016_021922-3ugkxw4r\\files\\model-best)... Done. 0.1s\n"
     ]
    },
    {
     "name": "stdout",
     "output_type": "stream",
     "text": [
      "5/5 [==============================] - 4s 1s/step - loss: 0.0065 - mae: 0.0651 - val_loss: 0.0089 - val_mae: 0.0759\n",
      "Epoch 316/1000\n",
      "5/5 [==============================] - 1s 115ms/step - loss: 0.0063 - mae: 0.0644 - val_loss: 0.0089 - val_mae: 0.0765\n",
      "Epoch 317/1000\n",
      "1/5 [=====>........................] - ETA: 0s - loss: 0.0066 - mae: 0.0665"
     ]
    },
    {
     "name": "stderr",
     "output_type": "stream",
     "text": [
      "WARNING:absl:Found untraced functions such as lstm_cell_layer_call_fn, lstm_cell_layer_call_and_return_conditional_losses while saving (showing 2 of 2). These functions will not be directly callable after loading.\n"
     ]
    },
    {
     "name": "stdout",
     "output_type": "stream",
     "text": [
      "INFO:tensorflow:Assets written to: C:\\Users\\PARK\\Documents\\LAB\\RNN vs LSTM\\FInal Example\\wandb\\run-20221016_021922-3ugkxw4r\\files\\model-best\\assets\n"
     ]
    },
    {
     "name": "stderr",
     "output_type": "stream",
     "text": [
      "INFO:tensorflow:Assets written to: C:\\Users\\PARK\\Documents\\LAB\\RNN vs LSTM\\FInal Example\\wandb\\run-20221016_021922-3ugkxw4r\\files\\model-best\\assets\n",
      "\u001b[34m\u001b[1mwandb\u001b[0m: Adding directory to artifact (C:\\Users\\PARK\\Documents\\LAB\\RNN vs LSTM\\FInal Example\\wandb\\run-20221016_021922-3ugkxw4r\\files\\model-best)... Done. 0.1s\n"
     ]
    },
    {
     "name": "stdout",
     "output_type": "stream",
     "text": [
      "5/5 [==============================] - 4s 1s/step - loss: 0.0063 - mae: 0.0641 - val_loss: 0.0089 - val_mae: 0.0760\n",
      "Epoch 318/1000\n",
      "5/5 [==============================] - 1s 106ms/step - loss: 0.0061 - mae: 0.0637 - val_loss: 0.0090 - val_mae: 0.0763\n",
      "Epoch 319/1000\n",
      "1/5 [=====>........................] - ETA: 0s - loss: 0.0066 - mae: 0.0666"
     ]
    },
    {
     "name": "stderr",
     "output_type": "stream",
     "text": [
      "WARNING:absl:Found untraced functions such as lstm_cell_layer_call_fn, lstm_cell_layer_call_and_return_conditional_losses while saving (showing 2 of 2). These functions will not be directly callable after loading.\n"
     ]
    },
    {
     "name": "stdout",
     "output_type": "stream",
     "text": [
      "INFO:tensorflow:Assets written to: C:\\Users\\PARK\\Documents\\LAB\\RNN vs LSTM\\FInal Example\\wandb\\run-20221016_021922-3ugkxw4r\\files\\model-best\\assets\n"
     ]
    },
    {
     "name": "stderr",
     "output_type": "stream",
     "text": [
      "INFO:tensorflow:Assets written to: C:\\Users\\PARK\\Documents\\LAB\\RNN vs LSTM\\FInal Example\\wandb\\run-20221016_021922-3ugkxw4r\\files\\model-best\\assets\n",
      "\u001b[34m\u001b[1mwandb\u001b[0m: Adding directory to artifact (C:\\Users\\PARK\\Documents\\LAB\\RNN vs LSTM\\FInal Example\\wandb\\run-20221016_021922-3ugkxw4r\\files\\model-best)... Done. 0.1s\n"
     ]
    },
    {
     "name": "stdout",
     "output_type": "stream",
     "text": [
      "5/5 [==============================] - 4s 1s/step - loss: 0.0062 - mae: 0.0643 - val_loss: 0.0084 - val_mae: 0.0742\n",
      "Epoch 320/1000\n",
      "5/5 [==============================] - 1s 109ms/step - loss: 0.0062 - mae: 0.0639 - val_loss: 0.0087 - val_mae: 0.0752\n",
      "Epoch 321/1000\n",
      "5/5 [==============================] - 0s 76ms/step - loss: 0.0061 - mae: 0.0636 - val_loss: 0.0084 - val_mae: 0.0739\n",
      "Epoch 322/1000\n",
      "5/5 [==============================] - 0s 73ms/step - loss: 0.0059 - mae: 0.0631 - val_loss: 0.0085 - val_mae: 0.0743\n",
      "Epoch 323/1000\n",
      "5/5 [==============================] - 0s 72ms/step - loss: 0.0059 - mae: 0.0629 - val_loss: 0.0088 - val_mae: 0.0756\n",
      "Epoch 324/1000\n",
      "5/5 [==============================] - 0s 71ms/step - loss: 0.0060 - mae: 0.0630 - val_loss: 0.0089 - val_mae: 0.0760\n",
      "Epoch 325/1000\n",
      "5/5 [==============================] - 0s 73ms/step - loss: 0.0061 - mae: 0.0635 - val_loss: 0.0088 - val_mae: 0.0764\n",
      "Epoch 326/1000\n",
      "5/5 [==============================] - 0s 71ms/step - loss: 0.0061 - mae: 0.0634 - val_loss: 0.0089 - val_mae: 0.0761\n",
      "Epoch 327/1000\n",
      "5/5 [==============================] - 0s 71ms/step - loss: 0.0061 - mae: 0.0637 - val_loss: 0.0085 - val_mae: 0.0741\n",
      "Epoch 328/1000\n",
      "5/5 [==============================] - 0s 73ms/step - loss: 0.0060 - mae: 0.0628 - val_loss: 0.0085 - val_mae: 0.0744\n",
      "Epoch 329/1000\n",
      "1/5 [=====>........................] - ETA: 0s - loss: 0.0053 - mae: 0.0593"
     ]
    },
    {
     "name": "stderr",
     "output_type": "stream",
     "text": [
      "WARNING:absl:Found untraced functions such as lstm_cell_layer_call_fn, lstm_cell_layer_call_and_return_conditional_losses while saving (showing 2 of 2). These functions will not be directly callable after loading.\n"
     ]
    },
    {
     "name": "stdout",
     "output_type": "stream",
     "text": [
      "INFO:tensorflow:Assets written to: C:\\Users\\PARK\\Documents\\LAB\\RNN vs LSTM\\FInal Example\\wandb\\run-20221016_021922-3ugkxw4r\\files\\model-best\\assets\n"
     ]
    },
    {
     "name": "stderr",
     "output_type": "stream",
     "text": [
      "INFO:tensorflow:Assets written to: C:\\Users\\PARK\\Documents\\LAB\\RNN vs LSTM\\FInal Example\\wandb\\run-20221016_021922-3ugkxw4r\\files\\model-best\\assets\n",
      "\u001b[34m\u001b[1mwandb\u001b[0m: Adding directory to artifact (C:\\Users\\PARK\\Documents\\LAB\\RNN vs LSTM\\FInal Example\\wandb\\run-20221016_021922-3ugkxw4r\\files\\model-best)... Done. 0.1s\n"
     ]
    },
    {
     "name": "stdout",
     "output_type": "stream",
     "text": [
      "5/5 [==============================] - 4s 1s/step - loss: 0.0059 - mae: 0.0625 - val_loss: 0.0082 - val_mae: 0.0730\n",
      "Epoch 330/1000\n",
      "5/5 [==============================] - 1s 123ms/step - loss: 0.0062 - mae: 0.0646 - val_loss: 0.0086 - val_mae: 0.0758\n",
      "Epoch 331/1000\n",
      "5/5 [==============================] - 0s 98ms/step - loss: 0.0060 - mae: 0.0633 - val_loss: 0.0087 - val_mae: 0.0746\n",
      "Epoch 332/1000\n",
      "5/5 [==============================] - 0s 82ms/step - loss: 0.0059 - mae: 0.0626 - val_loss: 0.0086 - val_mae: 0.0749\n",
      "Epoch 333/1000\n",
      "5/5 [==============================] - 0s 72ms/step - loss: 0.0058 - mae: 0.0619 - val_loss: 0.0083 - val_mae: 0.0733\n",
      "Epoch 334/1000\n",
      "1/5 [=====>........................] - ETA: 0s - loss: 0.0063 - mae: 0.0649"
     ]
    },
    {
     "name": "stderr",
     "output_type": "stream",
     "text": [
      "WARNING:absl:Found untraced functions such as lstm_cell_layer_call_fn, lstm_cell_layer_call_and_return_conditional_losses while saving (showing 2 of 2). These functions will not be directly callable after loading.\n"
     ]
    },
    {
     "name": "stdout",
     "output_type": "stream",
     "text": [
      "INFO:tensorflow:Assets written to: C:\\Users\\PARK\\Documents\\LAB\\RNN vs LSTM\\FInal Example\\wandb\\run-20221016_021922-3ugkxw4r\\files\\model-best\\assets\n"
     ]
    },
    {
     "name": "stderr",
     "output_type": "stream",
     "text": [
      "INFO:tensorflow:Assets written to: C:\\Users\\PARK\\Documents\\LAB\\RNN vs LSTM\\FInal Example\\wandb\\run-20221016_021922-3ugkxw4r\\files\\model-best\\assets\n",
      "\u001b[34m\u001b[1mwandb\u001b[0m: Adding directory to artifact (C:\\Users\\PARK\\Documents\\LAB\\RNN vs LSTM\\FInal Example\\wandb\\run-20221016_021922-3ugkxw4r\\files\\model-best)... Done. 0.1s\n"
     ]
    },
    {
     "name": "stdout",
     "output_type": "stream",
     "text": [
      "5/5 [==============================] - 4s 1s/step - loss: 0.0058 - mae: 0.0621 - val_loss: 0.0082 - val_mae: 0.0732\n",
      "Epoch 335/1000\n",
      "5/5 [==============================] - 1s 115ms/step - loss: 0.0056 - mae: 0.0610 - val_loss: 0.0084 - val_mae: 0.0740\n",
      "Epoch 336/1000\n",
      "5/5 [==============================] - 0s 74ms/step - loss: 0.0058 - mae: 0.0620 - val_loss: 0.0082 - val_mae: 0.0729\n",
      "Epoch 337/1000\n",
      "5/5 [==============================] - 0s 74ms/step - loss: 0.0055 - mae: 0.0609 - val_loss: 0.0088 - val_mae: 0.0755\n",
      "Epoch 338/1000\n",
      "5/5 [==============================] - 0s 75ms/step - loss: 0.0057 - mae: 0.0615 - val_loss: 0.0089 - val_mae: 0.0745\n",
      "Epoch 339/1000\n",
      "5/5 [==============================] - 0s 73ms/step - loss: 0.0060 - mae: 0.0625 - val_loss: 0.0087 - val_mae: 0.0744\n",
      "Epoch 340/1000\n",
      "5/5 [==============================] - 0s 73ms/step - loss: 0.0057 - mae: 0.0609 - val_loss: 0.0084 - val_mae: 0.0736\n",
      "Epoch 341/1000\n",
      "5/5 [==============================] - 0s 74ms/step - loss: 0.0056 - mae: 0.0606 - val_loss: 0.0082 - val_mae: 0.0730\n",
      "Epoch 342/1000\n",
      "1/5 [=====>........................] - ETA: 0s - loss: 0.0051 - mae: 0.0587"
     ]
    },
    {
     "name": "stderr",
     "output_type": "stream",
     "text": [
      "WARNING:absl:Found untraced functions such as lstm_cell_layer_call_fn, lstm_cell_layer_call_and_return_conditional_losses while saving (showing 2 of 2). These functions will not be directly callable after loading.\n"
     ]
    },
    {
     "name": "stdout",
     "output_type": "stream",
     "text": [
      "INFO:tensorflow:Assets written to: C:\\Users\\PARK\\Documents\\LAB\\RNN vs LSTM\\FInal Example\\wandb\\run-20221016_021922-3ugkxw4r\\files\\model-best\\assets\n"
     ]
    },
    {
     "name": "stderr",
     "output_type": "stream",
     "text": [
      "INFO:tensorflow:Assets written to: C:\\Users\\PARK\\Documents\\LAB\\RNN vs LSTM\\FInal Example\\wandb\\run-20221016_021922-3ugkxw4r\\files\\model-best\\assets\n",
      "\u001b[34m\u001b[1mwandb\u001b[0m: Adding directory to artifact (C:\\Users\\PARK\\Documents\\LAB\\RNN vs LSTM\\FInal Example\\wandb\\run-20221016_021922-3ugkxw4r\\files\\model-best)... Done. 0.1s\n"
     ]
    },
    {
     "name": "stdout",
     "output_type": "stream",
     "text": [
      "5/5 [==============================] - 4s 1s/step - loss: 0.0054 - mae: 0.0600 - val_loss: 0.0082 - val_mae: 0.0734\n",
      "Epoch 343/1000\n",
      "5/5 [==============================] - ETA: 0s - loss: 0.0055 - mae: 0.0607"
     ]
    },
    {
     "name": "stderr",
     "output_type": "stream",
     "text": [
      "WARNING:absl:Found untraced functions such as lstm_cell_layer_call_fn, lstm_cell_layer_call_and_return_conditional_losses while saving (showing 2 of 2). These functions will not be directly callable after loading.\n"
     ]
    },
    {
     "name": "stdout",
     "output_type": "stream",
     "text": [
      "INFO:tensorflow:Assets written to: C:\\Users\\PARK\\Documents\\LAB\\RNN vs LSTM\\FInal Example\\wandb\\run-20221016_021922-3ugkxw4r\\files\\model-best\\assets\n"
     ]
    },
    {
     "name": "stderr",
     "output_type": "stream",
     "text": [
      "INFO:tensorflow:Assets written to: C:\\Users\\PARK\\Documents\\LAB\\RNN vs LSTM\\FInal Example\\wandb\\run-20221016_021922-3ugkxw4r\\files\\model-best\\assets\n",
      "\u001b[34m\u001b[1mwandb\u001b[0m: Adding directory to artifact (C:\\Users\\PARK\\Documents\\LAB\\RNN vs LSTM\\FInal Example\\wandb\\run-20221016_021922-3ugkxw4r\\files\\model-best)... Done. 0.1s\n"
     ]
    },
    {
     "name": "stdout",
     "output_type": "stream",
     "text": [
      "5/5 [==============================] - 4s 1s/step - loss: 0.0055 - mae: 0.0607 - val_loss: 0.0080 - val_mae: 0.0723\n",
      "Epoch 344/1000\n",
      "5/5 [==============================] - 1s 105ms/step - loss: 0.0055 - mae: 0.0601 - val_loss: 0.0083 - val_mae: 0.0727\n",
      "Epoch 345/1000\n",
      "5/5 [==============================] - 0s 75ms/step - loss: 0.0054 - mae: 0.0597 - val_loss: 0.0081 - val_mae: 0.0731\n",
      "Epoch 346/1000\n",
      "5/5 [==============================] - 0s 76ms/step - loss: 0.0055 - mae: 0.0603 - val_loss: 0.0080 - val_mae: 0.0714\n",
      "Epoch 347/1000\n",
      "5/5 [==============================] - 0s 74ms/step - loss: 0.0054 - mae: 0.0600 - val_loss: 0.0081 - val_mae: 0.0737\n",
      "Epoch 348/1000\n",
      "5/5 [==============================] - 0s 72ms/step - loss: 0.0052 - mae: 0.0591 - val_loss: 0.0082 - val_mae: 0.0734\n",
      "Epoch 349/1000\n",
      "5/5 [==============================] - 0s 76ms/step - loss: 0.0052 - mae: 0.0587 - val_loss: 0.0080 - val_mae: 0.0728\n",
      "Epoch 350/1000\n",
      "1/5 [=====>........................] - ETA: 0s - loss: 0.0052 - mae: 0.0587"
     ]
    },
    {
     "name": "stderr",
     "output_type": "stream",
     "text": [
      "WARNING:absl:Found untraced functions such as lstm_cell_layer_call_fn, lstm_cell_layer_call_and_return_conditional_losses while saving (showing 2 of 2). These functions will not be directly callable after loading.\n"
     ]
    },
    {
     "name": "stdout",
     "output_type": "stream",
     "text": [
      "INFO:tensorflow:Assets written to: C:\\Users\\PARK\\Documents\\LAB\\RNN vs LSTM\\FInal Example\\wandb\\run-20221016_021922-3ugkxw4r\\files\\model-best\\assets\n"
     ]
    },
    {
     "name": "stderr",
     "output_type": "stream",
     "text": [
      "INFO:tensorflow:Assets written to: C:\\Users\\PARK\\Documents\\LAB\\RNN vs LSTM\\FInal Example\\wandb\\run-20221016_021922-3ugkxw4r\\files\\model-best\\assets\n",
      "\u001b[34m\u001b[1mwandb\u001b[0m: Adding directory to artifact (C:\\Users\\PARK\\Documents\\LAB\\RNN vs LSTM\\FInal Example\\wandb\\run-20221016_021922-3ugkxw4r\\files\\model-best)... Done. 0.1s\n"
     ]
    },
    {
     "name": "stdout",
     "output_type": "stream",
     "text": [
      "5/5 [==============================] - 4s 1s/step - loss: 0.0052 - mae: 0.0591 - val_loss: 0.0079 - val_mae: 0.0719\n",
      "Epoch 351/1000\n",
      "5/5 [==============================] - 1s 115ms/step - loss: 0.0052 - mae: 0.0583 - val_loss: 0.0081 - val_mae: 0.0732\n",
      "Epoch 352/1000\n",
      "5/5 [==============================] - 0s 75ms/step - loss: 0.0052 - mae: 0.0590 - val_loss: 0.0080 - val_mae: 0.0723\n",
      "Epoch 353/1000\n",
      "5/5 [==============================] - ETA: 0s - loss: 0.0051 - mae: 0.0581"
     ]
    },
    {
     "name": "stderr",
     "output_type": "stream",
     "text": [
      "WARNING:absl:Found untraced functions such as lstm_cell_layer_call_fn, lstm_cell_layer_call_and_return_conditional_losses while saving (showing 2 of 2). These functions will not be directly callable after loading.\n"
     ]
    },
    {
     "name": "stdout",
     "output_type": "stream",
     "text": [
      "INFO:tensorflow:Assets written to: C:\\Users\\PARK\\Documents\\LAB\\RNN vs LSTM\\FInal Example\\wandb\\run-20221016_021922-3ugkxw4r\\files\\model-best\\assets\n"
     ]
    },
    {
     "name": "stderr",
     "output_type": "stream",
     "text": [
      "INFO:tensorflow:Assets written to: C:\\Users\\PARK\\Documents\\LAB\\RNN vs LSTM\\FInal Example\\wandb\\run-20221016_021922-3ugkxw4r\\files\\model-best\\assets\n",
      "\u001b[34m\u001b[1mwandb\u001b[0m: Adding directory to artifact (C:\\Users\\PARK\\Documents\\LAB\\RNN vs LSTM\\FInal Example\\wandb\\run-20221016_021922-3ugkxw4r\\files\\model-best)... Done. 0.1s\n"
     ]
    },
    {
     "name": "stdout",
     "output_type": "stream",
     "text": [
      "5/5 [==============================] - 4s 964ms/step - loss: 0.0051 - mae: 0.0581 - val_loss: 0.0079 - val_mae: 0.0714\n",
      "Epoch 354/1000\n",
      "4/5 [=======================>......] - ETA: 0s - loss: 0.0051 - mae: 0.0579"
     ]
    },
    {
     "name": "stderr",
     "output_type": "stream",
     "text": [
      "WARNING:absl:Found untraced functions such as lstm_cell_layer_call_fn, lstm_cell_layer_call_and_return_conditional_losses while saving (showing 2 of 2). These functions will not be directly callable after loading.\n"
     ]
    },
    {
     "name": "stdout",
     "output_type": "stream",
     "text": [
      "INFO:tensorflow:Assets written to: C:\\Users\\PARK\\Documents\\LAB\\RNN vs LSTM\\FInal Example\\wandb\\run-20221016_021922-3ugkxw4r\\files\\model-best\\assets\n"
     ]
    },
    {
     "name": "stderr",
     "output_type": "stream",
     "text": [
      "INFO:tensorflow:Assets written to: C:\\Users\\PARK\\Documents\\LAB\\RNN vs LSTM\\FInal Example\\wandb\\run-20221016_021922-3ugkxw4r\\files\\model-best\\assets\n",
      "\u001b[34m\u001b[1mwandb\u001b[0m: Adding directory to artifact (C:\\Users\\PARK\\Documents\\LAB\\RNN vs LSTM\\FInal Example\\wandb\\run-20221016_021922-3ugkxw4r\\files\\model-best)... Done. 0.1s\n"
     ]
    },
    {
     "name": "stdout",
     "output_type": "stream",
     "text": [
      "5/5 [==============================] - 4s 1s/step - loss: 0.0051 - mae: 0.0582 - val_loss: 0.0078 - val_mae: 0.0714\n",
      "Epoch 355/1000\n",
      "5/5 [==============================] - 1s 122ms/step - loss: 0.0051 - mae: 0.0581 - val_loss: 0.0080 - val_mae: 0.0720\n",
      "Epoch 356/1000\n",
      "5/5 [==============================] - 0s 75ms/step - loss: 0.0050 - mae: 0.0580 - val_loss: 0.0081 - val_mae: 0.0725\n",
      "Epoch 357/1000\n",
      "5/5 [==============================] - 0s 73ms/step - loss: 0.0051 - mae: 0.0582 - val_loss: 0.0082 - val_mae: 0.0732\n",
      "Epoch 358/1000\n",
      "5/5 [==============================] - 0s 71ms/step - loss: 0.0050 - mae: 0.0575 - val_loss: 0.0082 - val_mae: 0.0723\n",
      "Epoch 359/1000\n",
      "5/5 [==============================] - 0s 71ms/step - loss: 0.0052 - mae: 0.0580 - val_loss: 0.0087 - val_mae: 0.0749\n",
      "Epoch 360/1000\n",
      "5/5 [==============================] - 0s 74ms/step - loss: 0.0054 - mae: 0.0591 - val_loss: 0.0088 - val_mae: 0.0747\n",
      "Epoch 361/1000\n",
      "5/5 [==============================] - 0s 73ms/step - loss: 0.0055 - mae: 0.0593 - val_loss: 0.0090 - val_mae: 0.0756\n",
      "Epoch 362/1000\n",
      "5/5 [==============================] - 0s 72ms/step - loss: 0.0052 - mae: 0.0587 - val_loss: 0.0092 - val_mae: 0.0756\n",
      "Epoch 363/1000\n",
      "5/5 [==============================] - 0s 76ms/step - loss: 0.0056 - mae: 0.0594 - val_loss: 0.0089 - val_mae: 0.0753\n",
      "Epoch 364/1000\n",
      "5/5 [==============================] - 0s 73ms/step - loss: 0.0052 - mae: 0.0587 - val_loss: 0.0089 - val_mae: 0.0748\n",
      "Epoch 365/1000\n",
      "5/5 [==============================] - 0s 72ms/step - loss: 0.0052 - mae: 0.0582 - val_loss: 0.0080 - val_mae: 0.0718\n",
      "Epoch 366/1000\n",
      "5/5 [==============================] - 0s 75ms/step - loss: 0.0051 - mae: 0.0579 - val_loss: 0.0079 - val_mae: 0.0713\n",
      "Epoch 367/1000\n",
      "5/5 [==============================] - 0s 72ms/step - loss: 0.0052 - mae: 0.0583 - val_loss: 0.0079 - val_mae: 0.0703\n",
      "Epoch 368/1000\n",
      "5/5 [==============================] - 0s 72ms/step - loss: 0.0049 - mae: 0.0564 - val_loss: 0.0080 - val_mae: 0.0719\n",
      "Epoch 369/1000\n",
      "5/5 [==============================] - 0s 70ms/step - loss: 0.0050 - mae: 0.0570 - val_loss: 0.0079 - val_mae: 0.0713\n",
      "Epoch 370/1000\n",
      "5/5 [==============================] - ETA: 0s - loss: 0.0047 - mae: 0.0559"
     ]
    },
    {
     "name": "stderr",
     "output_type": "stream",
     "text": [
      "WARNING:absl:Found untraced functions such as lstm_cell_layer_call_fn, lstm_cell_layer_call_and_return_conditional_losses while saving (showing 2 of 2). These functions will not be directly callable after loading.\n"
     ]
    },
    {
     "name": "stdout",
     "output_type": "stream",
     "text": [
      "INFO:tensorflow:Assets written to: C:\\Users\\PARK\\Documents\\LAB\\RNN vs LSTM\\FInal Example\\wandb\\run-20221016_021922-3ugkxw4r\\files\\model-best\\assets\n"
     ]
    },
    {
     "name": "stderr",
     "output_type": "stream",
     "text": [
      "INFO:tensorflow:Assets written to: C:\\Users\\PARK\\Documents\\LAB\\RNN vs LSTM\\FInal Example\\wandb\\run-20221016_021922-3ugkxw4r\\files\\model-best\\assets\n",
      "\u001b[34m\u001b[1mwandb\u001b[0m: Adding directory to artifact (C:\\Users\\PARK\\Documents\\LAB\\RNN vs LSTM\\FInal Example\\wandb\\run-20221016_021922-3ugkxw4r\\files\\model-best)... Done. 0.1s\n"
     ]
    },
    {
     "name": "stdout",
     "output_type": "stream",
     "text": [
      "5/5 [==============================] - 4s 1s/step - loss: 0.0047 - mae: 0.0559 - val_loss: 0.0078 - val_mae: 0.0708\n",
      "Epoch 371/1000\n",
      "5/5 [==============================] - ETA: 0s - loss: 0.0048 - mae: 0.0559"
     ]
    },
    {
     "name": "stderr",
     "output_type": "stream",
     "text": [
      "WARNING:absl:Found untraced functions such as lstm_cell_layer_call_fn, lstm_cell_layer_call_and_return_conditional_losses while saving (showing 2 of 2). These functions will not be directly callable after loading.\n"
     ]
    },
    {
     "name": "stdout",
     "output_type": "stream",
     "text": [
      "INFO:tensorflow:Assets written to: C:\\Users\\PARK\\Documents\\LAB\\RNN vs LSTM\\FInal Example\\wandb\\run-20221016_021922-3ugkxw4r\\files\\model-best\\assets\n"
     ]
    },
    {
     "name": "stderr",
     "output_type": "stream",
     "text": [
      "INFO:tensorflow:Assets written to: C:\\Users\\PARK\\Documents\\LAB\\RNN vs LSTM\\FInal Example\\wandb\\run-20221016_021922-3ugkxw4r\\files\\model-best\\assets\n",
      "\u001b[34m\u001b[1mwandb\u001b[0m: Adding directory to artifact (C:\\Users\\PARK\\Documents\\LAB\\RNN vs LSTM\\FInal Example\\wandb\\run-20221016_021922-3ugkxw4r\\files\\model-best)... Done. 0.1s\n"
     ]
    },
    {
     "name": "stdout",
     "output_type": "stream",
     "text": [
      "5/5 [==============================] - 4s 1s/step - loss: 0.0048 - mae: 0.0559 - val_loss: 0.0076 - val_mae: 0.0705\n",
      "Epoch 372/1000\n",
      "5/5 [==============================] - 1s 72ms/step - loss: 0.0046 - mae: 0.0551 - val_loss: 0.0079 - val_mae: 0.0711\n",
      "Epoch 373/1000\n",
      "5/5 [==============================] - 0s 71ms/step - loss: 0.0046 - mae: 0.0550 - val_loss: 0.0081 - val_mae: 0.0716\n",
      "Epoch 374/1000\n",
      "5/5 [==============================] - 0s 71ms/step - loss: 0.0045 - mae: 0.0543 - val_loss: 0.0078 - val_mae: 0.0711\n",
      "Epoch 375/1000\n",
      "1/5 [=====>........................] - ETA: 0s - loss: 0.0051 - mae: 0.0568"
     ]
    },
    {
     "name": "stderr",
     "output_type": "stream",
     "text": [
      "WARNING:absl:Found untraced functions such as lstm_cell_layer_call_fn, lstm_cell_layer_call_and_return_conditional_losses while saving (showing 2 of 2). These functions will not be directly callable after loading.\n"
     ]
    },
    {
     "name": "stdout",
     "output_type": "stream",
     "text": [
      "INFO:tensorflow:Assets written to: C:\\Users\\PARK\\Documents\\LAB\\RNN vs LSTM\\FInal Example\\wandb\\run-20221016_021922-3ugkxw4r\\files\\model-best\\assets\n"
     ]
    },
    {
     "name": "stderr",
     "output_type": "stream",
     "text": [
      "INFO:tensorflow:Assets written to: C:\\Users\\PARK\\Documents\\LAB\\RNN vs LSTM\\FInal Example\\wandb\\run-20221016_021922-3ugkxw4r\\files\\model-best\\assets\n",
      "\u001b[34m\u001b[1mwandb\u001b[0m: Adding directory to artifact (C:\\Users\\PARK\\Documents\\LAB\\RNN vs LSTM\\FInal Example\\wandb\\run-20221016_021922-3ugkxw4r\\files\\model-best)... Done. 0.1s\n"
     ]
    },
    {
     "name": "stdout",
     "output_type": "stream",
     "text": [
      "5/5 [==============================] - 4s 1s/step - loss: 0.0047 - mae: 0.0553 - val_loss: 0.0075 - val_mae: 0.0691\n",
      "Epoch 376/1000\n",
      "5/5 [==============================] - 1s 130ms/step - loss: 0.0045 - mae: 0.0545 - val_loss: 0.0079 - val_mae: 0.0704\n",
      "Epoch 377/1000\n",
      "5/5 [==============================] - 0s 92ms/step - loss: 0.0044 - mae: 0.0535 - val_loss: 0.0077 - val_mae: 0.0699\n",
      "Epoch 378/1000\n",
      "4/5 [=======================>......] - ETA: 0s - loss: 0.0043 - mae: 0.0530"
     ]
    },
    {
     "name": "stderr",
     "output_type": "stream",
     "text": [
      "WARNING:absl:Found untraced functions such as lstm_cell_layer_call_fn, lstm_cell_layer_call_and_return_conditional_losses while saving (showing 2 of 2). These functions will not be directly callable after loading.\n"
     ]
    },
    {
     "name": "stdout",
     "output_type": "stream",
     "text": [
      "INFO:tensorflow:Assets written to: C:\\Users\\PARK\\Documents\\LAB\\RNN vs LSTM\\FInal Example\\wandb\\run-20221016_021922-3ugkxw4r\\files\\model-best\\assets\n"
     ]
    },
    {
     "name": "stderr",
     "output_type": "stream",
     "text": [
      "INFO:tensorflow:Assets written to: C:\\Users\\PARK\\Documents\\LAB\\RNN vs LSTM\\FInal Example\\wandb\\run-20221016_021922-3ugkxw4r\\files\\model-best\\assets\n",
      "\u001b[34m\u001b[1mwandb\u001b[0m: Adding directory to artifact (C:\\Users\\PARK\\Documents\\LAB\\RNN vs LSTM\\FInal Example\\wandb\\run-20221016_021922-3ugkxw4r\\files\\model-best)... Done. 0.1s\n"
     ]
    },
    {
     "name": "stdout",
     "output_type": "stream",
     "text": [
      "5/5 [==============================] - 4s 1s/step - loss: 0.0044 - mae: 0.0531 - val_loss: 0.0073 - val_mae: 0.0692\n",
      "Epoch 379/1000\n",
      "4/5 [=======================>......] - ETA: 0s - loss: 0.0043 - mae: 0.0528"
     ]
    },
    {
     "name": "stderr",
     "output_type": "stream",
     "text": [
      "WARNING:absl:Found untraced functions such as lstm_cell_layer_call_fn, lstm_cell_layer_call_and_return_conditional_losses while saving (showing 2 of 2). These functions will not be directly callable after loading.\n"
     ]
    },
    {
     "name": "stdout",
     "output_type": "stream",
     "text": [
      "INFO:tensorflow:Assets written to: C:\\Users\\PARK\\Documents\\LAB\\RNN vs LSTM\\FInal Example\\wandb\\run-20221016_021922-3ugkxw4r\\files\\model-best\\assets\n"
     ]
    },
    {
     "name": "stderr",
     "output_type": "stream",
     "text": [
      "INFO:tensorflow:Assets written to: C:\\Users\\PARK\\Documents\\LAB\\RNN vs LSTM\\FInal Example\\wandb\\run-20221016_021922-3ugkxw4r\\files\\model-best\\assets\n",
      "\u001b[34m\u001b[1mwandb\u001b[0m: Adding directory to artifact (C:\\Users\\PARK\\Documents\\LAB\\RNN vs LSTM\\FInal Example\\wandb\\run-20221016_021922-3ugkxw4r\\files\\model-best)... Done. 0.1s\n"
     ]
    },
    {
     "name": "stdout",
     "output_type": "stream",
     "text": [
      "5/5 [==============================] - 4s 1s/step - loss: 0.0043 - mae: 0.0533 - val_loss: 0.0073 - val_mae: 0.0687\n",
      "Epoch 380/1000\n",
      "5/5 [==============================] - 1s 102ms/step - loss: 0.0042 - mae: 0.0525 - val_loss: 0.0080 - val_mae: 0.0713\n",
      "Epoch 381/1000\n",
      "5/5 [==============================] - 0s 72ms/step - loss: 0.0043 - mae: 0.0526 - val_loss: 0.0077 - val_mae: 0.0697\n",
      "Epoch 382/1000\n",
      "5/5 [==============================] - 0s 72ms/step - loss: 0.0042 - mae: 0.0526 - val_loss: 0.0079 - val_mae: 0.0710\n",
      "Epoch 383/1000\n",
      "5/5 [==============================] - 0s 75ms/step - loss: 0.0041 - mae: 0.0520 - val_loss: 0.0077 - val_mae: 0.0701\n",
      "Epoch 384/1000\n",
      "5/5 [==============================] - 0s 72ms/step - loss: 0.0040 - mae: 0.0513 - val_loss: 0.0075 - val_mae: 0.0696\n",
      "Epoch 385/1000\n",
      "5/5 [==============================] - 0s 70ms/step - loss: 0.0042 - mae: 0.0520 - val_loss: 0.0073 - val_mae: 0.0682\n",
      "Epoch 386/1000\n",
      "5/5 [==============================] - 0s 73ms/step - loss: 0.0041 - mae: 0.0517 - val_loss: 0.0073 - val_mae: 0.0684\n",
      "Epoch 387/1000\n",
      "5/5 [==============================] - 0s 71ms/step - loss: 0.0040 - mae: 0.0505 - val_loss: 0.0074 - val_mae: 0.0692\n",
      "Epoch 388/1000\n",
      "1/5 [=====>........................] - ETA: 0s - loss: 0.0037 - mae: 0.0493"
     ]
    },
    {
     "name": "stderr",
     "output_type": "stream",
     "text": [
      "WARNING:absl:Found untraced functions such as lstm_cell_layer_call_fn, lstm_cell_layer_call_and_return_conditional_losses while saving (showing 2 of 2). These functions will not be directly callable after loading.\n"
     ]
    },
    {
     "name": "stdout",
     "output_type": "stream",
     "text": [
      "INFO:tensorflow:Assets written to: C:\\Users\\PARK\\Documents\\LAB\\RNN vs LSTM\\FInal Example\\wandb\\run-20221016_021922-3ugkxw4r\\files\\model-best\\assets\n"
     ]
    },
    {
     "name": "stderr",
     "output_type": "stream",
     "text": [
      "INFO:tensorflow:Assets written to: C:\\Users\\PARK\\Documents\\LAB\\RNN vs LSTM\\FInal Example\\wandb\\run-20221016_021922-3ugkxw4r\\files\\model-best\\assets\n",
      "\u001b[34m\u001b[1mwandb\u001b[0m: Adding directory to artifact (C:\\Users\\PARK\\Documents\\LAB\\RNN vs LSTM\\FInal Example\\wandb\\run-20221016_021922-3ugkxw4r\\files\\model-best)... Done. 0.1s\n"
     ]
    },
    {
     "name": "stdout",
     "output_type": "stream",
     "text": [
      "5/5 [==============================] - 4s 1s/step - loss: 0.0040 - mae: 0.0512 - val_loss: 0.0072 - val_mae: 0.0682\n",
      "Epoch 389/1000\n",
      "5/5 [==============================] - 1s 119ms/step - loss: 0.0040 - mae: 0.0508 - val_loss: 0.0079 - val_mae: 0.0700\n",
      "Epoch 390/1000\n",
      "5/5 [==============================] - 0s 74ms/step - loss: 0.0041 - mae: 0.0510 - val_loss: 0.0075 - val_mae: 0.0688\n",
      "Epoch 391/1000\n",
      "5/5 [==============================] - 0s 76ms/step - loss: 0.0039 - mae: 0.0504 - val_loss: 0.0074 - val_mae: 0.0681\n",
      "Epoch 392/1000\n",
      "5/5 [==============================] - 0s 74ms/step - loss: 0.0039 - mae: 0.0504 - val_loss: 0.0075 - val_mae: 0.0691\n",
      "Epoch 393/1000\n",
      "5/5 [==============================] - 0s 72ms/step - loss: 0.0039 - mae: 0.0498 - val_loss: 0.0076 - val_mae: 0.0701\n",
      "Epoch 394/1000\n",
      "5/5 [==============================] - 0s 72ms/step - loss: 0.0040 - mae: 0.0507 - val_loss: 0.0075 - val_mae: 0.0695\n",
      "Epoch 395/1000\n",
      "5/5 [==============================] - 0s 71ms/step - loss: 0.0039 - mae: 0.0501 - val_loss: 0.0075 - val_mae: 0.0687\n",
      "Epoch 396/1000\n",
      "5/5 [==============================] - 0s 73ms/step - loss: 0.0040 - mae: 0.0505 - val_loss: 0.0084 - val_mae: 0.0725\n",
      "Epoch 397/1000\n",
      "5/5 [==============================] - 0s 73ms/step - loss: 0.0040 - mae: 0.0507 - val_loss: 0.0081 - val_mae: 0.0719\n",
      "Epoch 398/1000\n",
      "5/5 [==============================] - 0s 72ms/step - loss: 0.0042 - mae: 0.0516 - val_loss: 0.0073 - val_mae: 0.0678\n",
      "Epoch 399/1000\n",
      "5/5 [==============================] - 0s 76ms/step - loss: 0.0040 - mae: 0.0508 - val_loss: 0.0074 - val_mae: 0.0684\n",
      "Epoch 400/1000\n",
      "1/5 [=====>........................] - ETA: 0s - loss: 0.0037 - mae: 0.0494"
     ]
    },
    {
     "name": "stderr",
     "output_type": "stream",
     "text": [
      "WARNING:absl:Found untraced functions such as lstm_cell_layer_call_fn, lstm_cell_layer_call_and_return_conditional_losses while saving (showing 2 of 2). These functions will not be directly callable after loading.\n"
     ]
    },
    {
     "name": "stdout",
     "output_type": "stream",
     "text": [
      "INFO:tensorflow:Assets written to: C:\\Users\\PARK\\Documents\\LAB\\RNN vs LSTM\\FInal Example\\wandb\\run-20221016_021922-3ugkxw4r\\files\\model-best\\assets\n"
     ]
    },
    {
     "name": "stderr",
     "output_type": "stream",
     "text": [
      "INFO:tensorflow:Assets written to: C:\\Users\\PARK\\Documents\\LAB\\RNN vs LSTM\\FInal Example\\wandb\\run-20221016_021922-3ugkxw4r\\files\\model-best\\assets\n",
      "\u001b[34m\u001b[1mwandb\u001b[0m: Adding directory to artifact (C:\\Users\\PARK\\Documents\\LAB\\RNN vs LSTM\\FInal Example\\wandb\\run-20221016_021922-3ugkxw4r\\files\\model-best)... Done. 0.1s\n"
     ]
    },
    {
     "name": "stdout",
     "output_type": "stream",
     "text": [
      "5/5 [==============================] - 4s 1s/step - loss: 0.0039 - mae: 0.0498 - val_loss: 0.0072 - val_mae: 0.0685\n",
      "Epoch 401/1000\n",
      "5/5 [==============================] - 1s 116ms/step - loss: 0.0037 - mae: 0.0493 - val_loss: 0.0073 - val_mae: 0.0678\n",
      "Epoch 402/1000\n",
      "1/5 [=====>........................] - ETA: 0s - loss: 0.0036 - mae: 0.0484"
     ]
    },
    {
     "name": "stderr",
     "output_type": "stream",
     "text": [
      "WARNING:absl:Found untraced functions such as lstm_cell_layer_call_fn, lstm_cell_layer_call_and_return_conditional_losses while saving (showing 2 of 2). These functions will not be directly callable after loading.\n"
     ]
    },
    {
     "name": "stdout",
     "output_type": "stream",
     "text": [
      "INFO:tensorflow:Assets written to: C:\\Users\\PARK\\Documents\\LAB\\RNN vs LSTM\\FInal Example\\wandb\\run-20221016_021922-3ugkxw4r\\files\\model-best\\assets\n"
     ]
    },
    {
     "name": "stderr",
     "output_type": "stream",
     "text": [
      "INFO:tensorflow:Assets written to: C:\\Users\\PARK\\Documents\\LAB\\RNN vs LSTM\\FInal Example\\wandb\\run-20221016_021922-3ugkxw4r\\files\\model-best\\assets\n",
      "\u001b[34m\u001b[1mwandb\u001b[0m: Adding directory to artifact (C:\\Users\\PARK\\Documents\\LAB\\RNN vs LSTM\\FInal Example\\wandb\\run-20221016_021922-3ugkxw4r\\files\\model-best)... Done. 0.1s\n"
     ]
    },
    {
     "name": "stdout",
     "output_type": "stream",
     "text": [
      "5/5 [==============================] - 4s 1s/step - loss: 0.0035 - mae: 0.0477 - val_loss: 0.0070 - val_mae: 0.0673\n",
      "Epoch 403/1000\n",
      "5/5 [==============================] - 0s 104ms/step - loss: 0.0036 - mae: 0.0478 - val_loss: 0.0071 - val_mae: 0.0664\n",
      "Epoch 404/1000\n",
      "5/5 [==============================] - 0s 78ms/step - loss: 0.0035 - mae: 0.0476 - val_loss: 0.0077 - val_mae: 0.0698\n",
      "Epoch 405/1000\n",
      "5/5 [==============================] - 0s 73ms/step - loss: 0.0035 - mae: 0.0474 - val_loss: 0.0071 - val_mae: 0.0672\n",
      "Epoch 406/1000\n",
      "5/5 [==============================] - 0s 73ms/step - loss: 0.0035 - mae: 0.0475 - val_loss: 0.0071 - val_mae: 0.0670\n",
      "Epoch 407/1000\n",
      "5/5 [==============================] - 0s 72ms/step - loss: 0.0034 - mae: 0.0465 - val_loss: 0.0075 - val_mae: 0.0683\n",
      "Epoch 408/1000\n",
      "5/5 [==============================] - 0s 72ms/step - loss: 0.0034 - mae: 0.0465 - val_loss: 0.0072 - val_mae: 0.0676\n",
      "Epoch 409/1000\n",
      "5/5 [==============================] - 0s 74ms/step - loss: 0.0035 - mae: 0.0474 - val_loss: 0.0071 - val_mae: 0.0679\n",
      "Epoch 410/1000\n",
      "5/5 [==============================] - 0s 71ms/step - loss: 0.0035 - mae: 0.0476 - val_loss: 0.0073 - val_mae: 0.0682\n",
      "Epoch 411/1000\n",
      "5/5 [==============================] - 0s 72ms/step - loss: 0.0036 - mae: 0.0482 - val_loss: 0.0078 - val_mae: 0.0694\n",
      "Epoch 412/1000\n",
      "5/5 [==============================] - 0s 72ms/step - loss: 0.0040 - mae: 0.0502 - val_loss: 0.0077 - val_mae: 0.0703\n",
      "Epoch 413/1000\n",
      "5/5 [==============================] - 0s 72ms/step - loss: 0.0036 - mae: 0.0476 - val_loss: 0.0075 - val_mae: 0.0683\n",
      "Epoch 414/1000\n",
      "5/5 [==============================] - 0s 71ms/step - loss: 0.0035 - mae: 0.0469 - val_loss: 0.0072 - val_mae: 0.0682\n",
      "Epoch 415/1000\n",
      "5/5 [==============================] - 0s 71ms/step - loss: 0.0033 - mae: 0.0462 - val_loss: 0.0073 - val_mae: 0.0674\n",
      "Epoch 416/1000\n",
      "1/5 [=====>........................] - ETA: 0s - loss: 0.0034 - mae: 0.0459"
     ]
    },
    {
     "name": "stderr",
     "output_type": "stream",
     "text": [
      "WARNING:absl:Found untraced functions such as lstm_cell_layer_call_fn, lstm_cell_layer_call_and_return_conditional_losses while saving (showing 2 of 2). These functions will not be directly callable after loading.\n"
     ]
    },
    {
     "name": "stdout",
     "output_type": "stream",
     "text": [
      "INFO:tensorflow:Assets written to: C:\\Users\\PARK\\Documents\\LAB\\RNN vs LSTM\\FInal Example\\wandb\\run-20221016_021922-3ugkxw4r\\files\\model-best\\assets\n"
     ]
    },
    {
     "name": "stderr",
     "output_type": "stream",
     "text": [
      "INFO:tensorflow:Assets written to: C:\\Users\\PARK\\Documents\\LAB\\RNN vs LSTM\\FInal Example\\wandb\\run-20221016_021922-3ugkxw4r\\files\\model-best\\assets\n",
      "\u001b[34m\u001b[1mwandb\u001b[0m: Adding directory to artifact (C:\\Users\\PARK\\Documents\\LAB\\RNN vs LSTM\\FInal Example\\wandb\\run-20221016_021922-3ugkxw4r\\files\\model-best)... Done. 0.1s\n"
     ]
    },
    {
     "name": "stdout",
     "output_type": "stream",
     "text": [
      "5/5 [==============================] - 4s 1s/step - loss: 0.0032 - mae: 0.0453 - val_loss: 0.0068 - val_mae: 0.0657\n",
      "Epoch 417/1000\n",
      "4/5 [=======================>......] - ETA: 0s - loss: 0.0030 - mae: 0.0438"
     ]
    },
    {
     "name": "stderr",
     "output_type": "stream",
     "text": [
      "WARNING:absl:Found untraced functions such as lstm_cell_layer_call_fn, lstm_cell_layer_call_and_return_conditional_losses while saving (showing 2 of 2). These functions will not be directly callable after loading.\n"
     ]
    },
    {
     "name": "stdout",
     "output_type": "stream",
     "text": [
      "INFO:tensorflow:Assets written to: C:\\Users\\PARK\\Documents\\LAB\\RNN vs LSTM\\FInal Example\\wandb\\run-20221016_021922-3ugkxw4r\\files\\model-best\\assets\n"
     ]
    },
    {
     "name": "stderr",
     "output_type": "stream",
     "text": [
      "INFO:tensorflow:Assets written to: C:\\Users\\PARK\\Documents\\LAB\\RNN vs LSTM\\FInal Example\\wandb\\run-20221016_021922-3ugkxw4r\\files\\model-best\\assets\n",
      "\u001b[34m\u001b[1mwandb\u001b[0m: Adding directory to artifact (C:\\Users\\PARK\\Documents\\LAB\\RNN vs LSTM\\FInal Example\\wandb\\run-20221016_021922-3ugkxw4r\\files\\model-best)... Done. 0.1s\n"
     ]
    },
    {
     "name": "stdout",
     "output_type": "stream",
     "text": [
      "5/5 [==============================] - 4s 1s/step - loss: 0.0031 - mae: 0.0442 - val_loss: 0.0067 - val_mae: 0.0656\n",
      "Epoch 418/1000\n",
      "5/5 [==============================] - 1s 106ms/step - loss: 0.0031 - mae: 0.0438 - val_loss: 0.0070 - val_mae: 0.0660\n",
      "Epoch 419/1000\n",
      "5/5 [==============================] - 0s 77ms/step - loss: 0.0030 - mae: 0.0436 - val_loss: 0.0068 - val_mae: 0.0656\n",
      "Epoch 420/1000\n",
      "5/5 [==============================] - 0s 74ms/step - loss: 0.0029 - mae: 0.0429 - val_loss: 0.0068 - val_mae: 0.0655\n",
      "Epoch 421/1000\n",
      "5/5 [==============================] - 0s 73ms/step - loss: 0.0029 - mae: 0.0429 - val_loss: 0.0069 - val_mae: 0.0654\n",
      "Epoch 422/1000\n",
      "5/5 [==============================] - 0s 74ms/step - loss: 0.0029 - mae: 0.0424 - val_loss: 0.0070 - val_mae: 0.0662\n",
      "Epoch 423/1000\n",
      "5/5 [==============================] - 0s 75ms/step - loss: 0.0029 - mae: 0.0429 - val_loss: 0.0071 - val_mae: 0.0662\n",
      "Epoch 424/1000\n",
      "1/5 [=====>........................] - ETA: 0s - loss: 0.0031 - mae: 0.0442"
     ]
    },
    {
     "name": "stderr",
     "output_type": "stream",
     "text": [
      "WARNING:absl:Found untraced functions such as lstm_cell_layer_call_fn, lstm_cell_layer_call_and_return_conditional_losses while saving (showing 2 of 2). These functions will not be directly callable after loading.\n"
     ]
    },
    {
     "name": "stdout",
     "output_type": "stream",
     "text": [
      "INFO:tensorflow:Assets written to: C:\\Users\\PARK\\Documents\\LAB\\RNN vs LSTM\\FInal Example\\wandb\\run-20221016_021922-3ugkxw4r\\files\\model-best\\assets\n"
     ]
    },
    {
     "name": "stderr",
     "output_type": "stream",
     "text": [
      "INFO:tensorflow:Assets written to: C:\\Users\\PARK\\Documents\\LAB\\RNN vs LSTM\\FInal Example\\wandb\\run-20221016_021922-3ugkxw4r\\files\\model-best\\assets\n",
      "\u001b[34m\u001b[1mwandb\u001b[0m: Adding directory to artifact (C:\\Users\\PARK\\Documents\\LAB\\RNN vs LSTM\\FInal Example\\wandb\\run-20221016_021922-3ugkxw4r\\files\\model-best)... Done. 0.1s\n"
     ]
    },
    {
     "name": "stdout",
     "output_type": "stream",
     "text": [
      "5/5 [==============================] - 4s 1s/step - loss: 0.0028 - mae: 0.0422 - val_loss: 0.0066 - val_mae: 0.0648\n",
      "Epoch 425/1000\n",
      "5/5 [==============================] - 1s 132ms/step - loss: 0.0028 - mae: 0.0421 - val_loss: 0.0070 - val_mae: 0.0660\n",
      "Epoch 426/1000\n",
      "5/5 [==============================] - 0s 95ms/step - loss: 0.0027 - mae: 0.0414 - val_loss: 0.0070 - val_mae: 0.0664\n",
      "Epoch 427/1000\n",
      "5/5 [==============================] - 0s 82ms/step - loss: 0.0028 - mae: 0.0415 - val_loss: 0.0066 - val_mae: 0.0651\n",
      "Epoch 428/1000\n",
      "5/5 [==============================] - 0s 72ms/step - loss: 0.0027 - mae: 0.0406 - val_loss: 0.0067 - val_mae: 0.0654\n",
      "Epoch 429/1000\n",
      "5/5 [==============================] - 0s 73ms/step - loss: 0.0028 - mae: 0.0421 - val_loss: 0.0077 - val_mae: 0.0691\n",
      "Epoch 430/1000\n",
      "5/5 [==============================] - 0s 73ms/step - loss: 0.0031 - mae: 0.0437 - val_loss: 0.0072 - val_mae: 0.0672\n",
      "Epoch 431/1000\n",
      "5/5 [==============================] - 0s 71ms/step - loss: 0.0032 - mae: 0.0441 - val_loss: 0.0078 - val_mae: 0.0700\n",
      "Epoch 432/1000\n",
      "5/5 [==============================] - 0s 75ms/step - loss: 0.0036 - mae: 0.0470 - val_loss: 0.0072 - val_mae: 0.0674\n",
      "Epoch 433/1000\n",
      "5/5 [==============================] - 0s 73ms/step - loss: 0.0033 - mae: 0.0453 - val_loss: 0.0070 - val_mae: 0.0674\n",
      "Epoch 434/1000\n",
      "5/5 [==============================] - 0s 72ms/step - loss: 0.0029 - mae: 0.0432 - val_loss: 0.0066 - val_mae: 0.0642\n",
      "Epoch 435/1000\n",
      "5/5 [==============================] - 0s 76ms/step - loss: 0.0027 - mae: 0.0409 - val_loss: 0.0066 - val_mae: 0.0639\n",
      "Epoch 436/1000\n",
      "1/5 [=====>........................] - ETA: 0s - loss: 0.0023 - mae: 0.0382"
     ]
    },
    {
     "name": "stderr",
     "output_type": "stream",
     "text": [
      "WARNING:absl:Found untraced functions such as lstm_cell_layer_call_fn, lstm_cell_layer_call_and_return_conditional_losses while saving (showing 2 of 2). These functions will not be directly callable after loading.\n"
     ]
    },
    {
     "name": "stdout",
     "output_type": "stream",
     "text": [
      "INFO:tensorflow:Assets written to: C:\\Users\\PARK\\Documents\\LAB\\RNN vs LSTM\\FInal Example\\wandb\\run-20221016_021922-3ugkxw4r\\files\\model-best\\assets\n"
     ]
    },
    {
     "name": "stderr",
     "output_type": "stream",
     "text": [
      "INFO:tensorflow:Assets written to: C:\\Users\\PARK\\Documents\\LAB\\RNN vs LSTM\\FInal Example\\wandb\\run-20221016_021922-3ugkxw4r\\files\\model-best\\assets\n",
      "\u001b[34m\u001b[1mwandb\u001b[0m: Adding directory to artifact (C:\\Users\\PARK\\Documents\\LAB\\RNN vs LSTM\\FInal Example\\wandb\\run-20221016_021922-3ugkxw4r\\files\\model-best)... Done. 0.1s\n"
     ]
    },
    {
     "name": "stdout",
     "output_type": "stream",
     "text": [
      "5/5 [==============================] - 4s 1s/step - loss: 0.0026 - mae: 0.0399 - val_loss: 0.0065 - val_mae: 0.0638\n",
      "Epoch 437/1000\n",
      "3/5 [=================>............] - ETA: 0s - loss: 0.0024 - mae: 0.0392"
     ]
    },
    {
     "name": "stderr",
     "output_type": "stream",
     "text": [
      "WARNING:absl:Found untraced functions such as lstm_cell_layer_call_fn, lstm_cell_layer_call_and_return_conditional_losses while saving (showing 2 of 2). These functions will not be directly callable after loading.\n"
     ]
    },
    {
     "name": "stdout",
     "output_type": "stream",
     "text": [
      "INFO:tensorflow:Assets written to: C:\\Users\\PARK\\Documents\\LAB\\RNN vs LSTM\\FInal Example\\wandb\\run-20221016_021922-3ugkxw4r\\files\\model-best\\assets\n"
     ]
    },
    {
     "name": "stderr",
     "output_type": "stream",
     "text": [
      "INFO:tensorflow:Assets written to: C:\\Users\\PARK\\Documents\\LAB\\RNN vs LSTM\\FInal Example\\wandb\\run-20221016_021922-3ugkxw4r\\files\\model-best\\assets\n",
      "\u001b[34m\u001b[1mwandb\u001b[0m: Adding directory to artifact (C:\\Users\\PARK\\Documents\\LAB\\RNN vs LSTM\\FInal Example\\wandb\\run-20221016_021922-3ugkxw4r\\files\\model-best)... Done. 0.1s\n"
     ]
    },
    {
     "name": "stdout",
     "output_type": "stream",
     "text": [
      "5/5 [==============================] - 4s 1s/step - loss: 0.0025 - mae: 0.0397 - val_loss: 0.0062 - val_mae: 0.0626\n",
      "Epoch 438/1000\n",
      "5/5 [==============================] - 0s 90ms/step - loss: 0.0023 - mae: 0.0378 - val_loss: 0.0063 - val_mae: 0.0622\n",
      "Epoch 439/1000\n",
      "5/5 [==============================] - 0s 73ms/step - loss: 0.0023 - mae: 0.0378 - val_loss: 0.0065 - val_mae: 0.0634\n",
      "Epoch 440/1000\n",
      "5/5 [==============================] - 0s 72ms/step - loss: 0.0022 - mae: 0.0372 - val_loss: 0.0066 - val_mae: 0.0641\n",
      "Epoch 441/1000\n",
      "5/5 [==============================] - 0s 72ms/step - loss: 0.0022 - mae: 0.0367 - val_loss: 0.0063 - val_mae: 0.0628\n",
      "Epoch 442/1000\n",
      "5/5 [==============================] - 0s 75ms/step - loss: 0.0022 - mae: 0.0368 - val_loss: 0.0065 - val_mae: 0.0635\n",
      "Epoch 443/1000\n",
      "5/5 [==============================] - 0s 72ms/step - loss: 0.0022 - mae: 0.0366 - val_loss: 0.0063 - val_mae: 0.0628\n",
      "Epoch 444/1000\n",
      "5/5 [==============================] - 0s 71ms/step - loss: 0.0021 - mae: 0.0360 - val_loss: 0.0064 - val_mae: 0.0629\n",
      "Epoch 445/1000\n",
      "5/5 [==============================] - 0s 74ms/step - loss: 0.0020 - mae: 0.0349 - val_loss: 0.0062 - val_mae: 0.0616\n",
      "Epoch 446/1000\n",
      "1/5 [=====>........................] - ETA: 0s - loss: 0.0020 - mae: 0.0351"
     ]
    },
    {
     "name": "stderr",
     "output_type": "stream",
     "text": [
      "WARNING:absl:Found untraced functions such as lstm_cell_layer_call_fn, lstm_cell_layer_call_and_return_conditional_losses while saving (showing 2 of 2). These functions will not be directly callable after loading.\n"
     ]
    },
    {
     "name": "stdout",
     "output_type": "stream",
     "text": [
      "INFO:tensorflow:Assets written to: C:\\Users\\PARK\\Documents\\LAB\\RNN vs LSTM\\FInal Example\\wandb\\run-20221016_021922-3ugkxw4r\\files\\model-best\\assets\n"
     ]
    },
    {
     "name": "stderr",
     "output_type": "stream",
     "text": [
      "INFO:tensorflow:Assets written to: C:\\Users\\PARK\\Documents\\LAB\\RNN vs LSTM\\FInal Example\\wandb\\run-20221016_021922-3ugkxw4r\\files\\model-best\\assets\n",
      "\u001b[34m\u001b[1mwandb\u001b[0m: Adding directory to artifact (C:\\Users\\PARK\\Documents\\LAB\\RNN vs LSTM\\FInal Example\\wandb\\run-20221016_021922-3ugkxw4r\\files\\model-best)... Done. 0.1s\n"
     ]
    },
    {
     "name": "stdout",
     "output_type": "stream",
     "text": [
      "5/5 [==============================] - 4s 976ms/step - loss: 0.0019 - mae: 0.0347 - val_loss: 0.0061 - val_mae: 0.0616\n",
      "Epoch 447/1000\n",
      "5/5 [==============================] - 0s 104ms/step - loss: 0.0019 - mae: 0.0346 - val_loss: 0.0062 - val_mae: 0.0619\n",
      "Epoch 448/1000\n",
      "5/5 [==============================] - 0s 74ms/step - loss: 0.0021 - mae: 0.0357 - val_loss: 0.0065 - val_mae: 0.0632\n",
      "Epoch 449/1000\n",
      "5/5 [==============================] - 0s 73ms/step - loss: 0.0023 - mae: 0.0375 - val_loss: 0.0061 - val_mae: 0.0620\n",
      "Epoch 450/1000\n",
      "5/5 [==============================] - 0s 75ms/step - loss: 0.0022 - mae: 0.0369 - val_loss: 0.0061 - val_mae: 0.0619\n",
      "Epoch 451/1000\n",
      "1/5 [=====>........................] - ETA: 0s - loss: 0.0018 - mae: 0.0330"
     ]
    },
    {
     "name": "stderr",
     "output_type": "stream",
     "text": [
      "WARNING:absl:Found untraced functions such as lstm_cell_layer_call_fn, lstm_cell_layer_call_and_return_conditional_losses while saving (showing 2 of 2). These functions will not be directly callable after loading.\n"
     ]
    },
    {
     "name": "stdout",
     "output_type": "stream",
     "text": [
      "INFO:tensorflow:Assets written to: C:\\Users\\PARK\\Documents\\LAB\\RNN vs LSTM\\FInal Example\\wandb\\run-20221016_021922-3ugkxw4r\\files\\model-best\\assets\n"
     ]
    },
    {
     "name": "stderr",
     "output_type": "stream",
     "text": [
      "INFO:tensorflow:Assets written to: C:\\Users\\PARK\\Documents\\LAB\\RNN vs LSTM\\FInal Example\\wandb\\run-20221016_021922-3ugkxw4r\\files\\model-best\\assets\n",
      "\u001b[34m\u001b[1mwandb\u001b[0m: Adding directory to artifact (C:\\Users\\PARK\\Documents\\LAB\\RNN vs LSTM\\FInal Example\\wandb\\run-20221016_021922-3ugkxw4r\\files\\model-best)... Done. 0.1s\n"
     ]
    },
    {
     "name": "stdout",
     "output_type": "stream",
     "text": [
      "5/5 [==============================] - 4s 1s/step - loss: 0.0022 - mae: 0.0369 - val_loss: 0.0059 - val_mae: 0.0607\n",
      "Epoch 452/1000\n",
      "5/5 [==============================] - 0s 107ms/step - loss: 0.0023 - mae: 0.0381 - val_loss: 0.0065 - val_mae: 0.0628\n",
      "Epoch 453/1000\n",
      "5/5 [==============================] - 0s 76ms/step - loss: 0.0024 - mae: 0.0391 - val_loss: 0.0068 - val_mae: 0.0652\n",
      "Epoch 454/1000\n",
      "5/5 [==============================] - 0s 73ms/step - loss: 0.0022 - mae: 0.0376 - val_loss: 0.0061 - val_mae: 0.0618\n",
      "Epoch 455/1000\n",
      "1/5 [=====>........................] - ETA: 0s - loss: 0.0017 - mae: 0.0328"
     ]
    },
    {
     "name": "stderr",
     "output_type": "stream",
     "text": [
      "WARNING:absl:Found untraced functions such as lstm_cell_layer_call_fn, lstm_cell_layer_call_and_return_conditional_losses while saving (showing 2 of 2). These functions will not be directly callable after loading.\n"
     ]
    },
    {
     "name": "stdout",
     "output_type": "stream",
     "text": [
      "INFO:tensorflow:Assets written to: C:\\Users\\PARK\\Documents\\LAB\\RNN vs LSTM\\FInal Example\\wandb\\run-20221016_021922-3ugkxw4r\\files\\model-best\\assets\n"
     ]
    },
    {
     "name": "stderr",
     "output_type": "stream",
     "text": [
      "INFO:tensorflow:Assets written to: C:\\Users\\PARK\\Documents\\LAB\\RNN vs LSTM\\FInal Example\\wandb\\run-20221016_021922-3ugkxw4r\\files\\model-best\\assets\n",
      "\u001b[34m\u001b[1mwandb\u001b[0m: Adding directory to artifact (C:\\Users\\PARK\\Documents\\LAB\\RNN vs LSTM\\FInal Example\\wandb\\run-20221016_021922-3ugkxw4r\\files\\model-best)... Done. 0.1s\n"
     ]
    },
    {
     "name": "stdout",
     "output_type": "stream",
     "text": [
      "5/5 [==============================] - 4s 1s/step - loss: 0.0020 - mae: 0.0351 - val_loss: 0.0058 - val_mae: 0.0596\n",
      "Epoch 456/1000\n",
      "5/5 [==============================] - 1s 109ms/step - loss: 0.0019 - mae: 0.0345 - val_loss: 0.0060 - val_mae: 0.0604\n",
      "Epoch 457/1000\n",
      "5/5 [==============================] - 0s 74ms/step - loss: 0.0018 - mae: 0.0340 - val_loss: 0.0058 - val_mae: 0.0593\n",
      "Epoch 458/1000\n",
      "5/5 [==============================] - 0s 73ms/step - loss: 0.0018 - mae: 0.0338 - val_loss: 0.0061 - val_mae: 0.0609\n",
      "Epoch 459/1000\n",
      "5/5 [==============================] - 0s 72ms/step - loss: 0.0018 - mae: 0.0340 - val_loss: 0.0060 - val_mae: 0.0611\n",
      "Epoch 460/1000\n",
      "1/5 [=====>........................] - ETA: 0s - loss: 0.0021 - mae: 0.0363"
     ]
    },
    {
     "name": "stderr",
     "output_type": "stream",
     "text": [
      "WARNING:absl:Found untraced functions such as lstm_cell_layer_call_fn, lstm_cell_layer_call_and_return_conditional_losses while saving (showing 2 of 2). These functions will not be directly callable after loading.\n"
     ]
    },
    {
     "name": "stdout",
     "output_type": "stream",
     "text": [
      "INFO:tensorflow:Assets written to: C:\\Users\\PARK\\Documents\\LAB\\RNN vs LSTM\\FInal Example\\wandb\\run-20221016_021922-3ugkxw4r\\files\\model-best\\assets\n"
     ]
    },
    {
     "name": "stderr",
     "output_type": "stream",
     "text": [
      "INFO:tensorflow:Assets written to: C:\\Users\\PARK\\Documents\\LAB\\RNN vs LSTM\\FInal Example\\wandb\\run-20221016_021922-3ugkxw4r\\files\\model-best\\assets\n",
      "\u001b[34m\u001b[1mwandb\u001b[0m: Adding directory to artifact (C:\\Users\\PARK\\Documents\\LAB\\RNN vs LSTM\\FInal Example\\wandb\\run-20221016_021922-3ugkxw4r\\files\\model-best)... Done. 0.1s\n"
     ]
    },
    {
     "name": "stdout",
     "output_type": "stream",
     "text": [
      "5/5 [==============================] - 4s 1s/step - loss: 0.0018 - mae: 0.0338 - val_loss: 0.0057 - val_mae: 0.0589\n",
      "Epoch 461/1000\n",
      "5/5 [==============================] - 1s 118ms/step - loss: 0.0016 - mae: 0.0320 - val_loss: 0.0058 - val_mae: 0.0589\n",
      "Epoch 462/1000\n",
      "1/5 [=====>........................] - ETA: 0s - loss: 0.0016 - mae: 0.0310"
     ]
    },
    {
     "name": "stderr",
     "output_type": "stream",
     "text": [
      "WARNING:absl:Found untraced functions such as lstm_cell_layer_call_fn, lstm_cell_layer_call_and_return_conditional_losses while saving (showing 2 of 2). These functions will not be directly callable after loading.\n"
     ]
    },
    {
     "name": "stdout",
     "output_type": "stream",
     "text": [
      "INFO:tensorflow:Assets written to: C:\\Users\\PARK\\Documents\\LAB\\RNN vs LSTM\\FInal Example\\wandb\\run-20221016_021922-3ugkxw4r\\files\\model-best\\assets\n"
     ]
    },
    {
     "name": "stderr",
     "output_type": "stream",
     "text": [
      "INFO:tensorflow:Assets written to: C:\\Users\\PARK\\Documents\\LAB\\RNN vs LSTM\\FInal Example\\wandb\\run-20221016_021922-3ugkxw4r\\files\\model-best\\assets\n",
      "\u001b[34m\u001b[1mwandb\u001b[0m: Adding directory to artifact (C:\\Users\\PARK\\Documents\\LAB\\RNN vs LSTM\\FInal Example\\wandb\\run-20221016_021922-3ugkxw4r\\files\\model-best)... Done. 0.1s\n"
     ]
    },
    {
     "name": "stdout",
     "output_type": "stream",
     "text": [
      "5/5 [==============================] - 4s 1s/step - loss: 0.0017 - mae: 0.0321 - val_loss: 0.0056 - val_mae: 0.0579\n",
      "Epoch 463/1000\n",
      "3/5 [=================>............] - ETA: 0s - loss: 0.0016 - mae: 0.0316"
     ]
    },
    {
     "name": "stderr",
     "output_type": "stream",
     "text": [
      "WARNING:absl:Found untraced functions such as lstm_cell_layer_call_fn, lstm_cell_layer_call_and_return_conditional_losses while saving (showing 2 of 2). These functions will not be directly callable after loading.\n"
     ]
    },
    {
     "name": "stdout",
     "output_type": "stream",
     "text": [
      "INFO:tensorflow:Assets written to: C:\\Users\\PARK\\Documents\\LAB\\RNN vs LSTM\\FInal Example\\wandb\\run-20221016_021922-3ugkxw4r\\files\\model-best\\assets\n"
     ]
    },
    {
     "name": "stderr",
     "output_type": "stream",
     "text": [
      "INFO:tensorflow:Assets written to: C:\\Users\\PARK\\Documents\\LAB\\RNN vs LSTM\\FInal Example\\wandb\\run-20221016_021922-3ugkxw4r\\files\\model-best\\assets\n",
      "\u001b[34m\u001b[1mwandb\u001b[0m: Adding directory to artifact (C:\\Users\\PARK\\Documents\\LAB\\RNN vs LSTM\\FInal Example\\wandb\\run-20221016_021922-3ugkxw4r\\files\\model-best)... Done. 0.1s\n"
     ]
    },
    {
     "name": "stdout",
     "output_type": "stream",
     "text": [
      "5/5 [==============================] - 4s 1s/step - loss: 0.0016 - mae: 0.0318 - val_loss: 0.0056 - val_mae: 0.0579\n",
      "Epoch 464/1000\n",
      "5/5 [==============================] - 1s 134ms/step - loss: 0.0015 - mae: 0.0307 - val_loss: 0.0057 - val_mae: 0.0591\n",
      "Epoch 465/1000\n",
      "5/5 [==============================] - 0s 93ms/step - loss: 0.0014 - mae: 0.0301 - val_loss: 0.0056 - val_mae: 0.0581\n",
      "Epoch 466/1000\n",
      "4/5 [=======================>......] - ETA: 0s - loss: 0.0014 - mae: 0.0297"
     ]
    },
    {
     "name": "stderr",
     "output_type": "stream",
     "text": [
      "WARNING:absl:Found untraced functions such as lstm_cell_layer_call_fn, lstm_cell_layer_call_and_return_conditional_losses while saving (showing 2 of 2). These functions will not be directly callable after loading.\n"
     ]
    },
    {
     "name": "stdout",
     "output_type": "stream",
     "text": [
      "INFO:tensorflow:Assets written to: C:\\Users\\PARK\\Documents\\LAB\\RNN vs LSTM\\FInal Example\\wandb\\run-20221016_021922-3ugkxw4r\\files\\model-best\\assets\n"
     ]
    },
    {
     "name": "stderr",
     "output_type": "stream",
     "text": [
      "INFO:tensorflow:Assets written to: C:\\Users\\PARK\\Documents\\LAB\\RNN vs LSTM\\FInal Example\\wandb\\run-20221016_021922-3ugkxw4r\\files\\model-best\\assets\n",
      "\u001b[34m\u001b[1mwandb\u001b[0m: Adding directory to artifact (C:\\Users\\PARK\\Documents\\LAB\\RNN vs LSTM\\FInal Example\\wandb\\run-20221016_021922-3ugkxw4r\\files\\model-best)... Done. 0.1s\n"
     ]
    },
    {
     "name": "stdout",
     "output_type": "stream",
     "text": [
      "5/5 [==============================] - 4s 1s/step - loss: 0.0014 - mae: 0.0296 - val_loss: 0.0056 - val_mae: 0.0578\n",
      "Epoch 467/1000\n",
      "5/5 [==============================] - ETA: 0s - loss: 0.0014 - mae: 0.0295"
     ]
    },
    {
     "name": "stderr",
     "output_type": "stream",
     "text": [
      "WARNING:absl:Found untraced functions such as lstm_cell_layer_call_fn, lstm_cell_layer_call_and_return_conditional_losses while saving (showing 2 of 2). These functions will not be directly callable after loading.\n"
     ]
    },
    {
     "name": "stdout",
     "output_type": "stream",
     "text": [
      "INFO:tensorflow:Assets written to: C:\\Users\\PARK\\Documents\\LAB\\RNN vs LSTM\\FInal Example\\wandb\\run-20221016_021922-3ugkxw4r\\files\\model-best\\assets\n"
     ]
    },
    {
     "name": "stderr",
     "output_type": "stream",
     "text": [
      "INFO:tensorflow:Assets written to: C:\\Users\\PARK\\Documents\\LAB\\RNN vs LSTM\\FInal Example\\wandb\\run-20221016_021922-3ugkxw4r\\files\\model-best\\assets\n",
      "\u001b[34m\u001b[1mwandb\u001b[0m: Adding directory to artifact (C:\\Users\\PARK\\Documents\\LAB\\RNN vs LSTM\\FInal Example\\wandb\\run-20221016_021922-3ugkxw4r\\files\\model-best)... Done. 0.2s\n"
     ]
    },
    {
     "name": "stdout",
     "output_type": "stream",
     "text": [
      "5/5 [==============================] - 4s 1s/step - loss: 0.0014 - mae: 0.0295 - val_loss: 0.0054 - val_mae: 0.0570\n",
      "Epoch 468/1000\n",
      "5/5 [==============================] - 1s 129ms/step - loss: 0.0014 - mae: 0.0292 - val_loss: 0.0054 - val_mae: 0.0572\n",
      "Epoch 469/1000\n",
      "5/5 [==============================] - 0s 75ms/step - loss: 0.0014 - mae: 0.0298 - val_loss: 0.0055 - val_mae: 0.0571\n",
      "Epoch 470/1000\n",
      "1/5 [=====>........................] - ETA: 0s - loss: 0.0013 - mae: 0.0282"
     ]
    },
    {
     "name": "stderr",
     "output_type": "stream",
     "text": [
      "WARNING:absl:Found untraced functions such as lstm_cell_layer_call_fn, lstm_cell_layer_call_and_return_conditional_losses while saving (showing 2 of 2). These functions will not be directly callable after loading.\n"
     ]
    },
    {
     "name": "stdout",
     "output_type": "stream",
     "text": [
      "INFO:tensorflow:Assets written to: C:\\Users\\PARK\\Documents\\LAB\\RNN vs LSTM\\FInal Example\\wandb\\run-20221016_021922-3ugkxw4r\\files\\model-best\\assets\n"
     ]
    },
    {
     "name": "stderr",
     "output_type": "stream",
     "text": [
      "INFO:tensorflow:Assets written to: C:\\Users\\PARK\\Documents\\LAB\\RNN vs LSTM\\FInal Example\\wandb\\run-20221016_021922-3ugkxw4r\\files\\model-best\\assets\n",
      "\u001b[34m\u001b[1mwandb\u001b[0m: Adding directory to artifact (C:\\Users\\PARK\\Documents\\LAB\\RNN vs LSTM\\FInal Example\\wandb\\run-20221016_021922-3ugkxw4r\\files\\model-best)... Done. 0.1s\n"
     ]
    },
    {
     "name": "stdout",
     "output_type": "stream",
     "text": [
      "5/5 [==============================] - 4s 1s/step - loss: 0.0013 - mae: 0.0290 - val_loss: 0.0053 - val_mae: 0.0564\n",
      "Epoch 471/1000\n",
      "5/5 [==============================] - 1s 118ms/step - loss: 0.0014 - mae: 0.0293 - val_loss: 0.0054 - val_mae: 0.0563\n",
      "Epoch 472/1000\n",
      "1/5 [=====>........................] - ETA: 0s - loss: 0.0013 - mae: 0.0287"
     ]
    },
    {
     "name": "stderr",
     "output_type": "stream",
     "text": [
      "WARNING:absl:Found untraced functions such as lstm_cell_layer_call_fn, lstm_cell_layer_call_and_return_conditional_losses while saving (showing 2 of 2). These functions will not be directly callable after loading.\n"
     ]
    },
    {
     "name": "stdout",
     "output_type": "stream",
     "text": [
      "INFO:tensorflow:Assets written to: C:\\Users\\PARK\\Documents\\LAB\\RNN vs LSTM\\FInal Example\\wandb\\run-20221016_021922-3ugkxw4r\\files\\model-best\\assets\n"
     ]
    },
    {
     "name": "stderr",
     "output_type": "stream",
     "text": [
      "INFO:tensorflow:Assets written to: C:\\Users\\PARK\\Documents\\LAB\\RNN vs LSTM\\FInal Example\\wandb\\run-20221016_021922-3ugkxw4r\\files\\model-best\\assets\n",
      "\u001b[34m\u001b[1mwandb\u001b[0m: Adding directory to artifact (C:\\Users\\PARK\\Documents\\LAB\\RNN vs LSTM\\FInal Example\\wandb\\run-20221016_021922-3ugkxw4r\\files\\model-best)... Done. 0.1s\n"
     ]
    },
    {
     "name": "stdout",
     "output_type": "stream",
     "text": [
      "5/5 [==============================] - 4s 1s/step - loss: 0.0014 - mae: 0.0299 - val_loss: 0.0052 - val_mae: 0.0561\n",
      "Epoch 473/1000\n",
      "5/5 [==============================] - 1s 122ms/step - loss: 0.0014 - mae: 0.0295 - val_loss: 0.0053 - val_mae: 0.0565\n",
      "Epoch 474/1000\n",
      "5/5 [==============================] - 0s 75ms/step - loss: 0.0014 - mae: 0.0300 - val_loss: 0.0054 - val_mae: 0.0568\n",
      "Epoch 475/1000\n",
      "5/5 [==============================] - 0s 75ms/step - loss: 0.0014 - mae: 0.0301 - val_loss: 0.0054 - val_mae: 0.0577\n",
      "Epoch 476/1000\n",
      "5/5 [==============================] - 0s 75ms/step - loss: 0.0017 - mae: 0.0326 - val_loss: 0.0070 - val_mae: 0.0664\n",
      "Epoch 477/1000\n",
      "5/5 [==============================] - 0s 71ms/step - loss: 0.0023 - mae: 0.0374 - val_loss: 0.0058 - val_mae: 0.0593\n",
      "Epoch 478/1000\n",
      "5/5 [==============================] - 0s 71ms/step - loss: 0.0029 - mae: 0.0420 - val_loss: 0.0085 - val_mae: 0.0727\n",
      "Epoch 479/1000\n",
      "5/5 [==============================] - 0s 71ms/step - loss: 0.0043 - mae: 0.0507 - val_loss: 0.0063 - val_mae: 0.0629\n",
      "Epoch 480/1000\n",
      "5/5 [==============================] - 0s 71ms/step - loss: 0.0035 - mae: 0.0469 - val_loss: 0.0067 - val_mae: 0.0651\n",
      "Epoch 481/1000\n",
      "5/5 [==============================] - 0s 72ms/step - loss: 0.0028 - mae: 0.0423 - val_loss: 0.0062 - val_mae: 0.0625\n",
      "Epoch 482/1000\n",
      "5/5 [==============================] - 0s 72ms/step - loss: 0.0026 - mae: 0.0406 - val_loss: 0.0068 - val_mae: 0.0659\n",
      "Epoch 483/1000\n",
      "5/5 [==============================] - 0s 73ms/step - loss: 0.0027 - mae: 0.0414 - val_loss: 0.0059 - val_mae: 0.0599\n",
      "Epoch 484/1000\n",
      "5/5 [==============================] - 0s 71ms/step - loss: 0.0023 - mae: 0.0383 - val_loss: 0.0062 - val_mae: 0.0613\n",
      "Epoch 485/1000\n",
      "5/5 [==============================] - 0s 71ms/step - loss: 0.0023 - mae: 0.0375 - val_loss: 0.0060 - val_mae: 0.0599\n",
      "Epoch 486/1000\n",
      "5/5 [==============================] - 0s 75ms/step - loss: 0.0019 - mae: 0.0349 - val_loss: 0.0055 - val_mae: 0.0579\n",
      "Epoch 487/1000\n",
      "5/5 [==============================] - 0s 70ms/step - loss: 0.0019 - mae: 0.0341 - val_loss: 0.0056 - val_mae: 0.0586\n",
      "Epoch 488/1000\n",
      "5/5 [==============================] - 0s 70ms/step - loss: 0.0018 - mae: 0.0333 - val_loss: 0.0053 - val_mae: 0.0566\n",
      "Epoch 489/1000\n",
      "5/5 [==============================] - 0s 71ms/step - loss: 0.0015 - mae: 0.0307 - val_loss: 0.0053 - val_mae: 0.0568\n",
      "Epoch 490/1000\n",
      "1/5 [=====>........................] - ETA: 0s - loss: 0.0014 - mae: 0.0289"
     ]
    },
    {
     "name": "stderr",
     "output_type": "stream",
     "text": [
      "WARNING:absl:Found untraced functions such as lstm_cell_layer_call_fn, lstm_cell_layer_call_and_return_conditional_losses while saving (showing 2 of 2). These functions will not be directly callable after loading.\n"
     ]
    },
    {
     "name": "stdout",
     "output_type": "stream",
     "text": [
      "INFO:tensorflow:Assets written to: C:\\Users\\PARK\\Documents\\LAB\\RNN vs LSTM\\FInal Example\\wandb\\run-20221016_021922-3ugkxw4r\\files\\model-best\\assets\n"
     ]
    },
    {
     "name": "stderr",
     "output_type": "stream",
     "text": [
      "INFO:tensorflow:Assets written to: C:\\Users\\PARK\\Documents\\LAB\\RNN vs LSTM\\FInal Example\\wandb\\run-20221016_021922-3ugkxw4r\\files\\model-best\\assets\n",
      "\u001b[34m\u001b[1mwandb\u001b[0m: Adding directory to artifact (C:\\Users\\PARK\\Documents\\LAB\\RNN vs LSTM\\FInal Example\\wandb\\run-20221016_021922-3ugkxw4r\\files\\model-best)... Done. 0.1s\n"
     ]
    },
    {
     "name": "stdout",
     "output_type": "stream",
     "text": [
      "5/5 [==============================] - 4s 969ms/step - loss: 0.0015 - mae: 0.0298 - val_loss: 0.0052 - val_mae: 0.0560\n",
      "Epoch 491/1000\n",
      "5/5 [==============================] - 1s 113ms/step - loss: 0.0014 - mae: 0.0299 - val_loss: 0.0053 - val_mae: 0.0565\n",
      "Epoch 492/1000\n",
      "1/5 [=====>........................] - ETA: 0s - loss: 0.0014 - mae: 0.0290"
     ]
    },
    {
     "name": "stderr",
     "output_type": "stream",
     "text": [
      "WARNING:absl:Found untraced functions such as lstm_cell_layer_call_fn, lstm_cell_layer_call_and_return_conditional_losses while saving (showing 2 of 2). These functions will not be directly callable after loading.\n"
     ]
    },
    {
     "name": "stdout",
     "output_type": "stream",
     "text": [
      "INFO:tensorflow:Assets written to: C:\\Users\\PARK\\Documents\\LAB\\RNN vs LSTM\\FInal Example\\wandb\\run-20221016_021922-3ugkxw4r\\files\\model-best\\assets\n"
     ]
    },
    {
     "name": "stderr",
     "output_type": "stream",
     "text": [
      "INFO:tensorflow:Assets written to: C:\\Users\\PARK\\Documents\\LAB\\RNN vs LSTM\\FInal Example\\wandb\\run-20221016_021922-3ugkxw4r\\files\\model-best\\assets\n",
      "\u001b[34m\u001b[1mwandb\u001b[0m: Adding directory to artifact (C:\\Users\\PARK\\Documents\\LAB\\RNN vs LSTM\\FInal Example\\wandb\\run-20221016_021922-3ugkxw4r\\files\\model-best)... Done. 0.1s\n"
     ]
    },
    {
     "name": "stdout",
     "output_type": "stream",
     "text": [
      "5/5 [==============================] - 4s 1s/step - loss: 0.0013 - mae: 0.0287 - val_loss: 0.0051 - val_mae: 0.0555\n",
      "Epoch 493/1000\n",
      "4/5 [=======================>......] - ETA: 0s - loss: 0.0013 - mae: 0.0280"
     ]
    },
    {
     "name": "stderr",
     "output_type": "stream",
     "text": [
      "WARNING:absl:Found untraced functions such as lstm_cell_layer_call_fn, lstm_cell_layer_call_and_return_conditional_losses while saving (showing 2 of 2). These functions will not be directly callable after loading.\n"
     ]
    },
    {
     "name": "stdout",
     "output_type": "stream",
     "text": [
      "INFO:tensorflow:Assets written to: C:\\Users\\PARK\\Documents\\LAB\\RNN vs LSTM\\FInal Example\\wandb\\run-20221016_021922-3ugkxw4r\\files\\model-best\\assets\n"
     ]
    },
    {
     "name": "stderr",
     "output_type": "stream",
     "text": [
      "INFO:tensorflow:Assets written to: C:\\Users\\PARK\\Documents\\LAB\\RNN vs LSTM\\FInal Example\\wandb\\run-20221016_021922-3ugkxw4r\\files\\model-best\\assets\n",
      "\u001b[34m\u001b[1mwandb\u001b[0m: Adding directory to artifact (C:\\Users\\PARK\\Documents\\LAB\\RNN vs LSTM\\FInal Example\\wandb\\run-20221016_021922-3ugkxw4r\\files\\model-best)... Done. 0.1s\n"
     ]
    },
    {
     "name": "stdout",
     "output_type": "stream",
     "text": [
      "5/5 [==============================] - 4s 1s/step - loss: 0.0013 - mae: 0.0281 - val_loss: 0.0051 - val_mae: 0.0558\n",
      "Epoch 494/1000\n",
      "3/5 [=================>............] - ETA: 0s - loss: 0.0013 - mae: 0.0282"
     ]
    },
    {
     "name": "stderr",
     "output_type": "stream",
     "text": [
      "WARNING:absl:Found untraced functions such as lstm_cell_layer_call_fn, lstm_cell_layer_call_and_return_conditional_losses while saving (showing 2 of 2). These functions will not be directly callable after loading.\n"
     ]
    },
    {
     "name": "stdout",
     "output_type": "stream",
     "text": [
      "INFO:tensorflow:Assets written to: C:\\Users\\PARK\\Documents\\LAB\\RNN vs LSTM\\FInal Example\\wandb\\run-20221016_021922-3ugkxw4r\\files\\model-best\\assets\n"
     ]
    },
    {
     "name": "stderr",
     "output_type": "stream",
     "text": [
      "INFO:tensorflow:Assets written to: C:\\Users\\PARK\\Documents\\LAB\\RNN vs LSTM\\FInal Example\\wandb\\run-20221016_021922-3ugkxw4r\\files\\model-best\\assets\n",
      "\u001b[34m\u001b[1mwandb\u001b[0m: Adding directory to artifact (C:\\Users\\PARK\\Documents\\LAB\\RNN vs LSTM\\FInal Example\\wandb\\run-20221016_021922-3ugkxw4r\\files\\model-best)... Done. 0.1s\n"
     ]
    },
    {
     "name": "stdout",
     "output_type": "stream",
     "text": [
      "5/5 [==============================] - 5s 1s/step - loss: 0.0012 - mae: 0.0279 - val_loss: 0.0050 - val_mae: 0.0552\n",
      "Epoch 495/1000\n",
      "5/5 [==============================] - 1s 131ms/step - loss: 0.0012 - mae: 0.0271 - val_loss: 0.0052 - val_mae: 0.0558\n",
      "Epoch 496/1000\n",
      "1/5 [=====>........................] - ETA: 0s - loss: 0.0012 - mae: 0.0283"
     ]
    },
    {
     "name": "stderr",
     "output_type": "stream",
     "text": [
      "WARNING:absl:Found untraced functions such as lstm_cell_layer_call_fn, lstm_cell_layer_call_and_return_conditional_losses while saving (showing 2 of 2). These functions will not be directly callable after loading.\n"
     ]
    },
    {
     "name": "stdout",
     "output_type": "stream",
     "text": [
      "INFO:tensorflow:Assets written to: C:\\Users\\PARK\\Documents\\LAB\\RNN vs LSTM\\FInal Example\\wandb\\run-20221016_021922-3ugkxw4r\\files\\model-best\\assets\n"
     ]
    },
    {
     "name": "stderr",
     "output_type": "stream",
     "text": [
      "INFO:tensorflow:Assets written to: C:\\Users\\PARK\\Documents\\LAB\\RNN vs LSTM\\FInal Example\\wandb\\run-20221016_021922-3ugkxw4r\\files\\model-best\\assets\n",
      "\u001b[34m\u001b[1mwandb\u001b[0m: Adding directory to artifact (C:\\Users\\PARK\\Documents\\LAB\\RNN vs LSTM\\FInal Example\\wandb\\run-20221016_021922-3ugkxw4r\\files\\model-best)... Done. 0.1s\n"
     ]
    },
    {
     "name": "stdout",
     "output_type": "stream",
     "text": [
      "5/5 [==============================] - 4s 1s/step - loss: 0.0012 - mae: 0.0269 - val_loss: 0.0050 - val_mae: 0.0556\n",
      "Epoch 497/1000\n",
      "3/5 [=================>............] - ETA: 0s - loss: 0.0012 - mae: 0.0270"
     ]
    },
    {
     "name": "stderr",
     "output_type": "stream",
     "text": [
      "WARNING:absl:Found untraced functions such as lstm_cell_layer_call_fn, lstm_cell_layer_call_and_return_conditional_losses while saving (showing 2 of 2). These functions will not be directly callable after loading.\n"
     ]
    },
    {
     "name": "stdout",
     "output_type": "stream",
     "text": [
      "INFO:tensorflow:Assets written to: C:\\Users\\PARK\\Documents\\LAB\\RNN vs LSTM\\FInal Example\\wandb\\run-20221016_021922-3ugkxw4r\\files\\model-best\\assets\n"
     ]
    },
    {
     "name": "stderr",
     "output_type": "stream",
     "text": [
      "INFO:tensorflow:Assets written to: C:\\Users\\PARK\\Documents\\LAB\\RNN vs LSTM\\FInal Example\\wandb\\run-20221016_021922-3ugkxw4r\\files\\model-best\\assets\n",
      "\u001b[34m\u001b[1mwandb\u001b[0m: Adding directory to artifact (C:\\Users\\PARK\\Documents\\LAB\\RNN vs LSTM\\FInal Example\\wandb\\run-20221016_021922-3ugkxw4r\\files\\model-best)... Done. 0.1s\n"
     ]
    },
    {
     "name": "stdout",
     "output_type": "stream",
     "text": [
      "5/5 [==============================] - 4s 1s/step - loss: 0.0012 - mae: 0.0271 - val_loss: 0.0049 - val_mae: 0.0548\n",
      "Epoch 498/1000\n",
      "2/5 [===========>..................] - ETA: 0s - loss: 0.0011 - mae: 0.0263"
     ]
    },
    {
     "name": "stderr",
     "output_type": "stream",
     "text": [
      "WARNING:absl:Found untraced functions such as lstm_cell_layer_call_fn, lstm_cell_layer_call_and_return_conditional_losses while saving (showing 2 of 2). These functions will not be directly callable after loading.\n"
     ]
    },
    {
     "name": "stdout",
     "output_type": "stream",
     "text": [
      "INFO:tensorflow:Assets written to: C:\\Users\\PARK\\Documents\\LAB\\RNN vs LSTM\\FInal Example\\wandb\\run-20221016_021922-3ugkxw4r\\files\\model-best\\assets\n"
     ]
    },
    {
     "name": "stderr",
     "output_type": "stream",
     "text": [
      "INFO:tensorflow:Assets written to: C:\\Users\\PARK\\Documents\\LAB\\RNN vs LSTM\\FInal Example\\wandb\\run-20221016_021922-3ugkxw4r\\files\\model-best\\assets\n",
      "\u001b[34m\u001b[1mwandb\u001b[0m: Adding directory to artifact (C:\\Users\\PARK\\Documents\\LAB\\RNN vs LSTM\\FInal Example\\wandb\\run-20221016_021922-3ugkxw4r\\files\\model-best)... Done. 0.2s\n"
     ]
    },
    {
     "name": "stdout",
     "output_type": "stream",
     "text": [
      "5/5 [==============================] - 4s 1s/step - loss: 0.0012 - mae: 0.0274 - val_loss: 0.0049 - val_mae: 0.0536\n",
      "Epoch 499/1000\n",
      "3/5 [=================>............] - ETA: 0s - loss: 0.0011 - mae: 0.0261"
     ]
    },
    {
     "name": "stderr",
     "output_type": "stream",
     "text": [
      "WARNING:absl:Found untraced functions such as lstm_cell_layer_call_fn, lstm_cell_layer_call_and_return_conditional_losses while saving (showing 2 of 2). These functions will not be directly callable after loading.\n"
     ]
    },
    {
     "name": "stdout",
     "output_type": "stream",
     "text": [
      "INFO:tensorflow:Assets written to: C:\\Users\\PARK\\Documents\\LAB\\RNN vs LSTM\\FInal Example\\wandb\\run-20221016_021922-3ugkxw4r\\files\\model-best\\assets\n"
     ]
    },
    {
     "name": "stderr",
     "output_type": "stream",
     "text": [
      "INFO:tensorflow:Assets written to: C:\\Users\\PARK\\Documents\\LAB\\RNN vs LSTM\\FInal Example\\wandb\\run-20221016_021922-3ugkxw4r\\files\\model-best\\assets\n",
      "\u001b[34m\u001b[1mwandb\u001b[0m: Adding directory to artifact (C:\\Users\\PARK\\Documents\\LAB\\RNN vs LSTM\\FInal Example\\wandb\\run-20221016_021922-3ugkxw4r\\files\\model-best)... Done. 0.1s\n"
     ]
    },
    {
     "name": "stdout",
     "output_type": "stream",
     "text": [
      "5/5 [==============================] - 4s 1s/step - loss: 0.0011 - mae: 0.0263 - val_loss: 0.0048 - val_mae: 0.0541\n",
      "Epoch 500/1000\n",
      "5/5 [==============================] - 1s 116ms/step - loss: 0.0010 - mae: 0.0254 - val_loss: 0.0049 - val_mae: 0.0546\n",
      "Epoch 501/1000\n",
      "1/5 [=====>........................] - ETA: 0s - loss: 0.0012 - mae: 0.0268"
     ]
    },
    {
     "name": "stderr",
     "output_type": "stream",
     "text": [
      "WARNING:absl:Found untraced functions such as lstm_cell_layer_call_fn, lstm_cell_layer_call_and_return_conditional_losses while saving (showing 2 of 2). These functions will not be directly callable after loading.\n"
     ]
    },
    {
     "name": "stdout",
     "output_type": "stream",
     "text": [
      "INFO:tensorflow:Assets written to: C:\\Users\\PARK\\Documents\\LAB\\RNN vs LSTM\\FInal Example\\wandb\\run-20221016_021922-3ugkxw4r\\files\\model-best\\assets\n"
     ]
    },
    {
     "name": "stderr",
     "output_type": "stream",
     "text": [
      "INFO:tensorflow:Assets written to: C:\\Users\\PARK\\Documents\\LAB\\RNN vs LSTM\\FInal Example\\wandb\\run-20221016_021922-3ugkxw4r\\files\\model-best\\assets\n",
      "\u001b[34m\u001b[1mwandb\u001b[0m: Adding directory to artifact (C:\\Users\\PARK\\Documents\\LAB\\RNN vs LSTM\\FInal Example\\wandb\\run-20221016_021922-3ugkxw4r\\files\\model-best)... Done. 0.1s\n"
     ]
    },
    {
     "name": "stdout",
     "output_type": "stream",
     "text": [
      "5/5 [==============================] - 4s 1s/step - loss: 0.0011 - mae: 0.0262 - val_loss: 0.0047 - val_mae: 0.0535\n",
      "Epoch 502/1000\n",
      "5/5 [==============================] - 1s 121ms/step - loss: 0.0010 - mae: 0.0253 - val_loss: 0.0049 - val_mae: 0.0533\n",
      "Epoch 503/1000\n",
      "5/5 [==============================] - 0s 73ms/step - loss: 9.8907e-04 - mae: 0.0249 - val_loss: 0.0049 - val_mae: 0.0544\n",
      "Epoch 504/1000\n",
      "5/5 [==============================] - 0s 74ms/step - loss: 0.0010 - mae: 0.0248 - val_loss: 0.0049 - val_mae: 0.0540\n",
      "Epoch 505/1000\n",
      "1/5 [=====>........................] - ETA: 0s - loss: 0.0011 - mae: 0.0260"
     ]
    },
    {
     "name": "stderr",
     "output_type": "stream",
     "text": [
      "WARNING:absl:Found untraced functions such as lstm_cell_layer_call_fn, lstm_cell_layer_call_and_return_conditional_losses while saving (showing 2 of 2). These functions will not be directly callable after loading.\n"
     ]
    },
    {
     "name": "stdout",
     "output_type": "stream",
     "text": [
      "INFO:tensorflow:Assets written to: C:\\Users\\PARK\\Documents\\LAB\\RNN vs LSTM\\FInal Example\\wandb\\run-20221016_021922-3ugkxw4r\\files\\model-best\\assets\n"
     ]
    },
    {
     "name": "stderr",
     "output_type": "stream",
     "text": [
      "INFO:tensorflow:Assets written to: C:\\Users\\PARK\\Documents\\LAB\\RNN vs LSTM\\FInal Example\\wandb\\run-20221016_021922-3ugkxw4r\\files\\model-best\\assets\n",
      "\u001b[34m\u001b[1mwandb\u001b[0m: Adding directory to artifact (C:\\Users\\PARK\\Documents\\LAB\\RNN vs LSTM\\FInal Example\\wandb\\run-20221016_021922-3ugkxw4r\\files\\model-best)... Done. 0.1s\n"
     ]
    },
    {
     "name": "stdout",
     "output_type": "stream",
     "text": [
      "5/5 [==============================] - 4s 1s/step - loss: 0.0010 - mae: 0.0253 - val_loss: 0.0047 - val_mae: 0.0528\n",
      "Epoch 506/1000\n",
      "5/5 [==============================] - 1s 107ms/step - loss: 0.0011 - mae: 0.0256 - val_loss: 0.0049 - val_mae: 0.0542\n",
      "Epoch 507/1000\n",
      "5/5 [==============================] - 0s 74ms/step - loss: 0.0011 - mae: 0.0258 - val_loss: 0.0048 - val_mae: 0.0536\n",
      "Epoch 508/1000\n",
      "5/5 [==============================] - 0s 76ms/step - loss: 0.0011 - mae: 0.0259 - val_loss: 0.0048 - val_mae: 0.0534\n",
      "Epoch 509/1000\n",
      "5/5 [==============================] - 0s 72ms/step - loss: 9.9282e-04 - mae: 0.0252 - val_loss: 0.0048 - val_mae: 0.0537\n",
      "Epoch 510/1000\n",
      "5/5 [==============================] - 0s 71ms/step - loss: 9.8878e-04 - mae: 0.0249 - val_loss: 0.0048 - val_mae: 0.0536\n",
      "Epoch 511/1000\n",
      "1/5 [=====>........................] - ETA: 0s - loss: 7.7367e-04 - mae: 0.0224"
     ]
    },
    {
     "name": "stderr",
     "output_type": "stream",
     "text": [
      "WARNING:absl:Found untraced functions such as lstm_cell_layer_call_fn, lstm_cell_layer_call_and_return_conditional_losses while saving (showing 2 of 2). These functions will not be directly callable after loading.\n"
     ]
    },
    {
     "name": "stdout",
     "output_type": "stream",
     "text": [
      "INFO:tensorflow:Assets written to: C:\\Users\\PARK\\Documents\\LAB\\RNN vs LSTM\\FInal Example\\wandb\\run-20221016_021922-3ugkxw4r\\files\\model-best\\assets\n"
     ]
    },
    {
     "name": "stderr",
     "output_type": "stream",
     "text": [
      "INFO:tensorflow:Assets written to: C:\\Users\\PARK\\Documents\\LAB\\RNN vs LSTM\\FInal Example\\wandb\\run-20221016_021922-3ugkxw4r\\files\\model-best\\assets\n",
      "\u001b[34m\u001b[1mwandb\u001b[0m: Adding directory to artifact (C:\\Users\\PARK\\Documents\\LAB\\RNN vs LSTM\\FInal Example\\wandb\\run-20221016_021922-3ugkxw4r\\files\\model-best)... Done. 0.1s\n"
     ]
    },
    {
     "name": "stdout",
     "output_type": "stream",
     "text": [
      "5/5 [==============================] - 4s 1s/step - loss: 9.3037e-04 - mae: 0.0241 - val_loss: 0.0046 - val_mae: 0.0523\n",
      "Epoch 512/1000\n",
      "5/5 [==============================] - 0s 95ms/step - loss: 8.9498e-04 - mae: 0.0236 - val_loss: 0.0050 - val_mae: 0.0544\n",
      "Epoch 513/1000\n",
      "5/5 [==============================] - 0s 75ms/step - loss: 9.9693e-04 - mae: 0.0249 - val_loss: 0.0047 - val_mae: 0.0526\n",
      "Epoch 514/1000\n",
      "5/5 [==============================] - 0s 74ms/step - loss: 9.3709e-04 - mae: 0.0242 - val_loss: 0.0047 - val_mae: 0.0528\n",
      "Epoch 515/1000\n",
      "5/5 [==============================] - 0s 77ms/step - loss: 9.4452e-04 - mae: 0.0243 - val_loss: 0.0047 - val_mae: 0.0532\n",
      "Epoch 516/1000\n",
      "5/5 [==============================] - 0s 72ms/step - loss: 8.8990e-04 - mae: 0.0236 - val_loss: 0.0047 - val_mae: 0.0533\n",
      "Epoch 517/1000\n",
      "5/5 [==============================] - 0s 74ms/step - loss: 8.8619e-04 - mae: 0.0237 - val_loss: 0.0047 - val_mae: 0.0531\n",
      "Epoch 518/1000\n",
      "1/5 [=====>........................] - ETA: 0s - loss: 7.9670e-04 - mae: 0.0225"
     ]
    },
    {
     "name": "stderr",
     "output_type": "stream",
     "text": [
      "WARNING:absl:Found untraced functions such as lstm_cell_layer_call_fn, lstm_cell_layer_call_and_return_conditional_losses while saving (showing 2 of 2). These functions will not be directly callable after loading.\n"
     ]
    },
    {
     "name": "stdout",
     "output_type": "stream",
     "text": [
      "INFO:tensorflow:Assets written to: C:\\Users\\PARK\\Documents\\LAB\\RNN vs LSTM\\FInal Example\\wandb\\run-20221016_021922-3ugkxw4r\\files\\model-best\\assets\n"
     ]
    },
    {
     "name": "stderr",
     "output_type": "stream",
     "text": [
      "INFO:tensorflow:Assets written to: C:\\Users\\PARK\\Documents\\LAB\\RNN vs LSTM\\FInal Example\\wandb\\run-20221016_021922-3ugkxw4r\\files\\model-best\\assets\n",
      "\u001b[34m\u001b[1mwandb\u001b[0m: Adding directory to artifact (C:\\Users\\PARK\\Documents\\LAB\\RNN vs LSTM\\FInal Example\\wandb\\run-20221016_021922-3ugkxw4r\\files\\model-best)... Done. 0.1s\n"
     ]
    },
    {
     "name": "stdout",
     "output_type": "stream",
     "text": [
      "5/5 [==============================] - 4s 1s/step - loss: 8.2940e-04 - mae: 0.0229 - val_loss: 0.0045 - val_mae: 0.0513\n",
      "Epoch 519/1000\n",
      "4/5 [=======================>......] - ETA: 0s - loss: 7.9575e-04 - mae: 0.0222"
     ]
    },
    {
     "name": "stderr",
     "output_type": "stream",
     "text": [
      "WARNING:absl:Found untraced functions such as lstm_cell_layer_call_fn, lstm_cell_layer_call_and_return_conditional_losses while saving (showing 2 of 2). These functions will not be directly callable after loading.\n"
     ]
    },
    {
     "name": "stdout",
     "output_type": "stream",
     "text": [
      "INFO:tensorflow:Assets written to: C:\\Users\\PARK\\Documents\\LAB\\RNN vs LSTM\\FInal Example\\wandb\\run-20221016_021922-3ugkxw4r\\files\\model-best\\assets\n"
     ]
    },
    {
     "name": "stderr",
     "output_type": "stream",
     "text": [
      "INFO:tensorflow:Assets written to: C:\\Users\\PARK\\Documents\\LAB\\RNN vs LSTM\\FInal Example\\wandb\\run-20221016_021922-3ugkxw4r\\files\\model-best\\assets\n",
      "\u001b[34m\u001b[1mwandb\u001b[0m: Adding directory to artifact (C:\\Users\\PARK\\Documents\\LAB\\RNN vs LSTM\\FInal Example\\wandb\\run-20221016_021922-3ugkxw4r\\files\\model-best)... Done. 0.1s\n"
     ]
    },
    {
     "name": "stdout",
     "output_type": "stream",
     "text": [
      "5/5 [==============================] - 4s 1s/step - loss: 8.0299e-04 - mae: 0.0223 - val_loss: 0.0045 - val_mae: 0.0513\n",
      "Epoch 520/1000\n",
      "5/5 [==============================] - 1s 120ms/step - loss: 7.6076e-04 - mae: 0.0219 - val_loss: 0.0045 - val_mae: 0.0517\n",
      "Epoch 521/1000\n",
      "5/5 [==============================] - 0s 78ms/step - loss: 7.4693e-04 - mae: 0.0217 - val_loss: 0.0045 - val_mae: 0.0517\n",
      "Epoch 522/1000\n",
      "5/5 [==============================] - 0s 73ms/step - loss: 7.8205e-04 - mae: 0.0222 - val_loss: 0.0045 - val_mae: 0.0514\n",
      "Epoch 523/1000\n",
      "5/5 [==============================] - 0s 71ms/step - loss: 8.1048e-04 - mae: 0.0225 - val_loss: 0.0046 - val_mae: 0.0521\n",
      "Epoch 524/1000\n",
      "5/5 [==============================] - 0s 71ms/step - loss: 8.4853e-04 - mae: 0.0231 - val_loss: 0.0046 - val_mae: 0.0525\n",
      "Epoch 525/1000\n",
      "5/5 [==============================] - 0s 72ms/step - loss: 8.3842e-04 - mae: 0.0230 - val_loss: 0.0047 - val_mae: 0.0526\n",
      "Epoch 526/1000\n",
      "5/5 [==============================] - 0s 70ms/step - loss: 9.4092e-04 - mae: 0.0241 - val_loss: 0.0047 - val_mae: 0.0523\n",
      "Epoch 527/1000\n",
      "5/5 [==============================] - 0s 70ms/step - loss: 8.7590e-04 - mae: 0.0235 - val_loss: 0.0048 - val_mae: 0.0528\n",
      "Epoch 528/1000\n",
      "5/5 [==============================] - 0s 75ms/step - loss: 8.5559e-04 - mae: 0.0233 - val_loss: 0.0046 - val_mae: 0.0524\n",
      "Epoch 529/1000\n",
      "5/5 [==============================] - 0s 72ms/step - loss: 7.8656e-04 - mae: 0.0223 - val_loss: 0.0048 - val_mae: 0.0536\n",
      "Epoch 530/1000\n",
      "1/5 [=====>........................] - ETA: 0s - loss: 8.4885e-04 - mae: 0.0232"
     ]
    },
    {
     "name": "stderr",
     "output_type": "stream",
     "text": [
      "WARNING:absl:Found untraced functions such as lstm_cell_layer_call_fn, lstm_cell_layer_call_and_return_conditional_losses while saving (showing 2 of 2). These functions will not be directly callable after loading.\n"
     ]
    },
    {
     "name": "stdout",
     "output_type": "stream",
     "text": [
      "INFO:tensorflow:Assets written to: C:\\Users\\PARK\\Documents\\LAB\\RNN vs LSTM\\FInal Example\\wandb\\run-20221016_021922-3ugkxw4r\\files\\model-best\\assets\n"
     ]
    },
    {
     "name": "stderr",
     "output_type": "stream",
     "text": [
      "INFO:tensorflow:Assets written to: C:\\Users\\PARK\\Documents\\LAB\\RNN vs LSTM\\FInal Example\\wandb\\run-20221016_021922-3ugkxw4r\\files\\model-best\\assets\n",
      "\u001b[34m\u001b[1mwandb\u001b[0m: Adding directory to artifact (C:\\Users\\PARK\\Documents\\LAB\\RNN vs LSTM\\FInal Example\\wandb\\run-20221016_021922-3ugkxw4r\\files\\model-best)... Done. 0.1s\n"
     ]
    },
    {
     "name": "stdout",
     "output_type": "stream",
     "text": [
      "5/5 [==============================] - 4s 1s/step - loss: 7.9643e-04 - mae: 0.0224 - val_loss: 0.0044 - val_mae: 0.0513\n",
      "Epoch 531/1000\n",
      "5/5 [==============================] - 1s 120ms/step - loss: 7.2406e-04 - mae: 0.0214 - val_loss: 0.0045 - val_mae: 0.0515\n",
      "Epoch 532/1000\n",
      "1/5 [=====>........................] - ETA: 0s - loss: 7.2701e-04 - mae: 0.0214"
     ]
    },
    {
     "name": "stderr",
     "output_type": "stream",
     "text": [
      "WARNING:absl:Found untraced functions such as lstm_cell_layer_call_fn, lstm_cell_layer_call_and_return_conditional_losses while saving (showing 2 of 2). These functions will not be directly callable after loading.\n"
     ]
    },
    {
     "name": "stdout",
     "output_type": "stream",
     "text": [
      "INFO:tensorflow:Assets written to: C:\\Users\\PARK\\Documents\\LAB\\RNN vs LSTM\\FInal Example\\wandb\\run-20221016_021922-3ugkxw4r\\files\\model-best\\assets\n"
     ]
    },
    {
     "name": "stderr",
     "output_type": "stream",
     "text": [
      "INFO:tensorflow:Assets written to: C:\\Users\\PARK\\Documents\\LAB\\RNN vs LSTM\\FInal Example\\wandb\\run-20221016_021922-3ugkxw4r\\files\\model-best\\assets\n",
      "\u001b[34m\u001b[1mwandb\u001b[0m: Adding directory to artifact (C:\\Users\\PARK\\Documents\\LAB\\RNN vs LSTM\\FInal Example\\wandb\\run-20221016_021922-3ugkxw4r\\files\\model-best)... Done. 0.1s\n"
     ]
    },
    {
     "name": "stdout",
     "output_type": "stream",
     "text": [
      "5/5 [==============================] - 4s 1s/step - loss: 7.6935e-04 - mae: 0.0221 - val_loss: 0.0044 - val_mae: 0.0512\n",
      "Epoch 533/1000\n",
      "5/5 [==============================] - 1s 123ms/step - loss: 7.1792e-04 - mae: 0.0211 - val_loss: 0.0045 - val_mae: 0.0518\n",
      "Epoch 534/1000\n",
      "5/5 [==============================] - 0s 74ms/step - loss: 7.2324e-04 - mae: 0.0212 - val_loss: 0.0046 - val_mae: 0.0522\n",
      "Epoch 535/1000\n",
      "5/5 [==============================] - 0s 76ms/step - loss: 7.3703e-04 - mae: 0.0217 - val_loss: 0.0045 - val_mae: 0.0513\n",
      "Epoch 536/1000\n",
      "5/5 [==============================] - 0s 71ms/step - loss: 6.6683e-04 - mae: 0.0205 - val_loss: 0.0045 - val_mae: 0.0514\n",
      "Epoch 537/1000\n",
      "5/5 [==============================] - 0s 73ms/step - loss: 6.6908e-04 - mae: 0.0207 - val_loss: 0.0045 - val_mae: 0.0519\n",
      "Epoch 538/1000\n",
      "5/5 [==============================] - 0s 71ms/step - loss: 6.5907e-04 - mae: 0.0205 - val_loss: 0.0045 - val_mae: 0.0512\n",
      "Epoch 539/1000\n",
      "5/5 [==============================] - 0s 76ms/step - loss: 6.3487e-04 - mae: 0.0201 - val_loss: 0.0045 - val_mae: 0.0514\n",
      "Epoch 540/1000\n",
      "5/5 [==============================] - 0s 72ms/step - loss: 6.4317e-04 - mae: 0.0201 - val_loss: 0.0045 - val_mae: 0.0517\n",
      "Epoch 541/1000\n",
      "5/5 [==============================] - 0s 72ms/step - loss: 7.1498e-04 - mae: 0.0212 - val_loss: 0.0046 - val_mae: 0.0523\n",
      "Epoch 542/1000\n",
      "5/5 [==============================] - 0s 77ms/step - loss: 7.0735e-04 - mae: 0.0211 - val_loss: 0.0046 - val_mae: 0.0526\n",
      "Epoch 543/1000\n",
      "5/5 [==============================] - 0s 72ms/step - loss: 7.2028e-04 - mae: 0.0214 - val_loss: 0.0046 - val_mae: 0.0521\n",
      "Epoch 544/1000\n",
      "5/5 [==============================] - 0s 74ms/step - loss: 7.0632e-04 - mae: 0.0210 - val_loss: 0.0044 - val_mae: 0.0512\n",
      "Epoch 545/1000\n",
      "5/5 [==============================] - 0s 75ms/step - loss: 6.4746e-04 - mae: 0.0203 - val_loss: 0.0045 - val_mae: 0.0519\n",
      "Epoch 546/1000\n",
      "5/5 [==============================] - 0s 72ms/step - loss: 6.0863e-04 - mae: 0.0196 - val_loss: 0.0045 - val_mae: 0.0515\n",
      "Epoch 547/1000\n",
      "5/5 [==============================] - 0s 74ms/step - loss: 6.0198e-04 - mae: 0.0195 - val_loss: 0.0045 - val_mae: 0.0515\n",
      "Epoch 548/1000\n",
      "5/5 [==============================] - 0s 74ms/step - loss: 5.7825e-04 - mae: 0.0192 - val_loss: 0.0045 - val_mae: 0.0514\n",
      "Epoch 549/1000\n",
      "5/5 [==============================] - 0s 71ms/step - loss: 5.6434e-04 - mae: 0.0189 - val_loss: 0.0045 - val_mae: 0.0517\n",
      "Epoch 550/1000\n",
      "5/5 [==============================] - 0s 71ms/step - loss: 5.5427e-04 - mae: 0.0185 - val_loss: 0.0045 - val_mae: 0.0519\n",
      "Epoch 551/1000\n",
      "5/5 [==============================] - 0s 71ms/step - loss: 5.7119e-04 - mae: 0.0191 - val_loss: 0.0046 - val_mae: 0.0523\n",
      "Epoch 552/1000\n",
      "5/5 [==============================] - 0s 72ms/step - loss: 5.9365e-04 - mae: 0.0194 - val_loss: 0.0045 - val_mae: 0.0515\n",
      "Epoch 553/1000\n",
      "5/5 [==============================] - 0s 70ms/step - loss: 5.9053e-04 - mae: 0.0192 - val_loss: 0.0046 - val_mae: 0.0523\n",
      "Epoch 554/1000\n",
      "5/5 [==============================] - 0s 70ms/step - loss: 5.8273e-04 - mae: 0.0192 - val_loss: 0.0046 - val_mae: 0.0520\n",
      "Epoch 555/1000\n",
      "5/5 [==============================] - 0s 73ms/step - loss: 5.5188e-04 - mae: 0.0187 - val_loss: 0.0047 - val_mae: 0.0531\n",
      "Epoch 556/1000\n",
      "5/5 [==============================] - 0s 70ms/step - loss: 6.3811e-04 - mae: 0.0201 - val_loss: 0.0047 - val_mae: 0.0530\n",
      "Epoch 557/1000\n",
      "5/5 [==============================] - 0s 71ms/step - loss: 7.3201e-04 - mae: 0.0214 - val_loss: 0.0049 - val_mae: 0.0534\n",
      "Epoch 558/1000\n",
      "5/5 [==============================] - 0s 71ms/step - loss: 0.0011 - mae: 0.0262 - val_loss: 0.0050 - val_mae: 0.0553\n",
      "Epoch 559/1000\n",
      "5/5 [==============================] - 0s 74ms/step - loss: 0.0012 - mae: 0.0274 - val_loss: 0.0059 - val_mae: 0.0612\n",
      "Epoch 560/1000\n",
      "5/5 [==============================] - 0s 72ms/step - loss: 0.0019 - mae: 0.0331 - val_loss: 0.0052 - val_mae: 0.0561\n",
      "Epoch 561/1000\n",
      "5/5 [==============================] - 0s 71ms/step - loss: 0.0014 - mae: 0.0296 - val_loss: 0.0057 - val_mae: 0.0586\n",
      "Epoch 562/1000\n",
      "5/5 [==============================] - 0s 74ms/step - loss: 0.0017 - mae: 0.0324 - val_loss: 0.0060 - val_mae: 0.0594\n",
      "Epoch 563/1000\n",
      "5/5 [==============================] - 0s 73ms/step - loss: 0.0020 - mae: 0.0344 - val_loss: 0.0064 - val_mae: 0.0617\n",
      "Epoch 564/1000\n",
      "5/5 [==============================] - 0s 72ms/step - loss: 0.0025 - mae: 0.0397 - val_loss: 0.0065 - val_mae: 0.0623\n",
      "Epoch 565/1000\n",
      "5/5 [==============================] - 0s 75ms/step - loss: 0.0028 - mae: 0.0410 - val_loss: 0.0065 - val_mae: 0.0631\n",
      "Epoch 566/1000\n",
      "5/5 [==============================] - 0s 72ms/step - loss: 0.0043 - mae: 0.0501 - val_loss: 0.0067 - val_mae: 0.0646\n",
      "Epoch 567/1000\n",
      "5/5 [==============================] - 0s 72ms/step - loss: 0.0032 - mae: 0.0451 - val_loss: 0.0069 - val_mae: 0.0659\n",
      "Epoch 568/1000\n",
      "5/5 [==============================] - 0s 76ms/step - loss: 0.0031 - mae: 0.0440 - val_loss: 0.0072 - val_mae: 0.0675\n",
      "Epoch 569/1000\n",
      "5/5 [==============================] - 0s 72ms/step - loss: 0.0027 - mae: 0.0408 - val_loss: 0.0056 - val_mae: 0.0589\n",
      "Epoch 570/1000\n",
      "5/5 [==============================] - 0s 71ms/step - loss: 0.0021 - mae: 0.0365 - val_loss: 0.0052 - val_mae: 0.0566\n",
      "Epoch 571/1000\n",
      "5/5 [==============================] - 0s 71ms/step - loss: 0.0017 - mae: 0.0331 - val_loss: 0.0049 - val_mae: 0.0545\n",
      "Epoch 572/1000\n",
      "5/5 [==============================] - 0s 73ms/step - loss: 0.0014 - mae: 0.0297 - val_loss: 0.0051 - val_mae: 0.0562\n",
      "Epoch 573/1000\n",
      "5/5 [==============================] - 0s 72ms/step - loss: 0.0014 - mae: 0.0300 - val_loss: 0.0046 - val_mae: 0.0530\n",
      "Epoch 574/1000\n",
      "5/5 [==============================] - 0s 71ms/step - loss: 0.0012 - mae: 0.0275 - val_loss: 0.0048 - val_mae: 0.0539\n",
      "Epoch 575/1000\n",
      "1/5 [=====>........................] - ETA: 0s - loss: 9.6505e-04 - mae: 0.0246"
     ]
    },
    {
     "name": "stderr",
     "output_type": "stream",
     "text": [
      "WARNING:absl:Found untraced functions such as lstm_cell_layer_call_fn, lstm_cell_layer_call_and_return_conditional_losses while saving (showing 2 of 2). These functions will not be directly callable after loading.\n"
     ]
    },
    {
     "name": "stdout",
     "output_type": "stream",
     "text": [
      "INFO:tensorflow:Assets written to: C:\\Users\\PARK\\Documents\\LAB\\RNN vs LSTM\\FInal Example\\wandb\\run-20221016_021922-3ugkxw4r\\files\\model-best\\assets\n"
     ]
    },
    {
     "name": "stderr",
     "output_type": "stream",
     "text": [
      "INFO:tensorflow:Assets written to: C:\\Users\\PARK\\Documents\\LAB\\RNN vs LSTM\\FInal Example\\wandb\\run-20221016_021922-3ugkxw4r\\files\\model-best\\assets\n",
      "\u001b[34m\u001b[1mwandb\u001b[0m: Adding directory to artifact (C:\\Users\\PARK\\Documents\\LAB\\RNN vs LSTM\\FInal Example\\wandb\\run-20221016_021922-3ugkxw4r\\files\\model-best)... Done. 0.1s\n"
     ]
    },
    {
     "name": "stdout",
     "output_type": "stream",
     "text": [
      "5/5 [==============================] - 4s 1s/step - loss: 0.0011 - mae: 0.0262 - val_loss: 0.0044 - val_mae: 0.0519\n",
      "Epoch 576/1000\n",
      "5/5 [==============================] - 1s 128ms/step - loss: 9.0917e-04 - mae: 0.0239 - val_loss: 0.0045 - val_mae: 0.0517\n",
      "Epoch 577/1000\n",
      "5/5 [==============================] - 0s 93ms/step - loss: 7.9551e-04 - mae: 0.0225 - val_loss: 0.0044 - val_mae: 0.0518\n",
      "Epoch 578/1000\n",
      "5/5 [==============================] - 0s 81ms/step - loss: 7.8241e-04 - mae: 0.0222 - val_loss: 0.0044 - val_mae: 0.0515\n",
      "Epoch 579/1000\n",
      "5/5 [==============================] - 0s 73ms/step - loss: 6.6588e-04 - mae: 0.0205 - val_loss: 0.0044 - val_mae: 0.0515\n",
      "Epoch 580/1000\n",
      "5/5 [==============================] - 0s 71ms/step - loss: 7.2215e-04 - mae: 0.0213 - val_loss: 0.0049 - val_mae: 0.0541\n",
      "Epoch 581/1000\n",
      "5/5 [==============================] - 0s 75ms/step - loss: 7.2245e-04 - mae: 0.0212 - val_loss: 0.0044 - val_mae: 0.0510\n",
      "Epoch 582/1000\n",
      "5/5 [==============================] - 0s 73ms/step - loss: 6.6394e-04 - mae: 0.0204 - val_loss: 0.0044 - val_mae: 0.0517\n",
      "Epoch 583/1000\n",
      "5/5 [==============================] - 0s 72ms/step - loss: 6.7813e-04 - mae: 0.0207 - val_loss: 0.0045 - val_mae: 0.0517\n",
      "Epoch 584/1000\n",
      "5/5 [==============================] - 0s 75ms/step - loss: 6.7376e-04 - mae: 0.0207 - val_loss: 0.0045 - val_mae: 0.0519\n",
      "Epoch 585/1000\n",
      "5/5 [==============================] - 0s 73ms/step - loss: 6.2587e-04 - mae: 0.0200 - val_loss: 0.0045 - val_mae: 0.0518\n",
      "Epoch 586/1000\n",
      "5/5 [==============================] - 0s 73ms/step - loss: 5.6501e-04 - mae: 0.0190 - val_loss: 0.0044 - val_mae: 0.0516\n",
      "Epoch 587/1000\n",
      "5/5 [==============================] - 0s 76ms/step - loss: 5.5086e-04 - mae: 0.0187 - val_loss: 0.0044 - val_mae: 0.0515\n",
      "Epoch 588/1000\n",
      "5/5 [==============================] - 0s 71ms/step - loss: 5.1733e-04 - mae: 0.0182 - val_loss: 0.0044 - val_mae: 0.0509\n",
      "Epoch 589/1000\n",
      "5/5 [==============================] - 0s 72ms/step - loss: 4.9037e-04 - mae: 0.0176 - val_loss: 0.0045 - val_mae: 0.0517\n",
      "Epoch 590/1000\n",
      "5/5 [==============================] - 0s 71ms/step - loss: 4.9028e-04 - mae: 0.0176 - val_loss: 0.0044 - val_mae: 0.0511\n",
      "Epoch 591/1000\n",
      "5/5 [==============================] - 0s 73ms/step - loss: 4.6530e-04 - mae: 0.0172 - val_loss: 0.0044 - val_mae: 0.0515\n",
      "Epoch 592/1000\n",
      "5/5 [==============================] - 0s 71ms/step - loss: 4.7412e-04 - mae: 0.0172 - val_loss: 0.0044 - val_mae: 0.0514\n",
      "Epoch 593/1000\n",
      "5/5 [==============================] - 0s 71ms/step - loss: 4.5853e-04 - mae: 0.0170 - val_loss: 0.0044 - val_mae: 0.0511\n",
      "Epoch 594/1000\n",
      "5/5 [==============================] - 0s 73ms/step - loss: 4.2457e-04 - mae: 0.0164 - val_loss: 0.0044 - val_mae: 0.0514\n",
      "Epoch 595/1000\n",
      "5/5 [==============================] - 0s 71ms/step - loss: 4.0366e-04 - mae: 0.0160 - val_loss: 0.0044 - val_mae: 0.0512\n",
      "Epoch 596/1000\n",
      "5/5 [==============================] - 0s 71ms/step - loss: 4.0297e-04 - mae: 0.0160 - val_loss: 0.0045 - val_mae: 0.0518\n",
      "Epoch 597/1000\n",
      "5/5 [==============================] - 0s 75ms/step - loss: 4.0683e-04 - mae: 0.0160 - val_loss: 0.0044 - val_mae: 0.0510\n",
      "Epoch 598/1000\n",
      "5/5 [==============================] - 0s 72ms/step - loss: 4.0571e-04 - mae: 0.0160 - val_loss: 0.0045 - val_mae: 0.0520\n",
      "Epoch 599/1000\n",
      "5/5 [==============================] - 0s 71ms/step - loss: 3.9155e-04 - mae: 0.0157 - val_loss: 0.0045 - val_mae: 0.0517\n",
      "Epoch 600/1000\n",
      "5/5 [==============================] - 0s 72ms/step - loss: 3.8462e-04 - mae: 0.0156 - val_loss: 0.0045 - val_mae: 0.0519\n",
      "Epoch 601/1000\n",
      "5/5 [==============================] - 0s 71ms/step - loss: 3.7608e-04 - mae: 0.0153 - val_loss: 0.0046 - val_mae: 0.0521\n",
      "Epoch 602/1000\n",
      "5/5 [==============================] - 0s 71ms/step - loss: 3.6877e-04 - mae: 0.0152 - val_loss: 0.0045 - val_mae: 0.0520\n",
      "Epoch 603/1000\n",
      "5/5 [==============================] - 0s 70ms/step - loss: 3.7097e-04 - mae: 0.0153 - val_loss: 0.0045 - val_mae: 0.0517\n",
      "Epoch 604/1000\n",
      "5/5 [==============================] - 0s 76ms/step - loss: 3.6693e-04 - mae: 0.0152 - val_loss: 0.0045 - val_mae: 0.0520\n",
      "Epoch 605/1000\n",
      "5/5 [==============================] - 0s 71ms/step - loss: 3.7018e-04 - mae: 0.0152 - val_loss: 0.0046 - val_mae: 0.0521\n",
      "Epoch 606/1000\n",
      "5/5 [==============================] - 0s 71ms/step - loss: 3.8614e-04 - mae: 0.0156 - val_loss: 0.0046 - val_mae: 0.0524\n",
      "Epoch 607/1000\n",
      "5/5 [==============================] - 0s 75ms/step - loss: 3.7317e-04 - mae: 0.0154 - val_loss: 0.0046 - val_mae: 0.0521\n",
      "Epoch 608/1000\n",
      "5/5 [==============================] - 0s 71ms/step - loss: 3.6073e-04 - mae: 0.0150 - val_loss: 0.0046 - val_mae: 0.0524\n",
      "Epoch 609/1000\n",
      "5/5 [==============================] - 0s 73ms/step - loss: 3.5468e-04 - mae: 0.0149 - val_loss: 0.0046 - val_mae: 0.0524\n",
      "Epoch 610/1000\n",
      "5/5 [==============================] - 0s 72ms/step - loss: 3.5824e-04 - mae: 0.0150 - val_loss: 0.0046 - val_mae: 0.0523\n",
      "Epoch 611/1000\n",
      "5/5 [==============================] - 0s 72ms/step - loss: 3.7003e-04 - mae: 0.0152 - val_loss: 0.0045 - val_mae: 0.0524\n",
      "Epoch 612/1000\n",
      "5/5 [==============================] - 0s 72ms/step - loss: 3.6267e-04 - mae: 0.0150 - val_loss: 0.0047 - val_mae: 0.0526\n",
      "Epoch 613/1000\n",
      "5/5 [==============================] - 0s 73ms/step - loss: 3.5626e-04 - mae: 0.0150 - val_loss: 0.0046 - val_mae: 0.0522\n",
      "Epoch 614/1000\n",
      "5/5 [==============================] - 0s 76ms/step - loss: 3.7628e-04 - mae: 0.0153 - val_loss: 0.0047 - val_mae: 0.0530\n",
      "Epoch 615/1000\n",
      "5/5 [==============================] - 0s 74ms/step - loss: 4.0962e-04 - mae: 0.0160 - val_loss: 0.0046 - val_mae: 0.0523\n",
      "Epoch 616/1000\n",
      "5/5 [==============================] - 0s 74ms/step - loss: 3.9768e-04 - mae: 0.0158 - val_loss: 0.0047 - val_mae: 0.0534\n",
      "Epoch 617/1000\n",
      "5/5 [==============================] - 0s 75ms/step - loss: 3.9040e-04 - mae: 0.0157 - val_loss: 0.0047 - val_mae: 0.0528\n",
      "Epoch 618/1000\n",
      "5/5 [==============================] - 0s 71ms/step - loss: 4.3450e-04 - mae: 0.0165 - val_loss: 0.0048 - val_mae: 0.0528\n",
      "Epoch 619/1000\n",
      "5/5 [==============================] - 0s 70ms/step - loss: 4.1190e-04 - mae: 0.0160 - val_loss: 0.0047 - val_mae: 0.0528\n",
      "Epoch 620/1000\n",
      "5/5 [==============================] - 0s 73ms/step - loss: 3.8585e-04 - mae: 0.0156 - val_loss: 0.0047 - val_mae: 0.0531\n",
      "Epoch 621/1000\n",
      "5/5 [==============================] - 0s 71ms/step - loss: 4.3606e-04 - mae: 0.0164 - val_loss: 0.0048 - val_mae: 0.0535\n",
      "Epoch 622/1000\n",
      "5/5 [==============================] - 0s 72ms/step - loss: 4.4221e-04 - mae: 0.0165 - val_loss: 0.0047 - val_mae: 0.0532\n",
      "Epoch 623/1000\n",
      "5/5 [==============================] - 0s 73ms/step - loss: 4.3170e-04 - mae: 0.0165 - val_loss: 0.0048 - val_mae: 0.0535\n",
      "Epoch 624/1000\n",
      "5/5 [==============================] - 0s 73ms/step - loss: 4.1953e-04 - mae: 0.0164 - val_loss: 0.0047 - val_mae: 0.0528\n",
      "Epoch 625/1000\n",
      "5/5 [==============================] - 0s 73ms/step - loss: 4.5858e-04 - mae: 0.0171 - val_loss: 0.0048 - val_mae: 0.0544\n",
      "Epoch 626/1000\n",
      "5/5 [==============================] - 0s 72ms/step - loss: 4.4660e-04 - mae: 0.0168 - val_loss: 0.0049 - val_mae: 0.0538\n",
      "Epoch 627/1000\n",
      "5/5 [==============================] - 0s 75ms/step - loss: 3.8811e-04 - mae: 0.0156 - val_loss: 0.0047 - val_mae: 0.0529\n",
      "Epoch 628/1000\n",
      "5/5 [==============================] - 0s 72ms/step - loss: 4.1120e-04 - mae: 0.0161 - val_loss: 0.0049 - val_mae: 0.0540\n",
      "Epoch 629/1000\n",
      "5/5 [==============================] - 0s 73ms/step - loss: 4.3766e-04 - mae: 0.0166 - val_loss: 0.0048 - val_mae: 0.0533\n",
      "Epoch 630/1000\n",
      "5/5 [==============================] - 0s 77ms/step - loss: 4.1807e-04 - mae: 0.0163 - val_loss: 0.0049 - val_mae: 0.0539\n",
      "Epoch 631/1000\n",
      "5/5 [==============================] - 0s 72ms/step - loss: 3.9335e-04 - mae: 0.0159 - val_loss: 0.0047 - val_mae: 0.0537\n",
      "Epoch 632/1000\n",
      "5/5 [==============================] - 0s 72ms/step - loss: 3.7015e-04 - mae: 0.0154 - val_loss: 0.0048 - val_mae: 0.0531\n",
      "Epoch 633/1000\n",
      "5/5 [==============================] - 0s 73ms/step - loss: 3.5517e-04 - mae: 0.0150 - val_loss: 0.0048 - val_mae: 0.0537\n",
      "Epoch 634/1000\n",
      "5/5 [==============================] - 0s 74ms/step - loss: 3.4265e-04 - mae: 0.0149 - val_loss: 0.0047 - val_mae: 0.0532\n"
     ]
    },
    {
     "name": "stdout",
     "output_type": "stream",
     "text": [
      "Epoch 635/1000\n",
      "5/5 [==============================] - 0s 71ms/step - loss: 3.2830e-04 - mae: 0.0142 - val_loss: 0.0047 - val_mae: 0.0532\n",
      "Epoch 636/1000\n",
      "5/5 [==============================] - 0s 72ms/step - loss: 3.2384e-04 - mae: 0.0144 - val_loss: 0.0047 - val_mae: 0.0536\n",
      "Epoch 637/1000\n",
      "5/5 [==============================] - 0s 73ms/step - loss: 3.1634e-04 - mae: 0.0141 - val_loss: 0.0047 - val_mae: 0.0528\n",
      "Epoch 638/1000\n",
      "5/5 [==============================] - 0s 73ms/step - loss: 3.0371e-04 - mae: 0.0140 - val_loss: 0.0049 - val_mae: 0.0542\n",
      "Epoch 639/1000\n",
      "5/5 [==============================] - 0s 71ms/step - loss: 3.1559e-04 - mae: 0.0141 - val_loss: 0.0048 - val_mae: 0.0537\n",
      "Epoch 640/1000\n",
      "5/5 [==============================] - 0s 75ms/step - loss: 3.1620e-04 - mae: 0.0141 - val_loss: 0.0048 - val_mae: 0.0536\n",
      "Epoch 641/1000\n",
      "5/5 [==============================] - 0s 72ms/step - loss: 2.9991e-04 - mae: 0.0137 - val_loss: 0.0047 - val_mae: 0.0530\n",
      "Epoch 642/1000\n",
      "5/5 [==============================] - 0s 71ms/step - loss: 2.8584e-04 - mae: 0.0134 - val_loss: 0.0049 - val_mae: 0.0541\n",
      "Epoch 643/1000\n",
      "5/5 [==============================] - 0s 74ms/step - loss: 2.9460e-04 - mae: 0.0136 - val_loss: 0.0048 - val_mae: 0.0537\n",
      "Epoch 644/1000\n",
      "5/5 [==============================] - 0s 70ms/step - loss: 3.1083e-04 - mae: 0.0139 - val_loss: 0.0049 - val_mae: 0.0537\n",
      "Epoch 645/1000\n",
      "5/5 [==============================] - 0s 71ms/step - loss: 2.9873e-04 - mae: 0.0137 - val_loss: 0.0047 - val_mae: 0.0528\n",
      "Epoch 646/1000\n",
      "5/5 [==============================] - 0s 71ms/step - loss: 3.1756e-04 - mae: 0.0140 - val_loss: 0.0049 - val_mae: 0.0544\n",
      "Epoch 647/1000\n",
      "5/5 [==============================] - 0s 74ms/step - loss: 3.0397e-04 - mae: 0.0138 - val_loss: 0.0048 - val_mae: 0.0539\n",
      "Epoch 648/1000\n",
      "5/5 [==============================] - 0s 71ms/step - loss: 2.9207e-04 - mae: 0.0134 - val_loss: 0.0048 - val_mae: 0.0537\n",
      "Epoch 649/1000\n",
      "5/5 [==============================] - 0s 71ms/step - loss: 2.6169e-04 - mae: 0.0127 - val_loss: 0.0048 - val_mae: 0.0537\n",
      "Epoch 650/1000\n",
      "5/5 [==============================] - 0s 74ms/step - loss: 2.7001e-04 - mae: 0.0131 - val_loss: 0.0048 - val_mae: 0.0535\n",
      "Epoch 651/1000\n",
      "5/5 [==============================] - 0s 71ms/step - loss: 2.7341e-04 - mae: 0.0130 - val_loss: 0.0049 - val_mae: 0.0546\n",
      "Epoch 652/1000\n",
      "5/5 [==============================] - 0s 71ms/step - loss: 2.6925e-04 - mae: 0.0128 - val_loss: 0.0049 - val_mae: 0.0542\n",
      "Epoch 653/1000\n",
      "5/5 [==============================] - 0s 72ms/step - loss: 2.9356e-04 - mae: 0.0136 - val_loss: 0.0050 - val_mae: 0.0542\n",
      "Epoch 654/1000\n",
      "5/5 [==============================] - 0s 71ms/step - loss: 3.0804e-04 - mae: 0.0139 - val_loss: 0.0049 - val_mae: 0.0541\n",
      "Epoch 655/1000\n",
      "5/5 [==============================] - 0s 72ms/step - loss: 3.3257e-04 - mae: 0.0144 - val_loss: 0.0050 - val_mae: 0.0551\n",
      "Epoch 656/1000\n",
      "5/5 [==============================] - 0s 70ms/step - loss: 3.4184e-04 - mae: 0.0145 - val_loss: 0.0048 - val_mae: 0.0540\n",
      "Epoch 657/1000\n",
      "5/5 [==============================] - 0s 72ms/step - loss: 3.5949e-04 - mae: 0.0151 - val_loss: 0.0051 - val_mae: 0.0551\n",
      "Epoch 658/1000\n",
      "5/5 [==============================] - 0s 71ms/step - loss: 3.4627e-04 - mae: 0.0147 - val_loss: 0.0048 - val_mae: 0.0537\n",
      "Epoch 659/1000\n",
      "5/5 [==============================] - 0s 71ms/step - loss: 3.8070e-04 - mae: 0.0155 - val_loss: 0.0050 - val_mae: 0.0547\n",
      "Epoch 660/1000\n",
      "5/5 [==============================] - 0s 76ms/step - loss: 3.4561e-04 - mae: 0.0146 - val_loss: 0.0049 - val_mae: 0.0542\n",
      "Epoch 661/1000\n",
      "5/5 [==============================] - 0s 72ms/step - loss: 2.9600e-04 - mae: 0.0135 - val_loss: 0.0049 - val_mae: 0.0539\n",
      "Epoch 662/1000\n",
      "5/5 [==============================] - 0s 72ms/step - loss: 2.8970e-04 - mae: 0.0133 - val_loss: 0.0049 - val_mae: 0.0540\n",
      "Epoch 663/1000\n",
      "5/5 [==============================] - 0s 75ms/step - loss: 2.9939e-04 - mae: 0.0137 - val_loss: 0.0049 - val_mae: 0.0541\n",
      "Epoch 664/1000\n",
      "5/5 [==============================] - 0s 72ms/step - loss: 2.9701e-04 - mae: 0.0137 - val_loss: 0.0049 - val_mae: 0.0542\n",
      "Epoch 665/1000\n",
      "5/5 [==============================] - 0s 71ms/step - loss: 3.1819e-04 - mae: 0.0141 - val_loss: 0.0050 - val_mae: 0.0546\n",
      "Epoch 666/1000\n",
      "5/5 [==============================] - 0s 71ms/step - loss: 3.2583e-04 - mae: 0.0142 - val_loss: 0.0050 - val_mae: 0.0550\n",
      "Epoch 667/1000\n",
      "5/5 [==============================] - 0s 73ms/step - loss: 3.1100e-04 - mae: 0.0137 - val_loss: 0.0050 - val_mae: 0.0545\n",
      "Epoch 668/1000\n",
      "5/5 [==============================] - 0s 71ms/step - loss: 3.2875e-04 - mae: 0.0144 - val_loss: 0.0049 - val_mae: 0.0546\n",
      "Epoch 669/1000\n",
      "5/5 [==============================] - 0s 70ms/step - loss: 3.3867e-04 - mae: 0.0144 - val_loss: 0.0050 - val_mae: 0.0552\n",
      "Epoch 670/1000\n",
      "5/5 [==============================] - 0s 74ms/step - loss: 3.3219e-04 - mae: 0.0144 - val_loss: 0.0049 - val_mae: 0.0544\n",
      "Epoch 671/1000\n",
      "5/5 [==============================] - 0s 73ms/step - loss: 3.3152e-04 - mae: 0.0144 - val_loss: 0.0050 - val_mae: 0.0557\n",
      "Epoch 672/1000\n",
      "5/5 [==============================] - 0s 71ms/step - loss: 3.3768e-04 - mae: 0.0144 - val_loss: 0.0050 - val_mae: 0.0543\n",
      "Epoch 673/1000\n",
      "5/5 [==============================] - 0s 74ms/step - loss: 4.2799e-04 - mae: 0.0161 - val_loss: 0.0052 - val_mae: 0.0554\n",
      "Epoch 674/1000\n",
      "5/5 [==============================] - 0s 71ms/step - loss: 5.2394e-04 - mae: 0.0179 - val_loss: 0.0054 - val_mae: 0.0561\n",
      "Epoch 675/1000\n",
      "5/5 [==============================] - 0s 70ms/step - loss: 5.6577e-04 - mae: 0.0186 - val_loss: 0.0048 - val_mae: 0.0535\n",
      "Epoch 676/1000\n",
      "5/5 [==============================] - 0s 72ms/step - loss: 4.8888e-04 - mae: 0.0175 - val_loss: 0.0051 - val_mae: 0.0557\n",
      "Epoch 677/1000\n",
      "5/5 [==============================] - 0s 74ms/step - loss: 4.3726e-04 - mae: 0.0166 - val_loss: 0.0049 - val_mae: 0.0540\n",
      "Epoch 678/1000\n",
      "5/5 [==============================] - 0s 71ms/step - loss: 4.5773e-04 - mae: 0.0169 - val_loss: 0.0050 - val_mae: 0.0552\n",
      "Epoch 679/1000\n",
      "5/5 [==============================] - 0s 71ms/step - loss: 6.0814e-04 - mae: 0.0191 - val_loss: 0.0055 - val_mae: 0.0572\n",
      "Epoch 680/1000\n",
      "5/5 [==============================] - 0s 75ms/step - loss: 0.0011 - mae: 0.0254 - val_loss: 0.0072 - val_mae: 0.0659\n",
      "Epoch 681/1000\n",
      "5/5 [==============================] - 0s 73ms/step - loss: 0.0031 - mae: 0.0434 - val_loss: 0.0083 - val_mae: 0.0698\n",
      "Epoch 682/1000\n",
      "5/5 [==============================] - 0s 72ms/step - loss: 0.1709 - mae: 0.2530 - val_loss: 0.1866 - val_mae: 0.3417\n",
      "Epoch 683/1000\n",
      "5/5 [==============================] - 0s 75ms/step - loss: 0.2940 - mae: 0.4219 - val_loss: 0.3053 - val_mae: 0.4532\n",
      "Epoch 684/1000\n",
      "5/5 [==============================] - 0s 73ms/step - loss: 0.5583 - mae: 0.5834 - val_loss: 0.5747 - val_mae: 0.6235\n",
      "Epoch 685/1000\n",
      "5/5 [==============================] - 0s 74ms/step - loss: 0.3538 - mae: 0.4738 - val_loss: 0.3061 - val_mae: 0.4468\n",
      "Epoch 686/1000\n",
      "5/5 [==============================] - 0s 71ms/step - loss: 0.2544 - mae: 0.4105 - val_loss: 0.2421 - val_mae: 0.4020\n",
      "Epoch 687/1000\n",
      "5/5 [==============================] - 0s 72ms/step - loss: 0.2280 - mae: 0.3898 - val_loss: 0.2172 - val_mae: 0.3828\n",
      "Epoch 688/1000\n",
      "5/5 [==============================] - 0s 72ms/step - loss: 0.2054 - mae: 0.3718 - val_loss: 0.1825 - val_mae: 0.3540\n",
      "Epoch 689/1000\n",
      "5/5 [==============================] - 0s 72ms/step - loss: 0.1954 - mae: 0.3655 - val_loss: 0.1797 - val_mae: 0.3559\n",
      "Epoch 690/1000\n",
      "5/5 [==============================] - 0s 74ms/step - loss: 0.1907 - mae: 0.3595 - val_loss: 0.1912 - val_mae: 0.3605\n",
      "Epoch 691/1000\n",
      "5/5 [==============================] - 0s 72ms/step - loss: 0.2129 - mae: 0.3818 - val_loss: 0.1748 - val_mae: 0.3503\n",
      "Epoch 692/1000\n",
      "5/5 [==============================] - 0s 72ms/step - loss: 0.1886 - mae: 0.3561 - val_loss: 0.1793 - val_mae: 0.3511\n",
      "Epoch 693/1000\n",
      "5/5 [==============================] - 0s 75ms/step - loss: 0.1841 - mae: 0.3542 - val_loss: 0.1745 - val_mae: 0.3481\n",
      "Epoch 694/1000\n",
      "5/5 [==============================] - 0s 71ms/step - loss: 0.1883 - mae: 0.3552 - val_loss: 0.1698 - val_mae: 0.3437\n",
      "Epoch 695/1000\n"
     ]
    },
    {
     "name": "stdout",
     "output_type": "stream",
     "text": [
      "5/5 [==============================] - 0s 72ms/step - loss: 0.1767 - mae: 0.3477 - val_loss: 0.1727 - val_mae: 0.3428\n",
      "Epoch 696/1000\n",
      "5/5 [==============================] - 0s 75ms/step - loss: 0.1693 - mae: 0.3385 - val_loss: 0.1660 - val_mae: 0.3422\n",
      "Epoch 697/1000\n",
      "5/5 [==============================] - 0s 72ms/step - loss: 0.1694 - mae: 0.3395 - val_loss: 0.1642 - val_mae: 0.3355\n",
      "Epoch 698/1000\n",
      "5/5 [==============================] - 0s 71ms/step - loss: 0.1649 - mae: 0.3357 - val_loss: 0.1596 - val_mae: 0.3335\n",
      "Epoch 699/1000\n",
      "5/5 [==============================] - 0s 71ms/step - loss: 0.1611 - mae: 0.3328 - val_loss: 0.1569 - val_mae: 0.3308\n",
      "Epoch 700/1000\n",
      "5/5 [==============================] - 0s 73ms/step - loss: 0.1570 - mae: 0.3281 - val_loss: 0.1537 - val_mae: 0.3270\n",
      "Epoch 701/1000\n",
      "5/5 [==============================] - 0s 70ms/step - loss: 0.1546 - mae: 0.3263 - val_loss: 0.1479 - val_mae: 0.3205\n",
      "Epoch 702/1000\n",
      "5/5 [==============================] - 0s 71ms/step - loss: 0.1493 - mae: 0.3203 - val_loss: 0.1391 - val_mae: 0.3118\n",
      "Epoch 703/1000\n",
      "5/5 [==============================] - 0s 73ms/step - loss: 0.1417 - mae: 0.3118 - val_loss: 0.1487 - val_mae: 0.3172\n",
      "Epoch 704/1000\n",
      "5/5 [==============================] - 0s 73ms/step - loss: 0.1396 - mae: 0.3064 - val_loss: 0.1268 - val_mae: 0.2954\n",
      "Epoch 705/1000\n",
      "5/5 [==============================] - 0s 73ms/step - loss: 0.1387 - mae: 0.3070 - val_loss: 0.1160 - val_mae: 0.2823\n",
      "Epoch 706/1000\n",
      "5/5 [==============================] - 0s 74ms/step - loss: 0.1375 - mae: 0.3049 - val_loss: 0.1435 - val_mae: 0.3107\n",
      "Epoch 707/1000\n",
      "5/5 [==============================] - 0s 71ms/step - loss: 0.1249 - mae: 0.2858 - val_loss: 0.1039 - val_mae: 0.2661\n",
      "Epoch 708/1000\n",
      "5/5 [==============================] - 0s 71ms/step - loss: 0.1097 - mae: 0.2711 - val_loss: 0.0926 - val_mae: 0.2495\n",
      "Epoch 709/1000\n",
      "5/5 [==============================] - 0s 71ms/step - loss: 0.0945 - mae: 0.2495 - val_loss: 0.0770 - val_mae: 0.2234\n",
      "Epoch 710/1000\n",
      "5/5 [==============================] - 0s 72ms/step - loss: 0.0856 - mae: 0.2338 - val_loss: 0.0780 - val_mae: 0.2193\n",
      "Epoch 711/1000\n",
      "5/5 [==============================] - 0s 70ms/step - loss: 0.0732 - mae: 0.2148 - val_loss: 0.0598 - val_mae: 0.1889\n",
      "Epoch 712/1000\n",
      "5/5 [==============================] - 0s 70ms/step - loss: 0.0922 - mae: 0.2427 - val_loss: 0.0628 - val_mae: 0.1957\n",
      "Epoch 713/1000\n",
      "5/5 [==============================] - 0s 75ms/step - loss: 0.0886 - mae: 0.2349 - val_loss: 0.0788 - val_mae: 0.2217\n",
      "Epoch 714/1000\n",
      "5/5 [==============================] - 0s 73ms/step - loss: 0.0832 - mae: 0.2290 - val_loss: 0.0640 - val_mae: 0.1984\n",
      "Epoch 715/1000\n",
      "5/5 [==============================] - 0s 71ms/step - loss: 0.0747 - mae: 0.2153 - val_loss: 0.0643 - val_mae: 0.1997\n",
      "Epoch 716/1000\n",
      "5/5 [==============================] - 0s 73ms/step - loss: 0.0674 - mae: 0.2023 - val_loss: 0.0670 - val_mae: 0.2064\n",
      "Epoch 717/1000\n",
      "5/5 [==============================] - 0s 72ms/step - loss: 0.0675 - mae: 0.2025 - val_loss: 0.0596 - val_mae: 0.1901\n",
      "Epoch 718/1000\n",
      "5/5 [==============================] - 0s 74ms/step - loss: 0.0682 - mae: 0.2044 - val_loss: 0.0652 - val_mae: 0.1950\n",
      "Epoch 719/1000\n",
      "5/5 [==============================] - 0s 71ms/step - loss: 0.0691 - mae: 0.2042 - val_loss: 0.0706 - val_mae: 0.2041\n",
      "Epoch 720/1000\n",
      "5/5 [==============================] - 0s 73ms/step - loss: 0.0657 - mae: 0.2002 - val_loss: 0.0615 - val_mae: 0.1906\n",
      "Epoch 721/1000\n",
      "5/5 [==============================] - 0s 72ms/step - loss: 0.0611 - mae: 0.1906 - val_loss: 0.0603 - val_mae: 0.1863\n",
      "Epoch 722/1000\n",
      "5/5 [==============================] - 0s 71ms/step - loss: 0.0616 - mae: 0.1921 - val_loss: 0.0596 - val_mae: 0.1853\n",
      "Epoch 723/1000\n",
      "5/5 [==============================] - 0s 74ms/step - loss: 0.0600 - mae: 0.1891 - val_loss: 0.0576 - val_mae: 0.1837\n",
      "Epoch 724/1000\n",
      "5/5 [==============================] - 0s 71ms/step - loss: 0.0596 - mae: 0.1881 - val_loss: 0.0637 - val_mae: 0.1919\n",
      "Epoch 725/1000\n",
      "5/5 [==============================] - 0s 71ms/step - loss: 0.0615 - mae: 0.1912 - val_loss: 0.0689 - val_mae: 0.1997\n",
      "Epoch 726/1000\n",
      "5/5 [==============================] - 0s 75ms/step - loss: 0.0614 - mae: 0.1922 - val_loss: 0.0689 - val_mae: 0.1998\n",
      "Epoch 727/1000\n",
      "5/5 [==============================] - 0s 72ms/step - loss: 0.0602 - mae: 0.1887 - val_loss: 0.0735 - val_mae: 0.2071\n",
      "Epoch 728/1000\n",
      "5/5 [==============================] - 0s 73ms/step - loss: 0.0639 - mae: 0.1975 - val_loss: 0.0810 - val_mae: 0.2215\n",
      "Epoch 729/1000\n",
      "5/5 [==============================] - 0s 75ms/step - loss: 0.0657 - mae: 0.2004 - val_loss: 0.0574 - val_mae: 0.1840\n",
      "Epoch 730/1000\n",
      "5/5 [==============================] - 0s 74ms/step - loss: 0.0598 - mae: 0.1870 - val_loss: 0.0593 - val_mae: 0.1917\n",
      "Epoch 731/1000\n",
      "5/5 [==============================] - 0s 73ms/step - loss: 0.0609 - mae: 0.1921 - val_loss: 0.0561 - val_mae: 0.1831\n",
      "Epoch 732/1000\n",
      "5/5 [==============================] - 0s 70ms/step - loss: 0.0613 - mae: 0.1924 - val_loss: 0.0626 - val_mae: 0.2008\n",
      "Epoch 733/1000\n",
      "5/5 [==============================] - 0s 72ms/step - loss: 0.0636 - mae: 0.1955 - val_loss: 0.0611 - val_mae: 0.1948\n",
      "Epoch 734/1000\n",
      "5/5 [==============================] - 0s 72ms/step - loss: 0.0623 - mae: 0.1930 - val_loss: 0.0642 - val_mae: 0.2045\n",
      "Epoch 735/1000\n",
      "5/5 [==============================] - 0s 71ms/step - loss: 0.0642 - mae: 0.1971 - val_loss: 0.0574 - val_mae: 0.1865\n",
      "Epoch 736/1000\n",
      "5/5 [==============================] - 0s 74ms/step - loss: 0.0592 - mae: 0.1871 - val_loss: 0.0574 - val_mae: 0.1843\n",
      "Epoch 737/1000\n",
      "5/5 [==============================] - 0s 71ms/step - loss: 0.0571 - mae: 0.1834 - val_loss: 0.0564 - val_mae: 0.1830\n",
      "Epoch 738/1000\n",
      "5/5 [==============================] - 0s 71ms/step - loss: 0.0575 - mae: 0.1860 - val_loss: 0.0550 - val_mae: 0.1791\n",
      "Epoch 739/1000\n",
      "5/5 [==============================] - 0s 75ms/step - loss: 0.0574 - mae: 0.1842 - val_loss: 0.0563 - val_mae: 0.1806\n",
      "Epoch 740/1000\n",
      "5/5 [==============================] - 0s 72ms/step - loss: 0.0582 - mae: 0.1861 - val_loss: 0.0566 - val_mae: 0.1825\n",
      "Epoch 741/1000\n",
      "5/5 [==============================] - 0s 71ms/step - loss: 0.0574 - mae: 0.1847 - val_loss: 0.0554 - val_mae: 0.1794\n",
      "Epoch 742/1000\n",
      "5/5 [==============================] - 0s 71ms/step - loss: 0.0564 - mae: 0.1819 - val_loss: 0.0578 - val_mae: 0.1810\n",
      "Epoch 743/1000\n",
      "5/5 [==============================] - 0s 71ms/step - loss: 0.0574 - mae: 0.1846 - val_loss: 0.0648 - val_mae: 0.1930\n",
      "Epoch 744/1000\n",
      "5/5 [==============================] - 0s 70ms/step - loss: 0.0591 - mae: 0.1881 - val_loss: 0.0581 - val_mae: 0.1827\n",
      "Epoch 745/1000\n",
      "5/5 [==============================] - 0s 70ms/step - loss: 0.0577 - mae: 0.1851 - val_loss: 0.0552 - val_mae: 0.1793\n",
      "Epoch 746/1000\n",
      "5/5 [==============================] - 0s 74ms/step - loss: 0.0562 - mae: 0.1827 - val_loss: 0.0562 - val_mae: 0.1796\n",
      "Epoch 747/1000\n",
      "5/5 [==============================] - 0s 70ms/step - loss: 0.0557 - mae: 0.1802 - val_loss: 0.0557 - val_mae: 0.1803\n",
      "Epoch 748/1000\n",
      "5/5 [==============================] - 0s 71ms/step - loss: 0.0557 - mae: 0.1809 - val_loss: 0.0561 - val_mae: 0.1827\n",
      "Epoch 749/1000\n",
      "5/5 [==============================] - 0s 75ms/step - loss: 0.0565 - mae: 0.1821 - val_loss: 0.0557 - val_mae: 0.1816\n",
      "Epoch 750/1000\n",
      "5/5 [==============================] - 0s 71ms/step - loss: 0.0573 - mae: 0.1840 - val_loss: 0.0561 - val_mae: 0.1797\n",
      "Epoch 751/1000\n",
      "5/5 [==============================] - 0s 71ms/step - loss: 0.0576 - mae: 0.1856 - val_loss: 0.0653 - val_mae: 0.1939\n",
      "Epoch 752/1000\n",
      "5/5 [==============================] - 0s 71ms/step - loss: 0.0594 - mae: 0.1884 - val_loss: 0.0581 - val_mae: 0.1815\n",
      "Epoch 753/1000\n",
      "5/5 [==============================] - 0s 74ms/step - loss: 0.0555 - mae: 0.1810 - val_loss: 0.0568 - val_mae: 0.1808\n",
      "Epoch 754/1000\n",
      "5/5 [==============================] - 0s 75ms/step - loss: 0.0566 - mae: 0.1833 - val_loss: 0.0588 - val_mae: 0.1831\n",
      "Epoch 755/1000\n",
      "5/5 [==============================] - 0s 71ms/step - loss: 0.0588 - mae: 0.1881 - val_loss: 0.0594 - val_mae: 0.1836\n",
      "Epoch 756/1000\n",
      "5/5 [==============================] - 0s 74ms/step - loss: 0.0599 - mae: 0.1891 - val_loss: 0.0557 - val_mae: 0.1803\n"
     ]
    },
    {
     "name": "stdout",
     "output_type": "stream",
     "text": [
      "Epoch 757/1000\n",
      "5/5 [==============================] - 0s 72ms/step - loss: 0.0567 - mae: 0.1831 - val_loss: 0.0547 - val_mae: 0.1803\n",
      "Epoch 758/1000\n",
      "5/5 [==============================] - 0s 71ms/step - loss: 0.0561 - mae: 0.1832 - val_loss: 0.0555 - val_mae: 0.1786\n",
      "Epoch 759/1000\n",
      "5/5 [==============================] - 0s 74ms/step - loss: 0.0567 - mae: 0.1823 - val_loss: 0.0554 - val_mae: 0.1781\n",
      "Epoch 760/1000\n",
      "5/5 [==============================] - 0s 72ms/step - loss: 0.0582 - mae: 0.1860 - val_loss: 0.0567 - val_mae: 0.1861\n",
      "Epoch 761/1000\n",
      "5/5 [==============================] - 0s 71ms/step - loss: 0.0576 - mae: 0.1874 - val_loss: 0.0555 - val_mae: 0.1815\n",
      "Epoch 762/1000\n",
      "5/5 [==============================] - 0s 74ms/step - loss: 0.0559 - mae: 0.1809 - val_loss: 0.0582 - val_mae: 0.1906\n",
      "Epoch 763/1000\n",
      "5/5 [==============================] - 0s 74ms/step - loss: 0.0581 - mae: 0.1864 - val_loss: 0.0567 - val_mae: 0.1834\n",
      "Epoch 764/1000\n",
      "5/5 [==============================] - 0s 70ms/step - loss: 0.0559 - mae: 0.1815 - val_loss: 0.0574 - val_mae: 0.1887\n",
      "Epoch 765/1000\n",
      "5/5 [==============================] - 0s 71ms/step - loss: 0.0567 - mae: 0.1846 - val_loss: 0.0579 - val_mae: 0.1869\n",
      "Epoch 766/1000\n",
      "5/5 [==============================] - 0s 72ms/step - loss: 0.0565 - mae: 0.1823 - val_loss: 0.0563 - val_mae: 0.1831\n",
      "Epoch 767/1000\n",
      "5/5 [==============================] - 0s 71ms/step - loss: 0.0552 - mae: 0.1792 - val_loss: 0.0580 - val_mae: 0.1904\n",
      "Epoch 768/1000\n",
      "5/5 [==============================] - 0s 71ms/step - loss: 0.0569 - mae: 0.1849 - val_loss: 0.0558 - val_mae: 0.1833\n",
      "Epoch 769/1000\n",
      "5/5 [==============================] - 0s 73ms/step - loss: 0.0560 - mae: 0.1817 - val_loss: 0.0560 - val_mae: 0.1826\n",
      "Epoch 770/1000\n",
      "5/5 [==============================] - 0s 75ms/step - loss: 0.0548 - mae: 0.1793 - val_loss: 0.0553 - val_mae: 0.1786\n",
      "Epoch 771/1000\n",
      "5/5 [==============================] - 0s 72ms/step - loss: 0.0544 - mae: 0.1779 - val_loss: 0.0537 - val_mae: 0.1759\n",
      "Epoch 772/1000\n",
      "5/5 [==============================] - 0s 73ms/step - loss: 0.0551 - mae: 0.1800 - val_loss: 0.0556 - val_mae: 0.1777\n",
      "Epoch 773/1000\n",
      "5/5 [==============================] - 0s 71ms/step - loss: 0.0534 - mae: 0.1762 - val_loss: 0.0541 - val_mae: 0.1760\n",
      "Epoch 774/1000\n",
      "5/5 [==============================] - 0s 71ms/step - loss: 0.0530 - mae: 0.1751 - val_loss: 0.0555 - val_mae: 0.1784\n",
      "Epoch 775/1000\n",
      "5/5 [==============================] - 0s 72ms/step - loss: 0.0532 - mae: 0.1763 - val_loss: 0.0552 - val_mae: 0.1775\n",
      "Epoch 776/1000\n",
      "5/5 [==============================] - 0s 74ms/step - loss: 0.0528 - mae: 0.1755 - val_loss: 0.0542 - val_mae: 0.1779\n",
      "Epoch 777/1000\n",
      "5/5 [==============================] - 0s 73ms/step - loss: 0.0532 - mae: 0.1758 - val_loss: 0.0548 - val_mae: 0.1793\n",
      "Epoch 778/1000\n",
      "5/5 [==============================] - 0s 72ms/step - loss: 0.0537 - mae: 0.1774 - val_loss: 0.0551 - val_mae: 0.1813\n",
      "Epoch 779/1000\n",
      "5/5 [==============================] - 0s 75ms/step - loss: 0.0551 - mae: 0.1815 - val_loss: 0.0580 - val_mae: 0.1830\n",
      "Epoch 780/1000\n",
      "5/5 [==============================] - 0s 71ms/step - loss: 0.0557 - mae: 0.1823 - val_loss: 0.0628 - val_mae: 0.1876\n",
      "Epoch 781/1000\n",
      "5/5 [==============================] - 0s 72ms/step - loss: 0.0566 - mae: 0.1828 - val_loss: 0.0568 - val_mae: 0.1789\n",
      "Epoch 782/1000\n",
      "5/5 [==============================] - 0s 75ms/step - loss: 0.0543 - mae: 0.1786 - val_loss: 0.0539 - val_mae: 0.1768\n",
      "Epoch 783/1000\n",
      "5/5 [==============================] - 0s 71ms/step - loss: 0.0530 - mae: 0.1767 - val_loss: 0.0542 - val_mae: 0.1762\n",
      "Epoch 784/1000\n",
      "5/5 [==============================] - 0s 71ms/step - loss: 0.0531 - mae: 0.1762 - val_loss: 0.0565 - val_mae: 0.1782\n",
      "Epoch 785/1000\n",
      "5/5 [==============================] - 0s 72ms/step - loss: 0.0527 - mae: 0.1747 - val_loss: 0.0548 - val_mae: 0.1760\n",
      "Epoch 786/1000\n",
      "5/5 [==============================] - 0s 71ms/step - loss: 0.0531 - mae: 0.1766 - val_loss: 0.0549 - val_mae: 0.1762\n",
      "Epoch 787/1000\n",
      "5/5 [==============================] - 0s 70ms/step - loss: 0.0526 - mae: 0.1753 - val_loss: 0.0565 - val_mae: 0.1788\n",
      "Epoch 788/1000\n",
      "5/5 [==============================] - 0s 70ms/step - loss: 0.0532 - mae: 0.1768 - val_loss: 0.0573 - val_mae: 0.1784\n",
      "Epoch 789/1000\n",
      "5/5 [==============================] - 0s 72ms/step - loss: 0.0548 - mae: 0.1805 - val_loss: 0.0651 - val_mae: 0.1971\n",
      "Epoch 790/1000\n",
      "5/5 [==============================] - 0s 71ms/step - loss: 0.0566 - mae: 0.1846 - val_loss: 0.0645 - val_mae: 0.1902\n",
      "Epoch 791/1000\n",
      "5/5 [==============================] - 0s 70ms/step - loss: 0.0562 - mae: 0.1828 - val_loss: 0.0606 - val_mae: 0.1859\n",
      "Epoch 792/1000\n",
      "5/5 [==============================] - 0s 75ms/step - loss: 0.0545 - mae: 0.1788 - val_loss: 0.0564 - val_mae: 0.1783\n",
      "Epoch 793/1000\n",
      "5/5 [==============================] - 0s 75ms/step - loss: 0.0531 - mae: 0.1766 - val_loss: 0.0546 - val_mae: 0.1763\n",
      "Epoch 794/1000\n",
      "5/5 [==============================] - 0s 72ms/step - loss: 0.0524 - mae: 0.1741 - val_loss: 0.0558 - val_mae: 0.1771\n",
      "Epoch 795/1000\n",
      "5/5 [==============================] - 0s 74ms/step - loss: 0.0525 - mae: 0.1751 - val_loss: 0.0562 - val_mae: 0.1769\n",
      "Epoch 796/1000\n",
      "5/5 [==============================] - 0s 72ms/step - loss: 0.0524 - mae: 0.1743 - val_loss: 0.0545 - val_mae: 0.1765\n",
      "Epoch 797/1000\n",
      "5/5 [==============================] - 0s 73ms/step - loss: 0.0523 - mae: 0.1738 - val_loss: 0.0544 - val_mae: 0.1755\n",
      "Epoch 798/1000\n",
      "5/5 [==============================] - 0s 72ms/step - loss: 0.0518 - mae: 0.1737 - val_loss: 0.0541 - val_mae: 0.1756\n",
      "Epoch 799/1000\n",
      "5/5 [==============================] - 0s 73ms/step - loss: 0.0526 - mae: 0.1760 - val_loss: 0.0537 - val_mae: 0.1758\n",
      "Epoch 800/1000\n",
      "5/5 [==============================] - 0s 73ms/step - loss: 0.0512 - mae: 0.1728 - val_loss: 0.0535 - val_mae: 0.1749\n",
      "Epoch 801/1000\n",
      "5/5 [==============================] - 0s 71ms/step - loss: 0.0509 - mae: 0.1711 - val_loss: 0.0542 - val_mae: 0.1764\n",
      "Epoch 802/1000\n",
      "5/5 [==============================] - 0s 72ms/step - loss: 0.0507 - mae: 0.1719 - val_loss: 0.0536 - val_mae: 0.1749\n",
      "Epoch 803/1000\n",
      "5/5 [==============================] - 0s 72ms/step - loss: 0.0511 - mae: 0.1723 - val_loss: 0.0534 - val_mae: 0.1743\n",
      "Epoch 804/1000\n",
      "5/5 [==============================] - 0s 72ms/step - loss: 0.0503 - mae: 0.1706 - val_loss: 0.0535 - val_mae: 0.1747\n",
      "Epoch 805/1000\n",
      "5/5 [==============================] - 0s 75ms/step - loss: 0.0507 - mae: 0.1710 - val_loss: 0.0542 - val_mae: 0.1785\n",
      "Epoch 806/1000\n",
      "5/5 [==============================] - 0s 72ms/step - loss: 0.0510 - mae: 0.1731 - val_loss: 0.0538 - val_mae: 0.1763\n",
      "Epoch 807/1000\n",
      "5/5 [==============================] - 0s 70ms/step - loss: 0.0508 - mae: 0.1709 - val_loss: 0.0526 - val_mae: 0.1746\n",
      "Epoch 808/1000\n",
      "5/5 [==============================] - 0s 70ms/step - loss: 0.0515 - mae: 0.1733 - val_loss: 0.0575 - val_mae: 0.1782\n",
      "Epoch 809/1000\n",
      "5/5 [==============================] - 0s 72ms/step - loss: 0.0512 - mae: 0.1723 - val_loss: 0.0556 - val_mae: 0.1762\n",
      "Epoch 810/1000\n",
      "5/5 [==============================] - 0s 71ms/step - loss: 0.0503 - mae: 0.1703 - val_loss: 0.0545 - val_mae: 0.1745\n",
      "Epoch 811/1000\n",
      "5/5 [==============================] - 0s 70ms/step - loss: 0.0509 - mae: 0.1728 - val_loss: 0.0580 - val_mae: 0.1799\n",
      "Epoch 812/1000\n",
      "5/5 [==============================] - 0s 75ms/step - loss: 0.0514 - mae: 0.1734 - val_loss: 0.0556 - val_mae: 0.1759\n",
      "Epoch 813/1000\n",
      "5/5 [==============================] - 0s 72ms/step - loss: 0.0517 - mae: 0.1737 - val_loss: 0.0543 - val_mae: 0.1785\n",
      "Epoch 814/1000\n",
      "5/5 [==============================] - 0s 72ms/step - loss: 0.0503 - mae: 0.1717 - val_loss: 0.0548 - val_mae: 0.1754\n",
      "Epoch 815/1000\n",
      "5/5 [==============================] - 0s 74ms/step - loss: 0.0499 - mae: 0.1699 - val_loss: 0.0531 - val_mae: 0.1744\n",
      "Epoch 816/1000\n",
      "5/5 [==============================] - 0s 71ms/step - loss: 0.0498 - mae: 0.1690 - val_loss: 0.0533 - val_mae: 0.1741\n",
      "Epoch 817/1000\n",
      "5/5 [==============================] - 0s 72ms/step - loss: 0.0490 - mae: 0.1679 - val_loss: 0.0528 - val_mae: 0.1730\n",
      "Epoch 818/1000\n"
     ]
    },
    {
     "name": "stdout",
     "output_type": "stream",
     "text": [
      "5/5 [==============================] - 0s 72ms/step - loss: 0.0486 - mae: 0.1673 - val_loss: 0.0535 - val_mae: 0.1731\n",
      "Epoch 819/1000\n",
      "5/5 [==============================] - 0s 73ms/step - loss: 0.0488 - mae: 0.1674 - val_loss: 0.0551 - val_mae: 0.1742\n",
      "Epoch 820/1000\n",
      "5/5 [==============================] - 0s 74ms/step - loss: 0.0493 - mae: 0.1686 - val_loss: 0.0576 - val_mae: 0.1798\n",
      "Epoch 821/1000\n",
      "5/5 [==============================] - 0s 72ms/step - loss: 0.0506 - mae: 0.1708 - val_loss: 0.0524 - val_mae: 0.1724\n",
      "Epoch 822/1000\n",
      "5/5 [==============================] - 0s 74ms/step - loss: 0.0488 - mae: 0.1684 - val_loss: 0.0541 - val_mae: 0.1746\n",
      "Epoch 823/1000\n",
      "5/5 [==============================] - 0s 71ms/step - loss: 0.0506 - mae: 0.1708 - val_loss: 0.0523 - val_mae: 0.1730\n",
      "Epoch 824/1000\n",
      "5/5 [==============================] - 0s 71ms/step - loss: 0.0487 - mae: 0.1688 - val_loss: 0.0541 - val_mae: 0.1737\n",
      "Epoch 825/1000\n",
      "5/5 [==============================] - 0s 74ms/step - loss: 0.0494 - mae: 0.1686 - val_loss: 0.0521 - val_mae: 0.1712\n",
      "Epoch 826/1000\n",
      "5/5 [==============================] - 0s 71ms/step - loss: 0.0482 - mae: 0.1666 - val_loss: 0.0532 - val_mae: 0.1728\n",
      "Epoch 827/1000\n",
      "5/5 [==============================] - 0s 71ms/step - loss: 0.0482 - mae: 0.1667 - val_loss: 0.0539 - val_mae: 0.1726\n",
      "Epoch 828/1000\n",
      "5/5 [==============================] - 0s 74ms/step - loss: 0.0484 - mae: 0.1661 - val_loss: 0.0518 - val_mae: 0.1737\n",
      "Epoch 829/1000\n",
      "5/5 [==============================] - 0s 73ms/step - loss: 0.0481 - mae: 0.1667 - val_loss: 0.0546 - val_mae: 0.1831\n",
      "Epoch 830/1000\n",
      "5/5 [==============================] - 0s 75ms/step - loss: 0.0489 - mae: 0.1683 - val_loss: 0.0520 - val_mae: 0.1734\n",
      "Epoch 831/1000\n",
      "5/5 [==============================] - 0s 73ms/step - loss: 0.0470 - mae: 0.1632 - val_loss: 0.0516 - val_mae: 0.1744\n",
      "Epoch 832/1000\n",
      "5/5 [==============================] - 0s 74ms/step - loss: 0.0469 - mae: 0.1644 - val_loss: 0.0553 - val_mae: 0.1760\n",
      "Epoch 833/1000\n",
      "5/5 [==============================] - 0s 75ms/step - loss: 0.0471 - mae: 0.1632 - val_loss: 0.0517 - val_mae: 0.1712\n",
      "Epoch 834/1000\n",
      "5/5 [==============================] - 0s 74ms/step - loss: 0.0465 - mae: 0.1622 - val_loss: 0.0523 - val_mae: 0.1749\n",
      "Epoch 835/1000\n",
      "5/5 [==============================] - 0s 73ms/step - loss: 0.0481 - mae: 0.1669 - val_loss: 0.0539 - val_mae: 0.1820\n",
      "Epoch 836/1000\n",
      "5/5 [==============================] - 0s 71ms/step - loss: 0.0472 - mae: 0.1648 - val_loss: 0.0537 - val_mae: 0.1812\n",
      "Epoch 837/1000\n",
      "5/5 [==============================] - 0s 74ms/step - loss: 0.0473 - mae: 0.1649 - val_loss: 0.0516 - val_mae: 0.1746\n",
      "Epoch 838/1000\n",
      "5/5 [==============================] - 0s 74ms/step - loss: 0.0459 - mae: 0.1617 - val_loss: 0.0515 - val_mae: 0.1732\n",
      "Epoch 839/1000\n",
      "5/5 [==============================] - 0s 73ms/step - loss: 0.0457 - mae: 0.1618 - val_loss: 0.0519 - val_mae: 0.1726\n",
      "Epoch 840/1000\n",
      "5/5 [==============================] - 0s 73ms/step - loss: 0.0462 - mae: 0.1627 - val_loss: 0.0517 - val_mae: 0.1706\n",
      "Epoch 841/1000\n",
      "5/5 [==============================] - 0s 76ms/step - loss: 0.0456 - mae: 0.1612 - val_loss: 0.0521 - val_mae: 0.1701\n",
      "Epoch 842/1000\n",
      "5/5 [==============================] - 0s 72ms/step - loss: 0.0462 - mae: 0.1624 - val_loss: 0.0540 - val_mae: 0.1747\n",
      "Epoch 843/1000\n",
      "5/5 [==============================] - 0s 71ms/step - loss: 0.0483 - mae: 0.1674 - val_loss: 0.0568 - val_mae: 0.1767\n",
      "Epoch 844/1000\n",
      "5/5 [==============================] - 0s 71ms/step - loss: 0.0482 - mae: 0.1677 - val_loss: 0.0570 - val_mae: 0.1768\n",
      "Epoch 845/1000\n",
      "5/5 [==============================] - 0s 73ms/step - loss: 0.0470 - mae: 0.1647 - val_loss: 0.0557 - val_mae: 0.1752\n",
      "Epoch 846/1000\n",
      "5/5 [==============================] - 0s 73ms/step - loss: 0.0460 - mae: 0.1617 - val_loss: 0.0535 - val_mae: 0.1731\n",
      "Epoch 847/1000\n",
      "5/5 [==============================] - 0s 71ms/step - loss: 0.0455 - mae: 0.1609 - val_loss: 0.0527 - val_mae: 0.1712\n",
      "Epoch 848/1000\n",
      "5/5 [==============================] - 0s 72ms/step - loss: 0.0453 - mae: 0.1604 - val_loss: 0.0515 - val_mae: 0.1702\n",
      "Epoch 849/1000\n",
      "5/5 [==============================] - 0s 71ms/step - loss: 0.0441 - mae: 0.1581 - val_loss: 0.0515 - val_mae: 0.1731\n",
      "Epoch 850/1000\n",
      "5/5 [==============================] - 0s 72ms/step - loss: 0.0452 - mae: 0.1623 - val_loss: 0.0534 - val_mae: 0.1721\n",
      "Epoch 851/1000\n",
      "5/5 [==============================] - 0s 76ms/step - loss: 0.0443 - mae: 0.1594 - val_loss: 0.0506 - val_mae: 0.1693\n",
      "Epoch 852/1000\n",
      "5/5 [==============================] - 0s 72ms/step - loss: 0.0444 - mae: 0.1582 - val_loss: 0.0510 - val_mae: 0.1720\n",
      "Epoch 853/1000\n",
      "5/5 [==============================] - 0s 72ms/step - loss: 0.0444 - mae: 0.1600 - val_loss: 0.0511 - val_mae: 0.1719\n",
      "Epoch 854/1000\n",
      "5/5 [==============================] - 0s 73ms/step - loss: 0.0439 - mae: 0.1591 - val_loss: 0.0515 - val_mae: 0.1722\n",
      "Epoch 855/1000\n",
      "5/5 [==============================] - 0s 71ms/step - loss: 0.0437 - mae: 0.1573 - val_loss: 0.0521 - val_mae: 0.1757\n",
      "Epoch 856/1000\n",
      "5/5 [==============================] - 0s 70ms/step - loss: 0.0443 - mae: 0.1593 - val_loss: 0.0516 - val_mae: 0.1713\n",
      "Epoch 857/1000\n",
      "5/5 [==============================] - 0s 70ms/step - loss: 0.0443 - mae: 0.1604 - val_loss: 0.0507 - val_mae: 0.1716\n",
      "Epoch 858/1000\n",
      "5/5 [==============================] - 0s 73ms/step - loss: 0.0435 - mae: 0.1573 - val_loss: 0.0499 - val_mae: 0.1705\n",
      "Epoch 859/1000\n",
      "5/5 [==============================] - 0s 71ms/step - loss: 0.0428 - mae: 0.1558 - val_loss: 0.0494 - val_mae: 0.1695\n",
      "Epoch 860/1000\n",
      "5/5 [==============================] - 0s 72ms/step - loss: 0.0424 - mae: 0.1556 - val_loss: 0.0500 - val_mae: 0.1714\n",
      "Epoch 861/1000\n",
      "5/5 [==============================] - 0s 74ms/step - loss: 0.0425 - mae: 0.1550 - val_loss: 0.0500 - val_mae: 0.1690\n",
      "Epoch 862/1000\n",
      "5/5 [==============================] - 0s 71ms/step - loss: 0.0425 - mae: 0.1551 - val_loss: 0.0495 - val_mae: 0.1673\n",
      "Epoch 863/1000\n",
      "5/5 [==============================] - 0s 72ms/step - loss: 0.0422 - mae: 0.1548 - val_loss: 0.0497 - val_mae: 0.1672\n",
      "Epoch 864/1000\n",
      "5/5 [==============================] - 0s 75ms/step - loss: 0.0428 - mae: 0.1558 - val_loss: 0.0522 - val_mae: 0.1742\n",
      "Epoch 865/1000\n",
      "5/5 [==============================] - 0s 73ms/step - loss: 0.0435 - mae: 0.1584 - val_loss: 0.0537 - val_mae: 0.1703\n",
      "Epoch 866/1000\n",
      "5/5 [==============================] - 0s 71ms/step - loss: 0.0446 - mae: 0.1605 - val_loss: 0.0536 - val_mae: 0.1722\n",
      "Epoch 867/1000\n",
      "5/5 [==============================] - 0s 71ms/step - loss: 0.0440 - mae: 0.1588 - val_loss: 0.0547 - val_mae: 0.1735\n",
      "Epoch 868/1000\n",
      "5/5 [==============================] - 0s 72ms/step - loss: 0.0434 - mae: 0.1578 - val_loss: 0.0502 - val_mae: 0.1679\n",
      "Epoch 869/1000\n",
      "5/5 [==============================] - 0s 70ms/step - loss: 0.0416 - mae: 0.1537 - val_loss: 0.0493 - val_mae: 0.1669\n",
      "Epoch 870/1000\n",
      "5/5 [==============================] - 0s 71ms/step - loss: 0.0419 - mae: 0.1540 - val_loss: 0.0508 - val_mae: 0.1703\n",
      "Epoch 871/1000\n",
      "5/5 [==============================] - 0s 75ms/step - loss: 0.0419 - mae: 0.1531 - val_loss: 0.0491 - val_mae: 0.1651\n",
      "Epoch 872/1000\n",
      "5/5 [==============================] - 0s 72ms/step - loss: 0.0416 - mae: 0.1537 - val_loss: 0.0487 - val_mae: 0.1672\n",
      "Epoch 873/1000\n",
      "5/5 [==============================] - 0s 75ms/step - loss: 0.0418 - mae: 0.1541 - val_loss: 0.0490 - val_mae: 0.1685\n",
      "Epoch 874/1000\n",
      "5/5 [==============================] - 0s 74ms/step - loss: 0.0419 - mae: 0.1538 - val_loss: 0.0488 - val_mae: 0.1663\n",
      "Epoch 875/1000\n",
      "5/5 [==============================] - 0s 73ms/step - loss: 0.0416 - mae: 0.1535 - val_loss: 0.0491 - val_mae: 0.1673\n",
      "Epoch 876/1000\n",
      "5/5 [==============================] - 0s 71ms/step - loss: 0.0417 - mae: 0.1544 - val_loss: 0.0513 - val_mae: 0.1736\n",
      "Epoch 877/1000\n",
      "5/5 [==============================] - 0s 70ms/step - loss: 0.0423 - mae: 0.1559 - val_loss: 0.0486 - val_mae: 0.1635\n",
      "Epoch 878/1000\n",
      "5/5 [==============================] - 0s 72ms/step - loss: 0.0412 - mae: 0.1538 - val_loss: 0.0473 - val_mae: 0.1637\n",
      "Epoch 879/1000\n",
      "5/5 [==============================] - 0s 70ms/step - loss: 0.0404 - mae: 0.1511 - val_loss: 0.0481 - val_mae: 0.1661\n"
     ]
    },
    {
     "name": "stdout",
     "output_type": "stream",
     "text": [
      "Epoch 880/1000\n",
      "5/5 [==============================] - 0s 70ms/step - loss: 0.0398 - mae: 0.1508 - val_loss: 0.0482 - val_mae: 0.1639\n",
      "Epoch 881/1000\n",
      "5/5 [==============================] - 0s 72ms/step - loss: 0.0399 - mae: 0.1487 - val_loss: 0.0483 - val_mae: 0.1638\n",
      "Epoch 882/1000\n",
      "5/5 [==============================] - 0s 72ms/step - loss: 0.0398 - mae: 0.1495 - val_loss: 0.0471 - val_mae: 0.1641\n",
      "Epoch 883/1000\n",
      "5/5 [==============================] - 0s 72ms/step - loss: 0.0393 - mae: 0.1489 - val_loss: 0.0464 - val_mae: 0.1630\n",
      "Epoch 884/1000\n",
      "5/5 [==============================] - 0s 73ms/step - loss: 0.0391 - mae: 0.1485 - val_loss: 0.0474 - val_mae: 0.1649\n",
      "Epoch 885/1000\n",
      "5/5 [==============================] - 0s 73ms/step - loss: 0.0389 - mae: 0.1492 - val_loss: 0.0482 - val_mae: 0.1628\n",
      "Epoch 886/1000\n",
      "5/5 [==============================] - 0s 72ms/step - loss: 0.0392 - mae: 0.1492 - val_loss: 0.0480 - val_mae: 0.1629\n",
      "Epoch 887/1000\n",
      "5/5 [==============================] - 0s 75ms/step - loss: 0.0395 - mae: 0.1487 - val_loss: 0.0466 - val_mae: 0.1630\n",
      "Epoch 888/1000\n",
      "5/5 [==============================] - 0s 71ms/step - loss: 0.0384 - mae: 0.1480 - val_loss: 0.0485 - val_mae: 0.1672\n",
      "Epoch 889/1000\n",
      "5/5 [==============================] - 0s 72ms/step - loss: 0.0398 - mae: 0.1518 - val_loss: 0.0455 - val_mae: 0.1614\n",
      "Epoch 890/1000\n",
      "5/5 [==============================] - 0s 72ms/step - loss: 0.0382 - mae: 0.1473 - val_loss: 0.0453 - val_mae: 0.1618\n",
      "Epoch 891/1000\n",
      "5/5 [==============================] - 0s 75ms/step - loss: 0.0376 - mae: 0.1459 - val_loss: 0.0454 - val_mae: 0.1619\n",
      "Epoch 892/1000\n",
      "5/5 [==============================] - 0s 72ms/step - loss: 0.0373 - mae: 0.1448 - val_loss: 0.0452 - val_mae: 0.1595\n",
      "Epoch 893/1000\n",
      "5/5 [==============================] - 0s 72ms/step - loss: 0.0373 - mae: 0.1462 - val_loss: 0.0439 - val_mae: 0.1585\n",
      "Epoch 894/1000\n",
      "5/5 [==============================] - 0s 74ms/step - loss: 0.0363 - mae: 0.1418 - val_loss: 0.0421 - val_mae: 0.1550\n",
      "Epoch 895/1000\n",
      "5/5 [==============================] - 0s 71ms/step - loss: 0.0361 - mae: 0.1434 - val_loss: 0.0425 - val_mae: 0.1566\n",
      "Epoch 896/1000\n",
      "5/5 [==============================] - 0s 72ms/step - loss: 0.0362 - mae: 0.1417 - val_loss: 0.0426 - val_mae: 0.1545\n",
      "Epoch 897/1000\n",
      "5/5 [==============================] - 0s 75ms/step - loss: 0.0359 - mae: 0.1420 - val_loss: 0.0425 - val_mae: 0.1552\n",
      "Epoch 898/1000\n",
      "5/5 [==============================] - 0s 72ms/step - loss: 0.0358 - mae: 0.1419 - val_loss: 0.0427 - val_mae: 0.1579\n",
      "Epoch 899/1000\n",
      "5/5 [==============================] - 0s 72ms/step - loss: 0.0360 - mae: 0.1431 - val_loss: 0.0416 - val_mae: 0.1538\n",
      "Epoch 900/1000\n",
      "5/5 [==============================] - 0s 71ms/step - loss: 0.0357 - mae: 0.1412 - val_loss: 0.0420 - val_mae: 0.1544\n",
      "Epoch 901/1000\n",
      "5/5 [==============================] - 0s 72ms/step - loss: 0.0354 - mae: 0.1418 - val_loss: 0.0414 - val_mae: 0.1540\n",
      "Epoch 902/1000\n",
      "5/5 [==============================] - 0s 73ms/step - loss: 0.0352 - mae: 0.1400 - val_loss: 0.0415 - val_mae: 0.1553\n",
      "Epoch 903/1000\n",
      "5/5 [==============================] - 0s 72ms/step - loss: 0.0351 - mae: 0.1402 - val_loss: 0.0420 - val_mae: 0.1550\n",
      "Epoch 904/1000\n",
      "5/5 [==============================] - 0s 75ms/step - loss: 0.0351 - mae: 0.1407 - val_loss: 0.0421 - val_mae: 0.1557\n",
      "Epoch 905/1000\n",
      "5/5 [==============================] - 0s 71ms/step - loss: 0.0350 - mae: 0.1399 - val_loss: 0.0412 - val_mae: 0.1556\n",
      "Epoch 906/1000\n",
      "5/5 [==============================] - 0s 72ms/step - loss: 0.0351 - mae: 0.1404 - val_loss: 0.0414 - val_mae: 0.1546\n",
      "Epoch 907/1000\n",
      "5/5 [==============================] - 0s 73ms/step - loss: 0.0348 - mae: 0.1395 - val_loss: 0.0414 - val_mae: 0.1531\n",
      "Epoch 908/1000\n",
      "5/5 [==============================] - 0s 72ms/step - loss: 0.0345 - mae: 0.1387 - val_loss: 0.0405 - val_mae: 0.1520\n",
      "Epoch 909/1000\n",
      "5/5 [==============================] - 0s 73ms/step - loss: 0.0346 - mae: 0.1385 - val_loss: 0.0408 - val_mae: 0.1535\n",
      "Epoch 910/1000\n",
      "5/5 [==============================] - 0s 74ms/step - loss: 0.0348 - mae: 0.1392 - val_loss: 0.0417 - val_mae: 0.1561\n",
      "Epoch 911/1000\n",
      "5/5 [==============================] - 0s 72ms/step - loss: 0.0343 - mae: 0.1392 - val_loss: 0.0409 - val_mae: 0.1533\n",
      "Epoch 912/1000\n",
      "5/5 [==============================] - 0s 72ms/step - loss: 0.0352 - mae: 0.1398 - val_loss: 0.0408 - val_mae: 0.1532\n",
      "Epoch 913/1000\n",
      "5/5 [==============================] - 0s 71ms/step - loss: 0.0347 - mae: 0.1393 - val_loss: 0.0423 - val_mae: 0.1556\n",
      "Epoch 914/1000\n",
      "5/5 [==============================] - 0s 74ms/step - loss: 0.0346 - mae: 0.1387 - val_loss: 0.0409 - val_mae: 0.1546\n",
      "Epoch 915/1000\n",
      "5/5 [==============================] - 0s 74ms/step - loss: 0.0341 - mae: 0.1383 - val_loss: 0.0404 - val_mae: 0.1511\n",
      "Epoch 916/1000\n",
      "5/5 [==============================] - 0s 71ms/step - loss: 0.0340 - mae: 0.1374 - val_loss: 0.0413 - val_mae: 0.1521\n",
      "Epoch 917/1000\n",
      "5/5 [==============================] - 0s 74ms/step - loss: 0.0341 - mae: 0.1381 - val_loss: 0.0407 - val_mae: 0.1529\n",
      "Epoch 918/1000\n",
      "5/5 [==============================] - 0s 71ms/step - loss: 0.0340 - mae: 0.1377 - val_loss: 0.0407 - val_mae: 0.1539\n",
      "Epoch 919/1000\n",
      "5/5 [==============================] - 0s 72ms/step - loss: 0.0341 - mae: 0.1389 - val_loss: 0.0404 - val_mae: 0.1516\n",
      "Epoch 920/1000\n",
      "5/5 [==============================] - 0s 75ms/step - loss: 0.0340 - mae: 0.1377 - val_loss: 0.0406 - val_mae: 0.1517\n",
      "Epoch 921/1000\n",
      "5/5 [==============================] - 0s 70ms/step - loss: 0.0336 - mae: 0.1365 - val_loss: 0.0409 - val_mae: 0.1527\n",
      "Epoch 922/1000\n",
      "5/5 [==============================] - 0s 71ms/step - loss: 0.0340 - mae: 0.1374 - val_loss: 0.0400 - val_mae: 0.1520\n",
      "Epoch 923/1000\n",
      "5/5 [==============================] - 0s 71ms/step - loss: 0.0337 - mae: 0.1379 - val_loss: 0.0400 - val_mae: 0.1518\n",
      "Epoch 924/1000\n",
      "5/5 [==============================] - 0s 72ms/step - loss: 0.0337 - mae: 0.1373 - val_loss: 0.0402 - val_mae: 0.1516\n",
      "Epoch 925/1000\n",
      "5/5 [==============================] - 0s 71ms/step - loss: 0.0333 - mae: 0.1362 - val_loss: 0.0411 - val_mae: 0.1521\n",
      "Epoch 926/1000\n",
      "5/5 [==============================] - 0s 72ms/step - loss: 0.0336 - mae: 0.1384 - val_loss: 0.0417 - val_mae: 0.1558\n",
      "Epoch 927/1000\n",
      "5/5 [==============================] - 0s 75ms/step - loss: 0.0339 - mae: 0.1380 - val_loss: 0.0400 - val_mae: 0.1513\n",
      "Epoch 928/1000\n",
      "5/5 [==============================] - 0s 72ms/step - loss: 0.0331 - mae: 0.1359 - val_loss: 0.0395 - val_mae: 0.1505\n",
      "Epoch 929/1000\n",
      "5/5 [==============================] - 0s 72ms/step - loss: 0.0332 - mae: 0.1371 - val_loss: 0.0401 - val_mae: 0.1503\n",
      "Epoch 930/1000\n",
      "5/5 [==============================] - 0s 74ms/step - loss: 0.0332 - mae: 0.1362 - val_loss: 0.0399 - val_mae: 0.1512\n",
      "Epoch 931/1000\n",
      "5/5 [==============================] - 0s 71ms/step - loss: 0.0326 - mae: 0.1355 - val_loss: 0.0397 - val_mae: 0.1511\n",
      "Epoch 932/1000\n",
      "5/5 [==============================] - 0s 71ms/step - loss: 0.0328 - mae: 0.1362 - val_loss: 0.0388 - val_mae: 0.1482\n",
      "Epoch 933/1000\n",
      "5/5 [==============================] - 0s 71ms/step - loss: 0.0322 - mae: 0.1338 - val_loss: 0.0397 - val_mae: 0.1521\n",
      "Epoch 934/1000\n",
      "5/5 [==============================] - 0s 71ms/step - loss: 0.0328 - mae: 0.1367 - val_loss: 0.0402 - val_mae: 0.1513\n",
      "Epoch 935/1000\n",
      "5/5 [==============================] - 0s 72ms/step - loss: 0.0325 - mae: 0.1364 - val_loss: 0.0402 - val_mae: 0.1503\n",
      "Epoch 936/1000\n",
      "5/5 [==============================] - 0s 72ms/step - loss: 0.0325 - mae: 0.1351 - val_loss: 0.0399 - val_mae: 0.1510\n",
      "Epoch 937/1000\n",
      "5/5 [==============================] - 0s 73ms/step - loss: 0.0325 - mae: 0.1354 - val_loss: 0.0397 - val_mae: 0.1524\n",
      "Epoch 938/1000\n",
      "5/5 [==============================] - 0s 70ms/step - loss: 0.0328 - mae: 0.1367 - val_loss: 0.0384 - val_mae: 0.1474\n",
      "Epoch 939/1000\n",
      "5/5 [==============================] - 0s 70ms/step - loss: 0.0328 - mae: 0.1376 - val_loss: 0.0411 - val_mae: 0.1552\n",
      "Epoch 940/1000\n",
      "5/5 [==============================] - 0s 73ms/step - loss: 0.0341 - mae: 0.1402 - val_loss: 0.0400 - val_mae: 0.1552\n",
      "Epoch 941/1000\n"
     ]
    },
    {
     "name": "stdout",
     "output_type": "stream",
     "text": [
      "5/5 [==============================] - 0s 71ms/step - loss: 0.0345 - mae: 0.1405 - val_loss: 0.0400 - val_mae: 0.1544\n",
      "Epoch 942/1000\n",
      "5/5 [==============================] - 0s 72ms/step - loss: 0.0326 - mae: 0.1362 - val_loss: 0.0397 - val_mae: 0.1506\n",
      "Epoch 943/1000\n",
      "5/5 [==============================] - 0s 72ms/step - loss: 0.0326 - mae: 0.1363 - val_loss: 0.0390 - val_mae: 0.1499\n",
      "Epoch 944/1000\n",
      "5/5 [==============================] - 0s 72ms/step - loss: 0.0317 - mae: 0.1344 - val_loss: 0.0384 - val_mae: 0.1478\n",
      "Epoch 945/1000\n",
      "5/5 [==============================] - 0s 71ms/step - loss: 0.0324 - mae: 0.1356 - val_loss: 0.0390 - val_mae: 0.1501\n",
      "Epoch 946/1000\n",
      "5/5 [==============================] - 0s 71ms/step - loss: 0.0314 - mae: 0.1342 - val_loss: 0.0394 - val_mae: 0.1489\n",
      "Epoch 947/1000\n",
      "5/5 [==============================] - 0s 74ms/step - loss: 0.0313 - mae: 0.1335 - val_loss: 0.0377 - val_mae: 0.1473\n",
      "Epoch 948/1000\n",
      "5/5 [==============================] - 0s 71ms/step - loss: 0.0310 - mae: 0.1331 - val_loss: 0.0372 - val_mae: 0.1464\n",
      "Epoch 949/1000\n",
      "5/5 [==============================] - 0s 72ms/step - loss: 0.0309 - mae: 0.1331 - val_loss: 0.0375 - val_mae: 0.1460\n",
      "Epoch 950/1000\n",
      "5/5 [==============================] - 0s 75ms/step - loss: 0.0305 - mae: 0.1318 - val_loss: 0.0376 - val_mae: 0.1463\n",
      "Epoch 951/1000\n",
      "5/5 [==============================] - 0s 71ms/step - loss: 0.0306 - mae: 0.1318 - val_loss: 0.0369 - val_mae: 0.1449\n",
      "Epoch 952/1000\n",
      "5/5 [==============================] - 0s 71ms/step - loss: 0.0307 - mae: 0.1330 - val_loss: 0.0372 - val_mae: 0.1465\n",
      "Epoch 953/1000\n",
      "5/5 [==============================] - 0s 71ms/step - loss: 0.0307 - mae: 0.1330 - val_loss: 0.0380 - val_mae: 0.1460\n",
      "Epoch 954/1000\n",
      "5/5 [==============================] - 0s 71ms/step - loss: 0.0305 - mae: 0.1320 - val_loss: 0.0364 - val_mae: 0.1439\n",
      "Epoch 955/1000\n",
      "5/5 [==============================] - 0s 71ms/step - loss: 0.0301 - mae: 0.1320 - val_loss: 0.0364 - val_mae: 0.1452\n",
      "Epoch 956/1000\n",
      "5/5 [==============================] - 0s 70ms/step - loss: 0.0304 - mae: 0.1325 - val_loss: 0.0366 - val_mae: 0.1467\n",
      "Epoch 957/1000\n",
      "5/5 [==============================] - 0s 74ms/step - loss: 0.0299 - mae: 0.1314 - val_loss: 0.0366 - val_mae: 0.1456\n",
      "Epoch 958/1000\n",
      "5/5 [==============================] - 0s 72ms/step - loss: 0.0305 - mae: 0.1323 - val_loss: 0.0368 - val_mae: 0.1461\n",
      "Epoch 959/1000\n",
      "5/5 [==============================] - 0s 70ms/step - loss: 0.0297 - mae: 0.1311 - val_loss: 0.0374 - val_mae: 0.1478\n",
      "Epoch 960/1000\n",
      "5/5 [==============================] - 0s 74ms/step - loss: 0.0299 - mae: 0.1318 - val_loss: 0.0370 - val_mae: 0.1472\n",
      "Epoch 961/1000\n",
      "5/5 [==============================] - 0s 71ms/step - loss: 0.0297 - mae: 0.1314 - val_loss: 0.0363 - val_mae: 0.1438\n",
      "Epoch 962/1000\n",
      "5/5 [==============================] - 0s 70ms/step - loss: 0.0298 - mae: 0.1321 - val_loss: 0.0359 - val_mae: 0.1434\n",
      "Epoch 963/1000\n",
      "5/5 [==============================] - 0s 70ms/step - loss: 0.0296 - mae: 0.1318 - val_loss: 0.0359 - val_mae: 0.1451\n",
      "Epoch 964/1000\n",
      "5/5 [==============================] - 0s 74ms/step - loss: 0.0297 - mae: 0.1314 - val_loss: 0.0372 - val_mae: 0.1474\n",
      "Epoch 965/1000\n",
      "5/5 [==============================] - 0s 70ms/step - loss: 0.0296 - mae: 0.1312 - val_loss: 0.0352 - val_mae: 0.1446\n",
      "Epoch 966/1000\n",
      "5/5 [==============================] - 0s 70ms/step - loss: 0.0301 - mae: 0.1335 - val_loss: 0.0373 - val_mae: 0.1493\n",
      "Epoch 967/1000\n",
      "5/5 [==============================] - 0s 74ms/step - loss: 0.0307 - mae: 0.1337 - val_loss: 0.0368 - val_mae: 0.1479\n",
      "Epoch 968/1000\n",
      "5/5 [==============================] - 0s 71ms/step - loss: 0.0301 - mae: 0.1333 - val_loss: 0.0367 - val_mae: 0.1495\n",
      "Epoch 969/1000\n",
      "5/5 [==============================] - 0s 72ms/step - loss: 0.0303 - mae: 0.1338 - val_loss: 0.0380 - val_mae: 0.1502\n",
      "Epoch 970/1000\n",
      "5/5 [==============================] - 0s 74ms/step - loss: 0.0298 - mae: 0.1342 - val_loss: 0.0365 - val_mae: 0.1476\n",
      "Epoch 971/1000\n",
      "5/5 [==============================] - 0s 71ms/step - loss: 0.0298 - mae: 0.1326 - val_loss: 0.0347 - val_mae: 0.1431\n",
      "Epoch 972/1000\n",
      "5/5 [==============================] - 0s 72ms/step - loss: 0.0284 - mae: 0.1290 - val_loss: 0.0355 - val_mae: 0.1435\n",
      "Epoch 973/1000\n",
      "5/5 [==============================] - 0s 71ms/step - loss: 0.0289 - mae: 0.1308 - val_loss: 0.0365 - val_mae: 0.1470\n",
      "Epoch 974/1000\n",
      "5/5 [==============================] - 0s 73ms/step - loss: 0.0292 - mae: 0.1320 - val_loss: 0.0374 - val_mae: 0.1484\n",
      "Epoch 975/1000\n",
      "5/5 [==============================] - 0s 72ms/step - loss: 0.0296 - mae: 0.1340 - val_loss: 0.0355 - val_mae: 0.1444\n",
      "Epoch 976/1000\n",
      "5/5 [==============================] - 0s 73ms/step - loss: 0.0292 - mae: 0.1321 - val_loss: 0.0353 - val_mae: 0.1422\n",
      "Epoch 977/1000\n",
      "5/5 [==============================] - 0s 74ms/step - loss: 0.0290 - mae: 0.1314 - val_loss: 0.0374 - val_mae: 0.1503\n",
      "Epoch 978/1000\n",
      "5/5 [==============================] - 0s 70ms/step - loss: 0.0296 - mae: 0.1324 - val_loss: 0.0367 - val_mae: 0.1484\n",
      "Epoch 979/1000\n",
      "5/5 [==============================] - 0s 72ms/step - loss: 0.0292 - mae: 0.1328 - val_loss: 0.0359 - val_mae: 0.1453\n",
      "Epoch 980/1000\n",
      "5/5 [==============================] - 0s 75ms/step - loss: 0.0289 - mae: 0.1313 - val_loss: 0.0349 - val_mae: 0.1437\n",
      "Epoch 981/1000\n",
      "5/5 [==============================] - 0s 71ms/step - loss: 0.0286 - mae: 0.1301 - val_loss: 0.0348 - val_mae: 0.1429\n",
      "Epoch 982/1000\n",
      "5/5 [==============================] - 0s 71ms/step - loss: 0.0285 - mae: 0.1299 - val_loss: 0.0348 - val_mae: 0.1417\n",
      "Epoch 983/1000\n",
      "5/5 [==============================] - 0s 70ms/step - loss: 0.0279 - mae: 0.1290 - val_loss: 0.0341 - val_mae: 0.1429\n",
      "Epoch 984/1000\n",
      "5/5 [==============================] - 0s 73ms/step - loss: 0.0281 - mae: 0.1290 - val_loss: 0.0346 - val_mae: 0.1435\n",
      "Epoch 985/1000\n",
      "5/5 [==============================] - 0s 71ms/step - loss: 0.0283 - mae: 0.1294 - val_loss: 0.0358 - val_mae: 0.1462\n",
      "Epoch 986/1000\n",
      "5/5 [==============================] - 0s 71ms/step - loss: 0.0290 - mae: 0.1326 - val_loss: 0.0351 - val_mae: 0.1464\n",
      "Epoch 987/1000\n",
      "5/5 [==============================] - 0s 74ms/step - loss: 0.0283 - mae: 0.1295 - val_loss: 0.0346 - val_mae: 0.1436\n",
      "Epoch 988/1000\n",
      "5/5 [==============================] - 0s 71ms/step - loss: 0.0273 - mae: 0.1283 - val_loss: 0.0327 - val_mae: 0.1385\n",
      "Epoch 989/1000\n",
      "5/5 [==============================] - 0s 71ms/step - loss: 0.0274 - mae: 0.1274 - val_loss: 0.0331 - val_mae: 0.1402\n",
      "Epoch 990/1000\n",
      "5/5 [==============================] - 0s 74ms/step - loss: 0.0270 - mae: 0.1275 - val_loss: 0.0355 - val_mae: 0.1437\n",
      "Epoch 991/1000\n",
      "5/5 [==============================] - 0s 70ms/step - loss: 0.0275 - mae: 0.1279 - val_loss: 0.0333 - val_mae: 0.1417\n",
      "Epoch 992/1000\n",
      "5/5 [==============================] - 0s 71ms/step - loss: 0.0276 - mae: 0.1285 - val_loss: 0.0321 - val_mae: 0.1387\n",
      "Epoch 993/1000\n",
      "5/5 [==============================] - 0s 71ms/step - loss: 0.0275 - mae: 0.1292 - val_loss: 0.0337 - val_mae: 0.1419\n",
      "Epoch 994/1000\n",
      "5/5 [==============================] - 0s 72ms/step - loss: 0.0273 - mae: 0.1283 - val_loss: 0.0316 - val_mae: 0.1366\n",
      "Epoch 995/1000\n",
      "5/5 [==============================] - 0s 71ms/step - loss: 0.0264 - mae: 0.1263 - val_loss: 0.0315 - val_mae: 0.1370\n",
      "Epoch 996/1000\n",
      "5/5 [==============================] - 0s 72ms/step - loss: 0.0261 - mae: 0.1263 - val_loss: 0.0331 - val_mae: 0.1374\n",
      "Epoch 997/1000\n",
      "5/5 [==============================] - 0s 74ms/step - loss: 0.0263 - mae: 0.1245 - val_loss: 0.0321 - val_mae: 0.1390\n",
      "Epoch 998/1000\n",
      "5/5 [==============================] - 0s 70ms/step - loss: 0.0262 - mae: 0.1261 - val_loss: 0.0326 - val_mae: 0.1407\n",
      "Epoch 999/1000\n",
      "5/5 [==============================] - 0s 71ms/step - loss: 0.0263 - mae: 0.1255 - val_loss: 0.0339 - val_mae: 0.1437\n",
      "Epoch 1000/1000\n",
      "5/5 [==============================] - 0s 73ms/step - loss: 0.0263 - mae: 0.1254 - val_loss: 0.0312 - val_mae: 0.1379\n"
     ]
    }
   ],
   "source": [
    "from tensorflow.keras import datasets, layers, models\n",
    "from tensorflow import keras\n",
    "from tensorflow.keras import layers\n",
    "\n",
    "model = models.Sequential()\n",
    "model.add(layers.LSTM(1024, input_shape=(time_step,2)))\n",
    "model.add(layers.Dense(25))\n",
    "\n",
    "model.summary()\n",
    "\n",
    "model.compile(optimizer='adam', loss='mse', metrics=['mae'])\n",
    "\n",
    "history = model.fit(train_input, train_label, epochs=1000, verbose=1, shuffle=True, validation_split=0.20,\n",
    "                   callbacks=[WandbCallback(log_weights=True, log_gradients=True, training_data=(train_input, train_label))])"
   ]
  },
  {
   "cell_type": "code",
   "execution_count": 17,
   "id": "f2977e3d",
   "metadata": {},
   "outputs": [
    {
     "name": "stdout",
     "output_type": "stream",
     "text": [
      "1/1 [==============================] - 0s 208ms/step\n"
     ]
    }
   ],
   "source": [
    "test_input = test_input.reshape(1, test_input.shape[0], test_input.shape[1])\n",
    "\n",
    "y_hat = model.predict(test_input)"
   ]
  },
  {
   "cell_type": "code",
   "execution_count": 18,
   "id": "569d2b27",
   "metadata": {},
   "outputs": [
    {
     "data": {
      "text/plain": [
       "(1, 100, 2)"
      ]
     },
     "execution_count": 18,
     "metadata": {},
     "output_type": "execute_result"
    }
   ],
   "source": [
    "test_input.shape"
   ]
  },
  {
   "cell_type": "code",
   "execution_count": 19,
   "id": "6b083de8",
   "metadata": {},
   "outputs": [],
   "source": [
    "test_label = test_label.reshape(1, test_label.shape[0], test_label.shape[1])"
   ]
  },
  {
   "cell_type": "code",
   "execution_count": 20,
   "id": "54e7a073",
   "metadata": {},
   "outputs": [
    {
     "data": {
      "text/plain": [
       "(1, 25, 1)"
      ]
     },
     "execution_count": 20,
     "metadata": {},
     "output_type": "execute_result"
    }
   ],
   "source": [
    "test_label.shape"
   ]
  },
  {
   "cell_type": "code",
   "execution_count": 21,
   "id": "b3e0c133",
   "metadata": {},
   "outputs": [
    {
     "data": {
      "text/plain": [
       "array([[1.3948013, 1.5122339, 1.8337058, 1.4043947, 1.4827869, 1.7478983,\n",
       "        1.6334722, 1.681428 , 1.7810284, 1.7908622, 2.110294 , 2.2615786,\n",
       "        1.4677333, 1.5674677, 1.8416705, 1.453244 , 1.6499126, 1.8286289,\n",
       "        1.7684994, 1.8545198, 1.841816 , 1.9171985, 2.205822 , 2.4507174,\n",
       "        1.5202122]], dtype=float32)"
      ]
     },
     "execution_count": 21,
     "metadata": {},
     "output_type": "execute_result"
    }
   ],
   "source": [
    "y_hat"
   ]
  },
  {
   "cell_type": "code",
   "execution_count": 22,
   "id": "e37311d1",
   "metadata": {},
   "outputs": [
    {
     "data": {
      "text/plain": [
       "(1, 25)"
      ]
     },
     "execution_count": 22,
     "metadata": {},
     "output_type": "execute_result"
    }
   ],
   "source": [
    "y_hat.shape"
   ]
  },
  {
   "cell_type": "code",
   "execution_count": 23,
   "id": "ad0f0285",
   "metadata": {},
   "outputs": [],
   "source": [
    "y_hat = y_hat.reshape(y_hat.shape[1], 1)"
   ]
  },
  {
   "cell_type": "code",
   "execution_count": 24,
   "id": "69ea1f6f",
   "metadata": {},
   "outputs": [],
   "source": [
    "y_hat = (y_hat*data_std)+data_mean"
   ]
  },
  {
   "cell_type": "code",
   "execution_count": 25,
   "id": "702f2214",
   "metadata": {},
   "outputs": [],
   "source": [
    "#print(scaler.data_max_)"
   ]
  },
  {
   "cell_type": "code",
   "execution_count": 26,
   "id": "1ca1a387",
   "metadata": {},
   "outputs": [],
   "source": [
    "#print(scaler.data_min_)"
   ]
  },
  {
   "cell_type": "code",
   "execution_count": 27,
   "id": "5e40982b",
   "metadata": {},
   "outputs": [],
   "source": [
    "#y_hat = y_hat * (scaler.data_max_[1]-scaler.data_min_[1]) + scaler.data_min_[1]"
   ]
  },
  {
   "cell_type": "code",
   "execution_count": 28,
   "id": "902bb0d7",
   "metadata": {},
   "outputs": [
    {
     "data": {
      "text/plain": [
       "Text(0.5, 1.0, 'LSTM prediction')"
      ]
     },
     "execution_count": 28,
     "metadata": {},
     "output_type": "execute_result"
    },
    {
     "data": {
      "image/png": "[encoded data removed]",
      "text/plain": [
       "<Figure size 1008x576 with 1 Axes>"
      ]
     },
     "metadata": {
      "needs_background": "light"
     },
     "output_type": "display_data"
    }
   ],
   "source": [
    "import matplotlib.pyplot as plt\n",
    "\n",
    "x = range(325)\n",
    "plt.figure(figsize=(14,8))\n",
    "plt.plot(df[300:325]['Sales'], label='original')\n",
    "plt.plot(x[300:325], y_hat, label='prediction')\n",
    "plt.legend()\n",
    "plt.xlabel('Sequence', fontsize=20)\n",
    "plt.ylabel('Sales', fontsize=20)\n",
    "plt.title('LSTM prediction', fontsize=25)"
   ]
  },
  {
   "cell_type": "code",
   "execution_count": 29,
   "id": "051887d3",
   "metadata": {
    "scrolled": true
   },
   "outputs": [
    {
     "name": "stdout",
     "output_type": "stream",
     "text": [
      "1/1 [==============================] - 0s 13ms/step - loss: 0.1121 - mae: 0.2530\n"
     ]
    },
    {
     "data": {
      "text/plain": [
       "[0.11208631843328476, 0.2530304193496704]"
      ]
     },
     "execution_count": 29,
     "metadata": {},
     "output_type": "execute_result"
    }
   ],
   "source": [
    "model.evaluate(test_input, test_label)"
   ]
  },
  {
   "cell_type": "code",
   "execution_count": null,
   "id": "072a6c56",
   "metadata": {},
   "outputs": [],
   "source": []
  }
 ],
 "metadata": {
  "kernelspec": {
   "display_name": "Python 3 (ipykernel)",
   "language": "python",
   "name": "python3"
  },
  "language_info": {
   "codemirror_mode": {
    "name": "ipython",
    "version": 3
   },
   "file_extension": ".py",
   "mimetype": "text/x-python",
   "name": "python",
   "nbconvert_exporter": "python",
   "pygments_lexer": "ipython3",
   "version": "3.9.12"
  }
 },
 "nbformat": 4,
 "nbformat_minor": 5
}
