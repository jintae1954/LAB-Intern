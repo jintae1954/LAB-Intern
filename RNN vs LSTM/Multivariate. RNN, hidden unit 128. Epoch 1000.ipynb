{
 "cells": [
  {
   "cell_type": "code",
   "execution_count": 1,
   "id": "27cc9f88",
   "metadata": {},
   "outputs": [
    {
     "name": "stderr",
     "output_type": "stream",
     "text": [
      "\u001b[34m\u001b[1mwandb\u001b[0m: Currently logged in as: \u001b[33mjintae\u001b[0m. Use \u001b[1m`wandb login --relogin`\u001b[0m to force relogin\n"
     ]
    },
    {
     "data": {
      "text/html": [
       "Tracking run with wandb version 0.13.4"
      ],
      "text/plain": [
       "<IPython.core.display.HTML object>"
      ]
     },
     "metadata": {},
     "output_type": "display_data"
    },
    {
     "data": {
      "text/html": [
       "Run data is saved locally in <code>C:\\Users\\PARK\\Documents\\LAB\\RNN vs LSTM\\FInal Example\\wandb\\run-20221015_185353-3s73nxty</code>"
      ],
      "text/plain": [
       "<IPython.core.display.HTML object>"
      ]
     },
     "metadata": {},
     "output_type": "display_data"
    },
    {
     "data": {
      "text/html": [
       "Syncing run <strong><a href=\"https://wandb.ai/jintae/RNN%20seq%20128./runs/3s73nxty\" target=\"_blank\">epoch 1,000</a></strong> to <a href=\"https://wandb.ai/jintae/RNN%20seq%20128.\" target=\"_blank\">Weights & Biases</a> (<a href=\"https://wandb.me/run\" target=\"_blank\">docs</a>)<br/>"
      ],
      "text/plain": [
       "<IPython.core.display.HTML object>"
      ]
     },
     "metadata": {},
     "output_type": "display_data"
    },
    {
     "data": {
      "text/html": [
       "<button onClick=\"this.nextSibling.style.display='block';this.style.display='none';\">Display W&B run</button><iframe src=\"https://wandb.ai/jintae/RNN%20seq%20128./runs/3s73nxty?jupyter=true\" style=\"border:none;width:100%;height:420px;display:none;\"></iframe>"
      ],
      "text/plain": [
       "<wandb.sdk.wandb_run.Run at 0x219201544f0>"
      ]
     },
     "execution_count": 1,
     "metadata": {},
     "output_type": "execute_result"
    }
   ],
   "source": [
    "import wandb\n",
    "from wandb.keras import WandbCallback\n",
    "wandb.init(project=\"RNN seq 128.\", name=\"epoch 1,000\")"
   ]
  },
  {
   "cell_type": "code",
   "execution_count": 2,
   "id": "650bae84",
   "metadata": {},
   "outputs": [
    {
     "name": "stdout",
     "output_type": "stream",
     "text": [
      "   DATE  Sales\n",
      "0     0   3459\n",
      "1     1   3458\n",
      "2     2   4002\n",
      "3     3   4564\n",
      "4     4   4221\n"
     ]
    }
   ],
   "source": [
    "import pandas as pd\n",
    "\n",
    "df = pd.read_csv('C:/Users/PARK/Desktop/Alcohol_Sales.csv')\n",
    "print(df.head())"
   ]
  },
  {
   "cell_type": "code",
   "execution_count": 3,
   "id": "71e18e17",
   "metadata": {},
   "outputs": [
    {
     "data": {
      "text/plain": [
       "(325, 2)"
      ]
     },
     "execution_count": 3,
     "metadata": {},
     "output_type": "execute_result"
    }
   ],
   "source": [
    "df.shape"
   ]
  },
  {
   "cell_type": "code",
   "execution_count": 4,
   "id": "5f4f8fb7",
   "metadata": {},
   "outputs": [],
   "source": [
    "import numpy as np\n",
    "\n",
    "data = df.to_numpy()"
   ]
  },
  {
   "cell_type": "code",
   "execution_count": 5,
   "id": "c6063052",
   "metadata": {},
   "outputs": [
    {
     "data": {
      "text/plain": [
       "(325, 2)"
      ]
     },
     "execution_count": 5,
     "metadata": {},
     "output_type": "execute_result"
    }
   ],
   "source": [
    "data.shape"
   ]
  },
  {
   "cell_type": "code",
   "execution_count": 6,
   "id": "01930485",
   "metadata": {},
   "outputs": [
    {
     "data": {
      "text/plain": [
       "array([[   0, 3459],\n",
       "       [   1, 3458],\n",
       "       [   2, 4002],\n",
       "       [   3, 4564],\n",
       "       [   4, 4221]], dtype=int64)"
      ]
     },
     "execution_count": 6,
     "metadata": {},
     "output_type": "execute_result"
    }
   ],
   "source": [
    "data[0:5]"
   ]
  },
  {
   "cell_type": "code",
   "execution_count": 7,
   "id": "ad83b404",
   "metadata": {},
   "outputs": [],
   "source": [
    "# from sklearn.preprocessing import MinMaxScaler\n",
    "\n",
    "# scaler = MinMaxScaler()\n",
    "\n",
    "# data = scaler.fit_transform(data)"
   ]
  },
  {
   "cell_type": "code",
   "execution_count": 8,
   "id": "17aef2ea",
   "metadata": {},
   "outputs": [],
   "source": [
    "data_mean = data.mean()\n",
    "data_std = data.std()\n",
    "\n",
    "data = (data - data_mean)/data_std"
   ]
  },
  {
   "cell_type": "code",
   "execution_count": 9,
   "id": "63fe0032",
   "metadata": {},
   "outputs": [
    {
     "data": {
      "text/plain": [
       "array([[-0.9194862 , -0.12914209],\n",
       "       [-0.91925771, -0.12937058],\n",
       "       [-0.91902922, -0.00507246],\n",
       "       [-0.91880073,  0.12333846],\n",
       "       [-0.91857224,  0.04496667]])"
      ]
     },
     "execution_count": 9,
     "metadata": {},
     "output_type": "execute_result"
    }
   ],
   "source": [
    "data[0:5]"
   ]
  },
  {
   "cell_type": "code",
   "execution_count": 10,
   "id": "87ac24ef",
   "metadata": {
    "scrolled": true
   },
   "outputs": [],
   "source": [
    "train_input = []\n",
    "train_label = []\n",
    "\n",
    "data_len = 325\n",
    "time_step = 100\n",
    "out_dim = 25\n",
    "\n",
    "for i in range(176):\n",
    "    _input = data[i:i+time_step]\n",
    "    _label = data[i+time_step:i+time_step+out_dim]\n",
    "    \n",
    "    train_input.append(_input)\n",
    "    train_label.append(_label)\n",
    "    \n",
    "\n",
    "train_input = np.array(train_input)\n",
    "train_label = np.array(train_label)\n",
    "train_label = np.delete(train_label, 0, axis=2)\n",
    "\n",
    "\n",
    "test_input = np.array(data[data_len-out_dim-time_step:data_len-out_dim])\n",
    "test_label =np.array(data[300:325])\n",
    "test_label = np.delete(test_label, 0, axis=1)"
   ]
  },
  {
   "cell_type": "code",
   "execution_count": 11,
   "id": "41975dc7",
   "metadata": {},
   "outputs": [
    {
     "data": {
      "text/plain": [
       "(176, 100, 2)"
      ]
     },
     "execution_count": 11,
     "metadata": {},
     "output_type": "execute_result"
    }
   ],
   "source": [
    "train_input.shape"
   ]
  },
  {
   "cell_type": "code",
   "execution_count": 12,
   "id": "b762c3ba",
   "metadata": {},
   "outputs": [
    {
     "data": {
      "text/plain": [
       "(176, 25, 1)"
      ]
     },
     "execution_count": 12,
     "metadata": {},
     "output_type": "execute_result"
    }
   ],
   "source": [
    "train_label.shape"
   ]
  },
  {
   "cell_type": "code",
   "execution_count": 13,
   "id": "127c63a2",
   "metadata": {},
   "outputs": [
    {
     "data": {
      "text/plain": [
       "(100, 2)"
      ]
     },
     "execution_count": 13,
     "metadata": {},
     "output_type": "execute_result"
    }
   ],
   "source": [
    "test_input.shape"
   ]
  },
  {
   "cell_type": "code",
   "execution_count": 14,
   "id": "6647472d",
   "metadata": {},
   "outputs": [
    {
     "data": {
      "text/plain": [
       "(25, 1)"
      ]
     },
     "execution_count": 14,
     "metadata": {},
     "output_type": "execute_result"
    }
   ],
   "source": [
    "test_label.shape"
   ]
  },
  {
   "cell_type": "code",
   "execution_count": 15,
   "id": "5d83c07f",
   "metadata": {},
   "outputs": [],
   "source": [
    "np.random.seed(10)\n",
    "shuffled_indices = np.random.permutation(np.arange(train_input.shape[0]))\n",
    "train_input = train_input[shuffled_indices, :, :]\n",
    "train_label = train_label[shuffled_indices, :]"
   ]
  },
  {
   "cell_type": "code",
   "execution_count": 16,
   "id": "a183926e",
   "metadata": {
    "scrolled": true
   },
   "outputs": [
    {
     "name": "stdout",
     "output_type": "stream",
     "text": [
      "Model: \"sequential\"\n",
      "_________________________________________________________________\n",
      " Layer (type)                Output Shape              Param #   \n",
      "=================================================================\n",
      " simple_rnn (SimpleRNN)      (None, 128)               16768     \n",
      "                                                                 \n",
      " dense (Dense)               (None, 25)                3225      \n",
      "                                                                 \n",
      "=================================================================\n",
      "Total params: 19,993\n",
      "Trainable params: 19,993\n",
      "Non-trainable params: 0\n",
      "_________________________________________________________________\n"
     ]
    },
    {
     "name": "stderr",
     "output_type": "stream",
     "text": [
      "\u001b[34m\u001b[1mwandb\u001b[0m: \u001b[33mWARNING\u001b[0m The save_model argument by default saves the model in the HDF5 format that cannot save custom objects like subclassed models and custom layers. This behavior will be deprecated in a future release in favor of the SavedModel format. Meanwhile, the HDF5 model is saved as W&B files and the SavedModel as W&B Artifacts.\n"
     ]
    },
    {
     "name": "stdout",
     "output_type": "stream",
     "text": [
      "Epoch 1/1000\n",
      "4/5 [=======================>......] - ETA: 0s - loss: 0.8038 - mae: 0.7441INFO:tensorflow:Assets written to: C:\\Users\\PARK\\Documents\\LAB\\RNN vs LSTM\\FInal Example\\wandb\\run-20221015_185353-3s73nxty\\files\\model-best\\assets\n"
     ]
    },
    {
     "name": "stderr",
     "output_type": "stream",
     "text": [
      "\u001b[34m\u001b[1mwandb\u001b[0m: Adding directory to artifact (C:\\Users\\PARK\\Documents\\LAB\\RNN vs LSTM\\FInal Example\\wandb\\run-20221015_185353-3s73nxty\\files\\model-best)... Done. 0.0s\n"
     ]
    },
    {
     "name": "stdout",
     "output_type": "stream",
     "text": [
      "5/5 [==============================] - 4s 620ms/step - loss: 0.7618 - mae: 0.7175 - val_loss: 0.3158 - val_mae: 0.4396\n",
      "Epoch 2/1000\n",
      "5/5 [==============================] - ETA: 0s - loss: 0.2404 - mae: 0.3854INFO:tensorflow:Assets written to: C:\\Users\\PARK\\Documents\\LAB\\RNN vs LSTM\\FInal Example\\wandb\\run-20221015_185353-3s73nxty\\files\\model-best\\assets\n"
     ]
    },
    {
     "name": "stderr",
     "output_type": "stream",
     "text": [
      "\u001b[34m\u001b[1mwandb\u001b[0m: Adding directory to artifact (C:\\Users\\PARK\\Documents\\LAB\\RNN vs LSTM\\FInal Example\\wandb\\run-20221015_185353-3s73nxty\\files\\model-best)... Done. 0.0s\n"
     ]
    },
    {
     "name": "stdout",
     "output_type": "stream",
     "text": [
      "5/5 [==============================] - 2s 453ms/step - loss: 0.2404 - mae: 0.3854 - val_loss: 0.1414 - val_mae: 0.3072\n",
      "Epoch 3/1000\n",
      "5/5 [==============================] - ETA: 0s - loss: 0.1330 - mae: 0.2959INFO:tensorflow:Assets written to: C:\\Users\\PARK\\Documents\\LAB\\RNN vs LSTM\\FInal Example\\wandb\\run-20221015_185353-3s73nxty\\files\\model-best\\assets\n"
     ]
    },
    {
     "name": "stderr",
     "output_type": "stream",
     "text": [
      "\u001b[34m\u001b[1mwandb\u001b[0m: Adding directory to artifact (C:\\Users\\PARK\\Documents\\LAB\\RNN vs LSTM\\FInal Example\\wandb\\run-20221015_185353-3s73nxty\\files\\model-best)... Done. 0.0s\n"
     ]
    },
    {
     "name": "stdout",
     "output_type": "stream",
     "text": [
      "5/5 [==============================] - 2s 495ms/step - loss: 0.1330 - mae: 0.2959 - val_loss: 0.1048 - val_mae: 0.2564\n",
      "Epoch 4/1000\n",
      "5/5 [==============================] - ETA: 0s - loss: 0.0990 - mae: 0.2518INFO:tensorflow:Assets written to: C:\\Users\\PARK\\Documents\\LAB\\RNN vs LSTM\\FInal Example\\wandb\\run-20221015_185353-3s73nxty\\files\\model-best\\assets\n"
     ]
    },
    {
     "name": "stderr",
     "output_type": "stream",
     "text": [
      "\u001b[34m\u001b[1mwandb\u001b[0m: Adding directory to artifact (C:\\Users\\PARK\\Documents\\LAB\\RNN vs LSTM\\FInal Example\\wandb\\run-20221015_185353-3s73nxty\\files\\model-best)... Done. 0.0s\n"
     ]
    },
    {
     "name": "stdout",
     "output_type": "stream",
     "text": [
      "5/5 [==============================] - 2s 508ms/step - loss: 0.0990 - mae: 0.2518 - val_loss: 0.0859 - val_mae: 0.2321\n",
      "Epoch 5/1000\n",
      "5/5 [==============================] - ETA: 0s - loss: 0.0852 - mae: 0.2305INFO:tensorflow:Assets written to: C:\\Users\\PARK\\Documents\\LAB\\RNN vs LSTM\\FInal Example\\wandb\\run-20221015_185353-3s73nxty\\files\\model-best\\assets\n"
     ]
    },
    {
     "name": "stderr",
     "output_type": "stream",
     "text": [
      "\u001b[34m\u001b[1mwandb\u001b[0m: Adding directory to artifact (C:\\Users\\PARK\\Documents\\LAB\\RNN vs LSTM\\FInal Example\\wandb\\run-20221015_185353-3s73nxty\\files\\model-best)... Done. 0.0s\n"
     ]
    },
    {
     "name": "stdout",
     "output_type": "stream",
     "text": [
      "5/5 [==============================] - 2s 490ms/step - loss: 0.0852 - mae: 0.2305 - val_loss: 0.0698 - val_mae: 0.2105\n",
      "Epoch 6/1000\n",
      "5/5 [==============================] - ETA: 0s - loss: 0.0734 - mae: 0.2128INFO:tensorflow:Assets written to: C:\\Users\\PARK\\Documents\\LAB\\RNN vs LSTM\\FInal Example\\wandb\\run-20221015_185353-3s73nxty\\files\\model-best\\assets\n"
     ]
    },
    {
     "name": "stderr",
     "output_type": "stream",
     "text": [
      "\u001b[34m\u001b[1mwandb\u001b[0m: Adding directory to artifact (C:\\Users\\PARK\\Documents\\LAB\\RNN vs LSTM\\FInal Example\\wandb\\run-20221015_185353-3s73nxty\\files\\model-best)... Done. 0.0s\n"
     ]
    },
    {
     "name": "stdout",
     "output_type": "stream",
     "text": [
      "5/5 [==============================] - 2s 481ms/step - loss: 0.0734 - mae: 0.2128 - val_loss: 0.0654 - val_mae: 0.2037\n",
      "Epoch 7/1000\n",
      "5/5 [==============================] - ETA: 0s - loss: 0.0682 - mae: 0.2054INFO:tensorflow:Assets written to: C:\\Users\\PARK\\Documents\\LAB\\RNN vs LSTM\\FInal Example\\wandb\\run-20221015_185353-3s73nxty\\files\\model-best\\assets\n"
     ]
    },
    {
     "name": "stderr",
     "output_type": "stream",
     "text": [
      "\u001b[34m\u001b[1mwandb\u001b[0m: Adding directory to artifact (C:\\Users\\PARK\\Documents\\LAB\\RNN vs LSTM\\FInal Example\\wandb\\run-20221015_185353-3s73nxty\\files\\model-best)... Done. 0.0s\n"
     ]
    },
    {
     "name": "stdout",
     "output_type": "stream",
     "text": [
      "5/5 [==============================] - 2s 516ms/step - loss: 0.0682 - mae: 0.2054 - val_loss: 0.0630 - val_mae: 0.1992\n",
      "Epoch 8/1000\n",
      "5/5 [==============================] - ETA: 0s - loss: 0.0634 - mae: 0.1977INFO:tensorflow:Assets written to: C:\\Users\\PARK\\Documents\\LAB\\RNN vs LSTM\\FInal Example\\wandb\\run-20221015_185353-3s73nxty\\files\\model-best\\assets\n"
     ]
    },
    {
     "name": "stderr",
     "output_type": "stream",
     "text": [
      "\u001b[34m\u001b[1mwandb\u001b[0m: Adding directory to artifact (C:\\Users\\PARK\\Documents\\LAB\\RNN vs LSTM\\FInal Example\\wandb\\run-20221015_185353-3s73nxty\\files\\model-best)... Done. 0.0s\n"
     ]
    },
    {
     "name": "stdout",
     "output_type": "stream",
     "text": [
      "5/5 [==============================] - 2s 520ms/step - loss: 0.0634 - mae: 0.1977 - val_loss: 0.0601 - val_mae: 0.1909\n",
      "Epoch 9/1000\n",
      "5/5 [==============================] - 1s 155ms/step - loss: 0.0626 - mae: 0.1968 - val_loss: 0.0658 - val_mae: 0.1987\n",
      "Epoch 10/1000\n",
      "5/5 [==============================] - 1s 149ms/step - loss: 0.0621 - mae: 0.1954 - val_loss: 0.0615 - val_mae: 0.1917\n",
      "Epoch 11/1000\n",
      "5/5 [==============================] - ETA: 0s - loss: 0.0585 - mae: 0.1874INFO:tensorflow:Assets written to: C:\\Users\\PARK\\Documents\\LAB\\RNN vs LSTM\\FInal Example\\wandb\\run-20221015_185353-3s73nxty\\files\\model-best\\assets\n"
     ]
    },
    {
     "name": "stderr",
     "output_type": "stream",
     "text": [
      "\u001b[34m\u001b[1mwandb\u001b[0m: Adding directory to artifact (C:\\Users\\PARK\\Documents\\LAB\\RNN vs LSTM\\FInal Example\\wandb\\run-20221015_185353-3s73nxty\\files\\model-best)... Done. 0.0s\n"
     ]
    },
    {
     "name": "stdout",
     "output_type": "stream",
     "text": [
      "5/5 [==============================] - 2s 504ms/step - loss: 0.0585 - mae: 0.1874 - val_loss: 0.0565 - val_mae: 0.1831\n",
      "Epoch 12/1000\n",
      "5/5 [==============================] - ETA: 0s - loss: 0.0559 - mae: 0.1820INFO:tensorflow:Assets written to: C:\\Users\\PARK\\Documents\\LAB\\RNN vs LSTM\\FInal Example\\wandb\\run-20221015_185353-3s73nxty\\files\\model-best\\assets\n"
     ]
    },
    {
     "name": "stderr",
     "output_type": "stream",
     "text": [
      "\u001b[34m\u001b[1mwandb\u001b[0m: Adding directory to artifact (C:\\Users\\PARK\\Documents\\LAB\\RNN vs LSTM\\FInal Example\\wandb\\run-20221015_185353-3s73nxty\\files\\model-best)... Done. 0.0s\n"
     ]
    },
    {
     "name": "stdout",
     "output_type": "stream",
     "text": [
      "5/5 [==============================] - 2s 521ms/step - loss: 0.0559 - mae: 0.1820 - val_loss: 0.0534 - val_mae: 0.1800\n",
      "Epoch 13/1000\n",
      "5/5 [==============================] - 1s 158ms/step - loss: 0.0544 - mae: 0.1800 - val_loss: 0.0587 - val_mae: 0.1922\n",
      "Epoch 14/1000\n",
      "5/5 [==============================] - ETA: 0s - loss: 0.0565 - mae: 0.1856INFO:tensorflow:Assets written to: C:\\Users\\PARK\\Documents\\LAB\\RNN vs LSTM\\FInal Example\\wandb\\run-20221015_185353-3s73nxty\\files\\model-best\\assets\n"
     ]
    },
    {
     "name": "stderr",
     "output_type": "stream",
     "text": [
      "\u001b[34m\u001b[1mwandb\u001b[0m: Adding directory to artifact (C:\\Users\\PARK\\Documents\\LAB\\RNN vs LSTM\\FInal Example\\wandb\\run-20221015_185353-3s73nxty\\files\\model-best)... Done. 0.0s\n"
     ]
    },
    {
     "name": "stdout",
     "output_type": "stream",
     "text": [
      "5/5 [==============================] - 2s 479ms/step - loss: 0.0565 - mae: 0.1856 - val_loss: 0.0523 - val_mae: 0.1754\n",
      "Epoch 15/1000\n",
      "5/5 [==============================] - 1s 172ms/step - loss: 0.0539 - mae: 0.1808 - val_loss: 0.0613 - val_mae: 0.1921\n",
      "Epoch 16/1000\n",
      "5/5 [==============================] - 1s 157ms/step - loss: 0.0555 - mae: 0.1846 - val_loss: 0.0544 - val_mae: 0.1786\n",
      "Epoch 17/1000\n",
      "4/5 [=======================>......] - ETA: 0s - loss: 0.0539 - mae: 0.1783INFO:tensorflow:Assets written to: C:\\Users\\PARK\\Documents\\LAB\\RNN vs LSTM\\FInal Example\\wandb\\run-20221015_185353-3s73nxty\\files\\model-best\\assets\n"
     ]
    },
    {
     "name": "stderr",
     "output_type": "stream",
     "text": [
      "\u001b[34m\u001b[1mwandb\u001b[0m: Adding directory to artifact (C:\\Users\\PARK\\Documents\\LAB\\RNN vs LSTM\\FInal Example\\wandb\\run-20221015_185353-3s73nxty\\files\\model-best)... Done. 0.0s\n"
     ]
    },
    {
     "name": "stdout",
     "output_type": "stream",
     "text": [
      "5/5 [==============================] - 2s 512ms/step - loss: 0.0533 - mae: 0.1774 - val_loss: 0.0501 - val_mae: 0.1712\n",
      "Epoch 18/1000\n",
      "5/5 [==============================] - 1s 173ms/step - loss: 0.0498 - mae: 0.1706 - val_loss: 0.0521 - val_mae: 0.1788\n",
      "Epoch 19/1000\n",
      "4/5 [=======================>......] - ETA: 0s - loss: 0.0493 - mae: 0.1715INFO:tensorflow:Assets written to: C:\\Users\\PARK\\Documents\\LAB\\RNN vs LSTM\\FInal Example\\wandb\\run-20221015_185353-3s73nxty\\files\\model-best\\assets\n"
     ]
    },
    {
     "name": "stderr",
     "output_type": "stream",
     "text": [
      "\u001b[34m\u001b[1mwandb\u001b[0m: Adding directory to artifact (C:\\Users\\PARK\\Documents\\LAB\\RNN vs LSTM\\FInal Example\\wandb\\run-20221015_185353-3s73nxty\\files\\model-best)... Done. 0.0s\n"
     ]
    },
    {
     "name": "stdout",
     "output_type": "stream",
     "text": [
      "5/5 [==============================] - 2s 484ms/step - loss: 0.0487 - mae: 0.1701 - val_loss: 0.0475 - val_mae: 0.1679\n",
      "Epoch 20/1000\n",
      "5/5 [==============================] - ETA: 0s - loss: 0.0459 - mae: 0.1642INFO:tensorflow:Assets written to: C:\\Users\\PARK\\Documents\\LAB\\RNN vs LSTM\\FInal Example\\wandb\\run-20221015_185353-3s73nxty\\files\\model-best\\assets\n"
     ]
    },
    {
     "name": "stderr",
     "output_type": "stream",
     "text": [
      "\u001b[34m\u001b[1mwandb\u001b[0m: Adding directory to artifact (C:\\Users\\PARK\\Documents\\LAB\\RNN vs LSTM\\FInal Example\\wandb\\run-20221015_185353-3s73nxty\\files\\model-best)... Done. 0.0s\n"
     ]
    },
    {
     "name": "stdout",
     "output_type": "stream",
     "text": [
      "5/5 [==============================] - 2s 529ms/step - loss: 0.0459 - mae: 0.1642 - val_loss: 0.0466 - val_mae: 0.1653\n",
      "Epoch 21/1000\n",
      "5/5 [==============================] - 1s 164ms/step - loss: 0.0444 - mae: 0.1621 - val_loss: 0.0473 - val_mae: 0.1658\n",
      "Epoch 22/1000\n",
      "5/5 [==============================] - ETA: 0s - loss: 0.0437 - mae: 0.1596INFO:tensorflow:Assets written to: C:\\Users\\PARK\\Documents\\LAB\\RNN vs LSTM\\FInal Example\\wandb\\run-20221015_185353-3s73nxty\\files\\model-best\\assets\n"
     ]
    },
    {
     "name": "stderr",
     "output_type": "stream",
     "text": [
      "\u001b[34m\u001b[1mwandb\u001b[0m: Adding directory to artifact (C:\\Users\\PARK\\Documents\\LAB\\RNN vs LSTM\\FInal Example\\wandb\\run-20221015_185353-3s73nxty\\files\\model-best)... Done. 0.0s\n"
     ]
    },
    {
     "name": "stdout",
     "output_type": "stream",
     "text": [
      "5/5 [==============================] - 2s 483ms/step - loss: 0.0437 - mae: 0.1596 - val_loss: 0.0449 - val_mae: 0.1627\n",
      "Epoch 23/1000\n",
      "5/5 [==============================] - ETA: 0s - loss: 0.0425 - mae: 0.1580INFO:tensorflow:Assets written to: C:\\Users\\PARK\\Documents\\LAB\\RNN vs LSTM\\FInal Example\\wandb\\run-20221015_185353-3s73nxty\\files\\model-best\\assets\n"
     ]
    },
    {
     "name": "stderr",
     "output_type": "stream",
     "text": [
      "\u001b[34m\u001b[1mwandb\u001b[0m: Adding directory to artifact (C:\\Users\\PARK\\Documents\\LAB\\RNN vs LSTM\\FInal Example\\wandb\\run-20221015_185353-3s73nxty\\files\\model-best)... Done. 0.0s\n"
     ]
    },
    {
     "name": "stdout",
     "output_type": "stream",
     "text": [
      "5/5 [==============================] - 2s 499ms/step - loss: 0.0425 - mae: 0.1580 - val_loss: 0.0426 - val_mae: 0.1591\n",
      "Epoch 24/1000\n",
      "5/5 [==============================] - ETA: 0s - loss: 0.0409 - mae: 0.1549INFO:tensorflow:Assets written to: C:\\Users\\PARK\\Documents\\LAB\\RNN vs LSTM\\FInal Example\\wandb\\run-20221015_185353-3s73nxty\\files\\model-best\\assets\n"
     ]
    },
    {
     "name": "stderr",
     "output_type": "stream",
     "text": [
      "\u001b[34m\u001b[1mwandb\u001b[0m: Adding directory to artifact (C:\\Users\\PARK\\Documents\\LAB\\RNN vs LSTM\\FInal Example\\wandb\\run-20221015_185353-3s73nxty\\files\\model-best)... Done. 0.0s\n"
     ]
    },
    {
     "name": "stdout",
     "output_type": "stream",
     "text": [
      "5/5 [==============================] - 2s 499ms/step - loss: 0.0409 - mae: 0.1549 - val_loss: 0.0420 - val_mae: 0.1576\n",
      "Epoch 25/1000\n",
      "5/5 [==============================] - ETA: 0s - loss: 0.0399 - mae: 0.1528INFO:tensorflow:Assets written to: C:\\Users\\PARK\\Documents\\LAB\\RNN vs LSTM\\FInal Example\\wandb\\run-20221015_185353-3s73nxty\\files\\model-best\\assets\n"
     ]
    },
    {
     "name": "stderr",
     "output_type": "stream",
     "text": [
      "\u001b[34m\u001b[1mwandb\u001b[0m: Adding directory to artifact (C:\\Users\\PARK\\Documents\\LAB\\RNN vs LSTM\\FInal Example\\wandb\\run-20221015_185353-3s73nxty\\files\\model-best)... Done. 0.0s\n"
     ]
    },
    {
     "name": "stdout",
     "output_type": "stream",
     "text": [
      "5/5 [==============================] - 2s 494ms/step - loss: 0.0399 - mae: 0.1528 - val_loss: 0.0411 - val_mae: 0.1564\n",
      "Epoch 26/1000\n",
      "5/5 [==============================] - 1s 175ms/step - loss: 0.0400 - mae: 0.1534 - val_loss: 0.0416 - val_mae: 0.1575\n",
      "Epoch 27/1000\n",
      "5/5 [==============================] - ETA: 0s - loss: 0.0382 - mae: 0.1497INFO:tensorflow:Assets written to: C:\\Users\\PARK\\Documents\\LAB\\RNN vs LSTM\\FInal Example\\wandb\\run-20221015_185353-3s73nxty\\files\\model-best\\assets\n"
     ]
    },
    {
     "name": "stderr",
     "output_type": "stream",
     "text": [
      "\u001b[34m\u001b[1mwandb\u001b[0m: Adding directory to artifact (C:\\Users\\PARK\\Documents\\LAB\\RNN vs LSTM\\FInal Example\\wandb\\run-20221015_185353-3s73nxty\\files\\model-best)... Done. 0.0s\n"
     ]
    },
    {
     "name": "stdout",
     "output_type": "stream",
     "text": [
      "5/5 [==============================] - 2s 502ms/step - loss: 0.0382 - mae: 0.1497 - val_loss: 0.0386 - val_mae: 0.1514\n",
      "Epoch 28/1000\n",
      "5/5 [==============================] - ETA: 0s - loss: 0.0373 - mae: 0.1489INFO:tensorflow:Assets written to: C:\\Users\\PARK\\Documents\\LAB\\RNN vs LSTM\\FInal Example\\wandb\\run-20221015_185353-3s73nxty\\files\\model-best\\assets\n"
     ]
    },
    {
     "name": "stderr",
     "output_type": "stream",
     "text": [
      "\u001b[34m\u001b[1mwandb\u001b[0m: Adding directory to artifact (C:\\Users\\PARK\\Documents\\LAB\\RNN vs LSTM\\FInal Example\\wandb\\run-20221015_185353-3s73nxty\\files\\model-best)... Done. 0.0s\n"
     ]
    },
    {
     "name": "stdout",
     "output_type": "stream",
     "text": [
      "5/5 [==============================] - 2s 506ms/step - loss: 0.0373 - mae: 0.1489 - val_loss: 0.0380 - val_mae: 0.1501\n",
      "Epoch 29/1000\n",
      "5/5 [==============================] - ETA: 0s - loss: 0.0360 - mae: 0.1457INFO:tensorflow:Assets written to: C:\\Users\\PARK\\Documents\\LAB\\RNN vs LSTM\\FInal Example\\wandb\\run-20221015_185353-3s73nxty\\files\\model-best\\assets\n"
     ]
    },
    {
     "name": "stderr",
     "output_type": "stream",
     "text": [
      "\u001b[34m\u001b[1mwandb\u001b[0m: Adding directory to artifact (C:\\Users\\PARK\\Documents\\LAB\\RNN vs LSTM\\FInal Example\\wandb\\run-20221015_185353-3s73nxty\\files\\model-best)... Done. 0.0s\n"
     ]
    },
    {
     "name": "stdout",
     "output_type": "stream",
     "text": [
      "5/5 [==============================] - 2s 473ms/step - loss: 0.0360 - mae: 0.1457 - val_loss: 0.0375 - val_mae: 0.1487\n",
      "Epoch 30/1000\n",
      "5/5 [==============================] - ETA: 0s - loss: 0.0359 - mae: 0.1448INFO:tensorflow:Assets written to: C:\\Users\\PARK\\Documents\\LAB\\RNN vs LSTM\\FInal Example\\wandb\\run-20221015_185353-3s73nxty\\files\\model-best\\assets\n"
     ]
    },
    {
     "name": "stderr",
     "output_type": "stream",
     "text": [
      "\u001b[34m\u001b[1mwandb\u001b[0m: Adding directory to artifact (C:\\Users\\PARK\\Documents\\LAB\\RNN vs LSTM\\FInal Example\\wandb\\run-20221015_185353-3s73nxty\\files\\model-best)... Done. 0.0s\n"
     ]
    },
    {
     "name": "stdout",
     "output_type": "stream",
     "text": [
      "5/5 [==============================] - 2s 507ms/step - loss: 0.0359 - mae: 0.1448 - val_loss: 0.0357 - val_mae: 0.1448\n",
      "Epoch 31/1000\n",
      "5/5 [==============================] - ETA: 0s - loss: 0.0343 - mae: 0.1423INFO:tensorflow:Assets written to: C:\\Users\\PARK\\Documents\\LAB\\RNN vs LSTM\\FInal Example\\wandb\\run-20221015_185353-3s73nxty\\files\\model-best\\assets\n"
     ]
    },
    {
     "name": "stderr",
     "output_type": "stream",
     "text": [
      "\u001b[34m\u001b[1mwandb\u001b[0m: Adding directory to artifact (C:\\Users\\PARK\\Documents\\LAB\\RNN vs LSTM\\FInal Example\\wandb\\run-20221015_185353-3s73nxty\\files\\model-best)... Done. 0.0s\n"
     ]
    },
    {
     "name": "stdout",
     "output_type": "stream",
     "text": [
      "5/5 [==============================] - 2s 543ms/step - loss: 0.0343 - mae: 0.1423 - val_loss: 0.0348 - val_mae: 0.1432\n",
      "Epoch 32/1000\n",
      "5/5 [==============================] - 1s 153ms/step - loss: 0.0335 - mae: 0.1402 - val_loss: 0.0372 - val_mae: 0.1488\n",
      "Epoch 33/1000\n",
      "5/5 [==============================] - ETA: 0s - loss: 0.0341 - mae: 0.1428INFO:tensorflow:Assets written to: C:\\Users\\PARK\\Documents\\LAB\\RNN vs LSTM\\FInal Example\\wandb\\run-20221015_185353-3s73nxty\\files\\model-best\\assets\n"
     ]
    },
    {
     "name": "stderr",
     "output_type": "stream",
     "text": [
      "\u001b[34m\u001b[1mwandb\u001b[0m: Adding directory to artifact (C:\\Users\\PARK\\Documents\\LAB\\RNN vs LSTM\\FInal Example\\wandb\\run-20221015_185353-3s73nxty\\files\\model-best)... Done. 0.0s\n"
     ]
    },
    {
     "name": "stdout",
     "output_type": "stream",
     "text": [
      "5/5 [==============================] - 2s 492ms/step - loss: 0.0341 - mae: 0.1428 - val_loss: 0.0331 - val_mae: 0.1393\n",
      "Epoch 34/1000\n",
      "5/5 [==============================] - ETA: 0s - loss: 0.0325 - mae: 0.1380INFO:tensorflow:Assets written to: C:\\Users\\PARK\\Documents\\LAB\\RNN vs LSTM\\FInal Example\\wandb\\run-20221015_185353-3s73nxty\\files\\model-best\\assets\n"
     ]
    },
    {
     "name": "stderr",
     "output_type": "stream",
     "text": [
      "\u001b[34m\u001b[1mwandb\u001b[0m: Adding directory to artifact (C:\\Users\\PARK\\Documents\\LAB\\RNN vs LSTM\\FInal Example\\wandb\\run-20221015_185353-3s73nxty\\files\\model-best)... Done. 0.0s\n"
     ]
    },
    {
     "name": "stdout",
     "output_type": "stream",
     "text": [
      "5/5 [==============================] - 2s 525ms/step - loss: 0.0325 - mae: 0.1380 - val_loss: 0.0331 - val_mae: 0.1399\n",
      "Epoch 35/1000\n",
      "4/5 [=======================>......] - ETA: 0s - loss: 0.0310 - mae: 0.1350INFO:tensorflow:Assets written to: C:\\Users\\PARK\\Documents\\LAB\\RNN vs LSTM\\FInal Example\\wandb\\run-20221015_185353-3s73nxty\\files\\model-best\\assets\n"
     ]
    },
    {
     "name": "stderr",
     "output_type": "stream",
     "text": [
      "\u001b[34m\u001b[1mwandb\u001b[0m: Adding directory to artifact (C:\\Users\\PARK\\Documents\\LAB\\RNN vs LSTM\\FInal Example\\wandb\\run-20221015_185353-3s73nxty\\files\\model-best)... Done. 0.0s\n"
     ]
    },
    {
     "name": "stdout",
     "output_type": "stream",
     "text": [
      "5/5 [==============================] - 2s 469ms/step - loss: 0.0310 - mae: 0.1353 - val_loss: 0.0320 - val_mae: 0.1380\n",
      "Epoch 36/1000\n",
      "5/5 [==============================] - 1s 163ms/step - loss: 0.0305 - mae: 0.1334 - val_loss: 0.0320 - val_mae: 0.1382\n",
      "Epoch 37/1000\n",
      "5/5 [==============================] - ETA: 0s - loss: 0.0304 - mae: 0.1340INFO:tensorflow:Assets written to: C:\\Users\\PARK\\Documents\\LAB\\RNN vs LSTM\\FInal Example\\wandb\\run-20221015_185353-3s73nxty\\files\\model-best\\assets\n"
     ]
    },
    {
     "name": "stderr",
     "output_type": "stream",
     "text": [
      "\u001b[34m\u001b[1mwandb\u001b[0m: Adding directory to artifact (C:\\Users\\PARK\\Documents\\LAB\\RNN vs LSTM\\FInal Example\\wandb\\run-20221015_185353-3s73nxty\\files\\model-best)... Done. 0.0s\n"
     ]
    },
    {
     "name": "stdout",
     "output_type": "stream",
     "text": [
      "5/5 [==============================] - 2s 502ms/step - loss: 0.0304 - mae: 0.1340 - val_loss: 0.0301 - val_mae: 0.1327\n",
      "Epoch 38/1000\n",
      "5/5 [==============================] - ETA: 0s - loss: 0.0287 - mae: 0.1305INFO:tensorflow:Assets written to: C:\\Users\\PARK\\Documents\\LAB\\RNN vs LSTM\\FInal Example\\wandb\\run-20221015_185353-3s73nxty\\files\\model-best\\assets\n"
     ]
    },
    {
     "name": "stderr",
     "output_type": "stream",
     "text": [
      "\u001b[34m\u001b[1mwandb\u001b[0m: Adding directory to artifact (C:\\Users\\PARK\\Documents\\LAB\\RNN vs LSTM\\FInal Example\\wandb\\run-20221015_185353-3s73nxty\\files\\model-best)... Done. 0.0s\n"
     ]
    },
    {
     "name": "stdout",
     "output_type": "stream",
     "text": [
      "5/5 [==============================] - 2s 498ms/step - loss: 0.0287 - mae: 0.1305 - val_loss: 0.0296 - val_mae: 0.1316\n",
      "Epoch 39/1000\n",
      "5/5 [==============================] - ETA: 0s - loss: 0.0281 - mae: 0.1283INFO:tensorflow:Assets written to: C:\\Users\\PARK\\Documents\\LAB\\RNN vs LSTM\\FInal Example\\wandb\\run-20221015_185353-3s73nxty\\files\\model-best\\assets\n"
     ]
    },
    {
     "name": "stderr",
     "output_type": "stream",
     "text": [
      "\u001b[34m\u001b[1mwandb\u001b[0m: Adding directory to artifact (C:\\Users\\PARK\\Documents\\LAB\\RNN vs LSTM\\FInal Example\\wandb\\run-20221015_185353-3s73nxty\\files\\model-best)... Done. 0.0s\n"
     ]
    },
    {
     "name": "stdout",
     "output_type": "stream",
     "text": [
      "5/5 [==============================] - 2s 489ms/step - loss: 0.0281 - mae: 0.1283 - val_loss: 0.0292 - val_mae: 0.1322\n",
      "Epoch 40/1000\n",
      "5/5 [==============================] - ETA: 0s - loss: 0.0275 - mae: 0.1270INFO:tensorflow:Assets written to: C:\\Users\\PARK\\Documents\\LAB\\RNN vs LSTM\\FInal Example\\wandb\\run-20221015_185353-3s73nxty\\files\\model-best\\assets\n"
     ]
    },
    {
     "name": "stderr",
     "output_type": "stream",
     "text": [
      "\u001b[34m\u001b[1mwandb\u001b[0m: Adding directory to artifact (C:\\Users\\PARK\\Documents\\LAB\\RNN vs LSTM\\FInal Example\\wandb\\run-20221015_185353-3s73nxty\\files\\model-best)... Done. 0.0s\n"
     ]
    },
    {
     "name": "stdout",
     "output_type": "stream",
     "text": [
      "5/5 [==============================] - 2s 530ms/step - loss: 0.0275 - mae: 0.1270 - val_loss: 0.0285 - val_mae: 0.1296\n",
      "Epoch 41/1000\n",
      "5/5 [==============================] - ETA: 0s - loss: 0.0265 - mae: 0.1252INFO:tensorflow:Assets written to: C:\\Users\\PARK\\Documents\\LAB\\RNN vs LSTM\\FInal Example\\wandb\\run-20221015_185353-3s73nxty\\files\\model-best\\assets\n"
     ]
    },
    {
     "name": "stderr",
     "output_type": "stream",
     "text": [
      "\u001b[34m\u001b[1mwandb\u001b[0m: Adding directory to artifact (C:\\Users\\PARK\\Documents\\LAB\\RNN vs LSTM\\FInal Example\\wandb\\run-20221015_185353-3s73nxty\\files\\model-best)... Done. 0.0s\n"
     ]
    },
    {
     "name": "stdout",
     "output_type": "stream",
     "text": [
      "5/5 [==============================] - 2s 474ms/step - loss: 0.0265 - mae: 0.1252 - val_loss: 0.0275 - val_mae: 0.1280\n",
      "Epoch 42/1000\n",
      "5/5 [==============================] - ETA: 0s - loss: 0.0257 - mae: 0.1237INFO:tensorflow:Assets written to: C:\\Users\\PARK\\Documents\\LAB\\RNN vs LSTM\\FInal Example\\wandb\\run-20221015_185353-3s73nxty\\files\\model-best\\assets\n"
     ]
    },
    {
     "name": "stderr",
     "output_type": "stream",
     "text": [
      "\u001b[34m\u001b[1mwandb\u001b[0m: Adding directory to artifact (C:\\Users\\PARK\\Documents\\LAB\\RNN vs LSTM\\FInal Example\\wandb\\run-20221015_185353-3s73nxty\\files\\model-best)... Done. 0.0s\n"
     ]
    },
    {
     "name": "stdout",
     "output_type": "stream",
     "text": [
      "5/5 [==============================] - 2s 516ms/step - loss: 0.0257 - mae: 0.1237 - val_loss: 0.0269 - val_mae: 0.1262\n",
      "Epoch 43/1000\n",
      "5/5 [==============================] - ETA: 0s - loss: 0.0254 - mae: 0.1232INFO:tensorflow:Assets written to: C:\\Users\\PARK\\Documents\\LAB\\RNN vs LSTM\\FInal Example\\wandb\\run-20221015_185353-3s73nxty\\files\\model-best\\assets\n"
     ]
    },
    {
     "name": "stderr",
     "output_type": "stream",
     "text": [
      "\u001b[34m\u001b[1mwandb\u001b[0m: Adding directory to artifact (C:\\Users\\PARK\\Documents\\LAB\\RNN vs LSTM\\FInal Example\\wandb\\run-20221015_185353-3s73nxty\\files\\model-best)... Done. 0.0s\n"
     ]
    },
    {
     "name": "stdout",
     "output_type": "stream",
     "text": [
      "5/5 [==============================] - 2s 480ms/step - loss: 0.0254 - mae: 0.1232 - val_loss: 0.0261 - val_mae: 0.1240\n",
      "Epoch 44/1000\n",
      "5/5 [==============================] - ETA: 0s - loss: 0.0244 - mae: 0.1202INFO:tensorflow:Assets written to: C:\\Users\\PARK\\Documents\\LAB\\RNN vs LSTM\\FInal Example\\wandb\\run-20221015_185353-3s73nxty\\files\\model-best\\assets\n"
     ]
    },
    {
     "name": "stderr",
     "output_type": "stream",
     "text": [
      "\u001b[34m\u001b[1mwandb\u001b[0m: Adding directory to artifact (C:\\Users\\PARK\\Documents\\LAB\\RNN vs LSTM\\FInal Example\\wandb\\run-20221015_185353-3s73nxty\\files\\model-best)... Done. 0.0s\n"
     ]
    },
    {
     "name": "stdout",
     "output_type": "stream",
     "text": [
      "5/5 [==============================] - 2s 528ms/step - loss: 0.0244 - mae: 0.1202 - val_loss: 0.0255 - val_mae: 0.1238\n",
      "Epoch 45/1000\n",
      "5/5 [==============================] - 1s 150ms/step - loss: 0.0237 - mae: 0.1190 - val_loss: 0.0258 - val_mae: 0.1246\n",
      "Epoch 46/1000\n",
      "5/5 [==============================] - ETA: 0s - loss: 0.0231 - mae: 0.1174INFO:tensorflow:Assets written to: C:\\Users\\PARK\\Documents\\LAB\\RNN vs LSTM\\FInal Example\\wandb\\run-20221015_185353-3s73nxty\\files\\model-best\\assets\n"
     ]
    },
    {
     "name": "stderr",
     "output_type": "stream",
     "text": [
      "\u001b[34m\u001b[1mwandb\u001b[0m: Adding directory to artifact (C:\\Users\\PARK\\Documents\\LAB\\RNN vs LSTM\\FInal Example\\wandb\\run-20221015_185353-3s73nxty\\files\\model-best)... Done. 0.0s\n"
     ]
    },
    {
     "name": "stdout",
     "output_type": "stream",
     "text": [
      "5/5 [==============================] - 2s 499ms/step - loss: 0.0231 - mae: 0.1174 - val_loss: 0.0241 - val_mae: 0.1196\n",
      "Epoch 47/1000\n",
      "5/5 [==============================] - 1s 165ms/step - loss: 0.0227 - mae: 0.1170 - val_loss: 0.0250 - val_mae: 0.1220\n",
      "Epoch 48/1000\n",
      "5/5 [==============================] - ETA: 0s - loss: 0.0221 - mae: 0.1152INFO:tensorflow:Assets written to: C:\\Users\\PARK\\Documents\\LAB\\RNN vs LSTM\\FInal Example\\wandb\\run-20221015_185353-3s73nxty\\files\\model-best\\assets\n"
     ]
    },
    {
     "name": "stderr",
     "output_type": "stream",
     "text": [
      "\u001b[34m\u001b[1mwandb\u001b[0m: Adding directory to artifact (C:\\Users\\PARK\\Documents\\LAB\\RNN vs LSTM\\FInal Example\\wandb\\run-20221015_185353-3s73nxty\\files\\model-best)... Done. 0.0s\n"
     ]
    },
    {
     "name": "stdout",
     "output_type": "stream",
     "text": [
      "5/5 [==============================] - 2s 479ms/step - loss: 0.0221 - mae: 0.1152 - val_loss: 0.0238 - val_mae: 0.1192\n",
      "Epoch 49/1000\n",
      "5/5 [==============================] - ETA: 0s - loss: 0.0212 - mae: 0.1134INFO:tensorflow:Assets written to: C:\\Users\\PARK\\Documents\\LAB\\RNN vs LSTM\\FInal Example\\wandb\\run-20221015_185353-3s73nxty\\files\\model-best\\assets\n"
     ]
    },
    {
     "name": "stderr",
     "output_type": "stream",
     "text": [
      "\u001b[34m\u001b[1mwandb\u001b[0m: Adding directory to artifact (C:\\Users\\PARK\\Documents\\LAB\\RNN vs LSTM\\FInal Example\\wandb\\run-20221015_185353-3s73nxty\\files\\model-best)... Done. 0.0s\n"
     ]
    },
    {
     "name": "stdout",
     "output_type": "stream",
     "text": [
      "5/5 [==============================] - 2s 524ms/step - loss: 0.0212 - mae: 0.1134 - val_loss: 0.0226 - val_mae: 0.1171\n",
      "Epoch 50/1000\n",
      "5/5 [==============================] - 1s 171ms/step - loss: 0.0200 - mae: 0.1100 - val_loss: 0.0230 - val_mae: 0.1196\n",
      "Epoch 51/1000\n",
      "5/5 [==============================] - ETA: 0s - loss: 0.0202 - mae: 0.1109INFO:tensorflow:Assets written to: C:\\Users\\PARK\\Documents\\LAB\\RNN vs LSTM\\FInal Example\\wandb\\run-20221015_185353-3s73nxty\\files\\model-best\\assets\n"
     ]
    },
    {
     "name": "stderr",
     "output_type": "stream",
     "text": [
      "\u001b[34m\u001b[1mwandb\u001b[0m: Adding directory to artifact (C:\\Users\\PARK\\Documents\\LAB\\RNN vs LSTM\\FInal Example\\wandb\\run-20221015_185353-3s73nxty\\files\\model-best)... Done. 0.0s\n"
     ]
    },
    {
     "name": "stdout",
     "output_type": "stream",
     "text": [
      "5/5 [==============================] - 2s 491ms/step - loss: 0.0202 - mae: 0.1109 - val_loss: 0.0215 - val_mae: 0.1143\n",
      "Epoch 52/1000\n",
      "5/5 [==============================] - ETA: 0s - loss: 0.0192 - mae: 0.1080INFO:tensorflow:Assets written to: C:\\Users\\PARK\\Documents\\LAB\\RNN vs LSTM\\FInal Example\\wandb\\run-20221015_185353-3s73nxty\\files\\model-best\\assets\n"
     ]
    },
    {
     "name": "stderr",
     "output_type": "stream",
     "text": [
      "\u001b[34m\u001b[1mwandb\u001b[0m: Adding directory to artifact (C:\\Users\\PARK\\Documents\\LAB\\RNN vs LSTM\\FInal Example\\wandb\\run-20221015_185353-3s73nxty\\files\\model-best)... Done. 0.0s\n"
     ]
    },
    {
     "name": "stdout",
     "output_type": "stream",
     "text": [
      "5/5 [==============================] - 2s 498ms/step - loss: 0.0192 - mae: 0.1080 - val_loss: 0.0209 - val_mae: 0.1129\n",
      "Epoch 53/1000\n",
      "5/5 [==============================] - ETA: 0s - loss: 0.0189 - mae: 0.1073INFO:tensorflow:Assets written to: C:\\Users\\PARK\\Documents\\LAB\\RNN vs LSTM\\FInal Example\\wandb\\run-20221015_185353-3s73nxty\\files\\model-best\\assets\n"
     ]
    },
    {
     "name": "stderr",
     "output_type": "stream",
     "text": [
      "\u001b[34m\u001b[1mwandb\u001b[0m: Adding directory to artifact (C:\\Users\\PARK\\Documents\\LAB\\RNN vs LSTM\\FInal Example\\wandb\\run-20221015_185353-3s73nxty\\files\\model-best)... Done. 0.0s\n"
     ]
    },
    {
     "name": "stdout",
     "output_type": "stream",
     "text": [
      "5/5 [==============================] - 2s 507ms/step - loss: 0.0189 - mae: 0.1073 - val_loss: 0.0206 - val_mae: 0.1113\n",
      "Epoch 54/1000\n",
      "5/5 [==============================] - 1s 170ms/step - loss: 0.0181 - mae: 0.1050 - val_loss: 0.0224 - val_mae: 0.1163\n",
      "Epoch 55/1000\n",
      "5/5 [==============================] - 1s 149ms/step - loss: 0.0195 - mae: 0.1109 - val_loss: 0.0219 - val_mae: 0.1147\n",
      "Epoch 56/1000\n",
      "5/5 [==============================] - ETA: 0s - loss: 0.0185 - mae: 0.1063INFO:tensorflow:Assets written to: C:\\Users\\PARK\\Documents\\LAB\\RNN vs LSTM\\FInal Example\\wandb\\run-20221015_185353-3s73nxty\\files\\model-best\\assets\n"
     ]
    },
    {
     "name": "stderr",
     "output_type": "stream",
     "text": [
      "\u001b[34m\u001b[1mwandb\u001b[0m: Adding directory to artifact (C:\\Users\\PARK\\Documents\\LAB\\RNN vs LSTM\\FInal Example\\wandb\\run-20221015_185353-3s73nxty\\files\\model-best)... Done. 0.0s\n"
     ]
    },
    {
     "name": "stdout",
     "output_type": "stream",
     "text": [
      "5/5 [==============================] - 2s 473ms/step - loss: 0.0185 - mae: 0.1063 - val_loss: 0.0188 - val_mae: 0.1071\n",
      "Epoch 57/1000\n",
      "5/5 [==============================] - 1s 159ms/step - loss: 0.0171 - mae: 0.1025 - val_loss: 0.0195 - val_mae: 0.1084\n",
      "Epoch 58/1000\n",
      "5/5 [==============================] - ETA: 0s - loss: 0.0171 - mae: 0.1030INFO:tensorflow:Assets written to: C:\\Users\\PARK\\Documents\\LAB\\RNN vs LSTM\\FInal Example\\wandb\\run-20221015_185353-3s73nxty\\files\\model-best\\assets\n"
     ]
    },
    {
     "name": "stderr",
     "output_type": "stream",
     "text": [
      "\u001b[34m\u001b[1mwandb\u001b[0m: Adding directory to artifact (C:\\Users\\PARK\\Documents\\LAB\\RNN vs LSTM\\FInal Example\\wandb\\run-20221015_185353-3s73nxty\\files\\model-best)... Done. 0.0s\n"
     ]
    },
    {
     "name": "stdout",
     "output_type": "stream",
     "text": [
      "5/5 [==============================] - 2s 482ms/step - loss: 0.0171 - mae: 0.1030 - val_loss: 0.0180 - val_mae: 0.1044\n",
      "Epoch 59/1000\n",
      "5/5 [==============================] - 1s 172ms/step - loss: 0.0162 - mae: 0.0997 - val_loss: 0.0185 - val_mae: 0.1069\n",
      "Epoch 60/1000\n",
      "4/5 [=======================>......] - ETA: 0s - loss: 0.0158 - mae: 0.0989INFO:tensorflow:Assets written to: C:\\Users\\PARK\\Documents\\LAB\\RNN vs LSTM\\FInal Example\\wandb\\run-20221015_185353-3s73nxty\\files\\model-best\\assets\n"
     ]
    },
    {
     "name": "stderr",
     "output_type": "stream",
     "text": [
      "\u001b[34m\u001b[1mwandb\u001b[0m: Adding directory to artifact (C:\\Users\\PARK\\Documents\\LAB\\RNN vs LSTM\\FInal Example\\wandb\\run-20221015_185353-3s73nxty\\files\\model-best)... Done. 0.0s\n"
     ]
    },
    {
     "name": "stdout",
     "output_type": "stream",
     "text": [
      "5/5 [==============================] - 2s 499ms/step - loss: 0.0161 - mae: 0.0998 - val_loss: 0.0177 - val_mae: 0.1031\n",
      "Epoch 61/1000\n",
      "5/5 [==============================] - 1s 156ms/step - loss: 0.0162 - mae: 0.0996 - val_loss: 0.0197 - val_mae: 0.1093\n",
      "Epoch 62/1000\n",
      "5/5 [==============================] - 1s 154ms/step - loss: 0.0159 - mae: 0.1003 - val_loss: 0.0188 - val_mae: 0.1087\n",
      "Epoch 63/1000\n",
      "5/5 [==============================] - 1s 150ms/step - loss: 0.0160 - mae: 0.0999 - val_loss: 0.0186 - val_mae: 0.1055\n",
      "Epoch 64/1000\n",
      "5/5 [==============================] - ETA: 0s - loss: 0.0163 - mae: 0.1006INFO:tensorflow:Assets written to: C:\\Users\\PARK\\Documents\\LAB\\RNN vs LSTM\\FInal Example\\wandb\\run-20221015_185353-3s73nxty\\files\\model-best\\assets\n"
     ]
    },
    {
     "name": "stderr",
     "output_type": "stream",
     "text": [
      "\u001b[34m\u001b[1mwandb\u001b[0m: Adding directory to artifact (C:\\Users\\PARK\\Documents\\LAB\\RNN vs LSTM\\FInal Example\\wandb\\run-20221015_185353-3s73nxty\\files\\model-best)... Done. 0.0s\n"
     ]
    },
    {
     "name": "stdout",
     "output_type": "stream",
     "text": [
      "5/5 [==============================] - 2s 477ms/step - loss: 0.0163 - mae: 0.1006 - val_loss: 0.0171 - val_mae: 0.1023\n",
      "Epoch 65/1000\n",
      "5/5 [==============================] - ETA: 0s - loss: 0.0149 - mae: 0.0962INFO:tensorflow:Assets written to: C:\\Users\\PARK\\Documents\\LAB\\RNN vs LSTM\\FInal Example\\wandb\\run-20221015_185353-3s73nxty\\files\\model-best\\assets\n"
     ]
    },
    {
     "name": "stderr",
     "output_type": "stream",
     "text": [
      "\u001b[34m\u001b[1mwandb\u001b[0m: Adding directory to artifact (C:\\Users\\PARK\\Documents\\LAB\\RNN vs LSTM\\FInal Example\\wandb\\run-20221015_185353-3s73nxty\\files\\model-best)... Done. 0.0s\n"
     ]
    },
    {
     "name": "stdout",
     "output_type": "stream",
     "text": [
      "5/5 [==============================] - 2s 514ms/step - loss: 0.0149 - mae: 0.0962 - val_loss: 0.0164 - val_mae: 0.0999\n",
      "Epoch 66/1000\n",
      "5/5 [==============================] - ETA: 0s - loss: 0.0146 - mae: 0.0951INFO:tensorflow:Assets written to: C:\\Users\\PARK\\Documents\\LAB\\RNN vs LSTM\\FInal Example\\wandb\\run-20221015_185353-3s73nxty\\files\\model-best\\assets\n"
     ]
    },
    {
     "name": "stderr",
     "output_type": "stream",
     "text": [
      "\u001b[34m\u001b[1mwandb\u001b[0m: Adding directory to artifact (C:\\Users\\PARK\\Documents\\LAB\\RNN vs LSTM\\FInal Example\\wandb\\run-20221015_185353-3s73nxty\\files\\model-best)... Done. 0.0s\n"
     ]
    },
    {
     "name": "stdout",
     "output_type": "stream",
     "text": [
      "5/5 [==============================] - 2s 524ms/step - loss: 0.0146 - mae: 0.0951 - val_loss: 0.0156 - val_mae: 0.0971\n",
      "Epoch 67/1000\n",
      "5/5 [==============================] - 1s 157ms/step - loss: 0.0144 - mae: 0.0942 - val_loss: 0.0165 - val_mae: 0.1004\n",
      "Epoch 68/1000\n",
      "5/5 [==============================] - 1s 145ms/step - loss: 0.0145 - mae: 0.0950 - val_loss: 0.0161 - val_mae: 0.0988\n",
      "Epoch 69/1000\n",
      "5/5 [==============================] - 1s 136ms/step - loss: 0.0139 - mae: 0.0927 - val_loss: 0.0175 - val_mae: 0.1046\n",
      "Epoch 70/1000\n",
      "5/5 [==============================] - 1s 138ms/step - loss: 0.0143 - mae: 0.0950 - val_loss: 0.0169 - val_mae: 0.1014\n",
      "Epoch 71/1000\n",
      "5/5 [==============================] - 1s 141ms/step - loss: 0.0143 - mae: 0.0947 - val_loss: 0.0216 - val_mae: 0.1158\n",
      "Epoch 72/1000\n",
      "5/5 [==============================] - 1s 141ms/step - loss: 0.0167 - mae: 0.1027 - val_loss: 0.0227 - val_mae: 0.1187\n",
      "Epoch 73/1000\n",
      "5/5 [==============================] - 1s 144ms/step - loss: 0.0191 - mae: 0.1105 - val_loss: 0.0165 - val_mae: 0.1003\n",
      "Epoch 74/1000\n",
      "5/5 [==============================] - 1s 139ms/step - loss: 0.0152 - mae: 0.0975 - val_loss: 0.0162 - val_mae: 0.1002\n",
      "Epoch 75/1000\n",
      "5/5 [==============================] - 1s 147ms/step - loss: 0.0148 - mae: 0.0963 - val_loss: 0.0196 - val_mae: 0.1114\n",
      "Epoch 76/1000\n",
      "5/5 [==============================] - ETA: 0s - loss: 0.0141 - mae: 0.0934INFO:tensorflow:Assets written to: C:\\Users\\PARK\\Documents\\LAB\\RNN vs LSTM\\FInal Example\\wandb\\run-20221015_185353-3s73nxty\\files\\model-best\\assets\n"
     ]
    },
    {
     "name": "stderr",
     "output_type": "stream",
     "text": [
      "\u001b[34m\u001b[1mwandb\u001b[0m: Adding directory to artifact (C:\\Users\\PARK\\Documents\\LAB\\RNN vs LSTM\\FInal Example\\wandb\\run-20221015_185353-3s73nxty\\files\\model-best)... Done. 0.0s\n"
     ]
    },
    {
     "name": "stdout",
     "output_type": "stream",
     "text": [
      "5/5 [==============================] - 2s 473ms/step - loss: 0.0141 - mae: 0.0934 - val_loss: 0.0139 - val_mae: 0.0918\n",
      "Epoch 77/1000\n",
      "5/5 [==============================] - 1s 148ms/step - loss: 0.0133 - mae: 0.0907 - val_loss: 0.0168 - val_mae: 0.1013\n",
      "Epoch 78/1000\n",
      "5/5 [==============================] - 1s 155ms/step - loss: 0.0134 - mae: 0.0914 - val_loss: 0.0140 - val_mae: 0.0918\n",
      "Epoch 79/1000\n",
      "5/5 [==============================] - ETA: 0s - loss: 0.0125 - mae: 0.0871INFO:tensorflow:Assets written to: C:\\Users\\PARK\\Documents\\LAB\\RNN vs LSTM\\FInal Example\\wandb\\run-20221015_185353-3s73nxty\\files\\model-best\\assets\n"
     ]
    },
    {
     "name": "stderr",
     "output_type": "stream",
     "text": [
      "\u001b[34m\u001b[1mwandb\u001b[0m: Adding directory to artifact (C:\\Users\\PARK\\Documents\\LAB\\RNN vs LSTM\\FInal Example\\wandb\\run-20221015_185353-3s73nxty\\files\\model-best)... Done. 0.0s\n"
     ]
    },
    {
     "name": "stdout",
     "output_type": "stream",
     "text": [
      "5/5 [==============================] - 2s 541ms/step - loss: 0.0125 - mae: 0.0871 - val_loss: 0.0132 - val_mae: 0.0889\n",
      "Epoch 80/1000\n",
      "5/5 [==============================] - ETA: 0s - loss: 0.0113 - mae: 0.0839INFO:tensorflow:Assets written to: C:\\Users\\PARK\\Documents\\LAB\\RNN vs LSTM\\FInal Example\\wandb\\run-20221015_185353-3s73nxty\\files\\model-best\\assets\n"
     ]
    },
    {
     "name": "stderr",
     "output_type": "stream",
     "text": [
      "\u001b[34m\u001b[1mwandb\u001b[0m: Adding directory to artifact (C:\\Users\\PARK\\Documents\\LAB\\RNN vs LSTM\\FInal Example\\wandb\\run-20221015_185353-3s73nxty\\files\\model-best)... Done. 0.0s\n"
     ]
    },
    {
     "name": "stdout",
     "output_type": "stream",
     "text": [
      "5/5 [==============================] - 2s 487ms/step - loss: 0.0113 - mae: 0.0839 - val_loss: 0.0131 - val_mae: 0.0893\n",
      "Epoch 81/1000\n",
      "5/5 [==============================] - ETA: 0s - loss: 0.0112 - mae: 0.0831INFO:tensorflow:Assets written to: C:\\Users\\PARK\\Documents\\LAB\\RNN vs LSTM\\FInal Example\\wandb\\run-20221015_185353-3s73nxty\\files\\model-best\\assets\n"
     ]
    },
    {
     "name": "stderr",
     "output_type": "stream",
     "text": [
      "\u001b[34m\u001b[1mwandb\u001b[0m: Adding directory to artifact (C:\\Users\\PARK\\Documents\\LAB\\RNN vs LSTM\\FInal Example\\wandb\\run-20221015_185353-3s73nxty\\files\\model-best)... Done. 0.0s\n"
     ]
    },
    {
     "name": "stdout",
     "output_type": "stream",
     "text": [
      "5/5 [==============================] - 2s 514ms/step - loss: 0.0112 - mae: 0.0831 - val_loss: 0.0129 - val_mae: 0.0884\n",
      "Epoch 82/1000\n",
      "5/5 [==============================] - 1s 172ms/step - loss: 0.0110 - mae: 0.0827 - val_loss: 0.0129 - val_mae: 0.0881\n",
      "Epoch 83/1000\n",
      "5/5 [==============================] - ETA: 0s - loss: 0.0108 - mae: 0.0817INFO:tensorflow:Assets written to: C:\\Users\\PARK\\Documents\\LAB\\RNN vs LSTM\\FInal Example\\wandb\\run-20221015_185353-3s73nxty\\files\\model-best\\assets\n"
     ]
    },
    {
     "name": "stderr",
     "output_type": "stream",
     "text": [
      "\u001b[34m\u001b[1mwandb\u001b[0m: Adding directory to artifact (C:\\Users\\PARK\\Documents\\LAB\\RNN vs LSTM\\FInal Example\\wandb\\run-20221015_185353-3s73nxty\\files\\model-best)... Done. 0.0s\n"
     ]
    },
    {
     "name": "stdout",
     "output_type": "stream",
     "text": [
      "5/5 [==============================] - 2s 482ms/step - loss: 0.0108 - mae: 0.0817 - val_loss: 0.0126 - val_mae: 0.0872\n",
      "Epoch 84/1000\n",
      "5/5 [==============================] - ETA: 0s - loss: 0.0105 - mae: 0.0808INFO:tensorflow:Assets written to: C:\\Users\\PARK\\Documents\\LAB\\RNN vs LSTM\\FInal Example\\wandb\\run-20221015_185353-3s73nxty\\files\\model-best\\assets\n"
     ]
    },
    {
     "name": "stderr",
     "output_type": "stream",
     "text": [
      "\u001b[34m\u001b[1mwandb\u001b[0m: Adding directory to artifact (C:\\Users\\PARK\\Documents\\LAB\\RNN vs LSTM\\FInal Example\\wandb\\run-20221015_185353-3s73nxty\\files\\model-best)... Done. 0.0s\n"
     ]
    },
    {
     "name": "stdout",
     "output_type": "stream",
     "text": [
      "5/5 [==============================] - 2s 510ms/step - loss: 0.0105 - mae: 0.0808 - val_loss: 0.0125 - val_mae: 0.0869\n",
      "Epoch 85/1000\n",
      "5/5 [==============================] - 1s 163ms/step - loss: 0.0105 - mae: 0.0808 - val_loss: 0.0133 - val_mae: 0.0903\n",
      "Epoch 86/1000\n",
      "5/5 [==============================] - 1s 140ms/step - loss: 0.0112 - mae: 0.0834 - val_loss: 0.0129 - val_mae: 0.0894\n",
      "Epoch 87/1000\n",
      "5/5 [==============================] - ETA: 0s - loss: 0.0107 - mae: 0.0812INFO:tensorflow:Assets written to: C:\\Users\\PARK\\Documents\\LAB\\RNN vs LSTM\\FInal Example\\wandb\\run-20221015_185353-3s73nxty\\files\\model-best\\assets\n"
     ]
    },
    {
     "name": "stderr",
     "output_type": "stream",
     "text": [
      "\u001b[34m\u001b[1mwandb\u001b[0m: Adding directory to artifact (C:\\Users\\PARK\\Documents\\LAB\\RNN vs LSTM\\FInal Example\\wandb\\run-20221015_185353-3s73nxty\\files\\model-best)... Done. 0.0s\n"
     ]
    },
    {
     "name": "stdout",
     "output_type": "stream",
     "text": [
      "5/5 [==============================] - 2s 488ms/step - loss: 0.0107 - mae: 0.0812 - val_loss: 0.0121 - val_mae: 0.0863\n",
      "Epoch 88/1000\n",
      "5/5 [==============================] - ETA: 0s - loss: 0.0101 - mae: 0.0788INFO:tensorflow:Assets written to: C:\\Users\\PARK\\Documents\\LAB\\RNN vs LSTM\\FInal Example\\wandb\\run-20221015_185353-3s73nxty\\files\\model-best\\assets\n"
     ]
    },
    {
     "name": "stderr",
     "output_type": "stream",
     "text": [
      "\u001b[34m\u001b[1mwandb\u001b[0m: Adding directory to artifact (C:\\Users\\PARK\\Documents\\LAB\\RNN vs LSTM\\FInal Example\\wandb\\run-20221015_185353-3s73nxty\\files\\model-best)... Done. 0.0s\n"
     ]
    },
    {
     "name": "stdout",
     "output_type": "stream",
     "text": [
      "5/5 [==============================] - 2s 496ms/step - loss: 0.0101 - mae: 0.0788 - val_loss: 0.0114 - val_mae: 0.0837\n",
      "Epoch 89/1000\n",
      "5/5 [==============================] - ETA: 0s - loss: 0.0099 - mae: 0.0782INFO:tensorflow:Assets written to: C:\\Users\\PARK\\Documents\\LAB\\RNN vs LSTM\\FInal Example\\wandb\\run-20221015_185353-3s73nxty\\files\\model-best\\assets\n"
     ]
    },
    {
     "name": "stderr",
     "output_type": "stream",
     "text": [
      "\u001b[34m\u001b[1mwandb\u001b[0m: Adding directory to artifact (C:\\Users\\PARK\\Documents\\LAB\\RNN vs LSTM\\FInal Example\\wandb\\run-20221015_185353-3s73nxty\\files\\model-best)... Done. 0.0s\n"
     ]
    },
    {
     "name": "stdout",
     "output_type": "stream",
     "text": [
      "5/5 [==============================] - 2s 485ms/step - loss: 0.0099 - mae: 0.0782 - val_loss: 0.0112 - val_mae: 0.0824\n",
      "Epoch 90/1000\n",
      "5/5 [==============================] - 1s 154ms/step - loss: 0.0096 - mae: 0.0772 - val_loss: 0.0128 - val_mae: 0.0890\n",
      "Epoch 91/1000\n",
      "5/5 [==============================] - 1s 151ms/step - loss: 0.0104 - mae: 0.0808 - val_loss: 0.0135 - val_mae: 0.0909\n",
      "Epoch 92/1000\n",
      "5/5 [==============================] - 1s 145ms/step - loss: 0.0110 - mae: 0.0820 - val_loss: 0.0116 - val_mae: 0.0841\n",
      "Epoch 93/1000\n",
      "5/5 [==============================] - ETA: 0s - loss: 0.0103 - mae: 0.0796INFO:tensorflow:Assets written to: C:\\Users\\PARK\\Documents\\LAB\\RNN vs LSTM\\FInal Example\\wandb\\run-20221015_185353-3s73nxty\\files\\model-best\\assets\n"
     ]
    },
    {
     "name": "stderr",
     "output_type": "stream",
     "text": [
      "\u001b[34m\u001b[1mwandb\u001b[0m: Adding directory to artifact (C:\\Users\\PARK\\Documents\\LAB\\RNN vs LSTM\\FInal Example\\wandb\\run-20221015_185353-3s73nxty\\files\\model-best)... Done. 0.0s\n"
     ]
    },
    {
     "name": "stdout",
     "output_type": "stream",
     "text": [
      "5/5 [==============================] - 2s 503ms/step - loss: 0.0103 - mae: 0.0796 - val_loss: 0.0107 - val_mae: 0.0808\n",
      "Epoch 94/1000\n",
      "5/5 [==============================] - 1s 169ms/step - loss: 0.0096 - mae: 0.0766 - val_loss: 0.0110 - val_mae: 0.0826\n",
      "Epoch 95/1000\n",
      "5/5 [==============================] - ETA: 0s - loss: 0.0093 - mae: 0.0760INFO:tensorflow:Assets written to: C:\\Users\\PARK\\Documents\\LAB\\RNN vs LSTM\\FInal Example\\wandb\\run-20221015_185353-3s73nxty\\files\\model-best\\assets\n"
     ]
    },
    {
     "name": "stderr",
     "output_type": "stream",
     "text": [
      "\u001b[34m\u001b[1mwandb\u001b[0m: Adding directory to artifact (C:\\Users\\PARK\\Documents\\LAB\\RNN vs LSTM\\FInal Example\\wandb\\run-20221015_185353-3s73nxty\\files\\model-best)... Done. 0.0s\n"
     ]
    },
    {
     "name": "stdout",
     "output_type": "stream",
     "text": [
      "5/5 [==============================] - 2s 490ms/step - loss: 0.0093 - mae: 0.0760 - val_loss: 0.0106 - val_mae: 0.0808\n",
      "Epoch 96/1000\n",
      "5/5 [==============================] - 1s 163ms/step - loss: 0.0088 - mae: 0.0740 - val_loss: 0.0107 - val_mae: 0.0803\n",
      "Epoch 97/1000\n",
      "5/5 [==============================] - 1s 151ms/step - loss: 0.0093 - mae: 0.0751 - val_loss: 0.0111 - val_mae: 0.0828\n",
      "Epoch 98/1000\n",
      "5/5 [==============================] - 1s 139ms/step - loss: 0.0100 - mae: 0.0791 - val_loss: 0.0110 - val_mae: 0.0819\n",
      "Epoch 99/1000\n",
      "4/5 [=======================>......] - ETA: 0s - loss: 0.0092 - mae: 0.0754INFO:tensorflow:Assets written to: C:\\Users\\PARK\\Documents\\LAB\\RNN vs LSTM\\FInal Example\\wandb\\run-20221015_185353-3s73nxty\\files\\model-best\\assets\n"
     ]
    },
    {
     "name": "stderr",
     "output_type": "stream",
     "text": [
      "\u001b[34m\u001b[1mwandb\u001b[0m: Adding directory to artifact (C:\\Users\\PARK\\Documents\\LAB\\RNN vs LSTM\\FInal Example\\wandb\\run-20221015_185353-3s73nxty\\files\\model-best)... Done. 0.0s\n"
     ]
    },
    {
     "name": "stdout",
     "output_type": "stream",
     "text": [
      "5/5 [==============================] - 2s 462ms/step - loss: 0.0090 - mae: 0.0745 - val_loss: 0.0103 - val_mae: 0.0790\n",
      "Epoch 100/1000\n",
      "5/5 [==============================] - ETA: 0s - loss: 0.0085 - mae: 0.0726INFO:tensorflow:Assets written to: C:\\Users\\PARK\\Documents\\LAB\\RNN vs LSTM\\FInal Example\\wandb\\run-20221015_185353-3s73nxty\\files\\model-best\\assets\n"
     ]
    },
    {
     "name": "stderr",
     "output_type": "stream",
     "text": [
      "\u001b[34m\u001b[1mwandb\u001b[0m: Adding directory to artifact (C:\\Users\\PARK\\Documents\\LAB\\RNN vs LSTM\\FInal Example\\wandb\\run-20221015_185353-3s73nxty\\files\\model-best)... Done. 0.0s\n"
     ]
    },
    {
     "name": "stdout",
     "output_type": "stream",
     "text": [
      "5/5 [==============================] - 2s 528ms/step - loss: 0.0085 - mae: 0.0726 - val_loss: 0.0101 - val_mae: 0.0790\n",
      "Epoch 101/1000\n",
      "5/5 [==============================] - ETA: 0s - loss: 0.0085 - mae: 0.0729INFO:tensorflow:Assets written to: C:\\Users\\PARK\\Documents\\LAB\\RNN vs LSTM\\FInal Example\\wandb\\run-20221015_185353-3s73nxty\\files\\model-best\\assets\n"
     ]
    },
    {
     "name": "stderr",
     "output_type": "stream",
     "text": [
      "\u001b[34m\u001b[1mwandb\u001b[0m: Adding directory to artifact (C:\\Users\\PARK\\Documents\\LAB\\RNN vs LSTM\\FInal Example\\wandb\\run-20221015_185353-3s73nxty\\files\\model-best)... Done. 0.0s\n"
     ]
    },
    {
     "name": "stdout",
     "output_type": "stream",
     "text": [
      "5/5 [==============================] - 2s 512ms/step - loss: 0.0085 - mae: 0.0729 - val_loss: 0.0098 - val_mae: 0.0774\n",
      "Epoch 102/1000\n",
      "5/5 [==============================] - ETA: 0s - loss: 0.0082 - mae: 0.0713INFO:tensorflow:Assets written to: C:\\Users\\PARK\\Documents\\LAB\\RNN vs LSTM\\FInal Example\\wandb\\run-20221015_185353-3s73nxty\\files\\model-best\\assets\n"
     ]
    },
    {
     "name": "stderr",
     "output_type": "stream",
     "text": [
      "\u001b[34m\u001b[1mwandb\u001b[0m: Adding directory to artifact (C:\\Users\\PARK\\Documents\\LAB\\RNN vs LSTM\\FInal Example\\wandb\\run-20221015_185353-3s73nxty\\files\\model-best)... Done. 0.0s\n"
     ]
    },
    {
     "name": "stdout",
     "output_type": "stream",
     "text": [
      "5/5 [==============================] - 2s 487ms/step - loss: 0.0082 - mae: 0.0713 - val_loss: 0.0097 - val_mae: 0.0778\n",
      "Epoch 103/1000\n",
      "5/5 [==============================] - ETA: 0s - loss: 0.0082 - mae: 0.0710INFO:tensorflow:Assets written to: C:\\Users\\PARK\\Documents\\LAB\\RNN vs LSTM\\FInal Example\\wandb\\run-20221015_185353-3s73nxty\\files\\model-best\\assets\n"
     ]
    },
    {
     "name": "stderr",
     "output_type": "stream",
     "text": [
      "\u001b[34m\u001b[1mwandb\u001b[0m: Adding directory to artifact (C:\\Users\\PARK\\Documents\\LAB\\RNN vs LSTM\\FInal Example\\wandb\\run-20221015_185353-3s73nxty\\files\\model-best)... Done. 0.0s\n"
     ]
    },
    {
     "name": "stdout",
     "output_type": "stream",
     "text": [
      "5/5 [==============================] - 2s 507ms/step - loss: 0.0082 - mae: 0.0710 - val_loss: 0.0096 - val_mae: 0.0772\n",
      "Epoch 104/1000\n",
      "5/5 [==============================] - 1s 169ms/step - loss: 0.0082 - mae: 0.0707 - val_loss: 0.0117 - val_mae: 0.0864\n",
      "Epoch 105/1000\n",
      "5/5 [==============================] - 1s 156ms/step - loss: 0.0095 - mae: 0.0771 - val_loss: 0.0111 - val_mae: 0.0833\n",
      "Epoch 106/1000\n",
      "5/5 [==============================] - 1s 151ms/step - loss: 0.0086 - mae: 0.0736 - val_loss: 0.0096 - val_mae: 0.0761\n",
      "Epoch 107/1000\n",
      "5/5 [==============================] - 1s 152ms/step - loss: 0.0085 - mae: 0.0730 - val_loss: 0.0108 - val_mae: 0.0815\n",
      "Epoch 108/1000\n",
      "5/5 [==============================] - ETA: 0s - loss: 0.0088 - mae: 0.0744INFO:tensorflow:Assets written to: C:\\Users\\PARK\\Documents\\LAB\\RNN vs LSTM\\FInal Example\\wandb\\run-20221015_185353-3s73nxty\\files\\model-best\\assets\n"
     ]
    },
    {
     "name": "stderr",
     "output_type": "stream",
     "text": [
      "\u001b[34m\u001b[1mwandb\u001b[0m: Adding directory to artifact (C:\\Users\\PARK\\Documents\\LAB\\RNN vs LSTM\\FInal Example\\wandb\\run-20221015_185353-3s73nxty\\files\\model-best)... Done. 0.0s\n"
     ]
    },
    {
     "name": "stdout",
     "output_type": "stream",
     "text": [
      "5/5 [==============================] - 2s 495ms/step - loss: 0.0088 - mae: 0.0744 - val_loss: 0.0093 - val_mae: 0.0758\n",
      "Epoch 109/1000\n",
      "5/5 [==============================] - ETA: 0s - loss: 0.0084 - mae: 0.0722INFO:tensorflow:Assets written to: C:\\Users\\PARK\\Documents\\LAB\\RNN vs LSTM\\FInal Example\\wandb\\run-20221015_185353-3s73nxty\\files\\model-best\\assets\n"
     ]
    },
    {
     "name": "stderr",
     "output_type": "stream",
     "text": [
      "\u001b[34m\u001b[1mwandb\u001b[0m: Adding directory to artifact (C:\\Users\\PARK\\Documents\\LAB\\RNN vs LSTM\\FInal Example\\wandb\\run-20221015_185353-3s73nxty\\files\\model-best)... Done. 0.0s\n"
     ]
    },
    {
     "name": "stdout",
     "output_type": "stream",
     "text": [
      "5/5 [==============================] - 2s 486ms/step - loss: 0.0084 - mae: 0.0722 - val_loss: 0.0091 - val_mae: 0.0752\n",
      "Epoch 110/1000\n",
      "5/5 [==============================] - 1s 152ms/step - loss: 0.0084 - mae: 0.0720 - val_loss: 0.0104 - val_mae: 0.0807\n",
      "Epoch 111/1000\n",
      "5/5 [==============================] - ETA: 0s - loss: 0.0079 - mae: 0.0699INFO:tensorflow:Assets written to: C:\\Users\\PARK\\Documents\\LAB\\RNN vs LSTM\\FInal Example\\wandb\\run-20221015_185353-3s73nxty\\files\\model-best\\assets\n"
     ]
    },
    {
     "name": "stderr",
     "output_type": "stream",
     "text": [
      "\u001b[34m\u001b[1mwandb\u001b[0m: Adding directory to artifact (C:\\Users\\PARK\\Documents\\LAB\\RNN vs LSTM\\FInal Example\\wandb\\run-20221015_185353-3s73nxty\\files\\model-best)... Done. 0.0s\n"
     ]
    },
    {
     "name": "stdout",
     "output_type": "stream",
     "text": [
      "5/5 [==============================] - 2s 506ms/step - loss: 0.0079 - mae: 0.0699 - val_loss: 0.0089 - val_mae: 0.0744\n",
      "Epoch 112/1000\n",
      "5/5 [==============================] - 1s 167ms/step - loss: 0.0075 - mae: 0.0679 - val_loss: 0.0100 - val_mae: 0.0796\n",
      "Epoch 113/1000\n",
      "5/5 [==============================] - 1s 152ms/step - loss: 0.0078 - mae: 0.0700 - val_loss: 0.0100 - val_mae: 0.0789\n",
      "Epoch 114/1000\n",
      "5/5 [==============================] - 1s 152ms/step - loss: 0.0078 - mae: 0.0697 - val_loss: 0.0093 - val_mae: 0.0770\n",
      "Epoch 115/1000\n",
      "5/5 [==============================] - ETA: 0s - loss: 0.0078 - mae: 0.0695INFO:tensorflow:Assets written to: C:\\Users\\PARK\\Documents\\LAB\\RNN vs LSTM\\FInal Example\\wandb\\run-20221015_185353-3s73nxty\\files\\model-best\\assets\n"
     ]
    },
    {
     "name": "stderr",
     "output_type": "stream",
     "text": [
      "\u001b[34m\u001b[1mwandb\u001b[0m: Adding directory to artifact (C:\\Users\\PARK\\Documents\\LAB\\RNN vs LSTM\\FInal Example\\wandb\\run-20221015_185353-3s73nxty\\files\\model-best)... Done. 0.0s\n"
     ]
    },
    {
     "name": "stdout",
     "output_type": "stream",
     "text": [
      "5/5 [==============================] - 2s 477ms/step - loss: 0.0078 - mae: 0.0695 - val_loss: 0.0083 - val_mae: 0.0722\n",
      "Epoch 116/1000\n",
      "5/5 [==============================] - ETA: 0s - loss: 0.0071 - mae: 0.0664INFO:tensorflow:Assets written to: C:\\Users\\PARK\\Documents\\LAB\\RNN vs LSTM\\FInal Example\\wandb\\run-20221015_185353-3s73nxty\\files\\model-best\\assets\n"
     ]
    },
    {
     "name": "stderr",
     "output_type": "stream",
     "text": [
      "\u001b[34m\u001b[1mwandb\u001b[0m: Adding directory to artifact (C:\\Users\\PARK\\Documents\\LAB\\RNN vs LSTM\\FInal Example\\wandb\\run-20221015_185353-3s73nxty\\files\\model-best)... Done. 0.0s\n"
     ]
    },
    {
     "name": "stdout",
     "output_type": "stream",
     "text": [
      "5/5 [==============================] - 2s 510ms/step - loss: 0.0071 - mae: 0.0664 - val_loss: 0.0081 - val_mae: 0.0707\n",
      "Epoch 117/1000\n",
      "5/5 [==============================] - 1s 144ms/step - loss: 0.0072 - mae: 0.0665 - val_loss: 0.0083 - val_mae: 0.0710\n",
      "Epoch 118/1000\n",
      "5/5 [==============================] - 1s 141ms/step - loss: 0.0068 - mae: 0.0645 - val_loss: 0.0085 - val_mae: 0.0722\n",
      "Epoch 119/1000\n",
      "5/5 [==============================] - 1s 138ms/step - loss: 0.0073 - mae: 0.0673 - val_loss: 0.0084 - val_mae: 0.0712\n",
      "Epoch 120/1000\n",
      "5/5 [==============================] - 1s 139ms/step - loss: 0.0066 - mae: 0.0641 - val_loss: 0.0082 - val_mae: 0.0711\n",
      "Epoch 121/1000\n",
      "5/5 [==============================] - 1s 150ms/step - loss: 0.0070 - mae: 0.0656 - val_loss: 0.0092 - val_mae: 0.0760\n",
      "Epoch 122/1000\n",
      "5/5 [==============================] - 1s 143ms/step - loss: 0.0082 - mae: 0.0724 - val_loss: 0.0094 - val_mae: 0.0773\n",
      "Epoch 123/1000\n",
      "5/5 [==============================] - 1s 137ms/step - loss: 0.0080 - mae: 0.0707 - val_loss: 0.0082 - val_mae: 0.0708\n",
      "Epoch 124/1000\n",
      "5/5 [==============================] - 1s 142ms/step - loss: 0.0072 - mae: 0.0672 - val_loss: 0.0087 - val_mae: 0.0722\n",
      "Epoch 125/1000\n",
      "5/5 [==============================] - ETA: 0s - loss: 0.0065 - mae: 0.0630INFO:tensorflow:Assets written to: C:\\Users\\PARK\\Documents\\LAB\\RNN vs LSTM\\FInal Example\\wandb\\run-20221015_185353-3s73nxty\\files\\model-best\\assets\n"
     ]
    },
    {
     "name": "stderr",
     "output_type": "stream",
     "text": [
      "\u001b[34m\u001b[1mwandb\u001b[0m: Adding directory to artifact (C:\\Users\\PARK\\Documents\\LAB\\RNN vs LSTM\\FInal Example\\wandb\\run-20221015_185353-3s73nxty\\files\\model-best)... Done. 0.0s\n"
     ]
    },
    {
     "name": "stdout",
     "output_type": "stream",
     "text": [
      "5/5 [==============================] - 2s 494ms/step - loss: 0.0065 - mae: 0.0630 - val_loss: 0.0074 - val_mae: 0.0671\n",
      "Epoch 126/1000\n",
      "5/5 [==============================] - ETA: 0s - loss: 0.0064 - mae: 0.0627INFO:tensorflow:Assets written to: C:\\Users\\PARK\\Documents\\LAB\\RNN vs LSTM\\FInal Example\\wandb\\run-20221015_185353-3s73nxty\\files\\model-best\\assets\n"
     ]
    },
    {
     "name": "stderr",
     "output_type": "stream",
     "text": [
      "\u001b[34m\u001b[1mwandb\u001b[0m: Adding directory to artifact (C:\\Users\\PARK\\Documents\\LAB\\RNN vs LSTM\\FInal Example\\wandb\\run-20221015_185353-3s73nxty\\files\\model-best)... Done. 0.0s\n"
     ]
    },
    {
     "name": "stdout",
     "output_type": "stream",
     "text": [
      "5/5 [==============================] - 2s 500ms/step - loss: 0.0064 - mae: 0.0627 - val_loss: 0.0074 - val_mae: 0.0675\n",
      "Epoch 127/1000\n",
      "5/5 [==============================] - 1s 166ms/step - loss: 0.0062 - mae: 0.0613 - val_loss: 0.0077 - val_mae: 0.0689\n",
      "Epoch 128/1000\n",
      "5/5 [==============================] - 1s 140ms/step - loss: 0.0066 - mae: 0.0634 - val_loss: 0.0088 - val_mae: 0.0739\n",
      "Epoch 129/1000\n",
      "5/5 [==============================] - 1s 136ms/step - loss: 0.0067 - mae: 0.0643 - val_loss: 0.0089 - val_mae: 0.0745\n",
      "Epoch 130/1000\n",
      "5/5 [==============================] - 1s 135ms/step - loss: 0.0067 - mae: 0.0641 - val_loss: 0.0076 - val_mae: 0.0687\n",
      "Epoch 131/1000\n",
      "5/5 [==============================] - 1s 146ms/step - loss: 0.0063 - mae: 0.0621 - val_loss: 0.0076 - val_mae: 0.0684\n",
      "Epoch 132/1000\n",
      "5/5 [==============================] - ETA: 0s - loss: 0.0060 - mae: 0.0608INFO:tensorflow:Assets written to: C:\\Users\\PARK\\Documents\\LAB\\RNN vs LSTM\\FInal Example\\wandb\\run-20221015_185353-3s73nxty\\files\\model-best\\assets\n"
     ]
    },
    {
     "name": "stderr",
     "output_type": "stream",
     "text": [
      "\u001b[34m\u001b[1mwandb\u001b[0m: Adding directory to artifact (C:\\Users\\PARK\\Documents\\LAB\\RNN vs LSTM\\FInal Example\\wandb\\run-20221015_185353-3s73nxty\\files\\model-best)... Done. 0.0s\n"
     ]
    },
    {
     "name": "stdout",
     "output_type": "stream",
     "text": [
      "5/5 [==============================] - 2s 502ms/step - loss: 0.0060 - mae: 0.0608 - val_loss: 0.0073 - val_mae: 0.0674\n",
      "Epoch 133/1000\n",
      "5/5 [==============================] - 1s 166ms/step - loss: 0.0058 - mae: 0.0596 - val_loss: 0.0074 - val_mae: 0.0677\n",
      "Epoch 134/1000\n",
      "5/5 [==============================] - 1s 150ms/step - loss: 0.0058 - mae: 0.0597 - val_loss: 0.0077 - val_mae: 0.0693\n",
      "Epoch 135/1000\n",
      "5/5 [==============================] - 1s 144ms/step - loss: 0.0060 - mae: 0.0609 - val_loss: 0.0074 - val_mae: 0.0672\n",
      "Epoch 136/1000\n",
      "4/5 [=======================>......] - ETA: 0s - loss: 0.0063 - mae: 0.0623INFO:tensorflow:Assets written to: C:\\Users\\PARK\\Documents\\LAB\\RNN vs LSTM\\FInal Example\\wandb\\run-20221015_185353-3s73nxty\\files\\model-best\\assets\n"
     ]
    },
    {
     "name": "stderr",
     "output_type": "stream",
     "text": [
      "\u001b[34m\u001b[1mwandb\u001b[0m: Adding directory to artifact (C:\\Users\\PARK\\Documents\\LAB\\RNN vs LSTM\\FInal Example\\wandb\\run-20221015_185353-3s73nxty\\files\\model-best)... Done. 0.0s\n"
     ]
    },
    {
     "name": "stdout",
     "output_type": "stream",
     "text": [
      "5/5 [==============================] - 2s 462ms/step - loss: 0.0061 - mae: 0.0617 - val_loss: 0.0072 - val_mae: 0.0665\n",
      "Epoch 137/1000\n",
      "5/5 [==============================] - ETA: 0s - loss: 0.0058 - mae: 0.0603INFO:tensorflow:Assets written to: C:\\Users\\PARK\\Documents\\LAB\\RNN vs LSTM\\FInal Example\\wandb\\run-20221015_185353-3s73nxty\\files\\model-best\\assets\n"
     ]
    },
    {
     "name": "stderr",
     "output_type": "stream",
     "text": [
      "\u001b[34m\u001b[1mwandb\u001b[0m: Adding directory to artifact (C:\\Users\\PARK\\Documents\\LAB\\RNN vs LSTM\\FInal Example\\wandb\\run-20221015_185353-3s73nxty\\files\\model-best)... Done. 0.0s\n"
     ]
    },
    {
     "name": "stdout",
     "output_type": "stream",
     "text": [
      "5/5 [==============================] - 2s 506ms/step - loss: 0.0058 - mae: 0.0603 - val_loss: 0.0070 - val_mae: 0.0645\n",
      "Epoch 138/1000\n",
      "5/5 [==============================] - 1s 146ms/step - loss: 0.0057 - mae: 0.0593 - val_loss: 0.0076 - val_mae: 0.0682\n",
      "Epoch 139/1000\n",
      "5/5 [==============================] - ETA: 0s - loss: 0.0059 - mae: 0.0603INFO:tensorflow:Assets written to: C:\\Users\\PARK\\Documents\\LAB\\RNN vs LSTM\\FInal Example\\wandb\\run-20221015_185353-3s73nxty\\files\\model-best\\assets\n"
     ]
    },
    {
     "name": "stderr",
     "output_type": "stream",
     "text": [
      "\u001b[34m\u001b[1mwandb\u001b[0m: Adding directory to artifact (C:\\Users\\PARK\\Documents\\LAB\\RNN vs LSTM\\FInal Example\\wandb\\run-20221015_185353-3s73nxty\\files\\model-best)... Done. 0.0s\n"
     ]
    },
    {
     "name": "stdout",
     "output_type": "stream",
     "text": [
      "5/5 [==============================] - 2s 502ms/step - loss: 0.0059 - mae: 0.0603 - val_loss: 0.0069 - val_mae: 0.0643\n",
      "Epoch 140/1000\n",
      "5/5 [==============================] - 1s 174ms/step - loss: 0.0055 - mae: 0.0579 - val_loss: 0.0070 - val_mae: 0.0645\n",
      "Epoch 141/1000\n",
      "5/5 [==============================] - ETA: 0s - loss: 0.0054 - mae: 0.0572INFO:tensorflow:Assets written to: C:\\Users\\PARK\\Documents\\LAB\\RNN vs LSTM\\FInal Example\\wandb\\run-20221015_185353-3s73nxty\\files\\model-best\\assets\n"
     ]
    },
    {
     "name": "stderr",
     "output_type": "stream",
     "text": [
      "\u001b[34m\u001b[1mwandb\u001b[0m: Adding directory to artifact (C:\\Users\\PARK\\Documents\\LAB\\RNN vs LSTM\\FInal Example\\wandb\\run-20221015_185353-3s73nxty\\files\\model-best)... Done. 0.0s\n"
     ]
    },
    {
     "name": "stdout",
     "output_type": "stream",
     "text": [
      "5/5 [==============================] - 2s 479ms/step - loss: 0.0054 - mae: 0.0572 - val_loss: 0.0068 - val_mae: 0.0639\n",
      "Epoch 142/1000\n",
      "5/5 [==============================] - 1s 159ms/step - loss: 0.0054 - mae: 0.0574 - val_loss: 0.0068 - val_mae: 0.0646\n",
      "Epoch 143/1000\n",
      "5/5 [==============================] - 1s 150ms/step - loss: 0.0058 - mae: 0.0602 - val_loss: 0.0073 - val_mae: 0.0662\n",
      "Epoch 144/1000\n",
      "5/5 [==============================] - 1s 148ms/step - loss: 0.0058 - mae: 0.0601 - val_loss: 0.0068 - val_mae: 0.0650\n",
      "Epoch 145/1000\n",
      "5/5 [==============================] - 1s 146ms/step - loss: 0.0057 - mae: 0.0597 - val_loss: 0.0072 - val_mae: 0.0653\n",
      "Epoch 146/1000\n",
      "5/5 [==============================] - 1s 146ms/step - loss: 0.0058 - mae: 0.0596 - val_loss: 0.0072 - val_mae: 0.0665\n",
      "Epoch 147/1000\n",
      "5/5 [==============================] - 1s 141ms/step - loss: 0.0059 - mae: 0.0607 - val_loss: 0.0072 - val_mae: 0.0667\n",
      "Epoch 148/1000\n",
      "5/5 [==============================] - ETA: 0s - loss: 0.0051 - mae: 0.0559INFO:tensorflow:Assets written to: C:\\Users\\PARK\\Documents\\LAB\\RNN vs LSTM\\FInal Example\\wandb\\run-20221015_185353-3s73nxty\\files\\model-best\\assets\n"
     ]
    },
    {
     "name": "stderr",
     "output_type": "stream",
     "text": [
      "\u001b[34m\u001b[1mwandb\u001b[0m: Adding directory to artifact (C:\\Users\\PARK\\Documents\\LAB\\RNN vs LSTM\\FInal Example\\wandb\\run-20221015_185353-3s73nxty\\files\\model-best)... Done. 0.0s\n"
     ]
    },
    {
     "name": "stdout",
     "output_type": "stream",
     "text": [
      "5/5 [==============================] - 2s 502ms/step - loss: 0.0051 - mae: 0.0559 - val_loss: 0.0064 - val_mae: 0.0626\n",
      "Epoch 149/1000\n",
      "5/5 [==============================] - 1s 158ms/step - loss: 0.0052 - mae: 0.0563 - val_loss: 0.0071 - val_mae: 0.0655\n",
      "Epoch 150/1000\n",
      "5/5 [==============================] - 1s 150ms/step - loss: 0.0053 - mae: 0.0570 - val_loss: 0.0070 - val_mae: 0.0656\n",
      "Epoch 151/1000\n",
      "5/5 [==============================] - 1s 149ms/step - loss: 0.0052 - mae: 0.0562 - val_loss: 0.0072 - val_mae: 0.0662\n",
      "Epoch 152/1000\n",
      "5/5 [==============================] - 1s 151ms/step - loss: 0.0057 - mae: 0.0593 - val_loss: 0.0071 - val_mae: 0.0664\n",
      "Epoch 153/1000\n",
      "5/5 [==============================] - 1s 149ms/step - loss: 0.0054 - mae: 0.0577 - val_loss: 0.0079 - val_mae: 0.0698\n",
      "Epoch 154/1000\n",
      "5/5 [==============================] - ETA: 0s - loss: 0.0058 - mae: 0.0598INFO:tensorflow:Assets written to: C:\\Users\\PARK\\Documents\\LAB\\RNN vs LSTM\\FInal Example\\wandb\\run-20221015_185353-3s73nxty\\files\\model-best\\assets\n"
     ]
    },
    {
     "name": "stderr",
     "output_type": "stream",
     "text": [
      "\u001b[34m\u001b[1mwandb\u001b[0m: Adding directory to artifact (C:\\Users\\PARK\\Documents\\LAB\\RNN vs LSTM\\FInal Example\\wandb\\run-20221015_185353-3s73nxty\\files\\model-best)... Done. 0.0s\n"
     ]
    },
    {
     "name": "stdout",
     "output_type": "stream",
     "text": [
      "5/5 [==============================] - 2s 475ms/step - loss: 0.0058 - mae: 0.0598 - val_loss: 0.0062 - val_mae: 0.0616\n",
      "Epoch 155/1000\n",
      "5/5 [==============================] - ETA: 0s - loss: 0.0052 - mae: 0.0567INFO:tensorflow:Assets written to: C:\\Users\\PARK\\Documents\\LAB\\RNN vs LSTM\\FInal Example\\wandb\\run-20221015_185353-3s73nxty\\files\\model-best\\assets\n"
     ]
    },
    {
     "name": "stderr",
     "output_type": "stream",
     "text": [
      "\u001b[34m\u001b[1mwandb\u001b[0m: Adding directory to artifact (C:\\Users\\PARK\\Documents\\LAB\\RNN vs LSTM\\FInal Example\\wandb\\run-20221015_185353-3s73nxty\\files\\model-best)... Done. 0.0s\n"
     ]
    },
    {
     "name": "stdout",
     "output_type": "stream",
     "text": [
      "5/5 [==============================] - 2s 490ms/step - loss: 0.0052 - mae: 0.0567 - val_loss: 0.0062 - val_mae: 0.0614\n",
      "Epoch 156/1000\n",
      "5/5 [==============================] - 1s 162ms/step - loss: 0.0052 - mae: 0.0564 - val_loss: 0.0064 - val_mae: 0.0627\n",
      "Epoch 157/1000\n",
      "5/5 [==============================] - 1s 142ms/step - loss: 0.0052 - mae: 0.0560 - val_loss: 0.0065 - val_mae: 0.0636\n",
      "Epoch 158/1000\n",
      "5/5 [==============================] - 1s 138ms/step - loss: 0.0049 - mae: 0.0554 - val_loss: 0.0062 - val_mae: 0.0611\n",
      "Epoch 159/1000\n",
      "5/5 [==============================] - ETA: 0s - loss: 0.0047 - mae: 0.0533INFO:tensorflow:Assets written to: C:\\Users\\PARK\\Documents\\LAB\\RNN vs LSTM\\FInal Example\\wandb\\run-20221015_185353-3s73nxty\\files\\model-best\\assets\n"
     ]
    },
    {
     "name": "stderr",
     "output_type": "stream",
     "text": [
      "\u001b[34m\u001b[1mwandb\u001b[0m: Adding directory to artifact (C:\\Users\\PARK\\Documents\\LAB\\RNN vs LSTM\\FInal Example\\wandb\\run-20221015_185353-3s73nxty\\files\\model-best)... Done. 0.0s\n"
     ]
    },
    {
     "name": "stdout",
     "output_type": "stream",
     "text": [
      "5/5 [==============================] - 2s 494ms/step - loss: 0.0047 - mae: 0.0533 - val_loss: 0.0059 - val_mae: 0.0602\n",
      "Epoch 160/1000\n",
      "5/5 [==============================] - 1s 161ms/step - loss: 0.0046 - mae: 0.0532 - val_loss: 0.0064 - val_mae: 0.0624\n",
      "Epoch 161/1000\n",
      "5/5 [==============================] - 1s 152ms/step - loss: 0.0050 - mae: 0.0552 - val_loss: 0.0068 - val_mae: 0.0657\n",
      "Epoch 162/1000\n",
      "5/5 [==============================] - 1s 150ms/step - loss: 0.0051 - mae: 0.0562 - val_loss: 0.0073 - val_mae: 0.0658\n",
      "Epoch 163/1000\n",
      "5/5 [==============================] - 1s 152ms/step - loss: 0.0054 - mae: 0.0570 - val_loss: 0.0076 - val_mae: 0.0685\n",
      "Epoch 164/1000\n",
      "5/5 [==============================] - 1s 144ms/step - loss: 0.0056 - mae: 0.0594 - val_loss: 0.0071 - val_mae: 0.0667\n",
      "Epoch 165/1000\n",
      "5/5 [==============================] - 1s 137ms/step - loss: 0.0054 - mae: 0.0574 - val_loss: 0.0071 - val_mae: 0.0652\n",
      "Epoch 166/1000\n",
      "5/5 [==============================] - 1s 136ms/step - loss: 0.0053 - mae: 0.0572 - val_loss: 0.0077 - val_mae: 0.0701\n",
      "Epoch 167/1000\n",
      "5/5 [==============================] - 1s 145ms/step - loss: 0.0060 - mae: 0.0616 - val_loss: 0.0072 - val_mae: 0.0672\n",
      "Epoch 168/1000\n",
      "5/5 [==============================] - 1s 155ms/step - loss: 0.0053 - mae: 0.0566 - val_loss: 0.0064 - val_mae: 0.0627\n",
      "Epoch 169/1000\n",
      "5/5 [==============================] - 1s 143ms/step - loss: 0.0049 - mae: 0.0552 - val_loss: 0.0073 - val_mae: 0.0667\n",
      "Epoch 170/1000\n",
      "5/5 [==============================] - 1s 146ms/step - loss: 0.0053 - mae: 0.0570 - val_loss: 0.0082 - val_mae: 0.0715\n",
      "Epoch 171/1000\n",
      "5/5 [==============================] - 1s 141ms/step - loss: 0.0059 - mae: 0.0614 - val_loss: 0.0071 - val_mae: 0.0659\n",
      "Epoch 172/1000\n",
      "5/5 [==============================] - 1s 138ms/step - loss: 0.0056 - mae: 0.0587 - val_loss: 0.0063 - val_mae: 0.0625\n",
      "Epoch 173/1000\n",
      "5/5 [==============================] - 1s 145ms/step - loss: 0.0047 - mae: 0.0536 - val_loss: 0.0065 - val_mae: 0.0632\n",
      "Epoch 174/1000\n",
      "5/5 [==============================] - 1s 149ms/step - loss: 0.0044 - mae: 0.0520 - val_loss: 0.0061 - val_mae: 0.0607\n",
      "Epoch 175/1000\n",
      "5/5 [==============================] - 1s 151ms/step - loss: 0.0045 - mae: 0.0522 - val_loss: 0.0059 - val_mae: 0.0605\n",
      "Epoch 176/1000\n",
      "5/5 [==============================] - 1s 141ms/step - loss: 0.0048 - mae: 0.0540 - val_loss: 0.0061 - val_mae: 0.0608\n",
      "Epoch 177/1000\n",
      "5/5 [==============================] - ETA: 0s - loss: 0.0048 - mae: 0.0536INFO:tensorflow:Assets written to: C:\\Users\\PARK\\Documents\\LAB\\RNN vs LSTM\\FInal Example\\wandb\\run-20221015_185353-3s73nxty\\files\\model-best\\assets\n"
     ]
    },
    {
     "name": "stderr",
     "output_type": "stream",
     "text": [
      "\u001b[34m\u001b[1mwandb\u001b[0m: Adding directory to artifact (C:\\Users\\PARK\\Documents\\LAB\\RNN vs LSTM\\FInal Example\\wandb\\run-20221015_185353-3s73nxty\\files\\model-best)... Done. 0.0s\n"
     ]
    },
    {
     "name": "stdout",
     "output_type": "stream",
     "text": [
      "5/5 [==============================] - 2s 475ms/step - loss: 0.0048 - mae: 0.0536 - val_loss: 0.0057 - val_mae: 0.0596\n",
      "Epoch 178/1000\n",
      "5/5 [==============================] - 1s 160ms/step - loss: 0.0044 - mae: 0.0519 - val_loss: 0.0059 - val_mae: 0.0597\n",
      "Epoch 179/1000\n",
      "5/5 [==============================] - ETA: 0s - loss: 0.0045 - mae: 0.0523INFO:tensorflow:Assets written to: C:\\Users\\PARK\\Documents\\LAB\\RNN vs LSTM\\FInal Example\\wandb\\run-20221015_185353-3s73nxty\\files\\model-best\\assets\n"
     ]
    },
    {
     "name": "stderr",
     "output_type": "stream",
     "text": [
      "\u001b[34m\u001b[1mwandb\u001b[0m: Adding directory to artifact (C:\\Users\\PARK\\Documents\\LAB\\RNN vs LSTM\\FInal Example\\wandb\\run-20221015_185353-3s73nxty\\files\\model-best)... Done. 0.0s\n"
     ]
    },
    {
     "name": "stdout",
     "output_type": "stream",
     "text": [
      "5/5 [==============================] - 2s 500ms/step - loss: 0.0045 - mae: 0.0523 - val_loss: 0.0057 - val_mae: 0.0589\n",
      "Epoch 180/1000\n",
      "5/5 [==============================] - ETA: 0s - loss: 0.0046 - mae: 0.0533INFO:tensorflow:Assets written to: C:\\Users\\PARK\\Documents\\LAB\\RNN vs LSTM\\FInal Example\\wandb\\run-20221015_185353-3s73nxty\\files\\model-best\\assets\n"
     ]
    },
    {
     "name": "stderr",
     "output_type": "stream",
     "text": [
      "\u001b[34m\u001b[1mwandb\u001b[0m: Adding directory to artifact (C:\\Users\\PARK\\Documents\\LAB\\RNN vs LSTM\\FInal Example\\wandb\\run-20221015_185353-3s73nxty\\files\\model-best)... Done. 0.0s\n"
     ]
    },
    {
     "name": "stdout",
     "output_type": "stream",
     "text": [
      "5/5 [==============================] - 2s 520ms/step - loss: 0.0046 - mae: 0.0533 - val_loss: 0.0054 - val_mae: 0.0576\n",
      "Epoch 181/1000\n",
      "5/5 [==============================] - 1s 148ms/step - loss: 0.0045 - mae: 0.0526 - val_loss: 0.0056 - val_mae: 0.0592\n",
      "Epoch 182/1000\n",
      "5/5 [==============================] - 1s 136ms/step - loss: 0.0043 - mae: 0.0513 - val_loss: 0.0058 - val_mae: 0.0599\n",
      "Epoch 183/1000\n",
      "5/5 [==============================] - 1s 135ms/step - loss: 0.0043 - mae: 0.0513 - val_loss: 0.0061 - val_mae: 0.0614\n",
      "Epoch 184/1000\n",
      "5/5 [==============================] - ETA: 0s - loss: 0.0041 - mae: 0.0498INFO:tensorflow:Assets written to: C:\\Users\\PARK\\Documents\\LAB\\RNN vs LSTM\\FInal Example\\wandb\\run-20221015_185353-3s73nxty\\files\\model-best\\assets\n"
     ]
    },
    {
     "name": "stderr",
     "output_type": "stream",
     "text": [
      "\u001b[34m\u001b[1mwandb\u001b[0m: Adding directory to artifact (C:\\Users\\PARK\\Documents\\LAB\\RNN vs LSTM\\FInal Example\\wandb\\run-20221015_185353-3s73nxty\\files\\model-best)... Done. 0.0s\n"
     ]
    },
    {
     "name": "stdout",
     "output_type": "stream",
     "text": [
      "5/5 [==============================] - 2s 475ms/step - loss: 0.0041 - mae: 0.0498 - val_loss: 0.0054 - val_mae: 0.0582\n",
      "Epoch 185/1000\n",
      "5/5 [==============================] - 1s 161ms/step - loss: 0.0040 - mae: 0.0496 - val_loss: 0.0059 - val_mae: 0.0609\n",
      "Epoch 186/1000\n",
      "5/5 [==============================] - 1s 150ms/step - loss: 0.0043 - mae: 0.0516 - val_loss: 0.0057 - val_mae: 0.0590\n",
      "Epoch 187/1000\n",
      "5/5 [==============================] - ETA: 0s - loss: 0.0039 - mae: 0.0488INFO:tensorflow:Assets written to: C:\\Users\\PARK\\Documents\\LAB\\RNN vs LSTM\\FInal Example\\wandb\\run-20221015_185353-3s73nxty\\files\\model-best\\assets\n"
     ]
    },
    {
     "name": "stderr",
     "output_type": "stream",
     "text": [
      "\u001b[34m\u001b[1mwandb\u001b[0m: Adding directory to artifact (C:\\Users\\PARK\\Documents\\LAB\\RNN vs LSTM\\FInal Example\\wandb\\run-20221015_185353-3s73nxty\\files\\model-best)... Done. 0.0s\n"
     ]
    },
    {
     "name": "stdout",
     "output_type": "stream",
     "text": [
      "5/5 [==============================] - 2s 500ms/step - loss: 0.0039 - mae: 0.0488 - val_loss: 0.0053 - val_mae: 0.0579\n",
      "Epoch 188/1000\n",
      "5/5 [==============================] - ETA: 0s - loss: 0.0038 - mae: 0.0482INFO:tensorflow:Assets written to: C:\\Users\\PARK\\Documents\\LAB\\RNN vs LSTM\\FInal Example\\wandb\\run-20221015_185353-3s73nxty\\files\\model-best\\assets\n"
     ]
    },
    {
     "name": "stderr",
     "output_type": "stream",
     "text": [
      "\u001b[34m\u001b[1mwandb\u001b[0m: Adding directory to artifact (C:\\Users\\PARK\\Documents\\LAB\\RNN vs LSTM\\FInal Example\\wandb\\run-20221015_185353-3s73nxty\\files\\model-best)... Done. 0.0s\n"
     ]
    },
    {
     "name": "stdout",
     "output_type": "stream",
     "text": [
      "5/5 [==============================] - 2s 497ms/step - loss: 0.0038 - mae: 0.0482 - val_loss: 0.0051 - val_mae: 0.0561\n",
      "Epoch 189/1000\n",
      "5/5 [==============================] - ETA: 0s - loss: 0.0037 - mae: 0.0473INFO:tensorflow:Assets written to: C:\\Users\\PARK\\Documents\\LAB\\RNN vs LSTM\\FInal Example\\wandb\\run-20221015_185353-3s73nxty\\files\\model-best\\assets\n"
     ]
    },
    {
     "name": "stderr",
     "output_type": "stream",
     "text": [
      "\u001b[34m\u001b[1mwandb\u001b[0m: Adding directory to artifact (C:\\Users\\PARK\\Documents\\LAB\\RNN vs LSTM\\FInal Example\\wandb\\run-20221015_185353-3s73nxty\\files\\model-best)... Done. 0.0s\n"
     ]
    },
    {
     "name": "stdout",
     "output_type": "stream",
     "text": [
      "5/5 [==============================] - 2s 490ms/step - loss: 0.0037 - mae: 0.0473 - val_loss: 0.0051 - val_mae: 0.0557\n",
      "Epoch 190/1000\n",
      "5/5 [==============================] - 1s 158ms/step - loss: 0.0037 - mae: 0.0470 - val_loss: 0.0054 - val_mae: 0.0582\n",
      "Epoch 191/1000\n",
      "5/5 [==============================] - 1s 151ms/step - loss: 0.0039 - mae: 0.0491 - val_loss: 0.0059 - val_mae: 0.0591\n",
      "Epoch 192/1000\n",
      "5/5 [==============================] - 1s 153ms/step - loss: 0.0042 - mae: 0.0510 - val_loss: 0.0064 - val_mae: 0.0637\n",
      "Epoch 193/1000\n",
      "5/5 [==============================] - 1s 148ms/step - loss: 0.0042 - mae: 0.0512 - val_loss: 0.0065 - val_mae: 0.0637\n",
      "Epoch 194/1000\n",
      "5/5 [==============================] - 1s 136ms/step - loss: 0.0041 - mae: 0.0504 - val_loss: 0.0054 - val_mae: 0.0584\n",
      "Epoch 195/1000\n",
      "5/5 [==============================] - ETA: 0s - loss: 0.0038 - mae: 0.0485INFO:tensorflow:Assets written to: C:\\Users\\PARK\\Documents\\LAB\\RNN vs LSTM\\FInal Example\\wandb\\run-20221015_185353-3s73nxty\\files\\model-best\\assets\n"
     ]
    },
    {
     "name": "stderr",
     "output_type": "stream",
     "text": [
      "\u001b[34m\u001b[1mwandb\u001b[0m: Adding directory to artifact (C:\\Users\\PARK\\Documents\\LAB\\RNN vs LSTM\\FInal Example\\wandb\\run-20221015_185353-3s73nxty\\files\\model-best)... Done. 0.0s\n"
     ]
    },
    {
     "name": "stdout",
     "output_type": "stream",
     "text": [
      "5/5 [==============================] - 2s 504ms/step - loss: 0.0038 - mae: 0.0485 - val_loss: 0.0050 - val_mae: 0.0550\n",
      "Epoch 196/1000\n",
      "5/5 [==============================] - 1s 162ms/step - loss: 0.0037 - mae: 0.0478 - val_loss: 0.0054 - val_mae: 0.0572\n",
      "Epoch 197/1000\n",
      "5/5 [==============================] - 1s 152ms/step - loss: 0.0044 - mae: 0.0518 - val_loss: 0.0056 - val_mae: 0.0597\n",
      "Epoch 198/1000\n",
      "5/5 [==============================] - 1s 154ms/step - loss: 0.0039 - mae: 0.0487 - val_loss: 0.0060 - val_mae: 0.0617\n",
      "Epoch 199/1000\n",
      "5/5 [==============================] - 1s 159ms/step - loss: 0.0040 - mae: 0.0493 - val_loss: 0.0063 - val_mae: 0.0631\n",
      "Epoch 200/1000\n",
      "5/5 [==============================] - 1s 148ms/step - loss: 0.0042 - mae: 0.0505 - val_loss: 0.0055 - val_mae: 0.0591\n",
      "Epoch 201/1000\n",
      "5/5 [==============================] - 1s 147ms/step - loss: 0.0038 - mae: 0.0485 - val_loss: 0.0052 - val_mae: 0.0562\n",
      "Epoch 202/1000\n",
      "5/5 [==============================] - 1s 138ms/step - loss: 0.0036 - mae: 0.0474 - val_loss: 0.0050 - val_mae: 0.0559\n",
      "Epoch 203/1000\n",
      "5/5 [==============================] - ETA: 0s - loss: 0.0036 - mae: 0.0469INFO:tensorflow:Assets written to: C:\\Users\\PARK\\Documents\\LAB\\RNN vs LSTM\\FInal Example\\wandb\\run-20221015_185353-3s73nxty\\files\\model-best\\assets\n"
     ]
    },
    {
     "name": "stderr",
     "output_type": "stream",
     "text": [
      "\u001b[34m\u001b[1mwandb\u001b[0m: Adding directory to artifact (C:\\Users\\PARK\\Documents\\LAB\\RNN vs LSTM\\FInal Example\\wandb\\run-20221015_185353-3s73nxty\\files\\model-best)... Done. 0.0s\n"
     ]
    },
    {
     "name": "stdout",
     "output_type": "stream",
     "text": [
      "5/5 [==============================] - 2s 475ms/step - loss: 0.0036 - mae: 0.0469 - val_loss: 0.0048 - val_mae: 0.0544\n",
      "Epoch 204/1000\n",
      "5/5 [==============================] - 1s 157ms/step - loss: 0.0036 - mae: 0.0469 - val_loss: 0.0052 - val_mae: 0.0569\n",
      "Epoch 205/1000\n",
      "5/5 [==============================] - 1s 151ms/step - loss: 0.0042 - mae: 0.0510 - val_loss: 0.0064 - val_mae: 0.0637\n",
      "Epoch 206/1000\n",
      "5/5 [==============================] - 1s 150ms/step - loss: 0.0042 - mae: 0.0512 - val_loss: 0.0054 - val_mae: 0.0571\n",
      "Epoch 207/1000\n",
      "5/5 [==============================] - 1s 144ms/step - loss: 0.0040 - mae: 0.0497 - val_loss: 0.0057 - val_mae: 0.0596\n",
      "Epoch 208/1000\n",
      "5/5 [==============================] - 1s 137ms/step - loss: 0.0045 - mae: 0.0529 - val_loss: 0.0053 - val_mae: 0.0573\n",
      "Epoch 209/1000\n",
      "5/5 [==============================] - 1s 136ms/step - loss: 0.0049 - mae: 0.0555 - val_loss: 0.0067 - val_mae: 0.0657\n",
      "Epoch 210/1000\n",
      "5/5 [==============================] - 1s 144ms/step - loss: 0.0048 - mae: 0.0556 - val_loss: 0.0062 - val_mae: 0.0630\n",
      "Epoch 211/1000\n",
      "5/5 [==============================] - 1s 149ms/step - loss: 0.0048 - mae: 0.0546 - val_loss: 0.0054 - val_mae: 0.0583\n",
      "Epoch 212/1000\n",
      "5/5 [==============================] - 1s 141ms/step - loss: 0.0041 - mae: 0.0504 - val_loss: 0.0067 - val_mae: 0.0642\n",
      "Epoch 213/1000\n",
      "5/5 [==============================] - 1s 140ms/step - loss: 0.0041 - mae: 0.0500 - val_loss: 0.0063 - val_mae: 0.0625\n",
      "Epoch 214/1000\n",
      "5/5 [==============================] - 1s 155ms/step - loss: 0.0042 - mae: 0.0512 - val_loss: 0.0052 - val_mae: 0.0573\n",
      "Epoch 215/1000\n",
      "5/5 [==============================] - 1s 143ms/step - loss: 0.0037 - mae: 0.0474 - val_loss: 0.0050 - val_mae: 0.0558\n",
      "Epoch 216/1000\n",
      "5/5 [==============================] - 1s 141ms/step - loss: 0.0037 - mae: 0.0472 - val_loss: 0.0053 - val_mae: 0.0573\n",
      "Epoch 217/1000\n",
      "5/5 [==============================] - 1s 139ms/step - loss: 0.0037 - mae: 0.0481 - val_loss: 0.0051 - val_mae: 0.0567\n",
      "Epoch 218/1000\n",
      "5/5 [==============================] - 1s 146ms/step - loss: 0.0036 - mae: 0.0472 - val_loss: 0.0052 - val_mae: 0.0572\n",
      "Epoch 219/1000\n",
      "5/5 [==============================] - 1s 139ms/step - loss: 0.0036 - mae: 0.0469 - val_loss: 0.0054 - val_mae: 0.0586\n",
      "Epoch 220/1000\n",
      "5/5 [==============================] - 1s 139ms/step - loss: 0.0035 - mae: 0.0464 - val_loss: 0.0052 - val_mae: 0.0575\n",
      "Epoch 221/1000\n",
      "5/5 [==============================] - 1s 147ms/step - loss: 0.0034 - mae: 0.0458 - val_loss: 0.0061 - val_mae: 0.0620\n",
      "Epoch 222/1000\n",
      "5/5 [==============================] - 1s 148ms/step - loss: 0.0040 - mae: 0.0507 - val_loss: 0.0074 - val_mae: 0.0681\n",
      "Epoch 223/1000\n",
      "5/5 [==============================] - 1s 136ms/step - loss: 0.0046 - mae: 0.0537 - val_loss: 0.0057 - val_mae: 0.0599\n",
      "Epoch 224/1000\n",
      "5/5 [==============================] - 1s 136ms/step - loss: 0.0044 - mae: 0.0528 - val_loss: 0.0055 - val_mae: 0.0592\n",
      "Epoch 225/1000\n",
      "5/5 [==============================] - 1s 142ms/step - loss: 0.0040 - mae: 0.0493 - val_loss: 0.0049 - val_mae: 0.0545\n",
      "Epoch 226/1000\n",
      "5/5 [==============================] - 1s 143ms/step - loss: 0.0034 - mae: 0.0458 - val_loss: 0.0051 - val_mae: 0.0570\n",
      "Epoch 227/1000\n",
      "5/5 [==============================] - 1s 140ms/step - loss: 0.0034 - mae: 0.0461 - val_loss: 0.0048 - val_mae: 0.0548\n",
      "Epoch 228/1000\n",
      "5/5 [==============================] - 1s 139ms/step - loss: 0.0032 - mae: 0.0439 - val_loss: 0.0049 - val_mae: 0.0554\n",
      "Epoch 229/1000\n",
      "5/5 [==============================] - ETA: 0s - loss: 0.0031 - mae: 0.0437INFO:tensorflow:Assets written to: C:\\Users\\PARK\\Documents\\LAB\\RNN vs LSTM\\FInal Example\\wandb\\run-20221015_185353-3s73nxty\\files\\model-best\\assets\n"
     ]
    },
    {
     "name": "stderr",
     "output_type": "stream",
     "text": [
      "\u001b[34m\u001b[1mwandb\u001b[0m: Adding directory to artifact (C:\\Users\\PARK\\Documents\\LAB\\RNN vs LSTM\\FInal Example\\wandb\\run-20221015_185353-3s73nxty\\files\\model-best)... Done. 0.0s\n"
     ]
    },
    {
     "name": "stdout",
     "output_type": "stream",
     "text": [
      "5/5 [==============================] - 2s 517ms/step - loss: 0.0031 - mae: 0.0437 - val_loss: 0.0046 - val_mae: 0.0535\n",
      "Epoch 230/1000\n",
      "5/5 [==============================] - 1s 165ms/step - loss: 0.0030 - mae: 0.0435 - val_loss: 0.0051 - val_mae: 0.0565\n",
      "Epoch 231/1000\n",
      "5/5 [==============================] - 1s 154ms/step - loss: 0.0032 - mae: 0.0441 - val_loss: 0.0053 - val_mae: 0.0575\n",
      "Epoch 232/1000\n",
      "5/5 [==============================] - 1s 140ms/step - loss: 0.0033 - mae: 0.0452 - val_loss: 0.0051 - val_mae: 0.0568\n",
      "Epoch 233/1000\n",
      "4/5 [=======================>......] - ETA: 0s - loss: 0.0031 - mae: 0.0440INFO:tensorflow:Assets written to: C:\\Users\\PARK\\Documents\\LAB\\RNN vs LSTM\\FInal Example\\wandb\\run-20221015_185353-3s73nxty\\files\\model-best\\assets\n"
     ]
    },
    {
     "name": "stderr",
     "output_type": "stream",
     "text": [
      "\u001b[34m\u001b[1mwandb\u001b[0m: Adding directory to artifact (C:\\Users\\PARK\\Documents\\LAB\\RNN vs LSTM\\FInal Example\\wandb\\run-20221015_185353-3s73nxty\\files\\model-best)... Done. 0.0s\n"
     ]
    },
    {
     "name": "stdout",
     "output_type": "stream",
     "text": [
      "5/5 [==============================] - 2s 471ms/step - loss: 0.0032 - mae: 0.0445 - val_loss: 0.0046 - val_mae: 0.0536\n",
      "Epoch 234/1000\n",
      "5/5 [==============================] - ETA: 0s - loss: 0.0031 - mae: 0.0440INFO:tensorflow:Assets written to: C:\\Users\\PARK\\Documents\\LAB\\RNN vs LSTM\\FInal Example\\wandb\\run-20221015_185353-3s73nxty\\files\\model-best\\assets\n"
     ]
    },
    {
     "name": "stderr",
     "output_type": "stream",
     "text": [
      "\u001b[34m\u001b[1mwandb\u001b[0m: Adding directory to artifact (C:\\Users\\PARK\\Documents\\LAB\\RNN vs LSTM\\FInal Example\\wandb\\run-20221015_185353-3s73nxty\\files\\model-best)... Done. 0.0s\n"
     ]
    },
    {
     "name": "stdout",
     "output_type": "stream",
     "text": [
      "5/5 [==============================] - 2s 487ms/step - loss: 0.0031 - mae: 0.0440 - val_loss: 0.0045 - val_mae: 0.0525\n",
      "Epoch 235/1000\n",
      "5/5 [==============================] - 1s 153ms/step - loss: 0.0030 - mae: 0.0431 - val_loss: 0.0048 - val_mae: 0.0553\n",
      "Epoch 236/1000\n",
      "5/5 [==============================] - 1s 150ms/step - loss: 0.0030 - mae: 0.0432 - val_loss: 0.0048 - val_mae: 0.0542\n",
      "Epoch 237/1000\n",
      "5/5 [==============================] - 1s 148ms/step - loss: 0.0030 - mae: 0.0432 - val_loss: 0.0047 - val_mae: 0.0539\n",
      "Epoch 238/1000\n",
      "5/5 [==============================] - 1s 141ms/step - loss: 0.0031 - mae: 0.0436 - val_loss: 0.0049 - val_mae: 0.0551\n",
      "Epoch 239/1000\n",
      "5/5 [==============================] - 1s 139ms/step - loss: 0.0035 - mae: 0.0464 - val_loss: 0.0047 - val_mae: 0.0550\n",
      "Epoch 240/1000\n",
      "5/5 [==============================] - 1s 149ms/step - loss: 0.0031 - mae: 0.0440 - val_loss: 0.0045 - val_mae: 0.0529\n",
      "Epoch 241/1000\n",
      "5/5 [==============================] - ETA: 0s - loss: 0.0030 - mae: 0.0429INFO:tensorflow:Assets written to: C:\\Users\\PARK\\Documents\\LAB\\RNN vs LSTM\\FInal Example\\wandb\\run-20221015_185353-3s73nxty\\files\\model-best\\assets\n"
     ]
    },
    {
     "name": "stderr",
     "output_type": "stream",
     "text": [
      "\u001b[34m\u001b[1mwandb\u001b[0m: Adding directory to artifact (C:\\Users\\PARK\\Documents\\LAB\\RNN vs LSTM\\FInal Example\\wandb\\run-20221015_185353-3s73nxty\\files\\model-best)... Done. 0.0s\n"
     ]
    },
    {
     "name": "stdout",
     "output_type": "stream",
     "text": [
      "5/5 [==============================] - 2s 499ms/step - loss: 0.0030 - mae: 0.0429 - val_loss: 0.0044 - val_mae: 0.0522\n",
      "Epoch 242/1000\n",
      "5/5 [==============================] - 1s 159ms/step - loss: 0.0030 - mae: 0.0429 - val_loss: 0.0047 - val_mae: 0.0543\n",
      "Epoch 243/1000\n",
      "5/5 [==============================] - 1s 153ms/step - loss: 0.0029 - mae: 0.0424 - val_loss: 0.0051 - val_mae: 0.0563\n",
      "Epoch 244/1000\n",
      "5/5 [==============================] - 1s 149ms/step - loss: 0.0032 - mae: 0.0444 - val_loss: 0.0047 - val_mae: 0.0546\n",
      "Epoch 245/1000\n",
      "5/5 [==============================] - 1s 149ms/step - loss: 0.0032 - mae: 0.0452 - val_loss: 0.0065 - val_mae: 0.0646\n",
      "Epoch 246/1000\n",
      "5/5 [==============================] - 1s 143ms/step - loss: 0.0038 - mae: 0.0483 - val_loss: 0.0047 - val_mae: 0.0541\n",
      "Epoch 247/1000\n",
      "5/5 [==============================] - 1s 136ms/step - loss: 0.0035 - mae: 0.0465 - val_loss: 0.0047 - val_mae: 0.0540\n",
      "Epoch 248/1000\n",
      "5/5 [==============================] - 1s 136ms/step - loss: 0.0030 - mae: 0.0432 - val_loss: 0.0054 - val_mae: 0.0590\n",
      "Epoch 249/1000\n",
      "5/5 [==============================] - 1s 148ms/step - loss: 0.0034 - mae: 0.0462 - val_loss: 0.0051 - val_mae: 0.0562\n",
      "Epoch 250/1000\n",
      "5/5 [==============================] - 1s 151ms/step - loss: 0.0036 - mae: 0.0469 - val_loss: 0.0053 - val_mae: 0.0585\n",
      "Epoch 251/1000\n",
      "5/5 [==============================] - 1s 150ms/step - loss: 0.0041 - mae: 0.0506 - val_loss: 0.0067 - val_mae: 0.0647\n",
      "Epoch 252/1000\n",
      "5/5 [==============================] - 1s 151ms/step - loss: 0.0041 - mae: 0.0502 - val_loss: 0.0063 - val_mae: 0.0633\n",
      "Epoch 253/1000\n",
      "5/5 [==============================] - 1s 158ms/step - loss: 0.0037 - mae: 0.0488 - val_loss: 0.0057 - val_mae: 0.0600\n",
      "Epoch 254/1000\n",
      "5/5 [==============================] - 1s 146ms/step - loss: 0.0035 - mae: 0.0473 - val_loss: 0.0054 - val_mae: 0.0578\n",
      "Epoch 255/1000\n",
      "5/5 [==============================] - 1s 138ms/step - loss: 0.0035 - mae: 0.0461 - val_loss: 0.0045 - val_mae: 0.0533\n",
      "Epoch 256/1000\n",
      "5/5 [==============================] - 1s 142ms/step - loss: 0.0031 - mae: 0.0442 - val_loss: 0.0046 - val_mae: 0.0540\n",
      "Epoch 257/1000\n",
      "5/5 [==============================] - 1s 145ms/step - loss: 0.0031 - mae: 0.0446 - val_loss: 0.0044 - val_mae: 0.0531\n",
      "Epoch 258/1000\n",
      "5/5 [==============================] - 1s 152ms/step - loss: 0.0029 - mae: 0.0427 - val_loss: 0.0054 - val_mae: 0.0576\n",
      "Epoch 259/1000\n",
      "5/5 [==============================] - 1s 151ms/step - loss: 0.0033 - mae: 0.0453 - val_loss: 0.0054 - val_mae: 0.0588\n",
      "Epoch 260/1000\n",
      "5/5 [==============================] - 1s 142ms/step - loss: 0.0031 - mae: 0.0443 - val_loss: 0.0060 - val_mae: 0.0625\n",
      "Epoch 261/1000\n",
      "5/5 [==============================] - 1s 139ms/step - loss: 0.0033 - mae: 0.0463 - val_loss: 0.0056 - val_mae: 0.0597\n",
      "Epoch 262/1000\n",
      "5/5 [==============================] - 1s 136ms/step - loss: 0.0032 - mae: 0.0446 - val_loss: 0.0044 - val_mae: 0.0523\n",
      "Epoch 263/1000\n",
      "5/5 [==============================] - ETA: 0s - loss: 0.0030 - mae: 0.0433INFO:tensorflow:Assets written to: C:\\Users\\PARK\\Documents\\LAB\\RNN vs LSTM\\FInal Example\\wandb\\run-20221015_185353-3s73nxty\\files\\model-best\\assets\n"
     ]
    },
    {
     "name": "stderr",
     "output_type": "stream",
     "text": [
      "\u001b[34m\u001b[1mwandb\u001b[0m: Adding directory to artifact (C:\\Users\\PARK\\Documents\\LAB\\RNN vs LSTM\\FInal Example\\wandb\\run-20221015_185353-3s73nxty\\files\\model-best)... Done. 0.0s\n"
     ]
    },
    {
     "name": "stdout",
     "output_type": "stream",
     "text": [
      "5/5 [==============================] - 2s 479ms/step - loss: 0.0030 - mae: 0.0433 - val_loss: 0.0043 - val_mae: 0.0521\n",
      "Epoch 264/1000\n",
      "5/5 [==============================] - 1s 162ms/step - loss: 0.0028 - mae: 0.0416 - val_loss: 0.0057 - val_mae: 0.0596\n",
      "Epoch 265/1000\n",
      "5/5 [==============================] - 1s 151ms/step - loss: 0.0033 - mae: 0.0453 - val_loss: 0.0050 - val_mae: 0.0566\n",
      "Epoch 266/1000\n",
      "5/5 [==============================] - 1s 139ms/step - loss: 0.0031 - mae: 0.0437 - val_loss: 0.0048 - val_mae: 0.0547\n",
      "Epoch 267/1000\n",
      "5/5 [==============================] - 1s 136ms/step - loss: 0.0030 - mae: 0.0440 - val_loss: 0.0046 - val_mae: 0.0542\n",
      "Epoch 268/1000\n",
      "5/5 [==============================] - 1s 137ms/step - loss: 0.0030 - mae: 0.0424 - val_loss: 0.0046 - val_mae: 0.0533\n",
      "Epoch 269/1000\n",
      "5/5 [==============================] - ETA: 0s - loss: 0.0028 - mae: 0.0419INFO:tensorflow:Assets written to: C:\\Users\\PARK\\Documents\\LAB\\RNN vs LSTM\\FInal Example\\wandb\\run-20221015_185353-3s73nxty\\files\\model-best\\assets\n"
     ]
    },
    {
     "name": "stderr",
     "output_type": "stream",
     "text": [
      "\u001b[34m\u001b[1mwandb\u001b[0m: Adding directory to artifact (C:\\Users\\PARK\\Documents\\LAB\\RNN vs LSTM\\FInal Example\\wandb\\run-20221015_185353-3s73nxty\\files\\model-best)... Done. 0.0s\n"
     ]
    },
    {
     "name": "stdout",
     "output_type": "stream",
     "text": [
      "5/5 [==============================] - 2s 475ms/step - loss: 0.0028 - mae: 0.0419 - val_loss: 0.0042 - val_mae: 0.0516\n",
      "Epoch 270/1000\n",
      "5/5 [==============================] - 1s 163ms/step - loss: 0.0028 - mae: 0.0417 - val_loss: 0.0043 - val_mae: 0.0526\n",
      "Epoch 271/1000\n",
      "5/5 [==============================] - 1s 153ms/step - loss: 0.0028 - mae: 0.0415 - val_loss: 0.0043 - val_mae: 0.0522\n",
      "Epoch 272/1000\n",
      "5/5 [==============================] - ETA: 0s - loss: 0.0029 - mae: 0.0425INFO:tensorflow:Assets written to: C:\\Users\\PARK\\Documents\\LAB\\RNN vs LSTM\\FInal Example\\wandb\\run-20221015_185353-3s73nxty\\files\\model-best\\assets\n"
     ]
    },
    {
     "name": "stderr",
     "output_type": "stream",
     "text": [
      "\u001b[34m\u001b[1mwandb\u001b[0m: Adding directory to artifact (C:\\Users\\PARK\\Documents\\LAB\\RNN vs LSTM\\FInal Example\\wandb\\run-20221015_185353-3s73nxty\\files\\model-best)... Done. 0.0s\n"
     ]
    },
    {
     "name": "stdout",
     "output_type": "stream",
     "text": [
      "5/5 [==============================] - 2s 506ms/step - loss: 0.0029 - mae: 0.0425 - val_loss: 0.0041 - val_mae: 0.0503\n",
      "Epoch 273/1000\n",
      "5/5 [==============================] - ETA: 0s - loss: 0.0027 - mae: 0.0408INFO:tensorflow:Assets written to: C:\\Users\\PARK\\Documents\\LAB\\RNN vs LSTM\\FInal Example\\wandb\\run-20221015_185353-3s73nxty\\files\\model-best\\assets\n"
     ]
    },
    {
     "name": "stderr",
     "output_type": "stream",
     "text": [
      "\u001b[34m\u001b[1mwandb\u001b[0m: Adding directory to artifact (C:\\Users\\PARK\\Documents\\LAB\\RNN vs LSTM\\FInal Example\\wandb\\run-20221015_185353-3s73nxty\\files\\model-best)... Done. 0.0s\n"
     ]
    },
    {
     "name": "stdout",
     "output_type": "stream",
     "text": [
      "5/5 [==============================] - 2s 491ms/step - loss: 0.0027 - mae: 0.0408 - val_loss: 0.0040 - val_mae: 0.0505\n",
      "Epoch 274/1000\n",
      "5/5 [==============================] - 1s 152ms/step - loss: 0.0026 - mae: 0.0405 - val_loss: 0.0041 - val_mae: 0.0507\n",
      "Epoch 275/1000\n",
      "5/5 [==============================] - 1s 142ms/step - loss: 0.0025 - mae: 0.0395 - val_loss: 0.0041 - val_mae: 0.0506\n",
      "Epoch 276/1000\n",
      "5/5 [==============================] - 1s 135ms/step - loss: 0.0025 - mae: 0.0391 - val_loss: 0.0041 - val_mae: 0.0503\n",
      "Epoch 277/1000\n",
      "5/5 [==============================] - 1s 134ms/step - loss: 0.0025 - mae: 0.0397 - val_loss: 0.0041 - val_mae: 0.0514\n",
      "Epoch 278/1000\n",
      "5/5 [==============================] - 1s 145ms/step - loss: 0.0026 - mae: 0.0405 - val_loss: 0.0041 - val_mae: 0.0510\n",
      "Epoch 279/1000\n",
      "5/5 [==============================] - 1s 140ms/step - loss: 0.0027 - mae: 0.0408 - val_loss: 0.0043 - val_mae: 0.0517\n",
      "Epoch 280/1000\n",
      "5/5 [==============================] - 1s 133ms/step - loss: 0.0027 - mae: 0.0408 - val_loss: 0.0043 - val_mae: 0.0529\n",
      "Epoch 281/1000\n",
      "5/5 [==============================] - 1s 135ms/step - loss: 0.0027 - mae: 0.0413 - val_loss: 0.0050 - val_mae: 0.0550\n",
      "Epoch 282/1000\n",
      "5/5 [==============================] - 1s 146ms/step - loss: 0.0032 - mae: 0.0449 - val_loss: 0.0045 - val_mae: 0.0528\n",
      "Epoch 283/1000\n",
      "5/5 [==============================] - 1s 148ms/step - loss: 0.0032 - mae: 0.0448 - val_loss: 0.0048 - val_mae: 0.0552\n",
      "Epoch 284/1000\n",
      "5/5 [==============================] - 1s 148ms/step - loss: 0.0029 - mae: 0.0428 - val_loss: 0.0045 - val_mae: 0.0530\n",
      "Epoch 285/1000\n",
      "5/5 [==============================] - 1s 139ms/step - loss: 0.0027 - mae: 0.0410 - val_loss: 0.0053 - val_mae: 0.0578\n",
      "Epoch 286/1000\n",
      "5/5 [==============================] - 1s 134ms/step - loss: 0.0031 - mae: 0.0448 - val_loss: 0.0047 - val_mae: 0.0547\n",
      "Epoch 287/1000\n",
      "5/5 [==============================] - 1s 134ms/step - loss: 0.0026 - mae: 0.0401 - val_loss: 0.0041 - val_mae: 0.0502\n",
      "Epoch 288/1000\n",
      "5/5 [==============================] - ETA: 0s - loss: 0.0024 - mae: 0.0387INFO:tensorflow:Assets written to: C:\\Users\\PARK\\Documents\\LAB\\RNN vs LSTM\\FInal Example\\wandb\\run-20221015_185353-3s73nxty\\files\\model-best\\assets\n"
     ]
    },
    {
     "name": "stderr",
     "output_type": "stream",
     "text": [
      "\u001b[34m\u001b[1mwandb\u001b[0m: Adding directory to artifact (C:\\Users\\PARK\\Documents\\LAB\\RNN vs LSTM\\FInal Example\\wandb\\run-20221015_185353-3s73nxty\\files\\model-best)... Done. 0.0s\n"
     ]
    },
    {
     "name": "stdout",
     "output_type": "stream",
     "text": [
      "5/5 [==============================] - 2s 465ms/step - loss: 0.0024 - mae: 0.0387 - val_loss: 0.0040 - val_mae: 0.0507\n",
      "Epoch 289/1000\n",
      "5/5 [==============================] - 1s 158ms/step - loss: 0.0023 - mae: 0.0382 - val_loss: 0.0041 - val_mae: 0.0509\n",
      "Epoch 290/1000\n",
      "5/5 [==============================] - ETA: 0s - loss: 0.0024 - mae: 0.0386INFO:tensorflow:Assets written to: C:\\Users\\PARK\\Documents\\LAB\\RNN vs LSTM\\FInal Example\\wandb\\run-20221015_185353-3s73nxty\\files\\model-best\\assets\n"
     ]
    },
    {
     "name": "stderr",
     "output_type": "stream",
     "text": [
      "\u001b[34m\u001b[1mwandb\u001b[0m: Adding directory to artifact (C:\\Users\\PARK\\Documents\\LAB\\RNN vs LSTM\\FInal Example\\wandb\\run-20221015_185353-3s73nxty\\files\\model-best)... Done. 0.0s\n"
     ]
    },
    {
     "name": "stdout",
     "output_type": "stream",
     "text": [
      "5/5 [==============================] - 2s 523ms/step - loss: 0.0024 - mae: 0.0386 - val_loss: 0.0039 - val_mae: 0.0497\n",
      "Epoch 291/1000\n",
      "5/5 [==============================] - 1s 174ms/step - loss: 0.0023 - mae: 0.0378 - val_loss: 0.0041 - val_mae: 0.0507\n",
      "Epoch 292/1000\n",
      "5/5 [==============================] - ETA: 0s - loss: 0.0023 - mae: 0.0382INFO:tensorflow:Assets written to: C:\\Users\\PARK\\Documents\\LAB\\RNN vs LSTM\\FInal Example\\wandb\\run-20221015_185353-3s73nxty\\files\\model-best\\assets\n"
     ]
    },
    {
     "name": "stderr",
     "output_type": "stream",
     "text": [
      "\u001b[34m\u001b[1mwandb\u001b[0m: Adding directory to artifact (C:\\Users\\PARK\\Documents\\LAB\\RNN vs LSTM\\FInal Example\\wandb\\run-20221015_185353-3s73nxty\\files\\model-best)... Done. 0.0s\n"
     ]
    },
    {
     "name": "stdout",
     "output_type": "stream",
     "text": [
      "5/5 [==============================] - 2s 469ms/step - loss: 0.0023 - mae: 0.0382 - val_loss: 0.0038 - val_mae: 0.0486\n",
      "Epoch 293/1000\n",
      "5/5 [==============================] - 1s 153ms/step - loss: 0.0022 - mae: 0.0368 - val_loss: 0.0039 - val_mae: 0.0491\n",
      "Epoch 294/1000\n",
      "5/5 [==============================] - 1s 150ms/step - loss: 0.0022 - mae: 0.0374 - val_loss: 0.0040 - val_mae: 0.0497\n",
      "Epoch 295/1000\n",
      "5/5 [==============================] - 1s 152ms/step - loss: 0.0024 - mae: 0.0387 - val_loss: 0.0040 - val_mae: 0.0499\n",
      "Epoch 296/1000\n",
      "5/5 [==============================] - 1s 148ms/step - loss: 0.0025 - mae: 0.0398 - val_loss: 0.0041 - val_mae: 0.0506\n",
      "Epoch 297/1000\n",
      "5/5 [==============================] - 1s 149ms/step - loss: 0.0025 - mae: 0.0393 - val_loss: 0.0039 - val_mae: 0.0487\n",
      "Epoch 298/1000\n",
      "5/5 [==============================] - 1s 140ms/step - loss: 0.0025 - mae: 0.0397 - val_loss: 0.0045 - val_mae: 0.0524\n",
      "Epoch 299/1000\n",
      "5/5 [==============================] - 1s 134ms/step - loss: 0.0025 - mae: 0.0395 - val_loss: 0.0039 - val_mae: 0.0499\n",
      "Epoch 300/1000\n",
      "5/5 [==============================] - 1s 135ms/step - loss: 0.0024 - mae: 0.0385 - val_loss: 0.0042 - val_mae: 0.0509\n",
      "Epoch 301/1000\n",
      "5/5 [==============================] - 1s 142ms/step - loss: 0.0024 - mae: 0.0389 - val_loss: 0.0038 - val_mae: 0.0495\n",
      "Epoch 302/1000\n",
      "5/5 [==============================] - 1s 152ms/step - loss: 0.0023 - mae: 0.0380 - val_loss: 0.0039 - val_mae: 0.0493\n",
      "Epoch 303/1000\n",
      "5/5 [==============================] - 1s 152ms/step - loss: 0.0023 - mae: 0.0382 - val_loss: 0.0038 - val_mae: 0.0490\n",
      "Epoch 304/1000\n",
      "5/5 [==============================] - 1s 148ms/step - loss: 0.0023 - mae: 0.0382 - val_loss: 0.0042 - val_mae: 0.0506\n",
      "Epoch 305/1000\n",
      "5/5 [==============================] - 1s 143ms/step - loss: 0.0023 - mae: 0.0376 - val_loss: 0.0040 - val_mae: 0.0494\n",
      "Epoch 306/1000\n",
      "5/5 [==============================] - 1s 137ms/step - loss: 0.0022 - mae: 0.0370 - val_loss: 0.0040 - val_mae: 0.0501\n",
      "Epoch 307/1000\n",
      "5/5 [==============================] - 1s 136ms/step - loss: 0.0023 - mae: 0.0376 - val_loss: 0.0040 - val_mae: 0.0500\n",
      "Epoch 308/1000\n",
      "5/5 [==============================] - 1s 145ms/step - loss: 0.0024 - mae: 0.0382 - val_loss: 0.0040 - val_mae: 0.0503\n",
      "Epoch 309/1000\n",
      "5/5 [==============================] - 1s 150ms/step - loss: 0.0023 - mae: 0.0380 - val_loss: 0.0041 - val_mae: 0.0507\n",
      "Epoch 310/1000\n",
      "5/5 [==============================] - 1s 151ms/step - loss: 0.0024 - mae: 0.0382 - val_loss: 0.0040 - val_mae: 0.0502\n",
      "Epoch 311/1000\n",
      "5/5 [==============================] - 1s 141ms/step - loss: 0.0023 - mae: 0.0378 - val_loss: 0.0039 - val_mae: 0.0493\n",
      "Epoch 312/1000\n",
      "5/5 [==============================] - ETA: 0s - loss: 0.0023 - mae: 0.0377INFO:tensorflow:Assets written to: C:\\Users\\PARK\\Documents\\LAB\\RNN vs LSTM\\FInal Example\\wandb\\run-20221015_185353-3s73nxty\\files\\model-best\\assets\n"
     ]
    },
    {
     "name": "stderr",
     "output_type": "stream",
     "text": [
      "\u001b[34m\u001b[1mwandb\u001b[0m: Adding directory to artifact (C:\\Users\\PARK\\Documents\\LAB\\RNN vs LSTM\\FInal Example\\wandb\\run-20221015_185353-3s73nxty\\files\\model-best)... Done. 0.0s\n"
     ]
    },
    {
     "name": "stdout",
     "output_type": "stream",
     "text": [
      "5/5 [==============================] - 2s 484ms/step - loss: 0.0023 - mae: 0.0377 - val_loss: 0.0036 - val_mae: 0.0474\n",
      "Epoch 313/1000\n",
      "5/5 [==============================] - 1s 160ms/step - loss: 0.0022 - mae: 0.0372 - val_loss: 0.0038 - val_mae: 0.0490\n",
      "Epoch 314/1000\n",
      "5/5 [==============================] - 1s 152ms/step - loss: 0.0022 - mae: 0.0370 - val_loss: 0.0038 - val_mae: 0.0491\n",
      "Epoch 315/1000\n",
      "5/5 [==============================] - 1s 149ms/step - loss: 0.0022 - mae: 0.0366 - val_loss: 0.0038 - val_mae: 0.0491\n",
      "Epoch 316/1000\n",
      "5/5 [==============================] - 1s 149ms/step - loss: 0.0022 - mae: 0.0372 - val_loss: 0.0037 - val_mae: 0.0476\n",
      "Epoch 317/1000\n",
      "5/5 [==============================] - 1s 144ms/step - loss: 0.0021 - mae: 0.0361 - val_loss: 0.0037 - val_mae: 0.0473\n",
      "Epoch 318/1000\n",
      "5/5 [==============================] - 1s 134ms/step - loss: 0.0022 - mae: 0.0372 - val_loss: 0.0037 - val_mae: 0.0477\n",
      "Epoch 319/1000\n",
      "5/5 [==============================] - 1s 135ms/step - loss: 0.0022 - mae: 0.0366 - val_loss: 0.0038 - val_mae: 0.0492\n",
      "Epoch 320/1000\n",
      "5/5 [==============================] - 1s 141ms/step - loss: 0.0022 - mae: 0.0370 - val_loss: 0.0048 - val_mae: 0.0553\n",
      "Epoch 321/1000\n",
      "5/5 [==============================] - 1s 145ms/step - loss: 0.0025 - mae: 0.0396 - val_loss: 0.0040 - val_mae: 0.0497\n",
      "Epoch 322/1000\n",
      "5/5 [==============================] - 1s 134ms/step - loss: 0.0023 - mae: 0.0382 - val_loss: 0.0037 - val_mae: 0.0480\n",
      "Epoch 323/1000\n",
      "5/5 [==============================] - 1s 136ms/step - loss: 0.0021 - mae: 0.0367 - val_loss: 0.0037 - val_mae: 0.0476\n",
      "Epoch 324/1000\n",
      "5/5 [==============================] - ETA: 0s - loss: 0.0020 - mae: 0.0356INFO:tensorflow:Assets written to: C:\\Users\\PARK\\Documents\\LAB\\RNN vs LSTM\\FInal Example\\wandb\\run-20221015_185353-3s73nxty\\files\\model-best\\assets\n"
     ]
    },
    {
     "name": "stderr",
     "output_type": "stream",
     "text": [
      "\u001b[34m\u001b[1mwandb\u001b[0m: Adding directory to artifact (C:\\Users\\PARK\\Documents\\LAB\\RNN vs LSTM\\FInal Example\\wandb\\run-20221015_185353-3s73nxty\\files\\model-best)... Done. 0.0s\n"
     ]
    },
    {
     "name": "stdout",
     "output_type": "stream",
     "text": [
      "5/5 [==============================] - 2s 480ms/step - loss: 0.0020 - mae: 0.0356 - val_loss: 0.0036 - val_mae: 0.0473\n",
      "Epoch 325/1000\n",
      "5/5 [==============================] - 1s 162ms/step - loss: 0.0021 - mae: 0.0365 - val_loss: 0.0036 - val_mae: 0.0476\n",
      "Epoch 326/1000\n",
      "5/5 [==============================] - 1s 152ms/step - loss: 0.0022 - mae: 0.0370 - val_loss: 0.0038 - val_mae: 0.0489\n",
      "Epoch 327/1000\n",
      "5/5 [==============================] - 1s 143ms/step - loss: 0.0021 - mae: 0.0364 - val_loss: 0.0039 - val_mae: 0.0494\n",
      "Epoch 328/1000\n",
      "5/5 [==============================] - 1s 135ms/step - loss: 0.0022 - mae: 0.0372 - val_loss: 0.0039 - val_mae: 0.0489\n",
      "Epoch 329/1000\n",
      "5/5 [==============================] - 1s 136ms/step - loss: 0.0022 - mae: 0.0374 - val_loss: 0.0038 - val_mae: 0.0495\n",
      "Epoch 330/1000\n",
      "5/5 [==============================] - 1s 144ms/step - loss: 0.0022 - mae: 0.0378 - val_loss: 0.0041 - val_mae: 0.0505\n",
      "Epoch 331/1000\n",
      "5/5 [==============================] - 1s 161ms/step - loss: 0.0023 - mae: 0.0379 - val_loss: 0.0037 - val_mae: 0.0482\n",
      "Epoch 332/1000\n",
      "5/5 [==============================] - 1s 144ms/step - loss: 0.0023 - mae: 0.0382 - val_loss: 0.0044 - val_mae: 0.0525\n",
      "Epoch 333/1000\n",
      "5/5 [==============================] - 1s 139ms/step - loss: 0.0028 - mae: 0.0419 - val_loss: 0.0041 - val_mae: 0.0506\n",
      "Epoch 334/1000\n",
      "5/5 [==============================] - 1s 136ms/step - loss: 0.0030 - mae: 0.0436 - val_loss: 0.0043 - val_mae: 0.0525\n",
      "Epoch 335/1000\n",
      "5/5 [==============================] - 1s 139ms/step - loss: 0.0026 - mae: 0.0409 - val_loss: 0.0037 - val_mae: 0.0474\n",
      "Epoch 336/1000\n",
      "5/5 [==============================] - 1s 135ms/step - loss: 0.0024 - mae: 0.0383 - val_loss: 0.0038 - val_mae: 0.0489\n",
      "Epoch 337/1000\n",
      "5/5 [==============================] - 1s 138ms/step - loss: 0.0024 - mae: 0.0386 - val_loss: 0.0041 - val_mae: 0.0506\n",
      "Epoch 338/1000\n",
      "5/5 [==============================] - 1s 143ms/step - loss: 0.0022 - mae: 0.0372 - val_loss: 0.0042 - val_mae: 0.0512\n",
      "Epoch 339/1000\n",
      "5/5 [==============================] - 1s 147ms/step - loss: 0.0024 - mae: 0.0384 - val_loss: 0.0040 - val_mae: 0.0506\n",
      "Epoch 340/1000\n",
      "5/5 [==============================] - 1s 138ms/step - loss: 0.0024 - mae: 0.0384 - val_loss: 0.0039 - val_mae: 0.0497\n",
      "Epoch 341/1000\n",
      "4/5 [=======================>......] - ETA: 0s - loss: 0.0023 - mae: 0.0378INFO:tensorflow:Assets written to: C:\\Users\\PARK\\Documents\\LAB\\RNN vs LSTM\\FInal Example\\wandb\\run-20221015_185353-3s73nxty\\files\\model-best\\assets\n"
     ]
    },
    {
     "name": "stderr",
     "output_type": "stream",
     "text": [
      "\u001b[34m\u001b[1mwandb\u001b[0m: Adding directory to artifact (C:\\Users\\PARK\\Documents\\LAB\\RNN vs LSTM\\FInal Example\\wandb\\run-20221015_185353-3s73nxty\\files\\model-best)... Done. 0.0s\n"
     ]
    },
    {
     "name": "stdout",
     "output_type": "stream",
     "text": [
      "5/5 [==============================] - 2s 469ms/step - loss: 0.0023 - mae: 0.0376 - val_loss: 0.0035 - val_mae: 0.0465\n",
      "Epoch 342/1000\n",
      "5/5 [==============================] - 1s 158ms/step - loss: 0.0021 - mae: 0.0359 - val_loss: 0.0039 - val_mae: 0.0501\n",
      "Epoch 343/1000\n",
      "5/5 [==============================] - 1s 152ms/step - loss: 0.0021 - mae: 0.0365 - val_loss: 0.0038 - val_mae: 0.0492\n",
      "Epoch 344/1000\n",
      "5/5 [==============================] - ETA: 0s - loss: 0.0021 - mae: 0.0366INFO:tensorflow:Assets written to: C:\\Users\\PARK\\Documents\\LAB\\RNN vs LSTM\\FInal Example\\wandb\\run-20221015_185353-3s73nxty\\files\\model-best\\assets\n"
     ]
    },
    {
     "name": "stderr",
     "output_type": "stream",
     "text": [
      "\u001b[34m\u001b[1mwandb\u001b[0m: Adding directory to artifact (C:\\Users\\PARK\\Documents\\LAB\\RNN vs LSTM\\FInal Example\\wandb\\run-20221015_185353-3s73nxty\\files\\model-best)... Done. 0.0s\n"
     ]
    },
    {
     "name": "stdout",
     "output_type": "stream",
     "text": [
      "5/5 [==============================] - 2s 502ms/step - loss: 0.0021 - mae: 0.0366 - val_loss: 0.0034 - val_mae: 0.0459\n",
      "Epoch 345/1000\n",
      "5/5 [==============================] - 1s 165ms/step - loss: 0.0020 - mae: 0.0354 - val_loss: 0.0038 - val_mae: 0.0483\n",
      "Epoch 346/1000\n",
      "5/5 [==============================] - 1s 154ms/step - loss: 0.0022 - mae: 0.0368 - val_loss: 0.0039 - val_mae: 0.0494\n",
      "Epoch 347/1000\n",
      "5/5 [==============================] - 1s 153ms/step - loss: 0.0024 - mae: 0.0381 - val_loss: 0.0037 - val_mae: 0.0482\n",
      "Epoch 348/1000\n",
      "5/5 [==============================] - 1s 151ms/step - loss: 0.0023 - mae: 0.0379 - val_loss: 0.0039 - val_mae: 0.0493\n",
      "Epoch 349/1000\n",
      "5/5 [==============================] - 1s 153ms/step - loss: 0.0021 - mae: 0.0363 - val_loss: 0.0038 - val_mae: 0.0499\n",
      "Epoch 350/1000\n",
      "5/5 [==============================] - 1s 148ms/step - loss: 0.0020 - mae: 0.0357 - val_loss: 0.0036 - val_mae: 0.0474\n",
      "Epoch 351/1000\n",
      "5/5 [==============================] - 1s 149ms/step - loss: 0.0021 - mae: 0.0365 - val_loss: 0.0041 - val_mae: 0.0515\n",
      "Epoch 352/1000\n",
      "5/5 [==============================] - 1s 150ms/step - loss: 0.0023 - mae: 0.0379 - val_loss: 0.0035 - val_mae: 0.0469\n",
      "Epoch 353/1000\n",
      "5/5 [==============================] - 1s 151ms/step - loss: 0.0023 - mae: 0.0383 - val_loss: 0.0037 - val_mae: 0.0480\n",
      "Epoch 354/1000\n",
      "5/5 [==============================] - 1s 150ms/step - loss: 0.0024 - mae: 0.0385 - val_loss: 0.0042 - val_mae: 0.0512\n",
      "Epoch 355/1000\n",
      "5/5 [==============================] - 1s 142ms/step - loss: 0.0026 - mae: 0.0406 - val_loss: 0.0048 - val_mae: 0.0548\n",
      "Epoch 356/1000\n",
      "5/5 [==============================] - 1s 136ms/step - loss: 0.0026 - mae: 0.0407 - val_loss: 0.0040 - val_mae: 0.0498\n",
      "Epoch 357/1000\n",
      "5/5 [==============================] - 1s 136ms/step - loss: 0.0024 - mae: 0.0387 - val_loss: 0.0038 - val_mae: 0.0479\n",
      "Epoch 358/1000\n",
      "5/5 [==============================] - 1s 146ms/step - loss: 0.0023 - mae: 0.0378 - val_loss: 0.0040 - val_mae: 0.0499\n",
      "Epoch 359/1000\n",
      "5/5 [==============================] - 1s 150ms/step - loss: 0.0022 - mae: 0.0376 - val_loss: 0.0039 - val_mae: 0.0493\n",
      "Epoch 360/1000\n",
      "5/5 [==============================] - 1s 151ms/step - loss: 0.0022 - mae: 0.0373 - val_loss: 0.0041 - val_mae: 0.0507\n",
      "Epoch 361/1000\n",
      "5/5 [==============================] - 1s 144ms/step - loss: 0.0024 - mae: 0.0385 - val_loss: 0.0039 - val_mae: 0.0494\n",
      "Epoch 362/1000\n",
      "5/5 [==============================] - 1s 143ms/step - loss: 0.0023 - mae: 0.0378 - val_loss: 0.0040 - val_mae: 0.0502\n",
      "Epoch 363/1000\n",
      "5/5 [==============================] - 1s 135ms/step - loss: 0.0023 - mae: 0.0382 - val_loss: 0.0040 - val_mae: 0.0500\n",
      "Epoch 364/1000\n",
      "5/5 [==============================] - 1s 145ms/step - loss: 0.0022 - mae: 0.0374 - val_loss: 0.0038 - val_mae: 0.0489\n",
      "Epoch 365/1000\n",
      "5/5 [==============================] - 1s 148ms/step - loss: 0.0021 - mae: 0.0360 - val_loss: 0.0038 - val_mae: 0.0483\n",
      "Epoch 366/1000\n",
      "5/5 [==============================] - 1s 147ms/step - loss: 0.0020 - mae: 0.0359 - val_loss: 0.0035 - val_mae: 0.0464\n",
      "Epoch 367/1000\n",
      "5/5 [==============================] - 1s 134ms/step - loss: 0.0019 - mae: 0.0342 - val_loss: 0.0034 - val_mae: 0.0459\n",
      "Epoch 368/1000\n",
      "4/5 [=======================>......] - ETA: 0s - loss: 0.0019 - mae: 0.0342INFO:tensorflow:Assets written to: C:\\Users\\PARK\\Documents\\LAB\\RNN vs LSTM\\FInal Example\\wandb\\run-20221015_185353-3s73nxty\\files\\model-best\\assets\n"
     ]
    },
    {
     "name": "stderr",
     "output_type": "stream",
     "text": [
      "\u001b[34m\u001b[1mwandb\u001b[0m: Adding directory to artifact (C:\\Users\\PARK\\Documents\\LAB\\RNN vs LSTM\\FInal Example\\wandb\\run-20221015_185353-3s73nxty\\files\\model-best)... Done. 0.0s\n"
     ]
    },
    {
     "name": "stdout",
     "output_type": "stream",
     "text": [
      "5/5 [==============================] - 2s 463ms/step - loss: 0.0019 - mae: 0.0342 - val_loss: 0.0033 - val_mae: 0.0449\n",
      "Epoch 369/1000\n",
      "5/5 [==============================] - ETA: 0s - loss: 0.0018 - mae: 0.0337INFO:tensorflow:Assets written to: C:\\Users\\PARK\\Documents\\LAB\\RNN vs LSTM\\FInal Example\\wandb\\run-20221015_185353-3s73nxty\\files\\model-best\\assets\n"
     ]
    },
    {
     "name": "stderr",
     "output_type": "stream",
     "text": [
      "\u001b[34m\u001b[1mwandb\u001b[0m: Adding directory to artifact (C:\\Users\\PARK\\Documents\\LAB\\RNN vs LSTM\\FInal Example\\wandb\\run-20221015_185353-3s73nxty\\files\\model-best)... Done. 0.0s\n"
     ]
    },
    {
     "name": "stdout",
     "output_type": "stream",
     "text": [
      "5/5 [==============================] - 2s 488ms/step - loss: 0.0018 - mae: 0.0337 - val_loss: 0.0033 - val_mae: 0.0453\n",
      "Epoch 370/1000\n",
      "5/5 [==============================] - 1s 155ms/step - loss: 0.0018 - mae: 0.0334 - val_loss: 0.0033 - val_mae: 0.0454\n",
      "Epoch 371/1000\n",
      "5/5 [==============================] - ETA: 0s - loss: 0.0018 - mae: 0.0335INFO:tensorflow:Assets written to: C:\\Users\\PARK\\Documents\\LAB\\RNN vs LSTM\\FInal Example\\wandb\\run-20221015_185353-3s73nxty\\files\\model-best\\assets\n"
     ]
    },
    {
     "name": "stderr",
     "output_type": "stream",
     "text": [
      "\u001b[34m\u001b[1mwandb\u001b[0m: Adding directory to artifact (C:\\Users\\PARK\\Documents\\LAB\\RNN vs LSTM\\FInal Example\\wandb\\run-20221015_185353-3s73nxty\\files\\model-best)... Done. 0.0s\n"
     ]
    },
    {
     "name": "stdout",
     "output_type": "stream",
     "text": [
      "5/5 [==============================] - 2s 510ms/step - loss: 0.0018 - mae: 0.0335 - val_loss: 0.0033 - val_mae: 0.0444\n",
      "Epoch 372/1000\n",
      "5/5 [==============================] - 1s 156ms/step - loss: 0.0018 - mae: 0.0336 - val_loss: 0.0034 - val_mae: 0.0461\n",
      "Epoch 373/1000\n",
      "5/5 [==============================] - 1s 151ms/step - loss: 0.0018 - mae: 0.0334 - val_loss: 0.0033 - val_mae: 0.0450\n",
      "Epoch 374/1000\n",
      "5/5 [==============================] - 1s 150ms/step - loss: 0.0018 - mae: 0.0339 - val_loss: 0.0037 - val_mae: 0.0474\n",
      "Epoch 375/1000\n",
      "5/5 [==============================] - 1s 151ms/step - loss: 0.0019 - mae: 0.0344 - val_loss: 0.0038 - val_mae: 0.0483\n",
      "Epoch 376/1000\n",
      "5/5 [==============================] - 1s 139ms/step - loss: 0.0021 - mae: 0.0363 - val_loss: 0.0038 - val_mae: 0.0484\n",
      "Epoch 377/1000\n",
      "5/5 [==============================] - 1s 135ms/step - loss: 0.0023 - mae: 0.0380 - val_loss: 0.0036 - val_mae: 0.0475\n",
      "Epoch 378/1000\n",
      "5/5 [==============================] - 1s 134ms/step - loss: 0.0020 - mae: 0.0357 - val_loss: 0.0033 - val_mae: 0.0454\n",
      "Epoch 379/1000\n",
      "5/5 [==============================] - 1s 149ms/step - loss: 0.0019 - mae: 0.0342 - val_loss: 0.0033 - val_mae: 0.0455\n",
      "Epoch 380/1000\n",
      "5/5 [==============================] - 1s 148ms/step - loss: 0.0021 - mae: 0.0362 - val_loss: 0.0034 - val_mae: 0.0463\n",
      "Epoch 381/1000\n",
      "5/5 [==============================] - 1s 142ms/step - loss: 0.0020 - mae: 0.0354 - val_loss: 0.0033 - val_mae: 0.0448\n",
      "Epoch 382/1000\n",
      "4/5 [=======================>......] - ETA: 0s - loss: 0.0018 - mae: 0.0341INFO:tensorflow:Assets written to: C:\\Users\\PARK\\Documents\\LAB\\RNN vs LSTM\\FInal Example\\wandb\\run-20221015_185353-3s73nxty\\files\\model-best\\assets\n"
     ]
    },
    {
     "name": "stderr",
     "output_type": "stream",
     "text": [
      "\u001b[34m\u001b[1mwandb\u001b[0m: Adding directory to artifact (C:\\Users\\PARK\\Documents\\LAB\\RNN vs LSTM\\FInal Example\\wandb\\run-20221015_185353-3s73nxty\\files\\model-best)... Done. 0.0s\n"
     ]
    },
    {
     "name": "stdout",
     "output_type": "stream",
     "text": [
      "5/5 [==============================] - 2s 463ms/step - loss: 0.0019 - mae: 0.0342 - val_loss: 0.0032 - val_mae: 0.0445\n",
      "Epoch 383/1000\n",
      "5/5 [==============================] - 1s 165ms/step - loss: 0.0018 - mae: 0.0336 - val_loss: 0.0035 - val_mae: 0.0466\n",
      "Epoch 384/1000\n",
      "5/5 [==============================] - 1s 161ms/step - loss: 0.0018 - mae: 0.0338 - val_loss: 0.0035 - val_mae: 0.0469\n",
      "Epoch 385/1000\n",
      "5/5 [==============================] - 1s 136ms/step - loss: 0.0019 - mae: 0.0348 - val_loss: 0.0035 - val_mae: 0.0472\n",
      "Epoch 386/1000\n",
      "5/5 [==============================] - 1s 139ms/step - loss: 0.0018 - mae: 0.0337 - val_loss: 0.0035 - val_mae: 0.0464\n",
      "Epoch 387/1000\n",
      "5/5 [==============================] - 1s 138ms/step - loss: 0.0019 - mae: 0.0341 - val_loss: 0.0033 - val_mae: 0.0446\n",
      "Epoch 388/1000\n",
      "5/5 [==============================] - ETA: 0s - loss: 0.0017 - mae: 0.0322INFO:tensorflow:Assets written to: C:\\Users\\PARK\\Documents\\LAB\\RNN vs LSTM\\FInal Example\\wandb\\run-20221015_185353-3s73nxty\\files\\model-best\\assets\n"
     ]
    },
    {
     "name": "stderr",
     "output_type": "stream",
     "text": [
      "\u001b[34m\u001b[1mwandb\u001b[0m: Adding directory to artifact (C:\\Users\\PARK\\Documents\\LAB\\RNN vs LSTM\\FInal Example\\wandb\\run-20221015_185353-3s73nxty\\files\\model-best)... Done. 0.0s\n"
     ]
    },
    {
     "name": "stdout",
     "output_type": "stream",
     "text": [
      "5/5 [==============================] - 2s 479ms/step - loss: 0.0017 - mae: 0.0322 - val_loss: 0.0031 - val_mae: 0.0437\n",
      "Epoch 389/1000\n",
      "5/5 [==============================] - 1s 170ms/step - loss: 0.0016 - mae: 0.0319 - val_loss: 0.0034 - val_mae: 0.0455\n",
      "Epoch 390/1000\n",
      "5/5 [==============================] - 1s 144ms/step - loss: 0.0019 - mae: 0.0342 - val_loss: 0.0036 - val_mae: 0.0472\n",
      "Epoch 391/1000\n",
      "5/5 [==============================] - 1s 136ms/step - loss: 0.0019 - mae: 0.0344 - val_loss: 0.0034 - val_mae: 0.0456\n",
      "Epoch 392/1000\n",
      "5/5 [==============================] - 1s 144ms/step - loss: 0.0019 - mae: 0.0349 - val_loss: 0.0039 - val_mae: 0.0496\n",
      "Epoch 393/1000\n",
      "5/5 [==============================] - 1s 144ms/step - loss: 0.0021 - mae: 0.0357 - val_loss: 0.0033 - val_mae: 0.0455\n",
      "Epoch 394/1000\n",
      "5/5 [==============================] - 1s 152ms/step - loss: 0.0019 - mae: 0.0346 - val_loss: 0.0034 - val_mae: 0.0457\n",
      "Epoch 395/1000\n",
      "5/5 [==============================] - 1s 136ms/step - loss: 0.0019 - mae: 0.0341 - val_loss: 0.0040 - val_mae: 0.0501\n",
      "Epoch 396/1000\n",
      "5/5 [==============================] - 1s 138ms/step - loss: 0.0020 - mae: 0.0354 - val_loss: 0.0034 - val_mae: 0.0459\n",
      "Epoch 397/1000\n",
      "5/5 [==============================] - 1s 148ms/step - loss: 0.0019 - mae: 0.0348 - val_loss: 0.0032 - val_mae: 0.0445\n",
      "Epoch 398/1000\n",
      "5/5 [==============================] - 1s 148ms/step - loss: 0.0018 - mae: 0.0333 - val_loss: 0.0035 - val_mae: 0.0462\n",
      "Epoch 399/1000\n",
      "5/5 [==============================] - 1s 147ms/step - loss: 0.0017 - mae: 0.0331 - val_loss: 0.0031 - val_mae: 0.0436\n",
      "Epoch 400/1000\n",
      "5/5 [==============================] - 1s 143ms/step - loss: 0.0017 - mae: 0.0324 - val_loss: 0.0034 - val_mae: 0.0453\n",
      "Epoch 401/1000\n",
      "5/5 [==============================] - 1s 141ms/step - loss: 0.0017 - mae: 0.0328 - val_loss: 0.0034 - val_mae: 0.0463\n",
      "Epoch 402/1000\n",
      "5/5 [==============================] - 1s 136ms/step - loss: 0.0017 - mae: 0.0331 - val_loss: 0.0032 - val_mae: 0.0445\n",
      "Epoch 403/1000\n",
      "5/5 [==============================] - 1s 145ms/step - loss: 0.0017 - mae: 0.0322 - val_loss: 0.0035 - val_mae: 0.0461\n",
      "Epoch 404/1000\n",
      "5/5 [==============================] - 1s 142ms/step - loss: 0.0017 - mae: 0.0331 - val_loss: 0.0032 - val_mae: 0.0453\n",
      "Epoch 405/1000\n",
      "5/5 [==============================] - 1s 138ms/step - loss: 0.0017 - mae: 0.0330 - val_loss: 0.0032 - val_mae: 0.0448\n",
      "Epoch 406/1000\n",
      "5/5 [==============================] - 1s 139ms/step - loss: 0.0016 - mae: 0.0319 - val_loss: 0.0031 - val_mae: 0.0436\n",
      "Epoch 407/1000\n",
      "5/5 [==============================] - 1s 148ms/step - loss: 0.0016 - mae: 0.0322 - val_loss: 0.0039 - val_mae: 0.0486\n",
      "Epoch 408/1000\n",
      "5/5 [==============================] - 1s 141ms/step - loss: 0.0019 - mae: 0.0343 - val_loss: 0.0033 - val_mae: 0.0446\n",
      "Epoch 409/1000\n",
      "5/5 [==============================] - 1s 135ms/step - loss: 0.0017 - mae: 0.0332 - val_loss: 0.0036 - val_mae: 0.0478\n",
      "Epoch 410/1000\n",
      "5/5 [==============================] - 1s 134ms/step - loss: 0.0019 - mae: 0.0346 - val_loss: 0.0039 - val_mae: 0.0492\n",
      "Epoch 411/1000\n",
      "5/5 [==============================] - 1s 141ms/step - loss: 0.0021 - mae: 0.0363 - val_loss: 0.0040 - val_mae: 0.0493\n",
      "Epoch 412/1000\n",
      "5/5 [==============================] - 1s 142ms/step - loss: 0.0022 - mae: 0.0379 - val_loss: 0.0038 - val_mae: 0.0493\n",
      "Epoch 413/1000\n",
      "5/5 [==============================] - 1s 171ms/step - loss: 0.0024 - mae: 0.0394 - val_loss: 0.0041 - val_mae: 0.0510\n",
      "Epoch 414/1000\n",
      "5/5 [==============================] - 1s 146ms/step - loss: 0.0027 - mae: 0.0410 - val_loss: 0.0086 - val_mae: 0.0740\n",
      "Epoch 415/1000\n",
      "5/5 [==============================] - 1s 140ms/step - loss: 0.0055 - mae: 0.0582 - val_loss: 0.0082 - val_mae: 0.0705\n",
      "Epoch 416/1000\n",
      "5/5 [==============================] - 1s 138ms/step - loss: 0.0054 - mae: 0.0577 - val_loss: 0.0061 - val_mae: 0.0624\n",
      "Epoch 417/1000\n",
      "5/5 [==============================] - 1s 146ms/step - loss: 0.0045 - mae: 0.0539 - val_loss: 0.0054 - val_mae: 0.0591\n",
      "Epoch 418/1000\n",
      "5/5 [==============================] - 1s 150ms/step - loss: 0.0040 - mae: 0.0503 - val_loss: 0.0057 - val_mae: 0.0606\n",
      "Epoch 419/1000\n",
      "5/5 [==============================] - 1s 149ms/step - loss: 0.0033 - mae: 0.0455 - val_loss: 0.0052 - val_mae: 0.0562\n",
      "Epoch 420/1000\n",
      "5/5 [==============================] - 1s 142ms/step - loss: 0.0030 - mae: 0.0443 - val_loss: 0.0044 - val_mae: 0.0518\n",
      "Epoch 421/1000\n",
      "5/5 [==============================] - 1s 136ms/step - loss: 0.0025 - mae: 0.0392 - val_loss: 0.0046 - val_mae: 0.0532\n",
      "Epoch 422/1000\n",
      "5/5 [==============================] - 1s 134ms/step - loss: 0.0030 - mae: 0.0435 - val_loss: 0.0049 - val_mae: 0.0543\n",
      "Epoch 423/1000\n",
      "5/5 [==============================] - 1s 146ms/step - loss: 0.0029 - mae: 0.0427 - val_loss: 0.0060 - val_mae: 0.0619\n",
      "Epoch 424/1000\n",
      "5/5 [==============================] - 1s 141ms/step - loss: 0.0036 - mae: 0.0483 - val_loss: 0.0052 - val_mae: 0.0577\n",
      "Epoch 425/1000\n",
      "5/5 [==============================] - 1s 135ms/step - loss: 0.0028 - mae: 0.0418 - val_loss: 0.0044 - val_mae: 0.0515\n",
      "Epoch 426/1000\n",
      "5/5 [==============================] - 1s 130ms/step - loss: 0.0027 - mae: 0.0407 - val_loss: 0.0038 - val_mae: 0.0478\n",
      "Epoch 427/1000\n",
      "5/5 [==============================] - 1s 143ms/step - loss: 0.0025 - mae: 0.0395 - val_loss: 0.0043 - val_mae: 0.0517\n",
      "Epoch 428/1000\n",
      "5/5 [==============================] - 1s 147ms/step - loss: 0.0024 - mae: 0.0388 - val_loss: 0.0038 - val_mae: 0.0481\n",
      "Epoch 429/1000\n",
      "5/5 [==============================] - 1s 150ms/step - loss: 0.0019 - mae: 0.0348 - val_loss: 0.0036 - val_mae: 0.0464\n",
      "Epoch 430/1000\n",
      "5/5 [==============================] - 1s 151ms/step - loss: 0.0018 - mae: 0.0337 - val_loss: 0.0039 - val_mae: 0.0490\n",
      "Epoch 431/1000\n",
      "5/5 [==============================] - 1s 143ms/step - loss: 0.0019 - mae: 0.0346 - val_loss: 0.0037 - val_mae: 0.0479\n",
      "Epoch 432/1000\n",
      "5/5 [==============================] - 1s 138ms/step - loss: 0.0019 - mae: 0.0343 - val_loss: 0.0035 - val_mae: 0.0458\n",
      "Epoch 433/1000\n",
      "5/5 [==============================] - 1s 137ms/step - loss: 0.0017 - mae: 0.0329 - val_loss: 0.0034 - val_mae: 0.0455\n",
      "Epoch 434/1000\n",
      "5/5 [==============================] - 1s 146ms/step - loss: 0.0017 - mae: 0.0326 - val_loss: 0.0036 - val_mae: 0.0464\n",
      "Epoch 435/1000\n",
      "5/5 [==============================] - 1s 151ms/step - loss: 0.0016 - mae: 0.0320 - val_loss: 0.0032 - val_mae: 0.0443\n",
      "Epoch 436/1000\n",
      "5/5 [==============================] - 1s 143ms/step - loss: 0.0016 - mae: 0.0316 - val_loss: 0.0034 - val_mae: 0.0458\n",
      "Epoch 437/1000\n",
      "5/5 [==============================] - 1s 136ms/step - loss: 0.0017 - mae: 0.0325 - val_loss: 0.0033 - val_mae: 0.0447\n",
      "Epoch 438/1000\n",
      "5/5 [==============================] - 1s 134ms/step - loss: 0.0016 - mae: 0.0310 - val_loss: 0.0035 - val_mae: 0.0464\n",
      "Epoch 439/1000\n",
      "5/5 [==============================] - 1s 143ms/step - loss: 0.0016 - mae: 0.0323 - val_loss: 0.0036 - val_mae: 0.0471\n",
      "Epoch 440/1000\n",
      "5/5 [==============================] - 1s 150ms/step - loss: 0.0017 - mae: 0.0322 - val_loss: 0.0033 - val_mae: 0.0454\n",
      "Epoch 441/1000\n",
      "5/5 [==============================] - 1s 140ms/step - loss: 0.0017 - mae: 0.0330 - val_loss: 0.0033 - val_mae: 0.0446\n",
      "Epoch 442/1000\n",
      "5/5 [==============================] - 1s 136ms/step - loss: 0.0017 - mae: 0.0323 - val_loss: 0.0034 - val_mae: 0.0462\n",
      "Epoch 443/1000\n",
      "5/5 [==============================] - 1s 135ms/step - loss: 0.0017 - mae: 0.0325 - val_loss: 0.0038 - val_mae: 0.0479\n",
      "Epoch 444/1000\n",
      "5/5 [==============================] - 1s 147ms/step - loss: 0.0019 - mae: 0.0350 - val_loss: 0.0036 - val_mae: 0.0465\n",
      "Epoch 445/1000\n",
      "5/5 [==============================] - 1s 149ms/step - loss: 0.0020 - mae: 0.0356 - val_loss: 0.0037 - val_mae: 0.0486\n",
      "Epoch 446/1000\n",
      "5/5 [==============================] - 1s 151ms/step - loss: 0.0018 - mae: 0.0336 - val_loss: 0.0034 - val_mae: 0.0457\n",
      "Epoch 447/1000\n",
      "5/5 [==============================] - 1s 142ms/step - loss: 0.0017 - mae: 0.0322 - val_loss: 0.0034 - val_mae: 0.0458\n",
      "Epoch 448/1000\n",
      "5/5 [==============================] - 1s 136ms/step - loss: 0.0016 - mae: 0.0321 - val_loss: 0.0038 - val_mae: 0.0487\n",
      "Epoch 449/1000\n"
     ]
    },
    {
     "name": "stdout",
     "output_type": "stream",
     "text": [
      "5/5 [==============================] - 1s 137ms/step - loss: 0.0018 - mae: 0.0337 - val_loss: 0.0033 - val_mae: 0.0452\n",
      "Epoch 450/1000\n",
      "5/5 [==============================] - 1s 144ms/step - loss: 0.0015 - mae: 0.0309 - val_loss: 0.0031 - val_mae: 0.0438\n",
      "Epoch 451/1000\n",
      "5/5 [==============================] - 1s 150ms/step - loss: 0.0015 - mae: 0.0303 - val_loss: 0.0032 - val_mae: 0.0441\n",
      "Epoch 452/1000\n",
      "5/5 [==============================] - 1s 150ms/step - loss: 0.0015 - mae: 0.0304 - val_loss: 0.0033 - val_mae: 0.0447\n",
      "Epoch 453/1000\n",
      "5/5 [==============================] - 1s 141ms/step - loss: 0.0017 - mae: 0.0328 - val_loss: 0.0032 - val_mae: 0.0448\n",
      "Epoch 454/1000\n",
      "5/5 [==============================] - 1s 138ms/step - loss: 0.0018 - mae: 0.0332 - val_loss: 0.0034 - val_mae: 0.0454\n",
      "Epoch 455/1000\n",
      "5/5 [==============================] - 1s 136ms/step - loss: 0.0018 - mae: 0.0334 - val_loss: 0.0034 - val_mae: 0.0454\n",
      "Epoch 456/1000\n",
      "5/5 [==============================] - 1s 145ms/step - loss: 0.0016 - mae: 0.0321 - val_loss: 0.0037 - val_mae: 0.0475\n",
      "Epoch 457/1000\n",
      "5/5 [==============================] - 1s 151ms/step - loss: 0.0017 - mae: 0.0325 - val_loss: 0.0033 - val_mae: 0.0446\n",
      "Epoch 458/1000\n",
      "5/5 [==============================] - 1s 143ms/step - loss: 0.0015 - mae: 0.0311 - val_loss: 0.0034 - val_mae: 0.0451\n",
      "Epoch 459/1000\n",
      "5/5 [==============================] - 1s 134ms/step - loss: 0.0016 - mae: 0.0319 - val_loss: 0.0032 - val_mae: 0.0440\n",
      "Epoch 460/1000\n",
      "5/5 [==============================] - 1s 140ms/step - loss: 0.0015 - mae: 0.0309 - val_loss: 0.0036 - val_mae: 0.0469\n",
      "Epoch 461/1000\n",
      "5/5 [==============================] - 1s 140ms/step - loss: 0.0018 - mae: 0.0336 - val_loss: 0.0032 - val_mae: 0.0440\n",
      "Epoch 462/1000\n",
      "5/5 [==============================] - 1s 141ms/step - loss: 0.0016 - mae: 0.0320 - val_loss: 0.0034 - val_mae: 0.0457\n",
      "Epoch 463/1000\n",
      "5/5 [==============================] - 1s 147ms/step - loss: 0.0017 - mae: 0.0331 - val_loss: 0.0042 - val_mae: 0.0505\n",
      "Epoch 464/1000\n",
      "5/5 [==============================] - 1s 145ms/step - loss: 0.0019 - mae: 0.0346 - val_loss: 0.0037 - val_mae: 0.0471\n",
      "Epoch 465/1000\n",
      "5/5 [==============================] - 1s 139ms/step - loss: 0.0017 - mae: 0.0329 - val_loss: 0.0035 - val_mae: 0.0461\n",
      "Epoch 466/1000\n",
      "5/5 [==============================] - 1s 137ms/step - loss: 0.0017 - mae: 0.0327 - val_loss: 0.0037 - val_mae: 0.0475\n",
      "Epoch 467/1000\n",
      "5/5 [==============================] - 1s 149ms/step - loss: 0.0019 - mae: 0.0344 - val_loss: 0.0034 - val_mae: 0.0454\n",
      "Epoch 468/1000\n",
      "5/5 [==============================] - 1s 145ms/step - loss: 0.0016 - mae: 0.0321 - val_loss: 0.0037 - val_mae: 0.0485\n",
      "Epoch 469/1000\n",
      "5/5 [==============================] - 1s 134ms/step - loss: 0.0017 - mae: 0.0320 - val_loss: 0.0036 - val_mae: 0.0472\n",
      "Epoch 470/1000\n",
      "5/5 [==============================] - 1s 133ms/step - loss: 0.0017 - mae: 0.0331 - val_loss: 0.0036 - val_mae: 0.0472\n",
      "Epoch 471/1000\n",
      "5/5 [==============================] - 1s 141ms/step - loss: 0.0018 - mae: 0.0337 - val_loss: 0.0036 - val_mae: 0.0463\n",
      "Epoch 472/1000\n",
      "5/5 [==============================] - 1s 152ms/step - loss: 0.0018 - mae: 0.0342 - val_loss: 0.0041 - val_mae: 0.0501\n",
      "Epoch 473/1000\n",
      "5/5 [==============================] - 1s 139ms/step - loss: 0.0020 - mae: 0.0352 - val_loss: 0.0035 - val_mae: 0.0470\n",
      "Epoch 474/1000\n",
      "5/5 [==============================] - 1s 133ms/step - loss: 0.0019 - mae: 0.0345 - val_loss: 0.0033 - val_mae: 0.0452\n",
      "Epoch 475/1000\n",
      "5/5 [==============================] - 1s 135ms/step - loss: 0.0019 - mae: 0.0344 - val_loss: 0.0034 - val_mae: 0.0457\n",
      "Epoch 476/1000\n",
      "5/5 [==============================] - 1s 146ms/step - loss: 0.0018 - mae: 0.0332 - val_loss: 0.0033 - val_mae: 0.0456\n",
      "Epoch 477/1000\n",
      "5/5 [==============================] - 1s 148ms/step - loss: 0.0016 - mae: 0.0318 - val_loss: 0.0037 - val_mae: 0.0472\n",
      "Epoch 478/1000\n",
      "5/5 [==============================] - ETA: 0s - loss: 0.0017 - mae: 0.0325INFO:tensorflow:Assets written to: C:\\Users\\PARK\\Documents\\LAB\\RNN vs LSTM\\FInal Example\\wandb\\run-20221015_185353-3s73nxty\\files\\model-best\\assets\n"
     ]
    },
    {
     "name": "stderr",
     "output_type": "stream",
     "text": [
      "\u001b[34m\u001b[1mwandb\u001b[0m: Adding directory to artifact (C:\\Users\\PARK\\Documents\\LAB\\RNN vs LSTM\\FInal Example\\wandb\\run-20221015_185353-3s73nxty\\files\\model-best)... Done. 0.0s\n"
     ]
    },
    {
     "name": "stdout",
     "output_type": "stream",
     "text": [
      "5/5 [==============================] - 2s 475ms/step - loss: 0.0017 - mae: 0.0325 - val_loss: 0.0031 - val_mae: 0.0436\n",
      "Epoch 479/1000\n",
      "5/5 [==============================] - 1s 151ms/step - loss: 0.0015 - mae: 0.0308 - val_loss: 0.0035 - val_mae: 0.0472\n",
      "Epoch 480/1000\n",
      "5/5 [==============================] - 1s 153ms/step - loss: 0.0017 - mae: 0.0323 - val_loss: 0.0033 - val_mae: 0.0454\n",
      "Epoch 481/1000\n",
      "5/5 [==============================] - 1s 140ms/step - loss: 0.0016 - mae: 0.0311 - val_loss: 0.0034 - val_mae: 0.0458\n",
      "Epoch 482/1000\n",
      "5/5 [==============================] - 1s 136ms/step - loss: 0.0016 - mae: 0.0315 - val_loss: 0.0032 - val_mae: 0.0440\n",
      "Epoch 483/1000\n",
      "4/5 [=======================>......] - ETA: 0s - loss: 0.0015 - mae: 0.0307INFO:tensorflow:Assets written to: C:\\Users\\PARK\\Documents\\LAB\\RNN vs LSTM\\FInal Example\\wandb\\run-20221015_185353-3s73nxty\\files\\model-best\\assets\n"
     ]
    },
    {
     "name": "stderr",
     "output_type": "stream",
     "text": [
      "\u001b[34m\u001b[1mwandb\u001b[0m: Adding directory to artifact (C:\\Users\\PARK\\Documents\\LAB\\RNN vs LSTM\\FInal Example\\wandb\\run-20221015_185353-3s73nxty\\files\\model-best)... Done. 0.0s\n"
     ]
    },
    {
     "name": "stdout",
     "output_type": "stream",
     "text": [
      "5/5 [==============================] - 2s 489ms/step - loss: 0.0015 - mae: 0.0306 - val_loss: 0.0031 - val_mae: 0.0429\n",
      "Epoch 484/1000\n",
      "5/5 [==============================] - ETA: 0s - loss: 0.0015 - mae: 0.0305INFO:tensorflow:Assets written to: C:\\Users\\PARK\\Documents\\LAB\\RNN vs LSTM\\FInal Example\\wandb\\run-20221015_185353-3s73nxty\\files\\model-best\\assets\n"
     ]
    },
    {
     "name": "stderr",
     "output_type": "stream",
     "text": [
      "\u001b[34m\u001b[1mwandb\u001b[0m: Adding directory to artifact (C:\\Users\\PARK\\Documents\\LAB\\RNN vs LSTM\\FInal Example\\wandb\\run-20221015_185353-3s73nxty\\files\\model-best)... Done. 0.0s\n"
     ]
    },
    {
     "name": "stdout",
     "output_type": "stream",
     "text": [
      "5/5 [==============================] - 2s 489ms/step - loss: 0.0015 - mae: 0.0305 - val_loss: 0.0030 - val_mae: 0.0433\n",
      "Epoch 485/1000\n",
      "5/5 [==============================] - 1s 155ms/step - loss: 0.0015 - mae: 0.0309 - val_loss: 0.0031 - val_mae: 0.0435\n",
      "Epoch 486/1000\n",
      "5/5 [==============================] - 1s 140ms/step - loss: 0.0014 - mae: 0.0303 - val_loss: 0.0031 - val_mae: 0.0433\n",
      "Epoch 487/1000\n",
      "5/5 [==============================] - ETA: 0s - loss: 0.0014 - mae: 0.0295INFO:tensorflow:Assets written to: C:\\Users\\PARK\\Documents\\LAB\\RNN vs LSTM\\FInal Example\\wandb\\run-20221015_185353-3s73nxty\\files\\model-best\\assets\n"
     ]
    },
    {
     "name": "stderr",
     "output_type": "stream",
     "text": [
      "\u001b[34m\u001b[1mwandb\u001b[0m: Adding directory to artifact (C:\\Users\\PARK\\Documents\\LAB\\RNN vs LSTM\\FInal Example\\wandb\\run-20221015_185353-3s73nxty\\files\\model-best)... Done. 0.0s\n"
     ]
    },
    {
     "name": "stdout",
     "output_type": "stream",
     "text": [
      "5/5 [==============================] - 2s 464ms/step - loss: 0.0014 - mae: 0.0295 - val_loss: 0.0030 - val_mae: 0.0435\n",
      "Epoch 488/1000\n",
      "5/5 [==============================] - 1s 164ms/step - loss: 0.0014 - mae: 0.0294 - val_loss: 0.0030 - val_mae: 0.0429\n",
      "Epoch 489/1000\n",
      "5/5 [==============================] - 1s 155ms/step - loss: 0.0014 - mae: 0.0295 - val_loss: 0.0030 - val_mae: 0.0432\n",
      "Epoch 490/1000\n",
      "5/5 [==============================] - 1s 144ms/step - loss: 0.0013 - mae: 0.0289 - val_loss: 0.0031 - val_mae: 0.0432\n",
      "Epoch 491/1000\n",
      "5/5 [==============================] - 1s 136ms/step - loss: 0.0013 - mae: 0.0289 - val_loss: 0.0031 - val_mae: 0.0426\n",
      "Epoch 492/1000\n",
      "5/5 [==============================] - 1s 137ms/step - loss: 0.0013 - mae: 0.0287 - val_loss: 0.0030 - val_mae: 0.0433\n",
      "Epoch 493/1000\n",
      "5/5 [==============================] - 1s 145ms/step - loss: 0.0014 - mae: 0.0292 - val_loss: 0.0031 - val_mae: 0.0431\n",
      "Epoch 494/1000\n",
      "5/5 [==============================] - 1s 140ms/step - loss: 0.0014 - mae: 0.0290 - val_loss: 0.0034 - val_mae: 0.0455\n",
      "Epoch 495/1000\n",
      "5/5 [==============================] - 1s 138ms/step - loss: 0.0015 - mae: 0.0306 - val_loss: 0.0033 - val_mae: 0.0449\n",
      "Epoch 496/1000\n",
      "5/5 [==============================] - 1s 135ms/step - loss: 0.0015 - mae: 0.0302 - val_loss: 0.0033 - val_mae: 0.0450\n",
      "Epoch 497/1000\n",
      "5/5 [==============================] - 1s 145ms/step - loss: 0.0015 - mae: 0.0304 - val_loss: 0.0034 - val_mae: 0.0456\n",
      "Epoch 498/1000\n",
      "5/5 [==============================] - 1s 155ms/step - loss: 0.0018 - mae: 0.0340 - val_loss: 0.0041 - val_mae: 0.0496\n",
      "Epoch 499/1000\n",
      "5/5 [==============================] - 1s 144ms/step - loss: 0.0021 - mae: 0.0366 - val_loss: 0.0041 - val_mae: 0.0497\n",
      "Epoch 500/1000\n",
      "5/5 [==============================] - 1s 137ms/step - loss: 0.0018 - mae: 0.0338 - val_loss: 0.0034 - val_mae: 0.0454\n",
      "Epoch 501/1000\n",
      "5/5 [==============================] - 1s 140ms/step - loss: 0.0016 - mae: 0.0316 - val_loss: 0.0032 - val_mae: 0.0437\n",
      "Epoch 502/1000\n",
      "5/5 [==============================] - 1s 142ms/step - loss: 0.0015 - mae: 0.0305 - val_loss: 0.0031 - val_mae: 0.0441\n",
      "Epoch 503/1000\n",
      "5/5 [==============================] - 1s 149ms/step - loss: 0.0014 - mae: 0.0295 - val_loss: 0.0033 - val_mae: 0.0450\n",
      "Epoch 504/1000\n",
      "5/5 [==============================] - 1s 155ms/step - loss: 0.0014 - mae: 0.0302 - val_loss: 0.0031 - val_mae: 0.0440\n",
      "Epoch 505/1000\n",
      "5/5 [==============================] - 1s 147ms/step - loss: 0.0014 - mae: 0.0295 - val_loss: 0.0031 - val_mae: 0.0435\n",
      "Epoch 506/1000\n",
      "5/5 [==============================] - 1s 140ms/step - loss: 0.0013 - mae: 0.0282 - val_loss: 0.0031 - val_mae: 0.0431\n",
      "Epoch 507/1000\n",
      "5/5 [==============================] - 1s 138ms/step - loss: 0.0013 - mae: 0.0283 - val_loss: 0.0030 - val_mae: 0.0427\n",
      "Epoch 508/1000\n",
      "5/5 [==============================] - 1s 143ms/step - loss: 0.0013 - mae: 0.0287 - val_loss: 0.0030 - val_mae: 0.0428\n",
      "Epoch 509/1000\n",
      "5/5 [==============================] - ETA: 0s - loss: 0.0012 - mae: 0.0277INFO:tensorflow:Assets written to: C:\\Users\\PARK\\Documents\\LAB\\RNN vs LSTM\\FInal Example\\wandb\\run-20221015_185353-3s73nxty\\files\\model-best\\assets\n"
     ]
    },
    {
     "name": "stderr",
     "output_type": "stream",
     "text": [
      "\u001b[34m\u001b[1mwandb\u001b[0m: Adding directory to artifact (C:\\Users\\PARK\\Documents\\LAB\\RNN vs LSTM\\FInal Example\\wandb\\run-20221015_185353-3s73nxty\\files\\model-best)... Done. 0.0s\n"
     ]
    },
    {
     "name": "stdout",
     "output_type": "stream",
     "text": [
      "5/5 [==============================] - 2s 503ms/step - loss: 0.0012 - mae: 0.0277 - val_loss: 0.0030 - val_mae: 0.0430\n",
      "Epoch 510/1000\n",
      "5/5 [==============================] - ETA: 0s - loss: 0.0012 - mae: 0.0273INFO:tensorflow:Assets written to: C:\\Users\\PARK\\Documents\\LAB\\RNN vs LSTM\\FInal Example\\wandb\\run-20221015_185353-3s73nxty\\files\\model-best\\assets\n"
     ]
    },
    {
     "name": "stderr",
     "output_type": "stream",
     "text": [
      "\u001b[34m\u001b[1mwandb\u001b[0m: Adding directory to artifact (C:\\Users\\PARK\\Documents\\LAB\\RNN vs LSTM\\FInal Example\\wandb\\run-20221015_185353-3s73nxty\\files\\model-best)... Done. 0.0s\n"
     ]
    },
    {
     "name": "stdout",
     "output_type": "stream",
     "text": [
      "5/5 [==============================] - 2s 499ms/step - loss: 0.0012 - mae: 0.0273 - val_loss: 0.0030 - val_mae: 0.0425\n",
      "Epoch 511/1000\n",
      "5/5 [==============================] - 1s 152ms/step - loss: 0.0012 - mae: 0.0273 - val_loss: 0.0030 - val_mae: 0.0432\n",
      "Epoch 512/1000\n",
      "5/5 [==============================] - 1s 149ms/step - loss: 0.0013 - mae: 0.0283 - val_loss: 0.0032 - val_mae: 0.0444\n",
      "Epoch 513/1000\n",
      "5/5 [==============================] - 1s 141ms/step - loss: 0.0013 - mae: 0.0289 - val_loss: 0.0030 - val_mae: 0.0427\n",
      "Epoch 514/1000\n",
      "5/5 [==============================] - ETA: 0s - loss: 0.0012 - mae: 0.0280INFO:tensorflow:Assets written to: C:\\Users\\PARK\\Documents\\LAB\\RNN vs LSTM\\FInal Example\\wandb\\run-20221015_185353-3s73nxty\\files\\model-best\\assets\n"
     ]
    },
    {
     "name": "stderr",
     "output_type": "stream",
     "text": [
      "\u001b[34m\u001b[1mwandb\u001b[0m: Adding directory to artifact (C:\\Users\\PARK\\Documents\\LAB\\RNN vs LSTM\\FInal Example\\wandb\\run-20221015_185353-3s73nxty\\files\\model-best)... Done. 0.0s\n"
     ]
    },
    {
     "name": "stdout",
     "output_type": "stream",
     "text": [
      "5/5 [==============================] - 2s 465ms/step - loss: 0.0012 - mae: 0.0280 - val_loss: 0.0029 - val_mae: 0.0424\n",
      "Epoch 515/1000\n",
      "5/5 [==============================] - 1s 160ms/step - loss: 0.0012 - mae: 0.0280 - val_loss: 0.0030 - val_mae: 0.0425\n",
      "Epoch 516/1000\n",
      "5/5 [==============================] - 1s 149ms/step - loss: 0.0012 - mae: 0.0274 - val_loss: 0.0030 - val_mae: 0.0424\n",
      "Epoch 517/1000\n",
      "5/5 [==============================] - 1s 148ms/step - loss: 0.0013 - mae: 0.0283 - val_loss: 0.0031 - val_mae: 0.0440\n",
      "Epoch 518/1000\n",
      "5/5 [==============================] - 1s 143ms/step - loss: 0.0014 - mae: 0.0297 - val_loss: 0.0035 - val_mae: 0.0469\n",
      "Epoch 519/1000\n",
      "5/5 [==============================] - 1s 133ms/step - loss: 0.0015 - mae: 0.0313 - val_loss: 0.0031 - val_mae: 0.0435\n",
      "Epoch 520/1000\n",
      "5/5 [==============================] - 1s 133ms/step - loss: 0.0014 - mae: 0.0298 - val_loss: 0.0031 - val_mae: 0.0430\n",
      "Epoch 521/1000\n",
      "5/5 [==============================] - 1s 140ms/step - loss: 0.0013 - mae: 0.0291 - val_loss: 0.0030 - val_mae: 0.0428\n",
      "Epoch 522/1000\n",
      "5/5 [==============================] - 1s 150ms/step - loss: 0.0013 - mae: 0.0288 - val_loss: 0.0031 - val_mae: 0.0427\n",
      "Epoch 523/1000\n",
      "5/5 [==============================] - 1s 139ms/step - loss: 0.0014 - mae: 0.0293 - val_loss: 0.0033 - val_mae: 0.0446\n",
      "Epoch 524/1000\n",
      "5/5 [==============================] - 1s 136ms/step - loss: 0.0014 - mae: 0.0297 - val_loss: 0.0031 - val_mae: 0.0437\n",
      "Epoch 525/1000\n",
      "5/5 [==============================] - 1s 134ms/step - loss: 0.0012 - mae: 0.0281 - val_loss: 0.0031 - val_mae: 0.0436\n",
      "Epoch 526/1000\n",
      "5/5 [==============================] - ETA: 0s - loss: 0.0013 - mae: 0.0283INFO:tensorflow:Assets written to: C:\\Users\\PARK\\Documents\\LAB\\RNN vs LSTM\\FInal Example\\wandb\\run-20221015_185353-3s73nxty\\files\\model-best\\assets\n"
     ]
    },
    {
     "name": "stderr",
     "output_type": "stream",
     "text": [
      "\u001b[34m\u001b[1mwandb\u001b[0m: Adding directory to artifact (C:\\Users\\PARK\\Documents\\LAB\\RNN vs LSTM\\FInal Example\\wandb\\run-20221015_185353-3s73nxty\\files\\model-best)... Done. 0.0s\n"
     ]
    },
    {
     "name": "stdout",
     "output_type": "stream",
     "text": [
      "5/5 [==============================] - 2s 496ms/step - loss: 0.0013 - mae: 0.0283 - val_loss: 0.0029 - val_mae: 0.0422\n",
      "Epoch 527/1000\n",
      "5/5 [==============================] - 1s 162ms/step - loss: 0.0012 - mae: 0.0279 - val_loss: 0.0029 - val_mae: 0.0420\n",
      "Epoch 528/1000\n",
      "5/5 [==============================] - 1s 147ms/step - loss: 0.0012 - mae: 0.0275 - val_loss: 0.0030 - val_mae: 0.0430\n",
      "Epoch 529/1000\n",
      "5/5 [==============================] - 1s 135ms/step - loss: 0.0012 - mae: 0.0273 - val_loss: 0.0030 - val_mae: 0.0436\n",
      "Epoch 530/1000\n",
      "5/5 [==============================] - 1s 134ms/step - loss: 0.0013 - mae: 0.0283 - val_loss: 0.0029 - val_mae: 0.0426\n",
      "Epoch 531/1000\n",
      "5/5 [==============================] - ETA: 0s - loss: 0.0012 - mae: 0.0275INFO:tensorflow:Assets written to: C:\\Users\\PARK\\Documents\\LAB\\RNN vs LSTM\\FInal Example\\wandb\\run-20221015_185353-3s73nxty\\files\\model-best\\assets\n"
     ]
    },
    {
     "name": "stderr",
     "output_type": "stream",
     "text": [
      "\u001b[34m\u001b[1mwandb\u001b[0m: Adding directory to artifact (C:\\Users\\PARK\\Documents\\LAB\\RNN vs LSTM\\FInal Example\\wandb\\run-20221015_185353-3s73nxty\\files\\model-best)... Done. 0.0s\n"
     ]
    },
    {
     "name": "stdout",
     "output_type": "stream",
     "text": [
      "5/5 [==============================] - 2s 481ms/step - loss: 0.0012 - mae: 0.0275 - val_loss: 0.0029 - val_mae: 0.0420\n",
      "Epoch 532/1000\n",
      "5/5 [==============================] - 1s 157ms/step - loss: 0.0012 - mae: 0.0271 - val_loss: 0.0030 - val_mae: 0.0424\n",
      "Epoch 533/1000\n",
      "5/5 [==============================] - 1s 149ms/step - loss: 0.0012 - mae: 0.0271 - val_loss: 0.0030 - val_mae: 0.0420\n",
      "Epoch 534/1000\n",
      "5/5 [==============================] - 1s 142ms/step - loss: 0.0012 - mae: 0.0272 - val_loss: 0.0030 - val_mae: 0.0432\n",
      "Epoch 535/1000\n",
      "5/5 [==============================] - 1s 137ms/step - loss: 0.0014 - mae: 0.0293 - val_loss: 0.0034 - val_mae: 0.0456\n",
      "Epoch 536/1000\n",
      "5/5 [==============================] - 1s 135ms/step - loss: 0.0014 - mae: 0.0298 - val_loss: 0.0033 - val_mae: 0.0440\n",
      "Epoch 537/1000\n",
      "5/5 [==============================] - 1s 143ms/step - loss: 0.0015 - mae: 0.0306 - val_loss: 0.0031 - val_mae: 0.0444\n",
      "Epoch 538/1000\n",
      "5/5 [==============================] - 1s 140ms/step - loss: 0.0013 - mae: 0.0285 - val_loss: 0.0030 - val_mae: 0.0430\n",
      "Epoch 539/1000\n",
      "5/5 [==============================] - 1s 136ms/step - loss: 0.0013 - mae: 0.0289 - val_loss: 0.0032 - val_mae: 0.0439\n",
      "Epoch 540/1000\n",
      "5/5 [==============================] - 1s 137ms/step - loss: 0.0013 - mae: 0.0289 - val_loss: 0.0034 - val_mae: 0.0460\n",
      "Epoch 541/1000\n",
      "5/5 [==============================] - ETA: 0s - loss: 0.0013 - mae: 0.0286INFO:tensorflow:Assets written to: C:\\Users\\PARK\\Documents\\LAB\\RNN vs LSTM\\FInal Example\\wandb\\run-20221015_185353-3s73nxty\\files\\model-best\\assets\n"
     ]
    },
    {
     "name": "stderr",
     "output_type": "stream",
     "text": [
      "\u001b[34m\u001b[1mwandb\u001b[0m: Adding directory to artifact (C:\\Users\\PARK\\Documents\\LAB\\RNN vs LSTM\\FInal Example\\wandb\\run-20221015_185353-3s73nxty\\files\\model-best)... Done. 0.0s\n"
     ]
    },
    {
     "name": "stdout",
     "output_type": "stream",
     "text": [
      "5/5 [==============================] - 2s 496ms/step - loss: 0.0013 - mae: 0.0286 - val_loss: 0.0029 - val_mae: 0.0419\n",
      "Epoch 542/1000\n",
      "5/5 [==============================] - 1s 166ms/step - loss: 0.0012 - mae: 0.0281 - val_loss: 0.0030 - val_mae: 0.0424\n",
      "Epoch 543/1000\n",
      "5/5 [==============================] - 1s 145ms/step - loss: 0.0013 - mae: 0.0287 - val_loss: 0.0032 - val_mae: 0.0442\n",
      "Epoch 544/1000\n",
      "5/5 [==============================] - 1s 136ms/step - loss: 0.0014 - mae: 0.0298 - val_loss: 0.0032 - val_mae: 0.0450\n",
      "Epoch 545/1000\n",
      "5/5 [==============================] - 1s 136ms/step - loss: 0.0014 - mae: 0.0290 - val_loss: 0.0030 - val_mae: 0.0434\n",
      "Epoch 546/1000\n",
      "5/5 [==============================] - 1s 146ms/step - loss: 0.0013 - mae: 0.0292 - val_loss: 0.0033 - val_mae: 0.0449\n",
      "Epoch 547/1000\n",
      "5/5 [==============================] - 1s 148ms/step - loss: 0.0014 - mae: 0.0293 - val_loss: 0.0030 - val_mae: 0.0432\n",
      "Epoch 548/1000\n",
      "5/5 [==============================] - 1s 142ms/step - loss: 0.0013 - mae: 0.0286 - val_loss: 0.0032 - val_mae: 0.0444\n",
      "Epoch 549/1000\n",
      "5/5 [==============================] - 1s 134ms/step - loss: 0.0013 - mae: 0.0286 - val_loss: 0.0029 - val_mae: 0.0422\n",
      "Epoch 550/1000\n",
      "5/5 [==============================] - 1s 133ms/step - loss: 0.0013 - mae: 0.0281 - val_loss: 0.0031 - val_mae: 0.0444\n",
      "Epoch 551/1000\n",
      "5/5 [==============================] - 1s 140ms/step - loss: 0.0012 - mae: 0.0279 - val_loss: 0.0030 - val_mae: 0.0429\n",
      "Epoch 552/1000\n",
      "5/5 [==============================] - 1s 142ms/step - loss: 0.0012 - mae: 0.0274 - val_loss: 0.0031 - val_mae: 0.0437\n",
      "Epoch 553/1000\n",
      "5/5 [==============================] - 1s 135ms/step - loss: 0.0012 - mae: 0.0280 - val_loss: 0.0029 - val_mae: 0.0420\n",
      "Epoch 554/1000\n",
      "5/5 [==============================] - 1s 135ms/step - loss: 0.0013 - mae: 0.0283 - val_loss: 0.0030 - val_mae: 0.0432\n",
      "Epoch 555/1000\n",
      "5/5 [==============================] - 1s 142ms/step - loss: 0.0013 - mae: 0.0291 - val_loss: 0.0029 - val_mae: 0.0416\n",
      "Epoch 556/1000\n",
      "5/5 [==============================] - 1s 139ms/step - loss: 0.0015 - mae: 0.0310 - val_loss: 0.0034 - val_mae: 0.0462\n",
      "Epoch 557/1000\n",
      "5/5 [==============================] - 1s 135ms/step - loss: 0.0013 - mae: 0.0285 - val_loss: 0.0030 - val_mae: 0.0427\n",
      "Epoch 558/1000\n",
      "5/5 [==============================] - 1s 135ms/step - loss: 0.0012 - mae: 0.0272 - val_loss: 0.0031 - val_mae: 0.0433\n",
      "Epoch 559/1000\n",
      "5/5 [==============================] - 1s 143ms/step - loss: 0.0011 - mae: 0.0264 - val_loss: 0.0030 - val_mae: 0.0422\n",
      "Epoch 560/1000\n",
      "5/5 [==============================] - 1s 137ms/step - loss: 0.0011 - mae: 0.0266 - val_loss: 0.0030 - val_mae: 0.0428\n",
      "Epoch 561/1000\n",
      "5/5 [==============================] - 1s 134ms/step - loss: 0.0012 - mae: 0.0271 - val_loss: 0.0029 - val_mae: 0.0420\n",
      "Epoch 562/1000\n",
      "5/5 [==============================] - 1s 134ms/step - loss: 0.0012 - mae: 0.0274 - val_loss: 0.0029 - val_mae: 0.0422\n",
      "Epoch 563/1000\n",
      "5/5 [==============================] - 1s 144ms/step - loss: 0.0011 - mae: 0.0266 - val_loss: 0.0029 - val_mae: 0.0422\n",
      "Epoch 564/1000\n",
      "5/5 [==============================] - 1s 138ms/step - loss: 0.0011 - mae: 0.0268 - val_loss: 0.0030 - val_mae: 0.0428\n",
      "Epoch 565/1000\n",
      "5/5 [==============================] - 1s 165ms/step - loss: 0.0011 - mae: 0.0269 - val_loss: 0.0032 - val_mae: 0.0446\n",
      "Epoch 566/1000\n",
      "5/5 [==============================] - 1s 134ms/step - loss: 0.0012 - mae: 0.0271 - val_loss: 0.0033 - val_mae: 0.0447\n",
      "Epoch 567/1000\n",
      "5/5 [==============================] - 1s 139ms/step - loss: 0.0013 - mae: 0.0283 - val_loss: 0.0029 - val_mae: 0.0422\n",
      "Epoch 568/1000\n",
      "5/5 [==============================] - 1s 135ms/step - loss: 0.0012 - mae: 0.0277 - val_loss: 0.0031 - val_mae: 0.0437\n",
      "Epoch 569/1000\n",
      "5/5 [==============================] - 1s 133ms/step - loss: 0.0014 - mae: 0.0302 - val_loss: 0.0037 - val_mae: 0.0477\n",
      "Epoch 570/1000\n",
      "5/5 [==============================] - 1s 140ms/step - loss: 0.0015 - mae: 0.0306 - val_loss: 0.0032 - val_mae: 0.0451\n",
      "Epoch 571/1000\n",
      "5/5 [==============================] - 1s 141ms/step - loss: 0.0014 - mae: 0.0294 - val_loss: 0.0030 - val_mae: 0.0436\n",
      "Epoch 572/1000\n",
      "5/5 [==============================] - 1s 132ms/step - loss: 0.0012 - mae: 0.0280 - val_loss: 0.0031 - val_mae: 0.0433\n",
      "Epoch 573/1000\n",
      "5/5 [==============================] - 1s 139ms/step - loss: 0.0012 - mae: 0.0279 - val_loss: 0.0030 - val_mae: 0.0425\n",
      "Epoch 574/1000\n",
      "5/5 [==============================] - 1s 147ms/step - loss: 0.0012 - mae: 0.0270 - val_loss: 0.0030 - val_mae: 0.0429\n",
      "Epoch 575/1000\n",
      "5/5 [==============================] - 1s 145ms/step - loss: 0.0012 - mae: 0.0276 - val_loss: 0.0032 - val_mae: 0.0445\n",
      "Epoch 576/1000\n",
      "5/5 [==============================] - 1s 144ms/step - loss: 0.0013 - mae: 0.0290 - val_loss: 0.0029 - val_mae: 0.0420\n",
      "Epoch 577/1000\n",
      "5/5 [==============================] - ETA: 0s - loss: 0.0012 - mae: 0.0271INFO:tensorflow:Assets written to: C:\\Users\\PARK\\Documents\\LAB\\RNN vs LSTM\\FInal Example\\wandb\\run-20221015_185353-3s73nxty\\files\\model-best\\assets\n"
     ]
    },
    {
     "name": "stderr",
     "output_type": "stream",
     "text": [
      "\u001b[34m\u001b[1mwandb\u001b[0m: Adding directory to artifact (C:\\Users\\PARK\\Documents\\LAB\\RNN vs LSTM\\FInal Example\\wandb\\run-20221015_185353-3s73nxty\\files\\model-best)... Done. 0.0s\n"
     ]
    },
    {
     "name": "stdout",
     "output_type": "stream",
     "text": [
      "5/5 [==============================] - 2s 474ms/step - loss: 0.0012 - mae: 0.0271 - val_loss: 0.0029 - val_mae: 0.0418\n",
      "Epoch 578/1000\n",
      "5/5 [==============================] - 1s 157ms/step - loss: 0.0011 - mae: 0.0263 - val_loss: 0.0030 - val_mae: 0.0427\n",
      "Epoch 579/1000\n",
      "5/5 [==============================] - 1s 152ms/step - loss: 0.0011 - mae: 0.0266 - val_loss: 0.0029 - val_mae: 0.0420\n",
      "Epoch 580/1000\n",
      "5/5 [==============================] - 1s 152ms/step - loss: 0.0010 - mae: 0.0257 - val_loss: 0.0029 - val_mae: 0.0420\n",
      "Epoch 581/1000\n",
      "5/5 [==============================] - 1s 149ms/step - loss: 0.0011 - mae: 0.0265 - val_loss: 0.0029 - val_mae: 0.0422\n",
      "Epoch 582/1000\n",
      "5/5 [==============================] - 1s 142ms/step - loss: 0.0011 - mae: 0.0257 - val_loss: 0.0029 - val_mae: 0.0419\n",
      "Epoch 583/1000\n",
      "4/5 [=======================>......] - ETA: 0s - loss: 0.0010 - mae: 0.0253INFO:tensorflow:Assets written to: C:\\Users\\PARK\\Documents\\LAB\\RNN vs LSTM\\FInal Example\\wandb\\run-20221015_185353-3s73nxty\\files\\model-best\\assets\n"
     ]
    },
    {
     "name": "stderr",
     "output_type": "stream",
     "text": [
      "\u001b[34m\u001b[1mwandb\u001b[0m: Adding directory to artifact (C:\\Users\\PARK\\Documents\\LAB\\RNN vs LSTM\\FInal Example\\wandb\\run-20221015_185353-3s73nxty\\files\\model-best)... Done. 0.0s\n"
     ]
    },
    {
     "name": "stdout",
     "output_type": "stream",
     "text": [
      "5/5 [==============================] - 2s 513ms/step - loss: 0.0010 - mae: 0.0254 - val_loss: 0.0027 - val_mae: 0.0409\n",
      "Epoch 584/1000\n",
      "5/5 [==============================] - 1s 164ms/step - loss: 0.0010 - mae: 0.0251 - val_loss: 0.0029 - val_mae: 0.0418\n",
      "Epoch 585/1000\n",
      "5/5 [==============================] - 1s 151ms/step - loss: 0.0010 - mae: 0.0254 - val_loss: 0.0028 - val_mae: 0.0415\n",
      "Epoch 586/1000\n",
      "5/5 [==============================] - 1s 153ms/step - loss: 0.0010 - mae: 0.0255 - val_loss: 0.0030 - val_mae: 0.0429\n",
      "Epoch 587/1000\n",
      "5/5 [==============================] - 1s 148ms/step - loss: 0.0011 - mae: 0.0269 - val_loss: 0.0030 - val_mae: 0.0426\n",
      "Epoch 588/1000\n",
      "5/5 [==============================] - 1s 141ms/step - loss: 0.0013 - mae: 0.0281 - val_loss: 0.0030 - val_mae: 0.0423\n",
      "Epoch 589/1000\n",
      "5/5 [==============================] - 1s 138ms/step - loss: 0.0012 - mae: 0.0279 - val_loss: 0.0035 - val_mae: 0.0462\n",
      "Epoch 590/1000\n",
      "5/5 [==============================] - 1s 136ms/step - loss: 0.0014 - mae: 0.0298 - val_loss: 0.0032 - val_mae: 0.0447\n",
      "Epoch 591/1000\n",
      "5/5 [==============================] - 1s 145ms/step - loss: 0.0012 - mae: 0.0273 - val_loss: 0.0030 - val_mae: 0.0430\n",
      "Epoch 592/1000\n",
      "5/5 [==============================] - 1s 150ms/step - loss: 0.0011 - mae: 0.0261 - val_loss: 0.0029 - val_mae: 0.0423\n",
      "Epoch 593/1000\n",
      "5/5 [==============================] - 1s 144ms/step - loss: 0.0011 - mae: 0.0259 - val_loss: 0.0031 - val_mae: 0.0435\n",
      "Epoch 594/1000\n",
      "5/5 [==============================] - 1s 136ms/step - loss: 0.0011 - mae: 0.0262 - val_loss: 0.0029 - val_mae: 0.0419\n",
      "Epoch 595/1000\n",
      "5/5 [==============================] - 1s 138ms/step - loss: 0.0011 - mae: 0.0259 - val_loss: 0.0029 - val_mae: 0.0420\n",
      "Epoch 596/1000\n",
      "5/5 [==============================] - 1s 145ms/step - loss: 0.0011 - mae: 0.0257 - val_loss: 0.0029 - val_mae: 0.0422\n",
      "Epoch 597/1000\n",
      "5/5 [==============================] - 1s 140ms/step - loss: 0.0011 - mae: 0.0259 - val_loss: 0.0030 - val_mae: 0.0428\n",
      "Epoch 598/1000\n",
      "5/5 [==============================] - 1s 136ms/step - loss: 0.0012 - mae: 0.0276 - val_loss: 0.0032 - val_mae: 0.0446\n",
      "Epoch 599/1000\n",
      "5/5 [==============================] - 1s 133ms/step - loss: 0.0012 - mae: 0.0277 - val_loss: 0.0029 - val_mae: 0.0426\n",
      "Epoch 600/1000\n",
      "5/5 [==============================] - 1s 142ms/step - loss: 0.0012 - mae: 0.0275 - val_loss: 0.0032 - val_mae: 0.0447\n",
      "Epoch 601/1000\n",
      "5/5 [==============================] - 1s 139ms/step - loss: 0.0012 - mae: 0.0277 - val_loss: 0.0030 - val_mae: 0.0424\n",
      "Epoch 602/1000\n",
      "5/5 [==============================] - 1s 134ms/step - loss: 0.0011 - mae: 0.0265 - val_loss: 0.0030 - val_mae: 0.0431\n",
      "Epoch 603/1000\n",
      "5/5 [==============================] - 1s 135ms/step - loss: 0.0011 - mae: 0.0268 - val_loss: 0.0028 - val_mae: 0.0412\n",
      "Epoch 604/1000\n",
      "5/5 [==============================] - 1s 143ms/step - loss: 0.0012 - mae: 0.0268 - val_loss: 0.0039 - val_mae: 0.0484\n",
      "Epoch 605/1000\n",
      "5/5 [==============================] - 1s 147ms/step - loss: 0.0015 - mae: 0.0315 - val_loss: 0.0029 - val_mae: 0.0422\n",
      "Epoch 606/1000\n",
      "5/5 [==============================] - 1s 150ms/step - loss: 0.0014 - mae: 0.0305 - val_loss: 0.0030 - val_mae: 0.0430\n",
      "Epoch 607/1000\n",
      "5/5 [==============================] - 1s 141ms/step - loss: 0.0015 - mae: 0.0303 - val_loss: 0.0041 - val_mae: 0.0501\n",
      "Epoch 608/1000\n",
      "5/5 [==============================] - 1s 132ms/step - loss: 0.0017 - mae: 0.0334 - val_loss: 0.0032 - val_mae: 0.0447\n",
      "Epoch 609/1000\n",
      "5/5 [==============================] - 1s 134ms/step - loss: 0.0016 - mae: 0.0318 - val_loss: 0.0039 - val_mae: 0.0500\n",
      "Epoch 610/1000\n",
      "5/5 [==============================] - 1s 140ms/step - loss: 0.0017 - mae: 0.0328 - val_loss: 0.0034 - val_mae: 0.0455\n",
      "Epoch 611/1000\n",
      "5/5 [==============================] - 1s 141ms/step - loss: 0.0018 - mae: 0.0332 - val_loss: 0.0034 - val_mae: 0.0452\n",
      "Epoch 612/1000\n",
      "5/5 [==============================] - 1s 136ms/step - loss: 0.0017 - mae: 0.0326 - val_loss: 0.0034 - val_mae: 0.0458\n",
      "Epoch 613/1000\n",
      "5/5 [==============================] - 1s 133ms/step - loss: 0.0015 - mae: 0.0313 - val_loss: 0.0033 - val_mae: 0.0457\n",
      "Epoch 614/1000\n",
      "5/5 [==============================] - 1s 141ms/step - loss: 0.0013 - mae: 0.0290 - val_loss: 0.0032 - val_mae: 0.0439\n",
      "Epoch 615/1000\n",
      "5/5 [==============================] - 1s 143ms/step - loss: 0.0013 - mae: 0.0280 - val_loss: 0.0035 - val_mae: 0.0467\n",
      "Epoch 616/1000\n",
      "5/5 [==============================] - 1s 135ms/step - loss: 0.0014 - mae: 0.0295 - val_loss: 0.0031 - val_mae: 0.0436\n",
      "Epoch 617/1000\n",
      "5/5 [==============================] - 1s 134ms/step - loss: 0.0013 - mae: 0.0288 - val_loss: 0.0031 - val_mae: 0.0443\n",
      "Epoch 618/1000\n",
      "5/5 [==============================] - 1s 149ms/step - loss: 0.0013 - mae: 0.0284 - val_loss: 0.0031 - val_mae: 0.0433\n",
      "Epoch 619/1000\n",
      "5/5 [==============================] - 1s 144ms/step - loss: 0.0013 - mae: 0.0286 - val_loss: 0.0034 - val_mae: 0.0460\n",
      "Epoch 620/1000\n",
      "5/5 [==============================] - 1s 141ms/step - loss: 0.0013 - mae: 0.0282 - val_loss: 0.0034 - val_mae: 0.0463\n",
      "Epoch 621/1000\n",
      "5/5 [==============================] - 1s 139ms/step - loss: 0.0013 - mae: 0.0282 - val_loss: 0.0029 - val_mae: 0.0425\n",
      "Epoch 622/1000\n",
      "5/5 [==============================] - 1s 143ms/step - loss: 0.0012 - mae: 0.0273 - val_loss: 0.0031 - val_mae: 0.0436\n",
      "Epoch 623/1000\n",
      "5/5 [==============================] - 1s 150ms/step - loss: 0.0012 - mae: 0.0272 - val_loss: 0.0030 - val_mae: 0.0426\n",
      "Epoch 624/1000\n",
      "5/5 [==============================] - 1s 141ms/step - loss: 0.0011 - mae: 0.0264 - val_loss: 0.0031 - val_mae: 0.0436\n",
      "Epoch 625/1000\n",
      "5/5 [==============================] - 1s 137ms/step - loss: 0.0011 - mae: 0.0262 - val_loss: 0.0030 - val_mae: 0.0426\n",
      "Epoch 626/1000\n",
      "5/5 [==============================] - 1s 136ms/step - loss: 0.0011 - mae: 0.0260 - val_loss: 0.0030 - val_mae: 0.0434\n",
      "Epoch 627/1000\n",
      "5/5 [==============================] - 1s 148ms/step - loss: 0.0011 - mae: 0.0269 - val_loss: 0.0030 - val_mae: 0.0428\n",
      "Epoch 628/1000\n",
      "5/5 [==============================] - 1s 150ms/step - loss: 0.0010 - mae: 0.0256 - val_loss: 0.0032 - val_mae: 0.0436\n",
      "Epoch 629/1000\n",
      "5/5 [==============================] - 1s 143ms/step - loss: 0.0011 - mae: 0.0263 - val_loss: 0.0030 - val_mae: 0.0427\n",
      "Epoch 630/1000\n",
      "5/5 [==============================] - 1s 135ms/step - loss: 0.0011 - mae: 0.0258 - val_loss: 0.0031 - val_mae: 0.0434\n",
      "Epoch 631/1000\n",
      "5/5 [==============================] - 1s 138ms/step - loss: 0.0011 - mae: 0.0263 - val_loss: 0.0029 - val_mae: 0.0417\n",
      "Epoch 632/1000\n",
      "5/5 [==============================] - 1s 143ms/step - loss: 0.0010 - mae: 0.0254 - val_loss: 0.0029 - val_mae: 0.0415\n",
      "Epoch 633/1000\n",
      "5/5 [==============================] - 1s 140ms/step - loss: 9.6376e-04 - mae: 0.0245 - val_loss: 0.0030 - val_mae: 0.0431\n",
      "Epoch 634/1000\n",
      "5/5 [==============================] - 1s 138ms/step - loss: 0.0010 - mae: 0.0250 - val_loss: 0.0030 - val_mae: 0.0427\n",
      "Epoch 635/1000\n",
      "5/5 [==============================] - 1s 137ms/step - loss: 9.6557e-04 - mae: 0.0245 - val_loss: 0.0028 - val_mae: 0.0410\n",
      "Epoch 636/1000\n",
      "5/5 [==============================] - 1s 148ms/step - loss: 9.0603e-04 - mae: 0.0238 - val_loss: 0.0028 - val_mae: 0.0414\n",
      "Epoch 637/1000\n",
      "5/5 [==============================] - 1s 151ms/step - loss: 9.1636e-04 - mae: 0.0239 - val_loss: 0.0030 - val_mae: 0.0423\n",
      "Epoch 638/1000\n",
      "5/5 [==============================] - 1s 142ms/step - loss: 9.8338e-04 - mae: 0.0249 - val_loss: 0.0029 - val_mae: 0.0421\n",
      "Epoch 639/1000\n",
      "5/5 [==============================] - 1s 136ms/step - loss: 9.7423e-04 - mae: 0.0248 - val_loss: 0.0030 - val_mae: 0.0427\n",
      "Epoch 640/1000\n",
      "5/5 [==============================] - 1s 137ms/step - loss: 0.0011 - mae: 0.0270 - val_loss: 0.0029 - val_mae: 0.0423\n",
      "Epoch 641/1000\n",
      "5/5 [==============================] - 1s 147ms/step - loss: 0.0011 - mae: 0.0261 - val_loss: 0.0029 - val_mae: 0.0417\n",
      "Epoch 642/1000\n",
      "5/5 [==============================] - 1s 140ms/step - loss: 9.6433e-04 - mae: 0.0245 - val_loss: 0.0028 - val_mae: 0.0408\n",
      "Epoch 643/1000\n",
      "5/5 [==============================] - 1s 139ms/step - loss: 9.4815e-04 - mae: 0.0245 - val_loss: 0.0029 - val_mae: 0.0420\n",
      "Epoch 644/1000\n"
     ]
    },
    {
     "name": "stdout",
     "output_type": "stream",
     "text": [
      "5/5 [==============================] - 1s 141ms/step - loss: 0.0010 - mae: 0.0250 - val_loss: 0.0028 - val_mae: 0.0417\n",
      "Epoch 645/1000\n",
      "5/5 [==============================] - 1s 152ms/step - loss: 0.0010 - mae: 0.0256 - val_loss: 0.0031 - val_mae: 0.0438\n",
      "Epoch 646/1000\n",
      "5/5 [==============================] - 1s 152ms/step - loss: 0.0010 - mae: 0.0250 - val_loss: 0.0030 - val_mae: 0.0423\n",
      "Epoch 647/1000\n",
      "5/5 [==============================] - 1s 150ms/step - loss: 0.0010 - mae: 0.0256 - val_loss: 0.0029 - val_mae: 0.0418\n",
      "Epoch 648/1000\n",
      "5/5 [==============================] - 1s 150ms/step - loss: 0.0011 - mae: 0.0257 - val_loss: 0.0029 - val_mae: 0.0422\n",
      "Epoch 649/1000\n",
      "5/5 [==============================] - 1s 147ms/step - loss: 9.9163e-04 - mae: 0.0246 - val_loss: 0.0031 - val_mae: 0.0431\n",
      "Epoch 650/1000\n",
      "5/5 [==============================] - 1s 141ms/step - loss: 0.0011 - mae: 0.0257 - val_loss: 0.0030 - val_mae: 0.0436\n",
      "Epoch 651/1000\n",
      "5/5 [==============================] - 1s 138ms/step - loss: 0.0011 - mae: 0.0262 - val_loss: 0.0030 - val_mae: 0.0439\n",
      "Epoch 652/1000\n",
      "5/5 [==============================] - 1s 145ms/step - loss: 0.0011 - mae: 0.0263 - val_loss: 0.0034 - val_mae: 0.0457\n",
      "Epoch 653/1000\n",
      "5/5 [==============================] - 1s 143ms/step - loss: 0.0012 - mae: 0.0282 - val_loss: 0.0030 - val_mae: 0.0431\n",
      "Epoch 654/1000\n",
      "5/5 [==============================] - 1s 152ms/step - loss: 0.0014 - mae: 0.0295 - val_loss: 0.0032 - val_mae: 0.0443\n",
      "Epoch 655/1000\n",
      "5/5 [==============================] - 1s 140ms/step - loss: 0.0012 - mae: 0.0273 - val_loss: 0.0031 - val_mae: 0.0437\n",
      "Epoch 656/1000\n",
      "5/5 [==============================] - 1s 137ms/step - loss: 0.0011 - mae: 0.0269 - val_loss: 0.0034 - val_mae: 0.0461\n",
      "Epoch 657/1000\n",
      "5/5 [==============================] - 1s 145ms/step - loss: 0.0013 - mae: 0.0285 - val_loss: 0.0032 - val_mae: 0.0441\n",
      "Epoch 658/1000\n",
      "5/5 [==============================] - 1s 142ms/step - loss: 0.0014 - mae: 0.0300 - val_loss: 0.0036 - val_mae: 0.0472\n",
      "Epoch 659/1000\n",
      "5/5 [==============================] - 1s 155ms/step - loss: 0.0013 - mae: 0.0289 - val_loss: 0.0033 - val_mae: 0.0454\n",
      "Epoch 660/1000\n",
      "5/5 [==============================] - 1s 148ms/step - loss: 0.0012 - mae: 0.0282 - val_loss: 0.0032 - val_mae: 0.0443\n",
      "Epoch 661/1000\n",
      "5/5 [==============================] - 1s 147ms/step - loss: 0.0012 - mae: 0.0276 - val_loss: 0.0036 - val_mae: 0.0469\n",
      "Epoch 662/1000\n",
      "5/5 [==============================] - 1s 141ms/step - loss: 0.0013 - mae: 0.0284 - val_loss: 0.0033 - val_mae: 0.0455\n",
      "Epoch 663/1000\n",
      "5/5 [==============================] - 1s 131ms/step - loss: 0.0013 - mae: 0.0288 - val_loss: 0.0030 - val_mae: 0.0431\n",
      "Epoch 664/1000\n",
      "5/5 [==============================] - 1s 135ms/step - loss: 0.0011 - mae: 0.0269 - val_loss: 0.0031 - val_mae: 0.0439\n",
      "Epoch 665/1000\n",
      "5/5 [==============================] - 1s 141ms/step - loss: 0.0010 - mae: 0.0254 - val_loss: 0.0029 - val_mae: 0.0417\n",
      "Epoch 666/1000\n",
      "5/5 [==============================] - 1s 148ms/step - loss: 9.5425e-04 - mae: 0.0245 - val_loss: 0.0030 - val_mae: 0.0433\n",
      "Epoch 667/1000\n",
      "5/5 [==============================] - 1s 151ms/step - loss: 0.0010 - mae: 0.0257 - val_loss: 0.0029 - val_mae: 0.0424\n",
      "Epoch 668/1000\n",
      "5/5 [==============================] - ETA: 0s - loss: 9.5588e-04 - mae: 0.0245INFO:tensorflow:Assets written to: C:\\Users\\PARK\\Documents\\LAB\\RNN vs LSTM\\FInal Example\\wandb\\run-20221015_185353-3s73nxty\\files\\model-best\\assets\n"
     ]
    },
    {
     "name": "stderr",
     "output_type": "stream",
     "text": [
      "\u001b[34m\u001b[1mwandb\u001b[0m: Adding directory to artifact (C:\\Users\\PARK\\Documents\\LAB\\RNN vs LSTM\\FInal Example\\wandb\\run-20221015_185353-3s73nxty\\files\\model-best)... Done. 0.0s\n"
     ]
    },
    {
     "name": "stdout",
     "output_type": "stream",
     "text": [
      "5/5 [==============================] - 2s 489ms/step - loss: 9.5588e-04 - mae: 0.0245 - val_loss: 0.0027 - val_mae: 0.0413\n",
      "Epoch 669/1000\n",
      "5/5 [==============================] - 1s 164ms/step - loss: 8.9490e-04 - mae: 0.0236 - val_loss: 0.0030 - val_mae: 0.0426\n",
      "Epoch 670/1000\n",
      "5/5 [==============================] - 1s 152ms/step - loss: 9.4000e-04 - mae: 0.0243 - val_loss: 0.0028 - val_mae: 0.0415\n",
      "Epoch 671/1000\n",
      "5/5 [==============================] - 1s 139ms/step - loss: 9.1442e-04 - mae: 0.0239 - val_loss: 0.0028 - val_mae: 0.0412\n",
      "Epoch 672/1000\n",
      "5/5 [==============================] - 1s 134ms/step - loss: 9.9524e-04 - mae: 0.0251 - val_loss: 0.0029 - val_mae: 0.0425\n",
      "Epoch 673/1000\n",
      "5/5 [==============================] - 1s 138ms/step - loss: 9.5303e-04 - mae: 0.0245 - val_loss: 0.0030 - val_mae: 0.0424\n",
      "Epoch 674/1000\n",
      "5/5 [==============================] - 1s 145ms/step - loss: 9.2971e-04 - mae: 0.0242 - val_loss: 0.0029 - val_mae: 0.0419\n",
      "Epoch 675/1000\n",
      "5/5 [==============================] - 1s 143ms/step - loss: 9.4430e-04 - mae: 0.0244 - val_loss: 0.0029 - val_mae: 0.0418\n",
      "Epoch 676/1000\n",
      "5/5 [==============================] - 1s 134ms/step - loss: 9.9338e-04 - mae: 0.0250 - val_loss: 0.0029 - val_mae: 0.0425\n",
      "Epoch 677/1000\n",
      "5/5 [==============================] - 1s 138ms/step - loss: 9.4285e-04 - mae: 0.0243 - val_loss: 0.0030 - val_mae: 0.0425\n",
      "Epoch 678/1000\n",
      "5/5 [==============================] - 1s 143ms/step - loss: 0.0010 - mae: 0.0255 - val_loss: 0.0030 - val_mae: 0.0422\n",
      "Epoch 679/1000\n",
      "5/5 [==============================] - 1s 150ms/step - loss: 0.0010 - mae: 0.0257 - val_loss: 0.0031 - val_mae: 0.0428\n",
      "Epoch 680/1000\n",
      "5/5 [==============================] - 1s 153ms/step - loss: 0.0010 - mae: 0.0254 - val_loss: 0.0031 - val_mae: 0.0442\n",
      "Epoch 681/1000\n",
      "5/5 [==============================] - 1s 142ms/step - loss: 0.0010 - mae: 0.0252 - val_loss: 0.0028 - val_mae: 0.0414\n",
      "Epoch 682/1000\n",
      "5/5 [==============================] - 1s 142ms/step - loss: 9.4713e-04 - mae: 0.0244 - val_loss: 0.0029 - val_mae: 0.0420\n",
      "Epoch 683/1000\n",
      "5/5 [==============================] - 1s 146ms/step - loss: 9.7749e-04 - mae: 0.0249 - val_loss: 0.0028 - val_mae: 0.0417\n",
      "Epoch 684/1000\n",
      "5/5 [==============================] - 1s 150ms/step - loss: 0.0010 - mae: 0.0254 - val_loss: 0.0030 - val_mae: 0.0428\n",
      "Epoch 685/1000\n",
      "5/5 [==============================] - 1s 145ms/step - loss: 9.6305e-04 - mae: 0.0247 - val_loss: 0.0028 - val_mae: 0.0414\n",
      "Epoch 686/1000\n",
      "5/5 [==============================] - 1s 136ms/step - loss: 0.0010 - mae: 0.0253 - val_loss: 0.0029 - val_mae: 0.0429\n",
      "Epoch 687/1000\n",
      "5/5 [==============================] - 1s 139ms/step - loss: 0.0010 - mae: 0.0252 - val_loss: 0.0032 - val_mae: 0.0441\n",
      "Epoch 688/1000\n",
      "5/5 [==============================] - 1s 141ms/step - loss: 0.0011 - mae: 0.0261 - val_loss: 0.0028 - val_mae: 0.0409\n",
      "Epoch 689/1000\n",
      "5/5 [==============================] - 1s 143ms/step - loss: 9.3955e-04 - mae: 0.0243 - val_loss: 0.0030 - val_mae: 0.0437\n",
      "Epoch 690/1000\n",
      "5/5 [==============================] - 1s 136ms/step - loss: 9.7818e-04 - mae: 0.0249 - val_loss: 0.0029 - val_mae: 0.0424\n",
      "Epoch 691/1000\n",
      "5/5 [==============================] - 1s 134ms/step - loss: 0.0010 - mae: 0.0258 - val_loss: 0.0033 - val_mae: 0.0446\n",
      "Epoch 692/1000\n",
      "5/5 [==============================] - 1s 142ms/step - loss: 0.0011 - mae: 0.0258 - val_loss: 0.0032 - val_mae: 0.0445\n",
      "Epoch 693/1000\n",
      "5/5 [==============================] - 1s 148ms/step - loss: 0.0013 - mae: 0.0281 - val_loss: 0.0032 - val_mae: 0.0449\n",
      "Epoch 694/1000\n",
      "5/5 [==============================] - 1s 135ms/step - loss: 0.0013 - mae: 0.0287 - val_loss: 0.0030 - val_mae: 0.0425\n",
      "Epoch 695/1000\n",
      "5/5 [==============================] - 1s 134ms/step - loss: 9.9097e-04 - mae: 0.0249 - val_loss: 0.0030 - val_mae: 0.0422\n",
      "Epoch 696/1000\n",
      "5/5 [==============================] - 1s 133ms/step - loss: 9.5904e-04 - mae: 0.0246 - val_loss: 0.0029 - val_mae: 0.0422\n",
      "Epoch 697/1000\n",
      "5/5 [==============================] - 1s 152ms/step - loss: 0.0011 - mae: 0.0263 - val_loss: 0.0032 - val_mae: 0.0444\n",
      "Epoch 698/1000\n",
      "5/5 [==============================] - 1s 150ms/step - loss: 0.0011 - mae: 0.0268 - val_loss: 0.0040 - val_mae: 0.0490\n",
      "Epoch 699/1000\n",
      "5/5 [==============================] - 1s 134ms/step - loss: 0.0016 - mae: 0.0323 - val_loss: 0.0030 - val_mae: 0.0433\n",
      "Epoch 700/1000\n",
      "5/5 [==============================] - 1s 134ms/step - loss: 0.0012 - mae: 0.0279 - val_loss: 0.0028 - val_mae: 0.0408\n",
      "Epoch 701/1000\n",
      "5/5 [==============================] - 1s 140ms/step - loss: 9.5079e-04 - mae: 0.0245 - val_loss: 0.0029 - val_mae: 0.0429\n",
      "Epoch 702/1000\n",
      "5/5 [==============================] - 1s 132ms/step - loss: 9.4664e-04 - mae: 0.0245 - val_loss: 0.0030 - val_mae: 0.0425\n",
      "Epoch 703/1000\n",
      "5/5 [==============================] - 1s 141ms/step - loss: 9.0089e-04 - mae: 0.0236 - val_loss: 0.0029 - val_mae: 0.0415\n",
      "Epoch 704/1000\n",
      "5/5 [==============================] - 1s 145ms/step - loss: 8.7096e-04 - mae: 0.0234 - val_loss: 0.0029 - val_mae: 0.0420\n",
      "Epoch 705/1000\n",
      "5/5 [==============================] - 1s 137ms/step - loss: 8.4916e-04 - mae: 0.0231 - val_loss: 0.0030 - val_mae: 0.0432\n",
      "Epoch 706/1000\n",
      "5/5 [==============================] - ETA: 0s - loss: 8.9522e-04 - mae: 0.0237INFO:tensorflow:Assets written to: C:\\Users\\PARK\\Documents\\LAB\\RNN vs LSTM\\FInal Example\\wandb\\run-20221015_185353-3s73nxty\\files\\model-best\\assets\n"
     ]
    },
    {
     "name": "stderr",
     "output_type": "stream",
     "text": [
      "\u001b[34m\u001b[1mwandb\u001b[0m: Adding directory to artifact (C:\\Users\\PARK\\Documents\\LAB\\RNN vs LSTM\\FInal Example\\wandb\\run-20221015_185353-3s73nxty\\files\\model-best)... Done. 0.0s\n"
     ]
    },
    {
     "name": "stdout",
     "output_type": "stream",
     "text": [
      "5/5 [==============================] - 2s 473ms/step - loss: 8.9522e-04 - mae: 0.0237 - val_loss: 0.0027 - val_mae: 0.0406\n",
      "Epoch 707/1000\n",
      "5/5 [==============================] - ETA: 0s - loss: 8.1677e-04 - mae: 0.0227INFO:tensorflow:Assets written to: C:\\Users\\PARK\\Documents\\LAB\\RNN vs LSTM\\FInal Example\\wandb\\run-20221015_185353-3s73nxty\\files\\model-best\\assets\n"
     ]
    },
    {
     "name": "stderr",
     "output_type": "stream",
     "text": [
      "\u001b[34m\u001b[1mwandb\u001b[0m: Adding directory to artifact (C:\\Users\\PARK\\Documents\\LAB\\RNN vs LSTM\\FInal Example\\wandb\\run-20221015_185353-3s73nxty\\files\\model-best)... Done. 0.0s\n"
     ]
    },
    {
     "name": "stdout",
     "output_type": "stream",
     "text": [
      "5/5 [==============================] - 2s 514ms/step - loss: 8.1677e-04 - mae: 0.0227 - val_loss: 0.0027 - val_mae: 0.0402\n",
      "Epoch 708/1000\n",
      "5/5 [==============================] - 1s 166ms/step - loss: 7.7224e-04 - mae: 0.0220 - val_loss: 0.0027 - val_mae: 0.0402\n",
      "Epoch 709/1000\n",
      "5/5 [==============================] - 1s 136ms/step - loss: 7.6891e-04 - mae: 0.0221 - val_loss: 0.0027 - val_mae: 0.0405\n",
      "Epoch 710/1000\n",
      "5/5 [==============================] - 1s 137ms/step - loss: 7.8775e-04 - mae: 0.0222 - val_loss: 0.0031 - val_mae: 0.0430\n",
      "Epoch 711/1000\n",
      "5/5 [==============================] - 1s 146ms/step - loss: 8.8395e-04 - mae: 0.0237 - val_loss: 0.0027 - val_mae: 0.0406\n",
      "Epoch 712/1000\n",
      "5/5 [==============================] - 1s 145ms/step - loss: 8.2197e-04 - mae: 0.0227 - val_loss: 0.0029 - val_mae: 0.0419\n",
      "Epoch 713/1000\n",
      "5/5 [==============================] - 1s 145ms/step - loss: 8.8730e-04 - mae: 0.0236 - val_loss: 0.0027 - val_mae: 0.0402\n",
      "Epoch 714/1000\n",
      "5/5 [==============================] - 1s 134ms/step - loss: 9.0230e-04 - mae: 0.0237 - val_loss: 0.0029 - val_mae: 0.0422\n",
      "Epoch 715/1000\n",
      "5/5 [==============================] - 1s 143ms/step - loss: 9.5384e-04 - mae: 0.0245 - val_loss: 0.0029 - val_mae: 0.0426\n",
      "Epoch 716/1000\n",
      "5/5 [==============================] - 1s 138ms/step - loss: 9.2120e-04 - mae: 0.0239 - val_loss: 0.0029 - val_mae: 0.0423\n",
      "Epoch 717/1000\n",
      "5/5 [==============================] - 1s 138ms/step - loss: 8.5202e-04 - mae: 0.0232 - val_loss: 0.0029 - val_mae: 0.0411\n",
      "Epoch 718/1000\n",
      "5/5 [==============================] - 1s 147ms/step - loss: 8.7923e-04 - mae: 0.0237 - val_loss: 0.0029 - val_mae: 0.0421\n",
      "Epoch 719/1000\n",
      "5/5 [==============================] - 1s 140ms/step - loss: 8.8059e-04 - mae: 0.0235 - val_loss: 0.0028 - val_mae: 0.0412\n",
      "Epoch 720/1000\n",
      "5/5 [==============================] - 1s 151ms/step - loss: 9.2671e-04 - mae: 0.0240 - val_loss: 0.0029 - val_mae: 0.0421\n",
      "Epoch 721/1000\n",
      "5/5 [==============================] - 1s 147ms/step - loss: 9.7721e-04 - mae: 0.0247 - val_loss: 0.0029 - val_mae: 0.0422\n",
      "Epoch 722/1000\n",
      "5/5 [==============================] - 1s 141ms/step - loss: 9.1845e-04 - mae: 0.0240 - val_loss: 0.0028 - val_mae: 0.0413\n",
      "Epoch 723/1000\n",
      "5/5 [==============================] - 1s 134ms/step - loss: 9.5166e-04 - mae: 0.0245 - val_loss: 0.0029 - val_mae: 0.0421\n",
      "Epoch 724/1000\n",
      "5/5 [==============================] - 1s 134ms/step - loss: 8.9794e-04 - mae: 0.0236 - val_loss: 0.0028 - val_mae: 0.0411\n",
      "Epoch 725/1000\n",
      "5/5 [==============================] - 1s 145ms/step - loss: 8.8094e-04 - mae: 0.0236 - val_loss: 0.0029 - val_mae: 0.0415\n",
      "Epoch 726/1000\n",
      "5/5 [==============================] - 1s 141ms/step - loss: 8.2730e-04 - mae: 0.0229 - val_loss: 0.0030 - val_mae: 0.0426\n",
      "Epoch 727/1000\n",
      "5/5 [==============================] - 1s 138ms/step - loss: 8.4685e-04 - mae: 0.0231 - val_loss: 0.0027 - val_mae: 0.0404\n",
      "Epoch 728/1000\n",
      "5/5 [==============================] - 1s 138ms/step - loss: 7.8827e-04 - mae: 0.0223 - val_loss: 0.0028 - val_mae: 0.0408\n",
      "Epoch 729/1000\n",
      "5/5 [==============================] - 1s 153ms/step - loss: 8.1106e-04 - mae: 0.0226 - val_loss: 0.0027 - val_mae: 0.0405\n",
      "Epoch 730/1000\n",
      "5/5 [==============================] - 1s 144ms/step - loss: 7.9547e-04 - mae: 0.0223 - val_loss: 0.0028 - val_mae: 0.0409\n",
      "Epoch 731/1000\n",
      "5/5 [==============================] - 1s 137ms/step - loss: 7.8706e-04 - mae: 0.0222 - val_loss: 0.0030 - val_mae: 0.0421\n",
      "Epoch 732/1000\n",
      "5/5 [==============================] - 1s 136ms/step - loss: 7.9514e-04 - mae: 0.0224 - val_loss: 0.0028 - val_mae: 0.0407\n",
      "Epoch 733/1000\n",
      "5/5 [==============================] - 1s 146ms/step - loss: 8.4745e-04 - mae: 0.0232 - val_loss: 0.0029 - val_mae: 0.0417\n",
      "Epoch 734/1000\n",
      "5/5 [==============================] - 1s 141ms/step - loss: 8.4223e-04 - mae: 0.0230 - val_loss: 0.0027 - val_mae: 0.0406\n",
      "Epoch 735/1000\n",
      "5/5 [==============================] - 1s 137ms/step - loss: 8.2380e-04 - mae: 0.0228 - val_loss: 0.0029 - val_mae: 0.0416\n",
      "Epoch 736/1000\n",
      "5/5 [==============================] - ETA: 0s - loss: 7.7614e-04 - mae: 0.0222INFO:tensorflow:Assets written to: C:\\Users\\PARK\\Documents\\LAB\\RNN vs LSTM\\FInal Example\\wandb\\run-20221015_185353-3s73nxty\\files\\model-best\\assets\n"
     ]
    },
    {
     "name": "stderr",
     "output_type": "stream",
     "text": [
      "\u001b[34m\u001b[1mwandb\u001b[0m: Adding directory to artifact (C:\\Users\\PARK\\Documents\\LAB\\RNN vs LSTM\\FInal Example\\wandb\\run-20221015_185353-3s73nxty\\files\\model-best)... Done. 0.0s\n"
     ]
    },
    {
     "name": "stdout",
     "output_type": "stream",
     "text": [
      "5/5 [==============================] - 2s 477ms/step - loss: 7.7614e-04 - mae: 0.0222 - val_loss: 0.0027 - val_mae: 0.0401\n",
      "Epoch 737/1000\n",
      "5/5 [==============================] - 1s 162ms/step - loss: 7.7656e-04 - mae: 0.0222 - val_loss: 0.0029 - val_mae: 0.0417\n",
      "Epoch 738/1000\n",
      "5/5 [==============================] - 1s 149ms/step - loss: 8.3380e-04 - mae: 0.0228 - val_loss: 0.0032 - val_mae: 0.0435\n",
      "Epoch 739/1000\n",
      "5/5 [==============================] - 1s 147ms/step - loss: 8.9436e-04 - mae: 0.0239 - val_loss: 0.0029 - val_mae: 0.0418\n",
      "Epoch 740/1000\n",
      "5/5 [==============================] - 1s 139ms/step - loss: 9.0291e-04 - mae: 0.0238 - val_loss: 0.0029 - val_mae: 0.0421\n",
      "Epoch 741/1000\n",
      "5/5 [==============================] - 1s 136ms/step - loss: 9.2739e-04 - mae: 0.0243 - val_loss: 0.0032 - val_mae: 0.0436\n",
      "Epoch 742/1000\n",
      "5/5 [==============================] - 1s 145ms/step - loss: 9.3866e-04 - mae: 0.0242 - val_loss: 0.0030 - val_mae: 0.0423\n",
      "Epoch 743/1000\n",
      "5/5 [==============================] - 1s 148ms/step - loss: 8.9271e-04 - mae: 0.0236 - val_loss: 0.0029 - val_mae: 0.0428\n",
      "Epoch 744/1000\n",
      "5/5 [==============================] - 1s 149ms/step - loss: 0.0011 - mae: 0.0261 - val_loss: 0.0034 - val_mae: 0.0456\n",
      "Epoch 745/1000\n",
      "5/5 [==============================] - 1s 141ms/step - loss: 0.0012 - mae: 0.0273 - val_loss: 0.0032 - val_mae: 0.0448\n",
      "Epoch 746/1000\n",
      "5/5 [==============================] - 1s 133ms/step - loss: 0.0012 - mae: 0.0276 - val_loss: 0.0034 - val_mae: 0.0453\n",
      "Epoch 747/1000\n",
      "5/5 [==============================] - 1s 134ms/step - loss: 0.0014 - mae: 0.0300 - val_loss: 0.0040 - val_mae: 0.0501\n",
      "Epoch 748/1000\n",
      "5/5 [==============================] - 1s 143ms/step - loss: 0.0015 - mae: 0.0310 - val_loss: 0.0035 - val_mae: 0.0466\n",
      "Epoch 749/1000\n",
      "5/5 [==============================] - 1s 140ms/step - loss: 0.0015 - mae: 0.0314 - val_loss: 0.0035 - val_mae: 0.0468\n",
      "Epoch 750/1000\n",
      "5/5 [==============================] - 1s 134ms/step - loss: 0.0013 - mae: 0.0282 - val_loss: 0.0035 - val_mae: 0.0456\n",
      "Epoch 751/1000\n",
      "5/5 [==============================] - 1s 133ms/step - loss: 0.0011 - mae: 0.0266 - val_loss: 0.0029 - val_mae: 0.0424\n",
      "Epoch 752/1000\n",
      "5/5 [==============================] - 1s 142ms/step - loss: 9.3024e-04 - mae: 0.0245 - val_loss: 0.0030 - val_mae: 0.0426\n",
      "Epoch 753/1000\n",
      "5/5 [==============================] - 1s 140ms/step - loss: 8.6354e-04 - mae: 0.0233 - val_loss: 0.0029 - val_mae: 0.0415\n",
      "Epoch 754/1000\n",
      "5/5 [==============================] - 1s 134ms/step - loss: 8.0694e-04 - mae: 0.0224 - val_loss: 0.0028 - val_mae: 0.0413\n",
      "Epoch 755/1000\n",
      "5/5 [==============================] - 1s 133ms/step - loss: 7.8666e-04 - mae: 0.0222 - val_loss: 0.0027 - val_mae: 0.0404\n",
      "Epoch 756/1000\n",
      "5/5 [==============================] - 1s 143ms/step - loss: 7.4451e-04 - mae: 0.0216 - val_loss: 0.0028 - val_mae: 0.0413\n",
      "Epoch 757/1000\n",
      "5/5 [==============================] - 1s 150ms/step - loss: 7.9339e-04 - mae: 0.0224 - val_loss: 0.0030 - val_mae: 0.0434\n",
      "Epoch 758/1000\n",
      "5/5 [==============================] - 1s 152ms/step - loss: 9.1443e-04 - mae: 0.0239 - val_loss: 0.0028 - val_mae: 0.0411\n",
      "Epoch 759/1000\n",
      "5/5 [==============================] - 1s 150ms/step - loss: 8.6911e-04 - mae: 0.0234 - val_loss: 0.0028 - val_mae: 0.0414\n",
      "Epoch 760/1000\n",
      "5/5 [==============================] - 1s 143ms/step - loss: 8.7232e-04 - mae: 0.0235 - val_loss: 0.0030 - val_mae: 0.0425\n",
      "Epoch 761/1000\n",
      "5/5 [==============================] - 1s 139ms/step - loss: 7.9513e-04 - mae: 0.0223 - val_loss: 0.0028 - val_mae: 0.0410\n",
      "Epoch 762/1000\n",
      "5/5 [==============================] - 1s 144ms/step - loss: 7.7050e-04 - mae: 0.0221 - val_loss: 0.0027 - val_mae: 0.0403\n",
      "Epoch 763/1000\n",
      "5/5 [==============================] - 1s 151ms/step - loss: 7.0415e-04 - mae: 0.0210 - val_loss: 0.0028 - val_mae: 0.0409\n",
      "Epoch 764/1000\n",
      "5/5 [==============================] - ETA: 0s - loss: 7.3372e-04 - mae: 0.0216INFO:tensorflow:Assets written to: C:\\Users\\PARK\\Documents\\LAB\\RNN vs LSTM\\FInal Example\\wandb\\run-20221015_185353-3s73nxty\\files\\model-best\\assets\n"
     ]
    },
    {
     "name": "stderr",
     "output_type": "stream",
     "text": [
      "\u001b[34m\u001b[1mwandb\u001b[0m: Adding directory to artifact (C:\\Users\\PARK\\Documents\\LAB\\RNN vs LSTM\\FInal Example\\wandb\\run-20221015_185353-3s73nxty\\files\\model-best)... Done. 0.0s\n"
     ]
    },
    {
     "name": "stdout",
     "output_type": "stream",
     "text": [
      "5/5 [==============================] - 2s 500ms/step - loss: 7.3372e-04 - mae: 0.0216 - val_loss: 0.0026 - val_mae: 0.0397\n",
      "Epoch 765/1000\n",
      "5/5 [==============================] - 1s 158ms/step - loss: 7.0861e-04 - mae: 0.0212 - val_loss: 0.0026 - val_mae: 0.0392\n",
      "Epoch 766/1000\n",
      "5/5 [==============================] - 1s 152ms/step - loss: 7.0851e-04 - mae: 0.0211 - val_loss: 0.0028 - val_mae: 0.0412\n",
      "Epoch 767/1000\n",
      "5/5 [==============================] - 1s 140ms/step - loss: 7.3455e-04 - mae: 0.0215 - val_loss: 0.0029 - val_mae: 0.0423\n",
      "Epoch 768/1000\n",
      "5/5 [==============================] - 1s 136ms/step - loss: 8.2476e-04 - mae: 0.0228 - val_loss: 0.0027 - val_mae: 0.0412\n",
      "Epoch 769/1000\n",
      "5/5 [==============================] - 1s 137ms/step - loss: 7.5326e-04 - mae: 0.0220 - val_loss: 0.0027 - val_mae: 0.0399\n",
      "Epoch 770/1000\n",
      "5/5 [==============================] - 1s 149ms/step - loss: 7.2171e-04 - mae: 0.0212 - val_loss: 0.0027 - val_mae: 0.0402\n",
      "Epoch 771/1000\n",
      "5/5 [==============================] - 1s 151ms/step - loss: 6.7356e-04 - mae: 0.0206 - val_loss: 0.0028 - val_mae: 0.0410\n",
      "Epoch 772/1000\n",
      "5/5 [==============================] - ETA: 0s - loss: 6.7473e-04 - mae: 0.0206INFO:tensorflow:Assets written to: C:\\Users\\PARK\\Documents\\LAB\\RNN vs LSTM\\FInal Example\\wandb\\run-20221015_185353-3s73nxty\\files\\model-best\\assets\n"
     ]
    },
    {
     "name": "stderr",
     "output_type": "stream",
     "text": [
      "\u001b[34m\u001b[1mwandb\u001b[0m: Adding directory to artifact (C:\\Users\\PARK\\Documents\\LAB\\RNN vs LSTM\\FInal Example\\wandb\\run-20221015_185353-3s73nxty\\files\\model-best)... Done. 0.0s\n"
     ]
    },
    {
     "name": "stdout",
     "output_type": "stream",
     "text": [
      "5/5 [==============================] - 5s 1s/step - loss: 6.7473e-04 - mae: 0.0206 - val_loss: 0.0026 - val_mae: 0.0393\n",
      "Epoch 773/1000\n",
      "5/5 [==============================] - 1s 184ms/step - loss: 6.8894e-04 - mae: 0.0208 - val_loss: 0.0026 - val_mae: 0.0395\n",
      "Epoch 774/1000\n",
      "5/5 [==============================] - 1s 152ms/step - loss: 7.3341e-04 - mae: 0.0216 - val_loss: 0.0033 - val_mae: 0.0439\n",
      "Epoch 775/1000\n",
      "5/5 [==============================] - 1s 154ms/step - loss: 9.7726e-04 - mae: 0.0247 - val_loss: 0.0028 - val_mae: 0.0412\n",
      "Epoch 776/1000\n",
      "5/5 [==============================] - 1s 154ms/step - loss: 0.0011 - mae: 0.0259 - val_loss: 0.0029 - val_mae: 0.0421\n",
      "Epoch 777/1000\n",
      "5/5 [==============================] - 1s 142ms/step - loss: 9.9424e-04 - mae: 0.0253 - val_loss: 0.0029 - val_mae: 0.0416\n",
      "Epoch 778/1000\n",
      "5/5 [==============================] - 1s 136ms/step - loss: 8.6756e-04 - mae: 0.0233 - val_loss: 0.0030 - val_mae: 0.0428\n",
      "Epoch 779/1000\n",
      "5/5 [==============================] - 1s 137ms/step - loss: 9.4752e-04 - mae: 0.0245 - val_loss: 0.0028 - val_mae: 0.0409\n",
      "Epoch 780/1000\n",
      "5/5 [==============================] - 1s 145ms/step - loss: 9.1737e-04 - mae: 0.0240 - val_loss: 0.0028 - val_mae: 0.0404\n",
      "Epoch 781/1000\n",
      "5/5 [==============================] - 1s 149ms/step - loss: 7.6676e-04 - mae: 0.0218 - val_loss: 0.0033 - val_mae: 0.0449\n",
      "Epoch 782/1000\n",
      "5/5 [==============================] - 1s 149ms/step - loss: 8.2721e-04 - mae: 0.0228 - val_loss: 0.0029 - val_mae: 0.0422\n",
      "Epoch 783/1000\n",
      "5/5 [==============================] - 1s 144ms/step - loss: 8.3286e-04 - mae: 0.0230 - val_loss: 0.0027 - val_mae: 0.0398\n",
      "Epoch 784/1000\n",
      "5/5 [==============================] - 1s 137ms/step - loss: 7.8865e-04 - mae: 0.0222 - val_loss: 0.0028 - val_mae: 0.0409\n",
      "Epoch 785/1000\n",
      "5/5 [==============================] - 1s 135ms/step - loss: 8.1350e-04 - mae: 0.0225 - val_loss: 0.0030 - val_mae: 0.0434\n",
      "Epoch 786/1000\n",
      "5/5 [==============================] - 1s 145ms/step - loss: 8.8042e-04 - mae: 0.0235 - val_loss: 0.0030 - val_mae: 0.0426\n",
      "Epoch 787/1000\n",
      "5/5 [==============================] - 1s 149ms/step - loss: 8.0645e-04 - mae: 0.0225 - val_loss: 0.0033 - val_mae: 0.0439\n",
      "Epoch 788/1000\n",
      "5/5 [==============================] - 1s 149ms/step - loss: 9.3289e-04 - mae: 0.0244 - val_loss: 0.0031 - val_mae: 0.0442\n",
      "Epoch 789/1000\n",
      "5/5 [==============================] - 1s 140ms/step - loss: 9.4069e-04 - mae: 0.0244 - val_loss: 0.0029 - val_mae: 0.0418\n",
      "Epoch 790/1000\n",
      "5/5 [==============================] - 1s 136ms/step - loss: 8.8181e-04 - mae: 0.0234 - val_loss: 0.0030 - val_mae: 0.0419\n",
      "Epoch 791/1000\n",
      "5/5 [==============================] - 1s 134ms/step - loss: 9.1815e-04 - mae: 0.0241 - val_loss: 0.0032 - val_mae: 0.0438\n",
      "Epoch 792/1000\n",
      "5/5 [==============================] - 1s 144ms/step - loss: 0.0011 - mae: 0.0258 - val_loss: 0.0035 - val_mae: 0.0466\n",
      "Epoch 793/1000\n",
      "5/5 [==============================] - 1s 141ms/step - loss: 0.0012 - mae: 0.0273 - val_loss: 0.0031 - val_mae: 0.0427\n",
      "Epoch 794/1000\n",
      "5/5 [==============================] - 1s 135ms/step - loss: 0.0012 - mae: 0.0280 - val_loss: 0.0043 - val_mae: 0.0522\n",
      "Epoch 795/1000\n",
      "5/5 [==============================] - 1s 137ms/step - loss: 0.0017 - mae: 0.0330 - val_loss: 0.0032 - val_mae: 0.0435\n",
      "Epoch 796/1000\n",
      "5/5 [==============================] - 1s 143ms/step - loss: 0.0015 - mae: 0.0303 - val_loss: 0.0038 - val_mae: 0.0476\n",
      "Epoch 797/1000\n",
      "5/5 [==============================] - 1s 149ms/step - loss: 0.0012 - mae: 0.0275 - val_loss: 0.0030 - val_mae: 0.0422\n",
      "Epoch 798/1000\n",
      "5/5 [==============================] - 1s 154ms/step - loss: 9.0568e-04 - mae: 0.0239 - val_loss: 0.0030 - val_mae: 0.0430\n",
      "Epoch 799/1000\n",
      "5/5 [==============================] - 1s 145ms/step - loss: 9.9085e-04 - mae: 0.0249 - val_loss: 0.0029 - val_mae: 0.0414\n",
      "Epoch 800/1000\n",
      "5/5 [==============================] - 1s 135ms/step - loss: 8.0099e-04 - mae: 0.0226 - val_loss: 0.0028 - val_mae: 0.0407\n",
      "Epoch 801/1000\n",
      "5/5 [==============================] - 1s 141ms/step - loss: 7.3471e-04 - mae: 0.0216 - val_loss: 0.0028 - val_mae: 0.0412\n",
      "Epoch 802/1000\n",
      "5/5 [==============================] - 1s 138ms/step - loss: 7.6042e-04 - mae: 0.0219 - val_loss: 0.0026 - val_mae: 0.0400\n",
      "Epoch 803/1000\n",
      "5/5 [==============================] - 1s 140ms/step - loss: 6.7097e-04 - mae: 0.0206 - val_loss: 0.0027 - val_mae: 0.0398\n",
      "Epoch 804/1000\n",
      "5/5 [==============================] - 1s 147ms/step - loss: 6.8644e-04 - mae: 0.0207 - val_loss: 0.0028 - val_mae: 0.0409\n",
      "Epoch 805/1000\n",
      "5/5 [==============================] - 1s 150ms/step - loss: 7.0055e-04 - mae: 0.0209 - val_loss: 0.0027 - val_mae: 0.0402\n",
      "Epoch 806/1000\n",
      "5/5 [==============================] - 1s 149ms/step - loss: 7.1633e-04 - mae: 0.0213 - val_loss: 0.0028 - val_mae: 0.0413\n",
      "Epoch 807/1000\n",
      "5/5 [==============================] - 1s 140ms/step - loss: 7.9304e-04 - mae: 0.0224 - val_loss: 0.0029 - val_mae: 0.0421\n",
      "Epoch 808/1000\n",
      "5/5 [==============================] - 1s 135ms/step - loss: 7.7535e-04 - mae: 0.0221 - val_loss: 0.0027 - val_mae: 0.0410\n",
      "Epoch 809/1000\n",
      "5/5 [==============================] - 1s 139ms/step - loss: 6.9524e-04 - mae: 0.0209 - val_loss: 0.0027 - val_mae: 0.0406\n",
      "Epoch 810/1000\n",
      "5/5 [==============================] - 1s 145ms/step - loss: 6.7547e-04 - mae: 0.0206 - val_loss: 0.0028 - val_mae: 0.0405\n",
      "Epoch 811/1000\n",
      "5/5 [==============================] - 1s 139ms/step - loss: 6.6173e-04 - mae: 0.0205 - val_loss: 0.0029 - val_mae: 0.0414\n",
      "Epoch 812/1000\n",
      "5/5 [==============================] - 1s 135ms/step - loss: 7.5846e-04 - mae: 0.0218 - val_loss: 0.0027 - val_mae: 0.0400\n",
      "Epoch 813/1000\n",
      "5/5 [==============================] - 1s 136ms/step - loss: 7.6274e-04 - mae: 0.0219 - val_loss: 0.0030 - val_mae: 0.0440\n",
      "Epoch 814/1000\n",
      "5/5 [==============================] - 1s 146ms/step - loss: 8.8185e-04 - mae: 0.0237 - val_loss: 0.0029 - val_mae: 0.0421\n",
      "Epoch 815/1000\n",
      "5/5 [==============================] - 1s 150ms/step - loss: 7.3976e-04 - mae: 0.0215 - val_loss: 0.0026 - val_mae: 0.0396\n",
      "Epoch 816/1000\n",
      "5/5 [==============================] - 1s 142ms/step - loss: 6.5109e-04 - mae: 0.0203 - val_loss: 0.0026 - val_mae: 0.0398\n",
      "Epoch 817/1000\n",
      "5/5 [==============================] - 1s 136ms/step - loss: 6.5047e-04 - mae: 0.0203 - val_loss: 0.0027 - val_mae: 0.0397\n",
      "Epoch 818/1000\n",
      "5/5 [==============================] - 1s 135ms/step - loss: 6.4596e-04 - mae: 0.0203 - val_loss: 0.0026 - val_mae: 0.0401\n",
      "Epoch 819/1000\n",
      "5/5 [==============================] - 1s 145ms/step - loss: 6.5593e-04 - mae: 0.0203 - val_loss: 0.0028 - val_mae: 0.0411\n",
      "Epoch 820/1000\n",
      "5/5 [==============================] - ETA: 0s - loss: 6.5917e-04 - mae: 0.0203INFO:tensorflow:Assets written to: C:\\Users\\PARK\\Documents\\LAB\\RNN vs LSTM\\FInal Example\\wandb\\run-20221015_185353-3s73nxty\\files\\model-best\\assets\n"
     ]
    },
    {
     "name": "stderr",
     "output_type": "stream",
     "text": [
      "\u001b[34m\u001b[1mwandb\u001b[0m: Adding directory to artifact (C:\\Users\\PARK\\Documents\\LAB\\RNN vs LSTM\\FInal Example\\wandb\\run-20221015_185353-3s73nxty\\files\\model-best)... Done. 0.0s\n"
     ]
    },
    {
     "name": "stdout",
     "output_type": "stream",
     "text": [
      "5/5 [==============================] - 2s 499ms/step - loss: 6.5917e-04 - mae: 0.0203 - val_loss: 0.0026 - val_mae: 0.0395\n",
      "Epoch 821/1000\n",
      "5/5 [==============================] - 1s 166ms/step - loss: 6.3194e-04 - mae: 0.0199 - val_loss: 0.0027 - val_mae: 0.0401\n",
      "Epoch 822/1000\n",
      "5/5 [==============================] - 1s 151ms/step - loss: 6.1889e-04 - mae: 0.0198 - val_loss: 0.0027 - val_mae: 0.0408\n",
      "Epoch 823/1000\n",
      "5/5 [==============================] - 1s 150ms/step - loss: 6.4236e-04 - mae: 0.0202 - val_loss: 0.0027 - val_mae: 0.0403\n",
      "Epoch 824/1000\n",
      "5/5 [==============================] - 1s 148ms/step - loss: 7.5158e-04 - mae: 0.0218 - val_loss: 0.0028 - val_mae: 0.0412\n",
      "Epoch 825/1000\n",
      "5/5 [==============================] - 1s 140ms/step - loss: 7.9216e-04 - mae: 0.0224 - val_loss: 0.0027 - val_mae: 0.0411\n",
      "Epoch 826/1000\n",
      "5/5 [==============================] - 1s 137ms/step - loss: 7.5251e-04 - mae: 0.0219 - val_loss: 0.0029 - val_mae: 0.0420\n",
      "Epoch 827/1000\n",
      "5/5 [==============================] - 1s 136ms/step - loss: 6.9656e-04 - mae: 0.0210 - val_loss: 0.0028 - val_mae: 0.0411\n",
      "Epoch 828/1000\n",
      "5/5 [==============================] - 1s 145ms/step - loss: 6.7651e-04 - mae: 0.0206 - val_loss: 0.0027 - val_mae: 0.0407\n",
      "Epoch 829/1000\n",
      "5/5 [==============================] - 1s 150ms/step - loss: 6.7518e-04 - mae: 0.0206 - val_loss: 0.0026 - val_mae: 0.0398\n",
      "Epoch 830/1000\n",
      "5/5 [==============================] - 1s 142ms/step - loss: 6.4123e-04 - mae: 0.0202 - val_loss: 0.0027 - val_mae: 0.0397\n",
      "Epoch 831/1000\n",
      "5/5 [==============================] - 1s 137ms/step - loss: 6.0781e-04 - mae: 0.0195 - val_loss: 0.0026 - val_mae: 0.0394\n",
      "Epoch 832/1000\n",
      "5/5 [==============================] - 1s 134ms/step - loss: 6.2275e-04 - mae: 0.0198 - val_loss: 0.0027 - val_mae: 0.0398\n",
      "Epoch 833/1000\n",
      "5/5 [==============================] - 1s 143ms/step - loss: 6.2180e-04 - mae: 0.0198 - val_loss: 0.0026 - val_mae: 0.0399\n",
      "Epoch 834/1000\n",
      "5/5 [==============================] - 1s 142ms/step - loss: 6.9569e-04 - mae: 0.0207 - val_loss: 0.0026 - val_mae: 0.0393\n",
      "Epoch 835/1000\n",
      "5/5 [==============================] - 1s 133ms/step - loss: 6.3130e-04 - mae: 0.0201 - val_loss: 0.0028 - val_mae: 0.0411\n",
      "Epoch 836/1000\n",
      "5/5 [==============================] - ETA: 0s - loss: 6.8191e-04 - mae: 0.0207INFO:tensorflow:Assets written to: C:\\Users\\PARK\\Documents\\LAB\\RNN vs LSTM\\FInal Example\\wandb\\run-20221015_185353-3s73nxty\\files\\model-best\\assets\n"
     ]
    },
    {
     "name": "stderr",
     "output_type": "stream",
     "text": [
      "\u001b[34m\u001b[1mwandb\u001b[0m: Adding directory to artifact (C:\\Users\\PARK\\Documents\\LAB\\RNN vs LSTM\\FInal Example\\wandb\\run-20221015_185353-3s73nxty\\files\\model-best)... Done. 0.0s\n"
     ]
    },
    {
     "name": "stdout",
     "output_type": "stream",
     "text": [
      "5/5 [==============================] - 2s 467ms/step - loss: 6.8191e-04 - mae: 0.0207 - val_loss: 0.0026 - val_mae: 0.0392\n",
      "Epoch 837/1000\n",
      "5/5 [==============================] - 1s 158ms/step - loss: 6.0950e-04 - mae: 0.0195 - val_loss: 0.0027 - val_mae: 0.0404\n",
      "Epoch 838/1000\n",
      "5/5 [==============================] - 1s 152ms/step - loss: 6.1127e-04 - mae: 0.0197 - val_loss: 0.0027 - val_mae: 0.0408\n",
      "Epoch 839/1000\n",
      "5/5 [==============================] - 1s 150ms/step - loss: 6.1932e-04 - mae: 0.0198 - val_loss: 0.0027 - val_mae: 0.0400\n",
      "Epoch 840/1000\n",
      "5/5 [==============================] - 1s 148ms/step - loss: 6.4288e-04 - mae: 0.0200 - val_loss: 0.0026 - val_mae: 0.0394\n",
      "Epoch 841/1000\n",
      "5/5 [==============================] - 1s 139ms/step - loss: 6.4362e-04 - mae: 0.0203 - val_loss: 0.0027 - val_mae: 0.0405\n",
      "Epoch 842/1000\n",
      "5/5 [==============================] - 1s 135ms/step - loss: 6.5262e-04 - mae: 0.0202 - val_loss: 0.0027 - val_mae: 0.0403\n",
      "Epoch 843/1000\n",
      "5/5 [==============================] - 1s 138ms/step - loss: 6.2726e-04 - mae: 0.0198 - val_loss: 0.0027 - val_mae: 0.0401\n",
      "Epoch 844/1000\n",
      "5/5 [==============================] - 1s 143ms/step - loss: 6.0887e-04 - mae: 0.0197 - val_loss: 0.0026 - val_mae: 0.0397\n",
      "Epoch 845/1000\n",
      "5/5 [==============================] - 1s 144ms/step - loss: 5.8793e-04 - mae: 0.0192 - val_loss: 0.0026 - val_mae: 0.0397\n",
      "Epoch 846/1000\n",
      "5/5 [==============================] - 1s 138ms/step - loss: 5.9973e-04 - mae: 0.0193 - val_loss: 0.0027 - val_mae: 0.0397\n",
      "Epoch 847/1000\n",
      "5/5 [==============================] - 1s 136ms/step - loss: 6.0825e-04 - mae: 0.0194 - val_loss: 0.0027 - val_mae: 0.0404\n",
      "Epoch 848/1000\n",
      "5/5 [==============================] - 1s 147ms/step - loss: 6.1027e-04 - mae: 0.0196 - val_loss: 0.0028 - val_mae: 0.0402\n",
      "Epoch 849/1000\n",
      "5/5 [==============================] - 1s 143ms/step - loss: 6.1358e-04 - mae: 0.0197 - val_loss: 0.0027 - val_mae: 0.0401\n",
      "Epoch 850/1000\n",
      "5/5 [==============================] - 1s 137ms/step - loss: 6.4212e-04 - mae: 0.0203 - val_loss: 0.0026 - val_mae: 0.0397\n",
      "Epoch 851/1000\n",
      "5/5 [==============================] - ETA: 0s - loss: 6.6935e-04 - mae: 0.0205INFO:tensorflow:Assets written to: C:\\Users\\PARK\\Documents\\LAB\\RNN vs LSTM\\FInal Example\\wandb\\run-20221015_185353-3s73nxty\\files\\model-best\\assets\n"
     ]
    },
    {
     "name": "stderr",
     "output_type": "stream",
     "text": [
      "\u001b[34m\u001b[1mwandb\u001b[0m: Adding directory to artifact (C:\\Users\\PARK\\Documents\\LAB\\RNN vs LSTM\\FInal Example\\wandb\\run-20221015_185353-3s73nxty\\files\\model-best)... Done. 0.0s\n"
     ]
    },
    {
     "name": "stdout",
     "output_type": "stream",
     "text": [
      "5/5 [==============================] - 2s 462ms/step - loss: 6.6935e-04 - mae: 0.0205 - val_loss: 0.0025 - val_mae: 0.0389\n",
      "Epoch 852/1000\n",
      "5/5 [==============================] - 1s 160ms/step - loss: 6.1785e-04 - mae: 0.0197 - val_loss: 0.0026 - val_mae: 0.0398\n",
      "Epoch 853/1000\n",
      "5/5 [==============================] - 1s 149ms/step - loss: 5.6907e-04 - mae: 0.0190 - val_loss: 0.0027 - val_mae: 0.0397\n",
      "Epoch 854/1000\n",
      "5/5 [==============================] - 1s 147ms/step - loss: 5.5942e-04 - mae: 0.0187 - val_loss: 0.0026 - val_mae: 0.0393\n",
      "Epoch 855/1000\n",
      "5/5 [==============================] - 1s 151ms/step - loss: 5.5283e-04 - mae: 0.0186 - val_loss: 0.0025 - val_mae: 0.0389\n",
      "Epoch 856/1000\n",
      "5/5 [==============================] - 1s 150ms/step - loss: 5.4051e-04 - mae: 0.0184 - val_loss: 0.0026 - val_mae: 0.0395\n",
      "Epoch 857/1000\n",
      "5/5 [==============================] - 1s 148ms/step - loss: 5.4706e-04 - mae: 0.0187 - val_loss: 0.0026 - val_mae: 0.0394\n",
      "Epoch 858/1000\n",
      "5/5 [==============================] - ETA: 0s - loss: 5.4042e-04 - mae: 0.0185INFO:tensorflow:Assets written to: C:\\Users\\PARK\\Documents\\LAB\\RNN vs LSTM\\FInal Example\\wandb\\run-20221015_185353-3s73nxty\\files\\model-best\\assets\n"
     ]
    },
    {
     "name": "stderr",
     "output_type": "stream",
     "text": [
      "\u001b[34m\u001b[1mwandb\u001b[0m: Adding directory to artifact (C:\\Users\\PARK\\Documents\\LAB\\RNN vs LSTM\\FInal Example\\wandb\\run-20221015_185353-3s73nxty\\files\\model-best)... Done. 0.0s\n"
     ]
    },
    {
     "name": "stdout",
     "output_type": "stream",
     "text": [
      "5/5 [==============================] - 2s 503ms/step - loss: 5.4042e-04 - mae: 0.0185 - val_loss: 0.0025 - val_mae: 0.0387\n",
      "Epoch 859/1000\n",
      "5/5 [==============================] - 1s 161ms/step - loss: 5.8642e-04 - mae: 0.0193 - val_loss: 0.0027 - val_mae: 0.0403\n",
      "Epoch 860/1000\n",
      "5/5 [==============================] - 1s 150ms/step - loss: 6.2946e-04 - mae: 0.0199 - val_loss: 0.0026 - val_mae: 0.0391\n",
      "Epoch 861/1000\n",
      "5/5 [==============================] - 1s 148ms/step - loss: 6.1160e-04 - mae: 0.0197 - val_loss: 0.0027 - val_mae: 0.0408\n",
      "Epoch 862/1000\n",
      "5/5 [==============================] - 1s 141ms/step - loss: 5.9182e-04 - mae: 0.0195 - val_loss: 0.0026 - val_mae: 0.0396\n",
      "Epoch 863/1000\n",
      "5/5 [==============================] - 1s 136ms/step - loss: 5.4058e-04 - mae: 0.0185 - val_loss: 0.0026 - val_mae: 0.0395\n",
      "Epoch 864/1000\n",
      "5/5 [==============================] - ETA: 0s - loss: 5.9476e-04 - mae: 0.0195INFO:tensorflow:Assets written to: C:\\Users\\PARK\\Documents\\LAB\\RNN vs LSTM\\FInal Example\\wandb\\run-20221015_185353-3s73nxty\\files\\model-best\\assets\n"
     ]
    },
    {
     "name": "stderr",
     "output_type": "stream",
     "text": [
      "\u001b[34m\u001b[1mwandb\u001b[0m: Adding directory to artifact (C:\\Users\\PARK\\Documents\\LAB\\RNN vs LSTM\\FInal Example\\wandb\\run-20221015_185353-3s73nxty\\files\\model-best)... Done. 0.0s\n"
     ]
    },
    {
     "name": "stdout",
     "output_type": "stream",
     "text": [
      "5/5 [==============================] - 2s 471ms/step - loss: 5.9476e-04 - mae: 0.0195 - val_loss: 0.0025 - val_mae: 0.0391\n",
      "Epoch 865/1000\n",
      "5/5 [==============================] - 1s 162ms/step - loss: 5.5656e-04 - mae: 0.0188 - val_loss: 0.0026 - val_mae: 0.0389\n",
      "Epoch 866/1000\n",
      "5/5 [==============================] - 1s 153ms/step - loss: 5.0972e-04 - mae: 0.0179 - val_loss: 0.0027 - val_mae: 0.0399\n",
      "Epoch 867/1000\n",
      "5/5 [==============================] - 1s 149ms/step - loss: 5.4817e-04 - mae: 0.0186 - val_loss: 0.0026 - val_mae: 0.0395\n",
      "Epoch 868/1000\n",
      "5/5 [==============================] - 1s 151ms/step - loss: 5.5962e-04 - mae: 0.0189 - val_loss: 0.0027 - val_mae: 0.0395\n",
      "Epoch 869/1000\n",
      "5/5 [==============================] - 1s 150ms/step - loss: 5.7134e-04 - mae: 0.0190 - val_loss: 0.0026 - val_mae: 0.0393\n",
      "Epoch 870/1000\n",
      "5/5 [==============================] - 1s 142ms/step - loss: 5.9611e-04 - mae: 0.0194 - val_loss: 0.0026 - val_mae: 0.0395\n",
      "Epoch 871/1000\n",
      "5/5 [==============================] - 1s 135ms/step - loss: 6.0153e-04 - mae: 0.0197 - val_loss: 0.0027 - val_mae: 0.0401\n",
      "Epoch 872/1000\n",
      "5/5 [==============================] - 1s 139ms/step - loss: 5.7774e-04 - mae: 0.0192 - val_loss: 0.0029 - val_mae: 0.0425\n",
      "Epoch 873/1000\n",
      "5/5 [==============================] - 1s 152ms/step - loss: 7.0347e-04 - mae: 0.0211 - val_loss: 0.0025 - val_mae: 0.0392\n",
      "Epoch 874/1000\n",
      "5/5 [==============================] - 1s 150ms/step - loss: 5.8661e-04 - mae: 0.0193 - val_loss: 0.0027 - val_mae: 0.0399\n",
      "Epoch 875/1000\n",
      "5/5 [==============================] - 1s 147ms/step - loss: 5.6739e-04 - mae: 0.0187 - val_loss: 0.0025 - val_mae: 0.0389\n",
      "Epoch 876/1000\n",
      "5/5 [==============================] - 1s 136ms/step - loss: 5.4223e-04 - mae: 0.0184 - val_loss: 0.0027 - val_mae: 0.0405\n",
      "Epoch 877/1000\n",
      "5/5 [==============================] - 1s 137ms/step - loss: 5.8935e-04 - mae: 0.0191 - val_loss: 0.0028 - val_mae: 0.0406\n",
      "Epoch 878/1000\n",
      "5/5 [==============================] - 1s 143ms/step - loss: 7.1956e-04 - mae: 0.0212 - val_loss: 0.0028 - val_mae: 0.0408\n",
      "Epoch 879/1000\n",
      "5/5 [==============================] - 1s 148ms/step - loss: 6.8629e-04 - mae: 0.0208 - val_loss: 0.0027 - val_mae: 0.0405\n",
      "Epoch 880/1000\n",
      "5/5 [==============================] - 1s 148ms/step - loss: 7.2638e-04 - mae: 0.0216 - val_loss: 0.0026 - val_mae: 0.0404\n",
      "Epoch 881/1000\n",
      "5/5 [==============================] - 1s 148ms/step - loss: 6.9221e-04 - mae: 0.0208 - val_loss: 0.0028 - val_mae: 0.0410\n",
      "Epoch 882/1000\n",
      "5/5 [==============================] - 1s 151ms/step - loss: 6.5294e-04 - mae: 0.0202 - val_loss: 0.0027 - val_mae: 0.0408\n",
      "Epoch 883/1000\n",
      "5/5 [==============================] - 1s 141ms/step - loss: 6.3128e-04 - mae: 0.0199 - val_loss: 0.0027 - val_mae: 0.0406\n",
      "Epoch 884/1000\n",
      "5/5 [==============================] - 1s 133ms/step - loss: 6.4097e-04 - mae: 0.0201 - val_loss: 0.0027 - val_mae: 0.0401\n",
      "Epoch 885/1000\n",
      "5/5 [==============================] - 1s 137ms/step - loss: 7.0032e-04 - mae: 0.0210 - val_loss: 0.0026 - val_mae: 0.0401\n",
      "Epoch 886/1000\n",
      "5/5 [==============================] - 1s 140ms/step - loss: 5.6605e-04 - mae: 0.0189 - val_loss: 0.0025 - val_mae: 0.0386\n",
      "Epoch 887/1000\n",
      "5/5 [==============================] - 1s 144ms/step - loss: 5.7222e-04 - mae: 0.0190 - val_loss: 0.0026 - val_mae: 0.0400\n",
      "Epoch 888/1000\n",
      "5/5 [==============================] - 1s 139ms/step - loss: 5.7695e-04 - mae: 0.0189 - val_loss: 0.0028 - val_mae: 0.0405\n",
      "Epoch 889/1000\n",
      "5/5 [==============================] - 1s 136ms/step - loss: 6.0219e-04 - mae: 0.0196 - val_loss: 0.0027 - val_mae: 0.0401\n",
      "Epoch 890/1000\n",
      "5/5 [==============================] - 1s 149ms/step - loss: 5.7754e-04 - mae: 0.0191 - val_loss: 0.0025 - val_mae: 0.0387\n",
      "Epoch 891/1000\n",
      "5/5 [==============================] - 1s 151ms/step - loss: 5.8628e-04 - mae: 0.0192 - val_loss: 0.0027 - val_mae: 0.0400\n",
      "Epoch 892/1000\n",
      "5/5 [==============================] - 1s 141ms/step - loss: 6.2858e-04 - mae: 0.0199 - val_loss: 0.0026 - val_mae: 0.0395\n",
      "Epoch 893/1000\n",
      "5/5 [==============================] - ETA: 0s - loss: 5.7909e-04 - mae: 0.0191INFO:tensorflow:Assets written to: C:\\Users\\PARK\\Documents\\LAB\\RNN vs LSTM\\FInal Example\\wandb\\run-20221015_185353-3s73nxty\\files\\model-best\\assets\n"
     ]
    },
    {
     "name": "stderr",
     "output_type": "stream",
     "text": [
      "\u001b[34m\u001b[1mwandb\u001b[0m: Adding directory to artifact (C:\\Users\\PARK\\Documents\\LAB\\RNN vs LSTM\\FInal Example\\wandb\\run-20221015_185353-3s73nxty\\files\\model-best)... Done. 0.0s\n"
     ]
    },
    {
     "name": "stdout",
     "output_type": "stream",
     "text": [
      "5/5 [==============================] - 2s 464ms/step - loss: 5.7909e-04 - mae: 0.0191 - val_loss: 0.0025 - val_mae: 0.0386\n",
      "Epoch 894/1000\n",
      "5/5 [==============================] - 1s 157ms/step - loss: 5.7611e-04 - mae: 0.0191 - val_loss: 0.0026 - val_mae: 0.0393\n",
      "Epoch 895/1000\n",
      "5/5 [==============================] - 1s 150ms/step - loss: 5.7163e-04 - mae: 0.0190 - val_loss: 0.0025 - val_mae: 0.0389\n",
      "Epoch 896/1000\n",
      "5/5 [==============================] - 1s 149ms/step - loss: 6.1600e-04 - mae: 0.0199 - val_loss: 0.0028 - val_mae: 0.0415\n",
      "Epoch 897/1000\n",
      "5/5 [==============================] - 1s 143ms/step - loss: 7.1384e-04 - mae: 0.0212 - val_loss: 0.0028 - val_mae: 0.0407\n",
      "Epoch 898/1000\n",
      "5/5 [==============================] - 1s 135ms/step - loss: 6.5811e-04 - mae: 0.0204 - val_loss: 0.0027 - val_mae: 0.0402\n",
      "Epoch 899/1000\n",
      "5/5 [==============================] - 1s 133ms/step - loss: 6.6527e-04 - mae: 0.0205 - val_loss: 0.0027 - val_mae: 0.0404\n",
      "Epoch 900/1000\n",
      "5/5 [==============================] - 1s 141ms/step - loss: 6.4642e-04 - mae: 0.0201 - val_loss: 0.0027 - val_mae: 0.0395\n",
      "Epoch 901/1000\n",
      "5/5 [==============================] - 1s 149ms/step - loss: 6.0037e-04 - mae: 0.0196 - val_loss: 0.0026 - val_mae: 0.0395\n",
      "Epoch 902/1000\n",
      "5/5 [==============================] - 1s 139ms/step - loss: 5.6815e-04 - mae: 0.0191 - val_loss: 0.0027 - val_mae: 0.0397\n",
      "Epoch 903/1000\n",
      "5/5 [==============================] - 1s 137ms/step - loss: 6.0738e-04 - mae: 0.0197 - val_loss: 0.0026 - val_mae: 0.0401\n",
      "Epoch 904/1000\n",
      "5/5 [==============================] - 1s 137ms/step - loss: 6.9124e-04 - mae: 0.0208 - val_loss: 0.0027 - val_mae: 0.0402\n",
      "Epoch 905/1000\n",
      "5/5 [==============================] - 1s 146ms/step - loss: 7.4886e-04 - mae: 0.0218 - val_loss: 0.0027 - val_mae: 0.0407\n",
      "Epoch 906/1000\n",
      "5/5 [==============================] - 1s 149ms/step - loss: 6.9267e-04 - mae: 0.0209 - val_loss: 0.0029 - val_mae: 0.0414\n",
      "Epoch 907/1000\n",
      "5/5 [==============================] - 1s 143ms/step - loss: 6.6374e-04 - mae: 0.0205 - val_loss: 0.0025 - val_mae: 0.0393\n",
      "Epoch 908/1000\n",
      "5/5 [==============================] - 1s 136ms/step - loss: 5.1760e-04 - mae: 0.0179 - val_loss: 0.0026 - val_mae: 0.0389\n",
      "Epoch 909/1000\n",
      "5/5 [==============================] - 1s 135ms/step - loss: 5.3507e-04 - mae: 0.0185 - val_loss: 0.0028 - val_mae: 0.0410\n",
      "Epoch 910/1000\n",
      "5/5 [==============================] - 1s 143ms/step - loss: 5.8158e-04 - mae: 0.0191 - val_loss: 0.0027 - val_mae: 0.0403\n",
      "Epoch 911/1000\n",
      "5/5 [==============================] - 1s 149ms/step - loss: 5.2537e-04 - mae: 0.0183 - val_loss: 0.0027 - val_mae: 0.0405\n",
      "Epoch 912/1000\n",
      "5/5 [==============================] - 1s 141ms/step - loss: 5.4866e-04 - mae: 0.0186 - val_loss: 0.0026 - val_mae: 0.0400\n",
      "Epoch 913/1000\n",
      "5/5 [==============================] - 1s 136ms/step - loss: 5.4181e-04 - mae: 0.0187 - val_loss: 0.0027 - val_mae: 0.0400\n",
      "Epoch 914/1000\n",
      "5/5 [==============================] - 1s 137ms/step - loss: 5.7647e-04 - mae: 0.0192 - val_loss: 0.0029 - val_mae: 0.0413\n",
      "Epoch 915/1000\n",
      "5/5 [==============================] - 1s 148ms/step - loss: 7.4479e-04 - mae: 0.0216 - val_loss: 0.0029 - val_mae: 0.0420\n",
      "Epoch 916/1000\n",
      "5/5 [==============================] - 1s 149ms/step - loss: 7.3630e-04 - mae: 0.0216 - val_loss: 0.0027 - val_mae: 0.0409\n",
      "Epoch 917/1000\n",
      "5/5 [==============================] - 1s 149ms/step - loss: 6.9566e-04 - mae: 0.0209 - val_loss: 0.0027 - val_mae: 0.0401\n",
      "Epoch 918/1000\n",
      "5/5 [==============================] - 1s 151ms/step - loss: 6.5989e-04 - mae: 0.0204 - val_loss: 0.0027 - val_mae: 0.0403\n",
      "Epoch 919/1000\n",
      "5/5 [==============================] - 1s 149ms/step - loss: 6.6816e-04 - mae: 0.0206 - val_loss: 0.0028 - val_mae: 0.0414\n",
      "Epoch 920/1000\n",
      "5/5 [==============================] - 1s 141ms/step - loss: 7.4830e-04 - mae: 0.0217 - val_loss: 0.0028 - val_mae: 0.0410\n",
      "Epoch 921/1000\n",
      "5/5 [==============================] - 1s 139ms/step - loss: 7.2149e-04 - mae: 0.0213 - val_loss: 0.0029 - val_mae: 0.0415\n",
      "Epoch 922/1000\n",
      "5/5 [==============================] - 1s 137ms/step - loss: 7.1606e-04 - mae: 0.0213 - val_loss: 0.0028 - val_mae: 0.0409\n",
      "Epoch 923/1000\n",
      "5/5 [==============================] - 1s 144ms/step - loss: 6.6774e-04 - mae: 0.0206 - val_loss: 0.0026 - val_mae: 0.0400\n",
      "Epoch 924/1000\n",
      "5/5 [==============================] - 1s 141ms/step - loss: 5.9011e-04 - mae: 0.0194 - val_loss: 0.0029 - val_mae: 0.0414\n",
      "Epoch 925/1000\n",
      "5/5 [==============================] - 1s 137ms/step - loss: 6.6326e-04 - mae: 0.0204 - val_loss: 0.0026 - val_mae: 0.0403\n",
      "Epoch 926/1000\n",
      "5/5 [==============================] - 1s 136ms/step - loss: 5.9051e-04 - mae: 0.0195 - val_loss: 0.0026 - val_mae: 0.0395\n",
      "Epoch 927/1000\n",
      "5/5 [==============================] - 1s 145ms/step - loss: 5.4495e-04 - mae: 0.0184 - val_loss: 0.0026 - val_mae: 0.0399\n",
      "Epoch 928/1000\n",
      "5/5 [==============================] - 1s 149ms/step - loss: 5.3222e-04 - mae: 0.0183 - val_loss: 0.0027 - val_mae: 0.0403\n",
      "Epoch 929/1000\n",
      "5/5 [==============================] - 1s 151ms/step - loss: 7.0116e-04 - mae: 0.0211 - val_loss: 0.0028 - val_mae: 0.0403\n",
      "Epoch 930/1000\n",
      "5/5 [==============================] - 1s 142ms/step - loss: 6.9080e-04 - mae: 0.0208 - val_loss: 0.0026 - val_mae: 0.0398\n",
      "Epoch 931/1000\n",
      "5/5 [==============================] - 1s 136ms/step - loss: 6.7732e-04 - mae: 0.0206 - val_loss: 0.0028 - val_mae: 0.0406\n",
      "Epoch 932/1000\n",
      "5/5 [==============================] - 1s 135ms/step - loss: 6.7615e-04 - mae: 0.0205 - val_loss: 0.0026 - val_mae: 0.0393\n",
      "Epoch 933/1000\n",
      "5/5 [==============================] - 1s 152ms/step - loss: 6.0442e-04 - mae: 0.0196 - val_loss: 0.0027 - val_mae: 0.0408\n",
      "Epoch 934/1000\n",
      "5/5 [==============================] - 1s 147ms/step - loss: 6.4039e-04 - mae: 0.0201 - val_loss: 0.0028 - val_mae: 0.0401\n",
      "Epoch 935/1000\n",
      "5/5 [==============================] - 1s 142ms/step - loss: 6.6314e-04 - mae: 0.0206 - val_loss: 0.0028 - val_mae: 0.0418\n",
      "Epoch 936/1000\n",
      "5/5 [==============================] - 1s 136ms/step - loss: 7.8317e-04 - mae: 0.0224 - val_loss: 0.0027 - val_mae: 0.0405\n",
      "Epoch 937/1000\n",
      "5/5 [==============================] - 1s 143ms/step - loss: 7.0741e-04 - mae: 0.0211 - val_loss: 0.0028 - val_mae: 0.0404\n",
      "Epoch 938/1000\n",
      "5/5 [==============================] - 1s 142ms/step - loss: 6.7836e-04 - mae: 0.0207 - val_loss: 0.0025 - val_mae: 0.0395\n",
      "Epoch 939/1000\n",
      "5/5 [==============================] - 1s 136ms/step - loss: 5.8936e-04 - mae: 0.0195 - val_loss: 0.0027 - val_mae: 0.0403\n",
      "Epoch 940/1000\n",
      "5/5 [==============================] - 1s 133ms/step - loss: 5.7480e-04 - mae: 0.0191 - val_loss: 0.0027 - val_mae: 0.0394\n",
      "Epoch 941/1000\n",
      "5/5 [==============================] - 1s 145ms/step - loss: 5.6175e-04 - mae: 0.0190 - val_loss: 0.0027 - val_mae: 0.0400\n",
      "Epoch 942/1000\n",
      "5/5 [==============================] - 1s 150ms/step - loss: 5.3459e-04 - mae: 0.0184 - val_loss: 0.0025 - val_mae: 0.0391\n",
      "Epoch 943/1000\n",
      "5/5 [==============================] - 1s 146ms/step - loss: 5.1456e-04 - mae: 0.0181 - val_loss: 0.0026 - val_mae: 0.0396\n",
      "Epoch 944/1000\n",
      "5/5 [==============================] - ETA: 0s - loss: 5.1110e-04 - mae: 0.0179INFO:tensorflow:Assets written to: C:\\Users\\PARK\\Documents\\LAB\\RNN vs LSTM\\FInal Example\\wandb\\run-20221015_185353-3s73nxty\\files\\model-best\\assets\n"
     ]
    },
    {
     "name": "stderr",
     "output_type": "stream",
     "text": [
      "\u001b[34m\u001b[1mwandb\u001b[0m: Adding directory to artifact (C:\\Users\\PARK\\Documents\\LAB\\RNN vs LSTM\\FInal Example\\wandb\\run-20221015_185353-3s73nxty\\files\\model-best)... Done. 0.0s\n"
     ]
    },
    {
     "name": "stdout",
     "output_type": "stream",
     "text": [
      "5/5 [==============================] - 2s 507ms/step - loss: 5.1110e-04 - mae: 0.0179 - val_loss: 0.0024 - val_mae: 0.0380\n",
      "Epoch 945/1000\n",
      "5/5 [==============================] - 1s 159ms/step - loss: 4.7443e-04 - mae: 0.0173 - val_loss: 0.0025 - val_mae: 0.0385\n",
      "Epoch 946/1000\n",
      "5/5 [==============================] - 1s 152ms/step - loss: 4.7753e-04 - mae: 0.0173 - val_loss: 0.0025 - val_mae: 0.0388\n",
      "Epoch 947/1000\n",
      "5/5 [==============================] - 1s 139ms/step - loss: 4.7252e-04 - mae: 0.0173 - val_loss: 0.0025 - val_mae: 0.0387\n",
      "Epoch 948/1000\n",
      "5/5 [==============================] - 1s 133ms/step - loss: 4.6422e-04 - mae: 0.0171 - val_loss: 0.0024 - val_mae: 0.0378\n",
      "Epoch 949/1000\n",
      "5/5 [==============================] - 1s 135ms/step - loss: 4.3920e-04 - mae: 0.0166 - val_loss: 0.0025 - val_mae: 0.0384\n",
      "Epoch 950/1000\n",
      "5/5 [==============================] - 1s 142ms/step - loss: 4.4970e-04 - mae: 0.0168 - val_loss: 0.0025 - val_mae: 0.0390\n",
      "Epoch 951/1000\n",
      "5/5 [==============================] - 1s 140ms/step - loss: 4.9028e-04 - mae: 0.0176 - val_loss: 0.0024 - val_mae: 0.0384\n",
      "Epoch 952/1000\n",
      "5/5 [==============================] - 1s 135ms/step - loss: 5.4003e-04 - mae: 0.0185 - val_loss: 0.0027 - val_mae: 0.0403\n",
      "Epoch 953/1000\n",
      "5/5 [==============================] - 1s 137ms/step - loss: 5.8478e-04 - mae: 0.0193 - val_loss: 0.0027 - val_mae: 0.0397\n",
      "Epoch 954/1000\n",
      "5/5 [==============================] - 1s 147ms/step - loss: 5.5113e-04 - mae: 0.0186 - val_loss: 0.0028 - val_mae: 0.0420\n",
      "Epoch 955/1000\n",
      "5/5 [==============================] - 1s 150ms/step - loss: 6.4826e-04 - mae: 0.0204 - val_loss: 0.0031 - val_mae: 0.0432\n",
      "Epoch 956/1000\n",
      "5/5 [==============================] - 1s 152ms/step - loss: 7.9512e-04 - mae: 0.0225 - val_loss: 0.0028 - val_mae: 0.0409\n",
      "Epoch 957/1000\n",
      "5/5 [==============================] - 1s 142ms/step - loss: 6.4487e-04 - mae: 0.0203 - val_loss: 0.0026 - val_mae: 0.0391\n",
      "Epoch 958/1000\n",
      "5/5 [==============================] - 1s 137ms/step - loss: 5.5476e-04 - mae: 0.0188 - val_loss: 0.0026 - val_mae: 0.0392\n",
      "Epoch 959/1000\n",
      "5/5 [==============================] - 1s 136ms/step - loss: 5.2804e-04 - mae: 0.0184 - val_loss: 0.0026 - val_mae: 0.0394\n",
      "Epoch 960/1000\n",
      "5/5 [==============================] - 1s 147ms/step - loss: 5.2040e-04 - mae: 0.0180 - val_loss: 0.0026 - val_mae: 0.0398\n",
      "Epoch 961/1000\n",
      "5/5 [==============================] - 1s 150ms/step - loss: 5.7556e-04 - mae: 0.0190 - val_loss: 0.0026 - val_mae: 0.0395\n",
      "Epoch 962/1000\n",
      "5/5 [==============================] - 1s 149ms/step - loss: 5.9917e-04 - mae: 0.0195 - val_loss: 0.0024 - val_mae: 0.0379\n",
      "Epoch 963/1000\n",
      "5/5 [==============================] - 1s 141ms/step - loss: 5.2923e-04 - mae: 0.0183 - val_loss: 0.0026 - val_mae: 0.0388\n",
      "Epoch 964/1000\n",
      "5/5 [==============================] - 1s 139ms/step - loss: 4.9011e-04 - mae: 0.0177 - val_loss: 0.0024 - val_mae: 0.0381\n",
      "Epoch 965/1000\n",
      "5/5 [==============================] - ETA: 0s - loss: 4.6852e-04 - mae: 0.0172INFO:tensorflow:Assets written to: C:\\Users\\PARK\\Documents\\LAB\\RNN vs LSTM\\FInal Example\\wandb\\run-20221015_185353-3s73nxty\\files\\model-best\\assets\n"
     ]
    },
    {
     "name": "stderr",
     "output_type": "stream",
     "text": [
      "\u001b[34m\u001b[1mwandb\u001b[0m: Adding directory to artifact (C:\\Users\\PARK\\Documents\\LAB\\RNN vs LSTM\\FInal Example\\wandb\\run-20221015_185353-3s73nxty\\files\\model-best)... Done. 0.0s\n"
     ]
    },
    {
     "name": "stdout",
     "output_type": "stream",
     "text": [
      "5/5 [==============================] - 2s 470ms/step - loss: 4.6852e-04 - mae: 0.0172 - val_loss: 0.0024 - val_mae: 0.0378\n",
      "Epoch 966/1000\n",
      "5/5 [==============================] - 1s 163ms/step - loss: 4.8167e-04 - mae: 0.0175 - val_loss: 0.0025 - val_mae: 0.0383\n",
      "Epoch 967/1000\n",
      "5/5 [==============================] - 1s 154ms/step - loss: 4.7135e-04 - mae: 0.0171 - val_loss: 0.0027 - val_mae: 0.0401\n",
      "Epoch 968/1000\n",
      "5/5 [==============================] - 1s 149ms/step - loss: 5.1868e-04 - mae: 0.0182 - val_loss: 0.0025 - val_mae: 0.0390\n",
      "Epoch 969/1000\n",
      "5/5 [==============================] - 1s 140ms/step - loss: 4.8799e-04 - mae: 0.0177 - val_loss: 0.0025 - val_mae: 0.0384\n",
      "Epoch 970/1000\n",
      "5/5 [==============================] - 1s 136ms/step - loss: 4.6284e-04 - mae: 0.0172 - val_loss: 0.0025 - val_mae: 0.0395\n",
      "Epoch 971/1000\n",
      "5/5 [==============================] - 1s 135ms/step - loss: 5.1320e-04 - mae: 0.0181 - val_loss: 0.0025 - val_mae: 0.0385\n",
      "Epoch 972/1000\n",
      "5/5 [==============================] - 1s 146ms/step - loss: 4.3143e-04 - mae: 0.0165 - val_loss: 0.0025 - val_mae: 0.0384\n",
      "Epoch 973/1000\n",
      "5/5 [==============================] - 1s 150ms/step - loss: 4.4016e-04 - mae: 0.0168 - val_loss: 0.0025 - val_mae: 0.0385\n",
      "Epoch 974/1000\n",
      "5/5 [==============================] - 1s 148ms/step - loss: 4.3776e-04 - mae: 0.0167 - val_loss: 0.0025 - val_mae: 0.0384\n",
      "Epoch 975/1000\n",
      "5/5 [==============================] - 1s 142ms/step - loss: 4.8470e-04 - mae: 0.0176 - val_loss: 0.0027 - val_mae: 0.0407\n",
      "Epoch 976/1000\n",
      "5/5 [==============================] - 1s 134ms/step - loss: 5.6213e-04 - mae: 0.0190 - val_loss: 0.0025 - val_mae: 0.0384\n",
      "Epoch 977/1000\n",
      "5/5 [==============================] - 1s 134ms/step - loss: 5.0277e-04 - mae: 0.0178 - val_loss: 0.0025 - val_mae: 0.0385\n",
      "Epoch 978/1000\n",
      "5/5 [==============================] - 1s 146ms/step - loss: 4.9939e-04 - mae: 0.0179 - val_loss: 0.0026 - val_mae: 0.0396\n",
      "Epoch 979/1000\n",
      "5/5 [==============================] - 1s 145ms/step - loss: 6.0306e-04 - mae: 0.0195 - val_loss: 0.0027 - val_mae: 0.0403\n",
      "Epoch 980/1000\n",
      "5/5 [==============================] - 1s 143ms/step - loss: 8.2092e-04 - mae: 0.0228 - val_loss: 0.0027 - val_mae: 0.0402\n",
      "Epoch 981/1000\n",
      "5/5 [==============================] - 1s 138ms/step - loss: 7.1205e-04 - mae: 0.0211 - val_loss: 0.0029 - val_mae: 0.0427\n",
      "Epoch 982/1000\n",
      "5/5 [==============================] - 1s 135ms/step - loss: 7.9986e-04 - mae: 0.0226 - val_loss: 0.0029 - val_mae: 0.0422\n",
      "Epoch 983/1000\n",
      "5/5 [==============================] - 1s 148ms/step - loss: 7.7900e-04 - mae: 0.0224 - val_loss: 0.0027 - val_mae: 0.0398\n",
      "Epoch 984/1000\n",
      "5/5 [==============================] - 1s 149ms/step - loss: 7.2812e-04 - mae: 0.0215 - val_loss: 0.0029 - val_mae: 0.0414\n",
      "Epoch 985/1000\n",
      "5/5 [==============================] - 1s 139ms/step - loss: 8.8596e-04 - mae: 0.0236 - val_loss: 0.0033 - val_mae: 0.0447\n",
      "Epoch 986/1000\n",
      "5/5 [==============================] - 1s 135ms/step - loss: 9.5773e-04 - mae: 0.0247 - val_loss: 0.0028 - val_mae: 0.0417\n",
      "Epoch 987/1000\n",
      "5/5 [==============================] - 1s 134ms/step - loss: 8.4908e-04 - mae: 0.0233 - val_loss: 0.0029 - val_mae: 0.0422\n",
      "Epoch 988/1000\n",
      "5/5 [==============================] - 1s 141ms/step - loss: 9.1725e-04 - mae: 0.0238 - val_loss: 0.0025 - val_mae: 0.0390\n",
      "Epoch 989/1000\n",
      "5/5 [==============================] - 1s 142ms/step - loss: 6.7079e-04 - mae: 0.0206 - val_loss: 0.0031 - val_mae: 0.0426\n",
      "Epoch 990/1000\n",
      "5/5 [==============================] - 1s 134ms/step - loss: 9.1796e-04 - mae: 0.0240 - val_loss: 0.0028 - val_mae: 0.0409\n",
      "Epoch 991/1000\n",
      "5/5 [==============================] - 1s 136ms/step - loss: 9.7874e-04 - mae: 0.0247 - val_loss: 0.0029 - val_mae: 0.0418\n",
      "Epoch 992/1000\n",
      "5/5 [==============================] - 1s 141ms/step - loss: 0.0011 - mae: 0.0262 - val_loss: 0.0029 - val_mae: 0.0425\n",
      "Epoch 993/1000\n",
      "5/5 [==============================] - 1s 152ms/step - loss: 9.9948e-04 - mae: 0.0249 - val_loss: 0.0030 - val_mae: 0.0430\n",
      "Epoch 994/1000\n",
      "5/5 [==============================] - 1s 150ms/step - loss: 9.6215e-04 - mae: 0.0247 - val_loss: 0.0030 - val_mae: 0.0430\n",
      "Epoch 995/1000\n",
      "5/5 [==============================] - 1s 148ms/step - loss: 7.7989e-04 - mae: 0.0222 - val_loss: 0.0028 - val_mae: 0.0421\n",
      "Epoch 996/1000\n",
      "5/5 [==============================] - 1s 139ms/step - loss: 8.1731e-04 - mae: 0.0229 - val_loss: 0.0030 - val_mae: 0.0425\n",
      "Epoch 997/1000\n",
      "5/5 [==============================] - 1s 138ms/step - loss: 7.8874e-04 - mae: 0.0224 - val_loss: 0.0027 - val_mae: 0.0404\n",
      "Epoch 998/1000\n",
      "5/5 [==============================] - 1s 135ms/step - loss: 7.9371e-04 - mae: 0.0224 - val_loss: 0.0028 - val_mae: 0.0406\n",
      "Epoch 999/1000\n",
      "5/5 [==============================] - 1s 141ms/step - loss: 7.3893e-04 - mae: 0.0217 - val_loss: 0.0031 - val_mae: 0.0444\n",
      "Epoch 1000/1000\n",
      "5/5 [==============================] - 1s 148ms/step - loss: 8.8491e-04 - mae: 0.0236 - val_loss: 0.0029 - val_mae: 0.0415\n"
     ]
    }
   ],
   "source": [
    "from tensorflow.keras import datasets, layers, models\n",
    "from tensorflow import keras\n",
    "from tensorflow.keras import layers\n",
    "\n",
    "model = models.Sequential()\n",
    "model.add(layers.SimpleRNN(128, input_shape=(time_step,2)))\n",
    "model.add(layers.Dense(25))\n",
    "\n",
    "model.summary()\n",
    "\n",
    "model.compile(optimizer='adam', loss='mse', metrics=['mae'])\n",
    "\n",
    "history = model.fit(train_input, train_label, epochs=1000, verbose=1, shuffle=True, validation_split=0.20,\n",
    "                   callbacks=[WandbCallback(log_weights=True, log_gradients=True, training_data=(train_input, train_label))])"
   ]
  },
  {
   "cell_type": "code",
   "execution_count": 17,
   "id": "f2977e3d",
   "metadata": {},
   "outputs": [
    {
     "name": "stdout",
     "output_type": "stream",
     "text": [
      "1/1 [==============================] - 0s 88ms/step\n"
     ]
    }
   ],
   "source": [
    "test_input = test_input.reshape(1, test_input.shape[0], test_input.shape[1])\n",
    "\n",
    "y_hat = model.predict(test_input)"
   ]
  },
  {
   "cell_type": "code",
   "execution_count": 18,
   "id": "569d2b27",
   "metadata": {},
   "outputs": [
    {
     "data": {
      "text/plain": [
       "(1, 100, 2)"
      ]
     },
     "execution_count": 18,
     "metadata": {},
     "output_type": "execute_result"
    }
   ],
   "source": [
    "test_input.shape"
   ]
  },
  {
   "cell_type": "code",
   "execution_count": 19,
   "id": "6b083de8",
   "metadata": {},
   "outputs": [],
   "source": [
    "test_label = test_label.reshape(1, test_label.shape[0], test_label.shape[1])"
   ]
  },
  {
   "cell_type": "code",
   "execution_count": 20,
   "id": "54e7a073",
   "metadata": {},
   "outputs": [
    {
     "data": {
      "text/plain": [
       "(1, 25, 1)"
      ]
     },
     "execution_count": 20,
     "metadata": {},
     "output_type": "execute_result"
    }
   ],
   "source": [
    "test_label.shape"
   ]
  },
  {
   "cell_type": "code",
   "execution_count": 21,
   "id": "b3e0c133",
   "metadata": {},
   "outputs": [
    {
     "data": {
      "text/plain": [
       "array([[1.3211344, 1.5647146, 1.5610341, 1.6729957, 1.8906159, 1.9720584,\n",
       "        1.5755944, 2.0012138, 1.6532648, 1.876707 , 2.038069 , 2.216309 ,\n",
       "        1.2747737, 1.6562833, 1.7746476, 1.9053628, 2.116838 , 2.2365203,\n",
       "        1.8734837, 2.1862845, 1.7589576, 2.136581 , 2.0415916, 2.3198154,\n",
       "        1.824677 ]], dtype=float32)"
      ]
     },
     "execution_count": 21,
     "metadata": {},
     "output_type": "execute_result"
    }
   ],
   "source": [
    "y_hat"
   ]
  },
  {
   "cell_type": "code",
   "execution_count": 22,
   "id": "e37311d1",
   "metadata": {},
   "outputs": [
    {
     "data": {
      "text/plain": [
       "(1, 25)"
      ]
     },
     "execution_count": 22,
     "metadata": {},
     "output_type": "execute_result"
    }
   ],
   "source": [
    "y_hat.shape"
   ]
  },
  {
   "cell_type": "code",
   "execution_count": 23,
   "id": "ad0f0285",
   "metadata": {},
   "outputs": [],
   "source": [
    "y_hat = y_hat.reshape(y_hat.shape[1], 1)"
   ]
  },
  {
   "cell_type": "code",
   "execution_count": 24,
   "id": "69ea1f6f",
   "metadata": {},
   "outputs": [],
   "source": [
    "y_hat = (y_hat*data_std)+data_mean"
   ]
  },
  {
   "cell_type": "code",
   "execution_count": 25,
   "id": "702f2214",
   "metadata": {},
   "outputs": [],
   "source": [
    "#print(scaler.data_max_)"
   ]
  },
  {
   "cell_type": "code",
   "execution_count": 26,
   "id": "1ca1a387",
   "metadata": {},
   "outputs": [],
   "source": [
    "#print(scaler.data_min_)"
   ]
  },
  {
   "cell_type": "code",
   "execution_count": 27,
   "id": "5e40982b",
   "metadata": {},
   "outputs": [],
   "source": [
    "#y_hat = y_hat * (scaler.data_max_[1]-scaler.data_min_[1]) + scaler.data_min_[1]"
   ]
  },
  {
   "cell_type": "code",
   "execution_count": 28,
   "id": "902bb0d7",
   "metadata": {},
   "outputs": [
    {
     "data": {
      "text/plain": [
       "Text(0.5, 1.0, 'RNN prediction')"
      ]
     },
     "execution_count": 28,
     "metadata": {},
     "output_type": "execute_result"
    },
    {
     "data": {
      "image/png": "[encoded data removed]",
      "text/plain": [
       "<Figure size 1008x576 with 1 Axes>"
      ]
     },
     "metadata": {
      "needs_background": "light"
     },
     "output_type": "display_data"
    }
   ],
   "source": [
    "import matplotlib.pyplot as plt\n",
    "\n",
    "x = range(325)\n",
    "plt.figure(figsize=(14,8))\n",
    "plt.plot(df[300:325]['Sales'], label='original')\n",
    "plt.plot(x[300:325], y_hat, label='prediction')\n",
    "plt.legend()\n",
    "plt.xlabel('Sequence', fontsize=20)\n",
    "plt.ylabel('Sales', fontsize=20)\n",
    "plt.title('RNN prediction', fontsize=25)"
   ]
  },
  {
   "cell_type": "code",
   "execution_count": 29,
   "id": "051887d3",
   "metadata": {
    "scrolled": true
   },
   "outputs": [
    {
     "name": "stdout",
     "output_type": "stream",
     "text": [
      "1/1 [==============================] - 0s 23ms/step - loss: 0.0423 - mae: 0.1768\n"
     ]
    },
    {
     "data": {
      "text/plain": [
       "[0.042297448962926865, 0.17683616280555725]"
      ]
     },
     "execution_count": 29,
     "metadata": {},
     "output_type": "execute_result"
    }
   ],
   "source": [
    "model.evaluate(test_input, test_label)"
   ]
  },
  {
   "cell_type": "code",
   "execution_count": null,
   "id": "2819448e",
   "metadata": {},
   "outputs": [],
   "source": []
  }
 ],
 "metadata": {
  "kernelspec": {
   "display_name": "Python 3 (ipykernel)",
   "language": "python",
   "name": "python3"
  },
  "language_info": {
   "codemirror_mode": {
    "name": "ipython",
    "version": 3
   },
   "file_extension": ".py",
   "mimetype": "text/x-python",
   "name": "python",
   "nbconvert_exporter": "python",
   "pygments_lexer": "ipython3",
   "version": "3.9.12"
  }
 },
 "nbformat": 4,
 "nbformat_minor": 5
}
