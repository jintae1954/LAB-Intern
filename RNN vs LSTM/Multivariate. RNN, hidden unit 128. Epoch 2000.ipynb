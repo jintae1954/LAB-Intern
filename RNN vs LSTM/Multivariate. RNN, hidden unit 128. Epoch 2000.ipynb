{
 "cells": [
  {
   "cell_type": "code",
   "execution_count": 1,
   "id": "27cc9f88",
   "metadata": {},
   "outputs": [
    {
     "name": "stderr",
     "output_type": "stream",
     "text": [
      "\u001b[34m\u001b[1mwandb\u001b[0m: Currently logged in as: \u001b[33mjintae\u001b[0m. Use \u001b[1m`wandb login --relogin`\u001b[0m to force relogin\n"
     ]
    },
    {
     "data": {
      "text/html": [
       "Tracking run with wandb version 0.13.4"
      ],
      "text/plain": [
       "<IPython.core.display.HTML object>"
      ]
     },
     "metadata": {},
     "output_type": "display_data"
    },
    {
     "data": {
      "text/html": [
       "Run data is saved locally in <code>C:\\Users\\PARK\\Documents\\LAB\\RNN vs LSTM\\FInal Example\\wandb\\run-20221015_190827-1kgjbxck</code>"
      ],
      "text/plain": [
       "<IPython.core.display.HTML object>"
      ]
     },
     "metadata": {},
     "output_type": "display_data"
    },
    {
     "data": {
      "text/html": [
       "Syncing run <strong><a href=\"https://wandb.ai/jintae/RNN%20seq%20128./runs/1kgjbxck\" target=\"_blank\">epoch 2,000</a></strong> to <a href=\"https://wandb.ai/jintae/RNN%20seq%20128.\" target=\"_blank\">Weights & Biases</a> (<a href=\"https://wandb.me/run\" target=\"_blank\">docs</a>)<br/>"
      ],
      "text/plain": [
       "<IPython.core.display.HTML object>"
      ]
     },
     "metadata": {},
     "output_type": "display_data"
    },
    {
     "data": {
      "text/html": [
       "<button onClick=\"this.nextSibling.style.display='block';this.style.display='none';\">Display W&B run</button><iframe src=\"https://wandb.ai/jintae/RNN%20seq%20128./runs/1kgjbxck?jupyter=true\" style=\"border:none;width:100%;height:420px;display:none;\"></iframe>"
      ],
      "text/plain": [
       "<wandb.sdk.wandb_run.Run at 0x15305c514f0>"
      ]
     },
     "execution_count": 1,
     "metadata": {},
     "output_type": "execute_result"
    }
   ],
   "source": [
    "import wandb\n",
    "from wandb.keras import WandbCallback\n",
    "wandb.init(project=\"RNN seq 128.\", name=\"epoch 2,000\")"
   ]
  },
  {
   "cell_type": "code",
   "execution_count": 2,
   "id": "650bae84",
   "metadata": {},
   "outputs": [
    {
     "name": "stdout",
     "output_type": "stream",
     "text": [
      "   DATE  Sales\n",
      "0     0   3459\n",
      "1     1   3458\n",
      "2     2   4002\n",
      "3     3   4564\n",
      "4     4   4221\n"
     ]
    }
   ],
   "source": [
    "import pandas as pd\n",
    "\n",
    "df = pd.read_csv('C:/Users/PARK/Desktop/Alcohol_Sales.csv')\n",
    "print(df.head())"
   ]
  },
  {
   "cell_type": "code",
   "execution_count": 3,
   "id": "71e18e17",
   "metadata": {},
   "outputs": [
    {
     "data": {
      "text/plain": [
       "(325, 2)"
      ]
     },
     "execution_count": 3,
     "metadata": {},
     "output_type": "execute_result"
    }
   ],
   "source": [
    "df.shape"
   ]
  },
  {
   "cell_type": "code",
   "execution_count": 4,
   "id": "5f4f8fb7",
   "metadata": {},
   "outputs": [],
   "source": [
    "import numpy as np\n",
    "\n",
    "data = df.to_numpy()"
   ]
  },
  {
   "cell_type": "code",
   "execution_count": 5,
   "id": "c6063052",
   "metadata": {},
   "outputs": [
    {
     "data": {
      "text/plain": [
       "(325, 2)"
      ]
     },
     "execution_count": 5,
     "metadata": {},
     "output_type": "execute_result"
    }
   ],
   "source": [
    "data.shape"
   ]
  },
  {
   "cell_type": "code",
   "execution_count": 6,
   "id": "01930485",
   "metadata": {},
   "outputs": [
    {
     "data": {
      "text/plain": [
       "array([[   0, 3459],\n",
       "       [   1, 3458],\n",
       "       [   2, 4002],\n",
       "       [   3, 4564],\n",
       "       [   4, 4221]], dtype=int64)"
      ]
     },
     "execution_count": 6,
     "metadata": {},
     "output_type": "execute_result"
    }
   ],
   "source": [
    "data[0:5]"
   ]
  },
  {
   "cell_type": "code",
   "execution_count": 7,
   "id": "ad83b404",
   "metadata": {},
   "outputs": [],
   "source": [
    "# from sklearn.preprocessing import MinMaxScaler\n",
    "\n",
    "# scaler = MinMaxScaler()\n",
    "\n",
    "# data = scaler.fit_transform(data)"
   ]
  },
  {
   "cell_type": "code",
   "execution_count": 8,
   "id": "17aef2ea",
   "metadata": {},
   "outputs": [],
   "source": [
    "data_mean = data.mean()\n",
    "data_std = data.std()\n",
    "\n",
    "data = (data - data_mean)/data_std"
   ]
  },
  {
   "cell_type": "code",
   "execution_count": 9,
   "id": "63fe0032",
   "metadata": {},
   "outputs": [
    {
     "data": {
      "text/plain": [
       "array([[-0.9194862 , -0.12914209],\n",
       "       [-0.91925771, -0.12937058],\n",
       "       [-0.91902922, -0.00507246],\n",
       "       [-0.91880073,  0.12333846],\n",
       "       [-0.91857224,  0.04496667]])"
      ]
     },
     "execution_count": 9,
     "metadata": {},
     "output_type": "execute_result"
    }
   ],
   "source": [
    "data[0:5]"
   ]
  },
  {
   "cell_type": "code",
   "execution_count": 10,
   "id": "87ac24ef",
   "metadata": {
    "scrolled": true
   },
   "outputs": [],
   "source": [
    "train_input = []\n",
    "train_label = []\n",
    "\n",
    "data_len = 325\n",
    "time_step = 100\n",
    "out_dim = 25\n",
    "\n",
    "for i in range(176):\n",
    "    _input = data[i:i+time_step]\n",
    "    _label = data[i+time_step:i+time_step+out_dim]\n",
    "    \n",
    "    train_input.append(_input)\n",
    "    train_label.append(_label)\n",
    "    \n",
    "\n",
    "train_input = np.array(train_input)\n",
    "train_label = np.array(train_label)\n",
    "train_label = np.delete(train_label, 0, axis=2)\n",
    "\n",
    "\n",
    "test_input = np.array(data[data_len-out_dim-time_step:data_len-out_dim])\n",
    "test_label =np.array(data[300:325])\n",
    "test_label = np.delete(test_label, 0, axis=1)"
   ]
  },
  {
   "cell_type": "code",
   "execution_count": 11,
   "id": "41975dc7",
   "metadata": {},
   "outputs": [
    {
     "data": {
      "text/plain": [
       "(176, 100, 2)"
      ]
     },
     "execution_count": 11,
     "metadata": {},
     "output_type": "execute_result"
    }
   ],
   "source": [
    "train_input.shape"
   ]
  },
  {
   "cell_type": "code",
   "execution_count": 12,
   "id": "b762c3ba",
   "metadata": {},
   "outputs": [
    {
     "data": {
      "text/plain": [
       "(176, 25, 1)"
      ]
     },
     "execution_count": 12,
     "metadata": {},
     "output_type": "execute_result"
    }
   ],
   "source": [
    "train_label.shape"
   ]
  },
  {
   "cell_type": "code",
   "execution_count": 13,
   "id": "127c63a2",
   "metadata": {},
   "outputs": [
    {
     "data": {
      "text/plain": [
       "(100, 2)"
      ]
     },
     "execution_count": 13,
     "metadata": {},
     "output_type": "execute_result"
    }
   ],
   "source": [
    "test_input.shape"
   ]
  },
  {
   "cell_type": "code",
   "execution_count": 14,
   "id": "6647472d",
   "metadata": {},
   "outputs": [
    {
     "data": {
      "text/plain": [
       "(25, 1)"
      ]
     },
     "execution_count": 14,
     "metadata": {},
     "output_type": "execute_result"
    }
   ],
   "source": [
    "test_label.shape"
   ]
  },
  {
   "cell_type": "code",
   "execution_count": 15,
   "id": "5d83c07f",
   "metadata": {},
   "outputs": [],
   "source": [
    "np.random.seed(10)\n",
    "shuffled_indices = np.random.permutation(np.arange(train_input.shape[0]))\n",
    "train_input = train_input[shuffled_indices, :, :]\n",
    "train_label = train_label[shuffled_indices, :]"
   ]
  },
  {
   "cell_type": "code",
   "execution_count": 16,
   "id": "a183926e",
   "metadata": {
    "scrolled": true
   },
   "outputs": [
    {
     "name": "stdout",
     "output_type": "stream",
     "text": [
      "Model: \"sequential\"\n",
      "_________________________________________________________________\n",
      " Layer (type)                Output Shape              Param #   \n",
      "=================================================================\n",
      " simple_rnn (SimpleRNN)      (None, 128)               16768     \n",
      "                                                                 \n",
      " dense (Dense)               (None, 25)                3225      \n",
      "                                                                 \n",
      "=================================================================\n",
      "Total params: 19,993\n",
      "Trainable params: 19,993\n",
      "Non-trainable params: 0\n",
      "_________________________________________________________________\n"
     ]
    },
    {
     "name": "stderr",
     "output_type": "stream",
     "text": [
      "\u001b[34m\u001b[1mwandb\u001b[0m: \u001b[33mWARNING\u001b[0m The save_model argument by default saves the model in the HDF5 format that cannot save custom objects like subclassed models and custom layers. This behavior will be deprecated in a future release in favor of the SavedModel format. Meanwhile, the HDF5 model is saved as W&B files and the SavedModel as W&B Artifacts.\n"
     ]
    },
    {
     "name": "stdout",
     "output_type": "stream",
     "text": [
      "Epoch 1/2000\n",
      "4/5 [=======================>......] - ETA: 0s - loss: 1.0891 - mae: 0.8940INFO:tensorflow:Assets written to: C:\\Users\\PARK\\Documents\\LAB\\RNN vs LSTM\\FInal Example\\wandb\\run-20221015_190827-1kgjbxck\\files\\model-best\\assets\n"
     ]
    },
    {
     "name": "stderr",
     "output_type": "stream",
     "text": [
      "\u001b[34m\u001b[1mwandb\u001b[0m: Adding directory to artifact (C:\\Users\\PARK\\Documents\\LAB\\RNN vs LSTM\\FInal Example\\wandb\\run-20221015_190827-1kgjbxck\\files\\model-best)... Done. 0.0s\n"
     ]
    },
    {
     "name": "stdout",
     "output_type": "stream",
     "text": [
      "5/5 [==============================] - 4s 623ms/step - loss: 1.0544 - mae: 0.8776 - val_loss: 0.5330 - val_mae: 0.5986\n",
      "Epoch 2/2000\n",
      "4/5 [=======================>......] - ETA: 0s - loss: 0.4145 - mae: 0.5203INFO:tensorflow:Assets written to: C:\\Users\\PARK\\Documents\\LAB\\RNN vs LSTM\\FInal Example\\wandb\\run-20221015_190827-1kgjbxck\\files\\model-best\\assets\n"
     ]
    },
    {
     "name": "stderr",
     "output_type": "stream",
     "text": [
      "\u001b[34m\u001b[1mwandb\u001b[0m: Adding directory to artifact (C:\\Users\\PARK\\Documents\\LAB\\RNN vs LSTM\\FInal Example\\wandb\\run-20221015_190827-1kgjbxck\\files\\model-best)... Done. 0.0s\n"
     ]
    },
    {
     "name": "stdout",
     "output_type": "stream",
     "text": [
      "5/5 [==============================] - 2s 474ms/step - loss: 0.3955 - mae: 0.5052 - val_loss: 0.2160 - val_mae: 0.3808\n",
      "Epoch 3/2000\n",
      "5/5 [==============================] - ETA: 0s - loss: 0.1850 - mae: 0.3515INFO:tensorflow:Assets written to: C:\\Users\\PARK\\Documents\\LAB\\RNN vs LSTM\\FInal Example\\wandb\\run-20221015_190827-1kgjbxck\\files\\model-best\\assets\n"
     ]
    },
    {
     "name": "stderr",
     "output_type": "stream",
     "text": [
      "\u001b[34m\u001b[1mwandb\u001b[0m: Adding directory to artifact (C:\\Users\\PARK\\Documents\\LAB\\RNN vs LSTM\\FInal Example\\wandb\\run-20221015_190827-1kgjbxck\\files\\model-best)... Done. 0.0s\n"
     ]
    },
    {
     "name": "stdout",
     "output_type": "stream",
     "text": [
      "5/5 [==============================] - 2s 483ms/step - loss: 0.1850 - mae: 0.3515 - val_loss: 0.1595 - val_mae: 0.3242\n",
      "Epoch 4/2000\n",
      "5/5 [==============================] - ETA: 0s - loss: 0.1507 - mae: 0.3138INFO:tensorflow:Assets written to: C:\\Users\\PARK\\Documents\\LAB\\RNN vs LSTM\\FInal Example\\wandb\\run-20221015_190827-1kgjbxck\\files\\model-best\\assets\n"
     ]
    },
    {
     "name": "stderr",
     "output_type": "stream",
     "text": [
      "\u001b[34m\u001b[1mwandb\u001b[0m: Adding directory to artifact (C:\\Users\\PARK\\Documents\\LAB\\RNN vs LSTM\\FInal Example\\wandb\\run-20221015_190827-1kgjbxck\\files\\model-best)... Done. 0.0s\n"
     ]
    },
    {
     "name": "stdout",
     "output_type": "stream",
     "text": [
      "5/5 [==============================] - 2s 516ms/step - loss: 0.1507 - mae: 0.3138 - val_loss: 0.1090 - val_mae: 0.2649\n",
      "Epoch 5/2000\n",
      "5/5 [==============================] - ETA: 0s - loss: 0.1058 - mae: 0.2600INFO:tensorflow:Assets written to: C:\\Users\\PARK\\Documents\\LAB\\RNN vs LSTM\\FInal Example\\wandb\\run-20221015_190827-1kgjbxck\\files\\model-best\\assets\n"
     ]
    },
    {
     "name": "stderr",
     "output_type": "stream",
     "text": [
      "\u001b[34m\u001b[1mwandb\u001b[0m: Adding directory to artifact (C:\\Users\\PARK\\Documents\\LAB\\RNN vs LSTM\\FInal Example\\wandb\\run-20221015_190827-1kgjbxck\\files\\model-best)... Done. 0.0s\n"
     ]
    },
    {
     "name": "stdout",
     "output_type": "stream",
     "text": [
      "5/5 [==============================] - 2s 486ms/step - loss: 0.1058 - mae: 0.2600 - val_loss: 0.0892 - val_mae: 0.2395\n",
      "Epoch 6/2000\n",
      "5/5 [==============================] - ETA: 0s - loss: 0.0849 - mae: 0.2311INFO:tensorflow:Assets written to: C:\\Users\\PARK\\Documents\\LAB\\RNN vs LSTM\\FInal Example\\wandb\\run-20221015_190827-1kgjbxck\\files\\model-best\\assets\n"
     ]
    },
    {
     "name": "stderr",
     "output_type": "stream",
     "text": [
      "\u001b[34m\u001b[1mwandb\u001b[0m: Adding directory to artifact (C:\\Users\\PARK\\Documents\\LAB\\RNN vs LSTM\\FInal Example\\wandb\\run-20221015_190827-1kgjbxck\\files\\model-best)... Done. 0.0s\n"
     ]
    },
    {
     "name": "stdout",
     "output_type": "stream",
     "text": [
      "5/5 [==============================] - 2s 524ms/step - loss: 0.0849 - mae: 0.2311 - val_loss: 0.0764 - val_mae: 0.2200\n",
      "Epoch 7/2000\n",
      "5/5 [==============================] - 1s 171ms/step - loss: 0.0780 - mae: 0.2195 - val_loss: 0.0776 - val_mae: 0.2208\n",
      "Epoch 8/2000\n",
      "5/5 [==============================] - ETA: 0s - loss: 0.0769 - mae: 0.2174INFO:tensorflow:Assets written to: C:\\Users\\PARK\\Documents\\LAB\\RNN vs LSTM\\FInal Example\\wandb\\run-20221015_190827-1kgjbxck\\files\\model-best\\assets\n"
     ]
    },
    {
     "name": "stderr",
     "output_type": "stream",
     "text": [
      "\u001b[34m\u001b[1mwandb\u001b[0m: Adding directory to artifact (C:\\Users\\PARK\\Documents\\LAB\\RNN vs LSTM\\FInal Example\\wandb\\run-20221015_190827-1kgjbxck\\files\\model-best)... Done. 0.0s\n"
     ]
    },
    {
     "name": "stdout",
     "output_type": "stream",
     "text": [
      "5/5 [==============================] - 2s 488ms/step - loss: 0.0769 - mae: 0.2174 - val_loss: 0.0709 - val_mae: 0.2111\n",
      "Epoch 9/2000\n",
      "5/5 [==============================] - ETA: 0s - loss: 0.0688 - mae: 0.2039INFO:tensorflow:Assets written to: C:\\Users\\PARK\\Documents\\LAB\\RNN vs LSTM\\FInal Example\\wandb\\run-20221015_190827-1kgjbxck\\files\\model-best\\assets\n"
     ]
    },
    {
     "name": "stderr",
     "output_type": "stream",
     "text": [
      "\u001b[34m\u001b[1mwandb\u001b[0m: Adding directory to artifact (C:\\Users\\PARK\\Documents\\LAB\\RNN vs LSTM\\FInal Example\\wandb\\run-20221015_190827-1kgjbxck\\files\\model-best)... Done. 0.0s\n"
     ]
    },
    {
     "name": "stdout",
     "output_type": "stream",
     "text": [
      "5/5 [==============================] - 2s 489ms/step - loss: 0.0688 - mae: 0.2039 - val_loss: 0.0637 - val_mae: 0.1987\n",
      "Epoch 10/2000\n",
      "5/5 [==============================] - ETA: 0s - loss: 0.0645 - mae: 0.1982INFO:tensorflow:Assets written to: C:\\Users\\PARK\\Documents\\LAB\\RNN vs LSTM\\FInal Example\\wandb\\run-20221015_190827-1kgjbxck\\files\\model-best\\assets\n"
     ]
    },
    {
     "name": "stderr",
     "output_type": "stream",
     "text": [
      "\u001b[34m\u001b[1mwandb\u001b[0m: Adding directory to artifact (C:\\Users\\PARK\\Documents\\LAB\\RNN vs LSTM\\FInal Example\\wandb\\run-20221015_190827-1kgjbxck\\files\\model-best)... Done. 0.0s\n"
     ]
    },
    {
     "name": "stdout",
     "output_type": "stream",
     "text": [
      "5/5 [==============================] - 2s 508ms/step - loss: 0.0645 - mae: 0.1982 - val_loss: 0.0627 - val_mae: 0.1967\n",
      "Epoch 11/2000\n",
      "5/5 [==============================] - ETA: 0s - loss: 0.0620 - mae: 0.1937INFO:tensorflow:Assets written to: C:\\Users\\PARK\\Documents\\LAB\\RNN vs LSTM\\FInal Example\\wandb\\run-20221015_190827-1kgjbxck\\files\\model-best\\assets\n"
     ]
    },
    {
     "name": "stderr",
     "output_type": "stream",
     "text": [
      "\u001b[34m\u001b[1mwandb\u001b[0m: Adding directory to artifact (C:\\Users\\PARK\\Documents\\LAB\\RNN vs LSTM\\FInal Example\\wandb\\run-20221015_190827-1kgjbxck\\files\\model-best)... Done. 0.0s\n"
     ]
    },
    {
     "name": "stdout",
     "output_type": "stream",
     "text": [
      "5/5 [==============================] - 2s 500ms/step - loss: 0.0620 - mae: 0.1937 - val_loss: 0.0597 - val_mae: 0.1908\n",
      "Epoch 12/2000\n",
      "5/5 [==============================] - 1s 160ms/step - loss: 0.0593 - mae: 0.1893 - val_loss: 0.0600 - val_mae: 0.1902\n",
      "Epoch 13/2000\n",
      "5/5 [==============================] - ETA: 0s - loss: 0.0593 - mae: 0.1894INFO:tensorflow:Assets written to: C:\\Users\\PARK\\Documents\\LAB\\RNN vs LSTM\\FInal Example\\wandb\\run-20221015_190827-1kgjbxck\\files\\model-best\\assets\n"
     ]
    },
    {
     "name": "stderr",
     "output_type": "stream",
     "text": [
      "\u001b[34m\u001b[1mwandb\u001b[0m: Adding directory to artifact (C:\\Users\\PARK\\Documents\\LAB\\RNN vs LSTM\\FInal Example\\wandb\\run-20221015_190827-1kgjbxck\\files\\model-best)... Done. 0.0s\n"
     ]
    },
    {
     "name": "stdout",
     "output_type": "stream",
     "text": [
      "5/5 [==============================] - 2s 482ms/step - loss: 0.0593 - mae: 0.1894 - val_loss: 0.0581 - val_mae: 0.1856\n",
      "Epoch 14/2000\n",
      "5/5 [==============================] - 1s 164ms/step - loss: 0.0581 - mae: 0.1872 - val_loss: 0.0591 - val_mae: 0.1855\n",
      "Epoch 15/2000\n",
      "5/5 [==============================] - 1s 153ms/step - loss: 0.0570 - mae: 0.1851 - val_loss: 0.0582 - val_mae: 0.1843\n",
      "Epoch 16/2000\n",
      "5/5 [==============================] - ETA: 0s - loss: 0.0558 - mae: 0.1822INFO:tensorflow:Assets written to: C:\\Users\\PARK\\Documents\\LAB\\RNN vs LSTM\\FInal Example\\wandb\\run-20221015_190827-1kgjbxck\\files\\model-best\\assets\n"
     ]
    },
    {
     "name": "stderr",
     "output_type": "stream",
     "text": [
      "\u001b[34m\u001b[1mwandb\u001b[0m: Adding directory to artifact (C:\\Users\\PARK\\Documents\\LAB\\RNN vs LSTM\\FInal Example\\wandb\\run-20221015_190827-1kgjbxck\\files\\model-best)... Done. 0.0s\n"
     ]
    },
    {
     "name": "stdout",
     "output_type": "stream",
     "text": [
      "5/5 [==============================] - 2s 508ms/step - loss: 0.0558 - mae: 0.1822 - val_loss: 0.0580 - val_mae: 0.1833\n",
      "Epoch 17/2000\n",
      "5/5 [==============================] - ETA: 0s - loss: 0.0549 - mae: 0.1806INFO:tensorflow:Assets written to: C:\\Users\\PARK\\Documents\\LAB\\RNN vs LSTM\\FInal Example\\wandb\\run-20221015_190827-1kgjbxck\\files\\model-best\\assets\n"
     ]
    },
    {
     "name": "stderr",
     "output_type": "stream",
     "text": [
      "\u001b[34m\u001b[1mwandb\u001b[0m: Adding directory to artifact (C:\\Users\\PARK\\Documents\\LAB\\RNN vs LSTM\\FInal Example\\wandb\\run-20221015_190827-1kgjbxck\\files\\model-best)... Done. 0.0s\n"
     ]
    },
    {
     "name": "stdout",
     "output_type": "stream",
     "text": [
      "5/5 [==============================] - 2s 508ms/step - loss: 0.0549 - mae: 0.1806 - val_loss: 0.0557 - val_mae: 0.1806\n",
      "Epoch 18/2000\n",
      "5/5 [==============================] - 1s 158ms/step - loss: 0.0556 - mae: 0.1813 - val_loss: 0.0586 - val_mae: 0.1837\n",
      "Epoch 19/2000\n",
      "5/5 [==============================] - ETA: 0s - loss: 0.0552 - mae: 0.1804INFO:tensorflow:Assets written to: C:\\Users\\PARK\\Documents\\LAB\\RNN vs LSTM\\FInal Example\\wandb\\run-20221015_190827-1kgjbxck\\files\\model-best\\assets\n"
     ]
    },
    {
     "name": "stderr",
     "output_type": "stream",
     "text": [
      "\u001b[34m\u001b[1mwandb\u001b[0m: Adding directory to artifact (C:\\Users\\PARK\\Documents\\LAB\\RNN vs LSTM\\FInal Example\\wandb\\run-20221015_190827-1kgjbxck\\files\\model-best)... Done. 0.0s\n"
     ]
    },
    {
     "name": "stdout",
     "output_type": "stream",
     "text": [
      "5/5 [==============================] - 2s 508ms/step - loss: 0.0552 - mae: 0.1804 - val_loss: 0.0556 - val_mae: 0.1795\n",
      "Epoch 20/2000\n",
      "5/5 [==============================] - ETA: 0s - loss: 0.0542 - mae: 0.1791INFO:tensorflow:Assets written to: C:\\Users\\PARK\\Documents\\LAB\\RNN vs LSTM\\FInal Example\\wandb\\run-20221015_190827-1kgjbxck\\files\\model-best\\assets\n"
     ]
    },
    {
     "name": "stderr",
     "output_type": "stream",
     "text": [
      "\u001b[34m\u001b[1mwandb\u001b[0m: Adding directory to artifact (C:\\Users\\PARK\\Documents\\LAB\\RNN vs LSTM\\FInal Example\\wandb\\run-20221015_190827-1kgjbxck\\files\\model-best)... Done. 0.0s\n"
     ]
    },
    {
     "name": "stdout",
     "output_type": "stream",
     "text": [
      "5/5 [==============================] - 2s 540ms/step - loss: 0.0542 - mae: 0.1791 - val_loss: 0.0554 - val_mae: 0.1804\n",
      "Epoch 21/2000\n",
      "5/5 [==============================] - ETA: 0s - loss: 0.0537 - mae: 0.1779INFO:tensorflow:Assets written to: C:\\Users\\PARK\\Documents\\LAB\\RNN vs LSTM\\FInal Example\\wandb\\run-20221015_190827-1kgjbxck\\files\\model-best\\assets\n"
     ]
    },
    {
     "name": "stderr",
     "output_type": "stream",
     "text": [
      "\u001b[34m\u001b[1mwandb\u001b[0m: Adding directory to artifact (C:\\Users\\PARK\\Documents\\LAB\\RNN vs LSTM\\FInal Example\\wandb\\run-20221015_190827-1kgjbxck\\files\\model-best)... Done. 0.0s\n"
     ]
    },
    {
     "name": "stdout",
     "output_type": "stream",
     "text": [
      "5/5 [==============================] - 2s 476ms/step - loss: 0.0537 - mae: 0.1779 - val_loss: 0.0551 - val_mae: 0.1794\n",
      "Epoch 22/2000\n",
      "5/5 [==============================] - ETA: 0s - loss: 0.0538 - mae: 0.1789INFO:tensorflow:Assets written to: C:\\Users\\PARK\\Documents\\LAB\\RNN vs LSTM\\FInal Example\\wandb\\run-20221015_190827-1kgjbxck\\files\\model-best\\assets\n"
     ]
    },
    {
     "name": "stderr",
     "output_type": "stream",
     "text": [
      "\u001b[34m\u001b[1mwandb\u001b[0m: Adding directory to artifact (C:\\Users\\PARK\\Documents\\LAB\\RNN vs LSTM\\FInal Example\\wandb\\run-20221015_190827-1kgjbxck\\files\\model-best)... Done. 0.0s\n"
     ]
    },
    {
     "name": "stdout",
     "output_type": "stream",
     "text": [
      "5/5 [==============================] - 2s 548ms/step - loss: 0.0538 - mae: 0.1789 - val_loss: 0.0544 - val_mae: 0.1795\n",
      "Epoch 23/2000\n",
      "5/5 [==============================] - ETA: 0s - loss: 0.0541 - mae: 0.1791INFO:tensorflow:Assets written to: C:\\Users\\PARK\\Documents\\LAB\\RNN vs LSTM\\FInal Example\\wandb\\run-20221015_190827-1kgjbxck\\files\\model-best\\assets\n"
     ]
    },
    {
     "name": "stderr",
     "output_type": "stream",
     "text": [
      "\u001b[34m\u001b[1mwandb\u001b[0m: Adding directory to artifact (C:\\Users\\PARK\\Documents\\LAB\\RNN vs LSTM\\FInal Example\\wandb\\run-20221015_190827-1kgjbxck\\files\\model-best)... Done. 0.0s\n"
     ]
    },
    {
     "name": "stdout",
     "output_type": "stream",
     "text": [
      "5/5 [==============================] - 2s 525ms/step - loss: 0.0541 - mae: 0.1791 - val_loss: 0.0540 - val_mae: 0.1776\n",
      "Epoch 24/2000\n",
      "5/5 [==============================] - 1s 164ms/step - loss: 0.0530 - mae: 0.1772 - val_loss: 0.0541 - val_mae: 0.1790\n",
      "Epoch 25/2000\n",
      "5/5 [==============================] - ETA: 0s - loss: 0.0516 - mae: 0.1736INFO:tensorflow:Assets written to: C:\\Users\\PARK\\Documents\\LAB\\RNN vs LSTM\\FInal Example\\wandb\\run-20221015_190827-1kgjbxck\\files\\model-best\\assets\n"
     ]
    },
    {
     "name": "stderr",
     "output_type": "stream",
     "text": [
      "\u001b[34m\u001b[1mwandb\u001b[0m: Adding directory to artifact (C:\\Users\\PARK\\Documents\\LAB\\RNN vs LSTM\\FInal Example\\wandb\\run-20221015_190827-1kgjbxck\\files\\model-best)... Done. 0.0s\n"
     ]
    },
    {
     "name": "stdout",
     "output_type": "stream",
     "text": [
      "5/5 [==============================] - 2s 501ms/step - loss: 0.0516 - mae: 0.1736 - val_loss: 0.0528 - val_mae: 0.1773\n",
      "Epoch 26/2000\n",
      "5/5 [==============================] - 1s 171ms/step - loss: 0.0508 - mae: 0.1729 - val_loss: 0.0538 - val_mae: 0.1816\n",
      "Epoch 27/2000\n",
      "5/5 [==============================] - ETA: 0s - loss: 0.0510 - mae: 0.1739INFO:tensorflow:Assets written to: C:\\Users\\PARK\\Documents\\LAB\\RNN vs LSTM\\FInal Example\\wandb\\run-20221015_190827-1kgjbxck\\files\\model-best\\assets\n"
     ]
    },
    {
     "name": "stderr",
     "output_type": "stream",
     "text": [
      "\u001b[34m\u001b[1mwandb\u001b[0m: Adding directory to artifact (C:\\Users\\PARK\\Documents\\LAB\\RNN vs LSTM\\FInal Example\\wandb\\run-20221015_190827-1kgjbxck\\files\\model-best)... Done. 0.0s\n"
     ]
    },
    {
     "name": "stdout",
     "output_type": "stream",
     "text": [
      "5/5 [==============================] - 2s 513ms/step - loss: 0.0510 - mae: 0.1739 - val_loss: 0.0525 - val_mae: 0.1771\n",
      "Epoch 28/2000\n",
      "5/5 [==============================] - 1s 158ms/step - loss: 0.0504 - mae: 0.1721 - val_loss: 0.0576 - val_mae: 0.1939\n",
      "Epoch 29/2000\n",
      "5/5 [==============================] - 1s 147ms/step - loss: 0.0516 - mae: 0.1761 - val_loss: 0.0526 - val_mae: 0.1792\n",
      "Epoch 30/2000\n",
      "5/5 [==============================] - 1s 145ms/step - loss: 0.0488 - mae: 0.1700 - val_loss: 0.0530 - val_mae: 0.1823\n",
      "Epoch 31/2000\n",
      "5/5 [==============================] - ETA: 0s - loss: 0.0490 - mae: 0.1708INFO:tensorflow:Assets written to: C:\\Users\\PARK\\Documents\\LAB\\RNN vs LSTM\\FInal Example\\wandb\\run-20221015_190827-1kgjbxck\\files\\model-best\\assets\n"
     ]
    },
    {
     "name": "stderr",
     "output_type": "stream",
     "text": [
      "\u001b[34m\u001b[1mwandb\u001b[0m: Adding directory to artifact (C:\\Users\\PARK\\Documents\\LAB\\RNN vs LSTM\\FInal Example\\wandb\\run-20221015_190827-1kgjbxck\\files\\model-best)... Done. 0.0s\n"
     ]
    },
    {
     "name": "stdout",
     "output_type": "stream",
     "text": [
      "5/5 [==============================] - 2s 484ms/step - loss: 0.0490 - mae: 0.1708 - val_loss: 0.0525 - val_mae: 0.1810\n",
      "Epoch 32/2000\n",
      "5/5 [==============================] - ETA: 0s - loss: 0.0477 - mae: 0.1690INFO:tensorflow:Assets written to: C:\\Users\\PARK\\Documents\\LAB\\RNN vs LSTM\\FInal Example\\wandb\\run-20221015_190827-1kgjbxck\\files\\model-best\\assets\n"
     ]
    },
    {
     "name": "stderr",
     "output_type": "stream",
     "text": [
      "\u001b[34m\u001b[1mwandb\u001b[0m: Adding directory to artifact (C:\\Users\\PARK\\Documents\\LAB\\RNN vs LSTM\\FInal Example\\wandb\\run-20221015_190827-1kgjbxck\\files\\model-best)... Done. 0.0s\n"
     ]
    },
    {
     "name": "stdout",
     "output_type": "stream",
     "text": [
      "5/5 [==============================] - 2s 515ms/step - loss: 0.0477 - mae: 0.1690 - val_loss: 0.0490 - val_mae: 0.1702\n",
      "Epoch 33/2000\n",
      "5/5 [==============================] - 1s 183ms/step - loss: 0.0455 - mae: 0.1640 - val_loss: 0.0495 - val_mae: 0.1673\n",
      "Epoch 34/2000\n",
      "5/5 [==============================] - ETA: 0s - loss: 0.0444 - mae: 0.1628INFO:tensorflow:Assets written to: C:\\Users\\PARK\\Documents\\LAB\\RNN vs LSTM\\FInal Example\\wandb\\run-20221015_190827-1kgjbxck\\files\\model-best\\assets\n"
     ]
    },
    {
     "name": "stderr",
     "output_type": "stream",
     "text": [
      "\u001b[34m\u001b[1mwandb\u001b[0m: Adding directory to artifact (C:\\Users\\PARK\\Documents\\LAB\\RNN vs LSTM\\FInal Example\\wandb\\run-20221015_190827-1kgjbxck\\files\\model-best)... Done. 0.0s\n"
     ]
    },
    {
     "name": "stdout",
     "output_type": "stream",
     "text": [
      "5/5 [==============================] - 2s 487ms/step - loss: 0.0444 - mae: 0.1628 - val_loss: 0.0462 - val_mae: 0.1640\n",
      "Epoch 35/2000\n",
      "5/5 [==============================] - ETA: 0s - loss: 0.0426 - mae: 0.1585INFO:tensorflow:Assets written to: C:\\Users\\PARK\\Documents\\LAB\\RNN vs LSTM\\FInal Example\\wandb\\run-20221015_190827-1kgjbxck\\files\\model-best\\assets\n"
     ]
    },
    {
     "name": "stderr",
     "output_type": "stream",
     "text": [
      "\u001b[34m\u001b[1mwandb\u001b[0m: Adding directory to artifact (C:\\Users\\PARK\\Documents\\LAB\\RNN vs LSTM\\FInal Example\\wandb\\run-20221015_190827-1kgjbxck\\files\\model-best)... Done. 0.0s\n"
     ]
    },
    {
     "name": "stdout",
     "output_type": "stream",
     "text": [
      "5/5 [==============================] - 2s 483ms/step - loss: 0.0426 - mae: 0.1585 - val_loss: 0.0449 - val_mae: 0.1635\n",
      "Epoch 36/2000\n",
      "5/5 [==============================] - ETA: 0s - loss: 0.0410 - mae: 0.1547INFO:tensorflow:Assets written to: C:\\Users\\PARK\\Documents\\LAB\\RNN vs LSTM\\FInal Example\\wandb\\run-20221015_190827-1kgjbxck\\files\\model-best\\assets\n"
     ]
    },
    {
     "name": "stderr",
     "output_type": "stream",
     "text": [
      "\u001b[34m\u001b[1mwandb\u001b[0m: Adding directory to artifact (C:\\Users\\PARK\\Documents\\LAB\\RNN vs LSTM\\FInal Example\\wandb\\run-20221015_190827-1kgjbxck\\files\\model-best)... Done. 0.0s\n"
     ]
    },
    {
     "name": "stdout",
     "output_type": "stream",
     "text": [
      "5/5 [==============================] - 2s 538ms/step - loss: 0.0410 - mae: 0.1547 - val_loss: 0.0433 - val_mae: 0.1615\n",
      "Epoch 37/2000\n",
      "5/5 [==============================] - ETA: 0s - loss: 0.0395 - mae: 0.1523INFO:tensorflow:Assets written to: C:\\Users\\PARK\\Documents\\LAB\\RNN vs LSTM\\FInal Example\\wandb\\run-20221015_190827-1kgjbxck\\files\\model-best\\assets\n"
     ]
    },
    {
     "name": "stderr",
     "output_type": "stream",
     "text": [
      "\u001b[34m\u001b[1mwandb\u001b[0m: Adding directory to artifact (C:\\Users\\PARK\\Documents\\LAB\\RNN vs LSTM\\FInal Example\\wandb\\run-20221015_190827-1kgjbxck\\files\\model-best)... Done. 0.0s\n"
     ]
    },
    {
     "name": "stdout",
     "output_type": "stream",
     "text": [
      "5/5 [==============================] - 2s 504ms/step - loss: 0.0395 - mae: 0.1523 - val_loss: 0.0423 - val_mae: 0.1609\n",
      "Epoch 38/2000\n",
      "5/5 [==============================] - ETA: 0s - loss: 0.0387 - mae: 0.1516INFO:tensorflow:Assets written to: C:\\Users\\PARK\\Documents\\LAB\\RNN vs LSTM\\FInal Example\\wandb\\run-20221015_190827-1kgjbxck\\files\\model-best\\assets\n"
     ]
    },
    {
     "name": "stderr",
     "output_type": "stream",
     "text": [
      "\u001b[34m\u001b[1mwandb\u001b[0m: Adding directory to artifact (C:\\Users\\PARK\\Documents\\LAB\\RNN vs LSTM\\FInal Example\\wandb\\run-20221015_190827-1kgjbxck\\files\\model-best)... Done. 0.0s\n"
     ]
    },
    {
     "name": "stdout",
     "output_type": "stream",
     "text": [
      "5/5 [==============================] - 2s 498ms/step - loss: 0.0387 - mae: 0.1516 - val_loss: 0.0409 - val_mae: 0.1572\n",
      "Epoch 39/2000\n",
      "5/5 [==============================] - ETA: 0s - loss: 0.0373 - mae: 0.1483INFO:tensorflow:Assets written to: C:\\Users\\PARK\\Documents\\LAB\\RNN vs LSTM\\FInal Example\\wandb\\run-20221015_190827-1kgjbxck\\files\\model-best\\assets\n"
     ]
    },
    {
     "name": "stderr",
     "output_type": "stream",
     "text": [
      "\u001b[34m\u001b[1mwandb\u001b[0m: Adding directory to artifact (C:\\Users\\PARK\\Documents\\LAB\\RNN vs LSTM\\FInal Example\\wandb\\run-20221015_190827-1kgjbxck\\files\\model-best)... Done. 0.0s\n"
     ]
    },
    {
     "name": "stdout",
     "output_type": "stream",
     "text": [
      "5/5 [==============================] - 2s 529ms/step - loss: 0.0373 - mae: 0.1483 - val_loss: 0.0397 - val_mae: 0.1564\n",
      "Epoch 40/2000\n",
      "5/5 [==============================] - ETA: 0s - loss: 0.0364 - mae: 0.1474INFO:tensorflow:Assets written to: C:\\Users\\PARK\\Documents\\LAB\\RNN vs LSTM\\FInal Example\\wandb\\run-20221015_190827-1kgjbxck\\files\\model-best\\assets\n"
     ]
    },
    {
     "name": "stderr",
     "output_type": "stream",
     "text": [
      "\u001b[34m\u001b[1mwandb\u001b[0m: Adding directory to artifact (C:\\Users\\PARK\\Documents\\LAB\\RNN vs LSTM\\FInal Example\\wandb\\run-20221015_190827-1kgjbxck\\files\\model-best)... Done. 0.0s\n"
     ]
    },
    {
     "name": "stdout",
     "output_type": "stream",
     "text": [
      "5/5 [==============================] - 2s 529ms/step - loss: 0.0364 - mae: 0.1474 - val_loss: 0.0384 - val_mae: 0.1539\n",
      "Epoch 41/2000\n",
      "5/5 [==============================] - ETA: 0s - loss: 0.0354 - mae: 0.1458INFO:tensorflow:Assets written to: C:\\Users\\PARK\\Documents\\LAB\\RNN vs LSTM\\FInal Example\\wandb\\run-20221015_190827-1kgjbxck\\files\\model-best\\assets\n"
     ]
    },
    {
     "name": "stderr",
     "output_type": "stream",
     "text": [
      "\u001b[34m\u001b[1mwandb\u001b[0m: Adding directory to artifact (C:\\Users\\PARK\\Documents\\LAB\\RNN vs LSTM\\FInal Example\\wandb\\run-20221015_190827-1kgjbxck\\files\\model-best)... Done. 0.0s\n"
     ]
    },
    {
     "name": "stdout",
     "output_type": "stream",
     "text": [
      "5/5 [==============================] - 2s 533ms/step - loss: 0.0354 - mae: 0.1458 - val_loss: 0.0376 - val_mae: 0.1509\n",
      "Epoch 42/2000\n",
      "5/5 [==============================] - ETA: 0s - loss: 0.0340 - mae: 0.1428INFO:tensorflow:Assets written to: C:\\Users\\PARK\\Documents\\LAB\\RNN vs LSTM\\FInal Example\\wandb\\run-20221015_190827-1kgjbxck\\files\\model-best\\assets\n"
     ]
    },
    {
     "name": "stderr",
     "output_type": "stream",
     "text": [
      "\u001b[34m\u001b[1mwandb\u001b[0m: Adding directory to artifact (C:\\Users\\PARK\\Documents\\LAB\\RNN vs LSTM\\FInal Example\\wandb\\run-20221015_190827-1kgjbxck\\files\\model-best)... Done. 0.0s\n"
     ]
    },
    {
     "name": "stdout",
     "output_type": "stream",
     "text": [
      "5/5 [==============================] - 2s 497ms/step - loss: 0.0340 - mae: 0.1428 - val_loss: 0.0355 - val_mae: 0.1456\n",
      "Epoch 43/2000\n",
      "5/5 [==============================] - ETA: 0s - loss: 0.0322 - mae: 0.1385INFO:tensorflow:Assets written to: C:\\Users\\PARK\\Documents\\LAB\\RNN vs LSTM\\FInal Example\\wandb\\run-20221015_190827-1kgjbxck\\files\\model-best\\assets\n"
     ]
    },
    {
     "name": "stderr",
     "output_type": "stream",
     "text": [
      "\u001b[34m\u001b[1mwandb\u001b[0m: Adding directory to artifact (C:\\Users\\PARK\\Documents\\LAB\\RNN vs LSTM\\FInal Example\\wandb\\run-20221015_190827-1kgjbxck\\files\\model-best)... Done. 0.0s\n"
     ]
    },
    {
     "name": "stdout",
     "output_type": "stream",
     "text": [
      "5/5 [==============================] - 2s 517ms/step - loss: 0.0322 - mae: 0.1385 - val_loss: 0.0334 - val_mae: 0.1434\n",
      "Epoch 44/2000\n",
      "5/5 [==============================] - ETA: 0s - loss: 0.0306 - mae: 0.1348INFO:tensorflow:Assets written to: C:\\Users\\PARK\\Documents\\LAB\\RNN vs LSTM\\FInal Example\\wandb\\run-20221015_190827-1kgjbxck\\files\\model-best\\assets\n"
     ]
    },
    {
     "name": "stderr",
     "output_type": "stream",
     "text": [
      "\u001b[34m\u001b[1mwandb\u001b[0m: Adding directory to artifact (C:\\Users\\PARK\\Documents\\LAB\\RNN vs LSTM\\FInal Example\\wandb\\run-20221015_190827-1kgjbxck\\files\\model-best)... Done. 0.0s\n"
     ]
    },
    {
     "name": "stdout",
     "output_type": "stream",
     "text": [
      "5/5 [==============================] - 2s 507ms/step - loss: 0.0306 - mae: 0.1348 - val_loss: 0.0315 - val_mae: 0.1387\n",
      "Epoch 45/2000\n",
      "5/5 [==============================] - ETA: 0s - loss: 0.0296 - mae: 0.1320INFO:tensorflow:Assets written to: C:\\Users\\PARK\\Documents\\LAB\\RNN vs LSTM\\FInal Example\\wandb\\run-20221015_190827-1kgjbxck\\files\\model-best\\assets\n"
     ]
    },
    {
     "name": "stderr",
     "output_type": "stream",
     "text": [
      "\u001b[34m\u001b[1mwandb\u001b[0m: Adding directory to artifact (C:\\Users\\PARK\\Documents\\LAB\\RNN vs LSTM\\FInal Example\\wandb\\run-20221015_190827-1kgjbxck\\files\\model-best)... Done. 0.0s\n"
     ]
    },
    {
     "name": "stdout",
     "output_type": "stream",
     "text": [
      "5/5 [==============================] - 2s 490ms/step - loss: 0.0296 - mae: 0.1320 - val_loss: 0.0305 - val_mae: 0.1374\n",
      "Epoch 46/2000\n",
      "5/5 [==============================] - ETA: 0s - loss: 0.0284 - mae: 0.1304INFO:tensorflow:Assets written to: C:\\Users\\PARK\\Documents\\LAB\\RNN vs LSTM\\FInal Example\\wandb\\run-20221015_190827-1kgjbxck\\files\\model-best\\assets\n"
     ]
    },
    {
     "name": "stderr",
     "output_type": "stream",
     "text": [
      "\u001b[34m\u001b[1mwandb\u001b[0m: Adding directory to artifact (C:\\Users\\PARK\\Documents\\LAB\\RNN vs LSTM\\FInal Example\\wandb\\run-20221015_190827-1kgjbxck\\files\\model-best)... Done. 0.0s\n"
     ]
    },
    {
     "name": "stdout",
     "output_type": "stream",
     "text": [
      "5/5 [==============================] - 2s 485ms/step - loss: 0.0284 - mae: 0.1304 - val_loss: 0.0291 - val_mae: 0.1343\n",
      "Epoch 47/2000\n",
      "5/5 [==============================] - ETA: 0s - loss: 0.0263 - mae: 0.1251INFO:tensorflow:Assets written to: C:\\Users\\PARK\\Documents\\LAB\\RNN vs LSTM\\FInal Example\\wandb\\run-20221015_190827-1kgjbxck\\files\\model-best\\assets\n"
     ]
    },
    {
     "name": "stderr",
     "output_type": "stream",
     "text": [
      "\u001b[34m\u001b[1mwandb\u001b[0m: Adding directory to artifact (C:\\Users\\PARK\\Documents\\LAB\\RNN vs LSTM\\FInal Example\\wandb\\run-20221015_190827-1kgjbxck\\files\\model-best)... Done. 0.0s\n"
     ]
    },
    {
     "name": "stdout",
     "output_type": "stream",
     "text": [
      "5/5 [==============================] - 2s 536ms/step - loss: 0.0263 - mae: 0.1251 - val_loss: 0.0275 - val_mae: 0.1316\n",
      "Epoch 48/2000\n",
      "5/5 [==============================] - ETA: 0s - loss: 0.0253 - mae: 0.1231INFO:tensorflow:Assets written to: C:\\Users\\PARK\\Documents\\LAB\\RNN vs LSTM\\FInal Example\\wandb\\run-20221015_190827-1kgjbxck\\files\\model-best\\assets\n"
     ]
    },
    {
     "name": "stderr",
     "output_type": "stream",
     "text": [
      "\u001b[34m\u001b[1mwandb\u001b[0m: Adding directory to artifact (C:\\Users\\PARK\\Documents\\LAB\\RNN vs LSTM\\FInal Example\\wandb\\run-20221015_190827-1kgjbxck\\files\\model-best)... Done. 0.0s\n"
     ]
    },
    {
     "name": "stdout",
     "output_type": "stream",
     "text": [
      "5/5 [==============================] - 2s 516ms/step - loss: 0.0253 - mae: 0.1231 - val_loss: 0.0262 - val_mae: 0.1288\n",
      "Epoch 49/2000\n",
      "5/5 [==============================] - 1s 150ms/step - loss: 0.0240 - mae: 0.1201 - val_loss: 0.0273 - val_mae: 0.1299\n",
      "Epoch 50/2000\n",
      "5/5 [==============================] - ETA: 0s - loss: 0.0243 - mae: 0.1211INFO:tensorflow:Assets written to: C:\\Users\\PARK\\Documents\\LAB\\RNN vs LSTM\\FInal Example\\wandb\\run-20221015_190827-1kgjbxck\\files\\model-best\\assets\n"
     ]
    },
    {
     "name": "stderr",
     "output_type": "stream",
     "text": [
      "\u001b[34m\u001b[1mwandb\u001b[0m: Adding directory to artifact (C:\\Users\\PARK\\Documents\\LAB\\RNN vs LSTM\\FInal Example\\wandb\\run-20221015_190827-1kgjbxck\\files\\model-best)... Done. 0.0s\n"
     ]
    },
    {
     "name": "stdout",
     "output_type": "stream",
     "text": [
      "5/5 [==============================] - 2s 480ms/step - loss: 0.0243 - mae: 0.1211 - val_loss: 0.0241 - val_mae: 0.1236\n",
      "Epoch 51/2000\n",
      "5/5 [==============================] - ETA: 0s - loss: 0.0223 - mae: 0.1160INFO:tensorflow:Assets written to: C:\\Users\\PARK\\Documents\\LAB\\RNN vs LSTM\\FInal Example\\wandb\\run-20221015_190827-1kgjbxck\\files\\model-best\\assets\n"
     ]
    },
    {
     "name": "stderr",
     "output_type": "stream",
     "text": [
      "\u001b[34m\u001b[1mwandb\u001b[0m: Adding directory to artifact (C:\\Users\\PARK\\Documents\\LAB\\RNN vs LSTM\\FInal Example\\wandb\\run-20221015_190827-1kgjbxck\\files\\model-best)... Done. 0.0s\n"
     ]
    },
    {
     "name": "stdout",
     "output_type": "stream",
     "text": [
      "5/5 [==============================] - 2s 518ms/step - loss: 0.0223 - mae: 0.1160 - val_loss: 0.0232 - val_mae: 0.1218\n",
      "Epoch 52/2000\n",
      "5/5 [==============================] - ETA: 0s - loss: 0.0216 - mae: 0.1143INFO:tensorflow:Assets written to: C:\\Users\\PARK\\Documents\\LAB\\RNN vs LSTM\\FInal Example\\wandb\\run-20221015_190827-1kgjbxck\\files\\model-best\\assets\n"
     ]
    },
    {
     "name": "stderr",
     "output_type": "stream",
     "text": [
      "\u001b[34m\u001b[1mwandb\u001b[0m: Adding directory to artifact (C:\\Users\\PARK\\Documents\\LAB\\RNN vs LSTM\\FInal Example\\wandb\\run-20221015_190827-1kgjbxck\\files\\model-best)... Done. 0.0s\n"
     ]
    },
    {
     "name": "stdout",
     "output_type": "stream",
     "text": [
      "5/5 [==============================] - 2s 485ms/step - loss: 0.0216 - mae: 0.1143 - val_loss: 0.0221 - val_mae: 0.1191\n",
      "Epoch 53/2000\n",
      "5/5 [==============================] - ETA: 0s - loss: 0.0206 - mae: 0.1114INFO:tensorflow:Assets written to: C:\\Users\\PARK\\Documents\\LAB\\RNN vs LSTM\\FInal Example\\wandb\\run-20221015_190827-1kgjbxck\\files\\model-best\\assets\n"
     ]
    },
    {
     "name": "stderr",
     "output_type": "stream",
     "text": [
      "\u001b[34m\u001b[1mwandb\u001b[0m: Adding directory to artifact (C:\\Users\\PARK\\Documents\\LAB\\RNN vs LSTM\\FInal Example\\wandb\\run-20221015_190827-1kgjbxck\\files\\model-best)... Done. 0.0s\n"
     ]
    },
    {
     "name": "stdout",
     "output_type": "stream",
     "text": [
      "5/5 [==============================] - 2s 548ms/step - loss: 0.0206 - mae: 0.1114 - val_loss: 0.0213 - val_mae: 0.1163\n",
      "Epoch 54/2000\n",
      "5/5 [==============================] - 1s 150ms/step - loss: 0.0199 - mae: 0.1093 - val_loss: 0.0213 - val_mae: 0.1167\n",
      "Epoch 55/2000\n",
      "5/5 [==============================] - 1s 142ms/step - loss: 0.0194 - mae: 0.1083 - val_loss: 0.0217 - val_mae: 0.1173\n",
      "Epoch 56/2000\n",
      "5/5 [==============================] - ETA: 0s - loss: 0.0197 - mae: 0.1095INFO:tensorflow:Assets written to: C:\\Users\\PARK\\Documents\\LAB\\RNN vs LSTM\\FInal Example\\wandb\\run-20221015_190827-1kgjbxck\\files\\model-best\\assets\n"
     ]
    },
    {
     "name": "stderr",
     "output_type": "stream",
     "text": [
      "\u001b[34m\u001b[1mwandb\u001b[0m: Adding directory to artifact (C:\\Users\\PARK\\Documents\\LAB\\RNN vs LSTM\\FInal Example\\wandb\\run-20221015_190827-1kgjbxck\\files\\model-best)... Done. 0.0s\n"
     ]
    },
    {
     "name": "stdout",
     "output_type": "stream",
     "text": [
      "5/5 [==============================] - 2s 474ms/step - loss: 0.0197 - mae: 0.1095 - val_loss: 0.0200 - val_mae: 0.1126\n",
      "Epoch 57/2000\n",
      "5/5 [==============================] - 1s 156ms/step - loss: 0.0203 - mae: 0.1119 - val_loss: 0.0202 - val_mae: 0.1126\n",
      "Epoch 58/2000\n",
      "5/5 [==============================] - 1s 151ms/step - loss: 0.0184 - mae: 0.1060 - val_loss: 0.0217 - val_mae: 0.1163\n",
      "Epoch 59/2000\n",
      "5/5 [==============================] - ETA: 0s - loss: 0.0185 - mae: 0.1062INFO:tensorflow:Assets written to: C:\\Users\\PARK\\Documents\\LAB\\RNN vs LSTM\\FInal Example\\wandb\\run-20221015_190827-1kgjbxck\\files\\model-best\\assets\n"
     ]
    },
    {
     "name": "stderr",
     "output_type": "stream",
     "text": [
      "\u001b[34m\u001b[1mwandb\u001b[0m: Adding directory to artifact (C:\\Users\\PARK\\Documents\\LAB\\RNN vs LSTM\\FInal Example\\wandb\\run-20221015_190827-1kgjbxck\\files\\model-best)... Done. 0.0s\n"
     ]
    },
    {
     "name": "stdout",
     "output_type": "stream",
     "text": [
      "5/5 [==============================] - 2s 471ms/step - loss: 0.0185 - mae: 0.1062 - val_loss: 0.0192 - val_mae: 0.1098\n",
      "Epoch 60/2000\n",
      "5/5 [==============================] - ETA: 0s - loss: 0.0172 - mae: 0.1020INFO:tensorflow:Assets written to: C:\\Users\\PARK\\Documents\\LAB\\RNN vs LSTM\\FInal Example\\wandb\\run-20221015_190827-1kgjbxck\\files\\model-best\\assets\n"
     ]
    },
    {
     "name": "stderr",
     "output_type": "stream",
     "text": [
      "\u001b[34m\u001b[1mwandb\u001b[0m: Adding directory to artifact (C:\\Users\\PARK\\Documents\\LAB\\RNN vs LSTM\\FInal Example\\wandb\\run-20221015_190827-1kgjbxck\\files\\model-best)... Done. 0.0s\n"
     ]
    },
    {
     "name": "stdout",
     "output_type": "stream",
     "text": [
      "5/5 [==============================] - 2s 515ms/step - loss: 0.0172 - mae: 0.1020 - val_loss: 0.0172 - val_mae: 0.1038\n",
      "Epoch 61/2000\n",
      "5/5 [==============================] - ETA: 0s - loss: 0.0159 - mae: 0.0979INFO:tensorflow:Assets written to: C:\\Users\\PARK\\Documents\\LAB\\RNN vs LSTM\\FInal Example\\wandb\\run-20221015_190827-1kgjbxck\\files\\model-best\\assets\n"
     ]
    },
    {
     "name": "stderr",
     "output_type": "stream",
     "text": [
      "\u001b[34m\u001b[1mwandb\u001b[0m: Adding directory to artifact (C:\\Users\\PARK\\Documents\\LAB\\RNN vs LSTM\\FInal Example\\wandb\\run-20221015_190827-1kgjbxck\\files\\model-best)... Done. 0.0s\n"
     ]
    },
    {
     "name": "stdout",
     "output_type": "stream",
     "text": [
      "5/5 [==============================] - 2s 509ms/step - loss: 0.0159 - mae: 0.0979 - val_loss: 0.0169 - val_mae: 0.1033\n",
      "Epoch 62/2000\n",
      "5/5 [==============================] - 1s 161ms/step - loss: 0.0157 - mae: 0.0978 - val_loss: 0.0171 - val_mae: 0.1038\n",
      "Epoch 63/2000\n",
      "4/5 [=======================>......] - ETA: 0s - loss: 0.0153 - mae: 0.0965INFO:tensorflow:Assets written to: C:\\Users\\PARK\\Documents\\LAB\\RNN vs LSTM\\FInal Example\\wandb\\run-20221015_190827-1kgjbxck\\files\\model-best\\assets\n"
     ]
    },
    {
     "name": "stderr",
     "output_type": "stream",
     "text": [
      "\u001b[34m\u001b[1mwandb\u001b[0m: Adding directory to artifact (C:\\Users\\PARK\\Documents\\LAB\\RNN vs LSTM\\FInal Example\\wandb\\run-20221015_190827-1kgjbxck\\files\\model-best)... Done. 0.0s\n"
     ]
    },
    {
     "name": "stdout",
     "output_type": "stream",
     "text": [
      "5/5 [==============================] - 2s 475ms/step - loss: 0.0151 - mae: 0.0959 - val_loss: 0.0163 - val_mae: 0.1018\n",
      "Epoch 64/2000\n",
      "5/5 [==============================] - ETA: 0s - loss: 0.0146 - mae: 0.0944INFO:tensorflow:Assets written to: C:\\Users\\PARK\\Documents\\LAB\\RNN vs LSTM\\FInal Example\\wandb\\run-20221015_190827-1kgjbxck\\files\\model-best\\assets\n"
     ]
    },
    {
     "name": "stderr",
     "output_type": "stream",
     "text": [
      "\u001b[34m\u001b[1mwandb\u001b[0m: Adding directory to artifact (C:\\Users\\PARK\\Documents\\LAB\\RNN vs LSTM\\FInal Example\\wandb\\run-20221015_190827-1kgjbxck\\files\\model-best)... Done. 0.0s\n"
     ]
    },
    {
     "name": "stdout",
     "output_type": "stream",
     "text": [
      "5/5 [==============================] - 2s 517ms/step - loss: 0.0146 - mae: 0.0944 - val_loss: 0.0161 - val_mae: 0.1010\n",
      "Epoch 65/2000\n",
      "5/5 [==============================] - ETA: 0s - loss: 0.0144 - mae: 0.0942INFO:tensorflow:Assets written to: C:\\Users\\PARK\\Documents\\LAB\\RNN vs LSTM\\FInal Example\\wandb\\run-20221015_190827-1kgjbxck\\files\\model-best\\assets\n"
     ]
    },
    {
     "name": "stderr",
     "output_type": "stream",
     "text": [
      "\u001b[34m\u001b[1mwandb\u001b[0m: Adding directory to artifact (C:\\Users\\PARK\\Documents\\LAB\\RNN vs LSTM\\FInal Example\\wandb\\run-20221015_190827-1kgjbxck\\files\\model-best)... Done. 0.0s\n"
     ]
    },
    {
     "name": "stdout",
     "output_type": "stream",
     "text": [
      "5/5 [==============================] - 2s 486ms/step - loss: 0.0144 - mae: 0.0942 - val_loss: 0.0155 - val_mae: 0.0983\n",
      "Epoch 66/2000\n",
      "5/5 [==============================] - ETA: 0s - loss: 0.0148 - mae: 0.0948INFO:tensorflow:Assets written to: C:\\Users\\PARK\\Documents\\LAB\\RNN vs LSTM\\FInal Example\\wandb\\run-20221015_190827-1kgjbxck\\files\\model-best\\assets\n"
     ]
    },
    {
     "name": "stderr",
     "output_type": "stream",
     "text": [
      "\u001b[34m\u001b[1mwandb\u001b[0m: Adding directory to artifact (C:\\Users\\PARK\\Documents\\LAB\\RNN vs LSTM\\FInal Example\\wandb\\run-20221015_190827-1kgjbxck\\files\\model-best)... Done. 0.0s\n"
     ]
    },
    {
     "name": "stdout",
     "output_type": "stream",
     "text": [
      "5/5 [==============================] - 2s 501ms/step - loss: 0.0148 - mae: 0.0948 - val_loss: 0.0151 - val_mae: 0.0969\n",
      "Epoch 67/2000\n",
      "5/5 [==============================] - 1s 155ms/step - loss: 0.0142 - mae: 0.0938 - val_loss: 0.0168 - val_mae: 0.1028\n",
      "Epoch 68/2000\n",
      "5/5 [==============================] - 1s 145ms/step - loss: 0.0140 - mae: 0.0925 - val_loss: 0.0156 - val_mae: 0.0992\n",
      "Epoch 69/2000\n",
      "5/5 [==============================] - ETA: 0s - loss: 0.0136 - mae: 0.0912INFO:tensorflow:Assets written to: C:\\Users\\PARK\\Documents\\LAB\\RNN vs LSTM\\FInal Example\\wandb\\run-20221015_190827-1kgjbxck\\files\\model-best\\assets\n"
     ]
    },
    {
     "name": "stderr",
     "output_type": "stream",
     "text": [
      "\u001b[34m\u001b[1mwandb\u001b[0m: Adding directory to artifact (C:\\Users\\PARK\\Documents\\LAB\\RNN vs LSTM\\FInal Example\\wandb\\run-20221015_190827-1kgjbxck\\files\\model-best)... Done. 0.0s\n"
     ]
    },
    {
     "name": "stdout",
     "output_type": "stream",
     "text": [
      "5/5 [==============================] - 2s 498ms/step - loss: 0.0136 - mae: 0.0912 - val_loss: 0.0148 - val_mae: 0.0959\n",
      "Epoch 70/2000\n",
      "5/5 [==============================] - ETA: 0s - loss: 0.0132 - mae: 0.0901INFO:tensorflow:Assets written to: C:\\Users\\PARK\\Documents\\LAB\\RNN vs LSTM\\FInal Example\\wandb\\run-20221015_190827-1kgjbxck\\files\\model-best\\assets\n"
     ]
    },
    {
     "name": "stderr",
     "output_type": "stream",
     "text": [
      "\u001b[34m\u001b[1mwandb\u001b[0m: Adding directory to artifact (C:\\Users\\PARK\\Documents\\LAB\\RNN vs LSTM\\FInal Example\\wandb\\run-20221015_190827-1kgjbxck\\files\\model-best)... Done. 0.0s\n"
     ]
    },
    {
     "name": "stdout",
     "output_type": "stream",
     "text": [
      "5/5 [==============================] - 2s 487ms/step - loss: 0.0132 - mae: 0.0901 - val_loss: 0.0141 - val_mae: 0.0932\n",
      "Epoch 71/2000\n",
      "5/5 [==============================] - ETA: 0s - loss: 0.0132 - mae: 0.0899INFO:tensorflow:Assets written to: C:\\Users\\PARK\\Documents\\LAB\\RNN vs LSTM\\FInal Example\\wandb\\run-20221015_190827-1kgjbxck\\files\\model-best\\assets\n"
     ]
    },
    {
     "name": "stderr",
     "output_type": "stream",
     "text": [
      "\u001b[34m\u001b[1mwandb\u001b[0m: Adding directory to artifact (C:\\Users\\PARK\\Documents\\LAB\\RNN vs LSTM\\FInal Example\\wandb\\run-20221015_190827-1kgjbxck\\files\\model-best)... Done. 0.0s\n"
     ]
    },
    {
     "name": "stdout",
     "output_type": "stream",
     "text": [
      "5/5 [==============================] - 2s 481ms/step - loss: 0.0132 - mae: 0.0899 - val_loss: 0.0139 - val_mae: 0.0925\n",
      "Epoch 72/2000\n",
      "5/5 [==============================] - 1s 168ms/step - loss: 0.0128 - mae: 0.0899 - val_loss: 0.0142 - val_mae: 0.0947\n",
      "Epoch 73/2000\n",
      "5/5 [==============================] - ETA: 0s - loss: 0.0129 - mae: 0.0894INFO:tensorflow:Assets written to: C:\\Users\\PARK\\Documents\\LAB\\RNN vs LSTM\\FInal Example\\wandb\\run-20221015_190827-1kgjbxck\\files\\model-best\\assets\n"
     ]
    },
    {
     "name": "stderr",
     "output_type": "stream",
     "text": [
      "\u001b[34m\u001b[1mwandb\u001b[0m: Adding directory to artifact (C:\\Users\\PARK\\Documents\\LAB\\RNN vs LSTM\\FInal Example\\wandb\\run-20221015_190827-1kgjbxck\\files\\model-best)... Done. 0.0s\n"
     ]
    },
    {
     "name": "stdout",
     "output_type": "stream",
     "text": [
      "5/5 [==============================] - 2s 504ms/step - loss: 0.0129 - mae: 0.0894 - val_loss: 0.0133 - val_mae: 0.0904\n",
      "Epoch 74/2000\n",
      "5/5 [==============================] - 1s 188ms/step - loss: 0.0124 - mae: 0.0873 - val_loss: 0.0134 - val_mae: 0.0918\n",
      "Epoch 75/2000\n",
      "5/5 [==============================] - ETA: 0s - loss: 0.0123 - mae: 0.0874INFO:tensorflow:Assets written to: C:\\Users\\PARK\\Documents\\LAB\\RNN vs LSTM\\FInal Example\\wandb\\run-20221015_190827-1kgjbxck\\files\\model-best\\assets\n"
     ]
    },
    {
     "name": "stderr",
     "output_type": "stream",
     "text": [
      "\u001b[34m\u001b[1mwandb\u001b[0m: Adding directory to artifact (C:\\Users\\PARK\\Documents\\LAB\\RNN vs LSTM\\FInal Example\\wandb\\run-20221015_190827-1kgjbxck\\files\\model-best)... Done. 0.0s\n"
     ]
    },
    {
     "name": "stdout",
     "output_type": "stream",
     "text": [
      "5/5 [==============================] - 2s 481ms/step - loss: 0.0123 - mae: 0.0874 - val_loss: 0.0132 - val_mae: 0.0905\n",
      "Epoch 76/2000\n",
      "5/5 [==============================] - ETA: 0s - loss: 0.0117 - mae: 0.0852INFO:tensorflow:Assets written to: C:\\Users\\PARK\\Documents\\LAB\\RNN vs LSTM\\FInal Example\\wandb\\run-20221015_190827-1kgjbxck\\files\\model-best\\assets\n"
     ]
    },
    {
     "name": "stderr",
     "output_type": "stream",
     "text": [
      "\u001b[34m\u001b[1mwandb\u001b[0m: Adding directory to artifact (C:\\Users\\PARK\\Documents\\LAB\\RNN vs LSTM\\FInal Example\\wandb\\run-20221015_190827-1kgjbxck\\files\\model-best)... Done. 0.0s\n"
     ]
    },
    {
     "name": "stdout",
     "output_type": "stream",
     "text": [
      "5/5 [==============================] - 2s 509ms/step - loss: 0.0117 - mae: 0.0852 - val_loss: 0.0131 - val_mae: 0.0894\n",
      "Epoch 77/2000\n",
      "5/5 [==============================] - 1s 170ms/step - loss: 0.0116 - mae: 0.0849 - val_loss: 0.0141 - val_mae: 0.0944\n",
      "Epoch 78/2000\n",
      "5/5 [==============================] - 1s 151ms/step - loss: 0.0123 - mae: 0.0882 - val_loss: 0.0135 - val_mae: 0.0913\n",
      "Epoch 79/2000\n",
      "5/5 [==============================] - 1s 143ms/step - loss: 0.0129 - mae: 0.0895 - val_loss: 0.0133 - val_mae: 0.0906\n",
      "Epoch 80/2000\n",
      "5/5 [==============================] - ETA: 0s - loss: 0.0131 - mae: 0.0912INFO:tensorflow:Assets written to: C:\\Users\\PARK\\Documents\\LAB\\RNN vs LSTM\\FInal Example\\wandb\\run-20221015_190827-1kgjbxck\\files\\model-best\\assets\n"
     ]
    },
    {
     "name": "stderr",
     "output_type": "stream",
     "text": [
      "\u001b[34m\u001b[1mwandb\u001b[0m: Adding directory to artifact (C:\\Users\\PARK\\Documents\\LAB\\RNN vs LSTM\\FInal Example\\wandb\\run-20221015_190827-1kgjbxck\\files\\model-best)... Done. 0.0s\n"
     ]
    },
    {
     "name": "stdout",
     "output_type": "stream",
     "text": [
      "5/5 [==============================] - 2s 479ms/step - loss: 0.0131 - mae: 0.0912 - val_loss: 0.0120 - val_mae: 0.0861\n",
      "Epoch 81/2000\n",
      "5/5 [==============================] - 1s 162ms/step - loss: 0.0125 - mae: 0.0874 - val_loss: 0.0153 - val_mae: 0.0985\n",
      "Epoch 82/2000\n",
      "5/5 [==============================] - 1s 159ms/step - loss: 0.0126 - mae: 0.0898 - val_loss: 0.0138 - val_mae: 0.0925\n",
      "Epoch 83/2000\n",
      "5/5 [==============================] - ETA: 0s - loss: 0.0116 - mae: 0.0848INFO:tensorflow:Assets written to: C:\\Users\\PARK\\Documents\\LAB\\RNN vs LSTM\\FInal Example\\wandb\\run-20221015_190827-1kgjbxck\\files\\model-best\\assets\n"
     ]
    },
    {
     "name": "stderr",
     "output_type": "stream",
     "text": [
      "\u001b[34m\u001b[1mwandb\u001b[0m: Adding directory to artifact (C:\\Users\\PARK\\Documents\\LAB\\RNN vs LSTM\\FInal Example\\wandb\\run-20221015_190827-1kgjbxck\\files\\model-best)... Done. 0.0s\n"
     ]
    },
    {
     "name": "stdout",
     "output_type": "stream",
     "text": [
      "5/5 [==============================] - 2s 484ms/step - loss: 0.0116 - mae: 0.0848 - val_loss: 0.0116 - val_mae: 0.0843\n",
      "Epoch 84/2000\n",
      "5/5 [==============================] - 1s 143ms/step - loss: 0.0110 - mae: 0.0823 - val_loss: 0.0122 - val_mae: 0.0868\n",
      "Epoch 85/2000\n",
      "5/5 [==============================] - 1s 147ms/step - loss: 0.0108 - mae: 0.0819 - val_loss: 0.0127 - val_mae: 0.0883\n",
      "Epoch 86/2000\n",
      "5/5 [==============================] - 1s 136ms/step - loss: 0.0112 - mae: 0.0832 - val_loss: 0.0118 - val_mae: 0.0859\n",
      "Epoch 87/2000\n",
      "5/5 [==============================] - ETA: 0s - loss: 0.0100 - mae: 0.0794INFO:tensorflow:Assets written to: C:\\Users\\PARK\\Documents\\LAB\\RNN vs LSTM\\FInal Example\\wandb\\run-20221015_190827-1kgjbxck\\files\\model-best\\assets\n"
     ]
    },
    {
     "name": "stderr",
     "output_type": "stream",
     "text": [
      "\u001b[34m\u001b[1mwandb\u001b[0m: Adding directory to artifact (C:\\Users\\PARK\\Documents\\LAB\\RNN vs LSTM\\FInal Example\\wandb\\run-20221015_190827-1kgjbxck\\files\\model-best)... Done. 0.0s\n"
     ]
    },
    {
     "name": "stdout",
     "output_type": "stream",
     "text": [
      "5/5 [==============================] - 2s 493ms/step - loss: 0.0100 - mae: 0.0794 - val_loss: 0.0113 - val_mae: 0.0835\n",
      "Epoch 88/2000\n",
      "5/5 [==============================] - 1s 165ms/step - loss: 0.0102 - mae: 0.0798 - val_loss: 0.0118 - val_mae: 0.0858\n",
      "Epoch 89/2000\n",
      "5/5 [==============================] - 1s 154ms/step - loss: 0.0100 - mae: 0.0785 - val_loss: 0.0124 - val_mae: 0.0884\n",
      "Epoch 90/2000\n",
      "5/5 [==============================] - 1s 155ms/step - loss: 0.0101 - mae: 0.0795 - val_loss: 0.0124 - val_mae: 0.0879\n",
      "Epoch 91/2000\n",
      "5/5 [==============================] - 1s 144ms/step - loss: 0.0108 - mae: 0.0825 - val_loss: 0.0114 - val_mae: 0.0845\n",
      "Epoch 92/2000\n",
      "4/5 [=======================>......] - ETA: 0s - loss: 0.0102 - mae: 0.0797INFO:tensorflow:Assets written to: C:\\Users\\PARK\\Documents\\LAB\\RNN vs LSTM\\FInal Example\\wandb\\run-20221015_190827-1kgjbxck\\files\\model-best\\assets\n"
     ]
    },
    {
     "name": "stderr",
     "output_type": "stream",
     "text": [
      "\u001b[34m\u001b[1mwandb\u001b[0m: Adding directory to artifact (C:\\Users\\PARK\\Documents\\LAB\\RNN vs LSTM\\FInal Example\\wandb\\run-20221015_190827-1kgjbxck\\files\\model-best)... Done. 0.0s\n"
     ]
    },
    {
     "name": "stdout",
     "output_type": "stream",
     "text": [
      "5/5 [==============================] - 2s 465ms/step - loss: 0.0100 - mae: 0.0789 - val_loss: 0.0106 - val_mae: 0.0808\n",
      "Epoch 93/2000\n",
      "5/5 [==============================] - 1s 169ms/step - loss: 0.0093 - mae: 0.0765 - val_loss: 0.0109 - val_mae: 0.0822\n",
      "Epoch 94/2000\n",
      "5/5 [==============================] - ETA: 0s - loss: 0.0089 - mae: 0.0748INFO:tensorflow:Assets written to: C:\\Users\\PARK\\Documents\\LAB\\RNN vs LSTM\\FInal Example\\wandb\\run-20221015_190827-1kgjbxck\\files\\model-best\\assets\n"
     ]
    },
    {
     "name": "stderr",
     "output_type": "stream",
     "text": [
      "\u001b[34m\u001b[1mwandb\u001b[0m: Adding directory to artifact (C:\\Users\\PARK\\Documents\\LAB\\RNN vs LSTM\\FInal Example\\wandb\\run-20221015_190827-1kgjbxck\\files\\model-best)... Done. 0.0s\n"
     ]
    },
    {
     "name": "stdout",
     "output_type": "stream",
     "text": [
      "5/5 [==============================] - 2s 496ms/step - loss: 0.0089 - mae: 0.0748 - val_loss: 0.0104 - val_mae: 0.0796\n",
      "Epoch 95/2000\n",
      "5/5 [==============================] - ETA: 0s - loss: 0.0090 - mae: 0.0750INFO:tensorflow:Assets written to: C:\\Users\\PARK\\Documents\\LAB\\RNN vs LSTM\\FInal Example\\wandb\\run-20221015_190827-1kgjbxck\\files\\model-best\\assets\n"
     ]
    },
    {
     "name": "stderr",
     "output_type": "stream",
     "text": [
      "\u001b[34m\u001b[1mwandb\u001b[0m: Adding directory to artifact (C:\\Users\\PARK\\Documents\\LAB\\RNN vs LSTM\\FInal Example\\wandb\\run-20221015_190827-1kgjbxck\\files\\model-best)... Done. 0.0s\n"
     ]
    },
    {
     "name": "stdout",
     "output_type": "stream",
     "text": [
      "5/5 [==============================] - 2s 500ms/step - loss: 0.0090 - mae: 0.0750 - val_loss: 0.0103 - val_mae: 0.0796\n",
      "Epoch 96/2000\n",
      "5/5 [==============================] - ETA: 0s - loss: 0.0092 - mae: 0.0759INFO:tensorflow:Assets written to: C:\\Users\\PARK\\Documents\\LAB\\RNN vs LSTM\\FInal Example\\wandb\\run-20221015_190827-1kgjbxck\\files\\model-best\\assets\n"
     ]
    },
    {
     "name": "stderr",
     "output_type": "stream",
     "text": [
      "\u001b[34m\u001b[1mwandb\u001b[0m: Adding directory to artifact (C:\\Users\\PARK\\Documents\\LAB\\RNN vs LSTM\\FInal Example\\wandb\\run-20221015_190827-1kgjbxck\\files\\model-best)... Done. 0.0s\n"
     ]
    },
    {
     "name": "stdout",
     "output_type": "stream",
     "text": [
      "5/5 [==============================] - 2s 493ms/step - loss: 0.0092 - mae: 0.0759 - val_loss: 0.0103 - val_mae: 0.0794\n",
      "Epoch 97/2000\n",
      "5/5 [==============================] - 1s 153ms/step - loss: 0.0088 - mae: 0.0744 - val_loss: 0.0121 - val_mae: 0.0869\n",
      "Epoch 98/2000\n",
      "5/5 [==============================] - 1s 144ms/step - loss: 0.0096 - mae: 0.0780 - val_loss: 0.0112 - val_mae: 0.0842\n",
      "Epoch 99/2000\n",
      "5/5 [==============================] - ETA: 0s - loss: 0.0092 - mae: 0.0768INFO:tensorflow:Assets written to: C:\\Users\\PARK\\Documents\\LAB\\RNN vs LSTM\\FInal Example\\wandb\\run-20221015_190827-1kgjbxck\\files\\model-best\\assets\n"
     ]
    },
    {
     "name": "stderr",
     "output_type": "stream",
     "text": [
      "\u001b[34m\u001b[1mwandb\u001b[0m: Adding directory to artifact (C:\\Users\\PARK\\Documents\\LAB\\RNN vs LSTM\\FInal Example\\wandb\\run-20221015_190827-1kgjbxck\\files\\model-best)... Done. 0.0s\n"
     ]
    },
    {
     "name": "stdout",
     "output_type": "stream",
     "text": [
      "5/5 [==============================] - 2s 495ms/step - loss: 0.0092 - mae: 0.0768 - val_loss: 0.0100 - val_mae: 0.0795\n",
      "Epoch 100/2000\n",
      "5/5 [==============================] - 1s 178ms/step - loss: 0.0088 - mae: 0.0748 - val_loss: 0.0103 - val_mae: 0.0793\n",
      "Epoch 101/2000\n",
      "5/5 [==============================] - ETA: 0s - loss: 0.0083 - mae: 0.0723INFO:tensorflow:Assets written to: C:\\Users\\PARK\\Documents\\LAB\\RNN vs LSTM\\FInal Example\\wandb\\run-20221015_190827-1kgjbxck\\files\\model-best\\assets\n"
     ]
    },
    {
     "name": "stderr",
     "output_type": "stream",
     "text": [
      "\u001b[34m\u001b[1mwandb\u001b[0m: Adding directory to artifact (C:\\Users\\PARK\\Documents\\LAB\\RNN vs LSTM\\FInal Example\\wandb\\run-20221015_190827-1kgjbxck\\files\\model-best)... Done. 0.0s\n"
     ]
    },
    {
     "name": "stdout",
     "output_type": "stream",
     "text": [
      "5/5 [==============================] - 2s 470ms/step - loss: 0.0083 - mae: 0.0723 - val_loss: 0.0099 - val_mae: 0.0789\n",
      "Epoch 102/2000\n",
      "5/5 [==============================] - ETA: 0s - loss: 0.0084 - mae: 0.0727INFO:tensorflow:Assets written to: C:\\Users\\PARK\\Documents\\LAB\\RNN vs LSTM\\FInal Example\\wandb\\run-20221015_190827-1kgjbxck\\files\\model-best\\assets\n"
     ]
    },
    {
     "name": "stderr",
     "output_type": "stream",
     "text": [
      "\u001b[34m\u001b[1mwandb\u001b[0m: Adding directory to artifact (C:\\Users\\PARK\\Documents\\LAB\\RNN vs LSTM\\FInal Example\\wandb\\run-20221015_190827-1kgjbxck\\files\\model-best)... Done. 0.0s\n"
     ]
    },
    {
     "name": "stdout",
     "output_type": "stream",
     "text": [
      "5/5 [==============================] - 2s 498ms/step - loss: 0.0084 - mae: 0.0727 - val_loss: 0.0097 - val_mae: 0.0767\n",
      "Epoch 103/2000\n",
      "5/5 [==============================] - 1s 161ms/step - loss: 0.0083 - mae: 0.0719 - val_loss: 0.0102 - val_mae: 0.0793\n",
      "Epoch 104/2000\n",
      "5/5 [==============================] - 1s 150ms/step - loss: 0.0085 - mae: 0.0734 - val_loss: 0.0105 - val_mae: 0.0801\n",
      "Epoch 105/2000\n",
      "5/5 [==============================] - 1s 152ms/step - loss: 0.0085 - mae: 0.0730 - val_loss: 0.0100 - val_mae: 0.0787\n",
      "Epoch 106/2000\n",
      "5/5 [==============================] - 1s 146ms/step - loss: 0.0081 - mae: 0.0714 - val_loss: 0.0098 - val_mae: 0.0776\n",
      "Epoch 107/2000\n",
      "5/5 [==============================] - ETA: 0s - loss: 0.0079 - mae: 0.0703INFO:tensorflow:Assets written to: C:\\Users\\PARK\\Documents\\LAB\\RNN vs LSTM\\FInal Example\\wandb\\run-20221015_190827-1kgjbxck\\files\\model-best\\assets\n"
     ]
    },
    {
     "name": "stderr",
     "output_type": "stream",
     "text": [
      "\u001b[34m\u001b[1mwandb\u001b[0m: Adding directory to artifact (C:\\Users\\PARK\\Documents\\LAB\\RNN vs LSTM\\FInal Example\\wandb\\run-20221015_190827-1kgjbxck\\files\\model-best)... Done. 0.0s\n"
     ]
    },
    {
     "name": "stdout",
     "output_type": "stream",
     "text": [
      "5/5 [==============================] - 2s 485ms/step - loss: 0.0079 - mae: 0.0703 - val_loss: 0.0091 - val_mae: 0.0752\n",
      "Epoch 108/2000\n",
      "5/5 [==============================] - 1s 160ms/step - loss: 0.0077 - mae: 0.0696 - val_loss: 0.0094 - val_mae: 0.0757\n",
      "Epoch 109/2000\n",
      "5/5 [==============================] - 1s 145ms/step - loss: 0.0079 - mae: 0.0701 - val_loss: 0.0105 - val_mae: 0.0822\n",
      "Epoch 110/2000\n",
      "5/5 [==============================] - 1s 143ms/step - loss: 0.0087 - mae: 0.0745 - val_loss: 0.0099 - val_mae: 0.0779\n",
      "Epoch 111/2000\n",
      "5/5 [==============================] - 1s 136ms/step - loss: 0.0080 - mae: 0.0706 - val_loss: 0.0093 - val_mae: 0.0751\n",
      "Epoch 112/2000\n",
      "5/5 [==============================] - 1s 136ms/step - loss: 0.0086 - mae: 0.0728 - val_loss: 0.0117 - val_mae: 0.0879\n",
      "Epoch 113/2000\n",
      "5/5 [==============================] - 1s 143ms/step - loss: 0.0091 - mae: 0.0763 - val_loss: 0.0112 - val_mae: 0.0821\n",
      "Epoch 114/2000\n",
      "5/5 [==============================] - 1s 148ms/step - loss: 0.0086 - mae: 0.0736 - val_loss: 0.0098 - val_mae: 0.0792\n",
      "Epoch 115/2000\n",
      "5/5 [==============================] - 1s 134ms/step - loss: 0.0082 - mae: 0.0717 - val_loss: 0.0094 - val_mae: 0.0770\n",
      "Epoch 116/2000\n",
      "4/5 [=======================>......] - ETA: 0s - loss: 0.0080 - mae: 0.0716INFO:tensorflow:Assets written to: C:\\Users\\PARK\\Documents\\LAB\\RNN vs LSTM\\FInal Example\\wandb\\run-20221015_190827-1kgjbxck\\files\\model-best\\assets\n"
     ]
    },
    {
     "name": "stderr",
     "output_type": "stream",
     "text": [
      "\u001b[34m\u001b[1mwandb\u001b[0m: Adding directory to artifact (C:\\Users\\PARK\\Documents\\LAB\\RNN vs LSTM\\FInal Example\\wandb\\run-20221015_190827-1kgjbxck\\files\\model-best)... Done. 0.0s\n"
     ]
    },
    {
     "name": "stdout",
     "output_type": "stream",
     "text": [
      "5/5 [==============================] - 2s 469ms/step - loss: 0.0081 - mae: 0.0719 - val_loss: 0.0088 - val_mae: 0.0731\n",
      "Epoch 117/2000\n",
      "5/5 [==============================] - ETA: 0s - loss: 0.0077 - mae: 0.0694INFO:tensorflow:Assets written to: C:\\Users\\PARK\\Documents\\LAB\\RNN vs LSTM\\FInal Example\\wandb\\run-20221015_190827-1kgjbxck\\files\\model-best\\assets\n"
     ]
    },
    {
     "name": "stderr",
     "output_type": "stream",
     "text": [
      "\u001b[34m\u001b[1mwandb\u001b[0m: Adding directory to artifact (C:\\Users\\PARK\\Documents\\LAB\\RNN vs LSTM\\FInal Example\\wandb\\run-20221015_190827-1kgjbxck\\files\\model-best)... Done. 0.0s\n"
     ]
    },
    {
     "name": "stdout",
     "output_type": "stream",
     "text": [
      "5/5 [==============================] - 2s 513ms/step - loss: 0.0077 - mae: 0.0694 - val_loss: 0.0083 - val_mae: 0.0713\n",
      "Epoch 118/2000\n",
      "5/5 [==============================] - 1s 150ms/step - loss: 0.0073 - mae: 0.0675 - val_loss: 0.0087 - val_mae: 0.0738\n",
      "Epoch 119/2000\n",
      "5/5 [==============================] - 1s 141ms/step - loss: 0.0073 - mae: 0.0679 - val_loss: 0.0084 - val_mae: 0.0721\n",
      "Epoch 120/2000\n",
      "5/5 [==============================] - ETA: 0s - loss: 0.0069 - mae: 0.0660INFO:tensorflow:Assets written to: C:\\Users\\PARK\\Documents\\LAB\\RNN vs LSTM\\FInal Example\\wandb\\run-20221015_190827-1kgjbxck\\files\\model-best\\assets\n"
     ]
    },
    {
     "name": "stderr",
     "output_type": "stream",
     "text": [
      "\u001b[34m\u001b[1mwandb\u001b[0m: Adding directory to artifact (C:\\Users\\PARK\\Documents\\LAB\\RNN vs LSTM\\FInal Example\\wandb\\run-20221015_190827-1kgjbxck\\files\\model-best)... Done. 0.0s\n"
     ]
    },
    {
     "name": "stdout",
     "output_type": "stream",
     "text": [
      "5/5 [==============================] - 2s 481ms/step - loss: 0.0069 - mae: 0.0660 - val_loss: 0.0083 - val_mae: 0.0711\n",
      "Epoch 121/2000\n",
      "5/5 [==============================] - 1s 158ms/step - loss: 0.0071 - mae: 0.0673 - val_loss: 0.0090 - val_mae: 0.0764\n",
      "Epoch 122/2000\n",
      "5/5 [==============================] - ETA: 0s - loss: 0.0072 - mae: 0.0675INFO:tensorflow:Assets written to: C:\\Users\\PARK\\Documents\\LAB\\RNN vs LSTM\\FInal Example\\wandb\\run-20221015_190827-1kgjbxck\\files\\model-best\\assets\n"
     ]
    },
    {
     "name": "stderr",
     "output_type": "stream",
     "text": [
      "\u001b[34m\u001b[1mwandb\u001b[0m: Adding directory to artifact (C:\\Users\\PARK\\Documents\\LAB\\RNN vs LSTM\\FInal Example\\wandb\\run-20221015_190827-1kgjbxck\\files\\model-best)... Done. 0.0s\n"
     ]
    },
    {
     "name": "stdout",
     "output_type": "stream",
     "text": [
      "5/5 [==============================] - 2s 475ms/step - loss: 0.0072 - mae: 0.0675 - val_loss: 0.0082 - val_mae: 0.0711\n",
      "Epoch 123/2000\n",
      "5/5 [==============================] - ETA: 0s - loss: 0.0067 - mae: 0.0653INFO:tensorflow:Assets written to: C:\\Users\\PARK\\Documents\\LAB\\RNN vs LSTM\\FInal Example\\wandb\\run-20221015_190827-1kgjbxck\\files\\model-best\\assets\n"
     ]
    },
    {
     "name": "stderr",
     "output_type": "stream",
     "text": [
      "\u001b[34m\u001b[1mwandb\u001b[0m: Adding directory to artifact (C:\\Users\\PARK\\Documents\\LAB\\RNN vs LSTM\\FInal Example\\wandb\\run-20221015_190827-1kgjbxck\\files\\model-best)... Done. 0.0s\n"
     ]
    },
    {
     "name": "stdout",
     "output_type": "stream",
     "text": [
      "5/5 [==============================] - 2s 504ms/step - loss: 0.0067 - mae: 0.0653 - val_loss: 0.0078 - val_mae: 0.0692\n",
      "Epoch 124/2000\n",
      "5/5 [==============================] - 1s 173ms/step - loss: 0.0066 - mae: 0.0642 - val_loss: 0.0080 - val_mae: 0.0703\n",
      "Epoch 125/2000\n",
      "5/5 [==============================] - 1s 149ms/step - loss: 0.0063 - mae: 0.0629 - val_loss: 0.0078 - val_mae: 0.0692\n",
      "Epoch 126/2000\n",
      "5/5 [==============================] - ETA: 0s - loss: 0.0062 - mae: 0.0623INFO:tensorflow:Assets written to: C:\\Users\\PARK\\Documents\\LAB\\RNN vs LSTM\\FInal Example\\wandb\\run-20221015_190827-1kgjbxck\\files\\model-best\\assets\n"
     ]
    },
    {
     "name": "stderr",
     "output_type": "stream",
     "text": [
      "\u001b[34m\u001b[1mwandb\u001b[0m: Adding directory to artifact (C:\\Users\\PARK\\Documents\\LAB\\RNN vs LSTM\\FInal Example\\wandb\\run-20221015_190827-1kgjbxck\\files\\model-best)... Done. 0.0s\n"
     ]
    },
    {
     "name": "stdout",
     "output_type": "stream",
     "text": [
      "5/5 [==============================] - 2s 488ms/step - loss: 0.0062 - mae: 0.0623 - val_loss: 0.0075 - val_mae: 0.0682\n",
      "Epoch 127/2000\n",
      "5/5 [==============================] - 1s 168ms/step - loss: 0.0062 - mae: 0.0629 - val_loss: 0.0083 - val_mae: 0.0714\n",
      "Epoch 128/2000\n",
      "5/5 [==============================] - ETA: 0s - loss: 0.0066 - mae: 0.0648INFO:tensorflow:Assets written to: C:\\Users\\PARK\\Documents\\LAB\\RNN vs LSTM\\FInal Example\\wandb\\run-20221015_190827-1kgjbxck\\files\\model-best\\assets\n"
     ]
    },
    {
     "name": "stderr",
     "output_type": "stream",
     "text": [
      "\u001b[34m\u001b[1mwandb\u001b[0m: Adding directory to artifact (C:\\Users\\PARK\\Documents\\LAB\\RNN vs LSTM\\FInal Example\\wandb\\run-20221015_190827-1kgjbxck\\files\\model-best)... Done. 0.0s\n"
     ]
    },
    {
     "name": "stdout",
     "output_type": "stream",
     "text": [
      "5/5 [==============================] - 2s 487ms/step - loss: 0.0066 - mae: 0.0648 - val_loss: 0.0073 - val_mae: 0.0668\n",
      "Epoch 129/2000\n",
      "5/5 [==============================] - 1s 161ms/step - loss: 0.0064 - mae: 0.0633 - val_loss: 0.0079 - val_mae: 0.0695\n",
      "Epoch 130/2000\n",
      "5/5 [==============================] - 1s 151ms/step - loss: 0.0066 - mae: 0.0645 - val_loss: 0.0084 - val_mae: 0.0723\n",
      "Epoch 131/2000\n",
      "5/5 [==============================] - 1s 147ms/step - loss: 0.0065 - mae: 0.0642 - val_loss: 0.0087 - val_mae: 0.0750\n",
      "Epoch 132/2000\n",
      "5/5 [==============================] - 1s 137ms/step - loss: 0.0067 - mae: 0.0652 - val_loss: 0.0079 - val_mae: 0.0714\n",
      "Epoch 133/2000\n",
      "5/5 [==============================] - 1s 138ms/step - loss: 0.0063 - mae: 0.0636 - val_loss: 0.0076 - val_mae: 0.0690\n",
      "Epoch 134/2000\n",
      "5/5 [==============================] - 1s 146ms/step - loss: 0.0063 - mae: 0.0632 - val_loss: 0.0076 - val_mae: 0.0686\n",
      "Epoch 135/2000\n",
      "5/5 [==============================] - ETA: 0s - loss: 0.0060 - mae: 0.0613INFO:tensorflow:Assets written to: C:\\Users\\PARK\\Documents\\LAB\\RNN vs LSTM\\FInal Example\\wandb\\run-20221015_190827-1kgjbxck\\files\\model-best\\assets\n"
     ]
    },
    {
     "name": "stderr",
     "output_type": "stream",
     "text": [
      "\u001b[34m\u001b[1mwandb\u001b[0m: Adding directory to artifact (C:\\Users\\PARK\\Documents\\LAB\\RNN vs LSTM\\FInal Example\\wandb\\run-20221015_190827-1kgjbxck\\files\\model-best)... Done. 0.0s\n"
     ]
    },
    {
     "name": "stdout",
     "output_type": "stream",
     "text": [
      "5/5 [==============================] - 2s 515ms/step - loss: 0.0060 - mae: 0.0613 - val_loss: 0.0072 - val_mae: 0.0667\n",
      "Epoch 136/2000\n",
      "5/5 [==============================] - ETA: 0s - loss: 0.0057 - mae: 0.0602INFO:tensorflow:Assets written to: C:\\Users\\PARK\\Documents\\LAB\\RNN vs LSTM\\FInal Example\\wandb\\run-20221015_190827-1kgjbxck\\files\\model-best\\assets\n"
     ]
    },
    {
     "name": "stderr",
     "output_type": "stream",
     "text": [
      "\u001b[34m\u001b[1mwandb\u001b[0m: Adding directory to artifact (C:\\Users\\PARK\\Documents\\LAB\\RNN vs LSTM\\FInal Example\\wandb\\run-20221015_190827-1kgjbxck\\files\\model-best)... Done. 0.0s\n"
     ]
    },
    {
     "name": "stdout",
     "output_type": "stream",
     "text": [
      "5/5 [==============================] - 2s 500ms/step - loss: 0.0057 - mae: 0.0602 - val_loss: 0.0071 - val_mae: 0.0673\n",
      "Epoch 137/2000\n",
      "5/5 [==============================] - 1s 177ms/step - loss: 0.0058 - mae: 0.0601 - val_loss: 0.0074 - val_mae: 0.0676\n",
      "Epoch 138/2000\n",
      "5/5 [==============================] - ETA: 0s - loss: 0.0059 - mae: 0.0608INFO:tensorflow:Assets written to: C:\\Users\\PARK\\Documents\\LAB\\RNN vs LSTM\\FInal Example\\wandb\\run-20221015_190827-1kgjbxck\\files\\model-best\\assets\n"
     ]
    },
    {
     "name": "stderr",
     "output_type": "stream",
     "text": [
      "\u001b[34m\u001b[1mwandb\u001b[0m: Adding directory to artifact (C:\\Users\\PARK\\Documents\\LAB\\RNN vs LSTM\\FInal Example\\wandb\\run-20221015_190827-1kgjbxck\\files\\model-best)... Done. 0.0s\n"
     ]
    },
    {
     "name": "stdout",
     "output_type": "stream",
     "text": [
      "5/5 [==============================] - 2s 472ms/step - loss: 0.0059 - mae: 0.0608 - val_loss: 0.0069 - val_mae: 0.0651\n",
      "Epoch 139/2000\n",
      "5/5 [==============================] - 1s 161ms/step - loss: 0.0057 - mae: 0.0598 - val_loss: 0.0071 - val_mae: 0.0663\n",
      "Epoch 140/2000\n",
      "5/5 [==============================] - 1s 154ms/step - loss: 0.0059 - mae: 0.0612 - val_loss: 0.0074 - val_mae: 0.0675\n",
      "Epoch 141/2000\n",
      "5/5 [==============================] - ETA: 0s - loss: 0.0056 - mae: 0.0592INFO:tensorflow:Assets written to: C:\\Users\\PARK\\Documents\\LAB\\RNN vs LSTM\\FInal Example\\wandb\\run-20221015_190827-1kgjbxck\\files\\model-best\\assets\n"
     ]
    },
    {
     "name": "stderr",
     "output_type": "stream",
     "text": [
      "\u001b[34m\u001b[1mwandb\u001b[0m: Adding directory to artifact (C:\\Users\\PARK\\Documents\\LAB\\RNN vs LSTM\\FInal Example\\wandb\\run-20221015_190827-1kgjbxck\\files\\model-best)... Done. 0.0s\n"
     ]
    },
    {
     "name": "stdout",
     "output_type": "stream",
     "text": [
      "5/5 [==============================] - 2s 501ms/step - loss: 0.0056 - mae: 0.0592 - val_loss: 0.0066 - val_mae: 0.0643\n",
      "Epoch 142/2000\n",
      "5/5 [==============================] - ETA: 0s - loss: 0.0052 - mae: 0.0572INFO:tensorflow:Assets written to: C:\\Users\\PARK\\Documents\\LAB\\RNN vs LSTM\\FInal Example\\wandb\\run-20221015_190827-1kgjbxck\\files\\model-best\\assets\n"
     ]
    },
    {
     "name": "stderr",
     "output_type": "stream",
     "text": [
      "\u001b[34m\u001b[1mwandb\u001b[0m: Adding directory to artifact (C:\\Users\\PARK\\Documents\\LAB\\RNN vs LSTM\\FInal Example\\wandb\\run-20221015_190827-1kgjbxck\\files\\model-best)... Done. 0.0s\n"
     ]
    },
    {
     "name": "stdout",
     "output_type": "stream",
     "text": [
      "5/5 [==============================] - 2s 496ms/step - loss: 0.0052 - mae: 0.0572 - val_loss: 0.0063 - val_mae: 0.0627\n",
      "Epoch 143/2000\n",
      "5/5 [==============================] - 1s 154ms/step - loss: 0.0050 - mae: 0.0568 - val_loss: 0.0063 - val_mae: 0.0627\n",
      "Epoch 144/2000\n",
      "5/5 [==============================] - 1s 150ms/step - loss: 0.0050 - mae: 0.0557 - val_loss: 0.0065 - val_mae: 0.0636\n",
      "Epoch 145/2000\n",
      "5/5 [==============================] - 1s 147ms/step - loss: 0.0051 - mae: 0.0569 - val_loss: 0.0075 - val_mae: 0.0689\n",
      "Epoch 146/2000\n",
      "5/5 [==============================] - 1s 146ms/step - loss: 0.0052 - mae: 0.0575 - val_loss: 0.0070 - val_mae: 0.0665\n",
      "Epoch 147/2000\n",
      "5/5 [==============================] - 1s 145ms/step - loss: 0.0052 - mae: 0.0570 - val_loss: 0.0067 - val_mae: 0.0661\n",
      "Epoch 148/2000\n",
      "5/5 [==============================] - 1s 141ms/step - loss: 0.0050 - mae: 0.0566 - val_loss: 0.0063 - val_mae: 0.0637\n",
      "Epoch 149/2000\n",
      "5/5 [==============================] - 1s 153ms/step - loss: 0.0050 - mae: 0.0567 - val_loss: 0.0073 - val_mae: 0.0676\n",
      "Epoch 150/2000\n",
      "5/5 [==============================] - 1s 145ms/step - loss: 0.0054 - mae: 0.0583 - val_loss: 0.0069 - val_mae: 0.0661\n",
      "Epoch 151/2000\n",
      "5/5 [==============================] - ETA: 0s - loss: 0.0053 - mae: 0.0587INFO:tensorflow:Assets written to: C:\\Users\\PARK\\Documents\\LAB\\RNN vs LSTM\\FInal Example\\wandb\\run-20221015_190827-1kgjbxck\\files\\model-best\\assets\n"
     ]
    },
    {
     "name": "stderr",
     "output_type": "stream",
     "text": [
      "\u001b[34m\u001b[1mwandb\u001b[0m: Adding directory to artifact (C:\\Users\\PARK\\Documents\\LAB\\RNN vs LSTM\\FInal Example\\wandb\\run-20221015_190827-1kgjbxck\\files\\model-best)... Done. 0.0s\n"
     ]
    },
    {
     "name": "stdout",
     "output_type": "stream",
     "text": [
      "5/5 [==============================] - 2s 490ms/step - loss: 0.0053 - mae: 0.0587 - val_loss: 0.0061 - val_mae: 0.0618\n",
      "Epoch 152/2000\n",
      "5/5 [==============================] - 1s 160ms/step - loss: 0.0048 - mae: 0.0547 - val_loss: 0.0064 - val_mae: 0.0637\n",
      "Epoch 153/2000\n",
      "5/5 [==============================] - 1s 153ms/step - loss: 0.0050 - mae: 0.0559 - val_loss: 0.0063 - val_mae: 0.0634\n",
      "Epoch 154/2000\n",
      "5/5 [==============================] - ETA: 0s - loss: 0.0048 - mae: 0.0553INFO:tensorflow:Assets written to: C:\\Users\\PARK\\Documents\\LAB\\RNN vs LSTM\\FInal Example\\wandb\\run-20221015_190827-1kgjbxck\\files\\model-best\\assets\n"
     ]
    },
    {
     "name": "stderr",
     "output_type": "stream",
     "text": [
      "\u001b[34m\u001b[1mwandb\u001b[0m: Adding directory to artifact (C:\\Users\\PARK\\Documents\\LAB\\RNN vs LSTM\\FInal Example\\wandb\\run-20221015_190827-1kgjbxck\\files\\model-best)... Done. 0.0s\n"
     ]
    },
    {
     "name": "stdout",
     "output_type": "stream",
     "text": [
      "5/5 [==============================] - 2s 474ms/step - loss: 0.0048 - mae: 0.0553 - val_loss: 0.0059 - val_mae: 0.0615\n",
      "Epoch 155/2000\n",
      "5/5 [==============================] - ETA: 0s - loss: 0.0047 - mae: 0.0546INFO:tensorflow:Assets written to: C:\\Users\\PARK\\Documents\\LAB\\RNN vs LSTM\\FInal Example\\wandb\\run-20221015_190827-1kgjbxck\\files\\model-best\\assets\n"
     ]
    },
    {
     "name": "stderr",
     "output_type": "stream",
     "text": [
      "\u001b[34m\u001b[1mwandb\u001b[0m: Adding directory to artifact (C:\\Users\\PARK\\Documents\\LAB\\RNN vs LSTM\\FInal Example\\wandb\\run-20221015_190827-1kgjbxck\\files\\model-best)... Done. 0.0s\n"
     ]
    },
    {
     "name": "stdout",
     "output_type": "stream",
     "text": [
      "5/5 [==============================] - 2s 496ms/step - loss: 0.0047 - mae: 0.0546 - val_loss: 0.0058 - val_mae: 0.0605\n",
      "Epoch 156/2000\n",
      "5/5 [==============================] - 1s 156ms/step - loss: 0.0046 - mae: 0.0544 - val_loss: 0.0060 - val_mae: 0.0612\n",
      "Epoch 157/2000\n",
      "5/5 [==============================] - 1s 155ms/step - loss: 0.0045 - mae: 0.0532 - val_loss: 0.0059 - val_mae: 0.0616\n",
      "Epoch 158/2000\n",
      "5/5 [==============================] - ETA: 0s - loss: 0.0044 - mae: 0.0525INFO:tensorflow:Assets written to: C:\\Users\\PARK\\Documents\\LAB\\RNN vs LSTM\\FInal Example\\wandb\\run-20221015_190827-1kgjbxck\\files\\model-best\\assets\n"
     ]
    },
    {
     "name": "stderr",
     "output_type": "stream",
     "text": [
      "\u001b[34m\u001b[1mwandb\u001b[0m: Adding directory to artifact (C:\\Users\\PARK\\Documents\\LAB\\RNN vs LSTM\\FInal Example\\wandb\\run-20221015_190827-1kgjbxck\\files\\model-best)... Done. 0.0s\n"
     ]
    },
    {
     "name": "stdout",
     "output_type": "stream",
     "text": [
      "5/5 [==============================] - 2s 505ms/step - loss: 0.0044 - mae: 0.0525 - val_loss: 0.0057 - val_mae: 0.0600\n",
      "Epoch 159/2000\n",
      "5/5 [==============================] - 1s 167ms/step - loss: 0.0045 - mae: 0.0538 - val_loss: 0.0061 - val_mae: 0.0626\n",
      "Epoch 160/2000\n",
      "5/5 [==============================] - 1s 151ms/step - loss: 0.0046 - mae: 0.0539 - val_loss: 0.0060 - val_mae: 0.0617\n",
      "Epoch 161/2000\n",
      "5/5 [==============================] - ETA: 0s - loss: 0.0047 - mae: 0.0548INFO:tensorflow:Assets written to: C:\\Users\\PARK\\Documents\\LAB\\RNN vs LSTM\\FInal Example\\wandb\\run-20221015_190827-1kgjbxck\\files\\model-best\\assets\n"
     ]
    },
    {
     "name": "stderr",
     "output_type": "stream",
     "text": [
      "\u001b[34m\u001b[1mwandb\u001b[0m: Adding directory to artifact (C:\\Users\\PARK\\Documents\\LAB\\RNN vs LSTM\\FInal Example\\wandb\\run-20221015_190827-1kgjbxck\\files\\model-best)... Done. 0.0s\n"
     ]
    },
    {
     "name": "stdout",
     "output_type": "stream",
     "text": [
      "5/5 [==============================] - 2s 476ms/step - loss: 0.0047 - mae: 0.0548 - val_loss: 0.0056 - val_mae: 0.0601\n",
      "Epoch 162/2000\n",
      "5/5 [==============================] - ETA: 0s - loss: 0.0045 - mae: 0.0534INFO:tensorflow:Assets written to: C:\\Users\\PARK\\Documents\\LAB\\RNN vs LSTM\\FInal Example\\wandb\\run-20221015_190827-1kgjbxck\\files\\model-best\\assets\n"
     ]
    },
    {
     "name": "stderr",
     "output_type": "stream",
     "text": [
      "\u001b[34m\u001b[1mwandb\u001b[0m: Adding directory to artifact (C:\\Users\\PARK\\Documents\\LAB\\RNN vs LSTM\\FInal Example\\wandb\\run-20221015_190827-1kgjbxck\\files\\model-best)... Done. 0.0s\n"
     ]
    },
    {
     "name": "stdout",
     "output_type": "stream",
     "text": [
      "5/5 [==============================] - 2s 488ms/step - loss: 0.0045 - mae: 0.0534 - val_loss: 0.0054 - val_mae: 0.0586\n",
      "Epoch 163/2000\n",
      "5/5 [==============================] - ETA: 0s - loss: 0.0041 - mae: 0.0507INFO:tensorflow:Assets written to: C:\\Users\\PARK\\Documents\\LAB\\RNN vs LSTM\\FInal Example\\wandb\\run-20221015_190827-1kgjbxck\\files\\model-best\\assets\n"
     ]
    },
    {
     "name": "stderr",
     "output_type": "stream",
     "text": [
      "\u001b[34m\u001b[1mwandb\u001b[0m: Adding directory to artifact (C:\\Users\\PARK\\Documents\\LAB\\RNN vs LSTM\\FInal Example\\wandb\\run-20221015_190827-1kgjbxck\\files\\model-best)... Done. 0.0s\n"
     ]
    },
    {
     "name": "stdout",
     "output_type": "stream",
     "text": [
      "5/5 [==============================] - 2s 509ms/step - loss: 0.0041 - mae: 0.0507 - val_loss: 0.0053 - val_mae: 0.0577\n",
      "Epoch 164/2000\n",
      "5/5 [==============================] - 1s 174ms/step - loss: 0.0043 - mae: 0.0525 - val_loss: 0.0060 - val_mae: 0.0612\n",
      "Epoch 165/2000\n",
      "5/5 [==============================] - 1s 152ms/step - loss: 0.0051 - mae: 0.0568 - val_loss: 0.0053 - val_mae: 0.0580\n",
      "Epoch 166/2000\n",
      "5/5 [==============================] - 1s 141ms/step - loss: 0.0045 - mae: 0.0538 - val_loss: 0.0056 - val_mae: 0.0592\n",
      "Epoch 167/2000\n",
      "5/5 [==============================] - 1s 136ms/step - loss: 0.0045 - mae: 0.0531 - val_loss: 0.0063 - val_mae: 0.0619\n",
      "Epoch 168/2000\n",
      "5/5 [==============================] - 1s 141ms/step - loss: 0.0050 - mae: 0.0564 - val_loss: 0.0055 - val_mae: 0.0583\n",
      "Epoch 169/2000\n",
      "5/5 [==============================] - 1s 144ms/step - loss: 0.0054 - mae: 0.0585 - val_loss: 0.0071 - val_mae: 0.0668\n",
      "Epoch 170/2000\n",
      "5/5 [==============================] - 1s 135ms/step - loss: 0.0048 - mae: 0.0547 - val_loss: 0.0062 - val_mae: 0.0626\n",
      "Epoch 171/2000\n",
      "5/5 [==============================] - 1s 134ms/step - loss: 0.0052 - mae: 0.0568 - val_loss: 0.0061 - val_mae: 0.0627\n",
      "Epoch 172/2000\n",
      "5/5 [==============================] - 1s 142ms/step - loss: 0.0048 - mae: 0.0551 - val_loss: 0.0059 - val_mae: 0.0607\n",
      "Epoch 173/2000\n",
      "5/5 [==============================] - 1s 152ms/step - loss: 0.0043 - mae: 0.0520 - val_loss: 0.0053 - val_mae: 0.0585\n",
      "Epoch 174/2000\n",
      "5/5 [==============================] - ETA: 0s - loss: 0.0041 - mae: 0.0509INFO:tensorflow:Assets written to: C:\\Users\\PARK\\Documents\\LAB\\RNN vs LSTM\\FInal Example\\wandb\\run-20221015_190827-1kgjbxck\\files\\model-best\\assets\n"
     ]
    },
    {
     "name": "stderr",
     "output_type": "stream",
     "text": [
      "\u001b[34m\u001b[1mwandb\u001b[0m: Adding directory to artifact (C:\\Users\\PARK\\Documents\\LAB\\RNN vs LSTM\\FInal Example\\wandb\\run-20221015_190827-1kgjbxck\\files\\model-best)... Done. 0.0s\n"
     ]
    },
    {
     "name": "stdout",
     "output_type": "stream",
     "text": [
      "5/5 [==============================] - 2s 466ms/step - loss: 0.0041 - mae: 0.0509 - val_loss: 0.0052 - val_mae: 0.0567\n",
      "Epoch 175/2000\n",
      "5/5 [==============================] - 1s 165ms/step - loss: 0.0040 - mae: 0.0499 - val_loss: 0.0071 - val_mae: 0.0672\n",
      "Epoch 176/2000\n",
      "5/5 [==============================] - 1s 153ms/step - loss: 0.0049 - mae: 0.0552 - val_loss: 0.0053 - val_mae: 0.0578\n",
      "Epoch 177/2000\n",
      "5/5 [==============================] - 1s 140ms/step - loss: 0.0046 - mae: 0.0544 - val_loss: 0.0063 - val_mae: 0.0622\n",
      "Epoch 178/2000\n",
      "5/5 [==============================] - 1s 142ms/step - loss: 0.0045 - mae: 0.0527 - val_loss: 0.0068 - val_mae: 0.0653\n",
      "Epoch 179/2000\n",
      "5/5 [==============================] - 1s 145ms/step - loss: 0.0055 - mae: 0.0595 - val_loss: 0.0060 - val_mae: 0.0609\n",
      "Epoch 180/2000\n",
      "5/5 [==============================] - 1s 144ms/step - loss: 0.0048 - mae: 0.0550 - val_loss: 0.0063 - val_mae: 0.0636\n",
      "Epoch 181/2000\n",
      "5/5 [==============================] - 1s 144ms/step - loss: 0.0045 - mae: 0.0536 - val_loss: 0.0056 - val_mae: 0.0596\n",
      "Epoch 182/2000\n",
      "5/5 [==============================] - 1s 155ms/step - loss: 0.0044 - mae: 0.0524 - val_loss: 0.0056 - val_mae: 0.0597\n",
      "Epoch 183/2000\n",
      "5/5 [==============================] - 1s 144ms/step - loss: 0.0040 - mae: 0.0505 - val_loss: 0.0054 - val_mae: 0.0589\n",
      "Epoch 184/2000\n",
      "5/5 [==============================] - ETA: 0s - loss: 0.0041 - mae: 0.0507INFO:tensorflow:Assets written to: C:\\Users\\PARK\\Documents\\LAB\\RNN vs LSTM\\FInal Example\\wandb\\run-20221015_190827-1kgjbxck\\files\\model-best\\assets\n"
     ]
    },
    {
     "name": "stderr",
     "output_type": "stream",
     "text": [
      "\u001b[34m\u001b[1mwandb\u001b[0m: Adding directory to artifact (C:\\Users\\PARK\\Documents\\LAB\\RNN vs LSTM\\FInal Example\\wandb\\run-20221015_190827-1kgjbxck\\files\\model-best)... Done. 0.0s\n"
     ]
    },
    {
     "name": "stdout",
     "output_type": "stream",
     "text": [
      "5/5 [==============================] - 2s 492ms/step - loss: 0.0041 - mae: 0.0507 - val_loss: 0.0049 - val_mae: 0.0560\n",
      "Epoch 185/2000\n",
      "5/5 [==============================] - 1s 161ms/step - loss: 0.0038 - mae: 0.0486 - val_loss: 0.0050 - val_mae: 0.0558\n",
      "Epoch 186/2000\n",
      "5/5 [==============================] - 1s 149ms/step - loss: 0.0037 - mae: 0.0478 - val_loss: 0.0063 - val_mae: 0.0633\n",
      "Epoch 187/2000\n",
      "4/5 [=======================>......] - ETA: 0s - loss: 0.0043 - mae: 0.0517INFO:tensorflow:Assets written to: C:\\Users\\PARK\\Documents\\LAB\\RNN vs LSTM\\FInal Example\\wandb\\run-20221015_190827-1kgjbxck\\files\\model-best\\assets\n"
     ]
    },
    {
     "name": "stderr",
     "output_type": "stream",
     "text": [
      "\u001b[34m\u001b[1mwandb\u001b[0m: Adding directory to artifact (C:\\Users\\PARK\\Documents\\LAB\\RNN vs LSTM\\FInal Example\\wandb\\run-20221015_190827-1kgjbxck\\files\\model-best)... Done. 0.0s\n"
     ]
    },
    {
     "name": "stdout",
     "output_type": "stream",
     "text": [
      "5/5 [==============================] - 2s 470ms/step - loss: 0.0043 - mae: 0.0517 - val_loss: 0.0046 - val_mae: 0.0537\n",
      "Epoch 188/2000\n",
      "5/5 [==============================] - 1s 170ms/step - loss: 0.0038 - mae: 0.0482 - val_loss: 0.0048 - val_mae: 0.0549\n",
      "Epoch 189/2000\n",
      "5/5 [==============================] - 1s 151ms/step - loss: 0.0035 - mae: 0.0472 - val_loss: 0.0046 - val_mae: 0.0539\n",
      "Epoch 190/2000\n",
      "5/5 [==============================] - 1s 151ms/step - loss: 0.0034 - mae: 0.0468 - val_loss: 0.0048 - val_mae: 0.0555\n",
      "Epoch 191/2000\n",
      "5/5 [==============================] - 1s 149ms/step - loss: 0.0034 - mae: 0.0466 - val_loss: 0.0047 - val_mae: 0.0546\n",
      "Epoch 192/2000\n",
      "5/5 [==============================] - 1s 146ms/step - loss: 0.0038 - mae: 0.0492 - val_loss: 0.0069 - val_mae: 0.0659\n",
      "Epoch 193/2000\n",
      "5/5 [==============================] - 1s 143ms/step - loss: 0.0049 - mae: 0.0558 - val_loss: 0.0049 - val_mae: 0.0551\n",
      "Epoch 194/2000\n",
      "5/5 [==============================] - 1s 160ms/step - loss: 0.0050 - mae: 0.0563 - val_loss: 0.0072 - val_mae: 0.0673\n",
      "Epoch 195/2000\n",
      "5/5 [==============================] - 1s 138ms/step - loss: 0.0054 - mae: 0.0585 - val_loss: 0.0098 - val_mae: 0.0805\n",
      "Epoch 196/2000\n",
      "5/5 [==============================] - 1s 136ms/step - loss: 0.0061 - mae: 0.0626 - val_loss: 0.0071 - val_mae: 0.0655\n",
      "Epoch 197/2000\n",
      "5/5 [==============================] - 1s 142ms/step - loss: 0.0055 - mae: 0.0590 - val_loss: 0.0055 - val_mae: 0.0586\n",
      "Epoch 198/2000\n",
      "5/5 [==============================] - 1s 137ms/step - loss: 0.0047 - mae: 0.0540 - val_loss: 0.0055 - val_mae: 0.0596\n",
      "Epoch 199/2000\n",
      "5/5 [==============================] - 1s 135ms/step - loss: 0.0046 - mae: 0.0539 - val_loss: 0.0054 - val_mae: 0.0588\n",
      "Epoch 200/2000\n",
      "5/5 [==============================] - 1s 138ms/step - loss: 0.0044 - mae: 0.0528 - val_loss: 0.0066 - val_mae: 0.0645\n",
      "Epoch 201/2000\n",
      "5/5 [==============================] - 1s 149ms/step - loss: 0.0040 - mae: 0.0499 - val_loss: 0.0050 - val_mae: 0.0560\n",
      "Epoch 202/2000\n",
      "5/5 [==============================] - 1s 140ms/step - loss: 0.0036 - mae: 0.0478 - val_loss: 0.0055 - val_mae: 0.0596\n",
      "Epoch 203/2000\n",
      "5/5 [==============================] - ETA: 0s - loss: 0.0039 - mae: 0.0489INFO:tensorflow:Assets written to: C:\\Users\\PARK\\Documents\\LAB\\RNN vs LSTM\\FInal Example\\wandb\\run-20221015_190827-1kgjbxck\\files\\model-best\\assets\n"
     ]
    },
    {
     "name": "stderr",
     "output_type": "stream",
     "text": [
      "\u001b[34m\u001b[1mwandb\u001b[0m: Adding directory to artifact (C:\\Users\\PARK\\Documents\\LAB\\RNN vs LSTM\\FInal Example\\wandb\\run-20221015_190827-1kgjbxck\\files\\model-best)... Done. 0.0s\n"
     ]
    },
    {
     "name": "stdout",
     "output_type": "stream",
     "text": [
      "5/5 [==============================] - 2s 461ms/step - loss: 0.0039 - mae: 0.0489 - val_loss: 0.0046 - val_mae: 0.0539\n",
      "Epoch 204/2000\n",
      "5/5 [==============================] - 1s 172ms/step - loss: 0.0036 - mae: 0.0474 - val_loss: 0.0046 - val_mae: 0.0544\n",
      "Epoch 205/2000\n",
      "5/5 [==============================] - 1s 143ms/step - loss: 0.0035 - mae: 0.0464 - val_loss: 0.0046 - val_mae: 0.0540\n",
      "Epoch 206/2000\n",
      "5/5 [==============================] - 1s 142ms/step - loss: 0.0034 - mae: 0.0461 - val_loss: 0.0046 - val_mae: 0.0540\n",
      "Epoch 207/2000\n",
      "5/5 [==============================] - 1s 137ms/step - loss: 0.0036 - mae: 0.0475 - val_loss: 0.0051 - val_mae: 0.0573\n",
      "Epoch 208/2000\n",
      "5/5 [==============================] - 1s 145ms/step - loss: 0.0036 - mae: 0.0477 - val_loss: 0.0047 - val_mae: 0.0543\n",
      "Epoch 209/2000\n",
      "5/5 [==============================] - 1s 143ms/step - loss: 0.0034 - mae: 0.0461 - val_loss: 0.0046 - val_mae: 0.0543\n",
      "Epoch 210/2000\n",
      "5/5 [==============================] - ETA: 0s - loss: 0.0033 - mae: 0.0454INFO:tensorflow:Assets written to: C:\\Users\\PARK\\Documents\\LAB\\RNN vs LSTM\\FInal Example\\wandb\\run-20221015_190827-1kgjbxck\\files\\model-best\\assets\n"
     ]
    },
    {
     "name": "stderr",
     "output_type": "stream",
     "text": [
      "\u001b[34m\u001b[1mwandb\u001b[0m: Adding directory to artifact (C:\\Users\\PARK\\Documents\\LAB\\RNN vs LSTM\\FInal Example\\wandb\\run-20221015_190827-1kgjbxck\\files\\model-best)... Done. 0.0s\n"
     ]
    },
    {
     "name": "stdout",
     "output_type": "stream",
     "text": [
      "5/5 [==============================] - 2s 495ms/step - loss: 0.0033 - mae: 0.0454 - val_loss: 0.0044 - val_mae: 0.0531\n",
      "Epoch 211/2000\n",
      "5/5 [==============================] - 1s 164ms/step - loss: 0.0031 - mae: 0.0439 - val_loss: 0.0045 - val_mae: 0.0539\n",
      "Epoch 212/2000\n",
      "5/5 [==============================] - ETA: 0s - loss: 0.0031 - mae: 0.0438INFO:tensorflow:Assets written to: C:\\Users\\PARK\\Documents\\LAB\\RNN vs LSTM\\FInal Example\\wandb\\run-20221015_190827-1kgjbxck\\files\\model-best\\assets\n"
     ]
    },
    {
     "name": "stderr",
     "output_type": "stream",
     "text": [
      "\u001b[34m\u001b[1mwandb\u001b[0m: Adding directory to artifact (C:\\Users\\PARK\\Documents\\LAB\\RNN vs LSTM\\FInal Example\\wandb\\run-20221015_190827-1kgjbxck\\files\\model-best)... Done. 0.0s\n"
     ]
    },
    {
     "name": "stdout",
     "output_type": "stream",
     "text": [
      "5/5 [==============================] - 2s 474ms/step - loss: 0.0031 - mae: 0.0438 - val_loss: 0.0044 - val_mae: 0.0526\n",
      "Epoch 213/2000\n",
      "5/5 [==============================] - ETA: 0s - loss: 0.0030 - mae: 0.0432INFO:tensorflow:Assets written to: C:\\Users\\PARK\\Documents\\LAB\\RNN vs LSTM\\FInal Example\\wandb\\run-20221015_190827-1kgjbxck\\files\\model-best\\assets\n"
     ]
    },
    {
     "name": "stderr",
     "output_type": "stream",
     "text": [
      "\u001b[34m\u001b[1mwandb\u001b[0m: Adding directory to artifact (C:\\Users\\PARK\\Documents\\LAB\\RNN vs LSTM\\FInal Example\\wandb\\run-20221015_190827-1kgjbxck\\files\\model-best)... Done. 0.0s\n"
     ]
    },
    {
     "name": "stdout",
     "output_type": "stream",
     "text": [
      "5/5 [==============================] - 2s 489ms/step - loss: 0.0030 - mae: 0.0432 - val_loss: 0.0044 - val_mae: 0.0531\n",
      "Epoch 214/2000\n",
      "5/5 [==============================] - 1s 170ms/step - loss: 0.0031 - mae: 0.0440 - val_loss: 0.0047 - val_mae: 0.0554\n",
      "Epoch 215/2000\n",
      "5/5 [==============================] - ETA: 0s - loss: 0.0032 - mae: 0.0446INFO:tensorflow:Assets written to: C:\\Users\\PARK\\Documents\\LAB\\RNN vs LSTM\\FInal Example\\wandb\\run-20221015_190827-1kgjbxck\\files\\model-best\\assets\n"
     ]
    },
    {
     "name": "stderr",
     "output_type": "stream",
     "text": [
      "\u001b[34m\u001b[1mwandb\u001b[0m: Adding directory to artifact (C:\\Users\\PARK\\Documents\\LAB\\RNN vs LSTM\\FInal Example\\wandb\\run-20221015_190827-1kgjbxck\\files\\model-best)... Done. 0.0s\n"
     ]
    },
    {
     "name": "stdout",
     "output_type": "stream",
     "text": [
      "5/5 [==============================] - 2s 507ms/step - loss: 0.0032 - mae: 0.0446 - val_loss: 0.0043 - val_mae: 0.0521\n",
      "Epoch 216/2000\n",
      "5/5 [==============================] - 1s 167ms/step - loss: 0.0031 - mae: 0.0439 - val_loss: 0.0046 - val_mae: 0.0541\n",
      "Epoch 217/2000\n",
      "5/5 [==============================] - 1s 154ms/step - loss: 0.0033 - mae: 0.0450 - val_loss: 0.0044 - val_mae: 0.0533\n",
      "Epoch 218/2000\n",
      "5/5 [==============================] - 1s 141ms/step - loss: 0.0036 - mae: 0.0467 - val_loss: 0.0047 - val_mae: 0.0546\n",
      "Epoch 219/2000\n",
      "5/5 [==============================] - 1s 136ms/step - loss: 0.0032 - mae: 0.0442 - val_loss: 0.0049 - val_mae: 0.0550\n",
      "Epoch 220/2000\n",
      "5/5 [==============================] - 1s 147ms/step - loss: 0.0036 - mae: 0.0478 - val_loss: 0.0051 - val_mae: 0.0571\n",
      "Epoch 221/2000\n",
      "5/5 [==============================] - 1s 144ms/step - loss: 0.0034 - mae: 0.0459 - val_loss: 0.0044 - val_mae: 0.0530\n",
      "Epoch 222/2000\n",
      "5/5 [==============================] - 1s 152ms/step - loss: 0.0030 - mae: 0.0433 - val_loss: 0.0043 - val_mae: 0.0521\n",
      "Epoch 223/2000\n",
      "5/5 [==============================] - 1s 149ms/step - loss: 0.0029 - mae: 0.0425 - val_loss: 0.0043 - val_mae: 0.0528\n",
      "Epoch 224/2000\n",
      "5/5 [==============================] - ETA: 0s - loss: 0.0029 - mae: 0.0428INFO:tensorflow:Assets written to: C:\\Users\\PARK\\Documents\\LAB\\RNN vs LSTM\\FInal Example\\wandb\\run-20221015_190827-1kgjbxck\\files\\model-best\\assets\n"
     ]
    },
    {
     "name": "stderr",
     "output_type": "stream",
     "text": [
      "\u001b[34m\u001b[1mwandb\u001b[0m: Adding directory to artifact (C:\\Users\\PARK\\Documents\\LAB\\RNN vs LSTM\\FInal Example\\wandb\\run-20221015_190827-1kgjbxck\\files\\model-best)... Done. 0.0s\n"
     ]
    },
    {
     "name": "stdout",
     "output_type": "stream",
     "text": [
      "5/5 [==============================] - 2s 482ms/step - loss: 0.0029 - mae: 0.0428 - val_loss: 0.0042 - val_mae: 0.0522\n",
      "Epoch 225/2000\n",
      "5/5 [==============================] - 1s 175ms/step - loss: 0.0029 - mae: 0.0426 - val_loss: 0.0044 - val_mae: 0.0532\n",
      "Epoch 226/2000\n",
      "5/5 [==============================] - 1s 148ms/step - loss: 0.0029 - mae: 0.0428 - val_loss: 0.0044 - val_mae: 0.0529\n",
      "Epoch 227/2000\n",
      "5/5 [==============================] - 1s 141ms/step - loss: 0.0030 - mae: 0.0438 - val_loss: 0.0044 - val_mae: 0.0527\n",
      "Epoch 228/2000\n",
      "5/5 [==============================] - 1s 140ms/step - loss: 0.0029 - mae: 0.0423 - val_loss: 0.0042 - val_mae: 0.0521\n",
      "Epoch 229/2000\n",
      "5/5 [==============================] - 1s 150ms/step - loss: 0.0028 - mae: 0.0420 - val_loss: 0.0044 - val_mae: 0.0533\n",
      "Epoch 230/2000\n",
      "5/5 [==============================] - 1s 150ms/step - loss: 0.0028 - mae: 0.0421 - val_loss: 0.0045 - val_mae: 0.0537\n",
      "Epoch 231/2000\n",
      "5/5 [==============================] - 1s 143ms/step - loss: 0.0029 - mae: 0.0433 - val_loss: 0.0045 - val_mae: 0.0528\n",
      "Epoch 232/2000\n",
      "5/5 [==============================] - 1s 137ms/step - loss: 0.0029 - mae: 0.0430 - val_loss: 0.0044 - val_mae: 0.0525\n",
      "Epoch 233/2000\n",
      "5/5 [==============================] - 1s 136ms/step - loss: 0.0030 - mae: 0.0431 - val_loss: 0.0044 - val_mae: 0.0529\n",
      "Epoch 234/2000\n",
      "5/5 [==============================] - 1s 144ms/step - loss: 0.0029 - mae: 0.0424 - val_loss: 0.0045 - val_mae: 0.0540\n",
      "Epoch 235/2000\n",
      "5/5 [==============================] - 1s 151ms/step - loss: 0.0028 - mae: 0.0421 - val_loss: 0.0048 - val_mae: 0.0545\n",
      "Epoch 236/2000\n",
      "5/5 [==============================] - ETA: 0s - loss: 0.0029 - mae: 0.0427INFO:tensorflow:Assets written to: C:\\Users\\PARK\\Documents\\LAB\\RNN vs LSTM\\FInal Example\\wandb\\run-20221015_190827-1kgjbxck\\files\\model-best\\assets\n"
     ]
    },
    {
     "name": "stderr",
     "output_type": "stream",
     "text": [
      "\u001b[34m\u001b[1mwandb\u001b[0m: Adding directory to artifact (C:\\Users\\PARK\\Documents\\LAB\\RNN vs LSTM\\FInal Example\\wandb\\run-20221015_190827-1kgjbxck\\files\\model-best)... Done. 0.0s\n"
     ]
    },
    {
     "name": "stdout",
     "output_type": "stream",
     "text": [
      "5/5 [==============================] - 2s 473ms/step - loss: 0.0029 - mae: 0.0427 - val_loss: 0.0041 - val_mae: 0.0513\n",
      "Epoch 237/2000\n",
      "5/5 [==============================] - ETA: 0s - loss: 0.0028 - mae: 0.0421INFO:tensorflow:Assets written to: C:\\Users\\PARK\\Documents\\LAB\\RNN vs LSTM\\FInal Example\\wandb\\run-20221015_190827-1kgjbxck\\files\\model-best\\assets\n"
     ]
    },
    {
     "name": "stderr",
     "output_type": "stream",
     "text": [
      "\u001b[34m\u001b[1mwandb\u001b[0m: Adding directory to artifact (C:\\Users\\PARK\\Documents\\LAB\\RNN vs LSTM\\FInal Example\\wandb\\run-20221015_190827-1kgjbxck\\files\\model-best)... Done. 0.0s\n"
     ]
    },
    {
     "name": "stdout",
     "output_type": "stream",
     "text": [
      "5/5 [==============================] - 2s 514ms/step - loss: 0.0028 - mae: 0.0421 - val_loss: 0.0039 - val_mae: 0.0497\n",
      "Epoch 238/2000\n",
      "5/5 [==============================] - 1s 179ms/step - loss: 0.0027 - mae: 0.0415 - val_loss: 0.0044 - val_mae: 0.0531\n",
      "Epoch 239/2000\n",
      "5/5 [==============================] - 1s 143ms/step - loss: 0.0029 - mae: 0.0425 - val_loss: 0.0042 - val_mae: 0.0516\n",
      "Epoch 240/2000\n",
      "5/5 [==============================] - 1s 140ms/step - loss: 0.0032 - mae: 0.0450 - val_loss: 0.0044 - val_mae: 0.0525\n",
      "Epoch 241/2000\n",
      "5/5 [==============================] - 1s 137ms/step - loss: 0.0029 - mae: 0.0429 - val_loss: 0.0049 - val_mae: 0.0559\n",
      "Epoch 242/2000\n",
      "5/5 [==============================] - 1s 147ms/step - loss: 0.0035 - mae: 0.0469 - val_loss: 0.0049 - val_mae: 0.0570\n",
      "Epoch 243/2000\n",
      "5/5 [==============================] - 1s 154ms/step - loss: 0.0031 - mae: 0.0451 - val_loss: 0.0051 - val_mae: 0.0562\n",
      "Epoch 244/2000\n",
      "5/5 [==============================] - 1s 143ms/step - loss: 0.0032 - mae: 0.0444 - val_loss: 0.0054 - val_mae: 0.0581\n",
      "Epoch 245/2000\n",
      "5/5 [==============================] - 1s 137ms/step - loss: 0.0036 - mae: 0.0476 - val_loss: 0.0045 - val_mae: 0.0533\n",
      "Epoch 246/2000\n",
      "5/5 [==============================] - 1s 137ms/step - loss: 0.0029 - mae: 0.0419 - val_loss: 0.0040 - val_mae: 0.0504\n",
      "Epoch 247/2000\n",
      "5/5 [==============================] - 1s 148ms/step - loss: 0.0028 - mae: 0.0420 - val_loss: 0.0041 - val_mae: 0.0504\n",
      "Epoch 248/2000\n",
      "5/5 [==============================] - 1s 148ms/step - loss: 0.0026 - mae: 0.0401 - val_loss: 0.0039 - val_mae: 0.0503\n",
      "Epoch 249/2000\n",
      "5/5 [==============================] - 1s 145ms/step - loss: 0.0026 - mae: 0.0403 - val_loss: 0.0040 - val_mae: 0.0502\n",
      "Epoch 250/2000\n",
      "5/5 [==============================] - 1s 138ms/step - loss: 0.0029 - mae: 0.0420 - val_loss: 0.0051 - val_mae: 0.0563\n",
      "Epoch 251/2000\n",
      "5/5 [==============================] - 1s 139ms/step - loss: 0.0032 - mae: 0.0448 - val_loss: 0.0039 - val_mae: 0.0501\n",
      "Epoch 252/2000\n",
      "5/5 [==============================] - 1s 152ms/step - loss: 0.0028 - mae: 0.0420 - val_loss: 0.0042 - val_mae: 0.0516\n",
      "Epoch 253/2000\n",
      "5/5 [==============================] - 1s 151ms/step - loss: 0.0028 - mae: 0.0422 - val_loss: 0.0042 - val_mae: 0.0516\n",
      "Epoch 254/2000\n",
      "5/5 [==============================] - ETA: 0s - loss: 0.0027 - mae: 0.0409INFO:tensorflow:Assets written to: C:\\Users\\PARK\\Documents\\LAB\\RNN vs LSTM\\FInal Example\\wandb\\run-20221015_190827-1kgjbxck\\files\\model-best\\assets\n"
     ]
    },
    {
     "name": "stderr",
     "output_type": "stream",
     "text": [
      "\u001b[34m\u001b[1mwandb\u001b[0m: Adding directory to artifact (C:\\Users\\PARK\\Documents\\LAB\\RNN vs LSTM\\FInal Example\\wandb\\run-20221015_190827-1kgjbxck\\files\\model-best)... Done. 0.0s\n"
     ]
    },
    {
     "name": "stdout",
     "output_type": "stream",
     "text": [
      "5/5 [==============================] - 2s 472ms/step - loss: 0.0027 - mae: 0.0409 - val_loss: 0.0039 - val_mae: 0.0499\n",
      "Epoch 255/2000\n",
      "5/5 [==============================] - 1s 158ms/step - loss: 0.0026 - mae: 0.0403 - val_loss: 0.0040 - val_mae: 0.0505\n",
      "Epoch 256/2000\n",
      "5/5 [==============================] - 1s 141ms/step - loss: 0.0026 - mae: 0.0399 - val_loss: 0.0042 - val_mae: 0.0517\n",
      "Epoch 257/2000\n",
      "5/5 [==============================] - 1s 135ms/step - loss: 0.0027 - mae: 0.0411 - val_loss: 0.0039 - val_mae: 0.0499\n",
      "Epoch 258/2000\n",
      "5/5 [==============================] - 1s 138ms/step - loss: 0.0026 - mae: 0.0407 - val_loss: 0.0045 - val_mae: 0.0536\n",
      "Epoch 259/2000\n",
      "5/5 [==============================] - 1s 145ms/step - loss: 0.0028 - mae: 0.0422 - val_loss: 0.0041 - val_mae: 0.0510\n",
      "Epoch 260/2000\n",
      "5/5 [==============================] - 1s 150ms/step - loss: 0.0028 - mae: 0.0418 - val_loss: 0.0048 - val_mae: 0.0551\n",
      "Epoch 261/2000\n",
      "5/5 [==============================] - 1s 151ms/step - loss: 0.0031 - mae: 0.0437 - val_loss: 0.0047 - val_mae: 0.0548\n",
      "Epoch 262/2000\n",
      "5/5 [==============================] - 1s 145ms/step - loss: 0.0029 - mae: 0.0428 - val_loss: 0.0041 - val_mae: 0.0506\n",
      "Epoch 263/2000\n",
      "5/5 [==============================] - 1s 137ms/step - loss: 0.0029 - mae: 0.0426 - val_loss: 0.0050 - val_mae: 0.0564\n",
      "Epoch 264/2000\n",
      "5/5 [==============================] - 1s 138ms/step - loss: 0.0030 - mae: 0.0434 - val_loss: 0.0041 - val_mae: 0.0516\n",
      "Epoch 265/2000\n",
      "5/5 [==============================] - 1s 145ms/step - loss: 0.0027 - mae: 0.0415 - val_loss: 0.0043 - val_mae: 0.0517\n",
      "Epoch 266/2000\n",
      "5/5 [==============================] - ETA: 0s - loss: 0.0026 - mae: 0.0402INFO:tensorflow:Assets written to: C:\\Users\\PARK\\Documents\\LAB\\RNN vs LSTM\\FInal Example\\wandb\\run-20221015_190827-1kgjbxck\\files\\model-best\\assets\n"
     ]
    },
    {
     "name": "stderr",
     "output_type": "stream",
     "text": [
      "\u001b[34m\u001b[1mwandb\u001b[0m: Adding directory to artifact (C:\\Users\\PARK\\Documents\\LAB\\RNN vs LSTM\\FInal Example\\wandb\\run-20221015_190827-1kgjbxck\\files\\model-best)... Done. 0.0s\n"
     ]
    },
    {
     "name": "stdout",
     "output_type": "stream",
     "text": [
      "5/5 [==============================] - 2s 500ms/step - loss: 0.0026 - mae: 0.0402 - val_loss: 0.0039 - val_mae: 0.0503\n",
      "Epoch 267/2000\n",
      "5/5 [==============================] - 1s 175ms/step - loss: 0.0027 - mae: 0.0411 - val_loss: 0.0044 - val_mae: 0.0527\n",
      "Epoch 268/2000\n",
      "5/5 [==============================] - 1s 153ms/step - loss: 0.0026 - mae: 0.0405 - val_loss: 0.0041 - val_mae: 0.0513\n",
      "Epoch 269/2000\n",
      "5/5 [==============================] - 1s 145ms/step - loss: 0.0026 - mae: 0.0406 - val_loss: 0.0041 - val_mae: 0.0505\n",
      "Epoch 270/2000\n",
      "5/5 [==============================] - 1s 141ms/step - loss: 0.0027 - mae: 0.0411 - val_loss: 0.0042 - val_mae: 0.0515\n",
      "Epoch 271/2000\n",
      "5/5 [==============================] - 1s 136ms/step - loss: 0.0027 - mae: 0.0408 - val_loss: 0.0040 - val_mae: 0.0505\n",
      "Epoch 272/2000\n",
      "5/5 [==============================] - 1s 146ms/step - loss: 0.0026 - mae: 0.0401 - val_loss: 0.0041 - val_mae: 0.0513\n",
      "Epoch 273/2000\n",
      "5/5 [==============================] - 1s 151ms/step - loss: 0.0027 - mae: 0.0412 - val_loss: 0.0041 - val_mae: 0.0513\n",
      "Epoch 274/2000\n",
      "5/5 [==============================] - 1s 152ms/step - loss: 0.0025 - mae: 0.0395 - val_loss: 0.0039 - val_mae: 0.0500\n",
      "Epoch 275/2000\n",
      "5/5 [==============================] - 1s 142ms/step - loss: 0.0026 - mae: 0.0403 - val_loss: 0.0042 - val_mae: 0.0523\n",
      "Epoch 276/2000\n",
      "5/5 [==============================] - 1s 137ms/step - loss: 0.0028 - mae: 0.0421 - val_loss: 0.0043 - val_mae: 0.0517\n",
      "Epoch 277/2000\n",
      "5/5 [==============================] - 1s 138ms/step - loss: 0.0027 - mae: 0.0407 - val_loss: 0.0040 - val_mae: 0.0505\n",
      "Epoch 278/2000\n",
      "5/5 [==============================] - 1s 147ms/step - loss: 0.0025 - mae: 0.0398 - val_loss: 0.0039 - val_mae: 0.0492\n",
      "Epoch 279/2000\n",
      "5/5 [==============================] - ETA: 0s - loss: 0.0024 - mae: 0.0389INFO:tensorflow:Assets written to: C:\\Users\\PARK\\Documents\\LAB\\RNN vs LSTM\\FInal Example\\wandb\\run-20221015_190827-1kgjbxck\\files\\model-best\\assets\n"
     ]
    },
    {
     "name": "stderr",
     "output_type": "stream",
     "text": [
      "\u001b[34m\u001b[1mwandb\u001b[0m: Adding directory to artifact (C:\\Users\\PARK\\Documents\\LAB\\RNN vs LSTM\\FInal Example\\wandb\\run-20221015_190827-1kgjbxck\\files\\model-best)... Done. 0.0s\n"
     ]
    },
    {
     "name": "stdout",
     "output_type": "stream",
     "text": [
      "5/5 [==============================] - 2s 484ms/step - loss: 0.0024 - mae: 0.0389 - val_loss: 0.0036 - val_mae: 0.0482\n",
      "Epoch 280/2000\n",
      "5/5 [==============================] - ETA: 0s - loss: 0.0022 - mae: 0.0371INFO:tensorflow:Assets written to: C:\\Users\\PARK\\Documents\\LAB\\RNN vs LSTM\\FInal Example\\wandb\\run-20221015_190827-1kgjbxck\\files\\model-best\\assets\n"
     ]
    },
    {
     "name": "stderr",
     "output_type": "stream",
     "text": [
      "\u001b[34m\u001b[1mwandb\u001b[0m: Adding directory to artifact (C:\\Users\\PARK\\Documents\\LAB\\RNN vs LSTM\\FInal Example\\wandb\\run-20221015_190827-1kgjbxck\\files\\model-best)... Done. 0.0s\n"
     ]
    },
    {
     "name": "stdout",
     "output_type": "stream",
     "text": [
      "5/5 [==============================] - 2s 535ms/step - loss: 0.0022 - mae: 0.0371 - val_loss: 0.0035 - val_mae: 0.0467\n",
      "Epoch 281/2000\n",
      "5/5 [==============================] - 1s 146ms/step - loss: 0.0022 - mae: 0.0369 - val_loss: 0.0036 - val_mae: 0.0481\n",
      "Epoch 282/2000\n",
      "5/5 [==============================] - 1s 136ms/step - loss: 0.0022 - mae: 0.0370 - val_loss: 0.0036 - val_mae: 0.0476\n",
      "Epoch 283/2000\n",
      "5/5 [==============================] - ETA: 0s - loss: 0.0021 - mae: 0.0367INFO:tensorflow:Assets written to: C:\\Users\\PARK\\Documents\\LAB\\RNN vs LSTM\\FInal Example\\wandb\\run-20221015_190827-1kgjbxck\\files\\model-best\\assets\n"
     ]
    },
    {
     "name": "stderr",
     "output_type": "stream",
     "text": [
      "\u001b[34m\u001b[1mwandb\u001b[0m: Adding directory to artifact (C:\\Users\\PARK\\Documents\\LAB\\RNN vs LSTM\\FInal Example\\wandb\\run-20221015_190827-1kgjbxck\\files\\model-best)... Done. 0.0s\n"
     ]
    },
    {
     "name": "stdout",
     "output_type": "stream",
     "text": [
      "5/5 [==============================] - 2s 473ms/step - loss: 0.0021 - mae: 0.0367 - val_loss: 0.0035 - val_mae: 0.0475\n",
      "Epoch 284/2000\n",
      "5/5 [==============================] - 1s 162ms/step - loss: 0.0022 - mae: 0.0372 - val_loss: 0.0037 - val_mae: 0.0485\n",
      "Epoch 285/2000\n",
      "5/5 [==============================] - 1s 150ms/step - loss: 0.0022 - mae: 0.0372 - val_loss: 0.0037 - val_mae: 0.0486\n",
      "Epoch 286/2000\n",
      "5/5 [==============================] - 1s 152ms/step - loss: 0.0024 - mae: 0.0384 - val_loss: 0.0039 - val_mae: 0.0493\n",
      "Epoch 287/2000\n",
      "5/5 [==============================] - 1s 143ms/step - loss: 0.0025 - mae: 0.0396 - val_loss: 0.0039 - val_mae: 0.0503\n",
      "Epoch 288/2000\n",
      "5/5 [==============================] - ETA: 0s - loss: 0.0027 - mae: 0.0411INFO:tensorflow:Assets written to: C:\\Users\\PARK\\Documents\\LAB\\RNN vs LSTM\\FInal Example\\wandb\\run-20221015_190827-1kgjbxck\\files\\model-best\\assets\n"
     ]
    },
    {
     "name": "stderr",
     "output_type": "stream",
     "text": [
      "\u001b[34m\u001b[1mwandb\u001b[0m: Adding directory to artifact (C:\\Users\\PARK\\Documents\\LAB\\RNN vs LSTM\\FInal Example\\wandb\\run-20221015_190827-1kgjbxck\\files\\model-best)... Done. 0.0s\n"
     ]
    },
    {
     "name": "stdout",
     "output_type": "stream",
     "text": [
      "5/5 [==============================] - 2s 476ms/step - loss: 0.0027 - mae: 0.0411 - val_loss: 0.0035 - val_mae: 0.0470\n",
      "Epoch 289/2000\n",
      "5/5 [==============================] - 1s 163ms/step - loss: 0.0025 - mae: 0.0395 - val_loss: 0.0040 - val_mae: 0.0502\n",
      "Epoch 290/2000\n",
      "5/5 [==============================] - 1s 150ms/step - loss: 0.0027 - mae: 0.0411 - val_loss: 0.0041 - val_mae: 0.0513\n",
      "Epoch 291/2000\n",
      "5/5 [==============================] - 1s 142ms/step - loss: 0.0025 - mae: 0.0399 - val_loss: 0.0048 - val_mae: 0.0552\n",
      "Epoch 292/2000\n",
      "5/5 [==============================] - 1s 140ms/step - loss: 0.0028 - mae: 0.0420 - val_loss: 0.0040 - val_mae: 0.0507\n",
      "Epoch 293/2000\n",
      "5/5 [==============================] - 1s 132ms/step - loss: 0.0025 - mae: 0.0393 - val_loss: 0.0038 - val_mae: 0.0484\n",
      "Epoch 294/2000\n",
      "5/5 [==============================] - 1s 147ms/step - loss: 0.0023 - mae: 0.0378 - val_loss: 0.0041 - val_mae: 0.0510\n",
      "Epoch 295/2000\n",
      "5/5 [==============================] - 1s 149ms/step - loss: 0.0025 - mae: 0.0400 - val_loss: 0.0040 - val_mae: 0.0505\n",
      "Epoch 296/2000\n",
      "5/5 [==============================] - 1s 142ms/step - loss: 0.0024 - mae: 0.0386 - val_loss: 0.0038 - val_mae: 0.0488\n",
      "Epoch 297/2000\n",
      "5/5 [==============================] - 1s 138ms/step - loss: 0.0022 - mae: 0.0374 - val_loss: 0.0036 - val_mae: 0.0476\n",
      "Epoch 298/2000\n",
      "5/5 [==============================] - 1s 134ms/step - loss: 0.0023 - mae: 0.0382 - val_loss: 0.0037 - val_mae: 0.0483\n",
      "Epoch 299/2000\n",
      "5/5 [==============================] - 1s 140ms/step - loss: 0.0022 - mae: 0.0373 - val_loss: 0.0038 - val_mae: 0.0488\n",
      "Epoch 300/2000\n",
      "5/5 [==============================] - 1s 151ms/step - loss: 0.0023 - mae: 0.0377 - val_loss: 0.0037 - val_mae: 0.0488\n",
      "Epoch 301/2000\n",
      "5/5 [==============================] - 1s 147ms/step - loss: 0.0022 - mae: 0.0374 - val_loss: 0.0042 - val_mae: 0.0513\n",
      "Epoch 302/2000\n",
      "5/5 [==============================] - 1s 150ms/step - loss: 0.0026 - mae: 0.0403 - val_loss: 0.0040 - val_mae: 0.0511\n",
      "Epoch 303/2000\n",
      "5/5 [==============================] - 1s 143ms/step - loss: 0.0023 - mae: 0.0380 - val_loss: 0.0038 - val_mae: 0.0493\n",
      "Epoch 304/2000\n",
      "5/5 [==============================] - 1s 135ms/step - loss: 0.0023 - mae: 0.0376 - val_loss: 0.0036 - val_mae: 0.0475\n",
      "Epoch 305/2000\n",
      "5/5 [==============================] - 1s 133ms/step - loss: 0.0023 - mae: 0.0379 - val_loss: 0.0035 - val_mae: 0.0473\n",
      "Epoch 306/2000\n",
      "5/5 [==============================] - 1s 141ms/step - loss: 0.0022 - mae: 0.0368 - val_loss: 0.0040 - val_mae: 0.0506\n",
      "Epoch 307/2000\n",
      "5/5 [==============================] - 1s 148ms/step - loss: 0.0025 - mae: 0.0399 - val_loss: 0.0044 - val_mae: 0.0529\n",
      "Epoch 308/2000\n",
      "5/5 [==============================] - 1s 140ms/step - loss: 0.0028 - mae: 0.0421 - val_loss: 0.0037 - val_mae: 0.0482\n",
      "Epoch 309/2000\n",
      "5/5 [==============================] - 1s 136ms/step - loss: 0.0029 - mae: 0.0427 - val_loss: 0.0049 - val_mae: 0.0568\n",
      "Epoch 310/2000\n",
      "5/5 [==============================] - 1s 134ms/step - loss: 0.0027 - mae: 0.0416 - val_loss: 0.0037 - val_mae: 0.0482\n",
      "Epoch 311/2000\n",
      "5/5 [==============================] - 1s 140ms/step - loss: 0.0025 - mae: 0.0392 - val_loss: 0.0036 - val_mae: 0.0474\n",
      "Epoch 312/2000\n",
      "5/5 [==============================] - 1s 142ms/step - loss: 0.0023 - mae: 0.0381 - val_loss: 0.0036 - val_mae: 0.0475\n",
      "Epoch 313/2000\n",
      "5/5 [==============================] - ETA: 0s - loss: 0.0021 - mae: 0.0361INFO:tensorflow:Assets written to: C:\\Users\\PARK\\Documents\\LAB\\RNN vs LSTM\\FInal Example\\wandb\\run-20221015_190827-1kgjbxck\\files\\model-best\\assets\n"
     ]
    },
    {
     "name": "stderr",
     "output_type": "stream",
     "text": [
      "\u001b[34m\u001b[1mwandb\u001b[0m: Adding directory to artifact (C:\\Users\\PARK\\Documents\\LAB\\RNN vs LSTM\\FInal Example\\wandb\\run-20221015_190827-1kgjbxck\\files\\model-best)... Done. 0.0s\n"
     ]
    },
    {
     "name": "stdout",
     "output_type": "stream",
     "text": [
      "5/5 [==============================] - 2s 491ms/step - loss: 0.0021 - mae: 0.0361 - val_loss: 0.0033 - val_mae: 0.0455\n",
      "Epoch 314/2000\n",
      "5/5 [==============================] - 1s 166ms/step - loss: 0.0020 - mae: 0.0358 - val_loss: 0.0040 - val_mae: 0.0490\n",
      "Epoch 315/2000\n",
      "5/5 [==============================] - 1s 151ms/step - loss: 0.0022 - mae: 0.0374 - val_loss: 0.0038 - val_mae: 0.0480\n",
      "Epoch 316/2000\n",
      "5/5 [==============================] - 1s 149ms/step - loss: 0.0023 - mae: 0.0379 - val_loss: 0.0035 - val_mae: 0.0465\n",
      "Epoch 317/2000\n",
      "5/5 [==============================] - 1s 150ms/step - loss: 0.0023 - mae: 0.0380 - val_loss: 0.0038 - val_mae: 0.0489\n",
      "Epoch 318/2000\n",
      "5/5 [==============================] - 1s 148ms/step - loss: 0.0023 - mae: 0.0379 - val_loss: 0.0038 - val_mae: 0.0482\n",
      "Epoch 319/2000\n",
      "5/5 [==============================] - 1s 146ms/step - loss: 0.0024 - mae: 0.0388 - val_loss: 0.0045 - val_mae: 0.0538\n",
      "Epoch 320/2000\n",
      "5/5 [==============================] - 1s 140ms/step - loss: 0.0031 - mae: 0.0442 - val_loss: 0.0040 - val_mae: 0.0502\n",
      "Epoch 321/2000\n",
      "5/5 [==============================] - 1s 141ms/step - loss: 0.0026 - mae: 0.0398 - val_loss: 0.0042 - val_mae: 0.0509\n",
      "Epoch 322/2000\n",
      "5/5 [==============================] - 1s 145ms/step - loss: 0.0027 - mae: 0.0410 - val_loss: 0.0037 - val_mae: 0.0492\n",
      "Epoch 323/2000\n",
      "5/5 [==============================] - 1s 136ms/step - loss: 0.0023 - mae: 0.0386 - val_loss: 0.0036 - val_mae: 0.0477\n",
      "Epoch 324/2000\n",
      "5/5 [==============================] - ETA: 0s - loss: 0.0023 - mae: 0.0378INFO:tensorflow:Assets written to: C:\\Users\\PARK\\Documents\\LAB\\RNN vs LSTM\\FInal Example\\wandb\\run-20221015_190827-1kgjbxck\\files\\model-best\\assets\n"
     ]
    },
    {
     "name": "stderr",
     "output_type": "stream",
     "text": [
      "\u001b[34m\u001b[1mwandb\u001b[0m: Adding directory to artifact (C:\\Users\\PARK\\Documents\\LAB\\RNN vs LSTM\\FInal Example\\wandb\\run-20221015_190827-1kgjbxck\\files\\model-best)... Done. 0.0s\n"
     ]
    },
    {
     "name": "stdout",
     "output_type": "stream",
     "text": [
      "5/5 [==============================] - 2s 464ms/step - loss: 0.0023 - mae: 0.0378 - val_loss: 0.0033 - val_mae: 0.0455\n",
      "Epoch 325/2000\n",
      "5/5 [==============================] - 1s 160ms/step - loss: 0.0021 - mae: 0.0368 - val_loss: 0.0034 - val_mae: 0.0463\n",
      "Epoch 326/2000\n",
      "5/5 [==============================] - 1s 147ms/step - loss: 0.0020 - mae: 0.0358 - val_loss: 0.0038 - val_mae: 0.0483\n",
      "Epoch 327/2000\n",
      "5/5 [==============================] - 1s 147ms/step - loss: 0.0021 - mae: 0.0363 - val_loss: 0.0034 - val_mae: 0.0460\n",
      "Epoch 328/2000\n",
      "5/5 [==============================] - 1s 148ms/step - loss: 0.0020 - mae: 0.0357 - val_loss: 0.0035 - val_mae: 0.0466\n",
      "Epoch 329/2000\n",
      "5/5 [==============================] - 1s 144ms/step - loss: 0.0020 - mae: 0.0348 - val_loss: 0.0034 - val_mae: 0.0462\n",
      "Epoch 330/2000\n",
      "5/5 [==============================] - 1s 135ms/step - loss: 0.0020 - mae: 0.0354 - val_loss: 0.0035 - val_mae: 0.0459\n",
      "Epoch 331/2000\n",
      "5/5 [==============================] - 1s 135ms/step - loss: 0.0020 - mae: 0.0354 - val_loss: 0.0033 - val_mae: 0.0451\n",
      "Epoch 332/2000\n",
      "5/5 [==============================] - ETA: 0s - loss: 0.0020 - mae: 0.0354INFO:tensorflow:Assets written to: C:\\Users\\PARK\\Documents\\LAB\\RNN vs LSTM\\FInal Example\\wandb\\run-20221015_190827-1kgjbxck\\files\\model-best\\assets\n"
     ]
    },
    {
     "name": "stderr",
     "output_type": "stream",
     "text": [
      "\u001b[34m\u001b[1mwandb\u001b[0m: Adding directory to artifact (C:\\Users\\PARK\\Documents\\LAB\\RNN vs LSTM\\FInal Example\\wandb\\run-20221015_190827-1kgjbxck\\files\\model-best)... Done. 0.0s\n"
     ]
    },
    {
     "name": "stdout",
     "output_type": "stream",
     "text": [
      "5/5 [==============================] - 2s 470ms/step - loss: 0.0020 - mae: 0.0354 - val_loss: 0.0033 - val_mae: 0.0455\n",
      "Epoch 333/2000\n",
      "5/5 [==============================] - 1s 162ms/step - loss: 0.0019 - mae: 0.0345 - val_loss: 0.0033 - val_mae: 0.0458\n",
      "Epoch 334/2000\n",
      "5/5 [==============================] - 1s 153ms/step - loss: 0.0019 - mae: 0.0350 - val_loss: 0.0034 - val_mae: 0.0461\n",
      "Epoch 335/2000\n",
      "5/5 [==============================] - 1s 151ms/step - loss: 0.0019 - mae: 0.0348 - val_loss: 0.0034 - val_mae: 0.0460\n",
      "Epoch 336/2000\n",
      "5/5 [==============================] - 1s 141ms/step - loss: 0.0020 - mae: 0.0356 - val_loss: 0.0034 - val_mae: 0.0464\n",
      "Epoch 337/2000\n",
      "5/5 [==============================] - 1s 139ms/step - loss: 0.0021 - mae: 0.0363 - val_loss: 0.0033 - val_mae: 0.0449\n",
      "Epoch 338/2000\n",
      "5/5 [==============================] - 1s 137ms/step - loss: 0.0021 - mae: 0.0363 - val_loss: 0.0038 - val_mae: 0.0478\n",
      "Epoch 339/2000\n",
      "5/5 [==============================] - ETA: 0s - loss: 0.0021 - mae: 0.0360INFO:tensorflow:Assets written to: C:\\Users\\PARK\\Documents\\LAB\\RNN vs LSTM\\FInal Example\\wandb\\run-20221015_190827-1kgjbxck\\files\\model-best\\assets\n"
     ]
    },
    {
     "name": "stderr",
     "output_type": "stream",
     "text": [
      "\u001b[34m\u001b[1mwandb\u001b[0m: Adding directory to artifact (C:\\Users\\PARK\\Documents\\LAB\\RNN vs LSTM\\FInal Example\\wandb\\run-20221015_190827-1kgjbxck\\files\\model-best)... Done. 0.0s\n"
     ]
    },
    {
     "name": "stdout",
     "output_type": "stream",
     "text": [
      "5/5 [==============================] - 2s 489ms/step - loss: 0.0021 - mae: 0.0360 - val_loss: 0.0032 - val_mae: 0.0443\n",
      "Epoch 340/2000\n",
      "5/5 [==============================] - 1s 156ms/step - loss: 0.0020 - mae: 0.0351 - val_loss: 0.0034 - val_mae: 0.0460\n",
      "Epoch 341/2000\n",
      "5/5 [==============================] - 1s 149ms/step - loss: 0.0020 - mae: 0.0354 - val_loss: 0.0034 - val_mae: 0.0466\n",
      "Epoch 342/2000\n",
      "5/5 [==============================] - 1s 138ms/step - loss: 0.0020 - mae: 0.0355 - val_loss: 0.0033 - val_mae: 0.0454\n",
      "Epoch 343/2000\n",
      "5/5 [==============================] - 1s 138ms/step - loss: 0.0019 - mae: 0.0348 - val_loss: 0.0033 - val_mae: 0.0453\n",
      "Epoch 344/2000\n",
      "5/5 [==============================] - 1s 138ms/step - loss: 0.0019 - mae: 0.0347 - val_loss: 0.0038 - val_mae: 0.0489\n",
      "Epoch 345/2000\n",
      "5/5 [==============================] - 1s 136ms/step - loss: 0.0022 - mae: 0.0370 - val_loss: 0.0035 - val_mae: 0.0456\n",
      "Epoch 346/2000\n",
      "5/5 [==============================] - 1s 147ms/step - loss: 0.0026 - mae: 0.0405 - val_loss: 0.0049 - val_mae: 0.0563\n",
      "Epoch 347/2000\n",
      "5/5 [==============================] - 1s 147ms/step - loss: 0.0031 - mae: 0.0444 - val_loss: 0.0040 - val_mae: 0.0504\n",
      "Epoch 348/2000\n",
      "5/5 [==============================] - 1s 148ms/step - loss: 0.0026 - mae: 0.0410 - val_loss: 0.0039 - val_mae: 0.0492\n",
      "Epoch 349/2000\n",
      "5/5 [==============================] - 1s 144ms/step - loss: 0.0024 - mae: 0.0391 - val_loss: 0.0037 - val_mae: 0.0481\n",
      "Epoch 350/2000\n",
      "5/5 [==============================] - 1s 134ms/step - loss: 0.0024 - mae: 0.0387 - val_loss: 0.0040 - val_mae: 0.0497\n",
      "Epoch 351/2000\n",
      "5/5 [==============================] - 1s 134ms/step - loss: 0.0024 - mae: 0.0390 - val_loss: 0.0033 - val_mae: 0.0450\n",
      "Epoch 352/2000\n",
      "5/5 [==============================] - 1s 143ms/step - loss: 0.0021 - mae: 0.0364 - val_loss: 0.0038 - val_mae: 0.0481\n",
      "Epoch 353/2000\n",
      "5/5 [==============================] - 1s 140ms/step - loss: 0.0021 - mae: 0.0367 - val_loss: 0.0033 - val_mae: 0.0452\n",
      "Epoch 354/2000\n",
      "5/5 [==============================] - 1s 139ms/step - loss: 0.0019 - mae: 0.0343 - val_loss: 0.0034 - val_mae: 0.0461\n",
      "Epoch 355/2000\n",
      "5/5 [==============================] - 1s 135ms/step - loss: 0.0019 - mae: 0.0344 - val_loss: 0.0032 - val_mae: 0.0448\n",
      "Epoch 356/2000\n",
      "5/5 [==============================] - ETA: 0s - loss: 0.0019 - mae: 0.0344INFO:tensorflow:Assets written to: C:\\Users\\PARK\\Documents\\LAB\\RNN vs LSTM\\FInal Example\\wandb\\run-20221015_190827-1kgjbxck\\files\\model-best\\assets\n"
     ]
    },
    {
     "name": "stderr",
     "output_type": "stream",
     "text": [
      "\u001b[34m\u001b[1mwandb\u001b[0m: Adding directory to artifact (C:\\Users\\PARK\\Documents\\LAB\\RNN vs LSTM\\FInal Example\\wandb\\run-20221015_190827-1kgjbxck\\files\\model-best)... Done. 0.0s\n"
     ]
    },
    {
     "name": "stdout",
     "output_type": "stream",
     "text": [
      "5/5 [==============================] - 2s 476ms/step - loss: 0.0019 - mae: 0.0344 - val_loss: 0.0030 - val_mae: 0.0436\n",
      "Epoch 357/2000\n",
      "5/5 [==============================] - 1s 156ms/step - loss: 0.0018 - mae: 0.0338 - val_loss: 0.0035 - val_mae: 0.0467\n",
      "Epoch 358/2000\n",
      "5/5 [==============================] - 1s 161ms/step - loss: 0.0019 - mae: 0.0347 - val_loss: 0.0035 - val_mae: 0.0462\n",
      "Epoch 359/2000\n",
      "5/5 [==============================] - 1s 148ms/step - loss: 0.0019 - mae: 0.0349 - val_loss: 0.0032 - val_mae: 0.0446\n",
      "Epoch 360/2000\n",
      "5/5 [==============================] - 1s 140ms/step - loss: 0.0019 - mae: 0.0344 - val_loss: 0.0034 - val_mae: 0.0462\n",
      "Epoch 361/2000\n",
      "5/5 [==============================] - 1s 137ms/step - loss: 0.0020 - mae: 0.0358 - val_loss: 0.0032 - val_mae: 0.0450\n",
      "Epoch 362/2000\n",
      "5/5 [==============================] - 1s 143ms/step - loss: 0.0020 - mae: 0.0355 - val_loss: 0.0037 - val_mae: 0.0478\n",
      "Epoch 363/2000\n",
      "5/5 [==============================] - 1s 151ms/step - loss: 0.0021 - mae: 0.0361 - val_loss: 0.0032 - val_mae: 0.0447\n",
      "Epoch 364/2000\n",
      "5/5 [==============================] - 1s 148ms/step - loss: 0.0019 - mae: 0.0347 - val_loss: 0.0035 - val_mae: 0.0465\n",
      "Epoch 365/2000\n",
      "5/5 [==============================] - 1s 141ms/step - loss: 0.0019 - mae: 0.0349 - val_loss: 0.0034 - val_mae: 0.0462\n",
      "Epoch 366/2000\n",
      "5/5 [==============================] - 1s 140ms/step - loss: 0.0019 - mae: 0.0345 - val_loss: 0.0032 - val_mae: 0.0442\n",
      "Epoch 367/2000\n",
      "5/5 [==============================] - 1s 137ms/step - loss: 0.0019 - mae: 0.0344 - val_loss: 0.0032 - val_mae: 0.0444\n",
      "Epoch 368/2000\n",
      "5/5 [==============================] - 1s 147ms/step - loss: 0.0020 - mae: 0.0352 - val_loss: 0.0034 - val_mae: 0.0461\n",
      "Epoch 369/2000\n",
      "5/5 [==============================] - 1s 150ms/step - loss: 0.0019 - mae: 0.0345 - val_loss: 0.0032 - val_mae: 0.0454\n",
      "Epoch 370/2000\n",
      "5/5 [==============================] - 1s 152ms/step - loss: 0.0020 - mae: 0.0352 - val_loss: 0.0032 - val_mae: 0.0442\n",
      "Epoch 371/2000\n",
      "5/5 [==============================] - 1s 141ms/step - loss: 0.0022 - mae: 0.0368 - val_loss: 0.0041 - val_mae: 0.0498\n",
      "Epoch 372/2000\n",
      "5/5 [==============================] - 1s 137ms/step - loss: 0.0021 - mae: 0.0368 - val_loss: 0.0031 - val_mae: 0.0441\n",
      "Epoch 373/2000\n",
      "5/5 [==============================] - 1s 141ms/step - loss: 0.0021 - mae: 0.0357 - val_loss: 0.0037 - val_mae: 0.0486\n",
      "Epoch 374/2000\n",
      "5/5 [==============================] - 1s 146ms/step - loss: 0.0022 - mae: 0.0374 - val_loss: 0.0033 - val_mae: 0.0452\n",
      "Epoch 375/2000\n",
      "5/5 [==============================] - 1s 150ms/step - loss: 0.0021 - mae: 0.0363 - val_loss: 0.0035 - val_mae: 0.0466\n",
      "Epoch 376/2000\n",
      "5/5 [==============================] - 1s 142ms/step - loss: 0.0021 - mae: 0.0361 - val_loss: 0.0035 - val_mae: 0.0468\n",
      "Epoch 377/2000\n",
      "5/5 [==============================] - 1s 140ms/step - loss: 0.0020 - mae: 0.0357 - val_loss: 0.0032 - val_mae: 0.0445\n",
      "Epoch 378/2000\n",
      "5/5 [==============================] - 1s 136ms/step - loss: 0.0019 - mae: 0.0346 - val_loss: 0.0033 - val_mae: 0.0449\n",
      "Epoch 379/2000\n",
      "5/5 [==============================] - 1s 146ms/step - loss: 0.0019 - mae: 0.0344 - val_loss: 0.0033 - val_mae: 0.0450\n",
      "Epoch 380/2000\n",
      "5/5 [==============================] - 1s 141ms/step - loss: 0.0018 - mae: 0.0341 - val_loss: 0.0033 - val_mae: 0.0452\n",
      "Epoch 381/2000\n",
      "4/5 [=======================>......] - ETA: 0s - loss: 0.0020 - mae: 0.0352INFO:tensorflow:Assets written to: C:\\Users\\PARK\\Documents\\LAB\\RNN vs LSTM\\FInal Example\\wandb\\run-20221015_190827-1kgjbxck\\files\\model-best\\assets\n"
     ]
    },
    {
     "name": "stderr",
     "output_type": "stream",
     "text": [
      "\u001b[34m\u001b[1mwandb\u001b[0m: Adding directory to artifact (C:\\Users\\PARK\\Documents\\LAB\\RNN vs LSTM\\FInal Example\\wandb\\run-20221015_190827-1kgjbxck\\files\\model-best)... Done. 0.0s\n"
     ]
    },
    {
     "name": "stdout",
     "output_type": "stream",
     "text": [
      "5/5 [==============================] - 2s 499ms/step - loss: 0.0020 - mae: 0.0351 - val_loss: 0.0030 - val_mae: 0.0430\n",
      "Epoch 382/2000\n",
      "5/5 [==============================] - 1s 162ms/step - loss: 0.0018 - mae: 0.0343 - val_loss: 0.0033 - val_mae: 0.0451\n",
      "Epoch 383/2000\n",
      "5/5 [==============================] - 1s 152ms/step - loss: 0.0017 - mae: 0.0324 - val_loss: 0.0031 - val_mae: 0.0439\n",
      "Epoch 384/2000\n",
      "5/5 [==============================] - 1s 150ms/step - loss: 0.0018 - mae: 0.0332 - val_loss: 0.0031 - val_mae: 0.0434\n",
      "Epoch 385/2000\n",
      "5/5 [==============================] - 1s 143ms/step - loss: 0.0017 - mae: 0.0327 - val_loss: 0.0031 - val_mae: 0.0441\n",
      "Epoch 386/2000\n",
      "5/5 [==============================] - 1s 137ms/step - loss: 0.0017 - mae: 0.0328 - val_loss: 0.0033 - val_mae: 0.0455\n",
      "Epoch 387/2000\n",
      "5/5 [==============================] - 1s 136ms/step - loss: 0.0018 - mae: 0.0339 - val_loss: 0.0032 - val_mae: 0.0448\n",
      "Epoch 388/2000\n",
      "5/5 [==============================] - ETA: 0s - loss: 0.0017 - mae: 0.0326INFO:tensorflow:Assets written to: C:\\Users\\PARK\\Documents\\LAB\\RNN vs LSTM\\FInal Example\\wandb\\run-20221015_190827-1kgjbxck\\files\\model-best\\assets\n"
     ]
    },
    {
     "name": "stderr",
     "output_type": "stream",
     "text": [
      "\u001b[34m\u001b[1mwandb\u001b[0m: Adding directory to artifact (C:\\Users\\PARK\\Documents\\LAB\\RNN vs LSTM\\FInal Example\\wandb\\run-20221015_190827-1kgjbxck\\files\\model-best)... Done. 0.0s\n"
     ]
    },
    {
     "name": "stdout",
     "output_type": "stream",
     "text": [
      "5/5 [==============================] - 2s 470ms/step - loss: 0.0017 - mae: 0.0326 - val_loss: 0.0030 - val_mae: 0.0426\n",
      "Epoch 389/2000\n",
      "5/5 [==============================] - 1s 157ms/step - loss: 0.0017 - mae: 0.0328 - val_loss: 0.0036 - val_mae: 0.0475\n",
      "Epoch 390/2000\n",
      "5/5 [==============================] - 1s 152ms/step - loss: 0.0019 - mae: 0.0346 - val_loss: 0.0032 - val_mae: 0.0440\n",
      "Epoch 391/2000\n",
      "5/5 [==============================] - 1s 149ms/step - loss: 0.0018 - mae: 0.0341 - val_loss: 0.0033 - val_mae: 0.0448\n",
      "Epoch 392/2000\n",
      "5/5 [==============================] - ETA: 0s - loss: 0.0019 - mae: 0.0345INFO:tensorflow:Assets written to: C:\\Users\\PARK\\Documents\\LAB\\RNN vs LSTM\\FInal Example\\wandb\\run-20221015_190827-1kgjbxck\\files\\model-best\\assets\n"
     ]
    },
    {
     "name": "stderr",
     "output_type": "stream",
     "text": [
      "\u001b[34m\u001b[1mwandb\u001b[0m: Adding directory to artifact (C:\\Users\\PARK\\Documents\\LAB\\RNN vs LSTM\\FInal Example\\wandb\\run-20221015_190827-1kgjbxck\\files\\model-best)... Done. 0.0s\n"
     ]
    },
    {
     "name": "stdout",
     "output_type": "stream",
     "text": [
      "5/5 [==============================] - 2s 513ms/step - loss: 0.0019 - mae: 0.0345 - val_loss: 0.0030 - val_mae: 0.0427\n",
      "Epoch 393/2000\n",
      "5/5 [==============================] - 1s 171ms/step - loss: 0.0018 - mae: 0.0341 - val_loss: 0.0037 - val_mae: 0.0478\n",
      "Epoch 394/2000\n",
      "5/5 [==============================] - 1s 153ms/step - loss: 0.0019 - mae: 0.0345 - val_loss: 0.0034 - val_mae: 0.0465\n",
      "Epoch 395/2000\n",
      "5/5 [==============================] - 1s 150ms/step - loss: 0.0020 - mae: 0.0352 - val_loss: 0.0036 - val_mae: 0.0477\n",
      "Epoch 396/2000\n",
      "5/5 [==============================] - 1s 141ms/step - loss: 0.0021 - mae: 0.0362 - val_loss: 0.0037 - val_mae: 0.0481\n",
      "Epoch 397/2000\n",
      "5/5 [==============================] - 1s 138ms/step - loss: 0.0028 - mae: 0.0414 - val_loss: 0.0053 - val_mae: 0.0569\n",
      "Epoch 398/2000\n",
      "5/5 [==============================] - 1s 133ms/step - loss: 0.0033 - mae: 0.0458 - val_loss: 0.0047 - val_mae: 0.0550\n",
      "Epoch 399/2000\n",
      "5/5 [==============================] - 1s 141ms/step - loss: 0.0034 - mae: 0.0465 - val_loss: 0.0049 - val_mae: 0.0557\n",
      "Epoch 400/2000\n",
      "5/5 [==============================] - 1s 148ms/step - loss: 0.0032 - mae: 0.0453 - val_loss: 0.0071 - val_mae: 0.0674\n",
      "Epoch 401/2000\n",
      "5/5 [==============================] - 1s 142ms/step - loss: 0.0044 - mae: 0.0524 - val_loss: 0.0038 - val_mae: 0.0485\n",
      "Epoch 402/2000\n",
      "5/5 [==============================] - 1s 138ms/step - loss: 0.0029 - mae: 0.0426 - val_loss: 0.0037 - val_mae: 0.0471\n",
      "Epoch 403/2000\n",
      "5/5 [==============================] - 1s 136ms/step - loss: 0.0025 - mae: 0.0397 - val_loss: 0.0038 - val_mae: 0.0490\n",
      "Epoch 404/2000\n",
      "5/5 [==============================] - 1s 142ms/step - loss: 0.0022 - mae: 0.0371 - val_loss: 0.0035 - val_mae: 0.0463\n",
      "Epoch 405/2000\n",
      "5/5 [==============================] - 1s 142ms/step - loss: 0.0019 - mae: 0.0347 - val_loss: 0.0034 - val_mae: 0.0464\n",
      "Epoch 406/2000\n",
      "5/5 [==============================] - 1s 133ms/step - loss: 0.0019 - mae: 0.0347 - val_loss: 0.0032 - val_mae: 0.0445\n",
      "Epoch 407/2000\n",
      "5/5 [==============================] - 1s 133ms/step - loss: 0.0018 - mae: 0.0338 - val_loss: 0.0034 - val_mae: 0.0462\n",
      "Epoch 408/2000\n",
      "5/5 [==============================] - 1s 140ms/step - loss: 0.0018 - mae: 0.0332 - val_loss: 0.0033 - val_mae: 0.0443\n",
      "Epoch 409/2000\n",
      "5/5 [==============================] - 1s 141ms/step - loss: 0.0018 - mae: 0.0331 - val_loss: 0.0033 - val_mae: 0.0447\n",
      "Epoch 410/2000\n",
      "5/5 [==============================] - 1s 134ms/step - loss: 0.0018 - mae: 0.0335 - val_loss: 0.0032 - val_mae: 0.0432\n",
      "Epoch 411/2000\n",
      "5/5 [==============================] - ETA: 0s - loss: 0.0017 - mae: 0.0322INFO:tensorflow:Assets written to: C:\\Users\\PARK\\Documents\\LAB\\RNN vs LSTM\\FInal Example\\wandb\\run-20221015_190827-1kgjbxck\\files\\model-best\\assets\n"
     ]
    },
    {
     "name": "stderr",
     "output_type": "stream",
     "text": [
      "\u001b[34m\u001b[1mwandb\u001b[0m: Adding directory to artifact (C:\\Users\\PARK\\Documents\\LAB\\RNN vs LSTM\\FInal Example\\wandb\\run-20221015_190827-1kgjbxck\\files\\model-best)... Done. 0.0s\n"
     ]
    },
    {
     "name": "stdout",
     "output_type": "stream",
     "text": [
      "5/5 [==============================] - 2s 463ms/step - loss: 0.0017 - mae: 0.0322 - val_loss: 0.0029 - val_mae: 0.0423\n",
      "Epoch 412/2000\n",
      "5/5 [==============================] - 1s 157ms/step - loss: 0.0016 - mae: 0.0313 - val_loss: 0.0031 - val_mae: 0.0434\n",
      "Epoch 413/2000\n",
      "5/5 [==============================] - 1s 142ms/step - loss: 0.0016 - mae: 0.0315 - val_loss: 0.0029 - val_mae: 0.0425\n",
      "Epoch 414/2000\n",
      "5/5 [==============================] - 1s 138ms/step - loss: 0.0016 - mae: 0.0317 - val_loss: 0.0032 - val_mae: 0.0442\n",
      "Epoch 415/2000\n",
      "5/5 [==============================] - 1s 137ms/step - loss: 0.0017 - mae: 0.0325 - val_loss: 0.0031 - val_mae: 0.0437\n",
      "Epoch 416/2000\n",
      "5/5 [==============================] - 1s 136ms/step - loss: 0.0018 - mae: 0.0334 - val_loss: 0.0036 - val_mae: 0.0468\n",
      "Epoch 417/2000\n",
      "5/5 [==============================] - 1s 134ms/step - loss: 0.0018 - mae: 0.0339 - val_loss: 0.0031 - val_mae: 0.0436\n",
      "Epoch 418/2000\n",
      "5/5 [==============================] - 1s 145ms/step - loss: 0.0016 - mae: 0.0314 - val_loss: 0.0031 - val_mae: 0.0435\n",
      "Epoch 419/2000\n",
      "5/5 [==============================] - 1s 149ms/step - loss: 0.0016 - mae: 0.0318 - val_loss: 0.0031 - val_mae: 0.0445\n",
      "Epoch 420/2000\n",
      "5/5 [==============================] - 1s 144ms/step - loss: 0.0016 - mae: 0.0316 - val_loss: 0.0030 - val_mae: 0.0432\n",
      "Epoch 421/2000\n",
      "5/5 [==============================] - ETA: 0s - loss: 0.0016 - mae: 0.0314INFO:tensorflow:Assets written to: C:\\Users\\PARK\\Documents\\LAB\\RNN vs LSTM\\FInal Example\\wandb\\run-20221015_190827-1kgjbxck\\files\\model-best\\assets\n"
     ]
    },
    {
     "name": "stderr",
     "output_type": "stream",
     "text": [
      "\u001b[34m\u001b[1mwandb\u001b[0m: Adding directory to artifact (C:\\Users\\PARK\\Documents\\LAB\\RNN vs LSTM\\FInal Example\\wandb\\run-20221015_190827-1kgjbxck\\files\\model-best)... Done. 0.0s\n"
     ]
    },
    {
     "name": "stdout",
     "output_type": "stream",
     "text": [
      "5/5 [==============================] - 2s 461ms/step - loss: 0.0016 - mae: 0.0314 - val_loss: 0.0028 - val_mae: 0.0416\n",
      "Epoch 422/2000\n",
      "5/5 [==============================] - 1s 162ms/step - loss: 0.0016 - mae: 0.0312 - val_loss: 0.0029 - val_mae: 0.0423\n",
      "Epoch 423/2000\n",
      "5/5 [==============================] - 1s 152ms/step - loss: 0.0016 - mae: 0.0309 - val_loss: 0.0031 - val_mae: 0.0431\n",
      "Epoch 424/2000\n",
      "5/5 [==============================] - 1s 138ms/step - loss: 0.0016 - mae: 0.0314 - val_loss: 0.0031 - val_mae: 0.0436\n",
      "Epoch 425/2000\n",
      "5/5 [==============================] - 1s 136ms/step - loss: 0.0017 - mae: 0.0324 - val_loss: 0.0030 - val_mae: 0.0425\n",
      "Epoch 426/2000\n",
      "5/5 [==============================] - 1s 138ms/step - loss: 0.0016 - mae: 0.0316 - val_loss: 0.0031 - val_mae: 0.0433\n",
      "Epoch 427/2000\n",
      "5/5 [==============================] - 1s 150ms/step - loss: 0.0016 - mae: 0.0313 - val_loss: 0.0035 - val_mae: 0.0456\n",
      "Epoch 428/2000\n",
      "5/5 [==============================] - 1s 156ms/step - loss: 0.0017 - mae: 0.0330 - val_loss: 0.0030 - val_mae: 0.0426\n",
      "Epoch 429/2000\n",
      "5/5 [==============================] - 1s 144ms/step - loss: 0.0019 - mae: 0.0342 - val_loss: 0.0032 - val_mae: 0.0442\n",
      "Epoch 430/2000\n",
      "5/5 [==============================] - 1s 134ms/step - loss: 0.0019 - mae: 0.0341 - val_loss: 0.0037 - val_mae: 0.0483\n",
      "Epoch 431/2000\n",
      "5/5 [==============================] - 1s 136ms/step - loss: 0.0021 - mae: 0.0361 - val_loss: 0.0037 - val_mae: 0.0473\n",
      "Epoch 432/2000\n",
      "5/5 [==============================] - 1s 149ms/step - loss: 0.0022 - mae: 0.0362 - val_loss: 0.0038 - val_mae: 0.0480\n",
      "Epoch 433/2000\n",
      "5/5 [==============================] - 1s 166ms/step - loss: 0.0020 - mae: 0.0356 - val_loss: 0.0033 - val_mae: 0.0452\n",
      "Epoch 434/2000\n",
      "5/5 [==============================] - 1s 150ms/step - loss: 0.0018 - mae: 0.0336 - val_loss: 0.0036 - val_mae: 0.0476\n",
      "Epoch 435/2000\n",
      "5/5 [==============================] - 1s 150ms/step - loss: 0.0019 - mae: 0.0342 - val_loss: 0.0033 - val_mae: 0.0449\n",
      "Epoch 436/2000\n",
      "5/5 [==============================] - 1s 150ms/step - loss: 0.0018 - mae: 0.0333 - val_loss: 0.0035 - val_mae: 0.0463\n",
      "Epoch 437/2000\n",
      "5/5 [==============================] - 1s 142ms/step - loss: 0.0020 - mae: 0.0355 - val_loss: 0.0032 - val_mae: 0.0441\n",
      "Epoch 438/2000\n",
      "5/5 [==============================] - 1s 136ms/step - loss: 0.0017 - mae: 0.0328 - val_loss: 0.0033 - val_mae: 0.0456\n",
      "Epoch 439/2000\n",
      "5/5 [==============================] - 1s 137ms/step - loss: 0.0017 - mae: 0.0324 - val_loss: 0.0032 - val_mae: 0.0443\n",
      "Epoch 440/2000\n",
      "5/5 [==============================] - 1s 145ms/step - loss: 0.0017 - mae: 0.0328 - val_loss: 0.0033 - val_mae: 0.0447\n",
      "Epoch 441/2000\n",
      "5/5 [==============================] - 1s 140ms/step - loss: 0.0019 - mae: 0.0345 - val_loss: 0.0035 - val_mae: 0.0465\n",
      "Epoch 442/2000\n",
      "5/5 [==============================] - 1s 135ms/step - loss: 0.0016 - mae: 0.0322 - val_loss: 0.0031 - val_mae: 0.0436\n",
      "Epoch 443/2000\n",
      "5/5 [==============================] - 1s 133ms/step - loss: 0.0016 - mae: 0.0316 - val_loss: 0.0030 - val_mae: 0.0425\n",
      "Epoch 444/2000\n",
      "5/5 [==============================] - 1s 147ms/step - loss: 0.0015 - mae: 0.0306 - val_loss: 0.0029 - val_mae: 0.0422\n",
      "Epoch 445/2000\n",
      "5/5 [==============================] - 1s 154ms/step - loss: 0.0014 - mae: 0.0299 - val_loss: 0.0029 - val_mae: 0.0424\n",
      "Epoch 446/2000\n",
      "5/5 [==============================] - ETA: 0s - loss: 0.0015 - mae: 0.0305INFO:tensorflow:Assets written to: C:\\Users\\PARK\\Documents\\LAB\\RNN vs LSTM\\FInal Example\\wandb\\run-20221015_190827-1kgjbxck\\files\\model-best\\assets\n"
     ]
    },
    {
     "name": "stderr",
     "output_type": "stream",
     "text": [
      "\u001b[34m\u001b[1mwandb\u001b[0m: Adding directory to artifact (C:\\Users\\PARK\\Documents\\LAB\\RNN vs LSTM\\FInal Example\\wandb\\run-20221015_190827-1kgjbxck\\files\\model-best)... Done. 0.0s\n"
     ]
    },
    {
     "name": "stdout",
     "output_type": "stream",
     "text": [
      "5/5 [==============================] - 2s 503ms/step - loss: 0.0015 - mae: 0.0305 - val_loss: 0.0028 - val_mae: 0.0412\n",
      "Epoch 447/2000\n",
      "5/5 [==============================] - ETA: 0s - loss: 0.0014 - mae: 0.0296INFO:tensorflow:Assets written to: C:\\Users\\PARK\\Documents\\LAB\\RNN vs LSTM\\FInal Example\\wandb\\run-20221015_190827-1kgjbxck\\files\\model-best\\assets\n"
     ]
    },
    {
     "name": "stderr",
     "output_type": "stream",
     "text": [
      "\u001b[34m\u001b[1mwandb\u001b[0m: Adding directory to artifact (C:\\Users\\PARK\\Documents\\LAB\\RNN vs LSTM\\FInal Example\\wandb\\run-20221015_190827-1kgjbxck\\files\\model-best)... Done. 0.0s\n"
     ]
    },
    {
     "name": "stdout",
     "output_type": "stream",
     "text": [
      "5/5 [==============================] - 2s 495ms/step - loss: 0.0014 - mae: 0.0296 - val_loss: 0.0028 - val_mae: 0.0410\n",
      "Epoch 448/2000\n",
      "5/5 [==============================] - 1s 164ms/step - loss: 0.0014 - mae: 0.0296 - val_loss: 0.0030 - val_mae: 0.0429\n",
      "Epoch 449/2000\n",
      "5/5 [==============================] - 1s 154ms/step - loss: 0.0014 - mae: 0.0301 - val_loss: 0.0030 - val_mae: 0.0423\n",
      "Epoch 450/2000\n",
      "5/5 [==============================] - 1s 153ms/step - loss: 0.0014 - mae: 0.0297 - val_loss: 0.0029 - val_mae: 0.0416\n",
      "Epoch 451/2000\n",
      "5/5 [==============================] - 1s 143ms/step - loss: 0.0015 - mae: 0.0304 - val_loss: 0.0029 - val_mae: 0.0422\n",
      "Epoch 452/2000\n",
      "5/5 [==============================] - 1s 140ms/step - loss: 0.0014 - mae: 0.0296 - val_loss: 0.0028 - val_mae: 0.0415\n",
      "Epoch 453/2000\n",
      "5/5 [==============================] - 1s 136ms/step - loss: 0.0015 - mae: 0.0307 - val_loss: 0.0030 - val_mae: 0.0430\n",
      "Epoch 454/2000\n",
      "5/5 [==============================] - 1s 146ms/step - loss: 0.0014 - mae: 0.0300 - val_loss: 0.0030 - val_mae: 0.0421\n",
      "Epoch 455/2000\n",
      "5/5 [==============================] - 1s 149ms/step - loss: 0.0015 - mae: 0.0300 - val_loss: 0.0029 - val_mae: 0.0421\n",
      "Epoch 456/2000\n",
      "5/5 [==============================] - ETA: 0s - loss: 0.0014 - mae: 0.0297INFO:tensorflow:Assets written to: C:\\Users\\PARK\\Documents\\LAB\\RNN vs LSTM\\FInal Example\\wandb\\run-20221015_190827-1kgjbxck\\files\\model-best\\assets\n"
     ]
    },
    {
     "name": "stderr",
     "output_type": "stream",
     "text": [
      "\u001b[34m\u001b[1mwandb\u001b[0m: Adding directory to artifact (C:\\Users\\PARK\\Documents\\LAB\\RNN vs LSTM\\FInal Example\\wandb\\run-20221015_190827-1kgjbxck\\files\\model-best)... Done. 0.0s\n"
     ]
    },
    {
     "name": "stdout",
     "output_type": "stream",
     "text": [
      "5/5 [==============================] - 2s 470ms/step - loss: 0.0014 - mae: 0.0297 - val_loss: 0.0028 - val_mae: 0.0409\n",
      "Epoch 457/2000\n",
      "5/5 [==============================] - 1s 153ms/step - loss: 0.0014 - mae: 0.0297 - val_loss: 0.0028 - val_mae: 0.0409\n",
      "Epoch 458/2000\n",
      "5/5 [==============================] - 1s 149ms/step - loss: 0.0014 - mae: 0.0296 - val_loss: 0.0030 - val_mae: 0.0429\n",
      "Epoch 459/2000\n",
      "5/5 [==============================] - 1s 139ms/step - loss: 0.0015 - mae: 0.0307 - val_loss: 0.0031 - val_mae: 0.0434\n",
      "Epoch 460/2000\n",
      "5/5 [==============================] - 1s 137ms/step - loss: 0.0015 - mae: 0.0307 - val_loss: 0.0031 - val_mae: 0.0432\n",
      "Epoch 461/2000\n",
      "5/5 [==============================] - 1s 135ms/step - loss: 0.0016 - mae: 0.0318 - val_loss: 0.0029 - val_mae: 0.0425\n",
      "Epoch 462/2000\n",
      "5/5 [==============================] - 1s 147ms/step - loss: 0.0015 - mae: 0.0305 - val_loss: 0.0029 - val_mae: 0.0423\n",
      "Epoch 463/2000\n",
      "5/5 [==============================] - 1s 150ms/step - loss: 0.0015 - mae: 0.0310 - val_loss: 0.0034 - val_mae: 0.0455\n",
      "Epoch 464/2000\n",
      "5/5 [==============================] - 1s 145ms/step - loss: 0.0017 - mae: 0.0328 - val_loss: 0.0033 - val_mae: 0.0452\n",
      "Epoch 465/2000\n",
      "5/5 [==============================] - 1s 134ms/step - loss: 0.0016 - mae: 0.0319 - val_loss: 0.0034 - val_mae: 0.0458\n",
      "Epoch 466/2000\n",
      "5/5 [==============================] - 1s 139ms/step - loss: 0.0017 - mae: 0.0323 - val_loss: 0.0031 - val_mae: 0.0437\n",
      "Epoch 467/2000\n",
      "5/5 [==============================] - 1s 142ms/step - loss: 0.0018 - mae: 0.0333 - val_loss: 0.0032 - val_mae: 0.0448\n",
      "Epoch 468/2000\n",
      "5/5 [==============================] - 1s 143ms/step - loss: 0.0016 - mae: 0.0315 - val_loss: 0.0034 - val_mae: 0.0455\n",
      "Epoch 469/2000\n",
      "5/5 [==============================] - 1s 136ms/step - loss: 0.0018 - mae: 0.0339 - val_loss: 0.0033 - val_mae: 0.0457\n",
      "Epoch 470/2000\n",
      "5/5 [==============================] - 1s 136ms/step - loss: 0.0018 - mae: 0.0332 - val_loss: 0.0032 - val_mae: 0.0446\n",
      "Epoch 471/2000\n",
      "5/5 [==============================] - 1s 147ms/step - loss: 0.0017 - mae: 0.0325 - val_loss: 0.0032 - val_mae: 0.0446\n",
      "Epoch 472/2000\n",
      "5/5 [==============================] - 1s 148ms/step - loss: 0.0017 - mae: 0.0330 - val_loss: 0.0034 - val_mae: 0.0452\n",
      "Epoch 473/2000\n",
      "5/5 [==============================] - 1s 150ms/step - loss: 0.0016 - mae: 0.0319 - val_loss: 0.0032 - val_mae: 0.0448\n",
      "Epoch 474/2000\n",
      "5/5 [==============================] - 1s 144ms/step - loss: 0.0016 - mae: 0.0312 - val_loss: 0.0033 - val_mae: 0.0452\n",
      "Epoch 475/2000\n",
      "5/5 [==============================] - 1s 135ms/step - loss: 0.0016 - mae: 0.0316 - val_loss: 0.0029 - val_mae: 0.0419\n",
      "Epoch 476/2000\n",
      "5/5 [==============================] - 1s 135ms/step - loss: 0.0016 - mae: 0.0311 - val_loss: 0.0030 - val_mae: 0.0423\n",
      "Epoch 477/2000\n",
      "5/5 [==============================] - 1s 146ms/step - loss: 0.0015 - mae: 0.0304 - val_loss: 0.0028 - val_mae: 0.0416\n",
      "Epoch 478/2000\n",
      "5/5 [==============================] - 1s 140ms/step - loss: 0.0016 - mae: 0.0316 - val_loss: 0.0033 - val_mae: 0.0449\n",
      "Epoch 479/2000\n",
      "5/5 [==============================] - 1s 138ms/step - loss: 0.0017 - mae: 0.0325 - val_loss: 0.0033 - val_mae: 0.0442\n",
      "Epoch 480/2000\n",
      "5/5 [==============================] - 1s 133ms/step - loss: 0.0017 - mae: 0.0324 - val_loss: 0.0033 - val_mae: 0.0446\n",
      "Epoch 481/2000\n",
      "5/5 [==============================] - 1s 148ms/step - loss: 0.0017 - mae: 0.0330 - val_loss: 0.0029 - val_mae: 0.0419\n",
      "Epoch 482/2000\n",
      "5/5 [==============================] - 1s 151ms/step - loss: 0.0015 - mae: 0.0303 - val_loss: 0.0029 - val_mae: 0.0419\n",
      "Epoch 483/2000\n",
      "5/5 [==============================] - 1s 144ms/step - loss: 0.0014 - mae: 0.0297 - val_loss: 0.0031 - val_mae: 0.0431\n",
      "Epoch 484/2000\n",
      "5/5 [==============================] - 1s 136ms/step - loss: 0.0015 - mae: 0.0305 - val_loss: 0.0028 - val_mae: 0.0421\n",
      "Epoch 485/2000\n",
      "5/5 [==============================] - 1s 133ms/step - loss: 0.0016 - mae: 0.0318 - val_loss: 0.0030 - val_mae: 0.0424\n",
      "Epoch 486/2000\n",
      "5/5 [==============================] - 1s 143ms/step - loss: 0.0016 - mae: 0.0317 - val_loss: 0.0030 - val_mae: 0.0427\n",
      "Epoch 487/2000\n",
      "5/5 [==============================] - 1s 148ms/step - loss: 0.0016 - mae: 0.0311 - val_loss: 0.0030 - val_mae: 0.0424\n",
      "Epoch 488/2000\n",
      "5/5 [==============================] - 1s 143ms/step - loss: 0.0016 - mae: 0.0315 - val_loss: 0.0036 - val_mae: 0.0465\n",
      "Epoch 489/2000\n",
      "5/5 [==============================] - 1s 140ms/step - loss: 0.0017 - mae: 0.0328 - val_loss: 0.0032 - val_mae: 0.0443\n",
      "Epoch 490/2000\n",
      "5/5 [==============================] - 1s 141ms/step - loss: 0.0019 - mae: 0.0347 - val_loss: 0.0036 - val_mae: 0.0460\n",
      "Epoch 491/2000\n",
      "5/5 [==============================] - 1s 138ms/step - loss: 0.0019 - mae: 0.0344 - val_loss: 0.0033 - val_mae: 0.0444\n",
      "Epoch 492/2000\n",
      "5/5 [==============================] - 1s 150ms/step - loss: 0.0016 - mae: 0.0313 - val_loss: 0.0028 - val_mae: 0.0415\n",
      "Epoch 493/2000\n",
      "5/5 [==============================] - 1s 141ms/step - loss: 0.0015 - mae: 0.0304 - val_loss: 0.0029 - val_mae: 0.0420\n",
      "Epoch 494/2000\n",
      "5/5 [==============================] - 1s 137ms/step - loss: 0.0015 - mae: 0.0303 - val_loss: 0.0029 - val_mae: 0.0416\n",
      "Epoch 495/2000\n",
      "5/5 [==============================] - 1s 143ms/step - loss: 0.0014 - mae: 0.0298 - val_loss: 0.0031 - val_mae: 0.0434\n",
      "Epoch 496/2000\n",
      "5/5 [==============================] - 1s 145ms/step - loss: 0.0015 - mae: 0.0303 - val_loss: 0.0032 - val_mae: 0.0444\n",
      "Epoch 497/2000\n",
      "5/5 [==============================] - 1s 150ms/step - loss: 0.0017 - mae: 0.0326 - val_loss: 0.0032 - val_mae: 0.0436\n",
      "Epoch 498/2000\n",
      "5/5 [==============================] - 1s 144ms/step - loss: 0.0019 - mae: 0.0345 - val_loss: 0.0036 - val_mae: 0.0463\n",
      "Epoch 499/2000\n",
      "5/5 [==============================] - 1s 139ms/step - loss: 0.0017 - mae: 0.0331 - val_loss: 0.0032 - val_mae: 0.0438\n",
      "Epoch 500/2000\n",
      "5/5 [==============================] - 1s 135ms/step - loss: 0.0017 - mae: 0.0328 - val_loss: 0.0031 - val_mae: 0.0436\n",
      "Epoch 501/2000\n",
      "5/5 [==============================] - 1s 144ms/step - loss: 0.0015 - mae: 0.0309 - val_loss: 0.0033 - val_mae: 0.0436\n",
      "Epoch 502/2000\n",
      "5/5 [==============================] - 1s 144ms/step - loss: 0.0016 - mae: 0.0314 - val_loss: 0.0029 - val_mae: 0.0418\n",
      "Epoch 503/2000\n",
      "5/5 [==============================] - 1s 135ms/step - loss: 0.0014 - mae: 0.0294 - val_loss: 0.0030 - val_mae: 0.0423\n",
      "Epoch 504/2000\n",
      "5/5 [==============================] - 1s 139ms/step - loss: 0.0014 - mae: 0.0301 - val_loss: 0.0028 - val_mae: 0.0416\n",
      "Epoch 505/2000\n",
      "5/5 [==============================] - 1s 145ms/step - loss: 0.0014 - mae: 0.0297 - val_loss: 0.0028 - val_mae: 0.0406\n",
      "Epoch 506/2000\n",
      "5/5 [==============================] - 1s 150ms/step - loss: 0.0014 - mae: 0.0295 - val_loss: 0.0031 - val_mae: 0.0431\n",
      "Epoch 507/2000\n",
      "5/5 [==============================] - 1s 143ms/step - loss: 0.0015 - mae: 0.0306 - val_loss: 0.0030 - val_mae: 0.0428\n",
      "Epoch 508/2000\n",
      "5/5 [==============================] - ETA: 0s - loss: 0.0014 - mae: 0.0294INFO:tensorflow:Assets written to: C:\\Users\\PARK\\Documents\\LAB\\RNN vs LSTM\\FInal Example\\wandb\\run-20221015_190827-1kgjbxck\\files\\model-best\\assets\n"
     ]
    },
    {
     "name": "stderr",
     "output_type": "stream",
     "text": [
      "\u001b[34m\u001b[1mwandb\u001b[0m: Adding directory to artifact (C:\\Users\\PARK\\Documents\\LAB\\RNN vs LSTM\\FInal Example\\wandb\\run-20221015_190827-1kgjbxck\\files\\model-best)... Done. 0.0s\n"
     ]
    },
    {
     "name": "stdout",
     "output_type": "stream",
     "text": [
      "5/5 [==============================] - 2s 489ms/step - loss: 0.0014 - mae: 0.0294 - val_loss: 0.0027 - val_mae: 0.0399\n",
      "Epoch 509/2000\n",
      "5/5 [==============================] - 1s 169ms/step - loss: 0.0013 - mae: 0.0283 - val_loss: 0.0029 - val_mae: 0.0416\n",
      "Epoch 510/2000\n",
      "5/5 [==============================] - 1s 152ms/step - loss: 0.0014 - mae: 0.0296 - val_loss: 0.0029 - val_mae: 0.0420\n",
      "Epoch 511/2000\n",
      "5/5 [==============================] - 1s 147ms/step - loss: 0.0014 - mae: 0.0297 - val_loss: 0.0030 - val_mae: 0.0431\n",
      "Epoch 512/2000\n",
      "5/5 [==============================] - 1s 140ms/step - loss: 0.0014 - mae: 0.0290 - val_loss: 0.0028 - val_mae: 0.0416\n",
      "Epoch 513/2000\n",
      "5/5 [==============================] - 1s 137ms/step - loss: 0.0014 - mae: 0.0290 - val_loss: 0.0030 - val_mae: 0.0428\n",
      "Epoch 514/2000\n",
      "5/5 [==============================] - 1s 152ms/step - loss: 0.0014 - mae: 0.0299 - val_loss: 0.0029 - val_mae: 0.0416\n",
      "Epoch 515/2000\n",
      "5/5 [==============================] - 1s 142ms/step - loss: 0.0014 - mae: 0.0291 - val_loss: 0.0029 - val_mae: 0.0420\n",
      "Epoch 516/2000\n",
      "5/5 [==============================] - 1s 135ms/step - loss: 0.0014 - mae: 0.0289 - val_loss: 0.0027 - val_mae: 0.0406\n",
      "Epoch 517/2000\n",
      "5/5 [==============================] - 1s 137ms/step - loss: 0.0013 - mae: 0.0289 - val_loss: 0.0030 - val_mae: 0.0429\n",
      "Epoch 518/2000\n",
      "5/5 [==============================] - 1s 144ms/step - loss: 0.0014 - mae: 0.0290 - val_loss: 0.0030 - val_mae: 0.0427\n",
      "Epoch 519/2000\n",
      "5/5 [==============================] - 1s 143ms/step - loss: 0.0014 - mae: 0.0293 - val_loss: 0.0027 - val_mae: 0.0403\n",
      "Epoch 520/2000\n",
      "5/5 [==============================] - 1s 135ms/step - loss: 0.0014 - mae: 0.0290 - val_loss: 0.0030 - val_mae: 0.0433\n",
      "Epoch 521/2000\n",
      "5/5 [==============================] - 1s 137ms/step - loss: 0.0015 - mae: 0.0309 - val_loss: 0.0033 - val_mae: 0.0450\n",
      "Epoch 522/2000\n",
      "5/5 [==============================] - 1s 145ms/step - loss: 0.0016 - mae: 0.0318 - val_loss: 0.0028 - val_mae: 0.0402\n",
      "Epoch 523/2000\n",
      "5/5 [==============================] - 1s 148ms/step - loss: 0.0015 - mae: 0.0313 - val_loss: 0.0029 - val_mae: 0.0419\n",
      "Epoch 524/2000\n",
      "5/5 [==============================] - 1s 143ms/step - loss: 0.0016 - mae: 0.0315 - val_loss: 0.0034 - val_mae: 0.0450\n",
      "Epoch 525/2000\n",
      "5/5 [==============================] - 1s 136ms/step - loss: 0.0016 - mae: 0.0318 - val_loss: 0.0031 - val_mae: 0.0431\n",
      "Epoch 526/2000\n",
      "5/5 [==============================] - 1s 136ms/step - loss: 0.0016 - mae: 0.0321 - val_loss: 0.0030 - val_mae: 0.0429\n",
      "Epoch 527/2000\n",
      "5/5 [==============================] - 1s 145ms/step - loss: 0.0015 - mae: 0.0303 - val_loss: 0.0033 - val_mae: 0.0450\n",
      "Epoch 528/2000\n",
      "5/5 [==============================] - 1s 149ms/step - loss: 0.0014 - mae: 0.0299 - val_loss: 0.0028 - val_mae: 0.0411\n",
      "Epoch 529/2000\n",
      "5/5 [==============================] - 1s 140ms/step - loss: 0.0014 - mae: 0.0291 - val_loss: 0.0028 - val_mae: 0.0409\n",
      "Epoch 530/2000\n",
      "5/5 [==============================] - 1s 136ms/step - loss: 0.0013 - mae: 0.0287 - val_loss: 0.0029 - val_mae: 0.0417\n",
      "Epoch 531/2000\n",
      "5/5 [==============================] - 1s 134ms/step - loss: 0.0013 - mae: 0.0281 - val_loss: 0.0028 - val_mae: 0.0408\n",
      "Epoch 532/2000\n",
      "5/5 [==============================] - 1s 147ms/step - loss: 0.0013 - mae: 0.0283 - val_loss: 0.0029 - val_mae: 0.0420\n",
      "Epoch 533/2000\n",
      "5/5 [==============================] - 1s 156ms/step - loss: 0.0014 - mae: 0.0295 - val_loss: 0.0027 - val_mae: 0.0407\n",
      "Epoch 534/2000\n",
      "5/5 [==============================] - 1s 152ms/step - loss: 0.0013 - mae: 0.0285 - val_loss: 0.0032 - val_mae: 0.0442\n",
      "Epoch 535/2000\n",
      "5/5 [==============================] - 1s 144ms/step - loss: 0.0014 - mae: 0.0299 - val_loss: 0.0031 - val_mae: 0.0439\n",
      "Epoch 536/2000\n",
      "5/5 [==============================] - 1s 139ms/step - loss: 0.0014 - mae: 0.0293 - val_loss: 0.0027 - val_mae: 0.0410\n",
      "Epoch 537/2000\n",
      "5/5 [==============================] - 1s 137ms/step - loss: 0.0013 - mae: 0.0280 - val_loss: 0.0028 - val_mae: 0.0408\n",
      "Epoch 538/2000\n",
      "5/5 [==============================] - ETA: 0s - loss: 0.0012 - mae: 0.0278INFO:tensorflow:Assets written to: C:\\Users\\PARK\\Documents\\LAB\\RNN vs LSTM\\FInal Example\\wandb\\run-20221015_190827-1kgjbxck\\files\\model-best\\assets\n"
     ]
    },
    {
     "name": "stderr",
     "output_type": "stream",
     "text": [
      "\u001b[34m\u001b[1mwandb\u001b[0m: Adding directory to artifact (C:\\Users\\PARK\\Documents\\LAB\\RNN vs LSTM\\FInal Example\\wandb\\run-20221015_190827-1kgjbxck\\files\\model-best)... Done. 0.0s\n"
     ]
    },
    {
     "name": "stdout",
     "output_type": "stream",
     "text": [
      "5/5 [==============================] - 2s 475ms/step - loss: 0.0012 - mae: 0.0278 - val_loss: 0.0027 - val_mae: 0.0398\n",
      "Epoch 539/2000\n",
      "5/5 [==============================] - 1s 161ms/step - loss: 0.0012 - mae: 0.0267 - val_loss: 0.0027 - val_mae: 0.0406\n",
      "Epoch 540/2000\n",
      "5/5 [==============================] - 1s 150ms/step - loss: 0.0012 - mae: 0.0275 - val_loss: 0.0030 - val_mae: 0.0427\n",
      "Epoch 541/2000\n",
      "5/5 [==============================] - 1s 137ms/step - loss: 0.0014 - mae: 0.0295 - val_loss: 0.0027 - val_mae: 0.0404\n",
      "Epoch 542/2000\n",
      "5/5 [==============================] - ETA: 0s - loss: 0.0012 - mae: 0.0275INFO:tensorflow:Assets written to: C:\\Users\\PARK\\Documents\\LAB\\RNN vs LSTM\\FInal Example\\wandb\\run-20221015_190827-1kgjbxck\\files\\model-best\\assets\n"
     ]
    },
    {
     "name": "stderr",
     "output_type": "stream",
     "text": [
      "\u001b[34m\u001b[1mwandb\u001b[0m: Adding directory to artifact (C:\\Users\\PARK\\Documents\\LAB\\RNN vs LSTM\\FInal Example\\wandb\\run-20221015_190827-1kgjbxck\\files\\model-best)... Done. 0.0s\n"
     ]
    },
    {
     "name": "stdout",
     "output_type": "stream",
     "text": [
      "5/5 [==============================] - 2s 500ms/step - loss: 0.0012 - mae: 0.0275 - val_loss: 0.0026 - val_mae: 0.0398\n",
      "Epoch 543/2000\n",
      "5/5 [==============================] - 1s 163ms/step - loss: 0.0012 - mae: 0.0278 - val_loss: 0.0030 - val_mae: 0.0426\n",
      "Epoch 544/2000\n",
      "5/5 [==============================] - 1s 145ms/step - loss: 0.0014 - mae: 0.0294 - val_loss: 0.0027 - val_mae: 0.0404\n",
      "Epoch 545/2000\n",
      "5/5 [==============================] - 1s 160ms/step - loss: 0.0014 - mae: 0.0293 - val_loss: 0.0027 - val_mae: 0.0401\n",
      "Epoch 546/2000\n",
      "5/5 [==============================] - 1s 153ms/step - loss: 0.0013 - mae: 0.0280 - val_loss: 0.0029 - val_mae: 0.0416\n",
      "Epoch 547/2000\n",
      "5/5 [==============================] - 1s 139ms/step - loss: 0.0012 - mae: 0.0277 - val_loss: 0.0027 - val_mae: 0.0408\n",
      "Epoch 548/2000\n",
      "5/5 [==============================] - 1s 135ms/step - loss: 0.0012 - mae: 0.0272 - val_loss: 0.0026 - val_mae: 0.0402\n",
      "Epoch 549/2000\n",
      "5/5 [==============================] - 1s 136ms/step - loss: 0.0012 - mae: 0.0276 - val_loss: 0.0037 - val_mae: 0.0470\n",
      "Epoch 550/2000\n",
      "5/5 [==============================] - 1s 144ms/step - loss: 0.0015 - mae: 0.0303 - val_loss: 0.0032 - val_mae: 0.0444\n",
      "Epoch 551/2000\n",
      "5/5 [==============================] - 1s 150ms/step - loss: 0.0016 - mae: 0.0310 - val_loss: 0.0031 - val_mae: 0.0433\n",
      "Epoch 552/2000\n",
      "5/5 [==============================] - 1s 141ms/step - loss: 0.0015 - mae: 0.0307 - val_loss: 0.0029 - val_mae: 0.0427\n",
      "Epoch 553/2000\n",
      "5/5 [==============================] - 1s 136ms/step - loss: 0.0016 - mae: 0.0317 - val_loss: 0.0033 - val_mae: 0.0451\n",
      "Epoch 554/2000\n",
      "5/5 [==============================] - 1s 134ms/step - loss: 0.0016 - mae: 0.0314 - val_loss: 0.0029 - val_mae: 0.0423\n",
      "Epoch 555/2000\n",
      "5/5 [==============================] - 1s 144ms/step - loss: 0.0015 - mae: 0.0305 - val_loss: 0.0027 - val_mae: 0.0402\n",
      "Epoch 556/2000\n",
      "5/5 [==============================] - 1s 141ms/step - loss: 0.0014 - mae: 0.0294 - val_loss: 0.0029 - val_mae: 0.0411\n",
      "Epoch 557/2000\n",
      "5/5 [==============================] - 1s 137ms/step - loss: 0.0014 - mae: 0.0294 - val_loss: 0.0028 - val_mae: 0.0411\n",
      "Epoch 558/2000\n",
      "5/5 [==============================] - 1s 137ms/step - loss: 0.0013 - mae: 0.0280 - val_loss: 0.0028 - val_mae: 0.0415\n",
      "Epoch 559/2000\n",
      "5/5 [==============================] - 1s 145ms/step - loss: 0.0013 - mae: 0.0284 - val_loss: 0.0027 - val_mae: 0.0407\n",
      "Epoch 560/2000\n",
      "5/5 [==============================] - 1s 148ms/step - loss: 0.0012 - mae: 0.0271 - val_loss: 0.0028 - val_mae: 0.0411\n",
      "Epoch 561/2000\n",
      "5/5 [==============================] - 1s 137ms/step - loss: 0.0012 - mae: 0.0272 - val_loss: 0.0028 - val_mae: 0.0410\n",
      "Epoch 562/2000\n",
      "5/5 [==============================] - 1s 139ms/step - loss: 0.0012 - mae: 0.0271 - val_loss: 0.0027 - val_mae: 0.0407\n",
      "Epoch 563/2000\n",
      "5/5 [==============================] - 1s 134ms/step - loss: 0.0012 - mae: 0.0273 - val_loss: 0.0027 - val_mae: 0.0404\n",
      "Epoch 564/2000\n",
      "5/5 [==============================] - 1s 146ms/step - loss: 0.0012 - mae: 0.0277 - val_loss: 0.0029 - val_mae: 0.0423\n",
      "Epoch 565/2000\n",
      "5/5 [==============================] - 1s 142ms/step - loss: 0.0013 - mae: 0.0282 - val_loss: 0.0026 - val_mae: 0.0396\n",
      "Epoch 566/2000\n",
      "5/5 [==============================] - 1s 138ms/step - loss: 0.0012 - mae: 0.0273 - val_loss: 0.0028 - val_mae: 0.0411\n",
      "Epoch 567/2000\n",
      "5/5 [==============================] - 1s 135ms/step - loss: 0.0012 - mae: 0.0278 - val_loss: 0.0027 - val_mae: 0.0405\n",
      "Epoch 568/2000\n",
      "5/5 [==============================] - 1s 142ms/step - loss: 0.0011 - mae: 0.0266 - val_loss: 0.0028 - val_mae: 0.0414\n",
      "Epoch 569/2000\n",
      "5/5 [==============================] - 1s 141ms/step - loss: 0.0012 - mae: 0.0272 - val_loss: 0.0026 - val_mae: 0.0400\n",
      "Epoch 570/2000\n",
      "5/5 [==============================] - 1s 136ms/step - loss: 0.0012 - mae: 0.0274 - val_loss: 0.0027 - val_mae: 0.0403\n",
      "Epoch 571/2000\n",
      "5/5 [==============================] - 1s 138ms/step - loss: 0.0012 - mae: 0.0268 - val_loss: 0.0027 - val_mae: 0.0402\n",
      "Epoch 572/2000\n",
      "5/5 [==============================] - 1s 145ms/step - loss: 0.0013 - mae: 0.0284 - val_loss: 0.0028 - val_mae: 0.0411\n",
      "Epoch 573/2000\n",
      "5/5 [==============================] - 1s 149ms/step - loss: 0.0013 - mae: 0.0279 - val_loss: 0.0030 - val_mae: 0.0430\n",
      "Epoch 574/2000\n",
      "5/5 [==============================] - 1s 144ms/step - loss: 0.0013 - mae: 0.0285 - val_loss: 0.0027 - val_mae: 0.0398\n",
      "Epoch 575/2000\n",
      "5/5 [==============================] - 1s 135ms/step - loss: 0.0013 - mae: 0.0285 - val_loss: 0.0031 - val_mae: 0.0437\n",
      "Epoch 576/2000\n",
      "5/5 [==============================] - 1s 139ms/step - loss: 0.0014 - mae: 0.0299 - val_loss: 0.0028 - val_mae: 0.0412\n",
      "Epoch 577/2000\n",
      "5/5 [==============================] - 1s 142ms/step - loss: 0.0013 - mae: 0.0286 - val_loss: 0.0038 - val_mae: 0.0483\n",
      "Epoch 578/2000\n",
      "5/5 [==============================] - 1s 145ms/step - loss: 0.0017 - mae: 0.0325 - val_loss: 0.0030 - val_mae: 0.0427\n",
      "Epoch 579/2000\n",
      "5/5 [==============================] - 1s 145ms/step - loss: 0.0019 - mae: 0.0344 - val_loss: 0.0051 - val_mae: 0.0573\n",
      "Epoch 580/2000\n",
      "5/5 [==============================] - 1s 142ms/step - loss: 0.0024 - mae: 0.0389 - val_loss: 0.0032 - val_mae: 0.0444\n",
      "Epoch 581/2000\n",
      "5/5 [==============================] - 1s 140ms/step - loss: 0.0019 - mae: 0.0344 - val_loss: 0.0032 - val_mae: 0.0438\n",
      "Epoch 582/2000\n",
      "5/5 [==============================] - 1s 141ms/step - loss: 0.0017 - mae: 0.0325 - val_loss: 0.0038 - val_mae: 0.0475\n",
      "Epoch 583/2000\n",
      "5/5 [==============================] - 1s 143ms/step - loss: 0.0018 - mae: 0.0333 - val_loss: 0.0033 - val_mae: 0.0448\n",
      "Epoch 584/2000\n",
      "5/5 [==============================] - 1s 136ms/step - loss: 0.0016 - mae: 0.0322 - val_loss: 0.0034 - val_mae: 0.0451\n",
      "Epoch 585/2000\n",
      "5/5 [==============================] - 1s 136ms/step - loss: 0.0015 - mae: 0.0308 - val_loss: 0.0030 - val_mae: 0.0423\n",
      "Epoch 586/2000\n",
      "5/5 [==============================] - 1s 139ms/step - loss: 0.0014 - mae: 0.0296 - val_loss: 0.0029 - val_mae: 0.0415\n",
      "Epoch 587/2000\n",
      "5/5 [==============================] - 1s 150ms/step - loss: 0.0014 - mae: 0.0291 - val_loss: 0.0028 - val_mae: 0.0415\n",
      "Epoch 588/2000\n",
      "5/5 [==============================] - 1s 144ms/step - loss: 0.0012 - mae: 0.0275 - val_loss: 0.0032 - val_mae: 0.0435\n",
      "Epoch 589/2000\n",
      "5/5 [==============================] - 1s 138ms/step - loss: 0.0013 - mae: 0.0280 - val_loss: 0.0028 - val_mae: 0.0411\n",
      "Epoch 590/2000\n",
      "5/5 [==============================] - 1s 131ms/step - loss: 0.0013 - mae: 0.0288 - val_loss: 0.0027 - val_mae: 0.0405\n",
      "Epoch 591/2000\n",
      "5/5 [==============================] - 1s 146ms/step - loss: 0.0012 - mae: 0.0274 - val_loss: 0.0028 - val_mae: 0.0408\n",
      "Epoch 592/2000\n",
      "5/5 [==============================] - 1s 149ms/step - loss: 0.0012 - mae: 0.0268 - val_loss: 0.0029 - val_mae: 0.0423\n",
      "Epoch 593/2000\n",
      "5/5 [==============================] - 1s 146ms/step - loss: 0.0012 - mae: 0.0276 - val_loss: 0.0027 - val_mae: 0.0406\n",
      "Epoch 594/2000\n",
      "5/5 [==============================] - 1s 132ms/step - loss: 0.0012 - mae: 0.0281 - val_loss: 0.0027 - val_mae: 0.0408\n",
      "Epoch 595/2000\n",
      "5/5 [==============================] - 1s 136ms/step - loss: 0.0012 - mae: 0.0272 - val_loss: 0.0029 - val_mae: 0.0418\n",
      "Epoch 596/2000\n",
      "5/5 [==============================] - 1s 142ms/step - loss: 0.0012 - mae: 0.0270 - val_loss: 0.0027 - val_mae: 0.0409\n",
      "Epoch 597/2000\n",
      "5/5 [==============================] - 1s 142ms/step - loss: 0.0011 - mae: 0.0263 - val_loss: 0.0026 - val_mae: 0.0401\n",
      "Epoch 598/2000\n",
      "5/5 [==============================] - 1s 134ms/step - loss: 0.0011 - mae: 0.0259 - val_loss: 0.0028 - val_mae: 0.0406\n",
      "Epoch 599/2000\n",
      "4/5 [=======================>......] - ETA: 0s - loss: 0.0012 - mae: 0.0271INFO:tensorflow:Assets written to: C:\\Users\\PARK\\Documents\\LAB\\RNN vs LSTM\\FInal Example\\wandb\\run-20221015_190827-1kgjbxck\\files\\model-best\\assets\n"
     ]
    },
    {
     "name": "stderr",
     "output_type": "stream",
     "text": [
      "\u001b[34m\u001b[1mwandb\u001b[0m: Adding directory to artifact (C:\\Users\\PARK\\Documents\\LAB\\RNN vs LSTM\\FInal Example\\wandb\\run-20221015_190827-1kgjbxck\\files\\model-best)... Done. 0.0s\n"
     ]
    },
    {
     "name": "stdout",
     "output_type": "stream",
     "text": [
      "5/5 [==============================] - 2s 465ms/step - loss: 0.0012 - mae: 0.0270 - val_loss: 0.0026 - val_mae: 0.0396\n",
      "Epoch 600/2000\n",
      "5/5 [==============================] - 1s 162ms/step - loss: 0.0011 - mae: 0.0266 - val_loss: 0.0027 - val_mae: 0.0399\n",
      "Epoch 601/2000\n",
      "5/5 [==============================] - 1s 151ms/step - loss: 0.0012 - mae: 0.0267 - val_loss: 0.0027 - val_mae: 0.0412\n",
      "Epoch 602/2000\n",
      "5/5 [==============================] - 1s 147ms/step - loss: 0.0012 - mae: 0.0276 - val_loss: 0.0027 - val_mae: 0.0409\n",
      "Epoch 603/2000\n",
      "5/5 [==============================] - 1s 136ms/step - loss: 0.0012 - mae: 0.0275 - val_loss: 0.0030 - val_mae: 0.0423\n",
      "Epoch 604/2000\n",
      "5/5 [==============================] - 1s 146ms/step - loss: 0.0013 - mae: 0.0286 - val_loss: 0.0029 - val_mae: 0.0426\n",
      "Epoch 605/2000\n",
      "5/5 [==============================] - 1s 143ms/step - loss: 0.0020 - mae: 0.0355 - val_loss: 0.0039 - val_mae: 0.0503\n",
      "Epoch 606/2000\n",
      "5/5 [==============================] - 1s 137ms/step - loss: 0.0020 - mae: 0.0356 - val_loss: 0.0031 - val_mae: 0.0429\n",
      "Epoch 607/2000\n",
      "5/5 [==============================] - 1s 145ms/step - loss: 0.0017 - mae: 0.0328 - val_loss: 0.0036 - val_mae: 0.0467\n",
      "Epoch 608/2000\n",
      "5/5 [==============================] - 1s 152ms/step - loss: 0.0017 - mae: 0.0329 - val_loss: 0.0033 - val_mae: 0.0459\n",
      "Epoch 609/2000\n",
      "5/5 [==============================] - 1s 148ms/step - loss: 0.0017 - mae: 0.0328 - val_loss: 0.0033 - val_mae: 0.0448\n",
      "Epoch 610/2000\n",
      "5/5 [==============================] - 1s 139ms/step - loss: 0.0015 - mae: 0.0306 - val_loss: 0.0030 - val_mae: 0.0419\n",
      "Epoch 611/2000\n",
      "5/5 [==============================] - 1s 141ms/step - loss: 0.0015 - mae: 0.0302 - val_loss: 0.0033 - val_mae: 0.0448\n",
      "Epoch 612/2000\n",
      "5/5 [==============================] - 1s 147ms/step - loss: 0.0015 - mae: 0.0302 - val_loss: 0.0028 - val_mae: 0.0415\n",
      "Epoch 613/2000\n",
      "5/5 [==============================] - 1s 141ms/step - loss: 0.0014 - mae: 0.0292 - val_loss: 0.0031 - val_mae: 0.0428\n",
      "Epoch 614/2000\n",
      "5/5 [==============================] - 1s 133ms/step - loss: 0.0015 - mae: 0.0310 - val_loss: 0.0028 - val_mae: 0.0414\n",
      "Epoch 615/2000\n",
      "5/5 [==============================] - 1s 156ms/step - loss: 0.0014 - mae: 0.0295 - val_loss: 0.0035 - val_mae: 0.0458\n",
      "Epoch 616/2000\n",
      "5/5 [==============================] - 1s 142ms/step - loss: 0.0015 - mae: 0.0308 - val_loss: 0.0030 - val_mae: 0.0431\n",
      "Epoch 617/2000\n",
      "5/5 [==============================] - 1s 139ms/step - loss: 0.0014 - mae: 0.0301 - val_loss: 0.0030 - val_mae: 0.0425\n",
      "Epoch 618/2000\n",
      "5/5 [==============================] - 1s 135ms/step - loss: 0.0014 - mae: 0.0299 - val_loss: 0.0030 - val_mae: 0.0426\n",
      "Epoch 619/2000\n",
      "5/5 [==============================] - 1s 143ms/step - loss: 0.0013 - mae: 0.0287 - val_loss: 0.0028 - val_mae: 0.0407\n",
      "Epoch 620/2000\n",
      "5/5 [==============================] - 1s 149ms/step - loss: 0.0012 - mae: 0.0275 - val_loss: 0.0027 - val_mae: 0.0393\n",
      "Epoch 621/2000\n",
      "5/5 [==============================] - 1s 142ms/step - loss: 0.0012 - mae: 0.0268 - val_loss: 0.0027 - val_mae: 0.0406\n",
      "Epoch 622/2000\n",
      "5/5 [==============================] - 1s 138ms/step - loss: 0.0011 - mae: 0.0266 - val_loss: 0.0029 - val_mae: 0.0418\n",
      "Epoch 623/2000\n",
      "5/5 [==============================] - 1s 136ms/step - loss: 0.0014 - mae: 0.0294 - val_loss: 0.0031 - val_mae: 0.0436\n",
      "Epoch 624/2000\n",
      "5/5 [==============================] - 1s 148ms/step - loss: 0.0015 - mae: 0.0304 - val_loss: 0.0030 - val_mae: 0.0420\n",
      "Epoch 625/2000\n",
      "5/5 [==============================] - 1s 145ms/step - loss: 0.0015 - mae: 0.0305 - val_loss: 0.0034 - val_mae: 0.0459\n",
      "Epoch 626/2000\n",
      "5/5 [==============================] - 1s 143ms/step - loss: 0.0014 - mae: 0.0296 - val_loss: 0.0030 - val_mae: 0.0421\n",
      "Epoch 627/2000\n",
      "5/5 [==============================] - 1s 142ms/step - loss: 0.0014 - mae: 0.0293 - val_loss: 0.0028 - val_mae: 0.0413\n",
      "Epoch 628/2000\n",
      "5/5 [==============================] - 1s 141ms/step - loss: 0.0012 - mae: 0.0271 - val_loss: 0.0028 - val_mae: 0.0413\n",
      "Epoch 629/2000\n",
      "5/5 [==============================] - 1s 133ms/step - loss: 0.0012 - mae: 0.0271 - val_loss: 0.0026 - val_mae: 0.0400\n",
      "Epoch 630/2000\n",
      "5/5 [==============================] - 1s 145ms/step - loss: 0.0011 - mae: 0.0263 - val_loss: 0.0028 - val_mae: 0.0410\n",
      "Epoch 631/2000\n",
      "5/5 [==============================] - 1s 148ms/step - loss: 0.0012 - mae: 0.0267 - val_loss: 0.0027 - val_mae: 0.0408\n",
      "Epoch 632/2000\n",
      "5/5 [==============================] - 1s 147ms/step - loss: 0.0012 - mae: 0.0275 - val_loss: 0.0027 - val_mae: 0.0403\n",
      "Epoch 633/2000\n",
      "5/5 [==============================] - 1s 139ms/step - loss: 0.0013 - mae: 0.0285 - val_loss: 0.0030 - val_mae: 0.0428\n",
      "Epoch 634/2000\n",
      "5/5 [==============================] - 1s 133ms/step - loss: 0.0013 - mae: 0.0280 - val_loss: 0.0028 - val_mae: 0.0415\n",
      "Epoch 635/2000\n",
      "5/5 [==============================] - 1s 137ms/step - loss: 0.0013 - mae: 0.0282 - val_loss: 0.0029 - val_mae: 0.0423\n",
      "Epoch 636/2000\n",
      "5/5 [==============================] - 1s 142ms/step - loss: 0.0012 - mae: 0.0282 - val_loss: 0.0029 - val_mae: 0.0411\n",
      "Epoch 637/2000\n",
      "5/5 [==============================] - 1s 141ms/step - loss: 0.0011 - mae: 0.0261 - val_loss: 0.0026 - val_mae: 0.0401\n",
      "Epoch 638/2000\n",
      "5/5 [==============================] - ETA: 0s - loss: 0.0011 - mae: 0.0263INFO:tensorflow:Assets written to: C:\\Users\\PARK\\Documents\\LAB\\RNN vs LSTM\\FInal Example\\wandb\\run-20221015_190827-1kgjbxck\\files\\model-best\\assets\n"
     ]
    },
    {
     "name": "stderr",
     "output_type": "stream",
     "text": [
      "\u001b[34m\u001b[1mwandb\u001b[0m: Adding directory to artifact (C:\\Users\\PARK\\Documents\\LAB\\RNN vs LSTM\\FInal Example\\wandb\\run-20221015_190827-1kgjbxck\\files\\model-best)... Done. 0.0s\n"
     ]
    },
    {
     "name": "stdout",
     "output_type": "stream",
     "text": [
      "5/5 [==============================] - 2s 486ms/step - loss: 0.0011 - mae: 0.0263 - val_loss: 0.0026 - val_mae: 0.0395\n",
      "Epoch 639/2000\n",
      "5/5 [==============================] - 1s 158ms/step - loss: 0.0011 - mae: 0.0262 - val_loss: 0.0027 - val_mae: 0.0403\n",
      "Epoch 640/2000\n",
      "5/5 [==============================] - 1s 150ms/step - loss: 0.0012 - mae: 0.0272 - val_loss: 0.0029 - val_mae: 0.0425\n",
      "Epoch 641/2000\n",
      "5/5 [==============================] - 1s 141ms/step - loss: 0.0011 - mae: 0.0267 - val_loss: 0.0028 - val_mae: 0.0409\n",
      "Epoch 642/2000\n",
      "5/5 [==============================] - 1s 135ms/step - loss: 0.0012 - mae: 0.0274 - val_loss: 0.0028 - val_mae: 0.0418\n",
      "Epoch 643/2000\n",
      "5/5 [==============================] - 1s 134ms/step - loss: 0.0011 - mae: 0.0266 - val_loss: 0.0026 - val_mae: 0.0398\n",
      "Epoch 644/2000\n",
      "5/5 [==============================] - 1s 140ms/step - loss: 0.0011 - mae: 0.0256 - val_loss: 0.0027 - val_mae: 0.0404\n",
      "Epoch 645/2000\n",
      "5/5 [==============================] - 1s 148ms/step - loss: 0.0011 - mae: 0.0261 - val_loss: 0.0027 - val_mae: 0.0407\n",
      "Epoch 646/2000\n",
      "5/5 [==============================] - ETA: 0s - loss: 0.0010 - mae: 0.0253INFO:tensorflow:Assets written to: C:\\Users\\PARK\\Documents\\LAB\\RNN vs LSTM\\FInal Example\\wandb\\run-20221015_190827-1kgjbxck\\files\\model-best\\assets\n"
     ]
    },
    {
     "name": "stderr",
     "output_type": "stream",
     "text": [
      "\u001b[34m\u001b[1mwandb\u001b[0m: Adding directory to artifact (C:\\Users\\PARK\\Documents\\LAB\\RNN vs LSTM\\FInal Example\\wandb\\run-20221015_190827-1kgjbxck\\files\\model-best)... Done. 0.0s\n"
     ]
    },
    {
     "name": "stdout",
     "output_type": "stream",
     "text": [
      "5/5 [==============================] - 2s 474ms/step - loss: 0.0010 - mae: 0.0253 - val_loss: 0.0025 - val_mae: 0.0393\n",
      "Epoch 647/2000\n",
      "5/5 [==============================] - 1s 158ms/step - loss: 0.0010 - mae: 0.0253 - val_loss: 0.0026 - val_mae: 0.0394\n",
      "Epoch 648/2000\n",
      "5/5 [==============================] - 1s 150ms/step - loss: 9.8230e-04 - mae: 0.0247 - val_loss: 0.0028 - val_mae: 0.0409\n",
      "Epoch 649/2000\n",
      "5/5 [==============================] - 1s 141ms/step - loss: 9.9257e-04 - mae: 0.0248 - val_loss: 0.0028 - val_mae: 0.0413\n",
      "Epoch 650/2000\n",
      "5/5 [==============================] - 1s 133ms/step - loss: 0.0011 - mae: 0.0264 - val_loss: 0.0026 - val_mae: 0.0401\n",
      "Epoch 651/2000\n",
      "5/5 [==============================] - 1s 135ms/step - loss: 0.0011 - mae: 0.0256 - val_loss: 0.0026 - val_mae: 0.0393\n",
      "Epoch 652/2000\n",
      "5/5 [==============================] - 1s 143ms/step - loss: 0.0010 - mae: 0.0249 - val_loss: 0.0028 - val_mae: 0.0404\n",
      "Epoch 653/2000\n",
      "5/5 [==============================] - 1s 151ms/step - loss: 0.0010 - mae: 0.0252 - val_loss: 0.0026 - val_mae: 0.0395\n",
      "Epoch 654/2000\n",
      "5/5 [==============================] - 1s 149ms/step - loss: 0.0010 - mae: 0.0254 - val_loss: 0.0026 - val_mae: 0.0395\n",
      "Epoch 655/2000\n",
      "5/5 [==============================] - 1s 142ms/step - loss: 0.0010 - mae: 0.0250 - val_loss: 0.0026 - val_mae: 0.0390\n",
      "Epoch 656/2000\n",
      "5/5 [==============================] - 1s 135ms/step - loss: 9.7630e-04 - mae: 0.0245 - val_loss: 0.0026 - val_mae: 0.0399\n",
      "Epoch 657/2000\n",
      "5/5 [==============================] - 1s 135ms/step - loss: 0.0010 - mae: 0.0251 - val_loss: 0.0028 - val_mae: 0.0420\n",
      "Epoch 658/2000\n",
      "5/5 [==============================] - 1s 143ms/step - loss: 0.0011 - mae: 0.0259 - val_loss: 0.0028 - val_mae: 0.0409\n",
      "Epoch 659/2000\n",
      "5/5 [==============================] - 1s 146ms/step - loss: 0.0011 - mae: 0.0266 - val_loss: 0.0028 - val_mae: 0.0407\n",
      "Epoch 660/2000\n",
      "5/5 [==============================] - 1s 140ms/step - loss: 0.0012 - mae: 0.0269 - val_loss: 0.0027 - val_mae: 0.0405\n",
      "Epoch 661/2000\n",
      "5/5 [==============================] - 1s 137ms/step - loss: 0.0011 - mae: 0.0260 - val_loss: 0.0027 - val_mae: 0.0406\n",
      "Epoch 662/2000\n",
      "5/5 [==============================] - 1s 136ms/step - loss: 0.0010 - mae: 0.0254 - val_loss: 0.0027 - val_mae: 0.0399\n",
      "Epoch 663/2000\n",
      "5/5 [==============================] - 1s 144ms/step - loss: 0.0010 - mae: 0.0252 - val_loss: 0.0027 - val_mae: 0.0400\n",
      "Epoch 664/2000\n",
      "5/5 [==============================] - 1s 150ms/step - loss: 0.0010 - mae: 0.0252 - val_loss: 0.0026 - val_mae: 0.0391\n",
      "Epoch 665/2000\n",
      "5/5 [==============================] - 1s 149ms/step - loss: 0.0010 - mae: 0.0252 - val_loss: 0.0026 - val_mae: 0.0396\n",
      "Epoch 666/2000\n",
      "5/5 [==============================] - 1s 140ms/step - loss: 0.0010 - mae: 0.0250 - val_loss: 0.0028 - val_mae: 0.0409\n",
      "Epoch 667/2000\n",
      "5/5 [==============================] - 1s 136ms/step - loss: 0.0010 - mae: 0.0251 - val_loss: 0.0027 - val_mae: 0.0404\n",
      "Epoch 668/2000\n",
      "5/5 [==============================] - 1s 139ms/step - loss: 0.0011 - mae: 0.0256 - val_loss: 0.0026 - val_mae: 0.0400\n",
      "Epoch 669/2000\n",
      "5/5 [==============================] - 1s 147ms/step - loss: 0.0010 - mae: 0.0255 - val_loss: 0.0027 - val_mae: 0.0400\n",
      "Epoch 670/2000\n",
      "5/5 [==============================] - 1s 148ms/step - loss: 9.8933e-04 - mae: 0.0249 - val_loss: 0.0026 - val_mae: 0.0394\n",
      "Epoch 671/2000\n",
      "5/5 [==============================] - 1s 150ms/step - loss: 0.0010 - mae: 0.0254 - val_loss: 0.0026 - val_mae: 0.0398\n",
      "Epoch 672/2000\n",
      "5/5 [==============================] - 1s 145ms/step - loss: 0.0011 - mae: 0.0261 - val_loss: 0.0027 - val_mae: 0.0402\n",
      "Epoch 673/2000\n",
      "5/5 [==============================] - 1s 141ms/step - loss: 0.0010 - mae: 0.0253 - val_loss: 0.0026 - val_mae: 0.0402\n",
      "Epoch 674/2000\n",
      "5/5 [==============================] - 1s 138ms/step - loss: 0.0010 - mae: 0.0251 - val_loss: 0.0026 - val_mae: 0.0392\n",
      "Epoch 675/2000\n",
      "5/5 [==============================] - 1s 144ms/step - loss: 0.0010 - mae: 0.0252 - val_loss: 0.0027 - val_mae: 0.0405\n",
      "Epoch 676/2000\n",
      "5/5 [==============================] - 1s 149ms/step - loss: 0.0010 - mae: 0.0256 - val_loss: 0.0026 - val_mae: 0.0392\n",
      "Epoch 677/2000\n",
      "5/5 [==============================] - 1s 140ms/step - loss: 0.0010 - mae: 0.0249 - val_loss: 0.0027 - val_mae: 0.0406\n",
      "Epoch 678/2000\n",
      "5/5 [==============================] - 1s 134ms/step - loss: 0.0010 - mae: 0.0253 - val_loss: 0.0026 - val_mae: 0.0400\n",
      "Epoch 679/2000\n",
      "5/5 [==============================] - 1s 147ms/step - loss: 0.0011 - mae: 0.0257 - val_loss: 0.0028 - val_mae: 0.0416\n",
      "Epoch 680/2000\n",
      "5/5 [==============================] - 1s 131ms/step - loss: 0.0012 - mae: 0.0272 - val_loss: 0.0027 - val_mae: 0.0405\n",
      "Epoch 681/2000\n",
      "5/5 [==============================] - 1s 146ms/step - loss: 0.0012 - mae: 0.0279 - val_loss: 0.0030 - val_mae: 0.0422\n",
      "Epoch 682/2000\n",
      "5/5 [==============================] - 1s 132ms/step - loss: 0.0014 - mae: 0.0294 - val_loss: 0.0028 - val_mae: 0.0409\n",
      "Epoch 683/2000\n",
      "5/5 [==============================] - 1s 134ms/step - loss: 0.0012 - mae: 0.0281 - val_loss: 0.0028 - val_mae: 0.0409\n",
      "Epoch 684/2000\n",
      "5/5 [==============================] - 1s 133ms/step - loss: 0.0013 - mae: 0.0279 - val_loss: 0.0032 - val_mae: 0.0436\n",
      "Epoch 685/2000\n",
      "5/5 [==============================] - 1s 128ms/step - loss: 0.0013 - mae: 0.0292 - val_loss: 0.0029 - val_mae: 0.0418\n",
      "Epoch 686/2000\n",
      "5/5 [==============================] - 1s 125ms/step - loss: 0.0012 - mae: 0.0276 - val_loss: 0.0034 - val_mae: 0.0464\n",
      "Epoch 687/2000\n",
      "5/5 [==============================] - 1s 125ms/step - loss: 0.0017 - mae: 0.0328 - val_loss: 0.0031 - val_mae: 0.0428\n",
      "Epoch 688/2000\n",
      "5/5 [==============================] - 1s 124ms/step - loss: 0.0016 - mae: 0.0319 - val_loss: 0.0036 - val_mae: 0.0479\n",
      "Epoch 689/2000\n",
      "5/5 [==============================] - 1s 127ms/step - loss: 0.0016 - mae: 0.0317 - val_loss: 0.0031 - val_mae: 0.0445\n",
      "Epoch 690/2000\n",
      "5/5 [==============================] - 1s 134ms/step - loss: 0.0015 - mae: 0.0314 - val_loss: 0.0029 - val_mae: 0.0420\n",
      "Epoch 691/2000\n",
      "5/5 [==============================] - 1s 137ms/step - loss: 0.0013 - mae: 0.0283 - val_loss: 0.0028 - val_mae: 0.0407\n",
      "Epoch 692/2000\n",
      "5/5 [==============================] - 1s 138ms/step - loss: 0.0011 - mae: 0.0263 - val_loss: 0.0029 - val_mae: 0.0410\n",
      "Epoch 693/2000\n",
      "5/5 [==============================] - 1s 151ms/step - loss: 0.0011 - mae: 0.0259 - val_loss: 0.0026 - val_mae: 0.0398\n",
      "Epoch 694/2000\n",
      "5/5 [==============================] - 1s 153ms/step - loss: 9.8007e-04 - mae: 0.0245 - val_loss: 0.0028 - val_mae: 0.0414\n",
      "Epoch 695/2000\n",
      "5/5 [==============================] - 1s 147ms/step - loss: 0.0011 - mae: 0.0256 - val_loss: 0.0027 - val_mae: 0.0405\n",
      "Epoch 696/2000\n",
      "5/5 [==============================] - ETA: 0s - loss: 0.0010 - mae: 0.0250   INFO:tensorflow:Assets written to: C:\\Users\\PARK\\Documents\\LAB\\RNN vs LSTM\\FInal Example\\wandb\\run-20221015_190827-1kgjbxck\\files\\model-best\\assets\n"
     ]
    },
    {
     "name": "stderr",
     "output_type": "stream",
     "text": [
      "\u001b[34m\u001b[1mwandb\u001b[0m: Adding directory to artifact (C:\\Users\\PARK\\Documents\\LAB\\RNN vs LSTM\\FInal Example\\wandb\\run-20221015_190827-1kgjbxck\\files\\model-best)... Done. 0.0s\n"
     ]
    },
    {
     "name": "stdout",
     "output_type": "stream",
     "text": [
      "5/5 [==============================] - 2s 464ms/step - loss: 0.0010 - mae: 0.0250 - val_loss: 0.0025 - val_mae: 0.0388\n",
      "Epoch 697/2000\n",
      "5/5 [==============================] - 1s 172ms/step - loss: 9.3913e-04 - mae: 0.0239 - val_loss: 0.0026 - val_mae: 0.0391\n",
      "Epoch 698/2000\n",
      "5/5 [==============================] - 1s 144ms/step - loss: 9.8039e-04 - mae: 0.0247 - val_loss: 0.0026 - val_mae: 0.0391\n",
      "Epoch 699/2000\n",
      "5/5 [==============================] - 1s 141ms/step - loss: 0.0010 - mae: 0.0253 - val_loss: 0.0027 - val_mae: 0.0404\n",
      "Epoch 700/2000\n",
      "5/5 [==============================] - 1s 154ms/step - loss: 9.6267e-04 - mae: 0.0243 - val_loss: 0.0026 - val_mae: 0.0392\n",
      "Epoch 701/2000\n",
      "5/5 [==============================] - ETA: 0s - loss: 9.2065e-04 - mae: 0.0239INFO:tensorflow:Assets written to: C:\\Users\\PARK\\Documents\\LAB\\RNN vs LSTM\\FInal Example\\wandb\\run-20221015_190827-1kgjbxck\\files\\model-best\\assets\n"
     ]
    },
    {
     "name": "stderr",
     "output_type": "stream",
     "text": [
      "\u001b[34m\u001b[1mwandb\u001b[0m: Adding directory to artifact (C:\\Users\\PARK\\Documents\\LAB\\RNN vs LSTM\\FInal Example\\wandb\\run-20221015_190827-1kgjbxck\\files\\model-best)... Done. 0.0s\n"
     ]
    },
    {
     "name": "stdout",
     "output_type": "stream",
     "text": [
      "5/5 [==============================] - 2s 507ms/step - loss: 9.2065e-04 - mae: 0.0239 - val_loss: 0.0025 - val_mae: 0.0385\n",
      "Epoch 702/2000\n",
      "5/5 [==============================] - 1s 176ms/step - loss: 9.1812e-04 - mae: 0.0239 - val_loss: 0.0026 - val_mae: 0.0390\n",
      "Epoch 703/2000\n",
      "5/5 [==============================] - 1s 154ms/step - loss: 9.6897e-04 - mae: 0.0246 - val_loss: 0.0025 - val_mae: 0.0391\n",
      "Epoch 704/2000\n",
      "5/5 [==============================] - 1s 140ms/step - loss: 9.7102e-04 - mae: 0.0244 - val_loss: 0.0027 - val_mae: 0.0402\n",
      "Epoch 705/2000\n",
      "5/5 [==============================] - 1s 145ms/step - loss: 9.7124e-04 - mae: 0.0247 - val_loss: 0.0029 - val_mae: 0.0425\n",
      "Epoch 706/2000\n",
      "5/5 [==============================] - 1s 135ms/step - loss: 0.0011 - mae: 0.0261 - val_loss: 0.0026 - val_mae: 0.0401\n",
      "Epoch 707/2000\n",
      "5/5 [==============================] - 1s 152ms/step - loss: 0.0010 - mae: 0.0250 - val_loss: 0.0027 - val_mae: 0.0405\n",
      "Epoch 708/2000\n",
      "5/5 [==============================] - 1s 140ms/step - loss: 0.0010 - mae: 0.0247 - val_loss: 0.0026 - val_mae: 0.0390\n",
      "Epoch 709/2000\n",
      "5/5 [==============================] - 1s 142ms/step - loss: 9.4162e-04 - mae: 0.0240 - val_loss: 0.0026 - val_mae: 0.0392\n",
      "Epoch 710/2000\n",
      "5/5 [==============================] - 1s 140ms/step - loss: 9.5928e-04 - mae: 0.0242 - val_loss: 0.0027 - val_mae: 0.0402\n",
      "Epoch 711/2000\n",
      "5/5 [==============================] - 1s 138ms/step - loss: 9.7587e-04 - mae: 0.0247 - val_loss: 0.0026 - val_mae: 0.0391\n",
      "Epoch 712/2000\n",
      "5/5 [==============================] - 1s 135ms/step - loss: 9.9012e-04 - mae: 0.0247 - val_loss: 0.0025 - val_mae: 0.0392\n",
      "Epoch 713/2000\n",
      "5/5 [==============================] - 1s 149ms/step - loss: 0.0010 - mae: 0.0253 - val_loss: 0.0026 - val_mae: 0.0397\n",
      "Epoch 714/2000\n",
      "5/5 [==============================] - 1s 148ms/step - loss: 9.2453e-04 - mae: 0.0241 - val_loss: 0.0028 - val_mae: 0.0411\n",
      "Epoch 715/2000\n",
      "5/5 [==============================] - 1s 139ms/step - loss: 0.0010 - mae: 0.0254 - val_loss: 0.0028 - val_mae: 0.0412\n",
      "Epoch 716/2000\n",
      "5/5 [==============================] - 1s 144ms/step - loss: 0.0011 - mae: 0.0263 - val_loss: 0.0028 - val_mae: 0.0410\n",
      "Epoch 717/2000\n",
      "5/5 [==============================] - 1s 143ms/step - loss: 0.0011 - mae: 0.0262 - val_loss: 0.0027 - val_mae: 0.0399\n",
      "Epoch 718/2000\n",
      "5/5 [==============================] - 1s 141ms/step - loss: 9.7468e-04 - mae: 0.0245 - val_loss: 0.0028 - val_mae: 0.0409\n",
      "Epoch 719/2000\n",
      "5/5 [==============================] - 1s 143ms/step - loss: 0.0010 - mae: 0.0254 - val_loss: 0.0027 - val_mae: 0.0406\n",
      "Epoch 720/2000\n",
      "5/5 [==============================] - 1s 152ms/step - loss: 9.4157e-04 - mae: 0.0242 - val_loss: 0.0026 - val_mae: 0.0402\n",
      "Epoch 721/2000\n",
      "5/5 [==============================] - 1s 140ms/step - loss: 9.3883e-04 - mae: 0.0242 - val_loss: 0.0025 - val_mae: 0.0386\n",
      "Epoch 722/2000\n",
      "5/5 [==============================] - 1s 142ms/step - loss: 8.8599e-04 - mae: 0.0234 - val_loss: 0.0025 - val_mae: 0.0389\n",
      "Epoch 723/2000\n",
      "5/5 [==============================] - 1s 145ms/step - loss: 8.4781e-04 - mae: 0.0227 - val_loss: 0.0026 - val_mae: 0.0391\n",
      "Epoch 724/2000\n",
      "5/5 [==============================] - 1s 142ms/step - loss: 8.5084e-04 - mae: 0.0230 - val_loss: 0.0026 - val_mae: 0.0399\n",
      "Epoch 725/2000\n",
      "5/5 [==============================] - ETA: 0s - loss: 9.2321e-04 - mae: 0.0238INFO:tensorflow:Assets written to: C:\\Users\\PARK\\Documents\\LAB\\RNN vs LSTM\\FInal Example\\wandb\\run-20221015_190827-1kgjbxck\\files\\model-best\\assets\n"
     ]
    },
    {
     "name": "stderr",
     "output_type": "stream",
     "text": [
      "\u001b[34m\u001b[1mwandb\u001b[0m: Adding directory to artifact (C:\\Users\\PARK\\Documents\\LAB\\RNN vs LSTM\\FInal Example\\wandb\\run-20221015_190827-1kgjbxck\\files\\model-best)... Done. 0.0s\n"
     ]
    },
    {
     "name": "stdout",
     "output_type": "stream",
     "text": [
      "5/5 [==============================] - 2s 472ms/step - loss: 9.2321e-04 - mae: 0.0238 - val_loss: 0.0025 - val_mae: 0.0379\n",
      "Epoch 726/2000\n",
      "5/5 [==============================] - 1s 166ms/step - loss: 8.7755e-04 - mae: 0.0232 - val_loss: 0.0025 - val_mae: 0.0391\n",
      "Epoch 727/2000\n",
      "5/5 [==============================] - 1s 150ms/step - loss: 8.8732e-04 - mae: 0.0236 - val_loss: 0.0026 - val_mae: 0.0391\n",
      "Epoch 728/2000\n",
      "5/5 [==============================] - 1s 147ms/step - loss: 8.7368e-04 - mae: 0.0233 - val_loss: 0.0027 - val_mae: 0.0401\n",
      "Epoch 729/2000\n",
      "5/5 [==============================] - 1s 140ms/step - loss: 9.3453e-04 - mae: 0.0241 - val_loss: 0.0026 - val_mae: 0.0392\n",
      "Epoch 730/2000\n",
      "5/5 [==============================] - 1s 135ms/step - loss: 8.8470e-04 - mae: 0.0233 - val_loss: 0.0027 - val_mae: 0.0396\n",
      "Epoch 731/2000\n",
      "5/5 [==============================] - 1s 136ms/step - loss: 8.4059e-04 - mae: 0.0228 - val_loss: 0.0025 - val_mae: 0.0388\n",
      "Epoch 732/2000\n",
      "5/5 [==============================] - 1s 137ms/step - loss: 8.5499e-04 - mae: 0.0230 - val_loss: 0.0026 - val_mae: 0.0397\n",
      "Epoch 733/2000\n",
      "5/5 [==============================] - 1s 133ms/step - loss: 8.6997e-04 - mae: 0.0234 - val_loss: 0.0025 - val_mae: 0.0388\n",
      "Epoch 734/2000\n",
      "5/5 [==============================] - 1s 144ms/step - loss: 9.3093e-04 - mae: 0.0240 - val_loss: 0.0025 - val_mae: 0.0388\n",
      "Epoch 735/2000\n",
      "5/5 [==============================] - 1s 141ms/step - loss: 9.0203e-04 - mae: 0.0237 - val_loss: 0.0027 - val_mae: 0.0404\n",
      "Epoch 736/2000\n",
      "5/5 [==============================] - 1s 138ms/step - loss: 9.3226e-04 - mae: 0.0239 - val_loss: 0.0025 - val_mae: 0.0386\n",
      "Epoch 737/2000\n",
      "5/5 [==============================] - 1s 143ms/step - loss: 9.4946e-04 - mae: 0.0243 - val_loss: 0.0028 - val_mae: 0.0412\n",
      "Epoch 738/2000\n",
      "5/5 [==============================] - 1s 134ms/step - loss: 9.6065e-04 - mae: 0.0244 - val_loss: 0.0027 - val_mae: 0.0400\n",
      "Epoch 739/2000\n",
      "5/5 [==============================] - 1s 127ms/step - loss: 9.1866e-04 - mae: 0.0239 - val_loss: 0.0026 - val_mae: 0.0393\n",
      "Epoch 740/2000\n",
      "5/5 [==============================] - 1s 137ms/step - loss: 9.7020e-04 - mae: 0.0246 - val_loss: 0.0027 - val_mae: 0.0400\n",
      "Epoch 741/2000\n",
      "5/5 [==============================] - 1s 142ms/step - loss: 9.5225e-04 - mae: 0.0243 - val_loss: 0.0027 - val_mae: 0.0410\n",
      "Epoch 742/2000\n",
      "5/5 [==============================] - 1s 133ms/step - loss: 9.9806e-04 - mae: 0.0248 - val_loss: 0.0029 - val_mae: 0.0411\n",
      "Epoch 743/2000\n",
      "5/5 [==============================] - 1s 134ms/step - loss: 9.5874e-04 - mae: 0.0245 - val_loss: 0.0026 - val_mae: 0.0392\n",
      "Epoch 744/2000\n",
      "5/5 [==============================] - 1s 141ms/step - loss: 8.8211e-04 - mae: 0.0234 - val_loss: 0.0027 - val_mae: 0.0402\n",
      "Epoch 745/2000\n",
      "5/5 [==============================] - 1s 157ms/step - loss: 8.7273e-04 - mae: 0.0233 - val_loss: 0.0026 - val_mae: 0.0392\n",
      "Epoch 746/2000\n",
      "5/5 [==============================] - 1s 136ms/step - loss: 8.9412e-04 - mae: 0.0236 - val_loss: 0.0026 - val_mae: 0.0399\n",
      "Epoch 747/2000\n",
      "5/5 [==============================] - 1s 131ms/step - loss: 9.1761e-04 - mae: 0.0239 - val_loss: 0.0027 - val_mae: 0.0405\n",
      "Epoch 748/2000\n",
      "5/5 [==============================] - 1s 135ms/step - loss: 9.9450e-04 - mae: 0.0249 - val_loss: 0.0028 - val_mae: 0.0407\n",
      "Epoch 749/2000\n",
      "5/5 [==============================] - 1s 160ms/step - loss: 0.0011 - mae: 0.0264 - val_loss: 0.0027 - val_mae: 0.0405\n",
      "Epoch 750/2000\n",
      "5/5 [==============================] - 1s 145ms/step - loss: 9.9551e-04 - mae: 0.0248 - val_loss: 0.0027 - val_mae: 0.0397\n",
      "Epoch 751/2000\n",
      "5/5 [==============================] - 1s 143ms/step - loss: 9.0256e-04 - mae: 0.0236 - val_loss: 0.0026 - val_mae: 0.0392\n",
      "Epoch 752/2000\n",
      "5/5 [==============================] - 1s 136ms/step - loss: 8.7435e-04 - mae: 0.0231 - val_loss: 0.0026 - val_mae: 0.0388\n",
      "Epoch 753/2000\n",
      "5/5 [==============================] - 1s 141ms/step - loss: 8.6609e-04 - mae: 0.0232 - val_loss: 0.0027 - val_mae: 0.0403\n",
      "Epoch 754/2000\n",
      "5/5 [==============================] - 1s 154ms/step - loss: 8.5447e-04 - mae: 0.0230 - val_loss: 0.0026 - val_mae: 0.0392\n",
      "Epoch 755/2000\n",
      "5/5 [==============================] - 1s 147ms/step - loss: 8.3663e-04 - mae: 0.0228 - val_loss: 0.0025 - val_mae: 0.0393\n",
      "Epoch 756/2000\n",
      "5/5 [==============================] - 1s 141ms/step - loss: 8.4900e-04 - mae: 0.0230 - val_loss: 0.0027 - val_mae: 0.0406\n",
      "Epoch 757/2000\n",
      "5/5 [==============================] - 1s 137ms/step - loss: 9.9334e-04 - mae: 0.0249 - val_loss: 0.0027 - val_mae: 0.0404\n",
      "Epoch 758/2000\n",
      "5/5 [==============================] - 1s 135ms/step - loss: 0.0010 - mae: 0.0255 - val_loss: 0.0029 - val_mae: 0.0420\n",
      "Epoch 759/2000\n",
      "5/5 [==============================] - 1s 146ms/step - loss: 0.0011 - mae: 0.0258 - val_loss: 0.0029 - val_mae: 0.0416\n",
      "Epoch 760/2000\n",
      "5/5 [==============================] - 1s 148ms/step - loss: 0.0011 - mae: 0.0262 - val_loss: 0.0028 - val_mae: 0.0409\n",
      "Epoch 761/2000\n",
      "5/5 [==============================] - 1s 149ms/step - loss: 0.0011 - mae: 0.0257 - val_loss: 0.0027 - val_mae: 0.0404\n",
      "Epoch 762/2000\n",
      "5/5 [==============================] - 1s 147ms/step - loss: 9.7634e-04 - mae: 0.0246 - val_loss: 0.0028 - val_mae: 0.0411\n",
      "Epoch 763/2000\n",
      "5/5 [==============================] - 1s 142ms/step - loss: 9.9135e-04 - mae: 0.0247 - val_loss: 0.0027 - val_mae: 0.0401\n",
      "Epoch 764/2000\n",
      "5/5 [==============================] - 1s 135ms/step - loss: 9.8546e-04 - mae: 0.0247 - val_loss: 0.0026 - val_mae: 0.0396\n",
      "Epoch 765/2000\n",
      "5/5 [==============================] - 1s 146ms/step - loss: 0.0011 - mae: 0.0257 - val_loss: 0.0028 - val_mae: 0.0415\n",
      "Epoch 766/2000\n",
      "5/5 [==============================] - 1s 146ms/step - loss: 0.0012 - mae: 0.0279 - val_loss: 0.0029 - val_mae: 0.0410\n",
      "Epoch 767/2000\n",
      "5/5 [==============================] - 1s 142ms/step - loss: 0.0012 - mae: 0.0273 - val_loss: 0.0030 - val_mae: 0.0419\n",
      "Epoch 768/2000\n",
      "5/5 [==============================] - 1s 139ms/step - loss: 0.0012 - mae: 0.0272 - val_loss: 0.0026 - val_mae: 0.0396\n",
      "Epoch 769/2000\n",
      "5/5 [==============================] - 1s 145ms/step - loss: 0.0011 - mae: 0.0261 - val_loss: 0.0029 - val_mae: 0.0414\n",
      "Epoch 770/2000\n",
      "5/5 [==============================] - 1s 137ms/step - loss: 0.0012 - mae: 0.0270 - val_loss: 0.0028 - val_mae: 0.0417\n",
      "Epoch 771/2000\n",
      "5/5 [==============================] - 1s 136ms/step - loss: 0.0011 - mae: 0.0258 - val_loss: 0.0030 - val_mae: 0.0427\n",
      "Epoch 772/2000\n",
      "5/5 [==============================] - 1s 137ms/step - loss: 0.0011 - mae: 0.0266 - val_loss: 0.0026 - val_mae: 0.0400\n",
      "Epoch 773/2000\n",
      "5/5 [==============================] - 1s 141ms/step - loss: 9.4423e-04 - mae: 0.0243 - val_loss: 0.0026 - val_mae: 0.0396\n",
      "Epoch 774/2000\n",
      "5/5 [==============================] - 1s 136ms/step - loss: 9.6716e-04 - mae: 0.0245 - val_loss: 0.0027 - val_mae: 0.0403\n",
      "Epoch 775/2000\n",
      "5/5 [==============================] - 1s 134ms/step - loss: 8.6239e-04 - mae: 0.0233 - val_loss: 0.0026 - val_mae: 0.0393\n",
      "Epoch 776/2000\n",
      "5/5 [==============================] - 1s 139ms/step - loss: 8.6930e-04 - mae: 0.0231 - val_loss: 0.0027 - val_mae: 0.0395\n",
      "Epoch 777/2000\n",
      "5/5 [==============================] - 1s 140ms/step - loss: 9.0689e-04 - mae: 0.0238 - val_loss: 0.0025 - val_mae: 0.0387\n",
      "Epoch 778/2000\n",
      "4/5 [=======================>......] - ETA: 0s - loss: 8.1967e-04 - mae: 0.0226INFO:tensorflow:Assets written to: C:\\Users\\PARK\\Documents\\LAB\\RNN vs LSTM\\FInal Example\\wandb\\run-20221015_190827-1kgjbxck\\files\\model-best\\assets\n"
     ]
    },
    {
     "name": "stderr",
     "output_type": "stream",
     "text": [
      "\u001b[34m\u001b[1mwandb\u001b[0m: Adding directory to artifact (C:\\Users\\PARK\\Documents\\LAB\\RNN vs LSTM\\FInal Example\\wandb\\run-20221015_190827-1kgjbxck\\files\\model-best)... Done. 0.0s\n"
     ]
    },
    {
     "name": "stdout",
     "output_type": "stream",
     "text": [
      "5/5 [==============================] - 2s 494ms/step - loss: 8.1107e-04 - mae: 0.0224 - val_loss: 0.0024 - val_mae: 0.0383\n",
      "Epoch 779/2000\n",
      "5/5 [==============================] - 1s 161ms/step - loss: 7.8449e-04 - mae: 0.0220 - val_loss: 0.0026 - val_mae: 0.0400\n",
      "Epoch 780/2000\n",
      "5/5 [==============================] - 1s 148ms/step - loss: 7.9234e-04 - mae: 0.0223 - val_loss: 0.0025 - val_mae: 0.0385\n",
      "Epoch 781/2000\n",
      "5/5 [==============================] - 1s 139ms/step - loss: 8.2227e-04 - mae: 0.0225 - val_loss: 0.0025 - val_mae: 0.0391\n",
      "Epoch 782/2000\n",
      "5/5 [==============================] - 1s 138ms/step - loss: 7.8540e-04 - mae: 0.0221 - val_loss: 0.0025 - val_mae: 0.0385\n",
      "Epoch 783/2000\n",
      "5/5 [==============================] - 1s 135ms/step - loss: 8.2205e-04 - mae: 0.0225 - val_loss: 0.0025 - val_mae: 0.0385\n",
      "Epoch 784/2000\n",
      "5/5 [==============================] - 1s 140ms/step - loss: 8.6537e-04 - mae: 0.0231 - val_loss: 0.0028 - val_mae: 0.0411\n",
      "Epoch 785/2000\n",
      "5/5 [==============================] - 1s 148ms/step - loss: 9.8452e-04 - mae: 0.0247 - val_loss: 0.0027 - val_mae: 0.0403\n",
      "Epoch 786/2000\n",
      "5/5 [==============================] - 1s 146ms/step - loss: 9.5537e-04 - mae: 0.0243 - val_loss: 0.0027 - val_mae: 0.0406\n",
      "Epoch 787/2000\n",
      "5/5 [==============================] - 1s 149ms/step - loss: 9.5583e-04 - mae: 0.0241 - val_loss: 0.0026 - val_mae: 0.0404\n",
      "Epoch 788/2000\n",
      "5/5 [==============================] - 1s 138ms/step - loss: 0.0011 - mae: 0.0264 - val_loss: 0.0034 - val_mae: 0.0452\n",
      "Epoch 789/2000\n",
      "5/5 [==============================] - 1s 135ms/step - loss: 0.0015 - mae: 0.0306 - val_loss: 0.0031 - val_mae: 0.0443\n",
      "Epoch 790/2000\n",
      "5/5 [==============================] - 1s 136ms/step - loss: 0.0014 - mae: 0.0294 - val_loss: 0.0031 - val_mae: 0.0429\n",
      "Epoch 791/2000\n",
      "5/5 [==============================] - 1s 140ms/step - loss: 0.0014 - mae: 0.0294 - val_loss: 0.0028 - val_mae: 0.0417\n",
      "Epoch 792/2000\n",
      "5/5 [==============================] - 1s 152ms/step - loss: 0.0013 - mae: 0.0283 - val_loss: 0.0030 - val_mae: 0.0418\n",
      "Epoch 793/2000\n",
      "5/5 [==============================] - 1s 147ms/step - loss: 0.0012 - mae: 0.0274 - val_loss: 0.0028 - val_mae: 0.0406\n",
      "Epoch 794/2000\n",
      "5/5 [==============================] - 1s 149ms/step - loss: 0.0011 - mae: 0.0266 - val_loss: 0.0028 - val_mae: 0.0408\n",
      "Epoch 795/2000\n",
      "5/5 [==============================] - 1s 144ms/step - loss: 0.0012 - mae: 0.0276 - val_loss: 0.0031 - val_mae: 0.0443\n",
      "Epoch 796/2000\n",
      "5/5 [==============================] - 1s 135ms/step - loss: 0.0011 - mae: 0.0261 - val_loss: 0.0029 - val_mae: 0.0416\n",
      "Epoch 797/2000\n",
      "5/5 [==============================] - 1s 137ms/step - loss: 0.0010 - mae: 0.0254 - val_loss: 0.0028 - val_mae: 0.0415\n",
      "Epoch 798/2000\n",
      "5/5 [==============================] - 1s 147ms/step - loss: 0.0010 - mae: 0.0256 - val_loss: 0.0033 - val_mae: 0.0442\n",
      "Epoch 799/2000\n",
      "5/5 [==============================] - 1s 147ms/step - loss: 0.0013 - mae: 0.0285 - val_loss: 0.0030 - val_mae: 0.0437\n",
      "Epoch 800/2000\n",
      "5/5 [==============================] - 1s 147ms/step - loss: 0.0014 - mae: 0.0299 - val_loss: 0.0040 - val_mae: 0.0498\n",
      "Epoch 801/2000\n",
      "5/5 [==============================] - 1s 143ms/step - loss: 0.0022 - mae: 0.0368 - val_loss: 0.0029 - val_mae: 0.0423\n",
      "Epoch 802/2000\n",
      "5/5 [==============================] - 1s 136ms/step - loss: 0.0019 - mae: 0.0341 - val_loss: 0.0048 - val_mae: 0.0548\n",
      "Epoch 803/2000\n",
      "5/5 [==============================] - 1s 136ms/step - loss: 0.0028 - mae: 0.0421 - val_loss: 0.0037 - val_mae: 0.0477\n",
      "Epoch 804/2000\n",
      "5/5 [==============================] - 1s 139ms/step - loss: 0.0022 - mae: 0.0376 - val_loss: 0.0035 - val_mae: 0.0461\n",
      "Epoch 805/2000\n",
      "5/5 [==============================] - 1s 142ms/step - loss: 0.0019 - mae: 0.0337 - val_loss: 0.0032 - val_mae: 0.0444\n",
      "Epoch 806/2000\n",
      "5/5 [==============================] - 1s 137ms/step - loss: 0.0015 - mae: 0.0308 - val_loss: 0.0030 - val_mae: 0.0424\n",
      "Epoch 807/2000\n",
      "5/5 [==============================] - 1s 137ms/step - loss: 0.0014 - mae: 0.0296 - val_loss: 0.0029 - val_mae: 0.0422\n",
      "Epoch 808/2000\n",
      "5/5 [==============================] - 1s 144ms/step - loss: 0.0013 - mae: 0.0282 - val_loss: 0.0029 - val_mae: 0.0415\n",
      "Epoch 809/2000\n",
      "5/5 [==============================] - 1s 149ms/step - loss: 0.0011 - mae: 0.0257 - val_loss: 0.0027 - val_mae: 0.0397\n",
      "Epoch 810/2000\n",
      "5/5 [==============================] - 1s 148ms/step - loss: 0.0011 - mae: 0.0263 - val_loss: 0.0028 - val_mae: 0.0406\n",
      "Epoch 811/2000\n",
      "5/5 [==============================] - 1s 148ms/step - loss: 0.0010 - mae: 0.0251 - val_loss: 0.0029 - val_mae: 0.0416\n",
      "Epoch 812/2000\n",
      "5/5 [==============================] - 1s 141ms/step - loss: 0.0010 - mae: 0.0255 - val_loss: 0.0028 - val_mae: 0.0412\n",
      "Epoch 813/2000\n",
      "5/5 [==============================] - 1s 150ms/step - loss: 9.9081e-04 - mae: 0.0249 - val_loss: 0.0027 - val_mae: 0.0398\n",
      "Epoch 814/2000\n",
      "5/5 [==============================] - 1s 147ms/step - loss: 9.1777e-04 - mae: 0.0240 - val_loss: 0.0027 - val_mae: 0.0400\n",
      "Epoch 815/2000\n",
      "5/5 [==============================] - 1s 145ms/step - loss: 9.7953e-04 - mae: 0.0249 - val_loss: 0.0027 - val_mae: 0.0403\n",
      "Epoch 816/2000\n",
      "5/5 [==============================] - 1s 137ms/step - loss: 9.0247e-04 - mae: 0.0236 - val_loss: 0.0026 - val_mae: 0.0392\n",
      "Epoch 817/2000\n",
      "5/5 [==============================] - 1s 140ms/step - loss: 8.0724e-04 - mae: 0.0222 - val_loss: 0.0025 - val_mae: 0.0389\n",
      "Epoch 818/2000\n",
      "5/5 [==============================] - 1s 142ms/step - loss: 7.7598e-04 - mae: 0.0220 - val_loss: 0.0026 - val_mae: 0.0396\n",
      "Epoch 819/2000\n",
      "5/5 [==============================] - 1s 138ms/step - loss: 7.9857e-04 - mae: 0.0224 - val_loss: 0.0024 - val_mae: 0.0382\n",
      "Epoch 820/2000\n",
      "5/5 [==============================] - 1s 136ms/step - loss: 8.0810e-04 - mae: 0.0223 - val_loss: 0.0028 - val_mae: 0.0412\n",
      "Epoch 821/2000\n",
      "5/5 [==============================] - 1s 136ms/step - loss: 9.0913e-04 - mae: 0.0238 - val_loss: 0.0027 - val_mae: 0.0397\n",
      "Epoch 822/2000\n",
      "5/5 [==============================] - 1s 144ms/step - loss: 8.4269e-04 - mae: 0.0227 - val_loss: 0.0025 - val_mae: 0.0384\n",
      "Epoch 823/2000\n",
      "5/5 [==============================] - 1s 146ms/step - loss: 8.0288e-04 - mae: 0.0225 - val_loss: 0.0027 - val_mae: 0.0403\n",
      "Epoch 824/2000\n",
      "5/5 [==============================] - 1s 142ms/step - loss: 8.7629e-04 - mae: 0.0234 - val_loss: 0.0026 - val_mae: 0.0395\n",
      "Epoch 825/2000\n",
      "5/5 [==============================] - 1s 135ms/step - loss: 8.0522e-04 - mae: 0.0223 - val_loss: 0.0025 - val_mae: 0.0383\n",
      "Epoch 826/2000\n",
      "5/5 [==============================] - 1s 135ms/step - loss: 7.8351e-04 - mae: 0.0221 - val_loss: 0.0026 - val_mae: 0.0393\n",
      "Epoch 827/2000\n",
      "5/5 [==============================] - 1s 142ms/step - loss: 8.1880e-04 - mae: 0.0225 - val_loss: 0.0026 - val_mae: 0.0395\n",
      "Epoch 828/2000\n",
      "5/5 [==============================] - 1s 143ms/step - loss: 9.0364e-04 - mae: 0.0237 - val_loss: 0.0030 - val_mae: 0.0420\n",
      "Epoch 829/2000\n",
      "5/5 [==============================] - 1s 132ms/step - loss: 0.0010 - mae: 0.0255 - val_loss: 0.0027 - val_mae: 0.0402\n",
      "Epoch 830/2000\n",
      "5/5 [==============================] - 1s 134ms/step - loss: 8.8952e-04 - mae: 0.0235 - val_loss: 0.0026 - val_mae: 0.0398\n",
      "Epoch 831/2000\n",
      "5/5 [==============================] - 1s 143ms/step - loss: 8.8132e-04 - mae: 0.0236 - val_loss: 0.0025 - val_mae: 0.0385\n",
      "Epoch 832/2000\n",
      "5/5 [==============================] - 1s 146ms/step - loss: 9.0585e-04 - mae: 0.0239 - val_loss: 0.0029 - val_mae: 0.0422\n",
      "Epoch 833/2000\n",
      "5/5 [==============================] - 1s 139ms/step - loss: 9.6723e-04 - mae: 0.0244 - val_loss: 0.0028 - val_mae: 0.0406\n",
      "Epoch 834/2000\n",
      "5/5 [==============================] - 1s 136ms/step - loss: 0.0012 - mae: 0.0273 - val_loss: 0.0029 - val_mae: 0.0423\n",
      "Epoch 835/2000\n",
      "5/5 [==============================] - 1s 136ms/step - loss: 0.0011 - mae: 0.0260 - val_loss: 0.0030 - val_mae: 0.0424\n",
      "Epoch 836/2000\n",
      "5/5 [==============================] - 1s 143ms/step - loss: 0.0010 - mae: 0.0252 - val_loss: 0.0028 - val_mae: 0.0407\n",
      "Epoch 837/2000\n",
      "5/5 [==============================] - 1s 141ms/step - loss: 0.0011 - mae: 0.0259 - val_loss: 0.0025 - val_mae: 0.0390\n",
      "Epoch 838/2000\n"
     ]
    },
    {
     "name": "stdout",
     "output_type": "stream",
     "text": [
      "5/5 [==============================] - 1s 133ms/step - loss: 9.1181e-04 - mae: 0.0239 - val_loss: 0.0028 - val_mae: 0.0410\n",
      "Epoch 839/2000\n",
      "5/5 [==============================] - 1s 134ms/step - loss: 9.5072e-04 - mae: 0.0244 - val_loss: 0.0026 - val_mae: 0.0391\n",
      "Epoch 840/2000\n",
      "5/5 [==============================] - 1s 143ms/step - loss: 8.3811e-04 - mae: 0.0227 - val_loss: 0.0028 - val_mae: 0.0406\n",
      "Epoch 841/2000\n",
      "5/5 [==============================] - 1s 147ms/step - loss: 9.1215e-04 - mae: 0.0239 - val_loss: 0.0026 - val_mae: 0.0390\n",
      "Epoch 842/2000\n",
      "5/5 [==============================] - 1s 147ms/step - loss: 8.5720e-04 - mae: 0.0231 - val_loss: 0.0027 - val_mae: 0.0401\n",
      "Epoch 843/2000\n",
      "5/5 [==============================] - 1s 144ms/step - loss: 0.0010 - mae: 0.0251 - val_loss: 0.0030 - val_mae: 0.0428\n",
      "Epoch 844/2000\n",
      "5/5 [==============================] - 1s 134ms/step - loss: 0.0010 - mae: 0.0253 - val_loss: 0.0027 - val_mae: 0.0402\n",
      "Epoch 845/2000\n",
      "5/5 [==============================] - 1s 136ms/step - loss: 9.3479e-04 - mae: 0.0243 - val_loss: 0.0028 - val_mae: 0.0410\n",
      "Epoch 846/2000\n",
      "5/5 [==============================] - 1s 142ms/step - loss: 0.0010 - mae: 0.0256 - val_loss: 0.0027 - val_mae: 0.0398\n",
      "Epoch 847/2000\n",
      "5/5 [==============================] - 1s 149ms/step - loss: 0.0011 - mae: 0.0259 - val_loss: 0.0028 - val_mae: 0.0409\n",
      "Epoch 848/2000\n",
      "5/5 [==============================] - 1s 149ms/step - loss: 0.0011 - mae: 0.0257 - val_loss: 0.0030 - val_mae: 0.0427\n",
      "Epoch 849/2000\n",
      "5/5 [==============================] - 1s 147ms/step - loss: 0.0010 - mae: 0.0251 - val_loss: 0.0027 - val_mae: 0.0401\n",
      "Epoch 850/2000\n",
      "5/5 [==============================] - 1s 149ms/step - loss: 8.3694e-04 - mae: 0.0228 - val_loss: 0.0025 - val_mae: 0.0394\n",
      "Epoch 851/2000\n",
      "5/5 [==============================] - 1s 140ms/step - loss: 8.1773e-04 - mae: 0.0226 - val_loss: 0.0025 - val_mae: 0.0387\n",
      "Epoch 852/2000\n",
      "5/5 [==============================] - 1s 136ms/step - loss: 8.7107e-04 - mae: 0.0232 - val_loss: 0.0028 - val_mae: 0.0409\n",
      "Epoch 853/2000\n",
      "5/5 [==============================] - 1s 136ms/step - loss: 9.0294e-04 - mae: 0.0237 - val_loss: 0.0025 - val_mae: 0.0383\n",
      "Epoch 854/2000\n",
      "5/5 [==============================] - 1s 144ms/step - loss: 8.5495e-04 - mae: 0.0231 - val_loss: 0.0027 - val_mae: 0.0402\n",
      "Epoch 855/2000\n",
      "5/5 [==============================] - 1s 149ms/step - loss: 8.5471e-04 - mae: 0.0230 - val_loss: 0.0026 - val_mae: 0.0398\n",
      "Epoch 856/2000\n",
      "5/5 [==============================] - 1s 148ms/step - loss: 8.3589e-04 - mae: 0.0229 - val_loss: 0.0025 - val_mae: 0.0385\n",
      "Epoch 857/2000\n",
      "5/5 [==============================] - 1s 141ms/step - loss: 7.6989e-04 - mae: 0.0219 - val_loss: 0.0026 - val_mae: 0.0397\n",
      "Epoch 858/2000\n",
      "5/5 [==============================] - 1s 133ms/step - loss: 7.2642e-04 - mae: 0.0210 - val_loss: 0.0025 - val_mae: 0.0386\n",
      "Epoch 859/2000\n",
      "4/5 [=======================>......] - ETA: 0s - loss: 6.7700e-04 - mae: 0.0202INFO:tensorflow:Assets written to: C:\\Users\\PARK\\Documents\\LAB\\RNN vs LSTM\\FInal Example\\wandb\\run-20221015_190827-1kgjbxck\\files\\model-best\\assets\n"
     ]
    },
    {
     "name": "stderr",
     "output_type": "stream",
     "text": [
      "\u001b[34m\u001b[1mwandb\u001b[0m: Adding directory to artifact (C:\\Users\\PARK\\Documents\\LAB\\RNN vs LSTM\\FInal Example\\wandb\\run-20221015_190827-1kgjbxck\\files\\model-best)... Done. 0.0s\n"
     ]
    },
    {
     "name": "stdout",
     "output_type": "stream",
     "text": [
      "5/5 [==============================] - 2s 464ms/step - loss: 6.7686e-04 - mae: 0.0202 - val_loss: 0.0024 - val_mae: 0.0376\n",
      "Epoch 860/2000\n",
      "5/5 [==============================] - 1s 173ms/step - loss: 6.5665e-04 - mae: 0.0201 - val_loss: 0.0025 - val_mae: 0.0384\n",
      "Epoch 861/2000\n",
      "5/5 [==============================] - 1s 149ms/step - loss: 6.4570e-04 - mae: 0.0199 - val_loss: 0.0024 - val_mae: 0.0380\n",
      "Epoch 862/2000\n",
      "5/5 [==============================] - 1s 143ms/step - loss: 6.6684e-04 - mae: 0.0202 - val_loss: 0.0026 - val_mae: 0.0395\n",
      "Epoch 863/2000\n",
      "5/5 [==============================] - 1s 138ms/step - loss: 6.9861e-04 - mae: 0.0208 - val_loss: 0.0024 - val_mae: 0.0376\n",
      "Epoch 864/2000\n",
      "5/5 [==============================] - 1s 143ms/step - loss: 6.8107e-04 - mae: 0.0203 - val_loss: 0.0026 - val_mae: 0.0389\n",
      "Epoch 865/2000\n",
      "5/5 [==============================] - 1s 142ms/step - loss: 7.0006e-04 - mae: 0.0207 - val_loss: 0.0024 - val_mae: 0.0379\n",
      "Epoch 866/2000\n",
      "5/5 [==============================] - 1s 133ms/step - loss: 7.1866e-04 - mae: 0.0212 - val_loss: 0.0026 - val_mae: 0.0393\n",
      "Epoch 867/2000\n",
      "5/5 [==============================] - 1s 145ms/step - loss: 7.4171e-04 - mae: 0.0216 - val_loss: 0.0026 - val_mae: 0.0395\n",
      "Epoch 868/2000\n",
      "5/5 [==============================] - 1s 152ms/step - loss: 7.6363e-04 - mae: 0.0218 - val_loss: 0.0030 - val_mae: 0.0426\n",
      "Epoch 869/2000\n",
      "5/5 [==============================] - 1s 155ms/step - loss: 0.0012 - mae: 0.0280 - val_loss: 0.0032 - val_mae: 0.0450\n",
      "Epoch 870/2000\n",
      "5/5 [==============================] - 1s 138ms/step - loss: 0.0012 - mae: 0.0276 - val_loss: 0.0028 - val_mae: 0.0408\n",
      "Epoch 871/2000\n",
      "5/5 [==============================] - 1s 134ms/step - loss: 8.7576e-04 - mae: 0.0235 - val_loss: 0.0025 - val_mae: 0.0383\n",
      "Epoch 872/2000\n",
      "5/5 [==============================] - 1s 131ms/step - loss: 8.1933e-04 - mae: 0.0227 - val_loss: 0.0025 - val_mae: 0.0392\n",
      "Epoch 873/2000\n",
      "5/5 [==============================] - 1s 154ms/step - loss: 8.7701e-04 - mae: 0.0234 - val_loss: 0.0026 - val_mae: 0.0404\n",
      "Epoch 874/2000\n",
      "5/5 [==============================] - 1s 154ms/step - loss: 8.0179e-04 - mae: 0.0223 - val_loss: 0.0025 - val_mae: 0.0384\n",
      "Epoch 875/2000\n",
      "5/5 [==============================] - 1s 152ms/step - loss: 7.6171e-04 - mae: 0.0217 - val_loss: 0.0026 - val_mae: 0.0390\n",
      "Epoch 876/2000\n",
      "5/5 [==============================] - 1s 159ms/step - loss: 7.7415e-04 - mae: 0.0219 - val_loss: 0.0025 - val_mae: 0.0390\n",
      "Epoch 877/2000\n",
      "5/5 [==============================] - 1s 148ms/step - loss: 7.2206e-04 - mae: 0.0213 - val_loss: 0.0027 - val_mae: 0.0406\n",
      "Epoch 878/2000\n",
      "5/5 [==============================] - 1s 150ms/step - loss: 8.2838e-04 - mae: 0.0228 - val_loss: 0.0027 - val_mae: 0.0403\n",
      "Epoch 879/2000\n",
      "5/5 [==============================] - ETA: 0s - loss: 8.1966e-04 - mae: 0.0227INFO:tensorflow:Assets written to: C:\\Users\\PARK\\Documents\\LAB\\RNN vs LSTM\\FInal Example\\wandb\\run-20221015_190827-1kgjbxck\\files\\model-best\\assets\n"
     ]
    },
    {
     "name": "stderr",
     "output_type": "stream",
     "text": [
      "\u001b[34m\u001b[1mwandb\u001b[0m: Adding directory to artifact (C:\\Users\\PARK\\Documents\\LAB\\RNN vs LSTM\\FInal Example\\wandb\\run-20221015_190827-1kgjbxck\\files\\model-best)... Done. 0.0s\n"
     ]
    },
    {
     "name": "stdout",
     "output_type": "stream",
     "text": [
      "5/5 [==============================] - 2s 498ms/step - loss: 8.1966e-04 - mae: 0.0227 - val_loss: 0.0024 - val_mae: 0.0379\n",
      "Epoch 880/2000\n",
      "5/5 [==============================] - ETA: 0s - loss: 7.1626e-04 - mae: 0.0211INFO:tensorflow:Assets written to: C:\\Users\\PARK\\Documents\\LAB\\RNN vs LSTM\\FInal Example\\wandb\\run-20221015_190827-1kgjbxck\\files\\model-best\\assets\n"
     ]
    },
    {
     "name": "stderr",
     "output_type": "stream",
     "text": [
      "\u001b[34m\u001b[1mwandb\u001b[0m: Adding directory to artifact (C:\\Users\\PARK\\Documents\\LAB\\RNN vs LSTM\\FInal Example\\wandb\\run-20221015_190827-1kgjbxck\\files\\model-best)... Done. 0.0s\n"
     ]
    },
    {
     "name": "stdout",
     "output_type": "stream",
     "text": [
      "5/5 [==============================] - 2s 491ms/step - loss: 7.1626e-04 - mae: 0.0211 - val_loss: 0.0024 - val_mae: 0.0376\n",
      "Epoch 881/2000\n",
      "5/5 [==============================] - 1s 149ms/step - loss: 6.3743e-04 - mae: 0.0197 - val_loss: 0.0025 - val_mae: 0.0381\n",
      "Epoch 882/2000\n",
      "5/5 [==============================] - 1s 141ms/step - loss: 6.8760e-04 - mae: 0.0208 - val_loss: 0.0025 - val_mae: 0.0389\n",
      "Epoch 883/2000\n",
      "5/5 [==============================] - 1s 136ms/step - loss: 6.7452e-04 - mae: 0.0204 - val_loss: 0.0027 - val_mae: 0.0396\n",
      "Epoch 884/2000\n",
      "5/5 [==============================] - 1s 138ms/step - loss: 7.8721e-04 - mae: 0.0220 - val_loss: 0.0025 - val_mae: 0.0388\n",
      "Epoch 885/2000\n",
      "5/5 [==============================] - 1s 145ms/step - loss: 7.3345e-04 - mae: 0.0213 - val_loss: 0.0026 - val_mae: 0.0391\n",
      "Epoch 886/2000\n",
      "5/5 [==============================] - 1s 147ms/step - loss: 6.8719e-04 - mae: 0.0204 - val_loss: 0.0024 - val_mae: 0.0379\n",
      "Epoch 887/2000\n",
      "5/5 [==============================] - 1s 149ms/step - loss: 6.2736e-04 - mae: 0.0199 - val_loss: 0.0024 - val_mae: 0.0375\n",
      "Epoch 888/2000\n",
      "5/5 [==============================] - ETA: 0s - loss: 6.3544e-04 - mae: 0.0198INFO:tensorflow:Assets written to: C:\\Users\\PARK\\Documents\\LAB\\RNN vs LSTM\\FInal Example\\wandb\\run-20221015_190827-1kgjbxck\\files\\model-best\\assets\n"
     ]
    },
    {
     "name": "stderr",
     "output_type": "stream",
     "text": [
      "\u001b[34m\u001b[1mwandb\u001b[0m: Adding directory to artifact (C:\\Users\\PARK\\Documents\\LAB\\RNN vs LSTM\\FInal Example\\wandb\\run-20221015_190827-1kgjbxck\\files\\model-best)... Done. 0.0s\n"
     ]
    },
    {
     "name": "stdout",
     "output_type": "stream",
     "text": [
      "5/5 [==============================] - 2s 475ms/step - loss: 6.3544e-04 - mae: 0.0198 - val_loss: 0.0024 - val_mae: 0.0377\n",
      "Epoch 889/2000\n",
      "5/5 [==============================] - 1s 175ms/step - loss: 6.8696e-04 - mae: 0.0204 - val_loss: 0.0024 - val_mae: 0.0376\n",
      "Epoch 890/2000\n",
      "5/5 [==============================] - 1s 147ms/step - loss: 6.2730e-04 - mae: 0.0198 - val_loss: 0.0025 - val_mae: 0.0389\n",
      "Epoch 891/2000\n",
      "5/5 [==============================] - 1s 138ms/step - loss: 7.0650e-04 - mae: 0.0209 - val_loss: 0.0026 - val_mae: 0.0389\n",
      "Epoch 892/2000\n",
      "5/5 [==============================] - 1s 137ms/step - loss: 7.1203e-04 - mae: 0.0211 - val_loss: 0.0024 - val_mae: 0.0380\n",
      "Epoch 893/2000\n",
      "5/5 [==============================] - 1s 149ms/step - loss: 6.8051e-04 - mae: 0.0205 - val_loss: 0.0025 - val_mae: 0.0383\n",
      "Epoch 894/2000\n",
      "5/5 [==============================] - 1s 141ms/step - loss: 6.7413e-04 - mae: 0.0205 - val_loss: 0.0024 - val_mae: 0.0380\n",
      "Epoch 895/2000\n",
      "5/5 [==============================] - 1s 140ms/step - loss: 6.9565e-04 - mae: 0.0209 - val_loss: 0.0024 - val_mae: 0.0378\n",
      "Epoch 896/2000\n",
      "5/5 [==============================] - 1s 138ms/step - loss: 6.7766e-04 - mae: 0.0205 - val_loss: 0.0024 - val_mae: 0.0378\n",
      "Epoch 897/2000\n",
      "5/5 [==============================] - 1s 151ms/step - loss: 6.6615e-04 - mae: 0.0203 - val_loss: 0.0025 - val_mae: 0.0388\n",
      "Epoch 898/2000\n",
      "5/5 [==============================] - 1s 152ms/step - loss: 7.0812e-04 - mae: 0.0209 - val_loss: 0.0026 - val_mae: 0.0385\n",
      "Epoch 899/2000\n",
      "5/5 [==============================] - 1s 154ms/step - loss: 6.7271e-04 - mae: 0.0204 - val_loss: 0.0024 - val_mae: 0.0375\n",
      "Epoch 900/2000\n",
      "5/5 [==============================] - 1s 138ms/step - loss: 6.7900e-04 - mae: 0.0205 - val_loss: 0.0025 - val_mae: 0.0380\n",
      "Epoch 901/2000\n",
      "5/5 [==============================] - ETA: 0s - loss: 6.6767e-04 - mae: 0.0204INFO:tensorflow:Assets written to: C:\\Users\\PARK\\Documents\\LAB\\RNN vs LSTM\\FInal Example\\wandb\\run-20221015_190827-1kgjbxck\\files\\model-best\\assets\n"
     ]
    },
    {
     "name": "stderr",
     "output_type": "stream",
     "text": [
      "\u001b[34m\u001b[1mwandb\u001b[0m: Adding directory to artifact (C:\\Users\\PARK\\Documents\\LAB\\RNN vs LSTM\\FInal Example\\wandb\\run-20221015_190827-1kgjbxck\\files\\model-best)... Done. 0.0s\n"
     ]
    },
    {
     "name": "stdout",
     "output_type": "stream",
     "text": [
      "5/5 [==============================] - 2s 526ms/step - loss: 6.6767e-04 - mae: 0.0204 - val_loss: 0.0023 - val_mae: 0.0376\n",
      "Epoch 902/2000\n",
      "5/5 [==============================] - 1s 163ms/step - loss: 6.9205e-04 - mae: 0.0209 - val_loss: 0.0025 - val_mae: 0.0381\n",
      "Epoch 903/2000\n",
      "5/5 [==============================] - 1s 156ms/step - loss: 6.3065e-04 - mae: 0.0198 - val_loss: 0.0025 - val_mae: 0.0385\n",
      "Epoch 904/2000\n",
      "5/5 [==============================] - 1s 149ms/step - loss: 7.3080e-04 - mae: 0.0215 - val_loss: 0.0026 - val_mae: 0.0401\n",
      "Epoch 905/2000\n",
      "5/5 [==============================] - 1s 156ms/step - loss: 7.9892e-04 - mae: 0.0225 - val_loss: 0.0025 - val_mae: 0.0390\n",
      "Epoch 906/2000\n",
      "5/5 [==============================] - 1s 155ms/step - loss: 7.5277e-04 - mae: 0.0218 - val_loss: 0.0025 - val_mae: 0.0388\n",
      "Epoch 907/2000\n",
      "5/5 [==============================] - 1s 150ms/step - loss: 6.9275e-04 - mae: 0.0207 - val_loss: 0.0024 - val_mae: 0.0374\n",
      "Epoch 908/2000\n",
      "5/5 [==============================] - 1s 148ms/step - loss: 6.5637e-04 - mae: 0.0202 - val_loss: 0.0024 - val_mae: 0.0377\n",
      "Epoch 909/2000\n",
      "5/5 [==============================] - 1s 142ms/step - loss: 6.2294e-04 - mae: 0.0197 - val_loss: 0.0024 - val_mae: 0.0375\n",
      "Epoch 910/2000\n",
      "5/5 [==============================] - 1s 143ms/step - loss: 6.3463e-04 - mae: 0.0200 - val_loss: 0.0026 - val_mae: 0.0394\n",
      "Epoch 911/2000\n",
      "5/5 [==============================] - 1s 144ms/step - loss: 6.7432e-04 - mae: 0.0204 - val_loss: 0.0024 - val_mae: 0.0380\n",
      "Epoch 912/2000\n",
      "5/5 [==============================] - 1s 146ms/step - loss: 6.6282e-04 - mae: 0.0203 - val_loss: 0.0024 - val_mae: 0.0379\n",
      "Epoch 913/2000\n",
      "5/5 [==============================] - 1s 156ms/step - loss: 6.4504e-04 - mae: 0.0200 - val_loss: 0.0025 - val_mae: 0.0384\n",
      "Epoch 914/2000\n",
      "5/5 [==============================] - 1s 140ms/step - loss: 7.1104e-04 - mae: 0.0211 - val_loss: 0.0025 - val_mae: 0.0383\n",
      "Epoch 915/2000\n",
      "5/5 [==============================] - 1s 139ms/step - loss: 7.6764e-04 - mae: 0.0219 - val_loss: 0.0024 - val_mae: 0.0379\n",
      "Epoch 916/2000\n",
      "5/5 [==============================] - 1s 135ms/step - loss: 8.7069e-04 - mae: 0.0232 - val_loss: 0.0025 - val_mae: 0.0387\n",
      "Epoch 917/2000\n",
      "5/5 [==============================] - 1s 147ms/step - loss: 7.8865e-04 - mae: 0.0222 - val_loss: 0.0025 - val_mae: 0.0384\n",
      "Epoch 918/2000\n",
      "5/5 [==============================] - 1s 156ms/step - loss: 7.1872e-04 - mae: 0.0213 - val_loss: 0.0024 - val_mae: 0.0374\n",
      "Epoch 919/2000\n",
      "5/5 [==============================] - ETA: 0s - loss: 7.4192e-04 - mae: 0.0216INFO:tensorflow:Assets written to: C:\\Users\\PARK\\Documents\\LAB\\RNN vs LSTM\\FInal Example\\wandb\\run-20221015_190827-1kgjbxck\\files\\model-best\\assets\n"
     ]
    },
    {
     "name": "stderr",
     "output_type": "stream",
     "text": [
      "\u001b[34m\u001b[1mwandb\u001b[0m: Adding directory to artifact (C:\\Users\\PARK\\Documents\\LAB\\RNN vs LSTM\\FInal Example\\wandb\\run-20221015_190827-1kgjbxck\\files\\model-best)... Done. 0.0s\n"
     ]
    },
    {
     "name": "stdout",
     "output_type": "stream",
     "text": [
      "5/5 [==============================] - 2s 473ms/step - loss: 7.4192e-04 - mae: 0.0216 - val_loss: 0.0023 - val_mae: 0.0370\n",
      "Epoch 920/2000\n",
      "5/5 [==============================] - 1s 154ms/step - loss: 7.0391e-04 - mae: 0.0208 - val_loss: 0.0024 - val_mae: 0.0372\n",
      "Epoch 921/2000\n",
      "5/5 [==============================] - 1s 149ms/step - loss: 7.4191e-04 - mae: 0.0217 - val_loss: 0.0023 - val_mae: 0.0370\n",
      "Epoch 922/2000\n",
      "5/5 [==============================] - 1s 138ms/step - loss: 7.7553e-04 - mae: 0.0220 - val_loss: 0.0024 - val_mae: 0.0378\n",
      "Epoch 923/2000\n",
      "5/5 [==============================] - 1s 138ms/step - loss: 6.7110e-04 - mae: 0.0204 - val_loss: 0.0024 - val_mae: 0.0382\n",
      "Epoch 924/2000\n",
      "5/5 [==============================] - 1s 134ms/step - loss: 6.3535e-04 - mae: 0.0199 - val_loss: 0.0025 - val_mae: 0.0383\n",
      "Epoch 925/2000\n",
      "5/5 [==============================] - 1s 141ms/step - loss: 6.4198e-04 - mae: 0.0201 - val_loss: 0.0024 - val_mae: 0.0382\n",
      "Epoch 926/2000\n",
      "5/5 [==============================] - 1s 148ms/step - loss: 6.4542e-04 - mae: 0.0201 - val_loss: 0.0024 - val_mae: 0.0377\n",
      "Epoch 927/2000\n",
      "5/5 [==============================] - 1s 148ms/step - loss: 6.2551e-04 - mae: 0.0196 - val_loss: 0.0023 - val_mae: 0.0372\n",
      "Epoch 928/2000\n",
      "5/5 [==============================] - 1s 155ms/step - loss: 6.5035e-04 - mae: 0.0202 - val_loss: 0.0026 - val_mae: 0.0395\n",
      "Epoch 929/2000\n",
      "5/5 [==============================] - 1s 148ms/step - loss: 6.6478e-04 - mae: 0.0203 - val_loss: 0.0024 - val_mae: 0.0373\n",
      "Epoch 930/2000\n",
      "5/5 [==============================] - 1s 146ms/step - loss: 6.4035e-04 - mae: 0.0199 - val_loss: 0.0024 - val_mae: 0.0379\n",
      "Epoch 931/2000\n",
      "5/5 [==============================] - 1s 143ms/step - loss: 6.3110e-04 - mae: 0.0198 - val_loss: 0.0024 - val_mae: 0.0376\n",
      "Epoch 932/2000\n",
      "5/5 [==============================] - ETA: 0s - loss: 6.3077e-04 - mae: 0.0198INFO:tensorflow:Assets written to: C:\\Users\\PARK\\Documents\\LAB\\RNN vs LSTM\\FInal Example\\wandb\\run-20221015_190827-1kgjbxck\\files\\model-best\\assets\n"
     ]
    },
    {
     "name": "stderr",
     "output_type": "stream",
     "text": [
      "\u001b[34m\u001b[1mwandb\u001b[0m: Adding directory to artifact (C:\\Users\\PARK\\Documents\\LAB\\RNN vs LSTM\\FInal Example\\wandb\\run-20221015_190827-1kgjbxck\\files\\model-best)... Done. 0.0s\n"
     ]
    },
    {
     "name": "stdout",
     "output_type": "stream",
     "text": [
      "5/5 [==============================] - 2s 505ms/step - loss: 6.3077e-04 - mae: 0.0198 - val_loss: 0.0023 - val_mae: 0.0368\n",
      "Epoch 933/2000\n",
      "5/5 [==============================] - 1s 167ms/step - loss: 5.6903e-04 - mae: 0.0188 - val_loss: 0.0024 - val_mae: 0.0379\n",
      "Epoch 934/2000\n",
      "5/5 [==============================] - 1s 160ms/step - loss: 6.7265e-04 - mae: 0.0206 - val_loss: 0.0026 - val_mae: 0.0390\n",
      "Epoch 935/2000\n",
      "5/5 [==============================] - 1s 151ms/step - loss: 7.8047e-04 - mae: 0.0222 - val_loss: 0.0028 - val_mae: 0.0414\n",
      "Epoch 936/2000\n",
      "5/5 [==============================] - 1s 156ms/step - loss: 8.0379e-04 - mae: 0.0225 - val_loss: 0.0026 - val_mae: 0.0397\n",
      "Epoch 937/2000\n",
      "5/5 [==============================] - 1s 153ms/step - loss: 7.2598e-04 - mae: 0.0215 - val_loss: 0.0026 - val_mae: 0.0394\n",
      "Epoch 938/2000\n",
      "5/5 [==============================] - 1s 151ms/step - loss: 8.2013e-04 - mae: 0.0228 - val_loss: 0.0026 - val_mae: 0.0397\n",
      "Epoch 939/2000\n",
      "5/5 [==============================] - 1s 157ms/step - loss: 6.9595e-04 - mae: 0.0209 - val_loss: 0.0025 - val_mae: 0.0384\n",
      "Epoch 940/2000\n",
      "5/5 [==============================] - 1s 160ms/step - loss: 6.7667e-04 - mae: 0.0207 - val_loss: 0.0024 - val_mae: 0.0378\n",
      "Epoch 941/2000\n",
      "5/5 [==============================] - 1s 150ms/step - loss: 7.6471e-04 - mae: 0.0220 - val_loss: 0.0025 - val_mae: 0.0381\n",
      "Epoch 942/2000\n",
      "5/5 [==============================] - 1s 147ms/step - loss: 8.0722e-04 - mae: 0.0225 - val_loss: 0.0023 - val_mae: 0.0375\n",
      "Epoch 943/2000\n",
      "5/5 [==============================] - 1s 150ms/step - loss: 7.1986e-04 - mae: 0.0211 - val_loss: 0.0025 - val_mae: 0.0378\n",
      "Epoch 944/2000\n",
      "5/5 [==============================] - 1s 152ms/step - loss: 6.8639e-04 - mae: 0.0206 - val_loss: 0.0024 - val_mae: 0.0378\n",
      "Epoch 945/2000\n",
      "5/5 [==============================] - 1s 150ms/step - loss: 6.2324e-04 - mae: 0.0197 - val_loss: 0.0023 - val_mae: 0.0373\n",
      "Epoch 946/2000\n",
      "5/5 [==============================] - 1s 154ms/step - loss: 6.4743e-04 - mae: 0.0201 - val_loss: 0.0024 - val_mae: 0.0382\n",
      "Epoch 947/2000\n",
      "5/5 [==============================] - 1s 149ms/step - loss: 7.4561e-04 - mae: 0.0215 - val_loss: 0.0025 - val_mae: 0.0386\n",
      "Epoch 948/2000\n",
      "5/5 [==============================] - 1s 149ms/step - loss: 6.9797e-04 - mae: 0.0209 - val_loss: 0.0026 - val_mae: 0.0397\n",
      "Epoch 949/2000\n",
      "5/5 [==============================] - 1s 151ms/step - loss: 7.3057e-04 - mae: 0.0213 - val_loss: 0.0024 - val_mae: 0.0372\n",
      "Epoch 950/2000\n",
      "5/5 [==============================] - 1s 158ms/step - loss: 7.1329e-04 - mae: 0.0212 - val_loss: 0.0026 - val_mae: 0.0407\n",
      "Epoch 951/2000\n",
      "5/5 [==============================] - 1s 153ms/step - loss: 7.5614e-04 - mae: 0.0216 - val_loss: 0.0026 - val_mae: 0.0398\n",
      "Epoch 952/2000\n",
      "5/5 [==============================] - 1s 157ms/step - loss: 7.3996e-04 - mae: 0.0214 - val_loss: 0.0025 - val_mae: 0.0384\n",
      "Epoch 953/2000\n",
      "5/5 [==============================] - 1s 148ms/step - loss: 7.1163e-04 - mae: 0.0213 - val_loss: 0.0023 - val_mae: 0.0371\n",
      "Epoch 954/2000\n",
      "5/5 [==============================] - 1s 149ms/step - loss: 6.1586e-04 - mae: 0.0195 - val_loss: 0.0023 - val_mae: 0.0374\n",
      "Epoch 955/2000\n",
      "5/5 [==============================] - 1s 152ms/step - loss: 6.3986e-04 - mae: 0.0201 - val_loss: 0.0025 - val_mae: 0.0386\n",
      "Epoch 956/2000\n",
      "5/5 [==============================] - 1s 153ms/step - loss: 7.0544e-04 - mae: 0.0211 - val_loss: 0.0024 - val_mae: 0.0384\n",
      "Epoch 957/2000\n",
      "5/5 [==============================] - 1s 150ms/step - loss: 6.4438e-04 - mae: 0.0201 - val_loss: 0.0023 - val_mae: 0.0365\n",
      "Epoch 958/2000\n",
      "5/5 [==============================] - 1s 149ms/step - loss: 7.3577e-04 - mae: 0.0214 - val_loss: 0.0025 - val_mae: 0.0387\n",
      "Epoch 959/2000\n",
      "5/5 [==============================] - 1s 149ms/step - loss: 7.5798e-04 - mae: 0.0218 - val_loss: 0.0026 - val_mae: 0.0399\n",
      "Epoch 960/2000\n",
      "5/5 [==============================] - 1s 145ms/step - loss: 8.3208e-04 - mae: 0.0230 - val_loss: 0.0024 - val_mae: 0.0379\n",
      "Epoch 961/2000\n",
      "5/5 [==============================] - 1s 149ms/step - loss: 6.7330e-04 - mae: 0.0206 - val_loss: 0.0024 - val_mae: 0.0378\n",
      "Epoch 962/2000\n",
      "5/5 [==============================] - 1s 155ms/step - loss: 5.9595e-04 - mae: 0.0192 - val_loss: 0.0023 - val_mae: 0.0373\n",
      "Epoch 963/2000\n",
      "5/5 [==============================] - 1s 150ms/step - loss: 5.7959e-04 - mae: 0.0191 - val_loss: 0.0024 - val_mae: 0.0383\n",
      "Epoch 964/2000\n",
      "5/5 [==============================] - 1s 141ms/step - loss: 6.0957e-04 - mae: 0.0195 - val_loss: 0.0023 - val_mae: 0.0368\n",
      "Epoch 965/2000\n",
      "5/5 [==============================] - 1s 134ms/step - loss: 5.9787e-04 - mae: 0.0194 - val_loss: 0.0024 - val_mae: 0.0369\n",
      "Epoch 966/2000\n",
      "5/5 [==============================] - 1s 135ms/step - loss: 6.1096e-04 - mae: 0.0196 - val_loss: 0.0023 - val_mae: 0.0369\n",
      "Epoch 967/2000\n",
      "5/5 [==============================] - 1s 148ms/step - loss: 6.0090e-04 - mae: 0.0194 - val_loss: 0.0024 - val_mae: 0.0378\n",
      "Epoch 968/2000\n",
      "5/5 [==============================] - 1s 154ms/step - loss: 5.9687e-04 - mae: 0.0192 - val_loss: 0.0023 - val_mae: 0.0373\n",
      "Epoch 969/2000\n",
      "5/5 [==============================] - ETA: 0s - loss: 5.8916e-04 - mae: 0.0192INFO:tensorflow:Assets written to: C:\\Users\\PARK\\Documents\\LAB\\RNN vs LSTM\\FInal Example\\wandb\\run-20221015_190827-1kgjbxck\\files\\model-best\\assets\n"
     ]
    },
    {
     "name": "stderr",
     "output_type": "stream",
     "text": [
      "\u001b[34m\u001b[1mwandb\u001b[0m: Adding directory to artifact (C:\\Users\\PARK\\Documents\\LAB\\RNN vs LSTM\\FInal Example\\wandb\\run-20221015_190827-1kgjbxck\\files\\model-best)... Done. 0.0s\n"
     ]
    },
    {
     "name": "stdout",
     "output_type": "stream",
     "text": [
      "5/5 [==============================] - 2s 474ms/step - loss: 5.8916e-04 - mae: 0.0192 - val_loss: 0.0022 - val_mae: 0.0369\n",
      "Epoch 970/2000\n",
      "5/5 [==============================] - 1s 157ms/step - loss: 5.7909e-04 - mae: 0.0189 - val_loss: 0.0024 - val_mae: 0.0376\n",
      "Epoch 971/2000\n",
      "5/5 [==============================] - 1s 140ms/step - loss: 5.4760e-04 - mae: 0.0185 - val_loss: 0.0023 - val_mae: 0.0373\n",
      "Epoch 972/2000\n",
      "5/5 [==============================] - 1s 135ms/step - loss: 5.2730e-04 - mae: 0.0182 - val_loss: 0.0023 - val_mae: 0.0368\n",
      "Epoch 973/2000\n",
      "5/5 [==============================] - ETA: 0s - loss: 4.9025e-04 - mae: 0.0175INFO:tensorflow:Assets written to: C:\\Users\\PARK\\Documents\\LAB\\RNN vs LSTM\\FInal Example\\wandb\\run-20221015_190827-1kgjbxck\\files\\model-best\\assets\n"
     ]
    },
    {
     "name": "stderr",
     "output_type": "stream",
     "text": [
      "\u001b[34m\u001b[1mwandb\u001b[0m: Adding directory to artifact (C:\\Users\\PARK\\Documents\\LAB\\RNN vs LSTM\\FInal Example\\wandb\\run-20221015_190827-1kgjbxck\\files\\model-best)... Done. 0.0s\n"
     ]
    },
    {
     "name": "stdout",
     "output_type": "stream",
     "text": [
      "5/5 [==============================] - 2s 469ms/step - loss: 4.9025e-04 - mae: 0.0175 - val_loss: 0.0022 - val_mae: 0.0363\n",
      "Epoch 974/2000\n",
      "5/5 [==============================] - 1s 167ms/step - loss: 4.8560e-04 - mae: 0.0173 - val_loss: 0.0023 - val_mae: 0.0365\n",
      "Epoch 975/2000\n",
      "5/5 [==============================] - 1s 138ms/step - loss: 5.1366e-04 - mae: 0.0177 - val_loss: 0.0023 - val_mae: 0.0369\n",
      "Epoch 976/2000\n",
      "5/5 [==============================] - 1s 135ms/step - loss: 4.8988e-04 - mae: 0.0174 - val_loss: 0.0023 - val_mae: 0.0368\n",
      "Epoch 977/2000\n",
      "5/5 [==============================] - 1s 135ms/step - loss: 5.2910e-04 - mae: 0.0181 - val_loss: 0.0022 - val_mae: 0.0358\n",
      "Epoch 978/2000\n",
      "5/5 [==============================] - 1s 143ms/step - loss: 5.0994e-04 - mae: 0.0178 - val_loss: 0.0023 - val_mae: 0.0370\n",
      "Epoch 979/2000\n",
      "5/5 [==============================] - 1s 154ms/step - loss: 5.8281e-04 - mae: 0.0191 - val_loss: 0.0023 - val_mae: 0.0367\n",
      "Epoch 980/2000\n",
      "5/5 [==============================] - 1s 140ms/step - loss: 5.8451e-04 - mae: 0.0192 - val_loss: 0.0024 - val_mae: 0.0378\n",
      "Epoch 981/2000\n",
      "5/5 [==============================] - 1s 138ms/step - loss: 6.2363e-04 - mae: 0.0198 - val_loss: 0.0023 - val_mae: 0.0371\n",
      "Epoch 982/2000\n",
      "5/5 [==============================] - 1s 141ms/step - loss: 5.6229e-04 - mae: 0.0185 - val_loss: 0.0024 - val_mae: 0.0381\n",
      "Epoch 983/2000\n",
      "5/5 [==============================] - 1s 143ms/step - loss: 6.0826e-04 - mae: 0.0196 - val_loss: 0.0023 - val_mae: 0.0372\n",
      "Epoch 984/2000\n",
      "5/5 [==============================] - 1s 154ms/step - loss: 5.9127e-04 - mae: 0.0194 - val_loss: 0.0023 - val_mae: 0.0371\n",
      "Epoch 985/2000\n",
      "5/5 [==============================] - 1s 153ms/step - loss: 5.4521e-04 - mae: 0.0183 - val_loss: 0.0025 - val_mae: 0.0389\n",
      "Epoch 986/2000\n",
      "5/5 [==============================] - 1s 150ms/step - loss: 6.9523e-04 - mae: 0.0211 - val_loss: 0.0024 - val_mae: 0.0379\n",
      "Epoch 987/2000\n",
      "5/5 [==============================] - 1s 153ms/step - loss: 6.9016e-04 - mae: 0.0209 - val_loss: 0.0023 - val_mae: 0.0367\n",
      "Epoch 988/2000\n",
      "5/5 [==============================] - 1s 150ms/step - loss: 5.3666e-04 - mae: 0.0183 - val_loss: 0.0022 - val_mae: 0.0363\n",
      "Epoch 989/2000\n",
      "5/5 [==============================] - 1s 151ms/step - loss: 4.9649e-04 - mae: 0.0175 - val_loss: 0.0023 - val_mae: 0.0374\n",
      "Epoch 990/2000\n",
      "5/5 [==============================] - 1s 149ms/step - loss: 4.9473e-04 - mae: 0.0176 - val_loss: 0.0024 - val_mae: 0.0380\n",
      "Epoch 991/2000\n",
      "5/5 [==============================] - 1s 159ms/step - loss: 5.2688e-04 - mae: 0.0183 - val_loss: 0.0023 - val_mae: 0.0363\n",
      "Epoch 992/2000\n",
      "5/5 [==============================] - 1s 156ms/step - loss: 5.1331e-04 - mae: 0.0180 - val_loss: 0.0025 - val_mae: 0.0382\n",
      "Epoch 993/2000\n",
      "5/5 [==============================] - 1s 158ms/step - loss: 6.2211e-04 - mae: 0.0198 - val_loss: 0.0023 - val_mae: 0.0372\n",
      "Epoch 994/2000\n",
      "5/5 [==============================] - 1s 149ms/step - loss: 5.2710e-04 - mae: 0.0181 - val_loss: 0.0025 - val_mae: 0.0382\n",
      "Epoch 995/2000\n",
      "5/5 [==============================] - 1s 149ms/step - loss: 6.1998e-04 - mae: 0.0198 - val_loss: 0.0027 - val_mae: 0.0400\n",
      "Epoch 996/2000\n",
      "5/5 [==============================] - 1s 150ms/step - loss: 7.5453e-04 - mae: 0.0220 - val_loss: 0.0025 - val_mae: 0.0389\n",
      "Epoch 997/2000\n",
      "5/5 [==============================] - 1s 141ms/step - loss: 6.8587e-04 - mae: 0.0207 - val_loss: 0.0025 - val_mae: 0.0390\n",
      "Epoch 998/2000\n",
      "5/5 [==============================] - 1s 141ms/step - loss: 7.3655e-04 - mae: 0.0215 - val_loss: 0.0024 - val_mae: 0.0373\n",
      "Epoch 999/2000\n",
      "5/5 [==============================] - 1s 135ms/step - loss: 7.0514e-04 - mae: 0.0211 - val_loss: 0.0024 - val_mae: 0.0380\n",
      "Epoch 1000/2000\n",
      "5/5 [==============================] - 1s 151ms/step - loss: 6.7102e-04 - mae: 0.0204 - val_loss: 0.0024 - val_mae: 0.0381\n",
      "Epoch 1001/2000\n",
      "5/5 [==============================] - 1s 151ms/step - loss: 6.9072e-04 - mae: 0.0208 - val_loss: 0.0023 - val_mae: 0.0370\n",
      "Epoch 1002/2000\n",
      "5/5 [==============================] - 1s 152ms/step - loss: 6.1394e-04 - mae: 0.0197 - val_loss: 0.0024 - val_mae: 0.0376\n",
      "Epoch 1003/2000\n",
      "5/5 [==============================] - 1s 147ms/step - loss: 6.0888e-04 - mae: 0.0197 - val_loss: 0.0023 - val_mae: 0.0376\n",
      "Epoch 1004/2000\n",
      "5/5 [==============================] - 1s 153ms/step - loss: 5.5553e-04 - mae: 0.0185 - val_loss: 0.0023 - val_mae: 0.0368\n",
      "Epoch 1005/2000\n",
      "5/5 [==============================] - 1s 142ms/step - loss: 5.0806e-04 - mae: 0.0177 - val_loss: 0.0023 - val_mae: 0.0368\n",
      "Epoch 1006/2000\n",
      "5/5 [==============================] - 1s 141ms/step - loss: 5.0026e-04 - mae: 0.0176 - val_loss: 0.0023 - val_mae: 0.0374\n",
      "Epoch 1007/2000\n",
      "5/5 [==============================] - 1s 136ms/step - loss: 5.5022e-04 - mae: 0.0187 - val_loss: 0.0024 - val_mae: 0.0379\n",
      "Epoch 1008/2000\n",
      "5/5 [==============================] - 1s 145ms/step - loss: 6.7635e-04 - mae: 0.0206 - val_loss: 0.0028 - val_mae: 0.0402\n",
      "Epoch 1009/2000\n",
      "5/5 [==============================] - 1s 147ms/step - loss: 8.0942e-04 - mae: 0.0222 - val_loss: 0.0025 - val_mae: 0.0390\n",
      "Epoch 1010/2000\n",
      "5/5 [==============================] - 1s 148ms/step - loss: 9.4170e-04 - mae: 0.0247 - val_loss: 0.0029 - val_mae: 0.0424\n",
      "Epoch 1011/2000\n",
      "5/5 [==============================] - 1s 147ms/step - loss: 0.0010 - mae: 0.0255 - val_loss: 0.0024 - val_mae: 0.0380\n",
      "Epoch 1012/2000\n",
      "5/5 [==============================] - 1s 140ms/step - loss: 7.8480e-04 - mae: 0.0223 - val_loss: 0.0024 - val_mae: 0.0384\n",
      "Epoch 1013/2000\n",
      "5/5 [==============================] - 1s 135ms/step - loss: 9.9177e-04 - mae: 0.0250 - val_loss: 0.0027 - val_mae: 0.0407\n",
      "Epoch 1014/2000\n",
      "5/5 [==============================] - 1s 133ms/step - loss: 9.3386e-04 - mae: 0.0244 - val_loss: 0.0027 - val_mae: 0.0403\n",
      "Epoch 1015/2000\n",
      "5/5 [==============================] - 1s 137ms/step - loss: 0.0011 - mae: 0.0266 - val_loss: 0.0032 - val_mae: 0.0450\n",
      "Epoch 1016/2000\n",
      "5/5 [==============================] - 1s 139ms/step - loss: 0.0014 - mae: 0.0294 - val_loss: 0.0028 - val_mae: 0.0411\n",
      "Epoch 1017/2000\n",
      "5/5 [==============================] - 1s 134ms/step - loss: 9.6622e-04 - mae: 0.0246 - val_loss: 0.0027 - val_mae: 0.0403\n",
      "Epoch 1018/2000\n",
      "5/5 [==============================] - 1s 135ms/step - loss: 9.5142e-04 - mae: 0.0243 - val_loss: 0.0026 - val_mae: 0.0400\n",
      "Epoch 1019/2000\n",
      "5/5 [==============================] - 1s 146ms/step - loss: 7.5306e-04 - mae: 0.0219 - val_loss: 0.0026 - val_mae: 0.0400\n",
      "Epoch 1020/2000\n",
      "5/5 [==============================] - 1s 152ms/step - loss: 8.0420e-04 - mae: 0.0224 - val_loss: 0.0026 - val_mae: 0.0393\n",
      "Epoch 1021/2000\n",
      "5/5 [==============================] - 1s 188ms/step - loss: 7.4159e-04 - mae: 0.0215 - val_loss: 0.0025 - val_mae: 0.0390\n",
      "Epoch 1022/2000\n",
      "5/5 [==============================] - 1s 142ms/step - loss: 8.5770e-04 - mae: 0.0234 - val_loss: 0.0026 - val_mae: 0.0399\n",
      "Epoch 1023/2000\n",
      "5/5 [==============================] - 1s 142ms/step - loss: 9.7084e-04 - mae: 0.0246 - val_loss: 0.0029 - val_mae: 0.0421\n",
      "Epoch 1024/2000\n",
      "5/5 [==============================] - 1s 139ms/step - loss: 0.0011 - mae: 0.0260 - val_loss: 0.0027 - val_mae: 0.0404\n",
      "Epoch 1025/2000\n",
      "5/5 [==============================] - 1s 142ms/step - loss: 9.3823e-04 - mae: 0.0245 - val_loss: 0.0024 - val_mae: 0.0381\n",
      "Epoch 1026/2000\n",
      "5/5 [==============================] - 1s 136ms/step - loss: 8.4769e-04 - mae: 0.0232 - val_loss: 0.0031 - val_mae: 0.0435\n",
      "Epoch 1027/2000\n",
      "5/5 [==============================] - 1s 135ms/step - loss: 0.0011 - mae: 0.0259 - val_loss: 0.0025 - val_mae: 0.0390\n",
      "Epoch 1028/2000\n",
      "5/5 [==============================] - 1s 154ms/step - loss: 9.4196e-04 - mae: 0.0244 - val_loss: 0.0026 - val_mae: 0.0392\n",
      "Epoch 1029/2000\n",
      "5/5 [==============================] - 1s 151ms/step - loss: 9.4375e-04 - mae: 0.0242 - val_loss: 0.0025 - val_mae: 0.0395\n",
      "Epoch 1030/2000\n",
      "5/5 [==============================] - 1s 143ms/step - loss: 9.1304e-04 - mae: 0.0242 - val_loss: 0.0026 - val_mae: 0.0396\n",
      "Epoch 1031/2000\n",
      "5/5 [==============================] - 1s 139ms/step - loss: 8.1044e-04 - mae: 0.0225 - val_loss: 0.0026 - val_mae: 0.0393\n",
      "Epoch 1032/2000\n"
     ]
    },
    {
     "name": "stdout",
     "output_type": "stream",
     "text": [
      "5/5 [==============================] - 1s 136ms/step - loss: 7.5020e-04 - mae: 0.0217 - val_loss: 0.0025 - val_mae: 0.0389\n",
      "Epoch 1033/2000\n",
      "5/5 [==============================] - 1s 147ms/step - loss: 7.6099e-04 - mae: 0.0220 - val_loss: 0.0026 - val_mae: 0.0398\n",
      "Epoch 1034/2000\n",
      "5/5 [==============================] - 1s 156ms/step - loss: 6.8044e-04 - mae: 0.0206 - val_loss: 0.0022 - val_mae: 0.0365\n",
      "Epoch 1035/2000\n",
      "5/5 [==============================] - 1s 148ms/step - loss: 6.3721e-04 - mae: 0.0201 - val_loss: 0.0025 - val_mae: 0.0386\n",
      "Epoch 1036/2000\n",
      "5/5 [==============================] - 1s 152ms/step - loss: 6.2982e-04 - mae: 0.0199 - val_loss: 0.0022 - val_mae: 0.0362\n",
      "Epoch 1037/2000\n",
      "5/5 [==============================] - 1s 149ms/step - loss: 5.2503e-04 - mae: 0.0180 - val_loss: 0.0023 - val_mae: 0.0375\n",
      "Epoch 1038/2000\n",
      "5/5 [==============================] - 1s 149ms/step - loss: 5.3973e-04 - mae: 0.0185 - val_loss: 0.0023 - val_mae: 0.0362\n",
      "Epoch 1039/2000\n",
      "5/5 [==============================] - ETA: 0s - loss: 4.7652e-04 - mae: 0.0173INFO:tensorflow:Assets written to: C:\\Users\\PARK\\Documents\\LAB\\RNN vs LSTM\\FInal Example\\wandb\\run-20221015_190827-1kgjbxck\\files\\model-best\\assets\n"
     ]
    },
    {
     "name": "stderr",
     "output_type": "stream",
     "text": [
      "\u001b[34m\u001b[1mwandb\u001b[0m: Adding directory to artifact (C:\\Users\\PARK\\Documents\\LAB\\RNN vs LSTM\\FInal Example\\wandb\\run-20221015_190827-1kgjbxck\\files\\model-best)... Done. 0.0s\n"
     ]
    },
    {
     "name": "stdout",
     "output_type": "stream",
     "text": [
      "5/5 [==============================] - 2s 478ms/step - loss: 4.7652e-04 - mae: 0.0173 - val_loss: 0.0022 - val_mae: 0.0358\n",
      "Epoch 1040/2000\n",
      "5/5 [==============================] - 1s 161ms/step - loss: 4.8193e-04 - mae: 0.0174 - val_loss: 0.0023 - val_mae: 0.0364\n",
      "Epoch 1041/2000\n",
      "5/5 [==============================] - 1s 157ms/step - loss: 5.0112e-04 - mae: 0.0178 - val_loss: 0.0023 - val_mae: 0.0367\n",
      "Epoch 1042/2000\n",
      "5/5 [==============================] - 1s 135ms/step - loss: 5.2886e-04 - mae: 0.0181 - val_loss: 0.0023 - val_mae: 0.0371\n",
      "Epoch 1043/2000\n",
      "5/5 [==============================] - 1s 138ms/step - loss: 6.4552e-04 - mae: 0.0201 - val_loss: 0.0023 - val_mae: 0.0364\n",
      "Epoch 1044/2000\n",
      "5/5 [==============================] - 1s 134ms/step - loss: 5.9681e-04 - mae: 0.0195 - val_loss: 0.0022 - val_mae: 0.0365\n",
      "Epoch 1045/2000\n",
      "5/5 [==============================] - 1s 145ms/step - loss: 5.8594e-04 - mae: 0.0192 - val_loss: 0.0023 - val_mae: 0.0370\n",
      "Epoch 1046/2000\n",
      "5/5 [==============================] - 1s 148ms/step - loss: 5.7795e-04 - mae: 0.0191 - val_loss: 0.0022 - val_mae: 0.0360\n",
      "Epoch 1047/2000\n",
      "5/5 [==============================] - ETA: 0s - loss: 5.3036e-04 - mae: 0.0181INFO:tensorflow:Assets written to: C:\\Users\\PARK\\Documents\\LAB\\RNN vs LSTM\\FInal Example\\wandb\\run-20221015_190827-1kgjbxck\\files\\model-best\\assets\n"
     ]
    },
    {
     "name": "stderr",
     "output_type": "stream",
     "text": [
      "\u001b[34m\u001b[1mwandb\u001b[0m: Adding directory to artifact (C:\\Users\\PARK\\Documents\\LAB\\RNN vs LSTM\\FInal Example\\wandb\\run-20221015_190827-1kgjbxck\\files\\model-best)... Done. 0.0s\n"
     ]
    },
    {
     "name": "stdout",
     "output_type": "stream",
     "text": [
      "5/5 [==============================] - 2s 482ms/step - loss: 5.3036e-04 - mae: 0.0181 - val_loss: 0.0021 - val_mae: 0.0354\n",
      "Epoch 1048/2000\n",
      "5/5 [==============================] - 1s 156ms/step - loss: 4.9321e-04 - mae: 0.0176 - val_loss: 0.0023 - val_mae: 0.0373\n",
      "Epoch 1049/2000\n",
      "5/5 [==============================] - 1s 152ms/step - loss: 4.6074e-04 - mae: 0.0169 - val_loss: 0.0022 - val_mae: 0.0354\n",
      "Epoch 1050/2000\n",
      "5/5 [==============================] - 1s 142ms/step - loss: 4.9710e-04 - mae: 0.0176 - val_loss: 0.0023 - val_mae: 0.0369\n",
      "Epoch 1051/2000\n",
      "5/5 [==============================] - 1s 136ms/step - loss: 5.4489e-04 - mae: 0.0187 - val_loss: 0.0025 - val_mae: 0.0392\n",
      "Epoch 1052/2000\n",
      "5/5 [==============================] - 1s 133ms/step - loss: 6.3406e-04 - mae: 0.0199 - val_loss: 0.0023 - val_mae: 0.0371\n",
      "Epoch 1053/2000\n",
      "5/5 [==============================] - ETA: 0s - loss: 5.7953e-04 - mae: 0.0191INFO:tensorflow:Assets written to: C:\\Users\\PARK\\Documents\\LAB\\RNN vs LSTM\\FInal Example\\wandb\\run-20221015_190827-1kgjbxck\\files\\model-best\\assets\n"
     ]
    },
    {
     "name": "stderr",
     "output_type": "stream",
     "text": [
      "\u001b[34m\u001b[1mwandb\u001b[0m: Adding directory to artifact (C:\\Users\\PARK\\Documents\\LAB\\RNN vs LSTM\\FInal Example\\wandb\\run-20221015_190827-1kgjbxck\\files\\model-best)... Done. 0.0s\n"
     ]
    },
    {
     "name": "stdout",
     "output_type": "stream",
     "text": [
      "5/5 [==============================] - 2s 487ms/step - loss: 5.7953e-04 - mae: 0.0191 - val_loss: 0.0021 - val_mae: 0.0356\n",
      "Epoch 1054/2000\n",
      "5/5 [==============================] - 1s 165ms/step - loss: 5.8264e-04 - mae: 0.0190 - val_loss: 0.0021 - val_mae: 0.0357\n",
      "Epoch 1055/2000\n",
      "5/5 [==============================] - 1s 150ms/step - loss: 5.2126e-04 - mae: 0.0181 - val_loss: 0.0022 - val_mae: 0.0363\n",
      "Epoch 1056/2000\n",
      "5/5 [==============================] - 1s 139ms/step - loss: 4.8617e-04 - mae: 0.0173 - val_loss: 0.0024 - val_mae: 0.0379\n",
      "Epoch 1057/2000\n",
      "5/5 [==============================] - 1s 138ms/step - loss: 5.6659e-04 - mae: 0.0190 - val_loss: 0.0023 - val_mae: 0.0372\n",
      "Epoch 1058/2000\n",
      "5/5 [==============================] - 1s 134ms/step - loss: 4.9455e-04 - mae: 0.0176 - val_loss: 0.0022 - val_mae: 0.0361\n",
      "Epoch 1059/2000\n",
      "5/5 [==============================] - 1s 143ms/step - loss: 5.0062e-04 - mae: 0.0178 - val_loss: 0.0022 - val_mae: 0.0361\n",
      "Epoch 1060/2000\n",
      "5/5 [==============================] - 1s 149ms/step - loss: 4.7359e-04 - mae: 0.0171 - val_loss: 0.0022 - val_mae: 0.0360\n",
      "Epoch 1061/2000\n",
      "5/5 [==============================] - 1s 147ms/step - loss: 4.9020e-04 - mae: 0.0176 - val_loss: 0.0022 - val_mae: 0.0361\n",
      "Epoch 1062/2000\n",
      "5/5 [==============================] - 1s 146ms/step - loss: 5.0154e-04 - mae: 0.0176 - val_loss: 0.0023 - val_mae: 0.0369\n",
      "Epoch 1063/2000\n",
      "5/5 [==============================] - 1s 143ms/step - loss: 5.9192e-04 - mae: 0.0195 - val_loss: 0.0024 - val_mae: 0.0383\n",
      "Epoch 1064/2000\n",
      "5/5 [==============================] - 1s 148ms/step - loss: 5.9506e-04 - mae: 0.0194 - val_loss: 0.0024 - val_mae: 0.0385\n",
      "Epoch 1065/2000\n",
      "5/5 [==============================] - 1s 145ms/step - loss: 6.3311e-04 - mae: 0.0201 - val_loss: 0.0022 - val_mae: 0.0359\n",
      "Epoch 1066/2000\n",
      "5/5 [==============================] - 1s 140ms/step - loss: 6.2377e-04 - mae: 0.0197 - val_loss: 0.0022 - val_mae: 0.0363\n",
      "Epoch 1067/2000\n",
      "5/5 [==============================] - 1s 144ms/step - loss: 5.4498e-04 - mae: 0.0186 - val_loss: 0.0024 - val_mae: 0.0375\n",
      "Epoch 1068/2000\n",
      "5/5 [==============================] - 1s 144ms/step - loss: 5.9958e-04 - mae: 0.0192 - val_loss: 0.0024 - val_mae: 0.0380\n",
      "Epoch 1069/2000\n",
      "5/5 [==============================] - 1s 138ms/step - loss: 5.9727e-04 - mae: 0.0194 - val_loss: 0.0026 - val_mae: 0.0386\n",
      "Epoch 1070/2000\n",
      "5/5 [==============================] - 1s 133ms/step - loss: 7.9819e-04 - mae: 0.0224 - val_loss: 0.0027 - val_mae: 0.0398\n",
      "Epoch 1071/2000\n",
      "5/5 [==============================] - 1s 141ms/step - loss: 7.7422e-04 - mae: 0.0221 - val_loss: 0.0025 - val_mae: 0.0382\n",
      "Epoch 1072/2000\n",
      "5/5 [==============================] - 1s 148ms/step - loss: 7.1712e-04 - mae: 0.0212 - val_loss: 0.0024 - val_mae: 0.0381\n",
      "Epoch 1073/2000\n",
      "5/5 [==============================] - 1s 137ms/step - loss: 6.6509e-04 - mae: 0.0206 - val_loss: 0.0025 - val_mae: 0.0384\n",
      "Epoch 1074/2000\n",
      "5/5 [==============================] - 1s 135ms/step - loss: 7.7031e-04 - mae: 0.0221 - val_loss: 0.0026 - val_mae: 0.0401\n",
      "Epoch 1075/2000\n",
      "5/5 [==============================] - 1s 134ms/step - loss: 7.6000e-04 - mae: 0.0219 - val_loss: 0.0024 - val_mae: 0.0373\n",
      "Epoch 1076/2000\n",
      "5/5 [==============================] - 1s 146ms/step - loss: 6.6650e-04 - mae: 0.0205 - val_loss: 0.0024 - val_mae: 0.0378\n",
      "Epoch 1077/2000\n",
      "5/5 [==============================] - 1s 149ms/step - loss: 6.1712e-04 - mae: 0.0197 - val_loss: 0.0023 - val_mae: 0.0369\n",
      "Epoch 1078/2000\n",
      "5/5 [==============================] - 1s 147ms/step - loss: 5.7658e-04 - mae: 0.0191 - val_loss: 0.0024 - val_mae: 0.0381\n",
      "Epoch 1079/2000\n",
      "5/5 [==============================] - 1s 152ms/step - loss: 6.2073e-04 - mae: 0.0199 - val_loss: 0.0024 - val_mae: 0.0380\n",
      "Epoch 1080/2000\n",
      "5/5 [==============================] - 1s 140ms/step - loss: 6.0540e-04 - mae: 0.0196 - val_loss: 0.0023 - val_mae: 0.0370\n",
      "Epoch 1081/2000\n",
      "5/5 [==============================] - 1s 136ms/step - loss: 5.4840e-04 - mae: 0.0185 - val_loss: 0.0022 - val_mae: 0.0357\n",
      "Epoch 1082/2000\n",
      "5/5 [==============================] - 1s 138ms/step - loss: 4.6787e-04 - mae: 0.0171 - val_loss: 0.0022 - val_mae: 0.0352\n",
      "Epoch 1083/2000\n",
      "5/5 [==============================] - 1s 149ms/step - loss: 4.7220e-04 - mae: 0.0172 - val_loss: 0.0023 - val_mae: 0.0365\n",
      "Epoch 1084/2000\n",
      "5/5 [==============================] - 1s 150ms/step - loss: 4.7567e-04 - mae: 0.0173 - val_loss: 0.0022 - val_mae: 0.0363\n",
      "Epoch 1085/2000\n",
      "5/5 [==============================] - ETA: 0s - loss: 4.8574e-04 - mae: 0.0176INFO:tensorflow:Assets written to: C:\\Users\\PARK\\Documents\\LAB\\RNN vs LSTM\\FInal Example\\wandb\\run-20221015_190827-1kgjbxck\\files\\model-best\\assets\n"
     ]
    },
    {
     "name": "stderr",
     "output_type": "stream",
     "text": [
      "\u001b[34m\u001b[1mwandb\u001b[0m: Adding directory to artifact (C:\\Users\\PARK\\Documents\\LAB\\RNN vs LSTM\\FInal Example\\wandb\\run-20221015_190827-1kgjbxck\\files\\model-best)... Done. 0.0s\n"
     ]
    },
    {
     "name": "stdout",
     "output_type": "stream",
     "text": [
      "5/5 [==============================] - 2s 464ms/step - loss: 4.8574e-04 - mae: 0.0176 - val_loss: 0.0021 - val_mae: 0.0353\n",
      "Epoch 1086/2000\n",
      "5/5 [==============================] - 1s 155ms/step - loss: 4.3290e-04 - mae: 0.0165 - val_loss: 0.0022 - val_mae: 0.0363\n",
      "Epoch 1087/2000\n",
      "5/5 [==============================] - 1s 149ms/step - loss: 4.2596e-04 - mae: 0.0163 - val_loss: 0.0022 - val_mae: 0.0361\n",
      "Epoch 1088/2000\n",
      "5/5 [==============================] - 1s 139ms/step - loss: 4.0938e-04 - mae: 0.0159 - val_loss: 0.0021 - val_mae: 0.0357\n",
      "Epoch 1089/2000\n",
      "5/5 [==============================] - 1s 134ms/step - loss: 4.0114e-04 - mae: 0.0159 - val_loss: 0.0021 - val_mae: 0.0354\n",
      "Epoch 1090/2000\n",
      "5/5 [==============================] - ETA: 0s - loss: 4.2701e-04 - mae: 0.0163INFO:tensorflow:Assets written to: C:\\Users\\PARK\\Documents\\LAB\\RNN vs LSTM\\FInal Example\\wandb\\run-20221015_190827-1kgjbxck\\files\\model-best\\assets\n"
     ]
    },
    {
     "name": "stderr",
     "output_type": "stream",
     "text": [
      "\u001b[34m\u001b[1mwandb\u001b[0m: Adding directory to artifact (C:\\Users\\PARK\\Documents\\LAB\\RNN vs LSTM\\FInal Example\\wandb\\run-20221015_190827-1kgjbxck\\files\\model-best)... Done. 0.0s\n"
     ]
    },
    {
     "name": "stdout",
     "output_type": "stream",
     "text": [
      "5/5 [==============================] - 2s 491ms/step - loss: 4.2701e-04 - mae: 0.0163 - val_loss: 0.0021 - val_mae: 0.0352\n",
      "Epoch 1091/2000\n",
      "5/5 [==============================] - 1s 165ms/step - loss: 4.1893e-04 - mae: 0.0162 - val_loss: 0.0022 - val_mae: 0.0360\n",
      "Epoch 1092/2000\n",
      "5/5 [==============================] - 1s 154ms/step - loss: 4.2621e-04 - mae: 0.0163 - val_loss: 0.0021 - val_mae: 0.0350\n",
      "Epoch 1093/2000\n",
      "5/5 [==============================] - 1s 149ms/step - loss: 4.4888e-04 - mae: 0.0166 - val_loss: 0.0022 - val_mae: 0.0364\n",
      "Epoch 1094/2000\n",
      "5/5 [==============================] - 1s 142ms/step - loss: 4.7592e-04 - mae: 0.0172 - val_loss: 0.0023 - val_mae: 0.0370\n",
      "Epoch 1095/2000\n",
      "5/5 [==============================] - 1s 142ms/step - loss: 4.8505e-04 - mae: 0.0175 - val_loss: 0.0022 - val_mae: 0.0368\n",
      "Epoch 1096/2000\n",
      "5/5 [==============================] - 1s 137ms/step - loss: 4.5301e-04 - mae: 0.0169 - val_loss: 0.0022 - val_mae: 0.0360\n",
      "Epoch 1097/2000\n",
      "5/5 [==============================] - 1s 147ms/step - loss: 4.2267e-04 - mae: 0.0163 - val_loss: 0.0021 - val_mae: 0.0358\n",
      "Epoch 1098/2000\n",
      "5/5 [==============================] - 1s 153ms/step - loss: 4.3911e-04 - mae: 0.0167 - val_loss: 0.0022 - val_mae: 0.0363\n",
      "Epoch 1099/2000\n",
      "5/5 [==============================] - 1s 142ms/step - loss: 3.9352e-04 - mae: 0.0157 - val_loss: 0.0021 - val_mae: 0.0355\n",
      "Epoch 1100/2000\n",
      "5/5 [==============================] - ETA: 0s - loss: 3.6259e-04 - mae: 0.0151INFO:tensorflow:Assets written to: C:\\Users\\PARK\\Documents\\LAB\\RNN vs LSTM\\FInal Example\\wandb\\run-20221015_190827-1kgjbxck\\files\\model-best\\assets\n"
     ]
    },
    {
     "name": "stderr",
     "output_type": "stream",
     "text": [
      "\u001b[34m\u001b[1mwandb\u001b[0m: Adding directory to artifact (C:\\Users\\PARK\\Documents\\LAB\\RNN vs LSTM\\FInal Example\\wandb\\run-20221015_190827-1kgjbxck\\files\\model-best)... Done. 0.0s\n"
     ]
    },
    {
     "name": "stdout",
     "output_type": "stream",
     "text": [
      "5/5 [==============================] - 2s 463ms/step - loss: 3.6259e-04 - mae: 0.0151 - val_loss: 0.0021 - val_mae: 0.0350\n",
      "Epoch 1101/2000\n",
      "5/5 [==============================] - ETA: 0s - loss: 3.8145e-04 - mae: 0.0154INFO:tensorflow:Assets written to: C:\\Users\\PARK\\Documents\\LAB\\RNN vs LSTM\\FInal Example\\wandb\\run-20221015_190827-1kgjbxck\\files\\model-best\\assets\n"
     ]
    },
    {
     "name": "stderr",
     "output_type": "stream",
     "text": [
      "\u001b[34m\u001b[1mwandb\u001b[0m: Adding directory to artifact (C:\\Users\\PARK\\Documents\\LAB\\RNN vs LSTM\\FInal Example\\wandb\\run-20221015_190827-1kgjbxck\\files\\model-best)... Done. 0.0s\n"
     ]
    },
    {
     "name": "stdout",
     "output_type": "stream",
     "text": [
      "5/5 [==============================] - 2s 522ms/step - loss: 3.8145e-04 - mae: 0.0154 - val_loss: 0.0021 - val_mae: 0.0347\n",
      "Epoch 1102/2000\n",
      "5/5 [==============================] - 1s 160ms/step - loss: 3.6728e-04 - mae: 0.0152 - val_loss: 0.0021 - val_mae: 0.0352\n",
      "Epoch 1103/2000\n",
      "5/5 [==============================] - 1s 157ms/step - loss: 4.2824e-04 - mae: 0.0164 - val_loss: 0.0021 - val_mae: 0.0354\n",
      "Epoch 1104/2000\n",
      "5/5 [==============================] - 1s 155ms/step - loss: 4.0642e-04 - mae: 0.0159 - val_loss: 0.0022 - val_mae: 0.0356\n",
      "Epoch 1105/2000\n",
      "5/5 [==============================] - 1s 143ms/step - loss: 4.6130e-04 - mae: 0.0171 - val_loss: 0.0023 - val_mae: 0.0364\n",
      "Epoch 1106/2000\n",
      "5/5 [==============================] - 1s 138ms/step - loss: 4.2306e-04 - mae: 0.0164 - val_loss: 0.0021 - val_mae: 0.0348\n",
      "Epoch 1107/2000\n",
      "5/5 [==============================] - ETA: 0s - loss: 4.1164e-04 - mae: 0.0160INFO:tensorflow:Assets written to: C:\\Users\\PARK\\Documents\\LAB\\RNN vs LSTM\\FInal Example\\wandb\\run-20221015_190827-1kgjbxck\\files\\model-best\\assets\n"
     ]
    },
    {
     "name": "stderr",
     "output_type": "stream",
     "text": [
      "\u001b[34m\u001b[1mwandb\u001b[0m: Adding directory to artifact (C:\\Users\\PARK\\Documents\\LAB\\RNN vs LSTM\\FInal Example\\wandb\\run-20221015_190827-1kgjbxck\\files\\model-best)... Done. 0.0s\n"
     ]
    },
    {
     "name": "stdout",
     "output_type": "stream",
     "text": [
      "5/5 [==============================] - 2s 500ms/step - loss: 4.1164e-04 - mae: 0.0160 - val_loss: 0.0021 - val_mae: 0.0349\n",
      "Epoch 1108/2000\n",
      "5/5 [==============================] - 1s 155ms/step - loss: 4.0149e-04 - mae: 0.0158 - val_loss: 0.0022 - val_mae: 0.0365\n",
      "Epoch 1109/2000\n",
      "5/5 [==============================] - 1s 157ms/step - loss: 4.4719e-04 - mae: 0.0167 - val_loss: 0.0022 - val_mae: 0.0355\n",
      "Epoch 1110/2000\n",
      "5/5 [==============================] - 1s 150ms/step - loss: 4.7655e-04 - mae: 0.0173 - val_loss: 0.0022 - val_mae: 0.0358\n",
      "Epoch 1111/2000\n",
      "5/5 [==============================] - ETA: 0s - loss: 4.3395e-04 - mae: 0.0164INFO:tensorflow:Assets written to: C:\\Users\\PARK\\Documents\\LAB\\RNN vs LSTM\\FInal Example\\wandb\\run-20221015_190827-1kgjbxck\\files\\model-best\\assets\n"
     ]
    },
    {
     "name": "stderr",
     "output_type": "stream",
     "text": [
      "\u001b[34m\u001b[1mwandb\u001b[0m: Adding directory to artifact (C:\\Users\\PARK\\Documents\\LAB\\RNN vs LSTM\\FInal Example\\wandb\\run-20221015_190827-1kgjbxck\\files\\model-best)... Done. 0.0s\n"
     ]
    },
    {
     "name": "stdout",
     "output_type": "stream",
     "text": [
      "5/5 [==============================] - 2s 483ms/step - loss: 4.3395e-04 - mae: 0.0164 - val_loss: 0.0021 - val_mae: 0.0346\n",
      "Epoch 1112/2000\n",
      "5/5 [==============================] - ETA: 0s - loss: 3.8525e-04 - mae: 0.0154INFO:tensorflow:Assets written to: C:\\Users\\PARK\\Documents\\LAB\\RNN vs LSTM\\FInal Example\\wandb\\run-20221015_190827-1kgjbxck\\files\\model-best\\assets\n"
     ]
    },
    {
     "name": "stderr",
     "output_type": "stream",
     "text": [
      "\u001b[34m\u001b[1mwandb\u001b[0m: Adding directory to artifact (C:\\Users\\PARK\\Documents\\LAB\\RNN vs LSTM\\FInal Example\\wandb\\run-20221015_190827-1kgjbxck\\files\\model-best)... Done. 0.0s\n"
     ]
    },
    {
     "name": "stdout",
     "output_type": "stream",
     "text": [
      "5/5 [==============================] - 2s 528ms/step - loss: 3.8525e-04 - mae: 0.0154 - val_loss: 0.0020 - val_mae: 0.0346\n",
      "Epoch 1113/2000\n",
      "5/5 [==============================] - 1s 171ms/step - loss: 3.8657e-04 - mae: 0.0155 - val_loss: 0.0021 - val_mae: 0.0352\n",
      "Epoch 1114/2000\n",
      "5/5 [==============================] - 1s 151ms/step - loss: 3.8582e-04 - mae: 0.0155 - val_loss: 0.0021 - val_mae: 0.0350\n",
      "Epoch 1115/2000\n",
      "5/5 [==============================] - ETA: 0s - loss: 3.6440e-04 - mae: 0.0149INFO:tensorflow:Assets written to: C:\\Users\\PARK\\Documents\\LAB\\RNN vs LSTM\\FInal Example\\wandb\\run-20221015_190827-1kgjbxck\\files\\model-best\\assets\n"
     ]
    },
    {
     "name": "stderr",
     "output_type": "stream",
     "text": [
      "\u001b[34m\u001b[1mwandb\u001b[0m: Adding directory to artifact (C:\\Users\\PARK\\Documents\\LAB\\RNN vs LSTM\\FInal Example\\wandb\\run-20221015_190827-1kgjbxck\\files\\model-best)... Done. 0.0s\n"
     ]
    },
    {
     "name": "stdout",
     "output_type": "stream",
     "text": [
      "5/5 [==============================] - 2s 480ms/step - loss: 3.6440e-04 - mae: 0.0149 - val_loss: 0.0020 - val_mae: 0.0344\n",
      "Epoch 1116/2000\n",
      "5/5 [==============================] - ETA: 0s - loss: 3.3260e-04 - mae: 0.0144INFO:tensorflow:Assets written to: C:\\Users\\PARK\\Documents\\LAB\\RNN vs LSTM\\FInal Example\\wandb\\run-20221015_190827-1kgjbxck\\files\\model-best\\assets\n"
     ]
    },
    {
     "name": "stderr",
     "output_type": "stream",
     "text": [
      "\u001b[34m\u001b[1mwandb\u001b[0m: Adding directory to artifact (C:\\Users\\PARK\\Documents\\LAB\\RNN vs LSTM\\FInal Example\\wandb\\run-20221015_190827-1kgjbxck\\files\\model-best)... Done. 0.0s\n"
     ]
    },
    {
     "name": "stdout",
     "output_type": "stream",
     "text": [
      "5/5 [==============================] - 2s 497ms/step - loss: 3.3260e-04 - mae: 0.0144 - val_loss: 0.0020 - val_mae: 0.0345\n",
      "Epoch 1117/2000\n",
      "5/5 [==============================] - 1s 176ms/step - loss: 3.6199e-04 - mae: 0.0150 - val_loss: 0.0021 - val_mae: 0.0346\n",
      "Epoch 1118/2000\n",
      "5/5 [==============================] - 1s 150ms/step - loss: 3.5227e-04 - mae: 0.0148 - val_loss: 0.0021 - val_mae: 0.0349\n",
      "Epoch 1119/2000\n",
      "5/5 [==============================] - 1s 147ms/step - loss: 3.7889e-04 - mae: 0.0153 - val_loss: 0.0020 - val_mae: 0.0343\n",
      "Epoch 1120/2000\n",
      "5/5 [==============================] - 1s 150ms/step - loss: 3.8351e-04 - mae: 0.0155 - val_loss: 0.0021 - val_mae: 0.0356\n",
      "Epoch 1121/2000\n",
      "5/5 [==============================] - 1s 145ms/step - loss: 3.8925e-04 - mae: 0.0155 - val_loss: 0.0020 - val_mae: 0.0343\n",
      "Epoch 1122/2000\n",
      "5/5 [==============================] - 1s 141ms/step - loss: 3.8223e-04 - mae: 0.0155 - val_loss: 0.0021 - val_mae: 0.0353\n",
      "Epoch 1123/2000\n",
      "5/5 [==============================] - 1s 140ms/step - loss: 4.8898e-04 - mae: 0.0176 - val_loss: 0.0022 - val_mae: 0.0355\n",
      "Epoch 1124/2000\n",
      "5/5 [==============================] - 1s 146ms/step - loss: 5.8567e-04 - mae: 0.0192 - val_loss: 0.0022 - val_mae: 0.0371\n",
      "Epoch 1125/2000\n",
      "5/5 [==============================] - 1s 150ms/step - loss: 5.1347e-04 - mae: 0.0180 - val_loss: 0.0022 - val_mae: 0.0354\n",
      "Epoch 1126/2000\n",
      "5/5 [==============================] - 1s 150ms/step - loss: 5.4613e-04 - mae: 0.0186 - val_loss: 0.0020 - val_mae: 0.0347\n",
      "Epoch 1127/2000\n",
      "5/5 [==============================] - 1s 144ms/step - loss: 4.8700e-04 - mae: 0.0177 - val_loss: 0.0021 - val_mae: 0.0351\n",
      "Epoch 1128/2000\n",
      "5/5 [==============================] - 1s 135ms/step - loss: 4.9885e-04 - mae: 0.0177 - val_loss: 0.0021 - val_mae: 0.0356\n",
      "Epoch 1129/2000\n",
      "5/5 [==============================] - 1s 137ms/step - loss: 4.2109e-04 - mae: 0.0163 - val_loss: 0.0022 - val_mae: 0.0360\n",
      "Epoch 1130/2000\n",
      "5/5 [==============================] - 1s 142ms/step - loss: 4.4304e-04 - mae: 0.0167 - val_loss: 0.0020 - val_mae: 0.0348\n",
      "Epoch 1131/2000\n",
      "5/5 [==============================] - 1s 141ms/step - loss: 3.9224e-04 - mae: 0.0156 - val_loss: 0.0021 - val_mae: 0.0344\n",
      "Epoch 1132/2000\n",
      "5/5 [==============================] - 1s 137ms/step - loss: 3.6333e-04 - mae: 0.0152 - val_loss: 0.0021 - val_mae: 0.0349\n",
      "Epoch 1133/2000\n",
      "5/5 [==============================] - 1s 141ms/step - loss: 3.5104e-04 - mae: 0.0149 - val_loss: 0.0020 - val_mae: 0.0342\n",
      "Epoch 1134/2000\n",
      "5/5 [==============================] - 1s 145ms/step - loss: 3.5537e-04 - mae: 0.0149 - val_loss: 0.0020 - val_mae: 0.0346\n",
      "Epoch 1135/2000\n",
      "5/5 [==============================] - 1s 148ms/step - loss: 4.0027e-04 - mae: 0.0159 - val_loss: 0.0023 - val_mae: 0.0365\n",
      "Epoch 1136/2000\n",
      "5/5 [==============================] - 1s 149ms/step - loss: 5.8050e-04 - mae: 0.0191 - val_loss: 0.0023 - val_mae: 0.0375\n",
      "Epoch 1137/2000\n",
      "5/5 [==============================] - 1s 141ms/step - loss: 6.2217e-04 - mae: 0.0198 - val_loss: 0.0022 - val_mae: 0.0362\n",
      "Epoch 1138/2000\n",
      "5/5 [==============================] - 1s 136ms/step - loss: 6.5350e-04 - mae: 0.0202 - val_loss: 0.0021 - val_mae: 0.0355\n",
      "Epoch 1139/2000\n",
      "5/5 [==============================] - 1s 139ms/step - loss: 5.3640e-04 - mae: 0.0183 - val_loss: 0.0022 - val_mae: 0.0357\n",
      "Epoch 1140/2000\n",
      "5/5 [==============================] - 1s 145ms/step - loss: 6.0219e-04 - mae: 0.0195 - val_loss: 0.0023 - val_mae: 0.0371\n",
      "Epoch 1141/2000\n",
      "5/5 [==============================] - 1s 149ms/step - loss: 6.3389e-04 - mae: 0.0201 - val_loss: 0.0022 - val_mae: 0.0361\n",
      "Epoch 1142/2000\n",
      "5/5 [==============================] - 1s 155ms/step - loss: 5.6435e-04 - mae: 0.0188 - val_loss: 0.0021 - val_mae: 0.0355\n",
      "Epoch 1143/2000\n",
      "5/5 [==============================] - 1s 146ms/step - loss: 6.1031e-04 - mae: 0.0196 - val_loss: 0.0022 - val_mae: 0.0359\n",
      "Epoch 1144/2000\n",
      "5/5 [==============================] - 1s 140ms/step - loss: 5.6511e-04 - mae: 0.0188 - val_loss: 0.0021 - val_mae: 0.0347\n",
      "Epoch 1145/2000\n",
      "5/5 [==============================] - 1s 136ms/step - loss: 6.4464e-04 - mae: 0.0201 - val_loss: 0.0021 - val_mae: 0.0358\n",
      "Epoch 1146/2000\n",
      "5/5 [==============================] - 1s 145ms/step - loss: 6.7629e-04 - mae: 0.0207 - val_loss: 0.0023 - val_mae: 0.0375\n",
      "Epoch 1147/2000\n",
      "5/5 [==============================] - 1s 145ms/step - loss: 7.4684e-04 - mae: 0.0220 - val_loss: 0.0025 - val_mae: 0.0392\n",
      "Epoch 1148/2000\n",
      "5/5 [==============================] - 1s 132ms/step - loss: 8.4410e-04 - mae: 0.0232 - val_loss: 0.0027 - val_mae: 0.0397\n",
      "Epoch 1149/2000\n",
      "5/5 [==============================] - 1s 135ms/step - loss: 0.0010 - mae: 0.0258 - val_loss: 0.0027 - val_mae: 0.0404\n",
      "Epoch 1150/2000\n",
      "5/5 [==============================] - 1s 141ms/step - loss: 9.0026e-04 - mae: 0.0235 - val_loss: 0.0024 - val_mae: 0.0380\n",
      "Epoch 1151/2000\n",
      "5/5 [==============================] - 1s 149ms/step - loss: 8.1331e-04 - mae: 0.0227 - val_loss: 0.0023 - val_mae: 0.0365\n",
      "Epoch 1152/2000\n",
      "5/5 [==============================] - 1s 141ms/step - loss: 5.9375e-04 - mae: 0.0194 - val_loss: 0.0023 - val_mae: 0.0374\n",
      "Epoch 1153/2000\n",
      "5/5 [==============================] - 1s 134ms/step - loss: 5.5969e-04 - mae: 0.0188 - val_loss: 0.0022 - val_mae: 0.0359\n",
      "Epoch 1154/2000\n",
      "5/5 [==============================] - 1s 136ms/step - loss: 5.1272e-04 - mae: 0.0178 - val_loss: 0.0022 - val_mae: 0.0355\n",
      "Epoch 1155/2000\n",
      "5/5 [==============================] - 1s 140ms/step - loss: 5.3129e-04 - mae: 0.0184 - val_loss: 0.0023 - val_mae: 0.0366\n",
      "Epoch 1156/2000\n",
      "5/5 [==============================] - 1s 140ms/step - loss: 5.4968e-04 - mae: 0.0185 - val_loss: 0.0022 - val_mae: 0.0354\n",
      "Epoch 1157/2000\n",
      "5/5 [==============================] - 1s 134ms/step - loss: 5.0741e-04 - mae: 0.0180 - val_loss: 0.0021 - val_mae: 0.0353\n",
      "Epoch 1158/2000\n",
      "5/5 [==============================] - 1s 134ms/step - loss: 5.1697e-04 - mae: 0.0180 - val_loss: 0.0022 - val_mae: 0.0366\n",
      "Epoch 1159/2000\n",
      "5/5 [==============================] - 1s 141ms/step - loss: 5.1777e-04 - mae: 0.0182 - val_loss: 0.0022 - val_mae: 0.0361\n",
      "Epoch 1160/2000\n",
      "5/5 [==============================] - 1s 140ms/step - loss: 4.7181e-04 - mae: 0.0173 - val_loss: 0.0021 - val_mae: 0.0349\n",
      "Epoch 1161/2000\n",
      "5/5 [==============================] - 1s 135ms/step - loss: 4.6711e-04 - mae: 0.0172 - val_loss: 0.0022 - val_mae: 0.0367\n",
      "Epoch 1162/2000\n",
      "5/5 [==============================] - 1s 135ms/step - loss: 4.6118e-04 - mae: 0.0170 - val_loss: 0.0021 - val_mae: 0.0351\n",
      "Epoch 1163/2000\n",
      "5/5 [==============================] - 1s 140ms/step - loss: 4.1617e-04 - mae: 0.0162 - val_loss: 0.0021 - val_mae: 0.0354\n",
      "Epoch 1164/2000\n",
      "5/5 [==============================] - 1s 140ms/step - loss: 3.8090e-04 - mae: 0.0155 - val_loss: 0.0021 - val_mae: 0.0353\n",
      "Epoch 1165/2000\n",
      "5/5 [==============================] - 1s 134ms/step - loss: 3.8371e-04 - mae: 0.0154 - val_loss: 0.0021 - val_mae: 0.0352\n",
      "Epoch 1166/2000\n",
      "5/5 [==============================] - 1s 139ms/step - loss: 3.8865e-04 - mae: 0.0155 - val_loss: 0.0020 - val_mae: 0.0350\n",
      "Epoch 1167/2000\n",
      "5/5 [==============================] - 1s 146ms/step - loss: 3.6602e-04 - mae: 0.0153 - val_loss: 0.0022 - val_mae: 0.0353\n",
      "Epoch 1168/2000\n",
      "5/5 [==============================] - 1s 149ms/step - loss: 4.5097e-04 - mae: 0.0169 - val_loss: 0.0021 - val_mae: 0.0355\n",
      "Epoch 1169/2000\n",
      "5/5 [==============================] - ETA: 0s - loss: 4.0166e-04 - mae: 0.0159INFO:tensorflow:Assets written to: C:\\Users\\PARK\\Documents\\LAB\\RNN vs LSTM\\FInal Example\\wandb\\run-20221015_190827-1kgjbxck\\files\\model-best\\assets\n"
     ]
    },
    {
     "name": "stderr",
     "output_type": "stream",
     "text": [
      "\u001b[34m\u001b[1mwandb\u001b[0m: Adding directory to artifact (C:\\Users\\PARK\\Documents\\LAB\\RNN vs LSTM\\FInal Example\\wandb\\run-20221015_190827-1kgjbxck\\files\\model-best)... Done. 0.0s\n"
     ]
    },
    {
     "name": "stdout",
     "output_type": "stream",
     "text": [
      "5/5 [==============================] - 2s 509ms/step - loss: 4.0166e-04 - mae: 0.0159 - val_loss: 0.0019 - val_mae: 0.0339\n",
      "Epoch 1170/2000\n",
      "5/5 [==============================] - 1s 166ms/step - loss: 3.8065e-04 - mae: 0.0155 - val_loss: 0.0020 - val_mae: 0.0341\n",
      "Epoch 1171/2000\n",
      "5/5 [==============================] - 1s 150ms/step - loss: 3.8072e-04 - mae: 0.0155 - val_loss: 0.0020 - val_mae: 0.0346\n",
      "Epoch 1172/2000\n",
      "5/5 [==============================] - 1s 141ms/step - loss: 3.9401e-04 - mae: 0.0158 - val_loss: 0.0021 - val_mae: 0.0360\n",
      "Epoch 1173/2000\n",
      "5/5 [==============================] - 1s 137ms/step - loss: 4.7076e-04 - mae: 0.0173 - val_loss: 0.0021 - val_mae: 0.0355\n",
      "Epoch 1174/2000\n",
      "5/5 [==============================] - 1s 135ms/step - loss: 4.3881e-04 - mae: 0.0167 - val_loss: 0.0020 - val_mae: 0.0342\n",
      "Epoch 1175/2000\n",
      "5/5 [==============================] - 1s 147ms/step - loss: 3.8001e-04 - mae: 0.0154 - val_loss: 0.0020 - val_mae: 0.0338\n",
      "Epoch 1176/2000\n",
      "5/5 [==============================] - 1s 150ms/step - loss: 3.9816e-04 - mae: 0.0158 - val_loss: 0.0020 - val_mae: 0.0346\n",
      "Epoch 1177/2000\n",
      "5/5 [==============================] - 1s 141ms/step - loss: 3.7374e-04 - mae: 0.0154 - val_loss: 0.0022 - val_mae: 0.0359\n",
      "Epoch 1178/2000\n",
      "5/5 [==============================] - 1s 136ms/step - loss: 5.8653e-04 - mae: 0.0193 - val_loss: 0.0024 - val_mae: 0.0380\n",
      "Epoch 1179/2000\n",
      "5/5 [==============================] - 1s 137ms/step - loss: 5.9045e-04 - mae: 0.0195 - val_loss: 0.0029 - val_mae: 0.0427\n",
      "Epoch 1180/2000\n",
      "5/5 [==============================] - 1s 145ms/step - loss: 8.7081e-04 - mae: 0.0236 - val_loss: 0.0031 - val_mae: 0.0443\n",
      "Epoch 1181/2000\n",
      "5/5 [==============================] - 1s 155ms/step - loss: 0.0012 - mae: 0.0273 - val_loss: 0.0027 - val_mae: 0.0411\n",
      "Epoch 1182/2000\n",
      "5/5 [==============================] - 1s 147ms/step - loss: 0.0011 - mae: 0.0267 - val_loss: 0.0032 - val_mae: 0.0436\n",
      "Epoch 1183/2000\n",
      "5/5 [==============================] - 1s 143ms/step - loss: 0.0014 - mae: 0.0299 - val_loss: 0.0030 - val_mae: 0.0430\n",
      "Epoch 1184/2000\n",
      "5/5 [==============================] - 1s 140ms/step - loss: 0.0012 - mae: 0.0280 - val_loss: 0.0027 - val_mae: 0.0407\n",
      "Epoch 1185/2000\n",
      "5/5 [==============================] - 1s 137ms/step - loss: 0.0014 - mae: 0.0297 - val_loss: 0.0036 - val_mae: 0.0468\n",
      "Epoch 1186/2000\n",
      "5/5 [==============================] - 1s 144ms/step - loss: 0.0015 - mae: 0.0309 - val_loss: 0.0033 - val_mae: 0.0456\n",
      "Epoch 1187/2000\n",
      "5/5 [==============================] - 1s 155ms/step - loss: 0.0016 - mae: 0.0323 - val_loss: 0.0033 - val_mae: 0.0451\n",
      "Epoch 1188/2000\n",
      "5/5 [==============================] - 1s 144ms/step - loss: 0.0016 - mae: 0.0322 - val_loss: 0.0029 - val_mae: 0.0425\n",
      "Epoch 1189/2000\n",
      "5/5 [==============================] - 1s 135ms/step - loss: 0.0015 - mae: 0.0308 - val_loss: 0.0035 - val_mae: 0.0460\n",
      "Epoch 1190/2000\n",
      "5/5 [==============================] - 1s 136ms/step - loss: 0.0014 - mae: 0.0298 - val_loss: 0.0031 - val_mae: 0.0436\n",
      "Epoch 1191/2000\n",
      "5/5 [==============================] - 1s 151ms/step - loss: 0.0013 - mae: 0.0289 - val_loss: 0.0025 - val_mae: 0.0395\n",
      "Epoch 1192/2000\n",
      "5/5 [==============================] - 1s 147ms/step - loss: 0.0012 - mae: 0.0272 - val_loss: 0.0031 - val_mae: 0.0436\n",
      "Epoch 1193/2000\n",
      "5/5 [==============================] - 1s 142ms/step - loss: 0.0012 - mae: 0.0275 - val_loss: 0.0024 - val_mae: 0.0386\n",
      "Epoch 1194/2000\n",
      "5/5 [==============================] - 1s 135ms/step - loss: 8.6120e-04 - mae: 0.0234 - val_loss: 0.0030 - val_mae: 0.0432\n",
      "Epoch 1195/2000\n",
      "5/5 [==============================] - 1s 137ms/step - loss: 9.6374e-04 - mae: 0.0248 - val_loss: 0.0025 - val_mae: 0.0381\n",
      "Epoch 1196/2000\n",
      "5/5 [==============================] - 1s 148ms/step - loss: 8.1406e-04 - mae: 0.0228 - val_loss: 0.0022 - val_mae: 0.0365\n",
      "Epoch 1197/2000\n",
      "5/5 [==============================] - 1s 147ms/step - loss: 8.2033e-04 - mae: 0.0227 - val_loss: 0.0025 - val_mae: 0.0393\n",
      "Epoch 1198/2000\n",
      "5/5 [==============================] - 1s 146ms/step - loss: 6.9772e-04 - mae: 0.0212 - val_loss: 0.0022 - val_mae: 0.0364\n",
      "Epoch 1199/2000\n",
      "5/5 [==============================] - 1s 136ms/step - loss: 5.6286e-04 - mae: 0.0191 - val_loss: 0.0021 - val_mae: 0.0348\n",
      "Epoch 1200/2000\n",
      "5/5 [==============================] - 1s 135ms/step - loss: 5.0968e-04 - mae: 0.0178 - val_loss: 0.0022 - val_mae: 0.0354\n",
      "Epoch 1201/2000\n",
      "5/5 [==============================] - 1s 153ms/step - loss: 4.9052e-04 - mae: 0.0174 - val_loss: 0.0021 - val_mae: 0.0351\n",
      "Epoch 1202/2000\n",
      "5/5 [==============================] - 1s 152ms/step - loss: 5.1222e-04 - mae: 0.0179 - val_loss: 0.0022 - val_mae: 0.0364\n",
      "Epoch 1203/2000\n",
      "5/5 [==============================] - 1s 146ms/step - loss: 4.2351e-04 - mae: 0.0163 - val_loss: 0.0020 - val_mae: 0.0341\n",
      "Epoch 1204/2000\n",
      "5/5 [==============================] - 1s 137ms/step - loss: 3.9544e-04 - mae: 0.0158 - val_loss: 0.0020 - val_mae: 0.0344\n",
      "Epoch 1205/2000\n",
      "5/5 [==============================] - 1s 140ms/step - loss: 3.4476e-04 - mae: 0.0148 - val_loss: 0.0020 - val_mae: 0.0339\n",
      "Epoch 1206/2000\n",
      "5/5 [==============================] - 1s 142ms/step - loss: 3.2287e-04 - mae: 0.0142 - val_loss: 0.0020 - val_mae: 0.0340\n",
      "Epoch 1207/2000\n",
      "5/5 [==============================] - 1s 155ms/step - loss: 3.2549e-04 - mae: 0.0143 - val_loss: 0.0020 - val_mae: 0.0336\n",
      "Epoch 1208/2000\n",
      "5/5 [==============================] - 1s 148ms/step - loss: 3.1930e-04 - mae: 0.0141 - val_loss: 0.0020 - val_mae: 0.0340\n",
      "Epoch 1209/2000\n",
      "5/5 [==============================] - 1s 140ms/step - loss: 3.3590e-04 - mae: 0.0145 - val_loss: 0.0020 - val_mae: 0.0345\n",
      "Epoch 1210/2000\n",
      "4/5 [=======================>......] - ETA: 0s - loss: 3.3835e-04 - mae: 0.0145INFO:tensorflow:Assets written to: C:\\Users\\PARK\\Documents\\LAB\\RNN vs LSTM\\FInal Example\\wandb\\run-20221015_190827-1kgjbxck\\files\\model-best\\assets\n"
     ]
    },
    {
     "name": "stderr",
     "output_type": "stream",
     "text": [
      "\u001b[34m\u001b[1mwandb\u001b[0m: Adding directory to artifact (C:\\Users\\PARK\\Documents\\LAB\\RNN vs LSTM\\FInal Example\\wandb\\run-20221015_190827-1kgjbxck\\files\\model-best)... Done. 0.0s\n"
     ]
    },
    {
     "name": "stdout",
     "output_type": "stream",
     "text": [
      "5/5 [==============================] - 2s 463ms/step - loss: 3.3407e-04 - mae: 0.0144 - val_loss: 0.0019 - val_mae: 0.0328\n",
      "Epoch 1211/2000\n",
      "5/5 [==============================] - 1s 165ms/step - loss: 2.9878e-04 - mae: 0.0135 - val_loss: 0.0020 - val_mae: 0.0338\n",
      "Epoch 1212/2000\n",
      "5/5 [==============================] - 1s 152ms/step - loss: 3.2706e-04 - mae: 0.0143 - val_loss: 0.0020 - val_mae: 0.0348\n",
      "Epoch 1213/2000\n",
      "5/5 [==============================] - 1s 160ms/step - loss: 4.3202e-04 - mae: 0.0167 - val_loss: 0.0020 - val_mae: 0.0339\n",
      "Epoch 1214/2000\n",
      "5/5 [==============================] - 1s 146ms/step - loss: 3.9124e-04 - mae: 0.0157 - val_loss: 0.0021 - val_mae: 0.0349\n",
      "Epoch 1215/2000\n",
      "5/5 [==============================] - 1s 139ms/step - loss: 3.7421e-04 - mae: 0.0154 - val_loss: 0.0021 - val_mae: 0.0356\n",
      "Epoch 1216/2000\n",
      "5/5 [==============================] - 1s 134ms/step - loss: 3.7186e-04 - mae: 0.0153 - val_loss: 0.0020 - val_mae: 0.0348\n",
      "Epoch 1217/2000\n",
      "5/5 [==============================] - 1s 152ms/step - loss: 3.8312e-04 - mae: 0.0153 - val_loss: 0.0020 - val_mae: 0.0337\n",
      "Epoch 1218/2000\n",
      "5/5 [==============================] - ETA: 0s - loss: 3.3259e-04 - mae: 0.0145INFO:tensorflow:Assets written to: C:\\Users\\PARK\\Documents\\LAB\\RNN vs LSTM\\FInal Example\\wandb\\run-20221015_190827-1kgjbxck\\files\\model-best\\assets\n"
     ]
    },
    {
     "name": "stderr",
     "output_type": "stream",
     "text": [
      "\u001b[34m\u001b[1mwandb\u001b[0m: Adding directory to artifact (C:\\Users\\PARK\\Documents\\LAB\\RNN vs LSTM\\FInal Example\\wandb\\run-20221015_190827-1kgjbxck\\files\\model-best)... Done. 0.0s\n"
     ]
    },
    {
     "name": "stdout",
     "output_type": "stream",
     "text": [
      "5/5 [==============================] - 2s 498ms/step - loss: 3.3259e-04 - mae: 0.0145 - val_loss: 0.0018 - val_mae: 0.0322\n",
      "Epoch 1219/2000\n",
      "5/5 [==============================] - 1s 167ms/step - loss: 3.0085e-04 - mae: 0.0138 - val_loss: 0.0020 - val_mae: 0.0337\n",
      "Epoch 1220/2000\n",
      "5/5 [==============================] - 1s 149ms/step - loss: 3.0269e-04 - mae: 0.0138 - val_loss: 0.0019 - val_mae: 0.0335\n",
      "Epoch 1221/2000\n",
      "5/5 [==============================] - 1s 143ms/step - loss: 3.6228e-04 - mae: 0.0151 - val_loss: 0.0019 - val_mae: 0.0332\n",
      "Epoch 1222/2000\n",
      "5/5 [==============================] - 1s 138ms/step - loss: 3.2071e-04 - mae: 0.0141 - val_loss: 0.0020 - val_mae: 0.0341\n",
      "Epoch 1223/2000\n",
      "5/5 [==============================] - 1s 137ms/step - loss: 3.3257e-04 - mae: 0.0144 - val_loss: 0.0019 - val_mae: 0.0332\n",
      "Epoch 1224/2000\n",
      "5/5 [==============================] - 1s 147ms/step - loss: 3.2009e-04 - mae: 0.0142 - val_loss: 0.0020 - val_mae: 0.0337\n",
      "Epoch 1225/2000\n",
      "5/5 [==============================] - 1s 155ms/step - loss: 2.9320e-04 - mae: 0.0135 - val_loss: 0.0018 - val_mae: 0.0328\n",
      "Epoch 1226/2000\n",
      "5/5 [==============================] - 1s 142ms/step - loss: 2.7648e-04 - mae: 0.0133 - val_loss: 0.0018 - val_mae: 0.0325\n",
      "Epoch 1227/2000\n",
      "5/5 [==============================] - 1s 140ms/step - loss: 2.9979e-04 - mae: 0.0137 - val_loss: 0.0020 - val_mae: 0.0344\n",
      "Epoch 1228/2000\n",
      "5/5 [==============================] - 1s 148ms/step - loss: 3.1317e-04 - mae: 0.0140 - val_loss: 0.0018 - val_mae: 0.0322\n",
      "Epoch 1229/2000\n",
      "5/5 [==============================] - 1s 155ms/step - loss: 2.9405e-04 - mae: 0.0136 - val_loss: 0.0019 - val_mae: 0.0332\n",
      "Epoch 1230/2000\n",
      "5/5 [==============================] - 1s 165ms/step - loss: 2.9862e-04 - mae: 0.0138 - val_loss: 0.0019 - val_mae: 0.0340\n",
      "Epoch 1231/2000\n",
      "5/5 [==============================] - 1s 141ms/step - loss: 2.8263e-04 - mae: 0.0133 - val_loss: 0.0019 - val_mae: 0.0337\n",
      "Epoch 1232/2000\n",
      "5/5 [==============================] - 1s 142ms/step - loss: 3.0012e-04 - mae: 0.0136 - val_loss: 0.0019 - val_mae: 0.0335\n",
      "Epoch 1233/2000\n",
      "5/5 [==============================] - 1s 139ms/step - loss: 2.9052e-04 - mae: 0.0133 - val_loss: 0.0019 - val_mae: 0.0330\n",
      "Epoch 1234/2000\n",
      "5/5 [==============================] - 1s 146ms/step - loss: 2.9341e-04 - mae: 0.0135 - val_loss: 0.0019 - val_mae: 0.0338\n",
      "Epoch 1235/2000\n",
      "5/5 [==============================] - 1s 159ms/step - loss: 2.7948e-04 - mae: 0.0132 - val_loss: 0.0019 - val_mae: 0.0332\n",
      "Epoch 1236/2000\n",
      "5/5 [==============================] - 1s 149ms/step - loss: 2.6840e-04 - mae: 0.0130 - val_loss: 0.0019 - val_mae: 0.0325\n",
      "Epoch 1237/2000\n",
      "5/5 [==============================] - 1s 148ms/step - loss: 2.6400e-04 - mae: 0.0129 - val_loss: 0.0018 - val_mae: 0.0325\n",
      "Epoch 1238/2000\n",
      "5/5 [==============================] - 1s 145ms/step - loss: 2.8646e-04 - mae: 0.0133 - val_loss: 0.0019 - val_mae: 0.0338\n",
      "Epoch 1239/2000\n",
      "5/5 [==============================] - 1s 143ms/step - loss: 3.1575e-04 - mae: 0.0142 - val_loss: 0.0019 - val_mae: 0.0324\n",
      "Epoch 1240/2000\n",
      "5/5 [==============================] - 1s 149ms/step - loss: 2.9253e-04 - mae: 0.0136 - val_loss: 0.0019 - val_mae: 0.0334\n",
      "Epoch 1241/2000\n",
      "5/5 [==============================] - 1s 137ms/step - loss: 3.2347e-04 - mae: 0.0143 - val_loss: 0.0018 - val_mae: 0.0327\n",
      "Epoch 1242/2000\n",
      "5/5 [==============================] - 1s 134ms/step - loss: 3.1741e-04 - mae: 0.0140 - val_loss: 0.0020 - val_mae: 0.0346\n",
      "Epoch 1243/2000\n",
      "5/5 [==============================] - 1s 146ms/step - loss: 4.0455e-04 - mae: 0.0159 - val_loss: 0.0020 - val_mae: 0.0345\n",
      "Epoch 1244/2000\n",
      "5/5 [==============================] - 1s 154ms/step - loss: 3.7763e-04 - mae: 0.0154 - val_loss: 0.0020 - val_mae: 0.0341\n",
      "Epoch 1245/2000\n",
      "5/5 [==============================] - 1s 141ms/step - loss: 3.4283e-04 - mae: 0.0147 - val_loss: 0.0019 - val_mae: 0.0334\n",
      "Epoch 1246/2000\n",
      "5/5 [==============================] - 1s 136ms/step - loss: 3.7006e-04 - mae: 0.0153 - val_loss: 0.0020 - val_mae: 0.0338\n",
      "Epoch 1247/2000\n",
      "5/5 [==============================] - 1s 135ms/step - loss: 3.6352e-04 - mae: 0.0151 - val_loss: 0.0018 - val_mae: 0.0327\n",
      "Epoch 1248/2000\n",
      "5/5 [==============================] - 1s 142ms/step - loss: 3.9139e-04 - mae: 0.0157 - val_loss: 0.0019 - val_mae: 0.0337\n",
      "Epoch 1249/2000\n",
      "5/5 [==============================] - 1s 152ms/step - loss: 4.4627e-04 - mae: 0.0168 - val_loss: 0.0022 - val_mae: 0.0362\n",
      "Epoch 1250/2000\n",
      "5/5 [==============================] - 1s 139ms/step - loss: 6.2060e-04 - mae: 0.0202 - val_loss: 0.0024 - val_mae: 0.0376\n",
      "Epoch 1251/2000\n",
      "5/5 [==============================] - 1s 137ms/step - loss: 6.2104e-04 - mae: 0.0197 - val_loss: 0.0020 - val_mae: 0.0347\n",
      "Epoch 1252/2000\n",
      "5/5 [==============================] - 1s 148ms/step - loss: 5.4474e-04 - mae: 0.0187 - val_loss: 0.0027 - val_mae: 0.0404\n",
      "Epoch 1253/2000\n",
      "5/5 [==============================] - 1s 149ms/step - loss: 9.1290e-04 - mae: 0.0242 - val_loss: 0.0033 - val_mae: 0.0457\n",
      "Epoch 1254/2000\n",
      "5/5 [==============================] - 1s 146ms/step - loss: 0.0012 - mae: 0.0274 - val_loss: 0.0024 - val_mae: 0.0373\n",
      "Epoch 1255/2000\n",
      "5/5 [==============================] - 1s 136ms/step - loss: 0.0010 - mae: 0.0258 - val_loss: 0.0023 - val_mae: 0.0367\n",
      "Epoch 1256/2000\n",
      "5/5 [==============================] - 1s 137ms/step - loss: 9.2521e-04 - mae: 0.0242 - val_loss: 0.0034 - val_mae: 0.0469\n",
      "Epoch 1257/2000\n",
      "5/5 [==============================] - 1s 145ms/step - loss: 0.0011 - mae: 0.0259 - val_loss: 0.0023 - val_mae: 0.0368\n",
      "Epoch 1258/2000\n",
      "5/5 [==============================] - 1s 152ms/step - loss: 0.0012 - mae: 0.0271 - val_loss: 0.0027 - val_mae: 0.0401\n",
      "Epoch 1259/2000\n",
      "5/5 [==============================] - 1s 151ms/step - loss: 0.0012 - mae: 0.0270 - val_loss: 0.0024 - val_mae: 0.0388\n",
      "Epoch 1260/2000\n",
      "5/5 [==============================] - 1s 141ms/step - loss: 9.1463e-04 - mae: 0.0239 - val_loss: 0.0024 - val_mae: 0.0382\n",
      "Epoch 1261/2000\n",
      "5/5 [==============================] - 1s 135ms/step - loss: 8.7355e-04 - mae: 0.0233 - val_loss: 0.0025 - val_mae: 0.0389\n",
      "Epoch 1262/2000\n",
      "5/5 [==============================] - 1s 135ms/step - loss: 8.2363e-04 - mae: 0.0228 - val_loss: 0.0025 - val_mae: 0.0390\n",
      "Epoch 1263/2000\n",
      "5/5 [==============================] - 1s 138ms/step - loss: 8.1897e-04 - mae: 0.0228 - val_loss: 0.0022 - val_mae: 0.0363\n",
      "Epoch 1264/2000\n",
      "5/5 [==============================] - 1s 144ms/step - loss: 6.3502e-04 - mae: 0.0202 - val_loss: 0.0023 - val_mae: 0.0378\n",
      "Epoch 1265/2000\n",
      "5/5 [==============================] - 1s 136ms/step - loss: 6.7494e-04 - mae: 0.0209 - val_loss: 0.0021 - val_mae: 0.0350\n",
      "Epoch 1266/2000\n",
      "5/5 [==============================] - 1s 140ms/step - loss: 5.7175e-04 - mae: 0.0190 - val_loss: 0.0020 - val_mae: 0.0345\n",
      "Epoch 1267/2000\n",
      "5/5 [==============================] - 1s 154ms/step - loss: 4.4727e-04 - mae: 0.0168 - val_loss: 0.0020 - val_mae: 0.0347\n",
      "Epoch 1268/2000\n",
      "5/5 [==============================] - 1s 148ms/step - loss: 3.6916e-04 - mae: 0.0153 - val_loss: 0.0019 - val_mae: 0.0341\n",
      "Epoch 1269/2000\n",
      "5/5 [==============================] - 1s 140ms/step - loss: 3.5634e-04 - mae: 0.0150 - val_loss: 0.0020 - val_mae: 0.0348\n",
      "Epoch 1270/2000\n",
      "5/5 [==============================] - 1s 142ms/step - loss: 3.8291e-04 - mae: 0.0157 - val_loss: 0.0019 - val_mae: 0.0333\n",
      "Epoch 1271/2000\n",
      "5/5 [==============================] - 1s 147ms/step - loss: 3.8861e-04 - mae: 0.0157 - val_loss: 0.0020 - val_mae: 0.0339\n",
      "Epoch 1272/2000\n",
      "5/5 [==============================] - 1s 146ms/step - loss: 4.8317e-04 - mae: 0.0173 - val_loss: 0.0019 - val_mae: 0.0340\n",
      "Epoch 1273/2000\n",
      "5/5 [==============================] - 1s 141ms/step - loss: 4.2049e-04 - mae: 0.0162 - val_loss: 0.0019 - val_mae: 0.0343\n",
      "Epoch 1274/2000\n",
      "5/5 [==============================] - 1s 148ms/step - loss: 3.7284e-04 - mae: 0.0153 - val_loss: 0.0019 - val_mae: 0.0343\n",
      "Epoch 1275/2000\n",
      "5/5 [==============================] - 1s 142ms/step - loss: 3.5282e-04 - mae: 0.0150 - val_loss: 0.0019 - val_mae: 0.0329\n",
      "Epoch 1276/2000\n",
      "5/5 [==============================] - 1s 135ms/step - loss: 3.2004e-04 - mae: 0.0143 - val_loss: 0.0018 - val_mae: 0.0334\n",
      "Epoch 1277/2000\n"
     ]
    },
    {
     "name": "stdout",
     "output_type": "stream",
     "text": [
      "5/5 [==============================] - 1s 136ms/step - loss: 2.9236e-04 - mae: 0.0136 - val_loss: 0.0019 - val_mae: 0.0334\n",
      "Epoch 1278/2000\n",
      "5/5 [==============================] - ETA: 0s - loss: 3.1131e-04 - mae: 0.0141INFO:tensorflow:Assets written to: C:\\Users\\PARK\\Documents\\LAB\\RNN vs LSTM\\FInal Example\\wandb\\run-20221015_190827-1kgjbxck\\files\\model-best\\assets\n"
     ]
    },
    {
     "name": "stderr",
     "output_type": "stream",
     "text": [
      "\u001b[34m\u001b[1mwandb\u001b[0m: Adding directory to artifact (C:\\Users\\PARK\\Documents\\LAB\\RNN vs LSTM\\FInal Example\\wandb\\run-20221015_190827-1kgjbxck\\files\\model-best)... Done. 0.0s\n"
     ]
    },
    {
     "name": "stdout",
     "output_type": "stream",
     "text": [
      "5/5 [==============================] - 2s 501ms/step - loss: 3.1131e-04 - mae: 0.0141 - val_loss: 0.0017 - val_mae: 0.0323\n",
      "Epoch 1279/2000\n",
      "5/5 [==============================] - 1s 162ms/step - loss: 2.8444e-04 - mae: 0.0134 - val_loss: 0.0018 - val_mae: 0.0328\n",
      "Epoch 1280/2000\n",
      "5/5 [==============================] - 1s 156ms/step - loss: 2.8459e-04 - mae: 0.0134 - val_loss: 0.0019 - val_mae: 0.0337\n",
      "Epoch 1281/2000\n",
      "5/5 [==============================] - 1s 150ms/step - loss: 3.3497e-04 - mae: 0.0146 - val_loss: 0.0018 - val_mae: 0.0331\n",
      "Epoch 1282/2000\n",
      "5/5 [==============================] - 1s 150ms/step - loss: 3.3565e-04 - mae: 0.0145 - val_loss: 0.0019 - val_mae: 0.0337\n",
      "Epoch 1283/2000\n",
      "5/5 [==============================] - 1s 144ms/step - loss: 3.7856e-04 - mae: 0.0155 - val_loss: 0.0019 - val_mae: 0.0341\n",
      "Epoch 1284/2000\n",
      "5/5 [==============================] - 1s 139ms/step - loss: 4.0904e-04 - mae: 0.0162 - val_loss: 0.0020 - val_mae: 0.0341\n",
      "Epoch 1285/2000\n",
      "5/5 [==============================] - 1s 137ms/step - loss: 4.2775e-04 - mae: 0.0163 - val_loss: 0.0020 - val_mae: 0.0338\n",
      "Epoch 1286/2000\n",
      "5/5 [==============================] - 1s 151ms/step - loss: 4.3671e-04 - mae: 0.0165 - val_loss: 0.0019 - val_mae: 0.0338\n",
      "Epoch 1287/2000\n",
      "5/5 [==============================] - 1s 149ms/step - loss: 4.7876e-04 - mae: 0.0173 - val_loss: 0.0021 - val_mae: 0.0356\n",
      "Epoch 1288/2000\n",
      "5/5 [==============================] - 1s 141ms/step - loss: 5.4920e-04 - mae: 0.0189 - val_loss: 0.0020 - val_mae: 0.0352\n",
      "Epoch 1289/2000\n",
      "5/5 [==============================] - 1s 135ms/step - loss: 4.3155e-04 - mae: 0.0166 - val_loss: 0.0022 - val_mae: 0.0365\n",
      "Epoch 1290/2000\n",
      "5/5 [==============================] - 1s 139ms/step - loss: 5.0515e-04 - mae: 0.0179 - val_loss: 0.0022 - val_mae: 0.0364\n",
      "Epoch 1291/2000\n",
      "5/5 [==============================] - 1s 141ms/step - loss: 4.3566e-04 - mae: 0.0165 - val_loss: 0.0019 - val_mae: 0.0341\n",
      "Epoch 1292/2000\n",
      "5/5 [==============================] - 1s 141ms/step - loss: 4.1441e-04 - mae: 0.0161 - val_loss: 0.0019 - val_mae: 0.0338\n",
      "Epoch 1293/2000\n",
      "5/5 [==============================] - 1s 135ms/step - loss: 4.3164e-04 - mae: 0.0165 - val_loss: 0.0021 - val_mae: 0.0357\n",
      "Epoch 1294/2000\n",
      "5/5 [==============================] - 1s 134ms/step - loss: 4.3326e-04 - mae: 0.0165 - val_loss: 0.0019 - val_mae: 0.0341\n",
      "Epoch 1295/2000\n",
      "5/5 [==============================] - 1s 142ms/step - loss: 4.1588e-04 - mae: 0.0163 - val_loss: 0.0019 - val_mae: 0.0339\n",
      "Epoch 1296/2000\n",
      "5/5 [==============================] - 1s 140ms/step - loss: 3.1590e-04 - mae: 0.0142 - val_loss: 0.0019 - val_mae: 0.0333\n",
      "Epoch 1297/2000\n",
      "5/5 [==============================] - 1s 139ms/step - loss: 3.1180e-04 - mae: 0.0142 - val_loss: 0.0018 - val_mae: 0.0321\n",
      "Epoch 1298/2000\n",
      "5/5 [==============================] - 1s 135ms/step - loss: 3.0691e-04 - mae: 0.0140 - val_loss: 0.0019 - val_mae: 0.0337\n",
      "Epoch 1299/2000\n",
      "5/5 [==============================] - 1s 146ms/step - loss: 3.4790e-04 - mae: 0.0147 - val_loss: 0.0018 - val_mae: 0.0323\n",
      "Epoch 1300/2000\n",
      "5/5 [==============================] - 1s 155ms/step - loss: 2.8582e-04 - mae: 0.0134 - val_loss: 0.0019 - val_mae: 0.0332\n",
      "Epoch 1301/2000\n",
      "5/5 [==============================] - 1s 143ms/step - loss: 2.7983e-04 - mae: 0.0132 - val_loss: 0.0019 - val_mae: 0.0329\n",
      "Epoch 1302/2000\n",
      "5/5 [==============================] - 1s 134ms/step - loss: 2.8173e-04 - mae: 0.0133 - val_loss: 0.0019 - val_mae: 0.0329\n",
      "Epoch 1303/2000\n",
      "5/5 [==============================] - 1s 135ms/step - loss: 2.7266e-04 - mae: 0.0130 - val_loss: 0.0017 - val_mae: 0.0318\n",
      "Epoch 1304/2000\n",
      "5/5 [==============================] - ETA: 0s - loss: 2.5474e-04 - mae: 0.0127INFO:tensorflow:Assets written to: C:\\Users\\PARK\\Documents\\LAB\\RNN vs LSTM\\FInal Example\\wandb\\run-20221015_190827-1kgjbxck\\files\\model-best\\assets\n"
     ]
    },
    {
     "name": "stderr",
     "output_type": "stream",
     "text": [
      "\u001b[34m\u001b[1mwandb\u001b[0m: Adding directory to artifact (C:\\Users\\PARK\\Documents\\LAB\\RNN vs LSTM\\FInal Example\\wandb\\run-20221015_190827-1kgjbxck\\files\\model-best)... Done. 0.0s\n"
     ]
    },
    {
     "name": "stdout",
     "output_type": "stream",
     "text": [
      "5/5 [==============================] - 2s 470ms/step - loss: 2.5474e-04 - mae: 0.0127 - val_loss: 0.0017 - val_mae: 0.0316\n",
      "Epoch 1305/2000\n",
      "5/5 [==============================] - ETA: 0s - loss: 2.4632e-04 - mae: 0.0124INFO:tensorflow:Assets written to: C:\\Users\\PARK\\Documents\\LAB\\RNN vs LSTM\\FInal Example\\wandb\\run-20221015_190827-1kgjbxck\\files\\model-best\\assets\n"
     ]
    },
    {
     "name": "stderr",
     "output_type": "stream",
     "text": [
      "\u001b[34m\u001b[1mwandb\u001b[0m: Adding directory to artifact (C:\\Users\\PARK\\Documents\\LAB\\RNN vs LSTM\\FInal Example\\wandb\\run-20221015_190827-1kgjbxck\\files\\model-best)... Done. 0.0s\n"
     ]
    },
    {
     "name": "stdout",
     "output_type": "stream",
     "text": [
      "5/5 [==============================] - 2s 523ms/step - loss: 2.4632e-04 - mae: 0.0124 - val_loss: 0.0017 - val_mae: 0.0314\n",
      "Epoch 1306/2000\n",
      "5/5 [==============================] - 1s 155ms/step - loss: 2.0856e-04 - mae: 0.0114 - val_loss: 0.0018 - val_mae: 0.0328\n",
      "Epoch 1307/2000\n",
      "5/5 [==============================] - 1s 142ms/step - loss: 2.3492e-04 - mae: 0.0121 - val_loss: 0.0018 - val_mae: 0.0322\n",
      "Epoch 1308/2000\n",
      "5/5 [==============================] - 1s 137ms/step - loss: 2.3998e-04 - mae: 0.0122 - val_loss: 0.0017 - val_mae: 0.0319\n",
      "Epoch 1309/2000\n",
      "5/5 [==============================] - 1s 135ms/step - loss: 2.3498e-04 - mae: 0.0122 - val_loss: 0.0018 - val_mae: 0.0323\n",
      "Epoch 1310/2000\n",
      "5/5 [==============================] - 1s 146ms/step - loss: 2.3896e-04 - mae: 0.0122 - val_loss: 0.0017 - val_mae: 0.0317\n",
      "Epoch 1311/2000\n",
      "5/5 [==============================] - 1s 150ms/step - loss: 2.6146e-04 - mae: 0.0129 - val_loss: 0.0018 - val_mae: 0.0331\n",
      "Epoch 1312/2000\n",
      "5/5 [==============================] - 1s 150ms/step - loss: 2.6572e-04 - mae: 0.0129 - val_loss: 0.0018 - val_mae: 0.0327\n",
      "Epoch 1313/2000\n",
      "5/5 [==============================] - 1s 143ms/step - loss: 2.8562e-04 - mae: 0.0135 - val_loss: 0.0018 - val_mae: 0.0326\n",
      "Epoch 1314/2000\n",
      "5/5 [==============================] - 1s 147ms/step - loss: 2.8956e-04 - mae: 0.0136 - val_loss: 0.0017 - val_mae: 0.0318\n",
      "Epoch 1315/2000\n",
      "5/5 [==============================] - 1s 146ms/step - loss: 2.6965e-04 - mae: 0.0131 - val_loss: 0.0019 - val_mae: 0.0331\n",
      "Epoch 1316/2000\n",
      "5/5 [==============================] - 1s 143ms/step - loss: 3.1256e-04 - mae: 0.0141 - val_loss: 0.0017 - val_mae: 0.0317\n",
      "Epoch 1317/2000\n",
      "5/5 [==============================] - 1s 150ms/step - loss: 2.7683e-04 - mae: 0.0131 - val_loss: 0.0017 - val_mae: 0.0316\n",
      "Epoch 1318/2000\n",
      "5/5 [==============================] - 1s 144ms/step - loss: 2.5295e-04 - mae: 0.0126 - val_loss: 0.0017 - val_mae: 0.0321\n",
      "Epoch 1319/2000\n",
      "5/5 [==============================] - 1s 135ms/step - loss: 2.4383e-04 - mae: 0.0126 - val_loss: 0.0017 - val_mae: 0.0322\n",
      "Epoch 1320/2000\n",
      "5/5 [==============================] - ETA: 0s - loss: 2.1065e-04 - mae: 0.0116INFO:tensorflow:Assets written to: C:\\Users\\PARK\\Documents\\LAB\\RNN vs LSTM\\FInal Example\\wandb\\run-20221015_190827-1kgjbxck\\files\\model-best\\assets\n"
     ]
    },
    {
     "name": "stderr",
     "output_type": "stream",
     "text": [
      "\u001b[34m\u001b[1mwandb\u001b[0m: Adding directory to artifact (C:\\Users\\PARK\\Documents\\LAB\\RNN vs LSTM\\FInal Example\\wandb\\run-20221015_190827-1kgjbxck\\files\\model-best)... Done. 0.0s\n"
     ]
    },
    {
     "name": "stdout",
     "output_type": "stream",
     "text": [
      "5/5 [==============================] - 2s 465ms/step - loss: 2.1065e-04 - mae: 0.0116 - val_loss: 0.0017 - val_mae: 0.0310\n",
      "Epoch 1321/2000\n",
      "5/5 [==============================] - 1s 169ms/step - loss: 1.9621e-04 - mae: 0.0111 - val_loss: 0.0017 - val_mae: 0.0313\n",
      "Epoch 1322/2000\n",
      "5/5 [==============================] - 1s 155ms/step - loss: 1.9089e-04 - mae: 0.0109 - val_loss: 0.0017 - val_mae: 0.0314\n",
      "Epoch 1323/2000\n",
      "5/5 [==============================] - 1s 144ms/step - loss: 1.7876e-04 - mae: 0.0106 - val_loss: 0.0017 - val_mae: 0.0315\n",
      "Epoch 1324/2000\n",
      "5/5 [==============================] - 1s 136ms/step - loss: 1.6798e-04 - mae: 0.0101 - val_loss: 0.0017 - val_mae: 0.0313\n",
      "Epoch 1325/2000\n",
      "5/5 [==============================] - ETA: 0s - loss: 1.8671e-04 - mae: 0.0108INFO:tensorflow:Assets written to: C:\\Users\\PARK\\Documents\\LAB\\RNN vs LSTM\\FInal Example\\wandb\\run-20221015_190827-1kgjbxck\\files\\model-best\\assets\n"
     ]
    },
    {
     "name": "stderr",
     "output_type": "stream",
     "text": [
      "\u001b[34m\u001b[1mwandb\u001b[0m: Adding directory to artifact (C:\\Users\\PARK\\Documents\\LAB\\RNN vs LSTM\\FInal Example\\wandb\\run-20221015_190827-1kgjbxck\\files\\model-best)... Done. 0.0s\n"
     ]
    },
    {
     "name": "stdout",
     "output_type": "stream",
     "text": [
      "5/5 [==============================] - 2s 467ms/step - loss: 1.8671e-04 - mae: 0.0108 - val_loss: 0.0016 - val_mae: 0.0310\n",
      "Epoch 1326/2000\n",
      "5/5 [==============================] - ETA: 0s - loss: 1.9257e-04 - mae: 0.0110INFO:tensorflow:Assets written to: C:\\Users\\PARK\\Documents\\LAB\\RNN vs LSTM\\FInal Example\\wandb\\run-20221015_190827-1kgjbxck\\files\\model-best\\assets\n"
     ]
    },
    {
     "name": "stderr",
     "output_type": "stream",
     "text": [
      "\u001b[34m\u001b[1mwandb\u001b[0m: Adding directory to artifact (C:\\Users\\PARK\\Documents\\LAB\\RNN vs LSTM\\FInal Example\\wandb\\run-20221015_190827-1kgjbxck\\files\\model-best)... Done. 0.0s\n"
     ]
    },
    {
     "name": "stdout",
     "output_type": "stream",
     "text": [
      "5/5 [==============================] - 2s 517ms/step - loss: 1.9257e-04 - mae: 0.0110 - val_loss: 0.0016 - val_mae: 0.0308\n",
      "Epoch 1327/2000\n",
      "5/5 [==============================] - 1s 162ms/step - loss: 1.8553e-04 - mae: 0.0108 - val_loss: 0.0017 - val_mae: 0.0314\n",
      "Epoch 1328/2000\n",
      "5/5 [==============================] - 1s 148ms/step - loss: 2.0410e-04 - mae: 0.0113 - val_loss: 0.0017 - val_mae: 0.0311\n",
      "Epoch 1329/2000\n",
      "5/5 [==============================] - 1s 151ms/step - loss: 2.0865e-04 - mae: 0.0115 - val_loss: 0.0017 - val_mae: 0.0311\n",
      "Epoch 1330/2000\n",
      "5/5 [==============================] - 1s 137ms/step - loss: 2.0731e-04 - mae: 0.0114 - val_loss: 0.0017 - val_mae: 0.0307\n",
      "Epoch 1331/2000\n",
      "5/5 [==============================] - 1s 143ms/step - loss: 2.1570e-04 - mae: 0.0117 - val_loss: 0.0016 - val_mae: 0.0309\n",
      "Epoch 1332/2000\n",
      "5/5 [==============================] - 1s 145ms/step - loss: 1.8134e-04 - mae: 0.0106 - val_loss: 0.0017 - val_mae: 0.0310\n",
      "Epoch 1333/2000\n",
      "5/5 [==============================] - ETA: 0s - loss: 1.6857e-04 - mae: 0.0103INFO:tensorflow:Assets written to: C:\\Users\\PARK\\Documents\\LAB\\RNN vs LSTM\\FInal Example\\wandb\\run-20221015_190827-1kgjbxck\\files\\model-best\\assets\n"
     ]
    },
    {
     "name": "stderr",
     "output_type": "stream",
     "text": [
      "\u001b[34m\u001b[1mwandb\u001b[0m: Adding directory to artifact (C:\\Users\\PARK\\Documents\\LAB\\RNN vs LSTM\\FInal Example\\wandb\\run-20221015_190827-1kgjbxck\\files\\model-best)... Done. 0.0s\n"
     ]
    },
    {
     "name": "stdout",
     "output_type": "stream",
     "text": [
      "5/5 [==============================] - 2s 472ms/step - loss: 1.6857e-04 - mae: 0.0103 - val_loss: 0.0016 - val_mae: 0.0306\n",
      "Epoch 1334/2000\n",
      "5/5 [==============================] - 1s 163ms/step - loss: 1.7919e-04 - mae: 0.0106 - val_loss: 0.0017 - val_mae: 0.0311\n",
      "Epoch 1335/2000\n",
      "5/5 [==============================] - 1s 154ms/step - loss: 1.9025e-04 - mae: 0.0109 - val_loss: 0.0016 - val_mae: 0.0307\n",
      "Epoch 1336/2000\n",
      "5/5 [==============================] - 1s 144ms/step - loss: 1.7253e-04 - mae: 0.0104 - val_loss: 0.0016 - val_mae: 0.0312\n",
      "Epoch 1337/2000\n",
      "5/5 [==============================] - 1s 136ms/step - loss: 2.0234e-04 - mae: 0.0113 - val_loss: 0.0017 - val_mae: 0.0320\n",
      "Epoch 1338/2000\n",
      "5/5 [==============================] - 1s 136ms/step - loss: 2.4313e-04 - mae: 0.0123 - val_loss: 0.0017 - val_mae: 0.0315\n",
      "Epoch 1339/2000\n",
      "5/5 [==============================] - 1s 142ms/step - loss: 2.4151e-04 - mae: 0.0124 - val_loss: 0.0016 - val_mae: 0.0311\n",
      "Epoch 1340/2000\n",
      "5/5 [==============================] - 1s 140ms/step - loss: 2.4808e-04 - mae: 0.0124 - val_loss: 0.0017 - val_mae: 0.0312\n",
      "Epoch 1341/2000\n",
      "5/5 [==============================] - 1s 137ms/step - loss: 2.3352e-04 - mae: 0.0121 - val_loss: 0.0017 - val_mae: 0.0318\n",
      "Epoch 1342/2000\n",
      "5/5 [==============================] - 1s 141ms/step - loss: 2.1497e-04 - mae: 0.0116 - val_loss: 0.0017 - val_mae: 0.0319\n",
      "Epoch 1343/2000\n",
      "5/5 [==============================] - 1s 147ms/step - loss: 2.4838e-04 - mae: 0.0126 - val_loss: 0.0018 - val_mae: 0.0321\n",
      "Epoch 1344/2000\n",
      "5/5 [==============================] - 1s 148ms/step - loss: 3.0444e-04 - mae: 0.0140 - val_loss: 0.0017 - val_mae: 0.0317\n",
      "Epoch 1345/2000\n",
      "5/5 [==============================] - 1s 151ms/step - loss: 2.9950e-04 - mae: 0.0136 - val_loss: 0.0018 - val_mae: 0.0327\n",
      "Epoch 1346/2000\n",
      "5/5 [==============================] - 1s 144ms/step - loss: 3.6818e-04 - mae: 0.0152 - val_loss: 0.0018 - val_mae: 0.0322\n",
      "Epoch 1347/2000\n",
      "5/5 [==============================] - 1s 133ms/step - loss: 3.4573e-04 - mae: 0.0149 - val_loss: 0.0019 - val_mae: 0.0340\n",
      "Epoch 1348/2000\n",
      "5/5 [==============================] - 1s 133ms/step - loss: 3.9600e-04 - mae: 0.0157 - val_loss: 0.0017 - val_mae: 0.0317\n",
      "Epoch 1349/2000\n",
      "5/5 [==============================] - 1s 142ms/step - loss: 4.0334e-04 - mae: 0.0161 - val_loss: 0.0018 - val_mae: 0.0328\n",
      "Epoch 1350/2000\n",
      "5/5 [==============================] - 1s 142ms/step - loss: 4.1700e-04 - mae: 0.0161 - val_loss: 0.0020 - val_mae: 0.0340\n",
      "Epoch 1351/2000\n",
      "5/5 [==============================] - 1s 134ms/step - loss: 4.1146e-04 - mae: 0.0163 - val_loss: 0.0017 - val_mae: 0.0319\n",
      "Epoch 1352/2000\n",
      "5/5 [==============================] - 1s 139ms/step - loss: 2.9885e-04 - mae: 0.0138 - val_loss: 0.0018 - val_mae: 0.0323\n",
      "Epoch 1353/2000\n",
      "5/5 [==============================] - 1s 144ms/step - loss: 3.4773e-04 - mae: 0.0149 - val_loss: 0.0017 - val_mae: 0.0323\n",
      "Epoch 1354/2000\n",
      "5/5 [==============================] - 1s 149ms/step - loss: 3.2645e-04 - mae: 0.0144 - val_loss: 0.0017 - val_mae: 0.0323\n",
      "Epoch 1355/2000\n",
      "5/5 [==============================] - 1s 150ms/step - loss: 2.7113e-04 - mae: 0.0131 - val_loss: 0.0016 - val_mae: 0.0309\n",
      "Epoch 1356/2000\n",
      "5/5 [==============================] - 1s 146ms/step - loss: 2.2037e-04 - mae: 0.0118 - val_loss: 0.0016 - val_mae: 0.0307\n",
      "Epoch 1357/2000\n",
      "5/5 [==============================] - 1s 144ms/step - loss: 2.1336e-04 - mae: 0.0116 - val_loss: 0.0018 - val_mae: 0.0327\n",
      "Epoch 1358/2000\n",
      "5/5 [==============================] - 1s 138ms/step - loss: 2.4663e-04 - mae: 0.0125 - val_loss: 0.0018 - val_mae: 0.0327\n",
      "Epoch 1359/2000\n",
      "5/5 [==============================] - 1s 143ms/step - loss: 2.7582e-04 - mae: 0.0132 - val_loss: 0.0018 - val_mae: 0.0325\n",
      "Epoch 1360/2000\n",
      "5/5 [==============================] - 1s 148ms/step - loss: 2.6314e-04 - mae: 0.0130 - val_loss: 0.0016 - val_mae: 0.0311\n",
      "Epoch 1361/2000\n",
      "5/5 [==============================] - 1s 149ms/step - loss: 2.5465e-04 - mae: 0.0126 - val_loss: 0.0017 - val_mae: 0.0308\n",
      "Epoch 1362/2000\n",
      "5/5 [==============================] - ETA: 0s - loss: 2.1336e-04 - mae: 0.0115INFO:tensorflow:Assets written to: C:\\Users\\PARK\\Documents\\LAB\\RNN vs LSTM\\FInal Example\\wandb\\run-20221015_190827-1kgjbxck\\files\\model-best\\assets\n"
     ]
    },
    {
     "name": "stderr",
     "output_type": "stream",
     "text": [
      "\u001b[34m\u001b[1mwandb\u001b[0m: Adding directory to artifact (C:\\Users\\PARK\\Documents\\LAB\\RNN vs LSTM\\FInal Example\\wandb\\run-20221015_190827-1kgjbxck\\files\\model-best)... Done. 0.0s\n"
     ]
    },
    {
     "name": "stdout",
     "output_type": "stream",
     "text": [
      "5/5 [==============================] - 2s 475ms/step - loss: 2.1336e-04 - mae: 0.0115 - val_loss: 0.0016 - val_mae: 0.0300\n",
      "Epoch 1363/2000\n",
      "5/5 [==============================] - 1s 168ms/step - loss: 2.0817e-04 - mae: 0.0115 - val_loss: 0.0017 - val_mae: 0.0319\n",
      "Epoch 1364/2000\n",
      "5/5 [==============================] - 1s 150ms/step - loss: 2.1379e-04 - mae: 0.0116 - val_loss: 0.0016 - val_mae: 0.0307\n",
      "Epoch 1365/2000\n",
      "5/5 [==============================] - 1s 143ms/step - loss: 2.1477e-04 - mae: 0.0116 - val_loss: 0.0016 - val_mae: 0.0308\n",
      "Epoch 1366/2000\n",
      "5/5 [==============================] - 1s 137ms/step - loss: 1.8396e-04 - mae: 0.0107 - val_loss: 0.0017 - val_mae: 0.0310\n",
      "Epoch 1367/2000\n",
      "5/5 [==============================] - ETA: 0s - loss: 1.9837e-04 - mae: 0.0112INFO:tensorflow:Assets written to: C:\\Users\\PARK\\Documents\\LAB\\RNN vs LSTM\\FInal Example\\wandb\\run-20221015_190827-1kgjbxck\\files\\model-best\\assets\n"
     ]
    },
    {
     "name": "stderr",
     "output_type": "stream",
     "text": [
      "\u001b[34m\u001b[1mwandb\u001b[0m: Adding directory to artifact (C:\\Users\\PARK\\Documents\\LAB\\RNN vs LSTM\\FInal Example\\wandb\\run-20221015_190827-1kgjbxck\\files\\model-best)... Done. 0.0s\n"
     ]
    },
    {
     "name": "stdout",
     "output_type": "stream",
     "text": [
      "5/5 [==============================] - 2s 493ms/step - loss: 1.9837e-04 - mae: 0.0112 - val_loss: 0.0016 - val_mae: 0.0298\n",
      "Epoch 1368/2000\n",
      "5/5 [==============================] - 1s 163ms/step - loss: 1.9539e-04 - mae: 0.0110 - val_loss: 0.0016 - val_mae: 0.0303\n",
      "Epoch 1369/2000\n",
      "5/5 [==============================] - 1s 146ms/step - loss: 1.9667e-04 - mae: 0.0111 - val_loss: 0.0017 - val_mae: 0.0313\n",
      "Epoch 1370/2000\n",
      "5/5 [==============================] - 1s 136ms/step - loss: 2.4406e-04 - mae: 0.0123 - val_loss: 0.0017 - val_mae: 0.0320\n",
      "Epoch 1371/2000\n",
      "5/5 [==============================] - 1s 139ms/step - loss: 2.9029e-04 - mae: 0.0135 - val_loss: 0.0016 - val_mae: 0.0312\n",
      "Epoch 1372/2000\n",
      "5/5 [==============================] - 1s 148ms/step - loss: 2.5011e-04 - mae: 0.0126 - val_loss: 0.0018 - val_mae: 0.0318\n",
      "Epoch 1373/2000\n",
      "5/5 [==============================] - 1s 142ms/step - loss: 2.3653e-04 - mae: 0.0121 - val_loss: 0.0016 - val_mae: 0.0310\n",
      "Epoch 1374/2000\n",
      "5/5 [==============================] - 1s 137ms/step - loss: 2.4987e-04 - mae: 0.0125 - val_loss: 0.0017 - val_mae: 0.0312\n",
      "Epoch 1375/2000\n",
      "5/5 [==============================] - 1s 141ms/step - loss: 2.5981e-04 - mae: 0.0129 - val_loss: 0.0016 - val_mae: 0.0312\n",
      "Epoch 1376/2000\n",
      "5/5 [==============================] - 1s 149ms/step - loss: 2.4108e-04 - mae: 0.0124 - val_loss: 0.0016 - val_mae: 0.0306\n",
      "Epoch 1377/2000\n",
      "5/5 [==============================] - 1s 148ms/step - loss: 2.3033e-04 - mae: 0.0121 - val_loss: 0.0016 - val_mae: 0.0307\n",
      "Epoch 1378/2000\n",
      "5/5 [==============================] - 1s 144ms/step - loss: 2.2529e-04 - mae: 0.0120 - val_loss: 0.0017 - val_mae: 0.0314\n",
      "Epoch 1379/2000\n",
      "5/5 [==============================] - 1s 135ms/step - loss: 2.1458e-04 - mae: 0.0117 - val_loss: 0.0016 - val_mae: 0.0306\n",
      "Epoch 1380/2000\n",
      "5/5 [==============================] - 1s 142ms/step - loss: 2.0889e-04 - mae: 0.0114 - val_loss: 0.0016 - val_mae: 0.0310\n",
      "Epoch 1381/2000\n",
      "5/5 [==============================] - 1s 147ms/step - loss: 2.0911e-04 - mae: 0.0115 - val_loss: 0.0016 - val_mae: 0.0300\n",
      "Epoch 1382/2000\n",
      "5/5 [==============================] - 1s 145ms/step - loss: 1.9872e-04 - mae: 0.0112 - val_loss: 0.0016 - val_mae: 0.0307\n",
      "Epoch 1383/2000\n",
      "5/5 [==============================] - 1s 139ms/step - loss: 2.2500e-04 - mae: 0.0120 - val_loss: 0.0016 - val_mae: 0.0309\n",
      "Epoch 1384/2000\n",
      "5/5 [==============================] - 1s 139ms/step - loss: 2.4199e-04 - mae: 0.0123 - val_loss: 0.0017 - val_mae: 0.0321\n",
      "Epoch 1385/2000\n",
      "5/5 [==============================] - 1s 142ms/step - loss: 2.4538e-04 - mae: 0.0124 - val_loss: 0.0016 - val_mae: 0.0307\n",
      "Epoch 1386/2000\n",
      "5/5 [==============================] - 1s 143ms/step - loss: 2.9251e-04 - mae: 0.0137 - val_loss: 0.0016 - val_mae: 0.0308\n",
      "Epoch 1387/2000\n",
      "5/5 [==============================] - 1s 136ms/step - loss: 2.8048e-04 - mae: 0.0131 - val_loss: 0.0017 - val_mae: 0.0312\n",
      "Epoch 1388/2000\n",
      "5/5 [==============================] - 1s 144ms/step - loss: 2.6036e-04 - mae: 0.0128 - val_loss: 0.0018 - val_mae: 0.0320\n",
      "Epoch 1389/2000\n",
      "5/5 [==============================] - 1s 145ms/step - loss: 3.8947e-04 - mae: 0.0157 - val_loss: 0.0019 - val_mae: 0.0335\n",
      "Epoch 1390/2000\n",
      "5/5 [==============================] - 1s 150ms/step - loss: 4.0428e-04 - mae: 0.0159 - val_loss: 0.0018 - val_mae: 0.0324\n",
      "Epoch 1391/2000\n",
      "5/5 [==============================] - 1s 150ms/step - loss: 3.9725e-04 - mae: 0.0160 - val_loss: 0.0019 - val_mae: 0.0335\n",
      "Epoch 1392/2000\n",
      "5/5 [==============================] - 1s 142ms/step - loss: 3.9936e-04 - mae: 0.0160 - val_loss: 0.0017 - val_mae: 0.0323\n",
      "Epoch 1393/2000\n",
      "5/5 [==============================] - 1s 135ms/step - loss: 3.0924e-04 - mae: 0.0139 - val_loss: 0.0018 - val_mae: 0.0327\n",
      "Epoch 1394/2000\n",
      "5/5 [==============================] - 1s 134ms/step - loss: 3.3293e-04 - mae: 0.0144 - val_loss: 0.0016 - val_mae: 0.0303\n",
      "Epoch 1395/2000\n",
      "5/5 [==============================] - 1s 147ms/step - loss: 2.6719e-04 - mae: 0.0131 - val_loss: 0.0017 - val_mae: 0.0312\n",
      "Epoch 1396/2000\n",
      "5/5 [==============================] - 1s 148ms/step - loss: 2.5924e-04 - mae: 0.0127 - val_loss: 0.0016 - val_mae: 0.0312\n",
      "Epoch 1397/2000\n",
      "5/5 [==============================] - 1s 147ms/step - loss: 2.4390e-04 - mae: 0.0124 - val_loss: 0.0016 - val_mae: 0.0305\n",
      "Epoch 1398/2000\n",
      "5/5 [==============================] - 1s 143ms/step - loss: 2.3919e-04 - mae: 0.0123 - val_loss: 0.0016 - val_mae: 0.0310\n",
      "Epoch 1399/2000\n",
      "5/5 [==============================] - 1s 134ms/step - loss: 2.2229e-04 - mae: 0.0118 - val_loss: 0.0016 - val_mae: 0.0308\n",
      "Epoch 1400/2000\n",
      "5/5 [==============================] - 1s 139ms/step - loss: 2.1659e-04 - mae: 0.0117 - val_loss: 0.0016 - val_mae: 0.0304\n",
      "Epoch 1401/2000\n",
      "5/5 [==============================] - 1s 159ms/step - loss: 1.8653e-04 - mae: 0.0109 - val_loss: 0.0016 - val_mae: 0.0301\n",
      "Epoch 1402/2000\n",
      "5/5 [==============================] - 1s 149ms/step - loss: 2.0108e-04 - mae: 0.0113 - val_loss: 0.0016 - val_mae: 0.0309\n",
      "Epoch 1403/2000\n",
      "5/5 [==============================] - ETA: 0s - loss: 1.9826e-04 - mae: 0.0112INFO:tensorflow:Assets written to: C:\\Users\\PARK\\Documents\\LAB\\RNN vs LSTM\\FInal Example\\wandb\\run-20221015_190827-1kgjbxck\\files\\model-best\\assets\n"
     ]
    },
    {
     "name": "stderr",
     "output_type": "stream",
     "text": [
      "\u001b[34m\u001b[1mwandb\u001b[0m: Adding directory to artifact (C:\\Users\\PARK\\Documents\\LAB\\RNN vs LSTM\\FInal Example\\wandb\\run-20221015_190827-1kgjbxck\\files\\model-best)... Done. 0.0s\n"
     ]
    },
    {
     "name": "stdout",
     "output_type": "stream",
     "text": [
      "5/5 [==============================] - 2s 477ms/step - loss: 1.9826e-04 - mae: 0.0112 - val_loss: 0.0015 - val_mae: 0.0296\n",
      "Epoch 1404/2000\n",
      "5/5 [==============================] - 1s 157ms/step - loss: 1.8888e-04 - mae: 0.0109 - val_loss: 0.0016 - val_mae: 0.0309\n",
      "Epoch 1405/2000\n",
      "5/5 [==============================] - ETA: 0s - loss: 2.0506e-04 - mae: 0.0114INFO:tensorflow:Assets written to: C:\\Users\\PARK\\Documents\\LAB\\RNN vs LSTM\\FInal Example\\wandb\\run-20221015_190827-1kgjbxck\\files\\model-best\\assets\n"
     ]
    },
    {
     "name": "stderr",
     "output_type": "stream",
     "text": [
      "\u001b[34m\u001b[1mwandb\u001b[0m: Adding directory to artifact (C:\\Users\\PARK\\Documents\\LAB\\RNN vs LSTM\\FInal Example\\wandb\\run-20221015_190827-1kgjbxck\\files\\model-best)... Done. 0.0s\n"
     ]
    },
    {
     "name": "stdout",
     "output_type": "stream",
     "text": [
      "5/5 [==============================] - 2s 502ms/step - loss: 2.0506e-04 - mae: 0.0114 - val_loss: 0.0015 - val_mae: 0.0297\n",
      "Epoch 1406/2000\n",
      "5/5 [==============================] - 1s 167ms/step - loss: 1.7294e-04 - mae: 0.0104 - val_loss: 0.0016 - val_mae: 0.0307\n",
      "Epoch 1407/2000\n",
      "5/5 [==============================] - ETA: 0s - loss: 1.9326e-04 - mae: 0.0111INFO:tensorflow:Assets written to: C:\\Users\\PARK\\Documents\\LAB\\RNN vs LSTM\\FInal Example\\wandb\\run-20221015_190827-1kgjbxck\\files\\model-best\\assets\n"
     ]
    },
    {
     "name": "stderr",
     "output_type": "stream",
     "text": [
      "\u001b[34m\u001b[1mwandb\u001b[0m: Adding directory to artifact (C:\\Users\\PARK\\Documents\\LAB\\RNN vs LSTM\\FInal Example\\wandb\\run-20221015_190827-1kgjbxck\\files\\model-best)... Done. 0.0s\n"
     ]
    },
    {
     "name": "stdout",
     "output_type": "stream",
     "text": [
      "5/5 [==============================] - 2s 483ms/step - loss: 1.9326e-04 - mae: 0.0111 - val_loss: 0.0015 - val_mae: 0.0290\n",
      "Epoch 1408/2000\n",
      "5/5 [==============================] - 1s 170ms/step - loss: 1.6199e-04 - mae: 0.0100 - val_loss: 0.0015 - val_mae: 0.0296\n",
      "Epoch 1409/2000\n",
      "5/5 [==============================] - 1s 151ms/step - loss: 1.5109e-04 - mae: 0.0097 - val_loss: 0.0016 - val_mae: 0.0301\n",
      "Epoch 1410/2000\n",
      "5/5 [==============================] - 1s 150ms/step - loss: 1.6156e-04 - mae: 0.0101 - val_loss: 0.0015 - val_mae: 0.0297\n",
      "Epoch 1411/2000\n",
      "5/5 [==============================] - 1s 151ms/step - loss: 1.4928e-04 - mae: 0.0097 - val_loss: 0.0016 - val_mae: 0.0304\n",
      "Epoch 1412/2000\n",
      "5/5 [==============================] - 1s 143ms/step - loss: 1.9668e-04 - mae: 0.0112 - val_loss: 0.0015 - val_mae: 0.0300\n",
      "Epoch 1413/2000\n",
      "5/5 [==============================] - 1s 138ms/step - loss: 2.0255e-04 - mae: 0.0113 - val_loss: 0.0016 - val_mae: 0.0296\n",
      "Epoch 1414/2000\n",
      "5/5 [==============================] - 1s 136ms/step - loss: 1.9265e-04 - mae: 0.0110 - val_loss: 0.0015 - val_mae: 0.0297\n",
      "Epoch 1415/2000\n",
      "5/5 [==============================] - 1s 145ms/step - loss: 1.9221e-04 - mae: 0.0110 - val_loss: 0.0015 - val_mae: 0.0294\n",
      "Epoch 1416/2000\n",
      "5/5 [==============================] - 1s 155ms/step - loss: 1.8716e-04 - mae: 0.0107 - val_loss: 0.0016 - val_mae: 0.0305\n",
      "Epoch 1417/2000\n",
      "5/5 [==============================] - 1s 150ms/step - loss: 1.9851e-04 - mae: 0.0112 - val_loss: 0.0015 - val_mae: 0.0302\n",
      "Epoch 1418/2000\n",
      "5/5 [==============================] - 1s 140ms/step - loss: 2.1114e-04 - mae: 0.0116 - val_loss: 0.0015 - val_mae: 0.0298\n",
      "Epoch 1419/2000\n",
      "5/5 [==============================] - 1s 134ms/step - loss: 1.8919e-04 - mae: 0.0109 - val_loss: 0.0015 - val_mae: 0.0295\n",
      "Epoch 1420/2000\n",
      "5/5 [==============================] - 1s 136ms/step - loss: 1.9819e-04 - mae: 0.0112 - val_loss: 0.0015 - val_mae: 0.0294\n",
      "Epoch 1421/2000\n",
      "5/5 [==============================] - 1s 144ms/step - loss: 2.1007e-04 - mae: 0.0116 - val_loss: 0.0016 - val_mae: 0.0308\n",
      "Epoch 1422/2000\n",
      "5/5 [==============================] - 1s 141ms/step - loss: 1.9446e-04 - mae: 0.0111 - val_loss: 0.0015 - val_mae: 0.0302\n",
      "Epoch 1423/2000\n",
      "5/5 [==============================] - 1s 136ms/step - loss: 2.4128e-04 - mae: 0.0123 - val_loss: 0.0016 - val_mae: 0.0306\n",
      "Epoch 1424/2000\n",
      "5/5 [==============================] - 1s 138ms/step - loss: 2.5010e-04 - mae: 0.0125 - val_loss: 0.0015 - val_mae: 0.0299\n",
      "Epoch 1425/2000\n",
      "5/5 [==============================] - 1s 148ms/step - loss: 1.9557e-04 - mae: 0.0112 - val_loss: 0.0015 - val_mae: 0.0304\n",
      "Epoch 1426/2000\n",
      "5/5 [==============================] - 1s 149ms/step - loss: 2.2541e-04 - mae: 0.0119 - val_loss: 0.0017 - val_mae: 0.0312\n",
      "Epoch 1427/2000\n",
      "5/5 [==============================] - 1s 144ms/step - loss: 2.8539e-04 - mae: 0.0135 - val_loss: 0.0018 - val_mae: 0.0320\n",
      "Epoch 1428/2000\n",
      "5/5 [==============================] - 1s 139ms/step - loss: 3.0973e-04 - mae: 0.0141 - val_loss: 0.0016 - val_mae: 0.0303\n",
      "Epoch 1429/2000\n",
      "5/5 [==============================] - 1s 136ms/step - loss: 3.0669e-04 - mae: 0.0140 - val_loss: 0.0019 - val_mae: 0.0340\n",
      "Epoch 1430/2000\n",
      "5/5 [==============================] - 1s 144ms/step - loss: 5.6392e-04 - mae: 0.0194 - val_loss: 0.0017 - val_mae: 0.0320\n",
      "Epoch 1431/2000\n",
      "5/5 [==============================] - 1s 147ms/step - loss: 5.6005e-04 - mae: 0.0187 - val_loss: 0.0020 - val_mae: 0.0351\n",
      "Epoch 1432/2000\n",
      "5/5 [==============================] - 1s 150ms/step - loss: 7.2909e-04 - mae: 0.0207 - val_loss: 0.0024 - val_mae: 0.0384\n",
      "Epoch 1433/2000\n",
      "5/5 [==============================] - 1s 142ms/step - loss: 0.0014 - mae: 0.0303 - val_loss: 0.0019 - val_mae: 0.0343\n",
      "Epoch 1434/2000\n",
      "5/5 [==============================] - 1s 135ms/step - loss: 9.5205e-04 - mae: 0.0245 - val_loss: 0.0020 - val_mae: 0.0342\n",
      "Epoch 1435/2000\n",
      "5/5 [==============================] - 1s 135ms/step - loss: 8.0481e-04 - mae: 0.0226 - val_loss: 0.0023 - val_mae: 0.0378\n",
      "Epoch 1436/2000\n",
      "5/5 [==============================] - 1s 146ms/step - loss: 8.5171e-04 - mae: 0.0232 - val_loss: 0.0021 - val_mae: 0.0363\n",
      "Epoch 1437/2000\n",
      "5/5 [==============================] - 1s 149ms/step - loss: 7.2858e-04 - mae: 0.0215 - val_loss: 0.0021 - val_mae: 0.0354\n",
      "Epoch 1438/2000\n",
      "5/5 [==============================] - 1s 146ms/step - loss: 6.6095e-04 - mae: 0.0206 - val_loss: 0.0020 - val_mae: 0.0352\n",
      "Epoch 1439/2000\n",
      "5/5 [==============================] - 1s 141ms/step - loss: 5.8927e-04 - mae: 0.0193 - val_loss: 0.0023 - val_mae: 0.0377\n",
      "Epoch 1440/2000\n",
      "5/5 [==============================] - 1s 135ms/step - loss: 6.9043e-04 - mae: 0.0209 - val_loss: 0.0019 - val_mae: 0.0332\n",
      "Epoch 1441/2000\n",
      "5/5 [==============================] - 1s 135ms/step - loss: 5.2804e-04 - mae: 0.0182 - val_loss: 0.0018 - val_mae: 0.0330\n",
      "Epoch 1442/2000\n",
      "5/5 [==============================] - 1s 141ms/step - loss: 7.9989e-04 - mae: 0.0227 - val_loss: 0.0018 - val_mae: 0.0334\n",
      "Epoch 1443/2000\n",
      "5/5 [==============================] - 1s 150ms/step - loss: 8.3079e-04 - mae: 0.0231 - val_loss: 0.0021 - val_mae: 0.0359\n",
      "Epoch 1444/2000\n",
      "5/5 [==============================] - 1s 147ms/step - loss: 8.3557e-04 - mae: 0.0229 - val_loss: 0.0021 - val_mae: 0.0347\n",
      "Epoch 1445/2000\n",
      "5/5 [==============================] - 1s 146ms/step - loss: 7.0274e-04 - mae: 0.0213 - val_loss: 0.0019 - val_mae: 0.0346\n",
      "Epoch 1446/2000\n",
      "5/5 [==============================] - 1s 140ms/step - loss: 5.5531e-04 - mae: 0.0187 - val_loss: 0.0019 - val_mae: 0.0334\n",
      "Epoch 1447/2000\n",
      "5/5 [==============================] - 1s 140ms/step - loss: 4.7803e-04 - mae: 0.0174 - val_loss: 0.0018 - val_mae: 0.0332\n",
      "Epoch 1448/2000\n",
      "5/5 [==============================] - 1s 140ms/step - loss: 4.6299e-04 - mae: 0.0171 - val_loss: 0.0020 - val_mae: 0.0351\n",
      "Epoch 1449/2000\n",
      "5/5 [==============================] - 1s 146ms/step - loss: 5.0778e-04 - mae: 0.0178 - val_loss: 0.0019 - val_mae: 0.0332\n",
      "Epoch 1450/2000\n",
      "5/5 [==============================] - 1s 139ms/step - loss: 4.7819e-04 - mae: 0.0173 - val_loss: 0.0017 - val_mae: 0.0321\n",
      "Epoch 1451/2000\n",
      "5/5 [==============================] - ETA: 0s - loss: 3.4159e-04 - mae: 0.0147INFO:tensorflow:Assets written to: C:\\Users\\PARK\\Documents\\LAB\\RNN vs LSTM\\FInal Example\\wandb\\run-20221015_190827-1kgjbxck\\files\\model-best\\assets\n"
     ]
    },
    {
     "name": "stderr",
     "output_type": "stream",
     "text": [
      "\u001b[34m\u001b[1mwandb\u001b[0m: Adding directory to artifact (C:\\Users\\PARK\\Documents\\LAB\\RNN vs LSTM\\FInal Example\\wandb\\run-20221015_190827-1kgjbxck\\files\\model-best)... Done. 0.0s\n"
     ]
    },
    {
     "name": "stdout",
     "output_type": "stream",
     "text": [
      "5/5 [==============================] - 2s 459ms/step - loss: 3.4159e-04 - mae: 0.0147 - val_loss: 0.0014 - val_mae: 0.0293\n",
      "Epoch 1452/2000\n",
      "5/5 [==============================] - 1s 162ms/step - loss: 2.7776e-04 - mae: 0.0133 - val_loss: 0.0018 - val_mae: 0.0324\n",
      "Epoch 1453/2000\n",
      "5/5 [==============================] - 1s 151ms/step - loss: 3.0503e-04 - mae: 0.0139 - val_loss: 0.0016 - val_mae: 0.0311\n",
      "Epoch 1454/2000\n",
      "5/5 [==============================] - 1s 149ms/step - loss: 3.0578e-04 - mae: 0.0140 - val_loss: 0.0016 - val_mae: 0.0305\n",
      "Epoch 1455/2000\n",
      "5/5 [==============================] - 1s 148ms/step - loss: 2.9850e-04 - mae: 0.0137 - val_loss: 0.0015 - val_mae: 0.0295\n",
      "Epoch 1456/2000\n",
      "5/5 [==============================] - 1s 147ms/step - loss: 2.4844e-04 - mae: 0.0126 - val_loss: 0.0016 - val_mae: 0.0303\n",
      "Epoch 1457/2000\n",
      "5/5 [==============================] - 1s 137ms/step - loss: 2.4728e-04 - mae: 0.0127 - val_loss: 0.0017 - val_mae: 0.0315\n",
      "Epoch 1458/2000\n",
      "5/5 [==============================] - 1s 137ms/step - loss: 2.4891e-04 - mae: 0.0127 - val_loss: 0.0016 - val_mae: 0.0304\n",
      "Epoch 1459/2000\n",
      "5/5 [==============================] - 1s 149ms/step - loss: 2.2419e-04 - mae: 0.0120 - val_loss: 0.0015 - val_mae: 0.0298\n",
      "Epoch 1460/2000\n",
      "5/5 [==============================] - 1s 152ms/step - loss: 1.9613e-04 - mae: 0.0111 - val_loss: 0.0015 - val_mae: 0.0300\n",
      "Epoch 1461/2000\n",
      "5/5 [==============================] - 1s 141ms/step - loss: 1.9316e-04 - mae: 0.0111 - val_loss: 0.0015 - val_mae: 0.0301\n",
      "Epoch 1462/2000\n",
      "5/5 [==============================] - ETA: 0s - loss: 1.9320e-04 - mae: 0.0110INFO:tensorflow:Assets written to: C:\\Users\\PARK\\Documents\\LAB\\RNN vs LSTM\\FInal Example\\wandb\\run-20221015_190827-1kgjbxck\\files\\model-best\\assets\n"
     ]
    },
    {
     "name": "stderr",
     "output_type": "stream",
     "text": [
      "\u001b[34m\u001b[1mwandb\u001b[0m: Adding directory to artifact (C:\\Users\\PARK\\Documents\\LAB\\RNN vs LSTM\\FInal Example\\wandb\\run-20221015_190827-1kgjbxck\\files\\model-best)... Done. 0.0s\n"
     ]
    },
    {
     "name": "stdout",
     "output_type": "stream",
     "text": [
      "5/5 [==============================] - 2s 490ms/step - loss: 1.9320e-04 - mae: 0.0110 - val_loss: 0.0014 - val_mae: 0.0291\n",
      "Epoch 1463/2000\n",
      "5/5 [==============================] - 1s 165ms/step - loss: 1.8111e-04 - mae: 0.0107 - val_loss: 0.0015 - val_mae: 0.0299\n",
      "Epoch 1464/2000\n",
      "5/5 [==============================] - 1s 154ms/step - loss: 1.7299e-04 - mae: 0.0104 - val_loss: 0.0016 - val_mae: 0.0305\n",
      "Epoch 1465/2000\n",
      "5/5 [==============================] - 1s 150ms/step - loss: 1.5004e-04 - mae: 0.0097 - val_loss: 0.0015 - val_mae: 0.0298\n",
      "Epoch 1466/2000\n",
      "5/5 [==============================] - 1s 149ms/step - loss: 1.5382e-04 - mae: 0.0099 - val_loss: 0.0015 - val_mae: 0.0299\n",
      "Epoch 1467/2000\n",
      "5/5 [==============================] - 1s 141ms/step - loss: 1.6676e-04 - mae: 0.0103 - val_loss: 0.0015 - val_mae: 0.0292\n",
      "Epoch 1468/2000\n",
      "5/5 [==============================] - 1s 137ms/step - loss: 1.9445e-04 - mae: 0.0110 - val_loss: 0.0016 - val_mae: 0.0299\n",
      "Epoch 1469/2000\n",
      "5/5 [==============================] - 1s 145ms/step - loss: 2.8543e-04 - mae: 0.0134 - val_loss: 0.0016 - val_mae: 0.0307\n",
      "Epoch 1470/2000\n",
      "5/5 [==============================] - 1s 152ms/step - loss: 2.9084e-04 - mae: 0.0137 - val_loss: 0.0017 - val_mae: 0.0322\n",
      "Epoch 1471/2000\n",
      "5/5 [==============================] - 1s 150ms/step - loss: 2.9508e-04 - mae: 0.0137 - val_loss: 0.0016 - val_mae: 0.0308\n",
      "Epoch 1472/2000\n",
      "5/5 [==============================] - 1s 153ms/step - loss: 2.7291e-04 - mae: 0.0132 - val_loss: 0.0015 - val_mae: 0.0302\n",
      "Epoch 1473/2000\n",
      "5/5 [==============================] - 1s 145ms/step - loss: 2.6119e-04 - mae: 0.0129 - val_loss: 0.0015 - val_mae: 0.0297\n",
      "Epoch 1474/2000\n",
      "5/5 [==============================] - 1s 137ms/step - loss: 2.1561e-04 - mae: 0.0117 - val_loss: 0.0017 - val_mae: 0.0314\n",
      "Epoch 1475/2000\n",
      "5/5 [==============================] - 1s 134ms/step - loss: 2.7657e-04 - mae: 0.0132 - val_loss: 0.0016 - val_mae: 0.0309\n",
      "Epoch 1476/2000\n",
      "5/5 [==============================] - 1s 145ms/step - loss: 3.5091e-04 - mae: 0.0152 - val_loss: 0.0017 - val_mae: 0.0317\n",
      "Epoch 1477/2000\n",
      "5/5 [==============================] - 1s 156ms/step - loss: 4.2692e-04 - mae: 0.0164 - val_loss: 0.0018 - val_mae: 0.0325\n",
      "Epoch 1478/2000\n",
      "5/5 [==============================] - 1s 147ms/step - loss: 4.6380e-04 - mae: 0.0172 - val_loss: 0.0019 - val_mae: 0.0343\n",
      "Epoch 1479/2000\n",
      "5/5 [==============================] - 1s 135ms/step - loss: 5.0683e-04 - mae: 0.0178 - val_loss: 0.0017 - val_mae: 0.0319\n",
      "Epoch 1480/2000\n",
      "5/5 [==============================] - 1s 134ms/step - loss: 3.8327e-04 - mae: 0.0156 - val_loss: 0.0018 - val_mae: 0.0326\n",
      "Epoch 1481/2000\n",
      "5/5 [==============================] - 1s 145ms/step - loss: 3.9020e-04 - mae: 0.0156 - val_loss: 0.0016 - val_mae: 0.0310\n",
      "Epoch 1482/2000\n",
      "5/5 [==============================] - 1s 142ms/step - loss: 3.3707e-04 - mae: 0.0146 - val_loss: 0.0016 - val_mae: 0.0309\n",
      "Epoch 1483/2000\n",
      "5/5 [==============================] - 1s 136ms/step - loss: 3.1003e-04 - mae: 0.0140 - val_loss: 0.0017 - val_mae: 0.0318\n",
      "Epoch 1484/2000\n",
      "5/5 [==============================] - 1s 137ms/step - loss: 3.2070e-04 - mae: 0.0140 - val_loss: 0.0016 - val_mae: 0.0312\n",
      "Epoch 1485/2000\n",
      "5/5 [==============================] - 1s 147ms/step - loss: 2.7933e-04 - mae: 0.0133 - val_loss: 0.0016 - val_mae: 0.0305\n",
      "Epoch 1486/2000\n",
      "5/5 [==============================] - 1s 149ms/step - loss: 2.4310e-04 - mae: 0.0123 - val_loss: 0.0017 - val_mae: 0.0315\n",
      "Epoch 1487/2000\n",
      "5/5 [==============================] - 1s 143ms/step - loss: 2.8615e-04 - mae: 0.0135 - val_loss: 0.0016 - val_mae: 0.0306\n",
      "Epoch 1488/2000\n",
      "5/5 [==============================] - 1s 133ms/step - loss: 2.5852e-04 - mae: 0.0129 - val_loss: 0.0016 - val_mae: 0.0303\n",
      "Epoch 1489/2000\n",
      "5/5 [==============================] - 1s 134ms/step - loss: 2.0912e-04 - mae: 0.0117 - val_loss: 0.0015 - val_mae: 0.0296\n",
      "Epoch 1490/2000\n",
      "5/5 [==============================] - 1s 154ms/step - loss: 1.9037e-04 - mae: 0.0110 - val_loss: 0.0015 - val_mae: 0.0293\n",
      "Epoch 1491/2000\n",
      "5/5 [==============================] - 1s 145ms/step - loss: 1.8293e-04 - mae: 0.0108 - val_loss: 0.0014 - val_mae: 0.0289\n",
      "Epoch 1492/2000\n",
      "5/5 [==============================] - 1s 142ms/step - loss: 1.8259e-04 - mae: 0.0108 - val_loss: 0.0015 - val_mae: 0.0288\n",
      "Epoch 1493/2000\n",
      "5/5 [==============================] - 1s 132ms/step - loss: 2.0985e-04 - mae: 0.0114 - val_loss: 0.0017 - val_mae: 0.0316\n",
      "Epoch 1494/2000\n",
      "5/5 [==============================] - 1s 138ms/step - loss: 2.7963e-04 - mae: 0.0134 - val_loss: 0.0017 - val_mae: 0.0321\n",
      "Epoch 1495/2000\n",
      "5/5 [==============================] - 1s 150ms/step - loss: 3.0122e-04 - mae: 0.0141 - val_loss: 0.0017 - val_mae: 0.0316\n",
      "Epoch 1496/2000\n",
      "5/5 [==============================] - 1s 143ms/step - loss: 3.0932e-04 - mae: 0.0140 - val_loss: 0.0016 - val_mae: 0.0309\n",
      "Epoch 1497/2000\n",
      "5/5 [==============================] - 1s 133ms/step - loss: 2.7079e-04 - mae: 0.0130 - val_loss: 0.0015 - val_mae: 0.0295\n",
      "Epoch 1498/2000\n",
      "5/5 [==============================] - 1s 135ms/step - loss: 2.6500e-04 - mae: 0.0129 - val_loss: 0.0015 - val_mae: 0.0299\n",
      "Epoch 1499/2000\n",
      "5/5 [==============================] - 1s 142ms/step - loss: 2.7212e-04 - mae: 0.0132 - val_loss: 0.0015 - val_mae: 0.0295\n",
      "Epoch 1500/2000\n",
      "5/5 [==============================] - 1s 143ms/step - loss: 2.2667e-04 - mae: 0.0120 - val_loss: 0.0015 - val_mae: 0.0301\n",
      "Epoch 1501/2000\n",
      "4/5 [=======================>......] - ETA: 0s - loss: 1.8838e-04 - mae: 0.0109INFO:tensorflow:Assets written to: C:\\Users\\PARK\\Documents\\LAB\\RNN vs LSTM\\FInal Example\\wandb\\run-20221015_190827-1kgjbxck\\files\\model-best\\assets\n"
     ]
    },
    {
     "name": "stderr",
     "output_type": "stream",
     "text": [
      "\u001b[34m\u001b[1mwandb\u001b[0m: Adding directory to artifact (C:\\Users\\PARK\\Documents\\LAB\\RNN vs LSTM\\FInal Example\\wandb\\run-20221015_190827-1kgjbxck\\files\\model-best)... Done. 0.0s\n"
     ]
    },
    {
     "name": "stdout",
     "output_type": "stream",
     "text": [
      "5/5 [==============================] - 2s 465ms/step - loss: 1.9072e-04 - mae: 0.0110 - val_loss: 0.0014 - val_mae: 0.0287\n",
      "Epoch 1502/2000\n",
      "5/5 [==============================] - 1s 161ms/step - loss: 1.8534e-04 - mae: 0.0108 - val_loss: 0.0014 - val_mae: 0.0290\n",
      "Epoch 1503/2000\n",
      "5/5 [==============================] - 1s 152ms/step - loss: 1.8445e-04 - mae: 0.0108 - val_loss: 0.0015 - val_mae: 0.0305\n",
      "Epoch 1504/2000\n",
      "5/5 [==============================] - 1s 151ms/step - loss: 1.9076e-04 - mae: 0.0110 - val_loss: 0.0015 - val_mae: 0.0293\n",
      "Epoch 1505/2000\n",
      "5/5 [==============================] - 1s 144ms/step - loss: 2.0464e-04 - mae: 0.0114 - val_loss: 0.0015 - val_mae: 0.0296\n",
      "Epoch 1506/2000\n",
      "5/5 [==============================] - ETA: 0s - loss: 2.5272e-04 - mae: 0.0126INFO:tensorflow:Assets written to: C:\\Users\\PARK\\Documents\\LAB\\RNN vs LSTM\\FInal Example\\wandb\\run-20221015_190827-1kgjbxck\\files\\model-best\\assets\n"
     ]
    },
    {
     "name": "stderr",
     "output_type": "stream",
     "text": [
      "\u001b[34m\u001b[1mwandb\u001b[0m: Adding directory to artifact (C:\\Users\\PARK\\Documents\\LAB\\RNN vs LSTM\\FInal Example\\wandb\\run-20221015_190827-1kgjbxck\\files\\model-best)... Done. 0.0s\n"
     ]
    },
    {
     "name": "stdout",
     "output_type": "stream",
     "text": [
      "5/5 [==============================] - 2s 493ms/step - loss: 2.5272e-04 - mae: 0.0126 - val_loss: 0.0014 - val_mae: 0.0286\n",
      "Epoch 1507/2000\n",
      "5/5 [==============================] - 1s 162ms/step - loss: 2.3610e-04 - mae: 0.0123 - val_loss: 0.0015 - val_mae: 0.0296\n",
      "Epoch 1508/2000\n",
      "5/5 [==============================] - 1s 145ms/step - loss: 1.9244e-04 - mae: 0.0111 - val_loss: 0.0015 - val_mae: 0.0302\n",
      "Epoch 1509/2000\n",
      "5/5 [==============================] - 1s 143ms/step - loss: 1.9125e-04 - mae: 0.0109 - val_loss: 0.0015 - val_mae: 0.0304\n",
      "Epoch 1510/2000\n",
      "5/5 [==============================] - ETA: 0s - loss: 1.8738e-04 - mae: 0.0107INFO:tensorflow:Assets written to: C:\\Users\\PARK\\Documents\\LAB\\RNN vs LSTM\\FInal Example\\wandb\\run-20221015_190827-1kgjbxck\\files\\model-best\\assets\n"
     ]
    },
    {
     "name": "stderr",
     "output_type": "stream",
     "text": [
      "\u001b[34m\u001b[1mwandb\u001b[0m: Adding directory to artifact (C:\\Users\\PARK\\Documents\\LAB\\RNN vs LSTM\\FInal Example\\wandb\\run-20221015_190827-1kgjbxck\\files\\model-best)... Done. 0.0s\n"
     ]
    },
    {
     "name": "stdout",
     "output_type": "stream",
     "text": [
      "5/5 [==============================] - 2s 471ms/step - loss: 1.8738e-04 - mae: 0.0107 - val_loss: 0.0014 - val_mae: 0.0287\n",
      "Epoch 1511/2000\n",
      "5/5 [==============================] - ETA: 0s - loss: 1.7559e-04 - mae: 0.0105INFO:tensorflow:Assets written to: C:\\Users\\PARK\\Documents\\LAB\\RNN vs LSTM\\FInal Example\\wandb\\run-20221015_190827-1kgjbxck\\files\\model-best\\assets\n"
     ]
    },
    {
     "name": "stderr",
     "output_type": "stream",
     "text": [
      "\u001b[34m\u001b[1mwandb\u001b[0m: Adding directory to artifact (C:\\Users\\PARK\\Documents\\LAB\\RNN vs LSTM\\FInal Example\\wandb\\run-20221015_190827-1kgjbxck\\files\\model-best)... Done. 0.0s\n"
     ]
    },
    {
     "name": "stdout",
     "output_type": "stream",
     "text": [
      "5/5 [==============================] - 2s 492ms/step - loss: 1.7559e-04 - mae: 0.0105 - val_loss: 0.0014 - val_mae: 0.0288\n",
      "Epoch 1512/2000\n",
      "5/5 [==============================] - 1s 155ms/step - loss: 1.7563e-04 - mae: 0.0104 - val_loss: 0.0014 - val_mae: 0.0286\n",
      "Epoch 1513/2000\n",
      "5/5 [==============================] - ETA: 0s - loss: 1.5172e-04 - mae: 0.0098INFO:tensorflow:Assets written to: C:\\Users\\PARK\\Documents\\LAB\\RNN vs LSTM\\FInal Example\\wandb\\run-20221015_190827-1kgjbxck\\files\\model-best\\assets\n"
     ]
    },
    {
     "name": "stderr",
     "output_type": "stream",
     "text": [
      "\u001b[34m\u001b[1mwandb\u001b[0m: Adding directory to artifact (C:\\Users\\PARK\\Documents\\LAB\\RNN vs LSTM\\FInal Example\\wandb\\run-20221015_190827-1kgjbxck\\files\\model-best)... Done. 0.0s\n"
     ]
    },
    {
     "name": "stdout",
     "output_type": "stream",
     "text": [
      "5/5 [==============================] - 2s 512ms/step - loss: 1.5172e-04 - mae: 0.0098 - val_loss: 0.0014 - val_mae: 0.0286\n",
      "Epoch 1514/2000\n",
      "5/5 [==============================] - 1s 172ms/step - loss: 1.5058e-04 - mae: 0.0098 - val_loss: 0.0015 - val_mae: 0.0291\n",
      "Epoch 1515/2000\n",
      "5/5 [==============================] - 1s 154ms/step - loss: 1.8060e-04 - mae: 0.0106 - val_loss: 0.0015 - val_mae: 0.0298\n",
      "Epoch 1516/2000\n",
      "5/5 [==============================] - 1s 150ms/step - loss: 1.7087e-04 - mae: 0.0105 - val_loss: 0.0014 - val_mae: 0.0289\n",
      "Epoch 1517/2000\n",
      "5/5 [==============================] - ETA: 0s - loss: 1.4819e-04 - mae: 0.0097INFO:tensorflow:Assets written to: C:\\Users\\PARK\\Documents\\LAB\\RNN vs LSTM\\FInal Example\\wandb\\run-20221015_190827-1kgjbxck\\files\\model-best\\assets\n"
     ]
    },
    {
     "name": "stderr",
     "output_type": "stream",
     "text": [
      "\u001b[34m\u001b[1mwandb\u001b[0m: Adding directory to artifact (C:\\Users\\PARK\\Documents\\LAB\\RNN vs LSTM\\FInal Example\\wandb\\run-20221015_190827-1kgjbxck\\files\\model-best)... Done. 0.0s\n"
     ]
    },
    {
     "name": "stdout",
     "output_type": "stream",
     "text": [
      "5/5 [==============================] - 2s 472ms/step - loss: 1.4819e-04 - mae: 0.0097 - val_loss: 0.0014 - val_mae: 0.0282\n",
      "Epoch 1518/2000\n",
      "5/5 [==============================] - ETA: 0s - loss: 1.3211e-04 - mae: 0.0091INFO:tensorflow:Assets written to: C:\\Users\\PARK\\Documents\\LAB\\RNN vs LSTM\\FInal Example\\wandb\\run-20221015_190827-1kgjbxck\\files\\model-best\\assets\n"
     ]
    },
    {
     "name": "stderr",
     "output_type": "stream",
     "text": [
      "\u001b[34m\u001b[1mwandb\u001b[0m: Adding directory to artifact (C:\\Users\\PARK\\Documents\\LAB\\RNN vs LSTM\\FInal Example\\wandb\\run-20221015_190827-1kgjbxck\\files\\model-best)... Done. 0.0s\n"
     ]
    },
    {
     "name": "stdout",
     "output_type": "stream",
     "text": [
      "5/5 [==============================] - 2s 485ms/step - loss: 1.3211e-04 - mae: 0.0091 - val_loss: 0.0013 - val_mae: 0.0280\n",
      "Epoch 1519/2000\n",
      "5/5 [==============================] - 1s 155ms/step - loss: 1.3672e-04 - mae: 0.0093 - val_loss: 0.0014 - val_mae: 0.0283\n",
      "Epoch 1520/2000\n",
      "5/5 [==============================] - 1s 143ms/step - loss: 1.5350e-04 - mae: 0.0098 - val_loss: 0.0015 - val_mae: 0.0290\n",
      "Epoch 1521/2000\n",
      "5/5 [==============================] - 1s 139ms/step - loss: 1.7991e-04 - mae: 0.0106 - val_loss: 0.0015 - val_mae: 0.0294\n",
      "Epoch 1522/2000\n",
      "5/5 [==============================] - 1s 144ms/step - loss: 1.7223e-04 - mae: 0.0104 - val_loss: 0.0015 - val_mae: 0.0296\n",
      "Epoch 1523/2000\n",
      "5/5 [==============================] - 1s 148ms/step - loss: 1.9115e-04 - mae: 0.0111 - val_loss: 0.0015 - val_mae: 0.0298\n",
      "Epoch 1524/2000\n",
      "5/5 [==============================] - 1s 160ms/step - loss: 1.9920e-04 - mae: 0.0113 - val_loss: 0.0015 - val_mae: 0.0291\n",
      "Epoch 1525/2000\n",
      "5/5 [==============================] - 1s 148ms/step - loss: 1.6602e-04 - mae: 0.0102 - val_loss: 0.0015 - val_mae: 0.0291\n",
      "Epoch 1526/2000\n",
      "5/5 [==============================] - 1s 139ms/step - loss: 1.6931e-04 - mae: 0.0104 - val_loss: 0.0014 - val_mae: 0.0290\n",
      "Epoch 1527/2000\n",
      "5/5 [==============================] - 1s 136ms/step - loss: 1.6343e-04 - mae: 0.0101 - val_loss: 0.0014 - val_mae: 0.0289\n",
      "Epoch 1528/2000\n",
      "5/5 [==============================] - 1s 141ms/step - loss: 1.6936e-04 - mae: 0.0104 - val_loss: 0.0014 - val_mae: 0.0284\n",
      "Epoch 1529/2000\n",
      "5/5 [==============================] - 1s 142ms/step - loss: 1.7743e-04 - mae: 0.0106 - val_loss: 0.0014 - val_mae: 0.0288\n",
      "Epoch 1530/2000\n",
      "5/5 [==============================] - 1s 142ms/step - loss: 1.6802e-04 - mae: 0.0103 - val_loss: 0.0014 - val_mae: 0.0284\n",
      "Epoch 1531/2000\n",
      "5/5 [==============================] - 1s 139ms/step - loss: 1.8944e-04 - mae: 0.0110 - val_loss: 0.0015 - val_mae: 0.0294\n",
      "Epoch 1532/2000\n",
      "5/5 [==============================] - 1s 154ms/step - loss: 1.9595e-04 - mae: 0.0112 - val_loss: 0.0016 - val_mae: 0.0309\n",
      "Epoch 1533/2000\n",
      "5/5 [==============================] - 1s 146ms/step - loss: 2.2031e-04 - mae: 0.0120 - val_loss: 0.0014 - val_mae: 0.0287\n",
      "Epoch 1534/2000\n",
      "5/5 [==============================] - 1s 149ms/step - loss: 2.3755e-04 - mae: 0.0123 - val_loss: 0.0014 - val_mae: 0.0287\n",
      "Epoch 1535/2000\n",
      "5/5 [==============================] - 1s 142ms/step - loss: 2.6676e-04 - mae: 0.0130 - val_loss: 0.0014 - val_mae: 0.0291\n",
      "Epoch 1536/2000\n",
      "5/5 [==============================] - 1s 140ms/step - loss: 2.6780e-04 - mae: 0.0130 - val_loss: 0.0015 - val_mae: 0.0291\n",
      "Epoch 1537/2000\n",
      "5/5 [==============================] - 1s 135ms/step - loss: 3.2517e-04 - mae: 0.0144 - val_loss: 0.0017 - val_mae: 0.0321\n",
      "Epoch 1538/2000\n",
      "5/5 [==============================] - 1s 141ms/step - loss: 3.6307e-04 - mae: 0.0152 - val_loss: 0.0015 - val_mae: 0.0295\n",
      "Epoch 1539/2000\n",
      "5/5 [==============================] - 1s 142ms/step - loss: 3.0826e-04 - mae: 0.0139 - val_loss: 0.0015 - val_mae: 0.0304\n",
      "Epoch 1540/2000\n",
      "5/5 [==============================] - 1s 135ms/step - loss: 3.4277e-04 - mae: 0.0147 - val_loss: 0.0015 - val_mae: 0.0305\n",
      "Epoch 1541/2000\n",
      "5/5 [==============================] - 1s 135ms/step - loss: 3.7649e-04 - mae: 0.0153 - val_loss: 0.0016 - val_mae: 0.0306\n",
      "Epoch 1542/2000\n",
      "5/5 [==============================] - 1s 150ms/step - loss: 3.7795e-04 - mae: 0.0153 - val_loss: 0.0017 - val_mae: 0.0323\n",
      "Epoch 1543/2000\n",
      "5/5 [==============================] - 1s 149ms/step - loss: 3.6572e-04 - mae: 0.0153 - val_loss: 0.0016 - val_mae: 0.0315\n",
      "Epoch 1544/2000\n",
      "5/5 [==============================] - 1s 152ms/step - loss: 3.6171e-04 - mae: 0.0150 - val_loss: 0.0017 - val_mae: 0.0313\n",
      "Epoch 1545/2000\n",
      "5/5 [==============================] - 1s 140ms/step - loss: 3.4635e-04 - mae: 0.0149 - val_loss: 0.0015 - val_mae: 0.0301\n",
      "Epoch 1546/2000\n",
      "5/5 [==============================] - 1s 135ms/step - loss: 3.1467e-04 - mae: 0.0141 - val_loss: 0.0015 - val_mae: 0.0297\n",
      "Epoch 1547/2000\n",
      "5/5 [==============================] - 1s 134ms/step - loss: 2.4780e-04 - mae: 0.0124 - val_loss: 0.0014 - val_mae: 0.0289\n",
      "Epoch 1548/2000\n",
      "5/5 [==============================] - 1s 144ms/step - loss: 1.9930e-04 - mae: 0.0112 - val_loss: 0.0014 - val_mae: 0.0285\n",
      "Epoch 1549/2000\n",
      "5/5 [==============================] - 1s 150ms/step - loss: 2.0483e-04 - mae: 0.0112 - val_loss: 0.0014 - val_mae: 0.0292\n",
      "Epoch 1550/2000\n",
      "5/5 [==============================] - 1s 150ms/step - loss: 2.0707e-04 - mae: 0.0115 - val_loss: 0.0015 - val_mae: 0.0293\n",
      "Epoch 1551/2000\n",
      "5/5 [==============================] - 1s 146ms/step - loss: 2.2269e-04 - mae: 0.0119 - val_loss: 0.0014 - val_mae: 0.0290\n",
      "Epoch 1552/2000\n",
      "5/5 [==============================] - 1s 138ms/step - loss: 2.0957e-04 - mae: 0.0115 - val_loss: 0.0015 - val_mae: 0.0293\n",
      "Epoch 1553/2000\n",
      "5/5 [==============================] - 1s 136ms/step - loss: 2.5752e-04 - mae: 0.0129 - val_loss: 0.0015 - val_mae: 0.0295\n",
      "Epoch 1554/2000\n",
      "5/5 [==============================] - 1s 148ms/step - loss: 2.5316e-04 - mae: 0.0127 - val_loss: 0.0014 - val_mae: 0.0288\n",
      "Epoch 1555/2000\n",
      "5/5 [==============================] - 1s 141ms/step - loss: 2.4611e-04 - mae: 0.0125 - val_loss: 0.0014 - val_mae: 0.0291\n",
      "Epoch 1556/2000\n",
      "5/5 [==============================] - 1s 137ms/step - loss: 2.7842e-04 - mae: 0.0133 - val_loss: 0.0016 - val_mae: 0.0310\n",
      "Epoch 1557/2000\n",
      "5/5 [==============================] - 1s 140ms/step - loss: 3.5635e-04 - mae: 0.0151 - val_loss: 0.0022 - val_mae: 0.0370\n",
      "Epoch 1558/2000\n",
      "5/5 [==============================] - 1s 153ms/step - loss: 8.0872e-04 - mae: 0.0236 - val_loss: 0.0025 - val_mae: 0.0389\n",
      "Epoch 1559/2000\n",
      "5/5 [==============================] - 1s 145ms/step - loss: 0.0011 - mae: 0.0270 - val_loss: 0.0019 - val_mae: 0.0346\n",
      "Epoch 1560/2000\n",
      "5/5 [==============================] - 1s 140ms/step - loss: 9.0323e-04 - mae: 0.0237 - val_loss: 0.0022 - val_mae: 0.0370\n",
      "Epoch 1561/2000\n",
      "5/5 [==============================] - 1s 138ms/step - loss: 0.0014 - mae: 0.0303 - val_loss: 0.0032 - val_mae: 0.0447\n",
      "Epoch 1562/2000\n",
      "5/5 [==============================] - 1s 154ms/step - loss: 0.0020 - mae: 0.0356 - val_loss: 0.0039 - val_mae: 0.0490\n",
      "Epoch 1563/2000\n",
      "5/5 [==============================] - 1s 153ms/step - loss: 0.0020 - mae: 0.0349 - val_loss: 0.0027 - val_mae: 0.0411\n",
      "Epoch 1564/2000\n",
      "5/5 [==============================] - 1s 145ms/step - loss: 0.0019 - mae: 0.0341 - val_loss: 0.0024 - val_mae: 0.0380\n",
      "Epoch 1565/2000\n",
      "5/5 [==============================] - 1s 136ms/step - loss: 0.0015 - mae: 0.0311 - val_loss: 0.0028 - val_mae: 0.0414\n",
      "Epoch 1566/2000\n",
      "5/5 [==============================] - 1s 138ms/step - loss: 0.0015 - mae: 0.0306 - val_loss: 0.0030 - val_mae: 0.0430\n",
      "Epoch 1567/2000\n",
      "5/5 [==============================] - 1s 148ms/step - loss: 0.0013 - mae: 0.0280 - val_loss: 0.0025 - val_mae: 0.0396\n",
      "Epoch 1568/2000\n",
      "5/5 [==============================] - 1s 157ms/step - loss: 0.0013 - mae: 0.0291 - val_loss: 0.0022 - val_mae: 0.0372\n",
      "Epoch 1569/2000\n",
      "5/5 [==============================] - 1s 157ms/step - loss: 0.0011 - mae: 0.0258 - val_loss: 0.0025 - val_mae: 0.0394\n",
      "Epoch 1570/2000\n",
      "5/5 [==============================] - 1s 138ms/step - loss: 0.0010 - mae: 0.0252 - val_loss: 0.0024 - val_mae: 0.0386\n",
      "Epoch 1571/2000\n",
      "5/5 [==============================] - 1s 140ms/step - loss: 9.3481e-04 - mae: 0.0244 - val_loss: 0.0022 - val_mae: 0.0362\n",
      "Epoch 1572/2000\n",
      "5/5 [==============================] - 1s 149ms/step - loss: 8.5681e-04 - mae: 0.0233 - val_loss: 0.0018 - val_mae: 0.0326\n",
      "Epoch 1573/2000\n",
      "5/5 [==============================] - 1s 150ms/step - loss: 6.4937e-04 - mae: 0.0202 - val_loss: 0.0019 - val_mae: 0.0343\n",
      "Epoch 1574/2000\n",
      "5/5 [==============================] - 1s 141ms/step - loss: 6.0765e-04 - mae: 0.0196 - val_loss: 0.0017 - val_mae: 0.0321\n",
      "Epoch 1575/2000\n",
      "5/5 [==============================] - 1s 134ms/step - loss: 5.6216e-04 - mae: 0.0189 - val_loss: 0.0019 - val_mae: 0.0351\n",
      "Epoch 1576/2000\n",
      "5/5 [==============================] - 1s 135ms/step - loss: 5.2562e-04 - mae: 0.0185 - val_loss: 0.0017 - val_mae: 0.0318\n",
      "Epoch 1577/2000\n"
     ]
    },
    {
     "name": "stdout",
     "output_type": "stream",
     "text": [
      "5/5 [==============================] - 1s 144ms/step - loss: 3.5872e-04 - mae: 0.0150 - val_loss: 0.0016 - val_mae: 0.0307\n",
      "Epoch 1578/2000\n",
      "5/5 [==============================] - 1s 145ms/step - loss: 3.0726e-04 - mae: 0.0138 - val_loss: 0.0015 - val_mae: 0.0295\n",
      "Epoch 1579/2000\n",
      "5/5 [==============================] - 1s 136ms/step - loss: 2.5740e-04 - mae: 0.0127 - val_loss: 0.0015 - val_mae: 0.0301\n",
      "Epoch 1580/2000\n",
      "5/5 [==============================] - 1s 135ms/step - loss: 2.5274e-04 - mae: 0.0127 - val_loss: 0.0014 - val_mae: 0.0293\n",
      "Epoch 1581/2000\n",
      "5/5 [==============================] - 1s 153ms/step - loss: 2.2763e-04 - mae: 0.0119 - val_loss: 0.0015 - val_mae: 0.0294\n",
      "Epoch 1582/2000\n",
      "5/5 [==============================] - 1s 145ms/step - loss: 2.3479e-04 - mae: 0.0123 - val_loss: 0.0014 - val_mae: 0.0287\n",
      "Epoch 1583/2000\n",
      "5/5 [==============================] - 1s 138ms/step - loss: 2.6046e-04 - mae: 0.0129 - val_loss: 0.0015 - val_mae: 0.0295\n",
      "Epoch 1584/2000\n",
      "5/5 [==============================] - 1s 145ms/step - loss: 2.4397e-04 - mae: 0.0125 - val_loss: 0.0016 - val_mae: 0.0305\n",
      "Epoch 1585/2000\n",
      "5/5 [==============================] - 1s 141ms/step - loss: 2.4260e-04 - mae: 0.0124 - val_loss: 0.0016 - val_mae: 0.0305\n",
      "Epoch 1586/2000\n",
      "5/5 [==============================] - 1s 140ms/step - loss: 2.8225e-04 - mae: 0.0133 - val_loss: 0.0016 - val_mae: 0.0305\n",
      "Epoch 1587/2000\n",
      "5/5 [==============================] - 1s 133ms/step - loss: 2.5830e-04 - mae: 0.0128 - val_loss: 0.0015 - val_mae: 0.0295\n",
      "Epoch 1588/2000\n",
      "5/5 [==============================] - 1s 136ms/step - loss: 2.4968e-04 - mae: 0.0126 - val_loss: 0.0016 - val_mae: 0.0303\n",
      "Epoch 1589/2000\n",
      "5/5 [==============================] - 1s 143ms/step - loss: 2.6634e-04 - mae: 0.0130 - val_loss: 0.0015 - val_mae: 0.0298\n",
      "Epoch 1590/2000\n",
      "5/5 [==============================] - 1s 140ms/step - loss: 2.7957e-04 - mae: 0.0133 - val_loss: 0.0014 - val_mae: 0.0283\n",
      "Epoch 1591/2000\n",
      "5/5 [==============================] - 1s 136ms/step - loss: 2.9018e-04 - mae: 0.0135 - val_loss: 0.0016 - val_mae: 0.0305\n",
      "Epoch 1592/2000\n",
      "5/5 [==============================] - 1s 133ms/step - loss: 4.4888e-04 - mae: 0.0169 - val_loss: 0.0018 - val_mae: 0.0323\n",
      "Epoch 1593/2000\n",
      "5/5 [==============================] - 1s 144ms/step - loss: 4.9761e-04 - mae: 0.0178 - val_loss: 0.0015 - val_mae: 0.0300\n",
      "Epoch 1594/2000\n",
      "5/5 [==============================] - 1s 143ms/step - loss: 3.5080e-04 - mae: 0.0149 - val_loss: 0.0016 - val_mae: 0.0308\n",
      "Epoch 1595/2000\n",
      "5/5 [==============================] - 1s 137ms/step - loss: 3.3278e-04 - mae: 0.0146 - val_loss: 0.0014 - val_mae: 0.0290\n",
      "Epoch 1596/2000\n",
      "5/5 [==============================] - 1s 135ms/step - loss: 2.6199e-04 - mae: 0.0129 - val_loss: 0.0014 - val_mae: 0.0289\n",
      "Epoch 1597/2000\n",
      "5/5 [==============================] - 1s 146ms/step - loss: 2.1962e-04 - mae: 0.0119 - val_loss: 0.0015 - val_mae: 0.0297\n",
      "Epoch 1598/2000\n",
      "5/5 [==============================] - 1s 150ms/step - loss: 2.1251e-04 - mae: 0.0115 - val_loss: 0.0014 - val_mae: 0.0284\n",
      "Epoch 1599/2000\n",
      "5/5 [==============================] - 1s 142ms/step - loss: 1.7202e-04 - mae: 0.0104 - val_loss: 0.0014 - val_mae: 0.0288\n",
      "Epoch 1600/2000\n",
      "5/5 [==============================] - 1s 137ms/step - loss: 1.5596e-04 - mae: 0.0099 - val_loss: 0.0013 - val_mae: 0.0279\n",
      "Epoch 1601/2000\n",
      "5/5 [==============================] - ETA: 0s - loss: 1.3601e-04 - mae: 0.0093INFO:tensorflow:Assets written to: C:\\Users\\PARK\\Documents\\LAB\\RNN vs LSTM\\FInal Example\\wandb\\run-20221015_190827-1kgjbxck\\files\\model-best\\assets\n"
     ]
    },
    {
     "name": "stderr",
     "output_type": "stream",
     "text": [
      "\u001b[34m\u001b[1mwandb\u001b[0m: Adding directory to artifact (C:\\Users\\PARK\\Documents\\LAB\\RNN vs LSTM\\FInal Example\\wandb\\run-20221015_190827-1kgjbxck\\files\\model-best)... Done. 0.0s\n"
     ]
    },
    {
     "name": "stdout",
     "output_type": "stream",
     "text": [
      "5/5 [==============================] - 2s 498ms/step - loss: 1.3601e-04 - mae: 0.0093 - val_loss: 0.0013 - val_mae: 0.0280\n",
      "Epoch 1602/2000\n",
      "5/5 [==============================] - 1s 164ms/step - loss: 1.3510e-04 - mae: 0.0093 - val_loss: 0.0014 - val_mae: 0.0284\n",
      "Epoch 1603/2000\n",
      "5/5 [==============================] - 1s 152ms/step - loss: 1.2794e-04 - mae: 0.0090 - val_loss: 0.0014 - val_mae: 0.0281\n",
      "Epoch 1604/2000\n",
      "5/5 [==============================] - 1s 150ms/step - loss: 1.5068e-04 - mae: 0.0097 - val_loss: 0.0014 - val_mae: 0.0284\n",
      "Epoch 1605/2000\n",
      "5/5 [==============================] - 1s 148ms/step - loss: 1.7995e-04 - mae: 0.0106 - val_loss: 0.0013 - val_mae: 0.0281\n",
      "Epoch 1606/2000\n",
      "5/5 [==============================] - 1s 141ms/step - loss: 1.6216e-04 - mae: 0.0102 - val_loss: 0.0013 - val_mae: 0.0283\n",
      "Epoch 1607/2000\n",
      "5/5 [==============================] - 1s 146ms/step - loss: 1.4858e-04 - mae: 0.0097 - val_loss: 0.0013 - val_mae: 0.0278\n",
      "Epoch 1608/2000\n",
      "5/5 [==============================] - 1s 150ms/step - loss: 1.3049e-04 - mae: 0.0091 - val_loss: 0.0013 - val_mae: 0.0280\n",
      "Epoch 1609/2000\n",
      "5/5 [==============================] - 1s 143ms/step - loss: 1.3780e-04 - mae: 0.0093 - val_loss: 0.0013 - val_mae: 0.0280\n",
      "Epoch 1610/2000\n",
      "5/5 [==============================] - 1s 142ms/step - loss: 1.2125e-04 - mae: 0.0087 - val_loss: 0.0013 - val_mae: 0.0279\n",
      "Epoch 1611/2000\n",
      "4/5 [=======================>......] - ETA: 0s - loss: 1.2028e-04 - mae: 0.0088INFO:tensorflow:Assets written to: C:\\Users\\PARK\\Documents\\LAB\\RNN vs LSTM\\FInal Example\\wandb\\run-20221015_190827-1kgjbxck\\files\\model-best\\assets\n"
     ]
    },
    {
     "name": "stderr",
     "output_type": "stream",
     "text": [
      "\u001b[34m\u001b[1mwandb\u001b[0m: Adding directory to artifact (C:\\Users\\PARK\\Documents\\LAB\\RNN vs LSTM\\FInal Example\\wandb\\run-20221015_190827-1kgjbxck\\files\\model-best)... Done. 0.0s\n"
     ]
    },
    {
     "name": "stdout",
     "output_type": "stream",
     "text": [
      "5/5 [==============================] - 2s 463ms/step - loss: 1.1855e-04 - mae: 0.0087 - val_loss: 0.0013 - val_mae: 0.0274\n",
      "Epoch 1612/2000\n",
      "5/5 [==============================] - ETA: 0s - loss: 1.1794e-04 - mae: 0.0086INFO:tensorflow:Assets written to: C:\\Users\\PARK\\Documents\\LAB\\RNN vs LSTM\\FInal Example\\wandb\\run-20221015_190827-1kgjbxck\\files\\model-best\\assets\n"
     ]
    },
    {
     "name": "stderr",
     "output_type": "stream",
     "text": [
      "\u001b[34m\u001b[1mwandb\u001b[0m: Adding directory to artifact (C:\\Users\\PARK\\Documents\\LAB\\RNN vs LSTM\\FInal Example\\wandb\\run-20221015_190827-1kgjbxck\\files\\model-best)... Done. 0.0s\n"
     ]
    },
    {
     "name": "stdout",
     "output_type": "stream",
     "text": [
      "5/5 [==============================] - 2s 479ms/step - loss: 1.1794e-04 - mae: 0.0086 - val_loss: 0.0013 - val_mae: 0.0275\n",
      "Epoch 1613/2000\n",
      "5/5 [==============================] - ETA: 0s - loss: 1.0182e-04 - mae: 0.0080INFO:tensorflow:Assets written to: C:\\Users\\PARK\\Documents\\LAB\\RNN vs LSTM\\FInal Example\\wandb\\run-20221015_190827-1kgjbxck\\files\\model-best\\assets\n"
     ]
    },
    {
     "name": "stderr",
     "output_type": "stream",
     "text": [
      "\u001b[34m\u001b[1mwandb\u001b[0m: Adding directory to artifact (C:\\Users\\PARK\\Documents\\LAB\\RNN vs LSTM\\FInal Example\\wandb\\run-20221015_190827-1kgjbxck\\files\\model-best)... Done. 0.0s\n"
     ]
    },
    {
     "name": "stdout",
     "output_type": "stream",
     "text": [
      "5/5 [==============================] - 2s 511ms/step - loss: 1.0182e-04 - mae: 0.0080 - val_loss: 0.0013 - val_mae: 0.0276\n",
      "Epoch 1614/2000\n",
      "5/5 [==============================] - 1s 175ms/step - loss: 1.0954e-04 - mae: 0.0083 - val_loss: 0.0013 - val_mae: 0.0274\n",
      "Epoch 1615/2000\n",
      "5/5 [==============================] - 1s 151ms/step - loss: 1.0707e-04 - mae: 0.0083 - val_loss: 0.0013 - val_mae: 0.0276\n",
      "Epoch 1616/2000\n",
      "5/5 [==============================] - ETA: 0s - loss: 1.0524e-04 - mae: 0.0082INFO:tensorflow:Assets written to: C:\\Users\\PARK\\Documents\\LAB\\RNN vs LSTM\\FInal Example\\wandb\\run-20221015_190827-1kgjbxck\\files\\model-best\\assets\n"
     ]
    },
    {
     "name": "stderr",
     "output_type": "stream",
     "text": [
      "\u001b[34m\u001b[1mwandb\u001b[0m: Adding directory to artifact (C:\\Users\\PARK\\Documents\\LAB\\RNN vs LSTM\\FInal Example\\wandb\\run-20221015_190827-1kgjbxck\\files\\model-best)... Done. 0.0s\n"
     ]
    },
    {
     "name": "stdout",
     "output_type": "stream",
     "text": [
      "5/5 [==============================] - 2s 473ms/step - loss: 1.0524e-04 - mae: 0.0082 - val_loss: 0.0013 - val_mae: 0.0272\n",
      "Epoch 1617/2000\n",
      "5/5 [==============================] - 1s 165ms/step - loss: 1.2400e-04 - mae: 0.0089 - val_loss: 0.0014 - val_mae: 0.0283\n",
      "Epoch 1618/2000\n",
      "5/5 [==============================] - 1s 153ms/step - loss: 1.4156e-04 - mae: 0.0096 - val_loss: 0.0013 - val_mae: 0.0279\n",
      "Epoch 1619/2000\n",
      "5/5 [==============================] - ETA: 0s - loss: 1.2761e-04 - mae: 0.0090INFO:tensorflow:Assets written to: C:\\Users\\PARK\\Documents\\LAB\\RNN vs LSTM\\FInal Example\\wandb\\run-20221015_190827-1kgjbxck\\files\\model-best\\assets\n"
     ]
    },
    {
     "name": "stderr",
     "output_type": "stream",
     "text": [
      "\u001b[34m\u001b[1mwandb\u001b[0m: Adding directory to artifact (C:\\Users\\PARK\\Documents\\LAB\\RNN vs LSTM\\FInal Example\\wandb\\run-20221015_190827-1kgjbxck\\files\\model-best)... Done. 0.0s\n"
     ]
    },
    {
     "name": "stdout",
     "output_type": "stream",
     "text": [
      "5/5 [==============================] - 2s 498ms/step - loss: 1.2761e-04 - mae: 0.0090 - val_loss: 0.0013 - val_mae: 0.0273\n",
      "Epoch 1620/2000\n",
      "5/5 [==============================] - ETA: 0s - loss: 1.1986e-04 - mae: 0.0087INFO:tensorflow:Assets written to: C:\\Users\\PARK\\Documents\\LAB\\RNN vs LSTM\\FInal Example\\wandb\\run-20221015_190827-1kgjbxck\\files\\model-best\\assets\n"
     ]
    },
    {
     "name": "stderr",
     "output_type": "stream",
     "text": [
      "\u001b[34m\u001b[1mwandb\u001b[0m: Adding directory to artifact (C:\\Users\\PARK\\Documents\\LAB\\RNN vs LSTM\\FInal Example\\wandb\\run-20221015_190827-1kgjbxck\\files\\model-best)... Done. 0.0s\n"
     ]
    },
    {
     "name": "stdout",
     "output_type": "stream",
     "text": [
      "5/5 [==============================] - 2s 505ms/step - loss: 1.1986e-04 - mae: 0.0087 - val_loss: 0.0013 - val_mae: 0.0272\n",
      "Epoch 1621/2000\n",
      "5/5 [==============================] - 1s 156ms/step - loss: 1.1082e-04 - mae: 0.0083 - val_loss: 0.0013 - val_mae: 0.0272\n",
      "Epoch 1622/2000\n",
      "5/5 [==============================] - 1s 159ms/step - loss: 1.1039e-04 - mae: 0.0083 - val_loss: 0.0013 - val_mae: 0.0275\n",
      "Epoch 1623/2000\n",
      "5/5 [==============================] - 1s 145ms/step - loss: 1.1673e-04 - mae: 0.0086 - val_loss: 0.0013 - val_mae: 0.0276\n",
      "Epoch 1624/2000\n",
      "5/5 [==============================] - 1s 135ms/step - loss: 1.4634e-04 - mae: 0.0097 - val_loss: 0.0014 - val_mae: 0.0282\n",
      "Epoch 1625/2000\n",
      "5/5 [==============================] - 1s 135ms/step - loss: 1.1896e-04 - mae: 0.0086 - val_loss: 0.0013 - val_mae: 0.0273\n",
      "Epoch 1626/2000\n",
      "5/5 [==============================] - 1s 141ms/step - loss: 1.2012e-04 - mae: 0.0086 - val_loss: 0.0013 - val_mae: 0.0278\n",
      "Epoch 1627/2000\n",
      "5/5 [==============================] - 1s 138ms/step - loss: 1.3152e-04 - mae: 0.0091 - val_loss: 0.0013 - val_mae: 0.0276\n",
      "Epoch 1628/2000\n",
      "5/5 [==============================] - 1s 136ms/step - loss: 1.3439e-04 - mae: 0.0093 - val_loss: 0.0013 - val_mae: 0.0276\n",
      "Epoch 1629/2000\n",
      "5/5 [==============================] - 1s 136ms/step - loss: 1.4450e-04 - mae: 0.0095 - val_loss: 0.0014 - val_mae: 0.0278\n",
      "Epoch 1630/2000\n",
      "5/5 [==============================] - 1s 144ms/step - loss: 1.6324e-04 - mae: 0.0102 - val_loss: 0.0014 - val_mae: 0.0285\n",
      "Epoch 1631/2000\n",
      "5/5 [==============================] - 1s 149ms/step - loss: 1.4613e-04 - mae: 0.0096 - val_loss: 0.0014 - val_mae: 0.0282\n",
      "Epoch 1632/2000\n",
      "5/5 [==============================] - 1s 147ms/step - loss: 1.6966e-04 - mae: 0.0103 - val_loss: 0.0013 - val_mae: 0.0270\n",
      "Epoch 1633/2000\n",
      "5/5 [==============================] - 1s 144ms/step - loss: 1.5802e-04 - mae: 0.0100 - val_loss: 0.0013 - val_mae: 0.0280\n",
      "Epoch 1634/2000\n",
      "5/5 [==============================] - 1s 136ms/step - loss: 1.8562e-04 - mae: 0.0109 - val_loss: 0.0014 - val_mae: 0.0296\n",
      "Epoch 1635/2000\n",
      "5/5 [==============================] - 1s 135ms/step - loss: 2.4301e-04 - mae: 0.0124 - val_loss: 0.0015 - val_mae: 0.0291\n",
      "Epoch 1636/2000\n",
      "5/5 [==============================] - 1s 137ms/step - loss: 2.5068e-04 - mae: 0.0125 - val_loss: 0.0014 - val_mae: 0.0293\n",
      "Epoch 1637/2000\n",
      "5/5 [==============================] - 1s 138ms/step - loss: 2.8695e-04 - mae: 0.0135 - val_loss: 0.0016 - val_mae: 0.0309\n",
      "Epoch 1638/2000\n",
      "5/5 [==============================] - 1s 135ms/step - loss: 3.2045e-04 - mae: 0.0142 - val_loss: 0.0016 - val_mae: 0.0308\n",
      "Epoch 1639/2000\n",
      "5/5 [==============================] - 1s 135ms/step - loss: 3.5123e-04 - mae: 0.0150 - val_loss: 0.0018 - val_mae: 0.0331\n",
      "Epoch 1640/2000\n",
      "5/5 [==============================] - 1s 141ms/step - loss: 3.9428e-04 - mae: 0.0157 - val_loss: 0.0015 - val_mae: 0.0301\n",
      "Epoch 1641/2000\n",
      "5/5 [==============================] - 1s 145ms/step - loss: 3.0743e-04 - mae: 0.0141 - val_loss: 0.0014 - val_mae: 0.0288\n",
      "Epoch 1642/2000\n",
      "5/5 [==============================] - 1s 139ms/step - loss: 2.6582e-04 - mae: 0.0129 - val_loss: 0.0014 - val_mae: 0.0286\n",
      "Epoch 1643/2000\n",
      "5/5 [==============================] - 1s 136ms/step - loss: 2.5641e-04 - mae: 0.0128 - val_loss: 0.0014 - val_mae: 0.0291\n",
      "Epoch 1644/2000\n",
      "5/5 [==============================] - 1s 163ms/step - loss: 2.2252e-04 - mae: 0.0120 - val_loss: 0.0015 - val_mae: 0.0299\n",
      "Epoch 1645/2000\n",
      "5/5 [==============================] - 1s 146ms/step - loss: 2.4847e-04 - mae: 0.0125 - val_loss: 0.0014 - val_mae: 0.0293\n",
      "Epoch 1646/2000\n",
      "5/5 [==============================] - 1s 144ms/step - loss: 1.9806e-04 - mae: 0.0110 - val_loss: 0.0014 - val_mae: 0.0292\n",
      "Epoch 1647/2000\n",
      "5/5 [==============================] - 1s 144ms/step - loss: 2.4631e-04 - mae: 0.0127 - val_loss: 0.0014 - val_mae: 0.0288\n",
      "Epoch 1648/2000\n",
      "5/5 [==============================] - 1s 141ms/step - loss: 2.9832e-04 - mae: 0.0138 - val_loss: 0.0015 - val_mae: 0.0296\n",
      "Epoch 1649/2000\n",
      "5/5 [==============================] - 1s 150ms/step - loss: 2.7734e-04 - mae: 0.0133 - val_loss: 0.0014 - val_mae: 0.0291\n",
      "Epoch 1650/2000\n",
      "5/5 [==============================] - 1s 142ms/step - loss: 2.6203e-04 - mae: 0.0127 - val_loss: 0.0014 - val_mae: 0.0285\n",
      "Epoch 1651/2000\n",
      "5/5 [==============================] - 1s 136ms/step - loss: 2.2649e-04 - mae: 0.0120 - val_loss: 0.0015 - val_mae: 0.0295\n",
      "Epoch 1652/2000\n",
      "5/5 [==============================] - 1s 138ms/step - loss: 2.2079e-04 - mae: 0.0118 - val_loss: 0.0014 - val_mae: 0.0285\n",
      "Epoch 1653/2000\n",
      "5/5 [==============================] - 1s 143ms/step - loss: 1.8798e-04 - mae: 0.0108 - val_loss: 0.0013 - val_mae: 0.0277\n",
      "Epoch 1654/2000\n",
      "5/5 [==============================] - 1s 143ms/step - loss: 1.7765e-04 - mae: 0.0106 - val_loss: 0.0013 - val_mae: 0.0277\n",
      "Epoch 1655/2000\n",
      "5/5 [==============================] - 1s 140ms/step - loss: 1.6729e-04 - mae: 0.0102 - val_loss: 0.0013 - val_mae: 0.0280\n",
      "Epoch 1656/2000\n",
      "5/5 [==============================] - 1s 144ms/step - loss: 1.6789e-04 - mae: 0.0103 - val_loss: 0.0013 - val_mae: 0.0274\n",
      "Epoch 1657/2000\n",
      "5/5 [==============================] - 1s 148ms/step - loss: 1.6215e-04 - mae: 0.0101 - val_loss: 0.0013 - val_mae: 0.0281\n",
      "Epoch 1658/2000\n",
      "5/5 [==============================] - 1s 148ms/step - loss: 2.1355e-04 - mae: 0.0115 - val_loss: 0.0016 - val_mae: 0.0310\n",
      "Epoch 1659/2000\n",
      "5/5 [==============================] - 1s 150ms/step - loss: 2.8434e-04 - mae: 0.0134 - val_loss: 0.0014 - val_mae: 0.0290\n",
      "Epoch 1660/2000\n",
      "5/5 [==============================] - 1s 137ms/step - loss: 2.4923e-04 - mae: 0.0125 - val_loss: 0.0015 - val_mae: 0.0294\n",
      "Epoch 1661/2000\n",
      "5/5 [==============================] - 1s 135ms/step - loss: 2.6272e-04 - mae: 0.0128 - val_loss: 0.0014 - val_mae: 0.0292\n",
      "Epoch 1662/2000\n",
      "5/5 [==============================] - 1s 147ms/step - loss: 2.1010e-04 - mae: 0.0114 - val_loss: 0.0013 - val_mae: 0.0279\n",
      "Epoch 1663/2000\n",
      "5/5 [==============================] - 1s 145ms/step - loss: 1.9977e-04 - mae: 0.0112 - val_loss: 0.0014 - val_mae: 0.0282\n",
      "Epoch 1664/2000\n",
      "5/5 [==============================] - 1s 138ms/step - loss: 2.0204e-04 - mae: 0.0113 - val_loss: 0.0013 - val_mae: 0.0279\n",
      "Epoch 1665/2000\n",
      "5/5 [==============================] - 1s 137ms/step - loss: 1.6289e-04 - mae: 0.0101 - val_loss: 0.0013 - val_mae: 0.0275\n",
      "Epoch 1666/2000\n",
      "5/5 [==============================] - 1s 150ms/step - loss: 1.4973e-04 - mae: 0.0098 - val_loss: 0.0013 - val_mae: 0.0276\n",
      "Epoch 1667/2000\n",
      "5/5 [==============================] - 1s 143ms/step - loss: 1.4768e-04 - mae: 0.0097 - val_loss: 0.0014 - val_mae: 0.0287\n",
      "Epoch 1668/2000\n",
      "5/5 [==============================] - 1s 137ms/step - loss: 1.5577e-04 - mae: 0.0100 - val_loss: 0.0013 - val_mae: 0.0274\n",
      "Epoch 1669/2000\n",
      "5/5 [==============================] - 1s 138ms/step - loss: 1.3715e-04 - mae: 0.0093 - val_loss: 0.0013 - val_mae: 0.0276\n",
      "Epoch 1670/2000\n",
      "5/5 [==============================] - 1s 155ms/step - loss: 1.4918e-04 - mae: 0.0098 - val_loss: 0.0013 - val_mae: 0.0269\n",
      "Epoch 1671/2000\n",
      "5/5 [==============================] - ETA: 0s - loss: 1.4293e-04 - mae: 0.0095INFO:tensorflow:Assets written to: C:\\Users\\PARK\\Documents\\LAB\\RNN vs LSTM\\FInal Example\\wandb\\run-20221015_190827-1kgjbxck\\files\\model-best\\assets\n"
     ]
    },
    {
     "name": "stderr",
     "output_type": "stream",
     "text": [
      "\u001b[34m\u001b[1mwandb\u001b[0m: Adding directory to artifact (C:\\Users\\PARK\\Documents\\LAB\\RNN vs LSTM\\FInal Example\\wandb\\run-20221015_190827-1kgjbxck\\files\\model-best)... Done. 0.0s\n"
     ]
    },
    {
     "name": "stdout",
     "output_type": "stream",
     "text": [
      "5/5 [==============================] - 2s 487ms/step - loss: 1.4293e-04 - mae: 0.0095 - val_loss: 0.0012 - val_mae: 0.0268\n",
      "Epoch 1672/2000\n",
      "5/5 [==============================] - 1s 157ms/step - loss: 1.4802e-04 - mae: 0.0097 - val_loss: 0.0013 - val_mae: 0.0277\n",
      "Epoch 1673/2000\n",
      "5/5 [==============================] - 1s 155ms/step - loss: 1.7649e-04 - mae: 0.0106 - val_loss: 0.0014 - val_mae: 0.0282\n",
      "Epoch 1674/2000\n",
      "5/5 [==============================] - 1s 139ms/step - loss: 1.8393e-04 - mae: 0.0108 - val_loss: 0.0013 - val_mae: 0.0270\n",
      "Epoch 1675/2000\n",
      "5/5 [==============================] - 1s 137ms/step - loss: 1.6815e-04 - mae: 0.0104 - val_loss: 0.0013 - val_mae: 0.0270\n",
      "Epoch 1676/2000\n",
      "5/5 [==============================] - 1s 137ms/step - loss: 1.6843e-04 - mae: 0.0102 - val_loss: 0.0013 - val_mae: 0.0278\n",
      "Epoch 1677/2000\n",
      "5/5 [==============================] - 1s 147ms/step - loss: 1.7721e-04 - mae: 0.0106 - val_loss: 0.0013 - val_mae: 0.0278\n",
      "Epoch 1678/2000\n",
      "5/5 [==============================] - 1s 145ms/step - loss: 1.7923e-04 - mae: 0.0107 - val_loss: 0.0014 - val_mae: 0.0279\n",
      "Epoch 1679/2000\n",
      "5/5 [==============================] - 1s 135ms/step - loss: 2.4889e-04 - mae: 0.0124 - val_loss: 0.0014 - val_mae: 0.0284\n",
      "Epoch 1680/2000\n",
      "5/5 [==============================] - 1s 136ms/step - loss: 2.5392e-04 - mae: 0.0126 - val_loss: 0.0014 - val_mae: 0.0284\n",
      "Epoch 1681/2000\n",
      "5/5 [==============================] - 1s 141ms/step - loss: 2.7130e-04 - mae: 0.0131 - val_loss: 0.0017 - val_mae: 0.0321\n",
      "Epoch 1682/2000\n",
      "5/5 [==============================] - 1s 143ms/step - loss: 3.3223e-04 - mae: 0.0145 - val_loss: 0.0018 - val_mae: 0.0331\n",
      "Epoch 1683/2000\n",
      "5/5 [==============================] - 1s 134ms/step - loss: 5.8323e-04 - mae: 0.0194 - val_loss: 0.0019 - val_mae: 0.0337\n",
      "Epoch 1684/2000\n",
      "5/5 [==============================] - 1s 154ms/step - loss: 6.4152e-04 - mae: 0.0203 - val_loss: 0.0018 - val_mae: 0.0321\n",
      "Epoch 1685/2000\n",
      "5/5 [==============================] - 1s 148ms/step - loss: 5.9317e-04 - mae: 0.0194 - val_loss: 0.0015 - val_mae: 0.0296\n",
      "Epoch 1686/2000\n",
      "5/5 [==============================] - 1s 146ms/step - loss: 4.0928e-04 - mae: 0.0160 - val_loss: 0.0014 - val_mae: 0.0290\n",
      "Epoch 1687/2000\n",
      "5/5 [==============================] - 1s 142ms/step - loss: 3.9083e-04 - mae: 0.0157 - val_loss: 0.0015 - val_mae: 0.0301\n",
      "Epoch 1688/2000\n",
      "5/5 [==============================] - 1s 139ms/step - loss: 3.6292e-04 - mae: 0.0152 - val_loss: 0.0014 - val_mae: 0.0288\n",
      "Epoch 1689/2000\n",
      "5/5 [==============================] - 1s 138ms/step - loss: 3.1900e-04 - mae: 0.0141 - val_loss: 0.0015 - val_mae: 0.0302\n",
      "Epoch 1690/2000\n",
      "5/5 [==============================] - 1s 147ms/step - loss: 3.2867e-04 - mae: 0.0145 - val_loss: 0.0015 - val_mae: 0.0293\n",
      "Epoch 1691/2000\n",
      "5/5 [==============================] - 1s 158ms/step - loss: 2.7879e-04 - mae: 0.0133 - val_loss: 0.0014 - val_mae: 0.0288\n",
      "Epoch 1692/2000\n",
      "5/5 [==============================] - 1s 154ms/step - loss: 2.4827e-04 - mae: 0.0125 - val_loss: 0.0013 - val_mae: 0.0280\n",
      "Epoch 1693/2000\n",
      "5/5 [==============================] - 1s 144ms/step - loss: 2.2140e-04 - mae: 0.0117 - val_loss: 0.0014 - val_mae: 0.0285\n",
      "Epoch 1694/2000\n",
      "5/5 [==============================] - 1s 143ms/step - loss: 2.6689e-04 - mae: 0.0129 - val_loss: 0.0016 - val_mae: 0.0316\n",
      "Epoch 1695/2000\n",
      "5/5 [==============================] - 1s 141ms/step - loss: 4.2957e-04 - mae: 0.0165 - val_loss: 0.0017 - val_mae: 0.0319\n",
      "Epoch 1696/2000\n",
      "5/5 [==============================] - 1s 143ms/step - loss: 4.5657e-04 - mae: 0.0169 - val_loss: 0.0016 - val_mae: 0.0312\n",
      "Epoch 1697/2000\n",
      "5/5 [==============================] - 1s 143ms/step - loss: 3.7409e-04 - mae: 0.0155 - val_loss: 0.0015 - val_mae: 0.0305\n",
      "Epoch 1698/2000\n",
      "5/5 [==============================] - 1s 144ms/step - loss: 3.7004e-04 - mae: 0.0152 - val_loss: 0.0015 - val_mae: 0.0296\n",
      "Epoch 1699/2000\n",
      "5/5 [==============================] - 1s 138ms/step - loss: 3.1437e-04 - mae: 0.0141 - val_loss: 0.0015 - val_mae: 0.0295\n",
      "Epoch 1700/2000\n",
      "5/5 [==============================] - 1s 152ms/step - loss: 2.8760e-04 - mae: 0.0135 - val_loss: 0.0015 - val_mae: 0.0300\n",
      "Epoch 1701/2000\n",
      "5/5 [==============================] - 1s 152ms/step - loss: 2.9288e-04 - mae: 0.0136 - val_loss: 0.0015 - val_mae: 0.0298\n",
      "Epoch 1702/2000\n",
      "5/5 [==============================] - 1s 143ms/step - loss: 3.3894e-04 - mae: 0.0148 - val_loss: 0.0016 - val_mae: 0.0305\n",
      "Epoch 1703/2000\n",
      "5/5 [==============================] - 1s 141ms/step - loss: 3.1556e-04 - mae: 0.0140 - val_loss: 0.0015 - val_mae: 0.0301\n",
      "Epoch 1704/2000\n",
      "5/5 [==============================] - 1s 150ms/step - loss: 3.0432e-04 - mae: 0.0139 - val_loss: 0.0014 - val_mae: 0.0286\n",
      "Epoch 1705/2000\n",
      "5/5 [==============================] - 1s 146ms/step - loss: 2.9335e-04 - mae: 0.0136 - val_loss: 0.0014 - val_mae: 0.0295\n",
      "Epoch 1706/2000\n",
      "5/5 [==============================] - 1s 139ms/step - loss: 3.1432e-04 - mae: 0.0140 - val_loss: 0.0014 - val_mae: 0.0288\n",
      "Epoch 1707/2000\n",
      "5/5 [==============================] - 1s 136ms/step - loss: 3.1920e-04 - mae: 0.0143 - val_loss: 0.0015 - val_mae: 0.0300\n",
      "Epoch 1708/2000\n",
      "5/5 [==============================] - 1s 154ms/step - loss: 2.9480e-04 - mae: 0.0136 - val_loss: 0.0014 - val_mae: 0.0288\n",
      "Epoch 1709/2000\n",
      "5/5 [==============================] - 1s 151ms/step - loss: 2.4065e-04 - mae: 0.0123 - val_loss: 0.0013 - val_mae: 0.0278\n",
      "Epoch 1710/2000\n",
      "5/5 [==============================] - 1s 142ms/step - loss: 2.3014e-04 - mae: 0.0120 - val_loss: 0.0013 - val_mae: 0.0283\n",
      "Epoch 1711/2000\n",
      "5/5 [==============================] - 1s 136ms/step - loss: 2.5251e-04 - mae: 0.0125 - val_loss: 0.0013 - val_mae: 0.0278\n",
      "Epoch 1712/2000\n",
      "5/5 [==============================] - 1s 140ms/step - loss: 2.5034e-04 - mae: 0.0125 - val_loss: 0.0014 - val_mae: 0.0283\n",
      "Epoch 1713/2000\n",
      "5/5 [==============================] - 1s 155ms/step - loss: 2.5544e-04 - mae: 0.0127 - val_loss: 0.0015 - val_mae: 0.0296\n",
      "Epoch 1714/2000\n",
      "5/5 [==============================] - 1s 151ms/step - loss: 2.9091e-04 - mae: 0.0135 - val_loss: 0.0014 - val_mae: 0.0297\n",
      "Epoch 1715/2000\n",
      "5/5 [==============================] - 1s 146ms/step - loss: 2.5215e-04 - mae: 0.0127 - val_loss: 0.0013 - val_mae: 0.0280\n",
      "Epoch 1716/2000\n",
      "5/5 [==============================] - 1s 141ms/step - loss: 1.8279e-04 - mae: 0.0107 - val_loss: 0.0013 - val_mae: 0.0275\n",
      "Epoch 1717/2000\n",
      "5/5 [==============================] - ETA: 0s - loss: 1.5803e-04 - mae: 0.0100INFO:tensorflow:Assets written to: C:\\Users\\PARK\\Documents\\LAB\\RNN vs LSTM\\FInal Example\\wandb\\run-20221015_190827-1kgjbxck\\files\\model-best\\assets\n"
     ]
    },
    {
     "name": "stderr",
     "output_type": "stream",
     "text": [
      "\u001b[34m\u001b[1mwandb\u001b[0m: Adding directory to artifact (C:\\Users\\PARK\\Documents\\LAB\\RNN vs LSTM\\FInal Example\\wandb\\run-20221015_190827-1kgjbxck\\files\\model-best)... Done. 0.0s\n"
     ]
    },
    {
     "name": "stdout",
     "output_type": "stream",
     "text": [
      "5/5 [==============================] - 2s 498ms/step - loss: 1.5803e-04 - mae: 0.0100 - val_loss: 0.0012 - val_mae: 0.0269\n",
      "Epoch 1718/2000\n",
      "5/5 [==============================] - ETA: 0s - loss: 1.4716e-04 - mae: 0.0096INFO:tensorflow:Assets written to: C:\\Users\\PARK\\Documents\\LAB\\RNN vs LSTM\\FInal Example\\wandb\\run-20221015_190827-1kgjbxck\\files\\model-best\\assets\n"
     ]
    },
    {
     "name": "stderr",
     "output_type": "stream",
     "text": [
      "\u001b[34m\u001b[1mwandb\u001b[0m: Adding directory to artifact (C:\\Users\\PARK\\Documents\\LAB\\RNN vs LSTM\\FInal Example\\wandb\\run-20221015_190827-1kgjbxck\\files\\model-best)... Done. 0.0s\n"
     ]
    },
    {
     "name": "stdout",
     "output_type": "stream",
     "text": [
      "5/5 [==============================] - 2s 487ms/step - loss: 1.4716e-04 - mae: 0.0096 - val_loss: 0.0012 - val_mae: 0.0268\n",
      "Epoch 1719/2000\n",
      "5/5 [==============================] - 1s 167ms/step - loss: 1.2233e-04 - mae: 0.0088 - val_loss: 0.0013 - val_mae: 0.0280\n",
      "Epoch 1720/2000\n",
      "5/5 [==============================] - 1s 155ms/step - loss: 1.7316e-04 - mae: 0.0105 - val_loss: 0.0013 - val_mae: 0.0278\n",
      "Epoch 1721/2000\n",
      "5/5 [==============================] - 1s 143ms/step - loss: 1.6680e-04 - mae: 0.0102 - val_loss: 0.0013 - val_mae: 0.0275\n",
      "Epoch 1722/2000\n",
      "5/5 [==============================] - 1s 146ms/step - loss: 1.8507e-04 - mae: 0.0108 - val_loss: 0.0013 - val_mae: 0.0275\n",
      "Epoch 1723/2000\n",
      "5/5 [==============================] - 1s 138ms/step - loss: 2.0784e-04 - mae: 0.0114 - val_loss: 0.0013 - val_mae: 0.0279\n",
      "Epoch 1724/2000\n",
      "5/5 [==============================] - 1s 149ms/step - loss: 2.3554e-04 - mae: 0.0122 - val_loss: 0.0014 - val_mae: 0.0285\n",
      "Epoch 1725/2000\n",
      "5/5 [==============================] - ETA: 0s - loss: 2.3411e-04 - mae: 0.0122INFO:tensorflow:Assets written to: C:\\Users\\PARK\\Documents\\LAB\\RNN vs LSTM\\FInal Example\\wandb\\run-20221015_190827-1kgjbxck\\files\\model-best\\assets\n"
     ]
    },
    {
     "name": "stderr",
     "output_type": "stream",
     "text": [
      "\u001b[34m\u001b[1mwandb\u001b[0m: Adding directory to artifact (C:\\Users\\PARK\\Documents\\LAB\\RNN vs LSTM\\FInal Example\\wandb\\run-20221015_190827-1kgjbxck\\files\\model-best)... Done. 0.0s\n"
     ]
    },
    {
     "name": "stdout",
     "output_type": "stream",
     "text": [
      "5/5 [==============================] - 2s 509ms/step - loss: 2.3411e-04 - mae: 0.0122 - val_loss: 0.0012 - val_mae: 0.0269\n",
      "Epoch 1726/2000\n",
      "5/5 [==============================] - 1s 167ms/step - loss: 1.9996e-04 - mae: 0.0113 - val_loss: 0.0012 - val_mae: 0.0271\n",
      "Epoch 1727/2000\n",
      "5/5 [==============================] - 1s 153ms/step - loss: 2.0060e-04 - mae: 0.0112 - val_loss: 0.0013 - val_mae: 0.0280\n",
      "Epoch 1728/2000\n",
      "5/5 [==============================] - 1s 152ms/step - loss: 2.1765e-04 - mae: 0.0117 - val_loss: 0.0013 - val_mae: 0.0275\n",
      "Epoch 1729/2000\n",
      "5/5 [==============================] - 1s 154ms/step - loss: 2.0557e-04 - mae: 0.0114 - val_loss: 0.0013 - val_mae: 0.0276\n",
      "Epoch 1730/2000\n",
      "5/5 [==============================] - 1s 141ms/step - loss: 1.8980e-04 - mae: 0.0110 - val_loss: 0.0014 - val_mae: 0.0288\n",
      "Epoch 1731/2000\n",
      "5/5 [==============================] - 1s 144ms/step - loss: 2.3721e-04 - mae: 0.0123 - val_loss: 0.0014 - val_mae: 0.0299\n",
      "Epoch 1732/2000\n",
      "5/5 [==============================] - 1s 135ms/step - loss: 2.7180e-04 - mae: 0.0132 - val_loss: 0.0013 - val_mae: 0.0277\n",
      "Epoch 1733/2000\n",
      "5/5 [==============================] - 1s 148ms/step - loss: 2.3744e-04 - mae: 0.0123 - val_loss: 0.0013 - val_mae: 0.0279\n",
      "Epoch 1734/2000\n",
      "5/5 [==============================] - 1s 157ms/step - loss: 2.0962e-04 - mae: 0.0115 - val_loss: 0.0013 - val_mae: 0.0271\n",
      "Epoch 1735/2000\n",
      "5/5 [==============================] - 1s 149ms/step - loss: 1.7903e-04 - mae: 0.0106 - val_loss: 0.0013 - val_mae: 0.0273\n",
      "Epoch 1736/2000\n",
      "5/5 [==============================] - 1s 146ms/step - loss: 1.7464e-04 - mae: 0.0107 - val_loss: 0.0013 - val_mae: 0.0275\n",
      "Epoch 1737/2000\n",
      "5/5 [==============================] - 1s 143ms/step - loss: 1.7749e-04 - mae: 0.0106 - val_loss: 0.0013 - val_mae: 0.0273\n",
      "Epoch 1738/2000\n",
      "5/5 [==============================] - 1s 141ms/step - loss: 1.7078e-04 - mae: 0.0103 - val_loss: 0.0013 - val_mae: 0.0274\n",
      "Epoch 1739/2000\n",
      "5/5 [==============================] - 1s 148ms/step - loss: 1.7000e-04 - mae: 0.0104 - val_loss: 0.0013 - val_mae: 0.0272\n",
      "Epoch 1740/2000\n",
      "5/5 [==============================] - 1s 144ms/step - loss: 1.8819e-04 - mae: 0.0108 - val_loss: 0.0014 - val_mae: 0.0280\n",
      "Epoch 1741/2000\n",
      "5/5 [==============================] - 1s 138ms/step - loss: 2.4740e-04 - mae: 0.0123 - val_loss: 0.0014 - val_mae: 0.0285\n",
      "Epoch 1742/2000\n",
      "5/5 [==============================] - 1s 138ms/step - loss: 2.2965e-04 - mae: 0.0121 - val_loss: 0.0012 - val_mae: 0.0266\n",
      "Epoch 1743/2000\n",
      "5/5 [==============================] - 1s 143ms/step - loss: 1.6482e-04 - mae: 0.0101 - val_loss: 0.0014 - val_mae: 0.0283\n",
      "Epoch 1744/2000\n",
      "5/5 [==============================] - 1s 147ms/step - loss: 3.1318e-04 - mae: 0.0143 - val_loss: 0.0013 - val_mae: 0.0284\n",
      "Epoch 1745/2000\n",
      "5/5 [==============================] - 1s 155ms/step - loss: 3.5606e-04 - mae: 0.0151 - val_loss: 0.0014 - val_mae: 0.0293\n",
      "Epoch 1746/2000\n",
      "5/5 [==============================] - 1s 146ms/step - loss: 2.8931e-04 - mae: 0.0135 - val_loss: 0.0014 - val_mae: 0.0288\n",
      "Epoch 1747/2000\n",
      "5/5 [==============================] - 1s 136ms/step - loss: 2.3675e-04 - mae: 0.0123 - val_loss: 0.0014 - val_mae: 0.0289\n",
      "Epoch 1748/2000\n",
      "5/5 [==============================] - 1s 135ms/step - loss: 2.4370e-04 - mae: 0.0124 - val_loss: 0.0013 - val_mae: 0.0276\n",
      "Epoch 1749/2000\n",
      "5/5 [==============================] - 1s 142ms/step - loss: 2.4125e-04 - mae: 0.0123 - val_loss: 0.0013 - val_mae: 0.0283\n",
      "Epoch 1750/2000\n",
      "5/5 [==============================] - 1s 153ms/step - loss: 2.4272e-04 - mae: 0.0124 - val_loss: 0.0012 - val_mae: 0.0269\n",
      "Epoch 1751/2000\n",
      "5/5 [==============================] - 1s 151ms/step - loss: 1.9286e-04 - mae: 0.0109 - val_loss: 0.0013 - val_mae: 0.0272\n",
      "Epoch 1752/2000\n",
      "5/5 [==============================] - 1s 141ms/step - loss: 2.1533e-04 - mae: 0.0117 - val_loss: 0.0013 - val_mae: 0.0270\n",
      "Epoch 1753/2000\n",
      "5/5 [==============================] - 1s 138ms/step - loss: 2.1961e-04 - mae: 0.0118 - val_loss: 0.0012 - val_mae: 0.0271\n",
      "Epoch 1754/2000\n",
      "5/5 [==============================] - 1s 138ms/step - loss: 1.9180e-04 - mae: 0.0109 - val_loss: 0.0013 - val_mae: 0.0275\n",
      "Epoch 1755/2000\n",
      "5/5 [==============================] - 1s 153ms/step - loss: 1.9272e-04 - mae: 0.0110 - val_loss: 0.0013 - val_mae: 0.0283\n",
      "Epoch 1756/2000\n",
      "5/5 [==============================] - 1s 154ms/step - loss: 1.7825e-04 - mae: 0.0106 - val_loss: 0.0013 - val_mae: 0.0269\n",
      "Epoch 1757/2000\n",
      "5/5 [==============================] - 1s 151ms/step - loss: 1.6569e-04 - mae: 0.0102 - val_loss: 0.0013 - val_mae: 0.0273\n",
      "Epoch 1758/2000\n",
      "4/5 [=======================>......] - ETA: 0s - loss: 1.6369e-04 - mae: 0.0103INFO:tensorflow:Assets written to: C:\\Users\\PARK\\Documents\\LAB\\RNN vs LSTM\\FInal Example\\wandb\\run-20221015_190827-1kgjbxck\\files\\model-best\\assets\n"
     ]
    },
    {
     "name": "stderr",
     "output_type": "stream",
     "text": [
      "\u001b[34m\u001b[1mwandb\u001b[0m: Adding directory to artifact (C:\\Users\\PARK\\Documents\\LAB\\RNN vs LSTM\\FInal Example\\wandb\\run-20221015_190827-1kgjbxck\\files\\model-best)... Done. 0.0s\n"
     ]
    },
    {
     "name": "stdout",
     "output_type": "stream",
     "text": [
      "5/5 [==============================] - 2s 495ms/step - loss: 1.6434e-04 - mae: 0.0103 - val_loss: 0.0012 - val_mae: 0.0263\n",
      "Epoch 1759/2000\n",
      "5/5 [==============================] - ETA: 0s - loss: 1.5367e-04 - mae: 0.0098INFO:tensorflow:Assets written to: C:\\Users\\PARK\\Documents\\LAB\\RNN vs LSTM\\FInal Example\\wandb\\run-20221015_190827-1kgjbxck\\files\\model-best\\assets\n"
     ]
    },
    {
     "name": "stderr",
     "output_type": "stream",
     "text": [
      "\u001b[34m\u001b[1mwandb\u001b[0m: Adding directory to artifact (C:\\Users\\PARK\\Documents\\LAB\\RNN vs LSTM\\FInal Example\\wandb\\run-20221015_190827-1kgjbxck\\files\\model-best)... Done. 0.0s\n"
     ]
    },
    {
     "name": "stdout",
     "output_type": "stream",
     "text": [
      "5/5 [==============================] - 2s 494ms/step - loss: 1.5367e-04 - mae: 0.0098 - val_loss: 0.0012 - val_mae: 0.0265\n",
      "Epoch 1760/2000\n",
      "5/5 [==============================] - 1s 158ms/step - loss: 1.7211e-04 - mae: 0.0104 - val_loss: 0.0013 - val_mae: 0.0275\n",
      "Epoch 1761/2000\n",
      "5/5 [==============================] - 1s 142ms/step - loss: 1.7102e-04 - mae: 0.0103 - val_loss: 0.0012 - val_mae: 0.0269\n",
      "Epoch 1762/2000\n",
      "5/5 [==============================] - 1s 144ms/step - loss: 1.9352e-04 - mae: 0.0110 - val_loss: 0.0012 - val_mae: 0.0265\n",
      "Epoch 1763/2000\n",
      "5/5 [==============================] - 1s 139ms/step - loss: 1.4782e-04 - mae: 0.0097 - val_loss: 0.0013 - val_mae: 0.0272\n",
      "Epoch 1764/2000\n",
      "5/5 [==============================] - 1s 154ms/step - loss: 1.6476e-04 - mae: 0.0102 - val_loss: 0.0012 - val_mae: 0.0270\n",
      "Epoch 1765/2000\n",
      "5/5 [==============================] - 1s 142ms/step - loss: 1.5365e-04 - mae: 0.0099 - val_loss: 0.0012 - val_mae: 0.0269\n",
      "Epoch 1766/2000\n",
      "5/5 [==============================] - 1s 135ms/step - loss: 1.9452e-04 - mae: 0.0111 - val_loss: 0.0012 - val_mae: 0.0265\n",
      "Epoch 1767/2000\n",
      "5/5 [==============================] - 1s 142ms/step - loss: 1.9767e-04 - mae: 0.0112 - val_loss: 0.0012 - val_mae: 0.0270\n",
      "Epoch 1768/2000\n",
      "5/5 [==============================] - 1s 147ms/step - loss: 1.9689e-04 - mae: 0.0111 - val_loss: 0.0013 - val_mae: 0.0280\n",
      "Epoch 1769/2000\n",
      "5/5 [==============================] - 1s 159ms/step - loss: 2.3768e-04 - mae: 0.0123 - val_loss: 0.0014 - val_mae: 0.0289\n",
      "Epoch 1770/2000\n",
      "5/5 [==============================] - 1s 155ms/step - loss: 2.3144e-04 - mae: 0.0121 - val_loss: 0.0012 - val_mae: 0.0266\n",
      "Epoch 1771/2000\n",
      "5/5 [==============================] - 1s 155ms/step - loss: 2.0622e-04 - mae: 0.0114 - val_loss: 0.0013 - val_mae: 0.0274\n",
      "Epoch 1772/2000\n",
      "5/5 [==============================] - 1s 144ms/step - loss: 1.9350e-04 - mae: 0.0111 - val_loss: 0.0013 - val_mae: 0.0282\n",
      "Epoch 1773/2000\n",
      "5/5 [==============================] - 1s 139ms/step - loss: 3.2709e-04 - mae: 0.0145 - val_loss: 0.0014 - val_mae: 0.0289\n",
      "Epoch 1774/2000\n",
      "5/5 [==============================] - 1s 136ms/step - loss: 4.9011e-04 - mae: 0.0176 - val_loss: 0.0017 - val_mae: 0.0319\n",
      "Epoch 1775/2000\n",
      "5/5 [==============================] - 1s 144ms/step - loss: 5.6007e-04 - mae: 0.0190 - val_loss: 0.0017 - val_mae: 0.0313\n",
      "Epoch 1776/2000\n",
      "5/5 [==============================] - 1s 140ms/step - loss: 5.2853e-04 - mae: 0.0183 - val_loss: 0.0015 - val_mae: 0.0294\n",
      "Epoch 1777/2000\n",
      "5/5 [==============================] - 1s 135ms/step - loss: 6.8767e-04 - mae: 0.0208 - val_loss: 0.0019 - val_mae: 0.0329\n",
      "Epoch 1778/2000\n",
      "5/5 [==============================] - 1s 137ms/step - loss: 7.3214e-04 - mae: 0.0218 - val_loss: 0.0025 - val_mae: 0.0399\n",
      "Epoch 1779/2000\n",
      "5/5 [==============================] - 1s 148ms/step - loss: 8.7604e-04 - mae: 0.0237 - val_loss: 0.0026 - val_mae: 0.0405\n",
      "Epoch 1780/2000\n",
      "5/5 [==============================] - 1s 146ms/step - loss: 0.0011 - mae: 0.0273 - val_loss: 0.0024 - val_mae: 0.0383\n",
      "Epoch 1781/2000\n",
      "5/5 [==============================] - 1s 143ms/step - loss: 8.3226e-04 - mae: 0.0231 - val_loss: 0.0019 - val_mae: 0.0335\n",
      "Epoch 1782/2000\n",
      "5/5 [==============================] - 1s 140ms/step - loss: 7.2825e-04 - mae: 0.0214 - val_loss: 0.0016 - val_mae: 0.0311\n",
      "Epoch 1783/2000\n",
      "5/5 [==============================] - 1s 144ms/step - loss: 8.1615e-04 - mae: 0.0227 - val_loss: 0.0016 - val_mae: 0.0315\n",
      "Epoch 1784/2000\n",
      "5/5 [==============================] - 1s 136ms/step - loss: 8.7679e-04 - mae: 0.0233 - val_loss: 0.0022 - val_mae: 0.0371\n",
      "Epoch 1785/2000\n",
      "5/5 [==============================] - 1s 135ms/step - loss: 9.5639e-04 - mae: 0.0248 - val_loss: 0.0030 - val_mae: 0.0439\n",
      "Epoch 1786/2000\n",
      "5/5 [==============================] - 1s 142ms/step - loss: 0.0013 - mae: 0.0286 - val_loss: 0.0029 - val_mae: 0.0424\n",
      "Epoch 1787/2000\n",
      "5/5 [==============================] - 1s 150ms/step - loss: 0.0011 - mae: 0.0263 - val_loss: 0.0022 - val_mae: 0.0371\n",
      "Epoch 1788/2000\n",
      "5/5 [==============================] - 1s 140ms/step - loss: 0.0011 - mae: 0.0266 - val_loss: 0.0019 - val_mae: 0.0345\n",
      "Epoch 1789/2000\n",
      "5/5 [==============================] - 1s 137ms/step - loss: 7.7313e-04 - mae: 0.0221 - val_loss: 0.0017 - val_mae: 0.0325\n",
      "Epoch 1790/2000\n",
      "5/5 [==============================] - 1s 138ms/step - loss: 5.5569e-04 - mae: 0.0188 - val_loss: 0.0016 - val_mae: 0.0314\n",
      "Epoch 1791/2000\n",
      "5/5 [==============================] - 1s 149ms/step - loss: 3.9253e-04 - mae: 0.0158 - val_loss: 0.0015 - val_mae: 0.0296\n",
      "Epoch 1792/2000\n",
      "5/5 [==============================] - 1s 143ms/step - loss: 3.5161e-04 - mae: 0.0149 - val_loss: 0.0015 - val_mae: 0.0298\n",
      "Epoch 1793/2000\n",
      "5/5 [==============================] - 1s 137ms/step - loss: 3.2133e-04 - mae: 0.0142 - val_loss: 0.0013 - val_mae: 0.0271\n",
      "Epoch 1794/2000\n",
      "5/5 [==============================] - 1s 135ms/step - loss: 2.3284e-04 - mae: 0.0122 - val_loss: 0.0014 - val_mae: 0.0287\n",
      "Epoch 1795/2000\n",
      "5/5 [==============================] - 1s 142ms/step - loss: 2.0470e-04 - mae: 0.0114 - val_loss: 0.0013 - val_mae: 0.0271\n",
      "Epoch 1796/2000\n",
      "5/5 [==============================] - 1s 154ms/step - loss: 1.7283e-04 - mae: 0.0105 - val_loss: 0.0012 - val_mae: 0.0269\n",
      "Epoch 1797/2000\n",
      "5/5 [==============================] - 1s 151ms/step - loss: 1.5605e-04 - mae: 0.0099 - val_loss: 0.0013 - val_mae: 0.0271\n",
      "Epoch 1798/2000\n",
      "5/5 [==============================] - 1s 148ms/step - loss: 1.5358e-04 - mae: 0.0099 - val_loss: 0.0013 - val_mae: 0.0274\n",
      "Epoch 1799/2000\n",
      "5/5 [==============================] - 1s 146ms/step - loss: 1.5002e-04 - mae: 0.0098 - val_loss: 0.0013 - val_mae: 0.0278\n",
      "Epoch 1800/2000\n",
      "5/5 [==============================] - 1s 137ms/step - loss: 1.6440e-04 - mae: 0.0102 - val_loss: 0.0012 - val_mae: 0.0269\n",
      "Epoch 1801/2000\n",
      "4/5 [=======================>......] - ETA: 0s - loss: 1.2845e-04 - mae: 0.0090INFO:tensorflow:Assets written to: C:\\Users\\PARK\\Documents\\LAB\\RNN vs LSTM\\FInal Example\\wandb\\run-20221015_190827-1kgjbxck\\files\\model-best\\assets\n"
     ]
    },
    {
     "name": "stderr",
     "output_type": "stream",
     "text": [
      "\u001b[34m\u001b[1mwandb\u001b[0m: Adding directory to artifact (C:\\Users\\PARK\\Documents\\LAB\\RNN vs LSTM\\FInal Example\\wandb\\run-20221015_190827-1kgjbxck\\files\\model-best)... Done. 0.0s\n"
     ]
    },
    {
     "name": "stdout",
     "output_type": "stream",
     "text": [
      "5/5 [==============================] - 2s 494ms/step - loss: 1.2814e-04 - mae: 0.0090 - val_loss: 0.0012 - val_mae: 0.0259\n",
      "Epoch 1802/2000\n",
      "5/5 [==============================] - 1s 166ms/step - loss: 1.1888e-04 - mae: 0.0087 - val_loss: 0.0012 - val_mae: 0.0269\n",
      "Epoch 1803/2000\n",
      "5/5 [==============================] - ETA: 0s - loss: 1.1412e-04 - mae: 0.0086INFO:tensorflow:Assets written to: C:\\Users\\PARK\\Documents\\LAB\\RNN vs LSTM\\FInal Example\\wandb\\run-20221015_190827-1kgjbxck\\files\\model-best\\assets\n"
     ]
    },
    {
     "name": "stderr",
     "output_type": "stream",
     "text": [
      "\u001b[34m\u001b[1mwandb\u001b[0m: Adding directory to artifact (C:\\Users\\PARK\\Documents\\LAB\\RNN vs LSTM\\FInal Example\\wandb\\run-20221015_190827-1kgjbxck\\files\\model-best)... Done. 0.0s\n"
     ]
    },
    {
     "name": "stdout",
     "output_type": "stream",
     "text": [
      "5/5 [==============================] - 2s 479ms/step - loss: 1.1412e-04 - mae: 0.0086 - val_loss: 0.0012 - val_mae: 0.0259\n",
      "Epoch 1804/2000\n",
      "5/5 [==============================] - 1s 168ms/step - loss: 9.3208e-05 - mae: 0.0077 - val_loss: 0.0012 - val_mae: 0.0259\n",
      "Epoch 1805/2000\n",
      "5/5 [==============================] - ETA: 0s - loss: 8.7528e-05 - mae: 0.0074INFO:tensorflow:Assets written to: C:\\Users\\PARK\\Documents\\LAB\\RNN vs LSTM\\FInal Example\\wandb\\run-20221015_190827-1kgjbxck\\files\\model-best\\assets\n"
     ]
    },
    {
     "name": "stderr",
     "output_type": "stream",
     "text": [
      "\u001b[34m\u001b[1mwandb\u001b[0m: Adding directory to artifact (C:\\Users\\PARK\\Documents\\LAB\\RNN vs LSTM\\FInal Example\\wandb\\run-20221015_190827-1kgjbxck\\files\\model-best)... Done. 0.0s\n"
     ]
    },
    {
     "name": "stdout",
     "output_type": "stream",
     "text": [
      "5/5 [==============================] - 2s 516ms/step - loss: 8.7528e-05 - mae: 0.0074 - val_loss: 0.0011 - val_mae: 0.0255\n",
      "Epoch 1806/2000\n",
      "5/5 [==============================] - 1s 177ms/step - loss: 9.3647e-05 - mae: 0.0077 - val_loss: 0.0012 - val_mae: 0.0261\n",
      "Epoch 1807/2000\n",
      "5/5 [==============================] - 1s 151ms/step - loss: 8.7456e-05 - mae: 0.0075 - val_loss: 0.0012 - val_mae: 0.0259\n",
      "Epoch 1808/2000\n",
      "5/5 [==============================] - 1s 144ms/step - loss: 8.2845e-05 - mae: 0.0072 - val_loss: 0.0012 - val_mae: 0.0261\n",
      "Epoch 1809/2000\n",
      "5/5 [==============================] - 1s 139ms/step - loss: 1.0560e-04 - mae: 0.0082 - val_loss: 0.0011 - val_mae: 0.0258\n",
      "Epoch 1810/2000\n",
      "5/5 [==============================] - 1s 144ms/step - loss: 9.2975e-05 - mae: 0.0077 - val_loss: 0.0011 - val_mae: 0.0256\n",
      "Epoch 1811/2000\n",
      "5/5 [==============================] - 1s 134ms/step - loss: 9.7309e-05 - mae: 0.0079 - val_loss: 0.0012 - val_mae: 0.0267\n",
      "Epoch 1812/2000\n",
      "5/5 [==============================] - 1s 134ms/step - loss: 1.1012e-04 - mae: 0.0084 - val_loss: 0.0012 - val_mae: 0.0263\n",
      "Epoch 1813/2000\n",
      "5/5 [==============================] - 1s 142ms/step - loss: 1.1596e-04 - mae: 0.0085 - val_loss: 0.0012 - val_mae: 0.0260\n",
      "Epoch 1814/2000\n",
      "5/5 [==============================] - 1s 139ms/step - loss: 9.4921e-05 - mae: 0.0078 - val_loss: 0.0012 - val_mae: 0.0258\n",
      "Epoch 1815/2000\n",
      "5/5 [==============================] - 1s 139ms/step - loss: 1.0819e-04 - mae: 0.0083 - val_loss: 0.0012 - val_mae: 0.0261\n",
      "Epoch 1816/2000\n",
      "5/5 [==============================] - 1s 137ms/step - loss: 1.2290e-04 - mae: 0.0088 - val_loss: 0.0012 - val_mae: 0.0265\n",
      "Epoch 1817/2000\n",
      "5/5 [==============================] - 1s 149ms/step - loss: 1.2850e-04 - mae: 0.0089 - val_loss: 0.0012 - val_mae: 0.0266\n",
      "Epoch 1818/2000\n",
      "5/5 [==============================] - 1s 148ms/step - loss: 1.2215e-04 - mae: 0.0089 - val_loss: 0.0012 - val_mae: 0.0260\n",
      "Epoch 1819/2000\n",
      "5/5 [==============================] - 1s 149ms/step - loss: 1.1607e-04 - mae: 0.0085 - val_loss: 0.0012 - val_mae: 0.0260\n",
      "Epoch 1820/2000\n",
      "5/5 [==============================] - 1s 141ms/step - loss: 1.0451e-04 - mae: 0.0081 - val_loss: 0.0011 - val_mae: 0.0256\n",
      "Epoch 1821/2000\n",
      "4/5 [=======================>......] - ETA: 0s - loss: 8.9444e-05 - mae: 0.0075INFO:tensorflow:Assets written to: C:\\Users\\PARK\\Documents\\LAB\\RNN vs LSTM\\FInal Example\\wandb\\run-20221015_190827-1kgjbxck\\files\\model-best\\assets\n"
     ]
    },
    {
     "name": "stderr",
     "output_type": "stream",
     "text": [
      "\u001b[34m\u001b[1mwandb\u001b[0m: Adding directory to artifact (C:\\Users\\PARK\\Documents\\LAB\\RNN vs LSTM\\FInal Example\\wandb\\run-20221015_190827-1kgjbxck\\files\\model-best)... Done. 0.0s\n"
     ]
    },
    {
     "name": "stdout",
     "output_type": "stream",
     "text": [
      "5/5 [==============================] - 2s 462ms/step - loss: 9.0283e-05 - mae: 0.0076 - val_loss: 0.0011 - val_mae: 0.0255\n",
      "Epoch 1822/2000\n",
      "5/5 [==============================] - ETA: 0s - loss: 8.5477e-05 - mae: 0.0073INFO:tensorflow:Assets written to: C:\\Users\\PARK\\Documents\\LAB\\RNN vs LSTM\\FInal Example\\wandb\\run-20221015_190827-1kgjbxck\\files\\model-best\\assets\n"
     ]
    },
    {
     "name": "stderr",
     "output_type": "stream",
     "text": [
      "\u001b[34m\u001b[1mwandb\u001b[0m: Adding directory to artifact (C:\\Users\\PARK\\Documents\\LAB\\RNN vs LSTM\\FInal Example\\wandb\\run-20221015_190827-1kgjbxck\\files\\model-best)... Done. 0.0s\n"
     ]
    },
    {
     "name": "stdout",
     "output_type": "stream",
     "text": [
      "5/5 [==============================] - 2s 489ms/step - loss: 8.5477e-05 - mae: 0.0073 - val_loss: 0.0011 - val_mae: 0.0250\n",
      "Epoch 1823/2000\n",
      "5/5 [==============================] - 1s 156ms/step - loss: 7.8121e-05 - mae: 0.0071 - val_loss: 0.0011 - val_mae: 0.0257\n",
      "Epoch 1824/2000\n",
      "5/5 [==============================] - 1s 147ms/step - loss: 6.4651e-05 - mae: 0.0064 - val_loss: 0.0011 - val_mae: 0.0256\n",
      "Epoch 1825/2000\n",
      "5/5 [==============================] - 1s 144ms/step - loss: 7.4151e-05 - mae: 0.0068 - val_loss: 0.0011 - val_mae: 0.0253\n",
      "Epoch 1826/2000\n",
      "5/5 [==============================] - 1s 144ms/step - loss: 8.0911e-05 - mae: 0.0072 - val_loss: 0.0012 - val_mae: 0.0262\n",
      "Epoch 1827/2000\n",
      "5/5 [==============================] - 1s 137ms/step - loss: 8.8638e-05 - mae: 0.0075 - val_loss: 0.0011 - val_mae: 0.0255\n",
      "Epoch 1828/2000\n",
      "5/5 [==============================] - 1s 141ms/step - loss: 7.6575e-05 - mae: 0.0070 - val_loss: 0.0011 - val_mae: 0.0252\n",
      "Epoch 1829/2000\n",
      "5/5 [==============================] - ETA: 0s - loss: 9.6430e-05 - mae: 0.0078INFO:tensorflow:Assets written to: C:\\Users\\PARK\\Documents\\LAB\\RNN vs LSTM\\FInal Example\\wandb\\run-20221015_190827-1kgjbxck\\files\\model-best\\assets\n"
     ]
    },
    {
     "name": "stderr",
     "output_type": "stream",
     "text": [
      "\u001b[34m\u001b[1mwandb\u001b[0m: Adding directory to artifact (C:\\Users\\PARK\\Documents\\LAB\\RNN vs LSTM\\FInal Example\\wandb\\run-20221015_190827-1kgjbxck\\files\\model-best)... Done. 0.0s\n"
     ]
    },
    {
     "name": "stdout",
     "output_type": "stream",
     "text": [
      "5/5 [==============================] - 2s 496ms/step - loss: 9.6430e-05 - mae: 0.0078 - val_loss: 0.0011 - val_mae: 0.0250\n",
      "Epoch 1830/2000\n",
      "5/5 [==============================] - 1s 163ms/step - loss: 1.1146e-04 - mae: 0.0084 - val_loss: 0.0011 - val_mae: 0.0253\n",
      "Epoch 1831/2000\n",
      "5/5 [==============================] - 1s 150ms/step - loss: 9.3670e-05 - mae: 0.0077 - val_loss: 0.0011 - val_mae: 0.0255\n",
      "Epoch 1832/2000\n",
      "5/5 [==============================] - 1s 143ms/step - loss: 1.0196e-04 - mae: 0.0081 - val_loss: 0.0012 - val_mae: 0.0267\n",
      "Epoch 1833/2000\n",
      "5/5 [==============================] - 1s 135ms/step - loss: 1.0235e-04 - mae: 0.0080 - val_loss: 0.0011 - val_mae: 0.0253\n",
      "Epoch 1834/2000\n",
      "5/5 [==============================] - 1s 138ms/step - loss: 9.0106e-05 - mae: 0.0075 - val_loss: 0.0011 - val_mae: 0.0250\n",
      "Epoch 1835/2000\n",
      "5/5 [==============================] - 1s 147ms/step - loss: 8.7338e-05 - mae: 0.0074 - val_loss: 0.0011 - val_mae: 0.0253\n",
      "Epoch 1836/2000\n",
      "5/5 [==============================] - 1s 149ms/step - loss: 1.3487e-04 - mae: 0.0092 - val_loss: 0.0013 - val_mae: 0.0276\n",
      "Epoch 1837/2000\n",
      "5/5 [==============================] - 1s 144ms/step - loss: 1.4124e-04 - mae: 0.0094 - val_loss: 0.0012 - val_mae: 0.0265\n",
      "Epoch 1838/2000\n",
      "5/5 [==============================] - 1s 137ms/step - loss: 1.3338e-04 - mae: 0.0093 - val_loss: 0.0011 - val_mae: 0.0255\n",
      "Epoch 1839/2000\n",
      "5/5 [==============================] - 1s 136ms/step - loss: 1.4331e-04 - mae: 0.0095 - val_loss: 0.0012 - val_mae: 0.0265\n",
      "Epoch 1840/2000\n",
      "5/5 [==============================] - 1s 143ms/step - loss: 1.4196e-04 - mae: 0.0095 - val_loss: 0.0012 - val_mae: 0.0268\n",
      "Epoch 1841/2000\n",
      "5/5 [==============================] - 1s 151ms/step - loss: 1.4626e-04 - mae: 0.0096 - val_loss: 0.0012 - val_mae: 0.0265\n",
      "Epoch 1842/2000\n",
      "5/5 [==============================] - 1s 154ms/step - loss: 1.4038e-04 - mae: 0.0094 - val_loss: 0.0012 - val_mae: 0.0259\n",
      "Epoch 1843/2000\n",
      "5/5 [==============================] - 1s 142ms/step - loss: 1.5708e-04 - mae: 0.0100 - val_loss: 0.0012 - val_mae: 0.0264\n",
      "Epoch 1844/2000\n",
      "5/5 [==============================] - 1s 136ms/step - loss: 1.6769e-04 - mae: 0.0104 - val_loss: 0.0013 - val_mae: 0.0275\n",
      "Epoch 1845/2000\n",
      "5/5 [==============================] - 1s 146ms/step - loss: 2.0591e-04 - mae: 0.0114 - val_loss: 0.0012 - val_mae: 0.0263\n",
      "Epoch 1846/2000\n",
      "5/5 [==============================] - 1s 150ms/step - loss: 1.9253e-04 - mae: 0.0109 - val_loss: 0.0013 - val_mae: 0.0271\n",
      "Epoch 1847/2000\n",
      "5/5 [==============================] - 1s 148ms/step - loss: 2.2787e-04 - mae: 0.0119 - val_loss: 0.0014 - val_mae: 0.0289\n",
      "Epoch 1848/2000\n",
      "5/5 [==============================] - 1s 144ms/step - loss: 2.5011e-04 - mae: 0.0126 - val_loss: 0.0013 - val_mae: 0.0274\n",
      "Epoch 1849/2000\n",
      "5/5 [==============================] - 1s 139ms/step - loss: 2.2644e-04 - mae: 0.0119 - val_loss: 0.0012 - val_mae: 0.0264\n",
      "Epoch 1850/2000\n",
      "5/5 [==============================] - 1s 145ms/step - loss: 1.7914e-04 - mae: 0.0106 - val_loss: 0.0013 - val_mae: 0.0270\n",
      "Epoch 1851/2000\n",
      "5/5 [==============================] - 1s 145ms/step - loss: 1.7894e-04 - mae: 0.0106 - val_loss: 0.0012 - val_mae: 0.0262\n",
      "Epoch 1852/2000\n",
      "5/5 [==============================] - 1s 143ms/step - loss: 1.5728e-04 - mae: 0.0099 - val_loss: 0.0011 - val_mae: 0.0258\n",
      "Epoch 1853/2000\n",
      "5/5 [==============================] - 1s 142ms/step - loss: 1.3491e-04 - mae: 0.0092 - val_loss: 0.0012 - val_mae: 0.0258\n",
      "Epoch 1854/2000\n",
      "5/5 [==============================] - 1s 141ms/step - loss: 1.2914e-04 - mae: 0.0091 - val_loss: 0.0012 - val_mae: 0.0258\n",
      "Epoch 1855/2000\n",
      "5/5 [==============================] - 1s 137ms/step - loss: 1.0549e-04 - mae: 0.0082 - val_loss: 0.0011 - val_mae: 0.0258\n",
      "Epoch 1856/2000\n",
      "5/5 [==============================] - 1s 149ms/step - loss: 1.0558e-04 - mae: 0.0083 - val_loss: 0.0012 - val_mae: 0.0258\n",
      "Epoch 1857/2000\n",
      "5/5 [==============================] - 1s 144ms/step - loss: 1.3232e-04 - mae: 0.0091 - val_loss: 0.0012 - val_mae: 0.0263\n",
      "Epoch 1858/2000\n",
      "5/5 [==============================] - 1s 136ms/step - loss: 1.7319e-04 - mae: 0.0106 - val_loss: 0.0012 - val_mae: 0.0266\n",
      "Epoch 1859/2000\n",
      "5/5 [==============================] - 1s 137ms/step - loss: 1.3406e-04 - mae: 0.0092 - val_loss: 0.0012 - val_mae: 0.0260\n",
      "Epoch 1860/2000\n",
      "5/5 [==============================] - 1s 144ms/step - loss: 1.1861e-04 - mae: 0.0087 - val_loss: 0.0011 - val_mae: 0.0256\n",
      "Epoch 1861/2000\n",
      "5/5 [==============================] - 1s 140ms/step - loss: 1.0740e-04 - mae: 0.0083 - val_loss: 0.0011 - val_mae: 0.0253\n",
      "Epoch 1862/2000\n",
      "5/5 [==============================] - 1s 135ms/step - loss: 9.1808e-05 - mae: 0.0076 - val_loss: 0.0011 - val_mae: 0.0255\n",
      "Epoch 1863/2000\n",
      "5/5 [==============================] - 1s 135ms/step - loss: 1.0647e-04 - mae: 0.0081 - val_loss: 0.0011 - val_mae: 0.0256\n",
      "Epoch 1864/2000\n",
      "5/5 [==============================] - 1s 148ms/step - loss: 1.2099e-04 - mae: 0.0088 - val_loss: 0.0012 - val_mae: 0.0260\n",
      "Epoch 1865/2000\n",
      "5/5 [==============================] - 1s 149ms/step - loss: 1.2607e-04 - mae: 0.0089 - val_loss: 0.0012 - val_mae: 0.0258\n",
      "Epoch 1866/2000\n",
      "5/5 [==============================] - 1s 136ms/step - loss: 1.1551e-04 - mae: 0.0085 - val_loss: 0.0011 - val_mae: 0.0249\n",
      "Epoch 1867/2000\n",
      "5/5 [==============================] - 1s 139ms/step - loss: 1.1130e-04 - mae: 0.0084 - val_loss: 0.0011 - val_mae: 0.0251\n",
      "Epoch 1868/2000\n",
      "5/5 [==============================] - 1s 154ms/step - loss: 1.0895e-04 - mae: 0.0082 - val_loss: 0.0011 - val_mae: 0.0254\n",
      "Epoch 1869/2000\n",
      "5/5 [==============================] - 1s 151ms/step - loss: 1.1019e-04 - mae: 0.0083 - val_loss: 0.0011 - val_mae: 0.0254\n",
      "Epoch 1870/2000\n",
      "5/5 [==============================] - 1s 150ms/step - loss: 1.2543e-04 - mae: 0.0089 - val_loss: 0.0012 - val_mae: 0.0262\n",
      "Epoch 1871/2000\n",
      "5/5 [==============================] - 1s 148ms/step - loss: 1.1009e-04 - mae: 0.0083 - val_loss: 0.0011 - val_mae: 0.0254\n",
      "Epoch 1872/2000\n",
      "5/5 [==============================] - 1s 140ms/step - loss: 1.0815e-04 - mae: 0.0082 - val_loss: 0.0011 - val_mae: 0.0256\n",
      "Epoch 1873/2000\n",
      "5/5 [==============================] - 1s 137ms/step - loss: 1.0916e-04 - mae: 0.0084 - val_loss: 0.0011 - val_mae: 0.0252\n",
      "Epoch 1874/2000\n",
      "5/5 [==============================] - 1s 135ms/step - loss: 1.1031e-04 - mae: 0.0083 - val_loss: 0.0011 - val_mae: 0.0255\n",
      "Epoch 1875/2000\n",
      "5/5 [==============================] - 1s 145ms/step - loss: 1.1480e-04 - mae: 0.0085 - val_loss: 0.0011 - val_mae: 0.0255\n",
      "Epoch 1876/2000\n",
      "5/5 [==============================] - 1s 152ms/step - loss: 1.5846e-04 - mae: 0.0099 - val_loss: 0.0013 - val_mae: 0.0269\n",
      "Epoch 1877/2000\n",
      "5/5 [==============================] - 1s 144ms/step - loss: 1.8997e-04 - mae: 0.0108 - val_loss: 0.0012 - val_mae: 0.0270\n",
      "Epoch 1878/2000\n",
      "5/5 [==============================] - 1s 136ms/step - loss: 2.9171e-04 - mae: 0.0139 - val_loss: 0.0013 - val_mae: 0.0272\n",
      "Epoch 1879/2000\n",
      "5/5 [==============================] - 1s 134ms/step - loss: 2.9155e-04 - mae: 0.0134 - val_loss: 0.0013 - val_mae: 0.0283\n",
      "Epoch 1880/2000\n",
      "5/5 [==============================] - 1s 139ms/step - loss: 3.9273e-04 - mae: 0.0161 - val_loss: 0.0014 - val_mae: 0.0287\n",
      "Epoch 1881/2000\n",
      "5/5 [==============================] - 1s 144ms/step - loss: 4.8987e-04 - mae: 0.0179 - val_loss: 0.0017 - val_mae: 0.0323\n",
      "Epoch 1882/2000\n",
      "5/5 [==============================] - 1s 137ms/step - loss: 4.6134e-04 - mae: 0.0173 - val_loss: 0.0017 - val_mae: 0.0326\n",
      "Epoch 1883/2000\n",
      "5/5 [==============================] - 1s 139ms/step - loss: 5.6394e-04 - mae: 0.0190 - val_loss: 0.0018 - val_mae: 0.0330\n",
      "Epoch 1884/2000\n",
      "5/5 [==============================] - 1s 143ms/step - loss: 5.7081e-04 - mae: 0.0190 - val_loss: 0.0016 - val_mae: 0.0314\n",
      "Epoch 1885/2000\n",
      "5/5 [==============================] - 1s 141ms/step - loss: 4.5225e-04 - mae: 0.0168 - val_loss: 0.0015 - val_mae: 0.0303\n",
      "Epoch 1886/2000\n",
      "5/5 [==============================] - 1s 136ms/step - loss: 3.7884e-04 - mae: 0.0155 - val_loss: 0.0013 - val_mae: 0.0274\n",
      "Epoch 1887/2000\n",
      "5/5 [==============================] - 1s 138ms/step - loss: 3.0717e-04 - mae: 0.0138 - val_loss: 0.0015 - val_mae: 0.0292\n",
      "Epoch 1888/2000\n"
     ]
    },
    {
     "name": "stdout",
     "output_type": "stream",
     "text": [
      "5/5 [==============================] - 1s 152ms/step - loss: 3.7883e-04 - mae: 0.0154 - val_loss: 0.0015 - val_mae: 0.0304\n",
      "Epoch 1889/2000\n",
      "5/5 [==============================] - 1s 150ms/step - loss: 4.3573e-04 - mae: 0.0169 - val_loss: 0.0016 - val_mae: 0.0308\n",
      "Epoch 1890/2000\n",
      "5/5 [==============================] - 1s 140ms/step - loss: 4.3593e-04 - mae: 0.0166 - val_loss: 0.0017 - val_mae: 0.0317\n",
      "Epoch 1891/2000\n",
      "5/5 [==============================] - 1s 136ms/step - loss: 5.0665e-04 - mae: 0.0178 - val_loss: 0.0018 - val_mae: 0.0335\n",
      "Epoch 1892/2000\n",
      "5/5 [==============================] - 1s 136ms/step - loss: 5.4213e-04 - mae: 0.0187 - val_loss: 0.0015 - val_mae: 0.0305\n",
      "Epoch 1893/2000\n",
      "5/5 [==============================] - 1s 146ms/step - loss: 5.0120e-04 - mae: 0.0178 - val_loss: 0.0016 - val_mae: 0.0308\n",
      "Epoch 1894/2000\n",
      "5/5 [==============================] - 1s 151ms/step - loss: 4.9890e-04 - mae: 0.0176 - val_loss: 0.0016 - val_mae: 0.0308\n",
      "Epoch 1895/2000\n",
      "5/5 [==============================] - 1s 149ms/step - loss: 5.4542e-04 - mae: 0.0187 - val_loss: 0.0021 - val_mae: 0.0368\n",
      "Epoch 1896/2000\n",
      "5/5 [==============================] - 1s 142ms/step - loss: 7.1203e-04 - mae: 0.0213 - val_loss: 0.0014 - val_mae: 0.0289\n",
      "Epoch 1897/2000\n",
      "5/5 [==============================] - 1s 137ms/step - loss: 6.9418e-04 - mae: 0.0207 - val_loss: 0.0015 - val_mae: 0.0296\n",
      "Epoch 1898/2000\n",
      "5/5 [==============================] - 1s 137ms/step - loss: 5.4748e-04 - mae: 0.0184 - val_loss: 0.0015 - val_mae: 0.0301\n",
      "Epoch 1899/2000\n",
      "5/5 [==============================] - 1s 143ms/step - loss: 5.0652e-04 - mae: 0.0179 - val_loss: 0.0014 - val_mae: 0.0292\n",
      "Epoch 1900/2000\n",
      "5/5 [==============================] - 1s 144ms/step - loss: 4.7722e-04 - mae: 0.0174 - val_loss: 0.0016 - val_mae: 0.0310\n",
      "Epoch 1901/2000\n",
      "5/5 [==============================] - 1s 144ms/step - loss: 4.3501e-04 - mae: 0.0165 - val_loss: 0.0015 - val_mae: 0.0296\n",
      "Epoch 1902/2000\n",
      "5/5 [==============================] - 1s 147ms/step - loss: 4.0756e-04 - mae: 0.0160 - val_loss: 0.0015 - val_mae: 0.0298\n",
      "Epoch 1903/2000\n",
      "5/5 [==============================] - 1s 143ms/step - loss: 3.6735e-04 - mae: 0.0153 - val_loss: 0.0014 - val_mae: 0.0288\n",
      "Epoch 1904/2000\n",
      "5/5 [==============================] - 1s 140ms/step - loss: 3.0778e-04 - mae: 0.0141 - val_loss: 0.0015 - val_mae: 0.0296\n",
      "Epoch 1905/2000\n",
      "5/5 [==============================] - 1s 152ms/step - loss: 2.9263e-04 - mae: 0.0135 - val_loss: 0.0013 - val_mae: 0.0281\n",
      "Epoch 1906/2000\n",
      "5/5 [==============================] - 1s 148ms/step - loss: 2.5291e-04 - mae: 0.0127 - val_loss: 0.0013 - val_mae: 0.0280\n",
      "Epoch 1907/2000\n",
      "5/5 [==============================] - 1s 146ms/step - loss: 2.3860e-04 - mae: 0.0122 - val_loss: 0.0013 - val_mae: 0.0273\n",
      "Epoch 1908/2000\n",
      "5/5 [==============================] - 1s 144ms/step - loss: 1.9720e-04 - mae: 0.0111 - val_loss: 0.0012 - val_mae: 0.0264\n",
      "Epoch 1909/2000\n",
      "5/5 [==============================] - 1s 134ms/step - loss: 1.5667e-04 - mae: 0.0100 - val_loss: 0.0011 - val_mae: 0.0258\n",
      "Epoch 1910/2000\n",
      "5/5 [==============================] - 1s 135ms/step - loss: 1.4111e-04 - mae: 0.0094 - val_loss: 0.0012 - val_mae: 0.0260\n",
      "Epoch 1911/2000\n",
      "5/5 [==============================] - 1s 140ms/step - loss: 1.8948e-04 - mae: 0.0109 - val_loss: 0.0013 - val_mae: 0.0281\n",
      "Epoch 1912/2000\n",
      "5/5 [==============================] - 1s 148ms/step - loss: 2.3504e-04 - mae: 0.0123 - val_loss: 0.0015 - val_mae: 0.0298\n",
      "Epoch 1913/2000\n",
      "5/5 [==============================] - 1s 141ms/step - loss: 3.0898e-04 - mae: 0.0143 - val_loss: 0.0012 - val_mae: 0.0270\n",
      "Epoch 1914/2000\n",
      "5/5 [==============================] - 1s 136ms/step - loss: 2.3120e-04 - mae: 0.0122 - val_loss: 0.0013 - val_mae: 0.0274\n",
      "Epoch 1915/2000\n",
      "5/5 [==============================] - 1s 136ms/step - loss: 3.2866e-04 - mae: 0.0146 - val_loss: 0.0013 - val_mae: 0.0282\n",
      "Epoch 1916/2000\n",
      "5/5 [==============================] - 1s 144ms/step - loss: 4.0406e-04 - mae: 0.0159 - val_loss: 0.0014 - val_mae: 0.0284\n",
      "Epoch 1917/2000\n",
      "5/5 [==============================] - 1s 150ms/step - loss: 2.9950e-04 - mae: 0.0136 - val_loss: 0.0013 - val_mae: 0.0273\n",
      "Epoch 1918/2000\n",
      "5/5 [==============================] - 1s 142ms/step - loss: 3.0129e-04 - mae: 0.0139 - val_loss: 0.0014 - val_mae: 0.0281\n",
      "Epoch 1919/2000\n",
      "5/5 [==============================] - 1s 145ms/step - loss: 3.7776e-04 - mae: 0.0153 - val_loss: 0.0015 - val_mae: 0.0295\n",
      "Epoch 1920/2000\n",
      "5/5 [==============================] - 1s 136ms/step - loss: 3.8219e-04 - mae: 0.0157 - val_loss: 0.0014 - val_mae: 0.0282\n",
      "Epoch 1921/2000\n",
      "5/5 [==============================] - 1s 135ms/step - loss: 2.7229e-04 - mae: 0.0131 - val_loss: 0.0012 - val_mae: 0.0269\n",
      "Epoch 1922/2000\n",
      "5/5 [==============================] - 1s 152ms/step - loss: 2.4804e-04 - mae: 0.0126 - val_loss: 0.0013 - val_mae: 0.0273\n",
      "Epoch 1923/2000\n",
      "5/5 [==============================] - 1s 148ms/step - loss: 2.9086e-04 - mae: 0.0136 - val_loss: 0.0013 - val_mae: 0.0279\n",
      "Epoch 1924/2000\n",
      "5/5 [==============================] - 1s 142ms/step - loss: 2.1731e-04 - mae: 0.0117 - val_loss: 0.0013 - val_mae: 0.0269\n",
      "Epoch 1925/2000\n",
      "5/5 [==============================] - 1s 136ms/step - loss: 1.9102e-04 - mae: 0.0108 - val_loss: 0.0012 - val_mae: 0.0267\n",
      "Epoch 1926/2000\n",
      "5/5 [==============================] - 1s 133ms/step - loss: 1.6634e-04 - mae: 0.0102 - val_loss: 0.0012 - val_mae: 0.0265\n",
      "Epoch 1927/2000\n",
      "5/5 [==============================] - 1s 141ms/step - loss: 1.3338e-04 - mae: 0.0092 - val_loss: 0.0012 - val_mae: 0.0262\n",
      "Epoch 1928/2000\n",
      "5/5 [==============================] - 1s 148ms/step - loss: 1.2301e-04 - mae: 0.0088 - val_loss: 0.0012 - val_mae: 0.0263\n",
      "Epoch 1929/2000\n",
      "5/5 [==============================] - 1s 142ms/step - loss: 1.4215e-04 - mae: 0.0095 - val_loss: 0.0012 - val_mae: 0.0267\n",
      "Epoch 1930/2000\n",
      "5/5 [==============================] - 1s 137ms/step - loss: 1.5091e-04 - mae: 0.0097 - val_loss: 0.0011 - val_mae: 0.0250\n",
      "Epoch 1931/2000\n",
      "5/5 [==============================] - 1s 135ms/step - loss: 1.6868e-04 - mae: 0.0102 - val_loss: 0.0011 - val_mae: 0.0254\n",
      "Epoch 1932/2000\n",
      "5/5 [==============================] - 1s 140ms/step - loss: 1.2814e-04 - mae: 0.0090 - val_loss: 0.0011 - val_mae: 0.0256\n",
      "Epoch 1933/2000\n",
      "5/5 [==============================] - 1s 149ms/step - loss: 1.6926e-04 - mae: 0.0102 - val_loss: 0.0012 - val_mae: 0.0266\n",
      "Epoch 1934/2000\n",
      "5/5 [==============================] - 1s 153ms/step - loss: 1.6797e-04 - mae: 0.0102 - val_loss: 0.0012 - val_mae: 0.0266\n",
      "Epoch 1935/2000\n",
      "5/5 [==============================] - 1s 152ms/step - loss: 1.7230e-04 - mae: 0.0102 - val_loss: 0.0012 - val_mae: 0.0265\n",
      "Epoch 1936/2000\n",
      "5/5 [==============================] - 1s 139ms/step - loss: 1.7863e-04 - mae: 0.0105 - val_loss: 0.0012 - val_mae: 0.0262\n",
      "Epoch 1937/2000\n",
      "5/5 [==============================] - 1s 138ms/step - loss: 1.9547e-04 - mae: 0.0111 - val_loss: 0.0012 - val_mae: 0.0269\n",
      "Epoch 1938/2000\n",
      "5/5 [==============================] - 1s 137ms/step - loss: 2.1898e-04 - mae: 0.0117 - val_loss: 0.0012 - val_mae: 0.0262\n",
      "Epoch 1939/2000\n",
      "5/5 [==============================] - 1s 146ms/step - loss: 2.2429e-04 - mae: 0.0118 - val_loss: 0.0012 - val_mae: 0.0263\n",
      "Epoch 1940/2000\n",
      "5/5 [==============================] - 1s 150ms/step - loss: 2.0114e-04 - mae: 0.0111 - val_loss: 0.0012 - val_mae: 0.0265\n",
      "Epoch 1941/2000\n",
      "5/5 [==============================] - 1s 151ms/step - loss: 1.7472e-04 - mae: 0.0105 - val_loss: 0.0013 - val_mae: 0.0270\n",
      "Epoch 1942/2000\n",
      "5/5 [==============================] - 1s 143ms/step - loss: 2.0431e-04 - mae: 0.0113 - val_loss: 0.0012 - val_mae: 0.0261\n",
      "Epoch 1943/2000\n",
      "5/5 [==============================] - 1s 135ms/step - loss: 2.0074e-04 - mae: 0.0112 - val_loss: 0.0013 - val_mae: 0.0278\n",
      "Epoch 1944/2000\n",
      "5/5 [==============================] - 1s 135ms/step - loss: 2.4381e-04 - mae: 0.0124 - val_loss: 0.0013 - val_mae: 0.0273\n",
      "Epoch 1945/2000\n",
      "5/5 [==============================] - 1s 148ms/step - loss: 2.3157e-04 - mae: 0.0120 - val_loss: 0.0012 - val_mae: 0.0271\n",
      "Epoch 1946/2000\n",
      "5/5 [==============================] - 1s 150ms/step - loss: 1.6589e-04 - mae: 0.0102 - val_loss: 0.0012 - val_mae: 0.0270\n",
      "Epoch 1947/2000\n"
     ]
    },
    {
     "name": "stdout",
     "output_type": "stream",
     "text": [
      "5/5 [==============================] - 1s 153ms/step - loss: 1.7989e-04 - mae: 0.0106 - val_loss: 0.0012 - val_mae: 0.0266\n",
      "Epoch 1948/2000\n",
      "5/5 [==============================] - 1s 143ms/step - loss: 1.6932e-04 - mae: 0.0104 - val_loss: 0.0011 - val_mae: 0.0258\n",
      "Epoch 1949/2000\n",
      "5/5 [==============================] - 1s 135ms/step - loss: 1.3298e-04 - mae: 0.0092 - val_loss: 0.0011 - val_mae: 0.0255\n",
      "Epoch 1950/2000\n",
      "5/5 [==============================] - ETA: 0s - loss: 1.3969e-04 - mae: 0.0094INFO:tensorflow:Assets written to: C:\\Users\\PARK\\Documents\\LAB\\RNN vs LSTM\\FInal Example\\wandb\\run-20221015_190827-1kgjbxck\\files\\model-best\\assets\n"
     ]
    },
    {
     "name": "stderr",
     "output_type": "stream",
     "text": [
      "\u001b[34m\u001b[1mwandb\u001b[0m: Adding directory to artifact (C:\\Users\\PARK\\Documents\\LAB\\RNN vs LSTM\\FInal Example\\wandb\\run-20221015_190827-1kgjbxck\\files\\model-best)... Done. 0.0s\n"
     ]
    },
    {
     "name": "stdout",
     "output_type": "stream",
     "text": [
      "5/5 [==============================] - 2s 478ms/step - loss: 1.3969e-04 - mae: 0.0094 - val_loss: 0.0011 - val_mae: 0.0250\n",
      "Epoch 1951/2000\n",
      "5/5 [==============================] - 1s 174ms/step - loss: 1.2548e-04 - mae: 0.0089 - val_loss: 0.0012 - val_mae: 0.0261\n",
      "Epoch 1952/2000\n",
      "5/5 [==============================] - 1s 146ms/step - loss: 1.5937e-04 - mae: 0.0101 - val_loss: 0.0012 - val_mae: 0.0257\n",
      "Epoch 1953/2000\n",
      "5/5 [==============================] - 1s 137ms/step - loss: 1.2939e-04 - mae: 0.0090 - val_loss: 0.0011 - val_mae: 0.0254\n",
      "Epoch 1954/2000\n",
      "5/5 [==============================] - 1s 138ms/step - loss: 1.2083e-04 - mae: 0.0087 - val_loss: 0.0011 - val_mae: 0.0257\n",
      "Epoch 1955/2000\n",
      "5/5 [==============================] - 1s 145ms/step - loss: 1.2519e-04 - mae: 0.0089 - val_loss: 0.0012 - val_mae: 0.0264\n",
      "Epoch 1956/2000\n",
      "5/5 [==============================] - 1s 151ms/step - loss: 1.3894e-04 - mae: 0.0094 - val_loss: 0.0011 - val_mae: 0.0258\n",
      "Epoch 1957/2000\n",
      "5/5 [==============================] - 1s 142ms/step - loss: 1.3472e-04 - mae: 0.0092 - val_loss: 0.0011 - val_mae: 0.0255\n",
      "Epoch 1958/2000\n",
      "5/5 [==============================] - 1s 135ms/step - loss: 1.1734e-04 - mae: 0.0086 - val_loss: 0.0011 - val_mae: 0.0252\n",
      "Epoch 1959/2000\n",
      "5/5 [==============================] - 1s 135ms/step - loss: 1.0033e-04 - mae: 0.0080 - val_loss: 0.0011 - val_mae: 0.0251\n",
      "Epoch 1960/2000\n",
      "5/5 [==============================] - 1s 143ms/step - loss: 8.9449e-05 - mae: 0.0075 - val_loss: 0.0011 - val_mae: 0.0254\n",
      "Epoch 1961/2000\n",
      "5/5 [==============================] - 1s 142ms/step - loss: 8.7902e-05 - mae: 0.0075 - val_loss: 0.0011 - val_mae: 0.0253\n",
      "Epoch 1962/2000\n",
      "5/5 [==============================] - 1s 136ms/step - loss: 8.4073e-05 - mae: 0.0073 - val_loss: 0.0011 - val_mae: 0.0251\n",
      "Epoch 1963/2000\n",
      "5/5 [==============================] - ETA: 0s - loss: 8.1501e-05 - mae: 0.0072INFO:tensorflow:Assets written to: C:\\Users\\PARK\\Documents\\LAB\\RNN vs LSTM\\FInal Example\\wandb\\run-20221015_190827-1kgjbxck\\files\\model-best\\assets\n"
     ]
    },
    {
     "name": "stderr",
     "output_type": "stream",
     "text": [
      "\u001b[34m\u001b[1mwandb\u001b[0m: Adding directory to artifact (C:\\Users\\PARK\\Documents\\LAB\\RNN vs LSTM\\FInal Example\\wandb\\run-20221015_190827-1kgjbxck\\files\\model-best)... Done. 0.0s\n"
     ]
    },
    {
     "name": "stdout",
     "output_type": "stream",
     "text": [
      "5/5 [==============================] - 2s 490ms/step - loss: 8.1501e-05 - mae: 0.0072 - val_loss: 0.0011 - val_mae: 0.0248\n",
      "Epoch 1964/2000\n",
      "5/5 [==============================] - 1s 156ms/step - loss: 8.8397e-05 - mae: 0.0075 - val_loss: 0.0011 - val_mae: 0.0252\n",
      "Epoch 1965/2000\n",
      "5/5 [==============================] - 1s 150ms/step - loss: 9.7443e-05 - mae: 0.0079 - val_loss: 0.0011 - val_mae: 0.0253\n",
      "Epoch 1966/2000\n",
      "5/5 [==============================] - 1s 142ms/step - loss: 9.0374e-05 - mae: 0.0075 - val_loss: 0.0011 - val_mae: 0.0251\n",
      "Epoch 1967/2000\n",
      "5/5 [==============================] - 1s 140ms/step - loss: 8.9870e-05 - mae: 0.0075 - val_loss: 0.0011 - val_mae: 0.0248\n",
      "Epoch 1968/2000\n",
      "5/5 [==============================] - 1s 136ms/step - loss: 9.6608e-05 - mae: 0.0078 - val_loss: 0.0011 - val_mae: 0.0253\n",
      "Epoch 1969/2000\n",
      "5/5 [==============================] - 1s 145ms/step - loss: 8.9206e-05 - mae: 0.0076 - val_loss: 0.0011 - val_mae: 0.0249\n",
      "Epoch 1970/2000\n",
      "5/5 [==============================] - 1s 145ms/step - loss: 9.8623e-05 - mae: 0.0079 - val_loss: 0.0011 - val_mae: 0.0254\n",
      "Epoch 1971/2000\n",
      "5/5 [==============================] - 1s 141ms/step - loss: 9.4386e-05 - mae: 0.0077 - val_loss: 0.0011 - val_mae: 0.0251\n",
      "Epoch 1972/2000\n",
      "5/5 [==============================] - 1s 145ms/step - loss: 9.0842e-05 - mae: 0.0076 - val_loss: 0.0011 - val_mae: 0.0251\n",
      "Epoch 1973/2000\n",
      "5/5 [==============================] - 1s 136ms/step - loss: 1.1522e-04 - mae: 0.0085 - val_loss: 0.0011 - val_mae: 0.0249\n",
      "Epoch 1974/2000\n",
      "5/5 [==============================] - 1s 140ms/step - loss: 1.2330e-04 - mae: 0.0088 - val_loss: 0.0011 - val_mae: 0.0253\n",
      "Epoch 1975/2000\n",
      "5/5 [==============================] - ETA: 0s - loss: 1.4701e-04 - mae: 0.0096INFO:tensorflow:Assets written to: C:\\Users\\PARK\\Documents\\LAB\\RNN vs LSTM\\FInal Example\\wandb\\run-20221015_190827-1kgjbxck\\files\\model-best\\assets\n"
     ]
    },
    {
     "name": "stderr",
     "output_type": "stream",
     "text": [
      "\u001b[34m\u001b[1mwandb\u001b[0m: Adding directory to artifact (C:\\Users\\PARK\\Documents\\LAB\\RNN vs LSTM\\FInal Example\\wandb\\run-20221015_190827-1kgjbxck\\files\\model-best)... Done. 0.0s\n"
     ]
    },
    {
     "name": "stdout",
     "output_type": "stream",
     "text": [
      "5/5 [==============================] - 2s 484ms/step - loss: 1.4701e-04 - mae: 0.0096 - val_loss: 0.0011 - val_mae: 0.0249\n",
      "Epoch 1976/2000\n",
      "5/5 [==============================] - 1s 167ms/step - loss: 1.4438e-04 - mae: 0.0096 - val_loss: 0.0012 - val_mae: 0.0265\n",
      "Epoch 1977/2000\n",
      "5/5 [==============================] - 1s 149ms/step - loss: 2.2541e-04 - mae: 0.0122 - val_loss: 0.0011 - val_mae: 0.0258\n",
      "Epoch 1978/2000\n",
      "5/5 [==============================] - 1s 141ms/step - loss: 2.3109e-04 - mae: 0.0122 - val_loss: 0.0012 - val_mae: 0.0269\n",
      "Epoch 1979/2000\n",
      "5/5 [==============================] - 1s 137ms/step - loss: 2.6618e-04 - mae: 0.0129 - val_loss: 0.0012 - val_mae: 0.0261\n",
      "Epoch 1980/2000\n",
      "5/5 [==============================] - 1s 141ms/step - loss: 2.2489e-04 - mae: 0.0119 - val_loss: 0.0013 - val_mae: 0.0273\n",
      "Epoch 1981/2000\n",
      "5/5 [==============================] - 1s 147ms/step - loss: 2.8967e-04 - mae: 0.0137 - val_loss: 0.0012 - val_mae: 0.0266\n",
      "Epoch 1982/2000\n",
      "5/5 [==============================] - 1s 148ms/step - loss: 2.5001e-04 - mae: 0.0126 - val_loss: 0.0012 - val_mae: 0.0270\n",
      "Epoch 1983/2000\n",
      "5/5 [==============================] - 1s 148ms/step - loss: 2.8435e-04 - mae: 0.0134 - val_loss: 0.0012 - val_mae: 0.0263\n",
      "Epoch 1984/2000\n",
      "5/5 [==============================] - 1s 158ms/step - loss: 2.4909e-04 - mae: 0.0127 - val_loss: 0.0013 - val_mae: 0.0284\n",
      "Epoch 1985/2000\n",
      "5/5 [==============================] - 1s 148ms/step - loss: 2.4227e-04 - mae: 0.0124 - val_loss: 0.0012 - val_mae: 0.0261\n",
      "Epoch 1986/2000\n",
      "5/5 [==============================] - 1s 150ms/step - loss: 1.8685e-04 - mae: 0.0110 - val_loss: 0.0011 - val_mae: 0.0257\n",
      "Epoch 1987/2000\n",
      "5/5 [==============================] - 1s 143ms/step - loss: 1.9110e-04 - mae: 0.0110 - val_loss: 0.0012 - val_mae: 0.0264\n",
      "Epoch 1988/2000\n",
      "5/5 [==============================] - 1s 140ms/step - loss: 2.1267e-04 - mae: 0.0114 - val_loss: 0.0011 - val_mae: 0.0258\n",
      "Epoch 1989/2000\n",
      "5/5 [==============================] - 1s 138ms/step - loss: 1.6942e-04 - mae: 0.0103 - val_loss: 0.0012 - val_mae: 0.0260\n",
      "Epoch 1990/2000\n",
      "5/5 [==============================] - 1s 149ms/step - loss: 1.5198e-04 - mae: 0.0099 - val_loss: 0.0012 - val_mae: 0.0271\n",
      "Epoch 1991/2000\n",
      "5/5 [==============================] - 1s 153ms/step - loss: 1.8944e-04 - mae: 0.0110 - val_loss: 0.0011 - val_mae: 0.0258\n",
      "Epoch 1992/2000\n",
      "5/5 [==============================] - 1s 149ms/step - loss: 1.7701e-04 - mae: 0.0107 - val_loss: 0.0013 - val_mae: 0.0280\n",
      "Epoch 1993/2000\n",
      "5/5 [==============================] - 1s 143ms/step - loss: 2.2706e-04 - mae: 0.0122 - val_loss: 0.0014 - val_mae: 0.0285\n",
      "Epoch 1994/2000\n",
      "5/5 [==============================] - 1s 138ms/step - loss: 3.1225e-04 - mae: 0.0145 - val_loss: 0.0014 - val_mae: 0.0283\n",
      "Epoch 1995/2000\n",
      "5/5 [==============================] - 1s 148ms/step - loss: 2.6250e-04 - mae: 0.0131 - val_loss: 0.0014 - val_mae: 0.0292\n",
      "Epoch 1996/2000\n",
      "5/5 [==============================] - 1s 146ms/step - loss: 2.8517e-04 - mae: 0.0136 - val_loss: 0.0014 - val_mae: 0.0296\n",
      "Epoch 1997/2000\n",
      "5/5 [==============================] - 1s 140ms/step - loss: 4.1610e-04 - mae: 0.0165 - val_loss: 0.0013 - val_mae: 0.0271\n",
      "Epoch 1998/2000\n",
      "5/5 [==============================] - 1s 141ms/step - loss: 3.6412e-04 - mae: 0.0150 - val_loss: 0.0019 - val_mae: 0.0336\n",
      "Epoch 1999/2000\n",
      "5/5 [==============================] - 1s 143ms/step - loss: 5.7371e-04 - mae: 0.0187 - val_loss: 0.0016 - val_mae: 0.0307\n",
      "Epoch 2000/2000\n",
      "5/5 [==============================] - 1s 135ms/step - loss: 4.6151e-04 - mae: 0.0171 - val_loss: 0.0016 - val_mae: 0.0312\n"
     ]
    }
   ],
   "source": [
    "from tensorflow.keras import datasets, layers, models\n",
    "from tensorflow import keras\n",
    "from tensorflow.keras import layers\n",
    "\n",
    "model = models.Sequential()\n",
    "model.add(layers.SimpleRNN(128, input_shape=(time_step,2)))\n",
    "model.add(layers.Dense(25))\n",
    "\n",
    "model.summary()\n",
    "\n",
    "model.compile(optimizer='adam', loss='mse', metrics=['mae'])\n",
    "\n",
    "history = model.fit(train_input, train_label, epochs=2000, verbose=1, shuffle=True, validation_split=0.20,\n",
    "                   callbacks=[WandbCallback(log_weights=True, log_gradients=True, training_data=(train_input, train_label))])"
   ]
  },
  {
   "cell_type": "code",
   "execution_count": 17,
   "id": "f2977e3d",
   "metadata": {},
   "outputs": [
    {
     "name": "stdout",
     "output_type": "stream",
     "text": [
      "1/1 [==============================] - 0s 95ms/step\n"
     ]
    }
   ],
   "source": [
    "test_input = test_input.reshape(1, test_input.shape[0], test_input.shape[1])\n",
    "\n",
    "y_hat = model.predict(test_input)"
   ]
  },
  {
   "cell_type": "code",
   "execution_count": 18,
   "id": "569d2b27",
   "metadata": {},
   "outputs": [
    {
     "data": {
      "text/plain": [
       "(1, 100, 2)"
      ]
     },
     "execution_count": 18,
     "metadata": {},
     "output_type": "execute_result"
    }
   ],
   "source": [
    "test_input.shape"
   ]
  },
  {
   "cell_type": "code",
   "execution_count": 19,
   "id": "6b083de8",
   "metadata": {},
   "outputs": [],
   "source": [
    "test_label = test_label.reshape(1, test_label.shape[0], test_label.shape[1])"
   ]
  },
  {
   "cell_type": "code",
   "execution_count": 20,
   "id": "54e7a073",
   "metadata": {},
   "outputs": [
    {
     "data": {
      "text/plain": [
       "(1, 25, 1)"
      ]
     },
     "execution_count": 20,
     "metadata": {},
     "output_type": "execute_result"
    }
   ],
   "source": [
    "test_label.shape"
   ]
  },
  {
   "cell_type": "code",
   "execution_count": 21,
   "id": "b3e0c133",
   "metadata": {},
   "outputs": [
    {
     "data": {
      "text/plain": [
       "array([[1.3668679, 1.6375042, 1.7014105, 1.6794142, 1.8019805, 1.8882109,\n",
       "        1.6452297, 1.9036237, 1.7031535, 1.634446 , 1.8729384, 2.0672307,\n",
       "        1.4046913, 1.6253965, 1.6305578, 1.6239903, 2.0810227, 2.15394  ,\n",
       "        1.9470278, 2.1990392, 1.844336 , 2.0874188, 2.1631339, 2.4112215,\n",
       "        1.5501668]], dtype=float32)"
      ]
     },
     "execution_count": 21,
     "metadata": {},
     "output_type": "execute_result"
    }
   ],
   "source": [
    "y_hat"
   ]
  },
  {
   "cell_type": "code",
   "execution_count": 22,
   "id": "e37311d1",
   "metadata": {},
   "outputs": [
    {
     "data": {
      "text/plain": [
       "(1, 25)"
      ]
     },
     "execution_count": 22,
     "metadata": {},
     "output_type": "execute_result"
    }
   ],
   "source": [
    "y_hat.shape"
   ]
  },
  {
   "cell_type": "code",
   "execution_count": 23,
   "id": "ad0f0285",
   "metadata": {},
   "outputs": [],
   "source": [
    "y_hat = y_hat.reshape(y_hat.shape[1], 1)"
   ]
  },
  {
   "cell_type": "code",
   "execution_count": 24,
   "id": "69ea1f6f",
   "metadata": {},
   "outputs": [],
   "source": [
    "y_hat = (y_hat*data_std)+data_mean"
   ]
  },
  {
   "cell_type": "code",
   "execution_count": 25,
   "id": "702f2214",
   "metadata": {},
   "outputs": [],
   "source": [
    "#print(scaler.data_max_)"
   ]
  },
  {
   "cell_type": "code",
   "execution_count": 26,
   "id": "1ca1a387",
   "metadata": {},
   "outputs": [],
   "source": [
    "#print(scaler.data_min_)"
   ]
  },
  {
   "cell_type": "code",
   "execution_count": 27,
   "id": "5e40982b",
   "metadata": {},
   "outputs": [],
   "source": [
    "#y_hat = y_hat * (scaler.data_max_[1]-scaler.data_min_[1]) + scaler.data_min_[1]"
   ]
  },
  {
   "cell_type": "code",
   "execution_count": 28,
   "id": "902bb0d7",
   "metadata": {},
   "outputs": [
    {
     "data": {
      "text/plain": [
       "Text(0.5, 1.0, 'RNN prediction')"
      ]
     },
     "execution_count": 28,
     "metadata": {},
     "output_type": "execute_result"
    },
    {
     "data": {
      "image/png": "[encoded data removed]",
      "text/plain": [
       "<Figure size 1008x576 with 1 Axes>"
      ]
     },
     "metadata": {
      "needs_background": "light"
     },
     "output_type": "display_data"
    }
   ],
   "source": [
    "import matplotlib.pyplot as plt\n",
    "\n",
    "x = range(325)\n",
    "plt.figure(figsize=(14,8))\n",
    "plt.plot(df[300:325]['Sales'], label='original')\n",
    "plt.plot(x[300:325], y_hat, label='prediction')\n",
    "plt.legend()\n",
    "plt.xlabel('Sequence', fontsize=20)\n",
    "plt.ylabel('Sales', fontsize=20)\n",
    "plt.title('RNN prediction', fontsize=25)"
   ]
  },
  {
   "cell_type": "code",
   "execution_count": 29,
   "id": "051887d3",
   "metadata": {
    "scrolled": true
   },
   "outputs": [
    {
     "name": "stdout",
     "output_type": "stream",
     "text": [
      "1/1 [==============================] - 0s 22ms/step - loss: 0.0539 - mae: 0.1972\n"
     ]
    },
    {
     "data": {
      "text/plain": [
       "[0.05389830470085144, 0.197183758020401]"
      ]
     },
     "execution_count": 29,
     "metadata": {},
     "output_type": "execute_result"
    }
   ],
   "source": [
    "model.evaluate(test_input, test_label)"
   ]
  },
  {
   "cell_type": "code",
   "execution_count": null,
   "id": "2819448e",
   "metadata": {},
   "outputs": [],
   "source": []
  }
 ],
 "metadata": {
  "kernelspec": {
   "display_name": "Python 3 (ipykernel)",
   "language": "python",
   "name": "python3"
  },
  "language_info": {
   "codemirror_mode": {
    "name": "ipython",
    "version": 3
   },
   "file_extension": ".py",
   "mimetype": "text/x-python",
   "name": "python",
   "nbconvert_exporter": "python",
   "pygments_lexer": "ipython3",
   "version": "3.9.12"
  }
 },
 "nbformat": 4,
 "nbformat_minor": 5
}
