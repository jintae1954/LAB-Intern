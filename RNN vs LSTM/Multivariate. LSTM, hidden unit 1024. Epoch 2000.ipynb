{
 "cells": [
  {
   "cell_type": "code",
   "execution_count": 1,
   "id": "fff0fdc5",
   "metadata": {},
   "outputs": [
    {
     "name": "stderr",
     "output_type": "stream",
     "text": [
      "\u001b[34m\u001b[1mwandb\u001b[0m: Currently logged in as: \u001b[33mjintae\u001b[0m. Use \u001b[1m`wandb login --relogin`\u001b[0m to force relogin\n"
     ]
    },
    {
     "data": {
      "text/html": [
       "Tracking run with wandb version 0.13.4"
      ],
      "text/plain": [
       "<IPython.core.display.HTML object>"
      ]
     },
     "metadata": {},
     "output_type": "display_data"
    },
    {
     "data": {
      "text/html": [
       "Run data is saved locally in <code>C:\\Users\\PARK\\Documents\\LAB\\RNN vs LSTM\\FInal Example\\wandb\\run-20221016_023555-20c04pun</code>"
      ],
      "text/plain": [
       "<IPython.core.display.HTML object>"
      ]
     },
     "metadata": {},
     "output_type": "display_data"
    },
    {
     "data": {
      "text/html": [
       "Syncing run <strong><a href=\"https://wandb.ai/jintae/LSTM%20seq%201024./runs/20c04pun\" target=\"_blank\">epoch 2000</a></strong> to <a href=\"https://wandb.ai/jintae/LSTM%20seq%201024.\" target=\"_blank\">Weights & Biases</a> (<a href=\"https://wandb.me/run\" target=\"_blank\">docs</a>)<br/>"
      ],
      "text/plain": [
       "<IPython.core.display.HTML object>"
      ]
     },
     "metadata": {},
     "output_type": "display_data"
    },
    {
     "data": {
      "text/html": [
       "<button onClick=\"this.nextSibling.style.display='block';this.style.display='none';\">Display W&B run</button><iframe src=\"https://wandb.ai/jintae/LSTM%20seq%201024./runs/20c04pun?jupyter=true\" style=\"border:none;width:100%;height:420px;display:none;\"></iframe>"
      ],
      "text/plain": [
       "<wandb.sdk.wandb_run.Run at 0x281dbcf24f0>"
      ]
     },
     "execution_count": 1,
     "metadata": {},
     "output_type": "execute_result"
    }
   ],
   "source": [
    "import wandb\n",
    "from wandb.keras import WandbCallback\n",
    "wandb.init(project=\"LSTM seq 1024.\", name=\"epoch 2000\")"
   ]
  },
  {
   "cell_type": "code",
   "execution_count": 2,
   "id": "650bae84",
   "metadata": {},
   "outputs": [
    {
     "name": "stdout",
     "output_type": "stream",
     "text": [
      "   DATE  Sales\n",
      "0     0   3459\n",
      "1     1   3458\n",
      "2     2   4002\n",
      "3     3   4564\n",
      "4     4   4221\n"
     ]
    }
   ],
   "source": [
    "import pandas as pd\n",
    "\n",
    "df = pd.read_csv('C:/Users/PARK/Desktop/Alcohol_Sales.csv')\n",
    "print(df.head())"
   ]
  },
  {
   "cell_type": "code",
   "execution_count": 3,
   "id": "71e18e17",
   "metadata": {},
   "outputs": [
    {
     "data": {
      "text/plain": [
       "(325, 2)"
      ]
     },
     "execution_count": 3,
     "metadata": {},
     "output_type": "execute_result"
    }
   ],
   "source": [
    "df.shape"
   ]
  },
  {
   "cell_type": "code",
   "execution_count": 4,
   "id": "5f4f8fb7",
   "metadata": {},
   "outputs": [],
   "source": [
    "import numpy as np\n",
    "\n",
    "data = df.to_numpy()"
   ]
  },
  {
   "cell_type": "code",
   "execution_count": 5,
   "id": "c6063052",
   "metadata": {},
   "outputs": [
    {
     "data": {
      "text/plain": [
       "(325, 2)"
      ]
     },
     "execution_count": 5,
     "metadata": {},
     "output_type": "execute_result"
    }
   ],
   "source": [
    "data.shape"
   ]
  },
  {
   "cell_type": "code",
   "execution_count": 6,
   "id": "01930485",
   "metadata": {},
   "outputs": [
    {
     "data": {
      "text/plain": [
       "array([[   0, 3459],\n",
       "       [   1, 3458],\n",
       "       [   2, 4002],\n",
       "       [   3, 4564],\n",
       "       [   4, 4221]], dtype=int64)"
      ]
     },
     "execution_count": 6,
     "metadata": {},
     "output_type": "execute_result"
    }
   ],
   "source": [
    "data[0:5]"
   ]
  },
  {
   "cell_type": "code",
   "execution_count": 7,
   "id": "ad83b404",
   "metadata": {},
   "outputs": [],
   "source": [
    "# from sklearn.preprocessing import MinMaxScaler\n",
    "\n",
    "# scaler = MinMaxScaler()\n",
    "\n",
    "# data = scaler.fit_transform(data)"
   ]
  },
  {
   "cell_type": "code",
   "execution_count": 8,
   "id": "17aef2ea",
   "metadata": {},
   "outputs": [],
   "source": [
    "data_mean = data.mean()\n",
    "data_std = data.std()\n",
    "\n",
    "data = (data - data_mean)/data_std"
   ]
  },
  {
   "cell_type": "code",
   "execution_count": 9,
   "id": "63fe0032",
   "metadata": {},
   "outputs": [
    {
     "data": {
      "text/plain": [
       "array([[-0.9194862 , -0.12914209],\n",
       "       [-0.91925771, -0.12937058],\n",
       "       [-0.91902922, -0.00507246],\n",
       "       [-0.91880073,  0.12333846],\n",
       "       [-0.91857224,  0.04496667]])"
      ]
     },
     "execution_count": 9,
     "metadata": {},
     "output_type": "execute_result"
    }
   ],
   "source": [
    "data[0:5]"
   ]
  },
  {
   "cell_type": "code",
   "execution_count": 10,
   "id": "87ac24ef",
   "metadata": {
    "scrolled": true
   },
   "outputs": [],
   "source": [
    "train_input = []\n",
    "train_label = []\n",
    "\n",
    "data_len = 325\n",
    "time_step = 100\n",
    "out_dim = 25\n",
    "\n",
    "for i in range(176):\n",
    "    _input = data[i:i+time_step]\n",
    "    _label = data[i+time_step:i+time_step+out_dim]\n",
    "    \n",
    "    train_input.append(_input)\n",
    "    train_label.append(_label)\n",
    "    \n",
    "\n",
    "train_input = np.array(train_input)\n",
    "train_label = np.array(train_label)\n",
    "train_label = np.delete(train_label, 0, axis=2)\n",
    "\n",
    "\n",
    "test_input = np.array(data[data_len-out_dim-time_step:data_len-out_dim])\n",
    "test_label =np.array(data[300:325])\n",
    "test_label = np.delete(test_label, 0, axis=1)"
   ]
  },
  {
   "cell_type": "code",
   "execution_count": 11,
   "id": "41975dc7",
   "metadata": {},
   "outputs": [
    {
     "data": {
      "text/plain": [
       "(176, 100, 2)"
      ]
     },
     "execution_count": 11,
     "metadata": {},
     "output_type": "execute_result"
    }
   ],
   "source": [
    "train_input.shape"
   ]
  },
  {
   "cell_type": "code",
   "execution_count": 12,
   "id": "b762c3ba",
   "metadata": {},
   "outputs": [
    {
     "data": {
      "text/plain": [
       "(176, 25, 1)"
      ]
     },
     "execution_count": 12,
     "metadata": {},
     "output_type": "execute_result"
    }
   ],
   "source": [
    "train_label.shape"
   ]
  },
  {
   "cell_type": "code",
   "execution_count": 13,
   "id": "127c63a2",
   "metadata": {},
   "outputs": [
    {
     "data": {
      "text/plain": [
       "(100, 2)"
      ]
     },
     "execution_count": 13,
     "metadata": {},
     "output_type": "execute_result"
    }
   ],
   "source": [
    "test_input.shape"
   ]
  },
  {
   "cell_type": "code",
   "execution_count": 14,
   "id": "6647472d",
   "metadata": {},
   "outputs": [
    {
     "data": {
      "text/plain": [
       "(25, 1)"
      ]
     },
     "execution_count": 14,
     "metadata": {},
     "output_type": "execute_result"
    }
   ],
   "source": [
    "test_label.shape"
   ]
  },
  {
   "cell_type": "code",
   "execution_count": 15,
   "id": "5d83c07f",
   "metadata": {},
   "outputs": [],
   "source": [
    "np.random.seed(10)\n",
    "shuffled_indices = np.random.permutation(np.arange(train_input.shape[0]))\n",
    "train_input = train_input[shuffled_indices, :, :]\n",
    "train_label = train_label[shuffled_indices, :]"
   ]
  },
  {
   "cell_type": "code",
   "execution_count": 16,
   "id": "a183926e",
   "metadata": {
    "scrolled": true
   },
   "outputs": [
    {
     "name": "stdout",
     "output_type": "stream",
     "text": [
      "Model: \"sequential\"\n",
      "_________________________________________________________________\n",
      " Layer (type)                Output Shape              Param #   \n",
      "=================================================================\n",
      " lstm (LSTM)                 (None, 1024)              4206592   \n",
      "                                                                 \n",
      " dense (Dense)               (None, 25)                25625     \n",
      "                                                                 \n",
      "=================================================================\n",
      "Total params: 4,232,217\n",
      "Trainable params: 4,232,217\n",
      "Non-trainable params: 0\n",
      "_________________________________________________________________\n"
     ]
    },
    {
     "name": "stderr",
     "output_type": "stream",
     "text": [
      "\u001b[34m\u001b[1mwandb\u001b[0m: \u001b[33mWARNING\u001b[0m The save_model argument by default saves the model in the HDF5 format that cannot save custom objects like subclassed models and custom layers. This behavior will be deprecated in a future release in favor of the SavedModel format. Meanwhile, the HDF5 model is saved as W&B files and the SavedModel as W&B Artifacts.\n"
     ]
    },
    {
     "name": "stdout",
     "output_type": "stream",
     "text": [
      "Epoch 1/2000\n",
      "1/5 [=====>........................] - ETA: 6s - loss: 1.5032 - mae: 1.1591"
     ]
    },
    {
     "name": "stderr",
     "output_type": "stream",
     "text": [
      "WARNING:absl:Found untraced functions such as lstm_cell_layer_call_fn, lstm_cell_layer_call_and_return_conditional_losses while saving (showing 2 of 2). These functions will not be directly callable after loading.\n"
     ]
    },
    {
     "name": "stdout",
     "output_type": "stream",
     "text": [
      "INFO:tensorflow:Assets written to: C:\\Users\\PARK\\Documents\\LAB\\RNN vs LSTM\\FInal Example\\wandb\\run-20221016_023555-20c04pun\\files\\model-best\\assets\n"
     ]
    },
    {
     "name": "stderr",
     "output_type": "stream",
     "text": [
      "INFO:tensorflow:Assets written to: C:\\Users\\PARK\\Documents\\LAB\\RNN vs LSTM\\FInal Example\\wandb\\run-20221016_023555-20c04pun\\files\\model-best\\assets\n",
      "\u001b[34m\u001b[1mwandb\u001b[0m: Adding directory to artifact (C:\\Users\\PARK\\Documents\\LAB\\RNN vs LSTM\\FInal Example\\wandb\\run-20221016_023555-20c04pun\\files\\model-best)... Done. 0.1s\n"
     ]
    },
    {
     "name": "stdout",
     "output_type": "stream",
     "text": [
      "5/5 [==============================] - 7s 1s/step - loss: 1.2388 - mae: 0.9788 - val_loss: 0.4644 - val_mae: 0.5749\n",
      "Epoch 2/2000\n",
      "1/5 [=====>........................] - ETA: 1s - loss: 0.3715 - mae: 0.4961"
     ]
    },
    {
     "name": "stderr",
     "output_type": "stream",
     "text": [
      "WARNING:absl:Found untraced functions such as lstm_cell_layer_call_fn, lstm_cell_layer_call_and_return_conditional_losses while saving (showing 2 of 2). These functions will not be directly callable after loading.\n"
     ]
    },
    {
     "name": "stdout",
     "output_type": "stream",
     "text": [
      "INFO:tensorflow:Assets written to: C:\\Users\\PARK\\Documents\\LAB\\RNN vs LSTM\\FInal Example\\wandb\\run-20221016_023555-20c04pun\\files\\model-best\\assets\n"
     ]
    },
    {
     "name": "stderr",
     "output_type": "stream",
     "text": [
      "INFO:tensorflow:Assets written to: C:\\Users\\PARK\\Documents\\LAB\\RNN vs LSTM\\FInal Example\\wandb\\run-20221016_023555-20c04pun\\files\\model-best\\assets\n",
      "\u001b[34m\u001b[1mwandb\u001b[0m: Adding directory to artifact (C:\\Users\\PARK\\Documents\\LAB\\RNN vs LSTM\\FInal Example\\wandb\\run-20221016_023555-20c04pun\\files\\model-best)... Done. 0.1s\n"
     ]
    },
    {
     "name": "stdout",
     "output_type": "stream",
     "text": [
      "5/5 [==============================] - 4s 1s/step - loss: 0.2607 - mae: 0.4110 - val_loss: 0.2334 - val_mae: 0.3938\n",
      "Epoch 3/2000\n",
      "3/5 [=================>............] - ETA: 0s - loss: 0.2173 - mae: 0.3921"
     ]
    },
    {
     "name": "stderr",
     "output_type": "stream",
     "text": [
      "WARNING:absl:Found untraced functions such as lstm_cell_layer_call_fn, lstm_cell_layer_call_and_return_conditional_losses while saving (showing 2 of 2). These functions will not be directly callable after loading.\n"
     ]
    },
    {
     "name": "stdout",
     "output_type": "stream",
     "text": [
      "INFO:tensorflow:Assets written to: C:\\Users\\PARK\\Documents\\LAB\\RNN vs LSTM\\FInal Example\\wandb\\run-20221016_023555-20c04pun\\files\\model-best\\assets\n"
     ]
    },
    {
     "name": "stderr",
     "output_type": "stream",
     "text": [
      "INFO:tensorflow:Assets written to: C:\\Users\\PARK\\Documents\\LAB\\RNN vs LSTM\\FInal Example\\wandb\\run-20221016_023555-20c04pun\\files\\model-best\\assets\n",
      "\u001b[34m\u001b[1mwandb\u001b[0m: Adding directory to artifact (C:\\Users\\PARK\\Documents\\LAB\\RNN vs LSTM\\FInal Example\\wandb\\run-20221016_023555-20c04pun\\files\\model-best)... Done. 0.1s\n"
     ]
    },
    {
     "name": "stdout",
     "output_type": "stream",
     "text": [
      "5/5 [==============================] - 4s 1s/step - loss: 0.1971 - mae: 0.3698 - val_loss: 0.1975 - val_mae: 0.3714\n",
      "Epoch 4/2000\n",
      "1/5 [=====>........................] - ETA: 0s - loss: 0.2316 - mae: 0.3982"
     ]
    },
    {
     "name": "stderr",
     "output_type": "stream",
     "text": [
      "WARNING:absl:Found untraced functions such as lstm_cell_layer_call_fn, lstm_cell_layer_call_and_return_conditional_losses while saving (showing 2 of 2). These functions will not be directly callable after loading.\n"
     ]
    },
    {
     "name": "stdout",
     "output_type": "stream",
     "text": [
      "INFO:tensorflow:Assets written to: C:\\Users\\PARK\\Documents\\LAB\\RNN vs LSTM\\FInal Example\\wandb\\run-20221016_023555-20c04pun\\files\\model-best\\assets\n"
     ]
    },
    {
     "name": "stderr",
     "output_type": "stream",
     "text": [
      "INFO:tensorflow:Assets written to: C:\\Users\\PARK\\Documents\\LAB\\RNN vs LSTM\\FInal Example\\wandb\\run-20221016_023555-20c04pun\\files\\model-best\\assets\n",
      "\u001b[34m\u001b[1mwandb\u001b[0m: Adding directory to artifact (C:\\Users\\PARK\\Documents\\LAB\\RNN vs LSTM\\FInal Example\\wandb\\run-20221016_023555-20c04pun\\files\\model-best)... Done. 0.1s\n"
     ]
    },
    {
     "name": "stdout",
     "output_type": "stream",
     "text": [
      "5/5 [==============================] - 5s 1s/step - loss: 0.1979 - mae: 0.3651 - val_loss: 0.1747 - val_mae: 0.3496\n",
      "Epoch 5/2000\n",
      "5/5 [==============================] - 1s 95ms/step - loss: 0.1789 - mae: 0.3508 - val_loss: 0.1853 - val_mae: 0.3549\n",
      "Epoch 6/2000\n",
      "1/5 [=====>........................] - ETA: 0s - loss: 0.2078 - mae: 0.3847"
     ]
    },
    {
     "name": "stderr",
     "output_type": "stream",
     "text": [
      "WARNING:absl:Found untraced functions such as lstm_cell_layer_call_fn, lstm_cell_layer_call_and_return_conditional_losses while saving (showing 2 of 2). These functions will not be directly callable after loading.\n"
     ]
    },
    {
     "name": "stdout",
     "output_type": "stream",
     "text": [
      "INFO:tensorflow:Assets written to: C:\\Users\\PARK\\Documents\\LAB\\RNN vs LSTM\\FInal Example\\wandb\\run-20221016_023555-20c04pun\\files\\model-best\\assets\n"
     ]
    },
    {
     "name": "stderr",
     "output_type": "stream",
     "text": [
      "INFO:tensorflow:Assets written to: C:\\Users\\PARK\\Documents\\LAB\\RNN vs LSTM\\FInal Example\\wandb\\run-20221016_023555-20c04pun\\files\\model-best\\assets\n",
      "\u001b[34m\u001b[1mwandb\u001b[0m: Adding directory to artifact (C:\\Users\\PARK\\Documents\\LAB\\RNN vs LSTM\\FInal Example\\wandb\\run-20221016_023555-20c04pun\\files\\model-best)... Done. 0.1s\n"
     ]
    },
    {
     "name": "stdout",
     "output_type": "stream",
     "text": [
      "5/5 [==============================] - 4s 1s/step - loss: 0.1803 - mae: 0.3518 - val_loss: 0.1737 - val_mae: 0.3498\n",
      "Epoch 7/2000\n",
      "5/5 [==============================] - ETA: 0s - loss: 0.1787 - mae: 0.3509"
     ]
    },
    {
     "name": "stderr",
     "output_type": "stream",
     "text": [
      "WARNING:absl:Found untraced functions such as lstm_cell_layer_call_fn, lstm_cell_layer_call_and_return_conditional_losses while saving (showing 2 of 2). These functions will not be directly callable after loading.\n"
     ]
    },
    {
     "name": "stdout",
     "output_type": "stream",
     "text": [
      "INFO:tensorflow:Assets written to: C:\\Users\\PARK\\Documents\\LAB\\RNN vs LSTM\\FInal Example\\wandb\\run-20221016_023555-20c04pun\\files\\model-best\\assets\n"
     ]
    },
    {
     "name": "stderr",
     "output_type": "stream",
     "text": [
      "INFO:tensorflow:Assets written to: C:\\Users\\PARK\\Documents\\LAB\\RNN vs LSTM\\FInal Example\\wandb\\run-20221016_023555-20c04pun\\files\\model-best\\assets\n",
      "\u001b[34m\u001b[1mwandb\u001b[0m: Adding directory to artifact (C:\\Users\\PARK\\Documents\\LAB\\RNN vs LSTM\\FInal Example\\wandb\\run-20221016_023555-20c04pun\\files\\model-best)... Done. 0.1s\n"
     ]
    },
    {
     "name": "stdout",
     "output_type": "stream",
     "text": [
      "5/5 [==============================] - 5s 1s/step - loss: 0.1787 - mae: 0.3509 - val_loss: 0.1725 - val_mae: 0.3479\n",
      "Epoch 8/2000\n",
      "5/5 [==============================] - 1s 100ms/step - loss: 0.1752 - mae: 0.3467 - val_loss: 0.1732 - val_mae: 0.3460\n",
      "Epoch 9/2000\n",
      "1/5 [=====>........................] - ETA: 0s - loss: 0.1739 - mae: 0.3419"
     ]
    },
    {
     "name": "stderr",
     "output_type": "stream",
     "text": [
      "WARNING:absl:Found untraced functions such as lstm_cell_layer_call_fn, lstm_cell_layer_call_and_return_conditional_losses while saving (showing 2 of 2). These functions will not be directly callable after loading.\n"
     ]
    },
    {
     "name": "stdout",
     "output_type": "stream",
     "text": [
      "INFO:tensorflow:Assets written to: C:\\Users\\PARK\\Documents\\LAB\\RNN vs LSTM\\FInal Example\\wandb\\run-20221016_023555-20c04pun\\files\\model-best\\assets\n"
     ]
    },
    {
     "name": "stderr",
     "output_type": "stream",
     "text": [
      "INFO:tensorflow:Assets written to: C:\\Users\\PARK\\Documents\\LAB\\RNN vs LSTM\\FInal Example\\wandb\\run-20221016_023555-20c04pun\\files\\model-best\\assets\n",
      "\u001b[34m\u001b[1mwandb\u001b[0m: Adding directory to artifact (C:\\Users\\PARK\\Documents\\LAB\\RNN vs LSTM\\FInal Example\\wandb\\run-20221016_023555-20c04pun\\files\\model-best)... Done. 0.1s\n"
     ]
    },
    {
     "name": "stdout",
     "output_type": "stream",
     "text": [
      "5/5 [==============================] - 4s 1s/step - loss: 0.1740 - mae: 0.3450 - val_loss: 0.1676 - val_mae: 0.3424\n",
      "Epoch 10/2000\n",
      "4/5 [=======================>......] - ETA: 0s - loss: 0.1707 - mae: 0.3444"
     ]
    },
    {
     "name": "stderr",
     "output_type": "stream",
     "text": [
      "WARNING:absl:Found untraced functions such as lstm_cell_layer_call_fn, lstm_cell_layer_call_and_return_conditional_losses while saving (showing 2 of 2). These functions will not be directly callable after loading.\n"
     ]
    },
    {
     "name": "stdout",
     "output_type": "stream",
     "text": [
      "INFO:tensorflow:Assets written to: C:\\Users\\PARK\\Documents\\LAB\\RNN vs LSTM\\FInal Example\\wandb\\run-20221016_023555-20c04pun\\files\\model-best\\assets\n"
     ]
    },
    {
     "name": "stderr",
     "output_type": "stream",
     "text": [
      "INFO:tensorflow:Assets written to: C:\\Users\\PARK\\Documents\\LAB\\RNN vs LSTM\\FInal Example\\wandb\\run-20221016_023555-20c04pun\\files\\model-best\\assets\n",
      "\u001b[34m\u001b[1mwandb\u001b[0m: Adding directory to artifact (C:\\Users\\PARK\\Documents\\LAB\\RNN vs LSTM\\FInal Example\\wandb\\run-20221016_023555-20c04pun\\files\\model-best)... Done. 0.1s\n"
     ]
    },
    {
     "name": "stdout",
     "output_type": "stream",
     "text": [
      "5/5 [==============================] - 5s 1s/step - loss: 0.1687 - mae: 0.3412 - val_loss: 0.1615 - val_mae: 0.3358\n",
      "Epoch 11/2000\n",
      "3/5 [=================>............] - ETA: 0s - loss: 0.1636 - mae: 0.3368"
     ]
    },
    {
     "name": "stderr",
     "output_type": "stream",
     "text": [
      "WARNING:absl:Found untraced functions such as lstm_cell_layer_call_fn, lstm_cell_layer_call_and_return_conditional_losses while saving (showing 2 of 2). These functions will not be directly callable after loading.\n"
     ]
    },
    {
     "name": "stdout",
     "output_type": "stream",
     "text": [
      "INFO:tensorflow:Assets written to: C:\\Users\\PARK\\Documents\\LAB\\RNN vs LSTM\\FInal Example\\wandb\\run-20221016_023555-20c04pun\\files\\model-best\\assets\n"
     ]
    },
    {
     "name": "stderr",
     "output_type": "stream",
     "text": [
      "INFO:tensorflow:Assets written to: C:\\Users\\PARK\\Documents\\LAB\\RNN vs LSTM\\FInal Example\\wandb\\run-20221016_023555-20c04pun\\files\\model-best\\assets\n",
      "\u001b[34m\u001b[1mwandb\u001b[0m: Adding directory to artifact (C:\\Users\\PARK\\Documents\\LAB\\RNN vs LSTM\\FInal Example\\wandb\\run-20221016_023555-20c04pun\\files\\model-best)... Done. 0.1s\n"
     ]
    },
    {
     "name": "stdout",
     "output_type": "stream",
     "text": [
      "5/5 [==============================] - 4s 1s/step - loss: 0.1604 - mae: 0.3316 - val_loss: 0.1433 - val_mae: 0.3137\n",
      "Epoch 12/2000\n",
      "5/5 [==============================] - 1s 76ms/step - loss: 0.1830 - mae: 0.3475 - val_loss: 0.1601 - val_mae: 0.3351\n",
      "Epoch 13/2000\n",
      "5/5 [==============================] - 0s 79ms/step - loss: 0.1800 - mae: 0.3510 - val_loss: 0.1602 - val_mae: 0.3318\n",
      "Epoch 14/2000\n",
      "5/5 [==============================] - 0s 75ms/step - loss: 0.1701 - mae: 0.3416 - val_loss: 0.1617 - val_mae: 0.3366\n",
      "Epoch 15/2000\n",
      "5/5 [==============================] - 0s 79ms/step - loss: 0.1643 - mae: 0.3345 - val_loss: 0.1627 - val_mae: 0.3335\n",
      "Epoch 16/2000\n",
      "5/5 [==============================] - 0s 74ms/step - loss: 0.1567 - mae: 0.3278 - val_loss: 0.1471 - val_mae: 0.3213\n",
      "Epoch 17/2000\n",
      "1/5 [=====>........................] - ETA: 0s - loss: 0.1176 - mae: 0.2813"
     ]
    },
    {
     "name": "stderr",
     "output_type": "stream",
     "text": [
      "WARNING:absl:Found untraced functions such as lstm_cell_layer_call_fn, lstm_cell_layer_call_and_return_conditional_losses while saving (showing 2 of 2). These functions will not be directly callable after loading.\n"
     ]
    },
    {
     "name": "stdout",
     "output_type": "stream",
     "text": [
      "INFO:tensorflow:Assets written to: C:\\Users\\PARK\\Documents\\LAB\\RNN vs LSTM\\FInal Example\\wandb\\run-20221016_023555-20c04pun\\files\\model-best\\assets\n"
     ]
    },
    {
     "name": "stderr",
     "output_type": "stream",
     "text": [
      "INFO:tensorflow:Assets written to: C:\\Users\\PARK\\Documents\\LAB\\RNN vs LSTM\\FInal Example\\wandb\\run-20221016_023555-20c04pun\\files\\model-best\\assets\n",
      "\u001b[34m\u001b[1mwandb\u001b[0m: Adding directory to artifact (C:\\Users\\PARK\\Documents\\LAB\\RNN vs LSTM\\FInal Example\\wandb\\run-20221016_023555-20c04pun\\files\\model-best)... Done. 0.1s\n"
     ]
    },
    {
     "name": "stdout",
     "output_type": "stream",
     "text": [
      "5/5 [==============================] - 4s 1s/step - loss: 0.1407 - mae: 0.3103 - val_loss: 0.1398 - val_mae: 0.3070\n",
      "Epoch 18/2000\n",
      "4/5 [=======================>......] - ETA: 0s - loss: 0.1231 - mae: 0.2849"
     ]
    },
    {
     "name": "stderr",
     "output_type": "stream",
     "text": [
      "WARNING:absl:Found untraced functions such as lstm_cell_layer_call_fn, lstm_cell_layer_call_and_return_conditional_losses while saving (showing 2 of 2). These functions will not be directly callable after loading.\n"
     ]
    },
    {
     "name": "stdout",
     "output_type": "stream",
     "text": [
      "INFO:tensorflow:Assets written to: C:\\Users\\PARK\\Documents\\LAB\\RNN vs LSTM\\FInal Example\\wandb\\run-20221016_023555-20c04pun\\files\\model-best\\assets\n"
     ]
    },
    {
     "name": "stderr",
     "output_type": "stream",
     "text": [
      "INFO:tensorflow:Assets written to: C:\\Users\\PARK\\Documents\\LAB\\RNN vs LSTM\\FInal Example\\wandb\\run-20221016_023555-20c04pun\\files\\model-best\\assets\n",
      "\u001b[34m\u001b[1mwandb\u001b[0m: Adding directory to artifact (C:\\Users\\PARK\\Documents\\LAB\\RNN vs LSTM\\FInal Example\\wandb\\run-20221016_023555-20c04pun\\files\\model-best)... Done. 0.1s\n"
     ]
    },
    {
     "name": "stdout",
     "output_type": "stream",
     "text": [
      "5/5 [==============================] - 5s 1s/step - loss: 0.1197 - mae: 0.2809 - val_loss: 0.1219 - val_mae: 0.2818\n",
      "Epoch 19/2000\n",
      "5/5 [==============================] - ETA: 0s - loss: 0.1449 - mae: 0.3025"
     ]
    },
    {
     "name": "stderr",
     "output_type": "stream",
     "text": [
      "WARNING:absl:Found untraced functions such as lstm_cell_layer_call_fn, lstm_cell_layer_call_and_return_conditional_losses while saving (showing 2 of 2). These functions will not be directly callable after loading.\n"
     ]
    },
    {
     "name": "stdout",
     "output_type": "stream",
     "text": [
      "INFO:tensorflow:Assets written to: C:\\Users\\PARK\\Documents\\LAB\\RNN vs LSTM\\FInal Example\\wandb\\run-20221016_023555-20c04pun\\files\\model-best\\assets\n"
     ]
    },
    {
     "name": "stderr",
     "output_type": "stream",
     "text": [
      "INFO:tensorflow:Assets written to: C:\\Users\\PARK\\Documents\\LAB\\RNN vs LSTM\\FInal Example\\wandb\\run-20221016_023555-20c04pun\\files\\model-best\\assets\n",
      "\u001b[34m\u001b[1mwandb\u001b[0m: Adding directory to artifact (C:\\Users\\PARK\\Documents\\LAB\\RNN vs LSTM\\FInal Example\\wandb\\run-20221016_023555-20c04pun\\files\\model-best)... Done. 0.1s\n"
     ]
    },
    {
     "name": "stdout",
     "output_type": "stream",
     "text": [
      "5/5 [==============================] - 4s 1s/step - loss: 0.1449 - mae: 0.3025 - val_loss: 0.1138 - val_mae: 0.2805\n",
      "Epoch 20/2000\n",
      "5/5 [==============================] - 1s 114ms/step - loss: 0.1356 - mae: 0.3004 - val_loss: 0.1276 - val_mae: 0.2990\n",
      "Epoch 21/2000\n",
      "5/5 [==============================] - 0s 76ms/step - loss: 0.1337 - mae: 0.3009 - val_loss: 0.1230 - val_mae: 0.2908\n",
      "Epoch 22/2000\n",
      "1/5 [=====>........................] - ETA: 0s - loss: 0.1232 - mae: 0.2862"
     ]
    },
    {
     "name": "stderr",
     "output_type": "stream",
     "text": [
      "WARNING:absl:Found untraced functions such as lstm_cell_layer_call_fn, lstm_cell_layer_call_and_return_conditional_losses while saving (showing 2 of 2). These functions will not be directly callable after loading.\n"
     ]
    },
    {
     "name": "stdout",
     "output_type": "stream",
     "text": [
      "INFO:tensorflow:Assets written to: C:\\Users\\PARK\\Documents\\LAB\\RNN vs LSTM\\FInal Example\\wandb\\run-20221016_023555-20c04pun\\files\\model-best\\assets\n"
     ]
    },
    {
     "name": "stderr",
     "output_type": "stream",
     "text": [
      "INFO:tensorflow:Assets written to: C:\\Users\\PARK\\Documents\\LAB\\RNN vs LSTM\\FInal Example\\wandb\\run-20221016_023555-20c04pun\\files\\model-best\\assets\n",
      "\u001b[34m\u001b[1mwandb\u001b[0m: Adding directory to artifact (C:\\Users\\PARK\\Documents\\LAB\\RNN vs LSTM\\FInal Example\\wandb\\run-20221016_023555-20c04pun\\files\\model-best)... Done. 0.1s\n"
     ]
    },
    {
     "name": "stdout",
     "output_type": "stream",
     "text": [
      "5/5 [==============================] - 4s 1s/step - loss: 0.1192 - mae: 0.2849 - val_loss: 0.1072 - val_mae: 0.2721\n",
      "Epoch 23/2000\n",
      "4/5 [=======================>......] - ETA: 0s - loss: 0.0990 - mae: 0.2576"
     ]
    },
    {
     "name": "stderr",
     "output_type": "stream",
     "text": [
      "WARNING:absl:Found untraced functions such as lstm_cell_layer_call_fn, lstm_cell_layer_call_and_return_conditional_losses while saving (showing 2 of 2). These functions will not be directly callable after loading.\n"
     ]
    },
    {
     "name": "stdout",
     "output_type": "stream",
     "text": [
      "INFO:tensorflow:Assets written to: C:\\Users\\PARK\\Documents\\LAB\\RNN vs LSTM\\FInal Example\\wandb\\run-20221016_023555-20c04pun\\files\\model-best\\assets\n"
     ]
    },
    {
     "name": "stderr",
     "output_type": "stream",
     "text": [
      "INFO:tensorflow:Assets written to: C:\\Users\\PARK\\Documents\\LAB\\RNN vs LSTM\\FInal Example\\wandb\\run-20221016_023555-20c04pun\\files\\model-best\\assets\n",
      "\u001b[34m\u001b[1mwandb\u001b[0m: Adding directory to artifact (C:\\Users\\PARK\\Documents\\LAB\\RNN vs LSTM\\FInal Example\\wandb\\run-20221016_023555-20c04pun\\files\\model-best)... Done. 0.1s\n"
     ]
    },
    {
     "name": "stdout",
     "output_type": "stream",
     "text": [
      "5/5 [==============================] - 4s 1s/step - loss: 0.0961 - mae: 0.2530 - val_loss: 0.0713 - val_mae: 0.2159\n",
      "Epoch 24/2000\n",
      "2/5 [===========>..................] - ETA: 0s - loss: 0.0734 - mae: 0.2160"
     ]
    },
    {
     "name": "stderr",
     "output_type": "stream",
     "text": [
      "WARNING:absl:Found untraced functions such as lstm_cell_layer_call_fn, lstm_cell_layer_call_and_return_conditional_losses while saving (showing 2 of 2). These functions will not be directly callable after loading.\n"
     ]
    },
    {
     "name": "stdout",
     "output_type": "stream",
     "text": [
      "INFO:tensorflow:Assets written to: C:\\Users\\PARK\\Documents\\LAB\\RNN vs LSTM\\FInal Example\\wandb\\run-20221016_023555-20c04pun\\files\\model-best\\assets\n"
     ]
    },
    {
     "name": "stderr",
     "output_type": "stream",
     "text": [
      "INFO:tensorflow:Assets written to: C:\\Users\\PARK\\Documents\\LAB\\RNN vs LSTM\\FInal Example\\wandb\\run-20221016_023555-20c04pun\\files\\model-best\\assets\n",
      "\u001b[34m\u001b[1mwandb\u001b[0m: Adding directory to artifact (C:\\Users\\PARK\\Documents\\LAB\\RNN vs LSTM\\FInal Example\\wandb\\run-20221016_023555-20c04pun\\files\\model-best)... Done. 0.1s\n"
     ]
    },
    {
     "name": "stdout",
     "output_type": "stream",
     "text": [
      "5/5 [==============================] - 5s 1s/step - loss: 0.0781 - mae: 0.2219 - val_loss: 0.0643 - val_mae: 0.1991\n",
      "Epoch 25/2000\n",
      "5/5 [==============================] - 1s 110ms/step - loss: 0.0667 - mae: 0.2026 - val_loss: 0.0656 - val_mae: 0.1983\n",
      "Epoch 26/2000\n",
      "1/5 [=====>........................] - ETA: 0s - loss: 0.0736 - mae: 0.2092"
     ]
    },
    {
     "name": "stderr",
     "output_type": "stream",
     "text": [
      "WARNING:absl:Found untraced functions such as lstm_cell_layer_call_fn, lstm_cell_layer_call_and_return_conditional_losses while saving (showing 2 of 2). These functions will not be directly callable after loading.\n"
     ]
    },
    {
     "name": "stdout",
     "output_type": "stream",
     "text": [
      "INFO:tensorflow:Assets written to: C:\\Users\\PARK\\Documents\\LAB\\RNN vs LSTM\\FInal Example\\wandb\\run-20221016_023555-20c04pun\\files\\model-best\\assets\n"
     ]
    },
    {
     "name": "stderr",
     "output_type": "stream",
     "text": [
      "INFO:tensorflow:Assets written to: C:\\Users\\PARK\\Documents\\LAB\\RNN vs LSTM\\FInal Example\\wandb\\run-20221016_023555-20c04pun\\files\\model-best\\assets\n",
      "\u001b[34m\u001b[1mwandb\u001b[0m: Adding directory to artifact (C:\\Users\\PARK\\Documents\\LAB\\RNN vs LSTM\\FInal Example\\wandb\\run-20221016_023555-20c04pun\\files\\model-best)... Done. 0.1s\n"
     ]
    },
    {
     "name": "stdout",
     "output_type": "stream",
     "text": [
      "5/5 [==============================] - 4s 1s/step - loss: 0.0644 - mae: 0.1958 - val_loss: 0.0607 - val_mae: 0.1887\n",
      "Epoch 27/2000\n",
      "5/5 [==============================] - 1s 138ms/step - loss: 0.0637 - mae: 0.1978 - val_loss: 0.0660 - val_mae: 0.1949\n",
      "Epoch 28/2000\n",
      "5/5 [==============================] - 0s 85ms/step - loss: 0.0666 - mae: 0.2014 - val_loss: 0.0612 - val_mae: 0.1918\n",
      "Epoch 29/2000\n",
      "5/5 [==============================] - 0s 77ms/step - loss: 0.0630 - mae: 0.1943 - val_loss: 0.0681 - val_mae: 0.2096\n",
      "Epoch 30/2000\n",
      "5/5 [==============================] - 0s 78ms/step - loss: 0.0678 - mae: 0.2036 - val_loss: 0.0631 - val_mae: 0.1954\n",
      "Epoch 31/2000\n",
      "5/5 [==============================] - 0s 82ms/step - loss: 0.0676 - mae: 0.2024 - val_loss: 0.0651 - val_mae: 0.2008\n",
      "Epoch 32/2000\n",
      "1/5 [=====>........................] - ETA: 0s - loss: 0.0667 - mae: 0.2042"
     ]
    },
    {
     "name": "stderr",
     "output_type": "stream",
     "text": [
      "WARNING:absl:Found untraced functions such as lstm_cell_layer_call_fn, lstm_cell_layer_call_and_return_conditional_losses while saving (showing 2 of 2). These functions will not be directly callable after loading.\n"
     ]
    },
    {
     "name": "stdout",
     "output_type": "stream",
     "text": [
      "INFO:tensorflow:Assets written to: C:\\Users\\PARK\\Documents\\LAB\\RNN vs LSTM\\FInal Example\\wandb\\run-20221016_023555-20c04pun\\files\\model-best\\assets\n"
     ]
    },
    {
     "name": "stderr",
     "output_type": "stream",
     "text": [
      "INFO:tensorflow:Assets written to: C:\\Users\\PARK\\Documents\\LAB\\RNN vs LSTM\\FInal Example\\wandb\\run-20221016_023555-20c04pun\\files\\model-best\\assets\n",
      "\u001b[34m\u001b[1mwandb\u001b[0m: Adding directory to artifact (C:\\Users\\PARK\\Documents\\LAB\\RNN vs LSTM\\FInal Example\\wandb\\run-20221016_023555-20c04pun\\files\\model-best)... Done. 0.1s\n"
     ]
    },
    {
     "name": "stdout",
     "output_type": "stream",
     "text": [
      "5/5 [==============================] - 4s 1s/step - loss: 0.0666 - mae: 0.2000 - val_loss: 0.0578 - val_mae: 0.1856\n",
      "Epoch 33/2000\n",
      "5/5 [==============================] - 1s 157ms/step - loss: 0.0676 - mae: 0.2019 - val_loss: 0.0600 - val_mae: 0.1868\n",
      "Epoch 34/2000\n",
      "5/5 [==============================] - 0s 74ms/step - loss: 0.0674 - mae: 0.2005 - val_loss: 0.0587 - val_mae: 0.1866\n",
      "Epoch 35/2000\n",
      "5/5 [==============================] - 0s 72ms/step - loss: 0.0634 - mae: 0.1952 - val_loss: 0.0594 - val_mae: 0.1865\n",
      "Epoch 36/2000\n",
      "1/5 [=====>........................] - ETA: 0s - loss: 0.0587 - mae: 0.1839"
     ]
    },
    {
     "name": "stderr",
     "output_type": "stream",
     "text": [
      "WARNING:absl:Found untraced functions such as lstm_cell_layer_call_fn, lstm_cell_layer_call_and_return_conditional_losses while saving (showing 2 of 2). These functions will not be directly callable after loading.\n"
     ]
    },
    {
     "name": "stdout",
     "output_type": "stream",
     "text": [
      "INFO:tensorflow:Assets written to: C:\\Users\\PARK\\Documents\\LAB\\RNN vs LSTM\\FInal Example\\wandb\\run-20221016_023555-20c04pun\\files\\model-best\\assets\n"
     ]
    },
    {
     "name": "stderr",
     "output_type": "stream",
     "text": [
      "INFO:tensorflow:Assets written to: C:\\Users\\PARK\\Documents\\LAB\\RNN vs LSTM\\FInal Example\\wandb\\run-20221016_023555-20c04pun\\files\\model-best\\assets\n",
      "\u001b[34m\u001b[1mwandb\u001b[0m: Adding directory to artifact (C:\\Users\\PARK\\Documents\\LAB\\RNN vs LSTM\\FInal Example\\wandb\\run-20221016_023555-20c04pun\\files\\model-best)... Done. 0.1s\n"
     ]
    },
    {
     "name": "stdout",
     "output_type": "stream",
     "text": [
      "5/5 [==============================] - 4s 1s/step - loss: 0.0608 - mae: 0.1894 - val_loss: 0.0575 - val_mae: 0.1829\n",
      "Epoch 37/2000\n",
      "4/5 [=======================>......] - ETA: 0s - loss: 0.0588 - mae: 0.1852"
     ]
    },
    {
     "name": "stderr",
     "output_type": "stream",
     "text": [
      "WARNING:absl:Found untraced functions such as lstm_cell_layer_call_fn, lstm_cell_layer_call_and_return_conditional_losses while saving (showing 2 of 2). These functions will not be directly callable after loading.\n"
     ]
    },
    {
     "name": "stdout",
     "output_type": "stream",
     "text": [
      "INFO:tensorflow:Assets written to: C:\\Users\\PARK\\Documents\\LAB\\RNN vs LSTM\\FInal Example\\wandb\\run-20221016_023555-20c04pun\\files\\model-best\\assets\n"
     ]
    },
    {
     "name": "stderr",
     "output_type": "stream",
     "text": [
      "INFO:tensorflow:Assets written to: C:\\Users\\PARK\\Documents\\LAB\\RNN vs LSTM\\FInal Example\\wandb\\run-20221016_023555-20c04pun\\files\\model-best\\assets\n",
      "\u001b[34m\u001b[1mwandb\u001b[0m: Adding directory to artifact (C:\\Users\\PARK\\Documents\\LAB\\RNN vs LSTM\\FInal Example\\wandb\\run-20221016_023555-20c04pun\\files\\model-best)... Done. 0.1s\n"
     ]
    },
    {
     "name": "stdout",
     "output_type": "stream",
     "text": [
      "5/5 [==============================] - 4s 1s/step - loss: 0.0583 - mae: 0.1844 - val_loss: 0.0569 - val_mae: 0.1834\n",
      "Epoch 38/2000\n",
      "5/5 [==============================] - 1s 103ms/step - loss: 0.0570 - mae: 0.1828 - val_loss: 0.0576 - val_mae: 0.1846\n",
      "Epoch 39/2000\n",
      "5/5 [==============================] - 0s 75ms/step - loss: 0.0570 - mae: 0.1828 - val_loss: 0.0569 - val_mae: 0.1840\n",
      "Epoch 40/2000\n",
      "1/5 [=====>........................] - ETA: 0s - loss: 0.0606 - mae: 0.1904"
     ]
    },
    {
     "name": "stderr",
     "output_type": "stream",
     "text": [
      "WARNING:absl:Found untraced functions such as lstm_cell_layer_call_fn, lstm_cell_layer_call_and_return_conditional_losses while saving (showing 2 of 2). These functions will not be directly callable after loading.\n"
     ]
    },
    {
     "name": "stdout",
     "output_type": "stream",
     "text": [
      "INFO:tensorflow:Assets written to: C:\\Users\\PARK\\Documents\\LAB\\RNN vs LSTM\\FInal Example\\wandb\\run-20221016_023555-20c04pun\\files\\model-best\\assets\n"
     ]
    },
    {
     "name": "stderr",
     "output_type": "stream",
     "text": [
      "INFO:tensorflow:Assets written to: C:\\Users\\PARK\\Documents\\LAB\\RNN vs LSTM\\FInal Example\\wandb\\run-20221016_023555-20c04pun\\files\\model-best\\assets\n",
      "\u001b[34m\u001b[1mwandb\u001b[0m: Adding directory to artifact (C:\\Users\\PARK\\Documents\\LAB\\RNN vs LSTM\\FInal Example\\wandb\\run-20221016_023555-20c04pun\\files\\model-best)... Done. 0.1s\n"
     ]
    },
    {
     "name": "stdout",
     "output_type": "stream",
     "text": [
      "5/5 [==============================] - 4s 1s/step - loss: 0.0577 - mae: 0.1833 - val_loss: 0.0565 - val_mae: 0.1835\n",
      "Epoch 41/2000\n",
      "5/5 [==============================] - 1s 133ms/step - loss: 0.0575 - mae: 0.1834 - val_loss: 0.0600 - val_mae: 0.1917\n",
      "Epoch 42/2000\n",
      "5/5 [==============================] - 0s 96ms/step - loss: 0.0597 - mae: 0.1875 - val_loss: 0.0661 - val_mae: 0.2051\n",
      "Epoch 43/2000\n",
      "5/5 [==============================] - 0s 82ms/step - loss: 0.0624 - mae: 0.1938 - val_loss: 0.0621 - val_mae: 0.1967\n",
      "Epoch 44/2000\n",
      "5/5 [==============================] - 0s 74ms/step - loss: 0.0602 - mae: 0.1890 - val_loss: 0.0570 - val_mae: 0.1845\n",
      "Epoch 45/2000\n",
      "5/5 [==============================] - 0s 75ms/step - loss: 0.0583 - mae: 0.1855 - val_loss: 0.0569 - val_mae: 0.1825\n",
      "Epoch 46/2000\n",
      "5/5 [==============================] - 0s 74ms/step - loss: 0.0577 - mae: 0.1841 - val_loss: 0.0566 - val_mae: 0.1824\n",
      "Epoch 47/2000\n",
      "5/5 [==============================] - 0s 74ms/step - loss: 0.0573 - mae: 0.1828 - val_loss: 0.0592 - val_mae: 0.1892\n",
      "Epoch 48/2000\n",
      "1/5 [=====>........................] - ETA: 0s - loss: 0.0638 - mae: 0.2001"
     ]
    },
    {
     "name": "stderr",
     "output_type": "stream",
     "text": [
      "WARNING:absl:Found untraced functions such as lstm_cell_layer_call_fn, lstm_cell_layer_call_and_return_conditional_losses while saving (showing 2 of 2). These functions will not be directly callable after loading.\n"
     ]
    },
    {
     "name": "stdout",
     "output_type": "stream",
     "text": [
      "INFO:tensorflow:Assets written to: C:\\Users\\PARK\\Documents\\LAB\\RNN vs LSTM\\FInal Example\\wandb\\run-20221016_023555-20c04pun\\files\\model-best\\assets\n"
     ]
    },
    {
     "name": "stderr",
     "output_type": "stream",
     "text": [
      "INFO:tensorflow:Assets written to: C:\\Users\\PARK\\Documents\\LAB\\RNN vs LSTM\\FInal Example\\wandb\\run-20221016_023555-20c04pun\\files\\model-best\\assets\n",
      "\u001b[34m\u001b[1mwandb\u001b[0m: Adding directory to artifact (C:\\Users\\PARK\\Documents\\LAB\\RNN vs LSTM\\FInal Example\\wandb\\run-20221016_023555-20c04pun\\files\\model-best)... Done. 0.1s\n"
     ]
    },
    {
     "name": "stdout",
     "output_type": "stream",
     "text": [
      "5/5 [==============================] - 4s 1s/step - loss: 0.0585 - mae: 0.1862 - val_loss: 0.0560 - val_mae: 0.1816\n",
      "Epoch 49/2000\n",
      "5/5 [==============================] - 1s 109ms/step - loss: 0.0570 - mae: 0.1831 - val_loss: 0.0569 - val_mae: 0.1809\n",
      "Epoch 50/2000\n",
      "5/5 [==============================] - 0s 75ms/step - loss: 0.0588 - mae: 0.1858 - val_loss: 0.0578 - val_mae: 0.1837\n",
      "Epoch 51/2000\n",
      "5/5 [==============================] - 0s 73ms/step - loss: 0.0564 - mae: 0.1817 - val_loss: 0.0562 - val_mae: 0.1823\n",
      "Epoch 52/2000\n",
      "1/5 [=====>........................] - ETA: 0s - loss: 0.0498 - mae: 0.1693"
     ]
    },
    {
     "name": "stderr",
     "output_type": "stream",
     "text": [
      "WARNING:absl:Found untraced functions such as lstm_cell_layer_call_fn, lstm_cell_layer_call_and_return_conditional_losses while saving (showing 2 of 2). These functions will not be directly callable after loading.\n"
     ]
    },
    {
     "name": "stdout",
     "output_type": "stream",
     "text": [
      "INFO:tensorflow:Assets written to: C:\\Users\\PARK\\Documents\\LAB\\RNN vs LSTM\\FInal Example\\wandb\\run-20221016_023555-20c04pun\\files\\model-best\\assets\n"
     ]
    },
    {
     "name": "stderr",
     "output_type": "stream",
     "text": [
      "INFO:tensorflow:Assets written to: C:\\Users\\PARK\\Documents\\LAB\\RNN vs LSTM\\FInal Example\\wandb\\run-20221016_023555-20c04pun\\files\\model-best\\assets\n",
      "\u001b[34m\u001b[1mwandb\u001b[0m: Adding directory to artifact (C:\\Users\\PARK\\Documents\\LAB\\RNN vs LSTM\\FInal Example\\wandb\\run-20221016_023555-20c04pun\\files\\model-best)... Done. 0.1s\n"
     ]
    },
    {
     "name": "stdout",
     "output_type": "stream",
     "text": [
      "5/5 [==============================] - 4s 1s/step - loss: 0.0563 - mae: 0.1815 - val_loss: 0.0556 - val_mae: 0.1811\n",
      "Epoch 53/2000\n",
      "5/5 [==============================] - 1s 111ms/step - loss: 0.0555 - mae: 0.1796 - val_loss: 0.0590 - val_mae: 0.1842\n",
      "Epoch 54/2000\n",
      "5/5 [==============================] - 0s 73ms/step - loss: 0.0568 - mae: 0.1833 - val_loss: 0.0585 - val_mae: 0.1834\n",
      "Epoch 55/2000\n",
      "5/5 [==============================] - 0s 76ms/step - loss: 0.0567 - mae: 0.1832 - val_loss: 0.0558 - val_mae: 0.1798\n",
      "Epoch 56/2000\n",
      "5/5 [==============================] - 0s 74ms/step - loss: 0.0560 - mae: 0.1810 - val_loss: 0.0586 - val_mae: 0.1843\n",
      "Epoch 57/2000\n",
      "5/5 [==============================] - 0s 73ms/step - loss: 0.0572 - mae: 0.1831 - val_loss: 0.0579 - val_mae: 0.1864\n",
      "Epoch 58/2000\n",
      "5/5 [==============================] - 0s 76ms/step - loss: 0.0573 - mae: 0.1835 - val_loss: 0.0583 - val_mae: 0.1878\n",
      "Epoch 59/2000\n",
      "5/5 [==============================] - 0s 73ms/step - loss: 0.0580 - mae: 0.1854 - val_loss: 0.0572 - val_mae: 0.1868\n",
      "Epoch 60/2000\n",
      "5/5 [==============================] - 0s 73ms/step - loss: 0.0579 - mae: 0.1857 - val_loss: 0.0573 - val_mae: 0.1832\n",
      "Epoch 61/2000\n",
      "5/5 [==============================] - 0s 76ms/step - loss: 0.0568 - mae: 0.1826 - val_loss: 0.0572 - val_mae: 0.1852\n",
      "Epoch 62/2000\n",
      "5/5 [==============================] - 0s 74ms/step - loss: 0.0564 - mae: 0.1820 - val_loss: 0.0574 - val_mae: 0.1861\n",
      "Epoch 63/2000\n",
      "5/5 [==============================] - 0s 73ms/step - loss: 0.0576 - mae: 0.1845 - val_loss: 0.0556 - val_mae: 0.1810\n",
      "Epoch 64/2000\n",
      "1/5 [=====>........................] - ETA: 0s - loss: 0.0507 - mae: 0.1717"
     ]
    },
    {
     "name": "stderr",
     "output_type": "stream",
     "text": [
      "WARNING:absl:Found untraced functions such as lstm_cell_layer_call_fn, lstm_cell_layer_call_and_return_conditional_losses while saving (showing 2 of 2). These functions will not be directly callable after loading.\n"
     ]
    },
    {
     "name": "stdout",
     "output_type": "stream",
     "text": [
      "INFO:tensorflow:Assets written to: C:\\Users\\PARK\\Documents\\LAB\\RNN vs LSTM\\FInal Example\\wandb\\run-20221016_023555-20c04pun\\files\\model-best\\assets\n"
     ]
    },
    {
     "name": "stderr",
     "output_type": "stream",
     "text": [
      "INFO:tensorflow:Assets written to: C:\\Users\\PARK\\Documents\\LAB\\RNN vs LSTM\\FInal Example\\wandb\\run-20221016_023555-20c04pun\\files\\model-best\\assets\n",
      "\u001b[34m\u001b[1mwandb\u001b[0m: Adding directory to artifact (C:\\Users\\PARK\\Documents\\LAB\\RNN vs LSTM\\FInal Example\\wandb\\run-20221016_023555-20c04pun\\files\\model-best)... Done. 0.1s\n"
     ]
    },
    {
     "name": "stdout",
     "output_type": "stream",
     "text": [
      "5/5 [==============================] - 4s 1s/step - loss: 0.0567 - mae: 0.1824 - val_loss: 0.0554 - val_mae: 0.1798\n",
      "Epoch 65/2000\n",
      "5/5 [==============================] - 1s 122ms/step - loss: 0.0567 - mae: 0.1828 - val_loss: 0.0573 - val_mae: 0.1824\n",
      "Epoch 66/2000\n",
      "5/5 [==============================] - 0s 75ms/step - loss: 0.0560 - mae: 0.1817 - val_loss: 0.0573 - val_mae: 0.1820\n",
      "Epoch 67/2000\n",
      "5/5 [==============================] - 0s 78ms/step - loss: 0.0565 - mae: 0.1813 - val_loss: 0.0563 - val_mae: 0.1811\n",
      "Epoch 68/2000\n",
      "5/5 [==============================] - 0s 74ms/step - loss: 0.0558 - mae: 0.1811 - val_loss: 0.0567 - val_mae: 0.1829\n",
      "Epoch 69/2000\n",
      "5/5 [==============================] - 0s 74ms/step - loss: 0.0561 - mae: 0.1813 - val_loss: 0.0594 - val_mae: 0.1899\n",
      "Epoch 70/2000\n",
      "5/5 [==============================] - 0s 74ms/step - loss: 0.0578 - mae: 0.1841 - val_loss: 0.0572 - val_mae: 0.1851\n",
      "Epoch 71/2000\n",
      "5/5 [==============================] - 0s 75ms/step - loss: 0.0583 - mae: 0.1858 - val_loss: 0.0574 - val_mae: 0.1814\n",
      "Epoch 72/2000\n",
      "5/5 [==============================] - 0s 75ms/step - loss: 0.0584 - mae: 0.1859 - val_loss: 0.0636 - val_mae: 0.1915\n",
      "Epoch 73/2000\n",
      "1/5 [=====>........................] - ETA: 0s - loss: 0.0515 - mae: 0.1727"
     ]
    },
    {
     "name": "stderr",
     "output_type": "stream",
     "text": [
      "WARNING:absl:Found untraced functions such as lstm_cell_layer_call_fn, lstm_cell_layer_call_and_return_conditional_losses while saving (showing 2 of 2). These functions will not be directly callable after loading.\n"
     ]
    },
    {
     "name": "stdout",
     "output_type": "stream",
     "text": [
      "INFO:tensorflow:Assets written to: C:\\Users\\PARK\\Documents\\LAB\\RNN vs LSTM\\FInal Example\\wandb\\run-20221016_023555-20c04pun\\files\\model-best\\assets\n"
     ]
    },
    {
     "name": "stderr",
     "output_type": "stream",
     "text": [
      "INFO:tensorflow:Assets written to: C:\\Users\\PARK\\Documents\\LAB\\RNN vs LSTM\\FInal Example\\wandb\\run-20221016_023555-20c04pun\\files\\model-best\\assets\n",
      "\u001b[34m\u001b[1mwandb\u001b[0m: Adding directory to artifact (C:\\Users\\PARK\\Documents\\LAB\\RNN vs LSTM\\FInal Example\\wandb\\run-20221016_023555-20c04pun\\files\\model-best)... Done. 0.1s\n"
     ]
    },
    {
     "name": "stdout",
     "output_type": "stream",
     "text": [
      "5/5 [==============================] - 4s 1s/step - loss: 0.0583 - mae: 0.1867 - val_loss: 0.0554 - val_mae: 0.1789\n",
      "Epoch 74/2000\n",
      "5/5 [==============================] - 0s 102ms/step - loss: 0.0565 - mae: 0.1820 - val_loss: 0.0566 - val_mae: 0.1831\n",
      "Epoch 75/2000\n",
      "5/5 [==============================] - 0s 74ms/step - loss: 0.0564 - mae: 0.1820 - val_loss: 0.0586 - val_mae: 0.1901\n",
      "Epoch 76/2000\n",
      "5/5 [==============================] - 0s 74ms/step - loss: 0.0585 - mae: 0.1877 - val_loss: 0.0565 - val_mae: 0.1827\n",
      "Epoch 77/2000\n",
      "1/5 [=====>........................] - ETA: 0s - loss: 0.0542 - mae: 0.1782"
     ]
    },
    {
     "name": "stderr",
     "output_type": "stream",
     "text": [
      "WARNING:absl:Found untraced functions such as lstm_cell_layer_call_fn, lstm_cell_layer_call_and_return_conditional_losses while saving (showing 2 of 2). These functions will not be directly callable after loading.\n"
     ]
    },
    {
     "name": "stdout",
     "output_type": "stream",
     "text": [
      "INFO:tensorflow:Assets written to: C:\\Users\\PARK\\Documents\\LAB\\RNN vs LSTM\\FInal Example\\wandb\\run-20221016_023555-20c04pun\\files\\model-best\\assets\n"
     ]
    },
    {
     "name": "stderr",
     "output_type": "stream",
     "text": [
      "INFO:tensorflow:Assets written to: C:\\Users\\PARK\\Documents\\LAB\\RNN vs LSTM\\FInal Example\\wandb\\run-20221016_023555-20c04pun\\files\\model-best\\assets\n",
      "\u001b[34m\u001b[1mwandb\u001b[0m: Adding directory to artifact (C:\\Users\\PARK\\Documents\\LAB\\RNN vs LSTM\\FInal Example\\wandb\\run-20221016_023555-20c04pun\\files\\model-best)... Done. 0.1s\n"
     ]
    },
    {
     "name": "stdout",
     "output_type": "stream",
     "text": [
      "5/5 [==============================] - 4s 1s/step - loss: 0.0557 - mae: 0.1812 - val_loss: 0.0552 - val_mae: 0.1789\n",
      "Epoch 78/2000\n",
      "5/5 [==============================] - 0s 97ms/step - loss: 0.0552 - mae: 0.1788 - val_loss: 0.0567 - val_mae: 0.1810\n",
      "Epoch 79/2000\n",
      "5/5 [==============================] - 0s 74ms/step - loss: 0.0552 - mae: 0.1802 - val_loss: 0.0567 - val_mae: 0.1844\n",
      "Epoch 80/2000\n",
      "5/5 [==============================] - 0s 75ms/step - loss: 0.0552 - mae: 0.1804 - val_loss: 0.0572 - val_mae: 0.1856\n",
      "Epoch 81/2000\n",
      "5/5 [==============================] - 0s 75ms/step - loss: 0.0572 - mae: 0.1844 - val_loss: 0.0572 - val_mae: 0.1849\n",
      "Epoch 82/2000\n",
      "5/5 [==============================] - 0s 73ms/step - loss: 0.0562 - mae: 0.1820 - val_loss: 0.0552 - val_mae: 0.1793\n",
      "Epoch 83/2000\n",
      "1/5 [=====>........................] - ETA: 0s - loss: 0.0498 - mae: 0.1711"
     ]
    },
    {
     "name": "stderr",
     "output_type": "stream",
     "text": [
      "WARNING:absl:Found untraced functions such as lstm_cell_layer_call_fn, lstm_cell_layer_call_and_return_conditional_losses while saving (showing 2 of 2). These functions will not be directly callable after loading.\n"
     ]
    },
    {
     "name": "stdout",
     "output_type": "stream",
     "text": [
      "INFO:tensorflow:Assets written to: C:\\Users\\PARK\\Documents\\LAB\\RNN vs LSTM\\FInal Example\\wandb\\run-20221016_023555-20c04pun\\files\\model-best\\assets\n"
     ]
    },
    {
     "name": "stderr",
     "output_type": "stream",
     "text": [
      "INFO:tensorflow:Assets written to: C:\\Users\\PARK\\Documents\\LAB\\RNN vs LSTM\\FInal Example\\wandb\\run-20221016_023555-20c04pun\\files\\model-best\\assets\n",
      "\u001b[34m\u001b[1mwandb\u001b[0m: Adding directory to artifact (C:\\Users\\PARK\\Documents\\LAB\\RNN vs LSTM\\FInal Example\\wandb\\run-20221016_023555-20c04pun\\files\\model-best)... Done. 0.1s\n"
     ]
    },
    {
     "name": "stdout",
     "output_type": "stream",
     "text": [
      "5/5 [==============================] - 4s 1s/step - loss: 0.0554 - mae: 0.1797 - val_loss: 0.0546 - val_mae: 0.1785\n",
      "Epoch 84/2000\n",
      "5/5 [==============================] - 1s 109ms/step - loss: 0.0536 - mae: 0.1767 - val_loss: 0.0568 - val_mae: 0.1842\n",
      "Epoch 85/2000\n",
      "5/5 [==============================] - 0s 74ms/step - loss: 0.0551 - mae: 0.1801 - val_loss: 0.0562 - val_mae: 0.1830\n",
      "Epoch 86/2000\n",
      "5/5 [==============================] - 0s 73ms/step - loss: 0.0564 - mae: 0.1827 - val_loss: 0.0560 - val_mae: 0.1804\n",
      "Epoch 87/2000\n",
      "5/5 [==============================] - 0s 71ms/step - loss: 0.0554 - mae: 0.1810 - val_loss: 0.0579 - val_mae: 0.1826\n",
      "Epoch 88/2000\n",
      "5/5 [==============================] - 0s 76ms/step - loss: 0.0571 - mae: 0.1840 - val_loss: 0.0622 - val_mae: 0.1892\n",
      "Epoch 89/2000\n",
      "5/5 [==============================] - 0s 71ms/step - loss: 0.0569 - mae: 0.1832 - val_loss: 0.0556 - val_mae: 0.1809\n",
      "Epoch 90/2000\n",
      "5/5 [==============================] - 0s 71ms/step - loss: 0.0562 - mae: 0.1821 - val_loss: 0.0575 - val_mae: 0.1876\n",
      "Epoch 91/2000\n",
      "5/5 [==============================] - 0s 71ms/step - loss: 0.0574 - mae: 0.1852 - val_loss: 0.0587 - val_mae: 0.1902\n",
      "Epoch 92/2000\n",
      "5/5 [==============================] - 0s 72ms/step - loss: 0.0577 - mae: 0.1857 - val_loss: 0.0576 - val_mae: 0.1870\n",
      "Epoch 93/2000\n",
      "5/5 [==============================] - 0s 70ms/step - loss: 0.0573 - mae: 0.1838 - val_loss: 0.0622 - val_mae: 0.1980\n",
      "Epoch 94/2000\n",
      "5/5 [==============================] - 0s 71ms/step - loss: 0.0572 - mae: 0.1838 - val_loss: 0.0580 - val_mae: 0.1887\n",
      "Epoch 95/2000\n",
      "5/5 [==============================] - 0s 73ms/step - loss: 0.0554 - mae: 0.1809 - val_loss: 0.0560 - val_mae: 0.1826\n",
      "Epoch 96/2000\n",
      "5/5 [==============================] - 0s 74ms/step - loss: 0.0548 - mae: 0.1798 - val_loss: 0.0555 - val_mae: 0.1813\n",
      "Epoch 97/2000\n",
      "5/5 [==============================] - 0s 70ms/step - loss: 0.0548 - mae: 0.1790 - val_loss: 0.0549 - val_mae: 0.1787\n",
      "Epoch 98/2000\n",
      "1/5 [=====>........................] - ETA: 0s - loss: 0.0522 - mae: 0.1770"
     ]
    },
    {
     "name": "stderr",
     "output_type": "stream",
     "text": [
      "WARNING:absl:Found untraced functions such as lstm_cell_layer_call_fn, lstm_cell_layer_call_and_return_conditional_losses while saving (showing 2 of 2). These functions will not be directly callable after loading.\n"
     ]
    },
    {
     "name": "stdout",
     "output_type": "stream",
     "text": [
      "INFO:tensorflow:Assets written to: C:\\Users\\PARK\\Documents\\LAB\\RNN vs LSTM\\FInal Example\\wandb\\run-20221016_023555-20c04pun\\files\\model-best\\assets\n"
     ]
    },
    {
     "name": "stderr",
     "output_type": "stream",
     "text": [
      "INFO:tensorflow:Assets written to: C:\\Users\\PARK\\Documents\\LAB\\RNN vs LSTM\\FInal Example\\wandb\\run-20221016_023555-20c04pun\\files\\model-best\\assets\n",
      "\u001b[34m\u001b[1mwandb\u001b[0m: Adding directory to artifact (C:\\Users\\PARK\\Documents\\LAB\\RNN vs LSTM\\FInal Example\\wandb\\run-20221016_023555-20c04pun\\files\\model-best)... Done. 0.1s\n"
     ]
    },
    {
     "name": "stdout",
     "output_type": "stream",
     "text": [
      "5/5 [==============================] - 4s 1s/step - loss: 0.0542 - mae: 0.1781 - val_loss: 0.0539 - val_mae: 0.1765\n",
      "Epoch 99/2000\n",
      "5/5 [==============================] - 1s 132ms/step - loss: 0.0534 - mae: 0.1769 - val_loss: 0.0569 - val_mae: 0.1808\n",
      "Epoch 100/2000\n",
      "5/5 [==============================] - 0s 93ms/step - loss: 0.0541 - mae: 0.1786 - val_loss: 0.0584 - val_mae: 0.1848\n",
      "Epoch 101/2000\n",
      "5/5 [==============================] - 0s 82ms/step - loss: 0.0542 - mae: 0.1795 - val_loss: 0.0569 - val_mae: 0.1805\n",
      "Epoch 102/2000\n",
      "5/5 [==============================] - 0s 74ms/step - loss: 0.0528 - mae: 0.1770 - val_loss: 0.0565 - val_mae: 0.1803\n",
      "Epoch 103/2000\n",
      "1/5 [=====>........................] - ETA: 0s - loss: 0.0529 - mae: 0.1759"
     ]
    },
    {
     "name": "stderr",
     "output_type": "stream",
     "text": [
      "WARNING:absl:Found untraced functions such as lstm_cell_layer_call_fn, lstm_cell_layer_call_and_return_conditional_losses while saving (showing 2 of 2). These functions will not be directly callable after loading.\n"
     ]
    },
    {
     "name": "stdout",
     "output_type": "stream",
     "text": [
      "INFO:tensorflow:Assets written to: C:\\Users\\PARK\\Documents\\LAB\\RNN vs LSTM\\FInal Example\\wandb\\run-20221016_023555-20c04pun\\files\\model-best\\assets\n"
     ]
    },
    {
     "name": "stderr",
     "output_type": "stream",
     "text": [
      "INFO:tensorflow:Assets written to: C:\\Users\\PARK\\Documents\\LAB\\RNN vs LSTM\\FInal Example\\wandb\\run-20221016_023555-20c04pun\\files\\model-best\\assets\n",
      "\u001b[34m\u001b[1mwandb\u001b[0m: Adding directory to artifact (C:\\Users\\PARK\\Documents\\LAB\\RNN vs LSTM\\FInal Example\\wandb\\run-20221016_023555-20c04pun\\files\\model-best)... Done. 0.1s\n"
     ]
    },
    {
     "name": "stdout",
     "output_type": "stream",
     "text": [
      "5/5 [==============================] - 4s 998ms/step - loss: 0.0523 - mae: 0.1748 - val_loss: 0.0531 - val_mae: 0.1754\n",
      "Epoch 104/2000\n",
      "4/5 [=======================>......] - ETA: 0s - loss: 0.0509 - mae: 0.1726"
     ]
    },
    {
     "name": "stderr",
     "output_type": "stream",
     "text": [
      "WARNING:absl:Found untraced functions such as lstm_cell_layer_call_fn, lstm_cell_layer_call_and_return_conditional_losses while saving (showing 2 of 2). These functions will not be directly callable after loading.\n"
     ]
    },
    {
     "name": "stdout",
     "output_type": "stream",
     "text": [
      "INFO:tensorflow:Assets written to: C:\\Users\\PARK\\Documents\\LAB\\RNN vs LSTM\\FInal Example\\wandb\\run-20221016_023555-20c04pun\\files\\model-best\\assets\n"
     ]
    },
    {
     "name": "stderr",
     "output_type": "stream",
     "text": [
      "INFO:tensorflow:Assets written to: C:\\Users\\PARK\\Documents\\LAB\\RNN vs LSTM\\FInal Example\\wandb\\run-20221016_023555-20c04pun\\files\\model-best\\assets\n",
      "\u001b[34m\u001b[1mwandb\u001b[0m: Adding directory to artifact (C:\\Users\\PARK\\Documents\\LAB\\RNN vs LSTM\\FInal Example\\wandb\\run-20221016_023555-20c04pun\\files\\model-best)... Done. 0.1s\n"
     ]
    },
    {
     "name": "stdout",
     "output_type": "stream",
     "text": [
      "5/5 [==============================] - 4s 1s/step - loss: 0.0507 - mae: 0.1730 - val_loss: 0.0530 - val_mae: 0.1761\n",
      "Epoch 105/2000\n",
      "2/5 [===========>..................] - ETA: 0s - loss: 0.0505 - mae: 0.1703"
     ]
    },
    {
     "name": "stderr",
     "output_type": "stream",
     "text": [
      "WARNING:absl:Found untraced functions such as lstm_cell_layer_call_fn, lstm_cell_layer_call_and_return_conditional_losses while saving (showing 2 of 2). These functions will not be directly callable after loading.\n"
     ]
    },
    {
     "name": "stdout",
     "output_type": "stream",
     "text": [
      "INFO:tensorflow:Assets written to: C:\\Users\\PARK\\Documents\\LAB\\RNN vs LSTM\\FInal Example\\wandb\\run-20221016_023555-20c04pun\\files\\model-best\\assets\n"
     ]
    },
    {
     "name": "stderr",
     "output_type": "stream",
     "text": [
      "INFO:tensorflow:Assets written to: C:\\Users\\PARK\\Documents\\LAB\\RNN vs LSTM\\FInal Example\\wandb\\run-20221016_023555-20c04pun\\files\\model-best\\assets\n",
      "\u001b[34m\u001b[1mwandb\u001b[0m: Adding directory to artifact (C:\\Users\\PARK\\Documents\\LAB\\RNN vs LSTM\\FInal Example\\wandb\\run-20221016_023555-20c04pun\\files\\model-best)... Done. 0.1s\n"
     ]
    },
    {
     "name": "stdout",
     "output_type": "stream",
     "text": [
      "5/5 [==============================] - 4s 1s/step - loss: 0.0501 - mae: 0.1712 - val_loss: 0.0514 - val_mae: 0.1732\n",
      "Epoch 106/2000\n",
      "5/5 [==============================] - 0s 91ms/step - loss: 0.0489 - mae: 0.1700 - val_loss: 0.0514 - val_mae: 0.1727\n",
      "Epoch 107/2000\n",
      "5/5 [==============================] - 0s 73ms/step - loss: 0.0479 - mae: 0.1686 - val_loss: 0.0519 - val_mae: 0.1744\n",
      "Epoch 108/2000\n",
      "1/5 [=====>........................] - ETA: 0s - loss: 0.0450 - mae: 0.1643"
     ]
    },
    {
     "name": "stderr",
     "output_type": "stream",
     "text": [
      "WARNING:absl:Found untraced functions such as lstm_cell_layer_call_fn, lstm_cell_layer_call_and_return_conditional_losses while saving (showing 2 of 2). These functions will not be directly callable after loading.\n"
     ]
    },
    {
     "name": "stdout",
     "output_type": "stream",
     "text": [
      "INFO:tensorflow:Assets written to: C:\\Users\\PARK\\Documents\\LAB\\RNN vs LSTM\\FInal Example\\wandb\\run-20221016_023555-20c04pun\\files\\model-best\\assets\n"
     ]
    },
    {
     "name": "stderr",
     "output_type": "stream",
     "text": [
      "INFO:tensorflow:Assets written to: C:\\Users\\PARK\\Documents\\LAB\\RNN vs LSTM\\FInal Example\\wandb\\run-20221016_023555-20c04pun\\files\\model-best\\assets\n",
      "\u001b[34m\u001b[1mwandb\u001b[0m: Adding directory to artifact (C:\\Users\\PARK\\Documents\\LAB\\RNN vs LSTM\\FInal Example\\wandb\\run-20221016_023555-20c04pun\\files\\model-best)... Done. 0.1s\n"
     ]
    },
    {
     "name": "stdout",
     "output_type": "stream",
     "text": [
      "5/5 [==============================] - 4s 1s/step - loss: 0.0473 - mae: 0.1678 - val_loss: 0.0495 - val_mae: 0.1693\n",
      "Epoch 109/2000\n",
      "5/5 [==============================] - 1s 117ms/step - loss: 0.0472 - mae: 0.1675 - val_loss: 0.0543 - val_mae: 0.1789\n",
      "Epoch 110/2000\n",
      "1/5 [=====>........................] - ETA: 0s - loss: 0.0473 - mae: 0.1680"
     ]
    },
    {
     "name": "stderr",
     "output_type": "stream",
     "text": [
      "WARNING:absl:Found untraced functions such as lstm_cell_layer_call_fn, lstm_cell_layer_call_and_return_conditional_losses while saving (showing 2 of 2). These functions will not be directly callable after loading.\n"
     ]
    },
    {
     "name": "stdout",
     "output_type": "stream",
     "text": [
      "INFO:tensorflow:Assets written to: C:\\Users\\PARK\\Documents\\LAB\\RNN vs LSTM\\FInal Example\\wandb\\run-20221016_023555-20c04pun\\files\\model-best\\assets\n"
     ]
    },
    {
     "name": "stderr",
     "output_type": "stream",
     "text": [
      "INFO:tensorflow:Assets written to: C:\\Users\\PARK\\Documents\\LAB\\RNN vs LSTM\\FInal Example\\wandb\\run-20221016_023555-20c04pun\\files\\model-best\\assets\n",
      "\u001b[34m\u001b[1mwandb\u001b[0m: Adding directory to artifact (C:\\Users\\PARK\\Documents\\LAB\\RNN vs LSTM\\FInal Example\\wandb\\run-20221016_023555-20c04pun\\files\\model-best)... Done. 0.1s\n"
     ]
    },
    {
     "name": "stdout",
     "output_type": "stream",
     "text": [
      "5/5 [==============================] - 4s 1s/step - loss: 0.0490 - mae: 0.1710 - val_loss: 0.0487 - val_mae: 0.1705\n",
      "Epoch 111/2000\n",
      "2/5 [===========>..................] - ETA: 0s - loss: 0.0435 - mae: 0.1609"
     ]
    },
    {
     "name": "stderr",
     "output_type": "stream",
     "text": [
      "WARNING:absl:Found untraced functions such as lstm_cell_layer_call_fn, lstm_cell_layer_call_and_return_conditional_losses while saving (showing 2 of 2). These functions will not be directly callable after loading.\n"
     ]
    },
    {
     "name": "stdout",
     "output_type": "stream",
     "text": [
      "INFO:tensorflow:Assets written to: C:\\Users\\PARK\\Documents\\LAB\\RNN vs LSTM\\FInal Example\\wandb\\run-20221016_023555-20c04pun\\files\\model-best\\assets\n"
     ]
    },
    {
     "name": "stderr",
     "output_type": "stream",
     "text": [
      "INFO:tensorflow:Assets written to: C:\\Users\\PARK\\Documents\\LAB\\RNN vs LSTM\\FInal Example\\wandb\\run-20221016_023555-20c04pun\\files\\model-best\\assets\n",
      "\u001b[34m\u001b[1mwandb\u001b[0m: Adding directory to artifact (C:\\Users\\PARK\\Documents\\LAB\\RNN vs LSTM\\FInal Example\\wandb\\run-20221016_023555-20c04pun\\files\\model-best)... Done. 0.1s\n"
     ]
    },
    {
     "name": "stdout",
     "output_type": "stream",
     "text": [
      "5/5 [==============================] - 4s 1s/step - loss: 0.0470 - mae: 0.1678 - val_loss: 0.0477 - val_mae: 0.1702\n",
      "Epoch 112/2000\n",
      "5/5 [==============================] - 0s 99ms/step - loss: 0.0466 - mae: 0.1667 - val_loss: 0.0496 - val_mae: 0.1719\n",
      "Epoch 113/2000\n",
      "1/5 [=====>........................] - ETA: 0s - loss: 0.0436 - mae: 0.1661"
     ]
    },
    {
     "name": "stderr",
     "output_type": "stream",
     "text": [
      "WARNING:absl:Found untraced functions such as lstm_cell_layer_call_fn, lstm_cell_layer_call_and_return_conditional_losses while saving (showing 2 of 2). These functions will not be directly callable after loading.\n"
     ]
    },
    {
     "name": "stdout",
     "output_type": "stream",
     "text": [
      "INFO:tensorflow:Assets written to: C:\\Users\\PARK\\Documents\\LAB\\RNN vs LSTM\\FInal Example\\wandb\\run-20221016_023555-20c04pun\\files\\model-best\\assets\n"
     ]
    },
    {
     "name": "stderr",
     "output_type": "stream",
     "text": [
      "INFO:tensorflow:Assets written to: C:\\Users\\PARK\\Documents\\LAB\\RNN vs LSTM\\FInal Example\\wandb\\run-20221016_023555-20c04pun\\files\\model-best\\assets\n",
      "\u001b[34m\u001b[1mwandb\u001b[0m: Adding directory to artifact (C:\\Users\\PARK\\Documents\\LAB\\RNN vs LSTM\\FInal Example\\wandb\\run-20221016_023555-20c04pun\\files\\model-best)... Done. 0.2s\n"
     ]
    },
    {
     "name": "stdout",
     "output_type": "stream",
     "text": [
      "5/5 [==============================] - 4s 1s/step - loss: 0.0483 - mae: 0.1707 - val_loss: 0.0471 - val_mae: 0.1710\n",
      "Epoch 114/2000\n",
      "4/5 [=======================>......] - ETA: 0s - loss: 0.0460 - mae: 0.1670"
     ]
    },
    {
     "name": "stderr",
     "output_type": "stream",
     "text": [
      "WARNING:absl:Found untraced functions such as lstm_cell_layer_call_fn, lstm_cell_layer_call_and_return_conditional_losses while saving (showing 2 of 2). These functions will not be directly callable after loading.\n"
     ]
    },
    {
     "name": "stdout",
     "output_type": "stream",
     "text": [
      "INFO:tensorflow:Assets written to: C:\\Users\\PARK\\Documents\\LAB\\RNN vs LSTM\\FInal Example\\wandb\\run-20221016_023555-20c04pun\\files\\model-best\\assets\n"
     ]
    },
    {
     "name": "stderr",
     "output_type": "stream",
     "text": [
      "INFO:tensorflow:Assets written to: C:\\Users\\PARK\\Documents\\LAB\\RNN vs LSTM\\FInal Example\\wandb\\run-20221016_023555-20c04pun\\files\\model-best\\assets\n",
      "\u001b[34m\u001b[1mwandb\u001b[0m: Adding directory to artifact (C:\\Users\\PARK\\Documents\\LAB\\RNN vs LSTM\\FInal Example\\wandb\\run-20221016_023555-20c04pun\\files\\model-best)... Done. 0.1s\n"
     ]
    },
    {
     "name": "stdout",
     "output_type": "stream",
     "text": [
      "5/5 [==============================] - 4s 1s/step - loss: 0.0462 - mae: 0.1670 - val_loss: 0.0456 - val_mae: 0.1638\n",
      "Epoch 115/2000\n",
      "3/5 [=================>............] - ETA: 0s - loss: 0.0438 - mae: 0.1615"
     ]
    },
    {
     "name": "stderr",
     "output_type": "stream",
     "text": [
      "WARNING:absl:Found untraced functions such as lstm_cell_layer_call_fn, lstm_cell_layer_call_and_return_conditional_losses while saving (showing 2 of 2). These functions will not be directly callable after loading.\n"
     ]
    },
    {
     "name": "stdout",
     "output_type": "stream",
     "text": [
      "INFO:tensorflow:Assets written to: C:\\Users\\PARK\\Documents\\LAB\\RNN vs LSTM\\FInal Example\\wandb\\run-20221016_023555-20c04pun\\files\\model-best\\assets\n"
     ]
    },
    {
     "name": "stderr",
     "output_type": "stream",
     "text": [
      "INFO:tensorflow:Assets written to: C:\\Users\\PARK\\Documents\\LAB\\RNN vs LSTM\\FInal Example\\wandb\\run-20221016_023555-20c04pun\\files\\model-best\\assets\n",
      "\u001b[34m\u001b[1mwandb\u001b[0m: Adding directory to artifact (C:\\Users\\PARK\\Documents\\LAB\\RNN vs LSTM\\FInal Example\\wandb\\run-20221016_023555-20c04pun\\files\\model-best)... Done. 0.1s\n"
     ]
    },
    {
     "name": "stdout",
     "output_type": "stream",
     "text": [
      "5/5 [==============================] - 5s 1s/step - loss: 0.0444 - mae: 0.1623 - val_loss: 0.0453 - val_mae: 0.1639\n",
      "Epoch 116/2000\n",
      "5/5 [==============================] - 1s 109ms/step - loss: 0.0444 - mae: 0.1620 - val_loss: 0.0459 - val_mae: 0.1652\n",
      "Epoch 117/2000\n",
      "1/5 [=====>........................] - ETA: 0s - loss: 0.0430 - mae: 0.1630"
     ]
    },
    {
     "name": "stderr",
     "output_type": "stream",
     "text": [
      "WARNING:absl:Found untraced functions such as lstm_cell_layer_call_fn, lstm_cell_layer_call_and_return_conditional_losses while saving (showing 2 of 2). These functions will not be directly callable after loading.\n"
     ]
    },
    {
     "name": "stdout",
     "output_type": "stream",
     "text": [
      "INFO:tensorflow:Assets written to: C:\\Users\\PARK\\Documents\\LAB\\RNN vs LSTM\\FInal Example\\wandb\\run-20221016_023555-20c04pun\\files\\model-best\\assets\n"
     ]
    },
    {
     "name": "stderr",
     "output_type": "stream",
     "text": [
      "INFO:tensorflow:Assets written to: C:\\Users\\PARK\\Documents\\LAB\\RNN vs LSTM\\FInal Example\\wandb\\run-20221016_023555-20c04pun\\files\\model-best\\assets\n",
      "\u001b[34m\u001b[1mwandb\u001b[0m: Adding directory to artifact (C:\\Users\\PARK\\Documents\\LAB\\RNN vs LSTM\\FInal Example\\wandb\\run-20221016_023555-20c04pun\\files\\model-best)... Done. 0.1s\n"
     ]
    },
    {
     "name": "stdout",
     "output_type": "stream",
     "text": [
      "5/5 [==============================] - 4s 1s/step - loss: 0.0442 - mae: 0.1614 - val_loss: 0.0444 - val_mae: 0.1623\n",
      "Epoch 118/2000\n",
      "3/5 [=================>............] - ETA: 0s - loss: 0.0427 - mae: 0.1583"
     ]
    },
    {
     "name": "stderr",
     "output_type": "stream",
     "text": [
      "WARNING:absl:Found untraced functions such as lstm_cell_layer_call_fn, lstm_cell_layer_call_and_return_conditional_losses while saving (showing 2 of 2). These functions will not be directly callable after loading.\n"
     ]
    },
    {
     "name": "stdout",
     "output_type": "stream",
     "text": [
      "INFO:tensorflow:Assets written to: C:\\Users\\PARK\\Documents\\LAB\\RNN vs LSTM\\FInal Example\\wandb\\run-20221016_023555-20c04pun\\files\\model-best\\assets\n"
     ]
    },
    {
     "name": "stderr",
     "output_type": "stream",
     "text": [
      "INFO:tensorflow:Assets written to: C:\\Users\\PARK\\Documents\\LAB\\RNN vs LSTM\\FInal Example\\wandb\\run-20221016_023555-20c04pun\\files\\model-best\\assets\n",
      "\u001b[34m\u001b[1mwandb\u001b[0m: Adding directory to artifact (C:\\Users\\PARK\\Documents\\LAB\\RNN vs LSTM\\FInal Example\\wandb\\run-20221016_023555-20c04pun\\files\\model-best)... Done. 0.1s\n"
     ]
    },
    {
     "name": "stdout",
     "output_type": "stream",
     "text": [
      "5/5 [==============================] - 4s 1s/step - loss: 0.0426 - mae: 0.1584 - val_loss: 0.0443 - val_mae: 0.1614\n",
      "Epoch 119/2000\n",
      "2/5 [===========>..................] - ETA: 0s - loss: 0.0432 - mae: 0.1612"
     ]
    },
    {
     "name": "stderr",
     "output_type": "stream",
     "text": [
      "WARNING:absl:Found untraced functions such as lstm_cell_layer_call_fn, lstm_cell_layer_call_and_return_conditional_losses while saving (showing 2 of 2). These functions will not be directly callable after loading.\n"
     ]
    },
    {
     "name": "stdout",
     "output_type": "stream",
     "text": [
      "INFO:tensorflow:Assets written to: C:\\Users\\PARK\\Documents\\LAB\\RNN vs LSTM\\FInal Example\\wandb\\run-20221016_023555-20c04pun\\files\\model-best\\assets\n"
     ]
    },
    {
     "name": "stderr",
     "output_type": "stream",
     "text": [
      "INFO:tensorflow:Assets written to: C:\\Users\\PARK\\Documents\\LAB\\RNN vs LSTM\\FInal Example\\wandb\\run-20221016_023555-20c04pun\\files\\model-best\\assets\n",
      "\u001b[34m\u001b[1mwandb\u001b[0m: Adding directory to artifact (C:\\Users\\PARK\\Documents\\LAB\\RNN vs LSTM\\FInal Example\\wandb\\run-20221016_023555-20c04pun\\files\\model-best)... Done. 0.1s\n"
     ]
    },
    {
     "name": "stdout",
     "output_type": "stream",
     "text": [
      "5/5 [==============================] - 4s 1s/step - loss: 0.0432 - mae: 0.1596 - val_loss: 0.0435 - val_mae: 0.1600\n",
      "Epoch 120/2000\n",
      "5/5 [==============================] - 1s 107ms/step - loss: 0.0429 - mae: 0.1595 - val_loss: 0.0450 - val_mae: 0.1620\n",
      "Epoch 121/2000\n",
      "5/5 [==============================] - 0s 74ms/step - loss: 0.0424 - mae: 0.1573 - val_loss: 0.0446 - val_mae: 0.1620\n",
      "Epoch 122/2000\n",
      "5/5 [==============================] - 0s 73ms/step - loss: 0.0431 - mae: 0.1597 - val_loss: 0.0440 - val_mae: 0.1604\n",
      "Epoch 123/2000\n",
      "5/5 [==============================] - 0s 73ms/step - loss: 0.0431 - mae: 0.1598 - val_loss: 0.0451 - val_mae: 0.1621\n",
      "Epoch 124/2000\n",
      "5/5 [==============================] - 0s 72ms/step - loss: 0.0433 - mae: 0.1585 - val_loss: 0.0441 - val_mae: 0.1595\n",
      "Epoch 125/2000\n",
      "1/5 [=====>........................] - ETA: 0s - loss: 0.0430 - mae: 0.1571"
     ]
    },
    {
     "name": "stderr",
     "output_type": "stream",
     "text": [
      "WARNING:absl:Found untraced functions such as lstm_cell_layer_call_fn, lstm_cell_layer_call_and_return_conditional_losses while saving (showing 2 of 2). These functions will not be directly callable after loading.\n"
     ]
    },
    {
     "name": "stdout",
     "output_type": "stream",
     "text": [
      "INFO:tensorflow:Assets written to: C:\\Users\\PARK\\Documents\\LAB\\RNN vs LSTM\\FInal Example\\wandb\\run-20221016_023555-20c04pun\\files\\model-best\\assets\n"
     ]
    },
    {
     "name": "stderr",
     "output_type": "stream",
     "text": [
      "INFO:tensorflow:Assets written to: C:\\Users\\PARK\\Documents\\LAB\\RNN vs LSTM\\FInal Example\\wandb\\run-20221016_023555-20c04pun\\files\\model-best\\assets\n",
      "\u001b[34m\u001b[1mwandb\u001b[0m: Adding directory to artifact (C:\\Users\\PARK\\Documents\\LAB\\RNN vs LSTM\\FInal Example\\wandb\\run-20221016_023555-20c04pun\\files\\model-best)... Done. 0.1s\n"
     ]
    },
    {
     "name": "stdout",
     "output_type": "stream",
     "text": [
      "5/5 [==============================] - 4s 1s/step - loss: 0.0415 - mae: 0.1557 - val_loss: 0.0426 - val_mae: 0.1583\n",
      "Epoch 126/2000\n",
      "5/5 [==============================] - 1s 105ms/step - loss: 0.0420 - mae: 0.1573 - val_loss: 0.0433 - val_mae: 0.1586\n",
      "Epoch 127/2000\n",
      "5/5 [==============================] - 0s 73ms/step - loss: 0.0423 - mae: 0.1570 - val_loss: 0.0427 - val_mae: 0.1571\n",
      "Epoch 128/2000\n",
      "1/5 [=====>........................] - ETA: 0s - loss: 0.0407 - mae: 0.1513"
     ]
    },
    {
     "name": "stderr",
     "output_type": "stream",
     "text": [
      "WARNING:absl:Found untraced functions such as lstm_cell_layer_call_fn, lstm_cell_layer_call_and_return_conditional_losses while saving (showing 2 of 2). These functions will not be directly callable after loading.\n"
     ]
    },
    {
     "name": "stdout",
     "output_type": "stream",
     "text": [
      "INFO:tensorflow:Assets written to: C:\\Users\\PARK\\Documents\\LAB\\RNN vs LSTM\\FInal Example\\wandb\\run-20221016_023555-20c04pun\\files\\model-best\\assets\n"
     ]
    },
    {
     "name": "stderr",
     "output_type": "stream",
     "text": [
      "INFO:tensorflow:Assets written to: C:\\Users\\PARK\\Documents\\LAB\\RNN vs LSTM\\FInal Example\\wandb\\run-20221016_023555-20c04pun\\files\\model-best\\assets\n",
      "\u001b[34m\u001b[1mwandb\u001b[0m: Adding directory to artifact (C:\\Users\\PARK\\Documents\\LAB\\RNN vs LSTM\\FInal Example\\wandb\\run-20221016_023555-20c04pun\\files\\model-best)... Done. 0.1s\n"
     ]
    },
    {
     "name": "stdout",
     "output_type": "stream",
     "text": [
      "5/5 [==============================] - 4s 997ms/step - loss: 0.0407 - mae: 0.1538 - val_loss: 0.0419 - val_mae: 0.1574\n",
      "Epoch 129/2000\n",
      "4/5 [=======================>......] - ETA: 0s - loss: 0.0398 - mae: 0.1528"
     ]
    },
    {
     "name": "stderr",
     "output_type": "stream",
     "text": [
      "WARNING:absl:Found untraced functions such as lstm_cell_layer_call_fn, lstm_cell_layer_call_and_return_conditional_losses while saving (showing 2 of 2). These functions will not be directly callable after loading.\n"
     ]
    },
    {
     "name": "stdout",
     "output_type": "stream",
     "text": [
      "INFO:tensorflow:Assets written to: C:\\Users\\PARK\\Documents\\LAB\\RNN vs LSTM\\FInal Example\\wandb\\run-20221016_023555-20c04pun\\files\\model-best\\assets\n"
     ]
    },
    {
     "name": "stderr",
     "output_type": "stream",
     "text": [
      "INFO:tensorflow:Assets written to: C:\\Users\\PARK\\Documents\\LAB\\RNN vs LSTM\\FInal Example\\wandb\\run-20221016_023555-20c04pun\\files\\model-best\\assets\n",
      "\u001b[34m\u001b[1mwandb\u001b[0m: Adding directory to artifact (C:\\Users\\PARK\\Documents\\LAB\\RNN vs LSTM\\FInal Example\\wandb\\run-20221016_023555-20c04pun\\files\\model-best)... Done. 0.1s\n"
     ]
    },
    {
     "name": "stdout",
     "output_type": "stream",
     "text": [
      "5/5 [==============================] - 4s 1s/step - loss: 0.0404 - mae: 0.1536 - val_loss: 0.0419 - val_mae: 0.1553\n",
      "Epoch 130/2000\n",
      "5/5 [==============================] - 1s 122ms/step - loss: 0.0409 - mae: 0.1546 - val_loss: 0.0422 - val_mae: 0.1559\n",
      "Epoch 131/2000\n",
      "5/5 [==============================] - 0s 74ms/step - loss: 0.0394 - mae: 0.1518 - val_loss: 0.0426 - val_mae: 0.1580\n",
      "Epoch 132/2000\n",
      "1/5 [=====>........................] - ETA: 0s - loss: 0.0403 - mae: 0.1535"
     ]
    },
    {
     "name": "stderr",
     "output_type": "stream",
     "text": [
      "WARNING:absl:Found untraced functions such as lstm_cell_layer_call_fn, lstm_cell_layer_call_and_return_conditional_losses while saving (showing 2 of 2). These functions will not be directly callable after loading.\n"
     ]
    },
    {
     "name": "stdout",
     "output_type": "stream",
     "text": [
      "INFO:tensorflow:Assets written to: C:\\Users\\PARK\\Documents\\LAB\\RNN vs LSTM\\FInal Example\\wandb\\run-20221016_023555-20c04pun\\files\\model-best\\assets\n"
     ]
    },
    {
     "name": "stderr",
     "output_type": "stream",
     "text": [
      "INFO:tensorflow:Assets written to: C:\\Users\\PARK\\Documents\\LAB\\RNN vs LSTM\\FInal Example\\wandb\\run-20221016_023555-20c04pun\\files\\model-best\\assets\n",
      "\u001b[34m\u001b[1mwandb\u001b[0m: Adding directory to artifact (C:\\Users\\PARK\\Documents\\LAB\\RNN vs LSTM\\FInal Example\\wandb\\run-20221016_023555-20c04pun\\files\\model-best)... Done. 0.1s\n"
     ]
    },
    {
     "name": "stdout",
     "output_type": "stream",
     "text": [
      "5/5 [==============================] - 4s 1s/step - loss: 0.0393 - mae: 0.1510 - val_loss: 0.0414 - val_mae: 0.1527\n",
      "Epoch 133/2000\n",
      "5/5 [==============================] - ETA: 0s - loss: 0.0389 - mae: 0.1493"
     ]
    },
    {
     "name": "stderr",
     "output_type": "stream",
     "text": [
      "WARNING:absl:Found untraced functions such as lstm_cell_layer_call_fn, lstm_cell_layer_call_and_return_conditional_losses while saving (showing 2 of 2). These functions will not be directly callable after loading.\n"
     ]
    },
    {
     "name": "stdout",
     "output_type": "stream",
     "text": [
      "INFO:tensorflow:Assets written to: C:\\Users\\PARK\\Documents\\LAB\\RNN vs LSTM\\FInal Example\\wandb\\run-20221016_023555-20c04pun\\files\\model-best\\assets\n"
     ]
    },
    {
     "name": "stderr",
     "output_type": "stream",
     "text": [
      "INFO:tensorflow:Assets written to: C:\\Users\\PARK\\Documents\\LAB\\RNN vs LSTM\\FInal Example\\wandb\\run-20221016_023555-20c04pun\\files\\model-best\\assets\n",
      "\u001b[34m\u001b[1mwandb\u001b[0m: Adding directory to artifact (C:\\Users\\PARK\\Documents\\LAB\\RNN vs LSTM\\FInal Example\\wandb\\run-20221016_023555-20c04pun\\files\\model-best)... Done. 0.1s\n"
     ]
    },
    {
     "name": "stdout",
     "output_type": "stream",
     "text": [
      "5/5 [==============================] - 4s 1s/step - loss: 0.0389 - mae: 0.1493 - val_loss: 0.0389 - val_mae: 0.1471\n",
      "Epoch 134/2000\n",
      "5/5 [==============================] - 0s 96ms/step - loss: 0.0383 - mae: 0.1484 - val_loss: 0.0390 - val_mae: 0.1516\n",
      "Epoch 135/2000\n",
      "5/5 [==============================] - 0s 72ms/step - loss: 0.0373 - mae: 0.1503 - val_loss: 0.0449 - val_mae: 0.1601\n",
      "Epoch 136/2000\n",
      "5/5 [==============================] - 0s 73ms/step - loss: 0.0387 - mae: 0.1488 - val_loss: 0.0410 - val_mae: 0.1610\n",
      "Epoch 137/2000\n",
      "5/5 [==============================] - 0s 75ms/step - loss: 0.0388 - mae: 0.1483 - val_loss: 0.0648 - val_mae: 0.1952\n",
      "Epoch 138/2000\n",
      "5/5 [==============================] - 0s 72ms/step - loss: 0.0455 - mae: 0.1648 - val_loss: 0.0443 - val_mae: 0.1658\n",
      "Epoch 139/2000\n",
      "5/5 [==============================] - 0s 73ms/step - loss: 0.0411 - mae: 0.1563 - val_loss: 0.0432 - val_mae: 0.1584\n",
      "Epoch 140/2000\n",
      "1/5 [=====>........................] - ETA: 0s - loss: 0.0383 - mae: 0.1511"
     ]
    },
    {
     "name": "stderr",
     "output_type": "stream",
     "text": [
      "WARNING:absl:Found untraced functions such as lstm_cell_layer_call_fn, lstm_cell_layer_call_and_return_conditional_losses while saving (showing 2 of 2). These functions will not be directly callable after loading.\n"
     ]
    },
    {
     "name": "stdout",
     "output_type": "stream",
     "text": [
      "INFO:tensorflow:Assets written to: C:\\Users\\PARK\\Documents\\LAB\\RNN vs LSTM\\FInal Example\\wandb\\run-20221016_023555-20c04pun\\files\\model-best\\assets\n"
     ]
    },
    {
     "name": "stderr",
     "output_type": "stream",
     "text": [
      "INFO:tensorflow:Assets written to: C:\\Users\\PARK\\Documents\\LAB\\RNN vs LSTM\\FInal Example\\wandb\\run-20221016_023555-20c04pun\\files\\model-best\\assets\n",
      "\u001b[34m\u001b[1mwandb\u001b[0m: Adding directory to artifact (C:\\Users\\PARK\\Documents\\LAB\\RNN vs LSTM\\FInal Example\\wandb\\run-20221016_023555-20c04pun\\files\\model-best)... Done. 0.1s\n"
     ]
    },
    {
     "name": "stdout",
     "output_type": "stream",
     "text": [
      "5/5 [==============================] - 4s 994ms/step - loss: 0.0403 - mae: 0.1555 - val_loss: 0.0388 - val_mae: 0.1535\n",
      "Epoch 141/2000\n",
      "4/5 [=======================>......] - ETA: 0s - loss: 0.0364 - mae: 0.1477"
     ]
    },
    {
     "name": "stderr",
     "output_type": "stream",
     "text": [
      "WARNING:absl:Found untraced functions such as lstm_cell_layer_call_fn, lstm_cell_layer_call_and_return_conditional_losses while saving (showing 2 of 2). These functions will not be directly callable after loading.\n"
     ]
    },
    {
     "name": "stdout",
     "output_type": "stream",
     "text": [
      "INFO:tensorflow:Assets written to: C:\\Users\\PARK\\Documents\\LAB\\RNN vs LSTM\\FInal Example\\wandb\\run-20221016_023555-20c04pun\\files\\model-best\\assets\n"
     ]
    },
    {
     "name": "stderr",
     "output_type": "stream",
     "text": [
      "INFO:tensorflow:Assets written to: C:\\Users\\PARK\\Documents\\LAB\\RNN vs LSTM\\FInal Example\\wandb\\run-20221016_023555-20c04pun\\files\\model-best\\assets\n",
      "\u001b[34m\u001b[1mwandb\u001b[0m: Adding directory to artifact (C:\\Users\\PARK\\Documents\\LAB\\RNN vs LSTM\\FInal Example\\wandb\\run-20221016_023555-20c04pun\\files\\model-best)... Done. 0.1s\n"
     ]
    },
    {
     "name": "stdout",
     "output_type": "stream",
     "text": [
      "5/5 [==============================] - 4s 1s/step - loss: 0.0363 - mae: 0.1475 - val_loss: 0.0352 - val_mae: 0.1448\n",
      "Epoch 142/2000\n",
      "2/5 [===========>..................] - ETA: 0s - loss: 0.0335 - mae: 0.1405"
     ]
    },
    {
     "name": "stderr",
     "output_type": "stream",
     "text": [
      "WARNING:absl:Found untraced functions such as lstm_cell_layer_call_fn, lstm_cell_layer_call_and_return_conditional_losses while saving (showing 2 of 2). These functions will not be directly callable after loading.\n"
     ]
    },
    {
     "name": "stdout",
     "output_type": "stream",
     "text": [
      "INFO:tensorflow:Assets written to: C:\\Users\\PARK\\Documents\\LAB\\RNN vs LSTM\\FInal Example\\wandb\\run-20221016_023555-20c04pun\\files\\model-best\\assets\n"
     ]
    },
    {
     "name": "stderr",
     "output_type": "stream",
     "text": [
      "INFO:tensorflow:Assets written to: C:\\Users\\PARK\\Documents\\LAB\\RNN vs LSTM\\FInal Example\\wandb\\run-20221016_023555-20c04pun\\files\\model-best\\assets\n",
      "\u001b[34m\u001b[1mwandb\u001b[0m: Adding directory to artifact (C:\\Users\\PARK\\Documents\\LAB\\RNN vs LSTM\\FInal Example\\wandb\\run-20221016_023555-20c04pun\\files\\model-best)... Done. 0.1s\n"
     ]
    },
    {
     "name": "stdout",
     "output_type": "stream",
     "text": [
      "5/5 [==============================] - 4s 1s/step - loss: 0.0326 - mae: 0.1383 - val_loss: 0.0324 - val_mae: 0.1389\n",
      "Epoch 143/2000\n",
      "3/5 [=================>............] - ETA: 0s - loss: 0.0323 - mae: 0.1388"
     ]
    },
    {
     "name": "stderr",
     "output_type": "stream",
     "text": [
      "WARNING:absl:Found untraced functions such as lstm_cell_layer_call_fn, lstm_cell_layer_call_and_return_conditional_losses while saving (showing 2 of 2). These functions will not be directly callable after loading.\n"
     ]
    },
    {
     "name": "stdout",
     "output_type": "stream",
     "text": [
      "INFO:tensorflow:Assets written to: C:\\Users\\PARK\\Documents\\LAB\\RNN vs LSTM\\FInal Example\\wandb\\run-20221016_023555-20c04pun\\files\\model-best\\assets\n"
     ]
    },
    {
     "name": "stderr",
     "output_type": "stream",
     "text": [
      "INFO:tensorflow:Assets written to: C:\\Users\\PARK\\Documents\\LAB\\RNN vs LSTM\\FInal Example\\wandb\\run-20221016_023555-20c04pun\\files\\model-best\\assets\n",
      "\u001b[34m\u001b[1mwandb\u001b[0m: Adding directory to artifact (C:\\Users\\PARK\\Documents\\LAB\\RNN vs LSTM\\FInal Example\\wandb\\run-20221016_023555-20c04pun\\files\\model-best)... Done. 0.1s\n"
     ]
    },
    {
     "name": "stdout",
     "output_type": "stream",
     "text": [
      "5/5 [==============================] - 4s 1s/step - loss: 0.0323 - mae: 0.1379 - val_loss: 0.0318 - val_mae: 0.1346\n",
      "Epoch 144/2000\n",
      "5/5 [==============================] - 1s 106ms/step - loss: 0.0310 - mae: 0.1329 - val_loss: 0.0321 - val_mae: 0.1377\n",
      "Epoch 145/2000\n",
      "5/5 [==============================] - 0s 71ms/step - loss: 0.0306 - mae: 0.1335 - val_loss: 0.0324 - val_mae: 0.1385\n",
      "Epoch 146/2000\n",
      "1/5 [=====>........................] - ETA: 0s - loss: 0.0286 - mae: 0.1327"
     ]
    },
    {
     "name": "stderr",
     "output_type": "stream",
     "text": [
      "WARNING:absl:Found untraced functions such as lstm_cell_layer_call_fn, lstm_cell_layer_call_and_return_conditional_losses while saving (showing 2 of 2). These functions will not be directly callable after loading.\n"
     ]
    },
    {
     "name": "stdout",
     "output_type": "stream",
     "text": [
      "INFO:tensorflow:Assets written to: C:\\Users\\PARK\\Documents\\LAB\\RNN vs LSTM\\FInal Example\\wandb\\run-20221016_023555-20c04pun\\files\\model-best\\assets\n"
     ]
    },
    {
     "name": "stderr",
     "output_type": "stream",
     "text": [
      "INFO:tensorflow:Assets written to: C:\\Users\\PARK\\Documents\\LAB\\RNN vs LSTM\\FInal Example\\wandb\\run-20221016_023555-20c04pun\\files\\model-best\\assets\n",
      "\u001b[34m\u001b[1mwandb\u001b[0m: Adding directory to artifact (C:\\Users\\PARK\\Documents\\LAB\\RNN vs LSTM\\FInal Example\\wandb\\run-20221016_023555-20c04pun\\files\\model-best)... Done. 0.1s\n"
     ]
    },
    {
     "name": "stdout",
     "output_type": "stream",
     "text": [
      "5/5 [==============================] - 4s 968ms/step - loss: 0.0307 - mae: 0.1341 - val_loss: 0.0317 - val_mae: 0.1388\n",
      "Epoch 147/2000\n",
      "4/5 [=======================>......] - ETA: 0s - loss: 0.0299 - mae: 0.1325"
     ]
    },
    {
     "name": "stderr",
     "output_type": "stream",
     "text": [
      "WARNING:absl:Found untraced functions such as lstm_cell_layer_call_fn, lstm_cell_layer_call_and_return_conditional_losses while saving (showing 2 of 2). These functions will not be directly callable after loading.\n"
     ]
    },
    {
     "name": "stdout",
     "output_type": "stream",
     "text": [
      "INFO:tensorflow:Assets written to: C:\\Users\\PARK\\Documents\\LAB\\RNN vs LSTM\\FInal Example\\wandb\\run-20221016_023555-20c04pun\\files\\model-best\\assets\n"
     ]
    },
    {
     "name": "stderr",
     "output_type": "stream",
     "text": [
      "INFO:tensorflow:Assets written to: C:\\Users\\PARK\\Documents\\LAB\\RNN vs LSTM\\FInal Example\\wandb\\run-20221016_023555-20c04pun\\files\\model-best\\assets\n",
      "\u001b[34m\u001b[1mwandb\u001b[0m: Adding directory to artifact (C:\\Users\\PARK\\Documents\\LAB\\RNN vs LSTM\\FInal Example\\wandb\\run-20221016_023555-20c04pun\\files\\model-best)... Done. 0.1s\n"
     ]
    },
    {
     "name": "stdout",
     "output_type": "stream",
     "text": [
      "5/5 [==============================] - 4s 1s/step - loss: 0.0301 - mae: 0.1328 - val_loss: 0.0309 - val_mae: 0.1343\n",
      "Epoch 148/2000\n",
      "3/5 [=================>............] - ETA: 0s - loss: 0.0282 - mae: 0.1261"
     ]
    },
    {
     "name": "stderr",
     "output_type": "stream",
     "text": [
      "WARNING:absl:Found untraced functions such as lstm_cell_layer_call_fn, lstm_cell_layer_call_and_return_conditional_losses while saving (showing 2 of 2). These functions will not be directly callable after loading.\n"
     ]
    },
    {
     "name": "stdout",
     "output_type": "stream",
     "text": [
      "INFO:tensorflow:Assets written to: C:\\Users\\PARK\\Documents\\LAB\\RNN vs LSTM\\FInal Example\\wandb\\run-20221016_023555-20c04pun\\files\\model-best\\assets\n"
     ]
    },
    {
     "name": "stderr",
     "output_type": "stream",
     "text": [
      "INFO:tensorflow:Assets written to: C:\\Users\\PARK\\Documents\\LAB\\RNN vs LSTM\\FInal Example\\wandb\\run-20221016_023555-20c04pun\\files\\model-best\\assets\n",
      "\u001b[34m\u001b[1mwandb\u001b[0m: Adding directory to artifact (C:\\Users\\PARK\\Documents\\LAB\\RNN vs LSTM\\FInal Example\\wandb\\run-20221016_023555-20c04pun\\files\\model-best)... Done. 0.1s\n"
     ]
    },
    {
     "name": "stdout",
     "output_type": "stream",
     "text": [
      "5/5 [==============================] - 4s 1s/step - loss: 0.0295 - mae: 0.1297 - val_loss: 0.0308 - val_mae: 0.1348\n",
      "Epoch 149/2000\n",
      "5/5 [==============================] - 0s 89ms/step - loss: 0.0293 - mae: 0.1299 - val_loss: 0.0313 - val_mae: 0.1376\n",
      "Epoch 150/2000\n",
      "1/5 [=====>........................] - ETA: 0s - loss: 0.0296 - mae: 0.1356"
     ]
    },
    {
     "name": "stderr",
     "output_type": "stream",
     "text": [
      "WARNING:absl:Found untraced functions such as lstm_cell_layer_call_fn, lstm_cell_layer_call_and_return_conditional_losses while saving (showing 2 of 2). These functions will not be directly callable after loading.\n"
     ]
    },
    {
     "name": "stdout",
     "output_type": "stream",
     "text": [
      "INFO:tensorflow:Assets written to: C:\\Users\\PARK\\Documents\\LAB\\RNN vs LSTM\\FInal Example\\wandb\\run-20221016_023555-20c04pun\\files\\model-best\\assets\n"
     ]
    },
    {
     "name": "stderr",
     "output_type": "stream",
     "text": [
      "INFO:tensorflow:Assets written to: C:\\Users\\PARK\\Documents\\LAB\\RNN vs LSTM\\FInal Example\\wandb\\run-20221016_023555-20c04pun\\files\\model-best\\assets\n",
      "\u001b[34m\u001b[1mwandb\u001b[0m: Adding directory to artifact (C:\\Users\\PARK\\Documents\\LAB\\RNN vs LSTM\\FInal Example\\wandb\\run-20221016_023555-20c04pun\\files\\model-best)... Done. 0.1s\n"
     ]
    },
    {
     "name": "stdout",
     "output_type": "stream",
     "text": [
      "5/5 [==============================] - 4s 1s/step - loss: 0.0299 - mae: 0.1331 - val_loss: 0.0296 - val_mae: 0.1299\n",
      "Epoch 151/2000\n",
      "5/5 [==============================] - 1s 109ms/step - loss: 0.0290 - mae: 0.1279 - val_loss: 0.0317 - val_mae: 0.1340\n",
      "Epoch 152/2000\n",
      "5/5 [==============================] - 0s 72ms/step - loss: 0.0300 - mae: 0.1323 - val_loss: 0.0299 - val_mae: 0.1322\n",
      "Epoch 153/2000\n",
      "5/5 [==============================] - 0s 71ms/step - loss: 0.0286 - mae: 0.1287 - val_loss: 0.0304 - val_mae: 0.1342\n",
      "Epoch 154/2000\n",
      "5/5 [==============================] - 0s 71ms/step - loss: 0.0290 - mae: 0.1302 - val_loss: 0.0304 - val_mae: 0.1351\n",
      "Epoch 155/2000\n",
      "1/5 [=====>........................] - ETA: 0s - loss: 0.0297 - mae: 0.1320"
     ]
    },
    {
     "name": "stderr",
     "output_type": "stream",
     "text": [
      "WARNING:absl:Found untraced functions such as lstm_cell_layer_call_fn, lstm_cell_layer_call_and_return_conditional_losses while saving (showing 2 of 2). These functions will not be directly callable after loading.\n"
     ]
    },
    {
     "name": "stdout",
     "output_type": "stream",
     "text": [
      "INFO:tensorflow:Assets written to: C:\\Users\\PARK\\Documents\\LAB\\RNN vs LSTM\\FInal Example\\wandb\\run-20221016_023555-20c04pun\\files\\model-best\\assets\n"
     ]
    },
    {
     "name": "stderr",
     "output_type": "stream",
     "text": [
      "INFO:tensorflow:Assets written to: C:\\Users\\PARK\\Documents\\LAB\\RNN vs LSTM\\FInal Example\\wandb\\run-20221016_023555-20c04pun\\files\\model-best\\assets\n",
      "\u001b[34m\u001b[1mwandb\u001b[0m: Adding directory to artifact (C:\\Users\\PARK\\Documents\\LAB\\RNN vs LSTM\\FInal Example\\wandb\\run-20221016_023555-20c04pun\\files\\model-best)... Done. 0.1s\n"
     ]
    },
    {
     "name": "stdout",
     "output_type": "stream",
     "text": [
      "5/5 [==============================] - 4s 1s/step - loss: 0.0285 - mae: 0.1282 - val_loss: 0.0293 - val_mae: 0.1310\n",
      "Epoch 156/2000\n",
      "5/5 [==============================] - ETA: 0s - loss: 0.0285 - mae: 0.1274"
     ]
    },
    {
     "name": "stderr",
     "output_type": "stream",
     "text": [
      "WARNING:absl:Found untraced functions such as lstm_cell_layer_call_fn, lstm_cell_layer_call_and_return_conditional_losses while saving (showing 2 of 2). These functions will not be directly callable after loading.\n"
     ]
    },
    {
     "name": "stdout",
     "output_type": "stream",
     "text": [
      "INFO:tensorflow:Assets written to: C:\\Users\\PARK\\Documents\\LAB\\RNN vs LSTM\\FInal Example\\wandb\\run-20221016_023555-20c04pun\\files\\model-best\\assets\n"
     ]
    },
    {
     "name": "stderr",
     "output_type": "stream",
     "text": [
      "INFO:tensorflow:Assets written to: C:\\Users\\PARK\\Documents\\LAB\\RNN vs LSTM\\FInal Example\\wandb\\run-20221016_023555-20c04pun\\files\\model-best\\assets\n",
      "\u001b[34m\u001b[1mwandb\u001b[0m: Adding directory to artifact (C:\\Users\\PARK\\Documents\\LAB\\RNN vs LSTM\\FInal Example\\wandb\\run-20221016_023555-20c04pun\\files\\model-best)... Done. 0.1s\n"
     ]
    },
    {
     "name": "stdout",
     "output_type": "stream",
     "text": [
      "5/5 [==============================] - 4s 1s/step - loss: 0.0285 - mae: 0.1274 - val_loss: 0.0292 - val_mae: 0.1311\n",
      "Epoch 157/2000\n",
      "5/5 [==============================] - 1s 98ms/step - loss: 0.0280 - mae: 0.1263 - val_loss: 0.0294 - val_mae: 0.1307\n",
      "Epoch 158/2000\n",
      "5/5 [==============================] - 0s 72ms/step - loss: 0.0283 - mae: 0.1268 - val_loss: 0.0293 - val_mae: 0.1308\n",
      "Epoch 159/2000\n",
      "1/5 [=====>........................] - ETA: 0s - loss: 0.0257 - mae: 0.1246"
     ]
    },
    {
     "name": "stderr",
     "output_type": "stream",
     "text": [
      "WARNING:absl:Found untraced functions such as lstm_cell_layer_call_fn, lstm_cell_layer_call_and_return_conditional_losses while saving (showing 2 of 2). These functions will not be directly callable after loading.\n"
     ]
    },
    {
     "name": "stdout",
     "output_type": "stream",
     "text": [
      "INFO:tensorflow:Assets written to: C:\\Users\\PARK\\Documents\\LAB\\RNN vs LSTM\\FInal Example\\wandb\\run-20221016_023555-20c04pun\\files\\model-best\\assets\n"
     ]
    },
    {
     "name": "stderr",
     "output_type": "stream",
     "text": [
      "INFO:tensorflow:Assets written to: C:\\Users\\PARK\\Documents\\LAB\\RNN vs LSTM\\FInal Example\\wandb\\run-20221016_023555-20c04pun\\files\\model-best\\assets\n",
      "\u001b[34m\u001b[1mwandb\u001b[0m: Adding directory to artifact (C:\\Users\\PARK\\Documents\\LAB\\RNN vs LSTM\\FInal Example\\wandb\\run-20221016_023555-20c04pun\\files\\model-best)... Done. 0.1s\n"
     ]
    },
    {
     "name": "stdout",
     "output_type": "stream",
     "text": [
      "5/5 [==============================] - 4s 966ms/step - loss: 0.0275 - mae: 0.1255 - val_loss: 0.0285 - val_mae: 0.1291\n",
      "Epoch 160/2000\n",
      "5/5 [==============================] - 1s 121ms/step - loss: 0.0276 - mae: 0.1263 - val_loss: 0.0285 - val_mae: 0.1288\n",
      "Epoch 161/2000\n",
      "5/5 [==============================] - 0s 74ms/step - loss: 0.0274 - mae: 0.1252 - val_loss: 0.0289 - val_mae: 0.1306\n",
      "Epoch 162/2000\n",
      "5/5 [==============================] - 0s 74ms/step - loss: 0.0275 - mae: 0.1263 - val_loss: 0.0287 - val_mae: 0.1284\n",
      "Epoch 163/2000\n",
      "5/5 [==============================] - 0s 74ms/step - loss: 0.0275 - mae: 0.1268 - val_loss: 0.0291 - val_mae: 0.1279\n",
      "Epoch 164/2000\n",
      "1/5 [=====>........................] - ETA: 0s - loss: 0.0249 - mae: 0.1175"
     ]
    },
    {
     "name": "stderr",
     "output_type": "stream",
     "text": [
      "WARNING:absl:Found untraced functions such as lstm_cell_layer_call_fn, lstm_cell_layer_call_and_return_conditional_losses while saving (showing 2 of 2). These functions will not be directly callable after loading.\n"
     ]
    },
    {
     "name": "stdout",
     "output_type": "stream",
     "text": [
      "INFO:tensorflow:Assets written to: C:\\Users\\PARK\\Documents\\LAB\\RNN vs LSTM\\FInal Example\\wandb\\run-20221016_023555-20c04pun\\files\\model-best\\assets\n"
     ]
    },
    {
     "name": "stderr",
     "output_type": "stream",
     "text": [
      "INFO:tensorflow:Assets written to: C:\\Users\\PARK\\Documents\\LAB\\RNN vs LSTM\\FInal Example\\wandb\\run-20221016_023555-20c04pun\\files\\model-best\\assets\n",
      "\u001b[34m\u001b[1mwandb\u001b[0m: Adding directory to artifact (C:\\Users\\PARK\\Documents\\LAB\\RNN vs LSTM\\FInal Example\\wandb\\run-20221016_023555-20c04pun\\files\\model-best)... Done. 0.1s\n"
     ]
    },
    {
     "name": "stdout",
     "output_type": "stream",
     "text": [
      "5/5 [==============================] - 4s 1s/step - loss: 0.0270 - mae: 0.1249 - val_loss: 0.0284 - val_mae: 0.1308\n",
      "Epoch 165/2000\n",
      "4/5 [=======================>......] - ETA: 0s - loss: 0.0267 - mae: 0.1243"
     ]
    },
    {
     "name": "stderr",
     "output_type": "stream",
     "text": [
      "WARNING:absl:Found untraced functions such as lstm_cell_layer_call_fn, lstm_cell_layer_call_and_return_conditional_losses while saving (showing 2 of 2). These functions will not be directly callable after loading.\n"
     ]
    },
    {
     "name": "stdout",
     "output_type": "stream",
     "text": [
      "INFO:tensorflow:Assets written to: C:\\Users\\PARK\\Documents\\LAB\\RNN vs LSTM\\FInal Example\\wandb\\run-20221016_023555-20c04pun\\files\\model-best\\assets\n"
     ]
    },
    {
     "name": "stderr",
     "output_type": "stream",
     "text": [
      "INFO:tensorflow:Assets written to: C:\\Users\\PARK\\Documents\\LAB\\RNN vs LSTM\\FInal Example\\wandb\\run-20221016_023555-20c04pun\\files\\model-best\\assets\n",
      "\u001b[34m\u001b[1mwandb\u001b[0m: Adding directory to artifact (C:\\Users\\PARK\\Documents\\LAB\\RNN vs LSTM\\FInal Example\\wandb\\run-20221016_023555-20c04pun\\files\\model-best)... Done. 0.1s\n"
     ]
    },
    {
     "name": "stdout",
     "output_type": "stream",
     "text": [
      "5/5 [==============================] - 4s 1s/step - loss: 0.0263 - mae: 0.1237 - val_loss: 0.0278 - val_mae: 0.1304\n",
      "Epoch 166/2000\n",
      "5/5 [==============================] - 1s 98ms/step - loss: 0.0276 - mae: 0.1259 - val_loss: 0.0292 - val_mae: 0.1339\n",
      "Epoch 167/2000\n",
      "5/5 [==============================] - 0s 75ms/step - loss: 0.0269 - mae: 0.1264 - val_loss: 0.0285 - val_mae: 0.1344\n",
      "Epoch 168/2000\n",
      "1/5 [=====>........................] - ETA: 0s - loss: 0.0230 - mae: 0.1195"
     ]
    },
    {
     "name": "stderr",
     "output_type": "stream",
     "text": [
      "WARNING:absl:Found untraced functions such as lstm_cell_layer_call_fn, lstm_cell_layer_call_and_return_conditional_losses while saving (showing 2 of 2). These functions will not be directly callable after loading.\n"
     ]
    },
    {
     "name": "stdout",
     "output_type": "stream",
     "text": [
      "INFO:tensorflow:Assets written to: C:\\Users\\PARK\\Documents\\LAB\\RNN vs LSTM\\FInal Example\\wandb\\run-20221016_023555-20c04pun\\files\\model-best\\assets\n"
     ]
    },
    {
     "name": "stderr",
     "output_type": "stream",
     "text": [
      "INFO:tensorflow:Assets written to: C:\\Users\\PARK\\Documents\\LAB\\RNN vs LSTM\\FInal Example\\wandb\\run-20221016_023555-20c04pun\\files\\model-best\\assets\n",
      "\u001b[34m\u001b[1mwandb\u001b[0m: Adding directory to artifact (C:\\Users\\PARK\\Documents\\LAB\\RNN vs LSTM\\FInal Example\\wandb\\run-20221016_023555-20c04pun\\files\\model-best)... Done. 0.1s\n"
     ]
    },
    {
     "name": "stdout",
     "output_type": "stream",
     "text": [
      "5/5 [==============================] - 4s 1s/step - loss: 0.0262 - mae: 0.1241 - val_loss: 0.0271 - val_mae: 0.1283\n",
      "Epoch 169/2000\n",
      "5/5 [==============================] - 1s 116ms/step - loss: 0.0253 - mae: 0.1220 - val_loss: 0.0278 - val_mae: 0.1319\n",
      "Epoch 170/2000\n",
      "1/5 [=====>........................] - ETA: 0s - loss: 0.0260 - mae: 0.1287"
     ]
    },
    {
     "name": "stderr",
     "output_type": "stream",
     "text": [
      "WARNING:absl:Found untraced functions such as lstm_cell_layer_call_fn, lstm_cell_layer_call_and_return_conditional_losses while saving (showing 2 of 2). These functions will not be directly callable after loading.\n"
     ]
    },
    {
     "name": "stdout",
     "output_type": "stream",
     "text": [
      "INFO:tensorflow:Assets written to: C:\\Users\\PARK\\Documents\\LAB\\RNN vs LSTM\\FInal Example\\wandb\\run-20221016_023555-20c04pun\\files\\model-best\\assets\n"
     ]
    },
    {
     "name": "stderr",
     "output_type": "stream",
     "text": [
      "INFO:tensorflow:Assets written to: C:\\Users\\PARK\\Documents\\LAB\\RNN vs LSTM\\FInal Example\\wandb\\run-20221016_023555-20c04pun\\files\\model-best\\assets\n",
      "\u001b[34m\u001b[1mwandb\u001b[0m: Adding directory to artifact (C:\\Users\\PARK\\Documents\\LAB\\RNN vs LSTM\\FInal Example\\wandb\\run-20221016_023555-20c04pun\\files\\model-best)... Done. 0.1s\n"
     ]
    },
    {
     "name": "stdout",
     "output_type": "stream",
     "text": [
      "5/5 [==============================] - 4s 1s/step - loss: 0.0253 - mae: 0.1232 - val_loss: 0.0246 - val_mae: 0.1227\n",
      "Epoch 171/2000\n",
      "5/5 [==============================] - 1s 131ms/step - loss: 0.0245 - mae: 0.1205 - val_loss: 0.0263 - val_mae: 0.1262\n",
      "Epoch 172/2000\n",
      "5/5 [==============================] - 0s 93ms/step - loss: 0.0242 - mae: 0.1205 - val_loss: 0.0266 - val_mae: 0.1277\n",
      "Epoch 173/2000\n",
      "4/5 [=======================>......] - ETA: 0s - loss: 0.0238 - mae: 0.1202"
     ]
    },
    {
     "name": "stderr",
     "output_type": "stream",
     "text": [
      "WARNING:absl:Found untraced functions such as lstm_cell_layer_call_fn, lstm_cell_layer_call_and_return_conditional_losses while saving (showing 2 of 2). These functions will not be directly callable after loading.\n"
     ]
    },
    {
     "name": "stdout",
     "output_type": "stream",
     "text": [
      "INFO:tensorflow:Assets written to: C:\\Users\\PARK\\Documents\\LAB\\RNN vs LSTM\\FInal Example\\wandb\\run-20221016_023555-20c04pun\\files\\model-best\\assets\n"
     ]
    },
    {
     "name": "stderr",
     "output_type": "stream",
     "text": [
      "INFO:tensorflow:Assets written to: C:\\Users\\PARK\\Documents\\LAB\\RNN vs LSTM\\FInal Example\\wandb\\run-20221016_023555-20c04pun\\files\\model-best\\assets\n",
      "\u001b[34m\u001b[1mwandb\u001b[0m: Adding directory to artifact (C:\\Users\\PARK\\Documents\\LAB\\RNN vs LSTM\\FInal Example\\wandb\\run-20221016_023555-20c04pun\\files\\model-best)... Done. 0.1s\n"
     ]
    },
    {
     "name": "stdout",
     "output_type": "stream",
     "text": [
      "5/5 [==============================] - 4s 1s/step - loss: 0.0241 - mae: 0.1205 - val_loss: 0.0244 - val_mae: 0.1216\n",
      "Epoch 174/2000\n",
      "3/5 [=================>............] - ETA: 0s - loss: 0.0236 - mae: 0.1191"
     ]
    },
    {
     "name": "stderr",
     "output_type": "stream",
     "text": [
      "WARNING:absl:Found untraced functions such as lstm_cell_layer_call_fn, lstm_cell_layer_call_and_return_conditional_losses while saving (showing 2 of 2). These functions will not be directly callable after loading.\n"
     ]
    },
    {
     "name": "stdout",
     "output_type": "stream",
     "text": [
      "INFO:tensorflow:Assets written to: C:\\Users\\PARK\\Documents\\LAB\\RNN vs LSTM\\FInal Example\\wandb\\run-20221016_023555-20c04pun\\files\\model-best\\assets\n"
     ]
    },
    {
     "name": "stderr",
     "output_type": "stream",
     "text": [
      "INFO:tensorflow:Assets written to: C:\\Users\\PARK\\Documents\\LAB\\RNN vs LSTM\\FInal Example\\wandb\\run-20221016_023555-20c04pun\\files\\model-best\\assets\n",
      "\u001b[34m\u001b[1mwandb\u001b[0m: Adding directory to artifact (C:\\Users\\PARK\\Documents\\LAB\\RNN vs LSTM\\FInal Example\\wandb\\run-20221016_023555-20c04pun\\files\\model-best)... Done. 0.1s\n"
     ]
    },
    {
     "name": "stdout",
     "output_type": "stream",
     "text": [
      "5/5 [==============================] - 4s 999ms/step - loss: 0.0230 - mae: 0.1169 - val_loss: 0.0224 - val_mae: 0.1173\n",
      "Epoch 175/2000\n",
      "3/5 [=================>............] - ETA: 0s - loss: 0.0217 - mae: 0.1161"
     ]
    },
    {
     "name": "stderr",
     "output_type": "stream",
     "text": [
      "WARNING:absl:Found untraced functions such as lstm_cell_layer_call_fn, lstm_cell_layer_call_and_return_conditional_losses while saving (showing 2 of 2). These functions will not be directly callable after loading.\n"
     ]
    },
    {
     "name": "stdout",
     "output_type": "stream",
     "text": [
      "INFO:tensorflow:Assets written to: C:\\Users\\PARK\\Documents\\LAB\\RNN vs LSTM\\FInal Example\\wandb\\run-20221016_023555-20c04pun\\files\\model-best\\assets\n"
     ]
    },
    {
     "name": "stderr",
     "output_type": "stream",
     "text": [
      "INFO:tensorflow:Assets written to: C:\\Users\\PARK\\Documents\\LAB\\RNN vs LSTM\\FInal Example\\wandb\\run-20221016_023555-20c04pun\\files\\model-best\\assets\n",
      "\u001b[34m\u001b[1mwandb\u001b[0m: Adding directory to artifact (C:\\Users\\PARK\\Documents\\LAB\\RNN vs LSTM\\FInal Example\\wandb\\run-20221016_023555-20c04pun\\files\\model-best)... Done. 0.1s\n"
     ]
    },
    {
     "name": "stdout",
     "output_type": "stream",
     "text": [
      "5/5 [==============================] - 5s 1s/step - loss: 0.0218 - mae: 0.1145 - val_loss: 0.0218 - val_mae: 0.1138\n",
      "Epoch 176/2000\n",
      "5/5 [==============================] - 0s 104ms/step - loss: 0.0406 - mae: 0.1499 - val_loss: 0.0654 - val_mae: 0.2026\n",
      "Epoch 177/2000\n",
      "5/5 [==============================] - 0s 74ms/step - loss: 0.0745 - mae: 0.2133 - val_loss: 0.1517 - val_mae: 0.3256\n",
      "Epoch 178/2000\n",
      "5/5 [==============================] - 0s 78ms/step - loss: 0.1191 - mae: 0.2820 - val_loss: 0.1292 - val_mae: 0.2927\n",
      "Epoch 179/2000\n",
      "5/5 [==============================] - 0s 71ms/step - loss: 0.1104 - mae: 0.2676 - val_loss: 0.0704 - val_mae: 0.2126\n",
      "Epoch 180/2000\n",
      "5/5 [==============================] - 0s 72ms/step - loss: 0.0668 - mae: 0.2023 - val_loss: 0.0682 - val_mae: 0.2055\n",
      "Epoch 181/2000\n",
      "5/5 [==============================] - 0s 72ms/step - loss: 0.0632 - mae: 0.1983 - val_loss: 0.0593 - val_mae: 0.1884\n",
      "Epoch 182/2000\n",
      "5/5 [==============================] - 0s 73ms/step - loss: 0.0595 - mae: 0.1890 - val_loss: 0.0587 - val_mae: 0.1880\n",
      "Epoch 183/2000\n",
      "5/5 [==============================] - 0s 71ms/step - loss: 0.0584 - mae: 0.1874 - val_loss: 0.0605 - val_mae: 0.1963\n",
      "Epoch 184/2000\n",
      "5/5 [==============================] - 0s 71ms/step - loss: 0.0557 - mae: 0.1829 - val_loss: 0.0551 - val_mae: 0.1830\n",
      "Epoch 185/2000\n",
      "5/5 [==============================] - 0s 74ms/step - loss: 0.0528 - mae: 0.1762 - val_loss: 0.0537 - val_mae: 0.1772\n",
      "Epoch 186/2000\n",
      "5/5 [==============================] - 0s 72ms/step - loss: 0.0522 - mae: 0.1745 - val_loss: 0.0543 - val_mae: 0.1770\n",
      "Epoch 187/2000\n",
      "5/5 [==============================] - 0s 74ms/step - loss: 0.0517 - mae: 0.1744 - val_loss: 0.0527 - val_mae: 0.1767\n",
      "Epoch 188/2000\n",
      "5/5 [==============================] - 0s 75ms/step - loss: 0.0515 - mae: 0.1743 - val_loss: 0.0546 - val_mae: 0.1768\n",
      "Epoch 189/2000\n",
      "5/5 [==============================] - 0s 72ms/step - loss: 0.0527 - mae: 0.1768 - val_loss: 0.0555 - val_mae: 0.1800\n",
      "Epoch 190/2000\n",
      "5/5 [==============================] - 0s 72ms/step - loss: 0.0527 - mae: 0.1772 - val_loss: 0.0529 - val_mae: 0.1766\n",
      "Epoch 191/2000\n",
      "5/5 [==============================] - 0s 72ms/step - loss: 0.0503 - mae: 0.1724 - val_loss: 0.0536 - val_mae: 0.1799\n",
      "Epoch 192/2000\n",
      "5/5 [==============================] - 0s 71ms/step - loss: 0.0523 - mae: 0.1764 - val_loss: 0.0525 - val_mae: 0.1773\n",
      "Epoch 193/2000\n",
      "5/5 [==============================] - 0s 71ms/step - loss: 0.0514 - mae: 0.1744 - val_loss: 0.0508 - val_mae: 0.1717\n",
      "Epoch 194/2000\n",
      "5/5 [==============================] - 0s 71ms/step - loss: 0.0508 - mae: 0.1731 - val_loss: 0.0583 - val_mae: 0.1853\n",
      "Epoch 195/2000\n",
      "5/5 [==============================] - 0s 73ms/step - loss: 0.0528 - mae: 0.1778 - val_loss: 0.0565 - val_mae: 0.1836\n",
      "Epoch 196/2000\n",
      "5/5 [==============================] - 0s 75ms/step - loss: 0.0496 - mae: 0.1715 - val_loss: 0.0493 - val_mae: 0.1702\n",
      "Epoch 197/2000\n",
      "5/5 [==============================] - 0s 72ms/step - loss: 0.0449 - mae: 0.1621 - val_loss: 0.0484 - val_mae: 0.1704\n",
      "Epoch 198/2000\n",
      "5/5 [==============================] - 0s 76ms/step - loss: 0.0445 - mae: 0.1626 - val_loss: 0.0510 - val_mae: 0.1751\n",
      "Epoch 199/2000\n",
      "5/5 [==============================] - 0s 73ms/step - loss: 0.0447 - mae: 0.1622 - val_loss: 0.0503 - val_mae: 0.1734\n",
      "Epoch 200/2000\n",
      "5/5 [==============================] - 0s 72ms/step - loss: 0.0442 - mae: 0.1616 - val_loss: 0.0455 - val_mae: 0.1640\n",
      "Epoch 201/2000\n",
      "5/5 [==============================] - 0s 74ms/step - loss: 0.0431 - mae: 0.1588 - val_loss: 0.0473 - val_mae: 0.1681\n",
      "Epoch 202/2000\n",
      "5/5 [==============================] - 0s 71ms/step - loss: 0.0414 - mae: 0.1547 - val_loss: 0.0442 - val_mae: 0.1628\n",
      "Epoch 203/2000\n",
      "5/5 [==============================] - 0s 72ms/step - loss: 0.0401 - mae: 0.1536 - val_loss: 0.0413 - val_mae: 0.1568\n",
      "Epoch 204/2000\n",
      "5/5 [==============================] - 0s 72ms/step - loss: 0.0377 - mae: 0.1487 - val_loss: 0.0416 - val_mae: 0.1552\n",
      "Epoch 205/2000\n",
      "5/5 [==============================] - 0s 74ms/step - loss: 0.0380 - mae: 0.1479 - val_loss: 0.0393 - val_mae: 0.1533\n",
      "Epoch 206/2000\n",
      "5/5 [==============================] - 0s 74ms/step - loss: 0.0367 - mae: 0.1482 - val_loss: 0.0376 - val_mae: 0.1479\n",
      "Epoch 207/2000\n",
      "5/5 [==============================] - 0s 73ms/step - loss: 0.0343 - mae: 0.1415 - val_loss: 0.0356 - val_mae: 0.1461\n",
      "Epoch 208/2000\n",
      "5/5 [==============================] - 0s 76ms/step - loss: 0.0328 - mae: 0.1392 - val_loss: 0.0334 - val_mae: 0.1409\n",
      "Epoch 209/2000\n",
      "5/5 [==============================] - 0s 73ms/step - loss: 0.0323 - mae: 0.1369 - val_loss: 0.0347 - val_mae: 0.1471\n",
      "Epoch 210/2000\n",
      "5/5 [==============================] - 0s 72ms/step - loss: 0.0310 - mae: 0.1364 - val_loss: 0.0325 - val_mae: 0.1385\n",
      "Epoch 211/2000\n",
      "5/5 [==============================] - 0s 74ms/step - loss: 0.0295 - mae: 0.1311 - val_loss: 0.0305 - val_mae: 0.1341\n",
      "Epoch 212/2000\n",
      "5/5 [==============================] - 0s 71ms/step - loss: 0.0280 - mae: 0.1285 - val_loss: 0.0297 - val_mae: 0.1335\n",
      "Epoch 213/2000\n",
      "5/5 [==============================] - 0s 72ms/step - loss: 0.0276 - mae: 0.1282 - val_loss: 0.0294 - val_mae: 0.1325\n",
      "Epoch 214/2000\n",
      "5/5 [==============================] - 0s 76ms/step - loss: 0.0265 - mae: 0.1245 - val_loss: 0.0295 - val_mae: 0.1333\n",
      "Epoch 215/2000\n",
      "5/5 [==============================] - 0s 71ms/step - loss: 0.0264 - mae: 0.1245 - val_loss: 0.0294 - val_mae: 0.1355\n",
      "Epoch 216/2000\n",
      "5/5 [==============================] - 0s 72ms/step - loss: 0.0263 - mae: 0.1257 - val_loss: 0.0311 - val_mae: 0.1415\n",
      "Epoch 217/2000\n",
      "5/5 [==============================] - 0s 72ms/step - loss: 0.0265 - mae: 0.1268 - val_loss: 0.0306 - val_mae: 0.1386\n",
      "Epoch 218/2000\n",
      "5/5 [==============================] - 0s 72ms/step - loss: 0.0264 - mae: 0.1270 - val_loss: 0.0262 - val_mae: 0.1279\n",
      "Epoch 219/2000\n",
      "5/5 [==============================] - 0s 72ms/step - loss: 0.0248 - mae: 0.1236 - val_loss: 0.0240 - val_mae: 0.1198\n",
      "Epoch 220/2000\n",
      "5/5 [==============================] - 0s 72ms/step - loss: 0.0239 - mae: 0.1209 - val_loss: 0.0242 - val_mae: 0.1190\n",
      "Epoch 221/2000\n",
      "5/5 [==============================] - 0s 74ms/step - loss: 0.0220 - mae: 0.1162 - val_loss: 0.0226 - val_mae: 0.1178\n",
      "Epoch 222/2000\n",
      "5/5 [==============================] - 0s 71ms/step - loss: 0.0206 - mae: 0.1120 - val_loss: 0.0229 - val_mae: 0.1195\n",
      "Epoch 223/2000\n",
      "5/5 [==============================] - 0s 72ms/step - loss: 0.0204 - mae: 0.1114 - val_loss: 0.0218 - val_mae: 0.1152\n",
      "Epoch 224/2000\n",
      "1/5 [=====>........................] - ETA: 0s - loss: 0.0189 - mae: 0.1082"
     ]
    },
    {
     "name": "stderr",
     "output_type": "stream",
     "text": [
      "WARNING:absl:Found untraced functions such as lstm_cell_layer_call_fn, lstm_cell_layer_call_and_return_conditional_losses while saving (showing 2 of 2). These functions will not be directly callable after loading.\n"
     ]
    },
    {
     "name": "stdout",
     "output_type": "stream",
     "text": [
      "INFO:tensorflow:Assets written to: C:\\Users\\PARK\\Documents\\LAB\\RNN vs LSTM\\FInal Example\\wandb\\run-20221016_023555-20c04pun\\files\\model-best\\assets\n"
     ]
    },
    {
     "name": "stderr",
     "output_type": "stream",
     "text": [
      "INFO:tensorflow:Assets written to: C:\\Users\\PARK\\Documents\\LAB\\RNN vs LSTM\\FInal Example\\wandb\\run-20221016_023555-20c04pun\\files\\model-best\\assets\n",
      "\u001b[34m\u001b[1mwandb\u001b[0m: Adding directory to artifact (C:\\Users\\PARK\\Documents\\LAB\\RNN vs LSTM\\FInal Example\\wandb\\run-20221016_023555-20c04pun\\files\\model-best)... Done. 0.1s\n"
     ]
    },
    {
     "name": "stdout",
     "output_type": "stream",
     "text": [
      "5/5 [==============================] - 4s 1s/step - loss: 0.0194 - mae: 0.1087 - val_loss: 0.0214 - val_mae: 0.1147\n",
      "Epoch 225/2000\n",
      "3/5 [=================>............] - ETA: 0s - loss: 0.0179 - mae: 0.1062"
     ]
    },
    {
     "name": "stderr",
     "output_type": "stream",
     "text": [
      "WARNING:absl:Found untraced functions such as lstm_cell_layer_call_fn, lstm_cell_layer_call_and_return_conditional_losses while saving (showing 2 of 2). These functions will not be directly callable after loading.\n"
     ]
    },
    {
     "name": "stdout",
     "output_type": "stream",
     "text": [
      "INFO:tensorflow:Assets written to: C:\\Users\\PARK\\Documents\\LAB\\RNN vs LSTM\\FInal Example\\wandb\\run-20221016_023555-20c04pun\\files\\model-best\\assets\n"
     ]
    },
    {
     "name": "stderr",
     "output_type": "stream",
     "text": [
      "INFO:tensorflow:Assets written to: C:\\Users\\PARK\\Documents\\LAB\\RNN vs LSTM\\FInal Example\\wandb\\run-20221016_023555-20c04pun\\files\\model-best\\assets\n",
      "\u001b[34m\u001b[1mwandb\u001b[0m: Adding directory to artifact (C:\\Users\\PARK\\Documents\\LAB\\RNN vs LSTM\\FInal Example\\wandb\\run-20221016_023555-20c04pun\\files\\model-best)... Done. 0.1s\n"
     ]
    },
    {
     "name": "stdout",
     "output_type": "stream",
     "text": [
      "5/5 [==============================] - 4s 1s/step - loss: 0.0184 - mae: 0.1073 - val_loss: 0.0197 - val_mae: 0.1112\n",
      "Epoch 226/2000\n",
      "3/5 [=================>............] - ETA: 0s - loss: 0.0182 - mae: 0.1072"
     ]
    },
    {
     "name": "stderr",
     "output_type": "stream",
     "text": [
      "WARNING:absl:Found untraced functions such as lstm_cell_layer_call_fn, lstm_cell_layer_call_and_return_conditional_losses while saving (showing 2 of 2). These functions will not be directly callable after loading.\n"
     ]
    },
    {
     "name": "stdout",
     "output_type": "stream",
     "text": [
      "INFO:tensorflow:Assets written to: C:\\Users\\PARK\\Documents\\LAB\\RNN vs LSTM\\FInal Example\\wandb\\run-20221016_023555-20c04pun\\files\\model-best\\assets\n"
     ]
    },
    {
     "name": "stderr",
     "output_type": "stream",
     "text": [
      "INFO:tensorflow:Assets written to: C:\\Users\\PARK\\Documents\\LAB\\RNN vs LSTM\\FInal Example\\wandb\\run-20221016_023555-20c04pun\\files\\model-best\\assets\n",
      "\u001b[34m\u001b[1mwandb\u001b[0m: Adding directory to artifact (C:\\Users\\PARK\\Documents\\LAB\\RNN vs LSTM\\FInal Example\\wandb\\run-20221016_023555-20c04pun\\files\\model-best)... Done. 0.1s\n"
     ]
    },
    {
     "name": "stdout",
     "output_type": "stream",
     "text": [
      "5/5 [==============================] - 4s 1s/step - loss: 0.0182 - mae: 0.1054 - val_loss: 0.0187 - val_mae: 0.1093\n",
      "Epoch 227/2000\n",
      "5/5 [==============================] - 1s 126ms/step - loss: 0.0172 - mae: 0.1039 - val_loss: 0.0194 - val_mae: 0.1107\n",
      "Epoch 228/2000\n",
      "1/5 [=====>........................] - ETA: 0s - loss: 0.0163 - mae: 0.1008"
     ]
    },
    {
     "name": "stderr",
     "output_type": "stream",
     "text": [
      "WARNING:absl:Found untraced functions such as lstm_cell_layer_call_fn, lstm_cell_layer_call_and_return_conditional_losses while saving (showing 2 of 2). These functions will not be directly callable after loading.\n"
     ]
    },
    {
     "name": "stdout",
     "output_type": "stream",
     "text": [
      "INFO:tensorflow:Assets written to: C:\\Users\\PARK\\Documents\\LAB\\RNN vs LSTM\\FInal Example\\wandb\\run-20221016_023555-20c04pun\\files\\model-best\\assets\n"
     ]
    },
    {
     "name": "stderr",
     "output_type": "stream",
     "text": [
      "INFO:tensorflow:Assets written to: C:\\Users\\PARK\\Documents\\LAB\\RNN vs LSTM\\FInal Example\\wandb\\run-20221016_023555-20c04pun\\files\\model-best\\assets\n",
      "\u001b[34m\u001b[1mwandb\u001b[0m: Adding directory to artifact (C:\\Users\\PARK\\Documents\\LAB\\RNN vs LSTM\\FInal Example\\wandb\\run-20221016_023555-20c04pun\\files\\model-best)... Done. 0.1s\n"
     ]
    },
    {
     "name": "stdout",
     "output_type": "stream",
     "text": [
      "5/5 [==============================] - 4s 1s/step - loss: 0.0165 - mae: 0.1012 - val_loss: 0.0175 - val_mae: 0.1058\n",
      "Epoch 229/2000\n",
      "5/5 [==============================] - 1s 110ms/step - loss: 0.0158 - mae: 0.0994 - val_loss: 0.0199 - val_mae: 0.1063\n",
      "Epoch 230/2000\n",
      "5/5 [==============================] - 0s 75ms/step - loss: 0.0160 - mae: 0.0988 - val_loss: 0.0191 - val_mae: 0.1048\n",
      "Epoch 231/2000\n",
      "1/5 [=====>........................] - ETA: 0s - loss: 0.0176 - mae: 0.1029"
     ]
    },
    {
     "name": "stderr",
     "output_type": "stream",
     "text": [
      "WARNING:absl:Found untraced functions such as lstm_cell_layer_call_fn, lstm_cell_layer_call_and_return_conditional_losses while saving (showing 2 of 2). These functions will not be directly callable after loading.\n"
     ]
    },
    {
     "name": "stdout",
     "output_type": "stream",
     "text": [
      "INFO:tensorflow:Assets written to: C:\\Users\\PARK\\Documents\\LAB\\RNN vs LSTM\\FInal Example\\wandb\\run-20221016_023555-20c04pun\\files\\model-best\\assets\n"
     ]
    },
    {
     "name": "stderr",
     "output_type": "stream",
     "text": [
      "INFO:tensorflow:Assets written to: C:\\Users\\PARK\\Documents\\LAB\\RNN vs LSTM\\FInal Example\\wandb\\run-20221016_023555-20c04pun\\files\\model-best\\assets\n",
      "\u001b[34m\u001b[1mwandb\u001b[0m: Adding directory to artifact (C:\\Users\\PARK\\Documents\\LAB\\RNN vs LSTM\\FInal Example\\wandb\\run-20221016_023555-20c04pun\\files\\model-best)... Done. 0.1s\n"
     ]
    },
    {
     "name": "stdout",
     "output_type": "stream",
     "text": [
      "5/5 [==============================] - 4s 1s/step - loss: 0.0152 - mae: 0.0963 - val_loss: 0.0167 - val_mae: 0.1010\n",
      "Epoch 232/2000\n",
      "4/5 [=======================>......] - ETA: 0s - loss: 0.0137 - mae: 0.0925"
     ]
    },
    {
     "name": "stderr",
     "output_type": "stream",
     "text": [
      "WARNING:absl:Found untraced functions such as lstm_cell_layer_call_fn, lstm_cell_layer_call_and_return_conditional_losses while saving (showing 2 of 2). These functions will not be directly callable after loading.\n"
     ]
    },
    {
     "name": "stdout",
     "output_type": "stream",
     "text": [
      "INFO:tensorflow:Assets written to: C:\\Users\\PARK\\Documents\\LAB\\RNN vs LSTM\\FInal Example\\wandb\\run-20221016_023555-20c04pun\\files\\model-best\\assets\n"
     ]
    },
    {
     "name": "stderr",
     "output_type": "stream",
     "text": [
      "INFO:tensorflow:Assets written to: C:\\Users\\PARK\\Documents\\LAB\\RNN vs LSTM\\FInal Example\\wandb\\run-20221016_023555-20c04pun\\files\\model-best\\assets\n",
      "\u001b[34m\u001b[1mwandb\u001b[0m: Adding directory to artifact (C:\\Users\\PARK\\Documents\\LAB\\RNN vs LSTM\\FInal Example\\wandb\\run-20221016_023555-20c04pun\\files\\model-best)... Done. 0.1s\n"
     ]
    },
    {
     "name": "stdout",
     "output_type": "stream",
     "text": [
      "5/5 [==============================] - 4s 1s/step - loss: 0.0142 - mae: 0.0940 - val_loss: 0.0160 - val_mae: 0.0992\n",
      "Epoch 233/2000\n",
      "5/5 [==============================] - 1s 107ms/step - loss: 0.0137 - mae: 0.0921 - val_loss: 0.0199 - val_mae: 0.1115\n",
      "Epoch 234/2000\n",
      "1/5 [=====>........................] - ETA: 0s - loss: 0.0174 - mae: 0.1052"
     ]
    },
    {
     "name": "stderr",
     "output_type": "stream",
     "text": [
      "WARNING:absl:Found untraced functions such as lstm_cell_layer_call_fn, lstm_cell_layer_call_and_return_conditional_losses while saving (showing 2 of 2). These functions will not be directly callable after loading.\n"
     ]
    },
    {
     "name": "stdout",
     "output_type": "stream",
     "text": [
      "INFO:tensorflow:Assets written to: C:\\Users\\PARK\\Documents\\LAB\\RNN vs LSTM\\FInal Example\\wandb\\run-20221016_023555-20c04pun\\files\\model-best\\assets\n"
     ]
    },
    {
     "name": "stderr",
     "output_type": "stream",
     "text": [
      "INFO:tensorflow:Assets written to: C:\\Users\\PARK\\Documents\\LAB\\RNN vs LSTM\\FInal Example\\wandb\\run-20221016_023555-20c04pun\\files\\model-best\\assets\n",
      "\u001b[34m\u001b[1mwandb\u001b[0m: Adding directory to artifact (C:\\Users\\PARK\\Documents\\LAB\\RNN vs LSTM\\FInal Example\\wandb\\run-20221016_023555-20c04pun\\files\\model-best)... Done. 0.1s\n"
     ]
    },
    {
     "name": "stdout",
     "output_type": "stream",
     "text": [
      "5/5 [==============================] - 4s 989ms/step - loss: 0.0152 - mae: 0.0981 - val_loss: 0.0154 - val_mae: 0.0977\n",
      "Epoch 235/2000\n",
      "4/5 [=======================>......] - ETA: 0s - loss: 0.0135 - mae: 0.0915"
     ]
    },
    {
     "name": "stderr",
     "output_type": "stream",
     "text": [
      "WARNING:absl:Found untraced functions such as lstm_cell_layer_call_fn, lstm_cell_layer_call_and_return_conditional_losses while saving (showing 2 of 2). These functions will not be directly callable after loading.\n"
     ]
    },
    {
     "name": "stdout",
     "output_type": "stream",
     "text": [
      "INFO:tensorflow:Assets written to: C:\\Users\\PARK\\Documents\\LAB\\RNN vs LSTM\\FInal Example\\wandb\\run-20221016_023555-20c04pun\\files\\model-best\\assets\n"
     ]
    },
    {
     "name": "stderr",
     "output_type": "stream",
     "text": [
      "INFO:tensorflow:Assets written to: C:\\Users\\PARK\\Documents\\LAB\\RNN vs LSTM\\FInal Example\\wandb\\run-20221016_023555-20c04pun\\files\\model-best\\assets\n",
      "\u001b[34m\u001b[1mwandb\u001b[0m: Adding directory to artifact (C:\\Users\\PARK\\Documents\\LAB\\RNN vs LSTM\\FInal Example\\wandb\\run-20221016_023555-20c04pun\\files\\model-best)... Done. 0.1s\n"
     ]
    },
    {
     "name": "stdout",
     "output_type": "stream",
     "text": [
      "5/5 [==============================] - 4s 1s/step - loss: 0.0135 - mae: 0.0913 - val_loss: 0.0141 - val_mae: 0.0921\n",
      "Epoch 236/2000\n",
      "5/5 [==============================] - ETA: 0s - loss: 0.0126 - mae: 0.0891"
     ]
    },
    {
     "name": "stderr",
     "output_type": "stream",
     "text": [
      "WARNING:absl:Found untraced functions such as lstm_cell_layer_call_fn, lstm_cell_layer_call_and_return_conditional_losses while saving (showing 2 of 2). These functions will not be directly callable after loading.\n"
     ]
    },
    {
     "name": "stdout",
     "output_type": "stream",
     "text": [
      "INFO:tensorflow:Assets written to: C:\\Users\\PARK\\Documents\\LAB\\RNN vs LSTM\\FInal Example\\wandb\\run-20221016_023555-20c04pun\\files\\model-best\\assets\n"
     ]
    },
    {
     "name": "stderr",
     "output_type": "stream",
     "text": [
      "INFO:tensorflow:Assets written to: C:\\Users\\PARK\\Documents\\LAB\\RNN vs LSTM\\FInal Example\\wandb\\run-20221016_023555-20c04pun\\files\\model-best\\assets\n",
      "\u001b[34m\u001b[1mwandb\u001b[0m: Adding directory to artifact (C:\\Users\\PARK\\Documents\\LAB\\RNN vs LSTM\\FInal Example\\wandb\\run-20221016_023555-20c04pun\\files\\model-best)... Done. 0.1s\n"
     ]
    },
    {
     "name": "stdout",
     "output_type": "stream",
     "text": [
      "5/5 [==============================] - 4s 1s/step - loss: 0.0126 - mae: 0.0891 - val_loss: 0.0140 - val_mae: 0.0928\n",
      "Epoch 237/2000\n",
      "3/5 [=================>............] - ETA: 0s - loss: 0.0116 - mae: 0.0845"
     ]
    },
    {
     "name": "stderr",
     "output_type": "stream",
     "text": [
      "WARNING:absl:Found untraced functions such as lstm_cell_layer_call_fn, lstm_cell_layer_call_and_return_conditional_losses while saving (showing 2 of 2). These functions will not be directly callable after loading.\n"
     ]
    },
    {
     "name": "stdout",
     "output_type": "stream",
     "text": [
      "INFO:tensorflow:Assets written to: C:\\Users\\PARK\\Documents\\LAB\\RNN vs LSTM\\FInal Example\\wandb\\run-20221016_023555-20c04pun\\files\\model-best\\assets\n"
     ]
    },
    {
     "name": "stderr",
     "output_type": "stream",
     "text": [
      "INFO:tensorflow:Assets written to: C:\\Users\\PARK\\Documents\\LAB\\RNN vs LSTM\\FInal Example\\wandb\\run-20221016_023555-20c04pun\\files\\model-best\\assets\n",
      "\u001b[34m\u001b[1mwandb\u001b[0m: Adding directory to artifact (C:\\Users\\PARK\\Documents\\LAB\\RNN vs LSTM\\FInal Example\\wandb\\run-20221016_023555-20c04pun\\files\\model-best)... Done. 0.1s\n"
     ]
    },
    {
     "name": "stdout",
     "output_type": "stream",
     "text": [
      "5/5 [==============================] - 4s 1s/step - loss: 0.0117 - mae: 0.0853 - val_loss: 0.0140 - val_mae: 0.0923\n",
      "Epoch 238/2000\n",
      "2/5 [===========>..................] - ETA: 0s - loss: 0.0124 - mae: 0.0882"
     ]
    },
    {
     "name": "stderr",
     "output_type": "stream",
     "text": [
      "WARNING:absl:Found untraced functions such as lstm_cell_layer_call_fn, lstm_cell_layer_call_and_return_conditional_losses while saving (showing 2 of 2). These functions will not be directly callable after loading.\n"
     ]
    },
    {
     "name": "stdout",
     "output_type": "stream",
     "text": [
      "INFO:tensorflow:Assets written to: C:\\Users\\PARK\\Documents\\LAB\\RNN vs LSTM\\FInal Example\\wandb\\run-20221016_023555-20c04pun\\files\\model-best\\assets\n"
     ]
    },
    {
     "name": "stderr",
     "output_type": "stream",
     "text": [
      "INFO:tensorflow:Assets written to: C:\\Users\\PARK\\Documents\\LAB\\RNN vs LSTM\\FInal Example\\wandb\\run-20221016_023555-20c04pun\\files\\model-best\\assets\n",
      "\u001b[34m\u001b[1mwandb\u001b[0m: Adding directory to artifact (C:\\Users\\PARK\\Documents\\LAB\\RNN vs LSTM\\FInal Example\\wandb\\run-20221016_023555-20c04pun\\files\\model-best)... Done. 0.1s\n"
     ]
    },
    {
     "name": "stdout",
     "output_type": "stream",
     "text": [
      "5/5 [==============================] - 4s 1s/step - loss: 0.0117 - mae: 0.0859 - val_loss: 0.0136 - val_mae: 0.0901\n",
      "Epoch 239/2000\n",
      "3/5 [=================>............] - ETA: 0s - loss: 0.0113 - mae: 0.0834"
     ]
    },
    {
     "name": "stderr",
     "output_type": "stream",
     "text": [
      "WARNING:absl:Found untraced functions such as lstm_cell_layer_call_fn, lstm_cell_layer_call_and_return_conditional_losses while saving (showing 2 of 2). These functions will not be directly callable after loading.\n"
     ]
    },
    {
     "name": "stdout",
     "output_type": "stream",
     "text": [
      "INFO:tensorflow:Assets written to: C:\\Users\\PARK\\Documents\\LAB\\RNN vs LSTM\\FInal Example\\wandb\\run-20221016_023555-20c04pun\\files\\model-best\\assets\n"
     ]
    },
    {
     "name": "stderr",
     "output_type": "stream",
     "text": [
      "INFO:tensorflow:Assets written to: C:\\Users\\PARK\\Documents\\LAB\\RNN vs LSTM\\FInal Example\\wandb\\run-20221016_023555-20c04pun\\files\\model-best\\assets\n",
      "\u001b[34m\u001b[1mwandb\u001b[0m: Adding directory to artifact (C:\\Users\\PARK\\Documents\\LAB\\RNN vs LSTM\\FInal Example\\wandb\\run-20221016_023555-20c04pun\\files\\model-best)... Done. 0.1s\n"
     ]
    },
    {
     "name": "stdout",
     "output_type": "stream",
     "text": [
      "5/5 [==============================] - 4s 990ms/step - loss: 0.0114 - mae: 0.0840 - val_loss: 0.0134 - val_mae: 0.0912\n",
      "Epoch 240/2000\n",
      "4/5 [=======================>......] - ETA: 0s - loss: 0.0111 - mae: 0.0830"
     ]
    },
    {
     "name": "stderr",
     "output_type": "stream",
     "text": [
      "WARNING:absl:Found untraced functions such as lstm_cell_layer_call_fn, lstm_cell_layer_call_and_return_conditional_losses while saving (showing 2 of 2). These functions will not be directly callable after loading.\n"
     ]
    },
    {
     "name": "stdout",
     "output_type": "stream",
     "text": [
      "INFO:tensorflow:Assets written to: C:\\Users\\PARK\\Documents\\LAB\\RNN vs LSTM\\FInal Example\\wandb\\run-20221016_023555-20c04pun\\files\\model-best\\assets\n"
     ]
    },
    {
     "name": "stderr",
     "output_type": "stream",
     "text": [
      "INFO:tensorflow:Assets written to: C:\\Users\\PARK\\Documents\\LAB\\RNN vs LSTM\\FInal Example\\wandb\\run-20221016_023555-20c04pun\\files\\model-best\\assets\n",
      "\u001b[34m\u001b[1mwandb\u001b[0m: Adding directory to artifact (C:\\Users\\PARK\\Documents\\LAB\\RNN vs LSTM\\FInal Example\\wandb\\run-20221016_023555-20c04pun\\files\\model-best)... Done. 0.1s\n"
     ]
    },
    {
     "name": "stdout",
     "output_type": "stream",
     "text": [
      "5/5 [==============================] - 4s 1s/step - loss: 0.0109 - mae: 0.0824 - val_loss: 0.0129 - val_mae: 0.0879\n",
      "Epoch 241/2000\n",
      "3/5 [=================>............] - ETA: 0s - loss: 0.0107 - mae: 0.0817"
     ]
    },
    {
     "name": "stderr",
     "output_type": "stream",
     "text": [
      "WARNING:absl:Found untraced functions such as lstm_cell_layer_call_fn, lstm_cell_layer_call_and_return_conditional_losses while saving (showing 2 of 2). These functions will not be directly callable after loading.\n"
     ]
    },
    {
     "name": "stdout",
     "output_type": "stream",
     "text": [
      "INFO:tensorflow:Assets written to: C:\\Users\\PARK\\Documents\\LAB\\RNN vs LSTM\\FInal Example\\wandb\\run-20221016_023555-20c04pun\\files\\model-best\\assets\n"
     ]
    },
    {
     "name": "stderr",
     "output_type": "stream",
     "text": [
      "INFO:tensorflow:Assets written to: C:\\Users\\PARK\\Documents\\LAB\\RNN vs LSTM\\FInal Example\\wandb\\run-20221016_023555-20c04pun\\files\\model-best\\assets\n",
      "\u001b[34m\u001b[1mwandb\u001b[0m: Adding directory to artifact (C:\\Users\\PARK\\Documents\\LAB\\RNN vs LSTM\\FInal Example\\wandb\\run-20221016_023555-20c04pun\\files\\model-best)... Done. 0.1s\n"
     ]
    },
    {
     "name": "stdout",
     "output_type": "stream",
     "text": [
      "5/5 [==============================] - 4s 1s/step - loss: 0.0104 - mae: 0.0803 - val_loss: 0.0129 - val_mae: 0.0875\n",
      "Epoch 242/2000\n",
      "4/5 [=======================>......] - ETA: 0s - loss: 0.0104 - mae: 0.0807"
     ]
    },
    {
     "name": "stderr",
     "output_type": "stream",
     "text": [
      "WARNING:absl:Found untraced functions such as lstm_cell_layer_call_fn, lstm_cell_layer_call_and_return_conditional_losses while saving (showing 2 of 2). These functions will not be directly callable after loading.\n"
     ]
    },
    {
     "name": "stdout",
     "output_type": "stream",
     "text": [
      "INFO:tensorflow:Assets written to: C:\\Users\\PARK\\Documents\\LAB\\RNN vs LSTM\\FInal Example\\wandb\\run-20221016_023555-20c04pun\\files\\model-best\\assets\n"
     ]
    },
    {
     "name": "stderr",
     "output_type": "stream",
     "text": [
      "INFO:tensorflow:Assets written to: C:\\Users\\PARK\\Documents\\LAB\\RNN vs LSTM\\FInal Example\\wandb\\run-20221016_023555-20c04pun\\files\\model-best\\assets\n",
      "\u001b[34m\u001b[1mwandb\u001b[0m: Adding directory to artifact (C:\\Users\\PARK\\Documents\\LAB\\RNN vs LSTM\\FInal Example\\wandb\\run-20221016_023555-20c04pun\\files\\model-best)... Done. 0.1s\n"
     ]
    },
    {
     "name": "stdout",
     "output_type": "stream",
     "text": [
      "5/5 [==============================] - 4s 1s/step - loss: 0.0102 - mae: 0.0797 - val_loss: 0.0126 - val_mae: 0.0871\n",
      "Epoch 243/2000\n",
      "5/5 [==============================] - 1s 117ms/step - loss: 0.0105 - mae: 0.0808 - val_loss: 0.0156 - val_mae: 0.0977\n",
      "Epoch 244/2000\n",
      "5/5 [==============================] - 0s 72ms/step - loss: 0.0111 - mae: 0.0839 - val_loss: 0.0142 - val_mae: 0.0908\n",
      "Epoch 245/2000\n",
      "1/5 [=====>........................] - ETA: 0s - loss: 0.0120 - mae: 0.0849"
     ]
    },
    {
     "name": "stderr",
     "output_type": "stream",
     "text": [
      "WARNING:absl:Found untraced functions such as lstm_cell_layer_call_fn, lstm_cell_layer_call_and_return_conditional_losses while saving (showing 2 of 2). These functions will not be directly callable after loading.\n"
     ]
    },
    {
     "name": "stdout",
     "output_type": "stream",
     "text": [
      "INFO:tensorflow:Assets written to: C:\\Users\\PARK\\Documents\\LAB\\RNN vs LSTM\\FInal Example\\wandb\\run-20221016_023555-20c04pun\\files\\model-best\\assets\n"
     ]
    },
    {
     "name": "stderr",
     "output_type": "stream",
     "text": [
      "INFO:tensorflow:Assets written to: C:\\Users\\PARK\\Documents\\LAB\\RNN vs LSTM\\FInal Example\\wandb\\run-20221016_023555-20c04pun\\files\\model-best\\assets\n",
      "\u001b[34m\u001b[1mwandb\u001b[0m: Adding directory to artifact (C:\\Users\\PARK\\Documents\\LAB\\RNN vs LSTM\\FInal Example\\wandb\\run-20221016_023555-20c04pun\\files\\model-best)... Done. 0.1s\n"
     ]
    },
    {
     "name": "stdout",
     "output_type": "stream",
     "text": [
      "5/5 [==============================] - 4s 975ms/step - loss: 0.0106 - mae: 0.0812 - val_loss: 0.0113 - val_mae: 0.0830\n",
      "Epoch 246/2000\n",
      "5/5 [==============================] - 1s 119ms/step - loss: 0.0095 - mae: 0.0770 - val_loss: 0.0114 - val_mae: 0.0840\n",
      "Epoch 247/2000\n",
      "5/5 [==============================] - 0s 75ms/step - loss: 0.0090 - mae: 0.0754 - val_loss: 0.0123 - val_mae: 0.0866\n",
      "Epoch 248/2000\n",
      "5/5 [==============================] - 0s 73ms/step - loss: 0.0090 - mae: 0.0747 - val_loss: 0.0115 - val_mae: 0.0850\n",
      "Epoch 249/2000\n",
      "1/5 [=====>........................] - ETA: 0s - loss: 0.0091 - mae: 0.0754"
     ]
    },
    {
     "name": "stderr",
     "output_type": "stream",
     "text": [
      "WARNING:absl:Found untraced functions such as lstm_cell_layer_call_fn, lstm_cell_layer_call_and_return_conditional_losses while saving (showing 2 of 2). These functions will not be directly callable after loading.\n"
     ]
    },
    {
     "name": "stdout",
     "output_type": "stream",
     "text": [
      "INFO:tensorflow:Assets written to: C:\\Users\\PARK\\Documents\\LAB\\RNN vs LSTM\\FInal Example\\wandb\\run-20221016_023555-20c04pun\\files\\model-best\\assets\n"
     ]
    },
    {
     "name": "stderr",
     "output_type": "stream",
     "text": [
      "INFO:tensorflow:Assets written to: C:\\Users\\PARK\\Documents\\LAB\\RNN vs LSTM\\FInal Example\\wandb\\run-20221016_023555-20c04pun\\files\\model-best\\assets\n",
      "\u001b[34m\u001b[1mwandb\u001b[0m: Adding directory to artifact (C:\\Users\\PARK\\Documents\\LAB\\RNN vs LSTM\\FInal Example\\wandb\\run-20221016_023555-20c04pun\\files\\model-best)... Done. 0.1s\n"
     ]
    },
    {
     "name": "stdout",
     "output_type": "stream",
     "text": [
      "5/5 [==============================] - 4s 1s/step - loss: 0.0087 - mae: 0.0737 - val_loss: 0.0107 - val_mae: 0.0813\n",
      "Epoch 250/2000\n",
      "4/5 [=======================>......] - ETA: 0s - loss: 0.0081 - mae: 0.0711"
     ]
    },
    {
     "name": "stderr",
     "output_type": "stream",
     "text": [
      "WARNING:absl:Found untraced functions such as lstm_cell_layer_call_fn, lstm_cell_layer_call_and_return_conditional_losses while saving (showing 2 of 2). These functions will not be directly callable after loading.\n"
     ]
    },
    {
     "name": "stdout",
     "output_type": "stream",
     "text": [
      "INFO:tensorflow:Assets written to: C:\\Users\\PARK\\Documents\\LAB\\RNN vs LSTM\\FInal Example\\wandb\\run-20221016_023555-20c04pun\\files\\model-best\\assets\n"
     ]
    },
    {
     "name": "stderr",
     "output_type": "stream",
     "text": [
      "INFO:tensorflow:Assets written to: C:\\Users\\PARK\\Documents\\LAB\\RNN vs LSTM\\FInal Example\\wandb\\run-20221016_023555-20c04pun\\files\\model-best\\assets\n",
      "\u001b[34m\u001b[1mwandb\u001b[0m: Adding directory to artifact (C:\\Users\\PARK\\Documents\\LAB\\RNN vs LSTM\\FInal Example\\wandb\\run-20221016_023555-20c04pun\\files\\model-best)... Done. 0.1s\n"
     ]
    },
    {
     "name": "stdout",
     "output_type": "stream",
     "text": [
      "5/5 [==============================] - 4s 1s/step - loss: 0.0082 - mae: 0.0712 - val_loss: 0.0099 - val_mae: 0.0777\n",
      "Epoch 251/2000\n",
      "3/5 [=================>............] - ETA: 0s - loss: 0.0078 - mae: 0.0700"
     ]
    },
    {
     "name": "stderr",
     "output_type": "stream",
     "text": [
      "WARNING:absl:Found untraced functions such as lstm_cell_layer_call_fn, lstm_cell_layer_call_and_return_conditional_losses while saving (showing 2 of 2). These functions will not be directly callable after loading.\n"
     ]
    },
    {
     "name": "stdout",
     "output_type": "stream",
     "text": [
      "INFO:tensorflow:Assets written to: C:\\Users\\PARK\\Documents\\LAB\\RNN vs LSTM\\FInal Example\\wandb\\run-20221016_023555-20c04pun\\files\\model-best\\assets\n"
     ]
    },
    {
     "name": "stderr",
     "output_type": "stream",
     "text": [
      "INFO:tensorflow:Assets written to: C:\\Users\\PARK\\Documents\\LAB\\RNN vs LSTM\\FInal Example\\wandb\\run-20221016_023555-20c04pun\\files\\model-best\\assets\n",
      "\u001b[34m\u001b[1mwandb\u001b[0m: Adding directory to artifact (C:\\Users\\PARK\\Documents\\LAB\\RNN vs LSTM\\FInal Example\\wandb\\run-20221016_023555-20c04pun\\files\\model-best)... Done. 0.1s\n"
     ]
    },
    {
     "name": "stdout",
     "output_type": "stream",
     "text": [
      "5/5 [==============================] - 4s 1s/step - loss: 0.0079 - mae: 0.0699 - val_loss: 0.0098 - val_mae: 0.0778\n",
      "Epoch 252/2000\n",
      "2/5 [===========>..................] - ETA: 0s - loss: 0.0079 - mae: 0.0700"
     ]
    },
    {
     "name": "stderr",
     "output_type": "stream",
     "text": [
      "WARNING:absl:Found untraced functions such as lstm_cell_layer_call_fn, lstm_cell_layer_call_and_return_conditional_losses while saving (showing 2 of 2). These functions will not be directly callable after loading.\n"
     ]
    },
    {
     "name": "stdout",
     "output_type": "stream",
     "text": [
      "INFO:tensorflow:Assets written to: C:\\Users\\PARK\\Documents\\LAB\\RNN vs LSTM\\FInal Example\\wandb\\run-20221016_023555-20c04pun\\files\\model-best\\assets\n"
     ]
    },
    {
     "name": "stderr",
     "output_type": "stream",
     "text": [
      "INFO:tensorflow:Assets written to: C:\\Users\\PARK\\Documents\\LAB\\RNN vs LSTM\\FInal Example\\wandb\\run-20221016_023555-20c04pun\\files\\model-best\\assets\n",
      "\u001b[34m\u001b[1mwandb\u001b[0m: Adding directory to artifact (C:\\Users\\PARK\\Documents\\LAB\\RNN vs LSTM\\FInal Example\\wandb\\run-20221016_023555-20c04pun\\files\\model-best)... Done. 0.1s\n"
     ]
    },
    {
     "name": "stdout",
     "output_type": "stream",
     "text": [
      "5/5 [==============================] - 4s 1s/step - loss: 0.0079 - mae: 0.0705 - val_loss: 0.0094 - val_mae: 0.0767\n",
      "Epoch 253/2000\n",
      "5/5 [==============================] - 0s 87ms/step - loss: 0.0075 - mae: 0.0689 - val_loss: 0.0098 - val_mae: 0.0776\n",
      "Epoch 254/2000\n",
      "5/5 [==============================] - 0s 73ms/step - loss: 0.0078 - mae: 0.0698 - val_loss: 0.0094 - val_mae: 0.0769\n",
      "Epoch 255/2000\n",
      "5/5 [==============================] - 0s 72ms/step - loss: 0.0076 - mae: 0.0694 - val_loss: 0.0095 - val_mae: 0.0773\n",
      "Epoch 256/2000\n",
      "5/5 [==============================] - 0s 73ms/step - loss: 0.0075 - mae: 0.0694 - val_loss: 0.0096 - val_mae: 0.0775\n",
      "Epoch 257/2000\n",
      "5/5 [==============================] - 0s 72ms/step - loss: 0.0076 - mae: 0.0694 - val_loss: 0.0100 - val_mae: 0.0790\n",
      "Epoch 258/2000\n",
      "1/5 [=====>........................] - ETA: 0s - loss: 0.0065 - mae: 0.0632"
     ]
    },
    {
     "name": "stderr",
     "output_type": "stream",
     "text": [
      "WARNING:absl:Found untraced functions such as lstm_cell_layer_call_fn, lstm_cell_layer_call_and_return_conditional_losses while saving (showing 2 of 2). These functions will not be directly callable after loading.\n"
     ]
    },
    {
     "name": "stdout",
     "output_type": "stream",
     "text": [
      "INFO:tensorflow:Assets written to: C:\\Users\\PARK\\Documents\\LAB\\RNN vs LSTM\\FInal Example\\wandb\\run-20221016_023555-20c04pun\\files\\model-best\\assets\n"
     ]
    },
    {
     "name": "stderr",
     "output_type": "stream",
     "text": [
      "INFO:tensorflow:Assets written to: C:\\Users\\PARK\\Documents\\LAB\\RNN vs LSTM\\FInal Example\\wandb\\run-20221016_023555-20c04pun\\files\\model-best\\assets\n",
      "\u001b[34m\u001b[1mwandb\u001b[0m: Adding directory to artifact (C:\\Users\\PARK\\Documents\\LAB\\RNN vs LSTM\\FInal Example\\wandb\\run-20221016_023555-20c04pun\\files\\model-best)... Done. 0.1s\n"
     ]
    },
    {
     "name": "stdout",
     "output_type": "stream",
     "text": [
      "5/5 [==============================] - 4s 991ms/step - loss: 0.0072 - mae: 0.0678 - val_loss: 0.0089 - val_mae: 0.0748\n",
      "Epoch 259/2000\n",
      "4/5 [=======================>......] - ETA: 0s - loss: 0.0069 - mae: 0.0661"
     ]
    },
    {
     "name": "stderr",
     "output_type": "stream",
     "text": [
      "WARNING:absl:Found untraced functions such as lstm_cell_layer_call_fn, lstm_cell_layer_call_and_return_conditional_losses while saving (showing 2 of 2). These functions will not be directly callable after loading.\n"
     ]
    },
    {
     "name": "stdout",
     "output_type": "stream",
     "text": [
      "INFO:tensorflow:Assets written to: C:\\Users\\PARK\\Documents\\LAB\\RNN vs LSTM\\FInal Example\\wandb\\run-20221016_023555-20c04pun\\files\\model-best\\assets\n"
     ]
    },
    {
     "name": "stderr",
     "output_type": "stream",
     "text": [
      "INFO:tensorflow:Assets written to: C:\\Users\\PARK\\Documents\\LAB\\RNN vs LSTM\\FInal Example\\wandb\\run-20221016_023555-20c04pun\\files\\model-best\\assets\n",
      "\u001b[34m\u001b[1mwandb\u001b[0m: Adding directory to artifact (C:\\Users\\PARK\\Documents\\LAB\\RNN vs LSTM\\FInal Example\\wandb\\run-20221016_023555-20c04pun\\files\\model-best)... Done. 0.1s\n"
     ]
    },
    {
     "name": "stdout",
     "output_type": "stream",
     "text": [
      "5/5 [==============================] - 5s 1s/step - loss: 0.0070 - mae: 0.0665 - val_loss: 0.0084 - val_mae: 0.0722\n",
      "Epoch 260/2000\n",
      "5/5 [==============================] - 0s 87ms/step - loss: 0.0070 - mae: 0.0670 - val_loss: 0.0094 - val_mae: 0.0769\n",
      "Epoch 261/2000\n",
      "5/5 [==============================] - 0s 74ms/step - loss: 0.0075 - mae: 0.0696 - val_loss: 0.0099 - val_mae: 0.0786\n",
      "Epoch 262/2000\n",
      "5/5 [==============================] - 0s 73ms/step - loss: 0.0071 - mae: 0.0674 - val_loss: 0.0088 - val_mae: 0.0744\n",
      "Epoch 263/2000\n",
      "1/5 [=====>........................] - ETA: 0s - loss: 0.0070 - mae: 0.0666"
     ]
    },
    {
     "name": "stderr",
     "output_type": "stream",
     "text": [
      "WARNING:absl:Found untraced functions such as lstm_cell_layer_call_fn, lstm_cell_layer_call_and_return_conditional_losses while saving (showing 2 of 2). These functions will not be directly callable after loading.\n"
     ]
    },
    {
     "name": "stdout",
     "output_type": "stream",
     "text": [
      "INFO:tensorflow:Assets written to: C:\\Users\\PARK\\Documents\\LAB\\RNN vs LSTM\\FInal Example\\wandb\\run-20221016_023555-20c04pun\\files\\model-best\\assets\n"
     ]
    },
    {
     "name": "stderr",
     "output_type": "stream",
     "text": [
      "INFO:tensorflow:Assets written to: C:\\Users\\PARK\\Documents\\LAB\\RNN vs LSTM\\FInal Example\\wandb\\run-20221016_023555-20c04pun\\files\\model-best\\assets\n",
      "\u001b[34m\u001b[1mwandb\u001b[0m: Adding directory to artifact (C:\\Users\\PARK\\Documents\\LAB\\RNN vs LSTM\\FInal Example\\wandb\\run-20221016_023555-20c04pun\\files\\model-best)... Done. 0.1s\n"
     ]
    },
    {
     "name": "stdout",
     "output_type": "stream",
     "text": [
      "5/5 [==============================] - 4s 1s/step - loss: 0.0067 - mae: 0.0654 - val_loss: 0.0083 - val_mae: 0.0724\n",
      "Epoch 264/2000\n",
      "4/5 [=======================>......] - ETA: 0s - loss: 0.0066 - mae: 0.0657"
     ]
    },
    {
     "name": "stderr",
     "output_type": "stream",
     "text": [
      "WARNING:absl:Found untraced functions such as lstm_cell_layer_call_fn, lstm_cell_layer_call_and_return_conditional_losses while saving (showing 2 of 2). These functions will not be directly callable after loading.\n"
     ]
    },
    {
     "name": "stdout",
     "output_type": "stream",
     "text": [
      "INFO:tensorflow:Assets written to: C:\\Users\\PARK\\Documents\\LAB\\RNN vs LSTM\\FInal Example\\wandb\\run-20221016_023555-20c04pun\\files\\model-best\\assets\n"
     ]
    },
    {
     "name": "stderr",
     "output_type": "stream",
     "text": [
      "INFO:tensorflow:Assets written to: C:\\Users\\PARK\\Documents\\LAB\\RNN vs LSTM\\FInal Example\\wandb\\run-20221016_023555-20c04pun\\files\\model-best\\assets\n",
      "\u001b[34m\u001b[1mwandb\u001b[0m: Adding directory to artifact (C:\\Users\\PARK\\Documents\\LAB\\RNN vs LSTM\\FInal Example\\wandb\\run-20221016_023555-20c04pun\\files\\model-best)... Done. 0.1s\n"
     ]
    },
    {
     "name": "stdout",
     "output_type": "stream",
     "text": [
      "5/5 [==============================] - 4s 1s/step - loss: 0.0066 - mae: 0.0655 - val_loss: 0.0082 - val_mae: 0.0721\n",
      "Epoch 265/2000\n",
      "2/5 [===========>..................] - ETA: 0s - loss: 0.0065 - mae: 0.0648"
     ]
    },
    {
     "name": "stderr",
     "output_type": "stream",
     "text": [
      "WARNING:absl:Found untraced functions such as lstm_cell_layer_call_fn, lstm_cell_layer_call_and_return_conditional_losses while saving (showing 2 of 2). These functions will not be directly callable after loading.\n"
     ]
    },
    {
     "name": "stdout",
     "output_type": "stream",
     "text": [
      "INFO:tensorflow:Assets written to: C:\\Users\\PARK\\Documents\\LAB\\RNN vs LSTM\\FInal Example\\wandb\\run-20221016_023555-20c04pun\\files\\model-best\\assets\n"
     ]
    },
    {
     "name": "stderr",
     "output_type": "stream",
     "text": [
      "INFO:tensorflow:Assets written to: C:\\Users\\PARK\\Documents\\LAB\\RNN vs LSTM\\FInal Example\\wandb\\run-20221016_023555-20c04pun\\files\\model-best\\assets\n",
      "\u001b[34m\u001b[1mwandb\u001b[0m: Adding directory to artifact (C:\\Users\\PARK\\Documents\\LAB\\RNN vs LSTM\\FInal Example\\wandb\\run-20221016_023555-20c04pun\\files\\model-best)... Done. 0.1s\n"
     ]
    },
    {
     "name": "stdout",
     "output_type": "stream",
     "text": [
      "5/5 [==============================] - 4s 1s/step - loss: 0.0065 - mae: 0.0650 - val_loss: 0.0080 - val_mae: 0.0717\n",
      "Epoch 266/2000\n",
      "5/5 [==============================] - 1s 118ms/step - loss: 0.0064 - mae: 0.0644 - val_loss: 0.0089 - val_mae: 0.0751\n",
      "Epoch 267/2000\n",
      "5/5 [==============================] - 0s 74ms/step - loss: 0.0065 - mae: 0.0652 - val_loss: 0.0087 - val_mae: 0.0744\n",
      "Epoch 268/2000\n",
      "5/5 [==============================] - 0s 80ms/step - loss: 0.0065 - mae: 0.0649 - val_loss: 0.0095 - val_mae: 0.0783\n",
      "Epoch 269/2000\n",
      "1/5 [=====>........................] - ETA: 0s - loss: 0.0072 - mae: 0.0696"
     ]
    },
    {
     "name": "stderr",
     "output_type": "stream",
     "text": [
      "WARNING:absl:Found untraced functions such as lstm_cell_layer_call_fn, lstm_cell_layer_call_and_return_conditional_losses while saving (showing 2 of 2). These functions will not be directly callable after loading.\n"
     ]
    },
    {
     "name": "stdout",
     "output_type": "stream",
     "text": [
      "INFO:tensorflow:Assets written to: C:\\Users\\PARK\\Documents\\LAB\\RNN vs LSTM\\FInal Example\\wandb\\run-20221016_023555-20c04pun\\files\\model-best\\assets\n"
     ]
    },
    {
     "name": "stderr",
     "output_type": "stream",
     "text": [
      "INFO:tensorflow:Assets written to: C:\\Users\\PARK\\Documents\\LAB\\RNN vs LSTM\\FInal Example\\wandb\\run-20221016_023555-20c04pun\\files\\model-best\\assets\n",
      "\u001b[34m\u001b[1mwandb\u001b[0m: Adding directory to artifact (C:\\Users\\PARK\\Documents\\LAB\\RNN vs LSTM\\FInal Example\\wandb\\run-20221016_023555-20c04pun\\files\\model-best)... Done. 0.1s\n"
     ]
    },
    {
     "name": "stdout",
     "output_type": "stream",
     "text": [
      "5/5 [==============================] - 4s 966ms/step - loss: 0.0067 - mae: 0.0666 - val_loss: 0.0080 - val_mae: 0.0718\n",
      "Epoch 270/2000\n",
      "4/5 [=======================>......] - ETA: 0s - loss: 0.0062 - mae: 0.0638"
     ]
    },
    {
     "name": "stderr",
     "output_type": "stream",
     "text": [
      "WARNING:absl:Found untraced functions such as lstm_cell_layer_call_fn, lstm_cell_layer_call_and_return_conditional_losses while saving (showing 2 of 2). These functions will not be directly callable after loading.\n"
     ]
    },
    {
     "name": "stdout",
     "output_type": "stream",
     "text": [
      "INFO:tensorflow:Assets written to: C:\\Users\\PARK\\Documents\\LAB\\RNN vs LSTM\\FInal Example\\wandb\\run-20221016_023555-20c04pun\\files\\model-best\\assets\n"
     ]
    },
    {
     "name": "stderr",
     "output_type": "stream",
     "text": [
      "INFO:tensorflow:Assets written to: C:\\Users\\PARK\\Documents\\LAB\\RNN vs LSTM\\FInal Example\\wandb\\run-20221016_023555-20c04pun\\files\\model-best\\assets\n",
      "\u001b[34m\u001b[1mwandb\u001b[0m: Adding directory to artifact (C:\\Users\\PARK\\Documents\\LAB\\RNN vs LSTM\\FInal Example\\wandb\\run-20221016_023555-20c04pun\\files\\model-best)... Done. 0.1s\n"
     ]
    },
    {
     "name": "stdout",
     "output_type": "stream",
     "text": [
      "5/5 [==============================] - 4s 1s/step - loss: 0.0062 - mae: 0.0638 - val_loss: 0.0079 - val_mae: 0.0713\n",
      "Epoch 271/2000\n",
      "5/5 [==============================] - 1s 97ms/step - loss: 0.0062 - mae: 0.0634 - val_loss: 0.0081 - val_mae: 0.0723\n",
      "Epoch 272/2000\n",
      "5/5 [==============================] - 0s 74ms/step - loss: 0.0060 - mae: 0.0628 - val_loss: 0.0081 - val_mae: 0.0728\n",
      "Epoch 273/2000\n",
      "5/5 [==============================] - 0s 72ms/step - loss: 0.0062 - mae: 0.0635 - val_loss: 0.0080 - val_mae: 0.0716\n",
      "Epoch 274/2000\n",
      "5/5 [==============================] - 0s 72ms/step - loss: 0.0269 - mae: 0.1099 - val_loss: 0.0691 - val_mae: 0.2062\n",
      "Epoch 275/2000\n",
      "5/5 [==============================] - 0s 89ms/step - loss: 0.0616 - mae: 0.1943 - val_loss: 0.0576 - val_mae: 0.1860\n",
      "Epoch 276/2000\n",
      "5/5 [==============================] - 0s 71ms/step - loss: 0.0530 - mae: 0.1787 - val_loss: 0.0519 - val_mae: 0.1757\n",
      "Epoch 277/2000\n",
      "5/5 [==============================] - 0s 72ms/step - loss: 0.0822 - mae: 0.1917 - val_loss: 0.4666 - val_mae: 0.5463\n",
      "Epoch 278/2000\n",
      "5/5 [==============================] - 0s 71ms/step - loss: 0.3715 - mae: 0.4752 - val_loss: 0.2825 - val_mae: 0.4251\n",
      "Epoch 279/2000\n",
      "5/5 [==============================] - 0s 73ms/step - loss: 0.2422 - mae: 0.3999 - val_loss: 0.2437 - val_mae: 0.4008\n",
      "Epoch 280/2000\n",
      "5/5 [==============================] - 0s 72ms/step - loss: 0.2183 - mae: 0.3828 - val_loss: 0.1802 - val_mae: 0.3486\n",
      "Epoch 281/2000\n",
      "5/5 [==============================] - 0s 74ms/step - loss: 0.1786 - mae: 0.3472 - val_loss: 0.1584 - val_mae: 0.3301\n",
      "Epoch 282/2000\n",
      "5/5 [==============================] - 0s 80ms/step - loss: 0.1830 - mae: 0.3490 - val_loss: 0.2219 - val_mae: 0.3852\n",
      "Epoch 283/2000\n",
      "5/5 [==============================] - 0s 73ms/step - loss: 0.1963 - mae: 0.3635 - val_loss: 0.1734 - val_mae: 0.3461\n",
      "Epoch 284/2000\n",
      "5/5 [==============================] - 0s 71ms/step - loss: 0.1709 - mae: 0.3412 - val_loss: 0.1638 - val_mae: 0.3342\n",
      "Epoch 285/2000\n",
      "5/5 [==============================] - 0s 75ms/step - loss: 0.1643 - mae: 0.3339 - val_loss: 0.1514 - val_mae: 0.3248\n",
      "Epoch 286/2000\n",
      "5/5 [==============================] - 0s 70ms/step - loss: 0.1424 - mae: 0.3094 - val_loss: 0.1486 - val_mae: 0.3191\n",
      "Epoch 287/2000\n",
      "5/5 [==============================] - 0s 71ms/step - loss: 0.1393 - mae: 0.3074 - val_loss: 0.1215 - val_mae: 0.2845\n",
      "Epoch 288/2000\n",
      "5/5 [==============================] - 0s 70ms/step - loss: 0.1056 - mae: 0.2643 - val_loss: 0.1273 - val_mae: 0.2947\n",
      "Epoch 289/2000\n",
      "5/5 [==============================] - 0s 72ms/step - loss: 0.1287 - mae: 0.2948 - val_loss: 0.0868 - val_mae: 0.2373\n",
      "Epoch 290/2000\n",
      "5/5 [==============================] - 0s 71ms/step - loss: 0.0873 - mae: 0.2387 - val_loss: 0.0698 - val_mae: 0.2107\n",
      "Epoch 291/2000\n",
      "5/5 [==============================] - 0s 72ms/step - loss: 0.0740 - mae: 0.2134 - val_loss: 0.0619 - val_mae: 0.1904\n",
      "Epoch 292/2000\n",
      "5/5 [==============================] - 0s 72ms/step - loss: 0.0671 - mae: 0.2014 - val_loss: 0.0653 - val_mae: 0.1938\n",
      "Epoch 293/2000\n",
      "5/5 [==============================] - 0s 72ms/step - loss: 0.0624 - mae: 0.1938 - val_loss: 0.0593 - val_mae: 0.1879\n",
      "Epoch 294/2000\n",
      "5/5 [==============================] - 0s 72ms/step - loss: 0.0581 - mae: 0.1847 - val_loss: 0.0566 - val_mae: 0.1841\n",
      "Epoch 295/2000\n",
      "5/5 [==============================] - 0s 76ms/step - loss: 0.0592 - mae: 0.1875 - val_loss: 0.0590 - val_mae: 0.1848\n",
      "Epoch 296/2000\n",
      "5/5 [==============================] - 0s 74ms/step - loss: 0.0580 - mae: 0.1840 - val_loss: 0.0606 - val_mae: 0.1956\n",
      "Epoch 297/2000\n",
      "5/5 [==============================] - 0s 75ms/step - loss: 0.0581 - mae: 0.1855 - val_loss: 0.0661 - val_mae: 0.1960\n",
      "Epoch 298/2000\n",
      "5/5 [==============================] - 0s 76ms/step - loss: 0.0587 - mae: 0.1861 - val_loss: 0.0696 - val_mae: 0.2182\n",
      "Epoch 299/2000\n",
      "5/5 [==============================] - 0s 72ms/step - loss: 0.0671 - mae: 0.2039 - val_loss: 0.0727 - val_mae: 0.2182\n",
      "Epoch 300/2000\n",
      "5/5 [==============================] - 0s 72ms/step - loss: 0.0647 - mae: 0.1993 - val_loss: 0.0616 - val_mae: 0.1986\n",
      "Epoch 301/2000\n",
      "5/5 [==============================] - 0s 71ms/step - loss: 0.0624 - mae: 0.1948 - val_loss: 0.0570 - val_mae: 0.1845\n",
      "Epoch 302/2000\n",
      "5/5 [==============================] - 0s 72ms/step - loss: 0.0600 - mae: 0.1884 - val_loss: 0.0592 - val_mae: 0.1910\n",
      "Epoch 303/2000\n",
      "5/5 [==============================] - 0s 71ms/step - loss: 0.0593 - mae: 0.1879 - val_loss: 0.0556 - val_mae: 0.1817\n",
      "Epoch 304/2000\n",
      "5/5 [==============================] - 0s 72ms/step - loss: 0.0582 - mae: 0.1859 - val_loss: 0.0579 - val_mae: 0.1882\n",
      "Epoch 305/2000\n",
      "5/5 [==============================] - 0s 76ms/step - loss: 0.0598 - mae: 0.1878 - val_loss: 0.0647 - val_mae: 0.2066\n",
      "Epoch 306/2000\n",
      "5/5 [==============================] - 0s 73ms/step - loss: 0.0629 - mae: 0.1944 - val_loss: 0.0576 - val_mae: 0.1872\n",
      "Epoch 307/2000\n",
      "5/5 [==============================] - 0s 72ms/step - loss: 0.0581 - mae: 0.1848 - val_loss: 0.0599 - val_mae: 0.1929\n",
      "Epoch 308/2000\n",
      "5/5 [==============================] - 0s 75ms/step - loss: 0.0576 - mae: 0.1837 - val_loss: 0.0565 - val_mae: 0.1866\n",
      "Epoch 309/2000\n",
      "5/5 [==============================] - 0s 72ms/step - loss: 0.0575 - mae: 0.1857 - val_loss: 0.0557 - val_mae: 0.1835\n",
      "Epoch 310/2000\n",
      "5/5 [==============================] - 0s 73ms/step - loss: 0.0555 - mae: 0.1802 - val_loss: 0.0567 - val_mae: 0.1861\n",
      "Epoch 311/2000\n",
      "5/5 [==============================] - 0s 74ms/step - loss: 0.0553 - mae: 0.1801 - val_loss: 0.0541 - val_mae: 0.1788\n",
      "Epoch 312/2000\n",
      "5/5 [==============================] - 0s 72ms/step - loss: 0.0554 - mae: 0.1812 - val_loss: 0.0541 - val_mae: 0.1775\n",
      "Epoch 313/2000\n",
      "5/5 [==============================] - 0s 71ms/step - loss: 0.0529 - mae: 0.1758 - val_loss: 0.0536 - val_mae: 0.1771\n",
      "Epoch 314/2000\n",
      "5/5 [==============================] - 0s 71ms/step - loss: 0.0532 - mae: 0.1759 - val_loss: 0.0533 - val_mae: 0.1762\n",
      "Epoch 315/2000\n",
      "5/5 [==============================] - 0s 74ms/step - loss: 0.0527 - mae: 0.1750 - val_loss: 0.0535 - val_mae: 0.1765\n",
      "Epoch 316/2000\n",
      "5/5 [==============================] - 0s 71ms/step - loss: 0.0529 - mae: 0.1762 - val_loss: 0.0564 - val_mae: 0.1781\n",
      "Epoch 317/2000\n",
      "5/5 [==============================] - 0s 71ms/step - loss: 0.0531 - mae: 0.1758 - val_loss: 0.0534 - val_mae: 0.1759\n",
      "Epoch 318/2000\n",
      "5/5 [==============================] - 0s 75ms/step - loss: 0.0527 - mae: 0.1756 - val_loss: 0.0556 - val_mae: 0.1859\n",
      "Epoch 319/2000\n",
      "5/5 [==============================] - 0s 73ms/step - loss: 0.0549 - mae: 0.1814 - val_loss: 0.0540 - val_mae: 0.1806\n",
      "Epoch 320/2000\n",
      "5/5 [==============================] - 0s 71ms/step - loss: 0.0530 - mae: 0.1757 - val_loss: 0.0531 - val_mae: 0.1758\n",
      "Epoch 321/2000\n",
      "5/5 [==============================] - 0s 75ms/step - loss: 0.0515 - mae: 0.1733 - val_loss: 0.0530 - val_mae: 0.1769\n",
      "Epoch 322/2000\n",
      "5/5 [==============================] - 0s 71ms/step - loss: 0.0529 - mae: 0.1764 - val_loss: 0.0538 - val_mae: 0.1806\n",
      "Epoch 323/2000\n",
      "5/5 [==============================] - 0s 70ms/step - loss: 0.0528 - mae: 0.1754 - val_loss: 0.0537 - val_mae: 0.1774\n",
      "Epoch 324/2000\n",
      "5/5 [==============================] - 0s 70ms/step - loss: 0.0541 - mae: 0.1777 - val_loss: 0.0525 - val_mae: 0.1764\n",
      "Epoch 325/2000\n",
      "5/5 [==============================] - 0s 73ms/step - loss: 0.0545 - mae: 0.1787 - val_loss: 0.0564 - val_mae: 0.1853\n",
      "Epoch 326/2000\n",
      "5/5 [==============================] - 0s 72ms/step - loss: 0.0567 - mae: 0.1853 - val_loss: 0.0565 - val_mae: 0.1872\n",
      "Epoch 327/2000\n",
      "5/5 [==============================] - 0s 71ms/step - loss: 0.0554 - mae: 0.1807 - val_loss: 0.0593 - val_mae: 0.1938\n",
      "Epoch 328/2000\n",
      "5/5 [==============================] - 0s 72ms/step - loss: 0.0543 - mae: 0.1797 - val_loss: 0.0519 - val_mae: 0.1756\n",
      "Epoch 329/2000\n",
      "5/5 [==============================] - 0s 72ms/step - loss: 0.0524 - mae: 0.1751 - val_loss: 0.0573 - val_mae: 0.1909\n",
      "Epoch 330/2000\n",
      "5/5 [==============================] - 0s 71ms/step - loss: 0.0555 - mae: 0.1817 - val_loss: 0.0536 - val_mae: 0.1782\n",
      "Epoch 331/2000\n",
      "5/5 [==============================] - 0s 73ms/step - loss: 0.0518 - mae: 0.1747 - val_loss: 0.0521 - val_mae: 0.1723\n"
     ]
    },
    {
     "name": "stdout",
     "output_type": "stream",
     "text": [
      "Epoch 332/2000\n",
      "5/5 [==============================] - 0s 72ms/step - loss: 0.0500 - mae: 0.1713 - val_loss: 0.0520 - val_mae: 0.1719\n",
      "Epoch 333/2000\n",
      "5/5 [==============================] - 0s 74ms/step - loss: 0.0502 - mae: 0.1708 - val_loss: 0.0531 - val_mae: 0.1729\n",
      "Epoch 334/2000\n",
      "5/5 [==============================] - 0s 74ms/step - loss: 0.0489 - mae: 0.1690 - val_loss: 0.0511 - val_mae: 0.1708\n",
      "Epoch 335/2000\n",
      "5/5 [==============================] - 0s 73ms/step - loss: 0.0486 - mae: 0.1669 - val_loss: 0.0513 - val_mae: 0.1708\n",
      "Epoch 336/2000\n",
      "5/5 [==============================] - 0s 71ms/step - loss: 0.0481 - mae: 0.1672 - val_loss: 0.0541 - val_mae: 0.1740\n",
      "Epoch 337/2000\n",
      "5/5 [==============================] - 0s 71ms/step - loss: 0.0483 - mae: 0.1668 - val_loss: 0.0511 - val_mae: 0.1699\n",
      "Epoch 338/2000\n",
      "5/5 [==============================] - 0s 75ms/step - loss: 0.0476 - mae: 0.1653 - val_loss: 0.0510 - val_mae: 0.1713\n",
      "Epoch 339/2000\n",
      "5/5 [==============================] - 0s 73ms/step - loss: 0.0475 - mae: 0.1652 - val_loss: 0.0508 - val_mae: 0.1703\n",
      "Epoch 340/2000\n",
      "5/5 [==============================] - 0s 72ms/step - loss: 0.0476 - mae: 0.1664 - val_loss: 0.0516 - val_mae: 0.1705\n",
      "Epoch 341/2000\n",
      "5/5 [==============================] - 0s 76ms/step - loss: 0.0469 - mae: 0.1647 - val_loss: 0.0516 - val_mae: 0.1707\n",
      "Epoch 342/2000\n",
      "5/5 [==============================] - 0s 73ms/step - loss: 0.0462 - mae: 0.1638 - val_loss: 0.0511 - val_mae: 0.1711\n",
      "Epoch 343/2000\n",
      "5/5 [==============================] - 0s 72ms/step - loss: 0.0463 - mae: 0.1628 - val_loss: 0.0531 - val_mae: 0.1720\n",
      "Epoch 344/2000\n",
      "5/5 [==============================] - 0s 72ms/step - loss: 0.0463 - mae: 0.1634 - val_loss: 0.0504 - val_mae: 0.1712\n",
      "Epoch 345/2000\n",
      "5/5 [==============================] - 0s 72ms/step - loss: 0.0457 - mae: 0.1628 - val_loss: 0.0497 - val_mae: 0.1700\n",
      "Epoch 346/2000\n",
      "5/5 [==============================] - 0s 73ms/step - loss: 0.0449 - mae: 0.1612 - val_loss: 0.0484 - val_mae: 0.1699\n",
      "Epoch 347/2000\n",
      "5/5 [==============================] - 0s 72ms/step - loss: 0.0445 - mae: 0.1605 - val_loss: 0.0499 - val_mae: 0.1732\n",
      "Epoch 348/2000\n",
      "5/5 [==============================] - 0s 75ms/step - loss: 0.0461 - mae: 0.1629 - val_loss: 0.0542 - val_mae: 0.1861\n",
      "Epoch 349/2000\n",
      "5/5 [==============================] - 0s 72ms/step - loss: 0.0462 - mae: 0.1647 - val_loss: 0.0509 - val_mae: 0.1782\n",
      "Epoch 350/2000\n",
      "5/5 [==============================] - 0s 72ms/step - loss: 0.0458 - mae: 0.1650 - val_loss: 0.0487 - val_mae: 0.1689\n",
      "Epoch 351/2000\n",
      "5/5 [==============================] - 0s 75ms/step - loss: 0.0430 - mae: 0.1581 - val_loss: 0.0502 - val_mae: 0.1680\n",
      "Epoch 352/2000\n",
      "5/5 [==============================] - 0s 73ms/step - loss: 0.0432 - mae: 0.1576 - val_loss: 0.0464 - val_mae: 0.1631\n",
      "Epoch 353/2000\n",
      "5/5 [==============================] - 0s 73ms/step - loss: 0.0426 - mae: 0.1558 - val_loss: 0.0476 - val_mae: 0.1664\n",
      "Epoch 354/2000\n",
      "5/5 [==============================] - 0s 75ms/step - loss: 0.0420 - mae: 0.1554 - val_loss: 0.0491 - val_mae: 0.1686\n",
      "Epoch 355/2000\n",
      "5/5 [==============================] - 0s 73ms/step - loss: 0.0412 - mae: 0.1544 - val_loss: 0.0466 - val_mae: 0.1668\n",
      "Epoch 356/2000\n",
      "5/5 [==============================] - 0s 73ms/step - loss: 0.0410 - mae: 0.1539 - val_loss: 0.0472 - val_mae: 0.1667\n",
      "Epoch 357/2000\n",
      "5/5 [==============================] - 0s 72ms/step - loss: 0.0407 - mae: 0.1529 - val_loss: 0.0455 - val_mae: 0.1647\n",
      "Epoch 358/2000\n",
      "5/5 [==============================] - 0s 72ms/step - loss: 0.0392 - mae: 0.1497 - val_loss: 0.0453 - val_mae: 0.1641\n",
      "Epoch 359/2000\n",
      "5/5 [==============================] - 0s 72ms/step - loss: 0.0389 - mae: 0.1494 - val_loss: 0.0449 - val_mae: 0.1656\n",
      "Epoch 360/2000\n",
      "5/5 [==============================] - 0s 72ms/step - loss: 0.0390 - mae: 0.1501 - val_loss: 0.0467 - val_mae: 0.1633\n",
      "Epoch 361/2000\n",
      "5/5 [==============================] - 0s 76ms/step - loss: 0.0389 - mae: 0.1503 - val_loss: 0.0523 - val_mae: 0.1716\n",
      "Epoch 362/2000\n",
      "5/5 [==============================] - 0s 70ms/step - loss: 0.0434 - mae: 0.1599 - val_loss: 0.0505 - val_mae: 0.1702\n",
      "Epoch 363/2000\n",
      "5/5 [==============================] - 0s 71ms/step - loss: 0.0416 - mae: 0.1558 - val_loss: 0.0477 - val_mae: 0.1672\n",
      "Epoch 364/2000\n",
      "5/5 [==============================] - 0s 73ms/step - loss: 0.0397 - mae: 0.1522 - val_loss: 0.0438 - val_mae: 0.1599\n",
      "Epoch 365/2000\n",
      "5/5 [==============================] - 0s 73ms/step - loss: 0.0368 - mae: 0.1455 - val_loss: 0.0424 - val_mae: 0.1628\n",
      "Epoch 366/2000\n",
      "5/5 [==============================] - 0s 72ms/step - loss: 0.0372 - mae: 0.1463 - val_loss: 0.0428 - val_mae: 0.1623\n",
      "Epoch 367/2000\n",
      "5/5 [==============================] - 0s 71ms/step - loss: 0.0369 - mae: 0.1461 - val_loss: 0.0422 - val_mae: 0.1600\n",
      "Epoch 368/2000\n",
      "5/5 [==============================] - 0s 71ms/step - loss: 0.0367 - mae: 0.1456 - val_loss: 0.0418 - val_mae: 0.1611\n",
      "Epoch 369/2000\n",
      "5/5 [==============================] - 0s 72ms/step - loss: 0.0377 - mae: 0.1496 - val_loss: 0.0420 - val_mae: 0.1598\n",
      "Epoch 370/2000\n",
      "5/5 [==============================] - 0s 75ms/step - loss: 0.0365 - mae: 0.1456 - val_loss: 0.0409 - val_mae: 0.1565\n",
      "Epoch 371/2000\n",
      "5/5 [==============================] - 0s 74ms/step - loss: 0.0357 - mae: 0.1448 - val_loss: 0.0409 - val_mae: 0.1567\n",
      "Epoch 372/2000\n",
      "5/5 [==============================] - 0s 73ms/step - loss: 0.0349 - mae: 0.1426 - val_loss: 0.0406 - val_mae: 0.1553\n",
      "Epoch 373/2000\n",
      "5/5 [==============================] - 0s 73ms/step - loss: 0.0344 - mae: 0.1412 - val_loss: 0.0398 - val_mae: 0.1549\n",
      "Epoch 374/2000\n",
      "5/5 [==============================] - 0s 75ms/step - loss: 0.0344 - mae: 0.1414 - val_loss: 0.0393 - val_mae: 0.1555\n",
      "Epoch 375/2000\n",
      "5/5 [==============================] - 0s 72ms/step - loss: 0.0348 - mae: 0.1427 - val_loss: 0.0396 - val_mae: 0.1540\n",
      "Epoch 376/2000\n",
      "5/5 [==============================] - 0s 73ms/step - loss: 0.0335 - mae: 0.1396 - val_loss: 0.0390 - val_mae: 0.1535\n",
      "Epoch 377/2000\n",
      "5/5 [==============================] - 0s 76ms/step - loss: 0.0342 - mae: 0.1411 - val_loss: 0.0383 - val_mae: 0.1525\n",
      "Epoch 378/2000\n",
      "5/5 [==============================] - 0s 70ms/step - loss: 0.0334 - mae: 0.1394 - val_loss: 0.0397 - val_mae: 0.1554\n",
      "Epoch 379/2000\n",
      "5/5 [==============================] - 0s 71ms/step - loss: 0.0332 - mae: 0.1392 - val_loss: 0.0385 - val_mae: 0.1535\n",
      "Epoch 380/2000\n",
      "5/5 [==============================] - 0s 72ms/step - loss: 0.0334 - mae: 0.1400 - val_loss: 0.0391 - val_mae: 0.1499\n",
      "Epoch 381/2000\n",
      "5/5 [==============================] - 0s 74ms/step - loss: 0.0338 - mae: 0.1389 - val_loss: 0.0405 - val_mae: 0.1541\n",
      "Epoch 382/2000\n",
      "5/5 [==============================] - 0s 71ms/step - loss: 0.0336 - mae: 0.1408 - val_loss: 0.0413 - val_mae: 0.1551\n",
      "Epoch 383/2000\n",
      "5/5 [==============================] - 0s 70ms/step - loss: 0.0338 - mae: 0.1411 - val_loss: 0.0383 - val_mae: 0.1511\n",
      "Epoch 384/2000\n",
      "5/5 [==============================] - 0s 74ms/step - loss: 0.0331 - mae: 0.1398 - val_loss: 0.0380 - val_mae: 0.1488\n",
      "Epoch 385/2000\n",
      "5/5 [==============================] - 0s 70ms/step - loss: 0.0332 - mae: 0.1382 - val_loss: 0.0372 - val_mae: 0.1494\n",
      "Epoch 386/2000\n",
      "5/5 [==============================] - 0s 70ms/step - loss: 0.0321 - mae: 0.1377 - val_loss: 0.0387 - val_mae: 0.1502\n",
      "Epoch 387/2000\n",
      "5/5 [==============================] - 0s 75ms/step - loss: 0.0322 - mae: 0.1373 - val_loss: 0.0364 - val_mae: 0.1479\n",
      "Epoch 388/2000\n",
      "5/5 [==============================] - 0s 72ms/step - loss: 0.0315 - mae: 0.1355 - val_loss: 0.0360 - val_mae: 0.1483\n",
      "Epoch 389/2000\n",
      "5/5 [==============================] - 0s 71ms/step - loss: 0.0315 - mae: 0.1352 - val_loss: 0.0360 - val_mae: 0.1492\n",
      "Epoch 390/2000\n",
      "5/5 [==============================] - 0s 74ms/step - loss: 0.0321 - mae: 0.1377 - val_loss: 0.0373 - val_mae: 0.1523\n",
      "Epoch 391/2000\n",
      "5/5 [==============================] - 0s 70ms/step - loss: 0.0327 - mae: 0.1379 - val_loss: 0.0359 - val_mae: 0.1495\n",
      "Epoch 392/2000\n",
      "5/5 [==============================] - 0s 70ms/step - loss: 0.0320 - mae: 0.1373 - val_loss: 0.0360 - val_mae: 0.1479\n",
      "Epoch 393/2000\n"
     ]
    },
    {
     "name": "stdout",
     "output_type": "stream",
     "text": [
      "5/5 [==============================] - 0s 71ms/step - loss: 0.0317 - mae: 0.1367 - val_loss: 0.0360 - val_mae: 0.1499\n",
      "Epoch 394/2000\n",
      "5/5 [==============================] - 0s 74ms/step - loss: 0.0315 - mae: 0.1380 - val_loss: 0.0352 - val_mae: 0.1450\n",
      "Epoch 395/2000\n",
      "5/5 [==============================] - 0s 72ms/step - loss: 0.0308 - mae: 0.1335 - val_loss: 0.0347 - val_mae: 0.1455\n",
      "Epoch 396/2000\n",
      "5/5 [==============================] - 0s 73ms/step - loss: 0.0305 - mae: 0.1340 - val_loss: 0.0362 - val_mae: 0.1474\n",
      "Epoch 397/2000\n",
      "5/5 [==============================] - 0s 76ms/step - loss: 0.0306 - mae: 0.1337 - val_loss: 0.0341 - val_mae: 0.1455\n",
      "Epoch 398/2000\n",
      "5/5 [==============================] - 0s 71ms/step - loss: 0.0304 - mae: 0.1343 - val_loss: 0.0350 - val_mae: 0.1468\n",
      "Epoch 399/2000\n",
      "5/5 [==============================] - 0s 71ms/step - loss: 0.0303 - mae: 0.1332 - val_loss: 0.0350 - val_mae: 0.1442\n",
      "Epoch 400/2000\n",
      "5/5 [==============================] - 0s 75ms/step - loss: 0.0296 - mae: 0.1325 - val_loss: 0.0338 - val_mae: 0.1412\n",
      "Epoch 401/2000\n",
      "5/5 [==============================] - 0s 71ms/step - loss: 0.0289 - mae: 0.1300 - val_loss: 0.0330 - val_mae: 0.1389\n",
      "Epoch 402/2000\n",
      "5/5 [==============================] - 0s 71ms/step - loss: 0.0283 - mae: 0.1288 - val_loss: 0.0323 - val_mae: 0.1405\n",
      "Epoch 403/2000\n",
      "5/5 [==============================] - 0s 70ms/step - loss: 0.0280 - mae: 0.1284 - val_loss: 0.0324 - val_mae: 0.1379\n",
      "Epoch 404/2000\n",
      "5/5 [==============================] - 0s 71ms/step - loss: 0.0277 - mae: 0.1270 - val_loss: 0.0319 - val_mae: 0.1392\n",
      "Epoch 405/2000\n",
      "5/5 [==============================] - 0s 71ms/step - loss: 0.0285 - mae: 0.1298 - val_loss: 0.0308 - val_mae: 0.1374\n",
      "Epoch 406/2000\n",
      "5/5 [==============================] - 0s 70ms/step - loss: 0.0281 - mae: 0.1285 - val_loss: 0.0328 - val_mae: 0.1375\n",
      "Epoch 407/2000\n",
      "5/5 [==============================] - 0s 75ms/step - loss: 0.0278 - mae: 0.1269 - val_loss: 0.0316 - val_mae: 0.1401\n",
      "Epoch 408/2000\n",
      "5/5 [==============================] - 0s 72ms/step - loss: 0.0279 - mae: 0.1285 - val_loss: 0.0337 - val_mae: 0.1427\n",
      "Epoch 409/2000\n",
      "5/5 [==============================] - 0s 73ms/step - loss: 0.0268 - mae: 0.1250 - val_loss: 0.0301 - val_mae: 0.1375\n",
      "Epoch 410/2000\n",
      "5/5 [==============================] - 0s 75ms/step - loss: 0.0256 - mae: 0.1227 - val_loss: 0.0284 - val_mae: 0.1307\n",
      "Epoch 411/2000\n",
      "5/5 [==============================] - 0s 70ms/step - loss: 0.0242 - mae: 0.1190 - val_loss: 0.0282 - val_mae: 0.1314\n",
      "Epoch 412/2000\n",
      "5/5 [==============================] - 0s 71ms/step - loss: 0.0239 - mae: 0.1179 - val_loss: 0.0275 - val_mae: 0.1273\n",
      "Epoch 413/2000\n",
      "5/5 [==============================] - 0s 73ms/step - loss: 0.0232 - mae: 0.1169 - val_loss: 0.0266 - val_mae: 0.1264\n",
      "Epoch 414/2000\n",
      "5/5 [==============================] - 0s 72ms/step - loss: 0.0218 - mae: 0.1126 - val_loss: 0.0238 - val_mae: 0.1208\n",
      "Epoch 415/2000\n",
      "5/5 [==============================] - 0s 71ms/step - loss: 0.0207 - mae: 0.1109 - val_loss: 0.0233 - val_mae: 0.1206\n",
      "Epoch 416/2000\n",
      "5/5 [==============================] - 0s 72ms/step - loss: 0.0201 - mae: 0.1093 - val_loss: 0.0236 - val_mae: 0.1204\n",
      "Epoch 417/2000\n",
      "5/5 [==============================] - 0s 74ms/step - loss: 0.0195 - mae: 0.1074 - val_loss: 0.0242 - val_mae: 0.1237\n",
      "Epoch 418/2000\n",
      "5/5 [==============================] - 0s 70ms/step - loss: 0.0200 - mae: 0.1099 - val_loss: 0.0243 - val_mae: 0.1243\n",
      "Epoch 419/2000\n",
      "5/5 [==============================] - 0s 70ms/step - loss: 0.0194 - mae: 0.1081 - val_loss: 0.0203 - val_mae: 0.1120\n",
      "Epoch 420/2000\n",
      "5/5 [==============================] - 0s 76ms/step - loss: 0.0187 - mae: 0.1059 - val_loss: 0.0225 - val_mae: 0.1183\n",
      "Epoch 421/2000\n",
      "5/5 [==============================] - 0s 72ms/step - loss: 0.0187 - mae: 0.1067 - val_loss: 0.0225 - val_mae: 0.1161\n",
      "Epoch 422/2000\n",
      "5/5 [==============================] - 0s 71ms/step - loss: 0.0184 - mae: 0.1049 - val_loss: 0.0231 - val_mae: 0.1203\n",
      "Epoch 423/2000\n",
      "5/5 [==============================] - 0s 73ms/step - loss: 0.0178 - mae: 0.1040 - val_loss: 0.0211 - val_mae: 0.1132\n",
      "Epoch 424/2000\n",
      "5/5 [==============================] - 0s 70ms/step - loss: 0.0173 - mae: 0.1028 - val_loss: 0.0222 - val_mae: 0.1170\n",
      "Epoch 425/2000\n",
      "5/5 [==============================] - 0s 71ms/step - loss: 0.0174 - mae: 0.1034 - val_loss: 0.0197 - val_mae: 0.1112\n",
      "Epoch 426/2000\n",
      "5/5 [==============================] - 0s 72ms/step - loss: 0.0168 - mae: 0.1014 - val_loss: 0.0196 - val_mae: 0.1095\n",
      "Epoch 427/2000\n",
      "5/5 [==============================] - 0s 75ms/step - loss: 0.0161 - mae: 0.0998 - val_loss: 0.0179 - val_mae: 0.1072\n",
      "Epoch 428/2000\n",
      "5/5 [==============================] - 0s 71ms/step - loss: 0.0153 - mae: 0.0972 - val_loss: 0.0170 - val_mae: 0.1024\n",
      "Epoch 429/2000\n",
      "5/5 [==============================] - 0s 71ms/step - loss: 0.0149 - mae: 0.0959 - val_loss: 0.0166 - val_mae: 0.1025\n",
      "Epoch 430/2000\n",
      "5/5 [==============================] - 0s 76ms/step - loss: 0.0144 - mae: 0.0950 - val_loss: 0.0162 - val_mae: 0.1017\n",
      "Epoch 431/2000\n",
      "5/5 [==============================] - 0s 72ms/step - loss: 0.0135 - mae: 0.0916 - val_loss: 0.0160 - val_mae: 0.1001\n",
      "Epoch 432/2000\n",
      "5/5 [==============================] - 0s 72ms/step - loss: 0.0133 - mae: 0.0909 - val_loss: 0.0152 - val_mae: 0.0983\n",
      "Epoch 433/2000\n",
      "5/5 [==============================] - 0s 74ms/step - loss: 0.0127 - mae: 0.0891 - val_loss: 0.0148 - val_mae: 0.0971\n",
      "Epoch 434/2000\n",
      "5/5 [==============================] - 0s 71ms/step - loss: 0.0126 - mae: 0.0891 - val_loss: 0.0144 - val_mae: 0.0958\n",
      "Epoch 435/2000\n",
      "5/5 [==============================] - 0s 71ms/step - loss: 0.0122 - mae: 0.0872 - val_loss: 0.0144 - val_mae: 0.0959\n",
      "Epoch 436/2000\n",
      "5/5 [==============================] - 0s 72ms/step - loss: 0.0121 - mae: 0.0875 - val_loss: 0.0144 - val_mae: 0.0944\n",
      "Epoch 437/2000\n",
      "5/5 [==============================] - 0s 74ms/step - loss: 0.0123 - mae: 0.0877 - val_loss: 0.0139 - val_mae: 0.0940\n",
      "Epoch 438/2000\n",
      "5/5 [==============================] - 0s 72ms/step - loss: 0.0116 - mae: 0.0859 - val_loss: 0.0143 - val_mae: 0.0961\n",
      "Epoch 439/2000\n",
      "5/5 [==============================] - 0s 70ms/step - loss: 0.0118 - mae: 0.0864 - val_loss: 0.0130 - val_mae: 0.0905\n",
      "Epoch 440/2000\n",
      "5/5 [==============================] - 0s 72ms/step - loss: 0.0113 - mae: 0.0849 - val_loss: 0.0130 - val_mae: 0.0906\n",
      "Epoch 441/2000\n",
      "5/5 [==============================] - 0s 73ms/step - loss: 0.0108 - mae: 0.0829 - val_loss: 0.0125 - val_mae: 0.0886\n",
      "Epoch 442/2000\n",
      "5/5 [==============================] - 0s 72ms/step - loss: 0.0106 - mae: 0.0819 - val_loss: 0.0124 - val_mae: 0.0881\n",
      "Epoch 443/2000\n",
      "5/5 [==============================] - 0s 75ms/step - loss: 0.0105 - mae: 0.0817 - val_loss: 0.0127 - val_mae: 0.0885\n",
      "Epoch 444/2000\n",
      "5/5 [==============================] - 0s 71ms/step - loss: 0.0104 - mae: 0.0816 - val_loss: 0.0119 - val_mae: 0.0872\n",
      "Epoch 445/2000\n",
      "5/5 [==============================] - 0s 72ms/step - loss: 0.0099 - mae: 0.0793 - val_loss: 0.0120 - val_mae: 0.0874\n",
      "Epoch 446/2000\n",
      "5/5 [==============================] - 0s 72ms/step - loss: 0.0094 - mae: 0.0776 - val_loss: 0.0119 - val_mae: 0.0874\n",
      "Epoch 447/2000\n",
      "5/5 [==============================] - 0s 71ms/step - loss: 0.0094 - mae: 0.0775 - val_loss: 0.0111 - val_mae: 0.0836\n",
      "Epoch 448/2000\n",
      "5/5 [==============================] - 0s 71ms/step - loss: 0.0090 - mae: 0.0758 - val_loss: 0.0112 - val_mae: 0.0851\n",
      "Epoch 449/2000\n",
      "5/5 [==============================] - 0s 74ms/step - loss: 0.0090 - mae: 0.0754 - val_loss: 0.0110 - val_mae: 0.0826\n",
      "Epoch 450/2000\n",
      "5/5 [==============================] - 0s 74ms/step - loss: 0.0091 - mae: 0.0765 - val_loss: 0.0109 - val_mae: 0.0827\n",
      "Epoch 451/2000\n",
      "5/5 [==============================] - 0s 71ms/step - loss: 0.0086 - mae: 0.0743 - val_loss: 0.0103 - val_mae: 0.0799\n",
      "Epoch 452/2000\n",
      "5/5 [==============================] - 0s 72ms/step - loss: 0.0086 - mae: 0.0738 - val_loss: 0.0106 - val_mae: 0.0821\n",
      "Epoch 453/2000\n",
      "5/5 [==============================] - 0s 74ms/step - loss: 0.0088 - mae: 0.0750 - val_loss: 0.0109 - val_mae: 0.0818\n",
      "Epoch 454/2000\n",
      "5/5 [==============================] - 0s 70ms/step - loss: 0.0090 - mae: 0.0758 - val_loss: 0.0110 - val_mae: 0.0819\n"
     ]
    },
    {
     "name": "stdout",
     "output_type": "stream",
     "text": [
      "Epoch 455/2000\n",
      "5/5 [==============================] - 0s 71ms/step - loss: 0.0085 - mae: 0.0736 - val_loss: 0.0100 - val_mae: 0.0794\n",
      "Epoch 456/2000\n",
      "5/5 [==============================] - 0s 70ms/step - loss: 0.0081 - mae: 0.0718 - val_loss: 0.0100 - val_mae: 0.0792\n",
      "Epoch 457/2000\n",
      "5/5 [==============================] - 0s 73ms/step - loss: 0.0081 - mae: 0.0728 - val_loss: 0.0101 - val_mae: 0.0788\n",
      "Epoch 458/2000\n",
      "5/5 [==============================] - 0s 71ms/step - loss: 0.0079 - mae: 0.0705 - val_loss: 0.0098 - val_mae: 0.0786\n",
      "Epoch 459/2000\n",
      "5/5 [==============================] - 0s 71ms/step - loss: 0.0076 - mae: 0.0699 - val_loss: 0.0093 - val_mae: 0.0774\n",
      "Epoch 460/2000\n",
      "5/5 [==============================] - 0s 75ms/step - loss: 0.0075 - mae: 0.0699 - val_loss: 0.0090 - val_mae: 0.0752\n",
      "Epoch 461/2000\n",
      "5/5 [==============================] - 0s 72ms/step - loss: 0.0075 - mae: 0.0690 - val_loss: 0.0092 - val_mae: 0.0764\n",
      "Epoch 462/2000\n",
      "5/5 [==============================] - 0s 71ms/step - loss: 0.0070 - mae: 0.0672 - val_loss: 0.0089 - val_mae: 0.0750\n",
      "Epoch 463/2000\n",
      "5/5 [==============================] - 0s 75ms/step - loss: 0.0069 - mae: 0.0668 - val_loss: 0.0086 - val_mae: 0.0739\n",
      "Epoch 464/2000\n",
      "5/5 [==============================] - 0s 70ms/step - loss: 0.0066 - mae: 0.0649 - val_loss: 0.0086 - val_mae: 0.0730\n",
      "Epoch 465/2000\n",
      "5/5 [==============================] - 0s 70ms/step - loss: 0.0068 - mae: 0.0656 - val_loss: 0.0102 - val_mae: 0.0814\n",
      "Epoch 466/2000\n",
      "5/5 [==============================] - 0s 71ms/step - loss: 0.0081 - mae: 0.0718 - val_loss: 0.0097 - val_mae: 0.0773\n",
      "Epoch 467/2000\n",
      "5/5 [==============================] - 0s 74ms/step - loss: 0.0068 - mae: 0.0663 - val_loss: 0.0100 - val_mae: 0.0809\n",
      "Epoch 468/2000\n",
      "5/5 [==============================] - 0s 72ms/step - loss: 0.0076 - mae: 0.0695 - val_loss: 0.0097 - val_mae: 0.0773\n",
      "Epoch 469/2000\n",
      "5/5 [==============================] - 0s 71ms/step - loss: 0.0071 - mae: 0.0672 - val_loss: 0.0081 - val_mae: 0.0723\n",
      "Epoch 470/2000\n",
      "5/5 [==============================] - 0s 75ms/step - loss: 0.0065 - mae: 0.0653 - val_loss: 0.0091 - val_mae: 0.0751\n",
      "Epoch 471/2000\n",
      "5/5 [==============================] - 0s 72ms/step - loss: 0.0069 - mae: 0.0664 - val_loss: 0.0083 - val_mae: 0.0723\n",
      "Epoch 472/2000\n",
      "1/5 [=====>........................] - ETA: 0s - loss: 0.0066 - mae: 0.0658"
     ]
    },
    {
     "name": "stderr",
     "output_type": "stream",
     "text": [
      "WARNING:absl:Found untraced functions such as lstm_cell_layer_call_fn, lstm_cell_layer_call_and_return_conditional_losses while saving (showing 2 of 2). These functions will not be directly callable after loading.\n"
     ]
    },
    {
     "name": "stdout",
     "output_type": "stream",
     "text": [
      "INFO:tensorflow:Assets written to: C:\\Users\\PARK\\Documents\\LAB\\RNN vs LSTM\\FInal Example\\wandb\\run-20221016_023555-20c04pun\\files\\model-best\\assets\n"
     ]
    },
    {
     "name": "stderr",
     "output_type": "stream",
     "text": [
      "INFO:tensorflow:Assets written to: C:\\Users\\PARK\\Documents\\LAB\\RNN vs LSTM\\FInal Example\\wandb\\run-20221016_023555-20c04pun\\files\\model-best\\assets\n",
      "\u001b[34m\u001b[1mwandb\u001b[0m: Adding directory to artifact (C:\\Users\\PARK\\Documents\\LAB\\RNN vs LSTM\\FInal Example\\wandb\\run-20221016_023555-20c04pun\\files\\model-best)... Done. 0.1s\n"
     ]
    },
    {
     "name": "stdout",
     "output_type": "stream",
     "text": [
      "5/5 [==============================] - 4s 1s/step - loss: 0.0062 - mae: 0.0632 - val_loss: 0.0078 - val_mae: 0.0708\n",
      "Epoch 473/2000\n",
      "5/5 [==============================] - 1s 133ms/step - loss: 0.0062 - mae: 0.0633 - val_loss: 0.0087 - val_mae: 0.0742\n",
      "Epoch 474/2000\n",
      "5/5 [==============================] - 0s 93ms/step - loss: 0.0063 - mae: 0.0635 - val_loss: 0.0079 - val_mae: 0.0710\n",
      "Epoch 475/2000\n",
      "5/5 [==============================] - 0s 82ms/step - loss: 0.0064 - mae: 0.0643 - val_loss: 0.0081 - val_mae: 0.0713\n",
      "Epoch 476/2000\n",
      "5/5 [==============================] - 0s 77ms/step - loss: 0.0060 - mae: 0.0621 - val_loss: 0.0079 - val_mae: 0.0705\n",
      "Epoch 477/2000\n",
      "5/5 [==============================] - 0s 72ms/step - loss: 0.0062 - mae: 0.0630 - val_loss: 0.0079 - val_mae: 0.0708\n",
      "Epoch 478/2000\n",
      "1/5 [=====>........................] - ETA: 0s - loss: 0.0056 - mae: 0.0599"
     ]
    },
    {
     "name": "stderr",
     "output_type": "stream",
     "text": [
      "WARNING:absl:Found untraced functions such as lstm_cell_layer_call_fn, lstm_cell_layer_call_and_return_conditional_losses while saving (showing 2 of 2). These functions will not be directly callable after loading.\n"
     ]
    },
    {
     "name": "stdout",
     "output_type": "stream",
     "text": [
      "INFO:tensorflow:Assets written to: C:\\Users\\PARK\\Documents\\LAB\\RNN vs LSTM\\FInal Example\\wandb\\run-20221016_023555-20c04pun\\files\\model-best\\assets\n"
     ]
    },
    {
     "name": "stderr",
     "output_type": "stream",
     "text": [
      "INFO:tensorflow:Assets written to: C:\\Users\\PARK\\Documents\\LAB\\RNN vs LSTM\\FInal Example\\wandb\\run-20221016_023555-20c04pun\\files\\model-best\\assets\n",
      "\u001b[34m\u001b[1mwandb\u001b[0m: Adding directory to artifact (C:\\Users\\PARK\\Documents\\LAB\\RNN vs LSTM\\FInal Example\\wandb\\run-20221016_023555-20c04pun\\files\\model-best)... Done. 0.1s\n"
     ]
    },
    {
     "name": "stdout",
     "output_type": "stream",
     "text": [
      "5/5 [==============================] - 4s 1s/step - loss: 0.0060 - mae: 0.0621 - val_loss: 0.0076 - val_mae: 0.0695\n",
      "Epoch 479/2000\n",
      "5/5 [==============================] - 1s 129ms/step - loss: 0.0058 - mae: 0.0615 - val_loss: 0.0079 - val_mae: 0.0713\n",
      "Epoch 480/2000\n",
      "4/5 [=======================>......] - ETA: 0s - loss: 0.0057 - mae: 0.0604"
     ]
    },
    {
     "name": "stderr",
     "output_type": "stream",
     "text": [
      "WARNING:absl:Found untraced functions such as lstm_cell_layer_call_fn, lstm_cell_layer_call_and_return_conditional_losses while saving (showing 2 of 2). These functions will not be directly callable after loading.\n"
     ]
    },
    {
     "name": "stdout",
     "output_type": "stream",
     "text": [
      "INFO:tensorflow:Assets written to: C:\\Users\\PARK\\Documents\\LAB\\RNN vs LSTM\\FInal Example\\wandb\\run-20221016_023555-20c04pun\\files\\model-best\\assets\n"
     ]
    },
    {
     "name": "stderr",
     "output_type": "stream",
     "text": [
      "INFO:tensorflow:Assets written to: C:\\Users\\PARK\\Documents\\LAB\\RNN vs LSTM\\FInal Example\\wandb\\run-20221016_023555-20c04pun\\files\\model-best\\assets\n",
      "\u001b[34m\u001b[1mwandb\u001b[0m: Adding directory to artifact (C:\\Users\\PARK\\Documents\\LAB\\RNN vs LSTM\\FInal Example\\wandb\\run-20221016_023555-20c04pun\\files\\model-best)... Done. 0.1s\n"
     ]
    },
    {
     "name": "stdout",
     "output_type": "stream",
     "text": [
      "5/5 [==============================] - 4s 1s/step - loss: 0.0058 - mae: 0.0612 - val_loss: 0.0075 - val_mae: 0.0686\n",
      "Epoch 481/2000\n",
      "5/5 [==============================] - 1s 110ms/step - loss: 0.0056 - mae: 0.0599 - val_loss: 0.0078 - val_mae: 0.0705\n",
      "Epoch 482/2000\n",
      "5/5 [==============================] - 0s 74ms/step - loss: 0.0056 - mae: 0.0603 - val_loss: 0.0075 - val_mae: 0.0691\n",
      "Epoch 483/2000\n",
      "1/5 [=====>........................] - ETA: 0s - loss: 0.0051 - mae: 0.0573"
     ]
    },
    {
     "name": "stderr",
     "output_type": "stream",
     "text": [
      "WARNING:absl:Found untraced functions such as lstm_cell_layer_call_fn, lstm_cell_layer_call_and_return_conditional_losses while saving (showing 2 of 2). These functions will not be directly callable after loading.\n"
     ]
    },
    {
     "name": "stdout",
     "output_type": "stream",
     "text": [
      "INFO:tensorflow:Assets written to: C:\\Users\\PARK\\Documents\\LAB\\RNN vs LSTM\\FInal Example\\wandb\\run-20221016_023555-20c04pun\\files\\model-best\\assets\n"
     ]
    },
    {
     "name": "stderr",
     "output_type": "stream",
     "text": [
      "INFO:tensorflow:Assets written to: C:\\Users\\PARK\\Documents\\LAB\\RNN vs LSTM\\FInal Example\\wandb\\run-20221016_023555-20c04pun\\files\\model-best\\assets\n",
      "\u001b[34m\u001b[1mwandb\u001b[0m: Adding directory to artifact (C:\\Users\\PARK\\Documents\\LAB\\RNN vs LSTM\\FInal Example\\wandb\\run-20221016_023555-20c04pun\\files\\model-best)... Done. 0.1s\n"
     ]
    },
    {
     "name": "stdout",
     "output_type": "stream",
     "text": [
      "5/5 [==============================] - 4s 1s/step - loss: 0.0055 - mae: 0.0592 - val_loss: 0.0072 - val_mae: 0.0673\n",
      "Epoch 484/2000\n",
      "5/5 [==============================] - 0s 99ms/step - loss: 0.0055 - mae: 0.0598 - val_loss: 0.0082 - val_mae: 0.0714\n",
      "Epoch 485/2000\n",
      "5/5 [==============================] - 0s 74ms/step - loss: 0.0057 - mae: 0.0608 - val_loss: 0.0083 - val_mae: 0.0735\n",
      "Epoch 486/2000\n",
      "5/5 [==============================] - 0s 74ms/step - loss: 0.0061 - mae: 0.0625 - val_loss: 0.0078 - val_mae: 0.0701\n",
      "Epoch 487/2000\n",
      "5/5 [==============================] - 0s 73ms/step - loss: 0.0060 - mae: 0.0617 - val_loss: 0.0078 - val_mae: 0.0709\n",
      "Epoch 488/2000\n",
      "5/5 [==============================] - 0s 73ms/step - loss: 0.0056 - mae: 0.0600 - val_loss: 0.0074 - val_mae: 0.0685\n",
      "Epoch 489/2000\n",
      "5/5 [==============================] - 0s 74ms/step - loss: 0.0056 - mae: 0.0600 - val_loss: 0.0082 - val_mae: 0.0720\n",
      "Epoch 490/2000\n",
      "5/5 [==============================] - 0s 80ms/step - loss: 0.0064 - mae: 0.0639 - val_loss: 0.0075 - val_mae: 0.0687\n",
      "Epoch 491/2000\n",
      "1/5 [=====>........................] - ETA: 0s - loss: 0.0052 - mae: 0.0581"
     ]
    },
    {
     "name": "stderr",
     "output_type": "stream",
     "text": [
      "WARNING:absl:Found untraced functions such as lstm_cell_layer_call_fn, lstm_cell_layer_call_and_return_conditional_losses while saving (showing 2 of 2). These functions will not be directly callable after loading.\n"
     ]
    },
    {
     "name": "stdout",
     "output_type": "stream",
     "text": [
      "INFO:tensorflow:Assets written to: C:\\Users\\PARK\\Documents\\LAB\\RNN vs LSTM\\FInal Example\\wandb\\run-20221016_023555-20c04pun\\files\\model-best\\assets\n"
     ]
    },
    {
     "name": "stderr",
     "output_type": "stream",
     "text": [
      "INFO:tensorflow:Assets written to: C:\\Users\\PARK\\Documents\\LAB\\RNN vs LSTM\\FInal Example\\wandb\\run-20221016_023555-20c04pun\\files\\model-best\\assets\n",
      "\u001b[34m\u001b[1mwandb\u001b[0m: Adding directory to artifact (C:\\Users\\PARK\\Documents\\LAB\\RNN vs LSTM\\FInal Example\\wandb\\run-20221016_023555-20c04pun\\files\\model-best)... Done. 0.1s\n"
     ]
    },
    {
     "name": "stdout",
     "output_type": "stream",
     "text": [
      "5/5 [==============================] - 4s 1s/step - loss: 0.0057 - mae: 0.0603 - val_loss: 0.0071 - val_mae: 0.0673\n",
      "Epoch 492/2000\n",
      "5/5 [==============================] - 0s 110ms/step - loss: 0.0055 - mae: 0.0593 - val_loss: 0.0074 - val_mae: 0.0680\n",
      "Epoch 493/2000\n",
      "5/5 [==============================] - 0s 72ms/step - loss: 0.0053 - mae: 0.0578 - val_loss: 0.0072 - val_mae: 0.0677\n",
      "Epoch 494/2000\n",
      "5/5 [==============================] - 0s 72ms/step - loss: 0.0052 - mae: 0.0579 - val_loss: 0.0073 - val_mae: 0.0679\n",
      "Epoch 495/2000\n",
      "5/5 [==============================] - 0s 73ms/step - loss: 0.0052 - mae: 0.0576 - val_loss: 0.0073 - val_mae: 0.0679\n",
      "Epoch 496/2000\n",
      "5/5 [==============================] - 0s 72ms/step - loss: 0.0055 - mae: 0.0593 - val_loss: 0.0075 - val_mae: 0.0686\n",
      "Epoch 497/2000\n",
      "1/5 [=====>........................] - ETA: 0s - loss: 0.0057 - mae: 0.0601"
     ]
    },
    {
     "name": "stderr",
     "output_type": "stream",
     "text": [
      "WARNING:absl:Found untraced functions such as lstm_cell_layer_call_fn, lstm_cell_layer_call_and_return_conditional_losses while saving (showing 2 of 2). These functions will not be directly callable after loading.\n"
     ]
    },
    {
     "name": "stdout",
     "output_type": "stream",
     "text": [
      "INFO:tensorflow:Assets written to: C:\\Users\\PARK\\Documents\\LAB\\RNN vs LSTM\\FInal Example\\wandb\\run-20221016_023555-20c04pun\\files\\model-best\\assets\n"
     ]
    },
    {
     "name": "stderr",
     "output_type": "stream",
     "text": [
      "INFO:tensorflow:Assets written to: C:\\Users\\PARK\\Documents\\LAB\\RNN vs LSTM\\FInal Example\\wandb\\run-20221016_023555-20c04pun\\files\\model-best\\assets\n",
      "\u001b[34m\u001b[1mwandb\u001b[0m: Adding directory to artifact (C:\\Users\\PARK\\Documents\\LAB\\RNN vs LSTM\\FInal Example\\wandb\\run-20221016_023555-20c04pun\\files\\model-best)... Done. 0.1s\n"
     ]
    },
    {
     "name": "stdout",
     "output_type": "stream",
     "text": [
      "5/5 [==============================] - 4s 997ms/step - loss: 0.0053 - mae: 0.0579 - val_loss: 0.0070 - val_mae: 0.0667\n",
      "Epoch 498/2000\n",
      "5/5 [==============================] - 1s 121ms/step - loss: 0.0051 - mae: 0.0575 - val_loss: 0.0074 - val_mae: 0.0687\n",
      "Epoch 499/2000\n",
      "5/5 [==============================] - 0s 95ms/step - loss: 0.0055 - mae: 0.0595 - val_loss: 0.0077 - val_mae: 0.0707\n",
      "Epoch 500/2000\n",
      "5/5 [==============================] - 0s 89ms/step - loss: 0.0054 - mae: 0.0588 - val_loss: 0.0071 - val_mae: 0.0670\n",
      "Epoch 501/2000\n",
      "5/5 [==============================] - 0s 72ms/step - loss: 0.0055 - mae: 0.0589 - val_loss: 0.0071 - val_mae: 0.0673\n",
      "Epoch 502/2000\n",
      "1/5 [=====>........................] - ETA: 0s - loss: 0.0059 - mae: 0.0627"
     ]
    },
    {
     "name": "stderr",
     "output_type": "stream",
     "text": [
      "WARNING:absl:Found untraced functions such as lstm_cell_layer_call_fn, lstm_cell_layer_call_and_return_conditional_losses while saving (showing 2 of 2). These functions will not be directly callable after loading.\n"
     ]
    },
    {
     "name": "stdout",
     "output_type": "stream",
     "text": [
      "INFO:tensorflow:Assets written to: C:\\Users\\PARK\\Documents\\LAB\\RNN vs LSTM\\FInal Example\\wandb\\run-20221016_023555-20c04pun\\files\\model-best\\assets\n"
     ]
    },
    {
     "name": "stderr",
     "output_type": "stream",
     "text": [
      "INFO:tensorflow:Assets written to: C:\\Users\\PARK\\Documents\\LAB\\RNN vs LSTM\\FInal Example\\wandb\\run-20221016_023555-20c04pun\\files\\model-best\\assets\n",
      "\u001b[34m\u001b[1mwandb\u001b[0m: Adding directory to artifact (C:\\Users\\PARK\\Documents\\LAB\\RNN vs LSTM\\FInal Example\\wandb\\run-20221016_023555-20c04pun\\files\\model-best)... Done. 0.1s\n"
     ]
    },
    {
     "name": "stdout",
     "output_type": "stream",
     "text": [
      "5/5 [==============================] - 4s 962ms/step - loss: 0.0049 - mae: 0.0563 - val_loss: 0.0067 - val_mae: 0.0654\n",
      "Epoch 503/2000\n",
      "5/5 [==============================] - 1s 112ms/step - loss: 0.0050 - mae: 0.0565 - val_loss: 0.0071 - val_mae: 0.0664\n",
      "Epoch 504/2000\n",
      "5/5 [==============================] - 0s 76ms/step - loss: 0.0050 - mae: 0.0562 - val_loss: 0.0071 - val_mae: 0.0668\n",
      "Epoch 505/2000\n",
      "5/5 [==============================] - 0s 75ms/step - loss: 0.0051 - mae: 0.0571 - val_loss: 0.0068 - val_mae: 0.0657\n",
      "Epoch 506/2000\n",
      "5/5 [==============================] - 0s 75ms/step - loss: 0.0051 - mae: 0.0571 - val_loss: 0.0071 - val_mae: 0.0674\n",
      "Epoch 507/2000\n",
      "1/5 [=====>........................] - ETA: 0s - loss: 0.0056 - mae: 0.0603"
     ]
    },
    {
     "name": "stderr",
     "output_type": "stream",
     "text": [
      "WARNING:absl:Found untraced functions such as lstm_cell_layer_call_fn, lstm_cell_layer_call_and_return_conditional_losses while saving (showing 2 of 2). These functions will not be directly callable after loading.\n"
     ]
    },
    {
     "name": "stdout",
     "output_type": "stream",
     "text": [
      "INFO:tensorflow:Assets written to: C:\\Users\\PARK\\Documents\\LAB\\RNN vs LSTM\\FInal Example\\wandb\\run-20221016_023555-20c04pun\\files\\model-best\\assets\n"
     ]
    },
    {
     "name": "stderr",
     "output_type": "stream",
     "text": [
      "INFO:tensorflow:Assets written to: C:\\Users\\PARK\\Documents\\LAB\\RNN vs LSTM\\FInal Example\\wandb\\run-20221016_023555-20c04pun\\files\\model-best\\assets\n",
      "\u001b[34m\u001b[1mwandb\u001b[0m: Adding directory to artifact (C:\\Users\\PARK\\Documents\\LAB\\RNN vs LSTM\\FInal Example\\wandb\\run-20221016_023555-20c04pun\\files\\model-best)... Done. 0.1s\n"
     ]
    },
    {
     "name": "stdout",
     "output_type": "stream",
     "text": [
      "5/5 [==============================] - 4s 1s/step - loss: 0.0051 - mae: 0.0571 - val_loss: 0.0066 - val_mae: 0.0647\n",
      "Epoch 508/2000\n",
      "5/5 [==============================] - 1s 132ms/step - loss: 0.0049 - mae: 0.0560 - val_loss: 0.0081 - val_mae: 0.0704\n",
      "Epoch 509/2000\n",
      "4/5 [=======================>......] - ETA: 0s - loss: 0.0052 - mae: 0.0578"
     ]
    },
    {
     "name": "stderr",
     "output_type": "stream",
     "text": [
      "WARNING:absl:Found untraced functions such as lstm_cell_layer_call_fn, lstm_cell_layer_call_and_return_conditional_losses while saving (showing 2 of 2). These functions will not be directly callable after loading.\n"
     ]
    },
    {
     "name": "stdout",
     "output_type": "stream",
     "text": [
      "INFO:tensorflow:Assets written to: C:\\Users\\PARK\\Documents\\LAB\\RNN vs LSTM\\FInal Example\\wandb\\run-20221016_023555-20c04pun\\files\\model-best\\assets\n"
     ]
    },
    {
     "name": "stderr",
     "output_type": "stream",
     "text": [
      "INFO:tensorflow:Assets written to: C:\\Users\\PARK\\Documents\\LAB\\RNN vs LSTM\\FInal Example\\wandb\\run-20221016_023555-20c04pun\\files\\model-best\\assets\n",
      "\u001b[34m\u001b[1mwandb\u001b[0m: Adding directory to artifact (C:\\Users\\PARK\\Documents\\LAB\\RNN vs LSTM\\FInal Example\\wandb\\run-20221016_023555-20c04pun\\files\\model-best)... Done. 0.1s\n"
     ]
    },
    {
     "name": "stdout",
     "output_type": "stream",
     "text": [
      "5/5 [==============================] - 4s 1s/step - loss: 0.0052 - mae: 0.0576 - val_loss: 0.0066 - val_mae: 0.0648\n",
      "Epoch 510/2000\n",
      "5/5 [==============================] - 0s 93ms/step - loss: 0.0049 - mae: 0.0558 - val_loss: 0.0070 - val_mae: 0.0665\n",
      "Epoch 511/2000\n",
      "5/5 [==============================] - 0s 72ms/step - loss: 0.0048 - mae: 0.0552 - val_loss: 0.0072 - val_mae: 0.0675\n",
      "Epoch 512/2000\n",
      "5/5 [==============================] - 0s 72ms/step - loss: 0.0049 - mae: 0.0559 - val_loss: 0.0067 - val_mae: 0.0654\n",
      "Epoch 513/2000\n",
      "5/5 [==============================] - 0s 77ms/step - loss: 0.0048 - mae: 0.0556 - val_loss: 0.0074 - val_mae: 0.0679\n",
      "Epoch 514/2000\n",
      "5/5 [==============================] - 0s 72ms/step - loss: 0.0047 - mae: 0.0550 - val_loss: 0.0067 - val_mae: 0.0651\n",
      "Epoch 515/2000\n",
      "5/5 [==============================] - 0s 72ms/step - loss: 0.0046 - mae: 0.0541 - val_loss: 0.0067 - val_mae: 0.0648\n",
      "Epoch 516/2000\n",
      "1/5 [=====>........................] - ETA: 0s - loss: 0.0049 - mae: 0.0560"
     ]
    },
    {
     "name": "stderr",
     "output_type": "stream",
     "text": [
      "WARNING:absl:Found untraced functions such as lstm_cell_layer_call_fn, lstm_cell_layer_call_and_return_conditional_losses while saving (showing 2 of 2). These functions will not be directly callable after loading.\n"
     ]
    },
    {
     "name": "stdout",
     "output_type": "stream",
     "text": [
      "INFO:tensorflow:Assets written to: C:\\Users\\PARK\\Documents\\LAB\\RNN vs LSTM\\FInal Example\\wandb\\run-20221016_023555-20c04pun\\files\\model-best\\assets\n"
     ]
    },
    {
     "name": "stderr",
     "output_type": "stream",
     "text": [
      "INFO:tensorflow:Assets written to: C:\\Users\\PARK\\Documents\\LAB\\RNN vs LSTM\\FInal Example\\wandb\\run-20221016_023555-20c04pun\\files\\model-best\\assets\n",
      "\u001b[34m\u001b[1mwandb\u001b[0m: Adding directory to artifact (C:\\Users\\PARK\\Documents\\LAB\\RNN vs LSTM\\FInal Example\\wandb\\run-20221016_023555-20c04pun\\files\\model-best)... Done. 0.1s\n"
     ]
    },
    {
     "name": "stdout",
     "output_type": "stream",
     "text": [
      "5/5 [==============================] - 4s 996ms/step - loss: 0.0047 - mae: 0.0547 - val_loss: 0.0065 - val_mae: 0.0641\n",
      "Epoch 517/2000\n",
      "5/5 [==============================] - 1s 125ms/step - loss: 0.0045 - mae: 0.0535 - val_loss: 0.0068 - val_mae: 0.0658\n",
      "Epoch 518/2000\n",
      "5/5 [==============================] - 0s 95ms/step - loss: 0.0046 - mae: 0.0539 - val_loss: 0.0066 - val_mae: 0.0643\n",
      "Epoch 519/2000\n",
      "5/5 [==============================] - 0s 82ms/step - loss: 0.0044 - mae: 0.0534 - val_loss: 0.0065 - val_mae: 0.0642\n",
      "Epoch 520/2000\n",
      "5/5 [==============================] - 0s 76ms/step - loss: 0.0044 - mae: 0.0532 - val_loss: 0.0066 - val_mae: 0.0645\n",
      "Epoch 521/2000\n",
      "5/5 [==============================] - 0s 74ms/step - loss: 0.0046 - mae: 0.0539 - val_loss: 0.0072 - val_mae: 0.0675\n",
      "Epoch 522/2000\n",
      "5/5 [==============================] - 0s 74ms/step - loss: 0.0053 - mae: 0.0587 - val_loss: 0.0078 - val_mae: 0.0692\n",
      "Epoch 523/2000\n",
      "5/5 [==============================] - 0s 79ms/step - loss: 0.0060 - mae: 0.0606 - val_loss: 0.0070 - val_mae: 0.0671\n",
      "Epoch 524/2000\n",
      "5/5 [==============================] - 0s 72ms/step - loss: 0.0056 - mae: 0.0596 - val_loss: 0.0073 - val_mae: 0.0672\n",
      "Epoch 525/2000\n",
      "5/5 [==============================] - 0s 73ms/step - loss: 0.0056 - mae: 0.0595 - val_loss: 0.0074 - val_mae: 0.0692\n",
      "Epoch 526/2000\n",
      "5/5 [==============================] - 0s 73ms/step - loss: 0.0062 - mae: 0.0631 - val_loss: 0.0086 - val_mae: 0.0737\n",
      "Epoch 527/2000\n",
      "5/5 [==============================] - 0s 72ms/step - loss: 0.0058 - mae: 0.0606 - val_loss: 0.0069 - val_mae: 0.0675\n",
      "Epoch 528/2000\n",
      "5/5 [==============================] - 0s 72ms/step - loss: 0.0052 - mae: 0.0575 - val_loss: 0.0076 - val_mae: 0.0694\n",
      "Epoch 529/2000\n",
      "5/5 [==============================] - 0s 72ms/step - loss: 0.0050 - mae: 0.0562 - val_loss: 0.0069 - val_mae: 0.0668\n",
      "Epoch 530/2000\n",
      "1/5 [=====>........................] - ETA: 0s - loss: 0.0047 - mae: 0.0541"
     ]
    },
    {
     "name": "stderr",
     "output_type": "stream",
     "text": [
      "WARNING:absl:Found untraced functions such as lstm_cell_layer_call_fn, lstm_cell_layer_call_and_return_conditional_losses while saving (showing 2 of 2). These functions will not be directly callable after loading.\n"
     ]
    },
    {
     "name": "stdout",
     "output_type": "stream",
     "text": [
      "INFO:tensorflow:Assets written to: C:\\Users\\PARK\\Documents\\LAB\\RNN vs LSTM\\FInal Example\\wandb\\run-20221016_023555-20c04pun\\files\\model-best\\assets\n"
     ]
    },
    {
     "name": "stderr",
     "output_type": "stream",
     "text": [
      "INFO:tensorflow:Assets written to: C:\\Users\\PARK\\Documents\\LAB\\RNN vs LSTM\\FInal Example\\wandb\\run-20221016_023555-20c04pun\\files\\model-best\\assets\n",
      "\u001b[34m\u001b[1mwandb\u001b[0m: Adding directory to artifact (C:\\Users\\PARK\\Documents\\LAB\\RNN vs LSTM\\FInal Example\\wandb\\run-20221016_023555-20c04pun\\files\\model-best)... Done. 0.1s\n"
     ]
    },
    {
     "name": "stdout",
     "output_type": "stream",
     "text": [
      "5/5 [==============================] - 4s 1s/step - loss: 0.0046 - mae: 0.0542 - val_loss: 0.0064 - val_mae: 0.0640\n",
      "Epoch 531/2000\n",
      "5/5 [==============================] - 1s 120ms/step - loss: 0.0045 - mae: 0.0536 - val_loss: 0.0066 - val_mae: 0.0639\n",
      "Epoch 532/2000\n",
      "1/5 [=====>........................] - ETA: 0s - loss: 0.0044 - mae: 0.0523"
     ]
    },
    {
     "name": "stderr",
     "output_type": "stream",
     "text": [
      "WARNING:absl:Found untraced functions such as lstm_cell_layer_call_fn, lstm_cell_layer_call_and_return_conditional_losses while saving (showing 2 of 2). These functions will not be directly callable after loading.\n"
     ]
    },
    {
     "name": "stdout",
     "output_type": "stream",
     "text": [
      "INFO:tensorflow:Assets written to: C:\\Users\\PARK\\Documents\\LAB\\RNN vs LSTM\\FInal Example\\wandb\\run-20221016_023555-20c04pun\\files\\model-best\\assets\n"
     ]
    },
    {
     "name": "stderr",
     "output_type": "stream",
     "text": [
      "INFO:tensorflow:Assets written to: C:\\Users\\PARK\\Documents\\LAB\\RNN vs LSTM\\FInal Example\\wandb\\run-20221016_023555-20c04pun\\files\\model-best\\assets\n",
      "\u001b[34m\u001b[1mwandb\u001b[0m: Adding directory to artifact (C:\\Users\\PARK\\Documents\\LAB\\RNN vs LSTM\\FInal Example\\wandb\\run-20221016_023555-20c04pun\\files\\model-best)... Done. 0.1s\n"
     ]
    },
    {
     "name": "stdout",
     "output_type": "stream",
     "text": [
      "5/5 [==============================] - 4s 994ms/step - loss: 0.0045 - mae: 0.0532 - val_loss: 0.0062 - val_mae: 0.0621\n",
      "Epoch 533/2000\n",
      "5/5 [==============================] - ETA: 0s - loss: 0.0044 - mae: 0.0527"
     ]
    },
    {
     "name": "stderr",
     "output_type": "stream",
     "text": [
      "WARNING:absl:Found untraced functions such as lstm_cell_layer_call_fn, lstm_cell_layer_call_and_return_conditional_losses while saving (showing 2 of 2). These functions will not be directly callable after loading.\n"
     ]
    },
    {
     "name": "stdout",
     "output_type": "stream",
     "text": [
      "INFO:tensorflow:Assets written to: C:\\Users\\PARK\\Documents\\LAB\\RNN vs LSTM\\FInal Example\\wandb\\run-20221016_023555-20c04pun\\files\\model-best\\assets\n"
     ]
    },
    {
     "name": "stderr",
     "output_type": "stream",
     "text": [
      "INFO:tensorflow:Assets written to: C:\\Users\\PARK\\Documents\\LAB\\RNN vs LSTM\\FInal Example\\wandb\\run-20221016_023555-20c04pun\\files\\model-best\\assets\n",
      "\u001b[34m\u001b[1mwandb\u001b[0m: Adding directory to artifact (C:\\Users\\PARK\\Documents\\LAB\\RNN vs LSTM\\FInal Example\\wandb\\run-20221016_023555-20c04pun\\files\\model-best)... Done. 0.1s\n"
     ]
    },
    {
     "name": "stdout",
     "output_type": "stream",
     "text": [
      "5/5 [==============================] - 4s 1s/step - loss: 0.0044 - mae: 0.0527 - val_loss: 0.0061 - val_mae: 0.0616\n",
      "Epoch 534/2000\n",
      "5/5 [==============================] - 1s 118ms/step - loss: 0.0043 - mae: 0.0525 - val_loss: 0.0062 - val_mae: 0.0622\n",
      "Epoch 535/2000\n",
      "5/5 [==============================] - 0s 73ms/step - loss: 0.0040 - mae: 0.0507 - val_loss: 0.0064 - val_mae: 0.0637\n",
      "Epoch 536/2000\n",
      "5/5 [==============================] - 0s 74ms/step - loss: 0.0044 - mae: 0.0527 - val_loss: 0.0062 - val_mae: 0.0626\n",
      "Epoch 537/2000\n",
      "5/5 [==============================] - 0s 83ms/step - loss: 0.0043 - mae: 0.0521 - val_loss: 0.0063 - val_mae: 0.0632\n",
      "Epoch 538/2000\n",
      "1/5 [=====>........................] - ETA: 0s - loss: 0.0045 - mae: 0.0533"
     ]
    },
    {
     "name": "stderr",
     "output_type": "stream",
     "text": [
      "WARNING:absl:Found untraced functions such as lstm_cell_layer_call_fn, lstm_cell_layer_call_and_return_conditional_losses while saving (showing 2 of 2). These functions will not be directly callable after loading.\n"
     ]
    },
    {
     "name": "stdout",
     "output_type": "stream",
     "text": [
      "INFO:tensorflow:Assets written to: C:\\Users\\PARK\\Documents\\LAB\\RNN vs LSTM\\FInal Example\\wandb\\run-20221016_023555-20c04pun\\files\\model-best\\assets\n"
     ]
    },
    {
     "name": "stderr",
     "output_type": "stream",
     "text": [
      "INFO:tensorflow:Assets written to: C:\\Users\\PARK\\Documents\\LAB\\RNN vs LSTM\\FInal Example\\wandb\\run-20221016_023555-20c04pun\\files\\model-best\\assets\n",
      "\u001b[34m\u001b[1mwandb\u001b[0m: Adding directory to artifact (C:\\Users\\PARK\\Documents\\LAB\\RNN vs LSTM\\FInal Example\\wandb\\run-20221016_023555-20c04pun\\files\\model-best)... Done. 0.1s\n"
     ]
    },
    {
     "name": "stdout",
     "output_type": "stream",
     "text": [
      "5/5 [==============================] - 4s 961ms/step - loss: 0.0042 - mae: 0.0519 - val_loss: 0.0059 - val_mae: 0.0615\n",
      "Epoch 539/2000\n",
      "5/5 [==============================] - 1s 130ms/step - loss: 0.0041 - mae: 0.0512 - val_loss: 0.0061 - val_mae: 0.0621\n",
      "Epoch 540/2000\n",
      "5/5 [==============================] - 0s 93ms/step - loss: 0.0041 - mae: 0.0509 - val_loss: 0.0062 - val_mae: 0.0622\n",
      "Epoch 541/2000\n",
      "5/5 [==============================] - 0s 83ms/step - loss: 0.0041 - mae: 0.0506 - val_loss: 0.0060 - val_mae: 0.0616\n",
      "Epoch 542/2000\n",
      "5/5 [==============================] - 0s 74ms/step - loss: 0.0039 - mae: 0.0501 - val_loss: 0.0064 - val_mae: 0.0640\n",
      "Epoch 543/2000\n",
      "5/5 [==============================] - 0s 73ms/step - loss: 0.0042 - mae: 0.0513 - val_loss: 0.0064 - val_mae: 0.0635\n",
      "Epoch 544/2000\n",
      "5/5 [==============================] - 0s 79ms/step - loss: 0.0042 - mae: 0.0519 - val_loss: 0.0067 - val_mae: 0.0642\n",
      "Epoch 545/2000\n",
      "1/5 [=====>........................] - ETA: 0s - loss: 0.0042 - mae: 0.0505"
     ]
    },
    {
     "name": "stderr",
     "output_type": "stream",
     "text": [
      "WARNING:absl:Found untraced functions such as lstm_cell_layer_call_fn, lstm_cell_layer_call_and_return_conditional_losses while saving (showing 2 of 2). These functions will not be directly callable after loading.\n"
     ]
    },
    {
     "name": "stdout",
     "output_type": "stream",
     "text": [
      "INFO:tensorflow:Assets written to: C:\\Users\\PARK\\Documents\\LAB\\RNN vs LSTM\\FInal Example\\wandb\\run-20221016_023555-20c04pun\\files\\model-best\\assets\n"
     ]
    },
    {
     "name": "stderr",
     "output_type": "stream",
     "text": [
      "INFO:tensorflow:Assets written to: C:\\Users\\PARK\\Documents\\LAB\\RNN vs LSTM\\FInal Example\\wandb\\run-20221016_023555-20c04pun\\files\\model-best\\assets\n",
      "\u001b[34m\u001b[1mwandb\u001b[0m: Adding directory to artifact (C:\\Users\\PARK\\Documents\\LAB\\RNN vs LSTM\\FInal Example\\wandb\\run-20221016_023555-20c04pun\\files\\model-best)... Done. 0.1s\n"
     ]
    },
    {
     "name": "stdout",
     "output_type": "stream",
     "text": [
      "5/5 [==============================] - 4s 1s/step - loss: 0.0042 - mae: 0.0511 - val_loss: 0.0058 - val_mae: 0.0609\n",
      "Epoch 546/2000\n",
      "4/5 [=======================>......] - ETA: 0s - loss: 0.0038 - mae: 0.0491"
     ]
    },
    {
     "name": "stderr",
     "output_type": "stream",
     "text": [
      "WARNING:absl:Found untraced functions such as lstm_cell_layer_call_fn, lstm_cell_layer_call_and_return_conditional_losses while saving (showing 2 of 2). These functions will not be directly callable after loading.\n"
     ]
    },
    {
     "name": "stdout",
     "output_type": "stream",
     "text": [
      "INFO:tensorflow:Assets written to: C:\\Users\\PARK\\Documents\\LAB\\RNN vs LSTM\\FInal Example\\wandb\\run-20221016_023555-20c04pun\\files\\model-best\\assets\n"
     ]
    },
    {
     "name": "stderr",
     "output_type": "stream",
     "text": [
      "INFO:tensorflow:Assets written to: C:\\Users\\PARK\\Documents\\LAB\\RNN vs LSTM\\FInal Example\\wandb\\run-20221016_023555-20c04pun\\files\\model-best\\assets\n",
      "\u001b[34m\u001b[1mwandb\u001b[0m: Adding directory to artifact (C:\\Users\\PARK\\Documents\\LAB\\RNN vs LSTM\\FInal Example\\wandb\\run-20221016_023555-20c04pun\\files\\model-best)... Done. 0.1s\n"
     ]
    },
    {
     "name": "stdout",
     "output_type": "stream",
     "text": [
      "5/5 [==============================] - 4s 1s/step - loss: 0.0037 - mae: 0.0489 - val_loss: 0.0058 - val_mae: 0.0598\n",
      "Epoch 547/2000\n",
      "2/5 [===========>..................] - ETA: 0s - loss: 0.0038 - mae: 0.0497"
     ]
    },
    {
     "name": "stderr",
     "output_type": "stream",
     "text": [
      "WARNING:absl:Found untraced functions such as lstm_cell_layer_call_fn, lstm_cell_layer_call_and_return_conditional_losses while saving (showing 2 of 2). These functions will not be directly callable after loading.\n"
     ]
    },
    {
     "name": "stdout",
     "output_type": "stream",
     "text": [
      "INFO:tensorflow:Assets written to: C:\\Users\\PARK\\Documents\\LAB\\RNN vs LSTM\\FInal Example\\wandb\\run-20221016_023555-20c04pun\\files\\model-best\\assets\n"
     ]
    },
    {
     "name": "stderr",
     "output_type": "stream",
     "text": [
      "INFO:tensorflow:Assets written to: C:\\Users\\PARK\\Documents\\LAB\\RNN vs LSTM\\FInal Example\\wandb\\run-20221016_023555-20c04pun\\files\\model-best\\assets\n",
      "\u001b[34m\u001b[1mwandb\u001b[0m: Adding directory to artifact (C:\\Users\\PARK\\Documents\\LAB\\RNN vs LSTM\\FInal Example\\wandb\\run-20221016_023555-20c04pun\\files\\model-best)... Done. 0.1s\n"
     ]
    },
    {
     "name": "stdout",
     "output_type": "stream",
     "text": [
      "5/5 [==============================] - 4s 983ms/step - loss: 0.0038 - mae: 0.0490 - val_loss: 0.0057 - val_mae: 0.0599\n",
      "Epoch 548/2000\n",
      "5/5 [==============================] - 0s 96ms/step - loss: 0.0036 - mae: 0.0480 - val_loss: 0.0057 - val_mae: 0.0599\n",
      "Epoch 549/2000\n",
      "1/5 [=====>........................] - ETA: 0s - loss: 0.0036 - mae: 0.0483"
     ]
    },
    {
     "name": "stderr",
     "output_type": "stream",
     "text": [
      "WARNING:absl:Found untraced functions such as lstm_cell_layer_call_fn, lstm_cell_layer_call_and_return_conditional_losses while saving (showing 2 of 2). These functions will not be directly callable after loading.\n"
     ]
    },
    {
     "name": "stdout",
     "output_type": "stream",
     "text": [
      "INFO:tensorflow:Assets written to: C:\\Users\\PARK\\Documents\\LAB\\RNN vs LSTM\\FInal Example\\wandb\\run-20221016_023555-20c04pun\\files\\model-best\\assets\n"
     ]
    },
    {
     "name": "stderr",
     "output_type": "stream",
     "text": [
      "INFO:tensorflow:Assets written to: C:\\Users\\PARK\\Documents\\LAB\\RNN vs LSTM\\FInal Example\\wandb\\run-20221016_023555-20c04pun\\files\\model-best\\assets\n",
      "\u001b[34m\u001b[1mwandb\u001b[0m: Adding directory to artifact (C:\\Users\\PARK\\Documents\\LAB\\RNN vs LSTM\\FInal Example\\wandb\\run-20221016_023555-20c04pun\\files\\model-best)... Done. 0.1s\n"
     ]
    },
    {
     "name": "stdout",
     "output_type": "stream",
     "text": [
      "5/5 [==============================] - 4s 1s/step - loss: 0.0037 - mae: 0.0482 - val_loss: 0.0056 - val_mae: 0.0588\n",
      "Epoch 550/2000\n",
      "5/5 [==============================] - 0s 105ms/step - loss: 0.0036 - mae: 0.0476 - val_loss: 0.0056 - val_mae: 0.0594\n",
      "Epoch 551/2000\n",
      "5/5 [==============================] - 0s 77ms/step - loss: 0.0036 - mae: 0.0475 - val_loss: 0.0059 - val_mae: 0.0611\n",
      "Epoch 552/2000\n",
      "5/5 [==============================] - 0s 84ms/step - loss: 0.0038 - mae: 0.0485 - val_loss: 0.0058 - val_mae: 0.0604\n",
      "Epoch 553/2000\n",
      "5/5 [==============================] - 0s 77ms/step - loss: 0.0037 - mae: 0.0485 - val_loss: 0.0058 - val_mae: 0.0598\n",
      "Epoch 554/2000\n",
      "5/5 [==============================] - 0s 73ms/step - loss: 0.0036 - mae: 0.0476 - val_loss: 0.0059 - val_mae: 0.0603\n",
      "Epoch 555/2000\n",
      "5/5 [==============================] - 0s 72ms/step - loss: 0.0037 - mae: 0.0482 - val_loss: 0.0057 - val_mae: 0.0595\n",
      "Epoch 556/2000\n",
      "5/5 [==============================] - 0s 80ms/step - loss: 0.0036 - mae: 0.0477 - val_loss: 0.0061 - val_mae: 0.0619\n",
      "Epoch 557/2000\n",
      "5/5 [==============================] - 0s 73ms/step - loss: 0.0036 - mae: 0.0477 - val_loss: 0.0062 - val_mae: 0.0621\n",
      "Epoch 558/2000\n",
      "5/5 [==============================] - 0s 73ms/step - loss: 0.0098 - mae: 0.0743 - val_loss: 0.0219 - val_mae: 0.1145\n",
      "Epoch 559/2000\n",
      "5/5 [==============================] - 0s 74ms/step - loss: 0.0161 - mae: 0.1002 - val_loss: 0.0126 - val_mae: 0.0914\n",
      "Epoch 560/2000\n",
      "5/5 [==============================] - 0s 71ms/step - loss: 0.0099 - mae: 0.0786 - val_loss: 0.0112 - val_mae: 0.0835\n",
      "Epoch 561/2000\n",
      "5/5 [==============================] - 0s 71ms/step - loss: 0.0081 - mae: 0.0726 - val_loss: 0.0102 - val_mae: 0.0791\n",
      "Epoch 562/2000\n",
      "5/5 [==============================] - 0s 72ms/step - loss: 0.0077 - mae: 0.0699 - val_loss: 0.0089 - val_mae: 0.0754\n",
      "Epoch 563/2000\n",
      "5/5 [==============================] - 0s 74ms/step - loss: 0.0067 - mae: 0.0653 - val_loss: 0.0074 - val_mae: 0.0683\n",
      "Epoch 564/2000\n",
      "5/5 [==============================] - 0s 73ms/step - loss: 0.0056 - mae: 0.0597 - val_loss: 0.0067 - val_mae: 0.0653\n",
      "Epoch 565/2000\n",
      "5/5 [==============================] - 0s 74ms/step - loss: 0.0050 - mae: 0.0566 - val_loss: 0.0065 - val_mae: 0.0637\n",
      "Epoch 566/2000\n",
      "5/5 [==============================] - 0s 74ms/step - loss: 0.0049 - mae: 0.0555 - val_loss: 0.0065 - val_mae: 0.0637\n",
      "Epoch 567/2000\n",
      "5/5 [==============================] - 0s 73ms/step - loss: 0.0044 - mae: 0.0531 - val_loss: 0.0063 - val_mae: 0.0624\n",
      "Epoch 568/2000\n",
      "5/5 [==============================] - 0s 74ms/step - loss: 0.0044 - mae: 0.0527 - val_loss: 0.0060 - val_mae: 0.0610\n",
      "Epoch 569/2000\n",
      "5/5 [==============================] - 0s 76ms/step - loss: 0.0040 - mae: 0.0510 - val_loss: 0.0059 - val_mae: 0.0609\n",
      "Epoch 570/2000\n",
      "5/5 [==============================] - 0s 70ms/step - loss: 0.0039 - mae: 0.0498 - val_loss: 0.0059 - val_mae: 0.0611\n",
      "Epoch 571/2000\n",
      "5/5 [==============================] - 0s 71ms/step - loss: 0.0039 - mae: 0.0499 - val_loss: 0.0059 - val_mae: 0.0612\n",
      "Epoch 572/2000\n",
      "5/5 [==============================] - 0s 76ms/step - loss: 0.0039 - mae: 0.0497 - val_loss: 0.0059 - val_mae: 0.0609\n",
      "Epoch 573/2000\n",
      "1/5 [=====>........................] - ETA: 0s - loss: 0.0037 - mae: 0.0497"
     ]
    },
    {
     "name": "stderr",
     "output_type": "stream",
     "text": [
      "WARNING:absl:Found untraced functions such as lstm_cell_layer_call_fn, lstm_cell_layer_call_and_return_conditional_losses while saving (showing 2 of 2). These functions will not be directly callable after loading.\n"
     ]
    },
    {
     "name": "stdout",
     "output_type": "stream",
     "text": [
      "INFO:tensorflow:Assets written to: C:\\Users\\PARK\\Documents\\LAB\\RNN vs LSTM\\FInal Example\\wandb\\run-20221016_023555-20c04pun\\files\\model-best\\assets\n"
     ]
    },
    {
     "name": "stderr",
     "output_type": "stream",
     "text": [
      "INFO:tensorflow:Assets written to: C:\\Users\\PARK\\Documents\\LAB\\RNN vs LSTM\\FInal Example\\wandb\\run-20221016_023555-20c04pun\\files\\model-best\\assets\n",
      "\u001b[34m\u001b[1mwandb\u001b[0m: Adding directory to artifact (C:\\Users\\PARK\\Documents\\LAB\\RNN vs LSTM\\FInal Example\\wandb\\run-20221016_023555-20c04pun\\files\\model-best)... Done. 0.1s\n"
     ]
    },
    {
     "name": "stdout",
     "output_type": "stream",
     "text": [
      "5/5 [==============================] - 4s 1s/step - loss: 0.0037 - mae: 0.0490 - val_loss: 0.0055 - val_mae: 0.0586\n",
      "Epoch 574/2000\n",
      "5/5 [==============================] - 1s 129ms/step - loss: 0.0037 - mae: 0.0481 - val_loss: 0.0060 - val_mae: 0.0611\n",
      "Epoch 575/2000\n",
      "5/5 [==============================] - 0s 95ms/step - loss: 0.0038 - mae: 0.0494 - val_loss: 0.0058 - val_mae: 0.0604\n",
      "Epoch 576/2000\n",
      "5/5 [==============================] - 0s 81ms/step - loss: 0.0040 - mae: 0.0501 - val_loss: 0.0059 - val_mae: 0.0605\n",
      "Epoch 577/2000\n",
      "5/5 [==============================] - 0s 74ms/step - loss: 0.0035 - mae: 0.0478 - val_loss: 0.0057 - val_mae: 0.0597\n",
      "Epoch 578/2000\n",
      "5/5 [==============================] - 0s 74ms/step - loss: 0.0036 - mae: 0.0480 - val_loss: 0.0058 - val_mae: 0.0602\n",
      "Epoch 579/2000\n",
      "1/5 [=====>........................] - ETA: 0s - loss: 0.0038 - mae: 0.0492"
     ]
    },
    {
     "name": "stderr",
     "output_type": "stream",
     "text": [
      "WARNING:absl:Found untraced functions such as lstm_cell_layer_call_fn, lstm_cell_layer_call_and_return_conditional_losses while saving (showing 2 of 2). These functions will not be directly callable after loading.\n"
     ]
    },
    {
     "name": "stdout",
     "output_type": "stream",
     "text": [
      "INFO:tensorflow:Assets written to: C:\\Users\\PARK\\Documents\\LAB\\RNN vs LSTM\\FInal Example\\wandb\\run-20221016_023555-20c04pun\\files\\model-best\\assets\n"
     ]
    },
    {
     "name": "stderr",
     "output_type": "stream",
     "text": [
      "INFO:tensorflow:Assets written to: C:\\Users\\PARK\\Documents\\LAB\\RNN vs LSTM\\FInal Example\\wandb\\run-20221016_023555-20c04pun\\files\\model-best\\assets\n",
      "\u001b[34m\u001b[1mwandb\u001b[0m: Adding directory to artifact (C:\\Users\\PARK\\Documents\\LAB\\RNN vs LSTM\\FInal Example\\wandb\\run-20221016_023555-20c04pun\\files\\model-best)... Done. 0.1s\n"
     ]
    },
    {
     "name": "stdout",
     "output_type": "stream",
     "text": [
      "5/5 [==============================] - 4s 1s/step - loss: 0.0036 - mae: 0.0479 - val_loss: 0.0053 - val_mae: 0.0583\n",
      "Epoch 580/2000\n",
      "5/5 [==============================] - 1s 129ms/step - loss: 0.0035 - mae: 0.0471 - val_loss: 0.0057 - val_mae: 0.0600\n",
      "Epoch 581/2000\n",
      "5/5 [==============================] - 0s 93ms/step - loss: 0.0036 - mae: 0.0477 - val_loss: 0.0054 - val_mae: 0.0583\n",
      "Epoch 582/2000\n",
      "5/5 [==============================] - 0s 80ms/step - loss: 0.0036 - mae: 0.0474 - val_loss: 0.0056 - val_mae: 0.0598\n",
      "Epoch 583/2000\n",
      "5/5 [==============================] - 0s 72ms/step - loss: 0.0039 - mae: 0.0494 - val_loss: 0.0056 - val_mae: 0.0596\n",
      "Epoch 584/2000\n",
      "5/5 [==============================] - 0s 77ms/step - loss: 0.0035 - mae: 0.0473 - val_loss: 0.0057 - val_mae: 0.0597\n",
      "Epoch 585/2000\n",
      "5/5 [==============================] - 0s 71ms/step - loss: 0.0035 - mae: 0.0468 - val_loss: 0.0060 - val_mae: 0.0611\n",
      "Epoch 586/2000\n",
      "5/5 [==============================] - 0s 71ms/step - loss: 0.0036 - mae: 0.0475 - val_loss: 0.0057 - val_mae: 0.0597\n",
      "Epoch 587/2000\n",
      "5/5 [==============================] - 0s 72ms/step - loss: 0.0035 - mae: 0.0472 - val_loss: 0.0060 - val_mae: 0.0615\n",
      "Epoch 588/2000\n",
      "5/5 [==============================] - 0s 73ms/step - loss: 0.0039 - mae: 0.0500 - val_loss: 0.0059 - val_mae: 0.0608\n",
      "Epoch 589/2000\n",
      "1/5 [=====>........................] - ETA: 0s - loss: 0.0035 - mae: 0.0462"
     ]
    },
    {
     "name": "stderr",
     "output_type": "stream",
     "text": [
      "WARNING:absl:Found untraced functions such as lstm_cell_layer_call_fn, lstm_cell_layer_call_and_return_conditional_losses while saving (showing 2 of 2). These functions will not be directly callable after loading.\n"
     ]
    },
    {
     "name": "stdout",
     "output_type": "stream",
     "text": [
      "INFO:tensorflow:Assets written to: C:\\Users\\PARK\\Documents\\LAB\\RNN vs LSTM\\FInal Example\\wandb\\run-20221016_023555-20c04pun\\files\\model-best\\assets\n"
     ]
    },
    {
     "name": "stderr",
     "output_type": "stream",
     "text": [
      "INFO:tensorflow:Assets written to: C:\\Users\\PARK\\Documents\\LAB\\RNN vs LSTM\\FInal Example\\wandb\\run-20221016_023555-20c04pun\\files\\model-best\\assets\n",
      "\u001b[34m\u001b[1mwandb\u001b[0m: Adding directory to artifact (C:\\Users\\PARK\\Documents\\LAB\\RNN vs LSTM\\FInal Example\\wandb\\run-20221016_023555-20c04pun\\files\\model-best)... Done. 0.1s\n"
     ]
    },
    {
     "name": "stdout",
     "output_type": "stream",
     "text": [
      "5/5 [==============================] - 4s 996ms/step - loss: 0.0037 - mae: 0.0483 - val_loss: 0.0053 - val_mae: 0.0578\n",
      "Epoch 590/2000\n",
      "5/5 [==============================] - 1s 126ms/step - loss: 0.0034 - mae: 0.0466 - val_loss: 0.0053 - val_mae: 0.0582\n",
      "Epoch 591/2000\n",
      "5/5 [==============================] - 0s 95ms/step - loss: 0.0033 - mae: 0.0454 - val_loss: 0.0054 - val_mae: 0.0581\n",
      "Epoch 592/2000\n",
      "4/5 [=======================>......] - ETA: 0s - loss: 0.0033 - mae: 0.0452"
     ]
    },
    {
     "name": "stderr",
     "output_type": "stream",
     "text": [
      "WARNING:absl:Found untraced functions such as lstm_cell_layer_call_fn, lstm_cell_layer_call_and_return_conditional_losses while saving (showing 2 of 2). These functions will not be directly callable after loading.\n"
     ]
    },
    {
     "name": "stdout",
     "output_type": "stream",
     "text": [
      "INFO:tensorflow:Assets written to: C:\\Users\\PARK\\Documents\\LAB\\RNN vs LSTM\\FInal Example\\wandb\\run-20221016_023555-20c04pun\\files\\model-best\\assets\n"
     ]
    },
    {
     "name": "stderr",
     "output_type": "stream",
     "text": [
      "INFO:tensorflow:Assets written to: C:\\Users\\PARK\\Documents\\LAB\\RNN vs LSTM\\FInal Example\\wandb\\run-20221016_023555-20c04pun\\files\\model-best\\assets\n",
      "\u001b[34m\u001b[1mwandb\u001b[0m: Adding directory to artifact (C:\\Users\\PARK\\Documents\\LAB\\RNN vs LSTM\\FInal Example\\wandb\\run-20221016_023555-20c04pun\\files\\model-best)... Done. 0.1s\n"
     ]
    },
    {
     "name": "stdout",
     "output_type": "stream",
     "text": [
      "5/5 [==============================] - 4s 1s/step - loss: 0.0033 - mae: 0.0454 - val_loss: 0.0051 - val_mae: 0.0566\n",
      "Epoch 593/2000\n",
      "5/5 [==============================] - 0s 105ms/step - loss: 0.0032 - mae: 0.0454 - val_loss: 0.0055 - val_mae: 0.0584\n",
      "Epoch 594/2000\n",
      "5/5 [==============================] - 0s 74ms/step - loss: 0.0035 - mae: 0.0467 - val_loss: 0.0061 - val_mae: 0.0621\n",
      "Epoch 595/2000\n",
      "5/5 [==============================] - 0s 73ms/step - loss: 0.0035 - mae: 0.0476 - val_loss: 0.0051 - val_mae: 0.0568\n",
      "Epoch 596/2000\n",
      "5/5 [==============================] - 0s 71ms/step - loss: 0.0033 - mae: 0.0458 - val_loss: 0.0051 - val_mae: 0.0568\n",
      "Epoch 597/2000\n",
      "5/5 [==============================] - 0s 75ms/step - loss: 0.0033 - mae: 0.0460 - val_loss: 0.0052 - val_mae: 0.0572\n",
      "Epoch 598/2000\n",
      "1/5 [=====>........................] - ETA: 0s - loss: 0.0030 - mae: 0.0433"
     ]
    },
    {
     "name": "stderr",
     "output_type": "stream",
     "text": [
      "WARNING:absl:Found untraced functions such as lstm_cell_layer_call_fn, lstm_cell_layer_call_and_return_conditional_losses while saving (showing 2 of 2). These functions will not be directly callable after loading.\n"
     ]
    },
    {
     "name": "stdout",
     "output_type": "stream",
     "text": [
      "INFO:tensorflow:Assets written to: C:\\Users\\PARK\\Documents\\LAB\\RNN vs LSTM\\FInal Example\\wandb\\run-20221016_023555-20c04pun\\files\\model-best\\assets\n"
     ]
    },
    {
     "name": "stderr",
     "output_type": "stream",
     "text": [
      "INFO:tensorflow:Assets written to: C:\\Users\\PARK\\Documents\\LAB\\RNN vs LSTM\\FInal Example\\wandb\\run-20221016_023555-20c04pun\\files\\model-best\\assets\n",
      "\u001b[34m\u001b[1mwandb\u001b[0m: Adding directory to artifact (C:\\Users\\PARK\\Documents\\LAB\\RNN vs LSTM\\FInal Example\\wandb\\run-20221016_023555-20c04pun\\files\\model-best)... Done. 0.1s\n"
     ]
    },
    {
     "name": "stdout",
     "output_type": "stream",
     "text": [
      "5/5 [==============================] - 4s 1s/step - loss: 0.0032 - mae: 0.0449 - val_loss: 0.0050 - val_mae: 0.0564\n",
      "Epoch 599/2000\n",
      "5/5 [==============================] - 0s 97ms/step - loss: 0.0031 - mae: 0.0440 - val_loss: 0.0052 - val_mae: 0.0569\n",
      "Epoch 600/2000\n",
      "1/5 [=====>........................] - ETA: 0s - loss: 0.0031 - mae: 0.0443"
     ]
    },
    {
     "name": "stderr",
     "output_type": "stream",
     "text": [
      "WARNING:absl:Found untraced functions such as lstm_cell_layer_call_fn, lstm_cell_layer_call_and_return_conditional_losses while saving (showing 2 of 2). These functions will not be directly callable after loading.\n"
     ]
    },
    {
     "name": "stdout",
     "output_type": "stream",
     "text": [
      "INFO:tensorflow:Assets written to: C:\\Users\\PARK\\Documents\\LAB\\RNN vs LSTM\\FInal Example\\wandb\\run-20221016_023555-20c04pun\\files\\model-best\\assets\n"
     ]
    },
    {
     "name": "stderr",
     "output_type": "stream",
     "text": [
      "INFO:tensorflow:Assets written to: C:\\Users\\PARK\\Documents\\LAB\\RNN vs LSTM\\FInal Example\\wandb\\run-20221016_023555-20c04pun\\files\\model-best\\assets\n",
      "\u001b[34m\u001b[1mwandb\u001b[0m: Adding directory to artifact (C:\\Users\\PARK\\Documents\\LAB\\RNN vs LSTM\\FInal Example\\wandb\\run-20221016_023555-20c04pun\\files\\model-best)... Done. 0.1s\n"
     ]
    },
    {
     "name": "stdout",
     "output_type": "stream",
     "text": [
      "5/5 [==============================] - 4s 1s/step - loss: 0.0030 - mae: 0.0438 - val_loss: 0.0048 - val_mae: 0.0553\n",
      "Epoch 601/2000\n",
      "4/5 [=======================>......] - ETA: 0s - loss: 0.0031 - mae: 0.0445"
     ]
    },
    {
     "name": "stderr",
     "output_type": "stream",
     "text": [
      "WARNING:absl:Found untraced functions such as lstm_cell_layer_call_fn, lstm_cell_layer_call_and_return_conditional_losses while saving (showing 2 of 2). These functions will not be directly callable after loading.\n"
     ]
    },
    {
     "name": "stdout",
     "output_type": "stream",
     "text": [
      "INFO:tensorflow:Assets written to: C:\\Users\\PARK\\Documents\\LAB\\RNN vs LSTM\\FInal Example\\wandb\\run-20221016_023555-20c04pun\\files\\model-best\\assets\n"
     ]
    },
    {
     "name": "stderr",
     "output_type": "stream",
     "text": [
      "INFO:tensorflow:Assets written to: C:\\Users\\PARK\\Documents\\LAB\\RNN vs LSTM\\FInal Example\\wandb\\run-20221016_023555-20c04pun\\files\\model-best\\assets\n",
      "\u001b[34m\u001b[1mwandb\u001b[0m: Adding directory to artifact (C:\\Users\\PARK\\Documents\\LAB\\RNN vs LSTM\\FInal Example\\wandb\\run-20221016_023555-20c04pun\\files\\model-best)... Done. 0.1s\n"
     ]
    },
    {
     "name": "stdout",
     "output_type": "stream",
     "text": [
      "5/5 [==============================] - 4s 1s/step - loss: 0.0031 - mae: 0.0443 - val_loss: 0.0048 - val_mae: 0.0552\n",
      "Epoch 602/2000\n",
      "5/5 [==============================] - 1s 118ms/step - loss: 0.0030 - mae: 0.0437 - val_loss: 0.0054 - val_mae: 0.0583\n",
      "Epoch 603/2000\n",
      "5/5 [==============================] - 0s 72ms/step - loss: 0.0031 - mae: 0.0440 - val_loss: 0.0051 - val_mae: 0.0566\n",
      "Epoch 604/2000\n",
      "5/5 [==============================] - 0s 71ms/step - loss: 0.0030 - mae: 0.0437 - val_loss: 0.0049 - val_mae: 0.0554\n",
      "Epoch 605/2000\n",
      "5/5 [==============================] - 0s 83ms/step - loss: 0.0030 - mae: 0.0430 - val_loss: 0.0052 - val_mae: 0.0575\n",
      "Epoch 606/2000\n",
      "5/5 [==============================] - 0s 72ms/step - loss: 0.0031 - mae: 0.0446 - val_loss: 0.0051 - val_mae: 0.0571\n",
      "Epoch 607/2000\n",
      "5/5 [==============================] - 0s 71ms/step - loss: 0.0030 - mae: 0.0437 - val_loss: 0.0051 - val_mae: 0.0567\n",
      "Epoch 608/2000\n",
      "5/5 [==============================] - 0s 71ms/step - loss: 0.0031 - mae: 0.0446 - val_loss: 0.0054 - val_mae: 0.0585\n",
      "Epoch 609/2000\n",
      "5/5 [==============================] - ETA: 0s - loss: 0.0032 - mae: 0.0454"
     ]
    },
    {
     "name": "stderr",
     "output_type": "stream",
     "text": [
      "WARNING:absl:Found untraced functions such as lstm_cell_layer_call_fn, lstm_cell_layer_call_and_return_conditional_losses while saving (showing 2 of 2). These functions will not be directly callable after loading.\n"
     ]
    },
    {
     "name": "stdout",
     "output_type": "stream",
     "text": [
      "INFO:tensorflow:Assets written to: C:\\Users\\PARK\\Documents\\LAB\\RNN vs LSTM\\FInal Example\\wandb\\run-20221016_023555-20c04pun\\files\\model-best\\assets\n"
     ]
    },
    {
     "name": "stderr",
     "output_type": "stream",
     "text": [
      "INFO:tensorflow:Assets written to: C:\\Users\\PARK\\Documents\\LAB\\RNN vs LSTM\\FInal Example\\wandb\\run-20221016_023555-20c04pun\\files\\model-best\\assets\n",
      "\u001b[34m\u001b[1mwandb\u001b[0m: Adding directory to artifact (C:\\Users\\PARK\\Documents\\LAB\\RNN vs LSTM\\FInal Example\\wandb\\run-20221016_023555-20c04pun\\files\\model-best)... Done. 0.1s\n"
     ]
    },
    {
     "name": "stdout",
     "output_type": "stream",
     "text": [
      "5/5 [==============================] - 4s 965ms/step - loss: 0.0032 - mae: 0.0454 - val_loss: 0.0047 - val_mae: 0.0545\n",
      "Epoch 610/2000\n",
      "5/5 [==============================] - 0s 99ms/step - loss: 0.0032 - mae: 0.0444 - val_loss: 0.0054 - val_mae: 0.0582\n",
      "Epoch 611/2000\n",
      "5/5 [==============================] - 0s 73ms/step - loss: 0.0031 - mae: 0.0442 - val_loss: 0.0049 - val_mae: 0.0551\n",
      "Epoch 612/2000\n",
      "5/5 [==============================] - 0s 73ms/step - loss: 0.0029 - mae: 0.0428 - val_loss: 0.0048 - val_mae: 0.0544\n",
      "Epoch 613/2000\n",
      "5/5 [==============================] - 0s 81ms/step - loss: 0.0029 - mae: 0.0426 - val_loss: 0.0050 - val_mae: 0.0560\n",
      "Epoch 614/2000\n",
      "5/5 [==============================] - 0s 72ms/step - loss: 0.0029 - mae: 0.0429 - val_loss: 0.0051 - val_mae: 0.0571\n",
      "Epoch 615/2000\n",
      "1/5 [=====>........................] - ETA: 0s - loss: 0.0034 - mae: 0.0475"
     ]
    },
    {
     "name": "stderr",
     "output_type": "stream",
     "text": [
      "WARNING:absl:Found untraced functions such as lstm_cell_layer_call_fn, lstm_cell_layer_call_and_return_conditional_losses while saving (showing 2 of 2). These functions will not be directly callable after loading.\n"
     ]
    },
    {
     "name": "stdout",
     "output_type": "stream",
     "text": [
      "INFO:tensorflow:Assets written to: C:\\Users\\PARK\\Documents\\LAB\\RNN vs LSTM\\FInal Example\\wandb\\run-20221016_023555-20c04pun\\files\\model-best\\assets\n"
     ]
    },
    {
     "name": "stderr",
     "output_type": "stream",
     "text": [
      "INFO:tensorflow:Assets written to: C:\\Users\\PARK\\Documents\\LAB\\RNN vs LSTM\\FInal Example\\wandb\\run-20221016_023555-20c04pun\\files\\model-best\\assets\n",
      "\u001b[34m\u001b[1mwandb\u001b[0m: Adding directory to artifact (C:\\Users\\PARK\\Documents\\LAB\\RNN vs LSTM\\FInal Example\\wandb\\run-20221016_023555-20c04pun\\files\\model-best)... Done. 0.1s\n"
     ]
    },
    {
     "name": "stdout",
     "output_type": "stream",
     "text": [
      "5/5 [==============================] - 4s 1s/step - loss: 0.0030 - mae: 0.0435 - val_loss: 0.0047 - val_mae: 0.0544\n",
      "Epoch 616/2000\n",
      "5/5 [==============================] - 0s 95ms/step - loss: 0.0031 - mae: 0.0446 - val_loss: 0.0053 - val_mae: 0.0576\n",
      "Epoch 617/2000\n",
      "5/5 [==============================] - 0s 75ms/step - loss: 0.0031 - mae: 0.0441 - val_loss: 0.0050 - val_mae: 0.0561\n",
      "Epoch 618/2000\n",
      "5/5 [==============================] - ETA: 0s - loss: 0.0029 - mae: 0.0431"
     ]
    },
    {
     "name": "stderr",
     "output_type": "stream",
     "text": [
      "WARNING:absl:Found untraced functions such as lstm_cell_layer_call_fn, lstm_cell_layer_call_and_return_conditional_losses while saving (showing 2 of 2). These functions will not be directly callable after loading.\n"
     ]
    },
    {
     "name": "stdout",
     "output_type": "stream",
     "text": [
      "INFO:tensorflow:Assets written to: C:\\Users\\PARK\\Documents\\LAB\\RNN vs LSTM\\FInal Example\\wandb\\run-20221016_023555-20c04pun\\files\\model-best\\assets\n"
     ]
    },
    {
     "name": "stderr",
     "output_type": "stream",
     "text": [
      "INFO:tensorflow:Assets written to: C:\\Users\\PARK\\Documents\\LAB\\RNN vs LSTM\\FInal Example\\wandb\\run-20221016_023555-20c04pun\\files\\model-best\\assets\n",
      "\u001b[34m\u001b[1mwandb\u001b[0m: Adding directory to artifact (C:\\Users\\PARK\\Documents\\LAB\\RNN vs LSTM\\FInal Example\\wandb\\run-20221016_023555-20c04pun\\files\\model-best)... Done. 0.1s\n"
     ]
    },
    {
     "name": "stdout",
     "output_type": "stream",
     "text": [
      "5/5 [==============================] - 5s 1s/step - loss: 0.0029 - mae: 0.0431 - val_loss: 0.0045 - val_mae: 0.0529\n",
      "Epoch 619/2000\n",
      "5/5 [==============================] - 0s 92ms/step - loss: 0.0027 - mae: 0.0410 - val_loss: 0.0046 - val_mae: 0.0540\n",
      "Epoch 620/2000\n",
      "1/5 [=====>........................] - ETA: 0s - loss: 0.0027 - mae: 0.0417"
     ]
    },
    {
     "name": "stderr",
     "output_type": "stream",
     "text": [
      "WARNING:absl:Found untraced functions such as lstm_cell_layer_call_fn, lstm_cell_layer_call_and_return_conditional_losses while saving (showing 2 of 2). These functions will not be directly callable after loading.\n"
     ]
    },
    {
     "name": "stdout",
     "output_type": "stream",
     "text": [
      "INFO:tensorflow:Assets written to: C:\\Users\\PARK\\Documents\\LAB\\RNN vs LSTM\\FInal Example\\wandb\\run-20221016_023555-20c04pun\\files\\model-best\\assets\n"
     ]
    },
    {
     "name": "stderr",
     "output_type": "stream",
     "text": [
      "INFO:tensorflow:Assets written to: C:\\Users\\PARK\\Documents\\LAB\\RNN vs LSTM\\FInal Example\\wandb\\run-20221016_023555-20c04pun\\files\\model-best\\assets\n",
      "\u001b[34m\u001b[1mwandb\u001b[0m: Adding directory to artifact (C:\\Users\\PARK\\Documents\\LAB\\RNN vs LSTM\\FInal Example\\wandb\\run-20221016_023555-20c04pun\\files\\model-best)... Done. 0.1s\n"
     ]
    },
    {
     "name": "stdout",
     "output_type": "stream",
     "text": [
      "5/5 [==============================] - 4s 986ms/step - loss: 0.0027 - mae: 0.0410 - val_loss: 0.0045 - val_mae: 0.0532\n",
      "Epoch 621/2000\n",
      "5/5 [==============================] - 1s 116ms/step - loss: 0.0027 - mae: 0.0409 - val_loss: 0.0046 - val_mae: 0.0540\n",
      "Epoch 622/2000\n",
      "5/5 [==============================] - 0s 72ms/step - loss: 0.0026 - mae: 0.0408 - val_loss: 0.0046 - val_mae: 0.0536\n",
      "Epoch 623/2000\n",
      "1/5 [=====>........................] - ETA: 0s - loss: 0.0023 - mae: 0.0382"
     ]
    },
    {
     "name": "stderr",
     "output_type": "stream",
     "text": [
      "WARNING:absl:Found untraced functions such as lstm_cell_layer_call_fn, lstm_cell_layer_call_and_return_conditional_losses while saving (showing 2 of 2). These functions will not be directly callable after loading.\n"
     ]
    },
    {
     "name": "stdout",
     "output_type": "stream",
     "text": [
      "INFO:tensorflow:Assets written to: C:\\Users\\PARK\\Documents\\LAB\\RNN vs LSTM\\FInal Example\\wandb\\run-20221016_023555-20c04pun\\files\\model-best\\assets\n"
     ]
    },
    {
     "name": "stderr",
     "output_type": "stream",
     "text": [
      "INFO:tensorflow:Assets written to: C:\\Users\\PARK\\Documents\\LAB\\RNN vs LSTM\\FInal Example\\wandb\\run-20221016_023555-20c04pun\\files\\model-best\\assets\n",
      "\u001b[34m\u001b[1mwandb\u001b[0m: Adding directory to artifact (C:\\Users\\PARK\\Documents\\LAB\\RNN vs LSTM\\FInal Example\\wandb\\run-20221016_023555-20c04pun\\files\\model-best)... Done. 0.1s\n"
     ]
    },
    {
     "name": "stdout",
     "output_type": "stream",
     "text": [
      "5/5 [==============================] - 4s 969ms/step - loss: 0.0026 - mae: 0.0406 - val_loss: 0.0045 - val_mae: 0.0527\n",
      "Epoch 624/2000\n",
      "5/5 [==============================] - 0s 98ms/step - loss: 0.0026 - mae: 0.0404 - val_loss: 0.0045 - val_mae: 0.0534\n",
      "Epoch 625/2000\n",
      "5/5 [==============================] - 0s 74ms/step - loss: 0.0026 - mae: 0.0407 - val_loss: 0.0048 - val_mae: 0.0544\n",
      "Epoch 626/2000\n",
      "5/5 [==============================] - 0s 73ms/step - loss: 0.0027 - mae: 0.0412 - val_loss: 0.0046 - val_mae: 0.0535\n",
      "Epoch 627/2000\n",
      "5/5 [==============================] - 0s 76ms/step - loss: 0.0025 - mae: 0.0397 - val_loss: 0.0047 - val_mae: 0.0540\n",
      "Epoch 628/2000\n",
      "1/5 [=====>........................] - ETA: 0s - loss: 0.0029 - mae: 0.0425"
     ]
    },
    {
     "name": "stderr",
     "output_type": "stream",
     "text": [
      "WARNING:absl:Found untraced functions such as lstm_cell_layer_call_fn, lstm_cell_layer_call_and_return_conditional_losses while saving (showing 2 of 2). These functions will not be directly callable after loading.\n"
     ]
    },
    {
     "name": "stdout",
     "output_type": "stream",
     "text": [
      "INFO:tensorflow:Assets written to: C:\\Users\\PARK\\Documents\\LAB\\RNN vs LSTM\\FInal Example\\wandb\\run-20221016_023555-20c04pun\\files\\model-best\\assets\n"
     ]
    },
    {
     "name": "stderr",
     "output_type": "stream",
     "text": [
      "INFO:tensorflow:Assets written to: C:\\Users\\PARK\\Documents\\LAB\\RNN vs LSTM\\FInal Example\\wandb\\run-20221016_023555-20c04pun\\files\\model-best\\assets\n",
      "\u001b[34m\u001b[1mwandb\u001b[0m: Adding directory to artifact (C:\\Users\\PARK\\Documents\\LAB\\RNN vs LSTM\\FInal Example\\wandb\\run-20221016_023555-20c04pun\\files\\model-best)... Done. 0.1s\n"
     ]
    },
    {
     "name": "stdout",
     "output_type": "stream",
     "text": [
      "5/5 [==============================] - 4s 1s/step - loss: 0.0026 - mae: 0.0400 - val_loss: 0.0044 - val_mae: 0.0531\n",
      "Epoch 629/2000\n",
      "5/5 [==============================] - 0s 95ms/step - loss: 0.0025 - mae: 0.0399 - val_loss: 0.0046 - val_mae: 0.0543\n",
      "Epoch 630/2000\n",
      "5/5 [==============================] - 0s 74ms/step - loss: 0.0027 - mae: 0.0413 - val_loss: 0.0049 - val_mae: 0.0557\n",
      "Epoch 631/2000\n",
      "1/5 [=====>........................] - ETA: 0s - loss: 0.0028 - mae: 0.0424"
     ]
    },
    {
     "name": "stderr",
     "output_type": "stream",
     "text": [
      "WARNING:absl:Found untraced functions such as lstm_cell_layer_call_fn, lstm_cell_layer_call_and_return_conditional_losses while saving (showing 2 of 2). These functions will not be directly callable after loading.\n"
     ]
    },
    {
     "name": "stdout",
     "output_type": "stream",
     "text": [
      "INFO:tensorflow:Assets written to: C:\\Users\\PARK\\Documents\\LAB\\RNN vs LSTM\\FInal Example\\wandb\\run-20221016_023555-20c04pun\\files\\model-best\\assets\n"
     ]
    },
    {
     "name": "stderr",
     "output_type": "stream",
     "text": [
      "INFO:tensorflow:Assets written to: C:\\Users\\PARK\\Documents\\LAB\\RNN vs LSTM\\FInal Example\\wandb\\run-20221016_023555-20c04pun\\files\\model-best\\assets\n",
      "\u001b[34m\u001b[1mwandb\u001b[0m: Adding directory to artifact (C:\\Users\\PARK\\Documents\\LAB\\RNN vs LSTM\\FInal Example\\wandb\\run-20221016_023555-20c04pun\\files\\model-best)... Done. 0.1s\n"
     ]
    },
    {
     "name": "stdout",
     "output_type": "stream",
     "text": [
      "5/5 [==============================] - 4s 1s/step - loss: 0.0026 - mae: 0.0407 - val_loss: 0.0043 - val_mae: 0.0517\n",
      "Epoch 632/2000\n",
      "5/5 [==============================] - 1s 121ms/step - loss: 0.0024 - mae: 0.0390 - val_loss: 0.0045 - val_mae: 0.0534\n",
      "Epoch 633/2000\n",
      "5/5 [==============================] - 0s 74ms/step - loss: 0.0025 - mae: 0.0394 - val_loss: 0.0043 - val_mae: 0.0517\n",
      "Epoch 634/2000\n",
      "5/5 [==============================] - 0s 77ms/step - loss: 0.0025 - mae: 0.0398 - val_loss: 0.0044 - val_mae: 0.0525\n",
      "Epoch 635/2000\n",
      "1/5 [=====>........................] - ETA: 0s - loss: 0.0023 - mae: 0.0377"
     ]
    },
    {
     "name": "stderr",
     "output_type": "stream",
     "text": [
      "WARNING:absl:Found untraced functions such as lstm_cell_layer_call_fn, lstm_cell_layer_call_and_return_conditional_losses while saving (showing 2 of 2). These functions will not be directly callable after loading.\n"
     ]
    },
    {
     "name": "stdout",
     "output_type": "stream",
     "text": [
      "INFO:tensorflow:Assets written to: C:\\Users\\PARK\\Documents\\LAB\\RNN vs LSTM\\FInal Example\\wandb\\run-20221016_023555-20c04pun\\files\\model-best\\assets\n"
     ]
    },
    {
     "name": "stderr",
     "output_type": "stream",
     "text": [
      "INFO:tensorflow:Assets written to: C:\\Users\\PARK\\Documents\\LAB\\RNN vs LSTM\\FInal Example\\wandb\\run-20221016_023555-20c04pun\\files\\model-best\\assets\n",
      "\u001b[34m\u001b[1mwandb\u001b[0m: Adding directory to artifact (C:\\Users\\PARK\\Documents\\LAB\\RNN vs LSTM\\FInal Example\\wandb\\run-20221016_023555-20c04pun\\files\\model-best)... Done. 0.1s\n"
     ]
    },
    {
     "name": "stdout",
     "output_type": "stream",
     "text": [
      "5/5 [==============================] - 4s 1s/step - loss: 0.0025 - mae: 0.0398 - val_loss: 0.0042 - val_mae: 0.0514\n",
      "Epoch 636/2000\n",
      "4/5 [=======================>......] - ETA: 0s - loss: 0.0025 - mae: 0.0391"
     ]
    },
    {
     "name": "stderr",
     "output_type": "stream",
     "text": [
      "WARNING:absl:Found untraced functions such as lstm_cell_layer_call_fn, lstm_cell_layer_call_and_return_conditional_losses while saving (showing 2 of 2). These functions will not be directly callable after loading.\n"
     ]
    },
    {
     "name": "stdout",
     "output_type": "stream",
     "text": [
      "INFO:tensorflow:Assets written to: C:\\Users\\PARK\\Documents\\LAB\\RNN vs LSTM\\FInal Example\\wandb\\run-20221016_023555-20c04pun\\files\\model-best\\assets\n"
     ]
    },
    {
     "name": "stderr",
     "output_type": "stream",
     "text": [
      "INFO:tensorflow:Assets written to: C:\\Users\\PARK\\Documents\\LAB\\RNN vs LSTM\\FInal Example\\wandb\\run-20221016_023555-20c04pun\\files\\model-best\\assets\n",
      "\u001b[34m\u001b[1mwandb\u001b[0m: Adding directory to artifact (C:\\Users\\PARK\\Documents\\LAB\\RNN vs LSTM\\FInal Example\\wandb\\run-20221016_023555-20c04pun\\files\\model-best)... Done. 0.1s\n"
     ]
    },
    {
     "name": "stdout",
     "output_type": "stream",
     "text": [
      "5/5 [==============================] - 4s 1s/step - loss: 0.0024 - mae: 0.0390 - val_loss: 0.0042 - val_mae: 0.0516\n",
      "Epoch 637/2000\n",
      "5/5 [==============================] - 1s 110ms/step - loss: 0.0024 - mae: 0.0384 - val_loss: 0.0043 - val_mae: 0.0522\n",
      "Epoch 638/2000\n",
      "5/5 [==============================] - 0s 74ms/step - loss: 0.0023 - mae: 0.0381 - val_loss: 0.0045 - val_mae: 0.0528\n",
      "Epoch 639/2000\n",
      "5/5 [==============================] - 0s 73ms/step - loss: 0.0024 - mae: 0.0391 - val_loss: 0.0044 - val_mae: 0.0522\n",
      "Epoch 640/2000\n",
      "1/5 [=====>........................] - ETA: 0s - loss: 0.0024 - mae: 0.0390"
     ]
    },
    {
     "name": "stderr",
     "output_type": "stream",
     "text": [
      "WARNING:absl:Found untraced functions such as lstm_cell_layer_call_fn, lstm_cell_layer_call_and_return_conditional_losses while saving (showing 2 of 2). These functions will not be directly callable after loading.\n"
     ]
    },
    {
     "name": "stdout",
     "output_type": "stream",
     "text": [
      "INFO:tensorflow:Assets written to: C:\\Users\\PARK\\Documents\\LAB\\RNN vs LSTM\\FInal Example\\wandb\\run-20221016_023555-20c04pun\\files\\model-best\\assets\n"
     ]
    },
    {
     "name": "stderr",
     "output_type": "stream",
     "text": [
      "INFO:tensorflow:Assets written to: C:\\Users\\PARK\\Documents\\LAB\\RNN vs LSTM\\FInal Example\\wandb\\run-20221016_023555-20c04pun\\files\\model-best\\assets\n",
      "\u001b[34m\u001b[1mwandb\u001b[0m: Adding directory to artifact (C:\\Users\\PARK\\Documents\\LAB\\RNN vs LSTM\\FInal Example\\wandb\\run-20221016_023555-20c04pun\\files\\model-best)... Done. 0.1s\n"
     ]
    },
    {
     "name": "stdout",
     "output_type": "stream",
     "text": [
      "5/5 [==============================] - 4s 1s/step - loss: 0.0024 - mae: 0.0387 - val_loss: 0.0041 - val_mae: 0.0508\n",
      "Epoch 641/2000\n",
      "5/5 [==============================] - 1s 113ms/step - loss: 0.0023 - mae: 0.0379 - val_loss: 0.0042 - val_mae: 0.0511\n",
      "Epoch 642/2000\n",
      "5/5 [==============================] - 0s 73ms/step - loss: 0.0023 - mae: 0.0380 - val_loss: 0.0041 - val_mae: 0.0508\n",
      "Epoch 643/2000\n",
      "5/5 [==============================] - 0s 72ms/step - loss: 0.0023 - mae: 0.0378 - val_loss: 0.0042 - val_mae: 0.0513\n",
      "Epoch 644/2000\n",
      "5/5 [==============================] - 0s 72ms/step - loss: 0.0023 - mae: 0.0379 - val_loss: 0.0044 - val_mae: 0.0528\n",
      "Epoch 645/2000\n",
      "5/5 [==============================] - 0s 74ms/step - loss: 0.0025 - mae: 0.0394 - val_loss: 0.0044 - val_mae: 0.0516\n",
      "Epoch 646/2000\n",
      "5/5 [==============================] - 0s 74ms/step - loss: 0.0026 - mae: 0.0405 - val_loss: 0.0047 - val_mae: 0.0547\n",
      "Epoch 647/2000\n",
      "5/5 [==============================] - 0s 71ms/step - loss: 0.0026 - mae: 0.0406 - val_loss: 0.0042 - val_mae: 0.0515\n",
      "Epoch 648/2000\n",
      "5/5 [==============================] - 0s 78ms/step - loss: 0.0032 - mae: 0.0447 - val_loss: 0.0055 - val_mae: 0.0589\n",
      "Epoch 649/2000\n",
      "5/5 [==============================] - 0s 72ms/step - loss: 0.0037 - mae: 0.0475 - val_loss: 0.0045 - val_mae: 0.0526\n",
      "Epoch 650/2000\n",
      "5/5 [==============================] - 0s 73ms/step - loss: 0.0048 - mae: 0.0548 - val_loss: 0.0099 - val_mae: 0.0801\n",
      "Epoch 651/2000\n",
      "5/5 [==============================] - 0s 76ms/step - loss: 0.0058 - mae: 0.0613 - val_loss: 0.0052 - val_mae: 0.0570\n",
      "Epoch 652/2000\n",
      "5/5 [==============================] - 0s 70ms/step - loss: 0.0048 - mae: 0.0557 - val_loss: 0.0048 - val_mae: 0.0553\n",
      "Epoch 653/2000\n",
      "5/5 [==============================] - 0s 71ms/step - loss: 0.0038 - mae: 0.0491 - val_loss: 0.0065 - val_mae: 0.0645\n",
      "Epoch 654/2000\n",
      "5/5 [==============================] - 0s 72ms/step - loss: 0.0035 - mae: 0.0467 - val_loss: 0.0062 - val_mae: 0.0634\n",
      "Epoch 655/2000\n",
      "5/5 [==============================] - 0s 74ms/step - loss: 0.0036 - mae: 0.0477 - val_loss: 0.0046 - val_mae: 0.0541\n",
      "Epoch 656/2000\n",
      "5/5 [==============================] - 0s 73ms/step - loss: 0.0028 - mae: 0.0423 - val_loss: 0.0046 - val_mae: 0.0538\n",
      "Epoch 657/2000\n",
      "5/5 [==============================] - 0s 71ms/step - loss: 0.0026 - mae: 0.0402 - val_loss: 0.0047 - val_mae: 0.0538\n",
      "Epoch 658/2000\n",
      "5/5 [==============================] - 0s 76ms/step - loss: 0.0026 - mae: 0.0398 - val_loss: 0.0043 - val_mae: 0.0524\n",
      "Epoch 659/2000\n",
      "1/5 [=====>........................] - ETA: 0s - loss: 0.0020 - mae: 0.0356"
     ]
    },
    {
     "name": "stderr",
     "output_type": "stream",
     "text": [
      "WARNING:absl:Found untraced functions such as lstm_cell_layer_call_fn, lstm_cell_layer_call_and_return_conditional_losses while saving (showing 2 of 2). These functions will not be directly callable after loading.\n"
     ]
    },
    {
     "name": "stdout",
     "output_type": "stream",
     "text": [
      "INFO:tensorflow:Assets written to: C:\\Users\\PARK\\Documents\\LAB\\RNN vs LSTM\\FInal Example\\wandb\\run-20221016_023555-20c04pun\\files\\model-best\\assets\n"
     ]
    },
    {
     "name": "stderr",
     "output_type": "stream",
     "text": [
      "INFO:tensorflow:Assets written to: C:\\Users\\PARK\\Documents\\LAB\\RNN vs LSTM\\FInal Example\\wandb\\run-20221016_023555-20c04pun\\files\\model-best\\assets\n",
      "\u001b[34m\u001b[1mwandb\u001b[0m: Adding directory to artifact (C:\\Users\\PARK\\Documents\\LAB\\RNN vs LSTM\\FInal Example\\wandb\\run-20221016_023555-20c04pun\\files\\model-best)... Done. 0.1s\n"
     ]
    },
    {
     "name": "stdout",
     "output_type": "stream",
     "text": [
      "5/5 [==============================] - 4s 978ms/step - loss: 0.0023 - mae: 0.0382 - val_loss: 0.0040 - val_mae: 0.0501\n",
      "Epoch 660/2000\n",
      "5/5 [==============================] - 0s 101ms/step - loss: 0.0022 - mae: 0.0373 - val_loss: 0.0040 - val_mae: 0.0503\n",
      "Epoch 661/2000\n",
      "1/5 [=====>........................] - ETA: 0s - loss: 0.0020 - mae: 0.0354"
     ]
    },
    {
     "name": "stderr",
     "output_type": "stream",
     "text": [
      "WARNING:absl:Found untraced functions such as lstm_cell_layer_call_fn, lstm_cell_layer_call_and_return_conditional_losses while saving (showing 2 of 2). These functions will not be directly callable after loading.\n"
     ]
    },
    {
     "name": "stdout",
     "output_type": "stream",
     "text": [
      "INFO:tensorflow:Assets written to: C:\\Users\\PARK\\Documents\\LAB\\RNN vs LSTM\\FInal Example\\wandb\\run-20221016_023555-20c04pun\\files\\model-best\\assets\n"
     ]
    },
    {
     "name": "stderr",
     "output_type": "stream",
     "text": [
      "INFO:tensorflow:Assets written to: C:\\Users\\PARK\\Documents\\LAB\\RNN vs LSTM\\FInal Example\\wandb\\run-20221016_023555-20c04pun\\files\\model-best\\assets\n",
      "\u001b[34m\u001b[1mwandb\u001b[0m: Adding directory to artifact (C:\\Users\\PARK\\Documents\\LAB\\RNN vs LSTM\\FInal Example\\wandb\\run-20221016_023555-20c04pun\\files\\model-best)... Done. 0.1s\n"
     ]
    },
    {
     "name": "stdout",
     "output_type": "stream",
     "text": [
      "5/5 [==============================] - 4s 1s/step - loss: 0.0022 - mae: 0.0374 - val_loss: 0.0040 - val_mae: 0.0503\n",
      "Epoch 662/2000\n",
      "5/5 [==============================] - 1s 127ms/step - loss: 0.0022 - mae: 0.0373 - val_loss: 0.0041 - val_mae: 0.0508\n",
      "Epoch 663/2000\n",
      "1/5 [=====>........................] - ETA: 0s - loss: 0.0023 - mae: 0.0383"
     ]
    },
    {
     "name": "stderr",
     "output_type": "stream",
     "text": [
      "WARNING:absl:Found untraced functions such as lstm_cell_layer_call_fn, lstm_cell_layer_call_and_return_conditional_losses while saving (showing 2 of 2). These functions will not be directly callable after loading.\n"
     ]
    },
    {
     "name": "stdout",
     "output_type": "stream",
     "text": [
      "INFO:tensorflow:Assets written to: C:\\Users\\PARK\\Documents\\LAB\\RNN vs LSTM\\FInal Example\\wandb\\run-20221016_023555-20c04pun\\files\\model-best\\assets\n"
     ]
    },
    {
     "name": "stderr",
     "output_type": "stream",
     "text": [
      "INFO:tensorflow:Assets written to: C:\\Users\\PARK\\Documents\\LAB\\RNN vs LSTM\\FInal Example\\wandb\\run-20221016_023555-20c04pun\\files\\model-best\\assets\n",
      "\u001b[34m\u001b[1mwandb\u001b[0m: Adding directory to artifact (C:\\Users\\PARK\\Documents\\LAB\\RNN vs LSTM\\FInal Example\\wandb\\run-20221016_023555-20c04pun\\files\\model-best)... Done. 0.1s\n"
     ]
    },
    {
     "name": "stdout",
     "output_type": "stream",
     "text": [
      "5/5 [==============================] - 4s 1s/step - loss: 0.0023 - mae: 0.0375 - val_loss: 0.0039 - val_mae: 0.0497\n",
      "Epoch 664/2000\n",
      "5/5 [==============================] - 1s 120ms/step - loss: 0.0023 - mae: 0.0378 - val_loss: 0.0040 - val_mae: 0.0495\n",
      "Epoch 665/2000\n",
      "5/5 [==============================] - 0s 75ms/step - loss: 0.0022 - mae: 0.0368 - val_loss: 0.0041 - val_mae: 0.0504\n",
      "Epoch 666/2000\n",
      "5/5 [==============================] - 0s 74ms/step - loss: 0.0021 - mae: 0.0360 - val_loss: 0.0039 - val_mae: 0.0494\n",
      "Epoch 667/2000\n",
      "5/5 [==============================] - 0s 72ms/step - loss: 0.0021 - mae: 0.0366 - val_loss: 0.0039 - val_mae: 0.0498\n",
      "Epoch 668/2000\n",
      "5/5 [==============================] - 0s 86ms/step - loss: 0.0022 - mae: 0.0369 - val_loss: 0.0040 - val_mae: 0.0500\n",
      "Epoch 669/2000\n",
      "5/5 [==============================] - 0s 74ms/step - loss: 0.0021 - mae: 0.0363 - val_loss: 0.0042 - val_mae: 0.0509\n",
      "Epoch 670/2000\n",
      "5/5 [==============================] - 0s 73ms/step - loss: 0.0021 - mae: 0.0367 - val_loss: 0.0043 - val_mae: 0.0517\n",
      "Epoch 671/2000\n",
      "1/5 [=====>........................] - ETA: 0s - loss: 0.0025 - mae: 0.0396"
     ]
    },
    {
     "name": "stderr",
     "output_type": "stream",
     "text": [
      "WARNING:absl:Found untraced functions such as lstm_cell_layer_call_fn, lstm_cell_layer_call_and_return_conditional_losses while saving (showing 2 of 2). These functions will not be directly callable after loading.\n"
     ]
    },
    {
     "name": "stdout",
     "output_type": "stream",
     "text": [
      "INFO:tensorflow:Assets written to: C:\\Users\\PARK\\Documents\\LAB\\RNN vs LSTM\\FInal Example\\wandb\\run-20221016_023555-20c04pun\\files\\model-best\\assets\n"
     ]
    },
    {
     "name": "stderr",
     "output_type": "stream",
     "text": [
      "INFO:tensorflow:Assets written to: C:\\Users\\PARK\\Documents\\LAB\\RNN vs LSTM\\FInal Example\\wandb\\run-20221016_023555-20c04pun\\files\\model-best\\assets\n",
      "\u001b[34m\u001b[1mwandb\u001b[0m: Adding directory to artifact (C:\\Users\\PARK\\Documents\\LAB\\RNN vs LSTM\\FInal Example\\wandb\\run-20221016_023555-20c04pun\\files\\model-best)... Done. 0.1s\n"
     ]
    },
    {
     "name": "stdout",
     "output_type": "stream",
     "text": [
      "5/5 [==============================] - 4s 1s/step - loss: 0.0022 - mae: 0.0375 - val_loss: 0.0038 - val_mae: 0.0490\n",
      "Epoch 672/2000\n",
      "5/5 [==============================] - 1s 123ms/step - loss: 0.0023 - mae: 0.0377 - val_loss: 0.0039 - val_mae: 0.0494\n",
      "Epoch 673/2000\n",
      "4/5 [=======================>......] - ETA: 0s - loss: 0.0020 - mae: 0.0358"
     ]
    },
    {
     "name": "stderr",
     "output_type": "stream",
     "text": [
      "WARNING:absl:Found untraced functions such as lstm_cell_layer_call_fn, lstm_cell_layer_call_and_return_conditional_losses while saving (showing 2 of 2). These functions will not be directly callable after loading.\n"
     ]
    },
    {
     "name": "stdout",
     "output_type": "stream",
     "text": [
      "INFO:tensorflow:Assets written to: C:\\Users\\PARK\\Documents\\LAB\\RNN vs LSTM\\FInal Example\\wandb\\run-20221016_023555-20c04pun\\files\\model-best\\assets\n"
     ]
    },
    {
     "name": "stderr",
     "output_type": "stream",
     "text": [
      "INFO:tensorflow:Assets written to: C:\\Users\\PARK\\Documents\\LAB\\RNN vs LSTM\\FInal Example\\wandb\\run-20221016_023555-20c04pun\\files\\model-best\\assets\n",
      "\u001b[34m\u001b[1mwandb\u001b[0m: Adding directory to artifact (C:\\Users\\PARK\\Documents\\LAB\\RNN vs LSTM\\FInal Example\\wandb\\run-20221016_023555-20c04pun\\files\\model-best)... Done. 0.1s\n"
     ]
    },
    {
     "name": "stdout",
     "output_type": "stream",
     "text": [
      "5/5 [==============================] - 4s 1s/step - loss: 0.0020 - mae: 0.0359 - val_loss: 0.0038 - val_mae: 0.0496\n",
      "Epoch 674/2000\n",
      "5/5 [==============================] - 1s 114ms/step - loss: 0.0021 - mae: 0.0360 - val_loss: 0.0040 - val_mae: 0.0497\n",
      "Epoch 675/2000\n",
      "5/5 [==============================] - 0s 74ms/step - loss: 0.0022 - mae: 0.0367 - val_loss: 0.0046 - val_mae: 0.0539\n",
      "Epoch 676/2000\n",
      "5/5 [==============================] - 0s 73ms/step - loss: 0.0023 - mae: 0.0377 - val_loss: 0.0041 - val_mae: 0.0509\n",
      "Epoch 677/2000\n",
      "5/5 [==============================] - 0s 72ms/step - loss: 0.0023 - mae: 0.0378 - val_loss: 0.0040 - val_mae: 0.0507\n",
      "Epoch 678/2000\n",
      "5/5 [==============================] - 0s 79ms/step - loss: 0.0024 - mae: 0.0388 - val_loss: 0.0045 - val_mae: 0.0528\n",
      "Epoch 679/2000\n",
      "5/5 [==============================] - 0s 72ms/step - loss: 0.0022 - mae: 0.0375 - val_loss: 0.0040 - val_mae: 0.0500\n",
      "Epoch 680/2000\n",
      "1/5 [=====>........................] - ETA: 0s - loss: 0.0017 - mae: 0.0330"
     ]
    },
    {
     "name": "stderr",
     "output_type": "stream",
     "text": [
      "WARNING:absl:Found untraced functions such as lstm_cell_layer_call_fn, lstm_cell_layer_call_and_return_conditional_losses while saving (showing 2 of 2). These functions will not be directly callable after loading.\n"
     ]
    },
    {
     "name": "stdout",
     "output_type": "stream",
     "text": [
      "INFO:tensorflow:Assets written to: C:\\Users\\PARK\\Documents\\LAB\\RNN vs LSTM\\FInal Example\\wandb\\run-20221016_023555-20c04pun\\files\\model-best\\assets\n"
     ]
    },
    {
     "name": "stderr",
     "output_type": "stream",
     "text": [
      "INFO:tensorflow:Assets written to: C:\\Users\\PARK\\Documents\\LAB\\RNN vs LSTM\\FInal Example\\wandb\\run-20221016_023555-20c04pun\\files\\model-best\\assets\n",
      "\u001b[34m\u001b[1mwandb\u001b[0m: Adding directory to artifact (C:\\Users\\PARK\\Documents\\LAB\\RNN vs LSTM\\FInal Example\\wandb\\run-20221016_023555-20c04pun\\files\\model-best)... Done. 0.1s\n"
     ]
    },
    {
     "name": "stdout",
     "output_type": "stream",
     "text": [
      "5/5 [==============================] - 4s 1s/step - loss: 0.0022 - mae: 0.0368 - val_loss: 0.0037 - val_mae: 0.0489\n",
      "Epoch 681/2000\n",
      "5/5 [==============================] - 0s 106ms/step - loss: 0.0020 - mae: 0.0354 - val_loss: 0.0039 - val_mae: 0.0490\n",
      "Epoch 682/2000\n",
      "1/5 [=====>........................] - ETA: 0s - loss: 0.0019 - mae: 0.0353"
     ]
    },
    {
     "name": "stderr",
     "output_type": "stream",
     "text": [
      "WARNING:absl:Found untraced functions such as lstm_cell_layer_call_fn, lstm_cell_layer_call_and_return_conditional_losses while saving (showing 2 of 2). These functions will not be directly callable after loading.\n"
     ]
    },
    {
     "name": "stdout",
     "output_type": "stream",
     "text": [
      "INFO:tensorflow:Assets written to: C:\\Users\\PARK\\Documents\\LAB\\RNN vs LSTM\\FInal Example\\wandb\\run-20221016_023555-20c04pun\\files\\model-best\\assets\n"
     ]
    },
    {
     "name": "stderr",
     "output_type": "stream",
     "text": [
      "INFO:tensorflow:Assets written to: C:\\Users\\PARK\\Documents\\LAB\\RNN vs LSTM\\FInal Example\\wandb\\run-20221016_023555-20c04pun\\files\\model-best\\assets\n",
      "\u001b[34m\u001b[1mwandb\u001b[0m: Adding directory to artifact (C:\\Users\\PARK\\Documents\\LAB\\RNN vs LSTM\\FInal Example\\wandb\\run-20221016_023555-20c04pun\\files\\model-best)... Done. 0.1s\n"
     ]
    },
    {
     "name": "stdout",
     "output_type": "stream",
     "text": [
      "5/5 [==============================] - 4s 1s/step - loss: 0.0019 - mae: 0.0350 - val_loss: 0.0037 - val_mae: 0.0482\n",
      "Epoch 683/2000\n",
      "5/5 [==============================] - 1s 132ms/step - loss: 0.0020 - mae: 0.0357 - val_loss: 0.0038 - val_mae: 0.0487\n",
      "Epoch 684/2000\n",
      "1/5 [=====>........................] - ETA: 0s - loss: 0.0020 - mae: 0.0357"
     ]
    },
    {
     "name": "stderr",
     "output_type": "stream",
     "text": [
      "WARNING:absl:Found untraced functions such as lstm_cell_layer_call_fn, lstm_cell_layer_call_and_return_conditional_losses while saving (showing 2 of 2). These functions will not be directly callable after loading.\n"
     ]
    },
    {
     "name": "stdout",
     "output_type": "stream",
     "text": [
      "INFO:tensorflow:Assets written to: C:\\Users\\PARK\\Documents\\LAB\\RNN vs LSTM\\FInal Example\\wandb\\run-20221016_023555-20c04pun\\files\\model-best\\assets\n"
     ]
    },
    {
     "name": "stderr",
     "output_type": "stream",
     "text": [
      "INFO:tensorflow:Assets written to: C:\\Users\\PARK\\Documents\\LAB\\RNN vs LSTM\\FInal Example\\wandb\\run-20221016_023555-20c04pun\\files\\model-best\\assets\n",
      "\u001b[34m\u001b[1mwandb\u001b[0m: Adding directory to artifact (C:\\Users\\PARK\\Documents\\LAB\\RNN vs LSTM\\FInal Example\\wandb\\run-20221016_023555-20c04pun\\files\\model-best)... Done. 0.1s\n"
     ]
    },
    {
     "name": "stdout",
     "output_type": "stream",
     "text": [
      "5/5 [==============================] - 4s 1s/step - loss: 0.0019 - mae: 0.0342 - val_loss: 0.0036 - val_mae: 0.0475\n",
      "Epoch 685/2000\n",
      "5/5 [==============================] - 1s 114ms/step - loss: 0.0019 - mae: 0.0346 - val_loss: 0.0038 - val_mae: 0.0486\n",
      "Epoch 686/2000\n",
      "5/5 [==============================] - 0s 76ms/step - loss: 0.0020 - mae: 0.0354 - val_loss: 0.0046 - val_mae: 0.0535\n",
      "Epoch 687/2000\n",
      "5/5 [==============================] - 0s 77ms/step - loss: 0.0022 - mae: 0.0376 - val_loss: 0.0037 - val_mae: 0.0485\n",
      "Epoch 688/2000\n",
      "5/5 [==============================] - 0s 80ms/step - loss: 0.0022 - mae: 0.0370 - val_loss: 0.0040 - val_mae: 0.0506\n",
      "Epoch 689/2000\n",
      "5/5 [==============================] - 0s 72ms/step - loss: 0.0021 - mae: 0.0364 - val_loss: 0.0037 - val_mae: 0.0484\n",
      "Epoch 690/2000\n",
      "5/5 [==============================] - 0s 71ms/step - loss: 0.0019 - mae: 0.0348 - val_loss: 0.0037 - val_mae: 0.0483\n",
      "Epoch 691/2000\n",
      "5/5 [==============================] - 0s 81ms/step - loss: 0.0019 - mae: 0.0351 - val_loss: 0.0040 - val_mae: 0.0503\n",
      "Epoch 692/2000\n",
      "5/5 [==============================] - 0s 71ms/step - loss: 0.0022 - mae: 0.0370 - val_loss: 0.0039 - val_mae: 0.0491\n",
      "Epoch 693/2000\n",
      "5/5 [==============================] - 0s 71ms/step - loss: 0.0020 - mae: 0.0350 - val_loss: 0.0037 - val_mae: 0.0485\n",
      "Epoch 694/2000\n",
      "1/5 [=====>........................] - ETA: 0s - loss: 0.0020 - mae: 0.0352"
     ]
    },
    {
     "name": "stderr",
     "output_type": "stream",
     "text": [
      "WARNING:absl:Found untraced functions such as lstm_cell_layer_call_fn, lstm_cell_layer_call_and_return_conditional_losses while saving (showing 2 of 2). These functions will not be directly callable after loading.\n"
     ]
    },
    {
     "name": "stdout",
     "output_type": "stream",
     "text": [
      "INFO:tensorflow:Assets written to: C:\\Users\\PARK\\Documents\\LAB\\RNN vs LSTM\\FInal Example\\wandb\\run-20221016_023555-20c04pun\\files\\model-best\\assets\n"
     ]
    },
    {
     "name": "stderr",
     "output_type": "stream",
     "text": [
      "INFO:tensorflow:Assets written to: C:\\Users\\PARK\\Documents\\LAB\\RNN vs LSTM\\FInal Example\\wandb\\run-20221016_023555-20c04pun\\files\\model-best\\assets\n",
      "\u001b[34m\u001b[1mwandb\u001b[0m: Adding directory to artifact (C:\\Users\\PARK\\Documents\\LAB\\RNN vs LSTM\\FInal Example\\wandb\\run-20221016_023555-20c04pun\\files\\model-best)... Done. 0.1s\n"
     ]
    },
    {
     "name": "stdout",
     "output_type": "stream",
     "text": [
      "5/5 [==============================] - 4s 979ms/step - loss: 0.0020 - mae: 0.0355 - val_loss: 0.0035 - val_mae: 0.0474\n",
      "Epoch 695/2000\n",
      "5/5 [==============================] - 1s 115ms/step - loss: 0.0019 - mae: 0.0340 - val_loss: 0.0039 - val_mae: 0.0498\n",
      "Epoch 696/2000\n",
      "5/5 [==============================] - 0s 73ms/step - loss: 0.0019 - mae: 0.0344 - val_loss: 0.0039 - val_mae: 0.0494\n",
      "Epoch 697/2000\n",
      "5/5 [==============================] - 0s 72ms/step - loss: 0.0019 - mae: 0.0343 - val_loss: 0.0036 - val_mae: 0.0484\n",
      "Epoch 698/2000\n",
      "5/5 [==============================] - 0s 72ms/step - loss: 0.0018 - mae: 0.0335 - val_loss: 0.0036 - val_mae: 0.0472\n",
      "Epoch 699/2000\n",
      "1/5 [=====>........................] - ETA: 0s - loss: 0.0017 - mae: 0.0327"
     ]
    },
    {
     "name": "stderr",
     "output_type": "stream",
     "text": [
      "WARNING:absl:Found untraced functions such as lstm_cell_layer_call_fn, lstm_cell_layer_call_and_return_conditional_losses while saving (showing 2 of 2). These functions will not be directly callable after loading.\n"
     ]
    },
    {
     "name": "stdout",
     "output_type": "stream",
     "text": [
      "INFO:tensorflow:Assets written to: C:\\Users\\PARK\\Documents\\LAB\\RNN vs LSTM\\FInal Example\\wandb\\run-20221016_023555-20c04pun\\files\\model-best\\assets\n"
     ]
    },
    {
     "name": "stderr",
     "output_type": "stream",
     "text": [
      "INFO:tensorflow:Assets written to: C:\\Users\\PARK\\Documents\\LAB\\RNN vs LSTM\\FInal Example\\wandb\\run-20221016_023555-20c04pun\\files\\model-best\\assets\n",
      "\u001b[34m\u001b[1mwandb\u001b[0m: Adding directory to artifact (C:\\Users\\PARK\\Documents\\LAB\\RNN vs LSTM\\FInal Example\\wandb\\run-20221016_023555-20c04pun\\files\\model-best)... Done. 0.1s\n"
     ]
    },
    {
     "name": "stdout",
     "output_type": "stream",
     "text": [
      "5/5 [==============================] - 4s 1s/step - loss: 0.0018 - mae: 0.0334 - val_loss: 0.0035 - val_mae: 0.0473\n",
      "Epoch 700/2000\n",
      "5/5 [==============================] - 1s 116ms/step - loss: 0.0018 - mae: 0.0333 - val_loss: 0.0037 - val_mae: 0.0478\n",
      "Epoch 701/2000\n",
      "1/5 [=====>........................] - ETA: 0s - loss: 0.0018 - mae: 0.0335"
     ]
    },
    {
     "name": "stderr",
     "output_type": "stream",
     "text": [
      "WARNING:absl:Found untraced functions such as lstm_cell_layer_call_fn, lstm_cell_layer_call_and_return_conditional_losses while saving (showing 2 of 2). These functions will not be directly callable after loading.\n"
     ]
    },
    {
     "name": "stdout",
     "output_type": "stream",
     "text": [
      "INFO:tensorflow:Assets written to: C:\\Users\\PARK\\Documents\\LAB\\RNN vs LSTM\\FInal Example\\wandb\\run-20221016_023555-20c04pun\\files\\model-best\\assets\n"
     ]
    },
    {
     "name": "stderr",
     "output_type": "stream",
     "text": [
      "INFO:tensorflow:Assets written to: C:\\Users\\PARK\\Documents\\LAB\\RNN vs LSTM\\FInal Example\\wandb\\run-20221016_023555-20c04pun\\files\\model-best\\assets\n",
      "\u001b[34m\u001b[1mwandb\u001b[0m: Adding directory to artifact (C:\\Users\\PARK\\Documents\\LAB\\RNN vs LSTM\\FInal Example\\wandb\\run-20221016_023555-20c04pun\\files\\model-best)... Done. 0.1s\n"
     ]
    },
    {
     "name": "stdout",
     "output_type": "stream",
     "text": [
      "5/5 [==============================] - 4s 998ms/step - loss: 0.0018 - mae: 0.0334 - val_loss: 0.0035 - val_mae: 0.0469\n",
      "Epoch 702/2000\n",
      "5/5 [==============================] - 0s 85ms/step - loss: 0.0018 - mae: 0.0340 - val_loss: 0.0035 - val_mae: 0.0471\n",
      "Epoch 703/2000\n",
      "1/5 [=====>........................] - ETA: 0s - loss: 0.0016 - mae: 0.0323"
     ]
    },
    {
     "name": "stderr",
     "output_type": "stream",
     "text": [
      "WARNING:absl:Found untraced functions such as lstm_cell_layer_call_fn, lstm_cell_layer_call_and_return_conditional_losses while saving (showing 2 of 2). These functions will not be directly callable after loading.\n"
     ]
    },
    {
     "name": "stdout",
     "output_type": "stream",
     "text": [
      "INFO:tensorflow:Assets written to: C:\\Users\\PARK\\Documents\\LAB\\RNN vs LSTM\\FInal Example\\wandb\\run-20221016_023555-20c04pun\\files\\model-best\\assets\n"
     ]
    },
    {
     "name": "stderr",
     "output_type": "stream",
     "text": [
      "INFO:tensorflow:Assets written to: C:\\Users\\PARK\\Documents\\LAB\\RNN vs LSTM\\FInal Example\\wandb\\run-20221016_023555-20c04pun\\files\\model-best\\assets\n",
      "\u001b[34m\u001b[1mwandb\u001b[0m: Adding directory to artifact (C:\\Users\\PARK\\Documents\\LAB\\RNN vs LSTM\\FInal Example\\wandb\\run-20221016_023555-20c04pun\\files\\model-best)... Done. 0.1s\n"
     ]
    },
    {
     "name": "stdout",
     "output_type": "stream",
     "text": [
      "5/5 [==============================] - 4s 1s/step - loss: 0.0018 - mae: 0.0333 - val_loss: 0.0035 - val_mae: 0.0469\n",
      "Epoch 704/2000\n",
      "5/5 [==============================] - 1s 116ms/step - loss: 0.0018 - mae: 0.0339 - val_loss: 0.0035 - val_mae: 0.0470\n",
      "Epoch 705/2000\n",
      "1/5 [=====>........................] - ETA: 0s - loss: 0.0017 - mae: 0.0325"
     ]
    },
    {
     "name": "stderr",
     "output_type": "stream",
     "text": [
      "WARNING:absl:Found untraced functions such as lstm_cell_layer_call_fn, lstm_cell_layer_call_and_return_conditional_losses while saving (showing 2 of 2). These functions will not be directly callable after loading.\n"
     ]
    },
    {
     "name": "stdout",
     "output_type": "stream",
     "text": [
      "INFO:tensorflow:Assets written to: C:\\Users\\PARK\\Documents\\LAB\\RNN vs LSTM\\FInal Example\\wandb\\run-20221016_023555-20c04pun\\files\\model-best\\assets\n"
     ]
    },
    {
     "name": "stderr",
     "output_type": "stream",
     "text": [
      "INFO:tensorflow:Assets written to: C:\\Users\\PARK\\Documents\\LAB\\RNN vs LSTM\\FInal Example\\wandb\\run-20221016_023555-20c04pun\\files\\model-best\\assets\n",
      "\u001b[34m\u001b[1mwandb\u001b[0m: Adding directory to artifact (C:\\Users\\PARK\\Documents\\LAB\\RNN vs LSTM\\FInal Example\\wandb\\run-20221016_023555-20c04pun\\files\\model-best)... Done. 0.1s\n"
     ]
    },
    {
     "name": "stdout",
     "output_type": "stream",
     "text": [
      "5/5 [==============================] - 4s 951ms/step - loss: 0.0017 - mae: 0.0333 - val_loss: 0.0034 - val_mae: 0.0463\n",
      "Epoch 706/2000\n",
      "5/5 [==============================] - 1s 118ms/step - loss: 0.0017 - mae: 0.0324 - val_loss: 0.0035 - val_mae: 0.0468\n",
      "Epoch 707/2000\n",
      "5/5 [==============================] - 0s 73ms/step - loss: 0.0017 - mae: 0.0326 - val_loss: 0.0034 - val_mae: 0.0466\n",
      "Epoch 708/2000\n",
      "5/5 [==============================] - 0s 72ms/step - loss: 0.0017 - mae: 0.0324 - val_loss: 0.0036 - val_mae: 0.0471\n",
      "Epoch 709/2000\n",
      "5/5 [==============================] - 0s 73ms/step - loss: 0.0017 - mae: 0.0330 - val_loss: 0.0034 - val_mae: 0.0471\n",
      "Epoch 710/2000\n",
      "5/5 [==============================] - 0s 87ms/step - loss: 0.0017 - mae: 0.0327 - val_loss: 0.0038 - val_mae: 0.0491\n",
      "Epoch 711/2000\n",
      "5/5 [==============================] - 0s 71ms/step - loss: 0.0019 - mae: 0.0344 - val_loss: 0.0034 - val_mae: 0.0463\n",
      "Epoch 712/2000\n",
      "5/5 [==============================] - 0s 72ms/step - loss: 0.0019 - mae: 0.0342 - val_loss: 0.0036 - val_mae: 0.0473\n",
      "Epoch 713/2000\n",
      "5/5 [==============================] - 0s 71ms/step - loss: 0.0017 - mae: 0.0331 - val_loss: 0.0036 - val_mae: 0.0481\n",
      "Epoch 714/2000\n",
      "5/5 [==============================] - 0s 72ms/step - loss: 0.0018 - mae: 0.0337 - val_loss: 0.0038 - val_mae: 0.0492\n",
      "Epoch 715/2000\n",
      "5/5 [==============================] - 0s 71ms/step - loss: 0.0019 - mae: 0.0342 - val_loss: 0.0037 - val_mae: 0.0487\n",
      "Epoch 716/2000\n",
      "5/5 [==============================] - 0s 70ms/step - loss: 0.0020 - mae: 0.0349 - val_loss: 0.0038 - val_mae: 0.0490\n",
      "Epoch 717/2000\n",
      "5/5 [==============================] - 0s 77ms/step - loss: 0.0019 - mae: 0.0348 - val_loss: 0.0036 - val_mae: 0.0484\n",
      "Epoch 718/2000\n",
      "5/5 [==============================] - 0s 73ms/step - loss: 0.0018 - mae: 0.0335 - val_loss: 0.0035 - val_mae: 0.0468\n",
      "Epoch 719/2000\n",
      "5/5 [==============================] - 0s 72ms/step - loss: 0.0017 - mae: 0.0332 - val_loss: 0.0037 - val_mae: 0.0483\n",
      "Epoch 720/2000\n",
      "5/5 [==============================] - 0s 77ms/step - loss: 0.0018 - mae: 0.0331 - val_loss: 0.0035 - val_mae: 0.0472\n",
      "Epoch 721/2000\n",
      "5/5 [==============================] - 0s 71ms/step - loss: 0.0016 - mae: 0.0322 - val_loss: 0.0035 - val_mae: 0.0467\n",
      "Epoch 722/2000\n",
      "5/5 [==============================] - 0s 72ms/step - loss: 0.0016 - mae: 0.0318 - val_loss: 0.0036 - val_mae: 0.0475\n",
      "Epoch 723/2000\n",
      "5/5 [==============================] - 0s 74ms/step - loss: 0.0017 - mae: 0.0332 - val_loss: 0.0034 - val_mae: 0.0462\n",
      "Epoch 724/2000\n",
      "5/5 [==============================] - 0s 71ms/step - loss: 0.0019 - mae: 0.0347 - val_loss: 0.0037 - val_mae: 0.0482\n",
      "Epoch 725/2000\n",
      "5/5 [==============================] - 0s 73ms/step - loss: 0.0018 - mae: 0.0337 - val_loss: 0.0035 - val_mae: 0.0470\n",
      "Epoch 726/2000\n",
      "5/5 [==============================] - 0s 73ms/step - loss: 0.0017 - mae: 0.0321 - val_loss: 0.0034 - val_mae: 0.0467\n",
      "Epoch 727/2000\n",
      "1/5 [=====>........................] - ETA: 0s - loss: 0.0016 - mae: 0.0319"
     ]
    },
    {
     "name": "stderr",
     "output_type": "stream",
     "text": [
      "WARNING:absl:Found untraced functions such as lstm_cell_layer_call_fn, lstm_cell_layer_call_and_return_conditional_losses while saving (showing 2 of 2). These functions will not be directly callable after loading.\n"
     ]
    },
    {
     "name": "stdout",
     "output_type": "stream",
     "text": [
      "INFO:tensorflow:Assets written to: C:\\Users\\PARK\\Documents\\LAB\\RNN vs LSTM\\FInal Example\\wandb\\run-20221016_023555-20c04pun\\files\\model-best\\assets\n"
     ]
    },
    {
     "name": "stderr",
     "output_type": "stream",
     "text": [
      "INFO:tensorflow:Assets written to: C:\\Users\\PARK\\Documents\\LAB\\RNN vs LSTM\\FInal Example\\wandb\\run-20221016_023555-20c04pun\\files\\model-best\\assets\n",
      "\u001b[34m\u001b[1mwandb\u001b[0m: Adding directory to artifact (C:\\Users\\PARK\\Documents\\LAB\\RNN vs LSTM\\FInal Example\\wandb\\run-20221016_023555-20c04pun\\files\\model-best)... Done. 0.1s\n"
     ]
    },
    {
     "name": "stdout",
     "output_type": "stream",
     "text": [
      "5/5 [==============================] - 4s 1s/step - loss: 0.0016 - mae: 0.0322 - val_loss: 0.0033 - val_mae: 0.0457\n",
      "Epoch 728/2000\n",
      "4/5 [=======================>......] - ETA: 0s - loss: 0.0017 - mae: 0.0325"
     ]
    },
    {
     "name": "stderr",
     "output_type": "stream",
     "text": [
      "WARNING:absl:Found untraced functions such as lstm_cell_layer_call_fn, lstm_cell_layer_call_and_return_conditional_losses while saving (showing 2 of 2). These functions will not be directly callable after loading.\n"
     ]
    },
    {
     "name": "stdout",
     "output_type": "stream",
     "text": [
      "INFO:tensorflow:Assets written to: C:\\Users\\PARK\\Documents\\LAB\\RNN vs LSTM\\FInal Example\\wandb\\run-20221016_023555-20c04pun\\files\\model-best\\assets\n"
     ]
    },
    {
     "name": "stderr",
     "output_type": "stream",
     "text": [
      "INFO:tensorflow:Assets written to: C:\\Users\\PARK\\Documents\\LAB\\RNN vs LSTM\\FInal Example\\wandb\\run-20221016_023555-20c04pun\\files\\model-best\\assets\n",
      "\u001b[34m\u001b[1mwandb\u001b[0m: Adding directory to artifact (C:\\Users\\PARK\\Documents\\LAB\\RNN vs LSTM\\FInal Example\\wandb\\run-20221016_023555-20c04pun\\files\\model-best)... Done. 0.1s\n"
     ]
    },
    {
     "name": "stdout",
     "output_type": "stream",
     "text": [
      "5/5 [==============================] - 4s 1s/step - loss: 0.0017 - mae: 0.0325 - val_loss: 0.0033 - val_mae: 0.0453\n",
      "Epoch 729/2000\n",
      "5/5 [==============================] - 1s 107ms/step - loss: 0.0017 - mae: 0.0332 - val_loss: 0.0039 - val_mae: 0.0504\n",
      "Epoch 730/2000\n",
      "5/5 [==============================] - 0s 73ms/step - loss: 0.0022 - mae: 0.0368 - val_loss: 0.0041 - val_mae: 0.0511\n",
      "Epoch 731/2000\n",
      "5/5 [==============================] - 0s 73ms/step - loss: 0.0020 - mae: 0.0359 - val_loss: 0.0037 - val_mae: 0.0476\n",
      "Epoch 732/2000\n",
      "5/5 [==============================] - 0s 73ms/step - loss: 0.0020 - mae: 0.0352 - val_loss: 0.0040 - val_mae: 0.0504\n",
      "Epoch 733/2000\n",
      "5/5 [==============================] - 0s 72ms/step - loss: 0.0020 - mae: 0.0355 - val_loss: 0.0045 - val_mae: 0.0538\n",
      "Epoch 734/2000\n",
      "5/5 [==============================] - 0s 77ms/step - loss: 0.0025 - mae: 0.0396 - val_loss: 0.0039 - val_mae: 0.0497\n",
      "Epoch 735/2000\n",
      "5/5 [==============================] - 0s 71ms/step - loss: 0.0020 - mae: 0.0351 - val_loss: 0.0038 - val_mae: 0.0488\n",
      "Epoch 736/2000\n",
      "5/5 [==============================] - 0s 72ms/step - loss: 0.0020 - mae: 0.0358 - val_loss: 0.0036 - val_mae: 0.0474\n",
      "Epoch 737/2000\n",
      "5/5 [==============================] - 0s 79ms/step - loss: 0.0018 - mae: 0.0337 - val_loss: 0.0035 - val_mae: 0.0470\n",
      "Epoch 738/2000\n",
      "5/5 [==============================] - 0s 73ms/step - loss: 0.0017 - mae: 0.0329 - val_loss: 0.0034 - val_mae: 0.0470\n",
      "Epoch 739/2000\n",
      "5/5 [==============================] - 0s 73ms/step - loss: 0.0016 - mae: 0.0312 - val_loss: 0.0035 - val_mae: 0.0466\n",
      "Epoch 740/2000\n",
      "5/5 [==============================] - 0s 75ms/step - loss: 0.0016 - mae: 0.0317 - val_loss: 0.0033 - val_mae: 0.0458\n",
      "Epoch 741/2000\n",
      "5/5 [==============================] - 0s 70ms/step - loss: 0.0015 - mae: 0.0308 - val_loss: 0.0033 - val_mae: 0.0454\n",
      "Epoch 742/2000\n",
      "1/5 [=====>........................] - ETA: 0s - loss: 0.0012 - mae: 0.0280"
     ]
    },
    {
     "name": "stderr",
     "output_type": "stream",
     "text": [
      "WARNING:absl:Found untraced functions such as lstm_cell_layer_call_fn, lstm_cell_layer_call_and_return_conditional_losses while saving (showing 2 of 2). These functions will not be directly callable after loading.\n"
     ]
    },
    {
     "name": "stdout",
     "output_type": "stream",
     "text": [
      "INFO:tensorflow:Assets written to: C:\\Users\\PARK\\Documents\\LAB\\RNN vs LSTM\\FInal Example\\wandb\\run-20221016_023555-20c04pun\\files\\model-best\\assets\n"
     ]
    },
    {
     "name": "stderr",
     "output_type": "stream",
     "text": [
      "INFO:tensorflow:Assets written to: C:\\Users\\PARK\\Documents\\LAB\\RNN vs LSTM\\FInal Example\\wandb\\run-20221016_023555-20c04pun\\files\\model-best\\assets\n",
      "\u001b[34m\u001b[1mwandb\u001b[0m: Adding directory to artifact (C:\\Users\\PARK\\Documents\\LAB\\RNN vs LSTM\\FInal Example\\wandb\\run-20221016_023555-20c04pun\\files\\model-best)... Done. 0.1s\n"
     ]
    },
    {
     "name": "stdout",
     "output_type": "stream",
     "text": [
      "5/5 [==============================] - 4s 1s/step - loss: 0.0016 - mae: 0.0313 - val_loss: 0.0033 - val_mae: 0.0458\n",
      "Epoch 743/2000\n",
      "5/5 [==============================] - 1s 130ms/step - loss: 0.0015 - mae: 0.0311 - val_loss: 0.0034 - val_mae: 0.0464\n",
      "Epoch 744/2000\n",
      "4/5 [=======================>......] - ETA: 0s - loss: 0.0015 - mae: 0.0310"
     ]
    },
    {
     "name": "stderr",
     "output_type": "stream",
     "text": [
      "WARNING:absl:Found untraced functions such as lstm_cell_layer_call_fn, lstm_cell_layer_call_and_return_conditional_losses while saving (showing 2 of 2). These functions will not be directly callable after loading.\n"
     ]
    },
    {
     "name": "stdout",
     "output_type": "stream",
     "text": [
      "INFO:tensorflow:Assets written to: C:\\Users\\PARK\\Documents\\LAB\\RNN vs LSTM\\FInal Example\\wandb\\run-20221016_023555-20c04pun\\files\\model-best\\assets\n"
     ]
    },
    {
     "name": "stderr",
     "output_type": "stream",
     "text": [
      "INFO:tensorflow:Assets written to: C:\\Users\\PARK\\Documents\\LAB\\RNN vs LSTM\\FInal Example\\wandb\\run-20221016_023555-20c04pun\\files\\model-best\\assets\n",
      "\u001b[34m\u001b[1mwandb\u001b[0m: Adding directory to artifact (C:\\Users\\PARK\\Documents\\LAB\\RNN vs LSTM\\FInal Example\\wandb\\run-20221016_023555-20c04pun\\files\\model-best)... Done. 0.1s\n"
     ]
    },
    {
     "name": "stdout",
     "output_type": "stream",
     "text": [
      "5/5 [==============================] - 4s 1s/step - loss: 0.0015 - mae: 0.0311 - val_loss: 0.0033 - val_mae: 0.0455\n",
      "Epoch 745/2000\n",
      "2/5 [===========>..................] - ETA: 0s - loss: 0.0014 - mae: 0.0297"
     ]
    },
    {
     "name": "stderr",
     "output_type": "stream",
     "text": [
      "WARNING:absl:Found untraced functions such as lstm_cell_layer_call_fn, lstm_cell_layer_call_and_return_conditional_losses while saving (showing 2 of 2). These functions will not be directly callable after loading.\n"
     ]
    },
    {
     "name": "stdout",
     "output_type": "stream",
     "text": [
      "INFO:tensorflow:Assets written to: C:\\Users\\PARK\\Documents\\LAB\\RNN vs LSTM\\FInal Example\\wandb\\run-20221016_023555-20c04pun\\files\\model-best\\assets\n"
     ]
    },
    {
     "name": "stderr",
     "output_type": "stream",
     "text": [
      "INFO:tensorflow:Assets written to: C:\\Users\\PARK\\Documents\\LAB\\RNN vs LSTM\\FInal Example\\wandb\\run-20221016_023555-20c04pun\\files\\model-best\\assets\n",
      "\u001b[34m\u001b[1mwandb\u001b[0m: Adding directory to artifact (C:\\Users\\PARK\\Documents\\LAB\\RNN vs LSTM\\FInal Example\\wandb\\run-20221016_023555-20c04pun\\files\\model-best)... Done. 0.1s\n"
     ]
    },
    {
     "name": "stdout",
     "output_type": "stream",
     "text": [
      "5/5 [==============================] - 4s 1s/step - loss: 0.0015 - mae: 0.0306 - val_loss: 0.0032 - val_mae: 0.0448\n",
      "Epoch 746/2000\n",
      "3/5 [=================>............] - ETA: 0s - loss: 0.0014 - mae: 0.0299"
     ]
    },
    {
     "name": "stderr",
     "output_type": "stream",
     "text": [
      "WARNING:absl:Found untraced functions such as lstm_cell_layer_call_fn, lstm_cell_layer_call_and_return_conditional_losses while saving (showing 2 of 2). These functions will not be directly callable after loading.\n"
     ]
    },
    {
     "name": "stdout",
     "output_type": "stream",
     "text": [
      "INFO:tensorflow:Assets written to: C:\\Users\\PARK\\Documents\\LAB\\RNN vs LSTM\\FInal Example\\wandb\\run-20221016_023555-20c04pun\\files\\model-best\\assets\n"
     ]
    },
    {
     "name": "stderr",
     "output_type": "stream",
     "text": [
      "INFO:tensorflow:Assets written to: C:\\Users\\PARK\\Documents\\LAB\\RNN vs LSTM\\FInal Example\\wandb\\run-20221016_023555-20c04pun\\files\\model-best\\assets\n",
      "\u001b[34m\u001b[1mwandb\u001b[0m: Adding directory to artifact (C:\\Users\\PARK\\Documents\\LAB\\RNN vs LSTM\\FInal Example\\wandb\\run-20221016_023555-20c04pun\\files\\model-best)... Done. 0.1s\n"
     ]
    },
    {
     "name": "stdout",
     "output_type": "stream",
     "text": [
      "5/5 [==============================] - 4s 1s/step - loss: 0.0015 - mae: 0.0310 - val_loss: 0.0032 - val_mae: 0.0446\n",
      "Epoch 747/2000\n",
      "5/5 [==============================] - 1s 132ms/step - loss: 0.0015 - mae: 0.0305 - val_loss: 0.0032 - val_mae: 0.0451\n",
      "Epoch 748/2000\n",
      "5/5 [==============================] - 0s 93ms/step - loss: 0.0014 - mae: 0.0299 - val_loss: 0.0033 - val_mae: 0.0456\n",
      "Epoch 749/2000\n",
      "5/5 [==============================] - 0s 80ms/step - loss: 0.0015 - mae: 0.0306 - val_loss: 0.0033 - val_mae: 0.0452\n",
      "Epoch 750/2000\n",
      "5/5 [==============================] - 0s 79ms/step - loss: 0.0015 - mae: 0.0305 - val_loss: 0.0032 - val_mae: 0.0449\n",
      "Epoch 751/2000\n",
      "5/5 [==============================] - 0s 72ms/step - loss: 0.0015 - mae: 0.0301 - val_loss: 0.0032 - val_mae: 0.0448\n",
      "Epoch 752/2000\n",
      "1/5 [=====>........................] - ETA: 0s - loss: 0.0014 - mae: 0.0297"
     ]
    },
    {
     "name": "stderr",
     "output_type": "stream",
     "text": [
      "WARNING:absl:Found untraced functions such as lstm_cell_layer_call_fn, lstm_cell_layer_call_and_return_conditional_losses while saving (showing 2 of 2). These functions will not be directly callable after loading.\n"
     ]
    },
    {
     "name": "stdout",
     "output_type": "stream",
     "text": [
      "INFO:tensorflow:Assets written to: C:\\Users\\PARK\\Documents\\LAB\\RNN vs LSTM\\FInal Example\\wandb\\run-20221016_023555-20c04pun\\files\\model-best\\assets\n"
     ]
    },
    {
     "name": "stderr",
     "output_type": "stream",
     "text": [
      "INFO:tensorflow:Assets written to: C:\\Users\\PARK\\Documents\\LAB\\RNN vs LSTM\\FInal Example\\wandb\\run-20221016_023555-20c04pun\\files\\model-best\\assets\n",
      "\u001b[34m\u001b[1mwandb\u001b[0m: Adding directory to artifact (C:\\Users\\PARK\\Documents\\LAB\\RNN vs LSTM\\FInal Example\\wandb\\run-20221016_023555-20c04pun\\files\\model-best)... Done. 0.1s\n"
     ]
    },
    {
     "name": "stdout",
     "output_type": "stream",
     "text": [
      "5/5 [==============================] - 4s 1s/step - loss: 0.0014 - mae: 0.0299 - val_loss: 0.0031 - val_mae: 0.0444\n",
      "Epoch 753/2000\n",
      "5/5 [==============================] - 0s 104ms/step - loss: 0.0015 - mae: 0.0303 - val_loss: 0.0032 - val_mae: 0.0449\n",
      "Epoch 754/2000\n",
      "5/5 [==============================] - 0s 75ms/step - loss: 0.0014 - mae: 0.0299 - val_loss: 0.0031 - val_mae: 0.0445\n",
      "Epoch 755/2000\n",
      "5/5 [==============================] - 0s 75ms/step - loss: 0.0015 - mae: 0.0308 - val_loss: 0.0032 - val_mae: 0.0449\n",
      "Epoch 756/2000\n",
      "5/5 [==============================] - 0s 73ms/step - loss: 0.0015 - mae: 0.0306 - val_loss: 0.0032 - val_mae: 0.0445\n",
      "Epoch 757/2000\n",
      "5/5 [==============================] - 0s 84ms/step - loss: 0.0014 - mae: 0.0303 - val_loss: 0.0033 - val_mae: 0.0458\n",
      "Epoch 758/2000\n",
      "5/5 [==============================] - 0s 72ms/step - loss: 0.0015 - mae: 0.0306 - val_loss: 0.0034 - val_mae: 0.0460\n",
      "Epoch 759/2000\n",
      "5/5 [==============================] - 0s 72ms/step - loss: 0.0015 - mae: 0.0309 - val_loss: 0.0033 - val_mae: 0.0456\n",
      "Epoch 760/2000\n",
      "5/5 [==============================] - 0s 78ms/step - loss: 0.0015 - mae: 0.0305 - val_loss: 0.0036 - val_mae: 0.0476\n",
      "Epoch 761/2000\n",
      "5/5 [==============================] - 0s 71ms/step - loss: 0.0015 - mae: 0.0314 - val_loss: 0.0034 - val_mae: 0.0461\n",
      "Epoch 762/2000\n",
      "5/5 [==============================] - 0s 70ms/step - loss: 0.0015 - mae: 0.0304 - val_loss: 0.0032 - val_mae: 0.0451\n",
      "Epoch 763/2000\n",
      "5/5 [==============================] - 0s 72ms/step - loss: 0.0014 - mae: 0.0299 - val_loss: 0.0032 - val_mae: 0.0450\n",
      "Epoch 764/2000\n",
      "5/5 [==============================] - 0s 74ms/step - loss: 0.0014 - mae: 0.0293 - val_loss: 0.0032 - val_mae: 0.0446\n",
      "Epoch 765/2000\n",
      "5/5 [==============================] - 0s 71ms/step - loss: 0.0014 - mae: 0.0296 - val_loss: 0.0034 - val_mae: 0.0472\n",
      "Epoch 766/2000\n",
      "5/5 [==============================] - 0s 72ms/step - loss: 0.0015 - mae: 0.0307 - val_loss: 0.0031 - val_mae: 0.0442\n",
      "Epoch 767/2000\n",
      "5/5 [==============================] - 0s 76ms/step - loss: 0.0014 - mae: 0.0296 - val_loss: 0.0031 - val_mae: 0.0448\n",
      "Epoch 768/2000\n",
      "5/5 [==============================] - 0s 71ms/step - loss: 0.0014 - mae: 0.0291 - val_loss: 0.0031 - val_mae: 0.0441\n",
      "Epoch 769/2000\n",
      "5/5 [==============================] - 0s 71ms/step - loss: 0.0014 - mae: 0.0296 - val_loss: 0.0031 - val_mae: 0.0447\n",
      "Epoch 770/2000\n",
      "5/5 [==============================] - 0s 77ms/step - loss: 0.0015 - mae: 0.0305 - val_loss: 0.0041 - val_mae: 0.0510\n",
      "Epoch 771/2000\n",
      "5/5 [==============================] - 0s 72ms/step - loss: 0.0020 - mae: 0.0355 - val_loss: 0.0051 - val_mae: 0.0574\n",
      "Epoch 772/2000\n",
      "5/5 [==============================] - 0s 72ms/step - loss: 0.0027 - mae: 0.0408 - val_loss: 0.0040 - val_mae: 0.0501\n",
      "Epoch 773/2000\n",
      "5/5 [==============================] - 0s 72ms/step - loss: 0.0021 - mae: 0.0362 - val_loss: 0.0033 - val_mae: 0.0458\n",
      "Epoch 774/2000\n",
      "5/5 [==============================] - 0s 72ms/step - loss: 0.0018 - mae: 0.0334 - val_loss: 0.0040 - val_mae: 0.0504\n",
      "Epoch 775/2000\n",
      "5/5 [==============================] - 0s 71ms/step - loss: 0.0019 - mae: 0.0346 - val_loss: 0.0036 - val_mae: 0.0481\n",
      "Epoch 776/2000\n",
      "5/5 [==============================] - 0s 71ms/step - loss: 0.0017 - mae: 0.0335 - val_loss: 0.0034 - val_mae: 0.0458\n",
      "Epoch 777/2000\n",
      "1/5 [=====>........................] - ETA: 0s - loss: 0.0014 - mae: 0.0301"
     ]
    },
    {
     "name": "stderr",
     "output_type": "stream",
     "text": [
      "WARNING:absl:Found untraced functions such as lstm_cell_layer_call_fn, lstm_cell_layer_call_and_return_conditional_losses while saving (showing 2 of 2). These functions will not be directly callable after loading.\n"
     ]
    },
    {
     "name": "stdout",
     "output_type": "stream",
     "text": [
      "INFO:tensorflow:Assets written to: C:\\Users\\PARK\\Documents\\LAB\\RNN vs LSTM\\FInal Example\\wandb\\run-20221016_023555-20c04pun\\files\\model-best\\assets\n"
     ]
    },
    {
     "name": "stderr",
     "output_type": "stream",
     "text": [
      "INFO:tensorflow:Assets written to: C:\\Users\\PARK\\Documents\\LAB\\RNN vs LSTM\\FInal Example\\wandb\\run-20221016_023555-20c04pun\\files\\model-best\\assets\n",
      "\u001b[34m\u001b[1mwandb\u001b[0m: Adding directory to artifact (C:\\Users\\PARK\\Documents\\LAB\\RNN vs LSTM\\FInal Example\\wandb\\run-20221016_023555-20c04pun\\files\\model-best)... Done. 0.1s\n"
     ]
    },
    {
     "name": "stdout",
     "output_type": "stream",
     "text": [
      "5/5 [==============================] - 4s 1s/step - loss: 0.0017 - mae: 0.0327 - val_loss: 0.0031 - val_mae: 0.0443\n",
      "Epoch 778/2000\n",
      "5/5 [==============================] - 1s 125ms/step - loss: 0.0016 - mae: 0.0318 - val_loss: 0.0032 - val_mae: 0.0449\n",
      "Epoch 779/2000\n",
      "5/5 [==============================] - 0s 94ms/step - loss: 0.0014 - mae: 0.0298 - val_loss: 0.0034 - val_mae: 0.0464\n",
      "Epoch 780/2000\n",
      "5/5 [==============================] - 0s 84ms/step - loss: 0.0016 - mae: 0.0315 - val_loss: 0.0036 - val_mae: 0.0469\n",
      "Epoch 781/2000\n",
      "5/5 [==============================] - 0s 73ms/step - loss: 0.0016 - mae: 0.0320 - val_loss: 0.0032 - val_mae: 0.0451\n",
      "Epoch 782/2000\n",
      "5/5 [==============================] - 0s 73ms/step - loss: 0.0016 - mae: 0.0315 - val_loss: 0.0032 - val_mae: 0.0445\n",
      "Epoch 783/2000\n",
      "5/5 [==============================] - 0s 77ms/step - loss: 0.0015 - mae: 0.0307 - val_loss: 0.0039 - val_mae: 0.0502\n",
      "Epoch 784/2000\n",
      "5/5 [==============================] - 0s 72ms/step - loss: 0.0019 - mae: 0.0343 - val_loss: 0.0035 - val_mae: 0.0473\n",
      "Epoch 785/2000\n",
      "5/5 [==============================] - 0s 72ms/step - loss: 0.0017 - mae: 0.0326 - val_loss: 0.0032 - val_mae: 0.0452\n",
      "Epoch 786/2000\n",
      "5/5 [==============================] - 0s 77ms/step - loss: 0.0015 - mae: 0.0309 - val_loss: 0.0036 - val_mae: 0.0481\n",
      "Epoch 787/2000\n",
      "5/5 [==============================] - 0s 72ms/step - loss: 0.0016 - mae: 0.0323 - val_loss: 0.0035 - val_mae: 0.0468\n",
      "Epoch 788/2000\n",
      "5/5 [==============================] - 0s 72ms/step - loss: 0.0018 - mae: 0.0341 - val_loss: 0.0034 - val_mae: 0.0466\n",
      "Epoch 789/2000\n",
      "5/5 [==============================] - 0s 71ms/step - loss: 0.0016 - mae: 0.0315 - val_loss: 0.0034 - val_mae: 0.0466\n",
      "Epoch 790/2000\n",
      "5/5 [==============================] - 0s 73ms/step - loss: 0.0016 - mae: 0.0317 - val_loss: 0.0041 - val_mae: 0.0513\n",
      "Epoch 791/2000\n",
      "5/5 [==============================] - 0s 73ms/step - loss: 0.0018 - mae: 0.0338 - val_loss: 0.0033 - val_mae: 0.0460\n",
      "Epoch 792/2000\n",
      "5/5 [==============================] - 0s 73ms/step - loss: 0.0014 - mae: 0.0304 - val_loss: 0.0033 - val_mae: 0.0459\n",
      "Epoch 793/2000\n",
      "5/5 [==============================] - 0s 74ms/step - loss: 0.0015 - mae: 0.0310 - val_loss: 0.0032 - val_mae: 0.0447\n",
      "Epoch 794/2000\n",
      "5/5 [==============================] - 0s 73ms/step - loss: 0.0015 - mae: 0.0307 - val_loss: 0.0033 - val_mae: 0.0463\n",
      "Epoch 795/2000\n",
      "5/5 [==============================] - 0s 73ms/step - loss: 0.0015 - mae: 0.0303 - val_loss: 0.0033 - val_mae: 0.0456\n",
      "Epoch 796/2000\n",
      "5/5 [==============================] - 0s 76ms/step - loss: 0.0015 - mae: 0.0306 - val_loss: 0.0036 - val_mae: 0.0478\n",
      "Epoch 797/2000\n",
      "5/5 [==============================] - 0s 71ms/step - loss: 0.0015 - mae: 0.0311 - val_loss: 0.0035 - val_mae: 0.0467\n",
      "Epoch 798/2000\n",
      "5/5 [==============================] - 0s 71ms/step - loss: 0.0015 - mae: 0.0308 - val_loss: 0.0031 - val_mae: 0.0443\n",
      "Epoch 799/2000\n",
      "5/5 [==============================] - 0s 71ms/step - loss: 0.0014 - mae: 0.0304 - val_loss: 0.0035 - val_mae: 0.0468\n",
      "Epoch 800/2000\n",
      "5/5 [==============================] - 0s 75ms/step - loss: 0.0015 - mae: 0.0306 - val_loss: 0.0033 - val_mae: 0.0453\n",
      "Epoch 801/2000\n",
      "5/5 [==============================] - 0s 73ms/step - loss: 0.0014 - mae: 0.0294 - val_loss: 0.0034 - val_mae: 0.0464\n",
      "Epoch 802/2000\n",
      "5/5 [==============================] - 0s 72ms/step - loss: 0.0014 - mae: 0.0292 - val_loss: 0.0031 - val_mae: 0.0446\n",
      "Epoch 803/2000\n",
      "1/5 [=====>........................] - ETA: 0s - loss: 0.0012 - mae: 0.0278"
     ]
    },
    {
     "name": "stderr",
     "output_type": "stream",
     "text": [
      "WARNING:absl:Found untraced functions such as lstm_cell_layer_call_fn, lstm_cell_layer_call_and_return_conditional_losses while saving (showing 2 of 2). These functions will not be directly callable after loading.\n"
     ]
    },
    {
     "name": "stdout",
     "output_type": "stream",
     "text": [
      "INFO:tensorflow:Assets written to: C:\\Users\\PARK\\Documents\\LAB\\RNN vs LSTM\\FInal Example\\wandb\\run-20221016_023555-20c04pun\\files\\model-best\\assets\n"
     ]
    },
    {
     "name": "stderr",
     "output_type": "stream",
     "text": [
      "INFO:tensorflow:Assets written to: C:\\Users\\PARK\\Documents\\LAB\\RNN vs LSTM\\FInal Example\\wandb\\run-20221016_023555-20c04pun\\files\\model-best\\assets\n",
      "\u001b[34m\u001b[1mwandb\u001b[0m: Adding directory to artifact (C:\\Users\\PARK\\Documents\\LAB\\RNN vs LSTM\\FInal Example\\wandb\\run-20221016_023555-20c04pun\\files\\model-best)... Done. 0.1s\n"
     ]
    },
    {
     "name": "stdout",
     "output_type": "stream",
     "text": [
      "5/5 [==============================] - 4s 1s/step - loss: 0.0013 - mae: 0.0287 - val_loss: 0.0030 - val_mae: 0.0431\n",
      "Epoch 804/2000\n",
      "5/5 [==============================] - 0s 105ms/step - loss: 0.0013 - mae: 0.0287 - val_loss: 0.0037 - val_mae: 0.0479\n",
      "Epoch 805/2000\n",
      "5/5 [==============================] - 0s 73ms/step - loss: 0.0020 - mae: 0.0350 - val_loss: 0.0038 - val_mae: 0.0484\n",
      "Epoch 806/2000\n",
      "5/5 [==============================] - 0s 72ms/step - loss: 0.0019 - mae: 0.0345 - val_loss: 0.0038 - val_mae: 0.0483\n",
      "Epoch 807/2000\n",
      "5/5 [==============================] - 0s 73ms/step - loss: 0.0018 - mae: 0.0342 - val_loss: 0.0038 - val_mae: 0.0497\n",
      "Epoch 808/2000\n",
      "5/5 [==============================] - 0s 72ms/step - loss: 0.0021 - mae: 0.0364 - val_loss: 0.0046 - val_mae: 0.0547\n",
      "Epoch 809/2000\n",
      "5/5 [==============================] - 0s 72ms/step - loss: 0.0023 - mae: 0.0377 - val_loss: 0.0045 - val_mae: 0.0530\n",
      "Epoch 810/2000\n",
      "5/5 [==============================] - 0s 77ms/step - loss: 0.0023 - mae: 0.0381 - val_loss: 0.0035 - val_mae: 0.0467\n",
      "Epoch 811/2000\n",
      "5/5 [==============================] - 0s 74ms/step - loss: 0.0022 - mae: 0.0372 - val_loss: 0.0037 - val_mae: 0.0480\n",
      "Epoch 812/2000\n",
      "5/5 [==============================] - 0s 72ms/step - loss: 0.0018 - mae: 0.0336 - val_loss: 0.0041 - val_mae: 0.0504\n",
      "Epoch 813/2000\n",
      "5/5 [==============================] - 0s 75ms/step - loss: 0.0019 - mae: 0.0341 - val_loss: 0.0033 - val_mae: 0.0455\n",
      "Epoch 814/2000\n",
      "5/5 [==============================] - 0s 73ms/step - loss: 0.0015 - mae: 0.0314 - val_loss: 0.0034 - val_mae: 0.0462\n",
      "Epoch 815/2000\n",
      "5/5 [==============================] - 0s 72ms/step - loss: 0.0014 - mae: 0.0292 - val_loss: 0.0033 - val_mae: 0.0454\n",
      "Epoch 816/2000\n",
      "5/5 [==============================] - 0s 74ms/step - loss: 0.0013 - mae: 0.0285 - val_loss: 0.0031 - val_mae: 0.0445\n",
      "Epoch 817/2000\n",
      "5/5 [==============================] - 0s 72ms/step - loss: 0.0013 - mae: 0.0280 - val_loss: 0.0033 - val_mae: 0.0454\n",
      "Epoch 818/2000\n",
      "5/5 [==============================] - 0s 71ms/step - loss: 0.0013 - mae: 0.0284 - val_loss: 0.0030 - val_mae: 0.0443\n",
      "Epoch 819/2000\n",
      "5/5 [==============================] - 0s 73ms/step - loss: 0.0013 - mae: 0.0282 - val_loss: 0.0030 - val_mae: 0.0435\n",
      "Epoch 820/2000\n",
      "5/5 [==============================] - 0s 73ms/step - loss: 0.0012 - mae: 0.0275 - val_loss: 0.0030 - val_mae: 0.0433\n",
      "Epoch 821/2000\n",
      "1/5 [=====>........................] - ETA: 0s - loss: 0.0011 - mae: 0.0264"
     ]
    },
    {
     "name": "stderr",
     "output_type": "stream",
     "text": [
      "WARNING:absl:Found untraced functions such as lstm_cell_layer_call_fn, lstm_cell_layer_call_and_return_conditional_losses while saving (showing 2 of 2). These functions will not be directly callable after loading.\n"
     ]
    },
    {
     "name": "stdout",
     "output_type": "stream",
     "text": [
      "INFO:tensorflow:Assets written to: C:\\Users\\PARK\\Documents\\LAB\\RNN vs LSTM\\FInal Example\\wandb\\run-20221016_023555-20c04pun\\files\\model-best\\assets\n"
     ]
    },
    {
     "name": "stderr",
     "output_type": "stream",
     "text": [
      "INFO:tensorflow:Assets written to: C:\\Users\\PARK\\Documents\\LAB\\RNN vs LSTM\\FInal Example\\wandb\\run-20221016_023555-20c04pun\\files\\model-best\\assets\n",
      "\u001b[34m\u001b[1mwandb\u001b[0m: Adding directory to artifact (C:\\Users\\PARK\\Documents\\LAB\\RNN vs LSTM\\FInal Example\\wandb\\run-20221016_023555-20c04pun\\files\\model-best)... Done. 0.1s\n"
     ]
    },
    {
     "name": "stdout",
     "output_type": "stream",
     "text": [
      "5/5 [==============================] - 4s 1s/step - loss: 0.0012 - mae: 0.0276 - val_loss: 0.0030 - val_mae: 0.0433\n",
      "Epoch 822/2000\n",
      "5/5 [==============================] - 0s 109ms/step - loss: 0.0012 - mae: 0.0275 - val_loss: 0.0030 - val_mae: 0.0435\n",
      "Epoch 823/2000\n",
      "5/5 [==============================] - 0s 75ms/step - loss: 0.0013 - mae: 0.0290 - val_loss: 0.0033 - val_mae: 0.0462\n",
      "Epoch 824/2000\n",
      "5/5 [==============================] - 0s 74ms/step - loss: 0.0014 - mae: 0.0292 - val_loss: 0.0031 - val_mae: 0.0439\n",
      "Epoch 825/2000\n",
      "5/5 [==============================] - 0s 73ms/step - loss: 0.0012 - mae: 0.0282 - val_loss: 0.0030 - val_mae: 0.0441\n",
      "Epoch 826/2000\n",
      "1/5 [=====>........................] - ETA: 0s - loss: 0.0010 - mae: 0.0256"
     ]
    },
    {
     "name": "stderr",
     "output_type": "stream",
     "text": [
      "WARNING:absl:Found untraced functions such as lstm_cell_layer_call_fn, lstm_cell_layer_call_and_return_conditional_losses while saving (showing 2 of 2). These functions will not be directly callable after loading.\n"
     ]
    },
    {
     "name": "stdout",
     "output_type": "stream",
     "text": [
      "INFO:tensorflow:Assets written to: C:\\Users\\PARK\\Documents\\LAB\\RNN vs LSTM\\FInal Example\\wandb\\run-20221016_023555-20c04pun\\files\\model-best\\assets\n"
     ]
    },
    {
     "name": "stderr",
     "output_type": "stream",
     "text": [
      "INFO:tensorflow:Assets written to: C:\\Users\\PARK\\Documents\\LAB\\RNN vs LSTM\\FInal Example\\wandb\\run-20221016_023555-20c04pun\\files\\model-best\\assets\n",
      "\u001b[34m\u001b[1mwandb\u001b[0m: Adding directory to artifact (C:\\Users\\PARK\\Documents\\LAB\\RNN vs LSTM\\FInal Example\\wandb\\run-20221016_023555-20c04pun\\files\\model-best)... Done. 0.1s\n"
     ]
    },
    {
     "name": "stdout",
     "output_type": "stream",
     "text": [
      "5/5 [==============================] - 4s 1s/step - loss: 0.0012 - mae: 0.0272 - val_loss: 0.0030 - val_mae: 0.0434\n",
      "Epoch 827/2000\n",
      "5/5 [==============================] - 1s 115ms/step - loss: 0.0013 - mae: 0.0284 - val_loss: 0.0034 - val_mae: 0.0466\n",
      "Epoch 828/2000\n",
      "5/5 [==============================] - 0s 74ms/step - loss: 0.0014 - mae: 0.0301 - val_loss: 0.0030 - val_mae: 0.0439\n",
      "Epoch 829/2000\n",
      "5/5 [==============================] - 0s 76ms/step - loss: 0.0013 - mae: 0.0281 - val_loss: 0.0032 - val_mae: 0.0451\n",
      "Epoch 830/2000\n",
      "5/5 [==============================] - 0s 74ms/step - loss: 0.0014 - mae: 0.0300 - val_loss: 0.0032 - val_mae: 0.0448\n",
      "Epoch 831/2000\n",
      "5/5 [==============================] - 0s 74ms/step - loss: 0.0013 - mae: 0.0282 - val_loss: 0.0032 - val_mae: 0.0455\n",
      "Epoch 832/2000\n",
      "5/5 [==============================] - 0s 73ms/step - loss: 0.0012 - mae: 0.0281 - val_loss: 0.0030 - val_mae: 0.0431\n",
      "Epoch 833/2000\n",
      "5/5 [==============================] - 0s 75ms/step - loss: 0.0012 - mae: 0.0269 - val_loss: 0.0031 - val_mae: 0.0443\n",
      "Epoch 834/2000\n",
      "5/5 [==============================] - 0s 72ms/step - loss: 0.0020 - mae: 0.0297 - val_loss: 0.0032 - val_mae: 0.0446\n",
      "Epoch 835/2000\n",
      "5/5 [==============================] - 0s 73ms/step - loss: 0.0012 - mae: 0.0281 - val_loss: 0.0030 - val_mae: 0.0438\n",
      "Epoch 836/2000\n",
      "5/5 [==============================] - 0s 78ms/step - loss: 0.0012 - mae: 0.0271 - val_loss: 0.0032 - val_mae: 0.0453\n",
      "Epoch 837/2000\n",
      "5/5 [==============================] - 0s 71ms/step - loss: 0.0012 - mae: 0.0275 - val_loss: 0.0031 - val_mae: 0.0446\n",
      "Epoch 838/2000\n",
      "5/5 [==============================] - 0s 71ms/step - loss: 0.0012 - mae: 0.0276 - val_loss: 0.0030 - val_mae: 0.0434\n",
      "Epoch 839/2000\n",
      "5/5 [==============================] - 0s 77ms/step - loss: 0.0012 - mae: 0.0270 - val_loss: 0.0031 - val_mae: 0.0442\n",
      "Epoch 840/2000\n",
      "5/5 [==============================] - 0s 73ms/step - loss: 0.0012 - mae: 0.0276 - val_loss: 0.0031 - val_mae: 0.0440\n",
      "Epoch 841/2000\n",
      "5/5 [==============================] - 0s 74ms/step - loss: 0.0012 - mae: 0.0272 - val_loss: 0.0032 - val_mae: 0.0455\n",
      "Epoch 842/2000\n",
      "5/5 [==============================] - 0s 77ms/step - loss: 0.0013 - mae: 0.0283 - val_loss: 0.0031 - val_mae: 0.0444\n",
      "Epoch 843/2000\n",
      "5/5 [==============================] - 0s 71ms/step - loss: 0.0013 - mae: 0.0284 - val_loss: 0.0030 - val_mae: 0.0438\n",
      "Epoch 844/2000\n",
      "5/5 [==============================] - 0s 71ms/step - loss: 0.0012 - mae: 0.0278 - val_loss: 0.0031 - val_mae: 0.0441\n",
      "Epoch 845/2000\n",
      "5/5 [==============================] - 0s 71ms/step - loss: 0.0012 - mae: 0.0274 - val_loss: 0.0032 - val_mae: 0.0450\n",
      "Epoch 846/2000\n",
      "5/5 [==============================] - 0s 75ms/step - loss: 0.0012 - mae: 0.0279 - val_loss: 0.0035 - val_mae: 0.0468\n",
      "Epoch 847/2000\n",
      "5/5 [==============================] - 0s 71ms/step - loss: 0.0017 - mae: 0.0323 - val_loss: 0.0056 - val_mae: 0.0609\n",
      "Epoch 848/2000\n",
      "5/5 [==============================] - 0s 71ms/step - loss: 0.0028 - mae: 0.0421 - val_loss: 0.0039 - val_mae: 0.0493\n",
      "Epoch 849/2000\n",
      "5/5 [==============================] - 0s 74ms/step - loss: 0.0021 - mae: 0.0358 - val_loss: 0.0056 - val_mae: 0.0615\n",
      "Epoch 850/2000\n",
      "5/5 [==============================] - 0s 72ms/step - loss: 0.0031 - mae: 0.0441 - val_loss: 0.0039 - val_mae: 0.0494\n",
      "Epoch 851/2000\n",
      "5/5 [==============================] - 0s 71ms/step - loss: 0.0021 - mae: 0.0357 - val_loss: 0.0032 - val_mae: 0.0444\n",
      "Epoch 852/2000\n",
      "5/5 [==============================] - 0s 75ms/step - loss: 0.0023 - mae: 0.0378 - val_loss: 0.0054 - val_mae: 0.0586\n",
      "Epoch 853/2000\n",
      "5/5 [==============================] - 0s 71ms/step - loss: 0.0031 - mae: 0.0401 - val_loss: 0.0044 - val_mae: 0.0524\n",
      "Epoch 854/2000\n",
      "5/5 [==============================] - 0s 71ms/step - loss: 0.0031 - mae: 0.0402 - val_loss: 0.0045 - val_mae: 0.0530\n",
      "Epoch 855/2000\n",
      "5/5 [==============================] - 0s 72ms/step - loss: 0.0025 - mae: 0.0400 - val_loss: 0.0044 - val_mae: 0.0524\n",
      "Epoch 856/2000\n",
      "5/5 [==============================] - 0s 76ms/step - loss: 0.0020 - mae: 0.0354 - val_loss: 0.0045 - val_mae: 0.0543\n",
      "Epoch 857/2000\n",
      "5/5 [==============================] - 0s 73ms/step - loss: 0.0019 - mae: 0.0341 - val_loss: 0.0037 - val_mae: 0.0488\n",
      "Epoch 858/2000\n",
      "5/5 [==============================] - 0s 71ms/step - loss: 0.0018 - mae: 0.0338 - val_loss: 0.0043 - val_mae: 0.0527\n",
      "Epoch 859/2000\n",
      "5/5 [==============================] - 0s 75ms/step - loss: 0.0021 - mae: 0.0368 - val_loss: 0.0037 - val_mae: 0.0488\n",
      "Epoch 860/2000\n",
      "5/5 [==============================] - 0s 71ms/step - loss: 0.0029 - mae: 0.0386 - val_loss: 0.0035 - val_mae: 0.0463\n",
      "Epoch 861/2000\n",
      "5/5 [==============================] - 0s 72ms/step - loss: 0.0017 - mae: 0.0328 - val_loss: 0.0036 - val_mae: 0.0475\n",
      "Epoch 862/2000\n",
      "5/5 [==============================] - 0s 76ms/step - loss: 0.0021 - mae: 0.0320 - val_loss: 0.0034 - val_mae: 0.0462\n",
      "Epoch 863/2000\n",
      "5/5 [==============================] - 0s 71ms/step - loss: 0.0013 - mae: 0.0285 - val_loss: 0.0031 - val_mae: 0.0432\n",
      "Epoch 864/2000\n",
      "5/5 [==============================] - 0s 72ms/step - loss: 0.0012 - mae: 0.0274 - val_loss: 0.0032 - val_mae: 0.0448\n",
      "Epoch 865/2000\n",
      "5/5 [==============================] - 0s 74ms/step - loss: 0.0018 - mae: 0.0287 - val_loss: 0.0030 - val_mae: 0.0431\n",
      "Epoch 866/2000\n",
      "5/5 [==============================] - 0s 71ms/step - loss: 0.0011 - mae: 0.0264 - val_loss: 0.0034 - val_mae: 0.0462\n",
      "Epoch 867/2000\n",
      "5/5 [==============================] - 0s 70ms/step - loss: 0.0013 - mae: 0.0284 - val_loss: 0.0030 - val_mae: 0.0432\n",
      "Epoch 868/2000\n",
      "5/5 [==============================] - 0s 71ms/step - loss: 0.0043 - mae: 0.0380 - val_loss: 0.0059 - val_mae: 0.0568\n",
      "Epoch 869/2000\n",
      "5/5 [==============================] - 0s 75ms/step - loss: 0.0072 - mae: 0.0563 - val_loss: 0.0064 - val_mae: 0.0610\n",
      "Epoch 870/2000\n",
      "5/5 [==============================] - 0s 73ms/step - loss: 0.0052 - mae: 0.0510 - val_loss: 0.0072 - val_mae: 0.0630\n",
      "Epoch 871/2000\n",
      "5/5 [==============================] - 0s 74ms/step - loss: 0.0437 - mae: 0.1569 - val_loss: 0.0478 - val_mae: 0.1746\n",
      "Epoch 872/2000\n",
      "5/5 [==============================] - 0s 75ms/step - loss: 0.0540 - mae: 0.1843 - val_loss: 0.0559 - val_mae: 0.1919\n",
      "Epoch 873/2000\n",
      "5/5 [==============================] - 0s 72ms/step - loss: 0.0486 - mae: 0.1744 - val_loss: 0.0489 - val_mae: 0.1788\n",
      "Epoch 874/2000\n",
      "5/5 [==============================] - 0s 73ms/step - loss: 0.0431 - mae: 0.1651 - val_loss: 0.0380 - val_mae: 0.1507\n",
      "Epoch 875/2000\n",
      "5/5 [==============================] - 0s 75ms/step - loss: 0.0374 - mae: 0.1506 - val_loss: 0.0400 - val_mae: 0.1619\n",
      "Epoch 876/2000\n",
      "5/5 [==============================] - 0s 71ms/step - loss: 0.0342 - mae: 0.1448 - val_loss: 0.0321 - val_mae: 0.1389\n",
      "Epoch 877/2000\n",
      "5/5 [==============================] - 0s 72ms/step - loss: 0.0309 - mae: 0.1377 - val_loss: 0.0297 - val_mae: 0.1318\n",
      "Epoch 878/2000\n",
      "5/5 [==============================] - 0s 73ms/step - loss: 0.0280 - mae: 0.1301 - val_loss: 0.0302 - val_mae: 0.1377\n",
      "Epoch 879/2000\n",
      "5/5 [==============================] - 0s 74ms/step - loss: 0.0258 - mae: 0.1254 - val_loss: 0.0274 - val_mae: 0.1268\n",
      "Epoch 880/2000\n",
      "5/5 [==============================] - 0s 71ms/step - loss: 0.0243 - mae: 0.1201 - val_loss: 0.0284 - val_mae: 0.1321\n",
      "Epoch 881/2000\n",
      "5/5 [==============================] - 0s 71ms/step - loss: 0.0237 - mae: 0.1204 - val_loss: 0.0276 - val_mae: 0.1298\n",
      "Epoch 882/2000\n",
      "5/5 [==============================] - 0s 75ms/step - loss: 0.0234 - mae: 0.1179 - val_loss: 0.0268 - val_mae: 0.1285\n",
      "Epoch 883/2000\n",
      "5/5 [==============================] - 0s 72ms/step - loss: 0.0220 - mae: 0.1148 - val_loss: 0.0270 - val_mae: 0.1292\n",
      "Epoch 884/2000\n",
      "5/5 [==============================] - 0s 71ms/step - loss: 0.0224 - mae: 0.1175 - val_loss: 0.0258 - val_mae: 0.1259\n",
      "Epoch 885/2000\n",
      "5/5 [==============================] - 0s 76ms/step - loss: 0.0211 - mae: 0.1126 - val_loss: 0.0249 - val_mae: 0.1250\n",
      "Epoch 886/2000\n",
      "5/5 [==============================] - 0s 70ms/step - loss: 0.0202 - mae: 0.1111 - val_loss: 0.0259 - val_mae: 0.1275\n",
      "Epoch 887/2000\n",
      "5/5 [==============================] - 0s 71ms/step - loss: 0.0196 - mae: 0.1086 - val_loss: 0.0221 - val_mae: 0.1172\n"
     ]
    },
    {
     "name": "stdout",
     "output_type": "stream",
     "text": [
      "Epoch 888/2000\n",
      "5/5 [==============================] - 0s 76ms/step - loss: 0.0182 - mae: 0.1055 - val_loss: 0.0214 - val_mae: 0.1149\n",
      "Epoch 889/2000\n",
      "5/5 [==============================] - 0s 71ms/step - loss: 0.0171 - mae: 0.1015 - val_loss: 0.0200 - val_mae: 0.1106\n",
      "Epoch 890/2000\n",
      "5/5 [==============================] - 0s 71ms/step - loss: 0.0159 - mae: 0.0979 - val_loss: 0.0187 - val_mae: 0.1078\n",
      "Epoch 891/2000\n",
      "5/5 [==============================] - 0s 70ms/step - loss: 0.0148 - mae: 0.0955 - val_loss: 0.0170 - val_mae: 0.1026\n",
      "Epoch 892/2000\n",
      "5/5 [==============================] - 0s 75ms/step - loss: 0.0136 - mae: 0.0909 - val_loss: 0.0151 - val_mae: 0.0967\n",
      "Epoch 893/2000\n",
      "5/5 [==============================] - 0s 71ms/step - loss: 0.0125 - mae: 0.0884 - val_loss: 0.0138 - val_mae: 0.0930\n",
      "Epoch 894/2000\n",
      "5/5 [==============================] - 0s 71ms/step - loss: 0.0118 - mae: 0.0855 - val_loss: 0.0142 - val_mae: 0.0930\n",
      "Epoch 895/2000\n",
      "5/5 [==============================] - 0s 75ms/step - loss: 0.0111 - mae: 0.0840 - val_loss: 0.0131 - val_mae: 0.0918\n",
      "Epoch 896/2000\n",
      "5/5 [==============================] - 0s 71ms/step - loss: 0.0105 - mae: 0.0812 - val_loss: 0.0167 - val_mae: 0.1026\n",
      "Epoch 897/2000\n",
      "5/5 [==============================] - 0s 71ms/step - loss: 0.0119 - mae: 0.0875 - val_loss: 0.0136 - val_mae: 0.0935\n",
      "Epoch 898/2000\n",
      "5/5 [==============================] - 0s 76ms/step - loss: 0.0110 - mae: 0.0841 - val_loss: 0.0124 - val_mae: 0.0887\n",
      "Epoch 899/2000\n",
      "5/5 [==============================] - 0s 72ms/step - loss: 0.0087 - mae: 0.0753 - val_loss: 0.0095 - val_mae: 0.0777\n",
      "Epoch 900/2000\n",
      "5/5 [==============================] - 0s 72ms/step - loss: 0.0073 - mae: 0.0683 - val_loss: 0.0099 - val_mae: 0.0796\n",
      "Epoch 901/2000\n",
      "5/5 [==============================] - 0s 70ms/step - loss: 0.0076 - mae: 0.0696 - val_loss: 0.0089 - val_mae: 0.0747\n",
      "Epoch 902/2000\n",
      "5/5 [==============================] - 0s 75ms/step - loss: 0.0067 - mae: 0.0659 - val_loss: 0.0089 - val_mae: 0.0744\n",
      "Epoch 903/2000\n",
      "5/5 [==============================] - 0s 71ms/step - loss: 0.0067 - mae: 0.0655 - val_loss: 0.0084 - val_mae: 0.0725\n",
      "Epoch 904/2000\n",
      "5/5 [==============================] - 0s 72ms/step - loss: 0.0063 - mae: 0.0635 - val_loss: 0.0080 - val_mae: 0.0715\n",
      "Epoch 905/2000\n",
      "5/5 [==============================] - 0s 76ms/step - loss: 0.0064 - mae: 0.0641 - val_loss: 0.0079 - val_mae: 0.0704\n",
      "Epoch 906/2000\n",
      "5/5 [==============================] - 0s 72ms/step - loss: 0.0058 - mae: 0.0612 - val_loss: 0.0074 - val_mae: 0.0687\n",
      "Epoch 907/2000\n",
      "5/5 [==============================] - 0s 72ms/step - loss: 0.0056 - mae: 0.0601 - val_loss: 0.0073 - val_mae: 0.0683\n",
      "Epoch 908/2000\n",
      "5/5 [==============================] - 0s 75ms/step - loss: 0.0054 - mae: 0.0583 - val_loss: 0.0073 - val_mae: 0.0676\n",
      "Epoch 909/2000\n",
      "5/5 [==============================] - 0s 70ms/step - loss: 0.0055 - mae: 0.0595 - val_loss: 0.0069 - val_mae: 0.0666\n",
      "Epoch 910/2000\n",
      "5/5 [==============================] - 0s 71ms/step - loss: 0.0053 - mae: 0.0582 - val_loss: 0.0078 - val_mae: 0.0698\n",
      "Epoch 911/2000\n",
      "5/5 [==============================] - 0s 75ms/step - loss: 0.0056 - mae: 0.0597 - val_loss: 0.0067 - val_mae: 0.0655\n",
      "Epoch 912/2000\n",
      "5/5 [==============================] - 0s 72ms/step - loss: 0.0055 - mae: 0.0589 - val_loss: 0.0092 - val_mae: 0.0774\n",
      "Epoch 913/2000\n",
      "5/5 [==============================] - 0s 71ms/step - loss: 0.0063 - mae: 0.0639 - val_loss: 0.0067 - val_mae: 0.0655\n",
      "Epoch 914/2000\n",
      "5/5 [==============================] - 0s 71ms/step - loss: 0.0057 - mae: 0.0600 - val_loss: 0.0068 - val_mae: 0.0648\n",
      "Epoch 915/2000\n",
      "5/5 [==============================] - 0s 75ms/step - loss: 0.0051 - mae: 0.0578 - val_loss: 0.0066 - val_mae: 0.0642\n",
      "Epoch 916/2000\n",
      "5/5 [==============================] - 0s 71ms/step - loss: 0.0048 - mae: 0.0552 - val_loss: 0.0062 - val_mae: 0.0635\n",
      "Epoch 917/2000\n",
      "5/5 [==============================] - 0s 71ms/step - loss: 0.0047 - mae: 0.0554 - val_loss: 0.0064 - val_mae: 0.0633\n",
      "Epoch 918/2000\n",
      "5/5 [==============================] - 0s 76ms/step - loss: 0.0044 - mae: 0.0527 - val_loss: 0.0059 - val_mae: 0.0606\n",
      "Epoch 919/2000\n",
      "5/5 [==============================] - 0s 73ms/step - loss: 0.0041 - mae: 0.0513 - val_loss: 0.0057 - val_mae: 0.0604\n",
      "Epoch 920/2000\n",
      "5/5 [==============================] - 0s 72ms/step - loss: 0.0039 - mae: 0.0503 - val_loss: 0.0059 - val_mae: 0.0606\n",
      "Epoch 921/2000\n",
      "5/5 [==============================] - 0s 74ms/step - loss: 0.0039 - mae: 0.0503 - val_loss: 0.0058 - val_mae: 0.0611\n",
      "Epoch 922/2000\n",
      "5/5 [==============================] - 0s 72ms/step - loss: 0.0039 - mae: 0.0502 - val_loss: 0.0057 - val_mae: 0.0597\n",
      "Epoch 923/2000\n",
      "5/5 [==============================] - 0s 72ms/step - loss: 0.0040 - mae: 0.0505 - val_loss: 0.0055 - val_mae: 0.0580\n",
      "Epoch 924/2000\n",
      "5/5 [==============================] - 0s 72ms/step - loss: 0.0040 - mae: 0.0503 - val_loss: 0.0054 - val_mae: 0.0581\n",
      "Epoch 925/2000\n",
      "5/5 [==============================] - 0s 76ms/step - loss: 0.0037 - mae: 0.0486 - val_loss: 0.0056 - val_mae: 0.0588\n",
      "Epoch 926/2000\n",
      "5/5 [==============================] - 0s 72ms/step - loss: 0.0037 - mae: 0.0486 - val_loss: 0.0055 - val_mae: 0.0599\n",
      "Epoch 927/2000\n",
      "5/5 [==============================] - 0s 73ms/step - loss: 0.0037 - mae: 0.0487 - val_loss: 0.0052 - val_mae: 0.0567\n",
      "Epoch 928/2000\n",
      "5/5 [==============================] - 0s 77ms/step - loss: 0.0035 - mae: 0.0479 - val_loss: 0.0052 - val_mae: 0.0563\n",
      "Epoch 929/2000\n",
      "5/5 [==============================] - 0s 71ms/step - loss: 0.0035 - mae: 0.0471 - val_loss: 0.0051 - val_mae: 0.0572\n",
      "Epoch 930/2000\n",
      "5/5 [==============================] - 0s 71ms/step - loss: 0.0034 - mae: 0.0462 - val_loss: 0.0051 - val_mae: 0.0563\n",
      "Epoch 931/2000\n",
      "5/5 [==============================] - 0s 74ms/step - loss: 0.0033 - mae: 0.0458 - val_loss: 0.0051 - val_mae: 0.0567\n",
      "Epoch 932/2000\n",
      "5/5 [==============================] - 0s 74ms/step - loss: 0.0032 - mae: 0.0456 - val_loss: 0.0050 - val_mae: 0.0564\n",
      "Epoch 933/2000\n",
      "5/5 [==============================] - 0s 71ms/step - loss: 0.0032 - mae: 0.0454 - val_loss: 0.0050 - val_mae: 0.0553\n",
      "Epoch 934/2000\n",
      "5/5 [==============================] - 0s 74ms/step - loss: 0.0031 - mae: 0.0446 - val_loss: 0.0049 - val_mae: 0.0552\n",
      "Epoch 935/2000\n",
      "5/5 [==============================] - 0s 71ms/step - loss: 0.0031 - mae: 0.0442 - val_loss: 0.0048 - val_mae: 0.0543\n",
      "Epoch 936/2000\n",
      "5/5 [==============================] - 0s 71ms/step - loss: 0.0030 - mae: 0.0442 - val_loss: 0.0050 - val_mae: 0.0560\n",
      "Epoch 937/2000\n",
      "5/5 [==============================] - 0s 72ms/step - loss: 0.0031 - mae: 0.0446 - val_loss: 0.0047 - val_mae: 0.0540\n",
      "Epoch 938/2000\n",
      "5/5 [==============================] - 0s 75ms/step - loss: 0.0031 - mae: 0.0445 - val_loss: 0.0055 - val_mae: 0.0578\n",
      "Epoch 939/2000\n",
      "5/5 [==============================] - 0s 71ms/step - loss: 0.0031 - mae: 0.0449 - val_loss: 0.0049 - val_mae: 0.0550\n",
      "Epoch 940/2000\n",
      "5/5 [==============================] - 0s 71ms/step - loss: 0.0030 - mae: 0.0435 - val_loss: 0.0048 - val_mae: 0.0542\n",
      "Epoch 941/2000\n",
      "5/5 [==============================] - 0s 75ms/step - loss: 0.0029 - mae: 0.0430 - val_loss: 0.0045 - val_mae: 0.0535\n",
      "Epoch 942/2000\n",
      "5/5 [==============================] - 0s 73ms/step - loss: 0.0027 - mae: 0.0417 - val_loss: 0.0047 - val_mae: 0.0537\n",
      "Epoch 943/2000\n",
      "5/5 [==============================] - 0s 73ms/step - loss: 0.0028 - mae: 0.0425 - val_loss: 0.0046 - val_mae: 0.0533\n",
      "Epoch 944/2000\n",
      "5/5 [==============================] - 0s 75ms/step - loss: 0.0027 - mae: 0.0419 - val_loss: 0.0051 - val_mae: 0.0559\n",
      "Epoch 945/2000\n",
      "5/5 [==============================] - 0s 71ms/step - loss: 0.0028 - mae: 0.0424 - val_loss: 0.0043 - val_mae: 0.0519\n",
      "Epoch 946/2000\n",
      "5/5 [==============================] - 0s 71ms/step - loss: 0.0026 - mae: 0.0412 - val_loss: 0.0045 - val_mae: 0.0533\n",
      "Epoch 947/2000\n",
      "5/5 [==============================] - 0s 75ms/step - loss: 0.0027 - mae: 0.0416 - val_loss: 0.0044 - val_mae: 0.0525\n",
      "Epoch 948/2000\n",
      "5/5 [==============================] - 0s 73ms/step - loss: 0.0026 - mae: 0.0412 - val_loss: 0.0049 - val_mae: 0.0545\n",
      "Epoch 949/2000\n"
     ]
    },
    {
     "name": "stdout",
     "output_type": "stream",
     "text": [
      "5/5 [==============================] - 0s 72ms/step - loss: 0.0029 - mae: 0.0425 - val_loss: 0.0045 - val_mae: 0.0533\n",
      "Epoch 950/2000\n",
      "5/5 [==============================] - 0s 72ms/step - loss: 0.0028 - mae: 0.0423 - val_loss: 0.0046 - val_mae: 0.0535\n",
      "Epoch 951/2000\n",
      "5/5 [==============================] - 0s 77ms/step - loss: 0.0026 - mae: 0.0405 - val_loss: 0.0044 - val_mae: 0.0517\n",
      "Epoch 952/2000\n",
      "5/5 [==============================] - 0s 73ms/step - loss: 0.0025 - mae: 0.0401 - val_loss: 0.0041 - val_mae: 0.0508\n",
      "Epoch 953/2000\n",
      "5/5 [==============================] - 0s 72ms/step - loss: 0.0024 - mae: 0.0394 - val_loss: 0.0046 - val_mae: 0.0529\n",
      "Epoch 954/2000\n",
      "5/5 [==============================] - 0s 76ms/step - loss: 0.0024 - mae: 0.0393 - val_loss: 0.0041 - val_mae: 0.0503\n",
      "Epoch 955/2000\n",
      "5/5 [==============================] - 0s 71ms/step - loss: 0.0025 - mae: 0.0401 - val_loss: 0.0043 - val_mae: 0.0521\n",
      "Epoch 956/2000\n",
      "5/5 [==============================] - 0s 70ms/step - loss: 0.0025 - mae: 0.0398 - val_loss: 0.0045 - val_mae: 0.0519\n",
      "Epoch 957/2000\n",
      "5/5 [==============================] - 0s 74ms/step - loss: 0.0025 - mae: 0.0397 - val_loss: 0.0044 - val_mae: 0.0524\n",
      "Epoch 958/2000\n",
      "5/5 [==============================] - 0s 71ms/step - loss: 0.0025 - mae: 0.0402 - val_loss: 0.0044 - val_mae: 0.0519\n",
      "Epoch 959/2000\n",
      "5/5 [==============================] - 0s 70ms/step - loss: 0.0027 - mae: 0.0415 - val_loss: 0.0041 - val_mae: 0.0497\n",
      "Epoch 960/2000\n",
      "5/5 [==============================] - 0s 71ms/step - loss: 0.0024 - mae: 0.0395 - val_loss: 0.0045 - val_mae: 0.0526\n",
      "Epoch 961/2000\n",
      "5/5 [==============================] - 0s 76ms/step - loss: 0.0024 - mae: 0.0388 - val_loss: 0.0038 - val_mae: 0.0490\n",
      "Epoch 962/2000\n",
      "5/5 [==============================] - 0s 73ms/step - loss: 0.0022 - mae: 0.0374 - val_loss: 0.0042 - val_mae: 0.0508\n",
      "Epoch 963/2000\n",
      "5/5 [==============================] - 0s 72ms/step - loss: 0.0022 - mae: 0.0375 - val_loss: 0.0039 - val_mae: 0.0497\n",
      "Epoch 964/2000\n",
      "5/5 [==============================] - 0s 75ms/step - loss: 0.0022 - mae: 0.0372 - val_loss: 0.0042 - val_mae: 0.0506\n",
      "Epoch 965/2000\n",
      "5/5 [==============================] - 0s 70ms/step - loss: 0.0023 - mae: 0.0382 - val_loss: 0.0045 - val_mae: 0.0526\n",
      "Epoch 966/2000\n",
      "5/5 [==============================] - 0s 71ms/step - loss: 0.0023 - mae: 0.0384 - val_loss: 0.0039 - val_mae: 0.0491\n",
      "Epoch 967/2000\n",
      "5/5 [==============================] - 0s 74ms/step - loss: 0.0022 - mae: 0.0372 - val_loss: 0.0038 - val_mae: 0.0487\n",
      "Epoch 968/2000\n",
      "5/5 [==============================] - 0s 71ms/step - loss: 0.0022 - mae: 0.0375 - val_loss: 0.0041 - val_mae: 0.0500\n",
      "Epoch 969/2000\n",
      "5/5 [==============================] - 0s 71ms/step - loss: 0.0021 - mae: 0.0373 - val_loss: 0.0040 - val_mae: 0.0495\n",
      "Epoch 970/2000\n",
      "5/5 [==============================] - 0s 76ms/step - loss: 0.0023 - mae: 0.0379 - val_loss: 0.0040 - val_mae: 0.0491\n",
      "Epoch 971/2000\n",
      "5/5 [==============================] - 0s 71ms/step - loss: 0.0022 - mae: 0.0374 - val_loss: 0.0045 - val_mae: 0.0521\n",
      "Epoch 972/2000\n",
      "5/5 [==============================] - 0s 71ms/step - loss: 0.0024 - mae: 0.0387 - val_loss: 0.0041 - val_mae: 0.0505\n",
      "Epoch 973/2000\n",
      "5/5 [==============================] - 0s 71ms/step - loss: 0.0024 - mae: 0.0388 - val_loss: 0.0039 - val_mae: 0.0497\n",
      "Epoch 974/2000\n",
      "5/5 [==============================] - 0s 75ms/step - loss: 0.0021 - mae: 0.0366 - val_loss: 0.0041 - val_mae: 0.0502\n",
      "Epoch 975/2000\n",
      "5/5 [==============================] - 0s 71ms/step - loss: 0.0020 - mae: 0.0358 - val_loss: 0.0036 - val_mae: 0.0468\n",
      "Epoch 976/2000\n",
      "5/5 [==============================] - 0s 71ms/step - loss: 0.0019 - mae: 0.0349 - val_loss: 0.0038 - val_mae: 0.0486\n",
      "Epoch 977/2000\n",
      "5/5 [==============================] - 0s 75ms/step - loss: 0.0018 - mae: 0.0342 - val_loss: 0.0036 - val_mae: 0.0469\n",
      "Epoch 978/2000\n",
      "5/5 [==============================] - 0s 71ms/step - loss: 0.0018 - mae: 0.0341 - val_loss: 0.0035 - val_mae: 0.0468\n",
      "Epoch 979/2000\n",
      "5/5 [==============================] - 0s 71ms/step - loss: 0.0018 - mae: 0.0344 - val_loss: 0.0036 - val_mae: 0.0472\n",
      "Epoch 980/2000\n",
      "5/5 [==============================] - 0s 74ms/step - loss: 0.0018 - mae: 0.0337 - val_loss: 0.0035 - val_mae: 0.0464\n",
      "Epoch 981/2000\n",
      "5/5 [==============================] - 0s 71ms/step - loss: 0.0018 - mae: 0.0341 - val_loss: 0.0035 - val_mae: 0.0461\n",
      "Epoch 982/2000\n",
      "5/5 [==============================] - 0s 71ms/step - loss: 0.0017 - mae: 0.0327 - val_loss: 0.0036 - val_mae: 0.0470\n",
      "Epoch 983/2000\n",
      "5/5 [==============================] - 0s 74ms/step - loss: 0.0018 - mae: 0.0338 - val_loss: 0.0035 - val_mae: 0.0459\n",
      "Epoch 984/2000\n",
      "5/5 [==============================] - 0s 71ms/step - loss: 0.0018 - mae: 0.0335 - val_loss: 0.0034 - val_mae: 0.0454\n",
      "Epoch 985/2000\n",
      "5/5 [==============================] - 0s 72ms/step - loss: 0.0020 - mae: 0.0355 - val_loss: 0.0039 - val_mae: 0.0493\n",
      "Epoch 986/2000\n",
      "5/5 [==============================] - 0s 72ms/step - loss: 0.0019 - mae: 0.0346 - val_loss: 0.0034 - val_mae: 0.0452\n",
      "Epoch 987/2000\n",
      "5/5 [==============================] - 0s 75ms/step - loss: 0.0018 - mae: 0.0336 - val_loss: 0.0039 - val_mae: 0.0488\n",
      "Epoch 988/2000\n",
      "5/5 [==============================] - 0s 71ms/step - loss: 0.0023 - mae: 0.0383 - val_loss: 0.0056 - val_mae: 0.0602\n",
      "Epoch 989/2000\n",
      "5/5 [==============================] - 0s 70ms/step - loss: 0.0027 - mae: 0.0412 - val_loss: 0.0037 - val_mae: 0.0480\n",
      "Epoch 990/2000\n",
      "5/5 [==============================] - 0s 74ms/step - loss: 0.0022 - mae: 0.0377 - val_loss: 0.0046 - val_mae: 0.0529\n",
      "Epoch 991/2000\n",
      "5/5 [==============================] - 0s 70ms/step - loss: 0.0023 - mae: 0.0379 - val_loss: 0.0034 - val_mae: 0.0456\n",
      "Epoch 992/2000\n",
      "5/5 [==============================] - 0s 70ms/step - loss: 0.0022 - mae: 0.0374 - val_loss: 0.0043 - val_mae: 0.0521\n",
      "Epoch 993/2000\n",
      "5/5 [==============================] - 0s 74ms/step - loss: 0.0020 - mae: 0.0358 - val_loss: 0.0036 - val_mae: 0.0470\n",
      "Epoch 994/2000\n",
      "5/5 [==============================] - 0s 71ms/step - loss: 0.0018 - mae: 0.0337 - val_loss: 0.0040 - val_mae: 0.0497\n",
      "Epoch 995/2000\n",
      "5/5 [==============================] - 0s 71ms/step - loss: 0.0020 - mae: 0.0357 - val_loss: 0.0041 - val_mae: 0.0496\n",
      "Epoch 996/2000\n",
      "5/5 [==============================] - 0s 70ms/step - loss: 0.0023 - mae: 0.0384 - val_loss: 0.0053 - val_mae: 0.0569\n",
      "Epoch 997/2000\n",
      "5/5 [==============================] - 0s 75ms/step - loss: 0.0026 - mae: 0.0406 - val_loss: 0.0039 - val_mae: 0.0495\n",
      "Epoch 998/2000\n",
      "5/5 [==============================] - 0s 71ms/step - loss: 0.0020 - mae: 0.0352 - val_loss: 0.0035 - val_mae: 0.0457\n",
      "Epoch 999/2000\n",
      "5/5 [==============================] - 0s 70ms/step - loss: 0.0018 - mae: 0.0340 - val_loss: 0.0037 - val_mae: 0.0476\n",
      "Epoch 1000/2000\n",
      "5/5 [==============================] - 0s 74ms/step - loss: 0.0019 - mae: 0.0342 - val_loss: 0.0035 - val_mae: 0.0464\n",
      "Epoch 1001/2000\n",
      "5/5 [==============================] - 0s 71ms/step - loss: 0.0019 - mae: 0.0349 - val_loss: 0.0043 - val_mae: 0.0516\n",
      "Epoch 1002/2000\n",
      "5/5 [==============================] - 0s 70ms/step - loss: 0.0019 - mae: 0.0343 - val_loss: 0.0037 - val_mae: 0.0476\n",
      "Epoch 1003/2000\n",
      "5/5 [==============================] - 0s 74ms/step - loss: 0.0017 - mae: 0.0333 - val_loss: 0.0035 - val_mae: 0.0464\n",
      "Epoch 1004/2000\n",
      "5/5 [==============================] - 0s 71ms/step - loss: 0.0016 - mae: 0.0320 - val_loss: 0.0034 - val_mae: 0.0450\n",
      "Epoch 1005/2000\n",
      "5/5 [==============================] - 0s 70ms/step - loss: 0.0016 - mae: 0.0316 - val_loss: 0.0032 - val_mae: 0.0446\n",
      "Epoch 1006/2000\n",
      "5/5 [==============================] - 0s 70ms/step - loss: 0.0015 - mae: 0.0310 - val_loss: 0.0036 - val_mae: 0.0465\n",
      "Epoch 1007/2000\n",
      "5/5 [==============================] - 0s 73ms/step - loss: 0.0015 - mae: 0.0310 - val_loss: 0.0031 - val_mae: 0.0433\n",
      "Epoch 1008/2000\n",
      "5/5 [==============================] - 0s 71ms/step - loss: 0.0015 - mae: 0.0310 - val_loss: 0.0037 - val_mae: 0.0472\n",
      "Epoch 1009/2000\n",
      "5/5 [==============================] - 0s 71ms/step - loss: 0.0018 - mae: 0.0335 - val_loss: 0.0032 - val_mae: 0.0438\n",
      "Epoch 1010/2000\n"
     ]
    },
    {
     "name": "stdout",
     "output_type": "stream",
     "text": [
      "5/5 [==============================] - 0s 74ms/step - loss: 0.0015 - mae: 0.0306 - val_loss: 0.0033 - val_mae: 0.0446\n",
      "Epoch 1011/2000\n",
      "5/5 [==============================] - 0s 71ms/step - loss: 0.0015 - mae: 0.0313 - val_loss: 0.0033 - val_mae: 0.0449\n",
      "Epoch 1012/2000\n",
      "5/5 [==============================] - 0s 71ms/step - loss: 0.0015 - mae: 0.0307 - val_loss: 0.0032 - val_mae: 0.0448\n",
      "Epoch 1013/2000\n",
      "5/5 [==============================] - 0s 75ms/step - loss: 0.0015 - mae: 0.0304 - val_loss: 0.0034 - val_mae: 0.0455\n",
      "Epoch 1014/2000\n",
      "5/5 [==============================] - 0s 72ms/step - loss: 0.0016 - mae: 0.0316 - val_loss: 0.0034 - val_mae: 0.0458\n",
      "Epoch 1015/2000\n",
      "5/5 [==============================] - 0s 71ms/step - loss: 0.0016 - mae: 0.0319 - val_loss: 0.0034 - val_mae: 0.0455\n",
      "Epoch 1016/2000\n",
      "5/5 [==============================] - 0s 71ms/step - loss: 0.0015 - mae: 0.0310 - val_loss: 0.0031 - val_mae: 0.0434\n",
      "Epoch 1017/2000\n",
      "5/5 [==============================] - 0s 75ms/step - loss: 0.0014 - mae: 0.0295 - val_loss: 0.0031 - val_mae: 0.0434\n",
      "Epoch 1018/2000\n",
      "5/5 [==============================] - 0s 73ms/step - loss: 0.0014 - mae: 0.0298 - val_loss: 0.0031 - val_mae: 0.0431\n",
      "Epoch 1019/2000\n",
      "5/5 [==============================] - 0s 74ms/step - loss: 0.0014 - mae: 0.0294 - val_loss: 0.0032 - val_mae: 0.0445\n",
      "Epoch 1020/2000\n",
      "5/5 [==============================] - 0s 77ms/step - loss: 0.0014 - mae: 0.0301 - val_loss: 0.0032 - val_mae: 0.0442\n",
      "Epoch 1021/2000\n",
      "5/5 [==============================] - 0s 72ms/step - loss: 0.0014 - mae: 0.0298 - val_loss: 0.0030 - val_mae: 0.0432\n",
      "Epoch 1022/2000\n",
      "5/5 [==============================] - 0s 72ms/step - loss: 0.0014 - mae: 0.0295 - val_loss: 0.0032 - val_mae: 0.0437\n",
      "Epoch 1023/2000\n",
      "5/5 [==============================] - 0s 75ms/step - loss: 0.0014 - mae: 0.0295 - val_loss: 0.0032 - val_mae: 0.0442\n",
      "Epoch 1024/2000\n",
      "5/5 [==============================] - 0s 72ms/step - loss: 0.0014 - mae: 0.0298 - val_loss: 0.0031 - val_mae: 0.0433\n",
      "Epoch 1025/2000\n",
      "5/5 [==============================] - 0s 72ms/step - loss: 0.0014 - mae: 0.0294 - val_loss: 0.0030 - val_mae: 0.0424\n",
      "Epoch 1026/2000\n",
      "5/5 [==============================] - 0s 76ms/step - loss: 0.0014 - mae: 0.0296 - val_loss: 0.0030 - val_mae: 0.0426\n",
      "Epoch 1027/2000\n",
      "5/5 [==============================] - 0s 74ms/step - loss: 0.0014 - mae: 0.0296 - val_loss: 0.0032 - val_mae: 0.0447\n",
      "Epoch 1028/2000\n",
      "1/5 [=====>........................] - ETA: 0s - loss: 0.0015 - mae: 0.0313"
     ]
    },
    {
     "name": "stderr",
     "output_type": "stream",
     "text": [
      "WARNING:absl:Found untraced functions such as lstm_cell_layer_call_fn, lstm_cell_layer_call_and_return_conditional_losses while saving (showing 2 of 2). These functions will not be directly callable after loading.\n"
     ]
    },
    {
     "name": "stdout",
     "output_type": "stream",
     "text": [
      "INFO:tensorflow:Assets written to: C:\\Users\\PARK\\Documents\\LAB\\RNN vs LSTM\\FInal Example\\wandb\\run-20221016_023555-20c04pun\\files\\model-best\\assets\n"
     ]
    },
    {
     "name": "stderr",
     "output_type": "stream",
     "text": [
      "INFO:tensorflow:Assets written to: C:\\Users\\PARK\\Documents\\LAB\\RNN vs LSTM\\FInal Example\\wandb\\run-20221016_023555-20c04pun\\files\\model-best\\assets\n",
      "\u001b[34m\u001b[1mwandb\u001b[0m: Adding directory to artifact (C:\\Users\\PARK\\Documents\\LAB\\RNN vs LSTM\\FInal Example\\wandb\\run-20221016_023555-20c04pun\\files\\model-best)... Done. 0.1s\n"
     ]
    },
    {
     "name": "stdout",
     "output_type": "stream",
     "text": [
      "5/5 [==============================] - 4s 1s/step - loss: 0.0014 - mae: 0.0300 - val_loss: 0.0029 - val_mae: 0.0417\n",
      "Epoch 1029/2000\n",
      "5/5 [==============================] - 1s 123ms/step - loss: 0.0013 - mae: 0.0287 - val_loss: 0.0030 - val_mae: 0.0425\n",
      "Epoch 1030/2000\n",
      "5/5 [==============================] - 0s 96ms/step - loss: 0.0013 - mae: 0.0283 - val_loss: 0.0030 - val_mae: 0.0433\n",
      "Epoch 1031/2000\n",
      "5/5 [==============================] - 0s 81ms/step - loss: 0.0013 - mae: 0.0283 - val_loss: 0.0030 - val_mae: 0.0422\n",
      "Epoch 1032/2000\n",
      "5/5 [==============================] - 0s 72ms/step - loss: 0.0013 - mae: 0.0282 - val_loss: 0.0030 - val_mae: 0.0433\n",
      "Epoch 1033/2000\n",
      "5/5 [==============================] - 0s 76ms/step - loss: 0.0013 - mae: 0.0283 - val_loss: 0.0029 - val_mae: 0.0416\n",
      "Epoch 1034/2000\n",
      "5/5 [==============================] - 0s 74ms/step - loss: 0.0012 - mae: 0.0281 - val_loss: 0.0029 - val_mae: 0.0422\n",
      "Epoch 1035/2000\n",
      "5/5 [==============================] - 0s 73ms/step - loss: 0.0013 - mae: 0.0282 - val_loss: 0.0029 - val_mae: 0.0422\n",
      "Epoch 1036/2000\n",
      "1/5 [=====>........................] - ETA: 0s - loss: 0.0012 - mae: 0.0271"
     ]
    },
    {
     "name": "stderr",
     "output_type": "stream",
     "text": [
      "WARNING:absl:Found untraced functions such as lstm_cell_layer_call_fn, lstm_cell_layer_call_and_return_conditional_losses while saving (showing 2 of 2). These functions will not be directly callable after loading.\n"
     ]
    },
    {
     "name": "stdout",
     "output_type": "stream",
     "text": [
      "INFO:tensorflow:Assets written to: C:\\Users\\PARK\\Documents\\LAB\\RNN vs LSTM\\FInal Example\\wandb\\run-20221016_023555-20c04pun\\files\\model-best\\assets\n"
     ]
    },
    {
     "name": "stderr",
     "output_type": "stream",
     "text": [
      "INFO:tensorflow:Assets written to: C:\\Users\\PARK\\Documents\\LAB\\RNN vs LSTM\\FInal Example\\wandb\\run-20221016_023555-20c04pun\\files\\model-best\\assets\n",
      "\u001b[34m\u001b[1mwandb\u001b[0m: Adding directory to artifact (C:\\Users\\PARK\\Documents\\LAB\\RNN vs LSTM\\FInal Example\\wandb\\run-20221016_023555-20c04pun\\files\\model-best)... Done. 0.1s\n"
     ]
    },
    {
     "name": "stdout",
     "output_type": "stream",
     "text": [
      "5/5 [==============================] - 4s 980ms/step - loss: 0.0012 - mae: 0.0275 - val_loss: 0.0029 - val_mae: 0.0420\n",
      "Epoch 1037/2000\n",
      "5/5 [==============================] - 1s 114ms/step - loss: 0.0012 - mae: 0.0279 - val_loss: 0.0029 - val_mae: 0.0422\n",
      "Epoch 1038/2000\n",
      "1/5 [=====>........................] - ETA: 0s - loss: 0.0011 - mae: 0.0266"
     ]
    },
    {
     "name": "stderr",
     "output_type": "stream",
     "text": [
      "WARNING:absl:Found untraced functions such as lstm_cell_layer_call_fn, lstm_cell_layer_call_and_return_conditional_losses while saving (showing 2 of 2). These functions will not be directly callable after loading.\n"
     ]
    },
    {
     "name": "stdout",
     "output_type": "stream",
     "text": [
      "INFO:tensorflow:Assets written to: C:\\Users\\PARK\\Documents\\LAB\\RNN vs LSTM\\FInal Example\\wandb\\run-20221016_023555-20c04pun\\files\\model-best\\assets\n"
     ]
    },
    {
     "name": "stderr",
     "output_type": "stream",
     "text": [
      "INFO:tensorflow:Assets written to: C:\\Users\\PARK\\Documents\\LAB\\RNN vs LSTM\\FInal Example\\wandb\\run-20221016_023555-20c04pun\\files\\model-best\\assets\n",
      "\u001b[34m\u001b[1mwandb\u001b[0m: Adding directory to artifact (C:\\Users\\PARK\\Documents\\LAB\\RNN vs LSTM\\FInal Example\\wandb\\run-20221016_023555-20c04pun\\files\\model-best)... Done. 0.1s\n"
     ]
    },
    {
     "name": "stdout",
     "output_type": "stream",
     "text": [
      "5/5 [==============================] - 4s 1s/step - loss: 0.0012 - mae: 0.0272 - val_loss: 0.0029 - val_mae: 0.0417\n",
      "Epoch 1039/2000\n",
      "5/5 [==============================] - 1s 137ms/step - loss: 0.0012 - mae: 0.0271 - val_loss: 0.0029 - val_mae: 0.0424\n",
      "Epoch 1040/2000\n",
      "1/5 [=====>........................] - ETA: 0s - loss: 0.0011 - mae: 0.0268"
     ]
    },
    {
     "name": "stderr",
     "output_type": "stream",
     "text": [
      "WARNING:absl:Found untraced functions such as lstm_cell_layer_call_fn, lstm_cell_layer_call_and_return_conditional_losses while saving (showing 2 of 2). These functions will not be directly callable after loading.\n"
     ]
    },
    {
     "name": "stdout",
     "output_type": "stream",
     "text": [
      "INFO:tensorflow:Assets written to: C:\\Users\\PARK\\Documents\\LAB\\RNN vs LSTM\\FInal Example\\wandb\\run-20221016_023555-20c04pun\\files\\model-best\\assets\n"
     ]
    },
    {
     "name": "stderr",
     "output_type": "stream",
     "text": [
      "INFO:tensorflow:Assets written to: C:\\Users\\PARK\\Documents\\LAB\\RNN vs LSTM\\FInal Example\\wandb\\run-20221016_023555-20c04pun\\files\\model-best\\assets\n",
      "\u001b[34m\u001b[1mwandb\u001b[0m: Adding directory to artifact (C:\\Users\\PARK\\Documents\\LAB\\RNN vs LSTM\\FInal Example\\wandb\\run-20221016_023555-20c04pun\\files\\model-best)... Done. 0.1s\n"
     ]
    },
    {
     "name": "stdout",
     "output_type": "stream",
     "text": [
      "5/5 [==============================] - 4s 1s/step - loss: 0.0012 - mae: 0.0275 - val_loss: 0.0028 - val_mae: 0.0414\n",
      "Epoch 1041/2000\n",
      "5/5 [==============================] - 1s 109ms/step - loss: 0.0012 - mae: 0.0274 - val_loss: 0.0030 - val_mae: 0.0426\n",
      "Epoch 1042/2000\n",
      "5/5 [==============================] - 0s 76ms/step - loss: 0.0012 - mae: 0.0274 - val_loss: 0.0029 - val_mae: 0.0415\n",
      "Epoch 1043/2000\n",
      "5/5 [==============================] - 0s 77ms/step - loss: 0.0012 - mae: 0.0279 - val_loss: 0.0029 - val_mae: 0.0416\n",
      "Epoch 1044/2000\n",
      "5/5 [==============================] - 0s 77ms/step - loss: 0.0012 - mae: 0.0273 - val_loss: 0.0029 - val_mae: 0.0420\n",
      "Epoch 1045/2000\n",
      "5/5 [==============================] - 0s 71ms/step - loss: 0.0012 - mae: 0.0279 - val_loss: 0.0029 - val_mae: 0.0422\n",
      "Epoch 1046/2000\n",
      "5/5 [==============================] - 0s 74ms/step - loss: 0.0012 - mae: 0.0279 - val_loss: 0.0031 - val_mae: 0.0438\n",
      "Epoch 1047/2000\n",
      "5/5 [==============================] - 0s 73ms/step - loss: 0.0012 - mae: 0.0280 - val_loss: 0.0033 - val_mae: 0.0457\n",
      "Epoch 1048/2000\n",
      "5/5 [==============================] - 0s 72ms/step - loss: 0.0014 - mae: 0.0298 - val_loss: 0.0030 - val_mae: 0.0430\n",
      "Epoch 1049/2000\n",
      "5/5 [==============================] - 0s 74ms/step - loss: 0.0015 - mae: 0.0307 - val_loss: 0.0033 - val_mae: 0.0443\n",
      "Epoch 1050/2000\n",
      "5/5 [==============================] - 0s 72ms/step - loss: 0.0015 - mae: 0.0313 - val_loss: 0.0037 - val_mae: 0.0479\n",
      "Epoch 1051/2000\n",
      "5/5 [==============================] - 0s 72ms/step - loss: 0.0017 - mae: 0.0326 - val_loss: 0.0039 - val_mae: 0.0494\n",
      "Epoch 1052/2000\n",
      "5/5 [==============================] - 0s 73ms/step - loss: 0.0018 - mae: 0.0341 - val_loss: 0.0032 - val_mae: 0.0443\n",
      "Epoch 1053/2000\n",
      "5/5 [==============================] - 0s 72ms/step - loss: 0.0015 - mae: 0.0313 - val_loss: 0.0040 - val_mae: 0.0501\n",
      "Epoch 1054/2000\n",
      "5/5 [==============================] - 0s 72ms/step - loss: 0.0017 - mae: 0.0327 - val_loss: 0.0032 - val_mae: 0.0437\n",
      "Epoch 1055/2000\n",
      "5/5 [==============================] - 0s 72ms/step - loss: 0.0013 - mae: 0.0285 - val_loss: 0.0030 - val_mae: 0.0432\n",
      "Epoch 1056/2000\n",
      "5/5 [==============================] - 0s 75ms/step - loss: 0.0012 - mae: 0.0274 - val_loss: 0.0031 - val_mae: 0.0429\n",
      "Epoch 1057/2000\n",
      "5/5 [==============================] - 0s 71ms/step - loss: 0.0012 - mae: 0.0272 - val_loss: 0.0030 - val_mae: 0.0421\n",
      "Epoch 1058/2000\n",
      "5/5 [==============================] - 0s 71ms/step - loss: 0.0012 - mae: 0.0271 - val_loss: 0.0030 - val_mae: 0.0423\n",
      "Epoch 1059/2000\n",
      "5/5 [==============================] - 0s 73ms/step - loss: 0.0011 - mae: 0.0271 - val_loss: 0.0029 - val_mae: 0.0417\n",
      "Epoch 1060/2000\n",
      "5/5 [==============================] - 0s 73ms/step - loss: 0.0011 - mae: 0.0269 - val_loss: 0.0029 - val_mae: 0.0418\n",
      "Epoch 1061/2000\n",
      "5/5 [==============================] - 0s 72ms/step - loss: 0.0011 - mae: 0.0265 - val_loss: 0.0028 - val_mae: 0.0415\n",
      "Epoch 1062/2000\n",
      "5/5 [==============================] - 0s 73ms/step - loss: 0.0011 - mae: 0.0263 - val_loss: 0.0029 - val_mae: 0.0419\n",
      "Epoch 1063/2000\n",
      "5/5 [==============================] - 0s 72ms/step - loss: 0.0011 - mae: 0.0262 - val_loss: 0.0029 - val_mae: 0.0420\n",
      "Epoch 1064/2000\n",
      "5/5 [==============================] - 0s 71ms/step - loss: 0.0011 - mae: 0.0267 - val_loss: 0.0029 - val_mae: 0.0419\n",
      "Epoch 1065/2000\n",
      "5/5 [==============================] - 0s 71ms/step - loss: 0.0011 - mae: 0.0265 - val_loss: 0.0029 - val_mae: 0.0421\n",
      "Epoch 1066/2000\n",
      "1/5 [=====>........................] - ETA: 0s - loss: 0.0012 - mae: 0.0270"
     ]
    },
    {
     "name": "stderr",
     "output_type": "stream",
     "text": [
      "WARNING:absl:Found untraced functions such as lstm_cell_layer_call_fn, lstm_cell_layer_call_and_return_conditional_losses while saving (showing 2 of 2). These functions will not be directly callable after loading.\n"
     ]
    },
    {
     "name": "stdout",
     "output_type": "stream",
     "text": [
      "INFO:tensorflow:Assets written to: C:\\Users\\PARK\\Documents\\LAB\\RNN vs LSTM\\FInal Example\\wandb\\run-20221016_023555-20c04pun\\files\\model-best\\assets\n"
     ]
    },
    {
     "name": "stderr",
     "output_type": "stream",
     "text": [
      "INFO:tensorflow:Assets written to: C:\\Users\\PARK\\Documents\\LAB\\RNN vs LSTM\\FInal Example\\wandb\\run-20221016_023555-20c04pun\\files\\model-best\\assets\n",
      "\u001b[34m\u001b[1mwandb\u001b[0m: Adding directory to artifact (C:\\Users\\PARK\\Documents\\LAB\\RNN vs LSTM\\FInal Example\\wandb\\run-20221016_023555-20c04pun\\files\\model-best)... Done. 0.1s\n"
     ]
    },
    {
     "name": "stdout",
     "output_type": "stream",
     "text": [
      "5/5 [==============================] - 4s 1s/step - loss: 0.0011 - mae: 0.0266 - val_loss: 0.0028 - val_mae: 0.0415\n",
      "Epoch 1067/2000\n",
      "5/5 [==============================] - 1s 129ms/step - loss: 0.0011 - mae: 0.0259 - val_loss: 0.0029 - val_mae: 0.0418\n",
      "Epoch 1068/2000\n",
      "5/5 [==============================] - 0s 92ms/step - loss: 0.0010 - mae: 0.0257 - val_loss: 0.0029 - val_mae: 0.0419\n",
      "Epoch 1069/2000\n",
      "5/5 [==============================] - 0s 82ms/step - loss: 0.0011 - mae: 0.0260 - val_loss: 0.0029 - val_mae: 0.0421\n",
      "Epoch 1070/2000\n",
      "5/5 [==============================] - 0s 72ms/step - loss: 0.0011 - mae: 0.0262 - val_loss: 0.0029 - val_mae: 0.0416\n",
      "Epoch 1071/2000\n",
      "5/5 [==============================] - 0s 71ms/step - loss: 0.0011 - mae: 0.0262 - val_loss: 0.0029 - val_mae: 0.0426\n",
      "Epoch 1072/2000\n",
      "5/5 [==============================] - 0s 75ms/step - loss: 0.0011 - mae: 0.0262 - val_loss: 0.0028 - val_mae: 0.0415\n",
      "Epoch 1073/2000\n",
      "5/5 [==============================] - 0s 72ms/step - loss: 0.0010 - mae: 0.0257 - val_loss: 0.0029 - val_mae: 0.0428\n",
      "Epoch 1074/2000\n",
      "5/5 [==============================] - 0s 72ms/step - loss: 0.0011 - mae: 0.0261 - val_loss: 0.0029 - val_mae: 0.0419\n",
      "Epoch 1075/2000\n",
      "5/5 [==============================] - 0s 74ms/step - loss: 0.0012 - mae: 0.0270 - val_loss: 0.0029 - val_mae: 0.0423\n",
      "Epoch 1076/2000\n",
      "5/5 [==============================] - 0s 73ms/step - loss: 0.0011 - mae: 0.0263 - val_loss: 0.0030 - val_mae: 0.0424\n",
      "Epoch 1077/2000\n",
      "5/5 [==============================] - 0s 72ms/step - loss: 0.0011 - mae: 0.0264 - val_loss: 0.0029 - val_mae: 0.0422\n",
      "Epoch 1078/2000\n",
      "5/5 [==============================] - 0s 76ms/step - loss: 0.0011 - mae: 0.0259 - val_loss: 0.0031 - val_mae: 0.0438\n",
      "Epoch 1079/2000\n",
      "5/5 [==============================] - 0s 72ms/step - loss: 0.0011 - mae: 0.0264 - val_loss: 0.0031 - val_mae: 0.0436\n",
      "Epoch 1080/2000\n",
      "5/5 [==============================] - 0s 71ms/step - loss: 0.0012 - mae: 0.0280 - val_loss: 0.0031 - val_mae: 0.0440\n",
      "Epoch 1081/2000\n",
      "5/5 [==============================] - 0s 72ms/step - loss: 0.0013 - mae: 0.0289 - val_loss: 0.0030 - val_mae: 0.0421\n",
      "Epoch 1082/2000\n",
      "5/5 [==============================] - 0s 72ms/step - loss: 0.0012 - mae: 0.0278 - val_loss: 0.0030 - val_mae: 0.0432\n",
      "Epoch 1083/2000\n",
      "5/5 [==============================] - 0s 72ms/step - loss: 0.0011 - mae: 0.0261 - val_loss: 0.0029 - val_mae: 0.0422\n",
      "Epoch 1084/2000\n",
      "5/5 [==============================] - 0s 71ms/step - loss: 0.0010 - mae: 0.0256 - val_loss: 0.0028 - val_mae: 0.0416\n",
      "Epoch 1085/2000\n",
      "5/5 [==============================] - 0s 74ms/step - loss: 0.0010 - mae: 0.0254 - val_loss: 0.0029 - val_mae: 0.0418\n",
      "Epoch 1086/2000\n",
      "5/5 [==============================] - 0s 71ms/step - loss: 0.0010 - mae: 0.0256 - val_loss: 0.0029 - val_mae: 0.0420\n",
      "Epoch 1087/2000\n",
      "5/5 [==============================] - 0s 71ms/step - loss: 0.0010 - mae: 0.0250 - val_loss: 0.0028 - val_mae: 0.0413\n",
      "Epoch 1088/2000\n",
      "5/5 [==============================] - 0s 73ms/step - loss: 0.0010 - mae: 0.0253 - val_loss: 0.0030 - val_mae: 0.0432\n",
      "Epoch 1089/2000\n",
      "5/5 [==============================] - 0s 72ms/step - loss: 0.0012 - mae: 0.0281 - val_loss: 0.0032 - val_mae: 0.0434\n",
      "Epoch 1090/2000\n",
      "5/5 [==============================] - 0s 71ms/step - loss: 0.0012 - mae: 0.0278 - val_loss: 0.0034 - val_mae: 0.0462\n",
      "Epoch 1091/2000\n",
      "5/5 [==============================] - 0s 70ms/step - loss: 0.0014 - mae: 0.0294 - val_loss: 0.0031 - val_mae: 0.0426\n",
      "Epoch 1092/2000\n",
      "5/5 [==============================] - 0s 72ms/step - loss: 0.0015 - mae: 0.0302 - val_loss: 0.0033 - val_mae: 0.0455\n",
      "Epoch 1093/2000\n",
      "5/5 [==============================] - 0s 74ms/step - loss: 0.0015 - mae: 0.0306 - val_loss: 0.0033 - val_mae: 0.0455\n",
      "Epoch 1094/2000\n",
      "5/5 [==============================] - 0s 71ms/step - loss: 0.0014 - mae: 0.0302 - val_loss: 0.0034 - val_mae: 0.0453\n",
      "Epoch 1095/2000\n",
      "5/5 [==============================] - 0s 73ms/step - loss: 0.0014 - mae: 0.0298 - val_loss: 0.0030 - val_mae: 0.0424\n",
      "Epoch 1096/2000\n",
      "5/5 [==============================] - 0s 75ms/step - loss: 0.0012 - mae: 0.0281 - val_loss: 0.0031 - val_mae: 0.0434\n",
      "Epoch 1097/2000\n",
      "5/5 [==============================] - 0s 73ms/step - loss: 0.0013 - mae: 0.0283 - val_loss: 0.0031 - val_mae: 0.0431\n",
      "Epoch 1098/2000\n",
      "5/5 [==============================] - 0s 75ms/step - loss: 0.0012 - mae: 0.0277 - val_loss: 0.0029 - val_mae: 0.0424\n",
      "Epoch 1099/2000\n",
      "5/5 [==============================] - 0s 72ms/step - loss: 0.0011 - mae: 0.0261 - val_loss: 0.0030 - val_mae: 0.0429\n",
      "Epoch 1100/2000\n",
      "5/5 [==============================] - 0s 73ms/step - loss: 0.0010 - mae: 0.0255 - val_loss: 0.0029 - val_mae: 0.0426\n",
      "Epoch 1101/2000\n",
      "5/5 [==============================] - 0s 72ms/step - loss: 0.0010 - mae: 0.0255 - val_loss: 0.0031 - val_mae: 0.0438\n",
      "Epoch 1102/2000\n",
      "5/5 [==============================] - 0s 73ms/step - loss: 0.0011 - mae: 0.0264 - val_loss: 0.0030 - val_mae: 0.0422\n",
      "Epoch 1103/2000\n",
      "5/5 [==============================] - 0s 71ms/step - loss: 0.0011 - mae: 0.0262 - val_loss: 0.0031 - val_mae: 0.0447\n",
      "Epoch 1104/2000\n",
      "5/5 [==============================] - 0s 71ms/step - loss: 0.0011 - mae: 0.0263 - val_loss: 0.0031 - val_mae: 0.0431\n",
      "Epoch 1105/2000\n",
      "5/5 [==============================] - 0s 73ms/step - loss: 0.0013 - mae: 0.0281 - val_loss: 0.0032 - val_mae: 0.0446\n",
      "Epoch 1106/2000\n",
      "5/5 [==============================] - 0s 71ms/step - loss: 0.0015 - mae: 0.0311 - val_loss: 0.0038 - val_mae: 0.0501\n",
      "Epoch 1107/2000\n",
      "5/5 [==============================] - 0s 70ms/step - loss: 0.0016 - mae: 0.0315 - val_loss: 0.0036 - val_mae: 0.0468\n",
      "Epoch 1108/2000\n",
      "5/5 [==============================] - 0s 74ms/step - loss: 0.0014 - mae: 0.0296 - val_loss: 0.0030 - val_mae: 0.0434\n",
      "Epoch 1109/2000\n",
      "5/5 [==============================] - 0s 73ms/step - loss: 0.0012 - mae: 0.0271 - val_loss: 0.0030 - val_mae: 0.0432\n",
      "Epoch 1110/2000\n",
      "5/5 [==============================] - 0s 72ms/step - loss: 0.0011 - mae: 0.0260 - val_loss: 0.0032 - val_mae: 0.0439\n",
      "Epoch 1111/2000\n",
      "5/5 [==============================] - 0s 72ms/step - loss: 0.0011 - mae: 0.0265 - val_loss: 0.0030 - val_mae: 0.0433\n",
      "Epoch 1112/2000\n",
      "5/5 [==============================] - 0s 74ms/step - loss: 0.0010 - mae: 0.0257 - val_loss: 0.0030 - val_mae: 0.0423\n",
      "Epoch 1113/2000\n",
      "5/5 [==============================] - 0s 72ms/step - loss: 0.0010 - mae: 0.0250 - val_loss: 0.0030 - val_mae: 0.0425\n",
      "Epoch 1114/2000\n",
      "5/5 [==============================] - 0s 72ms/step - loss: 9.5809e-04 - mae: 0.0246 - val_loss: 0.0029 - val_mae: 0.0421\n",
      "Epoch 1115/2000\n",
      "5/5 [==============================] - 0s 75ms/step - loss: 9.7918e-04 - mae: 0.0248 - val_loss: 0.0028 - val_mae: 0.0419\n",
      "Epoch 1116/2000\n",
      "5/5 [==============================] - 0s 73ms/step - loss: 9.4683e-04 - mae: 0.0243 - val_loss: 0.0029 - val_mae: 0.0417\n",
      "Epoch 1117/2000\n",
      "5/5 [==============================] - 0s 74ms/step - loss: 9.4499e-04 - mae: 0.0244 - val_loss: 0.0029 - val_mae: 0.0415\n",
      "Epoch 1118/2000\n",
      "5/5 [==============================] - 0s 74ms/step - loss: 9.6911e-04 - mae: 0.0247 - val_loss: 0.0029 - val_mae: 0.0432\n",
      "Epoch 1119/2000\n",
      "5/5 [==============================] - 0s 73ms/step - loss: 9.6219e-04 - mae: 0.0246 - val_loss: 0.0030 - val_mae: 0.0427\n",
      "Epoch 1120/2000\n",
      "5/5 [==============================] - 0s 72ms/step - loss: 0.0010 - mae: 0.0255 - val_loss: 0.0032 - val_mae: 0.0453\n",
      "Epoch 1121/2000\n",
      "5/5 [==============================] - 0s 76ms/step - loss: 0.0013 - mae: 0.0284 - val_loss: 0.0029 - val_mae: 0.0418\n",
      "Epoch 1122/2000\n",
      "5/5 [==============================] - 0s 73ms/step - loss: 0.0012 - mae: 0.0279 - val_loss: 0.0030 - val_mae: 0.0424\n",
      "Epoch 1123/2000\n",
      "5/5 [==============================] - 0s 73ms/step - loss: 0.0011 - mae: 0.0268 - val_loss: 0.0032 - val_mae: 0.0453\n",
      "Epoch 1124/2000\n",
      "5/5 [==============================] - 0s 72ms/step - loss: 0.0011 - mae: 0.0268 - val_loss: 0.0033 - val_mae: 0.0443\n",
      "Epoch 1125/2000\n",
      "5/5 [==============================] - 0s 75ms/step - loss: 0.0012 - mae: 0.0273 - val_loss: 0.0031 - val_mae: 0.0439\n",
      "Epoch 1126/2000\n",
      "5/5 [==============================] - 0s 73ms/step - loss: 0.0011 - mae: 0.0263 - val_loss: 0.0029 - val_mae: 0.0422\n",
      "Epoch 1127/2000\n"
     ]
    },
    {
     "name": "stdout",
     "output_type": "stream",
     "text": [
      "5/5 [==============================] - 0s 73ms/step - loss: 0.0011 - mae: 0.0257 - val_loss: 0.0033 - val_mae: 0.0445\n",
      "Epoch 1128/2000\n",
      "5/5 [==============================] - 0s 74ms/step - loss: 0.0012 - mae: 0.0277 - val_loss: 0.0033 - val_mae: 0.0460\n",
      "Epoch 1129/2000\n",
      "5/5 [==============================] - 0s 76ms/step - loss: 0.0014 - mae: 0.0300 - val_loss: 0.0038 - val_mae: 0.0488\n",
      "Epoch 1130/2000\n",
      "5/5 [==============================] - 0s 71ms/step - loss: 0.0015 - mae: 0.0309 - val_loss: 0.0032 - val_mae: 0.0443\n",
      "Epoch 1131/2000\n",
      "5/5 [==============================] - 0s 74ms/step - loss: 0.0013 - mae: 0.0286 - val_loss: 0.0037 - val_mae: 0.0489\n",
      "Epoch 1132/2000\n",
      "5/5 [==============================] - 0s 74ms/step - loss: 0.0013 - mae: 0.0292 - val_loss: 0.0030 - val_mae: 0.0425\n",
      "Epoch 1133/2000\n",
      "5/5 [==============================] - 0s 73ms/step - loss: 9.4159e-04 - mae: 0.0242 - val_loss: 0.0029 - val_mae: 0.0427\n",
      "Epoch 1134/2000\n",
      "5/5 [==============================] - 0s 74ms/step - loss: 9.4835e-04 - mae: 0.0244 - val_loss: 0.0030 - val_mae: 0.0420\n",
      "Epoch 1135/2000\n",
      "5/5 [==============================] - 0s 74ms/step - loss: 9.6229e-04 - mae: 0.0244 - val_loss: 0.0029 - val_mae: 0.0425\n",
      "Epoch 1136/2000\n",
      "5/5 [==============================] - 0s 72ms/step - loss: 8.8125e-04 - mae: 0.0236 - val_loss: 0.0029 - val_mae: 0.0416\n",
      "Epoch 1137/2000\n",
      "5/5 [==============================] - 0s 73ms/step - loss: 8.7646e-04 - mae: 0.0234 - val_loss: 0.0030 - val_mae: 0.0425\n",
      "Epoch 1138/2000\n",
      "5/5 [==============================] - 0s 71ms/step - loss: 8.5648e-04 - mae: 0.0231 - val_loss: 0.0029 - val_mae: 0.0420\n",
      "Epoch 1139/2000\n",
      "5/5 [==============================] - 0s 70ms/step - loss: 8.6569e-04 - mae: 0.0232 - val_loss: 0.0029 - val_mae: 0.0424\n",
      "Epoch 1140/2000\n",
      "5/5 [==============================] - 0s 72ms/step - loss: 8.7967e-04 - mae: 0.0236 - val_loss: 0.0030 - val_mae: 0.0427\n",
      "Epoch 1141/2000\n",
      "5/5 [==============================] - 0s 71ms/step - loss: 9.6427e-04 - mae: 0.0246 - val_loss: 0.0029 - val_mae: 0.0429\n",
      "Epoch 1142/2000\n",
      "5/5 [==============================] - 0s 72ms/step - loss: 9.8696e-04 - mae: 0.0250 - val_loss: 0.0030 - val_mae: 0.0423\n",
      "Epoch 1143/2000\n",
      "5/5 [==============================] - 0s 70ms/step - loss: 9.5927e-04 - mae: 0.0245 - val_loss: 0.0032 - val_mae: 0.0453\n",
      "Epoch 1144/2000\n",
      "5/5 [==============================] - 0s 73ms/step - loss: 9.9867e-04 - mae: 0.0251 - val_loss: 0.0030 - val_mae: 0.0422\n",
      "Epoch 1145/2000\n",
      "5/5 [==============================] - 0s 72ms/step - loss: 9.4428e-04 - mae: 0.0242 - val_loss: 0.0029 - val_mae: 0.0418\n",
      "Epoch 1146/2000\n",
      "5/5 [==============================] - 0s 72ms/step - loss: 9.3548e-04 - mae: 0.0242 - val_loss: 0.0033 - val_mae: 0.0459\n",
      "Epoch 1147/2000\n",
      "5/5 [==============================] - 0s 74ms/step - loss: 0.0011 - mae: 0.0261 - val_loss: 0.0031 - val_mae: 0.0427\n",
      "Epoch 1148/2000\n",
      "5/5 [==============================] - 0s 71ms/step - loss: 0.0010 - mae: 0.0251 - val_loss: 0.0032 - val_mae: 0.0447\n",
      "Epoch 1149/2000\n",
      "5/5 [==============================] - 0s 72ms/step - loss: 0.0010 - mae: 0.0255 - val_loss: 0.0030 - val_mae: 0.0431\n",
      "Epoch 1150/2000\n",
      "5/5 [==============================] - 0s 73ms/step - loss: 0.0010 - mae: 0.0252 - val_loss: 0.0032 - val_mae: 0.0438\n",
      "Epoch 1151/2000\n",
      "5/5 [==============================] - 0s 70ms/step - loss: 0.0010 - mae: 0.0255 - val_loss: 0.0029 - val_mae: 0.0428\n",
      "Epoch 1152/2000\n",
      "5/5 [==============================] - 0s 71ms/step - loss: 0.0010 - mae: 0.0254 - val_loss: 0.0031 - val_mae: 0.0434\n",
      "Epoch 1153/2000\n",
      "5/5 [==============================] - 0s 71ms/step - loss: 0.0010 - mae: 0.0255 - val_loss: 0.0032 - val_mae: 0.0439\n",
      "Epoch 1154/2000\n",
      "5/5 [==============================] - 0s 73ms/step - loss: 0.0011 - mae: 0.0260 - val_loss: 0.0030 - val_mae: 0.0429\n",
      "Epoch 1155/2000\n",
      "5/5 [==============================] - 0s 72ms/step - loss: 8.8916e-04 - mae: 0.0235 - val_loss: 0.0029 - val_mae: 0.0423\n",
      "Epoch 1156/2000\n",
      "5/5 [==============================] - 0s 70ms/step - loss: 8.5755e-04 - mae: 0.0232 - val_loss: 0.0029 - val_mae: 0.0421\n",
      "Epoch 1157/2000\n",
      "5/5 [==============================] - 0s 72ms/step - loss: 8.0498e-04 - mae: 0.0224 - val_loss: 0.0028 - val_mae: 0.0417\n",
      "Epoch 1158/2000\n",
      "1/5 [=====>........................] - ETA: 0s - loss: 8.1254e-04 - mae: 0.0228"
     ]
    },
    {
     "name": "stderr",
     "output_type": "stream",
     "text": [
      "WARNING:absl:Found untraced functions such as lstm_cell_layer_call_fn, lstm_cell_layer_call_and_return_conditional_losses while saving (showing 2 of 2). These functions will not be directly callable after loading.\n"
     ]
    },
    {
     "name": "stdout",
     "output_type": "stream",
     "text": [
      "INFO:tensorflow:Assets written to: C:\\Users\\PARK\\Documents\\LAB\\RNN vs LSTM\\FInal Example\\wandb\\run-20221016_023555-20c04pun\\files\\model-best\\assets\n"
     ]
    },
    {
     "name": "stderr",
     "output_type": "stream",
     "text": [
      "INFO:tensorflow:Assets written to: C:\\Users\\PARK\\Documents\\LAB\\RNN vs LSTM\\FInal Example\\wandb\\run-20221016_023555-20c04pun\\files\\model-best\\assets\n",
      "\u001b[34m\u001b[1mwandb\u001b[0m: Adding directory to artifact (C:\\Users\\PARK\\Documents\\LAB\\RNN vs LSTM\\FInal Example\\wandb\\run-20221016_023555-20c04pun\\files\\model-best)... Done. 0.1s\n"
     ]
    },
    {
     "name": "stdout",
     "output_type": "stream",
     "text": [
      "5/5 [==============================] - 4s 993ms/step - loss: 7.9816e-04 - mae: 0.0222 - val_loss: 0.0028 - val_mae: 0.0412\n",
      "Epoch 1159/2000\n",
      "5/5 [==============================] - 1s 116ms/step - loss: 7.8666e-04 - mae: 0.0221 - val_loss: 0.0028 - val_mae: 0.0416\n",
      "Epoch 1160/2000\n",
      "5/5 [==============================] - 0s 73ms/step - loss: 7.8473e-04 - mae: 0.0222 - val_loss: 0.0028 - val_mae: 0.0419\n",
      "Epoch 1161/2000\n",
      "5/5 [==============================] - 0s 75ms/step - loss: 7.6157e-04 - mae: 0.0218 - val_loss: 0.0029 - val_mae: 0.0423\n",
      "Epoch 1162/2000\n",
      "5/5 [==============================] - 0s 73ms/step - loss: 7.9861e-04 - mae: 0.0223 - val_loss: 0.0030 - val_mae: 0.0426\n",
      "Epoch 1163/2000\n",
      "5/5 [==============================] - 0s 72ms/step - loss: 8.1828e-04 - mae: 0.0227 - val_loss: 0.0028 - val_mae: 0.0414\n",
      "Epoch 1164/2000\n",
      "5/5 [==============================] - 0s 75ms/step - loss: 8.1735e-04 - mae: 0.0227 - val_loss: 0.0029 - val_mae: 0.0429\n",
      "Epoch 1165/2000\n",
      "5/5 [==============================] - 0s 72ms/step - loss: 8.0481e-04 - mae: 0.0224 - val_loss: 0.0028 - val_mae: 0.0415\n",
      "Epoch 1166/2000\n",
      "5/5 [==============================] - 0s 73ms/step - loss: 8.0682e-04 - mae: 0.0225 - val_loss: 0.0029 - val_mae: 0.0419\n",
      "Epoch 1167/2000\n",
      "5/5 [==============================] - 0s 75ms/step - loss: 8.0538e-04 - mae: 0.0224 - val_loss: 0.0029 - val_mae: 0.0423\n",
      "Epoch 1168/2000\n",
      "5/5 [==============================] - 0s 72ms/step - loss: 8.0906e-04 - mae: 0.0225 - val_loss: 0.0029 - val_mae: 0.0419\n",
      "Epoch 1169/2000\n",
      "5/5 [==============================] - 0s 74ms/step - loss: 8.0808e-04 - mae: 0.0224 - val_loss: 0.0029 - val_mae: 0.0424\n",
      "Epoch 1170/2000\n",
      "5/5 [==============================] - 0s 72ms/step - loss: 8.2030e-04 - mae: 0.0228 - val_loss: 0.0029 - val_mae: 0.0420\n",
      "Epoch 1171/2000\n",
      "5/5 [==============================] - 0s 75ms/step - loss: 7.8754e-04 - mae: 0.0222 - val_loss: 0.0028 - val_mae: 0.0414\n",
      "Epoch 1172/2000\n",
      "5/5 [==============================] - 0s 73ms/step - loss: 7.9226e-04 - mae: 0.0222 - val_loss: 0.0029 - val_mae: 0.0419\n",
      "Epoch 1173/2000\n",
      "5/5 [==============================] - 0s 72ms/step - loss: 7.8132e-04 - mae: 0.0221 - val_loss: 0.0029 - val_mae: 0.0422\n",
      "Epoch 1174/2000\n",
      "5/5 [==============================] - 0s 74ms/step - loss: 8.0297e-04 - mae: 0.0225 - val_loss: 0.0028 - val_mae: 0.0420\n",
      "Epoch 1175/2000\n",
      "5/5 [==============================] - 0s 71ms/step - loss: 7.9101e-04 - mae: 0.0222 - val_loss: 0.0028 - val_mae: 0.0415\n",
      "Epoch 1176/2000\n",
      "5/5 [==============================] - 0s 71ms/step - loss: 7.7841e-04 - mae: 0.0221 - val_loss: 0.0029 - val_mae: 0.0422\n",
      "Epoch 1177/2000\n",
      "5/5 [==============================] - 0s 75ms/step - loss: 8.1322e-04 - mae: 0.0224 - val_loss: 0.0029 - val_mae: 0.0422\n",
      "Epoch 1178/2000\n",
      "5/5 [==============================] - 0s 72ms/step - loss: 8.1187e-04 - mae: 0.0225 - val_loss: 0.0029 - val_mae: 0.0429\n",
      "Epoch 1179/2000\n",
      "5/5 [==============================] - 0s 71ms/step - loss: 7.9352e-04 - mae: 0.0224 - val_loss: 0.0028 - val_mae: 0.0416\n",
      "Epoch 1180/2000\n",
      "5/5 [==============================] - 0s 71ms/step - loss: 7.8352e-04 - mae: 0.0221 - val_loss: 0.0029 - val_mae: 0.0415\n",
      "Epoch 1181/2000\n",
      "5/5 [==============================] - 0s 74ms/step - loss: 7.6748e-04 - mae: 0.0218 - val_loss: 0.0029 - val_mae: 0.0429\n",
      "Epoch 1182/2000\n",
      "5/5 [==============================] - 0s 74ms/step - loss: 7.9731e-04 - mae: 0.0224 - val_loss: 0.0029 - val_mae: 0.0416\n",
      "Epoch 1183/2000\n",
      "5/5 [==============================] - 0s 72ms/step - loss: 8.1338e-04 - mae: 0.0227 - val_loss: 0.0030 - val_mae: 0.0433\n",
      "Epoch 1184/2000\n",
      "5/5 [==============================] - 0s 76ms/step - loss: 7.8868e-04 - mae: 0.0222 - val_loss: 0.0030 - val_mae: 0.0418\n",
      "Epoch 1185/2000\n",
      "5/5 [==============================] - 0s 74ms/step - loss: 7.9442e-04 - mae: 0.0221 - val_loss: 0.0029 - val_mae: 0.0421\n",
      "Epoch 1186/2000\n",
      "5/5 [==============================] - 0s 72ms/step - loss: 7.6073e-04 - mae: 0.0218 - val_loss: 0.0029 - val_mae: 0.0417\n",
      "Epoch 1187/2000\n",
      "5/5 [==============================] - 0s 73ms/step - loss: 7.9950e-04 - mae: 0.0223 - val_loss: 0.0029 - val_mae: 0.0426\n",
      "Epoch 1188/2000\n",
      "5/5 [==============================] - 0s 71ms/step - loss: 8.2519e-04 - mae: 0.0226 - val_loss: 0.0029 - val_mae: 0.0429\n",
      "Epoch 1189/2000\n",
      "5/5 [==============================] - 0s 72ms/step - loss: 8.6841e-04 - mae: 0.0232 - val_loss: 0.0028 - val_mae: 0.0417\n",
      "Epoch 1190/2000\n",
      "5/5 [==============================] - 0s 73ms/step - loss: 7.8945e-04 - mae: 0.0224 - val_loss: 0.0030 - val_mae: 0.0430\n",
      "Epoch 1191/2000\n",
      "5/5 [==============================] - 0s 71ms/step - loss: 7.9073e-04 - mae: 0.0223 - val_loss: 0.0030 - val_mae: 0.0427\n",
      "Epoch 1192/2000\n",
      "5/5 [==============================] - 0s 74ms/step - loss: 8.0998e-04 - mae: 0.0226 - val_loss: 0.0030 - val_mae: 0.0427\n",
      "Epoch 1193/2000\n",
      "5/5 [==============================] - 0s 72ms/step - loss: 7.7255e-04 - mae: 0.0221 - val_loss: 0.0029 - val_mae: 0.0422\n",
      "Epoch 1194/2000\n",
      "5/5 [==============================] - 0s 74ms/step - loss: 7.8204e-04 - mae: 0.0222 - val_loss: 0.0029 - val_mae: 0.0420\n",
      "Epoch 1195/2000\n",
      "5/5 [==============================] - 0s 76ms/step - loss: 7.6062e-04 - mae: 0.0217 - val_loss: 0.0029 - val_mae: 0.0423\n",
      "Epoch 1196/2000\n",
      "5/5 [==============================] - 0s 73ms/step - loss: 7.6489e-04 - mae: 0.0219 - val_loss: 0.0030 - val_mae: 0.0436\n",
      "Epoch 1197/2000\n",
      "5/5 [==============================] - 0s 76ms/step - loss: 7.8602e-04 - mae: 0.0222 - val_loss: 0.0029 - val_mae: 0.0422\n",
      "Epoch 1198/2000\n",
      "5/5 [==============================] - 0s 73ms/step - loss: 8.0513e-04 - mae: 0.0224 - val_loss: 0.0029 - val_mae: 0.0429\n",
      "Epoch 1199/2000\n",
      "5/5 [==============================] - 0s 72ms/step - loss: 7.8934e-04 - mae: 0.0222 - val_loss: 0.0030 - val_mae: 0.0423\n",
      "Epoch 1200/2000\n",
      "5/5 [==============================] - 0s 75ms/step - loss: 7.6295e-04 - mae: 0.0217 - val_loss: 0.0030 - val_mae: 0.0428\n",
      "Epoch 1201/2000\n",
      "5/5 [==============================] - 0s 72ms/step - loss: 8.2654e-04 - mae: 0.0226 - val_loss: 0.0032 - val_mae: 0.0438\n",
      "Epoch 1202/2000\n",
      "5/5 [==============================] - 0s 73ms/step - loss: 9.0760e-04 - mae: 0.0238 - val_loss: 0.0031 - val_mae: 0.0441\n",
      "Epoch 1203/2000\n",
      "5/5 [==============================] - 0s 71ms/step - loss: 9.1978e-04 - mae: 0.0238 - val_loss: 0.0030 - val_mae: 0.0424\n",
      "Epoch 1204/2000\n",
      "5/5 [==============================] - 0s 73ms/step - loss: 7.6086e-04 - mae: 0.0216 - val_loss: 0.0029 - val_mae: 0.0429\n",
      "Epoch 1205/2000\n",
      "5/5 [==============================] - 0s 71ms/step - loss: 7.1236e-04 - mae: 0.0211 - val_loss: 0.0029 - val_mae: 0.0420\n",
      "Epoch 1206/2000\n",
      "5/5 [==============================] - 0s 72ms/step - loss: 7.1521e-04 - mae: 0.0211 - val_loss: 0.0029 - val_mae: 0.0425\n",
      "Epoch 1207/2000\n",
      "5/5 [==============================] - 0s 73ms/step - loss: 7.1073e-04 - mae: 0.0210 - val_loss: 0.0030 - val_mae: 0.0421\n",
      "Epoch 1208/2000\n",
      "5/5 [==============================] - 0s 73ms/step - loss: 7.5839e-04 - mae: 0.0219 - val_loss: 0.0032 - val_mae: 0.0451\n",
      "Epoch 1209/2000\n",
      "5/5 [==============================] - 0s 72ms/step - loss: 8.6369e-04 - mae: 0.0233 - val_loss: 0.0029 - val_mae: 0.0418\n",
      "Epoch 1210/2000\n",
      "5/5 [==============================] - 0s 75ms/step - loss: 7.5116e-04 - mae: 0.0215 - val_loss: 0.0031 - val_mae: 0.0449\n",
      "Epoch 1211/2000\n",
      "5/5 [==============================] - 0s 72ms/step - loss: 9.8179e-04 - mae: 0.0250 - val_loss: 0.0033 - val_mae: 0.0447\n",
      "Epoch 1212/2000\n",
      "5/5 [==============================] - 0s 73ms/step - loss: 9.5552e-04 - mae: 0.0243 - val_loss: 0.0031 - val_mae: 0.0433\n",
      "Epoch 1213/2000\n",
      "5/5 [==============================] - 0s 74ms/step - loss: 9.6452e-04 - mae: 0.0247 - val_loss: 0.0033 - val_mae: 0.0451\n",
      "Epoch 1214/2000\n",
      "5/5 [==============================] - 0s 73ms/step - loss: 0.0010 - mae: 0.0256 - val_loss: 0.0031 - val_mae: 0.0429\n",
      "Epoch 1215/2000\n",
      "5/5 [==============================] - 0s 74ms/step - loss: 9.5537e-04 - mae: 0.0245 - val_loss: 0.0032 - val_mae: 0.0444\n",
      "Epoch 1216/2000\n",
      "5/5 [==============================] - 0s 72ms/step - loss: 0.0010 - mae: 0.0249 - val_loss: 0.0034 - val_mae: 0.0456\n",
      "Epoch 1217/2000\n"
     ]
    },
    {
     "name": "stdout",
     "output_type": "stream",
     "text": [
      "5/5 [==============================] - 0s 75ms/step - loss: 0.0011 - mae: 0.0260 - val_loss: 0.0035 - val_mae: 0.0475\n",
      "Epoch 1218/2000\n",
      "5/5 [==============================] - 0s 74ms/step - loss: 0.0012 - mae: 0.0274 - val_loss: 0.0039 - val_mae: 0.0482\n",
      "Epoch 1219/2000\n",
      "5/5 [==============================] - 0s 73ms/step - loss: 0.0012 - mae: 0.0268 - val_loss: 0.0030 - val_mae: 0.0438\n",
      "Epoch 1220/2000\n",
      "5/5 [==============================] - 0s 74ms/step - loss: 0.0010 - mae: 0.0255 - val_loss: 0.0033 - val_mae: 0.0443\n",
      "Epoch 1221/2000\n",
      "5/5 [==============================] - 0s 73ms/step - loss: 9.0646e-04 - mae: 0.0240 - val_loss: 0.0032 - val_mae: 0.0435\n",
      "Epoch 1222/2000\n",
      "5/5 [==============================] - 0s 72ms/step - loss: 8.7786e-04 - mae: 0.0234 - val_loss: 0.0030 - val_mae: 0.0436\n",
      "Epoch 1223/2000\n",
      "5/5 [==============================] - 0s 74ms/step - loss: 7.8517e-04 - mae: 0.0223 - val_loss: 0.0030 - val_mae: 0.0428\n",
      "Epoch 1224/2000\n",
      "5/5 [==============================] - 0s 73ms/step - loss: 7.5192e-04 - mae: 0.0217 - val_loss: 0.0030 - val_mae: 0.0431\n",
      "Epoch 1225/2000\n",
      "5/5 [==============================] - 0s 71ms/step - loss: 8.2411e-04 - mae: 0.0225 - val_loss: 0.0029 - val_mae: 0.0421\n",
      "Epoch 1226/2000\n",
      "5/5 [==============================] - 0s 74ms/step - loss: 7.2249e-04 - mae: 0.0212 - val_loss: 0.0030 - val_mae: 0.0432\n",
      "Epoch 1227/2000\n",
      "5/5 [==============================] - 0s 72ms/step - loss: 6.7128e-04 - mae: 0.0204 - val_loss: 0.0029 - val_mae: 0.0418\n",
      "Epoch 1228/2000\n",
      "5/5 [==============================] - 0s 73ms/step - loss: 6.9019e-04 - mae: 0.0207 - val_loss: 0.0029 - val_mae: 0.0423\n",
      "Epoch 1229/2000\n",
      "5/5 [==============================] - 0s 71ms/step - loss: 6.5521e-04 - mae: 0.0202 - val_loss: 0.0030 - val_mae: 0.0432\n",
      "Epoch 1230/2000\n",
      "5/5 [==============================] - 0s 73ms/step - loss: 6.8449e-04 - mae: 0.0207 - val_loss: 0.0030 - val_mae: 0.0424\n",
      "Epoch 1231/2000\n",
      "5/5 [==============================] - 0s 73ms/step - loss: 7.3055e-04 - mae: 0.0213 - val_loss: 0.0030 - val_mae: 0.0429\n",
      "Epoch 1232/2000\n",
      "5/5 [==============================] - 0s 73ms/step - loss: 7.0054e-04 - mae: 0.0208 - val_loss: 0.0029 - val_mae: 0.0420\n",
      "Epoch 1233/2000\n",
      "5/5 [==============================] - 0s 74ms/step - loss: 6.8635e-04 - mae: 0.0207 - val_loss: 0.0030 - val_mae: 0.0429\n",
      "Epoch 1234/2000\n",
      "5/5 [==============================] - 0s 72ms/step - loss: 6.9335e-04 - mae: 0.0208 - val_loss: 0.0029 - val_mae: 0.0418\n",
      "Epoch 1235/2000\n",
      "5/5 [==============================] - 0s 73ms/step - loss: 6.6511e-04 - mae: 0.0204 - val_loss: 0.0031 - val_mae: 0.0438\n",
      "Epoch 1236/2000\n",
      "5/5 [==============================] - 0s 74ms/step - loss: 7.2742e-04 - mae: 0.0213 - val_loss: 0.0030 - val_mae: 0.0425\n",
      "Epoch 1237/2000\n",
      "5/5 [==============================] - 0s 72ms/step - loss: 6.7174e-04 - mae: 0.0204 - val_loss: 0.0030 - val_mae: 0.0436\n",
      "Epoch 1238/2000\n",
      "5/5 [==============================] - 0s 72ms/step - loss: 6.7133e-04 - mae: 0.0205 - val_loss: 0.0029 - val_mae: 0.0416\n",
      "Epoch 1239/2000\n",
      "5/5 [==============================] - 0s 75ms/step - loss: 6.6407e-04 - mae: 0.0202 - val_loss: 0.0030 - val_mae: 0.0428\n",
      "Epoch 1240/2000\n",
      "5/5 [==============================] - 0s 72ms/step - loss: 6.6833e-04 - mae: 0.0205 - val_loss: 0.0029 - val_mae: 0.0422\n",
      "Epoch 1241/2000\n",
      "5/5 [==============================] - 0s 73ms/step - loss: 6.5656e-04 - mae: 0.0202 - val_loss: 0.0029 - val_mae: 0.0425\n",
      "Epoch 1242/2000\n",
      "5/5 [==============================] - 0s 72ms/step - loss: 6.6651e-04 - mae: 0.0203 - val_loss: 0.0030 - val_mae: 0.0427\n",
      "Epoch 1243/2000\n",
      "5/5 [==============================] - 0s 74ms/step - loss: 6.3048e-04 - mae: 0.0198 - val_loss: 0.0029 - val_mae: 0.0427\n",
      "Epoch 1244/2000\n",
      "5/5 [==============================] - 0s 74ms/step - loss: 6.4601e-04 - mae: 0.0201 - val_loss: 0.0030 - val_mae: 0.0432\n",
      "Epoch 1245/2000\n",
      "5/5 [==============================] - 0s 72ms/step - loss: 6.3585e-04 - mae: 0.0198 - val_loss: 0.0029 - val_mae: 0.0422\n",
      "Epoch 1246/2000\n",
      "5/5 [==============================] - 0s 74ms/step - loss: 6.5119e-04 - mae: 0.0203 - val_loss: 0.0030 - val_mae: 0.0422\n",
      "Epoch 1247/2000\n",
      "5/5 [==============================] - 0s 72ms/step - loss: 6.3237e-04 - mae: 0.0198 - val_loss: 0.0029 - val_mae: 0.0424\n",
      "Epoch 1248/2000\n",
      "5/5 [==============================] - 0s 70ms/step - loss: 6.2646e-04 - mae: 0.0198 - val_loss: 0.0030 - val_mae: 0.0426\n",
      "Epoch 1249/2000\n",
      "5/5 [==============================] - 0s 73ms/step - loss: 6.5942e-04 - mae: 0.0203 - val_loss: 0.0030 - val_mae: 0.0438\n",
      "Epoch 1250/2000\n",
      "5/5 [==============================] - 0s 72ms/step - loss: 7.6228e-04 - mae: 0.0219 - val_loss: 0.0030 - val_mae: 0.0429\n",
      "Epoch 1251/2000\n",
      "5/5 [==============================] - 0s 74ms/step - loss: 7.8206e-04 - mae: 0.0221 - val_loss: 0.0030 - val_mae: 0.0429\n",
      "Epoch 1252/2000\n",
      "5/5 [==============================] - 0s 72ms/step - loss: 6.5214e-04 - mae: 0.0201 - val_loss: 0.0030 - val_mae: 0.0425\n",
      "Epoch 1253/2000\n",
      "5/5 [==============================] - 0s 75ms/step - loss: 6.2724e-04 - mae: 0.0197 - val_loss: 0.0031 - val_mae: 0.0438\n",
      "Epoch 1254/2000\n",
      "5/5 [==============================] - 0s 72ms/step - loss: 6.4397e-04 - mae: 0.0200 - val_loss: 0.0030 - val_mae: 0.0426\n",
      "Epoch 1255/2000\n",
      "5/5 [==============================] - 0s 72ms/step - loss: 6.2261e-04 - mae: 0.0197 - val_loss: 0.0030 - val_mae: 0.0430\n",
      "Epoch 1256/2000\n",
      "5/5 [==============================] - 0s 74ms/step - loss: 6.1806e-04 - mae: 0.0196 - val_loss: 0.0029 - val_mae: 0.0423\n",
      "Epoch 1257/2000\n",
      "5/5 [==============================] - 0s 72ms/step - loss: 6.1802e-04 - mae: 0.0195 - val_loss: 0.0030 - val_mae: 0.0427\n",
      "Epoch 1258/2000\n",
      "5/5 [==============================] - 0s 72ms/step - loss: 6.3703e-04 - mae: 0.0199 - val_loss: 0.0032 - val_mae: 0.0445\n",
      "Epoch 1259/2000\n",
      "5/5 [==============================] - 0s 75ms/step - loss: 6.7301e-04 - mae: 0.0204 - val_loss: 0.0029 - val_mae: 0.0423\n",
      "Epoch 1260/2000\n",
      "5/5 [==============================] - 0s 75ms/step - loss: 6.5782e-04 - mae: 0.0203 - val_loss: 0.0033 - val_mae: 0.0451\n",
      "Epoch 1261/2000\n",
      "5/5 [==============================] - 0s 72ms/step - loss: 7.9944e-04 - mae: 0.0223 - val_loss: 0.0031 - val_mae: 0.0434\n",
      "Epoch 1262/2000\n",
      "5/5 [==============================] - 0s 73ms/step - loss: 7.0761e-04 - mae: 0.0212 - val_loss: 0.0031 - val_mae: 0.0432\n",
      "Epoch 1263/2000\n",
      "5/5 [==============================] - 0s 71ms/step - loss: 7.0634e-04 - mae: 0.0209 - val_loss: 0.0031 - val_mae: 0.0431\n",
      "Epoch 1264/2000\n",
      "5/5 [==============================] - 0s 71ms/step - loss: 6.4731e-04 - mae: 0.0199 - val_loss: 0.0031 - val_mae: 0.0433\n",
      "Epoch 1265/2000\n",
      "5/5 [==============================] - 0s 70ms/step - loss: 7.1913e-04 - mae: 0.0212 - val_loss: 0.0033 - val_mae: 0.0452\n",
      "Epoch 1266/2000\n",
      "5/5 [==============================] - 0s 74ms/step - loss: 7.4358e-04 - mae: 0.0217 - val_loss: 0.0031 - val_mae: 0.0433\n",
      "Epoch 1267/2000\n",
      "5/5 [==============================] - 0s 72ms/step - loss: 6.8703e-04 - mae: 0.0207 - val_loss: 0.0031 - val_mae: 0.0436\n",
      "Epoch 1268/2000\n",
      "5/5 [==============================] - 0s 71ms/step - loss: 6.7234e-04 - mae: 0.0204 - val_loss: 0.0030 - val_mae: 0.0432\n",
      "Epoch 1269/2000\n",
      "5/5 [==============================] - 0s 73ms/step - loss: 6.4427e-04 - mae: 0.0201 - val_loss: 0.0029 - val_mae: 0.0424\n",
      "Epoch 1270/2000\n",
      "5/5 [==============================] - 0s 70ms/step - loss: 6.6755e-04 - mae: 0.0203 - val_loss: 0.0032 - val_mae: 0.0452\n",
      "Epoch 1271/2000\n",
      "5/5 [==============================] - 0s 72ms/step - loss: 7.6880e-04 - mae: 0.0220 - val_loss: 0.0030 - val_mae: 0.0430\n",
      "Epoch 1272/2000\n",
      "5/5 [==============================] - 0s 74ms/step - loss: 6.3604e-04 - mae: 0.0200 - val_loss: 0.0030 - val_mae: 0.0432\n",
      "Epoch 1273/2000\n",
      "5/5 [==============================] - 0s 72ms/step - loss: 6.3100e-04 - mae: 0.0198 - val_loss: 0.0030 - val_mae: 0.0429\n",
      "Epoch 1274/2000\n",
      "5/5 [==============================] - 0s 71ms/step - loss: 6.2498e-04 - mae: 0.0197 - val_loss: 0.0031 - val_mae: 0.0434\n",
      "Epoch 1275/2000\n",
      "5/5 [==============================] - 0s 71ms/step - loss: 6.0451e-04 - mae: 0.0192 - val_loss: 0.0030 - val_mae: 0.0428\n",
      "Epoch 1276/2000\n"
     ]
    },
    {
     "name": "stdout",
     "output_type": "stream",
     "text": [
      "5/5 [==============================] - 0s 73ms/step - loss: 5.9912e-04 - mae: 0.0195 - val_loss: 0.0030 - val_mae: 0.0428\n",
      "Epoch 1277/2000\n",
      "5/5 [==============================] - 0s 72ms/step - loss: 5.7965e-04 - mae: 0.0188 - val_loss: 0.0029 - val_mae: 0.0425\n",
      "Epoch 1278/2000\n",
      "5/5 [==============================] - 0s 71ms/step - loss: 5.7561e-04 - mae: 0.0189 - val_loss: 0.0029 - val_mae: 0.0425\n",
      "Epoch 1279/2000\n",
      "5/5 [==============================] - 0s 73ms/step - loss: 5.8251e-04 - mae: 0.0189 - val_loss: 0.0031 - val_mae: 0.0442\n",
      "Epoch 1280/2000\n",
      "5/5 [==============================] - 0s 72ms/step - loss: 6.4531e-04 - mae: 0.0201 - val_loss: 0.0030 - val_mae: 0.0430\n",
      "Epoch 1281/2000\n",
      "5/5 [==============================] - 0s 72ms/step - loss: 6.1378e-04 - mae: 0.0194 - val_loss: 0.0032 - val_mae: 0.0443\n",
      "Epoch 1282/2000\n",
      "5/5 [==============================] - 0s 75ms/step - loss: 7.3686e-04 - mae: 0.0216 - val_loss: 0.0031 - val_mae: 0.0427\n",
      "Epoch 1283/2000\n",
      "5/5 [==============================] - 0s 72ms/step - loss: 7.1318e-04 - mae: 0.0209 - val_loss: 0.0030 - val_mae: 0.0431\n",
      "Epoch 1284/2000\n",
      "5/5 [==============================] - 0s 73ms/step - loss: 6.5351e-04 - mae: 0.0202 - val_loss: 0.0031 - val_mae: 0.0440\n",
      "Epoch 1285/2000\n",
      "5/5 [==============================] - 0s 72ms/step - loss: 6.7509e-04 - mae: 0.0205 - val_loss: 0.0031 - val_mae: 0.0444\n",
      "Epoch 1286/2000\n",
      "5/5 [==============================] - 0s 75ms/step - loss: 7.7592e-04 - mae: 0.0219 - val_loss: 0.0032 - val_mae: 0.0447\n",
      "Epoch 1287/2000\n",
      "5/5 [==============================] - 0s 72ms/step - loss: 7.5838e-04 - mae: 0.0216 - val_loss: 0.0033 - val_mae: 0.0452\n",
      "Epoch 1288/2000\n",
      "5/5 [==============================] - 0s 71ms/step - loss: 0.0013 - mae: 0.0285 - val_loss: 0.0053 - val_mae: 0.0568\n",
      "Epoch 1289/2000\n",
      "5/5 [==============================] - 0s 74ms/step - loss: 0.0019 - mae: 0.0344 - val_loss: 0.0057 - val_mae: 0.0597\n",
      "Epoch 1290/2000\n",
      "5/5 [==============================] - 0s 72ms/step - loss: 0.0023 - mae: 0.0386 - val_loss: 0.0060 - val_mae: 0.0634\n",
      "Epoch 1291/2000\n",
      "5/5 [==============================] - 0s 72ms/step - loss: 0.0029 - mae: 0.0434 - val_loss: 0.0069 - val_mae: 0.0678\n",
      "Epoch 1292/2000\n",
      "5/5 [==============================] - 0s 74ms/step - loss: 0.0031 - mae: 0.0443 - val_loss: 0.0041 - val_mae: 0.0497\n",
      "Epoch 1293/2000\n",
      "5/5 [==============================] - 0s 71ms/step - loss: 0.0019 - mae: 0.0343 - val_loss: 0.0065 - val_mae: 0.0650\n",
      "Epoch 1294/2000\n",
      "5/5 [==============================] - 0s 70ms/step - loss: 0.0022 - mae: 0.0372 - val_loss: 0.0042 - val_mae: 0.0527\n",
      "Epoch 1295/2000\n",
      "5/5 [==============================] - 0s 70ms/step - loss: 0.0015 - mae: 0.0311 - val_loss: 0.0036 - val_mae: 0.0471\n",
      "Epoch 1296/2000\n",
      "5/5 [==============================] - 0s 73ms/step - loss: 0.0013 - mae: 0.0292 - val_loss: 0.0047 - val_mae: 0.0528\n",
      "Epoch 1297/2000\n",
      "5/5 [==============================] - 0s 72ms/step - loss: 0.0014 - mae: 0.0297 - val_loss: 0.0034 - val_mae: 0.0458\n",
      "Epoch 1298/2000\n",
      "5/5 [==============================] - 0s 71ms/step - loss: 0.0011 - mae: 0.0270 - val_loss: 0.0047 - val_mae: 0.0548\n",
      "Epoch 1299/2000\n",
      "5/5 [==============================] - 0s 73ms/step - loss: 0.0014 - mae: 0.0296 - val_loss: 0.0033 - val_mae: 0.0441\n",
      "Epoch 1300/2000\n",
      "5/5 [==============================] - 0s 70ms/step - loss: 8.9398e-04 - mae: 0.0237 - val_loss: 0.0034 - val_mae: 0.0450\n",
      "Epoch 1301/2000\n",
      "5/5 [==============================] - 0s 70ms/step - loss: 9.6230e-04 - mae: 0.0245 - val_loss: 0.0035 - val_mae: 0.0477\n",
      "Epoch 1302/2000\n",
      "5/5 [==============================] - 0s 72ms/step - loss: 9.4456e-04 - mae: 0.0244 - val_loss: 0.0033 - val_mae: 0.0447\n",
      "Epoch 1303/2000\n",
      "5/5 [==============================] - 0s 71ms/step - loss: 7.4607e-04 - mae: 0.0216 - val_loss: 0.0032 - val_mae: 0.0442\n",
      "Epoch 1304/2000\n",
      "5/5 [==============================] - 0s 71ms/step - loss: 7.4983e-04 - mae: 0.0218 - val_loss: 0.0034 - val_mae: 0.0457\n",
      "Epoch 1305/2000\n",
      "5/5 [==============================] - 0s 71ms/step - loss: 7.7018e-04 - mae: 0.0222 - val_loss: 0.0031 - val_mae: 0.0431\n",
      "Epoch 1306/2000\n",
      "5/5 [==============================] - 0s 74ms/step - loss: 6.7579e-04 - mae: 0.0204 - val_loss: 0.0031 - val_mae: 0.0433\n",
      "Epoch 1307/2000\n",
      "5/5 [==============================] - 0s 72ms/step - loss: 6.5561e-04 - mae: 0.0202 - val_loss: 0.0032 - val_mae: 0.0449\n",
      "Epoch 1308/2000\n",
      "5/5 [==============================] - 0s 71ms/step - loss: 6.3687e-04 - mae: 0.0198 - val_loss: 0.0032 - val_mae: 0.0443\n",
      "Epoch 1309/2000\n",
      "5/5 [==============================] - 0s 73ms/step - loss: 5.9291e-04 - mae: 0.0193 - val_loss: 0.0035 - val_mae: 0.0456\n",
      "Epoch 1310/2000\n",
      "5/5 [==============================] - 0s 71ms/step - loss: 8.9499e-04 - mae: 0.0238 - val_loss: 0.0032 - val_mae: 0.0448\n",
      "Epoch 1311/2000\n",
      "5/5 [==============================] - 0s 70ms/step - loss: 7.8967e-04 - mae: 0.0222 - val_loss: 0.0032 - val_mae: 0.0447\n",
      "Epoch 1312/2000\n",
      "5/5 [==============================] - 0s 73ms/step - loss: 6.6284e-04 - mae: 0.0203 - val_loss: 0.0034 - val_mae: 0.0457\n",
      "Epoch 1313/2000\n",
      "5/5 [==============================] - 0s 71ms/step - loss: 7.3522e-04 - mae: 0.0212 - val_loss: 0.0032 - val_mae: 0.0451\n",
      "Epoch 1314/2000\n",
      "5/5 [==============================] - 0s 72ms/step - loss: 6.6776e-04 - mae: 0.0203 - val_loss: 0.0031 - val_mae: 0.0433\n",
      "Epoch 1315/2000\n",
      "5/5 [==============================] - 0s 71ms/step - loss: 7.1535e-04 - mae: 0.0212 - val_loss: 0.0031 - val_mae: 0.0436\n",
      "Epoch 1316/2000\n",
      "5/5 [==============================] - 0s 73ms/step - loss: 6.6532e-04 - mae: 0.0201 - val_loss: 0.0033 - val_mae: 0.0459\n",
      "Epoch 1317/2000\n",
      "5/5 [==============================] - 0s 73ms/step - loss: 6.4054e-04 - mae: 0.0199 - val_loss: 0.0031 - val_mae: 0.0435\n",
      "Epoch 1318/2000\n",
      "5/5 [==============================] - 0s 71ms/step - loss: 6.5730e-04 - mae: 0.0202 - val_loss: 0.0034 - val_mae: 0.0444\n",
      "Epoch 1319/2000\n",
      "5/5 [==============================] - 0s 73ms/step - loss: 8.8560e-04 - mae: 0.0235 - val_loss: 0.0038 - val_mae: 0.0490\n",
      "Epoch 1320/2000\n",
      "5/5 [==============================] - 0s 72ms/step - loss: 8.8227e-04 - mae: 0.0238 - val_loss: 0.0037 - val_mae: 0.0470\n",
      "Epoch 1321/2000\n",
      "5/5 [==============================] - 0s 70ms/step - loss: 9.8555e-04 - mae: 0.0245 - val_loss: 0.0032 - val_mae: 0.0439\n",
      "Epoch 1322/2000\n",
      "5/5 [==============================] - 0s 73ms/step - loss: 7.3228e-04 - mae: 0.0214 - val_loss: 0.0035 - val_mae: 0.0473\n",
      "Epoch 1323/2000\n",
      "5/5 [==============================] - 0s 72ms/step - loss: 7.6273e-04 - mae: 0.0221 - val_loss: 0.0032 - val_mae: 0.0440\n",
      "Epoch 1324/2000\n",
      "5/5 [==============================] - 0s 73ms/step - loss: 6.3332e-04 - mae: 0.0200 - val_loss: 0.0032 - val_mae: 0.0449\n",
      "Epoch 1325/2000\n",
      "5/5 [==============================] - 0s 71ms/step - loss: 5.8888e-04 - mae: 0.0191 - val_loss: 0.0031 - val_mae: 0.0433\n",
      "Epoch 1326/2000\n",
      "5/5 [==============================] - 0s 75ms/step - loss: 5.4922e-04 - mae: 0.0184 - val_loss: 0.0031 - val_mae: 0.0437\n",
      "Epoch 1327/2000\n",
      "5/5 [==============================] - 0s 74ms/step - loss: 5.1416e-04 - mae: 0.0179 - val_loss: 0.0030 - val_mae: 0.0429\n",
      "Epoch 1328/2000\n",
      "5/5 [==============================] - 0s 72ms/step - loss: 5.1862e-04 - mae: 0.0179 - val_loss: 0.0031 - val_mae: 0.0438\n",
      "Epoch 1329/2000\n",
      "5/5 [==============================] - 0s 75ms/step - loss: 5.5599e-04 - mae: 0.0187 - val_loss: 0.0033 - val_mae: 0.0441\n",
      "Epoch 1330/2000\n",
      "5/5 [==============================] - 0s 75ms/step - loss: 5.9376e-04 - mae: 0.0192 - val_loss: 0.0032 - val_mae: 0.0441\n",
      "Epoch 1331/2000\n",
      "5/5 [==============================] - 0s 73ms/step - loss: 5.4179e-04 - mae: 0.0183 - val_loss: 0.0031 - val_mae: 0.0436\n",
      "Epoch 1332/2000\n",
      "5/5 [==============================] - 0s 74ms/step - loss: 5.3771e-04 - mae: 0.0182 - val_loss: 0.0032 - val_mae: 0.0439\n",
      "Epoch 1333/2000\n",
      "5/5 [==============================] - 0s 73ms/step - loss: 5.8342e-04 - mae: 0.0192 - val_loss: 0.0033 - val_mae: 0.0446\n",
      "Epoch 1334/2000\n",
      "5/5 [==============================] - 0s 72ms/step - loss: 6.6956e-04 - mae: 0.0206 - val_loss: 0.0032 - val_mae: 0.0449\n",
      "Epoch 1335/2000\n",
      "5/5 [==============================] - 0s 74ms/step - loss: 6.0939e-04 - mae: 0.0195 - val_loss: 0.0032 - val_mae: 0.0440\n"
     ]
    },
    {
     "name": "stdout",
     "output_type": "stream",
     "text": [
      "Epoch 1336/2000\n",
      "5/5 [==============================] - 0s 71ms/step - loss: 7.1735e-04 - mae: 0.0212 - val_loss: 0.0033 - val_mae: 0.0443\n",
      "Epoch 1337/2000\n",
      "5/5 [==============================] - 0s 72ms/step - loss: 7.7277e-04 - mae: 0.0221 - val_loss: 0.0040 - val_mae: 0.0503\n",
      "Epoch 1338/2000\n",
      "5/5 [==============================] - 0s 73ms/step - loss: 9.6208e-04 - mae: 0.0247 - val_loss: 0.0035 - val_mae: 0.0456\n",
      "Epoch 1339/2000\n",
      "5/5 [==============================] - 0s 74ms/step - loss: 7.6519e-04 - mae: 0.0218 - val_loss: 0.0031 - val_mae: 0.0442\n",
      "Epoch 1340/2000\n",
      "5/5 [==============================] - 0s 73ms/step - loss: 6.7442e-04 - mae: 0.0205 - val_loss: 0.0037 - val_mae: 0.0486\n",
      "Epoch 1341/2000\n",
      "5/5 [==============================] - 0s 71ms/step - loss: 9.1691e-04 - mae: 0.0243 - val_loss: 0.0035 - val_mae: 0.0451\n",
      "Epoch 1342/2000\n",
      "5/5 [==============================] - 0s 74ms/step - loss: 8.9764e-04 - mae: 0.0237 - val_loss: 0.0033 - val_mae: 0.0453\n",
      "Epoch 1343/2000\n",
      "5/5 [==============================] - 0s 70ms/step - loss: 9.1931e-04 - mae: 0.0241 - val_loss: 0.0033 - val_mae: 0.0457\n",
      "Epoch 1344/2000\n",
      "5/5 [==============================] - 0s 70ms/step - loss: 6.8669e-04 - mae: 0.0207 - val_loss: 0.0032 - val_mae: 0.0446\n",
      "Epoch 1345/2000\n",
      "5/5 [==============================] - 0s 72ms/step - loss: 6.7180e-04 - mae: 0.0206 - val_loss: 0.0033 - val_mae: 0.0448\n",
      "Epoch 1346/2000\n",
      "5/5 [==============================] - 0s 70ms/step - loss: 6.4826e-04 - mae: 0.0202 - val_loss: 0.0032 - val_mae: 0.0443\n",
      "Epoch 1347/2000\n",
      "5/5 [==============================] - 0s 71ms/step - loss: 5.8932e-04 - mae: 0.0193 - val_loss: 0.0035 - val_mae: 0.0462\n",
      "Epoch 1348/2000\n",
      "5/5 [==============================] - 0s 71ms/step - loss: 6.1553e-04 - mae: 0.0197 - val_loss: 0.0032 - val_mae: 0.0444\n",
      "Epoch 1349/2000\n",
      "5/5 [==============================] - 0s 74ms/step - loss: 5.8896e-04 - mae: 0.0192 - val_loss: 0.0031 - val_mae: 0.0439\n",
      "Epoch 1350/2000\n",
      "5/5 [==============================] - 0s 73ms/step - loss: 5.7051e-04 - mae: 0.0188 - val_loss: 0.0032 - val_mae: 0.0448\n",
      "Epoch 1351/2000\n",
      "5/5 [==============================] - 0s 70ms/step - loss: 5.7617e-04 - mae: 0.0189 - val_loss: 0.0033 - val_mae: 0.0443\n",
      "Epoch 1352/2000\n",
      "5/5 [==============================] - 0s 73ms/step - loss: 6.0359e-04 - mae: 0.0193 - val_loss: 0.0033 - val_mae: 0.0453\n",
      "Epoch 1353/2000\n",
      "5/5 [==============================] - 0s 72ms/step - loss: 5.8214e-04 - mae: 0.0189 - val_loss: 0.0031 - val_mae: 0.0439\n",
      "Epoch 1354/2000\n",
      "5/5 [==============================] - 0s 73ms/step - loss: 5.3004e-04 - mae: 0.0182 - val_loss: 0.0034 - val_mae: 0.0445\n",
      "Epoch 1355/2000\n",
      "5/5 [==============================] - 0s 74ms/step - loss: 5.7508e-04 - mae: 0.0190 - val_loss: 0.0032 - val_mae: 0.0439\n",
      "Epoch 1356/2000\n",
      "5/5 [==============================] - 0s 70ms/step - loss: 5.2439e-04 - mae: 0.0182 - val_loss: 0.0031 - val_mae: 0.0437\n",
      "Epoch 1357/2000\n",
      "5/5 [==============================] - 0s 71ms/step - loss: 5.2093e-04 - mae: 0.0179 - val_loss: 0.0032 - val_mae: 0.0439\n",
      "Epoch 1358/2000\n",
      "5/5 [==============================] - 0s 71ms/step - loss: 5.0076e-04 - mae: 0.0177 - val_loss: 0.0031 - val_mae: 0.0434\n",
      "Epoch 1359/2000\n",
      "5/5 [==============================] - 0s 72ms/step - loss: 4.9997e-04 - mae: 0.0176 - val_loss: 0.0032 - val_mae: 0.0447\n",
      "Epoch 1360/2000\n",
      "5/5 [==============================] - 0s 72ms/step - loss: 4.9740e-04 - mae: 0.0176 - val_loss: 0.0031 - val_mae: 0.0438\n",
      "Epoch 1361/2000\n",
      "5/5 [==============================] - 0s 70ms/step - loss: 4.6923e-04 - mae: 0.0171 - val_loss: 0.0032 - val_mae: 0.0440\n",
      "Epoch 1362/2000\n",
      "5/5 [==============================] - 0s 74ms/step - loss: 5.6320e-04 - mae: 0.0186 - val_loss: 0.0033 - val_mae: 0.0447\n",
      "Epoch 1363/2000\n",
      "5/5 [==============================] - 0s 72ms/step - loss: 4.9371e-04 - mae: 0.0175 - val_loss: 0.0032 - val_mae: 0.0441\n",
      "Epoch 1364/2000\n",
      "5/5 [==============================] - 0s 71ms/step - loss: 4.6731e-04 - mae: 0.0169 - val_loss: 0.0031 - val_mae: 0.0436\n",
      "Epoch 1365/2000\n",
      "5/5 [==============================] - 0s 75ms/step - loss: 4.4358e-04 - mae: 0.0165 - val_loss: 0.0031 - val_mae: 0.0439\n",
      "Epoch 1366/2000\n",
      "5/5 [==============================] - 0s 72ms/step - loss: 4.2428e-04 - mae: 0.0160 - val_loss: 0.0031 - val_mae: 0.0431\n",
      "Epoch 1367/2000\n",
      "5/5 [==============================] - 0s 73ms/step - loss: 4.3888e-04 - mae: 0.0164 - val_loss: 0.0031 - val_mae: 0.0435\n",
      "Epoch 1368/2000\n",
      "5/5 [==============================] - 0s 71ms/step - loss: 4.5253e-04 - mae: 0.0167 - val_loss: 0.0032 - val_mae: 0.0447\n",
      "Epoch 1369/2000\n",
      "5/5 [==============================] - 0s 72ms/step - loss: 4.7417e-04 - mae: 0.0170 - val_loss: 0.0031 - val_mae: 0.0438\n",
      "Epoch 1370/2000\n",
      "5/5 [==============================] - 0s 72ms/step - loss: 4.6597e-04 - mae: 0.0171 - val_loss: 0.0032 - val_mae: 0.0442\n",
      "Epoch 1371/2000\n",
      "5/5 [==============================] - 0s 70ms/step - loss: 4.3206e-04 - mae: 0.0163 - val_loss: 0.0031 - val_mae: 0.0436\n",
      "Epoch 1372/2000\n",
      "5/5 [==============================] - 0s 77ms/step - loss: 4.4497e-04 - mae: 0.0166 - val_loss: 0.0031 - val_mae: 0.0439\n",
      "Epoch 1373/2000\n",
      "5/5 [==============================] - 0s 73ms/step - loss: 4.2996e-04 - mae: 0.0163 - val_loss: 0.0031 - val_mae: 0.0432\n",
      "Epoch 1374/2000\n",
      "5/5 [==============================] - 0s 71ms/step - loss: 4.8138e-04 - mae: 0.0172 - val_loss: 0.0032 - val_mae: 0.0447\n",
      "Epoch 1375/2000\n",
      "5/5 [==============================] - 0s 74ms/step - loss: 4.5601e-04 - mae: 0.0171 - val_loss: 0.0032 - val_mae: 0.0442\n",
      "Epoch 1376/2000\n",
      "5/5 [==============================] - 0s 73ms/step - loss: 4.3399e-04 - mae: 0.0162 - val_loss: 0.0031 - val_mae: 0.0432\n",
      "Epoch 1377/2000\n",
      "5/5 [==============================] - 0s 72ms/step - loss: 4.2943e-04 - mae: 0.0163 - val_loss: 0.0033 - val_mae: 0.0450\n",
      "Epoch 1378/2000\n",
      "5/5 [==============================] - 0s 74ms/step - loss: 4.3737e-04 - mae: 0.0164 - val_loss: 0.0031 - val_mae: 0.0437\n",
      "Epoch 1379/2000\n",
      "5/5 [==============================] - 0s 72ms/step - loss: 4.4881e-04 - mae: 0.0166 - val_loss: 0.0032 - val_mae: 0.0441\n",
      "Epoch 1380/2000\n",
      "5/5 [==============================] - 0s 73ms/step - loss: 4.1813e-04 - mae: 0.0159 - val_loss: 0.0031 - val_mae: 0.0434\n",
      "Epoch 1381/2000\n",
      "5/5 [==============================] - 0s 74ms/step - loss: 4.2178e-04 - mae: 0.0159 - val_loss: 0.0031 - val_mae: 0.0435\n",
      "Epoch 1382/2000\n",
      "5/5 [==============================] - 0s 73ms/step - loss: 4.0316e-04 - mae: 0.0158 - val_loss: 0.0032 - val_mae: 0.0441\n",
      "Epoch 1383/2000\n",
      "5/5 [==============================] - 0s 71ms/step - loss: 4.0351e-04 - mae: 0.0157 - val_loss: 0.0031 - val_mae: 0.0435\n",
      "Epoch 1384/2000\n",
      "5/5 [==============================] - 0s 72ms/step - loss: 4.2605e-04 - mae: 0.0163 - val_loss: 0.0032 - val_mae: 0.0446\n",
      "Epoch 1385/2000\n",
      "5/5 [==============================] - 0s 74ms/step - loss: 4.3094e-04 - mae: 0.0163 - val_loss: 0.0031 - val_mae: 0.0438\n",
      "Epoch 1386/2000\n",
      "5/5 [==============================] - 0s 72ms/step - loss: 4.2805e-04 - mae: 0.0163 - val_loss: 0.0031 - val_mae: 0.0436\n",
      "Epoch 1387/2000\n",
      "5/5 [==============================] - 0s 71ms/step - loss: 4.0744e-04 - mae: 0.0158 - val_loss: 0.0032 - val_mae: 0.0443\n",
      "Epoch 1388/2000\n",
      "5/5 [==============================] - 0s 74ms/step - loss: 4.0216e-04 - mae: 0.0156 - val_loss: 0.0031 - val_mae: 0.0439\n",
      "Epoch 1389/2000\n",
      "5/5 [==============================] - 0s 71ms/step - loss: 3.8011e-04 - mae: 0.0152 - val_loss: 0.0032 - val_mae: 0.0443\n",
      "Epoch 1390/2000\n",
      "5/5 [==============================] - 0s 73ms/step - loss: 3.8959e-04 - mae: 0.0155 - val_loss: 0.0032 - val_mae: 0.0439\n",
      "Epoch 1391/2000\n",
      "5/5 [==============================] - 0s 74ms/step - loss: 4.2861e-04 - mae: 0.0163 - val_loss: 0.0032 - val_mae: 0.0446\n",
      "Epoch 1392/2000\n",
      "5/5 [==============================] - 0s 72ms/step - loss: 4.4806e-04 - mae: 0.0167 - val_loss: 0.0033 - val_mae: 0.0448\n",
      "Epoch 1393/2000\n",
      "5/5 [==============================] - 0s 74ms/step - loss: 4.2601e-04 - mae: 0.0160 - val_loss: 0.0032 - val_mae: 0.0442\n",
      "Epoch 1394/2000\n",
      "5/5 [==============================] - 0s 72ms/step - loss: 4.0055e-04 - mae: 0.0156 - val_loss: 0.0031 - val_mae: 0.0443\n",
      "Epoch 1395/2000\n"
     ]
    },
    {
     "name": "stdout",
     "output_type": "stream",
     "text": [
      "5/5 [==============================] - 0s 73ms/step - loss: 3.8499e-04 - mae: 0.0154 - val_loss: 0.0032 - val_mae: 0.0440\n",
      "Epoch 1396/2000\n",
      "5/5 [==============================] - 0s 73ms/step - loss: 3.6776e-04 - mae: 0.0151 - val_loss: 0.0031 - val_mae: 0.0441\n",
      "Epoch 1397/2000\n",
      "5/5 [==============================] - 0s 71ms/step - loss: 3.9071e-04 - mae: 0.0155 - val_loss: 0.0032 - val_mae: 0.0441\n",
      "Epoch 1398/2000\n",
      "5/5 [==============================] - 0s 75ms/step - loss: 4.1676e-04 - mae: 0.0160 - val_loss: 0.0033 - val_mae: 0.0453\n",
      "Epoch 1399/2000\n",
      "5/5 [==============================] - 0s 72ms/step - loss: 3.9498e-04 - mae: 0.0156 - val_loss: 0.0031 - val_mae: 0.0437\n",
      "Epoch 1400/2000\n",
      "5/5 [==============================] - 0s 72ms/step - loss: 3.8778e-04 - mae: 0.0154 - val_loss: 0.0032 - val_mae: 0.0443\n",
      "Epoch 1401/2000\n",
      "5/5 [==============================] - 0s 73ms/step - loss: 4.1049e-04 - mae: 0.0160 - val_loss: 0.0032 - val_mae: 0.0443\n",
      "Epoch 1402/2000\n",
      "5/5 [==============================] - 0s 70ms/step - loss: 4.7380e-04 - mae: 0.0172 - val_loss: 0.0032 - val_mae: 0.0446\n",
      "Epoch 1403/2000\n",
      "5/5 [==============================] - 0s 72ms/step - loss: 5.1594e-04 - mae: 0.0179 - val_loss: 0.0036 - val_mae: 0.0467\n",
      "Epoch 1404/2000\n",
      "5/5 [==============================] - 0s 70ms/step - loss: 5.1962e-04 - mae: 0.0180 - val_loss: 0.0032 - val_mae: 0.0445\n",
      "Epoch 1405/2000\n",
      "5/5 [==============================] - 0s 73ms/step - loss: 4.2770e-04 - mae: 0.0163 - val_loss: 0.0034 - val_mae: 0.0466\n",
      "Epoch 1406/2000\n",
      "5/5 [==============================] - 0s 73ms/step - loss: 4.8436e-04 - mae: 0.0175 - val_loss: 0.0032 - val_mae: 0.0441\n",
      "Epoch 1407/2000\n",
      "5/5 [==============================] - 0s 71ms/step - loss: 4.0217e-04 - mae: 0.0158 - val_loss: 0.0032 - val_mae: 0.0441\n",
      "Epoch 1408/2000\n",
      "5/5 [==============================] - 0s 75ms/step - loss: 4.0075e-04 - mae: 0.0157 - val_loss: 0.0035 - val_mae: 0.0456\n",
      "Epoch 1409/2000\n",
      "5/5 [==============================] - 0s 71ms/step - loss: 5.0578e-04 - mae: 0.0177 - val_loss: 0.0032 - val_mae: 0.0445\n",
      "Epoch 1410/2000\n",
      "5/5 [==============================] - 0s 72ms/step - loss: 4.5392e-04 - mae: 0.0167 - val_loss: 0.0033 - val_mae: 0.0450\n",
      "Epoch 1411/2000\n",
      "5/5 [==============================] - 0s 73ms/step - loss: 5.3126e-04 - mae: 0.0183 - val_loss: 0.0034 - val_mae: 0.0458\n",
      "Epoch 1412/2000\n",
      "5/5 [==============================] - 0s 70ms/step - loss: 5.0617e-04 - mae: 0.0178 - val_loss: 0.0034 - val_mae: 0.0465\n",
      "Epoch 1413/2000\n",
      "5/5 [==============================] - 0s 72ms/step - loss: 5.6485e-04 - mae: 0.0189 - val_loss: 0.0033 - val_mae: 0.0447\n",
      "Epoch 1414/2000\n",
      "5/5 [==============================] - 1s 123ms/step - loss: 6.2771e-04 - mae: 0.0198 - val_loss: 0.0035 - val_mae: 0.0462\n",
      "Epoch 1415/2000\n",
      "5/5 [==============================] - 0s 73ms/step - loss: 5.8276e-04 - mae: 0.0192 - val_loss: 0.0036 - val_mae: 0.0477\n",
      "Epoch 1416/2000\n",
      "5/5 [==============================] - 0s 72ms/step - loss: 5.6092e-04 - mae: 0.0188 - val_loss: 0.0032 - val_mae: 0.0445\n",
      "Epoch 1417/2000\n",
      "5/5 [==============================] - 0s 75ms/step - loss: 4.1334e-04 - mae: 0.0159 - val_loss: 0.0034 - val_mae: 0.0453\n",
      "Epoch 1418/2000\n",
      "5/5 [==============================] - 0s 73ms/step - loss: 4.9438e-04 - mae: 0.0174 - val_loss: 0.0032 - val_mae: 0.0440\n",
      "Epoch 1419/2000\n",
      "5/5 [==============================] - 0s 74ms/step - loss: 5.0929e-04 - mae: 0.0177 - val_loss: 0.0035 - val_mae: 0.0469\n",
      "Epoch 1420/2000\n",
      "5/5 [==============================] - 0s 75ms/step - loss: 6.4696e-04 - mae: 0.0204 - val_loss: 0.0034 - val_mae: 0.0456\n",
      "Epoch 1421/2000\n",
      "5/5 [==============================] - 0s 72ms/step - loss: 5.7658e-04 - mae: 0.0188 - val_loss: 0.0035 - val_mae: 0.0466\n",
      "Epoch 1422/2000\n",
      "5/5 [==============================] - 0s 73ms/step - loss: 6.7624e-04 - mae: 0.0209 - val_loss: 0.0033 - val_mae: 0.0445\n",
      "Epoch 1423/2000\n",
      "5/5 [==============================] - 0s 72ms/step - loss: 5.8074e-04 - mae: 0.0192 - val_loss: 0.0034 - val_mae: 0.0458\n",
      "Epoch 1424/2000\n",
      "5/5 [==============================] - 0s 75ms/step - loss: 5.3845e-04 - mae: 0.0184 - val_loss: 0.0034 - val_mae: 0.0461\n",
      "Epoch 1425/2000\n",
      "5/5 [==============================] - 0s 73ms/step - loss: 0.0011 - mae: 0.0242 - val_loss: 0.0044 - val_mae: 0.0515\n",
      "Epoch 1426/2000\n",
      "5/5 [==============================] - 0s 73ms/step - loss: 0.0023 - mae: 0.0374 - val_loss: 0.0044 - val_mae: 0.0510\n",
      "Epoch 1427/2000\n",
      "5/5 [==============================] - 0s 74ms/step - loss: 0.0018 - mae: 0.0333 - val_loss: 0.0048 - val_mae: 0.0560\n",
      "Epoch 1428/2000\n",
      "5/5 [==============================] - 0s 73ms/step - loss: 0.0021 - mae: 0.0363 - val_loss: 0.0054 - val_mae: 0.0582\n",
      "Epoch 1429/2000\n",
      "5/5 [==============================] - 0s 71ms/step - loss: 0.0018 - mae: 0.0344 - val_loss: 0.0041 - val_mae: 0.0499\n",
      "Epoch 1430/2000\n",
      "5/5 [==============================] - 0s 74ms/step - loss: 0.0019 - mae: 0.0342 - val_loss: 0.0053 - val_mae: 0.0590\n",
      "Epoch 1431/2000\n",
      "5/5 [==============================] - 0s 71ms/step - loss: 0.0018 - mae: 0.0345 - val_loss: 0.0053 - val_mae: 0.0578\n",
      "Epoch 1432/2000\n",
      "5/5 [==============================] - 0s 73ms/step - loss: 0.0016 - mae: 0.0318 - val_loss: 0.0034 - val_mae: 0.0458\n",
      "Epoch 1433/2000\n",
      "5/5 [==============================] - 0s 73ms/step - loss: 9.8608e-04 - mae: 0.0249 - val_loss: 0.0042 - val_mae: 0.0519\n",
      "Epoch 1434/2000\n",
      "5/5 [==============================] - 0s 71ms/step - loss: 0.0012 - mae: 0.0279 - val_loss: 0.0034 - val_mae: 0.0449\n",
      "Epoch 1435/2000\n",
      "5/5 [==============================] - 0s 73ms/step - loss: 0.0010 - mae: 0.0258 - val_loss: 0.0044 - val_mae: 0.0536\n",
      "Epoch 1436/2000\n",
      "5/5 [==============================] - 0s 73ms/step - loss: 0.0016 - mae: 0.0324 - val_loss: 0.0042 - val_mae: 0.0525\n",
      "Epoch 1437/2000\n",
      "5/5 [==============================] - 0s 75ms/step - loss: 0.0016 - mae: 0.0320 - val_loss: 0.0036 - val_mae: 0.0480\n",
      "Epoch 1438/2000\n",
      "5/5 [==============================] - 0s 73ms/step - loss: 0.0011 - mae: 0.0263 - val_loss: 0.0039 - val_mae: 0.0495\n",
      "Epoch 1439/2000\n",
      "5/5 [==============================] - 0s 73ms/step - loss: 8.9052e-04 - mae: 0.0238 - val_loss: 0.0034 - val_mae: 0.0452\n",
      "Epoch 1440/2000\n",
      "5/5 [==============================] - 0s 76ms/step - loss: 6.9754e-04 - mae: 0.0208 - val_loss: 0.0033 - val_mae: 0.0451\n",
      "Epoch 1441/2000\n",
      "5/5 [==============================] - 0s 74ms/step - loss: 6.1902e-04 - mae: 0.0198 - val_loss: 0.0034 - val_mae: 0.0449\n",
      "Epoch 1442/2000\n",
      "5/5 [==============================] - 0s 73ms/step - loss: 5.1349e-04 - mae: 0.0180 - val_loss: 0.0034 - val_mae: 0.0452\n",
      "Epoch 1443/2000\n",
      "5/5 [==============================] - 0s 74ms/step - loss: 5.0523e-04 - mae: 0.0177 - val_loss: 0.0032 - val_mae: 0.0444\n",
      "Epoch 1444/2000\n",
      "5/5 [==============================] - 0s 72ms/step - loss: 4.5737e-04 - mae: 0.0168 - val_loss: 0.0033 - val_mae: 0.0452\n",
      "Epoch 1445/2000\n",
      "5/5 [==============================] - 0s 73ms/step - loss: 4.5648e-04 - mae: 0.0170 - val_loss: 0.0032 - val_mae: 0.0448\n",
      "Epoch 1446/2000\n",
      "5/5 [==============================] - 0s 75ms/step - loss: 4.5957e-04 - mae: 0.0170 - val_loss: 0.0034 - val_mae: 0.0450\n",
      "Epoch 1447/2000\n",
      "5/5 [==============================] - 0s 74ms/step - loss: 4.2665e-04 - mae: 0.0162 - val_loss: 0.0032 - val_mae: 0.0436\n",
      "Epoch 1448/2000\n",
      "5/5 [==============================] - 0s 71ms/step - loss: 3.7323e-04 - mae: 0.0153 - val_loss: 0.0033 - val_mae: 0.0450\n",
      "Epoch 1449/2000\n",
      "5/5 [==============================] - 0s 71ms/step - loss: 3.5960e-04 - mae: 0.0149 - val_loss: 0.0032 - val_mae: 0.0449\n",
      "Epoch 1450/2000\n",
      "5/5 [==============================] - 0s 74ms/step - loss: 3.3897e-04 - mae: 0.0145 - val_loss: 0.0032 - val_mae: 0.0443\n",
      "Epoch 1451/2000\n",
      "5/5 [==============================] - 0s 74ms/step - loss: 3.8208e-04 - mae: 0.0153 - val_loss: 0.0033 - val_mae: 0.0443\n",
      "Epoch 1452/2000\n",
      "5/5 [==============================] - 0s 72ms/step - loss: 3.7703e-04 - mae: 0.0153 - val_loss: 0.0032 - val_mae: 0.0440\n",
      "Epoch 1453/2000\n",
      "5/5 [==============================] - 0s 75ms/step - loss: 3.8356e-04 - mae: 0.0154 - val_loss: 0.0034 - val_mae: 0.0456\n",
      "Epoch 1454/2000\n",
      "5/5 [==============================] - 0s 74ms/step - loss: 4.1551e-04 - mae: 0.0161 - val_loss: 0.0032 - val_mae: 0.0445\n"
     ]
    },
    {
     "name": "stdout",
     "output_type": "stream",
     "text": [
      "Epoch 1455/2000\n",
      "5/5 [==============================] - 0s 72ms/step - loss: 3.9898e-04 - mae: 0.0158 - val_loss: 0.0033 - val_mae: 0.0449\n",
      "Epoch 1456/2000\n",
      "5/5 [==============================] - 0s 73ms/step - loss: 4.0438e-04 - mae: 0.0160 - val_loss: 0.0032 - val_mae: 0.0441\n",
      "Epoch 1457/2000\n",
      "5/5 [==============================] - 0s 71ms/step - loss: 3.6695e-04 - mae: 0.0148 - val_loss: 0.0034 - val_mae: 0.0458\n",
      "Epoch 1458/2000\n",
      "5/5 [==============================] - 0s 73ms/step - loss: 3.6769e-04 - mae: 0.0152 - val_loss: 0.0032 - val_mae: 0.0441\n",
      "Epoch 1459/2000\n",
      "5/5 [==============================] - 0s 75ms/step - loss: 3.3467e-04 - mae: 0.0143 - val_loss: 0.0033 - val_mae: 0.0449\n",
      "Epoch 1460/2000\n",
      "5/5 [==============================] - 0s 74ms/step - loss: 3.2791e-04 - mae: 0.0142 - val_loss: 0.0033 - val_mae: 0.0451\n",
      "Epoch 1461/2000\n",
      "5/5 [==============================] - 0s 74ms/step - loss: 3.1460e-04 - mae: 0.0140 - val_loss: 0.0033 - val_mae: 0.0448\n",
      "Epoch 1462/2000\n",
      "5/5 [==============================] - 0s 75ms/step - loss: 3.3498e-04 - mae: 0.0144 - val_loss: 0.0033 - val_mae: 0.0443\n",
      "Epoch 1463/2000\n",
      "5/5 [==============================] - 0s 75ms/step - loss: 3.3006e-04 - mae: 0.0144 - val_loss: 0.0033 - val_mae: 0.0448\n",
      "Epoch 1464/2000\n",
      "5/5 [==============================] - 0s 73ms/step - loss: 3.4168e-04 - mae: 0.0147 - val_loss: 0.0033 - val_mae: 0.0452\n",
      "Epoch 1465/2000\n",
      "5/5 [==============================] - 0s 74ms/step - loss: 3.5010e-04 - mae: 0.0148 - val_loss: 0.0033 - val_mae: 0.0455\n",
      "Epoch 1466/2000\n",
      "5/5 [==============================] - 0s 76ms/step - loss: 3.3335e-04 - mae: 0.0143 - val_loss: 0.0033 - val_mae: 0.0450\n",
      "Epoch 1467/2000\n",
      "5/5 [==============================] - 0s 74ms/step - loss: 3.2382e-04 - mae: 0.0140 - val_loss: 0.0033 - val_mae: 0.0444\n",
      "Epoch 1468/2000\n",
      "5/5 [==============================] - 0s 73ms/step - loss: 3.2971e-04 - mae: 0.0142 - val_loss: 0.0034 - val_mae: 0.0464\n",
      "Epoch 1469/2000\n",
      "5/5 [==============================] - 0s 78ms/step - loss: 3.7965e-04 - mae: 0.0154 - val_loss: 0.0034 - val_mae: 0.0452\n",
      "Epoch 1470/2000\n",
      "5/5 [==============================] - 0s 73ms/step - loss: 3.9021e-04 - mae: 0.0156 - val_loss: 0.0033 - val_mae: 0.0445\n",
      "Epoch 1471/2000\n",
      "5/5 [==============================] - 0s 72ms/step - loss: 3.4539e-04 - mae: 0.0146 - val_loss: 0.0035 - val_mae: 0.0466\n",
      "Epoch 1472/2000\n",
      "5/5 [==============================] - 0s 74ms/step - loss: 3.9402e-04 - mae: 0.0158 - val_loss: 0.0033 - val_mae: 0.0449\n",
      "Epoch 1473/2000\n",
      "5/5 [==============================] - 0s 72ms/step - loss: 3.8519e-04 - mae: 0.0154 - val_loss: 0.0034 - val_mae: 0.0452\n",
      "Epoch 1474/2000\n",
      "5/5 [==============================] - 0s 74ms/step - loss: 4.2500e-04 - mae: 0.0163 - val_loss: 0.0033 - val_mae: 0.0448\n",
      "Epoch 1475/2000\n",
      "5/5 [==============================] - 0s 75ms/step - loss: 3.8630e-04 - mae: 0.0153 - val_loss: 0.0034 - val_mae: 0.0456\n",
      "Epoch 1476/2000\n",
      "5/5 [==============================] - 0s 73ms/step - loss: 3.7977e-04 - mae: 0.0152 - val_loss: 0.0034 - val_mae: 0.0451\n",
      "Epoch 1477/2000\n",
      "5/5 [==============================] - 0s 72ms/step - loss: 3.8214e-04 - mae: 0.0155 - val_loss: 0.0033 - val_mae: 0.0448\n",
      "Epoch 1478/2000\n",
      "5/5 [==============================] - 0s 73ms/step - loss: 3.4369e-04 - mae: 0.0144 - val_loss: 0.0033 - val_mae: 0.0455\n",
      "Epoch 1479/2000\n",
      "5/5 [==============================] - 0s 75ms/step - loss: 3.4349e-04 - mae: 0.0145 - val_loss: 0.0032 - val_mae: 0.0445\n",
      "Epoch 1480/2000\n",
      "5/5 [==============================] - 0s 73ms/step - loss: 3.0965e-04 - mae: 0.0138 - val_loss: 0.0033 - val_mae: 0.0453\n",
      "Epoch 1481/2000\n",
      "5/5 [==============================] - 0s 73ms/step - loss: 3.1406e-04 - mae: 0.0138 - val_loss: 0.0033 - val_mae: 0.0446\n",
      "Epoch 1482/2000\n",
      "5/5 [==============================] - 0s 76ms/step - loss: 3.2252e-04 - mae: 0.0142 - val_loss: 0.0033 - val_mae: 0.0451\n",
      "Epoch 1483/2000\n",
      "5/5 [==============================] - 0s 73ms/step - loss: 2.9952e-04 - mae: 0.0136 - val_loss: 0.0033 - val_mae: 0.0449\n",
      "Epoch 1484/2000\n",
      "5/5 [==============================] - 0s 74ms/step - loss: 2.9324e-04 - mae: 0.0135 - val_loss: 0.0033 - val_mae: 0.0447\n",
      "Epoch 1485/2000\n",
      "5/5 [==============================] - 0s 74ms/step - loss: 2.8860e-04 - mae: 0.0133 - val_loss: 0.0033 - val_mae: 0.0449\n",
      "Epoch 1486/2000\n",
      "5/5 [==============================] - 0s 73ms/step - loss: 2.7511e-04 - mae: 0.0129 - val_loss: 0.0032 - val_mae: 0.0447\n",
      "Epoch 1487/2000\n",
      "5/5 [==============================] - 0s 74ms/step - loss: 2.6662e-04 - mae: 0.0128 - val_loss: 0.0032 - val_mae: 0.0443\n",
      "Epoch 1488/2000\n",
      "5/5 [==============================] - 0s 75ms/step - loss: 2.8021e-04 - mae: 0.0131 - val_loss: 0.0033 - val_mae: 0.0451\n",
      "Epoch 1489/2000\n",
      "5/5 [==============================] - 0s 72ms/step - loss: 2.8530e-04 - mae: 0.0131 - val_loss: 0.0033 - val_mae: 0.0449\n",
      "Epoch 1490/2000\n",
      "5/5 [==============================] - 0s 73ms/step - loss: 2.6759e-04 - mae: 0.0127 - val_loss: 0.0033 - val_mae: 0.0449\n",
      "Epoch 1491/2000\n",
      "5/5 [==============================] - 0s 73ms/step - loss: 2.7267e-04 - mae: 0.0129 - val_loss: 0.0033 - val_mae: 0.0452\n",
      "Epoch 1492/2000\n",
      "5/5 [==============================] - 0s 76ms/step - loss: 2.9836e-04 - mae: 0.0135 - val_loss: 0.0033 - val_mae: 0.0446\n",
      "Epoch 1493/2000\n",
      "5/5 [==============================] - 0s 75ms/step - loss: 3.0005e-04 - mae: 0.0137 - val_loss: 0.0033 - val_mae: 0.0449\n",
      "Epoch 1494/2000\n",
      "5/5 [==============================] - 0s 73ms/step - loss: 3.7240e-04 - mae: 0.0151 - val_loss: 0.0035 - val_mae: 0.0468\n",
      "Epoch 1495/2000\n",
      "5/5 [==============================] - 0s 75ms/step - loss: 3.3563e-04 - mae: 0.0145 - val_loss: 0.0033 - val_mae: 0.0449\n",
      "Epoch 1496/2000\n",
      "5/5 [==============================] - 0s 74ms/step - loss: 3.0408e-04 - mae: 0.0138 - val_loss: 0.0034 - val_mae: 0.0453\n",
      "Epoch 1497/2000\n",
      "5/5 [==============================] - 0s 72ms/step - loss: 2.8772e-04 - mae: 0.0133 - val_loss: 0.0033 - val_mae: 0.0451\n",
      "Epoch 1498/2000\n",
      "5/5 [==============================] - 0s 75ms/step - loss: 2.7540e-04 - mae: 0.0131 - val_loss: 0.0033 - val_mae: 0.0450\n",
      "Epoch 1499/2000\n",
      "5/5 [==============================] - 0s 74ms/step - loss: 2.6202e-04 - mae: 0.0127 - val_loss: 0.0033 - val_mae: 0.0452\n",
      "Epoch 1500/2000\n",
      "5/5 [==============================] - 0s 73ms/step - loss: 2.6038e-04 - mae: 0.0128 - val_loss: 0.0033 - val_mae: 0.0452\n",
      "Epoch 1501/2000\n",
      "5/5 [==============================] - 0s 76ms/step - loss: 2.6025e-04 - mae: 0.0126 - val_loss: 0.0033 - val_mae: 0.0447\n",
      "Epoch 1502/2000\n",
      "5/5 [==============================] - 0s 72ms/step - loss: 2.6828e-04 - mae: 0.0128 - val_loss: 0.0036 - val_mae: 0.0471\n",
      "Epoch 1503/2000\n",
      "5/5 [==============================] - 0s 72ms/step - loss: 3.3825e-04 - mae: 0.0146 - val_loss: 0.0034 - val_mae: 0.0459\n",
      "Epoch 1504/2000\n",
      "5/5 [==============================] - 0s 72ms/step - loss: 4.0280e-04 - mae: 0.0157 - val_loss: 0.0037 - val_mae: 0.0469\n",
      "Epoch 1505/2000\n",
      "5/5 [==============================] - 0s 73ms/step - loss: 4.4776e-04 - mae: 0.0168 - val_loss: 0.0035 - val_mae: 0.0468\n",
      "Epoch 1506/2000\n",
      "5/5 [==============================] - 0s 73ms/step - loss: 3.9855e-04 - mae: 0.0157 - val_loss: 0.0034 - val_mae: 0.0462\n",
      "Epoch 1507/2000\n",
      "5/5 [==============================] - 0s 72ms/step - loss: 4.0054e-04 - mae: 0.0160 - val_loss: 0.0036 - val_mae: 0.0461\n",
      "Epoch 1508/2000\n",
      "5/5 [==============================] - 0s 73ms/step - loss: 3.8977e-04 - mae: 0.0154 - val_loss: 0.0034 - val_mae: 0.0456\n",
      "Epoch 1509/2000\n",
      "5/5 [==============================] - 0s 71ms/step - loss: 3.8067e-04 - mae: 0.0155 - val_loss: 0.0034 - val_mae: 0.0452\n",
      "Epoch 1510/2000\n",
      "5/5 [==============================] - 0s 71ms/step - loss: 4.0055e-04 - mae: 0.0159 - val_loss: 0.0036 - val_mae: 0.0465\n",
      "Epoch 1511/2000\n",
      "5/5 [==============================] - 0s 75ms/step - loss: 3.9835e-04 - mae: 0.0158 - val_loss: 0.0032 - val_mae: 0.0446\n",
      "Epoch 1512/2000\n",
      "5/5 [==============================] - 0s 72ms/step - loss: 2.9841e-04 - mae: 0.0136 - val_loss: 0.0034 - val_mae: 0.0457\n",
      "Epoch 1513/2000\n",
      "5/5 [==============================] - 0s 73ms/step - loss: 3.4145e-04 - mae: 0.0146 - val_loss: 0.0035 - val_mae: 0.0458\n",
      "Epoch 1514/2000\n"
     ]
    },
    {
     "name": "stdout",
     "output_type": "stream",
     "text": [
      "5/5 [==============================] - 0s 75ms/step - loss: 3.7096e-04 - mae: 0.0152 - val_loss: 0.0034 - val_mae: 0.0454\n",
      "Epoch 1515/2000\n",
      "5/5 [==============================] - 0s 72ms/step - loss: 3.9049e-04 - mae: 0.0155 - val_loss: 0.0036 - val_mae: 0.0474\n",
      "Epoch 1516/2000\n",
      "5/5 [==============================] - 0s 75ms/step - loss: 4.2848e-04 - mae: 0.0163 - val_loss: 0.0034 - val_mae: 0.0454\n",
      "Epoch 1517/2000\n",
      "5/5 [==============================] - 0s 73ms/step - loss: 4.2923e-04 - mae: 0.0163 - val_loss: 0.0036 - val_mae: 0.0466\n",
      "Epoch 1518/2000\n",
      "5/5 [==============================] - 0s 74ms/step - loss: 4.6294e-04 - mae: 0.0171 - val_loss: 0.0037 - val_mae: 0.0477\n",
      "Epoch 1519/2000\n",
      "5/5 [==============================] - 0s 74ms/step - loss: 4.1069e-04 - mae: 0.0161 - val_loss: 0.0035 - val_mae: 0.0463\n",
      "Epoch 1520/2000\n",
      "5/5 [==============================] - 0s 71ms/step - loss: 3.7076e-04 - mae: 0.0154 - val_loss: 0.0034 - val_mae: 0.0455\n",
      "Epoch 1521/2000\n",
      "5/5 [==============================] - 0s 74ms/step - loss: 3.0288e-04 - mae: 0.0137 - val_loss: 0.0034 - val_mae: 0.0459\n",
      "Epoch 1522/2000\n",
      "5/5 [==============================] - 0s 72ms/step - loss: 2.7815e-04 - mae: 0.0131 - val_loss: 0.0034 - val_mae: 0.0462\n",
      "Epoch 1523/2000\n",
      "5/5 [==============================] - 0s 73ms/step - loss: 2.7092e-04 - mae: 0.0129 - val_loss: 0.0034 - val_mae: 0.0456\n",
      "Epoch 1524/2000\n",
      "5/5 [==============================] - 0s 73ms/step - loss: 2.7598e-04 - mae: 0.0132 - val_loss: 0.0034 - val_mae: 0.0454\n",
      "Epoch 1525/2000\n",
      "5/5 [==============================] - 0s 72ms/step - loss: 2.9144e-04 - mae: 0.0135 - val_loss: 0.0035 - val_mae: 0.0460\n",
      "Epoch 1526/2000\n",
      "5/5 [==============================] - 0s 73ms/step - loss: 2.6439e-04 - mae: 0.0129 - val_loss: 0.0033 - val_mae: 0.0452\n",
      "Epoch 1527/2000\n",
      "5/5 [==============================] - 0s 73ms/step - loss: 2.4246e-04 - mae: 0.0121 - val_loss: 0.0033 - val_mae: 0.0451\n",
      "Epoch 1528/2000\n",
      "5/5 [==============================] - 0s 71ms/step - loss: 2.4578e-04 - mae: 0.0123 - val_loss: 0.0035 - val_mae: 0.0462\n",
      "Epoch 1529/2000\n",
      "5/5 [==============================] - 0s 72ms/step - loss: 2.6941e-04 - mae: 0.0128 - val_loss: 0.0033 - val_mae: 0.0451\n",
      "Epoch 1530/2000\n",
      "5/5 [==============================] - 0s 73ms/step - loss: 2.6104e-04 - mae: 0.0127 - val_loss: 0.0034 - val_mae: 0.0456\n",
      "Epoch 1531/2000\n",
      "5/5 [==============================] - 0s 73ms/step - loss: 2.5862e-04 - mae: 0.0126 - val_loss: 0.0033 - val_mae: 0.0455\n",
      "Epoch 1532/2000\n",
      "5/5 [==============================] - 0s 71ms/step - loss: 2.4184e-04 - mae: 0.0122 - val_loss: 0.0033 - val_mae: 0.0450\n",
      "Epoch 1533/2000\n",
      "5/5 [==============================] - 0s 71ms/step - loss: 2.2532e-04 - mae: 0.0118 - val_loss: 0.0034 - val_mae: 0.0453\n",
      "Epoch 1534/2000\n",
      "5/5 [==============================] - 0s 73ms/step - loss: 2.1795e-04 - mae: 0.0116 - val_loss: 0.0033 - val_mae: 0.0454\n",
      "Epoch 1535/2000\n",
      "5/5 [==============================] - 0s 71ms/step - loss: 2.1462e-04 - mae: 0.0115 - val_loss: 0.0034 - val_mae: 0.0453\n",
      "Epoch 1536/2000\n",
      "5/5 [==============================] - 0s 72ms/step - loss: 2.2057e-04 - mae: 0.0116 - val_loss: 0.0034 - val_mae: 0.0455\n",
      "Epoch 1537/2000\n",
      "5/5 [==============================] - 0s 73ms/step - loss: 2.3138e-04 - mae: 0.0119 - val_loss: 0.0034 - val_mae: 0.0457\n",
      "Epoch 1538/2000\n",
      "5/5 [==============================] - 0s 71ms/step - loss: 2.1312e-04 - mae: 0.0113 - val_loss: 0.0034 - val_mae: 0.0453\n",
      "Epoch 1539/2000\n",
      "5/5 [==============================] - 0s 73ms/step - loss: 2.0965e-04 - mae: 0.0112 - val_loss: 0.0033 - val_mae: 0.0454\n",
      "Epoch 1540/2000\n",
      "5/5 [==============================] - 0s 73ms/step - loss: 2.0990e-04 - mae: 0.0113 - val_loss: 0.0034 - val_mae: 0.0457\n",
      "Epoch 1541/2000\n",
      "5/5 [==============================] - 0s 74ms/step - loss: 2.0301e-04 - mae: 0.0112 - val_loss: 0.0033 - val_mae: 0.0449\n",
      "Epoch 1542/2000\n",
      "5/5 [==============================] - 0s 75ms/step - loss: 1.9612e-04 - mae: 0.0109 - val_loss: 0.0033 - val_mae: 0.0452\n",
      "Epoch 1543/2000\n",
      "5/5 [==============================] - 0s 73ms/step - loss: 1.8786e-04 - mae: 0.0106 - val_loss: 0.0034 - val_mae: 0.0457\n",
      "Epoch 1544/2000\n",
      "5/5 [==============================] - 0s 75ms/step - loss: 1.8551e-04 - mae: 0.0106 - val_loss: 0.0033 - val_mae: 0.0449\n",
      "Epoch 1545/2000\n",
      "5/5 [==============================] - 0s 73ms/step - loss: 1.8688e-04 - mae: 0.0106 - val_loss: 0.0033 - val_mae: 0.0453\n",
      "Epoch 1546/2000\n",
      "5/5 [==============================] - 0s 74ms/step - loss: 1.8220e-04 - mae: 0.0105 - val_loss: 0.0034 - val_mae: 0.0456\n",
      "Epoch 1547/2000\n",
      "5/5 [==============================] - 0s 76ms/step - loss: 1.7878e-04 - mae: 0.0104 - val_loss: 0.0034 - val_mae: 0.0454\n",
      "Epoch 1548/2000\n",
      "5/5 [==============================] - 0s 72ms/step - loss: 1.8261e-04 - mae: 0.0104 - val_loss: 0.0034 - val_mae: 0.0454\n",
      "Epoch 1549/2000\n",
      "5/5 [==============================] - 0s 73ms/step - loss: 1.9177e-04 - mae: 0.0109 - val_loss: 0.0034 - val_mae: 0.0454\n",
      "Epoch 1550/2000\n",
      "5/5 [==============================] - 0s 75ms/step - loss: 1.9071e-04 - mae: 0.0107 - val_loss: 0.0034 - val_mae: 0.0455\n",
      "Epoch 1551/2000\n",
      "5/5 [==============================] - 0s 72ms/step - loss: 1.8228e-04 - mae: 0.0105 - val_loss: 0.0034 - val_mae: 0.0455\n",
      "Epoch 1552/2000\n",
      "5/5 [==============================] - 0s 72ms/step - loss: 1.7444e-04 - mae: 0.0102 - val_loss: 0.0034 - val_mae: 0.0452\n",
      "Epoch 1553/2000\n",
      "5/5 [==============================] - 0s 71ms/step - loss: 1.9075e-04 - mae: 0.0108 - val_loss: 0.0034 - val_mae: 0.0456\n",
      "Epoch 1554/2000\n",
      "5/5 [==============================] - 0s 74ms/step - loss: 1.9441e-04 - mae: 0.0109 - val_loss: 0.0034 - val_mae: 0.0462\n",
      "Epoch 1555/2000\n",
      "5/5 [==============================] - 0s 73ms/step - loss: 2.1264e-04 - mae: 0.0114 - val_loss: 0.0034 - val_mae: 0.0455\n",
      "Epoch 1556/2000\n",
      "5/5 [==============================] - 0s 72ms/step - loss: 1.9315e-04 - mae: 0.0108 - val_loss: 0.0034 - val_mae: 0.0454\n",
      "Epoch 1557/2000\n",
      "5/5 [==============================] - 0s 73ms/step - loss: 1.9809e-04 - mae: 0.0110 - val_loss: 0.0034 - val_mae: 0.0461\n",
      "Epoch 1558/2000\n",
      "5/5 [==============================] - 0s 72ms/step - loss: 1.9534e-04 - mae: 0.0110 - val_loss: 0.0034 - val_mae: 0.0456\n",
      "Epoch 1559/2000\n",
      "5/5 [==============================] - 0s 72ms/step - loss: 1.8893e-04 - mae: 0.0107 - val_loss: 0.0034 - val_mae: 0.0457\n",
      "Epoch 1560/2000\n",
      "5/5 [==============================] - 0s 74ms/step - loss: 1.8215e-04 - mae: 0.0106 - val_loss: 0.0033 - val_mae: 0.0453\n",
      "Epoch 1561/2000\n",
      "5/5 [==============================] - 0s 71ms/step - loss: 1.7765e-04 - mae: 0.0104 - val_loss: 0.0034 - val_mae: 0.0457\n",
      "Epoch 1562/2000\n",
      "5/5 [==============================] - 0s 72ms/step - loss: 1.8319e-04 - mae: 0.0105 - val_loss: 0.0034 - val_mae: 0.0455\n",
      "Epoch 1563/2000\n",
      "5/5 [==============================] - 0s 72ms/step - loss: 1.7355e-04 - mae: 0.0102 - val_loss: 0.0034 - val_mae: 0.0456\n",
      "Epoch 1564/2000\n",
      "5/5 [==============================] - 0s 74ms/step - loss: 1.7523e-04 - mae: 0.0103 - val_loss: 0.0034 - val_mae: 0.0456\n",
      "Epoch 1565/2000\n",
      "5/5 [==============================] - 0s 73ms/step - loss: 1.6776e-04 - mae: 0.0100 - val_loss: 0.0034 - val_mae: 0.0456\n",
      "Epoch 1566/2000\n",
      "5/5 [==============================] - 0s 73ms/step - loss: 1.6461e-04 - mae: 0.0099 - val_loss: 0.0034 - val_mae: 0.0460\n",
      "Epoch 1567/2000\n",
      "5/5 [==============================] - 0s 74ms/step - loss: 1.6228e-04 - mae: 0.0098 - val_loss: 0.0034 - val_mae: 0.0454\n",
      "Epoch 1568/2000\n",
      "5/5 [==============================] - 0s 73ms/step - loss: 1.6511e-04 - mae: 0.0099 - val_loss: 0.0034 - val_mae: 0.0458\n",
      "Epoch 1569/2000\n",
      "5/5 [==============================] - 0s 71ms/step - loss: 1.8517e-04 - mae: 0.0105 - val_loss: 0.0034 - val_mae: 0.0459\n",
      "Epoch 1570/2000\n",
      "5/5 [==============================] - 0s 74ms/step - loss: 2.1399e-04 - mae: 0.0114 - val_loss: 0.0034 - val_mae: 0.0459\n",
      "Epoch 1571/2000\n",
      "5/5 [==============================] - 0s 71ms/step - loss: 2.0971e-04 - mae: 0.0113 - val_loss: 0.0034 - val_mae: 0.0460\n",
      "Epoch 1572/2000\n",
      "5/5 [==============================] - 0s 72ms/step - loss: 2.0735e-04 - mae: 0.0113 - val_loss: 0.0035 - val_mae: 0.0463\n",
      "Epoch 1573/2000\n"
     ]
    },
    {
     "name": "stdout",
     "output_type": "stream",
     "text": [
      "5/5 [==============================] - 0s 75ms/step - loss: 1.9860e-04 - mae: 0.0110 - val_loss: 0.0034 - val_mae: 0.0456\n",
      "Epoch 1574/2000\n",
      "5/5 [==============================] - 0s 72ms/step - loss: 2.0001e-04 - mae: 0.0111 - val_loss: 0.0035 - val_mae: 0.0462\n",
      "Epoch 1575/2000\n",
      "5/5 [==============================] - 0s 74ms/step - loss: 2.0942e-04 - mae: 0.0113 - val_loss: 0.0034 - val_mae: 0.0456\n",
      "Epoch 1576/2000\n",
      "5/5 [==============================] - 0s 71ms/step - loss: 1.8352e-04 - mae: 0.0105 - val_loss: 0.0035 - val_mae: 0.0458\n",
      "Epoch 1577/2000\n",
      "5/5 [==============================] - 0s 74ms/step - loss: 1.7746e-04 - mae: 0.0105 - val_loss: 0.0034 - val_mae: 0.0460\n",
      "Epoch 1578/2000\n",
      "5/5 [==============================] - 0s 74ms/step - loss: 1.6790e-04 - mae: 0.0100 - val_loss: 0.0034 - val_mae: 0.0456\n",
      "Epoch 1579/2000\n",
      "5/5 [==============================] - 0s 73ms/step - loss: 1.6913e-04 - mae: 0.0101 - val_loss: 0.0035 - val_mae: 0.0461\n",
      "Epoch 1580/2000\n",
      "5/5 [==============================] - 0s 74ms/step - loss: 1.6831e-04 - mae: 0.0101 - val_loss: 0.0034 - val_mae: 0.0461\n",
      "Epoch 1581/2000\n",
      "5/5 [==============================] - 0s 72ms/step - loss: 1.6358e-04 - mae: 0.0100 - val_loss: 0.0034 - val_mae: 0.0454\n",
      "Epoch 1582/2000\n",
      "5/5 [==============================] - 0s 73ms/step - loss: 1.6658e-04 - mae: 0.0100 - val_loss: 0.0035 - val_mae: 0.0461\n",
      "Epoch 1583/2000\n",
      "5/5 [==============================] - 0s 74ms/step - loss: 1.6587e-04 - mae: 0.0101 - val_loss: 0.0035 - val_mae: 0.0462\n",
      "Epoch 1584/2000\n",
      "5/5 [==============================] - 0s 71ms/step - loss: 1.7355e-04 - mae: 0.0103 - val_loss: 0.0034 - val_mae: 0.0460\n",
      "Epoch 1585/2000\n",
      "5/5 [==============================] - 0s 71ms/step - loss: 1.7125e-04 - mae: 0.0102 - val_loss: 0.0034 - val_mae: 0.0460\n",
      "Epoch 1586/2000\n",
      "5/5 [==============================] - 0s 71ms/step - loss: 1.6825e-04 - mae: 0.0100 - val_loss: 0.0034 - val_mae: 0.0458\n",
      "Epoch 1587/2000\n",
      "5/5 [==============================] - 0s 73ms/step - loss: 1.6556e-04 - mae: 0.0100 - val_loss: 0.0034 - val_mae: 0.0461\n",
      "Epoch 1588/2000\n",
      "5/5 [==============================] - 0s 72ms/step - loss: 1.9081e-04 - mae: 0.0108 - val_loss: 0.0035 - val_mae: 0.0468\n",
      "Epoch 1589/2000\n",
      "5/5 [==============================] - 0s 72ms/step - loss: 2.4434e-04 - mae: 0.0123 - val_loss: 0.0035 - val_mae: 0.0458\n",
      "Epoch 1590/2000\n",
      "5/5 [==============================] - 0s 74ms/step - loss: 2.2137e-04 - mae: 0.0118 - val_loss: 0.0035 - val_mae: 0.0463\n",
      "Epoch 1591/2000\n",
      "5/5 [==============================] - 0s 71ms/step - loss: 2.0052e-04 - mae: 0.0112 - val_loss: 0.0035 - val_mae: 0.0464\n",
      "Epoch 1592/2000\n",
      "5/5 [==============================] - 0s 71ms/step - loss: 2.4839e-04 - mae: 0.0124 - val_loss: 0.0036 - val_mae: 0.0472\n",
      "Epoch 1593/2000\n",
      "5/5 [==============================] - 0s 74ms/step - loss: 2.6938e-04 - mae: 0.0129 - val_loss: 0.0036 - val_mae: 0.0467\n",
      "Epoch 1594/2000\n",
      "5/5 [==============================] - 0s 72ms/step - loss: 3.0703e-04 - mae: 0.0138 - val_loss: 0.0037 - val_mae: 0.0479\n",
      "Epoch 1595/2000\n",
      "5/5 [==============================] - 0s 72ms/step - loss: 2.8717e-04 - mae: 0.0132 - val_loss: 0.0035 - val_mae: 0.0463\n",
      "Epoch 1596/2000\n",
      "5/5 [==============================] - 0s 71ms/step - loss: 2.8389e-04 - mae: 0.0133 - val_loss: 0.0035 - val_mae: 0.0465\n",
      "Epoch 1597/2000\n",
      "5/5 [==============================] - 0s 73ms/step - loss: 2.4851e-04 - mae: 0.0125 - val_loss: 0.0035 - val_mae: 0.0461\n",
      "Epoch 1598/2000\n",
      "5/5 [==============================] - 0s 72ms/step - loss: 2.6693e-04 - mae: 0.0128 - val_loss: 0.0035 - val_mae: 0.0465\n",
      "Epoch 1599/2000\n",
      "5/5 [==============================] - 0s 71ms/step - loss: 2.3560e-04 - mae: 0.0123 - val_loss: 0.0034 - val_mae: 0.0461\n",
      "Epoch 1600/2000\n",
      "5/5 [==============================] - 0s 74ms/step - loss: 2.4030e-04 - mae: 0.0122 - val_loss: 0.0035 - val_mae: 0.0463\n",
      "Epoch 1601/2000\n",
      "5/5 [==============================] - 0s 72ms/step - loss: 2.2876e-04 - mae: 0.0119 - val_loss: 0.0035 - val_mae: 0.0461\n",
      "Epoch 1602/2000\n",
      "5/5 [==============================] - 0s 73ms/step - loss: 2.0996e-04 - mae: 0.0115 - val_loss: 0.0035 - val_mae: 0.0467\n",
      "Epoch 1603/2000\n",
      "5/5 [==============================] - 0s 74ms/step - loss: 2.0974e-04 - mae: 0.0113 - val_loss: 0.0035 - val_mae: 0.0464\n",
      "Epoch 1604/2000\n",
      "5/5 [==============================] - 0s 72ms/step - loss: 2.5438e-04 - mae: 0.0125 - val_loss: 0.0037 - val_mae: 0.0485\n",
      "Epoch 1605/2000\n",
      "5/5 [==============================] - 0s 72ms/step - loss: 3.2001e-04 - mae: 0.0141 - val_loss: 0.0039 - val_mae: 0.0489\n",
      "Epoch 1606/2000\n",
      "5/5 [==============================] - 0s 73ms/step - loss: 5.1546e-04 - mae: 0.0178 - val_loss: 0.0044 - val_mae: 0.0524\n",
      "Epoch 1607/2000\n",
      "5/5 [==============================] - 0s 72ms/step - loss: 5.7937e-04 - mae: 0.0190 - val_loss: 0.0038 - val_mae: 0.0482\n",
      "Epoch 1608/2000\n",
      "5/5 [==============================] - 0s 72ms/step - loss: 5.5864e-04 - mae: 0.0186 - val_loss: 0.0039 - val_mae: 0.0492\n",
      "Epoch 1609/2000\n",
      "5/5 [==============================] - 0s 72ms/step - loss: 5.1468e-04 - mae: 0.0180 - val_loss: 0.0037 - val_mae: 0.0474\n",
      "Epoch 1610/2000\n",
      "5/5 [==============================] - 0s 73ms/step - loss: 4.2185e-04 - mae: 0.0164 - val_loss: 0.0035 - val_mae: 0.0461\n",
      "Epoch 1611/2000\n",
      "5/5 [==============================] - 0s 73ms/step - loss: 3.7822e-04 - mae: 0.0154 - val_loss: 0.0036 - val_mae: 0.0469\n",
      "Epoch 1612/2000\n",
      "5/5 [==============================] - 0s 71ms/step - loss: 3.8779e-04 - mae: 0.0157 - val_loss: 0.0036 - val_mae: 0.0474\n",
      "Epoch 1613/2000\n",
      "5/5 [==============================] - 0s 73ms/step - loss: 3.3701e-04 - mae: 0.0145 - val_loss: 0.0037 - val_mae: 0.0470\n",
      "Epoch 1614/2000\n",
      "5/5 [==============================] - 0s 71ms/step - loss: 4.0386e-04 - mae: 0.0158 - val_loss: 0.0037 - val_mae: 0.0481\n",
      "Epoch 1615/2000\n",
      "5/5 [==============================] - 0s 72ms/step - loss: 3.8653e-04 - mae: 0.0156 - val_loss: 0.0040 - val_mae: 0.0490\n",
      "Epoch 1616/2000\n",
      "5/5 [==============================] - 0s 73ms/step - loss: 5.3695e-04 - mae: 0.0187 - val_loss: 0.0036 - val_mae: 0.0469\n",
      "Epoch 1617/2000\n",
      "5/5 [==============================] - 0s 72ms/step - loss: 3.5304e-04 - mae: 0.0149 - val_loss: 0.0034 - val_mae: 0.0457\n",
      "Epoch 1618/2000\n",
      "5/5 [==============================] - 0s 73ms/step - loss: 2.3040e-04 - mae: 0.0121 - val_loss: 0.0034 - val_mae: 0.0457\n",
      "Epoch 1619/2000\n",
      "5/5 [==============================] - 0s 73ms/step - loss: 2.4089e-04 - mae: 0.0123 - val_loss: 0.0035 - val_mae: 0.0464\n",
      "Epoch 1620/2000\n",
      "5/5 [==============================] - 0s 74ms/step - loss: 2.2701e-04 - mae: 0.0118 - val_loss: 0.0035 - val_mae: 0.0461\n",
      "Epoch 1621/2000\n",
      "5/5 [==============================] - 0s 74ms/step - loss: 2.0510e-04 - mae: 0.0112 - val_loss: 0.0035 - val_mae: 0.0462\n",
      "Epoch 1622/2000\n",
      "5/5 [==============================] - 0s 72ms/step - loss: 1.8479e-04 - mae: 0.0107 - val_loss: 0.0035 - val_mae: 0.0464\n",
      "Epoch 1623/2000\n",
      "5/5 [==============================] - 0s 74ms/step - loss: 1.9974e-04 - mae: 0.0111 - val_loss: 0.0034 - val_mae: 0.0460\n",
      "Epoch 1624/2000\n",
      "5/5 [==============================] - 0s 73ms/step - loss: 1.8110e-04 - mae: 0.0106 - val_loss: 0.0034 - val_mae: 0.0460\n",
      "Epoch 1625/2000\n",
      "5/5 [==============================] - 0s 73ms/step - loss: 1.7921e-04 - mae: 0.0104 - val_loss: 0.0034 - val_mae: 0.0460\n",
      "Epoch 1626/2000\n",
      "5/5 [==============================] - 0s 74ms/step - loss: 2.1418e-04 - mae: 0.0115 - val_loss: 0.0035 - val_mae: 0.0465\n",
      "Epoch 1627/2000\n",
      "5/5 [==============================] - 0s 71ms/step - loss: 2.4896e-04 - mae: 0.0125 - val_loss: 0.0035 - val_mae: 0.0462\n",
      "Epoch 1628/2000\n",
      "5/5 [==============================] - 0s 71ms/step - loss: 2.0482e-04 - mae: 0.0114 - val_loss: 0.0035 - val_mae: 0.0469\n",
      "Epoch 1629/2000\n",
      "5/5 [==============================] - 0s 73ms/step - loss: 2.1399e-04 - mae: 0.0116 - val_loss: 0.0036 - val_mae: 0.0475\n",
      "Epoch 1630/2000\n",
      "5/5 [==============================] - 0s 75ms/step - loss: 2.6142e-04 - mae: 0.0129 - val_loss: 0.0036 - val_mae: 0.0465\n",
      "Epoch 1631/2000\n",
      "5/5 [==============================] - 0s 73ms/step - loss: 2.5471e-04 - mae: 0.0127 - val_loss: 0.0035 - val_mae: 0.0464\n",
      "Epoch 1632/2000\n"
     ]
    },
    {
     "name": "stdout",
     "output_type": "stream",
     "text": [
      "5/5 [==============================] - 0s 73ms/step - loss: 2.4573e-04 - mae: 0.0125 - val_loss: 0.0035 - val_mae: 0.0462\n",
      "Epoch 1633/2000\n",
      "5/5 [==============================] - 0s 75ms/step - loss: 2.3620e-04 - mae: 0.0123 - val_loss: 0.0035 - val_mae: 0.0468\n",
      "Epoch 1634/2000\n",
      "5/5 [==============================] - 0s 76ms/step - loss: 2.1963e-04 - mae: 0.0118 - val_loss: 0.0035 - val_mae: 0.0467\n",
      "Epoch 1635/2000\n",
      "5/5 [==============================] - 0s 75ms/step - loss: 1.8427e-04 - mae: 0.0107 - val_loss: 0.0035 - val_mae: 0.0464\n",
      "Epoch 1636/2000\n",
      "5/5 [==============================] - 0s 76ms/step - loss: 1.6840e-04 - mae: 0.0101 - val_loss: 0.0035 - val_mae: 0.0471\n",
      "Epoch 1637/2000\n",
      "5/5 [==============================] - 0s 72ms/step - loss: 1.6448e-04 - mae: 0.0100 - val_loss: 0.0035 - val_mae: 0.0460\n",
      "Epoch 1638/2000\n",
      "5/5 [==============================] - 0s 77ms/step - loss: 1.5038e-04 - mae: 0.0096 - val_loss: 0.0035 - val_mae: 0.0466\n",
      "Epoch 1639/2000\n",
      "5/5 [==============================] - 0s 79ms/step - loss: 1.4336e-04 - mae: 0.0094 - val_loss: 0.0036 - val_mae: 0.0469\n",
      "Epoch 1640/2000\n",
      "5/5 [==============================] - 0s 76ms/step - loss: 1.4351e-04 - mae: 0.0093 - val_loss: 0.0035 - val_mae: 0.0463\n",
      "Epoch 1641/2000\n",
      "5/5 [==============================] - 0s 77ms/step - loss: 1.4218e-04 - mae: 0.0093 - val_loss: 0.0036 - val_mae: 0.0469\n",
      "Epoch 1642/2000\n",
      "5/5 [==============================] - 0s 77ms/step - loss: 1.6130e-04 - mae: 0.0098 - val_loss: 0.0034 - val_mae: 0.0460\n",
      "Epoch 1643/2000\n",
      "5/5 [==============================] - 0s 74ms/step - loss: 1.5062e-04 - mae: 0.0096 - val_loss: 0.0035 - val_mae: 0.0468\n",
      "Epoch 1644/2000\n",
      "5/5 [==============================] - 0s 77ms/step - loss: 1.4010e-04 - mae: 0.0092 - val_loss: 0.0035 - val_mae: 0.0464\n",
      "Epoch 1645/2000\n",
      "5/5 [==============================] - 0s 80ms/step - loss: 1.4080e-04 - mae: 0.0092 - val_loss: 0.0035 - val_mae: 0.0467\n",
      "Epoch 1646/2000\n",
      "5/5 [==============================] - 0s 77ms/step - loss: 1.4602e-04 - mae: 0.0096 - val_loss: 0.0035 - val_mae: 0.0466\n",
      "Epoch 1647/2000\n",
      "5/5 [==============================] - 0s 73ms/step - loss: 1.5745e-04 - mae: 0.0098 - val_loss: 0.0035 - val_mae: 0.0464\n",
      "Epoch 1648/2000\n",
      "5/5 [==============================] - 0s 74ms/step - loss: 1.3959e-04 - mae: 0.0092 - val_loss: 0.0036 - val_mae: 0.0470\n",
      "Epoch 1649/2000\n",
      "5/5 [==============================] - 0s 72ms/step - loss: 1.6872e-04 - mae: 0.0103 - val_loss: 0.0035 - val_mae: 0.0462\n",
      "Epoch 1650/2000\n",
      "5/5 [==============================] - 0s 75ms/step - loss: 1.3090e-04 - mae: 0.0089 - val_loss: 0.0035 - val_mae: 0.0466\n",
      "Epoch 1651/2000\n",
      "5/5 [==============================] - 0s 72ms/step - loss: 1.2725e-04 - mae: 0.0087 - val_loss: 0.0035 - val_mae: 0.0464\n",
      "Epoch 1652/2000\n",
      "5/5 [==============================] - 0s 74ms/step - loss: 1.2949e-04 - mae: 0.0088 - val_loss: 0.0035 - val_mae: 0.0463\n",
      "Epoch 1653/2000\n",
      "5/5 [==============================] - 0s 76ms/step - loss: 1.3273e-04 - mae: 0.0090 - val_loss: 0.0035 - val_mae: 0.0465\n",
      "Epoch 1654/2000\n",
      "5/5 [==============================] - 0s 73ms/step - loss: 1.2833e-04 - mae: 0.0088 - val_loss: 0.0035 - val_mae: 0.0462\n",
      "Epoch 1655/2000\n",
      "5/5 [==============================] - 0s 75ms/step - loss: 1.2705e-04 - mae: 0.0087 - val_loss: 0.0035 - val_mae: 0.0468\n",
      "Epoch 1656/2000\n",
      "5/5 [==============================] - 0s 72ms/step - loss: 1.4146e-04 - mae: 0.0092 - val_loss: 0.0035 - val_mae: 0.0463\n",
      "Epoch 1657/2000\n",
      "5/5 [==============================] - 0s 73ms/step - loss: 1.3069e-04 - mae: 0.0090 - val_loss: 0.0035 - val_mae: 0.0459\n",
      "Epoch 1658/2000\n",
      "5/5 [==============================] - 0s 74ms/step - loss: 1.3188e-04 - mae: 0.0089 - val_loss: 0.0035 - val_mae: 0.0467\n",
      "Epoch 1659/2000\n",
      "5/5 [==============================] - 0s 73ms/step - loss: 1.2317e-04 - mae: 0.0086 - val_loss: 0.0036 - val_mae: 0.0469\n",
      "Epoch 1660/2000\n",
      "5/5 [==============================] - 0s 74ms/step - loss: 1.1987e-04 - mae: 0.0085 - val_loss: 0.0034 - val_mae: 0.0461\n",
      "Epoch 1661/2000\n",
      "5/5 [==============================] - 0s 75ms/step - loss: 1.2017e-04 - mae: 0.0086 - val_loss: 0.0035 - val_mae: 0.0465\n",
      "Epoch 1662/2000\n",
      "5/5 [==============================] - 0s 73ms/step - loss: 1.1636e-04 - mae: 0.0083 - val_loss: 0.0036 - val_mae: 0.0471\n",
      "Epoch 1663/2000\n",
      "5/5 [==============================] - 0s 75ms/step - loss: 1.3004e-04 - mae: 0.0089 - val_loss: 0.0035 - val_mae: 0.0466\n",
      "Epoch 1664/2000\n",
      "5/5 [==============================] - 0s 73ms/step - loss: 1.2445e-04 - mae: 0.0086 - val_loss: 0.0035 - val_mae: 0.0464\n",
      "Epoch 1665/2000\n",
      "5/5 [==============================] - 0s 74ms/step - loss: 1.3494e-04 - mae: 0.0091 - val_loss: 0.0036 - val_mae: 0.0472\n",
      "Epoch 1666/2000\n",
      "5/5 [==============================] - 0s 72ms/step - loss: 1.3840e-04 - mae: 0.0091 - val_loss: 0.0035 - val_mae: 0.0466\n",
      "Epoch 1667/2000\n",
      "5/5 [==============================] - 0s 72ms/step - loss: 1.1254e-04 - mae: 0.0082 - val_loss: 0.0035 - val_mae: 0.0465\n",
      "Epoch 1668/2000\n",
      "5/5 [==============================] - 0s 77ms/step - loss: 1.1782e-04 - mae: 0.0083 - val_loss: 0.0036 - val_mae: 0.0472\n",
      "Epoch 1669/2000\n",
      "5/5 [==============================] - 0s 71ms/step - loss: 1.2253e-04 - mae: 0.0087 - val_loss: 0.0035 - val_mae: 0.0469\n",
      "Epoch 1670/2000\n",
      "5/5 [==============================] - 0s 72ms/step - loss: 1.2264e-04 - mae: 0.0086 - val_loss: 0.0036 - val_mae: 0.0466\n",
      "Epoch 1671/2000\n",
      "5/5 [==============================] - 0s 73ms/step - loss: 1.2156e-04 - mae: 0.0086 - val_loss: 0.0035 - val_mae: 0.0466\n",
      "Epoch 1672/2000\n",
      "5/5 [==============================] - 0s 71ms/step - loss: 1.1600e-04 - mae: 0.0084 - val_loss: 0.0035 - val_mae: 0.0467\n",
      "Epoch 1673/2000\n",
      "5/5 [==============================] - 0s 74ms/step - loss: 1.2094e-04 - mae: 0.0085 - val_loss: 0.0035 - val_mae: 0.0470\n",
      "Epoch 1674/2000\n",
      "5/5 [==============================] - 0s 74ms/step - loss: 1.2669e-04 - mae: 0.0088 - val_loss: 0.0035 - val_mae: 0.0465\n",
      "Epoch 1675/2000\n",
      "5/5 [==============================] - 0s 73ms/step - loss: 1.1779e-04 - mae: 0.0084 - val_loss: 0.0035 - val_mae: 0.0466\n",
      "Epoch 1676/2000\n",
      "5/5 [==============================] - 0s 73ms/step - loss: 1.1368e-04 - mae: 0.0082 - val_loss: 0.0035 - val_mae: 0.0469\n",
      "Epoch 1677/2000\n",
      "5/5 [==============================] - 0s 71ms/step - loss: 9.9075e-05 - mae: 0.0077 - val_loss: 0.0035 - val_mae: 0.0467\n",
      "Epoch 1678/2000\n",
      "5/5 [==============================] - 0s 76ms/step - loss: 1.0451e-04 - mae: 0.0080 - val_loss: 0.0035 - val_mae: 0.0465\n",
      "Epoch 1679/2000\n",
      "5/5 [==============================] - 0s 74ms/step - loss: 9.4169e-05 - mae: 0.0075 - val_loss: 0.0035 - val_mae: 0.0463\n",
      "Epoch 1680/2000\n",
      "5/5 [==============================] - 0s 72ms/step - loss: 9.4820e-05 - mae: 0.0075 - val_loss: 0.0035 - val_mae: 0.0466\n",
      "Epoch 1681/2000\n",
      "5/5 [==============================] - 0s 73ms/step - loss: 9.4844e-05 - mae: 0.0074 - val_loss: 0.0035 - val_mae: 0.0468\n",
      "Epoch 1682/2000\n",
      "5/5 [==============================] - 0s 73ms/step - loss: 9.9274e-05 - mae: 0.0078 - val_loss: 0.0035 - val_mae: 0.0471\n",
      "Epoch 1683/2000\n",
      "5/5 [==============================] - 0s 73ms/step - loss: 1.0287e-04 - mae: 0.0078 - val_loss: 0.0035 - val_mae: 0.0465\n",
      "Epoch 1684/2000\n",
      "5/5 [==============================] - 0s 76ms/step - loss: 9.4575e-05 - mae: 0.0075 - val_loss: 0.0035 - val_mae: 0.0467\n",
      "Epoch 1685/2000\n",
      "5/5 [==============================] - 0s 76ms/step - loss: 9.4639e-05 - mae: 0.0074 - val_loss: 0.0035 - val_mae: 0.0466\n",
      "Epoch 1686/2000\n",
      "5/5 [==============================] - 0s 76ms/step - loss: 1.0504e-04 - mae: 0.0080 - val_loss: 0.0035 - val_mae: 0.0467\n",
      "Epoch 1687/2000\n",
      "5/5 [==============================] - 0s 74ms/step - loss: 1.1697e-04 - mae: 0.0084 - val_loss: 0.0035 - val_mae: 0.0467\n",
      "Epoch 1688/2000\n",
      "5/5 [==============================] - 0s 73ms/step - loss: 1.3261e-04 - mae: 0.0090 - val_loss: 0.0036 - val_mae: 0.0470\n",
      "Epoch 1689/2000\n",
      "5/5 [==============================] - 0s 74ms/step - loss: 1.2066e-04 - mae: 0.0086 - val_loss: 0.0035 - val_mae: 0.0463\n",
      "Epoch 1690/2000\n",
      "5/5 [==============================] - 0s 73ms/step - loss: 1.3406e-04 - mae: 0.0090 - val_loss: 0.0035 - val_mae: 0.0464\n",
      "Epoch 1691/2000\n"
     ]
    },
    {
     "name": "stdout",
     "output_type": "stream",
     "text": [
      "5/5 [==============================] - 0s 74ms/step - loss: 1.2604e-04 - mae: 0.0088 - val_loss: 0.0036 - val_mae: 0.0475\n",
      "Epoch 1692/2000\n",
      "5/5 [==============================] - 0s 73ms/step - loss: 2.4121e-04 - mae: 0.0124 - val_loss: 0.0037 - val_mae: 0.0476\n",
      "Epoch 1693/2000\n",
      "5/5 [==============================] - 0s 72ms/step - loss: 3.2795e-04 - mae: 0.0142 - val_loss: 0.0042 - val_mae: 0.0519\n",
      "Epoch 1694/2000\n",
      "5/5 [==============================] - 0s 74ms/step - loss: 3.9280e-04 - mae: 0.0154 - val_loss: 0.0038 - val_mae: 0.0490\n",
      "Epoch 1695/2000\n",
      "5/5 [==============================] - 0s 76ms/step - loss: 5.5102e-04 - mae: 0.0187 - val_loss: 0.0041 - val_mae: 0.0504\n",
      "Epoch 1696/2000\n",
      "5/5 [==============================] - 0s 73ms/step - loss: 4.6812e-04 - mae: 0.0172 - val_loss: 0.0038 - val_mae: 0.0481\n",
      "Epoch 1697/2000\n",
      "5/5 [==============================] - 0s 77ms/step - loss: 4.2429e-04 - mae: 0.0162 - val_loss: 0.0037 - val_mae: 0.0478\n",
      "Epoch 1698/2000\n",
      "5/5 [==============================] - 0s 73ms/step - loss: 3.3081e-04 - mae: 0.0144 - val_loss: 0.0037 - val_mae: 0.0476\n",
      "Epoch 1699/2000\n",
      "5/5 [==============================] - 0s 73ms/step - loss: 2.9708e-04 - mae: 0.0136 - val_loss: 0.0036 - val_mae: 0.0469\n",
      "Epoch 1700/2000\n",
      "5/5 [==============================] - 0s 74ms/step - loss: 2.7951e-04 - mae: 0.0132 - val_loss: 0.0036 - val_mae: 0.0472\n",
      "Epoch 1701/2000\n",
      "5/5 [==============================] - 0s 72ms/step - loss: 3.2260e-04 - mae: 0.0139 - val_loss: 0.0036 - val_mae: 0.0472\n",
      "Epoch 1702/2000\n",
      "5/5 [==============================] - 0s 72ms/step - loss: 2.5587e-04 - mae: 0.0127 - val_loss: 0.0035 - val_mae: 0.0467\n",
      "Epoch 1703/2000\n",
      "5/5 [==============================] - 0s 72ms/step - loss: 2.0699e-04 - mae: 0.0114 - val_loss: 0.0036 - val_mae: 0.0472\n",
      "Epoch 1704/2000\n",
      "5/5 [==============================] - 0s 73ms/step - loss: 1.8194e-04 - mae: 0.0107 - val_loss: 0.0035 - val_mae: 0.0471\n",
      "Epoch 1705/2000\n",
      "5/5 [==============================] - 0s 73ms/step - loss: 1.7718e-04 - mae: 0.0104 - val_loss: 0.0035 - val_mae: 0.0468\n",
      "Epoch 1706/2000\n",
      "5/5 [==============================] - 0s 72ms/step - loss: 1.5039e-04 - mae: 0.0097 - val_loss: 0.0035 - val_mae: 0.0467\n",
      "Epoch 1707/2000\n",
      "5/5 [==============================] - 0s 75ms/step - loss: 1.4772e-04 - mae: 0.0097 - val_loss: 0.0036 - val_mae: 0.0469\n",
      "Epoch 1708/2000\n",
      "5/5 [==============================] - 0s 73ms/step - loss: 1.6026e-04 - mae: 0.0100 - val_loss: 0.0036 - val_mae: 0.0468\n",
      "Epoch 1709/2000\n",
      "5/5 [==============================] - 0s 71ms/step - loss: 1.8827e-04 - mae: 0.0107 - val_loss: 0.0036 - val_mae: 0.0472\n",
      "Epoch 1710/2000\n",
      "5/5 [==============================] - 0s 74ms/step - loss: 1.4993e-04 - mae: 0.0098 - val_loss: 0.0036 - val_mae: 0.0471\n",
      "Epoch 1711/2000\n",
      "5/5 [==============================] - 0s 72ms/step - loss: 1.6584e-04 - mae: 0.0102 - val_loss: 0.0036 - val_mae: 0.0474\n",
      "Epoch 1712/2000\n",
      "5/5 [==============================] - 0s 72ms/step - loss: 1.4407e-04 - mae: 0.0094 - val_loss: 0.0035 - val_mae: 0.0468\n",
      "Epoch 1713/2000\n",
      "5/5 [==============================] - 0s 74ms/step - loss: 1.4565e-04 - mae: 0.0094 - val_loss: 0.0036 - val_mae: 0.0470\n",
      "Epoch 1714/2000\n",
      "5/5 [==============================] - 0s 72ms/step - loss: 1.3203e-04 - mae: 0.0091 - val_loss: 0.0035 - val_mae: 0.0467\n",
      "Epoch 1715/2000\n",
      "5/5 [==============================] - 0s 73ms/step - loss: 1.4343e-04 - mae: 0.0094 - val_loss: 0.0035 - val_mae: 0.0467\n",
      "Epoch 1716/2000\n",
      "5/5 [==============================] - 0s 72ms/step - loss: 1.8422e-04 - mae: 0.0107 - val_loss: 0.0036 - val_mae: 0.0475\n",
      "Epoch 1717/2000\n",
      "5/5 [==============================] - 0s 73ms/step - loss: 2.5723e-04 - mae: 0.0129 - val_loss: 0.0037 - val_mae: 0.0486\n",
      "Epoch 1718/2000\n",
      "5/5 [==============================] - 0s 73ms/step - loss: 2.5718e-04 - mae: 0.0128 - val_loss: 0.0036 - val_mae: 0.0474\n",
      "Epoch 1719/2000\n",
      "5/5 [==============================] - 0s 72ms/step - loss: 2.3107e-04 - mae: 0.0121 - val_loss: 0.0037 - val_mae: 0.0480\n",
      "Epoch 1720/2000\n",
      "5/5 [==============================] - 0s 75ms/step - loss: 2.2856e-04 - mae: 0.0120 - val_loss: 0.0037 - val_mae: 0.0479\n",
      "Epoch 1721/2000\n",
      "5/5 [==============================] - 0s 73ms/step - loss: 4.9686e-04 - mae: 0.0171 - val_loss: 0.0039 - val_mae: 0.0494\n",
      "Epoch 1722/2000\n",
      "5/5 [==============================] - 0s 72ms/step - loss: 5.3004e-04 - mae: 0.0186 - val_loss: 0.0041 - val_mae: 0.0508\n",
      "Epoch 1723/2000\n",
      "5/5 [==============================] - 0s 75ms/step - loss: 6.5790e-04 - mae: 0.0208 - val_loss: 0.0037 - val_mae: 0.0475\n",
      "Epoch 1724/2000\n",
      "5/5 [==============================] - 0s 71ms/step - loss: 4.9267e-04 - mae: 0.0177 - val_loss: 0.0039 - val_mae: 0.0493\n",
      "Epoch 1725/2000\n",
      "5/5 [==============================] - 0s 72ms/step - loss: 5.3275e-04 - mae: 0.0184 - val_loss: 0.0039 - val_mae: 0.0490\n",
      "Epoch 1726/2000\n",
      "5/5 [==============================] - 0s 75ms/step - loss: 5.0410e-04 - mae: 0.0180 - val_loss: 0.0037 - val_mae: 0.0478\n",
      "Epoch 1727/2000\n",
      "5/5 [==============================] - 0s 71ms/step - loss: 4.9671e-04 - mae: 0.0175 - val_loss: 0.0041 - val_mae: 0.0512\n",
      "Epoch 1728/2000\n",
      "5/5 [==============================] - 0s 73ms/step - loss: 5.0900e-04 - mae: 0.0177 - val_loss: 0.0039 - val_mae: 0.0489\n",
      "Epoch 1729/2000\n",
      "5/5 [==============================] - 0s 72ms/step - loss: 4.3774e-04 - mae: 0.0165 - val_loss: 0.0037 - val_mae: 0.0474\n",
      "Epoch 1730/2000\n",
      "5/5 [==============================] - 0s 75ms/step - loss: 3.9477e-04 - mae: 0.0158 - val_loss: 0.0036 - val_mae: 0.0480\n",
      "Epoch 1731/2000\n",
      "5/5 [==============================] - 0s 72ms/step - loss: 4.1402e-04 - mae: 0.0164 - val_loss: 0.0038 - val_mae: 0.0479\n",
      "Epoch 1732/2000\n",
      "5/5 [==============================] - 0s 72ms/step - loss: 3.6988e-04 - mae: 0.0150 - val_loss: 0.0035 - val_mae: 0.0471\n",
      "Epoch 1733/2000\n",
      "5/5 [==============================] - 0s 74ms/step - loss: 2.9891e-04 - mae: 0.0138 - val_loss: 0.0037 - val_mae: 0.0482\n",
      "Epoch 1734/2000\n",
      "5/5 [==============================] - 0s 71ms/step - loss: 2.4259e-04 - mae: 0.0123 - val_loss: 0.0036 - val_mae: 0.0470\n",
      "Epoch 1735/2000\n",
      "5/5 [==============================] - 0s 71ms/step - loss: 1.9823e-04 - mae: 0.0112 - val_loss: 0.0035 - val_mae: 0.0470\n",
      "Epoch 1736/2000\n",
      "5/5 [==============================] - 0s 74ms/step - loss: 1.6963e-04 - mae: 0.0103 - val_loss: 0.0035 - val_mae: 0.0468\n",
      "Epoch 1737/2000\n",
      "5/5 [==============================] - 0s 73ms/step - loss: 1.3680e-04 - mae: 0.0093 - val_loss: 0.0035 - val_mae: 0.0466\n",
      "Epoch 1738/2000\n",
      "5/5 [==============================] - 0s 75ms/step - loss: 1.3687e-04 - mae: 0.0092 - val_loss: 0.0035 - val_mae: 0.0469\n",
      "Epoch 1739/2000\n",
      "5/5 [==============================] - 0s 73ms/step - loss: 1.3345e-04 - mae: 0.0091 - val_loss: 0.0035 - val_mae: 0.0464\n",
      "Epoch 1740/2000\n",
      "5/5 [==============================] - 0s 71ms/step - loss: 1.1956e-04 - mae: 0.0086 - val_loss: 0.0035 - val_mae: 0.0470\n",
      "Epoch 1741/2000\n",
      "5/5 [==============================] - 0s 73ms/step - loss: 1.1746e-04 - mae: 0.0085 - val_loss: 0.0036 - val_mae: 0.0473\n",
      "Epoch 1742/2000\n",
      "5/5 [==============================] - 0s 72ms/step - loss: 1.2665e-04 - mae: 0.0088 - val_loss: 0.0035 - val_mae: 0.0470\n",
      "Epoch 1743/2000\n",
      "5/5 [==============================] - 0s 73ms/step - loss: 1.3365e-04 - mae: 0.0092 - val_loss: 0.0036 - val_mae: 0.0475\n",
      "Epoch 1744/2000\n",
      "5/5 [==============================] - 0s 75ms/step - loss: 1.6016e-04 - mae: 0.0100 - val_loss: 0.0035 - val_mae: 0.0471\n",
      "Epoch 1745/2000\n",
      "5/5 [==============================] - 0s 72ms/step - loss: 1.3963e-04 - mae: 0.0092 - val_loss: 0.0036 - val_mae: 0.0476\n",
      "Epoch 1746/2000\n",
      "5/5 [==============================] - 0s 74ms/step - loss: 1.2930e-04 - mae: 0.0090 - val_loss: 0.0035 - val_mae: 0.0466\n",
      "Epoch 1747/2000\n",
      "5/5 [==============================] - 0s 72ms/step - loss: 1.3100e-04 - mae: 0.0091 - val_loss: 0.0036 - val_mae: 0.0472\n",
      "Epoch 1748/2000\n",
      "5/5 [==============================] - 0s 71ms/step - loss: 1.3050e-04 - mae: 0.0091 - val_loss: 0.0036 - val_mae: 0.0477\n",
      "Epoch 1749/2000\n",
      "5/5 [==============================] - 0s 73ms/step - loss: 1.3873e-04 - mae: 0.0093 - val_loss: 0.0035 - val_mae: 0.0470\n",
      "Epoch 1750/2000\n"
     ]
    },
    {
     "name": "stdout",
     "output_type": "stream",
     "text": [
      "5/5 [==============================] - 0s 74ms/step - loss: 1.3836e-04 - mae: 0.0092 - val_loss: 0.0036 - val_mae: 0.0469\n",
      "Epoch 1751/2000\n",
      "5/5 [==============================] - 0s 74ms/step - loss: 1.3232e-04 - mae: 0.0091 - val_loss: 0.0036 - val_mae: 0.0476\n",
      "Epoch 1752/2000\n",
      "5/5 [==============================] - 0s 76ms/step - loss: 1.2850e-04 - mae: 0.0090 - val_loss: 0.0036 - val_mae: 0.0479\n",
      "Epoch 1753/2000\n",
      "5/5 [==============================] - 0s 73ms/step - loss: 1.5038e-04 - mae: 0.0097 - val_loss: 0.0036 - val_mae: 0.0473\n",
      "Epoch 1754/2000\n",
      "5/5 [==============================] - 0s 76ms/step - loss: 1.5136e-04 - mae: 0.0098 - val_loss: 0.0036 - val_mae: 0.0477\n",
      "Epoch 1755/2000\n",
      "5/5 [==============================] - 0s 72ms/step - loss: 1.4491e-04 - mae: 0.0095 - val_loss: 0.0036 - val_mae: 0.0478\n",
      "Epoch 1756/2000\n",
      "5/5 [==============================] - 0s 73ms/step - loss: 1.3796e-04 - mae: 0.0093 - val_loss: 0.0036 - val_mae: 0.0469\n",
      "Epoch 1757/2000\n",
      "5/5 [==============================] - 0s 75ms/step - loss: 1.3366e-04 - mae: 0.0091 - val_loss: 0.0035 - val_mae: 0.0473\n",
      "Epoch 1758/2000\n",
      "5/5 [==============================] - 0s 73ms/step - loss: 1.2556e-04 - mae: 0.0088 - val_loss: 0.0036 - val_mae: 0.0477\n",
      "Epoch 1759/2000\n",
      "5/5 [==============================] - 0s 73ms/step - loss: 1.1938e-04 - mae: 0.0086 - val_loss: 0.0036 - val_mae: 0.0472\n",
      "Epoch 1760/2000\n",
      "5/5 [==============================] - 0s 74ms/step - loss: 1.1351e-04 - mae: 0.0084 - val_loss: 0.0036 - val_mae: 0.0473\n",
      "Epoch 1761/2000\n",
      "5/5 [==============================] - 0s 75ms/step - loss: 1.0835e-04 - mae: 0.0082 - val_loss: 0.0036 - val_mae: 0.0473\n",
      "Epoch 1762/2000\n",
      "5/5 [==============================] - 0s 74ms/step - loss: 1.0262e-04 - mae: 0.0080 - val_loss: 0.0037 - val_mae: 0.0479\n",
      "Epoch 1763/2000\n",
      "5/5 [==============================] - 0s 72ms/step - loss: 1.3473e-04 - mae: 0.0092 - val_loss: 0.0037 - val_mae: 0.0476\n",
      "Epoch 1764/2000\n",
      "5/5 [==============================] - 0s 73ms/step - loss: 2.0337e-04 - mae: 0.0115 - val_loss: 0.0039 - val_mae: 0.0495\n",
      "Epoch 1765/2000\n",
      "5/5 [==============================] - 0s 73ms/step - loss: 2.1974e-04 - mae: 0.0118 - val_loss: 0.0038 - val_mae: 0.0480\n",
      "Epoch 1766/2000\n",
      "5/5 [==============================] - 0s 72ms/step - loss: 2.3794e-04 - mae: 0.0122 - val_loss: 0.0037 - val_mae: 0.0484\n",
      "Epoch 1767/2000\n",
      "5/5 [==============================] - 0s 76ms/step - loss: 2.3723e-04 - mae: 0.0122 - val_loss: 0.0037 - val_mae: 0.0483\n",
      "Epoch 1768/2000\n",
      "5/5 [==============================] - 0s 72ms/step - loss: 2.3990e-04 - mae: 0.0123 - val_loss: 0.0037 - val_mae: 0.0480\n",
      "Epoch 1769/2000\n",
      "5/5 [==============================] - 0s 74ms/step - loss: 2.4187e-04 - mae: 0.0124 - val_loss: 0.0036 - val_mae: 0.0472\n",
      "Epoch 1770/2000\n",
      "5/5 [==============================] - 0s 73ms/step - loss: 1.9429e-04 - mae: 0.0112 - val_loss: 0.0038 - val_mae: 0.0486\n",
      "Epoch 1771/2000\n",
      "5/5 [==============================] - 0s 79ms/step - loss: 2.2063e-04 - mae: 0.0118 - val_loss: 0.0037 - val_mae: 0.0480\n",
      "Epoch 1772/2000\n",
      "5/5 [==============================] - 0s 73ms/step - loss: 1.7965e-04 - mae: 0.0107 - val_loss: 0.0038 - val_mae: 0.0480\n",
      "Epoch 1773/2000\n",
      "5/5 [==============================] - 0s 74ms/step - loss: 1.9619e-04 - mae: 0.0111 - val_loss: 0.0036 - val_mae: 0.0471\n",
      "Epoch 1774/2000\n",
      "5/5 [==============================] - 0s 71ms/step - loss: 2.1346e-04 - mae: 0.0118 - val_loss: 0.0037 - val_mae: 0.0480\n",
      "Epoch 1775/2000\n",
      "5/5 [==============================] - 0s 76ms/step - loss: 2.1151e-04 - mae: 0.0116 - val_loss: 0.0037 - val_mae: 0.0478\n",
      "Epoch 1776/2000\n",
      "5/5 [==============================] - 0s 72ms/step - loss: 1.7779e-04 - mae: 0.0107 - val_loss: 0.0038 - val_mae: 0.0487\n",
      "Epoch 1777/2000\n",
      "5/5 [==============================] - 0s 73ms/step - loss: 2.1042e-04 - mae: 0.0115 - val_loss: 0.0036 - val_mae: 0.0480\n",
      "Epoch 1778/2000\n",
      "5/5 [==============================] - 0s 75ms/step - loss: 2.2281e-04 - mae: 0.0118 - val_loss: 0.0036 - val_mae: 0.0477\n",
      "Epoch 1779/2000\n",
      "5/5 [==============================] - 0s 77ms/step - loss: 2.2150e-04 - mae: 0.0120 - val_loss: 0.0036 - val_mae: 0.0475\n",
      "Epoch 1780/2000\n",
      "5/5 [==============================] - 0s 77ms/step - loss: 2.6887e-04 - mae: 0.0127 - val_loss: 0.0039 - val_mae: 0.0495\n",
      "Epoch 1781/2000\n",
      "5/5 [==============================] - 0s 78ms/step - loss: 2.1588e-04 - mae: 0.0118 - val_loss: 0.0036 - val_mae: 0.0477\n",
      "Epoch 1782/2000\n",
      "5/5 [==============================] - 0s 78ms/step - loss: 1.7766e-04 - mae: 0.0107 - val_loss: 0.0037 - val_mae: 0.0480\n",
      "Epoch 1783/2000\n",
      "5/5 [==============================] - 0s 78ms/step - loss: 1.8239e-04 - mae: 0.0108 - val_loss: 0.0037 - val_mae: 0.0479\n",
      "Epoch 1784/2000\n",
      "5/5 [==============================] - 0s 80ms/step - loss: 1.8061e-04 - mae: 0.0106 - val_loss: 0.0037 - val_mae: 0.0484\n",
      "Epoch 1785/2000\n",
      "5/5 [==============================] - 0s 80ms/step - loss: 1.9511e-04 - mae: 0.0112 - val_loss: 0.0036 - val_mae: 0.0474\n",
      "Epoch 1786/2000\n",
      "5/5 [==============================] - 0s 75ms/step - loss: 2.1019e-04 - mae: 0.0114 - val_loss: 0.0036 - val_mae: 0.0472\n",
      "Epoch 1787/2000\n",
      "5/5 [==============================] - 0s 80ms/step - loss: 3.1233e-04 - mae: 0.0138 - val_loss: 0.0043 - val_mae: 0.0527\n",
      "Epoch 1788/2000\n",
      "5/5 [==============================] - 0s 79ms/step - loss: 7.7525e-04 - mae: 0.0219 - val_loss: 0.0042 - val_mae: 0.0511\n",
      "Epoch 1789/2000\n",
      "5/5 [==============================] - 0s 80ms/step - loss: 7.9399e-04 - mae: 0.0229 - val_loss: 0.0043 - val_mae: 0.0521\n",
      "Epoch 1790/2000\n",
      "5/5 [==============================] - 0s 81ms/step - loss: 5.6152e-04 - mae: 0.0187 - val_loss: 0.0040 - val_mae: 0.0495\n",
      "Epoch 1791/2000\n",
      "5/5 [==============================] - 0s 80ms/step - loss: 6.0389e-04 - mae: 0.0198 - val_loss: 0.0040 - val_mae: 0.0499\n",
      "Epoch 1792/2000\n",
      "5/5 [==============================] - 0s 79ms/step - loss: 6.9188e-04 - mae: 0.0209 - val_loss: 0.0048 - val_mae: 0.0553\n",
      "Epoch 1793/2000\n",
      "5/5 [==============================] - 0s 80ms/step - loss: 7.7501e-04 - mae: 0.0221 - val_loss: 0.0042 - val_mae: 0.0512\n",
      "Epoch 1794/2000\n",
      "5/5 [==============================] - 0s 76ms/step - loss: 7.0656e-04 - mae: 0.0216 - val_loss: 0.0046 - val_mae: 0.0533\n",
      "Epoch 1795/2000\n",
      "5/5 [==============================] - 0s 74ms/step - loss: 8.7077e-04 - mae: 0.0238 - val_loss: 0.0042 - val_mae: 0.0521\n",
      "Epoch 1796/2000\n",
      "5/5 [==============================] - 0s 75ms/step - loss: 6.1408e-04 - mae: 0.0195 - val_loss: 0.0038 - val_mae: 0.0489\n",
      "Epoch 1797/2000\n",
      "5/5 [==============================] - 0s 73ms/step - loss: 5.7703e-04 - mae: 0.0189 - val_loss: 0.0045 - val_mae: 0.0524\n",
      "Epoch 1798/2000\n",
      "5/5 [==============================] - 0s 74ms/step - loss: 6.2098e-04 - mae: 0.0197 - val_loss: 0.0035 - val_mae: 0.0469\n",
      "Epoch 1799/2000\n",
      "5/5 [==============================] - 0s 73ms/step - loss: 4.4756e-04 - mae: 0.0170 - val_loss: 0.0037 - val_mae: 0.0484\n",
      "Epoch 1800/2000\n",
      "5/5 [==============================] - 0s 72ms/step - loss: 4.0291e-04 - mae: 0.0160 - val_loss: 0.0040 - val_mae: 0.0500\n",
      "Epoch 1801/2000\n",
      "5/5 [==============================] - 0s 73ms/step - loss: 4.2079e-04 - mae: 0.0163 - val_loss: 0.0038 - val_mae: 0.0493\n",
      "Epoch 1802/2000\n",
      "5/5 [==============================] - 0s 72ms/step - loss: 3.8066e-04 - mae: 0.0156 - val_loss: 0.0038 - val_mae: 0.0488\n",
      "Epoch 1803/2000\n",
      "5/5 [==============================] - 0s 72ms/step - loss: 3.6212e-04 - mae: 0.0153 - val_loss: 0.0039 - val_mae: 0.0501\n",
      "Epoch 1804/2000\n",
      "5/5 [==============================] - 0s 74ms/step - loss: 4.3652e-04 - mae: 0.0167 - val_loss: 0.0039 - val_mae: 0.0500\n",
      "Epoch 1805/2000\n",
      "5/5 [==============================] - 0s 76ms/step - loss: 5.4499e-04 - mae: 0.0183 - val_loss: 0.0039 - val_mae: 0.0495\n",
      "Epoch 1806/2000\n",
      "5/5 [==============================] - 0s 74ms/step - loss: 4.9083e-04 - mae: 0.0174 - val_loss: 0.0037 - val_mae: 0.0482\n",
      "Epoch 1807/2000\n",
      "5/5 [==============================] - 0s 76ms/step - loss: 4.2987e-04 - mae: 0.0165 - val_loss: 0.0046 - val_mae: 0.0539\n",
      "Epoch 1808/2000\n",
      "5/5 [==============================] - 0s 72ms/step - loss: 6.5513e-04 - mae: 0.0205 - val_loss: 0.0041 - val_mae: 0.0513\n",
      "Epoch 1809/2000\n"
     ]
    },
    {
     "name": "stdout",
     "output_type": "stream",
     "text": [
      "5/5 [==============================] - 0s 71ms/step - loss: 4.3050e-04 - mae: 0.0165 - val_loss: 0.0038 - val_mae: 0.0481\n",
      "Epoch 1810/2000\n",
      "5/5 [==============================] - 0s 73ms/step - loss: 3.9420e-04 - mae: 0.0156 - val_loss: 0.0038 - val_mae: 0.0490\n",
      "Epoch 1811/2000\n",
      "5/5 [==============================] - 0s 73ms/step - loss: 3.2663e-04 - mae: 0.0143 - val_loss: 0.0038 - val_mae: 0.0488\n",
      "Epoch 1812/2000\n",
      "5/5 [==============================] - 0s 72ms/step - loss: 3.4393e-04 - mae: 0.0148 - val_loss: 0.0037 - val_mae: 0.0477\n",
      "Epoch 1813/2000\n",
      "5/5 [==============================] - 0s 73ms/step - loss: 2.6056e-04 - mae: 0.0128 - val_loss: 0.0038 - val_mae: 0.0479\n",
      "Epoch 1814/2000\n",
      "5/5 [==============================] - 0s 72ms/step - loss: 2.7170e-04 - mae: 0.0130 - val_loss: 0.0037 - val_mae: 0.0484\n",
      "Epoch 1815/2000\n",
      "5/5 [==============================] - 0s 72ms/step - loss: 2.3980e-04 - mae: 0.0124 - val_loss: 0.0038 - val_mae: 0.0491\n",
      "Epoch 1816/2000\n",
      "5/5 [==============================] - 0s 72ms/step - loss: 2.0954e-04 - mae: 0.0115 - val_loss: 0.0036 - val_mae: 0.0474\n",
      "Epoch 1817/2000\n",
      "5/5 [==============================] - 0s 72ms/step - loss: 1.4886e-04 - mae: 0.0098 - val_loss: 0.0035 - val_mae: 0.0473\n",
      "Epoch 1818/2000\n",
      "5/5 [==============================] - 0s 74ms/step - loss: 1.1674e-04 - mae: 0.0086 - val_loss: 0.0036 - val_mae: 0.0472\n",
      "Epoch 1819/2000\n",
      "5/5 [==============================] - 0s 71ms/step - loss: 1.0385e-04 - mae: 0.0080 - val_loss: 0.0035 - val_mae: 0.0471\n",
      "Epoch 1820/2000\n",
      "5/5 [==============================] - 0s 72ms/step - loss: 9.5829e-05 - mae: 0.0077 - val_loss: 0.0036 - val_mae: 0.0474\n",
      "Epoch 1821/2000\n",
      "5/5 [==============================] - 0s 72ms/step - loss: 8.4158e-05 - mae: 0.0073 - val_loss: 0.0036 - val_mae: 0.0473\n",
      "Epoch 1822/2000\n",
      "5/5 [==============================] - 0s 72ms/step - loss: 7.9229e-05 - mae: 0.0070 - val_loss: 0.0036 - val_mae: 0.0473\n",
      "Epoch 1823/2000\n",
      "5/5 [==============================] - 0s 72ms/step - loss: 7.1709e-05 - mae: 0.0067 - val_loss: 0.0035 - val_mae: 0.0470\n",
      "Epoch 1824/2000\n",
      "5/5 [==============================] - 0s 72ms/step - loss: 6.6572e-05 - mae: 0.0064 - val_loss: 0.0036 - val_mae: 0.0473\n",
      "Epoch 1825/2000\n",
      "5/5 [==============================] - 0s 72ms/step - loss: 7.3641e-05 - mae: 0.0068 - val_loss: 0.0036 - val_mae: 0.0474\n",
      "Epoch 1826/2000\n",
      "5/5 [==============================] - 0s 72ms/step - loss: 6.8587e-05 - mae: 0.0066 - val_loss: 0.0036 - val_mae: 0.0474\n",
      "Epoch 1827/2000\n",
      "5/5 [==============================] - 0s 72ms/step - loss: 6.1995e-05 - mae: 0.0062 - val_loss: 0.0036 - val_mae: 0.0475\n",
      "Epoch 1828/2000\n",
      "5/5 [==============================] - 0s 74ms/step - loss: 5.6114e-05 - mae: 0.0058 - val_loss: 0.0035 - val_mae: 0.0472\n",
      "Epoch 1829/2000\n",
      "5/5 [==============================] - 0s 78ms/step - loss: 5.5439e-05 - mae: 0.0058 - val_loss: 0.0036 - val_mae: 0.0473\n",
      "Epoch 1830/2000\n",
      "5/5 [==============================] - 0s 75ms/step - loss: 5.8959e-05 - mae: 0.0060 - val_loss: 0.0036 - val_mae: 0.0474\n",
      "Epoch 1831/2000\n",
      "5/5 [==============================] - 0s 75ms/step - loss: 6.4185e-05 - mae: 0.0063 - val_loss: 0.0036 - val_mae: 0.0474\n",
      "Epoch 1832/2000\n",
      "5/5 [==============================] - 0s 74ms/step - loss: 6.4149e-05 - mae: 0.0063 - val_loss: 0.0036 - val_mae: 0.0473\n",
      "Epoch 1833/2000\n",
      "5/5 [==============================] - 0s 78ms/step - loss: 5.5533e-05 - mae: 0.0057 - val_loss: 0.0036 - val_mae: 0.0476\n",
      "Epoch 1834/2000\n",
      "5/5 [==============================] - 0s 77ms/step - loss: 5.4040e-05 - mae: 0.0057 - val_loss: 0.0037 - val_mae: 0.0480\n",
      "Epoch 1835/2000\n",
      "5/5 [==============================] - 0s 72ms/step - loss: 6.0554e-05 - mae: 0.0060 - val_loss: 0.0036 - val_mae: 0.0476\n",
      "Epoch 1836/2000\n",
      "5/5 [==============================] - 0s 72ms/step - loss: 5.6404e-05 - mae: 0.0059 - val_loss: 0.0036 - val_mae: 0.0476\n",
      "Epoch 1837/2000\n",
      "5/5 [==============================] - 0s 72ms/step - loss: 5.2179e-05 - mae: 0.0056 - val_loss: 0.0036 - val_mae: 0.0479\n",
      "Epoch 1838/2000\n",
      "5/5 [==============================] - 0s 71ms/step - loss: 4.7932e-05 - mae: 0.0054 - val_loss: 0.0036 - val_mae: 0.0478\n",
      "Epoch 1839/2000\n",
      "5/5 [==============================] - 0s 111ms/step - loss: 5.2180e-05 - mae: 0.0056 - val_loss: 0.0036 - val_mae: 0.0476\n",
      "Epoch 1840/2000\n",
      "5/5 [==============================] - 0s 74ms/step - loss: 4.8151e-05 - mae: 0.0053 - val_loss: 0.0036 - val_mae: 0.0475\n",
      "Epoch 1841/2000\n",
      "5/5 [==============================] - 0s 72ms/step - loss: 5.5129e-05 - mae: 0.0058 - val_loss: 0.0036 - val_mae: 0.0476\n",
      "Epoch 1842/2000\n",
      "5/5 [==============================] - 0s 73ms/step - loss: 5.4005e-05 - mae: 0.0058 - val_loss: 0.0036 - val_mae: 0.0477\n",
      "Epoch 1843/2000\n",
      "5/5 [==============================] - 0s 73ms/step - loss: 4.8266e-05 - mae: 0.0054 - val_loss: 0.0036 - val_mae: 0.0477\n",
      "Epoch 1844/2000\n",
      "5/5 [==============================] - 0s 73ms/step - loss: 4.0469e-05 - mae: 0.0049 - val_loss: 0.0036 - val_mae: 0.0475\n",
      "Epoch 1845/2000\n",
      "5/5 [==============================] - 0s 74ms/step - loss: 3.8940e-05 - mae: 0.0048 - val_loss: 0.0036 - val_mae: 0.0475\n",
      "Epoch 1846/2000\n",
      "5/5 [==============================] - 0s 72ms/step - loss: 4.0044e-05 - mae: 0.0049 - val_loss: 0.0036 - val_mae: 0.0474\n",
      "Epoch 1847/2000\n",
      "5/5 [==============================] - 0s 73ms/step - loss: 4.2228e-05 - mae: 0.0050 - val_loss: 0.0036 - val_mae: 0.0477\n",
      "Epoch 1848/2000\n",
      "5/5 [==============================] - 0s 73ms/step - loss: 4.6194e-05 - mae: 0.0053 - val_loss: 0.0036 - val_mae: 0.0478\n",
      "Epoch 1849/2000\n",
      "5/5 [==============================] - 0s 74ms/step - loss: 4.4550e-05 - mae: 0.0051 - val_loss: 0.0036 - val_mae: 0.0477\n",
      "Epoch 1850/2000\n",
      "5/5 [==============================] - 0s 73ms/step - loss: 4.2345e-05 - mae: 0.0051 - val_loss: 0.0036 - val_mae: 0.0474\n",
      "Epoch 1851/2000\n",
      "5/5 [==============================] - 0s 73ms/step - loss: 4.2019e-05 - mae: 0.0050 - val_loss: 0.0036 - val_mae: 0.0477\n",
      "Epoch 1852/2000\n",
      "5/5 [==============================] - 0s 74ms/step - loss: 3.7187e-05 - mae: 0.0047 - val_loss: 0.0036 - val_mae: 0.0480\n",
      "Epoch 1853/2000\n",
      "5/5 [==============================] - 0s 79ms/step - loss: 3.8633e-05 - mae: 0.0048 - val_loss: 0.0036 - val_mae: 0.0477\n",
      "Epoch 1854/2000\n",
      "5/5 [==============================] - 0s 73ms/step - loss: 3.7510e-05 - mae: 0.0048 - val_loss: 0.0036 - val_mae: 0.0478\n",
      "Epoch 1855/2000\n",
      "5/5 [==============================] - 0s 77ms/step - loss: 3.5712e-05 - mae: 0.0046 - val_loss: 0.0036 - val_mae: 0.0477\n",
      "Epoch 1856/2000\n",
      "5/5 [==============================] - 0s 73ms/step - loss: 3.5336e-05 - mae: 0.0046 - val_loss: 0.0036 - val_mae: 0.0476\n",
      "Epoch 1857/2000\n",
      "5/5 [==============================] - 0s 76ms/step - loss: 3.6935e-05 - mae: 0.0047 - val_loss: 0.0037 - val_mae: 0.0482\n",
      "Epoch 1858/2000\n",
      "5/5 [==============================] - 0s 73ms/step - loss: 4.2986e-05 - mae: 0.0051 - val_loss: 0.0036 - val_mae: 0.0477\n",
      "Epoch 1859/2000\n",
      "5/5 [==============================] - 0s 73ms/step - loss: 4.1275e-05 - mae: 0.0049 - val_loss: 0.0036 - val_mae: 0.0476\n",
      "Epoch 1860/2000\n",
      "5/5 [==============================] - 0s 73ms/step - loss: 3.6016e-05 - mae: 0.0046 - val_loss: 0.0036 - val_mae: 0.0477\n",
      "Epoch 1861/2000\n",
      "5/5 [==============================] - 0s 77ms/step - loss: 3.4250e-05 - mae: 0.0045 - val_loss: 0.0036 - val_mae: 0.0476\n",
      "Epoch 1862/2000\n",
      "5/5 [==============================] - 0s 74ms/step - loss: 3.5825e-05 - mae: 0.0046 - val_loss: 0.0037 - val_mae: 0.0480\n",
      "Epoch 1863/2000\n",
      "5/5 [==============================] - 0s 76ms/step - loss: 3.7515e-05 - mae: 0.0047 - val_loss: 0.0036 - val_mae: 0.0475\n",
      "Epoch 1864/2000\n",
      "5/5 [==============================] - 0s 73ms/step - loss: 3.5159e-05 - mae: 0.0045 - val_loss: 0.0036 - val_mae: 0.0476\n",
      "Epoch 1865/2000\n",
      "5/5 [==============================] - 0s 73ms/step - loss: 3.6357e-05 - mae: 0.0046 - val_loss: 0.0036 - val_mae: 0.0479\n",
      "Epoch 1866/2000\n",
      "5/5 [==============================] - 0s 72ms/step - loss: 3.8899e-05 - mae: 0.0048 - val_loss: 0.0036 - val_mae: 0.0477\n",
      "Epoch 1867/2000\n",
      "5/5 [==============================] - 0s 75ms/step - loss: 3.5920e-05 - mae: 0.0046 - val_loss: 0.0036 - val_mae: 0.0477\n",
      "Epoch 1868/2000\n"
     ]
    },
    {
     "name": "stdout",
     "output_type": "stream",
     "text": [
      "5/5 [==============================] - 0s 72ms/step - loss: 3.1598e-05 - mae: 0.0043 - val_loss: 0.0036 - val_mae: 0.0479\n",
      "Epoch 1869/2000\n",
      "5/5 [==============================] - 0s 73ms/step - loss: 2.9906e-05 - mae: 0.0042 - val_loss: 0.0036 - val_mae: 0.0476\n",
      "Epoch 1870/2000\n",
      "5/5 [==============================] - 0s 75ms/step - loss: 2.8283e-05 - mae: 0.0040 - val_loss: 0.0036 - val_mae: 0.0479\n",
      "Epoch 1871/2000\n",
      "5/5 [==============================] - 0s 74ms/step - loss: 2.6879e-05 - mae: 0.0039 - val_loss: 0.0036 - val_mae: 0.0477\n",
      "Epoch 1872/2000\n",
      "5/5 [==============================] - 0s 74ms/step - loss: 2.9263e-05 - mae: 0.0042 - val_loss: 0.0036 - val_mae: 0.0477\n",
      "Epoch 1873/2000\n",
      "5/5 [==============================] - 0s 73ms/step - loss: 2.9348e-05 - mae: 0.0041 - val_loss: 0.0036 - val_mae: 0.0477\n",
      "Epoch 1874/2000\n",
      "5/5 [==============================] - 0s 76ms/step - loss: 3.1903e-05 - mae: 0.0043 - val_loss: 0.0036 - val_mae: 0.0478\n",
      "Epoch 1875/2000\n",
      "5/5 [==============================] - 0s 73ms/step - loss: 2.8527e-05 - mae: 0.0041 - val_loss: 0.0037 - val_mae: 0.0479\n",
      "Epoch 1876/2000\n",
      "5/5 [==============================] - 0s 73ms/step - loss: 2.8783e-05 - mae: 0.0041 - val_loss: 0.0036 - val_mae: 0.0476\n",
      "Epoch 1877/2000\n",
      "5/5 [==============================] - 0s 73ms/step - loss: 2.7483e-05 - mae: 0.0040 - val_loss: 0.0036 - val_mae: 0.0478\n",
      "Epoch 1878/2000\n",
      "5/5 [==============================] - 0s 73ms/step - loss: 2.6734e-05 - mae: 0.0040 - val_loss: 0.0036 - val_mae: 0.0478\n",
      "Epoch 1879/2000\n",
      "5/5 [==============================] - 0s 75ms/step - loss: 2.7852e-05 - mae: 0.0041 - val_loss: 0.0036 - val_mae: 0.0479\n",
      "Epoch 1880/2000\n",
      "5/5 [==============================] - 0s 77ms/step - loss: 2.9855e-05 - mae: 0.0042 - val_loss: 0.0036 - val_mae: 0.0478\n",
      "Epoch 1881/2000\n",
      "5/5 [==============================] - 0s 73ms/step - loss: 2.9275e-05 - mae: 0.0041 - val_loss: 0.0037 - val_mae: 0.0480\n",
      "Epoch 1882/2000\n",
      "5/5 [==============================] - 0s 78ms/step - loss: 3.0229e-05 - mae: 0.0043 - val_loss: 0.0037 - val_mae: 0.0483\n",
      "Epoch 1883/2000\n",
      "5/5 [==============================] - 0s 76ms/step - loss: 3.0367e-05 - mae: 0.0042 - val_loss: 0.0036 - val_mae: 0.0478\n",
      "Epoch 1884/2000\n",
      "5/5 [==============================] - 0s 75ms/step - loss: 3.0237e-05 - mae: 0.0043 - val_loss: 0.0036 - val_mae: 0.0479\n",
      "Epoch 1885/2000\n",
      "5/5 [==============================] - 0s 77ms/step - loss: 3.3339e-05 - mae: 0.0045 - val_loss: 0.0037 - val_mae: 0.0483\n",
      "Epoch 1886/2000\n",
      "5/5 [==============================] - 0s 74ms/step - loss: 3.3652e-05 - mae: 0.0045 - val_loss: 0.0036 - val_mae: 0.0478\n",
      "Epoch 1887/2000\n",
      "5/5 [==============================] - 0s 74ms/step - loss: 3.1430e-05 - mae: 0.0044 - val_loss: 0.0037 - val_mae: 0.0482\n",
      "Epoch 1888/2000\n",
      "5/5 [==============================] - 0s 75ms/step - loss: 3.5624e-05 - mae: 0.0046 - val_loss: 0.0036 - val_mae: 0.0478\n",
      "Epoch 1889/2000\n",
      "5/5 [==============================] - 0s 73ms/step - loss: 3.5680e-05 - mae: 0.0047 - val_loss: 0.0037 - val_mae: 0.0479\n",
      "Epoch 1890/2000\n",
      "5/5 [==============================] - 0s 73ms/step - loss: 3.4481e-05 - mae: 0.0046 - val_loss: 0.0037 - val_mae: 0.0484\n",
      "Epoch 1891/2000\n",
      "5/5 [==============================] - 0s 72ms/step - loss: 3.1544e-05 - mae: 0.0043 - val_loss: 0.0037 - val_mae: 0.0480\n",
      "Epoch 1892/2000\n",
      "5/5 [==============================] - 0s 74ms/step - loss: 2.8355e-05 - mae: 0.0041 - val_loss: 0.0036 - val_mae: 0.0478\n",
      "Epoch 1893/2000\n",
      "5/5 [==============================] - 0s 74ms/step - loss: 3.1923e-05 - mae: 0.0044 - val_loss: 0.0037 - val_mae: 0.0482\n",
      "Epoch 1894/2000\n",
      "5/5 [==============================] - 0s 73ms/step - loss: 3.4334e-05 - mae: 0.0046 - val_loss: 0.0037 - val_mae: 0.0480\n",
      "Epoch 1895/2000\n",
      "5/5 [==============================] - 0s 73ms/step - loss: 3.3778e-05 - mae: 0.0045 - val_loss: 0.0036 - val_mae: 0.0478\n",
      "Epoch 1896/2000\n",
      "5/5 [==============================] - 0s 74ms/step - loss: 3.2489e-05 - mae: 0.0044 - val_loss: 0.0037 - val_mae: 0.0482\n",
      "Epoch 1897/2000\n",
      "5/5 [==============================] - 0s 73ms/step - loss: 3.4936e-05 - mae: 0.0046 - val_loss: 0.0037 - val_mae: 0.0480\n",
      "Epoch 1898/2000\n",
      "5/5 [==============================] - 0s 73ms/step - loss: 3.5329e-05 - mae: 0.0047 - val_loss: 0.0036 - val_mae: 0.0479\n",
      "Epoch 1899/2000\n",
      "5/5 [==============================] - 0s 74ms/step - loss: 3.8671e-05 - mae: 0.0047 - val_loss: 0.0037 - val_mae: 0.0485\n",
      "Epoch 1900/2000\n",
      "5/5 [==============================] - 0s 73ms/step - loss: 4.0922e-05 - mae: 0.0050 - val_loss: 0.0036 - val_mae: 0.0477\n",
      "Epoch 1901/2000\n",
      "5/5 [==============================] - 0s 75ms/step - loss: 5.1486e-05 - mae: 0.0057 - val_loss: 0.0037 - val_mae: 0.0482\n",
      "Epoch 1902/2000\n",
      "5/5 [==============================] - 0s 72ms/step - loss: 4.2348e-05 - mae: 0.0052 - val_loss: 0.0037 - val_mae: 0.0480\n",
      "Epoch 1903/2000\n",
      "5/5 [==============================] - 0s 74ms/step - loss: 4.1304e-05 - mae: 0.0051 - val_loss: 0.0037 - val_mae: 0.0479\n",
      "Epoch 1904/2000\n",
      "5/5 [==============================] - 0s 74ms/step - loss: 4.6035e-05 - mae: 0.0054 - val_loss: 0.0037 - val_mae: 0.0480\n",
      "Epoch 1905/2000\n",
      "5/5 [==============================] - 0s 74ms/step - loss: 4.7783e-05 - mae: 0.0055 - val_loss: 0.0037 - val_mae: 0.0482\n",
      "Epoch 1906/2000\n",
      "5/5 [==============================] - 0s 74ms/step - loss: 5.5435e-05 - mae: 0.0058 - val_loss: 0.0037 - val_mae: 0.0482\n",
      "Epoch 1907/2000\n",
      "5/5 [==============================] - 0s 75ms/step - loss: 5.2535e-05 - mae: 0.0056 - val_loss: 0.0036 - val_mae: 0.0476\n",
      "Epoch 1908/2000\n",
      "5/5 [==============================] - 0s 73ms/step - loss: 5.8024e-05 - mae: 0.0060 - val_loss: 0.0037 - val_mae: 0.0483\n",
      "Epoch 1909/2000\n",
      "5/5 [==============================] - 0s 74ms/step - loss: 4.5514e-05 - mae: 0.0053 - val_loss: 0.0037 - val_mae: 0.0482\n",
      "Epoch 1910/2000\n",
      "5/5 [==============================] - 0s 73ms/step - loss: 4.8522e-05 - mae: 0.0055 - val_loss: 0.0037 - val_mae: 0.0481\n",
      "Epoch 1911/2000\n",
      "5/5 [==============================] - 0s 73ms/step - loss: 4.2526e-05 - mae: 0.0052 - val_loss: 0.0037 - val_mae: 0.0480\n",
      "Epoch 1912/2000\n",
      "5/5 [==============================] - 0s 73ms/step - loss: 5.7500e-05 - mae: 0.0060 - val_loss: 0.0037 - val_mae: 0.0485\n",
      "Epoch 1913/2000\n",
      "5/5 [==============================] - 0s 73ms/step - loss: 6.1842e-05 - mae: 0.0062 - val_loss: 0.0037 - val_mae: 0.0483\n",
      "Epoch 1914/2000\n",
      "5/5 [==============================] - 0s 72ms/step - loss: 6.0625e-05 - mae: 0.0061 - val_loss: 0.0037 - val_mae: 0.0484\n",
      "Epoch 1915/2000\n",
      "5/5 [==============================] - 0s 75ms/step - loss: 6.5912e-05 - mae: 0.0066 - val_loss: 0.0037 - val_mae: 0.0485\n",
      "Epoch 1916/2000\n",
      "5/5 [==============================] - 0s 78ms/step - loss: 5.9388e-05 - mae: 0.0061 - val_loss: 0.0037 - val_mae: 0.0480\n",
      "Epoch 1917/2000\n",
      "5/5 [==============================] - 0s 82ms/step - loss: 6.0986e-05 - mae: 0.0062 - val_loss: 0.0038 - val_mae: 0.0486\n",
      "Epoch 1918/2000\n",
      "5/5 [==============================] - 0s 75ms/step - loss: 1.3676e-04 - mae: 0.0093 - val_loss: 0.0037 - val_mae: 0.0485\n",
      "Epoch 1919/2000\n",
      "5/5 [==============================] - 0s 75ms/step - loss: 1.0348e-04 - mae: 0.0080 - val_loss: 0.0038 - val_mae: 0.0487\n",
      "Epoch 1920/2000\n",
      "5/5 [==============================] - 0s 75ms/step - loss: 1.7525e-04 - mae: 0.0106 - val_loss: 0.0038 - val_mae: 0.0489\n",
      "Epoch 1921/2000\n",
      "5/5 [==============================] - 0s 75ms/step - loss: 1.2476e-04 - mae: 0.0090 - val_loss: 0.0037 - val_mae: 0.0481\n",
      "Epoch 1922/2000\n",
      "5/5 [==============================] - 0s 72ms/step - loss: 1.2824e-04 - mae: 0.0089 - val_loss: 0.0037 - val_mae: 0.0485\n",
      "Epoch 1923/2000\n",
      "5/5 [==============================] - 0s 77ms/step - loss: 1.5406e-04 - mae: 0.0097 - val_loss: 0.0039 - val_mae: 0.0496\n",
      "Epoch 1924/2000\n",
      "5/5 [==============================] - 0s 75ms/step - loss: 1.6586e-04 - mae: 0.0103 - val_loss: 0.0038 - val_mae: 0.0489\n",
      "Epoch 1925/2000\n",
      "5/5 [==============================] - 0s 72ms/step - loss: 1.8381e-04 - mae: 0.0108 - val_loss: 0.0039 - val_mae: 0.0493\n",
      "Epoch 1926/2000\n",
      "5/5 [==============================] - 0s 72ms/step - loss: 1.8434e-04 - mae: 0.0108 - val_loss: 0.0040 - val_mae: 0.0502\n",
      "Epoch 1927/2000\n"
     ]
    },
    {
     "name": "stdout",
     "output_type": "stream",
     "text": [
      "5/5 [==============================] - 0s 77ms/step - loss: 2.8826e-04 - mae: 0.0137 - val_loss: 0.0040 - val_mae: 0.0496\n",
      "Epoch 1928/2000\n",
      "5/5 [==============================] - 0s 78ms/step - loss: 2.7574e-04 - mae: 0.0134 - val_loss: 0.0042 - val_mae: 0.0520\n",
      "Epoch 1929/2000\n",
      "5/5 [==============================] - 0s 75ms/step - loss: 4.3612e-04 - mae: 0.0168 - val_loss: 0.0038 - val_mae: 0.0486\n",
      "Epoch 1930/2000\n",
      "5/5 [==============================] - 0s 74ms/step - loss: 5.5511e-04 - mae: 0.0187 - val_loss: 0.0042 - val_mae: 0.0513\n",
      "Epoch 1931/2000\n",
      "5/5 [==============================] - 0s 76ms/step - loss: 5.5145e-04 - mae: 0.0190 - val_loss: 0.0042 - val_mae: 0.0515\n",
      "Epoch 1932/2000\n",
      "5/5 [==============================] - 0s 72ms/step - loss: 4.4693e-04 - mae: 0.0168 - val_loss: 0.0039 - val_mae: 0.0489\n",
      "Epoch 1933/2000\n",
      "5/5 [==============================] - 0s 75ms/step - loss: 3.6367e-04 - mae: 0.0150 - val_loss: 0.0040 - val_mae: 0.0505\n",
      "Epoch 1934/2000\n",
      "5/5 [==============================] - 0s 76ms/step - loss: 2.7387e-04 - mae: 0.0131 - val_loss: 0.0039 - val_mae: 0.0492\n",
      "Epoch 1935/2000\n",
      "5/5 [==============================] - 0s 73ms/step - loss: 2.6547e-04 - mae: 0.0129 - val_loss: 0.0039 - val_mae: 0.0496\n",
      "Epoch 1936/2000\n",
      "5/5 [==============================] - 0s 72ms/step - loss: 2.0343e-04 - mae: 0.0113 - val_loss: 0.0037 - val_mae: 0.0483\n",
      "Epoch 1937/2000\n",
      "5/5 [==============================] - 0s 73ms/step - loss: 2.2342e-04 - mae: 0.0119 - val_loss: 0.0037 - val_mae: 0.0490\n",
      "Epoch 1938/2000\n",
      "5/5 [==============================] - 0s 75ms/step - loss: 2.1744e-04 - mae: 0.0117 - val_loss: 0.0037 - val_mae: 0.0485\n",
      "Epoch 1939/2000\n",
      "5/5 [==============================] - 0s 75ms/step - loss: 2.1572e-04 - mae: 0.0117 - val_loss: 0.0038 - val_mae: 0.0488\n",
      "Epoch 1940/2000\n",
      "5/5 [==============================] - 0s 74ms/step - loss: 3.1111e-04 - mae: 0.0141 - val_loss: 0.0041 - val_mae: 0.0503\n",
      "Epoch 1941/2000\n",
      "5/5 [==============================] - 0s 73ms/step - loss: 4.4525e-04 - mae: 0.0172 - val_loss: 0.0037 - val_mae: 0.0479\n",
      "Epoch 1942/2000\n",
      "5/5 [==============================] - 0s 73ms/step - loss: 4.2315e-04 - mae: 0.0162 - val_loss: 0.0038 - val_mae: 0.0494\n",
      "Epoch 1943/2000\n",
      "5/5 [==============================] - 0s 73ms/step - loss: 3.8939e-04 - mae: 0.0155 - val_loss: 0.0041 - val_mae: 0.0507\n",
      "Epoch 1944/2000\n",
      "5/5 [==============================] - 0s 74ms/step - loss: 3.8290e-04 - mae: 0.0156 - val_loss: 0.0038 - val_mae: 0.0489\n",
      "Epoch 1945/2000\n",
      "5/5 [==============================] - 0s 73ms/step - loss: 3.5401e-04 - mae: 0.0151 - val_loss: 0.0038 - val_mae: 0.0488\n",
      "Epoch 1946/2000\n",
      "5/5 [==============================] - 0s 72ms/step - loss: 2.7514e-04 - mae: 0.0131 - val_loss: 0.0037 - val_mae: 0.0482\n",
      "Epoch 1947/2000\n",
      "5/5 [==============================] - 0s 74ms/step - loss: 2.3710e-04 - mae: 0.0122 - val_loss: 0.0038 - val_mae: 0.0488\n",
      "Epoch 1948/2000\n",
      "5/5 [==============================] - 0s 75ms/step - loss: 1.9331e-04 - mae: 0.0109 - val_loss: 0.0038 - val_mae: 0.0486\n",
      "Epoch 1949/2000\n",
      "5/5 [==============================] - 0s 77ms/step - loss: 1.9060e-04 - mae: 0.0108 - val_loss: 0.0037 - val_mae: 0.0484\n",
      "Epoch 1950/2000\n",
      "5/5 [==============================] - 0s 75ms/step - loss: 1.4579e-04 - mae: 0.0096 - val_loss: 0.0037 - val_mae: 0.0482\n",
      "Epoch 1951/2000\n",
      "5/5 [==============================] - 0s 76ms/step - loss: 1.4553e-04 - mae: 0.0096 - val_loss: 0.0037 - val_mae: 0.0486\n",
      "Epoch 1952/2000\n",
      "5/5 [==============================] - 0s 73ms/step - loss: 1.1698e-04 - mae: 0.0086 - val_loss: 0.0037 - val_mae: 0.0482\n",
      "Epoch 1953/2000\n",
      "5/5 [==============================] - 0s 74ms/step - loss: 1.2046e-04 - mae: 0.0087 - val_loss: 0.0036 - val_mae: 0.0480\n",
      "Epoch 1954/2000\n",
      "5/5 [==============================] - 0s 73ms/step - loss: 1.4514e-04 - mae: 0.0094 - val_loss: 0.0037 - val_mae: 0.0487\n",
      "Epoch 1955/2000\n",
      "5/5 [==============================] - 0s 73ms/step - loss: 1.3722e-04 - mae: 0.0093 - val_loss: 0.0037 - val_mae: 0.0487\n",
      "Epoch 1956/2000\n",
      "5/5 [==============================] - 0s 76ms/step - loss: 1.1600e-04 - mae: 0.0085 - val_loss: 0.0036 - val_mae: 0.0477\n",
      "Epoch 1957/2000\n",
      "5/5 [==============================] - 0s 73ms/step - loss: 1.0033e-04 - mae: 0.0078 - val_loss: 0.0037 - val_mae: 0.0483\n",
      "Epoch 1958/2000\n",
      "5/5 [==============================] - 0s 72ms/step - loss: 8.5324e-05 - mae: 0.0073 - val_loss: 0.0037 - val_mae: 0.0479\n",
      "Epoch 1959/2000\n",
      "5/5 [==============================] - 0s 73ms/step - loss: 7.0129e-05 - mae: 0.0065 - val_loss: 0.0037 - val_mae: 0.0481\n",
      "Epoch 1960/2000\n",
      "5/5 [==============================] - 0s 73ms/step - loss: 6.9637e-05 - mae: 0.0064 - val_loss: 0.0037 - val_mae: 0.0483\n",
      "Epoch 1961/2000\n",
      "5/5 [==============================] - 0s 75ms/step - loss: 6.1924e-05 - mae: 0.0061 - val_loss: 0.0037 - val_mae: 0.0482\n",
      "Epoch 1962/2000\n",
      "5/5 [==============================] - 0s 77ms/step - loss: 5.7101e-05 - mae: 0.0059 - val_loss: 0.0037 - val_mae: 0.0482\n",
      "Epoch 1963/2000\n",
      "5/5 [==============================] - 0s 76ms/step - loss: 5.0539e-05 - mae: 0.0056 - val_loss: 0.0037 - val_mae: 0.0482\n",
      "Epoch 1964/2000\n",
      "5/5 [==============================] - 0s 75ms/step - loss: 5.1155e-05 - mae: 0.0056 - val_loss: 0.0036 - val_mae: 0.0478\n",
      "Epoch 1965/2000\n",
      "5/5 [==============================] - 0s 75ms/step - loss: 5.3023e-05 - mae: 0.0058 - val_loss: 0.0037 - val_mae: 0.0481\n",
      "Epoch 1966/2000\n",
      "5/5 [==============================] - 0s 75ms/step - loss: 4.5076e-05 - mae: 0.0053 - val_loss: 0.0036 - val_mae: 0.0479\n",
      "Epoch 1967/2000\n",
      "5/5 [==============================] - 0s 74ms/step - loss: 4.1856e-05 - mae: 0.0051 - val_loss: 0.0037 - val_mae: 0.0482\n",
      "Epoch 1968/2000\n",
      "5/5 [==============================] - 0s 73ms/step - loss: 4.7153e-05 - mae: 0.0054 - val_loss: 0.0037 - val_mae: 0.0487\n",
      "Epoch 1969/2000\n",
      "5/5 [==============================] - 0s 74ms/step - loss: 4.4531e-05 - mae: 0.0053 - val_loss: 0.0037 - val_mae: 0.0480\n",
      "Epoch 1970/2000\n",
      "5/5 [==============================] - 0s 77ms/step - loss: 4.1719e-05 - mae: 0.0051 - val_loss: 0.0037 - val_mae: 0.0482\n",
      "Epoch 1971/2000\n",
      "5/5 [==============================] - 0s 76ms/step - loss: 4.1113e-05 - mae: 0.0051 - val_loss: 0.0037 - val_mae: 0.0483\n",
      "Epoch 1972/2000\n",
      "5/5 [==============================] - 0s 73ms/step - loss: 4.2325e-05 - mae: 0.0052 - val_loss: 0.0037 - val_mae: 0.0484\n",
      "Epoch 1973/2000\n",
      "5/5 [==============================] - 0s 72ms/step - loss: 3.4366e-05 - mae: 0.0046 - val_loss: 0.0037 - val_mae: 0.0480\n",
      "Epoch 1974/2000\n",
      "5/5 [==============================] - 0s 72ms/step - loss: 3.6693e-05 - mae: 0.0048 - val_loss: 0.0037 - val_mae: 0.0484\n",
      "Epoch 1975/2000\n",
      "5/5 [==============================] - 0s 73ms/step - loss: 3.6748e-05 - mae: 0.0048 - val_loss: 0.0037 - val_mae: 0.0482\n",
      "Epoch 1976/2000\n",
      "5/5 [==============================] - 0s 72ms/step - loss: 3.4110e-05 - mae: 0.0046 - val_loss: 0.0037 - val_mae: 0.0480\n",
      "Epoch 1977/2000\n",
      "5/5 [==============================] - 0s 73ms/step - loss: 3.0097e-05 - mae: 0.0044 - val_loss: 0.0037 - val_mae: 0.0480\n",
      "Epoch 1978/2000\n",
      "5/5 [==============================] - 0s 73ms/step - loss: 3.4240e-05 - mae: 0.0046 - val_loss: 0.0037 - val_mae: 0.0484\n",
      "Epoch 1979/2000\n",
      "5/5 [==============================] - 0s 75ms/step - loss: 2.9314e-05 - mae: 0.0043 - val_loss: 0.0037 - val_mae: 0.0482\n",
      "Epoch 1980/2000\n",
      "5/5 [==============================] - 0s 75ms/step - loss: 2.5428e-05 - mae: 0.0040 - val_loss: 0.0037 - val_mae: 0.0483\n",
      "Epoch 1981/2000\n",
      "5/5 [==============================] - 0s 78ms/step - loss: 2.5902e-05 - mae: 0.0040 - val_loss: 0.0036 - val_mae: 0.0479\n",
      "Epoch 1982/2000\n",
      "5/5 [==============================] - 0s 76ms/step - loss: 2.6844e-05 - mae: 0.0041 - val_loss: 0.0037 - val_mae: 0.0482\n",
      "Epoch 1983/2000\n",
      "5/5 [==============================] - 0s 77ms/step - loss: 2.4948e-05 - mae: 0.0040 - val_loss: 0.0037 - val_mae: 0.0484\n",
      "Epoch 1984/2000\n",
      "5/5 [==============================] - 0s 75ms/step - loss: 3.3005e-05 - mae: 0.0046 - val_loss: 0.0037 - val_mae: 0.0484\n",
      "Epoch 1985/2000\n",
      "5/5 [==============================] - 0s 77ms/step - loss: 2.6373e-05 - mae: 0.0041 - val_loss: 0.0037 - val_mae: 0.0482\n",
      "Epoch 1986/2000\n"
     ]
    },
    {
     "name": "stdout",
     "output_type": "stream",
     "text": [
      "5/5 [==============================] - 0s 74ms/step - loss: 2.1875e-05 - mae: 0.0037 - val_loss: 0.0037 - val_mae: 0.0486\n",
      "Epoch 1987/2000\n",
      "5/5 [==============================] - 0s 74ms/step - loss: 2.2709e-05 - mae: 0.0037 - val_loss: 0.0037 - val_mae: 0.0482\n",
      "Epoch 1988/2000\n",
      "5/5 [==============================] - 0s 74ms/step - loss: 2.1103e-05 - mae: 0.0036 - val_loss: 0.0037 - val_mae: 0.0484\n",
      "Epoch 1989/2000\n",
      "5/5 [==============================] - 0s 72ms/step - loss: 2.5195e-05 - mae: 0.0040 - val_loss: 0.0037 - val_mae: 0.0483\n",
      "Epoch 1990/2000\n",
      "5/5 [==============================] - 0s 74ms/step - loss: 2.0858e-05 - mae: 0.0036 - val_loss: 0.0037 - val_mae: 0.0480\n",
      "Epoch 1991/2000\n",
      "5/5 [==============================] - 0s 75ms/step - loss: 2.3638e-05 - mae: 0.0038 - val_loss: 0.0037 - val_mae: 0.0486\n",
      "Epoch 1992/2000\n",
      "5/5 [==============================] - 0s 73ms/step - loss: 2.6160e-05 - mae: 0.0040 - val_loss: 0.0037 - val_mae: 0.0484\n",
      "Epoch 1993/2000\n",
      "5/5 [==============================] - 0s 73ms/step - loss: 2.6537e-05 - mae: 0.0041 - val_loss: 0.0037 - val_mae: 0.0484\n",
      "Epoch 1994/2000\n",
      "5/5 [==============================] - 0s 73ms/step - loss: 2.6283e-05 - mae: 0.0040 - val_loss: 0.0037 - val_mae: 0.0483\n",
      "Epoch 1995/2000\n",
      "5/5 [==============================] - 0s 72ms/step - loss: 2.4920e-05 - mae: 0.0040 - val_loss: 0.0037 - val_mae: 0.0484\n",
      "Epoch 1996/2000\n",
      "5/5 [==============================] - 0s 74ms/step - loss: 3.3514e-05 - mae: 0.0046 - val_loss: 0.0037 - val_mae: 0.0484\n",
      "Epoch 1997/2000\n",
      "5/5 [==============================] - 0s 73ms/step - loss: 3.0957e-05 - mae: 0.0044 - val_loss: 0.0037 - val_mae: 0.0485\n",
      "Epoch 1998/2000\n",
      "5/5 [==============================] - 0s 73ms/step - loss: 2.5040e-05 - mae: 0.0040 - val_loss: 0.0037 - val_mae: 0.0487\n",
      "Epoch 1999/2000\n",
      "5/5 [==============================] - 0s 72ms/step - loss: 2.4995e-05 - mae: 0.0039 - val_loss: 0.0037 - val_mae: 0.0483\n",
      "Epoch 2000/2000\n",
      "5/5 [==============================] - 0s 72ms/step - loss: 2.1510e-05 - mae: 0.0037 - val_loss: 0.0037 - val_mae: 0.0483\n"
     ]
    }
   ],
   "source": [
    "from tensorflow.keras import datasets, layers, models\n",
    "from tensorflow import keras\n",
    "from tensorflow.keras import layers\n",
    "\n",
    "model = models.Sequential()\n",
    "model.add(layers.LSTM(1024, input_shape=(time_step,2)))\n",
    "model.add(layers.Dense(25))\n",
    "\n",
    "model.summary()\n",
    "\n",
    "model.compile(optimizer='adam', loss='mse', metrics=['mae'])\n",
    "\n",
    "history = model.fit(train_input, train_label, epochs=2000, verbose=1, shuffle=True, validation_split=0.20,\n",
    "                   callbacks=[WandbCallback(log_weights=True, log_gradients=True, training_data=(train_input, train_label))])"
   ]
  },
  {
   "cell_type": "code",
   "execution_count": 17,
   "id": "f2977e3d",
   "metadata": {},
   "outputs": [
    {
     "name": "stdout",
     "output_type": "stream",
     "text": [
      "1/1 [==============================] - 0s 211ms/step\n"
     ]
    }
   ],
   "source": [
    "test_input = test_input.reshape(1, test_input.shape[0], test_input.shape[1])\n",
    "\n",
    "y_hat = model.predict(test_input)"
   ]
  },
  {
   "cell_type": "code",
   "execution_count": 18,
   "id": "569d2b27",
   "metadata": {},
   "outputs": [
    {
     "data": {
      "text/plain": [
       "(1, 100, 2)"
      ]
     },
     "execution_count": 18,
     "metadata": {},
     "output_type": "execute_result"
    }
   ],
   "source": [
    "test_input.shape"
   ]
  },
  {
   "cell_type": "code",
   "execution_count": 19,
   "id": "6b083de8",
   "metadata": {},
   "outputs": [],
   "source": [
    "test_label = test_label.reshape(1, test_label.shape[0], test_label.shape[1])"
   ]
  },
  {
   "cell_type": "code",
   "execution_count": 20,
   "id": "54e7a073",
   "metadata": {},
   "outputs": [
    {
     "data": {
      "text/plain": [
       "(1, 25, 1)"
      ]
     },
     "execution_count": 20,
     "metadata": {},
     "output_type": "execute_result"
    }
   ],
   "source": [
    "test_label.shape"
   ]
  },
  {
   "cell_type": "code",
   "execution_count": 21,
   "id": "b3e0c133",
   "metadata": {},
   "outputs": [
    {
     "data": {
      "text/plain": [
       "array([[0.98123467, 1.3095175 , 1.5730013 , 1.4509267 , 1.7535467 ,\n",
       "        2.0261686 , 1.443127  , 1.7883116 , 1.8425364 , 1.7581564 ,\n",
       "        1.8880273 , 2.237465  , 1.1224492 , 1.3770211 , 1.6847172 ,\n",
       "        1.4453498 , 1.9987395 , 2.0942645 , 1.4685831 , 1.9713029 ,\n",
       "        1.7284296 , 1.8816038 , 2.1647527 , 2.2103274 , 1.227764  ]],\n",
       "      dtype=float32)"
      ]
     },
     "execution_count": 21,
     "metadata": {},
     "output_type": "execute_result"
    }
   ],
   "source": [
    "y_hat"
   ]
  },
  {
   "cell_type": "code",
   "execution_count": 22,
   "id": "e37311d1",
   "metadata": {},
   "outputs": [
    {
     "data": {
      "text/plain": [
       "(1, 25)"
      ]
     },
     "execution_count": 22,
     "metadata": {},
     "output_type": "execute_result"
    }
   ],
   "source": [
    "y_hat.shape"
   ]
  },
  {
   "cell_type": "code",
   "execution_count": 23,
   "id": "ad0f0285",
   "metadata": {},
   "outputs": [],
   "source": [
    "y_hat = y_hat.reshape(y_hat.shape[1], 1)"
   ]
  },
  {
   "cell_type": "code",
   "execution_count": 24,
   "id": "69ea1f6f",
   "metadata": {},
   "outputs": [],
   "source": [
    "y_hat = (y_hat*data_std)+data_mean"
   ]
  },
  {
   "cell_type": "code",
   "execution_count": 25,
   "id": "702f2214",
   "metadata": {},
   "outputs": [],
   "source": [
    "#print(scaler.data_max_)"
   ]
  },
  {
   "cell_type": "code",
   "execution_count": 26,
   "id": "1ca1a387",
   "metadata": {},
   "outputs": [],
   "source": [
    "#print(scaler.data_min_)"
   ]
  },
  {
   "cell_type": "code",
   "execution_count": 27,
   "id": "5e40982b",
   "metadata": {},
   "outputs": [],
   "source": [
    "#y_hat = y_hat * (scaler.data_max_[1]-scaler.data_min_[1]) + scaler.data_min_[1]"
   ]
  },
  {
   "cell_type": "code",
   "execution_count": 28,
   "id": "902bb0d7",
   "metadata": {},
   "outputs": [
    {
     "data": {
      "text/plain": [
       "Text(0.5, 1.0, 'LSTM prediction')"
      ]
     },
     "execution_count": 28,
     "metadata": {},
     "output_type": "execute_result"
    },
    {
     "data": {
      "image/png": "[encoded data removed]",
      "text/plain": [
       "<Figure size 1008x576 with 1 Axes>"
      ]
     },
     "metadata": {
      "needs_background": "light"
     },
     "output_type": "display_data"
    }
   ],
   "source": [
    "import matplotlib.pyplot as plt\n",
    "\n",
    "x = range(325)\n",
    "plt.figure(figsize=(14,8))\n",
    "plt.plot(df[300:325]['Sales'], label='original')\n",
    "plt.plot(x[300:325], y_hat, label='prediction')\n",
    "plt.legend()\n",
    "plt.xlabel('Sequence', fontsize=20)\n",
    "plt.ylabel('Sales', fontsize=20)\n",
    "plt.title('LSTM prediction', fontsize=25)"
   ]
  },
  {
   "cell_type": "code",
   "execution_count": 29,
   "id": "051887d3",
   "metadata": {
    "scrolled": true
   },
   "outputs": [
    {
     "name": "stdout",
     "output_type": "stream",
     "text": [
      "1/1 [==============================] - 0s 18ms/step - loss: 0.0875 - mae: 0.2713\n"
     ]
    },
    {
     "data": {
      "text/plain": [
       "[0.0875258669257164, 0.2712627649307251]"
      ]
     },
     "execution_count": 29,
     "metadata": {},
     "output_type": "execute_result"
    }
   ],
   "source": [
    "model.evaluate(test_input, test_label)"
   ]
  }
 ],
 "metadata": {
  "kernelspec": {
   "display_name": "Python 3 (ipykernel)",
   "language": "python",
   "name": "python3"
  },
  "language_info": {
   "codemirror_mode": {
    "name": "ipython",
    "version": 3
   },
   "file_extension": ".py",
   "mimetype": "text/x-python",
   "name": "python",
   "nbconvert_exporter": "python",
   "pygments_lexer": "ipython3",
   "version": "3.9.12"
  }
 },
 "nbformat": 4,
 "nbformat_minor": 5
}
