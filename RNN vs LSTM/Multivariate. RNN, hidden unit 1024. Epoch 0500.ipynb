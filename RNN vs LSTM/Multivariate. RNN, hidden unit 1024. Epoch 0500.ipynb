{
 "cells": [
  {
   "cell_type": "code",
   "execution_count": 1,
   "id": "43472127",
   "metadata": {},
   "outputs": [
    {
     "name": "stderr",
     "output_type": "stream",
     "text": [
      "\u001b[34m\u001b[1mwandb\u001b[0m: Currently logged in as: \u001b[33mjintae\u001b[0m. Use \u001b[1m`wandb login --relogin`\u001b[0m to force relogin\n"
     ]
    },
    {
     "data": {
      "text/html": [
       "Tracking run with wandb version 0.13.4"
      ],
      "text/plain": [
       "<IPython.core.display.HTML object>"
      ]
     },
     "metadata": {},
     "output_type": "display_data"
    },
    {
     "data": {
      "text/html": [
       "Run data is saved locally in <code>C:\\Users\\PARK\\Documents\\LAB\\RNN vs LSTM\\FInal Example\\wandb\\run-20221015_202009-2vru7228</code>"
      ],
      "text/plain": [
       "<IPython.core.display.HTML object>"
      ]
     },
     "metadata": {},
     "output_type": "display_data"
    },
    {
     "data": {
      "text/html": [
       "Syncing run <strong><a href=\"https://wandb.ai/jintae/RNN%20seq%201024./runs/2vru7228\" target=\"_blank\">epoch 500</a></strong> to <a href=\"https://wandb.ai/jintae/RNN%20seq%201024.\" target=\"_blank\">Weights & Biases</a> (<a href=\"https://wandb.me/run\" target=\"_blank\">docs</a>)<br/>"
      ],
      "text/plain": [
       "<IPython.core.display.HTML object>"
      ]
     },
     "metadata": {},
     "output_type": "display_data"
    },
    {
     "data": {
      "text/html": [
       "<button onClick=\"this.nextSibling.style.display='block';this.style.display='none';\">Display W&B run</button><iframe src=\"https://wandb.ai/jintae/RNN%20seq%201024./runs/2vru7228?jupyter=true\" style=\"border:none;width:100%;height:420px;display:none;\"></iframe>"
      ],
      "text/plain": [
       "<wandb.sdk.wandb_run.Run at 0x2b7a7d22550>"
      ]
     },
     "execution_count": 1,
     "metadata": {},
     "output_type": "execute_result"
    }
   ],
   "source": [
    "import wandb\n",
    "from wandb.keras import WandbCallback\n",
    "wandb.init(project=\"RNN seq 1024.\", name=\"epoch 500\")"
   ]
  },
  {
   "cell_type": "code",
   "execution_count": 2,
   "id": "650bae84",
   "metadata": {},
   "outputs": [
    {
     "name": "stdout",
     "output_type": "stream",
     "text": [
      "   DATE  Sales\n",
      "0     0   3459\n",
      "1     1   3458\n",
      "2     2   4002\n",
      "3     3   4564\n",
      "4     4   4221\n"
     ]
    }
   ],
   "source": [
    "import pandas as pd\n",
    "\n",
    "df = pd.read_csv('C:/Users/PARK/Desktop/Alcohol_Sales.csv')\n",
    "print(df.head())"
   ]
  },
  {
   "cell_type": "code",
   "execution_count": 3,
   "id": "71e18e17",
   "metadata": {},
   "outputs": [
    {
     "data": {
      "text/plain": [
       "(325, 2)"
      ]
     },
     "execution_count": 3,
     "metadata": {},
     "output_type": "execute_result"
    }
   ],
   "source": [
    "df.shape"
   ]
  },
  {
   "cell_type": "code",
   "execution_count": 4,
   "id": "5f4f8fb7",
   "metadata": {},
   "outputs": [],
   "source": [
    "import numpy as np\n",
    "\n",
    "data = df.to_numpy()"
   ]
  },
  {
   "cell_type": "code",
   "execution_count": 5,
   "id": "c6063052",
   "metadata": {},
   "outputs": [
    {
     "data": {
      "text/plain": [
       "(325, 2)"
      ]
     },
     "execution_count": 5,
     "metadata": {},
     "output_type": "execute_result"
    }
   ],
   "source": [
    "data.shape"
   ]
  },
  {
   "cell_type": "code",
   "execution_count": 6,
   "id": "01930485",
   "metadata": {},
   "outputs": [
    {
     "data": {
      "text/plain": [
       "array([[   0, 3459],\n",
       "       [   1, 3458],\n",
       "       [   2, 4002],\n",
       "       [   3, 4564],\n",
       "       [   4, 4221]], dtype=int64)"
      ]
     },
     "execution_count": 6,
     "metadata": {},
     "output_type": "execute_result"
    }
   ],
   "source": [
    "data[0:5]"
   ]
  },
  {
   "cell_type": "code",
   "execution_count": 7,
   "id": "ad83b404",
   "metadata": {},
   "outputs": [],
   "source": [
    "# from sklearn.preprocessing import MinMaxScaler\n",
    "\n",
    "# scaler = MinMaxScaler()\n",
    "\n",
    "# data = scaler.fit_transform(data)"
   ]
  },
  {
   "cell_type": "code",
   "execution_count": 8,
   "id": "17aef2ea",
   "metadata": {},
   "outputs": [],
   "source": [
    "data_mean = data.mean()\n",
    "data_std = data.std()\n",
    "\n",
    "data = (data - data_mean)/data_std"
   ]
  },
  {
   "cell_type": "code",
   "execution_count": 9,
   "id": "63fe0032",
   "metadata": {},
   "outputs": [
    {
     "data": {
      "text/plain": [
       "array([[-0.9194862 , -0.12914209],\n",
       "       [-0.91925771, -0.12937058],\n",
       "       [-0.91902922, -0.00507246],\n",
       "       [-0.91880073,  0.12333846],\n",
       "       [-0.91857224,  0.04496667]])"
      ]
     },
     "execution_count": 9,
     "metadata": {},
     "output_type": "execute_result"
    }
   ],
   "source": [
    "data[0:5]"
   ]
  },
  {
   "cell_type": "code",
   "execution_count": 10,
   "id": "87ac24ef",
   "metadata": {
    "scrolled": true
   },
   "outputs": [],
   "source": [
    "train_input = []\n",
    "train_label = []\n",
    "\n",
    "data_len = 325\n",
    "time_step = 100\n",
    "out_dim = 25\n",
    "\n",
    "for i in range(176):\n",
    "    _input = data[i:i+time_step]\n",
    "    _label = data[i+time_step:i+time_step+out_dim]\n",
    "    \n",
    "    train_input.append(_input)\n",
    "    train_label.append(_label)\n",
    "    \n",
    "\n",
    "train_input = np.array(train_input)\n",
    "train_label = np.array(train_label)\n",
    "train_label = np.delete(train_label, 0, axis=2)\n",
    "\n",
    "\n",
    "test_input = np.array(data[data_len-out_dim-time_step:data_len-out_dim])\n",
    "test_label =np.array(data[300:325])\n",
    "test_label = np.delete(test_label, 0, axis=1)"
   ]
  },
  {
   "cell_type": "code",
   "execution_count": 11,
   "id": "41975dc7",
   "metadata": {},
   "outputs": [
    {
     "data": {
      "text/plain": [
       "(176, 100, 2)"
      ]
     },
     "execution_count": 11,
     "metadata": {},
     "output_type": "execute_result"
    }
   ],
   "source": [
    "train_input.shape"
   ]
  },
  {
   "cell_type": "code",
   "execution_count": 12,
   "id": "b762c3ba",
   "metadata": {},
   "outputs": [
    {
     "data": {
      "text/plain": [
       "(176, 25, 1)"
      ]
     },
     "execution_count": 12,
     "metadata": {},
     "output_type": "execute_result"
    }
   ],
   "source": [
    "train_label.shape"
   ]
  },
  {
   "cell_type": "code",
   "execution_count": 13,
   "id": "127c63a2",
   "metadata": {},
   "outputs": [
    {
     "data": {
      "text/plain": [
       "(100, 2)"
      ]
     },
     "execution_count": 13,
     "metadata": {},
     "output_type": "execute_result"
    }
   ],
   "source": [
    "test_input.shape"
   ]
  },
  {
   "cell_type": "code",
   "execution_count": 14,
   "id": "6647472d",
   "metadata": {},
   "outputs": [
    {
     "data": {
      "text/plain": [
       "(25, 1)"
      ]
     },
     "execution_count": 14,
     "metadata": {},
     "output_type": "execute_result"
    }
   ],
   "source": [
    "test_label.shape"
   ]
  },
  {
   "cell_type": "code",
   "execution_count": 15,
   "id": "5d83c07f",
   "metadata": {},
   "outputs": [],
   "source": [
    "np.random.seed(10)\n",
    "shuffled_indices = np.random.permutation(np.arange(train_input.shape[0]))\n",
    "train_input = train_input[shuffled_indices, :, :]\n",
    "train_label = train_label[shuffled_indices, :]"
   ]
  },
  {
   "cell_type": "code",
   "execution_count": 16,
   "id": "a183926e",
   "metadata": {
    "scrolled": true
   },
   "outputs": [
    {
     "name": "stdout",
     "output_type": "stream",
     "text": [
      "Model: \"sequential\"\n",
      "_________________________________________________________________\n",
      " Layer (type)                Output Shape              Param #   \n",
      "=================================================================\n",
      " simple_rnn (SimpleRNN)      (None, 1024)              1051648   \n",
      "                                                                 \n",
      " dense (Dense)               (None, 25)                25625     \n",
      "                                                                 \n",
      "=================================================================\n",
      "Total params: 1,077,273\n",
      "Trainable params: 1,077,273\n",
      "Non-trainable params: 0\n",
      "_________________________________________________________________\n"
     ]
    },
    {
     "name": "stderr",
     "output_type": "stream",
     "text": [
      "\u001b[34m\u001b[1mwandb\u001b[0m: \u001b[33mWARNING\u001b[0m The save_model argument by default saves the model in the HDF5 format that cannot save custom objects like subclassed models and custom layers. This behavior will be deprecated in a future release in favor of the SavedModel format. Meanwhile, the HDF5 model is saved as W&B files and the SavedModel as W&B Artifacts.\n"
     ]
    },
    {
     "name": "stdout",
     "output_type": "stream",
     "text": [
      "Epoch 1/500\n",
      "4/5 [=======================>......] - ETA: 0s - loss: 1.0405 - mae: 0.8383INFO:tensorflow:Assets written to: C:\\Users\\PARK\\Documents\\LAB\\RNN vs LSTM\\FInal Example\\wandb\\run-20221015_202009-2vru7228\\files\\model-best\\assets\n"
     ]
    },
    {
     "name": "stderr",
     "output_type": "stream",
     "text": [
      "\u001b[34m\u001b[1mwandb\u001b[0m: Adding directory to artifact (C:\\Users\\PARK\\Documents\\LAB\\RNN vs LSTM\\FInal Example\\wandb\\run-20221015_202009-2vru7228\\files\\model-best)... Done. 0.1s\n"
     ]
    },
    {
     "name": "stdout",
     "output_type": "stream",
     "text": [
      "5/5 [==============================] - 4s 653ms/step - loss: 1.0500 - mae: 0.8415 - val_loss: 2.1039 - val_mae: 1.2827\n",
      "Epoch 2/500\n",
      "4/5 [=======================>......] - ETA: 0s - loss: 3.8495 - mae: 1.7263INFO:tensorflow:Assets written to: C:\\Users\\PARK\\Documents\\LAB\\RNN vs LSTM\\FInal Example\\wandb\\run-20221015_202009-2vru7228\\files\\model-best\\assets\n"
     ]
    },
    {
     "name": "stderr",
     "output_type": "stream",
     "text": [
      "\u001b[34m\u001b[1mwandb\u001b[0m: Adding directory to artifact (C:\\Users\\PARK\\Documents\\LAB\\RNN vs LSTM\\FInal Example\\wandb\\run-20221015_202009-2vru7228\\files\\model-best)... Done. 0.1s\n"
     ]
    },
    {
     "name": "stdout",
     "output_type": "stream",
     "text": [
      "5/5 [==============================] - 2s 532ms/step - loss: 3.6869 - mae: 1.6804 - val_loss: 1.7002 - val_mae: 1.1262\n",
      "Epoch 3/500\n",
      "5/5 [==============================] - ETA: 0s - loss: 2.4353 - mae: 1.3455INFO:tensorflow:Assets written to: C:\\Users\\PARK\\Documents\\LAB\\RNN vs LSTM\\FInal Example\\wandb\\run-20221015_202009-2vru7228\\files\\model-best\\assets\n"
     ]
    },
    {
     "name": "stderr",
     "output_type": "stream",
     "text": [
      "\u001b[34m\u001b[1mwandb\u001b[0m: Adding directory to artifact (C:\\Users\\PARK\\Documents\\LAB\\RNN vs LSTM\\FInal Example\\wandb\\run-20221015_202009-2vru7228\\files\\model-best)... Done. 0.0s\n"
     ]
    },
    {
     "name": "stdout",
     "output_type": "stream",
     "text": [
      "5/5 [==============================] - 2s 511ms/step - loss: 2.4353 - mae: 1.3455 - val_loss: 0.3831 - val_mae: 0.5053\n",
      "Epoch 4/500\n",
      "5/5 [==============================] - 1s 169ms/step - loss: 2.2901 - mae: 1.0940 - val_loss: 0.5881 - val_mae: 0.6134\n",
      "Epoch 5/500\n",
      "5/5 [==============================] - 1s 154ms/step - loss: 0.6620 - mae: 0.6622 - val_loss: 3.4770 - val_mae: 1.7897\n",
      "Epoch 6/500\n",
      "5/5 [==============================] - 1s 152ms/step - loss: 2.0967 - mae: 1.2340 - val_loss: 0.6964 - val_mae: 0.6989\n",
      "Epoch 7/500\n",
      "5/5 [==============================] - 1s 149ms/step - loss: 1.5864 - mae: 1.0988 - val_loss: 0.9945 - val_mae: 0.8911\n",
      "Epoch 8/500\n",
      "5/5 [==============================] - ETA: 0s - loss: 0.6921 - mae: 0.6809INFO:tensorflow:Assets written to: C:\\Users\\PARK\\Documents\\LAB\\RNN vs LSTM\\FInal Example\\wandb\\run-20221015_202009-2vru7228\\files\\model-best\\assets\n"
     ]
    },
    {
     "name": "stderr",
     "output_type": "stream",
     "text": [
      "\u001b[34m\u001b[1mwandb\u001b[0m: Adding directory to artifact (C:\\Users\\PARK\\Documents\\LAB\\RNN vs LSTM\\FInal Example\\wandb\\run-20221015_202009-2vru7228\\files\\model-best)... Done. 0.1s\n"
     ]
    },
    {
     "name": "stdout",
     "output_type": "stream",
     "text": [
      "5/5 [==============================] - 2s 519ms/step - loss: 0.6921 - mae: 0.6809 - val_loss: 0.3128 - val_mae: 0.4583\n",
      "Epoch 9/500\n",
      "5/5 [==============================] - 1s 199ms/step - loss: 0.5633 - mae: 0.6039 - val_loss: 0.9334 - val_mae: 0.8468\n",
      "Epoch 10/500\n",
      "5/5 [==============================] - ETA: 0s - loss: 0.6557 - mae: 0.6798INFO:tensorflow:Assets written to: C:\\Users\\PARK\\Documents\\LAB\\RNN vs LSTM\\FInal Example\\wandb\\run-20221015_202009-2vru7228\\files\\model-best\\assets\n"
     ]
    },
    {
     "name": "stderr",
     "output_type": "stream",
     "text": [
      "\u001b[34m\u001b[1mwandb\u001b[0m: Adding directory to artifact (C:\\Users\\PARK\\Documents\\LAB\\RNN vs LSTM\\FInal Example\\wandb\\run-20221015_202009-2vru7228\\files\\model-best)... Done. 0.0s\n"
     ]
    },
    {
     "name": "stdout",
     "output_type": "stream",
     "text": [
      "5/5 [==============================] - 2s 489ms/step - loss: 0.6557 - mae: 0.6798 - val_loss: 0.2309 - val_mae: 0.3942\n",
      "Epoch 11/500\n",
      "5/5 [==============================] - 1s 170ms/step - loss: 0.3142 - mae: 0.4508 - val_loss: 0.3985 - val_mae: 0.5131\n",
      "Epoch 12/500\n",
      "5/5 [==============================] - ETA: 0s - loss: 0.3237 - mae: 0.4602INFO:tensorflow:Assets written to: C:\\Users\\PARK\\Documents\\LAB\\RNN vs LSTM\\FInal Example\\wandb\\run-20221015_202009-2vru7228\\files\\model-best\\assets\n"
     ]
    },
    {
     "name": "stderr",
     "output_type": "stream",
     "text": [
      "\u001b[34m\u001b[1mwandb\u001b[0m: Adding directory to artifact (C:\\Users\\PARK\\Documents\\LAB\\RNN vs LSTM\\FInal Example\\wandb\\run-20221015_202009-2vru7228\\files\\model-best)... Done. 0.0s\n"
     ]
    },
    {
     "name": "stdout",
     "output_type": "stream",
     "text": [
      "5/5 [==============================] - 2s 492ms/step - loss: 0.3237 - mae: 0.4602 - val_loss: 0.2265 - val_mae: 0.3945\n",
      "Epoch 13/500\n",
      "5/5 [==============================] - 1s 183ms/step - loss: 0.2420 - mae: 0.4064 - val_loss: 0.2568 - val_mae: 0.4141\n",
      "Epoch 14/500\n",
      "4/5 [=======================>......] - ETA: 0s - loss: 0.2275 - mae: 0.3926INFO:tensorflow:Assets written to: C:\\Users\\PARK\\Documents\\LAB\\RNN vs LSTM\\FInal Example\\wandb\\run-20221015_202009-2vru7228\\files\\model-best\\assets\n"
     ]
    },
    {
     "name": "stderr",
     "output_type": "stream",
     "text": [
      "\u001b[34m\u001b[1mwandb\u001b[0m: Adding directory to artifact (C:\\Users\\PARK\\Documents\\LAB\\RNN vs LSTM\\FInal Example\\wandb\\run-20221015_202009-2vru7228\\files\\model-best)... Done. 0.1s\n"
     ]
    },
    {
     "name": "stdout",
     "output_type": "stream",
     "text": [
      "5/5 [==============================] - 2s 517ms/step - loss: 0.2226 - mae: 0.3882 - val_loss: 0.1909 - val_mae: 0.3617\n",
      "Epoch 15/500\n",
      "5/5 [==============================] - ETA: 0s - loss: 0.2069 - mae: 0.3719INFO:tensorflow:Assets written to: C:\\Users\\PARK\\Documents\\LAB\\RNN vs LSTM\\FInal Example\\wandb\\run-20221015_202009-2vru7228\\files\\model-best\\assets\n"
     ]
    },
    {
     "name": "stderr",
     "output_type": "stream",
     "text": [
      "\u001b[34m\u001b[1mwandb\u001b[0m: Adding directory to artifact (C:\\Users\\PARK\\Documents\\LAB\\RNN vs LSTM\\FInal Example\\wandb\\run-20221015_202009-2vru7228\\files\\model-best)... Done. 0.1s\n"
     ]
    },
    {
     "name": "stdout",
     "output_type": "stream",
     "text": [
      "5/5 [==============================] - 2s 517ms/step - loss: 0.2069 - mae: 0.3719 - val_loss: 0.1869 - val_mae: 0.3585\n",
      "Epoch 16/500\n",
      "5/5 [==============================] - ETA: 0s - loss: 0.1906 - mae: 0.3568INFO:tensorflow:Assets written to: C:\\Users\\PARK\\Documents\\LAB\\RNN vs LSTM\\FInal Example\\wandb\\run-20221015_202009-2vru7228\\files\\model-best\\assets\n"
     ]
    },
    {
     "name": "stderr",
     "output_type": "stream",
     "text": [
      "\u001b[34m\u001b[1mwandb\u001b[0m: Adding directory to artifact (C:\\Users\\PARK\\Documents\\LAB\\RNN vs LSTM\\FInal Example\\wandb\\run-20221015_202009-2vru7228\\files\\model-best)... Done. 0.0s\n"
     ]
    },
    {
     "name": "stdout",
     "output_type": "stream",
     "text": [
      "5/5 [==============================] - 2s 563ms/step - loss: 0.1906 - mae: 0.3568 - val_loss: 0.1789 - val_mae: 0.3434\n",
      "Epoch 17/500\n",
      "5/5 [==============================] - ETA: 0s - loss: 0.1762 - mae: 0.3414INFO:tensorflow:Assets written to: C:\\Users\\PARK\\Documents\\LAB\\RNN vs LSTM\\FInal Example\\wandb\\run-20221015_202009-2vru7228\\files\\model-best\\assets\n"
     ]
    },
    {
     "name": "stderr",
     "output_type": "stream",
     "text": [
      "\u001b[34m\u001b[1mwandb\u001b[0m: Adding directory to artifact (C:\\Users\\PARK\\Documents\\LAB\\RNN vs LSTM\\FInal Example\\wandb\\run-20221015_202009-2vru7228\\files\\model-best)... Done. 0.1s\n"
     ]
    },
    {
     "name": "stdout",
     "output_type": "stream",
     "text": [
      "5/5 [==============================] - 2s 514ms/step - loss: 0.1762 - mae: 0.3414 - val_loss: 0.1519 - val_mae: 0.3139\n",
      "Epoch 18/500\n",
      "5/5 [==============================] - ETA: 0s - loss: 0.1502 - mae: 0.3104INFO:tensorflow:Assets written to: C:\\Users\\PARK\\Documents\\LAB\\RNN vs LSTM\\FInal Example\\wandb\\run-20221015_202009-2vru7228\\files\\model-best\\assets\n"
     ]
    },
    {
     "name": "stderr",
     "output_type": "stream",
     "text": [
      "\u001b[34m\u001b[1mwandb\u001b[0m: Adding directory to artifact (C:\\Users\\PARK\\Documents\\LAB\\RNN vs LSTM\\FInal Example\\wandb\\run-20221015_202009-2vru7228\\files\\model-best)... Done. 0.0s\n"
     ]
    },
    {
     "name": "stdout",
     "output_type": "stream",
     "text": [
      "5/5 [==============================] - 2s 495ms/step - loss: 0.1502 - mae: 0.3104 - val_loss: 0.1363 - val_mae: 0.2966\n",
      "Epoch 19/500\n",
      "5/5 [==============================] - 1s 163ms/step - loss: 0.1372 - mae: 0.2933 - val_loss: 0.1374 - val_mae: 0.2968\n",
      "Epoch 20/500\n",
      "5/5 [==============================] - ETA: 0s - loss: 0.1292 - mae: 0.2857INFO:tensorflow:Assets written to: C:\\Users\\PARK\\Documents\\LAB\\RNN vs LSTM\\FInal Example\\wandb\\run-20221015_202009-2vru7228\\files\\model-best\\assets\n"
     ]
    },
    {
     "name": "stderr",
     "output_type": "stream",
     "text": [
      "\u001b[34m\u001b[1mwandb\u001b[0m: Adding directory to artifact (C:\\Users\\PARK\\Documents\\LAB\\RNN vs LSTM\\FInal Example\\wandb\\run-20221015_202009-2vru7228\\files\\model-best)... Done. 0.0s\n"
     ]
    },
    {
     "name": "stdout",
     "output_type": "stream",
     "text": [
      "5/5 [==============================] - 2s 512ms/step - loss: 0.1292 - mae: 0.2857 - val_loss: 0.1330 - val_mae: 0.2903\n",
      "Epoch 21/500\n",
      "5/5 [==============================] - ETA: 0s - loss: 0.1287 - mae: 0.2838INFO:tensorflow:Assets written to: C:\\Users\\PARK\\Documents\\LAB\\RNN vs LSTM\\FInal Example\\wandb\\run-20221015_202009-2vru7228\\files\\model-best\\assets\n"
     ]
    },
    {
     "name": "stderr",
     "output_type": "stream",
     "text": [
      "\u001b[34m\u001b[1mwandb\u001b[0m: Adding directory to artifact (C:\\Users\\PARK\\Documents\\LAB\\RNN vs LSTM\\FInal Example\\wandb\\run-20221015_202009-2vru7228\\files\\model-best)... Done. 0.0s\n"
     ]
    },
    {
     "name": "stdout",
     "output_type": "stream",
     "text": [
      "5/5 [==============================] - 2s 521ms/step - loss: 0.1287 - mae: 0.2838 - val_loss: 0.1283 - val_mae: 0.2832\n",
      "Epoch 22/500\n",
      "5/5 [==============================] - 1s 187ms/step - loss: 0.1255 - mae: 0.2778 - val_loss: 0.1358 - val_mae: 0.2895\n",
      "Epoch 23/500\n",
      "5/5 [==============================] - 1s 158ms/step - loss: 0.1200 - mae: 0.2721 - val_loss: 0.1348 - val_mae: 0.2887\n",
      "Epoch 24/500\n",
      "5/5 [==============================] - 1s 158ms/step - loss: 0.1205 - mae: 0.2726 - val_loss: 0.1296 - val_mae: 0.2820\n",
      "Epoch 25/500\n",
      "5/5 [==============================] - 1s 152ms/step - loss: 0.1195 - mae: 0.2709 - val_loss: 0.1343 - val_mae: 0.2892\n",
      "Epoch 26/500\n",
      "5/5 [==============================] - 1s 151ms/step - loss: 0.1200 - mae: 0.2716 - val_loss: 0.1308 - val_mae: 0.2850\n",
      "Epoch 27/500\n",
      "5/5 [==============================] - 1s 153ms/step - loss: 0.1199 - mae: 0.2723 - val_loss: 0.1337 - val_mae: 0.2892\n",
      "Epoch 28/500\n",
      "5/5 [==============================] - 1s 149ms/step - loss: 0.1223 - mae: 0.2757 - val_loss: 0.1376 - val_mae: 0.2959\n",
      "Epoch 29/500\n",
      "5/5 [==============================] - 1s 151ms/step - loss: 0.1193 - mae: 0.2712 - val_loss: 0.1287 - val_mae: 0.2831\n",
      "Epoch 30/500\n",
      "5/5 [==============================] - 1s 152ms/step - loss: 0.1201 - mae: 0.2720 - val_loss: 0.1324 - val_mae: 0.2855\n",
      "Epoch 31/500\n",
      "5/5 [==============================] - 1s 149ms/step - loss: 0.1198 - mae: 0.2715 - val_loss: 0.1313 - val_mae: 0.2856\n",
      "Epoch 32/500\n",
      "5/5 [==============================] - 1s 152ms/step - loss: 0.1197 - mae: 0.2708 - val_loss: 0.1310 - val_mae: 0.2841\n",
      "Epoch 33/500\n",
      "5/5 [==============================] - 1s 154ms/step - loss: 0.1190 - mae: 0.2708 - val_loss: 0.1331 - val_mae: 0.2887\n",
      "Epoch 34/500\n",
      "5/5 [==============================] - 1s 152ms/step - loss: 0.1197 - mae: 0.2720 - val_loss: 0.1285 - val_mae: 0.2832\n",
      "Epoch 35/500\n",
      "5/5 [==============================] - 1s 151ms/step - loss: 0.1212 - mae: 0.2721 - val_loss: 0.1318 - val_mae: 0.2869\n",
      "Epoch 36/500\n",
      "5/5 [==============================] - 1s 149ms/step - loss: 0.1204 - mae: 0.2725 - val_loss: 0.1348 - val_mae: 0.2930\n",
      "Epoch 37/500\n",
      "5/5 [==============================] - 1s 157ms/step - loss: 0.1205 - mae: 0.2738 - val_loss: 0.1316 - val_mae: 0.2858\n",
      "Epoch 38/500\n",
      "5/5 [==============================] - 1s 151ms/step - loss: 0.1203 - mae: 0.2722 - val_loss: 0.1336 - val_mae: 0.2871\n",
      "Epoch 39/500\n",
      "5/5 [==============================] - 1s 152ms/step - loss: 0.1202 - mae: 0.2720 - val_loss: 0.1286 - val_mae: 0.2833\n",
      "Epoch 40/500\n",
      "5/5 [==============================] - 1s 145ms/step - loss: 0.1207 - mae: 0.2737 - val_loss: 0.1304 - val_mae: 0.2831\n",
      "Epoch 41/500\n",
      "5/5 [==============================] - 1s 147ms/step - loss: 0.1247 - mae: 0.2766 - val_loss: 0.1286 - val_mae: 0.2827\n",
      "Epoch 42/500\n",
      "5/5 [==============================] - 1s 146ms/step - loss: 0.1246 - mae: 0.2781 - val_loss: 0.1446 - val_mae: 0.3030\n",
      "Epoch 43/500\n",
      "5/5 [==============================] - ETA: 0s - loss: 0.1224 - mae: 0.2759INFO:tensorflow:Assets written to: C:\\Users\\PARK\\Documents\\LAB\\RNN vs LSTM\\FInal Example\\wandb\\run-20221015_202009-2vru7228\\files\\model-best\\assets\n"
     ]
    },
    {
     "name": "stderr",
     "output_type": "stream",
     "text": [
      "\u001b[34m\u001b[1mwandb\u001b[0m: Adding directory to artifact (C:\\Users\\PARK\\Documents\\LAB\\RNN vs LSTM\\FInal Example\\wandb\\run-20221015_202009-2vru7228\\files\\model-best)... Done. 0.1s\n"
     ]
    },
    {
     "name": "stdout",
     "output_type": "stream",
     "text": [
      "5/5 [==============================] - 2s 519ms/step - loss: 0.1224 - mae: 0.2759 - val_loss: 0.1265 - val_mae: 0.2803\n",
      "Epoch 44/500\n",
      "5/5 [==============================] - 1s 166ms/step - loss: 0.1222 - mae: 0.2739 - val_loss: 0.1340 - val_mae: 0.2880\n",
      "Epoch 45/500\n",
      "5/5 [==============================] - 1s 149ms/step - loss: 0.1197 - mae: 0.2726 - val_loss: 0.1376 - val_mae: 0.2929\n",
      "Epoch 46/500\n",
      "5/5 [==============================] - 1s 151ms/step - loss: 0.1228 - mae: 0.2754 - val_loss: 0.1285 - val_mae: 0.2824\n",
      "Epoch 47/500\n",
      "5/5 [==============================] - 1s 153ms/step - loss: 0.1192 - mae: 0.2709 - val_loss: 0.1423 - val_mae: 0.3010\n",
      "Epoch 48/500\n",
      "5/5 [==============================] - 1s 151ms/step - loss: 0.1215 - mae: 0.2754 - val_loss: 0.1294 - val_mae: 0.2834\n",
      "Epoch 49/500\n",
      "5/5 [==============================] - 1s 150ms/step - loss: 0.1203 - mae: 0.2713 - val_loss: 0.1292 - val_mae: 0.2830\n",
      "Epoch 50/500\n",
      "5/5 [==============================] - 1s 147ms/step - loss: 0.1194 - mae: 0.2707 - val_loss: 0.1316 - val_mae: 0.2859\n",
      "Epoch 51/500\n",
      "5/5 [==============================] - 1s 155ms/step - loss: 0.1209 - mae: 0.2733 - val_loss: 0.1356 - val_mae: 0.2918\n",
      "Epoch 52/500\n",
      "5/5 [==============================] - 1s 154ms/step - loss: 0.1196 - mae: 0.2715 - val_loss: 0.1268 - val_mae: 0.2803\n",
      "Epoch 53/500\n",
      "5/5 [==============================] - 1s 145ms/step - loss: 0.1220 - mae: 0.2742 - val_loss: 0.1313 - val_mae: 0.2855\n",
      "Epoch 54/500\n",
      "5/5 [==============================] - 1s 144ms/step - loss: 0.1198 - mae: 0.2713 - val_loss: 0.1282 - val_mae: 0.2820\n",
      "Epoch 55/500\n",
      "5/5 [==============================] - 1s 142ms/step - loss: 0.1199 - mae: 0.2716 - val_loss: 0.1333 - val_mae: 0.2914\n",
      "Epoch 56/500\n",
      "5/5 [==============================] - 1s 144ms/step - loss: 0.1202 - mae: 0.2730 - val_loss: 0.1300 - val_mae: 0.2851\n",
      "Epoch 57/500\n",
      "5/5 [==============================] - 1s 148ms/step - loss: 0.1248 - mae: 0.2765 - val_loss: 0.1291 - val_mae: 0.2819\n",
      "Epoch 58/500\n",
      "5/5 [==============================] - 1s 147ms/step - loss: 0.1297 - mae: 0.2834 - val_loss: 0.1343 - val_mae: 0.2880\n",
      "Epoch 59/500\n",
      "5/5 [==============================] - 1s 150ms/step - loss: 0.1264 - mae: 0.2793 - val_loss: 0.1266 - val_mae: 0.2793\n",
      "Epoch 60/500\n",
      "5/5 [==============================] - 1s 149ms/step - loss: 0.1265 - mae: 0.2804 - val_loss: 0.1537 - val_mae: 0.3130\n",
      "Epoch 61/500\n",
      "5/5 [==============================] - 1s 151ms/step - loss: 0.1253 - mae: 0.2792 - val_loss: 0.1292 - val_mae: 0.2851\n",
      "Epoch 62/500\n",
      "5/5 [==============================] - 1s 150ms/step - loss: 0.1229 - mae: 0.2750 - val_loss: 0.1410 - val_mae: 0.2958\n",
      "Epoch 63/500\n",
      "5/5 [==============================] - 1s 148ms/step - loss: 0.1231 - mae: 0.2768 - val_loss: 0.1306 - val_mae: 0.2858\n",
      "Epoch 64/500\n",
      "5/5 [==============================] - 1s 150ms/step - loss: 0.1214 - mae: 0.2740 - val_loss: 0.1295 - val_mae: 0.2839\n",
      "Epoch 65/500\n",
      "5/5 [==============================] - 1s 151ms/step - loss: 0.1221 - mae: 0.2729 - val_loss: 0.1282 - val_mae: 0.2810\n",
      "Epoch 66/500\n",
      "5/5 [==============================] - 1s 151ms/step - loss: 0.1232 - mae: 0.2758 - val_loss: 0.1351 - val_mae: 0.2898\n",
      "Epoch 67/500\n",
      "5/5 [==============================] - 1s 155ms/step - loss: 0.1198 - mae: 0.2719 - val_loss: 0.1269 - val_mae: 0.2806\n",
      "Epoch 68/500\n",
      "5/5 [==============================] - 1s 152ms/step - loss: 0.1201 - mae: 0.2721 - val_loss: 0.1346 - val_mae: 0.2892\n",
      "Epoch 69/500\n",
      "5/5 [==============================] - 1s 152ms/step - loss: 0.1224 - mae: 0.2753 - val_loss: 0.1283 - val_mae: 0.2829\n",
      "Epoch 70/500\n",
      "5/5 [==============================] - 1s 145ms/step - loss: 0.1331 - mae: 0.2879 - val_loss: 0.1307 - val_mae: 0.2834\n",
      "Epoch 71/500\n",
      "5/5 [==============================] - 1s 149ms/step - loss: 0.1329 - mae: 0.2905 - val_loss: 0.1467 - val_mae: 0.3046\n",
      "Epoch 72/500\n",
      "5/5 [==============================] - 1s 149ms/step - loss: 0.1254 - mae: 0.2787 - val_loss: 0.1268 - val_mae: 0.2805\n",
      "Epoch 73/500\n",
      "5/5 [==============================] - 1s 151ms/step - loss: 0.1271 - mae: 0.2796 - val_loss: 0.1369 - val_mae: 0.2931\n",
      "Epoch 74/500\n",
      "5/5 [==============================] - 1s 152ms/step - loss: 0.1249 - mae: 0.2796 - val_loss: 0.1318 - val_mae: 0.2892\n",
      "Epoch 75/500\n",
      "5/5 [==============================] - 1s 151ms/step - loss: 0.1262 - mae: 0.2785 - val_loss: 0.1305 - val_mae: 0.2853\n",
      "Epoch 76/500\n",
      "5/5 [==============================] - 1s 151ms/step - loss: 0.1275 - mae: 0.2811 - val_loss: 0.1362 - val_mae: 0.2908\n",
      "Epoch 77/500\n",
      "5/5 [==============================] - 1s 151ms/step - loss: 0.1319 - mae: 0.2854 - val_loss: 0.1267 - val_mae: 0.2802\n",
      "Epoch 78/500\n",
      "5/5 [==============================] - 1s 151ms/step - loss: 0.1318 - mae: 0.2863 - val_loss: 0.1412 - val_mae: 0.2981\n",
      "Epoch 79/500\n",
      "5/5 [==============================] - 1s 149ms/step - loss: 0.1240 - mae: 0.2782 - val_loss: 0.1269 - val_mae: 0.2831\n",
      "Epoch 80/500\n",
      "5/5 [==============================] - 1s 150ms/step - loss: 0.1292 - mae: 0.2821 - val_loss: 0.1360 - val_mae: 0.2925\n",
      "Epoch 81/500\n",
      "5/5 [==============================] - 1s 151ms/step - loss: 0.1265 - mae: 0.2823 - val_loss: 0.1314 - val_mae: 0.2862\n",
      "Epoch 82/500\n",
      "5/5 [==============================] - 1s 154ms/step - loss: 0.1286 - mae: 0.2829 - val_loss: 0.1268 - val_mae: 0.2797\n",
      "Epoch 83/500\n",
      "5/5 [==============================] - 1s 158ms/step - loss: 0.1240 - mae: 0.2781 - val_loss: 0.1507 - val_mae: 0.3099\n",
      "Epoch 84/500\n",
      "5/5 [==============================] - ETA: 0s - loss: 0.1251 - mae: 0.2792INFO:tensorflow:Assets written to: C:\\Users\\PARK\\Documents\\LAB\\RNN vs LSTM\\FInal Example\\wandb\\run-20221015_202009-2vru7228\\files\\model-best\\assets\n"
     ]
    },
    {
     "name": "stderr",
     "output_type": "stream",
     "text": [
      "\u001b[34m\u001b[1mwandb\u001b[0m: Adding directory to artifact (C:\\Users\\PARK\\Documents\\LAB\\RNN vs LSTM\\FInal Example\\wandb\\run-20221015_202009-2vru7228\\files\\model-best)... Done. 0.1s\n"
     ]
    },
    {
     "name": "stdout",
     "output_type": "stream",
     "text": [
      "5/5 [==============================] - 2s 513ms/step - loss: 0.1251 - mae: 0.2792 - val_loss: 0.1254 - val_mae: 0.2779\n",
      "Epoch 85/500\n",
      "5/5 [==============================] - 1s 185ms/step - loss: 0.1295 - mae: 0.2830 - val_loss: 0.1342 - val_mae: 0.2887\n",
      "Epoch 86/500\n",
      "5/5 [==============================] - 1s 153ms/step - loss: 0.1317 - mae: 0.2885 - val_loss: 0.1377 - val_mae: 0.2955\n",
      "Epoch 87/500\n",
      "5/5 [==============================] - 1s 151ms/step - loss: 0.1260 - mae: 0.2789 - val_loss: 0.1272 - val_mae: 0.2800\n",
      "Epoch 88/500\n",
      "5/5 [==============================] - 1s 147ms/step - loss: 0.1302 - mae: 0.2834 - val_loss: 0.1346 - val_mae: 0.2904\n",
      "Epoch 89/500\n",
      "5/5 [==============================] - 1s 150ms/step - loss: 0.1241 - mae: 0.2778 - val_loss: 0.1281 - val_mae: 0.2844\n",
      "Epoch 90/500\n",
      "5/5 [==============================] - 1s 152ms/step - loss: 0.1260 - mae: 0.2795 - val_loss: 0.1348 - val_mae: 0.2910\n",
      "Epoch 91/500\n",
      "5/5 [==============================] - 1s 149ms/step - loss: 0.1297 - mae: 0.2838 - val_loss: 0.1332 - val_mae: 0.2889\n",
      "Epoch 92/500\n",
      "5/5 [==============================] - ETA: 0s - loss: 0.1225 - mae: 0.2754INFO:tensorflow:Assets written to: C:\\Users\\PARK\\Documents\\LAB\\RNN vs LSTM\\FInal Example\\wandb\\run-20221015_202009-2vru7228\\files\\model-best\\assets\n"
     ]
    },
    {
     "name": "stderr",
     "output_type": "stream",
     "text": [
      "\u001b[34m\u001b[1mwandb\u001b[0m: Adding directory to artifact (C:\\Users\\PARK\\Documents\\LAB\\RNN vs LSTM\\FInal Example\\wandb\\run-20221015_202009-2vru7228\\files\\model-best)... Done. 0.1s\n"
     ]
    },
    {
     "name": "stdout",
     "output_type": "stream",
     "text": [
      "5/5 [==============================] - 2s 504ms/step - loss: 0.1225 - mae: 0.2754 - val_loss: 0.1252 - val_mae: 0.2782\n",
      "Epoch 93/500\n",
      "5/5 [==============================] - 1s 179ms/step - loss: 0.1263 - mae: 0.2788 - val_loss: 0.1376 - val_mae: 0.2942\n",
      "Epoch 94/500\n",
      "5/5 [==============================] - 1s 159ms/step - loss: 0.1261 - mae: 0.2802 - val_loss: 0.1272 - val_mae: 0.2833\n",
      "Epoch 95/500\n",
      "5/5 [==============================] - 1s 151ms/step - loss: 0.1299 - mae: 0.2839 - val_loss: 0.1302 - val_mae: 0.2838\n",
      "Epoch 96/500\n",
      "5/5 [==============================] - 1s 149ms/step - loss: 0.1232 - mae: 0.2771 - val_loss: 0.1328 - val_mae: 0.2891\n",
      "Epoch 97/500\n",
      "5/5 [==============================] - 1s 147ms/step - loss: 0.1215 - mae: 0.2743 - val_loss: 0.1254 - val_mae: 0.2794\n",
      "Epoch 98/500\n",
      "5/5 [==============================] - 1s 148ms/step - loss: 0.1266 - mae: 0.2788 - val_loss: 0.1383 - val_mae: 0.2953\n",
      "Epoch 99/500\n",
      "5/5 [==============================] - 1s 150ms/step - loss: 0.1413 - mae: 0.2978 - val_loss: 0.1266 - val_mae: 0.2810\n",
      "Epoch 100/500\n",
      "5/5 [==============================] - 1s 147ms/step - loss: 0.1383 - mae: 0.2948 - val_loss: 0.1304 - val_mae: 0.2850\n",
      "Epoch 101/500\n",
      "5/5 [==============================] - 1s 148ms/step - loss: 0.1295 - mae: 0.2830 - val_loss: 0.1423 - val_mae: 0.3046\n",
      "Epoch 102/500\n",
      "5/5 [==============================] - 1s 148ms/step - loss: 0.1281 - mae: 0.2836 - val_loss: 0.1296 - val_mae: 0.2868\n",
      "Epoch 103/500\n",
      "5/5 [==============================] - 1s 150ms/step - loss: 0.1243 - mae: 0.2768 - val_loss: 0.1280 - val_mae: 0.2809\n",
      "Epoch 104/500\n",
      "5/5 [==============================] - 1s 147ms/step - loss: 0.1245 - mae: 0.2790 - val_loss: 0.1300 - val_mae: 0.2838\n",
      "Epoch 105/500\n",
      "5/5 [==============================] - 1s 152ms/step - loss: 0.1269 - mae: 0.2792 - val_loss: 0.1265 - val_mae: 0.2817\n",
      "Epoch 106/500\n",
      "5/5 [==============================] - 1s 150ms/step - loss: 0.1222 - mae: 0.2765 - val_loss: 0.1407 - val_mae: 0.3002\n",
      "Epoch 107/500\n",
      "5/5 [==============================] - ETA: 0s - loss: 0.1281 - mae: 0.2840INFO:tensorflow:Assets written to: C:\\Users\\PARK\\Documents\\LAB\\RNN vs LSTM\\FInal Example\\wandb\\run-20221015_202009-2vru7228\\files\\model-best\\assets\n"
     ]
    },
    {
     "name": "stderr",
     "output_type": "stream",
     "text": [
      "\u001b[34m\u001b[1mwandb\u001b[0m: Adding directory to artifact (C:\\Users\\PARK\\Documents\\LAB\\RNN vs LSTM\\FInal Example\\wandb\\run-20221015_202009-2vru7228\\files\\model-best)... Done. 0.0s\n"
     ]
    },
    {
     "name": "stdout",
     "output_type": "stream",
     "text": [
      "5/5 [==============================] - 2s 510ms/step - loss: 0.1281 - mae: 0.2840 - val_loss: 0.1232 - val_mae: 0.2754\n",
      "Epoch 108/500\n",
      "5/5 [==============================] - 1s 178ms/step - loss: 0.1260 - mae: 0.2799 - val_loss: 0.1333 - val_mae: 0.2885\n",
      "Epoch 109/500\n",
      "5/5 [==============================] - 1s 152ms/step - loss: 0.1255 - mae: 0.2792 - val_loss: 0.1257 - val_mae: 0.2802\n",
      "Epoch 110/500\n",
      "5/5 [==============================] - 1s 149ms/step - loss: 0.1269 - mae: 0.2819 - val_loss: 0.1302 - val_mae: 0.2858\n",
      "Epoch 111/500\n",
      "5/5 [==============================] - 1s 148ms/step - loss: 0.1245 - mae: 0.2782 - val_loss: 0.1281 - val_mae: 0.2816\n",
      "Epoch 112/500\n",
      "5/5 [==============================] - 1s 149ms/step - loss: 0.1270 - mae: 0.2816 - val_loss: 0.1275 - val_mae: 0.2811\n",
      "Epoch 113/500\n",
      "5/5 [==============================] - 1s 150ms/step - loss: 0.1233 - mae: 0.2755 - val_loss: 0.1348 - val_mae: 0.2908\n",
      "Epoch 114/500\n",
      "5/5 [==============================] - 1s 149ms/step - loss: 0.1355 - mae: 0.2914 - val_loss: 0.1255 - val_mae: 0.2790\n",
      "Epoch 115/500\n",
      "5/5 [==============================] - 1s 149ms/step - loss: 0.1285 - mae: 0.2821 - val_loss: 0.1311 - val_mae: 0.2845\n",
      "Epoch 116/500\n",
      "5/5 [==============================] - 1s 151ms/step - loss: 0.1280 - mae: 0.2834 - val_loss: 0.1273 - val_mae: 0.2815\n",
      "Epoch 117/500\n",
      "5/5 [==============================] - 1s 151ms/step - loss: 0.1300 - mae: 0.2838 - val_loss: 0.1281 - val_mae: 0.2846\n",
      "Epoch 118/500\n",
      "5/5 [==============================] - 1s 150ms/step - loss: 0.1275 - mae: 0.2818 - val_loss: 0.1283 - val_mae: 0.2839\n",
      "Epoch 119/500\n",
      "5/5 [==============================] - 1s 152ms/step - loss: 0.1290 - mae: 0.2850 - val_loss: 0.1257 - val_mae: 0.2791\n",
      "Epoch 120/500\n",
      "5/5 [==============================] - 1s 150ms/step - loss: 0.1319 - mae: 0.2849 - val_loss: 0.1328 - val_mae: 0.2889\n",
      "Epoch 121/500\n",
      "5/5 [==============================] - 1s 150ms/step - loss: 0.1277 - mae: 0.2831 - val_loss: 0.1290 - val_mae: 0.2839\n",
      "Epoch 122/500\n",
      "5/5 [==============================] - 1s 152ms/step - loss: 0.1273 - mae: 0.2806 - val_loss: 0.1297 - val_mae: 0.2832\n",
      "Epoch 123/500\n",
      "5/5 [==============================] - 1s 161ms/step - loss: 0.1244 - mae: 0.2787 - val_loss: 0.1261 - val_mae: 0.2815\n",
      "Epoch 124/500\n",
      "5/5 [==============================] - 1s 157ms/step - loss: 0.1286 - mae: 0.2816 - val_loss: 0.1290 - val_mae: 0.2839\n",
      "Epoch 125/500\n",
      "5/5 [==============================] - 1s 154ms/step - loss: 0.1260 - mae: 0.2794 - val_loss: 0.1259 - val_mae: 0.2811\n",
      "Epoch 126/500\n",
      "5/5 [==============================] - 1s 151ms/step - loss: 0.1310 - mae: 0.2867 - val_loss: 0.1244 - val_mae: 0.2770\n",
      "Epoch 127/500\n",
      "5/5 [==============================] - 1s 149ms/step - loss: 0.1303 - mae: 0.2831 - val_loss: 0.1324 - val_mae: 0.2859\n",
      "Epoch 128/500\n",
      "5/5 [==============================] - 1s 151ms/step - loss: 0.1302 - mae: 0.2854 - val_loss: 0.1261 - val_mae: 0.2800\n",
      "Epoch 129/500\n",
      "5/5 [==============================] - 1s 151ms/step - loss: 0.1285 - mae: 0.2823 - val_loss: 0.1285 - val_mae: 0.2828\n",
      "Epoch 130/500\n",
      "5/5 [==============================] - 1s 153ms/step - loss: 0.1247 - mae: 0.2788 - val_loss: 0.1256 - val_mae: 0.2805\n",
      "Epoch 131/500\n",
      "5/5 [==============================] - ETA: 0s - loss: 0.1269 - mae: 0.2808INFO:tensorflow:Assets written to: C:\\Users\\PARK\\Documents\\LAB\\RNN vs LSTM\\FInal Example\\wandb\\run-20221015_202009-2vru7228\\files\\model-best\\assets\n"
     ]
    },
    {
     "name": "stderr",
     "output_type": "stream",
     "text": [
      "\u001b[34m\u001b[1mwandb\u001b[0m: Adding directory to artifact (C:\\Users\\PARK\\Documents\\LAB\\RNN vs LSTM\\FInal Example\\wandb\\run-20221015_202009-2vru7228\\files\\model-best)... Done. 0.1s\n"
     ]
    },
    {
     "name": "stdout",
     "output_type": "stream",
     "text": [
      "5/5 [==============================] - 2s 494ms/step - loss: 0.1269 - mae: 0.2808 - val_loss: 0.1213 - val_mae: 0.2725\n",
      "Epoch 132/500\n",
      "5/5 [==============================] - 1s 174ms/step - loss: 0.1240 - mae: 0.2764 - val_loss: 0.1232 - val_mae: 0.2756\n",
      "Epoch 133/500\n",
      "5/5 [==============================] - 1s 151ms/step - loss: 0.1261 - mae: 0.2806 - val_loss: 0.1217 - val_mae: 0.2754\n",
      "Epoch 134/500\n",
      "5/5 [==============================] - 1s 152ms/step - loss: 0.1300 - mae: 0.2832 - val_loss: 0.1272 - val_mae: 0.2797\n",
      "Epoch 135/500\n",
      "5/5 [==============================] - 1s 152ms/step - loss: 0.1277 - mae: 0.2818 - val_loss: 0.1245 - val_mae: 0.2800\n",
      "Epoch 136/500\n",
      "5/5 [==============================] - 1s 157ms/step - loss: 0.1271 - mae: 0.2807 - val_loss: 0.1323 - val_mae: 0.2872\n",
      "Epoch 137/500\n",
      "5/5 [==============================] - 1s 159ms/step - loss: 0.1263 - mae: 0.2812 - val_loss: 0.1266 - val_mae: 0.2796\n",
      "Epoch 138/500\n",
      "5/5 [==============================] - 1s 157ms/step - loss: 0.1286 - mae: 0.2820 - val_loss: 0.1223 - val_mae: 0.2755\n",
      "Epoch 139/500\n",
      "5/5 [==============================] - 1s 151ms/step - loss: 0.1249 - mae: 0.2793 - val_loss: 0.1340 - val_mae: 0.2928\n",
      "Epoch 140/500\n",
      "5/5 [==============================] - 1s 146ms/step - loss: 0.1291 - mae: 0.2860 - val_loss: 0.1232 - val_mae: 0.2771\n",
      "Epoch 141/500\n",
      "5/5 [==============================] - 1s 146ms/step - loss: 0.1332 - mae: 0.2883 - val_loss: 0.1330 - val_mae: 0.2867\n",
      "Epoch 142/500\n",
      "5/5 [==============================] - 1s 150ms/step - loss: 0.1252 - mae: 0.2802 - val_loss: 0.1241 - val_mae: 0.2780\n",
      "Epoch 143/500\n",
      "5/5 [==============================] - 1s 150ms/step - loss: 0.1271 - mae: 0.2803 - val_loss: 0.1274 - val_mae: 0.2842\n",
      "Epoch 144/500\n",
      "5/5 [==============================] - 1s 147ms/step - loss: 0.1283 - mae: 0.2837 - val_loss: 0.1394 - val_mae: 0.2980\n",
      "Epoch 145/500\n",
      "5/5 [==============================] - 1s 145ms/step - loss: 0.1328 - mae: 0.2903 - val_loss: 0.1249 - val_mae: 0.2782\n",
      "Epoch 146/500\n",
      "5/5 [==============================] - 1s 149ms/step - loss: 0.1332 - mae: 0.2877 - val_loss: 0.1339 - val_mae: 0.2872\n",
      "Epoch 147/500\n",
      "5/5 [==============================] - 1s 146ms/step - loss: 0.1306 - mae: 0.2863 - val_loss: 0.1244 - val_mae: 0.2796\n",
      "Epoch 148/500\n",
      "5/5 [==============================] - 1s 150ms/step - loss: 0.1331 - mae: 0.2886 - val_loss: 0.1236 - val_mae: 0.2772\n",
      "Epoch 149/500\n",
      "5/5 [==============================] - 1s 148ms/step - loss: 0.1260 - mae: 0.2796 - val_loss: 0.1247 - val_mae: 0.2781\n",
      "Epoch 150/500\n",
      "5/5 [==============================] - 1s 149ms/step - loss: 0.1255 - mae: 0.2803 - val_loss: 0.1244 - val_mae: 0.2778\n",
      "Epoch 151/500\n",
      "5/5 [==============================] - 1s 150ms/step - loss: 0.1285 - mae: 0.2820 - val_loss: 0.1339 - val_mae: 0.2917\n",
      "Epoch 152/500\n",
      "5/5 [==============================] - 1s 155ms/step - loss: 0.1300 - mae: 0.2847 - val_loss: 0.1249 - val_mae: 0.2788\n",
      "Epoch 153/500\n",
      "5/5 [==============================] - 1s 157ms/step - loss: 0.1210 - mae: 0.2730 - val_loss: 0.1322 - val_mae: 0.2869\n",
      "Epoch 154/500\n",
      "5/5 [==============================] - 1s 150ms/step - loss: 0.1272 - mae: 0.2823 - val_loss: 0.1254 - val_mae: 0.2808\n",
      "Epoch 155/500\n",
      "5/5 [==============================] - 1s 148ms/step - loss: 0.1337 - mae: 0.2871 - val_loss: 0.1534 - val_mae: 0.3151\n",
      "Epoch 156/500\n",
      "5/5 [==============================] - 1s 146ms/step - loss: 0.1440 - mae: 0.3039 - val_loss: 0.1225 - val_mae: 0.2786\n",
      "Epoch 157/500\n",
      "5/5 [==============================] - 1s 148ms/step - loss: 0.1321 - mae: 0.2869 - val_loss: 0.1231 - val_mae: 0.2746\n",
      "Epoch 158/500\n",
      "5/5 [==============================] - 1s 150ms/step - loss: 0.1275 - mae: 0.2828 - val_loss: 0.1286 - val_mae: 0.2861\n",
      "Epoch 159/500\n",
      "5/5 [==============================] - 1s 148ms/step - loss: 0.1251 - mae: 0.2784 - val_loss: 0.1254 - val_mae: 0.2800\n",
      "Epoch 160/500\n",
      "5/5 [==============================] - 1s 148ms/step - loss: 0.1241 - mae: 0.2786 - val_loss: 0.1235 - val_mae: 0.2769\n",
      "Epoch 161/500\n",
      "5/5 [==============================] - 1s 149ms/step - loss: 0.1245 - mae: 0.2772 - val_loss: 0.1256 - val_mae: 0.2814\n",
      "Epoch 162/500\n",
      "4/5 [=======================>......] - ETA: 0s - loss: 0.1202 - mae: 0.2738INFO:tensorflow:Assets written to: C:\\Users\\PARK\\Documents\\LAB\\RNN vs LSTM\\FInal Example\\wandb\\run-20221015_202009-2vru7228\\files\\model-best\\assets\n"
     ]
    },
    {
     "name": "stderr",
     "output_type": "stream",
     "text": [
      "\u001b[34m\u001b[1mwandb\u001b[0m: Adding directory to artifact (C:\\Users\\PARK\\Documents\\LAB\\RNN vs LSTM\\FInal Example\\wandb\\run-20221015_202009-2vru7228\\files\\model-best)... Done. 0.0s\n"
     ]
    },
    {
     "name": "stdout",
     "output_type": "stream",
     "text": [
      "5/5 [==============================] - 2s 510ms/step - loss: 0.1266 - mae: 0.2824 - val_loss: 0.1192 - val_mae: 0.2724\n",
      "Epoch 163/500\n",
      "5/5 [==============================] - 1s 181ms/step - loss: 0.1235 - mae: 0.2764 - val_loss: 0.1204 - val_mae: 0.2723\n",
      "Epoch 164/500\n",
      "5/5 [==============================] - 1s 153ms/step - loss: 0.1222 - mae: 0.2750 - val_loss: 0.1337 - val_mae: 0.2918\n",
      "Epoch 165/500\n",
      "5/5 [==============================] - 1s 155ms/step - loss: 0.1297 - mae: 0.2843 - val_loss: 0.1290 - val_mae: 0.2851\n",
      "Epoch 166/500\n",
      "5/5 [==============================] - 1s 156ms/step - loss: 0.1262 - mae: 0.2803 - val_loss: 0.1238 - val_mae: 0.2797\n",
      "Epoch 167/500\n",
      "5/5 [==============================] - 1s 154ms/step - loss: 0.1243 - mae: 0.2794 - val_loss: 0.1336 - val_mae: 0.2933\n",
      "Epoch 168/500\n",
      "5/5 [==============================] - 1s 150ms/step - loss: 0.1230 - mae: 0.2783 - val_loss: 0.1241 - val_mae: 0.2816\n",
      "Epoch 169/500\n",
      "5/5 [==============================] - 1s 146ms/step - loss: 0.1244 - mae: 0.2794 - val_loss: 0.1265 - val_mae: 0.2813\n",
      "Epoch 170/500\n",
      "5/5 [==============================] - 1s 149ms/step - loss: 0.1230 - mae: 0.2760 - val_loss: 0.1333 - val_mae: 0.2931\n",
      "Epoch 171/500\n",
      "5/5 [==============================] - 1s 151ms/step - loss: 0.1238 - mae: 0.2794 - val_loss: 0.1311 - val_mae: 0.2890\n",
      "Epoch 172/500\n",
      "5/5 [==============================] - 1s 147ms/step - loss: 0.1280 - mae: 0.2829 - val_loss: 0.1340 - val_mae: 0.2898\n",
      "Epoch 173/500\n",
      "5/5 [==============================] - 1s 151ms/step - loss: 0.1278 - mae: 0.2819 - val_loss: 0.1354 - val_mae: 0.2956\n",
      "Epoch 174/500\n",
      "5/5 [==============================] - 1s 150ms/step - loss: 0.1413 - mae: 0.2995 - val_loss: 0.1344 - val_mae: 0.2944\n",
      "Epoch 175/500\n",
      "5/5 [==============================] - 1s 149ms/step - loss: 0.1275 - mae: 0.2809 - val_loss: 0.1514 - val_mae: 0.3135\n",
      "Epoch 176/500\n",
      "5/5 [==============================] - 1s 149ms/step - loss: 0.1335 - mae: 0.2880 - val_loss: 0.1214 - val_mae: 0.2752\n",
      "Epoch 177/500\n",
      "5/5 [==============================] - 1s 149ms/step - loss: 0.1225 - mae: 0.2758 - val_loss: 0.1305 - val_mae: 0.2881\n",
      "Epoch 178/500\n",
      "5/5 [==============================] - 1s 148ms/step - loss: 0.1243 - mae: 0.2799 - val_loss: 0.1304 - val_mae: 0.2932\n",
      "Epoch 179/500\n",
      "5/5 [==============================] - 1s 150ms/step - loss: 0.1318 - mae: 0.2864 - val_loss: 0.1252 - val_mae: 0.2813\n",
      "Epoch 180/500\n",
      "5/5 [==============================] - 1s 150ms/step - loss: 0.1239 - mae: 0.2801 - val_loss: 0.1330 - val_mae: 0.2882\n",
      "Epoch 181/500\n",
      "5/5 [==============================] - 1s 153ms/step - loss: 0.1242 - mae: 0.2780 - val_loss: 0.1399 - val_mae: 0.3012\n",
      "Epoch 182/500\n",
      "5/5 [==============================] - 1s 156ms/step - loss: 0.1373 - mae: 0.2953 - val_loss: 0.1403 - val_mae: 0.2993\n",
      "Epoch 183/500\n",
      "5/5 [==============================] - 1s 156ms/step - loss: 0.1325 - mae: 0.2878 - val_loss: 0.2159 - val_mae: 0.3767\n",
      "Epoch 184/500\n",
      "5/5 [==============================] - 1s 151ms/step - loss: 0.1495 - mae: 0.3083 - val_loss: 0.1238 - val_mae: 0.2819\n",
      "Epoch 185/500\n",
      "5/5 [==============================] - 1s 149ms/step - loss: 0.1280 - mae: 0.2826 - val_loss: 0.1343 - val_mae: 0.2913\n",
      "Epoch 186/500\n",
      "5/5 [==============================] - 1s 149ms/step - loss: 0.1297 - mae: 0.2867 - val_loss: 0.1746 - val_mae: 0.3332\n",
      "Epoch 187/500\n",
      "5/5 [==============================] - 1s 150ms/step - loss: 0.1402 - mae: 0.2950 - val_loss: 0.1396 - val_mae: 0.2993\n",
      "Epoch 188/500\n",
      "5/5 [==============================] - 1s 150ms/step - loss: 0.1307 - mae: 0.2840 - val_loss: 0.1337 - val_mae: 0.2923\n",
      "Epoch 189/500\n",
      "5/5 [==============================] - 1s 158ms/step - loss: 0.1235 - mae: 0.2786 - val_loss: 0.1286 - val_mae: 0.2868\n",
      "Epoch 190/500\n",
      "5/5 [==============================] - 1s 153ms/step - loss: 0.1226 - mae: 0.2781 - val_loss: 0.1476 - val_mae: 0.3101\n",
      "Epoch 191/500\n",
      "5/5 [==============================] - 1s 149ms/step - loss: 0.1334 - mae: 0.2892 - val_loss: 0.1219 - val_mae: 0.2774\n",
      "Epoch 192/500\n",
      "5/5 [==============================] - 1s 152ms/step - loss: 0.1265 - mae: 0.2822 - val_loss: 0.1265 - val_mae: 0.2871\n",
      "Epoch 193/500\n",
      "5/5 [==============================] - 1s 147ms/step - loss: 0.1208 - mae: 0.2765 - val_loss: 0.1240 - val_mae: 0.2795\n",
      "Epoch 194/500\n",
      "5/5 [==============================] - 1s 146ms/step - loss: 0.1196 - mae: 0.2730 - val_loss: 0.1287 - val_mae: 0.2872\n",
      "Epoch 195/500\n",
      "5/5 [==============================] - 1s 149ms/step - loss: 0.1250 - mae: 0.2814 - val_loss: 0.1209 - val_mae: 0.2803\n",
      "Epoch 196/500\n",
      "5/5 [==============================] - 1s 149ms/step - loss: 0.1231 - mae: 0.2788 - val_loss: 0.1538 - val_mae: 0.3127\n",
      "Epoch 197/500\n",
      "5/5 [==============================] - ETA: 0s - loss: 0.1267 - mae: 0.2831INFO:tensorflow:Assets written to: C:\\Users\\PARK\\Documents\\LAB\\RNN vs LSTM\\FInal Example\\wandb\\run-20221015_202009-2vru7228\\files\\model-best\\assets\n"
     ]
    },
    {
     "name": "stderr",
     "output_type": "stream",
     "text": [
      "\u001b[34m\u001b[1mwandb\u001b[0m: Adding directory to artifact (C:\\Users\\PARK\\Documents\\LAB\\RNN vs LSTM\\FInal Example\\wandb\\run-20221015_202009-2vru7228\\files\\model-best)... Done. 0.0s\n"
     ]
    },
    {
     "name": "stdout",
     "output_type": "stream",
     "text": [
      "5/5 [==============================] - 2s 501ms/step - loss: 0.1267 - mae: 0.2831 - val_loss: 0.1168 - val_mae: 0.2707\n",
      "Epoch 198/500\n",
      "5/5 [==============================] - 1s 182ms/step - loss: 0.1205 - mae: 0.2735 - val_loss: 0.1289 - val_mae: 0.2907\n",
      "Epoch 199/500\n",
      "5/5 [==============================] - 1s 148ms/step - loss: 0.1276 - mae: 0.2839 - val_loss: 0.1944 - val_mae: 0.3582\n",
      "Epoch 200/500\n",
      "5/5 [==============================] - 1s 149ms/step - loss: 0.1303 - mae: 0.2886 - val_loss: 0.1215 - val_mae: 0.2772\n",
      "Epoch 201/500\n",
      "5/5 [==============================] - 1s 149ms/step - loss: 0.1251 - mae: 0.2777 - val_loss: 0.1231 - val_mae: 0.2836\n",
      "Epoch 202/500\n",
      "5/5 [==============================] - 1s 149ms/step - loss: 0.1193 - mae: 0.2746 - val_loss: 0.1301 - val_mae: 0.2883\n",
      "Epoch 203/500\n",
      "5/5 [==============================] - 1s 151ms/step - loss: 0.1160 - mae: 0.2680 - val_loss: 0.1211 - val_mae: 0.2761\n",
      "Epoch 204/500\n",
      "5/5 [==============================] - 1s 150ms/step - loss: 0.1196 - mae: 0.2729 - val_loss: 0.1280 - val_mae: 0.2843\n",
      "Epoch 205/500\n",
      "5/5 [==============================] - 1s 148ms/step - loss: 0.1232 - mae: 0.2766 - val_loss: 0.1221 - val_mae: 0.2823\n",
      "Epoch 206/500\n",
      "5/5 [==============================] - 1s 148ms/step - loss: 0.1197 - mae: 0.2737 - val_loss: 0.1192 - val_mae: 0.2760\n",
      "Epoch 207/500\n",
      "5/5 [==============================] - 1s 151ms/step - loss: 0.1173 - mae: 0.2727 - val_loss: 0.1234 - val_mae: 0.2795\n",
      "Epoch 208/500\n",
      "5/5 [==============================] - 1s 147ms/step - loss: 0.1194 - mae: 0.2740 - val_loss: 0.1229 - val_mae: 0.2809\n",
      "Epoch 209/500\n",
      "5/5 [==============================] - 1s 147ms/step - loss: 0.1194 - mae: 0.2740 - val_loss: 0.1359 - val_mae: 0.2933\n",
      "Epoch 210/500\n",
      "5/5 [==============================] - 1s 150ms/step - loss: 0.1318 - mae: 0.2870 - val_loss: 0.1765 - val_mae: 0.3388\n",
      "Epoch 211/500\n",
      "5/5 [==============================] - 1s 154ms/step - loss: 0.1301 - mae: 0.2850 - val_loss: 0.1255 - val_mae: 0.2819\n",
      "Epoch 212/500\n",
      "5/5 [==============================] - ETA: 0s - loss: 0.1210 - mae: 0.2778INFO:tensorflow:Assets written to: C:\\Users\\PARK\\Documents\\LAB\\RNN vs LSTM\\FInal Example\\wandb\\run-20221015_202009-2vru7228\\files\\model-best\\assets\n"
     ]
    },
    {
     "name": "stderr",
     "output_type": "stream",
     "text": [
      "\u001b[34m\u001b[1mwandb\u001b[0m: Adding directory to artifact (C:\\Users\\PARK\\Documents\\LAB\\RNN vs LSTM\\FInal Example\\wandb\\run-20221015_202009-2vru7228\\files\\model-best)... Done. 0.0s\n"
     ]
    },
    {
     "name": "stdout",
     "output_type": "stream",
     "text": [
      "5/5 [==============================] - 2s 516ms/step - loss: 0.1210 - mae: 0.2778 - val_loss: 0.1120 - val_mae: 0.2691\n",
      "Epoch 213/500\n",
      "5/5 [==============================] - 1s 176ms/step - loss: 0.1132 - mae: 0.2678 - val_loss: 0.1141 - val_mae: 0.2694\n",
      "Epoch 214/500\n",
      "5/5 [==============================] - 1s 153ms/step - loss: 0.1105 - mae: 0.2622 - val_loss: 0.1164 - val_mae: 0.2700\n",
      "Epoch 215/500\n",
      "5/5 [==============================] - 1s 149ms/step - loss: 0.1123 - mae: 0.2662 - val_loss: 0.1170 - val_mae: 0.2748\n",
      "Epoch 216/500\n",
      "5/5 [==============================] - 1s 151ms/step - loss: 0.1098 - mae: 0.2625 - val_loss: 0.2143 - val_mae: 0.3758\n",
      "Epoch 217/500\n",
      "5/5 [==============================] - 1s 152ms/step - loss: 0.1642 - mae: 0.3224 - val_loss: 0.1229 - val_mae: 0.2775\n",
      "Epoch 218/500\n",
      "5/5 [==============================] - 1s 152ms/step - loss: 0.1574 - mae: 0.3107 - val_loss: 0.1957 - val_mae: 0.3511\n",
      "Epoch 219/500\n",
      "5/5 [==============================] - 1s 149ms/step - loss: 0.1564 - mae: 0.3082 - val_loss: 0.1479 - val_mae: 0.3092\n",
      "Epoch 220/500\n",
      "5/5 [==============================] - 1s 151ms/step - loss: 0.1252 - mae: 0.2818 - val_loss: 0.1449 - val_mae: 0.3026\n",
      "Epoch 221/500\n",
      "5/5 [==============================] - 1s 150ms/step - loss: 0.1334 - mae: 0.2885 - val_loss: 0.1265 - val_mae: 0.2846\n",
      "Epoch 222/500\n",
      "5/5 [==============================] - 1s 149ms/step - loss: 0.1379 - mae: 0.2964 - val_loss: 0.1256 - val_mae: 0.2851\n",
      "Epoch 223/500\n",
      "5/5 [==============================] - 1s 150ms/step - loss: 0.1206 - mae: 0.2738 - val_loss: 0.1315 - val_mae: 0.2859\n",
      "Epoch 224/500\n",
      "5/5 [==============================] - ETA: 0s - loss: 0.1136 - mae: 0.2673INFO:tensorflow:Assets written to: C:\\Users\\PARK\\Documents\\LAB\\RNN vs LSTM\\FInal Example\\wandb\\run-20221015_202009-2vru7228\\files\\model-best\\assets\n"
     ]
    },
    {
     "name": "stderr",
     "output_type": "stream",
     "text": [
      "\u001b[34m\u001b[1mwandb\u001b[0m: Adding directory to artifact (C:\\Users\\PARK\\Documents\\LAB\\RNN vs LSTM\\FInal Example\\wandb\\run-20221015_202009-2vru7228\\files\\model-best)... Done. 0.1s\n"
     ]
    },
    {
     "name": "stdout",
     "output_type": "stream",
     "text": [
      "5/5 [==============================] - 2s 533ms/step - loss: 0.1136 - mae: 0.2673 - val_loss: 0.1117 - val_mae: 0.2668\n",
      "Epoch 225/500\n",
      "5/5 [==============================] - 1s 159ms/step - loss: 0.1109 - mae: 0.2637 - val_loss: 0.1283 - val_mae: 0.2825\n",
      "Epoch 226/500\n",
      "5/5 [==============================] - 1s 155ms/step - loss: 0.1140 - mae: 0.2674 - val_loss: 0.1251 - val_mae: 0.2799\n",
      "Epoch 227/500\n",
      "5/5 [==============================] - 1s 153ms/step - loss: 0.1125 - mae: 0.2646 - val_loss: 0.1126 - val_mae: 0.2687\n",
      "Epoch 228/500\n",
      "5/5 [==============================] - 1s 152ms/step - loss: 0.1101 - mae: 0.2633 - val_loss: 0.1189 - val_mae: 0.2763\n",
      "Epoch 229/500\n",
      "5/5 [==============================] - 1s 153ms/step - loss: 0.1221 - mae: 0.2770 - val_loss: 0.1282 - val_mae: 0.2846\n",
      "Epoch 230/500\n",
      "5/5 [==============================] - 1s 156ms/step - loss: 0.1093 - mae: 0.2626 - val_loss: 0.1144 - val_mae: 0.2699\n",
      "Epoch 231/500\n",
      "5/5 [==============================] - 1s 156ms/step - loss: 0.1088 - mae: 0.2628 - val_loss: 0.1150 - val_mae: 0.2716\n",
      "Epoch 232/500\n",
      "5/5 [==============================] - ETA: 0s - loss: 0.1084 - mae: 0.2620INFO:tensorflow:Assets written to: C:\\Users\\PARK\\Documents\\LAB\\RNN vs LSTM\\FInal Example\\wandb\\run-20221015_202009-2vru7228\\files\\model-best\\assets\n"
     ]
    },
    {
     "name": "stderr",
     "output_type": "stream",
     "text": [
      "\u001b[34m\u001b[1mwandb\u001b[0m: Adding directory to artifact (C:\\Users\\PARK\\Documents\\LAB\\RNN vs LSTM\\FInal Example\\wandb\\run-20221015_202009-2vru7228\\files\\model-best)... Done. 0.1s\n"
     ]
    },
    {
     "name": "stdout",
     "output_type": "stream",
     "text": [
      "5/5 [==============================] - 2s 548ms/step - loss: 0.1084 - mae: 0.2620 - val_loss: 0.1067 - val_mae: 0.2577\n",
      "Epoch 233/500\n",
      "5/5 [==============================] - 1s 185ms/step - loss: 0.1105 - mae: 0.2643 - val_loss: 0.1195 - val_mae: 0.2802\n",
      "Epoch 234/500\n",
      "5/5 [==============================] - 1s 156ms/step - loss: 0.1124 - mae: 0.2675 - val_loss: 0.1069 - val_mae: 0.2599\n",
      "Epoch 235/500\n",
      "5/5 [==============================] - ETA: 0s - loss: 0.1110 - mae: 0.2642INFO:tensorflow:Assets written to: C:\\Users\\PARK\\Documents\\LAB\\RNN vs LSTM\\FInal Example\\wandb\\run-20221015_202009-2vru7228\\files\\model-best\\assets\n"
     ]
    },
    {
     "name": "stderr",
     "output_type": "stream",
     "text": [
      "\u001b[34m\u001b[1mwandb\u001b[0m: Adding directory to artifact (C:\\Users\\PARK\\Documents\\LAB\\RNN vs LSTM\\FInal Example\\wandb\\run-20221015_202009-2vru7228\\files\\model-best)... Done. 0.0s\n"
     ]
    },
    {
     "name": "stdout",
     "output_type": "stream",
     "text": [
      "5/5 [==============================] - 2s 508ms/step - loss: 0.1110 - mae: 0.2642 - val_loss: 0.1060 - val_mae: 0.2585\n",
      "Epoch 236/500\n",
      "5/5 [==============================] - 1s 151ms/step - loss: 0.1081 - mae: 0.2596 - val_loss: 0.1095 - val_mae: 0.2642\n",
      "Epoch 237/500\n",
      "5/5 [==============================] - 1s 149ms/step - loss: 0.1122 - mae: 0.2680 - val_loss: 0.1126 - val_mae: 0.2675\n",
      "Epoch 238/500\n",
      "5/5 [==============================] - ETA: 0s - loss: 0.1044 - mae: 0.2556INFO:tensorflow:Assets written to: C:\\Users\\PARK\\Documents\\LAB\\RNN vs LSTM\\FInal Example\\wandb\\run-20221015_202009-2vru7228\\files\\model-best\\assets\n"
     ]
    },
    {
     "name": "stderr",
     "output_type": "stream",
     "text": [
      "\u001b[34m\u001b[1mwandb\u001b[0m: Adding directory to artifact (C:\\Users\\PARK\\Documents\\LAB\\RNN vs LSTM\\FInal Example\\wandb\\run-20221015_202009-2vru7228\\files\\model-best)... Done. 0.1s\n"
     ]
    },
    {
     "name": "stdout",
     "output_type": "stream",
     "text": [
      "5/5 [==============================] - 2s 504ms/step - loss: 0.1044 - mae: 0.2556 - val_loss: 0.1003 - val_mae: 0.2510\n",
      "Epoch 239/500\n",
      "5/5 [==============================] - 1s 175ms/step - loss: 0.1082 - mae: 0.2589 - val_loss: 0.1325 - val_mae: 0.2941\n",
      "Epoch 240/500\n",
      "5/5 [==============================] - 1s 152ms/step - loss: 0.1343 - mae: 0.2909 - val_loss: 0.1090 - val_mae: 0.2649\n",
      "Epoch 241/500\n",
      "5/5 [==============================] - 1s 152ms/step - loss: 0.1132 - mae: 0.2662 - val_loss: 0.1129 - val_mae: 0.2691\n",
      "Epoch 242/500\n",
      "5/5 [==============================] - 1s 151ms/step - loss: 0.1143 - mae: 0.2676 - val_loss: 0.1746 - val_mae: 0.3356\n",
      "Epoch 243/500\n",
      "5/5 [==============================] - 1s 149ms/step - loss: 0.1199 - mae: 0.2755 - val_loss: 0.1155 - val_mae: 0.2684\n",
      "Epoch 244/500\n",
      "5/5 [==============================] - 1s 149ms/step - loss: 0.1066 - mae: 0.2597 - val_loss: 0.1057 - val_mae: 0.2612\n",
      "Epoch 245/500\n",
      "5/5 [==============================] - 1s 151ms/step - loss: 0.1076 - mae: 0.2597 - val_loss: 0.1076 - val_mae: 0.2657\n",
      "Epoch 246/500\n",
      "5/5 [==============================] - ETA: 0s - loss: 0.1095 - mae: 0.2632INFO:tensorflow:Assets written to: C:\\Users\\PARK\\Documents\\LAB\\RNN vs LSTM\\FInal Example\\wandb\\run-20221015_202009-2vru7228\\files\\model-best\\assets\n"
     ]
    },
    {
     "name": "stderr",
     "output_type": "stream",
     "text": [
      "\u001b[34m\u001b[1mwandb\u001b[0m: Adding directory to artifact (C:\\Users\\PARK\\Documents\\LAB\\RNN vs LSTM\\FInal Example\\wandb\\run-20221015_202009-2vru7228\\files\\model-best)... Done. 0.1s\n"
     ]
    },
    {
     "name": "stdout",
     "output_type": "stream",
     "text": [
      "5/5 [==============================] - 2s 546ms/step - loss: 0.1095 - mae: 0.2632 - val_loss: 0.1003 - val_mae: 0.2537\n",
      "Epoch 247/500\n",
      "5/5 [==============================] - 1s 193ms/step - loss: 0.1097 - mae: 0.2638 - val_loss: 0.1119 - val_mae: 0.2729\n",
      "Epoch 248/500\n",
      "4/5 [=======================>......] - ETA: 0s - loss: 0.1066 - mae: 0.2605INFO:tensorflow:Assets written to: C:\\Users\\PARK\\Documents\\LAB\\RNN vs LSTM\\FInal Example\\wandb\\run-20221015_202009-2vru7228\\files\\model-best\\assets\n"
     ]
    },
    {
     "name": "stderr",
     "output_type": "stream",
     "text": [
      "\u001b[34m\u001b[1mwandb\u001b[0m: Adding directory to artifact (C:\\Users\\PARK\\Documents\\LAB\\RNN vs LSTM\\FInal Example\\wandb\\run-20221015_202009-2vru7228\\files\\model-best)... Done. 0.0s\n"
     ]
    },
    {
     "name": "stdout",
     "output_type": "stream",
     "text": [
      "5/5 [==============================] - 2s 487ms/step - loss: 0.1070 - mae: 0.2611 - val_loss: 0.0972 - val_mae: 0.2481\n",
      "Epoch 249/500\n",
      "5/5 [==============================] - 1s 180ms/step - loss: 0.1058 - mae: 0.2595 - val_loss: 0.1006 - val_mae: 0.2516\n",
      "Epoch 250/500\n",
      "5/5 [==============================] - 1s 148ms/step - loss: 0.1005 - mae: 0.2520 - val_loss: 0.1265 - val_mae: 0.2887\n",
      "Epoch 251/500\n",
      "5/5 [==============================] - 1s 145ms/step - loss: 0.1030 - mae: 0.2546 - val_loss: 0.1170 - val_mae: 0.2705\n",
      "Epoch 252/500\n",
      "5/5 [==============================] - 1s 149ms/step - loss: 0.1087 - mae: 0.2598 - val_loss: 0.1350 - val_mae: 0.2966\n",
      "Epoch 253/500\n",
      "5/5 [==============================] - 1s 150ms/step - loss: 0.1192 - mae: 0.2750 - val_loss: 0.1883 - val_mae: 0.3512\n",
      "Epoch 254/500\n",
      "5/5 [==============================] - 1s 153ms/step - loss: 0.1442 - mae: 0.3009 - val_loss: 0.1627 - val_mae: 0.3254\n",
      "Epoch 255/500\n",
      "5/5 [==============================] - 1s 153ms/step - loss: 0.1287 - mae: 0.2832 - val_loss: 0.1138 - val_mae: 0.2677\n",
      "Epoch 256/500\n",
      "5/5 [==============================] - 1s 154ms/step - loss: 0.1140 - mae: 0.2707 - val_loss: 0.1042 - val_mae: 0.2596\n",
      "Epoch 257/500\n",
      "5/5 [==============================] - 1s 157ms/step - loss: 0.1098 - mae: 0.2644 - val_loss: 0.0985 - val_mae: 0.2519\n",
      "Epoch 258/500\n",
      "5/5 [==============================] - 1s 154ms/step - loss: 0.0954 - mae: 0.2446 - val_loss: 0.1026 - val_mae: 0.2533\n",
      "Epoch 259/500\n",
      "5/5 [==============================] - 1s 149ms/step - loss: 0.1027 - mae: 0.2552 - val_loss: 0.1280 - val_mae: 0.2903\n",
      "Epoch 260/500\n",
      "5/5 [==============================] - 1s 146ms/step - loss: 0.1018 - mae: 0.2547 - val_loss: 0.0990 - val_mae: 0.2496\n",
      "Epoch 261/500\n",
      "5/5 [==============================] - 1s 150ms/step - loss: 0.1184 - mae: 0.2735 - val_loss: 0.1295 - val_mae: 0.2913\n",
      "Epoch 262/500\n",
      "5/5 [==============================] - ETA: 0s - loss: 0.1262 - mae: 0.2827INFO:tensorflow:Assets written to: C:\\Users\\PARK\\Documents\\LAB\\RNN vs LSTM\\FInal Example\\wandb\\run-20221015_202009-2vru7228\\files\\model-best\\assets\n"
     ]
    },
    {
     "name": "stderr",
     "output_type": "stream",
     "text": [
      "\u001b[34m\u001b[1mwandb\u001b[0m: Adding directory to artifact (C:\\Users\\PARK\\Documents\\LAB\\RNN vs LSTM\\FInal Example\\wandb\\run-20221015_202009-2vru7228\\files\\model-best)... Done. 0.1s\n"
     ]
    },
    {
     "name": "stdout",
     "output_type": "stream",
     "text": [
      "5/5 [==============================] - 2s 498ms/step - loss: 0.1262 - mae: 0.2827 - val_loss: 0.0964 - val_mae: 0.2463\n",
      "Epoch 263/500\n",
      "5/5 [==============================] - ETA: 0s - loss: 0.1068 - mae: 0.2595INFO:tensorflow:Assets written to: C:\\Users\\PARK\\Documents\\LAB\\RNN vs LSTM\\FInal Example\\wandb\\run-20221015_202009-2vru7228\\files\\model-best\\assets\n"
     ]
    },
    {
     "name": "stderr",
     "output_type": "stream",
     "text": [
      "\u001b[34m\u001b[1mwandb\u001b[0m: Adding directory to artifact (C:\\Users\\PARK\\Documents\\LAB\\RNN vs LSTM\\FInal Example\\wandb\\run-20221015_202009-2vru7228\\files\\model-best)... Done. 0.1s\n"
     ]
    },
    {
     "name": "stdout",
     "output_type": "stream",
     "text": [
      "5/5 [==============================] - 2s 534ms/step - loss: 0.1068 - mae: 0.2595 - val_loss: 0.0883 - val_mae: 0.2355\n",
      "Epoch 264/500\n",
      "5/5 [==============================] - 1s 182ms/step - loss: 0.0962 - mae: 0.2462 - val_loss: 0.0960 - val_mae: 0.2491\n",
      "Epoch 265/500\n",
      "5/5 [==============================] - 1s 152ms/step - loss: 0.0997 - mae: 0.2505 - val_loss: 0.0977 - val_mae: 0.2469\n",
      "Epoch 266/500\n",
      "5/5 [==============================] - 1s 151ms/step - loss: 0.0966 - mae: 0.2461 - val_loss: 0.0894 - val_mae: 0.2373\n",
      "Epoch 267/500\n",
      "5/5 [==============================] - 1s 158ms/step - loss: 0.0966 - mae: 0.2474 - val_loss: 0.0937 - val_mae: 0.2417\n",
      "Epoch 268/500\n",
      "5/5 [==============================] - 1s 156ms/step - loss: 0.0910 - mae: 0.2396 - val_loss: 0.1391 - val_mae: 0.2985\n",
      "Epoch 269/500\n",
      "5/5 [==============================] - 1s 154ms/step - loss: 0.1050 - mae: 0.2571 - val_loss: 0.1873 - val_mae: 0.3548\n",
      "Epoch 270/500\n",
      "5/5 [==============================] - ETA: 0s - loss: 0.1051 - mae: 0.2572INFO:tensorflow:Assets written to: C:\\Users\\PARK\\Documents\\LAB\\RNN vs LSTM\\FInal Example\\wandb\\run-20221015_202009-2vru7228\\files\\model-best\\assets\n"
     ]
    },
    {
     "name": "stderr",
     "output_type": "stream",
     "text": [
      "\u001b[34m\u001b[1mwandb\u001b[0m: Adding directory to artifact (C:\\Users\\PARK\\Documents\\LAB\\RNN vs LSTM\\FInal Example\\wandb\\run-20221015_202009-2vru7228\\files\\model-best)... Done. 0.0s\n"
     ]
    },
    {
     "name": "stdout",
     "output_type": "stream",
     "text": [
      "5/5 [==============================] - 2s 494ms/step - loss: 0.1051 - mae: 0.2572 - val_loss: 0.0879 - val_mae: 0.2344\n",
      "Epoch 271/500\n",
      "5/5 [==============================] - 1s 176ms/step - loss: 0.0939 - mae: 0.2419 - val_loss: 0.0972 - val_mae: 0.2516\n",
      "Epoch 272/500\n",
      "5/5 [==============================] - 1s 151ms/step - loss: 0.1110 - mae: 0.2674 - val_loss: 0.0930 - val_mae: 0.2412\n",
      "Epoch 273/500\n",
      "5/5 [==============================] - 1s 152ms/step - loss: 0.1028 - mae: 0.2537 - val_loss: 0.0986 - val_mae: 0.2490\n",
      "Epoch 274/500\n",
      "5/5 [==============================] - 1s 148ms/step - loss: 0.0923 - mae: 0.2392 - val_loss: 0.0889 - val_mae: 0.2365\n",
      "Epoch 275/500\n",
      "5/5 [==============================] - 1s 150ms/step - loss: 0.1002 - mae: 0.2500 - val_loss: 0.0889 - val_mae: 0.2388\n",
      "Epoch 276/500\n",
      "5/5 [==============================] - ETA: 0s - loss: 0.0933 - mae: 0.2404INFO:tensorflow:Assets written to: C:\\Users\\PARK\\Documents\\LAB\\RNN vs LSTM\\FInal Example\\wandb\\run-20221015_202009-2vru7228\\files\\model-best\\assets\n"
     ]
    },
    {
     "name": "stderr",
     "output_type": "stream",
     "text": [
      "\u001b[34m\u001b[1mwandb\u001b[0m: Adding directory to artifact (C:\\Users\\PARK\\Documents\\LAB\\RNN vs LSTM\\FInal Example\\wandb\\run-20221015_202009-2vru7228\\files\\model-best)... Done. 0.1s\n"
     ]
    },
    {
     "name": "stdout",
     "output_type": "stream",
     "text": [
      "5/5 [==============================] - 2s 506ms/step - loss: 0.0933 - mae: 0.2404 - val_loss: 0.0872 - val_mae: 0.2365\n",
      "Epoch 277/500\n",
      "5/5 [==============================] - 1s 185ms/step - loss: 0.0901 - mae: 0.2387 - val_loss: 0.0986 - val_mae: 0.2533\n",
      "Epoch 278/500\n",
      "5/5 [==============================] - 1s 159ms/step - loss: 0.1002 - mae: 0.2533 - val_loss: 0.1091 - val_mae: 0.2685\n",
      "Epoch 279/500\n",
      "5/5 [==============================] - 1s 158ms/step - loss: 0.0987 - mae: 0.2503 - val_loss: 0.0892 - val_mae: 0.2411\n",
      "Epoch 280/500\n",
      "4/5 [=======================>......] - ETA: 0s - loss: 0.0985 - mae: 0.2497INFO:tensorflow:Assets written to: C:\\Users\\PARK\\Documents\\LAB\\RNN vs LSTM\\FInal Example\\wandb\\run-20221015_202009-2vru7228\\files\\model-best\\assets\n"
     ]
    },
    {
     "name": "stderr",
     "output_type": "stream",
     "text": [
      "\u001b[34m\u001b[1mwandb\u001b[0m: Adding directory to artifact (C:\\Users\\PARK\\Documents\\LAB\\RNN vs LSTM\\FInal Example\\wandb\\run-20221015_202009-2vru7228\\files\\model-best)... Done. 0.1s\n"
     ]
    },
    {
     "name": "stdout",
     "output_type": "stream",
     "text": [
      "5/5 [==============================] - 2s 525ms/step - loss: 0.0983 - mae: 0.2495 - val_loss: 0.0861 - val_mae: 0.2350\n",
      "Epoch 281/500\n",
      "5/5 [==============================] - ETA: 0s - loss: 0.1035 - mae: 0.2541INFO:tensorflow:Assets written to: C:\\Users\\PARK\\Documents\\LAB\\RNN vs LSTM\\FInal Example\\wandb\\run-20221015_202009-2vru7228\\files\\model-best\\assets\n"
     ]
    },
    {
     "name": "stderr",
     "output_type": "stream",
     "text": [
      "\u001b[34m\u001b[1mwandb\u001b[0m: Adding directory to artifact (C:\\Users\\PARK\\Documents\\LAB\\RNN vs LSTM\\FInal Example\\wandb\\run-20221015_202009-2vru7228\\files\\model-best)... Done. 0.1s\n"
     ]
    },
    {
     "name": "stdout",
     "output_type": "stream",
     "text": [
      "5/5 [==============================] - 2s 513ms/step - loss: 0.1035 - mae: 0.2541 - val_loss: 0.0836 - val_mae: 0.2268\n",
      "Epoch 282/500\n",
      "5/5 [==============================] - 1s 188ms/step - loss: 0.1011 - mae: 0.2503 - val_loss: 0.1024 - val_mae: 0.2581\n",
      "Epoch 283/500\n",
      "5/5 [==============================] - 1s 148ms/step - loss: 0.1155 - mae: 0.2709 - val_loss: 0.1494 - val_mae: 0.3152\n",
      "Epoch 284/500\n",
      "5/5 [==============================] - 1s 148ms/step - loss: 0.1468 - mae: 0.3062 - val_loss: 0.1842 - val_mae: 0.3489\n",
      "Epoch 285/500\n",
      "5/5 [==============================] - 1s 149ms/step - loss: 0.1490 - mae: 0.3089 - val_loss: 0.1039 - val_mae: 0.2599\n",
      "Epoch 286/500\n",
      "5/5 [==============================] - 1s 151ms/step - loss: 0.1404 - mae: 0.2971 - val_loss: 0.1618 - val_mae: 0.3230\n",
      "Epoch 287/500\n",
      "5/5 [==============================] - 1s 151ms/step - loss: 0.1137 - mae: 0.2696 - val_loss: 0.1037 - val_mae: 0.2571\n",
      "Epoch 288/500\n",
      "5/5 [==============================] - 1s 151ms/step - loss: 0.0992 - mae: 0.2493 - val_loss: 0.0971 - val_mae: 0.2506\n",
      "Epoch 289/500\n",
      "5/5 [==============================] - 1s 158ms/step - loss: 0.0946 - mae: 0.2443 - val_loss: 0.0995 - val_mae: 0.2528\n",
      "Epoch 290/500\n",
      "5/5 [==============================] - 1s 156ms/step - loss: 0.1131 - mae: 0.2666 - val_loss: 0.1432 - val_mae: 0.3060\n",
      "Epoch 291/500\n",
      "5/5 [==============================] - 1s 148ms/step - loss: 0.1251 - mae: 0.2832 - val_loss: 0.0952 - val_mae: 0.2490\n",
      "Epoch 292/500\n",
      "5/5 [==============================] - 1s 145ms/step - loss: 0.0953 - mae: 0.2455 - val_loss: 0.1070 - val_mae: 0.2620\n",
      "Epoch 293/500\n",
      "5/5 [==============================] - 1s 147ms/step - loss: 0.1033 - mae: 0.2527 - val_loss: 0.0889 - val_mae: 0.2389\n",
      "Epoch 294/500\n",
      "5/5 [==============================] - 1s 147ms/step - loss: 0.0920 - mae: 0.2404 - val_loss: 0.0838 - val_mae: 0.2294\n",
      "Epoch 295/500\n",
      "5/5 [==============================] - ETA: 0s - loss: 0.0887 - mae: 0.2362INFO:tensorflow:Assets written to: C:\\Users\\PARK\\Documents\\LAB\\RNN vs LSTM\\FInal Example\\wandb\\run-20221015_202009-2vru7228\\files\\model-best\\assets\n"
     ]
    },
    {
     "name": "stderr",
     "output_type": "stream",
     "text": [
      "\u001b[34m\u001b[1mwandb\u001b[0m: Adding directory to artifact (C:\\Users\\PARK\\Documents\\LAB\\RNN vs LSTM\\FInal Example\\wandb\\run-20221015_202009-2vru7228\\files\\model-best)... Done. 0.0s\n"
     ]
    },
    {
     "name": "stdout",
     "output_type": "stream",
     "text": [
      "5/5 [==============================] - 2s 499ms/step - loss: 0.0887 - mae: 0.2362 - val_loss: 0.0824 - val_mae: 0.2279\n",
      "Epoch 296/500\n",
      "5/5 [==============================] - 1s 177ms/step - loss: 0.0837 - mae: 0.2294 - val_loss: 0.0877 - val_mae: 0.2304\n",
      "Epoch 297/500\n",
      "5/5 [==============================] - 1s 154ms/step - loss: 0.0864 - mae: 0.2332 - val_loss: 0.1218 - val_mae: 0.2786\n",
      "Epoch 298/500\n",
      "5/5 [==============================] - 1s 154ms/step - loss: 0.0966 - mae: 0.2460 - val_loss: 0.1120 - val_mae: 0.2679\n",
      "Epoch 299/500\n",
      "5/5 [==============================] - 1s 151ms/step - loss: 0.0982 - mae: 0.2482 - val_loss: 0.0843 - val_mae: 0.2266\n",
      "Epoch 300/500\n",
      "4/5 [=======================>......] - ETA: 0s - loss: 0.0863 - mae: 0.2298INFO:tensorflow:Assets written to: C:\\Users\\PARK\\Documents\\LAB\\RNN vs LSTM\\FInal Example\\wandb\\run-20221015_202009-2vru7228\\files\\model-best\\assets\n"
     ]
    },
    {
     "name": "stderr",
     "output_type": "stream",
     "text": [
      "\u001b[34m\u001b[1mwandb\u001b[0m: Adding directory to artifact (C:\\Users\\PARK\\Documents\\LAB\\RNN vs LSTM\\FInal Example\\wandb\\run-20221015_202009-2vru7228\\files\\model-best)... Done. 0.1s\n"
     ]
    },
    {
     "name": "stdout",
     "output_type": "stream",
     "text": [
      "5/5 [==============================] - 2s 517ms/step - loss: 0.0867 - mae: 0.2313 - val_loss: 0.0800 - val_mae: 0.2266\n",
      "Epoch 301/500\n",
      "5/5 [==============================] - 1s 190ms/step - loss: 0.0917 - mae: 0.2390 - val_loss: 0.1089 - val_mae: 0.2663\n",
      "Epoch 302/500\n",
      "5/5 [==============================] - 1s 153ms/step - loss: 0.1090 - mae: 0.2633 - val_loss: 0.0993 - val_mae: 0.2541\n",
      "Epoch 303/500\n",
      "5/5 [==============================] - ETA: 0s - loss: 0.0919 - mae: 0.2377INFO:tensorflow:Assets written to: C:\\Users\\PARK\\Documents\\LAB\\RNN vs LSTM\\FInal Example\\wandb\\run-20221015_202009-2vru7228\\files\\model-best\\assets\n"
     ]
    },
    {
     "name": "stderr",
     "output_type": "stream",
     "text": [
      "\u001b[34m\u001b[1mwandb\u001b[0m: Adding directory to artifact (C:\\Users\\PARK\\Documents\\LAB\\RNN vs LSTM\\FInal Example\\wandb\\run-20221015_202009-2vru7228\\files\\model-best)... Done. 0.0s\n"
     ]
    },
    {
     "name": "stdout",
     "output_type": "stream",
     "text": [
      "5/5 [==============================] - 2s 492ms/step - loss: 0.0919 - mae: 0.2377 - val_loss: 0.0771 - val_mae: 0.2181\n",
      "Epoch 304/500\n",
      "5/5 [==============================] - 1s 178ms/step - loss: 0.0917 - mae: 0.2375 - val_loss: 0.0860 - val_mae: 0.2356\n",
      "Epoch 305/500\n",
      "5/5 [==============================] - 1s 150ms/step - loss: 0.0997 - mae: 0.2492 - val_loss: 0.0802 - val_mae: 0.2221\n",
      "Epoch 306/500\n",
      "5/5 [==============================] - 1s 152ms/step - loss: 0.0867 - mae: 0.2332 - val_loss: 0.0911 - val_mae: 0.2374\n",
      "Epoch 307/500\n",
      "5/5 [==============================] - 1s 152ms/step - loss: 0.0821 - mae: 0.2244 - val_loss: 0.0813 - val_mae: 0.2236\n",
      "Epoch 308/500\n",
      "5/5 [==============================] - 1s 151ms/step - loss: 0.0795 - mae: 0.2217 - val_loss: 0.0822 - val_mae: 0.2221\n",
      "Epoch 309/500\n",
      "5/5 [==============================] - 1s 151ms/step - loss: 0.0788 - mae: 0.2189 - val_loss: 0.0822 - val_mae: 0.2245\n",
      "Epoch 310/500\n",
      "5/5 [==============================] - 1s 150ms/step - loss: 0.0791 - mae: 0.2209 - val_loss: 0.0856 - val_mae: 0.2253\n",
      "Epoch 311/500\n",
      "5/5 [==============================] - 1s 148ms/step - loss: 0.0766 - mae: 0.2161 - val_loss: 0.0809 - val_mae: 0.2212\n",
      "Epoch 312/500\n",
      "5/5 [==============================] - 1s 147ms/step - loss: 0.0798 - mae: 0.2203 - val_loss: 0.0868 - val_mae: 0.2280\n",
      "Epoch 313/500\n",
      "5/5 [==============================] - ETA: 0s - loss: 0.0799 - mae: 0.2222INFO:tensorflow:Assets written to: C:\\Users\\PARK\\Documents\\LAB\\RNN vs LSTM\\FInal Example\\wandb\\run-20221015_202009-2vru7228\\files\\model-best\\assets\n"
     ]
    },
    {
     "name": "stderr",
     "output_type": "stream",
     "text": [
      "\u001b[34m\u001b[1mwandb\u001b[0m: Adding directory to artifact (C:\\Users\\PARK\\Documents\\LAB\\RNN vs LSTM\\FInal Example\\wandb\\run-20221015_202009-2vru7228\\files\\model-best)... Done. 0.1s\n"
     ]
    },
    {
     "name": "stdout",
     "output_type": "stream",
     "text": [
      "5/5 [==============================] - 2s 543ms/step - loss: 0.0799 - mae: 0.2222 - val_loss: 0.0752 - val_mae: 0.2162\n",
      "Epoch 314/500\n",
      "5/5 [==============================] - ETA: 0s - loss: 0.0826 - mae: 0.2237INFO:tensorflow:Assets written to: C:\\Users\\PARK\\Documents\\LAB\\RNN vs LSTM\\FInal Example\\wandb\\run-20221015_202009-2vru7228\\files\\model-best\\assets\n"
     ]
    },
    {
     "name": "stderr",
     "output_type": "stream",
     "text": [
      "\u001b[34m\u001b[1mwandb\u001b[0m: Adding directory to artifact (C:\\Users\\PARK\\Documents\\LAB\\RNN vs LSTM\\FInal Example\\wandb\\run-20221015_202009-2vru7228\\files\\model-best)... Done. 0.1s\n"
     ]
    },
    {
     "name": "stdout",
     "output_type": "stream",
     "text": [
      "5/5 [==============================] - 2s 534ms/step - loss: 0.0826 - mae: 0.2237 - val_loss: 0.0744 - val_mae: 0.2172\n",
      "Epoch 315/500\n",
      "5/5 [==============================] - 1s 181ms/step - loss: 0.0771 - mae: 0.2173 - val_loss: 0.0775 - val_mae: 0.2177\n",
      "Epoch 316/500\n",
      "5/5 [==============================] - 1s 145ms/step - loss: 0.0791 - mae: 0.2199 - val_loss: 0.0759 - val_mae: 0.2199\n",
      "Epoch 317/500\n",
      "5/5 [==============================] - 1s 147ms/step - loss: 0.0844 - mae: 0.2311 - val_loss: 0.1201 - val_mae: 0.2770\n",
      "Epoch 318/500\n",
      "5/5 [==============================] - 1s 152ms/step - loss: 0.0963 - mae: 0.2434 - val_loss: 0.1097 - val_mae: 0.2640\n",
      "Epoch 319/500\n",
      "5/5 [==============================] - 1s 151ms/step - loss: 0.0859 - mae: 0.2315 - val_loss: 0.1023 - val_mae: 0.2510\n",
      "Epoch 320/500\n",
      "5/5 [==============================] - 1s 149ms/step - loss: 0.0827 - mae: 0.2269 - val_loss: 0.0877 - val_mae: 0.2331\n",
      "Epoch 321/500\n",
      "5/5 [==============================] - 1s 152ms/step - loss: 0.0806 - mae: 0.2238 - val_loss: 0.0769 - val_mae: 0.2166\n",
      "Epoch 322/500\n",
      "5/5 [==============================] - 1s 149ms/step - loss: 0.0817 - mae: 0.2234 - val_loss: 0.0757 - val_mae: 0.2210\n",
      "Epoch 323/500\n",
      "5/5 [==============================] - 1s 148ms/step - loss: 0.0786 - mae: 0.2208 - val_loss: 0.0750 - val_mae: 0.2207\n",
      "Epoch 324/500\n",
      "5/5 [==============================] - ETA: 0s - loss: 0.0785 - mae: 0.2216INFO:tensorflow:Assets written to: C:\\Users\\PARK\\Documents\\LAB\\RNN vs LSTM\\FInal Example\\wandb\\run-20221015_202009-2vru7228\\files\\model-best\\assets\n"
     ]
    },
    {
     "name": "stderr",
     "output_type": "stream",
     "text": [
      "\u001b[34m\u001b[1mwandb\u001b[0m: Adding directory to artifact (C:\\Users\\PARK\\Documents\\LAB\\RNN vs LSTM\\FInal Example\\wandb\\run-20221015_202009-2vru7228\\files\\model-best)... Done. 0.1s\n"
     ]
    },
    {
     "name": "stdout",
     "output_type": "stream",
     "text": [
      "5/5 [==============================] - 2s 509ms/step - loss: 0.0785 - mae: 0.2216 - val_loss: 0.0705 - val_mae: 0.2088\n",
      "Epoch 325/500\n",
      "5/5 [==============================] - 1s 175ms/step - loss: 0.0785 - mae: 0.2189 - val_loss: 0.0795 - val_mae: 0.2245\n",
      "Epoch 326/500\n",
      "5/5 [==============================] - 1s 151ms/step - loss: 0.0827 - mae: 0.2274 - val_loss: 0.0816 - val_mae: 0.2242\n",
      "Epoch 327/500\n",
      "5/5 [==============================] - 1s 148ms/step - loss: 0.0767 - mae: 0.2164 - val_loss: 0.0754 - val_mae: 0.2142\n",
      "Epoch 328/500\n",
      "5/5 [==============================] - 1s 146ms/step - loss: 0.0843 - mae: 0.2282 - val_loss: 0.0887 - val_mae: 0.2306\n",
      "Epoch 329/500\n",
      "5/5 [==============================] - 1s 151ms/step - loss: 0.0887 - mae: 0.2360 - val_loss: 0.1164 - val_mae: 0.2775\n",
      "Epoch 330/500\n",
      "5/5 [==============================] - 1s 150ms/step - loss: 0.0866 - mae: 0.2325 - val_loss: 0.1027 - val_mae: 0.2507\n",
      "Epoch 331/500\n",
      "5/5 [==============================] - 1s 151ms/step - loss: 0.0871 - mae: 0.2325 - val_loss: 0.1382 - val_mae: 0.2952\n",
      "Epoch 332/500\n",
      "5/5 [==============================] - 1s 150ms/step - loss: 0.0934 - mae: 0.2446 - val_loss: 0.1034 - val_mae: 0.2647\n",
      "Epoch 333/500\n",
      "5/5 [==============================] - 1s 151ms/step - loss: 0.0830 - mae: 0.2275 - val_loss: 0.0841 - val_mae: 0.2244\n",
      "Epoch 334/500\n",
      "5/5 [==============================] - 1s 151ms/step - loss: 0.0764 - mae: 0.2164 - val_loss: 0.0831 - val_mae: 0.2223\n",
      "Epoch 335/500\n",
      "5/5 [==============================] - 1s 149ms/step - loss: 0.0788 - mae: 0.2200 - val_loss: 0.0851 - val_mae: 0.2320\n",
      "Epoch 336/500\n",
      "5/5 [==============================] - 1s 152ms/step - loss: 0.0785 - mae: 0.2211 - val_loss: 0.0906 - val_mae: 0.2304\n",
      "Epoch 337/500\n",
      "5/5 [==============================] - 1s 152ms/step - loss: 0.0777 - mae: 0.2174 - val_loss: 0.0764 - val_mae: 0.2175\n",
      "Epoch 338/500\n",
      "5/5 [==============================] - 1s 147ms/step - loss: 0.0789 - mae: 0.2198 - val_loss: 0.0772 - val_mae: 0.2165\n",
      "Epoch 339/500\n",
      "5/5 [==============================] - 1s 184ms/step - loss: 0.0778 - mae: 0.2195 - val_loss: 0.0785 - val_mae: 0.2181\n",
      "Epoch 340/500\n",
      "5/5 [==============================] - 1s 159ms/step - loss: 0.0826 - mae: 0.2259 - val_loss: 0.0778 - val_mae: 0.2200\n",
      "Epoch 341/500\n",
      "5/5 [==============================] - 1s 153ms/step - loss: 0.0738 - mae: 0.2136 - val_loss: 0.0722 - val_mae: 0.2064\n",
      "Epoch 342/500\n",
      "5/5 [==============================] - 1s 149ms/step - loss: 0.0726 - mae: 0.2112 - val_loss: 0.0708 - val_mae: 0.2100\n",
      "Epoch 343/500\n",
      "5/5 [==============================] - 1s 148ms/step - loss: 0.0823 - mae: 0.2255 - val_loss: 0.0745 - val_mae: 0.2114\n",
      "Epoch 344/500\n",
      "5/5 [==============================] - 1s 147ms/step - loss: 0.0764 - mae: 0.2152 - val_loss: 0.0722 - val_mae: 0.2111\n",
      "Epoch 345/500\n",
      "5/5 [==============================] - 1s 149ms/step - loss: 0.0729 - mae: 0.2117 - val_loss: 0.0902 - val_mae: 0.2349\n",
      "Epoch 346/500\n",
      "5/5 [==============================] - 1s 149ms/step - loss: 0.0843 - mae: 0.2281 - val_loss: 0.0917 - val_mae: 0.2359\n",
      "Epoch 347/500\n",
      "5/5 [==============================] - 1s 147ms/step - loss: 0.0796 - mae: 0.2221 - val_loss: 0.1048 - val_mae: 0.2552\n",
      "Epoch 348/500\n",
      "5/5 [==============================] - 1s 149ms/step - loss: 0.0793 - mae: 0.2218 - val_loss: 0.0834 - val_mae: 0.2270\n",
      "Epoch 349/500\n",
      "5/5 [==============================] - 1s 149ms/step - loss: 0.0756 - mae: 0.2160 - val_loss: 0.0994 - val_mae: 0.2428\n",
      "Epoch 350/500\n",
      "5/5 [==============================] - 1s 149ms/step - loss: 0.0766 - mae: 0.2169 - val_loss: 0.0843 - val_mae: 0.2273\n",
      "Epoch 351/500\n",
      "5/5 [==============================] - 1s 149ms/step - loss: 0.0739 - mae: 0.2119 - val_loss: 0.0849 - val_mae: 0.2236\n",
      "Epoch 352/500\n",
      "5/5 [==============================] - 1s 149ms/step - loss: 0.0744 - mae: 0.2127 - val_loss: 0.0848 - val_mae: 0.2243\n",
      "Epoch 353/500\n",
      "5/5 [==============================] - 1s 147ms/step - loss: 0.0762 - mae: 0.2163 - val_loss: 0.1008 - val_mae: 0.2462\n",
      "Epoch 354/500\n",
      "5/5 [==============================] - 1s 147ms/step - loss: 0.0794 - mae: 0.2197 - val_loss: 0.0777 - val_mae: 0.2162\n",
      "Epoch 355/500\n",
      "5/5 [==============================] - 1s 162ms/step - loss: 0.0773 - mae: 0.2187 - val_loss: 0.0950 - val_mae: 0.2338\n",
      "Epoch 356/500\n",
      "5/5 [==============================] - 1s 154ms/step - loss: 0.0814 - mae: 0.2226 - val_loss: 0.0856 - val_mae: 0.2329\n",
      "Epoch 357/500\n",
      "5/5 [==============================] - 1s 150ms/step - loss: 0.0792 - mae: 0.2210 - val_loss: 0.0757 - val_mae: 0.2120\n",
      "Epoch 358/500\n",
      "5/5 [==============================] - 1s 148ms/step - loss: 0.0844 - mae: 0.2301 - val_loss: 0.1123 - val_mae: 0.2523\n",
      "Epoch 359/500\n",
      "5/5 [==============================] - 1s 149ms/step - loss: 0.0912 - mae: 0.2368 - val_loss: 0.0864 - val_mae: 0.2358\n",
      "Epoch 360/500\n",
      "5/5 [==============================] - 1s 145ms/step - loss: 0.0915 - mae: 0.2390 - val_loss: 0.0825 - val_mae: 0.2183\n",
      "Epoch 361/500\n",
      "5/5 [==============================] - 1s 147ms/step - loss: 0.0931 - mae: 0.2406 - val_loss: 0.1085 - val_mae: 0.2523\n",
      "Epoch 362/500\n",
      "5/5 [==============================] - 1s 146ms/step - loss: 0.0910 - mae: 0.2380 - val_loss: 0.0971 - val_mae: 0.2487\n",
      "Epoch 363/500\n",
      "5/5 [==============================] - 1s 147ms/step - loss: 0.0886 - mae: 0.2346 - val_loss: 0.1073 - val_mae: 0.2530\n",
      "Epoch 364/500\n",
      "5/5 [==============================] - 1s 150ms/step - loss: 0.0964 - mae: 0.2468 - val_loss: 0.0798 - val_mae: 0.2172\n",
      "Epoch 365/500\n",
      "5/5 [==============================] - 1s 150ms/step - loss: 0.0891 - mae: 0.2333 - val_loss: 0.0850 - val_mae: 0.2357\n",
      "Epoch 366/500\n",
      "5/5 [==============================] - 1s 150ms/step - loss: 0.0854 - mae: 0.2281 - val_loss: 0.0856 - val_mae: 0.2344\n",
      "Epoch 367/500\n",
      "5/5 [==============================] - 1s 150ms/step - loss: 0.0876 - mae: 0.2326 - val_loss: 0.0760 - val_mae: 0.2210\n",
      "Epoch 368/500\n",
      "5/5 [==============================] - 1s 149ms/step - loss: 0.0788 - mae: 0.2200 - val_loss: 0.0727 - val_mae: 0.2118\n",
      "Epoch 369/500\n",
      "5/5 [==============================] - 1s 148ms/step - loss: 0.0759 - mae: 0.2161 - val_loss: 0.0721 - val_mae: 0.2081\n",
      "Epoch 370/500\n",
      "5/5 [==============================] - 1s 147ms/step - loss: 0.0738 - mae: 0.2138 - val_loss: 0.0804 - val_mae: 0.2157\n",
      "Epoch 371/500\n",
      "5/5 [==============================] - 1s 153ms/step - loss: 0.0725 - mae: 0.2117 - val_loss: 0.0866 - val_mae: 0.2295\n",
      "Epoch 372/500\n",
      "5/5 [==============================] - 1s 149ms/step - loss: 0.0764 - mae: 0.2157 - val_loss: 0.0733 - val_mae: 0.2109\n",
      "Epoch 373/500\n",
      "5/5 [==============================] - 1s 151ms/step - loss: 0.0734 - mae: 0.2117 - val_loss: 0.0764 - val_mae: 0.2125\n",
      "Epoch 374/500\n",
      "5/5 [==============================] - 1s 150ms/step - loss: 0.0727 - mae: 0.2104 - val_loss: 0.0716 - val_mae: 0.2126\n",
      "Epoch 375/500\n",
      "5/5 [==============================] - 1s 151ms/step - loss: 0.0775 - mae: 0.2188 - val_loss: 0.0853 - val_mae: 0.2310\n",
      "Epoch 376/500\n",
      "5/5 [==============================] - 1s 151ms/step - loss: 0.0820 - mae: 0.2247 - val_loss: 0.0804 - val_mae: 0.2212\n",
      "Epoch 377/500\n",
      "5/5 [==============================] - 1s 151ms/step - loss: 0.0866 - mae: 0.2312 - val_loss: 0.0828 - val_mae: 0.2254\n",
      "Epoch 378/500\n",
      "5/5 [==============================] - 1s 152ms/step - loss: 0.0793 - mae: 0.2189 - val_loss: 0.0751 - val_mae: 0.2146\n",
      "Epoch 379/500\n",
      "5/5 [==============================] - 1s 151ms/step - loss: 0.0773 - mae: 0.2184 - val_loss: 0.0779 - val_mae: 0.2177\n",
      "Epoch 380/500\n",
      "5/5 [==============================] - 1s 148ms/step - loss: 0.0756 - mae: 0.2149 - val_loss: 0.0871 - val_mae: 0.2299\n",
      "Epoch 381/500\n",
      "5/5 [==============================] - 1s 147ms/step - loss: 0.0770 - mae: 0.2171 - val_loss: 0.0900 - val_mae: 0.2367\n",
      "Epoch 382/500\n",
      "5/5 [==============================] - 1s 151ms/step - loss: 0.0805 - mae: 0.2224 - val_loss: 0.0770 - val_mae: 0.2191\n",
      "Epoch 383/500\n",
      "5/5 [==============================] - 1s 150ms/step - loss: 0.0822 - mae: 0.2266 - val_loss: 0.0813 - val_mae: 0.2245\n",
      "Epoch 384/500\n",
      "5/5 [==============================] - 1s 151ms/step - loss: 0.0774 - mae: 0.2183 - val_loss: 0.0816 - val_mae: 0.2229\n",
      "Epoch 385/500\n",
      "5/5 [==============================] - 1s 148ms/step - loss: 0.0753 - mae: 0.2144 - val_loss: 0.0911 - val_mae: 0.2337\n"
     ]
    },
    {
     "name": "stdout",
     "output_type": "stream",
     "text": [
      "Epoch 386/500\n",
      "5/5 [==============================] - 1s 149ms/step - loss: 0.0836 - mae: 0.2287 - val_loss: 0.1002 - val_mae: 0.2493\n",
      "Epoch 387/500\n",
      "5/5 [==============================] - 1s 151ms/step - loss: 0.0865 - mae: 0.2312 - val_loss: 0.0874 - val_mae: 0.2280\n",
      "Epoch 388/500\n",
      "5/5 [==============================] - 1s 151ms/step - loss: 0.0864 - mae: 0.2283 - val_loss: 0.0762 - val_mae: 0.2147\n",
      "Epoch 389/500\n",
      "5/5 [==============================] - 1s 149ms/step - loss: 0.0771 - mae: 0.2142 - val_loss: 0.0763 - val_mae: 0.2203\n",
      "Epoch 390/500\n",
      "5/5 [==============================] - 1s 151ms/step - loss: 0.0767 - mae: 0.2161 - val_loss: 0.0709 - val_mae: 0.2079\n",
      "Epoch 391/500\n",
      "5/5 [==============================] - 1s 151ms/step - loss: 0.0747 - mae: 0.2135 - val_loss: 0.0747 - val_mae: 0.2105\n",
      "Epoch 392/500\n",
      "5/5 [==============================] - 1s 148ms/step - loss: 0.0838 - mae: 0.2312 - val_loss: 0.0896 - val_mae: 0.2325\n",
      "Epoch 393/500\n",
      "5/5 [==============================] - 1s 152ms/step - loss: 0.0822 - mae: 0.2250 - val_loss: 0.0890 - val_mae: 0.2277\n",
      "Epoch 394/500\n",
      "5/5 [==============================] - 1s 150ms/step - loss: 0.0829 - mae: 0.2270 - val_loss: 0.0850 - val_mae: 0.2305\n",
      "Epoch 395/500\n",
      "5/5 [==============================] - 1s 148ms/step - loss: 0.0758 - mae: 0.2177 - val_loss: 0.0767 - val_mae: 0.2107\n",
      "Epoch 396/500\n",
      "5/5 [==============================] - 1s 151ms/step - loss: 0.0743 - mae: 0.2129 - val_loss: 0.0726 - val_mae: 0.2117\n",
      "Epoch 397/500\n",
      "5/5 [==============================] - 1s 147ms/step - loss: 0.0735 - mae: 0.2124 - val_loss: 0.0814 - val_mae: 0.2193\n",
      "Epoch 398/500\n",
      "5/5 [==============================] - 1s 148ms/step - loss: 0.0741 - mae: 0.2114 - val_loss: 0.0755 - val_mae: 0.2133\n",
      "Epoch 399/500\n",
      "5/5 [==============================] - 1s 150ms/step - loss: 0.0751 - mae: 0.2140 - val_loss: 0.0719 - val_mae: 0.2096\n",
      "Epoch 400/500\n",
      "5/5 [==============================] - 1s 151ms/step - loss: 0.0731 - mae: 0.2124 - val_loss: 0.0709 - val_mae: 0.2082\n",
      "Epoch 401/500\n",
      "5/5 [==============================] - 1s 150ms/step - loss: 0.0782 - mae: 0.2163 - val_loss: 0.0758 - val_mae: 0.2141\n",
      "Epoch 402/500\n",
      "5/5 [==============================] - 1s 154ms/step - loss: 0.0771 - mae: 0.2177 - val_loss: 0.0779 - val_mae: 0.2223\n",
      "Epoch 403/500\n",
      "5/5 [==============================] - 1s 160ms/step - loss: 0.0750 - mae: 0.2154 - val_loss: 0.0786 - val_mae: 0.2140\n",
      "Epoch 404/500\n",
      "5/5 [==============================] - 1s 151ms/step - loss: 0.0756 - mae: 0.2135 - val_loss: 0.0769 - val_mae: 0.2235\n",
      "Epoch 405/500\n",
      "5/5 [==============================] - 1s 145ms/step - loss: 0.0762 - mae: 0.2173 - val_loss: 0.0806 - val_mae: 0.2250\n",
      "Epoch 406/500\n",
      "5/5 [==============================] - 1s 144ms/step - loss: 0.0792 - mae: 0.2192 - val_loss: 0.0823 - val_mae: 0.2292\n",
      "Epoch 407/500\n",
      "5/5 [==============================] - 1s 149ms/step - loss: 0.0883 - mae: 0.2377 - val_loss: 0.0767 - val_mae: 0.2178\n",
      "Epoch 408/500\n",
      "5/5 [==============================] - 1s 149ms/step - loss: 0.0868 - mae: 0.2358 - val_loss: 0.0910 - val_mae: 0.2294\n",
      "Epoch 409/500\n",
      "5/5 [==============================] - 1s 148ms/step - loss: 0.0829 - mae: 0.2256 - val_loss: 0.0851 - val_mae: 0.2349\n",
      "Epoch 410/500\n",
      "5/5 [==============================] - 1s 149ms/step - loss: 0.0788 - mae: 0.2202 - val_loss: 0.0769 - val_mae: 0.2136\n",
      "Epoch 411/500\n",
      "5/5 [==============================] - 1s 150ms/step - loss: 0.0753 - mae: 0.2134 - val_loss: 0.0771 - val_mae: 0.2157\n",
      "Epoch 412/500\n",
      "5/5 [==============================] - 1s 149ms/step - loss: 0.0819 - mae: 0.2211 - val_loss: 0.0820 - val_mae: 0.2237\n",
      "Epoch 413/500\n",
      "5/5 [==============================] - 1s 150ms/step - loss: 0.0803 - mae: 0.2212 - val_loss: 0.0828 - val_mae: 0.2312\n",
      "Epoch 414/500\n",
      "5/5 [==============================] - 1s 150ms/step - loss: 0.0792 - mae: 0.2196 - val_loss: 0.0824 - val_mae: 0.2246\n",
      "Epoch 415/500\n",
      "5/5 [==============================] - 1s 150ms/step - loss: 0.0835 - mae: 0.2266 - val_loss: 0.0783 - val_mae: 0.2184\n",
      "Epoch 416/500\n",
      "5/5 [==============================] - 1s 149ms/step - loss: 0.0792 - mae: 0.2236 - val_loss: 0.0845 - val_mae: 0.2281\n",
      "Epoch 417/500\n",
      "5/5 [==============================] - 1s 148ms/step - loss: 0.0781 - mae: 0.2191 - val_loss: 0.0909 - val_mae: 0.2330\n",
      "Epoch 418/500\n",
      "5/5 [==============================] - 1s 149ms/step - loss: 0.0788 - mae: 0.2189 - val_loss: 0.0832 - val_mae: 0.2268\n",
      "Epoch 419/500\n",
      "5/5 [==============================] - 1s 149ms/step - loss: 0.0787 - mae: 0.2214 - val_loss: 0.0796 - val_mae: 0.2230\n",
      "Epoch 420/500\n",
      "5/5 [==============================] - 1s 149ms/step - loss: 0.0766 - mae: 0.2163 - val_loss: 0.0846 - val_mae: 0.2287\n",
      "Epoch 421/500\n",
      "5/5 [==============================] - ETA: 0s - loss: 0.0788 - mae: 0.2226INFO:tensorflow:Assets written to: C:\\Users\\PARK\\Documents\\LAB\\RNN vs LSTM\\FInal Example\\wandb\\run-20221015_202009-2vru7228\\files\\model-best\\assets\n"
     ]
    },
    {
     "name": "stderr",
     "output_type": "stream",
     "text": [
      "\u001b[34m\u001b[1mwandb\u001b[0m: Adding directory to artifact (C:\\Users\\PARK\\Documents\\LAB\\RNN vs LSTM\\FInal Example\\wandb\\run-20221015_202009-2vru7228\\files\\model-best)... Done. 0.0s\n"
     ]
    },
    {
     "name": "stdout",
     "output_type": "stream",
     "text": [
      "5/5 [==============================] - 2s 494ms/step - loss: 0.0788 - mae: 0.2226 - val_loss: 0.0701 - val_mae: 0.2023\n",
      "Epoch 422/500\n",
      "5/5 [==============================] - 1s 177ms/step - loss: 0.0733 - mae: 0.2114 - val_loss: 0.0715 - val_mae: 0.2057\n",
      "Epoch 423/500\n",
      "5/5 [==============================] - 1s 155ms/step - loss: 0.0739 - mae: 0.2135 - val_loss: 0.0722 - val_mae: 0.2106\n",
      "Epoch 424/500\n",
      "5/5 [==============================] - 1s 153ms/step - loss: 0.0770 - mae: 0.2185 - val_loss: 0.0752 - val_mae: 0.2119\n",
      "Epoch 425/500\n",
      "5/5 [==============================] - 1s 151ms/step - loss: 0.0736 - mae: 0.2127 - val_loss: 0.0777 - val_mae: 0.2209\n",
      "Epoch 426/500\n",
      "4/5 [=======================>......] - ETA: 0s - loss: 0.0789 - mae: 0.2220INFO:tensorflow:Assets written to: C:\\Users\\PARK\\Documents\\LAB\\RNN vs LSTM\\FInal Example\\wandb\\run-20221015_202009-2vru7228\\files\\model-best\\assets\n"
     ]
    },
    {
     "name": "stderr",
     "output_type": "stream",
     "text": [
      "\u001b[34m\u001b[1mwandb\u001b[0m: Adding directory to artifact (C:\\Users\\PARK\\Documents\\LAB\\RNN vs LSTM\\FInal Example\\wandb\\run-20221015_202009-2vru7228\\files\\model-best)... Done. 0.1s\n"
     ]
    },
    {
     "name": "stdout",
     "output_type": "stream",
     "text": [
      "5/5 [==============================] - 2s 523ms/step - loss: 0.0806 - mae: 0.2242 - val_loss: 0.0685 - val_mae: 0.2035\n",
      "Epoch 427/500\n",
      "5/5 [==============================] - 1s 182ms/step - loss: 0.0753 - mae: 0.2132 - val_loss: 0.0768 - val_mae: 0.2152\n",
      "Epoch 428/500\n",
      "5/5 [==============================] - 1s 151ms/step - loss: 0.0726 - mae: 0.2125 - val_loss: 0.0931 - val_mae: 0.2329\n",
      "Epoch 429/500\n",
      "5/5 [==============================] - 1s 151ms/step - loss: 0.0753 - mae: 0.2141 - val_loss: 0.0788 - val_mae: 0.2194\n",
      "Epoch 430/500\n",
      "5/5 [==============================] - 1s 151ms/step - loss: 0.0757 - mae: 0.2169 - val_loss: 0.0749 - val_mae: 0.2136\n",
      "Epoch 431/500\n",
      "5/5 [==============================] - 1s 150ms/step - loss: 0.0731 - mae: 0.2119 - val_loss: 0.0718 - val_mae: 0.2079\n",
      "Epoch 432/500\n",
      "5/5 [==============================] - 1s 150ms/step - loss: 0.0742 - mae: 0.2116 - val_loss: 0.0718 - val_mae: 0.2074\n",
      "Epoch 433/500\n",
      "5/5 [==============================] - 1s 150ms/step - loss: 0.0747 - mae: 0.2155 - val_loss: 0.0775 - val_mae: 0.2221\n",
      "Epoch 434/500\n",
      "5/5 [==============================] - 1s 152ms/step - loss: 0.0754 - mae: 0.2156 - val_loss: 0.0829 - val_mae: 0.2226\n",
      "Epoch 435/500\n",
      "5/5 [==============================] - 1s 148ms/step - loss: 0.0778 - mae: 0.2186 - val_loss: 0.0838 - val_mae: 0.2267\n",
      "Epoch 436/500\n",
      "5/5 [==============================] - 1s 149ms/step - loss: 0.0830 - mae: 0.2293 - val_loss: 0.0866 - val_mae: 0.2311\n",
      "Epoch 437/500\n",
      "5/5 [==============================] - 1s 151ms/step - loss: 0.0770 - mae: 0.2168 - val_loss: 0.0762 - val_mae: 0.2157\n",
      "Epoch 438/500\n",
      "5/5 [==============================] - 1s 149ms/step - loss: 0.0745 - mae: 0.2148 - val_loss: 0.0903 - val_mae: 0.2323\n",
      "Epoch 439/500\n",
      "5/5 [==============================] - 1s 147ms/step - loss: 0.0780 - mae: 0.2189 - val_loss: 0.0848 - val_mae: 0.2234\n",
      "Epoch 440/500\n",
      "5/5 [==============================] - 1s 150ms/step - loss: 0.0772 - mae: 0.2183 - val_loss: 0.0725 - val_mae: 0.2125\n",
      "Epoch 441/500\n",
      "5/5 [==============================] - 1s 150ms/step - loss: 0.0727 - mae: 0.2108 - val_loss: 0.0697 - val_mae: 0.2066\n",
      "Epoch 442/500\n",
      "5/5 [==============================] - 1s 149ms/step - loss: 0.0721 - mae: 0.2099 - val_loss: 0.0712 - val_mae: 0.2115\n",
      "Epoch 443/500\n",
      "5/5 [==============================] - 1s 152ms/step - loss: 0.0750 - mae: 0.2140 - val_loss: 0.0686 - val_mae: 0.2042\n",
      "Epoch 444/500\n",
      "5/5 [==============================] - 1s 155ms/step - loss: 0.0755 - mae: 0.2161 - val_loss: 0.0709 - val_mae: 0.2035\n",
      "Epoch 445/500\n",
      "5/5 [==============================] - 1s 159ms/step - loss: 0.0718 - mae: 0.2113 - val_loss: 0.0735 - val_mae: 0.2127\n",
      "Epoch 446/500\n",
      "5/5 [==============================] - 1s 156ms/step - loss: 0.0716 - mae: 0.2106 - val_loss: 0.0760 - val_mae: 0.2084\n",
      "Epoch 447/500\n",
      "5/5 [==============================] - 1s 150ms/step - loss: 0.0743 - mae: 0.2132 - val_loss: 0.0790 - val_mae: 0.2222\n",
      "Epoch 448/500\n",
      "5/5 [==============================] - 1s 146ms/step - loss: 0.0794 - mae: 0.2255 - val_loss: 0.0734 - val_mae: 0.2081\n",
      "Epoch 449/500\n",
      "5/5 [==============================] - 1s 149ms/step - loss: 0.0766 - mae: 0.2161 - val_loss: 0.0715 - val_mae: 0.2117\n",
      "Epoch 450/500\n",
      "5/5 [==============================] - 1s 150ms/step - loss: 0.0837 - mae: 0.2276 - val_loss: 0.0801 - val_mae: 0.2298\n",
      "Epoch 451/500\n",
      "5/5 [==============================] - 1s 148ms/step - loss: 0.0822 - mae: 0.2266 - val_loss: 0.0835 - val_mae: 0.2288\n",
      "Epoch 452/500\n",
      "5/5 [==============================] - 1s 148ms/step - loss: 0.0841 - mae: 0.2267 - val_loss: 0.0737 - val_mae: 0.2185\n",
      "Epoch 453/500\n",
      "5/5 [==============================] - 1s 151ms/step - loss: 0.0770 - mae: 0.2209 - val_loss: 0.0774 - val_mae: 0.2157\n",
      "Epoch 454/500\n",
      "5/5 [==============================] - 1s 150ms/step - loss: 0.0731 - mae: 0.2125 - val_loss: 0.0761 - val_mae: 0.2125\n",
      "Epoch 455/500\n",
      "5/5 [==============================] - 1s 150ms/step - loss: 0.0763 - mae: 0.2167 - val_loss: 0.0850 - val_mae: 0.2287\n",
      "Epoch 456/500\n",
      "5/5 [==============================] - 1s 151ms/step - loss: 0.0854 - mae: 0.2308 - val_loss: 0.0716 - val_mae: 0.2073\n",
      "Epoch 457/500\n",
      "5/5 [==============================] - 1s 151ms/step - loss: 0.0786 - mae: 0.2197 - val_loss: 0.0845 - val_mae: 0.2319\n",
      "Epoch 458/500\n",
      "5/5 [==============================] - 1s 150ms/step - loss: 0.0763 - mae: 0.2176 - val_loss: 0.0736 - val_mae: 0.2130\n",
      "Epoch 459/500\n",
      "5/5 [==============================] - 1s 148ms/step - loss: 0.0789 - mae: 0.2200 - val_loss: 0.0765 - val_mae: 0.2118\n",
      "Epoch 460/500\n",
      "5/5 [==============================] - 1s 148ms/step - loss: 0.0737 - mae: 0.2112 - val_loss: 0.0696 - val_mae: 0.2104\n",
      "Epoch 461/500\n",
      "5/5 [==============================] - 1s 149ms/step - loss: 0.0736 - mae: 0.2141 - val_loss: 0.0747 - val_mae: 0.2151\n",
      "Epoch 462/500\n",
      "5/5 [==============================] - 1s 148ms/step - loss: 0.0782 - mae: 0.2217 - val_loss: 0.0703 - val_mae: 0.2089\n",
      "Epoch 463/500\n",
      "5/5 [==============================] - 1s 149ms/step - loss: 0.0745 - mae: 0.2130 - val_loss: 0.0774 - val_mae: 0.2199\n",
      "Epoch 464/500\n",
      "5/5 [==============================] - 1s 146ms/step - loss: 0.0763 - mae: 0.2209 - val_loss: 0.0947 - val_mae: 0.2368\n",
      "Epoch 465/500\n",
      "5/5 [==============================] - 1s 149ms/step - loss: 0.0819 - mae: 0.2262 - val_loss: 0.0763 - val_mae: 0.2167\n",
      "Epoch 466/500\n",
      "5/5 [==============================] - 1s 147ms/step - loss: 0.0788 - mae: 0.2193 - val_loss: 0.0715 - val_mae: 0.2095\n",
      "Epoch 467/500\n",
      "5/5 [==============================] - 1s 148ms/step - loss: 0.0748 - mae: 0.2126 - val_loss: 0.0704 - val_mae: 0.2072\n",
      "Epoch 468/500\n",
      "5/5 [==============================] - 1s 146ms/step - loss: 0.0727 - mae: 0.2118 - val_loss: 0.0698 - val_mae: 0.2047\n",
      "Epoch 469/500\n",
      "5/5 [==============================] - 1s 148ms/step - loss: 0.0743 - mae: 0.2154 - val_loss: 0.0914 - val_mae: 0.2373\n",
      "Epoch 470/500\n",
      "5/5 [==============================] - 1s 150ms/step - loss: 0.0777 - mae: 0.2200 - val_loss: 0.0748 - val_mae: 0.2119\n",
      "Epoch 471/500\n",
      "5/5 [==============================] - 1s 147ms/step - loss: 0.0724 - mae: 0.2109 - val_loss: 0.0774 - val_mae: 0.2151\n",
      "Epoch 472/500\n",
      "5/5 [==============================] - 1s 148ms/step - loss: 0.0733 - mae: 0.2103 - val_loss: 0.0702 - val_mae: 0.2082\n",
      "Epoch 473/500\n",
      "5/5 [==============================] - 1s 151ms/step - loss: 0.0725 - mae: 0.2103 - val_loss: 0.0788 - val_mae: 0.2160\n",
      "Epoch 474/500\n",
      "5/5 [==============================] - 1s 151ms/step - loss: 0.0759 - mae: 0.2167 - val_loss: 0.0738 - val_mae: 0.2087\n",
      "Epoch 475/500\n",
      "5/5 [==============================] - ETA: 0s - loss: 0.0736 - mae: 0.2124INFO:tensorflow:Assets written to: C:\\Users\\PARK\\Documents\\LAB\\RNN vs LSTM\\FInal Example\\wandb\\run-20221015_202009-2vru7228\\files\\model-best\\assets\n"
     ]
    },
    {
     "name": "stderr",
     "output_type": "stream",
     "text": [
      "\u001b[34m\u001b[1mwandb\u001b[0m: Adding directory to artifact (C:\\Users\\PARK\\Documents\\LAB\\RNN vs LSTM\\FInal Example\\wandb\\run-20221015_202009-2vru7228\\files\\model-best)... Done. 0.1s\n"
     ]
    },
    {
     "name": "stdout",
     "output_type": "stream",
     "text": [
      "5/5 [==============================] - 2s 507ms/step - loss: 0.0736 - mae: 0.2124 - val_loss: 0.0681 - val_mae: 0.2013\n",
      "Epoch 476/500\n",
      "5/5 [==============================] - 1s 182ms/step - loss: 0.0718 - mae: 0.2107 - val_loss: 0.0900 - val_mae: 0.2336\n",
      "Epoch 477/500\n",
      "5/5 [==============================] - 1s 154ms/step - loss: 0.0777 - mae: 0.2175 - val_loss: 0.0725 - val_mae: 0.2134\n",
      "Epoch 478/500\n",
      "5/5 [==============================] - 1s 151ms/step - loss: 0.0768 - mae: 0.2173 - val_loss: 0.0814 - val_mae: 0.2287\n",
      "Epoch 479/500\n",
      "5/5 [==============================] - 1s 149ms/step - loss: 0.0777 - mae: 0.2191 - val_loss: 0.0746 - val_mae: 0.2166\n",
      "Epoch 480/500\n",
      "5/5 [==============================] - 1s 149ms/step - loss: 0.0783 - mae: 0.2195 - val_loss: 0.0782 - val_mae: 0.2175\n",
      "Epoch 481/500\n",
      "5/5 [==============================] - 1s 151ms/step - loss: 0.0804 - mae: 0.2261 - val_loss: 0.0885 - val_mae: 0.2304\n",
      "Epoch 482/500\n",
      "5/5 [==============================] - 1s 149ms/step - loss: 0.0752 - mae: 0.2148 - val_loss: 0.0875 - val_mae: 0.2258\n",
      "Epoch 483/500\n",
      "5/5 [==============================] - 1s 150ms/step - loss: 0.0776 - mae: 0.2181 - val_loss: 0.0734 - val_mae: 0.2066\n",
      "Epoch 484/500\n",
      "5/5 [==============================] - ETA: 0s - loss: 0.0704 - mae: 0.2068INFO:tensorflow:Assets written to: C:\\Users\\PARK\\Documents\\LAB\\RNN vs LSTM\\FInal Example\\wandb\\run-20221015_202009-2vru7228\\files\\model-best\\assets\n"
     ]
    },
    {
     "name": "stderr",
     "output_type": "stream",
     "text": [
      "\u001b[34m\u001b[1mwandb\u001b[0m: Adding directory to artifact (C:\\Users\\PARK\\Documents\\LAB\\RNN vs LSTM\\FInal Example\\wandb\\run-20221015_202009-2vru7228\\files\\model-best)... Done. 0.1s\n"
     ]
    },
    {
     "name": "stdout",
     "output_type": "stream",
     "text": [
      "5/5 [==============================] - 2s 489ms/step - loss: 0.0704 - mae: 0.2068 - val_loss: 0.0644 - val_mae: 0.1981\n",
      "Epoch 485/500\n",
      "5/5 [==============================] - 1s 168ms/step - loss: 0.0676 - mae: 0.2016 - val_loss: 0.0657 - val_mae: 0.2019\n",
      "Epoch 486/500\n",
      "5/5 [==============================] - 1s 153ms/step - loss: 0.0667 - mae: 0.2004 - val_loss: 0.0663 - val_mae: 0.1984\n",
      "Epoch 487/500\n",
      "5/5 [==============================] - ETA: 0s - loss: 0.0664 - mae: 0.2000INFO:tensorflow:Assets written to: C:\\Users\\PARK\\Documents\\LAB\\RNN vs LSTM\\FInal Example\\wandb\\run-20221015_202009-2vru7228\\files\\model-best\\assets\n"
     ]
    },
    {
     "name": "stderr",
     "output_type": "stream",
     "text": [
      "\u001b[34m\u001b[1mwandb\u001b[0m: Adding directory to artifact (C:\\Users\\PARK\\Documents\\LAB\\RNN vs LSTM\\FInal Example\\wandb\\run-20221015_202009-2vru7228\\files\\model-best)... Done. 0.1s\n"
     ]
    },
    {
     "name": "stdout",
     "output_type": "stream",
     "text": [
      "5/5 [==============================] - 2s 524ms/step - loss: 0.0664 - mae: 0.2000 - val_loss: 0.0638 - val_mae: 0.1964\n",
      "Epoch 488/500\n",
      "5/5 [==============================] - 1s 187ms/step - loss: 0.0696 - mae: 0.2050 - val_loss: 0.0719 - val_mae: 0.2132\n",
      "Epoch 489/500\n",
      "5/5 [==============================] - 1s 150ms/step - loss: 0.0700 - mae: 0.2056 - val_loss: 0.0667 - val_mae: 0.2009\n",
      "Epoch 490/500\n",
      "5/5 [==============================] - 1s 149ms/step - loss: 0.0689 - mae: 0.2052 - val_loss: 0.0729 - val_mae: 0.2074\n",
      "Epoch 491/500\n",
      "5/5 [==============================] - 1s 152ms/step - loss: 0.0658 - mae: 0.2001 - val_loss: 0.0677 - val_mae: 0.2011\n",
      "Epoch 492/500\n",
      "5/5 [==============================] - 1s 152ms/step - loss: 0.0673 - mae: 0.2040 - val_loss: 0.0711 - val_mae: 0.2071\n",
      "Epoch 493/500\n",
      "5/5 [==============================] - 1s 155ms/step - loss: 0.0667 - mae: 0.2014 - val_loss: 0.0666 - val_mae: 0.2020\n",
      "Epoch 494/500\n",
      "5/5 [==============================] - 1s 153ms/step - loss: 0.0723 - mae: 0.2111 - val_loss: 0.0748 - val_mae: 0.2192\n",
      "Epoch 495/500\n",
      "5/5 [==============================] - 1s 153ms/step - loss: 0.0722 - mae: 0.2102 - val_loss: 0.0661 - val_mae: 0.1981\n",
      "Epoch 496/500\n",
      "5/5 [==============================] - 1s 153ms/step - loss: 0.0655 - mae: 0.2006 - val_loss: 0.0696 - val_mae: 0.2032\n",
      "Epoch 497/500\n",
      "5/5 [==============================] - 1s 151ms/step - loss: 0.0692 - mae: 0.2044 - val_loss: 0.0665 - val_mae: 0.1945\n",
      "Epoch 498/500\n",
      "5/5 [==============================] - 1s 148ms/step - loss: 0.0677 - mae: 0.1997 - val_loss: 0.0694 - val_mae: 0.2088\n",
      "Epoch 499/500\n",
      "5/5 [==============================] - 1s 151ms/step - loss: 0.0666 - mae: 0.1994 - val_loss: 0.0678 - val_mae: 0.2076\n",
      "Epoch 500/500\n",
      "5/5 [==============================] - 1s 152ms/step - loss: 0.0719 - mae: 0.2080 - val_loss: 0.0673 - val_mae: 0.2024\n"
     ]
    }
   ],
   "source": [
    "from tensorflow.keras import datasets, layers, models\n",
    "from tensorflow import keras\n",
    "from tensorflow.keras import layers\n",
    "\n",
    "model = models.Sequential()\n",
    "model.add(layers.SimpleRNN(1024, input_shape=(time_step,2)))\n",
    "model.add(layers.Dense(25))\n",
    "\n",
    "model.summary()\n",
    "\n",
    "model.compile(optimizer='adam', loss='mse', metrics=['mae'])\n",
    "\n",
    "history = model.fit(train_input, train_label, epochs=500, verbose=1, shuffle=True, validation_split=0.20,\n",
    "                   callbacks=[WandbCallback(log_weights=True, log_gradients=True, training_data=(train_input, train_label))])"
   ]
  },
  {
   "cell_type": "code",
   "execution_count": 17,
   "id": "f2977e3d",
   "metadata": {},
   "outputs": [
    {
     "name": "stdout",
     "output_type": "stream",
     "text": [
      "1/1 [==============================] - 0s 94ms/step\n"
     ]
    }
   ],
   "source": [
    "test_input = test_input.reshape(1, test_input.shape[0], test_input.shape[1])\n",
    "\n",
    "y_hat = model.predict(test_input)"
   ]
  },
  {
   "cell_type": "code",
   "execution_count": 18,
   "id": "569d2b27",
   "metadata": {},
   "outputs": [
    {
     "data": {
      "text/plain": [
       "(1, 100, 2)"
      ]
     },
     "execution_count": 18,
     "metadata": {},
     "output_type": "execute_result"
    }
   ],
   "source": [
    "test_input.shape"
   ]
  },
  {
   "cell_type": "code",
   "execution_count": 19,
   "id": "6b083de8",
   "metadata": {},
   "outputs": [],
   "source": [
    "test_label = test_label.reshape(1, test_label.shape[0], test_label.shape[1])"
   ]
  },
  {
   "cell_type": "code",
   "execution_count": 20,
   "id": "54e7a073",
   "metadata": {},
   "outputs": [
    {
     "data": {
      "text/plain": [
       "(1, 25, 1)"
      ]
     },
     "execution_count": 20,
     "metadata": {},
     "output_type": "execute_result"
    }
   ],
   "source": [
    "test_label.shape"
   ]
  },
  {
   "cell_type": "code",
   "execution_count": 21,
   "id": "b3e0c133",
   "metadata": {},
   "outputs": [
    {
     "data": {
      "text/plain": [
       "array([[1.6732839, 1.7146542, 1.6599629, 1.6593828, 1.6406229, 1.7087858,\n",
       "        1.7266567, 1.8145314, 1.9599417, 1.9905659, 1.8125715, 1.993905 ,\n",
       "        1.7477072, 1.8323991, 1.7711176, 1.782369 , 1.7855527, 1.8583702,\n",
       "        1.8332909, 1.9121937, 2.0723724, 2.0911078, 1.8943528, 2.1428201,\n",
       "        1.828358 ]], dtype=float32)"
      ]
     },
     "execution_count": 21,
     "metadata": {},
     "output_type": "execute_result"
    }
   ],
   "source": [
    "y_hat"
   ]
  },
  {
   "cell_type": "code",
   "execution_count": 22,
   "id": "e37311d1",
   "metadata": {},
   "outputs": [
    {
     "data": {
      "text/plain": [
       "(1, 25)"
      ]
     },
     "execution_count": 22,
     "metadata": {},
     "output_type": "execute_result"
    }
   ],
   "source": [
    "y_hat.shape"
   ]
  },
  {
   "cell_type": "code",
   "execution_count": 23,
   "id": "ad0f0285",
   "metadata": {},
   "outputs": [],
   "source": [
    "y_hat = y_hat.reshape(y_hat.shape[1], 1)"
   ]
  },
  {
   "cell_type": "code",
   "execution_count": 24,
   "id": "69ea1f6f",
   "metadata": {},
   "outputs": [],
   "source": [
    "y_hat = (y_hat*data_std)+data_mean"
   ]
  },
  {
   "cell_type": "code",
   "execution_count": 25,
   "id": "702f2214",
   "metadata": {},
   "outputs": [],
   "source": [
    "#print(scaler.data_max_)"
   ]
  },
  {
   "cell_type": "code",
   "execution_count": 26,
   "id": "1ca1a387",
   "metadata": {},
   "outputs": [],
   "source": [
    "#print(scaler.data_min_)"
   ]
  },
  {
   "cell_type": "code",
   "execution_count": 27,
   "id": "5e40982b",
   "metadata": {},
   "outputs": [],
   "source": [
    "#y_hat = y_hat * (scaler.data_max_[1]-scaler.data_min_[1]) + scaler.data_min_[1]"
   ]
  },
  {
   "cell_type": "code",
   "execution_count": 28,
   "id": "902bb0d7",
   "metadata": {},
   "outputs": [
    {
     "data": {
      "text/plain": [
       "Text(0.5, 1.0, 'RNN prediction')"
      ]
     },
     "execution_count": 28,
     "metadata": {},
     "output_type": "execute_result"
    },
    {
     "data": {
      "image/png": "[encoded data removed]",
      "text/plain": [
       "<Figure size 1008x576 with 1 Axes>"
      ]
     },
     "metadata": {
      "needs_background": "light"
     },
     "output_type": "display_data"
    }
   ],
   "source": [
    "import matplotlib.pyplot as plt\n",
    "\n",
    "x = range(325)\n",
    "plt.figure(figsize=(14,8))\n",
    "plt.plot(df[300:325]['Sales'], label='original')\n",
    "plt.plot(x[300:325], y_hat, label='prediction')\n",
    "plt.legend()\n",
    "plt.xlabel('Sequence', fontsize=20)\n",
    "plt.ylabel('Sales', fontsize=20)\n",
    "plt.title('RNN prediction', fontsize=25)"
   ]
  },
  {
   "cell_type": "code",
   "execution_count": 29,
   "id": "051887d3",
   "metadata": {
    "scrolled": true
   },
   "outputs": [
    {
     "name": "stdout",
     "output_type": "stream",
     "text": [
      "1/1 [==============================] - 0s 24ms/step - loss: 0.1335 - mae: 0.3117\n"
     ]
    },
    {
     "data": {
      "text/plain": [
       "[0.1335165947675705, 0.3117488920688629]"
      ]
     },
     "execution_count": 29,
     "metadata": {},
     "output_type": "execute_result"
    }
   ],
   "source": [
    "model.evaluate(test_input, test_label)"
   ]
  },
  {
   "cell_type": "code",
   "execution_count": null,
   "id": "5ea0dc06",
   "metadata": {},
   "outputs": [],
   "source": []
  }
 ],
 "metadata": {
  "kernelspec": {
   "display_name": "Python 3 (ipykernel)",
   "language": "python",
   "name": "python3"
  },
  "language_info": {
   "codemirror_mode": {
    "name": "ipython",
    "version": 3
   },
   "file_extension": ".py",
   "mimetype": "text/x-python",
   "name": "python",
   "nbconvert_exporter": "python",
   "pygments_lexer": "ipython3",
   "version": "3.9.12"
  }
 },
 "nbformat": 4,
 "nbformat_minor": 5
}
