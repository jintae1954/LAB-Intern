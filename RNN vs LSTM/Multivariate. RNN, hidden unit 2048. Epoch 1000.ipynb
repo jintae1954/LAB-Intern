{
 "cells": [
  {
   "cell_type": "code",
   "execution_count": 1,
   "id": "4d01b8ec",
   "metadata": {},
   "outputs": [
    {
     "name": "stderr",
     "output_type": "stream",
     "text": [
      "\u001b[34m\u001b[1mwandb\u001b[0m: Currently logged in as: \u001b[33mjintae\u001b[0m. Use \u001b[1m`wandb login --relogin`\u001b[0m to force relogin\n"
     ]
    },
    {
     "data": {
      "text/html": [
       "Tracking run with wandb version 0.13.4"
      ],
      "text/plain": [
       "<IPython.core.display.HTML object>"
      ]
     },
     "metadata": {},
     "output_type": "display_data"
    },
    {
     "data": {
      "text/html": [
       "Run data is saved locally in <code>C:\\Users\\PARK\\Documents\\LAB\\RNN vs LSTM\\FInal Example\\wandb\\run-20221015_213639-195m80vg</code>"
      ],
      "text/plain": [
       "<IPython.core.display.HTML object>"
      ]
     },
     "metadata": {},
     "output_type": "display_data"
    },
    {
     "data": {
      "text/html": [
       "Syncing run <strong><a href=\"https://wandb.ai/jintae/RNN%20seq%202048./runs/195m80vg\" target=\"_blank\">epoch 1000</a></strong> to <a href=\"https://wandb.ai/jintae/RNN%20seq%202048.\" target=\"_blank\">Weights & Biases</a> (<a href=\"https://wandb.me/run\" target=\"_blank\">docs</a>)<br/>"
      ],
      "text/plain": [
       "<IPython.core.display.HTML object>"
      ]
     },
     "metadata": {},
     "output_type": "display_data"
    },
    {
     "data": {
      "text/html": [
       "<button onClick=\"this.nextSibling.style.display='block';this.style.display='none';\">Display W&B run</button><iframe src=\"https://wandb.ai/jintae/RNN%20seq%202048./runs/195m80vg?jupyter=true\" style=\"border:none;width:100%;height:420px;display:none;\"></iframe>"
      ],
      "text/plain": [
       "<wandb.sdk.wandb_run.Run at 0x1f725563460>"
      ]
     },
     "execution_count": 1,
     "metadata": {},
     "output_type": "execute_result"
    }
   ],
   "source": [
    "import wandb\n",
    "from wandb.keras import WandbCallback\n",
    "wandb.init(project=\"RNN seq 2048.\", name=\"epoch 1000\")"
   ]
  },
  {
   "cell_type": "code",
   "execution_count": 2,
   "id": "650bae84",
   "metadata": {},
   "outputs": [
    {
     "name": "stdout",
     "output_type": "stream",
     "text": [
      "   DATE  Sales\n",
      "0     0   3459\n",
      "1     1   3458\n",
      "2     2   4002\n",
      "3     3   4564\n",
      "4     4   4221\n"
     ]
    }
   ],
   "source": [
    "import pandas as pd\n",
    "\n",
    "df = pd.read_csv('C:/Users/PARK/Desktop/Alcohol_Sales.csv')\n",
    "print(df.head())"
   ]
  },
  {
   "cell_type": "code",
   "execution_count": 3,
   "id": "71e18e17",
   "metadata": {},
   "outputs": [
    {
     "data": {
      "text/plain": [
       "(325, 2)"
      ]
     },
     "execution_count": 3,
     "metadata": {},
     "output_type": "execute_result"
    }
   ],
   "source": [
    "df.shape"
   ]
  },
  {
   "cell_type": "code",
   "execution_count": 4,
   "id": "5f4f8fb7",
   "metadata": {},
   "outputs": [],
   "source": [
    "import numpy as np\n",
    "\n",
    "data = df.to_numpy()"
   ]
  },
  {
   "cell_type": "code",
   "execution_count": 5,
   "id": "c6063052",
   "metadata": {},
   "outputs": [
    {
     "data": {
      "text/plain": [
       "(325, 2)"
      ]
     },
     "execution_count": 5,
     "metadata": {},
     "output_type": "execute_result"
    }
   ],
   "source": [
    "data.shape"
   ]
  },
  {
   "cell_type": "code",
   "execution_count": 6,
   "id": "01930485",
   "metadata": {},
   "outputs": [
    {
     "data": {
      "text/plain": [
       "array([[   0, 3459],\n",
       "       [   1, 3458],\n",
       "       [   2, 4002],\n",
       "       [   3, 4564],\n",
       "       [   4, 4221]], dtype=int64)"
      ]
     },
     "execution_count": 6,
     "metadata": {},
     "output_type": "execute_result"
    }
   ],
   "source": [
    "data[0:5]"
   ]
  },
  {
   "cell_type": "code",
   "execution_count": 7,
   "id": "ad83b404",
   "metadata": {},
   "outputs": [],
   "source": [
    "# from sklearn.preprocessing import MinMaxScaler\n",
    "\n",
    "# scaler = MinMaxScaler()\n",
    "\n",
    "# data = scaler.fit_transform(data)"
   ]
  },
  {
   "cell_type": "code",
   "execution_count": 8,
   "id": "17aef2ea",
   "metadata": {},
   "outputs": [],
   "source": [
    "data_mean = data.mean()\n",
    "data_std = data.std()\n",
    "\n",
    "data = (data - data_mean)/data_std"
   ]
  },
  {
   "cell_type": "code",
   "execution_count": 9,
   "id": "63fe0032",
   "metadata": {},
   "outputs": [
    {
     "data": {
      "text/plain": [
       "array([[-0.9194862 , -0.12914209],\n",
       "       [-0.91925771, -0.12937058],\n",
       "       [-0.91902922, -0.00507246],\n",
       "       [-0.91880073,  0.12333846],\n",
       "       [-0.91857224,  0.04496667]])"
      ]
     },
     "execution_count": 9,
     "metadata": {},
     "output_type": "execute_result"
    }
   ],
   "source": [
    "data[0:5]"
   ]
  },
  {
   "cell_type": "code",
   "execution_count": 10,
   "id": "87ac24ef",
   "metadata": {
    "scrolled": true
   },
   "outputs": [],
   "source": [
    "train_input = []\n",
    "train_label = []\n",
    "\n",
    "data_len = 325\n",
    "time_step = 100\n",
    "out_dim = 25\n",
    "\n",
    "for i in range(176):\n",
    "    _input = data[i:i+time_step]\n",
    "    _label = data[i+time_step:i+time_step+out_dim]\n",
    "    \n",
    "    train_input.append(_input)\n",
    "    train_label.append(_label)\n",
    "    \n",
    "\n",
    "train_input = np.array(train_input)\n",
    "train_label = np.array(train_label)\n",
    "train_label = np.delete(train_label, 0, axis=2)\n",
    "\n",
    "\n",
    "test_input = np.array(data[data_len-out_dim-time_step:data_len-out_dim])\n",
    "test_label =np.array(data[300:325])\n",
    "test_label = np.delete(test_label, 0, axis=1)"
   ]
  },
  {
   "cell_type": "code",
   "execution_count": 11,
   "id": "41975dc7",
   "metadata": {},
   "outputs": [
    {
     "data": {
      "text/plain": [
       "(176, 100, 2)"
      ]
     },
     "execution_count": 11,
     "metadata": {},
     "output_type": "execute_result"
    }
   ],
   "source": [
    "train_input.shape"
   ]
  },
  {
   "cell_type": "code",
   "execution_count": 12,
   "id": "b762c3ba",
   "metadata": {},
   "outputs": [
    {
     "data": {
      "text/plain": [
       "(176, 25, 1)"
      ]
     },
     "execution_count": 12,
     "metadata": {},
     "output_type": "execute_result"
    }
   ],
   "source": [
    "train_label.shape"
   ]
  },
  {
   "cell_type": "code",
   "execution_count": 13,
   "id": "127c63a2",
   "metadata": {},
   "outputs": [
    {
     "data": {
      "text/plain": [
       "(100, 2)"
      ]
     },
     "execution_count": 13,
     "metadata": {},
     "output_type": "execute_result"
    }
   ],
   "source": [
    "test_input.shape"
   ]
  },
  {
   "cell_type": "code",
   "execution_count": 14,
   "id": "6647472d",
   "metadata": {},
   "outputs": [
    {
     "data": {
      "text/plain": [
       "(25, 1)"
      ]
     },
     "execution_count": 14,
     "metadata": {},
     "output_type": "execute_result"
    }
   ],
   "source": [
    "test_label.shape"
   ]
  },
  {
   "cell_type": "code",
   "execution_count": 15,
   "id": "5d83c07f",
   "metadata": {},
   "outputs": [],
   "source": [
    "np.random.seed(10)\n",
    "shuffled_indices = np.random.permutation(np.arange(train_input.shape[0]))\n",
    "train_input = train_input[shuffled_indices, :, :]\n",
    "train_label = train_label[shuffled_indices, :]"
   ]
  },
  {
   "cell_type": "code",
   "execution_count": 16,
   "id": "a183926e",
   "metadata": {
    "scrolled": true
   },
   "outputs": [
    {
     "name": "stdout",
     "output_type": "stream",
     "text": [
      "Model: \"sequential\"\n",
      "_________________________________________________________________\n",
      " Layer (type)                Output Shape              Param #   \n",
      "=================================================================\n",
      " simple_rnn (SimpleRNN)      (None, 2048)              4200448   \n",
      "                                                                 \n",
      " dense (Dense)               (None, 25)                51225     \n",
      "                                                                 \n",
      "=================================================================\n",
      "Total params: 4,251,673\n",
      "Trainable params: 4,251,673\n",
      "Non-trainable params: 0\n",
      "_________________________________________________________________\n"
     ]
    },
    {
     "name": "stderr",
     "output_type": "stream",
     "text": [
      "\u001b[34m\u001b[1mwandb\u001b[0m: \u001b[33mWARNING\u001b[0m The save_model argument by default saves the model in the HDF5 format that cannot save custom objects like subclassed models and custom layers. This behavior will be deprecated in a future release in favor of the SavedModel format. Meanwhile, the HDF5 model is saved as W&B files and the SavedModel as W&B Artifacts.\n"
     ]
    },
    {
     "name": "stdout",
     "output_type": "stream",
     "text": [
      "Epoch 1/1000\n",
      "5/5 [==============================] - ETA: 0s - loss: 4.2334 - mae: 1.5454INFO:tensorflow:Assets written to: C:\\Users\\PARK\\Documents\\LAB\\RNN vs LSTM\\FInal Example\\wandb\\run-20221015_213639-195m80vg\\files\\model-best\\assets\n"
     ]
    },
    {
     "name": "stderr",
     "output_type": "stream",
     "text": [
      "\u001b[34m\u001b[1mwandb\u001b[0m: Adding directory to artifact (C:\\Users\\PARK\\Documents\\LAB\\RNN vs LSTM\\FInal Example\\wandb\\run-20221015_213639-195m80vg\\files\\model-best)... Done. 0.1s\n"
     ]
    },
    {
     "name": "stdout",
     "output_type": "stream",
     "text": [
      "5/5 [==============================] - 4s 730ms/step - loss: 4.2334 - mae: 1.5454 - val_loss: 4.5329 - val_mae: 1.7944\n",
      "Epoch 2/1000\n",
      "5/5 [==============================] - ETA: 0s - loss: 2.6316 - mae: 1.3250INFO:tensorflow:Assets written to: C:\\Users\\PARK\\Documents\\LAB\\RNN vs LSTM\\FInal Example\\wandb\\run-20221015_213639-195m80vg\\files\\model-best\\assets\n"
     ]
    },
    {
     "name": "stderr",
     "output_type": "stream",
     "text": [
      "\u001b[34m\u001b[1mwandb\u001b[0m: Adding directory to artifact (C:\\Users\\PARK\\Documents\\LAB\\RNN vs LSTM\\FInal Example\\wandb\\run-20221015_213639-195m80vg\\files\\model-best)... Done. 0.1s\n"
     ]
    },
    {
     "name": "stdout",
     "output_type": "stream",
     "text": [
      "5/5 [==============================] - 3s 614ms/step - loss: 2.6316 - mae: 1.3250 - val_loss: 2.9567 - val_mae: 1.5272\n",
      "Epoch 3/1000\n",
      "5/5 [==============================] - ETA: 0s - loss: 1.6664 - mae: 1.0439INFO:tensorflow:Assets written to: C:\\Users\\PARK\\Documents\\LAB\\RNN vs LSTM\\FInal Example\\wandb\\run-20221015_213639-195m80vg\\files\\model-best\\assets\n"
     ]
    },
    {
     "name": "stderr",
     "output_type": "stream",
     "text": [
      "\u001b[34m\u001b[1mwandb\u001b[0m: Adding directory to artifact (C:\\Users\\PARK\\Documents\\LAB\\RNN vs LSTM\\FInal Example\\wandb\\run-20221015_213639-195m80vg\\files\\model-best)... Done. 0.1s\n"
     ]
    },
    {
     "name": "stdout",
     "output_type": "stream",
     "text": [
      "5/5 [==============================] - 2s 582ms/step - loss: 1.6664 - mae: 1.0439 - val_loss: 0.8855 - val_mae: 0.8116\n",
      "Epoch 4/1000\n",
      "5/5 [==============================] - ETA: 0s - loss: 1.0327 - mae: 0.8543INFO:tensorflow:Assets written to: C:\\Users\\PARK\\Documents\\LAB\\RNN vs LSTM\\FInal Example\\wandb\\run-20221015_213639-195m80vg\\files\\model-best\\assets\n"
     ]
    },
    {
     "name": "stderr",
     "output_type": "stream",
     "text": [
      "\u001b[34m\u001b[1mwandb\u001b[0m: Adding directory to artifact (C:\\Users\\PARK\\Documents\\LAB\\RNN vs LSTM\\FInal Example\\wandb\\run-20221015_213639-195m80vg\\files\\model-best)... Done. 0.1s\n"
     ]
    },
    {
     "name": "stdout",
     "output_type": "stream",
     "text": [
      "5/5 [==============================] - 3s 686ms/step - loss: 1.0327 - mae: 0.8543 - val_loss: 0.5195 - val_mae: 0.5940\n",
      "Epoch 5/1000\n",
      "5/5 [==============================] - 1s 204ms/step - loss: 0.4914 - mae: 0.5707 - val_loss: 0.5823 - val_mae: 0.6263\n",
      "Epoch 6/1000\n",
      "5/5 [==============================] - ETA: 0s - loss: 0.4239 - mae: 0.5311INFO:tensorflow:Assets written to: C:\\Users\\PARK\\Documents\\LAB\\RNN vs LSTM\\FInal Example\\wandb\\run-20221015_213639-195m80vg\\files\\model-best\\assets\n"
     ]
    },
    {
     "name": "stderr",
     "output_type": "stream",
     "text": [
      "\u001b[34m\u001b[1mwandb\u001b[0m: Adding directory to artifact (C:\\Users\\PARK\\Documents\\LAB\\RNN vs LSTM\\FInal Example\\wandb\\run-20221015_213639-195m80vg\\files\\model-best)... Done. 0.1s\n"
     ]
    },
    {
     "name": "stdout",
     "output_type": "stream",
     "text": [
      "5/5 [==============================] - 2s 580ms/step - loss: 0.4239 - mae: 0.5311 - val_loss: 0.3546 - val_mae: 0.4888\n",
      "Epoch 7/1000\n",
      "5/5 [==============================] - ETA: 0s - loss: 0.3516 - mae: 0.4816INFO:tensorflow:Assets written to: C:\\Users\\PARK\\Documents\\LAB\\RNN vs LSTM\\FInal Example\\wandb\\run-20221015_213639-195m80vg\\files\\model-best\\assets\n"
     ]
    },
    {
     "name": "stderr",
     "output_type": "stream",
     "text": [
      "\u001b[34m\u001b[1mwandb\u001b[0m: Adding directory to artifact (C:\\Users\\PARK\\Documents\\LAB\\RNN vs LSTM\\FInal Example\\wandb\\run-20221015_213639-195m80vg\\files\\model-best)... Done. 0.1s\n"
     ]
    },
    {
     "name": "stdout",
     "output_type": "stream",
     "text": [
      "5/5 [==============================] - 2s 598ms/step - loss: 0.3516 - mae: 0.4816 - val_loss: 0.2505 - val_mae: 0.4067\n",
      "Epoch 8/1000\n",
      "5/5 [==============================] - 1s 202ms/step - loss: 0.2663 - mae: 0.4199 - val_loss: 0.2507 - val_mae: 0.4094\n",
      "Epoch 9/1000\n",
      "5/5 [==============================] - ETA: 0s - loss: 0.2361 - mae: 0.3973INFO:tensorflow:Assets written to: C:\\Users\\PARK\\Documents\\LAB\\RNN vs LSTM\\FInal Example\\wandb\\run-20221015_213639-195m80vg\\files\\model-best\\assets\n"
     ]
    },
    {
     "name": "stderr",
     "output_type": "stream",
     "text": [
      "\u001b[34m\u001b[1mwandb\u001b[0m: Adding directory to artifact (C:\\Users\\PARK\\Documents\\LAB\\RNN vs LSTM\\FInal Example\\wandb\\run-20221015_213639-195m80vg\\files\\model-best)... Done. 0.1s\n"
     ]
    },
    {
     "name": "stdout",
     "output_type": "stream",
     "text": [
      "5/5 [==============================] - 2s 611ms/step - loss: 0.2361 - mae: 0.3973 - val_loss: 0.2227 - val_mae: 0.3884\n",
      "Epoch 10/1000\n",
      "5/5 [==============================] - ETA: 0s - loss: 0.2192 - mae: 0.3839INFO:tensorflow:Assets written to: C:\\Users\\PARK\\Documents\\LAB\\RNN vs LSTM\\FInal Example\\wandb\\run-20221015_213639-195m80vg\\files\\model-best\\assets\n"
     ]
    },
    {
     "name": "stderr",
     "output_type": "stream",
     "text": [
      "\u001b[34m\u001b[1mwandb\u001b[0m: Adding directory to artifact (C:\\Users\\PARK\\Documents\\LAB\\RNN vs LSTM\\FInal Example\\wandb\\run-20221015_213639-195m80vg\\files\\model-best)... Done. 0.1s\n"
     ]
    },
    {
     "name": "stdout",
     "output_type": "stream",
     "text": [
      "5/5 [==============================] - 3s 672ms/step - loss: 0.2192 - mae: 0.3839 - val_loss: 0.2033 - val_mae: 0.3742\n",
      "Epoch 11/1000\n",
      "5/5 [==============================] - ETA: 0s - loss: 0.2093 - mae: 0.3780INFO:tensorflow:Assets written to: C:\\Users\\PARK\\Documents\\LAB\\RNN vs LSTM\\FInal Example\\wandb\\run-20221015_213639-195m80vg\\files\\model-best\\assets\n"
     ]
    },
    {
     "name": "stderr",
     "output_type": "stream",
     "text": [
      "\u001b[34m\u001b[1mwandb\u001b[0m: Adding directory to artifact (C:\\Users\\PARK\\Documents\\LAB\\RNN vs LSTM\\FInal Example\\wandb\\run-20221015_213639-195m80vg\\files\\model-best)... Done. 0.1s\n"
     ]
    },
    {
     "name": "stdout",
     "output_type": "stream",
     "text": [
      "5/5 [==============================] - 3s 628ms/step - loss: 0.2093 - mae: 0.3780 - val_loss: 0.1988 - val_mae: 0.3729\n",
      "Epoch 12/1000\n",
      "5/5 [==============================] - ETA: 0s - loss: 0.1989 - mae: 0.3680INFO:tensorflow:Assets written to: C:\\Users\\PARK\\Documents\\LAB\\RNN vs LSTM\\FInal Example\\wandb\\run-20221015_213639-195m80vg\\files\\model-best\\assets\n"
     ]
    },
    {
     "name": "stderr",
     "output_type": "stream",
     "text": [
      "\u001b[34m\u001b[1mwandb\u001b[0m: Adding directory to artifact (C:\\Users\\PARK\\Documents\\LAB\\RNN vs LSTM\\FInal Example\\wandb\\run-20221015_213639-195m80vg\\files\\model-best)... Done. 0.1s\n"
     ]
    },
    {
     "name": "stdout",
     "output_type": "stream",
     "text": [
      "5/5 [==============================] - 3s 655ms/step - loss: 0.1989 - mae: 0.3680 - val_loss: 0.1934 - val_mae: 0.3630\n",
      "Epoch 13/1000\n",
      "5/5 [==============================] - ETA: 0s - loss: 0.1946 - mae: 0.3658INFO:tensorflow:Assets written to: C:\\Users\\PARK\\Documents\\LAB\\RNN vs LSTM\\FInal Example\\wandb\\run-20221015_213639-195m80vg\\files\\model-best\\assets\n"
     ]
    },
    {
     "name": "stderr",
     "output_type": "stream",
     "text": [
      "\u001b[34m\u001b[1mwandb\u001b[0m: Adding directory to artifact (C:\\Users\\PARK\\Documents\\LAB\\RNN vs LSTM\\FInal Example\\wandb\\run-20221015_213639-195m80vg\\files\\model-best)... Done. 0.1s\n"
     ]
    },
    {
     "name": "stdout",
     "output_type": "stream",
     "text": [
      "5/5 [==============================] - 2s 597ms/step - loss: 0.1946 - mae: 0.3658 - val_loss: 0.1877 - val_mae: 0.3632\n",
      "Epoch 14/1000\n",
      "5/5 [==============================] - ETA: 0s - loss: 0.1956 - mae: 0.3670INFO:tensorflow:Assets written to: C:\\Users\\PARK\\Documents\\LAB\\RNN vs LSTM\\FInal Example\\wandb\\run-20221015_213639-195m80vg\\files\\model-best\\assets\n"
     ]
    },
    {
     "name": "stderr",
     "output_type": "stream",
     "text": [
      "\u001b[34m\u001b[1mwandb\u001b[0m: Adding directory to artifact (C:\\Users\\PARK\\Documents\\LAB\\RNN vs LSTM\\FInal Example\\wandb\\run-20221015_213639-195m80vg\\files\\model-best)... Done. 0.1s\n"
     ]
    },
    {
     "name": "stdout",
     "output_type": "stream",
     "text": [
      "5/5 [==============================] - 3s 697ms/step - loss: 0.1956 - mae: 0.3670 - val_loss: 0.1830 - val_mae: 0.3587\n",
      "Epoch 15/1000\n",
      "5/5 [==============================] - 1s 204ms/step - loss: 0.1973 - mae: 0.3665 - val_loss: 0.1843 - val_mae: 0.3563\n",
      "Epoch 16/1000\n",
      "5/5 [==============================] - 1s 191ms/step - loss: 0.1990 - mae: 0.3698 - val_loss: 0.1866 - val_mae: 0.3608\n",
      "Epoch 17/1000\n",
      "5/5 [==============================] - 1s 189ms/step - loss: 0.1912 - mae: 0.3633 - val_loss: 0.1869 - val_mae: 0.3584\n",
      "Epoch 18/1000\n",
      "5/5 [==============================] - 1s 192ms/step - loss: 0.1887 - mae: 0.3604 - val_loss: 0.1844 - val_mae: 0.3578\n",
      "Epoch 19/1000\n",
      "5/5 [==============================] - ETA: 0s - loss: 0.1845 - mae: 0.3575INFO:tensorflow:Assets written to: C:\\Users\\PARK\\Documents\\LAB\\RNN vs LSTM\\FInal Example\\wandb\\run-20221015_213639-195m80vg\\files\\model-best\\assets\n"
     ]
    },
    {
     "name": "stderr",
     "output_type": "stream",
     "text": [
      "\u001b[34m\u001b[1mwandb\u001b[0m: Adding directory to artifact (C:\\Users\\PARK\\Documents\\LAB\\RNN vs LSTM\\FInal Example\\wandb\\run-20221015_213639-195m80vg\\files\\model-best)... Done. 0.1s\n"
     ]
    },
    {
     "name": "stdout",
     "output_type": "stream",
     "text": [
      "5/5 [==============================] - 2s 587ms/step - loss: 0.1845 - mae: 0.3575 - val_loss: 0.1804 - val_mae: 0.3535\n",
      "Epoch 20/1000\n",
      "5/5 [==============================] - 1s 203ms/step - loss: 0.1833 - mae: 0.3548 - val_loss: 0.1864 - val_mae: 0.3638\n",
      "Epoch 21/1000\n",
      "5/5 [==============================] - 1s 186ms/step - loss: 0.1932 - mae: 0.3627 - val_loss: 0.1867 - val_mae: 0.3584\n",
      "Epoch 22/1000\n",
      "5/5 [==============================] - ETA: 0s - loss: 0.1862 - mae: 0.3580INFO:tensorflow:Assets written to: C:\\Users\\PARK\\Documents\\LAB\\RNN vs LSTM\\FInal Example\\wandb\\run-20221015_213639-195m80vg\\files\\model-best\\assets\n"
     ]
    },
    {
     "name": "stderr",
     "output_type": "stream",
     "text": [
      "\u001b[34m\u001b[1mwandb\u001b[0m: Adding directory to artifact (C:\\Users\\PARK\\Documents\\LAB\\RNN vs LSTM\\FInal Example\\wandb\\run-20221015_213639-195m80vg\\files\\model-best)... Done. 0.1s\n"
     ]
    },
    {
     "name": "stdout",
     "output_type": "stream",
     "text": [
      "5/5 [==============================] - 2s 599ms/step - loss: 0.1862 - mae: 0.3580 - val_loss: 0.1801 - val_mae: 0.3537\n",
      "Epoch 23/1000\n",
      "5/5 [==============================] - 1s 214ms/step - loss: 0.1844 - mae: 0.3565 - val_loss: 0.1843 - val_mae: 0.3569\n",
      "Epoch 24/1000\n",
      "5/5 [==============================] - 1s 182ms/step - loss: 0.1899 - mae: 0.3603 - val_loss: 0.1874 - val_mae: 0.3643\n",
      "Epoch 25/1000\n",
      "5/5 [==============================] - 1s 182ms/step - loss: 0.1928 - mae: 0.3618 - val_loss: 0.1961 - val_mae: 0.3671\n",
      "Epoch 26/1000\n",
      "5/5 [==============================] - 1s 181ms/step - loss: 0.1954 - mae: 0.3661 - val_loss: 0.1859 - val_mae: 0.3583\n",
      "Epoch 27/1000\n",
      "5/5 [==============================] - 1s 181ms/step - loss: 0.1880 - mae: 0.3595 - val_loss: 0.1850 - val_mae: 0.3598\n",
      "Epoch 28/1000\n",
      "5/5 [==============================] - ETA: 0s - loss: 0.1871 - mae: 0.3568INFO:tensorflow:Assets written to: C:\\Users\\PARK\\Documents\\LAB\\RNN vs LSTM\\FInal Example\\wandb\\run-20221015_213639-195m80vg\\files\\model-best\\assets\n"
     ]
    },
    {
     "name": "stderr",
     "output_type": "stream",
     "text": [
      "\u001b[34m\u001b[1mwandb\u001b[0m: Adding directory to artifact (C:\\Users\\PARK\\Documents\\LAB\\RNN vs LSTM\\FInal Example\\wandb\\run-20221015_213639-195m80vg\\files\\model-best)... Done. 0.1s\n"
     ]
    },
    {
     "name": "stdout",
     "output_type": "stream",
     "text": [
      "5/5 [==============================] - 2s 605ms/step - loss: 0.1871 - mae: 0.3568 - val_loss: 0.1800 - val_mae: 0.3539\n",
      "Epoch 29/1000\n",
      "5/5 [==============================] - 1s 206ms/step - loss: 0.1818 - mae: 0.3535 - val_loss: 0.1837 - val_mae: 0.3558\n",
      "Epoch 30/1000\n",
      "5/5 [==============================] - 1s 188ms/step - loss: 0.1834 - mae: 0.3537 - val_loss: 0.1804 - val_mae: 0.3536\n",
      "Epoch 31/1000\n",
      "5/5 [==============================] - 1s 188ms/step - loss: 0.1903 - mae: 0.3627 - val_loss: 0.2034 - val_mae: 0.3719\n",
      "Epoch 32/1000\n",
      "5/5 [==============================] - 1s 189ms/step - loss: 0.2019 - mae: 0.3738 - val_loss: 0.1874 - val_mae: 0.3612\n",
      "Epoch 33/1000\n",
      "5/5 [==============================] - ETA: 0s - loss: 0.1940 - mae: 0.3651INFO:tensorflow:Assets written to: C:\\Users\\PARK\\Documents\\LAB\\RNN vs LSTM\\FInal Example\\wandb\\run-20221015_213639-195m80vg\\files\\model-best\\assets\n"
     ]
    },
    {
     "name": "stderr",
     "output_type": "stream",
     "text": [
      "\u001b[34m\u001b[1mwandb\u001b[0m: Adding directory to artifact (C:\\Users\\PARK\\Documents\\LAB\\RNN vs LSTM\\FInal Example\\wandb\\run-20221015_213639-195m80vg\\files\\model-best)... Done. 0.1s\n"
     ]
    },
    {
     "name": "stdout",
     "output_type": "stream",
     "text": [
      "5/5 [==============================] - 2s 584ms/step - loss: 0.1940 - mae: 0.3651 - val_loss: 0.1795 - val_mae: 0.3540\n",
      "Epoch 34/1000\n",
      "5/5 [==============================] - 1s 223ms/step - loss: 0.1868 - mae: 0.3558 - val_loss: 0.1811 - val_mae: 0.3526\n",
      "Epoch 35/1000\n",
      "5/5 [==============================] - ETA: 0s - loss: 0.1821 - mae: 0.3536INFO:tensorflow:Assets written to: C:\\Users\\PARK\\Documents\\LAB\\RNN vs LSTM\\FInal Example\\wandb\\run-20221015_213639-195m80vg\\files\\model-best\\assets\n"
     ]
    },
    {
     "name": "stderr",
     "output_type": "stream",
     "text": [
      "\u001b[34m\u001b[1mwandb\u001b[0m: Adding directory to artifact (C:\\Users\\PARK\\Documents\\LAB\\RNN vs LSTM\\FInal Example\\wandb\\run-20221015_213639-195m80vg\\files\\model-best)... Done. 0.1s\n"
     ]
    },
    {
     "name": "stdout",
     "output_type": "stream",
     "text": [
      "5/5 [==============================] - 2s 607ms/step - loss: 0.1821 - mae: 0.3536 - val_loss: 0.1792 - val_mae: 0.3552\n",
      "Epoch 36/1000\n",
      "5/5 [==============================] - 1s 213ms/step - loss: 0.1814 - mae: 0.3553 - val_loss: 0.1954 - val_mae: 0.3630\n",
      "Epoch 37/1000\n",
      "5/5 [==============================] - 1s 189ms/step - loss: 0.1893 - mae: 0.3589 - val_loss: 0.1831 - val_mae: 0.3590\n",
      "Epoch 38/1000\n",
      "5/5 [==============================] - 1s 191ms/step - loss: 0.1894 - mae: 0.3580 - val_loss: 0.1876 - val_mae: 0.3582\n",
      "Epoch 39/1000\n",
      "5/5 [==============================] - 1s 188ms/step - loss: 0.1826 - mae: 0.3544 - val_loss: 0.1819 - val_mae: 0.3568\n",
      "Epoch 40/1000\n",
      "5/5 [==============================] - 1s 193ms/step - loss: 0.1883 - mae: 0.3597 - val_loss: 0.1903 - val_mae: 0.3641\n",
      "Epoch 41/1000\n",
      "5/5 [==============================] - ETA: 0s - loss: 0.1885 - mae: 0.3587INFO:tensorflow:Assets written to: C:\\Users\\PARK\\Documents\\LAB\\RNN vs LSTM\\FInal Example\\wandb\\run-20221015_213639-195m80vg\\files\\model-best\\assets\n"
     ]
    },
    {
     "name": "stderr",
     "output_type": "stream",
     "text": [
      "\u001b[34m\u001b[1mwandb\u001b[0m: Adding directory to artifact (C:\\Users\\PARK\\Documents\\LAB\\RNN vs LSTM\\FInal Example\\wandb\\run-20221015_213639-195m80vg\\files\\model-best)... Done. 0.1s\n"
     ]
    },
    {
     "name": "stdout",
     "output_type": "stream",
     "text": [
      "5/5 [==============================] - 3s 613ms/step - loss: 0.1885 - mae: 0.3587 - val_loss: 0.1789 - val_mae: 0.3515\n",
      "Epoch 42/1000\n",
      "5/5 [==============================] - 1s 225ms/step - loss: 0.1822 - mae: 0.3530 - val_loss: 0.1842 - val_mae: 0.3551\n",
      "Epoch 43/1000\n",
      "5/5 [==============================] - 1s 184ms/step - loss: 0.1805 - mae: 0.3517 - val_loss: 0.1819 - val_mae: 0.3553\n",
      "Epoch 44/1000\n",
      "5/5 [==============================] - 1s 186ms/step - loss: 0.1818 - mae: 0.3524 - val_loss: 0.1880 - val_mae: 0.3604\n",
      "Epoch 45/1000\n",
      "5/5 [==============================] - 1s 185ms/step - loss: 0.1899 - mae: 0.3573 - val_loss: 0.1948 - val_mae: 0.3642\n",
      "Epoch 46/1000\n",
      "5/5 [==============================] - 1s 186ms/step - loss: 0.1878 - mae: 0.3576 - val_loss: 0.1929 - val_mae: 0.3615\n",
      "Epoch 47/1000\n",
      "5/5 [==============================] - 1s 188ms/step - loss: 0.1905 - mae: 0.3585 - val_loss: 0.1901 - val_mae: 0.3629\n",
      "Epoch 48/1000\n",
      "5/5 [==============================] - 1s 186ms/step - loss: 0.1852 - mae: 0.3562 - val_loss: 0.1813 - val_mae: 0.3538\n",
      "Epoch 49/1000\n",
      "5/5 [==============================] - 1s 184ms/step - loss: 0.2051 - mae: 0.3733 - val_loss: 0.1861 - val_mae: 0.3598\n",
      "Epoch 50/1000\n",
      "5/5 [==============================] - ETA: 0s - loss: 0.1818 - mae: 0.3512INFO:tensorflow:Assets written to: C:\\Users\\PARK\\Documents\\LAB\\RNN vs LSTM\\FInal Example\\wandb\\run-20221015_213639-195m80vg\\files\\model-best\\assets\n"
     ]
    },
    {
     "name": "stderr",
     "output_type": "stream",
     "text": [
      "\u001b[34m\u001b[1mwandb\u001b[0m: Adding directory to artifact (C:\\Users\\PARK\\Documents\\LAB\\RNN vs LSTM\\FInal Example\\wandb\\run-20221015_213639-195m80vg\\files\\model-best)... Done. 0.1s\n"
     ]
    },
    {
     "name": "stdout",
     "output_type": "stream",
     "text": [
      "5/5 [==============================] - 2s 589ms/step - loss: 0.1818 - mae: 0.3512 - val_loss: 0.1755 - val_mae: 0.3481\n",
      "Epoch 51/1000\n",
      "5/5 [==============================] - 1s 215ms/step - loss: 0.1831 - mae: 0.3542 - val_loss: 0.1783 - val_mae: 0.3519\n",
      "Epoch 52/1000\n",
      "5/5 [==============================] - 1s 187ms/step - loss: 0.2002 - mae: 0.3662 - val_loss: 0.2010 - val_mae: 0.3699\n",
      "Epoch 53/1000\n",
      "5/5 [==============================] - 1s 187ms/step - loss: 0.1990 - mae: 0.3655 - val_loss: 0.2076 - val_mae: 0.3730\n",
      "Epoch 54/1000\n",
      "5/5 [==============================] - 1s 184ms/step - loss: 0.2142 - mae: 0.3822 - val_loss: 0.1880 - val_mae: 0.3605\n",
      "Epoch 55/1000\n",
      "5/5 [==============================] - 1s 185ms/step - loss: 0.2088 - mae: 0.3755 - val_loss: 0.1967 - val_mae: 0.3666\n",
      "Epoch 56/1000\n",
      "5/5 [==============================] - ETA: 0s - loss: 0.1922 - mae: 0.3616INFO:tensorflow:Assets written to: C:\\Users\\PARK\\Documents\\LAB\\RNN vs LSTM\\FInal Example\\wandb\\run-20221015_213639-195m80vg\\files\\model-best\\assets\n"
     ]
    },
    {
     "name": "stderr",
     "output_type": "stream",
     "text": [
      "\u001b[34m\u001b[1mwandb\u001b[0m: Adding directory to artifact (C:\\Users\\PARK\\Documents\\LAB\\RNN vs LSTM\\FInal Example\\wandb\\run-20221015_213639-195m80vg\\files\\model-best)... Done. 0.1s\n"
     ]
    },
    {
     "name": "stdout",
     "output_type": "stream",
     "text": [
      "5/5 [==============================] - 2s 606ms/step - loss: 0.1922 - mae: 0.3616 - val_loss: 0.1724 - val_mae: 0.3448\n",
      "Epoch 57/1000\n",
      "5/5 [==============================] - 1s 220ms/step - loss: 0.1813 - mae: 0.3517 - val_loss: 0.1851 - val_mae: 0.3585\n",
      "Epoch 58/1000\n",
      "5/5 [==============================] - 1s 186ms/step - loss: 0.1808 - mae: 0.3512 - val_loss: 0.1849 - val_mae: 0.3559\n",
      "Epoch 59/1000\n",
      "5/5 [==============================] - 1s 189ms/step - loss: 0.1787 - mae: 0.3476 - val_loss: 0.1754 - val_mae: 0.3466\n",
      "Epoch 60/1000\n",
      "5/5 [==============================] - 1s 190ms/step - loss: 0.1785 - mae: 0.3486 - val_loss: 0.2719 - val_mae: 0.4219\n",
      "Epoch 61/1000\n",
      "5/5 [==============================] - 1s 187ms/step - loss: 0.2302 - mae: 0.3916 - val_loss: 0.1952 - val_mae: 0.3667\n",
      "Epoch 62/1000\n",
      "5/5 [==============================] - 1s 184ms/step - loss: 0.1825 - mae: 0.3494 - val_loss: 0.1742 - val_mae: 0.3447\n",
      "Epoch 63/1000\n",
      "5/5 [==============================] - 1s 183ms/step - loss: 0.1805 - mae: 0.3497 - val_loss: 0.2687 - val_mae: 0.4263\n",
      "Epoch 64/1000\n",
      "5/5 [==============================] - 1s 183ms/step - loss: 0.2471 - mae: 0.4061 - val_loss: 0.2351 - val_mae: 0.3992\n",
      "Epoch 65/1000\n",
      "5/5 [==============================] - 1s 184ms/step - loss: 0.2463 - mae: 0.4061 - val_loss: 0.2167 - val_mae: 0.3786\n",
      "Epoch 66/1000\n",
      "5/5 [==============================] - 1s 189ms/step - loss: 0.2574 - mae: 0.4145 - val_loss: 0.2830 - val_mae: 0.4337\n",
      "Epoch 67/1000\n",
      "5/5 [==============================] - 1s 184ms/step - loss: 0.2324 - mae: 0.3956 - val_loss: 0.1895 - val_mae: 0.3638\n",
      "Epoch 68/1000\n",
      "5/5 [==============================] - 1s 186ms/step - loss: 0.1965 - mae: 0.3611 - val_loss: 0.2050 - val_mae: 0.3716\n",
      "Epoch 69/1000\n",
      "5/5 [==============================] - 1s 185ms/step - loss: 0.1999 - mae: 0.3684 - val_loss: 0.1888 - val_mae: 0.3554\n",
      "Epoch 70/1000\n",
      "5/5 [==============================] - 1s 182ms/step - loss: 0.2067 - mae: 0.3758 - val_loss: 0.1907 - val_mae: 0.3665\n",
      "Epoch 71/1000\n",
      "5/5 [==============================] - 1s 185ms/step - loss: 0.1936 - mae: 0.3613 - val_loss: 0.1860 - val_mae: 0.3574\n",
      "Epoch 72/1000\n",
      "5/5 [==============================] - 1s 190ms/step - loss: 0.1784 - mae: 0.3463 - val_loss: 0.1757 - val_mae: 0.3463\n",
      "Epoch 73/1000\n",
      "5/5 [==============================] - ETA: 0s - loss: 0.1733 - mae: 0.3443INFO:tensorflow:Assets written to: C:\\Users\\PARK\\Documents\\LAB\\RNN vs LSTM\\FInal Example\\wandb\\run-20221015_213639-195m80vg\\files\\model-best\\assets\n"
     ]
    },
    {
     "name": "stderr",
     "output_type": "stream",
     "text": [
      "\u001b[34m\u001b[1mwandb\u001b[0m: Adding directory to artifact (C:\\Users\\PARK\\Documents\\LAB\\RNN vs LSTM\\FInal Example\\wandb\\run-20221015_213639-195m80vg\\files\\model-best)... Done. 0.1s\n"
     ]
    },
    {
     "name": "stdout",
     "output_type": "stream",
     "text": [
      "5/5 [==============================] - 2s 579ms/step - loss: 0.1733 - mae: 0.3443 - val_loss: 0.1687 - val_mae: 0.3423\n",
      "Epoch 74/1000\n",
      "5/5 [==============================] - 1s 211ms/step - loss: 0.1850 - mae: 0.3580 - val_loss: 0.1916 - val_mae: 0.3606\n",
      "Epoch 75/1000\n",
      "5/5 [==============================] - 1s 186ms/step - loss: 0.2082 - mae: 0.3816 - val_loss: 0.2058 - val_mae: 0.3715\n",
      "Epoch 76/1000\n",
      "5/5 [==============================] - ETA: 0s - loss: 0.1964 - mae: 0.3655INFO:tensorflow:Assets written to: C:\\Users\\PARK\\Documents\\LAB\\RNN vs LSTM\\FInal Example\\wandb\\run-20221015_213639-195m80vg\\files\\model-best\\assets\n"
     ]
    },
    {
     "name": "stderr",
     "output_type": "stream",
     "text": [
      "\u001b[34m\u001b[1mwandb\u001b[0m: Adding directory to artifact (C:\\Users\\PARK\\Documents\\LAB\\RNN vs LSTM\\FInal Example\\wandb\\run-20221015_213639-195m80vg\\files\\model-best)... Done. 0.1s\n"
     ]
    },
    {
     "name": "stdout",
     "output_type": "stream",
     "text": [
      "5/5 [==============================] - 2s 573ms/step - loss: 0.1964 - mae: 0.3655 - val_loss: 0.1645 - val_mae: 0.3375\n",
      "Epoch 77/1000\n",
      "5/5 [==============================] - 1s 216ms/step - loss: 0.1640 - mae: 0.3347 - val_loss: 0.1687 - val_mae: 0.3372\n",
      "Epoch 78/1000\n",
      "5/5 [==============================] - 1s 186ms/step - loss: 0.1672 - mae: 0.3377 - val_loss: 0.1694 - val_mae: 0.3403\n",
      "Epoch 79/1000\n",
      "5/5 [==============================] - ETA: 0s - loss: 0.1703 - mae: 0.3412INFO:tensorflow:Assets written to: C:\\Users\\PARK\\Documents\\LAB\\RNN vs LSTM\\FInal Example\\wandb\\run-20221015_213639-195m80vg\\files\\model-best\\assets\n"
     ]
    },
    {
     "name": "stderr",
     "output_type": "stream",
     "text": [
      "\u001b[34m\u001b[1mwandb\u001b[0m: Adding directory to artifact (C:\\Users\\PARK\\Documents\\LAB\\RNN vs LSTM\\FInal Example\\wandb\\run-20221015_213639-195m80vg\\files\\model-best)... Done. 0.1s\n"
     ]
    },
    {
     "name": "stdout",
     "output_type": "stream",
     "text": [
      "5/5 [==============================] - 2s 598ms/step - loss: 0.1703 - mae: 0.3412 - val_loss: 0.1637 - val_mae: 0.3360\n",
      "Epoch 80/1000\n",
      "5/5 [==============================] - ETA: 0s - loss: 0.1655 - mae: 0.3358INFO:tensorflow:Assets written to: C:\\Users\\PARK\\Documents\\LAB\\RNN vs LSTM\\FInal Example\\wandb\\run-20221015_213639-195m80vg\\files\\model-best\\assets\n"
     ]
    },
    {
     "name": "stderr",
     "output_type": "stream",
     "text": [
      "\u001b[34m\u001b[1mwandb\u001b[0m: Adding directory to artifact (C:\\Users\\PARK\\Documents\\LAB\\RNN vs LSTM\\FInal Example\\wandb\\run-20221015_213639-195m80vg\\files\\model-best)... Done. 0.1s\n"
     ]
    },
    {
     "name": "stdout",
     "output_type": "stream",
     "text": [
      "5/5 [==============================] - 2s 601ms/step - loss: 0.1655 - mae: 0.3358 - val_loss: 0.1564 - val_mae: 0.3293\n",
      "Epoch 81/1000\n",
      "5/5 [==============================] - 1s 225ms/step - loss: 0.1720 - mae: 0.3386 - val_loss: 0.1721 - val_mae: 0.3419\n",
      "Epoch 82/1000\n",
      "5/5 [==============================] - 1s 183ms/step - loss: 0.1801 - mae: 0.3461 - val_loss: 0.1906 - val_mae: 0.3570\n",
      "Epoch 83/1000\n",
      "5/5 [==============================] - 1s 185ms/step - loss: 0.1788 - mae: 0.3472 - val_loss: 0.2305 - val_mae: 0.3922\n",
      "Epoch 84/1000\n",
      "5/5 [==============================] - 1s 183ms/step - loss: 0.2018 - mae: 0.3638 - val_loss: 0.3324 - val_mae: 0.4811\n",
      "Epoch 85/1000\n",
      "5/5 [==============================] - 1s 183ms/step - loss: 0.2450 - mae: 0.3979 - val_loss: 0.2421 - val_mae: 0.4044\n",
      "Epoch 86/1000\n",
      "5/5 [==============================] - 1s 185ms/step - loss: 0.2443 - mae: 0.4040 - val_loss: 0.2947 - val_mae: 0.4480\n",
      "Epoch 87/1000\n",
      "5/5 [==============================] - 1s 182ms/step - loss: 0.2273 - mae: 0.3855 - val_loss: 0.1787 - val_mae: 0.3500\n",
      "Epoch 88/1000\n",
      "5/5 [==============================] - 1s 187ms/step - loss: 0.2247 - mae: 0.3855 - val_loss: 0.4456 - val_mae: 0.5560\n",
      "Epoch 89/1000\n",
      "5/5 [==============================] - 1s 188ms/step - loss: 0.3279 - mae: 0.4747 - val_loss: 0.1780 - val_mae: 0.3450\n",
      "Epoch 90/1000\n",
      "5/5 [==============================] - 1s 186ms/step - loss: 0.2299 - mae: 0.3898 - val_loss: 0.2413 - val_mae: 0.3995\n",
      "Epoch 91/1000\n",
      "5/5 [==============================] - 1s 186ms/step - loss: 0.2191 - mae: 0.3830 - val_loss: 0.2065 - val_mae: 0.3765\n",
      "Epoch 92/1000\n",
      "5/5 [==============================] - 1s 183ms/step - loss: 0.1916 - mae: 0.3599 - val_loss: 0.1681 - val_mae: 0.3369\n",
      "Epoch 93/1000\n",
      "5/5 [==============================] - 1s 183ms/step - loss: 0.1838 - mae: 0.3539 - val_loss: 0.1921 - val_mae: 0.3587\n",
      "Epoch 94/1000\n",
      "5/5 [==============================] - 1s 183ms/step - loss: 0.1982 - mae: 0.3653 - val_loss: 0.1905 - val_mae: 0.3600\n",
      "Epoch 95/1000\n",
      "5/5 [==============================] - 1s 184ms/step - loss: 0.1788 - mae: 0.3446 - val_loss: 0.1599 - val_mae: 0.3296\n",
      "Epoch 96/1000\n",
      "5/5 [==============================] - 1s 182ms/step - loss: 0.1664 - mae: 0.3342 - val_loss: 0.1651 - val_mae: 0.3339\n",
      "Epoch 97/1000\n",
      "5/5 [==============================] - 1s 182ms/step - loss: 0.1763 - mae: 0.3429 - val_loss: 0.1718 - val_mae: 0.3390\n",
      "Epoch 98/1000\n",
      "5/5 [==============================] - 1s 184ms/step - loss: 0.1672 - mae: 0.3329 - val_loss: 0.1664 - val_mae: 0.3363\n",
      "Epoch 99/1000\n",
      "5/5 [==============================] - ETA: 0s - loss: 0.1562 - mae: 0.3228INFO:tensorflow:Assets written to: C:\\Users\\PARK\\Documents\\LAB\\RNN vs LSTM\\FInal Example\\wandb\\run-20221015_213639-195m80vg\\files\\model-best\\assets\n"
     ]
    },
    {
     "name": "stderr",
     "output_type": "stream",
     "text": [
      "\u001b[34m\u001b[1mwandb\u001b[0m: Adding directory to artifact (C:\\Users\\PARK\\Documents\\LAB\\RNN vs LSTM\\FInal Example\\wandb\\run-20221015_213639-195m80vg\\files\\model-best)... Done. 0.1s\n"
     ]
    },
    {
     "name": "stdout",
     "output_type": "stream",
     "text": [
      "5/5 [==============================] - 3s 657ms/step - loss: 0.1562 - mae: 0.3228 - val_loss: 0.1447 - val_mae: 0.3148\n",
      "Epoch 100/1000\n",
      "5/5 [==============================] - 1s 215ms/step - loss: 0.1544 - mae: 0.3220 - val_loss: 0.2709 - val_mae: 0.4208\n",
      "Epoch 101/1000\n",
      "5/5 [==============================] - 1s 189ms/step - loss: 0.2115 - mae: 0.3738 - val_loss: 0.1592 - val_mae: 0.3278\n",
      "Epoch 102/1000\n",
      "5/5 [==============================] - 1s 188ms/step - loss: 0.1567 - mae: 0.3256 - val_loss: 0.1468 - val_mae: 0.3167\n",
      "Epoch 103/1000\n",
      "5/5 [==============================] - ETA: 0s - loss: 0.1601 - mae: 0.3229INFO:tensorflow:Assets written to: C:\\Users\\PARK\\Documents\\LAB\\RNN vs LSTM\\FInal Example\\wandb\\run-20221015_213639-195m80vg\\files\\model-best\\assets\n"
     ]
    },
    {
     "name": "stderr",
     "output_type": "stream",
     "text": [
      "\u001b[34m\u001b[1mwandb\u001b[0m: Adding directory to artifact (C:\\Users\\PARK\\Documents\\LAB\\RNN vs LSTM\\FInal Example\\wandb\\run-20221015_213639-195m80vg\\files\\model-best)... Done. 0.1s\n"
     ]
    },
    {
     "name": "stdout",
     "output_type": "stream",
     "text": [
      "5/5 [==============================] - 2s 569ms/step - loss: 0.1601 - mae: 0.3229 - val_loss: 0.1408 - val_mae: 0.3102\n",
      "Epoch 104/1000\n",
      "5/5 [==============================] - 1s 210ms/step - loss: 0.1458 - mae: 0.3113 - val_loss: 0.1867 - val_mae: 0.3544\n",
      "Epoch 105/1000\n",
      "5/5 [==============================] - ETA: 0s - loss: 0.1797 - mae: 0.3462INFO:tensorflow:Assets written to: C:\\Users\\PARK\\Documents\\LAB\\RNN vs LSTM\\FInal Example\\wandb\\run-20221015_213639-195m80vg\\files\\model-best\\assets\n"
     ]
    },
    {
     "name": "stderr",
     "output_type": "stream",
     "text": [
      "\u001b[34m\u001b[1mwandb\u001b[0m: Adding directory to artifact (C:\\Users\\PARK\\Documents\\LAB\\RNN vs LSTM\\FInal Example\\wandb\\run-20221015_213639-195m80vg\\files\\model-best)... Done. 0.1s\n"
     ]
    },
    {
     "name": "stdout",
     "output_type": "stream",
     "text": [
      "5/5 [==============================] - 2s 572ms/step - loss: 0.1797 - mae: 0.3462 - val_loss: 0.1309 - val_mae: 0.2969\n",
      "Epoch 106/1000\n",
      "5/5 [==============================] - 1s 209ms/step - loss: 0.1700 - mae: 0.3343 - val_loss: 0.1540 - val_mae: 0.3175\n",
      "Epoch 107/1000\n",
      "5/5 [==============================] - ETA: 0s - loss: 0.1413 - mae: 0.3055INFO:tensorflow:Assets written to: C:\\Users\\PARK\\Documents\\LAB\\RNN vs LSTM\\FInal Example\\wandb\\run-20221015_213639-195m80vg\\files\\model-best\\assets\n"
     ]
    },
    {
     "name": "stderr",
     "output_type": "stream",
     "text": [
      "\u001b[34m\u001b[1mwandb\u001b[0m: Adding directory to artifact (C:\\Users\\PARK\\Documents\\LAB\\RNN vs LSTM\\FInal Example\\wandb\\run-20221015_213639-195m80vg\\files\\model-best)... Done. 0.1s\n"
     ]
    },
    {
     "name": "stdout",
     "output_type": "stream",
     "text": [
      "5/5 [==============================] - 3s 627ms/step - loss: 0.1413 - mae: 0.3055 - val_loss: 0.1255 - val_mae: 0.2918\n",
      "Epoch 108/1000\n",
      "5/5 [==============================] - 1s 219ms/step - loss: 0.1300 - mae: 0.2948 - val_loss: 0.1497 - val_mae: 0.3117\n",
      "Epoch 109/1000\n",
      "5/5 [==============================] - ETA: 0s - loss: 0.1644 - mae: 0.3274INFO:tensorflow:Assets written to: C:\\Users\\PARK\\Documents\\LAB\\RNN vs LSTM\\FInal Example\\wandb\\run-20221015_213639-195m80vg\\files\\model-best\\assets\n"
     ]
    },
    {
     "name": "stderr",
     "output_type": "stream",
     "text": [
      "\u001b[34m\u001b[1mwandb\u001b[0m: Adding directory to artifact (C:\\Users\\PARK\\Documents\\LAB\\RNN vs LSTM\\FInal Example\\wandb\\run-20221015_213639-195m80vg\\files\\model-best)... Done. 0.1s\n"
     ]
    },
    {
     "name": "stdout",
     "output_type": "stream",
     "text": [
      "5/5 [==============================] - 2s 576ms/step - loss: 0.1644 - mae: 0.3274 - val_loss: 0.1234 - val_mae: 0.2879\n",
      "Epoch 110/1000\n",
      "5/5 [==============================] - 1s 222ms/step - loss: 0.1277 - mae: 0.2910 - val_loss: 0.3473 - val_mae: 0.4961\n",
      "Epoch 111/1000\n",
      "5/5 [==============================] - 1s 188ms/step - loss: 0.2322 - mae: 0.3962 - val_loss: 0.1321 - val_mae: 0.2969\n",
      "Epoch 112/1000\n",
      "5/5 [==============================] - 1s 187ms/step - loss: 0.1517 - mae: 0.3143 - val_loss: 0.1943 - val_mae: 0.3530\n",
      "Epoch 113/1000\n",
      "5/5 [==============================] - 1s 187ms/step - loss: 0.1830 - mae: 0.3498 - val_loss: 0.1536 - val_mae: 0.3145\n",
      "Epoch 114/1000\n",
      "5/5 [==============================] - 1s 184ms/step - loss: 0.1828 - mae: 0.3450 - val_loss: 0.1494 - val_mae: 0.3154\n",
      "Epoch 115/1000\n",
      "5/5 [==============================] - 1s 185ms/step - loss: 0.2716 - mae: 0.4264 - val_loss: 0.1450 - val_mae: 0.3138\n",
      "Epoch 116/1000\n",
      "5/5 [==============================] - 1s 191ms/step - loss: 0.2435 - mae: 0.4026 - val_loss: 0.2147 - val_mae: 0.3738\n",
      "Epoch 117/1000\n",
      "5/5 [==============================] - 1s 195ms/step - loss: 0.2213 - mae: 0.3836 - val_loss: 0.1782 - val_mae: 0.3505\n",
      "Epoch 118/1000\n",
      "5/5 [==============================] - 1s 188ms/step - loss: 0.1818 - mae: 0.3502 - val_loss: 0.1709 - val_mae: 0.3422\n",
      "Epoch 119/1000\n",
      "5/5 [==============================] - 1s 184ms/step - loss: 0.1669 - mae: 0.3369 - val_loss: 0.1575 - val_mae: 0.3284\n",
      "Epoch 120/1000\n",
      "5/5 [==============================] - 1s 181ms/step - loss: 0.1583 - mae: 0.3260 - val_loss: 0.1561 - val_mae: 0.3271\n",
      "Epoch 121/1000\n",
      "5/5 [==============================] - 1s 181ms/step - loss: 0.1490 - mae: 0.3180 - val_loss: 0.1564 - val_mae: 0.3293\n",
      "Epoch 122/1000\n",
      "5/5 [==============================] - 1s 183ms/step - loss: 0.1659 - mae: 0.3319 - val_loss: 0.1903 - val_mae: 0.3559\n",
      "Epoch 123/1000\n",
      "5/5 [==============================] - 1s 183ms/step - loss: 0.1752 - mae: 0.3431 - val_loss: 0.1483 - val_mae: 0.3194\n",
      "Epoch 124/1000\n",
      "5/5 [==============================] - 1s 181ms/step - loss: 0.1416 - mae: 0.3090 - val_loss: 0.1273 - val_mae: 0.2977\n",
      "Epoch 125/1000\n",
      "5/5 [==============================] - 1s 182ms/step - loss: 0.1369 - mae: 0.3032 - val_loss: 0.1548 - val_mae: 0.3213\n",
      "Epoch 126/1000\n",
      "5/5 [==============================] - ETA: 0s - loss: 0.1423 - mae: 0.3052INFO:tensorflow:Assets written to: C:\\Users\\PARK\\Documents\\LAB\\RNN vs LSTM\\FInal Example\\wandb\\run-20221015_213639-195m80vg\\files\\model-best\\assets\n"
     ]
    },
    {
     "name": "stderr",
     "output_type": "stream",
     "text": [
      "\u001b[34m\u001b[1mwandb\u001b[0m: Adding directory to artifact (C:\\Users\\PARK\\Documents\\LAB\\RNN vs LSTM\\FInal Example\\wandb\\run-20221015_213639-195m80vg\\files\\model-best)... Done. 0.1s\n"
     ]
    },
    {
     "name": "stdout",
     "output_type": "stream",
     "text": [
      "5/5 [==============================] - 2s 569ms/step - loss: 0.1423 - mae: 0.3052 - val_loss: 0.1229 - val_mae: 0.2883\n",
      "Epoch 127/1000\n",
      "5/5 [==============================] - ETA: 0s - loss: 0.1418 - mae: 0.3088INFO:tensorflow:Assets written to: C:\\Users\\PARK\\Documents\\LAB\\RNN vs LSTM\\FInal Example\\wandb\\run-20221015_213639-195m80vg\\files\\model-best\\assets\n"
     ]
    },
    {
     "name": "stderr",
     "output_type": "stream",
     "text": [
      "\u001b[34m\u001b[1mwandb\u001b[0m: Adding directory to artifact (C:\\Users\\PARK\\Documents\\LAB\\RNN vs LSTM\\FInal Example\\wandb\\run-20221015_213639-195m80vg\\files\\model-best)... Done. 0.1s\n"
     ]
    },
    {
     "name": "stdout",
     "output_type": "stream",
     "text": [
      "5/5 [==============================] - 3s 630ms/step - loss: 0.1418 - mae: 0.3088 - val_loss: 0.1212 - val_mae: 0.2838\n",
      "Epoch 128/1000\n",
      "5/5 [==============================] - ETA: 0s - loss: 0.1213 - mae: 0.2831INFO:tensorflow:Assets written to: C:\\Users\\PARK\\Documents\\LAB\\RNN vs LSTM\\FInal Example\\wandb\\run-20221015_213639-195m80vg\\files\\model-best\\assets\n"
     ]
    },
    {
     "name": "stderr",
     "output_type": "stream",
     "text": [
      "\u001b[34m\u001b[1mwandb\u001b[0m: Adding directory to artifact (C:\\Users\\PARK\\Documents\\LAB\\RNN vs LSTM\\FInal Example\\wandb\\run-20221015_213639-195m80vg\\files\\model-best)... Done. 0.1s\n"
     ]
    },
    {
     "name": "stdout",
     "output_type": "stream",
     "text": [
      "5/5 [==============================] - 2s 587ms/step - loss: 0.1213 - mae: 0.2831 - val_loss: 0.1129 - val_mae: 0.2721\n",
      "Epoch 129/1000\n",
      "5/5 [==============================] - ETA: 0s - loss: 0.1107 - mae: 0.2697INFO:tensorflow:Assets written to: C:\\Users\\PARK\\Documents\\LAB\\RNN vs LSTM\\FInal Example\\wandb\\run-20221015_213639-195m80vg\\files\\model-best\\assets\n"
     ]
    },
    {
     "name": "stderr",
     "output_type": "stream",
     "text": [
      "\u001b[34m\u001b[1mwandb\u001b[0m: Adding directory to artifact (C:\\Users\\PARK\\Documents\\LAB\\RNN vs LSTM\\FInal Example\\wandb\\run-20221015_213639-195m80vg\\files\\model-best)... Done. 0.1s\n"
     ]
    },
    {
     "name": "stdout",
     "output_type": "stream",
     "text": [
      "5/5 [==============================] - 3s 609ms/step - loss: 0.1107 - mae: 0.2697 - val_loss: 0.1103 - val_mae: 0.2670\n",
      "Epoch 130/1000\n",
      "5/5 [==============================] - 1s 183ms/step - loss: 0.1145 - mae: 0.2711 - val_loss: 0.2119 - val_mae: 0.3824\n",
      "Epoch 131/1000\n",
      "5/5 [==============================] - ETA: 0s - loss: 0.2055 - mae: 0.3700INFO:tensorflow:Assets written to: C:\\Users\\PARK\\Documents\\LAB\\RNN vs LSTM\\FInal Example\\wandb\\run-20221015_213639-195m80vg\\files\\model-best\\assets\n"
     ]
    },
    {
     "name": "stderr",
     "output_type": "stream",
     "text": [
      "\u001b[34m\u001b[1mwandb\u001b[0m: Adding directory to artifact (C:\\Users\\PARK\\Documents\\LAB\\RNN vs LSTM\\FInal Example\\wandb\\run-20221015_213639-195m80vg\\files\\model-best)... Done. 0.1s\n"
     ]
    },
    {
     "name": "stdout",
     "output_type": "stream",
     "text": [
      "5/5 [==============================] - 2s 586ms/step - loss: 0.2055 - mae: 0.3700 - val_loss: 0.1022 - val_mae: 0.2611\n",
      "Epoch 132/1000\n",
      "5/5 [==============================] - 1s 208ms/step - loss: 0.1665 - mae: 0.3322 - val_loss: 0.1067 - val_mae: 0.2662\n",
      "Epoch 133/1000\n",
      "5/5 [==============================] - 1s 191ms/step - loss: 0.1663 - mae: 0.3303 - val_loss: 0.2006 - val_mae: 0.3683\n",
      "Epoch 134/1000\n",
      "5/5 [==============================] - 1s 187ms/step - loss: 0.1909 - mae: 0.3559 - val_loss: 0.3372 - val_mae: 0.4904\n",
      "Epoch 135/1000\n",
      "5/5 [==============================] - 1s 184ms/step - loss: 0.2289 - mae: 0.3907 - val_loss: 0.2306 - val_mae: 0.3979\n",
      "Epoch 136/1000\n",
      "5/5 [==============================] - 1s 182ms/step - loss: 0.1911 - mae: 0.3593 - val_loss: 0.1499 - val_mae: 0.3190\n",
      "Epoch 137/1000\n",
      "5/5 [==============================] - 1s 182ms/step - loss: 0.1479 - mae: 0.3141 - val_loss: 0.1578 - val_mae: 0.3246\n",
      "Epoch 138/1000\n",
      "5/5 [==============================] - 1s 183ms/step - loss: 0.1367 - mae: 0.3032 - val_loss: 0.2134 - val_mae: 0.3860\n",
      "Epoch 139/1000\n",
      "5/5 [==============================] - 1s 185ms/step - loss: 0.1664 - mae: 0.3300 - val_loss: 0.2253 - val_mae: 0.3954\n",
      "Epoch 140/1000\n",
      "5/5 [==============================] - 1s 183ms/step - loss: 0.1613 - mae: 0.3217 - val_loss: 0.1181 - val_mae: 0.2819\n",
      "Epoch 141/1000\n",
      "5/5 [==============================] - 1s 184ms/step - loss: 0.1472 - mae: 0.3094 - val_loss: 0.1249 - val_mae: 0.2837\n",
      "Epoch 142/1000\n",
      "5/5 [==============================] - 1s 186ms/step - loss: 0.1318 - mae: 0.2914 - val_loss: 0.1169 - val_mae: 0.2778\n",
      "Epoch 143/1000\n",
      "5/5 [==============================] - ETA: 0s - loss: 0.1353 - mae: 0.2943INFO:tensorflow:Assets written to: C:\\Users\\PARK\\Documents\\LAB\\RNN vs LSTM\\FInal Example\\wandb\\run-20221015_213639-195m80vg\\files\\model-best\\assets\n"
     ]
    },
    {
     "name": "stderr",
     "output_type": "stream",
     "text": [
      "\u001b[34m\u001b[1mwandb\u001b[0m: Adding directory to artifact (C:\\Users\\PARK\\Documents\\LAB\\RNN vs LSTM\\FInal Example\\wandb\\run-20221015_213639-195m80vg\\files\\model-best)... Done. 0.1s\n"
     ]
    },
    {
     "name": "stdout",
     "output_type": "stream",
     "text": [
      "5/5 [==============================] - 2s 571ms/step - loss: 0.1353 - mae: 0.2943 - val_loss: 0.0931 - val_mae: 0.2492\n",
      "Epoch 144/1000\n",
      "5/5 [==============================] - 1s 216ms/step - loss: 0.1170 - mae: 0.2766 - val_loss: 0.1186 - val_mae: 0.2831\n",
      "Epoch 145/1000\n",
      "5/5 [==============================] - ETA: 0s - loss: 0.1251 - mae: 0.2889INFO:tensorflow:Assets written to: C:\\Users\\PARK\\Documents\\LAB\\RNN vs LSTM\\FInal Example\\wandb\\run-20221015_213639-195m80vg\\files\\model-best\\assets\n"
     ]
    },
    {
     "name": "stderr",
     "output_type": "stream",
     "text": [
      "\u001b[34m\u001b[1mwandb\u001b[0m: Adding directory to artifact (C:\\Users\\PARK\\Documents\\LAB\\RNN vs LSTM\\FInal Example\\wandb\\run-20221015_213639-195m80vg\\files\\model-best)... Done. 0.1s\n"
     ]
    },
    {
     "name": "stdout",
     "output_type": "stream",
     "text": [
      "5/5 [==============================] - 3s 638ms/step - loss: 0.1251 - mae: 0.2889 - val_loss: 0.0930 - val_mae: 0.2441\n",
      "Epoch 146/1000\n",
      "5/5 [==============================] - ETA: 0s - loss: 0.0975 - mae: 0.2484INFO:tensorflow:Assets written to: C:\\Users\\PARK\\Documents\\LAB\\RNN vs LSTM\\FInal Example\\wandb\\run-20221015_213639-195m80vg\\files\\model-best\\assets\n"
     ]
    },
    {
     "name": "stderr",
     "output_type": "stream",
     "text": [
      "\u001b[34m\u001b[1mwandb\u001b[0m: Adding directory to artifact (C:\\Users\\PARK\\Documents\\LAB\\RNN vs LSTM\\FInal Example\\wandb\\run-20221015_213639-195m80vg\\files\\model-best)... Done. 0.1s\n"
     ]
    },
    {
     "name": "stdout",
     "output_type": "stream",
     "text": [
      "5/5 [==============================] - 3s 632ms/step - loss: 0.0975 - mae: 0.2484 - val_loss: 0.0902 - val_mae: 0.2384\n",
      "Epoch 147/1000\n",
      "5/5 [==============================] - 1s 226ms/step - loss: 0.0981 - mae: 0.2498 - val_loss: 0.1761 - val_mae: 0.3538\n",
      "Epoch 148/1000\n",
      "5/5 [==============================] - 1s 184ms/step - loss: 0.2668 - mae: 0.4325 - val_loss: 0.1384 - val_mae: 0.3015\n",
      "Epoch 149/1000\n",
      "5/5 [==============================] - 1s 186ms/step - loss: 0.1248 - mae: 0.2821 - val_loss: 0.1384 - val_mae: 0.3020\n",
      "Epoch 150/1000\n",
      "5/5 [==============================] - 1s 185ms/step - loss: 0.1212 - mae: 0.2818 - val_loss: 0.1005 - val_mae: 0.2541\n",
      "Epoch 151/1000\n",
      "5/5 [==============================] - ETA: 0s - loss: 0.1066 - mae: 0.2592INFO:tensorflow:Assets written to: C:\\Users\\PARK\\Documents\\LAB\\RNN vs LSTM\\FInal Example\\wandb\\run-20221015_213639-195m80vg\\files\\model-best\\assets\n"
     ]
    },
    {
     "name": "stderr",
     "output_type": "stream",
     "text": [
      "\u001b[34m\u001b[1mwandb\u001b[0m: Adding directory to artifact (C:\\Users\\PARK\\Documents\\LAB\\RNN vs LSTM\\FInal Example\\wandb\\run-20221015_213639-195m80vg\\files\\model-best)... Done. 0.1s\n"
     ]
    },
    {
     "name": "stdout",
     "output_type": "stream",
     "text": [
      "5/5 [==============================] - 2s 590ms/step - loss: 0.1066 - mae: 0.2592 - val_loss: 0.0857 - val_mae: 0.2368\n",
      "Epoch 152/1000\n",
      "5/5 [==============================] - 1s 218ms/step - loss: 0.1040 - mae: 0.2576 - val_loss: 0.0952 - val_mae: 0.2510\n",
      "Epoch 153/1000\n",
      "5/5 [==============================] - 1s 189ms/step - loss: 0.1034 - mae: 0.2573 - val_loss: 0.0925 - val_mae: 0.2388\n",
      "Epoch 154/1000\n",
      "5/5 [==============================] - ETA: 0s - loss: 0.1080 - mae: 0.2637INFO:tensorflow:Assets written to: C:\\Users\\PARK\\Documents\\LAB\\RNN vs LSTM\\FInal Example\\wandb\\run-20221015_213639-195m80vg\\files\\model-best\\assets\n"
     ]
    },
    {
     "name": "stderr",
     "output_type": "stream",
     "text": [
      "\u001b[34m\u001b[1mwandb\u001b[0m: Adding directory to artifact (C:\\Users\\PARK\\Documents\\LAB\\RNN vs LSTM\\FInal Example\\wandb\\run-20221015_213639-195m80vg\\files\\model-best)... Done. 0.1s\n"
     ]
    },
    {
     "name": "stdout",
     "output_type": "stream",
     "text": [
      "5/5 [==============================] - 2s 598ms/step - loss: 0.1080 - mae: 0.2637 - val_loss: 0.0772 - val_mae: 0.2197\n",
      "Epoch 155/1000\n",
      "5/5 [==============================] - 1s 224ms/step - loss: 0.0872 - mae: 0.2329 - val_loss: 0.3500 - val_mae: 0.5242\n",
      "Epoch 156/1000\n",
      "5/5 [==============================] - 1s 184ms/step - loss: 0.3961 - mae: 0.5326 - val_loss: 0.2821 - val_mae: 0.4383\n",
      "Epoch 157/1000\n",
      "5/5 [==============================] - 1s 183ms/step - loss: 0.2206 - mae: 0.3853 - val_loss: 0.2351 - val_mae: 0.3926\n",
      "Epoch 158/1000\n",
      "5/5 [==============================] - 1s 182ms/step - loss: 0.2145 - mae: 0.3740 - val_loss: 0.2007 - val_mae: 0.3625\n",
      "Epoch 159/1000\n",
      "5/5 [==============================] - 1s 187ms/step - loss: 0.2185 - mae: 0.3835 - val_loss: 0.1544 - val_mae: 0.3271\n",
      "Epoch 160/1000\n",
      "5/5 [==============================] - 1s 190ms/step - loss: 0.1725 - mae: 0.3371 - val_loss: 0.1696 - val_mae: 0.3344\n",
      "Epoch 161/1000\n",
      "5/5 [==============================] - 1s 186ms/step - loss: 0.1629 - mae: 0.3311 - val_loss: 0.1449 - val_mae: 0.3144\n",
      "Epoch 162/1000\n",
      "5/5 [==============================] - 1s 184ms/step - loss: 0.1450 - mae: 0.3128 - val_loss: 0.1423 - val_mae: 0.3085\n",
      "Epoch 163/1000\n",
      "5/5 [==============================] - 1s 182ms/step - loss: 0.1549 - mae: 0.3217 - val_loss: 0.1303 - val_mae: 0.2968\n",
      "Epoch 164/1000\n",
      "5/5 [==============================] - 1s 182ms/step - loss: 0.1624 - mae: 0.3289 - val_loss: 0.1499 - val_mae: 0.3155\n",
      "Epoch 165/1000\n",
      "5/5 [==============================] - 1s 186ms/step - loss: 0.1963 - mae: 0.3646 - val_loss: 0.1359 - val_mae: 0.3001\n",
      "Epoch 166/1000\n",
      "5/5 [==============================] - 1s 185ms/step - loss: 0.2031 - mae: 0.3698 - val_loss: 0.1445 - val_mae: 0.3096\n",
      "Epoch 167/1000\n",
      "5/5 [==============================] - 1s 184ms/step - loss: 0.1784 - mae: 0.3436 - val_loss: 0.2579 - val_mae: 0.4279\n",
      "Epoch 168/1000\n",
      "5/5 [==============================] - 1s 186ms/step - loss: 0.2527 - mae: 0.4178 - val_loss: 0.2531 - val_mae: 0.4213\n",
      "Epoch 169/1000\n",
      "5/5 [==============================] - 1s 184ms/step - loss: 0.2020 - mae: 0.3699 - val_loss: 0.2312 - val_mae: 0.4011\n",
      "Epoch 170/1000\n",
      "5/5 [==============================] - 1s 181ms/step - loss: 0.1654 - mae: 0.3269 - val_loss: 0.2900 - val_mae: 0.4557\n",
      "Epoch 171/1000\n",
      "5/5 [==============================] - 1s 186ms/step - loss: 0.2287 - mae: 0.3900 - val_loss: 0.2414 - val_mae: 0.4102\n",
      "Epoch 172/1000\n",
      "5/5 [==============================] - 1s 184ms/step - loss: 0.1944 - mae: 0.3550 - val_loss: 0.1658 - val_mae: 0.3333\n",
      "Epoch 173/1000\n",
      "5/5 [==============================] - 1s 183ms/step - loss: 0.2104 - mae: 0.3725 - val_loss: 0.1676 - val_mae: 0.3358\n",
      "Epoch 174/1000\n",
      "5/5 [==============================] - 1s 187ms/step - loss: 0.1748 - mae: 0.3378 - val_loss: 0.1418 - val_mae: 0.3035\n",
      "Epoch 175/1000\n",
      "5/5 [==============================] - 1s 189ms/step - loss: 0.1378 - mae: 0.3017 - val_loss: 0.1226 - val_mae: 0.2851\n",
      "Epoch 176/1000\n",
      "5/5 [==============================] - 1s 184ms/step - loss: 0.1263 - mae: 0.2912 - val_loss: 0.1177 - val_mae: 0.2820\n",
      "Epoch 177/1000\n",
      "5/5 [==============================] - 1s 182ms/step - loss: 0.1206 - mae: 0.2842 - val_loss: 0.1201 - val_mae: 0.2831\n",
      "Epoch 178/1000\n",
      "5/5 [==============================] - 1s 184ms/step - loss: 0.1150 - mae: 0.2738 - val_loss: 0.1204 - val_mae: 0.2868\n",
      "Epoch 179/1000\n",
      "5/5 [==============================] - 1s 183ms/step - loss: 0.1077 - mae: 0.2632 - val_loss: 0.0857 - val_mae: 0.2361\n",
      "Epoch 180/1000\n",
      "5/5 [==============================] - 1s 183ms/step - loss: 0.1087 - mae: 0.2664 - val_loss: 0.0909 - val_mae: 0.2399\n",
      "Epoch 181/1000\n",
      "5/5 [==============================] - 1s 185ms/step - loss: 0.1188 - mae: 0.2780 - val_loss: 0.1186 - val_mae: 0.2780\n",
      "Epoch 182/1000\n",
      "5/5 [==============================] - 1s 186ms/step - loss: 0.1036 - mae: 0.2569 - val_loss: 0.1111 - val_mae: 0.2700\n",
      "Epoch 183/1000\n",
      "5/5 [==============================] - 1s 191ms/step - loss: 0.1049 - mae: 0.2617 - val_loss: 0.1705 - val_mae: 0.3466\n",
      "Epoch 184/1000\n",
      "5/5 [==============================] - 1s 186ms/step - loss: 0.1630 - mae: 0.3305 - val_loss: 0.1027 - val_mae: 0.2566\n",
      "Epoch 185/1000\n",
      "5/5 [==============================] - 1s 183ms/step - loss: 0.2196 - mae: 0.3877 - val_loss: 0.0936 - val_mae: 0.2480\n",
      "Epoch 186/1000\n",
      "5/5 [==============================] - 1s 182ms/step - loss: 0.1251 - mae: 0.2862 - val_loss: 0.1297 - val_mae: 0.2931\n",
      "Epoch 187/1000\n",
      "5/5 [==============================] - 1s 191ms/step - loss: 0.1458 - mae: 0.3080 - val_loss: 0.1894 - val_mae: 0.3558\n",
      "Epoch 188/1000\n",
      "5/5 [==============================] - 1s 188ms/step - loss: 0.1444 - mae: 0.3016 - val_loss: 0.1005 - val_mae: 0.2554\n",
      "Epoch 189/1000\n",
      "5/5 [==============================] - 1s 186ms/step - loss: 0.1507 - mae: 0.3141 - val_loss: 0.1330 - val_mae: 0.2950\n",
      "Epoch 190/1000\n",
      "5/5 [==============================] - 1s 182ms/step - loss: 0.1340 - mae: 0.2921 - val_loss: 0.1104 - val_mae: 0.2697\n",
      "Epoch 191/1000\n",
      "5/5 [==============================] - 1s 181ms/step - loss: 0.1167 - mae: 0.2744 - val_loss: 0.1032 - val_mae: 0.2595\n",
      "Epoch 192/1000\n",
      "5/5 [==============================] - 1s 185ms/step - loss: 0.1099 - mae: 0.2657 - val_loss: 0.0883 - val_mae: 0.2394\n",
      "Epoch 193/1000\n",
      "5/5 [==============================] - 1s 181ms/step - loss: 0.0943 - mae: 0.2453 - val_loss: 0.0844 - val_mae: 0.2296\n",
      "Epoch 194/1000\n",
      "4/5 [=======================>......] - ETA: 0s - loss: 0.0868 - mae: 0.2343INFO:tensorflow:Assets written to: C:\\Users\\PARK\\Documents\\LAB\\RNN vs LSTM\\FInal Example\\wandb\\run-20221015_213639-195m80vg\\files\\model-best\\assets\n"
     ]
    },
    {
     "name": "stderr",
     "output_type": "stream",
     "text": [
      "\u001b[34m\u001b[1mwandb\u001b[0m: Adding directory to artifact (C:\\Users\\PARK\\Documents\\LAB\\RNN vs LSTM\\FInal Example\\wandb\\run-20221015_213639-195m80vg\\files\\model-best)... Done. 0.1s\n"
     ]
    },
    {
     "name": "stdout",
     "output_type": "stream",
     "text": [
      "5/5 [==============================] - 2s 573ms/step - loss: 0.0862 - mae: 0.2334 - val_loss: 0.0703 - val_mae: 0.2079\n",
      "Epoch 195/1000\n",
      "5/5 [==============================] - 1s 203ms/step - loss: 0.0832 - mae: 0.2281 - val_loss: 0.0742 - val_mae: 0.2170\n",
      "Epoch 196/1000\n",
      "5/5 [==============================] - 1s 184ms/step - loss: 0.0826 - mae: 0.2263 - val_loss: 0.0710 - val_mae: 0.2129\n",
      "Epoch 197/1000\n",
      "5/5 [==============================] - 1s 184ms/step - loss: 0.2119 - mae: 0.3644 - val_loss: 0.0725 - val_mae: 0.2099\n",
      "Epoch 198/1000\n",
      "5/5 [==============================] - 1s 194ms/step - loss: 0.1899 - mae: 0.3551 - val_loss: 0.1889 - val_mae: 0.3586\n",
      "Epoch 199/1000\n",
      "5/5 [==============================] - 1s 189ms/step - loss: 0.1563 - mae: 0.3204 - val_loss: 0.1525 - val_mae: 0.3203\n",
      "Epoch 200/1000\n",
      "5/5 [==============================] - 1s 186ms/step - loss: 0.1444 - mae: 0.3102 - val_loss: 0.1788 - val_mae: 0.3439\n",
      "Epoch 201/1000\n",
      "5/5 [==============================] - 1s 184ms/step - loss: 0.1554 - mae: 0.3184 - val_loss: 0.1224 - val_mae: 0.2866\n",
      "Epoch 202/1000\n",
      "5/5 [==============================] - 1s 182ms/step - loss: 0.1255 - mae: 0.2865 - val_loss: 0.1725 - val_mae: 0.3356\n",
      "Epoch 203/1000\n",
      "5/5 [==============================] - 1s 184ms/step - loss: 0.1340 - mae: 0.2940 - val_loss: 0.0947 - val_mae: 0.2484\n",
      "Epoch 204/1000\n",
      "5/5 [==============================] - 1s 183ms/step - loss: 0.1021 - mae: 0.2536 - val_loss: 0.1042 - val_mae: 0.2620\n",
      "Epoch 205/1000\n",
      "5/5 [==============================] - 1s 182ms/step - loss: 0.0944 - mae: 0.2443 - val_loss: 0.0820 - val_mae: 0.2254\n",
      "Epoch 206/1000\n",
      "5/5 [==============================] - 1s 183ms/step - loss: 0.0918 - mae: 0.2384 - val_loss: 0.0713 - val_mae: 0.2102\n",
      "Epoch 207/1000\n",
      "5/5 [==============================] - 1s 184ms/step - loss: 0.0879 - mae: 0.2375 - val_loss: 0.0903 - val_mae: 0.2492\n",
      "Epoch 208/1000\n",
      "5/5 [==============================] - ETA: 0s - loss: 0.1142 - mae: 0.2686INFO:tensorflow:Assets written to: C:\\Users\\PARK\\Documents\\LAB\\RNN vs LSTM\\FInal Example\\wandb\\run-20221015_213639-195m80vg\\files\\model-best\\assets\n"
     ]
    },
    {
     "name": "stderr",
     "output_type": "stream",
     "text": [
      "\u001b[34m\u001b[1mwandb\u001b[0m: Adding directory to artifact (C:\\Users\\PARK\\Documents\\LAB\\RNN vs LSTM\\FInal Example\\wandb\\run-20221015_213639-195m80vg\\files\\model-best)... Done. 0.1s\n"
     ]
    },
    {
     "name": "stdout",
     "output_type": "stream",
     "text": [
      "5/5 [==============================] - 2s 581ms/step - loss: 0.1142 - mae: 0.2686 - val_loss: 0.0683 - val_mae: 0.2096\n",
      "Epoch 209/1000\n",
      "5/5 [==============================] - 1s 221ms/step - loss: 0.1052 - mae: 0.2592 - val_loss: 0.1104 - val_mae: 0.2656\n",
      "Epoch 210/1000\n",
      "5/5 [==============================] - 1s 189ms/step - loss: 0.0877 - mae: 0.2354 - val_loss: 0.0758 - val_mae: 0.2152\n",
      "Epoch 211/1000\n",
      "5/5 [==============================] - 1s 184ms/step - loss: 0.0773 - mae: 0.2189 - val_loss: 0.0754 - val_mae: 0.2164\n",
      "Epoch 212/1000\n",
      "5/5 [==============================] - 1s 186ms/step - loss: 0.0785 - mae: 0.2196 - val_loss: 0.0824 - val_mae: 0.2313\n",
      "Epoch 213/1000\n",
      "5/5 [==============================] - 1s 186ms/step - loss: 0.1021 - mae: 0.2547 - val_loss: 0.1520 - val_mae: 0.3190\n",
      "Epoch 214/1000\n",
      "5/5 [==============================] - 1s 184ms/step - loss: 0.0980 - mae: 0.2504 - val_loss: 0.0709 - val_mae: 0.2044\n",
      "Epoch 215/1000\n",
      "5/5 [==============================] - 1s 188ms/step - loss: 0.1111 - mae: 0.2670 - val_loss: 0.0778 - val_mae: 0.2156\n",
      "Epoch 216/1000\n",
      "5/5 [==============================] - 1s 181ms/step - loss: 0.1021 - mae: 0.2532 - val_loss: 0.1520 - val_mae: 0.3210\n",
      "Epoch 217/1000\n",
      "5/5 [==============================] - 1s 187ms/step - loss: 0.0976 - mae: 0.2496 - val_loss: 0.0978 - val_mae: 0.2510\n",
      "Epoch 218/1000\n",
      "5/5 [==============================] - 1s 187ms/step - loss: 0.0941 - mae: 0.2450 - val_loss: 0.0965 - val_mae: 0.2447\n",
      "Epoch 219/1000\n",
      "5/5 [==============================] - 1s 183ms/step - loss: 0.0805 - mae: 0.2234 - val_loss: 0.0698 - val_mae: 0.2089\n",
      "Epoch 220/1000\n",
      "5/5 [==============================] - 1s 183ms/step - loss: 0.0894 - mae: 0.2366 - val_loss: 0.1503 - val_mae: 0.3280\n",
      "Epoch 221/1000\n",
      "5/5 [==============================] - 1s 188ms/step - loss: 0.1257 - mae: 0.2893 - val_loss: 0.1240 - val_mae: 0.2964\n",
      "Epoch 222/1000\n",
      "5/5 [==============================] - 1s 192ms/step - loss: 0.1096 - mae: 0.2654 - val_loss: 0.2594 - val_mae: 0.4444\n",
      "Epoch 223/1000\n",
      "5/5 [==============================] - 1s 186ms/step - loss: 0.1969 - mae: 0.3629 - val_loss: 0.0908 - val_mae: 0.2438\n",
      "Epoch 224/1000\n",
      "5/5 [==============================] - 1s 184ms/step - loss: 0.1640 - mae: 0.3257 - val_loss: 0.2351 - val_mae: 0.4006\n",
      "Epoch 225/1000\n",
      "5/5 [==============================] - 1s 181ms/step - loss: 0.2076 - mae: 0.3706 - val_loss: 0.1974 - val_mae: 0.3604\n",
      "Epoch 226/1000\n",
      "5/5 [==============================] - 1s 185ms/step - loss: 0.1643 - mae: 0.3254 - val_loss: 0.2241 - val_mae: 0.3887\n",
      "Epoch 227/1000\n",
      "5/5 [==============================] - 1s 182ms/step - loss: 0.1663 - mae: 0.3317 - val_loss: 0.1192 - val_mae: 0.2826\n",
      "Epoch 228/1000\n",
      "5/5 [==============================] - 1s 182ms/step - loss: 0.1270 - mae: 0.2887 - val_loss: 0.1954 - val_mae: 0.3667\n",
      "Epoch 229/1000\n",
      "5/5 [==============================] - 1s 181ms/step - loss: 0.1336 - mae: 0.2925 - val_loss: 0.1098 - val_mae: 0.2668\n",
      "Epoch 230/1000\n",
      "5/5 [==============================] - 1s 183ms/step - loss: 0.1107 - mae: 0.2644 - val_loss: 0.1221 - val_mae: 0.2864\n",
      "Epoch 231/1000\n",
      "5/5 [==============================] - 1s 182ms/step - loss: 0.1158 - mae: 0.2760 - val_loss: 0.0964 - val_mae: 0.2479\n",
      "Epoch 232/1000\n",
      "5/5 [==============================] - 1s 190ms/step - loss: 0.0927 - mae: 0.2422 - val_loss: 0.1101 - val_mae: 0.2749\n",
      "Epoch 233/1000\n",
      "5/5 [==============================] - 1s 216ms/step - loss: 0.0999 - mae: 0.2533 - val_loss: 0.0753 - val_mae: 0.2135\n",
      "Epoch 234/1000\n",
      "5/5 [==============================] - 1s 196ms/step - loss: 0.1135 - mae: 0.2692 - val_loss: 0.1440 - val_mae: 0.3032\n",
      "Epoch 235/1000\n",
      "5/5 [==============================] - 1s 189ms/step - loss: 0.1405 - mae: 0.3035 - val_loss: 0.0840 - val_mae: 0.2276\n",
      "Epoch 236/1000\n",
      "5/5 [==============================] - 1s 185ms/step - loss: 0.1205 - mae: 0.2763 - val_loss: 0.0932 - val_mae: 0.2462\n",
      "Epoch 237/1000\n",
      "5/5 [==============================] - 1s 183ms/step - loss: 0.0879 - mae: 0.2354 - val_loss: 0.0780 - val_mae: 0.2184\n",
      "Epoch 238/1000\n",
      "5/5 [==============================] - 1s 183ms/step - loss: 0.0769 - mae: 0.2207 - val_loss: 0.0750 - val_mae: 0.2196\n",
      "Epoch 239/1000\n",
      "5/5 [==============================] - 1s 186ms/step - loss: 0.0824 - mae: 0.2283 - val_loss: 0.1456 - val_mae: 0.3008\n",
      "Epoch 240/1000\n",
      "5/5 [==============================] - 1s 187ms/step - loss: 0.1178 - mae: 0.2760 - val_loss: 0.1233 - val_mae: 0.2816\n",
      "Epoch 241/1000\n",
      "5/5 [==============================] - 1s 188ms/step - loss: 0.1022 - mae: 0.2543 - val_loss: 0.0812 - val_mae: 0.2245\n",
      "Epoch 242/1000\n",
      "5/5 [==============================] - 1s 187ms/step - loss: 0.0854 - mae: 0.2321 - val_loss: 0.0842 - val_mae: 0.2234\n",
      "Epoch 243/1000\n",
      "5/5 [==============================] - 1s 183ms/step - loss: 0.0759 - mae: 0.2138 - val_loss: 0.1019 - val_mae: 0.2624\n",
      "Epoch 244/1000\n",
      "5/5 [==============================] - 1s 182ms/step - loss: 0.1134 - mae: 0.2713 - val_loss: 0.0841 - val_mae: 0.2335\n",
      "Epoch 245/1000\n",
      "5/5 [==============================] - 1s 184ms/step - loss: 0.0849 - mae: 0.2307 - val_loss: 0.0900 - val_mae: 0.2374\n",
      "Epoch 246/1000\n",
      "5/5 [==============================] - 1s 186ms/step - loss: 0.0831 - mae: 0.2261 - val_loss: 0.0966 - val_mae: 0.2524\n",
      "Epoch 247/1000\n",
      "5/5 [==============================] - 1s 191ms/step - loss: 0.1071 - mae: 0.2623 - val_loss: 0.0735 - val_mae: 0.2147\n",
      "Epoch 248/1000\n",
      "5/5 [==============================] - ETA: 0s - loss: 0.0833 - mae: 0.2290INFO:tensorflow:Assets written to: C:\\Users\\PARK\\Documents\\LAB\\RNN vs LSTM\\FInal Example\\wandb\\run-20221015_213639-195m80vg\\files\\model-best\\assets\n"
     ]
    },
    {
     "name": "stderr",
     "output_type": "stream",
     "text": [
      "\u001b[34m\u001b[1mwandb\u001b[0m: Adding directory to artifact (C:\\Users\\PARK\\Documents\\LAB\\RNN vs LSTM\\FInal Example\\wandb\\run-20221015_213639-195m80vg\\files\\model-best)... Done. 0.1s\n"
     ]
    },
    {
     "name": "stdout",
     "output_type": "stream",
     "text": [
      "5/5 [==============================] - 2s 580ms/step - loss: 0.0833 - mae: 0.2290 - val_loss: 0.0678 - val_mae: 0.2007\n",
      "Epoch 249/1000\n",
      "5/5 [==============================] - 1s 217ms/step - loss: 0.0856 - mae: 0.2314 - val_loss: 0.0894 - val_mae: 0.2396\n",
      "Epoch 250/1000\n",
      "5/5 [==============================] - 1s 194ms/step - loss: 0.0757 - mae: 0.2146 - val_loss: 0.0681 - val_mae: 0.2073\n",
      "Epoch 251/1000\n",
      "5/5 [==============================] - ETA: 0s - loss: 0.0733 - mae: 0.2115INFO:tensorflow:Assets written to: C:\\Users\\PARK\\Documents\\LAB\\RNN vs LSTM\\FInal Example\\wandb\\run-20221015_213639-195m80vg\\files\\model-best\\assets\n"
     ]
    },
    {
     "name": "stderr",
     "output_type": "stream",
     "text": [
      "\u001b[34m\u001b[1mwandb\u001b[0m: Adding directory to artifact (C:\\Users\\PARK\\Documents\\LAB\\RNN vs LSTM\\FInal Example\\wandb\\run-20221015_213639-195m80vg\\files\\model-best)... Done. 0.1s\n"
     ]
    },
    {
     "name": "stdout",
     "output_type": "stream",
     "text": [
      "5/5 [==============================] - 2s 572ms/step - loss: 0.0733 - mae: 0.2115 - val_loss: 0.0614 - val_mae: 0.1934\n",
      "Epoch 252/1000\n",
      "5/5 [==============================] - 1s 214ms/step - loss: 0.0732 - mae: 0.2141 - val_loss: 0.0661 - val_mae: 0.2012\n",
      "Epoch 253/1000\n",
      "5/5 [==============================] - 1s 184ms/step - loss: 0.0681 - mae: 0.2046 - val_loss: 0.0735 - val_mae: 0.2085\n",
      "Epoch 254/1000\n",
      "5/5 [==============================] - 1s 187ms/step - loss: 0.0721 - mae: 0.2117 - val_loss: 0.0645 - val_mae: 0.1952\n",
      "Epoch 255/1000\n",
      "5/5 [==============================] - 1s 185ms/step - loss: 0.0731 - mae: 0.2100 - val_loss: 0.0684 - val_mae: 0.2080\n",
      "Epoch 256/1000\n",
      "5/5 [==============================] - 1s 191ms/step - loss: 0.0663 - mae: 0.1988 - val_loss: 0.0773 - val_mae: 0.2136\n",
      "Epoch 257/1000\n",
      "5/5 [==============================] - 1s 188ms/step - loss: 0.0708 - mae: 0.2071 - val_loss: 0.0858 - val_mae: 0.2411\n",
      "Epoch 258/1000\n",
      "5/5 [==============================] - 1s 188ms/step - loss: 0.0980 - mae: 0.2496 - val_loss: 0.0789 - val_mae: 0.2279\n",
      "Epoch 259/1000\n",
      "5/5 [==============================] - 1s 185ms/step - loss: 0.0828 - mae: 0.2294 - val_loss: 0.1018 - val_mae: 0.2515\n",
      "Epoch 260/1000\n",
      "5/5 [==============================] - 1s 181ms/step - loss: 0.0803 - mae: 0.2245 - val_loss: 0.0730 - val_mae: 0.2184\n",
      "Epoch 261/1000\n",
      "5/5 [==============================] - 1s 182ms/step - loss: 0.0879 - mae: 0.2351 - val_loss: 0.0727 - val_mae: 0.2173\n",
      "Epoch 262/1000\n",
      "5/5 [==============================] - 1s 185ms/step - loss: 0.0905 - mae: 0.2409 - val_loss: 0.0717 - val_mae: 0.2071\n",
      "Epoch 263/1000\n",
      "5/5 [==============================] - 1s 182ms/step - loss: 0.0746 - mae: 0.2127 - val_loss: 0.0706 - val_mae: 0.2116\n",
      "Epoch 264/1000\n",
      "5/5 [==============================] - 1s 182ms/step - loss: 0.0902 - mae: 0.2379 - val_loss: 0.0883 - val_mae: 0.2392\n",
      "Epoch 265/1000\n",
      "5/5 [==============================] - 1s 186ms/step - loss: 0.0801 - mae: 0.2209 - val_loss: 0.0734 - val_mae: 0.2111\n",
      "Epoch 266/1000\n",
      "5/5 [==============================] - 1s 185ms/step - loss: 0.0831 - mae: 0.2257 - val_loss: 0.0737 - val_mae: 0.2186\n",
      "Epoch 267/1000\n",
      "5/5 [==============================] - 1s 185ms/step - loss: 0.0865 - mae: 0.2336 - val_loss: 0.1119 - val_mae: 0.2583\n",
      "Epoch 268/1000\n",
      "5/5 [==============================] - 1s 190ms/step - loss: 0.1088 - mae: 0.2637 - val_loss: 0.0797 - val_mae: 0.2240\n",
      "Epoch 269/1000\n",
      "5/5 [==============================] - 1s 189ms/step - loss: 0.0930 - mae: 0.2408 - val_loss: 0.0684 - val_mae: 0.2047\n",
      "Epoch 270/1000\n",
      "5/5 [==============================] - 1s 193ms/step - loss: 0.0924 - mae: 0.2410 - val_loss: 0.1366 - val_mae: 0.2983\n",
      "Epoch 271/1000\n",
      "5/5 [==============================] - 1s 185ms/step - loss: 0.0952 - mae: 0.2449 - val_loss: 0.0743 - val_mae: 0.2176\n",
      "Epoch 272/1000\n",
      "5/5 [==============================] - 1s 184ms/step - loss: 0.0714 - mae: 0.2085 - val_loss: 0.0723 - val_mae: 0.2056\n",
      "Epoch 273/1000\n",
      "5/5 [==============================] - 1s 182ms/step - loss: 0.0691 - mae: 0.2043 - val_loss: 0.0802 - val_mae: 0.2287\n",
      "Epoch 274/1000\n",
      "5/5 [==============================] - 1s 189ms/step - loss: 0.0734 - mae: 0.2138 - val_loss: 0.0883 - val_mae: 0.2271\n",
      "Epoch 275/1000\n",
      "5/5 [==============================] - 1s 186ms/step - loss: 0.0719 - mae: 0.2086 - val_loss: 0.0743 - val_mae: 0.2104\n",
      "Epoch 276/1000\n",
      "5/5 [==============================] - 1s 189ms/step - loss: 0.0707 - mae: 0.2068 - val_loss: 0.0793 - val_mae: 0.2279\n",
      "Epoch 277/1000\n",
      "5/5 [==============================] - 1s 184ms/step - loss: 0.0742 - mae: 0.2150 - val_loss: 0.0734 - val_mae: 0.2053\n",
      "Epoch 278/1000\n",
      "5/5 [==============================] - 1s 183ms/step - loss: 0.0704 - mae: 0.2074 - val_loss: 0.0837 - val_mae: 0.2165\n",
      "Epoch 279/1000\n",
      "5/5 [==============================] - 1s 184ms/step - loss: 0.0774 - mae: 0.2166 - val_loss: 0.0677 - val_mae: 0.2052\n",
      "Epoch 280/1000\n",
      "5/5 [==============================] - 1s 185ms/step - loss: 0.0694 - mae: 0.2022 - val_loss: 0.1169 - val_mae: 0.2793\n",
      "Epoch 281/1000\n",
      "5/5 [==============================] - 1s 185ms/step - loss: 0.0842 - mae: 0.2292 - val_loss: 0.0819 - val_mae: 0.2270\n",
      "Epoch 282/1000\n",
      "5/5 [==============================] - 1s 184ms/step - loss: 0.0890 - mae: 0.2380 - val_loss: 0.0765 - val_mae: 0.2218\n",
      "Epoch 283/1000\n",
      "5/5 [==============================] - 1s 186ms/step - loss: 0.0749 - mae: 0.2157 - val_loss: 0.0746 - val_mae: 0.2147\n",
      "Epoch 284/1000\n",
      "5/5 [==============================] - 1s 185ms/step - loss: 0.0875 - mae: 0.2346 - val_loss: 0.1364 - val_mae: 0.3017\n",
      "Epoch 285/1000\n",
      "5/5 [==============================] - 1s 191ms/step - loss: 0.1185 - mae: 0.2750 - val_loss: 0.0929 - val_mae: 0.2379\n",
      "Epoch 286/1000\n",
      "5/5 [==============================] - 1s 183ms/step - loss: 0.0905 - mae: 0.2365 - val_loss: 0.0810 - val_mae: 0.2223\n",
      "Epoch 287/1000\n",
      "5/5 [==============================] - 1s 182ms/step - loss: 0.0785 - mae: 0.2211 - val_loss: 0.0884 - val_mae: 0.2407\n",
      "Epoch 288/1000\n",
      "5/5 [==============================] - 1s 183ms/step - loss: 0.0984 - mae: 0.2475 - val_loss: 0.0882 - val_mae: 0.2440\n",
      "Epoch 289/1000\n",
      "5/5 [==============================] - 1s 182ms/step - loss: 0.0804 - mae: 0.2269 - val_loss: 0.0839 - val_mae: 0.2252\n",
      "Epoch 290/1000\n",
      "5/5 [==============================] - 1s 214ms/step - loss: 0.0828 - mae: 0.2249 - val_loss: 0.0859 - val_mae: 0.2285\n",
      "Epoch 291/1000\n",
      "5/5 [==============================] - 1s 184ms/step - loss: 0.0732 - mae: 0.2104 - val_loss: 0.0711 - val_mae: 0.2102\n",
      "Epoch 292/1000\n",
      "5/5 [==============================] - 1s 184ms/step - loss: 0.0706 - mae: 0.2081 - val_loss: 0.0675 - val_mae: 0.2048\n",
      "Epoch 293/1000\n",
      "5/5 [==============================] - 1s 185ms/step - loss: 0.0841 - mae: 0.2279 - val_loss: 0.0783 - val_mae: 0.2234\n",
      "Epoch 294/1000\n",
      "5/5 [==============================] - 1s 183ms/step - loss: 0.0872 - mae: 0.2335 - val_loss: 0.0917 - val_mae: 0.2318\n",
      "Epoch 295/1000\n",
      "5/5 [==============================] - 1s 185ms/step - loss: 0.0952 - mae: 0.2441 - val_loss: 0.0681 - val_mae: 0.2040\n",
      "Epoch 296/1000\n",
      "5/5 [==============================] - 1s 181ms/step - loss: 0.0760 - mae: 0.2171 - val_loss: 0.0715 - val_mae: 0.2073\n",
      "Epoch 297/1000\n",
      "5/5 [==============================] - 1s 183ms/step - loss: 0.0947 - mae: 0.2428 - val_loss: 0.1382 - val_mae: 0.3097\n",
      "Epoch 298/1000\n",
      "5/5 [==============================] - 1s 184ms/step - loss: 0.1096 - mae: 0.2644 - val_loss: 0.0782 - val_mae: 0.2256\n",
      "Epoch 299/1000\n",
      "5/5 [==============================] - 1s 185ms/step - loss: 0.0915 - mae: 0.2393 - val_loss: 0.0896 - val_mae: 0.2412\n",
      "Epoch 300/1000\n",
      "5/5 [==============================] - 1s 182ms/step - loss: 0.1012 - mae: 0.2546 - val_loss: 0.0908 - val_mae: 0.2400\n",
      "Epoch 301/1000\n",
      "5/5 [==============================] - 1s 184ms/step - loss: 0.0893 - mae: 0.2340 - val_loss: 0.1135 - val_mae: 0.2724\n",
      "Epoch 302/1000\n",
      "5/5 [==============================] - 1s 188ms/step - loss: 0.1197 - mae: 0.2805 - val_loss: 0.0664 - val_mae: 0.2028\n",
      "Epoch 303/1000\n",
      "5/5 [==============================] - 1s 187ms/step - loss: 0.0776 - mae: 0.2214 - val_loss: 0.0726 - val_mae: 0.2150\n",
      "Epoch 304/1000\n",
      "5/5 [==============================] - 1s 182ms/step - loss: 0.0938 - mae: 0.2466 - val_loss: 0.0965 - val_mae: 0.2526\n",
      "Epoch 305/1000\n",
      "5/5 [==============================] - 1s 186ms/step - loss: 0.1072 - mae: 0.2659 - val_loss: 0.1078 - val_mae: 0.2610\n",
      "Epoch 306/1000\n",
      "5/5 [==============================] - 1s 187ms/step - loss: 0.0787 - mae: 0.2210 - val_loss: 0.0954 - val_mae: 0.2472\n",
      "Epoch 307/1000\n",
      "5/5 [==============================] - 1s 194ms/step - loss: 0.0984 - mae: 0.2499 - val_loss: 0.0873 - val_mae: 0.2328\n",
      "Epoch 308/1000\n",
      "5/5 [==============================] - 1s 192ms/step - loss: 0.1016 - mae: 0.2517 - val_loss: 0.0734 - val_mae: 0.2183\n",
      "Epoch 309/1000\n",
      "5/5 [==============================] - 1s 187ms/step - loss: 0.0799 - mae: 0.2242 - val_loss: 0.0985 - val_mae: 0.2381\n",
      "Epoch 310/1000\n",
      "5/5 [==============================] - 1s 184ms/step - loss: 0.0859 - mae: 0.2299 - val_loss: 0.0859 - val_mae: 0.2312\n",
      "Epoch 311/1000\n",
      "5/5 [==============================] - 1s 185ms/step - loss: 0.0753 - mae: 0.2177 - val_loss: 0.0931 - val_mae: 0.2435\n",
      "Epoch 312/1000\n"
     ]
    },
    {
     "name": "stdout",
     "output_type": "stream",
     "text": [
      "5/5 [==============================] - 1s 187ms/step - loss: 0.0760 - mae: 0.2167 - val_loss: 0.0854 - val_mae: 0.2354\n",
      "Epoch 313/1000\n",
      "5/5 [==============================] - 1s 181ms/step - loss: 0.0902 - mae: 0.2381 - val_loss: 0.0793 - val_mae: 0.2160\n",
      "Epoch 314/1000\n",
      "5/5 [==============================] - 1s 182ms/step - loss: 0.0790 - mae: 0.2198 - val_loss: 0.0772 - val_mae: 0.2223\n",
      "Epoch 315/1000\n",
      "5/5 [==============================] - 1s 183ms/step - loss: 0.1014 - mae: 0.2541 - val_loss: 0.0918 - val_mae: 0.2362\n",
      "Epoch 316/1000\n",
      "5/5 [==============================] - 1s 184ms/step - loss: 0.0861 - mae: 0.2345 - val_loss: 0.1345 - val_mae: 0.2899\n",
      "Epoch 317/1000\n",
      "5/5 [==============================] - 1s 187ms/step - loss: 0.0835 - mae: 0.2251 - val_loss: 0.0688 - val_mae: 0.2095\n",
      "Epoch 318/1000\n",
      "5/5 [==============================] - 1s 183ms/step - loss: 0.0681 - mae: 0.2049 - val_loss: 0.0769 - val_mae: 0.2141\n",
      "Epoch 319/1000\n",
      "5/5 [==============================] - 1s 183ms/step - loss: 0.0715 - mae: 0.2093 - val_loss: 0.0779 - val_mae: 0.2166\n",
      "Epoch 320/1000\n",
      "5/5 [==============================] - 1s 182ms/step - loss: 0.0715 - mae: 0.2082 - val_loss: 0.0689 - val_mae: 0.2083\n",
      "Epoch 321/1000\n",
      "5/5 [==============================] - 1s 185ms/step - loss: 0.0763 - mae: 0.2185 - val_loss: 0.0996 - val_mae: 0.2635\n",
      "Epoch 322/1000\n",
      "5/5 [==============================] - 1s 184ms/step - loss: 0.0854 - mae: 0.2335 - val_loss: 0.0948 - val_mae: 0.2325\n",
      "Epoch 323/1000\n",
      "5/5 [==============================] - 1s 181ms/step - loss: 0.0788 - mae: 0.2218 - val_loss: 0.0666 - val_mae: 0.2006\n",
      "Epoch 324/1000\n",
      "5/5 [==============================] - 1s 187ms/step - loss: 0.0841 - mae: 0.2261 - val_loss: 0.3236 - val_mae: 0.4962\n",
      "Epoch 325/1000\n",
      "5/5 [==============================] - 1s 188ms/step - loss: 0.1825 - mae: 0.3479 - val_loss: 0.1493 - val_mae: 0.3211\n",
      "Epoch 326/1000\n",
      "5/5 [==============================] - 1s 186ms/step - loss: 0.1273 - mae: 0.2924 - val_loss: 0.1673 - val_mae: 0.3412\n",
      "Epoch 327/1000\n",
      "5/5 [==============================] - 1s 180ms/step - loss: 0.1253 - mae: 0.2888 - val_loss: 0.0872 - val_mae: 0.2382\n",
      "Epoch 328/1000\n",
      "5/5 [==============================] - 1s 180ms/step - loss: 0.0983 - mae: 0.2510 - val_loss: 0.0743 - val_mae: 0.2156\n",
      "Epoch 329/1000\n",
      "5/5 [==============================] - 1s 184ms/step - loss: 0.0808 - mae: 0.2253 - val_loss: 0.0871 - val_mae: 0.2297\n",
      "Epoch 330/1000\n",
      "5/5 [==============================] - 1s 184ms/step - loss: 0.0749 - mae: 0.2161 - val_loss: 0.0659 - val_mae: 0.2025\n",
      "Epoch 331/1000\n",
      "5/5 [==============================] - 1s 181ms/step - loss: 0.0705 - mae: 0.2067 - val_loss: 0.0864 - val_mae: 0.2376\n",
      "Epoch 332/1000\n",
      "5/5 [==============================] - 1s 181ms/step - loss: 0.0836 - mae: 0.2269 - val_loss: 0.0783 - val_mae: 0.2086\n",
      "Epoch 333/1000\n",
      "5/5 [==============================] - 1s 183ms/step - loss: 0.0810 - mae: 0.2223 - val_loss: 0.0793 - val_mae: 0.2150\n",
      "Epoch 334/1000\n",
      "5/5 [==============================] - 1s 185ms/step - loss: 0.0699 - mae: 0.2042 - val_loss: 0.0678 - val_mae: 0.1966\n",
      "Epoch 335/1000\n",
      "5/5 [==============================] - 1s 184ms/step - loss: 0.0631 - mae: 0.1923 - val_loss: 0.0634 - val_mae: 0.1977\n",
      "Epoch 336/1000\n",
      "5/5 [==============================] - 1s 182ms/step - loss: 0.0637 - mae: 0.1950 - val_loss: 0.0649 - val_mae: 0.1978\n",
      "Epoch 337/1000\n",
      "5/5 [==============================] - 1s 182ms/step - loss: 0.0619 - mae: 0.1923 - val_loss: 0.0686 - val_mae: 0.2107\n",
      "Epoch 338/1000\n",
      "5/5 [==============================] - 1s 182ms/step - loss: 0.0730 - mae: 0.2104 - val_loss: 0.0785 - val_mae: 0.2270\n",
      "Epoch 339/1000\n",
      "5/5 [==============================] - 1s 185ms/step - loss: 0.0707 - mae: 0.2090 - val_loss: 0.0749 - val_mae: 0.2214\n",
      "Epoch 340/1000\n",
      "5/5 [==============================] - 1s 183ms/step - loss: 0.0795 - mae: 0.2247 - val_loss: 0.1306 - val_mae: 0.2878\n",
      "Epoch 341/1000\n",
      "5/5 [==============================] - 1s 184ms/step - loss: 0.0951 - mae: 0.2492 - val_loss: 0.1382 - val_mae: 0.3002\n",
      "Epoch 342/1000\n",
      "5/5 [==============================] - 1s 183ms/step - loss: 0.0947 - mae: 0.2467 - val_loss: 0.1382 - val_mae: 0.3037\n",
      "Epoch 343/1000\n",
      "5/5 [==============================] - 1s 183ms/step - loss: 0.1068 - mae: 0.2629 - val_loss: 0.1007 - val_mae: 0.2494\n",
      "Epoch 344/1000\n",
      "5/5 [==============================] - 1s 183ms/step - loss: 0.0865 - mae: 0.2334 - val_loss: 0.0714 - val_mae: 0.2068\n",
      "Epoch 345/1000\n",
      "5/5 [==============================] - 1s 185ms/step - loss: 0.0708 - mae: 0.2055 - val_loss: 0.0933 - val_mae: 0.2336\n",
      "Epoch 346/1000\n",
      "5/5 [==============================] - 1s 192ms/step - loss: 0.0794 - mae: 0.2207 - val_loss: 0.0702 - val_mae: 0.2090\n",
      "Epoch 347/1000\n",
      "5/5 [==============================] - 1s 195ms/step - loss: 0.0643 - mae: 0.1970 - val_loss: 0.1151 - val_mae: 0.2777\n",
      "Epoch 348/1000\n",
      "5/5 [==============================] - 1s 188ms/step - loss: 0.1066 - mae: 0.2616 - val_loss: 0.0631 - val_mae: 0.1960\n",
      "Epoch 349/1000\n",
      "5/5 [==============================] - 1s 185ms/step - loss: 0.0684 - mae: 0.2054 - val_loss: 0.0700 - val_mae: 0.2049\n",
      "Epoch 350/1000\n",
      "5/5 [==============================] - 1s 183ms/step - loss: 0.0662 - mae: 0.2004 - val_loss: 0.0638 - val_mae: 0.1953\n",
      "Epoch 351/1000\n",
      "5/5 [==============================] - 1s 181ms/step - loss: 0.0619 - mae: 0.1935 - val_loss: 0.0853 - val_mae: 0.2366\n",
      "Epoch 352/1000\n",
      "5/5 [==============================] - 1s 185ms/step - loss: 0.1168 - mae: 0.2778 - val_loss: 0.1167 - val_mae: 0.2719\n",
      "Epoch 353/1000\n",
      "5/5 [==============================] - 1s 181ms/step - loss: 0.1066 - mae: 0.2610 - val_loss: 0.0882 - val_mae: 0.2402\n",
      "Epoch 354/1000\n",
      "5/5 [==============================] - 1s 183ms/step - loss: 0.0841 - mae: 0.2300 - val_loss: 0.0655 - val_mae: 0.1983\n",
      "Epoch 355/1000\n",
      "5/5 [==============================] - 1s 184ms/step - loss: 0.0608 - mae: 0.1915 - val_loss: 0.0951 - val_mae: 0.2436\n",
      "Epoch 356/1000\n",
      "5/5 [==============================] - 1s 184ms/step - loss: 0.0751 - mae: 0.2126 - val_loss: 0.0730 - val_mae: 0.2093\n",
      "Epoch 357/1000\n",
      "5/5 [==============================] - 1s 183ms/step - loss: 0.0659 - mae: 0.1976 - val_loss: 0.0805 - val_mae: 0.2187\n",
      "Epoch 358/1000\n",
      "5/5 [==============================] - 1s 183ms/step - loss: 0.0937 - mae: 0.2441 - val_loss: 0.0823 - val_mae: 0.2274\n",
      "Epoch 359/1000\n",
      "5/5 [==============================] - 1s 185ms/step - loss: 0.0993 - mae: 0.2513 - val_loss: 0.0694 - val_mae: 0.2092\n",
      "Epoch 360/1000\n",
      "5/5 [==============================] - 1s 184ms/step - loss: 0.0791 - mae: 0.2222 - val_loss: 0.0667 - val_mae: 0.2073\n",
      "Epoch 361/1000\n",
      "5/5 [==============================] - 1s 186ms/step - loss: 0.0622 - mae: 0.1960 - val_loss: 0.0658 - val_mae: 0.1916\n",
      "Epoch 362/1000\n",
      "5/5 [==============================] - 1s 185ms/step - loss: 0.0590 - mae: 0.1876 - val_loss: 0.0630 - val_mae: 0.1867\n",
      "Epoch 363/1000\n",
      "5/5 [==============================] - 1s 183ms/step - loss: 0.0612 - mae: 0.1919 - val_loss: 0.0748 - val_mae: 0.2156\n",
      "Epoch 364/1000\n",
      "5/5 [==============================] - 1s 186ms/step - loss: 0.0708 - mae: 0.2089 - val_loss: 0.0987 - val_mae: 0.2561\n",
      "Epoch 365/1000\n",
      "5/5 [==============================] - 1s 183ms/step - loss: 0.0908 - mae: 0.2389 - val_loss: 0.0683 - val_mae: 0.2076\n",
      "Epoch 366/1000\n",
      "5/5 [==============================] - 1s 185ms/step - loss: 0.0861 - mae: 0.2322 - val_loss: 0.0742 - val_mae: 0.2144\n",
      "Epoch 367/1000\n",
      "5/5 [==============================] - 1s 181ms/step - loss: 0.0758 - mae: 0.2194 - val_loss: 0.0755 - val_mae: 0.2172\n",
      "Epoch 368/1000\n",
      "5/5 [==============================] - 1s 185ms/step - loss: 0.0830 - mae: 0.2265 - val_loss: 0.3864 - val_mae: 0.5624\n",
      "Epoch 369/1000\n",
      "5/5 [==============================] - 1s 183ms/step - loss: 0.2146 - mae: 0.3829 - val_loss: 0.1569 - val_mae: 0.3241\n",
      "Epoch 370/1000\n",
      "5/5 [==============================] - 1s 183ms/step - loss: 0.2118 - mae: 0.3703 - val_loss: 0.1864 - val_mae: 0.3534\n",
      "Epoch 371/1000\n",
      "5/5 [==============================] - 1s 183ms/step - loss: 0.2373 - mae: 0.3957 - val_loss: 0.1855 - val_mae: 0.3481\n",
      "Epoch 372/1000\n",
      "5/5 [==============================] - 1s 183ms/step - loss: 0.1973 - mae: 0.3597 - val_loss: 0.1522 - val_mae: 0.3145\n",
      "Epoch 373/1000\n"
     ]
    },
    {
     "name": "stdout",
     "output_type": "stream",
     "text": [
      "5/5 [==============================] - 1s 183ms/step - loss: 0.1282 - mae: 0.2887 - val_loss: 0.1110 - val_mae: 0.2684\n",
      "Epoch 374/1000\n",
      "5/5 [==============================] - 1s 183ms/step - loss: 0.1204 - mae: 0.2767 - val_loss: 0.2581 - val_mae: 0.4348\n",
      "Epoch 375/1000\n",
      "5/5 [==============================] - 1s 184ms/step - loss: 0.1897 - mae: 0.3573 - val_loss: 0.2090 - val_mae: 0.3804\n",
      "Epoch 376/1000\n",
      "5/5 [==============================] - 1s 183ms/step - loss: 0.1523 - mae: 0.3128 - val_loss: 0.1136 - val_mae: 0.2733\n",
      "Epoch 377/1000\n",
      "5/5 [==============================] - 1s 185ms/step - loss: 0.0896 - mae: 0.2388 - val_loss: 0.0677 - val_mae: 0.2050\n",
      "Epoch 378/1000\n",
      "5/5 [==============================] - 1s 187ms/step - loss: 0.0699 - mae: 0.2065 - val_loss: 0.0782 - val_mae: 0.2158\n",
      "Epoch 379/1000\n",
      "5/5 [==============================] - 1s 189ms/step - loss: 0.0885 - mae: 0.2311 - val_loss: 0.1297 - val_mae: 0.2871\n",
      "Epoch 380/1000\n",
      "5/5 [==============================] - 1s 186ms/step - loss: 0.0735 - mae: 0.2119 - val_loss: 0.0702 - val_mae: 0.2070\n",
      "Epoch 381/1000\n",
      "5/5 [==============================] - 1s 182ms/step - loss: 0.0715 - mae: 0.2076 - val_loss: 0.0616 - val_mae: 0.1955\n",
      "Epoch 382/1000\n",
      "5/5 [==============================] - 1s 186ms/step - loss: 0.0880 - mae: 0.2410 - val_loss: 0.1984 - val_mae: 0.3861\n",
      "Epoch 383/1000\n",
      "5/5 [==============================] - 1s 187ms/step - loss: 0.1168 - mae: 0.2785 - val_loss: 0.0670 - val_mae: 0.2023\n",
      "Epoch 384/1000\n",
      "5/5 [==============================] - 1s 185ms/step - loss: 0.0684 - mae: 0.2050 - val_loss: 0.0722 - val_mae: 0.2122\n",
      "Epoch 385/1000\n",
      "5/5 [==============================] - 1s 186ms/step - loss: 0.0612 - mae: 0.1921 - val_loss: 0.0639 - val_mae: 0.1952\n",
      "Epoch 386/1000\n",
      "5/5 [==============================] - 1s 190ms/step - loss: 0.0658 - mae: 0.2001 - val_loss: 0.0897 - val_mae: 0.2290\n",
      "Epoch 387/1000\n",
      "5/5 [==============================] - 1s 191ms/step - loss: 0.0826 - mae: 0.2253 - val_loss: 0.0926 - val_mae: 0.2390\n",
      "Epoch 388/1000\n",
      "5/5 [==============================] - 1s 187ms/step - loss: 0.0633 - mae: 0.1938 - val_loss: 0.0785 - val_mae: 0.2177\n",
      "Epoch 389/1000\n",
      "5/5 [==============================] - 1s 185ms/step - loss: 0.0630 - mae: 0.1901 - val_loss: 0.0660 - val_mae: 0.1994\n",
      "Epoch 390/1000\n",
      "5/5 [==============================] - 1s 183ms/step - loss: 0.0647 - mae: 0.1954 - val_loss: 0.1186 - val_mae: 0.2798\n",
      "Epoch 391/1000\n",
      "5/5 [==============================] - 1s 181ms/step - loss: 0.0765 - mae: 0.2160 - val_loss: 0.0681 - val_mae: 0.2074\n",
      "Epoch 392/1000\n",
      "5/5 [==============================] - ETA: 0s - loss: 0.0858 - mae: 0.2328INFO:tensorflow:Assets written to: C:\\Users\\PARK\\Documents\\LAB\\RNN vs LSTM\\FInal Example\\wandb\\run-20221015_213639-195m80vg\\files\\model-best\\assets\n"
     ]
    },
    {
     "name": "stderr",
     "output_type": "stream",
     "text": [
      "\u001b[34m\u001b[1mwandb\u001b[0m: Adding directory to artifact (C:\\Users\\PARK\\Documents\\LAB\\RNN vs LSTM\\FInal Example\\wandb\\run-20221015_213639-195m80vg\\files\\model-best)... Done. 0.1s\n"
     ]
    },
    {
     "name": "stdout",
     "output_type": "stream",
     "text": [
      "5/5 [==============================] - 2s 576ms/step - loss: 0.0858 - mae: 0.2328 - val_loss: 0.0540 - val_mae: 0.1793\n",
      "Epoch 393/1000\n",
      "5/5 [==============================] - 1s 223ms/step - loss: 0.0838 - mae: 0.2301 - val_loss: 0.1317 - val_mae: 0.3009\n",
      "Epoch 394/1000\n",
      "5/5 [==============================] - 1s 181ms/step - loss: 0.0994 - mae: 0.2540 - val_loss: 0.0747 - val_mae: 0.2169\n",
      "Epoch 395/1000\n",
      "5/5 [==============================] - 1s 185ms/step - loss: 0.0699 - mae: 0.2068 - val_loss: 0.0641 - val_mae: 0.1990\n",
      "Epoch 396/1000\n",
      "5/5 [==============================] - 1s 185ms/step - loss: 0.0647 - mae: 0.2011 - val_loss: 0.0722 - val_mae: 0.2064\n",
      "Epoch 397/1000\n",
      "5/5 [==============================] - 1s 186ms/step - loss: 0.0607 - mae: 0.1908 - val_loss: 0.0675 - val_mae: 0.2063\n",
      "Epoch 398/1000\n",
      "5/5 [==============================] - 1s 188ms/step - loss: 0.0605 - mae: 0.1903 - val_loss: 0.0684 - val_mae: 0.1983\n",
      "Epoch 399/1000\n",
      "5/5 [==============================] - 1s 186ms/step - loss: 0.0592 - mae: 0.1869 - val_loss: 0.0610 - val_mae: 0.1938\n",
      "Epoch 400/1000\n",
      "5/5 [==============================] - 1s 186ms/step - loss: 0.0600 - mae: 0.1904 - val_loss: 0.0596 - val_mae: 0.1900\n",
      "Epoch 401/1000\n",
      "5/5 [==============================] - 1s 190ms/step - loss: 0.0588 - mae: 0.1877 - val_loss: 0.0759 - val_mae: 0.2118\n",
      "Epoch 402/1000\n",
      "5/5 [==============================] - 1s 183ms/step - loss: 0.0871 - mae: 0.2312 - val_loss: 0.0884 - val_mae: 0.2383\n",
      "Epoch 403/1000\n",
      "5/5 [==============================] - 1s 184ms/step - loss: 0.0922 - mae: 0.2391 - val_loss: 0.0916 - val_mae: 0.2456\n",
      "Epoch 404/1000\n",
      "5/5 [==============================] - 1s 182ms/step - loss: 0.0813 - mae: 0.2278 - val_loss: 0.1928 - val_mae: 0.3741\n",
      "Epoch 405/1000\n",
      "5/5 [==============================] - 1s 185ms/step - loss: 0.1084 - mae: 0.2619 - val_loss: 0.1655 - val_mae: 0.3444\n",
      "Epoch 406/1000\n",
      "5/5 [==============================] - 1s 183ms/step - loss: 0.0989 - mae: 0.2512 - val_loss: 0.0737 - val_mae: 0.2143\n",
      "Epoch 407/1000\n",
      "5/5 [==============================] - 1s 187ms/step - loss: 0.0795 - mae: 0.2254 - val_loss: 0.1261 - val_mae: 0.2911\n",
      "Epoch 408/1000\n",
      "5/5 [==============================] - 1s 190ms/step - loss: 0.0846 - mae: 0.2270 - val_loss: 0.0904 - val_mae: 0.2424\n",
      "Epoch 409/1000\n",
      "5/5 [==============================] - 1s 188ms/step - loss: 0.0794 - mae: 0.2223 - val_loss: 0.0807 - val_mae: 0.2155\n",
      "Epoch 410/1000\n",
      "5/5 [==============================] - 1s 188ms/step - loss: 0.0652 - mae: 0.1984 - val_loss: 0.0709 - val_mae: 0.2121\n",
      "Epoch 411/1000\n",
      "5/5 [==============================] - 1s 183ms/step - loss: 0.0719 - mae: 0.2104 - val_loss: 0.1228 - val_mae: 0.2782\n",
      "Epoch 412/1000\n",
      "5/5 [==============================] - 1s 185ms/step - loss: 0.1123 - mae: 0.2680 - val_loss: 0.1320 - val_mae: 0.3023\n",
      "Epoch 413/1000\n",
      "5/5 [==============================] - 1s 185ms/step - loss: 0.1114 - mae: 0.2724 - val_loss: 0.1707 - val_mae: 0.3481\n",
      "Epoch 414/1000\n",
      "5/5 [==============================] - 1s 186ms/step - loss: 0.1016 - mae: 0.2531 - val_loss: 0.1006 - val_mae: 0.2487\n",
      "Epoch 415/1000\n",
      "5/5 [==============================] - 1s 185ms/step - loss: 0.0968 - mae: 0.2467 - val_loss: 0.0792 - val_mae: 0.2275\n",
      "Epoch 416/1000\n",
      "5/5 [==============================] - 1s 182ms/step - loss: 0.0773 - mae: 0.2211 - val_loss: 0.0958 - val_mae: 0.2454\n",
      "Epoch 417/1000\n",
      "5/5 [==============================] - 1s 184ms/step - loss: 0.0748 - mae: 0.2171 - val_loss: 0.0623 - val_mae: 0.1966\n",
      "Epoch 418/1000\n",
      "5/5 [==============================] - 1s 185ms/step - loss: 0.0627 - mae: 0.1974 - val_loss: 0.0976 - val_mae: 0.2508\n",
      "Epoch 419/1000\n",
      "5/5 [==============================] - 1s 184ms/step - loss: 0.0672 - mae: 0.2028 - val_loss: 0.0674 - val_mae: 0.2067\n",
      "Epoch 420/1000\n",
      "5/5 [==============================] - 1s 183ms/step - loss: 0.0626 - mae: 0.1966 - val_loss: 0.0629 - val_mae: 0.1936\n",
      "Epoch 421/1000\n",
      "5/5 [==============================] - 1s 184ms/step - loss: 0.0636 - mae: 0.1979 - val_loss: 0.0909 - val_mae: 0.2368\n",
      "Epoch 422/1000\n",
      "5/5 [==============================] - 1s 189ms/step - loss: 0.0692 - mae: 0.2093 - val_loss: 0.0665 - val_mae: 0.2028\n",
      "Epoch 423/1000\n",
      "5/5 [==============================] - 1s 191ms/step - loss: 0.0780 - mae: 0.2227 - val_loss: 0.0965 - val_mae: 0.2398\n",
      "Epoch 424/1000\n",
      "5/5 [==============================] - 1s 187ms/step - loss: 0.0604 - mae: 0.1918 - val_loss: 0.0720 - val_mae: 0.2164\n",
      "Epoch 425/1000\n",
      "5/5 [==============================] - 1s 184ms/step - loss: 0.0630 - mae: 0.1956 - val_loss: 0.0955 - val_mae: 0.2419\n",
      "Epoch 426/1000\n",
      "5/5 [==============================] - 1s 184ms/step - loss: 0.0680 - mae: 0.2052 - val_loss: 0.0639 - val_mae: 0.1985\n",
      "Epoch 427/1000\n",
      "5/5 [==============================] - 1s 184ms/step - loss: 0.0623 - mae: 0.1929 - val_loss: 0.0629 - val_mae: 0.1972\n",
      "Epoch 428/1000\n",
      "5/5 [==============================] - 1s 186ms/step - loss: 0.0637 - mae: 0.1976 - val_loss: 0.0607 - val_mae: 0.1883\n",
      "Epoch 429/1000\n",
      "5/5 [==============================] - 1s 182ms/step - loss: 0.0681 - mae: 0.2046 - val_loss: 0.0705 - val_mae: 0.2038\n",
      "Epoch 430/1000\n",
      "5/5 [==============================] - 1s 185ms/step - loss: 0.0561 - mae: 0.1815 - val_loss: 0.0650 - val_mae: 0.1996\n",
      "Epoch 431/1000\n",
      "5/5 [==============================] - 1s 182ms/step - loss: 0.0557 - mae: 0.1811 - val_loss: 0.0722 - val_mae: 0.2051\n",
      "Epoch 432/1000\n",
      "5/5 [==============================] - 1s 183ms/step - loss: 0.0614 - mae: 0.1913 - val_loss: 0.0792 - val_mae: 0.2195\n",
      "Epoch 433/1000\n",
      "5/5 [==============================] - ETA: 0s - loss: 0.0641 - mae: 0.1981INFO:tensorflow:Assets written to: C:\\Users\\PARK\\Documents\\LAB\\RNN vs LSTM\\FInal Example\\wandb\\run-20221015_213639-195m80vg\\files\\model-best\\assets\n"
     ]
    },
    {
     "name": "stderr",
     "output_type": "stream",
     "text": [
      "\u001b[34m\u001b[1mwandb\u001b[0m: Adding directory to artifact (C:\\Users\\PARK\\Documents\\LAB\\RNN vs LSTM\\FInal Example\\wandb\\run-20221015_213639-195m80vg\\files\\model-best)... Done. 0.1s\n"
     ]
    },
    {
     "name": "stdout",
     "output_type": "stream",
     "text": [
      "5/5 [==============================] - 2s 594ms/step - loss: 0.0641 - mae: 0.1981 - val_loss: 0.0514 - val_mae: 0.1743\n",
      "Epoch 434/1000\n",
      "5/5 [==============================] - 1s 215ms/step - loss: 0.0630 - mae: 0.1955 - val_loss: 0.0597 - val_mae: 0.1849\n",
      "Epoch 435/1000\n",
      "5/5 [==============================] - 1s 186ms/step - loss: 0.0641 - mae: 0.1964 - val_loss: 0.0660 - val_mae: 0.2019\n",
      "Epoch 436/1000\n",
      "5/5 [==============================] - 1s 187ms/step - loss: 0.0578 - mae: 0.1869 - val_loss: 0.0566 - val_mae: 0.1815\n",
      "Epoch 437/1000\n",
      "5/5 [==============================] - 1s 186ms/step - loss: 0.0525 - mae: 0.1770 - val_loss: 0.0756 - val_mae: 0.2111\n",
      "Epoch 438/1000\n",
      "5/5 [==============================] - 1s 183ms/step - loss: 0.0591 - mae: 0.1896 - val_loss: 0.0693 - val_mae: 0.2056\n",
      "Epoch 439/1000\n",
      "5/5 [==============================] - 1s 182ms/step - loss: 0.0602 - mae: 0.1900 - val_loss: 0.0663 - val_mae: 0.2029\n",
      "Epoch 440/1000\n",
      "5/5 [==============================] - 1s 181ms/step - loss: 0.0783 - mae: 0.2196 - val_loss: 0.0679 - val_mae: 0.2067\n",
      "Epoch 441/1000\n",
      "5/5 [==============================] - 1s 183ms/step - loss: 0.0608 - mae: 0.1932 - val_loss: 0.0584 - val_mae: 0.1921\n",
      "Epoch 442/1000\n",
      "5/5 [==============================] - 1s 182ms/step - loss: 0.0581 - mae: 0.1899 - val_loss: 0.1319 - val_mae: 0.3015\n",
      "Epoch 443/1000\n",
      "5/5 [==============================] - 1s 181ms/step - loss: 0.1010 - mae: 0.2587 - val_loss: 0.0636 - val_mae: 0.1949\n",
      "Epoch 444/1000\n",
      "5/5 [==============================] - 1s 181ms/step - loss: 0.0662 - mae: 0.2037 - val_loss: 0.0858 - val_mae: 0.2330\n",
      "Epoch 445/1000\n",
      "5/5 [==============================] - 1s 184ms/step - loss: 0.0730 - mae: 0.2158 - val_loss: 0.0816 - val_mae: 0.2329\n",
      "Epoch 446/1000\n",
      "5/5 [==============================] - 1s 181ms/step - loss: 0.0800 - mae: 0.2249 - val_loss: 0.1007 - val_mae: 0.2493\n",
      "Epoch 447/1000\n",
      "5/5 [==============================] - 1s 180ms/step - loss: 0.0845 - mae: 0.2313 - val_loss: 0.0868 - val_mae: 0.2310\n",
      "Epoch 448/1000\n",
      "5/5 [==============================] - 1s 184ms/step - loss: 0.0923 - mae: 0.2448 - val_loss: 0.1246 - val_mae: 0.2955\n",
      "Epoch 449/1000\n",
      "5/5 [==============================] - 1s 179ms/step - loss: 0.0821 - mae: 0.2305 - val_loss: 0.1000 - val_mae: 0.2561\n",
      "Epoch 450/1000\n",
      "5/5 [==============================] - 1s 180ms/step - loss: 0.0830 - mae: 0.2289 - val_loss: 0.1010 - val_mae: 0.2594\n",
      "Epoch 451/1000\n",
      "5/5 [==============================] - 1s 182ms/step - loss: 0.0732 - mae: 0.2168 - val_loss: 0.0592 - val_mae: 0.1935\n",
      "Epoch 452/1000\n",
      "5/5 [==============================] - 1s 180ms/step - loss: 0.0579 - mae: 0.1880 - val_loss: 0.0555 - val_mae: 0.1885\n",
      "Epoch 453/1000\n",
      "5/5 [==============================] - 1s 181ms/step - loss: 0.0523 - mae: 0.1770 - val_loss: 0.0641 - val_mae: 0.1995\n",
      "Epoch 454/1000\n",
      "5/5 [==============================] - 1s 182ms/step - loss: 0.0710 - mae: 0.2109 - val_loss: 0.0833 - val_mae: 0.2403\n",
      "Epoch 455/1000\n",
      "5/5 [==============================] - 1s 187ms/step - loss: 0.0748 - mae: 0.2213 - val_loss: 0.0736 - val_mae: 0.2179\n",
      "Epoch 456/1000\n",
      "5/5 [==============================] - 1s 179ms/step - loss: 0.0726 - mae: 0.2146 - val_loss: 0.0836 - val_mae: 0.2366\n",
      "Epoch 457/1000\n",
      "5/5 [==============================] - 1s 188ms/step - loss: 0.0728 - mae: 0.2161 - val_loss: 0.0695 - val_mae: 0.1966\n",
      "Epoch 458/1000\n",
      "5/5 [==============================] - 1s 185ms/step - loss: 0.0605 - mae: 0.1891 - val_loss: 0.0595 - val_mae: 0.1884\n",
      "Epoch 459/1000\n",
      "5/5 [==============================] - 1s 186ms/step - loss: 0.0769 - mae: 0.2200 - val_loss: 0.1438 - val_mae: 0.3205\n",
      "Epoch 460/1000\n",
      "5/5 [==============================] - 1s 189ms/step - loss: 0.1062 - mae: 0.2656 - val_loss: 0.0752 - val_mae: 0.2219\n",
      "Epoch 461/1000\n",
      "5/5 [==============================] - 1s 185ms/step - loss: 0.0701 - mae: 0.2107 - val_loss: 0.0762 - val_mae: 0.2239\n",
      "Epoch 462/1000\n",
      "5/5 [==============================] - 1s 183ms/step - loss: 0.0744 - mae: 0.2199 - val_loss: 0.0715 - val_mae: 0.2073\n",
      "Epoch 463/1000\n",
      "5/5 [==============================] - 1s 184ms/step - loss: 0.0612 - mae: 0.1915 - val_loss: 0.0626 - val_mae: 0.1971\n",
      "Epoch 464/1000\n",
      "5/5 [==============================] - ETA: 0s - loss: 0.0578 - mae: 0.1865INFO:tensorflow:Assets written to: C:\\Users\\PARK\\Documents\\LAB\\RNN vs LSTM\\FInal Example\\wandb\\run-20221015_213639-195m80vg\\files\\model-best\\assets\n"
     ]
    },
    {
     "name": "stderr",
     "output_type": "stream",
     "text": [
      "\u001b[34m\u001b[1mwandb\u001b[0m: Adding directory to artifact (C:\\Users\\PARK\\Documents\\LAB\\RNN vs LSTM\\FInal Example\\wandb\\run-20221015_213639-195m80vg\\files\\model-best)... Done. 0.1s\n"
     ]
    },
    {
     "name": "stdout",
     "output_type": "stream",
     "text": [
      "5/5 [==============================] - 2s 567ms/step - loss: 0.0578 - mae: 0.1865 - val_loss: 0.0512 - val_mae: 0.1790\n",
      "Epoch 465/1000\n",
      "5/5 [==============================] - 1s 211ms/step - loss: 0.0519 - mae: 0.1781 - val_loss: 0.0696 - val_mae: 0.2071\n",
      "Epoch 466/1000\n",
      "5/5 [==============================] - 1s 184ms/step - loss: 0.0644 - mae: 0.1990 - val_loss: 0.2246 - val_mae: 0.4180\n",
      "Epoch 467/1000\n",
      "5/5 [==============================] - 1s 187ms/step - loss: 0.1563 - mae: 0.3300 - val_loss: 0.0949 - val_mae: 0.2478\n",
      "Epoch 468/1000\n",
      "5/5 [==============================] - 1s 183ms/step - loss: 0.0834 - mae: 0.2319 - val_loss: 0.0678 - val_mae: 0.2093\n",
      "Epoch 469/1000\n",
      "5/5 [==============================] - 1s 183ms/step - loss: 0.0670 - mae: 0.2041 - val_loss: 0.0573 - val_mae: 0.1873\n",
      "Epoch 470/1000\n",
      "5/5 [==============================] - 1s 182ms/step - loss: 0.0595 - mae: 0.1909 - val_loss: 0.0523 - val_mae: 0.1736\n",
      "Epoch 471/1000\n",
      "5/5 [==============================] - 1s 182ms/step - loss: 0.0549 - mae: 0.1801 - val_loss: 0.0588 - val_mae: 0.1904\n",
      "Epoch 472/1000\n",
      "5/5 [==============================] - 1s 181ms/step - loss: 0.0580 - mae: 0.1887 - val_loss: 0.0619 - val_mae: 0.1971\n",
      "Epoch 473/1000\n",
      "5/5 [==============================] - 1s 182ms/step - loss: 0.0714 - mae: 0.2086 - val_loss: 0.0751 - val_mae: 0.2205\n",
      "Epoch 474/1000\n",
      "5/5 [==============================] - 1s 183ms/step - loss: 0.0636 - mae: 0.1992 - val_loss: 0.0786 - val_mae: 0.2232\n",
      "Epoch 475/1000\n",
      "5/5 [==============================] - 1s 183ms/step - loss: 0.0606 - mae: 0.1933 - val_loss: 0.1273 - val_mae: 0.2831\n",
      "Epoch 476/1000\n",
      "5/5 [==============================] - 1s 186ms/step - loss: 0.0973 - mae: 0.2514 - val_loss: 0.1539 - val_mae: 0.3312\n",
      "Epoch 477/1000\n",
      "5/5 [==============================] - 1s 181ms/step - loss: 0.1001 - mae: 0.2553 - val_loss: 0.0791 - val_mae: 0.2270\n",
      "Epoch 478/1000\n",
      "5/5 [==============================] - 1s 187ms/step - loss: 0.0763 - mae: 0.2225 - val_loss: 0.0648 - val_mae: 0.2059\n",
      "Epoch 479/1000\n",
      "5/5 [==============================] - 1s 187ms/step - loss: 0.0834 - mae: 0.2309 - val_loss: 0.0635 - val_mae: 0.2004\n",
      "Epoch 480/1000\n",
      "5/5 [==============================] - 1s 184ms/step - loss: 0.0714 - mae: 0.2112 - val_loss: 0.0525 - val_mae: 0.1808\n",
      "Epoch 481/1000\n",
      "5/5 [==============================] - ETA: 0s - loss: 0.0634 - mae: 0.1988INFO:tensorflow:Assets written to: C:\\Users\\PARK\\Documents\\LAB\\RNN vs LSTM\\FInal Example\\wandb\\run-20221015_213639-195m80vg\\files\\model-best\\assets\n"
     ]
    },
    {
     "name": "stderr",
     "output_type": "stream",
     "text": [
      "\u001b[34m\u001b[1mwandb\u001b[0m: Adding directory to artifact (C:\\Users\\PARK\\Documents\\LAB\\RNN vs LSTM\\FInal Example\\wandb\\run-20221015_213639-195m80vg\\files\\model-best)... Done. 0.1s\n"
     ]
    },
    {
     "name": "stdout",
     "output_type": "stream",
     "text": [
      "5/5 [==============================] - 2s 589ms/step - loss: 0.0634 - mae: 0.1988 - val_loss: 0.0472 - val_mae: 0.1692\n",
      "Epoch 482/1000\n",
      "5/5 [==============================] - 1s 218ms/step - loss: 0.0591 - mae: 0.1912 - val_loss: 0.0768 - val_mae: 0.2260\n",
      "Epoch 483/1000\n",
      "5/5 [==============================] - 1s 188ms/step - loss: 0.0560 - mae: 0.1862 - val_loss: 0.0531 - val_mae: 0.1846\n",
      "Epoch 484/1000\n",
      "5/5 [==============================] - 1s 185ms/step - loss: 0.0612 - mae: 0.1966 - val_loss: 0.0793 - val_mae: 0.2235\n",
      "Epoch 485/1000\n",
      "5/5 [==============================] - 1s 183ms/step - loss: 0.0668 - mae: 0.2062 - val_loss: 0.0662 - val_mae: 0.2032\n",
      "Epoch 486/1000\n",
      "5/5 [==============================] - 1s 183ms/step - loss: 0.0686 - mae: 0.2062 - val_loss: 0.0601 - val_mae: 0.1943\n",
      "Epoch 487/1000\n",
      "5/5 [==============================] - 1s 184ms/step - loss: 0.0563 - mae: 0.1857 - val_loss: 0.0900 - val_mae: 0.2410\n",
      "Epoch 488/1000\n",
      "5/5 [==============================] - 1s 182ms/step - loss: 0.0691 - mae: 0.2096 - val_loss: 0.0668 - val_mae: 0.2010\n",
      "Epoch 489/1000\n",
      "5/5 [==============================] - 1s 184ms/step - loss: 0.0543 - mae: 0.1803 - val_loss: 0.0554 - val_mae: 0.1845\n",
      "Epoch 490/1000\n",
      "5/5 [==============================] - 1s 181ms/step - loss: 0.0495 - mae: 0.1727 - val_loss: 0.0603 - val_mae: 0.1881\n",
      "Epoch 491/1000\n",
      "5/5 [==============================] - 1s 184ms/step - loss: 0.0499 - mae: 0.1734 - val_loss: 0.0522 - val_mae: 0.1766\n",
      "Epoch 492/1000\n",
      "5/5 [==============================] - 1s 186ms/step - loss: 0.0502 - mae: 0.1753 - val_loss: 0.0694 - val_mae: 0.2044\n",
      "Epoch 493/1000\n",
      "5/5 [==============================] - ETA: 0s - loss: 0.0559 - mae: 0.1876INFO:tensorflow:Assets written to: C:\\Users\\PARK\\Documents\\LAB\\RNN vs LSTM\\FInal Example\\wandb\\run-20221015_213639-195m80vg\\files\\model-best\\assets\n"
     ]
    },
    {
     "name": "stderr",
     "output_type": "stream",
     "text": [
      "\u001b[34m\u001b[1mwandb\u001b[0m: Adding directory to artifact (C:\\Users\\PARK\\Documents\\LAB\\RNN vs LSTM\\FInal Example\\wandb\\run-20221015_213639-195m80vg\\files\\model-best)... Done. 0.1s\n"
     ]
    },
    {
     "name": "stdout",
     "output_type": "stream",
     "text": [
      "5/5 [==============================] - 2s 584ms/step - loss: 0.0559 - mae: 0.1876 - val_loss: 0.0445 - val_mae: 0.1629\n",
      "Epoch 494/1000\n",
      "5/5 [==============================] - 1s 207ms/step - loss: 0.0511 - mae: 0.1768 - val_loss: 0.0533 - val_mae: 0.1838\n",
      "Epoch 495/1000\n",
      "5/5 [==============================] - 1s 184ms/step - loss: 0.0470 - mae: 0.1688 - val_loss: 0.0605 - val_mae: 0.1922\n",
      "Epoch 496/1000\n",
      "5/5 [==============================] - 1s 182ms/step - loss: 0.0517 - mae: 0.1767 - val_loss: 0.0799 - val_mae: 0.2266\n",
      "Epoch 497/1000\n",
      "5/5 [==============================] - 1s 182ms/step - loss: 0.0622 - mae: 0.1962 - val_loss: 0.0555 - val_mae: 0.1851\n",
      "Epoch 498/1000\n",
      "5/5 [==============================] - 1s 180ms/step - loss: 0.0573 - mae: 0.1879 - val_loss: 0.0574 - val_mae: 0.1863\n",
      "Epoch 499/1000\n",
      "5/5 [==============================] - 1s 182ms/step - loss: 0.0516 - mae: 0.1794 - val_loss: 0.0710 - val_mae: 0.2058\n",
      "Epoch 500/1000\n",
      "5/5 [==============================] - 1s 183ms/step - loss: 0.0517 - mae: 0.1770 - val_loss: 0.0533 - val_mae: 0.1798\n",
      "Epoch 501/1000\n",
      "5/5 [==============================] - 1s 185ms/step - loss: 0.0446 - mae: 0.1624 - val_loss: 0.0735 - val_mae: 0.2216\n",
      "Epoch 502/1000\n",
      "5/5 [==============================] - 1s 181ms/step - loss: 0.0875 - mae: 0.2420 - val_loss: 0.0598 - val_mae: 0.1965\n",
      "Epoch 503/1000\n",
      "5/5 [==============================] - 1s 182ms/step - loss: 0.0751 - mae: 0.2208 - val_loss: 0.0579 - val_mae: 0.1926\n",
      "Epoch 504/1000\n",
      "5/5 [==============================] - 1s 182ms/step - loss: 0.0617 - mae: 0.1987 - val_loss: 0.0744 - val_mae: 0.2223\n",
      "Epoch 505/1000\n",
      "5/5 [==============================] - 1s 184ms/step - loss: 0.0588 - mae: 0.1934 - val_loss: 0.1484 - val_mae: 0.3234\n",
      "Epoch 506/1000\n",
      "5/5 [==============================] - 1s 181ms/step - loss: 0.0935 - mae: 0.2523 - val_loss: 0.0555 - val_mae: 0.1842\n",
      "Epoch 507/1000\n",
      "5/5 [==============================] - 1s 180ms/step - loss: 0.0595 - mae: 0.1934 - val_loss: 0.0621 - val_mae: 0.2003\n",
      "Epoch 508/1000\n",
      "5/5 [==============================] - 1s 182ms/step - loss: 0.0533 - mae: 0.1824 - val_loss: 0.1140 - val_mae: 0.2759\n",
      "Epoch 509/1000\n",
      "5/5 [==============================] - 1s 182ms/step - loss: 0.0831 - mae: 0.2311 - val_loss: 0.0545 - val_mae: 0.1853\n",
      "Epoch 510/1000\n",
      "5/5 [==============================] - 1s 180ms/step - loss: 0.0513 - mae: 0.1799 - val_loss: 0.0475 - val_mae: 0.1697\n",
      "Epoch 511/1000\n",
      "5/5 [==============================] - 1s 183ms/step - loss: 0.0437 - mae: 0.1615 - val_loss: 0.0475 - val_mae: 0.1721\n",
      "Epoch 512/1000\n",
      "5/5 [==============================] - 1s 180ms/step - loss: 0.0403 - mae: 0.1558 - val_loss: 0.0568 - val_mae: 0.1868\n",
      "Epoch 513/1000\n",
      "5/5 [==============================] - 1s 182ms/step - loss: 0.0507 - mae: 0.1781 - val_loss: 0.0501 - val_mae: 0.1788\n",
      "Epoch 514/1000\n",
      "5/5 [==============================] - 1s 186ms/step - loss: 0.0592 - mae: 0.1935 - val_loss: 0.0569 - val_mae: 0.1929\n",
      "Epoch 515/1000\n",
      "5/5 [==============================] - 1s 186ms/step - loss: 0.0643 - mae: 0.2038 - val_loss: 0.0528 - val_mae: 0.1815\n",
      "Epoch 516/1000\n",
      "5/5 [==============================] - ETA: 0s - loss: 0.0421 - mae: 0.1601INFO:tensorflow:Assets written to: C:\\Users\\PARK\\Documents\\LAB\\RNN vs LSTM\\FInal Example\\wandb\\run-20221015_213639-195m80vg\\files\\model-best\\assets\n"
     ]
    },
    {
     "name": "stderr",
     "output_type": "stream",
     "text": [
      "\u001b[34m\u001b[1mwandb\u001b[0m: Adding directory to artifact (C:\\Users\\PARK\\Documents\\LAB\\RNN vs LSTM\\FInal Example\\wandb\\run-20221015_213639-195m80vg\\files\\model-best)... Done. 0.1s\n"
     ]
    },
    {
     "name": "stdout",
     "output_type": "stream",
     "text": [
      "5/5 [==============================] - 2s 576ms/step - loss: 0.0421 - mae: 0.1601 - val_loss: 0.0404 - val_mae: 0.1596\n",
      "Epoch 517/1000\n",
      "5/5 [==============================] - 1s 200ms/step - loss: 0.0401 - mae: 0.1558 - val_loss: 0.0600 - val_mae: 0.2019\n",
      "Epoch 518/1000\n",
      "5/5 [==============================] - 1s 185ms/step - loss: 0.0571 - mae: 0.1930 - val_loss: 0.0484 - val_mae: 0.1781\n",
      "Epoch 519/1000\n",
      "5/5 [==============================] - 1s 182ms/step - loss: 0.0399 - mae: 0.1586 - val_loss: 0.0479 - val_mae: 0.1736\n",
      "Epoch 520/1000\n",
      "5/5 [==============================] - 1s 188ms/step - loss: 0.0429 - mae: 0.1627 - val_loss: 0.0517 - val_mae: 0.1828\n",
      "Epoch 521/1000\n",
      "5/5 [==============================] - 1s 181ms/step - loss: 0.0433 - mae: 0.1626 - val_loss: 0.0546 - val_mae: 0.1859\n",
      "Epoch 522/1000\n",
      "5/5 [==============================] - 1s 184ms/step - loss: 0.0420 - mae: 0.1614 - val_loss: 0.0607 - val_mae: 0.1937\n",
      "Epoch 523/1000\n",
      "5/5 [==============================] - 1s 181ms/step - loss: 0.0469 - mae: 0.1684 - val_loss: 0.0553 - val_mae: 0.1899\n",
      "Epoch 524/1000\n",
      "5/5 [==============================] - 1s 182ms/step - loss: 0.0455 - mae: 0.1681 - val_loss: 0.0709 - val_mae: 0.2137\n",
      "Epoch 525/1000\n",
      "5/5 [==============================] - 1s 184ms/step - loss: 0.0574 - mae: 0.1925 - val_loss: 0.0839 - val_mae: 0.2368\n",
      "Epoch 526/1000\n",
      "5/5 [==============================] - 1s 185ms/step - loss: 0.0589 - mae: 0.1935 - val_loss: 0.0565 - val_mae: 0.1883\n",
      "Epoch 527/1000\n",
      "5/5 [==============================] - 1s 184ms/step - loss: 0.0533 - mae: 0.1838 - val_loss: 0.0432 - val_mae: 0.1618\n",
      "Epoch 528/1000\n",
      "5/5 [==============================] - 1s 183ms/step - loss: 0.0461 - mae: 0.1686 - val_loss: 0.0836 - val_mae: 0.2408\n",
      "Epoch 529/1000\n",
      "5/5 [==============================] - 1s 187ms/step - loss: 0.0758 - mae: 0.2248 - val_loss: 0.1165 - val_mae: 0.2828\n",
      "Epoch 530/1000\n",
      "5/5 [==============================] - 1s 189ms/step - loss: 0.0882 - mae: 0.2422 - val_loss: 0.0923 - val_mae: 0.2533\n",
      "Epoch 531/1000\n",
      "5/5 [==============================] - 1s 184ms/step - loss: 0.0969 - mae: 0.2540 - val_loss: 0.1340 - val_mae: 0.3023\n",
      "Epoch 532/1000\n",
      "5/5 [==============================] - 1s 185ms/step - loss: 0.0902 - mae: 0.2452 - val_loss: 0.0716 - val_mae: 0.2176\n",
      "Epoch 533/1000\n",
      "5/5 [==============================] - 1s 190ms/step - loss: 0.0597 - mae: 0.1961 - val_loss: 0.0530 - val_mae: 0.1891\n",
      "Epoch 534/1000\n",
      "5/5 [==============================] - 1s 190ms/step - loss: 0.0450 - mae: 0.1698 - val_loss: 0.0614 - val_mae: 0.1979\n",
      "Epoch 535/1000\n",
      "5/5 [==============================] - 1s 191ms/step - loss: 0.0475 - mae: 0.1736 - val_loss: 0.0512 - val_mae: 0.1804\n",
      "Epoch 536/1000\n",
      "5/5 [==============================] - 1s 183ms/step - loss: 0.0429 - mae: 0.1637 - val_loss: 0.0525 - val_mae: 0.1819\n",
      "Epoch 537/1000\n",
      "5/5 [==============================] - 1s 185ms/step - loss: 0.0379 - mae: 0.1521 - val_loss: 0.0553 - val_mae: 0.1864\n",
      "Epoch 538/1000\n",
      "5/5 [==============================] - 1s 181ms/step - loss: 0.0419 - mae: 0.1619 - val_loss: 0.0443 - val_mae: 0.1661\n",
      "Epoch 539/1000\n",
      "5/5 [==============================] - 1s 183ms/step - loss: 0.0360 - mae: 0.1485 - val_loss: 0.0544 - val_mae: 0.1877\n",
      "Epoch 540/1000\n",
      "5/5 [==============================] - ETA: 0s - loss: 0.0432 - mae: 0.1663INFO:tensorflow:Assets written to: C:\\Users\\PARK\\Documents\\LAB\\RNN vs LSTM\\FInal Example\\wandb\\run-20221015_213639-195m80vg\\files\\model-best\\assets\n"
     ]
    },
    {
     "name": "stderr",
     "output_type": "stream",
     "text": [
      "\u001b[34m\u001b[1mwandb\u001b[0m: Adding directory to artifact (C:\\Users\\PARK\\Documents\\LAB\\RNN vs LSTM\\FInal Example\\wandb\\run-20221015_213639-195m80vg\\files\\model-best)... Done. 0.1s\n"
     ]
    },
    {
     "name": "stdout",
     "output_type": "stream",
     "text": [
      "5/5 [==============================] - 2s 587ms/step - loss: 0.0432 - mae: 0.1663 - val_loss: 0.0344 - val_mae: 0.1466\n",
      "Epoch 541/1000\n",
      "5/5 [==============================] - 1s 211ms/step - loss: 0.0469 - mae: 0.1743 - val_loss: 0.0493 - val_mae: 0.1778\n",
      "Epoch 542/1000\n",
      "5/5 [==============================] - 1s 186ms/step - loss: 0.0363 - mae: 0.1500 - val_loss: 0.0565 - val_mae: 0.1971\n",
      "Epoch 543/1000\n",
      "5/5 [==============================] - 1s 185ms/step - loss: 0.0424 - mae: 0.1671 - val_loss: 0.0536 - val_mae: 0.1922\n",
      "Epoch 544/1000\n",
      "5/5 [==============================] - 1s 185ms/step - loss: 0.0351 - mae: 0.1477 - val_loss: 0.0362 - val_mae: 0.1472\n",
      "Epoch 545/1000\n",
      "5/5 [==============================] - ETA: 0s - loss: 0.0306 - mae: 0.1388INFO:tensorflow:Assets written to: C:\\Users\\PARK\\Documents\\LAB\\RNN vs LSTM\\FInal Example\\wandb\\run-20221015_213639-195m80vg\\files\\model-best\\assets\n"
     ]
    },
    {
     "name": "stderr",
     "output_type": "stream",
     "text": [
      "\u001b[34m\u001b[1mwandb\u001b[0m: Adding directory to artifact (C:\\Users\\PARK\\Documents\\LAB\\RNN vs LSTM\\FInal Example\\wandb\\run-20221015_213639-195m80vg\\files\\model-best)... Done. 0.1s\n"
     ]
    },
    {
     "name": "stdout",
     "output_type": "stream",
     "text": [
      "5/5 [==============================] - 2s 575ms/step - loss: 0.0306 - mae: 0.1388 - val_loss: 0.0342 - val_mae: 0.1438\n",
      "Epoch 546/1000\n",
      "5/5 [==============================] - 1s 214ms/step - loss: 0.0283 - mae: 0.1313 - val_loss: 0.0567 - val_mae: 0.1877\n",
      "Epoch 547/1000\n",
      "5/5 [==============================] - 1s 183ms/step - loss: 0.0434 - mae: 0.1690 - val_loss: 0.1187 - val_mae: 0.2909\n",
      "Epoch 548/1000\n",
      "5/5 [==============================] - 1s 183ms/step - loss: 0.0700 - mae: 0.2168 - val_loss: 0.0483 - val_mae: 0.1769\n",
      "Epoch 549/1000\n",
      "5/5 [==============================] - 1s 183ms/step - loss: 0.0652 - mae: 0.2094 - val_loss: 0.0530 - val_mae: 0.1864\n",
      "Epoch 550/1000\n",
      "5/5 [==============================] - 1s 183ms/step - loss: 0.0829 - mae: 0.2321 - val_loss: 0.0460 - val_mae: 0.1721\n",
      "Epoch 551/1000\n",
      "5/5 [==============================] - 1s 183ms/step - loss: 0.0561 - mae: 0.1907 - val_loss: 0.1045 - val_mae: 0.2702\n",
      "Epoch 552/1000\n",
      "5/5 [==============================] - 1s 186ms/step - loss: 0.0650 - mae: 0.2048 - val_loss: 0.0680 - val_mae: 0.2050\n",
      "Epoch 553/1000\n",
      "5/5 [==============================] - 1s 183ms/step - loss: 0.0507 - mae: 0.1805 - val_loss: 0.0487 - val_mae: 0.1808\n",
      "Epoch 554/1000\n",
      "5/5 [==============================] - 1s 182ms/step - loss: 0.0493 - mae: 0.1788 - val_loss: 0.0913 - val_mae: 0.2600\n",
      "Epoch 555/1000\n",
      "5/5 [==============================] - 1s 190ms/step - loss: 0.0537 - mae: 0.1867 - val_loss: 0.0368 - val_mae: 0.1512\n",
      "Epoch 556/1000\n",
      "5/5 [==============================] - ETA: 0s - loss: 0.0316 - mae: 0.1417INFO:tensorflow:Assets written to: C:\\Users\\PARK\\Documents\\LAB\\RNN vs LSTM\\FInal Example\\wandb\\run-20221015_213639-195m80vg\\files\\model-best\\assets\n"
     ]
    },
    {
     "name": "stderr",
     "output_type": "stream",
     "text": [
      "\u001b[34m\u001b[1mwandb\u001b[0m: Adding directory to artifact (C:\\Users\\PARK\\Documents\\LAB\\RNN vs LSTM\\FInal Example\\wandb\\run-20221015_213639-195m80vg\\files\\model-best)... Done. 0.1s\n"
     ]
    },
    {
     "name": "stdout",
     "output_type": "stream",
     "text": [
      "5/5 [==============================] - 2s 601ms/step - loss: 0.0316 - mae: 0.1417 - val_loss: 0.0336 - val_mae: 0.1468\n",
      "Epoch 557/1000\n",
      "5/5 [==============================] - 1s 205ms/step - loss: 0.0301 - mae: 0.1372 - val_loss: 0.0357 - val_mae: 0.1506\n",
      "Epoch 558/1000\n",
      "5/5 [==============================] - 1s 184ms/step - loss: 0.0320 - mae: 0.1420 - val_loss: 0.0367 - val_mae: 0.1508\n",
      "Epoch 559/1000\n",
      "5/5 [==============================] - 1s 184ms/step - loss: 0.0334 - mae: 0.1460 - val_loss: 0.0339 - val_mae: 0.1481\n",
      "Epoch 560/1000\n",
      "5/5 [==============================] - 1s 183ms/step - loss: 0.0287 - mae: 0.1353 - val_loss: 0.0573 - val_mae: 0.1946\n",
      "Epoch 561/1000\n",
      "5/5 [==============================] - ETA: 0s - loss: 0.0390 - mae: 0.1588INFO:tensorflow:Assets written to: C:\\Users\\PARK\\Documents\\LAB\\RNN vs LSTM\\FInal Example\\wandb\\run-20221015_213639-195m80vg\\files\\model-best\\assets\n"
     ]
    },
    {
     "name": "stderr",
     "output_type": "stream",
     "text": [
      "\u001b[34m\u001b[1mwandb\u001b[0m: Adding directory to artifact (C:\\Users\\PARK\\Documents\\LAB\\RNN vs LSTM\\FInal Example\\wandb\\run-20221015_213639-195m80vg\\files\\model-best)... Done. 0.1s\n"
     ]
    },
    {
     "name": "stdout",
     "output_type": "stream",
     "text": [
      "5/5 [==============================] - 2s 579ms/step - loss: 0.0390 - mae: 0.1588 - val_loss: 0.0328 - val_mae: 0.1425\n",
      "Epoch 562/1000\n",
      "5/5 [==============================] - ETA: 0s - loss: 0.0254 - mae: 0.1264INFO:tensorflow:Assets written to: C:\\Users\\PARK\\Documents\\LAB\\RNN vs LSTM\\FInal Example\\wandb\\run-20221015_213639-195m80vg\\files\\model-best\\assets\n"
     ]
    },
    {
     "name": "stderr",
     "output_type": "stream",
     "text": [
      "\u001b[34m\u001b[1mwandb\u001b[0m: Adding directory to artifact (C:\\Users\\PARK\\Documents\\LAB\\RNN vs LSTM\\FInal Example\\wandb\\run-20221015_213639-195m80vg\\files\\model-best)... Done. 0.1s\n"
     ]
    },
    {
     "name": "stdout",
     "output_type": "stream",
     "text": [
      "5/5 [==============================] - 3s 647ms/step - loss: 0.0254 - mae: 0.1264 - val_loss: 0.0276 - val_mae: 0.1310\n",
      "Epoch 563/1000\n",
      "5/5 [==============================] - 1s 210ms/step - loss: 0.0261 - mae: 0.1293 - val_loss: 0.0421 - val_mae: 0.1639\n",
      "Epoch 564/1000\n",
      "5/5 [==============================] - 1s 185ms/step - loss: 0.0365 - mae: 0.1529 - val_loss: 0.0287 - val_mae: 0.1379\n",
      "Epoch 565/1000\n",
      "5/5 [==============================] - 1s 186ms/step - loss: 0.0307 - mae: 0.1386 - val_loss: 0.0322 - val_mae: 0.1451\n",
      "Epoch 566/1000\n",
      "5/5 [==============================] - 1s 188ms/step - loss: 0.0297 - mae: 0.1385 - val_loss: 0.0755 - val_mae: 0.2339\n",
      "Epoch 567/1000\n",
      "5/5 [==============================] - ETA: 0s - loss: 0.0484 - mae: 0.1797INFO:tensorflow:Assets written to: C:\\Users\\PARK\\Documents\\LAB\\RNN vs LSTM\\FInal Example\\wandb\\run-20221015_213639-195m80vg\\files\\model-best\\assets\n"
     ]
    },
    {
     "name": "stderr",
     "output_type": "stream",
     "text": [
      "\u001b[34m\u001b[1mwandb\u001b[0m: Adding directory to artifact (C:\\Users\\PARK\\Documents\\LAB\\RNN vs LSTM\\FInal Example\\wandb\\run-20221015_213639-195m80vg\\files\\model-best)... Done. 0.1s\n"
     ]
    },
    {
     "name": "stdout",
     "output_type": "stream",
     "text": [
      "5/5 [==============================] - 2s 599ms/step - loss: 0.0484 - mae: 0.1797 - val_loss: 0.0274 - val_mae: 0.1303\n",
      "Epoch 568/1000\n",
      "5/5 [==============================] - 1s 215ms/step - loss: 0.0484 - mae: 0.1780 - val_loss: 0.1517 - val_mae: 0.3453\n",
      "Epoch 569/1000\n",
      "5/5 [==============================] - 1s 188ms/step - loss: 0.1038 - mae: 0.2746 - val_loss: 0.0788 - val_mae: 0.2441\n",
      "Epoch 570/1000\n",
      "5/5 [==============================] - 1s 187ms/step - loss: 0.0853 - mae: 0.2460 - val_loss: 0.0879 - val_mae: 0.2405\n",
      "Epoch 571/1000\n",
      "5/5 [==============================] - 1s 187ms/step - loss: 0.1126 - mae: 0.2708 - val_loss: 0.0904 - val_mae: 0.2468\n",
      "Epoch 572/1000\n",
      "5/5 [==============================] - 1s 191ms/step - loss: 0.1038 - mae: 0.2585 - val_loss: 0.0711 - val_mae: 0.2053\n",
      "Epoch 573/1000\n",
      "5/5 [==============================] - 1s 188ms/step - loss: 0.0955 - mae: 0.2465 - val_loss: 0.1244 - val_mae: 0.2879\n",
      "Epoch 574/1000\n",
      "5/5 [==============================] - 1s 189ms/step - loss: 0.1110 - mae: 0.2645 - val_loss: 0.0967 - val_mae: 0.2505\n",
      "Epoch 575/1000\n",
      "5/5 [==============================] - 1s 188ms/step - loss: 0.0740 - mae: 0.2171 - val_loss: 0.0838 - val_mae: 0.2378\n",
      "Epoch 576/1000\n",
      "5/5 [==============================] - 1s 184ms/step - loss: 0.0696 - mae: 0.2117 - val_loss: 0.0556 - val_mae: 0.1867\n",
      "Epoch 577/1000\n",
      "5/5 [==============================] - 1s 184ms/step - loss: 0.0577 - mae: 0.1912 - val_loss: 0.0618 - val_mae: 0.2019\n",
      "Epoch 578/1000\n",
      "5/5 [==============================] - 1s 185ms/step - loss: 0.0504 - mae: 0.1761 - val_loss: 0.0605 - val_mae: 0.1896\n",
      "Epoch 579/1000\n",
      "5/5 [==============================] - 1s 186ms/step - loss: 0.0477 - mae: 0.1710 - val_loss: 0.0486 - val_mae: 0.1682\n",
      "Epoch 580/1000\n",
      "5/5 [==============================] - 1s 187ms/step - loss: 0.0471 - mae: 0.1707 - val_loss: 0.1107 - val_mae: 0.2843\n",
      "Epoch 581/1000\n",
      "5/5 [==============================] - 1s 187ms/step - loss: 0.0690 - mae: 0.2138 - val_loss: 0.0438 - val_mae: 0.1650\n",
      "Epoch 582/1000\n",
      "5/5 [==============================] - 1s 187ms/step - loss: 0.0393 - mae: 0.1576 - val_loss: 0.0402 - val_mae: 0.1576\n",
      "Epoch 583/1000\n",
      "5/5 [==============================] - 1s 186ms/step - loss: 0.0573 - mae: 0.1922 - val_loss: 0.0635 - val_mae: 0.2017\n",
      "Epoch 584/1000\n",
      "5/5 [==============================] - 1s 194ms/step - loss: 0.0547 - mae: 0.1869 - val_loss: 0.0641 - val_mae: 0.2101\n",
      "Epoch 585/1000\n",
      "5/5 [==============================] - 1s 196ms/step - loss: 0.0529 - mae: 0.1878 - val_loss: 0.0562 - val_mae: 0.1929\n",
      "Epoch 586/1000\n",
      "5/5 [==============================] - 1s 191ms/step - loss: 0.0469 - mae: 0.1722 - val_loss: 0.0425 - val_mae: 0.1678\n",
      "Epoch 587/1000\n",
      "5/5 [==============================] - 1s 188ms/step - loss: 0.0335 - mae: 0.1437 - val_loss: 0.0359 - val_mae: 0.1469\n",
      "Epoch 588/1000\n",
      "5/5 [==============================] - 1s 185ms/step - loss: 0.0352 - mae: 0.1484 - val_loss: 0.0469 - val_mae: 0.1760\n",
      "Epoch 589/1000\n",
      "5/5 [==============================] - 1s 188ms/step - loss: 0.0352 - mae: 0.1480 - val_loss: 0.0359 - val_mae: 0.1513\n",
      "Epoch 590/1000\n",
      "5/5 [==============================] - 1s 190ms/step - loss: 0.0364 - mae: 0.1533 - val_loss: 0.0398 - val_mae: 0.1539\n",
      "Epoch 591/1000\n",
      "5/5 [==============================] - 1s 189ms/step - loss: 0.0303 - mae: 0.1369 - val_loss: 0.0281 - val_mae: 0.1340\n",
      "Epoch 592/1000\n",
      "5/5 [==============================] - 1s 201ms/step - loss: 0.0282 - mae: 0.1334 - val_loss: 0.0601 - val_mae: 0.2002\n",
      "Epoch 593/1000\n",
      "5/5 [==============================] - 1s 202ms/step - loss: 0.0427 - mae: 0.1654 - val_loss: 0.0429 - val_mae: 0.1630\n",
      "Epoch 594/1000\n",
      "5/5 [==============================] - 1s 203ms/step - loss: 0.0385 - mae: 0.1571 - val_loss: 0.0336 - val_mae: 0.1454\n",
      "Epoch 595/1000\n",
      "5/5 [==============================] - 1s 200ms/step - loss: 0.0288 - mae: 0.1349 - val_loss: 0.0325 - val_mae: 0.1429\n",
      "Epoch 596/1000\n",
      "5/5 [==============================] - 1s 190ms/step - loss: 0.0292 - mae: 0.1374 - val_loss: 0.0327 - val_mae: 0.1453\n",
      "Epoch 597/1000\n",
      "5/5 [==============================] - ETA: 0s - loss: 0.0265 - mae: 0.1309INFO:tensorflow:Assets written to: C:\\Users\\PARK\\Documents\\LAB\\RNN vs LSTM\\FInal Example\\wandb\\run-20221015_213639-195m80vg\\files\\model-best\\assets\n"
     ]
    },
    {
     "name": "stderr",
     "output_type": "stream",
     "text": [
      "\u001b[34m\u001b[1mwandb\u001b[0m: Adding directory to artifact (C:\\Users\\PARK\\Documents\\LAB\\RNN vs LSTM\\FInal Example\\wandb\\run-20221015_213639-195m80vg\\files\\model-best)... Done. 0.1s\n"
     ]
    },
    {
     "name": "stdout",
     "output_type": "stream",
     "text": [
      "5/5 [==============================] - 2s 583ms/step - loss: 0.0265 - mae: 0.1309 - val_loss: 0.0261 - val_mae: 0.1285\n",
      "Epoch 598/1000\n",
      "5/5 [==============================] - 1s 204ms/step - loss: 0.0264 - mae: 0.1293 - val_loss: 0.0482 - val_mae: 0.1810\n",
      "Epoch 599/1000\n",
      "5/5 [==============================] - 1s 188ms/step - loss: 0.0399 - mae: 0.1622 - val_loss: 0.0429 - val_mae: 0.1712\n",
      "Epoch 600/1000\n",
      "5/5 [==============================] - ETA: 0s - loss: 0.0275 - mae: 0.1330INFO:tensorflow:Assets written to: C:\\Users\\PARK\\Documents\\LAB\\RNN vs LSTM\\FInal Example\\wandb\\run-20221015_213639-195m80vg\\files\\model-best\\assets\n"
     ]
    },
    {
     "name": "stderr",
     "output_type": "stream",
     "text": [
      "\u001b[34m\u001b[1mwandb\u001b[0m: Adding directory to artifact (C:\\Users\\PARK\\Documents\\LAB\\RNN vs LSTM\\FInal Example\\wandb\\run-20221015_213639-195m80vg\\files\\model-best)... Done. 0.1s\n"
     ]
    },
    {
     "name": "stdout",
     "output_type": "stream",
     "text": [
      "5/5 [==============================] - 2s 593ms/step - loss: 0.0275 - mae: 0.1330 - val_loss: 0.0242 - val_mae: 0.1243\n",
      "Epoch 601/1000\n",
      "5/5 [==============================] - 1s 205ms/step - loss: 0.0273 - mae: 0.1322 - val_loss: 0.0286 - val_mae: 0.1323\n",
      "Epoch 602/1000\n",
      "5/5 [==============================] - 1s 188ms/step - loss: 0.0318 - mae: 0.1440 - val_loss: 0.0421 - val_mae: 0.1625\n",
      "Epoch 603/1000\n",
      "5/5 [==============================] - 1s 186ms/step - loss: 0.0350 - mae: 0.1496 - val_loss: 0.0492 - val_mae: 0.1798\n",
      "Epoch 604/1000\n",
      "5/5 [==============================] - 1s 189ms/step - loss: 0.0384 - mae: 0.1587 - val_loss: 0.0582 - val_mae: 0.1974\n",
      "Epoch 605/1000\n",
      "5/5 [==============================] - 1s 189ms/step - loss: 0.0381 - mae: 0.1561 - val_loss: 0.0991 - val_mae: 0.2702\n",
      "Epoch 606/1000\n",
      "5/5 [==============================] - 1s 186ms/step - loss: 0.0688 - mae: 0.2167 - val_loss: 0.0575 - val_mae: 0.1922\n",
      "Epoch 607/1000\n",
      "5/5 [==============================] - 1s 184ms/step - loss: 0.0515 - mae: 0.1855 - val_loss: 0.0828 - val_mae: 0.2447\n",
      "Epoch 608/1000\n",
      "5/5 [==============================] - 1s 185ms/step - loss: 0.0992 - mae: 0.2643 - val_loss: 0.0399 - val_mae: 0.1566\n",
      "Epoch 609/1000\n",
      "5/5 [==============================] - 1s 186ms/step - loss: 0.0587 - mae: 0.1942 - val_loss: 0.0389 - val_mae: 0.1605\n",
      "Epoch 610/1000\n",
      "5/5 [==============================] - 1s 183ms/step - loss: 0.0570 - mae: 0.1928 - val_loss: 0.0370 - val_mae: 0.1560\n",
      "Epoch 611/1000\n",
      "5/5 [==============================] - 1s 185ms/step - loss: 0.0499 - mae: 0.1804 - val_loss: 0.0328 - val_mae: 0.1439\n",
      "Epoch 612/1000\n",
      "5/5 [==============================] - 1s 186ms/step - loss: 0.0563 - mae: 0.1919 - val_loss: 0.0364 - val_mae: 0.1498\n",
      "Epoch 613/1000\n",
      "5/5 [==============================] - 1s 184ms/step - loss: 0.0509 - mae: 0.1839 - val_loss: 0.0615 - val_mae: 0.2037\n",
      "Epoch 614/1000\n",
      "5/5 [==============================] - 1s 188ms/step - loss: 0.0383 - mae: 0.1578 - val_loss: 0.0498 - val_mae: 0.1850\n",
      "Epoch 615/1000\n",
      "5/5 [==============================] - 1s 191ms/step - loss: 0.0338 - mae: 0.1476 - val_loss: 0.0333 - val_mae: 0.1475\n",
      "Epoch 616/1000\n",
      "5/5 [==============================] - 1s 185ms/step - loss: 0.0296 - mae: 0.1376 - val_loss: 0.0422 - val_mae: 0.1650\n",
      "Epoch 617/1000\n",
      "5/5 [==============================] - 1s 186ms/step - loss: 0.0271 - mae: 0.1306 - val_loss: 0.0388 - val_mae: 0.1588\n",
      "Epoch 618/1000\n",
      "5/5 [==============================] - 1s 189ms/step - loss: 0.0332 - mae: 0.1462 - val_loss: 0.0354 - val_mae: 0.1526\n",
      "Epoch 619/1000\n",
      "5/5 [==============================] - 1s 194ms/step - loss: 0.0282 - mae: 0.1351 - val_loss: 0.0300 - val_mae: 0.1419\n",
      "Epoch 620/1000\n",
      "5/5 [==============================] - ETA: 0s - loss: 0.0226 - mae: 0.1208INFO:tensorflow:Assets written to: C:\\Users\\PARK\\Documents\\LAB\\RNN vs LSTM\\FInal Example\\wandb\\run-20221015_213639-195m80vg\\files\\model-best\\assets\n"
     ]
    },
    {
     "name": "stderr",
     "output_type": "stream",
     "text": [
      "\u001b[34m\u001b[1mwandb\u001b[0m: Adding directory to artifact (C:\\Users\\PARK\\Documents\\LAB\\RNN vs LSTM\\FInal Example\\wandb\\run-20221015_213639-195m80vg\\files\\model-best)... Done. 0.1s\n"
     ]
    },
    {
     "name": "stdout",
     "output_type": "stream",
     "text": [
      "5/5 [==============================] - 2s 585ms/step - loss: 0.0226 - mae: 0.1208 - val_loss: 0.0227 - val_mae: 0.1207\n",
      "Epoch 621/1000\n",
      "5/5 [==============================] - 1s 204ms/step - loss: 0.0197 - mae: 0.1123 - val_loss: 0.0281 - val_mae: 0.1315\n",
      "Epoch 622/1000\n",
      "5/5 [==============================] - ETA: 0s - loss: 0.0236 - mae: 0.1224INFO:tensorflow:Assets written to: C:\\Users\\PARK\\Documents\\LAB\\RNN vs LSTM\\FInal Example\\wandb\\run-20221015_213639-195m80vg\\files\\model-best\\assets\n"
     ]
    },
    {
     "name": "stderr",
     "output_type": "stream",
     "text": [
      "\u001b[34m\u001b[1mwandb\u001b[0m: Adding directory to artifact (C:\\Users\\PARK\\Documents\\LAB\\RNN vs LSTM\\FInal Example\\wandb\\run-20221015_213639-195m80vg\\files\\model-best)... Done. 0.1s\n"
     ]
    },
    {
     "name": "stdout",
     "output_type": "stream",
     "text": [
      "5/5 [==============================] - 2s 588ms/step - loss: 0.0236 - mae: 0.1224 - val_loss: 0.0212 - val_mae: 0.1144\n",
      "Epoch 623/1000\n",
      "5/5 [==============================] - 1s 210ms/step - loss: 0.0199 - mae: 0.1131 - val_loss: 0.0511 - val_mae: 0.1889\n",
      "Epoch 624/1000\n",
      "5/5 [==============================] - 1s 184ms/step - loss: 0.0325 - mae: 0.1445 - val_loss: 0.0298 - val_mae: 0.1335\n",
      "Epoch 625/1000\n",
      "5/5 [==============================] - 1s 184ms/step - loss: 0.0319 - mae: 0.1428 - val_loss: 0.0346 - val_mae: 0.1452\n",
      "Epoch 626/1000\n",
      "5/5 [==============================] - 1s 184ms/step - loss: 0.0239 - mae: 0.1213 - val_loss: 0.0254 - val_mae: 0.1256\n",
      "Epoch 627/1000\n",
      "5/5 [==============================] - 1s 187ms/step - loss: 0.0315 - mae: 0.1413 - val_loss: 0.0309 - val_mae: 0.1388\n",
      "Epoch 628/1000\n",
      "5/5 [==============================] - 1s 189ms/step - loss: 0.0395 - mae: 0.1605 - val_loss: 0.0475 - val_mae: 0.1800\n",
      "Epoch 629/1000\n",
      "5/5 [==============================] - 1s 185ms/step - loss: 0.0572 - mae: 0.1941 - val_loss: 0.0289 - val_mae: 0.1358\n",
      "Epoch 630/1000\n",
      "5/5 [==============================] - 1s 185ms/step - loss: 0.0474 - mae: 0.1784 - val_loss: 0.0552 - val_mae: 0.1906\n",
      "Epoch 631/1000\n",
      "5/5 [==============================] - 1s 183ms/step - loss: 0.0445 - mae: 0.1693 - val_loss: 0.0506 - val_mae: 0.1858\n",
      "Epoch 632/1000\n",
      "5/5 [==============================] - 1s 187ms/step - loss: 0.0403 - mae: 0.1640 - val_loss: 0.0667 - val_mae: 0.2154\n",
      "Epoch 633/1000\n",
      "5/5 [==============================] - 1s 182ms/step - loss: 0.0658 - mae: 0.2128 - val_loss: 0.0491 - val_mae: 0.1842\n",
      "Epoch 634/1000\n",
      "5/5 [==============================] - 1s 184ms/step - loss: 0.0787 - mae: 0.2315 - val_loss: 0.0738 - val_mae: 0.2252\n",
      "Epoch 635/1000\n",
      "5/5 [==============================] - 1s 182ms/step - loss: 0.0703 - mae: 0.2171 - val_loss: 0.0720 - val_mae: 0.2277\n",
      "Epoch 636/1000\n",
      "5/5 [==============================] - 1s 184ms/step - loss: 0.0709 - mae: 0.2228 - val_loss: 0.0264 - val_mae: 0.1273\n",
      "Epoch 637/1000\n",
      "5/5 [==============================] - 1s 183ms/step - loss: 0.0508 - mae: 0.1828 - val_loss: 0.0705 - val_mae: 0.2249\n",
      "Epoch 638/1000\n",
      "5/5 [==============================] - 1s 185ms/step - loss: 0.0394 - mae: 0.1597 - val_loss: 0.0262 - val_mae: 0.1280\n",
      "Epoch 639/1000\n",
      "5/5 [==============================] - 1s 188ms/step - loss: 0.0203 - mae: 0.1135 - val_loss: 0.0243 - val_mae: 0.1234\n",
      "Epoch 640/1000\n",
      "5/5 [==============================] - ETA: 0s - loss: 0.0308 - mae: 0.1421INFO:tensorflow:Assets written to: C:\\Users\\PARK\\Documents\\LAB\\RNN vs LSTM\\FInal Example\\wandb\\run-20221015_213639-195m80vg\\files\\model-best\\assets\n"
     ]
    },
    {
     "name": "stderr",
     "output_type": "stream",
     "text": [
      "\u001b[34m\u001b[1mwandb\u001b[0m: Adding directory to artifact (C:\\Users\\PARK\\Documents\\LAB\\RNN vs LSTM\\FInal Example\\wandb\\run-20221015_213639-195m80vg\\files\\model-best)... Done. 0.1s\n"
     ]
    },
    {
     "name": "stdout",
     "output_type": "stream",
     "text": [
      "5/5 [==============================] - 2s 605ms/step - loss: 0.0308 - mae: 0.1421 - val_loss: 0.0194 - val_mae: 0.1104\n",
      "Epoch 641/1000\n",
      "5/5 [==============================] - 1s 222ms/step - loss: 0.0333 - mae: 0.1464 - val_loss: 0.0339 - val_mae: 0.1529\n",
      "Epoch 642/1000\n",
      "5/5 [==============================] - 1s 184ms/step - loss: 0.0231 - mae: 0.1219 - val_loss: 0.0205 - val_mae: 0.1136\n",
      "Epoch 643/1000\n",
      "5/5 [==============================] - ETA: 0s - loss: 0.0172 - mae: 0.1047INFO:tensorflow:Assets written to: C:\\Users\\PARK\\Documents\\LAB\\RNN vs LSTM\\FInal Example\\wandb\\run-20221015_213639-195m80vg\\files\\model-best\\assets\n"
     ]
    },
    {
     "name": "stderr",
     "output_type": "stream",
     "text": [
      "\u001b[34m\u001b[1mwandb\u001b[0m: Adding directory to artifact (C:\\Users\\PARK\\Documents\\LAB\\RNN vs LSTM\\FInal Example\\wandb\\run-20221015_213639-195m80vg\\files\\model-best)... Done. 0.1s\n"
     ]
    },
    {
     "name": "stdout",
     "output_type": "stream",
     "text": [
      "5/5 [==============================] - 2s 572ms/step - loss: 0.0172 - mae: 0.1047 - val_loss: 0.0187 - val_mae: 0.1091\n",
      "Epoch 644/1000\n",
      "5/5 [==============================] - ETA: 0s - loss: 0.0167 - mae: 0.1029INFO:tensorflow:Assets written to: C:\\Users\\PARK\\Documents\\LAB\\RNN vs LSTM\\FInal Example\\wandb\\run-20221015_213639-195m80vg\\files\\model-best\\assets\n"
     ]
    },
    {
     "name": "stderr",
     "output_type": "stream",
     "text": [
      "\u001b[34m\u001b[1mwandb\u001b[0m: Adding directory to artifact (C:\\Users\\PARK\\Documents\\LAB\\RNN vs LSTM\\FInal Example\\wandb\\run-20221015_213639-195m80vg\\files\\model-best)... Done. 0.1s\n"
     ]
    },
    {
     "name": "stdout",
     "output_type": "stream",
     "text": [
      "5/5 [==============================] - 3s 630ms/step - loss: 0.0167 - mae: 0.1029 - val_loss: 0.0176 - val_mae: 0.1043\n",
      "Epoch 645/1000\n",
      "5/5 [==============================] - 1s 227ms/step - loss: 0.0165 - mae: 0.1027 - val_loss: 0.0295 - val_mae: 0.1390\n",
      "Epoch 646/1000\n",
      "5/5 [==============================] - 1s 194ms/step - loss: 0.0226 - mae: 0.1213 - val_loss: 0.0292 - val_mae: 0.1403\n",
      "Epoch 647/1000\n",
      "5/5 [==============================] - ETA: 0s - loss: 0.0238 - mae: 0.1228INFO:tensorflow:Assets written to: C:\\Users\\PARK\\Documents\\LAB\\RNN vs LSTM\\FInal Example\\wandb\\run-20221015_213639-195m80vg\\files\\model-best\\assets\n"
     ]
    },
    {
     "name": "stderr",
     "output_type": "stream",
     "text": [
      "\u001b[34m\u001b[1mwandb\u001b[0m: Adding directory to artifact (C:\\Users\\PARK\\Documents\\LAB\\RNN vs LSTM\\FInal Example\\wandb\\run-20221015_213639-195m80vg\\files\\model-best)... Done. 0.1s\n"
     ]
    },
    {
     "name": "stdout",
     "output_type": "stream",
     "text": [
      "5/5 [==============================] - 2s 585ms/step - loss: 0.0238 - mae: 0.1228 - val_loss: 0.0165 - val_mae: 0.1009\n",
      "Epoch 648/1000\n",
      "5/5 [==============================] - 1s 208ms/step - loss: 0.0152 - mae: 0.0988 - val_loss: 0.0360 - val_mae: 0.1554\n",
      "Epoch 649/1000\n",
      "5/5 [==============================] - 1s 188ms/step - loss: 0.0233 - mae: 0.1229 - val_loss: 0.0502 - val_mae: 0.1931\n",
      "Epoch 650/1000\n",
      "5/5 [==============================] - 1s 182ms/step - loss: 0.0307 - mae: 0.1425 - val_loss: 0.0248 - val_mae: 0.1256\n",
      "Epoch 651/1000\n",
      "5/5 [==============================] - 1s 183ms/step - loss: 0.0284 - mae: 0.1375 - val_loss: 0.0287 - val_mae: 0.1397\n",
      "Epoch 652/1000\n",
      "5/5 [==============================] - 1s 184ms/step - loss: 0.0178 - mae: 0.1061 - val_loss: 0.0285 - val_mae: 0.1351\n",
      "Epoch 653/1000\n",
      "5/5 [==============================] - 1s 183ms/step - loss: 0.0227 - mae: 0.1220 - val_loss: 0.0308 - val_mae: 0.1396\n",
      "Epoch 654/1000\n",
      "5/5 [==============================] - 1s 187ms/step - loss: 0.0470 - mae: 0.1656 - val_loss: 0.0560 - val_mae: 0.1945\n",
      "Epoch 655/1000\n",
      "5/5 [==============================] - 1s 188ms/step - loss: 0.0855 - mae: 0.2367 - val_loss: 0.0553 - val_mae: 0.1907\n",
      "Epoch 656/1000\n",
      "5/5 [==============================] - 1s 187ms/step - loss: 0.0754 - mae: 0.2219 - val_loss: 0.0410 - val_mae: 0.1603\n",
      "Epoch 657/1000\n",
      "5/5 [==============================] - 1s 185ms/step - loss: 0.0563 - mae: 0.1911 - val_loss: 0.0835 - val_mae: 0.2352\n",
      "Epoch 658/1000\n",
      "5/5 [==============================] - 1s 183ms/step - loss: 0.0574 - mae: 0.1913 - val_loss: 0.0647 - val_mae: 0.2101\n",
      "Epoch 659/1000\n",
      "5/5 [==============================] - 1s 184ms/step - loss: 0.0727 - mae: 0.2239 - val_loss: 0.0811 - val_mae: 0.2380\n",
      "Epoch 660/1000\n",
      "5/5 [==============================] - 1s 183ms/step - loss: 0.0598 - mae: 0.1973 - val_loss: 0.1057 - val_mae: 0.2872\n",
      "Epoch 661/1000\n",
      "5/5 [==============================] - 1s 186ms/step - loss: 0.0782 - mae: 0.2335 - val_loss: 0.0739 - val_mae: 0.2257\n",
      "Epoch 662/1000\n",
      "5/5 [==============================] - 1s 183ms/step - loss: 0.0559 - mae: 0.1919 - val_loss: 0.0287 - val_mae: 0.1368\n",
      "Epoch 663/1000\n",
      "5/5 [==============================] - 1s 186ms/step - loss: 0.0302 - mae: 0.1406 - val_loss: 0.0664 - val_mae: 0.2152\n",
      "Epoch 664/1000\n",
      "5/5 [==============================] - 1s 184ms/step - loss: 0.0444 - mae: 0.1736 - val_loss: 0.0278 - val_mae: 0.1323\n",
      "Epoch 665/1000\n",
      "5/5 [==============================] - 1s 186ms/step - loss: 0.0229 - mae: 0.1207 - val_loss: 0.0232 - val_mae: 0.1202\n",
      "Epoch 666/1000\n",
      "5/5 [==============================] - 1s 187ms/step - loss: 0.0186 - mae: 0.1081 - val_loss: 0.0310 - val_mae: 0.1445\n",
      "Epoch 667/1000\n",
      "5/5 [==============================] - 1s 184ms/step - loss: 0.0290 - mae: 0.1361 - val_loss: 0.0419 - val_mae: 0.1750\n",
      "Epoch 668/1000\n",
      "5/5 [==============================] - 1s 188ms/step - loss: 0.0260 - mae: 0.1305 - val_loss: 0.0230 - val_mae: 0.1234\n",
      "Epoch 669/1000\n",
      "5/5 [==============================] - 1s 187ms/step - loss: 0.0221 - mae: 0.1195 - val_loss: 0.0285 - val_mae: 0.1360\n",
      "Epoch 670/1000\n",
      "5/5 [==============================] - 1s 187ms/step - loss: 0.0238 - mae: 0.1245 - val_loss: 0.0257 - val_mae: 0.1292\n",
      "Epoch 671/1000\n",
      "5/5 [==============================] - 1s 185ms/step - loss: 0.0208 - mae: 0.1150 - val_loss: 0.0234 - val_mae: 0.1219\n",
      "Epoch 672/1000\n",
      "5/5 [==============================] - 1s 184ms/step - loss: 0.0278 - mae: 0.1357 - val_loss: 0.0778 - val_mae: 0.2445\n",
      "Epoch 673/1000\n",
      "5/5 [==============================] - 1s 182ms/step - loss: 0.0433 - mae: 0.1713 - val_loss: 0.0291 - val_mae: 0.1405\n",
      "Epoch 674/1000\n",
      "5/5 [==============================] - 1s 181ms/step - loss: 0.0258 - mae: 0.1292 - val_loss: 0.0202 - val_mae: 0.1146\n",
      "Epoch 675/1000\n",
      "5/5 [==============================] - 1s 184ms/step - loss: 0.0303 - mae: 0.1411 - val_loss: 0.0257 - val_mae: 0.1286\n",
      "Epoch 676/1000\n",
      "5/5 [==============================] - 1s 184ms/step - loss: 0.0379 - mae: 0.1616 - val_loss: 0.0614 - val_mae: 0.2099\n",
      "Epoch 677/1000\n",
      "5/5 [==============================] - 1s 185ms/step - loss: 0.0467 - mae: 0.1761 - val_loss: 0.0548 - val_mae: 0.1889\n",
      "Epoch 678/1000\n",
      "5/5 [==============================] - 1s 191ms/step - loss: 0.0601 - mae: 0.1964 - val_loss: 0.0445 - val_mae: 0.1701\n",
      "Epoch 679/1000\n",
      "5/5 [==============================] - 1s 187ms/step - loss: 0.0368 - mae: 0.1536 - val_loss: 0.0356 - val_mae: 0.1484\n",
      "Epoch 680/1000\n",
      "5/5 [==============================] - 1s 187ms/step - loss: 0.0335 - mae: 0.1451 - val_loss: 0.0369 - val_mae: 0.1556\n",
      "Epoch 681/1000\n",
      "5/5 [==============================] - 1s 183ms/step - loss: 0.0303 - mae: 0.1389 - val_loss: 0.0302 - val_mae: 0.1359\n",
      "Epoch 682/1000\n",
      "5/5 [==============================] - 1s 187ms/step - loss: 0.0318 - mae: 0.1439 - val_loss: 0.0224 - val_mae: 0.1173\n",
      "Epoch 683/1000\n",
      "5/5 [==============================] - 1s 192ms/step - loss: 0.0328 - mae: 0.1467 - val_loss: 0.0285 - val_mae: 0.1321\n",
      "Epoch 684/1000\n",
      "5/5 [==============================] - 1s 193ms/step - loss: 0.0248 - mae: 0.1262 - val_loss: 0.0222 - val_mae: 0.1164\n",
      "Epoch 685/1000\n",
      "5/5 [==============================] - 1s 191ms/step - loss: 0.0224 - mae: 0.1194 - val_loss: 0.0308 - val_mae: 0.1383\n",
      "Epoch 686/1000\n",
      "5/5 [==============================] - 1s 188ms/step - loss: 0.0334 - mae: 0.1491 - val_loss: 0.0356 - val_mae: 0.1527\n",
      "Epoch 687/1000\n",
      "5/5 [==============================] - 1s 180ms/step - loss: 0.0323 - mae: 0.1481 - val_loss: 0.0200 - val_mae: 0.1120\n",
      "Epoch 688/1000\n",
      "5/5 [==============================] - 1s 185ms/step - loss: 0.0339 - mae: 0.1507 - val_loss: 0.0227 - val_mae: 0.1197\n",
      "Epoch 689/1000\n",
      "5/5 [==============================] - 1s 183ms/step - loss: 0.0189 - mae: 0.1105 - val_loss: 0.0275 - val_mae: 0.1325\n",
      "Epoch 690/1000\n",
      "5/5 [==============================] - 1s 187ms/step - loss: 0.0220 - mae: 0.1177 - val_loss: 0.0607 - val_mae: 0.2150\n",
      "Epoch 691/1000\n",
      "5/5 [==============================] - 1s 186ms/step - loss: 0.0387 - mae: 0.1629 - val_loss: 0.0363 - val_mae: 0.1559\n",
      "Epoch 692/1000\n",
      "5/5 [==============================] - 1s 189ms/step - loss: 0.0264 - mae: 0.1305 - val_loss: 0.0177 - val_mae: 0.1072\n",
      "Epoch 693/1000\n",
      "5/5 [==============================] - 1s 185ms/step - loss: 0.0157 - mae: 0.0994 - val_loss: 0.0239 - val_mae: 0.1244\n",
      "Epoch 694/1000\n",
      "5/5 [==============================] - 1s 183ms/step - loss: 0.0192 - mae: 0.1122 - val_loss: 0.0259 - val_mae: 0.1298\n",
      "Epoch 695/1000\n",
      "5/5 [==============================] - 1s 181ms/step - loss: 0.0214 - mae: 0.1173 - val_loss: 0.0527 - val_mae: 0.1999\n",
      "Epoch 696/1000\n",
      "5/5 [==============================] - 1s 182ms/step - loss: 0.0334 - mae: 0.1516 - val_loss: 0.0285 - val_mae: 0.1372\n",
      "Epoch 697/1000\n",
      "5/5 [==============================] - 1s 182ms/step - loss: 0.0204 - mae: 0.1133 - val_loss: 0.0249 - val_mae: 0.1286\n",
      "Epoch 698/1000\n",
      "5/5 [==============================] - 1s 185ms/step - loss: 0.0259 - mae: 0.1322 - val_loss: 0.0312 - val_mae: 0.1434\n",
      "Epoch 699/1000\n",
      "5/5 [==============================] - 1s 182ms/step - loss: 0.0323 - mae: 0.1483 - val_loss: 0.0622 - val_mae: 0.2108\n",
      "Epoch 700/1000\n",
      "5/5 [==============================] - 1s 185ms/step - loss: 0.0444 - mae: 0.1709 - val_loss: 0.0291 - val_mae: 0.1354\n",
      "Epoch 701/1000\n",
      "5/5 [==============================] - 1s 181ms/step - loss: 0.0365 - mae: 0.1535 - val_loss: 0.0682 - val_mae: 0.2220\n",
      "Epoch 702/1000\n",
      "5/5 [==============================] - 1s 182ms/step - loss: 0.0402 - mae: 0.1633 - val_loss: 0.0442 - val_mae: 0.1737\n",
      "Epoch 703/1000\n",
      "5/5 [==============================] - 1s 180ms/step - loss: 0.0278 - mae: 0.1342 - val_loss: 0.0431 - val_mae: 0.1745\n",
      "Epoch 704/1000\n",
      "5/5 [==============================] - 1s 184ms/step - loss: 0.0393 - mae: 0.1636 - val_loss: 0.0697 - val_mae: 0.2340\n",
      "Epoch 705/1000\n",
      "5/5 [==============================] - 1s 181ms/step - loss: 0.0455 - mae: 0.1770 - val_loss: 0.0361 - val_mae: 0.1549\n",
      "Epoch 706/1000\n",
      "5/5 [==============================] - 1s 182ms/step - loss: 0.0392 - mae: 0.1632 - val_loss: 0.0192 - val_mae: 0.1097\n",
      "Epoch 707/1000\n",
      "5/5 [==============================] - 1s 182ms/step - loss: 0.0271 - mae: 0.1334 - val_loss: 0.0598 - val_mae: 0.2134\n",
      "Epoch 708/1000\n"
     ]
    },
    {
     "name": "stdout",
     "output_type": "stream",
     "text": [
      "5/5 [==============================] - 1s 185ms/step - loss: 0.0465 - mae: 0.1804 - val_loss: 0.0304 - val_mae: 0.1415\n",
      "Epoch 709/1000\n",
      "5/5 [==============================] - 1s 181ms/step - loss: 0.0309 - mae: 0.1445 - val_loss: 0.0254 - val_mae: 0.1288\n",
      "Epoch 710/1000\n",
      "5/5 [==============================] - 1s 186ms/step - loss: 0.0297 - mae: 0.1392 - val_loss: 0.0464 - val_mae: 0.1821\n",
      "Epoch 711/1000\n",
      "5/5 [==============================] - 1s 184ms/step - loss: 0.0273 - mae: 0.1340 - val_loss: 0.0346 - val_mae: 0.1553\n",
      "Epoch 712/1000\n",
      "5/5 [==============================] - 1s 182ms/step - loss: 0.0259 - mae: 0.1294 - val_loss: 0.0284 - val_mae: 0.1337\n",
      "Epoch 713/1000\n",
      "5/5 [==============================] - 1s 181ms/step - loss: 0.0235 - mae: 0.1223 - val_loss: 0.0228 - val_mae: 0.1185\n",
      "Epoch 714/1000\n",
      "5/5 [==============================] - 1s 180ms/step - loss: 0.0183 - mae: 0.1088 - val_loss: 0.0241 - val_mae: 0.1256\n",
      "Epoch 715/1000\n",
      "5/5 [==============================] - 1s 179ms/step - loss: 0.0162 - mae: 0.1020 - val_loss: 0.0201 - val_mae: 0.1136\n",
      "Epoch 716/1000\n",
      "5/5 [==============================] - 1s 184ms/step - loss: 0.0158 - mae: 0.1000 - val_loss: 0.0205 - val_mae: 0.1147\n",
      "Epoch 717/1000\n",
      "5/5 [==============================] - 1s 182ms/step - loss: 0.0159 - mae: 0.1007 - val_loss: 0.0166 - val_mae: 0.1009\n",
      "Epoch 718/1000\n",
      "5/5 [==============================] - 1s 183ms/step - loss: 0.0168 - mae: 0.1038 - val_loss: 0.0453 - val_mae: 0.1809\n",
      "Epoch 719/1000\n",
      "5/5 [==============================] - 1s 182ms/step - loss: 0.0349 - mae: 0.1562 - val_loss: 0.0806 - val_mae: 0.2523\n",
      "Epoch 720/1000\n",
      "5/5 [==============================] - 1s 184ms/step - loss: 0.0432 - mae: 0.1718 - val_loss: 0.0197 - val_mae: 0.1134\n",
      "Epoch 721/1000\n",
      "5/5 [==============================] - 1s 186ms/step - loss: 0.0446 - mae: 0.1732 - val_loss: 0.0769 - val_mae: 0.2404\n",
      "Epoch 722/1000\n",
      "5/5 [==============================] - 1s 190ms/step - loss: 0.0489 - mae: 0.1859 - val_loss: 0.0176 - val_mae: 0.1053\n",
      "Epoch 723/1000\n",
      "5/5 [==============================] - 1s 192ms/step - loss: 0.0373 - mae: 0.1562 - val_loss: 0.0642 - val_mae: 0.2207\n",
      "Epoch 724/1000\n",
      "5/5 [==============================] - 1s 186ms/step - loss: 0.0468 - mae: 0.1763 - val_loss: 0.0441 - val_mae: 0.1683\n",
      "Epoch 725/1000\n",
      "5/5 [==============================] - 1s 183ms/step - loss: 0.0268 - mae: 0.1295 - val_loss: 0.0181 - val_mae: 0.1074\n",
      "Epoch 726/1000\n",
      "5/5 [==============================] - 1s 183ms/step - loss: 0.0189 - mae: 0.1107 - val_loss: 0.0223 - val_mae: 0.1160\n",
      "Epoch 727/1000\n",
      "5/5 [==============================] - 1s 182ms/step - loss: 0.0207 - mae: 0.1161 - val_loss: 0.0226 - val_mae: 0.1219\n",
      "Epoch 728/1000\n",
      "5/5 [==============================] - 1s 184ms/step - loss: 0.0258 - mae: 0.1296 - val_loss: 0.0277 - val_mae: 0.1383\n",
      "Epoch 729/1000\n",
      "5/5 [==============================] - 1s 182ms/step - loss: 0.0236 - mae: 0.1243 - val_loss: 0.0178 - val_mae: 0.1059\n",
      "Epoch 730/1000\n",
      "5/5 [==============================] - 1s 187ms/step - loss: 0.0145 - mae: 0.0960 - val_loss: 0.0186 - val_mae: 0.1106\n",
      "Epoch 731/1000\n",
      "5/5 [==============================] - 1s 183ms/step - loss: 0.0144 - mae: 0.0978 - val_loss: 0.0254 - val_mae: 0.1283\n",
      "Epoch 732/1000\n",
      "5/5 [==============================] - 1s 182ms/step - loss: 0.0161 - mae: 0.1011 - val_loss: 0.0193 - val_mae: 0.1108\n",
      "Epoch 733/1000\n",
      "5/5 [==============================] - 1s 181ms/step - loss: 0.0151 - mae: 0.0986 - val_loss: 0.0232 - val_mae: 0.1251\n",
      "Epoch 734/1000\n",
      "5/5 [==============================] - 1s 183ms/step - loss: 0.0240 - mae: 0.1258 - val_loss: 0.0178 - val_mae: 0.1034\n",
      "Epoch 735/1000\n",
      "5/5 [==============================] - 1s 183ms/step - loss: 0.0408 - mae: 0.1697 - val_loss: 0.0445 - val_mae: 0.1794\n",
      "Epoch 736/1000\n",
      "5/5 [==============================] - 1s 186ms/step - loss: 0.0574 - mae: 0.2004 - val_loss: 0.0544 - val_mae: 0.1881\n",
      "Epoch 737/1000\n",
      "5/5 [==============================] - 1s 183ms/step - loss: 0.0667 - mae: 0.2090 - val_loss: 0.0405 - val_mae: 0.1621\n",
      "Epoch 738/1000\n",
      "5/5 [==============================] - 1s 186ms/step - loss: 0.0494 - mae: 0.1798 - val_loss: 0.0505 - val_mae: 0.1781\n",
      "Epoch 739/1000\n",
      "5/5 [==============================] - 1s 186ms/step - loss: 0.0819 - mae: 0.2363 - val_loss: 0.0814 - val_mae: 0.2323\n",
      "Epoch 740/1000\n",
      "5/5 [==============================] - 1s 186ms/step - loss: 0.0733 - mae: 0.2192 - val_loss: 0.0478 - val_mae: 0.1770\n",
      "Epoch 741/1000\n",
      "5/5 [==============================] - 1s 185ms/step - loss: 0.0489 - mae: 0.1788 - val_loss: 0.0381 - val_mae: 0.1574\n",
      "Epoch 742/1000\n",
      "5/5 [==============================] - 1s 189ms/step - loss: 0.0348 - mae: 0.1484 - val_loss: 0.0367 - val_mae: 0.1521\n",
      "Epoch 743/1000\n",
      "5/5 [==============================] - 1s 190ms/step - loss: 0.0342 - mae: 0.1489 - val_loss: 0.0439 - val_mae: 0.1754\n",
      "Epoch 744/1000\n",
      "5/5 [==============================] - 1s 182ms/step - loss: 0.0323 - mae: 0.1449 - val_loss: 0.0200 - val_mae: 0.1122\n",
      "Epoch 745/1000\n",
      "5/5 [==============================] - 1s 181ms/step - loss: 0.0186 - mae: 0.1087 - val_loss: 0.0167 - val_mae: 0.1042\n",
      "Epoch 746/1000\n",
      "5/5 [==============================] - 1s 182ms/step - loss: 0.0195 - mae: 0.1120 - val_loss: 0.0168 - val_mae: 0.1052\n",
      "Epoch 747/1000\n",
      "5/5 [==============================] - 1s 184ms/step - loss: 0.0406 - mae: 0.1647 - val_loss: 0.0766 - val_mae: 0.2416\n",
      "Epoch 748/1000\n",
      "5/5 [==============================] - 1s 181ms/step - loss: 0.0822 - mae: 0.2373 - val_loss: 0.1062 - val_mae: 0.2622\n",
      "Epoch 749/1000\n",
      "5/5 [==============================] - 1s 182ms/step - loss: 0.0670 - mae: 0.2092 - val_loss: 0.0576 - val_mae: 0.1949\n",
      "Epoch 750/1000\n",
      "5/5 [==============================] - 1s 183ms/step - loss: 0.0632 - mae: 0.2049 - val_loss: 0.0512 - val_mae: 0.1819\n",
      "Epoch 751/1000\n",
      "5/5 [==============================] - 1s 182ms/step - loss: 0.0400 - mae: 0.1600 - val_loss: 0.0685 - val_mae: 0.2227\n",
      "Epoch 752/1000\n",
      "5/5 [==============================] - 1s 182ms/step - loss: 0.0443 - mae: 0.1717 - val_loss: 0.0785 - val_mae: 0.2451\n",
      "Epoch 753/1000\n",
      "5/5 [==============================] - 1s 181ms/step - loss: 0.0528 - mae: 0.1921 - val_loss: 0.0389 - val_mae: 0.1585\n",
      "Epoch 754/1000\n",
      "5/5 [==============================] - 1s 182ms/step - loss: 0.0308 - mae: 0.1406 - val_loss: 0.1100 - val_mae: 0.2971\n",
      "Epoch 755/1000\n",
      "5/5 [==============================] - 1s 182ms/step - loss: 0.0726 - mae: 0.2275 - val_loss: 0.0581 - val_mae: 0.2012\n",
      "Epoch 756/1000\n",
      "5/5 [==============================] - 1s 181ms/step - loss: 0.1016 - mae: 0.2699 - val_loss: 0.0397 - val_mae: 0.1597\n",
      "Epoch 757/1000\n",
      "5/5 [==============================] - 1s 182ms/step - loss: 0.0711 - mae: 0.2161 - val_loss: 0.0848 - val_mae: 0.2382\n",
      "Epoch 758/1000\n",
      "5/5 [==============================] - 1s 185ms/step - loss: 0.0701 - mae: 0.2149 - val_loss: 0.0535 - val_mae: 0.1886\n",
      "Epoch 759/1000\n",
      "5/5 [==============================] - 1s 182ms/step - loss: 0.0462 - mae: 0.1734 - val_loss: 0.0331 - val_mae: 0.1443\n",
      "Epoch 760/1000\n",
      "5/5 [==============================] - 1s 187ms/step - loss: 0.0548 - mae: 0.1890 - val_loss: 0.0320 - val_mae: 0.1449\n",
      "Epoch 761/1000\n",
      "5/5 [==============================] - 1s 187ms/step - loss: 0.0453 - mae: 0.1717 - val_loss: 0.1551 - val_mae: 0.3580\n",
      "Epoch 762/1000\n",
      "5/5 [==============================] - 1s 193ms/step - loss: 0.0993 - mae: 0.2667 - val_loss: 0.0497 - val_mae: 0.1742\n",
      "Epoch 763/1000\n",
      "5/5 [==============================] - 1s 183ms/step - loss: 0.0379 - mae: 0.1549 - val_loss: 0.0515 - val_mae: 0.1858\n",
      "Epoch 764/1000\n",
      "5/5 [==============================] - 1s 184ms/step - loss: 0.0470 - mae: 0.1760 - val_loss: 0.1277 - val_mae: 0.3234\n",
      "Epoch 765/1000\n",
      "5/5 [==============================] - 1s 182ms/step - loss: 0.0913 - mae: 0.2525 - val_loss: 0.0494 - val_mae: 0.1760\n",
      "Epoch 766/1000\n",
      "5/5 [==============================] - 1s 182ms/step - loss: 0.0574 - mae: 0.1929 - val_loss: 0.0373 - val_mae: 0.1540\n",
      "Epoch 767/1000\n",
      "5/5 [==============================] - 1s 181ms/step - loss: 0.0452 - mae: 0.1696 - val_loss: 0.0353 - val_mae: 0.1491\n",
      "Epoch 768/1000\n",
      "5/5 [==============================] - 1s 183ms/step - loss: 0.0407 - mae: 0.1591 - val_loss: 0.0381 - val_mae: 0.1589\n",
      "Epoch 769/1000\n"
     ]
    },
    {
     "name": "stdout",
     "output_type": "stream",
     "text": [
      "5/5 [==============================] - 1s 183ms/step - loss: 0.0332 - mae: 0.1455 - val_loss: 0.0584 - val_mae: 0.2045\n",
      "Epoch 770/1000\n",
      "5/5 [==============================] - 1s 183ms/step - loss: 0.0367 - mae: 0.1543 - val_loss: 0.0217 - val_mae: 0.1183\n",
      "Epoch 771/1000\n",
      "5/5 [==============================] - 1s 182ms/step - loss: 0.0291 - mae: 0.1371 - val_loss: 0.0460 - val_mae: 0.1764\n",
      "Epoch 772/1000\n",
      "5/5 [==============================] - 1s 183ms/step - loss: 0.0362 - mae: 0.1560 - val_loss: 0.0219 - val_mae: 0.1187\n",
      "Epoch 773/1000\n",
      "5/5 [==============================] - 1s 182ms/step - loss: 0.0292 - mae: 0.1369 - val_loss: 0.0747 - val_mae: 0.2396\n",
      "Epoch 774/1000\n",
      "5/5 [==============================] - 1s 190ms/step - loss: 0.0590 - mae: 0.2040 - val_loss: 0.0289 - val_mae: 0.1379\n",
      "Epoch 775/1000\n",
      "5/5 [==============================] - 1s 187ms/step - loss: 0.0609 - mae: 0.2018 - val_loss: 0.1280 - val_mae: 0.3107\n",
      "Epoch 776/1000\n",
      "5/5 [==============================] - 1s 183ms/step - loss: 0.1231 - mae: 0.2899 - val_loss: 0.0650 - val_mae: 0.2053\n",
      "Epoch 777/1000\n",
      "5/5 [==============================] - 1s 181ms/step - loss: 0.1030 - mae: 0.2707 - val_loss: 0.0434 - val_mae: 0.1667\n",
      "Epoch 778/1000\n",
      "5/5 [==============================] - 1s 183ms/step - loss: 0.0589 - mae: 0.1993 - val_loss: 0.0441 - val_mae: 0.1697\n",
      "Epoch 779/1000\n",
      "5/5 [==============================] - 1s 184ms/step - loss: 0.0422 - mae: 0.1660 - val_loss: 0.0510 - val_mae: 0.1840\n",
      "Epoch 780/1000\n",
      "5/5 [==============================] - 1s 184ms/step - loss: 0.0431 - mae: 0.1681 - val_loss: 0.0380 - val_mae: 0.1600\n",
      "Epoch 781/1000\n",
      "5/5 [==============================] - 1s 188ms/step - loss: 0.0363 - mae: 0.1547 - val_loss: 0.0622 - val_mae: 0.2107\n",
      "Epoch 782/1000\n",
      "5/5 [==============================] - 1s 186ms/step - loss: 0.0404 - mae: 0.1650 - val_loss: 0.0296 - val_mae: 0.1381\n",
      "Epoch 783/1000\n",
      "5/5 [==============================] - 1s 183ms/step - loss: 0.0230 - mae: 0.1207 - val_loss: 0.0226 - val_mae: 0.1197\n",
      "Epoch 784/1000\n",
      "5/5 [==============================] - 1s 182ms/step - loss: 0.0169 - mae: 0.1043 - val_loss: 0.0231 - val_mae: 0.1184\n",
      "Epoch 785/1000\n",
      "5/5 [==============================] - 1s 184ms/step - loss: 0.0196 - mae: 0.1115 - val_loss: 0.0324 - val_mae: 0.1486\n",
      "Epoch 786/1000\n",
      "5/5 [==============================] - 1s 185ms/step - loss: 0.0260 - mae: 0.1309 - val_loss: 0.0263 - val_mae: 0.1276\n",
      "Epoch 787/1000\n",
      "5/5 [==============================] - 1s 184ms/step - loss: 0.0233 - mae: 0.1221 - val_loss: 0.0213 - val_mae: 0.1163\n",
      "Epoch 788/1000\n",
      "5/5 [==============================] - ETA: 0s - loss: 0.0176 - mae: 0.1054INFO:tensorflow:Assets written to: C:\\Users\\PARK\\Documents\\LAB\\RNN vs LSTM\\FInal Example\\wandb\\run-20221015_213639-195m80vg\\files\\model-best\\assets\n"
     ]
    },
    {
     "name": "stderr",
     "output_type": "stream",
     "text": [
      "\u001b[34m\u001b[1mwandb\u001b[0m: Adding directory to artifact (C:\\Users\\PARK\\Documents\\LAB\\RNN vs LSTM\\FInal Example\\wandb\\run-20221015_213639-195m80vg\\files\\model-best)... Done. 0.1s\n"
     ]
    },
    {
     "name": "stdout",
     "output_type": "stream",
     "text": [
      "5/5 [==============================] - 2s 591ms/step - loss: 0.0176 - mae: 0.1054 - val_loss: 0.0163 - val_mae: 0.1005\n",
      "Epoch 789/1000\n",
      "5/5 [==============================] - 1s 227ms/step - loss: 0.0180 - mae: 0.1069 - val_loss: 0.0165 - val_mae: 0.1004\n",
      "Epoch 790/1000\n",
      "5/5 [==============================] - 1s 187ms/step - loss: 0.0147 - mae: 0.0957 - val_loss: 0.0168 - val_mae: 0.1030\n",
      "Epoch 791/1000\n",
      "5/5 [==============================] - 1s 188ms/step - loss: 0.0132 - mae: 0.0914 - val_loss: 0.0169 - val_mae: 0.1034\n",
      "Epoch 792/1000\n",
      "5/5 [==============================] - 1s 185ms/step - loss: 0.0175 - mae: 0.1055 - val_loss: 0.0204 - val_mae: 0.1120\n",
      "Epoch 793/1000\n",
      "5/5 [==============================] - 1s 184ms/step - loss: 0.0195 - mae: 0.1097 - val_loss: 0.0185 - val_mae: 0.1082\n",
      "Epoch 794/1000\n",
      "5/5 [==============================] - 1s 184ms/step - loss: 0.0153 - mae: 0.0986 - val_loss: 0.0173 - val_mae: 0.1067\n",
      "Epoch 795/1000\n",
      "5/5 [==============================] - 1s 184ms/step - loss: 0.0227 - mae: 0.1200 - val_loss: 0.0797 - val_mae: 0.2573\n",
      "Epoch 796/1000\n",
      "5/5 [==============================] - 1s 184ms/step - loss: 0.0443 - mae: 0.1752 - val_loss: 0.0218 - val_mae: 0.1190\n",
      "Epoch 797/1000\n",
      "5/5 [==============================] - 1s 187ms/step - loss: 0.0252 - mae: 0.1279 - val_loss: 0.0267 - val_mae: 0.1339\n",
      "Epoch 798/1000\n",
      "5/5 [==============================] - 1s 188ms/step - loss: 0.0296 - mae: 0.1385 - val_loss: 0.0211 - val_mae: 0.1169\n",
      "Epoch 799/1000\n",
      "5/5 [==============================] - 1s 189ms/step - loss: 0.0167 - mae: 0.1038 - val_loss: 0.0179 - val_mae: 0.1083\n",
      "Epoch 800/1000\n",
      "5/5 [==============================] - 1s 187ms/step - loss: 0.0147 - mae: 0.0972 - val_loss: 0.0196 - val_mae: 0.1142\n",
      "Epoch 801/1000\n",
      "5/5 [==============================] - 1s 184ms/step - loss: 0.0174 - mae: 0.1065 - val_loss: 0.0182 - val_mae: 0.1073\n",
      "Epoch 802/1000\n",
      "5/5 [==============================] - 1s 181ms/step - loss: 0.0210 - mae: 0.1163 - val_loss: 0.0199 - val_mae: 0.1144\n",
      "Epoch 803/1000\n",
      "5/5 [==============================] - 1s 188ms/step - loss: 0.0207 - mae: 0.1148 - val_loss: 0.0965 - val_mae: 0.2821\n",
      "Epoch 804/1000\n",
      "5/5 [==============================] - 1s 184ms/step - loss: 0.0606 - mae: 0.2089 - val_loss: 0.0304 - val_mae: 0.1460\n",
      "Epoch 805/1000\n",
      "5/5 [==============================] - 1s 183ms/step - loss: 0.0530 - mae: 0.1903 - val_loss: 0.0636 - val_mae: 0.2108\n",
      "Epoch 806/1000\n",
      "5/5 [==============================] - 1s 187ms/step - loss: 0.1169 - mae: 0.2763 - val_loss: 0.2381 - val_mae: 0.3952\n",
      "Epoch 807/1000\n",
      "5/5 [==============================] - 1s 187ms/step - loss: 0.2257 - mae: 0.3850 - val_loss: 0.2083 - val_mae: 0.3682\n",
      "Epoch 808/1000\n",
      "5/5 [==============================] - 1s 183ms/step - loss: 0.1924 - mae: 0.3541 - val_loss: 0.2457 - val_mae: 0.4049\n",
      "Epoch 809/1000\n",
      "5/5 [==============================] - 1s 185ms/step - loss: 0.2472 - mae: 0.4010 - val_loss: 0.1788 - val_mae: 0.3435\n",
      "Epoch 810/1000\n",
      "5/5 [==============================] - 1s 182ms/step - loss: 0.1917 - mae: 0.3541 - val_loss: 0.1945 - val_mae: 0.3584\n",
      "Epoch 811/1000\n",
      "5/5 [==============================] - 1s 181ms/step - loss: 0.1704 - mae: 0.3293 - val_loss: 0.2749 - val_mae: 0.4393\n",
      "Epoch 812/1000\n",
      "5/5 [==============================] - 1s 183ms/step - loss: 0.1787 - mae: 0.3437 - val_loss: 0.3362 - val_mae: 0.4885\n",
      "Epoch 813/1000\n",
      "5/5 [==============================] - 1s 185ms/step - loss: 0.2605 - mae: 0.4164 - val_loss: 0.3463 - val_mae: 0.5015\n",
      "Epoch 814/1000\n",
      "5/5 [==============================] - 1s 184ms/step - loss: 0.2157 - mae: 0.3744 - val_loss: 0.2143 - val_mae: 0.3814\n",
      "Epoch 815/1000\n",
      "5/5 [==============================] - 1s 186ms/step - loss: 0.2109 - mae: 0.3734 - val_loss: 0.1311 - val_mae: 0.2976\n",
      "Epoch 816/1000\n",
      "5/5 [==============================] - 1s 186ms/step - loss: 0.1675 - mae: 0.3325 - val_loss: 0.2070 - val_mae: 0.3751\n",
      "Epoch 817/1000\n",
      "5/5 [==============================] - 1s 187ms/step - loss: 0.1933 - mae: 0.3596 - val_loss: 0.1638 - val_mae: 0.3292\n",
      "Epoch 818/1000\n",
      "5/5 [==============================] - 1s 187ms/step - loss: 0.1584 - mae: 0.3238 - val_loss: 0.1814 - val_mae: 0.3479\n",
      "Epoch 819/1000\n",
      "5/5 [==============================] - 1s 187ms/step - loss: 0.1580 - mae: 0.3240 - val_loss: 0.0981 - val_mae: 0.2542\n",
      "Epoch 820/1000\n",
      "5/5 [==============================] - 1s 183ms/step - loss: 0.1082 - mae: 0.2629 - val_loss: 0.1715 - val_mae: 0.3384\n",
      "Epoch 821/1000\n",
      "5/5 [==============================] - 1s 185ms/step - loss: 0.1330 - mae: 0.2953 - val_loss: 0.1140 - val_mae: 0.2784\n",
      "Epoch 822/1000\n",
      "5/5 [==============================] - 1s 183ms/step - loss: 0.1265 - mae: 0.2856 - val_loss: 0.0835 - val_mae: 0.2261\n",
      "Epoch 823/1000\n",
      "5/5 [==============================] - 1s 186ms/step - loss: 0.1364 - mae: 0.2952 - val_loss: 0.1420 - val_mae: 0.3022\n",
      "Epoch 824/1000\n",
      "5/5 [==============================] - 1s 184ms/step - loss: 0.1209 - mae: 0.2791 - val_loss: 0.0999 - val_mae: 0.2451\n",
      "Epoch 825/1000\n",
      "5/5 [==============================] - 1s 186ms/step - loss: 0.1051 - mae: 0.2585 - val_loss: 0.1935 - val_mae: 0.3578\n",
      "Epoch 826/1000\n",
      "5/5 [==============================] - 1s 185ms/step - loss: 0.2130 - mae: 0.3802 - val_loss: 0.1078 - val_mae: 0.2603\n",
      "Epoch 827/1000\n",
      "5/5 [==============================] - 1s 184ms/step - loss: 0.1377 - mae: 0.2970 - val_loss: 0.1996 - val_mae: 0.3604\n",
      "Epoch 828/1000\n",
      "5/5 [==============================] - 1s 185ms/step - loss: 0.1811 - mae: 0.3459 - val_loss: 0.1288 - val_mae: 0.2878\n",
      "Epoch 829/1000\n",
      "5/5 [==============================] - 1s 187ms/step - loss: 0.1233 - mae: 0.2841 - val_loss: 0.1350 - val_mae: 0.3021\n",
      "Epoch 830/1000\n",
      "5/5 [==============================] - 1s 185ms/step - loss: 0.1129 - mae: 0.2706 - val_loss: 0.0926 - val_mae: 0.2414\n",
      "Epoch 831/1000\n",
      "5/5 [==============================] - 1s 187ms/step - loss: 0.0863 - mae: 0.2331 - val_loss: 0.0925 - val_mae: 0.2413\n",
      "Epoch 832/1000\n",
      "5/5 [==============================] - 1s 188ms/step - loss: 0.1049 - mae: 0.2568 - val_loss: 0.3762 - val_mae: 0.5356\n",
      "Epoch 833/1000\n",
      "5/5 [==============================] - 1s 185ms/step - loss: 0.2352 - mae: 0.3995 - val_loss: 0.1323 - val_mae: 0.2978\n",
      "Epoch 834/1000\n",
      "5/5 [==============================] - 1s 188ms/step - loss: 0.1490 - mae: 0.3150 - val_loss: 0.1233 - val_mae: 0.2836\n",
      "Epoch 835/1000\n",
      "5/5 [==============================] - 1s 182ms/step - loss: 0.1492 - mae: 0.3102 - val_loss: 0.3159 - val_mae: 0.4743\n",
      "Epoch 836/1000\n",
      "5/5 [==============================] - 1s 193ms/step - loss: 0.2301 - mae: 0.3880 - val_loss: 0.1638 - val_mae: 0.3266\n",
      "Epoch 837/1000\n",
      "5/5 [==============================] - 1s 192ms/step - loss: 0.1814 - mae: 0.3464 - val_loss: 0.1338 - val_mae: 0.2966\n",
      "Epoch 838/1000\n",
      "5/5 [==============================] - 1s 187ms/step - loss: 0.1670 - mae: 0.3349 - val_loss: 0.2837 - val_mae: 0.4517\n",
      "Epoch 839/1000\n",
      "5/5 [==============================] - 1s 185ms/step - loss: 0.2197 - mae: 0.3819 - val_loss: 0.1849 - val_mae: 0.3443\n",
      "Epoch 840/1000\n",
      "5/5 [==============================] - 1s 186ms/step - loss: 0.1474 - mae: 0.3088 - val_loss: 0.1008 - val_mae: 0.2563\n",
      "Epoch 841/1000\n",
      "5/5 [==============================] - 1s 189ms/step - loss: 0.1101 - mae: 0.2667 - val_loss: 0.1224 - val_mae: 0.2855\n",
      "Epoch 842/1000\n",
      "5/5 [==============================] - 1s 183ms/step - loss: 0.1096 - mae: 0.2683 - val_loss: 0.1101 - val_mae: 0.2685\n",
      "Epoch 843/1000\n",
      "5/5 [==============================] - 1s 185ms/step - loss: 0.0934 - mae: 0.2450 - val_loss: 0.1770 - val_mae: 0.3353\n",
      "Epoch 844/1000\n",
      "5/5 [==============================] - 1s 185ms/step - loss: 0.1838 - mae: 0.3516 - val_loss: 0.1912 - val_mae: 0.3600\n",
      "Epoch 845/1000\n",
      "5/5 [==============================] - 1s 185ms/step - loss: 0.1451 - mae: 0.3061 - val_loss: 0.1498 - val_mae: 0.3125\n",
      "Epoch 846/1000\n",
      "5/5 [==============================] - 1s 184ms/step - loss: 0.1628 - mae: 0.3243 - val_loss: 0.1751 - val_mae: 0.3447\n",
      "Epoch 847/1000\n",
      "5/5 [==============================] - 1s 184ms/step - loss: 0.2543 - mae: 0.4132 - val_loss: 0.1326 - val_mae: 0.2930\n",
      "Epoch 848/1000\n",
      "5/5 [==============================] - 1s 184ms/step - loss: 0.1745 - mae: 0.3361 - val_loss: 0.1486 - val_mae: 0.3124\n",
      "Epoch 849/1000\n"
     ]
    },
    {
     "name": "stdout",
     "output_type": "stream",
     "text": [
      "5/5 [==============================] - 1s 183ms/step - loss: 0.1451 - mae: 0.3063 - val_loss: 0.1131 - val_mae: 0.2769\n",
      "Epoch 850/1000\n",
      "5/5 [==============================] - 1s 184ms/step - loss: 0.1080 - mae: 0.2650 - val_loss: 0.1049 - val_mae: 0.2596\n",
      "Epoch 851/1000\n",
      "5/5 [==============================] - 1s 183ms/step - loss: 0.1043 - mae: 0.2568 - val_loss: 0.0939 - val_mae: 0.2388\n",
      "Epoch 852/1000\n",
      "5/5 [==============================] - 1s 186ms/step - loss: 0.1174 - mae: 0.2719 - val_loss: 0.1455 - val_mae: 0.3036\n",
      "Epoch 853/1000\n",
      "5/5 [==============================] - 1s 184ms/step - loss: 0.1149 - mae: 0.2708 - val_loss: 0.0954 - val_mae: 0.2449\n",
      "Epoch 854/1000\n",
      "5/5 [==============================] - 1s 182ms/step - loss: 0.1407 - mae: 0.3021 - val_loss: 0.0834 - val_mae: 0.2294\n",
      "Epoch 855/1000\n",
      "5/5 [==============================] - 1s 185ms/step - loss: 0.1039 - mae: 0.2563 - val_loss: 0.0961 - val_mae: 0.2499\n",
      "Epoch 856/1000\n",
      "5/5 [==============================] - 1s 184ms/step - loss: 0.0996 - mae: 0.2508 - val_loss: 0.1519 - val_mae: 0.3196\n",
      "Epoch 857/1000\n",
      "5/5 [==============================] - 1s 185ms/step - loss: 0.1321 - mae: 0.2933 - val_loss: 0.1081 - val_mae: 0.2673\n",
      "Epoch 858/1000\n",
      "5/5 [==============================] - 1s 185ms/step - loss: 0.1322 - mae: 0.2977 - val_loss: 0.1037 - val_mae: 0.2613\n",
      "Epoch 859/1000\n",
      "5/5 [==============================] - 1s 185ms/step - loss: 0.1205 - mae: 0.2761 - val_loss: 0.0855 - val_mae: 0.2364\n",
      "Epoch 860/1000\n",
      "5/5 [==============================] - 1s 183ms/step - loss: 0.0986 - mae: 0.2523 - val_loss: 0.1140 - val_mae: 0.2844\n",
      "Epoch 861/1000\n",
      "5/5 [==============================] - 1s 183ms/step - loss: 0.1250 - mae: 0.2893 - val_loss: 0.0845 - val_mae: 0.2256\n",
      "Epoch 862/1000\n",
      "5/5 [==============================] - 1s 185ms/step - loss: 0.1063 - mae: 0.2591 - val_loss: 0.0773 - val_mae: 0.2171\n",
      "Epoch 863/1000\n",
      "5/5 [==============================] - 1s 187ms/step - loss: 0.0801 - mae: 0.2229 - val_loss: 0.0777 - val_mae: 0.2197\n",
      "Epoch 864/1000\n",
      "5/5 [==============================] - 1s 188ms/step - loss: 0.1052 - mae: 0.2543 - val_loss: 0.1062 - val_mae: 0.2649\n",
      "Epoch 865/1000\n",
      "5/5 [==============================] - 1s 186ms/step - loss: 0.1018 - mae: 0.2539 - val_loss: 0.1278 - val_mae: 0.2839\n",
      "Epoch 866/1000\n",
      "5/5 [==============================] - 1s 186ms/step - loss: 0.0968 - mae: 0.2482 - val_loss: 0.1123 - val_mae: 0.2760\n",
      "Epoch 867/1000\n",
      "5/5 [==============================] - 1s 186ms/step - loss: 0.1640 - mae: 0.3305 - val_loss: 0.1013 - val_mae: 0.2563\n",
      "Epoch 868/1000\n",
      "5/5 [==============================] - 1s 184ms/step - loss: 0.1126 - mae: 0.2673 - val_loss: 0.1727 - val_mae: 0.3482\n",
      "Epoch 869/1000\n",
      "5/5 [==============================] - 1s 187ms/step - loss: 0.1390 - mae: 0.3021 - val_loss: 0.0745 - val_mae: 0.2130\n",
      "Epoch 870/1000\n",
      "5/5 [==============================] - 1s 190ms/step - loss: 0.0884 - mae: 0.2358 - val_loss: 0.0750 - val_mae: 0.2132\n",
      "Epoch 871/1000\n",
      "5/5 [==============================] - 1s 187ms/step - loss: 0.0796 - mae: 0.2250 - val_loss: 0.0748 - val_mae: 0.2131\n",
      "Epoch 872/1000\n",
      "5/5 [==============================] - 1s 186ms/step - loss: 0.0836 - mae: 0.2305 - val_loss: 0.0993 - val_mae: 0.2478\n",
      "Epoch 873/1000\n",
      "5/5 [==============================] - 1s 182ms/step - loss: 0.0985 - mae: 0.2503 - val_loss: 0.0891 - val_mae: 0.2331\n",
      "Epoch 874/1000\n",
      "5/5 [==============================] - 1s 184ms/step - loss: 0.0872 - mae: 0.2315 - val_loss: 0.0908 - val_mae: 0.2436\n",
      "Epoch 875/1000\n",
      "5/5 [==============================] - 1s 183ms/step - loss: 0.1093 - mae: 0.2652 - val_loss: 0.0789 - val_mae: 0.2194\n",
      "Epoch 876/1000\n",
      "5/5 [==============================] - 1s 190ms/step - loss: 0.1339 - mae: 0.2957 - val_loss: 0.1327 - val_mae: 0.2945\n",
      "Epoch 877/1000\n",
      "5/5 [==============================] - 1s 192ms/step - loss: 0.1127 - mae: 0.2670 - val_loss: 0.1351 - val_mae: 0.3053\n",
      "Epoch 878/1000\n",
      "5/5 [==============================] - 1s 188ms/step - loss: 0.1095 - mae: 0.2672 - val_loss: 0.1314 - val_mae: 0.2851\n",
      "Epoch 879/1000\n",
      "5/5 [==============================] - 1s 187ms/step - loss: 0.1183 - mae: 0.2749 - val_loss: 0.2072 - val_mae: 0.3795\n",
      "Epoch 880/1000\n",
      "5/5 [==============================] - 1s 183ms/step - loss: 0.2082 - mae: 0.3749 - val_loss: 0.1345 - val_mae: 0.2962\n",
      "Epoch 881/1000\n",
      "5/5 [==============================] - 1s 187ms/step - loss: 0.2330 - mae: 0.3872 - val_loss: 0.2062 - val_mae: 0.3699\n",
      "Epoch 882/1000\n",
      "5/5 [==============================] - 1s 184ms/step - loss: 0.2665 - mae: 0.4265 - val_loss: 0.1644 - val_mae: 0.3280\n",
      "Epoch 883/1000\n",
      "5/5 [==============================] - 1s 183ms/step - loss: 0.2342 - mae: 0.3919 - val_loss: 0.2108 - val_mae: 0.3708\n",
      "Epoch 884/1000\n",
      "5/5 [==============================] - 1s 186ms/step - loss: 0.2022 - mae: 0.3613 - val_loss: 0.1551 - val_mae: 0.3207\n",
      "Epoch 885/1000\n",
      "5/5 [==============================] - 1s 187ms/step - loss: 0.1489 - mae: 0.3145 - val_loss: 0.1639 - val_mae: 0.3364\n",
      "Epoch 886/1000\n",
      "5/5 [==============================] - 1s 184ms/step - loss: 0.1169 - mae: 0.2745 - val_loss: 0.1171 - val_mae: 0.2741\n",
      "Epoch 887/1000\n",
      "5/5 [==============================] - 1s 184ms/step - loss: 0.0972 - mae: 0.2490 - val_loss: 0.0962 - val_mae: 0.2415\n",
      "Epoch 888/1000\n",
      "5/5 [==============================] - 1s 185ms/step - loss: 0.0824 - mae: 0.2285 - val_loss: 0.2042 - val_mae: 0.3818\n",
      "Epoch 889/1000\n",
      "5/5 [==============================] - 1s 184ms/step - loss: 0.2337 - mae: 0.4010 - val_loss: 0.1118 - val_mae: 0.2684\n",
      "Epoch 890/1000\n",
      "5/5 [==============================] - 1s 183ms/step - loss: 0.1627 - mae: 0.3242 - val_loss: 0.1138 - val_mae: 0.2802\n",
      "Epoch 891/1000\n",
      "5/5 [==============================] - 1s 185ms/step - loss: 0.1146 - mae: 0.2763 - val_loss: 0.1897 - val_mae: 0.3667\n",
      "Epoch 892/1000\n",
      "5/5 [==============================] - 1s 184ms/step - loss: 0.1479 - mae: 0.3140 - val_loss: 0.1237 - val_mae: 0.2871\n",
      "Epoch 893/1000\n",
      "5/5 [==============================] - 1s 185ms/step - loss: 0.1314 - mae: 0.2906 - val_loss: 0.1801 - val_mae: 0.3492\n",
      "Epoch 894/1000\n",
      "5/5 [==============================] - 1s 185ms/step - loss: 0.1253 - mae: 0.2851 - val_loss: 0.0849 - val_mae: 0.2316\n",
      "Epoch 895/1000\n",
      "5/5 [==============================] - 1s 185ms/step - loss: 0.0938 - mae: 0.2438 - val_loss: 0.1048 - val_mae: 0.2577\n",
      "Epoch 896/1000\n",
      "5/5 [==============================] - 1s 185ms/step - loss: 0.1139 - mae: 0.2680 - val_loss: 0.1704 - val_mae: 0.3497\n",
      "Epoch 897/1000\n",
      "5/5 [==============================] - 1s 187ms/step - loss: 0.1825 - mae: 0.3551 - val_loss: 0.1665 - val_mae: 0.3388\n",
      "Epoch 898/1000\n",
      "5/5 [==============================] - 1s 185ms/step - loss: 0.1230 - mae: 0.2835 - val_loss: 0.1611 - val_mae: 0.3296\n",
      "Epoch 899/1000\n",
      "5/5 [==============================] - 1s 182ms/step - loss: 0.1214 - mae: 0.2797 - val_loss: 0.0790 - val_mae: 0.2292\n",
      "Epoch 900/1000\n",
      "5/5 [==============================] - 1s 183ms/step - loss: 0.0872 - mae: 0.2340 - val_loss: 0.0811 - val_mae: 0.2232\n",
      "Epoch 901/1000\n",
      "5/5 [==============================] - 1s 185ms/step - loss: 0.0855 - mae: 0.2298 - val_loss: 0.0938 - val_mae: 0.2520\n",
      "Epoch 902/1000\n",
      "5/5 [==============================] - 1s 185ms/step - loss: 0.1051 - mae: 0.2564 - val_loss: 0.1416 - val_mae: 0.2985\n",
      "Epoch 903/1000\n",
      "5/5 [==============================] - 1s 184ms/step - loss: 0.0932 - mae: 0.2424 - val_loss: 0.0937 - val_mae: 0.2505\n",
      "Epoch 904/1000\n",
      "5/5 [==============================] - 1s 180ms/step - loss: 0.0824 - mae: 0.2289 - val_loss: 0.0729 - val_mae: 0.2133\n",
      "Epoch 905/1000\n",
      "5/5 [==============================] - 1s 184ms/step - loss: 0.0767 - mae: 0.2177 - val_loss: 0.0875 - val_mae: 0.2289\n",
      "Epoch 906/1000\n",
      "5/5 [==============================] - 1s 183ms/step - loss: 0.0834 - mae: 0.2278 - val_loss: 0.1015 - val_mae: 0.2512\n",
      "Epoch 907/1000\n",
      "5/5 [==============================] - 1s 183ms/step - loss: 0.0959 - mae: 0.2460 - val_loss: 0.0866 - val_mae: 0.2398\n",
      "Epoch 908/1000\n",
      "5/5 [==============================] - 1s 184ms/step - loss: 0.0859 - mae: 0.2327 - val_loss: 0.1012 - val_mae: 0.2481\n",
      "Epoch 909/1000\n",
      "5/5 [==============================] - 1s 185ms/step - loss: 0.0850 - mae: 0.2273 - val_loss: 0.0868 - val_mae: 0.2347\n",
      "Epoch 910/1000\n"
     ]
    },
    {
     "name": "stdout",
     "output_type": "stream",
     "text": [
      "5/5 [==============================] - 1s 183ms/step - loss: 0.0776 - mae: 0.2205 - val_loss: 0.0952 - val_mae: 0.2394\n",
      "Epoch 911/1000\n",
      "5/5 [==============================] - 1s 183ms/step - loss: 0.0759 - mae: 0.2143 - val_loss: 0.1039 - val_mae: 0.2654\n",
      "Epoch 912/1000\n",
      "5/5 [==============================] - 1s 186ms/step - loss: 0.0934 - mae: 0.2447 - val_loss: 0.0855 - val_mae: 0.2320\n",
      "Epoch 913/1000\n",
      "5/5 [==============================] - 1s 184ms/step - loss: 0.0870 - mae: 0.2317 - val_loss: 0.0611 - val_mae: 0.1934\n",
      "Epoch 914/1000\n",
      "5/5 [==============================] - 1s 181ms/step - loss: 0.0685 - mae: 0.2039 - val_loss: 0.0743 - val_mae: 0.2087\n",
      "Epoch 915/1000\n",
      "5/5 [==============================] - 1s 189ms/step - loss: 0.0672 - mae: 0.2030 - val_loss: 0.0816 - val_mae: 0.2203\n",
      "Epoch 916/1000\n",
      "5/5 [==============================] - 1s 190ms/step - loss: 0.0700 - mae: 0.2047 - val_loss: 0.0833 - val_mae: 0.2312\n",
      "Epoch 917/1000\n",
      "5/5 [==============================] - 1s 190ms/step - loss: 0.0768 - mae: 0.2188 - val_loss: 0.0964 - val_mae: 0.2424\n",
      "Epoch 918/1000\n",
      "5/5 [==============================] - 1s 183ms/step - loss: 0.0750 - mae: 0.2130 - val_loss: 0.0681 - val_mae: 0.2026\n",
      "Epoch 919/1000\n",
      "5/5 [==============================] - 1s 184ms/step - loss: 0.0869 - mae: 0.2320 - val_loss: 0.0932 - val_mae: 0.2534\n",
      "Epoch 920/1000\n",
      "5/5 [==============================] - 1s 184ms/step - loss: 0.0757 - mae: 0.2157 - val_loss: 0.0711 - val_mae: 0.2101\n",
      "Epoch 921/1000\n",
      "5/5 [==============================] - 1s 182ms/step - loss: 0.0699 - mae: 0.2051 - val_loss: 0.0824 - val_mae: 0.2225\n",
      "Epoch 922/1000\n",
      "5/5 [==============================] - 1s 188ms/step - loss: 0.0845 - mae: 0.2239 - val_loss: 0.0845 - val_mae: 0.2212\n",
      "Epoch 923/1000\n",
      "5/5 [==============================] - 1s 183ms/step - loss: 0.0694 - mae: 0.2038 - val_loss: 0.0703 - val_mae: 0.2034\n",
      "Epoch 924/1000\n",
      "5/5 [==============================] - 1s 184ms/step - loss: 0.0652 - mae: 0.1990 - val_loss: 0.0876 - val_mae: 0.2253\n",
      "Epoch 925/1000\n",
      "5/5 [==============================] - 1s 189ms/step - loss: 0.0887 - mae: 0.2352 - val_loss: 0.2081 - val_mae: 0.3690\n",
      "Epoch 926/1000\n",
      "5/5 [==============================] - 1s 184ms/step - loss: 0.1298 - mae: 0.2869 - val_loss: 0.0836 - val_mae: 0.2333\n",
      "Epoch 927/1000\n",
      "5/5 [==============================] - 1s 182ms/step - loss: 0.1043 - mae: 0.2581 - val_loss: 0.0746 - val_mae: 0.2161\n",
      "Epoch 928/1000\n",
      "5/5 [==============================] - 1s 182ms/step - loss: 0.0933 - mae: 0.2415 - val_loss: 0.0944 - val_mae: 0.2396\n",
      "Epoch 929/1000\n",
      "5/5 [==============================] - 1s 183ms/step - loss: 0.0901 - mae: 0.2362 - val_loss: 0.0855 - val_mae: 0.2272\n",
      "Epoch 930/1000\n",
      "5/5 [==============================] - 1s 183ms/step - loss: 0.0744 - mae: 0.2129 - val_loss: 0.1121 - val_mae: 0.2611\n",
      "Epoch 931/1000\n",
      "5/5 [==============================] - 1s 183ms/step - loss: 0.0929 - mae: 0.2406 - val_loss: 0.0958 - val_mae: 0.2462\n",
      "Epoch 932/1000\n",
      "5/5 [==============================] - 1s 189ms/step - loss: 0.0821 - mae: 0.2255 - val_loss: 0.0798 - val_mae: 0.2286\n",
      "Epoch 933/1000\n",
      "5/5 [==============================] - 1s 183ms/step - loss: 0.0721 - mae: 0.2088 - val_loss: 0.1152 - val_mae: 0.2636\n",
      "Epoch 934/1000\n",
      "5/5 [==============================] - 1s 182ms/step - loss: 0.0812 - mae: 0.2236 - val_loss: 0.0831 - val_mae: 0.2226\n",
      "Epoch 935/1000\n",
      "5/5 [==============================] - 1s 187ms/step - loss: 0.0764 - mae: 0.2149 - val_loss: 0.0895 - val_mae: 0.2342\n",
      "Epoch 936/1000\n",
      "5/5 [==============================] - 1s 184ms/step - loss: 0.0831 - mae: 0.2239 - val_loss: 0.0829 - val_mae: 0.2276\n",
      "Epoch 937/1000\n",
      "5/5 [==============================] - 1s 187ms/step - loss: 0.0766 - mae: 0.2152 - val_loss: 0.0768 - val_mae: 0.2195\n",
      "Epoch 938/1000\n",
      "5/5 [==============================] - 1s 182ms/step - loss: 0.0691 - mae: 0.2083 - val_loss: 0.0833 - val_mae: 0.2160\n",
      "Epoch 939/1000\n",
      "5/5 [==============================] - 1s 182ms/step - loss: 0.0664 - mae: 0.2012 - val_loss: 0.0723 - val_mae: 0.2023\n",
      "Epoch 940/1000\n",
      "5/5 [==============================] - 1s 186ms/step - loss: 0.1007 - mae: 0.2519 - val_loss: 0.1384 - val_mae: 0.3136\n",
      "Epoch 941/1000\n",
      "5/5 [==============================] - 1s 200ms/step - loss: 0.1104 - mae: 0.2689 - val_loss: 0.1612 - val_mae: 0.3334\n",
      "Epoch 942/1000\n",
      "5/5 [==============================] - 1s 195ms/step - loss: 0.0981 - mae: 0.2473 - val_loss: 0.0862 - val_mae: 0.2357\n",
      "Epoch 943/1000\n",
      "5/5 [==============================] - 1s 188ms/step - loss: 0.1069 - mae: 0.2669 - val_loss: 0.1232 - val_mae: 0.2898\n",
      "Epoch 944/1000\n",
      "5/5 [==============================] - 1s 186ms/step - loss: 0.0992 - mae: 0.2534 - val_loss: 0.0837 - val_mae: 0.2324\n",
      "Epoch 945/1000\n",
      "5/5 [==============================] - 1s 185ms/step - loss: 0.0870 - mae: 0.2351 - val_loss: 0.1120 - val_mae: 0.2732\n",
      "Epoch 946/1000\n",
      "5/5 [==============================] - 1s 184ms/step - loss: 0.0790 - mae: 0.2207 - val_loss: 0.0742 - val_mae: 0.2185\n",
      "Epoch 947/1000\n",
      "5/5 [==============================] - 1s 183ms/step - loss: 0.0786 - mae: 0.2217 - val_loss: 0.0854 - val_mae: 0.2273\n",
      "Epoch 948/1000\n",
      "5/5 [==============================] - 1s 187ms/step - loss: 0.0716 - mae: 0.2126 - val_loss: 0.0781 - val_mae: 0.2114\n",
      "Epoch 949/1000\n",
      "5/5 [==============================] - 1s 184ms/step - loss: 0.0604 - mae: 0.1915 - val_loss: 0.0676 - val_mae: 0.2028\n",
      "Epoch 950/1000\n",
      "5/5 [==============================] - 1s 183ms/step - loss: 0.0649 - mae: 0.1979 - val_loss: 0.0705 - val_mae: 0.1997\n",
      "Epoch 951/1000\n",
      "5/5 [==============================] - 1s 181ms/step - loss: 0.0769 - mae: 0.2183 - val_loss: 0.0883 - val_mae: 0.2333\n",
      "Epoch 952/1000\n",
      "5/5 [==============================] - 1s 184ms/step - loss: 0.0745 - mae: 0.2154 - val_loss: 0.0544 - val_mae: 0.1816\n",
      "Epoch 953/1000\n",
      "5/5 [==============================] - 1s 183ms/step - loss: 0.0592 - mae: 0.1892 - val_loss: 0.0659 - val_mae: 0.2056\n",
      "Epoch 954/1000\n",
      "5/5 [==============================] - 1s 188ms/step - loss: 0.0634 - mae: 0.1999 - val_loss: 0.0813 - val_mae: 0.2261\n",
      "Epoch 955/1000\n",
      "5/5 [==============================] - 1s 186ms/step - loss: 0.0591 - mae: 0.1906 - val_loss: 0.0578 - val_mae: 0.1888\n",
      "Epoch 956/1000\n",
      "5/5 [==============================] - 1s 183ms/step - loss: 0.0532 - mae: 0.1796 - val_loss: 0.0827 - val_mae: 0.2256\n",
      "Epoch 957/1000\n",
      "5/5 [==============================] - 1s 182ms/step - loss: 0.0732 - mae: 0.2158 - val_loss: 0.0720 - val_mae: 0.2130\n",
      "Epoch 958/1000\n",
      "5/5 [==============================] - 1s 183ms/step - loss: 0.0580 - mae: 0.1904 - val_loss: 0.0623 - val_mae: 0.1959\n",
      "Epoch 959/1000\n",
      "5/5 [==============================] - 1s 184ms/step - loss: 0.0615 - mae: 0.1943 - val_loss: 0.0645 - val_mae: 0.1976\n",
      "Epoch 960/1000\n",
      "5/5 [==============================] - 1s 183ms/step - loss: 0.0661 - mae: 0.2007 - val_loss: 0.0806 - val_mae: 0.2212\n",
      "Epoch 961/1000\n",
      "5/5 [==============================] - 1s 181ms/step - loss: 0.0615 - mae: 0.1932 - val_loss: 0.0742 - val_mae: 0.2164\n",
      "Epoch 962/1000\n",
      "5/5 [==============================] - 1s 182ms/step - loss: 0.0607 - mae: 0.1941 - val_loss: 0.0625 - val_mae: 0.1980\n",
      "Epoch 963/1000\n",
      "5/5 [==============================] - 1s 183ms/step - loss: 0.0584 - mae: 0.1904 - val_loss: 0.0527 - val_mae: 0.1776\n",
      "Epoch 964/1000\n",
      "5/5 [==============================] - 1s 182ms/step - loss: 0.0555 - mae: 0.1831 - val_loss: 0.0976 - val_mae: 0.2466\n",
      "Epoch 965/1000\n",
      "5/5 [==============================] - 1s 182ms/step - loss: 0.0872 - mae: 0.2378 - val_loss: 0.1386 - val_mae: 0.3126\n",
      "Epoch 966/1000\n",
      "5/5 [==============================] - 1s 183ms/step - loss: 0.1059 - mae: 0.2642 - val_loss: 0.1125 - val_mae: 0.2732\n",
      "Epoch 967/1000\n",
      "5/5 [==============================] - 1s 186ms/step - loss: 0.1038 - mae: 0.2633 - val_loss: 0.1726 - val_mae: 0.3499\n",
      "Epoch 968/1000\n",
      "5/5 [==============================] - 1s 183ms/step - loss: 0.0872 - mae: 0.2354 - val_loss: 0.0721 - val_mae: 0.2174\n",
      "Epoch 969/1000\n",
      "5/5 [==============================] - 1s 184ms/step - loss: 0.0771 - mae: 0.2240 - val_loss: 0.0955 - val_mae: 0.2375\n",
      "Epoch 970/1000\n",
      "5/5 [==============================] - 1s 189ms/step - loss: 0.0688 - mae: 0.2082 - val_loss: 0.0682 - val_mae: 0.2062\n",
      "Epoch 971/1000\n"
     ]
    },
    {
     "name": "stdout",
     "output_type": "stream",
     "text": [
      "5/5 [==============================] - 1s 184ms/step - loss: 0.0565 - mae: 0.1858 - val_loss: 0.0608 - val_mae: 0.1952\n",
      "Epoch 972/1000\n",
      "5/5 [==============================] - 1s 185ms/step - loss: 0.0576 - mae: 0.1899 - val_loss: 0.0699 - val_mae: 0.2115\n",
      "Epoch 973/1000\n",
      "5/5 [==============================] - 1s 186ms/step - loss: 0.0610 - mae: 0.1920 - val_loss: 0.0699 - val_mae: 0.2060\n",
      "Epoch 974/1000\n",
      "5/5 [==============================] - 1s 184ms/step - loss: 0.0568 - mae: 0.1855 - val_loss: 0.0673 - val_mae: 0.2048\n",
      "Epoch 975/1000\n",
      "5/5 [==============================] - 1s 187ms/step - loss: 0.0549 - mae: 0.1846 - val_loss: 0.0574 - val_mae: 0.1858\n",
      "Epoch 976/1000\n",
      "5/5 [==============================] - 1s 186ms/step - loss: 0.0544 - mae: 0.1839 - val_loss: 0.0529 - val_mae: 0.1837\n",
      "Epoch 977/1000\n",
      "5/5 [==============================] - 1s 186ms/step - loss: 0.0609 - mae: 0.1963 - val_loss: 0.0855 - val_mae: 0.2438\n",
      "Epoch 978/1000\n",
      "5/5 [==============================] - 1s 184ms/step - loss: 0.0721 - mae: 0.2154 - val_loss: 0.1101 - val_mae: 0.2672\n",
      "Epoch 979/1000\n",
      "5/5 [==============================] - 1s 181ms/step - loss: 0.0995 - mae: 0.2575 - val_loss: 0.0697 - val_mae: 0.2139\n",
      "Epoch 980/1000\n",
      "5/5 [==============================] - 1s 198ms/step - loss: 0.0753 - mae: 0.2181 - val_loss: 0.0697 - val_mae: 0.2124\n",
      "Epoch 981/1000\n",
      "5/5 [==============================] - 1s 192ms/step - loss: 0.0747 - mae: 0.2170 - val_loss: 0.0938 - val_mae: 0.2454\n",
      "Epoch 982/1000\n",
      "5/5 [==============================] - 1s 189ms/step - loss: 0.0710 - mae: 0.2119 - val_loss: 0.0771 - val_mae: 0.2257\n",
      "Epoch 983/1000\n",
      "5/5 [==============================] - 1s 185ms/step - loss: 0.0708 - mae: 0.2157 - val_loss: 0.1854 - val_mae: 0.3662\n",
      "Epoch 984/1000\n",
      "5/5 [==============================] - 1s 183ms/step - loss: 0.1208 - mae: 0.2917 - val_loss: 0.0690 - val_mae: 0.2142\n",
      "Epoch 985/1000\n",
      "5/5 [==============================] - 1s 181ms/step - loss: 0.0702 - mae: 0.2141 - val_loss: 0.0576 - val_mae: 0.1907\n",
      "Epoch 986/1000\n",
      "5/5 [==============================] - 1s 182ms/step - loss: 0.0576 - mae: 0.1884 - val_loss: 0.0553 - val_mae: 0.1842\n",
      "Epoch 987/1000\n",
      "5/5 [==============================] - 1s 184ms/step - loss: 0.0483 - mae: 0.1716 - val_loss: 0.0615 - val_mae: 0.1993\n",
      "Epoch 988/1000\n",
      "5/5 [==============================] - 1s 182ms/step - loss: 0.0516 - mae: 0.1788 - val_loss: 0.0786 - val_mae: 0.2277\n",
      "Epoch 989/1000\n",
      "5/5 [==============================] - 1s 182ms/step - loss: 0.0526 - mae: 0.1810 - val_loss: 0.0529 - val_mae: 0.1817\n",
      "Epoch 990/1000\n",
      "5/5 [==============================] - 1s 182ms/step - loss: 0.0471 - mae: 0.1700 - val_loss: 0.0500 - val_mae: 0.1750\n",
      "Epoch 991/1000\n",
      "5/5 [==============================] - 1s 183ms/step - loss: 0.0518 - mae: 0.1784 - val_loss: 0.0577 - val_mae: 0.1900\n",
      "Epoch 992/1000\n",
      "5/5 [==============================] - 1s 184ms/step - loss: 0.0552 - mae: 0.1852 - val_loss: 0.0527 - val_mae: 0.1845\n",
      "Epoch 993/1000\n",
      "5/5 [==============================] - 1s 184ms/step - loss: 0.0434 - mae: 0.1635 - val_loss: 0.0541 - val_mae: 0.1806\n",
      "Epoch 994/1000\n",
      "5/5 [==============================] - 1s 184ms/step - loss: 0.0452 - mae: 0.1674 - val_loss: 0.0694 - val_mae: 0.2057\n",
      "Epoch 995/1000\n",
      "5/5 [==============================] - 1s 185ms/step - loss: 0.0471 - mae: 0.1699 - val_loss: 0.0470 - val_mae: 0.1692\n",
      "Epoch 996/1000\n",
      "5/5 [==============================] - 1s 186ms/step - loss: 0.0500 - mae: 0.1762 - val_loss: 0.0508 - val_mae: 0.1769\n",
      "Epoch 997/1000\n",
      "5/5 [==============================] - 1s 186ms/step - loss: 0.0480 - mae: 0.1719 - val_loss: 0.0491 - val_mae: 0.1730\n",
      "Epoch 998/1000\n",
      "5/5 [==============================] - 1s 195ms/step - loss: 0.0526 - mae: 0.1796 - val_loss: 0.0583 - val_mae: 0.1897\n",
      "Epoch 999/1000\n",
      "5/5 [==============================] - 1s 197ms/step - loss: 0.0445 - mae: 0.1649 - val_loss: 0.0520 - val_mae: 0.1791\n",
      "Epoch 1000/1000\n",
      "5/5 [==============================] - 1s 183ms/step - loss: 0.0512 - mae: 0.1792 - val_loss: 0.0547 - val_mae: 0.1868\n"
     ]
    }
   ],
   "source": [
    "from tensorflow.keras import datasets, layers, models\n",
    "from tensorflow import keras\n",
    "from tensorflow.keras import layers\n",
    "\n",
    "model = models.Sequential()\n",
    "model.add(layers.SimpleRNN(2048, input_shape=(time_step,2)))\n",
    "model.add(layers.Dense(25))\n",
    "\n",
    "model.summary()\n",
    "\n",
    "model.compile(optimizer='adam', loss='mse', metrics=['mae'])\n",
    "\n",
    "history = model.fit(train_input, train_label, epochs=1000, verbose=1, shuffle=True, validation_split=0.20,\n",
    "                   callbacks=[WandbCallback(log_weights=True, log_gradients=True, training_data=(train_input, train_label))])"
   ]
  },
  {
   "cell_type": "code",
   "execution_count": 17,
   "id": "f2977e3d",
   "metadata": {},
   "outputs": [
    {
     "name": "stdout",
     "output_type": "stream",
     "text": [
      "1/1 [==============================] - 0s 92ms/step\n"
     ]
    }
   ],
   "source": [
    "test_input = test_input.reshape(1, test_input.shape[0], test_input.shape[1])\n",
    "\n",
    "y_hat = model.predict(test_input)"
   ]
  },
  {
   "cell_type": "code",
   "execution_count": 18,
   "id": "569d2b27",
   "metadata": {},
   "outputs": [
    {
     "data": {
      "text/plain": [
       "(1, 100, 2)"
      ]
     },
     "execution_count": 18,
     "metadata": {},
     "output_type": "execute_result"
    }
   ],
   "source": [
    "test_input.shape"
   ]
  },
  {
   "cell_type": "code",
   "execution_count": 19,
   "id": "6b083de8",
   "metadata": {},
   "outputs": [],
   "source": [
    "test_label = test_label.reshape(1, test_label.shape[0], test_label.shape[1])"
   ]
  },
  {
   "cell_type": "code",
   "execution_count": 20,
   "id": "54e7a073",
   "metadata": {},
   "outputs": [
    {
     "data": {
      "text/plain": [
       "(1, 25, 1)"
      ]
     },
     "execution_count": 20,
     "metadata": {},
     "output_type": "execute_result"
    }
   ],
   "source": [
    "test_label.shape"
   ]
  },
  {
   "cell_type": "code",
   "execution_count": 21,
   "id": "b3e0c133",
   "metadata": {},
   "outputs": [
    {
     "data": {
      "text/plain": [
       "array([[1.4543918, 1.2084374, 1.6843141, 1.5605983, 1.5919284, 1.715068 ,\n",
       "        1.4902433, 1.6919601, 1.771334 , 1.6838989, 2.0455606, 2.4264698,\n",
       "        1.4272677, 1.4017035, 1.7537807, 1.684828 , 1.6246586, 1.8123512,\n",
       "        1.5000285, 1.8515253, 1.8877469, 1.7995996, 2.1579492, 2.4418116,\n",
       "        1.5541468]], dtype=float32)"
      ]
     },
     "execution_count": 21,
     "metadata": {},
     "output_type": "execute_result"
    }
   ],
   "source": [
    "y_hat"
   ]
  },
  {
   "cell_type": "code",
   "execution_count": 22,
   "id": "e37311d1",
   "metadata": {},
   "outputs": [
    {
     "data": {
      "text/plain": [
       "(1, 25)"
      ]
     },
     "execution_count": 22,
     "metadata": {},
     "output_type": "execute_result"
    }
   ],
   "source": [
    "y_hat.shape"
   ]
  },
  {
   "cell_type": "code",
   "execution_count": 23,
   "id": "ad0f0285",
   "metadata": {},
   "outputs": [],
   "source": [
    "y_hat = y_hat.reshape(y_hat.shape[1], 1)"
   ]
  },
  {
   "cell_type": "code",
   "execution_count": 24,
   "id": "69ea1f6f",
   "metadata": {},
   "outputs": [],
   "source": [
    "y_hat = (y_hat*data_std)+data_mean"
   ]
  },
  {
   "cell_type": "code",
   "execution_count": 25,
   "id": "702f2214",
   "metadata": {},
   "outputs": [],
   "source": [
    "#print(scaler.data_max_)"
   ]
  },
  {
   "cell_type": "code",
   "execution_count": 26,
   "id": "1ca1a387",
   "metadata": {},
   "outputs": [],
   "source": [
    "#print(scaler.data_min_)"
   ]
  },
  {
   "cell_type": "code",
   "execution_count": 27,
   "id": "5e40982b",
   "metadata": {},
   "outputs": [],
   "source": [
    "#y_hat = y_hat * (scaler.data_max_[1]-scaler.data_min_[1]) + scaler.data_min_[1]"
   ]
  },
  {
   "cell_type": "code",
   "execution_count": 28,
   "id": "902bb0d7",
   "metadata": {},
   "outputs": [
    {
     "data": {
      "text/plain": [
       "Text(0.5, 1.0, 'RNN prediction')"
      ]
     },
     "execution_count": 28,
     "metadata": {},
     "output_type": "execute_result"
    },
    {
     "data": {
      "image/png": "[encoded data removed]",
      "text/plain": [
       "<Figure size 1008x576 with 1 Axes>"
      ]
     },
     "metadata": {
      "needs_background": "light"
     },
     "output_type": "display_data"
    }
   ],
   "source": [
    "import matplotlib.pyplot as plt\n",
    "\n",
    "x = range(325)\n",
    "plt.figure(figsize=(14,8))\n",
    "plt.plot(df[300:325]['Sales'], label='original')\n",
    "plt.plot(x[300:325], y_hat, label='prediction')\n",
    "plt.legend()\n",
    "plt.xlabel('Sequence', fontsize=20)\n",
    "plt.ylabel('Sales', fontsize=20)\n",
    "plt.title('RNN prediction', fontsize=25)"
   ]
  },
  {
   "cell_type": "code",
   "execution_count": 29,
   "id": "051887d3",
   "metadata": {
    "scrolled": true
   },
   "outputs": [
    {
     "name": "stdout",
     "output_type": "stream",
     "text": [
      "1/1 [==============================] - 0s 23ms/step - loss: 0.1248 - mae: 0.2826\n"
     ]
    },
    {
     "data": {
      "text/plain": [
       "[0.12476810812950134, 0.28260964155197144]"
      ]
     },
     "execution_count": 29,
     "metadata": {},
     "output_type": "execute_result"
    }
   ],
   "source": [
    "model.evaluate(test_input, test_label)"
   ]
  },
  {
   "cell_type": "code",
   "execution_count": null,
   "id": "2819448e",
   "metadata": {},
   "outputs": [],
   "source": []
  }
 ],
 "metadata": {
  "kernelspec": {
   "display_name": "Python 3 (ipykernel)",
   "language": "python",
   "name": "python3"
  },
  "language_info": {
   "codemirror_mode": {
    "name": "ipython",
    "version": 3
   },
   "file_extension": ".py",
   "mimetype": "text/x-python",
   "name": "python",
   "nbconvert_exporter": "python",
   "pygments_lexer": "ipython3",
   "version": "3.9.12"
  }
 },
 "nbformat": 4,
 "nbformat_minor": 5
}
