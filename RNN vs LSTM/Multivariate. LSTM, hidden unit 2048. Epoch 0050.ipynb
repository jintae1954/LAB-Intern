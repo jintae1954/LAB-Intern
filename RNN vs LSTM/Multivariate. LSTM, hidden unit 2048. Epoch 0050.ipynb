{
 "cells": [
  {
   "cell_type": "code",
   "execution_count": 1,
   "id": "e55ec20d",
   "metadata": {},
   "outputs": [
    {
     "name": "stderr",
     "output_type": "stream",
     "text": [
      "\u001b[34m\u001b[1mwandb\u001b[0m: Currently logged in as: \u001b[33mjintae\u001b[0m. Use \u001b[1m`wandb login --relogin`\u001b[0m to force relogin\n"
     ]
    },
    {
     "data": {
      "text/html": [
       "Tracking run with wandb version 0.13.4"
      ],
      "text/plain": [
       "<IPython.core.display.HTML object>"
      ]
     },
     "metadata": {},
     "output_type": "display_data"
    },
    {
     "data": {
      "text/html": [
       "Run data is saved locally in <code>C:\\Users\\PARK\\Documents\\LAB\\RNN vs LSTM\\FInal Example\\wandb\\run-20221018_164016-1hmv8fq6</code>"
      ],
      "text/plain": [
       "<IPython.core.display.HTML object>"
      ]
     },
     "metadata": {},
     "output_type": "display_data"
    },
    {
     "data": {
      "text/html": [
       "Syncing run <strong><a href=\"https://wandb.ai/jintae/LSTM%20seq%202048./runs/1hmv8fq6\" target=\"_blank\">epoch 50</a></strong> to <a href=\"https://wandb.ai/jintae/LSTM%20seq%202048.\" target=\"_blank\">Weights & Biases</a> (<a href=\"https://wandb.me/run\" target=\"_blank\">docs</a>)<br/>"
      ],
      "text/plain": [
       "<IPython.core.display.HTML object>"
      ]
     },
     "metadata": {},
     "output_type": "display_data"
    },
    {
     "data": {
      "text/html": [
       "<button onClick=\"this.nextSibling.style.display='block';this.style.display='none';\">Display W&B run</button><iframe src=\"https://wandb.ai/jintae/LSTM%20seq%202048./runs/1hmv8fq6?jupyter=true\" style=\"border:none;width:100%;height:420px;display:none;\"></iframe>"
      ],
      "text/plain": [
       "<wandb.sdk.wandb_run.Run at 0x2227ab326a0>"
      ]
     },
     "execution_count": 1,
     "metadata": {},
     "output_type": "execute_result"
    }
   ],
   "source": [
    "import wandb\n",
    "from wandb.keras import WandbCallback\n",
    "wandb.init(project=\"LSTM seq 2048.\", name=\"epoch 50\")"
   ]
  },
  {
   "cell_type": "code",
   "execution_count": 2,
   "id": "650bae84",
   "metadata": {},
   "outputs": [
    {
     "name": "stdout",
     "output_type": "stream",
     "text": [
      "   DATE  Sales\n",
      "0     0   3459\n",
      "1     1   3458\n",
      "2     2   4002\n",
      "3     3   4564\n",
      "4     4   4221\n"
     ]
    }
   ],
   "source": [
    "import pandas as pd\n",
    "\n",
    "df = pd.read_csv('C:/Users/PARK/Desktop/Alcohol_Sales.csv')\n",
    "print(df.head())"
   ]
  },
  {
   "cell_type": "code",
   "execution_count": 3,
   "id": "71e18e17",
   "metadata": {},
   "outputs": [
    {
     "data": {
      "text/plain": [
       "(325, 2)"
      ]
     },
     "execution_count": 3,
     "metadata": {},
     "output_type": "execute_result"
    }
   ],
   "source": [
    "df.shape"
   ]
  },
  {
   "cell_type": "code",
   "execution_count": 4,
   "id": "5f4f8fb7",
   "metadata": {},
   "outputs": [],
   "source": [
    "import numpy as np\n",
    "\n",
    "data = df.to_numpy()"
   ]
  },
  {
   "cell_type": "code",
   "execution_count": 5,
   "id": "c6063052",
   "metadata": {},
   "outputs": [
    {
     "data": {
      "text/plain": [
       "(325, 2)"
      ]
     },
     "execution_count": 5,
     "metadata": {},
     "output_type": "execute_result"
    }
   ],
   "source": [
    "data.shape"
   ]
  },
  {
   "cell_type": "code",
   "execution_count": 6,
   "id": "01930485",
   "metadata": {},
   "outputs": [
    {
     "data": {
      "text/plain": [
       "array([[   0, 3459],\n",
       "       [   1, 3458],\n",
       "       [   2, 4002],\n",
       "       [   3, 4564],\n",
       "       [   4, 4221]], dtype=int64)"
      ]
     },
     "execution_count": 6,
     "metadata": {},
     "output_type": "execute_result"
    }
   ],
   "source": [
    "data[0:5]"
   ]
  },
  {
   "cell_type": "code",
   "execution_count": 7,
   "id": "ad83b404",
   "metadata": {},
   "outputs": [],
   "source": [
    "# from sklearn.preprocessing import MinMaxScaler\n",
    "\n",
    "# scaler = MinMaxScaler()\n",
    "\n",
    "# data = scaler.fit_transform(data)"
   ]
  },
  {
   "cell_type": "code",
   "execution_count": 8,
   "id": "17aef2ea",
   "metadata": {},
   "outputs": [],
   "source": [
    "data_mean = data.mean()\n",
    "data_std = data.std()\n",
    "\n",
    "data = (data - data_mean)/data_std"
   ]
  },
  {
   "cell_type": "code",
   "execution_count": 9,
   "id": "63fe0032",
   "metadata": {},
   "outputs": [
    {
     "data": {
      "text/plain": [
       "array([[-0.9194862 , -0.12914209],\n",
       "       [-0.91925771, -0.12937058],\n",
       "       [-0.91902922, -0.00507246],\n",
       "       [-0.91880073,  0.12333846],\n",
       "       [-0.91857224,  0.04496667]])"
      ]
     },
     "execution_count": 9,
     "metadata": {},
     "output_type": "execute_result"
    }
   ],
   "source": [
    "data[0:5]"
   ]
  },
  {
   "cell_type": "code",
   "execution_count": 10,
   "id": "87ac24ef",
   "metadata": {
    "scrolled": true
   },
   "outputs": [],
   "source": [
    "train_input = []\n",
    "train_label = []\n",
    "\n",
    "data_len = 325\n",
    "time_step = 100\n",
    "out_dim = 25\n",
    "\n",
    "for i in range(176):\n",
    "    _input = data[i:i+time_step]\n",
    "    _label = data[i+time_step:i+time_step+out_dim]\n",
    "    \n",
    "    train_input.append(_input)\n",
    "    train_label.append(_label)\n",
    "    \n",
    "\n",
    "train_input = np.array(train_input)\n",
    "train_label = np.array(train_label)\n",
    "train_label = np.delete(train_label, 0, axis=2)\n",
    "\n",
    "\n",
    "test_input = np.array(data[data_len-out_dim-time_step:data_len-out_dim])\n",
    "test_label =np.array(data[300:325])\n",
    "test_label = np.delete(test_label, 0, axis=1)"
   ]
  },
  {
   "cell_type": "code",
   "execution_count": 11,
   "id": "41975dc7",
   "metadata": {},
   "outputs": [
    {
     "data": {
      "text/plain": [
       "(176, 100, 2)"
      ]
     },
     "execution_count": 11,
     "metadata": {},
     "output_type": "execute_result"
    }
   ],
   "source": [
    "train_input.shape"
   ]
  },
  {
   "cell_type": "code",
   "execution_count": 12,
   "id": "b762c3ba",
   "metadata": {},
   "outputs": [
    {
     "data": {
      "text/plain": [
       "(176, 25, 1)"
      ]
     },
     "execution_count": 12,
     "metadata": {},
     "output_type": "execute_result"
    }
   ],
   "source": [
    "train_label.shape"
   ]
  },
  {
   "cell_type": "code",
   "execution_count": 13,
   "id": "127c63a2",
   "metadata": {},
   "outputs": [
    {
     "data": {
      "text/plain": [
       "(100, 2)"
      ]
     },
     "execution_count": 13,
     "metadata": {},
     "output_type": "execute_result"
    }
   ],
   "source": [
    "test_input.shape"
   ]
  },
  {
   "cell_type": "code",
   "execution_count": 14,
   "id": "6647472d",
   "metadata": {},
   "outputs": [
    {
     "data": {
      "text/plain": [
       "(25, 1)"
      ]
     },
     "execution_count": 14,
     "metadata": {},
     "output_type": "execute_result"
    }
   ],
   "source": [
    "test_label.shape"
   ]
  },
  {
   "cell_type": "code",
   "execution_count": 15,
   "id": "5d83c07f",
   "metadata": {},
   "outputs": [],
   "source": [
    "np.random.seed(10)\n",
    "shuffled_indices = np.random.permutation(np.arange(train_input.shape[0]))\n",
    "train_input = train_input[shuffled_indices, :, :]\n",
    "train_label = train_label[shuffled_indices, :]"
   ]
  },
  {
   "cell_type": "code",
   "execution_count": 16,
   "id": "a183926e",
   "metadata": {
    "scrolled": true
   },
   "outputs": [
    {
     "name": "stdout",
     "output_type": "stream",
     "text": [
      "Model: \"sequential\"\n",
      "_________________________________________________________________\n",
      " Layer (type)                Output Shape              Param #   \n",
      "=================================================================\n",
      " lstm (LSTM)                 (None, 2048)              16801792  \n",
      "                                                                 \n",
      " dense (Dense)               (None, 25)                51225     \n",
      "                                                                 \n",
      "=================================================================\n",
      "Total params: 16,853,017\n",
      "Trainable params: 16,853,017\n",
      "Non-trainable params: 0\n",
      "_________________________________________________________________\n"
     ]
    },
    {
     "name": "stderr",
     "output_type": "stream",
     "text": [
      "\u001b[34m\u001b[1mwandb\u001b[0m: \u001b[33mWARNING\u001b[0m The save_model argument by default saves the model in the HDF5 format that cannot save custom objects like subclassed models and custom layers. This behavior will be deprecated in a future release in favor of the SavedModel format. Meanwhile, the HDF5 model is saved as W&B files and the SavedModel as W&B Artifacts.\n"
     ]
    },
    {
     "name": "stdout",
     "output_type": "stream",
     "text": [
      "Epoch 1/50\n",
      "5/5 [==============================] - ETA: 0s - loss: 5.2815 - mae: 1.8030"
     ]
    },
    {
     "name": "stderr",
     "output_type": "stream",
     "text": [
      "WARNING:absl:Found untraced functions such as lstm_cell_layer_call_fn, lstm_cell_layer_call_and_return_conditional_losses while saving (showing 2 of 2). These functions will not be directly callable after loading.\n"
     ]
    },
    {
     "name": "stdout",
     "output_type": "stream",
     "text": [
      "INFO:tensorflow:Assets written to: C:\\Users\\PARK\\Documents\\LAB\\RNN vs LSTM\\FInal Example\\wandb\\run-20221018_164016-1hmv8fq6\\files\\model-best\\assets\n"
     ]
    },
    {
     "name": "stderr",
     "output_type": "stream",
     "text": [
      "INFO:tensorflow:Assets written to: C:\\Users\\PARK\\Documents\\LAB\\RNN vs LSTM\\FInal Example\\wandb\\run-20221018_164016-1hmv8fq6\\files\\model-best\\assets\n",
      "\u001b[34m\u001b[1mwandb\u001b[0m: Adding directory to artifact (C:\\Users\\PARK\\Documents\\LAB\\RNN vs LSTM\\FInal Example\\wandb\\run-20221018_164016-1hmv8fq6\\files\\model-best)... Done. 0.4s\n"
     ]
    },
    {
     "name": "stdout",
     "output_type": "stream",
     "text": [
      "5/5 [==============================] - 9s 2s/step - loss: 5.2815 - mae: 1.8030 - val_loss: 0.7457 - val_mae: 0.7478\n",
      "Epoch 2/50\n",
      "5/5 [==============================] - ETA: 0s - loss: 0.9063 - mae: 0.8412"
     ]
    },
    {
     "name": "stderr",
     "output_type": "stream",
     "text": [
      "WARNING:absl:Found untraced functions such as lstm_cell_layer_call_fn, lstm_cell_layer_call_and_return_conditional_losses while saving (showing 2 of 2). These functions will not be directly callable after loading.\n"
     ]
    },
    {
     "name": "stdout",
     "output_type": "stream",
     "text": [
      "INFO:tensorflow:Assets written to: C:\\Users\\PARK\\Documents\\LAB\\RNN vs LSTM\\FInal Example\\wandb\\run-20221018_164016-1hmv8fq6\\files\\model-best\\assets\n"
     ]
    },
    {
     "name": "stderr",
     "output_type": "stream",
     "text": [
      "INFO:tensorflow:Assets written to: C:\\Users\\PARK\\Documents\\LAB\\RNN vs LSTM\\FInal Example\\wandb\\run-20221018_164016-1hmv8fq6\\files\\model-best\\assets\n",
      "\u001b[34m\u001b[1mwandb\u001b[0m: Adding directory to artifact (C:\\Users\\PARK\\Documents\\LAB\\RNN vs LSTM\\FInal Example\\wandb\\run-20221018_164016-1hmv8fq6\\files\\model-best)... Done. 0.4s\n"
     ]
    },
    {
     "name": "stdout",
     "output_type": "stream",
     "text": [
      "5/5 [==============================] - 6s 1s/step - loss: 0.9063 - mae: 0.8412 - val_loss: 0.4286 - val_mae: 0.5368\n",
      "Epoch 3/50\n",
      "5/5 [==============================] - ETA: 0s - loss: 0.2845 - mae: 0.4334"
     ]
    },
    {
     "name": "stderr",
     "output_type": "stream",
     "text": [
      "WARNING:absl:Found untraced functions such as lstm_cell_layer_call_fn, lstm_cell_layer_call_and_return_conditional_losses while saving (showing 2 of 2). These functions will not be directly callable after loading.\n"
     ]
    },
    {
     "name": "stdout",
     "output_type": "stream",
     "text": [
      "INFO:tensorflow:Assets written to: C:\\Users\\PARK\\Documents\\LAB\\RNN vs LSTM\\FInal Example\\wandb\\run-20221018_164016-1hmv8fq6\\files\\model-best\\assets\n"
     ]
    },
    {
     "name": "stderr",
     "output_type": "stream",
     "text": [
      "INFO:tensorflow:Assets written to: C:\\Users\\PARK\\Documents\\LAB\\RNN vs LSTM\\FInal Example\\wandb\\run-20221018_164016-1hmv8fq6\\files\\model-best\\assets\n",
      "\u001b[34m\u001b[1mwandb\u001b[0m: Adding directory to artifact (C:\\Users\\PARK\\Documents\\LAB\\RNN vs LSTM\\FInal Example\\wandb\\run-20221018_164016-1hmv8fq6\\files\\model-best)... Done. 0.4s\n"
     ]
    },
    {
     "name": "stdout",
     "output_type": "stream",
     "text": [
      "5/5 [==============================] - 6s 1s/step - loss: 0.2845 - mae: 0.4334 - val_loss: 0.2300 - val_mae: 0.3936\n",
      "Epoch 4/50\n",
      "5/5 [==============================] - ETA: 0s - loss: 0.2335 - mae: 0.3992"
     ]
    },
    {
     "name": "stderr",
     "output_type": "stream",
     "text": [
      "WARNING:absl:Found untraced functions such as lstm_cell_layer_call_fn, lstm_cell_layer_call_and_return_conditional_losses while saving (showing 2 of 2). These functions will not be directly callable after loading.\n"
     ]
    },
    {
     "name": "stdout",
     "output_type": "stream",
     "text": [
      "INFO:tensorflow:Assets written to: C:\\Users\\PARK\\Documents\\LAB\\RNN vs LSTM\\FInal Example\\wandb\\run-20221018_164016-1hmv8fq6\\files\\model-best\\assets\n"
     ]
    },
    {
     "name": "stderr",
     "output_type": "stream",
     "text": [
      "INFO:tensorflow:Assets written to: C:\\Users\\PARK\\Documents\\LAB\\RNN vs LSTM\\FInal Example\\wandb\\run-20221018_164016-1hmv8fq6\\files\\model-best\\assets\n",
      "\u001b[34m\u001b[1mwandb\u001b[0m: Adding directory to artifact (C:\\Users\\PARK\\Documents\\LAB\\RNN vs LSTM\\FInal Example\\wandb\\run-20221018_164016-1hmv8fq6\\files\\model-best)... Done. 0.4s\n"
     ]
    },
    {
     "name": "stdout",
     "output_type": "stream",
     "text": [
      "5/5 [==============================] - 6s 1s/step - loss: 0.2335 - mae: 0.3992 - val_loss: 0.1966 - val_mae: 0.3695\n",
      "Epoch 5/50\n",
      "5/5 [==============================] - ETA: 0s - loss: 0.1866 - mae: 0.3586"
     ]
    },
    {
     "name": "stderr",
     "output_type": "stream",
     "text": [
      "WARNING:absl:Found untraced functions such as lstm_cell_layer_call_fn, lstm_cell_layer_call_and_return_conditional_losses while saving (showing 2 of 2). These functions will not be directly callable after loading.\n"
     ]
    },
    {
     "name": "stdout",
     "output_type": "stream",
     "text": [
      "INFO:tensorflow:Assets written to: C:\\Users\\PARK\\Documents\\LAB\\RNN vs LSTM\\FInal Example\\wandb\\run-20221018_164016-1hmv8fq6\\files\\model-best\\assets\n"
     ]
    },
    {
     "name": "stderr",
     "output_type": "stream",
     "text": [
      "INFO:tensorflow:Assets written to: C:\\Users\\PARK\\Documents\\LAB\\RNN vs LSTM\\FInal Example\\wandb\\run-20221018_164016-1hmv8fq6\\files\\model-best\\assets\n",
      "\u001b[34m\u001b[1mwandb\u001b[0m: Adding directory to artifact (C:\\Users\\PARK\\Documents\\LAB\\RNN vs LSTM\\FInal Example\\wandb\\run-20221018_164016-1hmv8fq6\\files\\model-best)... Done. 0.4s\n"
     ]
    },
    {
     "name": "stdout",
     "output_type": "stream",
     "text": [
      "5/5 [==============================] - 6s 1s/step - loss: 0.1866 - mae: 0.3586 - val_loss: 0.1836 - val_mae: 0.3613\n",
      "Epoch 6/50\n",
      "5/5 [==============================] - 1s 228ms/step - loss: 0.1903 - mae: 0.3623 - val_loss: 0.1863 - val_mae: 0.3623\n",
      "Epoch 7/50\n",
      "5/5 [==============================] - ETA: 0s - loss: 0.1869 - mae: 0.3590"
     ]
    },
    {
     "name": "stderr",
     "output_type": "stream",
     "text": [
      "WARNING:absl:Found untraced functions such as lstm_cell_layer_call_fn, lstm_cell_layer_call_and_return_conditional_losses while saving (showing 2 of 2). These functions will not be directly callable after loading.\n"
     ]
    },
    {
     "name": "stdout",
     "output_type": "stream",
     "text": [
      "INFO:tensorflow:Assets written to: C:\\Users\\PARK\\Documents\\LAB\\RNN vs LSTM\\FInal Example\\wandb\\run-20221018_164016-1hmv8fq6\\files\\model-best\\assets\n"
     ]
    },
    {
     "name": "stderr",
     "output_type": "stream",
     "text": [
      "INFO:tensorflow:Assets written to: C:\\Users\\PARK\\Documents\\LAB\\RNN vs LSTM\\FInal Example\\wandb\\run-20221018_164016-1hmv8fq6\\files\\model-best\\assets\n",
      "\u001b[34m\u001b[1mwandb\u001b[0m: Adding directory to artifact (C:\\Users\\PARK\\Documents\\LAB\\RNN vs LSTM\\FInal Example\\wandb\\run-20221018_164016-1hmv8fq6\\files\\model-best)... Done. 0.5s\n"
     ]
    },
    {
     "name": "stdout",
     "output_type": "stream",
     "text": [
      "5/5 [==============================] - 6s 1s/step - loss: 0.1869 - mae: 0.3590 - val_loss: 0.1794 - val_mae: 0.3549\n",
      "Epoch 8/50\n",
      "5/5 [==============================] - 1s 223ms/step - loss: 0.1780 - mae: 0.3513 - val_loss: 0.1805 - val_mae: 0.3534\n",
      "Epoch 9/50\n",
      "5/5 [==============================] - 1s 223ms/step - loss: 0.1825 - mae: 0.3541 - val_loss: 0.1840 - val_mae: 0.3554\n",
      "Epoch 10/50\n",
      "5/5 [==============================] - ETA: 0s - loss: 0.1827 - mae: 0.3554"
     ]
    },
    {
     "name": "stderr",
     "output_type": "stream",
     "text": [
      "WARNING:absl:Found untraced functions such as lstm_cell_layer_call_fn, lstm_cell_layer_call_and_return_conditional_losses while saving (showing 2 of 2). These functions will not be directly callable after loading.\n"
     ]
    },
    {
     "name": "stdout",
     "output_type": "stream",
     "text": [
      "INFO:tensorflow:Assets written to: C:\\Users\\PARK\\Documents\\LAB\\RNN vs LSTM\\FInal Example\\wandb\\run-20221018_164016-1hmv8fq6\\files\\model-best\\assets\n"
     ]
    },
    {
     "name": "stderr",
     "output_type": "stream",
     "text": [
      "INFO:tensorflow:Assets written to: C:\\Users\\PARK\\Documents\\LAB\\RNN vs LSTM\\FInal Example\\wandb\\run-20221018_164016-1hmv8fq6\\files\\model-best\\assets\n",
      "\u001b[34m\u001b[1mwandb\u001b[0m: Adding directory to artifact (C:\\Users\\PARK\\Documents\\LAB\\RNN vs LSTM\\FInal Example\\wandb\\run-20221018_164016-1hmv8fq6\\files\\model-best)... Done. 0.4s\n"
     ]
    },
    {
     "name": "stdout",
     "output_type": "stream",
     "text": [
      "5/5 [==============================] - 6s 1s/step - loss: 0.1827 - mae: 0.3554 - val_loss: 0.1777 - val_mae: 0.3527\n",
      "Epoch 11/50\n",
      "5/5 [==============================] - ETA: 0s - loss: 0.1781 - mae: 0.3511"
     ]
    },
    {
     "name": "stderr",
     "output_type": "stream",
     "text": [
      "WARNING:absl:Found untraced functions such as lstm_cell_layer_call_fn, lstm_cell_layer_call_and_return_conditional_losses while saving (showing 2 of 2). These functions will not be directly callable after loading.\n"
     ]
    },
    {
     "name": "stdout",
     "output_type": "stream",
     "text": [
      "INFO:tensorflow:Assets written to: C:\\Users\\PARK\\Documents\\LAB\\RNN vs LSTM\\FInal Example\\wandb\\run-20221018_164016-1hmv8fq6\\files\\model-best\\assets\n"
     ]
    },
    {
     "name": "stderr",
     "output_type": "stream",
     "text": [
      "INFO:tensorflow:Assets written to: C:\\Users\\PARK\\Documents\\LAB\\RNN vs LSTM\\FInal Example\\wandb\\run-20221018_164016-1hmv8fq6\\files\\model-best\\assets\n",
      "\u001b[34m\u001b[1mwandb\u001b[0m: Adding directory to artifact (C:\\Users\\PARK\\Documents\\LAB\\RNN vs LSTM\\FInal Example\\wandb\\run-20221018_164016-1hmv8fq6\\files\\model-best)... Done. 0.6s\n"
     ]
    },
    {
     "name": "stdout",
     "output_type": "stream",
     "text": [
      "5/5 [==============================] - 6s 1s/step - loss: 0.1781 - mae: 0.3511 - val_loss: 0.1768 - val_mae: 0.3522\n",
      "Epoch 12/50\n",
      "5/5 [==============================] - 1s 227ms/step - loss: 0.1787 - mae: 0.3516 - val_loss: 0.1772 - val_mae: 0.3528\n",
      "Epoch 13/50\n",
      "5/5 [==============================] - ETA: 0s - loss: 0.1776 - mae: 0.3504"
     ]
    },
    {
     "name": "stderr",
     "output_type": "stream",
     "text": [
      "WARNING:absl:Found untraced functions such as lstm_cell_layer_call_fn, lstm_cell_layer_call_and_return_conditional_losses while saving (showing 2 of 2). These functions will not be directly callable after loading.\n"
     ]
    },
    {
     "name": "stdout",
     "output_type": "stream",
     "text": [
      "INFO:tensorflow:Assets written to: C:\\Users\\PARK\\Documents\\LAB\\RNN vs LSTM\\FInal Example\\wandb\\run-20221018_164016-1hmv8fq6\\files\\model-best\\assets\n"
     ]
    },
    {
     "name": "stderr",
     "output_type": "stream",
     "text": [
      "INFO:tensorflow:Assets written to: C:\\Users\\PARK\\Documents\\LAB\\RNN vs LSTM\\FInal Example\\wandb\\run-20221018_164016-1hmv8fq6\\files\\model-best\\assets\n",
      "\u001b[34m\u001b[1mwandb\u001b[0m: Adding directory to artifact (C:\\Users\\PARK\\Documents\\LAB\\RNN vs LSTM\\FInal Example\\wandb\\run-20221018_164016-1hmv8fq6\\files\\model-best)... Done. 0.5s\n"
     ]
    },
    {
     "name": "stdout",
     "output_type": "stream",
     "text": [
      "5/5 [==============================] - 6s 2s/step - loss: 0.1776 - mae: 0.3504 - val_loss: 0.1765 - val_mae: 0.3513\n",
      "Epoch 14/50\n",
      "5/5 [==============================] - 1s 223ms/step - loss: 0.1774 - mae: 0.3500 - val_loss: 0.1775 - val_mae: 0.3504\n",
      "Epoch 15/50\n",
      "5/5 [==============================] - 1s 221ms/step - loss: 0.1782 - mae: 0.3504 - val_loss: 0.1774 - val_mae: 0.3507\n",
      "Epoch 16/50\n",
      "5/5 [==============================] - ETA: 0s - loss: 0.1785 - mae: 0.3514"
     ]
    },
    {
     "name": "stderr",
     "output_type": "stream",
     "text": [
      "WARNING:absl:Found untraced functions such as lstm_cell_layer_call_fn, lstm_cell_layer_call_and_return_conditional_losses while saving (showing 2 of 2). These functions will not be directly callable after loading.\n"
     ]
    },
    {
     "name": "stdout",
     "output_type": "stream",
     "text": [
      "INFO:tensorflow:Assets written to: C:\\Users\\PARK\\Documents\\LAB\\RNN vs LSTM\\FInal Example\\wandb\\run-20221018_164016-1hmv8fq6\\files\\model-best\\assets\n"
     ]
    },
    {
     "name": "stderr",
     "output_type": "stream",
     "text": [
      "INFO:tensorflow:Assets written to: C:\\Users\\PARK\\Documents\\LAB\\RNN vs LSTM\\FInal Example\\wandb\\run-20221018_164016-1hmv8fq6\\files\\model-best\\assets\n",
      "\u001b[34m\u001b[1mwandb\u001b[0m: Adding directory to artifact (C:\\Users\\PARK\\Documents\\LAB\\RNN vs LSTM\\FInal Example\\wandb\\run-20221018_164016-1hmv8fq6\\files\\model-best)... Done. 0.4s\n"
     ]
    },
    {
     "name": "stdout",
     "output_type": "stream",
     "text": [
      "5/5 [==============================] - 5s 1s/step - loss: 0.1785 - mae: 0.3514 - val_loss: 0.1764 - val_mae: 0.3522\n",
      "Epoch 17/50\n",
      "5/5 [==============================] - ETA: 0s - loss: 0.1772 - mae: 0.3501"
     ]
    },
    {
     "name": "stderr",
     "output_type": "stream",
     "text": [
      "WARNING:absl:Found untraced functions such as lstm_cell_layer_call_fn, lstm_cell_layer_call_and_return_conditional_losses while saving (showing 2 of 2). These functions will not be directly callable after loading.\n"
     ]
    },
    {
     "name": "stdout",
     "output_type": "stream",
     "text": [
      "INFO:tensorflow:Assets written to: C:\\Users\\PARK\\Documents\\LAB\\RNN vs LSTM\\FInal Example\\wandb\\run-20221018_164016-1hmv8fq6\\files\\model-best\\assets\n"
     ]
    },
    {
     "name": "stderr",
     "output_type": "stream",
     "text": [
      "INFO:tensorflow:Assets written to: C:\\Users\\PARK\\Documents\\LAB\\RNN vs LSTM\\FInal Example\\wandb\\run-20221018_164016-1hmv8fq6\\files\\model-best\\assets\n",
      "\u001b[34m\u001b[1mwandb\u001b[0m: Adding directory to artifact (C:\\Users\\PARK\\Documents\\LAB\\RNN vs LSTM\\FInal Example\\wandb\\run-20221018_164016-1hmv8fq6\\files\\model-best)... Done. 0.4s\n"
     ]
    },
    {
     "name": "stdout",
     "output_type": "stream",
     "text": [
      "5/5 [==============================] - 6s 1s/step - loss: 0.1772 - mae: 0.3501 - val_loss: 0.1756 - val_mae: 0.3503\n",
      "Epoch 18/50\n",
      "5/5 [==============================] - 1s 228ms/step - loss: 0.1776 - mae: 0.3499 - val_loss: 0.1761 - val_mae: 0.3501\n",
      "Epoch 19/50\n",
      "5/5 [==============================] - 1s 222ms/step - loss: 0.1769 - mae: 0.3494 - val_loss: 0.1757 - val_mae: 0.3520\n",
      "Epoch 20/50\n",
      "5/5 [==============================] - ETA: 0s - loss: 0.1766 - mae: 0.3494"
     ]
    },
    {
     "name": "stderr",
     "output_type": "stream",
     "text": [
      "WARNING:absl:Found untraced functions such as lstm_cell_layer_call_fn, lstm_cell_layer_call_and_return_conditional_losses while saving (showing 2 of 2). These functions will not be directly callable after loading.\n"
     ]
    },
    {
     "name": "stdout",
     "output_type": "stream",
     "text": [
      "INFO:tensorflow:Assets written to: C:\\Users\\PARK\\Documents\\LAB\\RNN vs LSTM\\FInal Example\\wandb\\run-20221018_164016-1hmv8fq6\\files\\model-best\\assets\n"
     ]
    },
    {
     "name": "stderr",
     "output_type": "stream",
     "text": [
      "INFO:tensorflow:Assets written to: C:\\Users\\PARK\\Documents\\LAB\\RNN vs LSTM\\FInal Example\\wandb\\run-20221018_164016-1hmv8fq6\\files\\model-best\\assets\n",
      "\u001b[34m\u001b[1mwandb\u001b[0m: Adding directory to artifact (C:\\Users\\PARK\\Documents\\LAB\\RNN vs LSTM\\FInal Example\\wandb\\run-20221018_164016-1hmv8fq6\\files\\model-best)... Done. 0.6s\n"
     ]
    },
    {
     "name": "stdout",
     "output_type": "stream",
     "text": [
      "5/5 [==============================] - 6s 1s/step - loss: 0.1766 - mae: 0.3494 - val_loss: 0.1744 - val_mae: 0.3497\n",
      "Epoch 21/50\n",
      "5/5 [==============================] - 1s 229ms/step - loss: 0.1756 - mae: 0.3479 - val_loss: 0.1753 - val_mae: 0.3487\n",
      "Epoch 22/50\n",
      "5/5 [==============================] - 1s 225ms/step - loss: 0.1771 - mae: 0.3489 - val_loss: 0.1759 - val_mae: 0.3501\n",
      "Epoch 23/50\n",
      "5/5 [==============================] - 1s 232ms/step - loss: 0.1775 - mae: 0.3502 - val_loss: 0.1745 - val_mae: 0.3506\n",
      "Epoch 24/50\n",
      "5/5 [==============================] - ETA: 0s - loss: 0.1760 - mae: 0.3488"
     ]
    },
    {
     "name": "stderr",
     "output_type": "stream",
     "text": [
      "WARNING:absl:Found untraced functions such as lstm_cell_layer_call_fn, lstm_cell_layer_call_and_return_conditional_losses while saving (showing 2 of 2). These functions will not be directly callable after loading.\n"
     ]
    },
    {
     "name": "stdout",
     "output_type": "stream",
     "text": [
      "INFO:tensorflow:Assets written to: C:\\Users\\PARK\\Documents\\LAB\\RNN vs LSTM\\FInal Example\\wandb\\run-20221018_164016-1hmv8fq6\\files\\model-best\\assets\n"
     ]
    },
    {
     "name": "stderr",
     "output_type": "stream",
     "text": [
      "INFO:tensorflow:Assets written to: C:\\Users\\PARK\\Documents\\LAB\\RNN vs LSTM\\FInal Example\\wandb\\run-20221018_164016-1hmv8fq6\\files\\model-best\\assets\n",
      "\u001b[34m\u001b[1mwandb\u001b[0m: Adding directory to artifact (C:\\Users\\PARK\\Documents\\LAB\\RNN vs LSTM\\FInal Example\\wandb\\run-20221018_164016-1hmv8fq6\\files\\model-best)... Done. 0.6s\n"
     ]
    },
    {
     "name": "stdout",
     "output_type": "stream",
     "text": [
      "5/5 [==============================] - 6s 2s/step - loss: 0.1760 - mae: 0.3488 - val_loss: 0.1735 - val_mae: 0.3472\n",
      "Epoch 25/50\n",
      "5/5 [==============================] - 1s 229ms/step - loss: 0.1777 - mae: 0.3488 - val_loss: 0.1780 - val_mae: 0.3484\n",
      "Epoch 26/50\n",
      "5/5 [==============================] - 1s 224ms/step - loss: 0.1761 - mae: 0.3480 - val_loss: 0.1746 - val_mae: 0.3495\n",
      "Epoch 27/50\n",
      "5/5 [==============================] - ETA: 0s - loss: 0.1751 - mae: 0.3479"
     ]
    },
    {
     "name": "stderr",
     "output_type": "stream",
     "text": [
      "WARNING:absl:Found untraced functions such as lstm_cell_layer_call_fn, lstm_cell_layer_call_and_return_conditional_losses while saving (showing 2 of 2). These functions will not be directly callable after loading.\n"
     ]
    },
    {
     "name": "stdout",
     "output_type": "stream",
     "text": [
      "INFO:tensorflow:Assets written to: C:\\Users\\PARK\\Documents\\LAB\\RNN vs LSTM\\FInal Example\\wandb\\run-20221018_164016-1hmv8fq6\\files\\model-best\\assets\n"
     ]
    },
    {
     "name": "stderr",
     "output_type": "stream",
     "text": [
      "INFO:tensorflow:Assets written to: C:\\Users\\PARK\\Documents\\LAB\\RNN vs LSTM\\FInal Example\\wandb\\run-20221018_164016-1hmv8fq6\\files\\model-best\\assets\n",
      "\u001b[34m\u001b[1mwandb\u001b[0m: Adding directory to artifact (C:\\Users\\PARK\\Documents\\LAB\\RNN vs LSTM\\FInal Example\\wandb\\run-20221018_164016-1hmv8fq6\\files\\model-best)... Done. 0.5s\n"
     ]
    },
    {
     "name": "stdout",
     "output_type": "stream",
     "text": [
      "5/5 [==============================] - 6s 1s/step - loss: 0.1751 - mae: 0.3479 - val_loss: 0.1729 - val_mae: 0.3492\n",
      "Epoch 28/50\n",
      "5/5 [==============================] - ETA: 0s - loss: 0.1753 - mae: 0.3479"
     ]
    },
    {
     "name": "stderr",
     "output_type": "stream",
     "text": [
      "WARNING:absl:Found untraced functions such as lstm_cell_layer_call_fn, lstm_cell_layer_call_and_return_conditional_losses while saving (showing 2 of 2). These functions will not be directly callable after loading.\n"
     ]
    },
    {
     "name": "stdout",
     "output_type": "stream",
     "text": [
      "INFO:tensorflow:Assets written to: C:\\Users\\PARK\\Documents\\LAB\\RNN vs LSTM\\FInal Example\\wandb\\run-20221018_164016-1hmv8fq6\\files\\model-best\\assets\n"
     ]
    },
    {
     "name": "stderr",
     "output_type": "stream",
     "text": [
      "INFO:tensorflow:Assets written to: C:\\Users\\PARK\\Documents\\LAB\\RNN vs LSTM\\FInal Example\\wandb\\run-20221018_164016-1hmv8fq6\\files\\model-best\\assets\n",
      "\u001b[34m\u001b[1mwandb\u001b[0m: Adding directory to artifact (C:\\Users\\PARK\\Documents\\LAB\\RNN vs LSTM\\FInal Example\\wandb\\run-20221018_164016-1hmv8fq6\\files\\model-best)... Done. 0.4s\n"
     ]
    },
    {
     "name": "stdout",
     "output_type": "stream",
     "text": [
      "5/5 [==============================] - 7s 2s/step - loss: 0.1753 - mae: 0.3479 - val_loss: 0.1727 - val_mae: 0.3458\n",
      "Epoch 29/50\n",
      "5/5 [==============================] - ETA: 0s - loss: 0.1737 - mae: 0.3457"
     ]
    },
    {
     "name": "stderr",
     "output_type": "stream",
     "text": [
      "WARNING:absl:Found untraced functions such as lstm_cell_layer_call_fn, lstm_cell_layer_call_and_return_conditional_losses while saving (showing 2 of 2). These functions will not be directly callable after loading.\n"
     ]
    },
    {
     "name": "stdout",
     "output_type": "stream",
     "text": [
      "INFO:tensorflow:Assets written to: C:\\Users\\PARK\\Documents\\LAB\\RNN vs LSTM\\FInal Example\\wandb\\run-20221018_164016-1hmv8fq6\\files\\model-best\\assets\n"
     ]
    },
    {
     "name": "stderr",
     "output_type": "stream",
     "text": [
      "INFO:tensorflow:Assets written to: C:\\Users\\PARK\\Documents\\LAB\\RNN vs LSTM\\FInal Example\\wandb\\run-20221018_164016-1hmv8fq6\\files\\model-best\\assets\n",
      "\u001b[34m\u001b[1mwandb\u001b[0m: Adding directory to artifact (C:\\Users\\PARK\\Documents\\LAB\\RNN vs LSTM\\FInal Example\\wandb\\run-20221018_164016-1hmv8fq6\\files\\model-best)... Done. 0.6s\n"
     ]
    },
    {
     "name": "stdout",
     "output_type": "stream",
     "text": [
      "5/5 [==============================] - 6s 1s/step - loss: 0.1737 - mae: 0.3457 - val_loss: 0.1720 - val_mae: 0.3478\n",
      "Epoch 30/50\n",
      "5/5 [==============================] - ETA: 0s - loss: 0.1757 - mae: 0.3481"
     ]
    },
    {
     "name": "stderr",
     "output_type": "stream",
     "text": [
      "WARNING:absl:Found untraced functions such as lstm_cell_layer_call_fn, lstm_cell_layer_call_and_return_conditional_losses while saving (showing 2 of 2). These functions will not be directly callable after loading.\n"
     ]
    },
    {
     "name": "stdout",
     "output_type": "stream",
     "text": [
      "INFO:tensorflow:Assets written to: C:\\Users\\PARK\\Documents\\LAB\\RNN vs LSTM\\FInal Example\\wandb\\run-20221018_164016-1hmv8fq6\\files\\model-best\\assets\n"
     ]
    },
    {
     "name": "stderr",
     "output_type": "stream",
     "text": [
      "INFO:tensorflow:Assets written to: C:\\Users\\PARK\\Documents\\LAB\\RNN vs LSTM\\FInal Example\\wandb\\run-20221018_164016-1hmv8fq6\\files\\model-best\\assets\n",
      "\u001b[34m\u001b[1mwandb\u001b[0m: Adding directory to artifact (C:\\Users\\PARK\\Documents\\LAB\\RNN vs LSTM\\FInal Example\\wandb\\run-20221018_164016-1hmv8fq6\\files\\model-best)... Done. 0.6s\n"
     ]
    },
    {
     "name": "stdout",
     "output_type": "stream",
     "text": [
      "5/5 [==============================] - 6s 2s/step - loss: 0.1757 - mae: 0.3481 - val_loss: 0.1705 - val_mae: 0.3462\n",
      "Epoch 31/50\n",
      "5/5 [==============================] - 1s 230ms/step - loss: 0.1733 - mae: 0.3458 - val_loss: 0.1714 - val_mae: 0.3439\n",
      "Epoch 32/50\n",
      "5/5 [==============================] - 1s 230ms/step - loss: 0.1725 - mae: 0.3449 - val_loss: 0.1709 - val_mae: 0.3462\n",
      "Epoch 33/50\n",
      "5/5 [==============================] - ETA: 0s - loss: 0.1709 - mae: 0.3436"
     ]
    },
    {
     "name": "stderr",
     "output_type": "stream",
     "text": [
      "WARNING:absl:Found untraced functions such as lstm_cell_layer_call_fn, lstm_cell_layer_call_and_return_conditional_losses while saving (showing 2 of 2). These functions will not be directly callable after loading.\n"
     ]
    },
    {
     "name": "stdout",
     "output_type": "stream",
     "text": [
      "INFO:tensorflow:Assets written to: C:\\Users\\PARK\\Documents\\LAB\\RNN vs LSTM\\FInal Example\\wandb\\run-20221018_164016-1hmv8fq6\\files\\model-best\\assets\n"
     ]
    },
    {
     "name": "stderr",
     "output_type": "stream",
     "text": [
      "INFO:tensorflow:Assets written to: C:\\Users\\PARK\\Documents\\LAB\\RNN vs LSTM\\FInal Example\\wandb\\run-20221018_164016-1hmv8fq6\\files\\model-best\\assets\n",
      "\u001b[34m\u001b[1mwandb\u001b[0m: Adding directory to artifact (C:\\Users\\PARK\\Documents\\LAB\\RNN vs LSTM\\FInal Example\\wandb\\run-20221018_164016-1hmv8fq6\\files\\model-best)... Done. 0.6s\n"
     ]
    },
    {
     "name": "stdout",
     "output_type": "stream",
     "text": [
      "5/5 [==============================] - 7s 2s/step - loss: 0.1709 - mae: 0.3436 - val_loss: 0.1693 - val_mae: 0.3440\n",
      "Epoch 34/50\n",
      "5/5 [==============================] - ETA: 0s - loss: 0.1719 - mae: 0.3439"
     ]
    },
    {
     "name": "stderr",
     "output_type": "stream",
     "text": [
      "WARNING:absl:Found untraced functions such as lstm_cell_layer_call_fn, lstm_cell_layer_call_and_return_conditional_losses while saving (showing 2 of 2). These functions will not be directly callable after loading.\n"
     ]
    },
    {
     "name": "stdout",
     "output_type": "stream",
     "text": [
      "INFO:tensorflow:Assets written to: C:\\Users\\PARK\\Documents\\LAB\\RNN vs LSTM\\FInal Example\\wandb\\run-20221018_164016-1hmv8fq6\\files\\model-best\\assets\n"
     ]
    },
    {
     "name": "stderr",
     "output_type": "stream",
     "text": [
      "INFO:tensorflow:Assets written to: C:\\Users\\PARK\\Documents\\LAB\\RNN vs LSTM\\FInal Example\\wandb\\run-20221018_164016-1hmv8fq6\\files\\model-best\\assets\n",
      "\u001b[34m\u001b[1mwandb\u001b[0m: Adding directory to artifact (C:\\Users\\PARK\\Documents\\LAB\\RNN vs LSTM\\FInal Example\\wandb\\run-20221018_164016-1hmv8fq6\\files\\model-best)... Done. 0.6s\n"
     ]
    },
    {
     "name": "stdout",
     "output_type": "stream",
     "text": [
      "5/5 [==============================] - 6s 2s/step - loss: 0.1719 - mae: 0.3439 - val_loss: 0.1677 - val_mae: 0.3424\n",
      "Epoch 35/50\n",
      "5/5 [==============================] - 1s 232ms/step - loss: 0.1695 - mae: 0.3422 - val_loss: 0.1679 - val_mae: 0.3403\n",
      "Epoch 36/50\n",
      "5/5 [==============================] - 1s 231ms/step - loss: 0.1700 - mae: 0.3414 - val_loss: 0.1680 - val_mae: 0.3414\n",
      "Epoch 37/50\n",
      "5/5 [==============================] - ETA: 0s - loss: 0.1696 - mae: 0.3419"
     ]
    },
    {
     "name": "stderr",
     "output_type": "stream",
     "text": [
      "WARNING:absl:Found untraced functions such as lstm_cell_layer_call_fn, lstm_cell_layer_call_and_return_conditional_losses while saving (showing 2 of 2). These functions will not be directly callable after loading.\n"
     ]
    },
    {
     "name": "stdout",
     "output_type": "stream",
     "text": [
      "INFO:tensorflow:Assets written to: C:\\Users\\PARK\\Documents\\LAB\\RNN vs LSTM\\FInal Example\\wandb\\run-20221018_164016-1hmv8fq6\\files\\model-best\\assets\n"
     ]
    },
    {
     "name": "stderr",
     "output_type": "stream",
     "text": [
      "INFO:tensorflow:Assets written to: C:\\Users\\PARK\\Documents\\LAB\\RNN vs LSTM\\FInal Example\\wandb\\run-20221018_164016-1hmv8fq6\\files\\model-best\\assets\n",
      "\u001b[34m\u001b[1mwandb\u001b[0m: Adding directory to artifact (C:\\Users\\PARK\\Documents\\LAB\\RNN vs LSTM\\FInal Example\\wandb\\run-20221018_164016-1hmv8fq6\\files\\model-best)... Done. 0.6s\n"
     ]
    },
    {
     "name": "stdout",
     "output_type": "stream",
     "text": [
      "5/5 [==============================] - 6s 2s/step - loss: 0.1696 - mae: 0.3419 - val_loss: 0.1636 - val_mae: 0.3383\n",
      "Epoch 38/50\n",
      "5/5 [==============================] - ETA: 0s - loss: 0.1657 - mae: 0.3380"
     ]
    },
    {
     "name": "stderr",
     "output_type": "stream",
     "text": [
      "WARNING:absl:Found untraced functions such as lstm_cell_layer_call_fn, lstm_cell_layer_call_and_return_conditional_losses while saving (showing 2 of 2). These functions will not be directly callable after loading.\n"
     ]
    },
    {
     "name": "stdout",
     "output_type": "stream",
     "text": [
      "INFO:tensorflow:Assets written to: C:\\Users\\PARK\\Documents\\LAB\\RNN vs LSTM\\FInal Example\\wandb\\run-20221018_164016-1hmv8fq6\\files\\model-best\\assets\n"
     ]
    },
    {
     "name": "stderr",
     "output_type": "stream",
     "text": [
      "INFO:tensorflow:Assets written to: C:\\Users\\PARK\\Documents\\LAB\\RNN vs LSTM\\FInal Example\\wandb\\run-20221018_164016-1hmv8fq6\\files\\model-best\\assets\n",
      "\u001b[34m\u001b[1mwandb\u001b[0m: Adding directory to artifact (C:\\Users\\PARK\\Documents\\LAB\\RNN vs LSTM\\FInal Example\\wandb\\run-20221018_164016-1hmv8fq6\\files\\model-best)... Done. 0.6s\n"
     ]
    },
    {
     "name": "stdout",
     "output_type": "stream",
     "text": [
      "5/5 [==============================] - 6s 2s/step - loss: 0.1657 - mae: 0.3380 - val_loss: 0.1612 - val_mae: 0.3347\n",
      "Epoch 39/50\n",
      "5/5 [==============================] - ETA: 0s - loss: 0.1646 - mae: 0.3362"
     ]
    },
    {
     "name": "stderr",
     "output_type": "stream",
     "text": [
      "WARNING:absl:Found untraced functions such as lstm_cell_layer_call_fn, lstm_cell_layer_call_and_return_conditional_losses while saving (showing 2 of 2). These functions will not be directly callable after loading.\n"
     ]
    },
    {
     "name": "stdout",
     "output_type": "stream",
     "text": [
      "INFO:tensorflow:Assets written to: C:\\Users\\PARK\\Documents\\LAB\\RNN vs LSTM\\FInal Example\\wandb\\run-20221018_164016-1hmv8fq6\\files\\model-best\\assets\n"
     ]
    },
    {
     "name": "stderr",
     "output_type": "stream",
     "text": [
      "INFO:tensorflow:Assets written to: C:\\Users\\PARK\\Documents\\LAB\\RNN vs LSTM\\FInal Example\\wandb\\run-20221018_164016-1hmv8fq6\\files\\model-best\\assets\n",
      "\u001b[34m\u001b[1mwandb\u001b[0m: Adding directory to artifact (C:\\Users\\PARK\\Documents\\LAB\\RNN vs LSTM\\FInal Example\\wandb\\run-20221018_164016-1hmv8fq6\\files\\model-best)... Done. 0.6s\n"
     ]
    },
    {
     "name": "stdout",
     "output_type": "stream",
     "text": [
      "5/5 [==============================] - 6s 2s/step - loss: 0.1646 - mae: 0.3362 - val_loss: 0.1595 - val_mae: 0.3333\n",
      "Epoch 40/50\n",
      "5/5 [==============================] - ETA: 0s - loss: 0.1588 - mae: 0.3301"
     ]
    },
    {
     "name": "stderr",
     "output_type": "stream",
     "text": [
      "WARNING:absl:Found untraced functions such as lstm_cell_layer_call_fn, lstm_cell_layer_call_and_return_conditional_losses while saving (showing 2 of 2). These functions will not be directly callable after loading.\n"
     ]
    },
    {
     "name": "stdout",
     "output_type": "stream",
     "text": [
      "INFO:tensorflow:Assets written to: C:\\Users\\PARK\\Documents\\LAB\\RNN vs LSTM\\FInal Example\\wandb\\run-20221018_164016-1hmv8fq6\\files\\model-best\\assets\n"
     ]
    },
    {
     "name": "stderr",
     "output_type": "stream",
     "text": [
      "INFO:tensorflow:Assets written to: C:\\Users\\PARK\\Documents\\LAB\\RNN vs LSTM\\FInal Example\\wandb\\run-20221018_164016-1hmv8fq6\\files\\model-best\\assets\n",
      "\u001b[34m\u001b[1mwandb\u001b[0m: Adding directory to artifact (C:\\Users\\PARK\\Documents\\LAB\\RNN vs LSTM\\FInal Example\\wandb\\run-20221018_164016-1hmv8fq6\\files\\model-best)... Done. 0.6s\n"
     ]
    },
    {
     "name": "stdout",
     "output_type": "stream",
     "text": [
      "5/5 [==============================] - 7s 2s/step - loss: 0.1588 - mae: 0.3301 - val_loss: 0.1558 - val_mae: 0.3307\n",
      "Epoch 41/50\n",
      "5/5 [==============================] - 1s 235ms/step - loss: 0.1541 - mae: 0.3253 - val_loss: 0.1757 - val_mae: 0.3506\n",
      "Epoch 42/50\n",
      "5/5 [==============================] - ETA: 0s - loss: 0.1697 - mae: 0.3391"
     ]
    },
    {
     "name": "stderr",
     "output_type": "stream",
     "text": [
      "WARNING:absl:Found untraced functions such as lstm_cell_layer_call_fn, lstm_cell_layer_call_and_return_conditional_losses while saving (showing 2 of 2). These functions will not be directly callable after loading.\n"
     ]
    },
    {
     "name": "stdout",
     "output_type": "stream",
     "text": [
      "INFO:tensorflow:Assets written to: C:\\Users\\PARK\\Documents\\LAB\\RNN vs LSTM\\FInal Example\\wandb\\run-20221018_164016-1hmv8fq6\\files\\model-best\\assets\n"
     ]
    },
    {
     "name": "stderr",
     "output_type": "stream",
     "text": [
      "INFO:tensorflow:Assets written to: C:\\Users\\PARK\\Documents\\LAB\\RNN vs LSTM\\FInal Example\\wandb\\run-20221018_164016-1hmv8fq6\\files\\model-best\\assets\n",
      "\u001b[34m\u001b[1mwandb\u001b[0m: Adding directory to artifact (C:\\Users\\PARK\\Documents\\LAB\\RNN vs LSTM\\FInal Example\\wandb\\run-20221018_164016-1hmv8fq6\\files\\model-best)... Done. 0.6s\n"
     ]
    },
    {
     "name": "stdout",
     "output_type": "stream",
     "text": [
      "5/5 [==============================] - 6s 2s/step - loss: 0.1697 - mae: 0.3391 - val_loss: 0.1535 - val_mae: 0.3288\n",
      "Epoch 43/50\n",
      "5/5 [==============================] - 1s 233ms/step - loss: 0.2087 - mae: 0.3696 - val_loss: 0.1601 - val_mae: 0.3350\n",
      "Epoch 44/50\n",
      "5/5 [==============================] - 1s 229ms/step - loss: 0.1676 - mae: 0.3374 - val_loss: 0.1784 - val_mae: 0.3458\n",
      "Epoch 45/50\n",
      "5/5 [==============================] - 1s 228ms/step - loss: 0.1727 - mae: 0.3428 - val_loss: 0.1691 - val_mae: 0.3453\n",
      "Epoch 46/50\n",
      "5/5 [==============================] - 1s 229ms/step - loss: 0.1670 - mae: 0.3387 - val_loss: 0.1599 - val_mae: 0.3327\n",
      "Epoch 47/50\n",
      "5/5 [==============================] - 1s 239ms/step - loss: 0.1632 - mae: 0.3355 - val_loss: 0.1596 - val_mae: 0.3324\n",
      "Epoch 48/50\n",
      "5/5 [==============================] - 1s 238ms/step - loss: 0.1618 - mae: 0.3336 - val_loss: 0.1582 - val_mae: 0.3331\n",
      "Epoch 49/50\n",
      "5/5 [==============================] - 1s 233ms/step - loss: 0.1594 - mae: 0.3310 - val_loss: 0.1546 - val_mae: 0.3272\n",
      "Epoch 50/50\n",
      "5/5 [==============================] - ETA: 0s - loss: 0.1551 - mae: 0.3261"
     ]
    },
    {
     "name": "stderr",
     "output_type": "stream",
     "text": [
      "WARNING:absl:Found untraced functions such as lstm_cell_layer_call_fn, lstm_cell_layer_call_and_return_conditional_losses while saving (showing 2 of 2). These functions will not be directly callable after loading.\n"
     ]
    },
    {
     "name": "stdout",
     "output_type": "stream",
     "text": [
      "INFO:tensorflow:Assets written to: C:\\Users\\PARK\\Documents\\LAB\\RNN vs LSTM\\FInal Example\\wandb\\run-20221018_164016-1hmv8fq6\\files\\model-best\\assets\n"
     ]
    },
    {
     "name": "stderr",
     "output_type": "stream",
     "text": [
      "INFO:tensorflow:Assets written to: C:\\Users\\PARK\\Documents\\LAB\\RNN vs LSTM\\FInal Example\\wandb\\run-20221018_164016-1hmv8fq6\\files\\model-best\\assets\n",
      "\u001b[34m\u001b[1mwandb\u001b[0m: Adding directory to artifact (C:\\Users\\PARK\\Documents\\LAB\\RNN vs LSTM\\FInal Example\\wandb\\run-20221018_164016-1hmv8fq6\\files\\model-best)... Done. 0.6s\n"
     ]
    },
    {
     "name": "stdout",
     "output_type": "stream",
     "text": [
      "\b\b\b\b\b\b\b\b\b\b\b\b\b\b\b\b\b\b\b\b\b\b\b\b\b\b\b\b\b\b\b\b\b\b\b\b\b\b\b\b\b\b\b\b\b\b\b\b\b\b\b\b\b\b\b\b\b\b\b\b\b\b\b\b\b\b\b\b\b\b\b\b\b\b\b\r",
      "5/5 [==============================] - 6s 2s/step - loss: 0.1551 - mae: 0.3261 - val_loss: 0.1508 - val_mae: 0.3248\n"
     ]
    }
   ],
   "source": [
    "from tensorflow.keras import datasets, layers, models\n",
    "from tensorflow import keras\n",
    "from tensorflow.keras import layers\n",
    "\n",
    "model = models.Sequential()\n",
    "model.add(layers.LSTM(2048, input_shape=(time_step,2)))\n",
    "model.add(layers.Dense(25))\n",
    "\n",
    "model.summary()\n",
    "\n",
    "model.compile(optimizer='adam', loss='mse', metrics=['mae'])\n",
    "\n",
    "history = model.fit(train_input, train_label, epochs=50, verbose=1, shuffle=True, validation_split=0.20,\n",
    "                   callbacks=[WandbCallback(log_weights=True, log_gradients=True, training_data=(train_input, train_label))])"
   ]
  },
  {
   "cell_type": "code",
   "execution_count": 17,
   "id": "f2977e3d",
   "metadata": {},
   "outputs": [
    {
     "name": "stdout",
     "output_type": "stream",
     "text": [
      "1/1 [==============================] - 0s 267ms/step\n"
     ]
    }
   ],
   "source": [
    "test_input = test_input.reshape(1, test_input.shape[0], test_input.shape[1])\n",
    "\n",
    "y_hat = model.predict(test_input)"
   ]
  },
  {
   "cell_type": "code",
   "execution_count": 18,
   "id": "569d2b27",
   "metadata": {},
   "outputs": [
    {
     "data": {
      "text/plain": [
       "(1, 100, 2)"
      ]
     },
     "execution_count": 18,
     "metadata": {},
     "output_type": "execute_result"
    }
   ],
   "source": [
    "test_input.shape"
   ]
  },
  {
   "cell_type": "code",
   "execution_count": 19,
   "id": "6b083de8",
   "metadata": {},
   "outputs": [],
   "source": [
    "test_label = test_label.reshape(1, test_label.shape[0], test_label.shape[1])"
   ]
  },
  {
   "cell_type": "code",
   "execution_count": 20,
   "id": "54e7a073",
   "metadata": {},
   "outputs": [
    {
     "data": {
      "text/plain": [
       "(1, 25, 1)"
      ]
     },
     "execution_count": 20,
     "metadata": {},
     "output_type": "execute_result"
    }
   ],
   "source": [
    "test_label.shape"
   ]
  },
  {
   "cell_type": "code",
   "execution_count": 21,
   "id": "b3e0c133",
   "metadata": {},
   "outputs": [
    {
     "data": {
      "text/plain": [
       "array([[1.1986071, 1.2089248, 1.140406 , 1.0997674, 1.1287305, 1.2311162,\n",
       "        1.164853 , 1.2100549, 1.182358 , 1.106696 , 1.1855949, 1.3561612,\n",
       "        1.207448 , 1.2765167, 1.1921321, 1.2070642, 1.1800146, 1.2510029,\n",
       "        1.226565 , 1.2455767, 1.2561704, 1.2525787, 1.2625327, 1.415725 ,\n",
       "        1.3282268]], dtype=float32)"
      ]
     },
     "execution_count": 21,
     "metadata": {},
     "output_type": "execute_result"
    }
   ],
   "source": [
    "y_hat"
   ]
  },
  {
   "cell_type": "code",
   "execution_count": 22,
   "id": "e37311d1",
   "metadata": {},
   "outputs": [
    {
     "data": {
      "text/plain": [
       "(1, 25)"
      ]
     },
     "execution_count": 22,
     "metadata": {},
     "output_type": "execute_result"
    }
   ],
   "source": [
    "y_hat.shape"
   ]
  },
  {
   "cell_type": "code",
   "execution_count": 23,
   "id": "ad0f0285",
   "metadata": {},
   "outputs": [],
   "source": [
    "y_hat = y_hat.reshape(y_hat.shape[1], 1)"
   ]
  },
  {
   "cell_type": "code",
   "execution_count": 24,
   "id": "69ea1f6f",
   "metadata": {},
   "outputs": [],
   "source": [
    "y_hat = (y_hat*data_std)+data_mean"
   ]
  },
  {
   "cell_type": "code",
   "execution_count": 25,
   "id": "702f2214",
   "metadata": {},
   "outputs": [],
   "source": [
    "#print(scaler.data_max_)"
   ]
  },
  {
   "cell_type": "code",
   "execution_count": 26,
   "id": "1ca1a387",
   "metadata": {},
   "outputs": [],
   "source": [
    "#print(scaler.data_min_)"
   ]
  },
  {
   "cell_type": "code",
   "execution_count": 27,
   "id": "5e40982b",
   "metadata": {},
   "outputs": [],
   "source": [
    "#y_hat = y_hat * (scaler.data_max_[1]-scaler.data_min_[1]) + scaler.data_min_[1]"
   ]
  },
  {
   "cell_type": "code",
   "execution_count": 28,
   "id": "902bb0d7",
   "metadata": {},
   "outputs": [
    {
     "data": {
      "text/plain": [
       "Text(0.5, 1.0, 'LSTM prediction')"
      ]
     },
     "execution_count": 28,
     "metadata": {},
     "output_type": "execute_result"
    },
    {
     "data": {
      "image/png": "[encoded data removed]",
      "text/plain": [
       "<Figure size 1008x576 with 1 Axes>"
      ]
     },
     "metadata": {
      "needs_background": "light"
     },
     "output_type": "display_data"
    }
   ],
   "source": [
    "import matplotlib.pyplot as plt\n",
    "\n",
    "x = range(325)\n",
    "plt.figure(figsize=(14,8))\n",
    "plt.plot(df[300:325]['Sales'], label='original')\n",
    "plt.plot(x[300:325], y_hat, label='prediction')\n",
    "plt.legend()\n",
    "plt.xlabel('Sequence', fontsize=20)\n",
    "plt.ylabel('Sales', fontsize=20)\n",
    "plt.title('LSTM prediction', fontsize=25)"
   ]
  },
  {
   "cell_type": "code",
   "execution_count": 29,
   "id": "051887d3",
   "metadata": {
    "scrolled": true
   },
   "outputs": [
    {
     "name": "stdout",
     "output_type": "stream",
     "text": [
      "1/1 [==============================] - 0s 141ms/step - loss: 0.6881 - mae: 0.7486\n"
     ]
    },
    {
     "data": {
      "text/plain": [
       "[0.6880980134010315, 0.7485998272895813]"
      ]
     },
     "execution_count": 29,
     "metadata": {},
     "output_type": "execute_result"
    }
   ],
   "source": [
    "model.evaluate(test_input, test_label)"
   ]
  },
  {
   "cell_type": "code",
   "execution_count": null,
   "id": "2819448e",
   "metadata": {},
   "outputs": [],
   "source": []
  }
 ],
 "metadata": {
  "kernelspec": {
   "display_name": "Python 3 (ipykernel)",
   "language": "python",
   "name": "python3"
  },
  "language_info": {
   "codemirror_mode": {
    "name": "ipython",
    "version": 3
   },
   "file_extension": ".py",
   "mimetype": "text/x-python",
   "name": "python",
   "nbconvert_exporter": "python",
   "pygments_lexer": "ipython3",
   "version": "3.9.12"
  }
 },
 "nbformat": 4,
 "nbformat_minor": 5
}
