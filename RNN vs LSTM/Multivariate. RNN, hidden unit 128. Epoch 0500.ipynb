{
 "cells": [
  {
   "cell_type": "code",
   "execution_count": 1,
   "id": "fad15599",
   "metadata": {},
   "outputs": [
    {
     "name": "stderr",
     "output_type": "stream",
     "text": [
      "\u001b[34m\u001b[1mwandb\u001b[0m: Currently logged in as: \u001b[33mjintae\u001b[0m. Use \u001b[1m`wandb login --relogin`\u001b[0m to force relogin\n"
     ]
    },
    {
     "data": {
      "text/html": [
       "Tracking run with wandb version 0.13.4"
      ],
      "text/plain": [
       "<IPython.core.display.HTML object>"
      ]
     },
     "metadata": {},
     "output_type": "display_data"
    },
    {
     "data": {
      "text/html": [
       "Run data is saved locally in <code>C:\\Users\\PARK\\Documents\\LAB\\RNN vs LSTM\\FInal Example\\wandb\\run-20221015_184213-1cudq716</code>"
      ],
      "text/plain": [
       "<IPython.core.display.HTML object>"
      ]
     },
     "metadata": {},
     "output_type": "display_data"
    },
    {
     "data": {
      "text/html": [
       "Syncing run <strong><a href=\"https://wandb.ai/jintae/RNN%20seq%20128./runs/1cudq716\" target=\"_blank\">epoch 500</a></strong> to <a href=\"https://wandb.ai/jintae/RNN%20seq%20128.\" target=\"_blank\">Weights & Biases</a> (<a href=\"https://wandb.me/run\" target=\"_blank\">docs</a>)<br/>"
      ],
      "text/plain": [
       "<IPython.core.display.HTML object>"
      ]
     },
     "metadata": {},
     "output_type": "display_data"
    },
    {
     "data": {
      "text/html": [
       "<button onClick=\"this.nextSibling.style.display='block';this.style.display='none';\">Display W&B run</button><iframe src=\"https://wandb.ai/jintae/RNN%20seq%20128./runs/1cudq716?jupyter=true\" style=\"border:none;width:100%;height:420px;display:none;\"></iframe>"
      ],
      "text/plain": [
       "<wandb.sdk.wandb_run.Run at 0x18ea06916a0>"
      ]
     },
     "execution_count": 1,
     "metadata": {},
     "output_type": "execute_result"
    }
   ],
   "source": [
    "import wandb\n",
    "from wandb.keras import WandbCallback\n",
    "wandb.init(project=\"RNN seq 128.\", name=\"epoch 500\")"
   ]
  },
  {
   "cell_type": "code",
   "execution_count": 2,
   "id": "650bae84",
   "metadata": {},
   "outputs": [
    {
     "name": "stdout",
     "output_type": "stream",
     "text": [
      "   DATE  Sales\n",
      "0     0   3459\n",
      "1     1   3458\n",
      "2     2   4002\n",
      "3     3   4564\n",
      "4     4   4221\n"
     ]
    }
   ],
   "source": [
    "import pandas as pd\n",
    "\n",
    "df = pd.read_csv('C:/Users/PARK/Desktop/Alcohol_Sales.csv')\n",
    "print(df.head())"
   ]
  },
  {
   "cell_type": "code",
   "execution_count": 3,
   "id": "71e18e17",
   "metadata": {},
   "outputs": [
    {
     "data": {
      "text/plain": [
       "(325, 2)"
      ]
     },
     "execution_count": 3,
     "metadata": {},
     "output_type": "execute_result"
    }
   ],
   "source": [
    "df.shape"
   ]
  },
  {
   "cell_type": "code",
   "execution_count": 4,
   "id": "5f4f8fb7",
   "metadata": {},
   "outputs": [],
   "source": [
    "import numpy as np\n",
    "\n",
    "data = df.to_numpy()"
   ]
  },
  {
   "cell_type": "code",
   "execution_count": 5,
   "id": "c6063052",
   "metadata": {},
   "outputs": [
    {
     "data": {
      "text/plain": [
       "(325, 2)"
      ]
     },
     "execution_count": 5,
     "metadata": {},
     "output_type": "execute_result"
    }
   ],
   "source": [
    "data.shape"
   ]
  },
  {
   "cell_type": "code",
   "execution_count": 6,
   "id": "01930485",
   "metadata": {},
   "outputs": [
    {
     "data": {
      "text/plain": [
       "array([[   0, 3459],\n",
       "       [   1, 3458],\n",
       "       [   2, 4002],\n",
       "       [   3, 4564],\n",
       "       [   4, 4221]], dtype=int64)"
      ]
     },
     "execution_count": 6,
     "metadata": {},
     "output_type": "execute_result"
    }
   ],
   "source": [
    "data[0:5]"
   ]
  },
  {
   "cell_type": "code",
   "execution_count": 7,
   "id": "ad83b404",
   "metadata": {},
   "outputs": [],
   "source": [
    "# from sklearn.preprocessing import MinMaxScaler\n",
    "\n",
    "# scaler = MinMaxScaler()\n",
    "\n",
    "# data = scaler.fit_transform(data)"
   ]
  },
  {
   "cell_type": "code",
   "execution_count": 8,
   "id": "17aef2ea",
   "metadata": {},
   "outputs": [],
   "source": [
    "data_mean = data.mean()\n",
    "data_std = data.std()\n",
    "\n",
    "data = (data - data_mean)/data_std"
   ]
  },
  {
   "cell_type": "code",
   "execution_count": 9,
   "id": "63fe0032",
   "metadata": {},
   "outputs": [
    {
     "data": {
      "text/plain": [
       "array([[-0.9194862 , -0.12914209],\n",
       "       [-0.91925771, -0.12937058],\n",
       "       [-0.91902922, -0.00507246],\n",
       "       [-0.91880073,  0.12333846],\n",
       "       [-0.91857224,  0.04496667]])"
      ]
     },
     "execution_count": 9,
     "metadata": {},
     "output_type": "execute_result"
    }
   ],
   "source": [
    "data[0:5]"
   ]
  },
  {
   "cell_type": "code",
   "execution_count": 10,
   "id": "87ac24ef",
   "metadata": {
    "scrolled": true
   },
   "outputs": [],
   "source": [
    "train_input = []\n",
    "train_label = []\n",
    "\n",
    "data_len = 325\n",
    "time_step = 100\n",
    "out_dim = 25\n",
    "\n",
    "for i in range(176):\n",
    "    _input = data[i:i+time_step]\n",
    "    _label = data[i+time_step:i+time_step+out_dim]\n",
    "    \n",
    "    train_input.append(_input)\n",
    "    train_label.append(_label)\n",
    "    \n",
    "\n",
    "train_input = np.array(train_input)\n",
    "train_label = np.array(train_label)\n",
    "train_label = np.delete(train_label, 0, axis=2)\n",
    "\n",
    "\n",
    "test_input = np.array(data[data_len-out_dim-time_step:data_len-out_dim])\n",
    "test_label =np.array(data[300:325])\n",
    "test_label = np.delete(test_label, 0, axis=1)"
   ]
  },
  {
   "cell_type": "code",
   "execution_count": 11,
   "id": "41975dc7",
   "metadata": {},
   "outputs": [
    {
     "data": {
      "text/plain": [
       "(176, 100, 2)"
      ]
     },
     "execution_count": 11,
     "metadata": {},
     "output_type": "execute_result"
    }
   ],
   "source": [
    "train_input.shape"
   ]
  },
  {
   "cell_type": "code",
   "execution_count": 12,
   "id": "b762c3ba",
   "metadata": {},
   "outputs": [
    {
     "data": {
      "text/plain": [
       "(176, 25, 1)"
      ]
     },
     "execution_count": 12,
     "metadata": {},
     "output_type": "execute_result"
    }
   ],
   "source": [
    "train_label.shape"
   ]
  },
  {
   "cell_type": "code",
   "execution_count": 13,
   "id": "127c63a2",
   "metadata": {},
   "outputs": [
    {
     "data": {
      "text/plain": [
       "(100, 2)"
      ]
     },
     "execution_count": 13,
     "metadata": {},
     "output_type": "execute_result"
    }
   ],
   "source": [
    "test_input.shape"
   ]
  },
  {
   "cell_type": "code",
   "execution_count": 14,
   "id": "6647472d",
   "metadata": {},
   "outputs": [
    {
     "data": {
      "text/plain": [
       "(25, 1)"
      ]
     },
     "execution_count": 14,
     "metadata": {},
     "output_type": "execute_result"
    }
   ],
   "source": [
    "test_label.shape"
   ]
  },
  {
   "cell_type": "code",
   "execution_count": 15,
   "id": "5d83c07f",
   "metadata": {},
   "outputs": [],
   "source": [
    "np.random.seed(10)\n",
    "shuffled_indices = np.random.permutation(np.arange(train_input.shape[0]))\n",
    "train_input = train_input[shuffled_indices, :, :]\n",
    "train_label = train_label[shuffled_indices, :]"
   ]
  },
  {
   "cell_type": "code",
   "execution_count": 16,
   "id": "a183926e",
   "metadata": {
    "scrolled": true
   },
   "outputs": [
    {
     "name": "stdout",
     "output_type": "stream",
     "text": [
      "Model: \"sequential\"\n",
      "_________________________________________________________________\n",
      " Layer (type)                Output Shape              Param #   \n",
      "=================================================================\n",
      " simple_rnn (SimpleRNN)      (None, 128)               16768     \n",
      "                                                                 \n",
      " dense (Dense)               (None, 25)                3225      \n",
      "                                                                 \n",
      "=================================================================\n",
      "Total params: 19,993\n",
      "Trainable params: 19,993\n",
      "Non-trainable params: 0\n",
      "_________________________________________________________________\n"
     ]
    },
    {
     "name": "stderr",
     "output_type": "stream",
     "text": [
      "\u001b[34m\u001b[1mwandb\u001b[0m: \u001b[33mWARNING\u001b[0m The save_model argument by default saves the model in the HDF5 format that cannot save custom objects like subclassed models and custom layers. This behavior will be deprecated in a future release in favor of the SavedModel format. Meanwhile, the HDF5 model is saved as W&B files and the SavedModel as W&B Artifacts.\n"
     ]
    },
    {
     "name": "stdout",
     "output_type": "stream",
     "text": [
      "Epoch 1/500\n",
      "4/5 [=======================>......] - ETA: 0s - loss: 1.0380 - mae: 0.8761INFO:tensorflow:Assets written to: C:\\Users\\PARK\\Documents\\LAB\\RNN vs LSTM\\FInal Example\\wandb\\run-20221015_184213-1cudq716\\files\\model-best\\assets\n"
     ]
    },
    {
     "name": "stderr",
     "output_type": "stream",
     "text": [
      "\u001b[34m\u001b[1mwandb\u001b[0m: Adding directory to artifact (C:\\Users\\PARK\\Documents\\LAB\\RNN vs LSTM\\FInal Example\\wandb\\run-20221015_184213-1cudq716\\files\\model-best)... Done. 0.0s\n"
     ]
    },
    {
     "name": "stdout",
     "output_type": "stream",
     "text": [
      "5/5 [==============================] - 5s 887ms/step - loss: 0.9988 - mae: 0.8547 - val_loss: 0.4270 - val_mae: 0.5277\n",
      "Epoch 2/500\n",
      "5/5 [==============================] - ETA: 0s - loss: 0.3170 - mae: 0.4482INFO:tensorflow:Assets written to: C:\\Users\\PARK\\Documents\\LAB\\RNN vs LSTM\\FInal Example\\wandb\\run-20221015_184213-1cudq716\\files\\model-best\\assets\n"
     ]
    },
    {
     "name": "stderr",
     "output_type": "stream",
     "text": [
      "\u001b[34m\u001b[1mwandb\u001b[0m: Adding directory to artifact (C:\\Users\\PARK\\Documents\\LAB\\RNN vs LSTM\\FInal Example\\wandb\\run-20221015_184213-1cudq716\\files\\model-best)... Done. 0.0s\n"
     ]
    },
    {
     "name": "stdout",
     "output_type": "stream",
     "text": [
      "5/5 [==============================] - 2s 505ms/step - loss: 0.3170 - mae: 0.4482 - val_loss: 0.1960 - val_mae: 0.3684\n",
      "Epoch 3/500\n",
      "5/5 [==============================] - ETA: 0s - loss: 0.1869 - mae: 0.3537INFO:tensorflow:Assets written to: C:\\Users\\PARK\\Documents\\LAB\\RNN vs LSTM\\FInal Example\\wandb\\run-20221015_184213-1cudq716\\files\\model-best\\assets\n"
     ]
    },
    {
     "name": "stderr",
     "output_type": "stream",
     "text": [
      "\u001b[34m\u001b[1mwandb\u001b[0m: Adding directory to artifact (C:\\Users\\PARK\\Documents\\LAB\\RNN vs LSTM\\FInal Example\\wandb\\run-20221015_184213-1cudq716\\files\\model-best)... Done. 0.0s\n"
     ]
    },
    {
     "name": "stdout",
     "output_type": "stream",
     "text": [
      "5/5 [==============================] - 2s 516ms/step - loss: 0.1869 - mae: 0.3537 - val_loss: 0.1741 - val_mae: 0.3400\n",
      "Epoch 4/500\n",
      "5/5 [==============================] - ETA: 0s - loss: 0.1683 - mae: 0.3356INFO:tensorflow:Assets written to: C:\\Users\\PARK\\Documents\\LAB\\RNN vs LSTM\\FInal Example\\wandb\\run-20221015_184213-1cudq716\\files\\model-best\\assets\n"
     ]
    },
    {
     "name": "stderr",
     "output_type": "stream",
     "text": [
      "\u001b[34m\u001b[1mwandb\u001b[0m: Adding directory to artifact (C:\\Users\\PARK\\Documents\\LAB\\RNN vs LSTM\\FInal Example\\wandb\\run-20221015_184213-1cudq716\\files\\model-best)... Done. 0.0s\n"
     ]
    },
    {
     "name": "stdout",
     "output_type": "stream",
     "text": [
      "5/5 [==============================] - 2s 510ms/step - loss: 0.1683 - mae: 0.3356 - val_loss: 0.1381 - val_mae: 0.2981\n",
      "Epoch 5/500\n",
      "5/5 [==============================] - ETA: 0s - loss: 0.1283 - mae: 0.2879INFO:tensorflow:Assets written to: C:\\Users\\PARK\\Documents\\LAB\\RNN vs LSTM\\FInal Example\\wandb\\run-20221015_184213-1cudq716\\files\\model-best\\assets\n"
     ]
    },
    {
     "name": "stderr",
     "output_type": "stream",
     "text": [
      "\u001b[34m\u001b[1mwandb\u001b[0m: Adding directory to artifact (C:\\Users\\PARK\\Documents\\LAB\\RNN vs LSTM\\FInal Example\\wandb\\run-20221015_184213-1cudq716\\files\\model-best)... Done. 0.0s\n"
     ]
    },
    {
     "name": "stdout",
     "output_type": "stream",
     "text": [
      "5/5 [==============================] - 2s 524ms/step - loss: 0.1283 - mae: 0.2879 - val_loss: 0.1076 - val_mae: 0.2628\n",
      "Epoch 6/500\n",
      "5/5 [==============================] - 1s 145ms/step - loss: 0.1109 - mae: 0.2663 - val_loss: 0.1347 - val_mae: 0.2972\n",
      "Epoch 7/500\n",
      "5/5 [==============================] - ETA: 0s - loss: 0.1323 - mae: 0.2939INFO:tensorflow:Assets written to: C:\\Users\\PARK\\Documents\\LAB\\RNN vs LSTM\\FInal Example\\wandb\\run-20221015_184213-1cudq716\\files\\model-best\\assets\n"
     ]
    },
    {
     "name": "stderr",
     "output_type": "stream",
     "text": [
      "\u001b[34m\u001b[1mwandb\u001b[0m: Adding directory to artifact (C:\\Users\\PARK\\Documents\\LAB\\RNN vs LSTM\\FInal Example\\wandb\\run-20221015_184213-1cudq716\\files\\model-best)... Done. 0.0s\n"
     ]
    },
    {
     "name": "stdout",
     "output_type": "stream",
     "text": [
      "5/5 [==============================] - 2s 482ms/step - loss: 0.1323 - mae: 0.2939 - val_loss: 0.0893 - val_mae: 0.2407\n",
      "Epoch 8/500\n",
      "5/5 [==============================] - 1s 181ms/step - loss: 0.1137 - mae: 0.2740 - val_loss: 0.1132 - val_mae: 0.2771\n",
      "Epoch 9/500\n",
      "5/5 [==============================] - 1s 143ms/step - loss: 0.0965 - mae: 0.2505 - val_loss: 0.0970 - val_mae: 0.2512\n",
      "Epoch 10/500\n",
      "5/5 [==============================] - ETA: 0s - loss: 0.0966 - mae: 0.2483INFO:tensorflow:Assets written to: C:\\Users\\PARK\\Documents\\LAB\\RNN vs LSTM\\FInal Example\\wandb\\run-20221015_184213-1cudq716\\files\\model-best\\assets\n"
     ]
    },
    {
     "name": "stderr",
     "output_type": "stream",
     "text": [
      "\u001b[34m\u001b[1mwandb\u001b[0m: Adding directory to artifact (C:\\Users\\PARK\\Documents\\LAB\\RNN vs LSTM\\FInal Example\\wandb\\run-20221015_184213-1cudq716\\files\\model-best)... Done. 0.0s\n"
     ]
    },
    {
     "name": "stdout",
     "output_type": "stream",
     "text": [
      "5/5 [==============================] - 2s 492ms/step - loss: 0.0966 - mae: 0.2483 - val_loss: 0.0842 - val_mae: 0.2336\n",
      "Epoch 11/500\n",
      "5/5 [==============================] - ETA: 0s - loss: 0.0833 - mae: 0.2313INFO:tensorflow:Assets written to: C:\\Users\\PARK\\Documents\\LAB\\RNN vs LSTM\\FInal Example\\wandb\\run-20221015_184213-1cudq716\\files\\model-best\\assets\n"
     ]
    },
    {
     "name": "stderr",
     "output_type": "stream",
     "text": [
      "\u001b[34m\u001b[1mwandb\u001b[0m: Adding directory to artifact (C:\\Users\\PARK\\Documents\\LAB\\RNN vs LSTM\\FInal Example\\wandb\\run-20221015_184213-1cudq716\\files\\model-best)... Done. 0.0s\n"
     ]
    },
    {
     "name": "stdout",
     "output_type": "stream",
     "text": [
      "5/5 [==============================] - 2s 485ms/step - loss: 0.0833 - mae: 0.2313 - val_loss: 0.0703 - val_mae: 0.2125\n",
      "Epoch 12/500\n",
      "5/5 [==============================] - ETA: 0s - loss: 0.0710 - mae: 0.2132INFO:tensorflow:Assets written to: C:\\Users\\PARK\\Documents\\LAB\\RNN vs LSTM\\FInal Example\\wandb\\run-20221015_184213-1cudq716\\files\\model-best\\assets\n"
     ]
    },
    {
     "name": "stderr",
     "output_type": "stream",
     "text": [
      "\u001b[34m\u001b[1mwandb\u001b[0m: Adding directory to artifact (C:\\Users\\PARK\\Documents\\LAB\\RNN vs LSTM\\FInal Example\\wandb\\run-20221015_184213-1cudq716\\files\\model-best)... Done. 0.0s\n"
     ]
    },
    {
     "name": "stdout",
     "output_type": "stream",
     "text": [
      "5/5 [==============================] - 2s 509ms/step - loss: 0.0710 - mae: 0.2132 - val_loss: 0.0650 - val_mae: 0.1985\n",
      "Epoch 13/500\n",
      "5/5 [==============================] - ETA: 0s - loss: 0.0649 - mae: 0.1966INFO:tensorflow:Assets written to: C:\\Users\\PARK\\Documents\\LAB\\RNN vs LSTM\\FInal Example\\wandb\\run-20221015_184213-1cudq716\\files\\model-best\\assets\n"
     ]
    },
    {
     "name": "stderr",
     "output_type": "stream",
     "text": [
      "\u001b[34m\u001b[1mwandb\u001b[0m: Adding directory to artifact (C:\\Users\\PARK\\Documents\\LAB\\RNN vs LSTM\\FInal Example\\wandb\\run-20221015_184213-1cudq716\\files\\model-best)... Done. 0.0s\n"
     ]
    },
    {
     "name": "stdout",
     "output_type": "stream",
     "text": [
      "5/5 [==============================] - 2s 504ms/step - loss: 0.0649 - mae: 0.1966 - val_loss: 0.0621 - val_mae: 0.1960\n",
      "Epoch 14/500\n",
      "5/5 [==============================] - 1s 159ms/step - loss: 0.0629 - mae: 0.1971 - val_loss: 0.0656 - val_mae: 0.1981\n",
      "Epoch 15/500\n",
      "5/5 [==============================] - ETA: 0s - loss: 0.0603 - mae: 0.1898INFO:tensorflow:Assets written to: C:\\Users\\PARK\\Documents\\LAB\\RNN vs LSTM\\FInal Example\\wandb\\run-20221015_184213-1cudq716\\files\\model-best\\assets\n"
     ]
    },
    {
     "name": "stderr",
     "output_type": "stream",
     "text": [
      "\u001b[34m\u001b[1mwandb\u001b[0m: Adding directory to artifact (C:\\Users\\PARK\\Documents\\LAB\\RNN vs LSTM\\FInal Example\\wandb\\run-20221015_184213-1cudq716\\files\\model-best)... Done. 0.0s\n"
     ]
    },
    {
     "name": "stdout",
     "output_type": "stream",
     "text": [
      "5/5 [==============================] - 2s 486ms/step - loss: 0.0603 - mae: 0.1898 - val_loss: 0.0592 - val_mae: 0.1900\n",
      "Epoch 16/500\n",
      "5/5 [==============================] - ETA: 0s - loss: 0.0589 - mae: 0.1875INFO:tensorflow:Assets written to: C:\\Users\\PARK\\Documents\\LAB\\RNN vs LSTM\\FInal Example\\wandb\\run-20221015_184213-1cudq716\\files\\model-best\\assets\n"
     ]
    },
    {
     "name": "stderr",
     "output_type": "stream",
     "text": [
      "\u001b[34m\u001b[1mwandb\u001b[0m: Adding directory to artifact (C:\\Users\\PARK\\Documents\\LAB\\RNN vs LSTM\\FInal Example\\wandb\\run-20221015_184213-1cudq716\\files\\model-best)... Done. 0.0s\n"
     ]
    },
    {
     "name": "stdout",
     "output_type": "stream",
     "text": [
      "5/5 [==============================] - 2s 531ms/step - loss: 0.0589 - mae: 0.1875 - val_loss: 0.0586 - val_mae: 0.1868\n",
      "Epoch 17/500\n",
      "5/5 [==============================] - ETA: 0s - loss: 0.0569 - mae: 0.1844INFO:tensorflow:Assets written to: C:\\Users\\PARK\\Documents\\LAB\\RNN vs LSTM\\FInal Example\\wandb\\run-20221015_184213-1cudq716\\files\\model-best\\assets\n"
     ]
    },
    {
     "name": "stderr",
     "output_type": "stream",
     "text": [
      "\u001b[34m\u001b[1mwandb\u001b[0m: Adding directory to artifact (C:\\Users\\PARK\\Documents\\LAB\\RNN vs LSTM\\FInal Example\\wandb\\run-20221015_184213-1cudq716\\files\\model-best)... Done. 0.0s\n"
     ]
    },
    {
     "name": "stdout",
     "output_type": "stream",
     "text": [
      "5/5 [==============================] - 2s 504ms/step - loss: 0.0569 - mae: 0.1844 - val_loss: 0.0570 - val_mae: 0.1869\n",
      "Epoch 18/500\n",
      "5/5 [==============================] - 1s 178ms/step - loss: 0.0558 - mae: 0.1841 - val_loss: 0.0587 - val_mae: 0.1859\n",
      "Epoch 19/500\n",
      "4/5 [=======================>......] - ETA: 0s - loss: 0.0556 - mae: 0.1816INFO:tensorflow:Assets written to: C:\\Users\\PARK\\Documents\\LAB\\RNN vs LSTM\\FInal Example\\wandb\\run-20221015_184213-1cudq716\\files\\model-best\\assets\n"
     ]
    },
    {
     "name": "stderr",
     "output_type": "stream",
     "text": [
      "\u001b[34m\u001b[1mwandb\u001b[0m: Adding directory to artifact (C:\\Users\\PARK\\Documents\\LAB\\RNN vs LSTM\\FInal Example\\wandb\\run-20221015_184213-1cudq716\\files\\model-best)... Done. 0.0s\n"
     ]
    },
    {
     "name": "stdout",
     "output_type": "stream",
     "text": [
      "5/5 [==============================] - 2s 499ms/step - loss: 0.0554 - mae: 0.1809 - val_loss: 0.0552 - val_mae: 0.1836\n",
      "Epoch 20/500\n",
      "5/5 [==============================] - ETA: 0s - loss: 0.0553 - mae: 0.1818INFO:tensorflow:Assets written to: C:\\Users\\PARK\\Documents\\LAB\\RNN vs LSTM\\FInal Example\\wandb\\run-20221015_184213-1cudq716\\files\\model-best\\assets\n"
     ]
    },
    {
     "name": "stderr",
     "output_type": "stream",
     "text": [
      "\u001b[34m\u001b[1mwandb\u001b[0m: Adding directory to artifact (C:\\Users\\PARK\\Documents\\LAB\\RNN vs LSTM\\FInal Example\\wandb\\run-20221015_184213-1cudq716\\files\\model-best)... Done. 0.0s\n"
     ]
    },
    {
     "name": "stdout",
     "output_type": "stream",
     "text": [
      "5/5 [==============================] - 2s 504ms/step - loss: 0.0553 - mae: 0.1818 - val_loss: 0.0548 - val_mae: 0.1800\n",
      "Epoch 21/500\n",
      "5/5 [==============================] - ETA: 0s - loss: 0.0538 - mae: 0.1797INFO:tensorflow:Assets written to: C:\\Users\\PARK\\Documents\\LAB\\RNN vs LSTM\\FInal Example\\wandb\\run-20221015_184213-1cudq716\\files\\model-best\\assets\n"
     ]
    },
    {
     "name": "stderr",
     "output_type": "stream",
     "text": [
      "\u001b[34m\u001b[1mwandb\u001b[0m: Adding directory to artifact (C:\\Users\\PARK\\Documents\\LAB\\RNN vs LSTM\\FInal Example\\wandb\\run-20221015_184213-1cudq716\\files\\model-best)... Done. 0.0s\n"
     ]
    },
    {
     "name": "stdout",
     "output_type": "stream",
     "text": [
      "5/5 [==============================] - 2s 495ms/step - loss: 0.0538 - mae: 0.1797 - val_loss: 0.0544 - val_mae: 0.1787\n",
      "Epoch 22/500\n",
      "5/5 [==============================] - ETA: 0s - loss: 0.0525 - mae: 0.1763INFO:tensorflow:Assets written to: C:\\Users\\PARK\\Documents\\LAB\\RNN vs LSTM\\FInal Example\\wandb\\run-20221015_184213-1cudq716\\files\\model-best\\assets\n"
     ]
    },
    {
     "name": "stderr",
     "output_type": "stream",
     "text": [
      "\u001b[34m\u001b[1mwandb\u001b[0m: Adding directory to artifact (C:\\Users\\PARK\\Documents\\LAB\\RNN vs LSTM\\FInal Example\\wandb\\run-20221015_184213-1cudq716\\files\\model-best)... Done. 0.0s\n"
     ]
    },
    {
     "name": "stdout",
     "output_type": "stream",
     "text": [
      "5/5 [==============================] - 2s 510ms/step - loss: 0.0525 - mae: 0.1763 - val_loss: 0.0525 - val_mae: 0.1777\n",
      "Epoch 23/500\n",
      "5/5 [==============================] - ETA: 0s - loss: 0.0520 - mae: 0.1759INFO:tensorflow:Assets written to: C:\\Users\\PARK\\Documents\\LAB\\RNN vs LSTM\\FInal Example\\wandb\\run-20221015_184213-1cudq716\\files\\model-best\\assets\n"
     ]
    },
    {
     "name": "stderr",
     "output_type": "stream",
     "text": [
      "\u001b[34m\u001b[1mwandb\u001b[0m: Adding directory to artifact (C:\\Users\\PARK\\Documents\\LAB\\RNN vs LSTM\\FInal Example\\wandb\\run-20221015_184213-1cudq716\\files\\model-best)... Done. 0.0s\n"
     ]
    },
    {
     "name": "stdout",
     "output_type": "stream",
     "text": [
      "5/5 [==============================] - 2s 523ms/step - loss: 0.0520 - mae: 0.1759 - val_loss: 0.0513 - val_mae: 0.1761\n",
      "Epoch 24/500\n",
      "5/5 [==============================] - 1s 178ms/step - loss: 0.0512 - mae: 0.1744 - val_loss: 0.0515 - val_mae: 0.1769\n",
      "Epoch 25/500\n",
      "5/5 [==============================] - ETA: 0s - loss: 0.0505 - mae: 0.1722INFO:tensorflow:Assets written to: C:\\Users\\PARK\\Documents\\LAB\\RNN vs LSTM\\FInal Example\\wandb\\run-20221015_184213-1cudq716\\files\\model-best\\assets\n"
     ]
    },
    {
     "name": "stderr",
     "output_type": "stream",
     "text": [
      "\u001b[34m\u001b[1mwandb\u001b[0m: Adding directory to artifact (C:\\Users\\PARK\\Documents\\LAB\\RNN vs LSTM\\FInal Example\\wandb\\run-20221015_184213-1cudq716\\files\\model-best)... Done. 0.0s\n"
     ]
    },
    {
     "name": "stdout",
     "output_type": "stream",
     "text": [
      "5/5 [==============================] - 2s 477ms/step - loss: 0.0505 - mae: 0.1722 - val_loss: 0.0511 - val_mae: 0.1762\n",
      "Epoch 26/500\n",
      "5/5 [==============================] - 1s 165ms/step - loss: 0.0497 - mae: 0.1719 - val_loss: 0.0536 - val_mae: 0.1776\n",
      "Epoch 27/500\n",
      "5/5 [==============================] - ETA: 0s - loss: 0.0497 - mae: 0.1711INFO:tensorflow:Assets written to: C:\\Users\\PARK\\Documents\\LAB\\RNN vs LSTM\\FInal Example\\wandb\\run-20221015_184213-1cudq716\\files\\model-best\\assets\n"
     ]
    },
    {
     "name": "stderr",
     "output_type": "stream",
     "text": [
      "\u001b[34m\u001b[1mwandb\u001b[0m: Adding directory to artifact (C:\\Users\\PARK\\Documents\\LAB\\RNN vs LSTM\\FInal Example\\wandb\\run-20221015_184213-1cudq716\\files\\model-best)... Done. 0.0s\n"
     ]
    },
    {
     "name": "stdout",
     "output_type": "stream",
     "text": [
      "5/5 [==============================] - 2s 519ms/step - loss: 0.0497 - mae: 0.1711 - val_loss: 0.0497 - val_mae: 0.1697\n",
      "Epoch 28/500\n",
      "5/5 [==============================] - ETA: 0s - loss: 0.0494 - mae: 0.1701INFO:tensorflow:Assets written to: C:\\Users\\PARK\\Documents\\LAB\\RNN vs LSTM\\FInal Example\\wandb\\run-20221015_184213-1cudq716\\files\\model-best\\assets\n"
     ]
    },
    {
     "name": "stderr",
     "output_type": "stream",
     "text": [
      "\u001b[34m\u001b[1mwandb\u001b[0m: Adding directory to artifact (C:\\Users\\PARK\\Documents\\LAB\\RNN vs LSTM\\FInal Example\\wandb\\run-20221015_184213-1cudq716\\files\\model-best)... Done. 0.0s\n"
     ]
    },
    {
     "name": "stdout",
     "output_type": "stream",
     "text": [
      "5/5 [==============================] - 2s 524ms/step - loss: 0.0494 - mae: 0.1701 - val_loss: 0.0491 - val_mae: 0.1725\n",
      "Epoch 29/500\n",
      "5/5 [==============================] - ETA: 0s - loss: 0.0484 - mae: 0.1686INFO:tensorflow:Assets written to: C:\\Users\\PARK\\Documents\\LAB\\RNN vs LSTM\\FInal Example\\wandb\\run-20221015_184213-1cudq716\\files\\model-best\\assets\n"
     ]
    },
    {
     "name": "stderr",
     "output_type": "stream",
     "text": [
      "\u001b[34m\u001b[1mwandb\u001b[0m: Adding directory to artifact (C:\\Users\\PARK\\Documents\\LAB\\RNN vs LSTM\\FInal Example\\wandb\\run-20221015_184213-1cudq716\\files\\model-best)... Done. 0.0s\n"
     ]
    },
    {
     "name": "stdout",
     "output_type": "stream",
     "text": [
      "5/5 [==============================] - 2s 512ms/step - loss: 0.0484 - mae: 0.1686 - val_loss: 0.0488 - val_mae: 0.1699\n",
      "Epoch 30/500\n",
      "5/5 [==============================] - ETA: 0s - loss: 0.0468 - mae: 0.1660INFO:tensorflow:Assets written to: C:\\Users\\PARK\\Documents\\LAB\\RNN vs LSTM\\FInal Example\\wandb\\run-20221015_184213-1cudq716\\files\\model-best\\assets\n"
     ]
    },
    {
     "name": "stderr",
     "output_type": "stream",
     "text": [
      "\u001b[34m\u001b[1mwandb\u001b[0m: Adding directory to artifact (C:\\Users\\PARK\\Documents\\LAB\\RNN vs LSTM\\FInal Example\\wandb\\run-20221015_184213-1cudq716\\files\\model-best)... Done. 0.0s\n"
     ]
    },
    {
     "name": "stdout",
     "output_type": "stream",
     "text": [
      "5/5 [==============================] - 2s 477ms/step - loss: 0.0468 - mae: 0.1660 - val_loss: 0.0479 - val_mae: 0.1674\n",
      "Epoch 31/500\n",
      "5/5 [==============================] - 1s 161ms/step - loss: 0.0462 - mae: 0.1652 - val_loss: 0.0480 - val_mae: 0.1679\n",
      "Epoch 32/500\n",
      "5/5 [==============================] - ETA: 0s - loss: 0.0448 - mae: 0.1621INFO:tensorflow:Assets written to: C:\\Users\\PARK\\Documents\\LAB\\RNN vs LSTM\\FInal Example\\wandb\\run-20221015_184213-1cudq716\\files\\model-best\\assets\n"
     ]
    },
    {
     "name": "stderr",
     "output_type": "stream",
     "text": [
      "\u001b[34m\u001b[1mwandb\u001b[0m: Adding directory to artifact (C:\\Users\\PARK\\Documents\\LAB\\RNN vs LSTM\\FInal Example\\wandb\\run-20221015_184213-1cudq716\\files\\model-best)... Done. 0.0s\n"
     ]
    },
    {
     "name": "stdout",
     "output_type": "stream",
     "text": [
      "5/5 [==============================] - 2s 482ms/step - loss: 0.0448 - mae: 0.1621 - val_loss: 0.0456 - val_mae: 0.1641\n",
      "Epoch 33/500\n",
      "5/5 [==============================] - ETA: 0s - loss: 0.0439 - mae: 0.1598INFO:tensorflow:Assets written to: C:\\Users\\PARK\\Documents\\LAB\\RNN vs LSTM\\FInal Example\\wandb\\run-20221015_184213-1cudq716\\files\\model-best\\assets\n"
     ]
    },
    {
     "name": "stderr",
     "output_type": "stream",
     "text": [
      "\u001b[34m\u001b[1mwandb\u001b[0m: Adding directory to artifact (C:\\Users\\PARK\\Documents\\LAB\\RNN vs LSTM\\FInal Example\\wandb\\run-20221015_184213-1cudq716\\files\\model-best)... Done. 0.0s\n"
     ]
    },
    {
     "name": "stdout",
     "output_type": "stream",
     "text": [
      "5/5 [==============================] - 2s 525ms/step - loss: 0.0439 - mae: 0.1598 - val_loss: 0.0444 - val_mae: 0.1612\n",
      "Epoch 34/500\n",
      "5/5 [==============================] - ETA: 0s - loss: 0.0429 - mae: 0.1578INFO:tensorflow:Assets written to: C:\\Users\\PARK\\Documents\\LAB\\RNN vs LSTM\\FInal Example\\wandb\\run-20221015_184213-1cudq716\\files\\model-best\\assets\n"
     ]
    },
    {
     "name": "stderr",
     "output_type": "stream",
     "text": [
      "\u001b[34m\u001b[1mwandb\u001b[0m: Adding directory to artifact (C:\\Users\\PARK\\Documents\\LAB\\RNN vs LSTM\\FInal Example\\wandb\\run-20221015_184213-1cudq716\\files\\model-best)... Done. 0.0s\n"
     ]
    },
    {
     "name": "stdout",
     "output_type": "stream",
     "text": [
      "5/5 [==============================] - 2s 522ms/step - loss: 0.0429 - mae: 0.1578 - val_loss: 0.0440 - val_mae: 0.1604\n",
      "Epoch 35/500\n",
      "5/5 [==============================] - ETA: 0s - loss: 0.0426 - mae: 0.1578INFO:tensorflow:Assets written to: C:\\Users\\PARK\\Documents\\LAB\\RNN vs LSTM\\FInal Example\\wandb\\run-20221015_184213-1cudq716\\files\\model-best\\assets\n"
     ]
    },
    {
     "name": "stderr",
     "output_type": "stream",
     "text": [
      "\u001b[34m\u001b[1mwandb\u001b[0m: Adding directory to artifact (C:\\Users\\PARK\\Documents\\LAB\\RNN vs LSTM\\FInal Example\\wandb\\run-20221015_184213-1cudq716\\files\\model-best)... Done. 0.0s\n"
     ]
    },
    {
     "name": "stdout",
     "output_type": "stream",
     "text": [
      "5/5 [==============================] - 2s 531ms/step - loss: 0.0426 - mae: 0.1578 - val_loss: 0.0435 - val_mae: 0.1625\n",
      "Epoch 36/500\n",
      "5/5 [==============================] - 1s 176ms/step - loss: 0.0438 - mae: 0.1619 - val_loss: 0.0451 - val_mae: 0.1647\n",
      "Epoch 37/500\n",
      "5/5 [==============================] - 1s 139ms/step - loss: 0.0420 - mae: 0.1589 - val_loss: 0.0453 - val_mae: 0.1624\n",
      "Epoch 38/500\n",
      "5/5 [==============================] - 1s 143ms/step - loss: 0.0430 - mae: 0.1587 - val_loss: 0.0439 - val_mae: 0.1619\n",
      "Epoch 39/500\n",
      "5/5 [==============================] - ETA: 0s - loss: 0.0418 - mae: 0.1574INFO:tensorflow:Assets written to: C:\\Users\\PARK\\Documents\\LAB\\RNN vs LSTM\\FInal Example\\wandb\\run-20221015_184213-1cudq716\\files\\model-best\\assets\n"
     ]
    },
    {
     "name": "stderr",
     "output_type": "stream",
     "text": [
      "\u001b[34m\u001b[1mwandb\u001b[0m: Adding directory to artifact (C:\\Users\\PARK\\Documents\\LAB\\RNN vs LSTM\\FInal Example\\wandb\\run-20221015_184213-1cudq716\\files\\model-best)... Done. 0.0s\n"
     ]
    },
    {
     "name": "stdout",
     "output_type": "stream",
     "text": [
      "5/5 [==============================] - 2s 492ms/step - loss: 0.0418 - mae: 0.1574 - val_loss: 0.0417 - val_mae: 0.1592\n",
      "Epoch 40/500\n",
      "4/5 [=======================>......] - ETA: 0s - loss: 0.0392 - mae: 0.1531INFO:tensorflow:Assets written to: C:\\Users\\PARK\\Documents\\LAB\\RNN vs LSTM\\FInal Example\\wandb\\run-20221015_184213-1cudq716\\files\\model-best\\assets\n"
     ]
    },
    {
     "name": "stderr",
     "output_type": "stream",
     "text": [
      "\u001b[34m\u001b[1mwandb\u001b[0m: Adding directory to artifact (C:\\Users\\PARK\\Documents\\LAB\\RNN vs LSTM\\FInal Example\\wandb\\run-20221015_184213-1cudq716\\files\\model-best)... Done. 0.0s\n"
     ]
    },
    {
     "name": "stdout",
     "output_type": "stream",
     "text": [
      "5/5 [==============================] - 2s 490ms/step - loss: 0.0397 - mae: 0.1541 - val_loss: 0.0411 - val_mae: 0.1576\n",
      "Epoch 41/500\n",
      "5/5 [==============================] - ETA: 0s - loss: 0.0392 - mae: 0.1525INFO:tensorflow:Assets written to: C:\\Users\\PARK\\Documents\\LAB\\RNN vs LSTM\\FInal Example\\wandb\\run-20221015_184213-1cudq716\\files\\model-best\\assets\n"
     ]
    },
    {
     "name": "stderr",
     "output_type": "stream",
     "text": [
      "\u001b[34m\u001b[1mwandb\u001b[0m: Adding directory to artifact (C:\\Users\\PARK\\Documents\\LAB\\RNN vs LSTM\\FInal Example\\wandb\\run-20221015_184213-1cudq716\\files\\model-best)... Done. 0.0s\n"
     ]
    },
    {
     "name": "stdout",
     "output_type": "stream",
     "text": [
      "5/5 [==============================] - 2s 500ms/step - loss: 0.0392 - mae: 0.1525 - val_loss: 0.0398 - val_mae: 0.1550\n",
      "Epoch 42/500\n",
      "5/5 [==============================] - ETA: 0s - loss: 0.0387 - mae: 0.1526INFO:tensorflow:Assets written to: C:\\Users\\PARK\\Documents\\LAB\\RNN vs LSTM\\FInal Example\\wandb\\run-20221015_184213-1cudq716\\files\\model-best\\assets\n"
     ]
    },
    {
     "name": "stderr",
     "output_type": "stream",
     "text": [
      "\u001b[34m\u001b[1mwandb\u001b[0m: Adding directory to artifact (C:\\Users\\PARK\\Documents\\LAB\\RNN vs LSTM\\FInal Example\\wandb\\run-20221015_184213-1cudq716\\files\\model-best)... Done. 0.0s\n"
     ]
    },
    {
     "name": "stdout",
     "output_type": "stream",
     "text": [
      "5/5 [==============================] - 2s 497ms/step - loss: 0.0387 - mae: 0.1526 - val_loss: 0.0397 - val_mae: 0.1547\n",
      "Epoch 43/500\n",
      "5/5 [==============================] - ETA: 0s - loss: 0.0380 - mae: 0.1501INFO:tensorflow:Assets written to: C:\\Users\\PARK\\Documents\\LAB\\RNN vs LSTM\\FInal Example\\wandb\\run-20221015_184213-1cudq716\\files\\model-best\\assets\n"
     ]
    },
    {
     "name": "stderr",
     "output_type": "stream",
     "text": [
      "\u001b[34m\u001b[1mwandb\u001b[0m: Adding directory to artifact (C:\\Users\\PARK\\Documents\\LAB\\RNN vs LSTM\\FInal Example\\wandb\\run-20221015_184213-1cudq716\\files\\model-best)... Done. 0.0s\n"
     ]
    },
    {
     "name": "stdout",
     "output_type": "stream",
     "text": [
      "5/5 [==============================] - 2s 516ms/step - loss: 0.0380 - mae: 0.1501 - val_loss: 0.0387 - val_mae: 0.1525\n",
      "Epoch 44/500\n",
      "5/5 [==============================] - ETA: 0s - loss: 0.0369 - mae: 0.1484INFO:tensorflow:Assets written to: C:\\Users\\PARK\\Documents\\LAB\\RNN vs LSTM\\FInal Example\\wandb\\run-20221015_184213-1cudq716\\files\\model-best\\assets\n"
     ]
    },
    {
     "name": "stderr",
     "output_type": "stream",
     "text": [
      "\u001b[34m\u001b[1mwandb\u001b[0m: Adding directory to artifact (C:\\Users\\PARK\\Documents\\LAB\\RNN vs LSTM\\FInal Example\\wandb\\run-20221015_184213-1cudq716\\files\\model-best)... Done. 0.0s\n"
     ]
    },
    {
     "name": "stdout",
     "output_type": "stream",
     "text": [
      "5/5 [==============================] - 2s 489ms/step - loss: 0.0369 - mae: 0.1484 - val_loss: 0.0386 - val_mae: 0.1521\n",
      "Epoch 45/500\n",
      "5/5 [==============================] - ETA: 0s - loss: 0.0358 - mae: 0.1458INFO:tensorflow:Assets written to: C:\\Users\\PARK\\Documents\\LAB\\RNN vs LSTM\\FInal Example\\wandb\\run-20221015_184213-1cudq716\\files\\model-best\\assets\n"
     ]
    },
    {
     "name": "stderr",
     "output_type": "stream",
     "text": [
      "\u001b[34m\u001b[1mwandb\u001b[0m: Adding directory to artifact (C:\\Users\\PARK\\Documents\\LAB\\RNN vs LSTM\\FInal Example\\wandb\\run-20221015_184213-1cudq716\\files\\model-best)... Done. 0.0s\n"
     ]
    },
    {
     "name": "stdout",
     "output_type": "stream",
     "text": [
      "5/5 [==============================] - 2s 484ms/step - loss: 0.0358 - mae: 0.1458 - val_loss: 0.0370 - val_mae: 0.1494\n",
      "Epoch 46/500\n",
      "5/5 [==============================] - 1s 155ms/step - loss: 0.0355 - mae: 0.1447 - val_loss: 0.0391 - val_mae: 0.1550\n",
      "Epoch 47/500\n",
      "5/5 [==============================] - ETA: 0s - loss: 0.0361 - mae: 0.1477INFO:tensorflow:Assets written to: C:\\Users\\PARK\\Documents\\LAB\\RNN vs LSTM\\FInal Example\\wandb\\run-20221015_184213-1cudq716\\files\\model-best\\assets\n"
     ]
    },
    {
     "name": "stderr",
     "output_type": "stream",
     "text": [
      "\u001b[34m\u001b[1mwandb\u001b[0m: Adding directory to artifact (C:\\Users\\PARK\\Documents\\LAB\\RNN vs LSTM\\FInal Example\\wandb\\run-20221015_184213-1cudq716\\files\\model-best)... Done. 0.0s\n"
     ]
    },
    {
     "name": "stdout",
     "output_type": "stream",
     "text": [
      "5/5 [==============================] - 2s 527ms/step - loss: 0.0361 - mae: 0.1477 - val_loss: 0.0359 - val_mae: 0.1474\n",
      "Epoch 48/500\n",
      "5/5 [==============================] - ETA: 0s - loss: 0.0341 - mae: 0.1431INFO:tensorflow:Assets written to: C:\\Users\\PARK\\Documents\\LAB\\RNN vs LSTM\\FInal Example\\wandb\\run-20221015_184213-1cudq716\\files\\model-best\\assets\n"
     ]
    },
    {
     "name": "stderr",
     "output_type": "stream",
     "text": [
      "\u001b[34m\u001b[1mwandb\u001b[0m: Adding directory to artifact (C:\\Users\\PARK\\Documents\\LAB\\RNN vs LSTM\\FInal Example\\wandb\\run-20221015_184213-1cudq716\\files\\model-best)... Done. 0.0s\n"
     ]
    },
    {
     "name": "stdout",
     "output_type": "stream",
     "text": [
      "5/5 [==============================] - 2s 502ms/step - loss: 0.0341 - mae: 0.1431 - val_loss: 0.0356 - val_mae: 0.1466\n",
      "Epoch 49/500\n",
      "5/5 [==============================] - ETA: 0s - loss: 0.0331 - mae: 0.1402INFO:tensorflow:Assets written to: C:\\Users\\PARK\\Documents\\LAB\\RNN vs LSTM\\FInal Example\\wandb\\run-20221015_184213-1cudq716\\files\\model-best\\assets\n"
     ]
    },
    {
     "name": "stderr",
     "output_type": "stream",
     "text": [
      "\u001b[34m\u001b[1mwandb\u001b[0m: Adding directory to artifact (C:\\Users\\PARK\\Documents\\LAB\\RNN vs LSTM\\FInal Example\\wandb\\run-20221015_184213-1cudq716\\files\\model-best)... Done. 0.0s\n"
     ]
    },
    {
     "name": "stdout",
     "output_type": "stream",
     "text": [
      "5/5 [==============================] - 2s 513ms/step - loss: 0.0331 - mae: 0.1402 - val_loss: 0.0338 - val_mae: 0.1433\n",
      "Epoch 50/500\n",
      "5/5 [==============================] - ETA: 0s - loss: 0.0317 - mae: 0.1375INFO:tensorflow:Assets written to: C:\\Users\\PARK\\Documents\\LAB\\RNN vs LSTM\\FInal Example\\wandb\\run-20221015_184213-1cudq716\\files\\model-best\\assets\n"
     ]
    },
    {
     "name": "stderr",
     "output_type": "stream",
     "text": [
      "\u001b[34m\u001b[1mwandb\u001b[0m: Adding directory to artifact (C:\\Users\\PARK\\Documents\\LAB\\RNN vs LSTM\\FInal Example\\wandb\\run-20221015_184213-1cudq716\\files\\model-best)... Done. 0.0s\n"
     ]
    },
    {
     "name": "stdout",
     "output_type": "stream",
     "text": [
      "5/5 [==============================] - 2s 498ms/step - loss: 0.0317 - mae: 0.1375 - val_loss: 0.0332 - val_mae: 0.1421\n",
      "Epoch 51/500\n",
      "5/5 [==============================] - ETA: 0s - loss: 0.0312 - mae: 0.1363INFO:tensorflow:Assets written to: C:\\Users\\PARK\\Documents\\LAB\\RNN vs LSTM\\FInal Example\\wandb\\run-20221015_184213-1cudq716\\files\\model-best\\assets\n"
     ]
    },
    {
     "name": "stderr",
     "output_type": "stream",
     "text": [
      "\u001b[34m\u001b[1mwandb\u001b[0m: Adding directory to artifact (C:\\Users\\PARK\\Documents\\LAB\\RNN vs LSTM\\FInal Example\\wandb\\run-20221015_184213-1cudq716\\files\\model-best)... Done. 0.0s\n"
     ]
    },
    {
     "name": "stdout",
     "output_type": "stream",
     "text": [
      "5/5 [==============================] - 2s 490ms/step - loss: 0.0312 - mae: 0.1363 - val_loss: 0.0322 - val_mae: 0.1396\n",
      "Epoch 52/500\n",
      "5/5 [==============================] - ETA: 0s - loss: 0.0307 - mae: 0.1358INFO:tensorflow:Assets written to: C:\\Users\\PARK\\Documents\\LAB\\RNN vs LSTM\\FInal Example\\wandb\\run-20221015_184213-1cudq716\\files\\model-best\\assets\n"
     ]
    },
    {
     "name": "stderr",
     "output_type": "stream",
     "text": [
      "\u001b[34m\u001b[1mwandb\u001b[0m: Adding directory to artifact (C:\\Users\\PARK\\Documents\\LAB\\RNN vs LSTM\\FInal Example\\wandb\\run-20221015_184213-1cudq716\\files\\model-best)... Done. 0.0s\n"
     ]
    },
    {
     "name": "stdout",
     "output_type": "stream",
     "text": [
      "5/5 [==============================] - 2s 538ms/step - loss: 0.0307 - mae: 0.1358 - val_loss: 0.0313 - val_mae: 0.1378\n",
      "Epoch 53/500\n",
      "5/5 [==============================] - ETA: 0s - loss: 0.0297 - mae: 0.1330INFO:tensorflow:Assets written to: C:\\Users\\PARK\\Documents\\LAB\\RNN vs LSTM\\FInal Example\\wandb\\run-20221015_184213-1cudq716\\files\\model-best\\assets\n"
     ]
    },
    {
     "name": "stderr",
     "output_type": "stream",
     "text": [
      "\u001b[34m\u001b[1mwandb\u001b[0m: Adding directory to artifact (C:\\Users\\PARK\\Documents\\LAB\\RNN vs LSTM\\FInal Example\\wandb\\run-20221015_184213-1cudq716\\files\\model-best)... Done. 0.0s\n"
     ]
    },
    {
     "name": "stdout",
     "output_type": "stream",
     "text": [
      "5/5 [==============================] - 2s 545ms/step - loss: 0.0297 - mae: 0.1330 - val_loss: 0.0304 - val_mae: 0.1357\n",
      "Epoch 54/500\n",
      "5/5 [==============================] - ETA: 0s - loss: 0.0291 - mae: 0.1314INFO:tensorflow:Assets written to: C:\\Users\\PARK\\Documents\\LAB\\RNN vs LSTM\\FInal Example\\wandb\\run-20221015_184213-1cudq716\\files\\model-best\\assets\n"
     ]
    },
    {
     "name": "stderr",
     "output_type": "stream",
     "text": [
      "\u001b[34m\u001b[1mwandb\u001b[0m: Adding directory to artifact (C:\\Users\\PARK\\Documents\\LAB\\RNN vs LSTM\\FInal Example\\wandb\\run-20221015_184213-1cudq716\\files\\model-best)... Done. 0.0s\n"
     ]
    },
    {
     "name": "stdout",
     "output_type": "stream",
     "text": [
      "5/5 [==============================] - 2s 494ms/step - loss: 0.0291 - mae: 0.1314 - val_loss: 0.0303 - val_mae: 0.1354\n",
      "Epoch 55/500\n",
      "5/5 [==============================] - ETA: 0s - loss: 0.0282 - mae: 0.1301INFO:tensorflow:Assets written to: C:\\Users\\PARK\\Documents\\LAB\\RNN vs LSTM\\FInal Example\\wandb\\run-20221015_184213-1cudq716\\files\\model-best\\assets\n"
     ]
    },
    {
     "name": "stderr",
     "output_type": "stream",
     "text": [
      "\u001b[34m\u001b[1mwandb\u001b[0m: Adding directory to artifact (C:\\Users\\PARK\\Documents\\LAB\\RNN vs LSTM\\FInal Example\\wandb\\run-20221015_184213-1cudq716\\files\\model-best)... Done. 0.0s\n"
     ]
    },
    {
     "name": "stdout",
     "output_type": "stream",
     "text": [
      "5/5 [==============================] - 2s 522ms/step - loss: 0.0282 - mae: 0.1301 - val_loss: 0.0298 - val_mae: 0.1344\n",
      "Epoch 56/500\n",
      "5/5 [==============================] - 1s 153ms/step - loss: 0.0278 - mae: 0.1288 - val_loss: 0.0301 - val_mae: 0.1366\n",
      "Epoch 57/500\n",
      "5/5 [==============================] - ETA: 0s - loss: 0.0276 - mae: 0.1290INFO:tensorflow:Assets written to: C:\\Users\\PARK\\Documents\\LAB\\RNN vs LSTM\\FInal Example\\wandb\\run-20221015_184213-1cudq716\\files\\model-best\\assets\n"
     ]
    },
    {
     "name": "stderr",
     "output_type": "stream",
     "text": [
      "\u001b[34m\u001b[1mwandb\u001b[0m: Adding directory to artifact (C:\\Users\\PARK\\Documents\\LAB\\RNN vs LSTM\\FInal Example\\wandb\\run-20221015_184213-1cudq716\\files\\model-best)... Done. 0.0s\n"
     ]
    },
    {
     "name": "stdout",
     "output_type": "stream",
     "text": [
      "5/5 [==============================] - 2s 501ms/step - loss: 0.0276 - mae: 0.1290 - val_loss: 0.0282 - val_mae: 0.1325\n",
      "Epoch 58/500\n",
      "5/5 [==============================] - 1s 176ms/step - loss: 0.0265 - mae: 0.1262 - val_loss: 0.0289 - val_mae: 0.1349\n",
      "Epoch 59/500\n",
      "5/5 [==============================] - ETA: 0s - loss: 0.0261 - mae: 0.1257INFO:tensorflow:Assets written to: C:\\Users\\PARK\\Documents\\LAB\\RNN vs LSTM\\FInal Example\\wandb\\run-20221015_184213-1cudq716\\files\\model-best\\assets\n"
     ]
    },
    {
     "name": "stderr",
     "output_type": "stream",
     "text": [
      "\u001b[34m\u001b[1mwandb\u001b[0m: Adding directory to artifact (C:\\Users\\PARK\\Documents\\LAB\\RNN vs LSTM\\FInal Example\\wandb\\run-20221015_184213-1cudq716\\files\\model-best)... Done. 0.0s\n"
     ]
    },
    {
     "name": "stdout",
     "output_type": "stream",
     "text": [
      "5/5 [==============================] - 2s 504ms/step - loss: 0.0261 - mae: 0.1257 - val_loss: 0.0273 - val_mae: 0.1292\n",
      "Epoch 60/500\n",
      "5/5 [==============================] - ETA: 0s - loss: 0.0254 - mae: 0.1236INFO:tensorflow:Assets written to: C:\\Users\\PARK\\Documents\\LAB\\RNN vs LSTM\\FInal Example\\wandb\\run-20221015_184213-1cudq716\\files\\model-best\\assets\n"
     ]
    },
    {
     "name": "stderr",
     "output_type": "stream",
     "text": [
      "\u001b[34m\u001b[1mwandb\u001b[0m: Adding directory to artifact (C:\\Users\\PARK\\Documents\\LAB\\RNN vs LSTM\\FInal Example\\wandb\\run-20221015_184213-1cudq716\\files\\model-best)... Done. 0.0s\n"
     ]
    },
    {
     "name": "stdout",
     "output_type": "stream",
     "text": [
      "5/5 [==============================] - 2s 534ms/step - loss: 0.0254 - mae: 0.1236 - val_loss: 0.0271 - val_mae: 0.1293\n",
      "Epoch 61/500\n",
      "5/5 [==============================] - ETA: 0s - loss: 0.0248 - mae: 0.1225INFO:tensorflow:Assets written to: C:\\Users\\PARK\\Documents\\LAB\\RNN vs LSTM\\FInal Example\\wandb\\run-20221015_184213-1cudq716\\files\\model-best\\assets\n"
     ]
    },
    {
     "name": "stderr",
     "output_type": "stream",
     "text": [
      "\u001b[34m\u001b[1mwandb\u001b[0m: Adding directory to artifact (C:\\Users\\PARK\\Documents\\LAB\\RNN vs LSTM\\FInal Example\\wandb\\run-20221015_184213-1cudq716\\files\\model-best)... Done. 0.0s\n"
     ]
    },
    {
     "name": "stdout",
     "output_type": "stream",
     "text": [
      "5/5 [==============================] - 2s 526ms/step - loss: 0.0248 - mae: 0.1225 - val_loss: 0.0259 - val_mae: 0.1271\n",
      "Epoch 62/500\n",
      "4/5 [=======================>......] - ETA: 0s - loss: 0.0244 - mae: 0.1219INFO:tensorflow:Assets written to: C:\\Users\\PARK\\Documents\\LAB\\RNN vs LSTM\\FInal Example\\wandb\\run-20221015_184213-1cudq716\\files\\model-best\\assets\n"
     ]
    },
    {
     "name": "stderr",
     "output_type": "stream",
     "text": [
      "\u001b[34m\u001b[1mwandb\u001b[0m: Adding directory to artifact (C:\\Users\\PARK\\Documents\\LAB\\RNN vs LSTM\\FInal Example\\wandb\\run-20221015_184213-1cudq716\\files\\model-best)... Done. 0.0s\n"
     ]
    },
    {
     "name": "stdout",
     "output_type": "stream",
     "text": [
      "5/5 [==============================] - 2s 523ms/step - loss: 0.0242 - mae: 0.1211 - val_loss: 0.0256 - val_mae: 0.1265\n",
      "Epoch 63/500\n",
      "5/5 [==============================] - ETA: 0s - loss: 0.0236 - mae: 0.1188INFO:tensorflow:Assets written to: C:\\Users\\PARK\\Documents\\LAB\\RNN vs LSTM\\FInal Example\\wandb\\run-20221015_184213-1cudq716\\files\\model-best\\assets\n"
     ]
    },
    {
     "name": "stderr",
     "output_type": "stream",
     "text": [
      "\u001b[34m\u001b[1mwandb\u001b[0m: Adding directory to artifact (C:\\Users\\PARK\\Documents\\LAB\\RNN vs LSTM\\FInal Example\\wandb\\run-20221015_184213-1cudq716\\files\\model-best)... Done. 0.0s\n"
     ]
    },
    {
     "name": "stdout",
     "output_type": "stream",
     "text": [
      "5/5 [==============================] - 2s 492ms/step - loss: 0.0236 - mae: 0.1188 - val_loss: 0.0249 - val_mae: 0.1242\n",
      "Epoch 64/500\n",
      "5/5 [==============================] - ETA: 0s - loss: 0.0233 - mae: 0.1183INFO:tensorflow:Assets written to: C:\\Users\\PARK\\Documents\\LAB\\RNN vs LSTM\\FInal Example\\wandb\\run-20221015_184213-1cudq716\\files\\model-best\\assets\n"
     ]
    },
    {
     "name": "stderr",
     "output_type": "stream",
     "text": [
      "\u001b[34m\u001b[1mwandb\u001b[0m: Adding directory to artifact (C:\\Users\\PARK\\Documents\\LAB\\RNN vs LSTM\\FInal Example\\wandb\\run-20221015_184213-1cudq716\\files\\model-best)... Done. 0.0s\n"
     ]
    },
    {
     "name": "stdout",
     "output_type": "stream",
     "text": [
      "5/5 [==============================] - 2s 491ms/step - loss: 0.0233 - mae: 0.1183 - val_loss: 0.0238 - val_mae: 0.1216\n",
      "Epoch 65/500\n",
      "5/5 [==============================] - 1s 164ms/step - loss: 0.0227 - mae: 0.1174 - val_loss: 0.0242 - val_mae: 0.1212\n",
      "Epoch 66/500\n",
      "5/5 [==============================] - ETA: 0s - loss: 0.0225 - mae: 0.1168INFO:tensorflow:Assets written to: C:\\Users\\PARK\\Documents\\LAB\\RNN vs LSTM\\FInal Example\\wandb\\run-20221015_184213-1cudq716\\files\\model-best\\assets\n"
     ]
    },
    {
     "name": "stderr",
     "output_type": "stream",
     "text": [
      "\u001b[34m\u001b[1mwandb\u001b[0m: Adding directory to artifact (C:\\Users\\PARK\\Documents\\LAB\\RNN vs LSTM\\FInal Example\\wandb\\run-20221015_184213-1cudq716\\files\\model-best)... Done. 0.0s\n"
     ]
    },
    {
     "name": "stdout",
     "output_type": "stream",
     "text": [
      "5/5 [==============================] - 2s 506ms/step - loss: 0.0225 - mae: 0.1168 - val_loss: 0.0225 - val_mae: 0.1178\n",
      "Epoch 67/500\n",
      "5/5 [==============================] - 1s 188ms/step - loss: 0.0229 - mae: 0.1182 - val_loss: 0.0226 - val_mae: 0.1193\n",
      "Epoch 68/500\n",
      "5/5 [==============================] - 1s 141ms/step - loss: 0.0216 - mae: 0.1151 - val_loss: 0.0245 - val_mae: 0.1251\n",
      "Epoch 69/500\n",
      "5/5 [==============================] - ETA: 0s - loss: 0.0218 - mae: 0.1157INFO:tensorflow:Assets written to: C:\\Users\\PARK\\Documents\\LAB\\RNN vs LSTM\\FInal Example\\wandb\\run-20221015_184213-1cudq716\\files\\model-best\\assets\n"
     ]
    },
    {
     "name": "stderr",
     "output_type": "stream",
     "text": [
      "\u001b[34m\u001b[1mwandb\u001b[0m: Adding directory to artifact (C:\\Users\\PARK\\Documents\\LAB\\RNN vs LSTM\\FInal Example\\wandb\\run-20221015_184213-1cudq716\\files\\model-best)... Done. 0.0s\n"
     ]
    },
    {
     "name": "stdout",
     "output_type": "stream",
     "text": [
      "5/5 [==============================] - 2s 471ms/step - loss: 0.0218 - mae: 0.1157 - val_loss: 0.0213 - val_mae: 0.1143\n",
      "Epoch 70/500\n",
      "5/5 [==============================] - 1s 185ms/step - loss: 0.0214 - mae: 0.1135 - val_loss: 0.0214 - val_mae: 0.1147\n",
      "Epoch 71/500\n",
      "5/5 [==============================] - 1s 145ms/step - loss: 0.0204 - mae: 0.1117 - val_loss: 0.0227 - val_mae: 0.1178\n",
      "Epoch 72/500\n",
      "5/5 [==============================] - ETA: 0s - loss: 0.0201 - mae: 0.1108INFO:tensorflow:Assets written to: C:\\Users\\PARK\\Documents\\LAB\\RNN vs LSTM\\FInal Example\\wandb\\run-20221015_184213-1cudq716\\files\\model-best\\assets\n"
     ]
    },
    {
     "name": "stderr",
     "output_type": "stream",
     "text": [
      "\u001b[34m\u001b[1mwandb\u001b[0m: Adding directory to artifact (C:\\Users\\PARK\\Documents\\LAB\\RNN vs LSTM\\FInal Example\\wandb\\run-20221015_184213-1cudq716\\files\\model-best)... Done. 0.0s\n"
     ]
    },
    {
     "name": "stdout",
     "output_type": "stream",
     "text": [
      "5/5 [==============================] - 2s 475ms/step - loss: 0.0201 - mae: 0.1108 - val_loss: 0.0200 - val_mae: 0.1110\n",
      "Epoch 73/500\n",
      "5/5 [==============================] - 1s 178ms/step - loss: 0.0193 - mae: 0.1085 - val_loss: 0.0201 - val_mae: 0.1107\n",
      "Epoch 74/500\n",
      "5/5 [==============================] - 1s 154ms/step - loss: 0.0188 - mae: 0.1069 - val_loss: 0.0216 - val_mae: 0.1165\n",
      "Epoch 75/500\n",
      "5/5 [==============================] - ETA: 0s - loss: 0.0189 - mae: 0.1081INFO:tensorflow:Assets written to: C:\\Users\\PARK\\Documents\\LAB\\RNN vs LSTM\\FInal Example\\wandb\\run-20221015_184213-1cudq716\\files\\model-best\\assets\n"
     ]
    },
    {
     "name": "stderr",
     "output_type": "stream",
     "text": [
      "\u001b[34m\u001b[1mwandb\u001b[0m: Adding directory to artifact (C:\\Users\\PARK\\Documents\\LAB\\RNN vs LSTM\\FInal Example\\wandb\\run-20221015_184213-1cudq716\\files\\model-best)... Done. 0.0s\n"
     ]
    },
    {
     "name": "stdout",
     "output_type": "stream",
     "text": [
      "5/5 [==============================] - 2s 502ms/step - loss: 0.0189 - mae: 0.1081 - val_loss: 0.0188 - val_mae: 0.1070\n",
      "Epoch 76/500\n",
      "5/5 [==============================] - 1s 163ms/step - loss: 0.0182 - mae: 0.1057 - val_loss: 0.0206 - val_mae: 0.1126\n",
      "Epoch 77/500\n",
      "5/5 [==============================] - ETA: 0s - loss: 0.0172 - mae: 0.1026INFO:tensorflow:Assets written to: C:\\Users\\PARK\\Documents\\LAB\\RNN vs LSTM\\FInal Example\\wandb\\run-20221015_184213-1cudq716\\files\\model-best\\assets\n"
     ]
    },
    {
     "name": "stderr",
     "output_type": "stream",
     "text": [
      "\u001b[34m\u001b[1mwandb\u001b[0m: Adding directory to artifact (C:\\Users\\PARK\\Documents\\LAB\\RNN vs LSTM\\FInal Example\\wandb\\run-20221015_184213-1cudq716\\files\\model-best)... Done. 0.0s\n"
     ]
    },
    {
     "name": "stdout",
     "output_type": "stream",
     "text": [
      "5/5 [==============================] - 2s 490ms/step - loss: 0.0172 - mae: 0.1026 - val_loss: 0.0183 - val_mae: 0.1053\n",
      "Epoch 78/500\n",
      "5/5 [==============================] - ETA: 0s - loss: 0.0164 - mae: 0.0998INFO:tensorflow:Assets written to: C:\\Users\\PARK\\Documents\\LAB\\RNN vs LSTM\\FInal Example\\wandb\\run-20221015_184213-1cudq716\\files\\model-best\\assets\n"
     ]
    },
    {
     "name": "stderr",
     "output_type": "stream",
     "text": [
      "\u001b[34m\u001b[1mwandb\u001b[0m: Adding directory to artifact (C:\\Users\\PARK\\Documents\\LAB\\RNN vs LSTM\\FInal Example\\wandb\\run-20221015_184213-1cudq716\\files\\model-best)... Done. 0.0s\n"
     ]
    },
    {
     "name": "stdout",
     "output_type": "stream",
     "text": [
      "5/5 [==============================] - 2s 504ms/step - loss: 0.0164 - mae: 0.0998 - val_loss: 0.0178 - val_mae: 0.1042\n",
      "Epoch 79/500\n",
      "5/5 [==============================] - 1s 160ms/step - loss: 0.0159 - mae: 0.0984 - val_loss: 0.0183 - val_mae: 0.1053\n",
      "Epoch 80/500\n",
      "4/5 [=======================>......] - ETA: 0s - loss: 0.0161 - mae: 0.0986INFO:tensorflow:Assets written to: C:\\Users\\PARK\\Documents\\LAB\\RNN vs LSTM\\FInal Example\\wandb\\run-20221015_184213-1cudq716\\files\\model-best\\assets\n"
     ]
    },
    {
     "name": "stderr",
     "output_type": "stream",
     "text": [
      "\u001b[34m\u001b[1mwandb\u001b[0m: Adding directory to artifact (C:\\Users\\PARK\\Documents\\LAB\\RNN vs LSTM\\FInal Example\\wandb\\run-20221015_184213-1cudq716\\files\\model-best)... Done. 0.0s\n"
     ]
    },
    {
     "name": "stdout",
     "output_type": "stream",
     "text": [
      "5/5 [==============================] - 2s 509ms/step - loss: 0.0161 - mae: 0.0988 - val_loss: 0.0173 - val_mae: 0.1027\n",
      "Epoch 81/500\n",
      "5/5 [==============================] - ETA: 0s - loss: 0.0153 - mae: 0.0966INFO:tensorflow:Assets written to: C:\\Users\\PARK\\Documents\\LAB\\RNN vs LSTM\\FInal Example\\wandb\\run-20221015_184213-1cudq716\\files\\model-best\\assets\n"
     ]
    },
    {
     "name": "stderr",
     "output_type": "stream",
     "text": [
      "\u001b[34m\u001b[1mwandb\u001b[0m: Adding directory to artifact (C:\\Users\\PARK\\Documents\\LAB\\RNN vs LSTM\\FInal Example\\wandb\\run-20221015_184213-1cudq716\\files\\model-best)... Done. 0.0s\n"
     ]
    },
    {
     "name": "stdout",
     "output_type": "stream",
     "text": [
      "5/5 [==============================] - 2s 508ms/step - loss: 0.0153 - mae: 0.0966 - val_loss: 0.0173 - val_mae: 0.1024\n",
      "Epoch 82/500\n",
      "5/5 [==============================] - ETA: 0s - loss: 0.0161 - mae: 0.0990INFO:tensorflow:Assets written to: C:\\Users\\PARK\\Documents\\LAB\\RNN vs LSTM\\FInal Example\\wandb\\run-20221015_184213-1cudq716\\files\\model-best\\assets\n"
     ]
    },
    {
     "name": "stderr",
     "output_type": "stream",
     "text": [
      "\u001b[34m\u001b[1mwandb\u001b[0m: Adding directory to artifact (C:\\Users\\PARK\\Documents\\LAB\\RNN vs LSTM\\FInal Example\\wandb\\run-20221015_184213-1cudq716\\files\\model-best)... Done. 0.0s\n"
     ]
    },
    {
     "name": "stdout",
     "output_type": "stream",
     "text": [
      "5/5 [==============================] - 2s 486ms/step - loss: 0.0161 - mae: 0.0990 - val_loss: 0.0169 - val_mae: 0.1005\n",
      "Epoch 83/500\n",
      "5/5 [==============================] - 1s 163ms/step - loss: 0.0152 - mae: 0.0958 - val_loss: 0.0180 - val_mae: 0.1042\n",
      "Epoch 84/500\n",
      "4/5 [=======================>......] - ETA: 0s - loss: 0.0152 - mae: 0.0962INFO:tensorflow:Assets written to: C:\\Users\\PARK\\Documents\\LAB\\RNN vs LSTM\\FInal Example\\wandb\\run-20221015_184213-1cudq716\\files\\model-best\\assets\n"
     ]
    },
    {
     "name": "stderr",
     "output_type": "stream",
     "text": [
      "\u001b[34m\u001b[1mwandb\u001b[0m: Adding directory to artifact (C:\\Users\\PARK\\Documents\\LAB\\RNN vs LSTM\\FInal Example\\wandb\\run-20221015_184213-1cudq716\\files\\model-best)... Done. 0.0s\n"
     ]
    },
    {
     "name": "stdout",
     "output_type": "stream",
     "text": [
      "5/5 [==============================] - 2s 506ms/step - loss: 0.0155 - mae: 0.0969 - val_loss: 0.0161 - val_mae: 0.0986\n",
      "Epoch 85/500\n",
      "5/5 [==============================] - 1s 163ms/step - loss: 0.0151 - mae: 0.0957 - val_loss: 0.0171 - val_mae: 0.1026\n",
      "Epoch 86/500\n",
      "5/5 [==============================] - 1s 138ms/step - loss: 0.0147 - mae: 0.0947 - val_loss: 0.0176 - val_mae: 0.1039\n",
      "Epoch 87/500\n",
      "5/5 [==============================] - ETA: 0s - loss: 0.0155 - mae: 0.0980INFO:tensorflow:Assets written to: C:\\Users\\PARK\\Documents\\LAB\\RNN vs LSTM\\FInal Example\\wandb\\run-20221015_184213-1cudq716\\files\\model-best\\assets\n"
     ]
    },
    {
     "name": "stderr",
     "output_type": "stream",
     "text": [
      "\u001b[34m\u001b[1mwandb\u001b[0m: Adding directory to artifact (C:\\Users\\PARK\\Documents\\LAB\\RNN vs LSTM\\FInal Example\\wandb\\run-20221015_184213-1cudq716\\files\\model-best)... Done. 0.0s\n"
     ]
    },
    {
     "name": "stdout",
     "output_type": "stream",
     "text": [
      "5/5 [==============================] - 2s 491ms/step - loss: 0.0155 - mae: 0.0980 - val_loss: 0.0159 - val_mae: 0.0981\n",
      "Epoch 88/500\n",
      "5/5 [==============================] - 1s 167ms/step - loss: 0.0147 - mae: 0.0950 - val_loss: 0.0182 - val_mae: 0.1065\n",
      "Epoch 89/500\n",
      "5/5 [==============================] - ETA: 0s - loss: 0.0150 - mae: 0.0961INFO:tensorflow:Assets written to: C:\\Users\\PARK\\Documents\\LAB\\RNN vs LSTM\\FInal Example\\wandb\\run-20221015_184213-1cudq716\\files\\model-best\\assets\n"
     ]
    },
    {
     "name": "stderr",
     "output_type": "stream",
     "text": [
      "\u001b[34m\u001b[1mwandb\u001b[0m: Adding directory to artifact (C:\\Users\\PARK\\Documents\\LAB\\RNN vs LSTM\\FInal Example\\wandb\\run-20221015_184213-1cudq716\\files\\model-best)... Done. 0.0s\n"
     ]
    },
    {
     "name": "stdout",
     "output_type": "stream",
     "text": [
      "5/5 [==============================] - 2s 509ms/step - loss: 0.0150 - mae: 0.0961 - val_loss: 0.0150 - val_mae: 0.0950\n",
      "Epoch 90/500\n",
      "5/5 [==============================] - 1s 148ms/step - loss: 0.0132 - mae: 0.0899 - val_loss: 0.0168 - val_mae: 0.1015\n",
      "Epoch 91/500\n",
      "5/5 [==============================] - 1s 148ms/step - loss: 0.0136 - mae: 0.0912 - val_loss: 0.0154 - val_mae: 0.0963\n",
      "Epoch 92/500\n",
      "5/5 [==============================] - 1s 140ms/step - loss: 0.0133 - mae: 0.0903 - val_loss: 0.0166 - val_mae: 0.0999\n",
      "Epoch 93/500\n",
      "5/5 [==============================] - ETA: 0s - loss: 0.0137 - mae: 0.0915INFO:tensorflow:Assets written to: C:\\Users\\PARK\\Documents\\LAB\\RNN vs LSTM\\FInal Example\\wandb\\run-20221015_184213-1cudq716\\files\\model-best\\assets\n"
     ]
    },
    {
     "name": "stderr",
     "output_type": "stream",
     "text": [
      "\u001b[34m\u001b[1mwandb\u001b[0m: Adding directory to artifact (C:\\Users\\PARK\\Documents\\LAB\\RNN vs LSTM\\FInal Example\\wandb\\run-20221015_184213-1cudq716\\files\\model-best)... Done. 0.0s\n"
     ]
    },
    {
     "name": "stdout",
     "output_type": "stream",
     "text": [
      "5/5 [==============================] - 2s 519ms/step - loss: 0.0137 - mae: 0.0915 - val_loss: 0.0145 - val_mae: 0.0935\n",
      "Epoch 94/500\n",
      "5/5 [==============================] - ETA: 0s - loss: 0.0126 - mae: 0.0881INFO:tensorflow:Assets written to: C:\\Users\\PARK\\Documents\\LAB\\RNN vs LSTM\\FInal Example\\wandb\\run-20221015_184213-1cudq716\\files\\model-best\\assets\n"
     ]
    },
    {
     "name": "stderr",
     "output_type": "stream",
     "text": [
      "\u001b[34m\u001b[1mwandb\u001b[0m: Adding directory to artifact (C:\\Users\\PARK\\Documents\\LAB\\RNN vs LSTM\\FInal Example\\wandb\\run-20221015_184213-1cudq716\\files\\model-best)... Done. 0.0s\n"
     ]
    },
    {
     "name": "stdout",
     "output_type": "stream",
     "text": [
      "5/5 [==============================] - 2s 515ms/step - loss: 0.0126 - mae: 0.0881 - val_loss: 0.0141 - val_mae: 0.0914\n",
      "Epoch 95/500\n",
      "5/5 [==============================] - ETA: 0s - loss: 0.0120 - mae: 0.0856INFO:tensorflow:Assets written to: C:\\Users\\PARK\\Documents\\LAB\\RNN vs LSTM\\FInal Example\\wandb\\run-20221015_184213-1cudq716\\files\\model-best\\assets\n"
     ]
    },
    {
     "name": "stderr",
     "output_type": "stream",
     "text": [
      "\u001b[34m\u001b[1mwandb\u001b[0m: Adding directory to artifact (C:\\Users\\PARK\\Documents\\LAB\\RNN vs LSTM\\FInal Example\\wandb\\run-20221015_184213-1cudq716\\files\\model-best)... Done. 0.0s\n"
     ]
    },
    {
     "name": "stdout",
     "output_type": "stream",
     "text": [
      "5/5 [==============================] - 2s 515ms/step - loss: 0.0120 - mae: 0.0856 - val_loss: 0.0138 - val_mae: 0.0905\n",
      "Epoch 96/500\n",
      "5/5 [==============================] - ETA: 0s - loss: 0.0120 - mae: 0.0854INFO:tensorflow:Assets written to: C:\\Users\\PARK\\Documents\\LAB\\RNN vs LSTM\\FInal Example\\wandb\\run-20221015_184213-1cudq716\\files\\model-best\\assets\n"
     ]
    },
    {
     "name": "stderr",
     "output_type": "stream",
     "text": [
      "\u001b[34m\u001b[1mwandb\u001b[0m: Adding directory to artifact (C:\\Users\\PARK\\Documents\\LAB\\RNN vs LSTM\\FInal Example\\wandb\\run-20221015_184213-1cudq716\\files\\model-best)... Done. 0.0s\n"
     ]
    },
    {
     "name": "stdout",
     "output_type": "stream",
     "text": [
      "5/5 [==============================] - 2s 485ms/step - loss: 0.0120 - mae: 0.0854 - val_loss: 0.0137 - val_mae: 0.0903\n",
      "Epoch 97/500\n",
      "5/5 [==============================] - ETA: 0s - loss: 0.0115 - mae: 0.0833INFO:tensorflow:Assets written to: C:\\Users\\PARK\\Documents\\LAB\\RNN vs LSTM\\FInal Example\\wandb\\run-20221015_184213-1cudq716\\files\\model-best\\assets\n"
     ]
    },
    {
     "name": "stderr",
     "output_type": "stream",
     "text": [
      "\u001b[34m\u001b[1mwandb\u001b[0m: Adding directory to artifact (C:\\Users\\PARK\\Documents\\LAB\\RNN vs LSTM\\FInal Example\\wandb\\run-20221015_184213-1cudq716\\files\\model-best)... Done. 0.0s\n"
     ]
    },
    {
     "name": "stdout",
     "output_type": "stream",
     "text": [
      "5/5 [==============================] - 2s 527ms/step - loss: 0.0115 - mae: 0.0833 - val_loss: 0.0136 - val_mae: 0.0901\n",
      "Epoch 98/500\n",
      "5/5 [==============================] - ETA: 0s - loss: 0.0114 - mae: 0.0833INFO:tensorflow:Assets written to: C:\\Users\\PARK\\Documents\\LAB\\RNN vs LSTM\\FInal Example\\wandb\\run-20221015_184213-1cudq716\\files\\model-best\\assets\n"
     ]
    },
    {
     "name": "stderr",
     "output_type": "stream",
     "text": [
      "\u001b[34m\u001b[1mwandb\u001b[0m: Adding directory to artifact (C:\\Users\\PARK\\Documents\\LAB\\RNN vs LSTM\\FInal Example\\wandb\\run-20221015_184213-1cudq716\\files\\model-best)... Done. 0.0s\n"
     ]
    },
    {
     "name": "stdout",
     "output_type": "stream",
     "text": [
      "5/5 [==============================] - 2s 516ms/step - loss: 0.0114 - mae: 0.0833 - val_loss: 0.0133 - val_mae: 0.0892\n",
      "Epoch 99/500\n",
      "5/5 [==============================] - ETA: 0s - loss: 0.0111 - mae: 0.0820INFO:tensorflow:Assets written to: C:\\Users\\PARK\\Documents\\LAB\\RNN vs LSTM\\FInal Example\\wandb\\run-20221015_184213-1cudq716\\files\\model-best\\assets\n"
     ]
    },
    {
     "name": "stderr",
     "output_type": "stream",
     "text": [
      "\u001b[34m\u001b[1mwandb\u001b[0m: Adding directory to artifact (C:\\Users\\PARK\\Documents\\LAB\\RNN vs LSTM\\FInal Example\\wandb\\run-20221015_184213-1cudq716\\files\\model-best)... Done. 0.0s\n"
     ]
    },
    {
     "name": "stdout",
     "output_type": "stream",
     "text": [
      "5/5 [==============================] - 2s 502ms/step - loss: 0.0111 - mae: 0.0820 - val_loss: 0.0131 - val_mae: 0.0883\n",
      "Epoch 100/500\n",
      "5/5 [==============================] - 1s 171ms/step - loss: 0.0109 - mae: 0.0815 - val_loss: 0.0134 - val_mae: 0.0902\n",
      "Epoch 101/500\n",
      "5/5 [==============================] - 1s 154ms/step - loss: 0.0112 - mae: 0.0825 - val_loss: 0.0147 - val_mae: 0.0962\n",
      "Epoch 102/500\n",
      "5/5 [==============================] - ETA: 0s - loss: 0.0119 - mae: 0.0857INFO:tensorflow:Assets written to: C:\\Users\\PARK\\Documents\\LAB\\RNN vs LSTM\\FInal Example\\wandb\\run-20221015_184213-1cudq716\\files\\model-best\\assets\n"
     ]
    },
    {
     "name": "stderr",
     "output_type": "stream",
     "text": [
      "\u001b[34m\u001b[1mwandb\u001b[0m: Adding directory to artifact (C:\\Users\\PARK\\Documents\\LAB\\RNN vs LSTM\\FInal Example\\wandb\\run-20221015_184213-1cudq716\\files\\model-best)... Done. 0.0s\n"
     ]
    },
    {
     "name": "stdout",
     "output_type": "stream",
     "text": [
      "5/5 [==============================] - 2s 516ms/step - loss: 0.0119 - mae: 0.0857 - val_loss: 0.0123 - val_mae: 0.0861\n",
      "Epoch 103/500\n",
      "5/5 [==============================] - 1s 177ms/step - loss: 0.0108 - mae: 0.0812 - val_loss: 0.0128 - val_mae: 0.0870\n",
      "Epoch 104/500\n",
      "5/5 [==============================] - ETA: 0s - loss: 0.0106 - mae: 0.0804INFO:tensorflow:Assets written to: C:\\Users\\PARK\\Documents\\LAB\\RNN vs LSTM\\FInal Example\\wandb\\run-20221015_184213-1cudq716\\files\\model-best\\assets\n"
     ]
    },
    {
     "name": "stderr",
     "output_type": "stream",
     "text": [
      "\u001b[34m\u001b[1mwandb\u001b[0m: Adding directory to artifact (C:\\Users\\PARK\\Documents\\LAB\\RNN vs LSTM\\FInal Example\\wandb\\run-20221015_184213-1cudq716\\files\\model-best)... Done. 0.0s\n"
     ]
    },
    {
     "name": "stdout",
     "output_type": "stream",
     "text": [
      "5/5 [==============================] - 2s 490ms/step - loss: 0.0106 - mae: 0.0804 - val_loss: 0.0120 - val_mae: 0.0850\n",
      "Epoch 105/500\n",
      "5/5 [==============================] - 1s 165ms/step - loss: 0.0106 - mae: 0.0808 - val_loss: 0.0126 - val_mae: 0.0876\n",
      "Epoch 106/500\n",
      "5/5 [==============================] - 1s 161ms/step - loss: 0.0103 - mae: 0.0793 - val_loss: 0.0121 - val_mae: 0.0849\n",
      "Epoch 107/500\n",
      "5/5 [==============================] - ETA: 0s - loss: 0.0100 - mae: 0.0784INFO:tensorflow:Assets written to: C:\\Users\\PARK\\Documents\\LAB\\RNN vs LSTM\\FInal Example\\wandb\\run-20221015_184213-1cudq716\\files\\model-best\\assets\n"
     ]
    },
    {
     "name": "stderr",
     "output_type": "stream",
     "text": [
      "\u001b[34m\u001b[1mwandb\u001b[0m: Adding directory to artifact (C:\\Users\\PARK\\Documents\\LAB\\RNN vs LSTM\\FInal Example\\wandb\\run-20221015_184213-1cudq716\\files\\model-best)... Done. 0.0s\n"
     ]
    },
    {
     "name": "stdout",
     "output_type": "stream",
     "text": [
      "5/5 [==============================] - 2s 519ms/step - loss: 0.0100 - mae: 0.0784 - val_loss: 0.0119 - val_mae: 0.0847\n",
      "Epoch 108/500\n",
      "5/5 [==============================] - ETA: 0s - loss: 0.0100 - mae: 0.0784INFO:tensorflow:Assets written to: C:\\Users\\PARK\\Documents\\LAB\\RNN vs LSTM\\FInal Example\\wandb\\run-20221015_184213-1cudq716\\files\\model-best\\assets\n"
     ]
    },
    {
     "name": "stderr",
     "output_type": "stream",
     "text": [
      "\u001b[34m\u001b[1mwandb\u001b[0m: Adding directory to artifact (C:\\Users\\PARK\\Documents\\LAB\\RNN vs LSTM\\FInal Example\\wandb\\run-20221015_184213-1cudq716\\files\\model-best)... Done. 0.0s\n"
     ]
    },
    {
     "name": "stdout",
     "output_type": "stream",
     "text": [
      "5/5 [==============================] - 2s 503ms/step - loss: 0.0100 - mae: 0.0784 - val_loss: 0.0114 - val_mae: 0.0826\n",
      "Epoch 109/500\n",
      "5/5 [==============================] - 1s 156ms/step - loss: 0.0097 - mae: 0.0771 - val_loss: 0.0115 - val_mae: 0.0838\n",
      "Epoch 110/500\n",
      "5/5 [==============================] - ETA: 0s - loss: 0.0096 - mae: 0.0768INFO:tensorflow:Assets written to: C:\\Users\\PARK\\Documents\\LAB\\RNN vs LSTM\\FInal Example\\wandb\\run-20221015_184213-1cudq716\\files\\model-best\\assets\n"
     ]
    },
    {
     "name": "stderr",
     "output_type": "stream",
     "text": [
      "\u001b[34m\u001b[1mwandb\u001b[0m: Adding directory to artifact (C:\\Users\\PARK\\Documents\\LAB\\RNN vs LSTM\\FInal Example\\wandb\\run-20221015_184213-1cudq716\\files\\model-best)... Done. 0.0s\n"
     ]
    },
    {
     "name": "stdout",
     "output_type": "stream",
     "text": [
      "5/5 [==============================] - 2s 481ms/step - loss: 0.0096 - mae: 0.0768 - val_loss: 0.0113 - val_mae: 0.0826\n",
      "Epoch 111/500\n",
      "5/5 [==============================] - 1s 159ms/step - loss: 0.0095 - mae: 0.0763 - val_loss: 0.0116 - val_mae: 0.0835\n",
      "Epoch 112/500\n",
      "5/5 [==============================] - 1s 154ms/step - loss: 0.0097 - mae: 0.0768 - val_loss: 0.0120 - val_mae: 0.0838\n",
      "Epoch 113/500\n",
      "5/5 [==============================] - 1s 153ms/step - loss: 0.0102 - mae: 0.0791 - val_loss: 0.0115 - val_mae: 0.0829\n",
      "Epoch 114/500\n",
      "5/5 [==============================] - ETA: 0s - loss: 0.0098 - mae: 0.0773INFO:tensorflow:Assets written to: C:\\Users\\PARK\\Documents\\LAB\\RNN vs LSTM\\FInal Example\\wandb\\run-20221015_184213-1cudq716\\files\\model-best\\assets\n"
     ]
    },
    {
     "name": "stderr",
     "output_type": "stream",
     "text": [
      "\u001b[34m\u001b[1mwandb\u001b[0m: Adding directory to artifact (C:\\Users\\PARK\\Documents\\LAB\\RNN vs LSTM\\FInal Example\\wandb\\run-20221015_184213-1cudq716\\files\\model-best)... Done. 0.0s\n"
     ]
    },
    {
     "name": "stdout",
     "output_type": "stream",
     "text": [
      "5/5 [==============================] - 2s 521ms/step - loss: 0.0098 - mae: 0.0773 - val_loss: 0.0109 - val_mae: 0.0814\n",
      "Epoch 115/500\n",
      "5/5 [==============================] - 1s 188ms/step - loss: 0.0092 - mae: 0.0754 - val_loss: 0.0124 - val_mae: 0.0884\n",
      "Epoch 116/500\n",
      "5/5 [==============================] - ETA: 0s - loss: 0.0094 - mae: 0.0757INFO:tensorflow:Assets written to: C:\\Users\\PARK\\Documents\\LAB\\RNN vs LSTM\\FInal Example\\wandb\\run-20221015_184213-1cudq716\\files\\model-best\\assets\n"
     ]
    },
    {
     "name": "stderr",
     "output_type": "stream",
     "text": [
      "\u001b[34m\u001b[1mwandb\u001b[0m: Adding directory to artifact (C:\\Users\\PARK\\Documents\\LAB\\RNN vs LSTM\\FInal Example\\wandb\\run-20221015_184213-1cudq716\\files\\model-best)... Done. 0.0s\n"
     ]
    },
    {
     "name": "stdout",
     "output_type": "stream",
     "text": [
      "5/5 [==============================] - 2s 482ms/step - loss: 0.0094 - mae: 0.0757 - val_loss: 0.0104 - val_mae: 0.0785\n",
      "Epoch 117/500\n",
      "5/5 [==============================] - 1s 168ms/step - loss: 0.0089 - mae: 0.0741 - val_loss: 0.0113 - val_mae: 0.0828\n",
      "Epoch 118/500\n",
      "5/5 [==============================] - 1s 154ms/step - loss: 0.0101 - mae: 0.0790 - val_loss: 0.0113 - val_mae: 0.0826\n",
      "Epoch 119/500\n",
      "5/5 [==============================] - 1s 145ms/step - loss: 0.0099 - mae: 0.0781 - val_loss: 0.0127 - val_mae: 0.0881\n",
      "Epoch 120/500\n",
      "5/5 [==============================] - ETA: 0s - loss: 0.0095 - mae: 0.0770INFO:tensorflow:Assets written to: C:\\Users\\PARK\\Documents\\LAB\\RNN vs LSTM\\FInal Example\\wandb\\run-20221015_184213-1cudq716\\files\\model-best\\assets\n"
     ]
    },
    {
     "name": "stderr",
     "output_type": "stream",
     "text": [
      "\u001b[34m\u001b[1mwandb\u001b[0m: Adding directory to artifact (C:\\Users\\PARK\\Documents\\LAB\\RNN vs LSTM\\FInal Example\\wandb\\run-20221015_184213-1cudq716\\files\\model-best)... Done. 0.0s\n"
     ]
    },
    {
     "name": "stdout",
     "output_type": "stream",
     "text": [
      "5/5 [==============================] - 2s 475ms/step - loss: 0.0095 - mae: 0.0770 - val_loss: 0.0104 - val_mae: 0.0800\n",
      "Epoch 121/500\n",
      "5/5 [==============================] - ETA: 0s - loss: 0.0093 - mae: 0.0762INFO:tensorflow:Assets written to: C:\\Users\\PARK\\Documents\\LAB\\RNN vs LSTM\\FInal Example\\wandb\\run-20221015_184213-1cudq716\\files\\model-best\\assets\n"
     ]
    },
    {
     "name": "stderr",
     "output_type": "stream",
     "text": [
      "\u001b[34m\u001b[1mwandb\u001b[0m: Adding directory to artifact (C:\\Users\\PARK\\Documents\\LAB\\RNN vs LSTM\\FInal Example\\wandb\\run-20221015_184213-1cudq716\\files\\model-best)... Done. 0.0s\n"
     ]
    },
    {
     "name": "stdout",
     "output_type": "stream",
     "text": [
      "5/5 [==============================] - 2s 515ms/step - loss: 0.0093 - mae: 0.0762 - val_loss: 0.0104 - val_mae: 0.0795\n",
      "Epoch 122/500\n",
      "5/5 [==============================] - ETA: 0s - loss: 0.0093 - mae: 0.0764INFO:tensorflow:Assets written to: C:\\Users\\PARK\\Documents\\LAB\\RNN vs LSTM\\FInal Example\\wandb\\run-20221015_184213-1cudq716\\files\\model-best\\assets\n"
     ]
    },
    {
     "name": "stderr",
     "output_type": "stream",
     "text": [
      "\u001b[34m\u001b[1mwandb\u001b[0m: Adding directory to artifact (C:\\Users\\PARK\\Documents\\LAB\\RNN vs LSTM\\FInal Example\\wandb\\run-20221015_184213-1cudq716\\files\\model-best)... Done. 0.0s\n"
     ]
    },
    {
     "name": "stdout",
     "output_type": "stream",
     "text": [
      "5/5 [==============================] - 2s 515ms/step - loss: 0.0093 - mae: 0.0764 - val_loss: 0.0103 - val_mae: 0.0801\n",
      "Epoch 123/500\n",
      "5/5 [==============================] - 1s 150ms/step - loss: 0.0086 - mae: 0.0730 - val_loss: 0.0110 - val_mae: 0.0837\n",
      "Epoch 124/500\n",
      "5/5 [==============================] - ETA: 0s - loss: 0.0086 - mae: 0.0734INFO:tensorflow:Assets written to: C:\\Users\\PARK\\Documents\\LAB\\RNN vs LSTM\\FInal Example\\wandb\\run-20221015_184213-1cudq716\\files\\model-best\\assets\n"
     ]
    },
    {
     "name": "stderr",
     "output_type": "stream",
     "text": [
      "\u001b[34m\u001b[1mwandb\u001b[0m: Adding directory to artifact (C:\\Users\\PARK\\Documents\\LAB\\RNN vs LSTM\\FInal Example\\wandb\\run-20221015_184213-1cudq716\\files\\model-best)... Done. 0.0s\n"
     ]
    },
    {
     "name": "stdout",
     "output_type": "stream",
     "text": [
      "5/5 [==============================] - 2s 470ms/step - loss: 0.0086 - mae: 0.0734 - val_loss: 0.0097 - val_mae: 0.0775\n",
      "Epoch 125/500\n",
      "5/5 [==============================] - 1s 161ms/step - loss: 0.0080 - mae: 0.0703 - val_loss: 0.0099 - val_mae: 0.0774\n",
      "Epoch 126/500\n",
      "5/5 [==============================] - 1s 154ms/step - loss: 0.0081 - mae: 0.0707 - val_loss: 0.0097 - val_mae: 0.0768\n",
      "Epoch 127/500\n",
      "5/5 [==============================] - 1s 156ms/step - loss: 0.0082 - mae: 0.0710 - val_loss: 0.0101 - val_mae: 0.0786\n",
      "Epoch 128/500\n",
      "5/5 [==============================] - 1s 144ms/step - loss: 0.0086 - mae: 0.0727 - val_loss: 0.0098 - val_mae: 0.0775\n",
      "Epoch 129/500\n",
      "5/5 [==============================] - ETA: 0s - loss: 0.0082 - mae: 0.0708INFO:tensorflow:Assets written to: C:\\Users\\PARK\\Documents\\LAB\\RNN vs LSTM\\FInal Example\\wandb\\run-20221015_184213-1cudq716\\files\\model-best\\assets\n"
     ]
    },
    {
     "name": "stderr",
     "output_type": "stream",
     "text": [
      "\u001b[34m\u001b[1mwandb\u001b[0m: Adding directory to artifact (C:\\Users\\PARK\\Documents\\LAB\\RNN vs LSTM\\FInal Example\\wandb\\run-20221015_184213-1cudq716\\files\\model-best)... Done. 0.0s\n"
     ]
    },
    {
     "name": "stdout",
     "output_type": "stream",
     "text": [
      "5/5 [==============================] - 2s 507ms/step - loss: 0.0082 - mae: 0.0708 - val_loss: 0.0093 - val_mae: 0.0761\n",
      "Epoch 130/500\n",
      "5/5 [==============================] - ETA: 0s - loss: 0.0077 - mae: 0.0687INFO:tensorflow:Assets written to: C:\\Users\\PARK\\Documents\\LAB\\RNN vs LSTM\\FInal Example\\wandb\\run-20221015_184213-1cudq716\\files\\model-best\\assets\n"
     ]
    },
    {
     "name": "stderr",
     "output_type": "stream",
     "text": [
      "\u001b[34m\u001b[1mwandb\u001b[0m: Adding directory to artifact (C:\\Users\\PARK\\Documents\\LAB\\RNN vs LSTM\\FInal Example\\wandb\\run-20221015_184213-1cudq716\\files\\model-best)... Done. 0.0s\n"
     ]
    },
    {
     "name": "stdout",
     "output_type": "stream",
     "text": [
      "5/5 [==============================] - 2s 509ms/step - loss: 0.0077 - mae: 0.0687 - val_loss: 0.0091 - val_mae: 0.0745\n",
      "Epoch 131/500\n",
      "5/5 [==============================] - 1s 165ms/step - loss: 0.0076 - mae: 0.0683 - val_loss: 0.0091 - val_mae: 0.0743\n",
      "Epoch 132/500\n",
      "5/5 [==============================] - 1s 149ms/step - loss: 0.0079 - mae: 0.0698 - val_loss: 0.0098 - val_mae: 0.0773\n",
      "Epoch 133/500\n",
      "5/5 [==============================] - 1s 139ms/step - loss: 0.0083 - mae: 0.0711 - val_loss: 0.0097 - val_mae: 0.0765\n",
      "Epoch 134/500\n",
      "5/5 [==============================] - 1s 138ms/step - loss: 0.0080 - mae: 0.0698 - val_loss: 0.0113 - val_mae: 0.0827\n",
      "Epoch 135/500\n",
      "5/5 [==============================] - 1s 150ms/step - loss: 0.0092 - mae: 0.0761 - val_loss: 0.0097 - val_mae: 0.0764\n",
      "Epoch 136/500\n",
      "5/5 [==============================] - ETA: 0s - loss: 0.0086 - mae: 0.0722INFO:tensorflow:Assets written to: C:\\Users\\PARK\\Documents\\LAB\\RNN vs LSTM\\FInal Example\\wandb\\run-20221015_184213-1cudq716\\files\\model-best\\assets\n"
     ]
    },
    {
     "name": "stderr",
     "output_type": "stream",
     "text": [
      "\u001b[34m\u001b[1mwandb\u001b[0m: Adding directory to artifact (C:\\Users\\PARK\\Documents\\LAB\\RNN vs LSTM\\FInal Example\\wandb\\run-20221015_184213-1cudq716\\files\\model-best)... Done. 0.0s\n"
     ]
    },
    {
     "name": "stdout",
     "output_type": "stream",
     "text": [
      "5/5 [==============================] - 2s 486ms/step - loss: 0.0086 - mae: 0.0722 - val_loss: 0.0088 - val_mae: 0.0743\n",
      "Epoch 137/500\n",
      "5/5 [==============================] - 1s 161ms/step - loss: 0.0082 - mae: 0.0715 - val_loss: 0.0101 - val_mae: 0.0813\n",
      "Epoch 138/500\n",
      "5/5 [==============================] - 1s 155ms/step - loss: 0.0080 - mae: 0.0704 - val_loss: 0.0113 - val_mae: 0.0859\n",
      "Epoch 139/500\n",
      "5/5 [==============================] - ETA: 0s - loss: 0.0083 - mae: 0.0723INFO:tensorflow:Assets written to: C:\\Users\\PARK\\Documents\\LAB\\RNN vs LSTM\\FInal Example\\wandb\\run-20221015_184213-1cudq716\\files\\model-best\\assets\n"
     ]
    },
    {
     "name": "stderr",
     "output_type": "stream",
     "text": [
      "\u001b[34m\u001b[1mwandb\u001b[0m: Adding directory to artifact (C:\\Users\\PARK\\Documents\\LAB\\RNN vs LSTM\\FInal Example\\wandb\\run-20221015_184213-1cudq716\\files\\model-best)... Done. 0.0s\n"
     ]
    },
    {
     "name": "stdout",
     "output_type": "stream",
     "text": [
      "5/5 [==============================] - 2s 511ms/step - loss: 0.0083 - mae: 0.0723 - val_loss: 0.0087 - val_mae: 0.0737\n",
      "Epoch 140/500\n",
      "5/5 [==============================] - 1s 174ms/step - loss: 0.0079 - mae: 0.0701 - val_loss: 0.0121 - val_mae: 0.0871\n",
      "Epoch 141/500\n",
      "5/5 [==============================] - 1s 153ms/step - loss: 0.0093 - mae: 0.0770 - val_loss: 0.0107 - val_mae: 0.0805\n",
      "Epoch 142/500\n",
      "5/5 [==============================] - 1s 146ms/step - loss: 0.0083 - mae: 0.0721 - val_loss: 0.0092 - val_mae: 0.0761\n",
      "Epoch 143/500\n",
      "5/5 [==============================] - 1s 140ms/step - loss: 0.0074 - mae: 0.0673 - val_loss: 0.0094 - val_mae: 0.0761\n",
      "Epoch 144/500\n",
      "5/5 [==============================] - 1s 144ms/step - loss: 0.0074 - mae: 0.0677 - val_loss: 0.0088 - val_mae: 0.0745\n",
      "Epoch 145/500\n",
      "5/5 [==============================] - 1s 143ms/step - loss: 0.0070 - mae: 0.0657 - val_loss: 0.0091 - val_mae: 0.0762\n",
      "Epoch 146/500\n",
      "5/5 [==============================] - 1s 151ms/step - loss: 0.0072 - mae: 0.0667 - val_loss: 0.0090 - val_mae: 0.0753\n",
      "Epoch 147/500\n",
      "5/5 [==============================] - ETA: 0s - loss: 0.0071 - mae: 0.0661INFO:tensorflow:Assets written to: C:\\Users\\PARK\\Documents\\LAB\\RNN vs LSTM\\FInal Example\\wandb\\run-20221015_184213-1cudq716\\files\\model-best\\assets\n"
     ]
    },
    {
     "name": "stderr",
     "output_type": "stream",
     "text": [
      "\u001b[34m\u001b[1mwandb\u001b[0m: Adding directory to artifact (C:\\Users\\PARK\\Documents\\LAB\\RNN vs LSTM\\FInal Example\\wandb\\run-20221015_184213-1cudq716\\files\\model-best)... Done. 0.0s\n"
     ]
    },
    {
     "name": "stdout",
     "output_type": "stream",
     "text": [
      "5/5 [==============================] - 2s 470ms/step - loss: 0.0071 - mae: 0.0661 - val_loss: 0.0086 - val_mae: 0.0739\n",
      "Epoch 148/500\n",
      "5/5 [==============================] - 1s 167ms/step - loss: 0.0067 - mae: 0.0639 - val_loss: 0.0090 - val_mae: 0.0756\n",
      "Epoch 149/500\n",
      "5/5 [==============================] - ETA: 0s - loss: 0.0069 - mae: 0.0659INFO:tensorflow:Assets written to: C:\\Users\\PARK\\Documents\\LAB\\RNN vs LSTM\\FInal Example\\wandb\\run-20221015_184213-1cudq716\\files\\model-best\\assets\n"
     ]
    },
    {
     "name": "stderr",
     "output_type": "stream",
     "text": [
      "\u001b[34m\u001b[1mwandb\u001b[0m: Adding directory to artifact (C:\\Users\\PARK\\Documents\\LAB\\RNN vs LSTM\\FInal Example\\wandb\\run-20221015_184213-1cudq716\\files\\model-best)... Done. 0.0s\n"
     ]
    },
    {
     "name": "stdout",
     "output_type": "stream",
     "text": [
      "5/5 [==============================] - 2s 501ms/step - loss: 0.0069 - mae: 0.0659 - val_loss: 0.0085 - val_mae: 0.0730\n",
      "Epoch 150/500\n",
      "5/5 [==============================] - 1s 168ms/step - loss: 0.0069 - mae: 0.0652 - val_loss: 0.0086 - val_mae: 0.0737\n",
      "Epoch 151/500\n",
      "5/5 [==============================] - 1s 159ms/step - loss: 0.0068 - mae: 0.0646 - val_loss: 0.0086 - val_mae: 0.0728\n",
      "Epoch 152/500\n",
      "5/5 [==============================] - ETA: 0s - loss: 0.0065 - mae: 0.0630INFO:tensorflow:Assets written to: C:\\Users\\PARK\\Documents\\LAB\\RNN vs LSTM\\FInal Example\\wandb\\run-20221015_184213-1cudq716\\files\\model-best\\assets\n"
     ]
    },
    {
     "name": "stderr",
     "output_type": "stream",
     "text": [
      "\u001b[34m\u001b[1mwandb\u001b[0m: Adding directory to artifact (C:\\Users\\PARK\\Documents\\LAB\\RNN vs LSTM\\FInal Example\\wandb\\run-20221015_184213-1cudq716\\files\\model-best)... Done. 0.0s\n"
     ]
    },
    {
     "name": "stdout",
     "output_type": "stream",
     "text": [
      "5/5 [==============================] - 2s 491ms/step - loss: 0.0065 - mae: 0.0630 - val_loss: 0.0083 - val_mae: 0.0721\n",
      "Epoch 153/500\n",
      "5/5 [==============================] - ETA: 0s - loss: 0.0065 - mae: 0.0633INFO:tensorflow:Assets written to: C:\\Users\\PARK\\Documents\\LAB\\RNN vs LSTM\\FInal Example\\wandb\\run-20221015_184213-1cudq716\\files\\model-best\\assets\n"
     ]
    },
    {
     "name": "stderr",
     "output_type": "stream",
     "text": [
      "\u001b[34m\u001b[1mwandb\u001b[0m: Adding directory to artifact (C:\\Users\\PARK\\Documents\\LAB\\RNN vs LSTM\\FInal Example\\wandb\\run-20221015_184213-1cudq716\\files\\model-best)... Done. 0.0s\n"
     ]
    },
    {
     "name": "stdout",
     "output_type": "stream",
     "text": [
      "5/5 [==============================] - 2s 520ms/step - loss: 0.0065 - mae: 0.0633 - val_loss: 0.0082 - val_mae: 0.0719\n",
      "Epoch 154/500\n",
      "5/5 [==============================] - 1s 173ms/step - loss: 0.0065 - mae: 0.0628 - val_loss: 0.0089 - val_mae: 0.0756\n",
      "Epoch 155/500\n",
      "5/5 [==============================] - 1s 152ms/step - loss: 0.0067 - mae: 0.0642 - val_loss: 0.0089 - val_mae: 0.0755\n",
      "Epoch 156/500\n",
      "5/5 [==============================] - 1s 153ms/step - loss: 0.0066 - mae: 0.0642 - val_loss: 0.0085 - val_mae: 0.0723\n",
      "Epoch 157/500\n",
      "5/5 [==============================] - 1s 149ms/step - loss: 0.0066 - mae: 0.0639 - val_loss: 0.0087 - val_mae: 0.0734\n",
      "Epoch 158/500\n",
      "5/5 [==============================] - 1s 140ms/step - loss: 0.0066 - mae: 0.0632 - val_loss: 0.0099 - val_mae: 0.0776\n",
      "Epoch 159/500\n",
      "5/5 [==============================] - 1s 141ms/step - loss: 0.0076 - mae: 0.0689 - val_loss: 0.0090 - val_mae: 0.0733\n",
      "Epoch 160/500\n",
      "5/5 [==============================] - 1s 152ms/step - loss: 0.0076 - mae: 0.0684 - val_loss: 0.0083 - val_mae: 0.0723\n",
      "Epoch 161/500\n",
      "5/5 [==============================] - 1s 160ms/step - loss: 0.0072 - mae: 0.0661 - val_loss: 0.0083 - val_mae: 0.0731\n",
      "Epoch 162/500\n",
      "5/5 [==============================] - 1s 154ms/step - loss: 0.0065 - mae: 0.0632 - val_loss: 0.0095 - val_mae: 0.0790\n",
      "Epoch 163/500\n",
      "5/5 [==============================] - 1s 155ms/step - loss: 0.0072 - mae: 0.0670 - val_loss: 0.0089 - val_mae: 0.0762\n",
      "Epoch 164/500\n",
      "5/5 [==============================] - ETA: 0s - loss: 0.0064 - mae: 0.0638INFO:tensorflow:Assets written to: C:\\Users\\PARK\\Documents\\LAB\\RNN vs LSTM\\FInal Example\\wandb\\run-20221015_184213-1cudq716\\files\\model-best\\assets\n"
     ]
    },
    {
     "name": "stderr",
     "output_type": "stream",
     "text": [
      "\u001b[34m\u001b[1mwandb\u001b[0m: Adding directory to artifact (C:\\Users\\PARK\\Documents\\LAB\\RNN vs LSTM\\FInal Example\\wandb\\run-20221015_184213-1cudq716\\files\\model-best)... Done. 0.0s\n"
     ]
    },
    {
     "name": "stdout",
     "output_type": "stream",
     "text": [
      "5/5 [==============================] - 2s 485ms/step - loss: 0.0064 - mae: 0.0638 - val_loss: 0.0081 - val_mae: 0.0711\n",
      "Epoch 165/500\n",
      "5/5 [==============================] - ETA: 0s - loss: 0.0062 - mae: 0.0616INFO:tensorflow:Assets written to: C:\\Users\\PARK\\Documents\\LAB\\RNN vs LSTM\\FInal Example\\wandb\\run-20221015_184213-1cudq716\\files\\model-best\\assets\n"
     ]
    },
    {
     "name": "stderr",
     "output_type": "stream",
     "text": [
      "\u001b[34m\u001b[1mwandb\u001b[0m: Adding directory to artifact (C:\\Users\\PARK\\Documents\\LAB\\RNN vs LSTM\\FInal Example\\wandb\\run-20221015_184213-1cudq716\\files\\model-best)... Done. 0.0s\n"
     ]
    },
    {
     "name": "stdout",
     "output_type": "stream",
     "text": [
      "5/5 [==============================] - 2s 495ms/step - loss: 0.0062 - mae: 0.0616 - val_loss: 0.0077 - val_mae: 0.0690\n",
      "Epoch 166/500\n",
      "5/5 [==============================] - 1s 156ms/step - loss: 0.0066 - mae: 0.0636 - val_loss: 0.0078 - val_mae: 0.0693\n",
      "Epoch 167/500\n",
      "5/5 [==============================] - 1s 145ms/step - loss: 0.0062 - mae: 0.0624 - val_loss: 0.0080 - val_mae: 0.0702\n",
      "Epoch 168/500\n",
      "5/5 [==============================] - 1s 138ms/step - loss: 0.0061 - mae: 0.0612 - val_loss: 0.0078 - val_mae: 0.0689\n",
      "Epoch 169/500\n",
      "5/5 [==============================] - 1s 141ms/step - loss: 0.0059 - mae: 0.0598 - val_loss: 0.0079 - val_mae: 0.0700\n",
      "Epoch 170/500\n",
      "5/5 [==============================] - 1s 147ms/step - loss: 0.0058 - mae: 0.0595 - val_loss: 0.0084 - val_mae: 0.0716\n",
      "Epoch 171/500\n",
      "5/5 [==============================] - 1s 155ms/step - loss: 0.0065 - mae: 0.0632 - val_loss: 0.0083 - val_mae: 0.0716\n",
      "Epoch 172/500\n",
      "5/5 [==============================] - 1s 152ms/step - loss: 0.0067 - mae: 0.0638 - val_loss: 0.0079 - val_mae: 0.0700\n",
      "Epoch 173/500\n",
      "5/5 [==============================] - ETA: 0s - loss: 0.0066 - mae: 0.0631INFO:tensorflow:Assets written to: C:\\Users\\PARK\\Documents\\LAB\\RNN vs LSTM\\FInal Example\\wandb\\run-20221015_184213-1cudq716\\files\\model-best\\assets\n"
     ]
    },
    {
     "name": "stderr",
     "output_type": "stream",
     "text": [
      "\u001b[34m\u001b[1mwandb\u001b[0m: Adding directory to artifact (C:\\Users\\PARK\\Documents\\LAB\\RNN vs LSTM\\FInal Example\\wandb\\run-20221015_184213-1cudq716\\files\\model-best)... Done. 0.0s\n"
     ]
    },
    {
     "name": "stdout",
     "output_type": "stream",
     "text": [
      "5/5 [==============================] - 2s 520ms/step - loss: 0.0066 - mae: 0.0631 - val_loss: 0.0077 - val_mae: 0.0689\n",
      "Epoch 174/500\n",
      "5/5 [==============================] - 1s 181ms/step - loss: 0.0059 - mae: 0.0601 - val_loss: 0.0077 - val_mae: 0.0702\n",
      "Epoch 175/500\n",
      "5/5 [==============================] - ETA: 0s - loss: 0.0060 - mae: 0.0605INFO:tensorflow:Assets written to: C:\\Users\\PARK\\Documents\\LAB\\RNN vs LSTM\\FInal Example\\wandb\\run-20221015_184213-1cudq716\\files\\model-best\\assets\n"
     ]
    },
    {
     "name": "stderr",
     "output_type": "stream",
     "text": [
      "\u001b[34m\u001b[1mwandb\u001b[0m: Adding directory to artifact (C:\\Users\\PARK\\Documents\\LAB\\RNN vs LSTM\\FInal Example\\wandb\\run-20221015_184213-1cudq716\\files\\model-best)... Done. 0.0s\n"
     ]
    },
    {
     "name": "stdout",
     "output_type": "stream",
     "text": [
      "5/5 [==============================] - 2s 490ms/step - loss: 0.0060 - mae: 0.0605 - val_loss: 0.0075 - val_mae: 0.0686\n",
      "Epoch 176/500\n",
      "5/5 [==============================] - 1s 165ms/step - loss: 0.0060 - mae: 0.0607 - val_loss: 0.0076 - val_mae: 0.0691\n",
      "Epoch 177/500\n",
      "5/5 [==============================] - 1s 157ms/step - loss: 0.0056 - mae: 0.0579 - val_loss: 0.0087 - val_mae: 0.0751\n",
      "Epoch 178/500\n",
      "5/5 [==============================] - ETA: 0s - loss: 0.0061 - mae: 0.0613INFO:tensorflow:Assets written to: C:\\Users\\PARK\\Documents\\LAB\\RNN vs LSTM\\FInal Example\\wandb\\run-20221015_184213-1cudq716\\files\\model-best\\assets\n"
     ]
    },
    {
     "name": "stderr",
     "output_type": "stream",
     "text": [
      "\u001b[34m\u001b[1mwandb\u001b[0m: Adding directory to artifact (C:\\Users\\PARK\\Documents\\LAB\\RNN vs LSTM\\FInal Example\\wandb\\run-20221015_184213-1cudq716\\files\\model-best)... Done. 0.0s\n"
     ]
    },
    {
     "name": "stdout",
     "output_type": "stream",
     "text": [
      "5/5 [==============================] - 2s 492ms/step - loss: 0.0061 - mae: 0.0613 - val_loss: 0.0071 - val_mae: 0.0667\n",
      "Epoch 179/500\n",
      "5/5 [==============================] - 1s 163ms/step - loss: 0.0054 - mae: 0.0575 - val_loss: 0.0075 - val_mae: 0.0677\n",
      "Epoch 180/500\n",
      "5/5 [==============================] - 1s 154ms/step - loss: 0.0055 - mae: 0.0576 - val_loss: 0.0079 - val_mae: 0.0688\n",
      "Epoch 181/500\n",
      "5/5 [==============================] - 1s 152ms/step - loss: 0.0058 - mae: 0.0593 - val_loss: 0.0080 - val_mae: 0.0697\n",
      "Epoch 182/500\n",
      "5/5 [==============================] - 1s 142ms/step - loss: 0.0061 - mae: 0.0614 - val_loss: 0.0072 - val_mae: 0.0673\n",
      "Epoch 183/500\n",
      "5/5 [==============================] - 1s 146ms/step - loss: 0.0056 - mae: 0.0579 - val_loss: 0.0074 - val_mae: 0.0682\n",
      "Epoch 184/500\n",
      "5/5 [==============================] - 1s 145ms/step - loss: 0.0054 - mae: 0.0573 - val_loss: 0.0074 - val_mae: 0.0689\n",
      "Epoch 185/500\n",
      "5/5 [==============================] - 1s 145ms/step - loss: 0.0053 - mae: 0.0565 - val_loss: 0.0073 - val_mae: 0.0672\n",
      "Epoch 186/500\n",
      "5/5 [==============================] - ETA: 0s - loss: 0.0053 - mae: 0.0567INFO:tensorflow:Assets written to: C:\\Users\\PARK\\Documents\\LAB\\RNN vs LSTM\\FInal Example\\wandb\\run-20221015_184213-1cudq716\\files\\model-best\\assets\n"
     ]
    },
    {
     "name": "stderr",
     "output_type": "stream",
     "text": [
      "\u001b[34m\u001b[1mwandb\u001b[0m: Adding directory to artifact (C:\\Users\\PARK\\Documents\\LAB\\RNN vs LSTM\\FInal Example\\wandb\\run-20221015_184213-1cudq716\\files\\model-best)... Done. 0.0s\n"
     ]
    },
    {
     "name": "stdout",
     "output_type": "stream",
     "text": [
      "5/5 [==============================] - 2s 498ms/step - loss: 0.0053 - mae: 0.0567 - val_loss: 0.0071 - val_mae: 0.0663\n",
      "Epoch 187/500\n",
      "5/5 [==============================] - 1s 160ms/step - loss: 0.0053 - mae: 0.0574 - val_loss: 0.0074 - val_mae: 0.0675\n",
      "Epoch 188/500\n",
      "5/5 [==============================] - 1s 152ms/step - loss: 0.0055 - mae: 0.0580 - val_loss: 0.0077 - val_mae: 0.0677\n",
      "Epoch 189/500\n",
      "5/5 [==============================] - 1s 142ms/step - loss: 0.0053 - mae: 0.0568 - val_loss: 0.0073 - val_mae: 0.0671\n",
      "Epoch 190/500\n",
      "5/5 [==============================] - ETA: 0s - loss: 0.0051 - mae: 0.0563INFO:tensorflow:Assets written to: C:\\Users\\PARK\\Documents\\LAB\\RNN vs LSTM\\FInal Example\\wandb\\run-20221015_184213-1cudq716\\files\\model-best\\assets\n"
     ]
    },
    {
     "name": "stderr",
     "output_type": "stream",
     "text": [
      "\u001b[34m\u001b[1mwandb\u001b[0m: Adding directory to artifact (C:\\Users\\PARK\\Documents\\LAB\\RNN vs LSTM\\FInal Example\\wandb\\run-20221015_184213-1cudq716\\files\\model-best)... Done. 0.0s\n"
     ]
    },
    {
     "name": "stdout",
     "output_type": "stream",
     "text": [
      "5/5 [==============================] - 2s 471ms/step - loss: 0.0051 - mae: 0.0563 - val_loss: 0.0071 - val_mae: 0.0659\n",
      "Epoch 191/500\n",
      "5/5 [==============================] - 1s 164ms/step - loss: 0.0052 - mae: 0.0564 - val_loss: 0.0073 - val_mae: 0.0668\n",
      "Epoch 192/500\n",
      "5/5 [==============================] - 1s 156ms/step - loss: 0.0054 - mae: 0.0572 - val_loss: 0.0074 - val_mae: 0.0673\n",
      "Epoch 193/500\n",
      "5/5 [==============================] - ETA: 0s - loss: 0.0053 - mae: 0.0570INFO:tensorflow:Assets written to: C:\\Users\\PARK\\Documents\\LAB\\RNN vs LSTM\\FInal Example\\wandb\\run-20221015_184213-1cudq716\\files\\model-best\\assets\n"
     ]
    },
    {
     "name": "stderr",
     "output_type": "stream",
     "text": [
      "\u001b[34m\u001b[1mwandb\u001b[0m: Adding directory to artifact (C:\\Users\\PARK\\Documents\\LAB\\RNN vs LSTM\\FInal Example\\wandb\\run-20221015_184213-1cudq716\\files\\model-best)... Done. 0.0s\n"
     ]
    },
    {
     "name": "stdout",
     "output_type": "stream",
     "text": [
      "5/5 [==============================] - 2s 485ms/step - loss: 0.0053 - mae: 0.0570 - val_loss: 0.0071 - val_mae: 0.0669\n",
      "Epoch 194/500\n",
      "5/5 [==============================] - 1s 174ms/step - loss: 0.0052 - mae: 0.0569 - val_loss: 0.0079 - val_mae: 0.0692\n",
      "Epoch 195/500\n",
      "5/5 [==============================] - 1s 145ms/step - loss: 0.0056 - mae: 0.0595 - val_loss: 0.0081 - val_mae: 0.0714\n",
      "Epoch 196/500\n",
      "5/5 [==============================] - 1s 141ms/step - loss: 0.0060 - mae: 0.0610 - val_loss: 0.0073 - val_mae: 0.0667\n",
      "Epoch 197/500\n",
      "5/5 [==============================] - 1s 147ms/step - loss: 0.0055 - mae: 0.0584 - val_loss: 0.0095 - val_mae: 0.0774\n",
      "Epoch 198/500\n",
      "5/5 [==============================] - 1s 154ms/step - loss: 0.0062 - mae: 0.0625 - val_loss: 0.0073 - val_mae: 0.0666\n",
      "Epoch 199/500\n",
      "5/5 [==============================] - 1s 144ms/step - loss: 0.0050 - mae: 0.0545 - val_loss: 0.0071 - val_mae: 0.0671\n",
      "Epoch 200/500\n",
      "5/5 [==============================] - ETA: 0s - loss: 0.0048 - mae: 0.0542INFO:tensorflow:Assets written to: C:\\Users\\PARK\\Documents\\LAB\\RNN vs LSTM\\FInal Example\\wandb\\run-20221015_184213-1cudq716\\files\\model-best\\assets\n"
     ]
    },
    {
     "name": "stderr",
     "output_type": "stream",
     "text": [
      "\u001b[34m\u001b[1mwandb\u001b[0m: Adding directory to artifact (C:\\Users\\PARK\\Documents\\LAB\\RNN vs LSTM\\FInal Example\\wandb\\run-20221015_184213-1cudq716\\files\\model-best)... Done. 0.0s\n"
     ]
    },
    {
     "name": "stdout",
     "output_type": "stream",
     "text": [
      "5/5 [==============================] - 2s 498ms/step - loss: 0.0048 - mae: 0.0542 - val_loss: 0.0069 - val_mae: 0.0656\n",
      "Epoch 201/500\n",
      "5/5 [==============================] - 1s 169ms/step - loss: 0.0047 - mae: 0.0536 - val_loss: 0.0069 - val_mae: 0.0653\n",
      "Epoch 202/500\n",
      "5/5 [==============================] - ETA: 0s - loss: 0.0048 - mae: 0.0540INFO:tensorflow:Assets written to: C:\\Users\\PARK\\Documents\\LAB\\RNN vs LSTM\\FInal Example\\wandb\\run-20221015_184213-1cudq716\\files\\model-best\\assets\n"
     ]
    },
    {
     "name": "stderr",
     "output_type": "stream",
     "text": [
      "\u001b[34m\u001b[1mwandb\u001b[0m: Adding directory to artifact (C:\\Users\\PARK\\Documents\\LAB\\RNN vs LSTM\\FInal Example\\wandb\\run-20221015_184213-1cudq716\\files\\model-best)... Done. 0.0s\n"
     ]
    },
    {
     "name": "stdout",
     "output_type": "stream",
     "text": [
      "5/5 [==============================] - 2s 484ms/step - loss: 0.0048 - mae: 0.0540 - val_loss: 0.0066 - val_mae: 0.0637\n",
      "Epoch 203/500\n",
      "5/5 [==============================] - 1s 170ms/step - loss: 0.0046 - mae: 0.0531 - val_loss: 0.0067 - val_mae: 0.0644\n",
      "Epoch 204/500\n",
      "5/5 [==============================] - 1s 155ms/step - loss: 0.0045 - mae: 0.0524 - val_loss: 0.0067 - val_mae: 0.0648\n",
      "Epoch 205/500\n",
      "5/5 [==============================] - 1s 151ms/step - loss: 0.0047 - mae: 0.0536 - val_loss: 0.0066 - val_mae: 0.0641\n",
      "Epoch 206/500\n",
      "5/5 [==============================] - 1s 146ms/step - loss: 0.0045 - mae: 0.0528 - val_loss: 0.0070 - val_mae: 0.0670\n",
      "Epoch 207/500\n",
      "5/5 [==============================] - 1s 145ms/step - loss: 0.0045 - mae: 0.0530 - val_loss: 0.0067 - val_mae: 0.0650\n",
      "Epoch 208/500\n",
      "5/5 [==============================] - ETA: 0s - loss: 0.0044 - mae: 0.0522INFO:tensorflow:Assets written to: C:\\Users\\PARK\\Documents\\LAB\\RNN vs LSTM\\FInal Example\\wandb\\run-20221015_184213-1cudq716\\files\\model-best\\assets\n"
     ]
    },
    {
     "name": "stderr",
     "output_type": "stream",
     "text": [
      "\u001b[34m\u001b[1mwandb\u001b[0m: Adding directory to artifact (C:\\Users\\PARK\\Documents\\LAB\\RNN vs LSTM\\FInal Example\\wandb\\run-20221015_184213-1cudq716\\files\\model-best)... Done. 0.0s\n"
     ]
    },
    {
     "name": "stdout",
     "output_type": "stream",
     "text": [
      "5/5 [==============================] - 2s 473ms/step - loss: 0.0044 - mae: 0.0522 - val_loss: 0.0065 - val_mae: 0.0636\n",
      "Epoch 209/500\n",
      "5/5 [==============================] - 1s 169ms/step - loss: 0.0045 - mae: 0.0525 - val_loss: 0.0066 - val_mae: 0.0635\n",
      "Epoch 210/500\n",
      "5/5 [==============================] - 1s 153ms/step - loss: 0.0046 - mae: 0.0529 - val_loss: 0.0065 - val_mae: 0.0637\n",
      "Epoch 211/500\n",
      "5/5 [==============================] - 1s 158ms/step - loss: 0.0045 - mae: 0.0526 - val_loss: 0.0067 - val_mae: 0.0653\n",
      "Epoch 212/500\n",
      "5/5 [==============================] - 1s 147ms/step - loss: 0.0044 - mae: 0.0520 - val_loss: 0.0073 - val_mae: 0.0684\n",
      "Epoch 213/500\n",
      "5/5 [==============================] - 1s 138ms/step - loss: 0.0046 - mae: 0.0541 - val_loss: 0.0069 - val_mae: 0.0674\n",
      "Epoch 214/500\n",
      "5/5 [==============================] - ETA: 0s - loss: 0.0043 - mae: 0.0524INFO:tensorflow:Assets written to: C:\\Users\\PARK\\Documents\\LAB\\RNN vs LSTM\\FInal Example\\wandb\\run-20221015_184213-1cudq716\\files\\model-best\\assets\n"
     ]
    },
    {
     "name": "stderr",
     "output_type": "stream",
     "text": [
      "\u001b[34m\u001b[1mwandb\u001b[0m: Adding directory to artifact (C:\\Users\\PARK\\Documents\\LAB\\RNN vs LSTM\\FInal Example\\wandb\\run-20221015_184213-1cudq716\\files\\model-best)... Done. 0.0s\n"
     ]
    },
    {
     "name": "stdout",
     "output_type": "stream",
     "text": [
      "5/5 [==============================] - 2s 495ms/step - loss: 0.0043 - mae: 0.0524 - val_loss: 0.0065 - val_mae: 0.0638\n",
      "Epoch 215/500\n",
      "5/5 [==============================] - 1s 158ms/step - loss: 0.0042 - mae: 0.0505 - val_loss: 0.0074 - val_mae: 0.0699\n",
      "Epoch 216/500\n",
      "5/5 [==============================] - 1s 153ms/step - loss: 0.0045 - mae: 0.0532 - val_loss: 0.0066 - val_mae: 0.0649\n",
      "Epoch 217/500\n",
      "5/5 [==============================] - ETA: 0s - loss: 0.0042 - mae: 0.0512INFO:tensorflow:Assets written to: C:\\Users\\PARK\\Documents\\LAB\\RNN vs LSTM\\FInal Example\\wandb\\run-20221015_184213-1cudq716\\files\\model-best\\assets\n"
     ]
    },
    {
     "name": "stderr",
     "output_type": "stream",
     "text": [
      "\u001b[34m\u001b[1mwandb\u001b[0m: Adding directory to artifact (C:\\Users\\PARK\\Documents\\LAB\\RNN vs LSTM\\FInal Example\\wandb\\run-20221015_184213-1cudq716\\files\\model-best)... Done. 0.0s\n"
     ]
    },
    {
     "name": "stdout",
     "output_type": "stream",
     "text": [
      "5/5 [==============================] - 2s 479ms/step - loss: 0.0042 - mae: 0.0512 - val_loss: 0.0064 - val_mae: 0.0631\n",
      "Epoch 218/500\n",
      "5/5 [==============================] - 1s 161ms/step - loss: 0.0041 - mae: 0.0503 - val_loss: 0.0068 - val_mae: 0.0642\n",
      "Epoch 219/500\n",
      "5/5 [==============================] - 1s 153ms/step - loss: 0.0042 - mae: 0.0506 - val_loss: 0.0065 - val_mae: 0.0631\n",
      "Epoch 220/500\n",
      "5/5 [==============================] - 1s 158ms/step - loss: 0.0040 - mae: 0.0499 - val_loss: 0.0065 - val_mae: 0.0645\n",
      "Epoch 221/500\n",
      "5/5 [==============================] - ETA: 0s - loss: 0.0040 - mae: 0.0502INFO:tensorflow:Assets written to: C:\\Users\\PARK\\Documents\\LAB\\RNN vs LSTM\\FInal Example\\wandb\\run-20221015_184213-1cudq716\\files\\model-best\\assets\n"
     ]
    },
    {
     "name": "stderr",
     "output_type": "stream",
     "text": [
      "\u001b[34m\u001b[1mwandb\u001b[0m: Adding directory to artifact (C:\\Users\\PARK\\Documents\\LAB\\RNN vs LSTM\\FInal Example\\wandb\\run-20221015_184213-1cudq716\\files\\model-best)... Done. 0.0s\n"
     ]
    },
    {
     "name": "stdout",
     "output_type": "stream",
     "text": [
      "5/5 [==============================] - 2s 481ms/step - loss: 0.0040 - mae: 0.0502 - val_loss: 0.0061 - val_mae: 0.0616\n",
      "Epoch 222/500\n",
      "5/5 [==============================] - 1s 171ms/step - loss: 0.0040 - mae: 0.0498 - val_loss: 0.0067 - val_mae: 0.0652\n",
      "Epoch 223/500\n",
      "5/5 [==============================] - 1s 152ms/step - loss: 0.0041 - mae: 0.0510 - val_loss: 0.0062 - val_mae: 0.0619\n",
      "Epoch 224/500\n",
      "5/5 [==============================] - 1s 151ms/step - loss: 0.0039 - mae: 0.0495 - val_loss: 0.0063 - val_mae: 0.0636\n",
      "Epoch 225/500\n",
      "5/5 [==============================] - ETA: 0s - loss: 0.0037 - mae: 0.0485INFO:tensorflow:Assets written to: C:\\Users\\PARK\\Documents\\LAB\\RNN vs LSTM\\FInal Example\\wandb\\run-20221015_184213-1cudq716\\files\\model-best\\assets\n"
     ]
    },
    {
     "name": "stderr",
     "output_type": "stream",
     "text": [
      "\u001b[34m\u001b[1mwandb\u001b[0m: Adding directory to artifact (C:\\Users\\PARK\\Documents\\LAB\\RNN vs LSTM\\FInal Example\\wandb\\run-20221015_184213-1cudq716\\files\\model-best)... Done. 0.0s\n"
     ]
    },
    {
     "name": "stdout",
     "output_type": "stream",
     "text": [
      "5/5 [==============================] - 2s 497ms/step - loss: 0.0037 - mae: 0.0485 - val_loss: 0.0060 - val_mae: 0.0610\n",
      "Epoch 226/500\n",
      "5/5 [==============================] - 1s 169ms/step - loss: 0.0039 - mae: 0.0495 - val_loss: 0.0062 - val_mae: 0.0627\n",
      "Epoch 227/500\n",
      "5/5 [==============================] - 1s 158ms/step - loss: 0.0039 - mae: 0.0485 - val_loss: 0.0061 - val_mae: 0.0625\n",
      "Epoch 228/500\n",
      "5/5 [==============================] - 1s 154ms/step - loss: 0.0039 - mae: 0.0494 - val_loss: 0.0064 - val_mae: 0.0645\n",
      "Epoch 229/500\n",
      "5/5 [==============================] - 1s 140ms/step - loss: 0.0042 - mae: 0.0514 - val_loss: 0.0060 - val_mae: 0.0605\n",
      "Epoch 230/500\n",
      "5/5 [==============================] - ETA: 0s - loss: 0.0041 - mae: 0.0509INFO:tensorflow:Assets written to: C:\\Users\\PARK\\Documents\\LAB\\RNN vs LSTM\\FInal Example\\wandb\\run-20221015_184213-1cudq716\\files\\model-best\\assets\n"
     ]
    },
    {
     "name": "stderr",
     "output_type": "stream",
     "text": [
      "\u001b[34m\u001b[1mwandb\u001b[0m: Adding directory to artifact (C:\\Users\\PARK\\Documents\\LAB\\RNN vs LSTM\\FInal Example\\wandb\\run-20221015_184213-1cudq716\\files\\model-best)... Done. 0.0s\n"
     ]
    },
    {
     "name": "stdout",
     "output_type": "stream",
     "text": [
      "5/5 [==============================] - 2s 479ms/step - loss: 0.0041 - mae: 0.0509 - val_loss: 0.0059 - val_mae: 0.0610\n",
      "Epoch 231/500\n",
      "5/5 [==============================] - ETA: 0s - loss: 0.0036 - mae: 0.0476INFO:tensorflow:Assets written to: C:\\Users\\PARK\\Documents\\LAB\\RNN vs LSTM\\FInal Example\\wandb\\run-20221015_184213-1cudq716\\files\\model-best\\assets\n"
     ]
    },
    {
     "name": "stderr",
     "output_type": "stream",
     "text": [
      "\u001b[34m\u001b[1mwandb\u001b[0m: Adding directory to artifact (C:\\Users\\PARK\\Documents\\LAB\\RNN vs LSTM\\FInal Example\\wandb\\run-20221015_184213-1cudq716\\files\\model-best)... Done. 0.0s\n"
     ]
    },
    {
     "name": "stdout",
     "output_type": "stream",
     "text": [
      "5/5 [==============================] - 2s 529ms/step - loss: 0.0036 - mae: 0.0476 - val_loss: 0.0059 - val_mae: 0.0594\n",
      "Epoch 232/500\n",
      "5/5 [==============================] - 1s 163ms/step - loss: 0.0039 - mae: 0.0495 - val_loss: 0.0063 - val_mae: 0.0622\n",
      "Epoch 233/500\n",
      "5/5 [==============================] - 1s 147ms/step - loss: 0.0044 - mae: 0.0524 - val_loss: 0.0059 - val_mae: 0.0600\n",
      "Epoch 234/500\n",
      "5/5 [==============================] - ETA: 0s - loss: 0.0043 - mae: 0.0523INFO:tensorflow:Assets written to: C:\\Users\\PARK\\Documents\\LAB\\RNN vs LSTM\\FInal Example\\wandb\\run-20221015_184213-1cudq716\\files\\model-best\\assets\n"
     ]
    },
    {
     "name": "stderr",
     "output_type": "stream",
     "text": [
      "\u001b[34m\u001b[1mwandb\u001b[0m: Adding directory to artifact (C:\\Users\\PARK\\Documents\\LAB\\RNN vs LSTM\\FInal Example\\wandb\\run-20221015_184213-1cudq716\\files\\model-best)... Done. 0.0s\n"
     ]
    },
    {
     "name": "stdout",
     "output_type": "stream",
     "text": [
      "5/5 [==============================] - 2s 485ms/step - loss: 0.0043 - mae: 0.0523 - val_loss: 0.0057 - val_mae: 0.0602\n",
      "Epoch 235/500\n",
      "5/5 [==============================] - 1s 164ms/step - loss: 0.0039 - mae: 0.0500 - val_loss: 0.0059 - val_mae: 0.0614\n",
      "Epoch 236/500\n",
      "5/5 [==============================] - 1s 160ms/step - loss: 0.0040 - mae: 0.0500 - val_loss: 0.0072 - val_mae: 0.0675\n",
      "Epoch 237/500\n",
      "5/5 [==============================] - 1s 159ms/step - loss: 0.0044 - mae: 0.0527 - val_loss: 0.0081 - val_mae: 0.0732\n",
      "Epoch 238/500\n",
      "5/5 [==============================] - 1s 137ms/step - loss: 0.0050 - mae: 0.0560 - val_loss: 0.0066 - val_mae: 0.0641\n",
      "Epoch 239/500\n",
      "5/5 [==============================] - 1s 138ms/step - loss: 0.0042 - mae: 0.0508 - val_loss: 0.0061 - val_mae: 0.0604\n",
      "Epoch 240/500\n",
      "5/5 [==============================] - 1s 149ms/step - loss: 0.0040 - mae: 0.0496 - val_loss: 0.0061 - val_mae: 0.0610\n",
      "Epoch 241/500\n",
      "5/5 [==============================] - 1s 154ms/step - loss: 0.0036 - mae: 0.0477 - val_loss: 0.0064 - val_mae: 0.0628\n",
      "Epoch 242/500\n",
      "5/5 [==============================] - 1s 153ms/step - loss: 0.0039 - mae: 0.0489 - val_loss: 0.0058 - val_mae: 0.0606\n",
      "Epoch 243/500\n",
      "5/5 [==============================] - 1s 147ms/step - loss: 0.0038 - mae: 0.0487 - val_loss: 0.0060 - val_mae: 0.0600\n",
      "Epoch 244/500\n",
      "5/5 [==============================] - 1s 144ms/step - loss: 0.0036 - mae: 0.0480 - val_loss: 0.0059 - val_mae: 0.0604\n",
      "Epoch 245/500\n",
      "5/5 [==============================] - 1s 145ms/step - loss: 0.0036 - mae: 0.0470 - val_loss: 0.0057 - val_mae: 0.0591\n",
      "Epoch 246/500\n",
      "5/5 [==============================] - 1s 156ms/step - loss: 0.0036 - mae: 0.0476 - val_loss: 0.0062 - val_mae: 0.0626\n",
      "Epoch 247/500\n",
      "5/5 [==============================] - 1s 140ms/step - loss: 0.0036 - mae: 0.0478 - val_loss: 0.0068 - val_mae: 0.0663\n",
      "Epoch 248/500\n",
      "5/5 [==============================] - 1s 141ms/step - loss: 0.0042 - mae: 0.0512 - val_loss: 0.0063 - val_mae: 0.0626\n",
      "Epoch 249/500\n",
      "5/5 [==============================] - 1s 152ms/step - loss: 0.0043 - mae: 0.0517 - val_loss: 0.0061 - val_mae: 0.0622\n",
      "Epoch 250/500\n",
      "5/5 [==============================] - 1s 152ms/step - loss: 0.0038 - mae: 0.0493 - val_loss: 0.0058 - val_mae: 0.0607\n",
      "Epoch 251/500\n",
      "5/5 [==============================] - 1s 145ms/step - loss: 0.0037 - mae: 0.0484 - val_loss: 0.0061 - val_mae: 0.0620\n",
      "Epoch 252/500\n",
      "5/5 [==============================] - 1s 145ms/step - loss: 0.0037 - mae: 0.0482 - val_loss: 0.0061 - val_mae: 0.0615\n",
      "Epoch 253/500\n",
      "5/5 [==============================] - ETA: 0s - loss: 0.0037 - mae: 0.0479INFO:tensorflow:Assets written to: C:\\Users\\PARK\\Documents\\LAB\\RNN vs LSTM\\FInal Example\\wandb\\run-20221015_184213-1cudq716\\files\\model-best\\assets\n"
     ]
    },
    {
     "name": "stderr",
     "output_type": "stream",
     "text": [
      "\u001b[34m\u001b[1mwandb\u001b[0m: Adding directory to artifact (C:\\Users\\PARK\\Documents\\LAB\\RNN vs LSTM\\FInal Example\\wandb\\run-20221015_184213-1cudq716\\files\\model-best)... Done. 0.0s\n"
     ]
    },
    {
     "name": "stdout",
     "output_type": "stream",
     "text": [
      "5/5 [==============================] - 2s 478ms/step - loss: 0.0037 - mae: 0.0479 - val_loss: 0.0054 - val_mae: 0.0575\n",
      "Epoch 254/500\n",
      "5/5 [==============================] - ETA: 0s - loss: 0.0034 - mae: 0.0467INFO:tensorflow:Assets written to: C:\\Users\\PARK\\Documents\\LAB\\RNN vs LSTM\\FInal Example\\wandb\\run-20221015_184213-1cudq716\\files\\model-best\\assets\n"
     ]
    },
    {
     "name": "stderr",
     "output_type": "stream",
     "text": [
      "\u001b[34m\u001b[1mwandb\u001b[0m: Adding directory to artifact (C:\\Users\\PARK\\Documents\\LAB\\RNN vs LSTM\\FInal Example\\wandb\\run-20221015_184213-1cudq716\\files\\model-best)... Done. 0.0s\n"
     ]
    },
    {
     "name": "stdout",
     "output_type": "stream",
     "text": [
      "5/5 [==============================] - 2s 525ms/step - loss: 0.0034 - mae: 0.0467 - val_loss: 0.0054 - val_mae: 0.0579\n",
      "Epoch 255/500\n",
      "4/5 [=======================>......] - ETA: 0s - loss: 0.0033 - mae: 0.0451INFO:tensorflow:Assets written to: C:\\Users\\PARK\\Documents\\LAB\\RNN vs LSTM\\FInal Example\\wandb\\run-20221015_184213-1cudq716\\files\\model-best\\assets\n"
     ]
    },
    {
     "name": "stderr",
     "output_type": "stream",
     "text": [
      "\u001b[34m\u001b[1mwandb\u001b[0m: Adding directory to artifact (C:\\Users\\PARK\\Documents\\LAB\\RNN vs LSTM\\FInal Example\\wandb\\run-20221015_184213-1cudq716\\files\\model-best)... Done. 0.0s\n"
     ]
    },
    {
     "name": "stdout",
     "output_type": "stream",
     "text": [
      "5/5 [==============================] - 2s 481ms/step - loss: 0.0033 - mae: 0.0452 - val_loss: 0.0052 - val_mae: 0.0569\n",
      "Epoch 256/500\n",
      "5/5 [==============================] - 1s 162ms/step - loss: 0.0033 - mae: 0.0453 - val_loss: 0.0053 - val_mae: 0.0573\n",
      "Epoch 257/500\n",
      "5/5 [==============================] - 1s 156ms/step - loss: 0.0032 - mae: 0.0447 - val_loss: 0.0054 - val_mae: 0.0571\n",
      "Epoch 258/500\n",
      "5/5 [==============================] - 1s 147ms/step - loss: 0.0032 - mae: 0.0448 - val_loss: 0.0054 - val_mae: 0.0579\n",
      "Epoch 259/500\n",
      "5/5 [==============================] - 1s 138ms/step - loss: 0.0033 - mae: 0.0454 - val_loss: 0.0055 - val_mae: 0.0577\n",
      "Epoch 260/500\n",
      "5/5 [==============================] - 1s 141ms/step - loss: 0.0033 - mae: 0.0452 - val_loss: 0.0055 - val_mae: 0.0582\n",
      "Epoch 261/500\n",
      "5/5 [==============================] - ETA: 0s - loss: 0.0032 - mae: 0.0451INFO:tensorflow:Assets written to: C:\\Users\\PARK\\Documents\\LAB\\RNN vs LSTM\\FInal Example\\wandb\\run-20221015_184213-1cudq716\\files\\model-best\\assets\n"
     ]
    },
    {
     "name": "stderr",
     "output_type": "stream",
     "text": [
      "\u001b[34m\u001b[1mwandb\u001b[0m: Adding directory to artifact (C:\\Users\\PARK\\Documents\\LAB\\RNN vs LSTM\\FInal Example\\wandb\\run-20221015_184213-1cudq716\\files\\model-best)... Done. 0.0s\n"
     ]
    },
    {
     "name": "stdout",
     "output_type": "stream",
     "text": [
      "5/5 [==============================] - 2s 488ms/step - loss: 0.0032 - mae: 0.0451 - val_loss: 0.0050 - val_mae: 0.0554\n",
      "Epoch 262/500\n",
      "5/5 [==============================] - 1s 180ms/step - loss: 0.0033 - mae: 0.0458 - val_loss: 0.0056 - val_mae: 0.0594\n",
      "Epoch 263/500\n",
      "5/5 [==============================] - ETA: 0s - loss: 0.0033 - mae: 0.0453INFO:tensorflow:Assets written to: C:\\Users\\PARK\\Documents\\LAB\\RNN vs LSTM\\FInal Example\\wandb\\run-20221015_184213-1cudq716\\files\\model-best\\assets\n"
     ]
    },
    {
     "name": "stderr",
     "output_type": "stream",
     "text": [
      "\u001b[34m\u001b[1mwandb\u001b[0m: Adding directory to artifact (C:\\Users\\PARK\\Documents\\LAB\\RNN vs LSTM\\FInal Example\\wandb\\run-20221015_184213-1cudq716\\files\\model-best)... Done. 0.0s\n"
     ]
    },
    {
     "name": "stdout",
     "output_type": "stream",
     "text": [
      "5/5 [==============================] - 2s 510ms/step - loss: 0.0033 - mae: 0.0453 - val_loss: 0.0049 - val_mae: 0.0550\n",
      "Epoch 264/500\n",
      "5/5 [==============================] - 1s 183ms/step - loss: 0.0030 - mae: 0.0437 - val_loss: 0.0050 - val_mae: 0.0559\n",
      "Epoch 265/500\n",
      "5/5 [==============================] - 1s 142ms/step - loss: 0.0030 - mae: 0.0437 - val_loss: 0.0050 - val_mae: 0.0552\n",
      "Epoch 266/500\n",
      "4/5 [=======================>......] - ETA: 0s - loss: 0.0030 - mae: 0.0435INFO:tensorflow:Assets written to: C:\\Users\\PARK\\Documents\\LAB\\RNN vs LSTM\\FInal Example\\wandb\\run-20221015_184213-1cudq716\\files\\model-best\\assets\n"
     ]
    },
    {
     "name": "stderr",
     "output_type": "stream",
     "text": [
      "\u001b[34m\u001b[1mwandb\u001b[0m: Adding directory to artifact (C:\\Users\\PARK\\Documents\\LAB\\RNN vs LSTM\\FInal Example\\wandb\\run-20221015_184213-1cudq716\\files\\model-best)... Done. 0.0s\n"
     ]
    },
    {
     "name": "stdout",
     "output_type": "stream",
     "text": [
      "5/5 [==============================] - 2s 472ms/step - loss: 0.0030 - mae: 0.0435 - val_loss: 0.0048 - val_mae: 0.0547\n",
      "Epoch 267/500\n",
      "5/5 [==============================] - ETA: 0s - loss: 0.0029 - mae: 0.0428INFO:tensorflow:Assets written to: C:\\Users\\PARK\\Documents\\LAB\\RNN vs LSTM\\FInal Example\\wandb\\run-20221015_184213-1cudq716\\files\\model-best\\assets\n"
     ]
    },
    {
     "name": "stderr",
     "output_type": "stream",
     "text": [
      "\u001b[34m\u001b[1mwandb\u001b[0m: Adding directory to artifact (C:\\Users\\PARK\\Documents\\LAB\\RNN vs LSTM\\FInal Example\\wandb\\run-20221015_184213-1cudq716\\files\\model-best)... Done. 0.0s\n"
     ]
    },
    {
     "name": "stdout",
     "output_type": "stream",
     "text": [
      "5/5 [==============================] - 2s 533ms/step - loss: 0.0029 - mae: 0.0428 - val_loss: 0.0048 - val_mae: 0.0540\n",
      "Epoch 268/500\n",
      "5/5 [==============================] - 1s 181ms/step - loss: 0.0030 - mae: 0.0435 - val_loss: 0.0049 - val_mae: 0.0545\n",
      "Epoch 269/500\n",
      "5/5 [==============================] - 1s 154ms/step - loss: 0.0031 - mae: 0.0441 - val_loss: 0.0049 - val_mae: 0.0549\n",
      "Epoch 270/500\n",
      "5/5 [==============================] - 1s 144ms/step - loss: 0.0030 - mae: 0.0438 - val_loss: 0.0049 - val_mae: 0.0545\n",
      "Epoch 271/500\n",
      "5/5 [==============================] - 1s 145ms/step - loss: 0.0030 - mae: 0.0440 - val_loss: 0.0049 - val_mae: 0.0551\n",
      "Epoch 272/500\n",
      "5/5 [==============================] - 1s 138ms/step - loss: 0.0030 - mae: 0.0433 - val_loss: 0.0050 - val_mae: 0.0557\n",
      "Epoch 273/500\n",
      "5/5 [==============================] - 1s 146ms/step - loss: 0.0029 - mae: 0.0435 - val_loss: 0.0049 - val_mae: 0.0555\n",
      "Epoch 274/500\n",
      "5/5 [==============================] - 1s 151ms/step - loss: 0.0030 - mae: 0.0436 - val_loss: 0.0049 - val_mae: 0.0547\n",
      "Epoch 275/500\n",
      "5/5 [==============================] - 1s 146ms/step - loss: 0.0030 - mae: 0.0439 - val_loss: 0.0060 - val_mae: 0.0605\n",
      "Epoch 276/500\n",
      "5/5 [==============================] - 1s 134ms/step - loss: 0.0035 - mae: 0.0464 - val_loss: 0.0058 - val_mae: 0.0608\n",
      "Epoch 277/500\n",
      "5/5 [==============================] - 1s 136ms/step - loss: 0.0034 - mae: 0.0460 - val_loss: 0.0050 - val_mae: 0.0551\n",
      "Epoch 278/500\n",
      "5/5 [==============================] - 1s 150ms/step - loss: 0.0032 - mae: 0.0443 - val_loss: 0.0049 - val_mae: 0.0547\n",
      "Epoch 279/500\n",
      "5/5 [==============================] - 1s 158ms/step - loss: 0.0029 - mae: 0.0425 - val_loss: 0.0048 - val_mae: 0.0541\n",
      "Epoch 280/500\n",
      "5/5 [==============================] - 1s 161ms/step - loss: 0.0030 - mae: 0.0434 - val_loss: 0.0056 - val_mae: 0.0593\n",
      "Epoch 281/500\n",
      "5/5 [==============================] - 1s 150ms/step - loss: 0.0033 - mae: 0.0454 - val_loss: 0.0052 - val_mae: 0.0566\n",
      "Epoch 282/500\n",
      "5/5 [==============================] - 1s 142ms/step - loss: 0.0035 - mae: 0.0462 - val_loss: 0.0059 - val_mae: 0.0602\n",
      "Epoch 283/500\n",
      "5/5 [==============================] - 1s 140ms/step - loss: 0.0036 - mae: 0.0475 - val_loss: 0.0053 - val_mae: 0.0576\n",
      "Epoch 284/500\n",
      "5/5 [==============================] - 1s 142ms/step - loss: 0.0036 - mae: 0.0478 - val_loss: 0.0057 - val_mae: 0.0593\n",
      "Epoch 285/500\n",
      "5/5 [==============================] - 1s 139ms/step - loss: 0.0036 - mae: 0.0479 - val_loss: 0.0049 - val_mae: 0.0552\n",
      "Epoch 286/500\n",
      "5/5 [==============================] - 1s 156ms/step - loss: 0.0039 - mae: 0.0494 - val_loss: 0.0063 - val_mae: 0.0629\n",
      "Epoch 287/500\n",
      "5/5 [==============================] - 1s 140ms/step - loss: 0.0040 - mae: 0.0498 - val_loss: 0.0056 - val_mae: 0.0593\n",
      "Epoch 288/500\n",
      "5/5 [==============================] - 1s 148ms/step - loss: 0.0032 - mae: 0.0451 - val_loss: 0.0057 - val_mae: 0.0577\n",
      "Epoch 289/500\n",
      "5/5 [==============================] - 1s 146ms/step - loss: 0.0034 - mae: 0.0459 - val_loss: 0.0056 - val_mae: 0.0589\n",
      "Epoch 290/500\n",
      "5/5 [==============================] - 1s 159ms/step - loss: 0.0032 - mae: 0.0454 - val_loss: 0.0055 - val_mae: 0.0585\n",
      "Epoch 291/500\n",
      "5/5 [==============================] - 1s 147ms/step - loss: 0.0033 - mae: 0.0457 - val_loss: 0.0053 - val_mae: 0.0569\n",
      "Epoch 292/500\n",
      "5/5 [==============================] - 1s 143ms/step - loss: 0.0033 - mae: 0.0455 - val_loss: 0.0050 - val_mae: 0.0547\n",
      "Epoch 293/500\n",
      "5/5 [==============================] - 1s 141ms/step - loss: 0.0033 - mae: 0.0453 - val_loss: 0.0050 - val_mae: 0.0561\n",
      "Epoch 294/500\n",
      "5/5 [==============================] - 1s 158ms/step - loss: 0.0030 - mae: 0.0429 - val_loss: 0.0050 - val_mae: 0.0552\n",
      "Epoch 295/500\n",
      "5/5 [==============================] - ETA: 0s - loss: 0.0028 - mae: 0.0417INFO:tensorflow:Assets written to: C:\\Users\\PARK\\Documents\\LAB\\RNN vs LSTM\\FInal Example\\wandb\\run-20221015_184213-1cudq716\\files\\model-best\\assets\n"
     ]
    },
    {
     "name": "stderr",
     "output_type": "stream",
     "text": [
      "\u001b[34m\u001b[1mwandb\u001b[0m: Adding directory to artifact (C:\\Users\\PARK\\Documents\\LAB\\RNN vs LSTM\\FInal Example\\wandb\\run-20221015_184213-1cudq716\\files\\model-best)... Done. 0.0s\n"
     ]
    },
    {
     "name": "stdout",
     "output_type": "stream",
     "text": [
      "5/5 [==============================] - 2s 499ms/step - loss: 0.0028 - mae: 0.0417 - val_loss: 0.0047 - val_mae: 0.0536\n",
      "Epoch 296/500\n",
      "5/5 [==============================] - ETA: 0s - loss: 0.0028 - mae: 0.0418INFO:tensorflow:Assets written to: C:\\Users\\PARK\\Documents\\LAB\\RNN vs LSTM\\FInal Example\\wandb\\run-20221015_184213-1cudq716\\files\\model-best\\assets\n"
     ]
    },
    {
     "name": "stderr",
     "output_type": "stream",
     "text": [
      "\u001b[34m\u001b[1mwandb\u001b[0m: Adding directory to artifact (C:\\Users\\PARK\\Documents\\LAB\\RNN vs LSTM\\FInal Example\\wandb\\run-20221015_184213-1cudq716\\files\\model-best)... Done. 0.0s\n"
     ]
    },
    {
     "name": "stdout",
     "output_type": "stream",
     "text": [
      "5/5 [==============================] - 2s 496ms/step - loss: 0.0028 - mae: 0.0418 - val_loss: 0.0046 - val_mae: 0.0531\n",
      "Epoch 297/500\n",
      "5/5 [==============================] - 1s 162ms/step - loss: 0.0027 - mae: 0.0412 - val_loss: 0.0047 - val_mae: 0.0529\n",
      "Epoch 298/500\n",
      "5/5 [==============================] - 1s 152ms/step - loss: 0.0028 - mae: 0.0421 - val_loss: 0.0047 - val_mae: 0.0545\n",
      "Epoch 299/500\n",
      "5/5 [==============================] - 1s 141ms/step - loss: 0.0028 - mae: 0.0418 - val_loss: 0.0047 - val_mae: 0.0533\n",
      "Epoch 300/500\n",
      "5/5 [==============================] - 1s 139ms/step - loss: 0.0028 - mae: 0.0418 - val_loss: 0.0046 - val_mae: 0.0529\n",
      "Epoch 301/500\n",
      "5/5 [==============================] - ETA: 0s - loss: 0.0027 - mae: 0.0412INFO:tensorflow:Assets written to: C:\\Users\\PARK\\Documents\\LAB\\RNN vs LSTM\\FInal Example\\wandb\\run-20221015_184213-1cudq716\\files\\model-best\\assets\n"
     ]
    },
    {
     "name": "stderr",
     "output_type": "stream",
     "text": [
      "\u001b[34m\u001b[1mwandb\u001b[0m: Adding directory to artifact (C:\\Users\\PARK\\Documents\\LAB\\RNN vs LSTM\\FInal Example\\wandb\\run-20221015_184213-1cudq716\\files\\model-best)... Done. 0.0s\n"
     ]
    },
    {
     "name": "stdout",
     "output_type": "stream",
     "text": [
      "5/5 [==============================] - 2s 504ms/step - loss: 0.0027 - mae: 0.0412 - val_loss: 0.0045 - val_mae: 0.0526\n",
      "Epoch 302/500\n",
      "5/5 [==============================] - 1s 165ms/step - loss: 0.0028 - mae: 0.0418 - val_loss: 0.0048 - val_mae: 0.0540\n",
      "Epoch 303/500\n",
      "5/5 [==============================] - 1s 150ms/step - loss: 0.0029 - mae: 0.0424 - val_loss: 0.0052 - val_mae: 0.0574\n",
      "Epoch 304/500\n",
      "5/5 [==============================] - 1s 143ms/step - loss: 0.0031 - mae: 0.0442 - val_loss: 0.0049 - val_mae: 0.0548\n",
      "Epoch 305/500\n",
      "5/5 [==============================] - 1s 147ms/step - loss: 0.0035 - mae: 0.0467 - val_loss: 0.0084 - val_mae: 0.0720\n",
      "Epoch 306/500\n",
      "5/5 [==============================] - 1s 143ms/step - loss: 0.0050 - mae: 0.0562 - val_loss: 0.0098 - val_mae: 0.0810\n",
      "Epoch 307/500\n",
      "5/5 [==============================] - 1s 138ms/step - loss: 0.0054 - mae: 0.0589 - val_loss: 0.0060 - val_mae: 0.0608\n",
      "Epoch 308/500\n",
      "5/5 [==============================] - 1s 147ms/step - loss: 0.0045 - mae: 0.0528 - val_loss: 0.0061 - val_mae: 0.0619\n",
      "Epoch 309/500\n",
      "5/5 [==============================] - 1s 147ms/step - loss: 0.0039 - mae: 0.0494 - val_loss: 0.0057 - val_mae: 0.0594\n",
      "Epoch 310/500\n",
      "5/5 [==============================] - 1s 134ms/step - loss: 0.0033 - mae: 0.0458 - val_loss: 0.0053 - val_mae: 0.0573\n",
      "Epoch 311/500\n",
      "5/5 [==============================] - 1s 144ms/step - loss: 0.0032 - mae: 0.0443 - val_loss: 0.0052 - val_mae: 0.0565\n",
      "Epoch 312/500\n",
      "5/5 [==============================] - 1s 140ms/step - loss: 0.0031 - mae: 0.0443 - val_loss: 0.0052 - val_mae: 0.0562\n",
      "Epoch 313/500\n",
      "5/5 [==============================] - 1s 156ms/step - loss: 0.0030 - mae: 0.0435 - val_loss: 0.0051 - val_mae: 0.0563\n",
      "Epoch 314/500\n",
      "5/5 [==============================] - 1s 141ms/step - loss: 0.0031 - mae: 0.0442 - val_loss: 0.0048 - val_mae: 0.0549\n",
      "Epoch 315/500\n",
      "5/5 [==============================] - 1s 144ms/step - loss: 0.0028 - mae: 0.0416 - val_loss: 0.0048 - val_mae: 0.0543\n",
      "Epoch 316/500\n",
      "5/5 [==============================] - 1s 145ms/step - loss: 0.0029 - mae: 0.0423 - val_loss: 0.0046 - val_mae: 0.0529\n",
      "Epoch 317/500\n",
      "5/5 [==============================] - ETA: 0s - loss: 0.0026 - mae: 0.0404INFO:tensorflow:Assets written to: C:\\Users\\PARK\\Documents\\LAB\\RNN vs LSTM\\FInal Example\\wandb\\run-20221015_184213-1cudq716\\files\\model-best\\assets\n"
     ]
    },
    {
     "name": "stderr",
     "output_type": "stream",
     "text": [
      "\u001b[34m\u001b[1mwandb\u001b[0m: Adding directory to artifact (C:\\Users\\PARK\\Documents\\LAB\\RNN vs LSTM\\FInal Example\\wandb\\run-20221015_184213-1cudq716\\files\\model-best)... Done. 0.0s\n"
     ]
    },
    {
     "name": "stdout",
     "output_type": "stream",
     "text": [
      "5/5 [==============================] - 2s 484ms/step - loss: 0.0026 - mae: 0.0404 - val_loss: 0.0044 - val_mae: 0.0519\n",
      "Epoch 318/500\n",
      "5/5 [==============================] - 1s 156ms/step - loss: 0.0026 - mae: 0.0408 - val_loss: 0.0047 - val_mae: 0.0536\n",
      "Epoch 319/500\n",
      "5/5 [==============================] - 1s 143ms/step - loss: 0.0028 - mae: 0.0413 - val_loss: 0.0047 - val_mae: 0.0536\n",
      "Epoch 320/500\n",
      "5/5 [==============================] - 1s 143ms/step - loss: 0.0027 - mae: 0.0413 - val_loss: 0.0050 - val_mae: 0.0553\n",
      "Epoch 321/500\n",
      "5/5 [==============================] - 1s 146ms/step - loss: 0.0031 - mae: 0.0437 - val_loss: 0.0048 - val_mae: 0.0540\n",
      "Epoch 322/500\n",
      "5/5 [==============================] - 1s 148ms/step - loss: 0.0026 - mae: 0.0407 - val_loss: 0.0047 - val_mae: 0.0534\n",
      "Epoch 323/500\n",
      "5/5 [==============================] - 1s 142ms/step - loss: 0.0027 - mae: 0.0415 - val_loss: 0.0048 - val_mae: 0.0539\n",
      "Epoch 324/500\n",
      "5/5 [==============================] - 1s 142ms/step - loss: 0.0029 - mae: 0.0424 - val_loss: 0.0050 - val_mae: 0.0548\n",
      "Epoch 325/500\n",
      "5/5 [==============================] - 1s 151ms/step - loss: 0.0035 - mae: 0.0467 - val_loss: 0.0057 - val_mae: 0.0595\n",
      "Epoch 326/500\n",
      "5/5 [==============================] - 1s 140ms/step - loss: 0.0034 - mae: 0.0462 - val_loss: 0.0047 - val_mae: 0.0548\n",
      "Epoch 327/500\n",
      "5/5 [==============================] - 1s 134ms/step - loss: 0.0028 - mae: 0.0421 - val_loss: 0.0048 - val_mae: 0.0540\n",
      "Epoch 328/500\n",
      "5/5 [==============================] - 1s 149ms/step - loss: 0.0031 - mae: 0.0436 - val_loss: 0.0048 - val_mae: 0.0536\n",
      "Epoch 329/500\n",
      "5/5 [==============================] - 1s 146ms/step - loss: 0.0026 - mae: 0.0405 - val_loss: 0.0053 - val_mae: 0.0570\n",
      "Epoch 330/500\n",
      "5/5 [==============================] - 1s 141ms/step - loss: 0.0027 - mae: 0.0412 - val_loss: 0.0046 - val_mae: 0.0533\n",
      "Epoch 331/500\n",
      "5/5 [==============================] - ETA: 0s - loss: 0.0026 - mae: 0.0404INFO:tensorflow:Assets written to: C:\\Users\\PARK\\Documents\\LAB\\RNN vs LSTM\\FInal Example\\wandb\\run-20221015_184213-1cudq716\\files\\model-best\\assets\n"
     ]
    },
    {
     "name": "stderr",
     "output_type": "stream",
     "text": [
      "\u001b[34m\u001b[1mwandb\u001b[0m: Adding directory to artifact (C:\\Users\\PARK\\Documents\\LAB\\RNN vs LSTM\\FInal Example\\wandb\\run-20221015_184213-1cudq716\\files\\model-best)... Done. 0.0s\n"
     ]
    },
    {
     "name": "stdout",
     "output_type": "stream",
     "text": [
      "5/5 [==============================] - 2s 473ms/step - loss: 0.0026 - mae: 0.0404 - val_loss: 0.0044 - val_mae: 0.0516\n",
      "Epoch 332/500\n",
      "5/5 [==============================] - 1s 176ms/step - loss: 0.0028 - mae: 0.0416 - val_loss: 0.0045 - val_mae: 0.0525\n",
      "Epoch 333/500\n",
      "5/5 [==============================] - 1s 152ms/step - loss: 0.0028 - mae: 0.0420 - val_loss: 0.0053 - val_mae: 0.0574\n",
      "Epoch 334/500\n",
      "5/5 [==============================] - 1s 151ms/step - loss: 0.0033 - mae: 0.0454 - val_loss: 0.0049 - val_mae: 0.0553\n",
      "Epoch 335/500\n",
      "5/5 [==============================] - 1s 143ms/step - loss: 0.0033 - mae: 0.0457 - val_loss: 0.0055 - val_mae: 0.0591\n",
      "Epoch 336/500\n",
      "5/5 [==============================] - 1s 142ms/step - loss: 0.0034 - mae: 0.0462 - val_loss: 0.0073 - val_mae: 0.0663\n",
      "Epoch 337/500\n",
      "5/5 [==============================] - 1s 152ms/step - loss: 0.0040 - mae: 0.0500 - val_loss: 0.0057 - val_mae: 0.0597\n",
      "Epoch 338/500\n",
      "5/5 [==============================] - 1s 148ms/step - loss: 0.0038 - mae: 0.0484 - val_loss: 0.0052 - val_mae: 0.0564\n",
      "Epoch 339/500\n",
      "5/5 [==============================] - 1s 144ms/step - loss: 0.0037 - mae: 0.0483 - val_loss: 0.0058 - val_mae: 0.0609\n",
      "Epoch 340/500\n",
      "5/5 [==============================] - 1s 149ms/step - loss: 0.0039 - mae: 0.0492 - val_loss: 0.0052 - val_mae: 0.0567\n",
      "Epoch 341/500\n",
      "5/5 [==============================] - 1s 152ms/step - loss: 0.0032 - mae: 0.0446 - val_loss: 0.0053 - val_mae: 0.0573\n",
      "Epoch 342/500\n",
      "5/5 [==============================] - 1s 148ms/step - loss: 0.0031 - mae: 0.0442 - val_loss: 0.0049 - val_mae: 0.0556\n",
      "Epoch 343/500\n",
      "5/5 [==============================] - 1s 142ms/step - loss: 0.0029 - mae: 0.0433 - val_loss: 0.0054 - val_mae: 0.0568\n",
      "Epoch 344/500\n",
      "5/5 [==============================] - 1s 146ms/step - loss: 0.0030 - mae: 0.0436 - val_loss: 0.0056 - val_mae: 0.0596\n",
      "Epoch 345/500\n",
      "5/5 [==============================] - 1s 139ms/step - loss: 0.0034 - mae: 0.0460 - val_loss: 0.0046 - val_mae: 0.0530\n",
      "Epoch 346/500\n",
      "5/5 [==============================] - 1s 139ms/step - loss: 0.0031 - mae: 0.0439 - val_loss: 0.0048 - val_mae: 0.0549\n",
      "Epoch 347/500\n",
      "5/5 [==============================] - ETA: 0s - loss: 0.0026 - mae: 0.0408INFO:tensorflow:Assets written to: C:\\Users\\PARK\\Documents\\LAB\\RNN vs LSTM\\FInal Example\\wandb\\run-20221015_184213-1cudq716\\files\\model-best\\assets\n"
     ]
    },
    {
     "name": "stderr",
     "output_type": "stream",
     "text": [
      "\u001b[34m\u001b[1mwandb\u001b[0m: Adding directory to artifact (C:\\Users\\PARK\\Documents\\LAB\\RNN vs LSTM\\FInal Example\\wandb\\run-20221015_184213-1cudq716\\files\\model-best)... Done. 0.0s\n"
     ]
    },
    {
     "name": "stdout",
     "output_type": "stream",
     "text": [
      "5/5 [==============================] - 2s 494ms/step - loss: 0.0026 - mae: 0.0408 - val_loss: 0.0043 - val_mae: 0.0510\n",
      "Epoch 348/500\n",
      "5/5 [==============================] - 1s 177ms/step - loss: 0.0026 - mae: 0.0399 - val_loss: 0.0043 - val_mae: 0.0510\n",
      "Epoch 349/500\n",
      "5/5 [==============================] - ETA: 0s - loss: 0.0024 - mae: 0.0387INFO:tensorflow:Assets written to: C:\\Users\\PARK\\Documents\\LAB\\RNN vs LSTM\\FInal Example\\wandb\\run-20221015_184213-1cudq716\\files\\model-best\\assets\n"
     ]
    },
    {
     "name": "stderr",
     "output_type": "stream",
     "text": [
      "\u001b[34m\u001b[1mwandb\u001b[0m: Adding directory to artifact (C:\\Users\\PARK\\Documents\\LAB\\RNN vs LSTM\\FInal Example\\wandb\\run-20221015_184213-1cudq716\\files\\model-best)... Done. 0.0s\n"
     ]
    },
    {
     "name": "stdout",
     "output_type": "stream",
     "text": [
      "5/5 [==============================] - 2s 488ms/step - loss: 0.0024 - mae: 0.0387 - val_loss: 0.0041 - val_mae: 0.0503\n",
      "Epoch 350/500\n",
      "5/5 [==============================] - 1s 164ms/step - loss: 0.0024 - mae: 0.0395 - val_loss: 0.0043 - val_mae: 0.0515\n",
      "Epoch 351/500\n",
      "5/5 [==============================] - 1s 154ms/step - loss: 0.0024 - mae: 0.0386 - val_loss: 0.0043 - val_mae: 0.0518\n",
      "Epoch 352/500\n",
      "5/5 [==============================] - 1s 155ms/step - loss: 0.0023 - mae: 0.0385 - val_loss: 0.0042 - val_mae: 0.0501\n",
      "Epoch 353/500\n",
      "5/5 [==============================] - 1s 143ms/step - loss: 0.0023 - mae: 0.0378 - val_loss: 0.0044 - val_mae: 0.0519\n",
      "Epoch 354/500\n",
      "5/5 [==============================] - ETA: 0s - loss: 0.0024 - mae: 0.0392INFO:tensorflow:Assets written to: C:\\Users\\PARK\\Documents\\LAB\\RNN vs LSTM\\FInal Example\\wandb\\run-20221015_184213-1cudq716\\files\\model-best\\assets\n"
     ]
    },
    {
     "name": "stderr",
     "output_type": "stream",
     "text": [
      "\u001b[34m\u001b[1mwandb\u001b[0m: Adding directory to artifact (C:\\Users\\PARK\\Documents\\LAB\\RNN vs LSTM\\FInal Example\\wandb\\run-20221015_184213-1cudq716\\files\\model-best)... Done. 0.0s\n"
     ]
    },
    {
     "name": "stdout",
     "output_type": "stream",
     "text": [
      "5/5 [==============================] - 2s 479ms/step - loss: 0.0024 - mae: 0.0392 - val_loss: 0.0041 - val_mae: 0.0498\n",
      "Epoch 355/500\n",
      "5/5 [==============================] - 1s 166ms/step - loss: 0.0023 - mae: 0.0382 - val_loss: 0.0042 - val_mae: 0.0505\n",
      "Epoch 356/500\n",
      "5/5 [==============================] - 1s 141ms/step - loss: 0.0023 - mae: 0.0383 - val_loss: 0.0045 - val_mae: 0.0526\n",
      "Epoch 357/500\n",
      "5/5 [==============================] - 1s 138ms/step - loss: 0.0025 - mae: 0.0395 - val_loss: 0.0044 - val_mae: 0.0515\n",
      "Epoch 358/500\n",
      "5/5 [==============================] - 1s 133ms/step - loss: 0.0027 - mae: 0.0415 - val_loss: 0.0045 - val_mae: 0.0528\n",
      "Epoch 359/500\n",
      "5/5 [==============================] - 1s 141ms/step - loss: 0.0025 - mae: 0.0400 - val_loss: 0.0045 - val_mae: 0.0516\n",
      "Epoch 360/500\n",
      "5/5 [==============================] - 1s 140ms/step - loss: 0.0025 - mae: 0.0398 - val_loss: 0.0043 - val_mae: 0.0516\n",
      "Epoch 361/500\n",
      "5/5 [==============================] - 1s 146ms/step - loss: 0.0023 - mae: 0.0380 - val_loss: 0.0042 - val_mae: 0.0505\n",
      "Epoch 362/500\n",
      "5/5 [==============================] - 1s 149ms/step - loss: 0.0024 - mae: 0.0390 - val_loss: 0.0043 - val_mae: 0.0516\n",
      "Epoch 363/500\n",
      "5/5 [==============================] - ETA: 0s - loss: 0.0023 - mae: 0.0381INFO:tensorflow:Assets written to: C:\\Users\\PARK\\Documents\\LAB\\RNN vs LSTM\\FInal Example\\wandb\\run-20221015_184213-1cudq716\\files\\model-best\\assets\n"
     ]
    },
    {
     "name": "stderr",
     "output_type": "stream",
     "text": [
      "\u001b[34m\u001b[1mwandb\u001b[0m: Adding directory to artifact (C:\\Users\\PARK\\Documents\\LAB\\RNN vs LSTM\\FInal Example\\wandb\\run-20221015_184213-1cudq716\\files\\model-best)... Done. 0.0s\n"
     ]
    },
    {
     "name": "stdout",
     "output_type": "stream",
     "text": [
      "5/5 [==============================] - 2s 501ms/step - loss: 0.0023 - mae: 0.0381 - val_loss: 0.0041 - val_mae: 0.0499\n",
      "Epoch 364/500\n",
      "5/5 [==============================] - 1s 173ms/step - loss: 0.0022 - mae: 0.0373 - val_loss: 0.0043 - val_mae: 0.0510\n",
      "Epoch 365/500\n",
      "5/5 [==============================] - ETA: 0s - loss: 0.0024 - mae: 0.0386INFO:tensorflow:Assets written to: C:\\Users\\PARK\\Documents\\LAB\\RNN vs LSTM\\FInal Example\\wandb\\run-20221015_184213-1cudq716\\files\\model-best\\assets\n"
     ]
    },
    {
     "name": "stderr",
     "output_type": "stream",
     "text": [
      "\u001b[34m\u001b[1mwandb\u001b[0m: Adding directory to artifact (C:\\Users\\PARK\\Documents\\LAB\\RNN vs LSTM\\FInal Example\\wandb\\run-20221015_184213-1cudq716\\files\\model-best)... Done. 0.0s\n"
     ]
    },
    {
     "name": "stdout",
     "output_type": "stream",
     "text": [
      "5/5 [==============================] - 2s 467ms/step - loss: 0.0024 - mae: 0.0386 - val_loss: 0.0040 - val_mae: 0.0490\n",
      "Epoch 366/500\n",
      "5/5 [==============================] - 1s 160ms/step - loss: 0.0023 - mae: 0.0378 - val_loss: 0.0041 - val_mae: 0.0503\n",
      "Epoch 367/500\n",
      "5/5 [==============================] - 1s 150ms/step - loss: 0.0024 - mae: 0.0385 - val_loss: 0.0040 - val_mae: 0.0491\n",
      "Epoch 368/500\n",
      "5/5 [==============================] - 1s 157ms/step - loss: 0.0022 - mae: 0.0372 - val_loss: 0.0040 - val_mae: 0.0493\n",
      "Epoch 369/500\n",
      "5/5 [==============================] - ETA: 0s - loss: 0.0022 - mae: 0.0378INFO:tensorflow:Assets written to: C:\\Users\\PARK\\Documents\\LAB\\RNN vs LSTM\\FInal Example\\wandb\\run-20221015_184213-1cudq716\\files\\model-best\\assets\n"
     ]
    },
    {
     "name": "stderr",
     "output_type": "stream",
     "text": [
      "\u001b[34m\u001b[1mwandb\u001b[0m: Adding directory to artifact (C:\\Users\\PARK\\Documents\\LAB\\RNN vs LSTM\\FInal Example\\wandb\\run-20221015_184213-1cudq716\\files\\model-best)... Done. 0.0s\n"
     ]
    },
    {
     "name": "stdout",
     "output_type": "stream",
     "text": [
      "5/5 [==============================] - 2s 508ms/step - loss: 0.0022 - mae: 0.0378 - val_loss: 0.0039 - val_mae: 0.0492\n",
      "Epoch 370/500\n",
      "5/5 [==============================] - 1s 171ms/step - loss: 0.0022 - mae: 0.0375 - val_loss: 0.0042 - val_mae: 0.0500\n",
      "Epoch 371/500\n",
      "5/5 [==============================] - 1s 166ms/step - loss: 0.0024 - mae: 0.0389 - val_loss: 0.0041 - val_mae: 0.0499\n",
      "Epoch 372/500\n",
      "4/5 [=======================>......] - ETA: 0s - loss: 0.0024 - mae: 0.0381INFO:tensorflow:Assets written to: C:\\Users\\PARK\\Documents\\LAB\\RNN vs LSTM\\FInal Example\\wandb\\run-20221015_184213-1cudq716\\files\\model-best\\assets\n"
     ]
    },
    {
     "name": "stderr",
     "output_type": "stream",
     "text": [
      "\u001b[34m\u001b[1mwandb\u001b[0m: Adding directory to artifact (C:\\Users\\PARK\\Documents\\LAB\\RNN vs LSTM\\FInal Example\\wandb\\run-20221015_184213-1cudq716\\files\\model-best)... Done. 0.0s\n"
     ]
    },
    {
     "name": "stdout",
     "output_type": "stream",
     "text": [
      "5/5 [==============================] - 2s 480ms/step - loss: 0.0024 - mae: 0.0382 - val_loss: 0.0039 - val_mae: 0.0485\n",
      "Epoch 373/500\n",
      "5/5 [==============================] - 1s 185ms/step - loss: 0.0022 - mae: 0.0371 - val_loss: 0.0043 - val_mae: 0.0515\n",
      "Epoch 374/500\n",
      "5/5 [==============================] - 1s 148ms/step - loss: 0.0022 - mae: 0.0370 - val_loss: 0.0043 - val_mae: 0.0514\n",
      "Epoch 375/500\n",
      "5/5 [==============================] - 1s 138ms/step - loss: 0.0024 - mae: 0.0385 - val_loss: 0.0041 - val_mae: 0.0503\n",
      "Epoch 376/500\n",
      "5/5 [==============================] - 1s 143ms/step - loss: 0.0023 - mae: 0.0378 - val_loss: 0.0039 - val_mae: 0.0483\n",
      "Epoch 377/500\n",
      "5/5 [==============================] - 1s 140ms/step - loss: 0.0021 - mae: 0.0364 - val_loss: 0.0041 - val_mae: 0.0505\n",
      "Epoch 378/500\n",
      "5/5 [==============================] - 1s 155ms/step - loss: 0.0022 - mae: 0.0370 - val_loss: 0.0041 - val_mae: 0.0494\n",
      "Epoch 379/500\n",
      "5/5 [==============================] - 1s 144ms/step - loss: 0.0022 - mae: 0.0371 - val_loss: 0.0040 - val_mae: 0.0497\n",
      "Epoch 380/500\n",
      "5/5 [==============================] - 1s 145ms/step - loss: 0.0022 - mae: 0.0367 - val_loss: 0.0042 - val_mae: 0.0507\n",
      "Epoch 381/500\n",
      "5/5 [==============================] - 1s 138ms/step - loss: 0.0026 - mae: 0.0405 - val_loss: 0.0042 - val_mae: 0.0504\n",
      "Epoch 382/500\n",
      "5/5 [==============================] - 1s 144ms/step - loss: 0.0023 - mae: 0.0385 - val_loss: 0.0042 - val_mae: 0.0512\n",
      "Epoch 383/500\n",
      "5/5 [==============================] - 1s 137ms/step - loss: 0.0023 - mae: 0.0379 - val_loss: 0.0040 - val_mae: 0.0488\n",
      "Epoch 384/500\n",
      "5/5 [==============================] - 1s 138ms/step - loss: 0.0022 - mae: 0.0371 - val_loss: 0.0041 - val_mae: 0.0503\n",
      "Epoch 385/500\n",
      "5/5 [==============================] - 1s 148ms/step - loss: 0.0022 - mae: 0.0366 - val_loss: 0.0041 - val_mae: 0.0499\n",
      "Epoch 386/500\n",
      "5/5 [==============================] - 1s 153ms/step - loss: 0.0022 - mae: 0.0374 - val_loss: 0.0045 - val_mae: 0.0522\n",
      "Epoch 387/500\n",
      "5/5 [==============================] - 1s 143ms/step - loss: 0.0028 - mae: 0.0419 - val_loss: 0.0042 - val_mae: 0.0514\n",
      "Epoch 388/500\n",
      "5/5 [==============================] - 1s 138ms/step - loss: 0.0027 - mae: 0.0417 - val_loss: 0.0046 - val_mae: 0.0528\n",
      "Epoch 389/500\n",
      "5/5 [==============================] - 1s 139ms/step - loss: 0.0027 - mae: 0.0409 - val_loss: 0.0043 - val_mae: 0.0508\n",
      "Epoch 390/500\n",
      "5/5 [==============================] - 1s 150ms/step - loss: 0.0026 - mae: 0.0404 - val_loss: 0.0045 - val_mae: 0.0526\n",
      "Epoch 391/500\n",
      "5/5 [==============================] - 1s 150ms/step - loss: 0.0025 - mae: 0.0393 - val_loss: 0.0043 - val_mae: 0.0512\n",
      "Epoch 392/500\n",
      "5/5 [==============================] - 1s 155ms/step - loss: 0.0025 - mae: 0.0397 - val_loss: 0.0043 - val_mae: 0.0519\n",
      "Epoch 393/500\n",
      "5/5 [==============================] - 1s 144ms/step - loss: 0.0027 - mae: 0.0419 - val_loss: 0.0043 - val_mae: 0.0518\n",
      "Epoch 394/500\n",
      "5/5 [==============================] - 1s 143ms/step - loss: 0.0025 - mae: 0.0398 - val_loss: 0.0044 - val_mae: 0.0518\n",
      "Epoch 395/500\n",
      "5/5 [==============================] - 1s 140ms/step - loss: 0.0029 - mae: 0.0433 - val_loss: 0.0059 - val_mae: 0.0608\n",
      "Epoch 396/500\n",
      "5/5 [==============================] - 1s 151ms/step - loss: 0.0031 - mae: 0.0443 - val_loss: 0.0048 - val_mae: 0.0551\n",
      "Epoch 397/500\n",
      "5/5 [==============================] - 1s 152ms/step - loss: 0.0028 - mae: 0.0420 - val_loss: 0.0054 - val_mae: 0.0579\n",
      "Epoch 398/500\n",
      "5/5 [==============================] - 1s 143ms/step - loss: 0.0031 - mae: 0.0440 - val_loss: 0.0051 - val_mae: 0.0547\n",
      "Epoch 399/500\n",
      "5/5 [==============================] - 1s 147ms/step - loss: 0.0029 - mae: 0.0426 - val_loss: 0.0044 - val_mae: 0.0520\n",
      "Epoch 400/500\n",
      "5/5 [==============================] - 1s 158ms/step - loss: 0.0026 - mae: 0.0405 - val_loss: 0.0042 - val_mae: 0.0509\n",
      "Epoch 401/500\n",
      "5/5 [==============================] - 1s 157ms/step - loss: 0.0023 - mae: 0.0379 - val_loss: 0.0042 - val_mae: 0.0508\n",
      "Epoch 402/500\n",
      "5/5 [==============================] - 1s 143ms/step - loss: 0.0022 - mae: 0.0378 - val_loss: 0.0045 - val_mae: 0.0524\n",
      "Epoch 403/500\n",
      "5/5 [==============================] - 1s 154ms/step - loss: 0.0023 - mae: 0.0382 - val_loss: 0.0041 - val_mae: 0.0497\n",
      "Epoch 404/500\n",
      "5/5 [==============================] - 1s 154ms/step - loss: 0.0023 - mae: 0.0376 - val_loss: 0.0045 - val_mae: 0.0526\n",
      "Epoch 405/500\n",
      "5/5 [==============================] - 1s 140ms/step - loss: 0.0024 - mae: 0.0387 - val_loss: 0.0041 - val_mae: 0.0495\n",
      "Epoch 406/500\n",
      "5/5 [==============================] - ETA: 0s - loss: 0.0022 - mae: 0.0374INFO:tensorflow:Assets written to: C:\\Users\\PARK\\Documents\\LAB\\RNN vs LSTM\\FInal Example\\wandb\\run-20221015_184213-1cudq716\\files\\model-best\\assets\n"
     ]
    },
    {
     "name": "stderr",
     "output_type": "stream",
     "text": [
      "\u001b[34m\u001b[1mwandb\u001b[0m: Adding directory to artifact (C:\\Users\\PARK\\Documents\\LAB\\RNN vs LSTM\\FInal Example\\wandb\\run-20221015_184213-1cudq716\\files\\model-best)... Done. 0.0s\n"
     ]
    },
    {
     "name": "stdout",
     "output_type": "stream",
     "text": [
      "5/5 [==============================] - 2s 494ms/step - loss: 0.0022 - mae: 0.0374 - val_loss: 0.0039 - val_mae: 0.0480\n",
      "Epoch 407/500\n",
      "5/5 [==============================] - 1s 177ms/step - loss: 0.0022 - mae: 0.0368 - val_loss: 0.0042 - val_mae: 0.0503\n",
      "Epoch 408/500\n",
      "5/5 [==============================] - 1s 142ms/step - loss: 0.0022 - mae: 0.0369 - val_loss: 0.0042 - val_mae: 0.0509\n",
      "Epoch 409/500\n",
      "5/5 [==============================] - 1s 144ms/step - loss: 0.0023 - mae: 0.0376 - val_loss: 0.0041 - val_mae: 0.0501\n",
      "Epoch 410/500\n",
      "5/5 [==============================] - 1s 141ms/step - loss: 0.0023 - mae: 0.0379 - val_loss: 0.0040 - val_mae: 0.0492\n",
      "Epoch 411/500\n",
      "5/5 [==============================] - 1s 143ms/step - loss: 0.0022 - mae: 0.0375 - val_loss: 0.0040 - val_mae: 0.0493\n",
      "Epoch 412/500\n",
      "5/5 [==============================] - 1s 150ms/step - loss: 0.0022 - mae: 0.0373 - val_loss: 0.0041 - val_mae: 0.0500\n",
      "Epoch 413/500\n",
      "5/5 [==============================] - 1s 139ms/step - loss: 0.0022 - mae: 0.0378 - val_loss: 0.0042 - val_mae: 0.0507\n",
      "Epoch 414/500\n",
      "5/5 [==============================] - 1s 142ms/step - loss: 0.0023 - mae: 0.0379 - val_loss: 0.0041 - val_mae: 0.0503\n",
      "Epoch 415/500\n",
      "5/5 [==============================] - ETA: 0s - loss: 0.0022 - mae: 0.0370INFO:tensorflow:Assets written to: C:\\Users\\PARK\\Documents\\LAB\\RNN vs LSTM\\FInal Example\\wandb\\run-20221015_184213-1cudq716\\files\\model-best\\assets\n"
     ]
    },
    {
     "name": "stderr",
     "output_type": "stream",
     "text": [
      "\u001b[34m\u001b[1mwandb\u001b[0m: Adding directory to artifact (C:\\Users\\PARK\\Documents\\LAB\\RNN vs LSTM\\FInal Example\\wandb\\run-20221015_184213-1cudq716\\files\\model-best)... Done. 0.0s\n"
     ]
    },
    {
     "name": "stdout",
     "output_type": "stream",
     "text": [
      "5/5 [==============================] - 2s 504ms/step - loss: 0.0022 - mae: 0.0370 - val_loss: 0.0037 - val_mae: 0.0465\n",
      "Epoch 416/500\n",
      "5/5 [==============================] - 1s 160ms/step - loss: 0.0019 - mae: 0.0348 - val_loss: 0.0044 - val_mae: 0.0521\n",
      "Epoch 417/500\n",
      "5/5 [==============================] - 1s 158ms/step - loss: 0.0022 - mae: 0.0379 - val_loss: 0.0040 - val_mae: 0.0487\n",
      "Epoch 418/500\n",
      "5/5 [==============================] - 1s 149ms/step - loss: 0.0023 - mae: 0.0380 - val_loss: 0.0044 - val_mae: 0.0525\n",
      "Epoch 419/500\n",
      "5/5 [==============================] - 1s 139ms/step - loss: 0.0025 - mae: 0.0401 - val_loss: 0.0050 - val_mae: 0.0548\n",
      "Epoch 420/500\n",
      "5/5 [==============================] - 1s 137ms/step - loss: 0.0031 - mae: 0.0442 - val_loss: 0.0064 - val_mae: 0.0647\n",
      "Epoch 421/500\n",
      "5/5 [==============================] - 1s 136ms/step - loss: 0.0039 - mae: 0.0493 - val_loss: 0.0054 - val_mae: 0.0564\n",
      "Epoch 422/500\n",
      "5/5 [==============================] - 1s 155ms/step - loss: 0.0040 - mae: 0.0498 - val_loss: 0.0059 - val_mae: 0.0613\n",
      "Epoch 423/500\n",
      "5/5 [==============================] - 1s 146ms/step - loss: 0.0039 - mae: 0.0503 - val_loss: 0.0061 - val_mae: 0.0617\n",
      "Epoch 424/500\n",
      "5/5 [==============================] - 1s 136ms/step - loss: 0.0035 - mae: 0.0473 - val_loss: 0.0070 - val_mae: 0.0664\n",
      "Epoch 425/500\n",
      "5/5 [==============================] - 1s 144ms/step - loss: 0.0033 - mae: 0.0456 - val_loss: 0.0050 - val_mae: 0.0553\n",
      "Epoch 426/500\n",
      "5/5 [==============================] - 1s 153ms/step - loss: 0.0034 - mae: 0.0460 - val_loss: 0.0055 - val_mae: 0.0590\n",
      "Epoch 427/500\n",
      "5/5 [==============================] - 1s 162ms/step - loss: 0.0032 - mae: 0.0450 - val_loss: 0.0057 - val_mae: 0.0602\n",
      "Epoch 428/500\n",
      "5/5 [==============================] - 1s 153ms/step - loss: 0.0030 - mae: 0.0438 - val_loss: 0.0044 - val_mae: 0.0520\n",
      "Epoch 429/500\n",
      "5/5 [==============================] - 1s 159ms/step - loss: 0.0024 - mae: 0.0388 - val_loss: 0.0046 - val_mae: 0.0527\n",
      "Epoch 430/500\n",
      "5/5 [==============================] - 1s 153ms/step - loss: 0.0031 - mae: 0.0432 - val_loss: 0.0049 - val_mae: 0.0546\n",
      "Epoch 431/500\n",
      "5/5 [==============================] - 1s 150ms/step - loss: 0.0027 - mae: 0.0412 - val_loss: 0.0047 - val_mae: 0.0529\n",
      "Epoch 432/500\n",
      "5/5 [==============================] - 1s 152ms/step - loss: 0.0027 - mae: 0.0413 - val_loss: 0.0044 - val_mae: 0.0527\n",
      "Epoch 433/500\n",
      "5/5 [==============================] - 1s 148ms/step - loss: 0.0024 - mae: 0.0390 - val_loss: 0.0045 - val_mae: 0.0521\n",
      "Epoch 434/500\n",
      "5/5 [==============================] - 1s 136ms/step - loss: 0.0028 - mae: 0.0418 - val_loss: 0.0050 - val_mae: 0.0556\n",
      "Epoch 435/500\n",
      "5/5 [==============================] - 1s 148ms/step - loss: 0.0027 - mae: 0.0414 - val_loss: 0.0044 - val_mae: 0.0520\n",
      "Epoch 436/500\n",
      "5/5 [==============================] - 1s 147ms/step - loss: 0.0024 - mae: 0.0389 - val_loss: 0.0041 - val_mae: 0.0495\n",
      "Epoch 437/500\n",
      "5/5 [==============================] - 1s 156ms/step - loss: 0.0021 - mae: 0.0366 - val_loss: 0.0039 - val_mae: 0.0487\n",
      "Epoch 438/500\n",
      "5/5 [==============================] - 1s 143ms/step - loss: 0.0021 - mae: 0.0367 - val_loss: 0.0043 - val_mae: 0.0511\n",
      "Epoch 439/500\n",
      "5/5 [==============================] - 1s 146ms/step - loss: 0.0022 - mae: 0.0373 - val_loss: 0.0043 - val_mae: 0.0508\n",
      "Epoch 440/500\n",
      "5/5 [==============================] - 1s 140ms/step - loss: 0.0025 - mae: 0.0396 - val_loss: 0.0040 - val_mae: 0.0496\n",
      "Epoch 441/500\n",
      "5/5 [==============================] - 1s 144ms/step - loss: 0.0021 - mae: 0.0368 - val_loss: 0.0045 - val_mae: 0.0525\n",
      "Epoch 442/500\n",
      "5/5 [==============================] - 1s 147ms/step - loss: 0.0022 - mae: 0.0374 - val_loss: 0.0041 - val_mae: 0.0502\n",
      "Epoch 443/500\n",
      "5/5 [==============================] - 1s 140ms/step - loss: 0.0022 - mae: 0.0369 - val_loss: 0.0040 - val_mae: 0.0496\n",
      "Epoch 444/500\n",
      "5/5 [==============================] - ETA: 0s - loss: 0.0021 - mae: 0.0364INFO:tensorflow:Assets written to: C:\\Users\\PARK\\Documents\\LAB\\RNN vs LSTM\\FInal Example\\wandb\\run-20221015_184213-1cudq716\\files\\model-best\\assets\n"
     ]
    },
    {
     "name": "stderr",
     "output_type": "stream",
     "text": [
      "\u001b[34m\u001b[1mwandb\u001b[0m: Adding directory to artifact (C:\\Users\\PARK\\Documents\\LAB\\RNN vs LSTM\\FInal Example\\wandb\\run-20221015_184213-1cudq716\\files\\model-best)... Done. 0.0s\n"
     ]
    },
    {
     "name": "stdout",
     "output_type": "stream",
     "text": [
      "5/5 [==============================] - 2s 466ms/step - loss: 0.0021 - mae: 0.0364 - val_loss: 0.0037 - val_mae: 0.0465\n",
      "Epoch 445/500\n",
      "5/5 [==============================] - 1s 164ms/step - loss: 0.0019 - mae: 0.0346 - val_loss: 0.0040 - val_mae: 0.0492\n",
      "Epoch 446/500\n",
      "5/5 [==============================] - ETA: 0s - loss: 0.0020 - mae: 0.0349INFO:tensorflow:Assets written to: C:\\Users\\PARK\\Documents\\LAB\\RNN vs LSTM\\FInal Example\\wandb\\run-20221015_184213-1cudq716\\files\\model-best\\assets\n"
     ]
    },
    {
     "name": "stderr",
     "output_type": "stream",
     "text": [
      "\u001b[34m\u001b[1mwandb\u001b[0m: Adding directory to artifact (C:\\Users\\PARK\\Documents\\LAB\\RNN vs LSTM\\FInal Example\\wandb\\run-20221015_184213-1cudq716\\files\\model-best)... Done. 0.0s\n"
     ]
    },
    {
     "name": "stdout",
     "output_type": "stream",
     "text": [
      "5/5 [==============================] - 2s 480ms/step - loss: 0.0020 - mae: 0.0349 - val_loss: 0.0036 - val_mae: 0.0467\n",
      "Epoch 447/500\n",
      "5/5 [==============================] - 1s 164ms/step - loss: 0.0018 - mae: 0.0343 - val_loss: 0.0037 - val_mae: 0.0468\n",
      "Epoch 448/500\n",
      "5/5 [==============================] - 1s 154ms/step - loss: 0.0018 - mae: 0.0339 - val_loss: 0.0040 - val_mae: 0.0490\n",
      "Epoch 449/500\n",
      "5/5 [==============================] - 1s 160ms/step - loss: 0.0020 - mae: 0.0350 - val_loss: 0.0038 - val_mae: 0.0479\n",
      "Epoch 450/500\n",
      "5/5 [==============================] - 1s 146ms/step - loss: 0.0019 - mae: 0.0349 - val_loss: 0.0037 - val_mae: 0.0475\n",
      "Epoch 451/500\n",
      "5/5 [==============================] - 1s 138ms/step - loss: 0.0019 - mae: 0.0343 - val_loss: 0.0038 - val_mae: 0.0474\n",
      "Epoch 452/500\n",
      "4/5 [=======================>......] - ETA: 0s - loss: 0.0018 - mae: 0.0332INFO:tensorflow:Assets written to: C:\\Users\\PARK\\Documents\\LAB\\RNN vs LSTM\\FInal Example\\wandb\\run-20221015_184213-1cudq716\\files\\model-best\\assets\n"
     ]
    },
    {
     "name": "stderr",
     "output_type": "stream",
     "text": [
      "\u001b[34m\u001b[1mwandb\u001b[0m: Adding directory to artifact (C:\\Users\\PARK\\Documents\\LAB\\RNN vs LSTM\\FInal Example\\wandb\\run-20221015_184213-1cudq716\\files\\model-best)... Done. 0.0s\n"
     ]
    },
    {
     "name": "stdout",
     "output_type": "stream",
     "text": [
      "5/5 [==============================] - 2s 486ms/step - loss: 0.0018 - mae: 0.0332 - val_loss: 0.0036 - val_mae: 0.0469\n",
      "Epoch 453/500\n",
      "5/5 [==============================] - 1s 162ms/step - loss: 0.0017 - mae: 0.0330 - val_loss: 0.0036 - val_mae: 0.0462\n",
      "Epoch 454/500\n",
      "5/5 [==============================] - ETA: 0s - loss: 0.0018 - mae: 0.0337INFO:tensorflow:Assets written to: C:\\Users\\PARK\\Documents\\LAB\\RNN vs LSTM\\FInal Example\\wandb\\run-20221015_184213-1cudq716\\files\\model-best\\assets\n"
     ]
    },
    {
     "name": "stderr",
     "output_type": "stream",
     "text": [
      "\u001b[34m\u001b[1mwandb\u001b[0m: Adding directory to artifact (C:\\Users\\PARK\\Documents\\LAB\\RNN vs LSTM\\FInal Example\\wandb\\run-20221015_184213-1cudq716\\files\\model-best)... Done. 0.0s\n"
     ]
    },
    {
     "name": "stdout",
     "output_type": "stream",
     "text": [
      "5/5 [==============================] - 2s 474ms/step - loss: 0.0018 - mae: 0.0337 - val_loss: 0.0035 - val_mae: 0.0461\n",
      "Epoch 455/500\n",
      "5/5 [==============================] - 1s 154ms/step - loss: 0.0017 - mae: 0.0331 - val_loss: 0.0036 - val_mae: 0.0464\n",
      "Epoch 456/500\n",
      "5/5 [==============================] - 1s 156ms/step - loss: 0.0018 - mae: 0.0332 - val_loss: 0.0038 - val_mae: 0.0486\n",
      "Epoch 457/500\n",
      "5/5 [==============================] - 1s 153ms/step - loss: 0.0020 - mae: 0.0354 - val_loss: 0.0038 - val_mae: 0.0476\n",
      "Epoch 458/500\n",
      "5/5 [==============================] - 1s 143ms/step - loss: 0.0020 - mae: 0.0356 - val_loss: 0.0039 - val_mae: 0.0492\n",
      "Epoch 459/500\n",
      "5/5 [==============================] - 1s 138ms/step - loss: 0.0019 - mae: 0.0351 - val_loss: 0.0039 - val_mae: 0.0489\n",
      "Epoch 460/500\n",
      "5/5 [==============================] - 1s 139ms/step - loss: 0.0020 - mae: 0.0352 - val_loss: 0.0039 - val_mae: 0.0487\n",
      "Epoch 461/500\n",
      "5/5 [==============================] - ETA: 0s - loss: 0.0018 - mae: 0.0344INFO:tensorflow:Assets written to: C:\\Users\\PARK\\Documents\\LAB\\RNN vs LSTM\\FInal Example\\wandb\\run-20221015_184213-1cudq716\\files\\model-best\\assets\n"
     ]
    },
    {
     "name": "stderr",
     "output_type": "stream",
     "text": [
      "\u001b[34m\u001b[1mwandb\u001b[0m: Adding directory to artifact (C:\\Users\\PARK\\Documents\\LAB\\RNN vs LSTM\\FInal Example\\wandb\\run-20221015_184213-1cudq716\\files\\model-best)... Done. 0.0s\n"
     ]
    },
    {
     "name": "stdout",
     "output_type": "stream",
     "text": [
      "5/5 [==============================] - 2s 461ms/step - loss: 0.0018 - mae: 0.0344 - val_loss: 0.0035 - val_mae: 0.0463\n",
      "Epoch 462/500\n",
      "5/5 [==============================] - 1s 165ms/step - loss: 0.0019 - mae: 0.0349 - val_loss: 0.0037 - val_mae: 0.0469\n",
      "Epoch 463/500\n",
      "5/5 [==============================] - 1s 150ms/step - loss: 0.0019 - mae: 0.0348 - val_loss: 0.0037 - val_mae: 0.0471\n",
      "Epoch 464/500\n",
      "5/5 [==============================] - 1s 151ms/step - loss: 0.0018 - mae: 0.0341 - val_loss: 0.0035 - val_mae: 0.0459\n",
      "Epoch 465/500\n",
      "5/5 [==============================] - 1s 152ms/step - loss: 0.0020 - mae: 0.0357 - val_loss: 0.0038 - val_mae: 0.0475\n",
      "Epoch 466/500\n",
      "5/5 [==============================] - 1s 149ms/step - loss: 0.0019 - mae: 0.0340 - val_loss: 0.0038 - val_mae: 0.0483\n",
      "Epoch 467/500\n",
      "5/5 [==============================] - 1s 150ms/step - loss: 0.0019 - mae: 0.0351 - val_loss: 0.0039 - val_mae: 0.0492\n",
      "Epoch 468/500\n",
      "5/5 [==============================] - 1s 152ms/step - loss: 0.0021 - mae: 0.0367 - val_loss: 0.0044 - val_mae: 0.0513\n",
      "Epoch 469/500\n",
      "5/5 [==============================] - 1s 153ms/step - loss: 0.0021 - mae: 0.0364 - val_loss: 0.0036 - val_mae: 0.0471\n",
      "Epoch 470/500\n",
      "5/5 [==============================] - 1s 150ms/step - loss: 0.0020 - mae: 0.0357 - val_loss: 0.0040 - val_mae: 0.0487\n",
      "Epoch 471/500\n",
      "5/5 [==============================] - 1s 144ms/step - loss: 0.0021 - mae: 0.0368 - val_loss: 0.0046 - val_mae: 0.0532\n",
      "Epoch 472/500\n",
      "5/5 [==============================] - 1s 138ms/step - loss: 0.0021 - mae: 0.0364 - val_loss: 0.0041 - val_mae: 0.0510\n",
      "Epoch 473/500\n",
      "5/5 [==============================] - 1s 141ms/step - loss: 0.0020 - mae: 0.0358 - val_loss: 0.0040 - val_mae: 0.0483\n",
      "Epoch 474/500\n",
      "5/5 [==============================] - 1s 145ms/step - loss: 0.0020 - mae: 0.0353 - val_loss: 0.0037 - val_mae: 0.0479\n",
      "Epoch 475/500\n",
      "5/5 [==============================] - 1s 154ms/step - loss: 0.0018 - mae: 0.0337 - val_loss: 0.0037 - val_mae: 0.0476\n",
      "Epoch 476/500\n",
      "5/5 [==============================] - 1s 153ms/step - loss: 0.0018 - mae: 0.0333 - val_loss: 0.0037 - val_mae: 0.0469\n",
      "Epoch 477/500\n",
      "5/5 [==============================] - 1s 143ms/step - loss: 0.0018 - mae: 0.0338 - val_loss: 0.0037 - val_mae: 0.0472\n",
      "Epoch 478/500\n",
      "5/5 [==============================] - 1s 143ms/step - loss: 0.0018 - mae: 0.0336 - val_loss: 0.0038 - val_mae: 0.0477\n",
      "Epoch 479/500\n",
      "5/5 [==============================] - 1s 135ms/step - loss: 0.0019 - mae: 0.0342 - val_loss: 0.0038 - val_mae: 0.0483\n",
      "Epoch 480/500\n",
      "5/5 [==============================] - 1s 146ms/step - loss: 0.0019 - mae: 0.0344 - val_loss: 0.0039 - val_mae: 0.0476\n",
      "Epoch 481/500\n",
      "5/5 [==============================] - 1s 153ms/step - loss: 0.0020 - mae: 0.0350 - val_loss: 0.0037 - val_mae: 0.0476\n",
      "Epoch 482/500\n",
      "5/5 [==============================] - 1s 152ms/step - loss: 0.0019 - mae: 0.0351 - val_loss: 0.0039 - val_mae: 0.0490\n",
      "Epoch 483/500\n",
      "5/5 [==============================] - 1s 184ms/step - loss: 0.0018 - mae: 0.0335 - val_loss: 0.0035 - val_mae: 0.0459\n",
      "Epoch 484/500\n",
      "5/5 [==============================] - 1s 143ms/step - loss: 0.0017 - mae: 0.0326 - val_loss: 0.0036 - val_mae: 0.0470\n",
      "Epoch 485/500\n",
      "5/5 [==============================] - ETA: 0s - loss: 0.0018 - mae: 0.0339INFO:tensorflow:Assets written to: C:\\Users\\PARK\\Documents\\LAB\\RNN vs LSTM\\FInal Example\\wandb\\run-20221015_184213-1cudq716\\files\\model-best\\assets\n"
     ]
    },
    {
     "name": "stderr",
     "output_type": "stream",
     "text": [
      "\u001b[34m\u001b[1mwandb\u001b[0m: Adding directory to artifact (C:\\Users\\PARK\\Documents\\LAB\\RNN vs LSTM\\FInal Example\\wandb\\run-20221015_184213-1cudq716\\files\\model-best)... Done. 0.0s\n"
     ]
    },
    {
     "name": "stdout",
     "output_type": "stream",
     "text": [
      "5/5 [==============================] - 2s 462ms/step - loss: 0.0018 - mae: 0.0339 - val_loss: 0.0035 - val_mae: 0.0457\n",
      "Epoch 486/500\n",
      "5/5 [==============================] - 1s 161ms/step - loss: 0.0018 - mae: 0.0335 - val_loss: 0.0037 - val_mae: 0.0476\n",
      "Epoch 487/500\n",
      "5/5 [==============================] - 1s 156ms/step - loss: 0.0018 - mae: 0.0335 - val_loss: 0.0039 - val_mae: 0.0492\n",
      "Epoch 488/500\n",
      "5/5 [==============================] - 1s 147ms/step - loss: 0.0018 - mae: 0.0339 - val_loss: 0.0039 - val_mae: 0.0488\n",
      "Epoch 489/500\n",
      "5/5 [==============================] - 1s 142ms/step - loss: 0.0020 - mae: 0.0360 - val_loss: 0.0040 - val_mae: 0.0492\n",
      "Epoch 490/500\n",
      "5/5 [==============================] - 1s 137ms/step - loss: 0.0022 - mae: 0.0374 - val_loss: 0.0038 - val_mae: 0.0474\n",
      "Epoch 491/500\n",
      "5/5 [==============================] - 1s 148ms/step - loss: 0.0020 - mae: 0.0354 - val_loss: 0.0042 - val_mae: 0.0507\n",
      "Epoch 492/500\n",
      "5/5 [==============================] - 1s 153ms/step - loss: 0.0022 - mae: 0.0374 - val_loss: 0.0037 - val_mae: 0.0477\n",
      "Epoch 493/500\n",
      "5/5 [==============================] - 1s 144ms/step - loss: 0.0020 - mae: 0.0354 - val_loss: 0.0043 - val_mae: 0.0519\n",
      "Epoch 494/500\n",
      "5/5 [==============================] - 1s 145ms/step - loss: 0.0022 - mae: 0.0372 - val_loss: 0.0038 - val_mae: 0.0481\n",
      "Epoch 495/500\n",
      "5/5 [==============================] - ETA: 0s - loss: 0.0019 - mae: 0.0349INFO:tensorflow:Assets written to: C:\\Users\\PARK\\Documents\\LAB\\RNN vs LSTM\\FInal Example\\wandb\\run-20221015_184213-1cudq716\\files\\model-best\\assets\n"
     ]
    },
    {
     "name": "stderr",
     "output_type": "stream",
     "text": [
      "\u001b[34m\u001b[1mwandb\u001b[0m: Adding directory to artifact (C:\\Users\\PARK\\Documents\\LAB\\RNN vs LSTM\\FInal Example\\wandb\\run-20221015_184213-1cudq716\\files\\model-best)... Done. 0.0s\n"
     ]
    },
    {
     "name": "stdout",
     "output_type": "stream",
     "text": [
      "5/5 [==============================] - 2s 480ms/step - loss: 0.0019 - mae: 0.0349 - val_loss: 0.0035 - val_mae: 0.0457\n",
      "Epoch 496/500\n",
      "5/5 [==============================] - ETA: 0s - loss: 0.0019 - mae: 0.0343INFO:tensorflow:Assets written to: C:\\Users\\PARK\\Documents\\LAB\\RNN vs LSTM\\FInal Example\\wandb\\run-20221015_184213-1cudq716\\files\\model-best\\assets\n"
     ]
    },
    {
     "name": "stderr",
     "output_type": "stream",
     "text": [
      "\u001b[34m\u001b[1mwandb\u001b[0m: Adding directory to artifact (C:\\Users\\PARK\\Documents\\LAB\\RNN vs LSTM\\FInal Example\\wandb\\run-20221015_184213-1cudq716\\files\\model-best)... Done. 0.0s\n"
     ]
    },
    {
     "name": "stdout",
     "output_type": "stream",
     "text": [
      "5/5 [==============================] - 2s 515ms/step - loss: 0.0019 - mae: 0.0343 - val_loss: 0.0033 - val_mae: 0.0453\n",
      "Epoch 497/500\n",
      "5/5 [==============================] - 1s 178ms/step - loss: 0.0016 - mae: 0.0322 - val_loss: 0.0036 - val_mae: 0.0466\n",
      "Epoch 498/500\n",
      "5/5 [==============================] - 1s 157ms/step - loss: 0.0017 - mae: 0.0323 - val_loss: 0.0038 - val_mae: 0.0480\n",
      "Epoch 499/500\n",
      "5/5 [==============================] - 1s 154ms/step - loss: 0.0019 - mae: 0.0354 - val_loss: 0.0037 - val_mae: 0.0475\n",
      "Epoch 500/500\n",
      "5/5 [==============================] - 1s 147ms/step - loss: 0.0019 - mae: 0.0341 - val_loss: 0.0038 - val_mae: 0.0484\n"
     ]
    }
   ],
   "source": [
    "from tensorflow.keras import datasets, layers, models\n",
    "from tensorflow import keras\n",
    "from tensorflow.keras import layers\n",
    "\n",
    "model = models.Sequential()\n",
    "model.add(layers.SimpleRNN(128, input_shape=(time_step,2)))\n",
    "model.add(layers.Dense(25))\n",
    "\n",
    "model.summary()\n",
    "\n",
    "model.compile(optimizer='adam', loss='mse', metrics=['mae'])\n",
    "\n",
    "history = model.fit(train_input, train_label, epochs=500, verbose=1, shuffle=True, validation_split=0.20,\n",
    "                   callbacks=[WandbCallback(log_weights=True, log_gradients=True, training_data=(train_input, train_label))])"
   ]
  },
  {
   "cell_type": "code",
   "execution_count": 17,
   "id": "f2977e3d",
   "metadata": {},
   "outputs": [
    {
     "name": "stdout",
     "output_type": "stream",
     "text": [
      "1/1 [==============================] - 0s 91ms/step\n"
     ]
    }
   ],
   "source": [
    "test_input = test_input.reshape(1, test_input.shape[0], test_input.shape[1])\n",
    "\n",
    "y_hat = model.predict(test_input)"
   ]
  },
  {
   "cell_type": "code",
   "execution_count": 18,
   "id": "569d2b27",
   "metadata": {},
   "outputs": [
    {
     "data": {
      "text/plain": [
       "(1, 100, 2)"
      ]
     },
     "execution_count": 18,
     "metadata": {},
     "output_type": "execute_result"
    }
   ],
   "source": [
    "test_input.shape"
   ]
  },
  {
   "cell_type": "code",
   "execution_count": 19,
   "id": "6b083de8",
   "metadata": {},
   "outputs": [],
   "source": [
    "test_label = test_label.reshape(1, test_label.shape[0], test_label.shape[1])"
   ]
  },
  {
   "cell_type": "code",
   "execution_count": 20,
   "id": "54e7a073",
   "metadata": {},
   "outputs": [
    {
     "data": {
      "text/plain": [
       "(1, 25, 1)"
      ]
     },
     "execution_count": 20,
     "metadata": {},
     "output_type": "execute_result"
    }
   ],
   "source": [
    "test_label.shape"
   ]
  },
  {
   "cell_type": "code",
   "execution_count": 21,
   "id": "b3e0c133",
   "metadata": {},
   "outputs": [
    {
     "data": {
      "text/plain": [
       "array([[1.3397946, 1.654118 , 1.7847469, 1.8794206, 1.9137415, 2.0324543,\n",
       "        1.7086567, 2.0141737, 1.9299096, 1.8601335, 1.9602326, 2.2177312,\n",
       "        1.5314088, 1.8870115, 1.892249 , 1.7932365, 2.0783246, 2.1071825,\n",
       "        2.103045 , 2.1556659, 1.9102707, 2.288017 , 2.180333 , 2.471088 ,\n",
       "        1.6433904]], dtype=float32)"
      ]
     },
     "execution_count": 21,
     "metadata": {},
     "output_type": "execute_result"
    }
   ],
   "source": [
    "y_hat"
   ]
  },
  {
   "cell_type": "code",
   "execution_count": 22,
   "id": "e37311d1",
   "metadata": {},
   "outputs": [
    {
     "data": {
      "text/plain": [
       "(1, 25)"
      ]
     },
     "execution_count": 22,
     "metadata": {},
     "output_type": "execute_result"
    }
   ],
   "source": [
    "y_hat.shape"
   ]
  },
  {
   "cell_type": "code",
   "execution_count": 23,
   "id": "ad0f0285",
   "metadata": {},
   "outputs": [],
   "source": [
    "y_hat = y_hat.reshape(y_hat.shape[1], 1)"
   ]
  },
  {
   "cell_type": "code",
   "execution_count": 24,
   "id": "69ea1f6f",
   "metadata": {},
   "outputs": [],
   "source": [
    "y_hat = (y_hat*data_std)+data_mean"
   ]
  },
  {
   "cell_type": "code",
   "execution_count": 25,
   "id": "702f2214",
   "metadata": {},
   "outputs": [],
   "source": [
    "#print(scaler.data_max_)"
   ]
  },
  {
   "cell_type": "code",
   "execution_count": 26,
   "id": "1ca1a387",
   "metadata": {},
   "outputs": [],
   "source": [
    "#print(scaler.data_min_)"
   ]
  },
  {
   "cell_type": "code",
   "execution_count": 27,
   "id": "5e40982b",
   "metadata": {},
   "outputs": [],
   "source": [
    "#y_hat = y_hat * (scaler.data_max_[1]-scaler.data_min_[1]) + scaler.data_min_[1]"
   ]
  },
  {
   "cell_type": "code",
   "execution_count": 28,
   "id": "902bb0d7",
   "metadata": {},
   "outputs": [
    {
     "data": {
      "text/plain": [
       "Text(0.5, 1.0, 'RNN prediction')"
      ]
     },
     "execution_count": 28,
     "metadata": {},
     "output_type": "execute_result"
    },
    {
     "data": {
      "image/png": "[encoded data removed]",
      "text/plain": [
       "<Figure size 1008x576 with 1 Axes>"
      ]
     },
     "metadata": {
      "needs_background": "light"
     },
     "output_type": "display_data"
    }
   ],
   "source": [
    "import matplotlib.pyplot as plt\n",
    "\n",
    "x = range(325)\n",
    "plt.figure(figsize=(14,8))\n",
    "plt.plot(df[300:325]['Sales'], label='original')\n",
    "plt.plot(x[300:325], y_hat, label='prediction')\n",
    "plt.legend()\n",
    "plt.xlabel('Sequence', fontsize=20)\n",
    "plt.ylabel('Sales', fontsize=20)\n",
    "plt.title('RNN prediction', fontsize=25)"
   ]
  },
  {
   "cell_type": "code",
   "execution_count": 29,
   "id": "051887d3",
   "metadata": {
    "scrolled": true
   },
   "outputs": [
    {
     "name": "stdout",
     "output_type": "stream",
     "text": [
      "1/1 [==============================] - 0s 22ms/step - loss: 0.0386 - mae: 0.1651\n"
     ]
    },
    {
     "data": {
      "text/plain": [
       "[0.03858871012926102, 0.1651405692100525]"
      ]
     },
     "execution_count": 29,
     "metadata": {},
     "output_type": "execute_result"
    }
   ],
   "source": [
    "model.evaluate(test_input, test_label)"
   ]
  },
  {
   "cell_type": "code",
   "execution_count": null,
   "id": "2819448e",
   "metadata": {},
   "outputs": [],
   "source": []
  }
 ],
 "metadata": {
  "kernelspec": {
   "display_name": "Python 3 (ipykernel)",
   "language": "python",
   "name": "python3"
  },
  "language_info": {
   "codemirror_mode": {
    "name": "ipython",
    "version": 3
   },
   "file_extension": ".py",
   "mimetype": "text/x-python",
   "name": "python",
   "nbconvert_exporter": "python",
   "pygments_lexer": "ipython3",
   "version": "3.9.12"
  }
 },
 "nbformat": 4,
 "nbformat_minor": 5
}
