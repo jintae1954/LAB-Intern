{
 "cells": [
  {
   "cell_type": "code",
   "execution_count": 1,
   "id": "5b336d14",
   "metadata": {},
   "outputs": [
    {
     "name": "stderr",
     "output_type": "stream",
     "text": [
      "\u001b[34m\u001b[1mwandb\u001b[0m: Currently logged in as: \u001b[33mjintae\u001b[0m. Use \u001b[1m`wandb login --relogin`\u001b[0m to force relogin\n"
     ]
    },
    {
     "data": {
      "text/html": [
       "Tracking run with wandb version 0.13.4"
      ],
      "text/plain": [
       "<IPython.core.display.HTML object>"
      ]
     },
     "metadata": {},
     "output_type": "display_data"
    },
    {
     "data": {
      "text/html": [
       "Run data is saved locally in <code>C:\\Users\\PARK\\Documents\\LAB\\RNN vs LSTM\\FInal Example\\wandb\\run-20221015_182523-2kqpe77u</code>"
      ],
      "text/plain": [
       "<IPython.core.display.HTML object>"
      ]
     },
     "metadata": {},
     "output_type": "display_data"
    },
    {
     "data": {
      "text/html": [
       "Syncing run <strong><a href=\"https://wandb.ai/jintae/RNN%20seq%20128./runs/2kqpe77u\" target=\"_blank\">absurd-darkness-1</a></strong> to <a href=\"https://wandb.ai/jintae/RNN%20seq%20128.\" target=\"_blank\">Weights & Biases</a> (<a href=\"https://wandb.me/run\" target=\"_blank\">docs</a>)<br/>"
      ],
      "text/plain": [
       "<IPython.core.display.HTML object>"
      ]
     },
     "metadata": {},
     "output_type": "display_data"
    },
    {
     "data": {
      "text/html": [
       "<button onClick=\"this.nextSibling.style.display='block';this.style.display='none';\">Display W&B run</button><iframe src=\"https://wandb.ai/jintae/RNN%20seq%20128./runs/2kqpe77u?jupyter=true\" style=\"border:none;width:100%;height:420px;display:none;\"></iframe>"
      ],
      "text/plain": [
       "<wandb.sdk.wandb_run.Run at 0x216e4932af0>"
      ]
     },
     "execution_count": 1,
     "metadata": {},
     "output_type": "execute_result"
    }
   ],
   "source": [
    "import wandb\n",
    "from wandb.keras import WandbCallback\n",
    "wandb.init(project=\"RNN seq 128.\")"
   ]
  },
  {
   "cell_type": "code",
   "execution_count": 2,
   "id": "650bae84",
   "metadata": {},
   "outputs": [
    {
     "name": "stdout",
     "output_type": "stream",
     "text": [
      "   DATE  Sales\n",
      "0     0   3459\n",
      "1     1   3458\n",
      "2     2   4002\n",
      "3     3   4564\n",
      "4     4   4221\n"
     ]
    }
   ],
   "source": [
    "import pandas as pd\n",
    "\n",
    "df = pd.read_csv('C:/Users/PARK/Desktop/Alcohol_Sales.csv')\n",
    "print(df.head())"
   ]
  },
  {
   "cell_type": "code",
   "execution_count": 3,
   "id": "71e18e17",
   "metadata": {},
   "outputs": [
    {
     "data": {
      "text/plain": [
       "(325, 2)"
      ]
     },
     "execution_count": 3,
     "metadata": {},
     "output_type": "execute_result"
    }
   ],
   "source": [
    "df.shape"
   ]
  },
  {
   "cell_type": "code",
   "execution_count": 4,
   "id": "5f4f8fb7",
   "metadata": {},
   "outputs": [],
   "source": [
    "import numpy as np\n",
    "\n",
    "data = df.to_numpy()"
   ]
  },
  {
   "cell_type": "code",
   "execution_count": 5,
   "id": "c6063052",
   "metadata": {},
   "outputs": [
    {
     "data": {
      "text/plain": [
       "(325, 2)"
      ]
     },
     "execution_count": 5,
     "metadata": {},
     "output_type": "execute_result"
    }
   ],
   "source": [
    "data.shape"
   ]
  },
  {
   "cell_type": "code",
   "execution_count": 6,
   "id": "01930485",
   "metadata": {},
   "outputs": [
    {
     "data": {
      "text/plain": [
       "array([[   0, 3459],\n",
       "       [   1, 3458],\n",
       "       [   2, 4002],\n",
       "       [   3, 4564],\n",
       "       [   4, 4221]], dtype=int64)"
      ]
     },
     "execution_count": 6,
     "metadata": {},
     "output_type": "execute_result"
    }
   ],
   "source": [
    "data[0:5]"
   ]
  },
  {
   "cell_type": "code",
   "execution_count": 7,
   "id": "ad83b404",
   "metadata": {},
   "outputs": [],
   "source": [
    "# from sklearn.preprocessing import MinMaxScaler\n",
    "\n",
    "# scaler = MinMaxScaler()\n",
    "\n",
    "# data = scaler.fit_transform(data)"
   ]
  },
  {
   "cell_type": "code",
   "execution_count": 8,
   "id": "17aef2ea",
   "metadata": {},
   "outputs": [],
   "source": [
    "data_mean = data.mean()\n",
    "data_std = data.std()\n",
    "\n",
    "data = (data - data_mean)/data_std"
   ]
  },
  {
   "cell_type": "code",
   "execution_count": 9,
   "id": "63fe0032",
   "metadata": {},
   "outputs": [
    {
     "data": {
      "text/plain": [
       "array([[-0.9194862 , -0.12914209],\n",
       "       [-0.91925771, -0.12937058],\n",
       "       [-0.91902922, -0.00507246],\n",
       "       [-0.91880073,  0.12333846],\n",
       "       [-0.91857224,  0.04496667]])"
      ]
     },
     "execution_count": 9,
     "metadata": {},
     "output_type": "execute_result"
    }
   ],
   "source": [
    "data[0:5]"
   ]
  },
  {
   "cell_type": "code",
   "execution_count": 10,
   "id": "87ac24ef",
   "metadata": {
    "scrolled": true
   },
   "outputs": [],
   "source": [
    "train_input = []\n",
    "train_label = []\n",
    "\n",
    "data_len = 325\n",
    "time_step = 100\n",
    "out_dim = 25\n",
    "\n",
    "for i in range(176):\n",
    "    _input = data[i:i+time_step]\n",
    "    _label = data[i+time_step:i+time_step+out_dim]\n",
    "    \n",
    "    train_input.append(_input)\n",
    "    train_label.append(_label)\n",
    "    \n",
    "\n",
    "train_input = np.array(train_input)\n",
    "train_label = np.array(train_label)\n",
    "train_label = np.delete(train_label, 0, axis=2)\n",
    "\n",
    "\n",
    "test_input = np.array(data[data_len-out_dim-time_step:data_len-out_dim])\n",
    "test_label =np.array(data[300:325])\n",
    "test_label = np.delete(test_label, 0, axis=1)"
   ]
  },
  {
   "cell_type": "code",
   "execution_count": 11,
   "id": "41975dc7",
   "metadata": {},
   "outputs": [
    {
     "data": {
      "text/plain": [
       "(176, 100, 2)"
      ]
     },
     "execution_count": 11,
     "metadata": {},
     "output_type": "execute_result"
    }
   ],
   "source": [
    "train_input.shape"
   ]
  },
  {
   "cell_type": "code",
   "execution_count": 12,
   "id": "b762c3ba",
   "metadata": {},
   "outputs": [
    {
     "data": {
      "text/plain": [
       "(176, 25, 1)"
      ]
     },
     "execution_count": 12,
     "metadata": {},
     "output_type": "execute_result"
    }
   ],
   "source": [
    "train_label.shape"
   ]
  },
  {
   "cell_type": "code",
   "execution_count": 13,
   "id": "127c63a2",
   "metadata": {},
   "outputs": [
    {
     "data": {
      "text/plain": [
       "(100, 2)"
      ]
     },
     "execution_count": 13,
     "metadata": {},
     "output_type": "execute_result"
    }
   ],
   "source": [
    "test_input.shape"
   ]
  },
  {
   "cell_type": "code",
   "execution_count": 14,
   "id": "6647472d",
   "metadata": {},
   "outputs": [
    {
     "data": {
      "text/plain": [
       "(25, 1)"
      ]
     },
     "execution_count": 14,
     "metadata": {},
     "output_type": "execute_result"
    }
   ],
   "source": [
    "test_label.shape"
   ]
  },
  {
   "cell_type": "code",
   "execution_count": 15,
   "id": "5d83c07f",
   "metadata": {},
   "outputs": [],
   "source": [
    "np.random.seed(10)\n",
    "shuffled_indices = np.random.permutation(np.arange(train_input.shape[0]))\n",
    "train_input = train_input[shuffled_indices, :, :]\n",
    "train_label = train_label[shuffled_indices, :]"
   ]
  },
  {
   "cell_type": "code",
   "execution_count": 16,
   "id": "a183926e",
   "metadata": {
    "scrolled": true
   },
   "outputs": [
    {
     "name": "stdout",
     "output_type": "stream",
     "text": [
      "Model: \"sequential\"\n",
      "_________________________________________________________________\n",
      " Layer (type)                Output Shape              Param #   \n",
      "=================================================================\n",
      " simple_rnn (SimpleRNN)      (None, 128)               16768     \n",
      "                                                                 \n",
      " dense (Dense)               (None, 25)                3225      \n",
      "                                                                 \n",
      "=================================================================\n",
      "Total params: 19,993\n",
      "Trainable params: 19,993\n",
      "Non-trainable params: 0\n",
      "_________________________________________________________________\n"
     ]
    },
    {
     "name": "stderr",
     "output_type": "stream",
     "text": [
      "\u001b[34m\u001b[1mwandb\u001b[0m: \u001b[33mWARNING\u001b[0m The save_model argument by default saves the model in the HDF5 format that cannot save custom objects like subclassed models and custom layers. This behavior will be deprecated in a future release in favor of the SavedModel format. Meanwhile, the HDF5 model is saved as W&B files and the SavedModel as W&B Artifacts.\n"
     ]
    },
    {
     "name": "stdout",
     "output_type": "stream",
     "text": [
      "Epoch 1/50\n",
      "4/5 [=======================>......] - ETA: 0s - loss: 1.4503 - mae: 1.0467INFO:tensorflow:Assets written to: C:\\Users\\PARK\\Documents\\LAB\\RNN vs LSTM\\FInal Example\\wandb\\run-20221015_182523-2kqpe77u\\files\\model-best\\assets\n"
     ]
    },
    {
     "name": "stderr",
     "output_type": "stream",
     "text": [
      "\u001b[34m\u001b[1mwandb\u001b[0m: Adding directory to artifact (C:\\Users\\PARK\\Documents\\LAB\\RNN vs LSTM\\FInal Example\\wandb\\run-20221015_182523-2kqpe77u\\files\\model-best)... Done. 0.0s\n"
     ]
    },
    {
     "name": "stdout",
     "output_type": "stream",
     "text": [
      "5/5 [==============================] - 4s 642ms/step - loss: 1.3872 - mae: 1.0155 - val_loss: 0.7864 - val_mae: 0.7257\n",
      "Epoch 2/50\n",
      "5/5 [==============================] - ETA: 0s - loss: 0.5870 - mae: 0.6082INFO:tensorflow:Assets written to: C:\\Users\\PARK\\Documents\\LAB\\RNN vs LSTM\\FInal Example\\wandb\\run-20221015_182523-2kqpe77u\\files\\model-best\\assets\n"
     ]
    },
    {
     "name": "stderr",
     "output_type": "stream",
     "text": [
      "\u001b[34m\u001b[1mwandb\u001b[0m: Adding directory to artifact (C:\\Users\\PARK\\Documents\\LAB\\RNN vs LSTM\\FInal Example\\wandb\\run-20221015_182523-2kqpe77u\\files\\model-best)... Done. 0.0s\n"
     ]
    },
    {
     "name": "stdout",
     "output_type": "stream",
     "text": [
      "5/5 [==============================] - 2s 469ms/step - loss: 0.5870 - mae: 0.6082 - val_loss: 0.2851 - val_mae: 0.4154\n",
      "Epoch 3/50\n",
      "5/5 [==============================] - ETA: 0s - loss: 0.2280 - mae: 0.3767INFO:tensorflow:Assets written to: C:\\Users\\PARK\\Documents\\LAB\\RNN vs LSTM\\FInal Example\\wandb\\run-20221015_182523-2kqpe77u\\files\\model-best\\assets\n"
     ]
    },
    {
     "name": "stderr",
     "output_type": "stream",
     "text": [
      "\u001b[34m\u001b[1mwandb\u001b[0m: Adding directory to artifact (C:\\Users\\PARK\\Documents\\LAB\\RNN vs LSTM\\FInal Example\\wandb\\run-20221015_182523-2kqpe77u\\files\\model-best)... Done. 0.0s\n"
     ]
    },
    {
     "name": "stdout",
     "output_type": "stream",
     "text": [
      "5/5 [==============================] - 2s 474ms/step - loss: 0.2280 - mae: 0.3767 - val_loss: 0.1635 - val_mae: 0.3295\n",
      "Epoch 4/50\n",
      "5/5 [==============================] - ETA: 0s - loss: 0.1574 - mae: 0.3226INFO:tensorflow:Assets written to: C:\\Users\\PARK\\Documents\\LAB\\RNN vs LSTM\\FInal Example\\wandb\\run-20221015_182523-2kqpe77u\\files\\model-best\\assets\n"
     ]
    },
    {
     "name": "stderr",
     "output_type": "stream",
     "text": [
      "\u001b[34m\u001b[1mwandb\u001b[0m: Adding directory to artifact (C:\\Users\\PARK\\Documents\\LAB\\RNN vs LSTM\\FInal Example\\wandb\\run-20221015_182523-2kqpe77u\\files\\model-best)... Done. 0.0s\n"
     ]
    },
    {
     "name": "stdout",
     "output_type": "stream",
     "text": [
      "5/5 [==============================] - 2s 498ms/step - loss: 0.1574 - mae: 0.3226 - val_loss: 0.1295 - val_mae: 0.2894\n",
      "Epoch 5/50\n",
      "5/5 [==============================] - 1s 162ms/step - loss: 0.1496 - mae: 0.3122 - val_loss: 0.2870 - val_mae: 0.4462\n",
      "Epoch 6/50\n",
      "5/5 [==============================] - 1s 153ms/step - loss: 0.2437 - mae: 0.4064 - val_loss: 0.1657 - val_mae: 0.3323\n",
      "Epoch 7/50\n",
      "5/5 [==============================] - 1s 140ms/step - loss: 0.1610 - mae: 0.3262 - val_loss: 0.1599 - val_mae: 0.3252\n",
      "Epoch 8/50\n",
      "5/5 [==============================] - 1s 139ms/step - loss: 0.1614 - mae: 0.3260 - val_loss: 0.1452 - val_mae: 0.3140\n",
      "Epoch 9/50\n",
      "5/5 [==============================] - 1s 156ms/step - loss: 0.1452 - mae: 0.3118 - val_loss: 0.1405 - val_mae: 0.3083\n",
      "Epoch 10/50\n",
      "5/5 [==============================] - ETA: 0s - loss: 0.1341 - mae: 0.2990INFO:tensorflow:Assets written to: C:\\Users\\PARK\\Documents\\LAB\\RNN vs LSTM\\FInal Example\\wandb\\run-20221015_182523-2kqpe77u\\files\\model-best\\assets\n"
     ]
    },
    {
     "name": "stderr",
     "output_type": "stream",
     "text": [
      "\u001b[34m\u001b[1mwandb\u001b[0m: Adding directory to artifact (C:\\Users\\PARK\\Documents\\LAB\\RNN vs LSTM\\FInal Example\\wandb\\run-20221015_182523-2kqpe77u\\files\\model-best)... Done. 0.0s\n"
     ]
    },
    {
     "name": "stdout",
     "output_type": "stream",
     "text": [
      "5/5 [==============================] - 2s 472ms/step - loss: 0.1341 - mae: 0.2990 - val_loss: 0.1252 - val_mae: 0.2899\n",
      "Epoch 11/50\n",
      "5/5 [==============================] - ETA: 0s - loss: 0.1185 - mae: 0.2804INFO:tensorflow:Assets written to: C:\\Users\\PARK\\Documents\\LAB\\RNN vs LSTM\\FInal Example\\wandb\\run-20221015_182523-2kqpe77u\\files\\model-best\\assets\n"
     ]
    },
    {
     "name": "stderr",
     "output_type": "stream",
     "text": [
      "\u001b[34m\u001b[1mwandb\u001b[0m: Adding directory to artifact (C:\\Users\\PARK\\Documents\\LAB\\RNN vs LSTM\\FInal Example\\wandb\\run-20221015_182523-2kqpe77u\\files\\model-best)... Done. 0.0s\n"
     ]
    },
    {
     "name": "stdout",
     "output_type": "stream",
     "text": [
      "5/5 [==============================] - 2s 484ms/step - loss: 0.1185 - mae: 0.2804 - val_loss: 0.1006 - val_mae: 0.2579\n",
      "Epoch 12/50\n",
      "5/5 [==============================] - ETA: 0s - loss: 0.0967 - mae: 0.2492INFO:tensorflow:Assets written to: C:\\Users\\PARK\\Documents\\LAB\\RNN vs LSTM\\FInal Example\\wandb\\run-20221015_182523-2kqpe77u\\files\\model-best\\assets\n"
     ]
    },
    {
     "name": "stderr",
     "output_type": "stream",
     "text": [
      "\u001b[34m\u001b[1mwandb\u001b[0m: Adding directory to artifact (C:\\Users\\PARK\\Documents\\LAB\\RNN vs LSTM\\FInal Example\\wandb\\run-20221015_182523-2kqpe77u\\files\\model-best)... Done. 0.0s\n"
     ]
    },
    {
     "name": "stdout",
     "output_type": "stream",
     "text": [
      "5/5 [==============================] - 2s 500ms/step - loss: 0.0967 - mae: 0.2492 - val_loss: 0.0809 - val_mae: 0.2259\n",
      "Epoch 13/50\n",
      "5/5 [==============================] - ETA: 0s - loss: 0.0804 - mae: 0.2245INFO:tensorflow:Assets written to: C:\\Users\\PARK\\Documents\\LAB\\RNN vs LSTM\\FInal Example\\wandb\\run-20221015_182523-2kqpe77u\\files\\model-best\\assets\n"
     ]
    },
    {
     "name": "stderr",
     "output_type": "stream",
     "text": [
      "\u001b[34m\u001b[1mwandb\u001b[0m: Adding directory to artifact (C:\\Users\\PARK\\Documents\\LAB\\RNN vs LSTM\\FInal Example\\wandb\\run-20221015_182523-2kqpe77u\\files\\model-best)... Done. 0.0s\n"
     ]
    },
    {
     "name": "stdout",
     "output_type": "stream",
     "text": [
      "5/5 [==============================] - 2s 498ms/step - loss: 0.0804 - mae: 0.2245 - val_loss: 0.0744 - val_mae: 0.2135\n",
      "Epoch 14/50\n",
      "5/5 [==============================] - ETA: 0s - loss: 0.0771 - mae: 0.2186INFO:tensorflow:Assets written to: C:\\Users\\PARK\\Documents\\LAB\\RNN vs LSTM\\FInal Example\\wandb\\run-20221015_182523-2kqpe77u\\files\\model-best\\assets\n"
     ]
    },
    {
     "name": "stderr",
     "output_type": "stream",
     "text": [
      "\u001b[34m\u001b[1mwandb\u001b[0m: Adding directory to artifact (C:\\Users\\PARK\\Documents\\LAB\\RNN vs LSTM\\FInal Example\\wandb\\run-20221015_182523-2kqpe77u\\files\\model-best)... Done. 0.0s\n"
     ]
    },
    {
     "name": "stdout",
     "output_type": "stream",
     "text": [
      "5/5 [==============================] - 2s 505ms/step - loss: 0.0771 - mae: 0.2186 - val_loss: 0.0698 - val_mae: 0.2084\n",
      "Epoch 15/50\n",
      "5/5 [==============================] - ETA: 0s - loss: 0.0702 - mae: 0.2090INFO:tensorflow:Assets written to: C:\\Users\\PARK\\Documents\\LAB\\RNN vs LSTM\\FInal Example\\wandb\\run-20221015_182523-2kqpe77u\\files\\model-best\\assets\n"
     ]
    },
    {
     "name": "stderr",
     "output_type": "stream",
     "text": [
      "\u001b[34m\u001b[1mwandb\u001b[0m: Adding directory to artifact (C:\\Users\\PARK\\Documents\\LAB\\RNN vs LSTM\\FInal Example\\wandb\\run-20221015_182523-2kqpe77u\\files\\model-best)... Done. 0.0s\n"
     ]
    },
    {
     "name": "stdout",
     "output_type": "stream",
     "text": [
      "5/5 [==============================] - 2s 493ms/step - loss: 0.0702 - mae: 0.2090 - val_loss: 0.0651 - val_mae: 0.2001\n",
      "Epoch 16/50\n",
      "5/5 [==============================] - 1s 153ms/step - loss: 0.0682 - mae: 0.2066 - val_loss: 0.0678 - val_mae: 0.2024\n",
      "Epoch 17/50\n",
      "5/5 [==============================] - ETA: 0s - loss: 0.0661 - mae: 0.2010INFO:tensorflow:Assets written to: C:\\Users\\PARK\\Documents\\LAB\\RNN vs LSTM\\FInal Example\\wandb\\run-20221015_182523-2kqpe77u\\files\\model-best\\assets\n"
     ]
    },
    {
     "name": "stderr",
     "output_type": "stream",
     "text": [
      "\u001b[34m\u001b[1mwandb\u001b[0m: Adding directory to artifact (C:\\Users\\PARK\\Documents\\LAB\\RNN vs LSTM\\FInal Example\\wandb\\run-20221015_182523-2kqpe77u\\files\\model-best)... Done. 0.0s\n"
     ]
    },
    {
     "name": "stdout",
     "output_type": "stream",
     "text": [
      "5/5 [==============================] - 2s 482ms/step - loss: 0.0661 - mae: 0.2010 - val_loss: 0.0605 - val_mae: 0.1929\n",
      "Epoch 18/50\n",
      "5/5 [==============================] - ETA: 0s - loss: 0.0620 - mae: 0.1937INFO:tensorflow:Assets written to: C:\\Users\\PARK\\Documents\\LAB\\RNN vs LSTM\\FInal Example\\wandb\\run-20221015_182523-2kqpe77u\\files\\model-best\\assets\n"
     ]
    },
    {
     "name": "stderr",
     "output_type": "stream",
     "text": [
      "\u001b[34m\u001b[1mwandb\u001b[0m: Adding directory to artifact (C:\\Users\\PARK\\Documents\\LAB\\RNN vs LSTM\\FInal Example\\wandb\\run-20221015_182523-2kqpe77u\\files\\model-best)... Done. 0.0s\n"
     ]
    },
    {
     "name": "stdout",
     "output_type": "stream",
     "text": [
      "5/5 [==============================] - 2s 508ms/step - loss: 0.0620 - mae: 0.1937 - val_loss: 0.0588 - val_mae: 0.1879\n",
      "Epoch 19/50\n",
      "5/5 [==============================] - ETA: 0s - loss: 0.0608 - mae: 0.1923INFO:tensorflow:Assets written to: C:\\Users\\PARK\\Documents\\LAB\\RNN vs LSTM\\FInal Example\\wandb\\run-20221015_182523-2kqpe77u\\files\\model-best\\assets\n"
     ]
    },
    {
     "name": "stderr",
     "output_type": "stream",
     "text": [
      "\u001b[34m\u001b[1mwandb\u001b[0m: Adding directory to artifact (C:\\Users\\PARK\\Documents\\LAB\\RNN vs LSTM\\FInal Example\\wandb\\run-20221015_182523-2kqpe77u\\files\\model-best)... Done. 0.0s\n"
     ]
    },
    {
     "name": "stdout",
     "output_type": "stream",
     "text": [
      "5/5 [==============================] - 2s 519ms/step - loss: 0.0608 - mae: 0.1923 - val_loss: 0.0582 - val_mae: 0.1868\n",
      "Epoch 20/50\n",
      "5/5 [==============================] - ETA: 0s - loss: 0.0585 - mae: 0.1868INFO:tensorflow:Assets written to: C:\\Users\\PARK\\Documents\\LAB\\RNN vs LSTM\\FInal Example\\wandb\\run-20221015_182523-2kqpe77u\\files\\model-best\\assets\n"
     ]
    },
    {
     "name": "stderr",
     "output_type": "stream",
     "text": [
      "\u001b[34m\u001b[1mwandb\u001b[0m: Adding directory to artifact (C:\\Users\\PARK\\Documents\\LAB\\RNN vs LSTM\\FInal Example\\wandb\\run-20221015_182523-2kqpe77u\\files\\model-best)... Done. 0.0s\n"
     ]
    },
    {
     "name": "stdout",
     "output_type": "stream",
     "text": [
      "5/5 [==============================] - 2s 502ms/step - loss: 0.0585 - mae: 0.1868 - val_loss: 0.0572 - val_mae: 0.1833\n",
      "Epoch 21/50\n",
      "5/5 [==============================] - ETA: 0s - loss: 0.0578 - mae: 0.1855INFO:tensorflow:Assets written to: C:\\Users\\PARK\\Documents\\LAB\\RNN vs LSTM\\FInal Example\\wandb\\run-20221015_182523-2kqpe77u\\files\\model-best\\assets\n"
     ]
    },
    {
     "name": "stderr",
     "output_type": "stream",
     "text": [
      "\u001b[34m\u001b[1mwandb\u001b[0m: Adding directory to artifact (C:\\Users\\PARK\\Documents\\LAB\\RNN vs LSTM\\FInal Example\\wandb\\run-20221015_182523-2kqpe77u\\files\\model-best)... Done. 0.0s\n"
     ]
    },
    {
     "name": "stdout",
     "output_type": "stream",
     "text": [
      "5/5 [==============================] - 2s 506ms/step - loss: 0.0578 - mae: 0.1855 - val_loss: 0.0559 - val_mae: 0.1797\n",
      "Epoch 22/50\n",
      "5/5 [==============================] - 1s 158ms/step - loss: 0.0575 - mae: 0.1846 - val_loss: 0.0569 - val_mae: 0.1810\n",
      "Epoch 23/50\n",
      "5/5 [==============================] - 1s 148ms/step - loss: 0.0579 - mae: 0.1845 - val_loss: 0.0568 - val_mae: 0.1856\n",
      "Epoch 24/50\n",
      "5/5 [==============================] - 1s 149ms/step - loss: 0.0585 - mae: 0.1859 - val_loss: 0.0571 - val_mae: 0.1863\n",
      "Epoch 25/50\n",
      "5/5 [==============================] - ETA: 0s - loss: 0.0564 - mae: 0.1833INFO:tensorflow:Assets written to: C:\\Users\\PARK\\Documents\\LAB\\RNN vs LSTM\\FInal Example\\wandb\\run-20221015_182523-2kqpe77u\\files\\model-best\\assets\n"
     ]
    },
    {
     "name": "stderr",
     "output_type": "stream",
     "text": [
      "\u001b[34m\u001b[1mwandb\u001b[0m: Adding directory to artifact (C:\\Users\\PARK\\Documents\\LAB\\RNN vs LSTM\\FInal Example\\wandb\\run-20221015_182523-2kqpe77u\\files\\model-best)... Done. 0.0s\n"
     ]
    },
    {
     "name": "stdout",
     "output_type": "stream",
     "text": [
      "5/5 [==============================] - 2s 469ms/step - loss: 0.0564 - mae: 0.1833 - val_loss: 0.0553 - val_mae: 0.1799\n",
      "Epoch 26/50\n",
      "5/5 [==============================] - 1s 156ms/step - loss: 0.0558 - mae: 0.1829 - val_loss: 0.0591 - val_mae: 0.1847\n",
      "Epoch 27/50\n",
      "5/5 [==============================] - ETA: 0s - loss: 0.0568 - mae: 0.1844INFO:tensorflow:Assets written to: C:\\Users\\PARK\\Documents\\LAB\\RNN vs LSTM\\FInal Example\\wandb\\run-20221015_182523-2kqpe77u\\files\\model-best\\assets\n"
     ]
    },
    {
     "name": "stderr",
     "output_type": "stream",
     "text": [
      "\u001b[34m\u001b[1mwandb\u001b[0m: Adding directory to artifact (C:\\Users\\PARK\\Documents\\LAB\\RNN vs LSTM\\FInal Example\\wandb\\run-20221015_182523-2kqpe77u\\files\\model-best)... Done. 0.0s\n"
     ]
    },
    {
     "name": "stdout",
     "output_type": "stream",
     "text": [
      "5/5 [==============================] - 2s 497ms/step - loss: 0.0568 - mae: 0.1844 - val_loss: 0.0547 - val_mae: 0.1782\n",
      "Epoch 28/50\n",
      "5/5 [==============================] - 1s 168ms/step - loss: 0.0570 - mae: 0.1830 - val_loss: 0.0562 - val_mae: 0.1858\n",
      "Epoch 29/50\n",
      "5/5 [==============================] - 1s 153ms/step - loss: 0.0557 - mae: 0.1814 - val_loss: 0.0550 - val_mae: 0.1827\n",
      "Epoch 30/50\n",
      "5/5 [==============================] - 1s 152ms/step - loss: 0.0559 - mae: 0.1835 - val_loss: 0.0554 - val_mae: 0.1786\n",
      "Epoch 31/50\n",
      "5/5 [==============================] - ETA: 0s - loss: 0.0543 - mae: 0.1792INFO:tensorflow:Assets written to: C:\\Users\\PARK\\Documents\\LAB\\RNN vs LSTM\\FInal Example\\wandb\\run-20221015_182523-2kqpe77u\\files\\model-best\\assets\n"
     ]
    },
    {
     "name": "stderr",
     "output_type": "stream",
     "text": [
      "\u001b[34m\u001b[1mwandb\u001b[0m: Adding directory to artifact (C:\\Users\\PARK\\Documents\\LAB\\RNN vs LSTM\\FInal Example\\wandb\\run-20221015_182523-2kqpe77u\\files\\model-best)... Done. 0.0s\n"
     ]
    },
    {
     "name": "stdout",
     "output_type": "stream",
     "text": [
      "5/5 [==============================] - 2s 481ms/step - loss: 0.0543 - mae: 0.1792 - val_loss: 0.0537 - val_mae: 0.1766\n",
      "Epoch 32/50\n",
      "5/5 [==============================] - ETA: 0s - loss: 0.0530 - mae: 0.1766INFO:tensorflow:Assets written to: C:\\Users\\PARK\\Documents\\LAB\\RNN vs LSTM\\FInal Example\\wandb\\run-20221015_182523-2kqpe77u\\files\\model-best\\assets\n"
     ]
    },
    {
     "name": "stderr",
     "output_type": "stream",
     "text": [
      "\u001b[34m\u001b[1mwandb\u001b[0m: Adding directory to artifact (C:\\Users\\PARK\\Documents\\LAB\\RNN vs LSTM\\FInal Example\\wandb\\run-20221015_182523-2kqpe77u\\files\\model-best)... Done. 0.0s\n"
     ]
    },
    {
     "name": "stdout",
     "output_type": "stream",
     "text": [
      "5/5 [==============================] - 2s 484ms/step - loss: 0.0530 - mae: 0.1766 - val_loss: 0.0519 - val_mae: 0.1748\n",
      "Epoch 33/50\n",
      "5/5 [==============================] - 1s 152ms/step - loss: 0.0527 - mae: 0.1760 - val_loss: 0.0520 - val_mae: 0.1761\n",
      "Epoch 34/50\n",
      "5/5 [==============================] - ETA: 0s - loss: 0.0519 - mae: 0.1742INFO:tensorflow:Assets written to: C:\\Users\\PARK\\Documents\\LAB\\RNN vs LSTM\\FInal Example\\wandb\\run-20221015_182523-2kqpe77u\\files\\model-best\\assets\n"
     ]
    },
    {
     "name": "stderr",
     "output_type": "stream",
     "text": [
      "\u001b[34m\u001b[1mwandb\u001b[0m: Adding directory to artifact (C:\\Users\\PARK\\Documents\\LAB\\RNN vs LSTM\\FInal Example\\wandb\\run-20221015_182523-2kqpe77u\\files\\model-best)... Done. 0.0s\n"
     ]
    },
    {
     "name": "stdout",
     "output_type": "stream",
     "text": [
      "5/5 [==============================] - 2s 502ms/step - loss: 0.0519 - mae: 0.1742 - val_loss: 0.0513 - val_mae: 0.1738\n",
      "Epoch 35/50\n",
      "5/5 [==============================] - 1s 172ms/step - loss: 0.0510 - mae: 0.1734 - val_loss: 0.0519 - val_mae: 0.1738\n",
      "Epoch 36/50\n",
      "5/5 [==============================] - ETA: 0s - loss: 0.0508 - mae: 0.1733INFO:tensorflow:Assets written to: C:\\Users\\PARK\\Documents\\LAB\\RNN vs LSTM\\FInal Example\\wandb\\run-20221015_182523-2kqpe77u\\files\\model-best\\assets\n"
     ]
    },
    {
     "name": "stderr",
     "output_type": "stream",
     "text": [
      "\u001b[34m\u001b[1mwandb\u001b[0m: Adding directory to artifact (C:\\Users\\PARK\\Documents\\LAB\\RNN vs LSTM\\FInal Example\\wandb\\run-20221015_182523-2kqpe77u\\files\\model-best)... Done. 0.0s\n"
     ]
    },
    {
     "name": "stdout",
     "output_type": "stream",
     "text": [
      "5/5 [==============================] - 2s 481ms/step - loss: 0.0508 - mae: 0.1733 - val_loss: 0.0512 - val_mae: 0.1719\n",
      "Epoch 37/50\n",
      "5/5 [==============================] - ETA: 0s - loss: 0.0502 - mae: 0.1710INFO:tensorflow:Assets written to: C:\\Users\\PARK\\Documents\\LAB\\RNN vs LSTM\\FInal Example\\wandb\\run-20221015_182523-2kqpe77u\\files\\model-best\\assets\n"
     ]
    },
    {
     "name": "stderr",
     "output_type": "stream",
     "text": [
      "\u001b[34m\u001b[1mwandb\u001b[0m: Adding directory to artifact (C:\\Users\\PARK\\Documents\\LAB\\RNN vs LSTM\\FInal Example\\wandb\\run-20221015_182523-2kqpe77u\\files\\model-best)... Done. 0.0s\n"
     ]
    },
    {
     "name": "stdout",
     "output_type": "stream",
     "text": [
      "5/5 [==============================] - 2s 501ms/step - loss: 0.0502 - mae: 0.1710 - val_loss: 0.0505 - val_mae: 0.1724\n",
      "Epoch 38/50\n",
      "5/5 [==============================] - ETA: 0s - loss: 0.0495 - mae: 0.1701INFO:tensorflow:Assets written to: C:\\Users\\PARK\\Documents\\LAB\\RNN vs LSTM\\FInal Example\\wandb\\run-20221015_182523-2kqpe77u\\files\\model-best\\assets\n"
     ]
    },
    {
     "name": "stderr",
     "output_type": "stream",
     "text": [
      "\u001b[34m\u001b[1mwandb\u001b[0m: Adding directory to artifact (C:\\Users\\PARK\\Documents\\LAB\\RNN vs LSTM\\FInal Example\\wandb\\run-20221015_182523-2kqpe77u\\files\\model-best)... Done. 0.0s\n"
     ]
    },
    {
     "name": "stdout",
     "output_type": "stream",
     "text": [
      "5/5 [==============================] - 2s 488ms/step - loss: 0.0495 - mae: 0.1701 - val_loss: 0.0494 - val_mae: 0.1698\n",
      "Epoch 39/50\n",
      "5/5 [==============================] - 1s 151ms/step - loss: 0.0487 - mae: 0.1687 - val_loss: 0.0507 - val_mae: 0.1760\n",
      "Epoch 40/50\n",
      "5/5 [==============================] - ETA: 0s - loss: 0.0496 - mae: 0.1714INFO:tensorflow:Assets written to: C:\\Users\\PARK\\Documents\\LAB\\RNN vs LSTM\\FInal Example\\wandb\\run-20221015_182523-2kqpe77u\\files\\model-best\\assets\n"
     ]
    },
    {
     "name": "stderr",
     "output_type": "stream",
     "text": [
      "\u001b[34m\u001b[1mwandb\u001b[0m: Adding directory to artifact (C:\\Users\\PARK\\Documents\\LAB\\RNN vs LSTM\\FInal Example\\wandb\\run-20221015_182523-2kqpe77u\\files\\model-best)... Done. 0.0s\n"
     ]
    },
    {
     "name": "stdout",
     "output_type": "stream",
     "text": [
      "5/5 [==============================] - 2s 508ms/step - loss: 0.0496 - mae: 0.1714 - val_loss: 0.0494 - val_mae: 0.1722\n",
      "Epoch 41/50\n",
      "5/5 [==============================] - ETA: 0s - loss: 0.0484 - mae: 0.1700INFO:tensorflow:Assets written to: C:\\Users\\PARK\\Documents\\LAB\\RNN vs LSTM\\FInal Example\\wandb\\run-20221015_182523-2kqpe77u\\files\\model-best\\assets\n"
     ]
    },
    {
     "name": "stderr",
     "output_type": "stream",
     "text": [
      "\u001b[34m\u001b[1mwandb\u001b[0m: Adding directory to artifact (C:\\Users\\PARK\\Documents\\LAB\\RNN vs LSTM\\FInal Example\\wandb\\run-20221015_182523-2kqpe77u\\files\\model-best)... Done. 0.0s\n"
     ]
    },
    {
     "name": "stdout",
     "output_type": "stream",
     "text": [
      "5/5 [==============================] - 2s 499ms/step - loss: 0.0484 - mae: 0.1700 - val_loss: 0.0486 - val_mae: 0.1683\n",
      "Epoch 42/50\n",
      "5/5 [==============================] - ETA: 0s - loss: 0.0471 - mae: 0.1672INFO:tensorflow:Assets written to: C:\\Users\\PARK\\Documents\\LAB\\RNN vs LSTM\\FInal Example\\wandb\\run-20221015_182523-2kqpe77u\\files\\model-best\\assets\n"
     ]
    },
    {
     "name": "stderr",
     "output_type": "stream",
     "text": [
      "\u001b[34m\u001b[1mwandb\u001b[0m: Adding directory to artifact (C:\\Users\\PARK\\Documents\\LAB\\RNN vs LSTM\\FInal Example\\wandb\\run-20221015_182523-2kqpe77u\\files\\model-best)... Done. 0.0s\n"
     ]
    },
    {
     "name": "stdout",
     "output_type": "stream",
     "text": [
      "5/5 [==============================] - 2s 507ms/step - loss: 0.0471 - mae: 0.1672 - val_loss: 0.0481 - val_mae: 0.1667\n",
      "Epoch 43/50\n",
      "5/5 [==============================] - ETA: 0s - loss: 0.0468 - mae: 0.1663INFO:tensorflow:Assets written to: C:\\Users\\PARK\\Documents\\LAB\\RNN vs LSTM\\FInal Example\\wandb\\run-20221015_182523-2kqpe77u\\files\\model-best\\assets\n"
     ]
    },
    {
     "name": "stderr",
     "output_type": "stream",
     "text": [
      "\u001b[34m\u001b[1mwandb\u001b[0m: Adding directory to artifact (C:\\Users\\PARK\\Documents\\LAB\\RNN vs LSTM\\FInal Example\\wandb\\run-20221015_182523-2kqpe77u\\files\\model-best)... Done. 0.0s\n"
     ]
    },
    {
     "name": "stdout",
     "output_type": "stream",
     "text": [
      "5/5 [==============================] - 2s 494ms/step - loss: 0.0468 - mae: 0.1663 - val_loss: 0.0466 - val_mae: 0.1659\n",
      "Epoch 44/50\n",
      "5/5 [==============================] - ETA: 0s - loss: 0.0457 - mae: 0.1635INFO:tensorflow:Assets written to: C:\\Users\\PARK\\Documents\\LAB\\RNN vs LSTM\\FInal Example\\wandb\\run-20221015_182523-2kqpe77u\\files\\model-best\\assets\n"
     ]
    },
    {
     "name": "stderr",
     "output_type": "stream",
     "text": [
      "\u001b[34m\u001b[1mwandb\u001b[0m: Adding directory to artifact (C:\\Users\\PARK\\Documents\\LAB\\RNN vs LSTM\\FInal Example\\wandb\\run-20221015_182523-2kqpe77u\\files\\model-best)... Done. 0.0s\n"
     ]
    },
    {
     "name": "stdout",
     "output_type": "stream",
     "text": [
      "5/5 [==============================] - 2s 484ms/step - loss: 0.0457 - mae: 0.1635 - val_loss: 0.0461 - val_mae: 0.1646\n",
      "Epoch 45/50\n",
      "5/5 [==============================] - ETA: 0s - loss: 0.0448 - mae: 0.1622INFO:tensorflow:Assets written to: C:\\Users\\PARK\\Documents\\LAB\\RNN vs LSTM\\FInal Example\\wandb\\run-20221015_182523-2kqpe77u\\files\\model-best\\assets\n"
     ]
    },
    {
     "name": "stderr",
     "output_type": "stream",
     "text": [
      "\u001b[34m\u001b[1mwandb\u001b[0m: Adding directory to artifact (C:\\Users\\PARK\\Documents\\LAB\\RNN vs LSTM\\FInal Example\\wandb\\run-20221015_182523-2kqpe77u\\files\\model-best)... Done. 0.0s\n"
     ]
    },
    {
     "name": "stdout",
     "output_type": "stream",
     "text": [
      "5/5 [==============================] - 2s 489ms/step - loss: 0.0448 - mae: 0.1622 - val_loss: 0.0455 - val_mae: 0.1625\n",
      "Epoch 46/50\n",
      "5/5 [==============================] - ETA: 0s - loss: 0.0443 - mae: 0.1621INFO:tensorflow:Assets written to: C:\\Users\\PARK\\Documents\\LAB\\RNN vs LSTM\\FInal Example\\wandb\\run-20221015_182523-2kqpe77u\\files\\model-best\\assets\n"
     ]
    },
    {
     "name": "stderr",
     "output_type": "stream",
     "text": [
      "\u001b[34m\u001b[1mwandb\u001b[0m: Adding directory to artifact (C:\\Users\\PARK\\Documents\\LAB\\RNN vs LSTM\\FInal Example\\wandb\\run-20221015_182523-2kqpe77u\\files\\model-best)... Done. 0.0s\n"
     ]
    },
    {
     "name": "stdout",
     "output_type": "stream",
     "text": [
      "5/5 [==============================] - 2s 537ms/step - loss: 0.0443 - mae: 0.1621 - val_loss: 0.0448 - val_mae: 0.1632\n",
      "Epoch 47/50\n",
      "4/5 [=======================>......] - ETA: 0s - loss: 0.0437 - mae: 0.1606INFO:tensorflow:Assets written to: C:\\Users\\PARK\\Documents\\LAB\\RNN vs LSTM\\FInal Example\\wandb\\run-20221015_182523-2kqpe77u\\files\\model-best\\assets\n"
     ]
    },
    {
     "name": "stderr",
     "output_type": "stream",
     "text": [
      "\u001b[34m\u001b[1mwandb\u001b[0m: Adding directory to artifact (C:\\Users\\PARK\\Documents\\LAB\\RNN vs LSTM\\FInal Example\\wandb\\run-20221015_182523-2kqpe77u\\files\\model-best)... Done. 0.0s\n"
     ]
    },
    {
     "name": "stdout",
     "output_type": "stream",
     "text": [
      "5/5 [==============================] - 2s 479ms/step - loss: 0.0433 - mae: 0.1600 - val_loss: 0.0441 - val_mae: 0.1614\n",
      "Epoch 48/50\n",
      "5/5 [==============================] - ETA: 0s - loss: 0.0425 - mae: 0.1582INFO:tensorflow:Assets written to: C:\\Users\\PARK\\Documents\\LAB\\RNN vs LSTM\\FInal Example\\wandb\\run-20221015_182523-2kqpe77u\\files\\model-best\\assets\n"
     ]
    },
    {
     "name": "stderr",
     "output_type": "stream",
     "text": [
      "\u001b[34m\u001b[1mwandb\u001b[0m: Adding directory to artifact (C:\\Users\\PARK\\Documents\\LAB\\RNN vs LSTM\\FInal Example\\wandb\\run-20221015_182523-2kqpe77u\\files\\model-best)... Done. 0.0s\n"
     ]
    },
    {
     "name": "stdout",
     "output_type": "stream",
     "text": [
      "5/5 [==============================] - 2s 512ms/step - loss: 0.0425 - mae: 0.1582 - val_loss: 0.0436 - val_mae: 0.1596\n",
      "Epoch 49/50\n",
      "4/5 [=======================>......] - ETA: 0s - loss: 0.0415 - mae: 0.1559INFO:tensorflow:Assets written to: C:\\Users\\PARK\\Documents\\LAB\\RNN vs LSTM\\FInal Example\\wandb\\run-20221015_182523-2kqpe77u\\files\\model-best\\assets\n"
     ]
    },
    {
     "name": "stderr",
     "output_type": "stream",
     "text": [
      "\u001b[34m\u001b[1mwandb\u001b[0m: Adding directory to artifact (C:\\Users\\PARK\\Documents\\LAB\\RNN vs LSTM\\FInal Example\\wandb\\run-20221015_182523-2kqpe77u\\files\\model-best)... Done. 0.0s\n"
     ]
    },
    {
     "name": "stdout",
     "output_type": "stream",
     "text": [
      "5/5 [==============================] - 2s 512ms/step - loss: 0.0414 - mae: 0.1557 - val_loss: 0.0423 - val_mae: 0.1572\n",
      "Epoch 50/50\n",
      "5/5 [==============================] - ETA: 0s - loss: 0.0406 - mae: 0.1539INFO:tensorflow:Assets written to: C:\\Users\\PARK\\Documents\\LAB\\RNN vs LSTM\\FInal Example\\wandb\\run-20221015_182523-2kqpe77u\\files\\model-best\\assets\n"
     ]
    },
    {
     "name": "stderr",
     "output_type": "stream",
     "text": [
      "\u001b[34m\u001b[1mwandb\u001b[0m: Adding directory to artifact (C:\\Users\\PARK\\Documents\\LAB\\RNN vs LSTM\\FInal Example\\wandb\\run-20221015_182523-2kqpe77u\\files\\model-best)... Done. 0.0s\n"
     ]
    },
    {
     "name": "stdout",
     "output_type": "stream",
     "text": [
      "\b\b\b\b\b\b\b\b\b\b\b\b\b\b\b\b\b\b\b\b\b\b\b\b\b\b\b\b\b\b\b\b\b\b\b\b\b\b\b\b\b\b\b\b\b\b\b\b\b\b\b\b\b\b\b\b\b\b\b\b\b\b\b\b\b\b\b\b\b\b\b\b\b\b\b\r",
      "5/5 [==============================] - 2s 506ms/step - loss: 0.0406 - mae: 0.1539 - val_loss: 0.0416 - val_mae: 0.1562\n"
     ]
    }
   ],
   "source": [
    "from tensorflow.keras import datasets, layers, models\n",
    "from tensorflow import keras\n",
    "from tensorflow.keras import layers\n",
    "\n",
    "model = models.Sequential()\n",
    "model.add(layers.SimpleRNN(128, input_shape=(time_step,2)))\n",
    "model.add(layers.Dense(25))\n",
    "\n",
    "model.summary()\n",
    "\n",
    "model.compile(optimizer='adam', loss='mse', metrics=['mae'])\n",
    "\n",
    "history = model.fit(train_input, train_label, epochs=50, verbose=1, shuffle=True, validation_split=0.20,\n",
    "                   callbacks=[WandbCallback(log_weights=True, log_gradients=True, training_data=(train_input, train_label))])"
   ]
  },
  {
   "cell_type": "code",
   "execution_count": 17,
   "id": "f2977e3d",
   "metadata": {},
   "outputs": [
    {
     "name": "stdout",
     "output_type": "stream",
     "text": [
      "1/1 [==============================] - 0s 100ms/step\n"
     ]
    }
   ],
   "source": [
    "test_input = test_input.reshape(1, test_input.shape[0], test_input.shape[1])\n",
    "\n",
    "y_hat = model.predict(test_input)"
   ]
  },
  {
   "cell_type": "code",
   "execution_count": 18,
   "id": "569d2b27",
   "metadata": {},
   "outputs": [
    {
     "data": {
      "text/plain": [
       "(1, 100, 2)"
      ]
     },
     "execution_count": 18,
     "metadata": {},
     "output_type": "execute_result"
    }
   ],
   "source": [
    "test_input.shape"
   ]
  },
  {
   "cell_type": "code",
   "execution_count": 19,
   "id": "6b083de8",
   "metadata": {},
   "outputs": [],
   "source": [
    "test_label = test_label.reshape(1, test_label.shape[0], test_label.shape[1])"
   ]
  },
  {
   "cell_type": "code",
   "execution_count": 20,
   "id": "54e7a073",
   "metadata": {},
   "outputs": [
    {
     "data": {
      "text/plain": [
       "(1, 25, 1)"
      ]
     },
     "execution_count": 20,
     "metadata": {},
     "output_type": "execute_result"
    }
   ],
   "source": [
    "test_label.shape"
   ]
  },
  {
   "cell_type": "code",
   "execution_count": 21,
   "id": "b3e0c133",
   "metadata": {},
   "outputs": [
    {
     "data": {
      "text/plain": [
       "array([[1.8035214, 1.8259015, 1.5736339, 1.6740216, 1.6803879, 1.7395583,\n",
       "        1.8078129, 1.9143829, 1.9284588, 1.9355786, 2.0353582, 1.8530284,\n",
       "        1.6889215, 1.8141012, 1.7258766, 1.708596 , 1.6881948, 1.9751914,\n",
       "        1.8512892, 1.9929297, 1.887569 , 1.815453 , 2.019549 , 1.8923368,\n",
       "        1.9742892]], dtype=float32)"
      ]
     },
     "execution_count": 21,
     "metadata": {},
     "output_type": "execute_result"
    }
   ],
   "source": [
    "y_hat"
   ]
  },
  {
   "cell_type": "code",
   "execution_count": 22,
   "id": "e37311d1",
   "metadata": {},
   "outputs": [
    {
     "data": {
      "text/plain": [
       "(1, 25)"
      ]
     },
     "execution_count": 22,
     "metadata": {},
     "output_type": "execute_result"
    }
   ],
   "source": [
    "y_hat.shape"
   ]
  },
  {
   "cell_type": "code",
   "execution_count": 23,
   "id": "ad0f0285",
   "metadata": {},
   "outputs": [],
   "source": [
    "y_hat = y_hat.reshape(y_hat.shape[1], 1)"
   ]
  },
  {
   "cell_type": "code",
   "execution_count": 24,
   "id": "69ea1f6f",
   "metadata": {},
   "outputs": [],
   "source": [
    "y_hat = (y_hat*data_std)+data_mean"
   ]
  },
  {
   "cell_type": "code",
   "execution_count": 25,
   "id": "702f2214",
   "metadata": {},
   "outputs": [],
   "source": [
    "#print(scaler.data_max_)"
   ]
  },
  {
   "cell_type": "code",
   "execution_count": 26,
   "id": "1ca1a387",
   "metadata": {},
   "outputs": [],
   "source": [
    "#print(scaler.data_min_)"
   ]
  },
  {
   "cell_type": "code",
   "execution_count": 27,
   "id": "5e40982b",
   "metadata": {},
   "outputs": [],
   "source": [
    "#y_hat = y_hat * (scaler.data_max_[1]-scaler.data_min_[1]) + scaler.data_min_[1]"
   ]
  },
  {
   "cell_type": "code",
   "execution_count": 28,
   "id": "902bb0d7",
   "metadata": {},
   "outputs": [
    {
     "data": {
      "text/plain": [
       "Text(0.5, 1.0, 'RNN prediction')"
      ]
     },
     "execution_count": 28,
     "metadata": {},
     "output_type": "execute_result"
    },
    {
     "data": {
      "image/png": "[encoded data removed]",
      "text/plain": [
       "<Figure size 1008x576 with 1 Axes>"
      ]
     },
     "metadata": {
      "needs_background": "light"
     },
     "output_type": "display_data"
    }
   ],
   "source": [
    "import matplotlib.pyplot as plt\n",
    "\n",
    "x = range(325)\n",
    "plt.figure(figsize=(14,8))\n",
    "plt.plot(df[300:325]['Sales'], label='original')\n",
    "plt.plot(x[300:325], y_hat, label='prediction')\n",
    "plt.legend()\n",
    "plt.xlabel('Sequence', fontsize=20)\n",
    "plt.ylabel('Sales', fontsize=20)\n",
    "plt.title('RNN prediction', fontsize=25)"
   ]
  },
  {
   "cell_type": "code",
   "execution_count": 29,
   "id": "051887d3",
   "metadata": {
    "scrolled": true
   },
   "outputs": [
    {
     "name": "stdout",
     "output_type": "stream",
     "text": [
      "1/1 [==============================] - 0s 22ms/step - loss: 0.1548 - mae: 0.3314\n"
     ]
    },
    {
     "data": {
      "text/plain": [
       "[0.15476621687412262, 0.331368088722229]"
      ]
     },
     "execution_count": 29,
     "metadata": {},
     "output_type": "execute_result"
    }
   ],
   "source": [
    "model.evaluate(test_input, test_label)"
   ]
  },
  {
   "cell_type": "code",
   "execution_count": null,
   "id": "2819448e",
   "metadata": {},
   "outputs": [],
   "source": []
  }
 ],
 "metadata": {
  "kernelspec": {
   "display_name": "Python 3 (ipykernel)",
   "language": "python",
   "name": "python3"
  },
  "language_info": {
   "codemirror_mode": {
    "name": "ipython",
    "version": 3
   },
   "file_extension": ".py",
   "mimetype": "text/x-python",
   "name": "python",
   "nbconvert_exporter": "python",
   "pygments_lexer": "ipython3",
   "version": "3.9.12"
  }
 },
 "nbformat": 4,
 "nbformat_minor": 5
}
