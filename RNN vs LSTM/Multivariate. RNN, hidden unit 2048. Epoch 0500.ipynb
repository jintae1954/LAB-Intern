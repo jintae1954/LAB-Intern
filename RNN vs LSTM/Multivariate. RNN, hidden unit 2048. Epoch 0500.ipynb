{
 "cells": [
  {
   "cell_type": "code",
   "execution_count": 1,
   "id": "4789d3d2",
   "metadata": {},
   "outputs": [
    {
     "name": "stderr",
     "output_type": "stream",
     "text": [
      "\u001b[34m\u001b[1mwandb\u001b[0m: Currently logged in as: \u001b[33mjintae\u001b[0m. Use \u001b[1m`wandb login --relogin`\u001b[0m to force relogin\n"
     ]
    },
    {
     "data": {
      "text/html": [
       "Tracking run with wandb version 0.13.4"
      ],
      "text/plain": [
       "<IPython.core.display.HTML object>"
      ]
     },
     "metadata": {},
     "output_type": "display_data"
    },
    {
     "data": {
      "text/html": [
       "Run data is saved locally in <code>C:\\Users\\PARK\\Documents\\LAB\\RNN vs LSTM\\FInal Example\\wandb\\run-20221015_224348-3qeh219d</code>"
      ],
      "text/plain": [
       "<IPython.core.display.HTML object>"
      ]
     },
     "metadata": {},
     "output_type": "display_data"
    },
    {
     "data": {
      "text/html": [
       "Syncing run <strong><a href=\"https://wandb.ai/jintae/RNN%20seq%202048./runs/3qeh219d\" target=\"_blank\">epoch 500</a></strong> to <a href=\"https://wandb.ai/jintae/RNN%20seq%202048.\" target=\"_blank\">Weights & Biases</a> (<a href=\"https://wandb.me/run\" target=\"_blank\">docs</a>)<br/>"
      ],
      "text/plain": [
       "<IPython.core.display.HTML object>"
      ]
     },
     "metadata": {},
     "output_type": "display_data"
    },
    {
     "data": {
      "text/html": [
       "<button onClick=\"this.nextSibling.style.display='block';this.style.display='none';\">Display W&B run</button><iframe src=\"https://wandb.ai/jintae/RNN%20seq%202048./runs/3qeh219d?jupyter=true\" style=\"border:none;width:100%;height:420px;display:none;\"></iframe>"
      ],
      "text/plain": [
       "<wandb.sdk.wandb_run.Run at 0x19df4433460>"
      ]
     },
     "execution_count": 1,
     "metadata": {},
     "output_type": "execute_result"
    }
   ],
   "source": [
    "import wandb\n",
    "from wandb.keras import WandbCallback\n",
    "wandb.init(project=\"RNN seq 2048.\", name=\"epoch 500\")"
   ]
  },
  {
   "cell_type": "code",
   "execution_count": 2,
   "id": "650bae84",
   "metadata": {},
   "outputs": [
    {
     "name": "stdout",
     "output_type": "stream",
     "text": [
      "   DATE  Sales\n",
      "0     0   3459\n",
      "1     1   3458\n",
      "2     2   4002\n",
      "3     3   4564\n",
      "4     4   4221\n"
     ]
    }
   ],
   "source": [
    "import pandas as pd\n",
    "\n",
    "df = pd.read_csv('C:/Users/PARK/Desktop/Alcohol_Sales.csv')\n",
    "print(df.head())"
   ]
  },
  {
   "cell_type": "code",
   "execution_count": 3,
   "id": "71e18e17",
   "metadata": {},
   "outputs": [
    {
     "data": {
      "text/plain": [
       "(325, 2)"
      ]
     },
     "execution_count": 3,
     "metadata": {},
     "output_type": "execute_result"
    }
   ],
   "source": [
    "df.shape"
   ]
  },
  {
   "cell_type": "code",
   "execution_count": 4,
   "id": "5f4f8fb7",
   "metadata": {},
   "outputs": [],
   "source": [
    "import numpy as np\n",
    "\n",
    "data = df.to_numpy()"
   ]
  },
  {
   "cell_type": "code",
   "execution_count": 5,
   "id": "c6063052",
   "metadata": {},
   "outputs": [
    {
     "data": {
      "text/plain": [
       "(325, 2)"
      ]
     },
     "execution_count": 5,
     "metadata": {},
     "output_type": "execute_result"
    }
   ],
   "source": [
    "data.shape"
   ]
  },
  {
   "cell_type": "code",
   "execution_count": 6,
   "id": "01930485",
   "metadata": {},
   "outputs": [
    {
     "data": {
      "text/plain": [
       "array([[   0, 3459],\n",
       "       [   1, 3458],\n",
       "       [   2, 4002],\n",
       "       [   3, 4564],\n",
       "       [   4, 4221]], dtype=int64)"
      ]
     },
     "execution_count": 6,
     "metadata": {},
     "output_type": "execute_result"
    }
   ],
   "source": [
    "data[0:5]"
   ]
  },
  {
   "cell_type": "code",
   "execution_count": 7,
   "id": "ad83b404",
   "metadata": {},
   "outputs": [],
   "source": [
    "# from sklearn.preprocessing import MinMaxScaler\n",
    "\n",
    "# scaler = MinMaxScaler()\n",
    "\n",
    "# data = scaler.fit_transform(data)"
   ]
  },
  {
   "cell_type": "code",
   "execution_count": 8,
   "id": "17aef2ea",
   "metadata": {},
   "outputs": [],
   "source": [
    "data_mean = data.mean()\n",
    "data_std = data.std()\n",
    "\n",
    "data = (data - data_mean)/data_std"
   ]
  },
  {
   "cell_type": "code",
   "execution_count": 9,
   "id": "63fe0032",
   "metadata": {},
   "outputs": [
    {
     "data": {
      "text/plain": [
       "array([[-0.9194862 , -0.12914209],\n",
       "       [-0.91925771, -0.12937058],\n",
       "       [-0.91902922, -0.00507246],\n",
       "       [-0.91880073,  0.12333846],\n",
       "       [-0.91857224,  0.04496667]])"
      ]
     },
     "execution_count": 9,
     "metadata": {},
     "output_type": "execute_result"
    }
   ],
   "source": [
    "data[0:5]"
   ]
  },
  {
   "cell_type": "code",
   "execution_count": 10,
   "id": "87ac24ef",
   "metadata": {
    "scrolled": true
   },
   "outputs": [],
   "source": [
    "train_input = []\n",
    "train_label = []\n",
    "\n",
    "data_len = 325\n",
    "time_step = 100\n",
    "out_dim = 25\n",
    "\n",
    "for i in range(176):\n",
    "    _input = data[i:i+time_step]\n",
    "    _label = data[i+time_step:i+time_step+out_dim]\n",
    "    \n",
    "    train_input.append(_input)\n",
    "    train_label.append(_label)\n",
    "    \n",
    "\n",
    "train_input = np.array(train_input)\n",
    "train_label = np.array(train_label)\n",
    "train_label = np.delete(train_label, 0, axis=2)\n",
    "\n",
    "\n",
    "test_input = np.array(data[data_len-out_dim-time_step:data_len-out_dim])\n",
    "test_label =np.array(data[300:325])\n",
    "test_label = np.delete(test_label, 0, axis=1)"
   ]
  },
  {
   "cell_type": "code",
   "execution_count": 11,
   "id": "41975dc7",
   "metadata": {},
   "outputs": [
    {
     "data": {
      "text/plain": [
       "(176, 100, 2)"
      ]
     },
     "execution_count": 11,
     "metadata": {},
     "output_type": "execute_result"
    }
   ],
   "source": [
    "train_input.shape"
   ]
  },
  {
   "cell_type": "code",
   "execution_count": 12,
   "id": "b762c3ba",
   "metadata": {},
   "outputs": [
    {
     "data": {
      "text/plain": [
       "(176, 25, 1)"
      ]
     },
     "execution_count": 12,
     "metadata": {},
     "output_type": "execute_result"
    }
   ],
   "source": [
    "train_label.shape"
   ]
  },
  {
   "cell_type": "code",
   "execution_count": 13,
   "id": "127c63a2",
   "metadata": {},
   "outputs": [
    {
     "data": {
      "text/plain": [
       "(100, 2)"
      ]
     },
     "execution_count": 13,
     "metadata": {},
     "output_type": "execute_result"
    }
   ],
   "source": [
    "test_input.shape"
   ]
  },
  {
   "cell_type": "code",
   "execution_count": 14,
   "id": "6647472d",
   "metadata": {},
   "outputs": [
    {
     "data": {
      "text/plain": [
       "(25, 1)"
      ]
     },
     "execution_count": 14,
     "metadata": {},
     "output_type": "execute_result"
    }
   ],
   "source": [
    "test_label.shape"
   ]
  },
  {
   "cell_type": "code",
   "execution_count": 15,
   "id": "5d83c07f",
   "metadata": {},
   "outputs": [],
   "source": [
    "np.random.seed(10)\n",
    "shuffled_indices = np.random.permutation(np.arange(train_input.shape[0]))\n",
    "train_input = train_input[shuffled_indices, :, :]\n",
    "train_label = train_label[shuffled_indices, :]"
   ]
  },
  {
   "cell_type": "code",
   "execution_count": 16,
   "id": "a183926e",
   "metadata": {
    "scrolled": true
   },
   "outputs": [
    {
     "name": "stdout",
     "output_type": "stream",
     "text": [
      "Model: \"sequential\"\n",
      "_________________________________________________________________\n",
      " Layer (type)                Output Shape              Param #   \n",
      "=================================================================\n",
      " simple_rnn (SimpleRNN)      (None, 2048)              4200448   \n",
      "                                                                 \n",
      " dense (Dense)               (None, 25)                51225     \n",
      "                                                                 \n",
      "=================================================================\n",
      "Total params: 4,251,673\n",
      "Trainable params: 4,251,673\n",
      "Non-trainable params: 0\n",
      "_________________________________________________________________\n"
     ]
    },
    {
     "name": "stderr",
     "output_type": "stream",
     "text": [
      "\u001b[34m\u001b[1mwandb\u001b[0m: \u001b[33mWARNING\u001b[0m The save_model argument by default saves the model in the HDF5 format that cannot save custom objects like subclassed models and custom layers. This behavior will be deprecated in a future release in favor of the SavedModel format. Meanwhile, the HDF5 model is saved as W&B files and the SavedModel as W&B Artifacts.\n"
     ]
    },
    {
     "name": "stdout",
     "output_type": "stream",
     "text": [
      "Epoch 1/500\n",
      "5/5 [==============================] - ETA: 0s - loss: 4.4634 - mae: 1.6267INFO:tensorflow:Assets written to: C:\\Users\\PARK\\Documents\\LAB\\RNN vs LSTM\\FInal Example\\wandb\\run-20221015_224348-3qeh219d\\files\\model-best\\assets\n"
     ]
    },
    {
     "name": "stderr",
     "output_type": "stream",
     "text": [
      "\u001b[34m\u001b[1mwandb\u001b[0m: Adding directory to artifact (C:\\Users\\PARK\\Documents\\LAB\\RNN vs LSTM\\FInal Example\\wandb\\run-20221015_224348-3qeh219d\\files\\model-best)... Done. 0.1s\n"
     ]
    },
    {
     "name": "stdout",
     "output_type": "stream",
     "text": [
      "5/5 [==============================] - 6s 785ms/step - loss: 4.4634 - mae: 1.6267 - val_loss: 1.8801 - val_mae: 1.0461\n",
      "Epoch 2/500\n",
      "5/5 [==============================] - ETA: 0s - loss: 1.5809 - mae: 1.0441INFO:tensorflow:Assets written to: C:\\Users\\PARK\\Documents\\LAB\\RNN vs LSTM\\FInal Example\\wandb\\run-20221015_224348-3qeh219d\\files\\model-best\\assets\n"
     ]
    },
    {
     "name": "stderr",
     "output_type": "stream",
     "text": [
      "\u001b[34m\u001b[1mwandb\u001b[0m: Adding directory to artifact (C:\\Users\\PARK\\Documents\\LAB\\RNN vs LSTM\\FInal Example\\wandb\\run-20221015_224348-3qeh219d\\files\\model-best)... Done. 0.1s\n"
     ]
    },
    {
     "name": "stdout",
     "output_type": "stream",
     "text": [
      "5/5 [==============================] - 3s 647ms/step - loss: 1.5809 - mae: 1.0441 - val_loss: 1.1173 - val_mae: 0.8449\n",
      "Epoch 3/500\n",
      "5/5 [==============================] - ETA: 0s - loss: 2.5336 - mae: 1.3505INFO:tensorflow:Assets written to: C:\\Users\\PARK\\Documents\\LAB\\RNN vs LSTM\\FInal Example\\wandb\\run-20221015_224348-3qeh219d\\files\\model-best\\assets\n"
     ]
    },
    {
     "name": "stderr",
     "output_type": "stream",
     "text": [
      "\u001b[34m\u001b[1mwandb\u001b[0m: Adding directory to artifact (C:\\Users\\PARK\\Documents\\LAB\\RNN vs LSTM\\FInal Example\\wandb\\run-20221015_224348-3qeh219d\\files\\model-best)... Done. 0.1s\n"
     ]
    },
    {
     "name": "stdout",
     "output_type": "stream",
     "text": [
      "5/5 [==============================] - 3s 617ms/step - loss: 2.5336 - mae: 1.3505 - val_loss: 0.5849 - val_mae: 0.6269\n",
      "Epoch 4/500\n",
      "5/5 [==============================] - ETA: 0s - loss: 1.0929 - mae: 0.8857INFO:tensorflow:Assets written to: C:\\Users\\PARK\\Documents\\LAB\\RNN vs LSTM\\FInal Example\\wandb\\run-20221015_224348-3qeh219d\\files\\model-best\\assets\n"
     ]
    },
    {
     "name": "stderr",
     "output_type": "stream",
     "text": [
      "\u001b[34m\u001b[1mwandb\u001b[0m: Adding directory to artifact (C:\\Users\\PARK\\Documents\\LAB\\RNN vs LSTM\\FInal Example\\wandb\\run-20221015_224348-3qeh219d\\files\\model-best)... Done. 0.1s\n"
     ]
    },
    {
     "name": "stdout",
     "output_type": "stream",
     "text": [
      "5/5 [==============================] - 3s 637ms/step - loss: 1.0929 - mae: 0.8857 - val_loss: 0.5765 - val_mae: 0.6241\n",
      "Epoch 5/500\n",
      "5/5 [==============================] - ETA: 0s - loss: 0.4825 - mae: 0.5649INFO:tensorflow:Assets written to: C:\\Users\\PARK\\Documents\\LAB\\RNN vs LSTM\\FInal Example\\wandb\\run-20221015_224348-3qeh219d\\files\\model-best\\assets\n"
     ]
    },
    {
     "name": "stderr",
     "output_type": "stream",
     "text": [
      "\u001b[34m\u001b[1mwandb\u001b[0m: Adding directory to artifact (C:\\Users\\PARK\\Documents\\LAB\\RNN vs LSTM\\FInal Example\\wandb\\run-20221015_224348-3qeh219d\\files\\model-best)... Done. 0.1s\n"
     ]
    },
    {
     "name": "stdout",
     "output_type": "stream",
     "text": [
      "5/5 [==============================] - 3s 621ms/step - loss: 0.4825 - mae: 0.5649 - val_loss: 0.5645 - val_mae: 0.6239\n",
      "Epoch 6/500\n",
      "5/5 [==============================] - ETA: 0s - loss: 0.4096 - mae: 0.5180INFO:tensorflow:Assets written to: C:\\Users\\PARK\\Documents\\LAB\\RNN vs LSTM\\FInal Example\\wandb\\run-20221015_224348-3qeh219d\\files\\model-best\\assets\n"
     ]
    },
    {
     "name": "stderr",
     "output_type": "stream",
     "text": [
      "\u001b[34m\u001b[1mwandb\u001b[0m: Adding directory to artifact (C:\\Users\\PARK\\Documents\\LAB\\RNN vs LSTM\\FInal Example\\wandb\\run-20221015_224348-3qeh219d\\files\\model-best)... Done. 0.1s\n"
     ]
    },
    {
     "name": "stdout",
     "output_type": "stream",
     "text": [
      "5/5 [==============================] - 2s 601ms/step - loss: 0.4096 - mae: 0.5180 - val_loss: 0.3873 - val_mae: 0.5109\n",
      "Epoch 7/500\n",
      "5/5 [==============================] - ETA: 0s - loss: 0.3640 - mae: 0.4938INFO:tensorflow:Assets written to: C:\\Users\\PARK\\Documents\\LAB\\RNN vs LSTM\\FInal Example\\wandb\\run-20221015_224348-3qeh219d\\files\\model-best\\assets\n"
     ]
    },
    {
     "name": "stderr",
     "output_type": "stream",
     "text": [
      "\u001b[34m\u001b[1mwandb\u001b[0m: Adding directory to artifact (C:\\Users\\PARK\\Documents\\LAB\\RNN vs LSTM\\FInal Example\\wandb\\run-20221015_224348-3qeh219d\\files\\model-best)... Done. 0.1s\n"
     ]
    },
    {
     "name": "stdout",
     "output_type": "stream",
     "text": [
      "5/5 [==============================] - 3s 647ms/step - loss: 0.3640 - mae: 0.4938 - val_loss: 0.2523 - val_mae: 0.4098\n",
      "Epoch 8/500\n",
      "5/5 [==============================] - ETA: 0s - loss: 0.2619 - mae: 0.4141INFO:tensorflow:Assets written to: C:\\Users\\PARK\\Documents\\LAB\\RNN vs LSTM\\FInal Example\\wandb\\run-20221015_224348-3qeh219d\\files\\model-best\\assets\n"
     ]
    },
    {
     "name": "stderr",
     "output_type": "stream",
     "text": [
      "\u001b[34m\u001b[1mwandb\u001b[0m: Adding directory to artifact (C:\\Users\\PARK\\Documents\\LAB\\RNN vs LSTM\\FInal Example\\wandb\\run-20221015_224348-3qeh219d\\files\\model-best)... Done. 0.1s\n"
     ]
    },
    {
     "name": "stdout",
     "output_type": "stream",
     "text": [
      "5/5 [==============================] - 2s 590ms/step - loss: 0.2619 - mae: 0.4141 - val_loss: 0.2369 - val_mae: 0.3936\n",
      "Epoch 9/500\n",
      "5/5 [==============================] - 1s 211ms/step - loss: 0.2257 - mae: 0.3910 - val_loss: 0.2389 - val_mae: 0.4003\n",
      "Epoch 10/500\n",
      "5/5 [==============================] - ETA: 0s - loss: 0.2079 - mae: 0.3744INFO:tensorflow:Assets written to: C:\\Users\\PARK\\Documents\\LAB\\RNN vs LSTM\\FInal Example\\wandb\\run-20221015_224348-3qeh219d\\files\\model-best\\assets\n"
     ]
    },
    {
     "name": "stderr",
     "output_type": "stream",
     "text": [
      "\u001b[34m\u001b[1mwandb\u001b[0m: Adding directory to artifact (C:\\Users\\PARK\\Documents\\LAB\\RNN vs LSTM\\FInal Example\\wandb\\run-20221015_224348-3qeh219d\\files\\model-best)... Done. 0.1s\n"
     ]
    },
    {
     "name": "stdout",
     "output_type": "stream",
     "text": [
      "5/5 [==============================] - 2s 599ms/step - loss: 0.2079 - mae: 0.3744 - val_loss: 0.2048 - val_mae: 0.3707\n",
      "Epoch 11/500\n",
      "5/5 [==============================] - ETA: 0s - loss: 0.2023 - mae: 0.3710INFO:tensorflow:Assets written to: C:\\Users\\PARK\\Documents\\LAB\\RNN vs LSTM\\FInal Example\\wandb\\run-20221015_224348-3qeh219d\\files\\model-best\\assets\n"
     ]
    },
    {
     "name": "stderr",
     "output_type": "stream",
     "text": [
      "\u001b[34m\u001b[1mwandb\u001b[0m: Adding directory to artifact (C:\\Users\\PARK\\Documents\\LAB\\RNN vs LSTM\\FInal Example\\wandb\\run-20221015_224348-3qeh219d\\files\\model-best)... Done. 0.1s\n"
     ]
    },
    {
     "name": "stdout",
     "output_type": "stream",
     "text": [
      "5/5 [==============================] - 3s 616ms/step - loss: 0.2023 - mae: 0.3710 - val_loss: 0.1911 - val_mae: 0.3609\n",
      "Epoch 12/500\n",
      "5/5 [==============================] - ETA: 0s - loss: 0.1923 - mae: 0.3616INFO:tensorflow:Assets written to: C:\\Users\\PARK\\Documents\\LAB\\RNN vs LSTM\\FInal Example\\wandb\\run-20221015_224348-3qeh219d\\files\\model-best\\assets\n"
     ]
    },
    {
     "name": "stderr",
     "output_type": "stream",
     "text": [
      "\u001b[34m\u001b[1mwandb\u001b[0m: Adding directory to artifact (C:\\Users\\PARK\\Documents\\LAB\\RNN vs LSTM\\FInal Example\\wandb\\run-20221015_224348-3qeh219d\\files\\model-best)... Done. 0.1s\n"
     ]
    },
    {
     "name": "stdout",
     "output_type": "stream",
     "text": [
      "5/5 [==============================] - 2s 601ms/step - loss: 0.1923 - mae: 0.3616 - val_loss: 0.1809 - val_mae: 0.3569\n",
      "Epoch 13/500\n",
      "5/5 [==============================] - 1s 208ms/step - loss: 0.1986 - mae: 0.3655 - val_loss: 0.1836 - val_mae: 0.3541\n",
      "Epoch 14/500\n",
      "5/5 [==============================] - 1s 185ms/step - loss: 0.2000 - mae: 0.3713 - val_loss: 0.1825 - val_mae: 0.3566\n",
      "Epoch 15/500\n",
      "5/5 [==============================] - ETA: 0s - loss: 0.1857 - mae: 0.3578INFO:tensorflow:Assets written to: C:\\Users\\PARK\\Documents\\LAB\\RNN vs LSTM\\FInal Example\\wandb\\run-20221015_224348-3qeh219d\\files\\model-best\\assets\n"
     ]
    },
    {
     "name": "stderr",
     "output_type": "stream",
     "text": [
      "\u001b[34m\u001b[1mwandb\u001b[0m: Adding directory to artifact (C:\\Users\\PARK\\Documents\\LAB\\RNN vs LSTM\\FInal Example\\wandb\\run-20221015_224348-3qeh219d\\files\\model-best)... Done. 0.1s\n"
     ]
    },
    {
     "name": "stdout",
     "output_type": "stream",
     "text": [
      "5/5 [==============================] - 2s 594ms/step - loss: 0.1857 - mae: 0.3578 - val_loss: 0.1784 - val_mae: 0.3533\n",
      "Epoch 16/500\n",
      "5/5 [==============================] - 1s 210ms/step - loss: 0.1825 - mae: 0.3546 - val_loss: 0.1816 - val_mae: 0.3538\n",
      "Epoch 17/500\n",
      "5/5 [==============================] - ETA: 0s - loss: 0.1816 - mae: 0.3522INFO:tensorflow:Assets written to: C:\\Users\\PARK\\Documents\\LAB\\RNN vs LSTM\\FInal Example\\wandb\\run-20221015_224348-3qeh219d\\files\\model-best\\assets\n"
     ]
    },
    {
     "name": "stderr",
     "output_type": "stream",
     "text": [
      "\u001b[34m\u001b[1mwandb\u001b[0m: Adding directory to artifact (C:\\Users\\PARK\\Documents\\LAB\\RNN vs LSTM\\FInal Example\\wandb\\run-20221015_224348-3qeh219d\\files\\model-best)... Done. 0.1s\n"
     ]
    },
    {
     "name": "stdout",
     "output_type": "stream",
     "text": [
      "5/5 [==============================] - 2s 576ms/step - loss: 0.1816 - mae: 0.3522 - val_loss: 0.1781 - val_mae: 0.3540\n",
      "Epoch 18/500\n",
      "5/5 [==============================] - ETA: 0s - loss: 0.1812 - mae: 0.3533INFO:tensorflow:Assets written to: C:\\Users\\PARK\\Documents\\LAB\\RNN vs LSTM\\FInal Example\\wandb\\run-20221015_224348-3qeh219d\\files\\model-best\\assets\n"
     ]
    },
    {
     "name": "stderr",
     "output_type": "stream",
     "text": [
      "\u001b[34m\u001b[1mwandb\u001b[0m: Adding directory to artifact (C:\\Users\\PARK\\Documents\\LAB\\RNN vs LSTM\\FInal Example\\wandb\\run-20221015_224348-3qeh219d\\files\\model-best)... Done. 0.1s\n"
     ]
    },
    {
     "name": "stdout",
     "output_type": "stream",
     "text": [
      "5/5 [==============================] - 3s 631ms/step - loss: 0.1812 - mae: 0.3533 - val_loss: 0.1767 - val_mae: 0.3490\n",
      "Epoch 19/500\n",
      "5/5 [==============================] - 1s 194ms/step - loss: 0.1803 - mae: 0.3524 - val_loss: 0.1771 - val_mae: 0.3510\n",
      "Epoch 20/500\n",
      "5/5 [==============================] - 1s 186ms/step - loss: 0.1793 - mae: 0.3519 - val_loss: 0.1781 - val_mae: 0.3497\n",
      "Epoch 21/500\n",
      "5/5 [==============================] - 1s 188ms/step - loss: 0.1810 - mae: 0.3519 - val_loss: 0.1769 - val_mae: 0.3543\n",
      "Epoch 22/500\n",
      "5/5 [==============================] - 1s 183ms/step - loss: 0.1833 - mae: 0.3560 - val_loss: 0.1780 - val_mae: 0.3495\n",
      "Epoch 23/500\n",
      "5/5 [==============================] - 1s 184ms/step - loss: 0.1816 - mae: 0.3531 - val_loss: 0.1777 - val_mae: 0.3520\n",
      "Epoch 24/500\n",
      "5/5 [==============================] - ETA: 0s - loss: 0.1809 - mae: 0.3534INFO:tensorflow:Assets written to: C:\\Users\\PARK\\Documents\\LAB\\RNN vs LSTM\\FInal Example\\wandb\\run-20221015_224348-3qeh219d\\files\\model-best\\assets\n"
     ]
    },
    {
     "name": "stderr",
     "output_type": "stream",
     "text": [
      "\u001b[34m\u001b[1mwandb\u001b[0m: Adding directory to artifact (C:\\Users\\PARK\\Documents\\LAB\\RNN vs LSTM\\FInal Example\\wandb\\run-20221015_224348-3qeh219d\\files\\model-best)... Done. 0.1s\n"
     ]
    },
    {
     "name": "stdout",
     "output_type": "stream",
     "text": [
      "5/5 [==============================] - 2s 580ms/step - loss: 0.1809 - mae: 0.3534 - val_loss: 0.1749 - val_mae: 0.3490\n",
      "Epoch 25/500\n",
      "5/5 [==============================] - 1s 223ms/step - loss: 0.1811 - mae: 0.3530 - val_loss: 0.1782 - val_mae: 0.3541\n",
      "Epoch 26/500\n",
      "5/5 [==============================] - 1s 185ms/step - loss: 0.1853 - mae: 0.3566 - val_loss: 0.1927 - val_mae: 0.3596\n",
      "Epoch 27/500\n",
      "5/5 [==============================] - 1s 184ms/step - loss: 0.1895 - mae: 0.3585 - val_loss: 0.2231 - val_mae: 0.3920\n",
      "Epoch 28/500\n",
      "5/5 [==============================] - 1s 196ms/step - loss: 0.2218 - mae: 0.3807 - val_loss: 0.2066 - val_mae: 0.3707\n",
      "Epoch 29/500\n",
      "5/5 [==============================] - 1s 189ms/step - loss: 0.2126 - mae: 0.3797 - val_loss: 0.1850 - val_mae: 0.3608\n",
      "Epoch 30/500\n",
      "5/5 [==============================] - 1s 186ms/step - loss: 0.1853 - mae: 0.3574 - val_loss: 0.1774 - val_mae: 0.3511\n",
      "Epoch 31/500\n",
      "5/5 [==============================] - 1s 189ms/step - loss: 0.1885 - mae: 0.3563 - val_loss: 0.1924 - val_mae: 0.3604\n",
      "Epoch 32/500\n",
      "5/5 [==============================] - 1s 187ms/step - loss: 0.1911 - mae: 0.3618 - val_loss: 0.1966 - val_mae: 0.3693\n",
      "Epoch 33/500\n",
      "5/5 [==============================] - 1s 188ms/step - loss: 0.1925 - mae: 0.3625 - val_loss: 0.1887 - val_mae: 0.3587\n",
      "Epoch 34/500\n",
      "5/5 [==============================] - 1s 183ms/step - loss: 0.1876 - mae: 0.3574 - val_loss: 0.1801 - val_mae: 0.3523\n",
      "Epoch 35/500\n",
      "5/5 [==============================] - 1s 182ms/step - loss: 0.1870 - mae: 0.3571 - val_loss: 0.1892 - val_mae: 0.3608\n",
      "Epoch 36/500\n",
      "5/5 [==============================] - 1s 190ms/step - loss: 0.1848 - mae: 0.3548 - val_loss: 0.1792 - val_mae: 0.3535\n",
      "Epoch 37/500\n",
      "5/5 [==============================] - 1s 187ms/step - loss: 0.1823 - mae: 0.3525 - val_loss: 0.1768 - val_mae: 0.3509\n",
      "Epoch 38/500\n",
      "5/5 [==============================] - 1s 187ms/step - loss: 0.1786 - mae: 0.3501 - val_loss: 0.1776 - val_mae: 0.3520\n",
      "Epoch 39/500\n",
      "5/5 [==============================] - ETA: 0s - loss: 0.1790 - mae: 0.3503INFO:tensorflow:Assets written to: C:\\Users\\PARK\\Documents\\LAB\\RNN vs LSTM\\FInal Example\\wandb\\run-20221015_224348-3qeh219d\\files\\model-best\\assets\n"
     ]
    },
    {
     "name": "stderr",
     "output_type": "stream",
     "text": [
      "\u001b[34m\u001b[1mwandb\u001b[0m: Adding directory to artifact (C:\\Users\\PARK\\Documents\\LAB\\RNN vs LSTM\\FInal Example\\wandb\\run-20221015_224348-3qeh219d\\files\\model-best)... Done. 0.1s\n"
     ]
    },
    {
     "name": "stdout",
     "output_type": "stream",
     "text": [
      "5/5 [==============================] - 3s 663ms/step - loss: 0.1790 - mae: 0.3503 - val_loss: 0.1727 - val_mae: 0.3477\n",
      "Epoch 40/500\n",
      "5/5 [==============================] - 1s 208ms/step - loss: 0.1767 - mae: 0.3468 - val_loss: 0.1756 - val_mae: 0.3479\n",
      "Epoch 41/500\n",
      "5/5 [==============================] - 1s 186ms/step - loss: 0.1765 - mae: 0.3497 - val_loss: 0.1780 - val_mae: 0.3531\n",
      "Epoch 42/500\n",
      "5/5 [==============================] - 1s 185ms/step - loss: 0.1794 - mae: 0.3507 - val_loss: 0.1811 - val_mae: 0.3496\n",
      "Epoch 43/500\n",
      "5/5 [==============================] - 1s 189ms/step - loss: 0.1846 - mae: 0.3563 - val_loss: 0.1843 - val_mae: 0.3543\n",
      "Epoch 44/500\n",
      "5/5 [==============================] - ETA: 0s - loss: 0.1940 - mae: 0.3654INFO:tensorflow:Assets written to: C:\\Users\\PARK\\Documents\\LAB\\RNN vs LSTM\\FInal Example\\wandb\\run-20221015_224348-3qeh219d\\files\\model-best\\assets\n"
     ]
    },
    {
     "name": "stderr",
     "output_type": "stream",
     "text": [
      "\u001b[34m\u001b[1mwandb\u001b[0m: Adding directory to artifact (C:\\Users\\PARK\\Documents\\LAB\\RNN vs LSTM\\FInal Example\\wandb\\run-20221015_224348-3qeh219d\\files\\model-best)... Done. 0.1s\n"
     ]
    },
    {
     "name": "stdout",
     "output_type": "stream",
     "text": [
      "5/5 [==============================] - 2s 570ms/step - loss: 0.1940 - mae: 0.3654 - val_loss: 0.1725 - val_mae: 0.3469\n",
      "Epoch 45/500\n",
      "5/5 [==============================] - 1s 209ms/step - loss: 0.1773 - mae: 0.3485 - val_loss: 0.1731 - val_mae: 0.3469\n",
      "Epoch 46/500\n",
      "5/5 [==============================] - 1s 186ms/step - loss: 0.1798 - mae: 0.3501 - val_loss: 0.2010 - val_mae: 0.3681\n",
      "Epoch 47/500\n",
      "5/5 [==============================] - 1s 182ms/step - loss: 0.1976 - mae: 0.3671 - val_loss: 0.1877 - val_mae: 0.3583\n",
      "Epoch 48/500\n",
      "5/5 [==============================] - 1s 183ms/step - loss: 0.1870 - mae: 0.3584 - val_loss: 0.1771 - val_mae: 0.3504\n",
      "Epoch 49/500\n",
      "5/5 [==============================] - 1s 184ms/step - loss: 0.1783 - mae: 0.3493 - val_loss: 0.2098 - val_mae: 0.3746\n",
      "Epoch 50/500\n",
      "5/5 [==============================] - 1s 184ms/step - loss: 0.2185 - mae: 0.3854 - val_loss: 0.1776 - val_mae: 0.3466\n",
      "Epoch 51/500\n",
      "5/5 [==============================] - 1s 183ms/step - loss: 0.2152 - mae: 0.3836 - val_loss: 0.2512 - val_mae: 0.4112\n",
      "Epoch 52/500\n",
      "5/5 [==============================] - 1s 182ms/step - loss: 0.2164 - mae: 0.3785 - val_loss: 0.1947 - val_mae: 0.3632\n",
      "Epoch 53/500\n",
      "5/5 [==============================] - 1s 183ms/step - loss: 0.1963 - mae: 0.3631 - val_loss: 0.1850 - val_mae: 0.3533\n",
      "Epoch 54/500\n",
      "5/5 [==============================] - 1s 184ms/step - loss: 0.1853 - mae: 0.3567 - val_loss: 0.2094 - val_mae: 0.3769\n",
      "Epoch 55/500\n",
      "5/5 [==============================] - 1s 186ms/step - loss: 0.2104 - mae: 0.3746 - val_loss: 0.2203 - val_mae: 0.3836\n",
      "Epoch 56/500\n",
      "5/5 [==============================] - 1s 184ms/step - loss: 0.1979 - mae: 0.3612 - val_loss: 0.1826 - val_mae: 0.3502\n",
      "Epoch 57/500\n",
      "5/5 [==============================] - 1s 188ms/step - loss: 0.1885 - mae: 0.3569 - val_loss: 0.1872 - val_mae: 0.3569\n",
      "Epoch 58/500\n",
      "5/5 [==============================] - ETA: 0s - loss: 0.1808 - mae: 0.3519INFO:tensorflow:Assets written to: C:\\Users\\PARK\\Documents\\LAB\\RNN vs LSTM\\FInal Example\\wandb\\run-20221015_224348-3qeh219d\\files\\model-best\\assets\n"
     ]
    },
    {
     "name": "stderr",
     "output_type": "stream",
     "text": [
      "\u001b[34m\u001b[1mwandb\u001b[0m: Adding directory to artifact (C:\\Users\\PARK\\Documents\\LAB\\RNN vs LSTM\\FInal Example\\wandb\\run-20221015_224348-3qeh219d\\files\\model-best)... Done. 0.1s\n"
     ]
    },
    {
     "name": "stdout",
     "output_type": "stream",
     "text": [
      "5/5 [==============================] - 2s 572ms/step - loss: 0.1808 - mae: 0.3519 - val_loss: 0.1711 - val_mae: 0.3446\n",
      "Epoch 59/500\n",
      "5/5 [==============================] - 1s 231ms/step - loss: 0.1803 - mae: 0.3510 - val_loss: 0.1779 - val_mae: 0.3470\n",
      "Epoch 60/500\n",
      "5/5 [==============================] - 1s 196ms/step - loss: 0.1854 - mae: 0.3529 - val_loss: 0.2254 - val_mae: 0.3845\n",
      "Epoch 61/500\n",
      "5/5 [==============================] - 1s 191ms/step - loss: 0.2076 - mae: 0.3717 - val_loss: 0.1819 - val_mae: 0.3539\n",
      "Epoch 62/500\n",
      "5/5 [==============================] - 1s 188ms/step - loss: 0.1750 - mae: 0.3429 - val_loss: 0.1807 - val_mae: 0.3470\n",
      "Epoch 63/500\n",
      "5/5 [==============================] - 1s 185ms/step - loss: 0.1992 - mae: 0.3672 - val_loss: 0.1727 - val_mae: 0.3443\n",
      "Epoch 64/500\n",
      "5/5 [==============================] - 1s 184ms/step - loss: 0.1735 - mae: 0.3436 - val_loss: 0.1832 - val_mae: 0.3538\n",
      "Epoch 65/500\n",
      "5/5 [==============================] - ETA: 0s - loss: 0.1800 - mae: 0.3496INFO:tensorflow:Assets written to: C:\\Users\\PARK\\Documents\\LAB\\RNN vs LSTM\\FInal Example\\wandb\\run-20221015_224348-3qeh219d\\files\\model-best\\assets\n"
     ]
    },
    {
     "name": "stderr",
     "output_type": "stream",
     "text": [
      "\u001b[34m\u001b[1mwandb\u001b[0m: Adding directory to artifact (C:\\Users\\PARK\\Documents\\LAB\\RNN vs LSTM\\FInal Example\\wandb\\run-20221015_224348-3qeh219d\\files\\model-best)... Done. 0.1s\n"
     ]
    },
    {
     "name": "stdout",
     "output_type": "stream",
     "text": [
      "5/5 [==============================] - 2s 597ms/step - loss: 0.1800 - mae: 0.3496 - val_loss: 0.1654 - val_mae: 0.3358\n",
      "Epoch 66/500\n",
      "5/5 [==============================] - 1s 222ms/step - loss: 0.1754 - mae: 0.3444 - val_loss: 0.1658 - val_mae: 0.3370\n",
      "Epoch 67/500\n",
      "5/5 [==============================] - ETA: 0s - loss: 0.1755 - mae: 0.3428INFO:tensorflow:Assets written to: C:\\Users\\PARK\\Documents\\LAB\\RNN vs LSTM\\FInal Example\\wandb\\run-20221015_224348-3qeh219d\\files\\model-best\\assets\n"
     ]
    },
    {
     "name": "stderr",
     "output_type": "stream",
     "text": [
      "\u001b[34m\u001b[1mwandb\u001b[0m: Adding directory to artifact (C:\\Users\\PARK\\Documents\\LAB\\RNN vs LSTM\\FInal Example\\wandb\\run-20221015_224348-3qeh219d\\files\\model-best)... Done. 0.1s\n"
     ]
    },
    {
     "name": "stdout",
     "output_type": "stream",
     "text": [
      "5/5 [==============================] - 3s 624ms/step - loss: 0.1755 - mae: 0.3428 - val_loss: 0.1602 - val_mae: 0.3313\n",
      "Epoch 68/500\n",
      "5/5 [==============================] - 1s 231ms/step - loss: 0.1637 - mae: 0.3293 - val_loss: 0.1791 - val_mae: 0.3476\n",
      "Epoch 69/500\n",
      "5/5 [==============================] - 1s 192ms/step - loss: 0.1820 - mae: 0.3511 - val_loss: 0.1657 - val_mae: 0.3361\n",
      "Epoch 70/500\n",
      "5/5 [==============================] - 1s 191ms/step - loss: 0.1803 - mae: 0.3477 - val_loss: 0.1687 - val_mae: 0.3377\n",
      "Epoch 71/500\n",
      "5/5 [==============================] - ETA: 0s - loss: 0.1747 - mae: 0.3422INFO:tensorflow:Assets written to: C:\\Users\\PARK\\Documents\\LAB\\RNN vs LSTM\\FInal Example\\wandb\\run-20221015_224348-3qeh219d\\files\\model-best\\assets\n"
     ]
    },
    {
     "name": "stderr",
     "output_type": "stream",
     "text": [
      "\u001b[34m\u001b[1mwandb\u001b[0m: Adding directory to artifact (C:\\Users\\PARK\\Documents\\LAB\\RNN vs LSTM\\FInal Example\\wandb\\run-20221015_224348-3qeh219d\\files\\model-best)... Done. 0.1s\n"
     ]
    },
    {
     "name": "stdout",
     "output_type": "stream",
     "text": [
      "5/5 [==============================] - 2s 602ms/step - loss: 0.1747 - mae: 0.3422 - val_loss: 0.1480 - val_mae: 0.3202\n",
      "Epoch 72/500\n",
      "5/5 [==============================] - 1s 214ms/step - loss: 0.1854 - mae: 0.3496 - val_loss: 0.1890 - val_mae: 0.3535\n",
      "Epoch 73/500\n",
      "5/5 [==============================] - 1s 183ms/step - loss: 0.2277 - mae: 0.3860 - val_loss: 0.2412 - val_mae: 0.4050\n",
      "Epoch 74/500\n",
      "5/5 [==============================] - 1s 183ms/step - loss: 0.2150 - mae: 0.3757 - val_loss: 0.2426 - val_mae: 0.4077\n",
      "Epoch 75/500\n",
      "5/5 [==============================] - 1s 182ms/step - loss: 0.1933 - mae: 0.3568 - val_loss: 0.1924 - val_mae: 0.3593\n",
      "Epoch 76/500\n",
      "5/5 [==============================] - 1s 183ms/step - loss: 0.1902 - mae: 0.3603 - val_loss: 0.1686 - val_mae: 0.3416\n",
      "Epoch 77/500\n",
      "5/5 [==============================] - 1s 183ms/step - loss: 0.1734 - mae: 0.3439 - val_loss: 0.1841 - val_mae: 0.3481\n",
      "Epoch 78/500\n",
      "5/5 [==============================] - 1s 188ms/step - loss: 0.1818 - mae: 0.3504 - val_loss: 0.2201 - val_mae: 0.3801\n",
      "Epoch 79/500\n",
      "5/5 [==============================] - 1s 193ms/step - loss: 0.1935 - mae: 0.3544 - val_loss: 0.1795 - val_mae: 0.3481\n",
      "Epoch 80/500\n",
      "5/5 [==============================] - 1s 189ms/step - loss: 0.1933 - mae: 0.3575 - val_loss: 0.1557 - val_mae: 0.3260\n",
      "Epoch 81/500\n",
      "5/5 [==============================] - 1s 186ms/step - loss: 0.1889 - mae: 0.3604 - val_loss: 0.1705 - val_mae: 0.3392\n",
      "Epoch 82/500\n",
      "5/5 [==============================] - 1s 186ms/step - loss: 0.1833 - mae: 0.3475 - val_loss: 0.2023 - val_mae: 0.3687\n",
      "Epoch 83/500\n",
      "5/5 [==============================] - 1s 184ms/step - loss: 0.1833 - mae: 0.3471 - val_loss: 0.2565 - val_mae: 0.4152\n",
      "Epoch 84/500\n",
      "5/5 [==============================] - 1s 186ms/step - loss: 0.2322 - mae: 0.3952 - val_loss: 0.2019 - val_mae: 0.3694\n",
      "Epoch 85/500\n",
      "5/5 [==============================] - 1s 184ms/step - loss: 0.1897 - mae: 0.3546 - val_loss: 0.1694 - val_mae: 0.3408\n",
      "Epoch 86/500\n",
      "5/5 [==============================] - 1s 188ms/step - loss: 0.2035 - mae: 0.3665 - val_loss: 0.1513 - val_mae: 0.3215\n",
      "Epoch 87/500\n",
      "5/5 [==============================] - 1s 184ms/step - loss: 0.1766 - mae: 0.3448 - val_loss: 0.1505 - val_mae: 0.3211\n",
      "Epoch 88/500\n",
      "5/5 [==============================] - 1s 187ms/step - loss: 0.1695 - mae: 0.3401 - val_loss: 0.1725 - val_mae: 0.3405\n",
      "Epoch 89/500\n",
      "5/5 [==============================] - 1s 184ms/step - loss: 0.1917 - mae: 0.3569 - val_loss: 0.1529 - val_mae: 0.3223\n",
      "Epoch 90/500\n",
      "5/5 [==============================] - 1s 191ms/step - loss: 0.1690 - mae: 0.3357 - val_loss: 0.1654 - val_mae: 0.3321\n",
      "Epoch 91/500\n",
      "5/5 [==============================] - 1s 187ms/step - loss: 0.1608 - mae: 0.3284 - val_loss: 0.1676 - val_mae: 0.3356\n",
      "Epoch 92/500\n",
      "5/5 [==============================] - ETA: 0s - loss: 0.2027 - mae: 0.3644INFO:tensorflow:Assets written to: C:\\Users\\PARK\\Documents\\LAB\\RNN vs LSTM\\FInal Example\\wandb\\run-20221015_224348-3qeh219d\\files\\model-best\\assets\n"
     ]
    },
    {
     "name": "stderr",
     "output_type": "stream",
     "text": [
      "\u001b[34m\u001b[1mwandb\u001b[0m: Adding directory to artifact (C:\\Users\\PARK\\Documents\\LAB\\RNN vs LSTM\\FInal Example\\wandb\\run-20221015_224348-3qeh219d\\files\\model-best)... Done. 0.1s\n"
     ]
    },
    {
     "name": "stdout",
     "output_type": "stream",
     "text": [
      "5/5 [==============================] - 2s 569ms/step - loss: 0.2027 - mae: 0.3644 - val_loss: 0.1434 - val_mae: 0.3129\n",
      "Epoch 93/500\n",
      "5/5 [==============================] - 1s 214ms/step - loss: 0.1609 - mae: 0.3288 - val_loss: 0.1604 - val_mae: 0.3265\n",
      "Epoch 94/500\n",
      "5/5 [==============================] - ETA: 0s - loss: 0.1752 - mae: 0.3390INFO:tensorflow:Assets written to: C:\\Users\\PARK\\Documents\\LAB\\RNN vs LSTM\\FInal Example\\wandb\\run-20221015_224348-3qeh219d\\files\\model-best\\assets\n"
     ]
    },
    {
     "name": "stderr",
     "output_type": "stream",
     "text": [
      "\u001b[34m\u001b[1mwandb\u001b[0m: Adding directory to artifact (C:\\Users\\PARK\\Documents\\LAB\\RNN vs LSTM\\FInal Example\\wandb\\run-20221015_224348-3qeh219d\\files\\model-best)... Done. 0.1s\n"
     ]
    },
    {
     "name": "stdout",
     "output_type": "stream",
     "text": [
      "5/5 [==============================] - 2s 590ms/step - loss: 0.1752 - mae: 0.3390 - val_loss: 0.1402 - val_mae: 0.3114\n",
      "Epoch 95/500\n",
      "5/5 [==============================] - 1s 208ms/step - loss: 0.1528 - mae: 0.3164 - val_loss: 0.1678 - val_mae: 0.3350\n",
      "Epoch 96/500\n",
      "5/5 [==============================] - 1s 187ms/step - loss: 0.1753 - mae: 0.3394 - val_loss: 0.1538 - val_mae: 0.3222\n",
      "Epoch 97/500\n",
      "5/5 [==============================] - 1s 184ms/step - loss: 0.1518 - mae: 0.3154 - val_loss: 0.1976 - val_mae: 0.3675\n",
      "Epoch 98/500\n",
      "5/5 [==============================] - 1s 183ms/step - loss: 0.1778 - mae: 0.3417 - val_loss: 0.2055 - val_mae: 0.3731\n",
      "Epoch 99/500\n",
      "5/5 [==============================] - ETA: 0s - loss: 0.1641 - mae: 0.3324INFO:tensorflow:Assets written to: C:\\Users\\PARK\\Documents\\LAB\\RNN vs LSTM\\FInal Example\\wandb\\run-20221015_224348-3qeh219d\\files\\model-best\\assets\n"
     ]
    },
    {
     "name": "stderr",
     "output_type": "stream",
     "text": [
      "\u001b[34m\u001b[1mwandb\u001b[0m: Adding directory to artifact (C:\\Users\\PARK\\Documents\\LAB\\RNN vs LSTM\\FInal Example\\wandb\\run-20221015_224348-3qeh219d\\files\\model-best)... Done. 0.1s\n"
     ]
    },
    {
     "name": "stdout",
     "output_type": "stream",
     "text": [
      "5/5 [==============================] - 2s 594ms/step - loss: 0.1641 - mae: 0.3324 - val_loss: 0.1309 - val_mae: 0.2981\n",
      "Epoch 100/500\n",
      "5/5 [==============================] - ETA: 0s - loss: 0.1499 - mae: 0.3158INFO:tensorflow:Assets written to: C:\\Users\\PARK\\Documents\\LAB\\RNN vs LSTM\\FInal Example\\wandb\\run-20221015_224348-3qeh219d\\files\\model-best\\assets\n"
     ]
    },
    {
     "name": "stderr",
     "output_type": "stream",
     "text": [
      "\u001b[34m\u001b[1mwandb\u001b[0m: Adding directory to artifact (C:\\Users\\PARK\\Documents\\LAB\\RNN vs LSTM\\FInal Example\\wandb\\run-20221015_224348-3qeh219d\\files\\model-best)... Done. 0.1s\n"
     ]
    },
    {
     "name": "stdout",
     "output_type": "stream",
     "text": [
      "5/5 [==============================] - 3s 624ms/step - loss: 0.1499 - mae: 0.3158 - val_loss: 0.1224 - val_mae: 0.2890\n",
      "Epoch 101/500\n",
      "5/5 [==============================] - 1s 221ms/step - loss: 0.1292 - mae: 0.2954 - val_loss: 0.1432 - val_mae: 0.3090\n",
      "Epoch 102/500\n",
      "5/5 [==============================] - ETA: 0s - loss: 0.1437 - mae: 0.3063INFO:tensorflow:Assets written to: C:\\Users\\PARK\\Documents\\LAB\\RNN vs LSTM\\FInal Example\\wandb\\run-20221015_224348-3qeh219d\\files\\model-best\\assets\n"
     ]
    },
    {
     "name": "stderr",
     "output_type": "stream",
     "text": [
      "\u001b[34m\u001b[1mwandb\u001b[0m: Adding directory to artifact (C:\\Users\\PARK\\Documents\\LAB\\RNN vs LSTM\\FInal Example\\wandb\\run-20221015_224348-3qeh219d\\files\\model-best)... Done. 0.1s\n"
     ]
    },
    {
     "name": "stdout",
     "output_type": "stream",
     "text": [
      "5/5 [==============================] - 2s 600ms/step - loss: 0.1437 - mae: 0.3063 - val_loss: 0.1172 - val_mae: 0.2818\n",
      "Epoch 103/500\n",
      "5/5 [==============================] - 1s 218ms/step - loss: 0.1419 - mae: 0.3062 - val_loss: 0.1453 - val_mae: 0.3075\n",
      "Epoch 104/500\n",
      "5/5 [==============================] - 1s 183ms/step - loss: 0.1423 - mae: 0.3049 - val_loss: 0.1783 - val_mae: 0.3457\n",
      "Epoch 105/500\n",
      "5/5 [==============================] - 1s 184ms/step - loss: 0.1594 - mae: 0.3253 - val_loss: 0.1336 - val_mae: 0.2967\n",
      "Epoch 106/500\n",
      "5/5 [==============================] - ETA: 0s - loss: 0.1454 - mae: 0.3055INFO:tensorflow:Assets written to: C:\\Users\\PARK\\Documents\\LAB\\RNN vs LSTM\\FInal Example\\wandb\\run-20221015_224348-3qeh219d\\files\\model-best\\assets\n"
     ]
    },
    {
     "name": "stderr",
     "output_type": "stream",
     "text": [
      "\u001b[34m\u001b[1mwandb\u001b[0m: Adding directory to artifact (C:\\Users\\PARK\\Documents\\LAB\\RNN vs LSTM\\FInal Example\\wandb\\run-20221015_224348-3qeh219d\\files\\model-best)... Done. 0.1s\n"
     ]
    },
    {
     "name": "stdout",
     "output_type": "stream",
     "text": [
      "5/5 [==============================] - 2s 593ms/step - loss: 0.1454 - mae: 0.3055 - val_loss: 0.1063 - val_mae: 0.2671\n",
      "Epoch 107/500\n",
      "5/5 [==============================] - 1s 225ms/step - loss: 0.1371 - mae: 0.2978 - val_loss: 0.1150 - val_mae: 0.2772\n",
      "Epoch 108/500\n",
      "5/5 [==============================] - ETA: 0s - loss: 0.1172 - mae: 0.2781INFO:tensorflow:Assets written to: C:\\Users\\PARK\\Documents\\LAB\\RNN vs LSTM\\FInal Example\\wandb\\run-20221015_224348-3qeh219d\\files\\model-best\\assets\n"
     ]
    },
    {
     "name": "stderr",
     "output_type": "stream",
     "text": [
      "\u001b[34m\u001b[1mwandb\u001b[0m: Adding directory to artifact (C:\\Users\\PARK\\Documents\\LAB\\RNN vs LSTM\\FInal Example\\wandb\\run-20221015_224348-3qeh219d\\files\\model-best)... Done. 0.1s\n"
     ]
    },
    {
     "name": "stdout",
     "output_type": "stream",
     "text": [
      "5/5 [==============================] - 2s 565ms/step - loss: 0.1172 - mae: 0.2781 - val_loss: 0.0965 - val_mae: 0.2509\n",
      "Epoch 109/500\n",
      "5/5 [==============================] - 1s 227ms/step - loss: 0.1154 - mae: 0.2728 - val_loss: 0.1586 - val_mae: 0.3210\n",
      "Epoch 110/500\n",
      "5/5 [==============================] - 1s 186ms/step - loss: 0.1525 - mae: 0.3129 - val_loss: 0.1710 - val_mae: 0.3436\n",
      "Epoch 111/500\n",
      "5/5 [==============================] - 1s 185ms/step - loss: 0.1254 - mae: 0.2894 - val_loss: 0.1756 - val_mae: 0.3410\n",
      "Epoch 112/500\n",
      "5/5 [==============================] - 1s 187ms/step - loss: 0.1501 - mae: 0.3098 - val_loss: 0.1202 - val_mae: 0.2819\n",
      "Epoch 113/500\n",
      "5/5 [==============================] - 1s 187ms/step - loss: 0.1574 - mae: 0.3227 - val_loss: 0.1629 - val_mae: 0.3248\n",
      "Epoch 114/500\n",
      "5/5 [==============================] - 1s 185ms/step - loss: 0.1264 - mae: 0.2814 - val_loss: 0.1055 - val_mae: 0.2617\n",
      "Epoch 115/500\n",
      "5/5 [==============================] - 1s 193ms/step - loss: 0.1113 - mae: 0.2716 - val_loss: 0.1182 - val_mae: 0.2784\n",
      "Epoch 116/500\n",
      "5/5 [==============================] - 1s 192ms/step - loss: 0.1107 - mae: 0.2690 - val_loss: 0.1005 - val_mae: 0.2539\n",
      "Epoch 117/500\n",
      "5/5 [==============================] - 1s 189ms/step - loss: 0.1026 - mae: 0.2544 - val_loss: 0.2265 - val_mae: 0.4049\n",
      "Epoch 118/500\n",
      "5/5 [==============================] - 1s 185ms/step - loss: 0.1629 - mae: 0.3267 - val_loss: 0.2270 - val_mae: 0.4009\n",
      "Epoch 119/500\n",
      "5/5 [==============================] - 1s 184ms/step - loss: 0.1737 - mae: 0.3403 - val_loss: 0.1508 - val_mae: 0.3199\n",
      "Epoch 120/500\n",
      "5/5 [==============================] - 1s 186ms/step - loss: 0.1311 - mae: 0.2921 - val_loss: 0.1181 - val_mae: 0.2800\n",
      "Epoch 121/500\n",
      "5/5 [==============================] - ETA: 0s - loss: 0.1071 - mae: 0.2615INFO:tensorflow:Assets written to: C:\\Users\\PARK\\Documents\\LAB\\RNN vs LSTM\\FInal Example\\wandb\\run-20221015_224348-3qeh219d\\files\\model-best\\assets\n"
     ]
    },
    {
     "name": "stderr",
     "output_type": "stream",
     "text": [
      "\u001b[34m\u001b[1mwandb\u001b[0m: Adding directory to artifact (C:\\Users\\PARK\\Documents\\LAB\\RNN vs LSTM\\FInal Example\\wandb\\run-20221015_224348-3qeh219d\\files\\model-best)... Done. 0.1s\n"
     ]
    },
    {
     "name": "stdout",
     "output_type": "stream",
     "text": [
      "5/5 [==============================] - 2s 589ms/step - loss: 0.1071 - mae: 0.2615 - val_loss: 0.0850 - val_mae: 0.2337\n",
      "Epoch 122/500\n",
      "5/5 [==============================] - 1s 206ms/step - loss: 0.1019 - mae: 0.2542 - val_loss: 0.1982 - val_mae: 0.3783\n",
      "Epoch 123/500\n",
      "5/5 [==============================] - 1s 189ms/step - loss: 0.1740 - mae: 0.3428 - val_loss: 0.1185 - val_mae: 0.2767\n",
      "Epoch 124/500\n",
      "5/5 [==============================] - 1s 187ms/step - loss: 0.1212 - mae: 0.2803 - val_loss: 0.1067 - val_mae: 0.2692\n",
      "Epoch 125/500\n",
      "5/5 [==============================] - 1s 187ms/step - loss: 0.0989 - mae: 0.2549 - val_loss: 0.0857 - val_mae: 0.2329\n",
      "Epoch 126/500\n",
      "5/5 [==============================] - 1s 193ms/step - loss: 0.0976 - mae: 0.2494 - val_loss: 0.1331 - val_mae: 0.3034\n",
      "Epoch 127/500\n",
      "5/5 [==============================] - ETA: 0s - loss: 0.1337 - mae: 0.3002INFO:tensorflow:Assets written to: C:\\Users\\PARK\\Documents\\LAB\\RNN vs LSTM\\FInal Example\\wandb\\run-20221015_224348-3qeh219d\\files\\model-best\\assets\n"
     ]
    },
    {
     "name": "stderr",
     "output_type": "stream",
     "text": [
      "\u001b[34m\u001b[1mwandb\u001b[0m: Adding directory to artifact (C:\\Users\\PARK\\Documents\\LAB\\RNN vs LSTM\\FInal Example\\wandb\\run-20221015_224348-3qeh219d\\files\\model-best)... Done. 0.1s\n"
     ]
    },
    {
     "name": "stdout",
     "output_type": "stream",
     "text": [
      "5/5 [==============================] - 2s 591ms/step - loss: 0.1337 - mae: 0.3002 - val_loss: 0.0789 - val_mae: 0.2241\n",
      "Epoch 128/500\n",
      "5/5 [==============================] - ETA: 0s - loss: 0.1120 - mae: 0.2736INFO:tensorflow:Assets written to: C:\\Users\\PARK\\Documents\\LAB\\RNN vs LSTM\\FInal Example\\wandb\\run-20221015_224348-3qeh219d\\files\\model-best\\assets\n"
     ]
    },
    {
     "name": "stderr",
     "output_type": "stream",
     "text": [
      "\u001b[34m\u001b[1mwandb\u001b[0m: Adding directory to artifact (C:\\Users\\PARK\\Documents\\LAB\\RNN vs LSTM\\FInal Example\\wandb\\run-20221015_224348-3qeh219d\\files\\model-best)... Done. 0.1s\n"
     ]
    },
    {
     "name": "stdout",
     "output_type": "stream",
     "text": [
      "5/5 [==============================] - 3s 614ms/step - loss: 0.1120 - mae: 0.2736 - val_loss: 0.0716 - val_mae: 0.2120\n",
      "Epoch 129/500\n",
      "5/5 [==============================] - 1s 228ms/step - loss: 0.1211 - mae: 0.2797 - val_loss: 0.2155 - val_mae: 0.3964\n",
      "Epoch 130/500\n",
      "5/5 [==============================] - 1s 186ms/step - loss: 0.1710 - mae: 0.3361 - val_loss: 0.3853 - val_mae: 0.5507\n",
      "Epoch 131/500\n",
      "5/5 [==============================] - 1s 186ms/step - loss: 0.2728 - mae: 0.4355 - val_loss: 0.1873 - val_mae: 0.3487\n",
      "Epoch 132/500\n",
      "5/5 [==============================] - 1s 183ms/step - loss: 0.2100 - mae: 0.3750 - val_loss: 0.1516 - val_mae: 0.3194\n",
      "Epoch 133/500\n",
      "5/5 [==============================] - 1s 188ms/step - loss: 0.1668 - mae: 0.3339 - val_loss: 0.1515 - val_mae: 0.3165\n",
      "Epoch 134/500\n",
      "5/5 [==============================] - 1s 189ms/step - loss: 0.1501 - mae: 0.3167 - val_loss: 0.1489 - val_mae: 0.3196\n",
      "Epoch 135/500\n",
      "5/5 [==============================] - 1s 196ms/step - loss: 0.1559 - mae: 0.3216 - val_loss: 0.1562 - val_mae: 0.3239\n",
      "Epoch 136/500\n",
      "5/5 [==============================] - 1s 195ms/step - loss: 0.1829 - mae: 0.3477 - val_loss: 0.1376 - val_mae: 0.3051\n",
      "Epoch 137/500\n",
      "5/5 [==============================] - 1s 192ms/step - loss: 0.1415 - mae: 0.3062 - val_loss: 0.1351 - val_mae: 0.3030\n",
      "Epoch 138/500\n",
      "5/5 [==============================] - 1s 186ms/step - loss: 0.1299 - mae: 0.2915 - val_loss: 0.1189 - val_mae: 0.2832\n",
      "Epoch 139/500\n",
      "5/5 [==============================] - 1s 187ms/step - loss: 0.1307 - mae: 0.2922 - val_loss: 0.1324 - val_mae: 0.2957\n",
      "Epoch 140/500\n",
      "5/5 [==============================] - 1s 182ms/step - loss: 0.1221 - mae: 0.2823 - val_loss: 0.1184 - val_mae: 0.2793\n",
      "Epoch 141/500\n",
      "5/5 [==============================] - 1s 185ms/step - loss: 0.1251 - mae: 0.2822 - val_loss: 0.1383 - val_mae: 0.3072\n",
      "Epoch 142/500\n",
      "5/5 [==============================] - 1s 190ms/step - loss: 0.1446 - mae: 0.3087 - val_loss: 0.1217 - val_mae: 0.2805\n",
      "Epoch 143/500\n",
      "5/5 [==============================] - 1s 186ms/step - loss: 0.1112 - mae: 0.2649 - val_loss: 0.1090 - val_mae: 0.2609\n",
      "Epoch 144/500\n",
      "5/5 [==============================] - 1s 184ms/step - loss: 0.1309 - mae: 0.2906 - val_loss: 0.1084 - val_mae: 0.2616\n",
      "Epoch 145/500\n",
      "5/5 [==============================] - 1s 183ms/step - loss: 0.1458 - mae: 0.3080 - val_loss: 0.1110 - val_mae: 0.2696\n",
      "Epoch 146/500\n",
      "5/5 [==============================] - 1s 188ms/step - loss: 0.1364 - mae: 0.2970 - val_loss: 0.1526 - val_mae: 0.3263\n",
      "Epoch 147/500\n",
      "5/5 [==============================] - 1s 192ms/step - loss: 0.1659 - mae: 0.3294 - val_loss: 0.1011 - val_mae: 0.2570\n",
      "Epoch 148/500\n",
      "5/5 [==============================] - 1s 184ms/step - loss: 0.1116 - mae: 0.2731 - val_loss: 0.0914 - val_mae: 0.2450\n",
      "Epoch 149/500\n",
      "5/5 [==============================] - 1s 192ms/step - loss: 0.0984 - mae: 0.2535 - val_loss: 0.0937 - val_mae: 0.2435\n",
      "Epoch 150/500\n",
      "5/5 [==============================] - 1s 185ms/step - loss: 0.0967 - mae: 0.2477 - val_loss: 0.0959 - val_mae: 0.2484\n",
      "Epoch 151/500\n",
      "5/5 [==============================] - 1s 192ms/step - loss: 0.0900 - mae: 0.2381 - val_loss: 0.2170 - val_mae: 0.3878\n",
      "Epoch 152/500\n",
      "5/5 [==============================] - 1s 188ms/step - loss: 0.1754 - mae: 0.3386 - val_loss: 0.1523 - val_mae: 0.3247\n",
      "Epoch 153/500\n",
      "5/5 [==============================] - 1s 185ms/step - loss: 0.1910 - mae: 0.3577 - val_loss: 0.1581 - val_mae: 0.3273\n",
      "Epoch 154/500\n",
      "5/5 [==============================] - 1s 184ms/step - loss: 0.1149 - mae: 0.2764 - val_loss: 0.1088 - val_mae: 0.2640\n",
      "Epoch 155/500\n",
      "5/5 [==============================] - 1s 184ms/step - loss: 0.1096 - mae: 0.2622 - val_loss: 0.0938 - val_mae: 0.2473\n",
      "Epoch 156/500\n",
      "5/5 [==============================] - 1s 187ms/step - loss: 0.1059 - mae: 0.2599 - val_loss: 0.1221 - val_mae: 0.2799\n",
      "Epoch 157/500\n",
      "5/5 [==============================] - 1s 187ms/step - loss: 0.1210 - mae: 0.2790 - val_loss: 0.1121 - val_mae: 0.2682\n",
      "Epoch 158/500\n",
      "5/5 [==============================] - 1s 186ms/step - loss: 0.1246 - mae: 0.2818 - val_loss: 0.0733 - val_mae: 0.2147\n",
      "Epoch 159/500\n",
      "5/5 [==============================] - 1s 187ms/step - loss: 0.0923 - mae: 0.2426 - val_loss: 0.1729 - val_mae: 0.3441\n",
      "Epoch 160/500\n",
      "5/5 [==============================] - 1s 197ms/step - loss: 0.1213 - mae: 0.2792 - val_loss: 0.0775 - val_mae: 0.2165\n",
      "Epoch 161/500\n",
      "5/5 [==============================] - 1s 199ms/step - loss: 0.0775 - mae: 0.2189 - val_loss: 0.0815 - val_mae: 0.2257\n",
      "Epoch 162/500\n",
      "5/5 [==============================] - 1s 190ms/step - loss: 0.0801 - mae: 0.2245 - val_loss: 0.1173 - val_mae: 0.2620\n",
      "Epoch 163/500\n",
      "5/5 [==============================] - 1s 188ms/step - loss: 0.1368 - mae: 0.2972 - val_loss: 0.1754 - val_mae: 0.3440\n",
      "Epoch 164/500\n",
      "5/5 [==============================] - 1s 185ms/step - loss: 0.1467 - mae: 0.3106 - val_loss: 0.1246 - val_mae: 0.2829\n",
      "Epoch 165/500\n",
      "5/5 [==============================] - 1s 187ms/step - loss: 0.1196 - mae: 0.2743 - val_loss: 0.0843 - val_mae: 0.2303\n",
      "Epoch 166/500\n",
      "5/5 [==============================] - 1s 192ms/step - loss: 0.0935 - mae: 0.2431 - val_loss: 0.0813 - val_mae: 0.2244\n",
      "Epoch 167/500\n",
      "5/5 [==============================] - 1s 185ms/step - loss: 0.0898 - mae: 0.2363 - val_loss: 0.0890 - val_mae: 0.2354\n",
      "Epoch 168/500\n",
      "5/5 [==============================] - 1s 188ms/step - loss: 0.1015 - mae: 0.2542 - val_loss: 0.0729 - val_mae: 0.2088\n",
      "Epoch 169/500\n",
      "5/5 [==============================] - ETA: 0s - loss: 0.1465 - mae: 0.3105INFO:tensorflow:Assets written to: C:\\Users\\PARK\\Documents\\LAB\\RNN vs LSTM\\FInal Example\\wandb\\run-20221015_224348-3qeh219d\\files\\model-best\\assets\n"
     ]
    },
    {
     "name": "stderr",
     "output_type": "stream",
     "text": [
      "\u001b[34m\u001b[1mwandb\u001b[0m: Adding directory to artifact (C:\\Users\\PARK\\Documents\\LAB\\RNN vs LSTM\\FInal Example\\wandb\\run-20221015_224348-3qeh219d\\files\\model-best)... Done. 0.1s\n"
     ]
    },
    {
     "name": "stdout",
     "output_type": "stream",
     "text": [
      "5/5 [==============================] - 2s 577ms/step - loss: 0.1465 - mae: 0.3105 - val_loss: 0.0688 - val_mae: 0.2070\n",
      "Epoch 170/500\n",
      "5/5 [==============================] - 1s 224ms/step - loss: 0.1043 - mae: 0.2580 - val_loss: 0.0776 - val_mae: 0.2212\n",
      "Epoch 171/500\n",
      "5/5 [==============================] - 1s 193ms/step - loss: 0.0947 - mae: 0.2449 - val_loss: 0.1630 - val_mae: 0.3416\n",
      "Epoch 172/500\n",
      "5/5 [==============================] - 1s 188ms/step - loss: 0.1277 - mae: 0.2849 - val_loss: 0.0999 - val_mae: 0.2508\n",
      "Epoch 173/500\n",
      "5/5 [==============================] - 1s 184ms/step - loss: 0.1112 - mae: 0.2644 - val_loss: 0.0960 - val_mae: 0.2483\n",
      "Epoch 174/500\n",
      "5/5 [==============================] - 1s 185ms/step - loss: 0.1122 - mae: 0.2696 - val_loss: 0.0956 - val_mae: 0.2425\n",
      "Epoch 175/500\n",
      "5/5 [==============================] - 1s 188ms/step - loss: 0.1404 - mae: 0.3020 - val_loss: 0.0976 - val_mae: 0.2531\n",
      "Epoch 176/500\n",
      "5/5 [==============================] - 1s 187ms/step - loss: 0.1120 - mae: 0.2673 - val_loss: 0.0969 - val_mae: 0.2526\n",
      "Epoch 177/500\n",
      "5/5 [==============================] - 1s 187ms/step - loss: 0.0911 - mae: 0.2412 - val_loss: 0.0748 - val_mae: 0.2174\n",
      "Epoch 178/500\n",
      "5/5 [==============================] - ETA: 0s - loss: 0.0859 - mae: 0.2316INFO:tensorflow:Assets written to: C:\\Users\\PARK\\Documents\\LAB\\RNN vs LSTM\\FInal Example\\wandb\\run-20221015_224348-3qeh219d\\files\\model-best\\assets\n"
     ]
    },
    {
     "name": "stderr",
     "output_type": "stream",
     "text": [
      "\u001b[34m\u001b[1mwandb\u001b[0m: Adding directory to artifact (C:\\Users\\PARK\\Documents\\LAB\\RNN vs LSTM\\FInal Example\\wandb\\run-20221015_224348-3qeh219d\\files\\model-best)... Done. 0.1s\n"
     ]
    },
    {
     "name": "stdout",
     "output_type": "stream",
     "text": [
      "5/5 [==============================] - 2s 569ms/step - loss: 0.0859 - mae: 0.2316 - val_loss: 0.0676 - val_mae: 0.2042\n",
      "Epoch 179/500\n",
      "5/5 [==============================] - 1s 223ms/step - loss: 0.0895 - mae: 0.2366 - val_loss: 0.0823 - val_mae: 0.2321\n",
      "Epoch 180/500\n",
      "5/5 [==============================] - 1s 186ms/step - loss: 0.0841 - mae: 0.2306 - val_loss: 0.1085 - val_mae: 0.2698\n",
      "Epoch 181/500\n",
      "5/5 [==============================] - 1s 186ms/step - loss: 0.0927 - mae: 0.2407 - val_loss: 0.1056 - val_mae: 0.2668\n",
      "Epoch 182/500\n",
      "5/5 [==============================] - 1s 185ms/step - loss: 0.1386 - mae: 0.3051 - val_loss: 0.0812 - val_mae: 0.2276\n",
      "Epoch 183/500\n",
      "5/5 [==============================] - 1s 185ms/step - loss: 0.1236 - mae: 0.2820 - val_loss: 0.0950 - val_mae: 0.2425\n",
      "Epoch 184/500\n",
      "5/5 [==============================] - 1s 190ms/step - loss: 0.1372 - mae: 0.2977 - val_loss: 0.1938 - val_mae: 0.3658\n",
      "Epoch 185/500\n",
      "5/5 [==============================] - 1s 184ms/step - loss: 0.1244 - mae: 0.2856 - val_loss: 0.0975 - val_mae: 0.2491\n",
      "Epoch 186/500\n",
      "5/5 [==============================] - 1s 183ms/step - loss: 0.0946 - mae: 0.2442 - val_loss: 0.0731 - val_mae: 0.2131\n",
      "Epoch 187/500\n",
      "5/5 [==============================] - 1s 183ms/step - loss: 0.1104 - mae: 0.2693 - val_loss: 0.0747 - val_mae: 0.2210\n",
      "Epoch 188/500\n",
      "5/5 [==============================] - 1s 184ms/step - loss: 0.1271 - mae: 0.2891 - val_loss: 0.1176 - val_mae: 0.2754\n",
      "Epoch 189/500\n",
      "5/5 [==============================] - 1s 186ms/step - loss: 0.1055 - mae: 0.2627 - val_loss: 0.1457 - val_mae: 0.3180\n",
      "Epoch 190/500\n",
      "5/5 [==============================] - 1s 185ms/step - loss: 0.1047 - mae: 0.2608 - val_loss: 0.0843 - val_mae: 0.2291\n",
      "Epoch 191/500\n",
      "5/5 [==============================] - ETA: 0s - loss: 0.0769 - mae: 0.2172INFO:tensorflow:Assets written to: C:\\Users\\PARK\\Documents\\LAB\\RNN vs LSTM\\FInal Example\\wandb\\run-20221015_224348-3qeh219d\\files\\model-best\\assets\n"
     ]
    },
    {
     "name": "stderr",
     "output_type": "stream",
     "text": [
      "\u001b[34m\u001b[1mwandb\u001b[0m: Adding directory to artifact (C:\\Users\\PARK\\Documents\\LAB\\RNN vs LSTM\\FInal Example\\wandb\\run-20221015_224348-3qeh219d\\files\\model-best)... Done. 0.1s\n"
     ]
    },
    {
     "name": "stdout",
     "output_type": "stream",
     "text": [
      "5/5 [==============================] - 2s 602ms/step - loss: 0.0769 - mae: 0.2172 - val_loss: 0.0635 - val_mae: 0.1967\n",
      "Epoch 192/500\n",
      "5/5 [==============================] - 1s 219ms/step - loss: 0.0711 - mae: 0.2089 - val_loss: 0.0907 - val_mae: 0.2505\n",
      "Epoch 193/500\n",
      "5/5 [==============================] - 1s 191ms/step - loss: 0.1175 - mae: 0.2784 - val_loss: 0.0795 - val_mae: 0.2315\n",
      "Epoch 194/500\n",
      "5/5 [==============================] - 1s 184ms/step - loss: 0.0750 - mae: 0.2148 - val_loss: 0.0673 - val_mae: 0.2015\n",
      "Epoch 195/500\n",
      "5/5 [==============================] - 1s 187ms/step - loss: 0.0704 - mae: 0.2070 - val_loss: 0.0865 - val_mae: 0.2264\n",
      "Epoch 196/500\n",
      "5/5 [==============================] - ETA: 0s - loss: 0.0713 - mae: 0.2077INFO:tensorflow:Assets written to: C:\\Users\\PARK\\Documents\\LAB\\RNN vs LSTM\\FInal Example\\wandb\\run-20221015_224348-3qeh219d\\files\\model-best\\assets\n"
     ]
    },
    {
     "name": "stderr",
     "output_type": "stream",
     "text": [
      "\u001b[34m\u001b[1mwandb\u001b[0m: Adding directory to artifact (C:\\Users\\PARK\\Documents\\LAB\\RNN vs LSTM\\FInal Example\\wandb\\run-20221015_224348-3qeh219d\\files\\model-best)... Done. 0.1s\n"
     ]
    },
    {
     "name": "stdout",
     "output_type": "stream",
     "text": [
      "5/5 [==============================] - 2s 573ms/step - loss: 0.0713 - mae: 0.2077 - val_loss: 0.0623 - val_mae: 0.1976\n",
      "Epoch 197/500\n",
      "5/5 [==============================] - 1s 224ms/step - loss: 0.0771 - mae: 0.2172 - val_loss: 0.0913 - val_mae: 0.2460\n",
      "Epoch 198/500\n",
      "5/5 [==============================] - 1s 187ms/step - loss: 0.1187 - mae: 0.2803 - val_loss: 0.0761 - val_mae: 0.2201\n",
      "Epoch 199/500\n",
      "5/5 [==============================] - 1s 183ms/step - loss: 0.0744 - mae: 0.2168 - val_loss: 0.0882 - val_mae: 0.2308\n",
      "Epoch 200/500\n",
      "5/5 [==============================] - 1s 184ms/step - loss: 0.0766 - mae: 0.2170 - val_loss: 0.1054 - val_mae: 0.2681\n",
      "Epoch 201/500\n",
      "5/5 [==============================] - 1s 186ms/step - loss: 0.0889 - mae: 0.2377 - val_loss: 0.2431 - val_mae: 0.4268\n",
      "Epoch 202/500\n",
      "5/5 [==============================] - 1s 185ms/step - loss: 0.1353 - mae: 0.2994 - val_loss: 0.1682 - val_mae: 0.3471\n",
      "Epoch 203/500\n",
      "5/5 [==============================] - 1s 184ms/step - loss: 0.1433 - mae: 0.3060 - val_loss: 0.0938 - val_mae: 0.2441\n",
      "Epoch 204/500\n",
      "5/5 [==============================] - 1s 188ms/step - loss: 0.1224 - mae: 0.2819 - val_loss: 0.1155 - val_mae: 0.2756\n",
      "Epoch 205/500\n",
      "5/5 [==============================] - 1s 185ms/step - loss: 0.1001 - mae: 0.2518 - val_loss: 0.0957 - val_mae: 0.2514\n",
      "Epoch 206/500\n",
      "5/5 [==============================] - 1s 186ms/step - loss: 0.0894 - mae: 0.2403 - val_loss: 0.8480 - val_mae: 0.6098\n",
      "Epoch 207/500\n",
      "5/5 [==============================] - 1s 184ms/step - loss: 2.6920 - mae: 1.2190 - val_loss: 3.0564 - val_mae: 1.4984\n",
      "Epoch 208/500\n",
      "5/5 [==============================] - 1s 183ms/step - loss: 3.9475 - mae: 1.5966 - val_loss: 3.3628 - val_mae: 1.3951\n",
      "Epoch 209/500\n",
      "5/5 [==============================] - 1s 186ms/step - loss: 11.8378 - mae: 2.8210 - val_loss: 2.1016 - val_mae: 1.2663\n",
      "Epoch 210/500\n",
      "5/5 [==============================] - 1s 192ms/step - loss: 6.0521 - mae: 2.1473 - val_loss: 3.6997 - val_mae: 1.7596\n",
      "Epoch 211/500\n",
      "5/5 [==============================] - 1s 187ms/step - loss: 9.7574 - mae: 2.6013 - val_loss: 15.9451 - val_mae: 3.6734\n",
      "Epoch 212/500\n",
      "5/5 [==============================] - 1s 190ms/step - loss: 13.9915 - mae: 2.9940 - val_loss: 20.2552 - val_mae: 4.2149\n",
      "Epoch 213/500\n",
      "5/5 [==============================] - 1s 191ms/step - loss: 10.2314 - mae: 2.7407 - val_loss: 12.7911 - val_mae: 3.2864\n",
      "Epoch 214/500\n",
      "5/5 [==============================] - 1s 189ms/step - loss: 6.2616 - mae: 2.0990 - val_loss: 6.8332 - val_mae: 2.4249\n",
      "Epoch 215/500\n",
      "5/5 [==============================] - 1s 190ms/step - loss: 4.4791 - mae: 1.8108 - val_loss: 2.7680 - val_mae: 1.4859\n",
      "Epoch 216/500\n",
      "5/5 [==============================] - 1s 195ms/step - loss: 2.4961 - mae: 1.3732 - val_loss: 1.3838 - val_mae: 1.0079\n",
      "Epoch 217/500\n",
      "5/5 [==============================] - 1s 199ms/step - loss: 1.3650 - mae: 1.0045 - val_loss: 0.9601 - val_mae: 0.8151\n",
      "Epoch 218/500\n",
      "5/5 [==============================] - 1s 195ms/step - loss: 0.8666 - mae: 0.7775 - val_loss: 0.6852 - val_mae: 0.6897\n",
      "Epoch 219/500\n",
      "5/5 [==============================] - 1s 190ms/step - loss: 0.5800 - mae: 0.6281 - val_loss: 0.4835 - val_mae: 0.5700\n",
      "Epoch 220/500\n",
      "5/5 [==============================] - 1s 190ms/step - loss: 0.4129 - mae: 0.5270 - val_loss: 0.3890 - val_mae: 0.5081\n",
      "Epoch 221/500\n",
      "5/5 [==============================] - 1s 192ms/step - loss: 0.3346 - mae: 0.4711 - val_loss: 0.2721 - val_mae: 0.4261\n",
      "Epoch 222/500\n",
      "5/5 [==============================] - 1s 190ms/step - loss: 0.2748 - mae: 0.4293 - val_loss: 0.2355 - val_mae: 0.4002\n",
      "Epoch 223/500\n",
      "5/5 [==============================] - 1s 191ms/step - loss: 0.2297 - mae: 0.3926 - val_loss: 0.2118 - val_mae: 0.3828\n",
      "Epoch 224/500\n",
      "5/5 [==============================] - 1s 195ms/step - loss: 0.2116 - mae: 0.3761 - val_loss: 0.1979 - val_mae: 0.3677\n",
      "Epoch 225/500\n",
      "5/5 [==============================] - 1s 194ms/step - loss: 0.1983 - mae: 0.3693 - val_loss: 0.1923 - val_mae: 0.3659\n",
      "Epoch 226/500\n",
      "5/5 [==============================] - 1s 186ms/step - loss: 0.1952 - mae: 0.3650 - val_loss: 0.1832 - val_mae: 0.3577\n",
      "Epoch 227/500\n",
      "5/5 [==============================] - 1s 189ms/step - loss: 0.1944 - mae: 0.3637 - val_loss: 0.1848 - val_mae: 0.3587\n",
      "Epoch 228/500\n",
      "5/5 [==============================] - 1s 186ms/step - loss: 0.1820 - mae: 0.3533 - val_loss: 0.1863 - val_mae: 0.3568\n",
      "Epoch 229/500\n",
      "5/5 [==============================] - 1s 194ms/step - loss: 0.1857 - mae: 0.3581 - val_loss: 0.1790 - val_mae: 0.3545\n",
      "Epoch 230/500\n",
      "5/5 [==============================] - 1s 192ms/step - loss: 0.1859 - mae: 0.3586 - val_loss: 0.1831 - val_mae: 0.3543\n",
      "Epoch 231/500\n",
      "5/5 [==============================] - 1s 188ms/step - loss: 0.1971 - mae: 0.3673 - val_loss: 0.1832 - val_mae: 0.3570\n",
      "Epoch 232/500\n",
      "5/5 [==============================] - 1s 187ms/step - loss: 0.2017 - mae: 0.3697 - val_loss: 0.1909 - val_mae: 0.3615\n",
      "Epoch 233/500\n",
      "5/5 [==============================] - 1s 191ms/step - loss: 0.2056 - mae: 0.3759 - val_loss: 0.1890 - val_mae: 0.3571\n",
      "Epoch 234/500\n",
      "5/5 [==============================] - 1s 190ms/step - loss: 0.2045 - mae: 0.3713 - val_loss: 0.1996 - val_mae: 0.3720\n",
      "Epoch 235/500\n",
      "5/5 [==============================] - 1s 189ms/step - loss: 0.1953 - mae: 0.3654 - val_loss: 0.1880 - val_mae: 0.3546\n",
      "Epoch 236/500\n",
      "5/5 [==============================] - 1s 191ms/step - loss: 0.2030 - mae: 0.3711 - val_loss: 0.2000 - val_mae: 0.3713\n",
      "Epoch 237/500\n",
      "5/5 [==============================] - 1s 190ms/step - loss: 0.1982 - mae: 0.3667 - val_loss: 0.1870 - val_mae: 0.3542\n",
      "Epoch 238/500\n",
      "5/5 [==============================] - 1s 190ms/step - loss: 0.1982 - mae: 0.3680 - val_loss: 0.1905 - val_mae: 0.3644\n",
      "Epoch 239/500\n",
      "5/5 [==============================] - 1s 187ms/step - loss: 0.1899 - mae: 0.3607 - val_loss: 0.1817 - val_mae: 0.3519\n",
      "Epoch 240/500\n",
      "5/5 [==============================] - 1s 187ms/step - loss: 0.1876 - mae: 0.3592 - val_loss: 0.1822 - val_mae: 0.3543\n",
      "Epoch 241/500\n",
      "5/5 [==============================] - 1s 188ms/step - loss: 0.1880 - mae: 0.3593 - val_loss: 0.1784 - val_mae: 0.3522\n",
      "Epoch 242/500\n",
      "5/5 [==============================] - 1s 189ms/step - loss: 0.1825 - mae: 0.3540 - val_loss: 0.1797 - val_mae: 0.3534\n",
      "Epoch 243/500\n",
      "5/5 [==============================] - 1s 193ms/step - loss: 0.1820 - mae: 0.3543 - val_loss: 0.1782 - val_mae: 0.3521\n",
      "Epoch 244/500\n",
      "5/5 [==============================] - 1s 198ms/step - loss: 0.1797 - mae: 0.3512 - val_loss: 0.1761 - val_mae: 0.3515\n",
      "Epoch 245/500\n",
      "5/5 [==============================] - 1s 184ms/step - loss: 0.1839 - mae: 0.3551 - val_loss: 0.1807 - val_mae: 0.3538\n",
      "Epoch 246/500\n",
      "5/5 [==============================] - 1s 189ms/step - loss: 0.1844 - mae: 0.3551 - val_loss: 0.1759 - val_mae: 0.3489\n",
      "Epoch 247/500\n",
      "5/5 [==============================] - 1s 184ms/step - loss: 0.1826 - mae: 0.3552 - val_loss: 0.1787 - val_mae: 0.3562\n",
      "Epoch 248/500\n",
      "5/5 [==============================] - 1s 185ms/step - loss: 0.1876 - mae: 0.3581 - val_loss: 0.1811 - val_mae: 0.3515\n",
      "Epoch 249/500\n",
      "5/5 [==============================] - 1s 190ms/step - loss: 0.2004 - mae: 0.3686 - val_loss: 0.1819 - val_mae: 0.3554\n",
      "Epoch 250/500\n",
      "5/5 [==============================] - 1s 183ms/step - loss: 0.1924 - mae: 0.3607 - val_loss: 0.1853 - val_mae: 0.3571\n",
      "Epoch 251/500\n",
      "5/5 [==============================] - 1s 183ms/step - loss: 0.1926 - mae: 0.3631 - val_loss: 0.1807 - val_mae: 0.3527\n",
      "Epoch 252/500\n",
      "5/5 [==============================] - 1s 187ms/step - loss: 0.1957 - mae: 0.3640 - val_loss: 0.1872 - val_mae: 0.3598\n",
      "Epoch 253/500\n",
      "5/5 [==============================] - 1s 189ms/step - loss: 0.1882 - mae: 0.3593 - val_loss: 0.1785 - val_mae: 0.3514\n",
      "Epoch 254/500\n",
      "5/5 [==============================] - 1s 190ms/step - loss: 0.1826 - mae: 0.3534 - val_loss: 0.1809 - val_mae: 0.3550\n",
      "Epoch 255/500\n",
      "5/5 [==============================] - 1s 195ms/step - loss: 0.1848 - mae: 0.3557 - val_loss: 0.1782 - val_mae: 0.3503\n",
      "Epoch 256/500\n",
      "5/5 [==============================] - 1s 189ms/step - loss: 0.1813 - mae: 0.3536 - val_loss: 0.1794 - val_mae: 0.3511\n",
      "Epoch 257/500\n"
     ]
    },
    {
     "name": "stdout",
     "output_type": "stream",
     "text": [
      "5/5 [==============================] - 1s 188ms/step - loss: 0.1812 - mae: 0.3527 - val_loss: 0.1764 - val_mae: 0.3519\n",
      "Epoch 258/500\n",
      "5/5 [==============================] - 1s 186ms/step - loss: 0.1860 - mae: 0.3574 - val_loss: 0.1809 - val_mae: 0.3541\n",
      "Epoch 259/500\n",
      "5/5 [==============================] - 1s 189ms/step - loss: 0.1804 - mae: 0.3523 - val_loss: 0.1750 - val_mae: 0.3480\n",
      "Epoch 260/500\n",
      "5/5 [==============================] - 1s 189ms/step - loss: 0.1821 - mae: 0.3543 - val_loss: 0.1817 - val_mae: 0.3533\n",
      "Epoch 261/500\n",
      "5/5 [==============================] - 1s 193ms/step - loss: 0.1798 - mae: 0.3516 - val_loss: 0.1770 - val_mae: 0.3507\n",
      "Epoch 262/500\n",
      "5/5 [==============================] - 1s 188ms/step - loss: 0.1834 - mae: 0.3556 - val_loss: 0.1807 - val_mae: 0.3527\n",
      "Epoch 263/500\n",
      "5/5 [==============================] - 1s 185ms/step - loss: 0.1828 - mae: 0.3545 - val_loss: 0.1770 - val_mae: 0.3500\n",
      "Epoch 264/500\n",
      "5/5 [==============================] - 1s 186ms/step - loss: 0.1955 - mae: 0.3635 - val_loss: 0.1932 - val_mae: 0.3635\n",
      "Epoch 265/500\n",
      "5/5 [==============================] - 1s 187ms/step - loss: 0.2090 - mae: 0.3773 - val_loss: 0.1856 - val_mae: 0.3538\n",
      "Epoch 266/500\n",
      "5/5 [==============================] - 1s 189ms/step - loss: 0.2096 - mae: 0.3738 - val_loss: 0.1907 - val_mae: 0.3649\n",
      "Epoch 267/500\n",
      "5/5 [==============================] - 1s 195ms/step - loss: 0.1855 - mae: 0.3569 - val_loss: 0.1800 - val_mae: 0.3509\n",
      "Epoch 268/500\n",
      "5/5 [==============================] - 1s 192ms/step - loss: 0.1842 - mae: 0.3554 - val_loss: 0.1815 - val_mae: 0.3571\n",
      "Epoch 269/500\n",
      "5/5 [==============================] - 1s 191ms/step - loss: 0.1858 - mae: 0.3564 - val_loss: 0.1756 - val_mae: 0.3501\n",
      "Epoch 270/500\n",
      "5/5 [==============================] - 1s 188ms/step - loss: 0.1807 - mae: 0.3525 - val_loss: 0.1760 - val_mae: 0.3489\n",
      "Epoch 271/500\n",
      "5/5 [==============================] - 1s 188ms/step - loss: 0.1822 - mae: 0.3537 - val_loss: 0.1760 - val_mae: 0.3500\n",
      "Epoch 272/500\n",
      "5/5 [==============================] - 1s 189ms/step - loss: 0.1792 - mae: 0.3516 - val_loss: 0.1759 - val_mae: 0.3501\n",
      "Epoch 273/500\n",
      "5/5 [==============================] - 1s 186ms/step - loss: 0.1834 - mae: 0.3556 - val_loss: 0.1743 - val_mae: 0.3488\n",
      "Epoch 274/500\n",
      "5/5 [==============================] - 1s 187ms/step - loss: 0.1768 - mae: 0.3492 - val_loss: 0.1760 - val_mae: 0.3485\n",
      "Epoch 275/500\n",
      "5/5 [==============================] - 1s 191ms/step - loss: 0.1853 - mae: 0.3566 - val_loss: 0.1737 - val_mae: 0.3493\n",
      "Epoch 276/500\n",
      "5/5 [==============================] - 1s 192ms/step - loss: 0.1803 - mae: 0.3526 - val_loss: 0.1858 - val_mae: 0.3559\n",
      "Epoch 277/500\n",
      "5/5 [==============================] - 1s 188ms/step - loss: 0.1881 - mae: 0.3613 - val_loss: 0.1734 - val_mae: 0.3490\n",
      "Epoch 278/500\n",
      "5/5 [==============================] - 1s 186ms/step - loss: 0.1801 - mae: 0.3512 - val_loss: 0.1756 - val_mae: 0.3477\n",
      "Epoch 279/500\n",
      "5/5 [==============================] - 1s 188ms/step - loss: 0.1800 - mae: 0.3523 - val_loss: 0.1778 - val_mae: 0.3532\n",
      "Epoch 280/500\n",
      "5/5 [==============================] - 1s 185ms/step - loss: 0.1792 - mae: 0.3506 - val_loss: 0.1734 - val_mae: 0.3467\n",
      "Epoch 281/500\n",
      "5/5 [==============================] - 1s 190ms/step - loss: 0.1794 - mae: 0.3510 - val_loss: 0.1741 - val_mae: 0.3500\n",
      "Epoch 282/500\n",
      "5/5 [==============================] - 1s 187ms/step - loss: 0.1789 - mae: 0.3510 - val_loss: 0.1743 - val_mae: 0.3480\n",
      "Epoch 283/500\n",
      "5/5 [==============================] - 1s 187ms/step - loss: 0.1771 - mae: 0.3491 - val_loss: 0.1714 - val_mae: 0.3458\n",
      "Epoch 284/500\n",
      "5/5 [==============================] - 1s 190ms/step - loss: 0.1804 - mae: 0.3522 - val_loss: 0.1766 - val_mae: 0.3492\n",
      "Epoch 285/500\n",
      "5/5 [==============================] - 1s 188ms/step - loss: 0.1785 - mae: 0.3497 - val_loss: 0.1725 - val_mae: 0.3487\n",
      "Epoch 286/500\n",
      "5/5 [==============================] - 1s 190ms/step - loss: 0.1790 - mae: 0.3503 - val_loss: 0.1936 - val_mae: 0.3616\n",
      "Epoch 287/500\n",
      "5/5 [==============================] - 1s 192ms/step - loss: 0.1964 - mae: 0.3679 - val_loss: 0.1760 - val_mae: 0.3510\n",
      "Epoch 288/500\n",
      "5/5 [==============================] - 1s 191ms/step - loss: 0.1742 - mae: 0.3466 - val_loss: 0.1944 - val_mae: 0.3623\n",
      "Epoch 289/500\n",
      "5/5 [==============================] - 1s 188ms/step - loss: 0.1926 - mae: 0.3624 - val_loss: 0.1728 - val_mae: 0.3477\n",
      "Epoch 290/500\n",
      "5/5 [==============================] - 1s 189ms/step - loss: 0.1795 - mae: 0.3517 - val_loss: 0.1728 - val_mae: 0.3469\n",
      "Epoch 291/500\n",
      "5/5 [==============================] - 1s 191ms/step - loss: 0.1780 - mae: 0.3509 - val_loss: 0.1741 - val_mae: 0.3490\n",
      "Epoch 292/500\n",
      "5/5 [==============================] - 1s 190ms/step - loss: 0.1781 - mae: 0.3499 - val_loss: 0.1730 - val_mae: 0.3489\n",
      "Epoch 293/500\n",
      "5/5 [==============================] - 1s 195ms/step - loss: 0.1803 - mae: 0.3516 - val_loss: 0.1726 - val_mae: 0.3473\n",
      "Epoch 294/500\n",
      "5/5 [==============================] - 1s 191ms/step - loss: 0.1769 - mae: 0.3492 - val_loss: 0.1732 - val_mae: 0.3462\n",
      "Epoch 295/500\n",
      "5/5 [==============================] - 1s 188ms/step - loss: 0.1761 - mae: 0.3483 - val_loss: 0.1706 - val_mae: 0.3474\n",
      "Epoch 296/500\n",
      "5/5 [==============================] - 1s 185ms/step - loss: 0.1754 - mae: 0.3472 - val_loss: 0.1716 - val_mae: 0.3453\n",
      "Epoch 297/500\n",
      "5/5 [==============================] - 1s 186ms/step - loss: 0.1752 - mae: 0.3466 - val_loss: 0.1701 - val_mae: 0.3446\n",
      "Epoch 298/500\n",
      "5/5 [==============================] - 1s 192ms/step - loss: 0.1773 - mae: 0.3492 - val_loss: 0.1782 - val_mae: 0.3550\n",
      "Epoch 299/500\n",
      "5/5 [==============================] - 1s 191ms/step - loss: 0.1891 - mae: 0.3581 - val_loss: 0.2118 - val_mae: 0.3765\n",
      "Epoch 300/500\n",
      "5/5 [==============================] - 1s 186ms/step - loss: 0.1953 - mae: 0.3629 - val_loss: 0.1896 - val_mae: 0.3620\n",
      "Epoch 301/500\n",
      "5/5 [==============================] - 1s 185ms/step - loss: 0.1927 - mae: 0.3590 - val_loss: 0.1930 - val_mae: 0.3619\n",
      "Epoch 302/500\n",
      "5/5 [==============================] - 1s 184ms/step - loss: 0.1829 - mae: 0.3523 - val_loss: 0.1759 - val_mae: 0.3515\n",
      "Epoch 303/500\n",
      "5/5 [==============================] - 1s 190ms/step - loss: 0.1871 - mae: 0.3574 - val_loss: 0.1725 - val_mae: 0.3462\n",
      "Epoch 304/500\n",
      "5/5 [==============================] - 1s 190ms/step - loss: 0.1814 - mae: 0.3520 - val_loss: 0.1761 - val_mae: 0.3475\n",
      "Epoch 305/500\n",
      "5/5 [==============================] - 1s 185ms/step - loss: 0.1826 - mae: 0.3536 - val_loss: 0.1760 - val_mae: 0.3498\n",
      "Epoch 306/500\n",
      "5/5 [==============================] - 1s 188ms/step - loss: 0.1919 - mae: 0.3623 - val_loss: 0.1773 - val_mae: 0.3491\n",
      "Epoch 307/500\n",
      "5/5 [==============================] - 1s 184ms/step - loss: 0.1805 - mae: 0.3517 - val_loss: 0.1740 - val_mae: 0.3485\n",
      "Epoch 308/500\n",
      "5/5 [==============================] - 1s 184ms/step - loss: 0.1762 - mae: 0.3477 - val_loss: 0.1735 - val_mae: 0.3463\n",
      "Epoch 309/500\n",
      "5/5 [==============================] - 1s 185ms/step - loss: 0.1815 - mae: 0.3526 - val_loss: 0.2044 - val_mae: 0.3700\n",
      "Epoch 310/500\n",
      "5/5 [==============================] - 1s 186ms/step - loss: 0.1995 - mae: 0.3694 - val_loss: 0.1977 - val_mae: 0.3663\n",
      "Epoch 311/500\n",
      "5/5 [==============================] - 1s 184ms/step - loss: 0.1968 - mae: 0.3661 - val_loss: 0.1884 - val_mae: 0.3559\n",
      "Epoch 312/500\n",
      "5/5 [==============================] - 1s 187ms/step - loss: 0.1822 - mae: 0.3512 - val_loss: 0.1885 - val_mae: 0.3633\n",
      "Epoch 313/500\n",
      "5/5 [==============================] - 1s 187ms/step - loss: 0.1885 - mae: 0.3554 - val_loss: 0.2006 - val_mae: 0.3681\n",
      "Epoch 314/500\n",
      "5/5 [==============================] - 1s 185ms/step - loss: 0.1859 - mae: 0.3562 - val_loss: 0.1852 - val_mae: 0.3602\n",
      "Epoch 315/500\n",
      "5/5 [==============================] - 1s 185ms/step - loss: 0.1851 - mae: 0.3536 - val_loss: 0.1815 - val_mae: 0.3521\n",
      "Epoch 316/500\n",
      "5/5 [==============================] - 1s 190ms/step - loss: 0.1812 - mae: 0.3515 - val_loss: 0.1726 - val_mae: 0.3463\n",
      "Epoch 317/500\n",
      "5/5 [==============================] - 1s 187ms/step - loss: 0.1801 - mae: 0.3517 - val_loss: 0.1744 - val_mae: 0.3489\n",
      "Epoch 318/500\n",
      "5/5 [==============================] - 1s 188ms/step - loss: 0.1881 - mae: 0.3570 - val_loss: 0.1757 - val_mae: 0.3474\n"
     ]
    },
    {
     "name": "stdout",
     "output_type": "stream",
     "text": [
      "Epoch 319/500\n",
      "5/5 [==============================] - 1s 188ms/step - loss: 0.1739 - mae: 0.3454 - val_loss: 0.1748 - val_mae: 0.3521\n",
      "Epoch 320/500\n",
      "5/5 [==============================] - 1s 186ms/step - loss: 0.1834 - mae: 0.3533 - val_loss: 0.1709 - val_mae: 0.3425\n",
      "Epoch 321/500\n",
      "5/5 [==============================] - 1s 187ms/step - loss: 0.1732 - mae: 0.3441 - val_loss: 0.1695 - val_mae: 0.3449\n",
      "Epoch 322/500\n",
      "5/5 [==============================] - 1s 187ms/step - loss: 0.1743 - mae: 0.3458 - val_loss: 0.1674 - val_mae: 0.3418\n",
      "Epoch 323/500\n",
      "5/5 [==============================] - 1s 186ms/step - loss: 0.1715 - mae: 0.3434 - val_loss: 0.1680 - val_mae: 0.3423\n",
      "Epoch 324/500\n",
      "5/5 [==============================] - 1s 188ms/step - loss: 0.1729 - mae: 0.3440 - val_loss: 0.1699 - val_mae: 0.3469\n",
      "Epoch 325/500\n",
      "5/5 [==============================] - 1s 189ms/step - loss: 0.1801 - mae: 0.3522 - val_loss: 0.1667 - val_mae: 0.3395\n",
      "Epoch 326/500\n",
      "5/5 [==============================] - 1s 192ms/step - loss: 0.1722 - mae: 0.3443 - val_loss: 0.1724 - val_mae: 0.3465\n",
      "Epoch 327/500\n",
      "5/5 [==============================] - 1s 191ms/step - loss: 0.1703 - mae: 0.3420 - val_loss: 0.1703 - val_mae: 0.3423\n",
      "Epoch 328/500\n",
      "5/5 [==============================] - 1s 189ms/step - loss: 0.1754 - mae: 0.3476 - val_loss: 0.1767 - val_mae: 0.3477\n",
      "Epoch 329/500\n",
      "5/5 [==============================] - 1s 187ms/step - loss: 0.1776 - mae: 0.3496 - val_loss: 0.1772 - val_mae: 0.3524\n",
      "Epoch 330/500\n",
      "5/5 [==============================] - 1s 188ms/step - loss: 0.1884 - mae: 0.3560 - val_loss: 0.1958 - val_mae: 0.3626\n",
      "Epoch 331/500\n",
      "5/5 [==============================] - 1s 195ms/step - loss: 0.1857 - mae: 0.3570 - val_loss: 0.1738 - val_mae: 0.3472\n",
      "Epoch 332/500\n",
      "5/5 [==============================] - 1s 195ms/step - loss: 0.1755 - mae: 0.3469 - val_loss: 0.1710 - val_mae: 0.3451\n",
      "Epoch 333/500\n",
      "5/5 [==============================] - 1s 187ms/step - loss: 0.1858 - mae: 0.3526 - val_loss: 0.1902 - val_mae: 0.3572\n",
      "Epoch 334/500\n",
      "5/5 [==============================] - 1s 187ms/step - loss: 0.1892 - mae: 0.3581 - val_loss: 0.1774 - val_mae: 0.3500\n",
      "Epoch 335/500\n",
      "5/5 [==============================] - 1s 186ms/step - loss: 0.1885 - mae: 0.3598 - val_loss: 0.1740 - val_mae: 0.3468\n",
      "Epoch 336/500\n",
      "5/5 [==============================] - 1s 190ms/step - loss: 0.1754 - mae: 0.3465 - val_loss: 0.1835 - val_mae: 0.3536\n",
      "Epoch 337/500\n",
      "5/5 [==============================] - 1s 187ms/step - loss: 0.1864 - mae: 0.3574 - val_loss: 0.1724 - val_mae: 0.3475\n",
      "Epoch 338/500\n",
      "5/5 [==============================] - 1s 187ms/step - loss: 0.1817 - mae: 0.3509 - val_loss: 0.1821 - val_mae: 0.3539\n",
      "Epoch 339/500\n",
      "5/5 [==============================] - 1s 191ms/step - loss: 0.1903 - mae: 0.3606 - val_loss: 0.1656 - val_mae: 0.3403\n",
      "Epoch 340/500\n",
      "5/5 [==============================] - 1s 186ms/step - loss: 0.1812 - mae: 0.3492 - val_loss: 0.1694 - val_mae: 0.3421\n",
      "Epoch 341/500\n",
      "5/5 [==============================] - 1s 185ms/step - loss: 0.1686 - mae: 0.3395 - val_loss: 0.1655 - val_mae: 0.3389\n",
      "Epoch 342/500\n",
      "5/5 [==============================] - 1s 189ms/step - loss: 0.1722 - mae: 0.3433 - val_loss: 0.1617 - val_mae: 0.3360\n",
      "Epoch 343/500\n",
      "5/5 [==============================] - 1s 185ms/step - loss: 0.1664 - mae: 0.3376 - val_loss: 0.1654 - val_mae: 0.3387\n",
      "Epoch 344/500\n",
      "5/5 [==============================] - 1s 184ms/step - loss: 0.1682 - mae: 0.3388 - val_loss: 0.1740 - val_mae: 0.3436\n",
      "Epoch 345/500\n",
      "5/5 [==============================] - 1s 190ms/step - loss: 0.1754 - mae: 0.3476 - val_loss: 0.1741 - val_mae: 0.3450\n",
      "Epoch 346/500\n",
      "5/5 [==============================] - 1s 191ms/step - loss: 0.1793 - mae: 0.3491 - val_loss: 0.1720 - val_mae: 0.3462\n",
      "Epoch 347/500\n",
      "5/5 [==============================] - 1s 184ms/step - loss: 0.1826 - mae: 0.3527 - val_loss: 0.1722 - val_mae: 0.3460\n",
      "Epoch 348/500\n",
      "5/5 [==============================] - 1s 183ms/step - loss: 0.1858 - mae: 0.3586 - val_loss: 0.1618 - val_mae: 0.3351\n",
      "Epoch 349/500\n",
      "5/5 [==============================] - 1s 190ms/step - loss: 0.1756 - mae: 0.3462 - val_loss: 0.1999 - val_mae: 0.3655\n",
      "Epoch 350/500\n",
      "5/5 [==============================] - 1s 184ms/step - loss: 0.1905 - mae: 0.3612 - val_loss: 0.1632 - val_mae: 0.3384\n",
      "Epoch 351/500\n",
      "5/5 [==============================] - 1s 187ms/step - loss: 0.1708 - mae: 0.3417 - val_loss: 0.1609 - val_mae: 0.3318\n",
      "Epoch 352/500\n",
      "5/5 [==============================] - 1s 220ms/step - loss: 0.1721 - mae: 0.3455 - val_loss: 0.1645 - val_mae: 0.3387\n",
      "Epoch 353/500\n",
      "5/5 [==============================] - 1s 186ms/step - loss: 0.1690 - mae: 0.3411 - val_loss: 0.1921 - val_mae: 0.3611\n",
      "Epoch 354/500\n",
      "5/5 [==============================] - 1s 183ms/step - loss: 0.1711 - mae: 0.3434 - val_loss: 0.1985 - val_mae: 0.3694\n",
      "Epoch 355/500\n",
      "5/5 [==============================] - 1s 192ms/step - loss: 0.1809 - mae: 0.3454 - val_loss: 0.2116 - val_mae: 0.3777\n",
      "Epoch 356/500\n",
      "5/5 [==============================] - 1s 191ms/step - loss: 0.1936 - mae: 0.3646 - val_loss: 0.1803 - val_mae: 0.3522\n",
      "Epoch 357/500\n",
      "5/5 [==============================] - 1s 189ms/step - loss: 0.1803 - mae: 0.3498 - val_loss: 0.1673 - val_mae: 0.3362\n",
      "Epoch 358/500\n",
      "5/5 [==============================] - 1s 185ms/step - loss: 0.1713 - mae: 0.3419 - val_loss: 0.1647 - val_mae: 0.3381\n",
      "Epoch 359/500\n",
      "5/5 [==============================] - 1s 187ms/step - loss: 0.1673 - mae: 0.3391 - val_loss: 0.1655 - val_mae: 0.3374\n",
      "Epoch 360/500\n",
      "5/5 [==============================] - 1s 189ms/step - loss: 0.1678 - mae: 0.3389 - val_loss: 0.1638 - val_mae: 0.3362\n",
      "Epoch 361/500\n",
      "5/5 [==============================] - 1s 187ms/step - loss: 0.1724 - mae: 0.3426 - val_loss: 0.1758 - val_mae: 0.3460\n",
      "Epoch 362/500\n",
      "5/5 [==============================] - 1s 190ms/step - loss: 0.1739 - mae: 0.3470 - val_loss: 0.1608 - val_mae: 0.3332\n",
      "Epoch 363/500\n",
      "5/5 [==============================] - 1s 186ms/step - loss: 0.1656 - mae: 0.3353 - val_loss: 0.1741 - val_mae: 0.3433\n",
      "Epoch 364/500\n",
      "5/5 [==============================] - 1s 184ms/step - loss: 0.1746 - mae: 0.3454 - val_loss: 0.1680 - val_mae: 0.3390\n",
      "Epoch 365/500\n",
      "5/5 [==============================] - 1s 184ms/step - loss: 0.1798 - mae: 0.3506 - val_loss: 0.1564 - val_mae: 0.3290\n",
      "Epoch 366/500\n",
      "5/5 [==============================] - 1s 189ms/step - loss: 0.1621 - mae: 0.3326 - val_loss: 0.1596 - val_mae: 0.3323\n",
      "Epoch 367/500\n",
      "5/5 [==============================] - 1s 191ms/step - loss: 0.1684 - mae: 0.3393 - val_loss: 0.2023 - val_mae: 0.3671\n",
      "Epoch 368/500\n",
      "5/5 [==============================] - 1s 191ms/step - loss: 0.1978 - mae: 0.3677 - val_loss: 0.2342 - val_mae: 0.3905\n",
      "Epoch 369/500\n",
      "5/5 [==============================] - 1s 195ms/step - loss: 0.2318 - mae: 0.3917 - val_loss: 0.1744 - val_mae: 0.3445\n",
      "Epoch 370/500\n",
      "5/5 [==============================] - 1s 195ms/step - loss: 0.1942 - mae: 0.3580 - val_loss: 0.2009 - val_mae: 0.3660\n",
      "Epoch 371/500\n",
      "5/5 [==============================] - 1s 194ms/step - loss: 0.1892 - mae: 0.3575 - val_loss: 0.1722 - val_mae: 0.3457\n",
      "Epoch 372/500\n",
      "5/5 [==============================] - 1s 187ms/step - loss: 0.1780 - mae: 0.3470 - val_loss: 0.1741 - val_mae: 0.3418\n",
      "Epoch 373/500\n",
      "5/5 [==============================] - 1s 190ms/step - loss: 0.1826 - mae: 0.3513 - val_loss: 0.1774 - val_mae: 0.3527\n",
      "Epoch 374/500\n",
      "5/5 [==============================] - 1s 188ms/step - loss: 0.1828 - mae: 0.3546 - val_loss: 0.1603 - val_mae: 0.3327\n",
      "Epoch 375/500\n",
      "5/5 [==============================] - 1s 188ms/step - loss: 0.1849 - mae: 0.3541 - val_loss: 0.1770 - val_mae: 0.3440\n",
      "Epoch 376/500\n",
      "5/5 [==============================] - 1s 190ms/step - loss: 0.1804 - mae: 0.3510 - val_loss: 0.2112 - val_mae: 0.3760\n",
      "Epoch 377/500\n",
      "5/5 [==============================] - 1s 188ms/step - loss: 0.2239 - mae: 0.3889 - val_loss: 0.1604 - val_mae: 0.3339\n",
      "Epoch 378/500\n",
      "5/5 [==============================] - 1s 188ms/step - loss: 0.1892 - mae: 0.3577 - val_loss: 0.1839 - val_mae: 0.3531\n",
      "Epoch 379/500\n",
      "5/5 [==============================] - 1s 186ms/step - loss: 0.1761 - mae: 0.3457 - val_loss: 0.1887 - val_mae: 0.3551\n",
      "Epoch 380/500\n"
     ]
    },
    {
     "name": "stdout",
     "output_type": "stream",
     "text": [
      "5/5 [==============================] - 1s 186ms/step - loss: 0.1856 - mae: 0.3511 - val_loss: 0.1592 - val_mae: 0.3321\n",
      "Epoch 381/500\n",
      "5/5 [==============================] - 1s 189ms/step - loss: 0.1700 - mae: 0.3405 - val_loss: 0.1687 - val_mae: 0.3389\n",
      "Epoch 382/500\n",
      "5/5 [==============================] - 1s 196ms/step - loss: 0.1743 - mae: 0.3426 - val_loss: 0.1624 - val_mae: 0.3334\n",
      "Epoch 383/500\n",
      "5/5 [==============================] - 1s 194ms/step - loss: 0.1745 - mae: 0.3427 - val_loss: 0.1962 - val_mae: 0.3640\n",
      "Epoch 384/500\n",
      "5/5 [==============================] - 1s 198ms/step - loss: 0.1735 - mae: 0.3432 - val_loss: 0.1630 - val_mae: 0.3358\n",
      "Epoch 385/500\n",
      "5/5 [==============================] - 1s 204ms/step - loss: 0.1687 - mae: 0.3399 - val_loss: 0.1558 - val_mae: 0.3282\n",
      "Epoch 386/500\n",
      "5/5 [==============================] - 1s 210ms/step - loss: 0.1619 - mae: 0.3325 - val_loss: 0.1671 - val_mae: 0.3396\n",
      "Epoch 387/500\n",
      "5/5 [==============================] - 1s 192ms/step - loss: 0.1706 - mae: 0.3422 - val_loss: 0.1623 - val_mae: 0.3340\n",
      "Epoch 388/500\n",
      "5/5 [==============================] - 1s 193ms/step - loss: 0.1655 - mae: 0.3351 - val_loss: 0.1723 - val_mae: 0.3415\n",
      "Epoch 389/500\n",
      "5/5 [==============================] - 1s 191ms/step - loss: 0.1770 - mae: 0.3464 - val_loss: 0.1548 - val_mae: 0.3265\n",
      "Epoch 390/500\n",
      "5/5 [==============================] - 1s 187ms/step - loss: 0.1653 - mae: 0.3363 - val_loss: 0.1809 - val_mae: 0.3514\n",
      "Epoch 391/500\n",
      "5/5 [==============================] - 1s 187ms/step - loss: 0.1870 - mae: 0.3570 - val_loss: 0.1702 - val_mae: 0.3401\n",
      "Epoch 392/500\n",
      "5/5 [==============================] - 1s 188ms/step - loss: 0.2243 - mae: 0.3865 - val_loss: 0.1785 - val_mae: 0.3469\n",
      "Epoch 393/500\n",
      "5/5 [==============================] - 1s 192ms/step - loss: 0.1960 - mae: 0.3585 - val_loss: 0.1991 - val_mae: 0.3643\n",
      "Epoch 394/500\n",
      "5/5 [==============================] - 1s 185ms/step - loss: 0.1873 - mae: 0.3579 - val_loss: 0.1762 - val_mae: 0.3491\n",
      "Epoch 395/500\n",
      "5/5 [==============================] - 1s 191ms/step - loss: 0.1856 - mae: 0.3533 - val_loss: 0.1692 - val_mae: 0.3399\n",
      "Epoch 396/500\n",
      "5/5 [==============================] - 1s 187ms/step - loss: 0.1841 - mae: 0.3494 - val_loss: 0.1667 - val_mae: 0.3358\n",
      "Epoch 397/500\n",
      "5/5 [==============================] - 1s 187ms/step - loss: 0.1567 - mae: 0.3274 - val_loss: 0.1530 - val_mae: 0.3266\n",
      "Epoch 398/500\n",
      "5/5 [==============================] - 1s 190ms/step - loss: 0.1617 - mae: 0.3328 - val_loss: 0.1573 - val_mae: 0.3285\n",
      "Epoch 399/500\n",
      "5/5 [==============================] - 1s 187ms/step - loss: 0.1588 - mae: 0.3280 - val_loss: 0.1553 - val_mae: 0.3258\n",
      "Epoch 400/500\n",
      "5/5 [==============================] - 1s 188ms/step - loss: 0.1711 - mae: 0.3401 - val_loss: 0.1590 - val_mae: 0.3281\n",
      "Epoch 401/500\n",
      "5/5 [==============================] - 1s 186ms/step - loss: 0.1740 - mae: 0.3432 - val_loss: 0.1736 - val_mae: 0.3433\n",
      "Epoch 402/500\n",
      "5/5 [==============================] - 1s 187ms/step - loss: 0.1843 - mae: 0.3540 - val_loss: 0.1894 - val_mae: 0.3565\n",
      "Epoch 403/500\n",
      "5/5 [==============================] - 1s 188ms/step - loss: 0.1812 - mae: 0.3514 - val_loss: 0.1681 - val_mae: 0.3417\n",
      "Epoch 404/500\n",
      "5/5 [==============================] - 1s 187ms/step - loss: 0.1760 - mae: 0.3459 - val_loss: 0.1835 - val_mae: 0.3508\n",
      "Epoch 405/500\n",
      "5/5 [==============================] - 1s 191ms/step - loss: 0.1909 - mae: 0.3573 - val_loss: 0.1521 - val_mae: 0.3250\n",
      "Epoch 406/500\n",
      "5/5 [==============================] - 1s 189ms/step - loss: 0.1652 - mae: 0.3315 - val_loss: 0.1731 - val_mae: 0.3419\n",
      "Epoch 407/500\n",
      "5/5 [==============================] - 1s 197ms/step - loss: 0.1671 - mae: 0.3343 - val_loss: 0.1456 - val_mae: 0.3197\n",
      "Epoch 408/500\n",
      "5/5 [==============================] - 1s 192ms/step - loss: 0.1492 - mae: 0.3194 - val_loss: 0.1539 - val_mae: 0.3237\n",
      "Epoch 409/500\n",
      "5/5 [==============================] - 1s 188ms/step - loss: 0.1532 - mae: 0.3232 - val_loss: 0.1514 - val_mae: 0.3223\n",
      "Epoch 410/500\n",
      "5/5 [==============================] - 1s 187ms/step - loss: 0.1506 - mae: 0.3201 - val_loss: 0.1461 - val_mae: 0.3178\n",
      "Epoch 411/500\n",
      "5/5 [==============================] - 1s 185ms/step - loss: 0.1500 - mae: 0.3205 - val_loss: 0.1440 - val_mae: 0.3167\n",
      "Epoch 412/500\n",
      "5/5 [==============================] - 1s 185ms/step - loss: 0.1540 - mae: 0.3251 - val_loss: 0.1649 - val_mae: 0.3355\n",
      "Epoch 413/500\n",
      "5/5 [==============================] - 1s 190ms/step - loss: 0.1543 - mae: 0.3201 - val_loss: 0.1501 - val_mae: 0.3184\n",
      "Epoch 414/500\n",
      "5/5 [==============================] - 1s 187ms/step - loss: 0.1493 - mae: 0.3202 - val_loss: 0.1734 - val_mae: 0.3423\n",
      "Epoch 415/500\n",
      "5/5 [==============================] - 1s 188ms/step - loss: 0.1572 - mae: 0.3231 - val_loss: 0.1370 - val_mae: 0.3073\n",
      "Epoch 416/500\n",
      "5/5 [==============================] - 1s 188ms/step - loss: 0.1528 - mae: 0.3230 - val_loss: 0.1455 - val_mae: 0.3184\n",
      "Epoch 417/500\n",
      "5/5 [==============================] - 1s 186ms/step - loss: 0.1433 - mae: 0.3131 - val_loss: 0.1554 - val_mae: 0.3270\n",
      "Epoch 418/500\n",
      "5/5 [==============================] - 1s 187ms/step - loss: 0.1567 - mae: 0.3264 - val_loss: 0.1513 - val_mae: 0.3206\n",
      "Epoch 419/500\n",
      "5/5 [==============================] - 1s 186ms/step - loss: 0.1668 - mae: 0.3369 - val_loss: 0.1379 - val_mae: 0.3073\n",
      "Epoch 420/500\n",
      "5/5 [==============================] - 1s 194ms/step - loss: 0.1604 - mae: 0.3292 - val_loss: 0.1940 - val_mae: 0.3599\n",
      "Epoch 421/500\n",
      "5/5 [==============================] - 1s 197ms/step - loss: 0.1717 - mae: 0.3395 - val_loss: 0.1735 - val_mae: 0.3407\n",
      "Epoch 422/500\n",
      "5/5 [==============================] - 1s 190ms/step - loss: 0.2256 - mae: 0.3821 - val_loss: 0.1807 - val_mae: 0.3496\n",
      "Epoch 423/500\n",
      "5/5 [==============================] - 1s 187ms/step - loss: 0.1901 - mae: 0.3544 - val_loss: 0.1877 - val_mae: 0.3533\n",
      "Epoch 424/500\n",
      "5/5 [==============================] - 1s 185ms/step - loss: 0.1801 - mae: 0.3489 - val_loss: 0.1612 - val_mae: 0.3296\n",
      "Epoch 425/500\n",
      "5/5 [==============================] - 1s 186ms/step - loss: 0.1595 - mae: 0.3296 - val_loss: 0.1416 - val_mae: 0.3129\n",
      "Epoch 426/500\n",
      "5/5 [==============================] - 1s 191ms/step - loss: 0.1483 - mae: 0.3182 - val_loss: 0.1508 - val_mae: 0.3210\n",
      "Epoch 427/500\n",
      "5/5 [==============================] - 1s 187ms/step - loss: 0.1455 - mae: 0.3151 - val_loss: 0.1374 - val_mae: 0.3058\n",
      "Epoch 428/500\n",
      "5/5 [==============================] - 1s 189ms/step - loss: 0.1496 - mae: 0.3173 - val_loss: 0.1351 - val_mae: 0.3052\n",
      "Epoch 429/500\n",
      "5/5 [==============================] - 1s 189ms/step - loss: 0.1650 - mae: 0.3308 - val_loss: 0.1912 - val_mae: 0.3559\n",
      "Epoch 430/500\n",
      "5/5 [==============================] - 1s 189ms/step - loss: 0.1580 - mae: 0.3254 - val_loss: 0.1384 - val_mae: 0.3065\n",
      "Epoch 431/500\n",
      "5/5 [==============================] - 1s 191ms/step - loss: 0.1390 - mae: 0.3072 - val_loss: 0.1685 - val_mae: 0.3331\n",
      "Epoch 432/500\n",
      "5/5 [==============================] - 1s 191ms/step - loss: 0.1785 - mae: 0.3399 - val_loss: 0.1670 - val_mae: 0.3328\n",
      "Epoch 433/500\n",
      "5/5 [==============================] - 1s 191ms/step - loss: 0.1774 - mae: 0.3426 - val_loss: 0.1851 - val_mae: 0.3464\n",
      "Epoch 434/500\n",
      "5/5 [==============================] - 1s 189ms/step - loss: 0.1793 - mae: 0.3457 - val_loss: 0.1448 - val_mae: 0.3162\n",
      "Epoch 435/500\n",
      "5/5 [==============================] - 1s 194ms/step - loss: 0.1448 - mae: 0.3130 - val_loss: 0.1310 - val_mae: 0.2995\n",
      "Epoch 436/500\n",
      "5/5 [==============================] - 1s 186ms/step - loss: 0.1352 - mae: 0.3035 - val_loss: 0.1375 - val_mae: 0.3045\n",
      "Epoch 437/500\n",
      "5/5 [==============================] - 1s 188ms/step - loss: 0.1357 - mae: 0.3019 - val_loss: 0.1349 - val_mae: 0.3045\n",
      "Epoch 438/500\n",
      "5/5 [==============================] - 1s 195ms/step - loss: 0.1386 - mae: 0.3048 - val_loss: 0.1261 - val_mae: 0.2932\n",
      "Epoch 439/500\n",
      "5/5 [==============================] - 1s 192ms/step - loss: 0.1411 - mae: 0.3077 - val_loss: 0.1379 - val_mae: 0.3056\n",
      "Epoch 440/500\n",
      "5/5 [==============================] - 1s 195ms/step - loss: 0.1615 - mae: 0.3276 - val_loss: 0.1515 - val_mae: 0.3208\n",
      "Epoch 441/500\n",
      "5/5 [==============================] - 1s 192ms/step - loss: 0.1539 - mae: 0.3240 - val_loss: 0.1406 - val_mae: 0.3076\n"
     ]
    },
    {
     "name": "stdout",
     "output_type": "stream",
     "text": [
      "Epoch 442/500\n",
      "5/5 [==============================] - 1s 186ms/step - loss: 0.1308 - mae: 0.2964 - val_loss: 0.1275 - val_mae: 0.2949\n",
      "Epoch 443/500\n",
      "5/5 [==============================] - 1s 191ms/step - loss: 0.1565 - mae: 0.3200 - val_loss: 0.1653 - val_mae: 0.3280\n",
      "Epoch 444/500\n",
      "5/5 [==============================] - 1s 187ms/step - loss: 0.1490 - mae: 0.3133 - val_loss: 0.1261 - val_mae: 0.2940\n",
      "Epoch 445/500\n",
      "5/5 [==============================] - 1s 190ms/step - loss: 0.1307 - mae: 0.2940 - val_loss: 0.1278 - val_mae: 0.2933\n",
      "Epoch 446/500\n",
      "5/5 [==============================] - 1s 188ms/step - loss: 0.1273 - mae: 0.2929 - val_loss: 0.1180 - val_mae: 0.2822\n",
      "Epoch 447/500\n",
      "5/5 [==============================] - 1s 193ms/step - loss: 0.1197 - mae: 0.2799 - val_loss: 0.1764 - val_mae: 0.3456\n",
      "Epoch 448/500\n",
      "5/5 [==============================] - 1s 189ms/step - loss: 0.1373 - mae: 0.2995 - val_loss: 0.1269 - val_mae: 0.2896\n",
      "Epoch 449/500\n",
      "5/5 [==============================] - 1s 186ms/step - loss: 0.1313 - mae: 0.2961 - val_loss: 0.1400 - val_mae: 0.3066\n",
      "Epoch 450/500\n",
      "5/5 [==============================] - 1s 184ms/step - loss: 0.1260 - mae: 0.2889 - val_loss: 0.1379 - val_mae: 0.3045\n",
      "Epoch 451/500\n",
      "5/5 [==============================] - 1s 181ms/step - loss: 0.1252 - mae: 0.2898 - val_loss: 0.1420 - val_mae: 0.3091\n",
      "Epoch 452/500\n",
      "5/5 [==============================] - 1s 196ms/step - loss: 0.1317 - mae: 0.2976 - val_loss: 0.1914 - val_mae: 0.3605\n",
      "Epoch 453/500\n",
      "5/5 [==============================] - 1s 192ms/step - loss: 0.1416 - mae: 0.3082 - val_loss: 0.1165 - val_mae: 0.2790\n",
      "Epoch 454/500\n",
      "5/5 [==============================] - 1s 192ms/step - loss: 0.1506 - mae: 0.3134 - val_loss: 0.1629 - val_mae: 0.3287\n",
      "Epoch 455/500\n",
      "5/5 [==============================] - 1s 187ms/step - loss: 0.1487 - mae: 0.3128 - val_loss: 0.1389 - val_mae: 0.3056\n",
      "Epoch 456/500\n",
      "5/5 [==============================] - 1s 187ms/step - loss: 0.1307 - mae: 0.2943 - val_loss: 0.1317 - val_mae: 0.2941\n",
      "Epoch 457/500\n",
      "5/5 [==============================] - 1s 189ms/step - loss: 0.1325 - mae: 0.2986 - val_loss: 0.1306 - val_mae: 0.2947\n",
      "Epoch 458/500\n",
      "5/5 [==============================] - 1s 194ms/step - loss: 0.1281 - mae: 0.2936 - val_loss: 0.1147 - val_mae: 0.2764\n",
      "Epoch 459/500\n",
      "5/5 [==============================] - 1s 197ms/step - loss: 0.1223 - mae: 0.2861 - val_loss: 0.1104 - val_mae: 0.2731\n",
      "Epoch 460/500\n",
      "5/5 [==============================] - 1s 192ms/step - loss: 0.1160 - mae: 0.2768 - val_loss: 0.1227 - val_mae: 0.2866\n",
      "Epoch 461/500\n",
      "5/5 [==============================] - 1s 186ms/step - loss: 0.1127 - mae: 0.2733 - val_loss: 0.1055 - val_mae: 0.2631\n",
      "Epoch 462/500\n",
      "5/5 [==============================] - 1s 184ms/step - loss: 0.1107 - mae: 0.2717 - val_loss: 0.1010 - val_mae: 0.2583\n",
      "Epoch 463/500\n",
      "5/5 [==============================] - 1s 188ms/step - loss: 0.1098 - mae: 0.2642 - val_loss: 0.1023 - val_mae: 0.2615\n",
      "Epoch 464/500\n",
      "5/5 [==============================] - 1s 187ms/step - loss: 0.1066 - mae: 0.2636 - val_loss: 0.1655 - val_mae: 0.3347\n",
      "Epoch 465/500\n",
      "5/5 [==============================] - 1s 188ms/step - loss: 0.1412 - mae: 0.3040 - val_loss: 0.2105 - val_mae: 0.3708\n",
      "Epoch 466/500\n",
      "5/5 [==============================] - 1s 186ms/step - loss: 0.2181 - mae: 0.3795 - val_loss: 0.1495 - val_mae: 0.3164\n",
      "Epoch 467/500\n",
      "5/5 [==============================] - 1s 186ms/step - loss: 0.1771 - mae: 0.3439 - val_loss: 0.2454 - val_mae: 0.4091\n",
      "Epoch 468/500\n",
      "5/5 [==============================] - 1s 185ms/step - loss: 0.1828 - mae: 0.3476 - val_loss: 0.1156 - val_mae: 0.2778\n",
      "Epoch 469/500\n",
      "5/5 [==============================] - 1s 188ms/step - loss: 0.1212 - mae: 0.2828 - val_loss: 0.1620 - val_mae: 0.3286\n",
      "Epoch 470/500\n",
      "5/5 [==============================] - 1s 188ms/step - loss: 0.1414 - mae: 0.3062 - val_loss: 0.1223 - val_mae: 0.2851\n",
      "Epoch 471/500\n",
      "5/5 [==============================] - 1s 189ms/step - loss: 0.1114 - mae: 0.2716 - val_loss: 0.1114 - val_mae: 0.2705\n",
      "Epoch 472/500\n",
      "5/5 [==============================] - 1s 194ms/step - loss: 0.1130 - mae: 0.2749 - val_loss: 0.1172 - val_mae: 0.2748\n",
      "Epoch 473/500\n",
      "5/5 [==============================] - 1s 190ms/step - loss: 0.1445 - mae: 0.3070 - val_loss: 0.2026 - val_mae: 0.3705\n",
      "Epoch 474/500\n",
      "5/5 [==============================] - 1s 185ms/step - loss: 0.1887 - mae: 0.3586 - val_loss: 0.1333 - val_mae: 0.2971\n",
      "Epoch 475/500\n",
      "5/5 [==============================] - 1s 186ms/step - loss: 0.1532 - mae: 0.3207 - val_loss: 0.1224 - val_mae: 0.2874\n",
      "Epoch 476/500\n",
      "5/5 [==============================] - 1s 190ms/step - loss: 0.1261 - mae: 0.2883 - val_loss: 0.1534 - val_mae: 0.3145\n",
      "Epoch 477/500\n",
      "5/5 [==============================] - 1s 189ms/step - loss: 0.1365 - mae: 0.2976 - val_loss: 0.1809 - val_mae: 0.3452\n",
      "Epoch 478/500\n",
      "5/5 [==============================] - 1s 188ms/step - loss: 0.1475 - mae: 0.3105 - val_loss: 0.1210 - val_mae: 0.2848\n",
      "Epoch 479/500\n",
      "5/5 [==============================] - 1s 190ms/step - loss: 0.1327 - mae: 0.2940 - val_loss: 0.1058 - val_mae: 0.2631\n",
      "Epoch 480/500\n",
      "5/5 [==============================] - 1s 199ms/step - loss: 0.1198 - mae: 0.2794 - val_loss: 0.1717 - val_mae: 0.3416\n",
      "Epoch 481/500\n",
      "5/5 [==============================] - 1s 192ms/step - loss: 0.1418 - mae: 0.3041 - val_loss: 0.1590 - val_mae: 0.3282\n",
      "Epoch 482/500\n",
      "5/5 [==============================] - 1s 193ms/step - loss: 0.1264 - mae: 0.2863 - val_loss: 0.2325 - val_mae: 0.4064\n",
      "Epoch 483/500\n",
      "5/5 [==============================] - 1s 188ms/step - loss: 0.1853 - mae: 0.3496 - val_loss: 0.2213 - val_mae: 0.3937\n",
      "Epoch 484/500\n",
      "5/5 [==============================] - 1s 195ms/step - loss: 0.1861 - mae: 0.3521 - val_loss: 0.1958 - val_mae: 0.3660\n",
      "Epoch 485/500\n",
      "5/5 [==============================] - 1s 191ms/step - loss: 0.1602 - mae: 0.3260 - val_loss: 0.2181 - val_mae: 0.3864\n",
      "Epoch 486/500\n",
      "5/5 [==============================] - 1s 190ms/step - loss: 0.1587 - mae: 0.3221 - val_loss: 0.1084 - val_mae: 0.2702\n",
      "Epoch 487/500\n",
      "5/5 [==============================] - 1s 196ms/step - loss: 0.1138 - mae: 0.2723 - val_loss: 0.1087 - val_mae: 0.2685\n",
      "Epoch 488/500\n",
      "5/5 [==============================] - 1s 188ms/step - loss: 0.1177 - mae: 0.2774 - val_loss: 0.1521 - val_mae: 0.3203\n",
      "Epoch 489/500\n",
      "5/5 [==============================] - 1s 191ms/step - loss: 0.1324 - mae: 0.2963 - val_loss: 0.0960 - val_mae: 0.2496\n",
      "Epoch 490/500\n",
      "5/5 [==============================] - 1s 189ms/step - loss: 0.1178 - mae: 0.2751 - val_loss: 0.0945 - val_mae: 0.2458\n",
      "Epoch 491/500\n",
      "5/5 [==============================] - 1s 192ms/step - loss: 0.1158 - mae: 0.2744 - val_loss: 0.1468 - val_mae: 0.3142\n",
      "Epoch 492/500\n",
      "5/5 [==============================] - 1s 186ms/step - loss: 0.1233 - mae: 0.2804 - val_loss: 0.1035 - val_mae: 0.2588\n",
      "Epoch 493/500\n",
      "5/5 [==============================] - 1s 186ms/step - loss: 0.1310 - mae: 0.2905 - val_loss: 0.1021 - val_mae: 0.2579\n",
      "Epoch 494/500\n",
      "5/5 [==============================] - 1s 196ms/step - loss: 0.1317 - mae: 0.2925 - val_loss: 0.1650 - val_mae: 0.3408\n",
      "Epoch 495/500\n",
      "5/5 [==============================] - 1s 195ms/step - loss: 0.1265 - mae: 0.2897 - val_loss: 0.1492 - val_mae: 0.3211\n",
      "Epoch 496/500\n",
      "5/5 [==============================] - 1s 200ms/step - loss: 0.1120 - mae: 0.2708 - val_loss: 0.1217 - val_mae: 0.2856\n",
      "Epoch 497/500\n",
      "5/5 [==============================] - 1s 197ms/step - loss: 0.1012 - mae: 0.2558 - val_loss: 0.0852 - val_mae: 0.2324\n",
      "Epoch 498/500\n",
      "5/5 [==============================] - 1s 194ms/step - loss: 0.1045 - mae: 0.2577 - val_loss: 0.0927 - val_mae: 0.2421\n",
      "Epoch 499/500\n",
      "5/5 [==============================] - 1s 187ms/step - loss: 0.0875 - mae: 0.2377 - val_loss: 0.0771 - val_mae: 0.2186\n",
      "Epoch 500/500\n",
      "5/5 [==============================] - 1s 184ms/step - loss: 0.0937 - mae: 0.2453 - val_loss: 0.0747 - val_mae: 0.2174\n"
     ]
    }
   ],
   "source": [
    "from tensorflow.keras import datasets, layers, models\n",
    "from tensorflow import keras\n",
    "from tensorflow.keras import layers\n",
    "\n",
    "model = models.Sequential()\n",
    "model.add(layers.SimpleRNN(2048, input_shape=(time_step,2)))\n",
    "model.add(layers.Dense(25))\n",
    "\n",
    "model.summary()\n",
    "\n",
    "model.compile(optimizer='adam', loss='mse', metrics=['mae'])\n",
    "\n",
    "history = model.fit(train_input, train_label, epochs=500, verbose=1, shuffle=True, validation_split=0.20,\n",
    "                   callbacks=[WandbCallback(log_weights=True, log_gradients=True, training_data=(train_input, train_label))])"
   ]
  },
  {
   "cell_type": "code",
   "execution_count": 17,
   "id": "f2977e3d",
   "metadata": {},
   "outputs": [
    {
     "name": "stdout",
     "output_type": "stream",
     "text": [
      "1/1 [==============================] - 0s 94ms/step\n"
     ]
    }
   ],
   "source": [
    "test_input = test_input.reshape(1, test_input.shape[0], test_input.shape[1])\n",
    "\n",
    "y_hat = model.predict(test_input)"
   ]
  },
  {
   "cell_type": "code",
   "execution_count": 18,
   "id": "569d2b27",
   "metadata": {},
   "outputs": [
    {
     "data": {
      "text/plain": [
       "(1, 100, 2)"
      ]
     },
     "execution_count": 18,
     "metadata": {},
     "output_type": "execute_result"
    }
   ],
   "source": [
    "test_input.shape"
   ]
  },
  {
   "cell_type": "code",
   "execution_count": 19,
   "id": "6b083de8",
   "metadata": {},
   "outputs": [],
   "source": [
    "test_label = test_label.reshape(1, test_label.shape[0], test_label.shape[1])"
   ]
  },
  {
   "cell_type": "code",
   "execution_count": 20,
   "id": "54e7a073",
   "metadata": {},
   "outputs": [
    {
     "data": {
      "text/plain": [
       "(1, 25, 1)"
      ]
     },
     "execution_count": 20,
     "metadata": {},
     "output_type": "execute_result"
    }
   ],
   "source": [
    "test_label.shape"
   ]
  },
  {
   "cell_type": "code",
   "execution_count": 21,
   "id": "b3e0c133",
   "metadata": {},
   "outputs": [
    {
     "data": {
      "text/plain": [
       "array([[1.4911094, 1.4895575, 1.598749 , 1.4751511, 1.6755772, 1.6477524,\n",
       "        1.6704409, 1.4730486, 1.6177357, 1.5770041, 1.6747891, 1.7286624,\n",
       "        1.671335 , 1.5819097, 1.7305537, 1.5387019, 1.7529417, 1.7391627,\n",
       "        1.6615528, 1.6933279, 1.7493718, 1.646392 , 1.771129 , 1.8420107,\n",
       "        1.6754766]], dtype=float32)"
      ]
     },
     "execution_count": 21,
     "metadata": {},
     "output_type": "execute_result"
    }
   ],
   "source": [
    "y_hat"
   ]
  },
  {
   "cell_type": "code",
   "execution_count": 22,
   "id": "e37311d1",
   "metadata": {},
   "outputs": [
    {
     "data": {
      "text/plain": [
       "(1, 25)"
      ]
     },
     "execution_count": 22,
     "metadata": {},
     "output_type": "execute_result"
    }
   ],
   "source": [
    "y_hat.shape"
   ]
  },
  {
   "cell_type": "code",
   "execution_count": 23,
   "id": "ad0f0285",
   "metadata": {},
   "outputs": [],
   "source": [
    "y_hat = y_hat.reshape(y_hat.shape[1], 1)"
   ]
  },
  {
   "cell_type": "code",
   "execution_count": 24,
   "id": "69ea1f6f",
   "metadata": {},
   "outputs": [],
   "source": [
    "y_hat = (y_hat*data_std)+data_mean"
   ]
  },
  {
   "cell_type": "code",
   "execution_count": 25,
   "id": "702f2214",
   "metadata": {},
   "outputs": [],
   "source": [
    "#print(scaler.data_max_)"
   ]
  },
  {
   "cell_type": "code",
   "execution_count": 26,
   "id": "1ca1a387",
   "metadata": {},
   "outputs": [],
   "source": [
    "#print(scaler.data_min_)"
   ]
  },
  {
   "cell_type": "code",
   "execution_count": 27,
   "id": "5e40982b",
   "metadata": {},
   "outputs": [],
   "source": [
    "#y_hat = y_hat * (scaler.data_max_[1]-scaler.data_min_[1]) + scaler.data_min_[1]"
   ]
  },
  {
   "cell_type": "code",
   "execution_count": 28,
   "id": "902bb0d7",
   "metadata": {},
   "outputs": [
    {
     "data": {
      "text/plain": [
       "Text(0.5, 1.0, 'RNN prediction')"
      ]
     },
     "execution_count": 28,
     "metadata": {},
     "output_type": "execute_result"
    },
    {
     "data": {
      "image/png": "[encoded data removed]",
      "text/plain": [
       "<Figure size 1008x576 with 1 Axes>"
      ]
     },
     "metadata": {
      "needs_background": "light"
     },
     "output_type": "display_data"
    }
   ],
   "source": [
    "import matplotlib.pyplot as plt\n",
    "\n",
    "x = range(325)\n",
    "plt.figure(figsize=(14,8))\n",
    "plt.plot(df[300:325]['Sales'], label='original')\n",
    "plt.plot(x[300:325], y_hat, label='prediction')\n",
    "plt.legend()\n",
    "plt.xlabel('Sequence', fontsize=20)\n",
    "plt.ylabel('Sales', fontsize=20)\n",
    "plt.title('RNN prediction', fontsize=25)"
   ]
  },
  {
   "cell_type": "code",
   "execution_count": 29,
   "id": "051887d3",
   "metadata": {
    "scrolled": true
   },
   "outputs": [
    {
     "name": "stdout",
     "output_type": "stream",
     "text": [
      "1/1 [==============================] - 0s 28ms/step - loss: 0.2121 - mae: 0.4012\n"
     ]
    },
    {
     "data": {
      "text/plain": [
       "[0.21213729679584503, 0.4011850655078888]"
      ]
     },
     "execution_count": 29,
     "metadata": {},
     "output_type": "execute_result"
    }
   ],
   "source": [
    "model.evaluate(test_input, test_label)"
   ]
  },
  {
   "cell_type": "code",
   "execution_count": null,
   "id": "2819448e",
   "metadata": {},
   "outputs": [],
   "source": []
  }
 ],
 "metadata": {
  "kernelspec": {
   "display_name": "Python 3 (ipykernel)",
   "language": "python",
   "name": "python3"
  },
  "language_info": {
   "codemirror_mode": {
    "name": "ipython",
    "version": 3
   },
   "file_extension": ".py",
   "mimetype": "text/x-python",
   "name": "python",
   "nbconvert_exporter": "python",
   "pygments_lexer": "ipython3",
   "version": "3.9.12"
  }
 },
 "nbformat": 4,
 "nbformat_minor": 5
}
