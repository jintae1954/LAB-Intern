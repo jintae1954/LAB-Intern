{
 "cells": [
  {
   "cell_type": "code",
   "execution_count": 1,
   "id": "9d9761e7",
   "metadata": {},
   "outputs": [
    {
     "name": "stderr",
     "output_type": "stream",
     "text": [
      "\u001b[34m\u001b[1mwandb\u001b[0m: Currently logged in as: \u001b[33mjintae\u001b[0m. Use \u001b[1m`wandb login --relogin`\u001b[0m to force relogin\n"
     ]
    },
    {
     "data": {
      "text/html": [
       "Tracking run with wandb version 0.13.4"
      ],
      "text/plain": [
       "<IPython.core.display.HTML object>"
      ]
     },
     "metadata": {},
     "output_type": "display_data"
    },
    {
     "data": {
      "text/html": [
       "Run data is saved locally in <code>C:\\Users\\PARK\\Documents\\LAB\\RNN vs LSTM\\FInal Example\\wandb\\run-20221018_151635-3el9trv5</code>"
      ],
      "text/plain": [
       "<IPython.core.display.HTML object>"
      ]
     },
     "metadata": {},
     "output_type": "display_data"
    },
    {
     "data": {
      "text/html": [
       "Syncing run <strong><a href=\"https://wandb.ai/jintae/LSTM%20seq%20128./runs/3el9trv5\" target=\"_blank\">epoch 500</a></strong> to <a href=\"https://wandb.ai/jintae/LSTM%20seq%20128.\" target=\"_blank\">Weights & Biases</a> (<a href=\"https://wandb.me/run\" target=\"_blank\">docs</a>)<br/>"
      ],
      "text/plain": [
       "<IPython.core.display.HTML object>"
      ]
     },
     "metadata": {},
     "output_type": "display_data"
    },
    {
     "data": {
      "text/html": [
       "<button onClick=\"this.nextSibling.style.display='block';this.style.display='none';\">Display W&B run</button><iframe src=\"https://wandb.ai/jintae/LSTM%20seq%20128./runs/3el9trv5?jupyter=true\" style=\"border:none;width:100%;height:420px;display:none;\"></iframe>"
      ],
      "text/plain": [
       "<wandb.sdk.wandb_run.Run at 0x2ae4ef33700>"
      ]
     },
     "execution_count": 1,
     "metadata": {},
     "output_type": "execute_result"
    }
   ],
   "source": [
    "import wandb\n",
    "from wandb.keras import WandbCallback\n",
    "wandb.init(project=\"LSTM seq 128.\", name=\"epoch 500\")"
   ]
  },
  {
   "cell_type": "code",
   "execution_count": 2,
   "id": "650bae84",
   "metadata": {},
   "outputs": [
    {
     "name": "stdout",
     "output_type": "stream",
     "text": [
      "   DATE  Sales\n",
      "0     0   3459\n",
      "1     1   3458\n",
      "2     2   4002\n",
      "3     3   4564\n",
      "4     4   4221\n"
     ]
    }
   ],
   "source": [
    "import pandas as pd\n",
    "\n",
    "df = pd.read_csv('C:/Users/PARK/Desktop/Alcohol_Sales.csv')\n",
    "print(df.head())"
   ]
  },
  {
   "cell_type": "code",
   "execution_count": 3,
   "id": "71e18e17",
   "metadata": {},
   "outputs": [
    {
     "data": {
      "text/plain": [
       "(325, 2)"
      ]
     },
     "execution_count": 3,
     "metadata": {},
     "output_type": "execute_result"
    }
   ],
   "source": [
    "df.shape"
   ]
  },
  {
   "cell_type": "code",
   "execution_count": 4,
   "id": "5f4f8fb7",
   "metadata": {},
   "outputs": [],
   "source": [
    "import numpy as np\n",
    "\n",
    "data = df.to_numpy()"
   ]
  },
  {
   "cell_type": "code",
   "execution_count": 5,
   "id": "c6063052",
   "metadata": {},
   "outputs": [
    {
     "data": {
      "text/plain": [
       "(325, 2)"
      ]
     },
     "execution_count": 5,
     "metadata": {},
     "output_type": "execute_result"
    }
   ],
   "source": [
    "data.shape"
   ]
  },
  {
   "cell_type": "code",
   "execution_count": 6,
   "id": "01930485",
   "metadata": {},
   "outputs": [
    {
     "data": {
      "text/plain": [
       "array([[   0, 3459],\n",
       "       [   1, 3458],\n",
       "       [   2, 4002],\n",
       "       [   3, 4564],\n",
       "       [   4, 4221]], dtype=int64)"
      ]
     },
     "execution_count": 6,
     "metadata": {},
     "output_type": "execute_result"
    }
   ],
   "source": [
    "data[0:5]"
   ]
  },
  {
   "cell_type": "code",
   "execution_count": 7,
   "id": "ad83b404",
   "metadata": {},
   "outputs": [],
   "source": [
    "# from sklearn.preprocessing import MinMaxScaler\n",
    "\n",
    "# scaler = MinMaxScaler()\n",
    "\n",
    "# data = scaler.fit_transform(data)"
   ]
  },
  {
   "cell_type": "code",
   "execution_count": 8,
   "id": "17aef2ea",
   "metadata": {},
   "outputs": [],
   "source": [
    "data_mean = data.mean()\n",
    "data_std = data.std()\n",
    "\n",
    "data = (data - data_mean)/data_std"
   ]
  },
  {
   "cell_type": "code",
   "execution_count": 9,
   "id": "63fe0032",
   "metadata": {},
   "outputs": [
    {
     "data": {
      "text/plain": [
       "array([[-0.9194862 , -0.12914209],\n",
       "       [-0.91925771, -0.12937058],\n",
       "       [-0.91902922, -0.00507246],\n",
       "       [-0.91880073,  0.12333846],\n",
       "       [-0.91857224,  0.04496667]])"
      ]
     },
     "execution_count": 9,
     "metadata": {},
     "output_type": "execute_result"
    }
   ],
   "source": [
    "data[0:5]"
   ]
  },
  {
   "cell_type": "code",
   "execution_count": 10,
   "id": "87ac24ef",
   "metadata": {
    "scrolled": true
   },
   "outputs": [],
   "source": [
    "train_input = []\n",
    "train_label = []\n",
    "\n",
    "data_len = 325\n",
    "time_step = 100\n",
    "out_dim = 25\n",
    "\n",
    "for i in range(176):\n",
    "    _input = data[i:i+time_step]\n",
    "    _label = data[i+time_step:i+time_step+out_dim]\n",
    "    \n",
    "    train_input.append(_input)\n",
    "    train_label.append(_label)\n",
    "    \n",
    "\n",
    "train_input = np.array(train_input)\n",
    "train_label = np.array(train_label)\n",
    "train_label = np.delete(train_label, 0, axis=2)\n",
    "\n",
    "\n",
    "test_input = np.array(data[data_len-out_dim-time_step:data_len-out_dim])\n",
    "test_label =np.array(data[300:325])\n",
    "test_label = np.delete(test_label, 0, axis=1)"
   ]
  },
  {
   "cell_type": "code",
   "execution_count": 11,
   "id": "41975dc7",
   "metadata": {},
   "outputs": [
    {
     "data": {
      "text/plain": [
       "(176, 100, 2)"
      ]
     },
     "execution_count": 11,
     "metadata": {},
     "output_type": "execute_result"
    }
   ],
   "source": [
    "train_input.shape"
   ]
  },
  {
   "cell_type": "code",
   "execution_count": 12,
   "id": "b762c3ba",
   "metadata": {},
   "outputs": [
    {
     "data": {
      "text/plain": [
       "(176, 25, 1)"
      ]
     },
     "execution_count": 12,
     "metadata": {},
     "output_type": "execute_result"
    }
   ],
   "source": [
    "train_label.shape"
   ]
  },
  {
   "cell_type": "code",
   "execution_count": 13,
   "id": "127c63a2",
   "metadata": {},
   "outputs": [
    {
     "data": {
      "text/plain": [
       "(100, 2)"
      ]
     },
     "execution_count": 13,
     "metadata": {},
     "output_type": "execute_result"
    }
   ],
   "source": [
    "test_input.shape"
   ]
  },
  {
   "cell_type": "code",
   "execution_count": 14,
   "id": "6647472d",
   "metadata": {},
   "outputs": [
    {
     "data": {
      "text/plain": [
       "(25, 1)"
      ]
     },
     "execution_count": 14,
     "metadata": {},
     "output_type": "execute_result"
    }
   ],
   "source": [
    "test_label.shape"
   ]
  },
  {
   "cell_type": "code",
   "execution_count": 15,
   "id": "5d83c07f",
   "metadata": {},
   "outputs": [],
   "source": [
    "np.random.seed(10)\n",
    "shuffled_indices = np.random.permutation(np.arange(train_input.shape[0]))\n",
    "train_input = train_input[shuffled_indices, :, :]\n",
    "train_label = train_label[shuffled_indices, :]"
   ]
  },
  {
   "cell_type": "code",
   "execution_count": 16,
   "id": "a183926e",
   "metadata": {
    "scrolled": true
   },
   "outputs": [
    {
     "name": "stdout",
     "output_type": "stream",
     "text": [
      "Model: \"sequential\"\n",
      "_________________________________________________________________\n",
      " Layer (type)                Output Shape              Param #   \n",
      "=================================================================\n",
      " lstm (LSTM)                 (None, 128)               67072     \n",
      "                                                                 \n",
      " dense (Dense)               (None, 25)                3225      \n",
      "                                                                 \n",
      "=================================================================\n",
      "Total params: 70,297\n",
      "Trainable params: 70,297\n",
      "Non-trainable params: 0\n",
      "_________________________________________________________________\n"
     ]
    },
    {
     "name": "stderr",
     "output_type": "stream",
     "text": [
      "\u001b[34m\u001b[1mwandb\u001b[0m: \u001b[33mWARNING\u001b[0m The save_model argument by default saves the model in the HDF5 format that cannot save custom objects like subclassed models and custom layers. This behavior will be deprecated in a future release in favor of the SavedModel format. Meanwhile, the HDF5 model is saved as W&B files and the SavedModel as W&B Artifacts.\n"
     ]
    },
    {
     "name": "stdout",
     "output_type": "stream",
     "text": [
      "Epoch 1/500\n",
      "4/5 [=======================>......] - ETA: 0s - loss: 1.2730 - mae: 1.0430 "
     ]
    },
    {
     "name": "stderr",
     "output_type": "stream",
     "text": [
      "WARNING:absl:Found untraced functions such as lstm_cell_layer_call_fn, lstm_cell_layer_call_and_return_conditional_losses while saving (showing 2 of 2). These functions will not be directly callable after loading.\n"
     ]
    },
    {
     "name": "stdout",
     "output_type": "stream",
     "text": [
      "INFO:tensorflow:Assets written to: C:\\Users\\PARK\\Documents\\LAB\\RNN vs LSTM\\FInal Example\\wandb\\run-20221018_151635-3el9trv5\\files\\model-best\\assets\n"
     ]
    },
    {
     "name": "stderr",
     "output_type": "stream",
     "text": [
      "INFO:tensorflow:Assets written to: C:\\Users\\PARK\\Documents\\LAB\\RNN vs LSTM\\FInal Example\\wandb\\run-20221018_151635-3el9trv5\\files\\model-best\\assets\n",
      "\u001b[34m\u001b[1mwandb\u001b[0m: Adding directory to artifact (C:\\Users\\PARK\\Documents\\LAB\\RNN vs LSTM\\FInal Example\\wandb\\run-20221018_151635-3el9trv5\\files\\model-best)... Done. 0.0s\n"
     ]
    },
    {
     "name": "stdout",
     "output_type": "stream",
     "text": [
      "5/5 [==============================] - 10s 1s/step - loss: 1.2621 - mae: 1.0356 - val_loss: 0.8777 - val_mae: 0.8375\n",
      "Epoch 2/500\n",
      "5/5 [==============================] - ETA: 0s - loss: 0.6272 - mae: 0.6655"
     ]
    },
    {
     "name": "stderr",
     "output_type": "stream",
     "text": [
      "WARNING:absl:Found untraced functions such as lstm_cell_layer_call_fn, lstm_cell_layer_call_and_return_conditional_losses while saving (showing 2 of 2). These functions will not be directly callable after loading.\n"
     ]
    },
    {
     "name": "stdout",
     "output_type": "stream",
     "text": [
      "INFO:tensorflow:Assets written to: C:\\Users\\PARK\\Documents\\LAB\\RNN vs LSTM\\FInal Example\\wandb\\run-20221018_151635-3el9trv5\\files\\model-best\\assets\n"
     ]
    },
    {
     "name": "stderr",
     "output_type": "stream",
     "text": [
      "INFO:tensorflow:Assets written to: C:\\Users\\PARK\\Documents\\LAB\\RNN vs LSTM\\FInal Example\\wandb\\run-20221018_151635-3el9trv5\\files\\model-best\\assets\n",
      "\u001b[34m\u001b[1mwandb\u001b[0m: Adding directory to artifact (C:\\Users\\PARK\\Documents\\LAB\\RNN vs LSTM\\FInal Example\\wandb\\run-20221018_151635-3el9trv5\\files\\model-best)... Done. 0.0s\n"
     ]
    },
    {
     "name": "stdout",
     "output_type": "stream",
     "text": [
      "5/5 [==============================] - 4s 987ms/step - loss: 0.6272 - mae: 0.6655 - val_loss: 0.3151 - val_mae: 0.4473\n",
      "Epoch 3/500\n",
      "5/5 [==============================] - ETA: 0s - loss: 0.2766 - mae: 0.4263"
     ]
    },
    {
     "name": "stderr",
     "output_type": "stream",
     "text": [
      "WARNING:absl:Found untraced functions such as lstm_cell_layer_call_fn, lstm_cell_layer_call_and_return_conditional_losses while saving (showing 2 of 2). These functions will not be directly callable after loading.\n"
     ]
    },
    {
     "name": "stdout",
     "output_type": "stream",
     "text": [
      "INFO:tensorflow:Assets written to: C:\\Users\\PARK\\Documents\\LAB\\RNN vs LSTM\\FInal Example\\wandb\\run-20221018_151635-3el9trv5\\files\\model-best\\assets\n"
     ]
    },
    {
     "name": "stderr",
     "output_type": "stream",
     "text": [
      "INFO:tensorflow:Assets written to: C:\\Users\\PARK\\Documents\\LAB\\RNN vs LSTM\\FInal Example\\wandb\\run-20221018_151635-3el9trv5\\files\\model-best\\assets\n",
      "\u001b[34m\u001b[1mwandb\u001b[0m: Adding directory to artifact (C:\\Users\\PARK\\Documents\\LAB\\RNN vs LSTM\\FInal Example\\wandb\\run-20221018_151635-3el9trv5\\files\\model-best)... Done. 0.0s\n"
     ]
    },
    {
     "name": "stdout",
     "output_type": "stream",
     "text": [
      "5/5 [==============================] - 4s 954ms/step - loss: 0.2766 - mae: 0.4263 - val_loss: 0.2002 - val_mae: 0.3669\n",
      "Epoch 4/500\n",
      "3/5 [=================>............] - ETA: 0s - loss: 0.1945 - mae: 0.3652"
     ]
    },
    {
     "name": "stderr",
     "output_type": "stream",
     "text": [
      "WARNING:absl:Found untraced functions such as lstm_cell_layer_call_fn, lstm_cell_layer_call_and_return_conditional_losses while saving (showing 2 of 2). These functions will not be directly callable after loading.\n"
     ]
    },
    {
     "name": "stdout",
     "output_type": "stream",
     "text": [
      "INFO:tensorflow:Assets written to: C:\\Users\\PARK\\Documents\\LAB\\RNN vs LSTM\\FInal Example\\wandb\\run-20221018_151635-3el9trv5\\files\\model-best\\assets\n"
     ]
    },
    {
     "name": "stderr",
     "output_type": "stream",
     "text": [
      "INFO:tensorflow:Assets written to: C:\\Users\\PARK\\Documents\\LAB\\RNN vs LSTM\\FInal Example\\wandb\\run-20221018_151635-3el9trv5\\files\\model-best\\assets\n",
      "\u001b[34m\u001b[1mwandb\u001b[0m: Adding directory to artifact (C:\\Users\\PARK\\Documents\\LAB\\RNN vs LSTM\\FInal Example\\wandb\\run-20221018_151635-3el9trv5\\files\\model-best)... Done. 0.0s\n"
     ]
    },
    {
     "name": "stdout",
     "output_type": "stream",
     "text": [
      "5/5 [==============================] - 4s 993ms/step - loss: 0.1827 - mae: 0.3517 - val_loss: 0.1853 - val_mae: 0.3547\n",
      "Epoch 5/500\n",
      "4/5 [=======================>......] - ETA: 0s - loss: 0.1886 - mae: 0.3550"
     ]
    },
    {
     "name": "stderr",
     "output_type": "stream",
     "text": [
      "WARNING:absl:Found untraced functions such as lstm_cell_layer_call_fn, lstm_cell_layer_call_and_return_conditional_losses while saving (showing 2 of 2). These functions will not be directly callable after loading.\n"
     ]
    },
    {
     "name": "stdout",
     "output_type": "stream",
     "text": [
      "INFO:tensorflow:Assets written to: C:\\Users\\PARK\\Documents\\LAB\\RNN vs LSTM\\FInal Example\\wandb\\run-20221018_151635-3el9trv5\\files\\model-best\\assets\n"
     ]
    },
    {
     "name": "stderr",
     "output_type": "stream",
     "text": [
      "INFO:tensorflow:Assets written to: C:\\Users\\PARK\\Documents\\LAB\\RNN vs LSTM\\FInal Example\\wandb\\run-20221018_151635-3el9trv5\\files\\model-best\\assets\n",
      "\u001b[34m\u001b[1mwandb\u001b[0m: Adding directory to artifact (C:\\Users\\PARK\\Documents\\LAB\\RNN vs LSTM\\FInal Example\\wandb\\run-20221018_151635-3el9trv5\\files\\model-best)... Done. 0.0s\n"
     ]
    },
    {
     "name": "stdout",
     "output_type": "stream",
     "text": [
      "5/5 [==============================] - 4s 936ms/step - loss: 0.1870 - mae: 0.3537 - val_loss: 0.1754 - val_mae: 0.3450\n",
      "Epoch 6/500\n",
      "5/5 [==============================] - ETA: 0s - loss: 0.1730 - mae: 0.3426"
     ]
    },
    {
     "name": "stderr",
     "output_type": "stream",
     "text": [
      "WARNING:absl:Found untraced functions such as lstm_cell_layer_call_fn, lstm_cell_layer_call_and_return_conditional_losses while saving (showing 2 of 2). These functions will not be directly callable after loading.\n"
     ]
    },
    {
     "name": "stdout",
     "output_type": "stream",
     "text": [
      "INFO:tensorflow:Assets written to: C:\\Users\\PARK\\Documents\\LAB\\RNN vs LSTM\\FInal Example\\wandb\\run-20221018_151635-3el9trv5\\files\\model-best\\assets\n"
     ]
    },
    {
     "name": "stderr",
     "output_type": "stream",
     "text": [
      "INFO:tensorflow:Assets written to: C:\\Users\\PARK\\Documents\\LAB\\RNN vs LSTM\\FInal Example\\wandb\\run-20221018_151635-3el9trv5\\files\\model-best\\assets\n",
      "\u001b[34m\u001b[1mwandb\u001b[0m: Adding directory to artifact (C:\\Users\\PARK\\Documents\\LAB\\RNN vs LSTM\\FInal Example\\wandb\\run-20221018_151635-3el9trv5\\files\\model-best)... Done. 0.0s\n"
     ]
    },
    {
     "name": "stdout",
     "output_type": "stream",
     "text": [
      "5/5 [==============================] - 4s 950ms/step - loss: 0.1730 - mae: 0.3426 - val_loss: 0.1603 - val_mae: 0.3320\n",
      "Epoch 7/500\n",
      "5/5 [==============================] - ETA: 0s - loss: 0.1613 - mae: 0.3315"
     ]
    },
    {
     "name": "stderr",
     "output_type": "stream",
     "text": [
      "WARNING:absl:Found untraced functions such as lstm_cell_layer_call_fn, lstm_cell_layer_call_and_return_conditional_losses while saving (showing 2 of 2). These functions will not be directly callable after loading.\n"
     ]
    },
    {
     "name": "stdout",
     "output_type": "stream",
     "text": [
      "INFO:tensorflow:Assets written to: C:\\Users\\PARK\\Documents\\LAB\\RNN vs LSTM\\FInal Example\\wandb\\run-20221018_151635-3el9trv5\\files\\model-best\\assets\n"
     ]
    },
    {
     "name": "stderr",
     "output_type": "stream",
     "text": [
      "INFO:tensorflow:Assets written to: C:\\Users\\PARK\\Documents\\LAB\\RNN vs LSTM\\FInal Example\\wandb\\run-20221018_151635-3el9trv5\\files\\model-best\\assets\n",
      "\u001b[34m\u001b[1mwandb\u001b[0m: Adding directory to artifact (C:\\Users\\PARK\\Documents\\LAB\\RNN vs LSTM\\FInal Example\\wandb\\run-20221018_151635-3el9trv5\\files\\model-best)... Done. 0.0s\n"
     ]
    },
    {
     "name": "stdout",
     "output_type": "stream",
     "text": [
      "5/5 [==============================] - 4s 937ms/step - loss: 0.1613 - mae: 0.3315 - val_loss: 0.1511 - val_mae: 0.3219\n",
      "Epoch 8/500\n",
      "5/5 [==============================] - ETA: 0s - loss: 0.1500 - mae: 0.3185"
     ]
    },
    {
     "name": "stderr",
     "output_type": "stream",
     "text": [
      "WARNING:absl:Found untraced functions such as lstm_cell_layer_call_fn, lstm_cell_layer_call_and_return_conditional_losses while saving (showing 2 of 2). These functions will not be directly callable after loading.\n"
     ]
    },
    {
     "name": "stdout",
     "output_type": "stream",
     "text": [
      "INFO:tensorflow:Assets written to: C:\\Users\\PARK\\Documents\\LAB\\RNN vs LSTM\\FInal Example\\wandb\\run-20221018_151635-3el9trv5\\files\\model-best\\assets\n"
     ]
    },
    {
     "name": "stderr",
     "output_type": "stream",
     "text": [
      "INFO:tensorflow:Assets written to: C:\\Users\\PARK\\Documents\\LAB\\RNN vs LSTM\\FInal Example\\wandb\\run-20221018_151635-3el9trv5\\files\\model-best\\assets\n",
      "\u001b[34m\u001b[1mwandb\u001b[0m: Adding directory to artifact (C:\\Users\\PARK\\Documents\\LAB\\RNN vs LSTM\\FInal Example\\wandb\\run-20221018_151635-3el9trv5\\files\\model-best)... Done. 0.0s\n"
     ]
    },
    {
     "name": "stdout",
     "output_type": "stream",
     "text": [
      "5/5 [==============================] - 4s 907ms/step - loss: 0.1500 - mae: 0.3185 - val_loss: 0.1385 - val_mae: 0.3103\n",
      "Epoch 9/500\n",
      "5/5 [==============================] - ETA: 0s - loss: 0.1361 - mae: 0.3035"
     ]
    },
    {
     "name": "stderr",
     "output_type": "stream",
     "text": [
      "WARNING:absl:Found untraced functions such as lstm_cell_layer_call_fn, lstm_cell_layer_call_and_return_conditional_losses while saving (showing 2 of 2). These functions will not be directly callable after loading.\n"
     ]
    },
    {
     "name": "stdout",
     "output_type": "stream",
     "text": [
      "INFO:tensorflow:Assets written to: C:\\Users\\PARK\\Documents\\LAB\\RNN vs LSTM\\FInal Example\\wandb\\run-20221018_151635-3el9trv5\\files\\model-best\\assets\n"
     ]
    },
    {
     "name": "stderr",
     "output_type": "stream",
     "text": [
      "INFO:tensorflow:Assets written to: C:\\Users\\PARK\\Documents\\LAB\\RNN vs LSTM\\FInal Example\\wandb\\run-20221018_151635-3el9trv5\\files\\model-best\\assets\n",
      "\u001b[34m\u001b[1mwandb\u001b[0m: Adding directory to artifact (C:\\Users\\PARK\\Documents\\LAB\\RNN vs LSTM\\FInal Example\\wandb\\run-20221018_151635-3el9trv5\\files\\model-best)... Done. 0.0s\n"
     ]
    },
    {
     "name": "stdout",
     "output_type": "stream",
     "text": [
      "5/5 [==============================] - 4s 1s/step - loss: 0.1361 - mae: 0.3035 - val_loss: 0.1198 - val_mae: 0.2865\n",
      "Epoch 10/500\n",
      "3/5 [=================>............] - ETA: 0s - loss: 0.1202 - mae: 0.2827"
     ]
    },
    {
     "name": "stderr",
     "output_type": "stream",
     "text": [
      "WARNING:absl:Found untraced functions such as lstm_cell_layer_call_fn, lstm_cell_layer_call_and_return_conditional_losses while saving (showing 2 of 2). These functions will not be directly callable after loading.\n"
     ]
    },
    {
     "name": "stdout",
     "output_type": "stream",
     "text": [
      "INFO:tensorflow:Assets written to: C:\\Users\\PARK\\Documents\\LAB\\RNN vs LSTM\\FInal Example\\wandb\\run-20221018_151635-3el9trv5\\files\\model-best\\assets\n"
     ]
    },
    {
     "name": "stderr",
     "output_type": "stream",
     "text": [
      "INFO:tensorflow:Assets written to: C:\\Users\\PARK\\Documents\\LAB\\RNN vs LSTM\\FInal Example\\wandb\\run-20221018_151635-3el9trv5\\files\\model-best\\assets\n",
      "\u001b[34m\u001b[1mwandb\u001b[0m: Adding directory to artifact (C:\\Users\\PARK\\Documents\\LAB\\RNN vs LSTM\\FInal Example\\wandb\\run-20221018_151635-3el9trv5\\files\\model-best)... Done. 0.0s\n"
     ]
    },
    {
     "name": "stdout",
     "output_type": "stream",
     "text": [
      "5/5 [==============================] - 4s 943ms/step - loss: 0.1140 - mae: 0.2741 - val_loss: 0.0905 - val_mae: 0.2425\n",
      "Epoch 11/500\n",
      "3/5 [=================>............] - ETA: 0s - loss: 0.0855 - mae: 0.2324"
     ]
    },
    {
     "name": "stderr",
     "output_type": "stream",
     "text": [
      "WARNING:absl:Found untraced functions such as lstm_cell_layer_call_fn, lstm_cell_layer_call_and_return_conditional_losses while saving (showing 2 of 2). These functions will not be directly callable after loading.\n"
     ]
    },
    {
     "name": "stdout",
     "output_type": "stream",
     "text": [
      "INFO:tensorflow:Assets written to: C:\\Users\\PARK\\Documents\\LAB\\RNN vs LSTM\\FInal Example\\wandb\\run-20221018_151635-3el9trv5\\files\\model-best\\assets\n"
     ]
    },
    {
     "name": "stderr",
     "output_type": "stream",
     "text": [
      "INFO:tensorflow:Assets written to: C:\\Users\\PARK\\Documents\\LAB\\RNN vs LSTM\\FInal Example\\wandb\\run-20221018_151635-3el9trv5\\files\\model-best\\assets\n",
      "\u001b[34m\u001b[1mwandb\u001b[0m: Adding directory to artifact (C:\\Users\\PARK\\Documents\\LAB\\RNN vs LSTM\\FInal Example\\wandb\\run-20221018_151635-3el9trv5\\files\\model-best)... Done. 0.0s\n"
     ]
    },
    {
     "name": "stdout",
     "output_type": "stream",
     "text": [
      "5/5 [==============================] - 4s 910ms/step - loss: 0.0819 - mae: 0.2269 - val_loss: 0.0633 - val_mae: 0.1988\n",
      "Epoch 12/500\n",
      "5/5 [==============================] - 1s 130ms/step - loss: 0.0694 - mae: 0.2071 - val_loss: 0.0674 - val_mae: 0.2048\n",
      "Epoch 13/500\n",
      "4/5 [=======================>......] - ETA: 0s - loss: 0.0651 - mae: 0.1998"
     ]
    },
    {
     "name": "stderr",
     "output_type": "stream",
     "text": [
      "WARNING:absl:Found untraced functions such as lstm_cell_layer_call_fn, lstm_cell_layer_call_and_return_conditional_losses while saving (showing 2 of 2). These functions will not be directly callable after loading.\n"
     ]
    },
    {
     "name": "stdout",
     "output_type": "stream",
     "text": [
      "INFO:tensorflow:Assets written to: C:\\Users\\PARK\\Documents\\LAB\\RNN vs LSTM\\FInal Example\\wandb\\run-20221018_151635-3el9trv5\\files\\model-best\\assets\n"
     ]
    },
    {
     "name": "stderr",
     "output_type": "stream",
     "text": [
      "INFO:tensorflow:Assets written to: C:\\Users\\PARK\\Documents\\LAB\\RNN vs LSTM\\FInal Example\\wandb\\run-20221018_151635-3el9trv5\\files\\model-best\\assets\n",
      "\u001b[34m\u001b[1mwandb\u001b[0m: Adding directory to artifact (C:\\Users\\PARK\\Documents\\LAB\\RNN vs LSTM\\FInal Example\\wandb\\run-20221018_151635-3el9trv5\\files\\model-best)... Done. 0.0s\n"
     ]
    },
    {
     "name": "stdout",
     "output_type": "stream",
     "text": [
      "5/5 [==============================] - 4s 894ms/step - loss: 0.0658 - mae: 0.2007 - val_loss: 0.0594 - val_mae: 0.1904\n",
      "Epoch 14/500\n",
      "5/5 [==============================] - 0s 77ms/step - loss: 0.0627 - mae: 0.1940 - val_loss: 0.0594 - val_mae: 0.1897\n",
      "Epoch 15/500\n",
      "5/5 [==============================] - 0s 55ms/step - loss: 0.0609 - mae: 0.1902 - val_loss: 0.0603 - val_mae: 0.1912\n",
      "Epoch 16/500\n",
      "5/5 [==============================] - ETA: 0s - loss: 0.0593 - mae: 0.1861"
     ]
    },
    {
     "name": "stderr",
     "output_type": "stream",
     "text": [
      "WARNING:absl:Found untraced functions such as lstm_cell_layer_call_fn, lstm_cell_layer_call_and_return_conditional_losses while saving (showing 2 of 2). These functions will not be directly callable after loading.\n"
     ]
    },
    {
     "name": "stdout",
     "output_type": "stream",
     "text": [
      "INFO:tensorflow:Assets written to: C:\\Users\\PARK\\Documents\\LAB\\RNN vs LSTM\\FInal Example\\wandb\\run-20221018_151635-3el9trv5\\files\\model-best\\assets\n"
     ]
    },
    {
     "name": "stderr",
     "output_type": "stream",
     "text": [
      "INFO:tensorflow:Assets written to: C:\\Users\\PARK\\Documents\\LAB\\RNN vs LSTM\\FInal Example\\wandb\\run-20221018_151635-3el9trv5\\files\\model-best\\assets\n",
      "\u001b[34m\u001b[1mwandb\u001b[0m: Adding directory to artifact (C:\\Users\\PARK\\Documents\\LAB\\RNN vs LSTM\\FInal Example\\wandb\\run-20221018_151635-3el9trv5\\files\\model-best)... Done. 0.0s\n"
     ]
    },
    {
     "name": "stdout",
     "output_type": "stream",
     "text": [
      "5/5 [==============================] - 4s 902ms/step - loss: 0.0593 - mae: 0.1861 - val_loss: 0.0574 - val_mae: 0.1842\n",
      "Epoch 17/500\n",
      "4/5 [=======================>......] - ETA: 0s - loss: 0.0573 - mae: 0.1838"
     ]
    },
    {
     "name": "stderr",
     "output_type": "stream",
     "text": [
      "WARNING:absl:Found untraced functions such as lstm_cell_layer_call_fn, lstm_cell_layer_call_and_return_conditional_losses while saving (showing 2 of 2). These functions will not be directly callable after loading.\n"
     ]
    },
    {
     "name": "stdout",
     "output_type": "stream",
     "text": [
      "INFO:tensorflow:Assets written to: C:\\Users\\PARK\\Documents\\LAB\\RNN vs LSTM\\FInal Example\\wandb\\run-20221018_151635-3el9trv5\\files\\model-best\\assets\n"
     ]
    },
    {
     "name": "stderr",
     "output_type": "stream",
     "text": [
      "INFO:tensorflow:Assets written to: C:\\Users\\PARK\\Documents\\LAB\\RNN vs LSTM\\FInal Example\\wandb\\run-20221018_151635-3el9trv5\\files\\model-best\\assets\n",
      "\u001b[34m\u001b[1mwandb\u001b[0m: Adding directory to artifact (C:\\Users\\PARK\\Documents\\LAB\\RNN vs LSTM\\FInal Example\\wandb\\run-20221018_151635-3el9trv5\\files\\model-best)... Done. 0.0s\n"
     ]
    },
    {
     "name": "stdout",
     "output_type": "stream",
     "text": [
      "5/5 [==============================] - 4s 1s/step - loss: 0.0577 - mae: 0.1844 - val_loss: 0.0569 - val_mae: 0.1826\n",
      "Epoch 18/500\n",
      "4/5 [=======================>......] - ETA: 0s - loss: 0.0575 - mae: 0.1839"
     ]
    },
    {
     "name": "stderr",
     "output_type": "stream",
     "text": [
      "WARNING:absl:Found untraced functions such as lstm_cell_layer_call_fn, lstm_cell_layer_call_and_return_conditional_losses while saving (showing 2 of 2). These functions will not be directly callable after loading.\n"
     ]
    },
    {
     "name": "stdout",
     "output_type": "stream",
     "text": [
      "INFO:tensorflow:Assets written to: C:\\Users\\PARK\\Documents\\LAB\\RNN vs LSTM\\FInal Example\\wandb\\run-20221018_151635-3el9trv5\\files\\model-best\\assets\n"
     ]
    },
    {
     "name": "stderr",
     "output_type": "stream",
     "text": [
      "INFO:tensorflow:Assets written to: C:\\Users\\PARK\\Documents\\LAB\\RNN vs LSTM\\FInal Example\\wandb\\run-20221018_151635-3el9trv5\\files\\model-best\\assets\n",
      "\u001b[34m\u001b[1mwandb\u001b[0m: Adding directory to artifact (C:\\Users\\PARK\\Documents\\LAB\\RNN vs LSTM\\FInal Example\\wandb\\run-20221018_151635-3el9trv5\\files\\model-best)... Done. 0.0s\n"
     ]
    },
    {
     "name": "stdout",
     "output_type": "stream",
     "text": [
      "5/5 [==============================] - 4s 946ms/step - loss: 0.0571 - mae: 0.1834 - val_loss: 0.0563 - val_mae: 0.1819\n",
      "Epoch 19/500\n",
      "5/5 [==============================] - 0s 69ms/step - loss: 0.0566 - mae: 0.1822 - val_loss: 0.0583 - val_mae: 0.1836\n",
      "Epoch 20/500\n",
      "5/5 [==============================] - 0s 51ms/step - loss: 0.0572 - mae: 0.1829 - val_loss: 0.0583 - val_mae: 0.1839\n",
      "Epoch 21/500\n",
      "5/5 [==============================] - 0s 40ms/step - loss: 0.0576 - mae: 0.1832 - val_loss: 0.0564 - val_mae: 0.1810\n",
      "Epoch 22/500\n",
      "5/5 [==============================] - 0s 35ms/step - loss: 0.0566 - mae: 0.1811 - val_loss: 0.0590 - val_mae: 0.1887\n",
      "Epoch 23/500\n",
      "5/5 [==============================] - 0s 30ms/step - loss: 0.0578 - mae: 0.1842 - val_loss: 0.0579 - val_mae: 0.1863\n",
      "Epoch 24/500\n",
      "5/5 [==============================] - 0s 30ms/step - loss: 0.0572 - mae: 0.1833 - val_loss: 0.0566 - val_mae: 0.1820\n",
      "Epoch 25/500\n",
      "5/5 [==============================] - 0s 30ms/step - loss: 0.0562 - mae: 0.1807 - val_loss: 0.0580 - val_mae: 0.1829\n",
      "Epoch 26/500\n",
      "5/5 [==============================] - 0s 29ms/step - loss: 0.0569 - mae: 0.1821 - val_loss: 0.0569 - val_mae: 0.1812\n",
      "Epoch 27/500\n",
      "1/5 [=====>........................] - ETA: 0s - loss: 0.0563 - mae: 0.1795"
     ]
    },
    {
     "name": "stderr",
     "output_type": "stream",
     "text": [
      "WARNING:absl:Found untraced functions such as lstm_cell_layer_call_fn, lstm_cell_layer_call_and_return_conditional_losses while saving (showing 2 of 2). These functions will not be directly callable after loading.\n"
     ]
    },
    {
     "name": "stdout",
     "output_type": "stream",
     "text": [
      "INFO:tensorflow:Assets written to: C:\\Users\\PARK\\Documents\\LAB\\RNN vs LSTM\\FInal Example\\wandb\\run-20221018_151635-3el9trv5\\files\\model-best\\assets\n"
     ]
    },
    {
     "name": "stderr",
     "output_type": "stream",
     "text": [
      "INFO:tensorflow:Assets written to: C:\\Users\\PARK\\Documents\\LAB\\RNN vs LSTM\\FInal Example\\wandb\\run-20221018_151635-3el9trv5\\files\\model-best\\assets\n",
      "\u001b[34m\u001b[1mwandb\u001b[0m: Adding directory to artifact (C:\\Users\\PARK\\Documents\\LAB\\RNN vs LSTM\\FInal Example\\wandb\\run-20221018_151635-3el9trv5\\files\\model-best)... Done. 0.0s\n"
     ]
    },
    {
     "name": "stdout",
     "output_type": "stream",
     "text": [
      "5/5 [==============================] - 4s 916ms/step - loss: 0.0564 - mae: 0.1808 - val_loss: 0.0563 - val_mae: 0.1806\n",
      "Epoch 28/500\n",
      "5/5 [==============================] - 0s 74ms/step - loss: 0.0562 - mae: 0.1804 - val_loss: 0.0572 - val_mae: 0.1826\n",
      "Epoch 29/500\n",
      "5/5 [==============================] - 0s 57ms/step - loss: 0.0569 - mae: 0.1820 - val_loss: 0.0588 - val_mae: 0.1844\n",
      "Epoch 30/500\n",
      "5/5 [==============================] - 0s 41ms/step - loss: 0.0565 - mae: 0.1817 - val_loss: 0.0576 - val_mae: 0.1825\n",
      "Epoch 31/500\n",
      "5/5 [==============================] - 0s 38ms/step - loss: 0.0561 - mae: 0.1808 - val_loss: 0.0563 - val_mae: 0.1805\n",
      "Epoch 32/500\n",
      "1/5 [=====>........................] - ETA: 0s - loss: 0.0586 - mae: 0.1837"
     ]
    },
    {
     "name": "stderr",
     "output_type": "stream",
     "text": [
      "WARNING:absl:Found untraced functions such as lstm_cell_layer_call_fn, lstm_cell_layer_call_and_return_conditional_losses while saving (showing 2 of 2). These functions will not be directly callable after loading.\n"
     ]
    },
    {
     "name": "stdout",
     "output_type": "stream",
     "text": [
      "INFO:tensorflow:Assets written to: C:\\Users\\PARK\\Documents\\LAB\\RNN vs LSTM\\FInal Example\\wandb\\run-20221018_151635-3el9trv5\\files\\model-best\\assets\n"
     ]
    },
    {
     "name": "stderr",
     "output_type": "stream",
     "text": [
      "INFO:tensorflow:Assets written to: C:\\Users\\PARK\\Documents\\LAB\\RNN vs LSTM\\FInal Example\\wandb\\run-20221018_151635-3el9trv5\\files\\model-best\\assets\n",
      "\u001b[34m\u001b[1mwandb\u001b[0m: Adding directory to artifact (C:\\Users\\PARK\\Documents\\LAB\\RNN vs LSTM\\FInal Example\\wandb\\run-20221018_151635-3el9trv5\\files\\model-best)... Done. 0.0s\n"
     ]
    },
    {
     "name": "stdout",
     "output_type": "stream",
     "text": [
      "5/5 [==============================] - 4s 915ms/step - loss: 0.0561 - mae: 0.1804 - val_loss: 0.0557 - val_mae: 0.1789\n",
      "Epoch 33/500\n",
      "5/5 [==============================] - 0s 76ms/step - loss: 0.0561 - mae: 0.1800 - val_loss: 0.0578 - val_mae: 0.1860\n",
      "Epoch 34/500\n",
      "5/5 [==============================] - 0s 50ms/step - loss: 0.0573 - mae: 0.1837 - val_loss: 0.0580 - val_mae: 0.1853\n",
      "Epoch 35/500\n",
      "5/5 [==============================] - 0s 40ms/step - loss: 0.0566 - mae: 0.1819 - val_loss: 0.0571 - val_mae: 0.1835\n",
      "Epoch 36/500\n",
      "5/5 [==============================] - 0s 33ms/step - loss: 0.0560 - mae: 0.1805 - val_loss: 0.0570 - val_mae: 0.1812\n",
      "Epoch 37/500\n",
      "5/5 [==============================] - 0s 31ms/step - loss: 0.0572 - mae: 0.1831 - val_loss: 0.0600 - val_mae: 0.1861\n",
      "Epoch 38/500\n",
      "5/5 [==============================] - 0s 30ms/step - loss: 0.0575 - mae: 0.1841 - val_loss: 0.0646 - val_mae: 0.1920\n",
      "Epoch 39/500\n",
      "5/5 [==============================] - 0s 30ms/step - loss: 0.0596 - mae: 0.1877 - val_loss: 0.0571 - val_mae: 0.1813\n",
      "Epoch 40/500\n",
      "5/5 [==============================] - 0s 30ms/step - loss: 0.0561 - mae: 0.1808 - val_loss: 0.0570 - val_mae: 0.1818\n",
      "Epoch 41/500\n",
      "5/5 [==============================] - 0s 30ms/step - loss: 0.0568 - mae: 0.1821 - val_loss: 0.0564 - val_mae: 0.1825\n",
      "Epoch 42/500\n",
      "5/5 [==============================] - 0s 30ms/step - loss: 0.0561 - mae: 0.1806 - val_loss: 0.0563 - val_mae: 0.1821\n",
      "Epoch 43/500\n",
      "5/5 [==============================] - 0s 30ms/step - loss: 0.0565 - mae: 0.1814 - val_loss: 0.0582 - val_mae: 0.1871\n",
      "Epoch 44/500\n",
      "5/5 [==============================] - 0s 29ms/step - loss: 0.0572 - mae: 0.1837 - val_loss: 0.0560 - val_mae: 0.1809\n",
      "Epoch 45/500\n",
      "5/5 [==============================] - 0s 29ms/step - loss: 0.0560 - mae: 0.1807 - val_loss: 0.0570 - val_mae: 0.1816\n",
      "Epoch 46/500\n",
      "5/5 [==============================] - 0s 28ms/step - loss: 0.0555 - mae: 0.1793 - val_loss: 0.0577 - val_mae: 0.1849\n",
      "Epoch 47/500\n",
      "5/5 [==============================] - 0s 29ms/step - loss: 0.0562 - mae: 0.1809 - val_loss: 0.0567 - val_mae: 0.1831\n",
      "Epoch 48/500\n",
      "5/5 [==============================] - 0s 29ms/step - loss: 0.0559 - mae: 0.1802 - val_loss: 0.0558 - val_mae: 0.1806\n",
      "Epoch 49/500\n",
      "5/5 [==============================] - 0s 28ms/step - loss: 0.0567 - mae: 0.1813 - val_loss: 0.0625 - val_mae: 0.1975\n",
      "Epoch 50/500\n",
      "5/5 [==============================] - 0s 29ms/step - loss: 0.0590 - mae: 0.1872 - val_loss: 0.0564 - val_mae: 0.1807\n",
      "Epoch 51/500\n",
      "5/5 [==============================] - 0s 28ms/step - loss: 0.0574 - mae: 0.1837 - val_loss: 0.0581 - val_mae: 0.1829\n",
      "Epoch 52/500\n",
      "5/5 [==============================] - 0s 29ms/step - loss: 0.0576 - mae: 0.1854 - val_loss: 0.0643 - val_mae: 0.1917\n",
      "Epoch 53/500\n",
      "5/5 [==============================] - 0s 28ms/step - loss: 0.0611 - mae: 0.1905 - val_loss: 0.0592 - val_mae: 0.1842\n",
      "Epoch 54/500\n",
      "5/5 [==============================] - 0s 29ms/step - loss: 0.0587 - mae: 0.1852 - val_loss: 0.0574 - val_mae: 0.1846\n",
      "Epoch 55/500\n",
      "5/5 [==============================] - 0s 28ms/step - loss: 0.0577 - mae: 0.1833 - val_loss: 0.0603 - val_mae: 0.1936\n",
      "Epoch 56/500\n",
      "5/5 [==============================] - 0s 29ms/step - loss: 0.0585 - mae: 0.1870 - val_loss: 0.0561 - val_mae: 0.1808\n",
      "Epoch 57/500\n",
      "5/5 [==============================] - 0s 28ms/step - loss: 0.0576 - mae: 0.1849 - val_loss: 0.0590 - val_mae: 0.1842\n",
      "Epoch 58/500\n",
      "5/5 [==============================] - 0s 29ms/step - loss: 0.0578 - mae: 0.1848 - val_loss: 0.0600 - val_mae: 0.1856\n",
      "Epoch 59/500\n",
      "5/5 [==============================] - 0s 27ms/step - loss: 0.0570 - mae: 0.1824 - val_loss: 0.0580 - val_mae: 0.1868\n",
      "Epoch 60/500\n",
      "5/5 [==============================] - 0s 28ms/step - loss: 0.0574 - mae: 0.1840 - val_loss: 0.0580 - val_mae: 0.1863\n",
      "Epoch 61/500\n",
      "5/5 [==============================] - 0s 28ms/step - loss: 0.0569 - mae: 0.1838 - val_loss: 0.0565 - val_mae: 0.1807\n",
      "Epoch 62/500\n",
      "5/5 [==============================] - 0s 28ms/step - loss: 0.0557 - mae: 0.1810 - val_loss: 0.0578 - val_mae: 0.1823\n",
      "Epoch 63/500\n",
      "5/5 [==============================] - 0s 27ms/step - loss: 0.0560 - mae: 0.1806 - val_loss: 0.0560 - val_mae: 0.1802\n",
      "Epoch 64/500\n",
      "5/5 [==============================] - 0s 28ms/step - loss: 0.0552 - mae: 0.1792 - val_loss: 0.0561 - val_mae: 0.1807\n",
      "Epoch 65/500\n",
      "5/5 [==============================] - 0s 28ms/step - loss: 0.0549 - mae: 0.1786 - val_loss: 0.0558 - val_mae: 0.1798\n",
      "Epoch 66/500\n",
      "5/5 [==============================] - 0s 28ms/step - loss: 0.0552 - mae: 0.1792 - val_loss: 0.0561 - val_mae: 0.1809\n",
      "Epoch 67/500\n",
      "5/5 [==============================] - 0s 27ms/step - loss: 0.0555 - mae: 0.1793 - val_loss: 0.0583 - val_mae: 0.1872\n",
      "Epoch 68/500\n",
      "5/5 [==============================] - 0s 27ms/step - loss: 0.0556 - mae: 0.1807 - val_loss: 0.0573 - val_mae: 0.1817\n",
      "Epoch 69/500\n",
      "5/5 [==============================] - 0s 28ms/step - loss: 0.0556 - mae: 0.1804 - val_loss: 0.0569 - val_mae: 0.1808\n",
      "Epoch 70/500\n",
      "5/5 [==============================] - 0s 28ms/step - loss: 0.0553 - mae: 0.1795 - val_loss: 0.0564 - val_mae: 0.1821\n",
      "Epoch 71/500\n",
      "5/5 [==============================] - 0s 28ms/step - loss: 0.0560 - mae: 0.1806 - val_loss: 0.0580 - val_mae: 0.1867\n",
      "Epoch 72/500\n",
      "5/5 [==============================] - 0s 28ms/step - loss: 0.0565 - mae: 0.1828 - val_loss: 0.0557 - val_mae: 0.1795\n",
      "Epoch 73/500\n",
      "5/5 [==============================] - 0s 28ms/step - loss: 0.0552 - mae: 0.1797 - val_loss: 0.0560 - val_mae: 0.1798\n",
      "Epoch 74/500\n",
      "5/5 [==============================] - 0s 28ms/step - loss: 0.0547 - mae: 0.1781 - val_loss: 0.0564 - val_mae: 0.1814\n",
      "Epoch 75/500\n",
      "5/5 [==============================] - 0s 28ms/step - loss: 0.0555 - mae: 0.1807 - val_loss: 0.0588 - val_mae: 0.1833\n",
      "Epoch 76/500\n",
      "5/5 [==============================] - 0s 28ms/step - loss: 0.0565 - mae: 0.1831 - val_loss: 0.0587 - val_mae: 0.1834\n",
      "Epoch 77/500\n",
      "5/5 [==============================] - 0s 28ms/step - loss: 0.0561 - mae: 0.1811 - val_loss: 0.0559 - val_mae: 0.1809\n",
      "Epoch 78/500\n",
      "5/5 [==============================] - 0s 28ms/step - loss: 0.0549 - mae: 0.1787 - val_loss: 0.0558 - val_mae: 0.1799\n",
      "Epoch 79/500\n",
      "1/5 [=====>........................] - ETA: 0s - loss: 0.0485 - mae: 0.1654"
     ]
    },
    {
     "name": "stderr",
     "output_type": "stream",
     "text": [
      "WARNING:absl:Found untraced functions such as lstm_cell_layer_call_fn, lstm_cell_layer_call_and_return_conditional_losses while saving (showing 2 of 2). These functions will not be directly callable after loading.\n"
     ]
    },
    {
     "name": "stdout",
     "output_type": "stream",
     "text": [
      "INFO:tensorflow:Assets written to: C:\\Users\\PARK\\Documents\\LAB\\RNN vs LSTM\\FInal Example\\wandb\\run-20221018_151635-3el9trv5\\files\\model-best\\assets\n"
     ]
    },
    {
     "name": "stderr",
     "output_type": "stream",
     "text": [
      "INFO:tensorflow:Assets written to: C:\\Users\\PARK\\Documents\\LAB\\RNN vs LSTM\\FInal Example\\wandb\\run-20221018_151635-3el9trv5\\files\\model-best\\assets\n",
      "\u001b[34m\u001b[1mwandb\u001b[0m: Adding directory to artifact (C:\\Users\\PARK\\Documents\\LAB\\RNN vs LSTM\\FInal Example\\wandb\\run-20221018_151635-3el9trv5\\files\\model-best)... Done. 0.0s\n"
     ]
    },
    {
     "name": "stdout",
     "output_type": "stream",
     "text": [
      "5/5 [==============================] - 4s 886ms/step - loss: 0.0547 - mae: 0.1780 - val_loss: 0.0557 - val_mae: 0.1800\n",
      "Epoch 80/500\n",
      "5/5 [==============================] - 0s 55ms/step - loss: 0.0550 - mae: 0.1796 - val_loss: 0.0560 - val_mae: 0.1812\n",
      "Epoch 81/500\n",
      "5/5 [==============================] - 0s 26ms/step - loss: 0.0548 - mae: 0.1780 - val_loss: 0.0579 - val_mae: 0.1867\n",
      "Epoch 82/500\n",
      "5/5 [==============================] - 0s 26ms/step - loss: 0.0557 - mae: 0.1805 - val_loss: 0.0564 - val_mae: 0.1822\n",
      "Epoch 83/500\n",
      "5/5 [==============================] - 0s 25ms/step - loss: 0.0551 - mae: 0.1797 - val_loss: 0.0557 - val_mae: 0.1797\n",
      "Epoch 84/500\n",
      "1/5 [=====>........................] - ETA: 0s - loss: 0.0541 - mae: 0.1815"
     ]
    },
    {
     "name": "stderr",
     "output_type": "stream",
     "text": [
      "WARNING:absl:Found untraced functions such as lstm_cell_layer_call_fn, lstm_cell_layer_call_and_return_conditional_losses while saving (showing 2 of 2). These functions will not be directly callable after loading.\n"
     ]
    },
    {
     "name": "stdout",
     "output_type": "stream",
     "text": [
      "INFO:tensorflow:Assets written to: C:\\Users\\PARK\\Documents\\LAB\\RNN vs LSTM\\FInal Example\\wandb\\run-20221018_151635-3el9trv5\\files\\model-best\\assets\n"
     ]
    },
    {
     "name": "stderr",
     "output_type": "stream",
     "text": [
      "INFO:tensorflow:Assets written to: C:\\Users\\PARK\\Documents\\LAB\\RNN vs LSTM\\FInal Example\\wandb\\run-20221018_151635-3el9trv5\\files\\model-best\\assets\n",
      "\u001b[34m\u001b[1mwandb\u001b[0m: Adding directory to artifact (C:\\Users\\PARK\\Documents\\LAB\\RNN vs LSTM\\FInal Example\\wandb\\run-20221018_151635-3el9trv5\\files\\model-best)... Done. 0.0s\n"
     ]
    },
    {
     "name": "stdout",
     "output_type": "stream",
     "text": [
      "5/5 [==============================] - 3s 867ms/step - loss: 0.0545 - mae: 0.1784 - val_loss: 0.0556 - val_mae: 0.1792\n",
      "Epoch 85/500\n",
      "5/5 [==============================] - 0s 69ms/step - loss: 0.0543 - mae: 0.1775 - val_loss: 0.0562 - val_mae: 0.1817\n",
      "Epoch 86/500\n",
      "5/5 [==============================] - 0s 52ms/step - loss: 0.0550 - mae: 0.1793 - val_loss: 0.0574 - val_mae: 0.1846\n",
      "Epoch 87/500\n",
      "1/5 [=====>........................] - ETA: 0s - loss: 0.0601 - mae: 0.1881"
     ]
    },
    {
     "name": "stderr",
     "output_type": "stream",
     "text": [
      "WARNING:absl:Found untraced functions such as lstm_cell_layer_call_fn, lstm_cell_layer_call_and_return_conditional_losses while saving (showing 2 of 2). These functions will not be directly callable after loading.\n"
     ]
    },
    {
     "name": "stdout",
     "output_type": "stream",
     "text": [
      "INFO:tensorflow:Assets written to: C:\\Users\\PARK\\Documents\\LAB\\RNN vs LSTM\\FInal Example\\wandb\\run-20221018_151635-3el9trv5\\files\\model-best\\assets\n"
     ]
    },
    {
     "name": "stderr",
     "output_type": "stream",
     "text": [
      "INFO:tensorflow:Assets written to: C:\\Users\\PARK\\Documents\\LAB\\RNN vs LSTM\\FInal Example\\wandb\\run-20221018_151635-3el9trv5\\files\\model-best\\assets\n",
      "\u001b[34m\u001b[1mwandb\u001b[0m: Adding directory to artifact (C:\\Users\\PARK\\Documents\\LAB\\RNN vs LSTM\\FInal Example\\wandb\\run-20221018_151635-3el9trv5\\files\\model-best)... Done. 0.0s\n"
     ]
    },
    {
     "name": "stdout",
     "output_type": "stream",
     "text": [
      "5/5 [==============================] - 4s 945ms/step - loss: 0.0552 - mae: 0.1796 - val_loss: 0.0553 - val_mae: 0.1791\n",
      "Epoch 88/500\n",
      "4/5 [=======================>......] - ETA: 0s - loss: 0.0542 - mae: 0.1782"
     ]
    },
    {
     "name": "stderr",
     "output_type": "stream",
     "text": [
      "WARNING:absl:Found untraced functions such as lstm_cell_layer_call_fn, lstm_cell_layer_call_and_return_conditional_losses while saving (showing 2 of 2). These functions will not be directly callable after loading.\n"
     ]
    },
    {
     "name": "stdout",
     "output_type": "stream",
     "text": [
      "INFO:tensorflow:Assets written to: C:\\Users\\PARK\\Documents\\LAB\\RNN vs LSTM\\FInal Example\\wandb\\run-20221018_151635-3el9trv5\\files\\model-best\\assets\n"
     ]
    },
    {
     "name": "stderr",
     "output_type": "stream",
     "text": [
      "INFO:tensorflow:Assets written to: C:\\Users\\PARK\\Documents\\LAB\\RNN vs LSTM\\FInal Example\\wandb\\run-20221018_151635-3el9trv5\\files\\model-best\\assets\n",
      "\u001b[34m\u001b[1mwandb\u001b[0m: Adding directory to artifact (C:\\Users\\PARK\\Documents\\LAB\\RNN vs LSTM\\FInal Example\\wandb\\run-20221018_151635-3el9trv5\\files\\model-best)... Done. 0.0s\n"
     ]
    },
    {
     "name": "stdout",
     "output_type": "stream",
     "text": [
      "5/5 [==============================] - 4s 1s/step - loss: 0.0543 - mae: 0.1782 - val_loss: 0.0552 - val_mae: 0.1787\n",
      "Epoch 89/500\n",
      "5/5 [==============================] - 0s 79ms/step - loss: 0.0540 - mae: 0.1772 - val_loss: 0.0564 - val_mae: 0.1801\n",
      "Epoch 90/500\n",
      "5/5 [==============================] - 0s 54ms/step - loss: 0.0543 - mae: 0.1776 - val_loss: 0.0560 - val_mae: 0.1803\n",
      "Epoch 91/500\n",
      "5/5 [==============================] - 0s 44ms/step - loss: 0.0538 - mae: 0.1773 - val_loss: 0.0558 - val_mae: 0.1799\n",
      "Epoch 92/500\n",
      "5/5 [==============================] - 0s 35ms/step - loss: 0.0542 - mae: 0.1778 - val_loss: 0.0555 - val_mae: 0.1788\n",
      "Epoch 93/500\n",
      "5/5 [==============================] - 0s 31ms/step - loss: 0.0541 - mae: 0.1779 - val_loss: 0.0558 - val_mae: 0.1795\n",
      "Epoch 94/500\n",
      "5/5 [==============================] - 0s 30ms/step - loss: 0.0535 - mae: 0.1765 - val_loss: 0.0561 - val_mae: 0.1819\n",
      "Epoch 95/500\n",
      "5/5 [==============================] - 0s 30ms/step - loss: 0.0542 - mae: 0.1777 - val_loss: 0.0571 - val_mae: 0.1851\n",
      "Epoch 96/500\n",
      "5/5 [==============================] - 0s 30ms/step - loss: 0.0546 - mae: 0.1789 - val_loss: 0.0554 - val_mae: 0.1800\n",
      "Epoch 97/500\n",
      "5/5 [==============================] - 0s 30ms/step - loss: 0.0538 - mae: 0.1773 - val_loss: 0.0556 - val_mae: 0.1787\n",
      "Epoch 98/500\n",
      "5/5 [==============================] - 0s 30ms/step - loss: 0.0546 - mae: 0.1791 - val_loss: 0.0597 - val_mae: 0.1855\n",
      "Epoch 99/500\n",
      "1/5 [=====>........................] - ETA: 0s - loss: 0.0594 - mae: 0.1816"
     ]
    },
    {
     "name": "stderr",
     "output_type": "stream",
     "text": [
      "WARNING:absl:Found untraced functions such as lstm_cell_layer_call_fn, lstm_cell_layer_call_and_return_conditional_losses while saving (showing 2 of 2). These functions will not be directly callable after loading.\n"
     ]
    },
    {
     "name": "stdout",
     "output_type": "stream",
     "text": [
      "INFO:tensorflow:Assets written to: C:\\Users\\PARK\\Documents\\LAB\\RNN vs LSTM\\FInal Example\\wandb\\run-20221018_151635-3el9trv5\\files\\model-best\\assets\n"
     ]
    },
    {
     "name": "stderr",
     "output_type": "stream",
     "text": [
      "INFO:tensorflow:Assets written to: C:\\Users\\PARK\\Documents\\LAB\\RNN vs LSTM\\FInal Example\\wandb\\run-20221018_151635-3el9trv5\\files\\model-best\\assets\n",
      "\u001b[34m\u001b[1mwandb\u001b[0m: Adding directory to artifact (C:\\Users\\PARK\\Documents\\LAB\\RNN vs LSTM\\FInal Example\\wandb\\run-20221018_151635-3el9trv5\\files\\model-best)... Done. 0.0s\n"
     ]
    },
    {
     "name": "stdout",
     "output_type": "stream",
     "text": [
      "5/5 [==============================] - 4s 929ms/step - loss: 0.0553 - mae: 0.1805 - val_loss: 0.0550 - val_mae: 0.1785\n",
      "Epoch 100/500\n",
      "5/5 [==============================] - 0s 54ms/step - loss: 0.0540 - mae: 0.1775 - val_loss: 0.0573 - val_mae: 0.1860\n",
      "Epoch 101/500\n",
      "5/5 [==============================] - 0s 26ms/step - loss: 0.0555 - mae: 0.1801 - val_loss: 0.0590 - val_mae: 0.1902\n",
      "Epoch 102/500\n",
      "5/5 [==============================] - 0s 25ms/step - loss: 0.0552 - mae: 0.1804 - val_loss: 0.0562 - val_mae: 0.1799\n",
      "Epoch 103/500\n",
      "5/5 [==============================] - 0s 26ms/step - loss: 0.0539 - mae: 0.1777 - val_loss: 0.0573 - val_mae: 0.1812\n",
      "Epoch 104/500\n",
      "5/5 [==============================] - 0s 26ms/step - loss: 0.0535 - mae: 0.1766 - val_loss: 0.0568 - val_mae: 0.1851\n",
      "Epoch 105/500\n",
      "5/5 [==============================] - 0s 26ms/step - loss: 0.0540 - mae: 0.1777 - val_loss: 0.0553 - val_mae: 0.1789\n",
      "Epoch 106/500\n",
      "5/5 [==============================] - 0s 25ms/step - loss: 0.0528 - mae: 0.1753 - val_loss: 0.0554 - val_mae: 0.1795\n",
      "Epoch 107/500\n",
      "5/5 [==============================] - 0s 26ms/step - loss: 0.0525 - mae: 0.1749 - val_loss: 0.0554 - val_mae: 0.1791\n",
      "Epoch 108/500\n",
      "1/5 [=====>........................] - ETA: 0s - loss: 0.0468 - mae: 0.1667"
     ]
    },
    {
     "name": "stderr",
     "output_type": "stream",
     "text": [
      "WARNING:absl:Found untraced functions such as lstm_cell_layer_call_fn, lstm_cell_layer_call_and_return_conditional_losses while saving (showing 2 of 2). These functions will not be directly callable after loading.\n"
     ]
    },
    {
     "name": "stdout",
     "output_type": "stream",
     "text": [
      "INFO:tensorflow:Assets written to: C:\\Users\\PARK\\Documents\\LAB\\RNN vs LSTM\\FInal Example\\wandb\\run-20221018_151635-3el9trv5\\files\\model-best\\assets\n"
     ]
    },
    {
     "name": "stderr",
     "output_type": "stream",
     "text": [
      "INFO:tensorflow:Assets written to: C:\\Users\\PARK\\Documents\\LAB\\RNN vs LSTM\\FInal Example\\wandb\\run-20221018_151635-3el9trv5\\files\\model-best\\assets\n",
      "\u001b[34m\u001b[1mwandb\u001b[0m: Adding directory to artifact (C:\\Users\\PARK\\Documents\\LAB\\RNN vs LSTM\\FInal Example\\wandb\\run-20221018_151635-3el9trv5\\files\\model-best)... Done. 0.0s\n"
     ]
    },
    {
     "name": "stdout",
     "output_type": "stream",
     "text": [
      "5/5 [==============================] - 4s 930ms/step - loss: 0.0529 - mae: 0.1754 - val_loss: 0.0550 - val_mae: 0.1788\n",
      "Epoch 109/500\n",
      "5/5 [==============================] - 0s 66ms/step - loss: 0.0531 - mae: 0.1758 - val_loss: 0.0554 - val_mae: 0.1801\n",
      "Epoch 110/500\n",
      "5/5 [==============================] - 0s 45ms/step - loss: 0.0527 - mae: 0.1754 - val_loss: 0.0557 - val_mae: 0.1813\n",
      "Epoch 111/500\n",
      "5/5 [==============================] - 0s 40ms/step - loss: 0.0526 - mae: 0.1750 - val_loss: 0.0553 - val_mae: 0.1799\n",
      "Epoch 112/500\n",
      "1/5 [=====>........................] - ETA: 0s - loss: 0.0532 - mae: 0.1751"
     ]
    },
    {
     "name": "stderr",
     "output_type": "stream",
     "text": [
      "WARNING:absl:Found untraced functions such as lstm_cell_layer_call_fn, lstm_cell_layer_call_and_return_conditional_losses while saving (showing 2 of 2). These functions will not be directly callable after loading.\n"
     ]
    },
    {
     "name": "stdout",
     "output_type": "stream",
     "text": [
      "INFO:tensorflow:Assets written to: C:\\Users\\PARK\\Documents\\LAB\\RNN vs LSTM\\FInal Example\\wandb\\run-20221018_151635-3el9trv5\\files\\model-best\\assets\n"
     ]
    },
    {
     "name": "stderr",
     "output_type": "stream",
     "text": [
      "INFO:tensorflow:Assets written to: C:\\Users\\PARK\\Documents\\LAB\\RNN vs LSTM\\FInal Example\\wandb\\run-20221018_151635-3el9trv5\\files\\model-best\\assets\n",
      "\u001b[34m\u001b[1mwandb\u001b[0m: Adding directory to artifact (C:\\Users\\PARK\\Documents\\LAB\\RNN vs LSTM\\FInal Example\\wandb\\run-20221018_151635-3el9trv5\\files\\model-best)... Done. 0.0s\n"
     ]
    },
    {
     "name": "stdout",
     "output_type": "stream",
     "text": [
      "5/5 [==============================] - 3s 869ms/step - loss: 0.0523 - mae: 0.1747 - val_loss: 0.0548 - val_mae: 0.1782\n",
      "Epoch 113/500\n",
      "5/5 [==============================] - 0s 67ms/step - loss: 0.0525 - mae: 0.1749 - val_loss: 0.0553 - val_mae: 0.1773\n",
      "Epoch 114/500\n",
      "5/5 [==============================] - 0s 51ms/step - loss: 0.0529 - mae: 0.1758 - val_loss: 0.0568 - val_mae: 0.1797\n",
      "Epoch 115/500\n",
      "5/5 [==============================] - ETA: 0s - loss: 0.0530 - mae: 0.1755"
     ]
    },
    {
     "name": "stderr",
     "output_type": "stream",
     "text": [
      "WARNING:absl:Found untraced functions such as lstm_cell_layer_call_fn, lstm_cell_layer_call_and_return_conditional_losses while saving (showing 2 of 2). These functions will not be directly callable after loading.\n"
     ]
    },
    {
     "name": "stdout",
     "output_type": "stream",
     "text": [
      "INFO:tensorflow:Assets written to: C:\\Users\\PARK\\Documents\\LAB\\RNN vs LSTM\\FInal Example\\wandb\\run-20221018_151635-3el9trv5\\files\\model-best\\assets\n"
     ]
    },
    {
     "name": "stderr",
     "output_type": "stream",
     "text": [
      "INFO:tensorflow:Assets written to: C:\\Users\\PARK\\Documents\\LAB\\RNN vs LSTM\\FInal Example\\wandb\\run-20221018_151635-3el9trv5\\files\\model-best\\assets\n",
      "\u001b[34m\u001b[1mwandb\u001b[0m: Adding directory to artifact (C:\\Users\\PARK\\Documents\\LAB\\RNN vs LSTM\\FInal Example\\wandb\\run-20221018_151635-3el9trv5\\files\\model-best)... Done. 0.0s\n"
     ]
    },
    {
     "name": "stdout",
     "output_type": "stream",
     "text": [
      "5/5 [==============================] - 4s 999ms/step - loss: 0.0530 - mae: 0.1755 - val_loss: 0.0544 - val_mae: 0.1778\n",
      "Epoch 116/500\n",
      "5/5 [==============================] - 0s 70ms/step - loss: 0.0531 - mae: 0.1765 - val_loss: 0.0562 - val_mae: 0.1830\n",
      "Epoch 117/500\n",
      "5/5 [==============================] - 0s 49ms/step - loss: 0.0521 - mae: 0.1747 - val_loss: 0.0551 - val_mae: 0.1803\n",
      "Epoch 118/500\n",
      "5/5 [==============================] - ETA: 0s - loss: 0.0520 - mae: 0.1744"
     ]
    },
    {
     "name": "stderr",
     "output_type": "stream",
     "text": [
      "WARNING:absl:Found untraced functions such as lstm_cell_layer_call_fn, lstm_cell_layer_call_and_return_conditional_losses while saving (showing 2 of 2). These functions will not be directly callable after loading.\n"
     ]
    },
    {
     "name": "stdout",
     "output_type": "stream",
     "text": [
      "INFO:tensorflow:Assets written to: C:\\Users\\PARK\\Documents\\LAB\\RNN vs LSTM\\FInal Example\\wandb\\run-20221018_151635-3el9trv5\\files\\model-best\\assets\n"
     ]
    },
    {
     "name": "stderr",
     "output_type": "stream",
     "text": [
      "INFO:tensorflow:Assets written to: C:\\Users\\PARK\\Documents\\LAB\\RNN vs LSTM\\FInal Example\\wandb\\run-20221018_151635-3el9trv5\\files\\model-best\\assets\n",
      "\u001b[34m\u001b[1mwandb\u001b[0m: Adding directory to artifact (C:\\Users\\PARK\\Documents\\LAB\\RNN vs LSTM\\FInal Example\\wandb\\run-20221018_151635-3el9trv5\\files\\model-best)... Done. 0.0s\n"
     ]
    },
    {
     "name": "stdout",
     "output_type": "stream",
     "text": [
      "5/5 [==============================] - 4s 957ms/step - loss: 0.0520 - mae: 0.1744 - val_loss: 0.0544 - val_mae: 0.1785\n",
      "Epoch 119/500\n",
      "5/5 [==============================] - 0s 76ms/step - loss: 0.0516 - mae: 0.1735 - val_loss: 0.0546 - val_mae: 0.1781\n",
      "Epoch 120/500\n",
      "5/5 [==============================] - 0s 54ms/step - loss: 0.0513 - mae: 0.1738 - val_loss: 0.0551 - val_mae: 0.1780\n",
      "Epoch 121/500\n",
      "5/5 [==============================] - 0s 45ms/step - loss: 0.0513 - mae: 0.1730 - val_loss: 0.0553 - val_mae: 0.1778\n",
      "Epoch 122/500\n",
      "1/5 [=====>........................] - ETA: 0s - loss: 0.0550 - mae: 0.1748"
     ]
    },
    {
     "name": "stderr",
     "output_type": "stream",
     "text": [
      "WARNING:absl:Found untraced functions such as lstm_cell_layer_call_fn, lstm_cell_layer_call_and_return_conditional_losses while saving (showing 2 of 2). These functions will not be directly callable after loading.\n"
     ]
    },
    {
     "name": "stdout",
     "output_type": "stream",
     "text": [
      "INFO:tensorflow:Assets written to: C:\\Users\\PARK\\Documents\\LAB\\RNN vs LSTM\\FInal Example\\wandb\\run-20221018_151635-3el9trv5\\files\\model-best\\assets\n"
     ]
    },
    {
     "name": "stderr",
     "output_type": "stream",
     "text": [
      "INFO:tensorflow:Assets written to: C:\\Users\\PARK\\Documents\\LAB\\RNN vs LSTM\\FInal Example\\wandb\\run-20221018_151635-3el9trv5\\files\\model-best\\assets\n",
      "\u001b[34m\u001b[1mwandb\u001b[0m: Adding directory to artifact (C:\\Users\\PARK\\Documents\\LAB\\RNN vs LSTM\\FInal Example\\wandb\\run-20221018_151635-3el9trv5\\files\\model-best)... Done. 0.0s\n"
     ]
    },
    {
     "name": "stdout",
     "output_type": "stream",
     "text": [
      "5/5 [==============================] - 4s 932ms/step - loss: 0.0518 - mae: 0.1736 - val_loss: 0.0538 - val_mae: 0.1765\n",
      "Epoch 123/500\n",
      "5/5 [==============================] - 0s 72ms/step - loss: 0.0510 - mae: 0.1722 - val_loss: 0.0543 - val_mae: 0.1777\n",
      "Epoch 124/500\n",
      "4/5 [=======================>......] - ETA: 0s - loss: 0.0516 - mae: 0.1734"
     ]
    },
    {
     "name": "stderr",
     "output_type": "stream",
     "text": [
      "WARNING:absl:Found untraced functions such as lstm_cell_layer_call_fn, lstm_cell_layer_call_and_return_conditional_losses while saving (showing 2 of 2). These functions will not be directly callable after loading.\n"
     ]
    },
    {
     "name": "stdout",
     "output_type": "stream",
     "text": [
      "INFO:tensorflow:Assets written to: C:\\Users\\PARK\\Documents\\LAB\\RNN vs LSTM\\FInal Example\\wandb\\run-20221018_151635-3el9trv5\\files\\model-best\\assets\n"
     ]
    },
    {
     "name": "stderr",
     "output_type": "stream",
     "text": [
      "INFO:tensorflow:Assets written to: C:\\Users\\PARK\\Documents\\LAB\\RNN vs LSTM\\FInal Example\\wandb\\run-20221018_151635-3el9trv5\\files\\model-best\\assets\n",
      "\u001b[34m\u001b[1mwandb\u001b[0m: Adding directory to artifact (C:\\Users\\PARK\\Documents\\LAB\\RNN vs LSTM\\FInal Example\\wandb\\run-20221018_151635-3el9trv5\\files\\model-best)... Done. 0.0s\n"
     ]
    },
    {
     "name": "stdout",
     "output_type": "stream",
     "text": [
      "5/5 [==============================] - 4s 951ms/step - loss: 0.0506 - mae: 0.1719 - val_loss: 0.0535 - val_mae: 0.1770\n",
      "Epoch 125/500\n",
      "5/5 [==============================] - 0s 59ms/step - loss: 0.0504 - mae: 0.1720 - val_loss: 0.0540 - val_mae: 0.1793\n",
      "Epoch 126/500\n",
      "5/5 [==============================] - 0s 26ms/step - loss: 0.0504 - mae: 0.1718 - val_loss: 0.0550 - val_mae: 0.1825\n",
      "Epoch 127/500\n",
      "5/5 [==============================] - 0s 26ms/step - loss: 0.0523 - mae: 0.1755 - val_loss: 0.0582 - val_mae: 0.1914\n",
      "Epoch 128/500\n",
      "1/5 [=====>........................] - ETA: 0s - loss: 0.0505 - mae: 0.1775"
     ]
    },
    {
     "name": "stderr",
     "output_type": "stream",
     "text": [
      "WARNING:absl:Found untraced functions such as lstm_cell_layer_call_fn, lstm_cell_layer_call_and_return_conditional_losses while saving (showing 2 of 2). These functions will not be directly callable after loading.\n"
     ]
    },
    {
     "name": "stdout",
     "output_type": "stream",
     "text": [
      "INFO:tensorflow:Assets written to: C:\\Users\\PARK\\Documents\\LAB\\RNN vs LSTM\\FInal Example\\wandb\\run-20221018_151635-3el9trv5\\files\\model-best\\assets\n"
     ]
    },
    {
     "name": "stderr",
     "output_type": "stream",
     "text": [
      "INFO:tensorflow:Assets written to: C:\\Users\\PARK\\Documents\\LAB\\RNN vs LSTM\\FInal Example\\wandb\\run-20221018_151635-3el9trv5\\files\\model-best\\assets\n",
      "\u001b[34m\u001b[1mwandb\u001b[0m: Adding directory to artifact (C:\\Users\\PARK\\Documents\\LAB\\RNN vs LSTM\\FInal Example\\wandb\\run-20221018_151635-3el9trv5\\files\\model-best)... Done. 0.0s\n"
     ]
    },
    {
     "name": "stdout",
     "output_type": "stream",
     "text": [
      "5/5 [==============================] - 4s 895ms/step - loss: 0.0557 - mae: 0.1836 - val_loss: 0.0532 - val_mae: 0.1778\n",
      "Epoch 129/500\n",
      "5/5 [==============================] - 0s 73ms/step - loss: 0.0522 - mae: 0.1783 - val_loss: 0.0564 - val_mae: 0.1794\n",
      "Epoch 130/500\n",
      "5/5 [==============================] - 0s 49ms/step - loss: 0.0509 - mae: 0.1736 - val_loss: 0.0539 - val_mae: 0.1768\n",
      "Epoch 131/500\n",
      "5/5 [==============================] - 0s 43ms/step - loss: 0.0502 - mae: 0.1729 - val_loss: 0.0540 - val_mae: 0.1822\n",
      "Epoch 132/500\n",
      "1/5 [=====>........................] - ETA: 0s - loss: 0.0456 - mae: 0.1638"
     ]
    },
    {
     "name": "stderr",
     "output_type": "stream",
     "text": [
      "WARNING:absl:Found untraced functions such as lstm_cell_layer_call_fn, lstm_cell_layer_call_and_return_conditional_losses while saving (showing 2 of 2). These functions will not be directly callable after loading.\n"
     ]
    },
    {
     "name": "stdout",
     "output_type": "stream",
     "text": [
      "INFO:tensorflow:Assets written to: C:\\Users\\PARK\\Documents\\LAB\\RNN vs LSTM\\FInal Example\\wandb\\run-20221018_151635-3el9trv5\\files\\model-best\\assets\n"
     ]
    },
    {
     "name": "stderr",
     "output_type": "stream",
     "text": [
      "INFO:tensorflow:Assets written to: C:\\Users\\PARK\\Documents\\LAB\\RNN vs LSTM\\FInal Example\\wandb\\run-20221018_151635-3el9trv5\\files\\model-best\\assets\n",
      "\u001b[34m\u001b[1mwandb\u001b[0m: Adding directory to artifact (C:\\Users\\PARK\\Documents\\LAB\\RNN vs LSTM\\FInal Example\\wandb\\run-20221018_151635-3el9trv5\\files\\model-best)... Done. 0.0s\n"
     ]
    },
    {
     "name": "stdout",
     "output_type": "stream",
     "text": [
      "5/5 [==============================] - 4s 919ms/step - loss: 0.0497 - mae: 0.1722 - val_loss: 0.0528 - val_mae: 0.1791\n",
      "Epoch 133/500\n",
      "5/5 [==============================] - ETA: 0s - loss: 0.0488 - mae: 0.1706"
     ]
    },
    {
     "name": "stderr",
     "output_type": "stream",
     "text": [
      "WARNING:absl:Found untraced functions such as lstm_cell_layer_call_fn, lstm_cell_layer_call_and_return_conditional_losses while saving (showing 2 of 2). These functions will not be directly callable after loading.\n"
     ]
    },
    {
     "name": "stdout",
     "output_type": "stream",
     "text": [
      "INFO:tensorflow:Assets written to: C:\\Users\\PARK\\Documents\\LAB\\RNN vs LSTM\\FInal Example\\wandb\\run-20221018_151635-3el9trv5\\files\\model-best\\assets\n"
     ]
    },
    {
     "name": "stderr",
     "output_type": "stream",
     "text": [
      "INFO:tensorflow:Assets written to: C:\\Users\\PARK\\Documents\\LAB\\RNN vs LSTM\\FInal Example\\wandb\\run-20221018_151635-3el9trv5\\files\\model-best\\assets\n",
      "\u001b[34m\u001b[1mwandb\u001b[0m: Adding directory to artifact (C:\\Users\\PARK\\Documents\\LAB\\RNN vs LSTM\\FInal Example\\wandb\\run-20221018_151635-3el9trv5\\files\\model-best)... Done. 0.0s\n"
     ]
    },
    {
     "name": "stdout",
     "output_type": "stream",
     "text": [
      "5/5 [==============================] - 4s 975ms/step - loss: 0.0488 - mae: 0.1706 - val_loss: 0.0514 - val_mae: 0.1757\n",
      "Epoch 134/500\n",
      "3/5 [=================>............] - ETA: 0s - loss: 0.0469 - mae: 0.1679"
     ]
    },
    {
     "name": "stderr",
     "output_type": "stream",
     "text": [
      "WARNING:absl:Found untraced functions such as lstm_cell_layer_call_fn, lstm_cell_layer_call_and_return_conditional_losses while saving (showing 2 of 2). These functions will not be directly callable after loading.\n"
     ]
    },
    {
     "name": "stdout",
     "output_type": "stream",
     "text": [
      "INFO:tensorflow:Assets written to: C:\\Users\\PARK\\Documents\\LAB\\RNN vs LSTM\\FInal Example\\wandb\\run-20221018_151635-3el9trv5\\files\\model-best\\assets\n"
     ]
    },
    {
     "name": "stderr",
     "output_type": "stream",
     "text": [
      "INFO:tensorflow:Assets written to: C:\\Users\\PARK\\Documents\\LAB\\RNN vs LSTM\\FInal Example\\wandb\\run-20221018_151635-3el9trv5\\files\\model-best\\assets\n",
      "\u001b[34m\u001b[1mwandb\u001b[0m: Adding directory to artifact (C:\\Users\\PARK\\Documents\\LAB\\RNN vs LSTM\\FInal Example\\wandb\\run-20221018_151635-3el9trv5\\files\\model-best)... Done. 0.0s\n"
     ]
    },
    {
     "name": "stdout",
     "output_type": "stream",
     "text": [
      "5/5 [==============================] - 4s 1s/step - loss: 0.0474 - mae: 0.1683 - val_loss: 0.0512 - val_mae: 0.1736\n",
      "Epoch 135/500\n",
      "5/5 [==============================] - 0s 71ms/step - loss: 0.0470 - mae: 0.1679 - val_loss: 0.0513 - val_mae: 0.1748\n",
      "Epoch 136/500\n",
      "3/5 [=================>............] - ETA: 0s - loss: 0.0472 - mae: 0.1679"
     ]
    },
    {
     "name": "stderr",
     "output_type": "stream",
     "text": [
      "WARNING:absl:Found untraced functions such as lstm_cell_layer_call_fn, lstm_cell_layer_call_and_return_conditional_losses while saving (showing 2 of 2). These functions will not be directly callable after loading.\n"
     ]
    },
    {
     "name": "stdout",
     "output_type": "stream",
     "text": [
      "INFO:tensorflow:Assets written to: C:\\Users\\PARK\\Documents\\LAB\\RNN vs LSTM\\FInal Example\\wandb\\run-20221018_151635-3el9trv5\\files\\model-best\\assets\n"
     ]
    },
    {
     "name": "stderr",
     "output_type": "stream",
     "text": [
      "INFO:tensorflow:Assets written to: C:\\Users\\PARK\\Documents\\LAB\\RNN vs LSTM\\FInal Example\\wandb\\run-20221018_151635-3el9trv5\\files\\model-best\\assets\n",
      "\u001b[34m\u001b[1mwandb\u001b[0m: Adding directory to artifact (C:\\Users\\PARK\\Documents\\LAB\\RNN vs LSTM\\FInal Example\\wandb\\run-20221018_151635-3el9trv5\\files\\model-best)... Done. 0.0s\n"
     ]
    },
    {
     "name": "stdout",
     "output_type": "stream",
     "text": [
      "5/5 [==============================] - 4s 926ms/step - loss: 0.0466 - mae: 0.1668 - val_loss: 0.0505 - val_mae: 0.1734\n",
      "Epoch 137/500\n",
      "5/5 [==============================] - 0s 54ms/step - loss: 0.0461 - mae: 0.1657 - val_loss: 0.0549 - val_mae: 0.1842\n",
      "Epoch 138/500\n",
      "1/5 [=====>........................] - ETA: 0s - loss: 0.0522 - mae: 0.1798"
     ]
    },
    {
     "name": "stderr",
     "output_type": "stream",
     "text": [
      "WARNING:absl:Found untraced functions such as lstm_cell_layer_call_fn, lstm_cell_layer_call_and_return_conditional_losses while saving (showing 2 of 2). These functions will not be directly callable after loading.\n"
     ]
    },
    {
     "name": "stdout",
     "output_type": "stream",
     "text": [
      "INFO:tensorflow:Assets written to: C:\\Users\\PARK\\Documents\\LAB\\RNN vs LSTM\\FInal Example\\wandb\\run-20221018_151635-3el9trv5\\files\\model-best\\assets\n"
     ]
    },
    {
     "name": "stderr",
     "output_type": "stream",
     "text": [
      "INFO:tensorflow:Assets written to: C:\\Users\\PARK\\Documents\\LAB\\RNN vs LSTM\\FInal Example\\wandb\\run-20221018_151635-3el9trv5\\files\\model-best\\assets\n",
      "\u001b[34m\u001b[1mwandb\u001b[0m: Adding directory to artifact (C:\\Users\\PARK\\Documents\\LAB\\RNN vs LSTM\\FInal Example\\wandb\\run-20221018_151635-3el9trv5\\files\\model-best)... Done. 0.0s\n"
     ]
    },
    {
     "name": "stdout",
     "output_type": "stream",
     "text": [
      "5/5 [==============================] - 4s 925ms/step - loss: 0.0480 - mae: 0.1694 - val_loss: 0.0501 - val_mae: 0.1730\n",
      "Epoch 139/500\n",
      "5/5 [==============================] - 0s 69ms/step - loss: 0.0465 - mae: 0.1669 - val_loss: 0.0506 - val_mae: 0.1718\n",
      "Epoch 140/500\n",
      "5/5 [==============================] - 0s 49ms/step - loss: 0.0457 - mae: 0.1652 - val_loss: 0.0502 - val_mae: 0.1730\n",
      "Epoch 141/500\n",
      "5/5 [==============================] - 0s 40ms/step - loss: 0.0452 - mae: 0.1636 - val_loss: 0.0522 - val_mae: 0.1780\n",
      "Epoch 142/500\n",
      "1/5 [=====>........................] - ETA: 0s - loss: 0.0497 - mae: 0.1716"
     ]
    },
    {
     "name": "stderr",
     "output_type": "stream",
     "text": [
      "WARNING:absl:Found untraced functions such as lstm_cell_layer_call_fn, lstm_cell_layer_call_and_return_conditional_losses while saving (showing 2 of 2). These functions will not be directly callable after loading.\n"
     ]
    },
    {
     "name": "stdout",
     "output_type": "stream",
     "text": [
      "INFO:tensorflow:Assets written to: C:\\Users\\PARK\\Documents\\LAB\\RNN vs LSTM\\FInal Example\\wandb\\run-20221018_151635-3el9trv5\\files\\model-best\\assets\n"
     ]
    },
    {
     "name": "stderr",
     "output_type": "stream",
     "text": [
      "INFO:tensorflow:Assets written to: C:\\Users\\PARK\\Documents\\LAB\\RNN vs LSTM\\FInal Example\\wandb\\run-20221018_151635-3el9trv5\\files\\model-best\\assets\n",
      "\u001b[34m\u001b[1mwandb\u001b[0m: Adding directory to artifact (C:\\Users\\PARK\\Documents\\LAB\\RNN vs LSTM\\FInal Example\\wandb\\run-20221018_151635-3el9trv5\\files\\model-best)... Done. 0.0s\n"
     ]
    },
    {
     "name": "stdout",
     "output_type": "stream",
     "text": [
      "5/5 [==============================] - 4s 913ms/step - loss: 0.0462 - mae: 0.1657 - val_loss: 0.0490 - val_mae: 0.1710\n",
      "Epoch 143/500\n",
      "5/5 [==============================] - 0s 52ms/step - loss: 0.0452 - mae: 0.1647 - val_loss: 0.0500 - val_mae: 0.1716\n",
      "Epoch 144/500\n",
      "5/5 [==============================] - 0s 26ms/step - loss: 0.0452 - mae: 0.1641 - val_loss: 0.0492 - val_mae: 0.1704\n",
      "Epoch 145/500\n",
      "1/5 [=====>........................] - ETA: 0s - loss: 0.0451 - mae: 0.1621"
     ]
    },
    {
     "name": "stderr",
     "output_type": "stream",
     "text": [
      "WARNING:absl:Found untraced functions such as lstm_cell_layer_call_fn, lstm_cell_layer_call_and_return_conditional_losses while saving (showing 2 of 2). These functions will not be directly callable after loading.\n"
     ]
    },
    {
     "name": "stdout",
     "output_type": "stream",
     "text": [
      "INFO:tensorflow:Assets written to: C:\\Users\\PARK\\Documents\\LAB\\RNN vs LSTM\\FInal Example\\wandb\\run-20221018_151635-3el9trv5\\files\\model-best\\assets\n"
     ]
    },
    {
     "name": "stderr",
     "output_type": "stream",
     "text": [
      "INFO:tensorflow:Assets written to: C:\\Users\\PARK\\Documents\\LAB\\RNN vs LSTM\\FInal Example\\wandb\\run-20221018_151635-3el9trv5\\files\\model-best\\assets\n",
      "\u001b[34m\u001b[1mwandb\u001b[0m: Adding directory to artifact (C:\\Users\\PARK\\Documents\\LAB\\RNN vs LSTM\\FInal Example\\wandb\\run-20221018_151635-3el9trv5\\files\\model-best)... Done. 0.0s\n"
     ]
    },
    {
     "name": "stdout",
     "output_type": "stream",
     "text": [
      "5/5 [==============================] - 4s 894ms/step - loss: 0.0455 - mae: 0.1645 - val_loss: 0.0486 - val_mae: 0.1716\n",
      "Epoch 146/500\n",
      "5/5 [==============================] - 0s 66ms/step - loss: 0.0447 - mae: 0.1631 - val_loss: 0.0492 - val_mae: 0.1716\n",
      "Epoch 147/500\n",
      "4/5 [=======================>......] - ETA: 0s - loss: 0.0444 - mae: 0.1630"
     ]
    },
    {
     "name": "stderr",
     "output_type": "stream",
     "text": [
      "WARNING:absl:Found untraced functions such as lstm_cell_layer_call_fn, lstm_cell_layer_call_and_return_conditional_losses while saving (showing 2 of 2). These functions will not be directly callable after loading.\n"
     ]
    },
    {
     "name": "stdout",
     "output_type": "stream",
     "text": [
      "INFO:tensorflow:Assets written to: C:\\Users\\PARK\\Documents\\LAB\\RNN vs LSTM\\FInal Example\\wandb\\run-20221018_151635-3el9trv5\\files\\model-best\\assets\n"
     ]
    },
    {
     "name": "stderr",
     "output_type": "stream",
     "text": [
      "INFO:tensorflow:Assets written to: C:\\Users\\PARK\\Documents\\LAB\\RNN vs LSTM\\FInal Example\\wandb\\run-20221018_151635-3el9trv5\\files\\model-best\\assets\n",
      "\u001b[34m\u001b[1mwandb\u001b[0m: Adding directory to artifact (C:\\Users\\PARK\\Documents\\LAB\\RNN vs LSTM\\FInal Example\\wandb\\run-20221018_151635-3el9trv5\\files\\model-best)... Done. 0.0s\n"
     ]
    },
    {
     "name": "stdout",
     "output_type": "stream",
     "text": [
      "5/5 [==============================] - 4s 957ms/step - loss: 0.0443 - mae: 0.1624 - val_loss: 0.0480 - val_mae: 0.1691\n",
      "Epoch 148/500\n",
      "3/5 [=================>............] - ETA: 0s - loss: 0.0449 - mae: 0.1639"
     ]
    },
    {
     "name": "stderr",
     "output_type": "stream",
     "text": [
      "WARNING:absl:Found untraced functions such as lstm_cell_layer_call_fn, lstm_cell_layer_call_and_return_conditional_losses while saving (showing 2 of 2). These functions will not be directly callable after loading.\n"
     ]
    },
    {
     "name": "stdout",
     "output_type": "stream",
     "text": [
      "INFO:tensorflow:Assets written to: C:\\Users\\PARK\\Documents\\LAB\\RNN vs LSTM\\FInal Example\\wandb\\run-20221018_151635-3el9trv5\\files\\model-best\\assets\n"
     ]
    },
    {
     "name": "stderr",
     "output_type": "stream",
     "text": [
      "INFO:tensorflow:Assets written to: C:\\Users\\PARK\\Documents\\LAB\\RNN vs LSTM\\FInal Example\\wandb\\run-20221018_151635-3el9trv5\\files\\model-best\\assets\n",
      "\u001b[34m\u001b[1mwandb\u001b[0m: Adding directory to artifact (C:\\Users\\PARK\\Documents\\LAB\\RNN vs LSTM\\FInal Example\\wandb\\run-20221018_151635-3el9trv5\\files\\model-best)... Done. 0.0s\n"
     ]
    },
    {
     "name": "stdout",
     "output_type": "stream",
     "text": [
      "5/5 [==============================] - 4s 966ms/step - loss: 0.0443 - mae: 0.1616 - val_loss: 0.0478 - val_mae: 0.1683\n",
      "Epoch 149/500\n",
      "5/5 [==============================] - 0s 55ms/step - loss: 0.0434 - mae: 0.1613 - val_loss: 0.0478 - val_mae: 0.1683\n",
      "Epoch 150/500\n",
      "1/5 [=====>........................] - ETA: 0s - loss: 0.0453 - mae: 0.1637"
     ]
    },
    {
     "name": "stderr",
     "output_type": "stream",
     "text": [
      "WARNING:absl:Found untraced functions such as lstm_cell_layer_call_fn, lstm_cell_layer_call_and_return_conditional_losses while saving (showing 2 of 2). These functions will not be directly callable after loading.\n"
     ]
    },
    {
     "name": "stdout",
     "output_type": "stream",
     "text": [
      "INFO:tensorflow:Assets written to: C:\\Users\\PARK\\Documents\\LAB\\RNN vs LSTM\\FInal Example\\wandb\\run-20221018_151635-3el9trv5\\files\\model-best\\assets\n"
     ]
    },
    {
     "name": "stderr",
     "output_type": "stream",
     "text": [
      "INFO:tensorflow:Assets written to: C:\\Users\\PARK\\Documents\\LAB\\RNN vs LSTM\\FInal Example\\wandb\\run-20221018_151635-3el9trv5\\files\\model-best\\assets\n",
      "\u001b[34m\u001b[1mwandb\u001b[0m: Adding directory to artifact (C:\\Users\\PARK\\Documents\\LAB\\RNN vs LSTM\\FInal Example\\wandb\\run-20221018_151635-3el9trv5\\files\\model-best)... Done. 0.0s\n"
     ]
    },
    {
     "name": "stdout",
     "output_type": "stream",
     "text": [
      "5/5 [==============================] - 4s 921ms/step - loss: 0.0437 - mae: 0.1606 - val_loss: 0.0475 - val_mae: 0.1679\n",
      "Epoch 151/500\n",
      "5/5 [==============================] - 0s 66ms/step - loss: 0.0439 - mae: 0.1616 - val_loss: 0.0483 - val_mae: 0.1688\n",
      "Epoch 152/500\n",
      "5/5 [==============================] - 0s 50ms/step - loss: 0.0436 - mae: 0.1604 - val_loss: 0.0479 - val_mae: 0.1693\n",
      "Epoch 153/500\n",
      "5/5 [==============================] - ETA: 0s - loss: 0.0438 - mae: 0.1613"
     ]
    },
    {
     "name": "stderr",
     "output_type": "stream",
     "text": [
      "WARNING:absl:Found untraced functions such as lstm_cell_layer_call_fn, lstm_cell_layer_call_and_return_conditional_losses while saving (showing 2 of 2). These functions will not be directly callable after loading.\n"
     ]
    },
    {
     "name": "stdout",
     "output_type": "stream",
     "text": [
      "INFO:tensorflow:Assets written to: C:\\Users\\PARK\\Documents\\LAB\\RNN vs LSTM\\FInal Example\\wandb\\run-20221018_151635-3el9trv5\\files\\model-best\\assets\n"
     ]
    },
    {
     "name": "stderr",
     "output_type": "stream",
     "text": [
      "INFO:tensorflow:Assets written to: C:\\Users\\PARK\\Documents\\LAB\\RNN vs LSTM\\FInal Example\\wandb\\run-20221018_151635-3el9trv5\\files\\model-best\\assets\n",
      "\u001b[34m\u001b[1mwandb\u001b[0m: Adding directory to artifact (C:\\Users\\PARK\\Documents\\LAB\\RNN vs LSTM\\FInal Example\\wandb\\run-20221018_151635-3el9trv5\\files\\model-best)... Done. 0.0s\n"
     ]
    },
    {
     "name": "stdout",
     "output_type": "stream",
     "text": [
      "5/5 [==============================] - 4s 897ms/step - loss: 0.0438 - mae: 0.1613 - val_loss: 0.0475 - val_mae: 0.1666\n",
      "Epoch 154/500\n",
      "5/5 [==============================] - ETA: 0s - loss: 0.0432 - mae: 0.1592"
     ]
    },
    {
     "name": "stderr",
     "output_type": "stream",
     "text": [
      "WARNING:absl:Found untraced functions such as lstm_cell_layer_call_fn, lstm_cell_layer_call_and_return_conditional_losses while saving (showing 2 of 2). These functions will not be directly callable after loading.\n"
     ]
    },
    {
     "name": "stdout",
     "output_type": "stream",
     "text": [
      "INFO:tensorflow:Assets written to: C:\\Users\\PARK\\Documents\\LAB\\RNN vs LSTM\\FInal Example\\wandb\\run-20221018_151635-3el9trv5\\files\\model-best\\assets\n"
     ]
    },
    {
     "name": "stderr",
     "output_type": "stream",
     "text": [
      "INFO:tensorflow:Assets written to: C:\\Users\\PARK\\Documents\\LAB\\RNN vs LSTM\\FInal Example\\wandb\\run-20221018_151635-3el9trv5\\files\\model-best\\assets\n",
      "\u001b[34m\u001b[1mwandb\u001b[0m: Adding directory to artifact (C:\\Users\\PARK\\Documents\\LAB\\RNN vs LSTM\\FInal Example\\wandb\\run-20221018_151635-3el9trv5\\files\\model-best)... Done. 0.0s\n"
     ]
    },
    {
     "name": "stdout",
     "output_type": "stream",
     "text": [
      "5/5 [==============================] - 4s 909ms/step - loss: 0.0432 - mae: 0.1592 - val_loss: 0.0468 - val_mae: 0.1663\n",
      "Epoch 155/500\n",
      "4/5 [=======================>......] - ETA: 0s - loss: 0.0434 - mae: 0.1604"
     ]
    },
    {
     "name": "stderr",
     "output_type": "stream",
     "text": [
      "WARNING:absl:Found untraced functions such as lstm_cell_layer_call_fn, lstm_cell_layer_call_and_return_conditional_losses while saving (showing 2 of 2). These functions will not be directly callable after loading.\n"
     ]
    },
    {
     "name": "stdout",
     "output_type": "stream",
     "text": [
      "INFO:tensorflow:Assets written to: C:\\Users\\PARK\\Documents\\LAB\\RNN vs LSTM\\FInal Example\\wandb\\run-20221018_151635-3el9trv5\\files\\model-best\\assets\n"
     ]
    },
    {
     "name": "stderr",
     "output_type": "stream",
     "text": [
      "INFO:tensorflow:Assets written to: C:\\Users\\PARK\\Documents\\LAB\\RNN vs LSTM\\FInal Example\\wandb\\run-20221018_151635-3el9trv5\\files\\model-best\\assets\n",
      "\u001b[34m\u001b[1mwandb\u001b[0m: Adding directory to artifact (C:\\Users\\PARK\\Documents\\LAB\\RNN vs LSTM\\FInal Example\\wandb\\run-20221018_151635-3el9trv5\\files\\model-best)... Done. 0.0s\n"
     ]
    },
    {
     "name": "stdout",
     "output_type": "stream",
     "text": [
      "5/5 [==============================] - 4s 947ms/step - loss: 0.0429 - mae: 0.1593 - val_loss: 0.0467 - val_mae: 0.1663\n",
      "Epoch 156/500\n",
      "5/5 [==============================] - 0s 72ms/step - loss: 0.0428 - mae: 0.1592 - val_loss: 0.0472 - val_mae: 0.1664\n",
      "Epoch 157/500\n",
      "5/5 [==============================] - ETA: 0s - loss: 0.0428 - mae: 0.1589"
     ]
    },
    {
     "name": "stderr",
     "output_type": "stream",
     "text": [
      "WARNING:absl:Found untraced functions such as lstm_cell_layer_call_fn, lstm_cell_layer_call_and_return_conditional_losses while saving (showing 2 of 2). These functions will not be directly callable after loading.\n"
     ]
    },
    {
     "name": "stdout",
     "output_type": "stream",
     "text": [
      "INFO:tensorflow:Assets written to: C:\\Users\\PARK\\Documents\\LAB\\RNN vs LSTM\\FInal Example\\wandb\\run-20221018_151635-3el9trv5\\files\\model-best\\assets\n"
     ]
    },
    {
     "name": "stderr",
     "output_type": "stream",
     "text": [
      "INFO:tensorflow:Assets written to: C:\\Users\\PARK\\Documents\\LAB\\RNN vs LSTM\\FInal Example\\wandb\\run-20221018_151635-3el9trv5\\files\\model-best\\assets\n",
      "\u001b[34m\u001b[1mwandb\u001b[0m: Adding directory to artifact (C:\\Users\\PARK\\Documents\\LAB\\RNN vs LSTM\\FInal Example\\wandb\\run-20221018_151635-3el9trv5\\files\\model-best)... Done. 0.0s\n"
     ]
    },
    {
     "name": "stdout",
     "output_type": "stream",
     "text": [
      "5/5 [==============================] - 4s 952ms/step - loss: 0.0428 - mae: 0.1589 - val_loss: 0.0466 - val_mae: 0.1661\n",
      "Epoch 158/500\n",
      "3/5 [=================>............] - ETA: 0s - loss: 0.0435 - mae: 0.1592"
     ]
    },
    {
     "name": "stderr",
     "output_type": "stream",
     "text": [
      "WARNING:absl:Found untraced functions such as lstm_cell_layer_call_fn, lstm_cell_layer_call_and_return_conditional_losses while saving (showing 2 of 2). These functions will not be directly callable after loading.\n"
     ]
    },
    {
     "name": "stdout",
     "output_type": "stream",
     "text": [
      "INFO:tensorflow:Assets written to: C:\\Users\\PARK\\Documents\\LAB\\RNN vs LSTM\\FInal Example\\wandb\\run-20221018_151635-3el9trv5\\files\\model-best\\assets\n"
     ]
    },
    {
     "name": "stderr",
     "output_type": "stream",
     "text": [
      "INFO:tensorflow:Assets written to: C:\\Users\\PARK\\Documents\\LAB\\RNN vs LSTM\\FInal Example\\wandb\\run-20221018_151635-3el9trv5\\files\\model-best\\assets\n",
      "\u001b[34m\u001b[1mwandb\u001b[0m: Adding directory to artifact (C:\\Users\\PARK\\Documents\\LAB\\RNN vs LSTM\\FInal Example\\wandb\\run-20221018_151635-3el9trv5\\files\\model-best)... Done. 0.0s\n"
     ]
    },
    {
     "name": "stdout",
     "output_type": "stream",
     "text": [
      "5/5 [==============================] - 4s 980ms/step - loss: 0.0430 - mae: 0.1595 - val_loss: 0.0462 - val_mae: 0.1659\n",
      "Epoch 159/500\n",
      "5/5 [==============================] - 0s 54ms/step - loss: 0.0426 - mae: 0.1583 - val_loss: 0.0465 - val_mae: 0.1666\n",
      "Epoch 160/500\n",
      "1/5 [=====>........................] - ETA: 0s - loss: 0.0399 - mae: 0.1554"
     ]
    },
    {
     "name": "stderr",
     "output_type": "stream",
     "text": [
      "WARNING:absl:Found untraced functions such as lstm_cell_layer_call_fn, lstm_cell_layer_call_and_return_conditional_losses while saving (showing 2 of 2). These functions will not be directly callable after loading.\n"
     ]
    },
    {
     "name": "stdout",
     "output_type": "stream",
     "text": [
      "INFO:tensorflow:Assets written to: C:\\Users\\PARK\\Documents\\LAB\\RNN vs LSTM\\FInal Example\\wandb\\run-20221018_151635-3el9trv5\\files\\model-best\\assets\n"
     ]
    },
    {
     "name": "stderr",
     "output_type": "stream",
     "text": [
      "INFO:tensorflow:Assets written to: C:\\Users\\PARK\\Documents\\LAB\\RNN vs LSTM\\FInal Example\\wandb\\run-20221018_151635-3el9trv5\\files\\model-best\\assets\n",
      "\u001b[34m\u001b[1mwandb\u001b[0m: Adding directory to artifact (C:\\Users\\PARK\\Documents\\LAB\\RNN vs LSTM\\FInal Example\\wandb\\run-20221018_151635-3el9trv5\\files\\model-best)... Done. 0.0s\n"
     ]
    },
    {
     "name": "stdout",
     "output_type": "stream",
     "text": [
      "5/5 [==============================] - 4s 897ms/step - loss: 0.0429 - mae: 0.1591 - val_loss: 0.0460 - val_mae: 0.1646\n",
      "Epoch 161/500\n",
      "5/5 [==============================] - 0s 76ms/step - loss: 0.0424 - mae: 0.1582 - val_loss: 0.0463 - val_mae: 0.1644\n",
      "Epoch 162/500\n",
      "4/5 [=======================>......] - ETA: 0s - loss: 0.0425 - mae: 0.1580"
     ]
    },
    {
     "name": "stderr",
     "output_type": "stream",
     "text": [
      "WARNING:absl:Found untraced functions such as lstm_cell_layer_call_fn, lstm_cell_layer_call_and_return_conditional_losses while saving (showing 2 of 2). These functions will not be directly callable after loading.\n"
     ]
    },
    {
     "name": "stdout",
     "output_type": "stream",
     "text": [
      "INFO:tensorflow:Assets written to: C:\\Users\\PARK\\Documents\\LAB\\RNN vs LSTM\\FInal Example\\wandb\\run-20221018_151635-3el9trv5\\files\\model-best\\assets\n"
     ]
    },
    {
     "name": "stderr",
     "output_type": "stream",
     "text": [
      "INFO:tensorflow:Assets written to: C:\\Users\\PARK\\Documents\\LAB\\RNN vs LSTM\\FInal Example\\wandb\\run-20221018_151635-3el9trv5\\files\\model-best\\assets\n",
      "\u001b[34m\u001b[1mwandb\u001b[0m: Adding directory to artifact (C:\\Users\\PARK\\Documents\\LAB\\RNN vs LSTM\\FInal Example\\wandb\\run-20221018_151635-3el9trv5\\files\\model-best)... Done. 0.0s\n"
     ]
    },
    {
     "name": "stdout",
     "output_type": "stream",
     "text": [
      "5/5 [==============================] - 4s 913ms/step - loss: 0.0423 - mae: 0.1578 - val_loss: 0.0459 - val_mae: 0.1635\n",
      "Epoch 163/500\n",
      "5/5 [==============================] - 0s 69ms/step - loss: 0.0426 - mae: 0.1581 - val_loss: 0.0464 - val_mae: 0.1653\n",
      "Epoch 164/500\n",
      "5/5 [==============================] - 0s 27ms/step - loss: 0.0428 - mae: 0.1590 - val_loss: 0.0468 - val_mae: 0.1678\n",
      "Epoch 165/500\n",
      "5/5 [==============================] - 0s 28ms/step - loss: 0.0422 - mae: 0.1579 - val_loss: 0.0465 - val_mae: 0.1645\n",
      "Epoch 166/500\n",
      "1/5 [=====>........................] - ETA: 0s - loss: 0.0409 - mae: 0.1507"
     ]
    },
    {
     "name": "stderr",
     "output_type": "stream",
     "text": [
      "WARNING:absl:Found untraced functions such as lstm_cell_layer_call_fn, lstm_cell_layer_call_and_return_conditional_losses while saving (showing 2 of 2). These functions will not be directly callable after loading.\n"
     ]
    },
    {
     "name": "stdout",
     "output_type": "stream",
     "text": [
      "INFO:tensorflow:Assets written to: C:\\Users\\PARK\\Documents\\LAB\\RNN vs LSTM\\FInal Example\\wandb\\run-20221018_151635-3el9trv5\\files\\model-best\\assets\n"
     ]
    },
    {
     "name": "stderr",
     "output_type": "stream",
     "text": [
      "INFO:tensorflow:Assets written to: C:\\Users\\PARK\\Documents\\LAB\\RNN vs LSTM\\FInal Example\\wandb\\run-20221018_151635-3el9trv5\\files\\model-best\\assets\n",
      "\u001b[34m\u001b[1mwandb\u001b[0m: Adding directory to artifact (C:\\Users\\PARK\\Documents\\LAB\\RNN vs LSTM\\FInal Example\\wandb\\run-20221018_151635-3el9trv5\\files\\model-best)... Done. 0.0s\n"
     ]
    },
    {
     "name": "stdout",
     "output_type": "stream",
     "text": [
      "5/5 [==============================] - 3s 861ms/step - loss: 0.0431 - mae: 0.1583 - val_loss: 0.0455 - val_mae: 0.1640\n",
      "Epoch 167/500\n",
      "5/5 [==============================] - 0s 73ms/step - loss: 0.0423 - mae: 0.1578 - val_loss: 0.0466 - val_mae: 0.1646\n",
      "Epoch 168/500\n",
      "5/5 [==============================] - 0s 51ms/step - loss: 0.0422 - mae: 0.1566 - val_loss: 0.0469 - val_mae: 0.1655\n",
      "Epoch 169/500\n",
      "1/5 [=====>........................] - ETA: 0s - loss: 0.0479 - mae: 0.1716"
     ]
    },
    {
     "name": "stderr",
     "output_type": "stream",
     "text": [
      "WARNING:absl:Found untraced functions such as lstm_cell_layer_call_fn, lstm_cell_layer_call_and_return_conditional_losses while saving (showing 2 of 2). These functions will not be directly callable after loading.\n"
     ]
    },
    {
     "name": "stdout",
     "output_type": "stream",
     "text": [
      "INFO:tensorflow:Assets written to: C:\\Users\\PARK\\Documents\\LAB\\RNN vs LSTM\\FInal Example\\wandb\\run-20221018_151635-3el9trv5\\files\\model-best\\assets\n"
     ]
    },
    {
     "name": "stderr",
     "output_type": "stream",
     "text": [
      "INFO:tensorflow:Assets written to: C:\\Users\\PARK\\Documents\\LAB\\RNN vs LSTM\\FInal Example\\wandb\\run-20221018_151635-3el9trv5\\files\\model-best\\assets\n",
      "\u001b[34m\u001b[1mwandb\u001b[0m: Adding directory to artifact (C:\\Users\\PARK\\Documents\\LAB\\RNN vs LSTM\\FInal Example\\wandb\\run-20221018_151635-3el9trv5\\files\\model-best)... Done. 0.0s\n"
     ]
    },
    {
     "name": "stdout",
     "output_type": "stream",
     "text": [
      "5/5 [==============================] - 4s 931ms/step - loss: 0.0424 - mae: 0.1576 - val_loss: 0.0452 - val_mae: 0.1621\n",
      "Epoch 170/500\n",
      "5/5 [==============================] - 0s 72ms/step - loss: 0.0421 - mae: 0.1576 - val_loss: 0.0455 - val_mae: 0.1645\n",
      "Epoch 171/500\n",
      "5/5 [==============================] - 0s 50ms/step - loss: 0.0421 - mae: 0.1574 - val_loss: 0.0474 - val_mae: 0.1686\n",
      "Epoch 172/500\n",
      "1/5 [=====>........................] - ETA: 0s - loss: 0.0472 - mae: 0.1663"
     ]
    },
    {
     "name": "stderr",
     "output_type": "stream",
     "text": [
      "WARNING:absl:Found untraced functions such as lstm_cell_layer_call_fn, lstm_cell_layer_call_and_return_conditional_losses while saving (showing 2 of 2). These functions will not be directly callable after loading.\n"
     ]
    },
    {
     "name": "stdout",
     "output_type": "stream",
     "text": [
      "INFO:tensorflow:Assets written to: C:\\Users\\PARK\\Documents\\LAB\\RNN vs LSTM\\FInal Example\\wandb\\run-20221018_151635-3el9trv5\\files\\model-best\\assets\n"
     ]
    },
    {
     "name": "stderr",
     "output_type": "stream",
     "text": [
      "INFO:tensorflow:Assets written to: C:\\Users\\PARK\\Documents\\LAB\\RNN vs LSTM\\FInal Example\\wandb\\run-20221018_151635-3el9trv5\\files\\model-best\\assets\n",
      "\u001b[34m\u001b[1mwandb\u001b[0m: Adding directory to artifact (C:\\Users\\PARK\\Documents\\LAB\\RNN vs LSTM\\FInal Example\\wandb\\run-20221018_151635-3el9trv5\\files\\model-best)... Done. 0.0s\n"
     ]
    },
    {
     "name": "stdout",
     "output_type": "stream",
     "text": [
      "5/5 [==============================] - 4s 930ms/step - loss: 0.0420 - mae: 0.1566 - val_loss: 0.0447 - val_mae: 0.1608\n",
      "Epoch 173/500\n",
      "5/5 [==============================] - 0s 69ms/step - loss: 0.0417 - mae: 0.1566 - val_loss: 0.0454 - val_mae: 0.1621\n",
      "Epoch 174/500\n",
      "5/5 [==============================] - 0s 53ms/step - loss: 0.0412 - mae: 0.1555 - val_loss: 0.0449 - val_mae: 0.1615\n",
      "Epoch 175/500\n",
      "5/5 [==============================] - 0s 39ms/step - loss: 0.0412 - mae: 0.1548 - val_loss: 0.0447 - val_mae: 0.1619\n",
      "Epoch 176/500\n",
      "5/5 [==============================] - 0s 32ms/step - loss: 0.0410 - mae: 0.1542 - val_loss: 0.0450 - val_mae: 0.1619\n",
      "Epoch 177/500\n",
      "5/5 [==============================] - 0s 33ms/step - loss: 0.0410 - mae: 0.1547 - val_loss: 0.0462 - val_mae: 0.1642\n",
      "Epoch 178/500\n",
      "5/5 [==============================] - 0s 32ms/step - loss: 0.0415 - mae: 0.1562 - val_loss: 0.0449 - val_mae: 0.1623\n",
      "Epoch 179/500\n",
      "1/5 [=====>........................] - ETA: 0s - loss: 0.0438 - mae: 0.1580"
     ]
    },
    {
     "name": "stderr",
     "output_type": "stream",
     "text": [
      "WARNING:absl:Found untraced functions such as lstm_cell_layer_call_fn, lstm_cell_layer_call_and_return_conditional_losses while saving (showing 2 of 2). These functions will not be directly callable after loading.\n"
     ]
    },
    {
     "name": "stdout",
     "output_type": "stream",
     "text": [
      "INFO:tensorflow:Assets written to: C:\\Users\\PARK\\Documents\\LAB\\RNN vs LSTM\\FInal Example\\wandb\\run-20221018_151635-3el9trv5\\files\\model-best\\assets\n"
     ]
    },
    {
     "name": "stderr",
     "output_type": "stream",
     "text": [
      "INFO:tensorflow:Assets written to: C:\\Users\\PARK\\Documents\\LAB\\RNN vs LSTM\\FInal Example\\wandb\\run-20221018_151635-3el9trv5\\files\\model-best\\assets\n",
      "\u001b[34m\u001b[1mwandb\u001b[0m: Adding directory to artifact (C:\\Users\\PARK\\Documents\\LAB\\RNN vs LSTM\\FInal Example\\wandb\\run-20221018_151635-3el9trv5\\files\\model-best)... Done. 0.0s\n"
     ]
    },
    {
     "name": "stdout",
     "output_type": "stream",
     "text": [
      "5/5 [==============================] - 4s 902ms/step - loss: 0.0412 - mae: 0.1541 - val_loss: 0.0446 - val_mae: 0.1614\n",
      "Epoch 180/500\n",
      "5/5 [==============================] - 0s 75ms/step - loss: 0.0410 - mae: 0.1547 - val_loss: 0.0448 - val_mae: 0.1609\n",
      "Epoch 181/500\n",
      "5/5 [==============================] - 0s 56ms/step - loss: 0.0409 - mae: 0.1540 - val_loss: 0.0449 - val_mae: 0.1612\n",
      "Epoch 182/500\n",
      "5/5 [==============================] - 0s 40ms/step - loss: 0.0413 - mae: 0.1562 - val_loss: 0.0451 - val_mae: 0.1626\n",
      "Epoch 183/500\n",
      "5/5 [==============================] - 0s 36ms/step - loss: 0.0414 - mae: 0.1548 - val_loss: 0.0468 - val_mae: 0.1634\n",
      "Epoch 184/500\n",
      "5/5 [==============================] - 0s 38ms/step - loss: 0.0426 - mae: 0.1571 - val_loss: 0.0480 - val_mae: 0.1729\n",
      "Epoch 185/500\n",
      "5/5 [==============================] - 0s 30ms/step - loss: 0.0430 - mae: 0.1594 - val_loss: 0.0458 - val_mae: 0.1645\n",
      "Epoch 186/500\n",
      "5/5 [==============================] - 0s 29ms/step - loss: 0.0421 - mae: 0.1577 - val_loss: 0.0456 - val_mae: 0.1643\n",
      "Epoch 187/500\n",
      "1/5 [=====>........................] - ETA: 0s - loss: 0.0432 - mae: 0.1608"
     ]
    },
    {
     "name": "stderr",
     "output_type": "stream",
     "text": [
      "WARNING:absl:Found untraced functions such as lstm_cell_layer_call_fn, lstm_cell_layer_call_and_return_conditional_losses while saving (showing 2 of 2). These functions will not be directly callable after loading.\n"
     ]
    },
    {
     "name": "stdout",
     "output_type": "stream",
     "text": [
      "INFO:tensorflow:Assets written to: C:\\Users\\PARK\\Documents\\LAB\\RNN vs LSTM\\FInal Example\\wandb\\run-20221018_151635-3el9trv5\\files\\model-best\\assets\n"
     ]
    },
    {
     "name": "stderr",
     "output_type": "stream",
     "text": [
      "INFO:tensorflow:Assets written to: C:\\Users\\PARK\\Documents\\LAB\\RNN vs LSTM\\FInal Example\\wandb\\run-20221018_151635-3el9trv5\\files\\model-best\\assets\n",
      "\u001b[34m\u001b[1mwandb\u001b[0m: Adding directory to artifact (C:\\Users\\PARK\\Documents\\LAB\\RNN vs LSTM\\FInal Example\\wandb\\run-20221018_151635-3el9trv5\\files\\model-best)... Done. 0.0s\n"
     ]
    },
    {
     "name": "stdout",
     "output_type": "stream",
     "text": [
      "5/5 [==============================] - 4s 953ms/step - loss: 0.0423 - mae: 0.1578 - val_loss: 0.0445 - val_mae: 0.1607\n",
      "Epoch 188/500\n",
      "5/5 [==============================] - 0s 78ms/step - loss: 0.0419 - mae: 0.1565 - val_loss: 0.0453 - val_mae: 0.1662\n",
      "Epoch 189/500\n",
      "4/5 [=======================>......] - ETA: 0s - loss: 0.0412 - mae: 0.1577"
     ]
    },
    {
     "name": "stderr",
     "output_type": "stream",
     "text": [
      "WARNING:absl:Found untraced functions such as lstm_cell_layer_call_fn, lstm_cell_layer_call_and_return_conditional_losses while saving (showing 2 of 2). These functions will not be directly callable after loading.\n"
     ]
    },
    {
     "name": "stdout",
     "output_type": "stream",
     "text": [
      "INFO:tensorflow:Assets written to: C:\\Users\\PARK\\Documents\\LAB\\RNN vs LSTM\\FInal Example\\wandb\\run-20221018_151635-3el9trv5\\files\\model-best\\assets\n"
     ]
    },
    {
     "name": "stderr",
     "output_type": "stream",
     "text": [
      "INFO:tensorflow:Assets written to: C:\\Users\\PARK\\Documents\\LAB\\RNN vs LSTM\\FInal Example\\wandb\\run-20221018_151635-3el9trv5\\files\\model-best\\assets\n",
      "\u001b[34m\u001b[1mwandb\u001b[0m: Adding directory to artifact (C:\\Users\\PARK\\Documents\\LAB\\RNN vs LSTM\\FInal Example\\wandb\\run-20221018_151635-3el9trv5\\files\\model-best)... Done. 0.0s\n"
     ]
    },
    {
     "name": "stdout",
     "output_type": "stream",
     "text": [
      "5/5 [==============================] - 4s 941ms/step - loss: 0.0415 - mae: 0.1575 - val_loss: 0.0437 - val_mae: 0.1596\n",
      "Epoch 190/500\n",
      "5/5 [==============================] - 0s 70ms/step - loss: 0.0410 - mae: 0.1535 - val_loss: 0.0454 - val_mae: 0.1622\n",
      "Epoch 191/500\n",
      "5/5 [==============================] - ETA: 0s - loss: 0.0410 - mae: 0.1557"
     ]
    },
    {
     "name": "stderr",
     "output_type": "stream",
     "text": [
      "WARNING:absl:Found untraced functions such as lstm_cell_layer_call_fn, lstm_cell_layer_call_and_return_conditional_losses while saving (showing 2 of 2). These functions will not be directly callable after loading.\n"
     ]
    },
    {
     "name": "stdout",
     "output_type": "stream",
     "text": [
      "INFO:tensorflow:Assets written to: C:\\Users\\PARK\\Documents\\LAB\\RNN vs LSTM\\FInal Example\\wandb\\run-20221018_151635-3el9trv5\\files\\model-best\\assets\n"
     ]
    },
    {
     "name": "stderr",
     "output_type": "stream",
     "text": [
      "INFO:tensorflow:Assets written to: C:\\Users\\PARK\\Documents\\LAB\\RNN vs LSTM\\FInal Example\\wandb\\run-20221018_151635-3el9trv5\\files\\model-best\\assets\n",
      "\u001b[34m\u001b[1mwandb\u001b[0m: Adding directory to artifact (C:\\Users\\PARK\\Documents\\LAB\\RNN vs LSTM\\FInal Example\\wandb\\run-20221018_151635-3el9trv5\\files\\model-best)... Done. 0.0s\n"
     ]
    },
    {
     "name": "stdout",
     "output_type": "stream",
     "text": [
      "5/5 [==============================] - 4s 938ms/step - loss: 0.0410 - mae: 0.1557 - val_loss: 0.0427 - val_mae: 0.1578\n",
      "Epoch 192/500\n",
      "5/5 [==============================] - 0s 72ms/step - loss: 0.0398 - mae: 0.1518 - val_loss: 0.0432 - val_mae: 0.1596\n",
      "Epoch 193/500\n",
      "5/5 [==============================] - 0s 38ms/step - loss: 0.0397 - mae: 0.1528 - val_loss: 0.0435 - val_mae: 0.1587\n",
      "Epoch 194/500\n",
      "1/5 [=====>........................] - ETA: 0s - loss: 0.0404 - mae: 0.1525"
     ]
    },
    {
     "name": "stderr",
     "output_type": "stream",
     "text": [
      "WARNING:absl:Found untraced functions such as lstm_cell_layer_call_fn, lstm_cell_layer_call_and_return_conditional_losses while saving (showing 2 of 2). These functions will not be directly callable after loading.\n"
     ]
    },
    {
     "name": "stdout",
     "output_type": "stream",
     "text": [
      "INFO:tensorflow:Assets written to: C:\\Users\\PARK\\Documents\\LAB\\RNN vs LSTM\\FInal Example\\wandb\\run-20221018_151635-3el9trv5\\files\\model-best\\assets\n"
     ]
    },
    {
     "name": "stderr",
     "output_type": "stream",
     "text": [
      "INFO:tensorflow:Assets written to: C:\\Users\\PARK\\Documents\\LAB\\RNN vs LSTM\\FInal Example\\wandb\\run-20221018_151635-3el9trv5\\files\\model-best\\assets\n",
      "\u001b[34m\u001b[1mwandb\u001b[0m: Adding directory to artifact (C:\\Users\\PARK\\Documents\\LAB\\RNN vs LSTM\\FInal Example\\wandb\\run-20221018_151635-3el9trv5\\files\\model-best)... Done. 0.0s\n"
     ]
    },
    {
     "name": "stdout",
     "output_type": "stream",
     "text": [
      "5/5 [==============================] - 4s 914ms/step - loss: 0.0391 - mae: 0.1485 - val_loss: 0.0422 - val_mae: 0.1567\n",
      "Epoch 195/500\n",
      "5/5 [==============================] - ETA: 0s - loss: 0.0389 - mae: 0.1520"
     ]
    },
    {
     "name": "stderr",
     "output_type": "stream",
     "text": [
      "WARNING:absl:Found untraced functions such as lstm_cell_layer_call_fn, lstm_cell_layer_call_and_return_conditional_losses while saving (showing 2 of 2). These functions will not be directly callable after loading.\n"
     ]
    },
    {
     "name": "stdout",
     "output_type": "stream",
     "text": [
      "INFO:tensorflow:Assets written to: C:\\Users\\PARK\\Documents\\LAB\\RNN vs LSTM\\FInal Example\\wandb\\run-20221018_151635-3el9trv5\\files\\model-best\\assets\n"
     ]
    },
    {
     "name": "stderr",
     "output_type": "stream",
     "text": [
      "INFO:tensorflow:Assets written to: C:\\Users\\PARK\\Documents\\LAB\\RNN vs LSTM\\FInal Example\\wandb\\run-20221018_151635-3el9trv5\\files\\model-best\\assets\n",
      "\u001b[34m\u001b[1mwandb\u001b[0m: Adding directory to artifact (C:\\Users\\PARK\\Documents\\LAB\\RNN vs LSTM\\FInal Example\\wandb\\run-20221018_151635-3el9trv5\\files\\model-best)... Done. 0.0s\n"
     ]
    },
    {
     "name": "stdout",
     "output_type": "stream",
     "text": [
      "5/5 [==============================] - 4s 1s/step - loss: 0.0389 - mae: 0.1520 - val_loss: 0.0420 - val_mae: 0.1563\n",
      "Epoch 196/500\n",
      "5/5 [==============================] - ETA: 0s - loss: 0.0386 - mae: 0.1488"
     ]
    },
    {
     "name": "stderr",
     "output_type": "stream",
     "text": [
      "WARNING:absl:Found untraced functions such as lstm_cell_layer_call_fn, lstm_cell_layer_call_and_return_conditional_losses while saving (showing 2 of 2). These functions will not be directly callable after loading.\n"
     ]
    },
    {
     "name": "stdout",
     "output_type": "stream",
     "text": [
      "INFO:tensorflow:Assets written to: C:\\Users\\PARK\\Documents\\LAB\\RNN vs LSTM\\FInal Example\\wandb\\run-20221018_151635-3el9trv5\\files\\model-best\\assets\n"
     ]
    },
    {
     "name": "stderr",
     "output_type": "stream",
     "text": [
      "INFO:tensorflow:Assets written to: C:\\Users\\PARK\\Documents\\LAB\\RNN vs LSTM\\FInal Example\\wandb\\run-20221018_151635-3el9trv5\\files\\model-best\\assets\n",
      "\u001b[34m\u001b[1mwandb\u001b[0m: Adding directory to artifact (C:\\Users\\PARK\\Documents\\LAB\\RNN vs LSTM\\FInal Example\\wandb\\run-20221018_151635-3el9trv5\\files\\model-best)... Done. 0.0s\n"
     ]
    },
    {
     "name": "stdout",
     "output_type": "stream",
     "text": [
      "5/5 [==============================] - 4s 989ms/step - loss: 0.0386 - mae: 0.1488 - val_loss: 0.0419 - val_mae: 0.1566\n",
      "Epoch 197/500\n",
      "5/5 [==============================] - ETA: 0s - loss: 0.0383 - mae: 0.1494"
     ]
    },
    {
     "name": "stderr",
     "output_type": "stream",
     "text": [
      "WARNING:absl:Found untraced functions such as lstm_cell_layer_call_fn, lstm_cell_layer_call_and_return_conditional_losses while saving (showing 2 of 2). These functions will not be directly callable after loading.\n"
     ]
    },
    {
     "name": "stdout",
     "output_type": "stream",
     "text": [
      "INFO:tensorflow:Assets written to: C:\\Users\\PARK\\Documents\\LAB\\RNN vs LSTM\\FInal Example\\wandb\\run-20221018_151635-3el9trv5\\files\\model-best\\assets\n"
     ]
    },
    {
     "name": "stderr",
     "output_type": "stream",
     "text": [
      "INFO:tensorflow:Assets written to: C:\\Users\\PARK\\Documents\\LAB\\RNN vs LSTM\\FInal Example\\wandb\\run-20221018_151635-3el9trv5\\files\\model-best\\assets\n",
      "\u001b[34m\u001b[1mwandb\u001b[0m: Adding directory to artifact (C:\\Users\\PARK\\Documents\\LAB\\RNN vs LSTM\\FInal Example\\wandb\\run-20221018_151635-3el9trv5\\files\\model-best)... Done. 0.0s\n"
     ]
    },
    {
     "name": "stdout",
     "output_type": "stream",
     "text": [
      "5/5 [==============================] - 4s 962ms/step - loss: 0.0383 - mae: 0.1494 - val_loss: 0.0414 - val_mae: 0.1542\n",
      "Epoch 198/500\n",
      "5/5 [==============================] - ETA: 0s - loss: 0.0379 - mae: 0.1458"
     ]
    },
    {
     "name": "stderr",
     "output_type": "stream",
     "text": [
      "WARNING:absl:Found untraced functions such as lstm_cell_layer_call_fn, lstm_cell_layer_call_and_return_conditional_losses while saving (showing 2 of 2). These functions will not be directly callable after loading.\n"
     ]
    },
    {
     "name": "stdout",
     "output_type": "stream",
     "text": [
      "INFO:tensorflow:Assets written to: C:\\Users\\PARK\\Documents\\LAB\\RNN vs LSTM\\FInal Example\\wandb\\run-20221018_151635-3el9trv5\\files\\model-best\\assets\n"
     ]
    },
    {
     "name": "stderr",
     "output_type": "stream",
     "text": [
      "INFO:tensorflow:Assets written to: C:\\Users\\PARK\\Documents\\LAB\\RNN vs LSTM\\FInal Example\\wandb\\run-20221018_151635-3el9trv5\\files\\model-best\\assets\n",
      "\u001b[34m\u001b[1mwandb\u001b[0m: Adding directory to artifact (C:\\Users\\PARK\\Documents\\LAB\\RNN vs LSTM\\FInal Example\\wandb\\run-20221018_151635-3el9trv5\\files\\model-best)... Done. 0.0s\n"
     ]
    },
    {
     "name": "stdout",
     "output_type": "stream",
     "text": [
      "5/5 [==============================] - 4s 943ms/step - loss: 0.0379 - mae: 0.1458 - val_loss: 0.0406 - val_mae: 0.1543\n",
      "Epoch 199/500\n",
      "4/5 [=======================>......] - ETA: 0s - loss: 0.0373 - mae: 0.1470"
     ]
    },
    {
     "name": "stderr",
     "output_type": "stream",
     "text": [
      "WARNING:absl:Found untraced functions such as lstm_cell_layer_call_fn, lstm_cell_layer_call_and_return_conditional_losses while saving (showing 2 of 2). These functions will not be directly callable after loading.\n"
     ]
    },
    {
     "name": "stdout",
     "output_type": "stream",
     "text": [
      "INFO:tensorflow:Assets written to: C:\\Users\\PARK\\Documents\\LAB\\RNN vs LSTM\\FInal Example\\wandb\\run-20221018_151635-3el9trv5\\files\\model-best\\assets\n"
     ]
    },
    {
     "name": "stderr",
     "output_type": "stream",
     "text": [
      "INFO:tensorflow:Assets written to: C:\\Users\\PARK\\Documents\\LAB\\RNN vs LSTM\\FInal Example\\wandb\\run-20221018_151635-3el9trv5\\files\\model-best\\assets\n",
      "\u001b[34m\u001b[1mwandb\u001b[0m: Adding directory to artifact (C:\\Users\\PARK\\Documents\\LAB\\RNN vs LSTM\\FInal Example\\wandb\\run-20221018_151635-3el9trv5\\files\\model-best)... Done. 0.0s\n"
     ]
    },
    {
     "name": "stdout",
     "output_type": "stream",
     "text": [
      "5/5 [==============================] - 4s 966ms/step - loss: 0.0370 - mae: 0.1461 - val_loss: 0.0406 - val_mae: 0.1522\n",
      "Epoch 200/500\n",
      "5/5 [==============================] - ETA: 0s - loss: 0.0364 - mae: 0.1445"
     ]
    },
    {
     "name": "stderr",
     "output_type": "stream",
     "text": [
      "WARNING:absl:Found untraced functions such as lstm_cell_layer_call_fn, lstm_cell_layer_call_and_return_conditional_losses while saving (showing 2 of 2). These functions will not be directly callable after loading.\n"
     ]
    },
    {
     "name": "stdout",
     "output_type": "stream",
     "text": [
      "INFO:tensorflow:Assets written to: C:\\Users\\PARK\\Documents\\LAB\\RNN vs LSTM\\FInal Example\\wandb\\run-20221018_151635-3el9trv5\\files\\model-best\\assets\n"
     ]
    },
    {
     "name": "stderr",
     "output_type": "stream",
     "text": [
      "INFO:tensorflow:Assets written to: C:\\Users\\PARK\\Documents\\LAB\\RNN vs LSTM\\FInal Example\\wandb\\run-20221018_151635-3el9trv5\\files\\model-best\\assets\n",
      "\u001b[34m\u001b[1mwandb\u001b[0m: Adding directory to artifact (C:\\Users\\PARK\\Documents\\LAB\\RNN vs LSTM\\FInal Example\\wandb\\run-20221018_151635-3el9trv5\\files\\model-best)... Done. 0.0s\n"
     ]
    },
    {
     "name": "stdout",
     "output_type": "stream",
     "text": [
      "5/5 [==============================] - 4s 1s/step - loss: 0.0364 - mae: 0.1445 - val_loss: 0.0391 - val_mae: 0.1504\n",
      "Epoch 201/500\n",
      "5/5 [==============================] - 0s 69ms/step - loss: 0.0362 - mae: 0.1431 - val_loss: 0.0394 - val_mae: 0.1512\n",
      "Epoch 202/500\n",
      "5/5 [==============================] - 0s 46ms/step - loss: 0.0357 - mae: 0.1434 - val_loss: 0.0396 - val_mae: 0.1490\n",
      "Epoch 203/500\n",
      "1/5 [=====>........................] - ETA: 0s - loss: 0.0333 - mae: 0.1370"
     ]
    },
    {
     "name": "stderr",
     "output_type": "stream",
     "text": [
      "WARNING:absl:Found untraced functions such as lstm_cell_layer_call_fn, lstm_cell_layer_call_and_return_conditional_losses while saving (showing 2 of 2). These functions will not be directly callable after loading.\n"
     ]
    },
    {
     "name": "stdout",
     "output_type": "stream",
     "text": [
      "INFO:tensorflow:Assets written to: C:\\Users\\PARK\\Documents\\LAB\\RNN vs LSTM\\FInal Example\\wandb\\run-20221018_151635-3el9trv5\\files\\model-best\\assets\n"
     ]
    },
    {
     "name": "stderr",
     "output_type": "stream",
     "text": [
      "INFO:tensorflow:Assets written to: C:\\Users\\PARK\\Documents\\LAB\\RNN vs LSTM\\FInal Example\\wandb\\run-20221018_151635-3el9trv5\\files\\model-best\\assets\n",
      "\u001b[34m\u001b[1mwandb\u001b[0m: Adding directory to artifact (C:\\Users\\PARK\\Documents\\LAB\\RNN vs LSTM\\FInal Example\\wandb\\run-20221018_151635-3el9trv5\\files\\model-best)... Done. 0.0s\n"
     ]
    },
    {
     "name": "stdout",
     "output_type": "stream",
     "text": [
      "5/5 [==============================] - 4s 918ms/step - loss: 0.0351 - mae: 0.1405 - val_loss: 0.0382 - val_mae: 0.1477\n",
      "Epoch 204/500\n",
      "3/5 [=================>............] - ETA: 0s - loss: 0.0344 - mae: 0.1392"
     ]
    },
    {
     "name": "stderr",
     "output_type": "stream",
     "text": [
      "WARNING:absl:Found untraced functions such as lstm_cell_layer_call_fn, lstm_cell_layer_call_and_return_conditional_losses while saving (showing 2 of 2). These functions will not be directly callable after loading.\n"
     ]
    },
    {
     "name": "stdout",
     "output_type": "stream",
     "text": [
      "INFO:tensorflow:Assets written to: C:\\Users\\PARK\\Documents\\LAB\\RNN vs LSTM\\FInal Example\\wandb\\run-20221018_151635-3el9trv5\\files\\model-best\\assets\n"
     ]
    },
    {
     "name": "stderr",
     "output_type": "stream",
     "text": [
      "INFO:tensorflow:Assets written to: C:\\Users\\PARK\\Documents\\LAB\\RNN vs LSTM\\FInal Example\\wandb\\run-20221018_151635-3el9trv5\\files\\model-best\\assets\n",
      "\u001b[34m\u001b[1mwandb\u001b[0m: Adding directory to artifact (C:\\Users\\PARK\\Documents\\LAB\\RNN vs LSTM\\FInal Example\\wandb\\run-20221018_151635-3el9trv5\\files\\model-best)... Done. 0.0s\n"
     ]
    },
    {
     "name": "stdout",
     "output_type": "stream",
     "text": [
      "5/5 [==============================] - 4s 989ms/step - loss: 0.0344 - mae: 0.1394 - val_loss: 0.0374 - val_mae: 0.1466\n",
      "Epoch 205/500\n",
      "5/5 [==============================] - 0s 74ms/step - loss: 0.0342 - mae: 0.1400 - val_loss: 0.0374 - val_mae: 0.1453\n",
      "Epoch 206/500\n",
      "3/5 [=================>............] - ETA: 0s - loss: 0.0324 - mae: 0.1378"
     ]
    },
    {
     "name": "stderr",
     "output_type": "stream",
     "text": [
      "WARNING:absl:Found untraced functions such as lstm_cell_layer_call_fn, lstm_cell_layer_call_and_return_conditional_losses while saving (showing 2 of 2). These functions will not be directly callable after loading.\n"
     ]
    },
    {
     "name": "stdout",
     "output_type": "stream",
     "text": [
      "INFO:tensorflow:Assets written to: C:\\Users\\PARK\\Documents\\LAB\\RNN vs LSTM\\FInal Example\\wandb\\run-20221018_151635-3el9trv5\\files\\model-best\\assets\n"
     ]
    },
    {
     "name": "stderr",
     "output_type": "stream",
     "text": [
      "INFO:tensorflow:Assets written to: C:\\Users\\PARK\\Documents\\LAB\\RNN vs LSTM\\FInal Example\\wandb\\run-20221018_151635-3el9trv5\\files\\model-best\\assets\n",
      "\u001b[34m\u001b[1mwandb\u001b[0m: Adding directory to artifact (C:\\Users\\PARK\\Documents\\LAB\\RNN vs LSTM\\FInal Example\\wandb\\run-20221018_151635-3el9trv5\\files\\model-best)... Done. 0.0s\n"
     ]
    },
    {
     "name": "stdout",
     "output_type": "stream",
     "text": [
      "5/5 [==============================] - 4s 953ms/step - loss: 0.0337 - mae: 0.1386 - val_loss: 0.0366 - val_mae: 0.1449\n",
      "Epoch 207/500\n",
      "5/5 [==============================] - 0s 73ms/step - loss: 0.0331 - mae: 0.1383 - val_loss: 0.0374 - val_mae: 0.1452\n",
      "Epoch 208/500\n",
      "5/5 [==============================] - 0s 52ms/step - loss: 0.0331 - mae: 0.1377 - val_loss: 0.0373 - val_mae: 0.1448\n",
      "Epoch 209/500\n",
      "5/5 [==============================] - ETA: 0s - loss: 0.0324 - mae: 0.1357"
     ]
    },
    {
     "name": "stderr",
     "output_type": "stream",
     "text": [
      "WARNING:absl:Found untraced functions such as lstm_cell_layer_call_fn, lstm_cell_layer_call_and_return_conditional_losses while saving (showing 2 of 2). These functions will not be directly callable after loading.\n"
     ]
    },
    {
     "name": "stdout",
     "output_type": "stream",
     "text": [
      "INFO:tensorflow:Assets written to: C:\\Users\\PARK\\Documents\\LAB\\RNN vs LSTM\\FInal Example\\wandb\\run-20221018_151635-3el9trv5\\files\\model-best\\assets\n"
     ]
    },
    {
     "name": "stderr",
     "output_type": "stream",
     "text": [
      "INFO:tensorflow:Assets written to: C:\\Users\\PARK\\Documents\\LAB\\RNN vs LSTM\\FInal Example\\wandb\\run-20221018_151635-3el9trv5\\files\\model-best\\assets\n",
      "\u001b[34m\u001b[1mwandb\u001b[0m: Adding directory to artifact (C:\\Users\\PARK\\Documents\\LAB\\RNN vs LSTM\\FInal Example\\wandb\\run-20221018_151635-3el9trv5\\files\\model-best)... Done. 0.0s\n"
     ]
    },
    {
     "name": "stdout",
     "output_type": "stream",
     "text": [
      "5/5 [==============================] - 4s 927ms/step - loss: 0.0324 - mae: 0.1357 - val_loss: 0.0358 - val_mae: 0.1412\n",
      "Epoch 210/500\n",
      "3/5 [=================>............] - ETA: 0s - loss: 0.0337 - mae: 0.1388"
     ]
    },
    {
     "name": "stderr",
     "output_type": "stream",
     "text": [
      "WARNING:absl:Found untraced functions such as lstm_cell_layer_call_fn, lstm_cell_layer_call_and_return_conditional_losses while saving (showing 2 of 2). These functions will not be directly callable after loading.\n"
     ]
    },
    {
     "name": "stdout",
     "output_type": "stream",
     "text": [
      "INFO:tensorflow:Assets written to: C:\\Users\\PARK\\Documents\\LAB\\RNN vs LSTM\\FInal Example\\wandb\\run-20221018_151635-3el9trv5\\files\\model-best\\assets\n"
     ]
    },
    {
     "name": "stderr",
     "output_type": "stream",
     "text": [
      "INFO:tensorflow:Assets written to: C:\\Users\\PARK\\Documents\\LAB\\RNN vs LSTM\\FInal Example\\wandb\\run-20221018_151635-3el9trv5\\files\\model-best\\assets\n",
      "\u001b[34m\u001b[1mwandb\u001b[0m: Adding directory to artifact (C:\\Users\\PARK\\Documents\\LAB\\RNN vs LSTM\\FInal Example\\wandb\\run-20221018_151635-3el9trv5\\files\\model-best)... Done. 0.0s\n"
     ]
    },
    {
     "name": "stdout",
     "output_type": "stream",
     "text": [
      "5/5 [==============================] - 4s 926ms/step - loss: 0.0323 - mae: 0.1362 - val_loss: 0.0358 - val_mae: 0.1410\n",
      "Epoch 211/500\n",
      "5/5 [==============================] - 0s 73ms/step - loss: 0.0321 - mae: 0.1348 - val_loss: 0.0364 - val_mae: 0.1419\n",
      "Epoch 212/500\n",
      "4/5 [=======================>......] - ETA: 0s - loss: 0.0320 - mae: 0.1340"
     ]
    },
    {
     "name": "stderr",
     "output_type": "stream",
     "text": [
      "WARNING:absl:Found untraced functions such as lstm_cell_layer_call_fn, lstm_cell_layer_call_and_return_conditional_losses while saving (showing 2 of 2). These functions will not be directly callable after loading.\n"
     ]
    },
    {
     "name": "stdout",
     "output_type": "stream",
     "text": [
      "INFO:tensorflow:Assets written to: C:\\Users\\PARK\\Documents\\LAB\\RNN vs LSTM\\FInal Example\\wandb\\run-20221018_151635-3el9trv5\\files\\model-best\\assets\n"
     ]
    },
    {
     "name": "stderr",
     "output_type": "stream",
     "text": [
      "INFO:tensorflow:Assets written to: C:\\Users\\PARK\\Documents\\LAB\\RNN vs LSTM\\FInal Example\\wandb\\run-20221018_151635-3el9trv5\\files\\model-best\\assets\n",
      "\u001b[34m\u001b[1mwandb\u001b[0m: Adding directory to artifact (C:\\Users\\PARK\\Documents\\LAB\\RNN vs LSTM\\FInal Example\\wandb\\run-20221018_151635-3el9trv5\\files\\model-best)... Done. 0.0s\n"
     ]
    },
    {
     "name": "stdout",
     "output_type": "stream",
     "text": [
      "5/5 [==============================] - 4s 924ms/step - loss: 0.0323 - mae: 0.1348 - val_loss: 0.0345 - val_mae: 0.1399\n",
      "Epoch 213/500\n",
      "3/5 [=================>............] - ETA: 0s - loss: 0.0307 - mae: 0.1317"
     ]
    },
    {
     "name": "stderr",
     "output_type": "stream",
     "text": [
      "WARNING:absl:Found untraced functions such as lstm_cell_layer_call_fn, lstm_cell_layer_call_and_return_conditional_losses while saving (showing 2 of 2). These functions will not be directly callable after loading.\n"
     ]
    },
    {
     "name": "stdout",
     "output_type": "stream",
     "text": [
      "INFO:tensorflow:Assets written to: C:\\Users\\PARK\\Documents\\LAB\\RNN vs LSTM\\FInal Example\\wandb\\run-20221018_151635-3el9trv5\\files\\model-best\\assets\n"
     ]
    },
    {
     "name": "stderr",
     "output_type": "stream",
     "text": [
      "INFO:tensorflow:Assets written to: C:\\Users\\PARK\\Documents\\LAB\\RNN vs LSTM\\FInal Example\\wandb\\run-20221018_151635-3el9trv5\\files\\model-best\\assets\n",
      "\u001b[34m\u001b[1mwandb\u001b[0m: Adding directory to artifact (C:\\Users\\PARK\\Documents\\LAB\\RNN vs LSTM\\FInal Example\\wandb\\run-20221018_151635-3el9trv5\\files\\model-best)... Done. 0.0s\n"
     ]
    },
    {
     "name": "stdout",
     "output_type": "stream",
     "text": [
      "5/5 [==============================] - 4s 958ms/step - loss: 0.0315 - mae: 0.1333 - val_loss: 0.0343 - val_mae: 0.1408\n",
      "Epoch 214/500\n",
      "5/5 [==============================] - 0s 76ms/step - loss: 0.0313 - mae: 0.1328 - val_loss: 0.0346 - val_mae: 0.1417\n",
      "Epoch 215/500\n",
      "4/5 [=======================>......] - ETA: 0s - loss: 0.0300 - mae: 0.1315"
     ]
    },
    {
     "name": "stderr",
     "output_type": "stream",
     "text": [
      "WARNING:absl:Found untraced functions such as lstm_cell_layer_call_fn, lstm_cell_layer_call_and_return_conditional_losses while saving (showing 2 of 2). These functions will not be directly callable after loading.\n"
     ]
    },
    {
     "name": "stdout",
     "output_type": "stream",
     "text": [
      "INFO:tensorflow:Assets written to: C:\\Users\\PARK\\Documents\\LAB\\RNN vs LSTM\\FInal Example\\wandb\\run-20221018_151635-3el9trv5\\files\\model-best\\assets\n"
     ]
    },
    {
     "name": "stderr",
     "output_type": "stream",
     "text": [
      "INFO:tensorflow:Assets written to: C:\\Users\\PARK\\Documents\\LAB\\RNN vs LSTM\\FInal Example\\wandb\\run-20221018_151635-3el9trv5\\files\\model-best\\assets\n",
      "\u001b[34m\u001b[1mwandb\u001b[0m: Adding directory to artifact (C:\\Users\\PARK\\Documents\\LAB\\RNN vs LSTM\\FInal Example\\wandb\\run-20221018_151635-3el9trv5\\files\\model-best)... Done. 0.0s\n"
     ]
    },
    {
     "name": "stdout",
     "output_type": "stream",
     "text": [
      "5/5 [==============================] - 4s 901ms/step - loss: 0.0308 - mae: 0.1331 - val_loss: 0.0338 - val_mae: 0.1391\n",
      "Epoch 216/500\n",
      "5/5 [==============================] - 0s 76ms/step - loss: 0.0311 - mae: 0.1330 - val_loss: 0.0345 - val_mae: 0.1416\n",
      "Epoch 217/500\n",
      "5/5 [==============================] - 0s 53ms/step - loss: 0.0311 - mae: 0.1352 - val_loss: 0.0348 - val_mae: 0.1421\n",
      "Epoch 218/500\n",
      "5/5 [==============================] - ETA: 0s - loss: 0.0308 - mae: 0.1341"
     ]
    },
    {
     "name": "stderr",
     "output_type": "stream",
     "text": [
      "WARNING:absl:Found untraced functions such as lstm_cell_layer_call_fn, lstm_cell_layer_call_and_return_conditional_losses while saving (showing 2 of 2). These functions will not be directly callable after loading.\n"
     ]
    },
    {
     "name": "stdout",
     "output_type": "stream",
     "text": [
      "INFO:tensorflow:Assets written to: C:\\Users\\PARK\\Documents\\LAB\\RNN vs LSTM\\FInal Example\\wandb\\run-20221018_151635-3el9trv5\\files\\model-best\\assets\n"
     ]
    },
    {
     "name": "stderr",
     "output_type": "stream",
     "text": [
      "INFO:tensorflow:Assets written to: C:\\Users\\PARK\\Documents\\LAB\\RNN vs LSTM\\FInal Example\\wandb\\run-20221018_151635-3el9trv5\\files\\model-best\\assets\n",
      "\u001b[34m\u001b[1mwandb\u001b[0m: Adding directory to artifact (C:\\Users\\PARK\\Documents\\LAB\\RNN vs LSTM\\FInal Example\\wandb\\run-20221018_151635-3el9trv5\\files\\model-best)... Done. 0.0s\n"
     ]
    },
    {
     "name": "stdout",
     "output_type": "stream",
     "text": [
      "5/5 [==============================] - 4s 955ms/step - loss: 0.0308 - mae: 0.1341 - val_loss: 0.0325 - val_mae: 0.1355\n",
      "Epoch 219/500\n",
      "5/5 [==============================] - 0s 87ms/step - loss: 0.0295 - mae: 0.1300 - val_loss: 0.0329 - val_mae: 0.1370\n",
      "Epoch 220/500\n",
      "5/5 [==============================] - 0s 41ms/step - loss: 0.0302 - mae: 0.1301 - val_loss: 0.0345 - val_mae: 0.1427\n",
      "Epoch 221/500\n",
      "1/5 [=====>........................] - ETA: 0s - loss: 0.0310 - mae: 0.1360"
     ]
    },
    {
     "name": "stderr",
     "output_type": "stream",
     "text": [
      "WARNING:absl:Found untraced functions such as lstm_cell_layer_call_fn, lstm_cell_layer_call_and_return_conditional_losses while saving (showing 2 of 2). These functions will not be directly callable after loading.\n"
     ]
    },
    {
     "name": "stdout",
     "output_type": "stream",
     "text": [
      "INFO:tensorflow:Assets written to: C:\\Users\\PARK\\Documents\\LAB\\RNN vs LSTM\\FInal Example\\wandb\\run-20221018_151635-3el9trv5\\files\\model-best\\assets\n"
     ]
    },
    {
     "name": "stderr",
     "output_type": "stream",
     "text": [
      "INFO:tensorflow:Assets written to: C:\\Users\\PARK\\Documents\\LAB\\RNN vs LSTM\\FInal Example\\wandb\\run-20221018_151635-3el9trv5\\files\\model-best\\assets\n",
      "\u001b[34m\u001b[1mwandb\u001b[0m: Adding directory to artifact (C:\\Users\\PARK\\Documents\\LAB\\RNN vs LSTM\\FInal Example\\wandb\\run-20221018_151635-3el9trv5\\files\\model-best)... Done. 0.0s\n"
     ]
    },
    {
     "name": "stdout",
     "output_type": "stream",
     "text": [
      "5/5 [==============================] - 4s 914ms/step - loss: 0.0306 - mae: 0.1326 - val_loss: 0.0321 - val_mae: 0.1349\n",
      "Epoch 222/500\n",
      "5/5 [==============================] - 0s 73ms/step - loss: 0.0295 - mae: 0.1301 - val_loss: 0.0337 - val_mae: 0.1394\n",
      "Epoch 223/500\n",
      "5/5 [==============================] - 0s 39ms/step - loss: 0.0298 - mae: 0.1311 - val_loss: 0.0330 - val_mae: 0.1380\n",
      "Epoch 224/500\n",
      "5/5 [==============================] - 0s 26ms/step - loss: 0.0298 - mae: 0.1311 - val_loss: 0.0351 - val_mae: 0.1427\n",
      "Epoch 225/500\n",
      "5/5 [==============================] - 0s 26ms/step - loss: 0.0308 - mae: 0.1325 - val_loss: 0.0339 - val_mae: 0.1403\n",
      "Epoch 226/500\n",
      "5/5 [==============================] - 0s 26ms/step - loss: 0.0297 - mae: 0.1308 - val_loss: 0.0333 - val_mae: 0.1365\n",
      "Epoch 227/500\n",
      "5/5 [==============================] - 0s 26ms/step - loss: 0.0292 - mae: 0.1295 - val_loss: 0.0330 - val_mae: 0.1340\n",
      "Epoch 228/500\n",
      "5/5 [==============================] - 0s 26ms/step - loss: 0.0291 - mae: 0.1288 - val_loss: 0.0324 - val_mae: 0.1345\n",
      "Epoch 229/500\n",
      "1/5 [=====>........................] - ETA: 0s - loss: 0.0286 - mae: 0.1270"
     ]
    },
    {
     "name": "stderr",
     "output_type": "stream",
     "text": [
      "WARNING:absl:Found untraced functions such as lstm_cell_layer_call_fn, lstm_cell_layer_call_and_return_conditional_losses while saving (showing 2 of 2). These functions will not be directly callable after loading.\n"
     ]
    },
    {
     "name": "stdout",
     "output_type": "stream",
     "text": [
      "INFO:tensorflow:Assets written to: C:\\Users\\PARK\\Documents\\LAB\\RNN vs LSTM\\FInal Example\\wandb\\run-20221018_151635-3el9trv5\\files\\model-best\\assets\n"
     ]
    },
    {
     "name": "stderr",
     "output_type": "stream",
     "text": [
      "INFO:tensorflow:Assets written to: C:\\Users\\PARK\\Documents\\LAB\\RNN vs LSTM\\FInal Example\\wandb\\run-20221018_151635-3el9trv5\\files\\model-best\\assets\n",
      "\u001b[34m\u001b[1mwandb\u001b[0m: Adding directory to artifact (C:\\Users\\PARK\\Documents\\LAB\\RNN vs LSTM\\FInal Example\\wandb\\run-20221018_151635-3el9trv5\\files\\model-best)... Done. 0.0s\n"
     ]
    },
    {
     "name": "stdout",
     "output_type": "stream",
     "text": [
      "5/5 [==============================] - 4s 906ms/step - loss: 0.0288 - mae: 0.1281 - val_loss: 0.0314 - val_mae: 0.1331\n",
      "Epoch 230/500\n",
      "3/5 [=================>............] - ETA: 0s - loss: 0.0287 - mae: 0.1277"
     ]
    },
    {
     "name": "stderr",
     "output_type": "stream",
     "text": [
      "WARNING:absl:Found untraced functions such as lstm_cell_layer_call_fn, lstm_cell_layer_call_and_return_conditional_losses while saving (showing 2 of 2). These functions will not be directly callable after loading.\n"
     ]
    },
    {
     "name": "stdout",
     "output_type": "stream",
     "text": [
      "INFO:tensorflow:Assets written to: C:\\Users\\PARK\\Documents\\LAB\\RNN vs LSTM\\FInal Example\\wandb\\run-20221018_151635-3el9trv5\\files\\model-best\\assets\n"
     ]
    },
    {
     "name": "stderr",
     "output_type": "stream",
     "text": [
      "INFO:tensorflow:Assets written to: C:\\Users\\PARK\\Documents\\LAB\\RNN vs LSTM\\FInal Example\\wandb\\run-20221018_151635-3el9trv5\\files\\model-best\\assets\n",
      "\u001b[34m\u001b[1mwandb\u001b[0m: Adding directory to artifact (C:\\Users\\PARK\\Documents\\LAB\\RNN vs LSTM\\FInal Example\\wandb\\run-20221018_151635-3el9trv5\\files\\model-best)... Done. 0.0s\n"
     ]
    },
    {
     "name": "stdout",
     "output_type": "stream",
     "text": [
      "5/5 [==============================] - 4s 936ms/step - loss: 0.0283 - mae: 0.1269 - val_loss: 0.0313 - val_mae: 0.1330\n",
      "Epoch 231/500\n",
      "5/5 [==============================] - 0s 71ms/step - loss: 0.0276 - mae: 0.1251 - val_loss: 0.0317 - val_mae: 0.1339\n",
      "Epoch 232/500\n",
      "5/5 [==============================] - ETA: 0s - loss: 0.0279 - mae: 0.1258"
     ]
    },
    {
     "name": "stderr",
     "output_type": "stream",
     "text": [
      "WARNING:absl:Found untraced functions such as lstm_cell_layer_call_fn, lstm_cell_layer_call_and_return_conditional_losses while saving (showing 2 of 2). These functions will not be directly callable after loading.\n"
     ]
    },
    {
     "name": "stdout",
     "output_type": "stream",
     "text": [
      "INFO:tensorflow:Assets written to: C:\\Users\\PARK\\Documents\\LAB\\RNN vs LSTM\\FInal Example\\wandb\\run-20221018_151635-3el9trv5\\files\\model-best\\assets\n"
     ]
    },
    {
     "name": "stderr",
     "output_type": "stream",
     "text": [
      "INFO:tensorflow:Assets written to: C:\\Users\\PARK\\Documents\\LAB\\RNN vs LSTM\\FInal Example\\wandb\\run-20221018_151635-3el9trv5\\files\\model-best\\assets\n",
      "\u001b[34m\u001b[1mwandb\u001b[0m: Adding directory to artifact (C:\\Users\\PARK\\Documents\\LAB\\RNN vs LSTM\\FInal Example\\wandb\\run-20221018_151635-3el9trv5\\files\\model-best)... Done. 0.0s\n"
     ]
    },
    {
     "name": "stdout",
     "output_type": "stream",
     "text": [
      "5/5 [==============================] - 4s 923ms/step - loss: 0.0279 - mae: 0.1258 - val_loss: 0.0309 - val_mae: 0.1322\n",
      "Epoch 233/500\n",
      "5/5 [==============================] - 0s 75ms/step - loss: 0.0277 - mae: 0.1258 - val_loss: 0.0315 - val_mae: 0.1355\n",
      "Epoch 234/500\n",
      "5/5 [==============================] - 0s 50ms/step - loss: 0.0280 - mae: 0.1266 - val_loss: 0.0315 - val_mae: 0.1347\n",
      "Epoch 235/500\n",
      "5/5 [==============================] - 0s 41ms/step - loss: 0.0276 - mae: 0.1262 - val_loss: 0.0312 - val_mae: 0.1323\n",
      "Epoch 236/500\n",
      "1/5 [=====>........................] - ETA: 0s - loss: 0.0301 - mae: 0.1292"
     ]
    },
    {
     "name": "stderr",
     "output_type": "stream",
     "text": [
      "WARNING:absl:Found untraced functions such as lstm_cell_layer_call_fn, lstm_cell_layer_call_and_return_conditional_losses while saving (showing 2 of 2). These functions will not be directly callable after loading.\n"
     ]
    },
    {
     "name": "stdout",
     "output_type": "stream",
     "text": [
      "INFO:tensorflow:Assets written to: C:\\Users\\PARK\\Documents\\LAB\\RNN vs LSTM\\FInal Example\\wandb\\run-20221018_151635-3el9trv5\\files\\model-best\\assets\n"
     ]
    },
    {
     "name": "stderr",
     "output_type": "stream",
     "text": [
      "INFO:tensorflow:Assets written to: C:\\Users\\PARK\\Documents\\LAB\\RNN vs LSTM\\FInal Example\\wandb\\run-20221018_151635-3el9trv5\\files\\model-best\\assets\n",
      "\u001b[34m\u001b[1mwandb\u001b[0m: Adding directory to artifact (C:\\Users\\PARK\\Documents\\LAB\\RNN vs LSTM\\FInal Example\\wandb\\run-20221018_151635-3el9trv5\\files\\model-best)... Done. 0.0s\n"
     ]
    },
    {
     "name": "stdout",
     "output_type": "stream",
     "text": [
      "5/5 [==============================] - 4s 912ms/step - loss: 0.0276 - mae: 0.1263 - val_loss: 0.0308 - val_mae: 0.1318\n",
      "Epoch 237/500\n",
      "5/5 [==============================] - 0s 72ms/step - loss: 0.0272 - mae: 0.1248 - val_loss: 0.0309 - val_mae: 0.1331\n",
      "Epoch 238/500\n",
      "4/5 [=======================>......] - ETA: 0s - loss: 0.0271 - mae: 0.1244"
     ]
    },
    {
     "name": "stderr",
     "output_type": "stream",
     "text": [
      "WARNING:absl:Found untraced functions such as lstm_cell_layer_call_fn, lstm_cell_layer_call_and_return_conditional_losses while saving (showing 2 of 2). These functions will not be directly callable after loading.\n"
     ]
    },
    {
     "name": "stdout",
     "output_type": "stream",
     "text": [
      "INFO:tensorflow:Assets written to: C:\\Users\\PARK\\Documents\\LAB\\RNN vs LSTM\\FInal Example\\wandb\\run-20221018_151635-3el9trv5\\files\\model-best\\assets\n"
     ]
    },
    {
     "name": "stderr",
     "output_type": "stream",
     "text": [
      "INFO:tensorflow:Assets written to: C:\\Users\\PARK\\Documents\\LAB\\RNN vs LSTM\\FInal Example\\wandb\\run-20221018_151635-3el9trv5\\files\\model-best\\assets\n",
      "\u001b[34m\u001b[1mwandb\u001b[0m: Adding directory to artifact (C:\\Users\\PARK\\Documents\\LAB\\RNN vs LSTM\\FInal Example\\wandb\\run-20221018_151635-3el9trv5\\files\\model-best)... Done. 0.0s\n"
     ]
    },
    {
     "name": "stdout",
     "output_type": "stream",
     "text": [
      "5/5 [==============================] - 4s 913ms/step - loss: 0.0273 - mae: 0.1251 - val_loss: 0.0304 - val_mae: 0.1310\n",
      "Epoch 239/500\n",
      "5/5 [==============================] - 0s 55ms/step - loss: 0.0270 - mae: 0.1243 - val_loss: 0.0310 - val_mae: 0.1348\n",
      "Epoch 240/500\n",
      "5/5 [==============================] - 0s 28ms/step - loss: 0.0270 - mae: 0.1246 - val_loss: 0.0311 - val_mae: 0.1332\n",
      "Epoch 241/500\n",
      "5/5 [==============================] - 0s 28ms/step - loss: 0.0276 - mae: 0.1264 - val_loss: 0.0320 - val_mae: 0.1336\n",
      "Epoch 242/500\n",
      "5/5 [==============================] - 0s 26ms/step - loss: 0.0275 - mae: 0.1264 - val_loss: 0.0313 - val_mae: 0.1328\n",
      "Epoch 243/500\n",
      "1/5 [=====>........................] - ETA: 0s - loss: 0.0251 - mae: 0.1195"
     ]
    },
    {
     "name": "stderr",
     "output_type": "stream",
     "text": [
      "WARNING:absl:Found untraced functions such as lstm_cell_layer_call_fn, lstm_cell_layer_call_and_return_conditional_losses while saving (showing 2 of 2). These functions will not be directly callable after loading.\n"
     ]
    },
    {
     "name": "stdout",
     "output_type": "stream",
     "text": [
      "INFO:tensorflow:Assets written to: C:\\Users\\PARK\\Documents\\LAB\\RNN vs LSTM\\FInal Example\\wandb\\run-20221018_151635-3el9trv5\\files\\model-best\\assets\n"
     ]
    },
    {
     "name": "stderr",
     "output_type": "stream",
     "text": [
      "INFO:tensorflow:Assets written to: C:\\Users\\PARK\\Documents\\LAB\\RNN vs LSTM\\FInal Example\\wandb\\run-20221018_151635-3el9trv5\\files\\model-best\\assets\n",
      "\u001b[34m\u001b[1mwandb\u001b[0m: Adding directory to artifact (C:\\Users\\PARK\\Documents\\LAB\\RNN vs LSTM\\FInal Example\\wandb\\run-20221018_151635-3el9trv5\\files\\model-best)... Done. 0.0s\n"
     ]
    },
    {
     "name": "stdout",
     "output_type": "stream",
     "text": [
      "5/5 [==============================] - 4s 909ms/step - loss: 0.0275 - mae: 0.1262 - val_loss: 0.0303 - val_mae: 0.1314\n",
      "Epoch 244/500\n",
      "5/5 [==============================] - 0s 70ms/step - loss: 0.0270 - mae: 0.1240 - val_loss: 0.0311 - val_mae: 0.1350\n",
      "Epoch 245/500\n",
      "5/5 [==============================] - 0s 48ms/step - loss: 0.0268 - mae: 0.1240 - val_loss: 0.0307 - val_mae: 0.1327\n",
      "Epoch 246/500\n",
      "1/5 [=====>........................] - ETA: 0s - loss: 0.0289 - mae: 0.1257"
     ]
    },
    {
     "name": "stderr",
     "output_type": "stream",
     "text": [
      "WARNING:absl:Found untraced functions such as lstm_cell_layer_call_fn, lstm_cell_layer_call_and_return_conditional_losses while saving (showing 2 of 2). These functions will not be directly callable after loading.\n"
     ]
    },
    {
     "name": "stdout",
     "output_type": "stream",
     "text": [
      "INFO:tensorflow:Assets written to: C:\\Users\\PARK\\Documents\\LAB\\RNN vs LSTM\\FInal Example\\wandb\\run-20221018_151635-3el9trv5\\files\\model-best\\assets\n"
     ]
    },
    {
     "name": "stderr",
     "output_type": "stream",
     "text": [
      "INFO:tensorflow:Assets written to: C:\\Users\\PARK\\Documents\\LAB\\RNN vs LSTM\\FInal Example\\wandb\\run-20221018_151635-3el9trv5\\files\\model-best\\assets\n",
      "\u001b[34m\u001b[1mwandb\u001b[0m: Adding directory to artifact (C:\\Users\\PARK\\Documents\\LAB\\RNN vs LSTM\\FInal Example\\wandb\\run-20221018_151635-3el9trv5\\files\\model-best)... Done. 0.0s\n"
     ]
    },
    {
     "name": "stdout",
     "output_type": "stream",
     "text": [
      "5/5 [==============================] - 4s 930ms/step - loss: 0.0267 - mae: 0.1240 - val_loss: 0.0302 - val_mae: 0.1322\n",
      "Epoch 247/500\n",
      "5/5 [==============================] - ETA: 0s - loss: 0.0267 - mae: 0.1239"
     ]
    },
    {
     "name": "stderr",
     "output_type": "stream",
     "text": [
      "WARNING:absl:Found untraced functions such as lstm_cell_layer_call_fn, lstm_cell_layer_call_and_return_conditional_losses while saving (showing 2 of 2). These functions will not be directly callable after loading.\n"
     ]
    },
    {
     "name": "stdout",
     "output_type": "stream",
     "text": [
      "INFO:tensorflow:Assets written to: C:\\Users\\PARK\\Documents\\LAB\\RNN vs LSTM\\FInal Example\\wandb\\run-20221018_151635-3el9trv5\\files\\model-best\\assets\n"
     ]
    },
    {
     "name": "stderr",
     "output_type": "stream",
     "text": [
      "INFO:tensorflow:Assets written to: C:\\Users\\PARK\\Documents\\LAB\\RNN vs LSTM\\FInal Example\\wandb\\run-20221018_151635-3el9trv5\\files\\model-best\\assets\n",
      "\u001b[34m\u001b[1mwandb\u001b[0m: Adding directory to artifact (C:\\Users\\PARK\\Documents\\LAB\\RNN vs LSTM\\FInal Example\\wandb\\run-20221018_151635-3el9trv5\\files\\model-best)... Done. 0.0s\n"
     ]
    },
    {
     "name": "stdout",
     "output_type": "stream",
     "text": [
      "5/5 [==============================] - 4s 949ms/step - loss: 0.0267 - mae: 0.1239 - val_loss: 0.0300 - val_mae: 0.1318\n",
      "Epoch 248/500\n",
      "5/5 [==============================] - 0s 56ms/step - loss: 0.0264 - mae: 0.1237 - val_loss: 0.0306 - val_mae: 0.1308\n",
      "Epoch 249/500\n",
      "5/5 [==============================] - 0s 26ms/step - loss: 0.0266 - mae: 0.1237 - val_loss: 0.0304 - val_mae: 0.1320\n",
      "Epoch 250/500\n",
      "1/5 [=====>........................] - ETA: 0s - loss: 0.0262 - mae: 0.1217"
     ]
    },
    {
     "name": "stderr",
     "output_type": "stream",
     "text": [
      "WARNING:absl:Found untraced functions such as lstm_cell_layer_call_fn, lstm_cell_layer_call_and_return_conditional_losses while saving (showing 2 of 2). These functions will not be directly callable after loading.\n"
     ]
    },
    {
     "name": "stdout",
     "output_type": "stream",
     "text": [
      "INFO:tensorflow:Assets written to: C:\\Users\\PARK\\Documents\\LAB\\RNN vs LSTM\\FInal Example\\wandb\\run-20221018_151635-3el9trv5\\files\\model-best\\assets\n"
     ]
    },
    {
     "name": "stderr",
     "output_type": "stream",
     "text": [
      "INFO:tensorflow:Assets written to: C:\\Users\\PARK\\Documents\\LAB\\RNN vs LSTM\\FInal Example\\wandb\\run-20221018_151635-3el9trv5\\files\\model-best\\assets\n",
      "\u001b[34m\u001b[1mwandb\u001b[0m: Adding directory to artifact (C:\\Users\\PARK\\Documents\\LAB\\RNN vs LSTM\\FInal Example\\wandb\\run-20221018_151635-3el9trv5\\files\\model-best)... Done. 0.0s\n"
     ]
    },
    {
     "name": "stdout",
     "output_type": "stream",
     "text": [
      "5/5 [==============================] - 4s 914ms/step - loss: 0.0264 - mae: 0.1233 - val_loss: 0.0300 - val_mae: 0.1308\n",
      "Epoch 251/500\n",
      "5/5 [==============================] - 0s 72ms/step - loss: 0.0265 - mae: 0.1233 - val_loss: 0.0303 - val_mae: 0.1317\n",
      "Epoch 252/500\n",
      "5/5 [==============================] - 0s 48ms/step - loss: 0.0267 - mae: 0.1237 - val_loss: 0.0309 - val_mae: 0.1327\n",
      "Epoch 253/500\n",
      "5/5 [==============================] - 0s 40ms/step - loss: 0.0264 - mae: 0.1229 - val_loss: 0.0310 - val_mae: 0.1331\n",
      "Epoch 254/500\n",
      "5/5 [==============================] - 0s 33ms/step - loss: 0.0262 - mae: 0.1224 - val_loss: 0.0300 - val_mae: 0.1300\n",
      "Epoch 255/500\n",
      "5/5 [==============================] - 0s 31ms/step - loss: 0.0259 - mae: 0.1218 - val_loss: 0.0303 - val_mae: 0.1307\n",
      "Epoch 256/500\n",
      "5/5 [==============================] - 0s 31ms/step - loss: 0.0260 - mae: 0.1217 - val_loss: 0.0303 - val_mae: 0.1319\n",
      "Epoch 257/500\n",
      "5/5 [==============================] - 0s 31ms/step - loss: 0.0258 - mae: 0.1219 - val_loss: 0.0302 - val_mae: 0.1313\n",
      "Epoch 258/500\n",
      "1/5 [=====>........................] - ETA: 0s - loss: 0.0265 - mae: 0.1223"
     ]
    },
    {
     "name": "stderr",
     "output_type": "stream",
     "text": [
      "WARNING:absl:Found untraced functions such as lstm_cell_layer_call_fn, lstm_cell_layer_call_and_return_conditional_losses while saving (showing 2 of 2). These functions will not be directly callable after loading.\n"
     ]
    },
    {
     "name": "stdout",
     "output_type": "stream",
     "text": [
      "INFO:tensorflow:Assets written to: C:\\Users\\PARK\\Documents\\LAB\\RNN vs LSTM\\FInal Example\\wandb\\run-20221018_151635-3el9trv5\\files\\model-best\\assets\n"
     ]
    },
    {
     "name": "stderr",
     "output_type": "stream",
     "text": [
      "INFO:tensorflow:Assets written to: C:\\Users\\PARK\\Documents\\LAB\\RNN vs LSTM\\FInal Example\\wandb\\run-20221018_151635-3el9trv5\\files\\model-best\\assets\n",
      "\u001b[34m\u001b[1mwandb\u001b[0m: Adding directory to artifact (C:\\Users\\PARK\\Documents\\LAB\\RNN vs LSTM\\FInal Example\\wandb\\run-20221018_151635-3el9trv5\\files\\model-best)... Done. 0.0s\n"
     ]
    },
    {
     "name": "stdout",
     "output_type": "stream",
     "text": [
      "5/5 [==============================] - 4s 903ms/step - loss: 0.0256 - mae: 0.1217 - val_loss: 0.0295 - val_mae: 0.1310\n",
      "Epoch 259/500\n",
      "3/5 [=================>............] - ETA: 0s - loss: 0.0256 - mae: 0.1215"
     ]
    },
    {
     "name": "stderr",
     "output_type": "stream",
     "text": [
      "WARNING:absl:Found untraced functions such as lstm_cell_layer_call_fn, lstm_cell_layer_call_and_return_conditional_losses while saving (showing 2 of 2). These functions will not be directly callable after loading.\n"
     ]
    },
    {
     "name": "stdout",
     "output_type": "stream",
     "text": [
      "INFO:tensorflow:Assets written to: C:\\Users\\PARK\\Documents\\LAB\\RNN vs LSTM\\FInal Example\\wandb\\run-20221018_151635-3el9trv5\\files\\model-best\\assets\n"
     ]
    },
    {
     "name": "stderr",
     "output_type": "stream",
     "text": [
      "INFO:tensorflow:Assets written to: C:\\Users\\PARK\\Documents\\LAB\\RNN vs LSTM\\FInal Example\\wandb\\run-20221018_151635-3el9trv5\\files\\model-best\\assets\n",
      "\u001b[34m\u001b[1mwandb\u001b[0m: Adding directory to artifact (C:\\Users\\PARK\\Documents\\LAB\\RNN vs LSTM\\FInal Example\\wandb\\run-20221018_151635-3el9trv5\\files\\model-best)... Done. 0.0s\n"
     ]
    },
    {
     "name": "stdout",
     "output_type": "stream",
     "text": [
      "5/5 [==============================] - 4s 949ms/step - loss: 0.0254 - mae: 0.1209 - val_loss: 0.0292 - val_mae: 0.1295\n",
      "Epoch 260/500\n",
      "5/5 [==============================] - 0s 65ms/step - loss: 0.0254 - mae: 0.1211 - val_loss: 0.0297 - val_mae: 0.1293\n",
      "Epoch 261/500\n",
      "5/5 [==============================] - 0s 51ms/step - loss: 0.0253 - mae: 0.1212 - val_loss: 0.0293 - val_mae: 0.1296\n",
      "Epoch 262/500\n",
      "5/5 [==============================] - 0s 39ms/step - loss: 0.0253 - mae: 0.1209 - val_loss: 0.0297 - val_mae: 0.1293\n",
      "Epoch 263/500\n",
      "5/5 [==============================] - 0s 34ms/step - loss: 0.0255 - mae: 0.1210 - val_loss: 0.0299 - val_mae: 0.1294\n",
      "Epoch 264/500\n",
      "5/5 [==============================] - 0s 30ms/step - loss: 0.0255 - mae: 0.1209 - val_loss: 0.0293 - val_mae: 0.1280\n",
      "Epoch 265/500\n",
      "1/5 [=====>........................] - ETA: 0s - loss: 0.0289 - mae: 0.1269"
     ]
    },
    {
     "name": "stderr",
     "output_type": "stream",
     "text": [
      "WARNING:absl:Found untraced functions such as lstm_cell_layer_call_fn, lstm_cell_layer_call_and_return_conditional_losses while saving (showing 2 of 2). These functions will not be directly callable after loading.\n"
     ]
    },
    {
     "name": "stdout",
     "output_type": "stream",
     "text": [
      "INFO:tensorflow:Assets written to: C:\\Users\\PARK\\Documents\\LAB\\RNN vs LSTM\\FInal Example\\wandb\\run-20221018_151635-3el9trv5\\files\\model-best\\assets\n"
     ]
    },
    {
     "name": "stderr",
     "output_type": "stream",
     "text": [
      "INFO:tensorflow:Assets written to: C:\\Users\\PARK\\Documents\\LAB\\RNN vs LSTM\\FInal Example\\wandb\\run-20221018_151635-3el9trv5\\files\\model-best\\assets\n",
      "\u001b[34m\u001b[1mwandb\u001b[0m: Adding directory to artifact (C:\\Users\\PARK\\Documents\\LAB\\RNN vs LSTM\\FInal Example\\wandb\\run-20221018_151635-3el9trv5\\files\\model-best)... Done. 0.0s\n"
     ]
    },
    {
     "name": "stdout",
     "output_type": "stream",
     "text": [
      "5/5 [==============================] - 3s 868ms/step - loss: 0.0258 - mae: 0.1211 - val_loss: 0.0283 - val_mae: 0.1277\n",
      "Epoch 266/500\n",
      "5/5 [==============================] - 0s 76ms/step - loss: 0.0256 - mae: 0.1211 - val_loss: 0.0301 - val_mae: 0.1317\n",
      "Epoch 267/500\n",
      "5/5 [==============================] - 0s 48ms/step - loss: 0.0254 - mae: 0.1209 - val_loss: 0.0296 - val_mae: 0.1319\n",
      "Epoch 268/500\n",
      "5/5 [==============================] - 0s 41ms/step - loss: 0.0248 - mae: 0.1201 - val_loss: 0.0291 - val_mae: 0.1296\n",
      "Epoch 269/500\n",
      "5/5 [==============================] - 0s 33ms/step - loss: 0.0247 - mae: 0.1200 - val_loss: 0.0290 - val_mae: 0.1292\n",
      "Epoch 270/500\n",
      "5/5 [==============================] - 0s 30ms/step - loss: 0.0243 - mae: 0.1188 - val_loss: 0.0284 - val_mae: 0.1269\n",
      "Epoch 271/500\n",
      "5/5 [==============================] - 0s 32ms/step - loss: 0.0245 - mae: 0.1194 - val_loss: 0.0288 - val_mae: 0.1270\n",
      "Epoch 272/500\n",
      "5/5 [==============================] - 0s 31ms/step - loss: 0.0243 - mae: 0.1184 - val_loss: 0.0283 - val_mae: 0.1289\n",
      "Epoch 273/500\n",
      "1/5 [=====>........................] - ETA: 0s - loss: 0.0244 - mae: 0.1204"
     ]
    },
    {
     "name": "stderr",
     "output_type": "stream",
     "text": [
      "WARNING:absl:Found untraced functions such as lstm_cell_layer_call_fn, lstm_cell_layer_call_and_return_conditional_losses while saving (showing 2 of 2). These functions will not be directly callable after loading.\n"
     ]
    },
    {
     "name": "stdout",
     "output_type": "stream",
     "text": [
      "INFO:tensorflow:Assets written to: C:\\Users\\PARK\\Documents\\LAB\\RNN vs LSTM\\FInal Example\\wandb\\run-20221018_151635-3el9trv5\\files\\model-best\\assets\n"
     ]
    },
    {
     "name": "stderr",
     "output_type": "stream",
     "text": [
      "INFO:tensorflow:Assets written to: C:\\Users\\PARK\\Documents\\LAB\\RNN vs LSTM\\FInal Example\\wandb\\run-20221018_151635-3el9trv5\\files\\model-best\\assets\n",
      "\u001b[34m\u001b[1mwandb\u001b[0m: Adding directory to artifact (C:\\Users\\PARK\\Documents\\LAB\\RNN vs LSTM\\FInal Example\\wandb\\run-20221018_151635-3el9trv5\\files\\model-best)... Done. 0.0s\n"
     ]
    },
    {
     "name": "stdout",
     "output_type": "stream",
     "text": [
      "5/5 [==============================] - 4s 922ms/step - loss: 0.0245 - mae: 0.1195 - val_loss: 0.0283 - val_mae: 0.1289\n",
      "Epoch 274/500\n",
      "5/5 [==============================] - 0s 80ms/step - loss: 0.0241 - mae: 0.1188 - val_loss: 0.0284 - val_mae: 0.1289\n",
      "Epoch 275/500\n",
      "5/5 [==============================] - 0s 56ms/step - loss: 0.0243 - mae: 0.1176 - val_loss: 0.0285 - val_mae: 0.1294\n",
      "Epoch 276/500\n",
      "5/5 [==============================] - ETA: 0s - loss: 0.0246 - mae: 0.1189"
     ]
    },
    {
     "name": "stderr",
     "output_type": "stream",
     "text": [
      "WARNING:absl:Found untraced functions such as lstm_cell_layer_call_fn, lstm_cell_layer_call_and_return_conditional_losses while saving (showing 2 of 2). These functions will not be directly callable after loading.\n"
     ]
    },
    {
     "name": "stdout",
     "output_type": "stream",
     "text": [
      "INFO:tensorflow:Assets written to: C:\\Users\\PARK\\Documents\\LAB\\RNN vs LSTM\\FInal Example\\wandb\\run-20221018_151635-3el9trv5\\files\\model-best\\assets\n"
     ]
    },
    {
     "name": "stderr",
     "output_type": "stream",
     "text": [
      "INFO:tensorflow:Assets written to: C:\\Users\\PARK\\Documents\\LAB\\RNN vs LSTM\\FInal Example\\wandb\\run-20221018_151635-3el9trv5\\files\\model-best\\assets\n",
      "\u001b[34m\u001b[1mwandb\u001b[0m: Adding directory to artifact (C:\\Users\\PARK\\Documents\\LAB\\RNN vs LSTM\\FInal Example\\wandb\\run-20221018_151635-3el9trv5\\files\\model-best)... Done. 0.0s\n"
     ]
    },
    {
     "name": "stdout",
     "output_type": "stream",
     "text": [
      "5/5 [==============================] - 4s 922ms/step - loss: 0.0246 - mae: 0.1189 - val_loss: 0.0279 - val_mae: 0.1259\n",
      "Epoch 277/500\n",
      "5/5 [==============================] - ETA: 0s - loss: 0.0239 - mae: 0.1174"
     ]
    },
    {
     "name": "stderr",
     "output_type": "stream",
     "text": [
      "WARNING:absl:Found untraced functions such as lstm_cell_layer_call_fn, lstm_cell_layer_call_and_return_conditional_losses while saving (showing 2 of 2). These functions will not be directly callable after loading.\n"
     ]
    },
    {
     "name": "stdout",
     "output_type": "stream",
     "text": [
      "INFO:tensorflow:Assets written to: C:\\Users\\PARK\\Documents\\LAB\\RNN vs LSTM\\FInal Example\\wandb\\run-20221018_151635-3el9trv5\\files\\model-best\\assets\n"
     ]
    },
    {
     "name": "stderr",
     "output_type": "stream",
     "text": [
      "INFO:tensorflow:Assets written to: C:\\Users\\PARK\\Documents\\LAB\\RNN vs LSTM\\FInal Example\\wandb\\run-20221018_151635-3el9trv5\\files\\model-best\\assets\n",
      "\u001b[34m\u001b[1mwandb\u001b[0m: Adding directory to artifact (C:\\Users\\PARK\\Documents\\LAB\\RNN vs LSTM\\FInal Example\\wandb\\run-20221018_151635-3el9trv5\\files\\model-best)... Done. 0.0s\n"
     ]
    },
    {
     "name": "stdout",
     "output_type": "stream",
     "text": [
      "5/5 [==============================] - 4s 927ms/step - loss: 0.0239 - mae: 0.1174 - val_loss: 0.0275 - val_mae: 0.1258\n",
      "Epoch 278/500\n",
      "5/5 [==============================] - 0s 54ms/step - loss: 0.0238 - mae: 0.1183 - val_loss: 0.0277 - val_mae: 0.1255\n",
      "Epoch 279/500\n",
      "5/5 [==============================] - 0s 26ms/step - loss: 0.0233 - mae: 0.1166 - val_loss: 0.0276 - val_mae: 0.1266\n",
      "Epoch 280/500\n",
      "1/5 [=====>........................] - ETA: 0s - loss: 0.0255 - mae: 0.1211"
     ]
    },
    {
     "name": "stderr",
     "output_type": "stream",
     "text": [
      "WARNING:absl:Found untraced functions such as lstm_cell_layer_call_fn, lstm_cell_layer_call_and_return_conditional_losses while saving (showing 2 of 2). These functions will not be directly callable after loading.\n"
     ]
    },
    {
     "name": "stdout",
     "output_type": "stream",
     "text": [
      "INFO:tensorflow:Assets written to: C:\\Users\\PARK\\Documents\\LAB\\RNN vs LSTM\\FInal Example\\wandb\\run-20221018_151635-3el9trv5\\files\\model-best\\assets\n"
     ]
    },
    {
     "name": "stderr",
     "output_type": "stream",
     "text": [
      "INFO:tensorflow:Assets written to: C:\\Users\\PARK\\Documents\\LAB\\RNN vs LSTM\\FInal Example\\wandb\\run-20221018_151635-3el9trv5\\files\\model-best\\assets\n",
      "\u001b[34m\u001b[1mwandb\u001b[0m: Adding directory to artifact (C:\\Users\\PARK\\Documents\\LAB\\RNN vs LSTM\\FInal Example\\wandb\\run-20221018_151635-3el9trv5\\files\\model-best)... Done. 0.0s\n"
     ]
    },
    {
     "name": "stdout",
     "output_type": "stream",
     "text": [
      "5/5 [==============================] - 4s 924ms/step - loss: 0.0231 - mae: 0.1165 - val_loss: 0.0273 - val_mae: 0.1255\n",
      "Epoch 281/500\n",
      "5/5 [==============================] - ETA: 0s - loss: 0.0229 - mae: 0.1157"
     ]
    },
    {
     "name": "stderr",
     "output_type": "stream",
     "text": [
      "WARNING:absl:Found untraced functions such as lstm_cell_layer_call_fn, lstm_cell_layer_call_and_return_conditional_losses while saving (showing 2 of 2). These functions will not be directly callable after loading.\n"
     ]
    },
    {
     "name": "stdout",
     "output_type": "stream",
     "text": [
      "INFO:tensorflow:Assets written to: C:\\Users\\PARK\\Documents\\LAB\\RNN vs LSTM\\FInal Example\\wandb\\run-20221018_151635-3el9trv5\\files\\model-best\\assets\n"
     ]
    },
    {
     "name": "stderr",
     "output_type": "stream",
     "text": [
      "INFO:tensorflow:Assets written to: C:\\Users\\PARK\\Documents\\LAB\\RNN vs LSTM\\FInal Example\\wandb\\run-20221018_151635-3el9trv5\\files\\model-best\\assets\n",
      "\u001b[34m\u001b[1mwandb\u001b[0m: Adding directory to artifact (C:\\Users\\PARK\\Documents\\LAB\\RNN vs LSTM\\FInal Example\\wandb\\run-20221018_151635-3el9trv5\\files\\model-best)... Done. 0.0s\n"
     ]
    },
    {
     "name": "stdout",
     "output_type": "stream",
     "text": [
      "5/5 [==============================] - 4s 942ms/step - loss: 0.0229 - mae: 0.1157 - val_loss: 0.0268 - val_mae: 0.1250\n",
      "Epoch 282/500\n",
      "5/5 [==============================] - 0s 78ms/step - loss: 0.0228 - mae: 0.1159 - val_loss: 0.0278 - val_mae: 0.1273\n",
      "Epoch 283/500\n",
      "5/5 [==============================] - 0s 55ms/step - loss: 0.0230 - mae: 0.1161 - val_loss: 0.0278 - val_mae: 0.1279\n",
      "Epoch 284/500\n",
      "1/5 [=====>........................] - ETA: 0s - loss: 0.0219 - mae: 0.1160"
     ]
    },
    {
     "name": "stderr",
     "output_type": "stream",
     "text": [
      "WARNING:absl:Found untraced functions such as lstm_cell_layer_call_fn, lstm_cell_layer_call_and_return_conditional_losses while saving (showing 2 of 2). These functions will not be directly callable after loading.\n"
     ]
    },
    {
     "name": "stdout",
     "output_type": "stream",
     "text": [
      "INFO:tensorflow:Assets written to: C:\\Users\\PARK\\Documents\\LAB\\RNN vs LSTM\\FInal Example\\wandb\\run-20221018_151635-3el9trv5\\files\\model-best\\assets\n"
     ]
    },
    {
     "name": "stderr",
     "output_type": "stream",
     "text": [
      "INFO:tensorflow:Assets written to: C:\\Users\\PARK\\Documents\\LAB\\RNN vs LSTM\\FInal Example\\wandb\\run-20221018_151635-3el9trv5\\files\\model-best\\assets\n",
      "\u001b[34m\u001b[1mwandb\u001b[0m: Adding directory to artifact (C:\\Users\\PARK\\Documents\\LAB\\RNN vs LSTM\\FInal Example\\wandb\\run-20221018_151635-3el9trv5\\files\\model-best)... Done. 0.0s\n"
     ]
    },
    {
     "name": "stdout",
     "output_type": "stream",
     "text": [
      "5/5 [==============================] - 4s 930ms/step - loss: 0.0233 - mae: 0.1165 - val_loss: 0.0267 - val_mae: 0.1251\n",
      "Epoch 285/500\n",
      "5/5 [==============================] - 0s 69ms/step - loss: 0.0228 - mae: 0.1154 - val_loss: 0.0268 - val_mae: 0.1245\n",
      "Epoch 286/500\n",
      "5/5 [==============================] - 0s 50ms/step - loss: 0.0228 - mae: 0.1159 - val_loss: 0.0275 - val_mae: 0.1251\n",
      "Epoch 287/500\n",
      "1/5 [=====>........................] - ETA: 0s - loss: 0.0234 - mae: 0.1127"
     ]
    },
    {
     "name": "stderr",
     "output_type": "stream",
     "text": [
      "WARNING:absl:Found untraced functions such as lstm_cell_layer_call_fn, lstm_cell_layer_call_and_return_conditional_losses while saving (showing 2 of 2). These functions will not be directly callable after loading.\n"
     ]
    },
    {
     "name": "stdout",
     "output_type": "stream",
     "text": [
      "INFO:tensorflow:Assets written to: C:\\Users\\PARK\\Documents\\LAB\\RNN vs LSTM\\FInal Example\\wandb\\run-20221018_151635-3el9trv5\\files\\model-best\\assets\n"
     ]
    },
    {
     "name": "stderr",
     "output_type": "stream",
     "text": [
      "INFO:tensorflow:Assets written to: C:\\Users\\PARK\\Documents\\LAB\\RNN vs LSTM\\FInal Example\\wandb\\run-20221018_151635-3el9trv5\\files\\model-best\\assets\n",
      "\u001b[34m\u001b[1mwandb\u001b[0m: Adding directory to artifact (C:\\Users\\PARK\\Documents\\LAB\\RNN vs LSTM\\FInal Example\\wandb\\run-20221018_151635-3el9trv5\\files\\model-best)... Done. 0.0s\n"
     ]
    },
    {
     "name": "stdout",
     "output_type": "stream",
     "text": [
      "5/5 [==============================] - 4s 923ms/step - loss: 0.0229 - mae: 0.1160 - val_loss: 0.0258 - val_mae: 0.1223\n",
      "Epoch 288/500\n",
      "5/5 [==============================] - 0s 72ms/step - loss: 0.0219 - mae: 0.1142 - val_loss: 0.0301 - val_mae: 0.1270\n",
      "Epoch 289/500\n",
      "5/5 [==============================] - 0s 48ms/step - loss: 0.0425 - mae: 0.1542 - val_loss: 0.0598 - val_mae: 0.1968\n",
      "Epoch 290/500\n",
      "5/5 [==============================] - 0s 27ms/step - loss: 0.0535 - mae: 0.1819 - val_loss: 0.0558 - val_mae: 0.1783\n",
      "Epoch 291/500\n",
      "5/5 [==============================] - 0s 26ms/step - loss: 0.0558 - mae: 0.1851 - val_loss: 0.0703 - val_mae: 0.1978\n",
      "Epoch 292/500\n",
      "5/5 [==============================] - 0s 26ms/step - loss: 0.0546 - mae: 0.1814 - val_loss: 0.0620 - val_mae: 0.1905\n",
      "Epoch 293/500\n",
      "5/5 [==============================] - 0s 26ms/step - loss: 0.0521 - mae: 0.1790 - val_loss: 0.0504 - val_mae: 0.1731\n",
      "Epoch 294/500\n",
      "5/5 [==============================] - 0s 27ms/step - loss: 0.0486 - mae: 0.1704 - val_loss: 0.0494 - val_mae: 0.1705\n",
      "Epoch 295/500\n",
      "5/5 [==============================] - 0s 26ms/step - loss: 0.0476 - mae: 0.1681 - val_loss: 0.0496 - val_mae: 0.1796\n",
      "Epoch 296/500\n",
      "5/5 [==============================] - 0s 26ms/step - loss: 0.0451 - mae: 0.1654 - val_loss: 0.0456 - val_mae: 0.1636\n",
      "Epoch 297/500\n",
      "5/5 [==============================] - 0s 26ms/step - loss: 0.0425 - mae: 0.1596 - val_loss: 0.0437 - val_mae: 0.1613\n",
      "Epoch 298/500\n",
      "5/5 [==============================] - 0s 25ms/step - loss: 0.0394 - mae: 0.1539 - val_loss: 0.0430 - val_mae: 0.1584\n",
      "Epoch 299/500\n",
      "5/5 [==============================] - 0s 26ms/step - loss: 0.0388 - mae: 0.1513 - val_loss: 0.0417 - val_mae: 0.1566\n",
      "Epoch 300/500\n",
      "5/5 [==============================] - 0s 26ms/step - loss: 0.0379 - mae: 0.1501 - val_loss: 0.0411 - val_mae: 0.1576\n",
      "Epoch 301/500\n",
      "5/5 [==============================] - 0s 26ms/step - loss: 0.0371 - mae: 0.1499 - val_loss: 0.0406 - val_mae: 0.1564\n",
      "Epoch 302/500\n",
      "5/5 [==============================] - 0s 26ms/step - loss: 0.0370 - mae: 0.1494 - val_loss: 0.0401 - val_mae: 0.1537\n",
      "Epoch 303/500\n",
      "5/5 [==============================] - 0s 26ms/step - loss: 0.0364 - mae: 0.1473 - val_loss: 0.0395 - val_mae: 0.1539\n",
      "Epoch 304/500\n",
      "5/5 [==============================] - 0s 26ms/step - loss: 0.0359 - mae: 0.1465 - val_loss: 0.0394 - val_mae: 0.1526\n",
      "Epoch 305/500\n",
      "5/5 [==============================] - 0s 27ms/step - loss: 0.0359 - mae: 0.1468 - val_loss: 0.0394 - val_mae: 0.1524\n",
      "Epoch 306/500\n",
      "5/5 [==============================] - 0s 27ms/step - loss: 0.0357 - mae: 0.1462 - val_loss: 0.0382 - val_mae: 0.1505\n",
      "Epoch 307/500\n",
      "5/5 [==============================] - 0s 27ms/step - loss: 0.0351 - mae: 0.1447 - val_loss: 0.0381 - val_mae: 0.1502\n",
      "Epoch 308/500\n",
      "5/5 [==============================] - 0s 27ms/step - loss: 0.0351 - mae: 0.1445 - val_loss: 0.0379 - val_mae: 0.1500\n",
      "Epoch 309/500\n",
      "5/5 [==============================] - 0s 28ms/step - loss: 0.0345 - mae: 0.1437 - val_loss: 0.0377 - val_mae: 0.1501\n",
      "Epoch 310/500\n",
      "5/5 [==============================] - 0s 27ms/step - loss: 0.0344 - mae: 0.1436 - val_loss: 0.0375 - val_mae: 0.1495\n",
      "Epoch 311/500\n",
      "5/5 [==============================] - 0s 28ms/step - loss: 0.0341 - mae: 0.1431 - val_loss: 0.0368 - val_mae: 0.1474\n",
      "Epoch 312/500\n",
      "5/5 [==============================] - 0s 30ms/step - loss: 0.0340 - mae: 0.1423 - val_loss: 0.0375 - val_mae: 0.1499\n",
      "Epoch 313/500\n",
      "5/5 [==============================] - 0s 28ms/step - loss: 0.0339 - mae: 0.1429 - val_loss: 0.0371 - val_mae: 0.1500\n",
      "Epoch 314/500\n",
      "5/5 [==============================] - 0s 31ms/step - loss: 0.0336 - mae: 0.1422 - val_loss: 0.0363 - val_mae: 0.1475\n",
      "Epoch 315/500\n",
      "5/5 [==============================] - 0s 29ms/step - loss: 0.0334 - mae: 0.1414 - val_loss: 0.0368 - val_mae: 0.1482\n",
      "Epoch 316/500\n",
      "5/5 [==============================] - 0s 29ms/step - loss: 0.0331 - mae: 0.1408 - val_loss: 0.0357 - val_mae: 0.1461\n",
      "Epoch 317/500\n",
      "5/5 [==============================] - 0s 30ms/step - loss: 0.0329 - mae: 0.1403 - val_loss: 0.0360 - val_mae: 0.1469\n",
      "Epoch 318/500\n",
      "5/5 [==============================] - 0s 30ms/step - loss: 0.0326 - mae: 0.1396 - val_loss: 0.0360 - val_mae: 0.1462\n",
      "Epoch 319/500\n",
      "5/5 [==============================] - 0s 29ms/step - loss: 0.0325 - mae: 0.1400 - val_loss: 0.0354 - val_mae: 0.1447\n",
      "Epoch 320/500\n",
      "5/5 [==============================] - 0s 29ms/step - loss: 0.0325 - mae: 0.1388 - val_loss: 0.0353 - val_mae: 0.1453\n",
      "Epoch 321/500\n",
      "5/5 [==============================] - 0s 29ms/step - loss: 0.0324 - mae: 0.1396 - val_loss: 0.0352 - val_mae: 0.1451\n",
      "Epoch 322/500\n",
      "5/5 [==============================] - 0s 29ms/step - loss: 0.0317 - mae: 0.1381 - val_loss: 0.0342 - val_mae: 0.1425\n",
      "Epoch 323/500\n",
      "5/5 [==============================] - 0s 28ms/step - loss: 0.0314 - mae: 0.1367 - val_loss: 0.0349 - val_mae: 0.1441\n",
      "Epoch 324/500\n",
      "5/5 [==============================] - 0s 28ms/step - loss: 0.0313 - mae: 0.1373 - val_loss: 0.0338 - val_mae: 0.1430\n",
      "Epoch 325/500\n",
      "5/5 [==============================] - 0s 28ms/step - loss: 0.0306 - mae: 0.1355 - val_loss: 0.0336 - val_mae: 0.1412\n",
      "Epoch 326/500\n",
      "5/5 [==============================] - 0s 27ms/step - loss: 0.0305 - mae: 0.1347 - val_loss: 0.0335 - val_mae: 0.1405\n",
      "Epoch 327/500\n",
      "5/5 [==============================] - 0s 27ms/step - loss: 0.0301 - mae: 0.1343 - val_loss: 0.0329 - val_mae: 0.1406\n",
      "Epoch 328/500\n",
      "5/5 [==============================] - 0s 28ms/step - loss: 0.0296 - mae: 0.1327 - val_loss: 0.0325 - val_mae: 0.1387\n",
      "Epoch 329/500\n",
      "5/5 [==============================] - 0s 28ms/step - loss: 0.0292 - mae: 0.1318 - val_loss: 0.0318 - val_mae: 0.1371\n",
      "Epoch 330/500\n",
      "5/5 [==============================] - 0s 27ms/step - loss: 0.0289 - mae: 0.1310 - val_loss: 0.0316 - val_mae: 0.1375\n",
      "Epoch 331/500\n",
      "5/5 [==============================] - 0s 28ms/step - loss: 0.0284 - mae: 0.1303 - val_loss: 0.0315 - val_mae: 0.1371\n",
      "Epoch 332/500\n",
      "5/5 [==============================] - 0s 28ms/step - loss: 0.0282 - mae: 0.1294 - val_loss: 0.0310 - val_mae: 0.1347\n",
      "Epoch 333/500\n",
      "5/5 [==============================] - 0s 28ms/step - loss: 0.0276 - mae: 0.1281 - val_loss: 0.0310 - val_mae: 0.1346\n",
      "Epoch 334/500\n",
      "5/5 [==============================] - 0s 27ms/step - loss: 0.0273 - mae: 0.1274 - val_loss: 0.0298 - val_mae: 0.1328\n",
      "Epoch 335/500\n",
      "5/5 [==============================] - 0s 27ms/step - loss: 0.0264 - mae: 0.1258 - val_loss: 0.0301 - val_mae: 0.1335\n",
      "Epoch 336/500\n",
      "5/5 [==============================] - 0s 28ms/step - loss: 0.0263 - mae: 0.1255 - val_loss: 0.0290 - val_mae: 0.1311\n",
      "Epoch 337/500\n",
      "5/5 [==============================] - 0s 28ms/step - loss: 0.0257 - mae: 0.1235 - val_loss: 0.0283 - val_mae: 0.1300\n",
      "Epoch 338/500\n",
      "5/5 [==============================] - 0s 27ms/step - loss: 0.0254 - mae: 0.1230 - val_loss: 0.0275 - val_mae: 0.1278\n",
      "Epoch 339/500\n",
      "5/5 [==============================] - 0s 27ms/step - loss: 0.0249 - mae: 0.1219 - val_loss: 0.0276 - val_mae: 0.1277\n",
      "Epoch 340/500\n",
      "5/5 [==============================] - 0s 27ms/step - loss: 0.0246 - mae: 0.1212 - val_loss: 0.0268 - val_mae: 0.1259\n",
      "Epoch 341/500\n",
      "5/5 [==============================] - 0s 28ms/step - loss: 0.0239 - mae: 0.1198 - val_loss: 0.0266 - val_mae: 0.1261\n",
      "Epoch 342/500\n",
      "5/5 [==============================] - 0s 28ms/step - loss: 0.0238 - mae: 0.1200 - val_loss: 0.0267 - val_mae: 0.1256\n",
      "Epoch 343/500\n",
      "5/5 [==============================] - 0s 28ms/step - loss: 0.0236 - mae: 0.1187 - val_loss: 0.0263 - val_mae: 0.1244\n",
      "Epoch 344/500\n",
      "1/5 [=====>........................] - ETA: 0s - loss: 0.0235 - mae: 0.1173"
     ]
    },
    {
     "name": "stderr",
     "output_type": "stream",
     "text": [
      "WARNING:absl:Found untraced functions such as lstm_cell_layer_call_fn, lstm_cell_layer_call_and_return_conditional_losses while saving (showing 2 of 2). These functions will not be directly callable after loading.\n"
     ]
    },
    {
     "name": "stdout",
     "output_type": "stream",
     "text": [
      "INFO:tensorflow:Assets written to: C:\\Users\\PARK\\Documents\\LAB\\RNN vs LSTM\\FInal Example\\wandb\\run-20221018_151635-3el9trv5\\files\\model-best\\assets\n"
     ]
    },
    {
     "name": "stderr",
     "output_type": "stream",
     "text": [
      "INFO:tensorflow:Assets written to: C:\\Users\\PARK\\Documents\\LAB\\RNN vs LSTM\\FInal Example\\wandb\\run-20221018_151635-3el9trv5\\files\\model-best\\assets\n",
      "\u001b[34m\u001b[1mwandb\u001b[0m: Adding directory to artifact (C:\\Users\\PARK\\Documents\\LAB\\RNN vs LSTM\\FInal Example\\wandb\\run-20221018_151635-3el9trv5\\files\\model-best)... Done. 0.0s\n"
     ]
    },
    {
     "name": "stdout",
     "output_type": "stream",
     "text": [
      "5/5 [==============================] - 4s 892ms/step - loss: 0.0228 - mae: 0.1173 - val_loss: 0.0257 - val_mae: 0.1230\n",
      "Epoch 345/500\n",
      "3/5 [=================>............] - ETA: 0s - loss: 0.0219 - mae: 0.1160"
     ]
    },
    {
     "name": "stderr",
     "output_type": "stream",
     "text": [
      "WARNING:absl:Found untraced functions such as lstm_cell_layer_call_fn, lstm_cell_layer_call_and_return_conditional_losses while saving (showing 2 of 2). These functions will not be directly callable after loading.\n"
     ]
    },
    {
     "name": "stdout",
     "output_type": "stream",
     "text": [
      "INFO:tensorflow:Assets written to: C:\\Users\\PARK\\Documents\\LAB\\RNN vs LSTM\\FInal Example\\wandb\\run-20221018_151635-3el9trv5\\files\\model-best\\assets\n"
     ]
    },
    {
     "name": "stderr",
     "output_type": "stream",
     "text": [
      "INFO:tensorflow:Assets written to: C:\\Users\\PARK\\Documents\\LAB\\RNN vs LSTM\\FInal Example\\wandb\\run-20221018_151635-3el9trv5\\files\\model-best\\assets\n",
      "\u001b[34m\u001b[1mwandb\u001b[0m: Adding directory to artifact (C:\\Users\\PARK\\Documents\\LAB\\RNN vs LSTM\\FInal Example\\wandb\\run-20221018_151635-3el9trv5\\files\\model-best)... Done. 0.0s\n"
     ]
    },
    {
     "name": "stdout",
     "output_type": "stream",
     "text": [
      "5/5 [==============================] - 4s 897ms/step - loss: 0.0223 - mae: 0.1168 - val_loss: 0.0254 - val_mae: 0.1221\n",
      "Epoch 346/500\n",
      "4/5 [=======================>......] - ETA: 0s - loss: 0.0218 - mae: 0.1150"
     ]
    },
    {
     "name": "stderr",
     "output_type": "stream",
     "text": [
      "WARNING:absl:Found untraced functions such as lstm_cell_layer_call_fn, lstm_cell_layer_call_and_return_conditional_losses while saving (showing 2 of 2). These functions will not be directly callable after loading.\n"
     ]
    },
    {
     "name": "stdout",
     "output_type": "stream",
     "text": [
      "INFO:tensorflow:Assets written to: C:\\Users\\PARK\\Documents\\LAB\\RNN vs LSTM\\FInal Example\\wandb\\run-20221018_151635-3el9trv5\\files\\model-best\\assets\n"
     ]
    },
    {
     "name": "stderr",
     "output_type": "stream",
     "text": [
      "INFO:tensorflow:Assets written to: C:\\Users\\PARK\\Documents\\LAB\\RNN vs LSTM\\FInal Example\\wandb\\run-20221018_151635-3el9trv5\\files\\model-best\\assets\n",
      "\u001b[34m\u001b[1mwandb\u001b[0m: Adding directory to artifact (C:\\Users\\PARK\\Documents\\LAB\\RNN vs LSTM\\FInal Example\\wandb\\run-20221018_151635-3el9trv5\\files\\model-best)... Done. 0.0s\n"
     ]
    },
    {
     "name": "stdout",
     "output_type": "stream",
     "text": [
      "5/5 [==============================] - 4s 974ms/step - loss: 0.0219 - mae: 0.1150 - val_loss: 0.0249 - val_mae: 0.1214\n",
      "Epoch 347/500\n",
      "5/5 [==============================] - ETA: 0s - loss: 0.0216 - mae: 0.1140"
     ]
    },
    {
     "name": "stderr",
     "output_type": "stream",
     "text": [
      "WARNING:absl:Found untraced functions such as lstm_cell_layer_call_fn, lstm_cell_layer_call_and_return_conditional_losses while saving (showing 2 of 2). These functions will not be directly callable after loading.\n"
     ]
    },
    {
     "name": "stdout",
     "output_type": "stream",
     "text": [
      "INFO:tensorflow:Assets written to: C:\\Users\\PARK\\Documents\\LAB\\RNN vs LSTM\\FInal Example\\wandb\\run-20221018_151635-3el9trv5\\files\\model-best\\assets\n"
     ]
    },
    {
     "name": "stderr",
     "output_type": "stream",
     "text": [
      "INFO:tensorflow:Assets written to: C:\\Users\\PARK\\Documents\\LAB\\RNN vs LSTM\\FInal Example\\wandb\\run-20221018_151635-3el9trv5\\files\\model-best\\assets\n",
      "\u001b[34m\u001b[1mwandb\u001b[0m: Adding directory to artifact (C:\\Users\\PARK\\Documents\\LAB\\RNN vs LSTM\\FInal Example\\wandb\\run-20221018_151635-3el9trv5\\files\\model-best)... Done. 0.0s\n"
     ]
    },
    {
     "name": "stdout",
     "output_type": "stream",
     "text": [
      "5/5 [==============================] - 4s 950ms/step - loss: 0.0216 - mae: 0.1140 - val_loss: 0.0243 - val_mae: 0.1204\n",
      "Epoch 348/500\n",
      "5/5 [==============================] - 0s 69ms/step - loss: 0.0212 - mae: 0.1131 - val_loss: 0.0244 - val_mae: 0.1203\n",
      "Epoch 349/500\n",
      "4/5 [=======================>......] - ETA: 0s - loss: 0.0209 - mae: 0.1131"
     ]
    },
    {
     "name": "stderr",
     "output_type": "stream",
     "text": [
      "WARNING:absl:Found untraced functions such as lstm_cell_layer_call_fn, lstm_cell_layer_call_and_return_conditional_losses while saving (showing 2 of 2). These functions will not be directly callable after loading.\n"
     ]
    },
    {
     "name": "stdout",
     "output_type": "stream",
     "text": [
      "INFO:tensorflow:Assets written to: C:\\Users\\PARK\\Documents\\LAB\\RNN vs LSTM\\FInal Example\\wandb\\run-20221018_151635-3el9trv5\\files\\model-best\\assets\n"
     ]
    },
    {
     "name": "stderr",
     "output_type": "stream",
     "text": [
      "INFO:tensorflow:Assets written to: C:\\Users\\PARK\\Documents\\LAB\\RNN vs LSTM\\FInal Example\\wandb\\run-20221018_151635-3el9trv5\\files\\model-best\\assets\n",
      "\u001b[34m\u001b[1mwandb\u001b[0m: Adding directory to artifact (C:\\Users\\PARK\\Documents\\LAB\\RNN vs LSTM\\FInal Example\\wandb\\run-20221018_151635-3el9trv5\\files\\model-best)... Done. 0.0s\n"
     ]
    },
    {
     "name": "stdout",
     "output_type": "stream",
     "text": [
      "5/5 [==============================] - 4s 940ms/step - loss: 0.0207 - mae: 0.1124 - val_loss: 0.0239 - val_mae: 0.1194\n",
      "Epoch 350/500\n",
      "3/5 [=================>............] - ETA: 0s - loss: 0.0203 - mae: 0.1109"
     ]
    },
    {
     "name": "stderr",
     "output_type": "stream",
     "text": [
      "WARNING:absl:Found untraced functions such as lstm_cell_layer_call_fn, lstm_cell_layer_call_and_return_conditional_losses while saving (showing 2 of 2). These functions will not be directly callable after loading.\n"
     ]
    },
    {
     "name": "stdout",
     "output_type": "stream",
     "text": [
      "INFO:tensorflow:Assets written to: C:\\Users\\PARK\\Documents\\LAB\\RNN vs LSTM\\FInal Example\\wandb\\run-20221018_151635-3el9trv5\\files\\model-best\\assets\n"
     ]
    },
    {
     "name": "stderr",
     "output_type": "stream",
     "text": [
      "INFO:tensorflow:Assets written to: C:\\Users\\PARK\\Documents\\LAB\\RNN vs LSTM\\FInal Example\\wandb\\run-20221018_151635-3el9trv5\\files\\model-best\\assets\n",
      "\u001b[34m\u001b[1mwandb\u001b[0m: Adding directory to artifact (C:\\Users\\PARK\\Documents\\LAB\\RNN vs LSTM\\FInal Example\\wandb\\run-20221018_151635-3el9trv5\\files\\model-best)... Done. 0.0s\n"
     ]
    },
    {
     "name": "stdout",
     "output_type": "stream",
     "text": [
      "5/5 [==============================] - 4s 979ms/step - loss: 0.0203 - mae: 0.1111 - val_loss: 0.0232 - val_mae: 0.1177\n",
      "Epoch 351/500\n",
      "5/5 [==============================] - 0s 69ms/step - loss: 0.0200 - mae: 0.1106 - val_loss: 0.0237 - val_mae: 0.1185\n",
      "Epoch 352/500\n",
      "5/5 [==============================] - 0s 47ms/step - loss: 0.0200 - mae: 0.1103 - val_loss: 0.0232 - val_mae: 0.1173\n",
      "Epoch 353/500\n",
      "1/5 [=====>........................] - ETA: 0s - loss: 0.0198 - mae: 0.1090"
     ]
    },
    {
     "name": "stderr",
     "output_type": "stream",
     "text": [
      "WARNING:absl:Found untraced functions such as lstm_cell_layer_call_fn, lstm_cell_layer_call_and_return_conditional_losses while saving (showing 2 of 2). These functions will not be directly callable after loading.\n"
     ]
    },
    {
     "name": "stdout",
     "output_type": "stream",
     "text": [
      "INFO:tensorflow:Assets written to: C:\\Users\\PARK\\Documents\\LAB\\RNN vs LSTM\\FInal Example\\wandb\\run-20221018_151635-3el9trv5\\files\\model-best\\assets\n"
     ]
    },
    {
     "name": "stderr",
     "output_type": "stream",
     "text": [
      "INFO:tensorflow:Assets written to: C:\\Users\\PARK\\Documents\\LAB\\RNN vs LSTM\\FInal Example\\wandb\\run-20221018_151635-3el9trv5\\files\\model-best\\assets\n",
      "\u001b[34m\u001b[1mwandb\u001b[0m: Adding directory to artifact (C:\\Users\\PARK\\Documents\\LAB\\RNN vs LSTM\\FInal Example\\wandb\\run-20221018_151635-3el9trv5\\files\\model-best)... Done. 0.0s\n"
     ]
    },
    {
     "name": "stdout",
     "output_type": "stream",
     "text": [
      "5/5 [==============================] - 4s 915ms/step - loss: 0.0198 - mae: 0.1100 - val_loss: 0.0226 - val_mae: 0.1166\n",
      "Epoch 354/500\n",
      "5/5 [==============================] - 0s 72ms/step - loss: 0.0194 - mae: 0.1091 - val_loss: 0.0231 - val_mae: 0.1175\n",
      "Epoch 355/500\n",
      "5/5 [==============================] - ETA: 0s - loss: 0.0191 - mae: 0.1083"
     ]
    },
    {
     "name": "stderr",
     "output_type": "stream",
     "text": [
      "WARNING:absl:Found untraced functions such as lstm_cell_layer_call_fn, lstm_cell_layer_call_and_return_conditional_losses while saving (showing 2 of 2). These functions will not be directly callable after loading.\n"
     ]
    },
    {
     "name": "stdout",
     "output_type": "stream",
     "text": [
      "INFO:tensorflow:Assets written to: C:\\Users\\PARK\\Documents\\LAB\\RNN vs LSTM\\FInal Example\\wandb\\run-20221018_151635-3el9trv5\\files\\model-best\\assets\n"
     ]
    },
    {
     "name": "stderr",
     "output_type": "stream",
     "text": [
      "INFO:tensorflow:Assets written to: C:\\Users\\PARK\\Documents\\LAB\\RNN vs LSTM\\FInal Example\\wandb\\run-20221018_151635-3el9trv5\\files\\model-best\\assets\n",
      "\u001b[34m\u001b[1mwandb\u001b[0m: Adding directory to artifact (C:\\Users\\PARK\\Documents\\LAB\\RNN vs LSTM\\FInal Example\\wandb\\run-20221018_151635-3el9trv5\\files\\model-best)... Done. 0.0s\n"
     ]
    },
    {
     "name": "stdout",
     "output_type": "stream",
     "text": [
      "5/5 [==============================] - 4s 938ms/step - loss: 0.0191 - mae: 0.1083 - val_loss: 0.0224 - val_mae: 0.1162\n",
      "Epoch 356/500\n",
      "5/5 [==============================] - ETA: 0s - loss: 0.0187 - mae: 0.1078"
     ]
    },
    {
     "name": "stderr",
     "output_type": "stream",
     "text": [
      "WARNING:absl:Found untraced functions such as lstm_cell_layer_call_fn, lstm_cell_layer_call_and_return_conditional_losses while saving (showing 2 of 2). These functions will not be directly callable after loading.\n"
     ]
    },
    {
     "name": "stdout",
     "output_type": "stream",
     "text": [
      "INFO:tensorflow:Assets written to: C:\\Users\\PARK\\Documents\\LAB\\RNN vs LSTM\\FInal Example\\wandb\\run-20221018_151635-3el9trv5\\files\\model-best\\assets\n"
     ]
    },
    {
     "name": "stderr",
     "output_type": "stream",
     "text": [
      "INFO:tensorflow:Assets written to: C:\\Users\\PARK\\Documents\\LAB\\RNN vs LSTM\\FInal Example\\wandb\\run-20221018_151635-3el9trv5\\files\\model-best\\assets\n",
      "\u001b[34m\u001b[1mwandb\u001b[0m: Adding directory to artifact (C:\\Users\\PARK\\Documents\\LAB\\RNN vs LSTM\\FInal Example\\wandb\\run-20221018_151635-3el9trv5\\files\\model-best)... Done. 0.0s\n"
     ]
    },
    {
     "name": "stdout",
     "output_type": "stream",
     "text": [
      "5/5 [==============================] - 4s 931ms/step - loss: 0.0187 - mae: 0.1078 - val_loss: 0.0221 - val_mae: 0.1162\n",
      "Epoch 357/500\n",
      "5/5 [==============================] - 0s 57ms/step - loss: 0.0184 - mae: 0.1072 - val_loss: 0.0222 - val_mae: 0.1167\n",
      "Epoch 358/500\n",
      "1/5 [=====>........................] - ETA: 0s - loss: 0.0192 - mae: 0.1084"
     ]
    },
    {
     "name": "stderr",
     "output_type": "stream",
     "text": [
      "WARNING:absl:Found untraced functions such as lstm_cell_layer_call_fn, lstm_cell_layer_call_and_return_conditional_losses while saving (showing 2 of 2). These functions will not be directly callable after loading.\n"
     ]
    },
    {
     "name": "stdout",
     "output_type": "stream",
     "text": [
      "INFO:tensorflow:Assets written to: C:\\Users\\PARK\\Documents\\LAB\\RNN vs LSTM\\FInal Example\\wandb\\run-20221018_151635-3el9trv5\\files\\model-best\\assets\n"
     ]
    },
    {
     "name": "stderr",
     "output_type": "stream",
     "text": [
      "INFO:tensorflow:Assets written to: C:\\Users\\PARK\\Documents\\LAB\\RNN vs LSTM\\FInal Example\\wandb\\run-20221018_151635-3el9trv5\\files\\model-best\\assets\n",
      "\u001b[34m\u001b[1mwandb\u001b[0m: Adding directory to artifact (C:\\Users\\PARK\\Documents\\LAB\\RNN vs LSTM\\FInal Example\\wandb\\run-20221018_151635-3el9trv5\\files\\model-best)... Done. 0.0s\n"
     ]
    },
    {
     "name": "stdout",
     "output_type": "stream",
     "text": [
      "5/5 [==============================] - 4s 889ms/step - loss: 0.0181 - mae: 0.1063 - val_loss: 0.0216 - val_mae: 0.1153\n",
      "Epoch 359/500\n",
      "5/5 [==============================] - 0s 71ms/step - loss: 0.0180 - mae: 0.1060 - val_loss: 0.0221 - val_mae: 0.1153\n",
      "Epoch 360/500\n",
      "5/5 [==============================] - 0s 47ms/step - loss: 0.0176 - mae: 0.1044 - val_loss: 0.0216 - val_mae: 0.1152\n",
      "Epoch 361/500\n",
      "1/5 [=====>........................] - ETA: 0s - loss: 0.0173 - mae: 0.1041"
     ]
    },
    {
     "name": "stderr",
     "output_type": "stream",
     "text": [
      "WARNING:absl:Found untraced functions such as lstm_cell_layer_call_fn, lstm_cell_layer_call_and_return_conditional_losses while saving (showing 2 of 2). These functions will not be directly callable after loading.\n"
     ]
    },
    {
     "name": "stdout",
     "output_type": "stream",
     "text": [
      "INFO:tensorflow:Assets written to: C:\\Users\\PARK\\Documents\\LAB\\RNN vs LSTM\\FInal Example\\wandb\\run-20221018_151635-3el9trv5\\files\\model-best\\assets\n"
     ]
    },
    {
     "name": "stderr",
     "output_type": "stream",
     "text": [
      "INFO:tensorflow:Assets written to: C:\\Users\\PARK\\Documents\\LAB\\RNN vs LSTM\\FInal Example\\wandb\\run-20221018_151635-3el9trv5\\files\\model-best\\assets\n",
      "\u001b[34m\u001b[1mwandb\u001b[0m: Adding directory to artifact (C:\\Users\\PARK\\Documents\\LAB\\RNN vs LSTM\\FInal Example\\wandb\\run-20221018_151635-3el9trv5\\files\\model-best)... Done. 0.0s\n"
     ]
    },
    {
     "name": "stdout",
     "output_type": "stream",
     "text": [
      "5/5 [==============================] - 4s 912ms/step - loss: 0.0174 - mae: 0.1044 - val_loss: 0.0210 - val_mae: 0.1139\n",
      "Epoch 362/500\n",
      "5/5 [==============================] - 0s 72ms/step - loss: 0.0172 - mae: 0.1037 - val_loss: 0.0210 - val_mae: 0.1134\n",
      "Epoch 363/500\n",
      "5/5 [==============================] - 0s 50ms/step - loss: 0.0172 - mae: 0.1037 - val_loss: 0.0211 - val_mae: 0.1134\n",
      "Epoch 364/500\n",
      "1/5 [=====>........................] - ETA: 0s - loss: 0.0178 - mae: 0.1050"
     ]
    },
    {
     "name": "stderr",
     "output_type": "stream",
     "text": [
      "WARNING:absl:Found untraced functions such as lstm_cell_layer_call_fn, lstm_cell_layer_call_and_return_conditional_losses while saving (showing 2 of 2). These functions will not be directly callable after loading.\n"
     ]
    },
    {
     "name": "stdout",
     "output_type": "stream",
     "text": [
      "INFO:tensorflow:Assets written to: C:\\Users\\PARK\\Documents\\LAB\\RNN vs LSTM\\FInal Example\\wandb\\run-20221018_151635-3el9trv5\\files\\model-best\\assets\n"
     ]
    },
    {
     "name": "stderr",
     "output_type": "stream",
     "text": [
      "INFO:tensorflow:Assets written to: C:\\Users\\PARK\\Documents\\LAB\\RNN vs LSTM\\FInal Example\\wandb\\run-20221018_151635-3el9trv5\\files\\model-best\\assets\n",
      "\u001b[34m\u001b[1mwandb\u001b[0m: Adding directory to artifact (C:\\Users\\PARK\\Documents\\LAB\\RNN vs LSTM\\FInal Example\\wandb\\run-20221018_151635-3el9trv5\\files\\model-best)... Done. 0.0s\n"
     ]
    },
    {
     "name": "stdout",
     "output_type": "stream",
     "text": [
      "5/5 [==============================] - 4s 887ms/step - loss: 0.0174 - mae: 0.1045 - val_loss: 0.0209 - val_mae: 0.1144\n",
      "Epoch 365/500\n",
      "5/5 [==============================] - 0s 55ms/step - loss: 0.0170 - mae: 0.1037 - val_loss: 0.0211 - val_mae: 0.1140\n",
      "Epoch 366/500\n",
      "5/5 [==============================] - 0s 25ms/step - loss: 0.0169 - mae: 0.1032 - val_loss: 0.0210 - val_mae: 0.1158\n",
      "Epoch 367/500\n",
      "5/5 [==============================] - 0s 26ms/step - loss: 0.0170 - mae: 0.1034 - val_loss: 0.0213 - val_mae: 0.1169\n",
      "Epoch 368/500\n",
      "1/5 [=====>........................] - ETA: 0s - loss: 0.0184 - mae: 0.1074"
     ]
    },
    {
     "name": "stderr",
     "output_type": "stream",
     "text": [
      "WARNING:absl:Found untraced functions such as lstm_cell_layer_call_fn, lstm_cell_layer_call_and_return_conditional_losses while saving (showing 2 of 2). These functions will not be directly callable after loading.\n"
     ]
    },
    {
     "name": "stdout",
     "output_type": "stream",
     "text": [
      "INFO:tensorflow:Assets written to: C:\\Users\\PARK\\Documents\\LAB\\RNN vs LSTM\\FInal Example\\wandb\\run-20221018_151635-3el9trv5\\files\\model-best\\assets\n"
     ]
    },
    {
     "name": "stderr",
     "output_type": "stream",
     "text": [
      "INFO:tensorflow:Assets written to: C:\\Users\\PARK\\Documents\\LAB\\RNN vs LSTM\\FInal Example\\wandb\\run-20221018_151635-3el9trv5\\files\\model-best\\assets\n",
      "\u001b[34m\u001b[1mwandb\u001b[0m: Adding directory to artifact (C:\\Users\\PARK\\Documents\\LAB\\RNN vs LSTM\\FInal Example\\wandb\\run-20221018_151635-3el9trv5\\files\\model-best)... Done. 0.0s\n"
     ]
    },
    {
     "name": "stdout",
     "output_type": "stream",
     "text": [
      "5/5 [==============================] - 4s 945ms/step - loss: 0.0169 - mae: 0.1030 - val_loss: 0.0206 - val_mae: 0.1145\n",
      "Epoch 369/500\n",
      "5/5 [==============================] - ETA: 0s - loss: 0.0165 - mae: 0.1018"
     ]
    },
    {
     "name": "stderr",
     "output_type": "stream",
     "text": [
      "WARNING:absl:Found untraced functions such as lstm_cell_layer_call_fn, lstm_cell_layer_call_and_return_conditional_losses while saving (showing 2 of 2). These functions will not be directly callable after loading.\n"
     ]
    },
    {
     "name": "stdout",
     "output_type": "stream",
     "text": [
      "INFO:tensorflow:Assets written to: C:\\Users\\PARK\\Documents\\LAB\\RNN vs LSTM\\FInal Example\\wandb\\run-20221018_151635-3el9trv5\\files\\model-best\\assets\n"
     ]
    },
    {
     "name": "stderr",
     "output_type": "stream",
     "text": [
      "INFO:tensorflow:Assets written to: C:\\Users\\PARK\\Documents\\LAB\\RNN vs LSTM\\FInal Example\\wandb\\run-20221018_151635-3el9trv5\\files\\model-best\\assets\n",
      "\u001b[34m\u001b[1mwandb\u001b[0m: Adding directory to artifact (C:\\Users\\PARK\\Documents\\LAB\\RNN vs LSTM\\FInal Example\\wandb\\run-20221018_151635-3el9trv5\\files\\model-best)... Done. 0.0s\n"
     ]
    },
    {
     "name": "stdout",
     "output_type": "stream",
     "text": [
      "5/5 [==============================] - 4s 964ms/step - loss: 0.0165 - mae: 0.1018 - val_loss: 0.0203 - val_mae: 0.1133\n",
      "Epoch 370/500\n",
      "4/5 [=======================>......] - ETA: 0s - loss: 0.0161 - mae: 0.1005"
     ]
    },
    {
     "name": "stderr",
     "output_type": "stream",
     "text": [
      "WARNING:absl:Found untraced functions such as lstm_cell_layer_call_fn, lstm_cell_layer_call_and_return_conditional_losses while saving (showing 2 of 2). These functions will not be directly callable after loading.\n"
     ]
    },
    {
     "name": "stdout",
     "output_type": "stream",
     "text": [
      "INFO:tensorflow:Assets written to: C:\\Users\\PARK\\Documents\\LAB\\RNN vs LSTM\\FInal Example\\wandb\\run-20221018_151635-3el9trv5\\files\\model-best\\assets\n"
     ]
    },
    {
     "name": "stderr",
     "output_type": "stream",
     "text": [
      "INFO:tensorflow:Assets written to: C:\\Users\\PARK\\Documents\\LAB\\RNN vs LSTM\\FInal Example\\wandb\\run-20221018_151635-3el9trv5\\files\\model-best\\assets\n",
      "\u001b[34m\u001b[1mwandb\u001b[0m: Adding directory to artifact (C:\\Users\\PARK\\Documents\\LAB\\RNN vs LSTM\\FInal Example\\wandb\\run-20221018_151635-3el9trv5\\files\\model-best)... Done. 0.0s\n"
     ]
    },
    {
     "name": "stdout",
     "output_type": "stream",
     "text": [
      "5/5 [==============================] - 4s 936ms/step - loss: 0.0161 - mae: 0.1009 - val_loss: 0.0197 - val_mae: 0.1112\n",
      "Epoch 371/500\n",
      "3/5 [=================>............] - ETA: 0s - loss: 0.0159 - mae: 0.0999"
     ]
    },
    {
     "name": "stderr",
     "output_type": "stream",
     "text": [
      "WARNING:absl:Found untraced functions such as lstm_cell_layer_call_fn, lstm_cell_layer_call_and_return_conditional_losses while saving (showing 2 of 2). These functions will not be directly callable after loading.\n"
     ]
    },
    {
     "name": "stdout",
     "output_type": "stream",
     "text": [
      "INFO:tensorflow:Assets written to: C:\\Users\\PARK\\Documents\\LAB\\RNN vs LSTM\\FInal Example\\wandb\\run-20221018_151635-3el9trv5\\files\\model-best\\assets\n"
     ]
    },
    {
     "name": "stderr",
     "output_type": "stream",
     "text": [
      "INFO:tensorflow:Assets written to: C:\\Users\\PARK\\Documents\\LAB\\RNN vs LSTM\\FInal Example\\wandb\\run-20221018_151635-3el9trv5\\files\\model-best\\assets\n",
      "\u001b[34m\u001b[1mwandb\u001b[0m: Adding directory to artifact (C:\\Users\\PARK\\Documents\\LAB\\RNN vs LSTM\\FInal Example\\wandb\\run-20221018_151635-3el9trv5\\files\\model-best)... Done. 0.0s\n"
     ]
    },
    {
     "name": "stdout",
     "output_type": "stream",
     "text": [
      "5/5 [==============================] - 4s 935ms/step - loss: 0.0160 - mae: 0.1001 - val_loss: 0.0195 - val_mae: 0.1109\n",
      "Epoch 372/500\n",
      "5/5 [==============================] - 0s 69ms/step - loss: 0.0158 - mae: 0.1000 - val_loss: 0.0199 - val_mae: 0.1112\n",
      "Epoch 373/500\n",
      "5/5 [==============================] - 0s 55ms/step - loss: 0.0159 - mae: 0.0998 - val_loss: 0.0198 - val_mae: 0.1126\n",
      "Epoch 374/500\n",
      "1/5 [=====>........................] - ETA: 0s - loss: 0.0160 - mae: 0.1011"
     ]
    },
    {
     "name": "stderr",
     "output_type": "stream",
     "text": [
      "WARNING:absl:Found untraced functions such as lstm_cell_layer_call_fn, lstm_cell_layer_call_and_return_conditional_losses while saving (showing 2 of 2). These functions will not be directly callable after loading.\n"
     ]
    },
    {
     "name": "stdout",
     "output_type": "stream",
     "text": [
      "INFO:tensorflow:Assets written to: C:\\Users\\PARK\\Documents\\LAB\\RNN vs LSTM\\FInal Example\\wandb\\run-20221018_151635-3el9trv5\\files\\model-best\\assets\n"
     ]
    },
    {
     "name": "stderr",
     "output_type": "stream",
     "text": [
      "INFO:tensorflow:Assets written to: C:\\Users\\PARK\\Documents\\LAB\\RNN vs LSTM\\FInal Example\\wandb\\run-20221018_151635-3el9trv5\\files\\model-best\\assets\n",
      "\u001b[34m\u001b[1mwandb\u001b[0m: Adding directory to artifact (C:\\Users\\PARK\\Documents\\LAB\\RNN vs LSTM\\FInal Example\\wandb\\run-20221018_151635-3el9trv5\\files\\model-best)... Done. 0.0s\n"
     ]
    },
    {
     "name": "stdout",
     "output_type": "stream",
     "text": [
      "5/5 [==============================] - 4s 943ms/step - loss: 0.0158 - mae: 0.1002 - val_loss: 0.0192 - val_mae: 0.1095\n",
      "Epoch 375/500\n",
      "5/5 [==============================] - 0s 79ms/step - loss: 0.0154 - mae: 0.0983 - val_loss: 0.0194 - val_mae: 0.1101\n",
      "Epoch 376/500\n",
      "5/5 [==============================] - 0s 46ms/step - loss: 0.0154 - mae: 0.0984 - val_loss: 0.0195 - val_mae: 0.1112\n",
      "Epoch 377/500\n",
      "5/5 [==============================] - 0s 28ms/step - loss: 0.0153 - mae: 0.0984 - val_loss: 0.0200 - val_mae: 0.1135\n",
      "Epoch 378/500\n",
      "1/5 [=====>........................] - ETA: 0s - loss: 0.0153 - mae: 0.0993"
     ]
    },
    {
     "name": "stderr",
     "output_type": "stream",
     "text": [
      "WARNING:absl:Found untraced functions such as lstm_cell_layer_call_fn, lstm_cell_layer_call_and_return_conditional_losses while saving (showing 2 of 2). These functions will not be directly callable after loading.\n"
     ]
    },
    {
     "name": "stdout",
     "output_type": "stream",
     "text": [
      "INFO:tensorflow:Assets written to: C:\\Users\\PARK\\Documents\\LAB\\RNN vs LSTM\\FInal Example\\wandb\\run-20221018_151635-3el9trv5\\files\\model-best\\assets\n"
     ]
    },
    {
     "name": "stderr",
     "output_type": "stream",
     "text": [
      "INFO:tensorflow:Assets written to: C:\\Users\\PARK\\Documents\\LAB\\RNN vs LSTM\\FInal Example\\wandb\\run-20221018_151635-3el9trv5\\files\\model-best\\assets\n",
      "\u001b[34m\u001b[1mwandb\u001b[0m: Adding directory to artifact (C:\\Users\\PARK\\Documents\\LAB\\RNN vs LSTM\\FInal Example\\wandb\\run-20221018_151635-3el9trv5\\files\\model-best)... Done. 0.0s\n"
     ]
    },
    {
     "name": "stdout",
     "output_type": "stream",
     "text": [
      "5/5 [==============================] - 4s 900ms/step - loss: 0.0158 - mae: 0.0998 - val_loss: 0.0190 - val_mae: 0.1097\n",
      "Epoch 379/500\n",
      "5/5 [==============================] - 0s 72ms/step - loss: 0.0151 - mae: 0.0975 - val_loss: 0.0190 - val_mae: 0.1101\n",
      "Epoch 380/500\n",
      "5/5 [==============================] - ETA: 0s - loss: 0.0151 - mae: 0.0978"
     ]
    },
    {
     "name": "stderr",
     "output_type": "stream",
     "text": [
      "WARNING:absl:Found untraced functions such as lstm_cell_layer_call_fn, lstm_cell_layer_call_and_return_conditional_losses while saving (showing 2 of 2). These functions will not be directly callable after loading.\n"
     ]
    },
    {
     "name": "stdout",
     "output_type": "stream",
     "text": [
      "INFO:tensorflow:Assets written to: C:\\Users\\PARK\\Documents\\LAB\\RNN vs LSTM\\FInal Example\\wandb\\run-20221018_151635-3el9trv5\\files\\model-best\\assets\n"
     ]
    },
    {
     "name": "stderr",
     "output_type": "stream",
     "text": [
      "INFO:tensorflow:Assets written to: C:\\Users\\PARK\\Documents\\LAB\\RNN vs LSTM\\FInal Example\\wandb\\run-20221018_151635-3el9trv5\\files\\model-best\\assets\n",
      "\u001b[34m\u001b[1mwandb\u001b[0m: Adding directory to artifact (C:\\Users\\PARK\\Documents\\LAB\\RNN vs LSTM\\FInal Example\\wandb\\run-20221018_151635-3el9trv5\\files\\model-best)... Done. 0.0s\n"
     ]
    },
    {
     "name": "stdout",
     "output_type": "stream",
     "text": [
      "5/5 [==============================] - 4s 919ms/step - loss: 0.0151 - mae: 0.0978 - val_loss: 0.0188 - val_mae: 0.1086\n",
      "Epoch 381/500\n",
      "3/5 [=================>............] - ETA: 0s - loss: 0.0147 - mae: 0.0957"
     ]
    },
    {
     "name": "stderr",
     "output_type": "stream",
     "text": [
      "WARNING:absl:Found untraced functions such as lstm_cell_layer_call_fn, lstm_cell_layer_call_and_return_conditional_losses while saving (showing 2 of 2). These functions will not be directly callable after loading.\n"
     ]
    },
    {
     "name": "stdout",
     "output_type": "stream",
     "text": [
      "INFO:tensorflow:Assets written to: C:\\Users\\PARK\\Documents\\LAB\\RNN vs LSTM\\FInal Example\\wandb\\run-20221018_151635-3el9trv5\\files\\model-best\\assets\n"
     ]
    },
    {
     "name": "stderr",
     "output_type": "stream",
     "text": [
      "INFO:tensorflow:Assets written to: C:\\Users\\PARK\\Documents\\LAB\\RNN vs LSTM\\FInal Example\\wandb\\run-20221018_151635-3el9trv5\\files\\model-best\\assets\n",
      "\u001b[34m\u001b[1mwandb\u001b[0m: Adding directory to artifact (C:\\Users\\PARK\\Documents\\LAB\\RNN vs LSTM\\FInal Example\\wandb\\run-20221018_151635-3el9trv5\\files\\model-best)... Done. 0.0s\n"
     ]
    },
    {
     "name": "stdout",
     "output_type": "stream",
     "text": [
      "5/5 [==============================] - 4s 969ms/step - loss: 0.0148 - mae: 0.0965 - val_loss: 0.0185 - val_mae: 0.1076\n",
      "Epoch 382/500\n",
      "4/5 [=======================>......] - ETA: 0s - loss: 0.0146 - mae: 0.0959"
     ]
    },
    {
     "name": "stderr",
     "output_type": "stream",
     "text": [
      "WARNING:absl:Found untraced functions such as lstm_cell_layer_call_fn, lstm_cell_layer_call_and_return_conditional_losses while saving (showing 2 of 2). These functions will not be directly callable after loading.\n"
     ]
    },
    {
     "name": "stdout",
     "output_type": "stream",
     "text": [
      "INFO:tensorflow:Assets written to: C:\\Users\\PARK\\Documents\\LAB\\RNN vs LSTM\\FInal Example\\wandb\\run-20221018_151635-3el9trv5\\files\\model-best\\assets\n"
     ]
    },
    {
     "name": "stderr",
     "output_type": "stream",
     "text": [
      "INFO:tensorflow:Assets written to: C:\\Users\\PARK\\Documents\\LAB\\RNN vs LSTM\\FInal Example\\wandb\\run-20221018_151635-3el9trv5\\files\\model-best\\assets\n",
      "\u001b[34m\u001b[1mwandb\u001b[0m: Adding directory to artifact (C:\\Users\\PARK\\Documents\\LAB\\RNN vs LSTM\\FInal Example\\wandb\\run-20221018_151635-3el9trv5\\files\\model-best)... Done. 0.0s\n"
     ]
    },
    {
     "name": "stdout",
     "output_type": "stream",
     "text": [
      "5/5 [==============================] - 4s 931ms/step - loss: 0.0147 - mae: 0.0962 - val_loss: 0.0182 - val_mae: 0.1074\n",
      "Epoch 383/500\n",
      "5/5 [==============================] - 0s 75ms/step - loss: 0.0144 - mae: 0.0951 - val_loss: 0.0184 - val_mae: 0.1072\n",
      "Epoch 384/500\n",
      "4/5 [=======================>......] - ETA: 0s - loss: 0.0143 - mae: 0.0952"
     ]
    },
    {
     "name": "stderr",
     "output_type": "stream",
     "text": [
      "WARNING:absl:Found untraced functions such as lstm_cell_layer_call_fn, lstm_cell_layer_call_and_return_conditional_losses while saving (showing 2 of 2). These functions will not be directly callable after loading.\n"
     ]
    },
    {
     "name": "stdout",
     "output_type": "stream",
     "text": [
      "INFO:tensorflow:Assets written to: C:\\Users\\PARK\\Documents\\LAB\\RNN vs LSTM\\FInal Example\\wandb\\run-20221018_151635-3el9trv5\\files\\model-best\\assets\n"
     ]
    },
    {
     "name": "stderr",
     "output_type": "stream",
     "text": [
      "INFO:tensorflow:Assets written to: C:\\Users\\PARK\\Documents\\LAB\\RNN vs LSTM\\FInal Example\\wandb\\run-20221018_151635-3el9trv5\\files\\model-best\\assets\n",
      "\u001b[34m\u001b[1mwandb\u001b[0m: Adding directory to artifact (C:\\Users\\PARK\\Documents\\LAB\\RNN vs LSTM\\FInal Example\\wandb\\run-20221018_151635-3el9trv5\\files\\model-best)... Done. 0.0s\n"
     ]
    },
    {
     "name": "stdout",
     "output_type": "stream",
     "text": [
      "5/5 [==============================] - 4s 867ms/step - loss: 0.0143 - mae: 0.0952 - val_loss: 0.0181 - val_mae: 0.1068\n",
      "Epoch 385/500\n",
      "5/5 [==============================] - 0s 69ms/step - loss: 0.0139 - mae: 0.0942 - val_loss: 0.0186 - val_mae: 0.1077\n",
      "Epoch 386/500\n",
      "4/5 [=======================>......] - ETA: 0s - loss: 0.0140 - mae: 0.0939"
     ]
    },
    {
     "name": "stderr",
     "output_type": "stream",
     "text": [
      "WARNING:absl:Found untraced functions such as lstm_cell_layer_call_fn, lstm_cell_layer_call_and_return_conditional_losses while saving (showing 2 of 2). These functions will not be directly callable after loading.\n"
     ]
    },
    {
     "name": "stdout",
     "output_type": "stream",
     "text": [
      "INFO:tensorflow:Assets written to: C:\\Users\\PARK\\Documents\\LAB\\RNN vs LSTM\\FInal Example\\wandb\\run-20221018_151635-3el9trv5\\files\\model-best\\assets\n"
     ]
    },
    {
     "name": "stderr",
     "output_type": "stream",
     "text": [
      "INFO:tensorflow:Assets written to: C:\\Users\\PARK\\Documents\\LAB\\RNN vs LSTM\\FInal Example\\wandb\\run-20221018_151635-3el9trv5\\files\\model-best\\assets\n",
      "\u001b[34m\u001b[1mwandb\u001b[0m: Adding directory to artifact (C:\\Users\\PARK\\Documents\\LAB\\RNN vs LSTM\\FInal Example\\wandb\\run-20221018_151635-3el9trv5\\files\\model-best)... Done. 0.0s\n"
     ]
    },
    {
     "name": "stdout",
     "output_type": "stream",
     "text": [
      "5/5 [==============================] - 4s 958ms/step - loss: 0.0139 - mae: 0.0937 - val_loss: 0.0178 - val_mae: 0.1066\n",
      "Epoch 387/500\n",
      "5/5 [==============================] - 0s 58ms/step - loss: 0.0137 - mae: 0.0930 - val_loss: 0.0178 - val_mae: 0.1060\n",
      "Epoch 388/500\n",
      "1/5 [=====>........................] - ETA: 0s - loss: 0.0132 - mae: 0.0917"
     ]
    },
    {
     "name": "stderr",
     "output_type": "stream",
     "text": [
      "WARNING:absl:Found untraced functions such as lstm_cell_layer_call_fn, lstm_cell_layer_call_and_return_conditional_losses while saving (showing 2 of 2). These functions will not be directly callable after loading.\n"
     ]
    },
    {
     "name": "stdout",
     "output_type": "stream",
     "text": [
      "INFO:tensorflow:Assets written to: C:\\Users\\PARK\\Documents\\LAB\\RNN vs LSTM\\FInal Example\\wandb\\run-20221018_151635-3el9trv5\\files\\model-best\\assets\n"
     ]
    },
    {
     "name": "stderr",
     "output_type": "stream",
     "text": [
      "INFO:tensorflow:Assets written to: C:\\Users\\PARK\\Documents\\LAB\\RNN vs LSTM\\FInal Example\\wandb\\run-20221018_151635-3el9trv5\\files\\model-best\\assets\n",
      "\u001b[34m\u001b[1mwandb\u001b[0m: Adding directory to artifact (C:\\Users\\PARK\\Documents\\LAB\\RNN vs LSTM\\FInal Example\\wandb\\run-20221018_151635-3el9trv5\\files\\model-best)... Done. 0.0s\n"
     ]
    },
    {
     "name": "stdout",
     "output_type": "stream",
     "text": [
      "5/5 [==============================] - 4s 927ms/step - loss: 0.0136 - mae: 0.0925 - val_loss: 0.0178 - val_mae: 0.1062\n",
      "Epoch 389/500\n",
      "3/5 [=================>............] - ETA: 0s - loss: 0.0126 - mae: 0.0899"
     ]
    },
    {
     "name": "stderr",
     "output_type": "stream",
     "text": [
      "WARNING:absl:Found untraced functions such as lstm_cell_layer_call_fn, lstm_cell_layer_call_and_return_conditional_losses while saving (showing 2 of 2). These functions will not be directly callable after loading.\n"
     ]
    },
    {
     "name": "stdout",
     "output_type": "stream",
     "text": [
      "INFO:tensorflow:Assets written to: C:\\Users\\PARK\\Documents\\LAB\\RNN vs LSTM\\FInal Example\\wandb\\run-20221018_151635-3el9trv5\\files\\model-best\\assets\n"
     ]
    },
    {
     "name": "stderr",
     "output_type": "stream",
     "text": [
      "INFO:tensorflow:Assets written to: C:\\Users\\PARK\\Documents\\LAB\\RNN vs LSTM\\FInal Example\\wandb\\run-20221018_151635-3el9trv5\\files\\model-best\\assets\n",
      "\u001b[34m\u001b[1mwandb\u001b[0m: Adding directory to artifact (C:\\Users\\PARK\\Documents\\LAB\\RNN vs LSTM\\FInal Example\\wandb\\run-20221018_151635-3el9trv5\\files\\model-best)... Done. 0.0s\n"
     ]
    },
    {
     "name": "stdout",
     "output_type": "stream",
     "text": [
      "5/5 [==============================] - 4s 939ms/step - loss: 0.0135 - mae: 0.0925 - val_loss: 0.0177 - val_mae: 0.1062\n",
      "Epoch 390/500\n",
      "5/5 [==============================] - ETA: 0s - loss: 0.0137 - mae: 0.0932"
     ]
    },
    {
     "name": "stderr",
     "output_type": "stream",
     "text": [
      "WARNING:absl:Found untraced functions such as lstm_cell_layer_call_fn, lstm_cell_layer_call_and_return_conditional_losses while saving (showing 2 of 2). These functions will not be directly callable after loading.\n"
     ]
    },
    {
     "name": "stdout",
     "output_type": "stream",
     "text": [
      "INFO:tensorflow:Assets written to: C:\\Users\\PARK\\Documents\\LAB\\RNN vs LSTM\\FInal Example\\wandb\\run-20221018_151635-3el9trv5\\files\\model-best\\assets\n"
     ]
    },
    {
     "name": "stderr",
     "output_type": "stream",
     "text": [
      "INFO:tensorflow:Assets written to: C:\\Users\\PARK\\Documents\\LAB\\RNN vs LSTM\\FInal Example\\wandb\\run-20221018_151635-3el9trv5\\files\\model-best\\assets\n",
      "\u001b[34m\u001b[1mwandb\u001b[0m: Adding directory to artifact (C:\\Users\\PARK\\Documents\\LAB\\RNN vs LSTM\\FInal Example\\wandb\\run-20221018_151635-3el9trv5\\files\\model-best)... Done. 0.0s\n"
     ]
    },
    {
     "name": "stdout",
     "output_type": "stream",
     "text": [
      "5/5 [==============================] - 4s 896ms/step - loss: 0.0137 - mae: 0.0932 - val_loss: 0.0171 - val_mae: 0.1036\n",
      "Epoch 391/500\n",
      "5/5 [==============================] - 0s 115ms/step - loss: 0.0133 - mae: 0.0918 - val_loss: 0.0173 - val_mae: 0.1055\n",
      "Epoch 392/500\n",
      "5/5 [==============================] - 0s 51ms/step - loss: 0.0136 - mae: 0.0930 - val_loss: 0.0175 - val_mae: 0.1049\n",
      "Epoch 393/500\n",
      "5/5 [==============================] - 0s 41ms/step - loss: 0.0139 - mae: 0.0937 - val_loss: 0.0174 - val_mae: 0.1053\n",
      "Epoch 394/500\n",
      "1/5 [=====>........................] - ETA: 0s - loss: 0.0133 - mae: 0.0920"
     ]
    },
    {
     "name": "stderr",
     "output_type": "stream",
     "text": [
      "WARNING:absl:Found untraced functions such as lstm_cell_layer_call_fn, lstm_cell_layer_call_and_return_conditional_losses while saving (showing 2 of 2). These functions will not be directly callable after loading.\n"
     ]
    },
    {
     "name": "stdout",
     "output_type": "stream",
     "text": [
      "INFO:tensorflow:Assets written to: C:\\Users\\PARK\\Documents\\LAB\\RNN vs LSTM\\FInal Example\\wandb\\run-20221018_151635-3el9trv5\\files\\model-best\\assets\n"
     ]
    },
    {
     "name": "stderr",
     "output_type": "stream",
     "text": [
      "INFO:tensorflow:Assets written to: C:\\Users\\PARK\\Documents\\LAB\\RNN vs LSTM\\FInal Example\\wandb\\run-20221018_151635-3el9trv5\\files\\model-best\\assets\n",
      "\u001b[34m\u001b[1mwandb\u001b[0m: Adding directory to artifact (C:\\Users\\PARK\\Documents\\LAB\\RNN vs LSTM\\FInal Example\\wandb\\run-20221018_151635-3el9trv5\\files\\model-best)... Done. 0.0s\n"
     ]
    },
    {
     "name": "stdout",
     "output_type": "stream",
     "text": [
      "5/5 [==============================] - 4s 890ms/step - loss: 0.0136 - mae: 0.0929 - val_loss: 0.0167 - val_mae: 0.1027\n",
      "Epoch 395/500\n",
      "5/5 [==============================] - 0s 71ms/step - loss: 0.0130 - mae: 0.0909 - val_loss: 0.0174 - val_mae: 0.1051\n",
      "Epoch 396/500\n",
      "5/5 [==============================] - 0s 56ms/step - loss: 0.0131 - mae: 0.0908 - val_loss: 0.0173 - val_mae: 0.1049\n",
      "Epoch 397/500\n",
      "5/5 [==============================] - 0s 41ms/step - loss: 0.0129 - mae: 0.0904 - val_loss: 0.0172 - val_mae: 0.1038\n",
      "Epoch 398/500\n",
      "1/5 [=====>........................] - ETA: 0s - loss: 0.0132 - mae: 0.0924"
     ]
    },
    {
     "name": "stderr",
     "output_type": "stream",
     "text": [
      "WARNING:absl:Found untraced functions such as lstm_cell_layer_call_fn, lstm_cell_layer_call_and_return_conditional_losses while saving (showing 2 of 2). These functions will not be directly callable after loading.\n"
     ]
    },
    {
     "name": "stdout",
     "output_type": "stream",
     "text": [
      "INFO:tensorflow:Assets written to: C:\\Users\\PARK\\Documents\\LAB\\RNN vs LSTM\\FInal Example\\wandb\\run-20221018_151635-3el9trv5\\files\\model-best\\assets\n"
     ]
    },
    {
     "name": "stderr",
     "output_type": "stream",
     "text": [
      "INFO:tensorflow:Assets written to: C:\\Users\\PARK\\Documents\\LAB\\RNN vs LSTM\\FInal Example\\wandb\\run-20221018_151635-3el9trv5\\files\\model-best\\assets\n",
      "\u001b[34m\u001b[1mwandb\u001b[0m: Adding directory to artifact (C:\\Users\\PARK\\Documents\\LAB\\RNN vs LSTM\\FInal Example\\wandb\\run-20221018_151635-3el9trv5\\files\\model-best)... Done. 0.0s\n"
     ]
    },
    {
     "name": "stdout",
     "output_type": "stream",
     "text": [
      "5/5 [==============================] - 4s 901ms/step - loss: 0.0130 - mae: 0.0908 - val_loss: 0.0162 - val_mae: 0.1016\n",
      "Epoch 399/500\n",
      "5/5 [==============================] - 0s 79ms/step - loss: 0.0133 - mae: 0.0914 - val_loss: 0.0163 - val_mae: 0.1012\n",
      "Epoch 400/500\n",
      "5/5 [==============================] - 0s 42ms/step - loss: 0.0139 - mae: 0.0932 - val_loss: 0.0163 - val_mae: 0.1026\n",
      "Epoch 401/500\n",
      "5/5 [==============================] - 0s 27ms/step - loss: 0.0138 - mae: 0.0931 - val_loss: 0.0165 - val_mae: 0.1017\n",
      "Epoch 402/500\n",
      "1/5 [=====>........................] - ETA: 0s - loss: 0.0112 - mae: 0.0848"
     ]
    },
    {
     "name": "stderr",
     "output_type": "stream",
     "text": [
      "WARNING:absl:Found untraced functions such as lstm_cell_layer_call_fn, lstm_cell_layer_call_and_return_conditional_losses while saving (showing 2 of 2). These functions will not be directly callable after loading.\n"
     ]
    },
    {
     "name": "stdout",
     "output_type": "stream",
     "text": [
      "INFO:tensorflow:Assets written to: C:\\Users\\PARK\\Documents\\LAB\\RNN vs LSTM\\FInal Example\\wandb\\run-20221018_151635-3el9trv5\\files\\model-best\\assets\n"
     ]
    },
    {
     "name": "stderr",
     "output_type": "stream",
     "text": [
      "INFO:tensorflow:Assets written to: C:\\Users\\PARK\\Documents\\LAB\\RNN vs LSTM\\FInal Example\\wandb\\run-20221018_151635-3el9trv5\\files\\model-best\\assets\n",
      "\u001b[34m\u001b[1mwandb\u001b[0m: Adding directory to artifact (C:\\Users\\PARK\\Documents\\LAB\\RNN vs LSTM\\FInal Example\\wandb\\run-20221018_151635-3el9trv5\\files\\model-best)... Done. 0.0s\n"
     ]
    },
    {
     "name": "stdout",
     "output_type": "stream",
     "text": [
      "5/5 [==============================] - 4s 931ms/step - loss: 0.0130 - mae: 0.0899 - val_loss: 0.0161 - val_mae: 0.1011\n",
      "Epoch 403/500\n",
      "5/5 [==============================] - 0s 74ms/step - loss: 0.0122 - mae: 0.0868 - val_loss: 0.0162 - val_mae: 0.1010\n",
      "Epoch 404/500\n",
      "3/5 [=================>............] - ETA: 0s - loss: 0.0121 - mae: 0.0872"
     ]
    },
    {
     "name": "stderr",
     "output_type": "stream",
     "text": [
      "WARNING:absl:Found untraced functions such as lstm_cell_layer_call_fn, lstm_cell_layer_call_and_return_conditional_losses while saving (showing 2 of 2). These functions will not be directly callable after loading.\n"
     ]
    },
    {
     "name": "stdout",
     "output_type": "stream",
     "text": [
      "INFO:tensorflow:Assets written to: C:\\Users\\PARK\\Documents\\LAB\\RNN vs LSTM\\FInal Example\\wandb\\run-20221018_151635-3el9trv5\\files\\model-best\\assets\n"
     ]
    },
    {
     "name": "stderr",
     "output_type": "stream",
     "text": [
      "INFO:tensorflow:Assets written to: C:\\Users\\PARK\\Documents\\LAB\\RNN vs LSTM\\FInal Example\\wandb\\run-20221018_151635-3el9trv5\\files\\model-best\\assets\n",
      "\u001b[34m\u001b[1mwandb\u001b[0m: Adding directory to artifact (C:\\Users\\PARK\\Documents\\LAB\\RNN vs LSTM\\FInal Example\\wandb\\run-20221018_151635-3el9trv5\\files\\model-best)... Done. 0.0s\n"
     ]
    },
    {
     "name": "stdout",
     "output_type": "stream",
     "text": [
      "5/5 [==============================] - 4s 912ms/step - loss: 0.0120 - mae: 0.0870 - val_loss: 0.0157 - val_mae: 0.0998\n",
      "Epoch 405/500\n",
      "4/5 [=======================>......] - ETA: 0s - loss: 0.0117 - mae: 0.0857"
     ]
    },
    {
     "name": "stderr",
     "output_type": "stream",
     "text": [
      "WARNING:absl:Found untraced functions such as lstm_cell_layer_call_fn, lstm_cell_layer_call_and_return_conditional_losses while saving (showing 2 of 2). These functions will not be directly callable after loading.\n"
     ]
    },
    {
     "name": "stdout",
     "output_type": "stream",
     "text": [
      "INFO:tensorflow:Assets written to: C:\\Users\\PARK\\Documents\\LAB\\RNN vs LSTM\\FInal Example\\wandb\\run-20221018_151635-3el9trv5\\files\\model-best\\assets\n"
     ]
    },
    {
     "name": "stderr",
     "output_type": "stream",
     "text": [
      "INFO:tensorflow:Assets written to: C:\\Users\\PARK\\Documents\\LAB\\RNN vs LSTM\\FInal Example\\wandb\\run-20221018_151635-3el9trv5\\files\\model-best\\assets\n",
      "\u001b[34m\u001b[1mwandb\u001b[0m: Adding directory to artifact (C:\\Users\\PARK\\Documents\\LAB\\RNN vs LSTM\\FInal Example\\wandb\\run-20221018_151635-3el9trv5\\files\\model-best)... Done. 0.0s\n"
     ]
    },
    {
     "name": "stdout",
     "output_type": "stream",
     "text": [
      "5/5 [==============================] - 4s 993ms/step - loss: 0.0117 - mae: 0.0858 - val_loss: 0.0153 - val_mae: 0.0979\n",
      "Epoch 406/500\n",
      "5/5 [==============================] - ETA: 0s - loss: 0.0114 - mae: 0.0844"
     ]
    },
    {
     "name": "stderr",
     "output_type": "stream",
     "text": [
      "WARNING:absl:Found untraced functions such as lstm_cell_layer_call_fn, lstm_cell_layer_call_and_return_conditional_losses while saving (showing 2 of 2). These functions will not be directly callable after loading.\n"
     ]
    },
    {
     "name": "stdout",
     "output_type": "stream",
     "text": [
      "INFO:tensorflow:Assets written to: C:\\Users\\PARK\\Documents\\LAB\\RNN vs LSTM\\FInal Example\\wandb\\run-20221018_151635-3el9trv5\\files\\model-best\\assets\n"
     ]
    },
    {
     "name": "stderr",
     "output_type": "stream",
     "text": [
      "INFO:tensorflow:Assets written to: C:\\Users\\PARK\\Documents\\LAB\\RNN vs LSTM\\FInal Example\\wandb\\run-20221018_151635-3el9trv5\\files\\model-best\\assets\n",
      "\u001b[34m\u001b[1mwandb\u001b[0m: Adding directory to artifact (C:\\Users\\PARK\\Documents\\LAB\\RNN vs LSTM\\FInal Example\\wandb\\run-20221018_151635-3el9trv5\\files\\model-best)... Done. 0.0s\n"
     ]
    },
    {
     "name": "stdout",
     "output_type": "stream",
     "text": [
      "5/5 [==============================] - 4s 901ms/step - loss: 0.0114 - mae: 0.0844 - val_loss: 0.0151 - val_mae: 0.0977\n",
      "Epoch 407/500\n",
      "3/5 [=================>............] - ETA: 0s - loss: 0.0112 - mae: 0.0835"
     ]
    },
    {
     "name": "stderr",
     "output_type": "stream",
     "text": [
      "WARNING:absl:Found untraced functions such as lstm_cell_layer_call_fn, lstm_cell_layer_call_and_return_conditional_losses while saving (showing 2 of 2). These functions will not be directly callable after loading.\n"
     ]
    },
    {
     "name": "stdout",
     "output_type": "stream",
     "text": [
      "INFO:tensorflow:Assets written to: C:\\Users\\PARK\\Documents\\LAB\\RNN vs LSTM\\FInal Example\\wandb\\run-20221018_151635-3el9trv5\\files\\model-best\\assets\n"
     ]
    },
    {
     "name": "stderr",
     "output_type": "stream",
     "text": [
      "INFO:tensorflow:Assets written to: C:\\Users\\PARK\\Documents\\LAB\\RNN vs LSTM\\FInal Example\\wandb\\run-20221018_151635-3el9trv5\\files\\model-best\\assets\n",
      "\u001b[34m\u001b[1mwandb\u001b[0m: Adding directory to artifact (C:\\Users\\PARK\\Documents\\LAB\\RNN vs LSTM\\FInal Example\\wandb\\run-20221018_151635-3el9trv5\\files\\model-best)... Done. 0.0s\n"
     ]
    },
    {
     "name": "stdout",
     "output_type": "stream",
     "text": [
      "5/5 [==============================] - 4s 982ms/step - loss: 0.0112 - mae: 0.0838 - val_loss: 0.0149 - val_mae: 0.0969\n",
      "Epoch 408/500\n",
      "5/5 [==============================] - 0s 72ms/step - loss: 0.0111 - mae: 0.0832 - val_loss: 0.0149 - val_mae: 0.0975\n",
      "Epoch 409/500\n",
      "5/5 [==============================] - 0s 53ms/step - loss: 0.0110 - mae: 0.0830 - val_loss: 0.0151 - val_mae: 0.0976\n",
      "Epoch 410/500\n",
      "1/5 [=====>........................] - ETA: 0s - loss: 0.0110 - mae: 0.0831"
     ]
    },
    {
     "name": "stderr",
     "output_type": "stream",
     "text": [
      "WARNING:absl:Found untraced functions such as lstm_cell_layer_call_fn, lstm_cell_layer_call_and_return_conditional_losses while saving (showing 2 of 2). These functions will not be directly callable after loading.\n"
     ]
    },
    {
     "name": "stdout",
     "output_type": "stream",
     "text": [
      "INFO:tensorflow:Assets written to: C:\\Users\\PARK\\Documents\\LAB\\RNN vs LSTM\\FInal Example\\wandb\\run-20221018_151635-3el9trv5\\files\\model-best\\assets\n"
     ]
    },
    {
     "name": "stderr",
     "output_type": "stream",
     "text": [
      "INFO:tensorflow:Assets written to: C:\\Users\\PARK\\Documents\\LAB\\RNN vs LSTM\\FInal Example\\wandb\\run-20221018_151635-3el9trv5\\files\\model-best\\assets\n",
      "\u001b[34m\u001b[1mwandb\u001b[0m: Adding directory to artifact (C:\\Users\\PARK\\Documents\\LAB\\RNN vs LSTM\\FInal Example\\wandb\\run-20221018_151635-3el9trv5\\files\\model-best)... Done. 0.0s\n"
     ]
    },
    {
     "name": "stdout",
     "output_type": "stream",
     "text": [
      "5/5 [==============================] - 4s 912ms/step - loss: 0.0109 - mae: 0.0824 - val_loss: 0.0147 - val_mae: 0.0960\n",
      "Epoch 411/500\n",
      "3/5 [=================>............] - ETA: 0s - loss: 0.0107 - mae: 0.0814"
     ]
    },
    {
     "name": "stderr",
     "output_type": "stream",
     "text": [
      "WARNING:absl:Found untraced functions such as lstm_cell_layer_call_fn, lstm_cell_layer_call_and_return_conditional_losses while saving (showing 2 of 2). These functions will not be directly callable after loading.\n"
     ]
    },
    {
     "name": "stdout",
     "output_type": "stream",
     "text": [
      "INFO:tensorflow:Assets written to: C:\\Users\\PARK\\Documents\\LAB\\RNN vs LSTM\\FInal Example\\wandb\\run-20221018_151635-3el9trv5\\files\\model-best\\assets\n"
     ]
    },
    {
     "name": "stderr",
     "output_type": "stream",
     "text": [
      "INFO:tensorflow:Assets written to: C:\\Users\\PARK\\Documents\\LAB\\RNN vs LSTM\\FInal Example\\wandb\\run-20221018_151635-3el9trv5\\files\\model-best\\assets\n",
      "\u001b[34m\u001b[1mwandb\u001b[0m: Adding directory to artifact (C:\\Users\\PARK\\Documents\\LAB\\RNN vs LSTM\\FInal Example\\wandb\\run-20221018_151635-3el9trv5\\files\\model-best)... Done. 0.0s\n"
     ]
    },
    {
     "name": "stdout",
     "output_type": "stream",
     "text": [
      "5/5 [==============================] - 4s 912ms/step - loss: 0.0106 - mae: 0.0814 - val_loss: 0.0145 - val_mae: 0.0954\n",
      "Epoch 412/500\n",
      "5/5 [==============================] - 0s 70ms/step - loss: 0.0106 - mae: 0.0817 - val_loss: 0.0148 - val_mae: 0.0967\n",
      "Epoch 413/500\n",
      "3/5 [=================>............] - ETA: 0s - loss: 0.0100 - mae: 0.0787"
     ]
    },
    {
     "name": "stderr",
     "output_type": "stream",
     "text": [
      "WARNING:absl:Found untraced functions such as lstm_cell_layer_call_fn, lstm_cell_layer_call_and_return_conditional_losses while saving (showing 2 of 2). These functions will not be directly callable after loading.\n"
     ]
    },
    {
     "name": "stdout",
     "output_type": "stream",
     "text": [
      "INFO:tensorflow:Assets written to: C:\\Users\\PARK\\Documents\\LAB\\RNN vs LSTM\\FInal Example\\wandb\\run-20221018_151635-3el9trv5\\files\\model-best\\assets\n"
     ]
    },
    {
     "name": "stderr",
     "output_type": "stream",
     "text": [
      "INFO:tensorflow:Assets written to: C:\\Users\\PARK\\Documents\\LAB\\RNN vs LSTM\\FInal Example\\wandb\\run-20221018_151635-3el9trv5\\files\\model-best\\assets\n",
      "\u001b[34m\u001b[1mwandb\u001b[0m: Adding directory to artifact (C:\\Users\\PARK\\Documents\\LAB\\RNN vs LSTM\\FInal Example\\wandb\\run-20221018_151635-3el9trv5\\files\\model-best)... Done. 0.0s\n"
     ]
    },
    {
     "name": "stdout",
     "output_type": "stream",
     "text": [
      "5/5 [==============================] - 4s 954ms/step - loss: 0.0106 - mae: 0.0813 - val_loss: 0.0143 - val_mae: 0.0946\n",
      "Epoch 414/500\n",
      "3/5 [=================>............] - ETA: 0s - loss: 0.0104 - mae: 0.0806"
     ]
    },
    {
     "name": "stderr",
     "output_type": "stream",
     "text": [
      "WARNING:absl:Found untraced functions such as lstm_cell_layer_call_fn, lstm_cell_layer_call_and_return_conditional_losses while saving (showing 2 of 2). These functions will not be directly callable after loading.\n"
     ]
    },
    {
     "name": "stdout",
     "output_type": "stream",
     "text": [
      "INFO:tensorflow:Assets written to: C:\\Users\\PARK\\Documents\\LAB\\RNN vs LSTM\\FInal Example\\wandb\\run-20221018_151635-3el9trv5\\files\\model-best\\assets\n"
     ]
    },
    {
     "name": "stderr",
     "output_type": "stream",
     "text": [
      "INFO:tensorflow:Assets written to: C:\\Users\\PARK\\Documents\\LAB\\RNN vs LSTM\\FInal Example\\wandb\\run-20221018_151635-3el9trv5\\files\\model-best\\assets\n",
      "\u001b[34m\u001b[1mwandb\u001b[0m: Adding directory to artifact (C:\\Users\\PARK\\Documents\\LAB\\RNN vs LSTM\\FInal Example\\wandb\\run-20221018_151635-3el9trv5\\files\\model-best)... Done. 0.0s\n"
     ]
    },
    {
     "name": "stdout",
     "output_type": "stream",
     "text": [
      "5/5 [==============================] - 4s 946ms/step - loss: 0.0104 - mae: 0.0807 - val_loss: 0.0141 - val_mae: 0.0942\n",
      "Epoch 415/500\n",
      "5/5 [==============================] - 0s 70ms/step - loss: 0.0102 - mae: 0.0795 - val_loss: 0.0143 - val_mae: 0.0948\n",
      "Epoch 416/500\n",
      "3/5 [=================>............] - ETA: 0s - loss: 0.0102 - mae: 0.0806"
     ]
    },
    {
     "name": "stderr",
     "output_type": "stream",
     "text": [
      "WARNING:absl:Found untraced functions such as lstm_cell_layer_call_fn, lstm_cell_layer_call_and_return_conditional_losses while saving (showing 2 of 2). These functions will not be directly callable after loading.\n"
     ]
    },
    {
     "name": "stdout",
     "output_type": "stream",
     "text": [
      "INFO:tensorflow:Assets written to: C:\\Users\\PARK\\Documents\\LAB\\RNN vs LSTM\\FInal Example\\wandb\\run-20221018_151635-3el9trv5\\files\\model-best\\assets\n"
     ]
    },
    {
     "name": "stderr",
     "output_type": "stream",
     "text": [
      "INFO:tensorflow:Assets written to: C:\\Users\\PARK\\Documents\\LAB\\RNN vs LSTM\\FInal Example\\wandb\\run-20221018_151635-3el9trv5\\files\\model-best\\assets\n",
      "\u001b[34m\u001b[1mwandb\u001b[0m: Adding directory to artifact (C:\\Users\\PARK\\Documents\\LAB\\RNN vs LSTM\\FInal Example\\wandb\\run-20221018_151635-3el9trv5\\files\\model-best)... Done. 0.0s\n"
     ]
    },
    {
     "name": "stdout",
     "output_type": "stream",
     "text": [
      "5/5 [==============================] - 4s 926ms/step - loss: 0.0103 - mae: 0.0802 - val_loss: 0.0140 - val_mae: 0.0940\n",
      "Epoch 417/500\n",
      "4/5 [=======================>......] - ETA: 0s - loss: 0.0102 - mae: 0.0799"
     ]
    },
    {
     "name": "stderr",
     "output_type": "stream",
     "text": [
      "WARNING:absl:Found untraced functions such as lstm_cell_layer_call_fn, lstm_cell_layer_call_and_return_conditional_losses while saving (showing 2 of 2). These functions will not be directly callable after loading.\n"
     ]
    },
    {
     "name": "stdout",
     "output_type": "stream",
     "text": [
      "INFO:tensorflow:Assets written to: C:\\Users\\PARK\\Documents\\LAB\\RNN vs LSTM\\FInal Example\\wandb\\run-20221018_151635-3el9trv5\\files\\model-best\\assets\n"
     ]
    },
    {
     "name": "stderr",
     "output_type": "stream",
     "text": [
      "INFO:tensorflow:Assets written to: C:\\Users\\PARK\\Documents\\LAB\\RNN vs LSTM\\FInal Example\\wandb\\run-20221018_151635-3el9trv5\\files\\model-best\\assets\n",
      "\u001b[34m\u001b[1mwandb\u001b[0m: Adding directory to artifact (C:\\Users\\PARK\\Documents\\LAB\\RNN vs LSTM\\FInal Example\\wandb\\run-20221018_151635-3el9trv5\\files\\model-best)... Done. 0.0s\n"
     ]
    },
    {
     "name": "stdout",
     "output_type": "stream",
     "text": [
      "5/5 [==============================] - 4s 960ms/step - loss: 0.0101 - mae: 0.0795 - val_loss: 0.0137 - val_mae: 0.0925\n",
      "Epoch 418/500\n",
      "5/5 [==============================] - 0s 81ms/step - loss: 0.0101 - mae: 0.0796 - val_loss: 0.0140 - val_mae: 0.0930\n",
      "Epoch 419/500\n",
      "5/5 [==============================] - 0s 50ms/step - loss: 0.0099 - mae: 0.0788 - val_loss: 0.0139 - val_mae: 0.0931\n",
      "Epoch 420/500\n",
      "5/5 [==============================] - 0s 37ms/step - loss: 0.0100 - mae: 0.0788 - val_loss: 0.0138 - val_mae: 0.0930\n",
      "Epoch 421/500\n",
      "1/5 [=====>........................] - ETA: 0s - loss: 0.0094 - mae: 0.0761"
     ]
    },
    {
     "name": "stderr",
     "output_type": "stream",
     "text": [
      "WARNING:absl:Found untraced functions such as lstm_cell_layer_call_fn, lstm_cell_layer_call_and_return_conditional_losses while saving (showing 2 of 2). These functions will not be directly callable after loading.\n"
     ]
    },
    {
     "name": "stdout",
     "output_type": "stream",
     "text": [
      "INFO:tensorflow:Assets written to: C:\\Users\\PARK\\Documents\\LAB\\RNN vs LSTM\\FInal Example\\wandb\\run-20221018_151635-3el9trv5\\files\\model-best\\assets\n"
     ]
    },
    {
     "name": "stderr",
     "output_type": "stream",
     "text": [
      "INFO:tensorflow:Assets written to: C:\\Users\\PARK\\Documents\\LAB\\RNN vs LSTM\\FInal Example\\wandb\\run-20221018_151635-3el9trv5\\files\\model-best\\assets\n",
      "\u001b[34m\u001b[1mwandb\u001b[0m: Adding directory to artifact (C:\\Users\\PARK\\Documents\\LAB\\RNN vs LSTM\\FInal Example\\wandb\\run-20221018_151635-3el9trv5\\files\\model-best)... Done. 0.0s\n"
     ]
    },
    {
     "name": "stdout",
     "output_type": "stream",
     "text": [
      "5/5 [==============================] - 3s 861ms/step - loss: 0.0099 - mae: 0.0785 - val_loss: 0.0132 - val_mae: 0.0911\n",
      "Epoch 422/500\n",
      "5/5 [==============================] - 0s 68ms/step - loss: 0.0096 - mae: 0.0775 - val_loss: 0.0135 - val_mae: 0.0922\n",
      "Epoch 423/500\n",
      "5/5 [==============================] - 0s 47ms/step - loss: 0.0097 - mae: 0.0781 - val_loss: 0.0133 - val_mae: 0.0914\n",
      "Epoch 424/500\n",
      "5/5 [==============================] - ETA: 0s - loss: 0.0094 - mae: 0.0772"
     ]
    },
    {
     "name": "stderr",
     "output_type": "stream",
     "text": [
      "WARNING:absl:Found untraced functions such as lstm_cell_layer_call_fn, lstm_cell_layer_call_and_return_conditional_losses while saving (showing 2 of 2). These functions will not be directly callable after loading.\n"
     ]
    },
    {
     "name": "stdout",
     "output_type": "stream",
     "text": [
      "INFO:tensorflow:Assets written to: C:\\Users\\PARK\\Documents\\LAB\\RNN vs LSTM\\FInal Example\\wandb\\run-20221018_151635-3el9trv5\\files\\model-best\\assets\n"
     ]
    },
    {
     "name": "stderr",
     "output_type": "stream",
     "text": [
      "INFO:tensorflow:Assets written to: C:\\Users\\PARK\\Documents\\LAB\\RNN vs LSTM\\FInal Example\\wandb\\run-20221018_151635-3el9trv5\\files\\model-best\\assets\n",
      "\u001b[34m\u001b[1mwandb\u001b[0m: Adding directory to artifact (C:\\Users\\PARK\\Documents\\LAB\\RNN vs LSTM\\FInal Example\\wandb\\run-20221018_151635-3el9trv5\\files\\model-best)... Done. 0.0s\n"
     ]
    },
    {
     "name": "stdout",
     "output_type": "stream",
     "text": [
      "5/5 [==============================] - 4s 931ms/step - loss: 0.0094 - mae: 0.0772 - val_loss: 0.0131 - val_mae: 0.0907\n",
      "Epoch 425/500\n",
      "5/5 [==============================] - 0s 71ms/step - loss: 0.0093 - mae: 0.0762 - val_loss: 0.0131 - val_mae: 0.0909\n",
      "Epoch 426/500\n",
      "5/5 [==============================] - 0s 49ms/step - loss: 0.0094 - mae: 0.0763 - val_loss: 0.0134 - val_mae: 0.0915\n",
      "Epoch 427/500\n",
      "1/5 [=====>........................] - ETA: 0s - loss: 0.0096 - mae: 0.0777"
     ]
    },
    {
     "name": "stderr",
     "output_type": "stream",
     "text": [
      "WARNING:absl:Found untraced functions such as lstm_cell_layer_call_fn, lstm_cell_layer_call_and_return_conditional_losses while saving (showing 2 of 2). These functions will not be directly callable after loading.\n"
     ]
    },
    {
     "name": "stdout",
     "output_type": "stream",
     "text": [
      "INFO:tensorflow:Assets written to: C:\\Users\\PARK\\Documents\\LAB\\RNN vs LSTM\\FInal Example\\wandb\\run-20221018_151635-3el9trv5\\files\\model-best\\assets\n"
     ]
    },
    {
     "name": "stderr",
     "output_type": "stream",
     "text": [
      "INFO:tensorflow:Assets written to: C:\\Users\\PARK\\Documents\\LAB\\RNN vs LSTM\\FInal Example\\wandb\\run-20221018_151635-3el9trv5\\files\\model-best\\assets\n",
      "\u001b[34m\u001b[1mwandb\u001b[0m: Adding directory to artifact (C:\\Users\\PARK\\Documents\\LAB\\RNN vs LSTM\\FInal Example\\wandb\\run-20221018_151635-3el9trv5\\files\\model-best)... Done. 0.0s\n"
     ]
    },
    {
     "name": "stdout",
     "output_type": "stream",
     "text": [
      "5/5 [==============================] - 4s 904ms/step - loss: 0.0094 - mae: 0.0767 - val_loss: 0.0129 - val_mae: 0.0896\n",
      "Epoch 428/500\n",
      "5/5 [==============================] - ETA: 0s - loss: 0.0093 - mae: 0.0761"
     ]
    },
    {
     "name": "stderr",
     "output_type": "stream",
     "text": [
      "WARNING:absl:Found untraced functions such as lstm_cell_layer_call_fn, lstm_cell_layer_call_and_return_conditional_losses while saving (showing 2 of 2). These functions will not be directly callable after loading.\n"
     ]
    },
    {
     "name": "stdout",
     "output_type": "stream",
     "text": [
      "INFO:tensorflow:Assets written to: C:\\Users\\PARK\\Documents\\LAB\\RNN vs LSTM\\FInal Example\\wandb\\run-20221018_151635-3el9trv5\\files\\model-best\\assets\n"
     ]
    },
    {
     "name": "stderr",
     "output_type": "stream",
     "text": [
      "INFO:tensorflow:Assets written to: C:\\Users\\PARK\\Documents\\LAB\\RNN vs LSTM\\FInal Example\\wandb\\run-20221018_151635-3el9trv5\\files\\model-best\\assets\n",
      "\u001b[34m\u001b[1mwandb\u001b[0m: Adding directory to artifact (C:\\Users\\PARK\\Documents\\LAB\\RNN vs LSTM\\FInal Example\\wandb\\run-20221018_151635-3el9trv5\\files\\model-best)... Done. 0.0s\n"
     ]
    },
    {
     "name": "stdout",
     "output_type": "stream",
     "text": [
      "5/5 [==============================] - 4s 946ms/step - loss: 0.0093 - mae: 0.0761 - val_loss: 0.0129 - val_mae: 0.0897\n",
      "Epoch 429/500\n",
      "5/5 [==============================] - 0s 78ms/step - loss: 0.0093 - mae: 0.0762 - val_loss: 0.0129 - val_mae: 0.0899\n",
      "Epoch 430/500\n",
      "5/5 [==============================] - 0s 49ms/step - loss: 0.0092 - mae: 0.0759 - val_loss: 0.0129 - val_mae: 0.0893\n",
      "Epoch 431/500\n",
      "5/5 [==============================] - 0s 42ms/step - loss: 0.0092 - mae: 0.0757 - val_loss: 0.0130 - val_mae: 0.0906\n",
      "Epoch 432/500\n",
      "5/5 [==============================] - 0s 38ms/step - loss: 0.0092 - mae: 0.0758 - val_loss: 0.0130 - val_mae: 0.0901\n",
      "Epoch 433/500\n",
      "1/5 [=====>........................] - ETA: 0s - loss: 0.0090 - mae: 0.0755"
     ]
    },
    {
     "name": "stderr",
     "output_type": "stream",
     "text": [
      "WARNING:absl:Found untraced functions such as lstm_cell_layer_call_fn, lstm_cell_layer_call_and_return_conditional_losses while saving (showing 2 of 2). These functions will not be directly callable after loading.\n"
     ]
    },
    {
     "name": "stdout",
     "output_type": "stream",
     "text": [
      "INFO:tensorflow:Assets written to: C:\\Users\\PARK\\Documents\\LAB\\RNN vs LSTM\\FInal Example\\wandb\\run-20221018_151635-3el9trv5\\files\\model-best\\assets\n"
     ]
    },
    {
     "name": "stderr",
     "output_type": "stream",
     "text": [
      "INFO:tensorflow:Assets written to: C:\\Users\\PARK\\Documents\\LAB\\RNN vs LSTM\\FInal Example\\wandb\\run-20221018_151635-3el9trv5\\files\\model-best\\assets\n",
      "\u001b[34m\u001b[1mwandb\u001b[0m: Adding directory to artifact (C:\\Users\\PARK\\Documents\\LAB\\RNN vs LSTM\\FInal Example\\wandb\\run-20221018_151635-3el9trv5\\files\\model-best)... Done. 0.0s\n"
     ]
    },
    {
     "name": "stdout",
     "output_type": "stream",
     "text": [
      "5/5 [==============================] - 4s 935ms/step - loss: 0.0091 - mae: 0.0756 - val_loss: 0.0127 - val_mae: 0.0894\n",
      "Epoch 434/500\n",
      "5/5 [==============================] - ETA: 0s - loss: 0.0091 - mae: 0.0754"
     ]
    },
    {
     "name": "stderr",
     "output_type": "stream",
     "text": [
      "WARNING:absl:Found untraced functions such as lstm_cell_layer_call_fn, lstm_cell_layer_call_and_return_conditional_losses while saving (showing 2 of 2). These functions will not be directly callable after loading.\n"
     ]
    },
    {
     "name": "stdout",
     "output_type": "stream",
     "text": [
      "INFO:tensorflow:Assets written to: C:\\Users\\PARK\\Documents\\LAB\\RNN vs LSTM\\FInal Example\\wandb\\run-20221018_151635-3el9trv5\\files\\model-best\\assets\n"
     ]
    },
    {
     "name": "stderr",
     "output_type": "stream",
     "text": [
      "INFO:tensorflow:Assets written to: C:\\Users\\PARK\\Documents\\LAB\\RNN vs LSTM\\FInal Example\\wandb\\run-20221018_151635-3el9trv5\\files\\model-best\\assets\n",
      "\u001b[34m\u001b[1mwandb\u001b[0m: Adding directory to artifact (C:\\Users\\PARK\\Documents\\LAB\\RNN vs LSTM\\FInal Example\\wandb\\run-20221018_151635-3el9trv5\\files\\model-best)... Done. 0.0s\n"
     ]
    },
    {
     "name": "stdout",
     "output_type": "stream",
     "text": [
      "5/5 [==============================] - 4s 952ms/step - loss: 0.0091 - mae: 0.0754 - val_loss: 0.0126 - val_mae: 0.0886\n",
      "Epoch 435/500\n",
      "5/5 [==============================] - ETA: 0s - loss: 0.0088 - mae: 0.0740"
     ]
    },
    {
     "name": "stderr",
     "output_type": "stream",
     "text": [
      "WARNING:absl:Found untraced functions such as lstm_cell_layer_call_fn, lstm_cell_layer_call_and_return_conditional_losses while saving (showing 2 of 2). These functions will not be directly callable after loading.\n"
     ]
    },
    {
     "name": "stdout",
     "output_type": "stream",
     "text": [
      "INFO:tensorflow:Assets written to: C:\\Users\\PARK\\Documents\\LAB\\RNN vs LSTM\\FInal Example\\wandb\\run-20221018_151635-3el9trv5\\files\\model-best\\assets\n"
     ]
    },
    {
     "name": "stderr",
     "output_type": "stream",
     "text": [
      "INFO:tensorflow:Assets written to: C:\\Users\\PARK\\Documents\\LAB\\RNN vs LSTM\\FInal Example\\wandb\\run-20221018_151635-3el9trv5\\files\\model-best\\assets\n",
      "\u001b[34m\u001b[1mwandb\u001b[0m: Adding directory to artifact (C:\\Users\\PARK\\Documents\\LAB\\RNN vs LSTM\\FInal Example\\wandb\\run-20221018_151635-3el9trv5\\files\\model-best)... Done. 0.0s\n"
     ]
    },
    {
     "name": "stdout",
     "output_type": "stream",
     "text": [
      "5/5 [==============================] - 4s 912ms/step - loss: 0.0088 - mae: 0.0740 - val_loss: 0.0123 - val_mae: 0.0873\n",
      "Epoch 436/500\n",
      "3/5 [=================>............] - ETA: 0s - loss: 0.0088 - mae: 0.0745"
     ]
    },
    {
     "name": "stderr",
     "output_type": "stream",
     "text": [
      "WARNING:absl:Found untraced functions such as lstm_cell_layer_call_fn, lstm_cell_layer_call_and_return_conditional_losses while saving (showing 2 of 2). These functions will not be directly callable after loading.\n"
     ]
    },
    {
     "name": "stdout",
     "output_type": "stream",
     "text": [
      "INFO:tensorflow:Assets written to: C:\\Users\\PARK\\Documents\\LAB\\RNN vs LSTM\\FInal Example\\wandb\\run-20221018_151635-3el9trv5\\files\\model-best\\assets\n"
     ]
    },
    {
     "name": "stderr",
     "output_type": "stream",
     "text": [
      "INFO:tensorflow:Assets written to: C:\\Users\\PARK\\Documents\\LAB\\RNN vs LSTM\\FInal Example\\wandb\\run-20221018_151635-3el9trv5\\files\\model-best\\assets\n",
      "\u001b[34m\u001b[1mwandb\u001b[0m: Adding directory to artifact (C:\\Users\\PARK\\Documents\\LAB\\RNN vs LSTM\\FInal Example\\wandb\\run-20221018_151635-3el9trv5\\files\\model-best)... Done. 0.0s\n"
     ]
    },
    {
     "name": "stdout",
     "output_type": "stream",
     "text": [
      "5/5 [==============================] - 4s 956ms/step - loss: 0.0087 - mae: 0.0740 - val_loss: 0.0123 - val_mae: 0.0872\n",
      "Epoch 437/500\n",
      "5/5 [==============================] - ETA: 0s - loss: 0.0086 - mae: 0.0730"
     ]
    },
    {
     "name": "stderr",
     "output_type": "stream",
     "text": [
      "WARNING:absl:Found untraced functions such as lstm_cell_layer_call_fn, lstm_cell_layer_call_and_return_conditional_losses while saving (showing 2 of 2). These functions will not be directly callable after loading.\n"
     ]
    },
    {
     "name": "stdout",
     "output_type": "stream",
     "text": [
      "INFO:tensorflow:Assets written to: C:\\Users\\PARK\\Documents\\LAB\\RNN vs LSTM\\FInal Example\\wandb\\run-20221018_151635-3el9trv5\\files\\model-best\\assets\n"
     ]
    },
    {
     "name": "stderr",
     "output_type": "stream",
     "text": [
      "INFO:tensorflow:Assets written to: C:\\Users\\PARK\\Documents\\LAB\\RNN vs LSTM\\FInal Example\\wandb\\run-20221018_151635-3el9trv5\\files\\model-best\\assets\n",
      "\u001b[34m\u001b[1mwandb\u001b[0m: Adding directory to artifact (C:\\Users\\PARK\\Documents\\LAB\\RNN vs LSTM\\FInal Example\\wandb\\run-20221018_151635-3el9trv5\\files\\model-best)... Done. 0.0s\n"
     ]
    },
    {
     "name": "stdout",
     "output_type": "stream",
     "text": [
      "5/5 [==============================] - 4s 937ms/step - loss: 0.0086 - mae: 0.0730 - val_loss: 0.0120 - val_mae: 0.0862\n",
      "Epoch 438/500\n",
      "5/5 [==============================] - 0s 72ms/step - loss: 0.0086 - mae: 0.0732 - val_loss: 0.0124 - val_mae: 0.0879\n",
      "Epoch 439/500\n",
      "5/5 [==============================] - 0s 49ms/step - loss: 0.0086 - mae: 0.0734 - val_loss: 0.0122 - val_mae: 0.0873\n",
      "Epoch 440/500\n",
      "5/5 [==============================] - 0s 35ms/step - loss: 0.0085 - mae: 0.0729 - val_loss: 0.0122 - val_mae: 0.0869\n",
      "Epoch 441/500\n",
      "1/5 [=====>........................] - ETA: 0s - loss: 0.0080 - mae: 0.0710"
     ]
    },
    {
     "name": "stderr",
     "output_type": "stream",
     "text": [
      "WARNING:absl:Found untraced functions such as lstm_cell_layer_call_fn, lstm_cell_layer_call_and_return_conditional_losses while saving (showing 2 of 2). These functions will not be directly callable after loading.\n"
     ]
    },
    {
     "name": "stdout",
     "output_type": "stream",
     "text": [
      "INFO:tensorflow:Assets written to: C:\\Users\\PARK\\Documents\\LAB\\RNN vs LSTM\\FInal Example\\wandb\\run-20221018_151635-3el9trv5\\files\\model-best\\assets\n"
     ]
    },
    {
     "name": "stderr",
     "output_type": "stream",
     "text": [
      "INFO:tensorflow:Assets written to: C:\\Users\\PARK\\Documents\\LAB\\RNN vs LSTM\\FInal Example\\wandb\\run-20221018_151635-3el9trv5\\files\\model-best\\assets\n",
      "\u001b[34m\u001b[1mwandb\u001b[0m: Adding directory to artifact (C:\\Users\\PARK\\Documents\\LAB\\RNN vs LSTM\\FInal Example\\wandb\\run-20221018_151635-3el9trv5\\files\\model-best)... Done. 0.0s\n"
     ]
    },
    {
     "name": "stdout",
     "output_type": "stream",
     "text": [
      "5/5 [==============================] - 4s 941ms/step - loss: 0.0084 - mae: 0.0725 - val_loss: 0.0120 - val_mae: 0.0863\n",
      "Epoch 442/500\n",
      "3/5 [=================>............] - ETA: 0s - loss: 0.0079 - mae: 0.0703"
     ]
    },
    {
     "name": "stderr",
     "output_type": "stream",
     "text": [
      "WARNING:absl:Found untraced functions such as lstm_cell_layer_call_fn, lstm_cell_layer_call_and_return_conditional_losses while saving (showing 2 of 2). These functions will not be directly callable after loading.\n"
     ]
    },
    {
     "name": "stdout",
     "output_type": "stream",
     "text": [
      "INFO:tensorflow:Assets written to: C:\\Users\\PARK\\Documents\\LAB\\RNN vs LSTM\\FInal Example\\wandb\\run-20221018_151635-3el9trv5\\files\\model-best\\assets\n"
     ]
    },
    {
     "name": "stderr",
     "output_type": "stream",
     "text": [
      "INFO:tensorflow:Assets written to: C:\\Users\\PARK\\Documents\\LAB\\RNN vs LSTM\\FInal Example\\wandb\\run-20221018_151635-3el9trv5\\files\\model-best\\assets\n",
      "\u001b[34m\u001b[1mwandb\u001b[0m: Adding directory to artifact (C:\\Users\\PARK\\Documents\\LAB\\RNN vs LSTM\\FInal Example\\wandb\\run-20221018_151635-3el9trv5\\files\\model-best)... Done. 0.0s\n"
     ]
    },
    {
     "name": "stdout",
     "output_type": "stream",
     "text": [
      "5/5 [==============================] - 4s 919ms/step - loss: 0.0085 - mae: 0.0729 - val_loss: 0.0117 - val_mae: 0.0849\n",
      "Epoch 443/500\n",
      "5/5 [==============================] - 0s 52ms/step - loss: 0.0084 - mae: 0.0724 - val_loss: 0.0122 - val_mae: 0.0870\n",
      "Epoch 444/500\n",
      "5/5 [==============================] - 0s 27ms/step - loss: 0.0084 - mae: 0.0725 - val_loss: 0.0123 - val_mae: 0.0877\n",
      "Epoch 445/500\n",
      "5/5 [==============================] - 0s 27ms/step - loss: 0.0084 - mae: 0.0724 - val_loss: 0.0118 - val_mae: 0.0852\n",
      "Epoch 446/500\n",
      "1/5 [=====>........................] - ETA: 0s - loss: 0.0087 - mae: 0.0735"
     ]
    },
    {
     "name": "stderr",
     "output_type": "stream",
     "text": [
      "WARNING:absl:Found untraced functions such as lstm_cell_layer_call_fn, lstm_cell_layer_call_and_return_conditional_losses while saving (showing 2 of 2). These functions will not be directly callable after loading.\n"
     ]
    },
    {
     "name": "stdout",
     "output_type": "stream",
     "text": [
      "INFO:tensorflow:Assets written to: C:\\Users\\PARK\\Documents\\LAB\\RNN vs LSTM\\FInal Example\\wandb\\run-20221018_151635-3el9trv5\\files\\model-best\\assets\n"
     ]
    },
    {
     "name": "stderr",
     "output_type": "stream",
     "text": [
      "INFO:tensorflow:Assets written to: C:\\Users\\PARK\\Documents\\LAB\\RNN vs LSTM\\FInal Example\\wandb\\run-20221018_151635-3el9trv5\\files\\model-best\\assets\n",
      "\u001b[34m\u001b[1mwandb\u001b[0m: Adding directory to artifact (C:\\Users\\PARK\\Documents\\LAB\\RNN vs LSTM\\FInal Example\\wandb\\run-20221018_151635-3el9trv5\\files\\model-best)... Done. 0.0s\n"
     ]
    },
    {
     "name": "stdout",
     "output_type": "stream",
     "text": [
      "5/5 [==============================] - 4s 922ms/step - loss: 0.0083 - mae: 0.0720 - val_loss: 0.0115 - val_mae: 0.0847\n",
      "Epoch 447/500\n",
      "5/5 [==============================] - 0s 68ms/step - loss: 0.0081 - mae: 0.0711 - val_loss: 0.0118 - val_mae: 0.0856\n",
      "Epoch 448/500\n",
      "5/5 [==============================] - 0s 54ms/step - loss: 0.0081 - mae: 0.0711 - val_loss: 0.0115 - val_mae: 0.0846\n",
      "Epoch 449/500\n",
      "1/5 [=====>........................] - ETA: 0s - loss: 0.0080 - mae: 0.0715"
     ]
    },
    {
     "name": "stderr",
     "output_type": "stream",
     "text": [
      "WARNING:absl:Found untraced functions such as lstm_cell_layer_call_fn, lstm_cell_layer_call_and_return_conditional_losses while saving (showing 2 of 2). These functions will not be directly callable after loading.\n"
     ]
    },
    {
     "name": "stdout",
     "output_type": "stream",
     "text": [
      "INFO:tensorflow:Assets written to: C:\\Users\\PARK\\Documents\\LAB\\RNN vs LSTM\\FInal Example\\wandb\\run-20221018_151635-3el9trv5\\files\\model-best\\assets\n"
     ]
    },
    {
     "name": "stderr",
     "output_type": "stream",
     "text": [
      "INFO:tensorflow:Assets written to: C:\\Users\\PARK\\Documents\\LAB\\RNN vs LSTM\\FInal Example\\wandb\\run-20221018_151635-3el9trv5\\files\\model-best\\assets\n",
      "\u001b[34m\u001b[1mwandb\u001b[0m: Adding directory to artifact (C:\\Users\\PARK\\Documents\\LAB\\RNN vs LSTM\\FInal Example\\wandb\\run-20221018_151635-3el9trv5\\files\\model-best)... Done. 0.0s\n"
     ]
    },
    {
     "name": "stdout",
     "output_type": "stream",
     "text": [
      "5/5 [==============================] - 4s 919ms/step - loss: 0.0081 - mae: 0.0711 - val_loss: 0.0115 - val_mae: 0.0836\n",
      "Epoch 450/500\n",
      "5/5 [==============================] - 0s 69ms/step - loss: 0.0080 - mae: 0.0706 - val_loss: 0.0115 - val_mae: 0.0844\n",
      "Epoch 451/500\n",
      "5/5 [==============================] - ETA: 0s - loss: 0.0079 - mae: 0.0701"
     ]
    },
    {
     "name": "stderr",
     "output_type": "stream",
     "text": [
      "WARNING:absl:Found untraced functions such as lstm_cell_layer_call_fn, lstm_cell_layer_call_and_return_conditional_losses while saving (showing 2 of 2). These functions will not be directly callable after loading.\n"
     ]
    },
    {
     "name": "stdout",
     "output_type": "stream",
     "text": [
      "INFO:tensorflow:Assets written to: C:\\Users\\PARK\\Documents\\LAB\\RNN vs LSTM\\FInal Example\\wandb\\run-20221018_151635-3el9trv5\\files\\model-best\\assets\n"
     ]
    },
    {
     "name": "stderr",
     "output_type": "stream",
     "text": [
      "INFO:tensorflow:Assets written to: C:\\Users\\PARK\\Documents\\LAB\\RNN vs LSTM\\FInal Example\\wandb\\run-20221018_151635-3el9trv5\\files\\model-best\\assets\n",
      "\u001b[34m\u001b[1mwandb\u001b[0m: Adding directory to artifact (C:\\Users\\PARK\\Documents\\LAB\\RNN vs LSTM\\FInal Example\\wandb\\run-20221018_151635-3el9trv5\\files\\model-best)... Done. 0.0s\n"
     ]
    },
    {
     "name": "stdout",
     "output_type": "stream",
     "text": [
      "5/5 [==============================] - 4s 909ms/step - loss: 0.0079 - mae: 0.0701 - val_loss: 0.0113 - val_mae: 0.0831\n",
      "Epoch 452/500\n",
      "5/5 [==============================] - 0s 68ms/step - loss: 0.0078 - mae: 0.0701 - val_loss: 0.0115 - val_mae: 0.0843\n",
      "Epoch 453/500\n",
      "4/5 [=======================>......] - ETA: 0s - loss: 0.0078 - mae: 0.0702"
     ]
    },
    {
     "name": "stderr",
     "output_type": "stream",
     "text": [
      "WARNING:absl:Found untraced functions such as lstm_cell_layer_call_fn, lstm_cell_layer_call_and_return_conditional_losses while saving (showing 2 of 2). These functions will not be directly callable after loading.\n"
     ]
    },
    {
     "name": "stdout",
     "output_type": "stream",
     "text": [
      "INFO:tensorflow:Assets written to: C:\\Users\\PARK\\Documents\\LAB\\RNN vs LSTM\\FInal Example\\wandb\\run-20221018_151635-3el9trv5\\files\\model-best\\assets\n"
     ]
    },
    {
     "name": "stderr",
     "output_type": "stream",
     "text": [
      "INFO:tensorflow:Assets written to: C:\\Users\\PARK\\Documents\\LAB\\RNN vs LSTM\\FInal Example\\wandb\\run-20221018_151635-3el9trv5\\files\\model-best\\assets\n",
      "\u001b[34m\u001b[1mwandb\u001b[0m: Adding directory to artifact (C:\\Users\\PARK\\Documents\\LAB\\RNN vs LSTM\\FInal Example\\wandb\\run-20221018_151635-3el9trv5\\files\\model-best)... Done. 0.0s\n"
     ]
    },
    {
     "name": "stdout",
     "output_type": "stream",
     "text": [
      "5/5 [==============================] - 4s 918ms/step - loss: 0.0079 - mae: 0.0703 - val_loss: 0.0112 - val_mae: 0.0831\n",
      "Epoch 454/500\n",
      "5/5 [==============================] - ETA: 0s - loss: 0.0078 - mae: 0.0697"
     ]
    },
    {
     "name": "stderr",
     "output_type": "stream",
     "text": [
      "WARNING:absl:Found untraced functions such as lstm_cell_layer_call_fn, lstm_cell_layer_call_and_return_conditional_losses while saving (showing 2 of 2). These functions will not be directly callable after loading.\n"
     ]
    },
    {
     "name": "stdout",
     "output_type": "stream",
     "text": [
      "INFO:tensorflow:Assets written to: C:\\Users\\PARK\\Documents\\LAB\\RNN vs LSTM\\FInal Example\\wandb\\run-20221018_151635-3el9trv5\\files\\model-best\\assets\n"
     ]
    },
    {
     "name": "stderr",
     "output_type": "stream",
     "text": [
      "INFO:tensorflow:Assets written to: C:\\Users\\PARK\\Documents\\LAB\\RNN vs LSTM\\FInal Example\\wandb\\run-20221018_151635-3el9trv5\\files\\model-best\\assets\n",
      "\u001b[34m\u001b[1mwandb\u001b[0m: Adding directory to artifact (C:\\Users\\PARK\\Documents\\LAB\\RNN vs LSTM\\FInal Example\\wandb\\run-20221018_151635-3el9trv5\\files\\model-best)... Done. 0.0s\n"
     ]
    },
    {
     "name": "stdout",
     "output_type": "stream",
     "text": [
      "5/5 [==============================] - 4s 995ms/step - loss: 0.0078 - mae: 0.0697 - val_loss: 0.0109 - val_mae: 0.0820\n",
      "Epoch 455/500\n",
      "3/5 [=================>............] - ETA: 0s - loss: 0.0076 - mae: 0.0687"
     ]
    },
    {
     "name": "stderr",
     "output_type": "stream",
     "text": [
      "WARNING:absl:Found untraced functions such as lstm_cell_layer_call_fn, lstm_cell_layer_call_and_return_conditional_losses while saving (showing 2 of 2). These functions will not be directly callable after loading.\n"
     ]
    },
    {
     "name": "stdout",
     "output_type": "stream",
     "text": [
      "INFO:tensorflow:Assets written to: C:\\Users\\PARK\\Documents\\LAB\\RNN vs LSTM\\FInal Example\\wandb\\run-20221018_151635-3el9trv5\\files\\model-best\\assets\n"
     ]
    },
    {
     "name": "stderr",
     "output_type": "stream",
     "text": [
      "INFO:tensorflow:Assets written to: C:\\Users\\PARK\\Documents\\LAB\\RNN vs LSTM\\FInal Example\\wandb\\run-20221018_151635-3el9trv5\\files\\model-best\\assets\n",
      "\u001b[34m\u001b[1mwandb\u001b[0m: Adding directory to artifact (C:\\Users\\PARK\\Documents\\LAB\\RNN vs LSTM\\FInal Example\\wandb\\run-20221018_151635-3el9trv5\\files\\model-best)... Done. 0.0s\n"
     ]
    },
    {
     "name": "stdout",
     "output_type": "stream",
     "text": [
      "5/5 [==============================] - 4s 960ms/step - loss: 0.0078 - mae: 0.0699 - val_loss: 0.0109 - val_mae: 0.0817\n",
      "Epoch 456/500\n",
      "5/5 [==============================] - 0s 54ms/step - loss: 0.0080 - mae: 0.0711 - val_loss: 0.0112 - val_mae: 0.0828\n",
      "Epoch 457/500\n",
      "1/5 [=====>........................] - ETA: 0s - loss: 0.0073 - mae: 0.0694"
     ]
    },
    {
     "name": "stderr",
     "output_type": "stream",
     "text": [
      "WARNING:absl:Found untraced functions such as lstm_cell_layer_call_fn, lstm_cell_layer_call_and_return_conditional_losses while saving (showing 2 of 2). These functions will not be directly callable after loading.\n"
     ]
    },
    {
     "name": "stdout",
     "output_type": "stream",
     "text": [
      "INFO:tensorflow:Assets written to: C:\\Users\\PARK\\Documents\\LAB\\RNN vs LSTM\\FInal Example\\wandb\\run-20221018_151635-3el9trv5\\files\\model-best\\assets\n"
     ]
    },
    {
     "name": "stderr",
     "output_type": "stream",
     "text": [
      "INFO:tensorflow:Assets written to: C:\\Users\\PARK\\Documents\\LAB\\RNN vs LSTM\\FInal Example\\wandb\\run-20221018_151635-3el9trv5\\files\\model-best\\assets\n",
      "\u001b[34m\u001b[1mwandb\u001b[0m: Adding directory to artifact (C:\\Users\\PARK\\Documents\\LAB\\RNN vs LSTM\\FInal Example\\wandb\\run-20221018_151635-3el9trv5\\files\\model-best)... Done. 0.0s\n"
     ]
    },
    {
     "name": "stdout",
     "output_type": "stream",
     "text": [
      "5/5 [==============================] - 4s 900ms/step - loss: 0.0077 - mae: 0.0697 - val_loss: 0.0108 - val_mae: 0.0817\n",
      "Epoch 458/500\n",
      "5/5 [==============================] - 0s 74ms/step - loss: 0.0077 - mae: 0.0695 - val_loss: 0.0111 - val_mae: 0.0824\n",
      "Epoch 459/500\n",
      "5/5 [==============================] - 0s 49ms/step - loss: 0.0076 - mae: 0.0694 - val_loss: 0.0109 - val_mae: 0.0817\n",
      "Epoch 460/500\n",
      "1/5 [=====>........................] - ETA: 0s - loss: 0.0087 - mae: 0.0747"
     ]
    },
    {
     "name": "stderr",
     "output_type": "stream",
     "text": [
      "WARNING:absl:Found untraced functions such as lstm_cell_layer_call_fn, lstm_cell_layer_call_and_return_conditional_losses while saving (showing 2 of 2). These functions will not be directly callable after loading.\n"
     ]
    },
    {
     "name": "stdout",
     "output_type": "stream",
     "text": [
      "INFO:tensorflow:Assets written to: C:\\Users\\PARK\\Documents\\LAB\\RNN vs LSTM\\FInal Example\\wandb\\run-20221018_151635-3el9trv5\\files\\model-best\\assets\n"
     ]
    },
    {
     "name": "stderr",
     "output_type": "stream",
     "text": [
      "INFO:tensorflow:Assets written to: C:\\Users\\PARK\\Documents\\LAB\\RNN vs LSTM\\FInal Example\\wandb\\run-20221018_151635-3el9trv5\\files\\model-best\\assets\n",
      "\u001b[34m\u001b[1mwandb\u001b[0m: Adding directory to artifact (C:\\Users\\PARK\\Documents\\LAB\\RNN vs LSTM\\FInal Example\\wandb\\run-20221018_151635-3el9trv5\\files\\model-best)... Done. 0.0s\n"
     ]
    },
    {
     "name": "stdout",
     "output_type": "stream",
     "text": [
      "5/5 [==============================] - 4s 881ms/step - loss: 0.0076 - mae: 0.0690 - val_loss: 0.0105 - val_mae: 0.0797\n",
      "Epoch 461/500\n",
      "5/5 [==============================] - 0s 70ms/step - loss: 0.0076 - mae: 0.0690 - val_loss: 0.0105 - val_mae: 0.0800\n",
      "Epoch 462/500\n",
      "5/5 [==============================] - 0s 42ms/step - loss: 0.0074 - mae: 0.0684 - val_loss: 0.0107 - val_mae: 0.0807\n",
      "Epoch 463/500\n",
      "5/5 [==============================] - 0s 26ms/step - loss: 0.0076 - mae: 0.0688 - val_loss: 0.0108 - val_mae: 0.0817\n",
      "Epoch 464/500\n",
      "5/5 [==============================] - 0s 26ms/step - loss: 0.0075 - mae: 0.0687 - val_loss: 0.0111 - val_mae: 0.0832\n",
      "Epoch 465/500\n",
      "5/5 [==============================] - 0s 26ms/step - loss: 0.0075 - mae: 0.0690 - val_loss: 0.0106 - val_mae: 0.0805\n",
      "Epoch 466/500\n",
      "5/5 [==============================] - 0s 26ms/step - loss: 0.0074 - mae: 0.0680 - val_loss: 0.0105 - val_mae: 0.0801\n",
      "Epoch 467/500\n",
      "5/5 [==============================] - 0s 26ms/step - loss: 0.0074 - mae: 0.0684 - val_loss: 0.0106 - val_mae: 0.0804\n",
      "Epoch 468/500\n",
      "1/5 [=====>........................] - ETA: 0s - loss: 0.0073 - mae: 0.0673"
     ]
    },
    {
     "name": "stderr",
     "output_type": "stream",
     "text": [
      "WARNING:absl:Found untraced functions such as lstm_cell_layer_call_fn, lstm_cell_layer_call_and_return_conditional_losses while saving (showing 2 of 2). These functions will not be directly callable after loading.\n"
     ]
    },
    {
     "name": "stdout",
     "output_type": "stream",
     "text": [
      "INFO:tensorflow:Assets written to: C:\\Users\\PARK\\Documents\\LAB\\RNN vs LSTM\\FInal Example\\wandb\\run-20221018_151635-3el9trv5\\files\\model-best\\assets\n"
     ]
    },
    {
     "name": "stderr",
     "output_type": "stream",
     "text": [
      "INFO:tensorflow:Assets written to: C:\\Users\\PARK\\Documents\\LAB\\RNN vs LSTM\\FInal Example\\wandb\\run-20221018_151635-3el9trv5\\files\\model-best\\assets\n",
      "\u001b[34m\u001b[1mwandb\u001b[0m: Adding directory to artifact (C:\\Users\\PARK\\Documents\\LAB\\RNN vs LSTM\\FInal Example\\wandb\\run-20221018_151635-3el9trv5\\files\\model-best)... Done. 0.0s\n"
     ]
    },
    {
     "name": "stdout",
     "output_type": "stream",
     "text": [
      "5/5 [==============================] - 4s 932ms/step - loss: 0.0074 - mae: 0.0682 - val_loss: 0.0102 - val_mae: 0.0791\n",
      "Epoch 469/500\n",
      "5/5 [==============================] - 0s 67ms/step - loss: 0.0073 - mae: 0.0680 - val_loss: 0.0107 - val_mae: 0.0808\n",
      "Epoch 470/500\n",
      "5/5 [==============================] - 0s 49ms/step - loss: 0.0073 - mae: 0.0682 - val_loss: 0.0105 - val_mae: 0.0794\n",
      "Epoch 471/500\n",
      "5/5 [==============================] - 0s 38ms/step - loss: 0.0072 - mae: 0.0670 - val_loss: 0.0102 - val_mae: 0.0789\n",
      "Epoch 472/500\n",
      "5/5 [==============================] - 0s 37ms/step - loss: 0.0071 - mae: 0.0673 - val_loss: 0.0107 - val_mae: 0.0804\n",
      "Epoch 473/500\n",
      "1/5 [=====>........................] - ETA: 0s - loss: 0.0071 - mae: 0.0676"
     ]
    },
    {
     "name": "stderr",
     "output_type": "stream",
     "text": [
      "WARNING:absl:Found untraced functions such as lstm_cell_layer_call_fn, lstm_cell_layer_call_and_return_conditional_losses while saving (showing 2 of 2). These functions will not be directly callable after loading.\n"
     ]
    },
    {
     "name": "stdout",
     "output_type": "stream",
     "text": [
      "INFO:tensorflow:Assets written to: C:\\Users\\PARK\\Documents\\LAB\\RNN vs LSTM\\FInal Example\\wandb\\run-20221018_151635-3el9trv5\\files\\model-best\\assets\n"
     ]
    },
    {
     "name": "stderr",
     "output_type": "stream",
     "text": [
      "INFO:tensorflow:Assets written to: C:\\Users\\PARK\\Documents\\LAB\\RNN vs LSTM\\FInal Example\\wandb\\run-20221018_151635-3el9trv5\\files\\model-best\\assets\n",
      "\u001b[34m\u001b[1mwandb\u001b[0m: Adding directory to artifact (C:\\Users\\PARK\\Documents\\LAB\\RNN vs LSTM\\FInal Example\\wandb\\run-20221018_151635-3el9trv5\\files\\model-best)... Done. 0.0s\n"
     ]
    },
    {
     "name": "stdout",
     "output_type": "stream",
     "text": [
      "5/5 [==============================] - 4s 900ms/step - loss: 0.0070 - mae: 0.0663 - val_loss: 0.0100 - val_mae: 0.0782\n",
      "Epoch 474/500\n",
      "5/5 [==============================] - 0s 72ms/step - loss: 0.0069 - mae: 0.0660 - val_loss: 0.0102 - val_mae: 0.0790\n",
      "Epoch 475/500\n",
      "5/5 [==============================] - 0s 49ms/step - loss: 0.0069 - mae: 0.0662 - val_loss: 0.0101 - val_mae: 0.0788\n",
      "Epoch 476/500\n",
      "5/5 [==============================] - 0s 40ms/step - loss: 0.0069 - mae: 0.0659 - val_loss: 0.0101 - val_mae: 0.0785\n",
      "Epoch 477/500\n",
      "1/5 [=====>........................] - ETA: 0s - loss: 0.0068 - mae: 0.0654"
     ]
    },
    {
     "name": "stderr",
     "output_type": "stream",
     "text": [
      "WARNING:absl:Found untraced functions such as lstm_cell_layer_call_fn, lstm_cell_layer_call_and_return_conditional_losses while saving (showing 2 of 2). These functions will not be directly callable after loading.\n"
     ]
    },
    {
     "name": "stdout",
     "output_type": "stream",
     "text": [
      "INFO:tensorflow:Assets written to: C:\\Users\\PARK\\Documents\\LAB\\RNN vs LSTM\\FInal Example\\wandb\\run-20221018_151635-3el9trv5\\files\\model-best\\assets\n"
     ]
    },
    {
     "name": "stderr",
     "output_type": "stream",
     "text": [
      "INFO:tensorflow:Assets written to: C:\\Users\\PARK\\Documents\\LAB\\RNN vs LSTM\\FInal Example\\wandb\\run-20221018_151635-3el9trv5\\files\\model-best\\assets\n",
      "\u001b[34m\u001b[1mwandb\u001b[0m: Adding directory to artifact (C:\\Users\\PARK\\Documents\\LAB\\RNN vs LSTM\\FInal Example\\wandb\\run-20221018_151635-3el9trv5\\files\\model-best)... Done. 0.0s\n"
     ]
    },
    {
     "name": "stdout",
     "output_type": "stream",
     "text": [
      "5/5 [==============================] - 4s 897ms/step - loss: 0.0068 - mae: 0.0658 - val_loss: 0.0099 - val_mae: 0.0781\n",
      "Epoch 478/500\n",
      "5/5 [==============================] - 0s 63ms/step - loss: 0.0068 - mae: 0.0653 - val_loss: 0.0102 - val_mae: 0.0788\n",
      "Epoch 479/500\n",
      "4/5 [=======================>......] - ETA: 0s - loss: 0.0067 - mae: 0.0649"
     ]
    },
    {
     "name": "stderr",
     "output_type": "stream",
     "text": [
      "WARNING:absl:Found untraced functions such as lstm_cell_layer_call_fn, lstm_cell_layer_call_and_return_conditional_losses while saving (showing 2 of 2). These functions will not be directly callable after loading.\n"
     ]
    },
    {
     "name": "stdout",
     "output_type": "stream",
     "text": [
      "INFO:tensorflow:Assets written to: C:\\Users\\PARK\\Documents\\LAB\\RNN vs LSTM\\FInal Example\\wandb\\run-20221018_151635-3el9trv5\\files\\model-best\\assets\n"
     ]
    },
    {
     "name": "stderr",
     "output_type": "stream",
     "text": [
      "INFO:tensorflow:Assets written to: C:\\Users\\PARK\\Documents\\LAB\\RNN vs LSTM\\FInal Example\\wandb\\run-20221018_151635-3el9trv5\\files\\model-best\\assets\n",
      "\u001b[34m\u001b[1mwandb\u001b[0m: Adding directory to artifact (C:\\Users\\PARK\\Documents\\LAB\\RNN vs LSTM\\FInal Example\\wandb\\run-20221018_151635-3el9trv5\\files\\model-best)... Done. 0.0s\n"
     ]
    },
    {
     "name": "stdout",
     "output_type": "stream",
     "text": [
      "5/5 [==============================] - 4s 894ms/step - loss: 0.0067 - mae: 0.0649 - val_loss: 0.0098 - val_mae: 0.0777\n",
      "Epoch 480/500\n",
      "5/5 [==============================] - 0s 79ms/step - loss: 0.0068 - mae: 0.0656 - val_loss: 0.0100 - val_mae: 0.0777\n",
      "Epoch 481/500\n",
      "5/5 [==============================] - 0s 51ms/step - loss: 0.0068 - mae: 0.0655 - val_loss: 0.0101 - val_mae: 0.0786\n",
      "Epoch 482/500\n",
      "5/5 [==============================] - 0s 45ms/step - loss: 0.0067 - mae: 0.0655 - val_loss: 0.0100 - val_mae: 0.0773\n",
      "Epoch 483/500\n",
      "1/5 [=====>........................] - ETA: 0s - loss: 0.0064 - mae: 0.0633"
     ]
    },
    {
     "name": "stderr",
     "output_type": "stream",
     "text": [
      "WARNING:absl:Found untraced functions such as lstm_cell_layer_call_fn, lstm_cell_layer_call_and_return_conditional_losses while saving (showing 2 of 2). These functions will not be directly callable after loading.\n"
     ]
    },
    {
     "name": "stdout",
     "output_type": "stream",
     "text": [
      "INFO:tensorflow:Assets written to: C:\\Users\\PARK\\Documents\\LAB\\RNN vs LSTM\\FInal Example\\wandb\\run-20221018_151635-3el9trv5\\files\\model-best\\assets\n"
     ]
    },
    {
     "name": "stderr",
     "output_type": "stream",
     "text": [
      "INFO:tensorflow:Assets written to: C:\\Users\\PARK\\Documents\\LAB\\RNN vs LSTM\\FInal Example\\wandb\\run-20221018_151635-3el9trv5\\files\\model-best\\assets\n",
      "\u001b[34m\u001b[1mwandb\u001b[0m: Adding directory to artifact (C:\\Users\\PARK\\Documents\\LAB\\RNN vs LSTM\\FInal Example\\wandb\\run-20221018_151635-3el9trv5\\files\\model-best)... Done. 0.0s\n"
     ]
    },
    {
     "name": "stdout",
     "output_type": "stream",
     "text": [
      "5/5 [==============================] - 4s 933ms/step - loss: 0.0067 - mae: 0.0652 - val_loss: 0.0097 - val_mae: 0.0772\n",
      "Epoch 484/500\n",
      "5/5 [==============================] - 0s 59ms/step - loss: 0.0065 - mae: 0.0647 - val_loss: 0.0098 - val_mae: 0.0773\n",
      "Epoch 485/500\n",
      "1/5 [=====>........................] - ETA: 0s - loss: 0.0061 - mae: 0.0612"
     ]
    },
    {
     "name": "stderr",
     "output_type": "stream",
     "text": [
      "WARNING:absl:Found untraced functions such as lstm_cell_layer_call_fn, lstm_cell_layer_call_and_return_conditional_losses while saving (showing 2 of 2). These functions will not be directly callable after loading.\n"
     ]
    },
    {
     "name": "stdout",
     "output_type": "stream",
     "text": [
      "INFO:tensorflow:Assets written to: C:\\Users\\PARK\\Documents\\LAB\\RNN vs LSTM\\FInal Example\\wandb\\run-20221018_151635-3el9trv5\\files\\model-best\\assets\n"
     ]
    },
    {
     "name": "stderr",
     "output_type": "stream",
     "text": [
      "INFO:tensorflow:Assets written to: C:\\Users\\PARK\\Documents\\LAB\\RNN vs LSTM\\FInal Example\\wandb\\run-20221018_151635-3el9trv5\\files\\model-best\\assets\n",
      "\u001b[34m\u001b[1mwandb\u001b[0m: Adding directory to artifact (C:\\Users\\PARK\\Documents\\LAB\\RNN vs LSTM\\FInal Example\\wandb\\run-20221018_151635-3el9trv5\\files\\model-best)... Done. 0.0s\n"
     ]
    },
    {
     "name": "stdout",
     "output_type": "stream",
     "text": [
      "5/5 [==============================] - 3s 861ms/step - loss: 0.0064 - mae: 0.0637 - val_loss: 0.0094 - val_mae: 0.0757\n",
      "Epoch 486/500\n",
      "5/5 [==============================] - 0s 68ms/step - loss: 0.0064 - mae: 0.0636 - val_loss: 0.0096 - val_mae: 0.0764\n",
      "Epoch 487/500\n",
      "4/5 [=======================>......] - ETA: 0s - loss: 0.0064 - mae: 0.0639"
     ]
    },
    {
     "name": "stderr",
     "output_type": "stream",
     "text": [
      "WARNING:absl:Found untraced functions such as lstm_cell_layer_call_fn, lstm_cell_layer_call_and_return_conditional_losses while saving (showing 2 of 2). These functions will not be directly callable after loading.\n"
     ]
    },
    {
     "name": "stdout",
     "output_type": "stream",
     "text": [
      "INFO:tensorflow:Assets written to: C:\\Users\\PARK\\Documents\\LAB\\RNN vs LSTM\\FInal Example\\wandb\\run-20221018_151635-3el9trv5\\files\\model-best\\assets\n"
     ]
    },
    {
     "name": "stderr",
     "output_type": "stream",
     "text": [
      "INFO:tensorflow:Assets written to: C:\\Users\\PARK\\Documents\\LAB\\RNN vs LSTM\\FInal Example\\wandb\\run-20221018_151635-3el9trv5\\files\\model-best\\assets\n",
      "\u001b[34m\u001b[1mwandb\u001b[0m: Adding directory to artifact (C:\\Users\\PARK\\Documents\\LAB\\RNN vs LSTM\\FInal Example\\wandb\\run-20221018_151635-3el9trv5\\files\\model-best)... Done. 0.0s\n"
     ]
    },
    {
     "name": "stdout",
     "output_type": "stream",
     "text": [
      "5/5 [==============================] - 4s 952ms/step - loss: 0.0064 - mae: 0.0637 - val_loss: 0.0094 - val_mae: 0.0750\n",
      "Epoch 488/500\n",
      "5/5 [==============================] - 0s 74ms/step - loss: 0.0063 - mae: 0.0636 - val_loss: 0.0103 - val_mae: 0.0784\n",
      "Epoch 489/500\n",
      "5/5 [==============================] - ETA: 0s - loss: 0.0063 - mae: 0.0635"
     ]
    },
    {
     "name": "stderr",
     "output_type": "stream",
     "text": [
      "WARNING:absl:Found untraced functions such as lstm_cell_layer_call_fn, lstm_cell_layer_call_and_return_conditional_losses while saving (showing 2 of 2). These functions will not be directly callable after loading.\n"
     ]
    },
    {
     "name": "stdout",
     "output_type": "stream",
     "text": [
      "INFO:tensorflow:Assets written to: C:\\Users\\PARK\\Documents\\LAB\\RNN vs LSTM\\FInal Example\\wandb\\run-20221018_151635-3el9trv5\\files\\model-best\\assets\n"
     ]
    },
    {
     "name": "stderr",
     "output_type": "stream",
     "text": [
      "INFO:tensorflow:Assets written to: C:\\Users\\PARK\\Documents\\LAB\\RNN vs LSTM\\FInal Example\\wandb\\run-20221018_151635-3el9trv5\\files\\model-best\\assets\n",
      "\u001b[34m\u001b[1mwandb\u001b[0m: Adding directory to artifact (C:\\Users\\PARK\\Documents\\LAB\\RNN vs LSTM\\FInal Example\\wandb\\run-20221018_151635-3el9trv5\\files\\model-best)... Done. 0.0s\n"
     ]
    },
    {
     "name": "stdout",
     "output_type": "stream",
     "text": [
      "5/5 [==============================] - 4s 938ms/step - loss: 0.0063 - mae: 0.0635 - val_loss: 0.0092 - val_mae: 0.0749\n",
      "Epoch 490/500\n",
      "5/5 [==============================] - 0s 68ms/step - loss: 0.0062 - mae: 0.0631 - val_loss: 0.0093 - val_mae: 0.0751\n",
      "Epoch 491/500\n",
      "4/5 [=======================>......] - ETA: 0s - loss: 0.0062 - mae: 0.0630"
     ]
    },
    {
     "name": "stderr",
     "output_type": "stream",
     "text": [
      "WARNING:absl:Found untraced functions such as lstm_cell_layer_call_fn, lstm_cell_layer_call_and_return_conditional_losses while saving (showing 2 of 2). These functions will not be directly callable after loading.\n"
     ]
    },
    {
     "name": "stdout",
     "output_type": "stream",
     "text": [
      "INFO:tensorflow:Assets written to: C:\\Users\\PARK\\Documents\\LAB\\RNN vs LSTM\\FInal Example\\wandb\\run-20221018_151635-3el9trv5\\files\\model-best\\assets\n"
     ]
    },
    {
     "name": "stderr",
     "output_type": "stream",
     "text": [
      "INFO:tensorflow:Assets written to: C:\\Users\\PARK\\Documents\\LAB\\RNN vs LSTM\\FInal Example\\wandb\\run-20221018_151635-3el9trv5\\files\\model-best\\assets\n",
      "\u001b[34m\u001b[1mwandb\u001b[0m: Adding directory to artifact (C:\\Users\\PARK\\Documents\\LAB\\RNN vs LSTM\\FInal Example\\wandb\\run-20221018_151635-3el9trv5\\files\\model-best)... Done. 0.0s\n"
     ]
    },
    {
     "name": "stdout",
     "output_type": "stream",
     "text": [
      "5/5 [==============================] - 4s 939ms/step - loss: 0.0063 - mae: 0.0634 - val_loss: 0.0091 - val_mae: 0.0745\n",
      "Epoch 492/500\n",
      "5/5 [==============================] - 0s 74ms/step - loss: 0.0063 - mae: 0.0633 - val_loss: 0.0099 - val_mae: 0.0782\n",
      "Epoch 493/500\n",
      "5/5 [==============================] - 0s 45ms/step - loss: 0.0065 - mae: 0.0641 - val_loss: 0.0092 - val_mae: 0.0760\n",
      "Epoch 494/500\n",
      "5/5 [==============================] - 0s 26ms/step - loss: 0.0064 - mae: 0.0639 - val_loss: 0.0099 - val_mae: 0.0781\n",
      "Epoch 495/500\n",
      "5/5 [==============================] - 0s 26ms/step - loss: 0.0065 - mae: 0.0639 - val_loss: 0.0094 - val_mae: 0.0761\n",
      "Epoch 496/500\n",
      "1/5 [=====>........................] - ETA: 0s - loss: 0.0062 - mae: 0.0633"
     ]
    },
    {
     "name": "stderr",
     "output_type": "stream",
     "text": [
      "WARNING:absl:Found untraced functions such as lstm_cell_layer_call_fn, lstm_cell_layer_call_and_return_conditional_losses while saving (showing 2 of 2). These functions will not be directly callable after loading.\n"
     ]
    },
    {
     "name": "stdout",
     "output_type": "stream",
     "text": [
      "INFO:tensorflow:Assets written to: C:\\Users\\PARK\\Documents\\LAB\\RNN vs LSTM\\FInal Example\\wandb\\run-20221018_151635-3el9trv5\\files\\model-best\\assets\n"
     ]
    },
    {
     "name": "stderr",
     "output_type": "stream",
     "text": [
      "INFO:tensorflow:Assets written to: C:\\Users\\PARK\\Documents\\LAB\\RNN vs LSTM\\FInal Example\\wandb\\run-20221018_151635-3el9trv5\\files\\model-best\\assets\n",
      "\u001b[34m\u001b[1mwandb\u001b[0m: Adding directory to artifact (C:\\Users\\PARK\\Documents\\LAB\\RNN vs LSTM\\FInal Example\\wandb\\run-20221018_151635-3el9trv5\\files\\model-best)... Done. 0.0s\n"
     ]
    },
    {
     "name": "stdout",
     "output_type": "stream",
     "text": [
      "5/5 [==============================] - 3s 863ms/step - loss: 0.0062 - mae: 0.0632 - val_loss: 0.0090 - val_mae: 0.0740\n",
      "Epoch 497/500\n",
      "5/5 [==============================] - 0s 70ms/step - loss: 0.0063 - mae: 0.0633 - val_loss: 0.0092 - val_mae: 0.0749\n",
      "Epoch 498/500\n",
      "5/5 [==============================] - 0s 50ms/step - loss: 0.0062 - mae: 0.0626 - val_loss: 0.0091 - val_mae: 0.0746\n",
      "Epoch 499/500\n",
      "5/5 [==============================] - 0s 43ms/step - loss: 0.0059 - mae: 0.0618 - val_loss: 0.0093 - val_mae: 0.0749\n",
      "Epoch 500/500\n",
      "5/5 [==============================] - 0s 37ms/step - loss: 0.0059 - mae: 0.0613 - val_loss: 0.0090 - val_mae: 0.0743\n"
     ]
    }
   ],
   "source": [
    "from tensorflow.keras import datasets, layers, models\n",
    "from tensorflow import keras\n",
    "from tensorflow.keras import layers\n",
    "\n",
    "model = models.Sequential()\n",
    "model.add(layers.LSTM(128, input_shape=(time_step,2)))\n",
    "model.add(layers.Dense(25))\n",
    "\n",
    "model.summary()\n",
    "\n",
    "model.compile(optimizer='adam', loss='mse', metrics=['mae'])\n",
    "\n",
    "history = model.fit(train_input, train_label, epochs=500, verbose=1, shuffle=True, validation_split=0.20,\n",
    "                   callbacks=[WandbCallback(log_weights=True, log_gradients=True, training_data=(train_input, train_label))])"
   ]
  },
  {
   "cell_type": "code",
   "execution_count": 17,
   "id": "f2977e3d",
   "metadata": {},
   "outputs": [
    {
     "name": "stdout",
     "output_type": "stream",
     "text": [
      "1/1 [==============================] - 0s 206ms/step\n"
     ]
    }
   ],
   "source": [
    "test_input = test_input.reshape(1, test_input.shape[0], test_input.shape[1])\n",
    "\n",
    "y_hat = model.predict(test_input)"
   ]
  },
  {
   "cell_type": "code",
   "execution_count": 18,
   "id": "569d2b27",
   "metadata": {},
   "outputs": [
    {
     "data": {
      "text/plain": [
       "(1, 100, 2)"
      ]
     },
     "execution_count": 18,
     "metadata": {},
     "output_type": "execute_result"
    }
   ],
   "source": [
    "test_input.shape"
   ]
  },
  {
   "cell_type": "code",
   "execution_count": 19,
   "id": "6b083de8",
   "metadata": {},
   "outputs": [],
   "source": [
    "test_label = test_label.reshape(1, test_label.shape[0], test_label.shape[1])"
   ]
  },
  {
   "cell_type": "code",
   "execution_count": 20,
   "id": "54e7a073",
   "metadata": {},
   "outputs": [
    {
     "data": {
      "text/plain": [
       "(1, 25, 1)"
      ]
     },
     "execution_count": 20,
     "metadata": {},
     "output_type": "execute_result"
    }
   ],
   "source": [
    "test_label.shape"
   ]
  },
  {
   "cell_type": "code",
   "execution_count": 21,
   "id": "b3e0c133",
   "metadata": {},
   "outputs": [
    {
     "data": {
      "text/plain": [
       "array([[1.0942183, 1.1509993, 1.5143511, 1.6509929, 1.8468415, 1.9849421,\n",
       "        1.6838193, 1.7331415, 1.6738406, 1.7890381, 1.8036835, 2.347127 ,\n",
       "        1.0233251, 1.2118562, 1.6847858, 1.7688423, 2.055312 , 2.0457926,\n",
       "        1.8238369, 1.8916646, 1.8699033, 2.06519  , 2.0151136, 2.5575259,\n",
       "        1.1932445]], dtype=float32)"
      ]
     },
     "execution_count": 21,
     "metadata": {},
     "output_type": "execute_result"
    }
   ],
   "source": [
    "y_hat"
   ]
  },
  {
   "cell_type": "code",
   "execution_count": 22,
   "id": "e37311d1",
   "metadata": {},
   "outputs": [
    {
     "data": {
      "text/plain": [
       "(1, 25)"
      ]
     },
     "execution_count": 22,
     "metadata": {},
     "output_type": "execute_result"
    }
   ],
   "source": [
    "y_hat.shape"
   ]
  },
  {
   "cell_type": "code",
   "execution_count": 23,
   "id": "ad0f0285",
   "metadata": {},
   "outputs": [],
   "source": [
    "y_hat = y_hat.reshape(y_hat.shape[1], 1)"
   ]
  },
  {
   "cell_type": "code",
   "execution_count": 24,
   "id": "69ea1f6f",
   "metadata": {},
   "outputs": [],
   "source": [
    "y_hat = (y_hat*data_std)+data_mean"
   ]
  },
  {
   "cell_type": "code",
   "execution_count": 25,
   "id": "702f2214",
   "metadata": {},
   "outputs": [],
   "source": [
    "#print(scaler.data_max_)"
   ]
  },
  {
   "cell_type": "code",
   "execution_count": 26,
   "id": "1ca1a387",
   "metadata": {},
   "outputs": [],
   "source": [
    "#print(scaler.data_min_)"
   ]
  },
  {
   "cell_type": "code",
   "execution_count": 27,
   "id": "5e40982b",
   "metadata": {},
   "outputs": [],
   "source": [
    "#y_hat = y_hat * (scaler.data_max_[1]-scaler.data_min_[1]) + scaler.data_min_[1]"
   ]
  },
  {
   "cell_type": "code",
   "execution_count": 28,
   "id": "902bb0d7",
   "metadata": {},
   "outputs": [
    {
     "data": {
      "text/plain": [
       "Text(0.5, 1.0, 'LSTM prediction')"
      ]
     },
     "execution_count": 28,
     "metadata": {},
     "output_type": "execute_result"
    },
    {
     "data": {
      "image/png": "[encoded data removed]",
      "text/plain": [
       "<Figure size 1008x576 with 1 Axes>"
      ]
     },
     "metadata": {
      "needs_background": "light"
     },
     "output_type": "display_data"
    }
   ],
   "source": [
    "import matplotlib.pyplot as plt\n",
    "\n",
    "x = range(325)\n",
    "plt.figure(figsize=(14,8))\n",
    "plt.plot(df[300:325]['Sales'], label='original')\n",
    "plt.plot(x[300:325], y_hat, label='prediction')\n",
    "plt.legend()\n",
    "plt.xlabel('Sequence', fontsize=20)\n",
    "plt.ylabel('Sales', fontsize=20)\n",
    "plt.title('LSTM prediction', fontsize=25)"
   ]
  },
  {
   "cell_type": "code",
   "execution_count": 29,
   "id": "051887d3",
   "metadata": {
    "scrolled": true
   },
   "outputs": [
    {
     "name": "stdout",
     "output_type": "stream",
     "text": [
      "1/1 [==============================] - 0s 14ms/step - loss: 0.0718 - mae: 0.2264\n"
     ]
    },
    {
     "data": {
      "text/plain": [
       "[0.07184211164712906, 0.2264452427625656]"
      ]
     },
     "execution_count": 29,
     "metadata": {},
     "output_type": "execute_result"
    }
   ],
   "source": [
    "model.evaluate(test_input, test_label)"
   ]
  },
  {
   "cell_type": "code",
   "execution_count": null,
   "id": "2819448e",
   "metadata": {},
   "outputs": [],
   "source": []
  }
 ],
 "metadata": {
  "kernelspec": {
   "display_name": "Python 3 (ipykernel)",
   "language": "python",
   "name": "python3"
  },
  "language_info": {
   "codemirror_mode": {
    "name": "ipython",
    "version": 3
   },
   "file_extension": ".py",
   "mimetype": "text/x-python",
   "name": "python",
   "nbconvert_exporter": "python",
   "pygments_lexer": "ipython3",
   "version": "3.9.12"
  }
 },
 "nbformat": 4,
 "nbformat_minor": 5
}
