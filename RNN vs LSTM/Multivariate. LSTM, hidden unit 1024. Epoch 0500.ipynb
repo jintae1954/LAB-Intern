{
 "cells": [
  {
   "cell_type": "code",
   "execution_count": 1,
   "id": "aa6d1260",
   "metadata": {},
   "outputs": [
    {
     "name": "stderr",
     "output_type": "stream",
     "text": [
      "\u001b[34m\u001b[1mwandb\u001b[0m: Currently logged in as: \u001b[33mjintae\u001b[0m. Use \u001b[1m`wandb login --relogin`\u001b[0m to force relogin\n"
     ]
    },
    {
     "data": {
      "text/html": [
       "Tracking run with wandb version 0.13.4"
      ],
      "text/plain": [
       "<IPython.core.display.HTML object>"
      ]
     },
     "metadata": {},
     "output_type": "display_data"
    },
    {
     "data": {
      "text/html": [
       "Run data is saved locally in <code>C:\\Users\\PARK\\Documents\\LAB\\RNN vs LSTM\\FInal Example\\wandb\\run-20221018_155335-3crds3hr</code>"
      ],
      "text/plain": [
       "<IPython.core.display.HTML object>"
      ]
     },
     "metadata": {},
     "output_type": "display_data"
    },
    {
     "data": {
      "text/html": [
       "Syncing run <strong><a href=\"https://wandb.ai/jintae/LSTM%20seq%201024./runs/3crds3hr\" target=\"_blank\">epoch 500</a></strong> to <a href=\"https://wandb.ai/jintae/LSTM%20seq%201024.\" target=\"_blank\">Weights & Biases</a> (<a href=\"https://wandb.me/run\" target=\"_blank\">docs</a>)<br/>"
      ],
      "text/plain": [
       "<IPython.core.display.HTML object>"
      ]
     },
     "metadata": {},
     "output_type": "display_data"
    },
    {
     "data": {
      "text/html": [
       "<button onClick=\"this.nextSibling.style.display='block';this.style.display='none';\">Display W&B run</button><iframe src=\"https://wandb.ai/jintae/LSTM%20seq%201024./runs/3crds3hr?jupyter=true\" style=\"border:none;width:100%;height:420px;display:none;\"></iframe>"
      ],
      "text/plain": [
       "<wandb.sdk.wandb_run.Run at 0x1ce6cc32700>"
      ]
     },
     "execution_count": 1,
     "metadata": {},
     "output_type": "execute_result"
    }
   ],
   "source": [
    "import wandb\n",
    "from wandb.keras import WandbCallback\n",
    "wandb.init(project=\"LSTM seq 1024.\", name=\"epoch 500\")"
   ]
  },
  {
   "cell_type": "code",
   "execution_count": 2,
   "id": "650bae84",
   "metadata": {},
   "outputs": [
    {
     "name": "stdout",
     "output_type": "stream",
     "text": [
      "   DATE  Sales\n",
      "0     0   3459\n",
      "1     1   3458\n",
      "2     2   4002\n",
      "3     3   4564\n",
      "4     4   4221\n"
     ]
    }
   ],
   "source": [
    "import pandas as pd\n",
    "\n",
    "df = pd.read_csv('C:/Users/PARK/Desktop/Alcohol_Sales.csv')\n",
    "print(df.head())"
   ]
  },
  {
   "cell_type": "code",
   "execution_count": 3,
   "id": "71e18e17",
   "metadata": {},
   "outputs": [
    {
     "data": {
      "text/plain": [
       "(325, 2)"
      ]
     },
     "execution_count": 3,
     "metadata": {},
     "output_type": "execute_result"
    }
   ],
   "source": [
    "df.shape"
   ]
  },
  {
   "cell_type": "code",
   "execution_count": 4,
   "id": "5f4f8fb7",
   "metadata": {},
   "outputs": [],
   "source": [
    "import numpy as np\n",
    "\n",
    "data = df.to_numpy()"
   ]
  },
  {
   "cell_type": "code",
   "execution_count": 5,
   "id": "c6063052",
   "metadata": {},
   "outputs": [
    {
     "data": {
      "text/plain": [
       "(325, 2)"
      ]
     },
     "execution_count": 5,
     "metadata": {},
     "output_type": "execute_result"
    }
   ],
   "source": [
    "data.shape"
   ]
  },
  {
   "cell_type": "code",
   "execution_count": 6,
   "id": "01930485",
   "metadata": {},
   "outputs": [
    {
     "data": {
      "text/plain": [
       "array([[   0, 3459],\n",
       "       [   1, 3458],\n",
       "       [   2, 4002],\n",
       "       [   3, 4564],\n",
       "       [   4, 4221]], dtype=int64)"
      ]
     },
     "execution_count": 6,
     "metadata": {},
     "output_type": "execute_result"
    }
   ],
   "source": [
    "data[0:5]"
   ]
  },
  {
   "cell_type": "code",
   "execution_count": 7,
   "id": "ad83b404",
   "metadata": {},
   "outputs": [],
   "source": [
    "# from sklearn.preprocessing import MinMaxScaler\n",
    "\n",
    "# scaler = MinMaxScaler()\n",
    "\n",
    "# data = scaler.fit_transform(data)"
   ]
  },
  {
   "cell_type": "code",
   "execution_count": 8,
   "id": "17aef2ea",
   "metadata": {},
   "outputs": [],
   "source": [
    "data_mean = data.mean()\n",
    "data_std = data.std()\n",
    "\n",
    "data = (data - data_mean)/data_std"
   ]
  },
  {
   "cell_type": "code",
   "execution_count": 9,
   "id": "63fe0032",
   "metadata": {},
   "outputs": [
    {
     "data": {
      "text/plain": [
       "array([[-0.9194862 , -0.12914209],\n",
       "       [-0.91925771, -0.12937058],\n",
       "       [-0.91902922, -0.00507246],\n",
       "       [-0.91880073,  0.12333846],\n",
       "       [-0.91857224,  0.04496667]])"
      ]
     },
     "execution_count": 9,
     "metadata": {},
     "output_type": "execute_result"
    }
   ],
   "source": [
    "data[0:5]"
   ]
  },
  {
   "cell_type": "code",
   "execution_count": 10,
   "id": "87ac24ef",
   "metadata": {
    "scrolled": true
   },
   "outputs": [],
   "source": [
    "train_input = []\n",
    "train_label = []\n",
    "\n",
    "data_len = 325\n",
    "time_step = 100\n",
    "out_dim = 25\n",
    "\n",
    "for i in range(176):\n",
    "    _input = data[i:i+time_step]\n",
    "    _label = data[i+time_step:i+time_step+out_dim]\n",
    "    \n",
    "    train_input.append(_input)\n",
    "    train_label.append(_label)\n",
    "    \n",
    "\n",
    "train_input = np.array(train_input)\n",
    "train_label = np.array(train_label)\n",
    "train_label = np.delete(train_label, 0, axis=2)\n",
    "\n",
    "\n",
    "test_input = np.array(data[data_len-out_dim-time_step:data_len-out_dim])\n",
    "test_label =np.array(data[300:325])\n",
    "test_label = np.delete(test_label, 0, axis=1)"
   ]
  },
  {
   "cell_type": "code",
   "execution_count": 11,
   "id": "41975dc7",
   "metadata": {},
   "outputs": [
    {
     "data": {
      "text/plain": [
       "(176, 100, 2)"
      ]
     },
     "execution_count": 11,
     "metadata": {},
     "output_type": "execute_result"
    }
   ],
   "source": [
    "train_input.shape"
   ]
  },
  {
   "cell_type": "code",
   "execution_count": 12,
   "id": "b762c3ba",
   "metadata": {},
   "outputs": [
    {
     "data": {
      "text/plain": [
       "(176, 25, 1)"
      ]
     },
     "execution_count": 12,
     "metadata": {},
     "output_type": "execute_result"
    }
   ],
   "source": [
    "train_label.shape"
   ]
  },
  {
   "cell_type": "code",
   "execution_count": 13,
   "id": "127c63a2",
   "metadata": {},
   "outputs": [
    {
     "data": {
      "text/plain": [
       "(100, 2)"
      ]
     },
     "execution_count": 13,
     "metadata": {},
     "output_type": "execute_result"
    }
   ],
   "source": [
    "test_input.shape"
   ]
  },
  {
   "cell_type": "code",
   "execution_count": 14,
   "id": "6647472d",
   "metadata": {},
   "outputs": [
    {
     "data": {
      "text/plain": [
       "(25, 1)"
      ]
     },
     "execution_count": 14,
     "metadata": {},
     "output_type": "execute_result"
    }
   ],
   "source": [
    "test_label.shape"
   ]
  },
  {
   "cell_type": "code",
   "execution_count": 15,
   "id": "5d83c07f",
   "metadata": {},
   "outputs": [],
   "source": [
    "np.random.seed(10)\n",
    "shuffled_indices = np.random.permutation(np.arange(train_input.shape[0]))\n",
    "train_input = train_input[shuffled_indices, :, :]\n",
    "train_label = train_label[shuffled_indices, :]"
   ]
  },
  {
   "cell_type": "code",
   "execution_count": 16,
   "id": "a183926e",
   "metadata": {
    "scrolled": true
   },
   "outputs": [
    {
     "name": "stdout",
     "output_type": "stream",
     "text": [
      "Model: \"sequential\"\n",
      "_________________________________________________________________\n",
      " Layer (type)                Output Shape              Param #   \n",
      "=================================================================\n",
      " lstm (LSTM)                 (None, 1024)              4206592   \n",
      "                                                                 \n",
      " dense (Dense)               (None, 25)                25625     \n",
      "                                                                 \n",
      "=================================================================\n",
      "Total params: 4,232,217\n",
      "Trainable params: 4,232,217\n",
      "Non-trainable params: 0\n",
      "_________________________________________________________________\n"
     ]
    },
    {
     "name": "stderr",
     "output_type": "stream",
     "text": [
      "\u001b[34m\u001b[1mwandb\u001b[0m: \u001b[33mWARNING\u001b[0m The save_model argument by default saves the model in the HDF5 format that cannot save custom objects like subclassed models and custom layers. This behavior will be deprecated in a future release in favor of the SavedModel format. Meanwhile, the HDF5 model is saved as W&B files and the SavedModel as W&B Artifacts.\n"
     ]
    },
    {
     "name": "stdout",
     "output_type": "stream",
     "text": [
      "Epoch 1/500\n",
      "5/5 [==============================] - ETA: 0s - loss: 1.4639 - mae: 0.9843"
     ]
    },
    {
     "name": "stderr",
     "output_type": "stream",
     "text": [
      "WARNING:absl:Found untraced functions such as lstm_cell_layer_call_fn, lstm_cell_layer_call_and_return_conditional_losses while saving (showing 2 of 2). These functions will not be directly callable after loading.\n"
     ]
    },
    {
     "name": "stdout",
     "output_type": "stream",
     "text": [
      "INFO:tensorflow:Assets written to: C:\\Users\\PARK\\Documents\\LAB\\RNN vs LSTM\\FInal Example\\wandb\\run-20221018_155335-3crds3hr\\files\\model-best\\assets\n"
     ]
    },
    {
     "name": "stderr",
     "output_type": "stream",
     "text": [
      "INFO:tensorflow:Assets written to: C:\\Users\\PARK\\Documents\\LAB\\RNN vs LSTM\\FInal Example\\wandb\\run-20221018_155335-3crds3hr\\files\\model-best\\assets\n",
      "\u001b[34m\u001b[1mwandb\u001b[0m: Adding directory to artifact (C:\\Users\\PARK\\Documents\\LAB\\RNN vs LSTM\\FInal Example\\wandb\\run-20221018_155335-3crds3hr\\files\\model-best)... Done. 0.1s\n"
     ]
    },
    {
     "name": "stdout",
     "output_type": "stream",
     "text": [
      "5/5 [==============================] - 7s 1s/step - loss: 1.4639 - mae: 0.9843 - val_loss: 0.5745 - val_mae: 0.6485\n",
      "Epoch 2/500\n",
      "5/5 [==============================] - ETA: 0s - loss: 0.3240 - mae: 0.4568"
     ]
    },
    {
     "name": "stderr",
     "output_type": "stream",
     "text": [
      "WARNING:absl:Found untraced functions such as lstm_cell_layer_call_fn, lstm_cell_layer_call_and_return_conditional_losses while saving (showing 2 of 2). These functions will not be directly callable after loading.\n"
     ]
    },
    {
     "name": "stdout",
     "output_type": "stream",
     "text": [
      "INFO:tensorflow:Assets written to: C:\\Users\\PARK\\Documents\\LAB\\RNN vs LSTM\\FInal Example\\wandb\\run-20221018_155335-3crds3hr\\files\\model-best\\assets\n"
     ]
    },
    {
     "name": "stderr",
     "output_type": "stream",
     "text": [
      "INFO:tensorflow:Assets written to: C:\\Users\\PARK\\Documents\\LAB\\RNN vs LSTM\\FInal Example\\wandb\\run-20221018_155335-3crds3hr\\files\\model-best\\assets\n",
      "\u001b[34m\u001b[1mwandb\u001b[0m: Adding directory to artifact (C:\\Users\\PARK\\Documents\\LAB\\RNN vs LSTM\\FInal Example\\wandb\\run-20221018_155335-3crds3hr\\files\\model-best)... Done. 0.1s\n"
     ]
    },
    {
     "name": "stdout",
     "output_type": "stream",
     "text": [
      "5/5 [==============================] - 5s 1s/step - loss: 0.3240 - mae: 0.4568 - val_loss: 0.2308 - val_mae: 0.3927\n",
      "Epoch 3/500\n",
      "5/5 [==============================] - ETA: 0s - loss: 0.2191 - mae: 0.3851"
     ]
    },
    {
     "name": "stderr",
     "output_type": "stream",
     "text": [
      "WARNING:absl:Found untraced functions such as lstm_cell_layer_call_fn, lstm_cell_layer_call_and_return_conditional_losses while saving (showing 2 of 2). These functions will not be directly callable after loading.\n"
     ]
    },
    {
     "name": "stdout",
     "output_type": "stream",
     "text": [
      "INFO:tensorflow:Assets written to: C:\\Users\\PARK\\Documents\\LAB\\RNN vs LSTM\\FInal Example\\wandb\\run-20221018_155335-3crds3hr\\files\\model-best\\assets\n"
     ]
    },
    {
     "name": "stderr",
     "output_type": "stream",
     "text": [
      "INFO:tensorflow:Assets written to: C:\\Users\\PARK\\Documents\\LAB\\RNN vs LSTM\\FInal Example\\wandb\\run-20221018_155335-3crds3hr\\files\\model-best\\assets\n",
      "\u001b[34m\u001b[1mwandb\u001b[0m: Adding directory to artifact (C:\\Users\\PARK\\Documents\\LAB\\RNN vs LSTM\\FInal Example\\wandb\\run-20221018_155335-3crds3hr\\files\\model-best)... Done. 0.1s\n"
     ]
    },
    {
     "name": "stdout",
     "output_type": "stream",
     "text": [
      "5/5 [==============================] - 4s 1s/step - loss: 0.2191 - mae: 0.3851 - val_loss: 0.1818 - val_mae: 0.3574\n",
      "Epoch 4/500\n",
      "5/5 [==============================] - 1s 97ms/step - loss: 0.1903 - mae: 0.3610 - val_loss: 0.1886 - val_mae: 0.3598\n",
      "Epoch 5/500\n",
      "1/5 [=====>........................] - ETA: 0s - loss: 0.2373 - mae: 0.4075"
     ]
    },
    {
     "name": "stderr",
     "output_type": "stream",
     "text": [
      "WARNING:absl:Found untraced functions such as lstm_cell_layer_call_fn, lstm_cell_layer_call_and_return_conditional_losses while saving (showing 2 of 2). These functions will not be directly callable after loading.\n"
     ]
    },
    {
     "name": "stdout",
     "output_type": "stream",
     "text": [
      "INFO:tensorflow:Assets written to: C:\\Users\\PARK\\Documents\\LAB\\RNN vs LSTM\\FInal Example\\wandb\\run-20221018_155335-3crds3hr\\files\\model-best\\assets\n"
     ]
    },
    {
     "name": "stderr",
     "output_type": "stream",
     "text": [
      "INFO:tensorflow:Assets written to: C:\\Users\\PARK\\Documents\\LAB\\RNN vs LSTM\\FInal Example\\wandb\\run-20221018_155335-3crds3hr\\files\\model-best\\assets\n",
      "\u001b[34m\u001b[1mwandb\u001b[0m: Adding directory to artifact (C:\\Users\\PARK\\Documents\\LAB\\RNN vs LSTM\\FInal Example\\wandb\\run-20221018_155335-3crds3hr\\files\\model-best)... Done. 0.1s\n"
     ]
    },
    {
     "name": "stdout",
     "output_type": "stream",
     "text": [
      "5/5 [==============================] - 4s 1s/step - loss: 0.1842 - mae: 0.3551 - val_loss: 0.1772 - val_mae: 0.3514\n",
      "Epoch 6/500\n",
      "5/5 [==============================] - 0s 93ms/step - loss: 0.1808 - mae: 0.3522 - val_loss: 0.1797 - val_mae: 0.3528\n",
      "Epoch 7/500\n",
      "1/5 [=====>........................] - ETA: 0s - loss: 0.1752 - mae: 0.3442"
     ]
    },
    {
     "name": "stderr",
     "output_type": "stream",
     "text": [
      "WARNING:absl:Found untraced functions such as lstm_cell_layer_call_fn, lstm_cell_layer_call_and_return_conditional_losses while saving (showing 2 of 2). These functions will not be directly callable after loading.\n"
     ]
    },
    {
     "name": "stdout",
     "output_type": "stream",
     "text": [
      "INFO:tensorflow:Assets written to: C:\\Users\\PARK\\Documents\\LAB\\RNN vs LSTM\\FInal Example\\wandb\\run-20221018_155335-3crds3hr\\files\\model-best\\assets\n"
     ]
    },
    {
     "name": "stderr",
     "output_type": "stream",
     "text": [
      "INFO:tensorflow:Assets written to: C:\\Users\\PARK\\Documents\\LAB\\RNN vs LSTM\\FInal Example\\wandb\\run-20221018_155335-3crds3hr\\files\\model-best\\assets\n",
      "\u001b[34m\u001b[1mwandb\u001b[0m: Adding directory to artifact (C:\\Users\\PARK\\Documents\\LAB\\RNN vs LSTM\\FInal Example\\wandb\\run-20221018_155335-3crds3hr\\files\\model-best)... Done. 0.1s\n"
     ]
    },
    {
     "name": "stdout",
     "output_type": "stream",
     "text": [
      "5/5 [==============================] - 4s 1s/step - loss: 0.1788 - mae: 0.3506 - val_loss: 0.1753 - val_mae: 0.3477\n",
      "Epoch 8/500\n",
      "2/5 [===========>..................] - ETA: 0s - loss: 0.1744 - mae: 0.3489"
     ]
    },
    {
     "name": "stderr",
     "output_type": "stream",
     "text": [
      "WARNING:absl:Found untraced functions such as lstm_cell_layer_call_fn, lstm_cell_layer_call_and_return_conditional_losses while saving (showing 2 of 2). These functions will not be directly callable after loading.\n"
     ]
    },
    {
     "name": "stdout",
     "output_type": "stream",
     "text": [
      "INFO:tensorflow:Assets written to: C:\\Users\\PARK\\Documents\\LAB\\RNN vs LSTM\\FInal Example\\wandb\\run-20221018_155335-3crds3hr\\files\\model-best\\assets\n"
     ]
    },
    {
     "name": "stderr",
     "output_type": "stream",
     "text": [
      "INFO:tensorflow:Assets written to: C:\\Users\\PARK\\Documents\\LAB\\RNN vs LSTM\\FInal Example\\wandb\\run-20221018_155335-3crds3hr\\files\\model-best\\assets\n",
      "\u001b[34m\u001b[1mwandb\u001b[0m: Adding directory to artifact (C:\\Users\\PARK\\Documents\\LAB\\RNN vs LSTM\\FInal Example\\wandb\\run-20221018_155335-3crds3hr\\files\\model-best)... Done. 0.1s\n"
     ]
    },
    {
     "name": "stdout",
     "output_type": "stream",
     "text": [
      "5/5 [==============================] - 4s 1s/step - loss: 0.1754 - mae: 0.3482 - val_loss: 0.1739 - val_mae: 0.3506\n",
      "Epoch 9/500\n",
      "5/5 [==============================] - 1s 135ms/step - loss: 0.1778 - mae: 0.3501 - val_loss: 0.1753 - val_mae: 0.3467\n",
      "Epoch 10/500\n",
      "4/5 [=======================>......] - ETA: 0s - loss: 0.1785 - mae: 0.3528"
     ]
    },
    {
     "name": "stderr",
     "output_type": "stream",
     "text": [
      "WARNING:absl:Found untraced functions such as lstm_cell_layer_call_fn, lstm_cell_layer_call_and_return_conditional_losses while saving (showing 2 of 2). These functions will not be directly callable after loading.\n"
     ]
    },
    {
     "name": "stdout",
     "output_type": "stream",
     "text": [
      "INFO:tensorflow:Assets written to: C:\\Users\\PARK\\Documents\\LAB\\RNN vs LSTM\\FInal Example\\wandb\\run-20221018_155335-3crds3hr\\files\\model-best\\assets\n"
     ]
    },
    {
     "name": "stderr",
     "output_type": "stream",
     "text": [
      "INFO:tensorflow:Assets written to: C:\\Users\\PARK\\Documents\\LAB\\RNN vs LSTM\\FInal Example\\wandb\\run-20221018_155335-3crds3hr\\files\\model-best\\assets\n",
      "\u001b[34m\u001b[1mwandb\u001b[0m: Adding directory to artifact (C:\\Users\\PARK\\Documents\\LAB\\RNN vs LSTM\\FInal Example\\wandb\\run-20221018_155335-3crds3hr\\files\\model-best)... Done. 0.1s\n"
     ]
    },
    {
     "name": "stdout",
     "output_type": "stream",
     "text": [
      "5/5 [==============================] - 4s 1s/step - loss: 0.1730 - mae: 0.3453 - val_loss: 0.1722 - val_mae: 0.3458\n",
      "Epoch 11/500\n",
      "3/5 [=================>............] - ETA: 0s - loss: 0.1663 - mae: 0.3355"
     ]
    },
    {
     "name": "stderr",
     "output_type": "stream",
     "text": [
      "WARNING:absl:Found untraced functions such as lstm_cell_layer_call_fn, lstm_cell_layer_call_and_return_conditional_losses while saving (showing 2 of 2). These functions will not be directly callable after loading.\n"
     ]
    },
    {
     "name": "stdout",
     "output_type": "stream",
     "text": [
      "INFO:tensorflow:Assets written to: C:\\Users\\PARK\\Documents\\LAB\\RNN vs LSTM\\FInal Example\\wandb\\run-20221018_155335-3crds3hr\\files\\model-best\\assets\n"
     ]
    },
    {
     "name": "stderr",
     "output_type": "stream",
     "text": [
      "INFO:tensorflow:Assets written to: C:\\Users\\PARK\\Documents\\LAB\\RNN vs LSTM\\FInal Example\\wandb\\run-20221018_155335-3crds3hr\\files\\model-best\\assets\n",
      "\u001b[34m\u001b[1mwandb\u001b[0m: Adding directory to artifact (C:\\Users\\PARK\\Documents\\LAB\\RNN vs LSTM\\FInal Example\\wandb\\run-20221018_155335-3crds3hr\\files\\model-best)... Done. 0.1s\n"
     ]
    },
    {
     "name": "stdout",
     "output_type": "stream",
     "text": [
      "5/5 [==============================] - 4s 1s/step - loss: 0.1721 - mae: 0.3437 - val_loss: 0.1656 - val_mae: 0.3408\n",
      "Epoch 12/500\n",
      "5/5 [==============================] - 1s 104ms/step - loss: 0.1798 - mae: 0.3510 - val_loss: 0.1799 - val_mae: 0.3488\n",
      "Epoch 13/500\n",
      "5/5 [==============================] - 0s 74ms/step - loss: 0.1781 - mae: 0.3499 - val_loss: 0.1694 - val_mae: 0.3446\n",
      "Epoch 14/500\n",
      "1/5 [=====>........................] - ETA: 0s - loss: 0.2091 - mae: 0.3835"
     ]
    },
    {
     "name": "stderr",
     "output_type": "stream",
     "text": [
      "WARNING:absl:Found untraced functions such as lstm_cell_layer_call_fn, lstm_cell_layer_call_and_return_conditional_losses while saving (showing 2 of 2). These functions will not be directly callable after loading.\n"
     ]
    },
    {
     "name": "stdout",
     "output_type": "stream",
     "text": [
      "INFO:tensorflow:Assets written to: C:\\Users\\PARK\\Documents\\LAB\\RNN vs LSTM\\FInal Example\\wandb\\run-20221018_155335-3crds3hr\\files\\model-best\\assets\n"
     ]
    },
    {
     "name": "stderr",
     "output_type": "stream",
     "text": [
      "INFO:tensorflow:Assets written to: C:\\Users\\PARK\\Documents\\LAB\\RNN vs LSTM\\FInal Example\\wandb\\run-20221018_155335-3crds3hr\\files\\model-best\\assets\n",
      "\u001b[34m\u001b[1mwandb\u001b[0m: Adding directory to artifact (C:\\Users\\PARK\\Documents\\LAB\\RNN vs LSTM\\FInal Example\\wandb\\run-20221018_155335-3crds3hr\\files\\model-best)... Done. 0.1s\n"
     ]
    },
    {
     "name": "stdout",
     "output_type": "stream",
     "text": [
      "5/5 [==============================] - 4s 1s/step - loss: 0.1688 - mae: 0.3400 - val_loss: 0.1649 - val_mae: 0.3370\n",
      "Epoch 15/500\n",
      "3/5 [=================>............] - ETA: 0s - loss: 0.1646 - mae: 0.3373"
     ]
    },
    {
     "name": "stderr",
     "output_type": "stream",
     "text": [
      "WARNING:absl:Found untraced functions such as lstm_cell_layer_call_fn, lstm_cell_layer_call_and_return_conditional_losses while saving (showing 2 of 2). These functions will not be directly callable after loading.\n"
     ]
    },
    {
     "name": "stdout",
     "output_type": "stream",
     "text": [
      "INFO:tensorflow:Assets written to: C:\\Users\\PARK\\Documents\\LAB\\RNN vs LSTM\\FInal Example\\wandb\\run-20221018_155335-3crds3hr\\files\\model-best\\assets\n"
     ]
    },
    {
     "name": "stderr",
     "output_type": "stream",
     "text": [
      "INFO:tensorflow:Assets written to: C:\\Users\\PARK\\Documents\\LAB\\RNN vs LSTM\\FInal Example\\wandb\\run-20221018_155335-3crds3hr\\files\\model-best\\assets\n",
      "\u001b[34m\u001b[1mwandb\u001b[0m: Adding directory to artifact (C:\\Users\\PARK\\Documents\\LAB\\RNN vs LSTM\\FInal Example\\wandb\\run-20221018_155335-3crds3hr\\files\\model-best)... Done. 0.1s\n"
     ]
    },
    {
     "name": "stdout",
     "output_type": "stream",
     "text": [
      "5/5 [==============================] - 4s 1s/step - loss: 0.1630 - mae: 0.3349 - val_loss: 0.1541 - val_mae: 0.3257\n",
      "Epoch 16/500\n",
      "5/5 [==============================] - 1s 117ms/step - loss: 0.1472 - mae: 0.3167 - val_loss: 0.1903 - val_mae: 0.3603\n",
      "Epoch 17/500\n",
      "5/5 [==============================] - ETA: 0s - loss: 0.1911 - mae: 0.3574"
     ]
    },
    {
     "name": "stderr",
     "output_type": "stream",
     "text": [
      "WARNING:absl:Found untraced functions such as lstm_cell_layer_call_fn, lstm_cell_layer_call_and_return_conditional_losses while saving (showing 2 of 2). These functions will not be directly callable after loading.\n"
     ]
    },
    {
     "name": "stdout",
     "output_type": "stream",
     "text": [
      "INFO:tensorflow:Assets written to: C:\\Users\\PARK\\Documents\\LAB\\RNN vs LSTM\\FInal Example\\wandb\\run-20221018_155335-3crds3hr\\files\\model-best\\assets\n"
     ]
    },
    {
     "name": "stderr",
     "output_type": "stream",
     "text": [
      "INFO:tensorflow:Assets written to: C:\\Users\\PARK\\Documents\\LAB\\RNN vs LSTM\\FInal Example\\wandb\\run-20221018_155335-3crds3hr\\files\\model-best\\assets\n",
      "\u001b[34m\u001b[1mwandb\u001b[0m: Adding directory to artifact (C:\\Users\\PARK\\Documents\\LAB\\RNN vs LSTM\\FInal Example\\wandb\\run-20221018_155335-3crds3hr\\files\\model-best)... Done. 0.1s\n"
     ]
    },
    {
     "name": "stdout",
     "output_type": "stream",
     "text": [
      "5/5 [==============================] - 4s 1s/step - loss: 0.1911 - mae: 0.3574 - val_loss: 0.1509 - val_mae: 0.3216\n",
      "Epoch 18/500\n",
      "5/5 [==============================] - 1s 116ms/step - loss: 0.1552 - mae: 0.3216 - val_loss: 0.1578 - val_mae: 0.3284\n",
      "Epoch 19/500\n",
      "1/5 [=====>........................] - ETA: 0s - loss: 0.1522 - mae: 0.3198"
     ]
    },
    {
     "name": "stderr",
     "output_type": "stream",
     "text": [
      "WARNING:absl:Found untraced functions such as lstm_cell_layer_call_fn, lstm_cell_layer_call_and_return_conditional_losses while saving (showing 2 of 2). These functions will not be directly callable after loading.\n"
     ]
    },
    {
     "name": "stdout",
     "output_type": "stream",
     "text": [
      "INFO:tensorflow:Assets written to: C:\\Users\\PARK\\Documents\\LAB\\RNN vs LSTM\\FInal Example\\wandb\\run-20221018_155335-3crds3hr\\files\\model-best\\assets\n"
     ]
    },
    {
     "name": "stderr",
     "output_type": "stream",
     "text": [
      "INFO:tensorflow:Assets written to: C:\\Users\\PARK\\Documents\\LAB\\RNN vs LSTM\\FInal Example\\wandb\\run-20221018_155335-3crds3hr\\files\\model-best\\assets\n",
      "\u001b[34m\u001b[1mwandb\u001b[0m: Adding directory to artifact (C:\\Users\\PARK\\Documents\\LAB\\RNN vs LSTM\\FInal Example\\wandb\\run-20221018_155335-3crds3hr\\files\\model-best)... Done. 0.1s\n"
     ]
    },
    {
     "name": "stdout",
     "output_type": "stream",
     "text": [
      "5/5 [==============================] - 4s 1s/step - loss: 0.1582 - mae: 0.3276 - val_loss: 0.1489 - val_mae: 0.3197\n",
      "Epoch 20/500\n",
      "2/5 [===========>..................] - ETA: 0s - loss: 0.1400 - mae: 0.3068"
     ]
    },
    {
     "name": "stderr",
     "output_type": "stream",
     "text": [
      "WARNING:absl:Found untraced functions such as lstm_cell_layer_call_fn, lstm_cell_layer_call_and_return_conditional_losses while saving (showing 2 of 2). These functions will not be directly callable after loading.\n"
     ]
    },
    {
     "name": "stdout",
     "output_type": "stream",
     "text": [
      "INFO:tensorflow:Assets written to: C:\\Users\\PARK\\Documents\\LAB\\RNN vs LSTM\\FInal Example\\wandb\\run-20221018_155335-3crds3hr\\files\\model-best\\assets\n"
     ]
    },
    {
     "name": "stderr",
     "output_type": "stream",
     "text": [
      "INFO:tensorflow:Assets written to: C:\\Users\\PARK\\Documents\\LAB\\RNN vs LSTM\\FInal Example\\wandb\\run-20221018_155335-3crds3hr\\files\\model-best\\assets\n",
      "\u001b[34m\u001b[1mwandb\u001b[0m: Adding directory to artifact (C:\\Users\\PARK\\Documents\\LAB\\RNN vs LSTM\\FInal Example\\wandb\\run-20221018_155335-3crds3hr\\files\\model-best)... Done. 0.1s\n"
     ]
    },
    {
     "name": "stdout",
     "output_type": "stream",
     "text": [
      "5/5 [==============================] - 5s 1s/step - loss: 0.1375 - mae: 0.3050 - val_loss: 0.1107 - val_mae: 0.2711\n",
      "Epoch 21/500\n",
      "5/5 [==============================] - 1s 141ms/step - loss: 0.1904 - mae: 0.3473 - val_loss: 0.1623 - val_mae: 0.3299\n",
      "Epoch 22/500\n",
      "5/5 [==============================] - 0s 74ms/step - loss: 0.1509 - mae: 0.3207 - val_loss: 0.1479 - val_mae: 0.3212\n",
      "Epoch 23/500\n",
      "5/5 [==============================] - 0s 74ms/step - loss: 0.1453 - mae: 0.3148 - val_loss: 0.1415 - val_mae: 0.3109\n",
      "Epoch 24/500\n",
      "1/5 [=====>........................] - ETA: 0s - loss: 0.1171 - mae: 0.2793"
     ]
    },
    {
     "name": "stderr",
     "output_type": "stream",
     "text": [
      "WARNING:absl:Found untraced functions such as lstm_cell_layer_call_fn, lstm_cell_layer_call_and_return_conditional_losses while saving (showing 2 of 2). These functions will not be directly callable after loading.\n"
     ]
    },
    {
     "name": "stdout",
     "output_type": "stream",
     "text": [
      "INFO:tensorflow:Assets written to: C:\\Users\\PARK\\Documents\\LAB\\RNN vs LSTM\\FInal Example\\wandb\\run-20221018_155335-3crds3hr\\files\\model-best\\assets\n"
     ]
    },
    {
     "name": "stderr",
     "output_type": "stream",
     "text": [
      "INFO:tensorflow:Assets written to: C:\\Users\\PARK\\Documents\\LAB\\RNN vs LSTM\\FInal Example\\wandb\\run-20221018_155335-3crds3hr\\files\\model-best\\assets\n",
      "\u001b[34m\u001b[1mwandb\u001b[0m: Adding directory to artifact (C:\\Users\\PARK\\Documents\\LAB\\RNN vs LSTM\\FInal Example\\wandb\\run-20221018_155335-3crds3hr\\files\\model-best)... Done. 0.1s\n"
     ]
    },
    {
     "name": "stdout",
     "output_type": "stream",
     "text": [
      "5/5 [==============================] - 4s 1s/step - loss: 0.1327 - mae: 0.3012 - val_loss: 0.0966 - val_mae: 0.2566\n",
      "Epoch 25/500\n",
      "5/5 [==============================] - 1s 119ms/step - loss: 0.3100 - mae: 0.4531 - val_loss: 0.3784 - val_mae: 0.5087\n",
      "Epoch 26/500\n",
      "5/5 [==============================] - 0s 82ms/step - loss: 0.2538 - mae: 0.4039 - val_loss: 0.2176 - val_mae: 0.3839\n",
      "Epoch 27/500\n",
      "5/5 [==============================] - 0s 78ms/step - loss: 0.2275 - mae: 0.3944 - val_loss: 0.1932 - val_mae: 0.3616\n",
      "Epoch 28/500\n",
      "5/5 [==============================] - 0s 75ms/step - loss: 0.1796 - mae: 0.3493 - val_loss: 0.1786 - val_mae: 0.3551\n",
      "Epoch 29/500\n",
      "5/5 [==============================] - 0s 74ms/step - loss: 0.1842 - mae: 0.3527 - val_loss: 0.1738 - val_mae: 0.3488\n",
      "Epoch 30/500\n",
      "5/5 [==============================] - 0s 74ms/step - loss: 0.1711 - mae: 0.3416 - val_loss: 0.1686 - val_mae: 0.3397\n",
      "Epoch 31/500\n",
      "5/5 [==============================] - 0s 75ms/step - loss: 0.1717 - mae: 0.3424 - val_loss: 0.1740 - val_mae: 0.3442\n",
      "Epoch 32/500\n",
      "5/5 [==============================] - 0s 72ms/step - loss: 0.1702 - mae: 0.3415 - val_loss: 0.1649 - val_mae: 0.3393\n",
      "Epoch 33/500\n",
      "5/5 [==============================] - 0s 71ms/step - loss: 0.1647 - mae: 0.3369 - val_loss: 0.1608 - val_mae: 0.3360\n",
      "Epoch 34/500\n",
      "5/5 [==============================] - 0s 75ms/step - loss: 0.1629 - mae: 0.3355 - val_loss: 0.1597 - val_mae: 0.3328\n",
      "Epoch 35/500\n",
      "5/5 [==============================] - 0s 73ms/step - loss: 0.1611 - mae: 0.3333 - val_loss: 0.1581 - val_mae: 0.3312\n",
      "Epoch 36/500\n",
      "5/5 [==============================] - 0s 75ms/step - loss: 0.1583 - mae: 0.3300 - val_loss: 0.1552 - val_mae: 0.3287\n",
      "Epoch 37/500\n",
      "5/5 [==============================] - 0s 74ms/step - loss: 0.1551 - mae: 0.3266 - val_loss: 0.1508 - val_mae: 0.3244\n",
      "Epoch 38/500\n",
      "5/5 [==============================] - 0s 74ms/step - loss: 0.1497 - mae: 0.3206 - val_loss: 0.1417 - val_mae: 0.3125\n",
      "Epoch 39/500\n",
      "5/5 [==============================] - 0s 73ms/step - loss: 0.1379 - mae: 0.3070 - val_loss: 0.1427 - val_mae: 0.3175\n",
      "Epoch 40/500\n",
      "5/5 [==============================] - 0s 70ms/step - loss: 0.1682 - mae: 0.3394 - val_loss: 0.1473 - val_mae: 0.3177\n",
      "Epoch 41/500\n",
      "5/5 [==============================] - 0s 75ms/step - loss: 0.1468 - mae: 0.3139 - val_loss: 0.1451 - val_mae: 0.3173\n",
      "Epoch 42/500\n",
      "5/5 [==============================] - 0s 76ms/step - loss: 0.1381 - mae: 0.3065 - val_loss: 0.1197 - val_mae: 0.2873\n",
      "Epoch 43/500\n",
      "5/5 [==============================] - 0s 73ms/step - loss: 0.1112 - mae: 0.2744 - val_loss: 0.0976 - val_mae: 0.2528\n",
      "Epoch 44/500\n",
      "1/5 [=====>........................] - ETA: 0s - loss: 0.0979 - mae: 0.2543"
     ]
    },
    {
     "name": "stderr",
     "output_type": "stream",
     "text": [
      "WARNING:absl:Found untraced functions such as lstm_cell_layer_call_fn, lstm_cell_layer_call_and_return_conditional_losses while saving (showing 2 of 2). These functions will not be directly callable after loading.\n"
     ]
    },
    {
     "name": "stdout",
     "output_type": "stream",
     "text": [
      "INFO:tensorflow:Assets written to: C:\\Users\\PARK\\Documents\\LAB\\RNN vs LSTM\\FInal Example\\wandb\\run-20221018_155335-3crds3hr\\files\\model-best\\assets\n"
     ]
    },
    {
     "name": "stderr",
     "output_type": "stream",
     "text": [
      "INFO:tensorflow:Assets written to: C:\\Users\\PARK\\Documents\\LAB\\RNN vs LSTM\\FInal Example\\wandb\\run-20221018_155335-3crds3hr\\files\\model-best\\assets\n",
      "\u001b[34m\u001b[1mwandb\u001b[0m: Adding directory to artifact (C:\\Users\\PARK\\Documents\\LAB\\RNN vs LSTM\\FInal Example\\wandb\\run-20221018_155335-3crds3hr\\files\\model-best)... Done. 0.1s\n"
     ]
    },
    {
     "name": "stdout",
     "output_type": "stream",
     "text": [
      "5/5 [==============================] - 4s 1s/step - loss: 0.0883 - mae: 0.2381 - val_loss: 0.0692 - val_mae: 0.2102\n",
      "Epoch 45/500\n",
      "5/5 [==============================] - 1s 142ms/step - loss: 0.0955 - mae: 0.2500 - val_loss: 0.0729 - val_mae: 0.2197\n",
      "Epoch 46/500\n",
      "5/5 [==============================] - 0s 94ms/step - loss: 0.0934 - mae: 0.2458 - val_loss: 0.0758 - val_mae: 0.2189\n",
      "Epoch 47/500\n",
      "1/5 [=====>........................] - ETA: 0s - loss: 0.0860 - mae: 0.2351"
     ]
    },
    {
     "name": "stderr",
     "output_type": "stream",
     "text": [
      "WARNING:absl:Found untraced functions such as lstm_cell_layer_call_fn, lstm_cell_layer_call_and_return_conditional_losses while saving (showing 2 of 2). These functions will not be directly callable after loading.\n"
     ]
    },
    {
     "name": "stdout",
     "output_type": "stream",
     "text": [
      "INFO:tensorflow:Assets written to: C:\\Users\\PARK\\Documents\\LAB\\RNN vs LSTM\\FInal Example\\wandb\\run-20221018_155335-3crds3hr\\files\\model-best\\assets\n"
     ]
    },
    {
     "name": "stderr",
     "output_type": "stream",
     "text": [
      "INFO:tensorflow:Assets written to: C:\\Users\\PARK\\Documents\\LAB\\RNN vs LSTM\\FInal Example\\wandb\\run-20221018_155335-3crds3hr\\files\\model-best\\assets\n",
      "\u001b[34m\u001b[1mwandb\u001b[0m: Adding directory to artifact (C:\\Users\\PARK\\Documents\\LAB\\RNN vs LSTM\\FInal Example\\wandb\\run-20221018_155335-3crds3hr\\files\\model-best)... Done. 0.1s\n"
     ]
    },
    {
     "name": "stdout",
     "output_type": "stream",
     "text": [
      "5/5 [==============================] - 4s 992ms/step - loss: 0.0791 - mae: 0.2234 - val_loss: 0.0647 - val_mae: 0.1951\n",
      "Epoch 48/500\n",
      "5/5 [==============================] - ETA: 0s - loss: 0.0732 - mae: 0.2143"
     ]
    },
    {
     "name": "stderr",
     "output_type": "stream",
     "text": [
      "WARNING:absl:Found untraced functions such as lstm_cell_layer_call_fn, lstm_cell_layer_call_and_return_conditional_losses while saving (showing 2 of 2). These functions will not be directly callable after loading.\n"
     ]
    },
    {
     "name": "stdout",
     "output_type": "stream",
     "text": [
      "INFO:tensorflow:Assets written to: C:\\Users\\PARK\\Documents\\LAB\\RNN vs LSTM\\FInal Example\\wandb\\run-20221018_155335-3crds3hr\\files\\model-best\\assets\n"
     ]
    },
    {
     "name": "stderr",
     "output_type": "stream",
     "text": [
      "INFO:tensorflow:Assets written to: C:\\Users\\PARK\\Documents\\LAB\\RNN vs LSTM\\FInal Example\\wandb\\run-20221018_155335-3crds3hr\\files\\model-best\\assets\n",
      "\u001b[34m\u001b[1mwandb\u001b[0m: Adding directory to artifact (C:\\Users\\PARK\\Documents\\LAB\\RNN vs LSTM\\FInal Example\\wandb\\run-20221018_155335-3crds3hr\\files\\model-best)... Done. 0.1s\n"
     ]
    },
    {
     "name": "stdout",
     "output_type": "stream",
     "text": [
      "5/5 [==============================] - 5s 1s/step - loss: 0.0732 - mae: 0.2143 - val_loss: 0.0622 - val_mae: 0.1956\n",
      "Epoch 49/500\n",
      "2/5 [===========>..................] - ETA: 0s - loss: 0.0653 - mae: 0.2038"
     ]
    },
    {
     "name": "stderr",
     "output_type": "stream",
     "text": [
      "WARNING:absl:Found untraced functions such as lstm_cell_layer_call_fn, lstm_cell_layer_call_and_return_conditional_losses while saving (showing 2 of 2). These functions will not be directly callable after loading.\n"
     ]
    },
    {
     "name": "stdout",
     "output_type": "stream",
     "text": [
      "INFO:tensorflow:Assets written to: C:\\Users\\PARK\\Documents\\LAB\\RNN vs LSTM\\FInal Example\\wandb\\run-20221018_155335-3crds3hr\\files\\model-best\\assets\n"
     ]
    },
    {
     "name": "stderr",
     "output_type": "stream",
     "text": [
      "INFO:tensorflow:Assets written to: C:\\Users\\PARK\\Documents\\LAB\\RNN vs LSTM\\FInal Example\\wandb\\run-20221018_155335-3crds3hr\\files\\model-best\\assets\n",
      "\u001b[34m\u001b[1mwandb\u001b[0m: Adding directory to artifact (C:\\Users\\PARK\\Documents\\LAB\\RNN vs LSTM\\FInal Example\\wandb\\run-20221018_155335-3crds3hr\\files\\model-best)... Done. 0.1s\n"
     ]
    },
    {
     "name": "stdout",
     "output_type": "stream",
     "text": [
      "5/5 [==============================] - 4s 1s/step - loss: 0.0650 - mae: 0.2001 - val_loss: 0.0616 - val_mae: 0.1905\n",
      "Epoch 50/500\n",
      "2/5 [===========>..................] - ETA: 0s - loss: 0.0633 - mae: 0.1980"
     ]
    },
    {
     "name": "stderr",
     "output_type": "stream",
     "text": [
      "WARNING:absl:Found untraced functions such as lstm_cell_layer_call_fn, lstm_cell_layer_call_and_return_conditional_losses while saving (showing 2 of 2). These functions will not be directly callable after loading.\n"
     ]
    },
    {
     "name": "stdout",
     "output_type": "stream",
     "text": [
      "INFO:tensorflow:Assets written to: C:\\Users\\PARK\\Documents\\LAB\\RNN vs LSTM\\FInal Example\\wandb\\run-20221018_155335-3crds3hr\\files\\model-best\\assets\n"
     ]
    },
    {
     "name": "stderr",
     "output_type": "stream",
     "text": [
      "INFO:tensorflow:Assets written to: C:\\Users\\PARK\\Documents\\LAB\\RNN vs LSTM\\FInal Example\\wandb\\run-20221018_155335-3crds3hr\\files\\model-best\\assets\n",
      "\u001b[34m\u001b[1mwandb\u001b[0m: Adding directory to artifact (C:\\Users\\PARK\\Documents\\LAB\\RNN vs LSTM\\FInal Example\\wandb\\run-20221018_155335-3crds3hr\\files\\model-best)... Done. 0.1s\n"
     ]
    },
    {
     "name": "stdout",
     "output_type": "stream",
     "text": [
      "5/5 [==============================] - 4s 1s/step - loss: 0.0610 - mae: 0.1921 - val_loss: 0.0581 - val_mae: 0.1835\n",
      "Epoch 51/500\n",
      "2/5 [===========>..................] - ETA: 0s - loss: 0.0582 - mae: 0.1851"
     ]
    },
    {
     "name": "stderr",
     "output_type": "stream",
     "text": [
      "WARNING:absl:Found untraced functions such as lstm_cell_layer_call_fn, lstm_cell_layer_call_and_return_conditional_losses while saving (showing 2 of 2). These functions will not be directly callable after loading.\n"
     ]
    },
    {
     "name": "stdout",
     "output_type": "stream",
     "text": [
      "INFO:tensorflow:Assets written to: C:\\Users\\PARK\\Documents\\LAB\\RNN vs LSTM\\FInal Example\\wandb\\run-20221018_155335-3crds3hr\\files\\model-best\\assets\n"
     ]
    },
    {
     "name": "stderr",
     "output_type": "stream",
     "text": [
      "INFO:tensorflow:Assets written to: C:\\Users\\PARK\\Documents\\LAB\\RNN vs LSTM\\FInal Example\\wandb\\run-20221018_155335-3crds3hr\\files\\model-best\\assets\n",
      "\u001b[34m\u001b[1mwandb\u001b[0m: Adding directory to artifact (C:\\Users\\PARK\\Documents\\LAB\\RNN vs LSTM\\FInal Example\\wandb\\run-20221018_155335-3crds3hr\\files\\model-best)... Done. 0.1s\n"
     ]
    },
    {
     "name": "stdout",
     "output_type": "stream",
     "text": [
      "5/5 [==============================] - 4s 1s/step - loss: 0.0584 - mae: 0.1846 - val_loss: 0.0556 - val_mae: 0.1815\n",
      "Epoch 52/500\n",
      "5/5 [==============================] - 1s 107ms/step - loss: 0.0583 - mae: 0.1849 - val_loss: 0.0562 - val_mae: 0.1807\n",
      "Epoch 53/500\n",
      "5/5 [==============================] - 0s 74ms/step - loss: 0.0573 - mae: 0.1831 - val_loss: 0.0571 - val_mae: 0.1817\n",
      "Epoch 54/500\n",
      "5/5 [==============================] - 0s 71ms/step - loss: 0.0568 - mae: 0.1834 - val_loss: 0.0565 - val_mae: 0.1820\n",
      "Epoch 55/500\n",
      "5/5 [==============================] - 0s 71ms/step - loss: 0.0562 - mae: 0.1812 - val_loss: 0.0572 - val_mae: 0.1822\n",
      "Epoch 56/500\n",
      "5/5 [==============================] - 0s 72ms/step - loss: 0.0566 - mae: 0.1825 - val_loss: 0.0584 - val_mae: 0.1852\n",
      "Epoch 57/500\n",
      "5/5 [==============================] - 0s 73ms/step - loss: 0.0566 - mae: 0.1823 - val_loss: 0.0566 - val_mae: 0.1827\n",
      "Epoch 58/500\n",
      "5/5 [==============================] - 0s 72ms/step - loss: 0.0565 - mae: 0.1823 - val_loss: 0.0610 - val_mae: 0.1954\n",
      "Epoch 59/500\n",
      "5/5 [==============================] - 0s 72ms/step - loss: 0.0606 - mae: 0.1902 - val_loss: 0.0629 - val_mae: 0.2016\n",
      "Epoch 60/500\n",
      "5/5 [==============================] - 0s 72ms/step - loss: 0.0590 - mae: 0.1882 - val_loss: 0.0562 - val_mae: 0.1828\n",
      "Epoch 61/500\n",
      "5/5 [==============================] - 0s 71ms/step - loss: 0.0557 - mae: 0.1809 - val_loss: 0.0561 - val_mae: 0.1829\n",
      "Epoch 62/500\n",
      "5/5 [==============================] - ETA: 0s - loss: 0.0566 - mae: 0.1822"
     ]
    },
    {
     "name": "stderr",
     "output_type": "stream",
     "text": [
      "WARNING:absl:Found untraced functions such as lstm_cell_layer_call_fn, lstm_cell_layer_call_and_return_conditional_losses while saving (showing 2 of 2). These functions will not be directly callable after loading.\n"
     ]
    },
    {
     "name": "stdout",
     "output_type": "stream",
     "text": [
      "INFO:tensorflow:Assets written to: C:\\Users\\PARK\\Documents\\LAB\\RNN vs LSTM\\FInal Example\\wandb\\run-20221018_155335-3crds3hr\\files\\model-best\\assets\n"
     ]
    },
    {
     "name": "stderr",
     "output_type": "stream",
     "text": [
      "INFO:tensorflow:Assets written to: C:\\Users\\PARK\\Documents\\LAB\\RNN vs LSTM\\FInal Example\\wandb\\run-20221018_155335-3crds3hr\\files\\model-best\\assets\n",
      "\u001b[34m\u001b[1mwandb\u001b[0m: Adding directory to artifact (C:\\Users\\PARK\\Documents\\LAB\\RNN vs LSTM\\FInal Example\\wandb\\run-20221018_155335-3crds3hr\\files\\model-best)... Done. 0.1s\n"
     ]
    },
    {
     "name": "stdout",
     "output_type": "stream",
     "text": [
      "5/5 [==============================] - 4s 1s/step - loss: 0.0566 - mae: 0.1822 - val_loss: 0.0554 - val_mae: 0.1801\n",
      "Epoch 63/500\n",
      "4/5 [=======================>......] - ETA: 0s - loss: 0.0562 - mae: 0.1810"
     ]
    },
    {
     "name": "stderr",
     "output_type": "stream",
     "text": [
      "WARNING:absl:Found untraced functions such as lstm_cell_layer_call_fn, lstm_cell_layer_call_and_return_conditional_losses while saving (showing 2 of 2). These functions will not be directly callable after loading.\n"
     ]
    },
    {
     "name": "stdout",
     "output_type": "stream",
     "text": [
      "INFO:tensorflow:Assets written to: C:\\Users\\PARK\\Documents\\LAB\\RNN vs LSTM\\FInal Example\\wandb\\run-20221018_155335-3crds3hr\\files\\model-best\\assets\n"
     ]
    },
    {
     "name": "stderr",
     "output_type": "stream",
     "text": [
      "INFO:tensorflow:Assets written to: C:\\Users\\PARK\\Documents\\LAB\\RNN vs LSTM\\FInal Example\\wandb\\run-20221018_155335-3crds3hr\\files\\model-best\\assets\n",
      "\u001b[34m\u001b[1mwandb\u001b[0m: Adding directory to artifact (C:\\Users\\PARK\\Documents\\LAB\\RNN vs LSTM\\FInal Example\\wandb\\run-20221018_155335-3crds3hr\\files\\model-best)... Done. 0.1s\n"
     ]
    },
    {
     "name": "stdout",
     "output_type": "stream",
     "text": [
      "5/5 [==============================] - 4s 1s/step - loss: 0.0557 - mae: 0.1800 - val_loss: 0.0551 - val_mae: 0.1795\n",
      "Epoch 64/500\n",
      "5/5 [==============================] - 1s 98ms/step - loss: 0.0554 - mae: 0.1801 - val_loss: 0.0553 - val_mae: 0.1800\n",
      "Epoch 65/500\n",
      "1/5 [=====>........................] - ETA: 0s - loss: 0.0495 - mae: 0.1694"
     ]
    },
    {
     "name": "stderr",
     "output_type": "stream",
     "text": [
      "WARNING:absl:Found untraced functions such as lstm_cell_layer_call_fn, lstm_cell_layer_call_and_return_conditional_losses while saving (showing 2 of 2). These functions will not be directly callable after loading.\n"
     ]
    },
    {
     "name": "stdout",
     "output_type": "stream",
     "text": [
      "INFO:tensorflow:Assets written to: C:\\Users\\PARK\\Documents\\LAB\\RNN vs LSTM\\FInal Example\\wandb\\run-20221018_155335-3crds3hr\\files\\model-best\\assets\n"
     ]
    },
    {
     "name": "stderr",
     "output_type": "stream",
     "text": [
      "INFO:tensorflow:Assets written to: C:\\Users\\PARK\\Documents\\LAB\\RNN vs LSTM\\FInal Example\\wandb\\run-20221018_155335-3crds3hr\\files\\model-best\\assets\n",
      "\u001b[34m\u001b[1mwandb\u001b[0m: Adding directory to artifact (C:\\Users\\PARK\\Documents\\LAB\\RNN vs LSTM\\FInal Example\\wandb\\run-20221018_155335-3crds3hr\\files\\model-best)... Done. 0.1s\n"
     ]
    },
    {
     "name": "stdout",
     "output_type": "stream",
     "text": [
      "5/5 [==============================] - 4s 1s/step - loss: 0.0549 - mae: 0.1783 - val_loss: 0.0551 - val_mae: 0.1794\n",
      "Epoch 66/500\n",
      "5/5 [==============================] - 1s 134ms/step - loss: 0.0554 - mae: 0.1792 - val_loss: 0.0575 - val_mae: 0.1858\n",
      "Epoch 67/500\n",
      "5/5 [==============================] - 0s 95ms/step - loss: 0.0558 - mae: 0.1808 - val_loss: 0.0569 - val_mae: 0.1848\n",
      "Epoch 68/500\n",
      "5/5 [==============================] - 0s 80ms/step - loss: 0.0556 - mae: 0.1804 - val_loss: 0.0571 - val_mae: 0.1862\n",
      "Epoch 69/500\n",
      "5/5 [==============================] - 0s 78ms/step - loss: 0.0567 - mae: 0.1828 - val_loss: 0.0581 - val_mae: 0.1820\n",
      "Epoch 70/500\n",
      "5/5 [==============================] - 0s 73ms/step - loss: 0.0589 - mae: 0.1864 - val_loss: 0.0672 - val_mae: 0.1963\n",
      "Epoch 71/500\n",
      "5/5 [==============================] - 0s 72ms/step - loss: 0.0632 - mae: 0.1967 - val_loss: 0.0673 - val_mae: 0.2000\n",
      "Epoch 72/500\n",
      "5/5 [==============================] - 0s 73ms/step - loss: 0.0592 - mae: 0.1878 - val_loss: 0.0591 - val_mae: 0.1840\n",
      "Epoch 73/500\n",
      "5/5 [==============================] - 0s 71ms/step - loss: 0.0578 - mae: 0.1852 - val_loss: 0.0570 - val_mae: 0.1813\n",
      "Epoch 74/500\n",
      "5/5 [==============================] - 0s 72ms/step - loss: 0.0558 - mae: 0.1802 - val_loss: 0.0568 - val_mae: 0.1807\n",
      "Epoch 75/500\n",
      "5/5 [==============================] - 0s 72ms/step - loss: 0.0546 - mae: 0.1785 - val_loss: 0.0557 - val_mae: 0.1796\n",
      "Epoch 76/500\n",
      "5/5 [==============================] - 0s 73ms/step - loss: 0.0547 - mae: 0.1784 - val_loss: 0.0579 - val_mae: 0.1810\n",
      "Epoch 77/500\n",
      "5/5 [==============================] - 0s 73ms/step - loss: 0.0549 - mae: 0.1789 - val_loss: 0.0560 - val_mae: 0.1805\n",
      "Epoch 78/500\n",
      "5/5 [==============================] - 0s 74ms/step - loss: 0.0551 - mae: 0.1793 - val_loss: 0.0556 - val_mae: 0.1784\n",
      "Epoch 79/500\n",
      "5/5 [==============================] - 0s 73ms/step - loss: 0.0550 - mae: 0.1792 - val_loss: 0.0575 - val_mae: 0.1813\n",
      "Epoch 80/500\n",
      "5/5 [==============================] - 0s 72ms/step - loss: 0.0548 - mae: 0.1792 - val_loss: 0.0557 - val_mae: 0.1791\n",
      "Epoch 81/500\n",
      "5/5 [==============================] - 0s 72ms/step - loss: 0.0543 - mae: 0.1772 - val_loss: 0.0571 - val_mae: 0.1797\n",
      "Epoch 82/500\n",
      "5/5 [==============================] - 0s 72ms/step - loss: 0.0553 - mae: 0.1794 - val_loss: 0.0562 - val_mae: 0.1799\n",
      "Epoch 83/500\n",
      "5/5 [==============================] - 0s 71ms/step - loss: 0.0543 - mae: 0.1778 - val_loss: 0.0569 - val_mae: 0.1808\n",
      "Epoch 84/500\n",
      "5/5 [==============================] - 0s 72ms/step - loss: 0.0544 - mae: 0.1779 - val_loss: 0.0552 - val_mae: 0.1788\n",
      "Epoch 85/500\n",
      "5/5 [==============================] - 0s 71ms/step - loss: 0.0544 - mae: 0.1778 - val_loss: 0.0553 - val_mae: 0.1801\n",
      "Epoch 86/500\n",
      "1/5 [=====>........................] - ETA: 0s - loss: 0.0509 - mae: 0.1740"
     ]
    },
    {
     "name": "stderr",
     "output_type": "stream",
     "text": [
      "WARNING:absl:Found untraced functions such as lstm_cell_layer_call_fn, lstm_cell_layer_call_and_return_conditional_losses while saving (showing 2 of 2). These functions will not be directly callable after loading.\n"
     ]
    },
    {
     "name": "stdout",
     "output_type": "stream",
     "text": [
      "INFO:tensorflow:Assets written to: C:\\Users\\PARK\\Documents\\LAB\\RNN vs LSTM\\FInal Example\\wandb\\run-20221018_155335-3crds3hr\\files\\model-best\\assets\n"
     ]
    },
    {
     "name": "stderr",
     "output_type": "stream",
     "text": [
      "INFO:tensorflow:Assets written to: C:\\Users\\PARK\\Documents\\LAB\\RNN vs LSTM\\FInal Example\\wandb\\run-20221018_155335-3crds3hr\\files\\model-best\\assets\n",
      "\u001b[34m\u001b[1mwandb\u001b[0m: Adding directory to artifact (C:\\Users\\PARK\\Documents\\LAB\\RNN vs LSTM\\FInal Example\\wandb\\run-20221018_155335-3crds3hr\\files\\model-best)... Done. 0.1s\n"
     ]
    },
    {
     "name": "stdout",
     "output_type": "stream",
     "text": [
      "5/5 [==============================] - 4s 1s/step - loss: 0.0542 - mae: 0.1779 - val_loss: 0.0550 - val_mae: 0.1773\n",
      "Epoch 87/500\n",
      "5/5 [==============================] - 1s 119ms/step - loss: 0.0541 - mae: 0.1782 - val_loss: 0.0621 - val_mae: 0.1873\n",
      "Epoch 88/500\n",
      "5/5 [==============================] - 0s 75ms/step - loss: 0.0568 - mae: 0.1823 - val_loss: 0.0579 - val_mae: 0.1811\n",
      "Epoch 89/500\n",
      "5/5 [==============================] - 0s 75ms/step - loss: 0.0563 - mae: 0.1813 - val_loss: 0.0555 - val_mae: 0.1785\n",
      "Epoch 90/500\n",
      "5/5 [==============================] - 0s 74ms/step - loss: 0.0542 - mae: 0.1779 - val_loss: 0.0553 - val_mae: 0.1799\n",
      "Epoch 91/500\n",
      "5/5 [==============================] - 0s 74ms/step - loss: 0.0545 - mae: 0.1778 - val_loss: 0.0560 - val_mae: 0.1785\n",
      "Epoch 92/500\n",
      "5/5 [==============================] - 0s 73ms/step - loss: 0.0533 - mae: 0.1756 - val_loss: 0.0562 - val_mae: 0.1814\n",
      "Epoch 93/500\n",
      "1/5 [=====>........................] - ETA: 0s - loss: 0.0502 - mae: 0.1691"
     ]
    },
    {
     "name": "stderr",
     "output_type": "stream",
     "text": [
      "WARNING:absl:Found untraced functions such as lstm_cell_layer_call_fn, lstm_cell_layer_call_and_return_conditional_losses while saving (showing 2 of 2). These functions will not be directly callable after loading.\n"
     ]
    },
    {
     "name": "stdout",
     "output_type": "stream",
     "text": [
      "INFO:tensorflow:Assets written to: C:\\Users\\PARK\\Documents\\LAB\\RNN vs LSTM\\FInal Example\\wandb\\run-20221018_155335-3crds3hr\\files\\model-best\\assets\n"
     ]
    },
    {
     "name": "stderr",
     "output_type": "stream",
     "text": [
      "INFO:tensorflow:Assets written to: C:\\Users\\PARK\\Documents\\LAB\\RNN vs LSTM\\FInal Example\\wandb\\run-20221018_155335-3crds3hr\\files\\model-best\\assets\n",
      "\u001b[34m\u001b[1mwandb\u001b[0m: Adding directory to artifact (C:\\Users\\PARK\\Documents\\LAB\\RNN vs LSTM\\FInal Example\\wandb\\run-20221018_155335-3crds3hr\\files\\model-best)... Done. 0.1s\n"
     ]
    },
    {
     "name": "stdout",
     "output_type": "stream",
     "text": [
      "5/5 [==============================] - 4s 1s/step - loss: 0.0541 - mae: 0.1771 - val_loss: 0.0542 - val_mae: 0.1772\n",
      "Epoch 94/500\n",
      "5/5 [==============================] - 1s 108ms/step - loss: 0.0539 - mae: 0.1769 - val_loss: 0.0556 - val_mae: 0.1806\n",
      "Epoch 95/500\n",
      "5/5 [==============================] - 0s 74ms/step - loss: 0.0537 - mae: 0.1773 - val_loss: 0.0560 - val_mae: 0.1821\n",
      "Epoch 96/500\n",
      "5/5 [==============================] - 0s 76ms/step - loss: 0.0541 - mae: 0.1776 - val_loss: 0.0678 - val_mae: 0.1966\n",
      "Epoch 97/500\n",
      "5/5 [==============================] - 0s 72ms/step - loss: 0.0594 - mae: 0.1885 - val_loss: 0.0574 - val_mae: 0.1816\n",
      "Epoch 98/500\n",
      "5/5 [==============================] - 0s 72ms/step - loss: 0.0554 - mae: 0.1798 - val_loss: 0.0568 - val_mae: 0.1823\n",
      "Epoch 99/500\n",
      "5/5 [==============================] - 0s 73ms/step - loss: 0.0551 - mae: 0.1796 - val_loss: 0.0573 - val_mae: 0.1828\n",
      "Epoch 100/500\n",
      "5/5 [==============================] - 0s 74ms/step - loss: 0.0540 - mae: 0.1764 - val_loss: 0.0564 - val_mae: 0.1852\n",
      "Epoch 101/500\n",
      "5/5 [==============================] - 0s 72ms/step - loss: 0.0547 - mae: 0.1795 - val_loss: 0.0554 - val_mae: 0.1798\n",
      "Epoch 102/500\n",
      "5/5 [==============================] - 0s 72ms/step - loss: 0.0532 - mae: 0.1757 - val_loss: 0.0553 - val_mae: 0.1772\n",
      "Epoch 103/500\n",
      "5/5 [==============================] - 0s 72ms/step - loss: 0.0544 - mae: 0.1780 - val_loss: 0.0587 - val_mae: 0.1807\n",
      "Epoch 104/500\n",
      "5/5 [==============================] - 0s 73ms/step - loss: 0.0560 - mae: 0.1830 - val_loss: 0.0614 - val_mae: 0.1867\n",
      "Epoch 105/500\n",
      "5/5 [==============================] - 0s 73ms/step - loss: 0.0562 - mae: 0.1811 - val_loss: 0.0559 - val_mae: 0.1779\n",
      "Epoch 106/500\n",
      "5/5 [==============================] - 0s 72ms/step - loss: 0.0542 - mae: 0.1781 - val_loss: 0.0561 - val_mae: 0.1795\n",
      "Epoch 107/500\n",
      "5/5 [==============================] - 0s 73ms/step - loss: 0.0535 - mae: 0.1756 - val_loss: 0.0556 - val_mae: 0.1822\n",
      "Epoch 108/500\n",
      "5/5 [==============================] - 0s 72ms/step - loss: 0.0539 - mae: 0.1770 - val_loss: 0.0580 - val_mae: 0.1888\n",
      "Epoch 109/500\n",
      "5/5 [==============================] - 0s 72ms/step - loss: 0.0553 - mae: 0.1808 - val_loss: 0.0603 - val_mae: 0.1966\n",
      "Epoch 110/500\n",
      "5/5 [==============================] - 0s 73ms/step - loss: 0.0570 - mae: 0.1844 - val_loss: 0.0655 - val_mae: 0.2064\n",
      "Epoch 111/500\n",
      "5/5 [==============================] - 0s 74ms/step - loss: 0.0619 - mae: 0.1934 - val_loss: 0.0638 - val_mae: 0.2008\n",
      "Epoch 112/500\n",
      "5/5 [==============================] - 0s 73ms/step - loss: 0.0608 - mae: 0.1902 - val_loss: 0.0657 - val_mae: 0.2053\n",
      "Epoch 113/500\n",
      "5/5 [==============================] - 0s 72ms/step - loss: 0.0597 - mae: 0.1882 - val_loss: 0.0650 - val_mae: 0.2008\n",
      "Epoch 114/500\n",
      "5/5 [==============================] - 0s 73ms/step - loss: 0.0581 - mae: 0.1851 - val_loss: 0.0547 - val_mae: 0.1780\n",
      "Epoch 115/500\n",
      "5/5 [==============================] - 0s 73ms/step - loss: 0.0552 - mae: 0.1812 - val_loss: 0.0559 - val_mae: 0.1789\n",
      "Epoch 116/500\n",
      "5/5 [==============================] - 0s 72ms/step - loss: 0.0553 - mae: 0.1796 - val_loss: 0.0555 - val_mae: 0.1792\n",
      "Epoch 117/500\n",
      "5/5 [==============================] - 0s 72ms/step - loss: 0.0541 - mae: 0.1803 - val_loss: 0.0555 - val_mae: 0.1772\n",
      "Epoch 118/500\n",
      "5/5 [==============================] - 0s 72ms/step - loss: 0.0543 - mae: 0.1778 - val_loss: 0.0588 - val_mae: 0.1813\n",
      "Epoch 119/500\n",
      "5/5 [==============================] - 0s 72ms/step - loss: 0.0539 - mae: 0.1781 - val_loss: 0.0590 - val_mae: 0.1829\n",
      "Epoch 120/500\n",
      "5/5 [==============================] - 0s 72ms/step - loss: 0.0538 - mae: 0.1769 - val_loss: 0.0569 - val_mae: 0.1779\n",
      "Epoch 121/500\n",
      "5/5 [==============================] - 0s 72ms/step - loss: 0.0537 - mae: 0.1770 - val_loss: 0.0562 - val_mae: 0.1788\n",
      "Epoch 122/500\n",
      "5/5 [==============================] - 0s 72ms/step - loss: 0.0533 - mae: 0.1759 - val_loss: 0.0564 - val_mae: 0.1787\n",
      "Epoch 123/500\n",
      "5/5 [==============================] - 0s 73ms/step - loss: 0.0550 - mae: 0.1819 - val_loss: 0.0559 - val_mae: 0.1769\n",
      "Epoch 124/500\n",
      "5/5 [==============================] - 0s 72ms/step - loss: 0.0547 - mae: 0.1791 - val_loss: 0.0564 - val_mae: 0.1793\n",
      "Epoch 125/500\n",
      "5/5 [==============================] - 0s 72ms/step - loss: 0.0531 - mae: 0.1762 - val_loss: 0.0551 - val_mae: 0.1769\n",
      "Epoch 126/500\n",
      "5/5 [==============================] - 0s 73ms/step - loss: 0.0534 - mae: 0.1756 - val_loss: 0.0559 - val_mae: 0.1785\n",
      "Epoch 127/500\n",
      "5/5 [==============================] - 0s 73ms/step - loss: 0.0539 - mae: 0.1772 - val_loss: 0.0555 - val_mae: 0.1803\n",
      "Epoch 128/500\n",
      "5/5 [==============================] - 0s 72ms/step - loss: 0.0534 - mae: 0.1765 - val_loss: 0.0555 - val_mae: 0.1823\n",
      "Epoch 129/500\n",
      "5/5 [==============================] - 0s 73ms/step - loss: 0.0529 - mae: 0.1749 - val_loss: 0.0557 - val_mae: 0.1831\n",
      "Epoch 130/500\n",
      "5/5 [==============================] - 0s 73ms/step - loss: 0.0526 - mae: 0.1752 - val_loss: 0.0549 - val_mae: 0.1788\n",
      "Epoch 131/500\n",
      "5/5 [==============================] - 0s 72ms/step - loss: 0.0530 - mae: 0.1754 - val_loss: 0.0547 - val_mae: 0.1796\n",
      "Epoch 132/500\n",
      "5/5 [==============================] - 0s 71ms/step - loss: 0.0526 - mae: 0.1741 - val_loss: 0.0548 - val_mae: 0.1788\n",
      "Epoch 133/500\n",
      "1/5 [=====>........................] - ETA: 0s - loss: 0.0550 - mae: 0.1776"
     ]
    },
    {
     "name": "stderr",
     "output_type": "stream",
     "text": [
      "WARNING:absl:Found untraced functions such as lstm_cell_layer_call_fn, lstm_cell_layer_call_and_return_conditional_losses while saving (showing 2 of 2). These functions will not be directly callable after loading.\n"
     ]
    },
    {
     "name": "stdout",
     "output_type": "stream",
     "text": [
      "INFO:tensorflow:Assets written to: C:\\Users\\PARK\\Documents\\LAB\\RNN vs LSTM\\FInal Example\\wandb\\run-20221018_155335-3crds3hr\\files\\model-best\\assets\n"
     ]
    },
    {
     "name": "stderr",
     "output_type": "stream",
     "text": [
      "INFO:tensorflow:Assets written to: C:\\Users\\PARK\\Documents\\LAB\\RNN vs LSTM\\FInal Example\\wandb\\run-20221018_155335-3crds3hr\\files\\model-best\\assets\n",
      "\u001b[34m\u001b[1mwandb\u001b[0m: Adding directory to artifact (C:\\Users\\PARK\\Documents\\LAB\\RNN vs LSTM\\FInal Example\\wandb\\run-20221018_155335-3crds3hr\\files\\model-best)... Done. 0.1s\n"
     ]
    },
    {
     "name": "stdout",
     "output_type": "stream",
     "text": [
      "5/5 [==============================] - 4s 1s/step - loss: 0.0516 - mae: 0.1725 - val_loss: 0.0532 - val_mae: 0.1753\n",
      "Epoch 134/500\n",
      "5/5 [==============================] - 1s 115ms/step - loss: 0.0514 - mae: 0.1726 - val_loss: 0.0542 - val_mae: 0.1762\n",
      "Epoch 135/500\n",
      "5/5 [==============================] - 0s 73ms/step - loss: 0.0508 - mae: 0.1719 - val_loss: 0.0536 - val_mae: 0.1764\n",
      "Epoch 136/500\n",
      "5/5 [==============================] - 0s 71ms/step - loss: 0.0512 - mae: 0.1718 - val_loss: 0.0544 - val_mae: 0.1756\n",
      "Epoch 137/500\n",
      "5/5 [==============================] - 0s 72ms/step - loss: 0.0513 - mae: 0.1725 - val_loss: 0.0553 - val_mae: 0.1759\n",
      "Epoch 138/500\n",
      "5/5 [==============================] - 0s 70ms/step - loss: 0.0515 - mae: 0.1732 - val_loss: 0.0547 - val_mae: 0.1761\n",
      "Epoch 139/500\n",
      "5/5 [==============================] - 0s 72ms/step - loss: 0.0510 - mae: 0.1723 - val_loss: 0.0545 - val_mae: 0.1754\n",
      "Epoch 140/500\n",
      "1/5 [=====>........................] - ETA: 0s - loss: 0.0507 - mae: 0.1736"
     ]
    },
    {
     "name": "stderr",
     "output_type": "stream",
     "text": [
      "WARNING:absl:Found untraced functions such as lstm_cell_layer_call_fn, lstm_cell_layer_call_and_return_conditional_losses while saving (showing 2 of 2). These functions will not be directly callable after loading.\n"
     ]
    },
    {
     "name": "stdout",
     "output_type": "stream",
     "text": [
      "INFO:tensorflow:Assets written to: C:\\Users\\PARK\\Documents\\LAB\\RNN vs LSTM\\FInal Example\\wandb\\run-20221018_155335-3crds3hr\\files\\model-best\\assets\n"
     ]
    },
    {
     "name": "stderr",
     "output_type": "stream",
     "text": [
      "INFO:tensorflow:Assets written to: C:\\Users\\PARK\\Documents\\LAB\\RNN vs LSTM\\FInal Example\\wandb\\run-20221018_155335-3crds3hr\\files\\model-best\\assets\n",
      "\u001b[34m\u001b[1mwandb\u001b[0m: Adding directory to artifact (C:\\Users\\PARK\\Documents\\LAB\\RNN vs LSTM\\FInal Example\\wandb\\run-20221018_155335-3crds3hr\\files\\model-best)... Done. 0.1s\n"
     ]
    },
    {
     "name": "stdout",
     "output_type": "stream",
     "text": [
      "5/5 [==============================] - 4s 1s/step - loss: 0.0508 - mae: 0.1710 - val_loss: 0.0530 - val_mae: 0.1739\n",
      "Epoch 141/500\n",
      "5/5 [==============================] - 1s 114ms/step - loss: 0.0506 - mae: 0.1713 - val_loss: 0.0548 - val_mae: 0.1767\n",
      "Epoch 142/500\n",
      "5/5 [==============================] - 0s 74ms/step - loss: 0.0505 - mae: 0.1719 - val_loss: 0.0532 - val_mae: 0.1758\n",
      "Epoch 143/500\n",
      "5/5 [==============================] - 0s 75ms/step - loss: 0.0501 - mae: 0.1704 - val_loss: 0.0530 - val_mae: 0.1733\n",
      "Epoch 144/500\n",
      "5/5 [==============================] - 0s 72ms/step - loss: 0.0497 - mae: 0.1688 - val_loss: 0.0535 - val_mae: 0.1748\n",
      "Epoch 145/500\n",
      "5/5 [==============================] - 0s 74ms/step - loss: 0.0494 - mae: 0.1691 - val_loss: 0.0530 - val_mae: 0.1725\n",
      "Epoch 146/500\n",
      "1/5 [=====>........................] - ETA: 0s - loss: 0.0450 - mae: 0.1612"
     ]
    },
    {
     "name": "stderr",
     "output_type": "stream",
     "text": [
      "WARNING:absl:Found untraced functions such as lstm_cell_layer_call_fn, lstm_cell_layer_call_and_return_conditional_losses while saving (showing 2 of 2). These functions will not be directly callable after loading.\n"
     ]
    },
    {
     "name": "stdout",
     "output_type": "stream",
     "text": [
      "INFO:tensorflow:Assets written to: C:\\Users\\PARK\\Documents\\LAB\\RNN vs LSTM\\FInal Example\\wandb\\run-20221018_155335-3crds3hr\\files\\model-best\\assets\n"
     ]
    },
    {
     "name": "stderr",
     "output_type": "stream",
     "text": [
      "INFO:tensorflow:Assets written to: C:\\Users\\PARK\\Documents\\LAB\\RNN vs LSTM\\FInal Example\\wandb\\run-20221018_155335-3crds3hr\\files\\model-best\\assets\n",
      "\u001b[34m\u001b[1mwandb\u001b[0m: Adding directory to artifact (C:\\Users\\PARK\\Documents\\LAB\\RNN vs LSTM\\FInal Example\\wandb\\run-20221018_155335-3crds3hr\\files\\model-best)... Done. 0.1s\n"
     ]
    },
    {
     "name": "stdout",
     "output_type": "stream",
     "text": [
      "5/5 [==============================] - 4s 999ms/step - loss: 0.0494 - mae: 0.1690 - val_loss: 0.0521 - val_mae: 0.1732\n",
      "Epoch 147/500\n",
      "5/5 [==============================] - 1s 117ms/step - loss: 0.0484 - mae: 0.1676 - val_loss: 0.0522 - val_mae: 0.1746\n",
      "Epoch 148/500\n",
      "1/5 [=====>........................] - ETA: 0s - loss: 0.0480 - mae: 0.1663"
     ]
    },
    {
     "name": "stderr",
     "output_type": "stream",
     "text": [
      "WARNING:absl:Found untraced functions such as lstm_cell_layer_call_fn, lstm_cell_layer_call_and_return_conditional_losses while saving (showing 2 of 2). These functions will not be directly callable after loading.\n"
     ]
    },
    {
     "name": "stdout",
     "output_type": "stream",
     "text": [
      "INFO:tensorflow:Assets written to: C:\\Users\\PARK\\Documents\\LAB\\RNN vs LSTM\\FInal Example\\wandb\\run-20221018_155335-3crds3hr\\files\\model-best\\assets\n"
     ]
    },
    {
     "name": "stderr",
     "output_type": "stream",
     "text": [
      "INFO:tensorflow:Assets written to: C:\\Users\\PARK\\Documents\\LAB\\RNN vs LSTM\\FInal Example\\wandb\\run-20221018_155335-3crds3hr\\files\\model-best\\assets\n",
      "\u001b[34m\u001b[1mwandb\u001b[0m: Adding directory to artifact (C:\\Users\\PARK\\Documents\\LAB\\RNN vs LSTM\\FInal Example\\wandb\\run-20221018_155335-3crds3hr\\files\\model-best)... Done. 0.1s\n"
     ]
    },
    {
     "name": "stdout",
     "output_type": "stream",
     "text": [
      "5/5 [==============================] - 4s 1s/step - loss: 0.0482 - mae: 0.1673 - val_loss: 0.0513 - val_mae: 0.1713\n",
      "Epoch 149/500\n",
      "4/5 [=======================>......] - ETA: 0s - loss: 0.0476 - mae: 0.1672"
     ]
    },
    {
     "name": "stderr",
     "output_type": "stream",
     "text": [
      "WARNING:absl:Found untraced functions such as lstm_cell_layer_call_fn, lstm_cell_layer_call_and_return_conditional_losses while saving (showing 2 of 2). These functions will not be directly callable after loading.\n"
     ]
    },
    {
     "name": "stdout",
     "output_type": "stream",
     "text": [
      "INFO:tensorflow:Assets written to: C:\\Users\\PARK\\Documents\\LAB\\RNN vs LSTM\\FInal Example\\wandb\\run-20221018_155335-3crds3hr\\files\\model-best\\assets\n"
     ]
    },
    {
     "name": "stderr",
     "output_type": "stream",
     "text": [
      "INFO:tensorflow:Assets written to: C:\\Users\\PARK\\Documents\\LAB\\RNN vs LSTM\\FInal Example\\wandb\\run-20221018_155335-3crds3hr\\files\\model-best\\assets\n",
      "\u001b[34m\u001b[1mwandb\u001b[0m: Adding directory to artifact (C:\\Users\\PARK\\Documents\\LAB\\RNN vs LSTM\\FInal Example\\wandb\\run-20221018_155335-3crds3hr\\files\\model-best)... Done. 0.1s\n"
     ]
    },
    {
     "name": "stdout",
     "output_type": "stream",
     "text": [
      "5/5 [==============================] - 4s 1s/step - loss: 0.0470 - mae: 0.1660 - val_loss: 0.0511 - val_mae: 0.1738\n",
      "Epoch 150/500\n",
      "5/5 [==============================] - ETA: 0s - loss: 0.0459 - mae: 0.1646"
     ]
    },
    {
     "name": "stderr",
     "output_type": "stream",
     "text": [
      "WARNING:absl:Found untraced functions such as lstm_cell_layer_call_fn, lstm_cell_layer_call_and_return_conditional_losses while saving (showing 2 of 2). These functions will not be directly callable after loading.\n"
     ]
    },
    {
     "name": "stdout",
     "output_type": "stream",
     "text": [
      "INFO:tensorflow:Assets written to: C:\\Users\\PARK\\Documents\\LAB\\RNN vs LSTM\\FInal Example\\wandb\\run-20221018_155335-3crds3hr\\files\\model-best\\assets\n"
     ]
    },
    {
     "name": "stderr",
     "output_type": "stream",
     "text": [
      "INFO:tensorflow:Assets written to: C:\\Users\\PARK\\Documents\\LAB\\RNN vs LSTM\\FInal Example\\wandb\\run-20221018_155335-3crds3hr\\files\\model-best\\assets\n",
      "\u001b[34m\u001b[1mwandb\u001b[0m: Adding directory to artifact (C:\\Users\\PARK\\Documents\\LAB\\RNN vs LSTM\\FInal Example\\wandb\\run-20221018_155335-3crds3hr\\files\\model-best)... Done. 0.1s\n"
     ]
    },
    {
     "name": "stdout",
     "output_type": "stream",
     "text": [
      "5/5 [==============================] - 4s 1s/step - loss: 0.0459 - mae: 0.1646 - val_loss: 0.0508 - val_mae: 0.1732\n",
      "Epoch 151/500\n",
      "3/5 [=================>............] - ETA: 0s - loss: 0.0467 - mae: 0.1661"
     ]
    },
    {
     "name": "stderr",
     "output_type": "stream",
     "text": [
      "WARNING:absl:Found untraced functions such as lstm_cell_layer_call_fn, lstm_cell_layer_call_and_return_conditional_losses while saving (showing 2 of 2). These functions will not be directly callable after loading.\n"
     ]
    },
    {
     "name": "stdout",
     "output_type": "stream",
     "text": [
      "INFO:tensorflow:Assets written to: C:\\Users\\PARK\\Documents\\LAB\\RNN vs LSTM\\FInal Example\\wandb\\run-20221018_155335-3crds3hr\\files\\model-best\\assets\n"
     ]
    },
    {
     "name": "stderr",
     "output_type": "stream",
     "text": [
      "INFO:tensorflow:Assets written to: C:\\Users\\PARK\\Documents\\LAB\\RNN vs LSTM\\FInal Example\\wandb\\run-20221018_155335-3crds3hr\\files\\model-best\\assets\n",
      "\u001b[34m\u001b[1mwandb\u001b[0m: Adding directory to artifact (C:\\Users\\PARK\\Documents\\LAB\\RNN vs LSTM\\FInal Example\\wandb\\run-20221018_155335-3crds3hr\\files\\model-best)... Done. 0.1s\n"
     ]
    },
    {
     "name": "stdout",
     "output_type": "stream",
     "text": [
      "5/5 [==============================] - 4s 1s/step - loss: 0.0462 - mae: 0.1648 - val_loss: 0.0497 - val_mae: 0.1718\n",
      "Epoch 152/500\n",
      "5/5 [==============================] - 1s 112ms/step - loss: 0.0450 - mae: 0.1621 - val_loss: 0.0502 - val_mae: 0.1748\n",
      "Epoch 153/500\n",
      "1/5 [=====>........................] - ETA: 0s - loss: 0.0457 - mae: 0.1645"
     ]
    },
    {
     "name": "stderr",
     "output_type": "stream",
     "text": [
      "WARNING:absl:Found untraced functions such as lstm_cell_layer_call_fn, lstm_cell_layer_call_and_return_conditional_losses while saving (showing 2 of 2). These functions will not be directly callable after loading.\n"
     ]
    },
    {
     "name": "stdout",
     "output_type": "stream",
     "text": [
      "INFO:tensorflow:Assets written to: C:\\Users\\PARK\\Documents\\LAB\\RNN vs LSTM\\FInal Example\\wandb\\run-20221018_155335-3crds3hr\\files\\model-best\\assets\n"
     ]
    },
    {
     "name": "stderr",
     "output_type": "stream",
     "text": [
      "INFO:tensorflow:Assets written to: C:\\Users\\PARK\\Documents\\LAB\\RNN vs LSTM\\FInal Example\\wandb\\run-20221018_155335-3crds3hr\\files\\model-best\\assets\n",
      "\u001b[34m\u001b[1mwandb\u001b[0m: Adding directory to artifact (C:\\Users\\PARK\\Documents\\LAB\\RNN vs LSTM\\FInal Example\\wandb\\run-20221018_155335-3crds3hr\\files\\model-best)... Done. 0.1s\n"
     ]
    },
    {
     "name": "stdout",
     "output_type": "stream",
     "text": [
      "5/5 [==============================] - 4s 1s/step - loss: 0.0451 - mae: 0.1640 - val_loss: 0.0485 - val_mae: 0.1696\n",
      "Epoch 154/500\n",
      "5/5 [==============================] - ETA: 0s - loss: 0.0439 - mae: 0.1602"
     ]
    },
    {
     "name": "stderr",
     "output_type": "stream",
     "text": [
      "WARNING:absl:Found untraced functions such as lstm_cell_layer_call_fn, lstm_cell_layer_call_and_return_conditional_losses while saving (showing 2 of 2). These functions will not be directly callable after loading.\n"
     ]
    },
    {
     "name": "stdout",
     "output_type": "stream",
     "text": [
      "INFO:tensorflow:Assets written to: C:\\Users\\PARK\\Documents\\LAB\\RNN vs LSTM\\FInal Example\\wandb\\run-20221018_155335-3crds3hr\\files\\model-best\\assets\n"
     ]
    },
    {
     "name": "stderr",
     "output_type": "stream",
     "text": [
      "INFO:tensorflow:Assets written to: C:\\Users\\PARK\\Documents\\LAB\\RNN vs LSTM\\FInal Example\\wandb\\run-20221018_155335-3crds3hr\\files\\model-best\\assets\n",
      "\u001b[34m\u001b[1mwandb\u001b[0m: Adding directory to artifact (C:\\Users\\PARK\\Documents\\LAB\\RNN vs LSTM\\FInal Example\\wandb\\run-20221018_155335-3crds3hr\\files\\model-best)... Done. 0.1s\n"
     ]
    },
    {
     "name": "stdout",
     "output_type": "stream",
     "text": [
      "5/5 [==============================] - 4s 1s/step - loss: 0.0439 - mae: 0.1602 - val_loss: 0.0470 - val_mae: 0.1662\n",
      "Epoch 155/500\n",
      "2/5 [===========>..................] - ETA: 0s - loss: 0.0422 - mae: 0.1577"
     ]
    },
    {
     "name": "stderr",
     "output_type": "stream",
     "text": [
      "WARNING:absl:Found untraced functions such as lstm_cell_layer_call_fn, lstm_cell_layer_call_and_return_conditional_losses while saving (showing 2 of 2). These functions will not be directly callable after loading.\n"
     ]
    },
    {
     "name": "stdout",
     "output_type": "stream",
     "text": [
      "INFO:tensorflow:Assets written to: C:\\Users\\PARK\\Documents\\LAB\\RNN vs LSTM\\FInal Example\\wandb\\run-20221018_155335-3crds3hr\\files\\model-best\\assets\n"
     ]
    },
    {
     "name": "stderr",
     "output_type": "stream",
     "text": [
      "INFO:tensorflow:Assets written to: C:\\Users\\PARK\\Documents\\LAB\\RNN vs LSTM\\FInal Example\\wandb\\run-20221018_155335-3crds3hr\\files\\model-best\\assets\n",
      "\u001b[34m\u001b[1mwandb\u001b[0m: Adding directory to artifact (C:\\Users\\PARK\\Documents\\LAB\\RNN vs LSTM\\FInal Example\\wandb\\run-20221018_155335-3crds3hr\\files\\model-best)... Done. 0.1s\n"
     ]
    },
    {
     "name": "stdout",
     "output_type": "stream",
     "text": [
      "5/5 [==============================] - 4s 1s/step - loss: 0.0432 - mae: 0.1595 - val_loss: 0.0467 - val_mae: 0.1657\n",
      "Epoch 156/500\n",
      "4/5 [=======================>......] - ETA: 0s - loss: 0.0436 - mae: 0.1608"
     ]
    },
    {
     "name": "stderr",
     "output_type": "stream",
     "text": [
      "WARNING:absl:Found untraced functions such as lstm_cell_layer_call_fn, lstm_cell_layer_call_and_return_conditional_losses while saving (showing 2 of 2). These functions will not be directly callable after loading.\n"
     ]
    },
    {
     "name": "stdout",
     "output_type": "stream",
     "text": [
      "INFO:tensorflow:Assets written to: C:\\Users\\PARK\\Documents\\LAB\\RNN vs LSTM\\FInal Example\\wandb\\run-20221018_155335-3crds3hr\\files\\model-best\\assets\n"
     ]
    },
    {
     "name": "stderr",
     "output_type": "stream",
     "text": [
      "INFO:tensorflow:Assets written to: C:\\Users\\PARK\\Documents\\LAB\\RNN vs LSTM\\FInal Example\\wandb\\run-20221018_155335-3crds3hr\\files\\model-best\\assets\n",
      "\u001b[34m\u001b[1mwandb\u001b[0m: Adding directory to artifact (C:\\Users\\PARK\\Documents\\LAB\\RNN vs LSTM\\FInal Example\\wandb\\run-20221018_155335-3crds3hr\\files\\model-best)... Done. 0.1s\n"
     ]
    },
    {
     "name": "stdout",
     "output_type": "stream",
     "text": [
      "5/5 [==============================] - 4s 1s/step - loss: 0.0426 - mae: 0.1588 - val_loss: 0.0455 - val_mae: 0.1639\n",
      "Epoch 157/500\n",
      "5/5 [==============================] - 0s 87ms/step - loss: 0.0420 - mae: 0.1572 - val_loss: 0.0455 - val_mae: 0.1622\n",
      "Epoch 158/500\n",
      "1/5 [=====>........................] - ETA: 0s - loss: 0.0412 - mae: 0.1551"
     ]
    },
    {
     "name": "stderr",
     "output_type": "stream",
     "text": [
      "WARNING:absl:Found untraced functions such as lstm_cell_layer_call_fn, lstm_cell_layer_call_and_return_conditional_losses while saving (showing 2 of 2). These functions will not be directly callable after loading.\n"
     ]
    },
    {
     "name": "stdout",
     "output_type": "stream",
     "text": [
      "INFO:tensorflow:Assets written to: C:\\Users\\PARK\\Documents\\LAB\\RNN vs LSTM\\FInal Example\\wandb\\run-20221018_155335-3crds3hr\\files\\model-best\\assets\n"
     ]
    },
    {
     "name": "stderr",
     "output_type": "stream",
     "text": [
      "INFO:tensorflow:Assets written to: C:\\Users\\PARK\\Documents\\LAB\\RNN vs LSTM\\FInal Example\\wandb\\run-20221018_155335-3crds3hr\\files\\model-best\\assets\n",
      "\u001b[34m\u001b[1mwandb\u001b[0m: Adding directory to artifact (C:\\Users\\PARK\\Documents\\LAB\\RNN vs LSTM\\FInal Example\\wandb\\run-20221018_155335-3crds3hr\\files\\model-best)... Done. 0.1s\n"
     ]
    },
    {
     "name": "stdout",
     "output_type": "stream",
     "text": [
      "5/5 [==============================] - 4s 973ms/step - loss: 0.0423 - mae: 0.1565 - val_loss: 0.0446 - val_mae: 0.1612\n",
      "Epoch 159/500\n",
      "5/5 [==============================] - 0s 96ms/step - loss: 0.0421 - mae: 0.1581 - val_loss: 0.0469 - val_mae: 0.1658\n",
      "Epoch 160/500\n",
      "5/5 [==============================] - 0s 74ms/step - loss: 0.0434 - mae: 0.1587 - val_loss: 0.0448 - val_mae: 0.1610\n",
      "Epoch 161/500\n",
      "5/5 [==============================] - 0s 75ms/step - loss: 0.0425 - mae: 0.1581 - val_loss: 0.0450 - val_mae: 0.1627\n",
      "Epoch 162/500\n",
      "5/5 [==============================] - 0s 73ms/step - loss: 0.0422 - mae: 0.1563 - val_loss: 0.0456 - val_mae: 0.1614\n",
      "Epoch 163/500\n",
      "5/5 [==============================] - 0s 74ms/step - loss: 0.0427 - mae: 0.1587 - val_loss: 0.0494 - val_mae: 0.1691\n",
      "Epoch 164/500\n",
      "5/5 [==============================] - 0s 74ms/step - loss: 0.0447 - mae: 0.1620 - val_loss: 0.0490 - val_mae: 0.1700\n",
      "Epoch 165/500\n",
      "5/5 [==============================] - 0s 75ms/step - loss: 0.0442 - mae: 0.1603 - val_loss: 0.0466 - val_mae: 0.1648\n",
      "Epoch 166/500\n",
      "5/5 [==============================] - 0s 75ms/step - loss: 0.0424 - mae: 0.1581 - val_loss: 0.0466 - val_mae: 0.1634\n",
      "Epoch 167/500\n",
      "5/5 [==============================] - 0s 77ms/step - loss: 0.0419 - mae: 0.1565 - val_loss: 0.0451 - val_mae: 0.1608\n",
      "Epoch 168/500\n",
      "5/5 [==============================] - 0s 71ms/step - loss: 0.0423 - mae: 0.1555 - val_loss: 0.0473 - val_mae: 0.1651\n",
      "Epoch 169/500\n",
      "5/5 [==============================] - 0s 72ms/step - loss: 0.0420 - mae: 0.1568 - val_loss: 0.0458 - val_mae: 0.1611\n",
      "Epoch 170/500\n",
      "1/5 [=====>........................] - ETA: 0s - loss: 0.0453 - mae: 0.1631"
     ]
    },
    {
     "name": "stderr",
     "output_type": "stream",
     "text": [
      "WARNING:absl:Found untraced functions such as lstm_cell_layer_call_fn, lstm_cell_layer_call_and_return_conditional_losses while saving (showing 2 of 2). These functions will not be directly callable after loading.\n"
     ]
    },
    {
     "name": "stdout",
     "output_type": "stream",
     "text": [
      "INFO:tensorflow:Assets written to: C:\\Users\\PARK\\Documents\\LAB\\RNN vs LSTM\\FInal Example\\wandb\\run-20221018_155335-3crds3hr\\files\\model-best\\assets\n"
     ]
    },
    {
     "name": "stderr",
     "output_type": "stream",
     "text": [
      "INFO:tensorflow:Assets written to: C:\\Users\\PARK\\Documents\\LAB\\RNN vs LSTM\\FInal Example\\wandb\\run-20221018_155335-3crds3hr\\files\\model-best\\assets\n",
      "\u001b[34m\u001b[1mwandb\u001b[0m: Adding directory to artifact (C:\\Users\\PARK\\Documents\\LAB\\RNN vs LSTM\\FInal Example\\wandb\\run-20221018_155335-3crds3hr\\files\\model-best)... Done. 0.1s\n"
     ]
    },
    {
     "name": "stdout",
     "output_type": "stream",
     "text": [
      "5/5 [==============================] - 4s 1s/step - loss: 0.0413 - mae: 0.1539 - val_loss: 0.0444 - val_mae: 0.1605\n",
      "Epoch 171/500\n",
      "5/5 [==============================] - 0s 105ms/step - loss: 0.0408 - mae: 0.1549 - val_loss: 0.0453 - val_mae: 0.1604\n",
      "Epoch 172/500\n",
      "1/5 [=====>........................] - ETA: 0s - loss: 0.0401 - mae: 0.1535"
     ]
    },
    {
     "name": "stderr",
     "output_type": "stream",
     "text": [
      "WARNING:absl:Found untraced functions such as lstm_cell_layer_call_fn, lstm_cell_layer_call_and_return_conditional_losses while saving (showing 2 of 2). These functions will not be directly callable after loading.\n"
     ]
    },
    {
     "name": "stdout",
     "output_type": "stream",
     "text": [
      "INFO:tensorflow:Assets written to: C:\\Users\\PARK\\Documents\\LAB\\RNN vs LSTM\\FInal Example\\wandb\\run-20221018_155335-3crds3hr\\files\\model-best\\assets\n"
     ]
    },
    {
     "name": "stderr",
     "output_type": "stream",
     "text": [
      "INFO:tensorflow:Assets written to: C:\\Users\\PARK\\Documents\\LAB\\RNN vs LSTM\\FInal Example\\wandb\\run-20221018_155335-3crds3hr\\files\\model-best\\assets\n",
      "\u001b[34m\u001b[1mwandb\u001b[0m: Adding directory to artifact (C:\\Users\\PARK\\Documents\\LAB\\RNN vs LSTM\\FInal Example\\wandb\\run-20221018_155335-3crds3hr\\files\\model-best)... Done. 0.1s\n"
     ]
    },
    {
     "name": "stdout",
     "output_type": "stream",
     "text": [
      "5/5 [==============================] - 4s 1s/step - loss: 0.0401 - mae: 0.1523 - val_loss: 0.0429 - val_mae: 0.1566\n",
      "Epoch 173/500\n",
      "3/5 [=================>............] - ETA: 0s - loss: 0.0398 - mae: 0.1509"
     ]
    },
    {
     "name": "stderr",
     "output_type": "stream",
     "text": [
      "WARNING:absl:Found untraced functions such as lstm_cell_layer_call_fn, lstm_cell_layer_call_and_return_conditional_losses while saving (showing 2 of 2). These functions will not be directly callable after loading.\n"
     ]
    },
    {
     "name": "stdout",
     "output_type": "stream",
     "text": [
      "INFO:tensorflow:Assets written to: C:\\Users\\PARK\\Documents\\LAB\\RNN vs LSTM\\FInal Example\\wandb\\run-20221018_155335-3crds3hr\\files\\model-best\\assets\n"
     ]
    },
    {
     "name": "stderr",
     "output_type": "stream",
     "text": [
      "INFO:tensorflow:Assets written to: C:\\Users\\PARK\\Documents\\LAB\\RNN vs LSTM\\FInal Example\\wandb\\run-20221018_155335-3crds3hr\\files\\model-best\\assets\n",
      "\u001b[34m\u001b[1mwandb\u001b[0m: Adding directory to artifact (C:\\Users\\PARK\\Documents\\LAB\\RNN vs LSTM\\FInal Example\\wandb\\run-20221018_155335-3crds3hr\\files\\model-best)... Done. 0.1s\n"
     ]
    },
    {
     "name": "stdout",
     "output_type": "stream",
     "text": [
      "5/5 [==============================] - 4s 1s/step - loss: 0.0398 - mae: 0.1513 - val_loss: 0.0414 - val_mae: 0.1546\n",
      "Epoch 174/500\n",
      "5/5 [==============================] - 1s 110ms/step - loss: 0.0387 - mae: 0.1493 - val_loss: 0.0427 - val_mae: 0.1551\n",
      "Epoch 175/500\n",
      "1/5 [=====>........................] - ETA: 0s - loss: 0.0417 - mae: 0.1542"
     ]
    },
    {
     "name": "stderr",
     "output_type": "stream",
     "text": [
      "WARNING:absl:Found untraced functions such as lstm_cell_layer_call_fn, lstm_cell_layer_call_and_return_conditional_losses while saving (showing 2 of 2). These functions will not be directly callable after loading.\n"
     ]
    },
    {
     "name": "stdout",
     "output_type": "stream",
     "text": [
      "INFO:tensorflow:Assets written to: C:\\Users\\PARK\\Documents\\LAB\\RNN vs LSTM\\FInal Example\\wandb\\run-20221018_155335-3crds3hr\\files\\model-best\\assets\n"
     ]
    },
    {
     "name": "stderr",
     "output_type": "stream",
     "text": [
      "INFO:tensorflow:Assets written to: C:\\Users\\PARK\\Documents\\LAB\\RNN vs LSTM\\FInal Example\\wandb\\run-20221018_155335-3crds3hr\\files\\model-best\\assets\n",
      "\u001b[34m\u001b[1mwandb\u001b[0m: Adding directory to artifact (C:\\Users\\PARK\\Documents\\LAB\\RNN vs LSTM\\FInal Example\\wandb\\run-20221018_155335-3crds3hr\\files\\model-best)... Done. 0.1s\n"
     ]
    },
    {
     "name": "stdout",
     "output_type": "stream",
     "text": [
      "5/5 [==============================] - 4s 1s/step - loss: 0.0383 - mae: 0.1484 - val_loss: 0.0396 - val_mae: 0.1507\n",
      "Epoch 176/500\n",
      "5/5 [==============================] - 0s 94ms/step - loss: 0.0370 - mae: 0.1460 - val_loss: 0.0401 - val_mae: 0.1506\n",
      "Epoch 177/500\n",
      "1/5 [=====>........................] - ETA: 0s - loss: 0.0345 - mae: 0.1388"
     ]
    },
    {
     "name": "stderr",
     "output_type": "stream",
     "text": [
      "WARNING:absl:Found untraced functions such as lstm_cell_layer_call_fn, lstm_cell_layer_call_and_return_conditional_losses while saving (showing 2 of 2). These functions will not be directly callable after loading.\n"
     ]
    },
    {
     "name": "stdout",
     "output_type": "stream",
     "text": [
      "INFO:tensorflow:Assets written to: C:\\Users\\PARK\\Documents\\LAB\\RNN vs LSTM\\FInal Example\\wandb\\run-20221018_155335-3crds3hr\\files\\model-best\\assets\n"
     ]
    },
    {
     "name": "stderr",
     "output_type": "stream",
     "text": [
      "INFO:tensorflow:Assets written to: C:\\Users\\PARK\\Documents\\LAB\\RNN vs LSTM\\FInal Example\\wandb\\run-20221018_155335-3crds3hr\\files\\model-best\\assets\n",
      "\u001b[34m\u001b[1mwandb\u001b[0m: Adding directory to artifact (C:\\Users\\PARK\\Documents\\LAB\\RNN vs LSTM\\FInal Example\\wandb\\run-20221018_155335-3crds3hr\\files\\model-best)... Done. 0.1s\n"
     ]
    },
    {
     "name": "stdout",
     "output_type": "stream",
     "text": [
      "5/5 [==============================] - 4s 1s/step - loss: 0.0373 - mae: 0.1458 - val_loss: 0.0381 - val_mae: 0.1466\n",
      "Epoch 178/500\n",
      "4/5 [=======================>......] - ETA: 0s - loss: 0.0351 - mae: 0.1416"
     ]
    },
    {
     "name": "stderr",
     "output_type": "stream",
     "text": [
      "WARNING:absl:Found untraced functions such as lstm_cell_layer_call_fn, lstm_cell_layer_call_and_return_conditional_losses while saving (showing 2 of 2). These functions will not be directly callable after loading.\n"
     ]
    },
    {
     "name": "stdout",
     "output_type": "stream",
     "text": [
      "INFO:tensorflow:Assets written to: C:\\Users\\PARK\\Documents\\LAB\\RNN vs LSTM\\FInal Example\\wandb\\run-20221018_155335-3crds3hr\\files\\model-best\\assets\n"
     ]
    },
    {
     "name": "stderr",
     "output_type": "stream",
     "text": [
      "INFO:tensorflow:Assets written to: C:\\Users\\PARK\\Documents\\LAB\\RNN vs LSTM\\FInal Example\\wandb\\run-20221018_155335-3crds3hr\\files\\model-best\\assets\n",
      "\u001b[34m\u001b[1mwandb\u001b[0m: Adding directory to artifact (C:\\Users\\PARK\\Documents\\LAB\\RNN vs LSTM\\FInal Example\\wandb\\run-20221018_155335-3crds3hr\\files\\model-best)... Done. 0.1s\n"
     ]
    },
    {
     "name": "stdout",
     "output_type": "stream",
     "text": [
      "5/5 [==============================] - 4s 1s/step - loss: 0.0354 - mae: 0.1424 - val_loss: 0.0366 - val_mae: 0.1440\n",
      "Epoch 179/500\n",
      "3/5 [=================>............] - ETA: 0s - loss: 0.0342 - mae: 0.1395"
     ]
    },
    {
     "name": "stderr",
     "output_type": "stream",
     "text": [
      "WARNING:absl:Found untraced functions such as lstm_cell_layer_call_fn, lstm_cell_layer_call_and_return_conditional_losses while saving (showing 2 of 2). These functions will not be directly callable after loading.\n"
     ]
    },
    {
     "name": "stdout",
     "output_type": "stream",
     "text": [
      "INFO:tensorflow:Assets written to: C:\\Users\\PARK\\Documents\\LAB\\RNN vs LSTM\\FInal Example\\wandb\\run-20221018_155335-3crds3hr\\files\\model-best\\assets\n"
     ]
    },
    {
     "name": "stderr",
     "output_type": "stream",
     "text": [
      "INFO:tensorflow:Assets written to: C:\\Users\\PARK\\Documents\\LAB\\RNN vs LSTM\\FInal Example\\wandb\\run-20221018_155335-3crds3hr\\files\\model-best\\assets\n",
      "\u001b[34m\u001b[1mwandb\u001b[0m: Adding directory to artifact (C:\\Users\\PARK\\Documents\\LAB\\RNN vs LSTM\\FInal Example\\wandb\\run-20221018_155335-3crds3hr\\files\\model-best)... Done. 0.1s\n"
     ]
    },
    {
     "name": "stdout",
     "output_type": "stream",
     "text": [
      "5/5 [==============================] - 4s 1s/step - loss: 0.0346 - mae: 0.1402 - val_loss: 0.0359 - val_mae: 0.1451\n",
      "Epoch 180/500\n",
      "5/5 [==============================] - 0s 97ms/step - loss: 0.0336 - mae: 0.1386 - val_loss: 0.0367 - val_mae: 0.1490\n",
      "Epoch 181/500\n",
      "5/5 [==============================] - 0s 78ms/step - loss: 0.0335 - mae: 0.1401 - val_loss: 0.0365 - val_mae: 0.1485\n",
      "Epoch 182/500\n",
      "1/5 [=====>........................] - ETA: 0s - loss: 0.0329 - mae: 0.1394"
     ]
    },
    {
     "name": "stderr",
     "output_type": "stream",
     "text": [
      "WARNING:absl:Found untraced functions such as lstm_cell_layer_call_fn, lstm_cell_layer_call_and_return_conditional_losses while saving (showing 2 of 2). These functions will not be directly callable after loading.\n"
     ]
    },
    {
     "name": "stdout",
     "output_type": "stream",
     "text": [
      "INFO:tensorflow:Assets written to: C:\\Users\\PARK\\Documents\\LAB\\RNN vs LSTM\\FInal Example\\wandb\\run-20221018_155335-3crds3hr\\files\\model-best\\assets\n"
     ]
    },
    {
     "name": "stderr",
     "output_type": "stream",
     "text": [
      "INFO:tensorflow:Assets written to: C:\\Users\\PARK\\Documents\\LAB\\RNN vs LSTM\\FInal Example\\wandb\\run-20221018_155335-3crds3hr\\files\\model-best\\assets\n",
      "\u001b[34m\u001b[1mwandb\u001b[0m: Adding directory to artifact (C:\\Users\\PARK\\Documents\\LAB\\RNN vs LSTM\\FInal Example\\wandb\\run-20221018_155335-3crds3hr\\files\\model-best)... Done. 0.1s\n"
     ]
    },
    {
     "name": "stdout",
     "output_type": "stream",
     "text": [
      "5/5 [==============================] - 4s 1s/step - loss: 0.0325 - mae: 0.1378 - val_loss: 0.0328 - val_mae: 0.1408\n",
      "Epoch 183/500\n",
      "4/5 [=======================>......] - ETA: 0s - loss: 0.0314 - mae: 0.1357"
     ]
    },
    {
     "name": "stderr",
     "output_type": "stream",
     "text": [
      "WARNING:absl:Found untraced functions such as lstm_cell_layer_call_fn, lstm_cell_layer_call_and_return_conditional_losses while saving (showing 2 of 2). These functions will not be directly callable after loading.\n"
     ]
    },
    {
     "name": "stdout",
     "output_type": "stream",
     "text": [
      "INFO:tensorflow:Assets written to: C:\\Users\\PARK\\Documents\\LAB\\RNN vs LSTM\\FInal Example\\wandb\\run-20221018_155335-3crds3hr\\files\\model-best\\assets\n"
     ]
    },
    {
     "name": "stderr",
     "output_type": "stream",
     "text": [
      "INFO:tensorflow:Assets written to: C:\\Users\\PARK\\Documents\\LAB\\RNN vs LSTM\\FInal Example\\wandb\\run-20221018_155335-3crds3hr\\files\\model-best\\assets\n",
      "\u001b[34m\u001b[1mwandb\u001b[0m: Adding directory to artifact (C:\\Users\\PARK\\Documents\\LAB\\RNN vs LSTM\\FInal Example\\wandb\\run-20221018_155335-3crds3hr\\files\\model-best)... Done. 0.1s\n"
     ]
    },
    {
     "name": "stdout",
     "output_type": "stream",
     "text": [
      "5/5 [==============================] - 5s 1s/step - loss: 0.0313 - mae: 0.1352 - val_loss: 0.0327 - val_mae: 0.1391\n",
      "Epoch 184/500\n",
      "3/5 [=================>............] - ETA: 0s - loss: 0.0304 - mae: 0.1321"
     ]
    },
    {
     "name": "stderr",
     "output_type": "stream",
     "text": [
      "WARNING:absl:Found untraced functions such as lstm_cell_layer_call_fn, lstm_cell_layer_call_and_return_conditional_losses while saving (showing 2 of 2). These functions will not be directly callable after loading.\n"
     ]
    },
    {
     "name": "stdout",
     "output_type": "stream",
     "text": [
      "INFO:tensorflow:Assets written to: C:\\Users\\PARK\\Documents\\LAB\\RNN vs LSTM\\FInal Example\\wandb\\run-20221018_155335-3crds3hr\\files\\model-best\\assets\n"
     ]
    },
    {
     "name": "stderr",
     "output_type": "stream",
     "text": [
      "INFO:tensorflow:Assets written to: C:\\Users\\PARK\\Documents\\LAB\\RNN vs LSTM\\FInal Example\\wandb\\run-20221018_155335-3crds3hr\\files\\model-best\\assets\n",
      "\u001b[34m\u001b[1mwandb\u001b[0m: Adding directory to artifact (C:\\Users\\PARK\\Documents\\LAB\\RNN vs LSTM\\FInal Example\\wandb\\run-20221018_155335-3crds3hr\\files\\model-best)... Done. 0.1s\n"
     ]
    },
    {
     "name": "stdout",
     "output_type": "stream",
     "text": [
      "5/5 [==============================] - 4s 1s/step - loss: 0.0299 - mae: 0.1311 - val_loss: 0.0320 - val_mae: 0.1391\n",
      "Epoch 185/500\n",
      "2/5 [===========>..................] - ETA: 0s - loss: 0.0296 - mae: 0.1318"
     ]
    },
    {
     "name": "stderr",
     "output_type": "stream",
     "text": [
      "WARNING:absl:Found untraced functions such as lstm_cell_layer_call_fn, lstm_cell_layer_call_and_return_conditional_losses while saving (showing 2 of 2). These functions will not be directly callable after loading.\n"
     ]
    },
    {
     "name": "stdout",
     "output_type": "stream",
     "text": [
      "INFO:tensorflow:Assets written to: C:\\Users\\PARK\\Documents\\LAB\\RNN vs LSTM\\FInal Example\\wandb\\run-20221018_155335-3crds3hr\\files\\model-best\\assets\n"
     ]
    },
    {
     "name": "stderr",
     "output_type": "stream",
     "text": [
      "INFO:tensorflow:Assets written to: C:\\Users\\PARK\\Documents\\LAB\\RNN vs LSTM\\FInal Example\\wandb\\run-20221018_155335-3crds3hr\\files\\model-best\\assets\n",
      "\u001b[34m\u001b[1mwandb\u001b[0m: Adding directory to artifact (C:\\Users\\PARK\\Documents\\LAB\\RNN vs LSTM\\FInal Example\\wandb\\run-20221018_155335-3crds3hr\\files\\model-best)... Done. 0.1s\n"
     ]
    },
    {
     "name": "stdout",
     "output_type": "stream",
     "text": [
      "5/5 [==============================] - 4s 1s/step - loss: 0.0293 - mae: 0.1290 - val_loss: 0.0308 - val_mae: 0.1345\n",
      "Epoch 186/500\n",
      "4/5 [=======================>......] - ETA: 0s - loss: 0.0293 - mae: 0.1295"
     ]
    },
    {
     "name": "stderr",
     "output_type": "stream",
     "text": [
      "WARNING:absl:Found untraced functions such as lstm_cell_layer_call_fn, lstm_cell_layer_call_and_return_conditional_losses while saving (showing 2 of 2). These functions will not be directly callable after loading.\n"
     ]
    },
    {
     "name": "stdout",
     "output_type": "stream",
     "text": [
      "INFO:tensorflow:Assets written to: C:\\Users\\PARK\\Documents\\LAB\\RNN vs LSTM\\FInal Example\\wandb\\run-20221018_155335-3crds3hr\\files\\model-best\\assets\n"
     ]
    },
    {
     "name": "stderr",
     "output_type": "stream",
     "text": [
      "INFO:tensorflow:Assets written to: C:\\Users\\PARK\\Documents\\LAB\\RNN vs LSTM\\FInal Example\\wandb\\run-20221018_155335-3crds3hr\\files\\model-best\\assets\n",
      "\u001b[34m\u001b[1mwandb\u001b[0m: Adding directory to artifact (C:\\Users\\PARK\\Documents\\LAB\\RNN vs LSTM\\FInal Example\\wandb\\run-20221018_155335-3crds3hr\\files\\model-best)... Done. 0.1s\n"
     ]
    },
    {
     "name": "stdout",
     "output_type": "stream",
     "text": [
      "5/5 [==============================] - 4s 1s/step - loss: 0.0296 - mae: 0.1301 - val_loss: 0.0304 - val_mae: 0.1333\n",
      "Epoch 187/500\n",
      "5/5 [==============================] - 1s 119ms/step - loss: 0.0293 - mae: 0.1306 - val_loss: 0.0305 - val_mae: 0.1341\n",
      "Epoch 188/500\n",
      "1/5 [=====>........................] - ETA: 0s - loss: 0.0331 - mae: 0.1361"
     ]
    },
    {
     "name": "stderr",
     "output_type": "stream",
     "text": [
      "WARNING:absl:Found untraced functions such as lstm_cell_layer_call_fn, lstm_cell_layer_call_and_return_conditional_losses while saving (showing 2 of 2). These functions will not be directly callable after loading.\n"
     ]
    },
    {
     "name": "stdout",
     "output_type": "stream",
     "text": [
      "INFO:tensorflow:Assets written to: C:\\Users\\PARK\\Documents\\LAB\\RNN vs LSTM\\FInal Example\\wandb\\run-20221018_155335-3crds3hr\\files\\model-best\\assets\n"
     ]
    },
    {
     "name": "stderr",
     "output_type": "stream",
     "text": [
      "INFO:tensorflow:Assets written to: C:\\Users\\PARK\\Documents\\LAB\\RNN vs LSTM\\FInal Example\\wandb\\run-20221018_155335-3crds3hr\\files\\model-best\\assets\n",
      "\u001b[34m\u001b[1mwandb\u001b[0m: Adding directory to artifact (C:\\Users\\PARK\\Documents\\LAB\\RNN vs LSTM\\FInal Example\\wandb\\run-20221018_155335-3crds3hr\\files\\model-best)... Done. 0.1s\n"
     ]
    },
    {
     "name": "stdout",
     "output_type": "stream",
     "text": [
      "5/5 [==============================] - 4s 1s/step - loss: 0.0285 - mae: 0.1270 - val_loss: 0.0303 - val_mae: 0.1336\n",
      "Epoch 189/500\n",
      "5/5 [==============================] - ETA: 0s - loss: 0.0285 - mae: 0.1277"
     ]
    },
    {
     "name": "stderr",
     "output_type": "stream",
     "text": [
      "WARNING:absl:Found untraced functions such as lstm_cell_layer_call_fn, lstm_cell_layer_call_and_return_conditional_losses while saving (showing 2 of 2). These functions will not be directly callable after loading.\n"
     ]
    },
    {
     "name": "stdout",
     "output_type": "stream",
     "text": [
      "INFO:tensorflow:Assets written to: C:\\Users\\PARK\\Documents\\LAB\\RNN vs LSTM\\FInal Example\\wandb\\run-20221018_155335-3crds3hr\\files\\model-best\\assets\n"
     ]
    },
    {
     "name": "stderr",
     "output_type": "stream",
     "text": [
      "INFO:tensorflow:Assets written to: C:\\Users\\PARK\\Documents\\LAB\\RNN vs LSTM\\FInal Example\\wandb\\run-20221018_155335-3crds3hr\\files\\model-best\\assets\n",
      "\u001b[34m\u001b[1mwandb\u001b[0m: Adding directory to artifact (C:\\Users\\PARK\\Documents\\LAB\\RNN vs LSTM\\FInal Example\\wandb\\run-20221018_155335-3crds3hr\\files\\model-best)... Done. 0.1s\n"
     ]
    },
    {
     "name": "stdout",
     "output_type": "stream",
     "text": [
      "5/5 [==============================] - 4s 1s/step - loss: 0.0285 - mae: 0.1277 - val_loss: 0.0303 - val_mae: 0.1342\n",
      "Epoch 190/500\n",
      "5/5 [==============================] - ETA: 0s - loss: 0.0282 - mae: 0.1277"
     ]
    },
    {
     "name": "stderr",
     "output_type": "stream",
     "text": [
      "WARNING:absl:Found untraced functions such as lstm_cell_layer_call_fn, lstm_cell_layer_call_and_return_conditional_losses while saving (showing 2 of 2). These functions will not be directly callable after loading.\n"
     ]
    },
    {
     "name": "stdout",
     "output_type": "stream",
     "text": [
      "INFO:tensorflow:Assets written to: C:\\Users\\PARK\\Documents\\LAB\\RNN vs LSTM\\FInal Example\\wandb\\run-20221018_155335-3crds3hr\\files\\model-best\\assets\n"
     ]
    },
    {
     "name": "stderr",
     "output_type": "stream",
     "text": [
      "INFO:tensorflow:Assets written to: C:\\Users\\PARK\\Documents\\LAB\\RNN vs LSTM\\FInal Example\\wandb\\run-20221018_155335-3crds3hr\\files\\model-best\\assets\n",
      "\u001b[34m\u001b[1mwandb\u001b[0m: Adding directory to artifact (C:\\Users\\PARK\\Documents\\LAB\\RNN vs LSTM\\FInal Example\\wandb\\run-20221018_155335-3crds3hr\\files\\model-best)... Done. 0.1s\n"
     ]
    },
    {
     "name": "stdout",
     "output_type": "stream",
     "text": [
      "5/5 [==============================] - 4s 1s/step - loss: 0.0282 - mae: 0.1277 - val_loss: 0.0300 - val_mae: 0.1326\n",
      "Epoch 191/500\n",
      "3/5 [=================>............] - ETA: 0s - loss: 0.0287 - mae: 0.1282"
     ]
    },
    {
     "name": "stderr",
     "output_type": "stream",
     "text": [
      "WARNING:absl:Found untraced functions such as lstm_cell_layer_call_fn, lstm_cell_layer_call_and_return_conditional_losses while saving (showing 2 of 2). These functions will not be directly callable after loading.\n"
     ]
    },
    {
     "name": "stdout",
     "output_type": "stream",
     "text": [
      "INFO:tensorflow:Assets written to: C:\\Users\\PARK\\Documents\\LAB\\RNN vs LSTM\\FInal Example\\wandb\\run-20221018_155335-3crds3hr\\files\\model-best\\assets\n"
     ]
    },
    {
     "name": "stderr",
     "output_type": "stream",
     "text": [
      "INFO:tensorflow:Assets written to: C:\\Users\\PARK\\Documents\\LAB\\RNN vs LSTM\\FInal Example\\wandb\\run-20221018_155335-3crds3hr\\files\\model-best\\assets\n",
      "\u001b[34m\u001b[1mwandb\u001b[0m: Adding directory to artifact (C:\\Users\\PARK\\Documents\\LAB\\RNN vs LSTM\\FInal Example\\wandb\\run-20221018_155335-3crds3hr\\files\\model-best)... Done. 0.1s\n"
     ]
    },
    {
     "name": "stdout",
     "output_type": "stream",
     "text": [
      "5/5 [==============================] - 4s 1s/step - loss: 0.0281 - mae: 0.1268 - val_loss: 0.0296 - val_mae: 0.1297\n",
      "Epoch 192/500\n",
      "4/5 [=======================>......] - ETA: 0s - loss: 0.0281 - mae: 0.1264"
     ]
    },
    {
     "name": "stderr",
     "output_type": "stream",
     "text": [
      "WARNING:absl:Found untraced functions such as lstm_cell_layer_call_fn, lstm_cell_layer_call_and_return_conditional_losses while saving (showing 2 of 2). These functions will not be directly callable after loading.\n"
     ]
    },
    {
     "name": "stdout",
     "output_type": "stream",
     "text": [
      "INFO:tensorflow:Assets written to: C:\\Users\\PARK\\Documents\\LAB\\RNN vs LSTM\\FInal Example\\wandb\\run-20221018_155335-3crds3hr\\files\\model-best\\assets\n"
     ]
    },
    {
     "name": "stderr",
     "output_type": "stream",
     "text": [
      "INFO:tensorflow:Assets written to: C:\\Users\\PARK\\Documents\\LAB\\RNN vs LSTM\\FInal Example\\wandb\\run-20221018_155335-3crds3hr\\files\\model-best\\assets\n",
      "\u001b[34m\u001b[1mwandb\u001b[0m: Adding directory to artifact (C:\\Users\\PARK\\Documents\\LAB\\RNN vs LSTM\\FInal Example\\wandb\\run-20221018_155335-3crds3hr\\files\\model-best)... Done. 0.1s\n"
     ]
    },
    {
     "name": "stdout",
     "output_type": "stream",
     "text": [
      "5/5 [==============================] - 4s 1s/step - loss: 0.0282 - mae: 0.1269 - val_loss: 0.0293 - val_mae: 0.1276\n",
      "Epoch 193/500\n",
      "5/5 [==============================] - 1s 117ms/step - loss: 0.0280 - mae: 0.1271 - val_loss: 0.0293 - val_mae: 0.1296\n",
      "Epoch 194/500\n",
      "5/5 [==============================] - 0s 72ms/step - loss: 0.0273 - mae: 0.1245 - val_loss: 0.0296 - val_mae: 0.1302\n",
      "Epoch 195/500\n",
      "5/5 [==============================] - 0s 73ms/step - loss: 0.0277 - mae: 0.1266 - val_loss: 0.0295 - val_mae: 0.1312\n",
      "Epoch 196/500\n",
      "1/5 [=====>........................] - ETA: 0s - loss: 0.0274 - mae: 0.1256"
     ]
    },
    {
     "name": "stderr",
     "output_type": "stream",
     "text": [
      "WARNING:absl:Found untraced functions such as lstm_cell_layer_call_fn, lstm_cell_layer_call_and_return_conditional_losses while saving (showing 2 of 2). These functions will not be directly callable after loading.\n"
     ]
    },
    {
     "name": "stdout",
     "output_type": "stream",
     "text": [
      "INFO:tensorflow:Assets written to: C:\\Users\\PARK\\Documents\\LAB\\RNN vs LSTM\\FInal Example\\wandb\\run-20221018_155335-3crds3hr\\files\\model-best\\assets\n"
     ]
    },
    {
     "name": "stderr",
     "output_type": "stream",
     "text": [
      "INFO:tensorflow:Assets written to: C:\\Users\\PARK\\Documents\\LAB\\RNN vs LSTM\\FInal Example\\wandb\\run-20221018_155335-3crds3hr\\files\\model-best\\assets\n",
      "\u001b[34m\u001b[1mwandb\u001b[0m: Adding directory to artifact (C:\\Users\\PARK\\Documents\\LAB\\RNN vs LSTM\\FInal Example\\wandb\\run-20221018_155335-3crds3hr\\files\\model-best)... Done. 0.1s\n"
     ]
    },
    {
     "name": "stdout",
     "output_type": "stream",
     "text": [
      "5/5 [==============================] - 4s 1s/step - loss: 0.0274 - mae: 0.1258 - val_loss: 0.0287 - val_mae: 0.1287\n",
      "Epoch 197/500\n",
      "5/5 [==============================] - 1s 119ms/step - loss: 0.0271 - mae: 0.1252 - val_loss: 0.0291 - val_mae: 0.1280\n",
      "Epoch 198/500\n",
      "1/5 [=====>........................] - ETA: 0s - loss: 0.0250 - mae: 0.1201"
     ]
    },
    {
     "name": "stderr",
     "output_type": "stream",
     "text": [
      "WARNING:absl:Found untraced functions such as lstm_cell_layer_call_fn, lstm_cell_layer_call_and_return_conditional_losses while saving (showing 2 of 2). These functions will not be directly callable after loading.\n"
     ]
    },
    {
     "name": "stdout",
     "output_type": "stream",
     "text": [
      "INFO:tensorflow:Assets written to: C:\\Users\\PARK\\Documents\\LAB\\RNN vs LSTM\\FInal Example\\wandb\\run-20221018_155335-3crds3hr\\files\\model-best\\assets\n"
     ]
    },
    {
     "name": "stderr",
     "output_type": "stream",
     "text": [
      "INFO:tensorflow:Assets written to: C:\\Users\\PARK\\Documents\\LAB\\RNN vs LSTM\\FInal Example\\wandb\\run-20221018_155335-3crds3hr\\files\\model-best\\assets\n",
      "\u001b[34m\u001b[1mwandb\u001b[0m: Adding directory to artifact (C:\\Users\\PARK\\Documents\\LAB\\RNN vs LSTM\\FInal Example\\wandb\\run-20221018_155335-3crds3hr\\files\\model-best)... Done. 0.1s\n"
     ]
    },
    {
     "name": "stdout",
     "output_type": "stream",
     "text": [
      "5/5 [==============================] - 4s 1s/step - loss: 0.0272 - mae: 0.1256 - val_loss: 0.0287 - val_mae: 0.1268\n",
      "Epoch 199/500\n",
      "3/5 [=================>............] - ETA: 0s - loss: 0.0270 - mae: 0.1253"
     ]
    },
    {
     "name": "stderr",
     "output_type": "stream",
     "text": [
      "WARNING:absl:Found untraced functions such as lstm_cell_layer_call_fn, lstm_cell_layer_call_and_return_conditional_losses while saving (showing 2 of 2). These functions will not be directly callable after loading.\n"
     ]
    },
    {
     "name": "stdout",
     "output_type": "stream",
     "text": [
      "INFO:tensorflow:Assets written to: C:\\Users\\PARK\\Documents\\LAB\\RNN vs LSTM\\FInal Example\\wandb\\run-20221018_155335-3crds3hr\\files\\model-best\\assets\n"
     ]
    },
    {
     "name": "stderr",
     "output_type": "stream",
     "text": [
      "INFO:tensorflow:Assets written to: C:\\Users\\PARK\\Documents\\LAB\\RNN vs LSTM\\FInal Example\\wandb\\run-20221018_155335-3crds3hr\\files\\model-best\\assets\n",
      "\u001b[34m\u001b[1mwandb\u001b[0m: Adding directory to artifact (C:\\Users\\PARK\\Documents\\LAB\\RNN vs LSTM\\FInal Example\\wandb\\run-20221018_155335-3crds3hr\\files\\model-best)... Done. 0.1s\n"
     ]
    },
    {
     "name": "stdout",
     "output_type": "stream",
     "text": [
      "5/5 [==============================] - 4s 1s/step - loss: 0.0268 - mae: 0.1248 - val_loss: 0.0280 - val_mae: 0.1272\n",
      "Epoch 200/500\n",
      "5/5 [==============================] - 1s 118ms/step - loss: 0.0265 - mae: 0.1238 - val_loss: 0.0290 - val_mae: 0.1255\n",
      "Epoch 201/500\n",
      "1/5 [=====>........................] - ETA: 0s - loss: 0.0294 - mae: 0.1271"
     ]
    },
    {
     "name": "stderr",
     "output_type": "stream",
     "text": [
      "WARNING:absl:Found untraced functions such as lstm_cell_layer_call_fn, lstm_cell_layer_call_and_return_conditional_losses while saving (showing 2 of 2). These functions will not be directly callable after loading.\n"
     ]
    },
    {
     "name": "stdout",
     "output_type": "stream",
     "text": [
      "INFO:tensorflow:Assets written to: C:\\Users\\PARK\\Documents\\LAB\\RNN vs LSTM\\FInal Example\\wandb\\run-20221018_155335-3crds3hr\\files\\model-best\\assets\n"
     ]
    },
    {
     "name": "stderr",
     "output_type": "stream",
     "text": [
      "INFO:tensorflow:Assets written to: C:\\Users\\PARK\\Documents\\LAB\\RNN vs LSTM\\FInal Example\\wandb\\run-20221018_155335-3crds3hr\\files\\model-best\\assets\n",
      "\u001b[34m\u001b[1mwandb\u001b[0m: Adding directory to artifact (C:\\Users\\PARK\\Documents\\LAB\\RNN vs LSTM\\FInal Example\\wandb\\run-20221018_155335-3crds3hr\\files\\model-best)... Done. 0.1s\n"
     ]
    },
    {
     "name": "stdout",
     "output_type": "stream",
     "text": [
      "5/5 [==============================] - 4s 1000ms/step - loss: 0.0268 - mae: 0.1246 - val_loss: 0.0276 - val_mae: 0.1261\n",
      "Epoch 202/500\n",
      "5/5 [==============================] - 1s 123ms/step - loss: 0.0263 - mae: 0.1240 - val_loss: 0.0278 - val_mae: 0.1253\n",
      "Epoch 203/500\n",
      "5/5 [==============================] - 0s 74ms/step - loss: 0.0264 - mae: 0.1229 - val_loss: 0.0291 - val_mae: 0.1253\n",
      "Epoch 204/500\n",
      "5/5 [==============================] - 0s 73ms/step - loss: 0.0265 - mae: 0.1235 - val_loss: 0.0279 - val_mae: 0.1247\n",
      "Epoch 205/500\n",
      "1/5 [=====>........................] - ETA: 0s - loss: 0.0271 - mae: 0.1250"
     ]
    },
    {
     "name": "stderr",
     "output_type": "stream",
     "text": [
      "WARNING:absl:Found untraced functions such as lstm_cell_layer_call_fn, lstm_cell_layer_call_and_return_conditional_losses while saving (showing 2 of 2). These functions will not be directly callable after loading.\n"
     ]
    },
    {
     "name": "stdout",
     "output_type": "stream",
     "text": [
      "INFO:tensorflow:Assets written to: C:\\Users\\PARK\\Documents\\LAB\\RNN vs LSTM\\FInal Example\\wandb\\run-20221018_155335-3crds3hr\\files\\model-best\\assets\n"
     ]
    },
    {
     "name": "stderr",
     "output_type": "stream",
     "text": [
      "INFO:tensorflow:Assets written to: C:\\Users\\PARK\\Documents\\LAB\\RNN vs LSTM\\FInal Example\\wandb\\run-20221018_155335-3crds3hr\\files\\model-best\\assets\n",
      "\u001b[34m\u001b[1mwandb\u001b[0m: Adding directory to artifact (C:\\Users\\PARK\\Documents\\LAB\\RNN vs LSTM\\FInal Example\\wandb\\run-20221018_155335-3crds3hr\\files\\model-best)... Done. 0.1s\n"
     ]
    },
    {
     "name": "stdout",
     "output_type": "stream",
     "text": [
      "5/5 [==============================] - 4s 1s/step - loss: 0.0268 - mae: 0.1241 - val_loss: 0.0270 - val_mae: 0.1240\n",
      "Epoch 206/500\n",
      "5/5 [==============================] - 1s 111ms/step - loss: 0.0254 - mae: 0.1198 - val_loss: 0.0290 - val_mae: 0.1296\n",
      "Epoch 207/500\n",
      "1/5 [=====>........................] - ETA: 0s - loss: 0.0282 - mae: 0.1268"
     ]
    },
    {
     "name": "stderr",
     "output_type": "stream",
     "text": [
      "WARNING:absl:Found untraced functions such as lstm_cell_layer_call_fn, lstm_cell_layer_call_and_return_conditional_losses while saving (showing 2 of 2). These functions will not be directly callable after loading.\n"
     ]
    },
    {
     "name": "stdout",
     "output_type": "stream",
     "text": [
      "INFO:tensorflow:Assets written to: C:\\Users\\PARK\\Documents\\LAB\\RNN vs LSTM\\FInal Example\\wandb\\run-20221018_155335-3crds3hr\\files\\model-best\\assets\n"
     ]
    },
    {
     "name": "stderr",
     "output_type": "stream",
     "text": [
      "INFO:tensorflow:Assets written to: C:\\Users\\PARK\\Documents\\LAB\\RNN vs LSTM\\FInal Example\\wandb\\run-20221018_155335-3crds3hr\\files\\model-best\\assets\n",
      "\u001b[34m\u001b[1mwandb\u001b[0m: Adding directory to artifact (C:\\Users\\PARK\\Documents\\LAB\\RNN vs LSTM\\FInal Example\\wandb\\run-20221018_155335-3crds3hr\\files\\model-best)... Done. 0.1s\n"
     ]
    },
    {
     "name": "stdout",
     "output_type": "stream",
     "text": [
      "5/5 [==============================] - 4s 1s/step - loss: 0.0256 - mae: 0.1220 - val_loss: 0.0268 - val_mae: 0.1264\n",
      "Epoch 208/500\n",
      "5/5 [==============================] - ETA: 0s - loss: 0.0253 - mae: 0.1220"
     ]
    },
    {
     "name": "stderr",
     "output_type": "stream",
     "text": [
      "WARNING:absl:Found untraced functions such as lstm_cell_layer_call_fn, lstm_cell_layer_call_and_return_conditional_losses while saving (showing 2 of 2). These functions will not be directly callable after loading.\n"
     ]
    },
    {
     "name": "stdout",
     "output_type": "stream",
     "text": [
      "INFO:tensorflow:Assets written to: C:\\Users\\PARK\\Documents\\LAB\\RNN vs LSTM\\FInal Example\\wandb\\run-20221018_155335-3crds3hr\\files\\model-best\\assets\n"
     ]
    },
    {
     "name": "stderr",
     "output_type": "stream",
     "text": [
      "INFO:tensorflow:Assets written to: C:\\Users\\PARK\\Documents\\LAB\\RNN vs LSTM\\FInal Example\\wandb\\run-20221018_155335-3crds3hr\\files\\model-best\\assets\n",
      "\u001b[34m\u001b[1mwandb\u001b[0m: Adding directory to artifact (C:\\Users\\PARK\\Documents\\LAB\\RNN vs LSTM\\FInal Example\\wandb\\run-20221018_155335-3crds3hr\\files\\model-best)... Done. 0.1s\n"
     ]
    },
    {
     "name": "stdout",
     "output_type": "stream",
     "text": [
      "5/5 [==============================] - 4s 1s/step - loss: 0.0253 - mae: 0.1220 - val_loss: 0.0257 - val_mae: 0.1235\n",
      "Epoch 209/500\n",
      "5/5 [==============================] - 1s 103ms/step - loss: 0.0241 - mae: 0.1188 - val_loss: 0.0258 - val_mae: 0.1216\n",
      "Epoch 210/500\n",
      "5/5 [==============================] - 0s 73ms/step - loss: 0.0242 - mae: 0.1197 - val_loss: 0.0258 - val_mae: 0.1249\n",
      "Epoch 211/500\n",
      "5/5 [==============================] - 0s 74ms/step - loss: 0.0260 - mae: 0.1235 - val_loss: 0.0324 - val_mae: 0.1379\n",
      "Epoch 212/500\n",
      "5/5 [==============================] - 0s 73ms/step - loss: 0.0316 - mae: 0.1396 - val_loss: 0.0292 - val_mae: 0.1326\n",
      "Epoch 213/500\n",
      "5/5 [==============================] - 0s 73ms/step - loss: 0.0267 - mae: 0.1258 - val_loss: 0.0288 - val_mae: 0.1292\n",
      "Epoch 214/500\n",
      "5/5 [==============================] - 0s 72ms/step - loss: 0.0256 - mae: 0.1222 - val_loss: 0.0265 - val_mae: 0.1289\n",
      "Epoch 215/500\n",
      "1/5 [=====>........................] - ETA: 0s - loss: 0.0243 - mae: 0.1210"
     ]
    },
    {
     "name": "stderr",
     "output_type": "stream",
     "text": [
      "WARNING:absl:Found untraced functions such as lstm_cell_layer_call_fn, lstm_cell_layer_call_and_return_conditional_losses while saving (showing 2 of 2). These functions will not be directly callable after loading.\n"
     ]
    },
    {
     "name": "stdout",
     "output_type": "stream",
     "text": [
      "INFO:tensorflow:Assets written to: C:\\Users\\PARK\\Documents\\LAB\\RNN vs LSTM\\FInal Example\\wandb\\run-20221018_155335-3crds3hr\\files\\model-best\\assets\n"
     ]
    },
    {
     "name": "stderr",
     "output_type": "stream",
     "text": [
      "INFO:tensorflow:Assets written to: C:\\Users\\PARK\\Documents\\LAB\\RNN vs LSTM\\FInal Example\\wandb\\run-20221018_155335-3crds3hr\\files\\model-best\\assets\n",
      "\u001b[34m\u001b[1mwandb\u001b[0m: Adding directory to artifact (C:\\Users\\PARK\\Documents\\LAB\\RNN vs LSTM\\FInal Example\\wandb\\run-20221018_155335-3crds3hr\\files\\model-best)... Done. 0.1s\n"
     ]
    },
    {
     "name": "stdout",
     "output_type": "stream",
     "text": [
      "5/5 [==============================] - 4s 1s/step - loss: 0.0243 - mae: 0.1211 - val_loss: 0.0252 - val_mae: 0.1249\n",
      "Epoch 216/500\n",
      "3/5 [=================>............] - ETA: 0s - loss: 0.0227 - mae: 0.1164"
     ]
    },
    {
     "name": "stderr",
     "output_type": "stream",
     "text": [
      "WARNING:absl:Found untraced functions such as lstm_cell_layer_call_fn, lstm_cell_layer_call_and_return_conditional_losses while saving (showing 2 of 2). These functions will not be directly callable after loading.\n"
     ]
    },
    {
     "name": "stdout",
     "output_type": "stream",
     "text": [
      "INFO:tensorflow:Assets written to: C:\\Users\\PARK\\Documents\\LAB\\RNN vs LSTM\\FInal Example\\wandb\\run-20221018_155335-3crds3hr\\files\\model-best\\assets\n"
     ]
    },
    {
     "name": "stderr",
     "output_type": "stream",
     "text": [
      "INFO:tensorflow:Assets written to: C:\\Users\\PARK\\Documents\\LAB\\RNN vs LSTM\\FInal Example\\wandb\\run-20221018_155335-3crds3hr\\files\\model-best\\assets\n",
      "\u001b[34m\u001b[1mwandb\u001b[0m: Adding directory to artifact (C:\\Users\\PARK\\Documents\\LAB\\RNN vs LSTM\\FInal Example\\wandb\\run-20221018_155335-3crds3hr\\files\\model-best)... Done. 0.1s\n"
     ]
    },
    {
     "name": "stdout",
     "output_type": "stream",
     "text": [
      "5/5 [==============================] - 4s 1s/step - loss: 0.0233 - mae: 0.1173 - val_loss: 0.0231 - val_mae: 0.1176\n",
      "Epoch 217/500\n",
      "5/5 [==============================] - 1s 96ms/step - loss: 0.0215 - mae: 0.1135 - val_loss: 0.0233 - val_mae: 0.1196\n",
      "Epoch 218/500\n",
      "1/5 [=====>........................] - ETA: 0s - loss: 0.0213 - mae: 0.1146"
     ]
    },
    {
     "name": "stderr",
     "output_type": "stream",
     "text": [
      "WARNING:absl:Found untraced functions such as lstm_cell_layer_call_fn, lstm_cell_layer_call_and_return_conditional_losses while saving (showing 2 of 2). These functions will not be directly callable after loading.\n"
     ]
    },
    {
     "name": "stdout",
     "output_type": "stream",
     "text": [
      "INFO:tensorflow:Assets written to: C:\\Users\\PARK\\Documents\\LAB\\RNN vs LSTM\\FInal Example\\wandb\\run-20221018_155335-3crds3hr\\files\\model-best\\assets\n"
     ]
    },
    {
     "name": "stderr",
     "output_type": "stream",
     "text": [
      "INFO:tensorflow:Assets written to: C:\\Users\\PARK\\Documents\\LAB\\RNN vs LSTM\\FInal Example\\wandb\\run-20221018_155335-3crds3hr\\files\\model-best\\assets\n",
      "\u001b[34m\u001b[1mwandb\u001b[0m: Adding directory to artifact (C:\\Users\\PARK\\Documents\\LAB\\RNN vs LSTM\\FInal Example\\wandb\\run-20221018_155335-3crds3hr\\files\\model-best)... Done. 0.1s\n"
     ]
    },
    {
     "name": "stdout",
     "output_type": "stream",
     "text": [
      "5/5 [==============================] - 4s 1s/step - loss: 0.0214 - mae: 0.1139 - val_loss: 0.0225 - val_mae: 0.1178\n",
      "Epoch 219/500\n",
      "5/5 [==============================] - 1s 117ms/step - loss: 0.0205 - mae: 0.1106 - val_loss: 0.0235 - val_mae: 0.1197\n",
      "Epoch 220/500\n",
      "5/5 [==============================] - 0s 73ms/step - loss: 0.0205 - mae: 0.1103 - val_loss: 0.0259 - val_mae: 0.1244\n",
      "Epoch 221/500\n",
      "5/5 [==============================] - 0s 72ms/step - loss: 0.0241 - mae: 0.1176 - val_loss: 0.0248 - val_mae: 0.1218\n",
      "Epoch 222/500\n",
      "1/5 [=====>........................] - ETA: 0s - loss: 0.0200 - mae: 0.1091"
     ]
    },
    {
     "name": "stderr",
     "output_type": "stream",
     "text": [
      "WARNING:absl:Found untraced functions such as lstm_cell_layer_call_fn, lstm_cell_layer_call_and_return_conditional_losses while saving (showing 2 of 2). These functions will not be directly callable after loading.\n"
     ]
    },
    {
     "name": "stdout",
     "output_type": "stream",
     "text": [
      "INFO:tensorflow:Assets written to: C:\\Users\\PARK\\Documents\\LAB\\RNN vs LSTM\\FInal Example\\wandb\\run-20221018_155335-3crds3hr\\files\\model-best\\assets\n"
     ]
    },
    {
     "name": "stderr",
     "output_type": "stream",
     "text": [
      "INFO:tensorflow:Assets written to: C:\\Users\\PARK\\Documents\\LAB\\RNN vs LSTM\\FInal Example\\wandb\\run-20221018_155335-3crds3hr\\files\\model-best\\assets\n",
      "\u001b[34m\u001b[1mwandb\u001b[0m: Adding directory to artifact (C:\\Users\\PARK\\Documents\\LAB\\RNN vs LSTM\\FInal Example\\wandb\\run-20221018_155335-3crds3hr\\files\\model-best)... Done. 0.1s\n"
     ]
    },
    {
     "name": "stdout",
     "output_type": "stream",
     "text": [
      "5/5 [==============================] - 4s 975ms/step - loss: 0.0229 - mae: 0.1156 - val_loss: 0.0218 - val_mae: 0.1144\n",
      "Epoch 223/500\n",
      "5/5 [==============================] - 1s 111ms/step - loss: 0.0207 - mae: 0.1113 - val_loss: 0.0219 - val_mae: 0.1138\n",
      "Epoch 224/500\n",
      "1/5 [=====>........................] - ETA: 0s - loss: 0.0222 - mae: 0.1138"
     ]
    },
    {
     "name": "stderr",
     "output_type": "stream",
     "text": [
      "WARNING:absl:Found untraced functions such as lstm_cell_layer_call_fn, lstm_cell_layer_call_and_return_conditional_losses while saving (showing 2 of 2). These functions will not be directly callable after loading.\n"
     ]
    },
    {
     "name": "stdout",
     "output_type": "stream",
     "text": [
      "INFO:tensorflow:Assets written to: C:\\Users\\PARK\\Documents\\LAB\\RNN vs LSTM\\FInal Example\\wandb\\run-20221018_155335-3crds3hr\\files\\model-best\\assets\n"
     ]
    },
    {
     "name": "stderr",
     "output_type": "stream",
     "text": [
      "INFO:tensorflow:Assets written to: C:\\Users\\PARK\\Documents\\LAB\\RNN vs LSTM\\FInal Example\\wandb\\run-20221018_155335-3crds3hr\\files\\model-best\\assets\n",
      "\u001b[34m\u001b[1mwandb\u001b[0m: Adding directory to artifact (C:\\Users\\PARK\\Documents\\LAB\\RNN vs LSTM\\FInal Example\\wandb\\run-20221018_155335-3crds3hr\\files\\model-best)... Done. 0.1s\n"
     ]
    },
    {
     "name": "stdout",
     "output_type": "stream",
     "text": [
      "5/5 [==============================] - 4s 1s/step - loss: 0.0198 - mae: 0.1090 - val_loss: 0.0207 - val_mae: 0.1149\n",
      "Epoch 225/500\n",
      "3/5 [=================>............] - ETA: 0s - loss: 0.0193 - mae: 0.1079"
     ]
    },
    {
     "name": "stderr",
     "output_type": "stream",
     "text": [
      "WARNING:absl:Found untraced functions such as lstm_cell_layer_call_fn, lstm_cell_layer_call_and_return_conditional_losses while saving (showing 2 of 2). These functions will not be directly callable after loading.\n"
     ]
    },
    {
     "name": "stdout",
     "output_type": "stream",
     "text": [
      "INFO:tensorflow:Assets written to: C:\\Users\\PARK\\Documents\\LAB\\RNN vs LSTM\\FInal Example\\wandb\\run-20221018_155335-3crds3hr\\files\\model-best\\assets\n"
     ]
    },
    {
     "name": "stderr",
     "output_type": "stream",
     "text": [
      "INFO:tensorflow:Assets written to: C:\\Users\\PARK\\Documents\\LAB\\RNN vs LSTM\\FInal Example\\wandb\\run-20221018_155335-3crds3hr\\files\\model-best\\assets\n",
      "\u001b[34m\u001b[1mwandb\u001b[0m: Adding directory to artifact (C:\\Users\\PARK\\Documents\\LAB\\RNN vs LSTM\\FInal Example\\wandb\\run-20221018_155335-3crds3hr\\files\\model-best)... Done. 0.1s\n"
     ]
    },
    {
     "name": "stdout",
     "output_type": "stream",
     "text": [
      "5/5 [==============================] - 4s 1s/step - loss: 0.0192 - mae: 0.1077 - val_loss: 0.0202 - val_mae: 0.1137\n",
      "Epoch 226/500\n",
      "4/5 [=======================>......] - ETA: 0s - loss: 0.0183 - mae: 0.1066"
     ]
    },
    {
     "name": "stderr",
     "output_type": "stream",
     "text": [
      "WARNING:absl:Found untraced functions such as lstm_cell_layer_call_fn, lstm_cell_layer_call_and_return_conditional_losses while saving (showing 2 of 2). These functions will not be directly callable after loading.\n"
     ]
    },
    {
     "name": "stdout",
     "output_type": "stream",
     "text": [
      "INFO:tensorflow:Assets written to: C:\\Users\\PARK\\Documents\\LAB\\RNN vs LSTM\\FInal Example\\wandb\\run-20221018_155335-3crds3hr\\files\\model-best\\assets\n"
     ]
    },
    {
     "name": "stderr",
     "output_type": "stream",
     "text": [
      "INFO:tensorflow:Assets written to: C:\\Users\\PARK\\Documents\\LAB\\RNN vs LSTM\\FInal Example\\wandb\\run-20221018_155335-3crds3hr\\files\\model-best\\assets\n",
      "\u001b[34m\u001b[1mwandb\u001b[0m: Adding directory to artifact (C:\\Users\\PARK\\Documents\\LAB\\RNN vs LSTM\\FInal Example\\wandb\\run-20221018_155335-3crds3hr\\files\\model-best)... Done. 0.1s\n"
     ]
    },
    {
     "name": "stdout",
     "output_type": "stream",
     "text": [
      "5/5 [==============================] - 4s 1s/step - loss: 0.0182 - mae: 0.1061 - val_loss: 0.0193 - val_mae: 0.1070\n",
      "Epoch 227/500\n",
      "3/5 [=================>............] - ETA: 0s - loss: 0.0181 - mae: 0.1056"
     ]
    },
    {
     "name": "stderr",
     "output_type": "stream",
     "text": [
      "WARNING:absl:Found untraced functions such as lstm_cell_layer_call_fn, lstm_cell_layer_call_and_return_conditional_losses while saving (showing 2 of 2). These functions will not be directly callable after loading.\n"
     ]
    },
    {
     "name": "stdout",
     "output_type": "stream",
     "text": [
      "INFO:tensorflow:Assets written to: C:\\Users\\PARK\\Documents\\LAB\\RNN vs LSTM\\FInal Example\\wandb\\run-20221018_155335-3crds3hr\\files\\model-best\\assets\n"
     ]
    },
    {
     "name": "stderr",
     "output_type": "stream",
     "text": [
      "INFO:tensorflow:Assets written to: C:\\Users\\PARK\\Documents\\LAB\\RNN vs LSTM\\FInal Example\\wandb\\run-20221018_155335-3crds3hr\\files\\model-best\\assets\n",
      "\u001b[34m\u001b[1mwandb\u001b[0m: Adding directory to artifact (C:\\Users\\PARK\\Documents\\LAB\\RNN vs LSTM\\FInal Example\\wandb\\run-20221018_155335-3crds3hr\\files\\model-best)... Done. 0.1s\n"
     ]
    },
    {
     "name": "stdout",
     "output_type": "stream",
     "text": [
      "5/5 [==============================] - 4s 1s/step - loss: 0.0177 - mae: 0.1044 - val_loss: 0.0183 - val_mae: 0.1062\n",
      "Epoch 228/500\n",
      "3/5 [=================>............] - ETA: 0s - loss: 0.0184 - mae: 0.1053"
     ]
    },
    {
     "name": "stderr",
     "output_type": "stream",
     "text": [
      "WARNING:absl:Found untraced functions such as lstm_cell_layer_call_fn, lstm_cell_layer_call_and_return_conditional_losses while saving (showing 2 of 2). These functions will not be directly callable after loading.\n"
     ]
    },
    {
     "name": "stdout",
     "output_type": "stream",
     "text": [
      "INFO:tensorflow:Assets written to: C:\\Users\\PARK\\Documents\\LAB\\RNN vs LSTM\\FInal Example\\wandb\\run-20221018_155335-3crds3hr\\files\\model-best\\assets\n"
     ]
    },
    {
     "name": "stderr",
     "output_type": "stream",
     "text": [
      "INFO:tensorflow:Assets written to: C:\\Users\\PARK\\Documents\\LAB\\RNN vs LSTM\\FInal Example\\wandb\\run-20221018_155335-3crds3hr\\files\\model-best\\assets\n",
      "\u001b[34m\u001b[1mwandb\u001b[0m: Adding directory to artifact (C:\\Users\\PARK\\Documents\\LAB\\RNN vs LSTM\\FInal Example\\wandb\\run-20221018_155335-3crds3hr\\files\\model-best)... Done. 0.1s\n"
     ]
    },
    {
     "name": "stdout",
     "output_type": "stream",
     "text": [
      "5/5 [==============================] - 4s 1s/step - loss: 0.0189 - mae: 0.1055 - val_loss: 0.0175 - val_mae: 0.1026\n",
      "Epoch 229/500\n",
      "3/5 [=================>............] - ETA: 0s - loss: 0.0178 - mae: 0.1047"
     ]
    },
    {
     "name": "stderr",
     "output_type": "stream",
     "text": [
      "WARNING:absl:Found untraced functions such as lstm_cell_layer_call_fn, lstm_cell_layer_call_and_return_conditional_losses while saving (showing 2 of 2). These functions will not be directly callable after loading.\n"
     ]
    },
    {
     "name": "stdout",
     "output_type": "stream",
     "text": [
      "INFO:tensorflow:Assets written to: C:\\Users\\PARK\\Documents\\LAB\\RNN vs LSTM\\FInal Example\\wandb\\run-20221018_155335-3crds3hr\\files\\model-best\\assets\n"
     ]
    },
    {
     "name": "stderr",
     "output_type": "stream",
     "text": [
      "INFO:tensorflow:Assets written to: C:\\Users\\PARK\\Documents\\LAB\\RNN vs LSTM\\FInal Example\\wandb\\run-20221018_155335-3crds3hr\\files\\model-best\\assets\n",
      "\u001b[34m\u001b[1mwandb\u001b[0m: Adding directory to artifact (C:\\Users\\PARK\\Documents\\LAB\\RNN vs LSTM\\FInal Example\\wandb\\run-20221018_155335-3crds3hr\\files\\model-best)... Done. 0.1s\n"
     ]
    },
    {
     "name": "stdout",
     "output_type": "stream",
     "text": [
      "5/5 [==============================] - 4s 1s/step - loss: 0.0177 - mae: 0.1040 - val_loss: 0.0173 - val_mae: 0.1013\n",
      "Epoch 230/500\n",
      "5/5 [==============================] - 1s 116ms/step - loss: 0.0170 - mae: 0.1016 - val_loss: 0.0177 - val_mae: 0.1053\n",
      "Epoch 231/500\n",
      "1/5 [=====>........................] - ETA: 0s - loss: 0.0155 - mae: 0.0988"
     ]
    },
    {
     "name": "stderr",
     "output_type": "stream",
     "text": [
      "WARNING:absl:Found untraced functions such as lstm_cell_layer_call_fn, lstm_cell_layer_call_and_return_conditional_losses while saving (showing 2 of 2). These functions will not be directly callable after loading.\n"
     ]
    },
    {
     "name": "stdout",
     "output_type": "stream",
     "text": [
      "INFO:tensorflow:Assets written to: C:\\Users\\PARK\\Documents\\LAB\\RNN vs LSTM\\FInal Example\\wandb\\run-20221018_155335-3crds3hr\\files\\model-best\\assets\n"
     ]
    },
    {
     "name": "stderr",
     "output_type": "stream",
     "text": [
      "INFO:tensorflow:Assets written to: C:\\Users\\PARK\\Documents\\LAB\\RNN vs LSTM\\FInal Example\\wandb\\run-20221018_155335-3crds3hr\\files\\model-best\\assets\n",
      "\u001b[34m\u001b[1mwandb\u001b[0m: Adding directory to artifact (C:\\Users\\PARK\\Documents\\LAB\\RNN vs LSTM\\FInal Example\\wandb\\run-20221018_155335-3crds3hr\\files\\model-best)... Done. 0.1s\n"
     ]
    },
    {
     "name": "stdout",
     "output_type": "stream",
     "text": [
      "5/5 [==============================] - 4s 1s/step - loss: 0.0167 - mae: 0.1016 - val_loss: 0.0157 - val_mae: 0.0980\n",
      "Epoch 232/500\n",
      "2/5 [===========>..................] - ETA: 0s - loss: 0.0157 - mae: 0.0978"
     ]
    },
    {
     "name": "stderr",
     "output_type": "stream",
     "text": [
      "WARNING:absl:Found untraced functions such as lstm_cell_layer_call_fn, lstm_cell_layer_call_and_return_conditional_losses while saving (showing 2 of 2). These functions will not be directly callable after loading.\n"
     ]
    },
    {
     "name": "stdout",
     "output_type": "stream",
     "text": [
      "INFO:tensorflow:Assets written to: C:\\Users\\PARK\\Documents\\LAB\\RNN vs LSTM\\FInal Example\\wandb\\run-20221018_155335-3crds3hr\\files\\model-best\\assets\n"
     ]
    },
    {
     "name": "stderr",
     "output_type": "stream",
     "text": [
      "INFO:tensorflow:Assets written to: C:\\Users\\PARK\\Documents\\LAB\\RNN vs LSTM\\FInal Example\\wandb\\run-20221018_155335-3crds3hr\\files\\model-best\\assets\n",
      "\u001b[34m\u001b[1mwandb\u001b[0m: Adding directory to artifact (C:\\Users\\PARK\\Documents\\LAB\\RNN vs LSTM\\FInal Example\\wandb\\run-20221018_155335-3crds3hr\\files\\model-best)... Done. 0.1s\n"
     ]
    },
    {
     "name": "stdout",
     "output_type": "stream",
     "text": [
      "5/5 [==============================] - 4s 1s/step - loss: 0.0152 - mae: 0.0968 - val_loss: 0.0150 - val_mae: 0.0959\n",
      "Epoch 233/500\n",
      "5/5 [==============================] - 1s 114ms/step - loss: 0.0147 - mae: 0.0954 - val_loss: 0.0152 - val_mae: 0.0970\n",
      "Epoch 234/500\n",
      "1/5 [=====>........................] - ETA: 0s - loss: 0.0143 - mae: 0.0923"
     ]
    },
    {
     "name": "stderr",
     "output_type": "stream",
     "text": [
      "WARNING:absl:Found untraced functions such as lstm_cell_layer_call_fn, lstm_cell_layer_call_and_return_conditional_losses while saving (showing 2 of 2). These functions will not be directly callable after loading.\n"
     ]
    },
    {
     "name": "stdout",
     "output_type": "stream",
     "text": [
      "INFO:tensorflow:Assets written to: C:\\Users\\PARK\\Documents\\LAB\\RNN vs LSTM\\FInal Example\\wandb\\run-20221018_155335-3crds3hr\\files\\model-best\\assets\n"
     ]
    },
    {
     "name": "stderr",
     "output_type": "stream",
     "text": [
      "INFO:tensorflow:Assets written to: C:\\Users\\PARK\\Documents\\LAB\\RNN vs LSTM\\FInal Example\\wandb\\run-20221018_155335-3crds3hr\\files\\model-best\\assets\n",
      "\u001b[34m\u001b[1mwandb\u001b[0m: Adding directory to artifact (C:\\Users\\PARK\\Documents\\LAB\\RNN vs LSTM\\FInal Example\\wandb\\run-20221018_155335-3crds3hr\\files\\model-best)... Done. 0.1s\n"
     ]
    },
    {
     "name": "stdout",
     "output_type": "stream",
     "text": [
      "5/5 [==============================] - 4s 1s/step - loss: 0.0138 - mae: 0.0923 - val_loss: 0.0142 - val_mae: 0.0935\n",
      "Epoch 235/500\n",
      "3/5 [=================>............] - ETA: 0s - loss: 0.0131 - mae: 0.0901"
     ]
    },
    {
     "name": "stderr",
     "output_type": "stream",
     "text": [
      "WARNING:absl:Found untraced functions such as lstm_cell_layer_call_fn, lstm_cell_layer_call_and_return_conditional_losses while saving (showing 2 of 2). These functions will not be directly callable after loading.\n"
     ]
    },
    {
     "name": "stdout",
     "output_type": "stream",
     "text": [
      "INFO:tensorflow:Assets written to: C:\\Users\\PARK\\Documents\\LAB\\RNN vs LSTM\\FInal Example\\wandb\\run-20221018_155335-3crds3hr\\files\\model-best\\assets\n"
     ]
    },
    {
     "name": "stderr",
     "output_type": "stream",
     "text": [
      "INFO:tensorflow:Assets written to: C:\\Users\\PARK\\Documents\\LAB\\RNN vs LSTM\\FInal Example\\wandb\\run-20221018_155335-3crds3hr\\files\\model-best\\assets\n",
      "\u001b[34m\u001b[1mwandb\u001b[0m: Adding directory to artifact (C:\\Users\\PARK\\Documents\\LAB\\RNN vs LSTM\\FInal Example\\wandb\\run-20221018_155335-3crds3hr\\files\\model-best)... Done. 0.1s\n"
     ]
    },
    {
     "name": "stdout",
     "output_type": "stream",
     "text": [
      "5/5 [==============================] - 4s 1s/step - loss: 0.0128 - mae: 0.0890 - val_loss: 0.0140 - val_mae: 0.0931\n",
      "Epoch 236/500\n",
      "4/5 [=======================>......] - ETA: 0s - loss: 0.0119 - mae: 0.0868"
     ]
    },
    {
     "name": "stderr",
     "output_type": "stream",
     "text": [
      "WARNING:absl:Found untraced functions such as lstm_cell_layer_call_fn, lstm_cell_layer_call_and_return_conditional_losses while saving (showing 2 of 2). These functions will not be directly callable after loading.\n"
     ]
    },
    {
     "name": "stdout",
     "output_type": "stream",
     "text": [
      "INFO:tensorflow:Assets written to: C:\\Users\\PARK\\Documents\\LAB\\RNN vs LSTM\\FInal Example\\wandb\\run-20221018_155335-3crds3hr\\files\\model-best\\assets\n"
     ]
    },
    {
     "name": "stderr",
     "output_type": "stream",
     "text": [
      "INFO:tensorflow:Assets written to: C:\\Users\\PARK\\Documents\\LAB\\RNN vs LSTM\\FInal Example\\wandb\\run-20221018_155335-3crds3hr\\files\\model-best\\assets\n",
      "\u001b[34m\u001b[1mwandb\u001b[0m: Adding directory to artifact (C:\\Users\\PARK\\Documents\\LAB\\RNN vs LSTM\\FInal Example\\wandb\\run-20221018_155335-3crds3hr\\files\\model-best)... Done. 0.1s\n"
     ]
    },
    {
     "name": "stdout",
     "output_type": "stream",
     "text": [
      "5/5 [==============================] - 4s 1s/step - loss: 0.0119 - mae: 0.0867 - val_loss: 0.0128 - val_mae: 0.0873\n",
      "Epoch 237/500\n",
      "2/5 [===========>..................] - ETA: 0s - loss: 0.0107 - mae: 0.0820"
     ]
    },
    {
     "name": "stderr",
     "output_type": "stream",
     "text": [
      "WARNING:absl:Found untraced functions such as lstm_cell_layer_call_fn, lstm_cell_layer_call_and_return_conditional_losses while saving (showing 2 of 2). These functions will not be directly callable after loading.\n"
     ]
    },
    {
     "name": "stdout",
     "output_type": "stream",
     "text": [
      "INFO:tensorflow:Assets written to: C:\\Users\\PARK\\Documents\\LAB\\RNN vs LSTM\\FInal Example\\wandb\\run-20221018_155335-3crds3hr\\files\\model-best\\assets\n"
     ]
    },
    {
     "name": "stderr",
     "output_type": "stream",
     "text": [
      "INFO:tensorflow:Assets written to: C:\\Users\\PARK\\Documents\\LAB\\RNN vs LSTM\\FInal Example\\wandb\\run-20221018_155335-3crds3hr\\files\\model-best\\assets\n",
      "\u001b[34m\u001b[1mwandb\u001b[0m: Adding directory to artifact (C:\\Users\\PARK\\Documents\\LAB\\RNN vs LSTM\\FInal Example\\wandb\\run-20221018_155335-3crds3hr\\files\\model-best)... Done. 0.1s\n"
     ]
    },
    {
     "name": "stdout",
     "output_type": "stream",
     "text": [
      "5/5 [==============================] - 4s 1s/step - loss: 0.0114 - mae: 0.0842 - val_loss: 0.0126 - val_mae: 0.0884\n",
      "Epoch 238/500\n",
      "5/5 [==============================] - 1s 131ms/step - loss: 0.0109 - mae: 0.0821 - val_loss: 0.0131 - val_mae: 0.0903\n",
      "Epoch 239/500\n",
      "5/5 [==============================] - ETA: 0s - loss: 0.0103 - mae: 0.0799"
     ]
    },
    {
     "name": "stderr",
     "output_type": "stream",
     "text": [
      "WARNING:absl:Found untraced functions such as lstm_cell_layer_call_fn, lstm_cell_layer_call_and_return_conditional_losses while saving (showing 2 of 2). These functions will not be directly callable after loading.\n"
     ]
    },
    {
     "name": "stdout",
     "output_type": "stream",
     "text": [
      "INFO:tensorflow:Assets written to: C:\\Users\\PARK\\Documents\\LAB\\RNN vs LSTM\\FInal Example\\wandb\\run-20221018_155335-3crds3hr\\files\\model-best\\assets\n"
     ]
    },
    {
     "name": "stderr",
     "output_type": "stream",
     "text": [
      "INFO:tensorflow:Assets written to: C:\\Users\\PARK\\Documents\\LAB\\RNN vs LSTM\\FInal Example\\wandb\\run-20221018_155335-3crds3hr\\files\\model-best\\assets\n",
      "\u001b[34m\u001b[1mwandb\u001b[0m: Adding directory to artifact (C:\\Users\\PARK\\Documents\\LAB\\RNN vs LSTM\\FInal Example\\wandb\\run-20221018_155335-3crds3hr\\files\\model-best)... Done. 0.1s\n"
     ]
    },
    {
     "name": "stdout",
     "output_type": "stream",
     "text": [
      "5/5 [==============================] - 5s 1s/step - loss: 0.0103 - mae: 0.0799 - val_loss: 0.0124 - val_mae: 0.0869\n",
      "Epoch 240/500\n",
      "4/5 [=======================>......] - ETA: 0s - loss: 0.0100 - mae: 0.0790"
     ]
    },
    {
     "name": "stderr",
     "output_type": "stream",
     "text": [
      "WARNING:absl:Found untraced functions such as lstm_cell_layer_call_fn, lstm_cell_layer_call_and_return_conditional_losses while saving (showing 2 of 2). These functions will not be directly callable after loading.\n"
     ]
    },
    {
     "name": "stdout",
     "output_type": "stream",
     "text": [
      "INFO:tensorflow:Assets written to: C:\\Users\\PARK\\Documents\\LAB\\RNN vs LSTM\\FInal Example\\wandb\\run-20221018_155335-3crds3hr\\files\\model-best\\assets\n"
     ]
    },
    {
     "name": "stderr",
     "output_type": "stream",
     "text": [
      "INFO:tensorflow:Assets written to: C:\\Users\\PARK\\Documents\\LAB\\RNN vs LSTM\\FInal Example\\wandb\\run-20221018_155335-3crds3hr\\files\\model-best\\assets\n",
      "\u001b[34m\u001b[1mwandb\u001b[0m: Adding directory to artifact (C:\\Users\\PARK\\Documents\\LAB\\RNN vs LSTM\\FInal Example\\wandb\\run-20221018_155335-3crds3hr\\files\\model-best)... Done. 0.1s\n"
     ]
    },
    {
     "name": "stdout",
     "output_type": "stream",
     "text": [
      "5/5 [==============================] - 4s 1s/step - loss: 0.0100 - mae: 0.0791 - val_loss: 0.0122 - val_mae: 0.0873\n",
      "Epoch 241/500\n",
      "1/5 [=====>........................] - ETA: 0s - loss: 0.0097 - mae: 0.0770"
     ]
    },
    {
     "name": "stderr",
     "output_type": "stream",
     "text": [
      "WARNING:absl:Found untraced functions such as lstm_cell_layer_call_fn, lstm_cell_layer_call_and_return_conditional_losses while saving (showing 2 of 2). These functions will not be directly callable after loading.\n"
     ]
    },
    {
     "name": "stdout",
     "output_type": "stream",
     "text": [
      "INFO:tensorflow:Assets written to: C:\\Users\\PARK\\Documents\\LAB\\RNN vs LSTM\\FInal Example\\wandb\\run-20221018_155335-3crds3hr\\files\\model-best\\assets\n"
     ]
    },
    {
     "name": "stderr",
     "output_type": "stream",
     "text": [
      "INFO:tensorflow:Assets written to: C:\\Users\\PARK\\Documents\\LAB\\RNN vs LSTM\\FInal Example\\wandb\\run-20221018_155335-3crds3hr\\files\\model-best\\assets\n",
      "\u001b[34m\u001b[1mwandb\u001b[0m: Adding directory to artifact (C:\\Users\\PARK\\Documents\\LAB\\RNN vs LSTM\\FInal Example\\wandb\\run-20221018_155335-3crds3hr\\files\\model-best)... Done. 0.1s\n"
     ]
    },
    {
     "name": "stdout",
     "output_type": "stream",
     "text": [
      "5/5 [==============================] - 4s 992ms/step - loss: 0.0094 - mae: 0.0770 - val_loss: 0.0114 - val_mae: 0.0850\n",
      "Epoch 242/500\n",
      "3/5 [=================>............] - ETA: 0s - loss: 0.0091 - mae: 0.0761"
     ]
    },
    {
     "name": "stderr",
     "output_type": "stream",
     "text": [
      "WARNING:absl:Found untraced functions such as lstm_cell_layer_call_fn, lstm_cell_layer_call_and_return_conditional_losses while saving (showing 2 of 2). These functions will not be directly callable after loading.\n"
     ]
    },
    {
     "name": "stdout",
     "output_type": "stream",
     "text": [
      "INFO:tensorflow:Assets written to: C:\\Users\\PARK\\Documents\\LAB\\RNN vs LSTM\\FInal Example\\wandb\\run-20221018_155335-3crds3hr\\files\\model-best\\assets\n"
     ]
    },
    {
     "name": "stderr",
     "output_type": "stream",
     "text": [
      "INFO:tensorflow:Assets written to: C:\\Users\\PARK\\Documents\\LAB\\RNN vs LSTM\\FInal Example\\wandb\\run-20221018_155335-3crds3hr\\files\\model-best\\assets\n",
      "\u001b[34m\u001b[1mwandb\u001b[0m: Adding directory to artifact (C:\\Users\\PARK\\Documents\\LAB\\RNN vs LSTM\\FInal Example\\wandb\\run-20221018_155335-3crds3hr\\files\\model-best)... Done. 0.1s\n"
     ]
    },
    {
     "name": "stdout",
     "output_type": "stream",
     "text": [
      "5/5 [==============================] - 4s 1s/step - loss: 0.0093 - mae: 0.0765 - val_loss: 0.0108 - val_mae: 0.0829\n",
      "Epoch 243/500\n",
      "5/5 [==============================] - 1s 121ms/step - loss: 0.0088 - mae: 0.0749 - val_loss: 0.0111 - val_mae: 0.0829\n",
      "Epoch 244/500\n",
      "1/5 [=====>........................] - ETA: 0s - loss: 0.0084 - mae: 0.0710"
     ]
    },
    {
     "name": "stderr",
     "output_type": "stream",
     "text": [
      "WARNING:absl:Found untraced functions such as lstm_cell_layer_call_fn, lstm_cell_layer_call_and_return_conditional_losses while saving (showing 2 of 2). These functions will not be directly callable after loading.\n"
     ]
    },
    {
     "name": "stdout",
     "output_type": "stream",
     "text": [
      "INFO:tensorflow:Assets written to: C:\\Users\\PARK\\Documents\\LAB\\RNN vs LSTM\\FInal Example\\wandb\\run-20221018_155335-3crds3hr\\files\\model-best\\assets\n"
     ]
    },
    {
     "name": "stderr",
     "output_type": "stream",
     "text": [
      "INFO:tensorflow:Assets written to: C:\\Users\\PARK\\Documents\\LAB\\RNN vs LSTM\\FInal Example\\wandb\\run-20221018_155335-3crds3hr\\files\\model-best\\assets\n",
      "\u001b[34m\u001b[1mwandb\u001b[0m: Adding directory to artifact (C:\\Users\\PARK\\Documents\\LAB\\RNN vs LSTM\\FInal Example\\wandb\\run-20221018_155335-3crds3hr\\files\\model-best)... Done. 0.1s\n"
     ]
    },
    {
     "name": "stdout",
     "output_type": "stream",
     "text": [
      "5/5 [==============================] - 4s 1s/step - loss: 0.0084 - mae: 0.0734 - val_loss: 0.0106 - val_mae: 0.0812\n",
      "Epoch 245/500\n",
      "3/5 [=================>............] - ETA: 0s - loss: 0.0080 - mae: 0.0713"
     ]
    },
    {
     "name": "stderr",
     "output_type": "stream",
     "text": [
      "WARNING:absl:Found untraced functions such as lstm_cell_layer_call_fn, lstm_cell_layer_call_and_return_conditional_losses while saving (showing 2 of 2). These functions will not be directly callable after loading.\n"
     ]
    },
    {
     "name": "stdout",
     "output_type": "stream",
     "text": [
      "INFO:tensorflow:Assets written to: C:\\Users\\PARK\\Documents\\LAB\\RNN vs LSTM\\FInal Example\\wandb\\run-20221018_155335-3crds3hr\\files\\model-best\\assets\n"
     ]
    },
    {
     "name": "stderr",
     "output_type": "stream",
     "text": [
      "INFO:tensorflow:Assets written to: C:\\Users\\PARK\\Documents\\LAB\\RNN vs LSTM\\FInal Example\\wandb\\run-20221018_155335-3crds3hr\\files\\model-best\\assets\n",
      "\u001b[34m\u001b[1mwandb\u001b[0m: Adding directory to artifact (C:\\Users\\PARK\\Documents\\LAB\\RNN vs LSTM\\FInal Example\\wandb\\run-20221018_155335-3crds3hr\\files\\model-best)... Done. 0.1s\n"
     ]
    },
    {
     "name": "stdout",
     "output_type": "stream",
     "text": [
      "5/5 [==============================] - 4s 1s/step - loss: 0.0081 - mae: 0.0722 - val_loss: 0.0101 - val_mae: 0.0799\n",
      "Epoch 246/500\n",
      "3/5 [=================>............] - ETA: 0s - loss: 0.0075 - mae: 0.0698"
     ]
    },
    {
     "name": "stderr",
     "output_type": "stream",
     "text": [
      "WARNING:absl:Found untraced functions such as lstm_cell_layer_call_fn, lstm_cell_layer_call_and_return_conditional_losses while saving (showing 2 of 2). These functions will not be directly callable after loading.\n"
     ]
    },
    {
     "name": "stdout",
     "output_type": "stream",
     "text": [
      "INFO:tensorflow:Assets written to: C:\\Users\\PARK\\Documents\\LAB\\RNN vs LSTM\\FInal Example\\wandb\\run-20221018_155335-3crds3hr\\files\\model-best\\assets\n"
     ]
    },
    {
     "name": "stderr",
     "output_type": "stream",
     "text": [
      "INFO:tensorflow:Assets written to: C:\\Users\\PARK\\Documents\\LAB\\RNN vs LSTM\\FInal Example\\wandb\\run-20221018_155335-3crds3hr\\files\\model-best\\assets\n",
      "\u001b[34m\u001b[1mwandb\u001b[0m: Adding directory to artifact (C:\\Users\\PARK\\Documents\\LAB\\RNN vs LSTM\\FInal Example\\wandb\\run-20221018_155335-3crds3hr\\files\\model-best)... Done. 0.1s\n"
     ]
    },
    {
     "name": "stdout",
     "output_type": "stream",
     "text": [
      "5/5 [==============================] - 4s 1s/step - loss: 0.0077 - mae: 0.0707 - val_loss: 0.0099 - val_mae: 0.0797\n",
      "Epoch 247/500\n",
      "3/5 [=================>............] - ETA: 0s - loss: 0.0079 - mae: 0.0717"
     ]
    },
    {
     "name": "stderr",
     "output_type": "stream",
     "text": [
      "WARNING:absl:Found untraced functions such as lstm_cell_layer_call_fn, lstm_cell_layer_call_and_return_conditional_losses while saving (showing 2 of 2). These functions will not be directly callable after loading.\n"
     ]
    },
    {
     "name": "stdout",
     "output_type": "stream",
     "text": [
      "INFO:tensorflow:Assets written to: C:\\Users\\PARK\\Documents\\LAB\\RNN vs LSTM\\FInal Example\\wandb\\run-20221018_155335-3crds3hr\\files\\model-best\\assets\n"
     ]
    },
    {
     "name": "stderr",
     "output_type": "stream",
     "text": [
      "INFO:tensorflow:Assets written to: C:\\Users\\PARK\\Documents\\LAB\\RNN vs LSTM\\FInal Example\\wandb\\run-20221018_155335-3crds3hr\\files\\model-best\\assets\n",
      "\u001b[34m\u001b[1mwandb\u001b[0m: Adding directory to artifact (C:\\Users\\PARK\\Documents\\LAB\\RNN vs LSTM\\FInal Example\\wandb\\run-20221018_155335-3crds3hr\\files\\model-best)... Done. 0.1s\n"
     ]
    },
    {
     "name": "stdout",
     "output_type": "stream",
     "text": [
      "5/5 [==============================] - 4s 1s/step - loss: 0.0077 - mae: 0.0705 - val_loss: 0.0098 - val_mae: 0.0785\n",
      "Epoch 248/500\n",
      "5/5 [==============================] - ETA: 0s - loss: 0.0078 - mae: 0.0706"
     ]
    },
    {
     "name": "stderr",
     "output_type": "stream",
     "text": [
      "WARNING:absl:Found untraced functions such as lstm_cell_layer_call_fn, lstm_cell_layer_call_and_return_conditional_losses while saving (showing 2 of 2). These functions will not be directly callable after loading.\n"
     ]
    },
    {
     "name": "stdout",
     "output_type": "stream",
     "text": [
      "INFO:tensorflow:Assets written to: C:\\Users\\PARK\\Documents\\LAB\\RNN vs LSTM\\FInal Example\\wandb\\run-20221018_155335-3crds3hr\\files\\model-best\\assets\n"
     ]
    },
    {
     "name": "stderr",
     "output_type": "stream",
     "text": [
      "INFO:tensorflow:Assets written to: C:\\Users\\PARK\\Documents\\LAB\\RNN vs LSTM\\FInal Example\\wandb\\run-20221018_155335-3crds3hr\\files\\model-best\\assets\n",
      "\u001b[34m\u001b[1mwandb\u001b[0m: Adding directory to artifact (C:\\Users\\PARK\\Documents\\LAB\\RNN vs LSTM\\FInal Example\\wandb\\run-20221018_155335-3crds3hr\\files\\model-best)... Done. 0.1s\n"
     ]
    },
    {
     "name": "stdout",
     "output_type": "stream",
     "text": [
      "5/5 [==============================] - 5s 1s/step - loss: 0.0078 - mae: 0.0706 - val_loss: 0.0096 - val_mae: 0.0778\n",
      "Epoch 249/500\n",
      "2/5 [===========>..................] - ETA: 0s - loss: 0.0073 - mae: 0.0685"
     ]
    },
    {
     "name": "stderr",
     "output_type": "stream",
     "text": [
      "WARNING:absl:Found untraced functions such as lstm_cell_layer_call_fn, lstm_cell_layer_call_and_return_conditional_losses while saving (showing 2 of 2). These functions will not be directly callable after loading.\n"
     ]
    },
    {
     "name": "stdout",
     "output_type": "stream",
     "text": [
      "INFO:tensorflow:Assets written to: C:\\Users\\PARK\\Documents\\LAB\\RNN vs LSTM\\FInal Example\\wandb\\run-20221018_155335-3crds3hr\\files\\model-best\\assets\n"
     ]
    },
    {
     "name": "stderr",
     "output_type": "stream",
     "text": [
      "INFO:tensorflow:Assets written to: C:\\Users\\PARK\\Documents\\LAB\\RNN vs LSTM\\FInal Example\\wandb\\run-20221018_155335-3crds3hr\\files\\model-best\\assets\n",
      "\u001b[34m\u001b[1mwandb\u001b[0m: Adding directory to artifact (C:\\Users\\PARK\\Documents\\LAB\\RNN vs LSTM\\FInal Example\\wandb\\run-20221018_155335-3crds3hr\\files\\model-best)... Done. 0.1s\n"
     ]
    },
    {
     "name": "stdout",
     "output_type": "stream",
     "text": [
      "5/5 [==============================] - 4s 1s/step - loss: 0.0074 - mae: 0.0697 - val_loss: 0.0090 - val_mae: 0.0760\n",
      "Epoch 250/500\n",
      "5/5 [==============================] - 0s 101ms/step - loss: 0.0069 - mae: 0.0675 - val_loss: 0.0092 - val_mae: 0.0768\n",
      "Epoch 251/500\n",
      "1/5 [=====>........................] - ETA: 0s - loss: 0.0068 - mae: 0.0675"
     ]
    },
    {
     "name": "stderr",
     "output_type": "stream",
     "text": [
      "WARNING:absl:Found untraced functions such as lstm_cell_layer_call_fn, lstm_cell_layer_call_and_return_conditional_losses while saving (showing 2 of 2). These functions will not be directly callable after loading.\n"
     ]
    },
    {
     "name": "stdout",
     "output_type": "stream",
     "text": [
      "INFO:tensorflow:Assets written to: C:\\Users\\PARK\\Documents\\LAB\\RNN vs LSTM\\FInal Example\\wandb\\run-20221018_155335-3crds3hr\\files\\model-best\\assets\n"
     ]
    },
    {
     "name": "stderr",
     "output_type": "stream",
     "text": [
      "INFO:tensorflow:Assets written to: C:\\Users\\PARK\\Documents\\LAB\\RNN vs LSTM\\FInal Example\\wandb\\run-20221018_155335-3crds3hr\\files\\model-best\\assets\n",
      "\u001b[34m\u001b[1mwandb\u001b[0m: Adding directory to artifact (C:\\Users\\PARK\\Documents\\LAB\\RNN vs LSTM\\FInal Example\\wandb\\run-20221018_155335-3crds3hr\\files\\model-best)... Done. 0.1s\n"
     ]
    },
    {
     "name": "stdout",
     "output_type": "stream",
     "text": [
      "5/5 [==============================] - 4s 1s/step - loss: 0.0069 - mae: 0.0668 - val_loss: 0.0090 - val_mae: 0.0759\n",
      "Epoch 252/500\n",
      "5/5 [==============================] - 0s 97ms/step - loss: 0.0072 - mae: 0.0686 - val_loss: 0.0092 - val_mae: 0.0776\n",
      "Epoch 253/500\n",
      "5/5 [==============================] - 0s 73ms/step - loss: 0.0072 - mae: 0.0695 - val_loss: 0.0092 - val_mae: 0.0775\n",
      "Epoch 254/500\n",
      "5/5 [==============================] - 0s 74ms/step - loss: 0.4697 - mae: 0.2296 - val_loss: 1.8808 - val_mae: 1.1417\n",
      "Epoch 255/500\n",
      "5/5 [==============================] - 0s 74ms/step - loss: 1.1701 - mae: 0.9014 - val_loss: 0.4571 - val_mae: 0.5128\n",
      "Epoch 256/500\n",
      "5/5 [==============================] - 0s 71ms/step - loss: 0.8193 - mae: 0.7207 - val_loss: 4.6125 - val_mae: 1.9961\n",
      "Epoch 257/500\n",
      "5/5 [==============================] - 0s 73ms/step - loss: 1.6520 - mae: 0.9892 - val_loss: 1.1178 - val_mae: 0.8937\n",
      "Epoch 258/500\n",
      "5/5 [==============================] - 0s 72ms/step - loss: 0.5003 - mae: 0.5500 - val_loss: 0.2633 - val_mae: 0.4175\n",
      "Epoch 259/500\n",
      "5/5 [==============================] - 0s 71ms/step - loss: 0.2213 - mae: 0.3797 - val_loss: 0.1844 - val_mae: 0.3467\n",
      "Epoch 260/500\n",
      "5/5 [==============================] - 0s 71ms/step - loss: 0.2117 - mae: 0.3718 - val_loss: 0.2044 - val_mae: 0.3719\n",
      "Epoch 261/500\n",
      "5/5 [==============================] - 0s 69ms/step - loss: 0.2078 - mae: 0.3698 - val_loss: 0.1781 - val_mae: 0.3477\n",
      "Epoch 262/500\n",
      "5/5 [==============================] - 0s 70ms/step - loss: 0.1876 - mae: 0.3548 - val_loss: 0.1822 - val_mae: 0.3513\n",
      "Epoch 263/500\n",
      "5/5 [==============================] - 0s 71ms/step - loss: 0.1819 - mae: 0.3521 - val_loss: 0.1697 - val_mae: 0.3409\n",
      "Epoch 264/500\n",
      "5/5 [==============================] - 0s 71ms/step - loss: 0.1767 - mae: 0.3442 - val_loss: 0.1681 - val_mae: 0.3378\n",
      "Epoch 265/500\n",
      "5/5 [==============================] - 0s 71ms/step - loss: 0.1739 - mae: 0.3407 - val_loss: 0.1615 - val_mae: 0.3286\n",
      "Epoch 266/500\n",
      "5/5 [==============================] - 0s 71ms/step - loss: 0.1752 - mae: 0.3427 - val_loss: 0.1620 - val_mae: 0.3303\n",
      "Epoch 267/500\n",
      "5/5 [==============================] - 0s 72ms/step - loss: 0.1744 - mae: 0.3417 - val_loss: 0.1631 - val_mae: 0.3316\n",
      "Epoch 268/500\n",
      "5/5 [==============================] - 0s 71ms/step - loss: 0.1739 - mae: 0.3404 - val_loss: 0.1613 - val_mae: 0.3264\n",
      "Epoch 269/500\n",
      "5/5 [==============================] - 0s 71ms/step - loss: 0.1704 - mae: 0.3371 - val_loss: 0.1634 - val_mae: 0.3315\n",
      "Epoch 270/500\n",
      "5/5 [==============================] - 0s 71ms/step - loss: 0.1741 - mae: 0.3414 - val_loss: 0.1594 - val_mae: 0.3279\n",
      "Epoch 271/500\n",
      "5/5 [==============================] - 0s 71ms/step - loss: 0.1730 - mae: 0.3408 - val_loss: 0.1612 - val_mae: 0.3286\n",
      "Epoch 272/500\n",
      "5/5 [==============================] - 0s 71ms/step - loss: 0.1722 - mae: 0.3399 - val_loss: 0.1622 - val_mae: 0.3266\n",
      "Epoch 273/500\n",
      "5/5 [==============================] - 0s 72ms/step - loss: 0.1695 - mae: 0.3364 - val_loss: 0.1604 - val_mae: 0.3287\n",
      "Epoch 274/500\n",
      "5/5 [==============================] - 0s 71ms/step - loss: 0.1733 - mae: 0.3412 - val_loss: 0.1574 - val_mae: 0.3224\n",
      "Epoch 275/500\n",
      "5/5 [==============================] - 0s 73ms/step - loss: 0.1757 - mae: 0.3410 - val_loss: 0.1598 - val_mae: 0.3240\n",
      "Epoch 276/500\n",
      "5/5 [==============================] - 0s 74ms/step - loss: 0.1790 - mae: 0.3445 - val_loss: 0.1578 - val_mae: 0.3253\n",
      "Epoch 277/500\n",
      "5/5 [==============================] - 0s 72ms/step - loss: 0.1702 - mae: 0.3374 - val_loss: 0.1637 - val_mae: 0.3274\n",
      "Epoch 278/500\n",
      "5/5 [==============================] - 0s 72ms/step - loss: 0.1780 - mae: 0.3435 - val_loss: 0.1590 - val_mae: 0.3269\n",
      "Epoch 279/500\n",
      "5/5 [==============================] - 0s 73ms/step - loss: 0.1704 - mae: 0.3373 - val_loss: 0.1593 - val_mae: 0.3239\n",
      "Epoch 280/500\n",
      "5/5 [==============================] - 0s 73ms/step - loss: 0.1716 - mae: 0.3380 - val_loss: 0.1600 - val_mae: 0.3280\n",
      "Epoch 281/500\n",
      "5/5 [==============================] - 0s 72ms/step - loss: 0.1677 - mae: 0.3345 - val_loss: 0.1560 - val_mae: 0.3212\n",
      "Epoch 282/500\n",
      "5/5 [==============================] - 0s 72ms/step - loss: 0.1737 - mae: 0.3406 - val_loss: 0.1576 - val_mae: 0.3236\n",
      "Epoch 283/500\n",
      "5/5 [==============================] - 0s 73ms/step - loss: 0.1669 - mae: 0.3330 - val_loss: 0.1600 - val_mae: 0.3242\n",
      "Epoch 284/500\n",
      "5/5 [==============================] - 0s 72ms/step - loss: 0.1690 - mae: 0.3360 - val_loss: 0.1543 - val_mae: 0.3207\n",
      "Epoch 285/500\n",
      "5/5 [==============================] - 0s 73ms/step - loss: 0.1674 - mae: 0.3333 - val_loss: 0.1539 - val_mae: 0.3208\n",
      "Epoch 286/500\n",
      "5/5 [==============================] - 0s 71ms/step - loss: 0.1684 - mae: 0.3357 - val_loss: 0.1549 - val_mae: 0.3202\n",
      "Epoch 287/500\n",
      "5/5 [==============================] - 0s 72ms/step - loss: 0.1671 - mae: 0.3333 - val_loss: 0.1526 - val_mae: 0.3196\n",
      "Epoch 288/500\n",
      "5/5 [==============================] - 0s 72ms/step - loss: 0.1648 - mae: 0.3328 - val_loss: 0.1566 - val_mae: 0.3218\n",
      "Epoch 289/500\n",
      "5/5 [==============================] - 0s 72ms/step - loss: 0.1699 - mae: 0.3371 - val_loss: 0.1527 - val_mae: 0.3189\n",
      "Epoch 290/500\n",
      "5/5 [==============================] - 0s 71ms/step - loss: 0.1652 - mae: 0.3330 - val_loss: 0.1567 - val_mae: 0.3201\n",
      "Epoch 291/500\n",
      "5/5 [==============================] - 0s 72ms/step - loss: 0.1759 - mae: 0.3417 - val_loss: 0.1536 - val_mae: 0.3190\n",
      "Epoch 292/500\n",
      "5/5 [==============================] - 0s 72ms/step - loss: 0.1617 - mae: 0.3287 - val_loss: 0.1499 - val_mae: 0.3162\n",
      "Epoch 293/500\n",
      "5/5 [==============================] - 0s 71ms/step - loss: 0.1624 - mae: 0.3285 - val_loss: 0.1531 - val_mae: 0.3206\n",
      "Epoch 294/500\n",
      "5/5 [==============================] - 0s 74ms/step - loss: 0.1614 - mae: 0.3290 - val_loss: 0.1481 - val_mae: 0.3146\n",
      "Epoch 295/500\n",
      "5/5 [==============================] - 0s 74ms/step - loss: 0.1642 - mae: 0.3320 - val_loss: 0.1572 - val_mae: 0.3203\n",
      "Epoch 296/500\n",
      "5/5 [==============================] - 0s 73ms/step - loss: 0.1692 - mae: 0.3348 - val_loss: 0.1532 - val_mae: 0.3209\n",
      "Epoch 297/500\n",
      "5/5 [==============================] - 0s 73ms/step - loss: 0.1664 - mae: 0.3336 - val_loss: 0.1533 - val_mae: 0.3172\n",
      "Epoch 298/500\n",
      "5/5 [==============================] - 0s 72ms/step - loss: 0.1610 - mae: 0.3277 - val_loss: 0.1533 - val_mae: 0.3207\n",
      "Epoch 299/500\n",
      "5/5 [==============================] - 0s 71ms/step - loss: 0.1599 - mae: 0.3261 - val_loss: 0.1463 - val_mae: 0.3114\n",
      "Epoch 300/500\n",
      "5/5 [==============================] - 0s 71ms/step - loss: 0.1577 - mae: 0.3247 - val_loss: 0.1433 - val_mae: 0.3092\n",
      "Epoch 301/500\n",
      "5/5 [==============================] - 0s 71ms/step - loss: 0.1709 - mae: 0.3348 - val_loss: 0.1549 - val_mae: 0.3236\n",
      "Epoch 302/500\n",
      "5/5 [==============================] - 0s 73ms/step - loss: 0.1743 - mae: 0.3394 - val_loss: 0.1622 - val_mae: 0.3248\n",
      "Epoch 303/500\n",
      "5/5 [==============================] - 0s 70ms/step - loss: 0.1821 - mae: 0.3469 - val_loss: 0.1647 - val_mae: 0.3318\n",
      "Epoch 304/500\n",
      "5/5 [==============================] - 0s 73ms/step - loss: 0.1600 - mae: 0.3267 - val_loss: 0.1669 - val_mae: 0.3309\n",
      "Epoch 305/500\n",
      "5/5 [==============================] - 0s 74ms/step - loss: 0.1653 - mae: 0.3315 - val_loss: 0.1583 - val_mae: 0.3256\n",
      "Epoch 306/500\n",
      "5/5 [==============================] - 0s 71ms/step - loss: 0.1644 - mae: 0.3305 - val_loss: 0.1597 - val_mae: 0.3227\n",
      "Epoch 307/500\n",
      "5/5 [==============================] - 0s 71ms/step - loss: 0.1557 - mae: 0.3224 - val_loss: 0.1561 - val_mae: 0.3239\n",
      "Epoch 308/500\n",
      "5/5 [==============================] - 0s 71ms/step - loss: 0.1598 - mae: 0.3263 - val_loss: 0.1599 - val_mae: 0.3210\n",
      "Epoch 309/500\n",
      "5/5 [==============================] - 0s 71ms/step - loss: 0.1536 - mae: 0.3188 - val_loss: 0.1516 - val_mae: 0.3195\n",
      "Epoch 310/500\n",
      "5/5 [==============================] - 0s 71ms/step - loss: 0.1545 - mae: 0.3189 - val_loss: 0.1469 - val_mae: 0.3091\n",
      "Epoch 311/500\n",
      "5/5 [==============================] - 0s 72ms/step - loss: 0.1526 - mae: 0.3177 - val_loss: 0.1579 - val_mae: 0.3262\n",
      "Epoch 312/500\n",
      "5/5 [==============================] - 0s 71ms/step - loss: 0.1484 - mae: 0.3137 - val_loss: 0.1692 - val_mae: 0.3324\n",
      "Epoch 313/500\n"
     ]
    },
    {
     "name": "stdout",
     "output_type": "stream",
     "text": [
      "5/5 [==============================] - 0s 71ms/step - loss: 0.1655 - mae: 0.3314 - val_loss: 0.1625 - val_mae: 0.3309\n",
      "Epoch 314/500\n",
      "5/5 [==============================] - 0s 69ms/step - loss: 0.1563 - mae: 0.3261 - val_loss: 0.1453 - val_mae: 0.3089\n",
      "Epoch 315/500\n",
      "5/5 [==============================] - 0s 71ms/step - loss: 0.1518 - mae: 0.3203 - val_loss: 0.1315 - val_mae: 0.2968\n",
      "Epoch 316/500\n",
      "5/5 [==============================] - 0s 72ms/step - loss: 0.1428 - mae: 0.3074 - val_loss: 0.1300 - val_mae: 0.2948\n",
      "Epoch 317/500\n",
      "5/5 [==============================] - 0s 72ms/step - loss: 0.1379 - mae: 0.3035 - val_loss: 0.1306 - val_mae: 0.2945\n",
      "Epoch 318/500\n",
      "5/5 [==============================] - 0s 73ms/step - loss: 0.1377 - mae: 0.3031 - val_loss: 0.1268 - val_mae: 0.2926\n",
      "Epoch 319/500\n",
      "5/5 [==============================] - 0s 72ms/step - loss: 0.1388 - mae: 0.3041 - val_loss: 0.1276 - val_mae: 0.2910\n",
      "Epoch 320/500\n",
      "5/5 [==============================] - 0s 72ms/step - loss: 0.1395 - mae: 0.3042 - val_loss: 0.1475 - val_mae: 0.3085\n",
      "Epoch 321/500\n",
      "5/5 [==============================] - 0s 70ms/step - loss: 0.1483 - mae: 0.3126 - val_loss: 0.1468 - val_mae: 0.3131\n",
      "Epoch 322/500\n",
      "5/5 [==============================] - 0s 71ms/step - loss: 0.1439 - mae: 0.3064 - val_loss: 0.1195 - val_mae: 0.2826\n",
      "Epoch 323/500\n",
      "5/5 [==============================] - 0s 70ms/step - loss: 0.1326 - mae: 0.2973 - val_loss: 0.1667 - val_mae: 0.3309\n",
      "Epoch 324/500\n",
      "5/5 [==============================] - 0s 70ms/step - loss: 0.1760 - mae: 0.3345 - val_loss: 0.2310 - val_mae: 0.3863\n",
      "Epoch 325/500\n",
      "5/5 [==============================] - 0s 71ms/step - loss: 0.1957 - mae: 0.3553 - val_loss: 0.1486 - val_mae: 0.3116\n",
      "Epoch 326/500\n",
      "5/5 [==============================] - 0s 70ms/step - loss: 0.1572 - mae: 0.3228 - val_loss: 0.1220 - val_mae: 0.2852\n",
      "Epoch 327/500\n",
      "5/5 [==============================] - 0s 72ms/step - loss: 0.1418 - mae: 0.3054 - val_loss: 0.1284 - val_mae: 0.2938\n",
      "Epoch 328/500\n",
      "5/5 [==============================] - 0s 70ms/step - loss: 0.1485 - mae: 0.3114 - val_loss: 0.1395 - val_mae: 0.3009\n",
      "Epoch 329/500\n",
      "5/5 [==============================] - 0s 72ms/step - loss: 0.1326 - mae: 0.2953 - val_loss: 0.1360 - val_mae: 0.3019\n",
      "Epoch 330/500\n",
      "5/5 [==============================] - 0s 70ms/step - loss: 0.1455 - mae: 0.3088 - val_loss: 0.1138 - val_mae: 0.2761\n",
      "Epoch 331/500\n",
      "5/5 [==============================] - 0s 71ms/step - loss: 0.1268 - mae: 0.2905 - val_loss: 0.1149 - val_mae: 0.2756\n",
      "Epoch 332/500\n",
      "5/5 [==============================] - 0s 72ms/step - loss: 0.1248 - mae: 0.2860 - val_loss: 0.1115 - val_mae: 0.2739\n",
      "Epoch 333/500\n",
      "5/5 [==============================] - 0s 70ms/step - loss: 0.1197 - mae: 0.2812 - val_loss: 0.1118 - val_mae: 0.2709\n",
      "Epoch 334/500\n",
      "5/5 [==============================] - 0s 73ms/step - loss: 0.1157 - mae: 0.2768 - val_loss: 0.1050 - val_mae: 0.2649\n",
      "Epoch 335/500\n",
      "5/5 [==============================] - 0s 73ms/step - loss: 0.1190 - mae: 0.2792 - val_loss: 0.1217 - val_mae: 0.2835\n",
      "Epoch 336/500\n",
      "5/5 [==============================] - 0s 73ms/step - loss: 0.1161 - mae: 0.2762 - val_loss: 0.0995 - val_mae: 0.2567\n",
      "Epoch 337/500\n",
      "5/5 [==============================] - 0s 72ms/step - loss: 0.1041 - mae: 0.2625 - val_loss: 0.1029 - val_mae: 0.2586\n",
      "Epoch 338/500\n",
      "5/5 [==============================] - 0s 70ms/step - loss: 0.1077 - mae: 0.2649 - val_loss: 0.0960 - val_mae: 0.2499\n",
      "Epoch 339/500\n",
      "5/5 [==============================] - 0s 72ms/step - loss: 0.1006 - mae: 0.2575 - val_loss: 0.0893 - val_mae: 0.2423\n",
      "Epoch 340/500\n",
      "5/5 [==============================] - 0s 72ms/step - loss: 0.0986 - mae: 0.2549 - val_loss: 0.0845 - val_mae: 0.2345\n",
      "Epoch 341/500\n",
      "5/5 [==============================] - 0s 72ms/step - loss: 0.0859 - mae: 0.2355 - val_loss: 0.0903 - val_mae: 0.2436\n",
      "Epoch 342/500\n",
      "5/5 [==============================] - 0s 74ms/step - loss: 0.1151 - mae: 0.2738 - val_loss: 0.0788 - val_mae: 0.2250\n",
      "Epoch 343/500\n",
      "5/5 [==============================] - 0s 71ms/step - loss: 0.1199 - mae: 0.2782 - val_loss: 0.0763 - val_mae: 0.2209\n",
      "Epoch 344/500\n",
      "5/5 [==============================] - 0s 71ms/step - loss: 0.1156 - mae: 0.2717 - val_loss: 0.0858 - val_mae: 0.2365\n",
      "Epoch 345/500\n",
      "5/5 [==============================] - 0s 71ms/step - loss: 0.1166 - mae: 0.2753 - val_loss: 0.0848 - val_mae: 0.2351\n",
      "Epoch 346/500\n",
      "5/5 [==============================] - 0s 71ms/step - loss: 0.0939 - mae: 0.2469 - val_loss: 0.1098 - val_mae: 0.2682\n",
      "Epoch 347/500\n",
      "5/5 [==============================] - 0s 71ms/step - loss: 0.1140 - mae: 0.2717 - val_loss: 0.0960 - val_mae: 0.2500\n",
      "Epoch 348/500\n",
      "5/5 [==============================] - 0s 71ms/step - loss: 0.1009 - mae: 0.2585 - val_loss: 0.0810 - val_mae: 0.2303\n",
      "Epoch 349/500\n",
      "5/5 [==============================] - 0s 72ms/step - loss: 0.0833 - mae: 0.2319 - val_loss: 0.0714 - val_mae: 0.2108\n",
      "Epoch 350/500\n",
      "5/5 [==============================] - 0s 72ms/step - loss: 0.0770 - mae: 0.2203 - val_loss: 0.0683 - val_mae: 0.2049\n",
      "Epoch 351/500\n",
      "5/5 [==============================] - 0s 74ms/step - loss: 0.0694 - mae: 0.2065 - val_loss: 0.0635 - val_mae: 0.1975\n",
      "Epoch 352/500\n",
      "5/5 [==============================] - 0s 73ms/step - loss: 0.0690 - mae: 0.2055 - val_loss: 0.0711 - val_mae: 0.2072\n",
      "Epoch 353/500\n",
      "5/5 [==============================] - 0s 73ms/step - loss: 0.0699 - mae: 0.2060 - val_loss: 0.0618 - val_mae: 0.1922\n",
      "Epoch 354/500\n",
      "5/5 [==============================] - 0s 73ms/step - loss: 0.0646 - mae: 0.1975 - val_loss: 0.0590 - val_mae: 0.1874\n",
      "Epoch 355/500\n",
      "5/5 [==============================] - 0s 74ms/step - loss: 0.0641 - mae: 0.1953 - val_loss: 0.0632 - val_mae: 0.1921\n",
      "Epoch 356/500\n",
      "5/5 [==============================] - 0s 73ms/step - loss: 0.0663 - mae: 0.1982 - val_loss: 0.0650 - val_mae: 0.1957\n",
      "Epoch 357/500\n",
      "5/5 [==============================] - 0s 71ms/step - loss: 0.0678 - mae: 0.2017 - val_loss: 0.0719 - val_mae: 0.2157\n",
      "Epoch 358/500\n",
      "5/5 [==============================] - 0s 70ms/step - loss: 0.0778 - mae: 0.2211 - val_loss: 0.0842 - val_mae: 0.2248\n",
      "Epoch 359/500\n",
      "5/5 [==============================] - 0s 71ms/step - loss: 0.0755 - mae: 0.2153 - val_loss: 0.0616 - val_mae: 0.1935\n",
      "Epoch 360/500\n",
      "5/5 [==============================] - 0s 72ms/step - loss: 0.0782 - mae: 0.2215 - val_loss: 0.0625 - val_mae: 0.1953\n",
      "Epoch 361/500\n",
      "5/5 [==============================] - 0s 71ms/step - loss: 0.0856 - mae: 0.2334 - val_loss: 0.1036 - val_mae: 0.2548\n",
      "Epoch 362/500\n",
      "5/5 [==============================] - 0s 72ms/step - loss: 0.0792 - mae: 0.2244 - val_loss: 0.0601 - val_mae: 0.1895\n",
      "Epoch 363/500\n",
      "5/5 [==============================] - 0s 72ms/step - loss: 0.0713 - mae: 0.2093 - val_loss: 0.0701 - val_mae: 0.2126\n",
      "Epoch 364/500\n",
      "5/5 [==============================] - 0s 73ms/step - loss: 0.0718 - mae: 0.2100 - val_loss: 0.0602 - val_mae: 0.1911\n",
      "Epoch 365/500\n",
      "5/5 [==============================] - 0s 70ms/step - loss: 0.0675 - mae: 0.2012 - val_loss: 0.0597 - val_mae: 0.1891\n",
      "Epoch 366/500\n",
      "5/5 [==============================] - 0s 71ms/step - loss: 0.0660 - mae: 0.1991 - val_loss: 0.0685 - val_mae: 0.2027\n",
      "Epoch 367/500\n",
      "5/5 [==============================] - 0s 73ms/step - loss: 0.0671 - mae: 0.1996 - val_loss: 0.0593 - val_mae: 0.1880\n",
      "Epoch 368/500\n",
      "5/5 [==============================] - 0s 73ms/step - loss: 0.0630 - mae: 0.1945 - val_loss: 0.0643 - val_mae: 0.1942\n",
      "Epoch 369/500\n",
      "5/5 [==============================] - 0s 73ms/step - loss: 0.0637 - mae: 0.1948 - val_loss: 0.0708 - val_mae: 0.2026\n",
      "Epoch 370/500\n",
      "5/5 [==============================] - 0s 71ms/step - loss: 0.0655 - mae: 0.1971 - val_loss: 0.0681 - val_mae: 0.1999\n",
      "Epoch 371/500\n",
      "5/5 [==============================] - 0s 72ms/step - loss: 0.0647 - mae: 0.1978 - val_loss: 0.0591 - val_mae: 0.1871\n",
      "Epoch 372/500\n",
      "5/5 [==============================] - 0s 72ms/step - loss: 0.0630 - mae: 0.1936 - val_loss: 0.0646 - val_mae: 0.2024\n",
      "Epoch 373/500\n",
      "5/5 [==============================] - 0s 72ms/step - loss: 0.0677 - mae: 0.2036 - val_loss: 0.0597 - val_mae: 0.1886\n",
      "Epoch 374/500\n",
      "5/5 [==============================] - 0s 73ms/step - loss: 0.0689 - mae: 0.2037 - val_loss: 0.0919 - val_mae: 0.2364\n",
      "Epoch 375/500\n"
     ]
    },
    {
     "name": "stdout",
     "output_type": "stream",
     "text": [
      "5/5 [==============================] - 0s 74ms/step - loss: 0.0726 - mae: 0.2106 - val_loss: 0.0648 - val_mae: 0.1943\n",
      "Epoch 376/500\n",
      "5/5 [==============================] - 0s 72ms/step - loss: 0.0626 - mae: 0.1927 - val_loss: 0.0604 - val_mae: 0.1905\n",
      "Epoch 377/500\n",
      "5/5 [==============================] - 0s 71ms/step - loss: 0.0650 - mae: 0.1969 - val_loss: 0.0581 - val_mae: 0.1839\n",
      "Epoch 378/500\n",
      "5/5 [==============================] - 0s 73ms/step - loss: 0.0691 - mae: 0.2051 - val_loss: 0.0628 - val_mae: 0.1934\n",
      "Epoch 379/500\n",
      "5/5 [==============================] - 0s 70ms/step - loss: 0.0609 - mae: 0.1905 - val_loss: 0.0625 - val_mae: 0.1965\n",
      "Epoch 380/500\n",
      "5/5 [==============================] - 0s 71ms/step - loss: 0.0665 - mae: 0.2008 - val_loss: 0.0607 - val_mae: 0.1888\n",
      "Epoch 381/500\n",
      "5/5 [==============================] - 0s 72ms/step - loss: 0.0672 - mae: 0.2002 - val_loss: 0.0857 - val_mae: 0.2263\n",
      "Epoch 382/500\n",
      "5/5 [==============================] - 0s 71ms/step - loss: 0.0731 - mae: 0.2120 - val_loss: 0.0585 - val_mae: 0.1855\n",
      "Epoch 383/500\n",
      "5/5 [==============================] - 0s 70ms/step - loss: 0.0731 - mae: 0.2117 - val_loss: 0.0706 - val_mae: 0.2132\n",
      "Epoch 384/500\n",
      "5/5 [==============================] - 0s 69ms/step - loss: 0.0744 - mae: 0.2147 - val_loss: 0.0586 - val_mae: 0.1851\n",
      "Epoch 385/500\n",
      "5/5 [==============================] - 0s 71ms/step - loss: 0.0663 - mae: 0.1982 - val_loss: 0.0640 - val_mae: 0.1947\n",
      "Epoch 386/500\n",
      "5/5 [==============================] - 0s 71ms/step - loss: 0.0655 - mae: 0.1996 - val_loss: 0.0652 - val_mae: 0.1948\n",
      "Epoch 387/500\n",
      "5/5 [==============================] - 0s 72ms/step - loss: 0.0619 - mae: 0.1919 - val_loss: 0.0670 - val_mae: 0.1977\n",
      "Epoch 388/500\n",
      "5/5 [==============================] - 0s 75ms/step - loss: 0.0616 - mae: 0.1907 - val_loss: 0.0587 - val_mae: 0.1868\n",
      "Epoch 389/500\n",
      "5/5 [==============================] - 0s 71ms/step - loss: 0.0641 - mae: 0.1960 - val_loss: 0.0771 - val_mae: 0.2146\n",
      "Epoch 390/500\n",
      "5/5 [==============================] - 0s 71ms/step - loss: 0.0730 - mae: 0.2122 - val_loss: 0.0778 - val_mae: 0.2163\n",
      "Epoch 391/500\n",
      "5/5 [==============================] - 0s 72ms/step - loss: 0.0680 - mae: 0.2044 - val_loss: 0.0575 - val_mae: 0.1843\n",
      "Epoch 392/500\n",
      "5/5 [==============================] - 0s 73ms/step - loss: 0.0630 - mae: 0.1951 - val_loss: 0.0602 - val_mae: 0.1867\n",
      "Epoch 393/500\n",
      "5/5 [==============================] - 0s 72ms/step - loss: 0.0605 - mae: 0.1886 - val_loss: 0.0636 - val_mae: 0.1909\n",
      "Epoch 394/500\n",
      "5/5 [==============================] - 0s 71ms/step - loss: 0.0607 - mae: 0.1899 - val_loss: 0.0618 - val_mae: 0.1896\n",
      "Epoch 395/500\n",
      "5/5 [==============================] - 0s 72ms/step - loss: 0.0601 - mae: 0.1875 - val_loss: 0.0585 - val_mae: 0.1861\n",
      "Epoch 396/500\n",
      "5/5 [==============================] - 0s 72ms/step - loss: 0.0608 - mae: 0.1893 - val_loss: 0.0569 - val_mae: 0.1833\n",
      "Epoch 397/500\n",
      "5/5 [==============================] - 0s 73ms/step - loss: 0.0595 - mae: 0.1882 - val_loss: 0.0638 - val_mae: 0.1921\n",
      "Epoch 398/500\n",
      "5/5 [==============================] - 0s 72ms/step - loss: 0.0618 - mae: 0.1919 - val_loss: 0.0590 - val_mae: 0.1850\n",
      "Epoch 399/500\n",
      "5/5 [==============================] - 0s 74ms/step - loss: 0.0601 - mae: 0.1876 - val_loss: 0.0632 - val_mae: 0.1976\n",
      "Epoch 400/500\n",
      "5/5 [==============================] - 0s 73ms/step - loss: 0.0643 - mae: 0.1968 - val_loss: 0.0578 - val_mae: 0.1840\n",
      "Epoch 401/500\n",
      "5/5 [==============================] - 0s 70ms/step - loss: 0.0601 - mae: 0.1886 - val_loss: 0.0589 - val_mae: 0.1857\n",
      "Epoch 402/500\n",
      "5/5 [==============================] - 0s 71ms/step - loss: 0.0588 - mae: 0.1855 - val_loss: 0.0603 - val_mae: 0.1868\n",
      "Epoch 403/500\n",
      "5/5 [==============================] - 0s 71ms/step - loss: 0.0607 - mae: 0.1894 - val_loss: 0.0582 - val_mae: 0.1850\n",
      "Epoch 404/500\n",
      "5/5 [==============================] - 0s 72ms/step - loss: 0.0594 - mae: 0.1866 - val_loss: 0.0582 - val_mae: 0.1861\n",
      "Epoch 405/500\n",
      "5/5 [==============================] - 0s 71ms/step - loss: 0.0623 - mae: 0.1933 - val_loss: 0.0598 - val_mae: 0.1897\n",
      "Epoch 406/500\n",
      "5/5 [==============================] - 0s 71ms/step - loss: 0.0629 - mae: 0.1935 - val_loss: 0.0674 - val_mae: 0.1981\n",
      "Epoch 407/500\n",
      "5/5 [==============================] - 0s 72ms/step - loss: 0.0614 - mae: 0.1908 - val_loss: 0.0702 - val_mae: 0.2014\n",
      "Epoch 408/500\n",
      "5/5 [==============================] - 0s 72ms/step - loss: 0.0655 - mae: 0.1982 - val_loss: 0.0577 - val_mae: 0.1832\n",
      "Epoch 409/500\n",
      "5/5 [==============================] - 0s 75ms/step - loss: 0.0637 - mae: 0.1953 - val_loss: 0.0610 - val_mae: 0.1927\n",
      "Epoch 410/500\n",
      "5/5 [==============================] - 0s 73ms/step - loss: 0.0603 - mae: 0.1893 - val_loss: 0.0582 - val_mae: 0.1879\n",
      "Epoch 411/500\n",
      "5/5 [==============================] - 0s 75ms/step - loss: 0.0639 - mae: 0.1974 - val_loss: 0.0585 - val_mae: 0.1848\n",
      "Epoch 412/500\n",
      "5/5 [==============================] - 0s 74ms/step - loss: 0.0667 - mae: 0.2008 - val_loss: 0.0753 - val_mae: 0.2107\n",
      "Epoch 413/500\n",
      "5/5 [==============================] - 0s 74ms/step - loss: 0.0664 - mae: 0.1987 - val_loss: 0.0561 - val_mae: 0.1820\n",
      "Epoch 414/500\n",
      "5/5 [==============================] - 0s 73ms/step - loss: 0.0672 - mae: 0.2021 - val_loss: 0.0601 - val_mae: 0.1911\n",
      "Epoch 415/500\n",
      "5/5 [==============================] - 0s 73ms/step - loss: 0.0614 - mae: 0.1916 - val_loss: 0.0605 - val_mae: 0.1925\n",
      "Epoch 416/500\n",
      "5/5 [==============================] - 0s 73ms/step - loss: 0.0637 - mae: 0.1944 - val_loss: 0.0559 - val_mae: 0.1818\n",
      "Epoch 417/500\n",
      "5/5 [==============================] - 0s 71ms/step - loss: 0.0641 - mae: 0.1960 - val_loss: 0.0607 - val_mae: 0.1882\n",
      "Epoch 418/500\n",
      "5/5 [==============================] - 0s 72ms/step - loss: 0.0615 - mae: 0.1913 - val_loss: 0.0681 - val_mae: 0.2010\n",
      "Epoch 419/500\n",
      "5/5 [==============================] - 0s 72ms/step - loss: 0.0611 - mae: 0.1910 - val_loss: 0.0634 - val_mae: 0.1929\n",
      "Epoch 420/500\n",
      "5/5 [==============================] - 0s 72ms/step - loss: 0.0613 - mae: 0.1909 - val_loss: 0.0600 - val_mae: 0.1865\n",
      "Epoch 421/500\n",
      "5/5 [==============================] - 0s 72ms/step - loss: 0.0581 - mae: 0.1847 - val_loss: 0.0590 - val_mae: 0.1846\n",
      "Epoch 422/500\n",
      "5/5 [==============================] - 0s 73ms/step - loss: 0.0593 - mae: 0.1864 - val_loss: 0.0572 - val_mae: 0.1810\n",
      "Epoch 423/500\n",
      "5/5 [==============================] - 0s 75ms/step - loss: 0.0582 - mae: 0.1844 - val_loss: 0.0576 - val_mae: 0.1820\n",
      "Epoch 424/500\n",
      "5/5 [==============================] - 0s 73ms/step - loss: 0.0576 - mae: 0.1840 - val_loss: 0.0623 - val_mae: 0.1983\n",
      "Epoch 425/500\n",
      "5/5 [==============================] - 0s 75ms/step - loss: 0.0635 - mae: 0.1957 - val_loss: 0.0617 - val_mae: 0.1946\n",
      "Epoch 426/500\n",
      "5/5 [==============================] - 0s 72ms/step - loss: 0.0604 - mae: 0.1896 - val_loss: 0.0571 - val_mae: 0.1848\n",
      "Epoch 427/500\n",
      "5/5 [==============================] - 0s 72ms/step - loss: 0.0612 - mae: 0.1913 - val_loss: 0.0571 - val_mae: 0.1817\n",
      "Epoch 428/500\n",
      "5/5 [==============================] - 0s 72ms/step - loss: 0.0609 - mae: 0.1898 - val_loss: 0.0585 - val_mae: 0.1846\n",
      "Epoch 429/500\n",
      "5/5 [==============================] - 0s 72ms/step - loss: 0.0585 - mae: 0.1858 - val_loss: 0.0584 - val_mae: 0.1848\n",
      "Epoch 430/500\n",
      "5/5 [==============================] - 0s 71ms/step - loss: 0.0578 - mae: 0.1841 - val_loss: 0.0622 - val_mae: 0.1978\n",
      "Epoch 431/500\n",
      "5/5 [==============================] - 0s 74ms/step - loss: 0.0644 - mae: 0.1967 - val_loss: 0.0587 - val_mae: 0.1875\n",
      "Epoch 432/500\n",
      "5/5 [==============================] - 0s 72ms/step - loss: 0.0669 - mae: 0.2008 - val_loss: 0.0617 - val_mae: 0.1904\n",
      "Epoch 433/500\n",
      "5/5 [==============================] - 0s 72ms/step - loss: 0.0595 - mae: 0.1864 - val_loss: 0.0706 - val_mae: 0.2015\n",
      "Epoch 434/500\n",
      "5/5 [==============================] - 0s 72ms/step - loss: 0.0634 - mae: 0.1938 - val_loss: 0.0599 - val_mae: 0.1860\n",
      "Epoch 435/500\n",
      "5/5 [==============================] - 0s 73ms/step - loss: 0.0579 - mae: 0.1869 - val_loss: 0.0577 - val_mae: 0.1834\n",
      "Epoch 436/500\n",
      "5/5 [==============================] - 0s 71ms/step - loss: 0.0577 - mae: 0.1844 - val_loss: 0.0687 - val_mae: 0.1990\n",
      "Epoch 437/500\n"
     ]
    },
    {
     "name": "stdout",
     "output_type": "stream",
     "text": [
      "5/5 [==============================] - 0s 72ms/step - loss: 0.0620 - mae: 0.1908 - val_loss: 0.0595 - val_mae: 0.1917\n",
      "Epoch 438/500\n",
      "5/5 [==============================] - 0s 73ms/step - loss: 0.0655 - mae: 0.1990 - val_loss: 0.0666 - val_mae: 0.2080\n",
      "Epoch 439/500\n",
      "5/5 [==============================] - 0s 72ms/step - loss: 0.0660 - mae: 0.2005 - val_loss: 0.0559 - val_mae: 0.1811\n",
      "Epoch 440/500\n",
      "5/5 [==============================] - 0s 70ms/step - loss: 0.0587 - mae: 0.1849 - val_loss: 0.0568 - val_mae: 0.1844\n",
      "Epoch 441/500\n",
      "5/5 [==============================] - 0s 71ms/step - loss: 0.0615 - mae: 0.1923 - val_loss: 0.0552 - val_mae: 0.1795\n",
      "Epoch 442/500\n",
      "5/5 [==============================] - 0s 71ms/step - loss: 0.0597 - mae: 0.1878 - val_loss: 0.0676 - val_mae: 0.1984\n",
      "Epoch 443/500\n",
      "5/5 [==============================] - 0s 71ms/step - loss: 0.0656 - mae: 0.1985 - val_loss: 0.0715 - val_mae: 0.2080\n",
      "Epoch 444/500\n",
      "5/5 [==============================] - 0s 71ms/step - loss: 0.0626 - mae: 0.1944 - val_loss: 0.0574 - val_mae: 0.1821\n",
      "Epoch 445/500\n",
      "5/5 [==============================] - 0s 70ms/step - loss: 0.0630 - mae: 0.1938 - val_loss: 0.0604 - val_mae: 0.1912\n",
      "Epoch 446/500\n",
      "5/5 [==============================] - 0s 70ms/step - loss: 0.0671 - mae: 0.2017 - val_loss: 0.0747 - val_mae: 0.2244\n",
      "Epoch 447/500\n",
      "5/5 [==============================] - 0s 71ms/step - loss: 0.0719 - mae: 0.2118 - val_loss: 0.0628 - val_mae: 0.1976\n",
      "Epoch 448/500\n",
      "5/5 [==============================] - 0s 70ms/step - loss: 0.0662 - mae: 0.2011 - val_loss: 0.0568 - val_mae: 0.1832\n",
      "Epoch 449/500\n",
      "5/5 [==============================] - 0s 72ms/step - loss: 0.0601 - mae: 0.1889 - val_loss: 0.0562 - val_mae: 0.1815\n",
      "Epoch 450/500\n",
      "5/5 [==============================] - 0s 72ms/step - loss: 0.0603 - mae: 0.1880 - val_loss: 0.0573 - val_mae: 0.1843\n",
      "Epoch 451/500\n",
      "5/5 [==============================] - 0s 74ms/step - loss: 0.0657 - mae: 0.1970 - val_loss: 0.0634 - val_mae: 0.1982\n",
      "Epoch 452/500\n",
      "5/5 [==============================] - 0s 72ms/step - loss: 0.0685 - mae: 0.2044 - val_loss: 0.0583 - val_mae: 0.1873\n",
      "Epoch 453/500\n",
      "5/5 [==============================] - 0s 73ms/step - loss: 0.0650 - mae: 0.1971 - val_loss: 0.0625 - val_mae: 0.1900\n",
      "Epoch 454/500\n",
      "5/5 [==============================] - 0s 72ms/step - loss: 0.0695 - mae: 0.2048 - val_loss: 0.0691 - val_mae: 0.2011\n",
      "Epoch 455/500\n",
      "5/5 [==============================] - 0s 74ms/step - loss: 0.0646 - mae: 0.1955 - val_loss: 0.0655 - val_mae: 0.1995\n",
      "Epoch 456/500\n",
      "5/5 [==============================] - 0s 74ms/step - loss: 0.0631 - mae: 0.1957 - val_loss: 0.0599 - val_mae: 0.1854\n",
      "Epoch 457/500\n",
      "5/5 [==============================] - 0s 73ms/step - loss: 0.0614 - mae: 0.1913 - val_loss: 0.0645 - val_mae: 0.1903\n",
      "Epoch 458/500\n",
      "5/5 [==============================] - 0s 73ms/step - loss: 0.0612 - mae: 0.1896 - val_loss: 0.0654 - val_mae: 0.1950\n",
      "Epoch 459/500\n",
      "5/5 [==============================] - 0s 72ms/step - loss: 0.0606 - mae: 0.1895 - val_loss: 0.0590 - val_mae: 0.1857\n",
      "Epoch 460/500\n",
      "5/5 [==============================] - 0s 72ms/step - loss: 0.0577 - mae: 0.1838 - val_loss: 0.0554 - val_mae: 0.1778\n",
      "Epoch 461/500\n",
      "5/5 [==============================] - 0s 71ms/step - loss: 0.0573 - mae: 0.1834 - val_loss: 0.0606 - val_mae: 0.1859\n",
      "Epoch 462/500\n",
      "5/5 [==============================] - 0s 72ms/step - loss: 0.0571 - mae: 0.1822 - val_loss: 0.0557 - val_mae: 0.1794\n",
      "Epoch 463/500\n",
      "5/5 [==============================] - 0s 73ms/step - loss: 0.0587 - mae: 0.1859 - val_loss: 0.0568 - val_mae: 0.1841\n",
      "Epoch 464/500\n",
      "5/5 [==============================] - 0s 72ms/step - loss: 0.0575 - mae: 0.1831 - val_loss: 0.0571 - val_mae: 0.1847\n",
      "Epoch 465/500\n",
      "5/5 [==============================] - 0s 75ms/step - loss: 0.0571 - mae: 0.1824 - val_loss: 0.0561 - val_mae: 0.1816\n",
      "Epoch 466/500\n",
      "5/5 [==============================] - 0s 71ms/step - loss: 0.0576 - mae: 0.1831 - val_loss: 0.0564 - val_mae: 0.1826\n",
      "Epoch 467/500\n",
      "5/5 [==============================] - 0s 71ms/step - loss: 0.0590 - mae: 0.1869 - val_loss: 0.0554 - val_mae: 0.1789\n",
      "Epoch 468/500\n",
      "5/5 [==============================] - 0s 71ms/step - loss: 0.0577 - mae: 0.1833 - val_loss: 0.0569 - val_mae: 0.1811\n",
      "Epoch 469/500\n",
      "5/5 [==============================] - 0s 71ms/step - loss: 0.0579 - mae: 0.1842 - val_loss: 0.0558 - val_mae: 0.1793\n",
      "Epoch 470/500\n",
      "5/5 [==============================] - 0s 71ms/step - loss: 0.0609 - mae: 0.1896 - val_loss: 0.0662 - val_mae: 0.1969\n",
      "Epoch 471/500\n",
      "5/5 [==============================] - 0s 71ms/step - loss: 0.0672 - mae: 0.1993 - val_loss: 0.0812 - val_mae: 0.2206\n",
      "Epoch 472/500\n",
      "5/5 [==============================] - 0s 71ms/step - loss: 0.0651 - mae: 0.1977 - val_loss: 0.0871 - val_mae: 0.2280\n",
      "Epoch 473/500\n",
      "5/5 [==============================] - 0s 70ms/step - loss: 0.0670 - mae: 0.2008 - val_loss: 0.0785 - val_mae: 0.2153\n",
      "Epoch 474/500\n",
      "5/5 [==============================] - 0s 72ms/step - loss: 0.0644 - mae: 0.1977 - val_loss: 0.0903 - val_mae: 0.2293\n",
      "Epoch 475/500\n",
      "5/5 [==============================] - 0s 73ms/step - loss: 0.0667 - mae: 0.2011 - val_loss: 0.0799 - val_mae: 0.2189\n",
      "Epoch 476/500\n",
      "5/5 [==============================] - 0s 72ms/step - loss: 0.0657 - mae: 0.1992 - val_loss: 0.0674 - val_mae: 0.2005\n",
      "Epoch 477/500\n",
      "5/5 [==============================] - 0s 77ms/step - loss: 0.0602 - mae: 0.1895 - val_loss: 0.0612 - val_mae: 0.1867\n",
      "Epoch 478/500\n",
      "5/5 [==============================] - 0s 74ms/step - loss: 0.0589 - mae: 0.1854 - val_loss: 0.0595 - val_mae: 0.1828\n",
      "Epoch 479/500\n",
      "5/5 [==============================] - 0s 72ms/step - loss: 0.0566 - mae: 0.1813 - val_loss: 0.0576 - val_mae: 0.1825\n",
      "Epoch 480/500\n",
      "5/5 [==============================] - 0s 71ms/step - loss: 0.0567 - mae: 0.1825 - val_loss: 0.0589 - val_mae: 0.1845\n",
      "Epoch 481/500\n",
      "5/5 [==============================] - 0s 73ms/step - loss: 0.0549 - mae: 0.1778 - val_loss: 0.0550 - val_mae: 0.1762\n",
      "Epoch 482/500\n",
      "5/5 [==============================] - 0s 73ms/step - loss: 0.0542 - mae: 0.1765 - val_loss: 0.0564 - val_mae: 0.1794\n",
      "Epoch 483/500\n",
      "5/5 [==============================] - 0s 75ms/step - loss: 0.0553 - mae: 0.1791 - val_loss: 0.0566 - val_mae: 0.1838\n",
      "Epoch 484/500\n",
      "5/5 [==============================] - 0s 72ms/step - loss: 0.0565 - mae: 0.1817 - val_loss: 0.0549 - val_mae: 0.1770\n",
      "Epoch 485/500\n",
      "5/5 [==============================] - 0s 72ms/step - loss: 0.0541 - mae: 0.1766 - val_loss: 0.0577 - val_mae: 0.1803\n",
      "Epoch 486/500\n",
      "5/5 [==============================] - 0s 72ms/step - loss: 0.0563 - mae: 0.1817 - val_loss: 0.0669 - val_mae: 0.1965\n",
      "Epoch 487/500\n",
      "5/5 [==============================] - 0s 73ms/step - loss: 0.0589 - mae: 0.1869 - val_loss: 0.0657 - val_mae: 0.1947\n",
      "Epoch 488/500\n",
      "5/5 [==============================] - 0s 71ms/step - loss: 0.0594 - mae: 0.1892 - val_loss: 0.0639 - val_mae: 0.1922\n",
      "Epoch 489/500\n",
      "5/5 [==============================] - 0s 73ms/step - loss: 0.0586 - mae: 0.1863 - val_loss: 0.0572 - val_mae: 0.1796\n",
      "Epoch 490/500\n",
      "5/5 [==============================] - 0s 73ms/step - loss: 0.0562 - mae: 0.1807 - val_loss: 0.0563 - val_mae: 0.1805\n",
      "Epoch 491/500\n",
      "5/5 [==============================] - 0s 73ms/step - loss: 0.0562 - mae: 0.1818 - val_loss: 0.0576 - val_mae: 0.1796\n",
      "Epoch 492/500\n",
      "5/5 [==============================] - 0s 73ms/step - loss: 0.0558 - mae: 0.1797 - val_loss: 0.0565 - val_mae: 0.1813\n",
      "Epoch 493/500\n",
      "5/5 [==============================] - 0s 72ms/step - loss: 0.0551 - mae: 0.1792 - val_loss: 0.0568 - val_mae: 0.1849\n",
      "Epoch 494/500\n",
      "5/5 [==============================] - 0s 72ms/step - loss: 0.0558 - mae: 0.1814 - val_loss: 0.0548 - val_mae: 0.1779\n",
      "Epoch 495/500\n",
      "5/5 [==============================] - 0s 74ms/step - loss: 0.0549 - mae: 0.1774 - val_loss: 0.0555 - val_mae: 0.1799\n",
      "Epoch 496/500\n",
      "5/5 [==============================] - 0s 72ms/step - loss: 0.0545 - mae: 0.1782 - val_loss: 0.0542 - val_mae: 0.1789\n",
      "Epoch 497/500\n",
      "5/5 [==============================] - 0s 78ms/step - loss: 0.0552 - mae: 0.1783 - val_loss: 0.0551 - val_mae: 0.1789\n",
      "Epoch 498/500\n",
      "5/5 [==============================] - 0s 74ms/step - loss: 0.0554 - mae: 0.1797 - val_loss: 0.0543 - val_mae: 0.1755\n",
      "Epoch 499/500\n"
     ]
    },
    {
     "name": "stdout",
     "output_type": "stream",
     "text": [
      "5/5 [==============================] - 0s 76ms/step - loss: 0.0548 - mae: 0.1783 - val_loss: 0.0557 - val_mae: 0.1796\n",
      "Epoch 500/500\n",
      "5/5 [==============================] - 0s 76ms/step - loss: 0.0542 - mae: 0.1770 - val_loss: 0.0569 - val_mae: 0.1794\n"
     ]
    }
   ],
   "source": [
    "from tensorflow.keras import datasets, layers, models\n",
    "from tensorflow import keras\n",
    "from tensorflow.keras import layers\n",
    "\n",
    "model = models.Sequential()\n",
    "model.add(layers.LSTM(1024, input_shape=(time_step,2)))\n",
    "model.add(layers.Dense(25))\n",
    "\n",
    "model.summary()\n",
    "\n",
    "model.compile(optimizer='adam', loss='mse', metrics=['mae'])\n",
    "\n",
    "history = model.fit(train_input, train_label, epochs=500, verbose=1, shuffle=True, validation_split=0.20,\n",
    "                   callbacks=[WandbCallback(log_weights=True, log_gradients=True, training_data=(train_input, train_label))])"
   ]
  },
  {
   "cell_type": "code",
   "execution_count": 17,
   "id": "f2977e3d",
   "metadata": {},
   "outputs": [
    {
     "name": "stdout",
     "output_type": "stream",
     "text": [
      "1/1 [==============================] - 0s 212ms/step\n"
     ]
    }
   ],
   "source": [
    "test_input = test_input.reshape(1, test_input.shape[0], test_input.shape[1])\n",
    "\n",
    "y_hat = model.predict(test_input)"
   ]
  },
  {
   "cell_type": "code",
   "execution_count": 18,
   "id": "569d2b27",
   "metadata": {},
   "outputs": [
    {
     "data": {
      "text/plain": [
       "(1, 100, 2)"
      ]
     },
     "execution_count": 18,
     "metadata": {},
     "output_type": "execute_result"
    }
   ],
   "source": [
    "test_input.shape"
   ]
  },
  {
   "cell_type": "code",
   "execution_count": 19,
   "id": "6b083de8",
   "metadata": {},
   "outputs": [],
   "source": [
    "test_label = test_label.reshape(1, test_label.shape[0], test_label.shape[1])"
   ]
  },
  {
   "cell_type": "code",
   "execution_count": 20,
   "id": "54e7a073",
   "metadata": {},
   "outputs": [
    {
     "data": {
      "text/plain": [
       "(1, 25, 1)"
      ]
     },
     "execution_count": 20,
     "metadata": {},
     "output_type": "execute_result"
    }
   ],
   "source": [
    "test_label.shape"
   ]
  },
  {
   "cell_type": "code",
   "execution_count": 21,
   "id": "b3e0c133",
   "metadata": {},
   "outputs": [
    {
     "data": {
      "text/plain": [
       "array([[1.7142301, 1.6837381, 1.6560824, 1.5740944, 1.658091 , 1.856309 ,\n",
       "        1.7882309, 1.7882146, 1.8263308, 1.7158074, 1.9260303, 2.1149123,\n",
       "        1.8429309, 1.8020531, 1.725724 , 1.6838214, 1.8323097, 1.975056 ,\n",
       "        1.8981384, 1.9565063, 1.8866415, 1.8404613, 2.0330348, 2.211906 ,\n",
       "        1.9495286]], dtype=float32)"
      ]
     },
     "execution_count": 21,
     "metadata": {},
     "output_type": "execute_result"
    }
   ],
   "source": [
    "y_hat"
   ]
  },
  {
   "cell_type": "code",
   "execution_count": 22,
   "id": "e37311d1",
   "metadata": {},
   "outputs": [
    {
     "data": {
      "text/plain": [
       "(1, 25)"
      ]
     },
     "execution_count": 22,
     "metadata": {},
     "output_type": "execute_result"
    }
   ],
   "source": [
    "y_hat.shape"
   ]
  },
  {
   "cell_type": "code",
   "execution_count": 23,
   "id": "ad0f0285",
   "metadata": {},
   "outputs": [],
   "source": [
    "y_hat = y_hat.reshape(y_hat.shape[1], 1)"
   ]
  },
  {
   "cell_type": "code",
   "execution_count": 24,
   "id": "69ea1f6f",
   "metadata": {},
   "outputs": [],
   "source": [
    "y_hat = (y_hat*data_std)+data_mean"
   ]
  },
  {
   "cell_type": "code",
   "execution_count": 25,
   "id": "702f2214",
   "metadata": {},
   "outputs": [],
   "source": [
    "#print(scaler.data_max_)"
   ]
  },
  {
   "cell_type": "code",
   "execution_count": 26,
   "id": "1ca1a387",
   "metadata": {},
   "outputs": [],
   "source": [
    "#print(scaler.data_min_)"
   ]
  },
  {
   "cell_type": "code",
   "execution_count": 27,
   "id": "5e40982b",
   "metadata": {},
   "outputs": [],
   "source": [
    "#y_hat = y_hat * (scaler.data_max_[1]-scaler.data_min_[1]) + scaler.data_min_[1]"
   ]
  },
  {
   "cell_type": "code",
   "execution_count": 28,
   "id": "902bb0d7",
   "metadata": {},
   "outputs": [
    {
     "data": {
      "text/plain": [
       "Text(0.5, 1.0, 'LSTM prediction')"
      ]
     },
     "execution_count": 28,
     "metadata": {},
     "output_type": "execute_result"
    },
    {
     "data": {
      "image/png": "[encoded data removed]",
      "text/plain": [
       "<Figure size 1008x576 with 1 Axes>"
      ]
     },
     "metadata": {
      "needs_background": "light"
     },
     "output_type": "display_data"
    }
   ],
   "source": [
    "import matplotlib.pyplot as plt\n",
    "\n",
    "x = range(325)\n",
    "plt.figure(figsize=(14,8))\n",
    "plt.plot(df[300:325]['Sales'], label='original')\n",
    "plt.plot(x[300:325], y_hat, label='prediction')\n",
    "plt.legend()\n",
    "plt.xlabel('Sequence', fontsize=20)\n",
    "plt.ylabel('Sales', fontsize=20)\n",
    "plt.title('LSTM prediction', fontsize=25)"
   ]
  },
  {
   "cell_type": "code",
   "execution_count": 29,
   "id": "051887d3",
   "metadata": {
    "scrolled": true
   },
   "outputs": [
    {
     "name": "stdout",
     "output_type": "stream",
     "text": [
      "1/1 [==============================] - 0s 14ms/step - loss: 0.1230 - mae: 0.3071\n"
     ]
    },
    {
     "data": {
      "text/plain": [
       "[0.12295045703649521, 0.3071213364601135]"
      ]
     },
     "execution_count": 29,
     "metadata": {},
     "output_type": "execute_result"
    }
   ],
   "source": [
    "model.evaluate(test_input, test_label)"
   ]
  }
 ],
 "metadata": {
  "kernelspec": {
   "display_name": "Python 3 (ipykernel)",
   "language": "python",
   "name": "python3"
  },
  "language_info": {
   "codemirror_mode": {
    "name": "ipython",
    "version": 3
   },
   "file_extension": ".py",
   "mimetype": "text/x-python",
   "name": "python",
   "nbconvert_exporter": "python",
   "pygments_lexer": "ipython3",
   "version": "3.9.12"
  }
 },
 "nbformat": 4,
 "nbformat_minor": 5
}
