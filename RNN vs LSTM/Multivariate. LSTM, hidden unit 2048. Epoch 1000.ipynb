{
 "cells": [
  {
   "cell_type": "code",
   "execution_count": 1,
   "id": "d4afb023",
   "metadata": {},
   "outputs": [
    {
     "name": "stderr",
     "output_type": "stream",
     "text": [
      "\u001b[34m\u001b[1mwandb\u001b[0m: Currently logged in as: \u001b[33mjintae\u001b[0m. Use \u001b[1m`wandb login --relogin`\u001b[0m to force relogin\n"
     ]
    },
    {
     "data": {
      "text/html": [
       "Tracking run with wandb version 0.13.4"
      ],
      "text/plain": [
       "<IPython.core.display.HTML object>"
      ]
     },
     "metadata": {},
     "output_type": "display_data"
    },
    {
     "data": {
      "text/html": [
       "Run data is saved locally in <code>C:\\Users\\PARK\\Documents\\LAB\\RNN vs LSTM\\FInal Example\\wandb\\run-20221016_041024-3d3hm2b9</code>"
      ],
      "text/plain": [
       "<IPython.core.display.HTML object>"
      ]
     },
     "metadata": {},
     "output_type": "display_data"
    },
    {
     "data": {
      "text/html": [
       "Syncing run <strong><a href=\"https://wandb.ai/jintae/LSTM%20seq%202048./runs/3d3hm2b9\" target=\"_blank\">epoch 1000</a></strong> to <a href=\"https://wandb.ai/jintae/LSTM%20seq%202048.\" target=\"_blank\">Weights & Biases</a> (<a href=\"https://wandb.me/run\" target=\"_blank\">docs</a>)<br/>"
      ],
      "text/plain": [
       "<IPython.core.display.HTML object>"
      ]
     },
     "metadata": {},
     "output_type": "display_data"
    },
    {
     "data": {
      "text/html": [
       "<button onClick=\"this.nextSibling.style.display='block';this.style.display='none';\">Display W&B run</button><iframe src=\"https://wandb.ai/jintae/LSTM%20seq%202048./runs/3d3hm2b9?jupyter=true\" style=\"border:none;width:100%;height:420px;display:none;\"></iframe>"
      ],
      "text/plain": [
       "<wandb.sdk.wandb_run.Run at 0x21a76c02430>"
      ]
     },
     "execution_count": 1,
     "metadata": {},
     "output_type": "execute_result"
    }
   ],
   "source": [
    "import wandb\n",
    "from wandb.keras import WandbCallback\n",
    "wandb.init(project=\"LSTM seq 2048.\", name=\"epoch 1000\")"
   ]
  },
  {
   "cell_type": "code",
   "execution_count": 2,
   "id": "650bae84",
   "metadata": {},
   "outputs": [
    {
     "name": "stdout",
     "output_type": "stream",
     "text": [
      "   DATE  Sales\n",
      "0     0   3459\n",
      "1     1   3458\n",
      "2     2   4002\n",
      "3     3   4564\n",
      "4     4   4221\n"
     ]
    }
   ],
   "source": [
    "import pandas as pd\n",
    "\n",
    "df = pd.read_csv('C:/Users/PARK/Desktop/Alcohol_Sales.csv')\n",
    "print(df.head())"
   ]
  },
  {
   "cell_type": "code",
   "execution_count": 3,
   "id": "71e18e17",
   "metadata": {},
   "outputs": [
    {
     "data": {
      "text/plain": [
       "(325, 2)"
      ]
     },
     "execution_count": 3,
     "metadata": {},
     "output_type": "execute_result"
    }
   ],
   "source": [
    "df.shape"
   ]
  },
  {
   "cell_type": "code",
   "execution_count": 4,
   "id": "5f4f8fb7",
   "metadata": {},
   "outputs": [],
   "source": [
    "import numpy as np\n",
    "\n",
    "data = df.to_numpy()"
   ]
  },
  {
   "cell_type": "code",
   "execution_count": 5,
   "id": "c6063052",
   "metadata": {},
   "outputs": [
    {
     "data": {
      "text/plain": [
       "(325, 2)"
      ]
     },
     "execution_count": 5,
     "metadata": {},
     "output_type": "execute_result"
    }
   ],
   "source": [
    "data.shape"
   ]
  },
  {
   "cell_type": "code",
   "execution_count": 6,
   "id": "01930485",
   "metadata": {},
   "outputs": [
    {
     "data": {
      "text/plain": [
       "array([[   0, 3459],\n",
       "       [   1, 3458],\n",
       "       [   2, 4002],\n",
       "       [   3, 4564],\n",
       "       [   4, 4221]], dtype=int64)"
      ]
     },
     "execution_count": 6,
     "metadata": {},
     "output_type": "execute_result"
    }
   ],
   "source": [
    "data[0:5]"
   ]
  },
  {
   "cell_type": "code",
   "execution_count": 7,
   "id": "ad83b404",
   "metadata": {},
   "outputs": [],
   "source": [
    "# from sklearn.preprocessing import MinMaxScaler\n",
    "\n",
    "# scaler = MinMaxScaler()\n",
    "\n",
    "# data = scaler.fit_transform(data)"
   ]
  },
  {
   "cell_type": "code",
   "execution_count": 8,
   "id": "17aef2ea",
   "metadata": {},
   "outputs": [],
   "source": [
    "data_mean = data.mean()\n",
    "data_std = data.std()\n",
    "\n",
    "data = (data - data_mean)/data_std"
   ]
  },
  {
   "cell_type": "code",
   "execution_count": 9,
   "id": "63fe0032",
   "metadata": {},
   "outputs": [
    {
     "data": {
      "text/plain": [
       "array([[-0.9194862 , -0.12914209],\n",
       "       [-0.91925771, -0.12937058],\n",
       "       [-0.91902922, -0.00507246],\n",
       "       [-0.91880073,  0.12333846],\n",
       "       [-0.91857224,  0.04496667]])"
      ]
     },
     "execution_count": 9,
     "metadata": {},
     "output_type": "execute_result"
    }
   ],
   "source": [
    "data[0:5]"
   ]
  },
  {
   "cell_type": "code",
   "execution_count": 10,
   "id": "87ac24ef",
   "metadata": {
    "scrolled": true
   },
   "outputs": [],
   "source": [
    "train_input = []\n",
    "train_label = []\n",
    "\n",
    "data_len = 325\n",
    "time_step = 100\n",
    "out_dim = 25\n",
    "\n",
    "for i in range(176):\n",
    "    _input = data[i:i+time_step]\n",
    "    _label = data[i+time_step:i+time_step+out_dim]\n",
    "    \n",
    "    train_input.append(_input)\n",
    "    train_label.append(_label)\n",
    "    \n",
    "\n",
    "train_input = np.array(train_input)\n",
    "train_label = np.array(train_label)\n",
    "train_label = np.delete(train_label, 0, axis=2)\n",
    "\n",
    "\n",
    "test_input = np.array(data[data_len-out_dim-time_step:data_len-out_dim])\n",
    "test_label =np.array(data[300:325])\n",
    "test_label = np.delete(test_label, 0, axis=1)"
   ]
  },
  {
   "cell_type": "code",
   "execution_count": 11,
   "id": "41975dc7",
   "metadata": {},
   "outputs": [
    {
     "data": {
      "text/plain": [
       "(176, 100, 2)"
      ]
     },
     "execution_count": 11,
     "metadata": {},
     "output_type": "execute_result"
    }
   ],
   "source": [
    "train_input.shape"
   ]
  },
  {
   "cell_type": "code",
   "execution_count": 12,
   "id": "b762c3ba",
   "metadata": {},
   "outputs": [
    {
     "data": {
      "text/plain": [
       "(176, 25, 1)"
      ]
     },
     "execution_count": 12,
     "metadata": {},
     "output_type": "execute_result"
    }
   ],
   "source": [
    "train_label.shape"
   ]
  },
  {
   "cell_type": "code",
   "execution_count": 13,
   "id": "127c63a2",
   "metadata": {},
   "outputs": [
    {
     "data": {
      "text/plain": [
       "(100, 2)"
      ]
     },
     "execution_count": 13,
     "metadata": {},
     "output_type": "execute_result"
    }
   ],
   "source": [
    "test_input.shape"
   ]
  },
  {
   "cell_type": "code",
   "execution_count": 14,
   "id": "6647472d",
   "metadata": {},
   "outputs": [
    {
     "data": {
      "text/plain": [
       "(25, 1)"
      ]
     },
     "execution_count": 14,
     "metadata": {},
     "output_type": "execute_result"
    }
   ],
   "source": [
    "test_label.shape"
   ]
  },
  {
   "cell_type": "code",
   "execution_count": 15,
   "id": "5d83c07f",
   "metadata": {},
   "outputs": [],
   "source": [
    "np.random.seed(10)\n",
    "shuffled_indices = np.random.permutation(np.arange(train_input.shape[0]))\n",
    "train_input = train_input[shuffled_indices, :, :]\n",
    "train_label = train_label[shuffled_indices, :]"
   ]
  },
  {
   "cell_type": "code",
   "execution_count": 16,
   "id": "a183926e",
   "metadata": {
    "scrolled": true
   },
   "outputs": [
    {
     "name": "stdout",
     "output_type": "stream",
     "text": [
      "Model: \"sequential\"\n",
      "_________________________________________________________________\n",
      " Layer (type)                Output Shape              Param #   \n",
      "=================================================================\n",
      " lstm (LSTM)                 (None, 2048)              16801792  \n",
      "                                                                 \n",
      " dense (Dense)               (None, 25)                51225     \n",
      "                                                                 \n",
      "=================================================================\n",
      "Total params: 16,853,017\n",
      "Trainable params: 16,853,017\n",
      "Non-trainable params: 0\n",
      "_________________________________________________________________\n"
     ]
    },
    {
     "name": "stderr",
     "output_type": "stream",
     "text": [
      "\u001b[34m\u001b[1mwandb\u001b[0m: \u001b[33mWARNING\u001b[0m The save_model argument by default saves the model in the HDF5 format that cannot save custom objects like subclassed models and custom layers. This behavior will be deprecated in a future release in favor of the SavedModel format. Meanwhile, the HDF5 model is saved as W&B files and the SavedModel as W&B Artifacts.\n"
     ]
    },
    {
     "name": "stdout",
     "output_type": "stream",
     "text": [
      "Epoch 1/1000\n",
      "5/5 [==============================] - ETA: 0s - loss: 5.1010 - mae: 1.7743"
     ]
    },
    {
     "name": "stderr",
     "output_type": "stream",
     "text": [
      "WARNING:absl:Found untraced functions such as lstm_cell_layer_call_fn, lstm_cell_layer_call_and_return_conditional_losses while saving (showing 2 of 2). These functions will not be directly callable after loading.\n"
     ]
    },
    {
     "name": "stdout",
     "output_type": "stream",
     "text": [
      "INFO:tensorflow:Assets written to: C:\\Users\\PARK\\Documents\\LAB\\RNN vs LSTM\\FInal Example\\wandb\\run-20221016_041024-3d3hm2b9\\files\\model-best\\assets\n"
     ]
    },
    {
     "name": "stderr",
     "output_type": "stream",
     "text": [
      "INFO:tensorflow:Assets written to: C:\\Users\\PARK\\Documents\\LAB\\RNN vs LSTM\\FInal Example\\wandb\\run-20221016_041024-3d3hm2b9\\files\\model-best\\assets\n",
      "\u001b[34m\u001b[1mwandb\u001b[0m: Adding directory to artifact (C:\\Users\\PARK\\Documents\\LAB\\RNN vs LSTM\\FInal Example\\wandb\\run-20221016_041024-3d3hm2b9\\files\\model-best)... Done. 0.4s\n"
     ]
    },
    {
     "name": "stdout",
     "output_type": "stream",
     "text": [
      "5/5 [==============================] - 10s 2s/step - loss: 5.1010 - mae: 1.7743 - val_loss: 0.8424 - val_mae: 0.8022\n",
      "Epoch 2/1000\n",
      "5/5 [==============================] - ETA: 0s - loss: 0.8490 - mae: 0.8038"
     ]
    },
    {
     "name": "stderr",
     "output_type": "stream",
     "text": [
      "WARNING:absl:Found untraced functions such as lstm_cell_layer_call_fn, lstm_cell_layer_call_and_return_conditional_losses while saving (showing 2 of 2). These functions will not be directly callable after loading.\n"
     ]
    },
    {
     "name": "stdout",
     "output_type": "stream",
     "text": [
      "INFO:tensorflow:Assets written to: C:\\Users\\PARK\\Documents\\LAB\\RNN vs LSTM\\FInal Example\\wandb\\run-20221016_041024-3d3hm2b9\\files\\model-best\\assets\n"
     ]
    },
    {
     "name": "stderr",
     "output_type": "stream",
     "text": [
      "INFO:tensorflow:Assets written to: C:\\Users\\PARK\\Documents\\LAB\\RNN vs LSTM\\FInal Example\\wandb\\run-20221016_041024-3d3hm2b9\\files\\model-best\\assets\n",
      "\u001b[34m\u001b[1mwandb\u001b[0m: Adding directory to artifact (C:\\Users\\PARK\\Documents\\LAB\\RNN vs LSTM\\FInal Example\\wandb\\run-20221016_041024-3d3hm2b9\\files\\model-best)... Done. 0.4s\n"
     ]
    },
    {
     "name": "stdout",
     "output_type": "stream",
     "text": [
      "5/5 [==============================] - 6s 1s/step - loss: 0.8490 - mae: 0.8038 - val_loss: 0.3536 - val_mae: 0.4837\n",
      "Epoch 3/1000\n",
      "5/5 [==============================] - ETA: 0s - loss: 0.2553 - mae: 0.4087"
     ]
    },
    {
     "name": "stderr",
     "output_type": "stream",
     "text": [
      "WARNING:absl:Found untraced functions such as lstm_cell_layer_call_fn, lstm_cell_layer_call_and_return_conditional_losses while saving (showing 2 of 2). These functions will not be directly callable after loading.\n"
     ]
    },
    {
     "name": "stdout",
     "output_type": "stream",
     "text": [
      "INFO:tensorflow:Assets written to: C:\\Users\\PARK\\Documents\\LAB\\RNN vs LSTM\\FInal Example\\wandb\\run-20221016_041024-3d3hm2b9\\files\\model-best\\assets\n"
     ]
    },
    {
     "name": "stderr",
     "output_type": "stream",
     "text": [
      "INFO:tensorflow:Assets written to: C:\\Users\\PARK\\Documents\\LAB\\RNN vs LSTM\\FInal Example\\wandb\\run-20221016_041024-3d3hm2b9\\files\\model-best\\assets\n",
      "\u001b[34m\u001b[1mwandb\u001b[0m: Adding directory to artifact (C:\\Users\\PARK\\Documents\\LAB\\RNN vs LSTM\\FInal Example\\wandb\\run-20221016_041024-3d3hm2b9\\files\\model-best)... Done. 0.4s\n"
     ]
    },
    {
     "name": "stdout",
     "output_type": "stream",
     "text": [
      "5/5 [==============================] - 6s 1s/step - loss: 0.2553 - mae: 0.4087 - val_loss: 0.2235 - val_mae: 0.3863\n",
      "Epoch 4/1000\n",
      "5/5 [==============================] - ETA: 0s - loss: 0.2135 - mae: 0.3819"
     ]
    },
    {
     "name": "stderr",
     "output_type": "stream",
     "text": [
      "WARNING:absl:Found untraced functions such as lstm_cell_layer_call_fn, lstm_cell_layer_call_and_return_conditional_losses while saving (showing 2 of 2). These functions will not be directly callable after loading.\n"
     ]
    },
    {
     "name": "stdout",
     "output_type": "stream",
     "text": [
      "INFO:tensorflow:Assets written to: C:\\Users\\PARK\\Documents\\LAB\\RNN vs LSTM\\FInal Example\\wandb\\run-20221016_041024-3d3hm2b9\\files\\model-best\\assets\n"
     ]
    },
    {
     "name": "stderr",
     "output_type": "stream",
     "text": [
      "INFO:tensorflow:Assets written to: C:\\Users\\PARK\\Documents\\LAB\\RNN vs LSTM\\FInal Example\\wandb\\run-20221016_041024-3d3hm2b9\\files\\model-best\\assets\n",
      "\u001b[34m\u001b[1mwandb\u001b[0m: Adding directory to artifact (C:\\Users\\PARK\\Documents\\LAB\\RNN vs LSTM\\FInal Example\\wandb\\run-20221016_041024-3d3hm2b9\\files\\model-best)... Done. 0.4s\n"
     ]
    },
    {
     "name": "stdout",
     "output_type": "stream",
     "text": [
      "5/5 [==============================] - 6s 1s/step - loss: 0.2135 - mae: 0.3819 - val_loss: 0.1873 - val_mae: 0.3587\n",
      "Epoch 5/1000\n",
      "5/5 [==============================] - ETA: 0s - loss: 0.1817 - mae: 0.3545"
     ]
    },
    {
     "name": "stderr",
     "output_type": "stream",
     "text": [
      "WARNING:absl:Found untraced functions such as lstm_cell_layer_call_fn, lstm_cell_layer_call_and_return_conditional_losses while saving (showing 2 of 2). These functions will not be directly callable after loading.\n"
     ]
    },
    {
     "name": "stdout",
     "output_type": "stream",
     "text": [
      "INFO:tensorflow:Assets written to: C:\\Users\\PARK\\Documents\\LAB\\RNN vs LSTM\\FInal Example\\wandb\\run-20221016_041024-3d3hm2b9\\files\\model-best\\assets\n"
     ]
    },
    {
     "name": "stderr",
     "output_type": "stream",
     "text": [
      "INFO:tensorflow:Assets written to: C:\\Users\\PARK\\Documents\\LAB\\RNN vs LSTM\\FInal Example\\wandb\\run-20221016_041024-3d3hm2b9\\files\\model-best\\assets\n",
      "\u001b[34m\u001b[1mwandb\u001b[0m: Adding directory to artifact (C:\\Users\\PARK\\Documents\\LAB\\RNN vs LSTM\\FInal Example\\wandb\\run-20221016_041024-3d3hm2b9\\files\\model-best)... Done. 0.4s\n"
     ]
    },
    {
     "name": "stdout",
     "output_type": "stream",
     "text": [
      "5/5 [==============================] - 5s 1s/step - loss: 0.1817 - mae: 0.3545 - val_loss: 0.1837 - val_mae: 0.3620\n",
      "Epoch 6/1000\n",
      "5/5 [==============================] - 1s 235ms/step - loss: 0.1893 - mae: 0.3607 - val_loss: 0.1866 - val_mae: 0.3642\n",
      "Epoch 7/1000\n",
      "5/5 [==============================] - ETA: 0s - loss: 0.1869 - mae: 0.3584"
     ]
    },
    {
     "name": "stderr",
     "output_type": "stream",
     "text": [
      "WARNING:absl:Found untraced functions such as lstm_cell_layer_call_fn, lstm_cell_layer_call_and_return_conditional_losses while saving (showing 2 of 2). These functions will not be directly callable after loading.\n"
     ]
    },
    {
     "name": "stdout",
     "output_type": "stream",
     "text": [
      "INFO:tensorflow:Assets written to: C:\\Users\\PARK\\Documents\\LAB\\RNN vs LSTM\\FInal Example\\wandb\\run-20221016_041024-3d3hm2b9\\files\\model-best\\assets\n"
     ]
    },
    {
     "name": "stderr",
     "output_type": "stream",
     "text": [
      "INFO:tensorflow:Assets written to: C:\\Users\\PARK\\Documents\\LAB\\RNN vs LSTM\\FInal Example\\wandb\\run-20221016_041024-3d3hm2b9\\files\\model-best\\assets\n",
      "\u001b[34m\u001b[1mwandb\u001b[0m: Adding directory to artifact (C:\\Users\\PARK\\Documents\\LAB\\RNN vs LSTM\\FInal Example\\wandb\\run-20221016_041024-3d3hm2b9\\files\\model-best)... Done. 0.4s\n"
     ]
    },
    {
     "name": "stdout",
     "output_type": "stream",
     "text": [
      "5/5 [==============================] - 5s 1s/step - loss: 0.1869 - mae: 0.3584 - val_loss: 0.1799 - val_mae: 0.3568\n",
      "Epoch 8/1000\n",
      "5/5 [==============================] - 1s 221ms/step - loss: 0.1810 - mae: 0.3531 - val_loss: 0.1805 - val_mae: 0.3530\n",
      "Epoch 9/1000\n",
      "5/5 [==============================] - 1s 215ms/step - loss: 0.1823 - mae: 0.3539 - val_loss: 0.1816 - val_mae: 0.3533\n",
      "Epoch 10/1000\n",
      "5/5 [==============================] - ETA: 0s - loss: 0.1806 - mae: 0.3528"
     ]
    },
    {
     "name": "stderr",
     "output_type": "stream",
     "text": [
      "WARNING:absl:Found untraced functions such as lstm_cell_layer_call_fn, lstm_cell_layer_call_and_return_conditional_losses while saving (showing 2 of 2). These functions will not be directly callable after loading.\n"
     ]
    },
    {
     "name": "stdout",
     "output_type": "stream",
     "text": [
      "INFO:tensorflow:Assets written to: C:\\Users\\PARK\\Documents\\LAB\\RNN vs LSTM\\FInal Example\\wandb\\run-20221016_041024-3d3hm2b9\\files\\model-best\\assets\n"
     ]
    },
    {
     "name": "stderr",
     "output_type": "stream",
     "text": [
      "INFO:tensorflow:Assets written to: C:\\Users\\PARK\\Documents\\LAB\\RNN vs LSTM\\FInal Example\\wandb\\run-20221016_041024-3d3hm2b9\\files\\model-best\\assets\n",
      "\u001b[34m\u001b[1mwandb\u001b[0m: Adding directory to artifact (C:\\Users\\PARK\\Documents\\LAB\\RNN vs LSTM\\FInal Example\\wandb\\run-20221016_041024-3d3hm2b9\\files\\model-best)... Done. 0.4s\n"
     ]
    },
    {
     "name": "stdout",
     "output_type": "stream",
     "text": [
      "5/5 [==============================] - 5s 1s/step - loss: 0.1806 - mae: 0.3528 - val_loss: 0.1779 - val_mae: 0.3520\n",
      "Epoch 11/1000\n",
      "5/5 [==============================] - ETA: 0s - loss: 0.1783 - mae: 0.3509"
     ]
    },
    {
     "name": "stderr",
     "output_type": "stream",
     "text": [
      "WARNING:absl:Found untraced functions such as lstm_cell_layer_call_fn, lstm_cell_layer_call_and_return_conditional_losses while saving (showing 2 of 2). These functions will not be directly callable after loading.\n"
     ]
    },
    {
     "name": "stdout",
     "output_type": "stream",
     "text": [
      "INFO:tensorflow:Assets written to: C:\\Users\\PARK\\Documents\\LAB\\RNN vs LSTM\\FInal Example\\wandb\\run-20221016_041024-3d3hm2b9\\files\\model-best\\assets\n"
     ]
    },
    {
     "name": "stderr",
     "output_type": "stream",
     "text": [
      "INFO:tensorflow:Assets written to: C:\\Users\\PARK\\Documents\\LAB\\RNN vs LSTM\\FInal Example\\wandb\\run-20221016_041024-3d3hm2b9\\files\\model-best\\assets\n",
      "\u001b[34m\u001b[1mwandb\u001b[0m: Adding directory to artifact (C:\\Users\\PARK\\Documents\\LAB\\RNN vs LSTM\\FInal Example\\wandb\\run-20221016_041024-3d3hm2b9\\files\\model-best)... Done. 0.4s\n"
     ]
    },
    {
     "name": "stdout",
     "output_type": "stream",
     "text": [
      "5/5 [==============================] - 6s 1s/step - loss: 0.1783 - mae: 0.3509 - val_loss: 0.1775 - val_mae: 0.3537\n",
      "Epoch 12/1000\n",
      "5/5 [==============================] - ETA: 0s - loss: 0.1787 - mae: 0.3517"
     ]
    },
    {
     "name": "stderr",
     "output_type": "stream",
     "text": [
      "WARNING:absl:Found untraced functions such as lstm_cell_layer_call_fn, lstm_cell_layer_call_and_return_conditional_losses while saving (showing 2 of 2). These functions will not be directly callable after loading.\n"
     ]
    },
    {
     "name": "stdout",
     "output_type": "stream",
     "text": [
      "INFO:tensorflow:Assets written to: C:\\Users\\PARK\\Documents\\LAB\\RNN vs LSTM\\FInal Example\\wandb\\run-20221016_041024-3d3hm2b9\\files\\model-best\\assets\n"
     ]
    },
    {
     "name": "stderr",
     "output_type": "stream",
     "text": [
      "INFO:tensorflow:Assets written to: C:\\Users\\PARK\\Documents\\LAB\\RNN vs LSTM\\FInal Example\\wandb\\run-20221016_041024-3d3hm2b9\\files\\model-best\\assets\n",
      "\u001b[34m\u001b[1mwandb\u001b[0m: Adding directory to artifact (C:\\Users\\PARK\\Documents\\LAB\\RNN vs LSTM\\FInal Example\\wandb\\run-20221016_041024-3d3hm2b9\\files\\model-best)... Done. 0.4s\n"
     ]
    },
    {
     "name": "stdout",
     "output_type": "stream",
     "text": [
      "5/5 [==============================] - 6s 1s/step - loss: 0.1787 - mae: 0.3517 - val_loss: 0.1774 - val_mae: 0.3536\n",
      "Epoch 13/1000\n",
      "5/5 [==============================] - ETA: 0s - loss: 0.1795 - mae: 0.3525"
     ]
    },
    {
     "name": "stderr",
     "output_type": "stream",
     "text": [
      "WARNING:absl:Found untraced functions such as lstm_cell_layer_call_fn, lstm_cell_layer_call_and_return_conditional_losses while saving (showing 2 of 2). These functions will not be directly callable after loading.\n"
     ]
    },
    {
     "name": "stdout",
     "output_type": "stream",
     "text": [
      "INFO:tensorflow:Assets written to: C:\\Users\\PARK\\Documents\\LAB\\RNN vs LSTM\\FInal Example\\wandb\\run-20221016_041024-3d3hm2b9\\files\\model-best\\assets\n"
     ]
    },
    {
     "name": "stderr",
     "output_type": "stream",
     "text": [
      "INFO:tensorflow:Assets written to: C:\\Users\\PARK\\Documents\\LAB\\RNN vs LSTM\\FInal Example\\wandb\\run-20221016_041024-3d3hm2b9\\files\\model-best\\assets\n",
      "\u001b[34m\u001b[1mwandb\u001b[0m: Adding directory to artifact (C:\\Users\\PARK\\Documents\\LAB\\RNN vs LSTM\\FInal Example\\wandb\\run-20221016_041024-3d3hm2b9\\files\\model-best)... Done. 0.4s\n"
     ]
    },
    {
     "name": "stdout",
     "output_type": "stream",
     "text": [
      "5/5 [==============================] - 6s 1s/step - loss: 0.1795 - mae: 0.3525 - val_loss: 0.1770 - val_mae: 0.3529\n",
      "Epoch 14/1000\n",
      "5/5 [==============================] - 1s 223ms/step - loss: 0.1773 - mae: 0.3502 - val_loss: 0.1781 - val_mae: 0.3515\n",
      "Epoch 15/1000\n",
      "5/5 [==============================] - ETA: 0s - loss: 0.1789 - mae: 0.3511"
     ]
    },
    {
     "name": "stderr",
     "output_type": "stream",
     "text": [
      "WARNING:absl:Found untraced functions such as lstm_cell_layer_call_fn, lstm_cell_layer_call_and_return_conditional_losses while saving (showing 2 of 2). These functions will not be directly callable after loading.\n"
     ]
    },
    {
     "name": "stdout",
     "output_type": "stream",
     "text": [
      "INFO:tensorflow:Assets written to: C:\\Users\\PARK\\Documents\\LAB\\RNN vs LSTM\\FInal Example\\wandb\\run-20221016_041024-3d3hm2b9\\files\\model-best\\assets\n"
     ]
    },
    {
     "name": "stderr",
     "output_type": "stream",
     "text": [
      "INFO:tensorflow:Assets written to: C:\\Users\\PARK\\Documents\\LAB\\RNN vs LSTM\\FInal Example\\wandb\\run-20221016_041024-3d3hm2b9\\files\\model-best\\assets\n",
      "\u001b[34m\u001b[1mwandb\u001b[0m: Adding directory to artifact (C:\\Users\\PARK\\Documents\\LAB\\RNN vs LSTM\\FInal Example\\wandb\\run-20221016_041024-3d3hm2b9\\files\\model-best)... Done. 0.4s\n"
     ]
    },
    {
     "name": "stdout",
     "output_type": "stream",
     "text": [
      "5/5 [==============================] - 5s 1s/step - loss: 0.1789 - mae: 0.3511 - val_loss: 0.1770 - val_mae: 0.3495\n",
      "Epoch 16/1000\n",
      "4/5 [=======================>......] - ETA: 0s - loss: 0.1782 - mae: 0.3502"
     ]
    },
    {
     "name": "stderr",
     "output_type": "stream",
     "text": [
      "WARNING:absl:Found untraced functions such as lstm_cell_layer_call_fn, lstm_cell_layer_call_and_return_conditional_losses while saving (showing 2 of 2). These functions will not be directly callable after loading.\n"
     ]
    },
    {
     "name": "stdout",
     "output_type": "stream",
     "text": [
      "INFO:tensorflow:Assets written to: C:\\Users\\PARK\\Documents\\LAB\\RNN vs LSTM\\FInal Example\\wandb\\run-20221016_041024-3d3hm2b9\\files\\model-best\\assets\n"
     ]
    },
    {
     "name": "stderr",
     "output_type": "stream",
     "text": [
      "INFO:tensorflow:Assets written to: C:\\Users\\PARK\\Documents\\LAB\\RNN vs LSTM\\FInal Example\\wandb\\run-20221016_041024-3d3hm2b9\\files\\model-best\\assets\n",
      "\u001b[34m\u001b[1mwandb\u001b[0m: Adding directory to artifact (C:\\Users\\PARK\\Documents\\LAB\\RNN vs LSTM\\FInal Example\\wandb\\run-20221016_041024-3d3hm2b9\\files\\model-best)... Done. 0.4s\n"
     ]
    },
    {
     "name": "stdout",
     "output_type": "stream",
     "text": [
      "5/5 [==============================] - 6s 1s/step - loss: 0.1797 - mae: 0.3527 - val_loss: 0.1761 - val_mae: 0.3522\n",
      "Epoch 17/1000\n",
      "5/5 [==============================] - 1s 223ms/step - loss: 0.1785 - mae: 0.3514 - val_loss: 0.1772 - val_mae: 0.3539\n",
      "Epoch 18/1000\n",
      "5/5 [==============================] - 1s 221ms/step - loss: 0.1783 - mae: 0.3504 - val_loss: 0.1774 - val_mae: 0.3514\n",
      "Epoch 19/1000\n",
      "5/5 [==============================] - ETA: 0s - loss: 0.1769 - mae: 0.3492"
     ]
    },
    {
     "name": "stderr",
     "output_type": "stream",
     "text": [
      "WARNING:absl:Found untraced functions such as lstm_cell_layer_call_fn, lstm_cell_layer_call_and_return_conditional_losses while saving (showing 2 of 2). These functions will not be directly callable after loading.\n"
     ]
    },
    {
     "name": "stdout",
     "output_type": "stream",
     "text": [
      "INFO:tensorflow:Assets written to: C:\\Users\\PARK\\Documents\\LAB\\RNN vs LSTM\\FInal Example\\wandb\\run-20221016_041024-3d3hm2b9\\files\\model-best\\assets\n"
     ]
    },
    {
     "name": "stderr",
     "output_type": "stream",
     "text": [
      "INFO:tensorflow:Assets written to: C:\\Users\\PARK\\Documents\\LAB\\RNN vs LSTM\\FInal Example\\wandb\\run-20221016_041024-3d3hm2b9\\files\\model-best\\assets\n",
      "\u001b[34m\u001b[1mwandb\u001b[0m: Adding directory to artifact (C:\\Users\\PARK\\Documents\\LAB\\RNN vs LSTM\\FInal Example\\wandb\\run-20221016_041024-3d3hm2b9\\files\\model-best)... Done. 0.4s\n"
     ]
    },
    {
     "name": "stdout",
     "output_type": "stream",
     "text": [
      "5/5 [==============================] - 5s 1s/step - loss: 0.1769 - mae: 0.3492 - val_loss: 0.1751 - val_mae: 0.3485\n",
      "Epoch 20/1000\n",
      "4/5 [=======================>......] - ETA: 0s - loss: 0.1773 - mae: 0.3505"
     ]
    },
    {
     "name": "stderr",
     "output_type": "stream",
     "text": [
      "WARNING:absl:Found untraced functions such as lstm_cell_layer_call_fn, lstm_cell_layer_call_and_return_conditional_losses while saving (showing 2 of 2). These functions will not be directly callable after loading.\n"
     ]
    },
    {
     "name": "stdout",
     "output_type": "stream",
     "text": [
      "INFO:tensorflow:Assets written to: C:\\Users\\PARK\\Documents\\LAB\\RNN vs LSTM\\FInal Example\\wandb\\run-20221016_041024-3d3hm2b9\\files\\model-best\\assets\n"
     ]
    },
    {
     "name": "stderr",
     "output_type": "stream",
     "text": [
      "INFO:tensorflow:Assets written to: C:\\Users\\PARK\\Documents\\LAB\\RNN vs LSTM\\FInal Example\\wandb\\run-20221016_041024-3d3hm2b9\\files\\model-best\\assets\n",
      "\u001b[34m\u001b[1mwandb\u001b[0m: Adding directory to artifact (C:\\Users\\PARK\\Documents\\LAB\\RNN vs LSTM\\FInal Example\\wandb\\run-20221016_041024-3d3hm2b9\\files\\model-best)... Done. 0.4s\n"
     ]
    },
    {
     "name": "stdout",
     "output_type": "stream",
     "text": [
      "5/5 [==============================] - 6s 1s/step - loss: 0.1764 - mae: 0.3488 - val_loss: 0.1748 - val_mae: 0.3490\n",
      "Epoch 21/1000\n",
      "4/5 [=======================>......] - ETA: 0s - loss: 0.1718 - mae: 0.3457"
     ]
    },
    {
     "name": "stderr",
     "output_type": "stream",
     "text": [
      "WARNING:absl:Found untraced functions such as lstm_cell_layer_call_fn, lstm_cell_layer_call_and_return_conditional_losses while saving (showing 2 of 2). These functions will not be directly callable after loading.\n"
     ]
    },
    {
     "name": "stdout",
     "output_type": "stream",
     "text": [
      "INFO:tensorflow:Assets written to: C:\\Users\\PARK\\Documents\\LAB\\RNN vs LSTM\\FInal Example\\wandb\\run-20221016_041024-3d3hm2b9\\files\\model-best\\assets\n"
     ]
    },
    {
     "name": "stderr",
     "output_type": "stream",
     "text": [
      "INFO:tensorflow:Assets written to: C:\\Users\\PARK\\Documents\\LAB\\RNN vs LSTM\\FInal Example\\wandb\\run-20221016_041024-3d3hm2b9\\files\\model-best\\assets\n",
      "\u001b[34m\u001b[1mwandb\u001b[0m: Adding directory to artifact (C:\\Users\\PARK\\Documents\\LAB\\RNN vs LSTM\\FInal Example\\wandb\\run-20221016_041024-3d3hm2b9\\files\\model-best)... Done. 0.4s\n"
     ]
    },
    {
     "name": "stdout",
     "output_type": "stream",
     "text": [
      "5/5 [==============================] - 6s 1s/step - loss: 0.1765 - mae: 0.3492 - val_loss: 0.1746 - val_mae: 0.3500\n",
      "Epoch 22/1000\n",
      "5/5 [==============================] - 1s 252ms/step - loss: 0.1765 - mae: 0.3492 - val_loss: 0.1752 - val_mae: 0.3487\n",
      "Epoch 23/1000\n",
      "5/5 [==============================] - ETA: 0s - loss: 0.1751 - mae: 0.3473"
     ]
    },
    {
     "name": "stderr",
     "output_type": "stream",
     "text": [
      "WARNING:absl:Found untraced functions such as lstm_cell_layer_call_fn, lstm_cell_layer_call_and_return_conditional_losses while saving (showing 2 of 2). These functions will not be directly callable after loading.\n"
     ]
    },
    {
     "name": "stdout",
     "output_type": "stream",
     "text": [
      "INFO:tensorflow:Assets written to: C:\\Users\\PARK\\Documents\\LAB\\RNN vs LSTM\\FInal Example\\wandb\\run-20221016_041024-3d3hm2b9\\files\\model-best\\assets\n"
     ]
    },
    {
     "name": "stderr",
     "output_type": "stream",
     "text": [
      "INFO:tensorflow:Assets written to: C:\\Users\\PARK\\Documents\\LAB\\RNN vs LSTM\\FInal Example\\wandb\\run-20221016_041024-3d3hm2b9\\files\\model-best\\assets\n",
      "\u001b[34m\u001b[1mwandb\u001b[0m: Adding directory to artifact (C:\\Users\\PARK\\Documents\\LAB\\RNN vs LSTM\\FInal Example\\wandb\\run-20221016_041024-3d3hm2b9\\files\\model-best)... Done. 0.4s\n"
     ]
    },
    {
     "name": "stdout",
     "output_type": "stream",
     "text": [
      "5/5 [==============================] - 5s 1s/step - loss: 0.1751 - mae: 0.3473 - val_loss: 0.1727 - val_mae: 0.3475\n",
      "Epoch 24/1000\n",
      "5/5 [==============================] - 1s 246ms/step - loss: 0.1750 - mae: 0.3477 - val_loss: 0.1734 - val_mae: 0.3493\n",
      "Epoch 25/1000\n",
      "5/5 [==============================] - 1s 215ms/step - loss: 0.1747 - mae: 0.3474 - val_loss: 0.1743 - val_mae: 0.3472\n",
      "Epoch 26/1000\n",
      "5/5 [==============================] - ETA: 0s - loss: 0.1747 - mae: 0.3475"
     ]
    },
    {
     "name": "stderr",
     "output_type": "stream",
     "text": [
      "WARNING:absl:Found untraced functions such as lstm_cell_layer_call_fn, lstm_cell_layer_call_and_return_conditional_losses while saving (showing 2 of 2). These functions will not be directly callable after loading.\n"
     ]
    },
    {
     "name": "stdout",
     "output_type": "stream",
     "text": [
      "INFO:tensorflow:Assets written to: C:\\Users\\PARK\\Documents\\LAB\\RNN vs LSTM\\FInal Example\\wandb\\run-20221016_041024-3d3hm2b9\\files\\model-best\\assets\n"
     ]
    },
    {
     "name": "stderr",
     "output_type": "stream",
     "text": [
      "INFO:tensorflow:Assets written to: C:\\Users\\PARK\\Documents\\LAB\\RNN vs LSTM\\FInal Example\\wandb\\run-20221016_041024-3d3hm2b9\\files\\model-best\\assets\n",
      "\u001b[34m\u001b[1mwandb\u001b[0m: Adding directory to artifact (C:\\Users\\PARK\\Documents\\LAB\\RNN vs LSTM\\FInal Example\\wandb\\run-20221016_041024-3d3hm2b9\\files\\model-best)... Done. 0.4s\n"
     ]
    },
    {
     "name": "stdout",
     "output_type": "stream",
     "text": [
      "5/5 [==============================] - 5s 1s/step - loss: 0.1747 - mae: 0.3475 - val_loss: 0.1710 - val_mae: 0.3462\n",
      "Epoch 27/1000\n",
      "5/5 [==============================] - 1s 244ms/step - loss: 0.1734 - mae: 0.3451 - val_loss: 0.1715 - val_mae: 0.3455\n",
      "Epoch 28/1000\n",
      "5/5 [==============================] - ETA: 0s - loss: 0.1718 - mae: 0.3438"
     ]
    },
    {
     "name": "stderr",
     "output_type": "stream",
     "text": [
      "WARNING:absl:Found untraced functions such as lstm_cell_layer_call_fn, lstm_cell_layer_call_and_return_conditional_losses while saving (showing 2 of 2). These functions will not be directly callable after loading.\n"
     ]
    },
    {
     "name": "stdout",
     "output_type": "stream",
     "text": [
      "INFO:tensorflow:Assets written to: C:\\Users\\PARK\\Documents\\LAB\\RNN vs LSTM\\FInal Example\\wandb\\run-20221016_041024-3d3hm2b9\\files\\model-best\\assets\n"
     ]
    },
    {
     "name": "stderr",
     "output_type": "stream",
     "text": [
      "INFO:tensorflow:Assets written to: C:\\Users\\PARK\\Documents\\LAB\\RNN vs LSTM\\FInal Example\\wandb\\run-20221016_041024-3d3hm2b9\\files\\model-best\\assets\n",
      "\u001b[34m\u001b[1mwandb\u001b[0m: Adding directory to artifact (C:\\Users\\PARK\\Documents\\LAB\\RNN vs LSTM\\FInal Example\\wandb\\run-20221016_041024-3d3hm2b9\\files\\model-best)... Done. 0.4s\n"
     ]
    },
    {
     "name": "stdout",
     "output_type": "stream",
     "text": [
      "5/5 [==============================] - 5s 1s/step - loss: 0.1718 - mae: 0.3438 - val_loss: 0.1696 - val_mae: 0.3450\n",
      "Epoch 29/1000\n",
      "4/5 [=======================>......] - ETA: 0s - loss: 0.1686 - mae: 0.3416"
     ]
    },
    {
     "name": "stderr",
     "output_type": "stream",
     "text": [
      "WARNING:absl:Found untraced functions such as lstm_cell_layer_call_fn, lstm_cell_layer_call_and_return_conditional_losses while saving (showing 2 of 2). These functions will not be directly callable after loading.\n"
     ]
    },
    {
     "name": "stdout",
     "output_type": "stream",
     "text": [
      "INFO:tensorflow:Assets written to: C:\\Users\\PARK\\Documents\\LAB\\RNN vs LSTM\\FInal Example\\wandb\\run-20221016_041024-3d3hm2b9\\files\\model-best\\assets\n"
     ]
    },
    {
     "name": "stderr",
     "output_type": "stream",
     "text": [
      "INFO:tensorflow:Assets written to: C:\\Users\\PARK\\Documents\\LAB\\RNN vs LSTM\\FInal Example\\wandb\\run-20221016_041024-3d3hm2b9\\files\\model-best\\assets\n",
      "\u001b[34m\u001b[1mwandb\u001b[0m: Adding directory to artifact (C:\\Users\\PARK\\Documents\\LAB\\RNN vs LSTM\\FInal Example\\wandb\\run-20221016_041024-3d3hm2b9\\files\\model-best)... Done. 0.4s\n"
     ]
    },
    {
     "name": "stdout",
     "output_type": "stream",
     "text": [
      "5/5 [==============================] - 6s 1s/step - loss: 0.1718 - mae: 0.3446 - val_loss: 0.1694 - val_mae: 0.3430\n",
      "Epoch 30/1000\n",
      "5/5 [==============================] - 1s 222ms/step - loss: 0.1701 - mae: 0.3425 - val_loss: 0.1700 - val_mae: 0.3428\n",
      "Epoch 31/1000\n",
      "5/5 [==============================] - ETA: 0s - loss: 0.1698 - mae: 0.3415"
     ]
    },
    {
     "name": "stderr",
     "output_type": "stream",
     "text": [
      "WARNING:absl:Found untraced functions such as lstm_cell_layer_call_fn, lstm_cell_layer_call_and_return_conditional_losses while saving (showing 2 of 2). These functions will not be directly callable after loading.\n"
     ]
    },
    {
     "name": "stdout",
     "output_type": "stream",
     "text": [
      "INFO:tensorflow:Assets written to: C:\\Users\\PARK\\Documents\\LAB\\RNN vs LSTM\\FInal Example\\wandb\\run-20221016_041024-3d3hm2b9\\files\\model-best\\assets\n"
     ]
    },
    {
     "name": "stderr",
     "output_type": "stream",
     "text": [
      "INFO:tensorflow:Assets written to: C:\\Users\\PARK\\Documents\\LAB\\RNN vs LSTM\\FInal Example\\wandb\\run-20221016_041024-3d3hm2b9\\files\\model-best\\assets\n",
      "\u001b[34m\u001b[1mwandb\u001b[0m: Adding directory to artifact (C:\\Users\\PARK\\Documents\\LAB\\RNN vs LSTM\\FInal Example\\wandb\\run-20221016_041024-3d3hm2b9\\files\\model-best)... Done. 0.4s\n"
     ]
    },
    {
     "name": "stdout",
     "output_type": "stream",
     "text": [
      "5/5 [==============================] - 5s 1s/step - loss: 0.1698 - mae: 0.3415 - val_loss: 0.1655 - val_mae: 0.3397\n",
      "Epoch 32/1000\n",
      "5/5 [==============================] - 1s 222ms/step - loss: 0.1673 - mae: 0.3398 - val_loss: 0.1661 - val_mae: 0.3384\n",
      "Epoch 33/1000\n",
      "5/5 [==============================] - 1s 219ms/step - loss: 0.1633 - mae: 0.3346 - val_loss: 0.1657 - val_mae: 0.3402\n",
      "Epoch 34/1000\n",
      "5/5 [==============================] - ETA: 0s - loss: 0.1687 - mae: 0.3410"
     ]
    },
    {
     "name": "stderr",
     "output_type": "stream",
     "text": [
      "WARNING:absl:Found untraced functions such as lstm_cell_layer_call_fn, lstm_cell_layer_call_and_return_conditional_losses while saving (showing 2 of 2). These functions will not be directly callable after loading.\n"
     ]
    },
    {
     "name": "stdout",
     "output_type": "stream",
     "text": [
      "INFO:tensorflow:Assets written to: C:\\Users\\PARK\\Documents\\LAB\\RNN vs LSTM\\FInal Example\\wandb\\run-20221016_041024-3d3hm2b9\\files\\model-best\\assets\n"
     ]
    },
    {
     "name": "stderr",
     "output_type": "stream",
     "text": [
      "INFO:tensorflow:Assets written to: C:\\Users\\PARK\\Documents\\LAB\\RNN vs LSTM\\FInal Example\\wandb\\run-20221016_041024-3d3hm2b9\\files\\model-best\\assets\n",
      "\u001b[34m\u001b[1mwandb\u001b[0m: Adding directory to artifact (C:\\Users\\PARK\\Documents\\LAB\\RNN vs LSTM\\FInal Example\\wandb\\run-20221016_041024-3d3hm2b9\\files\\model-best)... Done. 0.4s\n"
     ]
    },
    {
     "name": "stdout",
     "output_type": "stream",
     "text": [
      "5/5 [==============================] - 5s 1s/step - loss: 0.1687 - mae: 0.3410 - val_loss: 0.1620 - val_mae: 0.3373\n",
      "Epoch 35/1000\n",
      "4/5 [=======================>......] - ETA: 0s - loss: 0.1812 - mae: 0.3493"
     ]
    },
    {
     "name": "stderr",
     "output_type": "stream",
     "text": [
      "WARNING:absl:Found untraced functions such as lstm_cell_layer_call_fn, lstm_cell_layer_call_and_return_conditional_losses while saving (showing 2 of 2). These functions will not be directly callable after loading.\n"
     ]
    },
    {
     "name": "stdout",
     "output_type": "stream",
     "text": [
      "INFO:tensorflow:Assets written to: C:\\Users\\PARK\\Documents\\LAB\\RNN vs LSTM\\FInal Example\\wandb\\run-20221016_041024-3d3hm2b9\\files\\model-best\\assets\n"
     ]
    },
    {
     "name": "stderr",
     "output_type": "stream",
     "text": [
      "INFO:tensorflow:Assets written to: C:\\Users\\PARK\\Documents\\LAB\\RNN vs LSTM\\FInal Example\\wandb\\run-20221016_041024-3d3hm2b9\\files\\model-best\\assets\n",
      "\u001b[34m\u001b[1mwandb\u001b[0m: Adding directory to artifact (C:\\Users\\PARK\\Documents\\LAB\\RNN vs LSTM\\FInal Example\\wandb\\run-20221016_041024-3d3hm2b9\\files\\model-best)... Done. 0.4s\n"
     ]
    },
    {
     "name": "stdout",
     "output_type": "stream",
     "text": [
      "5/5 [==============================] - 6s 1s/step - loss: 0.1788 - mae: 0.3463 - val_loss: 0.1581 - val_mae: 0.3330\n",
      "Epoch 36/1000\n",
      "5/5 [==============================] - 1s 220ms/step - loss: 0.1679 - mae: 0.3402 - val_loss: 0.1605 - val_mae: 0.3345\n",
      "Epoch 37/1000\n",
      "5/5 [==============================] - ETA: 0s - loss: 0.1723 - mae: 0.3433"
     ]
    },
    {
     "name": "stderr",
     "output_type": "stream",
     "text": [
      "WARNING:absl:Found untraced functions such as lstm_cell_layer_call_fn, lstm_cell_layer_call_and_return_conditional_losses while saving (showing 2 of 2). These functions will not be directly callable after loading.\n"
     ]
    },
    {
     "name": "stdout",
     "output_type": "stream",
     "text": [
      "INFO:tensorflow:Assets written to: C:\\Users\\PARK\\Documents\\LAB\\RNN vs LSTM\\FInal Example\\wandb\\run-20221016_041024-3d3hm2b9\\files\\model-best\\assets\n"
     ]
    },
    {
     "name": "stderr",
     "output_type": "stream",
     "text": [
      "INFO:tensorflow:Assets written to: C:\\Users\\PARK\\Documents\\LAB\\RNN vs LSTM\\FInal Example\\wandb\\run-20221016_041024-3d3hm2b9\\files\\model-best\\assets\n",
      "\u001b[34m\u001b[1mwandb\u001b[0m: Adding directory to artifact (C:\\Users\\PARK\\Documents\\LAB\\RNN vs LSTM\\FInal Example\\wandb\\run-20221016_041024-3d3hm2b9\\files\\model-best)... Done. 0.4s\n"
     ]
    },
    {
     "name": "stdout",
     "output_type": "stream",
     "text": [
      "5/5 [==============================] - 6s 1s/step - loss: 0.1723 - mae: 0.3433 - val_loss: 0.1573 - val_mae: 0.3307\n",
      "Epoch 38/1000\n",
      "5/5 [==============================] - ETA: 0s - loss: 0.1681 - mae: 0.3392"
     ]
    },
    {
     "name": "stderr",
     "output_type": "stream",
     "text": [
      "WARNING:absl:Found untraced functions such as lstm_cell_layer_call_fn, lstm_cell_layer_call_and_return_conditional_losses while saving (showing 2 of 2). These functions will not be directly callable after loading.\n"
     ]
    },
    {
     "name": "stdout",
     "output_type": "stream",
     "text": [
      "INFO:tensorflow:Assets written to: C:\\Users\\PARK\\Documents\\LAB\\RNN vs LSTM\\FInal Example\\wandb\\run-20221016_041024-3d3hm2b9\\files\\model-best\\assets\n"
     ]
    },
    {
     "name": "stderr",
     "output_type": "stream",
     "text": [
      "INFO:tensorflow:Assets written to: C:\\Users\\PARK\\Documents\\LAB\\RNN vs LSTM\\FInal Example\\wandb\\run-20221016_041024-3d3hm2b9\\files\\model-best\\assets\n",
      "\u001b[34m\u001b[1mwandb\u001b[0m: Adding directory to artifact (C:\\Users\\PARK\\Documents\\LAB\\RNN vs LSTM\\FInal Example\\wandb\\run-20221016_041024-3d3hm2b9\\files\\model-best)... Done. 0.4s\n"
     ]
    },
    {
     "name": "stdout",
     "output_type": "stream",
     "text": [
      "5/5 [==============================] - 6s 1s/step - loss: 0.1681 - mae: 0.3392 - val_loss: 0.1559 - val_mae: 0.3304\n",
      "Epoch 39/1000\n",
      "5/5 [==============================] - ETA: 0s - loss: 0.1653 - mae: 0.3381"
     ]
    },
    {
     "name": "stderr",
     "output_type": "stream",
     "text": [
      "WARNING:absl:Found untraced functions such as lstm_cell_layer_call_fn, lstm_cell_layer_call_and_return_conditional_losses while saving (showing 2 of 2). These functions will not be directly callable after loading.\n"
     ]
    },
    {
     "name": "stdout",
     "output_type": "stream",
     "text": [
      "INFO:tensorflow:Assets written to: C:\\Users\\PARK\\Documents\\LAB\\RNN vs LSTM\\FInal Example\\wandb\\run-20221016_041024-3d3hm2b9\\files\\model-best\\assets\n"
     ]
    },
    {
     "name": "stderr",
     "output_type": "stream",
     "text": [
      "INFO:tensorflow:Assets written to: C:\\Users\\PARK\\Documents\\LAB\\RNN vs LSTM\\FInal Example\\wandb\\run-20221016_041024-3d3hm2b9\\files\\model-best\\assets\n",
      "\u001b[34m\u001b[1mwandb\u001b[0m: Adding directory to artifact (C:\\Users\\PARK\\Documents\\LAB\\RNN vs LSTM\\FInal Example\\wandb\\run-20221016_041024-3d3hm2b9\\files\\model-best)... Done. 0.4s\n"
     ]
    },
    {
     "name": "stdout",
     "output_type": "stream",
     "text": [
      "5/5 [==============================] - 5s 1s/step - loss: 0.1653 - mae: 0.3381 - val_loss: 0.1525 - val_mae: 0.3259\n",
      "Epoch 40/1000\n",
      "4/5 [=======================>......] - ETA: 0s - loss: 0.1653 - mae: 0.3393"
     ]
    },
    {
     "name": "stderr",
     "output_type": "stream",
     "text": [
      "WARNING:absl:Found untraced functions such as lstm_cell_layer_call_fn, lstm_cell_layer_call_and_return_conditional_losses while saving (showing 2 of 2). These functions will not be directly callable after loading.\n"
     ]
    },
    {
     "name": "stdout",
     "output_type": "stream",
     "text": [
      "INFO:tensorflow:Assets written to: C:\\Users\\PARK\\Documents\\LAB\\RNN vs LSTM\\FInal Example\\wandb\\run-20221016_041024-3d3hm2b9\\files\\model-best\\assets\n"
     ]
    },
    {
     "name": "stderr",
     "output_type": "stream",
     "text": [
      "INFO:tensorflow:Assets written to: C:\\Users\\PARK\\Documents\\LAB\\RNN vs LSTM\\FInal Example\\wandb\\run-20221016_041024-3d3hm2b9\\files\\model-best\\assets\n",
      "\u001b[34m\u001b[1mwandb\u001b[0m: Adding directory to artifact (C:\\Users\\PARK\\Documents\\LAB\\RNN vs LSTM\\FInal Example\\wandb\\run-20221016_041024-3d3hm2b9\\files\\model-best)... Done. 0.4s\n"
     ]
    },
    {
     "name": "stdout",
     "output_type": "stream",
     "text": [
      "5/5 [==============================] - 5s 1s/step - loss: 0.1606 - mae: 0.3327 - val_loss: 0.1508 - val_mae: 0.3229\n",
      "Epoch 41/1000\n",
      "4/5 [=======================>......] - ETA: 0s - loss: 0.1454 - mae: 0.3149"
     ]
    },
    {
     "name": "stderr",
     "output_type": "stream",
     "text": [
      "WARNING:absl:Found untraced functions such as lstm_cell_layer_call_fn, lstm_cell_layer_call_and_return_conditional_losses while saving (showing 2 of 2). These functions will not be directly callable after loading.\n"
     ]
    },
    {
     "name": "stdout",
     "output_type": "stream",
     "text": [
      "INFO:tensorflow:Assets written to: C:\\Users\\PARK\\Documents\\LAB\\RNN vs LSTM\\FInal Example\\wandb\\run-20221016_041024-3d3hm2b9\\files\\model-best\\assets\n"
     ]
    },
    {
     "name": "stderr",
     "output_type": "stream",
     "text": [
      "INFO:tensorflow:Assets written to: C:\\Users\\PARK\\Documents\\LAB\\RNN vs LSTM\\FInal Example\\wandb\\run-20221016_041024-3d3hm2b9\\files\\model-best\\assets\n",
      "\u001b[34m\u001b[1mwandb\u001b[0m: Adding directory to artifact (C:\\Users\\PARK\\Documents\\LAB\\RNN vs LSTM\\FInal Example\\wandb\\run-20221016_041024-3d3hm2b9\\files\\model-best)... Done. 0.4s\n"
     ]
    },
    {
     "name": "stdout",
     "output_type": "stream",
     "text": [
      "5/5 [==============================] - 6s 1s/step - loss: 0.1481 - mae: 0.3190 - val_loss: 0.1393 - val_mae: 0.3097\n",
      "Epoch 42/1000\n",
      "4/5 [=======================>......] - ETA: 0s - loss: 0.1369 - mae: 0.3073"
     ]
    },
    {
     "name": "stderr",
     "output_type": "stream",
     "text": [
      "WARNING:absl:Found untraced functions such as lstm_cell_layer_call_fn, lstm_cell_layer_call_and_return_conditional_losses while saving (showing 2 of 2). These functions will not be directly callable after loading.\n"
     ]
    },
    {
     "name": "stdout",
     "output_type": "stream",
     "text": [
      "INFO:tensorflow:Assets written to: C:\\Users\\PARK\\Documents\\LAB\\RNN vs LSTM\\FInal Example\\wandb\\run-20221016_041024-3d3hm2b9\\files\\model-best\\assets\n"
     ]
    },
    {
     "name": "stderr",
     "output_type": "stream",
     "text": [
      "INFO:tensorflow:Assets written to: C:\\Users\\PARK\\Documents\\LAB\\RNN vs LSTM\\FInal Example\\wandb\\run-20221016_041024-3d3hm2b9\\files\\model-best\\assets\n",
      "\u001b[34m\u001b[1mwandb\u001b[0m: Adding directory to artifact (C:\\Users\\PARK\\Documents\\LAB\\RNN vs LSTM\\FInal Example\\wandb\\run-20221016_041024-3d3hm2b9\\files\\model-best)... Done. 0.4s\n"
     ]
    },
    {
     "name": "stdout",
     "output_type": "stream",
     "text": [
      "5/5 [==============================] - 5s 1s/step - loss: 0.1364 - mae: 0.3065 - val_loss: 0.1186 - val_mae: 0.2886\n",
      "Epoch 43/1000\n",
      "5/5 [==============================] - 1s 216ms/step - loss: 0.1856 - mae: 0.3451 - val_loss: 0.1788 - val_mae: 0.3466\n",
      "Epoch 44/1000\n",
      "5/5 [==============================] - 1s 216ms/step - loss: 0.1602 - mae: 0.3271 - val_loss: 0.1600 - val_mae: 0.3314\n",
      "Epoch 45/1000\n",
      "5/5 [==============================] - 1s 216ms/step - loss: 0.1642 - mae: 0.3364 - val_loss: 0.1587 - val_mae: 0.3338\n",
      "Epoch 46/1000\n",
      "5/5 [==============================] - 1s 219ms/step - loss: 0.1616 - mae: 0.3327 - val_loss: 0.1582 - val_mae: 0.3321\n",
      "Epoch 47/1000\n",
      "5/5 [==============================] - 1s 220ms/step - loss: 0.1614 - mae: 0.3328 - val_loss: 0.1561 - val_mae: 0.3284\n",
      "Epoch 48/1000\n",
      "5/5 [==============================] - 1s 225ms/step - loss: 0.1559 - mae: 0.3275 - val_loss: 0.1541 - val_mae: 0.3293\n",
      "Epoch 49/1000\n",
      "5/5 [==============================] - 1s 222ms/step - loss: 0.1570 - mae: 0.3278 - val_loss: 0.1486 - val_mae: 0.3208\n",
      "Epoch 50/1000\n",
      "5/5 [==============================] - 1s 220ms/step - loss: 0.1497 - mae: 0.3203 - val_loss: 0.1410 - val_mae: 0.3120\n",
      "Epoch 51/1000\n",
      "5/5 [==============================] - 1s 220ms/step - loss: 0.1449 - mae: 0.3152 - val_loss: 0.1359 - val_mae: 0.3096\n",
      "Epoch 52/1000\n",
      "5/5 [==============================] - 1s 224ms/step - loss: 0.1328 - mae: 0.3004 - val_loss: 0.1491 - val_mae: 0.3154\n",
      "Epoch 53/1000\n",
      "5/5 [==============================] - 1s 218ms/step - loss: 0.1233 - mae: 0.2873 - val_loss: 0.1406 - val_mae: 0.3077\n",
      "Epoch 54/1000\n",
      "5/5 [==============================] - 1s 217ms/step - loss: 0.1179 - mae: 0.2796 - val_loss: 0.1646 - val_mae: 0.3373\n",
      "Epoch 55/1000\n",
      "5/5 [==============================] - ETA: 0s - loss: 0.1631 - mae: 0.3270"
     ]
    },
    {
     "name": "stderr",
     "output_type": "stream",
     "text": [
      "WARNING:absl:Found untraced functions such as lstm_cell_layer_call_fn, lstm_cell_layer_call_and_return_conditional_losses while saving (showing 2 of 2). These functions will not be directly callable after loading.\n"
     ]
    },
    {
     "name": "stdout",
     "output_type": "stream",
     "text": [
      "INFO:tensorflow:Assets written to: C:\\Users\\PARK\\Documents\\LAB\\RNN vs LSTM\\FInal Example\\wandb\\run-20221016_041024-3d3hm2b9\\files\\model-best\\assets\n"
     ]
    },
    {
     "name": "stderr",
     "output_type": "stream",
     "text": [
      "INFO:tensorflow:Assets written to: C:\\Users\\PARK\\Documents\\LAB\\RNN vs LSTM\\FInal Example\\wandb\\run-20221016_041024-3d3hm2b9\\files\\model-best\\assets\n",
      "\u001b[34m\u001b[1mwandb\u001b[0m: Adding directory to artifact (C:\\Users\\PARK\\Documents\\LAB\\RNN vs LSTM\\FInal Example\\wandb\\run-20221016_041024-3d3hm2b9\\files\\model-best)... Done. 0.4s\n"
     ]
    },
    {
     "name": "stdout",
     "output_type": "stream",
     "text": [
      "5/5 [==============================] - 5s 1s/step - loss: 0.1631 - mae: 0.3270 - val_loss: 0.0894 - val_mae: 0.2472\n",
      "Epoch 56/1000\n",
      "5/5 [==============================] - 1s 233ms/step - loss: 0.1187 - mae: 0.2761 - val_loss: 0.1278 - val_mae: 0.2915\n",
      "Epoch 57/1000\n",
      "5/5 [==============================] - 1s 215ms/step - loss: 0.1193 - mae: 0.2841 - val_loss: 0.1144 - val_mae: 0.2754\n",
      "Epoch 58/1000\n",
      "5/5 [==============================] - ETA: 0s - loss: 0.1085 - mae: 0.2694"
     ]
    },
    {
     "name": "stderr",
     "output_type": "stream",
     "text": [
      "WARNING:absl:Found untraced functions such as lstm_cell_layer_call_fn, lstm_cell_layer_call_and_return_conditional_losses while saving (showing 2 of 2). These functions will not be directly callable after loading.\n"
     ]
    },
    {
     "name": "stdout",
     "output_type": "stream",
     "text": [
      "INFO:tensorflow:Assets written to: C:\\Users\\PARK\\Documents\\LAB\\RNN vs LSTM\\FInal Example\\wandb\\run-20221016_041024-3d3hm2b9\\files\\model-best\\assets\n"
     ]
    },
    {
     "name": "stderr",
     "output_type": "stream",
     "text": [
      "INFO:tensorflow:Assets written to: C:\\Users\\PARK\\Documents\\LAB\\RNN vs LSTM\\FInal Example\\wandb\\run-20221016_041024-3d3hm2b9\\files\\model-best\\assets\n",
      "\u001b[34m\u001b[1mwandb\u001b[0m: Adding directory to artifact (C:\\Users\\PARK\\Documents\\LAB\\RNN vs LSTM\\FInal Example\\wandb\\run-20221016_041024-3d3hm2b9\\files\\model-best)... Done. 0.4s\n"
     ]
    },
    {
     "name": "stdout",
     "output_type": "stream",
     "text": [
      "5/5 [==============================] - 5s 1s/step - loss: 0.1085 - mae: 0.2694 - val_loss: 0.0867 - val_mae: 0.2433\n",
      "Epoch 59/1000\n",
      "5/5 [==============================] - ETA: 0s - loss: 0.0920 - mae: 0.2486"
     ]
    },
    {
     "name": "stderr",
     "output_type": "stream",
     "text": [
      "WARNING:absl:Found untraced functions such as lstm_cell_layer_call_fn, lstm_cell_layer_call_and_return_conditional_losses while saving (showing 2 of 2). These functions will not be directly callable after loading.\n"
     ]
    },
    {
     "name": "stdout",
     "output_type": "stream",
     "text": [
      "INFO:tensorflow:Assets written to: C:\\Users\\PARK\\Documents\\LAB\\RNN vs LSTM\\FInal Example\\wandb\\run-20221016_041024-3d3hm2b9\\files\\model-best\\assets\n"
     ]
    },
    {
     "name": "stderr",
     "output_type": "stream",
     "text": [
      "INFO:tensorflow:Assets written to: C:\\Users\\PARK\\Documents\\LAB\\RNN vs LSTM\\FInal Example\\wandb\\run-20221016_041024-3d3hm2b9\\files\\model-best\\assets\n",
      "\u001b[34m\u001b[1mwandb\u001b[0m: Adding directory to artifact (C:\\Users\\PARK\\Documents\\LAB\\RNN vs LSTM\\FInal Example\\wandb\\run-20221016_041024-3d3hm2b9\\files\\model-best)... Done. 0.4s\n"
     ]
    },
    {
     "name": "stdout",
     "output_type": "stream",
     "text": [
      "5/5 [==============================] - 6s 1s/step - loss: 0.0920 - mae: 0.2486 - val_loss: 0.0728 - val_mae: 0.2154\n",
      "Epoch 60/1000\n",
      "4/5 [=======================>......] - ETA: 0s - loss: 0.0786 - mae: 0.2255"
     ]
    },
    {
     "name": "stderr",
     "output_type": "stream",
     "text": [
      "WARNING:absl:Found untraced functions such as lstm_cell_layer_call_fn, lstm_cell_layer_call_and_return_conditional_losses while saving (showing 2 of 2). These functions will not be directly callable after loading.\n"
     ]
    },
    {
     "name": "stdout",
     "output_type": "stream",
     "text": [
      "INFO:tensorflow:Assets written to: C:\\Users\\PARK\\Documents\\LAB\\RNN vs LSTM\\FInal Example\\wandb\\run-20221016_041024-3d3hm2b9\\files\\model-best\\assets\n"
     ]
    },
    {
     "name": "stderr",
     "output_type": "stream",
     "text": [
      "INFO:tensorflow:Assets written to: C:\\Users\\PARK\\Documents\\LAB\\RNN vs LSTM\\FInal Example\\wandb\\run-20221016_041024-3d3hm2b9\\files\\model-best\\assets\n",
      "\u001b[34m\u001b[1mwandb\u001b[0m: Adding directory to artifact (C:\\Users\\PARK\\Documents\\LAB\\RNN vs LSTM\\FInal Example\\wandb\\run-20221016_041024-3d3hm2b9\\files\\model-best)... Done. 0.4s\n"
     ]
    },
    {
     "name": "stdout",
     "output_type": "stream",
     "text": [
      "5/5 [==============================] - 5s 1s/step - loss: 0.0785 - mae: 0.2250 - val_loss: 0.0612 - val_mae: 0.1925\n",
      "Epoch 61/1000\n",
      "5/5 [==============================] - 1s 216ms/step - loss: 0.0698 - mae: 0.2075 - val_loss: 0.0736 - val_mae: 0.2077\n",
      "Epoch 62/1000\n",
      "5/5 [==============================] - 1s 217ms/step - loss: 0.0715 - mae: 0.2086 - val_loss: 0.0862 - val_mae: 0.2434\n",
      "Epoch 63/1000\n",
      "5/5 [==============================] - 1s 216ms/step - loss: 0.0828 - mae: 0.2322 - val_loss: 0.0643 - val_mae: 0.1988\n",
      "Epoch 64/1000\n",
      "5/5 [==============================] - 1s 220ms/step - loss: 0.0674 - mae: 0.2025 - val_loss: 0.0612 - val_mae: 0.1925\n",
      "Epoch 65/1000\n",
      "5/5 [==============================] - 1s 222ms/step - loss: 0.0661 - mae: 0.1989 - val_loss: 0.0722 - val_mae: 0.2071\n",
      "Epoch 66/1000\n",
      "5/5 [==============================] - 1s 220ms/step - loss: 0.0654 - mae: 0.1984 - val_loss: 0.0747 - val_mae: 0.2109\n",
      "Epoch 67/1000\n",
      "5/5 [==============================] - 1s 221ms/step - loss: 0.0654 - mae: 0.1987 - val_loss: 0.0614 - val_mae: 0.1902\n",
      "Epoch 68/1000\n",
      "5/5 [==============================] - 1s 217ms/step - loss: 0.0625 - mae: 0.1943 - val_loss: 0.0661 - val_mae: 0.1984\n",
      "Epoch 69/1000\n",
      "5/5 [==============================] - 1s 221ms/step - loss: 0.0620 - mae: 0.1923 - val_loss: 0.0640 - val_mae: 0.1939\n",
      "Epoch 70/1000\n",
      "5/5 [==============================] - ETA: 0s - loss: 0.0612 - mae: 0.1911"
     ]
    },
    {
     "name": "stderr",
     "output_type": "stream",
     "text": [
      "WARNING:absl:Found untraced functions such as lstm_cell_layer_call_fn, lstm_cell_layer_call_and_return_conditional_losses while saving (showing 2 of 2). These functions will not be directly callable after loading.\n"
     ]
    },
    {
     "name": "stdout",
     "output_type": "stream",
     "text": [
      "INFO:tensorflow:Assets written to: C:\\Users\\PARK\\Documents\\LAB\\RNN vs LSTM\\FInal Example\\wandb\\run-20221016_041024-3d3hm2b9\\files\\model-best\\assets\n"
     ]
    },
    {
     "name": "stderr",
     "output_type": "stream",
     "text": [
      "INFO:tensorflow:Assets written to: C:\\Users\\PARK\\Documents\\LAB\\RNN vs LSTM\\FInal Example\\wandb\\run-20221016_041024-3d3hm2b9\\files\\model-best\\assets\n",
      "\u001b[34m\u001b[1mwandb\u001b[0m: Adding directory to artifact (C:\\Users\\PARK\\Documents\\LAB\\RNN vs LSTM\\FInal Example\\wandb\\run-20221016_041024-3d3hm2b9\\files\\model-best)... Done. 0.4s\n"
     ]
    },
    {
     "name": "stdout",
     "output_type": "stream",
     "text": [
      "5/5 [==============================] - 5s 1s/step - loss: 0.0612 - mae: 0.1911 - val_loss: 0.0599 - val_mae: 0.1869\n",
      "Epoch 71/1000\n",
      "4/5 [=======================>......] - ETA: 0s - loss: 0.0581 - mae: 0.1862"
     ]
    },
    {
     "name": "stderr",
     "output_type": "stream",
     "text": [
      "WARNING:absl:Found untraced functions such as lstm_cell_layer_call_fn, lstm_cell_layer_call_and_return_conditional_losses while saving (showing 2 of 2). These functions will not be directly callable after loading.\n"
     ]
    },
    {
     "name": "stdout",
     "output_type": "stream",
     "text": [
      "INFO:tensorflow:Assets written to: C:\\Users\\PARK\\Documents\\LAB\\RNN vs LSTM\\FInal Example\\wandb\\run-20221016_041024-3d3hm2b9\\files\\model-best\\assets\n"
     ]
    },
    {
     "name": "stderr",
     "output_type": "stream",
     "text": [
      "INFO:tensorflow:Assets written to: C:\\Users\\PARK\\Documents\\LAB\\RNN vs LSTM\\FInal Example\\wandb\\run-20221016_041024-3d3hm2b9\\files\\model-best\\assets\n",
      "\u001b[34m\u001b[1mwandb\u001b[0m: Adding directory to artifact (C:\\Users\\PARK\\Documents\\LAB\\RNN vs LSTM\\FInal Example\\wandb\\run-20221016_041024-3d3hm2b9\\files\\model-best)... Done. 0.4s\n"
     ]
    },
    {
     "name": "stdout",
     "output_type": "stream",
     "text": [
      "5/5 [==============================] - 6s 1s/step - loss: 0.0595 - mae: 0.1882 - val_loss: 0.0578 - val_mae: 0.1837\n",
      "Epoch 72/1000\n",
      "5/5 [==============================] - 1s 231ms/step - loss: 0.0605 - mae: 0.1896 - val_loss: 0.0638 - val_mae: 0.1995\n",
      "Epoch 73/1000\n",
      "5/5 [==============================] - 1s 225ms/step - loss: 0.0632 - mae: 0.1952 - val_loss: 0.0637 - val_mae: 0.1983\n",
      "Epoch 74/1000\n",
      "5/5 [==============================] - ETA: 0s - loss: 0.0613 - mae: 0.1917"
     ]
    },
    {
     "name": "stderr",
     "output_type": "stream",
     "text": [
      "WARNING:absl:Found untraced functions such as lstm_cell_layer_call_fn, lstm_cell_layer_call_and_return_conditional_losses while saving (showing 2 of 2). These functions will not be directly callable after loading.\n"
     ]
    },
    {
     "name": "stdout",
     "output_type": "stream",
     "text": [
      "INFO:tensorflow:Assets written to: C:\\Users\\PARK\\Documents\\LAB\\RNN vs LSTM\\FInal Example\\wandb\\run-20221016_041024-3d3hm2b9\\files\\model-best\\assets\n"
     ]
    },
    {
     "name": "stderr",
     "output_type": "stream",
     "text": [
      "INFO:tensorflow:Assets written to: C:\\Users\\PARK\\Documents\\LAB\\RNN vs LSTM\\FInal Example\\wandb\\run-20221016_041024-3d3hm2b9\\files\\model-best\\assets\n",
      "\u001b[34m\u001b[1mwandb\u001b[0m: Adding directory to artifact (C:\\Users\\PARK\\Documents\\LAB\\RNN vs LSTM\\FInal Example\\wandb\\run-20221016_041024-3d3hm2b9\\files\\model-best)... Done. 0.4s\n"
     ]
    },
    {
     "name": "stdout",
     "output_type": "stream",
     "text": [
      "5/5 [==============================] - 5s 1s/step - loss: 0.0613 - mae: 0.1917 - val_loss: 0.0575 - val_mae: 0.1831\n",
      "Epoch 75/1000\n",
      "4/5 [=======================>......] - ETA: 0s - loss: 0.0602 - mae: 0.1888"
     ]
    },
    {
     "name": "stderr",
     "output_type": "stream",
     "text": [
      "WARNING:absl:Found untraced functions such as lstm_cell_layer_call_fn, lstm_cell_layer_call_and_return_conditional_losses while saving (showing 2 of 2). These functions will not be directly callable after loading.\n"
     ]
    },
    {
     "name": "stdout",
     "output_type": "stream",
     "text": [
      "INFO:tensorflow:Assets written to: C:\\Users\\PARK\\Documents\\LAB\\RNN vs LSTM\\FInal Example\\wandb\\run-20221016_041024-3d3hm2b9\\files\\model-best\\assets\n"
     ]
    },
    {
     "name": "stderr",
     "output_type": "stream",
     "text": [
      "INFO:tensorflow:Assets written to: C:\\Users\\PARK\\Documents\\LAB\\RNN vs LSTM\\FInal Example\\wandb\\run-20221016_041024-3d3hm2b9\\files\\model-best\\assets\n",
      "\u001b[34m\u001b[1mwandb\u001b[0m: Adding directory to artifact (C:\\Users\\PARK\\Documents\\LAB\\RNN vs LSTM\\FInal Example\\wandb\\run-20221016_041024-3d3hm2b9\\files\\model-best)... Done. 0.4s\n"
     ]
    },
    {
     "name": "stdout",
     "output_type": "stream",
     "text": [
      "5/5 [==============================] - 6s 1s/step - loss: 0.0596 - mae: 0.1876 - val_loss: 0.0574 - val_mae: 0.1834\n",
      "Epoch 76/1000\n",
      "5/5 [==============================] - 1s 220ms/step - loss: 0.0609 - mae: 0.1904 - val_loss: 0.0587 - val_mae: 0.1868\n",
      "Epoch 77/1000\n",
      "5/5 [==============================] - 1s 217ms/step - loss: 0.0637 - mae: 0.1957 - val_loss: 0.0687 - val_mae: 0.2033\n",
      "Epoch 78/1000\n",
      "5/5 [==============================] - 1s 218ms/step - loss: 0.0651 - mae: 0.1991 - val_loss: 0.0615 - val_mae: 0.1909\n",
      "Epoch 79/1000\n",
      "5/5 [==============================] - 1s 214ms/step - loss: 0.0631 - mae: 0.1943 - val_loss: 0.0672 - val_mae: 0.2079\n",
      "Epoch 80/1000\n",
      "5/5 [==============================] - 1s 221ms/step - loss: 0.0648 - mae: 0.1989 - val_loss: 0.0589 - val_mae: 0.1878\n",
      "Epoch 81/1000\n",
      "5/5 [==============================] - 1s 216ms/step - loss: 0.0644 - mae: 0.1974 - val_loss: 0.0898 - val_mae: 0.2322\n",
      "Epoch 82/1000\n",
      "5/5 [==============================] - 1s 216ms/step - loss: 0.0711 - mae: 0.2090 - val_loss: 0.0575 - val_mae: 0.1843\n",
      "Epoch 83/1000\n",
      "5/5 [==============================] - 1s 220ms/step - loss: 0.0642 - mae: 0.1972 - val_loss: 0.0584 - val_mae: 0.1873\n",
      "Epoch 84/1000\n",
      "5/5 [==============================] - 1s 218ms/step - loss: 0.0605 - mae: 0.1901 - val_loss: 0.0612 - val_mae: 0.1882\n",
      "Epoch 85/1000\n",
      "5/5 [==============================] - 1s 218ms/step - loss: 0.0603 - mae: 0.1890 - val_loss: 0.0615 - val_mae: 0.1947\n",
      "Epoch 86/1000\n",
      "5/5 [==============================] - ETA: 0s - loss: 0.0636 - mae: 0.1963"
     ]
    },
    {
     "name": "stderr",
     "output_type": "stream",
     "text": [
      "WARNING:absl:Found untraced functions such as lstm_cell_layer_call_fn, lstm_cell_layer_call_and_return_conditional_losses while saving (showing 2 of 2). These functions will not be directly callable after loading.\n"
     ]
    },
    {
     "name": "stdout",
     "output_type": "stream",
     "text": [
      "INFO:tensorflow:Assets written to: C:\\Users\\PARK\\Documents\\LAB\\RNN vs LSTM\\FInal Example\\wandb\\run-20221016_041024-3d3hm2b9\\files\\model-best\\assets\n"
     ]
    },
    {
     "name": "stderr",
     "output_type": "stream",
     "text": [
      "INFO:tensorflow:Assets written to: C:\\Users\\PARK\\Documents\\LAB\\RNN vs LSTM\\FInal Example\\wandb\\run-20221016_041024-3d3hm2b9\\files\\model-best\\assets\n",
      "\u001b[34m\u001b[1mwandb\u001b[0m: Adding directory to artifact (C:\\Users\\PARK\\Documents\\LAB\\RNN vs LSTM\\FInal Example\\wandb\\run-20221016_041024-3d3hm2b9\\files\\model-best)... Done. 0.4s\n"
     ]
    },
    {
     "name": "stdout",
     "output_type": "stream",
     "text": [
      "5/5 [==============================] - 5s 1s/step - loss: 0.0636 - mae: 0.1963 - val_loss: 0.0571 - val_mae: 0.1826\n",
      "Epoch 87/1000\n",
      "5/5 [==============================] - 1s 225ms/step - loss: 0.0641 - mae: 0.1966 - val_loss: 0.0626 - val_mae: 0.1921\n",
      "Epoch 88/1000\n",
      "5/5 [==============================] - 1s 218ms/step - loss: 0.0598 - mae: 0.1884 - val_loss: 0.0594 - val_mae: 0.1844\n",
      "Epoch 89/1000\n",
      "5/5 [==============================] - 1s 218ms/step - loss: 0.0595 - mae: 0.1880 - val_loss: 0.0575 - val_mae: 0.1853\n",
      "Epoch 90/1000\n",
      "5/5 [==============================] - 1s 219ms/step - loss: 0.0598 - mae: 0.1888 - val_loss: 0.0617 - val_mae: 0.1896\n",
      "Epoch 91/1000\n",
      "5/5 [==============================] - ETA: 0s - loss: 0.0597 - mae: 0.1884"
     ]
    },
    {
     "name": "stderr",
     "output_type": "stream",
     "text": [
      "WARNING:absl:Found untraced functions such as lstm_cell_layer_call_fn, lstm_cell_layer_call_and_return_conditional_losses while saving (showing 2 of 2). These functions will not be directly callable after loading.\n"
     ]
    },
    {
     "name": "stdout",
     "output_type": "stream",
     "text": [
      "INFO:tensorflow:Assets written to: C:\\Users\\PARK\\Documents\\LAB\\RNN vs LSTM\\FInal Example\\wandb\\run-20221016_041024-3d3hm2b9\\files\\model-best\\assets\n"
     ]
    },
    {
     "name": "stderr",
     "output_type": "stream",
     "text": [
      "INFO:tensorflow:Assets written to: C:\\Users\\PARK\\Documents\\LAB\\RNN vs LSTM\\FInal Example\\wandb\\run-20221016_041024-3d3hm2b9\\files\\model-best\\assets\n",
      "\u001b[34m\u001b[1mwandb\u001b[0m: Adding directory to artifact (C:\\Users\\PARK\\Documents\\LAB\\RNN vs LSTM\\FInal Example\\wandb\\run-20221016_041024-3d3hm2b9\\files\\model-best)... Done. 0.4s\n"
     ]
    },
    {
     "name": "stdout",
     "output_type": "stream",
     "text": [
      "5/5 [==============================] - 5s 1s/step - loss: 0.0597 - mae: 0.1884 - val_loss: 0.0567 - val_mae: 0.1819\n",
      "Epoch 92/1000\n",
      "5/5 [==============================] - 1s 241ms/step - loss: 0.0578 - mae: 0.1845 - val_loss: 0.0570 - val_mae: 0.1831\n",
      "Epoch 93/1000\n",
      "5/5 [==============================] - 1s 220ms/step - loss: 0.0582 - mae: 0.1850 - val_loss: 0.0577 - val_mae: 0.1828\n",
      "Epoch 94/1000\n",
      "5/5 [==============================] - 1s 218ms/step - loss: 0.0579 - mae: 0.1848 - val_loss: 0.0575 - val_mae: 0.1832\n",
      "Epoch 95/1000\n",
      "5/5 [==============================] - 1s 217ms/step - loss: 0.0606 - mae: 0.1889 - val_loss: 0.0594 - val_mae: 0.1895\n",
      "Epoch 96/1000\n",
      "5/5 [==============================] - 1s 218ms/step - loss: 0.0593 - mae: 0.1874 - val_loss: 0.0579 - val_mae: 0.1833\n",
      "Epoch 97/1000\n",
      "5/5 [==============================] - 1s 217ms/step - loss: 0.0573 - mae: 0.1835 - val_loss: 0.0676 - val_mae: 0.1970\n",
      "Epoch 98/1000\n",
      "5/5 [==============================] - 1s 215ms/step - loss: 0.0612 - mae: 0.1905 - val_loss: 0.0594 - val_mae: 0.1899\n",
      "Epoch 99/1000\n",
      "5/5 [==============================] - 1s 215ms/step - loss: 0.0622 - mae: 0.1941 - val_loss: 0.0618 - val_mae: 0.1957\n",
      "Epoch 100/1000\n",
      "5/5 [==============================] - 1s 217ms/step - loss: 0.0621 - mae: 0.1941 - val_loss: 0.0588 - val_mae: 0.1847\n",
      "Epoch 101/1000\n",
      "5/5 [==============================] - 1s 218ms/step - loss: 0.0606 - mae: 0.1890 - val_loss: 0.0578 - val_mae: 0.1813\n",
      "Epoch 102/1000\n",
      "5/5 [==============================] - 1s 219ms/step - loss: 0.0578 - mae: 0.1850 - val_loss: 0.0619 - val_mae: 0.1892\n",
      "Epoch 103/1000\n",
      "5/5 [==============================] - ETA: 0s - loss: 0.0594 - mae: 0.1875"
     ]
    },
    {
     "name": "stderr",
     "output_type": "stream",
     "text": [
      "WARNING:absl:Found untraced functions such as lstm_cell_layer_call_fn, lstm_cell_layer_call_and_return_conditional_losses while saving (showing 2 of 2). These functions will not be directly callable after loading.\n"
     ]
    },
    {
     "name": "stdout",
     "output_type": "stream",
     "text": [
      "INFO:tensorflow:Assets written to: C:\\Users\\PARK\\Documents\\LAB\\RNN vs LSTM\\FInal Example\\wandb\\run-20221016_041024-3d3hm2b9\\files\\model-best\\assets\n"
     ]
    },
    {
     "name": "stderr",
     "output_type": "stream",
     "text": [
      "INFO:tensorflow:Assets written to: C:\\Users\\PARK\\Documents\\LAB\\RNN vs LSTM\\FInal Example\\wandb\\run-20221016_041024-3d3hm2b9\\files\\model-best\\assets\n",
      "\u001b[34m\u001b[1mwandb\u001b[0m: Adding directory to artifact (C:\\Users\\PARK\\Documents\\LAB\\RNN vs LSTM\\FInal Example\\wandb\\run-20221016_041024-3d3hm2b9\\files\\model-best)... Done. 0.4s\n"
     ]
    },
    {
     "name": "stdout",
     "output_type": "stream",
     "text": [
      "5/5 [==============================] - 5s 1s/step - loss: 0.0594 - mae: 0.1875 - val_loss: 0.0566 - val_mae: 0.1821\n",
      "Epoch 104/1000\n",
      "5/5 [==============================] - 1s 239ms/step - loss: 0.0574 - mae: 0.1832 - val_loss: 0.0580 - val_mae: 0.1869\n",
      "Epoch 105/1000\n",
      "5/5 [==============================] - 1s 220ms/step - loss: 0.0660 - mae: 0.2017 - val_loss: 0.0799 - val_mae: 0.2187\n",
      "Epoch 106/1000\n",
      "5/5 [==============================] - 1s 220ms/step - loss: 0.0677 - mae: 0.2032 - val_loss: 0.0819 - val_mae: 0.2244\n",
      "Epoch 107/1000\n",
      "5/5 [==============================] - ETA: 0s - loss: 0.0702 - mae: 0.2076"
     ]
    },
    {
     "name": "stderr",
     "output_type": "stream",
     "text": [
      "WARNING:absl:Found untraced functions such as lstm_cell_layer_call_fn, lstm_cell_layer_call_and_return_conditional_losses while saving (showing 2 of 2). These functions will not be directly callable after loading.\n"
     ]
    },
    {
     "name": "stdout",
     "output_type": "stream",
     "text": [
      "INFO:tensorflow:Assets written to: C:\\Users\\PARK\\Documents\\LAB\\RNN vs LSTM\\FInal Example\\wandb\\run-20221016_041024-3d3hm2b9\\files\\model-best\\assets\n"
     ]
    },
    {
     "name": "stderr",
     "output_type": "stream",
     "text": [
      "INFO:tensorflow:Assets written to: C:\\Users\\PARK\\Documents\\LAB\\RNN vs LSTM\\FInal Example\\wandb\\run-20221016_041024-3d3hm2b9\\files\\model-best\\assets\n",
      "\u001b[34m\u001b[1mwandb\u001b[0m: Adding directory to artifact (C:\\Users\\PARK\\Documents\\LAB\\RNN vs LSTM\\FInal Example\\wandb\\run-20221016_041024-3d3hm2b9\\files\\model-best)... Done. 0.4s\n"
     ]
    },
    {
     "name": "stdout",
     "output_type": "stream",
     "text": [
      "5/5 [==============================] - 5s 1s/step - loss: 0.0702 - mae: 0.2076 - val_loss: 0.0559 - val_mae: 0.1819\n",
      "Epoch 108/1000\n",
      "5/5 [==============================] - 1s 228ms/step - loss: 0.0661 - mae: 0.2010 - val_loss: 0.0575 - val_mae: 0.1851\n",
      "Epoch 109/1000\n",
      "5/5 [==============================] - 1s 219ms/step - loss: 0.0690 - mae: 0.2062 - val_loss: 0.0718 - val_mae: 0.2046\n",
      "Epoch 110/1000\n",
      "5/5 [==============================] - 1s 217ms/step - loss: 0.0677 - mae: 0.2032 - val_loss: 0.0863 - val_mae: 0.2312\n",
      "Epoch 111/1000\n",
      "5/5 [==============================] - 1s 219ms/step - loss: 0.0662 - mae: 0.2000 - val_loss: 0.0723 - val_mae: 0.2081\n",
      "Epoch 112/1000\n",
      "5/5 [==============================] - 1s 219ms/step - loss: 0.0606 - mae: 0.1907 - val_loss: 0.0573 - val_mae: 0.1824\n",
      "Epoch 113/1000\n",
      "5/5 [==============================] - 1s 218ms/step - loss: 0.0583 - mae: 0.1864 - val_loss: 0.0562 - val_mae: 0.1802\n",
      "Epoch 114/1000\n",
      "5/5 [==============================] - 1s 220ms/step - loss: 0.0571 - mae: 0.1836 - val_loss: 0.0575 - val_mae: 0.1821\n",
      "Epoch 115/1000\n",
      "5/5 [==============================] - ETA: 0s - loss: 0.0573 - mae: 0.1836"
     ]
    },
    {
     "name": "stderr",
     "output_type": "stream",
     "text": [
      "WARNING:absl:Found untraced functions such as lstm_cell_layer_call_fn, lstm_cell_layer_call_and_return_conditional_losses while saving (showing 2 of 2). These functions will not be directly callable after loading.\n"
     ]
    },
    {
     "name": "stdout",
     "output_type": "stream",
     "text": [
      "INFO:tensorflow:Assets written to: C:\\Users\\PARK\\Documents\\LAB\\RNN vs LSTM\\FInal Example\\wandb\\run-20221016_041024-3d3hm2b9\\files\\model-best\\assets\n"
     ]
    },
    {
     "name": "stderr",
     "output_type": "stream",
     "text": [
      "INFO:tensorflow:Assets written to: C:\\Users\\PARK\\Documents\\LAB\\RNN vs LSTM\\FInal Example\\wandb\\run-20221016_041024-3d3hm2b9\\files\\model-best\\assets\n",
      "\u001b[34m\u001b[1mwandb\u001b[0m: Adding directory to artifact (C:\\Users\\PARK\\Documents\\LAB\\RNN vs LSTM\\FInal Example\\wandb\\run-20221016_041024-3d3hm2b9\\files\\model-best)... Done. 0.4s\n"
     ]
    },
    {
     "name": "stdout",
     "output_type": "stream",
     "text": [
      "5/5 [==============================] - 5s 1s/step - loss: 0.0573 - mae: 0.1836 - val_loss: 0.0554 - val_mae: 0.1797\n",
      "Epoch 116/1000\n",
      "5/5 [==============================] - 1s 256ms/step - loss: 0.0586 - mae: 0.1856 - val_loss: 0.0577 - val_mae: 0.1854\n",
      "Epoch 117/1000\n",
      "5/5 [==============================] - 1s 219ms/step - loss: 0.0587 - mae: 0.1858 - val_loss: 0.0556 - val_mae: 0.1796\n",
      "Epoch 118/1000\n",
      "5/5 [==============================] - 1s 221ms/step - loss: 0.0581 - mae: 0.1855 - val_loss: 0.0656 - val_mae: 0.1950\n",
      "Epoch 119/1000\n",
      "5/5 [==============================] - 1s 219ms/step - loss: 0.0627 - mae: 0.1944 - val_loss: 0.0698 - val_mae: 0.1996\n",
      "Epoch 120/1000\n",
      "5/5 [==============================] - ETA: 0s - loss: 0.0596 - mae: 0.1884"
     ]
    },
    {
     "name": "stderr",
     "output_type": "stream",
     "text": [
      "WARNING:absl:Found untraced functions such as lstm_cell_layer_call_fn, lstm_cell_layer_call_and_return_conditional_losses while saving (showing 2 of 2). These functions will not be directly callable after loading.\n"
     ]
    },
    {
     "name": "stdout",
     "output_type": "stream",
     "text": [
      "INFO:tensorflow:Assets written to: C:\\Users\\PARK\\Documents\\LAB\\RNN vs LSTM\\FInal Example\\wandb\\run-20221016_041024-3d3hm2b9\\files\\model-best\\assets\n"
     ]
    },
    {
     "name": "stderr",
     "output_type": "stream",
     "text": [
      "INFO:tensorflow:Assets written to: C:\\Users\\PARK\\Documents\\LAB\\RNN vs LSTM\\FInal Example\\wandb\\run-20221016_041024-3d3hm2b9\\files\\model-best\\assets\n",
      "\u001b[34m\u001b[1mwandb\u001b[0m: Adding directory to artifact (C:\\Users\\PARK\\Documents\\LAB\\RNN vs LSTM\\FInal Example\\wandb\\run-20221016_041024-3d3hm2b9\\files\\model-best)... Done. 0.4s\n"
     ]
    },
    {
     "name": "stdout",
     "output_type": "stream",
     "text": [
      "5/5 [==============================] - 5s 1s/step - loss: 0.0596 - mae: 0.1884 - val_loss: 0.0551 - val_mae: 0.1780\n",
      "Epoch 121/1000\n",
      "5/5 [==============================] - 1s 222ms/step - loss: 0.0614 - mae: 0.1924 - val_loss: 0.0633 - val_mae: 0.1998\n",
      "Epoch 122/1000\n",
      "5/5 [==============================] - 1s 221ms/step - loss: 0.0621 - mae: 0.1931 - val_loss: 0.0575 - val_mae: 0.1839\n",
      "Epoch 123/1000\n",
      "5/5 [==============================] - 1s 220ms/step - loss: 0.0599 - mae: 0.1892 - val_loss: 0.0623 - val_mae: 0.1890\n",
      "Epoch 124/1000\n",
      "5/5 [==============================] - 1s 218ms/step - loss: 0.0590 - mae: 0.1872 - val_loss: 0.0650 - val_mae: 0.1953\n",
      "Epoch 125/1000\n",
      "5/5 [==============================] - 1s 218ms/step - loss: 0.0598 - mae: 0.1878 - val_loss: 0.0564 - val_mae: 0.1813\n",
      "Epoch 126/1000\n",
      "5/5 [==============================] - 1s 220ms/step - loss: 0.0569 - mae: 0.1828 - val_loss: 0.0567 - val_mae: 0.1813\n",
      "Epoch 127/1000\n",
      "5/5 [==============================] - 1s 220ms/step - loss: 0.0565 - mae: 0.1832 - val_loss: 0.0692 - val_mae: 0.2000\n",
      "Epoch 128/1000\n",
      "5/5 [==============================] - 1s 219ms/step - loss: 0.0605 - mae: 0.1895 - val_loss: 0.0571 - val_mae: 0.1821\n",
      "Epoch 129/1000\n",
      "5/5 [==============================] - 1s 220ms/step - loss: 0.0576 - mae: 0.1842 - val_loss: 0.0578 - val_mae: 0.1881\n",
      "Epoch 130/1000\n",
      "5/5 [==============================] - ETA: 0s - loss: 0.0581 - mae: 0.1864"
     ]
    },
    {
     "name": "stderr",
     "output_type": "stream",
     "text": [
      "WARNING:absl:Found untraced functions such as lstm_cell_layer_call_fn, lstm_cell_layer_call_and_return_conditional_losses while saving (showing 2 of 2). These functions will not be directly callable after loading.\n"
     ]
    },
    {
     "name": "stdout",
     "output_type": "stream",
     "text": [
      "INFO:tensorflow:Assets written to: C:\\Users\\PARK\\Documents\\LAB\\RNN vs LSTM\\FInal Example\\wandb\\run-20221016_041024-3d3hm2b9\\files\\model-best\\assets\n"
     ]
    },
    {
     "name": "stderr",
     "output_type": "stream",
     "text": [
      "INFO:tensorflow:Assets written to: C:\\Users\\PARK\\Documents\\LAB\\RNN vs LSTM\\FInal Example\\wandb\\run-20221016_041024-3d3hm2b9\\files\\model-best\\assets\n",
      "\u001b[34m\u001b[1mwandb\u001b[0m: Adding directory to artifact (C:\\Users\\PARK\\Documents\\LAB\\RNN vs LSTM\\FInal Example\\wandb\\run-20221016_041024-3d3hm2b9\\files\\model-best)... Done. 0.4s\n"
     ]
    },
    {
     "name": "stdout",
     "output_type": "stream",
     "text": [
      "5/5 [==============================] - 5s 1s/step - loss: 0.0581 - mae: 0.1864 - val_loss: 0.0550 - val_mae: 0.1775\n",
      "Epoch 131/1000\n",
      "5/5 [==============================] - 1s 242ms/step - loss: 0.0561 - mae: 0.1817 - val_loss: 0.0620 - val_mae: 0.1882\n",
      "Epoch 132/1000\n",
      "5/5 [==============================] - 1s 218ms/step - loss: 0.0583 - mae: 0.1859 - val_loss: 0.0562 - val_mae: 0.1831\n",
      "Epoch 133/1000\n",
      "5/5 [==============================] - 1s 218ms/step - loss: 0.0592 - mae: 0.1878 - val_loss: 0.0574 - val_mae: 0.1845\n",
      "Epoch 134/1000\n",
      "5/5 [==============================] - 1s 218ms/step - loss: 0.0608 - mae: 0.1904 - val_loss: 0.0567 - val_mae: 0.1815\n",
      "Epoch 135/1000\n",
      "5/5 [==============================] - 1s 219ms/step - loss: 0.0565 - mae: 0.1827 - val_loss: 0.0562 - val_mae: 0.1800\n",
      "Epoch 136/1000\n",
      "5/5 [==============================] - 1s 219ms/step - loss: 0.0569 - mae: 0.1830 - val_loss: 0.0555 - val_mae: 0.1791\n",
      "Epoch 137/1000\n",
      "5/5 [==============================] - 1s 220ms/step - loss: 0.0556 - mae: 0.1808 - val_loss: 0.0551 - val_mae: 0.1790\n",
      "Epoch 138/1000\n",
      "5/5 [==============================] - 1s 220ms/step - loss: 0.0557 - mae: 0.1811 - val_loss: 0.0555 - val_mae: 0.1780\n",
      "Epoch 139/1000\n",
      "5/5 [==============================] - 1s 218ms/step - loss: 0.0559 - mae: 0.1808 - val_loss: 0.0558 - val_mae: 0.1802\n",
      "Epoch 140/1000\n",
      "5/5 [==============================] - 1s 219ms/step - loss: 0.0558 - mae: 0.1818 - val_loss: 0.0566 - val_mae: 0.1797\n",
      "Epoch 141/1000\n",
      "5/5 [==============================] - 1s 221ms/step - loss: 0.0562 - mae: 0.1814 - val_loss: 0.0573 - val_mae: 0.1837\n",
      "Epoch 142/1000\n",
      "5/5 [==============================] - 1s 218ms/step - loss: 0.0572 - mae: 0.1842 - val_loss: 0.0553 - val_mae: 0.1823\n",
      "Epoch 143/1000\n",
      "5/5 [==============================] - 1s 219ms/step - loss: 0.0577 - mae: 0.1859 - val_loss: 0.0730 - val_mae: 0.2072\n",
      "Epoch 144/1000\n",
      "5/5 [==============================] - 1s 218ms/step - loss: 0.0631 - mae: 0.1957 - val_loss: 0.0613 - val_mae: 0.1892\n",
      "Epoch 145/1000\n",
      "5/5 [==============================] - 1s 217ms/step - loss: 0.0609 - mae: 0.1916 - val_loss: 0.0599 - val_mae: 0.1955\n",
      "Epoch 146/1000\n",
      "5/5 [==============================] - 1s 218ms/step - loss: 0.0624 - mae: 0.1954 - val_loss: 0.0589 - val_mae: 0.1880\n",
      "Epoch 147/1000\n",
      "5/5 [==============================] - 1s 219ms/step - loss: 0.0569 - mae: 0.1827 - val_loss: 0.0570 - val_mae: 0.1804\n",
      "Epoch 148/1000\n",
      "5/5 [==============================] - 1s 217ms/step - loss: 0.0582 - mae: 0.1868 - val_loss: 0.0552 - val_mae: 0.1798\n",
      "Epoch 149/1000\n",
      "5/5 [==============================] - 1s 220ms/step - loss: 0.0574 - mae: 0.1835 - val_loss: 0.0562 - val_mae: 0.1813\n",
      "Epoch 150/1000\n",
      "5/5 [==============================] - 1s 219ms/step - loss: 0.0568 - mae: 0.1825 - val_loss: 0.0552 - val_mae: 0.1793\n",
      "Epoch 151/1000\n",
      "5/5 [==============================] - 1s 220ms/step - loss: 0.0595 - mae: 0.1888 - val_loss: 0.0799 - val_mae: 0.2186\n",
      "Epoch 152/1000\n",
      "5/5 [==============================] - 1s 219ms/step - loss: 0.0631 - mae: 0.1934 - val_loss: 0.0566 - val_mae: 0.1799\n",
      "Epoch 153/1000\n",
      "5/5 [==============================] - 1s 216ms/step - loss: 0.0563 - mae: 0.1816 - val_loss: 0.0563 - val_mae: 0.1821\n",
      "Epoch 154/1000\n",
      "5/5 [==============================] - 1s 220ms/step - loss: 0.0565 - mae: 0.1831 - val_loss: 0.0580 - val_mae: 0.1820\n",
      "Epoch 155/1000\n",
      "5/5 [==============================] - 1s 217ms/step - loss: 0.0560 - mae: 0.1808 - val_loss: 0.0554 - val_mae: 0.1798\n",
      "Epoch 156/1000\n",
      "5/5 [==============================] - 1s 218ms/step - loss: 0.0554 - mae: 0.1804 - val_loss: 0.0630 - val_mae: 0.1870\n",
      "Epoch 157/1000\n",
      "5/5 [==============================] - 1s 220ms/step - loss: 0.0616 - mae: 0.1937 - val_loss: 0.0761 - val_mae: 0.2146\n",
      "Epoch 158/1000\n",
      "5/5 [==============================] - 1s 219ms/step - loss: 0.0657 - mae: 0.2009 - val_loss: 0.0604 - val_mae: 0.1879\n",
      "Epoch 159/1000\n",
      "5/5 [==============================] - 1s 218ms/step - loss: 0.0594 - mae: 0.1884 - val_loss: 0.0556 - val_mae: 0.1818\n",
      "Epoch 160/1000\n",
      "5/5 [==============================] - 1s 219ms/step - loss: 0.0556 - mae: 0.1814 - val_loss: 0.0575 - val_mae: 0.1834\n",
      "Epoch 161/1000\n",
      "5/5 [==============================] - 1s 220ms/step - loss: 0.0569 - mae: 0.1835 - val_loss: 0.0556 - val_mae: 0.1820\n",
      "Epoch 162/1000\n",
      "5/5 [==============================] - 1s 219ms/step - loss: 0.0570 - mae: 0.1836 - val_loss: 0.0555 - val_mae: 0.1795\n",
      "Epoch 163/1000\n",
      "5/5 [==============================] - 1s 218ms/step - loss: 0.0600 - mae: 0.1896 - val_loss: 0.0631 - val_mae: 0.1922\n",
      "Epoch 164/1000\n",
      "5/5 [==============================] - 1s 218ms/step - loss: 0.0641 - mae: 0.1959 - val_loss: 0.0786 - val_mae: 0.2144\n",
      "Epoch 165/1000\n",
      "5/5 [==============================] - 1s 219ms/step - loss: 0.0640 - mae: 0.1963 - val_loss: 0.0643 - val_mae: 0.1920\n",
      "Epoch 166/1000\n",
      "5/5 [==============================] - 1s 219ms/step - loss: 0.0597 - mae: 0.1894 - val_loss: 0.0569 - val_mae: 0.1813\n",
      "Epoch 167/1000\n",
      "5/5 [==============================] - 1s 222ms/step - loss: 0.0583 - mae: 0.1866 - val_loss: 0.0574 - val_mae: 0.1866\n",
      "Epoch 168/1000\n",
      "5/5 [==============================] - 1s 219ms/step - loss: 0.0586 - mae: 0.1862 - val_loss: 0.0624 - val_mae: 0.1999\n",
      "Epoch 169/1000\n",
      "5/5 [==============================] - 1s 219ms/step - loss: 0.0600 - mae: 0.1893 - val_loss: 0.0550 - val_mae: 0.1796\n",
      "Epoch 170/1000\n",
      "5/5 [==============================] - 1s 219ms/step - loss: 0.0567 - mae: 0.1825 - val_loss: 0.0554 - val_mae: 0.1775\n",
      "Epoch 171/1000\n",
      "5/5 [==============================] - 1s 220ms/step - loss: 0.0540 - mae: 0.1774 - val_loss: 0.0556 - val_mae: 0.1794\n",
      "Epoch 172/1000\n",
      "5/5 [==============================] - 1s 218ms/step - loss: 0.0543 - mae: 0.1783 - val_loss: 0.0593 - val_mae: 0.1831\n",
      "Epoch 173/1000\n",
      "5/5 [==============================] - 1s 219ms/step - loss: 0.0555 - mae: 0.1818 - val_loss: 0.0569 - val_mae: 0.1795\n",
      "Epoch 174/1000\n",
      "5/5 [==============================] - 1s 221ms/step - loss: 0.0542 - mae: 0.1778 - val_loss: 0.0560 - val_mae: 0.1790\n",
      "Epoch 175/1000\n",
      "5/5 [==============================] - 1s 220ms/step - loss: 0.0549 - mae: 0.1797 - val_loss: 0.0556 - val_mae: 0.1772\n",
      "Epoch 176/1000\n",
      "5/5 [==============================] - 1s 218ms/step - loss: 0.0534 - mae: 0.1770 - val_loss: 0.0588 - val_mae: 0.1836\n",
      "Epoch 177/1000\n",
      "5/5 [==============================] - 1s 218ms/step - loss: 0.0546 - mae: 0.1792 - val_loss: 0.0556 - val_mae: 0.1784\n",
      "Epoch 178/1000\n",
      "5/5 [==============================] - 1s 217ms/step - loss: 0.0573 - mae: 0.1843 - val_loss: 0.0729 - val_mae: 0.2229\n",
      "Epoch 179/1000\n",
      "5/5 [==============================] - 1s 218ms/step - loss: 0.0684 - mae: 0.2062 - val_loss: 0.0634 - val_mae: 0.2024\n",
      "Epoch 180/1000\n",
      "5/5 [==============================] - 1s 219ms/step - loss: 0.0590 - mae: 0.1882 - val_loss: 0.0689 - val_mae: 0.2153\n",
      "Epoch 181/1000\n",
      "5/5 [==============================] - 1s 218ms/step - loss: 0.0615 - mae: 0.1944 - val_loss: 0.0589 - val_mae: 0.1903\n",
      "Epoch 182/1000\n",
      "5/5 [==============================] - ETA: 0s - loss: 0.0574 - mae: 0.1853"
     ]
    },
    {
     "name": "stderr",
     "output_type": "stream",
     "text": [
      "WARNING:absl:Found untraced functions such as lstm_cell_layer_call_fn, lstm_cell_layer_call_and_return_conditional_losses while saving (showing 2 of 2). These functions will not be directly callable after loading.\n"
     ]
    },
    {
     "name": "stdout",
     "output_type": "stream",
     "text": [
      "INFO:tensorflow:Assets written to: C:\\Users\\PARK\\Documents\\LAB\\RNN vs LSTM\\FInal Example\\wandb\\run-20221016_041024-3d3hm2b9\\files\\model-best\\assets\n"
     ]
    },
    {
     "name": "stderr",
     "output_type": "stream",
     "text": [
      "INFO:tensorflow:Assets written to: C:\\Users\\PARK\\Documents\\LAB\\RNN vs LSTM\\FInal Example\\wandb\\run-20221016_041024-3d3hm2b9\\files\\model-best\\assets\n",
      "\u001b[34m\u001b[1mwandb\u001b[0m: Adding directory to artifact (C:\\Users\\PARK\\Documents\\LAB\\RNN vs LSTM\\FInal Example\\wandb\\run-20221016_041024-3d3hm2b9\\files\\model-best)... Done. 0.4s\n"
     ]
    },
    {
     "name": "stdout",
     "output_type": "stream",
     "text": [
      "5/5 [==============================] - 5s 1s/step - loss: 0.0574 - mae: 0.1853 - val_loss: 0.0543 - val_mae: 0.1779\n",
      "Epoch 183/1000\n",
      "5/5 [==============================] - 1s 223ms/step - loss: 0.0566 - mae: 0.1826 - val_loss: 0.0584 - val_mae: 0.1818\n",
      "Epoch 184/1000\n",
      "5/5 [==============================] - 1s 217ms/step - loss: 0.0534 - mae: 0.1758 - val_loss: 0.0545 - val_mae: 0.1779\n",
      "Epoch 185/1000\n",
      "5/5 [==============================] - 1s 218ms/step - loss: 0.0533 - mae: 0.1765 - val_loss: 0.0548 - val_mae: 0.1770\n",
      "Epoch 186/1000\n",
      "5/5 [==============================] - 1s 217ms/step - loss: 0.0526 - mae: 0.1745 - val_loss: 0.0549 - val_mae: 0.1782\n",
      "Epoch 187/1000\n",
      "5/5 [==============================] - 1s 219ms/step - loss: 0.0539 - mae: 0.1781 - val_loss: 0.0557 - val_mae: 0.1779\n",
      "Epoch 188/1000\n",
      "5/5 [==============================] - 1s 219ms/step - loss: 0.0531 - mae: 0.1765 - val_loss: 0.0580 - val_mae: 0.1812\n",
      "Epoch 189/1000\n",
      "5/5 [==============================] - 1s 220ms/step - loss: 0.0553 - mae: 0.1808 - val_loss: 0.0677 - val_mae: 0.1964\n",
      "Epoch 190/1000\n",
      "5/5 [==============================] - 1s 219ms/step - loss: 0.0591 - mae: 0.1879 - val_loss: 0.0570 - val_mae: 0.1798\n",
      "Epoch 191/1000\n",
      "5/5 [==============================] - 1s 218ms/step - loss: 0.0584 - mae: 0.1880 - val_loss: 0.0572 - val_mae: 0.1870\n",
      "Epoch 192/1000\n",
      "5/5 [==============================] - 1s 216ms/step - loss: 0.0628 - mae: 0.1965 - val_loss: 0.0549 - val_mae: 0.1783\n",
      "Epoch 193/1000\n",
      "5/5 [==============================] - 1s 218ms/step - loss: 0.0584 - mae: 0.1873 - val_loss: 0.0572 - val_mae: 0.1814\n",
      "Epoch 194/1000\n",
      "5/5 [==============================] - 1s 219ms/step - loss: 0.0578 - mae: 0.1855 - val_loss: 0.0570 - val_mae: 0.1810\n",
      "Epoch 195/1000\n",
      "5/5 [==============================] - 1s 220ms/step - loss: 0.0533 - mae: 0.1763 - val_loss: 0.0554 - val_mae: 0.1763\n",
      "Epoch 196/1000\n",
      "5/5 [==============================] - 1s 219ms/step - loss: 0.0529 - mae: 0.1763 - val_loss: 0.0566 - val_mae: 0.1847\n",
      "Epoch 197/1000\n",
      "5/5 [==============================] - 1s 219ms/step - loss: 0.0596 - mae: 0.1886 - val_loss: 0.0558 - val_mae: 0.1821\n",
      "Epoch 198/1000\n",
      "5/5 [==============================] - 1s 220ms/step - loss: 0.0558 - mae: 0.1823 - val_loss: 0.0544 - val_mae: 0.1800\n",
      "Epoch 199/1000\n",
      "5/5 [==============================] - 1s 220ms/step - loss: 0.0523 - mae: 0.1747 - val_loss: 0.0567 - val_mae: 0.1801\n",
      "Epoch 200/1000\n",
      "5/5 [==============================] - 1s 217ms/step - loss: 0.0532 - mae: 0.1759 - val_loss: 0.0544 - val_mae: 0.1769\n",
      "Epoch 201/1000\n",
      "5/5 [==============================] - ETA: 0s - loss: 0.0520 - mae: 0.1743"
     ]
    },
    {
     "name": "stderr",
     "output_type": "stream",
     "text": [
      "WARNING:absl:Found untraced functions such as lstm_cell_layer_call_fn, lstm_cell_layer_call_and_return_conditional_losses while saving (showing 2 of 2). These functions will not be directly callable after loading.\n"
     ]
    },
    {
     "name": "stdout",
     "output_type": "stream",
     "text": [
      "INFO:tensorflow:Assets written to: C:\\Users\\PARK\\Documents\\LAB\\RNN vs LSTM\\FInal Example\\wandb\\run-20221016_041024-3d3hm2b9\\files\\model-best\\assets\n"
     ]
    },
    {
     "name": "stderr",
     "output_type": "stream",
     "text": [
      "INFO:tensorflow:Assets written to: C:\\Users\\PARK\\Documents\\LAB\\RNN vs LSTM\\FInal Example\\wandb\\run-20221016_041024-3d3hm2b9\\files\\model-best\\assets\n",
      "\u001b[34m\u001b[1mwandb\u001b[0m: Adding directory to artifact (C:\\Users\\PARK\\Documents\\LAB\\RNN vs LSTM\\FInal Example\\wandb\\run-20221016_041024-3d3hm2b9\\files\\model-best)... Done. 0.4s\n"
     ]
    },
    {
     "name": "stdout",
     "output_type": "stream",
     "text": [
      "5/5 [==============================] - 5s 1s/step - loss: 0.0520 - mae: 0.1743 - val_loss: 0.0530 - val_mae: 0.1761\n",
      "Epoch 202/1000\n",
      "5/5 [==============================] - 1s 217ms/step - loss: 0.0523 - mae: 0.1748 - val_loss: 0.0540 - val_mae: 0.1755\n",
      "Epoch 203/1000\n",
      "5/5 [==============================] - 1s 216ms/step - loss: 0.0538 - mae: 0.1778 - val_loss: 0.0563 - val_mae: 0.1786\n",
      "Epoch 204/1000\n",
      "5/5 [==============================] - 1s 218ms/step - loss: 0.0529 - mae: 0.1752 - val_loss: 0.0537 - val_mae: 0.1737\n",
      "Epoch 205/1000\n",
      "5/5 [==============================] - 1s 218ms/step - loss: 0.0503 - mae: 0.1717 - val_loss: 0.0546 - val_mae: 0.1757\n",
      "Epoch 206/1000\n",
      "5/5 [==============================] - ETA: 0s - loss: 0.0509 - mae: 0.1714"
     ]
    },
    {
     "name": "stderr",
     "output_type": "stream",
     "text": [
      "WARNING:absl:Found untraced functions such as lstm_cell_layer_call_fn, lstm_cell_layer_call_and_return_conditional_losses while saving (showing 2 of 2). These functions will not be directly callable after loading.\n"
     ]
    },
    {
     "name": "stdout",
     "output_type": "stream",
     "text": [
      "INFO:tensorflow:Assets written to: C:\\Users\\PARK\\Documents\\LAB\\RNN vs LSTM\\FInal Example\\wandb\\run-20221016_041024-3d3hm2b9\\files\\model-best\\assets\n"
     ]
    },
    {
     "name": "stderr",
     "output_type": "stream",
     "text": [
      "INFO:tensorflow:Assets written to: C:\\Users\\PARK\\Documents\\LAB\\RNN vs LSTM\\FInal Example\\wandb\\run-20221016_041024-3d3hm2b9\\files\\model-best\\assets\n",
      "\u001b[34m\u001b[1mwandb\u001b[0m: Adding directory to artifact (C:\\Users\\PARK\\Documents\\LAB\\RNN vs LSTM\\FInal Example\\wandb\\run-20221016_041024-3d3hm2b9\\files\\model-best)... Done. 0.4s\n"
     ]
    },
    {
     "name": "stdout",
     "output_type": "stream",
     "text": [
      "5/5 [==============================] - 5s 1s/step - loss: 0.0509 - mae: 0.1714 - val_loss: 0.0521 - val_mae: 0.1715\n",
      "Epoch 207/1000\n",
      "5/5 [==============================] - 1s 226ms/step - loss: 0.0500 - mae: 0.1696 - val_loss: 0.0523 - val_mae: 0.1736\n",
      "Epoch 208/1000\n",
      "5/5 [==============================] - 1s 219ms/step - loss: 0.0498 - mae: 0.1699 - val_loss: 0.0527 - val_mae: 0.1773\n",
      "Epoch 209/1000\n",
      "5/5 [==============================] - 1s 220ms/step - loss: 0.0515 - mae: 0.1741 - val_loss: 0.0530 - val_mae: 0.1722\n",
      "Epoch 210/1000\n",
      "5/5 [==============================] - 1s 217ms/step - loss: 0.0514 - mae: 0.1728 - val_loss: 0.0638 - val_mae: 0.1906\n",
      "Epoch 211/1000\n",
      "5/5 [==============================] - ETA: 0s - loss: 0.0524 - mae: 0.1761"
     ]
    },
    {
     "name": "stderr",
     "output_type": "stream",
     "text": [
      "WARNING:absl:Found untraced functions such as lstm_cell_layer_call_fn, lstm_cell_layer_call_and_return_conditional_losses while saving (showing 2 of 2). These functions will not be directly callable after loading.\n"
     ]
    },
    {
     "name": "stdout",
     "output_type": "stream",
     "text": [
      "INFO:tensorflow:Assets written to: C:\\Users\\PARK\\Documents\\LAB\\RNN vs LSTM\\FInal Example\\wandb\\run-20221016_041024-3d3hm2b9\\files\\model-best\\assets\n"
     ]
    },
    {
     "name": "stderr",
     "output_type": "stream",
     "text": [
      "INFO:tensorflow:Assets written to: C:\\Users\\PARK\\Documents\\LAB\\RNN vs LSTM\\FInal Example\\wandb\\run-20221016_041024-3d3hm2b9\\files\\model-best\\assets\n",
      "\u001b[34m\u001b[1mwandb\u001b[0m: Adding directory to artifact (C:\\Users\\PARK\\Documents\\LAB\\RNN vs LSTM\\FInal Example\\wandb\\run-20221016_041024-3d3hm2b9\\files\\model-best)... Done. 0.4s\n"
     ]
    },
    {
     "name": "stdout",
     "output_type": "stream",
     "text": [
      "5/5 [==============================] - 5s 1s/step - loss: 0.0524 - mae: 0.1761 - val_loss: 0.0517 - val_mae: 0.1728\n",
      "Epoch 212/1000\n",
      "5/5 [==============================] - 1s 221ms/step - loss: 0.0505 - mae: 0.1710 - val_loss: 0.0521 - val_mae: 0.1741\n",
      "Epoch 213/1000\n",
      "5/5 [==============================] - 1s 221ms/step - loss: 0.0481 - mae: 0.1672 - val_loss: 0.0537 - val_mae: 0.1813\n",
      "Epoch 214/1000\n",
      "5/5 [==============================] - 1s 223ms/step - loss: 0.0506 - mae: 0.1729 - val_loss: 0.0573 - val_mae: 0.1928\n",
      "Epoch 215/1000\n",
      "5/5 [==============================] - 1s 222ms/step - loss: 0.0502 - mae: 0.1721 - val_loss: 0.0522 - val_mae: 0.1715\n",
      "Epoch 216/1000\n",
      "5/5 [==============================] - ETA: 0s - loss: 0.0522 - mae: 0.1742"
     ]
    },
    {
     "name": "stderr",
     "output_type": "stream",
     "text": [
      "WARNING:absl:Found untraced functions such as lstm_cell_layer_call_fn, lstm_cell_layer_call_and_return_conditional_losses while saving (showing 2 of 2). These functions will not be directly callable after loading.\n"
     ]
    },
    {
     "name": "stdout",
     "output_type": "stream",
     "text": [
      "INFO:tensorflow:Assets written to: C:\\Users\\PARK\\Documents\\LAB\\RNN vs LSTM\\FInal Example\\wandb\\run-20221016_041024-3d3hm2b9\\files\\model-best\\assets\n"
     ]
    },
    {
     "name": "stderr",
     "output_type": "stream",
     "text": [
      "INFO:tensorflow:Assets written to: C:\\Users\\PARK\\Documents\\LAB\\RNN vs LSTM\\FInal Example\\wandb\\run-20221016_041024-3d3hm2b9\\files\\model-best\\assets\n",
      "\u001b[34m\u001b[1mwandb\u001b[0m: Adding directory to artifact (C:\\Users\\PARK\\Documents\\LAB\\RNN vs LSTM\\FInal Example\\wandb\\run-20221016_041024-3d3hm2b9\\files\\model-best)... Done. 0.4s\n"
     ]
    },
    {
     "name": "stdout",
     "output_type": "stream",
     "text": [
      "5/5 [==============================] - 5s 1s/step - loss: 0.0522 - mae: 0.1742 - val_loss: 0.0497 - val_mae: 0.1697\n",
      "Epoch 217/1000\n",
      "5/5 [==============================] - 1s 218ms/step - loss: 0.0472 - mae: 0.1668 - val_loss: 0.0516 - val_mae: 0.1767\n",
      "Epoch 218/1000\n",
      "5/5 [==============================] - 1s 218ms/step - loss: 0.0502 - mae: 0.1712 - val_loss: 0.0518 - val_mae: 0.1790\n",
      "Epoch 219/1000\n",
      "5/5 [==============================] - 1s 219ms/step - loss: 0.0482 - mae: 0.1699 - val_loss: 0.0539 - val_mae: 0.1757\n",
      "Epoch 220/1000\n",
      "5/5 [==============================] - 1s 217ms/step - loss: 0.0518 - mae: 0.1766 - val_loss: 0.0622 - val_mae: 0.1895\n",
      "Epoch 221/1000\n",
      "5/5 [==============================] - ETA: 0s - loss: 0.0512 - mae: 0.1742"
     ]
    },
    {
     "name": "stderr",
     "output_type": "stream",
     "text": [
      "WARNING:absl:Found untraced functions such as lstm_cell_layer_call_fn, lstm_cell_layer_call_and_return_conditional_losses while saving (showing 2 of 2). These functions will not be directly callable after loading.\n"
     ]
    },
    {
     "name": "stdout",
     "output_type": "stream",
     "text": [
      "INFO:tensorflow:Assets written to: C:\\Users\\PARK\\Documents\\LAB\\RNN vs LSTM\\FInal Example\\wandb\\run-20221016_041024-3d3hm2b9\\files\\model-best\\assets\n"
     ]
    },
    {
     "name": "stderr",
     "output_type": "stream",
     "text": [
      "INFO:tensorflow:Assets written to: C:\\Users\\PARK\\Documents\\LAB\\RNN vs LSTM\\FInal Example\\wandb\\run-20221016_041024-3d3hm2b9\\files\\model-best\\assets\n",
      "\u001b[34m\u001b[1mwandb\u001b[0m: Adding directory to artifact (C:\\Users\\PARK\\Documents\\LAB\\RNN vs LSTM\\FInal Example\\wandb\\run-20221016_041024-3d3hm2b9\\files\\model-best)... Done. 0.4s\n"
     ]
    },
    {
     "name": "stdout",
     "output_type": "stream",
     "text": [
      "5/5 [==============================] - 5s 1s/step - loss: 0.0512 - mae: 0.1742 - val_loss: 0.0491 - val_mae: 0.1687\n",
      "Epoch 222/1000\n",
      "5/5 [==============================] - ETA: 0s - loss: 0.0453 - mae: 0.1652"
     ]
    },
    {
     "name": "stderr",
     "output_type": "stream",
     "text": [
      "WARNING:absl:Found untraced functions such as lstm_cell_layer_call_fn, lstm_cell_layer_call_and_return_conditional_losses while saving (showing 2 of 2). These functions will not be directly callable after loading.\n"
     ]
    },
    {
     "name": "stdout",
     "output_type": "stream",
     "text": [
      "INFO:tensorflow:Assets written to: C:\\Users\\PARK\\Documents\\LAB\\RNN vs LSTM\\FInal Example\\wandb\\run-20221016_041024-3d3hm2b9\\files\\model-best\\assets\n"
     ]
    },
    {
     "name": "stderr",
     "output_type": "stream",
     "text": [
      "INFO:tensorflow:Assets written to: C:\\Users\\PARK\\Documents\\LAB\\RNN vs LSTM\\FInal Example\\wandb\\run-20221016_041024-3d3hm2b9\\files\\model-best\\assets\n",
      "\u001b[34m\u001b[1mwandb\u001b[0m: Adding directory to artifact (C:\\Users\\PARK\\Documents\\LAB\\RNN vs LSTM\\FInal Example\\wandb\\run-20221016_041024-3d3hm2b9\\files\\model-best)... Done. 0.4s\n"
     ]
    },
    {
     "name": "stdout",
     "output_type": "stream",
     "text": [
      "5/5 [==============================] - 6s 1s/step - loss: 0.0453 - mae: 0.1652 - val_loss: 0.0470 - val_mae: 0.1686\n",
      "Epoch 223/1000\n",
      "5/5 [==============================] - ETA: 0s - loss: 0.0431 - mae: 0.1598"
     ]
    },
    {
     "name": "stderr",
     "output_type": "stream",
     "text": [
      "WARNING:absl:Found untraced functions such as lstm_cell_layer_call_fn, lstm_cell_layer_call_and_return_conditional_losses while saving (showing 2 of 2). These functions will not be directly callable after loading.\n"
     ]
    },
    {
     "name": "stdout",
     "output_type": "stream",
     "text": [
      "INFO:tensorflow:Assets written to: C:\\Users\\PARK\\Documents\\LAB\\RNN vs LSTM\\FInal Example\\wandb\\run-20221016_041024-3d3hm2b9\\files\\model-best\\assets\n"
     ]
    },
    {
     "name": "stderr",
     "output_type": "stream",
     "text": [
      "INFO:tensorflow:Assets written to: C:\\Users\\PARK\\Documents\\LAB\\RNN vs LSTM\\FInal Example\\wandb\\run-20221016_041024-3d3hm2b9\\files\\model-best\\assets\n",
      "\u001b[34m\u001b[1mwandb\u001b[0m: Adding directory to artifact (C:\\Users\\PARK\\Documents\\LAB\\RNN vs LSTM\\FInal Example\\wandb\\run-20221016_041024-3d3hm2b9\\files\\model-best)... Done. 0.4s\n"
     ]
    },
    {
     "name": "stdout",
     "output_type": "stream",
     "text": [
      "5/5 [==============================] - 5s 1s/step - loss: 0.0431 - mae: 0.1598 - val_loss: 0.0454 - val_mae: 0.1629\n",
      "Epoch 224/1000\n",
      "5/5 [==============================] - 1s 235ms/step - loss: 0.0414 - mae: 0.1550 - val_loss: 0.0455 - val_mae: 0.1596\n",
      "Epoch 225/1000\n",
      "5/5 [==============================] - ETA: 0s - loss: 0.0402 - mae: 0.1532"
     ]
    },
    {
     "name": "stderr",
     "output_type": "stream",
     "text": [
      "WARNING:absl:Found untraced functions such as lstm_cell_layer_call_fn, lstm_cell_layer_call_and_return_conditional_losses while saving (showing 2 of 2). These functions will not be directly callable after loading.\n"
     ]
    },
    {
     "name": "stdout",
     "output_type": "stream",
     "text": [
      "INFO:tensorflow:Assets written to: C:\\Users\\PARK\\Documents\\LAB\\RNN vs LSTM\\FInal Example\\wandb\\run-20221016_041024-3d3hm2b9\\files\\model-best\\assets\n"
     ]
    },
    {
     "name": "stderr",
     "output_type": "stream",
     "text": [
      "INFO:tensorflow:Assets written to: C:\\Users\\PARK\\Documents\\LAB\\RNN vs LSTM\\FInal Example\\wandb\\run-20221016_041024-3d3hm2b9\\files\\model-best\\assets\n",
      "\u001b[34m\u001b[1mwandb\u001b[0m: Adding directory to artifact (C:\\Users\\PARK\\Documents\\LAB\\RNN vs LSTM\\FInal Example\\wandb\\run-20221016_041024-3d3hm2b9\\files\\model-best)... Done. 0.4s\n"
     ]
    },
    {
     "name": "stdout",
     "output_type": "stream",
     "text": [
      "5/5 [==============================] - 5s 1s/step - loss: 0.0402 - mae: 0.1532 - val_loss: 0.0428 - val_mae: 0.1599\n",
      "Epoch 226/1000\n",
      "5/5 [==============================] - ETA: 0s - loss: 0.0404 - mae: 0.1540"
     ]
    },
    {
     "name": "stderr",
     "output_type": "stream",
     "text": [
      "WARNING:absl:Found untraced functions such as lstm_cell_layer_call_fn, lstm_cell_layer_call_and_return_conditional_losses while saving (showing 2 of 2). These functions will not be directly callable after loading.\n"
     ]
    },
    {
     "name": "stdout",
     "output_type": "stream",
     "text": [
      "INFO:tensorflow:Assets written to: C:\\Users\\PARK\\Documents\\LAB\\RNN vs LSTM\\FInal Example\\wandb\\run-20221016_041024-3d3hm2b9\\files\\model-best\\assets\n"
     ]
    },
    {
     "name": "stderr",
     "output_type": "stream",
     "text": [
      "INFO:tensorflow:Assets written to: C:\\Users\\PARK\\Documents\\LAB\\RNN vs LSTM\\FInal Example\\wandb\\run-20221016_041024-3d3hm2b9\\files\\model-best\\assets\n",
      "\u001b[34m\u001b[1mwandb\u001b[0m: Adding directory to artifact (C:\\Users\\PARK\\Documents\\LAB\\RNN vs LSTM\\FInal Example\\wandb\\run-20221016_041024-3d3hm2b9\\files\\model-best)... Done. 0.4s\n"
     ]
    },
    {
     "name": "stdout",
     "output_type": "stream",
     "text": [
      "5/5 [==============================] - 5s 1s/step - loss: 0.0404 - mae: 0.1540 - val_loss: 0.0420 - val_mae: 0.1550\n",
      "Epoch 227/1000\n",
      "5/5 [==============================] - ETA: 0s - loss: 0.0384 - mae: 0.1496"
     ]
    },
    {
     "name": "stderr",
     "output_type": "stream",
     "text": [
      "WARNING:absl:Found untraced functions such as lstm_cell_layer_call_fn, lstm_cell_layer_call_and_return_conditional_losses while saving (showing 2 of 2). These functions will not be directly callable after loading.\n"
     ]
    },
    {
     "name": "stdout",
     "output_type": "stream",
     "text": [
      "INFO:tensorflow:Assets written to: C:\\Users\\PARK\\Documents\\LAB\\RNN vs LSTM\\FInal Example\\wandb\\run-20221016_041024-3d3hm2b9\\files\\model-best\\assets\n"
     ]
    },
    {
     "name": "stderr",
     "output_type": "stream",
     "text": [
      "INFO:tensorflow:Assets written to: C:\\Users\\PARK\\Documents\\LAB\\RNN vs LSTM\\FInal Example\\wandb\\run-20221016_041024-3d3hm2b9\\files\\model-best\\assets\n",
      "\u001b[34m\u001b[1mwandb\u001b[0m: Adding directory to artifact (C:\\Users\\PARK\\Documents\\LAB\\RNN vs LSTM\\FInal Example\\wandb\\run-20221016_041024-3d3hm2b9\\files\\model-best)... Done. 0.4s\n"
     ]
    },
    {
     "name": "stdout",
     "output_type": "stream",
     "text": [
      "5/5 [==============================] - 5s 1s/step - loss: 0.0384 - mae: 0.1496 - val_loss: 0.0416 - val_mae: 0.1573\n",
      "Epoch 228/1000\n",
      "4/5 [=======================>......] - ETA: 0s - loss: 0.0389 - mae: 0.1513"
     ]
    },
    {
     "name": "stderr",
     "output_type": "stream",
     "text": [
      "WARNING:absl:Found untraced functions such as lstm_cell_layer_call_fn, lstm_cell_layer_call_and_return_conditional_losses while saving (showing 2 of 2). These functions will not be directly callable after loading.\n"
     ]
    },
    {
     "name": "stdout",
     "output_type": "stream",
     "text": [
      "INFO:tensorflow:Assets written to: C:\\Users\\PARK\\Documents\\LAB\\RNN vs LSTM\\FInal Example\\wandb\\run-20221016_041024-3d3hm2b9\\files\\model-best\\assets\n"
     ]
    },
    {
     "name": "stderr",
     "output_type": "stream",
     "text": [
      "INFO:tensorflow:Assets written to: C:\\Users\\PARK\\Documents\\LAB\\RNN vs LSTM\\FInal Example\\wandb\\run-20221016_041024-3d3hm2b9\\files\\model-best\\assets\n",
      "\u001b[34m\u001b[1mwandb\u001b[0m: Adding directory to artifact (C:\\Users\\PARK\\Documents\\LAB\\RNN vs LSTM\\FInal Example\\wandb\\run-20221016_041024-3d3hm2b9\\files\\model-best)... Done. 0.4s\n"
     ]
    },
    {
     "name": "stdout",
     "output_type": "stream",
     "text": [
      "5/5 [==============================] - 6s 1s/step - loss: 0.0393 - mae: 0.1522 - val_loss: 0.0397 - val_mae: 0.1511\n",
      "Epoch 229/1000\n",
      "5/5 [==============================] - 1s 221ms/step - loss: 0.0385 - mae: 0.1518 - val_loss: 0.0489 - val_mae: 0.1705\n",
      "Epoch 230/1000\n",
      "5/5 [==============================] - 1s 217ms/step - loss: 0.0402 - mae: 0.1541 - val_loss: 0.0418 - val_mae: 0.1607\n",
      "Epoch 231/1000\n",
      "5/5 [==============================] - 1s 219ms/step - loss: 0.0414 - mae: 0.1572 - val_loss: 0.0449 - val_mae: 0.1647\n",
      "Epoch 232/1000\n",
      "5/5 [==============================] - ETA: 0s - loss: 0.0399 - mae: 0.1542"
     ]
    },
    {
     "name": "stderr",
     "output_type": "stream",
     "text": [
      "WARNING:absl:Found untraced functions such as lstm_cell_layer_call_fn, lstm_cell_layer_call_and_return_conditional_losses while saving (showing 2 of 2). These functions will not be directly callable after loading.\n"
     ]
    },
    {
     "name": "stdout",
     "output_type": "stream",
     "text": [
      "INFO:tensorflow:Assets written to: C:\\Users\\PARK\\Documents\\LAB\\RNN vs LSTM\\FInal Example\\wandb\\run-20221016_041024-3d3hm2b9\\files\\model-best\\assets\n"
     ]
    },
    {
     "name": "stderr",
     "output_type": "stream",
     "text": [
      "INFO:tensorflow:Assets written to: C:\\Users\\PARK\\Documents\\LAB\\RNN vs LSTM\\FInal Example\\wandb\\run-20221016_041024-3d3hm2b9\\files\\model-best\\assets\n",
      "\u001b[34m\u001b[1mwandb\u001b[0m: Adding directory to artifact (C:\\Users\\PARK\\Documents\\LAB\\RNN vs LSTM\\FInal Example\\wandb\\run-20221016_041024-3d3hm2b9\\files\\model-best)... Done. 0.4s\n"
     ]
    },
    {
     "name": "stdout",
     "output_type": "stream",
     "text": [
      "5/5 [==============================] - 5s 1s/step - loss: 0.0399 - mae: 0.1542 - val_loss: 0.0367 - val_mae: 0.1491\n",
      "Epoch 233/1000\n",
      "5/5 [==============================] - 1s 225ms/step - loss: 0.0388 - mae: 0.1524 - val_loss: 0.0409 - val_mae: 0.1534\n",
      "Epoch 234/1000\n",
      "5/5 [==============================] - 1s 217ms/step - loss: 0.0414 - mae: 0.1585 - val_loss: 0.0506 - val_mae: 0.1777\n",
      "Epoch 235/1000\n",
      "5/5 [==============================] - 1s 218ms/step - loss: 0.0397 - mae: 0.1544 - val_loss: 0.0406 - val_mae: 0.1522\n",
      "Epoch 236/1000\n",
      "5/5 [==============================] - 1s 217ms/step - loss: 0.0377 - mae: 0.1506 - val_loss: 0.0387 - val_mae: 0.1507\n",
      "Epoch 237/1000\n",
      "5/5 [==============================] - 1s 215ms/step - loss: 0.0365 - mae: 0.1473 - val_loss: 0.0383 - val_mae: 0.1522\n",
      "Epoch 238/1000\n",
      "5/5 [==============================] - ETA: 0s - loss: 0.0362 - mae: 0.1473"
     ]
    },
    {
     "name": "stderr",
     "output_type": "stream",
     "text": [
      "WARNING:absl:Found untraced functions such as lstm_cell_layer_call_fn, lstm_cell_layer_call_and_return_conditional_losses while saving (showing 2 of 2). These functions will not be directly callable after loading.\n"
     ]
    },
    {
     "name": "stdout",
     "output_type": "stream",
     "text": [
      "INFO:tensorflow:Assets written to: C:\\Users\\PARK\\Documents\\LAB\\RNN vs LSTM\\FInal Example\\wandb\\run-20221016_041024-3d3hm2b9\\files\\model-best\\assets\n"
     ]
    },
    {
     "name": "stderr",
     "output_type": "stream",
     "text": [
      "INFO:tensorflow:Assets written to: C:\\Users\\PARK\\Documents\\LAB\\RNN vs LSTM\\FInal Example\\wandb\\run-20221016_041024-3d3hm2b9\\files\\model-best\\assets\n",
      "\u001b[34m\u001b[1mwandb\u001b[0m: Adding directory to artifact (C:\\Users\\PARK\\Documents\\LAB\\RNN vs LSTM\\FInal Example\\wandb\\run-20221016_041024-3d3hm2b9\\files\\model-best)... Done. 0.4s\n"
     ]
    },
    {
     "name": "stdout",
     "output_type": "stream",
     "text": [
      "5/5 [==============================] - 5s 1s/step - loss: 0.0362 - mae: 0.1473 - val_loss: 0.0366 - val_mae: 0.1451\n",
      "Epoch 239/1000\n",
      "4/5 [=======================>......] - ETA: 0s - loss: 0.0338 - mae: 0.1405"
     ]
    },
    {
     "name": "stderr",
     "output_type": "stream",
     "text": [
      "WARNING:absl:Found untraced functions such as lstm_cell_layer_call_fn, lstm_cell_layer_call_and_return_conditional_losses while saving (showing 2 of 2). These functions will not be directly callable after loading.\n"
     ]
    },
    {
     "name": "stdout",
     "output_type": "stream",
     "text": [
      "INFO:tensorflow:Assets written to: C:\\Users\\PARK\\Documents\\LAB\\RNN vs LSTM\\FInal Example\\wandb\\run-20221016_041024-3d3hm2b9\\files\\model-best\\assets\n"
     ]
    },
    {
     "name": "stderr",
     "output_type": "stream",
     "text": [
      "INFO:tensorflow:Assets written to: C:\\Users\\PARK\\Documents\\LAB\\RNN vs LSTM\\FInal Example\\wandb\\run-20221016_041024-3d3hm2b9\\files\\model-best\\assets\n",
      "\u001b[34m\u001b[1mwandb\u001b[0m: Adding directory to artifact (C:\\Users\\PARK\\Documents\\LAB\\RNN vs LSTM\\FInal Example\\wandb\\run-20221016_041024-3d3hm2b9\\files\\model-best)... Done. 0.4s\n"
     ]
    },
    {
     "name": "stdout",
     "output_type": "stream",
     "text": [
      "5/5 [==============================] - 6s 1s/step - loss: 0.0341 - mae: 0.1412 - val_loss: 0.0344 - val_mae: 0.1430\n",
      "Epoch 240/1000\n",
      "5/5 [==============================] - 1s 217ms/step - loss: 0.0327 - mae: 0.1382 - val_loss: 0.0361 - val_mae: 0.1454\n",
      "Epoch 241/1000\n",
      "5/5 [==============================] - ETA: 0s - loss: 0.0319 - mae: 0.1383"
     ]
    },
    {
     "name": "stderr",
     "output_type": "stream",
     "text": [
      "WARNING:absl:Found untraced functions such as lstm_cell_layer_call_fn, lstm_cell_layer_call_and_return_conditional_losses while saving (showing 2 of 2). These functions will not be directly callable after loading.\n"
     ]
    },
    {
     "name": "stdout",
     "output_type": "stream",
     "text": [
      "INFO:tensorflow:Assets written to: C:\\Users\\PARK\\Documents\\LAB\\RNN vs LSTM\\FInal Example\\wandb\\run-20221016_041024-3d3hm2b9\\files\\model-best\\assets\n"
     ]
    },
    {
     "name": "stderr",
     "output_type": "stream",
     "text": [
      "INFO:tensorflow:Assets written to: C:\\Users\\PARK\\Documents\\LAB\\RNN vs LSTM\\FInal Example\\wandb\\run-20221016_041024-3d3hm2b9\\files\\model-best\\assets\n",
      "\u001b[34m\u001b[1mwandb\u001b[0m: Adding directory to artifact (C:\\Users\\PARK\\Documents\\LAB\\RNN vs LSTM\\FInal Example\\wandb\\run-20221016_041024-3d3hm2b9\\files\\model-best)... Done. 0.4s\n"
     ]
    },
    {
     "name": "stdout",
     "output_type": "stream",
     "text": [
      "5/5 [==============================] - 5s 1s/step - loss: 0.0319 - mae: 0.1383 - val_loss: 0.0326 - val_mae: 0.1390\n",
      "Epoch 242/1000\n",
      "5/5 [==============================] - ETA: 0s - loss: 0.0311 - mae: 0.1352"
     ]
    },
    {
     "name": "stderr",
     "output_type": "stream",
     "text": [
      "WARNING:absl:Found untraced functions such as lstm_cell_layer_call_fn, lstm_cell_layer_call_and_return_conditional_losses while saving (showing 2 of 2). These functions will not be directly callable after loading.\n"
     ]
    },
    {
     "name": "stdout",
     "output_type": "stream",
     "text": [
      "INFO:tensorflow:Assets written to: C:\\Users\\PARK\\Documents\\LAB\\RNN vs LSTM\\FInal Example\\wandb\\run-20221016_041024-3d3hm2b9\\files\\model-best\\assets\n"
     ]
    },
    {
     "name": "stderr",
     "output_type": "stream",
     "text": [
      "INFO:tensorflow:Assets written to: C:\\Users\\PARK\\Documents\\LAB\\RNN vs LSTM\\FInal Example\\wandb\\run-20221016_041024-3d3hm2b9\\files\\model-best\\assets\n",
      "\u001b[34m\u001b[1mwandb\u001b[0m: Adding directory to artifact (C:\\Users\\PARK\\Documents\\LAB\\RNN vs LSTM\\FInal Example\\wandb\\run-20221016_041024-3d3hm2b9\\files\\model-best)... Done. 0.4s\n"
     ]
    },
    {
     "name": "stdout",
     "output_type": "stream",
     "text": [
      "5/5 [==============================] - 5s 1s/step - loss: 0.0311 - mae: 0.1352 - val_loss: 0.0324 - val_mae: 0.1379\n",
      "Epoch 243/1000\n",
      "5/5 [==============================] - ETA: 0s - loss: 0.0299 - mae: 0.1331"
     ]
    },
    {
     "name": "stderr",
     "output_type": "stream",
     "text": [
      "WARNING:absl:Found untraced functions such as lstm_cell_layer_call_fn, lstm_cell_layer_call_and_return_conditional_losses while saving (showing 2 of 2). These functions will not be directly callable after loading.\n"
     ]
    },
    {
     "name": "stdout",
     "output_type": "stream",
     "text": [
      "INFO:tensorflow:Assets written to: C:\\Users\\PARK\\Documents\\LAB\\RNN vs LSTM\\FInal Example\\wandb\\run-20221016_041024-3d3hm2b9\\files\\model-best\\assets\n"
     ]
    },
    {
     "name": "stderr",
     "output_type": "stream",
     "text": [
      "INFO:tensorflow:Assets written to: C:\\Users\\PARK\\Documents\\LAB\\RNN vs LSTM\\FInal Example\\wandb\\run-20221016_041024-3d3hm2b9\\files\\model-best\\assets\n",
      "\u001b[34m\u001b[1mwandb\u001b[0m: Adding directory to artifact (C:\\Users\\PARK\\Documents\\LAB\\RNN vs LSTM\\FInal Example\\wandb\\run-20221016_041024-3d3hm2b9\\files\\model-best)... Done. 0.4s\n"
     ]
    },
    {
     "name": "stdout",
     "output_type": "stream",
     "text": [
      "5/5 [==============================] - 6s 1s/step - loss: 0.0299 - mae: 0.1331 - val_loss: 0.0306 - val_mae: 0.1349\n",
      "Epoch 244/1000\n",
      "5/5 [==============================] - 1s 220ms/step - loss: 0.0294 - mae: 0.1326 - val_loss: 0.0315 - val_mae: 0.1354\n",
      "Epoch 245/1000\n",
      "5/5 [==============================] - 1s 221ms/step - loss: 0.0299 - mae: 0.1335 - val_loss: 0.0328 - val_mae: 0.1427\n",
      "Epoch 246/1000\n",
      "5/5 [==============================] - ETA: 0s - loss: 0.0288 - mae: 0.1327"
     ]
    },
    {
     "name": "stderr",
     "output_type": "stream",
     "text": [
      "WARNING:absl:Found untraced functions such as lstm_cell_layer_call_fn, lstm_cell_layer_call_and_return_conditional_losses while saving (showing 2 of 2). These functions will not be directly callable after loading.\n"
     ]
    },
    {
     "name": "stdout",
     "output_type": "stream",
     "text": [
      "INFO:tensorflow:Assets written to: C:\\Users\\PARK\\Documents\\LAB\\RNN vs LSTM\\FInal Example\\wandb\\run-20221016_041024-3d3hm2b9\\files\\model-best\\assets\n"
     ]
    },
    {
     "name": "stderr",
     "output_type": "stream",
     "text": [
      "INFO:tensorflow:Assets written to: C:\\Users\\PARK\\Documents\\LAB\\RNN vs LSTM\\FInal Example\\wandb\\run-20221016_041024-3d3hm2b9\\files\\model-best\\assets\n",
      "\u001b[34m\u001b[1mwandb\u001b[0m: Adding directory to artifact (C:\\Users\\PARK\\Documents\\LAB\\RNN vs LSTM\\FInal Example\\wandb\\run-20221016_041024-3d3hm2b9\\files\\model-best)... Done. 0.4s\n"
     ]
    },
    {
     "name": "stdout",
     "output_type": "stream",
     "text": [
      "5/5 [==============================] - 5s 1s/step - loss: 0.0288 - mae: 0.1327 - val_loss: 0.0303 - val_mae: 0.1313\n",
      "Epoch 247/1000\n",
      "5/5 [==============================] - ETA: 0s - loss: 0.0290 - mae: 0.1311"
     ]
    },
    {
     "name": "stderr",
     "output_type": "stream",
     "text": [
      "WARNING:absl:Found untraced functions such as lstm_cell_layer_call_fn, lstm_cell_layer_call_and_return_conditional_losses while saving (showing 2 of 2). These functions will not be directly callable after loading.\n"
     ]
    },
    {
     "name": "stdout",
     "output_type": "stream",
     "text": [
      "INFO:tensorflow:Assets written to: C:\\Users\\PARK\\Documents\\LAB\\RNN vs LSTM\\FInal Example\\wandb\\run-20221016_041024-3d3hm2b9\\files\\model-best\\assets\n"
     ]
    },
    {
     "name": "stderr",
     "output_type": "stream",
     "text": [
      "INFO:tensorflow:Assets written to: C:\\Users\\PARK\\Documents\\LAB\\RNN vs LSTM\\FInal Example\\wandb\\run-20221016_041024-3d3hm2b9\\files\\model-best\\assets\n",
      "\u001b[34m\u001b[1mwandb\u001b[0m: Adding directory to artifact (C:\\Users\\PARK\\Documents\\LAB\\RNN vs LSTM\\FInal Example\\wandb\\run-20221016_041024-3d3hm2b9\\files\\model-best)... Done. 0.4s\n"
     ]
    },
    {
     "name": "stdout",
     "output_type": "stream",
     "text": [
      "5/5 [==============================] - 6s 1s/step - loss: 0.0290 - mae: 0.1311 - val_loss: 0.0287 - val_mae: 0.1299\n",
      "Epoch 248/1000\n",
      "4/5 [=======================>......] - ETA: 0s - loss: 0.0277 - mae: 0.1289"
     ]
    },
    {
     "name": "stderr",
     "output_type": "stream",
     "text": [
      "WARNING:absl:Found untraced functions such as lstm_cell_layer_call_fn, lstm_cell_layer_call_and_return_conditional_losses while saving (showing 2 of 2). These functions will not be directly callable after loading.\n"
     ]
    },
    {
     "name": "stdout",
     "output_type": "stream",
     "text": [
      "INFO:tensorflow:Assets written to: C:\\Users\\PARK\\Documents\\LAB\\RNN vs LSTM\\FInal Example\\wandb\\run-20221016_041024-3d3hm2b9\\files\\model-best\\assets\n"
     ]
    },
    {
     "name": "stderr",
     "output_type": "stream",
     "text": [
      "INFO:tensorflow:Assets written to: C:\\Users\\PARK\\Documents\\LAB\\RNN vs LSTM\\FInal Example\\wandb\\run-20221016_041024-3d3hm2b9\\files\\model-best\\assets\n",
      "\u001b[34m\u001b[1mwandb\u001b[0m: Adding directory to artifact (C:\\Users\\PARK\\Documents\\LAB\\RNN vs LSTM\\FInal Example\\wandb\\run-20221016_041024-3d3hm2b9\\files\\model-best)... Done. 0.4s\n"
     ]
    },
    {
     "name": "stdout",
     "output_type": "stream",
     "text": [
      "5/5 [==============================] - 5s 1s/step - loss: 0.0281 - mae: 0.1296 - val_loss: 0.0276 - val_mae: 0.1312\n",
      "Epoch 249/1000\n",
      "5/5 [==============================] - ETA: 0s - loss: 0.0248 - mae: 0.1219"
     ]
    },
    {
     "name": "stderr",
     "output_type": "stream",
     "text": [
      "WARNING:absl:Found untraced functions such as lstm_cell_layer_call_fn, lstm_cell_layer_call_and_return_conditional_losses while saving (showing 2 of 2). These functions will not be directly callable after loading.\n"
     ]
    },
    {
     "name": "stdout",
     "output_type": "stream",
     "text": [
      "INFO:tensorflow:Assets written to: C:\\Users\\PARK\\Documents\\LAB\\RNN vs LSTM\\FInal Example\\wandb\\run-20221016_041024-3d3hm2b9\\files\\model-best\\assets\n"
     ]
    },
    {
     "name": "stderr",
     "output_type": "stream",
     "text": [
      "INFO:tensorflow:Assets written to: C:\\Users\\PARK\\Documents\\LAB\\RNN vs LSTM\\FInal Example\\wandb\\run-20221016_041024-3d3hm2b9\\files\\model-best\\assets\n",
      "\u001b[34m\u001b[1mwandb\u001b[0m: Adding directory to artifact (C:\\Users\\PARK\\Documents\\LAB\\RNN vs LSTM\\FInal Example\\wandb\\run-20221016_041024-3d3hm2b9\\files\\model-best)... Done. 0.4s\n"
     ]
    },
    {
     "name": "stdout",
     "output_type": "stream",
     "text": [
      "5/5 [==============================] - 5s 1s/step - loss: 0.0248 - mae: 0.1219 - val_loss: 0.0273 - val_mae: 0.1281\n",
      "Epoch 250/1000\n",
      "4/5 [=======================>......] - ETA: 0s - loss: 0.0250 - mae: 0.1224"
     ]
    },
    {
     "name": "stderr",
     "output_type": "stream",
     "text": [
      "WARNING:absl:Found untraced functions such as lstm_cell_layer_call_fn, lstm_cell_layer_call_and_return_conditional_losses while saving (showing 2 of 2). These functions will not be directly callable after loading.\n"
     ]
    },
    {
     "name": "stdout",
     "output_type": "stream",
     "text": [
      "INFO:tensorflow:Assets written to: C:\\Users\\PARK\\Documents\\LAB\\RNN vs LSTM\\FInal Example\\wandb\\run-20221016_041024-3d3hm2b9\\files\\model-best\\assets\n"
     ]
    },
    {
     "name": "stderr",
     "output_type": "stream",
     "text": [
      "INFO:tensorflow:Assets written to: C:\\Users\\PARK\\Documents\\LAB\\RNN vs LSTM\\FInal Example\\wandb\\run-20221016_041024-3d3hm2b9\\files\\model-best\\assets\n",
      "\u001b[34m\u001b[1mwandb\u001b[0m: Adding directory to artifact (C:\\Users\\PARK\\Documents\\LAB\\RNN vs LSTM\\FInal Example\\wandb\\run-20221016_041024-3d3hm2b9\\files\\model-best)... Done. 0.4s\n"
     ]
    },
    {
     "name": "stdout",
     "output_type": "stream",
     "text": [
      "5/5 [==============================] - 6s 1s/step - loss: 0.0251 - mae: 0.1228 - val_loss: 0.0261 - val_mae: 0.1252\n",
      "Epoch 251/1000\n",
      "5/5 [==============================] - 1s 220ms/step - loss: 0.0251 - mae: 0.1225 - val_loss: 0.0327 - val_mae: 0.1394\n",
      "Epoch 252/1000\n",
      "5/5 [==============================] - ETA: 0s - loss: 0.0268 - mae: 0.1284"
     ]
    },
    {
     "name": "stderr",
     "output_type": "stream",
     "text": [
      "WARNING:absl:Found untraced functions such as lstm_cell_layer_call_fn, lstm_cell_layer_call_and_return_conditional_losses while saving (showing 2 of 2). These functions will not be directly callable after loading.\n"
     ]
    },
    {
     "name": "stdout",
     "output_type": "stream",
     "text": [
      "INFO:tensorflow:Assets written to: C:\\Users\\PARK\\Documents\\LAB\\RNN vs LSTM\\FInal Example\\wandb\\run-20221016_041024-3d3hm2b9\\files\\model-best\\assets\n"
     ]
    },
    {
     "name": "stderr",
     "output_type": "stream",
     "text": [
      "INFO:tensorflow:Assets written to: C:\\Users\\PARK\\Documents\\LAB\\RNN vs LSTM\\FInal Example\\wandb\\run-20221016_041024-3d3hm2b9\\files\\model-best\\assets\n",
      "\u001b[34m\u001b[1mwandb\u001b[0m: Adding directory to artifact (C:\\Users\\PARK\\Documents\\LAB\\RNN vs LSTM\\FInal Example\\wandb\\run-20221016_041024-3d3hm2b9\\files\\model-best)... Done. 0.4s\n"
     ]
    },
    {
     "name": "stdout",
     "output_type": "stream",
     "text": [
      "5/5 [==============================] - 5s 1s/step - loss: 0.0268 - mae: 0.1284 - val_loss: 0.0254 - val_mae: 0.1231\n",
      "Epoch 253/1000\n",
      "5/5 [==============================] - 1s 218ms/step - loss: 0.0241 - mae: 0.1214 - val_loss: 0.0263 - val_mae: 0.1303\n",
      "Epoch 254/1000\n",
      "5/5 [==============================] - ETA: 0s - loss: 0.0224 - mae: 0.1178"
     ]
    },
    {
     "name": "stderr",
     "output_type": "stream",
     "text": [
      "WARNING:absl:Found untraced functions such as lstm_cell_layer_call_fn, lstm_cell_layer_call_and_return_conditional_losses while saving (showing 2 of 2). These functions will not be directly callable after loading.\n"
     ]
    },
    {
     "name": "stdout",
     "output_type": "stream",
     "text": [
      "INFO:tensorflow:Assets written to: C:\\Users\\PARK\\Documents\\LAB\\RNN vs LSTM\\FInal Example\\wandb\\run-20221016_041024-3d3hm2b9\\files\\model-best\\assets\n"
     ]
    },
    {
     "name": "stderr",
     "output_type": "stream",
     "text": [
      "INFO:tensorflow:Assets written to: C:\\Users\\PARK\\Documents\\LAB\\RNN vs LSTM\\FInal Example\\wandb\\run-20221016_041024-3d3hm2b9\\files\\model-best\\assets\n",
      "\u001b[34m\u001b[1mwandb\u001b[0m: Adding directory to artifact (C:\\Users\\PARK\\Documents\\LAB\\RNN vs LSTM\\FInal Example\\wandb\\run-20221016_041024-3d3hm2b9\\files\\model-best)... Done. 0.4s\n"
     ]
    },
    {
     "name": "stdout",
     "output_type": "stream",
     "text": [
      "5/5 [==============================] - 5s 1s/step - loss: 0.0224 - mae: 0.1178 - val_loss: 0.0237 - val_mae: 0.1199\n",
      "Epoch 255/1000\n",
      "5/5 [==============================] - 1s 249ms/step - loss: 0.0226 - mae: 0.1170 - val_loss: 0.0290 - val_mae: 0.1414\n",
      "Epoch 256/1000\n",
      "5/5 [==============================] - 1s 214ms/step - loss: 0.0237 - mae: 0.1224 - val_loss: 0.0268 - val_mae: 0.1300\n",
      "Epoch 257/1000\n",
      "5/5 [==============================] - 1s 216ms/step - loss: 0.0236 - mae: 0.1209 - val_loss: 0.0313 - val_mae: 0.1386\n",
      "Epoch 258/1000\n",
      "5/5 [==============================] - 1s 217ms/step - loss: 0.0244 - mae: 0.1256 - val_loss: 0.0306 - val_mae: 0.1386\n",
      "Epoch 259/1000\n",
      "5/5 [==============================] - ETA: 0s - loss: 0.0229 - mae: 0.1194"
     ]
    },
    {
     "name": "stderr",
     "output_type": "stream",
     "text": [
      "WARNING:absl:Found untraced functions such as lstm_cell_layer_call_fn, lstm_cell_layer_call_and_return_conditional_losses while saving (showing 2 of 2). These functions will not be directly callable after loading.\n"
     ]
    },
    {
     "name": "stdout",
     "output_type": "stream",
     "text": [
      "INFO:tensorflow:Assets written to: C:\\Users\\PARK\\Documents\\LAB\\RNN vs LSTM\\FInal Example\\wandb\\run-20221016_041024-3d3hm2b9\\files\\model-best\\assets\n"
     ]
    },
    {
     "name": "stderr",
     "output_type": "stream",
     "text": [
      "INFO:tensorflow:Assets written to: C:\\Users\\PARK\\Documents\\LAB\\RNN vs LSTM\\FInal Example\\wandb\\run-20221016_041024-3d3hm2b9\\files\\model-best\\assets\n",
      "\u001b[34m\u001b[1mwandb\u001b[0m: Adding directory to artifact (C:\\Users\\PARK\\Documents\\LAB\\RNN vs LSTM\\FInal Example\\wandb\\run-20221016_041024-3d3hm2b9\\files\\model-best)... Done. 0.4s\n"
     ]
    },
    {
     "name": "stdout",
     "output_type": "stream",
     "text": [
      "5/5 [==============================] - 5s 1s/step - loss: 0.0229 - mae: 0.1194 - val_loss: 0.0213 - val_mae: 0.1142\n",
      "Epoch 260/1000\n",
      "5/5 [==============================] - 1s 218ms/step - loss: 0.0266 - mae: 0.1259 - val_loss: 0.0266 - val_mae: 0.1291\n",
      "Epoch 261/1000\n",
      "5/5 [==============================] - 1s 216ms/step - loss: 0.0244 - mae: 0.1225 - val_loss: 0.0269 - val_mae: 0.1321\n",
      "Epoch 262/1000\n",
      "5/5 [==============================] - 1s 216ms/step - loss: 0.0219 - mae: 0.1165 - val_loss: 0.0229 - val_mae: 0.1217\n",
      "Epoch 263/1000\n",
      "5/5 [==============================] - ETA: 0s - loss: 0.0186 - mae: 0.1084"
     ]
    },
    {
     "name": "stderr",
     "output_type": "stream",
     "text": [
      "WARNING:absl:Found untraced functions such as lstm_cell_layer_call_fn, lstm_cell_layer_call_and_return_conditional_losses while saving (showing 2 of 2). These functions will not be directly callable after loading.\n"
     ]
    },
    {
     "name": "stdout",
     "output_type": "stream",
     "text": [
      "INFO:tensorflow:Assets written to: C:\\Users\\PARK\\Documents\\LAB\\RNN vs LSTM\\FInal Example\\wandb\\run-20221016_041024-3d3hm2b9\\files\\model-best\\assets\n"
     ]
    },
    {
     "name": "stderr",
     "output_type": "stream",
     "text": [
      "INFO:tensorflow:Assets written to: C:\\Users\\PARK\\Documents\\LAB\\RNN vs LSTM\\FInal Example\\wandb\\run-20221016_041024-3d3hm2b9\\files\\model-best\\assets\n",
      "\u001b[34m\u001b[1mwandb\u001b[0m: Adding directory to artifact (C:\\Users\\PARK\\Documents\\LAB\\RNN vs LSTM\\FInal Example\\wandb\\run-20221016_041024-3d3hm2b9\\files\\model-best)... Done. 0.4s\n"
     ]
    },
    {
     "name": "stdout",
     "output_type": "stream",
     "text": [
      "5/5 [==============================] - 5s 1s/step - loss: 0.0186 - mae: 0.1084 - val_loss: 0.0205 - val_mae: 0.1139\n",
      "Epoch 264/1000\n",
      "4/5 [=======================>......] - ETA: 0s - loss: 0.0176 - mae: 0.1042"
     ]
    },
    {
     "name": "stderr",
     "output_type": "stream",
     "text": [
      "WARNING:absl:Found untraced functions such as lstm_cell_layer_call_fn, lstm_cell_layer_call_and_return_conditional_losses while saving (showing 2 of 2). These functions will not be directly callable after loading.\n"
     ]
    },
    {
     "name": "stdout",
     "output_type": "stream",
     "text": [
      "INFO:tensorflow:Assets written to: C:\\Users\\PARK\\Documents\\LAB\\RNN vs LSTM\\FInal Example\\wandb\\run-20221016_041024-3d3hm2b9\\files\\model-best\\assets\n"
     ]
    },
    {
     "name": "stderr",
     "output_type": "stream",
     "text": [
      "INFO:tensorflow:Assets written to: C:\\Users\\PARK\\Documents\\LAB\\RNN vs LSTM\\FInal Example\\wandb\\run-20221016_041024-3d3hm2b9\\files\\model-best\\assets\n",
      "\u001b[34m\u001b[1mwandb\u001b[0m: Adding directory to artifact (C:\\Users\\PARK\\Documents\\LAB\\RNN vs LSTM\\FInal Example\\wandb\\run-20221016_041024-3d3hm2b9\\files\\model-best)... Done. 0.4s\n"
     ]
    },
    {
     "name": "stdout",
     "output_type": "stream",
     "text": [
      "5/5 [==============================] - 5s 1s/step - loss: 0.0177 - mae: 0.1046 - val_loss: 0.0196 - val_mae: 0.1112\n",
      "Epoch 265/1000\n",
      "5/5 [==============================] - 1s 227ms/step - loss: 0.0164 - mae: 0.1021 - val_loss: 0.0234 - val_mae: 0.1228\n",
      "Epoch 266/1000\n",
      "5/5 [==============================] - 1s 217ms/step - loss: 0.0175 - mae: 0.1046 - val_loss: 0.0213 - val_mae: 0.1141\n",
      "Epoch 267/1000\n",
      "5/5 [==============================] - ETA: 0s - loss: 0.0173 - mae: 0.1049"
     ]
    },
    {
     "name": "stderr",
     "output_type": "stream",
     "text": [
      "WARNING:absl:Found untraced functions such as lstm_cell_layer_call_fn, lstm_cell_layer_call_and_return_conditional_losses while saving (showing 2 of 2). These functions will not be directly callable after loading.\n"
     ]
    },
    {
     "name": "stdout",
     "output_type": "stream",
     "text": [
      "INFO:tensorflow:Assets written to: C:\\Users\\PARK\\Documents\\LAB\\RNN vs LSTM\\FInal Example\\wandb\\run-20221016_041024-3d3hm2b9\\files\\model-best\\assets\n"
     ]
    },
    {
     "name": "stderr",
     "output_type": "stream",
     "text": [
      "INFO:tensorflow:Assets written to: C:\\Users\\PARK\\Documents\\LAB\\RNN vs LSTM\\FInal Example\\wandb\\run-20221016_041024-3d3hm2b9\\files\\model-best\\assets\n",
      "\u001b[34m\u001b[1mwandb\u001b[0m: Adding directory to artifact (C:\\Users\\PARK\\Documents\\LAB\\RNN vs LSTM\\FInal Example\\wandb\\run-20221016_041024-3d3hm2b9\\files\\model-best)... Done. 0.4s\n"
     ]
    },
    {
     "name": "stdout",
     "output_type": "stream",
     "text": [
      "5/5 [==============================] - 5s 1s/step - loss: 0.0173 - mae: 0.1049 - val_loss: 0.0180 - val_mae: 0.1063\n",
      "Epoch 268/1000\n",
      "4/5 [=======================>......] - ETA: 0s - loss: 0.0150 - mae: 0.0969"
     ]
    },
    {
     "name": "stderr",
     "output_type": "stream",
     "text": [
      "WARNING:absl:Found untraced functions such as lstm_cell_layer_call_fn, lstm_cell_layer_call_and_return_conditional_losses while saving (showing 2 of 2). These functions will not be directly callable after loading.\n"
     ]
    },
    {
     "name": "stdout",
     "output_type": "stream",
     "text": [
      "INFO:tensorflow:Assets written to: C:\\Users\\PARK\\Documents\\LAB\\RNN vs LSTM\\FInal Example\\wandb\\run-20221016_041024-3d3hm2b9\\files\\model-best\\assets\n"
     ]
    },
    {
     "name": "stderr",
     "output_type": "stream",
     "text": [
      "INFO:tensorflow:Assets written to: C:\\Users\\PARK\\Documents\\LAB\\RNN vs LSTM\\FInal Example\\wandb\\run-20221016_041024-3d3hm2b9\\files\\model-best\\assets\n",
      "\u001b[34m\u001b[1mwandb\u001b[0m: Adding directory to artifact (C:\\Users\\PARK\\Documents\\LAB\\RNN vs LSTM\\FInal Example\\wandb\\run-20221016_041024-3d3hm2b9\\files\\model-best)... Done. 0.4s\n"
     ]
    },
    {
     "name": "stdout",
     "output_type": "stream",
     "text": [
      "5/5 [==============================] - 6s 1s/step - loss: 0.0153 - mae: 0.0976 - val_loss: 0.0171 - val_mae: 0.1034\n",
      "Epoch 269/1000\n",
      "5/5 [==============================] - 1s 221ms/step - loss: 0.0236 - mae: 0.1194 - val_loss: 0.0286 - val_mae: 0.1283\n",
      "Epoch 270/1000\n",
      "5/5 [==============================] - 1s 215ms/step - loss: 0.0258 - mae: 0.1243 - val_loss: 0.0227 - val_mae: 0.1167\n",
      "Epoch 271/1000\n",
      "5/5 [==============================] - 1s 218ms/step - loss: 0.0241 - mae: 0.1198 - val_loss: 0.0766 - val_mae: 0.2143\n",
      "Epoch 272/1000\n",
      "5/5 [==============================] - 1s 215ms/step - loss: 0.0592 - mae: 0.1881 - val_loss: 0.0610 - val_mae: 0.1886\n",
      "Epoch 273/1000\n",
      "5/5 [==============================] - 1s 213ms/step - loss: 0.0542 - mae: 0.1774 - val_loss: 0.0625 - val_mae: 0.1976\n",
      "Epoch 274/1000\n",
      "5/5 [==============================] - 1s 217ms/step - loss: 0.0568 - mae: 0.1845 - val_loss: 0.0531 - val_mae: 0.1761\n",
      "Epoch 275/1000\n",
      "5/5 [==============================] - 1s 215ms/step - loss: 0.0541 - mae: 0.1798 - val_loss: 0.0548 - val_mae: 0.1795\n",
      "Epoch 276/1000\n",
      "5/5 [==============================] - 1s 214ms/step - loss: 0.0486 - mae: 0.1684 - val_loss: 0.0550 - val_mae: 0.1851\n",
      "Epoch 277/1000\n",
      "5/5 [==============================] - 1s 217ms/step - loss: 0.0518 - mae: 0.1748 - val_loss: 0.0525 - val_mae: 0.1750\n",
      "Epoch 278/1000\n",
      "5/5 [==============================] - 1s 216ms/step - loss: 0.0492 - mae: 0.1697 - val_loss: 0.0663 - val_mae: 0.1907\n",
      "Epoch 279/1000\n",
      "5/5 [==============================] - 1s 217ms/step - loss: 0.0562 - mae: 0.1841 - val_loss: 0.0621 - val_mae: 0.1992\n",
      "Epoch 280/1000\n",
      "5/5 [==============================] - 1s 214ms/step - loss: 0.0549 - mae: 0.1833 - val_loss: 0.0511 - val_mae: 0.1734\n",
      "Epoch 281/1000\n",
      "5/5 [==============================] - 1s 218ms/step - loss: 0.0475 - mae: 0.1666 - val_loss: 0.0612 - val_mae: 0.1888\n",
      "Epoch 282/1000\n",
      "5/5 [==============================] - 1s 215ms/step - loss: 0.0494 - mae: 0.1715 - val_loss: 0.0507 - val_mae: 0.1712\n",
      "Epoch 283/1000\n",
      "5/5 [==============================] - 1s 214ms/step - loss: 0.0476 - mae: 0.1670 - val_loss: 0.0510 - val_mae: 0.1765\n",
      "Epoch 284/1000\n",
      "5/5 [==============================] - 1s 212ms/step - loss: 0.0456 - mae: 0.1634 - val_loss: 0.0524 - val_mae: 0.1732\n",
      "Epoch 285/1000\n",
      "5/5 [==============================] - 1s 216ms/step - loss: 0.0486 - mae: 0.1689 - val_loss: 0.0526 - val_mae: 0.1729\n",
      "Epoch 286/1000\n",
      "5/5 [==============================] - 1s 213ms/step - loss: 0.0474 - mae: 0.1672 - val_loss: 0.0522 - val_mae: 0.1805\n",
      "Epoch 287/1000\n",
      "5/5 [==============================] - 1s 217ms/step - loss: 0.0466 - mae: 0.1649 - val_loss: 0.0491 - val_mae: 0.1704\n",
      "Epoch 288/1000\n",
      "5/5 [==============================] - 1s 215ms/step - loss: 0.0453 - mae: 0.1640 - val_loss: 0.0555 - val_mae: 0.1760\n",
      "Epoch 289/1000\n",
      "5/5 [==============================] - 1s 216ms/step - loss: 0.0429 - mae: 0.1581 - val_loss: 0.0563 - val_mae: 0.1780\n",
      "Epoch 290/1000\n",
      "5/5 [==============================] - 1s 217ms/step - loss: 0.0442 - mae: 0.1593 - val_loss: 0.0473 - val_mae: 0.1660\n",
      "Epoch 291/1000\n",
      "5/5 [==============================] - 1s 218ms/step - loss: 0.0456 - mae: 0.1634 - val_loss: 0.0507 - val_mae: 0.1760\n",
      "Epoch 292/1000\n",
      "5/5 [==============================] - 1s 214ms/step - loss: 0.0457 - mae: 0.1630 - val_loss: 0.0493 - val_mae: 0.1701\n",
      "Epoch 293/1000\n",
      "5/5 [==============================] - 1s 217ms/step - loss: 0.0425 - mae: 0.1571 - val_loss: 0.0472 - val_mae: 0.1636\n",
      "Epoch 294/1000\n",
      "5/5 [==============================] - 1s 217ms/step - loss: 0.0404 - mae: 0.1519 - val_loss: 0.0472 - val_mae: 0.1644\n",
      "Epoch 295/1000\n",
      "5/5 [==============================] - 1s 216ms/step - loss: 0.0385 - mae: 0.1470 - val_loss: 0.0451 - val_mae: 0.1586\n",
      "Epoch 296/1000\n",
      "5/5 [==============================] - 1s 216ms/step - loss: 0.0377 - mae: 0.1466 - val_loss: 0.0463 - val_mae: 0.1674\n",
      "Epoch 297/1000\n",
      "5/5 [==============================] - 1s 214ms/step - loss: 0.0378 - mae: 0.1491 - val_loss: 0.0417 - val_mae: 0.1545\n",
      "Epoch 298/1000\n",
      "5/5 [==============================] - 1s 213ms/step - loss: 0.0377 - mae: 0.1491 - val_loss: 0.0487 - val_mae: 0.1653\n",
      "Epoch 299/1000\n",
      "5/5 [==============================] - 1s 214ms/step - loss: 0.0360 - mae: 0.1440 - val_loss: 0.0412 - val_mae: 0.1522\n",
      "Epoch 300/1000\n",
      "5/5 [==============================] - 1s 214ms/step - loss: 0.0337 - mae: 0.1377 - val_loss: 0.0427 - val_mae: 0.1616\n",
      "Epoch 301/1000\n",
      "5/5 [==============================] - 1s 215ms/step - loss: 0.0347 - mae: 0.1437 - val_loss: 0.0389 - val_mae: 0.1499\n",
      "Epoch 302/1000\n",
      "5/5 [==============================] - 1s 213ms/step - loss: 0.0331 - mae: 0.1380 - val_loss: 0.0383 - val_mae: 0.1511\n",
      "Epoch 303/1000\n",
      "5/5 [==============================] - 1s 216ms/step - loss: 0.0322 - mae: 0.1372 - val_loss: 0.0372 - val_mae: 0.1463\n",
      "Epoch 304/1000\n",
      "5/5 [==============================] - 1s 215ms/step - loss: 0.0295 - mae: 0.1304 - val_loss: 0.0344 - val_mae: 0.1430\n",
      "Epoch 305/1000\n",
      "5/5 [==============================] - 1s 216ms/step - loss: 0.0299 - mae: 0.1316 - val_loss: 0.0359 - val_mae: 0.1461\n",
      "Epoch 306/1000\n",
      "5/5 [==============================] - 1s 216ms/step - loss: 0.0295 - mae: 0.1313 - val_loss: 0.0344 - val_mae: 0.1453\n",
      "Epoch 307/1000\n",
      "5/5 [==============================] - 1s 213ms/step - loss: 0.0286 - mae: 0.1309 - val_loss: 0.0365 - val_mae: 0.1493\n",
      "Epoch 308/1000\n",
      "5/5 [==============================] - 1s 216ms/step - loss: 0.0285 - mae: 0.1306 - val_loss: 0.0328 - val_mae: 0.1401\n",
      "Epoch 309/1000\n",
      "5/5 [==============================] - 1s 216ms/step - loss: 0.0292 - mae: 0.1330 - val_loss: 0.0305 - val_mae: 0.1373\n",
      "Epoch 310/1000\n",
      "5/5 [==============================] - 1s 214ms/step - loss: 0.0252 - mae: 0.1226 - val_loss: 0.0295 - val_mae: 0.1327\n",
      "Epoch 311/1000\n",
      "5/5 [==============================] - 1s 216ms/step - loss: 0.0247 - mae: 0.1214 - val_loss: 0.0296 - val_mae: 0.1339\n",
      "Epoch 312/1000\n",
      "5/5 [==============================] - 1s 215ms/step - loss: 0.0236 - mae: 0.1190 - val_loss: 0.0274 - val_mae: 0.1301\n",
      "Epoch 313/1000\n",
      "5/5 [==============================] - 1s 213ms/step - loss: 0.0236 - mae: 0.1194 - val_loss: 0.0247 - val_mae: 0.1233\n",
      "Epoch 314/1000\n",
      "5/5 [==============================] - 1s 215ms/step - loss: 0.0217 - mae: 0.1142 - val_loss: 0.0276 - val_mae: 0.1275\n",
      "Epoch 315/1000\n",
      "5/5 [==============================] - 1s 216ms/step - loss: 0.0230 - mae: 0.1189 - val_loss: 0.0243 - val_mae: 0.1236\n",
      "Epoch 316/1000\n",
      "5/5 [==============================] - 1s 215ms/step - loss: 0.0213 - mae: 0.1147 - val_loss: 0.0240 - val_mae: 0.1225\n",
      "Epoch 317/1000\n",
      "5/5 [==============================] - 1s 215ms/step - loss: 0.0208 - mae: 0.1141 - val_loss: 0.0204 - val_mae: 0.1145\n",
      "Epoch 318/1000\n",
      "5/5 [==============================] - 1s 218ms/step - loss: 0.0177 - mae: 0.1052 - val_loss: 0.0200 - val_mae: 0.1128\n",
      "Epoch 319/1000\n",
      "5/5 [==============================] - 1s 214ms/step - loss: 0.0174 - mae: 0.1050 - val_loss: 0.0209 - val_mae: 0.1164\n",
      "Epoch 320/1000\n",
      "5/5 [==============================] - 1s 215ms/step - loss: 0.0167 - mae: 0.1024 - val_loss: 0.0200 - val_mae: 0.1110\n",
      "Epoch 321/1000\n",
      "5/5 [==============================] - 1s 215ms/step - loss: 0.0161 - mae: 0.1011 - val_loss: 0.0192 - val_mae: 0.1113\n",
      "Epoch 322/1000\n",
      "5/5 [==============================] - 1s 215ms/step - loss: 0.0156 - mae: 0.1000 - val_loss: 0.0175 - val_mae: 0.1058\n",
      "Epoch 323/1000\n",
      "5/5 [==============================] - ETA: 0s - loss: 0.0148 - mae: 0.0980"
     ]
    },
    {
     "name": "stderr",
     "output_type": "stream",
     "text": [
      "WARNING:absl:Found untraced functions such as lstm_cell_layer_call_fn, lstm_cell_layer_call_and_return_conditional_losses while saving (showing 2 of 2). These functions will not be directly callable after loading.\n"
     ]
    },
    {
     "name": "stdout",
     "output_type": "stream",
     "text": [
      "INFO:tensorflow:Assets written to: C:\\Users\\PARK\\Documents\\LAB\\RNN vs LSTM\\FInal Example\\wandb\\run-20221016_041024-3d3hm2b9\\files\\model-best\\assets\n"
     ]
    },
    {
     "name": "stderr",
     "output_type": "stream",
     "text": [
      "INFO:tensorflow:Assets written to: C:\\Users\\PARK\\Documents\\LAB\\RNN vs LSTM\\FInal Example\\wandb\\run-20221016_041024-3d3hm2b9\\files\\model-best\\assets\n",
      "\u001b[34m\u001b[1mwandb\u001b[0m: Adding directory to artifact (C:\\Users\\PARK\\Documents\\LAB\\RNN vs LSTM\\FInal Example\\wandb\\run-20221016_041024-3d3hm2b9\\files\\model-best)... Done. 0.4s\n"
     ]
    },
    {
     "name": "stdout",
     "output_type": "stream",
     "text": [
      "5/5 [==============================] - 5s 1s/step - loss: 0.0148 - mae: 0.0980 - val_loss: 0.0167 - val_mae: 0.1041\n",
      "Epoch 324/1000\n",
      "5/5 [==============================] - 1s 223ms/step - loss: 0.0139 - mae: 0.0943 - val_loss: 0.0172 - val_mae: 0.1030\n",
      "Epoch 325/1000\n",
      "5/5 [==============================] - ETA: 0s - loss: 0.0134 - mae: 0.0923"
     ]
    },
    {
     "name": "stderr",
     "output_type": "stream",
     "text": [
      "WARNING:absl:Found untraced functions such as lstm_cell_layer_call_fn, lstm_cell_layer_call_and_return_conditional_losses while saving (showing 2 of 2). These functions will not be directly callable after loading.\n"
     ]
    },
    {
     "name": "stdout",
     "output_type": "stream",
     "text": [
      "INFO:tensorflow:Assets written to: C:\\Users\\PARK\\Documents\\LAB\\RNN vs LSTM\\FInal Example\\wandb\\run-20221016_041024-3d3hm2b9\\files\\model-best\\assets\n"
     ]
    },
    {
     "name": "stderr",
     "output_type": "stream",
     "text": [
      "INFO:tensorflow:Assets written to: C:\\Users\\PARK\\Documents\\LAB\\RNN vs LSTM\\FInal Example\\wandb\\run-20221016_041024-3d3hm2b9\\files\\model-best\\assets\n",
      "\u001b[34m\u001b[1mwandb\u001b[0m: Adding directory to artifact (C:\\Users\\PARK\\Documents\\LAB\\RNN vs LSTM\\FInal Example\\wandb\\run-20221016_041024-3d3hm2b9\\files\\model-best)... Done. 0.4s\n"
     ]
    },
    {
     "name": "stdout",
     "output_type": "stream",
     "text": [
      "5/5 [==============================] - 5s 1s/step - loss: 0.0134 - mae: 0.0923 - val_loss: 0.0162 - val_mae: 0.1011\n",
      "Epoch 326/1000\n",
      "4/5 [=======================>......] - ETA: 0s - loss: 0.0130 - mae: 0.0915"
     ]
    },
    {
     "name": "stderr",
     "output_type": "stream",
     "text": [
      "WARNING:absl:Found untraced functions such as lstm_cell_layer_call_fn, lstm_cell_layer_call_and_return_conditional_losses while saving (showing 2 of 2). These functions will not be directly callable after loading.\n"
     ]
    },
    {
     "name": "stdout",
     "output_type": "stream",
     "text": [
      "INFO:tensorflow:Assets written to: C:\\Users\\PARK\\Documents\\LAB\\RNN vs LSTM\\FInal Example\\wandb\\run-20221016_041024-3d3hm2b9\\files\\model-best\\assets\n"
     ]
    },
    {
     "name": "stderr",
     "output_type": "stream",
     "text": [
      "INFO:tensorflow:Assets written to: C:\\Users\\PARK\\Documents\\LAB\\RNN vs LSTM\\FInal Example\\wandb\\run-20221016_041024-3d3hm2b9\\files\\model-best\\assets\n",
      "\u001b[34m\u001b[1mwandb\u001b[0m: Adding directory to artifact (C:\\Users\\PARK\\Documents\\LAB\\RNN vs LSTM\\FInal Example\\wandb\\run-20221016_041024-3d3hm2b9\\files\\model-best)... Done. 0.4s\n"
     ]
    },
    {
     "name": "stdout",
     "output_type": "stream",
     "text": [
      "5/5 [==============================] - 5s 1s/step - loss: 0.0132 - mae: 0.0922 - val_loss: 0.0146 - val_mae: 0.0964\n",
      "Epoch 327/1000\n",
      "5/5 [==============================] - ETA: 0s - loss: 0.0122 - mae: 0.0888"
     ]
    },
    {
     "name": "stderr",
     "output_type": "stream",
     "text": [
      "WARNING:absl:Found untraced functions such as lstm_cell_layer_call_fn, lstm_cell_layer_call_and_return_conditional_losses while saving (showing 2 of 2). These functions will not be directly callable after loading.\n"
     ]
    },
    {
     "name": "stdout",
     "output_type": "stream",
     "text": [
      "INFO:tensorflow:Assets written to: C:\\Users\\PARK\\Documents\\LAB\\RNN vs LSTM\\FInal Example\\wandb\\run-20221016_041024-3d3hm2b9\\files\\model-best\\assets\n"
     ]
    },
    {
     "name": "stderr",
     "output_type": "stream",
     "text": [
      "INFO:tensorflow:Assets written to: C:\\Users\\PARK\\Documents\\LAB\\RNN vs LSTM\\FInal Example\\wandb\\run-20221016_041024-3d3hm2b9\\files\\model-best\\assets\n",
      "\u001b[34m\u001b[1mwandb\u001b[0m: Adding directory to artifact (C:\\Users\\PARK\\Documents\\LAB\\RNN vs LSTM\\FInal Example\\wandb\\run-20221016_041024-3d3hm2b9\\files\\model-best)... Done. 0.4s\n"
     ]
    },
    {
     "name": "stdout",
     "output_type": "stream",
     "text": [
      "5/5 [==============================] - 5s 1s/step - loss: 0.0122 - mae: 0.0888 - val_loss: 0.0142 - val_mae: 0.0941\n",
      "Epoch 328/1000\n",
      "4/5 [=======================>......] - ETA: 0s - loss: 0.0119 - mae: 0.0868"
     ]
    },
    {
     "name": "stderr",
     "output_type": "stream",
     "text": [
      "WARNING:absl:Found untraced functions such as lstm_cell_layer_call_fn, lstm_cell_layer_call_and_return_conditional_losses while saving (showing 2 of 2). These functions will not be directly callable after loading.\n"
     ]
    },
    {
     "name": "stdout",
     "output_type": "stream",
     "text": [
      "INFO:tensorflow:Assets written to: C:\\Users\\PARK\\Documents\\LAB\\RNN vs LSTM\\FInal Example\\wandb\\run-20221016_041024-3d3hm2b9\\files\\model-best\\assets\n"
     ]
    },
    {
     "name": "stderr",
     "output_type": "stream",
     "text": [
      "INFO:tensorflow:Assets written to: C:\\Users\\PARK\\Documents\\LAB\\RNN vs LSTM\\FInal Example\\wandb\\run-20221016_041024-3d3hm2b9\\files\\model-best\\assets\n",
      "\u001b[34m\u001b[1mwandb\u001b[0m: Adding directory to artifact (C:\\Users\\PARK\\Documents\\LAB\\RNN vs LSTM\\FInal Example\\wandb\\run-20221016_041024-3d3hm2b9\\files\\model-best)... Done. 0.4s\n"
     ]
    },
    {
     "name": "stdout",
     "output_type": "stream",
     "text": [
      "5/5 [==============================] - 5s 1s/step - loss: 0.0118 - mae: 0.0866 - val_loss: 0.0141 - val_mae: 0.0934\n",
      "Epoch 329/1000\n",
      "4/5 [=======================>......] - ETA: 0s - loss: 0.0111 - mae: 0.0833"
     ]
    },
    {
     "name": "stderr",
     "output_type": "stream",
     "text": [
      "WARNING:absl:Found untraced functions such as lstm_cell_layer_call_fn, lstm_cell_layer_call_and_return_conditional_losses while saving (showing 2 of 2). These functions will not be directly callable after loading.\n"
     ]
    },
    {
     "name": "stdout",
     "output_type": "stream",
     "text": [
      "INFO:tensorflow:Assets written to: C:\\Users\\PARK\\Documents\\LAB\\RNN vs LSTM\\FInal Example\\wandb\\run-20221016_041024-3d3hm2b9\\files\\model-best\\assets\n"
     ]
    },
    {
     "name": "stderr",
     "output_type": "stream",
     "text": [
      "INFO:tensorflow:Assets written to: C:\\Users\\PARK\\Documents\\LAB\\RNN vs LSTM\\FInal Example\\wandb\\run-20221016_041024-3d3hm2b9\\files\\model-best\\assets\n",
      "\u001b[34m\u001b[1mwandb\u001b[0m: Adding directory to artifact (C:\\Users\\PARK\\Documents\\LAB\\RNN vs LSTM\\FInal Example\\wandb\\run-20221016_041024-3d3hm2b9\\files\\model-best)... Done. 0.4s\n"
     ]
    },
    {
     "name": "stdout",
     "output_type": "stream",
     "text": [
      "5/5 [==============================] - 6s 1s/step - loss: 0.0111 - mae: 0.0836 - val_loss: 0.0133 - val_mae: 0.0910\n",
      "Epoch 330/1000\n",
      "5/5 [==============================] - 1s 218ms/step - loss: 0.0118 - mae: 0.0858 - val_loss: 0.0154 - val_mae: 0.0977\n",
      "Epoch 331/1000\n",
      "5/5 [==============================] - 1s 213ms/step - loss: 0.0123 - mae: 0.0881 - val_loss: 0.0154 - val_mae: 0.0967\n",
      "Epoch 332/1000\n",
      "5/5 [==============================] - ETA: 0s - loss: 0.0118 - mae: 0.0858"
     ]
    },
    {
     "name": "stderr",
     "output_type": "stream",
     "text": [
      "WARNING:absl:Found untraced functions such as lstm_cell_layer_call_fn, lstm_cell_layer_call_and_return_conditional_losses while saving (showing 2 of 2). These functions will not be directly callable after loading.\n"
     ]
    },
    {
     "name": "stdout",
     "output_type": "stream",
     "text": [
      "INFO:tensorflow:Assets written to: C:\\Users\\PARK\\Documents\\LAB\\RNN vs LSTM\\FInal Example\\wandb\\run-20221016_041024-3d3hm2b9\\files\\model-best\\assets\n"
     ]
    },
    {
     "name": "stderr",
     "output_type": "stream",
     "text": [
      "INFO:tensorflow:Assets written to: C:\\Users\\PARK\\Documents\\LAB\\RNN vs LSTM\\FInal Example\\wandb\\run-20221016_041024-3d3hm2b9\\files\\model-best\\assets\n",
      "\u001b[34m\u001b[1mwandb\u001b[0m: Adding directory to artifact (C:\\Users\\PARK\\Documents\\LAB\\RNN vs LSTM\\FInal Example\\wandb\\run-20221016_041024-3d3hm2b9\\files\\model-best)... Done. 0.4s\n"
     ]
    },
    {
     "name": "stdout",
     "output_type": "stream",
     "text": [
      "5/5 [==============================] - 5s 1s/step - loss: 0.0118 - mae: 0.0858 - val_loss: 0.0116 - val_mae: 0.0836\n",
      "Epoch 333/1000\n",
      "5/5 [==============================] - 1s 215ms/step - loss: 0.0102 - mae: 0.0801 - val_loss: 0.0141 - val_mae: 0.0947\n",
      "Epoch 334/1000\n",
      "5/5 [==============================] - 1s 215ms/step - loss: 0.0108 - mae: 0.0822 - val_loss: 0.0134 - val_mae: 0.0904\n",
      "Epoch 335/1000\n",
      "5/5 [==============================] - ETA: 0s - loss: 0.0099 - mae: 0.0783"
     ]
    },
    {
     "name": "stderr",
     "output_type": "stream",
     "text": [
      "WARNING:absl:Found untraced functions such as lstm_cell_layer_call_fn, lstm_cell_layer_call_and_return_conditional_losses while saving (showing 2 of 2). These functions will not be directly callable after loading.\n"
     ]
    },
    {
     "name": "stdout",
     "output_type": "stream",
     "text": [
      "INFO:tensorflow:Assets written to: C:\\Users\\PARK\\Documents\\LAB\\RNN vs LSTM\\FInal Example\\wandb\\run-20221016_041024-3d3hm2b9\\files\\model-best\\assets\n"
     ]
    },
    {
     "name": "stderr",
     "output_type": "stream",
     "text": [
      "INFO:tensorflow:Assets written to: C:\\Users\\PARK\\Documents\\LAB\\RNN vs LSTM\\FInal Example\\wandb\\run-20221016_041024-3d3hm2b9\\files\\model-best\\assets\n",
      "\u001b[34m\u001b[1mwandb\u001b[0m: Adding directory to artifact (C:\\Users\\PARK\\Documents\\LAB\\RNN vs LSTM\\FInal Example\\wandb\\run-20221016_041024-3d3hm2b9\\files\\model-best)... Done. 0.4s\n"
     ]
    },
    {
     "name": "stdout",
     "output_type": "stream",
     "text": [
      "5/5 [==============================] - 5s 1s/step - loss: 0.0099 - mae: 0.0783 - val_loss: 0.0105 - val_mae: 0.0799\n",
      "Epoch 336/1000\n",
      "5/5 [==============================] - 1s 247ms/step - loss: 0.0082 - mae: 0.0719 - val_loss: 0.0111 - val_mae: 0.0832\n",
      "Epoch 337/1000\n",
      "5/5 [==============================] - ETA: 0s - loss: 0.0084 - mae: 0.0726"
     ]
    },
    {
     "name": "stderr",
     "output_type": "stream",
     "text": [
      "WARNING:absl:Found untraced functions such as lstm_cell_layer_call_fn, lstm_cell_layer_call_and_return_conditional_losses while saving (showing 2 of 2). These functions will not be directly callable after loading.\n"
     ]
    },
    {
     "name": "stdout",
     "output_type": "stream",
     "text": [
      "INFO:tensorflow:Assets written to: C:\\Users\\PARK\\Documents\\LAB\\RNN vs LSTM\\FInal Example\\wandb\\run-20221016_041024-3d3hm2b9\\files\\model-best\\assets\n"
     ]
    },
    {
     "name": "stderr",
     "output_type": "stream",
     "text": [
      "INFO:tensorflow:Assets written to: C:\\Users\\PARK\\Documents\\LAB\\RNN vs LSTM\\FInal Example\\wandb\\run-20221016_041024-3d3hm2b9\\files\\model-best\\assets\n",
      "\u001b[34m\u001b[1mwandb\u001b[0m: Adding directory to artifact (C:\\Users\\PARK\\Documents\\LAB\\RNN vs LSTM\\FInal Example\\wandb\\run-20221016_041024-3d3hm2b9\\files\\model-best)... Done. 0.4s\n"
     ]
    },
    {
     "name": "stdout",
     "output_type": "stream",
     "text": [
      "5/5 [==============================] - 5s 1s/step - loss: 0.0084 - mae: 0.0726 - val_loss: 0.0100 - val_mae: 0.0776\n",
      "Epoch 338/1000\n",
      "5/5 [==============================] - 1s 220ms/step - loss: 0.0087 - mae: 0.0741 - val_loss: 0.0137 - val_mae: 0.0938\n",
      "Epoch 339/1000\n",
      "5/5 [==============================] - 1s 218ms/step - loss: 0.0086 - mae: 0.0734 - val_loss: 0.0114 - val_mae: 0.0849\n",
      "Epoch 340/1000\n",
      "5/5 [==============================] - ETA: 0s - loss: 0.0076 - mae: 0.0698"
     ]
    },
    {
     "name": "stderr",
     "output_type": "stream",
     "text": [
      "WARNING:absl:Found untraced functions such as lstm_cell_layer_call_fn, lstm_cell_layer_call_and_return_conditional_losses while saving (showing 2 of 2). These functions will not be directly callable after loading.\n"
     ]
    },
    {
     "name": "stdout",
     "output_type": "stream",
     "text": [
      "INFO:tensorflow:Assets written to: C:\\Users\\PARK\\Documents\\LAB\\RNN vs LSTM\\FInal Example\\wandb\\run-20221016_041024-3d3hm2b9\\files\\model-best\\assets\n"
     ]
    },
    {
     "name": "stderr",
     "output_type": "stream",
     "text": [
      "INFO:tensorflow:Assets written to: C:\\Users\\PARK\\Documents\\LAB\\RNN vs LSTM\\FInal Example\\wandb\\run-20221016_041024-3d3hm2b9\\files\\model-best\\assets\n",
      "\u001b[34m\u001b[1mwandb\u001b[0m: Adding directory to artifact (C:\\Users\\PARK\\Documents\\LAB\\RNN vs LSTM\\FInal Example\\wandb\\run-20221016_041024-3d3hm2b9\\files\\model-best)... Done. 0.4s\n"
     ]
    },
    {
     "name": "stdout",
     "output_type": "stream",
     "text": [
      "5/5 [==============================] - 5s 1s/step - loss: 0.0076 - mae: 0.0698 - val_loss: 0.0087 - val_mae: 0.0730\n",
      "Epoch 341/1000\n",
      "5/5 [==============================] - 1s 217ms/step - loss: 0.0070 - mae: 0.0661 - val_loss: 0.0091 - val_mae: 0.0752\n",
      "Epoch 342/1000\n",
      "5/5 [==============================] - ETA: 0s - loss: 0.0067 - mae: 0.0649"
     ]
    },
    {
     "name": "stderr",
     "output_type": "stream",
     "text": [
      "WARNING:absl:Found untraced functions such as lstm_cell_layer_call_fn, lstm_cell_layer_call_and_return_conditional_losses while saving (showing 2 of 2). These functions will not be directly callable after loading.\n"
     ]
    },
    {
     "name": "stdout",
     "output_type": "stream",
     "text": [
      "INFO:tensorflow:Assets written to: C:\\Users\\PARK\\Documents\\LAB\\RNN vs LSTM\\FInal Example\\wandb\\run-20221016_041024-3d3hm2b9\\files\\model-best\\assets\n"
     ]
    },
    {
     "name": "stderr",
     "output_type": "stream",
     "text": [
      "INFO:tensorflow:Assets written to: C:\\Users\\PARK\\Documents\\LAB\\RNN vs LSTM\\FInal Example\\wandb\\run-20221016_041024-3d3hm2b9\\files\\model-best\\assets\n",
      "\u001b[34m\u001b[1mwandb\u001b[0m: Adding directory to artifact (C:\\Users\\PARK\\Documents\\LAB\\RNN vs LSTM\\FInal Example\\wandb\\run-20221016_041024-3d3hm2b9\\files\\model-best)... Done. 0.4s\n"
     ]
    },
    {
     "name": "stdout",
     "output_type": "stream",
     "text": [
      "5/5 [==============================] - 5s 1s/step - loss: 0.0067 - mae: 0.0649 - val_loss: 0.0082 - val_mae: 0.0707\n",
      "Epoch 343/1000\n",
      "5/5 [==============================] - 1s 235ms/step - loss: 0.0063 - mae: 0.0630 - val_loss: 0.0090 - val_mae: 0.0746\n",
      "Epoch 344/1000\n",
      "5/5 [==============================] - ETA: 0s - loss: 0.0070 - mae: 0.0658"
     ]
    },
    {
     "name": "stderr",
     "output_type": "stream",
     "text": [
      "WARNING:absl:Found untraced functions such as lstm_cell_layer_call_fn, lstm_cell_layer_call_and_return_conditional_losses while saving (showing 2 of 2). These functions will not be directly callable after loading.\n"
     ]
    },
    {
     "name": "stdout",
     "output_type": "stream",
     "text": [
      "INFO:tensorflow:Assets written to: C:\\Users\\PARK\\Documents\\LAB\\RNN vs LSTM\\FInal Example\\wandb\\run-20221016_041024-3d3hm2b9\\files\\model-best\\assets\n"
     ]
    },
    {
     "name": "stderr",
     "output_type": "stream",
     "text": [
      "INFO:tensorflow:Assets written to: C:\\Users\\PARK\\Documents\\LAB\\RNN vs LSTM\\FInal Example\\wandb\\run-20221016_041024-3d3hm2b9\\files\\model-best\\assets\n",
      "\u001b[34m\u001b[1mwandb\u001b[0m: Adding directory to artifact (C:\\Users\\PARK\\Documents\\LAB\\RNN vs LSTM\\FInal Example\\wandb\\run-20221016_041024-3d3hm2b9\\files\\model-best)... Done. 0.4s\n"
     ]
    },
    {
     "name": "stdout",
     "output_type": "stream",
     "text": [
      "5/5 [==============================] - 5s 1s/step - loss: 0.0070 - mae: 0.0658 - val_loss: 0.0079 - val_mae: 0.0697\n",
      "Epoch 345/1000\n",
      "5/5 [==============================] - 1s 228ms/step - loss: 0.0064 - mae: 0.0635 - val_loss: 0.0083 - val_mae: 0.0719\n",
      "Epoch 346/1000\n",
      "5/5 [==============================] - 1s 215ms/step - loss: 0.0060 - mae: 0.0615 - val_loss: 0.0082 - val_mae: 0.0707\n",
      "Epoch 347/1000\n",
      "5/5 [==============================] - 1s 217ms/step - loss: 0.0059 - mae: 0.0608 - val_loss: 0.0112 - val_mae: 0.0832\n",
      "Epoch 348/1000\n",
      "5/5 [==============================] - 1s 218ms/step - loss: 0.0074 - mae: 0.0686 - val_loss: 0.0084 - val_mae: 0.0731\n",
      "Epoch 349/1000\n",
      "5/5 [==============================] - ETA: 0s - loss: 0.0057 - mae: 0.0601"
     ]
    },
    {
     "name": "stderr",
     "output_type": "stream",
     "text": [
      "WARNING:absl:Found untraced functions such as lstm_cell_layer_call_fn, lstm_cell_layer_call_and_return_conditional_losses while saving (showing 2 of 2). These functions will not be directly callable after loading.\n"
     ]
    },
    {
     "name": "stdout",
     "output_type": "stream",
     "text": [
      "INFO:tensorflow:Assets written to: C:\\Users\\PARK\\Documents\\LAB\\RNN vs LSTM\\FInal Example\\wandb\\run-20221016_041024-3d3hm2b9\\files\\model-best\\assets\n"
     ]
    },
    {
     "name": "stderr",
     "output_type": "stream",
     "text": [
      "INFO:tensorflow:Assets written to: C:\\Users\\PARK\\Documents\\LAB\\RNN vs LSTM\\FInal Example\\wandb\\run-20221016_041024-3d3hm2b9\\files\\model-best\\assets\n",
      "\u001b[34m\u001b[1mwandb\u001b[0m: Adding directory to artifact (C:\\Users\\PARK\\Documents\\LAB\\RNN vs LSTM\\FInal Example\\wandb\\run-20221016_041024-3d3hm2b9\\files\\model-best)... Done. 0.4s\n"
     ]
    },
    {
     "name": "stdout",
     "output_type": "stream",
     "text": [
      "5/5 [==============================] - 5s 1s/step - loss: 0.0057 - mae: 0.0601 - val_loss: 0.0078 - val_mae: 0.0695\n",
      "Epoch 350/1000\n",
      "5/5 [==============================] - 1s 241ms/step - loss: 0.0055 - mae: 0.0588 - val_loss: 0.0079 - val_mae: 0.0709\n",
      "Epoch 351/1000\n",
      "5/5 [==============================] - 1s 214ms/step - loss: 0.0057 - mae: 0.0599 - val_loss: 0.0078 - val_mae: 0.0698\n",
      "Epoch 352/1000\n",
      "5/5 [==============================] - ETA: 0s - loss: 0.0058 - mae: 0.0603"
     ]
    },
    {
     "name": "stderr",
     "output_type": "stream",
     "text": [
      "WARNING:absl:Found untraced functions such as lstm_cell_layer_call_fn, lstm_cell_layer_call_and_return_conditional_losses while saving (showing 2 of 2). These functions will not be directly callable after loading.\n"
     ]
    },
    {
     "name": "stdout",
     "output_type": "stream",
     "text": [
      "INFO:tensorflow:Assets written to: C:\\Users\\PARK\\Documents\\LAB\\RNN vs LSTM\\FInal Example\\wandb\\run-20221016_041024-3d3hm2b9\\files\\model-best\\assets\n"
     ]
    },
    {
     "name": "stderr",
     "output_type": "stream",
     "text": [
      "INFO:tensorflow:Assets written to: C:\\Users\\PARK\\Documents\\LAB\\RNN vs LSTM\\FInal Example\\wandb\\run-20221016_041024-3d3hm2b9\\files\\model-best\\assets\n",
      "\u001b[34m\u001b[1mwandb\u001b[0m: Adding directory to artifact (C:\\Users\\PARK\\Documents\\LAB\\RNN vs LSTM\\FInal Example\\wandb\\run-20221016_041024-3d3hm2b9\\files\\model-best)... Done. 0.4s\n"
     ]
    },
    {
     "name": "stdout",
     "output_type": "stream",
     "text": [
      "5/5 [==============================] - 5s 1s/step - loss: 0.0058 - mae: 0.0603 - val_loss: 0.0075 - val_mae: 0.0686\n",
      "Epoch 353/1000\n",
      "5/5 [==============================] - 1s 242ms/step - loss: 0.0058 - mae: 0.0607 - val_loss: 0.0077 - val_mae: 0.0689\n",
      "Epoch 354/1000\n",
      "5/5 [==============================] - 1s 214ms/step - loss: 0.0067 - mae: 0.0645 - val_loss: 0.0086 - val_mae: 0.0728\n",
      "Epoch 355/1000\n",
      "5/5 [==============================] - 1s 213ms/step - loss: 0.0068 - mae: 0.0658 - val_loss: 0.0077 - val_mae: 0.0702\n",
      "Epoch 356/1000\n",
      "5/5 [==============================] - 1s 215ms/step - loss: 0.0069 - mae: 0.0661 - val_loss: 0.0138 - val_mae: 0.0975\n",
      "Epoch 357/1000\n",
      "5/5 [==============================] - 1s 217ms/step - loss: 0.0089 - mae: 0.0750 - val_loss: 0.0168 - val_mae: 0.1068\n",
      "Epoch 358/1000\n",
      "5/5 [==============================] - 1s 217ms/step - loss: 0.0103 - mae: 0.0813 - val_loss: 0.0086 - val_mae: 0.0740\n",
      "Epoch 359/1000\n",
      "5/5 [==============================] - 1s 216ms/step - loss: 0.0090 - mae: 0.0757 - val_loss: 0.0124 - val_mae: 0.0882\n",
      "Epoch 360/1000\n",
      "5/5 [==============================] - ETA: 0s - loss: 0.0087 - mae: 0.0743"
     ]
    },
    {
     "name": "stderr",
     "output_type": "stream",
     "text": [
      "WARNING:absl:Found untraced functions such as lstm_cell_layer_call_fn, lstm_cell_layer_call_and_return_conditional_losses while saving (showing 2 of 2). These functions will not be directly callable after loading.\n"
     ]
    },
    {
     "name": "stdout",
     "output_type": "stream",
     "text": [
      "INFO:tensorflow:Assets written to: C:\\Users\\PARK\\Documents\\LAB\\RNN vs LSTM\\FInal Example\\wandb\\run-20221016_041024-3d3hm2b9\\files\\model-best\\assets\n"
     ]
    },
    {
     "name": "stderr",
     "output_type": "stream",
     "text": [
      "INFO:tensorflow:Assets written to: C:\\Users\\PARK\\Documents\\LAB\\RNN vs LSTM\\FInal Example\\wandb\\run-20221016_041024-3d3hm2b9\\files\\model-best\\assets\n",
      "\u001b[34m\u001b[1mwandb\u001b[0m: Adding directory to artifact (C:\\Users\\PARK\\Documents\\LAB\\RNN vs LSTM\\FInal Example\\wandb\\run-20221016_041024-3d3hm2b9\\files\\model-best)... Done. 0.4s\n"
     ]
    },
    {
     "name": "stdout",
     "output_type": "stream",
     "text": [
      "5/5 [==============================] - 5s 1s/step - loss: 0.0087 - mae: 0.0743 - val_loss: 0.0074 - val_mae: 0.0684\n",
      "Epoch 361/1000\n",
      "5/5 [==============================] - 1s 239ms/step - loss: 0.0062 - mae: 0.0628 - val_loss: 0.0085 - val_mae: 0.0729\n",
      "Epoch 362/1000\n",
      "5/5 [==============================] - 1s 218ms/step - loss: 0.0057 - mae: 0.0603 - val_loss: 0.0075 - val_mae: 0.0695\n",
      "Epoch 363/1000\n",
      "5/5 [==============================] - ETA: 0s - loss: 0.0052 - mae: 0.0566"
     ]
    },
    {
     "name": "stderr",
     "output_type": "stream",
     "text": [
      "WARNING:absl:Found untraced functions such as lstm_cell_layer_call_fn, lstm_cell_layer_call_and_return_conditional_losses while saving (showing 2 of 2). These functions will not be directly callable after loading.\n"
     ]
    },
    {
     "name": "stdout",
     "output_type": "stream",
     "text": [
      "INFO:tensorflow:Assets written to: C:\\Users\\PARK\\Documents\\LAB\\RNN vs LSTM\\FInal Example\\wandb\\run-20221016_041024-3d3hm2b9\\files\\model-best\\assets\n"
     ]
    },
    {
     "name": "stderr",
     "output_type": "stream",
     "text": [
      "INFO:tensorflow:Assets written to: C:\\Users\\PARK\\Documents\\LAB\\RNN vs LSTM\\FInal Example\\wandb\\run-20221016_041024-3d3hm2b9\\files\\model-best\\assets\n",
      "\u001b[34m\u001b[1mwandb\u001b[0m: Adding directory to artifact (C:\\Users\\PARK\\Documents\\LAB\\RNN vs LSTM\\FInal Example\\wandb\\run-20221016_041024-3d3hm2b9\\files\\model-best)... Done. 0.4s\n"
     ]
    },
    {
     "name": "stdout",
     "output_type": "stream",
     "text": [
      "5/5 [==============================] - 5s 1s/step - loss: 0.0052 - mae: 0.0566 - val_loss: 0.0070 - val_mae: 0.0664\n",
      "Epoch 364/1000\n",
      "5/5 [==============================] - 1s 242ms/step - loss: 0.0050 - mae: 0.0569 - val_loss: 0.0074 - val_mae: 0.0679\n",
      "Epoch 365/1000\n",
      "5/5 [==============================] - ETA: 0s - loss: 0.0049 - mae: 0.0554"
     ]
    },
    {
     "name": "stderr",
     "output_type": "stream",
     "text": [
      "WARNING:absl:Found untraced functions such as lstm_cell_layer_call_fn, lstm_cell_layer_call_and_return_conditional_losses while saving (showing 2 of 2). These functions will not be directly callable after loading.\n"
     ]
    },
    {
     "name": "stdout",
     "output_type": "stream",
     "text": [
      "INFO:tensorflow:Assets written to: C:\\Users\\PARK\\Documents\\LAB\\RNN vs LSTM\\FInal Example\\wandb\\run-20221016_041024-3d3hm2b9\\files\\model-best\\assets\n"
     ]
    },
    {
     "name": "stderr",
     "output_type": "stream",
     "text": [
      "INFO:tensorflow:Assets written to: C:\\Users\\PARK\\Documents\\LAB\\RNN vs LSTM\\FInal Example\\wandb\\run-20221016_041024-3d3hm2b9\\files\\model-best\\assets\n",
      "\u001b[34m\u001b[1mwandb\u001b[0m: Adding directory to artifact (C:\\Users\\PARK\\Documents\\LAB\\RNN vs LSTM\\FInal Example\\wandb\\run-20221016_041024-3d3hm2b9\\files\\model-best)... Done. 0.4s\n"
     ]
    },
    {
     "name": "stdout",
     "output_type": "stream",
     "text": [
      "5/5 [==============================] - 5s 1s/step - loss: 0.0049 - mae: 0.0554 - val_loss: 0.0067 - val_mae: 0.0644\n",
      "Epoch 366/1000\n",
      "5/5 [==============================] - 1s 225ms/step - loss: 0.0045 - mae: 0.0533 - val_loss: 0.0069 - val_mae: 0.0651\n",
      "Epoch 367/1000\n",
      "5/5 [==============================] - ETA: 0s - loss: 0.0045 - mae: 0.0526"
     ]
    },
    {
     "name": "stderr",
     "output_type": "stream",
     "text": [
      "WARNING:absl:Found untraced functions such as lstm_cell_layer_call_fn, lstm_cell_layer_call_and_return_conditional_losses while saving (showing 2 of 2). These functions will not be directly callable after loading.\n"
     ]
    },
    {
     "name": "stdout",
     "output_type": "stream",
     "text": [
      "INFO:tensorflow:Assets written to: C:\\Users\\PARK\\Documents\\LAB\\RNN vs LSTM\\FInal Example\\wandb\\run-20221016_041024-3d3hm2b9\\files\\model-best\\assets\n"
     ]
    },
    {
     "name": "stderr",
     "output_type": "stream",
     "text": [
      "INFO:tensorflow:Assets written to: C:\\Users\\PARK\\Documents\\LAB\\RNN vs LSTM\\FInal Example\\wandb\\run-20221016_041024-3d3hm2b9\\files\\model-best\\assets\n",
      "\u001b[34m\u001b[1mwandb\u001b[0m: Adding directory to artifact (C:\\Users\\PARK\\Documents\\LAB\\RNN vs LSTM\\FInal Example\\wandb\\run-20221016_041024-3d3hm2b9\\files\\model-best)... Done. 0.4s\n"
     ]
    },
    {
     "name": "stdout",
     "output_type": "stream",
     "text": [
      "5/5 [==============================] - 5s 1s/step - loss: 0.0045 - mae: 0.0526 - val_loss: 0.0065 - val_mae: 0.0644\n",
      "Epoch 368/1000\n",
      "5/5 [==============================] - 1s 220ms/step - loss: 0.0043 - mae: 0.0521 - val_loss: 0.0073 - val_mae: 0.0672\n",
      "Epoch 369/1000\n",
      "5/5 [==============================] - ETA: 0s - loss: 0.0045 - mae: 0.0530"
     ]
    },
    {
     "name": "stderr",
     "output_type": "stream",
     "text": [
      "WARNING:absl:Found untraced functions such as lstm_cell_layer_call_fn, lstm_cell_layer_call_and_return_conditional_losses while saving (showing 2 of 2). These functions will not be directly callable after loading.\n"
     ]
    },
    {
     "name": "stdout",
     "output_type": "stream",
     "text": [
      "INFO:tensorflow:Assets written to: C:\\Users\\PARK\\Documents\\LAB\\RNN vs LSTM\\FInal Example\\wandb\\run-20221016_041024-3d3hm2b9\\files\\model-best\\assets\n"
     ]
    },
    {
     "name": "stderr",
     "output_type": "stream",
     "text": [
      "INFO:tensorflow:Assets written to: C:\\Users\\PARK\\Documents\\LAB\\RNN vs LSTM\\FInal Example\\wandb\\run-20221016_041024-3d3hm2b9\\files\\model-best\\assets\n",
      "\u001b[34m\u001b[1mwandb\u001b[0m: Adding directory to artifact (C:\\Users\\PARK\\Documents\\LAB\\RNN vs LSTM\\FInal Example\\wandb\\run-20221016_041024-3d3hm2b9\\files\\model-best)... Done. 0.4s\n"
     ]
    },
    {
     "name": "stdout",
     "output_type": "stream",
     "text": [
      "5/5 [==============================] - 6s 1s/step - loss: 0.0045 - mae: 0.0530 - val_loss: 0.0060 - val_mae: 0.0616\n",
      "Epoch 370/1000\n",
      "5/5 [==============================] - ETA: 0s - loss: 0.0045 - mae: 0.0531"
     ]
    },
    {
     "name": "stderr",
     "output_type": "stream",
     "text": [
      "WARNING:absl:Found untraced functions such as lstm_cell_layer_call_fn, lstm_cell_layer_call_and_return_conditional_losses while saving (showing 2 of 2). These functions will not be directly callable after loading.\n"
     ]
    },
    {
     "name": "stdout",
     "output_type": "stream",
     "text": [
      "INFO:tensorflow:Assets written to: C:\\Users\\PARK\\Documents\\LAB\\RNN vs LSTM\\FInal Example\\wandb\\run-20221016_041024-3d3hm2b9\\files\\model-best\\assets\n"
     ]
    },
    {
     "name": "stderr",
     "output_type": "stream",
     "text": [
      "INFO:tensorflow:Assets written to: C:\\Users\\PARK\\Documents\\LAB\\RNN vs LSTM\\FInal Example\\wandb\\run-20221016_041024-3d3hm2b9\\files\\model-best\\assets\n",
      "\u001b[34m\u001b[1mwandb\u001b[0m: Adding directory to artifact (C:\\Users\\PARK\\Documents\\LAB\\RNN vs LSTM\\FInal Example\\wandb\\run-20221016_041024-3d3hm2b9\\files\\model-best)... Done. 0.4s\n"
     ]
    },
    {
     "name": "stdout",
     "output_type": "stream",
     "text": [
      "5/5 [==============================] - 6s 1s/step - loss: 0.0045 - mae: 0.0531 - val_loss: 0.0059 - val_mae: 0.0602\n",
      "Epoch 371/1000\n",
      "5/5 [==============================] - ETA: 0s - loss: 0.0040 - mae: 0.0502"
     ]
    },
    {
     "name": "stderr",
     "output_type": "stream",
     "text": [
      "WARNING:absl:Found untraced functions such as lstm_cell_layer_call_fn, lstm_cell_layer_call_and_return_conditional_losses while saving (showing 2 of 2). These functions will not be directly callable after loading.\n"
     ]
    },
    {
     "name": "stdout",
     "output_type": "stream",
     "text": [
      "INFO:tensorflow:Assets written to: C:\\Users\\PARK\\Documents\\LAB\\RNN vs LSTM\\FInal Example\\wandb\\run-20221016_041024-3d3hm2b9\\files\\model-best\\assets\n"
     ]
    },
    {
     "name": "stderr",
     "output_type": "stream",
     "text": [
      "INFO:tensorflow:Assets written to: C:\\Users\\PARK\\Documents\\LAB\\RNN vs LSTM\\FInal Example\\wandb\\run-20221016_041024-3d3hm2b9\\files\\model-best\\assets\n",
      "\u001b[34m\u001b[1mwandb\u001b[0m: Adding directory to artifact (C:\\Users\\PARK\\Documents\\LAB\\RNN vs LSTM\\FInal Example\\wandb\\run-20221016_041024-3d3hm2b9\\files\\model-best)... Done. 0.4s\n"
     ]
    },
    {
     "name": "stdout",
     "output_type": "stream",
     "text": [
      "5/5 [==============================] - 5s 1s/step - loss: 0.0040 - mae: 0.0502 - val_loss: 0.0059 - val_mae: 0.0610\n",
      "Epoch 372/1000\n",
      "5/5 [==============================] - 1s 225ms/step - loss: 0.0038 - mae: 0.0491 - val_loss: 0.0061 - val_mae: 0.0612\n",
      "Epoch 373/1000\n",
      "5/5 [==============================] - ETA: 0s - loss: 0.0039 - mae: 0.0489"
     ]
    },
    {
     "name": "stderr",
     "output_type": "stream",
     "text": [
      "WARNING:absl:Found untraced functions such as lstm_cell_layer_call_fn, lstm_cell_layer_call_and_return_conditional_losses while saving (showing 2 of 2). These functions will not be directly callable after loading.\n"
     ]
    },
    {
     "name": "stdout",
     "output_type": "stream",
     "text": [
      "INFO:tensorflow:Assets written to: C:\\Users\\PARK\\Documents\\LAB\\RNN vs LSTM\\FInal Example\\wandb\\run-20221016_041024-3d3hm2b9\\files\\model-best\\assets\n"
     ]
    },
    {
     "name": "stderr",
     "output_type": "stream",
     "text": [
      "INFO:tensorflow:Assets written to: C:\\Users\\PARK\\Documents\\LAB\\RNN vs LSTM\\FInal Example\\wandb\\run-20221016_041024-3d3hm2b9\\files\\model-best\\assets\n",
      "\u001b[34m\u001b[1mwandb\u001b[0m: Adding directory to artifact (C:\\Users\\PARK\\Documents\\LAB\\RNN vs LSTM\\FInal Example\\wandb\\run-20221016_041024-3d3hm2b9\\files\\model-best)... Done. 0.4s\n"
     ]
    },
    {
     "name": "stdout",
     "output_type": "stream",
     "text": [
      "5/5 [==============================] - 5s 1s/step - loss: 0.0039 - mae: 0.0489 - val_loss: 0.0059 - val_mae: 0.0614\n",
      "Epoch 374/1000\n",
      "5/5 [==============================] - 1s 244ms/step - loss: 0.0040 - mae: 0.0499 - val_loss: 0.0075 - val_mae: 0.0686\n",
      "Epoch 375/1000\n",
      "5/5 [==============================] - 1s 218ms/step - loss: 0.0049 - mae: 0.0551 - val_loss: 0.0085 - val_mae: 0.0735\n",
      "Epoch 376/1000\n",
      "5/5 [==============================] - 1s 218ms/step - loss: 0.0048 - mae: 0.0553 - val_loss: 0.0061 - val_mae: 0.0622\n",
      "Epoch 377/1000\n",
      "5/5 [==============================] - 1s 218ms/step - loss: 0.0039 - mae: 0.0496 - val_loss: 0.0062 - val_mae: 0.0622\n",
      "Epoch 378/1000\n",
      "5/5 [==============================] - ETA: 0s - loss: 0.0037 - mae: 0.0482"
     ]
    },
    {
     "name": "stderr",
     "output_type": "stream",
     "text": [
      "WARNING:absl:Found untraced functions such as lstm_cell_layer_call_fn, lstm_cell_layer_call_and_return_conditional_losses while saving (showing 2 of 2). These functions will not be directly callable after loading.\n"
     ]
    },
    {
     "name": "stdout",
     "output_type": "stream",
     "text": [
      "INFO:tensorflow:Assets written to: C:\\Users\\PARK\\Documents\\LAB\\RNN vs LSTM\\FInal Example\\wandb\\run-20221016_041024-3d3hm2b9\\files\\model-best\\assets\n"
     ]
    },
    {
     "name": "stderr",
     "output_type": "stream",
     "text": [
      "INFO:tensorflow:Assets written to: C:\\Users\\PARK\\Documents\\LAB\\RNN vs LSTM\\FInal Example\\wandb\\run-20221016_041024-3d3hm2b9\\files\\model-best\\assets\n",
      "\u001b[34m\u001b[1mwandb\u001b[0m: Adding directory to artifact (C:\\Users\\PARK\\Documents\\LAB\\RNN vs LSTM\\FInal Example\\wandb\\run-20221016_041024-3d3hm2b9\\files\\model-best)... Done. 0.4s\n"
     ]
    },
    {
     "name": "stdout",
     "output_type": "stream",
     "text": [
      "5/5 [==============================] - 5s 1s/step - loss: 0.0037 - mae: 0.0482 - val_loss: 0.0057 - val_mae: 0.0601\n",
      "Epoch 379/1000\n",
      "4/5 [=======================>......] - ETA: 0s - loss: 0.0035 - mae: 0.0465"
     ]
    },
    {
     "name": "stderr",
     "output_type": "stream",
     "text": [
      "WARNING:absl:Found untraced functions such as lstm_cell_layer_call_fn, lstm_cell_layer_call_and_return_conditional_losses while saving (showing 2 of 2). These functions will not be directly callable after loading.\n"
     ]
    },
    {
     "name": "stdout",
     "output_type": "stream",
     "text": [
      "INFO:tensorflow:Assets written to: C:\\Users\\PARK\\Documents\\LAB\\RNN vs LSTM\\FInal Example\\wandb\\run-20221016_041024-3d3hm2b9\\files\\model-best\\assets\n"
     ]
    },
    {
     "name": "stderr",
     "output_type": "stream",
     "text": [
      "INFO:tensorflow:Assets written to: C:\\Users\\PARK\\Documents\\LAB\\RNN vs LSTM\\FInal Example\\wandb\\run-20221016_041024-3d3hm2b9\\files\\model-best\\assets\n",
      "\u001b[34m\u001b[1mwandb\u001b[0m: Adding directory to artifact (C:\\Users\\PARK\\Documents\\LAB\\RNN vs LSTM\\FInal Example\\wandb\\run-20221016_041024-3d3hm2b9\\files\\model-best)... Done. 0.4s\n"
     ]
    },
    {
     "name": "stdout",
     "output_type": "stream",
     "text": [
      "5/5 [==============================] - 6s 1s/step - loss: 0.0034 - mae: 0.0462 - val_loss: 0.0056 - val_mae: 0.0592\n",
      "Epoch 380/1000\n",
      "5/5 [==============================] - 1s 230ms/step - loss: 0.0034 - mae: 0.0463 - val_loss: 0.0058 - val_mae: 0.0600\n",
      "Epoch 381/1000\n",
      "5/5 [==============================] - ETA: 0s - loss: 0.0037 - mae: 0.0475"
     ]
    },
    {
     "name": "stderr",
     "output_type": "stream",
     "text": [
      "WARNING:absl:Found untraced functions such as lstm_cell_layer_call_fn, lstm_cell_layer_call_and_return_conditional_losses while saving (showing 2 of 2). These functions will not be directly callable after loading.\n"
     ]
    },
    {
     "name": "stdout",
     "output_type": "stream",
     "text": [
      "INFO:tensorflow:Assets written to: C:\\Users\\PARK\\Documents\\LAB\\RNN vs LSTM\\FInal Example\\wandb\\run-20221016_041024-3d3hm2b9\\files\\model-best\\assets\n"
     ]
    },
    {
     "name": "stderr",
     "output_type": "stream",
     "text": [
      "INFO:tensorflow:Assets written to: C:\\Users\\PARK\\Documents\\LAB\\RNN vs LSTM\\FInal Example\\wandb\\run-20221016_041024-3d3hm2b9\\files\\model-best\\assets\n",
      "\u001b[34m\u001b[1mwandb\u001b[0m: Adding directory to artifact (C:\\Users\\PARK\\Documents\\LAB\\RNN vs LSTM\\FInal Example\\wandb\\run-20221016_041024-3d3hm2b9\\files\\model-best)... Done. 0.4s\n"
     ]
    },
    {
     "name": "stdout",
     "output_type": "stream",
     "text": [
      "5/5 [==============================] - 5s 1s/step - loss: 0.0037 - mae: 0.0475 - val_loss: 0.0054 - val_mae: 0.0578\n",
      "Epoch 382/1000\n",
      "5/5 [==============================] - 1s 243ms/step - loss: 0.0034 - mae: 0.0458 - val_loss: 0.0055 - val_mae: 0.0590\n",
      "Epoch 383/1000\n",
      "5/5 [==============================] - 1s 216ms/step - loss: 0.0035 - mae: 0.0461 - val_loss: 0.0058 - val_mae: 0.0602\n",
      "Epoch 384/1000\n",
      "5/5 [==============================] - 1s 218ms/step - loss: 0.0036 - mae: 0.0472 - val_loss: 0.0059 - val_mae: 0.0607\n",
      "Epoch 385/1000\n",
      "5/5 [==============================] - 1s 220ms/step - loss: 0.0036 - mae: 0.0471 - val_loss: 0.0057 - val_mae: 0.0597\n",
      "Epoch 386/1000\n",
      "5/5 [==============================] - ETA: 0s - loss: 0.0032 - mae: 0.0450"
     ]
    },
    {
     "name": "stderr",
     "output_type": "stream",
     "text": [
      "WARNING:absl:Found untraced functions such as lstm_cell_layer_call_fn, lstm_cell_layer_call_and_return_conditional_losses while saving (showing 2 of 2). These functions will not be directly callable after loading.\n"
     ]
    },
    {
     "name": "stdout",
     "output_type": "stream",
     "text": [
      "INFO:tensorflow:Assets written to: C:\\Users\\PARK\\Documents\\LAB\\RNN vs LSTM\\FInal Example\\wandb\\run-20221016_041024-3d3hm2b9\\files\\model-best\\assets\n"
     ]
    },
    {
     "name": "stderr",
     "output_type": "stream",
     "text": [
      "INFO:tensorflow:Assets written to: C:\\Users\\PARK\\Documents\\LAB\\RNN vs LSTM\\FInal Example\\wandb\\run-20221016_041024-3d3hm2b9\\files\\model-best\\assets\n",
      "\u001b[34m\u001b[1mwandb\u001b[0m: Adding directory to artifact (C:\\Users\\PARK\\Documents\\LAB\\RNN vs LSTM\\FInal Example\\wandb\\run-20221016_041024-3d3hm2b9\\files\\model-best)... Done. 0.4s\n"
     ]
    },
    {
     "name": "stdout",
     "output_type": "stream",
     "text": [
      "5/5 [==============================] - 5s 1s/step - loss: 0.0032 - mae: 0.0450 - val_loss: 0.0051 - val_mae: 0.0572\n",
      "Epoch 387/1000\n",
      "5/5 [==============================] - 1s 244ms/step - loss: 0.0031 - mae: 0.0439 - val_loss: 0.0052 - val_mae: 0.0569\n",
      "Epoch 388/1000\n",
      "5/5 [==============================] - 1s 223ms/step - loss: 0.0032 - mae: 0.0447 - val_loss: 0.0058 - val_mae: 0.0597\n",
      "Epoch 389/1000\n",
      "5/5 [==============================] - 1s 221ms/step - loss: 0.0034 - mae: 0.0465 - val_loss: 0.0069 - val_mae: 0.0651\n",
      "Epoch 390/1000\n",
      "5/5 [==============================] - ETA: 0s - loss: 0.0044 - mae: 0.0530"
     ]
    },
    {
     "name": "stderr",
     "output_type": "stream",
     "text": [
      "WARNING:absl:Found untraced functions such as lstm_cell_layer_call_fn, lstm_cell_layer_call_and_return_conditional_losses while saving (showing 2 of 2). These functions will not be directly callable after loading.\n"
     ]
    },
    {
     "name": "stdout",
     "output_type": "stream",
     "text": [
      "INFO:tensorflow:Assets written to: C:\\Users\\PARK\\Documents\\LAB\\RNN vs LSTM\\FInal Example\\wandb\\run-20221016_041024-3d3hm2b9\\files\\model-best\\assets\n"
     ]
    },
    {
     "name": "stderr",
     "output_type": "stream",
     "text": [
      "INFO:tensorflow:Assets written to: C:\\Users\\PARK\\Documents\\LAB\\RNN vs LSTM\\FInal Example\\wandb\\run-20221016_041024-3d3hm2b9\\files\\model-best\\assets\n",
      "\u001b[34m\u001b[1mwandb\u001b[0m: Adding directory to artifact (C:\\Users\\PARK\\Documents\\LAB\\RNN vs LSTM\\FInal Example\\wandb\\run-20221016_041024-3d3hm2b9\\files\\model-best)... Done. 0.4s\n"
     ]
    },
    {
     "name": "stdout",
     "output_type": "stream",
     "text": [
      "5/5 [==============================] - 5s 1s/step - loss: 0.0044 - mae: 0.0530 - val_loss: 0.0050 - val_mae: 0.0555\n",
      "Epoch 391/1000\n",
      "5/5 [==============================] - 1s 247ms/step - loss: 0.0032 - mae: 0.0447 - val_loss: 0.0050 - val_mae: 0.0562\n",
      "Epoch 392/1000\n",
      "5/5 [==============================] - ETA: 0s - loss: 0.0030 - mae: 0.0436"
     ]
    },
    {
     "name": "stderr",
     "output_type": "stream",
     "text": [
      "WARNING:absl:Found untraced functions such as lstm_cell_layer_call_fn, lstm_cell_layer_call_and_return_conditional_losses while saving (showing 2 of 2). These functions will not be directly callable after loading.\n"
     ]
    },
    {
     "name": "stdout",
     "output_type": "stream",
     "text": [
      "INFO:tensorflow:Assets written to: C:\\Users\\PARK\\Documents\\LAB\\RNN vs LSTM\\FInal Example\\wandb\\run-20221016_041024-3d3hm2b9\\files\\model-best\\assets\n"
     ]
    },
    {
     "name": "stderr",
     "output_type": "stream",
     "text": [
      "INFO:tensorflow:Assets written to: C:\\Users\\PARK\\Documents\\LAB\\RNN vs LSTM\\FInal Example\\wandb\\run-20221016_041024-3d3hm2b9\\files\\model-best\\assets\n",
      "\u001b[34m\u001b[1mwandb\u001b[0m: Adding directory to artifact (C:\\Users\\PARK\\Documents\\LAB\\RNN vs LSTM\\FInal Example\\wandb\\run-20221016_041024-3d3hm2b9\\files\\model-best)... Done. 0.4s\n"
     ]
    },
    {
     "name": "stdout",
     "output_type": "stream",
     "text": [
      "5/5 [==============================] - 5s 1s/step - loss: 0.0030 - mae: 0.0436 - val_loss: 0.0050 - val_mae: 0.0558\n",
      "Epoch 393/1000\n",
      "5/5 [==============================] - 1s 243ms/step - loss: 0.0035 - mae: 0.0476 - val_loss: 0.0060 - val_mae: 0.0614\n",
      "Epoch 394/1000\n",
      "5/5 [==============================] - 1s 220ms/step - loss: 0.0034 - mae: 0.0467 - val_loss: 0.0050 - val_mae: 0.0558\n",
      "Epoch 395/1000\n",
      "5/5 [==============================] - 1s 219ms/step - loss: 0.0031 - mae: 0.0446 - val_loss: 0.0068 - val_mae: 0.0654\n",
      "Epoch 396/1000\n",
      "5/5 [==============================] - 1s 221ms/step - loss: 0.0037 - mae: 0.0485 - val_loss: 0.0053 - val_mae: 0.0576\n",
      "Epoch 397/1000\n",
      "5/5 [==============================] - 1s 219ms/step - loss: 0.0033 - mae: 0.0453 - val_loss: 0.0050 - val_mae: 0.0566\n",
      "Epoch 398/1000\n",
      "5/5 [==============================] - ETA: 0s - loss: 0.0030 - mae: 0.0429"
     ]
    },
    {
     "name": "stderr",
     "output_type": "stream",
     "text": [
      "WARNING:absl:Found untraced functions such as lstm_cell_layer_call_fn, lstm_cell_layer_call_and_return_conditional_losses while saving (showing 2 of 2). These functions will not be directly callable after loading.\n"
     ]
    },
    {
     "name": "stdout",
     "output_type": "stream",
     "text": [
      "INFO:tensorflow:Assets written to: C:\\Users\\PARK\\Documents\\LAB\\RNN vs LSTM\\FInal Example\\wandb\\run-20221016_041024-3d3hm2b9\\files\\model-best\\assets\n"
     ]
    },
    {
     "name": "stderr",
     "output_type": "stream",
     "text": [
      "INFO:tensorflow:Assets written to: C:\\Users\\PARK\\Documents\\LAB\\RNN vs LSTM\\FInal Example\\wandb\\run-20221016_041024-3d3hm2b9\\files\\model-best\\assets\n",
      "\u001b[34m\u001b[1mwandb\u001b[0m: Adding directory to artifact (C:\\Users\\PARK\\Documents\\LAB\\RNN vs LSTM\\FInal Example\\wandb\\run-20221016_041024-3d3hm2b9\\files\\model-best)... Done. 0.4s\n"
     ]
    },
    {
     "name": "stdout",
     "output_type": "stream",
     "text": [
      "5/5 [==============================] - 5s 1s/step - loss: 0.0030 - mae: 0.0429 - val_loss: 0.0046 - val_mae: 0.0531\n",
      "Epoch 399/1000\n",
      "5/5 [==============================] - ETA: 0s - loss: 0.0027 - mae: 0.0418"
     ]
    },
    {
     "name": "stderr",
     "output_type": "stream",
     "text": [
      "WARNING:absl:Found untraced functions such as lstm_cell_layer_call_fn, lstm_cell_layer_call_and_return_conditional_losses while saving (showing 2 of 2). These functions will not be directly callable after loading.\n"
     ]
    },
    {
     "name": "stdout",
     "output_type": "stream",
     "text": [
      "INFO:tensorflow:Assets written to: C:\\Users\\PARK\\Documents\\LAB\\RNN vs LSTM\\FInal Example\\wandb\\run-20221016_041024-3d3hm2b9\\files\\model-best\\assets\n"
     ]
    },
    {
     "name": "stderr",
     "output_type": "stream",
     "text": [
      "INFO:tensorflow:Assets written to: C:\\Users\\PARK\\Documents\\LAB\\RNN vs LSTM\\FInal Example\\wandb\\run-20221016_041024-3d3hm2b9\\files\\model-best\\assets\n",
      "\u001b[34m\u001b[1mwandb\u001b[0m: Adding directory to artifact (C:\\Users\\PARK\\Documents\\LAB\\RNN vs LSTM\\FInal Example\\wandb\\run-20221016_041024-3d3hm2b9\\files\\model-best)... Done. 0.4s\n"
     ]
    },
    {
     "name": "stdout",
     "output_type": "stream",
     "text": [
      "5/5 [==============================] - 6s 1s/step - loss: 0.0027 - mae: 0.0418 - val_loss: 0.0045 - val_mae: 0.0533\n",
      "Epoch 400/1000\n",
      "5/5 [==============================] - 1s 220ms/step - loss: 0.0026 - mae: 0.0402 - val_loss: 0.0045 - val_mae: 0.0535\n",
      "Epoch 401/1000\n",
      "5/5 [==============================] - ETA: 0s - loss: 0.0025 - mae: 0.0400"
     ]
    },
    {
     "name": "stderr",
     "output_type": "stream",
     "text": [
      "WARNING:absl:Found untraced functions such as lstm_cell_layer_call_fn, lstm_cell_layer_call_and_return_conditional_losses while saving (showing 2 of 2). These functions will not be directly callable after loading.\n"
     ]
    },
    {
     "name": "stdout",
     "output_type": "stream",
     "text": [
      "INFO:tensorflow:Assets written to: C:\\Users\\PARK\\Documents\\LAB\\RNN vs LSTM\\FInal Example\\wandb\\run-20221016_041024-3d3hm2b9\\files\\model-best\\assets\n"
     ]
    },
    {
     "name": "stderr",
     "output_type": "stream",
     "text": [
      "INFO:tensorflow:Assets written to: C:\\Users\\PARK\\Documents\\LAB\\RNN vs LSTM\\FInal Example\\wandb\\run-20221016_041024-3d3hm2b9\\files\\model-best\\assets\n",
      "\u001b[34m\u001b[1mwandb\u001b[0m: Adding directory to artifact (C:\\Users\\PARK\\Documents\\LAB\\RNN vs LSTM\\FInal Example\\wandb\\run-20221016_041024-3d3hm2b9\\files\\model-best)... Done. 0.4s\n"
     ]
    },
    {
     "name": "stdout",
     "output_type": "stream",
     "text": [
      "5/5 [==============================] - 5s 1s/step - loss: 0.0025 - mae: 0.0400 - val_loss: 0.0043 - val_mae: 0.0519\n",
      "Epoch 402/1000\n",
      "5/5 [==============================] - 1s 250ms/step - loss: 0.0025 - mae: 0.0391 - val_loss: 0.0045 - val_mae: 0.0531\n",
      "Epoch 403/1000\n",
      "5/5 [==============================] - 1s 221ms/step - loss: 0.0027 - mae: 0.0410 - val_loss: 0.0048 - val_mae: 0.0553\n",
      "Epoch 404/1000\n",
      "5/5 [==============================] - 1s 218ms/step - loss: 0.0030 - mae: 0.0430 - val_loss: 0.0060 - val_mae: 0.0620\n",
      "Epoch 405/1000\n",
      "5/5 [==============================] - 1s 222ms/step - loss: 0.0031 - mae: 0.0442 - val_loss: 0.0048 - val_mae: 0.0542\n",
      "Epoch 406/1000\n",
      "5/5 [==============================] - 1s 217ms/step - loss: 0.0028 - mae: 0.0419 - val_loss: 0.0047 - val_mae: 0.0540\n",
      "Epoch 407/1000\n",
      "5/5 [==============================] - 1s 220ms/step - loss: 0.0028 - mae: 0.0415 - val_loss: 0.0044 - val_mae: 0.0528\n",
      "Epoch 408/1000\n",
      "5/5 [==============================] - 1s 219ms/step - loss: 0.0026 - mae: 0.0407 - val_loss: 0.0047 - val_mae: 0.0532\n",
      "Epoch 409/1000\n",
      "5/5 [==============================] - 1s 217ms/step - loss: 0.0024 - mae: 0.0390 - val_loss: 0.0044 - val_mae: 0.0523\n",
      "Epoch 410/1000\n",
      "5/5 [==============================] - 1s 219ms/step - loss: 0.0025 - mae: 0.0394 - val_loss: 0.0046 - val_mae: 0.0540\n",
      "Epoch 411/1000\n",
      "5/5 [==============================] - 1s 219ms/step - loss: 0.0025 - mae: 0.0400 - val_loss: 0.0048 - val_mae: 0.0546\n",
      "Epoch 412/1000\n",
      "5/5 [==============================] - 1s 219ms/step - loss: 0.0025 - mae: 0.0398 - val_loss: 0.0051 - val_mae: 0.0559\n",
      "Epoch 413/1000\n",
      "5/5 [==============================] - 1s 219ms/step - loss: 0.0027 - mae: 0.0414 - val_loss: 0.0054 - val_mae: 0.0594\n",
      "Epoch 414/1000\n",
      "5/5 [==============================] - ETA: 0s - loss: 0.0025 - mae: 0.0395"
     ]
    },
    {
     "name": "stderr",
     "output_type": "stream",
     "text": [
      "WARNING:absl:Found untraced functions such as lstm_cell_layer_call_fn, lstm_cell_layer_call_and_return_conditional_losses while saving (showing 2 of 2). These functions will not be directly callable after loading.\n"
     ]
    },
    {
     "name": "stdout",
     "output_type": "stream",
     "text": [
      "INFO:tensorflow:Assets written to: C:\\Users\\PARK\\Documents\\LAB\\RNN vs LSTM\\FInal Example\\wandb\\run-20221016_041024-3d3hm2b9\\files\\model-best\\assets\n"
     ]
    },
    {
     "name": "stderr",
     "output_type": "stream",
     "text": [
      "INFO:tensorflow:Assets written to: C:\\Users\\PARK\\Documents\\LAB\\RNN vs LSTM\\FInal Example\\wandb\\run-20221016_041024-3d3hm2b9\\files\\model-best\\assets\n",
      "\u001b[34m\u001b[1mwandb\u001b[0m: Adding directory to artifact (C:\\Users\\PARK\\Documents\\LAB\\RNN vs LSTM\\FInal Example\\wandb\\run-20221016_041024-3d3hm2b9\\files\\model-best)... Done. 0.4s\n"
     ]
    },
    {
     "name": "stdout",
     "output_type": "stream",
     "text": [
      "5/5 [==============================] - 5s 1s/step - loss: 0.0025 - mae: 0.0395 - val_loss: 0.0042 - val_mae: 0.0507\n",
      "Epoch 415/1000\n",
      "5/5 [==============================] - 1s 225ms/step - loss: 0.0023 - mae: 0.0384 - val_loss: 0.0042 - val_mae: 0.0515\n",
      "Epoch 416/1000\n",
      "5/5 [==============================] - ETA: 0s - loss: 0.0022 - mae: 0.0368"
     ]
    },
    {
     "name": "stderr",
     "output_type": "stream",
     "text": [
      "WARNING:absl:Found untraced functions such as lstm_cell_layer_call_fn, lstm_cell_layer_call_and_return_conditional_losses while saving (showing 2 of 2). These functions will not be directly callable after loading.\n"
     ]
    },
    {
     "name": "stdout",
     "output_type": "stream",
     "text": [
      "INFO:tensorflow:Assets written to: C:\\Users\\PARK\\Documents\\LAB\\RNN vs LSTM\\FInal Example\\wandb\\run-20221016_041024-3d3hm2b9\\files\\model-best\\assets\n"
     ]
    },
    {
     "name": "stderr",
     "output_type": "stream",
     "text": [
      "INFO:tensorflow:Assets written to: C:\\Users\\PARK\\Documents\\LAB\\RNN vs LSTM\\FInal Example\\wandb\\run-20221016_041024-3d3hm2b9\\files\\model-best\\assets\n",
      "\u001b[34m\u001b[1mwandb\u001b[0m: Adding directory to artifact (C:\\Users\\PARK\\Documents\\LAB\\RNN vs LSTM\\FInal Example\\wandb\\run-20221016_041024-3d3hm2b9\\files\\model-best)... Done. 0.4s\n"
     ]
    },
    {
     "name": "stdout",
     "output_type": "stream",
     "text": [
      "5/5 [==============================] - 5s 1s/step - loss: 0.0022 - mae: 0.0368 - val_loss: 0.0041 - val_mae: 0.0509\n",
      "Epoch 417/1000\n",
      "5/5 [==============================] - 1s 247ms/step - loss: 0.0022 - mae: 0.0370 - val_loss: 0.0043 - val_mae: 0.0517\n",
      "Epoch 418/1000\n",
      "5/5 [==============================] - 1s 218ms/step - loss: 0.0023 - mae: 0.0377 - val_loss: 0.0051 - val_mae: 0.0576\n",
      "Epoch 419/1000\n",
      "5/5 [==============================] - ETA: 0s - loss: 0.0026 - mae: 0.0404"
     ]
    },
    {
     "name": "stderr",
     "output_type": "stream",
     "text": [
      "WARNING:absl:Found untraced functions such as lstm_cell_layer_call_fn, lstm_cell_layer_call_and_return_conditional_losses while saving (showing 2 of 2). These functions will not be directly callable after loading.\n"
     ]
    },
    {
     "name": "stdout",
     "output_type": "stream",
     "text": [
      "INFO:tensorflow:Assets written to: C:\\Users\\PARK\\Documents\\LAB\\RNN vs LSTM\\FInal Example\\wandb\\run-20221016_041024-3d3hm2b9\\files\\model-best\\assets\n"
     ]
    },
    {
     "name": "stderr",
     "output_type": "stream",
     "text": [
      "INFO:tensorflow:Assets written to: C:\\Users\\PARK\\Documents\\LAB\\RNN vs LSTM\\FInal Example\\wandb\\run-20221016_041024-3d3hm2b9\\files\\model-best\\assets\n",
      "\u001b[34m\u001b[1mwandb\u001b[0m: Adding directory to artifact (C:\\Users\\PARK\\Documents\\LAB\\RNN vs LSTM\\FInal Example\\wandb\\run-20221016_041024-3d3hm2b9\\files\\model-best)... Done. 0.4s\n"
     ]
    },
    {
     "name": "stdout",
     "output_type": "stream",
     "text": [
      "5/5 [==============================] - 5s 1s/step - loss: 0.0026 - mae: 0.0404 - val_loss: 0.0039 - val_mae: 0.0496\n",
      "Epoch 420/1000\n",
      "5/5 [==============================] - 1s 238ms/step - loss: 0.0021 - mae: 0.0363 - val_loss: 0.0044 - val_mae: 0.0515\n",
      "Epoch 421/1000\n",
      "5/5 [==============================] - 1s 222ms/step - loss: 0.0022 - mae: 0.0373 - val_loss: 0.0049 - val_mae: 0.0558\n",
      "Epoch 422/1000\n",
      "5/5 [==============================] - 1s 219ms/step - loss: 0.0024 - mae: 0.0391 - val_loss: 0.0040 - val_mae: 0.0501\n",
      "Epoch 423/1000\n",
      "5/5 [==============================] - 1s 216ms/step - loss: 0.0027 - mae: 0.0411 - val_loss: 0.0041 - val_mae: 0.0502\n",
      "Epoch 424/1000\n",
      "5/5 [==============================] - 1s 220ms/step - loss: 0.0032 - mae: 0.0448 - val_loss: 0.0063 - val_mae: 0.0637\n",
      "Epoch 425/1000\n",
      "5/5 [==============================] - 1s 218ms/step - loss: 0.0039 - mae: 0.0497 - val_loss: 0.0055 - val_mae: 0.0584\n",
      "Epoch 426/1000\n",
      "5/5 [==============================] - 1s 219ms/step - loss: 0.0027 - mae: 0.0413 - val_loss: 0.0050 - val_mae: 0.0550\n",
      "Epoch 427/1000\n",
      "5/5 [==============================] - 1s 216ms/step - loss: 0.0027 - mae: 0.0408 - val_loss: 0.0096 - val_mae: 0.0791\n",
      "Epoch 428/1000\n",
      "5/5 [==============================] - 1s 216ms/step - loss: 0.0041 - mae: 0.0510 - val_loss: 0.0080 - val_mae: 0.0714\n",
      "Epoch 429/1000\n",
      "5/5 [==============================] - 1s 217ms/step - loss: 0.0053 - mae: 0.0577 - val_loss: 0.0092 - val_mae: 0.0779\n",
      "Epoch 430/1000\n",
      "5/5 [==============================] - 1s 217ms/step - loss: 0.0050 - mae: 0.0573 - val_loss: 0.0063 - val_mae: 0.0623\n",
      "Epoch 431/1000\n",
      "5/5 [==============================] - 1s 216ms/step - loss: 0.0054 - mae: 0.0586 - val_loss: 0.0049 - val_mae: 0.0553\n",
      "Epoch 432/1000\n",
      "5/5 [==============================] - 1s 217ms/step - loss: 0.0033 - mae: 0.0452 - val_loss: 0.0045 - val_mae: 0.0525\n",
      "Epoch 433/1000\n",
      "5/5 [==============================] - 1s 216ms/step - loss: 0.0030 - mae: 0.0434 - val_loss: 0.0043 - val_mae: 0.0513\n",
      "Epoch 434/1000\n",
      "5/5 [==============================] - 1s 217ms/step - loss: 0.0030 - mae: 0.0438 - val_loss: 0.0043 - val_mae: 0.0519\n",
      "Epoch 435/1000\n",
      "5/5 [==============================] - 1s 218ms/step - loss: 0.0030 - mae: 0.0435 - val_loss: 0.0044 - val_mae: 0.0527\n",
      "Epoch 436/1000\n",
      "5/5 [==============================] - 1s 219ms/step - loss: 0.0026 - mae: 0.0401 - val_loss: 0.0043 - val_mae: 0.0519\n",
      "Epoch 437/1000\n",
      "5/5 [==============================] - 1s 217ms/step - loss: 0.0022 - mae: 0.0377 - val_loss: 0.0042 - val_mae: 0.0511\n",
      "Epoch 438/1000\n",
      "5/5 [==============================] - 1s 221ms/step - loss: 0.0021 - mae: 0.0368 - val_loss: 0.0040 - val_mae: 0.0497\n",
      "Epoch 439/1000\n",
      "5/5 [==============================] - 1s 219ms/step - loss: 0.0021 - mae: 0.0365 - val_loss: 0.0040 - val_mae: 0.0500\n",
      "Epoch 440/1000\n",
      "5/5 [==============================] - 1s 220ms/step - loss: 0.0020 - mae: 0.0351 - val_loss: 0.0042 - val_mae: 0.0507\n",
      "Epoch 441/1000\n",
      "5/5 [==============================] - 1s 219ms/step - loss: 0.0023 - mae: 0.0381 - val_loss: 0.0044 - val_mae: 0.0510\n",
      "Epoch 442/1000\n",
      "5/5 [==============================] - 1s 221ms/step - loss: 0.0026 - mae: 0.0399 - val_loss: 0.0057 - val_mae: 0.0601\n",
      "Epoch 443/1000\n",
      "5/5 [==============================] - 1s 215ms/step - loss: 0.0027 - mae: 0.0410 - val_loss: 0.0049 - val_mae: 0.0546\n",
      "Epoch 444/1000\n",
      "5/5 [==============================] - 1s 217ms/step - loss: 0.0022 - mae: 0.0376 - val_loss: 0.0043 - val_mae: 0.0513\n",
      "Epoch 445/1000\n",
      "5/5 [==============================] - 1s 219ms/step - loss: 0.0019 - mae: 0.0348 - val_loss: 0.0041 - val_mae: 0.0501\n",
      "Epoch 446/1000\n",
      "5/5 [==============================] - 1s 219ms/step - loss: 0.0020 - mae: 0.0350 - val_loss: 0.0042 - val_mae: 0.0517\n",
      "Epoch 447/1000\n",
      "5/5 [==============================] - 1s 217ms/step - loss: 0.0021 - mae: 0.0362 - val_loss: 0.0052 - val_mae: 0.0565\n",
      "Epoch 448/1000\n",
      "5/5 [==============================] - 1s 218ms/step - loss: 0.0027 - mae: 0.0417 - val_loss: 0.0040 - val_mae: 0.0501\n",
      "Epoch 449/1000\n",
      "5/5 [==============================] - 1s 217ms/step - loss: 0.0021 - mae: 0.0361 - val_loss: 0.0043 - val_mae: 0.0526\n",
      "Epoch 450/1000\n",
      "5/5 [==============================] - 1s 220ms/step - loss: 0.0020 - mae: 0.0353 - val_loss: 0.0045 - val_mae: 0.0527\n",
      "Epoch 451/1000\n",
      "5/5 [==============================] - 1s 213ms/step - loss: 0.0021 - mae: 0.0366 - val_loss: 0.0048 - val_mae: 0.0548\n",
      "Epoch 452/1000\n",
      "5/5 [==============================] - ETA: 0s - loss: 0.0020 - mae: 0.0353"
     ]
    },
    {
     "name": "stderr",
     "output_type": "stream",
     "text": [
      "WARNING:absl:Found untraced functions such as lstm_cell_layer_call_fn, lstm_cell_layer_call_and_return_conditional_losses while saving (showing 2 of 2). These functions will not be directly callable after loading.\n"
     ]
    },
    {
     "name": "stdout",
     "output_type": "stream",
     "text": [
      "INFO:tensorflow:Assets written to: C:\\Users\\PARK\\Documents\\LAB\\RNN vs LSTM\\FInal Example\\wandb\\run-20221016_041024-3d3hm2b9\\files\\model-best\\assets\n"
     ]
    },
    {
     "name": "stderr",
     "output_type": "stream",
     "text": [
      "INFO:tensorflow:Assets written to: C:\\Users\\PARK\\Documents\\LAB\\RNN vs LSTM\\FInal Example\\wandb\\run-20221016_041024-3d3hm2b9\\files\\model-best\\assets\n",
      "\u001b[34m\u001b[1mwandb\u001b[0m: Adding directory to artifact (C:\\Users\\PARK\\Documents\\LAB\\RNN vs LSTM\\FInal Example\\wandb\\run-20221016_041024-3d3hm2b9\\files\\model-best)... Done. 0.4s\n"
     ]
    },
    {
     "name": "stdout",
     "output_type": "stream",
     "text": [
      "5/5 [==============================] - 5s 1s/step - loss: 0.0020 - mae: 0.0353 - val_loss: 0.0037 - val_mae: 0.0479\n",
      "Epoch 453/1000\n",
      "5/5 [==============================] - 1s 247ms/step - loss: 0.0016 - mae: 0.0323 - val_loss: 0.0039 - val_mae: 0.0486\n",
      "Epoch 454/1000\n",
      "5/5 [==============================] - ETA: 0s - loss: 0.0016 - mae: 0.0315"
     ]
    },
    {
     "name": "stderr",
     "output_type": "stream",
     "text": [
      "WARNING:absl:Found untraced functions such as lstm_cell_layer_call_fn, lstm_cell_layer_call_and_return_conditional_losses while saving (showing 2 of 2). These functions will not be directly callable after loading.\n"
     ]
    },
    {
     "name": "stdout",
     "output_type": "stream",
     "text": [
      "INFO:tensorflow:Assets written to: C:\\Users\\PARK\\Documents\\LAB\\RNN vs LSTM\\FInal Example\\wandb\\run-20221016_041024-3d3hm2b9\\files\\model-best\\assets\n"
     ]
    },
    {
     "name": "stderr",
     "output_type": "stream",
     "text": [
      "INFO:tensorflow:Assets written to: C:\\Users\\PARK\\Documents\\LAB\\RNN vs LSTM\\FInal Example\\wandb\\run-20221016_041024-3d3hm2b9\\files\\model-best\\assets\n",
      "\u001b[34m\u001b[1mwandb\u001b[0m: Adding directory to artifact (C:\\Users\\PARK\\Documents\\LAB\\RNN vs LSTM\\FInal Example\\wandb\\run-20221016_041024-3d3hm2b9\\files\\model-best)... Done. 0.4s\n"
     ]
    },
    {
     "name": "stdout",
     "output_type": "stream",
     "text": [
      "5/5 [==============================] - 5s 1s/step - loss: 0.0016 - mae: 0.0315 - val_loss: 0.0036 - val_mae: 0.0470\n",
      "Epoch 455/1000\n",
      "5/5 [==============================] - 1s 243ms/step - loss: 0.0015 - mae: 0.0309 - val_loss: 0.0036 - val_mae: 0.0472\n",
      "Epoch 456/1000\n",
      "5/5 [==============================] - 1s 220ms/step - loss: 0.0014 - mae: 0.0300 - val_loss: 0.0038 - val_mae: 0.0475\n",
      "Epoch 457/1000\n",
      "5/5 [==============================] - ETA: 0s - loss: 0.0015 - mae: 0.0310"
     ]
    },
    {
     "name": "stderr",
     "output_type": "stream",
     "text": [
      "WARNING:absl:Found untraced functions such as lstm_cell_layer_call_fn, lstm_cell_layer_call_and_return_conditional_losses while saving (showing 2 of 2). These functions will not be directly callable after loading.\n"
     ]
    },
    {
     "name": "stdout",
     "output_type": "stream",
     "text": [
      "INFO:tensorflow:Assets written to: C:\\Users\\PARK\\Documents\\LAB\\RNN vs LSTM\\FInal Example\\wandb\\run-20221016_041024-3d3hm2b9\\files\\model-best\\assets\n"
     ]
    },
    {
     "name": "stderr",
     "output_type": "stream",
     "text": [
      "INFO:tensorflow:Assets written to: C:\\Users\\PARK\\Documents\\LAB\\RNN vs LSTM\\FInal Example\\wandb\\run-20221016_041024-3d3hm2b9\\files\\model-best\\assets\n",
      "\u001b[34m\u001b[1mwandb\u001b[0m: Adding directory to artifact (C:\\Users\\PARK\\Documents\\LAB\\RNN vs LSTM\\FInal Example\\wandb\\run-20221016_041024-3d3hm2b9\\files\\model-best)... Done. 0.4s\n"
     ]
    },
    {
     "name": "stdout",
     "output_type": "stream",
     "text": [
      "5/5 [==============================] - 5s 1s/step - loss: 0.0015 - mae: 0.0310 - val_loss: 0.0034 - val_mae: 0.0457\n",
      "Epoch 458/1000\n",
      "5/5 [==============================] - 1s 243ms/step - loss: 0.0015 - mae: 0.0301 - val_loss: 0.0038 - val_mae: 0.0486\n",
      "Epoch 459/1000\n",
      "5/5 [==============================] - 1s 219ms/step - loss: 0.0015 - mae: 0.0312 - val_loss: 0.0036 - val_mae: 0.0466\n",
      "Epoch 460/1000\n",
      "5/5 [==============================] - 1s 216ms/step - loss: 0.0014 - mae: 0.0298 - val_loss: 0.0036 - val_mae: 0.0470\n",
      "Epoch 461/1000\n",
      "5/5 [==============================] - 1s 221ms/step - loss: 0.0017 - mae: 0.0323 - val_loss: 0.0036 - val_mae: 0.0463\n",
      "Epoch 462/1000\n",
      "5/5 [==============================] - 1s 218ms/step - loss: 0.0015 - mae: 0.0303 - val_loss: 0.0040 - val_mae: 0.0504\n",
      "Epoch 463/1000\n",
      "5/5 [==============================] - 1s 220ms/step - loss: 0.0018 - mae: 0.0343 - val_loss: 0.0034 - val_mae: 0.0457\n",
      "Epoch 464/1000\n",
      "5/5 [==============================] - 1s 218ms/step - loss: 0.0023 - mae: 0.0378 - val_loss: 0.0060 - val_mae: 0.0609\n",
      "Epoch 465/1000\n",
      "5/5 [==============================] - 1s 218ms/step - loss: 0.0036 - mae: 0.0480 - val_loss: 0.0053 - val_mae: 0.0587\n",
      "Epoch 466/1000\n",
      "5/5 [==============================] - 1s 217ms/step - loss: 0.0033 - mae: 0.0460 - val_loss: 0.0068 - val_mae: 0.0648\n",
      "Epoch 467/1000\n",
      "5/5 [==============================] - 1s 218ms/step - loss: 0.0040 - mae: 0.0519 - val_loss: 0.0057 - val_mae: 0.0615\n",
      "Epoch 468/1000\n",
      "5/5 [==============================] - 1s 217ms/step - loss: 0.0033 - mae: 0.0460 - val_loss: 0.0053 - val_mae: 0.0562\n",
      "Epoch 469/1000\n",
      "5/5 [==============================] - 1s 217ms/step - loss: 0.0026 - mae: 0.0409 - val_loss: 0.0050 - val_mae: 0.0557\n",
      "Epoch 470/1000\n",
      "5/5 [==============================] - 1s 218ms/step - loss: 0.0021 - mae: 0.0368 - val_loss: 0.0038 - val_mae: 0.0478\n",
      "Epoch 471/1000\n",
      "5/5 [==============================] - 1s 217ms/step - loss: 0.0017 - mae: 0.0327 - val_loss: 0.0039 - val_mae: 0.0478\n",
      "Epoch 472/1000\n",
      "5/5 [==============================] - 1s 217ms/step - loss: 0.0017 - mae: 0.0326 - val_loss: 0.0048 - val_mae: 0.0553\n",
      "Epoch 473/1000\n",
      "5/5 [==============================] - 1s 218ms/step - loss: 0.0025 - mae: 0.0398 - val_loss: 0.0036 - val_mae: 0.0466\n",
      "Epoch 474/1000\n",
      "5/5 [==============================] - 1s 219ms/step - loss: 0.0021 - mae: 0.0361 - val_loss: 0.0037 - val_mae: 0.0471\n",
      "Epoch 475/1000\n",
      "5/5 [==============================] - 1s 218ms/step - loss: 0.0019 - mae: 0.0346 - val_loss: 0.0054 - val_mae: 0.0579\n",
      "Epoch 476/1000\n",
      "5/5 [==============================] - 1s 217ms/step - loss: 0.0027 - mae: 0.0412 - val_loss: 0.0071 - val_mae: 0.0660\n",
      "Epoch 477/1000\n",
      "5/5 [==============================] - 1s 217ms/step - loss: 0.0055 - mae: 0.0596 - val_loss: 0.0116 - val_mae: 0.0888\n",
      "Epoch 478/1000\n",
      "5/5 [==============================] - 1s 218ms/step - loss: 0.0061 - mae: 0.0640 - val_loss: 0.0109 - val_mae: 0.0846\n",
      "Epoch 479/1000\n",
      "5/5 [==============================] - 1s 218ms/step - loss: 0.0058 - mae: 0.0613 - val_loss: 0.0051 - val_mae: 0.0556\n",
      "Epoch 480/1000\n",
      "5/5 [==============================] - 1s 217ms/step - loss: 0.0026 - mae: 0.0407 - val_loss: 0.0063 - val_mae: 0.0626\n",
      "Epoch 481/1000\n",
      "5/5 [==============================] - 1s 219ms/step - loss: 0.0032 - mae: 0.0449 - val_loss: 0.0046 - val_mae: 0.0528\n",
      "Epoch 482/1000\n",
      "5/5 [==============================] - 1s 217ms/step - loss: 0.0022 - mae: 0.0364 - val_loss: 0.0042 - val_mae: 0.0511\n",
      "Epoch 483/1000\n",
      "5/5 [==============================] - 1s 218ms/step - loss: 0.0020 - mae: 0.0355 - val_loss: 0.0039 - val_mae: 0.0484\n",
      "Epoch 484/1000\n",
      "5/5 [==============================] - 1s 219ms/step - loss: 0.0018 - mae: 0.0338 - val_loss: 0.0042 - val_mae: 0.0515\n",
      "Epoch 485/1000\n",
      "5/5 [==============================] - 1s 216ms/step - loss: 0.0021 - mae: 0.0362 - val_loss: 0.0082 - val_mae: 0.0690\n",
      "Epoch 486/1000\n",
      "5/5 [==============================] - 1s 218ms/step - loss: 0.0040 - mae: 0.0504 - val_loss: 0.0065 - val_mae: 0.0622\n",
      "Epoch 487/1000\n",
      "5/5 [==============================] - 1s 218ms/step - loss: 0.0027 - mae: 0.0419 - val_loss: 0.0057 - val_mae: 0.0583\n",
      "Epoch 488/1000\n",
      "5/5 [==============================] - 1s 217ms/step - loss: 0.0030 - mae: 0.0434 - val_loss: 0.0052 - val_mae: 0.0574\n",
      "Epoch 489/1000\n",
      "5/5 [==============================] - 1s 216ms/step - loss: 0.0024 - mae: 0.0390 - val_loss: 0.0045 - val_mae: 0.0526\n",
      "Epoch 490/1000\n",
      "5/5 [==============================] - 1s 219ms/step - loss: 0.0022 - mae: 0.0367 - val_loss: 0.0047 - val_mae: 0.0549\n",
      "Epoch 491/1000\n",
      "5/5 [==============================] - 1s 217ms/step - loss: 0.0019 - mae: 0.0348 - val_loss: 0.0041 - val_mae: 0.0489\n",
      "Epoch 492/1000\n",
      "5/5 [==============================] - 1s 217ms/step - loss: 0.0018 - mae: 0.0331 - val_loss: 0.0041 - val_mae: 0.0516\n",
      "Epoch 493/1000\n",
      "5/5 [==============================] - 1s 218ms/step - loss: 0.0019 - mae: 0.0347 - val_loss: 0.0038 - val_mae: 0.0483\n",
      "Epoch 494/1000\n",
      "5/5 [==============================] - 1s 219ms/step - loss: 0.0017 - mae: 0.0325 - val_loss: 0.0042 - val_mae: 0.0500\n",
      "Epoch 495/1000\n",
      "5/5 [==============================] - 1s 217ms/step - loss: 0.0018 - mae: 0.0341 - val_loss: 0.0049 - val_mae: 0.0535\n",
      "Epoch 496/1000\n",
      "5/5 [==============================] - 1s 219ms/step - loss: 0.0019 - mae: 0.0344 - val_loss: 0.0038 - val_mae: 0.0475\n",
      "Epoch 497/1000\n",
      "5/5 [==============================] - 1s 217ms/step - loss: 0.0014 - mae: 0.0294 - val_loss: 0.0037 - val_mae: 0.0474\n",
      "Epoch 498/1000\n",
      "5/5 [==============================] - 1s 220ms/step - loss: 0.0013 - mae: 0.0284 - val_loss: 0.0036 - val_mae: 0.0459\n",
      "Epoch 499/1000\n",
      "5/5 [==============================] - 1s 217ms/step - loss: 0.0013 - mae: 0.0283 - val_loss: 0.0035 - val_mae: 0.0459\n",
      "Epoch 500/1000\n",
      "5/5 [==============================] - 1s 217ms/step - loss: 0.0012 - mae: 0.0275 - val_loss: 0.0036 - val_mae: 0.0463\n",
      "Epoch 501/1000\n",
      "5/5 [==============================] - 1s 218ms/step - loss: 0.0012 - mae: 0.0270 - val_loss: 0.0035 - val_mae: 0.0459\n",
      "Epoch 502/1000\n",
      "5/5 [==============================] - 1s 216ms/step - loss: 0.0011 - mae: 0.0269 - val_loss: 0.0035 - val_mae: 0.0462\n",
      "Epoch 503/1000\n",
      "5/5 [==============================] - ETA: 0s - loss: 0.0012 - mae: 0.0274"
     ]
    },
    {
     "name": "stderr",
     "output_type": "stream",
     "text": [
      "WARNING:absl:Found untraced functions such as lstm_cell_layer_call_fn, lstm_cell_layer_call_and_return_conditional_losses while saving (showing 2 of 2). These functions will not be directly callable after loading.\n"
     ]
    },
    {
     "name": "stdout",
     "output_type": "stream",
     "text": [
      "INFO:tensorflow:Assets written to: C:\\Users\\PARK\\Documents\\LAB\\RNN vs LSTM\\FInal Example\\wandb\\run-20221016_041024-3d3hm2b9\\files\\model-best\\assets\n"
     ]
    },
    {
     "name": "stderr",
     "output_type": "stream",
     "text": [
      "INFO:tensorflow:Assets written to: C:\\Users\\PARK\\Documents\\LAB\\RNN vs LSTM\\FInal Example\\wandb\\run-20221016_041024-3d3hm2b9\\files\\model-best\\assets\n",
      "\u001b[34m\u001b[1mwandb\u001b[0m: Adding directory to artifact (C:\\Users\\PARK\\Documents\\LAB\\RNN vs LSTM\\FInal Example\\wandb\\run-20221016_041024-3d3hm2b9\\files\\model-best)... Done. 0.4s\n"
     ]
    },
    {
     "name": "stdout",
     "output_type": "stream",
     "text": [
      "5/5 [==============================] - 5s 1s/step - loss: 0.0012 - mae: 0.0274 - val_loss: 0.0034 - val_mae: 0.0456\n",
      "Epoch 504/1000\n",
      "5/5 [==============================] - 1s 219ms/step - loss: 0.0012 - mae: 0.0272 - val_loss: 0.0035 - val_mae: 0.0462\n",
      "Epoch 505/1000\n",
      "5/5 [==============================] - 1s 221ms/step - loss: 0.0013 - mae: 0.0284 - val_loss: 0.0049 - val_mae: 0.0554\n",
      "Epoch 506/1000\n",
      "5/5 [==============================] - 1s 224ms/step - loss: 0.0020 - mae: 0.0352 - val_loss: 0.0051 - val_mae: 0.0556\n",
      "Epoch 507/1000\n",
      "5/5 [==============================] - 1s 219ms/step - loss: 0.0025 - mae: 0.0399 - val_loss: 0.0039 - val_mae: 0.0499\n",
      "Epoch 508/1000\n",
      "5/5 [==============================] - 1s 218ms/step - loss: 0.0017 - mae: 0.0329 - val_loss: 0.0041 - val_mae: 0.0493\n",
      "Epoch 509/1000\n",
      "5/5 [==============================] - 1s 220ms/step - loss: 0.0019 - mae: 0.0338 - val_loss: 0.0037 - val_mae: 0.0481\n",
      "Epoch 510/1000\n",
      "5/5 [==============================] - 1s 220ms/step - loss: 0.0018 - mae: 0.0331 - val_loss: 0.0039 - val_mae: 0.0475\n",
      "Epoch 511/1000\n",
      "5/5 [==============================] - 1s 219ms/step - loss: 0.0018 - mae: 0.0338 - val_loss: 0.0039 - val_mae: 0.0497\n",
      "Epoch 512/1000\n",
      "5/5 [==============================] - 1s 218ms/step - loss: 0.0017 - mae: 0.0325 - val_loss: 0.0043 - val_mae: 0.0525\n",
      "Epoch 513/1000\n",
      "5/5 [==============================] - 1s 220ms/step - loss: 0.0015 - mae: 0.0302 - val_loss: 0.0037 - val_mae: 0.0472\n",
      "Epoch 514/1000\n",
      "5/5 [==============================] - 1s 219ms/step - loss: 0.0013 - mae: 0.0288 - val_loss: 0.0037 - val_mae: 0.0485\n",
      "Epoch 515/1000\n",
      "5/5 [==============================] - 1s 226ms/step - loss: 0.0013 - mae: 0.0288 - val_loss: 0.0035 - val_mae: 0.0461\n",
      "Epoch 516/1000\n",
      "5/5 [==============================] - 1s 221ms/step - loss: 0.0012 - mae: 0.0273 - val_loss: 0.0035 - val_mae: 0.0465\n",
      "Epoch 517/1000\n",
      "5/5 [==============================] - 1s 220ms/step - loss: 0.0012 - mae: 0.0272 - val_loss: 0.0034 - val_mae: 0.0459\n",
      "Epoch 518/1000\n",
      "5/5 [==============================] - ETA: 0s - loss: 0.0011 - mae: 0.0261"
     ]
    },
    {
     "name": "stderr",
     "output_type": "stream",
     "text": [
      "WARNING:absl:Found untraced functions such as lstm_cell_layer_call_fn, lstm_cell_layer_call_and_return_conditional_losses while saving (showing 2 of 2). These functions will not be directly callable after loading.\n"
     ]
    },
    {
     "name": "stdout",
     "output_type": "stream",
     "text": [
      "INFO:tensorflow:Assets written to: C:\\Users\\PARK\\Documents\\LAB\\RNN vs LSTM\\FInal Example\\wandb\\run-20221016_041024-3d3hm2b9\\files\\model-best\\assets\n"
     ]
    },
    {
     "name": "stderr",
     "output_type": "stream",
     "text": [
      "INFO:tensorflow:Assets written to: C:\\Users\\PARK\\Documents\\LAB\\RNN vs LSTM\\FInal Example\\wandb\\run-20221016_041024-3d3hm2b9\\files\\model-best\\assets\n",
      "\u001b[34m\u001b[1mwandb\u001b[0m: Adding directory to artifact (C:\\Users\\PARK\\Documents\\LAB\\RNN vs LSTM\\FInal Example\\wandb\\run-20221016_041024-3d3hm2b9\\files\\model-best)... Done. 0.4s\n"
     ]
    },
    {
     "name": "stdout",
     "output_type": "stream",
     "text": [
      "5/5 [==============================] - 5s 1s/step - loss: 0.0011 - mae: 0.0261 - val_loss: 0.0034 - val_mae: 0.0449\n",
      "Epoch 519/1000\n",
      "5/5 [==============================] - 1s 233ms/step - loss: 0.0011 - mae: 0.0260 - val_loss: 0.0036 - val_mae: 0.0473\n",
      "Epoch 520/1000\n",
      "5/5 [==============================] - ETA: 0s - loss: 0.0013 - mae: 0.0288"
     ]
    },
    {
     "name": "stderr",
     "output_type": "stream",
     "text": [
      "WARNING:absl:Found untraced functions such as lstm_cell_layer_call_fn, lstm_cell_layer_call_and_return_conditional_losses while saving (showing 2 of 2). These functions will not be directly callable after loading.\n"
     ]
    },
    {
     "name": "stdout",
     "output_type": "stream",
     "text": [
      "INFO:tensorflow:Assets written to: C:\\Users\\PARK\\Documents\\LAB\\RNN vs LSTM\\FInal Example\\wandb\\run-20221016_041024-3d3hm2b9\\files\\model-best\\assets\n"
     ]
    },
    {
     "name": "stderr",
     "output_type": "stream",
     "text": [
      "INFO:tensorflow:Assets written to: C:\\Users\\PARK\\Documents\\LAB\\RNN vs LSTM\\FInal Example\\wandb\\run-20221016_041024-3d3hm2b9\\files\\model-best\\assets\n",
      "\u001b[34m\u001b[1mwandb\u001b[0m: Adding directory to artifact (C:\\Users\\PARK\\Documents\\LAB\\RNN vs LSTM\\FInal Example\\wandb\\run-20221016_041024-3d3hm2b9\\files\\model-best)... Done. 0.4s\n"
     ]
    },
    {
     "name": "stdout",
     "output_type": "stream",
     "text": [
      "5/5 [==============================] - 5s 1s/step - loss: 0.0013 - mae: 0.0288 - val_loss: 0.0034 - val_mae: 0.0451\n",
      "Epoch 521/1000\n",
      "5/5 [==============================] - 1s 228ms/step - loss: 0.0013 - mae: 0.0284 - val_loss: 0.0037 - val_mae: 0.0466\n",
      "Epoch 522/1000\n",
      "5/5 [==============================] - 1s 221ms/step - loss: 0.0012 - mae: 0.0272 - val_loss: 0.0035 - val_mae: 0.0460\n",
      "Epoch 523/1000\n",
      "5/5 [==============================] - 1s 220ms/step - loss: 0.0011 - mae: 0.0265 - val_loss: 0.0034 - val_mae: 0.0453\n",
      "Epoch 524/1000\n",
      "5/5 [==============================] - 1s 218ms/step - loss: 0.0011 - mae: 0.0264 - val_loss: 0.0035 - val_mae: 0.0474\n",
      "Epoch 525/1000\n",
      "5/5 [==============================] - ETA: 0s - loss: 0.0011 - mae: 0.0270"
     ]
    },
    {
     "name": "stderr",
     "output_type": "stream",
     "text": [
      "WARNING:absl:Found untraced functions such as lstm_cell_layer_call_fn, lstm_cell_layer_call_and_return_conditional_losses while saving (showing 2 of 2). These functions will not be directly callable after loading.\n"
     ]
    },
    {
     "name": "stdout",
     "output_type": "stream",
     "text": [
      "INFO:tensorflow:Assets written to: C:\\Users\\PARK\\Documents\\LAB\\RNN vs LSTM\\FInal Example\\wandb\\run-20221016_041024-3d3hm2b9\\files\\model-best\\assets\n"
     ]
    },
    {
     "name": "stderr",
     "output_type": "stream",
     "text": [
      "INFO:tensorflow:Assets written to: C:\\Users\\PARK\\Documents\\LAB\\RNN vs LSTM\\FInal Example\\wandb\\run-20221016_041024-3d3hm2b9\\files\\model-best\\assets\n",
      "\u001b[34m\u001b[1mwandb\u001b[0m: Adding directory to artifact (C:\\Users\\PARK\\Documents\\LAB\\RNN vs LSTM\\FInal Example\\wandb\\run-20221016_041024-3d3hm2b9\\files\\model-best)... Done. 0.4s\n"
     ]
    },
    {
     "name": "stdout",
     "output_type": "stream",
     "text": [
      "5/5 [==============================] - 5s 1s/step - loss: 0.0011 - mae: 0.0270 - val_loss: 0.0034 - val_mae: 0.0450\n",
      "Epoch 526/1000\n",
      "5/5 [==============================] - 1s 241ms/step - loss: 0.0011 - mae: 0.0267 - val_loss: 0.0038 - val_mae: 0.0487\n",
      "Epoch 527/1000\n",
      "5/5 [==============================] - ETA: 0s - loss: 0.0012 - mae: 0.0273"
     ]
    },
    {
     "name": "stderr",
     "output_type": "stream",
     "text": [
      "WARNING:absl:Found untraced functions such as lstm_cell_layer_call_fn, lstm_cell_layer_call_and_return_conditional_losses while saving (showing 2 of 2). These functions will not be directly callable after loading.\n"
     ]
    },
    {
     "name": "stdout",
     "output_type": "stream",
     "text": [
      "INFO:tensorflow:Assets written to: C:\\Users\\PARK\\Documents\\LAB\\RNN vs LSTM\\FInal Example\\wandb\\run-20221016_041024-3d3hm2b9\\files\\model-best\\assets\n"
     ]
    },
    {
     "name": "stderr",
     "output_type": "stream",
     "text": [
      "INFO:tensorflow:Assets written to: C:\\Users\\PARK\\Documents\\LAB\\RNN vs LSTM\\FInal Example\\wandb\\run-20221016_041024-3d3hm2b9\\files\\model-best\\assets\n",
      "\u001b[34m\u001b[1mwandb\u001b[0m: Adding directory to artifact (C:\\Users\\PARK\\Documents\\LAB\\RNN vs LSTM\\FInal Example\\wandb\\run-20221016_041024-3d3hm2b9\\files\\model-best)... Done. 0.4s\n"
     ]
    },
    {
     "name": "stdout",
     "output_type": "stream",
     "text": [
      "5/5 [==============================] - 5s 1s/step - loss: 0.0012 - mae: 0.0273 - val_loss: 0.0032 - val_mae: 0.0436\n",
      "Epoch 528/1000\n",
      "5/5 [==============================] - 1s 219ms/step - loss: 0.0011 - mae: 0.0259 - val_loss: 0.0034 - val_mae: 0.0454\n",
      "Epoch 529/1000\n",
      "5/5 [==============================] - 1s 218ms/step - loss: 0.0010 - mae: 0.0255 - val_loss: 0.0034 - val_mae: 0.0454\n",
      "Epoch 530/1000\n",
      "5/5 [==============================] - 1s 216ms/step - loss: 0.0011 - mae: 0.0262 - val_loss: 0.0033 - val_mae: 0.0451\n",
      "Epoch 531/1000\n",
      "5/5 [==============================] - 1s 220ms/step - loss: 0.0012 - mae: 0.0278 - val_loss: 0.0038 - val_mae: 0.0491\n",
      "Epoch 532/1000\n",
      "5/5 [==============================] - 1s 216ms/step - loss: 0.0012 - mae: 0.0277 - val_loss: 0.0038 - val_mae: 0.0473\n",
      "Epoch 533/1000\n",
      "5/5 [==============================] - 1s 220ms/step - loss: 0.0013 - mae: 0.0284 - val_loss: 0.0037 - val_mae: 0.0480\n",
      "Epoch 534/1000\n",
      "5/5 [==============================] - 1s 219ms/step - loss: 0.0012 - mae: 0.0277 - val_loss: 0.0035 - val_mae: 0.0452\n",
      "Epoch 535/1000\n",
      "5/5 [==============================] - 1s 220ms/step - loss: 0.0012 - mae: 0.0274 - val_loss: 0.0033 - val_mae: 0.0439\n",
      "Epoch 536/1000\n",
      "5/5 [==============================] - 1s 219ms/step - loss: 0.0010 - mae: 0.0254 - val_loss: 0.0035 - val_mae: 0.0464\n",
      "Epoch 537/1000\n",
      "5/5 [==============================] - 1s 219ms/step - loss: 0.0011 - mae: 0.0265 - val_loss: 0.0036 - val_mae: 0.0462\n",
      "Epoch 538/1000\n",
      "5/5 [==============================] - 1s 219ms/step - loss: 0.0013 - mae: 0.0287 - val_loss: 0.0038 - val_mae: 0.0490\n",
      "Epoch 539/1000\n",
      "5/5 [==============================] - 1s 219ms/step - loss: 0.0015 - mae: 0.0313 - val_loss: 0.0038 - val_mae: 0.0474\n",
      "Epoch 540/1000\n",
      "5/5 [==============================] - 1s 218ms/step - loss: 0.0024 - mae: 0.0391 - val_loss: 0.0044 - val_mae: 0.0511\n",
      "Epoch 541/1000\n",
      "5/5 [==============================] - 1s 219ms/step - loss: 0.0021 - mae: 0.0358 - val_loss: 0.0041 - val_mae: 0.0498\n",
      "Epoch 542/1000\n",
      "5/5 [==============================] - 1s 219ms/step - loss: 0.0021 - mae: 0.0362 - val_loss: 0.0044 - val_mae: 0.0510\n",
      "Epoch 543/1000\n",
      "5/5 [==============================] - 1s 219ms/step - loss: 0.0025 - mae: 0.0400 - val_loss: 0.0042 - val_mae: 0.0520\n",
      "Epoch 544/1000\n",
      "5/5 [==============================] - 1s 218ms/step - loss: 0.0015 - mae: 0.0311 - val_loss: 0.0040 - val_mae: 0.0487\n",
      "Epoch 545/1000\n",
      "5/5 [==============================] - 1s 219ms/step - loss: 0.0016 - mae: 0.0320 - val_loss: 0.0038 - val_mae: 0.0487\n",
      "Epoch 546/1000\n",
      "5/5 [==============================] - 1s 219ms/step - loss: 0.0018 - mae: 0.0341 - val_loss: 0.0039 - val_mae: 0.0485\n",
      "Epoch 547/1000\n",
      "5/5 [==============================] - 1s 219ms/step - loss: 0.0017 - mae: 0.0329 - val_loss: 0.0037 - val_mae: 0.0471\n",
      "Epoch 548/1000\n",
      "5/5 [==============================] - 1s 221ms/step - loss: 0.0015 - mae: 0.0313 - val_loss: 0.0041 - val_mae: 0.0495\n",
      "Epoch 549/1000\n",
      "5/5 [==============================] - 1s 219ms/step - loss: 0.0027 - mae: 0.0418 - val_loss: 0.0037 - val_mae: 0.0470\n",
      "Epoch 550/1000\n",
      "5/5 [==============================] - 1s 220ms/step - loss: 0.0020 - mae: 0.0349 - val_loss: 0.0048 - val_mae: 0.0541\n",
      "Epoch 551/1000\n",
      "5/5 [==============================] - 1s 222ms/step - loss: 0.0030 - mae: 0.0429 - val_loss: 0.0045 - val_mae: 0.0516\n",
      "Epoch 552/1000\n",
      "5/5 [==============================] - 1s 221ms/step - loss: 0.0045 - mae: 0.0547 - val_loss: 0.0066 - val_mae: 0.0630\n",
      "Epoch 553/1000\n",
      "5/5 [==============================] - 1s 222ms/step - loss: 0.0054 - mae: 0.0591 - val_loss: 0.0099 - val_mae: 0.0816\n",
      "Epoch 554/1000\n",
      "5/5 [==============================] - 1s 219ms/step - loss: 0.0056 - mae: 0.0607 - val_loss: 0.0076 - val_mae: 0.0689\n",
      "Epoch 555/1000\n",
      "5/5 [==============================] - 1s 223ms/step - loss: 0.0036 - mae: 0.0488 - val_loss: 0.0051 - val_mae: 0.0560\n",
      "Epoch 556/1000\n",
      "5/5 [==============================] - 1s 218ms/step - loss: 0.0020 - mae: 0.0356 - val_loss: 0.0046 - val_mae: 0.0521\n",
      "Epoch 557/1000\n",
      "5/5 [==============================] - 1s 218ms/step - loss: 0.0021 - mae: 0.0369 - val_loss: 0.0052 - val_mae: 0.0568\n",
      "Epoch 558/1000\n",
      "5/5 [==============================] - 1s 218ms/step - loss: 0.0020 - mae: 0.0350 - val_loss: 0.0050 - val_mae: 0.0551\n",
      "Epoch 559/1000\n",
      "5/5 [==============================] - 1s 220ms/step - loss: 0.0016 - mae: 0.0318 - val_loss: 0.0037 - val_mae: 0.0475\n",
      "Epoch 560/1000\n",
      "5/5 [==============================] - 1s 219ms/step - loss: 0.0013 - mae: 0.0286 - val_loss: 0.0036 - val_mae: 0.0465\n",
      "Epoch 561/1000\n",
      "5/5 [==============================] - 1s 218ms/step - loss: 0.0012 - mae: 0.0277 - val_loss: 0.0035 - val_mae: 0.0464\n",
      "Epoch 562/1000\n",
      "5/5 [==============================] - 1s 219ms/step - loss: 0.0012 - mae: 0.0276 - val_loss: 0.0033 - val_mae: 0.0448\n",
      "Epoch 563/1000\n",
      "5/5 [==============================] - 1s 221ms/step - loss: 0.0011 - mae: 0.0256 - val_loss: 0.0035 - val_mae: 0.0457\n",
      "Epoch 564/1000\n",
      "5/5 [==============================] - 1s 221ms/step - loss: 0.0010 - mae: 0.0253 - val_loss: 0.0034 - val_mae: 0.0456\n",
      "Epoch 565/1000\n",
      "5/5 [==============================] - 1s 218ms/step - loss: 9.7878e-04 - mae: 0.0246 - val_loss: 0.0035 - val_mae: 0.0461\n",
      "Epoch 566/1000\n",
      "5/5 [==============================] - 1s 217ms/step - loss: 9.2882e-04 - mae: 0.0241 - val_loss: 0.0033 - val_mae: 0.0443\n",
      "Epoch 567/1000\n",
      "5/5 [==============================] - 1s 223ms/step - loss: 9.0984e-04 - mae: 0.0239 - val_loss: 0.0034 - val_mae: 0.0453\n",
      "Epoch 568/1000\n",
      "5/5 [==============================] - 1s 219ms/step - loss: 8.4446e-04 - mae: 0.0230 - val_loss: 0.0033 - val_mae: 0.0446\n",
      "Epoch 569/1000\n",
      "5/5 [==============================] - 1s 221ms/step - loss: 8.5459e-04 - mae: 0.0230 - val_loss: 0.0035 - val_mae: 0.0453\n",
      "Epoch 570/1000\n",
      "5/5 [==============================] - 1s 219ms/step - loss: 8.9101e-04 - mae: 0.0235 - val_loss: 0.0033 - val_mae: 0.0448\n",
      "Epoch 571/1000\n",
      "5/5 [==============================] - 1s 218ms/step - loss: 8.9038e-04 - mae: 0.0235 - val_loss: 0.0033 - val_mae: 0.0443\n",
      "Epoch 572/1000\n",
      "5/5 [==============================] - 1s 218ms/step - loss: 8.3738e-04 - mae: 0.0228 - val_loss: 0.0032 - val_mae: 0.0438\n",
      "Epoch 573/1000\n",
      "5/5 [==============================] - 1s 218ms/step - loss: 8.4031e-04 - mae: 0.0229 - val_loss: 0.0033 - val_mae: 0.0451\n",
      "Epoch 574/1000\n",
      "5/5 [==============================] - 1s 216ms/step - loss: 8.8285e-04 - mae: 0.0234 - val_loss: 0.0035 - val_mae: 0.0457\n",
      "Epoch 575/1000\n",
      "5/5 [==============================] - 1s 216ms/step - loss: 9.8903e-04 - mae: 0.0248 - val_loss: 0.0037 - val_mae: 0.0480\n",
      "Epoch 576/1000\n",
      "5/5 [==============================] - 1s 215ms/step - loss: 0.0010 - mae: 0.0256 - val_loss: 0.0039 - val_mae: 0.0489\n",
      "Epoch 577/1000\n",
      "5/5 [==============================] - 1s 218ms/step - loss: 0.0012 - mae: 0.0278 - val_loss: 0.0037 - val_mae: 0.0473\n",
      "Epoch 578/1000\n",
      "5/5 [==============================] - 1s 217ms/step - loss: 0.0011 - mae: 0.0258 - val_loss: 0.0038 - val_mae: 0.0471\n",
      "Epoch 579/1000\n",
      "5/5 [==============================] - 1s 215ms/step - loss: 0.0012 - mae: 0.0273 - val_loss: 0.0049 - val_mae: 0.0557\n",
      "Epoch 580/1000\n",
      "5/5 [==============================] - 1s 217ms/step - loss: 0.0015 - mae: 0.0305 - val_loss: 0.0038 - val_mae: 0.0470\n",
      "Epoch 581/1000\n",
      "5/5 [==============================] - 1s 218ms/step - loss: 0.0011 - mae: 0.0268 - val_loss: 0.0034 - val_mae: 0.0457\n",
      "Epoch 582/1000\n",
      "5/5 [==============================] - 1s 219ms/step - loss: 9.5272e-04 - mae: 0.0244 - val_loss: 0.0033 - val_mae: 0.0443\n",
      "Epoch 583/1000\n",
      "5/5 [==============================] - 1s 216ms/step - loss: 9.6331e-04 - mae: 0.0242 - val_loss: 0.0037 - val_mae: 0.0487\n",
      "Epoch 584/1000\n",
      "5/5 [==============================] - 1s 218ms/step - loss: 9.7203e-04 - mae: 0.0245 - val_loss: 0.0034 - val_mae: 0.0448\n",
      "Epoch 585/1000\n",
      "5/5 [==============================] - 1s 218ms/step - loss: 9.8658e-04 - mae: 0.0249 - val_loss: 0.0033 - val_mae: 0.0450\n",
      "Epoch 586/1000\n",
      "5/5 [==============================] - 1s 220ms/step - loss: 8.7218e-04 - mae: 0.0234 - val_loss: 0.0033 - val_mae: 0.0445\n",
      "Epoch 587/1000\n",
      "5/5 [==============================] - 1s 220ms/step - loss: 7.9228e-04 - mae: 0.0222 - val_loss: 0.0033 - val_mae: 0.0439\n"
     ]
    },
    {
     "name": "stdout",
     "output_type": "stream",
     "text": [
      "Epoch 588/1000\n",
      "5/5 [==============================] - 1s 219ms/step - loss: 8.0713e-04 - mae: 0.0223 - val_loss: 0.0033 - val_mae: 0.0449\n",
      "Epoch 589/1000\n",
      "5/5 [==============================] - 1s 220ms/step - loss: 8.9857e-04 - mae: 0.0237 - val_loss: 0.0035 - val_mae: 0.0457\n",
      "Epoch 590/1000\n",
      "5/5 [==============================] - 1s 218ms/step - loss: 9.9509e-04 - mae: 0.0249 - val_loss: 0.0034 - val_mae: 0.0459\n",
      "Epoch 591/1000\n",
      "5/5 [==============================] - 1s 217ms/step - loss: 0.0010 - mae: 0.0250 - val_loss: 0.0034 - val_mae: 0.0452\n",
      "Epoch 592/1000\n",
      "5/5 [==============================] - 1s 217ms/step - loss: 0.0012 - mae: 0.0271 - val_loss: 0.0035 - val_mae: 0.0453\n",
      "Epoch 593/1000\n",
      "5/5 [==============================] - 1s 218ms/step - loss: 0.0010 - mae: 0.0251 - val_loss: 0.0038 - val_mae: 0.0490\n",
      "Epoch 594/1000\n",
      "5/5 [==============================] - 1s 218ms/step - loss: 0.0010 - mae: 0.0253 - val_loss: 0.0035 - val_mae: 0.0457\n",
      "Epoch 595/1000\n",
      "5/5 [==============================] - 1s 221ms/step - loss: 9.3907e-04 - mae: 0.0243 - val_loss: 0.0036 - val_mae: 0.0470\n",
      "Epoch 596/1000\n",
      "5/5 [==============================] - 1s 221ms/step - loss: 9.6158e-04 - mae: 0.0243 - val_loss: 0.0035 - val_mae: 0.0452\n",
      "Epoch 597/1000\n",
      "5/5 [==============================] - 1s 221ms/step - loss: 0.0010 - mae: 0.0251 - val_loss: 0.0039 - val_mae: 0.0495\n",
      "Epoch 598/1000\n",
      "5/5 [==============================] - 1s 218ms/step - loss: 0.0011 - mae: 0.0267 - val_loss: 0.0033 - val_mae: 0.0444\n",
      "Epoch 599/1000\n",
      "5/5 [==============================] - 1s 217ms/step - loss: 8.6072e-04 - mae: 0.0232 - val_loss: 0.0034 - val_mae: 0.0453\n",
      "Epoch 600/1000\n",
      "5/5 [==============================] - 1s 219ms/step - loss: 8.4300e-04 - mae: 0.0229 - val_loss: 0.0033 - val_mae: 0.0445\n",
      "Epoch 601/1000\n",
      "5/5 [==============================] - ETA: 0s - loss: 9.1894e-04 - mae: 0.0240"
     ]
    },
    {
     "name": "stderr",
     "output_type": "stream",
     "text": [
      "WARNING:absl:Found untraced functions such as lstm_cell_layer_call_fn, lstm_cell_layer_call_and_return_conditional_losses while saving (showing 2 of 2). These functions will not be directly callable after loading.\n"
     ]
    },
    {
     "name": "stdout",
     "output_type": "stream",
     "text": [
      "INFO:tensorflow:Assets written to: C:\\Users\\PARK\\Documents\\LAB\\RNN vs LSTM\\FInal Example\\wandb\\run-20221016_041024-3d3hm2b9\\files\\model-best\\assets\n"
     ]
    },
    {
     "name": "stderr",
     "output_type": "stream",
     "text": [
      "INFO:tensorflow:Assets written to: C:\\Users\\PARK\\Documents\\LAB\\RNN vs LSTM\\FInal Example\\wandb\\run-20221016_041024-3d3hm2b9\\files\\model-best\\assets\n",
      "\u001b[34m\u001b[1mwandb\u001b[0m: Adding directory to artifact (C:\\Users\\PARK\\Documents\\LAB\\RNN vs LSTM\\FInal Example\\wandb\\run-20221016_041024-3d3hm2b9\\files\\model-best)... Done. 0.4s\n"
     ]
    },
    {
     "name": "stdout",
     "output_type": "stream",
     "text": [
      "5/5 [==============================] - 5s 1s/step - loss: 9.1894e-04 - mae: 0.0240 - val_loss: 0.0032 - val_mae: 0.0436\n",
      "Epoch 602/1000\n",
      "5/5 [==============================] - 1s 221ms/step - loss: 8.2981e-04 - mae: 0.0226 - val_loss: 0.0032 - val_mae: 0.0442\n",
      "Epoch 603/1000\n",
      "5/5 [==============================] - ETA: 0s - loss: 8.1409e-04 - mae: 0.0225"
     ]
    },
    {
     "name": "stderr",
     "output_type": "stream",
     "text": [
      "WARNING:absl:Found untraced functions such as lstm_cell_layer_call_fn, lstm_cell_layer_call_and_return_conditional_losses while saving (showing 2 of 2). These functions will not be directly callable after loading.\n"
     ]
    },
    {
     "name": "stdout",
     "output_type": "stream",
     "text": [
      "INFO:tensorflow:Assets written to: C:\\Users\\PARK\\Documents\\LAB\\RNN vs LSTM\\FInal Example\\wandb\\run-20221016_041024-3d3hm2b9\\files\\model-best\\assets\n"
     ]
    },
    {
     "name": "stderr",
     "output_type": "stream",
     "text": [
      "INFO:tensorflow:Assets written to: C:\\Users\\PARK\\Documents\\LAB\\RNN vs LSTM\\FInal Example\\wandb\\run-20221016_041024-3d3hm2b9\\files\\model-best\\assets\n",
      "\u001b[34m\u001b[1mwandb\u001b[0m: Adding directory to artifact (C:\\Users\\PARK\\Documents\\LAB\\RNN vs LSTM\\FInal Example\\wandb\\run-20221016_041024-3d3hm2b9\\files\\model-best)... Done. 0.4s\n"
     ]
    },
    {
     "name": "stdout",
     "output_type": "stream",
     "text": [
      "5/5 [==============================] - 5s 1s/step - loss: 8.1409e-04 - mae: 0.0225 - val_loss: 0.0032 - val_mae: 0.0436\n",
      "Epoch 604/1000\n",
      "5/5 [==============================] - 1s 230ms/step - loss: 7.7572e-04 - mae: 0.0221 - val_loss: 0.0033 - val_mae: 0.0443\n",
      "Epoch 605/1000\n",
      "5/5 [==============================] - 1s 219ms/step - loss: 9.1367e-04 - mae: 0.0240 - val_loss: 0.0033 - val_mae: 0.0439\n",
      "Epoch 606/1000\n",
      "5/5 [==============================] - 1s 220ms/step - loss: 7.8103e-04 - mae: 0.0220 - val_loss: 0.0034 - val_mae: 0.0460\n",
      "Epoch 607/1000\n",
      "5/5 [==============================] - 1s 218ms/step - loss: 8.1868e-04 - mae: 0.0226 - val_loss: 0.0039 - val_mae: 0.0478\n",
      "Epoch 608/1000\n",
      "5/5 [==============================] - 1s 221ms/step - loss: 0.0011 - mae: 0.0260 - val_loss: 0.0032 - val_mae: 0.0440\n",
      "Epoch 609/1000\n",
      "5/5 [==============================] - 1s 218ms/step - loss: 7.4576e-04 - mae: 0.0215 - val_loss: 0.0032 - val_mae: 0.0438\n",
      "Epoch 610/1000\n",
      "5/5 [==============================] - 1s 221ms/step - loss: 7.5460e-04 - mae: 0.0217 - val_loss: 0.0033 - val_mae: 0.0444\n",
      "Epoch 611/1000\n",
      "5/5 [==============================] - 1s 219ms/step - loss: 8.0374e-04 - mae: 0.0222 - val_loss: 0.0036 - val_mae: 0.0473\n",
      "Epoch 612/1000\n",
      "5/5 [==============================] - 1s 219ms/step - loss: 8.0146e-04 - mae: 0.0224 - val_loss: 0.0033 - val_mae: 0.0439\n",
      "Epoch 613/1000\n",
      "5/5 [==============================] - 1s 219ms/step - loss: 8.2970e-04 - mae: 0.0228 - val_loss: 0.0034 - val_mae: 0.0454\n",
      "Epoch 614/1000\n",
      "5/5 [==============================] - 1s 223ms/step - loss: 9.6675e-04 - mae: 0.0246 - val_loss: 0.0035 - val_mae: 0.0461\n",
      "Epoch 615/1000\n",
      "5/5 [==============================] - 1s 222ms/step - loss: 0.0011 - mae: 0.0259 - val_loss: 0.0060 - val_mae: 0.0605\n",
      "Epoch 616/1000\n",
      "5/5 [==============================] - 1s 223ms/step - loss: 0.0030 - mae: 0.0428 - val_loss: 0.0040 - val_mae: 0.0495\n",
      "Epoch 617/1000\n",
      "5/5 [==============================] - 1s 221ms/step - loss: 0.0017 - mae: 0.0325 - val_loss: 0.0040 - val_mae: 0.0495\n",
      "Epoch 618/1000\n",
      "5/5 [==============================] - 1s 220ms/step - loss: 0.0013 - mae: 0.0288 - val_loss: 0.0036 - val_mae: 0.0477\n",
      "Epoch 619/1000\n",
      "5/5 [==============================] - 1s 221ms/step - loss: 0.0013 - mae: 0.0281 - val_loss: 0.0042 - val_mae: 0.0498\n",
      "Epoch 620/1000\n",
      "5/5 [==============================] - 1s 222ms/step - loss: 0.0013 - mae: 0.0281 - val_loss: 0.0039 - val_mae: 0.0485\n",
      "Epoch 621/1000\n",
      "5/5 [==============================] - 1s 219ms/step - loss: 0.0014 - mae: 0.0293 - val_loss: 0.0037 - val_mae: 0.0474\n",
      "Epoch 622/1000\n",
      "5/5 [==============================] - 1s 224ms/step - loss: 0.0013 - mae: 0.0284 - val_loss: 0.0048 - val_mae: 0.0555\n",
      "Epoch 623/1000\n",
      "5/5 [==============================] - 1s 221ms/step - loss: 0.0014 - mae: 0.0296 - val_loss: 0.0043 - val_mae: 0.0513\n",
      "Epoch 624/1000\n",
      "5/5 [==============================] - 1s 224ms/step - loss: 0.0019 - mae: 0.0353 - val_loss: 0.0036 - val_mae: 0.0462\n",
      "Epoch 625/1000\n",
      "5/5 [==============================] - 1s 221ms/step - loss: 0.0011 - mae: 0.0260 - val_loss: 0.0036 - val_mae: 0.0467\n",
      "Epoch 626/1000\n",
      "5/5 [==============================] - 1s 223ms/step - loss: 0.0012 - mae: 0.0274 - val_loss: 0.0040 - val_mae: 0.0482\n",
      "Epoch 627/1000\n",
      "5/5 [==============================] - 1s 220ms/step - loss: 0.0011 - mae: 0.0262 - val_loss: 0.0040 - val_mae: 0.0505\n",
      "Epoch 628/1000\n",
      "5/5 [==============================] - 1s 220ms/step - loss: 0.0010 - mae: 0.0254 - val_loss: 0.0037 - val_mae: 0.0465\n",
      "Epoch 629/1000\n",
      "5/5 [==============================] - 1s 218ms/step - loss: 9.8788e-04 - mae: 0.0250 - val_loss: 0.0036 - val_mae: 0.0467\n",
      "Epoch 630/1000\n",
      "5/5 [==============================] - 1s 219ms/step - loss: 9.3827e-04 - mae: 0.0242 - val_loss: 0.0032 - val_mae: 0.0437\n",
      "Epoch 631/1000\n",
      "5/5 [==============================] - 1s 217ms/step - loss: 7.8964e-04 - mae: 0.0220 - val_loss: 0.0034 - val_mae: 0.0450\n",
      "Epoch 632/1000\n",
      "5/5 [==============================] - 1s 220ms/step - loss: 0.0011 - mae: 0.0271 - val_loss: 0.0038 - val_mae: 0.0476\n",
      "Epoch 633/1000\n",
      "5/5 [==============================] - 1s 217ms/step - loss: 0.0011 - mae: 0.0260 - val_loss: 0.0036 - val_mae: 0.0469\n",
      "Epoch 634/1000\n",
      "5/5 [==============================] - 1s 218ms/step - loss: 8.8090e-04 - mae: 0.0235 - val_loss: 0.0039 - val_mae: 0.0488\n",
      "Epoch 635/1000\n",
      "5/5 [==============================] - 1s 218ms/step - loss: 9.3257e-04 - mae: 0.0243 - val_loss: 0.0040 - val_mae: 0.0490\n",
      "Epoch 636/1000\n",
      "5/5 [==============================] - 1s 218ms/step - loss: 9.8814e-04 - mae: 0.0249 - val_loss: 0.0039 - val_mae: 0.0487\n",
      "Epoch 637/1000\n",
      "5/5 [==============================] - 1s 219ms/step - loss: 9.1448e-04 - mae: 0.0239 - val_loss: 0.0033 - val_mae: 0.0443\n",
      "Epoch 638/1000\n",
      "5/5 [==============================] - 1s 221ms/step - loss: 7.5298e-04 - mae: 0.0215 - val_loss: 0.0034 - val_mae: 0.0450\n",
      "Epoch 639/1000\n",
      "5/5 [==============================] - 1s 218ms/step - loss: 7.3482e-04 - mae: 0.0212 - val_loss: 0.0034 - val_mae: 0.0448\n",
      "Epoch 640/1000\n",
      "5/5 [==============================] - 1s 221ms/step - loss: 6.7814e-04 - mae: 0.0205 - val_loss: 0.0032 - val_mae: 0.0441\n",
      "Epoch 641/1000\n",
      "5/5 [==============================] - 1s 219ms/step - loss: 6.7441e-04 - mae: 0.0204 - val_loss: 0.0033 - val_mae: 0.0443\n",
      "Epoch 642/1000\n",
      "5/5 [==============================] - 1s 220ms/step - loss: 7.3391e-04 - mae: 0.0213 - val_loss: 0.0038 - val_mae: 0.0486\n",
      "Epoch 643/1000\n",
      "5/5 [==============================] - 1s 218ms/step - loss: 7.9957e-04 - mae: 0.0224 - val_loss: 0.0034 - val_mae: 0.0447\n",
      "Epoch 644/1000\n",
      "5/5 [==============================] - 1s 220ms/step - loss: 7.0054e-04 - mae: 0.0208 - val_loss: 0.0034 - val_mae: 0.0458\n",
      "Epoch 645/1000\n",
      "5/5 [==============================] - ETA: 0s - loss: 6.6384e-04 - mae: 0.0202"
     ]
    },
    {
     "name": "stderr",
     "output_type": "stream",
     "text": [
      "WARNING:absl:Found untraced functions such as lstm_cell_layer_call_fn, lstm_cell_layer_call_and_return_conditional_losses while saving (showing 2 of 2). These functions will not be directly callable after loading.\n"
     ]
    },
    {
     "name": "stdout",
     "output_type": "stream",
     "text": [
      "INFO:tensorflow:Assets written to: C:\\Users\\PARK\\Documents\\LAB\\RNN vs LSTM\\FInal Example\\wandb\\run-20221016_041024-3d3hm2b9\\files\\model-best\\assets\n"
     ]
    },
    {
     "name": "stderr",
     "output_type": "stream",
     "text": [
      "INFO:tensorflow:Assets written to: C:\\Users\\PARK\\Documents\\LAB\\RNN vs LSTM\\FInal Example\\wandb\\run-20221016_041024-3d3hm2b9\\files\\model-best\\assets\n",
      "\u001b[34m\u001b[1mwandb\u001b[0m: Adding directory to artifact (C:\\Users\\PARK\\Documents\\LAB\\RNN vs LSTM\\FInal Example\\wandb\\run-20221016_041024-3d3hm2b9\\files\\model-best)... Done. 0.4s\n"
     ]
    },
    {
     "name": "stdout",
     "output_type": "stream",
     "text": [
      "5/5 [==============================] - 5s 1s/step - loss: 6.6384e-04 - mae: 0.0202 - val_loss: 0.0032 - val_mae: 0.0431\n",
      "Epoch 646/1000\n",
      "5/5 [==============================] - 1s 221ms/step - loss: 6.1053e-04 - mae: 0.0193 - val_loss: 0.0033 - val_mae: 0.0443\n",
      "Epoch 647/1000\n",
      "5/5 [==============================] - 1s 215ms/step - loss: 6.0644e-04 - mae: 0.0191 - val_loss: 0.0032 - val_mae: 0.0440\n",
      "Epoch 648/1000\n",
      "5/5 [==============================] - 1s 217ms/step - loss: 6.0174e-04 - mae: 0.0192 - val_loss: 0.0033 - val_mae: 0.0441\n",
      "Epoch 649/1000\n",
      "5/5 [==============================] - 1s 217ms/step - loss: 6.1814e-04 - mae: 0.0195 - val_loss: 0.0032 - val_mae: 0.0435\n",
      "Epoch 650/1000\n",
      "5/5 [==============================] - 1s 218ms/step - loss: 6.2483e-04 - mae: 0.0196 - val_loss: 0.0032 - val_mae: 0.0437\n",
      "Epoch 651/1000\n",
      "5/5 [==============================] - 1s 219ms/step - loss: 6.9237e-04 - mae: 0.0207 - val_loss: 0.0037 - val_mae: 0.0478\n",
      "Epoch 652/1000\n",
      "5/5 [==============================] - 1s 219ms/step - loss: 8.0565e-04 - mae: 0.0224 - val_loss: 0.0035 - val_mae: 0.0455\n",
      "Epoch 653/1000\n",
      "5/5 [==============================] - 1s 219ms/step - loss: 7.6074e-04 - mae: 0.0217 - val_loss: 0.0033 - val_mae: 0.0443\n",
      "Epoch 654/1000\n",
      "5/5 [==============================] - 1s 219ms/step - loss: 6.2559e-04 - mae: 0.0196 - val_loss: 0.0035 - val_mae: 0.0465\n",
      "Epoch 655/1000\n",
      "5/5 [==============================] - 1s 216ms/step - loss: 7.5583e-04 - mae: 0.0216 - val_loss: 0.0033 - val_mae: 0.0441\n",
      "Epoch 656/1000\n",
      "5/5 [==============================] - 1s 219ms/step - loss: 7.1326e-04 - mae: 0.0210 - val_loss: 0.0033 - val_mae: 0.0446\n",
      "Epoch 657/1000\n",
      "5/5 [==============================] - ETA: 0s - loss: 6.4149e-04 - mae: 0.0199"
     ]
    },
    {
     "name": "stderr",
     "output_type": "stream",
     "text": [
      "WARNING:absl:Found untraced functions such as lstm_cell_layer_call_fn, lstm_cell_layer_call_and_return_conditional_losses while saving (showing 2 of 2). These functions will not be directly callable after loading.\n"
     ]
    },
    {
     "name": "stdout",
     "output_type": "stream",
     "text": [
      "INFO:tensorflow:Assets written to: C:\\Users\\PARK\\Documents\\LAB\\RNN vs LSTM\\FInal Example\\wandb\\run-20221016_041024-3d3hm2b9\\files\\model-best\\assets\n"
     ]
    },
    {
     "name": "stderr",
     "output_type": "stream",
     "text": [
      "INFO:tensorflow:Assets written to: C:\\Users\\PARK\\Documents\\LAB\\RNN vs LSTM\\FInal Example\\wandb\\run-20221016_041024-3d3hm2b9\\files\\model-best\\assets\n",
      "\u001b[34m\u001b[1mwandb\u001b[0m: Adding directory to artifact (C:\\Users\\PARK\\Documents\\LAB\\RNN vs LSTM\\FInal Example\\wandb\\run-20221016_041024-3d3hm2b9\\files\\model-best)... Done. 0.4s\n"
     ]
    },
    {
     "name": "stdout",
     "output_type": "stream",
     "text": [
      "5/5 [==============================] - 5s 1s/step - loss: 6.4149e-04 - mae: 0.0199 - val_loss: 0.0032 - val_mae: 0.0433\n",
      "Epoch 658/1000\n",
      "5/5 [==============================] - 1s 226ms/step - loss: 6.3862e-04 - mae: 0.0199 - val_loss: 0.0035 - val_mae: 0.0458\n",
      "Epoch 659/1000\n",
      "5/5 [==============================] - 1s 217ms/step - loss: 6.8530e-04 - mae: 0.0207 - val_loss: 0.0034 - val_mae: 0.0448\n",
      "Epoch 660/1000\n",
      "5/5 [==============================] - 1s 219ms/step - loss: 6.8045e-04 - mae: 0.0207 - val_loss: 0.0036 - val_mae: 0.0463\n",
      "Epoch 661/1000\n",
      "5/5 [==============================] - 1s 218ms/step - loss: 7.1767e-04 - mae: 0.0212 - val_loss: 0.0037 - val_mae: 0.0475\n",
      "Epoch 662/1000\n",
      "5/5 [==============================] - 1s 220ms/step - loss: 7.5270e-04 - mae: 0.0216 - val_loss: 0.0035 - val_mae: 0.0454\n",
      "Epoch 663/1000\n",
      "5/5 [==============================] - 1s 216ms/step - loss: 7.4496e-04 - mae: 0.0215 - val_loss: 0.0033 - val_mae: 0.0442\n",
      "Epoch 664/1000\n",
      "5/5 [==============================] - 1s 221ms/step - loss: 7.7320e-04 - mae: 0.0219 - val_loss: 0.0034 - val_mae: 0.0449\n",
      "Epoch 665/1000\n",
      "5/5 [==============================] - 1s 218ms/step - loss: 6.6219e-04 - mae: 0.0204 - val_loss: 0.0033 - val_mae: 0.0442\n",
      "Epoch 666/1000\n",
      "5/5 [==============================] - 1s 219ms/step - loss: 6.2112e-04 - mae: 0.0194 - val_loss: 0.0033 - val_mae: 0.0436\n",
      "Epoch 667/1000\n",
      "5/5 [==============================] - 1s 218ms/step - loss: 6.1686e-04 - mae: 0.0196 - val_loss: 0.0033 - val_mae: 0.0439\n",
      "Epoch 668/1000\n",
      "5/5 [==============================] - 1s 220ms/step - loss: 5.6690e-04 - mae: 0.0187 - val_loss: 0.0033 - val_mae: 0.0442\n",
      "Epoch 669/1000\n",
      "5/5 [==============================] - 1s 217ms/step - loss: 6.1341e-04 - mae: 0.0195 - val_loss: 0.0033 - val_mae: 0.0446\n",
      "Epoch 670/1000\n",
      "5/5 [==============================] - 1s 220ms/step - loss: 5.9596e-04 - mae: 0.0192 - val_loss: 0.0033 - val_mae: 0.0437\n",
      "Epoch 671/1000\n",
      "5/5 [==============================] - 1s 217ms/step - loss: 5.7621e-04 - mae: 0.0188 - val_loss: 0.0033 - val_mae: 0.0442\n",
      "Epoch 672/1000\n",
      "5/5 [==============================] - 1s 220ms/step - loss: 5.5696e-04 - mae: 0.0184 - val_loss: 0.0033 - val_mae: 0.0446\n",
      "Epoch 673/1000\n",
      "5/5 [==============================] - 1s 218ms/step - loss: 5.9775e-04 - mae: 0.0191 - val_loss: 0.0033 - val_mae: 0.0443\n",
      "Epoch 674/1000\n",
      "5/5 [==============================] - ETA: 0s - loss: 5.3042e-04 - mae: 0.0180"
     ]
    },
    {
     "name": "stderr",
     "output_type": "stream",
     "text": [
      "WARNING:absl:Found untraced functions such as lstm_cell_layer_call_fn, lstm_cell_layer_call_and_return_conditional_losses while saving (showing 2 of 2). These functions will not be directly callable after loading.\n"
     ]
    },
    {
     "name": "stdout",
     "output_type": "stream",
     "text": [
      "INFO:tensorflow:Assets written to: C:\\Users\\PARK\\Documents\\LAB\\RNN vs LSTM\\FInal Example\\wandb\\run-20221016_041024-3d3hm2b9\\files\\model-best\\assets\n"
     ]
    },
    {
     "name": "stderr",
     "output_type": "stream",
     "text": [
      "INFO:tensorflow:Assets written to: C:\\Users\\PARK\\Documents\\LAB\\RNN vs LSTM\\FInal Example\\wandb\\run-20221016_041024-3d3hm2b9\\files\\model-best\\assets\n",
      "\u001b[34m\u001b[1mwandb\u001b[0m: Adding directory to artifact (C:\\Users\\PARK\\Documents\\LAB\\RNN vs LSTM\\FInal Example\\wandb\\run-20221016_041024-3d3hm2b9\\files\\model-best)... Done. 0.4s\n"
     ]
    },
    {
     "name": "stdout",
     "output_type": "stream",
     "text": [
      "5/5 [==============================] - 5s 1s/step - loss: 5.3042e-04 - mae: 0.0180 - val_loss: 0.0031 - val_mae: 0.0428\n",
      "Epoch 675/1000\n",
      "5/5 [==============================] - 1s 226ms/step - loss: 5.5036e-04 - mae: 0.0185 - val_loss: 0.0033 - val_mae: 0.0445\n",
      "Epoch 676/1000\n",
      "5/5 [==============================] - 1s 223ms/step - loss: 6.2796e-04 - mae: 0.0196 - val_loss: 0.0034 - val_mae: 0.0455\n",
      "Epoch 677/1000\n",
      "5/5 [==============================] - 1s 220ms/step - loss: 6.6677e-04 - mae: 0.0204 - val_loss: 0.0034 - val_mae: 0.0451\n",
      "Epoch 678/1000\n",
      "5/5 [==============================] - 1s 220ms/step - loss: 6.5833e-04 - mae: 0.0200 - val_loss: 0.0034 - val_mae: 0.0445\n",
      "Epoch 679/1000\n",
      "5/5 [==============================] - 1s 219ms/step - loss: 7.5344e-04 - mae: 0.0216 - val_loss: 0.0036 - val_mae: 0.0469\n",
      "Epoch 680/1000\n",
      "5/5 [==============================] - 1s 219ms/step - loss: 7.4158e-04 - mae: 0.0215 - val_loss: 0.0032 - val_mae: 0.0443\n",
      "Epoch 681/1000\n",
      "5/5 [==============================] - 1s 218ms/step - loss: 6.2633e-04 - mae: 0.0199 - val_loss: 0.0034 - val_mae: 0.0449\n",
      "Epoch 682/1000\n",
      "5/5 [==============================] - 1s 221ms/step - loss: 6.0347e-04 - mae: 0.0194 - val_loss: 0.0034 - val_mae: 0.0448\n",
      "Epoch 683/1000\n",
      "5/5 [==============================] - 1s 216ms/step - loss: 5.9245e-04 - mae: 0.0190 - val_loss: 0.0033 - val_mae: 0.0444\n",
      "Epoch 684/1000\n",
      "5/5 [==============================] - 1s 220ms/step - loss: 5.6820e-04 - mae: 0.0188 - val_loss: 0.0033 - val_mae: 0.0442\n",
      "Epoch 685/1000\n",
      "5/5 [==============================] - 1s 220ms/step - loss: 5.7054e-04 - mae: 0.0189 - val_loss: 0.0033 - val_mae: 0.0446\n",
      "Epoch 686/1000\n",
      "5/5 [==============================] - 1s 218ms/step - loss: 5.7013e-04 - mae: 0.0187 - val_loss: 0.0032 - val_mae: 0.0433\n",
      "Epoch 687/1000\n",
      "5/5 [==============================] - 1s 218ms/step - loss: 5.9495e-04 - mae: 0.0190 - val_loss: 0.0033 - val_mae: 0.0449\n",
      "Epoch 688/1000\n",
      "5/5 [==============================] - 1s 220ms/step - loss: 7.1162e-04 - mae: 0.0209 - val_loss: 0.0037 - val_mae: 0.0482\n",
      "Epoch 689/1000\n",
      "5/5 [==============================] - 1s 219ms/step - loss: 6.8986e-04 - mae: 0.0208 - val_loss: 0.0034 - val_mae: 0.0456\n",
      "Epoch 690/1000\n",
      "5/5 [==============================] - 1s 219ms/step - loss: 6.0779e-04 - mae: 0.0196 - val_loss: 0.0032 - val_mae: 0.0439\n",
      "Epoch 691/1000\n",
      "5/5 [==============================] - 1s 217ms/step - loss: 5.4459e-04 - mae: 0.0183 - val_loss: 0.0033 - val_mae: 0.0443\n",
      "Epoch 692/1000\n",
      "5/5 [==============================] - 1s 218ms/step - loss: 5.6176e-04 - mae: 0.0186 - val_loss: 0.0033 - val_mae: 0.0440\n",
      "Epoch 693/1000\n",
      "5/5 [==============================] - 1s 222ms/step - loss: 5.3888e-04 - mae: 0.0182 - val_loss: 0.0033 - val_mae: 0.0446\n",
      "Epoch 694/1000\n",
      "5/5 [==============================] - 1s 222ms/step - loss: 5.3091e-04 - mae: 0.0181 - val_loss: 0.0032 - val_mae: 0.0431\n",
      "Epoch 695/1000\n",
      "5/5 [==============================] - 1s 220ms/step - loss: 5.6004e-04 - mae: 0.0186 - val_loss: 0.0033 - val_mae: 0.0444\n",
      "Epoch 696/1000\n",
      "5/5 [==============================] - 1s 221ms/step - loss: 5.3627e-04 - mae: 0.0182 - val_loss: 0.0032 - val_mae: 0.0439\n",
      "Epoch 697/1000\n",
      "5/5 [==============================] - 1s 219ms/step - loss: 5.2475e-04 - mae: 0.0179 - val_loss: 0.0033 - val_mae: 0.0440\n",
      "Epoch 698/1000\n",
      "5/5 [==============================] - 1s 221ms/step - loss: 4.7996e-04 - mae: 0.0171 - val_loss: 0.0032 - val_mae: 0.0437\n",
      "Epoch 699/1000\n",
      "5/5 [==============================] - 1s 222ms/step - loss: 4.6369e-04 - mae: 0.0169 - val_loss: 0.0032 - val_mae: 0.0431\n",
      "Epoch 700/1000\n",
      "5/5 [==============================] - 1s 219ms/step - loss: 4.7963e-04 - mae: 0.0172 - val_loss: 0.0034 - val_mae: 0.0453\n",
      "Epoch 701/1000\n",
      "5/5 [==============================] - 1s 216ms/step - loss: 5.5163e-04 - mae: 0.0183 - val_loss: 0.0032 - val_mae: 0.0436\n",
      "Epoch 702/1000\n",
      "5/5 [==============================] - 1s 217ms/step - loss: 5.0445e-04 - mae: 0.0176 - val_loss: 0.0034 - val_mae: 0.0445\n",
      "Epoch 703/1000\n",
      "5/5 [==============================] - 1s 218ms/step - loss: 5.9004e-04 - mae: 0.0190 - val_loss: 0.0033 - val_mae: 0.0446\n",
      "Epoch 704/1000\n",
      "5/5 [==============================] - 1s 220ms/step - loss: 5.0040e-04 - mae: 0.0175 - val_loss: 0.0032 - val_mae: 0.0434\n",
      "Epoch 705/1000\n",
      "5/5 [==============================] - 1s 216ms/step - loss: 5.5224e-04 - mae: 0.0185 - val_loss: 0.0040 - val_mae: 0.0505\n",
      "Epoch 706/1000\n",
      "5/5 [==============================] - 1s 218ms/step - loss: 8.9799e-04 - mae: 0.0236 - val_loss: 0.0034 - val_mae: 0.0461\n",
      "Epoch 707/1000\n",
      "5/5 [==============================] - 1s 218ms/step - loss: 0.0024 - mae: 0.0388 - val_loss: 0.0163 - val_mae: 0.1045\n",
      "Epoch 708/1000\n",
      "5/5 [==============================] - 1s 218ms/step - loss: 0.0115 - mae: 0.0905 - val_loss: 0.0060 - val_mae: 0.0600\n",
      "Epoch 709/1000\n",
      "5/5 [==============================] - 1s 217ms/step - loss: 0.0050 - mae: 0.0552 - val_loss: 0.0073 - val_mae: 0.0686\n",
      "Epoch 710/1000\n",
      "5/5 [==============================] - 1s 219ms/step - loss: 0.0050 - mae: 0.0540 - val_loss: 0.0065 - val_mae: 0.0636\n",
      "Epoch 711/1000\n",
      "5/5 [==============================] - 1s 219ms/step - loss: 0.0048 - mae: 0.0552 - val_loss: 0.0071 - val_mae: 0.0661\n",
      "Epoch 712/1000\n",
      "5/5 [==============================] - 1s 217ms/step - loss: 0.0034 - mae: 0.0462 - val_loss: 0.0084 - val_mae: 0.0735\n",
      "Epoch 713/1000\n",
      "5/5 [==============================] - 1s 218ms/step - loss: 0.0040 - mae: 0.0505 - val_loss: 0.0067 - val_mae: 0.0646\n",
      "Epoch 714/1000\n",
      "5/5 [==============================] - 1s 218ms/step - loss: 0.0029 - mae: 0.0427 - val_loss: 0.0056 - val_mae: 0.0574\n",
      "Epoch 715/1000\n",
      "5/5 [==============================] - 1s 218ms/step - loss: 0.0024 - mae: 0.0381 - val_loss: 0.0051 - val_mae: 0.0555\n",
      "Epoch 716/1000\n",
      "5/5 [==============================] - 1s 217ms/step - loss: 0.0025 - mae: 0.0400 - val_loss: 0.0087 - val_mae: 0.0746\n",
      "Epoch 717/1000\n",
      "5/5 [==============================] - 1s 218ms/step - loss: 0.0047 - mae: 0.0555 - val_loss: 0.0047 - val_mae: 0.0532\n",
      "Epoch 718/1000\n",
      "5/5 [==============================] - 1s 219ms/step - loss: 0.0024 - mae: 0.0384 - val_loss: 0.0059 - val_mae: 0.0589\n",
      "Epoch 719/1000\n",
      "5/5 [==============================] - 1s 217ms/step - loss: 0.0030 - mae: 0.0438 - val_loss: 0.0161 - val_mae: 0.1091\n",
      "Epoch 720/1000\n",
      "5/5 [==============================] - 1s 218ms/step - loss: 0.0064 - mae: 0.0655 - val_loss: 0.0152 - val_mae: 0.1052\n",
      "Epoch 721/1000\n",
      "5/5 [==============================] - 1s 218ms/step - loss: 0.0068 - mae: 0.0669 - val_loss: 0.0131 - val_mae: 0.0968\n",
      "Epoch 722/1000\n",
      "5/5 [==============================] - 1s 218ms/step - loss: 0.0095 - mae: 0.0778 - val_loss: 0.0159 - val_mae: 0.1013\n",
      "Epoch 723/1000\n",
      "5/5 [==============================] - 1s 217ms/step - loss: 0.0076 - mae: 0.0698 - val_loss: 0.0093 - val_mae: 0.0791\n",
      "Epoch 724/1000\n",
      "5/5 [==============================] - 1s 219ms/step - loss: 0.0046 - mae: 0.0546 - val_loss: 0.0060 - val_mae: 0.0611\n",
      "Epoch 725/1000\n",
      "5/5 [==============================] - 1s 218ms/step - loss: 0.0032 - mae: 0.0458 - val_loss: 0.0056 - val_mae: 0.0575\n",
      "Epoch 726/1000\n",
      "5/5 [==============================] - 1s 218ms/step - loss: 0.0025 - mae: 0.0397 - val_loss: 0.0071 - val_mae: 0.0672\n",
      "Epoch 727/1000\n",
      "5/5 [==============================] - 1s 221ms/step - loss: 0.0029 - mae: 0.0433 - val_loss: 0.0066 - val_mae: 0.0636\n",
      "Epoch 728/1000\n",
      "5/5 [==============================] - 1s 220ms/step - loss: 0.0024 - mae: 0.0385 - val_loss: 0.0045 - val_mae: 0.0524\n",
      "Epoch 729/1000\n",
      "5/5 [==============================] - 1s 215ms/step - loss: 0.0019 - mae: 0.0350 - val_loss: 0.0049 - val_mae: 0.0541\n",
      "Epoch 730/1000\n",
      "5/5 [==============================] - 1s 216ms/step - loss: 0.0017 - mae: 0.0313 - val_loss: 0.0044 - val_mae: 0.0514\n",
      "Epoch 731/1000\n",
      "5/5 [==============================] - 1s 218ms/step - loss: 0.0013 - mae: 0.0292 - val_loss: 0.0042 - val_mae: 0.0508\n",
      "Epoch 732/1000\n",
      "5/5 [==============================] - 1s 218ms/step - loss: 0.0012 - mae: 0.0275 - val_loss: 0.0045 - val_mae: 0.0532\n",
      "Epoch 733/1000\n",
      "5/5 [==============================] - 1s 217ms/step - loss: 0.0010 - mae: 0.0255 - val_loss: 0.0043 - val_mae: 0.0501\n",
      "Epoch 734/1000\n"
     ]
    },
    {
     "name": "stdout",
     "output_type": "stream",
     "text": [
      "5/5 [==============================] - 1s 219ms/step - loss: 0.0011 - mae: 0.0259 - val_loss: 0.0041 - val_mae: 0.0489\n",
      "Epoch 735/1000\n",
      "5/5 [==============================] - 1s 217ms/step - loss: 0.0010 - mae: 0.0252 - val_loss: 0.0048 - val_mae: 0.0533\n",
      "Epoch 736/1000\n",
      "5/5 [==============================] - 1s 216ms/step - loss: 0.0012 - mae: 0.0273 - val_loss: 0.0046 - val_mae: 0.0516\n",
      "Epoch 737/1000\n",
      "5/5 [==============================] - 1s 216ms/step - loss: 0.0012 - mae: 0.0278 - val_loss: 0.0040 - val_mae: 0.0483\n",
      "Epoch 738/1000\n",
      "5/5 [==============================] - 1s 218ms/step - loss: 8.4968e-04 - mae: 0.0229 - val_loss: 0.0040 - val_mae: 0.0492\n",
      "Epoch 739/1000\n",
      "5/5 [==============================] - 1s 219ms/step - loss: 7.4889e-04 - mae: 0.0216 - val_loss: 0.0037 - val_mae: 0.0467\n",
      "Epoch 740/1000\n",
      "5/5 [==============================] - 1s 219ms/step - loss: 6.2653e-04 - mae: 0.0198 - val_loss: 0.0038 - val_mae: 0.0476\n",
      "Epoch 741/1000\n",
      "5/5 [==============================] - 1s 218ms/step - loss: 5.8282e-04 - mae: 0.0189 - val_loss: 0.0037 - val_mae: 0.0464\n",
      "Epoch 742/1000\n",
      "5/5 [==============================] - 1s 220ms/step - loss: 6.4418e-04 - mae: 0.0200 - val_loss: 0.0039 - val_mae: 0.0485\n",
      "Epoch 743/1000\n",
      "5/5 [==============================] - 1s 218ms/step - loss: 6.6054e-04 - mae: 0.0202 - val_loss: 0.0039 - val_mae: 0.0477\n",
      "Epoch 744/1000\n",
      "5/5 [==============================] - 1s 218ms/step - loss: 7.1059e-04 - mae: 0.0209 - val_loss: 0.0037 - val_mae: 0.0470\n",
      "Epoch 745/1000\n",
      "5/5 [==============================] - 1s 219ms/step - loss: 5.5848e-04 - mae: 0.0186 - val_loss: 0.0036 - val_mae: 0.0457\n",
      "Epoch 746/1000\n",
      "5/5 [==============================] - 1s 219ms/step - loss: 5.4914e-04 - mae: 0.0185 - val_loss: 0.0035 - val_mae: 0.0455\n",
      "Epoch 747/1000\n",
      "5/5 [==============================] - 1s 217ms/step - loss: 5.0232e-04 - mae: 0.0176 - val_loss: 0.0035 - val_mae: 0.0457\n",
      "Epoch 748/1000\n",
      "5/5 [==============================] - 1s 219ms/step - loss: 5.2428e-04 - mae: 0.0178 - val_loss: 0.0036 - val_mae: 0.0458\n",
      "Epoch 749/1000\n",
      "5/5 [==============================] - 1s 219ms/step - loss: 5.4970e-04 - mae: 0.0185 - val_loss: 0.0035 - val_mae: 0.0447\n",
      "Epoch 750/1000\n",
      "5/5 [==============================] - 1s 221ms/step - loss: 5.3692e-04 - mae: 0.0181 - val_loss: 0.0035 - val_mae: 0.0451\n",
      "Epoch 751/1000\n",
      "5/5 [==============================] - 1s 215ms/step - loss: 4.5288e-04 - mae: 0.0167 - val_loss: 0.0035 - val_mae: 0.0452\n",
      "Epoch 752/1000\n",
      "5/5 [==============================] - 1s 220ms/step - loss: 4.4746e-04 - mae: 0.0165 - val_loss: 0.0034 - val_mae: 0.0447\n",
      "Epoch 753/1000\n",
      "5/5 [==============================] - 1s 217ms/step - loss: 4.5356e-04 - mae: 0.0165 - val_loss: 0.0035 - val_mae: 0.0452\n",
      "Epoch 754/1000\n",
      "5/5 [==============================] - 1s 220ms/step - loss: 4.7347e-04 - mae: 0.0170 - val_loss: 0.0034 - val_mae: 0.0447\n",
      "Epoch 755/1000\n",
      "5/5 [==============================] - 1s 218ms/step - loss: 4.3941e-04 - mae: 0.0164 - val_loss: 0.0035 - val_mae: 0.0448\n",
      "Epoch 756/1000\n",
      "5/5 [==============================] - 1s 217ms/step - loss: 4.1766e-04 - mae: 0.0159 - val_loss: 0.0034 - val_mae: 0.0448\n",
      "Epoch 757/1000\n",
      "5/5 [==============================] - 1s 219ms/step - loss: 4.3056e-04 - mae: 0.0161 - val_loss: 0.0036 - val_mae: 0.0455\n",
      "Epoch 758/1000\n",
      "5/5 [==============================] - 1s 221ms/step - loss: 5.0232e-04 - mae: 0.0175 - val_loss: 0.0035 - val_mae: 0.0451\n",
      "Epoch 759/1000\n",
      "5/5 [==============================] - 1s 218ms/step - loss: 4.3123e-04 - mae: 0.0161 - val_loss: 0.0034 - val_mae: 0.0445\n",
      "Epoch 760/1000\n",
      "5/5 [==============================] - 1s 218ms/step - loss: 4.4247e-04 - mae: 0.0164 - val_loss: 0.0034 - val_mae: 0.0445\n",
      "Epoch 761/1000\n",
      "5/5 [==============================] - 1s 219ms/step - loss: 4.9318e-04 - mae: 0.0173 - val_loss: 0.0036 - val_mae: 0.0459\n",
      "Epoch 762/1000\n",
      "5/5 [==============================] - 1s 222ms/step - loss: 4.7279e-04 - mae: 0.0170 - val_loss: 0.0034 - val_mae: 0.0446\n",
      "Epoch 763/1000\n",
      "5/5 [==============================] - 1s 218ms/step - loss: 4.4946e-04 - mae: 0.0166 - val_loss: 0.0038 - val_mae: 0.0477\n",
      "Epoch 764/1000\n",
      "5/5 [==============================] - 1s 219ms/step - loss: 5.6369e-04 - mae: 0.0187 - val_loss: 0.0037 - val_mae: 0.0463\n",
      "Epoch 765/1000\n",
      "5/5 [==============================] - 1s 217ms/step - loss: 5.6929e-04 - mae: 0.0185 - val_loss: 0.0039 - val_mae: 0.0489\n",
      "Epoch 766/1000\n",
      "5/5 [==============================] - 1s 220ms/step - loss: 6.5350e-04 - mae: 0.0201 - val_loss: 0.0042 - val_mae: 0.0495\n",
      "Epoch 767/1000\n",
      "5/5 [==============================] - 1s 217ms/step - loss: 7.8133e-04 - mae: 0.0222 - val_loss: 0.0039 - val_mae: 0.0492\n",
      "Epoch 768/1000\n",
      "5/5 [==============================] - 1s 219ms/step - loss: 6.4695e-04 - mae: 0.0200 - val_loss: 0.0035 - val_mae: 0.0451\n",
      "Epoch 769/1000\n",
      "5/5 [==============================] - 1s 219ms/step - loss: 6.4052e-04 - mae: 0.0199 - val_loss: 0.0038 - val_mae: 0.0471\n",
      "Epoch 770/1000\n",
      "5/5 [==============================] - 1s 221ms/step - loss: 8.3707e-04 - mae: 0.0231 - val_loss: 0.0035 - val_mae: 0.0450\n",
      "Epoch 771/1000\n",
      "5/5 [==============================] - 1s 217ms/step - loss: 4.9853e-04 - mae: 0.0175 - val_loss: 0.0035 - val_mae: 0.0452\n",
      "Epoch 772/1000\n",
      "5/5 [==============================] - 1s 222ms/step - loss: 4.4153e-04 - mae: 0.0164 - val_loss: 0.0034 - val_mae: 0.0446\n",
      "Epoch 773/1000\n",
      "5/5 [==============================] - 1s 217ms/step - loss: 4.3462e-04 - mae: 0.0163 - val_loss: 0.0035 - val_mae: 0.0455\n",
      "Epoch 774/1000\n",
      "5/5 [==============================] - 1s 219ms/step - loss: 4.8583e-04 - mae: 0.0173 - val_loss: 0.0037 - val_mae: 0.0475\n",
      "Epoch 775/1000\n",
      "5/5 [==============================] - 1s 218ms/step - loss: 5.1202e-04 - mae: 0.0178 - val_loss: 0.0036 - val_mae: 0.0456\n",
      "Epoch 776/1000\n",
      "5/5 [==============================] - 1s 220ms/step - loss: 6.2576e-04 - mae: 0.0196 - val_loss: 0.0037 - val_mae: 0.0474\n",
      "Epoch 777/1000\n",
      "5/5 [==============================] - 1s 219ms/step - loss: 6.4946e-04 - mae: 0.0198 - val_loss: 0.0036 - val_mae: 0.0456\n",
      "Epoch 778/1000\n",
      "5/5 [==============================] - 1s 219ms/step - loss: 5.7523e-04 - mae: 0.0190 - val_loss: 0.0037 - val_mae: 0.0464\n",
      "Epoch 779/1000\n",
      "5/5 [==============================] - 1s 219ms/step - loss: 4.8173e-04 - mae: 0.0172 - val_loss: 0.0034 - val_mae: 0.0446\n",
      "Epoch 780/1000\n",
      "5/5 [==============================] - 1s 218ms/step - loss: 4.2498e-04 - mae: 0.0162 - val_loss: 0.0035 - val_mae: 0.0458\n",
      "Epoch 781/1000\n",
      "5/5 [==============================] - 1s 218ms/step - loss: 4.4131e-04 - mae: 0.0164 - val_loss: 0.0034 - val_mae: 0.0448\n",
      "Epoch 782/1000\n",
      "5/5 [==============================] - 1s 218ms/step - loss: 4.0750e-04 - mae: 0.0159 - val_loss: 0.0035 - val_mae: 0.0450\n",
      "Epoch 783/1000\n",
      "5/5 [==============================] - 1s 217ms/step - loss: 4.0494e-04 - mae: 0.0156 - val_loss: 0.0034 - val_mae: 0.0448\n",
      "Epoch 784/1000\n",
      "5/5 [==============================] - 1s 218ms/step - loss: 3.7076e-04 - mae: 0.0150 - val_loss: 0.0034 - val_mae: 0.0448\n",
      "Epoch 785/1000\n",
      "5/5 [==============================] - 1s 219ms/step - loss: 3.5183e-04 - mae: 0.0147 - val_loss: 0.0034 - val_mae: 0.0444\n",
      "Epoch 786/1000\n",
      "5/5 [==============================] - 1s 221ms/step - loss: 3.4784e-04 - mae: 0.0143 - val_loss: 0.0034 - val_mae: 0.0445\n",
      "Epoch 787/1000\n",
      "5/5 [==============================] - 1s 219ms/step - loss: 3.3091e-04 - mae: 0.0140 - val_loss: 0.0034 - val_mae: 0.0450\n",
      "Epoch 788/1000\n",
      "5/5 [==============================] - 1s 222ms/step - loss: 3.3838e-04 - mae: 0.0142 - val_loss: 0.0034 - val_mae: 0.0442\n",
      "Epoch 789/1000\n",
      "5/5 [==============================] - 1s 218ms/step - loss: 3.4267e-04 - mae: 0.0144 - val_loss: 0.0035 - val_mae: 0.0446\n",
      "Epoch 790/1000\n",
      "5/5 [==============================] - 1s 219ms/step - loss: 3.4946e-04 - mae: 0.0144 - val_loss: 0.0034 - val_mae: 0.0441\n",
      "Epoch 791/1000\n",
      "5/5 [==============================] - 1s 218ms/step - loss: 3.4531e-04 - mae: 0.0144 - val_loss: 0.0034 - val_mae: 0.0448\n",
      "Epoch 792/1000\n",
      "5/5 [==============================] - 1s 220ms/step - loss: 3.3841e-04 - mae: 0.0143 - val_loss: 0.0035 - val_mae: 0.0445\n",
      "Epoch 793/1000\n"
     ]
    },
    {
     "name": "stdout",
     "output_type": "stream",
     "text": [
      "5/5 [==============================] - 1s 215ms/step - loss: 3.7005e-04 - mae: 0.0151 - val_loss: 0.0034 - val_mae: 0.0452\n",
      "Epoch 794/1000\n",
      "5/5 [==============================] - 1s 220ms/step - loss: 3.8337e-04 - mae: 0.0153 - val_loss: 0.0035 - val_mae: 0.0456\n",
      "Epoch 795/1000\n",
      "5/5 [==============================] - 1s 221ms/step - loss: 4.1597e-04 - mae: 0.0159 - val_loss: 0.0035 - val_mae: 0.0448\n",
      "Epoch 796/1000\n",
      "5/5 [==============================] - 1s 222ms/step - loss: 3.8743e-04 - mae: 0.0153 - val_loss: 0.0034 - val_mae: 0.0449\n",
      "Epoch 797/1000\n",
      "5/5 [==============================] - 1s 221ms/step - loss: 3.5864e-04 - mae: 0.0149 - val_loss: 0.0034 - val_mae: 0.0446\n",
      "Epoch 798/1000\n",
      "5/5 [==============================] - 1s 223ms/step - loss: 3.7915e-04 - mae: 0.0152 - val_loss: 0.0035 - val_mae: 0.0457\n",
      "Epoch 799/1000\n",
      "5/5 [==============================] - 1s 220ms/step - loss: 4.0840e-04 - mae: 0.0159 - val_loss: 0.0035 - val_mae: 0.0449\n",
      "Epoch 800/1000\n",
      "5/5 [==============================] - 1s 222ms/step - loss: 4.0922e-04 - mae: 0.0157 - val_loss: 0.0036 - val_mae: 0.0467\n",
      "Epoch 801/1000\n",
      "5/5 [==============================] - 1s 218ms/step - loss: 4.8281e-04 - mae: 0.0173 - val_loss: 0.0035 - val_mae: 0.0457\n",
      "Epoch 802/1000\n",
      "5/5 [==============================] - 1s 220ms/step - loss: 4.2413e-04 - mae: 0.0161 - val_loss: 0.0035 - val_mae: 0.0452\n",
      "Epoch 803/1000\n",
      "5/5 [==============================] - 1s 220ms/step - loss: 4.2309e-04 - mae: 0.0163 - val_loss: 0.0037 - val_mae: 0.0462\n",
      "Epoch 804/1000\n",
      "5/5 [==============================] - 1s 220ms/step - loss: 5.0593e-04 - mae: 0.0177 - val_loss: 0.0035 - val_mae: 0.0459\n",
      "Epoch 805/1000\n",
      "5/5 [==============================] - 1s 224ms/step - loss: 4.1869e-04 - mae: 0.0160 - val_loss: 0.0035 - val_mae: 0.0450\n",
      "Epoch 806/1000\n",
      "5/5 [==============================] - 1s 223ms/step - loss: 4.2004e-04 - mae: 0.0162 - val_loss: 0.0035 - val_mae: 0.0457\n",
      "Epoch 807/1000\n",
      "5/5 [==============================] - 1s 226ms/step - loss: 3.9353e-04 - mae: 0.0155 - val_loss: 0.0034 - val_mae: 0.0449\n",
      "Epoch 808/1000\n",
      "5/5 [==============================] - 1s 220ms/step - loss: 3.3832e-04 - mae: 0.0143 - val_loss: 0.0035 - val_mae: 0.0453\n",
      "Epoch 809/1000\n",
      "5/5 [==============================] - 1s 221ms/step - loss: 3.5753e-04 - mae: 0.0147 - val_loss: 0.0034 - val_mae: 0.0440\n",
      "Epoch 810/1000\n",
      "5/5 [==============================] - 1s 221ms/step - loss: 3.8357e-04 - mae: 0.0153 - val_loss: 0.0036 - val_mae: 0.0466\n",
      "Epoch 811/1000\n",
      "5/5 [==============================] - 1s 222ms/step - loss: 4.9021e-04 - mae: 0.0175 - val_loss: 0.0037 - val_mae: 0.0473\n",
      "Epoch 812/1000\n",
      "5/5 [==============================] - 1s 223ms/step - loss: 7.3598e-04 - mae: 0.0215 - val_loss: 0.0037 - val_mae: 0.0473\n",
      "Epoch 813/1000\n",
      "5/5 [==============================] - 1s 223ms/step - loss: 6.3717e-04 - mae: 0.0201 - val_loss: 0.0035 - val_mae: 0.0449\n",
      "Epoch 814/1000\n",
      "5/5 [==============================] - 1s 226ms/step - loss: 3.8094e-04 - mae: 0.0153 - val_loss: 0.0035 - val_mae: 0.0451\n",
      "Epoch 815/1000\n",
      "5/5 [==============================] - 1s 221ms/step - loss: 4.0470e-04 - mae: 0.0159 - val_loss: 0.0034 - val_mae: 0.0448\n",
      "Epoch 816/1000\n",
      "5/5 [==============================] - 1s 224ms/step - loss: 6.0730e-04 - mae: 0.0193 - val_loss: 0.0036 - val_mae: 0.0466\n",
      "Epoch 817/1000\n",
      "5/5 [==============================] - 1s 226ms/step - loss: 0.0011 - mae: 0.0272 - val_loss: 0.0038 - val_mae: 0.0471\n",
      "Epoch 818/1000\n",
      "5/5 [==============================] - 1s 220ms/step - loss: 0.0049 - mae: 0.0523 - val_loss: 0.0151 - val_mae: 0.1018\n",
      "Epoch 819/1000\n",
      "5/5 [==============================] - 1s 221ms/step - loss: 0.0195 - mae: 0.1076 - val_loss: 0.0258 - val_mae: 0.1347\n",
      "Epoch 820/1000\n",
      "5/5 [==============================] - 1s 220ms/step - loss: 0.0135 - mae: 0.0929 - val_loss: 0.0128 - val_mae: 0.0929\n",
      "Epoch 821/1000\n",
      "5/5 [==============================] - 1s 221ms/step - loss: 0.0073 - mae: 0.0684 - val_loss: 0.0077 - val_mae: 0.0698\n",
      "Epoch 822/1000\n",
      "5/5 [==============================] - 1s 222ms/step - loss: 0.0055 - mae: 0.0588 - val_loss: 0.0067 - val_mae: 0.0646\n",
      "Epoch 823/1000\n",
      "5/5 [==============================] - 1s 218ms/step - loss: 0.0039 - mae: 0.0496 - val_loss: 0.0079 - val_mae: 0.0693\n",
      "Epoch 824/1000\n",
      "5/5 [==============================] - 1s 217ms/step - loss: 0.0038 - mae: 0.0485 - val_loss: 0.0067 - val_mae: 0.0648\n",
      "Epoch 825/1000\n",
      "5/5 [==============================] - 1s 217ms/step - loss: 0.0042 - mae: 0.0518 - val_loss: 0.0059 - val_mae: 0.0588\n",
      "Epoch 826/1000\n",
      "5/5 [==============================] - 1s 220ms/step - loss: 0.0042 - mae: 0.0506 - val_loss: 0.0056 - val_mae: 0.0595\n",
      "Epoch 827/1000\n",
      "5/5 [==============================] - 1s 219ms/step - loss: 0.0038 - mae: 0.0498 - val_loss: 0.0047 - val_mae: 0.0539\n",
      "Epoch 828/1000\n",
      "5/5 [==============================] - 1s 220ms/step - loss: 0.0034 - mae: 0.0468 - val_loss: 0.0042 - val_mae: 0.0516\n",
      "Epoch 829/1000\n",
      "5/5 [==============================] - 1s 220ms/step - loss: 0.0029 - mae: 0.0425 - val_loss: 0.0071 - val_mae: 0.0692\n",
      "Epoch 830/1000\n",
      "5/5 [==============================] - 1s 221ms/step - loss: 0.0038 - mae: 0.0490 - val_loss: 0.0059 - val_mae: 0.0609\n",
      "Epoch 831/1000\n",
      "5/5 [==============================] - 1s 221ms/step - loss: 0.0029 - mae: 0.0433 - val_loss: 0.0060 - val_mae: 0.0635\n",
      "Epoch 832/1000\n",
      "5/5 [==============================] - 1s 219ms/step - loss: 0.0021 - mae: 0.0372 - val_loss: 0.0063 - val_mae: 0.0627\n",
      "Epoch 833/1000\n",
      "5/5 [==============================] - 1s 221ms/step - loss: 0.0021 - mae: 0.0362 - val_loss: 0.0039 - val_mae: 0.0491\n",
      "Epoch 834/1000\n",
      "5/5 [==============================] - 1s 221ms/step - loss: 0.0010 - mae: 0.0254 - val_loss: 0.0038 - val_mae: 0.0478\n",
      "Epoch 835/1000\n",
      "5/5 [==============================] - 1s 219ms/step - loss: 8.9898e-04 - mae: 0.0236 - val_loss: 0.0042 - val_mae: 0.0499\n",
      "Epoch 836/1000\n",
      "5/5 [==============================] - 1s 218ms/step - loss: 9.4035e-04 - mae: 0.0241 - val_loss: 0.0039 - val_mae: 0.0482\n",
      "Epoch 837/1000\n",
      "5/5 [==============================] - 1s 217ms/step - loss: 8.1457e-04 - mae: 0.0227 - val_loss: 0.0040 - val_mae: 0.0489\n",
      "Epoch 838/1000\n",
      "5/5 [==============================] - 1s 221ms/step - loss: 8.0426e-04 - mae: 0.0224 - val_loss: 0.0041 - val_mae: 0.0502\n",
      "Epoch 839/1000\n",
      "5/5 [==============================] - 1s 220ms/step - loss: 7.9009e-04 - mae: 0.0222 - val_loss: 0.0040 - val_mae: 0.0483\n",
      "Epoch 840/1000\n",
      "5/5 [==============================] - 1s 218ms/step - loss: 9.2826e-04 - mae: 0.0242 - val_loss: 0.0041 - val_mae: 0.0497\n",
      "Epoch 841/1000\n",
      "5/5 [==============================] - 1s 219ms/step - loss: 7.8057e-04 - mae: 0.0220 - val_loss: 0.0037 - val_mae: 0.0463\n",
      "Epoch 842/1000\n",
      "5/5 [==============================] - 1s 217ms/step - loss: 6.4737e-04 - mae: 0.0198 - val_loss: 0.0036 - val_mae: 0.0459\n",
      "Epoch 843/1000\n",
      "5/5 [==============================] - 1s 219ms/step - loss: 5.7035e-04 - mae: 0.0189 - val_loss: 0.0037 - val_mae: 0.0460\n",
      "Epoch 844/1000\n",
      "5/5 [==============================] - 1s 220ms/step - loss: 5.8804e-04 - mae: 0.0190 - val_loss: 0.0037 - val_mae: 0.0470\n",
      "Epoch 845/1000\n",
      "5/5 [==============================] - 1s 221ms/step - loss: 6.0369e-04 - mae: 0.0193 - val_loss: 0.0037 - val_mae: 0.0465\n",
      "Epoch 846/1000\n",
      "5/5 [==============================] - 1s 221ms/step - loss: 6.6388e-04 - mae: 0.0203 - val_loss: 0.0037 - val_mae: 0.0466\n",
      "Epoch 847/1000\n",
      "5/5 [==============================] - 1s 222ms/step - loss: 5.5569e-04 - mae: 0.0186 - val_loss: 0.0039 - val_mae: 0.0480\n",
      "Epoch 848/1000\n",
      "5/5 [==============================] - 1s 224ms/step - loss: 6.0131e-04 - mae: 0.0192 - val_loss: 0.0038 - val_mae: 0.0466\n",
      "Epoch 849/1000\n",
      "5/5 [==============================] - 1s 224ms/step - loss: 5.2774e-04 - mae: 0.0181 - val_loss: 0.0036 - val_mae: 0.0458\n",
      "Epoch 850/1000\n",
      "5/5 [==============================] - 1s 220ms/step - loss: 5.2044e-04 - mae: 0.0178 - val_loss: 0.0040 - val_mae: 0.0489\n",
      "Epoch 851/1000\n",
      "5/5 [==============================] - 1s 219ms/step - loss: 6.0350e-04 - mae: 0.0193 - val_loss: 0.0037 - val_mae: 0.0457\n",
      "Epoch 852/1000\n",
      "5/5 [==============================] - 1s 221ms/step - loss: 5.7307e-04 - mae: 0.0187 - val_loss: 0.0036 - val_mae: 0.0459\n"
     ]
    },
    {
     "name": "stdout",
     "output_type": "stream",
     "text": [
      "Epoch 853/1000\n",
      "5/5 [==============================] - 1s 218ms/step - loss: 4.2690e-04 - mae: 0.0160 - val_loss: 0.0037 - val_mae: 0.0465\n",
      "Epoch 854/1000\n",
      "5/5 [==============================] - 1s 220ms/step - loss: 4.5972e-04 - mae: 0.0167 - val_loss: 0.0037 - val_mae: 0.0458\n",
      "Epoch 855/1000\n",
      "5/5 [==============================] - 1s 221ms/step - loss: 4.3806e-04 - mae: 0.0164 - val_loss: 0.0038 - val_mae: 0.0467\n",
      "Epoch 856/1000\n",
      "5/5 [==============================] - 1s 216ms/step - loss: 4.0923e-04 - mae: 0.0158 - val_loss: 0.0035 - val_mae: 0.0449\n",
      "Epoch 857/1000\n",
      "5/5 [==============================] - 1s 222ms/step - loss: 3.8661e-04 - mae: 0.0153 - val_loss: 0.0036 - val_mae: 0.0456\n",
      "Epoch 858/1000\n",
      "5/5 [==============================] - 1s 221ms/step - loss: 3.7267e-04 - mae: 0.0151 - val_loss: 0.0037 - val_mae: 0.0461\n",
      "Epoch 859/1000\n",
      "5/5 [==============================] - 1s 219ms/step - loss: 3.6652e-04 - mae: 0.0149 - val_loss: 0.0036 - val_mae: 0.0459\n",
      "Epoch 860/1000\n",
      "5/5 [==============================] - 1s 219ms/step - loss: 3.6119e-04 - mae: 0.0148 - val_loss: 0.0037 - val_mae: 0.0464\n",
      "Epoch 861/1000\n",
      "5/5 [==============================] - 1s 218ms/step - loss: 4.3593e-04 - mae: 0.0164 - val_loss: 0.0038 - val_mae: 0.0471\n",
      "Epoch 862/1000\n",
      "5/5 [==============================] - 1s 219ms/step - loss: 5.6150e-04 - mae: 0.0187 - val_loss: 0.0040 - val_mae: 0.0493\n",
      "Epoch 863/1000\n",
      "5/5 [==============================] - 1s 217ms/step - loss: 5.6748e-04 - mae: 0.0190 - val_loss: 0.0039 - val_mae: 0.0471\n",
      "Epoch 864/1000\n",
      "5/5 [==============================] - 1s 220ms/step - loss: 4.9762e-04 - mae: 0.0174 - val_loss: 0.0038 - val_mae: 0.0472\n",
      "Epoch 865/1000\n",
      "5/5 [==============================] - 1s 219ms/step - loss: 4.0739e-04 - mae: 0.0158 - val_loss: 0.0037 - val_mae: 0.0467\n",
      "Epoch 866/1000\n",
      "5/5 [==============================] - 1s 217ms/step - loss: 3.5664e-04 - mae: 0.0148 - val_loss: 0.0036 - val_mae: 0.0452\n",
      "Epoch 867/1000\n",
      "5/5 [==============================] - 1s 217ms/step - loss: 3.4846e-04 - mae: 0.0145 - val_loss: 0.0036 - val_mae: 0.0455\n",
      "Epoch 868/1000\n",
      "5/5 [==============================] - 1s 218ms/step - loss: 3.3519e-04 - mae: 0.0143 - val_loss: 0.0037 - val_mae: 0.0472\n",
      "Epoch 869/1000\n",
      "5/5 [==============================] - 1s 215ms/step - loss: 3.5536e-04 - mae: 0.0147 - val_loss: 0.0036 - val_mae: 0.0452\n",
      "Epoch 870/1000\n",
      "5/5 [==============================] - 1s 217ms/step - loss: 3.7309e-04 - mae: 0.0151 - val_loss: 0.0036 - val_mae: 0.0455\n",
      "Epoch 871/1000\n",
      "5/5 [==============================] - 1s 219ms/step - loss: 3.2359e-04 - mae: 0.0140 - val_loss: 0.0038 - val_mae: 0.0469\n",
      "Epoch 872/1000\n",
      "5/5 [==============================] - 1s 217ms/step - loss: 3.4264e-04 - mae: 0.0145 - val_loss: 0.0036 - val_mae: 0.0456\n",
      "Epoch 873/1000\n",
      "5/5 [==============================] - 1s 218ms/step - loss: 3.3516e-04 - mae: 0.0142 - val_loss: 0.0036 - val_mae: 0.0456\n",
      "Epoch 874/1000\n",
      "5/5 [==============================] - 1s 220ms/step - loss: 3.4198e-04 - mae: 0.0144 - val_loss: 0.0036 - val_mae: 0.0455\n",
      "Epoch 875/1000\n",
      "5/5 [==============================] - 1s 216ms/step - loss: 3.1789e-04 - mae: 0.0137 - val_loss: 0.0037 - val_mae: 0.0459\n",
      "Epoch 876/1000\n",
      "5/5 [==============================] - 1s 219ms/step - loss: 3.1259e-04 - mae: 0.0137 - val_loss: 0.0036 - val_mae: 0.0455\n",
      "Epoch 877/1000\n",
      "5/5 [==============================] - 1s 223ms/step - loss: 3.0703e-04 - mae: 0.0135 - val_loss: 0.0036 - val_mae: 0.0456\n",
      "Epoch 878/1000\n",
      "5/5 [==============================] - 1s 217ms/step - loss: 2.9424e-04 - mae: 0.0132 - val_loss: 0.0036 - val_mae: 0.0457\n",
      "Epoch 879/1000\n",
      "5/5 [==============================] - 1s 219ms/step - loss: 2.9812e-04 - mae: 0.0134 - val_loss: 0.0036 - val_mae: 0.0456\n",
      "Epoch 880/1000\n",
      "5/5 [==============================] - 1s 220ms/step - loss: 3.1127e-04 - mae: 0.0136 - val_loss: 0.0037 - val_mae: 0.0458\n",
      "Epoch 881/1000\n",
      "5/5 [==============================] - 1s 219ms/step - loss: 2.9853e-04 - mae: 0.0134 - val_loss: 0.0036 - val_mae: 0.0456\n",
      "Epoch 882/1000\n",
      "5/5 [==============================] - 1s 219ms/step - loss: 2.9253e-04 - mae: 0.0132 - val_loss: 0.0037 - val_mae: 0.0453\n",
      "Epoch 883/1000\n",
      "5/5 [==============================] - 1s 218ms/step - loss: 3.4464e-04 - mae: 0.0143 - val_loss: 0.0037 - val_mae: 0.0463\n",
      "Epoch 884/1000\n",
      "5/5 [==============================] - 1s 219ms/step - loss: 3.3875e-04 - mae: 0.0143 - val_loss: 0.0036 - val_mae: 0.0455\n",
      "Epoch 885/1000\n",
      "5/5 [==============================] - 1s 219ms/step - loss: 3.1386e-04 - mae: 0.0137 - val_loss: 0.0036 - val_mae: 0.0455\n",
      "Epoch 886/1000\n",
      "5/5 [==============================] - 1s 222ms/step - loss: 3.1465e-04 - mae: 0.0138 - val_loss: 0.0036 - val_mae: 0.0453\n",
      "Epoch 887/1000\n",
      "5/5 [==============================] - 1s 223ms/step - loss: 2.9168e-04 - mae: 0.0132 - val_loss: 0.0036 - val_mae: 0.0455\n",
      "Epoch 888/1000\n",
      "5/5 [==============================] - 1s 221ms/step - loss: 2.7293e-04 - mae: 0.0128 - val_loss: 0.0036 - val_mae: 0.0451\n",
      "Epoch 889/1000\n",
      "5/5 [==============================] - 1s 223ms/step - loss: 2.8301e-04 - mae: 0.0130 - val_loss: 0.0035 - val_mae: 0.0447\n",
      "Epoch 890/1000\n",
      "5/5 [==============================] - 1s 219ms/step - loss: 2.7975e-04 - mae: 0.0128 - val_loss: 0.0036 - val_mae: 0.0454\n",
      "Epoch 891/1000\n",
      "5/5 [==============================] - 1s 219ms/step - loss: 2.8616e-04 - mae: 0.0131 - val_loss: 0.0036 - val_mae: 0.0453\n",
      "Epoch 892/1000\n",
      "5/5 [==============================] - 1s 219ms/step - loss: 3.1178e-04 - mae: 0.0136 - val_loss: 0.0036 - val_mae: 0.0453\n",
      "Epoch 893/1000\n",
      "5/5 [==============================] - 1s 217ms/step - loss: 2.9199e-04 - mae: 0.0133 - val_loss: 0.0037 - val_mae: 0.0458\n",
      "Epoch 894/1000\n",
      "5/5 [==============================] - 1s 221ms/step - loss: 2.9943e-04 - mae: 0.0133 - val_loss: 0.0036 - val_mae: 0.0457\n",
      "Epoch 895/1000\n",
      "5/5 [==============================] - 1s 218ms/step - loss: 2.7914e-04 - mae: 0.0130 - val_loss: 0.0036 - val_mae: 0.0451\n",
      "Epoch 896/1000\n",
      "5/5 [==============================] - 1s 217ms/step - loss: 2.6481e-04 - mae: 0.0125 - val_loss: 0.0037 - val_mae: 0.0458\n",
      "Epoch 897/1000\n",
      "5/5 [==============================] - 1s 218ms/step - loss: 2.6056e-04 - mae: 0.0124 - val_loss: 0.0036 - val_mae: 0.0448\n",
      "Epoch 898/1000\n",
      "5/5 [==============================] - 1s 219ms/step - loss: 2.5091e-04 - mae: 0.0123 - val_loss: 0.0036 - val_mae: 0.0456\n",
      "Epoch 899/1000\n",
      "5/5 [==============================] - 1s 220ms/step - loss: 2.4595e-04 - mae: 0.0122 - val_loss: 0.0036 - val_mae: 0.0452\n",
      "Epoch 900/1000\n",
      "5/5 [==============================] - 1s 219ms/step - loss: 2.5345e-04 - mae: 0.0123 - val_loss: 0.0037 - val_mae: 0.0465\n",
      "Epoch 901/1000\n",
      "5/5 [==============================] - 1s 220ms/step - loss: 2.7872e-04 - mae: 0.0131 - val_loss: 0.0036 - val_mae: 0.0451\n",
      "Epoch 902/1000\n",
      "5/5 [==============================] - 1s 217ms/step - loss: 2.4491e-04 - mae: 0.0121 - val_loss: 0.0036 - val_mae: 0.0454\n",
      "Epoch 903/1000\n",
      "5/5 [==============================] - 1s 219ms/step - loss: 2.5231e-04 - mae: 0.0123 - val_loss: 0.0036 - val_mae: 0.0456\n",
      "Epoch 904/1000\n",
      "5/5 [==============================] - 1s 220ms/step - loss: 2.7684e-04 - mae: 0.0128 - val_loss: 0.0036 - val_mae: 0.0451\n",
      "Epoch 905/1000\n",
      "5/5 [==============================] - 1s 218ms/step - loss: 2.5130e-04 - mae: 0.0123 - val_loss: 0.0036 - val_mae: 0.0449\n",
      "Epoch 906/1000\n",
      "5/5 [==============================] - 1s 220ms/step - loss: 2.8096e-04 - mae: 0.0129 - val_loss: 0.0037 - val_mae: 0.0451\n",
      "Epoch 907/1000\n",
      "5/5 [==============================] - 1s 219ms/step - loss: 3.2388e-04 - mae: 0.0140 - val_loss: 0.0036 - val_mae: 0.0459\n",
      "Epoch 908/1000\n",
      "5/5 [==============================] - 1s 219ms/step - loss: 4.5948e-04 - mae: 0.0168 - val_loss: 0.0037 - val_mae: 0.0459\n",
      "Epoch 909/1000\n",
      "5/5 [==============================] - 1s 220ms/step - loss: 5.7294e-04 - mae: 0.0185 - val_loss: 0.0039 - val_mae: 0.0485\n",
      "Epoch 910/1000\n",
      "5/5 [==============================] - 1s 222ms/step - loss: 5.7395e-04 - mae: 0.0191 - val_loss: 0.0038 - val_mae: 0.0465\n",
      "Epoch 911/1000\n",
      "5/5 [==============================] - 1s 219ms/step - loss: 7.1973e-04 - mae: 0.0215 - val_loss: 0.0043 - val_mae: 0.0503\n",
      "Epoch 912/1000\n"
     ]
    },
    {
     "name": "stdout",
     "output_type": "stream",
     "text": [
      "5/5 [==============================] - 1s 222ms/step - loss: 6.0985e-04 - mae: 0.0194 - val_loss: 0.0041 - val_mae: 0.0491\n",
      "Epoch 913/1000\n",
      "5/5 [==============================] - 1s 221ms/step - loss: 6.1684e-04 - mae: 0.0195 - val_loss: 0.0040 - val_mae: 0.0481\n",
      "Epoch 914/1000\n",
      "5/5 [==============================] - 1s 220ms/step - loss: 6.9979e-04 - mae: 0.0209 - val_loss: 0.0038 - val_mae: 0.0459\n",
      "Epoch 915/1000\n",
      "5/5 [==============================] - 1s 221ms/step - loss: 5.6012e-04 - mae: 0.0188 - val_loss: 0.0040 - val_mae: 0.0475\n",
      "Epoch 916/1000\n",
      "5/5 [==============================] - 1s 218ms/step - loss: 6.6578e-04 - mae: 0.0204 - val_loss: 0.0039 - val_mae: 0.0480\n",
      "Epoch 917/1000\n",
      "5/5 [==============================] - 1s 219ms/step - loss: 5.4795e-04 - mae: 0.0186 - val_loss: 0.0038 - val_mae: 0.0469\n",
      "Epoch 918/1000\n",
      "5/5 [==============================] - 1s 220ms/step - loss: 5.0360e-04 - mae: 0.0178 - val_loss: 0.0039 - val_mae: 0.0487\n",
      "Epoch 919/1000\n",
      "5/5 [==============================] - 1s 219ms/step - loss: 5.4511e-04 - mae: 0.0184 - val_loss: 0.0043 - val_mae: 0.0490\n",
      "Epoch 920/1000\n",
      "5/5 [==============================] - 1s 219ms/step - loss: 7.6117e-04 - mae: 0.0219 - val_loss: 0.0050 - val_mae: 0.0558\n",
      "Epoch 921/1000\n",
      "5/5 [==============================] - 1s 220ms/step - loss: 0.0011 - mae: 0.0265 - val_loss: 0.0043 - val_mae: 0.0492\n",
      "Epoch 922/1000\n",
      "5/5 [==============================] - 1s 217ms/step - loss: 9.8860e-04 - mae: 0.0254 - val_loss: 0.0046 - val_mae: 0.0534\n",
      "Epoch 923/1000\n",
      "5/5 [==============================] - 1s 218ms/step - loss: 9.9309e-04 - mae: 0.0255 - val_loss: 0.0064 - val_mae: 0.0638\n",
      "Epoch 924/1000\n",
      "5/5 [==============================] - 1s 219ms/step - loss: 0.0039 - mae: 0.0523 - val_loss: 0.0044 - val_mae: 0.0506\n",
      "Epoch 925/1000\n",
      "5/5 [==============================] - 1s 221ms/step - loss: 0.0030 - mae: 0.0424 - val_loss: 0.0055 - val_mae: 0.0560\n",
      "Epoch 926/1000\n",
      "5/5 [==============================] - 1s 217ms/step - loss: 0.0021 - mae: 0.0356 - val_loss: 0.0055 - val_mae: 0.0570\n",
      "Epoch 927/1000\n",
      "5/5 [==============================] - 1s 217ms/step - loss: 0.0017 - mae: 0.0321 - val_loss: 0.0045 - val_mae: 0.0508\n",
      "Epoch 928/1000\n",
      "5/5 [==============================] - 1s 220ms/step - loss: 0.0011 - mae: 0.0264 - val_loss: 0.0042 - val_mae: 0.0492\n",
      "Epoch 929/1000\n",
      "5/5 [==============================] - 1s 221ms/step - loss: 0.0010 - mae: 0.0252 - val_loss: 0.0046 - val_mae: 0.0526\n",
      "Epoch 930/1000\n",
      "5/5 [==============================] - 1s 223ms/step - loss: 0.0011 - mae: 0.0264 - val_loss: 0.0043 - val_mae: 0.0501\n",
      "Epoch 931/1000\n",
      "5/5 [==============================] - 1s 222ms/step - loss: 8.9564e-04 - mae: 0.0240 - val_loss: 0.0047 - val_mae: 0.0538\n",
      "Epoch 932/1000\n",
      "5/5 [==============================] - 1s 221ms/step - loss: 8.9068e-04 - mae: 0.0237 - val_loss: 0.0046 - val_mae: 0.0519\n",
      "Epoch 933/1000\n",
      "5/5 [==============================] - 1s 221ms/step - loss: 8.4840e-04 - mae: 0.0232 - val_loss: 0.0040 - val_mae: 0.0484\n",
      "Epoch 934/1000\n",
      "5/5 [==============================] - 1s 220ms/step - loss: 8.7873e-04 - mae: 0.0238 - val_loss: 0.0053 - val_mae: 0.0574\n",
      "Epoch 935/1000\n",
      "5/5 [==============================] - 1s 218ms/step - loss: 9.5851e-04 - mae: 0.0249 - val_loss: 0.0040 - val_mae: 0.0480\n",
      "Epoch 936/1000\n",
      "5/5 [==============================] - 1s 220ms/step - loss: 4.9585e-04 - mae: 0.0176 - val_loss: 0.0039 - val_mae: 0.0470\n",
      "Epoch 937/1000\n",
      "5/5 [==============================] - 1s 217ms/step - loss: 5.4221e-04 - mae: 0.0183 - val_loss: 0.0041 - val_mae: 0.0483\n",
      "Epoch 938/1000\n",
      "5/5 [==============================] - 1s 220ms/step - loss: 5.3915e-04 - mae: 0.0183 - val_loss: 0.0039 - val_mae: 0.0473\n",
      "Epoch 939/1000\n",
      "5/5 [==============================] - 1s 217ms/step - loss: 3.9223e-04 - mae: 0.0157 - val_loss: 0.0038 - val_mae: 0.0467\n",
      "Epoch 940/1000\n",
      "5/5 [==============================] - 1s 220ms/step - loss: 3.5181e-04 - mae: 0.0149 - val_loss: 0.0037 - val_mae: 0.0459\n",
      "Epoch 941/1000\n",
      "5/5 [==============================] - 1s 220ms/step - loss: 3.1953e-04 - mae: 0.0140 - val_loss: 0.0038 - val_mae: 0.0469\n",
      "Epoch 942/1000\n",
      "5/5 [==============================] - 1s 222ms/step - loss: 3.7379e-04 - mae: 0.0152 - val_loss: 0.0038 - val_mae: 0.0464\n",
      "Epoch 943/1000\n",
      "5/5 [==============================] - 1s 219ms/step - loss: 4.0849e-04 - mae: 0.0159 - val_loss: 0.0038 - val_mae: 0.0474\n",
      "Epoch 944/1000\n",
      "5/5 [==============================] - 1s 222ms/step - loss: 3.6272e-04 - mae: 0.0145 - val_loss: 0.0037 - val_mae: 0.0458\n",
      "Epoch 945/1000\n",
      "5/5 [==============================] - 1s 219ms/step - loss: 3.0623e-04 - mae: 0.0135 - val_loss: 0.0036 - val_mae: 0.0453\n",
      "Epoch 946/1000\n",
      "5/5 [==============================] - 1s 220ms/step - loss: 2.4806e-04 - mae: 0.0121 - val_loss: 0.0036 - val_mae: 0.0448\n",
      "Epoch 947/1000\n",
      "5/5 [==============================] - 1s 220ms/step - loss: 2.3758e-04 - mae: 0.0120 - val_loss: 0.0036 - val_mae: 0.0456\n",
      "Epoch 948/1000\n",
      "5/5 [==============================] - 1s 219ms/step - loss: 2.2893e-04 - mae: 0.0117 - val_loss: 0.0037 - val_mae: 0.0460\n",
      "Epoch 949/1000\n",
      "5/5 [==============================] - 1s 219ms/step - loss: 2.3923e-04 - mae: 0.0120 - val_loss: 0.0037 - val_mae: 0.0464\n",
      "Epoch 950/1000\n",
      "5/5 [==============================] - 1s 218ms/step - loss: 2.9117e-04 - mae: 0.0133 - val_loss: 0.0039 - val_mae: 0.0479\n",
      "Epoch 951/1000\n",
      "5/5 [==============================] - 1s 221ms/step - loss: 4.4011e-04 - mae: 0.0165 - val_loss: 0.0037 - val_mae: 0.0463\n",
      "Epoch 952/1000\n",
      "5/5 [==============================] - 1s 219ms/step - loss: 4.0394e-04 - mae: 0.0157 - val_loss: 0.0037 - val_mae: 0.0460\n",
      "Epoch 953/1000\n",
      "5/5 [==============================] - 1s 221ms/step - loss: 2.9135e-04 - mae: 0.0133 - val_loss: 0.0037 - val_mae: 0.0453\n",
      "Epoch 954/1000\n",
      "5/5 [==============================] - 1s 220ms/step - loss: 3.0655e-04 - mae: 0.0137 - val_loss: 0.0036 - val_mae: 0.0450\n",
      "Epoch 955/1000\n",
      "5/5 [==============================] - 1s 220ms/step - loss: 2.2939e-04 - mae: 0.0116 - val_loss: 0.0036 - val_mae: 0.0451\n",
      "Epoch 956/1000\n",
      "5/5 [==============================] - 1s 222ms/step - loss: 2.3090e-04 - mae: 0.0117 - val_loss: 0.0036 - val_mae: 0.0453\n",
      "Epoch 957/1000\n",
      "5/5 [==============================] - 1s 219ms/step - loss: 2.1817e-04 - mae: 0.0112 - val_loss: 0.0036 - val_mae: 0.0449\n",
      "Epoch 958/1000\n",
      "5/5 [==============================] - 1s 220ms/step - loss: 2.1252e-04 - mae: 0.0112 - val_loss: 0.0036 - val_mae: 0.0456\n",
      "Epoch 959/1000\n",
      "5/5 [==============================] - 1s 218ms/step - loss: 2.0646e-04 - mae: 0.0110 - val_loss: 0.0036 - val_mae: 0.0451\n",
      "Epoch 960/1000\n",
      "5/5 [==============================] - 1s 219ms/step - loss: 1.9235e-04 - mae: 0.0107 - val_loss: 0.0036 - val_mae: 0.0454\n",
      "Epoch 961/1000\n",
      "5/5 [==============================] - 1s 216ms/step - loss: 2.5145e-04 - mae: 0.0122 - val_loss: 0.0038 - val_mae: 0.0468\n",
      "Epoch 962/1000\n",
      "5/5 [==============================] - 1s 218ms/step - loss: 2.6307e-04 - mae: 0.0125 - val_loss: 0.0037 - val_mae: 0.0459\n",
      "Epoch 963/1000\n",
      "5/5 [==============================] - 1s 220ms/step - loss: 2.6615e-04 - mae: 0.0127 - val_loss: 0.0037 - val_mae: 0.0463\n",
      "Epoch 964/1000\n",
      "5/5 [==============================] - 1s 221ms/step - loss: 2.3326e-04 - mae: 0.0118 - val_loss: 0.0037 - val_mae: 0.0452\n",
      "Epoch 965/1000\n",
      "5/5 [==============================] - 1s 220ms/step - loss: 2.1032e-04 - mae: 0.0112 - val_loss: 0.0036 - val_mae: 0.0453\n",
      "Epoch 966/1000\n",
      "5/5 [==============================] - 1s 221ms/step - loss: 1.9968e-04 - mae: 0.0108 - val_loss: 0.0036 - val_mae: 0.0457\n",
      "Epoch 967/1000\n",
      "5/5 [==============================] - 1s 219ms/step - loss: 1.9628e-04 - mae: 0.0107 - val_loss: 0.0036 - val_mae: 0.0453\n",
      "Epoch 968/1000\n",
      "5/5 [==============================] - 1s 218ms/step - loss: 1.9150e-04 - mae: 0.0107 - val_loss: 0.0036 - val_mae: 0.0452\n",
      "Epoch 969/1000\n",
      "5/5 [==============================] - 1s 218ms/step - loss: 1.8076e-04 - mae: 0.0102 - val_loss: 0.0036 - val_mae: 0.0450\n",
      "Epoch 970/1000\n",
      "5/5 [==============================] - 1s 219ms/step - loss: 1.9005e-04 - mae: 0.0104 - val_loss: 0.0036 - val_mae: 0.0456\n",
      "Epoch 971/1000\n",
      "5/5 [==============================] - 1s 219ms/step - loss: 1.7654e-04 - mae: 0.0102 - val_loss: 0.0036 - val_mae: 0.0452\n"
     ]
    },
    {
     "name": "stdout",
     "output_type": "stream",
     "text": [
      "Epoch 972/1000\n",
      "5/5 [==============================] - 1s 218ms/step - loss: 1.8058e-04 - mae: 0.0102 - val_loss: 0.0036 - val_mae: 0.0452\n",
      "Epoch 973/1000\n",
      "5/5 [==============================] - 1s 219ms/step - loss: 1.8353e-04 - mae: 0.0105 - val_loss: 0.0036 - val_mae: 0.0454\n",
      "Epoch 974/1000\n",
      "5/5 [==============================] - 1s 220ms/step - loss: 1.9975e-04 - mae: 0.0109 - val_loss: 0.0036 - val_mae: 0.0451\n",
      "Epoch 975/1000\n",
      "5/5 [==============================] - 1s 220ms/step - loss: 2.2496e-04 - mae: 0.0114 - val_loss: 0.0038 - val_mae: 0.0469\n",
      "Epoch 976/1000\n",
      "5/5 [==============================] - 1s 219ms/step - loss: 3.1064e-04 - mae: 0.0137 - val_loss: 0.0037 - val_mae: 0.0455\n",
      "Epoch 977/1000\n",
      "5/5 [==============================] - 1s 221ms/step - loss: 2.4774e-04 - mae: 0.0122 - val_loss: 0.0039 - val_mae: 0.0469\n",
      "Epoch 978/1000\n",
      "5/5 [==============================] - 1s 221ms/step - loss: 2.3364e-04 - mae: 0.0118 - val_loss: 0.0036 - val_mae: 0.0452\n",
      "Epoch 979/1000\n",
      "5/5 [==============================] - 1s 216ms/step - loss: 2.2583e-04 - mae: 0.0115 - val_loss: 0.0037 - val_mae: 0.0465\n",
      "Epoch 980/1000\n",
      "5/5 [==============================] - 1s 220ms/step - loss: 2.4017e-04 - mae: 0.0120 - val_loss: 0.0035 - val_mae: 0.0448\n",
      "Epoch 981/1000\n",
      "5/5 [==============================] - 1s 218ms/step - loss: 2.4338e-04 - mae: 0.0120 - val_loss: 0.0037 - val_mae: 0.0456\n",
      "Epoch 982/1000\n",
      "5/5 [==============================] - 1s 218ms/step - loss: 2.2248e-04 - mae: 0.0115 - val_loss: 0.0038 - val_mae: 0.0461\n",
      "Epoch 983/1000\n",
      "5/5 [==============================] - 1s 218ms/step - loss: 2.7587e-04 - mae: 0.0128 - val_loss: 0.0037 - val_mae: 0.0455\n",
      "Epoch 984/1000\n",
      "5/5 [==============================] - 1s 218ms/step - loss: 3.0121e-04 - mae: 0.0135 - val_loss: 0.0039 - val_mae: 0.0484\n",
      "Epoch 985/1000\n",
      "5/5 [==============================] - 1s 217ms/step - loss: 3.7343e-04 - mae: 0.0151 - val_loss: 0.0037 - val_mae: 0.0459\n",
      "Epoch 986/1000\n",
      "5/5 [==============================] - 1s 219ms/step - loss: 3.8543e-04 - mae: 0.0153 - val_loss: 0.0039 - val_mae: 0.0480\n",
      "Epoch 987/1000\n",
      "5/5 [==============================] - 1s 219ms/step - loss: 6.9449e-04 - mae: 0.0214 - val_loss: 0.0036 - val_mae: 0.0452\n",
      "Epoch 988/1000\n",
      "5/5 [==============================] - 1s 218ms/step - loss: 3.8109e-04 - mae: 0.0153 - val_loss: 0.0039 - val_mae: 0.0467\n",
      "Epoch 989/1000\n",
      "5/5 [==============================] - 1s 220ms/step - loss: 2.6038e-04 - mae: 0.0126 - val_loss: 0.0036 - val_mae: 0.0453\n",
      "Epoch 990/1000\n",
      "5/5 [==============================] - 1s 219ms/step - loss: 2.1958e-04 - mae: 0.0115 - val_loss: 0.0038 - val_mae: 0.0473\n",
      "Epoch 991/1000\n",
      "5/5 [==============================] - 1s 220ms/step - loss: 3.3645e-04 - mae: 0.0143 - val_loss: 0.0039 - val_mae: 0.0476\n",
      "Epoch 992/1000\n",
      "5/5 [==============================] - 1s 219ms/step - loss: 3.7215e-04 - mae: 0.0154 - val_loss: 0.0037 - val_mae: 0.0462\n",
      "Epoch 993/1000\n",
      "5/5 [==============================] - 1s 219ms/step - loss: 2.3014e-04 - mae: 0.0119 - val_loss: 0.0035 - val_mae: 0.0446\n",
      "Epoch 994/1000\n",
      "5/5 [==============================] - 1s 220ms/step - loss: 2.0704e-04 - mae: 0.0110 - val_loss: 0.0036 - val_mae: 0.0456\n",
      "Epoch 995/1000\n",
      "5/5 [==============================] - 1s 218ms/step - loss: 2.1093e-04 - mae: 0.0112 - val_loss: 0.0036 - val_mae: 0.0455\n",
      "Epoch 996/1000\n",
      "5/5 [==============================] - 1s 219ms/step - loss: 2.0052e-04 - mae: 0.0110 - val_loss: 0.0036 - val_mae: 0.0449\n",
      "Epoch 997/1000\n",
      "5/5 [==============================] - 1s 220ms/step - loss: 1.6922e-04 - mae: 0.0100 - val_loss: 0.0036 - val_mae: 0.0447\n",
      "Epoch 998/1000\n",
      "5/5 [==============================] - 1s 220ms/step - loss: 2.0244e-04 - mae: 0.0110 - val_loss: 0.0037 - val_mae: 0.0465\n",
      "Epoch 999/1000\n",
      "5/5 [==============================] - 1s 221ms/step - loss: 2.2607e-04 - mae: 0.0114 - val_loss: 0.0037 - val_mae: 0.0458\n",
      "Epoch 1000/1000\n",
      "5/5 [==============================] - 1s 222ms/step - loss: 2.7915e-04 - mae: 0.0131 - val_loss: 0.0037 - val_mae: 0.0459\n"
     ]
    }
   ],
   "source": [
    "from tensorflow.keras import datasets, layers, models\n",
    "from tensorflow import keras\n",
    "from tensorflow.keras import layers\n",
    "\n",
    "model = models.Sequential()\n",
    "model.add(layers.LSTM(2048, input_shape=(time_step,2)))\n",
    "model.add(layers.Dense(25))\n",
    "\n",
    "model.summary()\n",
    "\n",
    "model.compile(optimizer='adam', loss='mse', metrics=['mae'])\n",
    "\n",
    "history = model.fit(train_input, train_label, epochs=1000, verbose=1, shuffle=True, validation_split=0.20,\n",
    "                   callbacks=[WandbCallback(log_weights=True, log_gradients=True, training_data=(train_input, train_label))])"
   ]
  },
  {
   "cell_type": "code",
   "execution_count": 17,
   "id": "f2977e3d",
   "metadata": {},
   "outputs": [
    {
     "name": "stdout",
     "output_type": "stream",
     "text": [
      "1/1 [==============================] - 0s 213ms/step\n"
     ]
    }
   ],
   "source": [
    "test_input = test_input.reshape(1, test_input.shape[0], test_input.shape[1])\n",
    "\n",
    "y_hat = model.predict(test_input)"
   ]
  },
  {
   "cell_type": "code",
   "execution_count": 18,
   "id": "569d2b27",
   "metadata": {},
   "outputs": [
    {
     "data": {
      "text/plain": [
       "(1, 100, 2)"
      ]
     },
     "execution_count": 18,
     "metadata": {},
     "output_type": "execute_result"
    }
   ],
   "source": [
    "test_input.shape"
   ]
  },
  {
   "cell_type": "code",
   "execution_count": 19,
   "id": "6b083de8",
   "metadata": {},
   "outputs": [],
   "source": [
    "test_label = test_label.reshape(1, test_label.shape[0], test_label.shape[1])"
   ]
  },
  {
   "cell_type": "code",
   "execution_count": 20,
   "id": "54e7a073",
   "metadata": {},
   "outputs": [
    {
     "data": {
      "text/plain": [
       "(1, 25, 1)"
      ]
     },
     "execution_count": 20,
     "metadata": {},
     "output_type": "execute_result"
    }
   ],
   "source": [
    "test_label.shape"
   ]
  },
  {
   "cell_type": "code",
   "execution_count": 21,
   "id": "b3e0c133",
   "metadata": {},
   "outputs": [
    {
     "data": {
      "text/plain": [
       "array([[1.0569875, 1.2281499, 1.6180841, 1.4510014, 1.8247783, 2.093507 ,\n",
       "        1.4191295, 1.8262427, 1.7181562, 1.6277356, 1.8658173, 2.1115825,\n",
       "        1.1300061, 1.2407299, 1.5461704, 1.4422771, 2.0306985, 2.0679612,\n",
       "        1.6800592, 1.9606631, 1.5825506, 1.9904426, 2.0489855, 2.3337927,\n",
       "        1.4603876]], dtype=float32)"
      ]
     },
     "execution_count": 21,
     "metadata": {},
     "output_type": "execute_result"
    }
   ],
   "source": [
    "y_hat"
   ]
  },
  {
   "cell_type": "code",
   "execution_count": 22,
   "id": "e37311d1",
   "metadata": {},
   "outputs": [
    {
     "data": {
      "text/plain": [
       "(1, 25)"
      ]
     },
     "execution_count": 22,
     "metadata": {},
     "output_type": "execute_result"
    }
   ],
   "source": [
    "y_hat.shape"
   ]
  },
  {
   "cell_type": "code",
   "execution_count": 23,
   "id": "ad0f0285",
   "metadata": {},
   "outputs": [],
   "source": [
    "y_hat = y_hat.reshape(y_hat.shape[1], 1)"
   ]
  },
  {
   "cell_type": "code",
   "execution_count": 24,
   "id": "69ea1f6f",
   "metadata": {},
   "outputs": [],
   "source": [
    "y_hat = (y_hat*data_std)+data_mean"
   ]
  },
  {
   "cell_type": "code",
   "execution_count": 25,
   "id": "702f2214",
   "metadata": {},
   "outputs": [],
   "source": [
    "#print(scaler.data_max_)"
   ]
  },
  {
   "cell_type": "code",
   "execution_count": 26,
   "id": "1ca1a387",
   "metadata": {},
   "outputs": [],
   "source": [
    "#print(scaler.data_min_)"
   ]
  },
  {
   "cell_type": "code",
   "execution_count": 27,
   "id": "5e40982b",
   "metadata": {},
   "outputs": [],
   "source": [
    "#y_hat = y_hat * (scaler.data_max_[1]-scaler.data_min_[1]) + scaler.data_min_[1]"
   ]
  },
  {
   "cell_type": "code",
   "execution_count": 28,
   "id": "902bb0d7",
   "metadata": {},
   "outputs": [
    {
     "data": {
      "text/plain": [
       "Text(0.5, 1.0, 'LSTM prediction')"
      ]
     },
     "execution_count": 28,
     "metadata": {},
     "output_type": "execute_result"
    },
    {
     "data": {
      "image/png": "[encoded data removed]",
      "text/plain": [
       "<Figure size 1008x576 with 1 Axes>"
      ]
     },
     "metadata": {
      "needs_background": "light"
     },
     "output_type": "display_data"
    }
   ],
   "source": [
    "import matplotlib.pyplot as plt\n",
    "\n",
    "x = range(325)\n",
    "plt.figure(figsize=(14,8))\n",
    "plt.plot(df[300:325]['Sales'], label='original')\n",
    "plt.plot(x[300:325], y_hat, label='prediction')\n",
    "plt.legend()\n",
    "plt.xlabel('Sequence', fontsize=20)\n",
    "plt.ylabel('Sales', fontsize=20)\n",
    "plt.title('LSTM prediction', fontsize=25)"
   ]
  },
  {
   "cell_type": "code",
   "execution_count": 29,
   "id": "051887d3",
   "metadata": {
    "scrolled": true
   },
   "outputs": [
    {
     "name": "stdout",
     "output_type": "stream",
     "text": [
      "1/1 [==============================] - 0s 20ms/step - loss: 0.0819 - mae: 0.2708\n"
     ]
    },
    {
     "data": {
      "text/plain": [
       "[0.08186371624469757, 0.2708077132701874]"
      ]
     },
     "execution_count": 29,
     "metadata": {},
     "output_type": "execute_result"
    }
   ],
   "source": [
    "model.evaluate(test_input, test_label)"
   ]
  },
  {
   "cell_type": "code",
   "execution_count": null,
   "id": "2819448e",
   "metadata": {},
   "outputs": [],
   "source": []
  }
 ],
 "metadata": {
  "kernelspec": {
   "display_name": "Python 3 (ipykernel)",
   "language": "python",
   "name": "python3"
  },
  "language_info": {
   "codemirror_mode": {
    "name": "ipython",
    "version": 3
   },
   "file_extension": ".py",
   "mimetype": "text/x-python",
   "name": "python",
   "nbconvert_exporter": "python",
   "pygments_lexer": "ipython3",
   "version": "3.9.12"
  }
 },
 "nbformat": 4,
 "nbformat_minor": 5
}
