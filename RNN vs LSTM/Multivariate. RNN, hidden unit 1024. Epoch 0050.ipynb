{
 "cells": [
  {
   "cell_type": "code",
   "execution_count": 1,
   "id": "e0292c99",
   "metadata": {},
   "outputs": [
    {
     "name": "stderr",
     "output_type": "stream",
     "text": [
      "\u001b[34m\u001b[1mwandb\u001b[0m: Currently logged in as: \u001b[33mjintae\u001b[0m. Use \u001b[1m`wandb login --relogin`\u001b[0m to force relogin\n"
     ]
    },
    {
     "data": {
      "text/html": [
       "Tracking run with wandb version 0.13.4"
      ],
      "text/plain": [
       "<IPython.core.display.HTML object>"
      ]
     },
     "metadata": {},
     "output_type": "display_data"
    },
    {
     "data": {
      "text/html": [
       "Run data is saved locally in <code>C:\\Users\\PARK\\Documents\\LAB\\RNN vs LSTM\\FInal Example\\wandb\\run-20221015_203047-2kpbyk3e</code>"
      ],
      "text/plain": [
       "<IPython.core.display.HTML object>"
      ]
     },
     "metadata": {},
     "output_type": "display_data"
    },
    {
     "data": {
      "text/html": [
       "Syncing run <strong><a href=\"https://wandb.ai/jintae/RNN%20seq%201024./runs/2kpbyk3e\" target=\"_blank\">epoch 50</a></strong> to <a href=\"https://wandb.ai/jintae/RNN%20seq%201024.\" target=\"_blank\">Weights & Biases</a> (<a href=\"https://wandb.me/run\" target=\"_blank\">docs</a>)<br/>"
      ],
      "text/plain": [
       "<IPython.core.display.HTML object>"
      ]
     },
     "metadata": {},
     "output_type": "display_data"
    },
    {
     "data": {
      "text/html": [
       "<button onClick=\"this.nextSibling.style.display='block';this.style.display='none';\">Display W&B run</button><iframe src=\"https://wandb.ai/jintae/RNN%20seq%201024./runs/2kpbyk3e?jupyter=true\" style=\"border:none;width:100%;height:420px;display:none;\"></iframe>"
      ],
      "text/plain": [
       "<wandb.sdk.wandb_run.Run at 0x1ce922d3460>"
      ]
     },
     "execution_count": 1,
     "metadata": {},
     "output_type": "execute_result"
    }
   ],
   "source": [
    "import wandb\n",
    "from wandb.keras import WandbCallback\n",
    "wandb.init(project=\"RNN seq 1024.\", name=\"epoch 50\")"
   ]
  },
  {
   "cell_type": "code",
   "execution_count": 2,
   "id": "650bae84",
   "metadata": {},
   "outputs": [
    {
     "name": "stdout",
     "output_type": "stream",
     "text": [
      "   DATE  Sales\n",
      "0     0   3459\n",
      "1     1   3458\n",
      "2     2   4002\n",
      "3     3   4564\n",
      "4     4   4221\n"
     ]
    }
   ],
   "source": [
    "import pandas as pd\n",
    "\n",
    "df = pd.read_csv('C:/Users/PARK/Desktop/Alcohol_Sales.csv')\n",
    "print(df.head())"
   ]
  },
  {
   "cell_type": "code",
   "execution_count": 3,
   "id": "71e18e17",
   "metadata": {},
   "outputs": [
    {
     "data": {
      "text/plain": [
       "(325, 2)"
      ]
     },
     "execution_count": 3,
     "metadata": {},
     "output_type": "execute_result"
    }
   ],
   "source": [
    "df.shape"
   ]
  },
  {
   "cell_type": "code",
   "execution_count": 4,
   "id": "5f4f8fb7",
   "metadata": {},
   "outputs": [],
   "source": [
    "import numpy as np\n",
    "\n",
    "data = df.to_numpy()"
   ]
  },
  {
   "cell_type": "code",
   "execution_count": 5,
   "id": "c6063052",
   "metadata": {},
   "outputs": [
    {
     "data": {
      "text/plain": [
       "(325, 2)"
      ]
     },
     "execution_count": 5,
     "metadata": {},
     "output_type": "execute_result"
    }
   ],
   "source": [
    "data.shape"
   ]
  },
  {
   "cell_type": "code",
   "execution_count": 6,
   "id": "01930485",
   "metadata": {},
   "outputs": [
    {
     "data": {
      "text/plain": [
       "array([[   0, 3459],\n",
       "       [   1, 3458],\n",
       "       [   2, 4002],\n",
       "       [   3, 4564],\n",
       "       [   4, 4221]], dtype=int64)"
      ]
     },
     "execution_count": 6,
     "metadata": {},
     "output_type": "execute_result"
    }
   ],
   "source": [
    "data[0:5]"
   ]
  },
  {
   "cell_type": "code",
   "execution_count": 7,
   "id": "ad83b404",
   "metadata": {},
   "outputs": [],
   "source": [
    "# from sklearn.preprocessing import MinMaxScaler\n",
    "\n",
    "# scaler = MinMaxScaler()\n",
    "\n",
    "# data = scaler.fit_transform(data)"
   ]
  },
  {
   "cell_type": "code",
   "execution_count": 8,
   "id": "17aef2ea",
   "metadata": {},
   "outputs": [],
   "source": [
    "data_mean = data.mean()\n",
    "data_std = data.std()\n",
    "\n",
    "data = (data - data_mean)/data_std"
   ]
  },
  {
   "cell_type": "code",
   "execution_count": 9,
   "id": "63fe0032",
   "metadata": {},
   "outputs": [
    {
     "data": {
      "text/plain": [
       "array([[-0.9194862 , -0.12914209],\n",
       "       [-0.91925771, -0.12937058],\n",
       "       [-0.91902922, -0.00507246],\n",
       "       [-0.91880073,  0.12333846],\n",
       "       [-0.91857224,  0.04496667]])"
      ]
     },
     "execution_count": 9,
     "metadata": {},
     "output_type": "execute_result"
    }
   ],
   "source": [
    "data[0:5]"
   ]
  },
  {
   "cell_type": "code",
   "execution_count": 10,
   "id": "87ac24ef",
   "metadata": {
    "scrolled": true
   },
   "outputs": [],
   "source": [
    "train_input = []\n",
    "train_label = []\n",
    "\n",
    "data_len = 325\n",
    "time_step = 100\n",
    "out_dim = 25\n",
    "\n",
    "for i in range(176):\n",
    "    _input = data[i:i+time_step]\n",
    "    _label = data[i+time_step:i+time_step+out_dim]\n",
    "    \n",
    "    train_input.append(_input)\n",
    "    train_label.append(_label)\n",
    "    \n",
    "\n",
    "train_input = np.array(train_input)\n",
    "train_label = np.array(train_label)\n",
    "train_label = np.delete(train_label, 0, axis=2)\n",
    "\n",
    "\n",
    "test_input = np.array(data[data_len-out_dim-time_step:data_len-out_dim])\n",
    "test_label =np.array(data[300:325])\n",
    "test_label = np.delete(test_label, 0, axis=1)"
   ]
  },
  {
   "cell_type": "code",
   "execution_count": 11,
   "id": "41975dc7",
   "metadata": {},
   "outputs": [
    {
     "data": {
      "text/plain": [
       "(176, 100, 2)"
      ]
     },
     "execution_count": 11,
     "metadata": {},
     "output_type": "execute_result"
    }
   ],
   "source": [
    "train_input.shape"
   ]
  },
  {
   "cell_type": "code",
   "execution_count": 12,
   "id": "b762c3ba",
   "metadata": {},
   "outputs": [
    {
     "data": {
      "text/plain": [
       "(176, 25, 1)"
      ]
     },
     "execution_count": 12,
     "metadata": {},
     "output_type": "execute_result"
    }
   ],
   "source": [
    "train_label.shape"
   ]
  },
  {
   "cell_type": "code",
   "execution_count": 13,
   "id": "127c63a2",
   "metadata": {},
   "outputs": [
    {
     "data": {
      "text/plain": [
       "(100, 2)"
      ]
     },
     "execution_count": 13,
     "metadata": {},
     "output_type": "execute_result"
    }
   ],
   "source": [
    "test_input.shape"
   ]
  },
  {
   "cell_type": "code",
   "execution_count": 14,
   "id": "6647472d",
   "metadata": {},
   "outputs": [
    {
     "data": {
      "text/plain": [
       "(25, 1)"
      ]
     },
     "execution_count": 14,
     "metadata": {},
     "output_type": "execute_result"
    }
   ],
   "source": [
    "test_label.shape"
   ]
  },
  {
   "cell_type": "code",
   "execution_count": 15,
   "id": "5d83c07f",
   "metadata": {},
   "outputs": [],
   "source": [
    "np.random.seed(10)\n",
    "shuffled_indices = np.random.permutation(np.arange(train_input.shape[0]))\n",
    "train_input = train_input[shuffled_indices, :, :]\n",
    "train_label = train_label[shuffled_indices, :]"
   ]
  },
  {
   "cell_type": "code",
   "execution_count": 16,
   "id": "a183926e",
   "metadata": {
    "scrolled": true
   },
   "outputs": [
    {
     "name": "stdout",
     "output_type": "stream",
     "text": [
      "Model: \"sequential\"\n",
      "_________________________________________________________________\n",
      " Layer (type)                Output Shape              Param #   \n",
      "=================================================================\n",
      " simple_rnn (SimpleRNN)      (None, 1024)              1051648   \n",
      "                                                                 \n",
      " dense (Dense)               (None, 25)                25625     \n",
      "                                                                 \n",
      "=================================================================\n",
      "Total params: 1,077,273\n",
      "Trainable params: 1,077,273\n",
      "Non-trainable params: 0\n",
      "_________________________________________________________________\n"
     ]
    },
    {
     "name": "stderr",
     "output_type": "stream",
     "text": [
      "\u001b[34m\u001b[1mwandb\u001b[0m: \u001b[33mWARNING\u001b[0m The save_model argument by default saves the model in the HDF5 format that cannot save custom objects like subclassed models and custom layers. This behavior will be deprecated in a future release in favor of the SavedModel format. Meanwhile, the HDF5 model is saved as W&B files and the SavedModel as W&B Artifacts.\n"
     ]
    },
    {
     "name": "stdout",
     "output_type": "stream",
     "text": [
      "Epoch 1/50\n",
      "4/5 [=======================>......] - ETA: 0s - loss: 1.4751 - mae: 0.9821INFO:tensorflow:Assets written to: C:\\Users\\PARK\\Documents\\LAB\\RNN vs LSTM\\FInal Example\\wandb\\run-20221015_203047-2kpbyk3e\\files\\model-best\\assets\n"
     ]
    },
    {
     "name": "stderr",
     "output_type": "stream",
     "text": [
      "\u001b[34m\u001b[1mwandb\u001b[0m: Adding directory to artifact (C:\\Users\\PARK\\Documents\\LAB\\RNN vs LSTM\\FInal Example\\wandb\\run-20221015_203047-2kpbyk3e\\files\\model-best)... Done. 0.0s\n"
     ]
    },
    {
     "name": "stdout",
     "output_type": "stream",
     "text": [
      "5/5 [==============================] - 4s 657ms/step - loss: 1.4095 - mae: 0.9567 - val_loss: 0.5560 - val_mae: 0.6120\n",
      "Epoch 2/50\n",
      "5/5 [==============================] - ETA: 0s - loss: 0.6085 - mae: 0.6234INFO:tensorflow:Assets written to: C:\\Users\\PARK\\Documents\\LAB\\RNN vs LSTM\\FInal Example\\wandb\\run-20221015_203047-2kpbyk3e\\files\\model-best\\assets\n"
     ]
    },
    {
     "name": "stderr",
     "output_type": "stream",
     "text": [
      "\u001b[34m\u001b[1mwandb\u001b[0m: Adding directory to artifact (C:\\Users\\PARK\\Documents\\LAB\\RNN vs LSTM\\FInal Example\\wandb\\run-20221015_203047-2kpbyk3e\\files\\model-best)... Done. 0.0s\n"
     ]
    },
    {
     "name": "stdout",
     "output_type": "stream",
     "text": [
      "5/5 [==============================] - 2s 538ms/step - loss: 0.6085 - mae: 0.6234 - val_loss: 0.3288 - val_mae: 0.4675\n",
      "Epoch 3/50\n",
      "5/5 [==============================] - ETA: 0s - loss: 0.3308 - mae: 0.4610INFO:tensorflow:Assets written to: C:\\Users\\PARK\\Documents\\LAB\\RNN vs LSTM\\FInal Example\\wandb\\run-20221015_203047-2kpbyk3e\\files\\model-best\\assets\n"
     ]
    },
    {
     "name": "stderr",
     "output_type": "stream",
     "text": [
      "\u001b[34m\u001b[1mwandb\u001b[0m: Adding directory to artifact (C:\\Users\\PARK\\Documents\\LAB\\RNN vs LSTM\\FInal Example\\wandb\\run-20221015_203047-2kpbyk3e\\files\\model-best)... Done. 0.0s\n"
     ]
    },
    {
     "name": "stdout",
     "output_type": "stream",
     "text": [
      "5/5 [==============================] - 2s 519ms/step - loss: 0.3308 - mae: 0.4610 - val_loss: 0.2152 - val_mae: 0.3835\n",
      "Epoch 4/50\n",
      "5/5 [==============================] - ETA: 0s - loss: 0.2522 - mae: 0.4053INFO:tensorflow:Assets written to: C:\\Users\\PARK\\Documents\\LAB\\RNN vs LSTM\\FInal Example\\wandb\\run-20221015_203047-2kpbyk3e\\files\\model-best\\assets\n"
     ]
    },
    {
     "name": "stderr",
     "output_type": "stream",
     "text": [
      "\u001b[34m\u001b[1mwandb\u001b[0m: Adding directory to artifact (C:\\Users\\PARK\\Documents\\LAB\\RNN vs LSTM\\FInal Example\\wandb\\run-20221015_203047-2kpbyk3e\\files\\model-best)... Done. 0.1s\n"
     ]
    },
    {
     "name": "stdout",
     "output_type": "stream",
     "text": [
      "5/5 [==============================] - 2s 583ms/step - loss: 0.2522 - mae: 0.4053 - val_loss: 0.2024 - val_mae: 0.3714\n",
      "Epoch 5/50\n",
      "5/5 [==============================] - 1s 163ms/step - loss: 0.2185 - mae: 0.3851 - val_loss: 0.2330 - val_mae: 0.3990\n",
      "Epoch 6/50\n",
      "5/5 [==============================] - 1s 165ms/step - loss: 0.1946 - mae: 0.3639 - val_loss: 0.2211 - val_mae: 0.3839\n",
      "Epoch 7/50\n",
      "5/5 [==============================] - ETA: 0s - loss: 0.2160 - mae: 0.3797INFO:tensorflow:Assets written to: C:\\Users\\PARK\\Documents\\LAB\\RNN vs LSTM\\FInal Example\\wandb\\run-20221015_203047-2kpbyk3e\\files\\model-best\\assets\n"
     ]
    },
    {
     "name": "stderr",
     "output_type": "stream",
     "text": [
      "\u001b[34m\u001b[1mwandb\u001b[0m: Adding directory to artifact (C:\\Users\\PARK\\Documents\\LAB\\RNN vs LSTM\\FInal Example\\wandb\\run-20221015_203047-2kpbyk3e\\files\\model-best)... Done. 0.0s\n"
     ]
    },
    {
     "name": "stdout",
     "output_type": "stream",
     "text": [
      "5/5 [==============================] - 2s 521ms/step - loss: 0.2160 - mae: 0.3797 - val_loss: 0.2020 - val_mae: 0.3697\n",
      "Epoch 8/50\n",
      "5/5 [==============================] - ETA: 0s - loss: 0.2019 - mae: 0.3711INFO:tensorflow:Assets written to: C:\\Users\\PARK\\Documents\\LAB\\RNN vs LSTM\\FInal Example\\wandb\\run-20221015_203047-2kpbyk3e\\files\\model-best\\assets\n"
     ]
    },
    {
     "name": "stderr",
     "output_type": "stream",
     "text": [
      "\u001b[34m\u001b[1mwandb\u001b[0m: Adding directory to artifact (C:\\Users\\PARK\\Documents\\LAB\\RNN vs LSTM\\FInal Example\\wandb\\run-20221015_203047-2kpbyk3e\\files\\model-best)... Done. 0.1s\n"
     ]
    },
    {
     "name": "stdout",
     "output_type": "stream",
     "text": [
      "5/5 [==============================] - 2s 518ms/step - loss: 0.2019 - mae: 0.3711 - val_loss: 0.1952 - val_mae: 0.3631\n",
      "Epoch 9/50\n",
      "5/5 [==============================] - 1s 170ms/step - loss: 0.1904 - mae: 0.3604 - val_loss: 0.2564 - val_mae: 0.4164\n",
      "Epoch 10/50\n",
      "5/5 [==============================] - 1s 144ms/step - loss: 0.2316 - mae: 0.3913 - val_loss: 0.1956 - val_mae: 0.3630\n",
      "Epoch 11/50\n",
      "5/5 [==============================] - 1s 150ms/step - loss: 0.2080 - mae: 0.3754 - val_loss: 0.1973 - val_mae: 0.3664\n",
      "Epoch 12/50\n",
      "4/5 [=======================>......] - ETA: 0s - loss: 0.2086 - mae: 0.3778INFO:tensorflow:Assets written to: C:\\Users\\PARK\\Documents\\LAB\\RNN vs LSTM\\FInal Example\\wandb\\run-20221015_203047-2kpbyk3e\\files\\model-best\\assets\n"
     ]
    },
    {
     "name": "stderr",
     "output_type": "stream",
     "text": [
      "\u001b[34m\u001b[1mwandb\u001b[0m: Adding directory to artifact (C:\\Users\\PARK\\Documents\\LAB\\RNN vs LSTM\\FInal Example\\wandb\\run-20221015_203047-2kpbyk3e\\files\\model-best)... Done. 0.1s\n"
     ]
    },
    {
     "name": "stdout",
     "output_type": "stream",
     "text": [
      "5/5 [==============================] - 2s 524ms/step - loss: 0.2053 - mae: 0.3742 - val_loss: 0.1941 - val_mae: 0.3661\n",
      "Epoch 13/50\n",
      "5/5 [==============================] - ETA: 0s - loss: 0.1904 - mae: 0.3608INFO:tensorflow:Assets written to: C:\\Users\\PARK\\Documents\\LAB\\RNN vs LSTM\\FInal Example\\wandb\\run-20221015_203047-2kpbyk3e\\files\\model-best\\assets\n"
     ]
    },
    {
     "name": "stderr",
     "output_type": "stream",
     "text": [
      "\u001b[34m\u001b[1mwandb\u001b[0m: Adding directory to artifact (C:\\Users\\PARK\\Documents\\LAB\\RNN vs LSTM\\FInal Example\\wandb\\run-20221015_203047-2kpbyk3e\\files\\model-best)... Done. 0.1s\n"
     ]
    },
    {
     "name": "stdout",
     "output_type": "stream",
     "text": [
      "5/5 [==============================] - 2s 516ms/step - loss: 0.1904 - mae: 0.3608 - val_loss: 0.1837 - val_mae: 0.3553\n",
      "Epoch 14/50\n",
      "5/5 [==============================] - 1s 177ms/step - loss: 0.1838 - mae: 0.3545 - val_loss: 0.2061 - val_mae: 0.3763\n",
      "Epoch 15/50\n",
      "5/5 [==============================] - 1s 162ms/step - loss: 0.2075 - mae: 0.3721 - val_loss: 0.2190 - val_mae: 0.3827\n",
      "Epoch 16/50\n",
      "5/5 [==============================] - 1s 157ms/step - loss: 0.2051 - mae: 0.3715 - val_loss: 0.1934 - val_mae: 0.3665\n",
      "Epoch 17/50\n",
      "5/5 [==============================] - 1s 154ms/step - loss: 0.2006 - mae: 0.3712 - val_loss: 0.1885 - val_mae: 0.3591\n",
      "Epoch 18/50\n",
      "5/5 [==============================] - ETA: 0s - loss: 0.1888 - mae: 0.3591INFO:tensorflow:Assets written to: C:\\Users\\PARK\\Documents\\LAB\\RNN vs LSTM\\FInal Example\\wandb\\run-20221015_203047-2kpbyk3e\\files\\model-best\\assets\n"
     ]
    },
    {
     "name": "stderr",
     "output_type": "stream",
     "text": [
      "\u001b[34m\u001b[1mwandb\u001b[0m: Adding directory to artifact (C:\\Users\\PARK\\Documents\\LAB\\RNN vs LSTM\\FInal Example\\wandb\\run-20221015_203047-2kpbyk3e\\files\\model-best)... Done. 0.1s\n"
     ]
    },
    {
     "name": "stdout",
     "output_type": "stream",
     "text": [
      "5/5 [==============================] - 2s 500ms/step - loss: 0.1888 - mae: 0.3591 - val_loss: 0.1829 - val_mae: 0.3534\n",
      "Epoch 19/50\n",
      "4/5 [=======================>......] - ETA: 0s - loss: 0.1804 - mae: 0.3505INFO:tensorflow:Assets written to: C:\\Users\\PARK\\Documents\\LAB\\RNN vs LSTM\\FInal Example\\wandb\\run-20221015_203047-2kpbyk3e\\files\\model-best\\assets\n"
     ]
    },
    {
     "name": "stderr",
     "output_type": "stream",
     "text": [
      "\u001b[34m\u001b[1mwandb\u001b[0m: Adding directory to artifact (C:\\Users\\PARK\\Documents\\LAB\\RNN vs LSTM\\FInal Example\\wandb\\run-20221015_203047-2kpbyk3e\\files\\model-best)... Done. 0.0s\n"
     ]
    },
    {
     "name": "stdout",
     "output_type": "stream",
     "text": [
      "5/5 [==============================] - 2s 551ms/step - loss: 0.1873 - mae: 0.3563 - val_loss: 0.1821 - val_mae: 0.3564\n",
      "Epoch 20/50\n",
      "5/5 [==============================] - 1s 192ms/step - loss: 0.1821 - mae: 0.3528 - val_loss: 0.1884 - val_mae: 0.3585\n",
      "Epoch 21/50\n",
      "5/5 [==============================] - ETA: 0s - loss: 0.1870 - mae: 0.3549INFO:tensorflow:Assets written to: C:\\Users\\PARK\\Documents\\LAB\\RNN vs LSTM\\FInal Example\\wandb\\run-20221015_203047-2kpbyk3e\\files\\model-best\\assets\n"
     ]
    },
    {
     "name": "stderr",
     "output_type": "stream",
     "text": [
      "\u001b[34m\u001b[1mwandb\u001b[0m: Adding directory to artifact (C:\\Users\\PARK\\Documents\\LAB\\RNN vs LSTM\\FInal Example\\wandb\\run-20221015_203047-2kpbyk3e\\files\\model-best)... Done. 0.1s\n"
     ]
    },
    {
     "name": "stdout",
     "output_type": "stream",
     "text": [
      "5/5 [==============================] - 2s 506ms/step - loss: 0.1870 - mae: 0.3549 - val_loss: 0.1810 - val_mae: 0.3522\n",
      "Epoch 22/50\n",
      "5/5 [==============================] - ETA: 0s - loss: 0.1809 - mae: 0.3512INFO:tensorflow:Assets written to: C:\\Users\\PARK\\Documents\\LAB\\RNN vs LSTM\\FInal Example\\wandb\\run-20221015_203047-2kpbyk3e\\files\\model-best\\assets\n"
     ]
    },
    {
     "name": "stderr",
     "output_type": "stream",
     "text": [
      "\u001b[34m\u001b[1mwandb\u001b[0m: Adding directory to artifact (C:\\Users\\PARK\\Documents\\LAB\\RNN vs LSTM\\FInal Example\\wandb\\run-20221015_203047-2kpbyk3e\\files\\model-best)... Done. 0.1s\n"
     ]
    },
    {
     "name": "stdout",
     "output_type": "stream",
     "text": [
      "5/5 [==============================] - 2s 547ms/step - loss: 0.1809 - mae: 0.3512 - val_loss: 0.1769 - val_mae: 0.3528\n",
      "Epoch 23/50\n",
      "5/5 [==============================] - 1s 160ms/step - loss: 0.1791 - mae: 0.3480 - val_loss: 0.1795 - val_mae: 0.3520\n",
      "Epoch 24/50\n",
      "5/5 [==============================] - ETA: 0s - loss: 0.1801 - mae: 0.3519INFO:tensorflow:Assets written to: C:\\Users\\PARK\\Documents\\LAB\\RNN vs LSTM\\FInal Example\\wandb\\run-20221015_203047-2kpbyk3e\\files\\model-best\\assets\n"
     ]
    },
    {
     "name": "stderr",
     "output_type": "stream",
     "text": [
      "\u001b[34m\u001b[1mwandb\u001b[0m: Adding directory to artifact (C:\\Users\\PARK\\Documents\\LAB\\RNN vs LSTM\\FInal Example\\wandb\\run-20221015_203047-2kpbyk3e\\files\\model-best)... Done. 0.0s\n"
     ]
    },
    {
     "name": "stdout",
     "output_type": "stream",
     "text": [
      "5/5 [==============================] - 2s 530ms/step - loss: 0.1801 - mae: 0.3519 - val_loss: 0.1706 - val_mae: 0.3428\n",
      "Epoch 25/50\n",
      "5/5 [==============================] - 1s 187ms/step - loss: 0.1823 - mae: 0.3526 - val_loss: 0.1983 - val_mae: 0.3706\n",
      "Epoch 26/50\n",
      "5/5 [==============================] - 1s 151ms/step - loss: 0.1912 - mae: 0.3587 - val_loss: 0.1831 - val_mae: 0.3515\n",
      "Epoch 27/50\n",
      "5/5 [==============================] - 1s 156ms/step - loss: 0.1921 - mae: 0.3618 - val_loss: 0.2103 - val_mae: 0.3762\n",
      "Epoch 28/50\n",
      "5/5 [==============================] - 1s 155ms/step - loss: 0.2119 - mae: 0.3777 - val_loss: 0.1885 - val_mae: 0.3611\n",
      "Epoch 29/50\n",
      "5/5 [==============================] - 1s 155ms/step - loss: 0.2111 - mae: 0.3793 - val_loss: 0.1968 - val_mae: 0.3663\n",
      "Epoch 30/50\n",
      "5/5 [==============================] - 1s 155ms/step - loss: 0.1962 - mae: 0.3659 - val_loss: 0.1878 - val_mae: 0.3591\n",
      "Epoch 31/50\n",
      "5/5 [==============================] - 1s 153ms/step - loss: 0.1881 - mae: 0.3571 - val_loss: 0.2127 - val_mae: 0.3783\n",
      "Epoch 32/50\n",
      "5/5 [==============================] - 1s 151ms/step - loss: 0.1930 - mae: 0.3648 - val_loss: 0.1938 - val_mae: 0.3647\n",
      "Epoch 33/50\n",
      "5/5 [==============================] - 1s 155ms/step - loss: 0.1911 - mae: 0.3581 - val_loss: 0.1834 - val_mae: 0.3499\n",
      "Epoch 34/50\n",
      "5/5 [==============================] - 1s 155ms/step - loss: 0.1932 - mae: 0.3623 - val_loss: 0.2083 - val_mae: 0.3759\n",
      "Epoch 35/50\n",
      "5/5 [==============================] - 1s 161ms/step - loss: 0.2052 - mae: 0.3741 - val_loss: 0.1987 - val_mae: 0.3681\n",
      "Epoch 36/50\n",
      "5/5 [==============================] - 1s 154ms/step - loss: 0.1879 - mae: 0.3569 - val_loss: 0.1857 - val_mae: 0.3554\n",
      "Epoch 37/50\n",
      "5/5 [==============================] - 1s 153ms/step - loss: 0.1948 - mae: 0.3611 - val_loss: 0.1825 - val_mae: 0.3524\n",
      "Epoch 38/50\n",
      "5/5 [==============================] - 1s 154ms/step - loss: 0.1880 - mae: 0.3556 - val_loss: 0.2333 - val_mae: 0.3957\n",
      "Epoch 39/50\n",
      "5/5 [==============================] - 1s 155ms/step - loss: 0.1936 - mae: 0.3593 - val_loss: 0.2023 - val_mae: 0.3694\n",
      "Epoch 40/50\n",
      "5/5 [==============================] - 1s 155ms/step - loss: 0.1874 - mae: 0.3559 - val_loss: 0.1773 - val_mae: 0.3498\n",
      "Epoch 41/50\n",
      "5/5 [==============================] - 1s 166ms/step - loss: 0.2164 - mae: 0.3783 - val_loss: 0.2192 - val_mae: 0.3820\n",
      "Epoch 42/50\n",
      "5/5 [==============================] - 1s 156ms/step - loss: 0.2107 - mae: 0.3752 - val_loss: 0.2030 - val_mae: 0.3689\n",
      "Epoch 43/50\n",
      "5/5 [==============================] - 1s 159ms/step - loss: 0.1954 - mae: 0.3634 - val_loss: 0.1759 - val_mae: 0.3473\n",
      "Epoch 44/50\n",
      "5/5 [==============================] - 1s 144ms/step - loss: 0.1903 - mae: 0.3589 - val_loss: 0.1811 - val_mae: 0.3541\n",
      "Epoch 45/50\n",
      "5/5 [==============================] - 1s 151ms/step - loss: 0.1858 - mae: 0.3579 - val_loss: 0.1759 - val_mae: 0.3513\n",
      "Epoch 46/50\n",
      "5/5 [==============================] - 1s 150ms/step - loss: 0.1801 - mae: 0.3504 - val_loss: 0.1890 - val_mae: 0.3617\n",
      "Epoch 47/50\n",
      "5/5 [==============================] - ETA: 0s - loss: 0.1788 - mae: 0.3456INFO:tensorflow:Assets written to: C:\\Users\\PARK\\Documents\\LAB\\RNN vs LSTM\\FInal Example\\wandb\\run-20221015_203047-2kpbyk3e\\files\\model-best\\assets\n"
     ]
    },
    {
     "name": "stderr",
     "output_type": "stream",
     "text": [
      "\u001b[34m\u001b[1mwandb\u001b[0m: Adding directory to artifact (C:\\Users\\PARK\\Documents\\LAB\\RNN vs LSTM\\FInal Example\\wandb\\run-20221015_203047-2kpbyk3e\\files\\model-best)... Done. 0.1s\n"
     ]
    },
    {
     "name": "stdout",
     "output_type": "stream",
     "text": [
      "5/5 [==============================] - 2s 510ms/step - loss: 0.1788 - mae: 0.3456 - val_loss: 0.1633 - val_mae: 0.3345\n",
      "Epoch 48/50\n",
      "5/5 [==============================] - 1s 166ms/step - loss: 0.1654 - mae: 0.3352 - val_loss: 0.1974 - val_mae: 0.3652\n",
      "Epoch 49/50\n",
      "5/5 [==============================] - 1s 154ms/step - loss: 0.1847 - mae: 0.3524 - val_loss: 0.2328 - val_mae: 0.3956\n",
      "Epoch 50/50\n",
      "5/5 [==============================] - 1s 159ms/step - loss: 0.2139 - mae: 0.3816 - val_loss: 0.1965 - val_mae: 0.3649\n"
     ]
    }
   ],
   "source": [
    "from tensorflow.keras import datasets, layers, models\n",
    "from tensorflow import keras\n",
    "from tensorflow.keras import layers\n",
    "\n",
    "model = models.Sequential()\n",
    "model.add(layers.SimpleRNN(1024, input_shape=(time_step,2)))\n",
    "model.add(layers.Dense(25))\n",
    "\n",
    "model.summary()\n",
    "\n",
    "model.compile(optimizer='adam', loss='mse', metrics=['mae'])\n",
    "\n",
    "history = model.fit(train_input, train_label, epochs=50, verbose=1, shuffle=True, validation_split=0.20,\n",
    "                   callbacks=[WandbCallback(log_weights=True, log_gradients=True, training_data=(train_input, train_label))])"
   ]
  },
  {
   "cell_type": "code",
   "execution_count": 17,
   "id": "f2977e3d",
   "metadata": {},
   "outputs": [
    {
     "name": "stdout",
     "output_type": "stream",
     "text": [
      "1/1 [==============================] - 0s 90ms/step\n"
     ]
    }
   ],
   "source": [
    "test_input = test_input.reshape(1, test_input.shape[0], test_input.shape[1])\n",
    "\n",
    "y_hat = model.predict(test_input)"
   ]
  },
  {
   "cell_type": "code",
   "execution_count": 18,
   "id": "569d2b27",
   "metadata": {},
   "outputs": [
    {
     "data": {
      "text/plain": [
       "(1, 100, 2)"
      ]
     },
     "execution_count": 18,
     "metadata": {},
     "output_type": "execute_result"
    }
   ],
   "source": [
    "test_input.shape"
   ]
  },
  {
   "cell_type": "code",
   "execution_count": 19,
   "id": "6b083de8",
   "metadata": {},
   "outputs": [],
   "source": [
    "test_label = test_label.reshape(1, test_label.shape[0], test_label.shape[1])"
   ]
  },
  {
   "cell_type": "code",
   "execution_count": 20,
   "id": "54e7a073",
   "metadata": {},
   "outputs": [
    {
     "data": {
      "text/plain": [
       "(1, 25, 1)"
      ]
     },
     "execution_count": 20,
     "metadata": {},
     "output_type": "execute_result"
    }
   ],
   "source": [
    "test_label.shape"
   ]
  },
  {
   "cell_type": "code",
   "execution_count": 21,
   "id": "b3e0c133",
   "metadata": {},
   "outputs": [
    {
     "data": {
      "text/plain": [
       "array([[1.2247845, 1.5154438, 1.3221676, 1.274992 , 1.1685416, 1.4295312,\n",
       "        1.2377837, 1.1863742, 1.4778742, 1.260326 , 1.3374432, 1.575541 ,\n",
       "        1.5100766, 1.4245263, 1.16388  , 1.4151987, 1.3442513, 1.4745604,\n",
       "        1.5846196, 1.1529205, 1.5972168, 1.3592833, 1.5537894, 1.7753868,\n",
       "        1.6244694]], dtype=float32)"
      ]
     },
     "execution_count": 21,
     "metadata": {},
     "output_type": "execute_result"
    }
   ],
   "source": [
    "y_hat"
   ]
  },
  {
   "cell_type": "code",
   "execution_count": 22,
   "id": "e37311d1",
   "metadata": {},
   "outputs": [
    {
     "data": {
      "text/plain": [
       "(1, 25)"
      ]
     },
     "execution_count": 22,
     "metadata": {},
     "output_type": "execute_result"
    }
   ],
   "source": [
    "y_hat.shape"
   ]
  },
  {
   "cell_type": "code",
   "execution_count": 23,
   "id": "ad0f0285",
   "metadata": {},
   "outputs": [],
   "source": [
    "y_hat = y_hat.reshape(y_hat.shape[1], 1)"
   ]
  },
  {
   "cell_type": "code",
   "execution_count": 24,
   "id": "69ea1f6f",
   "metadata": {},
   "outputs": [],
   "source": [
    "y_hat = (y_hat*data_std)+data_mean"
   ]
  },
  {
   "cell_type": "code",
   "execution_count": 25,
   "id": "702f2214",
   "metadata": {},
   "outputs": [],
   "source": [
    "#print(scaler.data_max_)"
   ]
  },
  {
   "cell_type": "code",
   "execution_count": 26,
   "id": "1ca1a387",
   "metadata": {},
   "outputs": [],
   "source": [
    "#print(scaler.data_min_)"
   ]
  },
  {
   "cell_type": "code",
   "execution_count": 27,
   "id": "5e40982b",
   "metadata": {},
   "outputs": [],
   "source": [
    "#y_hat = y_hat * (scaler.data_max_[1]-scaler.data_min_[1]) + scaler.data_min_[1]"
   ]
  },
  {
   "cell_type": "code",
   "execution_count": 28,
   "id": "902bb0d7",
   "metadata": {},
   "outputs": [
    {
     "data": {
      "text/plain": [
       "Text(0.5, 1.0, 'RNN prediction')"
      ]
     },
     "execution_count": 28,
     "metadata": {},
     "output_type": "execute_result"
    },
    {
     "data": {
      "image/png": "[encoded data removed]",
      "text/plain": [
       "<Figure size 1008x576 with 1 Axes>"
      ]
     },
     "metadata": {
      "needs_background": "light"
     },
     "output_type": "display_data"
    }
   ],
   "source": [
    "import matplotlib.pyplot as plt\n",
    "\n",
    "x = range(325)\n",
    "plt.figure(figsize=(14,8))\n",
    "plt.plot(df[300:325]['Sales'], label='original')\n",
    "plt.plot(x[300:325], y_hat, label='prediction')\n",
    "plt.legend()\n",
    "plt.xlabel('Sequence', fontsize=20)\n",
    "plt.ylabel('Sales', fontsize=20)\n",
    "plt.title('RNN prediction', fontsize=25)"
   ]
  },
  {
   "cell_type": "code",
   "execution_count": 29,
   "id": "051887d3",
   "metadata": {
    "scrolled": true
   },
   "outputs": [
    {
     "name": "stdout",
     "output_type": "stream",
     "text": [
      "1/1 [==============================] - 0s 26ms/step - loss: 0.4803 - mae: 0.6025\n"
     ]
    },
    {
     "data": {
      "text/plain": [
       "[0.4803449213504791, 0.6025326251983643]"
      ]
     },
     "execution_count": 29,
     "metadata": {},
     "output_type": "execute_result"
    }
   ],
   "source": [
    "model.evaluate(test_input, test_label)"
   ]
  },
  {
   "cell_type": "code",
   "execution_count": null,
   "id": "2819448e",
   "metadata": {},
   "outputs": [],
   "source": []
  }
 ],
 "metadata": {
  "kernelspec": {
   "display_name": "Python 3 (ipykernel)",
   "language": "python",
   "name": "python3"
  },
  "language_info": {
   "codemirror_mode": {
    "name": "ipython",
    "version": 3
   },
   "file_extension": ".py",
   "mimetype": "text/x-python",
   "name": "python",
   "nbconvert_exporter": "python",
   "pygments_lexer": "ipython3",
   "version": "3.9.12"
  }
 },
 "nbformat": 4,
 "nbformat_minor": 5
}
