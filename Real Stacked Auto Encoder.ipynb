{
 "cells": [
  {
   "cell_type": "code",
   "execution_count": 1,
   "id": "ce903bed",
   "metadata": {},
   "outputs": [],
   "source": [
    "import numpy as np\n",
    "from keras.models import *\n",
    "from keras.layers import *\n",
    "from keras.optimizers import *\n",
    "from keras.callbacks import *\n",
    "from keras.datasets import mnist\n",
    "import keras.backend as K\n",
    "import matplotlib.pyplot as plt\n",
    "\n",
    "K.set_image_data_format('channels_last')"
   ]
  },
  {
   "cell_type": "code",
   "execution_count": 1,
   "id": "3f87594c",
   "metadata": {},
   "outputs": [
    {
     "ename": "NameError",
     "evalue": "name 'mnist' is not defined",
     "output_type": "error",
     "traceback": [
      "\u001b[1;31m---------------------------------------------------------------------------\u001b[0m",
      "\u001b[1;31mNameError\u001b[0m                                 Traceback (most recent call last)",
      "Input \u001b[1;32mIn [1]\u001b[0m, in \u001b[0;36m<cell line: 2>\u001b[1;34m()\u001b[0m\n\u001b[0;32m      1\u001b[0m \u001b[38;5;66;03m# Load MNIST dataset\u001b[39;00m\n\u001b[1;32m----> 2\u001b[0m (x_train, y_train), (x_test, y_test) \u001b[38;5;241m=\u001b[39m \u001b[43mmnist\u001b[49m\u001b[38;5;241m.\u001b[39mload_data()\n\u001b[0;32m      3\u001b[0m x_train \u001b[38;5;241m=\u001b[39m x_train\u001b[38;5;241m.\u001b[39mastype(\u001b[38;5;124m'\u001b[39m\u001b[38;5;124mfloat32\u001b[39m\u001b[38;5;124m'\u001b[39m) \u001b[38;5;241m/\u001b[39m \u001b[38;5;241m255.0\u001b[39m\n\u001b[0;32m      4\u001b[0m x_test \u001b[38;5;241m=\u001b[39m x_test\u001b[38;5;241m.\u001b[39mastype(\u001b[38;5;124m'\u001b[39m\u001b[38;5;124mfloat32\u001b[39m\u001b[38;5;124m'\u001b[39m) \u001b[38;5;241m/\u001b[39m \u001b[38;5;241m255.0\u001b[39m\n",
      "\u001b[1;31mNameError\u001b[0m: name 'mnist' is not defined"
     ]
    }
   ],
   "source": [
    "# Load MNIST dataset\n",
    "(x_train, y_train), (x_test, y_test) = mnist.load_data()\n",
    "x_train = x_train.astype('float32') / 255.0\n",
    "x_test = x_test.astype('float32') / 255.0\n",
    "print('x_train.shape : ', x_train.shape)\n",
    "print('x_test.shape : ', x_test.shape)\n",
    "\n",
    "x_train = x_train.reshape(-1, 28, 28, 1)\n",
    "x_test = x_test.reshape(-1, 28, 28, 1)\n",
    "print('x_train.reshape : ', x_train.shape)\n",
    "print('x_test.reshape : ', x_test.shape)"
   ]
  },
  {
   "cell_type": "code",
   "execution_count": 3,
   "id": "021f4846",
   "metadata": {},
   "outputs": [
    {
     "name": "stdout",
     "output_type": "stream",
     "text": [
      "Model: \"Outter-Auto-Encoder\"\n",
      "_________________________________________________________________\n",
      " Layer (type)                Output Shape              Param #   \n",
      "=================================================================\n",
      " input_1 (InputLayer)        [(None, 784)]             0         \n",
      "                                                                 \n",
      " dense (Dense)               (None, 512)               401920    \n",
      "                                                                 \n",
      " dense_1 (Dense)             (None, 784)               402192    \n",
      "                                                                 \n",
      "=================================================================\n",
      "Total params: 804,112\n",
      "Trainable params: 804,112\n",
      "Non-trainable params: 0\n",
      "_________________________________________________________________\n"
     ]
    }
   ],
   "source": [
    "inputs = Input(784)\n",
    "\n",
    "hidden1 = Dense(512, activation = 'relu')(inputs)\n",
    "\n",
    "outputs = Dense(784, activation = 'relu')(hidden1)\n",
    "\n",
    "ae_1 = Model(inputs, outputs, name='Outter-Auto-Encoder')\n",
    "ae_1.summary()"
   ]
  },
  {
   "cell_type": "code",
   "execution_count": 4,
   "id": "390d8c86",
   "metadata": {
    "scrolled": true
   },
   "outputs": [
    {
     "name": "stdout",
     "output_type": "stream",
     "text": [
      "Epoch 1/30\n",
      "480/480 [==============================] - 1s 2ms/step - loss: 0.0115 - val_loss: 0.0051\n",
      "Epoch 2/30\n",
      "480/480 [==============================] - 1s 2ms/step - loss: 0.0046 - val_loss: 0.0041\n",
      "Epoch 3/30\n",
      "480/480 [==============================] - 1s 1ms/step - loss: 0.0039 - val_loss: 0.0038\n",
      "Epoch 4/30\n",
      "480/480 [==============================] - 1s 1ms/step - loss: 0.0037 - val_loss: 0.0036\n",
      "Epoch 5/30\n",
      "480/480 [==============================] - 1s 1ms/step - loss: 0.0035 - val_loss: 0.0034\n",
      "Epoch 6/30\n",
      "480/480 [==============================] - 1s 1ms/step - loss: 0.0035 - val_loss: 0.0034\n",
      "Epoch 7/30\n",
      "480/480 [==============================] - 1s 1ms/step - loss: 0.0034 - val_loss: 0.0033\n",
      "Epoch 8/30\n",
      "480/480 [==============================] - 1s 2ms/step - loss: 0.0034 - val_loss: 0.0035\n",
      "Epoch 9/30\n",
      "480/480 [==============================] - 1s 2ms/step - loss: 0.0034 - val_loss: 0.0035\n",
      "Epoch 10/30\n",
      "480/480 [==============================] - 1s 2ms/step - loss: 0.0034 - val_loss: 0.0033\n",
      "Epoch 11/30\n",
      "480/480 [==============================] - 1s 2ms/step - loss: 0.0033 - val_loss: 0.0033\n",
      "Epoch 12/30\n",
      "480/480 [==============================] - 1s 1ms/step - loss: 0.0033 - val_loss: 0.0033\n",
      "Epoch 13/30\n",
      "480/480 [==============================] - 1s 1ms/step - loss: 0.0033 - val_loss: 0.0033\n",
      "Epoch 14/30\n",
      "480/480 [==============================] - 1s 2ms/step - loss: 0.0033 - val_loss: 0.0033\n",
      "Epoch 15/30\n",
      "480/480 [==============================] - 1s 1ms/step - loss: 0.0033 - val_loss: 0.0033\n",
      "Epoch 16/30\n",
      "480/480 [==============================] - 1s 2ms/step - loss: 0.0033 - val_loss: 0.0033\n",
      "Epoch 17/30\n",
      "480/480 [==============================] - 1s 1ms/step - loss: 0.0033 - val_loss: 0.0033\n",
      "Epoch 18/30\n",
      "480/480 [==============================] - 1s 2ms/step - loss: 0.0033 - val_loss: 0.0034\n",
      "Epoch 19/30\n",
      "480/480 [==============================] - 1s 1ms/step - loss: 0.0033 - val_loss: 0.0032\n",
      "Epoch 20/30\n",
      "480/480 [==============================] - 1s 1ms/step - loss: 0.0033 - val_loss: 0.0033\n",
      "Epoch 21/30\n",
      "480/480 [==============================] - 1s 1ms/step - loss: 0.0033 - val_loss: 0.0032\n",
      "Epoch 22/30\n",
      "480/480 [==============================] - 1s 2ms/step - loss: 0.0033 - val_loss: 0.0032\n",
      "Epoch 23/30\n",
      "480/480 [==============================] - 1s 1ms/step - loss: 0.0033 - val_loss: 0.0033\n",
      "Epoch 24/30\n",
      "480/480 [==============================] - 1s 2ms/step - loss: 0.0033 - val_loss: 0.0033\n",
      "Epoch 25/30\n",
      "480/480 [==============================] - 1s 2ms/step - loss: 0.0033 - val_loss: 0.0033\n",
      "Epoch 26/30\n",
      "480/480 [==============================] - 1s 1ms/step - loss: 0.0033 - val_loss: 0.0032\n",
      "Epoch 27/30\n",
      "480/480 [==============================] - 1s 1ms/step - loss: 0.0033 - val_loss: 0.0033\n",
      "Epoch 28/30\n",
      "480/480 [==============================] - 1s 2ms/step - loss: 0.0033 - val_loss: 0.0033\n",
      "Epoch 29/30\n",
      "480/480 [==============================] - 1s 2ms/step - loss: 0.0033 - val_loss: 0.0033\n",
      "Epoch 30/30\n",
      "480/480 [==============================] - 1s 2ms/step - loss: 0.0033 - val_loss: 0.0033\n"
     ]
    }
   ],
   "source": [
    "ae_1.compile(optimizer='adam', loss='mse')\n",
    "history = ae_1.fit(x_train, x_train, validation_split=0.2, batch_size=100, epochs=30, verbose=1)"
   ]
  },
  {
   "cell_type": "code",
   "execution_count": 6,
   "id": "997770ee",
   "metadata": {},
   "outputs": [
    {
     "data": {
      "text/plain": [
       "<matplotlib.legend.Legend at 0x1ac2eb9e4f0>"
      ]
     },
     "execution_count": 6,
     "metadata": {},
     "output_type": "execute_result"
    },
    {
     "data": {
      "image/png": "[encoded data removed]",
      "text/plain": [
       "<Figure size 432x288 with 1 Axes>"
      ]
     },
     "metadata": {
      "needs_background": "light"
     },
     "output_type": "display_data"
    }
   ],
   "source": [
    "plt.plot(history.history['loss'])\n",
    "plt.plot(history.history['val_loss'])\n",
    "plt.title('Train Loss')\n",
    "plt.xlabel('Epoch')\n",
    "plt.ylabel('Loss')\n",
    "plt.legend(['Train', 'Val'], loc='upper right')"
   ]
  },
  {
   "cell_type": "code",
   "execution_count": 7,
   "id": "f64c5a14",
   "metadata": {},
   "outputs": [
    {
     "name": "stdout",
     "output_type": "stream",
     "text": [
      "Model: \"Inner-Auto-Encoder\"\n",
      "_________________________________________________________________\n",
      " Layer (type)                Output Shape              Param #   \n",
      "=================================================================\n",
      " input_2 (InputLayer)        [(None, 512)]             0         \n",
      "                                                                 \n",
      " dense_2 (Dense)             (None, 256)               131328    \n",
      "                                                                 \n",
      " dense_3 (Dense)             (None, 512)               131584    \n",
      "                                                                 \n",
      "=================================================================\n",
      "Total params: 262,912\n",
      "Trainable params: 262,912\n",
      "Non-trainable params: 0\n",
      "_________________________________________________________________\n"
     ]
    }
   ],
   "source": [
    "inputs2 = Input(512)\n",
    "\n",
    "hidden2 = Dense(256, activation='relu')(inputs2)\n",
    "\n",
    "hidden3 = Dense(512, activation='relu')(hidden2)\n",
    "\n",
    "ae_2 = Model(inputs2, hidden3, name='Inner-Auto-Encoder')\n",
    "ae_2.summary()"
   ]
  },
  {
   "cell_type": "code",
   "execution_count": 8,
   "id": "307a08ec",
   "metadata": {},
   "outputs": [
    {
     "name": "stdout",
     "output_type": "stream",
     "text": [
      "1875/1875 [==============================] - 1s 492us/step\n",
      "(60000, 512)\n"
     ]
    }
   ],
   "source": [
    "encoded = Model(inputs, hidden1, name='first-layer-code')\n",
    "\n",
    "encoded_code = encoded.predict(x_train)\n",
    "print(encoded_code.shape)"
   ]
  },
  {
   "cell_type": "code",
   "execution_count": 9,
   "id": "9807f941",
   "metadata": {
    "scrolled": true
   },
   "outputs": [
    {
     "name": "stdout",
     "output_type": "stream",
     "text": [
      "Epoch 1/30\n",
      "480/480 [==============================] - 1s 2ms/step - loss: 0.0400 - val_loss: 0.0222\n",
      "Epoch 2/30\n",
      "480/480 [==============================] - 1s 1ms/step - loss: 0.0189 - val_loss: 0.0162\n",
      "Epoch 3/30\n",
      "480/480 [==============================] - 1s 2ms/step - loss: 0.0151 - val_loss: 0.0143\n",
      "Epoch 4/30\n",
      "480/480 [==============================] - 1s 2ms/step - loss: 0.0138 - val_loss: 0.0134\n",
      "Epoch 5/30\n",
      "480/480 [==============================] - 1s 2ms/step - loss: 0.0132 - val_loss: 0.0129\n",
      "Epoch 6/30\n",
      "480/480 [==============================] - 1s 2ms/step - loss: 0.0129 - val_loss: 0.0128\n",
      "Epoch 7/30\n",
      "480/480 [==============================] - 1s 2ms/step - loss: 0.0128 - val_loss: 0.0127\n",
      "Epoch 8/30\n",
      "480/480 [==============================] - 1s 2ms/step - loss: 0.0127 - val_loss: 0.0127\n",
      "Epoch 9/30\n",
      "480/480 [==============================] - 1s 1ms/step - loss: 0.0127 - val_loss: 0.0125\n",
      "Epoch 10/30\n",
      "480/480 [==============================] - 1s 2ms/step - loss: 0.0126 - val_loss: 0.0125\n",
      "Epoch 11/30\n",
      "480/480 [==============================] - 1s 1ms/step - loss: 0.0126 - val_loss: 0.0125\n",
      "Epoch 12/30\n",
      "480/480 [==============================] - 1s 1ms/step - loss: 0.0125 - val_loss: 0.0123\n",
      "Epoch 13/30\n",
      "480/480 [==============================] - 1s 1ms/step - loss: 0.0124 - val_loss: 0.0123\n",
      "Epoch 14/30\n",
      "480/480 [==============================] - 1s 1ms/step - loss: 0.0124 - val_loss: 0.0123\n",
      "Epoch 15/30\n",
      "480/480 [==============================] - 1s 1ms/step - loss: 0.0124 - val_loss: 0.0123\n",
      "Epoch 16/30\n",
      "480/480 [==============================] - 1s 1ms/step - loss: 0.0124 - val_loss: 0.0123\n",
      "Epoch 17/30\n",
      "480/480 [==============================] - 1s 2ms/step - loss: 0.0123 - val_loss: 0.0122\n",
      "Epoch 18/30\n",
      "480/480 [==============================] - 1s 2ms/step - loss: 0.0123 - val_loss: 0.0122\n",
      "Epoch 19/30\n",
      "480/480 [==============================] - 1s 2ms/step - loss: 0.0123 - val_loss: 0.0123\n",
      "Epoch 20/30\n",
      "480/480 [==============================] - 1s 2ms/step - loss: 0.0123 - val_loss: 0.0123\n",
      "Epoch 21/30\n",
      "480/480 [==============================] - 1s 1ms/step - loss: 0.0123 - val_loss: 0.0122\n",
      "Epoch 22/30\n",
      "480/480 [==============================] - 1s 2ms/step - loss: 0.0123 - val_loss: 0.0123\n",
      "Epoch 23/30\n",
      "480/480 [==============================] - 1s 2ms/step - loss: 0.0123 - val_loss: 0.0122\n",
      "Epoch 24/30\n",
      "480/480 [==============================] - 1s 1ms/step - loss: 0.0123 - val_loss: 0.0122\n",
      "Epoch 25/30\n",
      "480/480 [==============================] - 1s 1ms/step - loss: 0.0123 - val_loss: 0.0122\n",
      "Epoch 26/30\n",
      "480/480 [==============================] - 1s 2ms/step - loss: 0.0123 - val_loss: 0.0122\n",
      "Epoch 27/30\n",
      "480/480 [==============================] - 1s 1ms/step - loss: 0.0123 - val_loss: 0.0123\n",
      "Epoch 28/30\n",
      "480/480 [==============================] - 1s 1ms/step - loss: 0.0123 - val_loss: 0.0122\n",
      "Epoch 29/30\n",
      "480/480 [==============================] - 1s 2ms/step - loss: 0.0123 - val_loss: 0.0123\n",
      "Epoch 30/30\n",
      "480/480 [==============================] - 1s 2ms/step - loss: 0.0123 - val_loss: 0.0122\n"
     ]
    }
   ],
   "source": [
    "ae_2.compile(optimizer='adam', loss='mse')\n",
    "history2 = ae_2.fit(encoded_code, encoded_code, validation_split=0.2, batch_size=100, epochs=30, verbose=1)"
   ]
  },
  {
   "cell_type": "code",
   "execution_count": 10,
   "id": "c94f8aa2",
   "metadata": {},
   "outputs": [
    {
     "name": "stdout",
     "output_type": "stream",
     "text": [
      "1875/1875 [==============================] - 1s 529us/step\n"
     ]
    },
    {
     "data": {
      "text/plain": [
       "(60000, 512)"
      ]
     },
     "execution_count": 10,
     "metadata": {},
     "output_type": "execute_result"
    }
   ],
   "source": [
    "predictions = ae_2.predict(encoded_code)\n",
    "predictions.shape"
   ]
  },
  {
   "cell_type": "code",
   "execution_count": 11,
   "id": "d4b19851",
   "metadata": {},
   "outputs": [
    {
     "data": {
      "text/plain": [
       "<matplotlib.legend.Legend at 0x1ac67a55730>"
      ]
     },
     "execution_count": 11,
     "metadata": {},
     "output_type": "execute_result"
    },
    {
     "data": {
      "image/png": "[encoded data removed]",
      "text/plain": [
       "<Figure size 432x288 with 1 Axes>"
      ]
     },
     "metadata": {
      "needs_background": "light"
     },
     "output_type": "display_data"
    }
   ],
   "source": [
    "plt.plot(history2.history['loss'])\n",
    "plt.plot(history2.history['val_loss'])\n",
    "plt.title('Train Loss')\n",
    "plt.xlabel('Epoch')\n",
    "plt.ylabel('Loss')\n",
    "plt.legend(['Train', 'Val'], loc='upper right')"
   ]
  },
  {
   "cell_type": "code",
   "execution_count": 12,
   "id": "d4cd4948",
   "metadata": {},
   "outputs": [
    {
     "name": "stdout",
     "output_type": "stream",
     "text": [
      "1875/1875 [==============================] - 1s 569us/step\n"
     ]
    },
    {
     "data": {
      "text/plain": [
       "(60000, 784)"
      ]
     },
     "execution_count": 12,
     "metadata": {},
     "output_type": "execute_result"
    }
   ],
   "source": [
    "input_img = Input(784)\n",
    "copy_hidden1 = Dense(512, activation='relu')(input_img)\n",
    "copy_hidden2 = Dense(256, activation='relu')(copy_hidden1)\n",
    "copy_hidden3 = Dense(512, activation='relu')(copy_hidden2)\n",
    "decoded_img = Dense(784, activation='relu')(copy_hidden3)\n",
    "\n",
    "AE = Model(inputs=input_img, outputs=decoded_img)\n",
    "\n",
    "AE.layers[1].set_weights(ae_1.layers[1].get_weights())\n",
    "AE.layers[2].set_weights(ae_2.layers[1].get_weights())\n",
    "AE.layers[3].set_weights(ae_2.layers[2].get_weights())\n",
    "AE.layers[4].set_weights(ae_1.layers[2].get_weights())\n",
    "\n",
    "decoded_img = AE.predict(x_train)\n",
    "decoded_img.shape"
   ]
  },
  {
   "cell_type": "code",
   "execution_count": 13,
   "id": "e5be5d5b",
   "metadata": {},
   "outputs": [
    {
     "data": {
      "text/plain": [
       "<matplotlib.image.AxesImage at 0x1b1e4a3dfa0>"
      ]
     },
     "execution_count": 13,
     "metadata": {},
     "output_type": "execute_result"
    },
    {
     "data": {
      "image/png": "[encoded data removed]",
      "text/plain": [
       "<Figure size 576x576 with 3 Axes>"
      ]
     },
     "metadata": {
      "needs_background": "light"
     },
     "output_type": "display_data"
    }
   ],
   "source": [
    "fig = plt.figure(figsize = (8, 8))\n",
    "\n",
    "ax1 = fig.add_subplot(234)\n",
    "plt.imshow(decoded_img[2].reshape(28, 28), cmap='gray')\n",
    "\n",
    "ax2 = fig.add_subplot(235)\n",
    "plt.imshow(decoded_img[6].reshape(28, 28), cmap='gray')\n",
    "\n",
    "ax3 = fig.add_subplot(236)\n",
    "plt.imshow(decoded_img[4].reshape(28, 28), cmap='gray')"
   ]
  },
  {
   "cell_type": "code",
   "execution_count": null,
   "id": "dca376d0",
   "metadata": {},
   "outputs": [],
   "source": []
  }
 ],
 "metadata": {
  "kernelspec": {
   "display_name": "Python 3 (ipykernel)",
   "language": "python",
   "name": "python3"
  },
  "language_info": {
   "codemirror_mode": {
    "name": "ipython",
    "version": 3
   },
   "file_extension": ".py",
   "mimetype": "text/x-python",
   "name": "python",
   "nbconvert_exporter": "python",
   "pygments_lexer": "ipython3",
   "version": "3.9.12"
  }
 },
 "nbformat": 4,
 "nbformat_minor": 5
}
